{
 "cells": [
  {
   "cell_type": "markdown",
   "metadata": {},
   "source": [
    "# Abstraction and Encapsulation"
   ]
  },
  {
   "cell_type": "markdown",
   "metadata": {},
   "source": [
    "In the previous lesson we learnt how to separate concerns using functions and classes. However, each of these separations create new levels of granularity that might be difficult to handle when your project becomes larger.\n",
    "\n",
    "We saw how to download images of animals, however, once we get those images, we might want to clean them, or use them to train a model. Implementing methods in the same class for including a model might be confusing, after all, the class was responsible solely for downloading the images. For those cases, we can include more levels of granularity."
   ]
  },
  {
   "cell_type": "markdown",
   "metadata": {},
   "source": [
    "# Abstraction"
   ]
  },
  {
   "cell_type": "markdown",
   "metadata": {},
   "source": [
    "The term abstract in programming is very similar to the concept of abstract in art: extracting certain ideas and removing the specifics of it. When you browse a webpage, you don't worry about the intricacies of what your browser is doing, you just look at the layout _(the main idea)_, and strip the specifics _(the work behind it)_. In other words, data abstraction is like a black box.\n",
    "\n",
    "> ### Abstraction allows to hide the internal details of the code, showing just the basic functionalities\n",
    "\n",
    "<sub>We already saw abstract classes, don't confuse data abstraction (black boxes) and class abstraction (forcing a subclass to have a specific method). Abstract classes might help with the separation of concerns, but they are different topics.</sup>\n"
   ]
  },
  {
   "cell_type": "markdown",
   "metadata": {},
   "source": [
    "Let's see an example\n",
    "\n",
    "The image below shows the functions (or methods) used to download animal images\n",
    "\n",
    "![](images/AnimalScraper.png)"
   ]
  },
  {
   "cell_type": "markdown",
   "metadata": {},
   "source": [
    "Imagine that now we need to clean the images: using the same size, they all have 3 channels (RGB), and the pixels are normalized (values are between 0 and +1). Of course, we could simply add these steps to the right hand side of the graph, but they are not part of the scraper anymore. Entering Abstraction.\n",
    "\n",
    "We can apply abstraction to bundle different functions that we know are going to have a specific behaviour. The gathered functions are going to be accept certain type input(s) and it will return certain type of output(s). This means that if you find a bug, or you want to tweak a function inside the functions, you can vary it without worrying that the type of the output will change.\n",
    "\n",
    "In this example, the AnimalScraper class shouldn't be concerned with the ImageCleaner, however, its output will affect ImageCleaner. Thus, we can _'abstract'_ AnimalScraper, so we 'forget' about its intricacies. If we need to change anything inside AnimalScraper, we can do it without changing ImageCleaner\n",
    "\n",
    "![](images/AnimalScraper_Cleaned.png)"
   ]
  },
  {
   "cell_type": "markdown",
   "metadata": {},
   "source": [
    "As you keep adding code to your project, you will add more behaviour to it. When implementing abstraction, you can think of your code as an ogre: it has many layers (or think about it as an onion if you don't get the reference). Low-level layers will involve small concerns, and being in higher-level layers doesn't mean that the specific layer added larger functionalities, but it means it is involving more concerns\n",
    "\n",
    "<p align=center><img src=images/Layers.png width=500></p>\n",
    "\n"
   ]
  },
  {
   "cell_type": "markdown",
   "metadata": {},
   "source": [
    "Small concerns (Animal Scraper) is going to be used over and over, so we should design it in a way that it has to change infrequently. DataLoader or ModelTrain on the other hand might vary because we need to obtain different models. \n",
    "\n",
    "When you have a long code, it might be difficult to traceback an error showing a poor maintainability. Abstraction can solve this by allowing us to pinpoint the error."
   ]
  },
  {
   "cell_type": "markdown",
   "metadata": {},
   "source": [
    "# Encapsulation"
   ]
  },
  {
   "cell_type": "markdown",
   "metadata": {},
   "source": [
    "Another very useful practice in OOP is _Encapsulation_. Encapsulation is the process of wrapping (or __encapsulating__) similar concerns AND data into a larger construct. Very often you will see abstraction and encapsulation back to back, the difference is that abstraction shows the main functionality of certain pieces of code without worrying about its internal structure, whereas encapsulation consists on taking related functionalities and group them together into a larger construct. \n",
    "\n",
    "> <font size=+1> __Encapsulation__ is the procedure of bundling related functionalities together into a larger construct </font>\n",
    "\n"
   ]
  },
  {
   "cell_type": "markdown",
   "metadata": {},
   "source": [
    "Abstraction and Encapsulation are often confused, and the first time you see these terms, they looks almost the same. However, let's see an example to understand the differences. We saw the AnimalScraper class, and that class was abstracted from the rest of the code. At first glance, this also looks like encapsulation, since after all we are bundling together a bunch of methods. However, the keyword here is the word _related_. \n",
    "\n",
    "AnimalScraper grouped together some methods, but at a closer look, these methods are only related in the sense that they together form a pipeline (a series of steps). Nevertheless, _related_ methods don't necessarily have to be working in tandem. They can work separately, and then we orchestrate them using encapsulation.\n",
    "\n",
    "Let's define two new functions: get_taxonomy and get_class. \n",
    "\n",
    "1. get_taxonomy will obtain a list of zoological synonyms (so you might find that animal in another webpage using a different name)\n",
    "2. get_class will obtain the animal class (mammalia, birds, amphibious, reptiles or fish)"
   ]
  },
  {
   "cell_type": "markdown",
   "metadata": {},
   "source": []
  },
  {
   "cell_type": "code",
   "execution_count": 57,
   "metadata": {},
   "outputs": [
    {
     "name": "stdout",
     "output_type": "stream",
     "text": [
      "Mammalia\n",
      "<class 'str'>\n",
      "<class 'bs4.BeautifulSoup'>\n",
      "['Lipurus cinereus', 'Marodactylus cinereus', 'Phascolarctos fuscus', 'Phascolarctos flindersii', 'Phascolarctos koala', 'Koala subiens']\n"
     ]
    }
   ],
   "source": [
    "import re\n",
    "import requests\n",
    "from typing import List\n",
    "from bs4 import BeautifulSoup\n",
    "\n",
    "def get_class(animal:str) -> str:\n",
    "    ROOT = 'https://en.wikipedia.org/wiki/'\n",
    "    r = requests.get(ROOT + animal)\n",
    "    soup = BeautifulSoup(r.content, 'html.parser')\n",
    "    class_row = soup.find('td', text = re.compile('Class:'))\n",
    "    animal_class = class_row.find_next_sibling().text.strip()\n",
    "    return animal_class\n",
    "\n",
    "def get_taxonomy(animal:str) -> List:\n",
    "    ROOT = 'https://en.wikipedia.org/wiki/'\n",
    "    r = requests.get(ROOT + animal)\n",
    "    print(type(r.text))\n",
    "    soup = BeautifulSoup(r.content, 'html.parser')\n",
    "    print(type(soup))\n",
    "    syn_text = soup.find('a', text = re.compile('Synonyms'))\n",
    "    if syn_text:\n",
    "        syn_header = syn_text.find_parent('tr')\n",
    "        syn_table = syn_header.find_next_sibling()\n",
    "        contents = syn_table.find_all('i')\n",
    "        if contents:\n",
    "            contents = [x.text for x in contents]\n",
    "            return contents\n",
    "    else:\n",
    "        return []\n",
    "\n",
    "print(get_class('koala'))\n",
    "print(get_taxonomy('koala'))\n"
   ]
  },
  {
   "cell_type": "markdown",
   "metadata": {},
   "source": [
    "Notice that these functions are independent one from another, but their concerns are in the same field (extracting information about the animal). Thus, we could bundle them together under the same class, so next time we need information about an animal, we can go to that class and use the corresponding method."
   ]
  },
  {
   "cell_type": "code",
   "execution_count": 5,
   "metadata": {},
   "outputs": [],
   "source": [
    "class AnimalReporter:\n",
    "   \n",
    "    def __init__(self, animal: str):\n",
    "        self.animal = animal\n",
    "    \n",
    "    def _say_hello_protected(self):\n",
    "        print('Hi, Im a protected method')\n",
    "    \n",
    "    def say_hello_public(self):\n",
    "        print('Hi, Im a public method')\n",
    "        self._say_hello_priv()\n",
    "\n",
    "    def get_class(self) -> str:\n",
    "        ROOT = 'https://en.wikipedia.org/wiki/'\n",
    "        r = requests.get(ROOT + self.animal)\n",
    "        soup = BeautifulSoup(r.content, 'html.parser')\n",
    "        class_row = soup.find('td', text = re.compile('Class:'))\n",
    "        animal_class = class_row.find_next_sibling().text.strip()\n",
    "        return animal_class\n",
    "    \n",
    "    def get_taxonomy(self):\n",
    "        ROOT = 'https://en.wikipedia.org/wiki/'\n",
    "        r = requests.get(ROOT + self.animal)\n",
    "        soup = BeautifulSoup(r.content, 'html.parser')\n",
    "        syn_text = soup.find('a', text = re.compile('Synonyms'))\n",
    "        if syn_text:\n",
    "            syn_header = syn_text.find_parent('tr')\n",
    "            syn_table = syn_header.find_next_sibling()\n",
    "            contents = syn_table.find_all('i')\n",
    "            if contents:\n",
    "                contents = [x.text for x in contents]\n",
    "                return contents\n",
    "        else:\n",
    "            return []\n",
    "\n",
    "ar = AnimalReporter('koala')"
   ]
  },
  {
   "cell_type": "code",
   "execution_count": 6,
   "metadata": {},
   "outputs": [
    {
     "name": "stdout",
     "output_type": "stream",
     "text": [
      "Hi, Im a protected method\n"
     ]
    }
   ],
   "source": [
    "ar._say_hello_protected()"
   ]
  },
  {
   "cell_type": "markdown",
   "metadata": {},
   "source": [
    "Wait, why is there an underscore? One of the beautiful things of encapsulation is privacy. You will define protected variables and methods, so the user can't access to them. In Python this is not technically true, you can't have a protected method, but there is convention that if a method has a prefixed underscore, it means you shouldn't change that (they trust you not do it). These protected methods are (or should be) only accessible within the class, or the module as we will see later.\n",
    "\n",
    "If you want a higher level of privacy, you can define private methods by adding two underscores. This will make the attribute or the method unaccessible to the user, and the only way you can access to those is within the class.\n",
    "\n",
    "> <font size=+1>Encapsulation sets boundaries for your methods, so they are private and only accessible within the class or module</font>\n",
    "\n",
    "On the other hand, public methods are also called interface, because those are the methods that are going to be visible to the public. \n",
    "\n",
    "Think about encapsulation like building walls around your class. Private/protected methods will be within the walls, and public methods will be the gates for getting access to those private/protected methods\n",
    "\n",
    "Now, for real, it's your turn: _tip_: read the type hinting that I left to know what type of variables you should return"
   ]
  },
  {
   "cell_type": "code",
   "execution_count": 26,
   "metadata": {},
   "outputs": [
    {
     "data": {
      "text/plain": [
       "'Mammalia'"
      ]
     },
     "execution_count": 26,
     "metadata": {},
     "output_type": "execute_result"
    }
   ],
   "source": [
    "from bs4 import BeautifulSoup\n",
    "from typing import Union\n",
    "from typing import List\n",
    "import requests\n",
    "import re\n",
    "\n",
    "class AnimalReporter:\n",
    "    def __init__(self, animal: str):\n",
    "        self.animal = animal\n",
    "    \n",
    "    def _get_request(self) -> Union[bytes, str]:\n",
    "        ROOT = 'https://en.wikipedia.org/wiki/'\n",
    "        r = requests.get(ROOT + self.animal)\n",
    "        return r.text\n",
    "\n",
    "    def _get_soup(self, html: Union[bytes, str]) -> BeautifulSoup:\n",
    "        soup = BeautifulSoup(html, 'html.parser')\n",
    "        return soup\n",
    "        \n",
    "    def get_class(self) -> str:\n",
    "        html = self._get_request()\n",
    "        soup = self._get_soup(html)\n",
    "        class_row = soup.find('td', text = re.compile('Class:'))\n",
    "        animal_class = class_row.find_next_sibling().text.strip()\n",
    "        return animal_class\n",
    "    \n",
    "    def get_taxonomy(self) -> List:\n",
    "        html = self._get_request()\n",
    "        soup = self._get_soup(html)\n",
    "        syn_text = soup.find('a', text = re.compile('Synonyms'))\n",
    "        if syn_text:\n",
    "            syn_header = syn_text.find_parent('tr')\n",
    "            syn_table = syn_header.find_next_sibling()\n",
    "            contents = syn_table.find_all('i')\n",
    "            if contents:\n",
    "                contents = [x.text for x in contents]\n",
    "                return contents\n",
    "        else:\n",
    "            return []\n",
    "\n",
    "ar = AnimalReporter('koala')\n",
    "ar.get_class()"
   ]
  },
  {
   "cell_type": "markdown",
   "metadata": {},
   "source": [
    "# Abstraction and Encapsulation "
   ]
  },
  {
   "cell_type": "markdown",
   "metadata": {},
   "source": [
    "Now you have two classes, AnimalScraper and AnimalReporter, and they are related in the sense that if we need data about an animal we can go to one of them. However, grouping them into the same class would be quite inefficient and vague. Instead, we can use a module to gather them into a script. Modules are even higher-level than classes, and they are a type of encapsulation that group multiple related classes and functions together.\n",
    "\n",
    "> ### Modules are another type of encapsulation that bundles related functions or classes"
   ]
  },
  {
   "cell_type": "markdown",
   "metadata": {},
   "source": [
    "<p align=center><img src=images/animal_module.png width=400></p>\n",
    "\n",
    "Notice that we are using both abstraction and encapsulation for creating this module. Usually, abstraction and encapsulation work together by grouping related functionalities together and hiding the parts of it that don't matter to anyone else. This will allow to change the internal code rapidly without affecting the output"
   ]
  },
  {
   "cell_type": "markdown",
   "metadata": {},
   "source": [
    "If the difference is still not very clear, here is a table summarizing a comparison:\n",
    "\n",
    "<p align=center><img src=images/Abstraction_vs_Encapsulation.png width=400></p>"
   ]
  },
  {
   "cell_type": "markdown",
   "metadata": {},
   "source": [
    "# Summary\n",
    "\n",
    "- Abstraction is a tool to hide complexity, the user is not aware of the implementation details.\n",
    "- Encapsulation is a tool to group related functionalities together.\n"
   ]
  },
  {
   "cell_type": "markdown",
   "metadata": {},
   "source": [
    "# Practical"
   ]
  },
  {
   "cell_type": "markdown",
   "metadata": {},
   "source": [
    "## Mixin class for private methods\n",
    "1. Create a mixin class named AsDictMixin \n",
    "2. This class will be just inherited, so don't use a constructor for it\n",
    "3. You just need to define the following method: `to_dict(self)` which returns a `dict` representation of the object that inherits this mixin class.\n",
    "4. You might want to use the `__dict__` method, which returns a dictionary representation of an object.\n",
    "5. The class should look like this:"
   ]
  },
  {
   "cell_type": "code",
   "execution_count": null,
   "metadata": {},
   "outputs": [],
   "source": [
    "class AsDictMixin:\n",
    "    def to_dict(self):\n",
    "        ### Your code here\n",
    "        pass\n",
    "    def _represent(self, value):\n",
    "        if isinstance(value, object):\n",
    "            if hasattr(value, 'to_dict'):\n",
    "                return value.to_dict()\n",
    "            else:\n",
    "                return str(value)\n",
    "        else:\n",
    "            return value\n",
    "\n",
    "    def _is_internal(self, prop):\n",
    "        return prop.startswith('_')"
   ]
  },
  {
   "cell_type": "markdown",
   "metadata": {},
   "source": [
    "#### So when running the following code, the to_dict() method doesn't return private attributes."
   ]
  },
  {
   "cell_type": "markdown",
   "metadata": {},
   "source": [
    "```\n",
    "class Person(AsDictionaryMixin):\n",
    "    def __init__(self, name, address, salary):\n",
    "        self.name = name\n",
    "        self.address = address\n",
    "        self._salary = salary\n",
    "\n",
    "ivan = Person('Ivan', 'London', '100000000')\n",
    "ivan.to_dict()\n",
    "```"
   ]
  },
  {
   "cell_type": "markdown",
   "metadata": {},
   "source": [
    "{'name': 'Ivan', 'address': 'London'} (No salary is shown, because it's private)"
   ]
  },
  {
   "cell_type": "markdown",
   "metadata": {},
   "source": [
    "# Assessment\n",
    "\n",
    "### 1. Look information about modules, packages, and how they are organized (we will see more on this in next sections, so just read about them)\n",
    "### 2. How does encapsulation benefit from modules? \n",
    "### 3. How does encapsulation benefit from packages?"
   ]
  }
 ],
 "metadata": {
  "interpreter": {
   "hash": "66a4c1a82e4b740877da9482796a67c3d19e50649dddfb2985c1182127ae3fd0"
  },
  "kernelspec": {
   "display_name": "Python 3.8.11 64-bit ('base': conda)",
   "name": "python3"
  },
  "language_info": {
   "codemirror_mode": {
    "name": "ipython",
    "version": 3
   },
   "file_extension": ".py",
   "mimetype": "text/x-python",
   "name": "python",
   "nbconvert_exporter": "python",
   "pygments_lexer": "ipython3",
   "version": "3.8.11"
  },
  "orig_nbformat": 4
 },
 "nbformat": 4,
 "nbformat_minor": 2
}
