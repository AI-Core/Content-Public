{
 "cells": [
  {
   "cell_type": "markdown",
   "metadata": {},
   "source": [
    "# Docstring and Typing"
   ]
  },
  {
   "cell_type": "markdown",
   "metadata": {},
   "source": [
    "> ## If the Implementation is hard to explain, it's a bad idea.\n",
    "> ## If the Implementation is easy to explain, it may be a good idea.\n",
    "\n",
    "_[The Zen of Python](https://www.python.org/dev/peps/pep-0020/)_"
   ]
  },
  {
   "cell_type": "markdown",
   "metadata": {},
   "source": [
    "The Zen of Python is a set of eight short principles by Tim Peters. Even though it looks like an internal easter egg, it is actually a very important principle. In this paragraph, Tim Peters talks about the importance of how your implementation should be in terms of explanation and readability.\n",
    "\n",
    "One great way to realize your code is hard (or easy) to explain is by defining a docstring. Docstrings are a way to document your code. They are a way to explain your code to the user or to another developer. \n",
    "\n",
    "Thus, when you are writing your code, you should think about how you can explain your code to the user or to another developer. Is it hard to explain? Then, the implementation is a bad idea. Is it easy to explain? Good job!\n",
    "\n",
    "Another way to document your code is by strict documentation of your program, but we will see that later in this module.\n",
    "\n",
    "Apart from documentation, you should also think about the type of your variables. For example, if your function is intended to work with a list of numbers, then you can specify that in both the docstring and the function arguments."
   ]
  },
  {
   "cell_type": "markdown",
   "metadata": {},
   "source": [
    "Before moving on, run the following code to download a couple of scripts that will be necessary for the lesson"
   ]
  },
  {
   "cell_type": "code",
   "execution_count": null,
   "metadata": {},
   "outputs": [],
   "source": [
    "!wget \"https://aicore-files.s3.amazonaws.com/Foundations/Software_Engineering/spreadsheet_printer.py\" \"https://aicore-files.s3.amazonaws.com/Foundations/Software_Engineering/Date.py\""
   ]
  },
  {
   "cell_type": "markdown",
   "metadata": {},
   "source": [
    "# Docstrings"
   ]
  },
  {
   "cell_type": "markdown",
   "metadata": {},
   "source": [
    "> ## Code tells you how, comments tell you why."
   ]
  },
  {
   "cell_type": "markdown",
   "metadata": {},
   "source": [
    "By now, the code you have been working with should have comments on what a piece of code is doing. Commenting has many purposes:\n",
    "- Describing sections of your code\n",
    "- Use of algorithms that, by only seeing the code, might be difficult to notice\n",
    "- Tagging: Probably one of the most important, tagging is used to mark a section of the code (usually) as incomplete. Typical tags are BUG, FIXME, and (my favourite) TODO"
   ]
  },
  {
   "cell_type": "code",
   "execution_count": 1,
   "metadata": {},
   "outputs": [],
   "source": [
    "my_list = [1, 2, 3]\n",
    "# TODO: Check the length of this list \n",
    "length = 3\n",
    "# FIXME: Use the len() function\n",
    "length = len(my_list)\n"
   ]
  },
  {
   "cell_type": "markdown",
   "metadata": {},
   "source": [
    "Docstrings are another way to add comments, but they are more concrete and targeted to functions, methods, classes, modules, or even packages (as we will see later)\n",
    "\n",
    "Docstrings can be checked using the `__doc__` attribute, or using the help() built-in function"
   ]
  },
  {
   "cell_type": "code",
   "execution_count": 8,
   "metadata": {},
   "outputs": [
    {
     "name": "stdout",
     "output_type": "stream",
     "text": [
      "\n",
      "pandas - a powerful data analysis and manipulation library for Python\n",
      "=====================================================================\n",
      "\n",
      "**pandas** is a Python package providing fast, flexible, and expressive data\n",
      "structures designed to make working with \"relational\" or \"labeled\" data both\n",
      "easy and intuitive. It aims to be the fundamental high-level building block for\n",
      "doing practical, **real world** data analysis in Python. Additionally, it has\n",
      "the broader goal of becoming **the most powerful and flexible open source data\n",
      "analysis / manipulation tool available in any language**. It is already well on\n",
      "its way toward this goal.\n",
      "\n",
      "Main Features\n",
      "-------------\n",
      "Here are just a few of the things that pandas does well:\n",
      "\n",
      "  - Easy handling of missing data in floating point as well as non-floating\n",
      "    point data.\n",
      "  - Size mutability: columns can be inserted and deleted from DataFrame and\n",
      "    higher dimensional objects\n",
      "  - Automatic and explicit data alignment: objects can be explicitly aligned\n",
      "    to a set of labels, or the user can simply ignore the labels and let\n",
      "    `Series`, `DataFrame`, etc. automatically align the data for you in\n",
      "    computations.\n",
      "  - Powerful, flexible group by functionality to perform split-apply-combine\n",
      "    operations on data sets, for both aggregating and transforming data.\n",
      "  - Make it easy to convert ragged, differently-indexed data in other Python\n",
      "    and NumPy data structures into DataFrame objects.\n",
      "  - Intelligent label-based slicing, fancy indexing, and subsetting of large\n",
      "    data sets.\n",
      "  - Intuitive merging and joining data sets.\n",
      "  - Flexible reshaping and pivoting of data sets.\n",
      "  - Hierarchical labeling of axes (possible to have multiple labels per tick).\n",
      "  - Robust IO tools for loading data from flat files (CSV and delimited),\n",
      "    Excel files, databases, and saving/loading data from the ultrafast HDF5\n",
      "    format.\n",
      "  - Time series-specific functionality: date range generation and frequency\n",
      "    conversion, moving window statistics, date shifting and lagging.\n",
      "\n"
     ]
    }
   ],
   "source": [
    "import pandas as pd\n",
    "# help(pd)\n",
    "print(pd.__doc__)"
   ]
  },
  {
   "cell_type": "markdown",
   "metadata": {},
   "source": [
    "In this case, we saw the docstring of the pandas module, but you can also check docstrings of its methods"
   ]
  },
  {
   "cell_type": "code",
   "execution_count": 9,
   "metadata": {},
   "outputs": [
    {
     "name": "stdout",
     "output_type": "stream",
     "text": [
      "\n",
      "        Construct DataFrame from dict of array-like or dicts.\n",
      "\n",
      "        Creates DataFrame object from dictionary by columns or by index\n",
      "        allowing dtype specification.\n",
      "\n",
      "        Parameters\n",
      "        ----------\n",
      "        data : dict\n",
      "            Of the form {field : array-like} or {field : dict}.\n",
      "        orient : {'columns', 'index'}, default 'columns'\n",
      "            The \"orientation\" of the data. If the keys of the passed dict\n",
      "            should be the columns of the resulting DataFrame, pass 'columns'\n",
      "            (default). Otherwise if the keys should be rows, pass 'index'.\n",
      "        dtype : dtype, default None\n",
      "            Data type to force, otherwise infer.\n",
      "        columns : list, default None\n",
      "            Column labels to use when ``orient='index'``. Raises a ValueError\n",
      "            if used with ``orient='columns'``.\n",
      "\n",
      "        Returns\n",
      "        -------\n",
      "        DataFrame\n",
      "\n",
      "        See Also\n",
      "        --------\n",
      "        DataFrame.from_records : DataFrame from structured ndarray, sequence\n",
      "            of tuples or dicts, or DataFrame.\n",
      "        DataFrame : DataFrame object creation using constructor.\n",
      "\n",
      "        Examples\n",
      "        --------\n",
      "        By default the keys of the dict become the DataFrame columns:\n",
      "\n",
      "        >>> data = {'col_1': [3, 2, 1, 0], 'col_2': ['a', 'b', 'c', 'd']}\n",
      "        >>> pd.DataFrame.from_dict(data)\n",
      "           col_1 col_2\n",
      "        0      3     a\n",
      "        1      2     b\n",
      "        2      1     c\n",
      "        3      0     d\n",
      "\n",
      "        Specify ``orient='index'`` to create the DataFrame using dictionary\n",
      "        keys as rows:\n",
      "\n",
      "        >>> data = {'row_1': [3, 2, 1, 0], 'row_2': ['a', 'b', 'c', 'd']}\n",
      "        >>> pd.DataFrame.from_dict(data, orient='index')\n",
      "               0  1  2  3\n",
      "        row_1  3  2  1  0\n",
      "        row_2  a  b  c  d\n",
      "\n",
      "        When using the 'index' orientation, the column names can be\n",
      "        specified manually:\n",
      "\n",
      "        >>> pd.DataFrame.from_dict(data, orient='index',\n",
      "        ...                        columns=['A', 'B', 'C', 'D'])\n",
      "               A  B  C  D\n",
      "        row_1  3  2  1  0\n",
      "        row_2  a  b  c  d\n",
      "        \n"
     ]
    }
   ],
   "source": [
    "print(pd.DataFrame.from_dict.__doc__)"
   ]
  },
  {
   "cell_type": "markdown",
   "metadata": {},
   "source": [
    "You can create a docstring by giving a description of the functionality of the object. But remember that you have to use three quotation marks (''' docstring ''') or triple double quotations (\"\"\" docstring \"\"\")"
   ]
  },
  {
   "cell_type": "code",
   "execution_count": 10,
   "metadata": {},
   "outputs": [
    {
     "name": "stdout",
     "output_type": "stream",
     "text": [
      "Help on function say_hi in module __main__:\n",
      "\n",
      "say_hi(name)\n",
      "\n"
     ]
    }
   ],
   "source": [
    "def say_hi(name):\n",
    "    # This function says hi to the user\n",
    "    print(f\"Hello {name}\")\n",
    "\n",
    "help(say_hi)"
   ]
  },
  {
   "cell_type": "code",
   "execution_count": 11,
   "metadata": {},
   "outputs": [
    {
     "name": "stdout",
     "output_type": "stream",
     "text": [
      "Help on function say_hi in module __main__:\n",
      "\n",
      "say_hi(name)\n",
      "    This function says hi to the user\n",
      "\n"
     ]
    }
   ],
   "source": [
    "def say_hi(name):\n",
    "    \"\"\" This function says hi to the user \"\"\"\n",
    "    print(f\"Hello {name}\")\n",
    "\n",
    "help(say_hi)"
   ]
  },
  {
   "cell_type": "markdown",
   "metadata": {},
   "source": [
    "A regular comment does not work!\n",
    "\n",
    "The convention for docstring can be found in the [PEP257 ](https://www.python.org/dev/peps/pep-0257/). But don't go there yet! You won't find how to write docstring, but rather, the rules to follow when writing one. You will see that docstrings can be one-line docstrings, as the one we saw in the `say_hi` function, or multi-line docstrings, which are more descriptive."
   ]
  },
  {
   "cell_type": "markdown",
   "metadata": {},
   "source": [
    "## Multi-line Docstrings"
   ]
  },
  {
   "cell_type": "markdown",
   "metadata": {},
   "source": [
    "The structure of a mulit-line docstring is:\n",
    "- One-line summary\n",
    "- An empty line\n",
    "- An elaborated description"
   ]
  },
  {
   "cell_type": "code",
   "execution_count": 14,
   "metadata": {},
   "outputs": [
    {
     "name": "stdout",
     "output_type": "stream",
     "text": [
      "Help on function say_hi in module __main__:\n",
      "\n",
      "say_hi(name)\n",
      "    This function says hi to the user\n",
      "    \n",
      "    The purpose of this function is to demonstrate how to document\n",
      "    a function following the convention established in the PEP257.\n",
      "    It actually does not do much, and I am writing this to fill\n",
      "    the docstring... Lorem ipsum dolor sit amet.\n",
      "\n"
     ]
    }
   ],
   "source": [
    "def say_hi(name):\n",
    "    \"\"\"\n",
    "    This function says hi to the user\n",
    "\n",
    "    The purpose of this function is to demonstrate how to document\n",
    "    a function following the convention established in the PEP257.\n",
    "    It actually does not do much, and I am writing this to fill\n",
    "    the docstring... Lorem ipsum dolor sit amet.\n",
    "    \"\"\"\n",
    "    print(\"Hello {}\".format(name))\n",
    "\n",
    "help(say_hi)"
   ]
  },
  {
   "cell_type": "markdown",
   "metadata": {},
   "source": [
    "## Docstring for Classes"
   ]
  },
  {
   "cell_type": "markdown",
   "metadata": {},
   "source": [
    "So far, we have seen only docstrings for functions, but as mentioned, we can also see docstrings for classes.\n",
    "\n",
    "They follow the same principle as the docstrings for functions, but there are a few more rules: \n",
    "- The docstring should be the first thing in the class definition.\n",
    "- Each method should have a docstring. This is excluded if the method is private.\n",
    "- There is no clear consensus on whether the `__init__` method should have a docstring. However, many frameworks refer to the class docstring when defining the `__init__` method docstring."
   ]
  },
  {
   "cell_type": "code",
   "execution_count": 19,
   "metadata": {},
   "outputs": [],
   "source": [
    "class Date:\n",
    "    '''\n",
    "    This class is used to represent a date.\n",
    "\n",
    "    Attributes:\n",
    "        year (int): The year of the date.\n",
    "        month (int): The month of the date.\n",
    "        day (int): The day of the date.\n",
    "    '''\n",
    "    def __init__(self, year: int, month: int, day: int):\n",
    "        '''\n",
    "        See help(Date) for accurate signature\n",
    "        '''\n",
    "        self.year = year\n",
    "        self.month = month\n",
    "        self.day = day\n",
    "\n",
    "    def __str__(self):\n",
    "        '''\n",
    "        This function is used to return the string representation of the date.\n",
    "\n",
    "        Returns:\n",
    "            str: The string representation of the date.\n",
    "        '''\n",
    "        return \"{0}-{1}-{2}\".format(self.year, self.month, self.day)\n",
    "\n",
    "    def __repr__(self):\n",
    "        '''\n",
    "        This function is used to return the string representation of the date.\n",
    "\n",
    "        Returns:\n",
    "            str: The string representation of the date.\n",
    "        '''\n",
    "        return \"{0}-{1}-{2}\".format(self.year, self.month, self.day)\n",
    "\n",
    "    def __eq__(self, other):\n",
    "        '''\n",
    "        This function is used to compare the date with other date.\n",
    "\n",
    "        Args:\n",
    "            other (Date): The other date to be compared with.\n",
    "\n",
    "        Returns:\n",
    "            bool: True if the date is equal to the other date, False otherwise.\n",
    "        '''\n",
    "        return self.year == other.year and self.month == other.month and \\\n",
    "            self.day == other.day\n",
    "\n",
    "    def __lt__(self, other):\n",
    "        '''\n",
    "        This function is used to compare the date with other date.\n",
    "\n",
    "        Args:\n",
    "            other (Date): The other date to be compared with.\n",
    "\n",
    "        Returns:\n",
    "            bool: True if the date is less than the other date, False otherwise.\n",
    "        '''\n",
    "        if self.year < other.year:\n",
    "            return True\n",
    "        elif self.year == other.year:\n",
    "            if self.month < other.month:\n",
    "                return True\n",
    "            elif self.month == other.month:\n",
    "                if self.day < other.day:\n",
    "                    return True\n",
    "        return False\n",
    "        \n",
    "    \n",
    "    @staticmethod\n",
    "    def is_date_valid(year, month, day):\n",
    "        '''\n",
    "        This function is used to check if the date is valid.\n",
    "\n",
    "        Args:\n",
    "            year (int): The year of the date.\n",
    "            month (int): The month of the date.\n",
    "            day (int): The day of the date.\n",
    "\n",
    "        Returns:\n",
    "            bool: True if the date is valid, False otherwise.\n",
    "        '''\n",
    "        return year >= 0 and month >= 1 and month <= 12 and \\\n",
    "            day >= 1 and day <= 31\n",
    "\n",
    "    @classmethod\n",
    "    def from_string(cls, date_as_string):\n",
    "        '''\n",
    "        This function is used to create a date from a string.\n",
    "\n",
    "        Args:\n",
    "            date_as_string (str): The string representation of the date.\n",
    "\n",
    "        Returns:\n",
    "            Date: The date created from the string.\n",
    "        '''\n",
    "        year, month, day = map(int, date_as_string.split('-'))\n",
    "        return cls(year, month, day)"
   ]
  },
  {
   "cell_type": "code",
   "execution_count": 20,
   "metadata": {},
   "outputs": [
    {
     "name": "stdout",
     "output_type": "stream",
     "text": [
      "Help on class Date in module __main__:\n",
      "\n",
      "class Date(builtins.object)\n",
      " |  Date(year: int, month: int, day: int)\n",
      " |  \n",
      " |  This class is used to represent a date.\n",
      " |  \n",
      " |  Attributes:\n",
      " |      year (int): The year of the date.\n",
      " |      month (int): The month of the date.\n",
      " |      day (int): The day of the date.\n",
      " |  \n",
      " |  Methods defined here:\n",
      " |  \n",
      " |  __eq__(self, other)\n",
      " |      This function is used to compare the date with other date.\n",
      " |      \n",
      " |      Args:\n",
      " |          other (Date): The other date to be compared with.\n",
      " |      \n",
      " |      Returns:\n",
      " |          bool: True if the date is equal to the other date, False otherwise.\n",
      " |  \n",
      " |  __init__(self, year: int, month: int, day: int)\n",
      " |      See help(Date) for accurate signature\n",
      " |  \n",
      " |  __lt__(self, other)\n",
      " |      This function is used to compare the date with other date.\n",
      " |      \n",
      " |      Args:\n",
      " |          other (Date): The other date to be compared with.\n",
      " |      \n",
      " |      Returns:\n",
      " |          bool: True if the date is less than the other date, False otherwise.\n",
      " |  \n",
      " |  __repr__(self)\n",
      " |      This function is used to return the string representation of the date.\n",
      " |      \n",
      " |      Returns:\n",
      " |          str: The string representation of the date.\n",
      " |  \n",
      " |  __str__(self)\n",
      " |      This function is used to return the string representation of the date.\n",
      " |      \n",
      " |      Returns:\n",
      " |          str: The string representation of the date.\n",
      " |  \n",
      " |  ----------------------------------------------------------------------\n",
      " |  Class methods defined here:\n",
      " |  \n",
      " |  from_string(date_as_string) from builtins.type\n",
      " |      This function is used to create a date from a string.\n",
      " |      \n",
      " |      Args:\n",
      " |          date_as_string (str): The string representation of the date.\n",
      " |      \n",
      " |      Returns:\n",
      " |          Date: The date created from the string.\n",
      " |  \n",
      " |  ----------------------------------------------------------------------\n",
      " |  Static methods defined here:\n",
      " |  \n",
      " |  is_date_valid(year, month, day)\n",
      " |      This function is used to check if the date is valid.\n",
      " |      \n",
      " |      Args:\n",
      " |          year (int): The year of the date.\n",
      " |          month (int): The month of the date.\n",
      " |          day (int): The day of the date.\n",
      " |      \n",
      " |      Returns:\n",
      " |          bool: True if the date is valid, False otherwise.\n",
      " |  \n",
      " |  ----------------------------------------------------------------------\n",
      " |  Data descriptors defined here:\n",
      " |  \n",
      " |  __dict__\n",
      " |      dictionary for instance variables (if defined)\n",
      " |  \n",
      " |  __weakref__\n",
      " |      list of weak references to the object (if defined)\n",
      " |  \n",
      " |  ----------------------------------------------------------------------\n",
      " |  Data and other attributes defined here:\n",
      " |  \n",
      " |  __hash__ = None\n",
      "\n"
     ]
    }
   ],
   "source": [
    "help(Date)"
   ]
  },
  {
   "cell_type": "markdown",
   "metadata": {},
   "source": [
    "Cool, isn't it? This seems a little bit tedious, but it will pay off in the future!"
   ]
  },
  {
   "cell_type": "markdown",
   "metadata": {},
   "source": [
    "## Docstrings in Modules and Packages"
   ]
  },
  {
   "cell_type": "markdown",
   "metadata": {},
   "source": [
    "Docstrings can also be included at the beginning of a module or inside a package containing multiple modules. The principle for both are the same, so here we will just show the syntax for the module level docstring.\n",
    "\n",
    "`Date.py` contains the same class as we have above, plus a function for displaying the date. If we import that into this namespace, we can check the documentation as well."
   ]
  },
  {
   "cell_type": "code",
   "execution_count": 21,
   "metadata": {},
   "outputs": [
    {
     "name": "stdout",
     "output_type": "stream",
     "text": [
      "Help on module Date:\n",
      "\n",
      "NAME\n",
      "    Date\n",
      "\n",
      "DESCRIPTION\n",
      "    This module contains a class for representing the date.\n",
      "    It also contains a function for printing the date in a\n",
      "    readable format.\n",
      "\n",
      "CLASSES\n",
      "    builtins.object\n",
      "        Date\n",
      "    \n",
      "    class Date(builtins.object)\n",
      "     |  Date(year: int, month: int, day: int)\n",
      "     |  \n",
      "     |  This class is used to represent a date.\n",
      "     |  \n",
      "     |  Attributes:\n",
      "     |      year (int): The year of the date.\n",
      "     |      month (int): The month of the date.\n",
      "     |      day (int): The day of the date.\n",
      "     |  \n",
      "     |  Methods defined here:\n",
      "     |  \n",
      "     |  __eq__(self, other)\n",
      "     |      This function is used to compare the date with other date.\n",
      "     |      \n",
      "     |      Args:\n",
      "     |          other (Date): The other date to be compared with.\n",
      "     |      \n",
      "     |      Returns:\n",
      "     |          bool: True if the date is equal to the other date, False otherwise.\n",
      "     |  \n",
      "     |  __init__(self, year: int, month: int, day: int)\n",
      "     |      See help(Date) for accurate signature\n",
      "     |  \n",
      "     |  __lt__(self, other)\n",
      "     |      This function is used to compare the date with other date.\n",
      "     |      \n",
      "     |      Args:\n",
      "     |          other (Date): The other date to be compared with.\n",
      "     |      \n",
      "     |      Returns:\n",
      "     |          bool: True if the date is less than the other date, False otherwise.\n",
      "     |  \n",
      "     |  __repr__(self)\n",
      "     |      This function is used to return the string representation of the date.\n",
      "     |      \n",
      "     |      Returns:\n",
      "     |          str: The string representation of the date.\n",
      "     |  \n",
      "     |  __str__(self)\n",
      "     |      This function is used to return the string representation of the date.\n",
      "     |      \n",
      "     |      Returns:\n",
      "     |          str: The string representation of the date.\n",
      "     |  \n",
      "     |  ----------------------------------------------------------------------\n",
      "     |  Class methods defined here:\n",
      "     |  \n",
      "     |  from_string(date_as_string) from builtins.type\n",
      "     |      This function is used to create a date from a string.\n",
      "     |      \n",
      "     |      Args:\n",
      "     |          date_as_string (str): The string representation of the date.\n",
      "     |      \n",
      "     |      Returns:\n",
      "     |          Date: The date created from the string.\n",
      "     |  \n",
      "     |  ----------------------------------------------------------------------\n",
      "     |  Static methods defined here:\n",
      "     |  \n",
      "     |  is_date_valid(year, month, day)\n",
      "     |      This function is used to check if the date is valid.\n",
      "     |      \n",
      "     |      Args:\n",
      "     |          year (int): The year of the date.\n",
      "     |          month (int): The month of the date.\n",
      "     |          day (int): The day of the date.\n",
      "     |      \n",
      "     |      Returns:\n",
      "     |          bool: True if the date is valid, False otherwise.\n",
      "     |  \n",
      "     |  ----------------------------------------------------------------------\n",
      "     |  Data descriptors defined here:\n",
      "     |  \n",
      "     |  __dict__\n",
      "     |      dictionary for instance variables (if defined)\n",
      "     |  \n",
      "     |  __weakref__\n",
      "     |      list of weak references to the object (if defined)\n",
      "     |  \n",
      "     |  ----------------------------------------------------------------------\n",
      "     |  Data and other attributes defined here:\n",
      "     |  \n",
      "     |  __hash__ = None\n",
      "\n",
      "FUNCTIONS\n",
      "    display_date(date)\n",
      "        This function is used to print the date in a readable format.\n",
      "        \n",
      "        Args:\n",
      "            date (Date): The date to be printed.\n",
      "\n",
      "FILE\n",
      "    /Users/ivanying/Desktop/GitHub/AiCore_Teaching/Software-Engineering-Private/3. Software Design and Testing/Date.py\n",
      "\n",
      "\n"
     ]
    }
   ],
   "source": [
    "import Date\n",
    "help(Date)"
   ]
  },
  {
   "cell_type": "markdown",
   "metadata": {},
   "source": [
    "We will see how to document a package later in this module. Just rememeber that it will be in the `__init__.py` file."
   ]
  },
  {
   "cell_type": "markdown",
   "metadata": {},
   "source": [
    "## Docstring for Command Line Interface"
   ]
  },
  {
   "cell_type": "markdown",
   "metadata": {},
   "source": [
    "Sometimes you intend that your program is ran in the command line, and if that's the case, you will use arguments to pass to your program. The `spreadsheet_printer.py` program is a simple program that takes a file name as an argument and prints the contents of that file to the screen. You can see that you can check the docstring in the command line by typing `python spreadsheet_printer.py -h` and you will see that it has a description of what the program does."
   ]
  },
  {
   "cell_type": "markdown",
   "metadata": {},
   "source": [
    "# Docstring Formats"
   ]
  },
  {
   "cell_type": "markdown",
   "metadata": {},
   "source": [
    "Have you noticed that, during this notebook and in some of the examples given, the format was different? \n",
    "\n",
    "There are specific docstring formats that most users are familiar with. Also, these formats can be used to help docstring parsers to create your documentation in an automatic fashion (Sphinx). Some of the most common formats are:\n",
    "\n",
    "- [Google](https://google.github.io/styleguide/pyguide.html)\n",
    "- [Sphinx or reStructuredText](http://sphinx-doc.org/markup/desc.html)\n",
    "- [Numpydoc](https://numpydoc.readthedocs.io/en/latest/format.html)\n",
    "- [Epytext](https://epytext.readthedocs.io/en/latest/format.html)"
   ]
  },
  {
   "cell_type": "markdown",
   "metadata": {},
   "source": [
    "As an example, let's look at the how the `spreadsheet_printer` module is documented using each one of these formats."
   ]
  },
  {
   "cell_type": "code",
   "execution_count": null,
   "metadata": {},
   "outputs": [],
   "source": [
    "### Google\n",
    "\n",
    "\"\"\"Gets and prints the spreadsheet's header columns\n",
    "\n",
    "Args:\n",
    "    file_loc (str): The file location of the spreadsheet\n",
    "    print_cols (bool): A flag used to print the columns to the console\n",
    "        (default is False)\n",
    "\n",
    "Returns:\n",
    "    list: a list of strings representing the header columns\n",
    "\"\"\""
   ]
  },
  {
   "cell_type": "code",
   "execution_count": null,
   "metadata": {},
   "outputs": [],
   "source": [
    "### Sphinx \n",
    "\n",
    "\"\"\"Gets and prints the spreadsheet's header columns\n",
    "\n",
    ":param file_loc: The file location of the spreadsheet\n",
    ":type file_loc: str\n",
    ":param print_cols: A flag used to print the columns to the console\n",
    "    (default is False)\n",
    ":type print_cols: bool\n",
    ":returns: a list of strings representing the header columns\n",
    ":rtype: list\n",
    "\"\"\"\n"
   ]
  },
  {
   "cell_type": "code",
   "execution_count": null,
   "metadata": {},
   "outputs": [],
   "source": [
    "### NumPy\n",
    "\n",
    "\"\"\"Gets and prints the spreadsheet's header columns\n",
    "\n",
    "Parameters\n",
    "----------\n",
    "file_loc : str\n",
    "    The file location of the spreadsheet\n",
    "print_cols : bool, optional\n",
    "    A flag used to print the columns to the console (default is False)\n",
    "\n",
    "Returns\n",
    "-------\n",
    "list\n",
    "    a list of strings representing the header columns\n",
    "\"\"\"\n"
   ]
  },
  {
   "cell_type": "code",
   "execution_count": null,
   "metadata": {},
   "outputs": [],
   "source": [
    "### Epytext\n",
    "\"\"\"Gets and prints the spreadsheet's header columns\n",
    "\n",
    "@type file_loc: str\n",
    "@param file_loc: The file location of the spreadsheet\n",
    "@type print_cols: bool\n",
    "@param print_cols: A flag used to print the columns to the console\n",
    "    (default is False)\n",
    "@rtype: list\n",
    "@returns: a list of strings representing the header columns\n",
    "\"\"\"\n"
   ]
  },
  {
   "cell_type": "markdown",
   "metadata": {},
   "source": [
    "# Typing"
   ]
  },
  {
   "cell_type": "markdown",
   "metadata": {},
   "source": [
    "Typing is another way to comment your code. Hoewever in this case, you are not explaining the code, but rather the intended data type of your variables.\n",
    "\n",
    "Just like comments, you don't have to follow the directions of typing hints, but if they are there, it's because they are important!"
   ]
  },
  {
   "cell_type": "markdown",
   "metadata": {},
   "source": [
    "We have been seeing type hinting from the beginning of this notebook. If you didn't notice, good! That means your eye is getting used to type hinting! Let's see some examples using functions. The syntax for type hinting is:\n",
    "\n",
    "`def function_name(parameter_name: type) -> return_type:`"
   ]
  },
  {
   "cell_type": "code",
   "execution_count": 25,
   "metadata": {},
   "outputs": [],
   "source": [
    "import requests\n",
    "from bs4 import BeautifulSoup\n",
    "def get_html(url: str) -> BeautifulSoup:\n",
    "    \"\"\"\n",
    "    Get the HTML of a URL\n",
    "    \n",
    "    Parameters\n",
    "    ----------\n",
    "    url : str\n",
    "        The URL to get the HTML of\n",
    "    \n",
    "    Returns\n",
    "    -------\n",
    "    str\n",
    "        The HTML of the URL\n",
    "    \"\"\"\n",
    "    r = requests.get(url)\n",
    "    if r.status_code == 200:\n",
    "        return BeautifulSoup(r.text, 'html.parser')\n",
    "    else:\n",
    "        return None"
   ]
  },
  {
   "cell_type": "markdown",
   "metadata": {},
   "source": [
    "Looks fine right? We can see in the typing that we can pass a string to the function, and it will return a BeautifulSoup object.\n",
    "\n",
    "But wait, what if we don't get a good response? We would return None. The typing library can help us defining multiple types for our function."
   ]
  },
  {
   "cell_type": "code",
   "execution_count": 1,
   "metadata": {},
   "outputs": [],
   "source": [
    "import requests\n",
    "from bs4 import BeautifulSoup\n",
    "from typing import Union\n",
    "\n",
    "def get_html(url: str) -> Union[BeautifulSoup, None]:\n",
    "    \"\"\"\n",
    "    Get the HTML of a URL\n",
    "    \n",
    "    Parameters\n",
    "    ----------\n",
    "    url : str\n",
    "        The URL to get the HTML of\n",
    "    \n",
    "    Returns\n",
    "    -------\n",
    "    str\n",
    "        The HTML of the URL\n",
    "    \"\"\"\n",
    "    r = requests.get(url)\n",
    "    if r.status_code == 200:\n",
    "        return BeautifulSoup(r.text, 'html.parser')\n",
    "    else:\n",
    "        return None"
   ]
  },
  {
   "cell_type": "markdown",
   "metadata": {},
   "source": [
    "in this case, we are telling Python that we are expecting either a BeatifulSoup object or a None. This can be actually simplified with the Optional type:"
   ]
  },
  {
   "cell_type": "code",
   "execution_count": 15,
   "metadata": {},
   "outputs": [],
   "source": [
    "import requests\n",
    "from bs4 import BeautifulSoup\n",
    "from typing import Optional\n",
    "import typing as t\n",
    "\n",
    "def get_html(url: str) -> Optional[BeautifulSoup]:\n",
    "    \"\"\"\n",
    "    Get the HTML of a URL\n",
    "    \n",
    "    Parameters\n",
    "    ----------\n",
    "    url : str\n",
    "        The URL to get the HTML of\n",
    "    \n",
    "    Returns\n",
    "    -------\n",
    "    str\n",
    "        The HTML of the URL\n",
    "    \"\"\"\n",
    "    r = requests.get(url)\n",
    "    if r.status_code == 200:\n",
    "        return BeautifulSoup(r.text, 'html.parser')\n",
    "    else:\n",
    "        return None"
   ]
  },
  {
   "cell_type": "markdown",
   "metadata": {},
   "source": [
    "The typing library has multiple ways to specify types. The most common ones are:\n",
    "\n",
    "- [`typing.Any`](https://docs.python.org/3/library/typing.html#typing.Any): Essentially, a wildcard.\n",
    "- [`typing.Callable`](https://docs.python.org/3/library/typing.html#typing.Callable): A function or method. \n",
    "- [`typing.Union`](https://docs.python.org/3/library/typing.html#typing.Union): A type that can be one of several types. Union[type1, type2, ...]\n",
    "- [`typing.Optional`](https://docs.python.org/3/library/typing.html#typing.Optional): A type that can be None. Optional[type]\n",
    "- [`typing.Tuple`](https://docs.python.org/3/library/typing.html#typing.Tuple): A type that can be a tuple of types. Tuple[type1, type2, ...]\n",
    "- [`typing.List`](https://docs.python.org/3/library/typing.html#typing.List): A type that can be a list of types. List[type1, type2, ...]\n",
    "\n",
    "Apart from the types in the typing library, there are also some more specific types that are useful for writing tests:\n",
    "\n",
    "- str: A string.\n",
    "- int: An integer.\n",
    "- float: A floating point number.\n",
    "- bool: A boolean.\n",
    "- None: A value that can be None.\n",
    "- list: A list."
   ]
  },
  {
   "cell_type": "markdown",
   "metadata": {},
   "source": [
    "## Typecheckers: mypy"
   ]
  },
  {
   "cell_type": "markdown",
   "metadata": {},
   "source": [
    "There are multiple modules that checks that your code is using the correct types. For example mypy, pytype, pyright, or pyre.\n",
    "\n",
    "This would not make much sense in a language like Java where types are statically defined.\n",
    "\n",
    "In this case, we are going to use mypy. You can use `mypy` to check the types of your code. First, install mypy:\n",
    "\n",
    "`pip install mypy`\n",
    "\n",
    "Then, you can use it to check the types of a specific file:\n",
    "\n",
    "`mypy <filename>`\n",
    "\n",
    "It will return a list of errors."
   ]
  },
  {
   "cell_type": "markdown",
   "metadata": {},
   "source": [
    "There are some libraries that are not included in the objects detected by mypy, in those cases you can create your own stubs. But if you don't want to spend time on that you can include the following after importing the library:\n",
    "\n",
    "`# type: ignore`"
   ]
  },
  {
   "cell_type": "code",
   "execution_count": 16,
   "metadata": {},
   "outputs": [],
   "source": [
    "from bs4 import BeautifulSoup # type: ignore"
   ]
  },
  {
   "cell_type": "markdown",
   "metadata": {},
   "source": [
    "# Pydantic"
   ]
  },
  {
   "cell_type": "markdown",
   "metadata": {},
   "source": [
    "Using type hints doesn't enforce the user to use the specified type. \n",
    "\n",
    "> <font size=+1>[Pydantic](https://pydantic-docs.helpmanual.io/) enforces the user to use the arguments to pass to the model or function we create with this library.</font>\n",
    "\n",
    "Install it using:\n"
   ]
  },
  {
   "cell_type": "code",
   "execution_count": 17,
   "metadata": {},
   "outputs": [
    {
     "name": "stdout",
     "output_type": "stream",
     "text": [
      "Requirement already satisfied: pydantic in c:\\users\\blair_bbkduqz\\anaconda3\\envs\\aicoreteach\\lib\\site-packages (1.8.2)\n",
      "Requirement already satisfied: typing-extensions>=3.7.4.3 in c:\\users\\blair_bbkduqz\\anaconda3\\envs\\aicoreteach\\lib\\site-packages (from pydantic) (3.10.0.2)\n"
     ]
    }
   ],
   "source": [
    "!pip install pydantic"
   ]
  },
  {
   "cell_type": "markdown",
   "metadata": {},
   "source": [
    "Or"
   ]
  },
  {
   "cell_type": "code",
   "execution_count": null,
   "metadata": {},
   "outputs": [],
   "source": [
    "!conda install pydantic -c conda-forge"
   ]
  },
  {
   "cell_type": "markdown",
   "metadata": {},
   "source": [
    "The most basic usage of Pydantic is through models, which are classes that inherits from `BaseModel`, and we can create a class the same way we used the `dataclass` decorator."
   ]
  },
  {
   "cell_type": "code",
   "execution_count": 7,
   "metadata": {},
   "outputs": [],
   "source": [
    "class Person(BaseModel):\n",
    "    name: str\n",
    "    age: int\n",
    "    role: str"
   ]
  },
  {
   "cell_type": "code",
   "execution_count": 19,
   "metadata": {},
   "outputs": [
    {
     "name": "stdout",
     "output_type": "stream",
     "text": [
      "heat_level=40.0\n",
      "Temperature converted from Celsius to Farenheit\n",
      "104\n",
      "2.28\n",
      "True\n",
      "heat_level=4.5\n"
     ]
    }
   ],
   "source": [
    "'''\n",
    "This is a Temperature module\n",
    "it contains the Temperature class, which allows you to: \n",
    " - Set a Temperature in either Degrees Celsius or Farenheit \n",
    "- Convert a Temperature between Degrees Celsius or Farenheit \n",
    "- Set a Temperatue to 0 \n",
    "- Check if a Temperature is valid between -273 and 3000 \n",
    "'''\n",
    "from pydantic import BaseModel\n",
    "from pydantic import validate_arguments\n",
    "\n",
    "\n",
    "class Temperature(BaseModel): \n",
    "    ''' \n",
    "    This is the intialisation function featuring class decorator @dataclass\n",
    "    Attribute : \n",
    "        heat_level(float): the heat_level represented in Degrees Celsius \n",
    "    '''\n",
    "    heat_level : float\n",
    "\n",
    "\n",
    "    def temp_f_convert(self):\n",
    "        '''\n",
    "        Function to convert a temperature from Degrees Celsius to Farenheit \n",
    "        Returns\n",
    "            ----------\n",
    "            float:\n",
    "             The heat_level in Farenheit  \n",
    "        '''\n",
    "        temp_f = round((float(1.8 * self.heat_level) + 32))\n",
    "        print(\"Temperature converted from Celsius to Farenheit\")\n",
    "        return temp_f\n",
    "\n",
    "\n",
    "    @staticmethod\n",
    "    @validate_arguments\n",
    "    def temp_c_convert(temp_far:float):\n",
    "        '''\n",
    "        Function to convert a Temperature from Farenheit to Degrees Celsius \n",
    "        Argument:\n",
    "            ...........\n",
    "        temp_cels : Takes a temperature in Farenheit and outputs it as Celsius\n",
    "        Returns:\n",
    "            ..........\n",
    "            str:  \n",
    "                String representation of float variable  temp_cels + '°C' \n",
    "        '''    \n",
    "        temp_cels = round(float((temp_far - 32) / 1.8),2)\n",
    "        return str(temp_cels) \n",
    "\n",
    "    \n",
    "    @staticmethod\n",
    "    def is_temp_valid(check_temp:float):\n",
    "        '''  \n",
    "        Function to check if a temperature is valid \n",
    "        Returns\n",
    "            .......\n",
    "            Bool: True if conditions are met \n",
    "        '''\n",
    "        if 3000 >= check_temp >= -273:\n",
    "            return True\n",
    "        else:\n",
    "            return False \n",
    "\n",
    "          \n",
    "    @classmethod\n",
    "    @validate_arguments  \n",
    "    def new_temp_f(cls, temp_fh:float): # farenheit \n",
    "        '''   \n",
    "        Function to create a new instance of the Temperature Class \n",
    "        Args: \n",
    "            .......\n",
    "            float\n",
    "                temp_fh : The temperature in Farenheit \n",
    "        Returns: \n",
    "            .......\n",
    "            A new instance of the Temperature Class in Celsius  \n",
    "        '''\n",
    "        temp_in_celsius = cls.temp_c_convert(temp_fh) # calls the staticmethod / function. Go to the class, go to the method, input the number into it.\n",
    "        return cls(heat_level=temp_in_celsius)\n",
    "\n",
    "    @classmethod\n",
    "    def standard(cls): \n",
    "        ''' Function to set a temperature to zero using a new instance of the class \n",
    "            Attribute:\n",
    "                .........\n",
    "                int\n",
    "                    temp_c = The temperature in Celsius\n",
    "           '''\n",
    "        standard_temp = 0 \n",
    "        return cls(heat_level=standard_temp) \n",
    "\n",
    "Kettle = Temperature(heat_level=40.0) \n",
    "print(Kettle)\n",
    "Bath = Kettle.temp_f_convert()\n",
    "print(Bath)\n",
    "print(Temperature.temp_c_convert(36.1))\n",
    "print(Temperature.is_temp_valid(600))\n",
    "print(Temperature.new_temp_f(40.1))"
   ]
  },
  {
   "cell_type": "markdown",
   "metadata": {},
   "source": [
    "We just created a class with three attributes, and we are __forcing__ the user to use those types when creating the class"
   ]
  },
  {
   "cell_type": "code",
   "execution_count": 19,
   "metadata": {},
   "outputs": [],
   "source": [
    "michael = Person(name='Michael Scott', age=46, role='Regional Manager')"
   ]
  },
  {
   "cell_type": "markdown",
   "metadata": {},
   "source": [
    "Nothing is wrong, but if we force it to have a different type:"
   ]
  },
  {
   "cell_type": "code",
   "execution_count": 20,
   "metadata": {},
   "outputs": [
    {
     "ename": "ValidationError",
     "evalue": "1 validation error for Person\nage\n  value is not a valid integer (type=type_error.integer)",
     "output_type": "error",
     "traceback": [
      "\u001b[1;31m---------------------------------------------------------------------------\u001b[0m",
      "\u001b[1;31mValidationError\u001b[0m                           Traceback (most recent call last)",
      "\u001b[1;32mC:\\Users\\BLAIR_~1\\AppData\\Local\\Temp/ipykernel_17240/2617146355.py\u001b[0m in \u001b[0;36m<module>\u001b[1;34m\u001b[0m\n\u001b[1;32m----> 1\u001b[1;33m \u001b[0mdwight\u001b[0m \u001b[1;33m=\u001b[0m \u001b[0mPerson\u001b[0m\u001b[1;33m(\u001b[0m\u001b[0mname\u001b[0m\u001b[1;33m=\u001b[0m\u001b[1;34m'Dwight Schrute'\u001b[0m\u001b[1;33m,\u001b[0m \u001b[0mage\u001b[0m\u001b[1;33m=\u001b[0m\u001b[1;34m'Thirty Six'\u001b[0m\u001b[1;33m,\u001b[0m \u001b[0mrole\u001b[0m\u001b[1;33m=\u001b[0m\u001b[1;34m'Beet farmer'\u001b[0m\u001b[1;33m)\u001b[0m\u001b[1;33m\u001b[0m\u001b[1;33m\u001b[0m\u001b[0m\n\u001b[0m",
      "\u001b[1;32m~\\anaconda3\\envs\\AiCoreTeach\\lib\\site-packages\\pydantic\\main.cp39-win_amd64.pyd\u001b[0m in \u001b[0;36mpydantic.main.BaseModel.__init__\u001b[1;34m()\u001b[0m\n",
      "\u001b[1;31mValidationError\u001b[0m: 1 validation error for Person\nage\n  value is not a valid integer (type=type_error.integer)"
     ]
    }
   ],
   "source": [
    "dwight = Person(name='Dwight Schrute', age='Thirty Six', role='Beet farmer')"
   ]
  },
  {
   "cell_type": "markdown",
   "metadata": {},
   "source": [
    "Pydantic prevents us from defining that variable. One cool feature is that Pydantic will try to cast the arguments you pass to the type you specified in the class definition. Here, for age we are passing a string (containing a number):"
   ]
  },
  {
   "cell_type": "code",
   "execution_count": 5,
   "metadata": {},
   "outputs": [
    {
     "data": {
      "text/plain": [
       "int"
      ]
     },
     "execution_count": 5,
     "metadata": {},
     "output_type": "execute_result"
    }
   ],
   "source": [
    "jim = Person(name='Jim Halpert', age='36', role='Sales Representative')\n",
    "type(jim.age)"
   ]
  },
  {
   "cell_type": "markdown",
   "metadata": {},
   "source": [
    "Quite convenient isn't it?\n",
    "\n",
    "Additionally, Pydantic's models have quite useful methods to check the values of the attributes:"
   ]
  },
  {
   "cell_type": "code",
   "execution_count": 21,
   "metadata": {},
   "outputs": [
    {
     "name": "stdout",
     "output_type": "stream",
     "text": [
      "{'name': 'Jim Halpert', 'age': 36, 'role': 'Sales Representative'}\n",
      "{\"name\": \"Jim Halpert\", \"age\": 36, \"role\": \"Sales Representative\"}\n"
     ]
    }
   ],
   "source": [
    "print(jim.dict())\n",
    "print(jim.json())"
   ]
  },
  {
   "cell_type": "markdown",
   "metadata": {},
   "source": [
    "You can check more methods on the Pydantic [documentation](https://pydantic-docs.helpmanual.io/usage/models/)"
   ]
  },
  {
   "cell_type": "markdown",
   "metadata": {},
   "source": [
    "Alternatively, if you are more comfortable working with decorators, you can achieve the same result using the dataclass decorator from pydantic. Also, you can use the same type hints class we saw above."
   ]
  },
  {
   "cell_type": "code",
   "execution_count": 22,
   "metadata": {},
   "outputs": [
    {
     "name": "stdout",
     "output_type": "stream",
     "text": [
      "None\n"
     ]
    }
   ],
   "source": [
    "from pydantic.dataclasses import dataclass\n",
    "from typing import Optional\n",
    "\n",
    "@dataclass\n",
    "class Person:\n",
    "    name: str\n",
    "    age: int\n",
    "    role: Optional[str] = None\n",
    "\n",
    "pam = Person(name='Pam Beesly', age='36')\n",
    "print(pam.role)"
   ]
  },
  {
   "cell_type": "markdown",
   "metadata": {},
   "source": [
    "Lastly, if you want to use pydantic checks on a function, you can decorate it using the `validate_arguments` decorator:"
   ]
  },
  {
   "cell_type": "code",
   "execution_count": 23,
   "metadata": {},
   "outputs": [
    {
     "name": "stdout",
     "output_type": "stream",
     "text": [
      "3\n",
      "<class 'str'>\n"
     ]
    },
    {
     "ename": "ValidationError",
     "evalue": "1 validation error for SayMyName\nx\n  str type expected (type=type_error.str)",
     "output_type": "error",
     "traceback": [
      "\u001b[1;31m---------------------------------------------------------------------------\u001b[0m",
      "\u001b[1;31mValidationError\u001b[0m                           Traceback (most recent call last)",
      "\u001b[1;32mC:\\Users\\BLAIR_~1\\AppData\\Local\\Temp/ipykernel_17240/412552692.py\u001b[0m in \u001b[0;36m<module>\u001b[1;34m\u001b[0m\n\u001b[0;32m     10\u001b[0m \u001b[1;33m\u001b[0m\u001b[0m\n\u001b[0;32m     11\u001b[0m \u001b[0msay_my_name\u001b[0m\u001b[1;33m(\u001b[0m\u001b[1;36m3\u001b[0m\u001b[1;33m)\u001b[0m \u001b[1;31m# This will cast 3 as a string\u001b[0m\u001b[1;33m\u001b[0m\u001b[1;33m\u001b[0m\u001b[0m\n\u001b[1;32m---> 12\u001b[1;33m \u001b[0msay_my_name\u001b[0m\u001b[1;33m(\u001b[0m\u001b[1;33m[\u001b[0m\u001b[1;34m'Jesse'\u001b[0m\u001b[1;33m,\u001b[0m \u001b[1;34m'Walter'\u001b[0m\u001b[1;33m,\u001b[0m \u001b[1;34m'Heisenberg'\u001b[0m\u001b[1;33m]\u001b[0m\u001b[1;33m)\u001b[0m\u001b[1;33m\u001b[0m\u001b[1;33m\u001b[0m\u001b[0m\n\u001b[0m",
      "\u001b[1;32m~\\anaconda3\\envs\\AiCoreTeach\\lib\\site-packages\\pydantic\\decorator.cp39-win_amd64.pyd\u001b[0m in \u001b[0;36mpydantic.decorator.validate_arguments.validate.wrapper_function\u001b[1;34m()\u001b[0m\n",
      "\u001b[1;32m~\\anaconda3\\envs\\AiCoreTeach\\lib\\site-packages\\pydantic\\decorator.cp39-win_amd64.pyd\u001b[0m in \u001b[0;36mpydantic.decorator.ValidatedFunction.call\u001b[1;34m()\u001b[0m\n",
      "\u001b[1;32m~\\anaconda3\\envs\\AiCoreTeach\\lib\\site-packages\\pydantic\\decorator.cp39-win_amd64.pyd\u001b[0m in \u001b[0;36mpydantic.decorator.ValidatedFunction.init_model_instance\u001b[1;34m()\u001b[0m\n",
      "\u001b[1;32m~\\anaconda3\\envs\\AiCoreTeach\\lib\\site-packages\\pydantic\\main.cp39-win_amd64.pyd\u001b[0m in \u001b[0;36mpydantic.main.BaseModel.__init__\u001b[1;34m()\u001b[0m\n",
      "\u001b[1;31mValidationError\u001b[0m: 1 validation error for SayMyName\nx\n  str type expected (type=type_error.str)"
     ]
    }
   ],
   "source": [
    "from pydantic import validate_arguments\n",
    "\n",
    "@validate_arguments\n",
    "def say_my_name(x: str):\n",
    "    if x == 'Heisenberg':\n",
    "        print(\"You're goddamn right\")\n",
    "    else:\n",
    "        print(x)\n",
    "        print(type(x))\n",
    "\n",
    "say_my_name(3) # This will cast 3 as a string\n",
    "say_my_name(['Jesse', 'Walter', 'Heisenberg']) "
   ]
  },
  {
   "cell_type": "markdown",
   "metadata": {},
   "source": [
    "Modern libraries are starting to use Pydantic as a way to meet some user standards. For example, FastAPI uses these models for defining what is to be expected from requests."
   ]
  },
  {
   "cell_type": "markdown",
   "metadata": {},
   "source": [
    "# Summary\n",
    "\n",
    "- Comments are a great way to document code. But you need more than that to create a good documentation.\n",
    "- Thus, we need to rely on Docstring and Typing.\n",
    "- Docstring is a string that describes the purpose of a function, method, class, script, module, or package.\n",
    "- Typing is a way to check the type of a variable.\n",
    "- You can check that your code has the correct types using `mypy`.\n",
    "- You can enforce the user to user certain type of data using Pydantic"
   ]
  }
 ],
 "metadata": {
  "interpreter": {
   "hash": "14fed20d815d8426698b9e4db4c2894958f6485d6746a1ea976e58ce3ec76c9f"
  },
  "kernelspec": {
   "display_name": "Python 3.9.6 64-bit ('AiCoreTeach': conda)",
   "name": "python3"
  },
  "language_info": {
   "codemirror_mode": {
    "name": "ipython",
    "version": 3
   },
   "file_extension": ".py",
   "mimetype": "text/x-python",
   "name": "python",
   "nbconvert_exporter": "python",
   "pygments_lexer": "ipython3",
   "version": "3.9.6"
  },
  "orig_nbformat": 4
 },
 "nbformat": 4,
 "nbformat_minor": 2
}
