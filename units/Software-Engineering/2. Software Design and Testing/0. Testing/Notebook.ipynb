{
 "cells": [
  {
   "cell_type": "markdown",
   "metadata": {},
   "source": [
    "# Testing"
   ]
  },
  {
   "cell_type": "markdown",
   "metadata": {},
   "source": [
    "During these notebooks, we have been seeing how to add maintain your code clean and your functions and classes as flexible as possible. And maybe adding more feature to a flexible code can cause problems. Can we be sure that by adding more feature to a flexible code, the existing functions and classes are going to do what they were intended to do?\n",
    "\n",
    "We need to make sure our code live on long into the future, so we need some means to assure its long-term stability. __Testing__ is one of the most important tools to do that.\n",
    "\n",
    "Testing is a thorough and formal process for applications that must not fail. It, in essence, consists on verifying that a program works as intended.\n",
    "\n",
    "> ## Testing is the process of verifying that a software behaves the way you expect."
   ]
  },
  {
   "cell_type": "markdown",
   "metadata": {},
   "source": [
    "One reason to test a software is to determine if it does what it claims to do. Imagine you are using a function, and it doesn't raise an error. However, the output is not what you expected, that mistake will cascade as the application progresses. \n",
    "\n",
    "In general terms we can divide testing into two categories: Functional and Non-Functional. In this notebook we will focus on Functional Testing, so we will start explainin Non-Functional Testing first, so we can focus our attention on the Functional Testing."
   ]
  },
  {
   "cell_type": "markdown",
   "metadata": {},
   "source": [
    "If you are in Colab and don't have the examples with you, run the following code to download the folder with the examples. Remember that you can access `.py` files in Colab and modify them!"
   ]
  },
  {
   "cell_type": "code",
   "execution_count": 6,
   "metadata": {},
   "outputs": [
    {
     "name": "stdout",
     "output_type": "stream",
     "text": [
      "--2022-02-22 17:01:09--  https://aicore-files.s3.amazonaws.com/Foundations/Software_Engineering/testing_example.zip\n",
      "Resolviendo aicore-files.s3.amazonaws.com (aicore-files.s3.amazonaws.com)... 52.216.112.107\n",
      "Conectando con aicore-files.s3.amazonaws.com (aicore-files.s3.amazonaws.com)[52.216.112.107]:443... conectado.\n",
      "Petición HTTP enviada, esperando respuesta... 200 OK\n",
      "Longitud: 2791 (2.7K) [application/zip]\n",
      "Grabando a: «testing_example.zip.1»\n",
      "\n",
      "testing_example.zip 100%[===================>]   2.73K  --.-KB/s    en 0s      \n",
      "\n",
      "2022-02-22 17:01:09 (10.5 MB/s) - «testing_example.zip.1» guardado [2791/2791]\n",
      "\n"
     ]
    }
   ],
   "source": [
    "!wget \"https://aicore-files.s3.amazonaws.com/Foundations/Software_Engineering/testing_example.zip\"\n",
    "import zipfile\n",
    "with zipfile.ZipFile(\"testing_example.zip\", 'r') as zip_ref:\n",
    "    zip_ref.extractall(\"testing_example\")\n",
    "!cp -r testing_example/example ."
   ]
  },
  {
   "cell_type": "markdown",
   "metadata": {},
   "source": [
    "# Non-functional testing\n"
   ]
  },
  {
   "cell_type": "markdown",
   "metadata": {},
   "source": [
    "\n",
    "> __Testing various components of the systems not directly related with desired functionality__"
   ]
  },
  {
   "cell_type": "markdown",
   "metadata": {},
   "source": [
    "\n",
    "## Performance testing\n",
    "\n",
    "> __How performant our product is under different conditions__\n",
    "\n",
    "During those tests there are a few key things to keep in mind:\n",
    "- __Find bottlenecks__ - where your code takes absurdly long to run (maybe it is a single slow operation you can change?)\n",
    "- __Premature optimization is the root of all evil__ - if it is fast enough, don't try to improve by `0.1%`\n",
    "- __Test under different load__, some examples:\n",
    "    - How the performance differs based on increased batch size?\n",
    "    - __Spike testing__: What if our machine learning app deployed on AWS has a sudden user spike?\n",
    "    - __Stress testing__: how your product behaves at __or even above__ it's limits (e.g. large input values, large data, large traffic), is this how you envisioned it?\n",
    "    - __Endurance testing__: normal load but for a long time; how often is your web app down?\n"
   ]
  },
  {
   "cell_type": "markdown",
   "metadata": {},
   "source": [
    "## Security testing\n",
    "\n",
    "> __Keep in mind this topic is way too broad and worthy of another course on it's own!__\n",
    "\n",
    "Importance of this topic is often underestimated, but it is an essential piece of many infrastructures.\n",
    "Few things you should keep in mind:\n",
    "- __Minimum trust approach__ - give only absolutely necessary permissions to users/coworkers\n",
    "- __Separate roles__ - permissions only related to their roles\n",
    "- __Try to break it__ - check out pentesting or ethical hacking"
   ]
  },
  {
   "cell_type": "markdown",
   "metadata": {},
   "source": [
    "\n",
    "## Compatibility testing\n",
    "\n",
    "> __How compatible is our product with previous iteration and/or different environments__\n",
    "\n",
    "Luckily the second type of compatibility can be simply improved by using `docker` (__principle of shifting responsibility to providers__)"
   ]
  },
  {
   "cell_type": "markdown",
   "metadata": {},
   "source": [
    "## Other helpful techniques\n",
    "\n",
    "> In order to keep your code in check one can employ a few simple additional techniques\n",
    "\n",
    "- __Peer review__ - each thing you do is checked by another person:\n",
    "    - Pull Requests are often checked by assigned reviewers\n",
    "    - Scientific papers are under double blind peer-review\n",
    "- __Code analyzers__ - GitHub offers a lot of integrations, __which looks for possible bugs in your code automatically__, a few examples with easy integration:\n",
    "    - [`codebeat`](https://codebeat.co/)\n",
    "    - [`sonarqube`](https://www.sonarqube.org/)\n",
    "    - [`codacy`](https://www.codacy.com/)\n",
    "    - [`codeclimate`](https://codeclimate.com/) \n",
    "- __Test coverage__ - how many (in percentage) of our code was tested. One can obtain it via [`coverage.py`](https://coverage.readthedocs.io/en/coverage-5.5/) with testing framework of choice (also it is possible to integrate with GitHub Actions, which we will see in a few lessons)"
   ]
  },
  {
   "cell_type": "markdown",
   "metadata": {},
   "source": [
    "# Functional Testing"
   ]
  },
  {
   "cell_type": "markdown",
   "metadata": {},
   "source": [
    "\n",
    "_Functional Testing_ consists on making sure that a piece of code _functions_ correctly. The basic structure of a functional test is:\n",
    "1. Prepare the inputs to the software.\n",
    "2. Identify the outputs of the software.\n",
    "3. Run the software with the inputs and check the outputs.\n",
    "4. Compare the outputs with the expected outputs to see if they match. \n",
    "\n",
    "The two first steps are performed by the developer or author of the software. The third step is done by the software itself. And the last step is done by a tester (we will see testers later).\n",
    "\n",
    "<p align=center><img width=700 src=images/functional_testing.png></p>\n"
   ]
  },
  {
   "cell_type": "markdown",
   "metadata": {},
   "source": [
    "Let's say for example that we want to check the mean of a list of numbers."
   ]
  },
  {
   "cell_type": "code",
   "execution_count": 1,
   "metadata": {},
   "outputs": [],
   "source": [
    "def mean_list(my_list: list) -> float:\n",
    "    \"\"\"\n",
    "    Return the mean of the values in the list.\n",
    "    \"\"\"\n",
    "    running_sum = 0\n",
    "    for num in my_list:\n",
    "        running_sum += num\n",
    "    return running_sum / len(my_list)"
   ]
  },
  {
   "cell_type": "markdown",
   "metadata": {},
   "source": [
    "We know that the list `[1, 2, 3]` should return a mean of 2, the list [1, 2, 3, 4] should return a mean of 2.5, and the list [1, 2, 3, 4, 5] should return a mean of 3...\n",
    "\n",
    "We can create some manual tests to check that the output is what we are expecting. This is named _Manual Testing_, and it is a good idea to do it before you write any code. However, as you start progress, you won't be able to manually test every possible case (due to the time it would take)"
   ]
  },
  {
   "cell_type": "code",
   "execution_count": 2,
   "metadata": {},
   "outputs": [
    {
     "ename": "ZeroDivisionError",
     "evalue": "division by zero",
     "output_type": "error",
     "traceback": [
      "\u001b[1;31m---------------------------------------------------------------------------\u001b[0m",
      "\u001b[1;31mZeroDivisionError\u001b[0m                         Traceback (most recent call last)",
      "\u001b[1;32mC:\\Users\\BLAIR_~1\\AppData\\Local\\Temp/ipykernel_20168/2332027450.py\u001b[0m in \u001b[0;36m<module>\u001b[1;34m\u001b[0m\n\u001b[0;32m      1\u001b[0m \u001b[1;32massert\u001b[0m \u001b[0mmean_list\u001b[0m\u001b[1;33m(\u001b[0m\u001b[1;33m[\u001b[0m\u001b[1;36m1\u001b[0m\u001b[1;33m,\u001b[0m \u001b[1;36m2\u001b[0m\u001b[1;33m,\u001b[0m \u001b[1;36m3\u001b[0m\u001b[1;33m]\u001b[0m\u001b[1;33m)\u001b[0m \u001b[1;33m==\u001b[0m \u001b[1;36m2\u001b[0m\u001b[1;33m\u001b[0m\u001b[1;33m\u001b[0m\u001b[0m\n\u001b[0;32m      2\u001b[0m \u001b[1;32massert\u001b[0m \u001b[0mmean_list\u001b[0m\u001b[1;33m(\u001b[0m\u001b[1;33m[\u001b[0m\u001b[1;33m-\u001b[0m\u001b[1;36m1\u001b[0m\u001b[1;33m,\u001b[0m \u001b[1;33m-\u001b[0m\u001b[1;36m2\u001b[0m\u001b[1;33m,\u001b[0m \u001b[1;36m1\u001b[0m\u001b[1;33m,\u001b[0m \u001b[1;36m2\u001b[0m\u001b[1;33m]\u001b[0m\u001b[1;33m)\u001b[0m \u001b[1;33m==\u001b[0m \u001b[1;36m0\u001b[0m\u001b[1;33m\u001b[0m\u001b[1;33m\u001b[0m\u001b[0m\n\u001b[1;32m----> 3\u001b[1;33m \u001b[1;32massert\u001b[0m \u001b[0mmean_list\u001b[0m\u001b[1;33m(\u001b[0m\u001b[1;33m[\u001b[0m\u001b[1;33m]\u001b[0m\u001b[1;33m)\u001b[0m \u001b[1;33m==\u001b[0m \u001b[1;36m0\u001b[0m\u001b[1;33m\u001b[0m\u001b[1;33m\u001b[0m\u001b[0m\n\u001b[0m",
      "\u001b[1;32mC:\\Users\\BLAIR_~1\\AppData\\Local\\Temp/ipykernel_20168/812598488.py\u001b[0m in \u001b[0;36mmean_list\u001b[1;34m(my_list)\u001b[0m\n\u001b[0;32m      6\u001b[0m     \u001b[1;32mfor\u001b[0m \u001b[0mnum\u001b[0m \u001b[1;32min\u001b[0m \u001b[0mmy_list\u001b[0m\u001b[1;33m:\u001b[0m\u001b[1;33m\u001b[0m\u001b[1;33m\u001b[0m\u001b[0m\n\u001b[0;32m      7\u001b[0m         \u001b[0mrunning_sum\u001b[0m \u001b[1;33m+=\u001b[0m \u001b[0mnum\u001b[0m\u001b[1;33m\u001b[0m\u001b[1;33m\u001b[0m\u001b[0m\n\u001b[1;32m----> 8\u001b[1;33m     \u001b[1;32mreturn\u001b[0m \u001b[0mrunning_sum\u001b[0m \u001b[1;33m/\u001b[0m \u001b[0mlen\u001b[0m\u001b[1;33m(\u001b[0m\u001b[0mmy_list\u001b[0m\u001b[1;33m)\u001b[0m\u001b[1;33m\u001b[0m\u001b[1;33m\u001b[0m\u001b[0m\n\u001b[0m",
      "\u001b[1;31mZeroDivisionError\u001b[0m: division by zero"
     ]
    }
   ],
   "source": [
    "assert mean_list([1, 2, 3]) == 2\n",
    "assert mean_list([-1, -2, 1, 2]) == 0\n",
    "assert mean_list([]) == 0\n"
   ]
  },
  {
   "cell_type": "markdown",
   "metadata": {},
   "source": [
    "Thus, we might rely on _Automatic Testing_, which consists on writing a great amount of tests that can then be executed as many times as wanted. Automated tests will eventually discover things to be fixed, so you should modify your code to make the testing, and therefore, your code, more robust."
   ]
  },
  {
   "cell_type": "markdown",
   "metadata": {},
   "source": [
    "## Acceptance Testing\n",
    "These tests, as you might notice are testing small pieces of code. However we will need to test the code as a whole. This is called __Acceptance Testing__, which is often performed by business stakeholders. They can also be autommated using _end-to-end testing_ to make sure that a list of actions are carried out.\n",
    "\n",
    "> Acceptance testing: Is the API satisfying the stakeholders needs?\n",
    "\n",
    "As you can see, __Acceptance Testing__ is not very granular, and in fact, is the least granular of all the testing techniques. \n",
    "\n",
    "At a lower level of granularity we find __System Testing__\n",
    "## System Testing\n",
    "System Testing is a testing technique that is used to test the entire system. This is done by testing the entire system from the very beginning and then adding features one by one.\n",
    "\n",
    "> System Testing: Is the API available and performing as expected?\n",
    "\n",
    "System Testing is still not very granular, since it takes the whole system\n",
    "\n",
    "## Integration Testing\n",
    "Integration Testing is a testing technique that is used to test the interconnection between different parts of the system. This is done by testing parts of the code framed as scenarios.\n",
    "\n",
    "> Integration Testing: Is every endpoint working as expected?\n",
    "\n",
    "<br>\n",
    "\n",
    "## Unit Testing\n",
    "The lower level of granularity is __Unit Testing__. Unit Testing is a testing technique that is used to test individual units of code. It is usually done by the developers themselves, and it consists on testing specific functions/methods to see that they return assumed values/do assumed things\n",
    "\n",
    "> Unit Testing: Is each code module working properly?"
   ]
  },
  {
   "cell_type": "markdown",
   "metadata": {},
   "source": [
    "## Pyramid Testing\n",
    "\n",
    "Let's recap the type of testing we've seen so far:\n",
    "\n",
    "<p align=center><img width=700 src=images/pyramid_testing.png></p>"
   ]
  },
  {
   "cell_type": "markdown",
   "metadata": {},
   "source": [
    "We can see that unit test is the basis of testing design. Thus, in this notebook we will focus on this type of testing using the unittest module."
   ]
  },
  {
   "cell_type": "markdown",
   "metadata": {},
   "source": [
    "## Regression Testing\n",
    "\n",
    "Regression testing is not a testing per se, but rather an approach to develop your application. Regression testing consists on adding tests to your collection as you develop your application and find more and more bugs. This collection is named _test suite_, and developers run them in a _continuous integration_ (CI) server. Some of the most famous CI servers are [Jenkins](https://www.jenkins.io), [Travis CI](https://travis-ci.org) or [CircleCI](https://circleci.com)."
   ]
  },
  {
   "cell_type": "markdown",
   "metadata": {},
   "source": [
    "# Unit Testing"
   ]
  },
  {
   "cell_type": "markdown",
   "metadata": {},
   "source": [
    "> ## A Unit is a small, fundamental piece of software\n",
    "\n",
    "Unit testing seeks to verify that all the individual units of code in your application work correctly. We can implement unit testing using the `unittest` module.\n"
   ]
  },
  {
   "cell_type": "markdown",
   "metadata": {},
   "source": [
    "\n",
    "## Unit Testing using `unittest`\n",
    "\n",
    "Unittest is Python's built-in testing framework. Despite its name, it can also be used for integration testing. The module provides features for making assertions about the behaviour of code, and for comparing the behaviour of code to a known result. It also includes the tool for running tests.\n",
    "\n",
    "To start testing your code using unittest, you need to create a class that inherits from `unittest.TestCase`. By convention, the name of the class should have this syntax:\n",
    "```\n",
    "class <Object>TestCase(unittest.TestCase):\n",
    "```\n",
    "Where `<Object>` is the name of the class or function you want to test. For example, if you are testing a scraper, the name of the class would be `ScraperTestCase`. In this case, we are going to test the Date class in Date.py\n",
    "\n",
    "This class will have methods, and each method will assert a certain aspect of the behaviour of the class. For example, you can test the `__str__` method, which should return a string representation of the date.\n",
    "\n",
    "Unittest will include assertion methods that you can use to compare the output with the expected output. It will also include decorators to skip tests if a condition is met.\n",
    "\n",
    "The final step will be running the test. To do this, we need to import the `unittest` module, and then, we can run the test in the script using the `unittest.main()` function, or in the command line using the `python -m unittest` command. The latter command is the most common way to run tests in Python, but the first one is useful when developing a script. Thus, in this notebook, we will see how to perform both"
   ]
  },
  {
   "cell_type": "markdown",
   "metadata": {},
   "source": [
    "## Creating the Test class"
   ]
  },
  {
   "cell_type": "markdown",
   "metadata": {},
   "source": [
    "Before we test something, we need something to test! Luckily, we have a script named `product.py` that we can use to test. Take a look at that script and try to figure out what it does."
   ]
  },
  {
   "cell_type": "code",
   "execution_count": 5,
   "metadata": {},
   "outputs": [
    {
     "name": "stderr",
     "output_type": "stream",
     "text": [
      "\n",
      "----------------------------------------------------------------------\n",
      "Ran 0 tests in 0.000s\n",
      "\n",
      "OK\n"
     ]
    },
    {
     "data": {
      "text/plain": [
       "<unittest.main.TestProgram at 0x7f8c38bbdc40>"
      ]
     },
     "execution_count": 5,
     "metadata": {},
     "output_type": "execute_result"
    }
   ],
   "source": [
    "from example.product import Product\n",
    "import unittest\n",
    "\n",
    "class ProductTestCase(unittest.TestCase):\n",
    "    pass\n",
    "# unittest.main looks at sys.argv by default, which is what started IPython, hence the error about the kernel connection file not being a valid attribute. You can pass an explicit list to main to avoid looking up sys.argv.\n",
    "# In the notebook, you will also want to include exit=False to prevent unittest.main from trying to shutdown the kernel process:\n",
    "# If you are using a script, you don't need to pass any argument to main.\n",
    "\n",
    "unittest.main(argv=['first-arg-is-ignored'], exit=False)"
   ]
  },
  {
   "cell_type": "markdown",
   "metadata": {},
   "source": [
    "The report says that there are no errors in the code, which makes sense, because we don't have any!\n",
    "\n",
    "As mentioned, we can use the `unittest` module in the Command Line to test our code. To do this, we need to test a script whose name starts with `test_` (we can actually change that convention, but it's not recommended).\n",
    "\n",
    "Go create a new file called `test_product.py`. We will see how to organize the tests in the next notebook (the infamous Notebook 6). In the file include the same ProductTestCase:\n",
    "\n",
    "```\n",
    "from Cart.product import Product\n",
    "import unittest\n",
    "\n",
    "class ProductTestCase(unittest.TestCase):\n",
    "    pass\n",
    "```"
   ]
  },
  {
   "cell_type": "markdown",
   "metadata": {},
   "source": [
    "Then, in the command line type `python -m unittest`. This will detect all modules whose name start with test, and inside there, it will look at tests established in the class. The output you will see now is the same as in the cell:\n",
    "\n",
    "```\n",
    "----------------------------------------------------------------------\n",
    "Ran 0 tests in 0.000s\n",
    "\n",
    "OK\n",
    "```\n",
    "\n",
    "Which makes sense, because we haven't programmed any test yet."
   ]
  },
  {
   "cell_type": "markdown",
   "metadata": {},
   "source": [
    "## Your first unit test"
   ]
  },
  {
   "cell_type": "markdown",
   "metadata": {},
   "source": [
    "Let's populate the ProductTestCase. When we run a unit test, the module will check the assertions included in the methods. Take into account that an error due to other issue (for example a syntax error) will not count as a failed test."
   ]
  },
  {
   "cell_type": "code",
   "execution_count": 4,
   "metadata": {},
   "outputs": [
    {
     "name": "stderr",
     "output_type": "stream",
     "text": [
      "----------------------------------------------------------------------\n",
      "Ran 1 test in 0.000s\n",
      "\n",
      "OK\n"
     ]
    },
    {
     "data": {
      "text/plain": [
       "<unittest.main.TestProgram at 0x19c49df5040>"
      ]
     },
     "execution_count": 4,
     "metadata": {},
     "output_type": "execute_result"
    }
   ],
   "source": [
    "from example.product import Product\n",
    "import unittest\n",
    "\n",
    "class ProductTestCase(unittest.TestCase):\n",
    "    def test_transform_name(self):\n",
    "        small_black_shoes = Product('shoes', 'S', 'black')\n",
    "        expected_value = 'SHOES'\n",
    "        actual_value = small_black_shoes.transform_name_for_sku()\n",
    "        self.assertEqual(expected_value, actual_value)\n",
    "\n",
    "unittest.main(argv=[''], verbosity=0, exit=False)"
   ]
  },
  {
   "cell_type": "markdown",
   "metadata": {},
   "source": [
    "### Try it yourself (20 min)\n",
    "\n",
    "- Try changing the name of the method to something that doesn't contain test at the beginning\n",
    "\n",
    "    - Add the 'incorrect' function to the `test_product.py` script.\n",
    "    - Run unittest on the command line <br>\n",
    "        <br>\n",
    "        - Go back to the 'right' function and try changing the expected value\n",
    "            - Add the 'right' function to the `test_product.py` script.\n",
    "            - Run unittest on the command line<br>\n",
    "        <br>\n",
    "        - Change functionality to the `transform_name_for_sku()` method:\n",
    "            - It will now Capitalize the name of the product instead of UPPERCASING it\n",
    "            - Run the same test again\n",
    "            - Observe the errors\n",
    "            - This will happen every time you make a slight change to your code, and it might be annoying changing the test every time. But imagine what will happen when you start adding more and more code. A slight change can cause a huge snowball effect!<br>\n",
    "        <br>\n",
    "        - Add two more test methods:\n",
    "            - test_transform_color_for_sku, which asserts that the colour is well written after using `transform_color_for_sku()`\n",
    "            - test_generate_sku, which asserts that the SKU is well written after using `generate_sku()`\n",
    "            - for both cases, use `Product('shoes', 'S', 'black')`"
   ]
  },
  {
   "cell_type": "markdown",
   "metadata": {},
   "source": [
    "## setUp() and tearDown()"
   ]
  },
  {
   "cell_type": "markdown",
   "metadata": {},
   "source": [
    "In the last part of the exercise, you had to set the same product `Product('shoes', 'S', 'black')` twice, and added to the already existing product in `test_transform_name_for_skull`, that's three times. Is there a way to use the same scenario for each test? Well, of course there is, otherwise, I wouldn't be writting this. You can do it using the method setUp(), which will run at the beginning of each test. The opposite of setUp() is tearDown(), which is run everytime the test finishes."
   ]
  },
  {
   "cell_type": "code",
   "execution_count": 5,
   "metadata": {},
   "outputs": [
    {
     "name": "stderr",
     "output_type": "stream",
     "text": [
      "test_transform_name (__main__.ProductTestCase) ... ok\n",
      "\n",
      "----------------------------------------------------------------------\n",
      "Ran 1 test in 0.001s\n",
      "\n",
      "OK\n"
     ]
    },
    {
     "data": {
      "text/plain": [
       "<unittest.main.TestProgram at 0x19c49df5640>"
      ]
     },
     "execution_count": 5,
     "metadata": {},
     "output_type": "execute_result"
    }
   ],
   "source": [
    "from example.product import Product\n",
    "import unittest\n",
    "\n",
    "class ProductTestCase(unittest.TestCase):\n",
    "    # Initialize the scenario for your test\n",
    "    def setUp(self):\n",
    "        self.product = Product('shoes', 'S', 'black')\n",
    "    def test_transform_name(self):\n",
    "        expected_value = 'SHOES'\n",
    "        actual_value = self.product.transform_name_for_sku()\n",
    "        self.assertEqual(expected_value, actual_value)\n",
    "    # Finish \n",
    "    def tearDown(self):\n",
    "        del self.product\n",
    "\n",
    "unittest.main(argv=[''], verbosity=2, exit=False)"
   ]
  },
  {
   "cell_type": "markdown",
   "metadata": {},
   "source": [
    "In this case tearDown is not very useful, because we don't care about product once we finish the test anyway. Another example is using setUp and tearDown to open and close a file:"
   ]
  },
  {
   "cell_type": "code",
   "execution_count": 6,
   "metadata": {},
   "outputs": [
    {
     "name": "stderr",
     "output_type": "stream",
     "text": [
      "test_length (__main__.FileTestCase) ... ERROR\n",
      "test_transform_name (__main__.ProductTestCase) ... ok\n",
      "\n",
      "======================================================================\n",
      "ERROR: test_length (__main__.FileTestCase)\n",
      "----------------------------------------------------------------------\n",
      "Traceback (most recent call last):\n",
      "  File \"C:\\Users\\BLAIR_~1\\AppData\\Local\\Temp/ipykernel_20168/531815877.py\", line 6, in setUp\n",
      "    self.handle = open(\"Cart/product.py\", \"r\")\n",
      "FileNotFoundError: [Errno 2] No such file or directory: 'Cart/product.py'\n",
      "\n",
      "----------------------------------------------------------------------\n",
      "Ran 2 tests in 0.002s\n",
      "\n",
      "FAILED (errors=1)\n"
     ]
    },
    {
     "data": {
      "text/plain": [
       "<unittest.main.TestProgram at 0x19c49dfd400>"
      ]
     },
     "execution_count": 6,
     "metadata": {},
     "output_type": "execute_result"
    }
   ],
   "source": [
    "import unittest\n",
    "\n",
    "\n",
    "class FileTestCase(unittest.TestCase):\n",
    "    def setUp(self):\n",
    "        self.handle = open(\"Cart/product.py\", \"r\")\n",
    "\n",
    "    def test_length(self):\n",
    "        length = len(self.handle.readlines())\n",
    "        self.assertTrue(length > 20)\n",
    "\n",
    "    def tearDown(self):\n",
    "        self.handle.close()\n",
    "\n",
    "unittest.main(argv=[''], verbosity=2, exit=False)"
   ]
  },
  {
   "cell_type": "markdown",
   "metadata": {},
   "source": [
    "## Assertions"
   ]
  },
  {
   "cell_type": "markdown",
   "metadata": {},
   "source": [
    "Python has assertion statements by default that you can use in your code to make sure a condition is met. It works similar to an `if/else` statement, but in this case, if the condition is not fulfilled, the code will directly raise an error."
   ]
  },
  {
   "cell_type": "code",
   "execution_count": 7,
   "metadata": {},
   "outputs": [],
   "source": [
    "ivan = 'dumb'\n",
    "assert ivan == 'dumb' # The assertion doesn't raise an error"
   ]
  },
  {
   "cell_type": "code",
   "execution_count": 8,
   "metadata": {},
   "outputs": [
    {
     "ename": "AssertionError",
     "evalue": "",
     "output_type": "error",
     "traceback": [
      "\u001b[1;31m---------------------------------------------------------------------------\u001b[0m",
      "\u001b[1;31mAssertionError\u001b[0m                            Traceback (most recent call last)",
      "\u001b[1;32mC:\\Users\\BLAIR_~1\\AppData\\Local\\Temp/ipykernel_20168/2272855912.py\u001b[0m in \u001b[0;36m<module>\u001b[1;34m\u001b[0m\n\u001b[1;32m----> 1\u001b[1;33m \u001b[1;32massert\u001b[0m \u001b[0mivan\u001b[0m \u001b[1;33m==\u001b[0m \u001b[1;34m'smart'\u001b[0m \u001b[1;31m# The assertion raises an error. I guess I should study more\u001b[0m\u001b[1;33m\u001b[0m\u001b[1;33m\u001b[0m\u001b[0m\n\u001b[0m",
      "\u001b[1;31mAssertionError\u001b[0m: "
     ]
    }
   ],
   "source": [
    "assert ivan == 'smart' # The assertion raises an error. I guess I should study more"
   ]
  },
  {
   "cell_type": "markdown",
   "metadata": {},
   "source": [
    "unittest has its own methods for creating these assertions, and that way, when running a test, it will add up each failed assertion to a total. Examples of these assertions are:\n",
    "\n",
    "- `assertEqual(a, b)`\n",
    "- `assertNotEqual(a, b)`\n",
    "- `assertTrue(x)`\n",
    "- `assertFalse(x)`\n",
    "- `assertIsInstance(a, b)`\n",
    "- `assertIn(a, b)`\n",
    "- `assertAlmostEqual(a, b)` like `round(a-b, 7) == 0`\n",
    "- `assertGreaterEqual(a, b)`\n",
    "- `assertRegex(s, r)` like `r.search(s)`\n",
    "- `assertMultiLineEqual(a, b)` compares two strings\n",
    "- `assertDictEqual(a, b)` compares two dictionaries\n",
    "- `assertSequenceEqual(a, b)` compares two sequences\n"
   ]
  },
  {
   "cell_type": "markdown",
   "metadata": {},
   "source": [
    "Take a look at this page for a more [exhaustive list](https://docs.python.org/3/library/unittest.html#module-unittest)"
   ]
  },
  {
   "cell_type": "markdown",
   "metadata": {},
   "source": [
    "## Write your first test suite"
   ]
  },
  {
   "cell_type": "markdown",
   "metadata": {},
   "source": [
    "The `product.py` file was fairly simple, so let's spice things up. We are going to add these products to a Shopping Cart, so let's create a new module for said Cart. Thanks to the magic of preparing lessons, the package `Cart` already has a `cart.py` module. The ShoppingCart class has two methods: `add_product`, and `remove_product`. The product(s) we will add are products from the Product class.\n",
    "\n",
    "So, if everything is fine, we should be able to add a product, and after removing, the cart will be empty."
   ]
  },
  {
   "cell_type": "code",
   "execution_count": 9,
   "metadata": {},
   "outputs": [
    {
     "name": "stderr",
     "output_type": "stream",
     "text": [
      "test_length (__main__.FileTestCase) ... ERROR\n",
      "test_transform_name (__main__.ProductTestCase) ... ok\n",
      "test_add_and_remove_product (__main__.ShoppingCartTestCase) ... ok\n",
      "\n",
      "======================================================================\n",
      "ERROR: test_length (__main__.FileTestCase)\n",
      "----------------------------------------------------------------------\n",
      "Traceback (most recent call last):\n",
      "  File \"C:\\Users\\BLAIR_~1\\AppData\\Local\\Temp/ipykernel_20168/531815877.py\", line 6, in setUp\n",
      "    self.handle = open(\"Cart/product.py\", \"r\")\n",
      "FileNotFoundError: [Errno 2] No such file or directory: 'Cart/product.py'\n",
      "\n",
      "----------------------------------------------------------------------\n",
      "Ran 3 tests in 0.003s\n",
      "\n",
      "FAILED (errors=1)\n"
     ]
    },
    {
     "data": {
      "text/plain": [
       "<unittest.main.TestProgram at 0x19c49dfd9a0>"
      ]
     },
     "execution_count": 9,
     "metadata": {},
     "output_type": "execute_result"
    }
   ],
   "source": [
    "import unittest\n",
    "from example.cart import ShoppingCart\n",
    "from example.product import Product\n",
    "\n",
    "class ShoppingCartTestCase(unittest.TestCase):\n",
    "    def test_add_and_remove_product(self):\n",
    "        cart = ShoppingCart()\n",
    "        product = Product('Polo', 'S', 'Navy Blue')\n",
    "        \n",
    "        cart.add_product(product)\n",
    "        cart.remove_product(product)\n",
    "        # Check if the products attribute is empty\n",
    "        # The assertDictEqual check if two dicts are equal\n",
    "        self.assertDictEqual({}, cart.products) \n",
    "\n",
    "unittest.main(argv=[''], verbosity=3, exit=False)"
   ]
  },
  {
   "cell_type": "markdown",
   "metadata": {},
   "source": [
    "Looks great! Something that you might have noticed is that it ran three tests, but we just specified one. This is because once you run a test, that Test class will be stored if you are working in a notebook, or they will all be ran if you are working in the command line. \n",
    "\n",
    "This is actually one of the beauties of unittest, as you start writing tests, they will be added to your _test suite_, so next time you change your code, you can simply run the _test suite_ to check all functions at once."
   ]
  },
  {
   "cell_type": "markdown",
   "metadata": {},
   "source": [
    "One thing that you might not notice is that we are already implementing integration testing, the second level of granularity in the pyramid testing. Observe that `test_add_and_remove_product` calls for both `generate_sku` from `product.py`, and `add_product` and `remove_product` from `cart.py`. You will have the chance to add more tests to the test suite during the challenges."
   ]
  },
  {
   "cell_type": "markdown",
   "metadata": {},
   "source": [
    "\n",
    "## Skipping tests\n",
    "\n",
    "We can skip certain tests given specific consitions using decorators:"
   ]
  },
  {
   "cell_type": "code",
   "execution_count": 10,
   "metadata": {},
   "outputs": [
    {
     "name": "stderr",
     "output_type": "stream",
     "text": [
      "test_length (__main__.FileTestCase) ... ERROR\n",
      "test_maybe_skipped (__main__.MyTestCase) ... skipped 'Yes, 5 is equal to 5 so we skip'\n",
      "test_nothing (__main__.MyTestCase) ... skipped 'demonstrating skipping'\n",
      "test_py3_format (__main__.MyTestCase) ... ok\n",
      "test_windows_support (__main__.MyTestCase) ... ok\n",
      "test_transform_name (__main__.ProductTestCase) ... ok\n",
      "test_add_and_remove_product (__main__.ShoppingCartTestCase) ... ok\n",
      "\n",
      "======================================================================\n",
      "ERROR: test_length (__main__.FileTestCase)\n",
      "----------------------------------------------------------------------\n",
      "Traceback (most recent call last):\n",
      "  File \"C:\\Users\\BLAIR_~1\\AppData\\Local\\Temp/ipykernel_20168/531815877.py\", line 6, in setUp\n",
      "    self.handle = open(\"Cart/product.py\", \"r\")\n",
      "FileNotFoundError: [Errno 2] No such file or directory: 'Cart/product.py'\n",
      "\n",
      "----------------------------------------------------------------------\n",
      "Ran 7 tests in 0.005s\n",
      "\n",
      "FAILED (errors=1, skipped=2)\n"
     ]
    },
    {
     "data": {
      "text/plain": [
       "<unittest.main.TestProgram at 0x19c49e18c10>"
      ]
     },
     "execution_count": 10,
     "metadata": {},
     "output_type": "execute_result"
    }
   ],
   "source": [
    "import sys\n",
    "\n",
    "class MyTestCase(unittest.TestCase):\n",
    "    @unittest.skip(\"demonstrating skipping\")\n",
    "    def test_nothing(self):\n",
    "        # This line will not run at all\n",
    "        self.fail(\"shouldn't happen\")\n",
    "\n",
    "    @unittest.skipIf(sys.version_info.major < 3, \"Not supported for Python 2\")\n",
    "    def test_py3_format(self):\n",
    "        self.assertEqual(\"{}\".format(\"aaa\"), \"aaa\")\n",
    "        pass\n",
    "\n",
    "    @unittest.skipUnless(sys.platform.startswith(\"win\"), \"Windows required\")\n",
    "    def test_windows_support(self):\n",
    "        # windows specific testing code\n",
    "        pass\n",
    "\n",
    "    def test_maybe_skipped(self):\n",
    "        # Skip test from within the function body\n",
    "        if 5 == 5:\n",
    "            self.skipTest(\"Yes, 5 is equal to 5 so we skip\")\n",
    "        # test code which would run if 5 != 5 (essentially never, we know)\n",
    "        ...\n",
    "        \n",
    "unittest.main(argv=[''], verbosity=3, exit=False)"
   ]
  },
  {
   "cell_type": "markdown",
   "metadata": {},
   "source": [
    "## Hypothesis\n",
    "\n",
    "> __Hypothesis is a `python` library for `property-based testing` which is easier, more powerful and has way larger test cases coverage than standard unit testing__\n",
    "\n",
    "Difference between `unit testing` and `property-based testing` is fantastically explained by [Hypothesis Welcome Page](https://hypothesis.readthedocs.io/en/latest/):\n",
    "\n",
    "__Think of a normal unit test as being something like the following:__\n",
    "\n",
    "1. Set up some data.\n",
    "2. Perform some operations on the data.\n",
    "3. Assert something about the result.\n",
    "\n",
    "__Hypothesis lets you write tests which instead look like this:__\n",
    "\n",
    "1. For all data matching some specification.\n",
    "2. Perform some operations on the data.\n",
    "3. Assert something about the result.\n",
    "\n",
    "This idea was popularized by [Haskell](https://www.haskell.org/) (purely functional programming language) library [QuickCheck](https://hackage.haskell.org/package/QuickCheck).\n",
    "\n",
    "> __Hypothesis generates testing data based on your specification and checks whether guarantees you want to give hold true.__\n",
    "\n",
    "### Installation\n",
    "\n",
    "As per usual, one can install `hypothesis` via `pip` or [`conda`](https://anaconda.org/conda-forge/hypothesis).\n",
    "\n",
    "There are also a few extensions provided for scientific stack especially (like `numpy` or `pandas`).\n",
    "\n",
    "To install `hypothesis` with `numpy` generation strategies via `pip` one could do `pip install hypothese-numpy`."
   ]
  },
  {
   "cell_type": "markdown",
   "metadata": {},
   "source": [
    "### General\n",
    "\n",
    "First, let's set up an example which `encode`s the string and `decode`s it:"
   ]
  },
  {
   "cell_type": "code",
   "execution_count": 11,
   "metadata": {},
   "outputs": [],
   "source": [
    "def encode(input_string):\n",
    "    count = 1\n",
    "    prev = \"\"\n",
    "    lst = []\n",
    "    for character in input_string:\n",
    "        if character != prev:\n",
    "            if prev:\n",
    "                entry = (prev, count)\n",
    "                lst.append(entry)\n",
    "            count = 1\n",
    "            prev = character\n",
    "        else:\n",
    "            count += 1\n",
    "    entry = (character, count)\n",
    "    lst.append(entry)\n",
    "    return lst\n",
    "\n",
    "\n",
    "def decode(lst):\n",
    "    q = \"\"\n",
    "    for character, count in lst:\n",
    "        q += character * count\n",
    "    return q\n"
   ]
  },
  {
   "cell_type": "markdown",
   "metadata": {},
   "source": [
    "It should be fairly obvious, that `encode(decode(<string>))` should return original `<string>`.\n",
    "\n",
    "Hypothesis can generate `<string>` examples for us (just like unit tests, but way easier and automated) using:\n",
    "- `strategy` - way to create testing data (in this case `text`)\n",
    "- `given` - generate samples from the specified strategy\n",
    "\n",
    "With that in mind, let's see how we could do that:"
   ]
  },
  {
   "cell_type": "code",
   "execution_count": 12,
   "metadata": {},
   "outputs": [
    {
     "name": "stderr",
     "output_type": "stream",
     "text": [
      "test_length (__main__.FileTestCase) ... ERROR\n",
      "test_maybe_skipped (__main__.MyTestCase) ... skipped 'Yes, 5 is equal to 5 so we skip'\n",
      "test_nothing (__main__.MyTestCase) ... skipped 'demonstrating skipping'\n",
      "test_py3_format (__main__.MyTestCase) ... ok\n",
      "test_windows_support (__main__.MyTestCase) ... ok\n",
      "test_transform_name (__main__.ProductTestCase) ... ok\n",
      "test_add_and_remove_product (__main__.ShoppingCartTestCase) ... ok\n",
      "test_decode_inverts_encode (__main__.TestEncoding) ... "
     ]
    },
    {
     "name": "stdout",
     "output_type": "stream",
     "text": [
      "Falsifying example: test_decode_inverts_encode(\n",
      "    s='', self=<__main__.TestEncoding testMethod=test_decode_inverts_encode>,\n",
      ")\n"
     ]
    },
    {
     "name": "stderr",
     "output_type": "stream",
     "text": [
      "ERROR\n",
      "\n",
      "======================================================================\n",
      "ERROR: test_length (__main__.FileTestCase)\n",
      "----------------------------------------------------------------------\n",
      "Traceback (most recent call last):\n",
      "  File \"C:\\Users\\BLAIR_~1\\AppData\\Local\\Temp/ipykernel_20168/531815877.py\", line 6, in setUp\n",
      "    self.handle = open(\"Cart/product.py\", \"r\")\n",
      "FileNotFoundError: [Errno 2] No such file or directory: 'Cart/product.py'\n",
      "\n",
      "======================================================================\n",
      "ERROR: test_decode_inverts_encode (__main__.TestEncoding)\n",
      "----------------------------------------------------------------------\n",
      "Traceback (most recent call last):\n",
      "  File \"C:\\Users\\BLAIR_~1\\AppData\\Local\\Temp/ipykernel_20168/1291541619.py\", line 8, in test_decode_inverts_encode\n",
      "    def test_decode_inverts_encode(self, s):\n",
      "  File \"C:\\Users\\blair_bbkduqz\\anaconda3\\envs\\AiCoreTeach\\lib\\site-packages\\hypothesis\\core.py\", line 1199, in wrapped_test\n",
      "    raise the_error_hypothesis_found\n",
      "  File \"C:\\Users\\BLAIR_~1\\AppData\\Local\\Temp/ipykernel_20168/1291541619.py\", line 9, in test_decode_inverts_encode\n",
      "    self.assertEqual(decode(encode(s)), s)\n",
      "  File \"C:\\Users\\BLAIR_~1\\AppData\\Local\\Temp/ipykernel_20168/3168843809.py\", line 14, in encode\n",
      "    entry = (character, count)\n",
      "UnboundLocalError: local variable 'character' referenced before assignment\n",
      "\n",
      "----------------------------------------------------------------------\n",
      "Ran 8 tests in 0.096s\n",
      "\n",
      "FAILED (errors=2, skipped=2)\n"
     ]
    },
    {
     "data": {
      "text/plain": [
       "<unittest.main.TestProgram at 0x19c49e18910>"
      ]
     },
     "execution_count": 12,
     "metadata": {},
     "output_type": "execute_result"
    }
   ],
   "source": [
    "# Change that to unittest\n",
    "\n",
    "from hypothesis import given\n",
    "import hypothesis.strategies as st\n",
    "\n",
    "class TestEncoding(unittest.TestCase):\n",
    "    @given(st.text())\n",
    "    def test_decode_inverts_encode(self, s):\n",
    "        self.assertEqual(decode(encode(s)), s)\n",
    "        \n",
    "unittest.main(argv=[''], verbosity=2, exit=False)"
   ]
  },
  {
   "cell_type": "markdown",
   "metadata": {},
   "source": [
    "First of all notice how easy it is to mix `unittest` with `hypothesis` to create way more comprehensive test suite.\n",
    "\n",
    "You can see that for our string encoding function fails when the input is an empty string. If we fix the above code by appending\n",
    "the check for empty string:"
   ]
  },
  {
   "cell_type": "code",
   "execution_count": 25,
   "metadata": {},
   "outputs": [],
   "source": [
    "def encode(input_string):\n",
    "    # This is an example fix\n",
    "    if input_string == \"\":\n",
    "        return []\n",
    "    \n",
    "    count = 1\n",
    "    prev = \"\"\n",
    "    lst = []\n",
    "    for character in input_string:\n",
    "        if character != prev:\n",
    "            if prev:\n",
    "                entry = (prev, count)\n",
    "                lst.append(entry)\n",
    "            count = 1\n",
    "            prev = character\n",
    "        else:\n",
    "            count += 1\n",
    "    entry = (character, count)\n",
    "    lst.append(entry)\n",
    "    return lst\n",
    "\n",
    "\n",
    "def decode(lst):\n",
    "    q = \"\"\n",
    "    for character, count in lst:\n",
    "        q += character * count\n",
    "    return q"
   ]
  },
  {
   "cell_type": "markdown",
   "metadata": {},
   "source": [
    "And re-running the test (`@example` specifies this example will always be run, good for catching edge cases):"
   ]
  },
  {
   "cell_type": "code",
   "execution_count": 26,
   "metadata": {},
   "outputs": [
    {
     "name": "stderr",
     "output_type": "stream",
     "text": [
      "test_length (__main__.FileTestCase) ... ERROR\n",
      "test_maybe_skipped (__main__.MyTestCase) ... skipped 'Yes, 5 is equal to 5 so we skip'\n",
      "test_nothing (__main__.MyTestCase) ... skipped 'demonstrating skipping'\n",
      "test_py3_format (__main__.MyTestCase) ... ok\n",
      "test_windows_support (__main__.MyTestCase) ... ok\n",
      "test_transform_name (__main__.ProductTestCase) ... ok\n",
      "test_add_and_remove_product (__main__.ShoppingCartTestCase) ... ok\n",
      "test_decode_inverts_encode (__main__.TestEncoding) ... ok\n",
      "\n",
      "======================================================================\n",
      "ERROR: test_length (__main__.FileTestCase)\n",
      "----------------------------------------------------------------------\n",
      "Traceback (most recent call last):\n",
      "  File \"C:\\Users\\BLAIR_~1\\AppData\\Local\\Temp/ipykernel_20168/531815877.py\", line 6, in setUp\n",
      "    self.handle = open(\"Cart/product.py\", \"r\")\n",
      "FileNotFoundError: [Errno 2] No such file or directory: 'Cart/product.py'\n",
      "\n",
      "----------------------------------------------------------------------\n",
      "Ran 8 tests in 0.179s\n",
      "\n",
      "FAILED (errors=1, skipped=2)\n"
     ]
    },
    {
     "data": {
      "text/plain": [
       "<unittest.main.TestProgram at 0x19c627bfe80>"
      ]
     },
     "execution_count": 26,
     "metadata": {},
     "output_type": "execute_result"
    }
   ],
   "source": [
    "unittest.main(argv=[''], verbosity=2, exit=False)"
   ]
  },
  {
   "cell_type": "markdown",
   "metadata": {},
   "source": [
    "Generated tests pass correctly.\n",
    "\n",
    "> __Hypothesis is smart about running tests, IT WILL ONLY RUN THE FAILED CASES (as it has it's own internal database)!__\n",
    "\n",
    "### Hypothesis tricks\n",
    "\n",
    "A few useful things, which should help you with your tests:\n",
    "\n",
    "> __`filter` values generated by a strategy__"
   ]
  },
  {
   "cell_type": "code",
   "execution_count": 15,
   "metadata": {},
   "outputs": [],
   "source": [
    "\n",
    "@given(st.integers().filter(lambda x: x % 2 == 0))\n",
    "def test_even_integers(i):\n",
    "    pass\n"
   ]
  },
  {
   "cell_type": "markdown",
   "metadata": {},
   "source": [
    "> __`assume` that input is/is not something__\n",
    "\n",
    "> __NOTE:__ Hypothesis will fail if your assumptions get rid of too many generated samples\n",
    "\n",
    "Test will not be marked as `failing` __if the assumption is `false`__:\n",
    "from math import isnan"
   ]
  },
  {
   "cell_type": "code",
   "execution_count": 29,
   "metadata": {},
   "outputs": [],
   "source": [
    "\n",
    "\n",
    "@given(st.floats())\n",
    "def test_negation_is_self_inverse_for_non_nan(x):\n",
    "    assume(not isnan(x))\n",
    "    assert x == -(-x)\n",
    "\n"
   ]
  },
  {
   "cell_type": "markdown",
   "metadata": {},
   "source": [
    "> __strategies are highly customizable__\n",
    "\n",
    "One can specify a lot of parameters for the strategies, for example:\n",
    "st.integers(min_value=0, max_value=10).example()\n",
    "> __`given` can specify some/all argument to function via `kwargs` or `args`__\n",
    "\n",
    "With the following signature:\n",
    "\n",
    "```\n",
    "hypothesis.given(*_given_arguments, **_given_kwargs)\n",
    "```\n",
    "\n",
    "Valid cases could be (amongst others):"
   ]
  },
  {
   "cell_type": "code",
   "execution_count": 17,
   "metadata": {},
   "outputs": [
    {
     "ename": "IndentationError",
     "evalue": "expected an indented block (Temp/ipykernel_20168/3362173879.py, line 11)",
     "output_type": "error",
     "traceback": [
      "\u001b[1;36m  File \u001b[1;32m\"C:\\Users\\BLAIR_~1\\AppData\\Local\\Temp/ipykernel_20168/3362173879.py\"\u001b[1;36m, line \u001b[1;32m11\u001b[0m\n\u001b[1;33m    @given(y=st.integers())\u001b[0m\n\u001b[1;37m    ^\u001b[0m\n\u001b[1;31mIndentationError\u001b[0m\u001b[1;31m:\u001b[0m expected an indented block\n"
     ]
    }
   ],
   "source": [
    "@given(st.integers(), st.integers())\n",
    "def a(x, y):\n",
    "    pass\n",
    "\n",
    "\n",
    "@given(st.integers())\n",
    "def b(x, y):\n",
    "\n",
    "\n",
    "\n",
    "@given(y=st.integers())\n",
    "def c(x, y):\n",
    "    pass\n",
    "\n"
   ]
  },
  {
   "cell_type": "markdown",
   "metadata": {},
   "source": [
    "# Summary\n",
    "\n",
    "- Testing your code is crucial as your software starts growing\n",
    "- Good test suites are key for a continuous integration (CI) environment\n",
    "- Non-Functional testing checks parameters such as performance and security\n",
    "- Functional testing checks that your code works as intended with no issues\n",
    "- Unit testing is the lowest level of granularity in your testing schema\n",
    "- You can use `unittest` to create unit testing and integration testing\n",
    "- As you create more test classes, the test suite will grow bigger\n",
    "- Instead of giving a whole range of values, you can use the `hypothesis` library to set a strategy for a test"
   ]
  },
  {
   "cell_type": "markdown",
   "metadata": {},
   "source": [
    "# Challenges\n",
    "\n",
    "### Q1. The Stock Keeping Unit has to be updated, so if you add products or colours with whitespaces, the SKU removes them:\n",
    "`'tank top', 'm', 'navy blue'` should look `'TANKTOP-M-NAVYBLUE'`\n",
    "### Q2. The Stock Keeping Unit has to be updated, so if you add products with dashes, the SKU removes them:\n",
    "`'tshirt', 'm', 'navy blue'` should look `'TSHIRT-M-NAVYBLUE'`\n",
    "### Q3. Run the test_product you created during the lesson. Modify it so you don't get any failed test\n",
    "### Q4. Add the following tests to the test suite:\n",
    "#### $\\qquad$ 1. `test_cart_initially_empty()`: tests that, after creating the cart instance, it starts as an empty dictionary\n",
    "#### $\\qquad$ 2. `test_add_prodcut()`: tests that, after adding a product to the cart, cart.products will be equal to a dictionary like this: `{'SHOES-S-BLUE': {'quantity': 1}}`\n",
    "#### $\\qquad$ 3. `test_add_two_of_a_product`: tests that, after adding a product passing the argument `quantity` equals 2, cart.product has a dictionary whose quantity is 2\n",
    "#### $\\qquad$ 4. `test_add_two_different_products`\n",
    "### Q5. Add the following test to the test suite:\n",
    "```\n",
    "def test_remove_too_many(self):\n",
    "    cart = ShoppingCart()\n",
    "    product = Product('shoes', 'S', 'blue')\n",
    "    \n",
    "    cart.add_product(product)\n",
    "    cart.remove_product(product, quantity=2)\n",
    "\n",
    "    self.assertDictEqual({}, cart.products)\n",
    "```\n",
    "#### Does it run fine? How can you fix it?\n",
    "\n",
    "### Q6. Decorate with hypothesis at least two of the tests in your test suite\n"
   ]
  },
  {
   "cell_type": "markdown",
   "metadata": {},
   "source": []
  },
  {
   "cell_type": "markdown",
   "metadata": {},
   "source": [
    "# Assessments:\n",
    "\n",
    "### 1. Look for Behaviour-Driven Development\n",
    "Take a look at [Cucumber.io](https://cucumber.io) \n",
    "### 2. Learn basics of `pytest` (documentation [here](https://docs.pytest.org/en/latest/contents.html))\n",
    "### 3. What is `pytest`'s [mark.parametrize](https://docs.pytest.org/en/stable/parametrize.html)? \n",
    "### 4. What is [Test Driven Development](https://en.wikipedia.org/wiki/Test-driven_development) and what are the general steps needed to follow this approach?\n",
    "### 5. What is [Unittest Mocking](https://docs.python.org/3/library/unittest.mock.html) and what are the general steps needed to follow this approach?"
   ]
  },
  {
   "cell_type": "markdown",
   "metadata": {},
   "source": []
  }
 ],
 "metadata": {
  "interpreter": {
   "hash": "3d597f4c481aa0f25dceb95d2a0067e73c0966dcbd003d741d821a7208527ecf"
  },
  "kernelspec": {
   "display_name": "Python 3.9.1 64-bit ('base': conda)",
   "name": "python3"
  },
  "language_info": {
   "codemirror_mode": {
    "name": "ipython",
    "version": 3
   },
   "file_extension": ".py",
   "mimetype": "text/x-python",
   "name": "python",
   "nbconvert_exporter": "python",
   "pygments_lexer": "ipython3",
   "version": "3.9.1"
  },
  "orig_nbformat": 4
 },
 "nbformat": 4,
 "nbformat_minor": 2
}
