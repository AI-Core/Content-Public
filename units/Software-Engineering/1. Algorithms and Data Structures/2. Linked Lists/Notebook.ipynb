{
 "cells": [
  {
   "cell_type": "markdown",
   "metadata": {},
   "source": [
    "# Linked Lists\n",
    "\n",
    "Linked lists are very similar to regular lists. They are an ordered collection of objects; the difference lies in the way they store their items:\n",
    "\n",
    "- Each item in a List is a reference to their data\n",
    "- Each item in a Linked Lists is a reference to their data AND to another item\n",
    "\n",
    "To understand this concept, we need to see what is a Node\n"
   ]
  },
  {
   "cell_type": "markdown",
   "metadata": {},
   "source": [
    "## Nodes\n",
    "\n",
    "A node is the atomic component of a linked list. It has two different fields:\n",
    "\n",
    "- Data: Contains the value\n",
    "- Next: Contains the reference to another item. In this case, this 'another item' is another node\n",
    "\n",
    "![](images/linked_list.png)\n",
    "\n",
    "The first node is called Head, and each node points to the next one, except for the last one, which points to the None\n"
   ]
  },
  {
   "cell_type": "markdown",
   "metadata": {},
   "source": [
    "### Difference in Performance\n",
    "\n",
    "By now, you know that `.append(), insert(), .remove()`, and `.pop()` insert or remove elements in a regular list in Python. If we insert or remove something at the end of the list, the operation virtually does not require time. However, if we want to insert or remove items that are NOT at the end, the operation is more complex and therefore it takes more time.\n",
    "\n",
    "In essence, if you add something that is not at the end, you have to shift each element to the right, so if you add something at the beginning of the list, you have to shift all elements one position to the right.\n",
    "\n",
    "![](images/LinkedList_2.gif)"
   ]
  },
  {
   "cell_type": "markdown",
   "metadata": {},
   "source": [
    "For linked lists, on the other hand, you don't have to move any element, you can simply change the pointers \n",
    "\n",
    "![](images/LinkedList_3.gif)"
   ]
  },
  {
   "cell_type": "code",
   "execution_count": 80,
   "metadata": {},
   "outputs": [
    {
     "data": {
      "text/plain": [
       "3"
      ]
     },
     "execution_count": 80,
     "metadata": {},
     "output_type": "execute_result"
    }
   ],
   "source": [
    "my_list = [1, 2, 3, 4]\n",
    "my_list[2]"
   ]
  },
  {
   "cell_type": "markdown",
   "metadata": {},
   "source": [
    "Can you figure out what happens what you delete an element in both List and Linked List?\n",
    "\n",
    "This feature will make it the perfect choice when we need to implement Stack and Queus algorithms (which we will see in the next lesson)."
   ]
  },
  {
   "cell_type": "markdown",
   "metadata": {},
   "source": [
    "### The Main Drawback\n",
    "\n",
    "The main problem of Linked Lists is that they are not indexed, so you cannot access directly to a random element. It takes us O(n) to visit an element by index."
   ]
  },
  {
   "cell_type": "markdown",
   "metadata": {},
   "source": [
    "## More Type of Linked Lists"
   ]
  },
  {
   "cell_type": "markdown",
   "metadata": {},
   "source": [
    "So far, we have seen Singly Linked List, this is, linked lists with just one pointer and a linear structure. However, thanks to its properties, you can create complex structures, such as Circular Linked List and Double Ended Queues"
   ]
  },
  {
   "cell_type": "markdown",
   "metadata": {},
   "source": [
    "## Circular Linked List\n",
    "\n",
    "In a circular linked list, the elements point each other in a circular way, forming a loop. \n",
    "\n",
    "![](images/linked_list_circular.webp)\n",
    "\n",
    "In Challenge 2, we will see how to implement it"
   ]
  },
  {
   "cell_type": "markdown",
   "metadata": {},
   "source": [
    "## Double Ended Queue\n",
    "\n",
    "Double ended queues, or dequeus (pronounced 'decks') are a generalized form of queue (which in turn is a special form of linked list) \n",
    "\n",
    "![](images/deque.jpg)"
   ]
  },
  {
   "cell_type": "markdown",
   "metadata": {},
   "source": [
    "To add a Double Ended Queue, we can use the Collection library, and inside the library, the deque module:\n",
    "\n",
    "When initializing a deque object, you can pass any iterable as an input, such as a string (also an iterable) or a list of objects."
   ]
  },
  {
   "cell_type": "code",
   "execution_count": 81,
   "metadata": {},
   "outputs": [
    {
     "data": {
      "text/plain": [
       "deque(['a', 'b', 'c'])"
      ]
     },
     "execution_count": 81,
     "metadata": {},
     "output_type": "execute_result"
    }
   ],
   "source": [
    "from collections import deque\n",
    "deque(['a','b','c'])"
   ]
  },
  {
   "cell_type": "markdown",
   "metadata": {},
   "source": [
    "Same as in a list, you can add and remove elements "
   ]
  },
  {
   "cell_type": "code",
   "execution_count": 82,
   "metadata": {},
   "outputs": [
    {
     "name": "stdout",
     "output_type": "stream",
     "text": [
      "deque(['abc', 'def', 'ghi', 'jkl'])\n",
      "deque(['abc', 'def', 'ghi', 'jkl', 'mno'])\n",
      "deque(['xyz', 'abc', 'def', 'ghi', 'jkl', 'mno'])\n"
     ]
    }
   ],
   "source": [
    "linked_list = deque(['abc', 'def', 'ghi', 'jkl'])\n",
    "print(linked_list)\n",
    "linked_list.append('mno')\n",
    "print(linked_list)\n",
    "linked_list.appendleft('xyz')\n",
    "print(linked_list)"
   ]
  },
  {
   "cell_type": "markdown",
   "metadata": {},
   "source": [
    "You can see that this is very similar to a regular list, but in this case, we have the added values of lower time complexities"
   ]
  },
  {
   "cell_type": "markdown",
   "metadata": {},
   "source": [
    "## Exercise. Implement a LinkedList class"
   ]
  },
  {
   "cell_type": "markdown",
   "metadata": {},
   "source": [
    "One of the most common question in interviews is: How would you implement a linked list class from scratch? Let's take a look at the pseudocode.\n",
    "\n",
    "1. Create a Linked List class. When instantiate a new Linked List, this will consist only on the Head of the list."
   ]
  },
  {
   "cell_type": "code",
   "execution_count": 1,
   "metadata": {},
   "outputs": [],
   "source": [
    "class LinkedList:\n",
    "    def __init__(self):\n",
    "        self.head = None"
   ]
  },
  {
   "cell_type": "markdown",
   "metadata": {},
   "source": [
    "2. You will also need a Node class, which will be the object of each element in the Link Listed"
   ]
  },
  {
   "cell_type": "code",
   "execution_count": 2,
   "metadata": {},
   "outputs": [],
   "source": [
    "class Node:\n",
    "    def __init__(self, x):\n",
    "        self.val = x\n",
    "        self.next = None"
   ]
  },
  {
   "cell_type": "markdown",
   "metadata": {},
   "source": [
    "3. Let's combine them, and add a magic method to make them look nice upon calling, so in this case we implement the _ _ repr _ _ method."
   ]
  },
  {
   "cell_type": "code",
   "execution_count": 3,
   "metadata": {},
   "outputs": [],
   "source": [
    "class Node:\n",
    "    def __init__(self, data):\n",
    "        self.data = data\n",
    "        self.next = None\n",
    "\n",
    "    def __repr__(self):\n",
    "        return self.data\n",
    "\n",
    "class LinkedList:\n",
    "    def __init__(self):\n",
    "        self.head = None\n",
    "\n",
    "    def __repr__(self):\n",
    "        node = self.head\n",
    "        nodes = []\n",
    "        while node is not None:\n",
    "            nodes.append(node.data)\n",
    "            node = node.next\n",
    "        nodes.append(\"None\")\n",
    "        return \" -> \".join(nodes)"
   ]
  },
  {
   "cell_type": "markdown",
   "metadata": {},
   "source": [
    "Let's see what we have so far:"
   ]
  },
  {
   "cell_type": "code",
   "execution_count": 4,
   "metadata": {},
   "outputs": [
    {
     "name": "stdout",
     "output_type": "stream",
     "text": [
      "None\n"
     ]
    }
   ],
   "source": [
    "first_node = Node('a')\n",
    "print(first_node.next)"
   ]
  },
  {
   "cell_type": "code",
   "execution_count": 5,
   "metadata": {},
   "outputs": [
    {
     "name": "stdout",
     "output_type": "stream",
     "text": [
      "a -> None\n"
     ]
    }
   ],
   "source": [
    "llist = LinkedList() # Right now, linked list is empty.\n",
    "\n",
    "first_node = Node('a') # Now, 'a' is the first node in our linked list.\n",
    "llist.head = first_node\n",
    "print(llist)"
   ]
  },
  {
   "cell_type": "code",
   "execution_count": 6,
   "metadata": {},
   "outputs": [
    {
     "data": {
      "text/plain": [
       "a -> b -> c -> None"
      ]
     },
     "execution_count": 6,
     "metadata": {},
     "output_type": "execute_result"
    }
   ],
   "source": [
    "# Let's add 'b' and 'c' to our linked list.\n",
    "\n",
    "second_node = Node('b') # 'b' is the second node in our linked list.\n",
    "third_node = Node('c') # 'c' is the third node in our linked list.\n",
    "first_node.next = second_node  # 'a' is linked to 'b'.\n",
    "second_node.next = third_node # 'b' is linked to 'c'.\n",
    "llist  # Our linked list looks like this: a -> b -> c, and c is pointed to None."
   ]
  },
  {
   "cell_type": "markdown",
   "metadata": {},
   "source": [
    "Let's change the _ _ init _ _ method to quickly create a linked list with some initial values."
   ]
  },
  {
   "cell_type": "code",
   "execution_count": 26,
   "metadata": {},
   "outputs": [],
   "source": [
    "class LinkedList:\n",
    "\n",
    "    def __init__(self, nodes=None):\n",
    "        self.head = None # the first node\n",
    "        if nodes is not None: # nodes is a list of nodes\n",
    "            node = Node(data=nodes.pop(0)) # we take the first node and make it the head\n",
    "            self.head = node\n",
    "            for elem in nodes: # we take the rest of the nodes and make new nodes\n",
    "                node.next = Node(data=elem) # remember that Node accepts a value using the keyword argument \"data\"\n",
    "                node = node.next # Now we can link this node to the next node.\n",
    "\n",
    "    def __repr__(self):\n",
    "        node = self.head\n",
    "        nodes = []\n",
    "        while node is not None:\n",
    "            nodes.append(node.data)\n",
    "            node = node.next\n",
    "        nodes.append(\"None\")\n",
    "        return \" -> \".join(nodes)"
   ]
  },
  {
   "cell_type": "code",
   "execution_count": 25,
   "metadata": {},
   "outputs": [
    {
     "name": "stdout",
     "output_type": "stream",
     "text": [
      "b\n",
      "c\n",
      "d\n"
     ]
    },
    {
     "data": {
      "text/plain": [
       "a -> b -> c -> d -> None"
      ]
     },
     "execution_count": 25,
     "metadata": {},
     "output_type": "execute_result"
    }
   ],
   "source": [
    "linked_list = LinkedList(['a', 'b', 'c', 'd'])\n",
    "linked_list"
   ]
  },
  {
   "cell_type": "code",
   "execution_count": 12,
   "metadata": {},
   "outputs": [
    {
     "ename": "NameError",
     "evalue": "name 'linked_list' is not defined",
     "output_type": "error",
     "traceback": [
      "\u001b[1;31m---------------------------------------------------------------------------\u001b[0m",
      "\u001b[1;31mNameError\u001b[0m                                 Traceback (most recent call last)",
      "\u001b[1;32mC:\\Users\\BLAIR_~1\\AppData\\Local\\Temp/ipykernel_10312/2913656859.py\u001b[0m in \u001b[0;36m<module>\u001b[1;34m\u001b[0m\n\u001b[1;32m----> 1\u001b[1;33m \u001b[0mlinked_list\u001b[0m\u001b[1;33m[\u001b[0m\u001b[1;36m2\u001b[0m\u001b[1;33m]\u001b[0m\u001b[1;33m\u001b[0m\u001b[1;33m\u001b[0m\u001b[0m\n\u001b[0m",
      "\u001b[1;31mNameError\u001b[0m: name 'linked_list' is not defined"
     ]
    }
   ],
   "source": [
    "linked_list[2]"
   ]
  },
  {
   "cell_type": "markdown",
   "metadata": {},
   "source": [
    "However, we can't still traverse the linked list. Thus, we need to make it iterable."
   ]
  },
  {
   "cell_type": "code",
   "execution_count": 23,
   "metadata": {},
   "outputs": [
    {
     "ename": "TypeError",
     "evalue": "'LinkedList' object is not iterable",
     "output_type": "error",
     "traceback": [
      "\u001b[1;31m---------------------------------------------------------------------------\u001b[0m",
      "\u001b[1;31mTypeError\u001b[0m                                 Traceback (most recent call last)",
      "\u001b[1;32mC:\\Users\\BLAIR_~1\\AppData\\Local\\Temp/ipykernel_10312/3600692699.py\u001b[0m in \u001b[0;36m<module>\u001b[1;34m\u001b[0m\n\u001b[1;32m----> 1\u001b[1;33m \u001b[1;32mfor\u001b[0m \u001b[0mnode\u001b[0m \u001b[1;32min\u001b[0m \u001b[0mlinked_list\u001b[0m\u001b[1;33m:\u001b[0m\u001b[1;33m\u001b[0m\u001b[1;33m\u001b[0m\u001b[0m\n\u001b[0m\u001b[0;32m      2\u001b[0m     \u001b[0mprint\u001b[0m\u001b[1;33m(\u001b[0m\u001b[0mnode\u001b[0m\u001b[1;33m)\u001b[0m\u001b[1;33m\u001b[0m\u001b[1;33m\u001b[0m\u001b[0m\n",
      "\u001b[1;31mTypeError\u001b[0m: 'LinkedList' object is not iterable"
     ]
    }
   ],
   "source": [
    "for node in linked_list:\n",
    "    print(node)"
   ]
  },
  {
   "cell_type": "markdown",
   "metadata": {},
   "source": [
    "4. To do so we need to add a magic method _ _ iter _ _. This method will go through every node "
   ]
  },
  {
   "cell_type": "code",
   "execution_count": 28,
   "metadata": {},
   "outputs": [],
   "source": [
    "class LinkedList:\n",
    "\n",
    "    def __init__(self, nodes=None):\n",
    "        self.head = None\n",
    "        if nodes is not None:\n",
    "            node = Node(data=nodes.pop(0))\n",
    "            self.head = node\n",
    "            for elem in nodes:\n",
    "                node.next = Node(data=elem)\n",
    "                node = node.next\n",
    "\n",
    "    def __repr__(self):\n",
    "        node = self.head\n",
    "        nodes = []\n",
    "        while node is not None:\n",
    "            nodes.append(node.data)\n",
    "            node = node.next\n",
    "        nodes.append(\"None\")\n",
    "        return \" -> \".join(nodes)\n",
    "        \n",
    "\n",
    "    def __iter__(self):\n",
    "        node = self.head\n",
    "        while node is not None: # if node is None, that means that we have reached the end of the linked list\n",
    "            yield node\n",
    "            node = node.next\n",
    "     "
   ]
  },
  {
   "cell_type": "code",
   "execution_count": 30,
   "metadata": {},
   "outputs": [
    {
     "data": {
      "text/plain": [
       "a -> b -> c -> d -> None"
      ]
     },
     "execution_count": 30,
     "metadata": {},
     "output_type": "execute_result"
    }
   ],
   "source": [
    "linked_list = LinkedList(['a', 'b', 'c', 'd'])\n",
    "linked_list"
   ]
  },
  {
   "cell_type": "code",
   "execution_count": 31,
   "metadata": {},
   "outputs": [
    {
     "name": "stdout",
     "output_type": "stream",
     "text": [
      "a\n",
      "a\n",
      "b\n",
      "c\n",
      "d\n"
     ]
    }
   ],
   "source": [
    "for node in linked_list:\n",
    "    print(node)\n",
    "\n"
   ]
  },
  {
   "cell_type": "markdown",
   "metadata": {},
   "source": [
    "5. The next thing we want to do with the linked list is insert a new node at the beginning of the list. It is your turn now. Using the class above, write a function that takes a node and a value and inserts a new node with the given value at the beginning of the list."
   ]
  },
  {
   "cell_type": "code",
   "execution_count": 76,
   "metadata": {},
   "outputs": [],
   "source": [
    "class LinkedList:\n",
    "\n",
    "    def __init__(self, nodes=None):\n",
    "        self.head = None\n",
    "        if nodes is not None:\n",
    "            node = Node(data=nodes.pop(0))\n",
    "            self.head = node\n",
    "            for elem in nodes:\n",
    "                node.next = Node(data=elem)\n",
    "                node = node.next\n",
    "    \n",
    "    def __repr__(self):\n",
    "        node = self.head\n",
    "        nodes = []\n",
    "        while node is not None:\n",
    "            nodes.append(node.data)\n",
    "            node = node.next\n",
    "        nodes.append(\"None\")\n",
    "        return \" -> \".join(nodes)\n",
    "        \n",
    "\n",
    "    def __iter__(self):\n",
    "        node = self.head\n",
    "        while node is not None:\n",
    "            yield node\n",
    "            node = node.next\n",
    "\n",
    "    def add_at_beginning(self, node: str):\n",
    "        prev_head = self.head\n",
    "        self.head = Node(data=node)\n",
    "        self.head.next = prev_head\n",
    "\n",
    "    def add_at_end(self, node: str):\n",
    "        if self.head is None:\n",
    "            self.head = Node(data=node)\n",
    "            return\n",
    "        for current_node in self:\n",
    "            pass\n",
    "\n",
    "        current_node.next = Node(data=node)\n",
    "\n",
    "    def add_after(self, node: str, new_node: str):\n",
    "        if self.head is None:\n",
    "            raise Exception(\"List is empty\")\n",
    "        \n",
    "        new_node = Node(data=new_node)\n",
    "        \n",
    "        for current_node in self:\n",
    "            if current_node.data == node:\n",
    "                new_node.next = current_node.next\n",
    "                current_node.next = new_node\n",
    "                return\n",
    "        raise Exception(\"Node not found\")\n",
    "    \n",
    "    def add_before(self, node: str, new_node: str):\n",
    "        if self.head is None:\n",
    "            raise Exception(\"List is empty\")\n",
    "\n",
    "        if self.head.data == node:\n",
    "            self.add_at_beginning(new_node)\n",
    "            return\n",
    "\n",
    "        new_node = Node(data=new_node)\n",
    "        prev_node = self.head\n",
    "        for current_node in self:\n",
    "            if current_node.data == node:\n",
    "                prev_node.next = new_node\n",
    "                new_node.next = current_node\n",
    "                return\n",
    "            prev_node = current_node\n",
    "\n",
    "        raise Exception(\"Node not found\")\n",
    "    \n",
    "    def remove_node(self, node: str):\n",
    "        if self.head is None:\n",
    "            raise Exception(\"List is empty\")\n",
    "\n",
    "        #remove if node easily if start of the list\n",
    "        if self.head.data == node:\n",
    "            self.head = self.head.next # remove head\n",
    "            return\n",
    "        \n",
    "        prev_node = self.head\n",
    "        for current_node in self:\n",
    "            if current_node.data == node:\n",
    "                prev_node.next = current_node.next\n",
    "                return\n",
    "            prev_node = current_node\n",
    "        \n",
    "        raise Exception(\"Node not found\")"
   ]
  },
  {
   "cell_type": "markdown",
   "metadata": {},
   "source": [
    "Try it out, and then try to understand what you just saw."
   ]
  },
  {
   "cell_type": "code",
   "execution_count": 77,
   "metadata": {},
   "outputs": [
    {
     "name": "stdout",
     "output_type": "stream",
     "text": [
      "a\n",
      "a\n",
      "a -> b -> e -> c -> None\n"
     ]
    }
   ],
   "source": [
    "llist = LinkedList(['a', 'b', 'c'])\n",
    "llist.add_after('b', 'e')\n",
    "print(llist)"
   ]
  },
  {
   "cell_type": "code",
   "execution_count": 78,
   "metadata": {},
   "outputs": [
    {
     "name": "stdout",
     "output_type": "stream",
     "text": [
      "a\n",
      "a\n",
      "a\n",
      "b\n",
      "c\n",
      "a -> b -> f -> None\n"
     ]
    }
   ],
   "source": [
    "llist = LinkedList(['a', 'b', 'c'])\n",
    "llist.remove_node('c')\n",
    "llist.add_at_end('f')\n",
    "print(llist)"
   ]
  },
  {
   "cell_type": "code",
   "execution_count": 43,
   "metadata": {},
   "outputs": [
    {
     "name": "stdout",
     "output_type": "stream",
     "text": [
      "e -> a -> b -> None\n"
     ]
    }
   ],
   "source": [
    "print(llist)"
   ]
  },
  {
   "cell_type": "markdown",
   "metadata": {},
   "source": [
    "## Lesson Challenge\n",
    "\n",
    "Add the following methods to the Linked List class:\n",
    "\n",
    "1. .add_at_end(node: 'str')\n",
    "2. .add_after(target_node: 'str', new_node: 'str')\n",
    "3. .add_before(target_node: 'str', new_node: 'str')\n",
    "4. .remove_node(target_node: 'str')"
   ]
  },
  {
   "cell_type": "markdown",
   "metadata": {},
   "source": [
    "# Challenges (Linked Lists)"
   ]
  },
  {
   "cell_type": "markdown",
   "metadata": {},
   "source": [
    "## 1. Intersection of two Linked Lists"
   ]
  },
  {
   "cell_type": "markdown",
   "metadata": {},
   "source": [
    "Given the heads of two singly linked-lists headA and headB, return the node at which the two lists intersect. If the two linked lists have no intersection at all, return null."
   ]
  },
  {
   "cell_type": "markdown",
   "metadata": {},
   "source": [
    "## 2. Implement a Circular Linked List\n",
    "\n",
    "Create a class that uses the Node class to represent a circular linked list."
   ]
  },
  {
   "cell_type": "markdown",
   "metadata": {},
   "source": [
    "# Assessment"
   ]
  },
  {
   "cell_type": "markdown",
   "metadata": {},
   "source": [
    "1. Look information about Doubly Linked List. What is the difference betwwen Doubly Linked List and Dequeus?\n",
    "2. Implement a Doubly Linked List class\n",
    "3. Look for Fibonacci Heap. How is it related to Linked Lists?"
   ]
  },
  {
   "cell_type": "markdown",
   "metadata": {},
   "source": []
  }
 ],
 "metadata": {
  "interpreter": {
   "hash": "14fed20d815d8426698b9e4db4c2894958f6485d6746a1ea976e58ce3ec76c9f"
  },
  "kernelspec": {
   "display_name": "Python 3.9.6 64-bit ('AiCoreTeach': conda)",
   "name": "python3"
  },
  "language_info": {
   "codemirror_mode": {
    "name": "ipython",
    "version": 3
   },
   "file_extension": ".py",
   "mimetype": "text/x-python",
   "name": "python",
   "nbconvert_exporter": "python",
   "pygments_lexer": "ipython3",
   "version": "3.9.6"
  },
  "orig_nbformat": 4
 },
 "nbformat": 4,
 "nbformat_minor": 2
}
