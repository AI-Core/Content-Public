{
 "cells": [
  {
   "cell_type": "markdown",
   "metadata": {},
   "source": [
    "# Dynamic Programming"
   ]
  },
  {
   "cell_type": "markdown",
   "metadata": {},
   "source": [
    "By now, you should be familiar with the concept of recursion, but we have never given a strict description of recursion. In this notebook, we will give a brief description of recursion, and then we will explain the concepts of dynamic programming, more especifically, memoization and tabulation."
   ]
  },
  {
   "cell_type": "markdown",
   "metadata": {},
   "source": [
    "# Recursion"
   ]
  },
  {
   "cell_type": "markdown",
   "metadata": {},
   "source": [
    "\n",
    "Recursion is a very important concept in computer science. It is the ability to call a function inside the same function. Let's see how to approach a recursion problem:\n",
    "\n",
    "1. Use a simple base case, so you don't get stuck in an infinite loop. This simple base case consists on a terminating scenario.\n",
    "2. Use a set of rules that moves the problem towards the simple base case. These rules are named recurrence relations.\n",
    "\n",
    "Let's see the typical fibonacci sequence:\n",
    "\n",
    "The fibonacci sequence consists on a series of numbers where each number is the sum of the two preceding ones. The first two numbers are 0 and 1. The next number is the sum of the previous two, so the third number is 1. The fourth number is the sum of the previous three, so the fifth number is 2. The sixth number is the sum of the previous four, so the seventh number is 3. And so on.\n",
    "\n",
    "Thus, it would look like this:\n",
    "\n",
    "0, 1, 1, 2, 3, 5, 8, 13, 21, 34, 55, 89, 144, …\n"
   ]
  },
  {
   "cell_type": "code",
   "execution_count": null,
   "metadata": {},
   "outputs": [],
   "source": [
    "def fibonacci(n):\n",
    "    # Simple base case. In this case if n is 0, it return 0, and if it is 1, it return 1.\n",
    "    # Remember that, when you call for fibonacci(2), you will call for fibonacci(1) and fibonacci(0)\n",
    "    if n == 0:\n",
    "        return 0\n",
    "    elif n == 1:\n",
    "        return 1\n",
    "    # Recurrence relation\n",
    "    else:\n",
    "        return fibonacci(n-1) + fibonacci(n-2)"
   ]
  },
  {
   "cell_type": "markdown",
   "metadata": {},
   "source": [
    "You can take a look at all the steps taken in the next figure:\n",
    "\n",
    "<p align=center><img src=images/fibo.jpg></p>"
   ]
  },
  {
   "cell_type": "markdown",
   "metadata": {},
   "source": [
    "Observe that f(4) appears twice, f(3) appears 3 times, f(2) appears five times, and f(1) appears 8 times. Every time a function is called, it needs to be calculated, which makes the algorithm quite slow. In fact, this recursion has a numerical complexity of O(2^n). A way to explain it is that:\n",
    "- The root node has two children\n",
    "- The left child has two children\n",
    "- The right child has two children\n",
    "- The left child of the left child has two children\n",
    "- The right child of the left child has two children\n",
    "- The left child of the right child has two children\n",
    "- The right child of the right child has two children\n",
    "...\n"
   ]
  },
  {
   "cell_type": "markdown",
   "metadata": {},
   "source": [
    "# Memoization"
   ]
  },
  {
   "cell_type": "markdown",
   "metadata": {},
   "source": [
    "This way to calculate a recursive function is very inefficient. We have two choices:\n",
    "1. Flatten the recursion to an iteration.\n",
    "2. Store the result of the recursive function in a list or a dictionary. This operation is called memoization."
   ]
  },
  {
   "cell_type": "code",
   "execution_count": null,
   "metadata": {},
   "outputs": [],
   "source": [
    "def fibonacci_memo(n, memo=None):\n",
    "    # If the value is already calculated, return it\n",
    "    if memo is None:\n",
    "        memo = {}\n",
    "    # If the value is not calculated, calculate it and store it\n",
    "    if n in memo:\n",
    "        return memo[n]\n",
    "    if n == 0:\n",
    "        return 0\n",
    "    elif n == 1:\n",
    "        return 1\n",
    "    else:\n",
    "        result = fibonacci_memo(n-1, memo) + fibonacci_memo(n-2, memo)\n",
    "    memo[n] = result\n",
    "    return result"
   ]
  },
  {
   "cell_type": "markdown",
   "metadata": {},
   "source": [
    "Let's compare times for different implementations of the same algorithm."
   ]
  },
  {
   "cell_type": "code",
   "execution_count": null,
   "metadata": {},
   "outputs": [],
   "source": [
    "import time\n",
    "start_time = time.time()\n",
    "print(fibonacci(35))\n",
    "print(f\"Recursive Fibonacci\\t --- {(time.time() - start_time):.08f} seconds ---\")\n",
    "start_time = time.time()\n",
    "print(fibonacci_memo(35))\n",
    "print(f\"Memoized Fibonacci\\t --- {(time.time() - start_time):.08f} seconds ---\")"
   ]
  },
  {
   "cell_type": "markdown",
   "metadata": {},
   "source": [
    "Look at the differences of time complexity of Recursive and Memoization.\n",
    "\n",
    "Another name that the memoization takes is Top-Down Dynamic Programming. When we say Dynamic Programming, we refer to the optimization of a problem complexity, usually done with problems with a large big O time complexity. In terms of time complexity, can you find the difference between Recursive and Memoization? In terms of time complexity, this looks great, however, for every call to the function, we have to store the result of the function. This is not very efficient.\n",
    "\n",
    "Look what happens when we call a really big Fibonacci number."
   ]
  },
  {
   "cell_type": "code",
   "execution_count": null,
   "metadata": {},
   "outputs": [],
   "source": [
    "print(fibonacci_memo(100000))"
   ]
  },
  {
   "cell_type": "markdown",
   "metadata": {},
   "source": [
    "We are adding one element to the cache for every call. The recursion can no longer be memoized, so we might need another alternative."
   ]
  },
  {
   "cell_type": "markdown",
   "metadata": {},
   "source": [
    "# Tabulation"
   ]
  },
  {
   "cell_type": "markdown",
   "metadata": {},
   "source": [
    "With this we can infer that memoization is a type of Dynamic Programming, and in this case we used a Top-Down approach, meaning that we started from the top of the tree and worked our way down. Instead, we could also go from bottom to top, knowing that fibonacci(0) = 0, fibonacci(1) = 1, we can start our model from the bottom and work our way up:"
   ]
  },
  {
   "cell_type": "code",
   "execution_count": null,
   "metadata": {},
   "outputs": [],
   "source": [
    "def fib_memo_linear(n: int) -> int:\n",
    "    if n == 0 or n == 1:\n",
    "        return n\n",
    "    else:\n",
    "        # Let's create a cache to store the results of the function\n",
    "        memo = [None] * (n + 1)\n",
    "        memo[0] = 0\n",
    "        memo[1] = 1\n",
    "    for i in range(2, n + 1):\n",
    "        memo[i] = memo[i - 1] + memo[i - 2]\n",
    "    return memo\n",
    "    \n",
    "super_fib = fib_memo_linear(10000)\n",
    "print(super_fib[-1])\n",
    "    "
   ]
  },
  {
   "cell_type": "markdown",
   "metadata": {},
   "source": [
    "These type of solutions (`fib_memo_linear` is called __Tabulation__, where we fill a table with the results of all the subproblems. Notice that this solution doesn't rely on recursion, and it uses memoization because it stores the results of previous calls. Therefore, it's a bit more efficient than the previous solution. Observe the type of data used in both solutions:\n",
    "\n",
    "1. For Memoization: We used dictionaries to store the results of the previous computations. \n",
    "2. For Tabulation: We used lists to store the results of the previous computations."
   ]
  },
  {
   "cell_type": "markdown",
   "metadata": {},
   "source": [
    "> ### Memoization\n",
    "> You may have noticed that Memoization is less straighforward than Tabulation, because you need to picture the whole tree of possibilities. \n",
    "\n",
    ">However, remember that Memoization has computational advantages, especially if you don't need to compute all the values to reach the answer.\n",
    ">\n",
    "> ### Tabulation\n",
    "> On the other hand implementing Tabulation is easier, but you start from the bottom, and thus, you need to compute unnecessary values. \n",
    "\n",
    ">Nevertheless, If you need to compute all values, this method is faster."
   ]
  },
  {
   "cell_type": "markdown",
   "metadata": {},
   "source": [
    "Even though both solutions (Tabulation and Memoization) are quite efficient in terms of time complexity, we had to store 100000 values in memory. This is not ideal."
   ]
  },
  {
   "cell_type": "code",
   "execution_count": null,
   "metadata": {},
   "outputs": [],
   "source": [
    "from sys import getsizeof\n",
    "print(f'Integer: {getsizeof(0)} bytes')\n",
    "print(f'Character: {getsizeof(\"c\")} bytes')\n",
    "print(f'Three-Character String: {getsizeof(\"Joe\")} bytes')\n",
    "print(f'Super_fib: {getsizeof(super_fib)} bytes')"
   ]
  },
  {
   "cell_type": "markdown",
   "metadata": {},
   "source": [
    "One thing about the fibo_memo_linear function, do we need the whole list whenever we retrieve the value of the nth number? We can just store the last two values in the list, and then discard the rest."
   ]
  },
  {
   "cell_type": "code",
   "execution_count": null,
   "metadata": {},
   "outputs": [],
   "source": [
    "def fib_linear(n: int) -> int:\n",
    "    \"\"\"\n",
    "    Return the nth number in the Fibonacci sequence.\n",
    "    \"\"\"\n",
    "    if n == 0:\n",
    "        return 0\n",
    "    fib_n_minus_2 = 0\n",
    "    fib_n_minus_1 = 1\n",
    "    for _ in range(2, n):\n",
    "        # a, b = b, a + b This would be even more efficient!\n",
    "        fib_n = fib_n_minus_1 + fib_n_minus_2\n",
    "        fib_n_minus_2 = fib_n_minus_1\n",
    "        fib_n_minus_1 = fib_n\n",
    "    return fib_n_minus_1 + fib_n_minus_2\n",
    "    \n",
    "super_fib_linear = fib_linear(10000)"
   ]
  },
  {
   "cell_type": "code",
   "execution_count": null,
   "metadata": {},
   "outputs": [],
   "source": [
    "from sys import getsizeof\n",
    "print(f'Integer: {getsizeof(0)} bytes')\n",
    "print(f'Character: {getsizeof(\"c\")} bytes')\n",
    "print(f'Three-Character String: {getsizeof(\"Joe\")} bytes')\n",
    "print(f'Super_fib: {getsizeof(super_fib)} bytes')\n",
    "print(f'Super_fib_Linear: {getsizeof(super_fib_linear)} bytes')"
   ]
  },
  {
   "cell_type": "markdown",
   "metadata": {},
   "source": [
    "# How to Implement a Dynamical Programming Algorithm"
   ]
  },
  {
   "cell_type": "markdown",
   "metadata": {},
   "source": [
    "Many problems require that you picture them as a graph. The fibonacci problem is a good example, but let's see a more practical example (A typical interview question, btw):\n",
    "\n",
    "> A child (let's name him Dexter) is running up a staircase with n steps (to get to his lab), and can hop either 1 step, 2 steps, or 3 steps at a time. Implement a method to count how many possible ways Dexter can run up the stairs.\n",
    "\n",
    "Imagine that Dexter has to climb up 4 steps. There will be 7 ways to climb up the stairs:\n",
    "\n",
    "1 step + 1 step + 1 step + 1 step\n",
    "\n",
    "1 step + 1 step + 2 step\n",
    "\n",
    "1 step + 2 step + 1 step\n",
    "\n",
    "2 step + 1 step + 1 step \n",
    "\n",
    "2 step + 2 step\n",
    "\n",
    "3 step + 1 step\n",
    "\n",
    "1 step + 3 step\n",
    "\n",
    "Or, imagine that Dexter has to climb up 3 steps. There will be 4 ways Dexter can climb up the stairs:\n",
    "\n",
    "1 step + 1 step + 1 step\n",
    "\n",
    "1 step + 2 step\n",
    "\n",
    "2 step + 1 step\n",
    "\n",
    "3 step\n",
    "\n",
    "For 5 steps, there are 13 ways to climb up the stairs.\n",
    "For 6 steps, there are 24 ways to climb up the stairs.\n",
    "For 7 steps, there are 44 ways to climb up the stairs."
   ]
  },
  {
   "cell_type": "markdown",
   "metadata": {},
   "source": [
    "This example can be solved thinking mathematically, first, think about recursion, and from there, think about flattenning the recursion tree.\n",
    "\n",
    "### If we use recursion:\n",
    "\n",
    "If Dexter is standing at i-th stair, he can move to i+1, i+2, i+3-th stair. A recursive function can be formed where at current index i the function is recursively called for i+1, i+2 and i+3 th stair. \n",
    "\n",
    "Put in another way, to reach a stair i, Dexter has to jump either FROM i-1, i-2 or i-3 th stair or i is the starting stair. This looks more like Fibonacci now.\n",
    "\n",
    "#### Algorithm: \n",
    "\n",
    "1. Create a recursive function `count_ways(n)` which takes only one parameter (`n`).\n",
    "2. Check the base cases. If the value of `n` is less than 0 then return 0, and if the value of n is equal to zero then return 1 as it is the starting stair.\n",
    "3. Call the function recursively with values `n-1`, `n-2` and `n-3` and sum up the values that are returned, i.e. `sum = count_ways(n-1) + count_ways(n-2) + count_ways(n-3)`\n",
    "4. Return the value of `sum`.\n"
   ]
  },
  {
   "cell_type": "code",
   "execution_count": null,
   "metadata": {},
   "outputs": [],
   "source": [
    "def count_ways(n: int) -> int:\n",
    "    # If the number of steps \n",
    "    if (n == 1 or n == 0) :\n",
    "        return 1\n",
    "    elif (n == 2) :\n",
    "        return 2\n",
    "    else :\n",
    "        return count_ways(n - 3) + count_ways(n - 2) + count_ways(n - 1)\n",
    " \n",
    " \n",
    "# Driver code\n",
    "n = 30\n",
    "print(count_ways(n))"
   ]
  },
  {
   "cell_type": "code",
   "execution_count": null,
   "metadata": {},
   "outputs": [],
   "source": [
    "def count_ways_memo(n: int, memo: dict=None) -> int:\n",
    "    if memo is None:\n",
    "        memo = {}\n",
    "    if n in memo:\n",
    "        return memo[n]\n",
    "    if (n == 1 or n == 0) :\n",
    "        return 1\n",
    "    elif (n == 2) :\n",
    "        return 2\n",
    "    else :\n",
    "        result = count_ways_memo(n - 3, memo) + count_ways_memo(n - 2, memo) + count_ways_memo(n - 1, memo)\n",
    "    memo[n] = result\n",
    "    return result\n",
    "        \n",
    "\n",
    "n = 30\n",
    "print(count_ways_memo(n))"
   ]
  },
  {
   "cell_type": "markdown",
   "metadata": {},
   "source": [
    "And we can do the same for Tabulation, starting from the bottom."
   ]
  },
  {
   "cell_type": "code",
   "execution_count": null,
   "metadata": {},
   "outputs": [],
   "source": [
    "def count_ways_tabu(n: int) -> int:\n",
    "    res = [0] * (n + 2)\n",
    "    res[0] = 1\n",
    "    res[1] = 1\n",
    "    res[2] = 2\n",
    "     \n",
    "    for i in range(3, n + 1) :\n",
    "        res[i] = res[i - 1] + res[i - 2] + res[i - 3]\n",
    "    \n",
    "    return res[n]\n",
    "\n",
    "n = 30\n",
    "print(count_ways_tabu(n))"
   ]
  },
  {
   "cell_type": "markdown",
   "metadata": {},
   "source": [
    "Finally, try to make it without storing everything in a list, getting only the last three values."
   ]
  },
  {
   "cell_type": "code",
   "execution_count": null,
   "metadata": {},
   "outputs": [],
   "source": [
    "def count_ways_linear(n) :\n",
    "    a = 1\n",
    "    b = 1\n",
    "    c = 2\n",
    "     \n",
    "    for i in range(3, n) :\n",
    "        d = a + b + c\n",
    "        a = b\n",
    "        b = c\n",
    "        c = d\n",
    "    return a + b + c\n",
    " \n",
    "n = 30\n",
    "print(count_ways_linear(n))"
   ]
  },
  {
   "cell_type": "markdown",
   "metadata": {},
   "source": [
    "You will have to use this method eventually for a practical, try to understant what is going on!"
   ]
  },
  {
   "cell_type": "markdown",
   "metadata": {},
   "source": [
    "# Caching using decorators\n",
    "\n",
    "Python offers a decorator that caches the results of already computed functions: `lru_cache` (Least Recently Used)"
   ]
  },
  {
   "cell_type": "code",
   "execution_count": null,
   "metadata": {},
   "outputs": [],
   "source": [
    "from functools import lru_cache\n",
    "\n",
    "@lru_cache(maxsize=100)\n",
    "def fibo_recur(n):\n",
    "    if n <= 1:\n",
    "        return n\n",
    "    else:\n",
    "        return fibo_recur(n-1) + fibo_recur(n-2)\n",
    "fibo_recur(100)"
   ]
  },
  {
   "cell_type": "markdown",
   "metadata": {},
   "source": [
    "Observe that we don't have to create a new variable to store the cached variable. The decorator takes care of it. However, we can still have the same stack overflowing problem!"
   ]
  },
  {
   "cell_type": "code",
   "execution_count": null,
   "metadata": {},
   "outputs": [],
   "source": [
    "from functools import lru_cache\n",
    "\n",
    "@lru_cache(maxsize=10000)\n",
    "def fibo_recur(n):\n",
    "    if n <= 1:\n",
    "        return n\n",
    "    else:\n",
    "        return fibo_recur(n-1) + fibo_recur(n-2)\n",
    "fibo_recur(10000)"
   ]
  },
  {
   "cell_type": "markdown",
   "metadata": {},
   "source": [
    "So be careful how many elements you need to add to the cache! `functools` is a great library, make sure to check it out [here](https://docs.python.org/3/library/functools.html)!"
   ]
  },
  {
   "cell_type": "markdown",
   "metadata": {},
   "source": [
    "# Summary\n",
    "\n",
    "- Dynamic Programming is a very useful technique for solving problems which consists on storing the results of previous solved subproblems to avoid recomputing them.\n",
    "- Memoization is a method to track (by storing in cache) the results of previous solved subproblems.\n",
    "- Tabulation is a method that solves the subproblems first, typically by filling a table with the results said subproblems.\n",
    "- Use Memoization if you don't need to compute all the results of the subproblems.\n",
    "- Use Tabulation if you need to compute all the results of the subproblems.\n",
    "- Some problems can be solved using bottom-up Dynamic Programming without storing all the results."
   ]
  },
  {
   "cell_type": "markdown",
   "metadata": {},
   "source": [
    "# Practicals"
   ]
  },
  {
   "cell_type": "markdown",
   "metadata": {},
   "source": [
    "## Q1. Catalan numbers using memoization.\n",
    "\n",
    "One of the practicals in this lesson includes coding the catalan_numbers using memoization and tabulation. Here, you can see the template to start working on it\n",
    "\n",
    "The equation for the Catalan Numbers is: \n",
    "\n",
    "<p align=center><img src=images/Catalan1.jpg></p>\n",
    "\n",
    "Below, you can see the code for the function `catalan_number` which calculates the catalan number of a given number."
   ]
  },
  {
   "cell_type": "code",
   "execution_count": null,
   "metadata": {},
   "outputs": [],
   "source": [
    "def catalan_recur(n: int) -> int:\n",
    "    # Base Case\n",
    "    if n <= 1 :\n",
    "        return 1 \n",
    "    # Recursive Case\n",
    "    res = 0 \n",
    "    for i in range(n):\n",
    "        res += catalan_recur(i) * catalan_recur(n-i-1)\n",
    "  \n",
    "    return res\n",
    "\n",
    "catalan_recur(6)"
   ]
  },
  {
   "cell_type": "markdown",
   "metadata": {},
   "source": [
    "Implement the same function using memoization."
   ]
  },
  {
   "cell_type": "code",
   "execution_count": null,
   "metadata": {},
   "outputs": [],
   "source": [
    "def catalan_memo(n: int) -> int: # Do not add more arguments.\n",
    "    \"\"\"\n",
    "    Return the nth catalan number using memoization.\n",
    "    \"\"\"\n",
    "    pass\n",
    "\n",
    "catalan_memo(6)"
   ]
  },
  {
   "cell_type": "markdown",
   "metadata": {},
   "source": [
    "And using Tabulation"
   ]
  },
  {
   "cell_type": "code",
   "execution_count": null,
   "metadata": {},
   "outputs": [],
   "source": [
    "def catalan_tabu(n: int) -> int:\n",
    "    pass"
   ]
  },
  {
   "cell_type": "markdown",
   "metadata": {},
   "source": [
    "# Assessments (Not mandatory)\n",
    "\n",
    "## 1. Look information about the Floyd-Warshall algorithm\n",
    "## 2. What is the time complexity of this algorithm?\n",
    "## 3. Implement the Floyd-Warshall algorithm"
   ]
  },
  {
   "cell_type": "markdown",
   "metadata": {},
   "source": [
    "## 4. Towers of Hanoi\n",
    "\n",
    "This is a classic problem, but that doesn't mean it's easy. You have three towers and N disks of different sizes. The puzzle starts with disks sorted in ascending order of size from top to bottom in the left tower. There are some costraints:\n",
    "1) Only one disk can be moved at a time. \n",
    "2) Each move consists of taking the upper disk from one of the stacks and placing it on top of another stack i.e. a disk can only be moved if it is the uppermost disk on a stack. \n",
    "3) No disk may be placed on top of a smaller disk.\n",
    "The objective is to move all disks to the right tower\n",
    "\n",
    "![](images/hanoi.gif)"
   ]
  }
 ],
 "metadata": {
  "interpreter": {
   "hash": "66a4c1a82e4b740877da9482796a67c3d19e50649dddfb2985c1182127ae3fd0"
  },
  "kernelspec": {
   "display_name": "Python 3.8.11 64-bit ('base': conda)",
   "name": "python3"
  },
  "language_info": {
   "codemirror_mode": {
    "name": "ipython",
    "version": 3
   },
   "file_extension": ".py",
   "mimetype": "text/x-python",
   "name": "python",
   "nbconvert_exporter": "python",
   "pygments_lexer": "ipython3",
   "version": "3.9.1"
  },
  "orig_nbformat": 4
 },
 "nbformat": 4,
 "nbformat_minor": 2
}
