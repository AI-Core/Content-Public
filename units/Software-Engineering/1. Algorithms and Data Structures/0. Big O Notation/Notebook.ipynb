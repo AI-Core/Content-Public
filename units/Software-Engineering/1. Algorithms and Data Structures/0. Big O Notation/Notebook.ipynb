{
 "cells": [
  {
   "cell_type": "markdown",
   "metadata": {},
   "source": [
    "# Big O Notation"
   ]
  },
  {
   "cell_type": "markdown",
   "metadata": {},
   "source": [
    "## Introduction\n",
    ">Software engineers spend a significant amount of time improving the efficiency of code: increasing the __algorithm speed__ and decreasing the space complexity. The demand for efficiency has led to the development of different methods and the normalisation of such methods to ensure uniform analysis conditions for every algorithm.\n",
    "\n",
    "This efficiency measurement is known as __asymptotic analysis,__ and it provides information on the computational cost (or complexity) of an algorithm as a function of different parameters, including the input size.\n"
   ]
  },
  {
   "cell_type": "markdown",
   "metadata": {},
   "source": [
    "## Time Complexity\n",
    "\n",
    "Imagine a simple `for` loop that iterates through `n` elements:\n",
    "`for i in range(n)`.\n"
   ]
  },
  {
   "cell_type": "markdown",
   "metadata": {},
   "source": [
    "\n",
    "\n",
    "![](images/BigO_1.gif)\n",
    "\n",
    "Now, imagine a nested `for` loop:\n",
    "```\n",
    "for i in range(n):\n",
    "    for j in range(n):\n",
    "```\n",
    "\n",
    "![](images/BigO_2.gif)\n",
    "\n"
   ]
  },
  {
   "cell_type": "markdown",
   "metadata": {},
   "source": [
    "The first graph indicates that the run time of the code increases proportionally to the number of inputs.\n",
    "\n",
    "The second graph indicates that the run time of the code increases proportionally to the square of the number of inputs.\n",
    "\n",
    "There is a shorthand for writing this: Big O notation, which represents the time complexity in the worst-case scenario (WCS). \n",
    "\n",
    "It has the following presentation: `O(n`<sup>`2`</sup>`)`, where n is the number of inputs, and n<sup>2</sup> is the time complexity. Thus for the first and second cases, we have `O(n)` and `O(n`<sup>`2`</sup>`)`, respectively."
   ]
  },
  {
   "cell_type": "markdown",
   "metadata": {},
   "source": [
    "### WCS \n",
    "Here, we describe the WCS for a `for` loop. Consider a case where we are attempting to find a specific number in a list. The WCS would be finding the number at the end of the list.\n",
    "\n",
    "_Similarly, big Ω exists for the Best Case Scenario and big θ for the combination of both. However, we will focus on big O here._"
   ]
  },
  {
   "cell_type": "markdown",
   "metadata": {},
   "source": [
    "### Rules\n"
   ]
  },
  {
   "cell_type": "markdown",
   "metadata": {},
   "source": [
    "Having learnt how to define the Big O notation, we will explore some rules to follow when calculating the Big O of an algorithm."
   ]
  },
  {
   "cell_type": "markdown",
   "metadata": {},
   "source": [
    "\n",
    "#### Rule 1\n",
    "\n",
    "If a function, `f(n)`, performs a sequence of steps `n` times, then the performance run time is given by `O(f(n))` or `O(n)`. We have already seen this with iterating through a list.\n"
   ]
  },
  {
   "cell_type": "markdown",
   "metadata": {},
   "source": [
    "\n",
    "#### Rule 2\n",
    "\n",
    "If a function takes f(n) steps to run and another takes g(m) steps to run, then the complexities can be added to yield the O(F(n)+g(m)) or O(m + n) complexity.\n",
    "\n",
    "Consider the example:\n",
    "\n",
    "```\n",
    "for x in range(n):\n",
    "    do something\n",
    "for y in range(m):\n",
    "    do something\n",
    "```\n",
    "\n",
    "The resulting time complexity will be O(n+m)."
   ]
  },
  {
   "cell_type": "markdown",
   "metadata": {},
   "source": [
    "#### Rule 3\n",
    " \n",
    "If a function takes f(n) steps to run and another takes g(m) steps to run with g(m) > f(n), then the resulting complexity would be O(g(m)). In summary, when adding complexities, the non-dominant terms are excluded.\n",
    "\n",
    "Consider the example: \n",
    "\n",
    "```\n",
    "for x in range(n):\n",
    "    do something\n",
    "\n",
    "for k in range(n):\n",
    "    do something\n",
    "    for j in range(n):\n",
    "        do something\n",
    "```\n",
    "\n",
    "Here, one would expect the time complexity to be O(n + n<sup>2</sup>); however, notice that for considerably large values of n, the n<sup>2</sup> term will dominate the n term. Therefore, we can remove the dominant terms, resulting in a time complexity of O(n<sup>2</sup>).\n",
    "\n",
    "> As a rule of thumb, if there are two functions: f(n) and g(n), and the algorithm is of the form, 'do this, then that', add the complexities."
   ]
  },
  {
   "cell_type": "markdown",
   "metadata": {},
   "source": [
    "#### Rule 4\n",
    "\n",
    "If there are two functions: f(n) and g(n), and the algorithm takes f(n) steps and for every step, another g(n) steps are taken, then multiply the complexities.\n",
    "\n",
    "Consider the aforementioned nested loop as an example:\n",
    "```\n",
    "for k in range(n):\n",
    "    do something\n",
    "    for j in range(n):\n",
    "        do something\n",
    "```\n",
    "\n",
    "The resultant complexity will be O(n * n) or O(n<sup>2</sup>).\n",
    "\n",
    "> As a rule of thumb, if an algorithm is of the form, 'Do this every time you do that', multiply the complexities."
   ]
  },
  {
   "cell_type": "markdown",
   "metadata": {},
   "source": [
    "#### Rule 5\n",
    "\n",
    "For rule 5, we exclude the constants. Big O measures the processing time for your input (in the WCS). Consider the example:\n",
    "\n",
    "```\n",
    "for x in range(len(n)):\n",
    "    y = 3 * x\n",
    "```\n",
    "\n",
    "This will result in a complexity of O(n), not O(3n). This is because, once again, the n term will dominate the constant for considerably large values of `n`. "
   ]
  },
  {
   "cell_type": "markdown",
   "metadata": {},
   "source": [
    "### Example: Fibonacci Big O\n",
    "Let us consider a classical example: Recursive Fibonacci vs Loop Fibonacci. "
   ]
  },
  {
   "cell_type": "code",
   "execution_count": null,
   "metadata": {},
   "outputs": [],
   "source": [
    "def recur_fibo(n):\n",
    "    if n <= 1:\n",
    "        return n\n",
    "    else:\n",
    "        return(recur_fibo(n-1) + recur_fibo(n-2))\n",
    "\n",
    "\n",
    "# check if the number of terms is valid\n",
    "def while_fib(n):\n",
    "    n1, n2 = 0, 1\n",
    "    count = 0\n",
    "    while count < n - 1:\n",
    "        nth = n1 + n2\n",
    "        # update values\n",
    "        n1 = n2\n",
    "        n2 = nth\n",
    "        count += 1\n",
    "    return nth"
   ]
  },
  {
   "cell_type": "markdown",
   "metadata": {},
   "source": [
    "Now, we time each function."
   ]
  },
  {
   "cell_type": "code",
   "execution_count": null,
   "metadata": {},
   "outputs": [],
   "source": [
    "import time\n",
    "n = 35\n",
    "t_0 = time.time()\n",
    "print(recur_fibo(n))\n",
    "print(f'Recursive Fib took {time.time() - t_0} s')\n",
    "\n",
    "\n",
    "t_0 = time.time()\n",
    "print(while_fib(n))\n",
    "print(f'While Fib took {time.time() - t_0} s')"
   ]
  },
  {
   "cell_type": "markdown",
   "metadata": {},
   "source": [
    "To improve your understanding, consider determining the big O of each algorithm."
   ]
  },
  {
   "cell_type": "markdown",
   "metadata": {},
   "source": [
    "## Space Complexity\n"
   ]
  },
  {
   "cell_type": "markdown",
   "metadata": {},
   "source": [
    "\n",
    "Here, we explore space complexity, which can also be measured using the big O. In essence, it measures the amount of memory allocated to run a program."
   ]
  },
  {
   "cell_type": "markdown",
   "metadata": {},
   "source": [
    "Thus, O(n) indicates that for each input processed, one variable is added per processed input."
   ]
  },
  {
   "cell_type": "markdown",
   "metadata": {},
   "source": [
    "The process of iterating through lists, dictionaries, sets or tuples usually has a linear Big O (`O(n)`) in terms of time complexity. However, the process of fetching specific items occurs speedily in dictionaries and sets."
   ]
  },
  {
   "cell_type": "code",
   "execution_count": null,
   "metadata": {},
   "outputs": [],
   "source": [
    "my_dict = {'One': 1, 'Two': 2, 'Three': 3, 'Four': 4}\n",
    "my_list = ['One', 'Two', 'Three', 'Four']"
   ]
  },
  {
   "cell_type": "markdown",
   "metadata": {},
   "source": [
    "In this case, we may not observe a difference when checking if, for example, 'Three' exists; however, for large data inputs, dictionaries are associated with comparatively high speed."
   ]
  },
  {
   "cell_type": "markdown",
   "metadata": {},
   "source": [
    "### Generators: a solution for space complexity"
   ]
  },
  {
   "cell_type": "markdown",
   "metadata": {},
   "source": [
    "The storage of all information in a list will take `O(n)` in terms of space complexity. Thus, large datasets are associated with significant data complexity. \n",
    "\n",
    "As an alternative, a generator is preferred since it takes `O(1)` in space complexity (provided that its values are not appended in another list)."
   ]
  },
  {
   "cell_type": "code",
   "execution_count": 2,
   "metadata": {},
   "outputs": [],
   "source": [
    "from sys import getsizeof\n",
    "\n",
    "def my_gen(n):\n",
    "    for i in range(n):\n",
    "        yield i\n",
    "\n",
    "y = my_gen(20)\n",
    "s = next(y)"
   ]
  },
  {
   "cell_type": "code",
   "execution_count": 5,
   "metadata": {},
   "outputs": [
    {
     "name": "stdout",
     "output_type": "stream",
     "text": [
      "0\n"
     ]
    }
   ],
   "source": [
    "print(s)"
   ]
  },
  {
   "cell_type": "markdown",
   "metadata": {},
   "source": [
    "Run the following cell multiple times to confirm that the generator is working."
   ]
  },
  {
   "cell_type": "code",
   "execution_count": 9,
   "metadata": {},
   "outputs": [
    {
     "data": {
      "text/plain": [
       "4"
      ]
     },
     "execution_count": 9,
     "metadata": {},
     "output_type": "execute_result"
    }
   ],
   "source": [
    "next(y)"
   ]
  },
  {
   "cell_type": "code",
   "execution_count": null,
   "metadata": {},
   "outputs": [],
   "source": [
    "print(getsizeof(y))"
   ]
  },
  {
   "cell_type": "markdown",
   "metadata": {},
   "source": [
    "Observe that there is only one variable for iterating through 20 items."
   ]
  },
  {
   "cell_type": "code",
   "execution_count": null,
   "metadata": {},
   "outputs": [],
   "source": [
    "my_list = [0, 1, 2, 3, 4, 5, 6, 7, 8, 9, 10, 11, 12, 13, 14, 15, 16, 17, 18, 19]"
   ]
  },
  {
   "cell_type": "code",
   "execution_count": null,
   "metadata": {},
   "outputs": [],
   "source": [
    "print(getsizeof(my_list))"
   ]
  },
  {
   "cell_type": "markdown",
   "metadata": {},
   "source": [
    "Although iterating through `my_list` will take the same time complexity, a list with 20 memory allocations is required."
   ]
  },
  {
   "cell_type": "markdown",
   "metadata": {},
   "source": [
    "## More Big O Possibilities"
   ]
  },
  {
   "cell_type": "markdown",
   "metadata": {},
   "source": [
    "Big O can show many complexities, and as we progress in this unit, we will explore more of them.\n",
    "\n",
    "![](images/BigO_3.jpg)"
   ]
  },
  {
   "cell_type": "markdown",
   "metadata": {},
   "source": [
    "![](images/BigO_4.png)"
   ]
  },
  {
   "cell_type": "markdown",
   "metadata": {},
   "source": [
    "As you can observe in the above graph, the input size is low and some algorithms are better than others. For example, O(n^2) appears better than O(n) at the beginning. However, this is only true if the input size is less than 1. Note that in other cases, the input size does not have to be greater than 1 for this to be true; it will also depend on the operation.\n",
    "\n",
    "> Complexity varies with the algorithm. Complexities should be compared when they are employed for the same purpose."
   ]
  },
  {
   "cell_type": "markdown",
   "metadata": {},
   "source": [
    "## Structures for Improving Complexity"
   ]
  },
  {
   "cell_type": "markdown",
   "metadata": {},
   "source": [
    "Before proceeding, it is worth mentioning that there are many data structures in Python that can save significant time and space. Many of these structures are in the library named, `collections`. To demonstrate, we will work with `defaultdict`. We will attempt to determine the element with the highest occurrence frequency in a list or another structure."
   ]
  },
  {
   "cell_type": "code",
   "execution_count": 10,
   "metadata": {},
   "outputs": [],
   "source": [
    "def get_number_with_highest_count(counts: dict) -> int:\n",
    "    max_count = 0\n",
    "    for number, count in counts.items():\n",
    "        if count > max_count:\n",
    "            max_count = count\n",
    "            number_with_highest_count = number\n",
    "    return number_with_highest_count\n",
    "\n",
    "\n",
    "def most_frequent(numbers: list) -> int:\n",
    "    counts = {}\n",
    "    for number in numbers:\n",
    "        if number in counts:\n",
    "            counts[number] += 1\n",
    "        else:\n",
    "            counts[number] = 1\n",
    "\n",
    "    return get_number_with_highest_count(counts)"
   ]
  },
  {
   "cell_type": "markdown",
   "metadata": {},
   "source": [
    "Although this solution works, an improvement in conciseness can be achieved using `defaultdict`, which will save you the work of checking if an element is already in the dictionary."
   ]
  },
  {
   "cell_type": "code",
   "execution_count": 11,
   "metadata": {},
   "outputs": [],
   "source": [
    "from collections import defaultdict\n",
    "\n",
    "\n",
    "def get_number_with_highest_count(counts: dict) -> int:\n",
    "    max_count = 0\n",
    "    for number, count in counts.items():\n",
    "        if count > max_count:\n",
    "            max_count = count\n",
    "            number_with_highest_count = number\n",
    "    return number_with_highest_count\n",
    "\n",
    "\n",
    "def most_frequent(numbers: list) -> int:\n",
    "    counts = defaultdict(int) # <-- If the key does not exist, `defaultdict` will create a new key whose value is an integer\n",
    "    for number in numbers:\n",
    "        counts[number] += 1\n",
    "\n",
    "    return get_number_with_highest_count(counts)"
   ]
  },
  {
   "cell_type": "markdown",
   "metadata": {},
   "source": [
    "Although this code is more concise than the former, there is room for improvement. The same `collections` library has a class named `Counter`, which, as the name suggests, counts the number of times an element appears:"
   ]
  },
  {
   "cell_type": "code",
   "execution_count": 12,
   "metadata": {},
   "outputs": [
    {
     "name": "stdout",
     "output_type": "stream",
     "text": [
      "Counter({1: 5, 8: 2, 2: 1, 3: 1, 4: 1, 5: 1, 6: 1, 9: 1, 11: 1, 14: 1, 15: 1, 16: 1, 17: 1, 18: 1, 19: 1})\n"
     ]
    }
   ],
   "source": [
    "from collections import Counter\n",
    "\n",
    "my_list = [1, 1, 2, 3, 4, 5, 6, 8, 8, 9, 1, 11, 1, 1, 14, 15, 16, 17, 18, 19]\n",
    "\n",
    "counts = Counter(my_list)\n",
    "print(counts)"
   ]
  },
  {
   "cell_type": "markdown",
   "metadata": {},
   "source": [
    "Thus, we can implement a Counter inside our code, as follows:"
   ]
  },
  {
   "cell_type": "code",
   "execution_count": 13,
   "metadata": {},
   "outputs": [],
   "source": [
    "from collections import Counter\n",
    "\n",
    "\n",
    "def get_number_with_highest_count(counts):\n",
    "    max_count = 0\n",
    "    for number, count in counts.items():\n",
    "        if count > max_count:\n",
    "            max_count = count\n",
    "            number_with_highest_count = number\n",
    "    return number_with_highest_count\n",
    "\n",
    "\n",
    "def most_frequent(numbers):\n",
    "    counts = Counter(numbers)\n",
    "    return get_number_with_highest_count(counts)"
   ]
  },
  {
   "cell_type": "markdown",
   "metadata": {},
   "source": [
    "Now, we test:"
   ]
  },
  {
   "cell_type": "code",
   "execution_count": 14,
   "metadata": {},
   "outputs": [
    {
     "data": {
      "text/plain": [
       "1"
      ]
     },
     "execution_count": 14,
     "metadata": {},
     "output_type": "execute_result"
    }
   ],
   "source": [
    "get_number_with_highest_count(counts)"
   ]
  },
  {
   "cell_type": "markdown",
   "metadata": {},
   "source": [
    "It appears that the code cannot be improved further. However, on paying close attention to the `get_number_with_highers_count` function, we could simply use the `max` function that is built in Python by default. The problem is that, by default, applying `max` to a dictionary will return the maximum of the values of its keys. If you attempt to apply it to the values, you will obtain the maximum value amongst the values; however, you will not know the key to which it corresponds.\n",
    "\n",
    "As a solution, we can apply lambda functions. Recall that many functions, such as sort, filter, map, etc., accept a key that will define the rules to compare the values from which the max value is determined."
   ]
  },
  {
   "cell_type": "code",
   "execution_count": 15,
   "metadata": {},
   "outputs": [
    {
     "data": {
      "text/plain": [
       "5"
      ]
     },
     "execution_count": 15,
     "metadata": {},
     "output_type": "execute_result"
    }
   ],
   "source": [
    "max(counts.values())"
   ]
  },
  {
   "cell_type": "code",
   "execution_count": 16,
   "metadata": {},
   "outputs": [],
   "source": [
    "from collections import Counter\n",
    "\n",
    "\n",
    "def get_number_with_highest_count(counts):\n",
    "    '''\n",
    "    Get a dict and return the key corresponding to the highest value\n",
    "    '''\n",
    "    return max(\n",
    "        counts,\n",
    "        key=lambda number: counts[number] # maximise by value\n",
    "    )\n",
    "\n",
    "def most_frequent(numbers):\n",
    "    counts = Counter(numbers)\n",
    "    return get_number_with_highest_count(counts)"
   ]
  },
  {
   "cell_type": "markdown",
   "metadata": {},
   "source": [
    "Let us do a final check:"
   ]
  },
  {
   "cell_type": "code",
   "execution_count": 18,
   "metadata": {},
   "outputs": [
    {
     "data": {
      "text/plain": [
       "1"
      ]
     },
     "execution_count": 18,
     "metadata": {},
     "output_type": "execute_result"
    }
   ],
   "source": [
    "most_frequent(my_list)"
   ]
  },
  {
   "cell_type": "markdown",
   "metadata": {},
   "source": [
    "Everything works properly, achieved with relatively few lines of code."
   ]
  },
  {
   "cell_type": "markdown",
   "metadata": {},
   "source": [
    "These examples serve as demonstrations and are by no means a measure of the difficulty of applying these techniques. Bear in mind that your understanding of these techniques will improve with time and practice. Eventually, you will be able to detect when your code can be improved. Additionally, you may have observed that we used two new classes, which you may not be familiar with. Since there are many Python libraries, it is imperative that you harness and improve your research skills to enable you take on problems and tackle errors."
   ]
  },
  {
   "cell_type": "markdown",
   "metadata": {},
   "source": [
    "## Tools for Measuring Complexity"
   ]
  },
  {
   "cell_type": "markdown",
   "metadata": {},
   "source": [
    "We have learnt that time and space complexity improvements are essential. Conveniently, to ascertain that you are on the right path, Python offers ways to measure both of them."
   ]
  },
  {
   "cell_type": "markdown",
   "metadata": {},
   "source": [
    "### timeit"
   ]
  },
  {
   "cell_type": "markdown",
   "metadata": {},
   "source": [
    "`timeit` is a module that can be used in the CLI or in your code."
   ]
  },
  {
   "cell_type": "markdown",
   "metadata": {},
   "source": [
    "#### In the command line"
   ]
  },
  {
   "cell_type": "code",
   "execution_count": null,
   "metadata": {},
   "outputs": [],
   "source": [
    "!python -m timeit \"total=sum(range(1000))\""
   ]
  },
  {
   "cell_type": "markdown",
   "metadata": {},
   "source": [
    "#### In code"
   ]
  },
  {
   "cell_type": "code",
   "execution_count": null,
   "metadata": {},
   "outputs": [],
   "source": [
    "from timeit import timeit\n",
    "\n",
    "result = timeit(stmt='total=sum(range(1000))', number=5000)\n",
    "print(result/5000)"
   ]
  },
  {
   "cell_type": "markdown",
   "metadata": {},
   "source": [
    "This tool can be utilised to determine the run time of code snippets."
   ]
  },
  {
   "cell_type": "markdown",
   "metadata": {},
   "source": [
    "### CPU profiling"
   ]
  },
  {
   "cell_type": "markdown",
   "metadata": {},
   "source": [
    "You can evaluate more metrics from your code, such as the number of times that each piece of code ran, the time spent on each part, and the time spent on each call. To check, download the following file, and run the following cell."
   ]
  },
  {
   "cell_type": "code",
   "execution_count": null,
   "metadata": {},
   "outputs": [],
   "source": [
    "!wget https://aicore-files.s3.amazonaws.com/Foundations/Software_Engineering/cpu.py"
   ]
  },
  {
   "cell_type": "code",
   "execution_count": null,
   "metadata": {},
   "outputs": [],
   "source": [
    "!python -m cProfile --sort tottime cpu.py"
   ]
  },
  {
   "cell_type": "markdown",
   "metadata": {},
   "source": [
    "As can be observed, information is provided on everything, including all imports and calls.\n",
    "\n",
    "This will help you identify bottlenecks in your code and optimise your algorithms."
   ]
  },
  {
   "cell_type": "markdown",
   "metadata": {},
   "source": [
    "## Conclusion\n",
    "\n",
    "At this point, you should have a good understanding of\n",
    "- big O notation.\n",
    "- time complexity and the rules to follow.\n",
    "- space complexity and generators.\n",
    "- how to measure and improve complexity."
   ]
  },
  {
   "cell_type": "markdown",
   "metadata": {},
   "source": [
    "## References\n",
    "\n",
    "[Wikipedia](https://en.wikipedia.org/wiki/Big_O_notation)\n",
    "\n",
    "[Big O Notation](https://www.freecodecamp.org/news/big-o-notation-why-it-matters-and-why-it-doesnt-1674cfa8a23c/)\n",
    "\n",
    "[Introduction to the theory of computation](http://fuuu.be/polytech/INFOF408/Introduction-To-The-Theory-Of-Computation-Michael-Sipser.pdf)\n"
   ]
  }
 ],
 "metadata": {
  "interpreter": {
   "hash": "ad8bebc098a042dc0df4e42fc2ecc8fff0bd7b8741641ce29007c29766dadbe0"
  },
  "kernelspec": {
   "display_name": "Python 3.9.1 64-bit ('base': conda)",
   "name": "python3"
  },
  "language_info": {
   "codemirror_mode": {
    "name": "ipython",
    "version": 3
   },
   "file_extension": ".py",
   "mimetype": "text/x-python",
   "name": "python",
   "nbconvert_exporter": "python",
   "pygments_lexer": "ipython3",
   "version": "3.8.11"
  },
  "orig_nbformat": 4
 },
 "nbformat": 4,
 "nbformat_minor": 2
}
