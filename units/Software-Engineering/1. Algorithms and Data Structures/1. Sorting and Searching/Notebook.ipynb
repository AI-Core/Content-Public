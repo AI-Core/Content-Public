{
 "cells": [
  {
   "cell_type": "markdown",
   "metadata": {},
   "source": [
    "# Sorting and Searching"
   ]
  },
  {
   "cell_type": "markdown",
   "metadata": {},
   "source": [
    "Sorting and searching are the bread and butter of algorithms. As their name suggest, sorting is an algorithm for arranging the elements in a list of array. Searching looks for an element in a list of array. "
   ]
  },
  {
   "cell_type": "markdown",
   "metadata": {},
   "source": [
    "# Sorting\n",
    "\n",
    "There are many sorting algorithms, some of the most famous are the bubble sort, insertion sort, quick sort, merge sort.\n"
   ]
  },
  {
   "cell_type": "markdown",
   "metadata": {},
   "source": [
    "## Bubble Sort\n",
    "One of the simplest one is bubble sorting. It consists on repeatedly swapping adjacent elements if the left element is greater than the right element.\n",
    "\n",
    "1. From the first element, compare it with the next element\n",
    "2. If the current element is greater than the next one, swap them. \n",
    "3. Otherwise, go the next element and compare it with the following one\n",
    "\n",
    "![](images/bubble_sort.png)"
   ]
  },
  {
   "cell_type": "markdown",
   "metadata": {},
   "source": [
    "What is the time complexity of this algorithm? Can you think of a way to implement it in your code?\n",
    "\n",
    "_Tip_: You will have to use nested loops"
   ]
  },
  {
   "cell_type": "code",
   "execution_count": null,
   "metadata": {},
   "outputs": [],
   "source": [
    "from typing import List\n",
    "def bubbleSort(arr: List) -> None:\n",
    "    n = len(arr)\n",
    "    pass"
   ]
  },
  {
   "cell_type": "markdown",
   "metadata": {},
   "source": [
    "### _Efficient bubble sort_"
   ]
  },
  {
   "cell_type": "code",
   "execution_count": 12,
   "metadata": {},
   "outputs": [],
   "source": [
    "from typing import List\n",
    "def efficient_bubble_sort(arr: List) -> None :\n",
    "    pass"
   ]
  },
  {
   "cell_type": "markdown",
   "metadata": {},
   "source": [
    "## Insertion Sort\n",
    "\n",
    "You will usually see insertion sort compared to having a deck of cards and trying to sort it. That's actually because _inserting_ a card in a sorted deck works in the same way as __insertion sort__. Try to find the value of the cards in the deck, and insert the new card in the right position. \n",
    "\n",
    "In this case you won't compare the current element with the next one, but the current element with its predecesor, thus, you will start from the second element (index = 1).\n",
    "\n",
    "1. Iterate from the second element to the last element\n",
    "2. If the current element is smaller than its predecesor, compare the current element to the elements before\n",
    "3. Move the elements greater than the current element one position up, so they make room for the current element to be _inserted_\n",
    "\n",
    "![](images/insertion_sort.png)"
   ]
  },
  {
   "cell_type": "markdown",
   "metadata": {},
   "source": [
    "__What is the big O of this algo?__"
   ]
  },
  {
   "cell_type": "markdown",
   "metadata": {},
   "source": [
    "Let's implement it"
   ]
  },
  {
   "cell_type": "code",
   "execution_count": null,
   "metadata": {},
   "outputs": [],
   "source": [
    "def insertionSort(arr: list) -> None:\n",
    "    pass"
   ]
  },
  {
   "cell_type": "markdown",
   "metadata": {},
   "source": [
    "## Merge Sort"
   ]
  },
  {
   "cell_type": "markdown",
   "metadata": {},
   "source": [
    "Divide and conquer! Merge Sort belongs to a Divide and Conquer algorithm. The reason of that name is because it divides the input list into two halves, then it sort both halves, and after sorting them, it merges them.\n",
    "\n",
    "The division is done until there is just one element:\n",
    "\n",
    "![](images/merge_sort.png)"
   ]
  },
  {
   "cell_type": "markdown",
   "metadata": {},
   "source": [
    "# Searching"
   ]
  },
  {
   "cell_type": "markdown",
   "metadata": {},
   "source": [
    "Searching is one of the most studied algorithms, and as such, there are several methods for seaching an element in a list. Here we have some examples\n",
    "\n",
    "- Linear (Sequential) Searching: You traverse sequentially the list (from `0` to `n` in steps of 1)\n"
   ]
  },
  {
   "cell_type": "code",
   "execution_count": 11,
   "metadata": {},
   "outputs": [],
   "source": [
    "from typing import List\n",
    "def linear_search(ls: List, element: int) -> int:\n",
    "    pass"
   ]
  },
  {
   "cell_type": "markdown",
   "metadata": {},
   "source": [
    "\n",
    "- Binary Searching [O(log n)]: This search algorithm belongs to the interval algorithms. Much more efficient than linear, but the array has to be sorted beforehand.\n",
    "\n",
    "1. We will start in the middle\n",
    "2. If the current element is greater, we will search in the midpoint of the left group\n",
    "3. Otherwise, we will search in the midpoint of the right group\n",
    "4. In that new midpoint, we repeat the same procedure\n",
    "5. If the element is not found when the left pointer is at the same position as the right pointer, the element is not in the list\n",
    "\n",
    "![](images/binary_search.png)"
   ]
  },
  {
   "cell_type": "markdown",
   "metadata": {},
   "source": [
    "\n",
    "3. Interpolation Search [O(n), if uniform distribution O(log log n)]: It works similar to binary search, but after the first attempt, it will assume that the elements increase linearly\n",
    "\n",
    "![](images/interpolation.jpg)\n"
   ]
  },
  {
   "cell_type": "markdown",
   "metadata": {},
   "source": [
    "\n",
    "4. Jump Searching [O(√n)]: This search skips a fixed number of steps, and check at every step whether the number matches the element. If greater, looks inside the last skipped block. The step size is usually the square root of the length of the list\n",
    "\n",
    "![](images/jump_search.png)"
   ]
  },
  {
   "cell_type": "markdown",
   "metadata": {},
   "source": [
    "## Binary Search"
   ]
  },
  {
   "cell_type": "markdown",
   "metadata": {},
   "source": [
    "We are going to see binary search, since it is one of the most common algorithms that everyone should know! (Disclaimer: everyone IN THIS CLASS should know it)"
   ]
  },
  {
   "cell_type": "code",
   "execution_count": 1,
   "metadata": {},
   "outputs": [],
   "source": [
    "from typing import List\n",
    "\n",
    "def bin_search(my_list: List[int], target: int) -> int:\n",
    "    left, right = 0, len(my_list) - 1\n",
    "    while left <= right:\n",
    "        \n",
    "        mid = left + (right - left) // 2\n",
    "        if my_list[mid] == target:\n",
    "            return mid\n",
    "        if target < my_list[mid]:\n",
    "            right = mid - 1\n",
    "        else:\n",
    "            left = mid + 1\n",
    "\n",
    "    return -1"
   ]
  },
  {
   "cell_type": "markdown",
   "metadata": {},
   "source": [
    "The above code was an iterative binary search. Can you think of a recursive binary search?"
   ]
  },
  {
   "cell_type": "code",
   "execution_count": null,
   "metadata": {},
   "outputs": [],
   "source": [
    "from typing import List\n",
    "\n",
    "def bin_search_rec(my_list: List[int], target: int) -> int:\n",
    "    pass"
   ]
  },
  {
   "cell_type": "markdown",
   "metadata": {},
   "source": [
    "# Challenges"
   ]
  },
  {
   "cell_type": "markdown",
   "metadata": {},
   "source": [
    "## Q1. Merge Sort\n",
    "\n",
    "Implement a function to arrange a list using merge sort"
   ]
  },
  {
   "cell_type": "code",
   "execution_count": null,
   "metadata": {},
   "outputs": [],
   "source": [
    "def mergeSort(arr):\n",
    "    if len(arr) > 1:\n",
    "        mid = len(arr)//2\n",
    "        left = arr[:mid]\n",
    "        right = arr[mid:]\n",
    " \n",
    "        mergeSort(left)\n",
    "        mergeSort(right)\n",
    "\n",
    "        i = 0\n",
    "        j = 0\n",
    "        k = 0\n",
    "\n",
    "        while i < len(left) and j < len(right):\n",
    "            ### Your code here\n",
    "            pass\n",
    "        while i < len(left):\n",
    "            ### Your code here\n",
    "            pass\n",
    "        while j < len(right):\n",
    "            ### Your code here\n",
    "            pass"
   ]
  },
  {
   "cell_type": "markdown",
   "metadata": {},
   "source": [
    "## Q2. Interpolation Search.\n",
    "Assuming the argument passed to the functions is sorted: Create a function to implement __Interpolation search__ using Recursion"
   ]
  },
  {
   "cell_type": "code",
   "execution_count": null,
   "metadata": {},
   "outputs": [],
   "source": [
    "from typing import List\n",
    "def interpolationSearch(ls: List, left: int, right: int, element: int) -> int:\n",
    " \n",
    "    if (left <= right and element >= ls[left] and element <= ls[right]):\n",
    "        ### Your Code Here ###\n",
    "        pass\n",
    "    return -1\n",
    "\n",
    "my_ls = [1, 2, 3, 6, 8, 9, 12, 14, 42, 43, 44, 55, 65, 80, 97]\n",
    "n = len(my_ls)\n",
    " \n",
    "element = 14\n",
    "index = interpolationSearch(my_ls, 0, n - 1, element)\n",
    "if index == -1:\n",
    "    print('Element not found')\n",
    "else:\n",
    "    print(f'Element found at index {index}')"
   ]
  },
  {
   "cell_type": "markdown",
   "metadata": {},
   "source": [
    "\n",
    "## Q3. Square Root using Binary Search.\n",
    "Create a function that uses binary search to find the square root of a number with two decimals (Do not use the sqrt function!)"
   ]
  },
  {
   "cell_type": "code",
   "execution_count": 6,
   "metadata": {},
   "outputs": [],
   "source": [
    "def squareRoot(number: int):\n",
    "    number *= 10000\n",
    "    start = 0\n",
    "    end = number\n",
    "    ans = 1\n",
    "    ### Your code here ###\n",
    "    return ans / 100"
   ]
  },
  {
   "cell_type": "code",
   "execution_count": 10,
   "metadata": {},
   "outputs": [
    {
     "data": {
      "text/plain": [
       "28379.81"
      ]
     },
     "execution_count": 10,
     "metadata": {},
     "output_type": "execute_result"
    }
   ],
   "source": [
    "squareRoot(805413621)"
   ]
  },
  {
   "cell_type": "markdown",
   "metadata": {},
   "source": [
    "## Q4. Jump Search. \n",
    "\n",
    "Assuming the argument passed to the functions is sorted: Create a function to implement Jump Search. Use the function you created to calculate the step size\n"
   ]
  },
  {
   "cell_type": "code",
   "execution_count": null,
   "metadata": {},
   "outputs": [],
   "source": [
    "from typing import List\n",
    "\n",
    "def jumpSearch(ls: List, element: int, length: int):\n",
    "     \n",
    "    pass\n",
    " \n",
    "# test your function\n",
    "my_ls = [1, 2, 3, 6, 8, 9, 12, 14, 42, 43, 44, 55, 65, 80, 97]\n",
    "element = 56\n",
    "n = len(my_ls)\n",
    "index = jumpSearch(my_ls, element, n)\n",
    " \n",
    "if index == -1:\n",
    "    print('Element not found')\n",
    "else:\n",
    "    print(f'Element found at index {index}')"
   ]
  },
  {
   "cell_type": "markdown",
   "metadata": {},
   "source": [
    "# Assessments"
   ]
  },
  {
   "cell_type": "markdown",
   "metadata": {},
   "source": [
    "1. Look information about Quick Sort.\n",
    "2. Can you implement a function that arrange a list using Quick Sort?\n",
    "3. In many languages, one famous data structure is hashmaps or hashtables. In Python, they are called dictionaries. Look at the big O of searching a key in a dictionary.\n"
   ]
  },
  {
   "cell_type": "markdown",
   "metadata": {},
   "source": [
    "# References\n",
    "\n",
    "[Sorting Algorithms](https://www.toptal.com/developers/sorting-algorithms)"
   ]
  },
  {
   "cell_type": "markdown",
   "metadata": {},
   "source": []
  }
 ],
 "metadata": {
  "interpreter": {
   "hash": "569d6b7e9215e11aba41c6454007e5c1b78bad7df09dab765d8cf00362c40f03"
  },
  "kernelspec": {
   "display_name": "Python 3.9.1 64-bit ('base': conda)",
   "name": "python3"
  },
  "language_info": {
   "name": "python",
   "version": ""
  },
  "orig_nbformat": 4
 },
 "nbformat": 4,
 "nbformat_minor": 2
}