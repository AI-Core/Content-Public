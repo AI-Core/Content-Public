{
 "cells": [
  {
   "cell_type": "markdown",
   "metadata": {},
   "source": [
    "# Web Scraping - Selenium Overview\n",
    "\n",
    "> Selenium is a tool for programmatically controlling a browser. It's originally intended to be used for creating unit tests, but it can also be used to do anything that needs a browser to be controlled. "
   ]
  },
  {
   "cell_type": "markdown",
   "metadata": {},
   "source": [
    "Click the logo to go to the Selenium documentation to read more about the tool:\n",
    "\n",
    "<a href=https://selenium-python.readthedocs.io/><p align=center><img src=images/selenium_logo.webp width=400></p></a>\n",
    "<figcaption align=\"center\"><cite>Selenium Logo</cite></figcaption>\n",
    "\n"
   ]
  },
  {
   "cell_type": "markdown",
   "metadata": {},
   "source": [
    "## Webdriving\n",
    "\n",
    "> Selenium can \"drive\" a web browser. This means it can take full control of it and, find elements, click, scroll, execute js code etc.\n",
    "\n",
    "You need to specify which browsers this webdriver will drive such as Chrome or Firefox. To drive a browser you need to have the driver installed. We'll use the Chrome browser and download its driver called _Chromedriver_.\n",
    "\n",
    "We'll have to install Chromedriver to drive our Chrome browser. You should ensure you have the correct version, which should be the same as the version of chrome which you wish to drive. \n",
    "\n",
    "[Check your Chrome version here](https://help.zenplanner.com/hc/en-us/articles/204253654-How-to-Find-Your-Internet-Browser-Version-Number-Google-Chrome)\n",
    "\n",
    "[Download Chromedriver from here](https://chromedriver.chromium.org/downloads)\n",
    "\n",
    "If you are using FireFox, you need to download the Geckodriver. You can download it from [here](https://github.com/mozilla/geckodriver/releases)\n",
    "\n",
    "If you are using Edge, you need to download the MicrosoftWebDriver. You can download it from [here](https://developer.microsoft.com/en-us/microsoft-edge/tools/webdriver/)\n",
    "\n",
    "If you are using Safari, you can go to your browser, go to `Developer`, and set the \"Allow Remote Automation\" to \"Yes\".\n",
    "\n",
    "Once you download the driver, you can move it to the Python Path. This will make things easier when you have to work in different directories. \n",
    "\n",
    "To move it to the path, you can do the following command:\n",
    "\n",
    "1. Observe your `PATH` environment variable by running `echo $PATH`:"
   ]
  },
  {
   "cell_type": "code",
   "execution_count": null,
   "metadata": {},
   "outputs": [],
   "source": [
    "%%bash\n",
    "echo $PATH"
   ]
  },
  {
   "cell_type": "markdown",
   "metadata": {},
   "source": [
    "In my case, this is the PATH I get:\n",
    "<p align=center><img src=images/Path.png></p>"
   ]
  },
  {
   "cell_type": "markdown",
   "metadata": {},
   "source": [
    "This means that Python will look into any of these paths to find the packages, dependencies... and the webdriver to execute Selenium. You can tell apart the Paths because they are separated by a colon (:). So, all the paths in this example are:\n",
    "- `/Library/Frameworks/Python.framework/Versions/3.9/bin`\n",
    "- `/opt/miniconda3/bin`\n",
    "- `/opt/miniconda3/condabin`\n",
    "- `/usr/local/bin`\n",
    "- `/usr/bin`\n",
    "- `/bin`\n",
    "- `/usr/sbin`\n",
    "- `/sbin`\n"
   ]
  },
  {
   "cell_type": "markdown",
   "metadata": {},
   "source": [
    "\n",
    "2. Move your driver file to any of the directories in your `PATH` environment variable. For example, if you are using `/usr/local/bin` as your `PATH` environment variable, you can move the driver to `/usr/local/bin` by running `mv chromedriver /usr/local/bin`. Make sure to replace `chromedriver` with the name of your driver.\n"
   ]
  },
  {
   "cell_type": "markdown",
   "metadata": {},
   "source": [
    "Finally, you need to install Selenium, run this cell to install it, but make sure you are in the right environment! (In VSCode, if you are using a notebook, look at the top right, and if you are using a script, look at the bottom left)"
   ]
  },
  {
   "cell_type": "code",
   "execution_count": null,
   "metadata": {},
   "outputs": [],
   "source": [
    "%%bash\n",
    "pip install "
   ]
  },
  {
   "cell_type": "markdown",
   "metadata": {},
   "source": [
    "And now you are ready to use Selenium. \n",
    "\n",
    "_Note: If you are reading this in a Google Colab notebook, you can still use Selenium, but you need to enable the `headless` mode (we will see that later). This essentially means that the browser will not open, and you are not going to see how Selenium is executing all the commands. For the sake of practice, we encourage you to follow these steps in a notebook in your local machine. Once you get more practice, you can start using Selenium in the cloud_."
   ]
  },
  {
   "cell_type": "markdown",
   "metadata": {},
   "source": [
    "## Finding tree elements within a HTMLElement using XPath"
   ]
  },
  {
   "cell_type": "markdown",
   "metadata": {},
   "source": [
    "> Selenium finds the elements of a website by looking at its HTML code. You can navigate through this code by using Xpaths. \n",
    "\n",
    "_Xpath_ is a query language for selecting nodes/branches/elements within a tree-like data structure like HTML or XML.\n",
    "Below is a very simple Xpath expression. This one finds all button elements in the HTML:\n",
    "\n",
    "`//button`\n",
    "\n",
    "The `//` says \"anywhere in the tree\" and the button says find elements that have the tag type button. So this Xpath expression says \"find button tags anywhere within the tree\"\n",
    "The Xpath method of HTMLElement takes in an Xpath expression returns a list of all elements in the tree that match it.\n",
    "Below are more examples of how to use Xpath:\n",
    "\n",
    "- `/button` find direct children (not all) tags of type button, of the element\n",
    "- `//div/button` - finds all of the button tags inside div tags anywhere on the page\n",
    "- `//div[@id='custom_id']` - finds all div tags with the attribute (@) id equal to custom_id, anywhere on the page\n",
    "\n",
    "If any of these don't make sense, let us know after looking it up.\n",
    "Use the `//button` Xpath expression as an argument to find the button on the page"
   ]
  },
  {
   "cell_type": "markdown",
   "metadata": {},
   "source": [
    "Just as a taster, if you want to use Selenium to find the element corresponding to the button Xpath, you can write it like this:\n",
    "```\n",
    "from selenium import webdriver \n",
    "from selenium.webdriver.common.by import By\n",
    "driver = webdriver.Chrome()\n",
    "driver.find_element(by=By.XPATH, value='//button')\n",
    "```\n",
    "\n",
    "- The first line imports the webdriver library that contains the different types of webdriver\n",
    "- The second line assign a Chromedriver to a variable `driver`. This is the instance that will help us navigate through the HTML code in the website.\n",
    "- The last line will find the elements in the HTML code that correspond to that XPath. If there is no element with that XPath, Selenium will throw an error."
   ]
  },
  {
   "cell_type": "markdown",
   "metadata": {},
   "source": [
    "### Using the browser console\n"
   ]
  },
  {
   "cell_type": "markdown",
   "metadata": {},
   "source": [
    "\n",
    "> Modern browsers come with tools to maximise web developers' productivity and help find bugs.\n",
    "\n",
    "The developer console has a lot of different tools. \n",
    "\n",
    "Open your element inspector by pressing `CTRL + SHIFT + C`.\n",
    "It should open on the right-hand side of your screen as shown below.\n",
    "\n",
    "The `elements` tab of the developer console shows you the HTML and CSS that make up the website code (actually it shows the DOM. Read more about what exactly the DOM is [here](https://css-tricks.com/dom/)).\n",
    "\n",
    "You can always close the developer console by clicking the cross in the corner. \n",
    "\n",
    "Check out the Zoopla website for yourself. Try using your selector to see the HTML structure of the page:\n",
    "\n",
    "<p align=center><img src=images/form_selector.png width=600></p>\n",
    "<figcaption align=\"center\"><cite>Zoopla Website HTML Structure</cite></figcaption>\n",
    "\n",
    "\n",
    "Now use your selector to find the location of the button as shown below.\n",
    "\n",
    "<p align=center><img src=images/button_selector.png width=600></p>\n",
    "<figcaption align=\"center\"><cite>Zoopla Website Button Location</cite></figcaption>\n",
    "\n",
    "\n",
    "As mentioned, the selector allows us to visualise the DOM and find elements within our webpage.\n",
    "\n",
    "\n",
    "### Challenge: How many HTML buttons are there on the homepage? "
   ]
  },
  {
   "cell_type": "markdown",
   "metadata": {},
   "source": [
    "## Relative XPaths\n"
   ]
  },
  {
   "cell_type": "markdown",
   "metadata": {},
   "source": [
    "> <font size=+1> We can find elements, and then search for elements within them! </font>\n",
    "\n",
    "Elements returned from finding them by Xpath also have the same search methods. For example, if you have the following HTML code:\n",
    "\n",
    "<p align=center><img src=images/HTML_example.png width=400></p>\n",
    "<figcaption align=\"center\"><cite>HTML Elements</cite></figcaption>"
   ]
  },
  {
   "cell_type": "markdown",
   "metadata": {},
   "source": [
    "The Xpath of the highlighted element is `//div[@id=\"__next\"]`. Once again, this Xpath means:\n",
    "\n",
    "- `//` indicates that it will look into the whole tree\n",
    "- `div` indicates that it will look only for \"div\" tags\n",
    "- `[]` whatever we write inside, is going to correspond to the attributes of the tag we look for\n",
    "- `[@id=\"__next\"]` means that the tag we look for has an attribute whose value is \"__next\"\n",
    "\n",
    "Thus, the whole Xpath means: In the whole tree, find a \"div\" tag whose \"id\" attribute is equal to \"__next\"\n",
    "\n",
    "So, let's say that we assign that Xpath to a variable `my_path`\n",
    "```\n",
    "my_path = driver.find_element(by=By.XPATH, value='//*[@id=\"__next\"]')\n",
    "```\n",
    "If, after that, we wanted to find the inner \"div\" tag, we don't need to specify the whole Xpath. We can refer to `my_path` and start the search from that point. This is also known as \"relative Xpath\"\n",
    "\n",
    "To start the search from a certain point, we just need to use a dot (`.`), so, to find the next \"div\" tag, we can write this:\n",
    "```\n",
    "new_path = my_path.find_element(by=By.XPATH, value='./div')\n",
    "```\n",
    "And that's it!\n",
    "\n",
    "Notice that in this case, we only used a single slash. That means that we are going to look for that element only in the direct children (but not in the grandchildren)"
   ]
  },
  {
   "cell_type": "markdown",
   "metadata": {},
   "source": [
    "## Beyond just GETTING static HTML\n",
    "\n",
    "\n",
    "### Why might using requests to get the website content not work?\n",
    "\n",
    "> Some elements on webpages are inserted or manipulated by Javascript code that runs only after the HTML is rendered.\n",
    "\n",
    "Some information that you want may be shown only after interacting with certain elements.\n",
    "\n",
    "The GET requests to the website just get the HTML file. They don't actually run the JavaScript code, or interact with the page after it renders. So parsing them for our data won't work.\n",
    "\n",
    "Again, there is a way around this. We can Selenium to take control of a browser that can then be programmatically instructed to fill in forms, click elements, and find data on any webpage."
   ]
  },
  {
   "cell_type": "markdown",
   "metadata": {},
   "source": [
    "## Key Takeaways\n",
    "\n",
    "- _Selenium_ is a webdriver tool for programmatically controlling a browser. It can be used to find elements, scroll through pages, execute code on a website etc.\n",
    "- To be able to use Selenium, we'll need to specify which browser the tool will be controlling (Chrome, Firefox etc.). The appropriate driver must then be downloaded and moved to the proper Python path.\n",
    "- _Xpath_ is a query language for selecting nodes, branches and elements within a tree-like data structure such as HTML or XML. They are useful to find specific elements in HTML pages.\n",
    "- Modern browsers come with various tools to help developers maximise their productivity and to easily find and correct bugs \n",
    "- _Relative Xpath_ is a technique to recursively search tags to find inner tags\n"
   ]
  }
 ],
 "metadata": {
  "interpreter": {
   "hash": "569d6b7e9215e11aba41c6454007e5c1b78bad7df09dab765d8cf00362c40f03"
  },
  "kernelspec": {
   "display_name": "Python 3.9.1 64-bit ('base': conda)",
   "name": "python3"
  },
  "language_info": {
   "codemirror_mode": {
    "name": "ipython",
    "version": 3
   },
   "file_extension": ".py",
   "mimetype": "text/x-python",
   "name": "python",
   "nbconvert_exporter": "python",
   "pygments_lexer": "ipython3",
   "version": "3.9.1"
  }
 },
 "nbformat": 4,
 "nbformat_minor": 4
}
