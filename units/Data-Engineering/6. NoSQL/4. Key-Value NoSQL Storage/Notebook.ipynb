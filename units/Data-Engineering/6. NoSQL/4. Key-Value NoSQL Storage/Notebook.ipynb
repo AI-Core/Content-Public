{
 "cells": [
  {
   "cell_type": "markdown",
   "metadata": {},
   "source": [
    "## NoSQL - Key-Value\n",
    "\n",
    "> Key-value data stores use a simple key-value design to store data. Each key has an associated value or set of values. \n",
    "\n",
    "Before getting into the details of the key-value NoSQL data store, let's first review our understanding of what exactly is a key-value pair by looking at the below (very simple) JSON data containing an object with some flight information:\n"
   ]
  },
  {
   "cell_type": "code",
   "execution_count": null,
   "metadata": {},
   "outputs": [],
   "source": [
    " \n",
    "  {\n",
    "    \"id\": \"fc704c16fd79\",\n",
    "    \"company\": \"US Airlines\",\n",
    "    \"points\": 25000,\n",
    "    \"duration\": 590\n",
    "  }\n"
   ]
  },
  {
   "cell_type": "markdown",
   "metadata": {},
   "source": [
    "We'll notice that we have certain _keys_ such as: `id`, `company`, `points` and `duration`.  \n",
    "\n",
    "For each key, we have an associated _value_.  The value can be retrieved by querying the file using its key.\n",
    "\n",
    "For example:\n",
    "-   If we parse the JSON for `id`, we'll get `fc704c16fd79` as the result\n",
    "-   If we parse the JSON for `company`, we'll get `US Airlines` as the return value\n"
   ]
  },
  {
   "cell_type": "markdown",
   "metadata": {},
   "source": [
    "\n",
    "Key-value data stores use the key-value method described above. The _keys_ are unique identifiers for the values. The _values_ can be any type of object - a number or a string, or even another key-value pair in which case the structure of the data grows more nested.\n",
    "\n",
    "Unlike relational databases, which store data in tables where each column has an assigned data type, key-value data stores do not have a specified structure. They differ in both the keys and values:\n",
    "- __Keys__: \n",
    "  - In key-value data stores, keys do not specifically have to all be the same type. However, as it's the only way of retrieving the value associated with it, naming/assigning the keys should be done strategically.\n",
    "- __Values__: \n",
    "  - As with most NoSQL data stores, the values do not have to have a consistent schema. They may contain attributes not present in other records, or they may have different data types for some attributes.\n",
    "\n",
    "Key names can range from automatically incrementing numbers to semantic descriptions of the value that it represents (e.g. `unit/module/lesson`).\n",
    "\n",
    "The key-value store is one of the least complex types of NoSQL databases. This is precisely what makes this design so attractive. It uses very simple functions to store, retrieve and remove data. Apart from those main functions, key-value stores do not have a universal querying language. \n",
    "\n",
    "Below is an example diagram of how key-value data looks like.  Note that the columns are not of equal length (unlike relational databases):\n",
    "\n",
    "<p align=\"center\">\n",
    "  <img src=\"images/key-value.png\" width=600>\n",
    "  <figcaption align=\"center\"><cite>Example Key-Value Data</cite></figcaption>\n",
    "\n",
    "</p>\n",
    "\n",
    "## Querying Key-Value Data Stores vs SQL\n",
    "\n",
    "To get a better understanding of what querying key-value data stores looks like, let's review an example. Assume we have a table called `Music` which stores song and artist information. In SQL, we would retrieve all song records that belong to a specific artist using the following command:\n"
   ]
  },
  {
   "cell_type": "code",
   "execution_count": null,
   "metadata": {},
   "outputs": [],
   "source": [
    "-- Return all songs by Alesso\n",
    "SELECT * FROM Music\n",
    "WHERE artist = 'Alesso'"
   ]
  },
  {
   "cell_type": "markdown",
   "metadata": {},
   "source": [
    "In a key-value data store, such as Amazon's DynamoDB (one of the most popular tools), the corresponding query would be:"
   ]
  },
  {
   "cell_type": "code",
   "execution_count": null,
   "metadata": {},
   "outputs": [],
   "source": [
    "# Return all songs by Alesso\n",
    "\n",
    "{\n",
    "    TableName: \"Music\",\n",
    "    KeyConditionExpression: \"Artist = :a\",\n",
    "    ExpressionAttributeValues: {\n",
    "        \":a\": \"Alesso\"\n",
    "    }\n",
    "}"
   ]
  },
  {
   "cell_type": "markdown",
   "metadata": {},
   "source": [
    "## Strengths of Key-Value Data Stores\n",
    "\n",
    "- __Simplicity__:\n",
    "  - Key value databases are quite simple to use. The straightforward commands make work easier for data engineers.\n",
    "  - This simplicity allows data to assume any type, or even multiple types, when needed\n",
    "<p></p>\n",
    "\n",
    "- __Speed__:\n",
    "  - This simple architecture makes key-value data stores quick to respond, provided that the infrastructure is optimized\n",
    "<p></p>\n",
    "\n",
    "- __Scalability__:\n",
    "  - This is a key advantage of NoSQL over relational databases in general, and key-value stores in particular. Unlike relational databases, which are only scalable vertically (by rows), key-value stores are also infinitely scalable horizontally (by nesting).\n",
    "<p></p>\n",
    "\n",
    "- __Reliability__:\n",
    "  -  Built-in redundancy automatically manages the restoration of data on lost nodes by using replication\n",
    "\n",
    "## Limitations of Key-Value Databases\n",
    "\n",
    "- __Simplicity__:\n",
    "  - Although this was also listed as a strength, the simplicity of key-value data stores can also make certain things hard. For example, there is no language nor straightforward means that allows querying with anything else other than the key.\n",
    "<p></p>\n",
    "\n",
    "- __No unified query language__:\n",
    "  - Unlike SQL, which is (roughly) the same across all databases, different key-value data stores have their own way to query keys. Without a unified query language to use, queries from one data store may not be transportable into a different key-value store.\n",
    "  - Values can't be filtered. Filtering by value is a common operation, which is hard to do with key-value data stores\n",
    "  - All attributes of an entry matching a specific key queried are returned, rather than a specific attribute\n",
    "  - When values get updated, the entire value section needs to be updated rather than just a specific part of it\n",
    "\n",
    "## Top Use Cases\n",
    "\n",
    "- __Web-session storage__:\n",
    "  - A session-oriented application, such as a web application, starts a session when a user logs in and is active until the user logs out or the session times out\n",
    "  - During this period, the application stores all session-related data either in the main memory or in a data store\n",
    "  - Session data may include: user profile information, messages, personalized data and themes, recommendations, targeted promotions, and discounts\n",
    "  - Each user session has a _unique identifier_. Session data is never queried by anything other than a primary key, so a fast key-value store is a better fit for session data. \n",
    "\n",
    "- __Shopping cart__:\n",
    "  - During the holiday shopping season, an e-commerce website may receive millions of orders in seconds. Key-value stores can handle the scaling of large amounts of data and extremely high volumes of state changes while servicing millions of simultaneous users through distributed processing and storage. \n",
    "\n",
    "## Popular Key-Value Data Stores\n",
    "\n",
    "- [Amazon DynamoDB](https://aws.amazon.com/dynamodb/)\n",
    "  - DynamoDB is a data store trusted by many large-scale users in major companies\n",
    "  - It is fully managed and reliable, with built-in backup and security options\n",
    "  - It is able to endure high loads and handle up to trillions of requests daily with sub-millisecond read times\n",
    "<p></p>\n",
    "\n",
    "- [Redis](https://redis.io/)\n",
    "  - Redis is an open source key-value data store\n",
    "  - With keys containing lists, hashes, strings and sets, Redis is known as a data structure server"
   ]
  },
  {
   "cell_type": "markdown",
   "metadata": {},
   "source": [
    "## Key Takeaways\n",
    "\n",
    "- Key-value data stores are another popular type of NoSQL tools widely used in industry\n",
    "- The data is stored in key-value pairs: whereby every key acts as an identifier and has a corresponding value associated with it \n",
    "- Keys don't all have to be of the same data type. This provides more flexibility for capturing a wide variety of data. \n",
    "- Similarly, the values stored don't have to all follow a consistent schema, and their lengths could differ \n",
    "- Key-value data stores are simple, fast, scale easily and are quite reliable\n",
    "- On the other hand, they could be overly simple. This means that they might not be appropriate for more complex data storing. Additionally, there currently does not exist a unified query language.\n",
    "- The most popular key-value tools include Amazon's DynamoDB and Redis "
   ]
  }
 ],
 "metadata": {
  "language_info": {
   "name": "python"
  },
  "orig_nbformat": 4
 },
 "nbformat": 4,
 "nbformat_minor": 2
}
