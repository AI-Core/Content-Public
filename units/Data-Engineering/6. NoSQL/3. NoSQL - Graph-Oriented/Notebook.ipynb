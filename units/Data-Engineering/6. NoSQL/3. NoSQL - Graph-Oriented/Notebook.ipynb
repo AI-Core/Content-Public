{
 "cells": [
  {
   "cell_type": "markdown",
   "metadata": {},
   "source": [
    "## NoSQL - Graph-Oriented\n",
    "\n",
    "> The Graph-oriented data store is one that stores data in a graph format\n",
    "\n",
    "<p align=\"center\">\n",
    "  <img src=\"images/nosql-graph-example.png\" width = 800>\n",
    "  <figcaption align=\"center\"><cite>Graph Data Example</cite></figcaption>\n",
    "\n",
    "\n",
    "</p> \n",
    "\n",
    "Graphs consist of _nodes_ and _edges_. A graph data store uses those to represent data as such:\n",
    "\n",
    "- __Node__:\n",
    "  - Stores the data entities\n",
    "  - This entity stores the actual data itself, such as the number of people who read a certain tweet, or the number of people who watched a YouTube video\n",
    "  - Node data can is usually structured as key-value pairs, and is usually an atomic value. It's also possible to import CSV and JSON files as input data.\n",
    "  \n",
    "- __Edge__:\n",
    "  - Stores the relationship between the various nodes\n",
    "  - For example, an attribute of a tweet such as the number of retweets would have a direct relationship connecting it to the text of the tweet\n",
    "  - Can also contain the direction showing how the data will flow between the nodes\n",
    "\n",
    "  For example, below is JSON that represents the graph above:"
   ]
  },
  {
   "cell_type": "code",
   "execution_count": null,
   "metadata": {},
   "outputs": [],
   "source": [
    "{\n",
    "    \"Training\": [\n",
    "       {\n",
    "          \"termName\": \"NoSQLModule\",\n",
    "          \"link\": \"/terms/Training/NoSQLModule\",\n",
    "          \"info\": \"This module contains 2 notebooks on NoSQL\",\n",
    "          \"relatedTerms\": [\n",
    "              {\n",
    "                  \"name\": \"Fundamentals\",\n",
    "                  \"link\": \"/terms/go_to_term/2\"\n",
    "              },\n",
    "              {\n",
    "                  \"name\": \"Hbase\",\n",
    "                  \"link\": \"/terms/go_to_term/3\"\n",
    "              }\n",
    "          ]\n",
    "          },\n",
    "      ],\n",
    "      \"category\": \"Training\"\n",
    "}"
   ]
  },
  {
   "cell_type": "markdown",
   "metadata": {},
   "source": [
    "This advanced model allows for storing highly-connected data and for complex querying of that data. \n",
    "\n",
    "Despite the fact that graph data stores can represent even the most complex interconnected data structures, they are not widely used compared to other data stores. This is because many use cases can be handled with a simpler data storage tool that makes writing queries easier (everyone is used to SQL). For example, if you have a set of data records which simply map `user id` to `username`, then a traditional relational database will suffice (and be highly performant), there is no need for a complex graph data store.\n",
    "\n",
    "## Data Manipulation in a Graph Data Store\n",
    "- New relationships between existing data are added by creating new edges between existing nodes\n",
    "  - An edge always has a _start node_, _end node_, _type_, and _direction_\n",
    "  - There is no limit to the number and kind of relationships a node can have\n",
    "- New data is inserted by adding a new node\n",
    "  - Instead of creating tables or columns for each new data type, we can add a new node with a specific relationship to others\n",
    "\n",
    "\n",
    "## Data Querying a Graph Data Store\n",
    "A graph in a Graph data store can be traversed along specific edge types or across the entire graph. Traversing the relationships is very fast because the relationships between nodes are not calculated at query times, but are persisted in the data store itself. \n",
    "\n",
    "To get a better understanding of how queries operate in a graph data store, let's look at an example. Assume we have a CSV file with data about actors. In SQL, we can load that data into a table called `actors`. To query the table for movies that `Tom Hanks` starred in, we'd use the following SQL query:"
   ]
  },
  {
   "cell_type": "code",
   "execution_count": null,
   "metadata": {},
   "outputs": [],
   "source": [
    "SELECT * FROM actors\n",
    "WHERE actor_name = 'Tom Hanks'"
   ]
  },
  {
   "cell_type": "markdown",
   "metadata": {},
   "source": [
    "The equivalent query in a graph data store (using the Cypher programming language) would be as follows:"
   ]
  },
  {
   "cell_type": "code",
   "execution_count": null,
   "metadata": {},
   "outputs": [],
   "source": [
    "MATCH (p {actor_name: 'Tom Hanks'})\n",
    "RETURN p"
   ]
  },
  {
   "cell_type": "markdown",
   "metadata": {},
   "source": [
    "The above Cypher query will return the node with the actor name `Tom Hanks`.  The expected result would look something like the below:\n",
    "\n",
    "<p align=\"center\">\n",
    "  <img src=\"images/nosql-graph-output.png\">\n",
    "  <figcaption align=\"center\"><cite>NoSQL Graph Query Output</cite></figcaption>\n",
    "</p> "
   ]
  },
  {
   "cell_type": "markdown",
   "metadata": {},
   "source": [
    "Graph-oriented data stores are ideal for mapping social media type of relationships and hence this is their most popular use case in industry.\n",
    "\n",
    "## Strengths of Graph Data Stores\n",
    "\n",
    "- __High performance vs SQL databases for graph data__:\n",
    "  - Very fast in creating relationships between data and querying them\n",
    "  - One recent experiment found that Neo4j (one of the most popular types of graph data stores) was 60% faster than a MySQL database when running a friends of friends query.  Here is the [link to the experiment results](https://neo4j.com/news/how-much-faster-is-a-graph-database-really/#:~:text=For%20the%20simple%20friends%20of,on%20the%20depth%205%20query.)\n",
    "\n",
    "<p></p>\n",
    "\n",
    "- __Query and manipulate any part of the data__:\n",
    "  - Graph data stores allow you to select and edit any data stored in any node with a query language\n",
    "  - Key-value stores, for example, do not allow you to query attributes of records\n",
    "\n",
    "<p></p>\n",
    "\n",
    "- __Can represent even the most complex relationships between data__\n",
    "  - Any node can connect to any other\n",
    "\n",
    "<p></p>\n",
    "\n",
    "- __Flexibility__:\n",
    "  - New nodes can easily be added at any time - there's no need for updating a schema\n",
    "  - Can support more complex data models when compared to key-value data stores. For example, in key-value stores the values cannot link to any other parts of records, whereas with graph data stores, any node can link to any other node.\n",
    "\n",
    "<p></p>\n",
    "\n",
    "- __ACID guarantees__:\n",
    "  - Some types of graph data stores can provide ACID (Atomicity, Consistency, Isolation, Durability) properties similar to a RDBMS, which helps maintain data integrity\n",
    "  - For example, the newer versions of MongoDB and Neo4j provide ACID guarantees\n",
    "\n",
    "#### Limitations of Graph Data Stores\n",
    "\n",
    "- __May be overly complicated for your use case__\n",
    "  - Most data manipulation and analysis can be done easily without needing to represent it in a graph\n",
    "  - Because of this, other types of data stores are more widely used, meaning less demand for more graph data stores, resulting in a limited number of them on the market\n",
    "\n",
    "<p></p>\n",
    "\n",
    "- __Slow for common queries__:\n",
    "  - Queries that span the entire dataset (scans) are slow for graph data stores compared to other data stores\n",
    "    - For example, calculating the average transaction value for each user would require you to get the value node from each transaction node from each user node. Doing the same thing with a relational database would be as simple as joining the user and transaction tables, and running a sum aggregated by user - no need to traverse a graph.\n",
    "\n",
    "<p></p>\n",
    "\n",
    "- __No unified query language__:\n",
    "  - There isn't yet a universal query language, and there may be a need to learn tool-specific languages to interact with the data\n",
    "\n",
    "## Top Use Cases \n",
    "\n",
    "- __Social media networks__:\n",
    "  - Social media networks are naturally thought of as interconnected nodes representing people, so this is type of data is a natural fit for a graph data store. Instead of having to convert this type of data into a table structure for analysis, a tool like Neo4j can be used.\n",
    "<p></p>\n",
    "\n",
    "- __Recommendation engines__:\n",
    "  - Real-time recommendation engines are key to the success of many online businesses. One type of recommendation engine, called collaborative filtering, works by recommending similar people similar things (w.g. products, movies, music). Graphs make it easy to see who is similar to one another by looking for nodes with similar connections.\n",
    "\n",
    "## Popular Graph Data Stores\n",
    "\n",
    "- [Neo4J](https://neo4j.com/)\n",
    "- [Amazon Neptune](https://aws.amazon.com/neptune/)\n",
    "- [Redis Graph](https://oss.redis.com/redisgraph/)\n",
    "- [OrientDB](https://orientdb.org/)\n"
   ]
  },
  {
   "cell_type": "markdown",
   "metadata": {},
   "source": [
    "## Key Takeaways\n",
    "\n",
    "- The Graph-oriented data store is another type of NoSQL that stores data in a graph structure\n",
    "- It is not that widely used, as it is designed for specialised data types such as social media information \n",
    "- Graphs consist of _nodes_, which store the data entities themselves, and _edges_, which store the relationships between the nodes\n",
    "- Data is added by creating a new node. New relationships are added by creating new edges between existing nodes \n",
    "- Graph data stores have several strengths including high performance, ability to represent complex data easily, flexibility as well as some ACID guarantees \n",
    "- On the other hand, Graph data stores may be overly complex for simple scenarios, can be slow for common queries that scan the entire dataset, and don't have a standard query language\n",
    "- The most popular types of Graph data stores used in industry include Neo4j, Amazon Neptune, Redis and OrientDB \n"
   ]
  }
 ],
 "metadata": {
  "language_info": {
   "name": "python"
  },
  "orig_nbformat": 4
 },
 "nbformat": 4,
 "nbformat_minor": 2
}
