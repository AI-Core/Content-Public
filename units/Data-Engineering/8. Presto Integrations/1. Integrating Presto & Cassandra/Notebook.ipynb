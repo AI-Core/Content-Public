{
 "cells": [
  {
   "cell_type": "markdown",
   "metadata": {},
   "source": [
    "# Presto - Cassandra Integration\n",
    "\n",
    "## Why Integrate Presto with Cassandra?\n",
    "\n",
    "> As you may recall, Presto is a powerful data querying engine that does not provide its own data storage platform. Accordingly, we need to integrate Presto with other tools in order to be able to query data. \n",
    "\n",
    "One of the most popular NoSQL tools used by global companies is Apache Cassandra. Cassandra stores data in a columnar format, and is very fast in writing and storing data. Therefore, one of the common tool integrations used by global companies is to connect Presto with Cassandra to leverage the strengths of both.\n",
    "\n",
    "## Steps to Integrate Presto with Cassandra\n",
    "\n",
    "To be able to integrate Presto and Cassandra, we first must have both tools installed and sucessfully running on our system.\n",
    "\n",
    "_Note: Refer to the notebooks covering [Presto Installation](https://portal.theaicore.com/lesson/6d812d61-a6ec-4e07-a5c7-5364e0823dc9) and [Cassandra Installation](https://portal.theaicore.com/lesson/50cf07cb-28e3-4e0c-9777-6ba221cd3374) for the detailed steps required to install each on your local machine._\n",
    "\n",
    "For the remainder of this notebook, we'll assume that both tools have successfully been installed and that they operate correctly.\n",
    "\n",
    "Let's begin.\n"
   ]
  },
  {
   "cell_type": "markdown",
   "metadata": {},
   "source": [
    "#### 1. Create a New Presto `/etc/catalog/` Directory\n",
    "\n",
    "In order to connect Presto with Cassandra, we need to create a Presto connector configuration file.  \n",
    "\n",
    "To do this, we need to first go to the Presto home directory and create a new `/etc/catalog/` directory (if it doesn't already exist). Presto looks for connector files in this folder by default, so any tool we want to integrate Presto with must have a configuration file placed there.\n",
    "\n",
    "Let's go ahead and do this:"
   ]
  },
  {
   "cell_type": "code",
   "execution_count": null,
   "metadata": {},
   "outputs": [],
   "source": [
    "# Create a catalog folder to store connector configuration files\n",
    "## Should we add a section in the Presto notebook to configure `$PRESTO_HOME` cause I don't think it's shown there. Otherwise this should be.\n",
    "## cd /usr/local/presto/etc\n",
    "cd $PRESTO_HOME/etc\n",
    "sudo mkdir catalog"
   ]
  },
  {
   "cell_type": "markdown",
   "metadata": {},
   "source": [
    "This should be the expected folder structure:\n",
    "\n",
    "<p align=\"center\">\n",
    "  <img src=\"images/presto-tree.png\" width=600>\n",
    "</p>"
   ]
  },
  {
   "cell_type": "markdown",
   "metadata": {},
   "source": [
    "#### 2. Create Cassandra Properties File and Add Configurations\n",
    "\n",
    "Create a new file called `cassandra.properties`.  We'll need to specify the following:\n",
    "\n",
    "- `connector.name`\n",
    "    - This is the type of tool Presto will connect to. In our case, it wil be Cassandra.\n",
    "    - For a full list of supported connectors, check the official [documentation guide](https://prestodb.io/docs/current/connector.html)\n",
    "    <p>\n",
    "- `cassandra.contact.points`\n",
    "    - This is a list of one or more IP's that contain the Cassandra nodes we will be connecting to\n",
    "    - In our case, we'll be using the local machine (localhost), which by default, has the IP = 127.0.0.1 on most machines\n",
    "\n",
    "Run the below command from inside the `/etc/catalog/` directory:"
   ]
  },
  {
   "cell_type": "code",
   "execution_count": null,
   "metadata": {},
   "outputs": [],
   "source": [
    "# Create a new cassandra.properties file\n",
    "sudo nano cassandra.properties"
   ]
  },
  {
   "cell_type": "code",
   "execution_count": null,
   "metadata": {},
   "outputs": [],
   "source": [
    "# Add this to the cassandra.properties file\n",
    "connector.name=cassandra # cassandra is one possible option outlined in docs\n",
    "cassandra.contact-points=127.0.0.1"
   ]
  },
  {
   "cell_type": "markdown",
   "metadata": {},
   "source": [
    "Save the file and exit. This should be the expected file content:\n",
    "\n",
    "<p align=\"center\">\n",
    "  <img src=\"images/cassandra-properties.png\" width=600>\n",
    "</p>"
   ]
  },
  {
   "cell_type": "markdown",
   "metadata": {},
   "source": [
    "#### 3. Check Cassandra Settings\n",
    "\n",
    "Next, we need to ensure that the IP address Cassandra is configured to use (which should be `127.0.0.1`) is _the same as the one we added above_ in the `cassandra.properties` file. \n",
    "\n",
    "Also, we need to double check that the default port open for Cassandra's native protocol is `9042`.\n",
    "\n",
    "To do this, we need to go to the Cassandra conf directory and open the `cassandra.yaml` file to review the settings.\n",
    "\n",
    "Here are the parameters we need to check:\n",
    "- `seed provider`\n",
    "    - Defines the IP addresses (seeds) of the available Cassandra nodes, seperated by commas.\n",
    "    <p>\n",
    "- `start_native_transport`\n",
    "    - Starts the native transport server which is used to connect the Cassandra shell with client applications\n",
    "    \n",
    "_Note: For a detailed list of all available parameters and a description of what each does, check the official [Cassandra documentation](https://cassandra.apache.org/doc/latest/cassandra/configuration/cass_yaml_file.html)_"
   ]
  },
  {
   "cell_type": "code",
   "execution_count": null,
   "metadata": {},
   "outputs": [],
   "source": [
    "# Open the cassandra.yaml file\n",
    "## Same again here should we specify creating `$CASSANDRA_HOME` in our bashrc/zshrc?\n",
    "## Otherwise this is cd /etc/cassandra/conf\n",
    "cd $CASSANDRA_HOME/conf \n",
    "sudo nano cassandra.yaml"
   ]
  },
  {
   "cell_type": "code",
   "execution_count": null,
   "metadata": {},
   "outputs": [],
   "source": [
    "# Check the below settings are set\n",
    "seed_provider:\n",
    "    - class_name: org.apache.cassandra.locator.SimpleSeedProvider\n",
    "      parameters:\n",
    "          - seeds: \"127.0.0.1\"\n"
   ]
  },
  {
   "cell_type": "markdown",
   "metadata": {},
   "source": [
    "This is what the file should look like:\n",
    "<p align=\"center\">\n",
    "  <img src=\"images/cassandra-seed.png\" width=600>\n",
    "</p>\n"
   ]
  },
  {
   "cell_type": "markdown",
   "metadata": {},
   "source": [
    "Next, look for the `start_native_transport` setting and ensure that it is enabled as follows:"
   ]
  },
  {
   "cell_type": "code",
   "execution_count": null,
   "metadata": {},
   "outputs": [],
   "source": [
    "# Ensure the below settings are set\n",
    "start_native_transport: true\n",
    "native_transport_port: 9042"
   ]
  },
  {
   "cell_type": "markdown",
   "metadata": {},
   "source": [
    "<p align=\"center\">\n",
    "  <img src=\"images/cassandra-native.png\" width=600>\n",
    "</p>"
   ]
  },
  {
   "cell_type": "markdown",
   "metadata": {},
   "source": [
    "#### 4. Start Cassandra\n",
    "\n",
    "Next, we need to start Cassandra. \n",
    "\n",
    "To do this, run the below command from a terminal window:\n",
    "\n",
    "_Note: Running Cassandra with the `-R` flag gives it root (administrator) privilages_"
   ]
  },
  {
   "cell_type": "code",
   "execution_count": null,
   "metadata": {},
   "outputs": [],
   "source": [
    "# Start Cassandra\n",
    "## Can say alternatively can run it as a service with sudo systemctl start cassandra check with sudo systemctl status cassandra\n",
    "cd $CASSANDRA_HOME\n",
    "sudo cassandra -R"
   ]
  },
  {
   "cell_type": "markdown",
   "metadata": {},
   "source": [
    "If everything runs smoothly, this would be the expected output:\n",
    "\n",
    "<p align=\"center\">\n",
    "  <img src=\"images/cassandra-running.png\" width=1200. height=1000>\n",
    "</p>"
   ]
  },
  {
   "cell_type": "markdown",
   "metadata": {},
   "source": [
    "#### 5. Run the Cassandra Shell\n",
    "\n",
    "Next, we need to run the Cassandra shell by entering the below command from a new terminal window (keeping the previous Cassandra terminal open):"
   ]
  },
  {
   "cell_type": "code",
   "execution_count": null,
   "metadata": {},
   "outputs": [],
   "source": [
    "# Run the Cassandra shell\n",
    "cd $CASSANDRA_HOME\n",
    "sudo cqlsh"
   ]
  },
  {
   "cell_type": "markdown",
   "metadata": {},
   "source": [
    "You should now be in inside the shell as seen below:\n",
    "<p align=\"center\">\n",
    "  <img src=\"images/cql.png\" width=600>\n",
    "</p>\n"
   ]
  },
  {
   "cell_type": "markdown",
   "metadata": {},
   "source": [
    "#### 6. Start Presto Server\n",
    "\n",
    "Now we need to start the Presto server process by running the below commands from a third terminal screen (keep the previous two terminals running as is):\n",
    "\n",
    "_Note: Using the `launcher` command with `run` provides a more detailed output than running it with `start`_"
   ]
  },
  {
   "cell_type": "code",
   "execution_count": null,
   "metadata": {},
   "outputs": [],
   "source": [
    "# Start the Presto server\n",
    "cd $PRESTO_HOME/bin\n",
    "sudo ./launcher run"
   ]
  },
  {
   "cell_type": "markdown",
   "metadata": {},
   "source": [
    "If all goes well, this should be the expected output:\n",
    "<p align=\"center\">\n",
    "  <img src=\"images/presto-server.png\" width=600>\n",
    "</p>"
   ]
  },
  {
   "cell_type": "markdown",
   "metadata": {},
   "source": [
    "#### 7. Start Presto Client\n",
    "\n",
    "Next, we need to start the Presto client which we'll use to connect to the server. We'll need to provide some important parameters which include:\n",
    "- `--server`\n",
    "    - Presto Node to run and port to use\n",
    "    <p>\n",
    "- `--catalog`\n",
    "    - Connector type to use for tool integration\n",
    "    - In our case, we'll be connecting to Cassandra\n",
    "\n",
    "To do this, run the below command from a new terminal window:"
   ]
  },
  {
   "cell_type": "code",
   "execution_count": null,
   "metadata": {},
   "outputs": [],
   "source": [
    "# Start the Presto server\n",
    "sudo ./presto --server localhost:8080 --catalog cassandra"
   ]
  },
  {
   "cell_type": "markdown",
   "metadata": {},
   "source": [
    "If everything runs smoothly, this should be the output you see:\n",
    "\n",
    "<p align=\"center\">\n",
    "  <img src=\"images/presto-shell.png\" width=600>\n",
    "</p>"
   ]
  },
  {
   "cell_type": "markdown",
   "metadata": {},
   "source": [
    "If no errors show up, then Presto has successfully connected to Cassandra using the provided settings.\n",
    "\n",
    "Now we are ready to start using the Presto shell to interact with data stored in Cassandra."
   ]
  },
  {
   "cell_type": "markdown",
   "metadata": {},
   "source": [
    "## Using Presto to Query Data in Cassandra"
   ]
  },
  {
   "cell_type": "markdown",
   "metadata": {},
   "source": [
    "Integrating Presto with Cassandra allows us to leverage Presto's powerful data querying engine along with Cassandra's data storage benefits. \n",
    "\n",
    "In this part of the notebook, we'll be creating a new Cassandra keyspace and table, populating it with data, and then we'll connect to this table using Presto to perform some interactive queries on the data.\n",
    "\n",
    "In particular, we'll be doing a JOIN operation on the data stored in Cassandra to demonstrate that, although Cassandra does not natively support JOINs, integrating it with Presto allows us to overcome this limitation.\n",
    "\n",
    "Let's begin."
   ]
  },
  {
   "cell_type": "markdown",
   "metadata": {},
   "source": [
    "#### 1. Create a New Cassandra Keyspace\n",
    "\n",
    "Now that both Presto and Cassandra are up and running, we'll create a new Cassandra keyspace.\n",
    "\n",
    "Run the below command from within the _Cassandra shell_:"
   ]
  },
  {
   "cell_type": "code",
   "execution_count": null,
   "metadata": {},
   "outputs": [],
   "source": [
    "# Create a new Cassandra keyspace\n",
    "CREATE KEYSPACE presto_cassandra WITH replication = {'class': 'SimpleStrategy', 'replication_factor': '1'}  AND durable_writes = true;"
   ]
  },
  {
   "cell_type": "markdown",
   "metadata": {},
   "source": [
    "If everything runs smoothly, this is the expected output:\n",
    "\n",
    "_Note: By using the `DESCRIBE KEYSPACES` command, we can see all available keyspaces:_\n",
    "\n",
    "<p align=\"center\">\n",
    "  <img src=\"images/cassandra-keyspace-create2.png\" width=600>\n",
    "</p>"
   ]
  },
  {
   "cell_type": "markdown",
   "metadata": {},
   "source": [
    "#### 2. Create a New Table\n",
    "\n",
    "Next, we'll create a new column family (table) called `spacecraft_journey` inside the `presto_cassandra` keyspace.\n",
    "\n",
    "Run the below command from the _Cassandra shell_:"
   ]
  },
  {
   "cell_type": "code",
   "execution_count": null,
   "metadata": {},
   "outputs": [],
   "source": [
    "# Create a new Cassandra table called spacecraft_journey\n",
    "CREATE TABLE IF NOT EXISTS presto_cassandra.spacecraft_journey (\n",
    "  \tspacecraft_name text,\n",
    "  \tjourney_id timeuuid,\n",
    "  \tstart timestamp,\n",
    "  \tend timestamp,\n",
    "  \tactive boolean,\n",
    "  \tsummary text,\n",
    "  \tPRIMARY KEY ((spacecraft_name), journey_id)\n",
    ") WITH CLUSTERING ORDER BY (journey_id desc);"
   ]
  },
  {
   "cell_type": "markdown",
   "metadata": {},
   "source": [
    "Let's check that the table was created successfully.  We'll do this in both the Presto shell and the Cassandra shell to see how the outputs compare.\n",
    "\n",
    "First, let's run the below command from within the _Presto shell_:"
   ]
  },
  {
   "cell_type": "code",
   "execution_count": null,
   "metadata": {},
   "outputs": [],
   "source": [
    "# From the Presto shell, switch to the presto_cassandra keyspace and check the tables it contains\n",
    "USE presto_cassandra;\n",
    "SHOW TABLES;"
   ]
  },
  {
   "cell_type": "markdown",
   "metadata": {},
   "source": [
    "We should be able to see the below output:\n",
    "<p align=\"center\">\n",
    "  <img src=\"images/presto-show-tables.png\" width=600>\n",
    "</p>\n"
   ]
  },
  {
   "cell_type": "markdown",
   "metadata": {},
   "source": [
    "Next, let's check the table from the _Cassandra shell_ by running the below command: "
   ]
  },
  {
   "cell_type": "code",
   "execution_count": null,
   "metadata": {},
   "outputs": [],
   "source": [
    "# From the Cassandra shell, switch to the presto_cassandra keyspace and check the tables it contains\n",
    "USE presto_cassandra;\n",
    "DESCRIBE TABLES;"
   ]
  },
  {
   "cell_type": "markdown",
   "metadata": {},
   "source": [
    "<p align=\"center\">\n",
    "  <img src=\"images/cassandra-describe-table.png\" width=600>\n",
    "</p>"
   ]
  },
  {
   "cell_type": "markdown",
   "metadata": {},
   "source": [
    "_Note: The difference in the commands to show the available tables between Presto and Cassandra is due to the fact that Presto uses SQL syntax, while CQL has a slightly different variation._"
   ]
  },
  {
   "cell_type": "markdown",
   "metadata": {},
   "source": [
    "#### 3. Download Data File\n",
    "\n",
    "Now that the new table is ready, let's go ahead and populate it with some data. To do this, download this [CSV file from here](https://aicore-files.s3.amazonaws.com/Data-Eng/spaceship.csv)\n",
    "\n",
    "Once the file is downloaded, move it to the default Cassandra data folder `/var/lib/cassandra/data` by running the below command from the directory in which you downloaded the file into:"
   ]
  },
  {
   "cell_type": "code",
   "execution_count": null,
   "metadata": {},
   "outputs": [],
   "source": [
    "# Move the CSV file into the default Cassandra data folder\n",
    "sudo mv spaceship.csv /var/lib/cassandra/data/spaceship.csv"
   ]
  },
  {
   "cell_type": "markdown",
   "metadata": {},
   "source": [
    "#### 4. Import Data into Cassandra Table\n",
    "\n",
    "Next, let's import the `spaceship.csv` file into the Cassandra table.\n",
    "\n",
    "Run the below command from the _Cassandra Shell_:\n",
    "\n",
    "_Note: We need to specify each of the columns in the same order as they are in the file)_"
   ]
  },
  {
   "cell_type": "code",
   "execution_count": null,
   "metadata": {},
   "outputs": [],
   "source": [
    "# Import the CSV file into the spacecraft_journey table\n",
    "COPY spacecraft_journey (spacecraft_name, journey_id, start, end, active, summary) FROM '/var/lib/cassandra/data/spaceship.csv' WITH HEADER = false;"
   ]
  },
  {
   "cell_type": "markdown",
   "metadata": {},
   "source": [
    "Assuming the import completes successfully, this should be the expected output:\n",
    "<p align=\"center\">\n",
    "  <img src=\"images/cassandra-spaceship-import.png\" width=1200>\n",
    "</p>"
   ]
  },
  {
   "cell_type": "markdown",
   "metadata": {},
   "source": [
    "#### 4. Check the Data Load from Presto\n",
    "\n",
    "Once the data import step has completed successfully, let's check the data to make sure it loaded properly.\n",
    "\n",
    "Run the below command from the _Presto shell_:"
   ]
  },
  {
   "cell_type": "code",
   "execution_count": null,
   "metadata": {},
   "outputs": [],
   "source": [
    "# Check the Cassandra table from within Presto\n",
    "SELECT * FROM presto_cassandra.spacecraft_journey;"
   ]
  },
  {
   "cell_type": "markdown",
   "metadata": {},
   "source": [
    "This should be the expected output:\n",
    "<p align=\"center\">\n",
    "  <img src=\"images/presto-data-check.png\" width=1200>\n",
    "</p>"
   ]
  },
  {
   "cell_type": "markdown",
   "metadata": {},
   "source": [
    "#### 5. Create 2nd Cassandra Table\n",
    "\n",
    "Cassandra doesn't allow JOINs between 2 tables, but using Presto we have more flexibility and can avoid some of Cassandra's limitation. To give this a try, we'll first create a 2nd Cassandra table called `spacecraft_speed` and JOIN it to the `spacecraft_journey` table.\n",
    "\n",
    "Run the below command from within the _Cassandra shell_:"
   ]
  },
  {
   "cell_type": "code",
   "execution_count": null,
   "metadata": {},
   "outputs": [],
   "source": [
    "# Create a second table called spacecraft_speed\n",
    "CREATE TABLE IF NOT EXISTS presto_cassandra.spacecraft_speed (\n",
    "\tspacecraft_name text,\n",
    "\tjourney_id timeuuid,\n",
    "\tspeed double,\n",
    "\tspeed_unit text,\n",
    "\treading_time timestamp,\n",
    "\tPRIMARY KEY ((spacecraft_name, journey_id), reading_time)\n",
    ") WITH CLUSTERING ORDER BY (reading_time DESC);"
   ]
  },
  {
   "cell_type": "markdown",
   "metadata": {},
   "source": [
    "If everything runs smoothly, this should be the expected output:\n",
    "\n",
    "<p align=\"center\">\n",
    "  <img src=\"images/cassandra-2nd-table.png\" width=600>\n",
    "</p>"
   ]
  },
  {
   "cell_type": "markdown",
   "metadata": {},
   "source": [
    "#### 6. Download the 2nd CSV Data File\n",
    "\n",
    "Download the `spaceship_speed` CSV file [from here](https://aicore-files.s3.amazonaws.com/Data-Eng/spaceship_speed.csv) and move it to the default Cassandra data folder `/var/lib/cassandra/data` by running the below command from the directory in which you downloaded the file into:"
   ]
  },
  {
   "cell_type": "code",
   "execution_count": null,
   "metadata": {},
   "outputs": [],
   "source": [
    "# Move the CSV file into the default Cassandra data folder\n",
    "sudo mv spaceship_speed.csv /var/lib/cassandra/data/spaceship_speed.csv"
   ]
  },
  {
   "cell_type": "markdown",
   "metadata": {},
   "source": [
    "#### 7. Import Data into 2nd Table\n",
    "\n",
    "After the file has been downloaded, enter the below command to import the data into the new `spaceship_speed` table.\n",
    "\n",
    "Run the command from the _Cassandra Shell_:"
   ]
  },
  {
   "cell_type": "code",
   "execution_count": null,
   "metadata": {},
   "outputs": [],
   "source": [
    "# Import the spaceship_speed data\n",
    "COPY spacecraft_speed (spacecraft_name, journey_id, speed, speed_unit, reading_time) FROM '/var/lib/cassandra/data/spaceship_speed.csv' WITH HEADER = false;"
   ]
  },
  {
   "cell_type": "markdown",
   "metadata": {},
   "source": [
    "This is the expected output assuming the import operation is successful:\n",
    "<p align=\"center\">\n",
    "  <img src=\"images/cassandra-2nd-table-import.png\" width=900>\n",
    "</p>"
   ]
  },
  {
   "cell_type": "markdown",
   "metadata": {},
   "source": [
    "#### 8. Check the Data Load of 2nd Table\n",
    "\n",
    "Let's first check that the data was imported successfully.\n",
    "\n",
    "Run the below command from the _Presto shell_:"
   ]
  },
  {
   "cell_type": "code",
   "execution_count": null,
   "metadata": {},
   "outputs": [],
   "source": [
    "# Check the spacecraft_speed data load from Presto\n",
    "SELECT * FROM presto_cassandra.spacecraft_speed;"
   ]
  },
  {
   "cell_type": "markdown",
   "metadata": {},
   "source": [
    "This is the expected output:\n",
    "<p align=\"center\">\n",
    "  <img src=\"images/presto-2nd-table-check.png\" width=600>\n",
    "</p>"
   ]
  },
  {
   "cell_type": "markdown",
   "metadata": {},
   "source": [
    "#### 9. Run a JOIN Operation\n",
    "\n",
    "Now that we have both tables up and running and populated with data, let's try doing a JOIN operation. \n",
    "\n",
    "Rememnber, doing a JOIN is not support inside Cassandra, but running Presto allows us to do this as the operation leverages Presto's features.\n",
    "\n",
    "We'll join both tables on the `journey_id` column by using a SQL `INNER JOIN` operation to return only the matching records from both tables.\n",
    "\n",
    "Run the below command from within the _Presto shell_:"
   ]
  },
  {
   "cell_type": "code",
   "execution_count": null,
   "metadata": {},
   "outputs": [],
   "source": [
    "# Join the spacecraft_journey and spacecraft_speed tables by using the journey_id\n",
    "SELECT spacecraft_journey.spacecraft_name, spacecraft_journey.summary, spacecraft_speed.speed FROM spacecraft_journey INNER JOIN spacecraft_speed ON spacecraft_journey.journey_id = spacecraft_speed.journey_id; \n"
   ]
  },
  {
   "cell_type": "markdown",
   "metadata": {},
   "source": [
    "Assuming everything runs smoothly, this is the expected output:\n",
    "\n",
    "<p align=\"center\">\n",
    "  <img src=\"images/presto-join-tables.png\" width=600>\n",
    "</p>"
   ]
  },
  {
   "cell_type": "markdown",
   "metadata": {},
   "source": [
    "This is just one example, but the data stored in Cassandra could be queried in any other way using Presto."
   ]
  },
  {
   "cell_type": "markdown",
   "metadata": {},
   "source": [
    "## Common Presto Operations\n",
    "\n",
    "Since Presto leverages SQL as the query language, it's possible to run a wide variety of commands.\n",
    "\n",
    "For a detailed list of these commands, check the Presto SQL [official documentation](https://prestodb.io/docs/current/sql.html)\n",
    "\n",
    "Some of the most popular types of operations include:\n",
    "\n",
    "- `CREATE`\n",
    "    - Used to create new schemas, tables, views and user-defined functions\n",
    "- `ALTER`\n",
    "    - Used to modify an already existing schema, table or user-defined function\n",
    "- `DESCRIBE`\n",
    "    - Used to describe the columns that a specific table contains\n",
    "- `DROP`\n",
    "    - Used to remove a schema, table, view or a user-defined function\n",
    "- `SHOW`\n",
    "    - Used to list/display the available catalogs, schemas, tables, user-defined functions, views, user roles and other parameters."
   ]
  },
  {
   "cell_type": "markdown",
   "metadata": {},
   "source": [
    "That should be enough to get you started and show you how to create and use a connector to integrate Presto with Cassandra."
   ]
  }
 ],
 "metadata": {
  "language_info": {
   "name": "python"
  },
  "orig_nbformat": 4
 },
 "nbformat": 4,
 "nbformat_minor": 2
}
