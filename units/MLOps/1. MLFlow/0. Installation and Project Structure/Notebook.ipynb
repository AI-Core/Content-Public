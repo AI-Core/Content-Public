{
 "cells": [
  {
   "cell_type": "markdown",
   "metadata": {},
   "source": [
    "## MLFlow Installation \n",
    "\n",
    "As `mlflow` is written in Python we can use `pip`/`conda` or other package manager to install.\n",
    "\n",
    "If you have `pytorch` or other integration installed, it will be picked up automatically by `mlflow` (no need for extras this time)."
   ]
  },
  {
   "cell_type": "code",
   "execution_count": null,
   "metadata": {},
   "outputs": [],
   "source": [
    "!pip install mlflow"
   ]
  },
  {
   "cell_type": "markdown",
   "metadata": {},
   "source": [
    "## Projects\n",
    "\n",
    "> __MLFlow Projects are mainly CONVENTION to organize and describe your code to let others (people, automation pipelines) easily run it__\n",
    "\n",
    "Projects are usually `git` repositories and allow you to specify (in varying level of detail) required environment (either `conda` or `docker`, eventually `system` specified but this is discouraged) via:\n",
    "- directory structure\n",
    "- `MLproject` file in git's root directory\n",
    "\n",
    "Note:\n",
    "- the `MLproject` file should be a yaml file, but it should have no extension\n",
    "  - save it as `MLroject`, not `MLroject.yaml`\n",
    "\n",
    "### Directories\n",
    "\n",
    "> Structuring our code via directories is enough to create basic `MLFlow` project, __but specifying `MLproject` is a better option__\n",
    "\n",
    "In case where there is no `MLproject.yaml` the following takes place:\n",
    "- __Name of the project__ - name of the project's root directory (e.g. git's root)\n",
    "- __Conda environment__ - if `conda.yaml` is available in the root\n",
    "- __Any `.py`/`.sh` file in the project can be an entry point__ (more about running projects later)\n",
    "\n",
    "One can obtain `conda.yaml` file via a simple command (provided you are inside the conda environment while running it):\n",
    "\n",
    "```bash\n",
    "conda env export [--from-history] > conda.yaml\n",
    "```\n",
    "\n",
    "`--from-history` requests only packages you have explicitly installed. This has two effects:\n",
    "- Portability across operating systems (as OS specific packages will be installed this way)\n",
    "- Not fully reproducible (due to possibly different dependencies)\n",
    "\n",
    "__In general it should be safe to use the `--from-history` flag for increased portability of projects__\n",
    "\n",
    "### Using MLProject.yaml\n",
    "\n",
    "> Better option is to explicitly specify entry points, structure, parameters etc. via `MLproject` file\n",
    "\n",
    "Here is an example `MLproject`:\n",
    "\n",
    "\n",
    "```yml\n",
    "---\n",
    "name: My Project\n",
    "\n",
    "conda_env: my_env.yaml\n",
    "\n",
    "entry_points:\n",
    "  main:\n",
    "    parameters:\n",
    "      data_file: path\n",
    "      regularization: {type: float, default: 0.1}\n",
    "    command: \"python train.py -r {regularization} {data_file}\"\n",
    "  validate:\n",
    "    parameters:\n",
    "      data_file: path\n",
    "    command: \"python validate.py {data_file}\"\n",
    "```\n",
    "\n",
    "Check out some examples in the documentation [here](https://github.com/mlflow/mlflow/tree/master/examples)"
   ]
  },
  {
   "cell_type": "markdown",
   "metadata": {},
   "source": [
    "As you can see one can:\n",
    "\n",
    "1. __specify environment explicitly:__\n",
    "    - `conda` (simply a file with dependencies)\n",
    "    - `docker` environment:\n",
    "        - specify image available on the OS\n",
    "        - if image is not available, try to pull it from `DockerHub`\n",
    "        - if registry containing image is specified it will try to pull it (unless it's already available on the system)\n",
    "\n",
    "\n",
    "For `docker` environment one can also specify:\n",
    "- volumes to be mounted during project running\n",
    "- environment variables passed to the container\n",
    "\n",
    "See an example of `docker_env` below:\n",
    "\n",
    "```yml\n",
    "---\n",
    "name: My Project\n",
    "\n",
    "docker_env:\n",
    "  image:  mlflow-docker-example\n",
    "\n",
    "entry_points:\n",
    "  main:\n",
    "    parameters:\n",
    "      data_file: path\n",
    "      regularization: {type: float, default: 0.1}\n",
    "      p: float\n",
    "    command: \"python train.py -r {regularization} {data_file}\"\n",
    "  validate:\n",
    "    parameters:\n",
    "      data_file: path\n",
    "    command: \"python validate.py {data_file}\"\n",
    "```\n",
    "\n",
    "[See more here](https://www.mlflow.org/docs/latest/projects.html#mlproject-file)"
   ]
  },
  {
   "cell_type": "markdown",
   "metadata": {},
   "source": [
    "2. __Specify parameters and entrypoints__\n",
    "\n",
    "One can specify:\n",
    "- name of the parameter\n",
    "- type of the parameter (default is `str`, others are `float`, `path`, `uri`)\n",
    "- default value(s)"
   ]
  },
  {
   "cell_type": "markdown",
   "metadata": {},
   "source": [
    "\n",
    "Those values are latter passed on to `command` field and appropriately substituted.\n",
    "__If we don't specify some parameter, it will be passed to the running command via `--key value` syntax__\n",
    "\n",
    "Two cells above all of the parameter specification are shown."
   ]
  },
  {
   "cell_type": "markdown",
   "metadata": {},
   "source": [
    "### Running projects\n",
    "\n",
    "> `MLFLow` provides command line program `mlflow` which has a subcommand `run` allowing us to run the project\n",
    "\n",
    "\n",
    "Usage is really simple:\n",
    "\n",
    "```bash\n",
    "mlflow run <directory>\n",
    "```\n",
    "\n",
    "but there are a few useful tricks which allow us to run it with even less effort:"
   ]
  },
  {
   "cell_type": "code",
   "execution_count": null,
   "metadata": {},
   "outputs": [],
   "source": [
    "!mlflow run --help"
   ]
  },
  {
   "cell_type": "markdown",
   "metadata": {},
   "source": [
    "For example we could do this (run in your CLI or in your cell):"
   ]
  },
  {
   "cell_type": "code",
   "execution_count": null,
   "metadata": {},
   "outputs": [],
   "source": [
    "!mlflow run https://github.com/mlflow/mlflow-example -P alpha=0.5\n"
   ]
  }
 ],
 "metadata": {
  "language_info": {
   "name": "python"
  },
  "orig_nbformat": 4
 },
 "nbformat": 4,
 "nbformat_minor": 2
}
