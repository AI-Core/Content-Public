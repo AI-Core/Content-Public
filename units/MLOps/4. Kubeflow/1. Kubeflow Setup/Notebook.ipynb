{
 "cells": [
  {
   "cell_type": "markdown",
   "metadata": {},
   "source": [
    "# Kubeflow Setup"
   ]
  },
  {
   "cell_type": "markdown",
   "metadata": {},
   "source": [
    "- It's time to get started with Kubeflow!\n",
    "- We will see how to install Kubeflow"
   ]
  },
  {
   "cell_type": "markdown",
   "metadata": {},
   "source": [
    "### Installing Kubeflow"
   ]
  },
  {
   "cell_type": "markdown",
   "metadata": {},
   "source": [
    "- Kubeflow works on Kubernetes, and therefore, we can develop our application locally, and move on to deploying it to a Kubernetes cluster eventually.\n",
    "    - For example, you can run everything on minikube, and then deploy the same application to EKS. However, not all computers have the capacity for running a large cluster locally, so you might need to directly deploy to EKS.\n",
    "    - We need to first install kubectl to use Kubernetes locally.\n",
    "        - You can review the Kubernetes content to see how to install kubectl."
   ]
  },
  {
   "cell_type": "markdown",
   "metadata": {},
   "source": [
    "In this notebook, we will guide you through the process of creating a cluster on EKS, and how to install Kubeflow on it.\n",
    "\n",
    "> <font size=+1> Attention! The following guide will create a new EKS cluster, which doesn't use EC2 instances that belong to the free tier. </font>\n",
    "\n",
    "If you don't want to spend money, we recommend you to use the provided AWS credentials and follow the instructions given in this file for the [Facebook Marketplace's scenario](https://aicore-files.s3.amazonaws.com/MLOps/Facebook_Setup.md). Run the commands included **in the EC2 instance**, not locally\n",
    "\n",
    "The following steps are a guide to understand how Kubeflow is setup on EKS, so in case you want or need to understand the process, we recommend you to follow the steps below."
   ]
  },
  {
   "cell_type": "markdown",
   "metadata": {},
   "source": [
    "## Creating a cluster on EKS"
   ]
  },
  {
   "cell_type": "markdown",
   "metadata": {},
   "source": [
    "First of all, what is EKS?\n",
    "\n",
    "> <font size=+1> EKS (Elastic Kubernetes Service) is an AWS service that allows orchestrating Docker containers on AWS</font>\n",
    "\n",
    "Since Kubeflow runs on Kubernetes, EKS is a great tool to run your application on AWS."
   ]
  },
  {
   "cell_type": "markdown",
   "metadata": {},
   "source": [
    "<p align=center><img src=images/EKS_1.png width=700></p>"
   ]
  },
  {
   "cell_type": "markdown",
   "metadata": {},
   "source": [
    "You can create your cluster using the AWS Management Console, but we encourage you to use the command line interface, since eventually you will need it to install Kubeflow on the created cluster.\n",
    "\n",
    "Before creating the EKS cluster, you need to install the following tools that you will use on the command line:\n",
    "- __eksctl__: This tool allows you to create and manage Kubernetes clusters on EKS.\n",
    "- __kubectl__: Your cluster will have an API server, and you will need to use this tool to interact with it.\n",
    "- __AWS CLI__: The AWS CLI tool is used to interact with AWS services.\n",
    "\n",
    "Additionally, you have to create and IAM user with the following permissions:\n",
    "- EKS roles\n",
    "- CloudFormation, since the EKS cluster is actually created from a stack\n",
    "- VPC related resources\n",
    "\n",
    "Take a look at this [link](https://docs.aws.amazon.com/service-authorization/latest/reference/list_amazonelastickubernetesservice.html) to know more about Kubernetes permissions.\n",
    "\n",
    "If only you are going to use this service, you can simply create an IAM role with all permissions instead."
   ]
  },
  {
   "cell_type": "markdown",
   "metadata": {},
   "source": [
    "### Installing _eksctl_"
   ]
  },
  {
   "cell_type": "markdown",
   "metadata": {},
   "source": [
    "<details>\n",
    "  <summary>For Ubuntu Users</summary>\n",
    "\n",
    "  1. Download and extract eksctl using the following commands:\n",
    "  ```\n",
    "      curl --silent --location \"https://github.com/weaveworks/eksctl/releases/latest/download/eksctl_$(uname -s)_amd64.tar.gz\" | tar xz -C /tmp\n",
    "\n",
    "      sudo mv /tmp/eksctl /usr/local/bin\n",
    "  ```\n",
    "\n",
    "  2. Verify that eksctl is installed correctly:\n",
    "  ```\n",
    "      eksctl version\n",
    "  ```\n",
    "</details>"
   ]
  },
  {
   "cell_type": "markdown",
   "metadata": {},
   "source": [
    "<details>\n",
    "  <summary>For Mac Users</summary>\n",
    "\n",
    "  1. Install Homebrew. If you haven't follow the following [instructions](https://brew.sh/)\n",
    "  2. Install the Weaveworks Homebrew tap running the following command:\n",
    "  ```\n",
    "    brew tap weaveworks/tap\n",
    "  ```\n",
    "  3. Install eksctl with the following command\n",
    "  ```\n",
    "    brew install weaveworks/tap/eksctl\n",
    "  ```\n",
    "  4. Check that eksctl was installed correctly:\n",
    "  ```\n",
    "    eksctl version\n",
    "  ```\n",
    "\n",
    "</details>"
   ]
  },
  {
   "cell_type": "markdown",
   "metadata": {},
   "source": [
    "<details>\n",
    "  <summary>For Windows Users</summary>\n",
    "\n",
    "  1. Install Chocolatey. If you haven't follow the following [instructions](https://chocolatey.org/install)\n",
    "  2. Install the binaries with the following command:\n",
    "  ```\n",
    "    choco install -y eksctl\n",
    "  ```\n",
    "  3. Check that eksctl was installed correctly:\n",
    "  ```\n",
    "    eksctl version\n",
    "  ```\n",
    "</details>"
   ]
  },
  {
   "cell_type": "markdown",
   "metadata": {},
   "source": [
    "When you finish, you should see something like this:"
   ]
  },
  {
   "cell_type": "markdown",
   "metadata": {},
   "source": [
    "<p align=center><img src=images/EKSCTL_1.png width=400></p>"
   ]
  },
  {
   "cell_type": "markdown",
   "metadata": {},
   "source": [
    "### Installing _kubectl_"
   ]
  },
  {
   "cell_type": "markdown",
   "metadata": {},
   "source": [
    "<details>\n",
    "  <summary>For Ubuntu Users</summary>\n",
    "\n",
    "  1. Download the kubectl binary from AWS. Here, we are downloading version 1.21 because it was the stable one when writing this notebook. But you can check different versions [here](https://docs.aws.amazon.com/eks/latest/userguide/install-kubectl.html). \n",
    "  ```\n",
    "      curl -o kubectl https://s3.us-west-2.amazonaws.com/amazon-eks/1.21.2/2021-07-05/bin/linux/amd64/kubectl\n",
    "  ```\n",
    "\n",
    "  2. Change the permissions to the binary file:\n",
    "  ```\n",
    "      chmod +x ./kubectl\n",
    "  ```\n",
    "  3. Copy the binary to a folder in your PATH\n",
    "  ```\n",
    "      mkdir -p $HOME/bin && cp ./kubectl $HOME/bin/kubectl && export PATH=$PATH:$HOME/bin\n",
    "  ```\n",
    "  4. You can add the binary to the shell initialization:\n",
    "  ```\n",
    "      echo 'export PATH=$PATH:$HOME/bin' >> ~/.bashrc\n",
    "  ```\n",
    "  5. Verify that kubectl is installed correctly:\n",
    "  ```\n",
    "      kubectl version --client\n",
    "  ```\n",
    "</details>"
   ]
  },
  {
   "cell_type": "markdown",
   "metadata": {},
   "source": [
    "<details>\n",
    "  <summary>For Mac Users</summary>\n",
    "\n",
    "  1. Download the kubectl binary from AWS. Here, we are downloading version 1.21 because it was the stable one when writing this notebook. But you can check different versions [here](https://docs.aws.amazon.com/eks/latest/userguide/install-kubectl.html). \n",
    "  ```\n",
    "      curl -o kubectl https://s3.us-west-2.amazonaws.com/amazon-eks/1.21.2/2021-07-05/bin/darwin/amd64/kubectl\n",
    "  ```\n",
    "\n",
    "  2. Change the permissions to the binary file:\n",
    "  ```\n",
    "      chmod +x ./kubectl\n",
    "  ```\n",
    "  3. Copy the binary to a folder in your PATH\n",
    "  ```\n",
    "      mkdir -p $HOME/bin && cp ./kubectl $HOME/bin/kubectl && export PATH=$HOME/bin:$PATH\n",
    "  ```\n",
    "  4. You can add the binary to the shell initialization:\n",
    "  ```\n",
    "      echo 'export PATH=$PATH:$HOME/bin' >> ~/.bash_profile\n",
    "  ```\n",
    "  5. Verify that kubectl is installed correctly:\n",
    "  ```\n",
    "      kubectl version --client\n",
    "  ```\n",
    "\n",
    "</details>"
   ]
  },
  {
   "cell_type": "markdown",
   "metadata": {},
   "source": [
    "<details>\n",
    "  <summary>For Windows Users</summary>\n",
    "\n",
    "  1. Download the kubectl binary from AWS. Here, we are downloading version 1.21 because it was the stable one when writing this notebook. But you can check different versions [here](https://docs.aws.amazon.com/eks/latest/userguide/install-kubectl.html). \n",
    "  ```\n",
    "      curl -o kubectl.exe https://s3.us-west-2.amazonaws.com/amazon-eks/1.21.2/2021-07-05/bin/windows/amd64/kubectl.exe\n",
    "  ```\n",
    "  2. Copy the binary to a folder in your PATH\n",
    "  \n",
    "  $\\qquad$ a. Create a new directory for your command line binaries, such as `C:\\bin`\n",
    "\n",
    "  $\\qquad$ b. Copy the binary to the new directory\n",
    "\n",
    "  $\\qquad$ c. Edit your user or system PATH environment variable to add the new directory to your PATH\n",
    "  \n",
    "  $\\qquad$ d. Restart your terminal\n",
    "  \n",
    "  3. Verify that kubectl is installed correctly:\n",
    "  ```\n",
    "      kubectl version --client\n",
    "  ```\n",
    "\n",
    "</details>"
   ]
  },
  {
   "cell_type": "markdown",
   "metadata": {},
   "source": [
    "When you finish, you should see something like this:"
   ]
  },
  {
   "cell_type": "markdown",
   "metadata": {},
   "source": [
    "<p align=center><img src=images/KUBECTL_1.png width=500></p>"
   ]
  },
  {
   "cell_type": "markdown",
   "metadata": {},
   "source": [
    "### Installing _aws cli_"
   ]
  },
  {
   "cell_type": "markdown",
   "metadata": {},
   "source": [
    "As long as you have installed pip in your computer, you can install AWS CLI using the following command:\n",
    "\n",
    "```\n",
    "    pip install awscli\n",
    "```\n"
   ]
  },
  {
   "cell_type": "markdown",
   "metadata": {},
   "source": [
    "### Creating the IAM user"
   ]
  },
  {
   "cell_type": "markdown",
   "metadata": {},
   "source": [
    "You need to create the IAM user that will enable the EKS cluster to communicate with the AWS services. If you already know how to create and IAM user, and authenticate with the AWS CLI, you can skip this section.\n",
    "\n",
    "First, in your AWS console, go to the IAM console and create a new user."
   ]
  },
  {
   "cell_type": "markdown",
   "metadata": {},
   "source": [
    "<p align=center>\n",
    "  <img src=images/IAM_1.png width=150>\n",
    "</p>"
   ]
  },
  {
   "cell_type": "markdown",
   "metadata": {},
   "source": [
    "Click on \"Add users\""
   ]
  },
  {
   "cell_type": "markdown",
   "metadata": {},
   "source": [
    "<p align=center>\n",
    "    <img src=images/IAM_2.png width=500>\n",
    "</p>"
   ]
  },
  {
   "cell_type": "markdown",
   "metadata": {},
   "source": [
    "Give any name to your user, and select \"Access Key - Programmatic access\" for \"Select AWS credential type\", and then click \"Next\""
   ]
  },
  {
   "cell_type": "markdown",
   "metadata": {},
   "source": [
    "<p align=center>\n",
    "    <img src=images/IAM_3.png width=500>\n",
    "</p>"
   ]
  },
  {
   "cell_type": "markdown",
   "metadata": {},
   "source": [
    "Then, , click on \"Attach existing policies directly\" and select \"AdministratorAccess\". Click \"Next\" until you create the user"
   ]
  },
  {
   "cell_type": "markdown",
   "metadata": {},
   "source": [
    "<p align=center>\n",
    "    <img src=images/IAM_4.png width=500>\n",
    "</p>"
   ]
  },
  {
   "cell_type": "markdown",
   "metadata": {},
   "source": [
    "Download the `csv` file with your Access key ID and Secret access key. Once you close this window, you won't be able to check the secret access key again from the page, so make sure you downloaded the file before closing the window."
   ]
  },
  {
   "cell_type": "markdown",
   "metadata": {},
   "source": [
    "#### Authenticating with the AWS CLI"
   ]
  },
  {
   "cell_type": "markdown",
   "metadata": {},
   "source": [
    "On your terminal, type `aws configure`. This will ask you for your Access key ID, Secret access key, and a region. Don't forget the region you are using now, you will have to use the same region when creating the cluster."
   ]
  },
  {
   "cell_type": "markdown",
   "metadata": {},
   "source": [
    "<p align=center>\n",
    "    <img src=images/IAM_5.png width=500>\n",
    "</p>"
   ]
  },
  {
   "cell_type": "markdown",
   "metadata": {},
   "source": [
    "### Creating the EKS cluster"
   ]
  },
  {
   "cell_type": "markdown",
   "metadata": {},
   "source": [
    "Now that everything is installed, you can create the cluster that will be used in this notebook.\n",
    "\n",
    "The syntax for creating a cluster is as follows:\n",
    "\n",
    "- `eksctl create cluster [flags]`\n",
    "\n",
    "The main flags you need to use are:\n",
    "\n",
    "- `--name`: The name of the cluster\n",
    "- `--region`: The region where the cluster will be created. Use the same region you are using to create the IAM user.\n",
    "- `--nodegroup-name`: The name of the node group\n",
    "- `--node-type`: The type of node that will be created. For installing Kubeflow, we will, use `t2.xlarge`\n",
    "- `--nodes`: The number of nodes that will be created. For installing Kubeflow, we will, use 2\n",
    "- `--timeout`: maximum waiting time for any long-running operation to complete. In this case, we will use `40m` (40 minutes)\n",
    "- `--version`: The Kubernetes version that will be used. For installing Kubeflow, we will, use `1.19` because we know it's stable, and recent versions have been causing issues with Kubeflow\n",
    "\n",
    "You can always check these flags by running `eksctl create cluster --help`\n",
    "\n",
    "The whole command will look like:\n",
    "\n"
   ]
  },
  {
   "cell_type": "markdown",
   "metadata": {},
   "source": [
    "```\n",
    "eksctl create cluster \\\n",
    "    --name kubeflow-cluster \\\n",
    "    --region us-east-2 \\\n",
    "    --nodegroup-name kubeflow-node-group \\\n",
    "    --node-type t2.xlarge \\\n",
    "    --nodes 2 \\\n",
    "    --timeout 40m \\\n",
    "    --version 1.19\n",
    "```"
   ]
  },
  {
   "cell_type": "markdown",
   "metadata": {},
   "source": [
    "Creating the cluster takes a bit of time, so you can start working on other things while the cluster is being created, like installing kustomize (see next section). It might take around 20-30 minutes, and the command line will look like this:"
   ]
  },
  {
   "cell_type": "markdown",
   "metadata": {},
   "source": [
    "<p align=center><img src=images/EKS_2.png width=600></p>"
   ]
  },
  {
   "cell_type": "markdown",
   "metadata": {},
   "source": [
    "One thing to take into account is that, when you create a cluster, eksctl will modify your kubeconfig file, so next time you apply a manifest in your local machine, you will actually apply that manifest to the cluster you are now creating. \n",
    "\n",
    "You can always change where to apply the manifest changing the `--kubeconfig` flag, or modifying the `~/.kube/config` file."
   ]
  },
  {
   "cell_type": "markdown",
   "metadata": {},
   "source": [
    "## Installing Kubeflow in the cluster"
   ]
  },
  {
   "cell_type": "markdown",
   "metadata": {},
   "source": [
    "Before installing Kubeflow, you need to install `kustomize`, which is a command line tool that allows you to modify the manifest files of Kubernetes. Depending on you local machine, in order to use `kustomize`, you need to install `yq` and `jq` which are command line tools for processing YAML and JSON files respectively. It doesn't hurt to install them, so just in case, let's see how to install them.\n"
   ]
  },
  {
   "cell_type": "markdown",
   "metadata": {},
   "source": [
    "\n",
    "### Installing _yq_\n"
   ]
  },
  {
   "cell_type": "markdown",
   "metadata": {},
   "source": [
    "\n",
    "<details>\n",
    "  <summary>For Ubuntu Users</summary>\n",
    "\n",
    "  1. Download the latest executable file of yq from GitHub\n",
    "  ```\n",
    "      sudo wget -qO /usr/local/bin/yq https://github.com/mikefarah/yq/releases/latest/download/yq_linux_amd64\n",
    "  ```\n",
    "\n",
    "  2. Change the permissions to the binary file:\n",
    "  ```\n",
    "      chmod a+x /usr/local/bin/yq\n",
    "  ```\n",
    "  3. Verify that yq is installed correctly:\n",
    "  ```\n",
    "      yq --version\n",
    "  ```\n",
    "</details>"
   ]
  },
  {
   "cell_type": "markdown",
   "metadata": {},
   "source": [
    "<details>\n",
    "  <summary>For Mac Users</summary>\n",
    "\n",
    "  1. You can simply use Homebrew to install it\n",
    "  ```\n",
    "      brew install yq\n",
    "  ```\n",
    "  2. Verify that yq is installed correctly:\n",
    "  ```\n",
    "      yq --version\n",
    "  ```\n",
    "</details>"
   ]
  },
  {
   "cell_type": "markdown",
   "metadata": {},
   "source": [
    "<details>\n",
    "  <summary>For Windows Users</summary>\n",
    "\n",
    "  1. You can simply use Chocolatey to install it\n",
    "  ```\n",
    "      choco install yq\n",
    "  ```\n",
    "  2. Verify that yq is installed correctly:\n",
    "  ```\n",
    "      yq --version\n",
    "  ```\n",
    "</details>"
   ]
  },
  {
   "cell_type": "markdown",
   "metadata": {},
   "source": [
    "### Installing _jq_"
   ]
  },
  {
   "cell_type": "markdown",
   "metadata": {},
   "source": [
    "\n",
    "<details>\n",
    "  <summary>For Ubuntu Users</summary>\n",
    "\n",
    "  1. Update the package lists and install jq\n",
    "  ```\n",
    "      sudo apt update\n",
    "      sudo apt install -y jq\n",
    "  ```\n",
    "  2. Verify that jq is installed correctly:\n",
    "  ```\n",
    "      jq --version\n",
    "  ```\n",
    "</details>"
   ]
  },
  {
   "cell_type": "markdown",
   "metadata": {},
   "source": [
    "<details>\n",
    "  <summary>For Mac Users</summary>\n",
    "\n",
    "  1. You can simply use Homebrew to install it\n",
    "  ```\n",
    "      brew install jq\n",
    "  ```\n",
    "  2. Verify that jq is installed correctly:\n",
    "  ```\n",
    "      jq --version\n",
    "  ```\n",
    "</details>"
   ]
  },
  {
   "cell_type": "markdown",
   "metadata": {},
   "source": [
    "<details>\n",
    "  <summary>For Windows Users</summary>\n",
    "\n",
    "  1. You can simply use Chocolatey to install it\n",
    "  ```\n",
    "      choco install jq\n",
    "  ```\n",
    "  2. Verify that jq is installed correctly:\n",
    "  ```\n",
    "      jq --version\n",
    "  ```\n",
    "</details>"
   ]
  },
  {
   "cell_type": "markdown",
   "metadata": {},
   "source": [
    "### Installing _kustomize_"
   ]
  },
  {
   "cell_type": "markdown",
   "metadata": {},
   "source": [
    "> <font size=+1> Attention! The latest version of kustomize doesn't work with latest versions of Kubeflow. You will need to use kustomize 3.2.0 </font>\n",
    "\n",
    "<details>\n",
    "  <summary>For Ubuntu Users</summary>\n",
    "\n",
    "  1. Download the corresponding version and binary:\n",
    "  ```\n",
    "      wget -O kustomize https://github.com/kubernetes-sigs/kustomize/releases/download/v3.2.0/kustomize_3.2.0_linux_amd64\n",
    "  ```\n",
    "  2. Change the permissions\n",
    "  ```\n",
    "      chmod +x kustomize\n",
    "  ```\n",
    "  3. Move the binary to PATH\n",
    "  ```\n",
    "      sudo mv kustomize /usr/local/bin/\n",
    "  ```\n",
    "  4. Verify that kustomize is installed correctly:\n",
    "  ```\n",
    "      kustomize version\n",
    "  ```\n",
    "</details>"
   ]
  },
  {
   "cell_type": "markdown",
   "metadata": {},
   "source": [
    "<details>\n",
    "  <summary>For Mac Users</summary>\n",
    "\n",
    "  1. Download the corresponding version and binary:\n",
    "  ```\n",
    "      wget -O kustomize https://github.com/kubernetes-sigs/kustomize/releases/download/v3.2.0/kustomize_3.2.0_darwin_amd64\n",
    "  ```\n",
    "  2. Change the permissions\n",
    "  ```\n",
    "      chmod +x kustomize\n",
    "  ```\n",
    "  3. Move the binary to PATH\n",
    "  ```\n",
    "      sudo mv kustomize /usr/local/bin/\n",
    "  ```\n",
    "  4. Verify that kustomize is installed correctly:\n",
    "  ```\n",
    "      kustomize version\n",
    "  ```\n",
    "</details>"
   ]
  },
  {
   "cell_type": "markdown",
   "metadata": {},
   "source": [
    "<details>\n",
    "  <summary>For Windows Users</summary>\n",
    "\n",
    "  Windows users could install kustomize from Chocolatey. But unfortunately, chocolatey only downloads the latest version of kustomize.\n",
    "\n",
    "  You can follow this StackOverflow thread to get kustomize 3.2.0 installed. You will need to install GO...\n",
    "  https://stackoverflow.com/questions/70838480/build-kustomize-3-2-0-on-windows\n",
    "</details>"
   ]
  },
  {
   "cell_type": "markdown",
   "metadata": {},
   "source": [
    "### Installing Kubeflow"
   ]
  },
  {
   "cell_type": "markdown",
   "metadata": {},
   "source": [
    "As mentioned, Kubeflow works using Kubernetes manifests. You can download the latest version of these manifests from the [Kubeflow GitHub repository](https://github.com/kubeflow/manifests), and then checking out to the latest version\n",
    "\n",
    "> The version of the manifest as of this writing is `v1.5`. You can check the latest version on the repository\n",
    "```\n",
    "git clone https://github.com/kubeflow/manifests\n",
    "cd manifests\n",
    "git checkout v1.5-branch\n",
    "```"
   ]
  },
  {
   "cell_type": "markdown",
   "metadata": {},
   "source": [
    "Now, we will use `kustomize` to build all the Kubeflow components and services:"
   ]
  },
  {
   "cell_type": "markdown",
   "metadata": {},
   "source": [
    "```\n",
    "while ! kustomize build example | kubectl apply -f -; do echo \"Retrying to apply resources\"; sleep 10; done\n",
    "```"
   ]
  },
  {
   "cell_type": "markdown",
   "metadata": {},
   "source": [
    "The `while` loop will keep trying to apply the resources until it succeeds. This is because of how Kubernetes and `kubectl` work, since they may fail on the first try."
   ]
  },
  {
   "cell_type": "markdown",
   "metadata": {},
   "source": [
    "This will also take around 20-30 minutes, don't worry about all the warnings and retries you will see."
   ]
  },
  {
   "cell_type": "markdown",
   "metadata": {},
   "source": [
    "<p align=center><img src=images/KUBECTL_2.png width=600></p>"
   ]
  },
  {
   "cell_type": "markdown",
   "metadata": {},
   "source": [
    "The process will run until everything is configured. Once again, this is because of how Kubernetes and `kubectl` work, since they may fail on the first try."
   ]
  },
  {
   "cell_type": "markdown",
   "metadata": {},
   "source": [
    "## Connect to Kubeflow"
   ]
  },
  {
   "cell_type": "markdown",
   "metadata": {},
   "source": [
    "After all this long process, you should be able to connect to Kubeflow. Run the following command to expose the Kubeflow dashboard:\n",
    "\n",
    "```\n",
    "kubectl port-forward svc/istio-ingressgateway -n istio-system 8080:80\n",
    "```"
   ]
  },
  {
   "cell_type": "markdown",
   "metadata": {},
   "source": [
    "The command line will show the port that you can access the dashboard on:"
   ]
  },
  {
   "cell_type": "markdown",
   "metadata": {},
   "source": [
    "<p align=center><img src=images/KUBECTL_3.png width=600></p>"
   ]
  },
  {
   "cell_type": "markdown",
   "metadata": {},
   "source": [
    "So, you can go to `http://localhost:8080` to access the dashboard."
   ]
  },
  {
   "cell_type": "markdown",
   "metadata": {},
   "source": [
    "When you installed Kubeflow, you used the default email and password given by the manifests you downloaded. There are:\n",
    "- user: user@example.com\n",
    "- password: 12341234\n",
    "\n",
    "If you intend to deploy your application into production, you should change the password to something more secure. Take a look at this [section](https://github.com/kubeflow/manifests/tree/v1.5-branch#change-default-user-password) to know how to do so"
   ]
  },
  {
   "cell_type": "markdown",
   "metadata": {},
   "source": [
    "If you see the following window, congratulations! You have successfully installed Kubeflow."
   ]
  },
  {
   "cell_type": "markdown",
   "metadata": {},
   "source": [
    "<p align=center><img src=images/Kubeflow.png width=600></p>"
   ]
  },
  {
   "cell_type": "markdown",
   "metadata": {},
   "source": [
    "However, there is a small thing you still need to configure in order to use notebooks in Kubeflow. The problem is that Kubeflow is running currently on an HTTP protocol. This would not be necessary if you can run your notebooks on HTTPS. You can take a look at this [link](https://github.com/awslabs/kubeflow-manifests/issues/67#issuecomment-1059566247) to see how to do so\n",
    "\n",
    "Here, we are going to show you how to run notebooks on HTTP."
   ]
  },
  {
   "cell_type": "markdown",
   "metadata": {},
   "source": [
    "First, stop exposing your EKS by pressing `ctrl + c`\n",
    "\n",
    "Now, we need to change the `jupyter-web-app-deployment.yaml` file to expose the notebook on HTTP."
   ]
  },
  {
   "cell_type": "markdown",
   "metadata": {},
   "source": [
    "```kubectl edit deployments -n kubeflow jupyter-web-app-deployment```"
   ]
  },
  {
   "cell_type": "markdown",
   "metadata": {},
   "source": [
    "This will open a VIM editor. Be careful now, a small change will break the Kubeflow configuration. Locate the `spec.template.spec.containers.env` section. It should look like this:"
   ]
  },
  {
   "cell_type": "markdown",
   "metadata": {},
   "source": [
    "<p align=center><img src=images/KUBECTL_4.png width=400></p>"
   ]
  },
  {
   "cell_type": "markdown",
   "metadata": {},
   "source": [
    "There, add the following lines. Remember that you are on VIM, you need to type \"i\" to insert new lines. Also, you are modifying a YAML file, sometimes, pressing TAB will not work, so use the spacebar to add those whitespaces:\n",
    "\n",
    "```\n",
    "  - name: APP_SECURE_COOKIES\n",
    "    value: \"false\"\n",
    "```"
   ]
  },
  {
   "cell_type": "markdown",
   "metadata": {},
   "source": [
    "So, it should look like this now:"
   ]
  },
  {
   "cell_type": "markdown",
   "metadata": {},
   "source": [
    "<p align=center><img src=images/KUBECTL_5.png width=400></p>"
   ]
  },
  {
   "cell_type": "markdown",
   "metadata": {},
   "source": [
    "Save and exit (press \"Esc\" and type \":wq\")\n",
    "\n",
    "Restart the deployment for the changes to take effect"
   ]
  },
  {
   "cell_type": "markdown",
   "metadata": {},
   "source": [
    "```kubectl -n kubeflow rollout restart deployment/jupyter-web-app-deployment```"
   ]
  },
  {
   "cell_type": "markdown",
   "metadata": {},
   "source": [
    "And once again, expose the Kubeflow dashboard:\n",
    "\n",
    "```\n",
    "kubectl port-forward svc/istio-ingressgateway -n istio-system 8080:80\n",
    "```\n",
    "\n",
    "and go to `http://localhost:8080` to access the notebook."
   ]
  },
  {
   "cell_type": "markdown",
   "metadata": {},
   "source": [
    "Then, click on \"Notebooks\", and \"New Notebook\" to create a new notebook.\n",
    "\n",
    "Give any name to it, and scroll down to the bottom of the page. Click on \"Launch\" to start the notebook. And this is what you should see:"
   ]
  },
  {
   "cell_type": "markdown",
   "metadata": {},
   "source": [
    "<p align=center><img src=images/Kubeflow_2.png width=700></p>"
   ]
  },
  {
   "cell_type": "markdown",
   "metadata": {},
   "source": [
    "If you can connect to it, you are done setting up Kubeflow!"
   ]
  },
  {
   "cell_type": "markdown",
   "metadata": {},
   "source": []
  }
 ],
 "metadata": {
  "language_info": {
   "name": "python"
  },
  "orig_nbformat": 4
 },
 "nbformat": 4,
 "nbformat_minor": 2
}
