{
 "cells": [
  {
   "cell_type": "markdown",
   "source": [
    "# 2. Feature Stores with Feast"
   ],
   "metadata": {}
  },
  {
   "cell_type": "markdown",
   "source": [
    "[Feast](https://docs.feast.dev/) (FEAture STore) is a feature store provider that can serve online (for real-time prediction) or offline (for model training) features.\n",
    "\n",
    "> ## Feast is an operational data system for managing and serving machine learning features to models in production. \n",
    "\n",
    "<p align=center><img src=images/Feast_Diagram.png width=600></p>\n",
    "\n",
    "As a feature store, Feast can give a single point access to your features, so there is no data leakage due to inconsistencies in your data. \n",
    "\n",
    "Additionally, features can be accessed by any team, so by providing that single point access as well as a centralized hub for registering the features, reduces the friction between teams. \n",
    "\n",
    "On top of that, features can be reused, not only across teams, but also across projects, so once a project is finished, the features used in it can also be used by the next project without engineering them again.\n",
    "\n",
    "Moreover, it's important to know what features lead to a specific model. Thanks to Feast, you can track in time what features generated the corresponding models.\n",
    "\n",
    "<span style=\"font-size:1.4em;\">\n",
    "<em>However</em>,\n",
    "</span>\n",
    "as opposed to other feature store providers, Feast doesn't offer a feature engineering service. Also, it doesn't generate statistic reports (yet)\n"
   ],
   "metadata": {}
  },
  {
   "cell_type": "markdown",
   "source": [
    "# Installation and Initializing"
   ],
   "metadata": {}
  },
  {
   "cell_type": "markdown",
   "source": [
    "Before installing feast, it is highly recommended to create a virtual environment. Installing Feast is as simply as executing\r\n",
    "```\r\n",
    "pip install feast\r\n",
    "```\r\n",
    "Note that, if you are planning on using Feast with AWS services or GCP to create online features, you will also need to install the AWS or GCP dependencies.\r\n",
    "```\r\n",
    "pip install 'feast[aws]'\r\n",
    "```\r\n",
    "Or\r\n",
    "```\r\n",
    "pip install 'feast[gcp]'\r\n",
    "```\r\n",
    "\r\n",
    "__Bear in mind that here we are going to look at local feature stores. If you want to know more about online feature stores, you can follow the examples provided by the Feast team. Here, we are going to show you how feature stores work, so then you can extrapolate that knowledge to a wider use.__"
   ],
   "metadata": {}
  },
  {
   "cell_type": "markdown",
   "source": [
    "Now, you can create a feature repository. This repository will contain the configuration of the feature store and the features themselves. \r\n",
    "\r\n",
    "Feast makes the creation of a Feature Repository quite simple, and it generate some files about how to run Feast on your infrastructure, and another file containing the definition of the features. "
   ],
   "metadata": {}
  },
  {
   "cell_type": "markdown",
   "source": [
    "To create the feature repository, go to the directory where you want to create the feature repository, and simply run:\r\n",
    "```\r\n",
    "feast init\r\n",
    "```\r\n",
    "It will add some examples to your directory so you can play around, as well as a file named `feature_store.yaml`. The name of a folder will be a random animal with a data folder inside\r\n",
    "\r\n",
    "<p align=center><img src=images/Feast_Directory.png width=200></p>\r\n"
   ],
   "metadata": {}
  },
  {
   "cell_type": "markdown",
   "source": [
    "`just_grouper` is another example for a feature store that has information about your features in AWS. In our case, `steady_platypus` is an example of a feature store that contains information in your local machine and that you can keep track using Git.\r\n",
    "\r\n",
    "Let't change directories to `steady_platypus` and start a repository:\r\n",
    "```\r\n",
    "cd steady_platypus\r\n",
    "git init\r\n",
    "```"
   ],
   "metadata": {}
  },
  {
   "cell_type": "markdown",
   "source": [
    "# Feature Repository"
   ],
   "metadata": {}
  },
  {
   "cell_type": "markdown",
   "source": [
    "Feast users use Feast to manage two important sets of configuration:\r\n",
    "\r\n",
    "- Configuration about how to run Feast on your infrastructure (`feature_store.yaml`)\r\n",
    "- Feature definitions (All remaining Python files)\r\n",
    "\r\n",
    "The above configuration can be written declaratively and stored as code in a central location. This central location is called a feature repository.\r\n",
    "\r\n",
    "The structure of a feature repository is as follows:\r\n",
    "\r\n",
    "- The root of the repository should contain a feature_store.yaml file and may contain a .feastignore file.\r\n",
    "- The repository should contain Python files that contain feature definitions. \r\n",
    "- The repository can contain other files as well, including documentation and potentially data files."
   ],
   "metadata": {}
  },
  {
   "cell_type": "markdown",
   "source": [
    "Thus, in our example, we can apply the definitions included in `example.py` to Feast by running:\r\n",
    "```\r\n",
    "feast apply\r\n",
    "```\r\n",
    "\r\n",
    "Take a look at `example.py` to see how to define a feature. It uses different classes within the `feast` module to define the different types of features. The comments provided by the Feast team are very useful to understand how to define a feature. \r\n",
    "\r\n",
    "`example.py` will open `data/driver_stats.parquet`. If you are curious about its content, you can use pandas to read that file, or add an extension to your favorite editor to open it. This is what the file looks like:\r\n",
    "\r\n",
    "<p align=center><img src=images/Feast_parquet.png width=600></p>"
   ],
   "metadata": {}
  },
  {
   "cell_type": "markdown",
   "source": [
    "You might find an error when running `feast apply`:\r\n",
    "```\r\n",
    "SyntaxError: (unicode error) 'unicodeescape' codec can't decode bytes in position 2-3: truncated \r\n",
    "\\UXXXXXXXX escape\r\n",
    "```\r\n",
    "To solve it, simply go to `example.py` and change the backslashes (`\\`) to forward slashes (`/`)"
   ],
   "metadata": {}
  },
  {
   "cell_type": "markdown",
   "source": [
    "You will see that upon running `feast apply`, the following message shows up:\r\n",
    "```\r\n",
    "Registered entity driver_id\r\n",
    "Registered feature view driver_hourly_stats\r\n",
    "Deploying infrastructure for driver_hourly_stats\r\n",
    "```\r\n",
    "Additionally, you will notice that there are two more files in the `data` folder. The first one is `online_store.db` and the second one is `registry.db`. These files are used by Feast to store the features and their metadata. It would be a good time to track yout files using Git:\r\n",
    "```\r\n",
    "git add .\r\n",
    "git commit -m \"Add feature store and feature definitions\"\r\n",
    "```\r\n",
    "\r\n",
    "You can change the data inside by tweaking `example.py` and then running `feast apply`. For example, in `example.py`, you can change the feature definition by adding a feature to the list:\r\n",
    "```\r\n",
    "features=[\r\n",
    "        Feature(name=\"conv_rate\", dtype=ValueType.FLOAT),\r\n",
    "        Feature(name=\"acc_rate\", dtype=ValueType.FLOAT),\r\n",
    "        Feature(name=\"avg_daily_trips\", dtype=ValueType.INT64),\r\n",
    "        Feature(name=\"created\", dtype=ValueType.TIMESTAMP),\r\n",
    "    ],"
   ],
   "metadata": {}
  },
  {
   "cell_type": "markdown",
   "source": [
    "After running `feast apply` You can check that there has been a change by running `git status`. You should see two files that have been modified:\r\n",
    "```\r\n",
    "        modified:   data/registry.db\r\n",
    "        modified:   example.py\r\n",
    "```"
   ],
   "metadata": {}
  },
  {
   "cell_type": "markdown",
   "source": [
    "# Build a training dataset"
   ],
   "metadata": {}
  },
  {
   "cell_type": "markdown",
   "source": [
    "Once you deployed the feature store, you can build a training dataset. Users have to provide a list of features and a list of entities. Feast will generate a training dataset that contains those features and entities."
   ],
   "metadata": {}
  },
  {
   "cell_type": "markdown",
   "source": [
    "First, you can define the feature references for the features that you would like to retrieve from the offline store. These features can come from multiple feature tables.\r\n",
    "\r\n",
    "```\r\n",
    "features=[\r\n",
    "        \"driver_hourly_stats:conv_rate\",\r\n",
    "        \"driver_hourly_stats:acc_rate\"\r\n",
    "    ]\r\n",
    "```\r\n",
    "\r\n",
    "You have to also provide an entity dataframe, which is the target dataframe on which you would like to join feature values. The entity dataframe must contain a timestamp column called event_timestamp and all entities (primary keys) necessary to join feature tables onto. All entities found in feature views that are being joined onto the entity dataframe must be found as column on the entity dataframe.\r\n",
    "\r\n",
    "It is possible to provide entity dataframes as either a Pandas dataframe or a SQL query, but in this case, we are going to simply use Pandas."
   ],
   "metadata": {}
  },
  {
   "cell_type": "code",
   "execution_count": null,
   "source": [
    "from feast import FeatureStore\n",
    "import pandas as pd\n",
    "from datetime import datetime\n",
    "\n",
    "entity_df = pd.DataFrame(\n",
    "    {\n",
    "        \"event_timestamp\": [pd.Timestamp(datetime.now(), tz=\"UTC\"), pd.Timestamp(datetime.now(), tz=\"UTC\")],\n",
    "        \"driver_id\": [1001, 1002]\n",
    "    }\n",
    ")\n",
    "\n",
    "fs = FeatureStore(repo_path=\"steady_platypus\")\n",
    "\n",
    "training_df = fs.get_historical_features(\n",
    "    features=[\n",
    "        \"driver_hourly_stats:conv_rate\",\n",
    "        \"driver_hourly_stats:acc_rate\"\n",
    "    ],\n",
    "    entity_df=entity_df\n",
    ").to_df()"
   ],
   "outputs": [],
   "metadata": {}
  },
  {
   "cell_type": "markdown",
   "source": [
    "# Load data into the online store"
   ],
   "metadata": {}
  },
  {
   "cell_type": "markdown",
   "source": [
    "Feast allows users to load their feature data into an online store in order to serve the latest features to models for online prediction."
   ],
   "metadata": {}
  },
  {
   "cell_type": "markdown",
   "source": [
    "You can send data to the online store by using the `feast materialize` command. The syntax is as follows:\r\n",
    "```\r\n",
    "feast materialize <initial_date> <final_date>\r\n",
    "```"
   ],
   "metadata": {}
  },
  {
   "cell_type": "markdown",
   "source": [
    "In my case, I would like to materialize data from the last week (Today is 26th of August), so I have to run:"
   ],
   "metadata": {}
  },
  {
   "cell_type": "markdown",
   "source": [
    "```\r\n",
    "feast materialize 2021-08-19T00:00:00 2021-08-26T00:00:00\r\n",
    "```"
   ],
   "metadata": {}
  },
  {
   "cell_type": "markdown",
   "source": [
    "Now, if you open online_store.db, you will see some data in it. We can use this for making real-time predictions."
   ],
   "metadata": {}
  },
  {
   "cell_type": "code",
   "execution_count": null,
   "source": [
    "from feast import FeatureStore\n",
    "\n",
    "fs = FeatureStore(repo_path=\"./steady_platypus\")\n",
    "\n",
    "training_df = fs.get_online_features(\n",
    "    features=[\n",
    "        \"driver_hourly_stats:conv_rate\",\n",
    "        \"driver_hourly_stats:acc_rate\"\n",
    "    ],\n",
    "    entity_rows=[\n",
    "        {\"driver_id\": 1001},\n",
    "        {\"driver_id\": 1002}]\n",
    ").to_dict()\n",
    "\n",
    "print(training_df)"
   ],
   "outputs": [],
   "metadata": {}
  },
  {
   "cell_type": "markdown",
   "source": [
    "Observe that in this case, we are not using the method `get_historical_features`, instead, we are using `get_online_features`, so feast knows what database it should look for. Also, we are not using `entity`, but instead we are using the `entity_rows` as an argument."
   ],
   "metadata": {}
  },
  {
   "cell_type": "markdown",
   "source": [
    "When you run the code above, the output should look like:\r\n",
    "```\r\n",
    "{'driver_id': [1001, 1002], 'conv_rate': [0.9721019268035889, 0.700430691242218], 'acc_rate': [0.1053711548447609, 0.15271347761154175]}\r\n",
    "```\r\n",
    "which is the dictionary corresponding to the last added data."
   ],
   "metadata": {}
  },
  {
   "cell_type": "markdown",
   "source": [
    "# Summary\r\n",
    "\r\n",
    "- Feast is a library for defining features and deploying them to a feature store.\r\n",
    "- Feast can be used to build a training dataset using historical features.\r\n",
    "- Feast can be used to load data into an online store, so you can do real-time predictions."
   ],
   "metadata": {}
  }
 ],
 "metadata": {
  "orig_nbformat": 4,
  "language_info": {
   "name": "python"
  }
 },
 "nbformat": 4,
 "nbformat_minor": 2
}