{
 "cells": [
  {
   "cell_type": "markdown",
   "metadata": {},
   "source": [
    "# FastAPI"
   ]
  },
  {
   "cell_type": "markdown",
   "metadata": {},
   "source": [
    "## Lesson Materials"
   ]
  },
  {
   "cell_type": "markdown",
   "metadata": {},
   "source": [
    "For this lesson, two libraries are required:\n",
    "- `fastapi` allows us to define the API. See the docs [here](https://fastapi.tiangolo.com).\n",
    "- `uvicorn` allows FastAPI to handle requests in parallel. See the docs [here](https://www.uvicorn.org)."
   ]
  },
  {
   "cell_type": "code",
   "execution_count": null,
   "metadata": {},
   "outputs": [],
   "source": [
    "pip install fastapi\n",
    "pip install uvicorn"
   ]
  },
  {
   "cell_type": "markdown",
   "metadata": {},
   "source": [
    "# Introduction\n",
    "According to the official website, FastAPI is a modern, fast (high-performance), web framework for building application programming interfaces (APIs) with Python 3.6+.\n",
    "\n",
    "The advantages of FastAPI relative to other web frameworks include the following:\n",
    "\n",
    "1. __Easy to use__: The code structure and its encapsulation make it very intuitive to find methods quickly.\n",
    "2. __Fast to code__: FastAPI performs most of the laborious coding tasks. The user simply adds the type of request to be expected and the corresponding response.\n",
    "3. __Employs both OpenAPI and JSON__: The browser displays the data in an organised and readable format, and users can retrieve the data efficiently.\n",
    "4. __Queries are considerably easy to format__: By default, queries have the `str` format; however, if a specific type hint is provided in the function, the input will be cast to that type.\n",
    "5. __Processes requests asynchronously__: Multiple requests can be sent to a FastAPI server while it is processing the previous request. Therefore, new requests can be sent without waiting for the completion of the previous request.\n",
    "6. __Integrates dataclass decorators__: This makes it significantly easy to get an application up and running.\n",
    "7. __Integrates pytest__: APIs can be easily tested before being deployed.\n",
    "\n",
    "Although FastAPI is relatively new, compared to Flask or Django, its adoption is increasing rapidly. We encourage you to explore other libraries for creating applications, such as Tornado and Hug. However, in this lesson, we will focus on FastAPI because of its power and simplicity. We will create APIs with minimal functionality."
   ]
  },
  {
   "cell_type": "markdown",
   "metadata": {},
   "source": [
    "## Building APIs"
   ]
  },
  {
   "cell_type": "markdown",
   "metadata": {},
   "source": [
    "Building an API using FastAPI is incredibly easy. For this, a decorator is added to the function that will be run in an application:"
   ]
  },
  {
   "cell_type": "code",
   "execution_count": 1,
   "metadata": {},
   "outputs": [],
   "source": [
    "import fastapi\n",
    "import uvicorn"
   ]
  },
  {
   "cell_type": "markdown",
   "metadata": {},
   "source": [
    "### Address structure\n",
    "As a reminder, the address structure of an API is as follows:\n",
    "```\n",
    "REQUEST = <ROOT_URL>/<Path>?<Query Parameters>\n",
    "```"
   ]
  },
  {
   "cell_type": "markdown",
   "metadata": {},
   "source": [
    "Within `Query Parameters`, the parameters are separated by the ampersand symbol, `&`. See the example below:\n",
    "\n",
    "<div style=\"text-align:center\"><img src=\"images/API_Structure.png\" width=600/></div>\n"
   ]
  },
  {
   "cell_type": "markdown",
   "metadata": {},
   "source": [
    "### Example 1\n",
    "Now, we create the first instance of a FastAPI.\n",
    "\n",
    "This instance has methods that can be employed to decorate functions with functionality, e.g. defining a function that runs on a `GET` request to a particular server."
   ]
  },
  {
   "cell_type": "markdown",
   "metadata": {},
   "source": [
    "> If the API is run within the notebook `uvicorn`, it will run indefinitely, and you will not be able to run the next cells. Thus, the following code should be run in a `.py` file."
   ]
  },
  {
   "cell_type": "code",
   "execution_count": 1,
   "metadata": {},
   "outputs": [
    {
     "name": "stdout",
     "output_type": "stream",
     "text": [
      "Process is interrupted.\n"
     ]
    }
   ],
   "source": [
    "%%python3\n",
    "import fastapi\n",
    "import uvicorn\n",
    "api = fastapi.FastAPI() \n",
    " \n",
    "# The endpoint will be our localhost (127.0.0.1),\n",
    "# and the listening port will be 8000.\n",
    "# The path is '/test/calculate'; however, you can use any path of your choosing.\n",
    "# Simply ensure that you use the same path in your browser to check the results.\n",
    "\n",
    "@api.get('/test/calculate')\n",
    "def calculate():\n",
    "    return 2 + 2\n",
    "\n",
    "uvicorn.run(api, port=8000, host='127.0.0.1') # use uvicorn to run the api so that it processes requests asynchronously"
   ]
  },
  {
   "cell_type": "markdown",
   "metadata": {},
   "source": [
    "After running the script, you can examine the API output by visiting the path, `/test/calculate`. To do this, open [127.0.0.1:8000/test/calculate](127.0.0.1:8000/test/calculate) in a browser. The output should be similar to that in the figure below (depending on the browser):\n",
    "\n",
    "<div style=\"text-align:center\"><img src=\"images/FastAPI_1.png\" width=600/></div>\n",
    "\n"
   ]
  },
  {
   "cell_type": "markdown",
   "metadata": {},
   "source": [
    "The API returns a simple number, which is not useful. Next, we add some query parameters by simply introducing arguments into the decorated function.\n",
    "\n",
    "Query-string params are passed into a request following the '`?`' symbol (after the path), as key-value pairs on either side of an '`=`' sign separated by `&`. For example, `my/path?firstparam=1&secondparam=3`.\n",
    "\n",
    "FastAPI expects the query-string names to match the function argument names."
   ]
  },
  {
   "cell_type": "code",
   "execution_count": null,
   "metadata": {},
   "outputs": [],
   "source": [
    "%%python3\n",
    "import fastapi\n",
    "import uvicorn\n",
    "api = fastapi.FastAPI() \n",
    "\n",
    "@api.get('/test/calculate')\n",
    "def calculate(x, y):\n",
    "    return x + y\n",
    "\n",
    "uvicorn.run(api, port=8000, host='127.0.0.1')"
   ]
  },
  {
   "cell_type": "markdown",
   "metadata": {},
   "source": [
    "Upon visiting [127.0.0.1:8000/test/calculate](127.0.0.1:8000/test/calculate) once more, the API returns a response complaining about the lack of sufficient arguments:\n",
    "\n",
    "<div style=\"text-align:center\"><img src=\"images/FastAPI_2.png\" width=600/></div>"
   ]
  },
  {
   "cell_type": "markdown",
   "metadata": {},
   "source": [
    "As mentioned, `x` and `y` are parameters that must be passed if we are running a function. They can be assigned default values and/or passed to the URL in the form of a query:\n",
    "\n",
    "<div style=\"text-align:center\"><img src=\"images/FastAPI_3.png\" width=400/></div>"
   ]
  },
  {
   "cell_type": "markdown",
   "metadata": {},
   "source": [
    "As can be observed, the API returns \"15\", even though 1 + 5 is not 15. This is because the parameters of the query are read as strings by default. \n",
    "\n",
    "> Type hinting can be applied to change the default type of parameters."
   ]
  },
  {
   "cell_type": "code",
   "execution_count": null,
   "metadata": {},
   "outputs": [],
   "source": [
    "import fastapi\n",
    "import uvicorn\n",
    "api = fastapi.FastAPI() \n",
    " \n",
    "@api.get('/test/calculate')\n",
    "def calculate(x: int, y: int): # integer type hints define the default type of the arguments.\n",
    "    return x + y\n",
    "\n",
    "uvicorn.run(api, port=8000, host='127.0.0.1')"
   ]
  },
  {
   "cell_type": "markdown",
   "metadata": {},
   "source": [
    "Moving forward, we add responses characteristic of an API. Instead of addition, we divide `x` by `y`: "
   ]
  },
  {
   "cell_type": "code",
   "execution_count": null,
   "metadata": {},
   "outputs": [],
   "source": [
    "import fastapi\n",
    "import uvicorn\n",
    "api = fastapi.FastAPI() \n",
    " \n",
    "@api.get('/test/calculate')\n",
    "def calculate(x: int, y: int):\n",
    "    return x / y\n",
    "\n",
    "uvicorn.run(api, port=8000, host='127.0.0.1')"
   ]
  },
  {
   "cell_type": "markdown",
   "metadata": {},
   "source": [
    "The code works; however, if we use `y=0`, Python throws the error, Error: 500 `Internal Server Error`.\n",
    "\n",
    "<div style=\"text-align:center\"><img src=\"images/FastAPI_4.png\" width=400/></div>"
   ]
  },
  {
   "cell_type": "markdown",
   "metadata": {},
   "source": [
    "Although the error message informs the user of the origin of the issue, it does not provide much information. To provide more information, we could send a 400 Error: `Bad Request`, indicating that the given parameters are invalid, along with a message. All of this will be encapsulated in the Response class from the FastAPI library."
   ]
  },
  {
   "cell_type": "code",
   "execution_count": null,
   "metadata": {},
   "outputs": [],
   "source": [
    "import fastapi\n",
    "import uvicorn\n",
    "api = fastapi.FastAPI() \n",
    " \n",
    "@api.get('/test/calculate')\n",
    "def calculate(x: int, y: int):\n",
    "    if y == 0:\n",
    "        return fastapi.Response(content='y cannot be zero', status_code=400)\n",
    "    return x / y\n",
    "\n",
    "uvicorn.run(api, port=8000, host='127.0.0.1')"
   ]
  },
  {
   "cell_type": "markdown",
   "metadata": {},
   "source": [
    "Moreover, the data type to be returned can be added to the response. In many cases, APIs will return a JSON file; thus, we can specify the error message in the response returned to be in JSON format."
   ]
  },
  {
   "cell_type": "code",
   "execution_count": null,
   "metadata": {},
   "outputs": [],
   "source": [
    "import fastapi\n",
    "import uvicorn\n",
    "import json\n",
    "api = fastapi.FastAPI() \n",
    " \n",
    "@api.get('/test/calculate')\n",
    "def calculate(x: int, y: int):\n",
    "    if y == 0:\n",
    "        return fastapi.Response(content=json.dumps({\"error\" : \"y cannot be zero\"}),\n",
    "                                media_type='application/json',\n",
    "                                status_code=400)\n",
    "    return x / y\n",
    "\n",
    "uvicorn.run(api, port=8000, host='127.0.0.1')"
   ]
  },
  {
   "cell_type": "markdown",
   "metadata": {},
   "source": [
    "Thus, the response will contain a header, indicating that it is in JSON format.\n",
    "\n",
    "<div style=\"text-align:center\"><img src=\"images/FastAPI_5.png\" width=400/></div>"
   ]
  },
  {
   "cell_type": "markdown",
   "metadata": {},
   "source": [
    "### Post Requests\n",
    "\n",
    "It is also simple to create `POST` method integrations with FastAPI using the `.post()` decorator.\n"
   ]
  },
  {
   "cell_type": "code",
   "execution_count": null,
   "metadata": {},
   "outputs": [],
   "source": [
    "import fastapi\n",
    "import uvicorn\n",
    "import json\n",
    "api = fastapi.FastAPI() \n",
    " \n",
    "@api.post('/send/data')\n",
    "def process_data(x: int, y: int):\n",
    "    \n",
    "    if y == 0:\n",
    "        return fastapi.Response(content=json.dumps({\"error\" : \"y cannot be zero\"}),\n",
    "                                media_type='application/json',\n",
    "                                status_code=400)\n",
    "    return x / y\n",
    "\n",
    "uvicorn.run(api, port=8000, host='127.0.0.1')"
   ]
  },
  {
   "cell_type": "markdown",
   "metadata": {},
   "source": [
    "Functionally, post requests do not require a response; however, as shown in the table [here](https://developer.mozilla.org/en-US/docs/Web/HTTP/Methods/POST), a `body` key should always be returned in the response. If the request inserts some data into a database entry, this `body` key typically returns the resulting database entry."
   ]
  },
  {
   "cell_type": "markdown",
   "metadata": {},
   "source": [
    "### Example 2 "
   ]
  },
  {
   "cell_type": "markdown",
   "metadata": {},
   "source": [
    "The second API will accept the name of a celebrity and return the corresponding data of birth (DOB). Similar to the steps in the last example, we create a very simple API and build on it. Once more, we will employ the magic cell, although this is not recommended. Ensure that the virtual environment where you installed fastapi and uvicorn is activated.\n"
   ]
  },
  {
   "cell_type": "code",
   "execution_count": null,
   "metadata": {},
   "outputs": [],
   "source": [
    "%%python\n",
    "import fastapi\n",
    "import uvicorn\n",
    "api = fastapi.FastAPI() \n",
    "\n",
    "@api.get('/')\n",
    "def index():\n",
    "    return 'Welcome to the celebrity DOB API!'\n",
    "\n",
    "if __name__ == '__main__':\n",
    "    uvicorn.run(api, port=8000, host='127.0.0.1')"
   ]
  },
  {
   "cell_type": "markdown",
   "metadata": {},
   "source": [
    "## CORS\n",
    "\n",
    "Commonly, requests are made to an API from a website. This website, which has a different URL, is known to be of a different 'origin'. By default, cross-origin requests may not be allowed. This situation is known as Cross-Origin Resource Sharing (CORS). Read about how to implement CORS [here](https://fastapi.tiangolo.com/tutorial/cors/)."
   ]
  },
  {
   "cell_type": "markdown",
   "metadata": {},
   "source": [
    "## Further Reading\n",
    "\n",
    "FastAPI generates documentation automatically. To access the docs, you simply run your API and go to the `/docs` resources, where you will find the API documentation. The details are provided [here](https://fastapi.tiangolo.com/tutorial/body/#automatic-docs)."
   ]
  }
 ],
 "metadata": {
  "interpreter": {
   "hash": "06c1e258a470a687113bfba03f207c092b27379067ada2d83b8b31269ab641fe"
  },
  "kernelspec": {
   "display_name": "Python 3.8.2 64-bit ('main': conda)",
   "name": "python3"
  },
  "language_info": {
   "codemirror_mode": {
    "name": "ipython",
    "version": 3
   },
   "file_extension": ".py",
   "mimetype": "text/x-python",
   "name": "python",
   "nbconvert_exporter": "python",
   "pygments_lexer": "ipython3",
   "version": "3.8.2"
  },
  "orig_nbformat": 4
 },
 "nbformat": 4,
 "nbformat_minor": 2
}
