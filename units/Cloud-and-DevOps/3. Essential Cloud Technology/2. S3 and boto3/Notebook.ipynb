{
 "cells": [
  {
   "cell_type": "markdown",
   "metadata": {},
   "source": [
    "# S3 and boto3\n"
   ]
  },
  {
   "cell_type": "markdown",
   "metadata": {},
   "source": [
    "## Introduction"
   ]
  },
  {
   "cell_type": "markdown",
   "metadata": {},
   "source": [
    ">The Amazon simple-storage service (Amazon S3) buckets are data lakes for storing files. To learn more about data lakes, check this [website](https://en.wikipedia.org/wiki/Data_lake).\n",
    "\n",
    "S3 buckets allow you to store up to 5Gb for free, after which you will have to pay $0.023 per gigabyte. For more information on the pricing, visit this [page](https://aws.amazon.com/es/s3/pricing/?nc=sn&loc=4).\n",
    "\n",
    "## Creating an S3 Bucket\n",
    "\n",
    "Here, we create an S3 bucket to upload our files. First, go to the AWS [dashboard](https://aws.amazon.com). In the search bar, type 'S3', and click on the first option:\n",
    "<p align=\"center\"> \n",
    "    <img src=\"images/aws_search_S3.png\" width=\"500\"/>\n",
    "</p>\n",
    "In the next window, click on 'Create bucket':\n",
    "\n",
    "<p align=\"center\">\n",
    "    <img src=\"images/create_bucket_button.png\" width=\"500\"/>\n",
    "</p>\n",
    "\n",
    "Set a name for your bucket, and choose a region (any region from the US usually works; however, ensure that you use the same region in the subsequent steps)."
   ]
  },
  {
   "cell_type": "markdown",
   "metadata": {},
   "source": [
    "## Creating an IAM User Role "
   ]
  },
  {
   "cell_type": "markdown",
   "metadata": {},
   "source": [
    "An identity and access management (IAM) user role is required to provide the necessary credentials that allow us to interact with the AWS resources.\n",
    "\n",
    "To create an IAM user, go to the AWS dashboard, and, in the search bar, type 'IAM', and click the first option:\n",
    "\n",
    "<p align=\"center\">\n",
    "    <img src=\"images/IAM.png\" width=\"500\"/>\n",
    "</p>\n",
    "\n",
    "Next, click User in the left-hand side, followed by 'Add User':\n",
    "\n",
    "<p align=\"center\">\n",
    "    <img src=\"images/IAM_User.png\" width=\"500\"/>\n",
    "</p>\n",
    "\n",
    "Thereafter, fill the user name with the name you want, check the programmatic access box, and click Next.\n",
    "\n",
    "On the permissions page, select Attach existing policies directly, check the AdministratorAccess box, and click Next.\n",
    "\n",
    "<p align=\"center\">\n",
    "    <img src=\"images/Policies.png\" width=\"500\"/>\n",
    "</p>\n",
    "\n",
    "On the subsequent pages, simply click Next, and create the user. You will be redirected to the final page, which displays your credentials for connecting to the S3 bucket. These credentials will only be shown once; therefore, it is important that you download the .csv file:\n",
    "\n",
    "<p align=\"center\">\n",
    "    <img src=\"images/Credentials.png\" width=\"500\"/>\n",
    "</p>\n"
   ]
  },
  {
   "cell_type": "markdown",
   "metadata": {},
   "source": [
    "## Downloading and Configuring the AWS CLI\n"
   ]
  },
  {
   "cell_type": "markdown",
   "metadata": {},
   "source": [
    "To enable communication between your computer and your AWS resources, accurate configurations are required. The 'awscli' package allows you to easily configure the environment variables required by our computer to connect to AWS services.\n",
    "\n",
    "The awscli package can be installed using\n",
    "`pip install awscli`\n",
    "\n",
    "Next, in the terminal, type `aws configure`.\n",
    "Enter the information as it appears in the .csv file you downloaded in the previous step. \n",
    "\n",
    "When asked to provide the region name, go to your S3 bucket and retrieve the AWS Region of your bucket. The region name should be similar to 'us-east-1'.\n",
    "\n",
    "When asked to provide the output format, you can skip this info by pressing enter.\n",
    "\n",
    "Now, your computer should be ready to use boto3.\n",
    "\n",
    "<details>\n",
    "  <summary> <font size=+1> Things to note if you are on Google Colab </font></summary>\n",
    "  \n",
    "  If you are using Google Colab, you need to install the awscli package as you would on your local machine. The only difference is that the configuration parameters will not be prefilled in the next sessions.\n",
    "  \n",
    "  To install awscli, type `!pip install awscli` in a new cell.\n",
    "  \n",
    "  Thereafter, in the terminal, type `!aws configure`, and follow the instructions above.\n",
    "\n",
    "</details>"
   ]
  },
  {
   "cell_type": "markdown",
   "metadata": {},
   "source": [
    "Confirm that your installation is working using `aws s3 ls`. The output should be similar to that shown in the figure below:\n",
    "\n",
    "<p align=\"center\">\n",
    "    <img src=\"images/AWSCLI_ls.png\" width=\"500\"/>\n",
    "</p>\n"
   ]
  },
  {
   "cell_type": "markdown",
   "metadata": {},
   "source": [
    "## boto3 for Using AWS Resources in Python\n",
    "\n",
    "boto3 is a library that allows us to work with AWS from a python script. In this example, we will simply upload, download and explore S3 buckets. Note, however, that this library can also be used to manage other resources, such as `EC2`, `RDS` and `DynamoDB`. For more information, check out boto3's documentation [here](https://boto3.amazonaws.com/v1/documentation/api/latest/index.html).\n",
    "\n",
    "First, install boto3 by typing `pip install boto3` in the terminal. Consider that to use `boto3`, you need to configure AWS following the steps described above.\n",
    "\n",
    "We start by informing boto3 that we intend to use an S3 bucket:"
   ]
  },
  {
   "cell_type": "code",
   "execution_count": null,
   "metadata": {},
   "outputs": [],
   "source": [
    "import boto3 \n",
    "s3_client = boto3.client('s3')\n"
   ]
  },
  {
   "cell_type": "markdown",
   "metadata": {},
   "source": [
    "\n",
    "Now, upload a file to your bucket:"
   ]
  },
  {
   "cell_type": "code",
   "execution_count": null,
   "metadata": {},
   "outputs": [],
   "source": [
    "# response = s3_client.upload_file(file_name, bucket, object_name)\n",
    "response = s3_client.upload_file('cat_0.jpg', 'cat-scraper', 'cat.jpg')"
   ]
  },
  {
   "cell_type": "markdown",
   "metadata": {},
   "source": [
    "\n",
    "The *file_name* is the directory of the file you want to upload, *bucket* is the name of your S3 bucket, and *object_name* is the name you want to give to your file once uploaded.\n",
    "\n",
    "\n",
    "We encourage you to practice this to improve your understanding.\n",
    "\n",
    "Now, we attempt to view the content(s) of the bucket:"
   ]
  },
  {
   "cell_type": "code",
   "execution_count": null,
   "metadata": {},
   "outputs": [],
   "source": [
    "import boto3\n",
    "s3 = boto3.resource('s3')\n",
    "\n",
    "my_bucket = s3.Bucket('pokemon-sprites')\n",
    "\n",
    "for file in my_bucket.objects.all():\n",
    "    print(file.key)"
   ]
  },
  {
   "cell_type": "markdown",
   "metadata": {},
   "source": [
    "Once you have viewed the contents, you can download the files:"
   ]
  },
  {
   "cell_type": "code",
   "execution_count": null,
   "metadata": {},
   "outputs": [],
   "source": [
    "s3 = boto3.client('s3')\n",
    "\n",
    "# Ofcourse, change the names of the files to match yours.\n",
    "s3.download_file('pokemon-sprites', 'zubat/front.png', 'zubat.png')\n"
   ]
  },
  {
   "cell_type": "markdown",
   "metadata": {},
   "source": [
    "## Making the Files Public"
   ]
  },
  {
   "cell_type": "markdown",
   "metadata": {},
   "source": [
    "\n",
    "In your S3 bucket, disable the 'Block all public access' option:\n",
    "\n",
    "<p align=\"center\">\n",
    "    <img src=\"images/disable.PNG\" width=\"500\"/>\n",
    "</p>\n",
    "\n",
    "Once you have created the bucket, you can access it in the bucket list. "
   ]
  },
  {
   "cell_type": "markdown",
   "metadata": {},
   "source": [
    "To make the objects public, go to http://awspolicygen.s3.amazonaws.com/policygen.html, which will help you create the necessary policy.<br>\n",
    "- In 'Select Type of Policy', select S3 Bucket Policy. \n",
    "- In 'Principal', type ' * '.\n",
    "- In 'Actions', select 'Get Object'.\n",
    "- In 'Amazon Resource Name (ARN)', type arn:aws:s3:::{your_bucket_name}/*.\n",
    "- Click on Statement.\n",
    "- Click on Generate Policy, and copy the text.\n",
    "\n",
    "<p align=\"center\">\n",
    "    <img src=\"images/Policy_public.png\" width=\"500\"/>\n",
    "</p>\n",
    "\n",
    "Go back to your bucket, and go to the Permissions tab. In 'Bucket Policy', click Edit. Paste the text you copied, and save the changes.<br> \n",
    "Now, your bucket should be publicly accessible, and the files should be available to download. \n",
    "\n",
    "In your bucket, select the file you want to download, and copy the Object URL.\n",
    "\n",
    "<p align=\"center\"> <img src=\"images/URL_public.png\" width=\"500\"></p>\n",
    "\n",
    "Open a python editor or notebook, and use the requests library to download the image from the URL you just copied. See the example below:"
   ]
  },
  {
   "cell_type": "code",
   "execution_count": null,
   "metadata": {},
   "outputs": [],
   "source": [
    "import requests\n",
    "# Change this with your URL\n",
    "url = 'https://pokemon-sprites.s3.amazonaws.com/blastoise/front.png'\n",
    "\n",
    "response = requests.get(url)\n",
    "with open('blastoise.png', 'wb') as f:\n",
    "    f.write(response.content)"
   ]
  },
  {
   "cell_type": "markdown",
   "metadata": {},
   "source": [
    "Now, you should be able to see the file in the same working directory."
   ]
  },
  {
   "cell_type": "markdown",
   "metadata": {},
   "source": [
    "## Conclusion\n",
    "At this point, you should have a good understanding of how to\n",
    "- create an AWS account.\n",
    "- create an Amazon S3 bucket.\n",
    "- download and configure the AWS CLI.\n",
    "- make the files in the bucket public.\n",
    "- upload files.\n",
    "- download files from the bucket."
   ]
  }
 ],
 "metadata": {
  "kernelspec": {
   "display_name": "Python 3.9.0 64-bit",
   "language": "python",
   "name": "python3"
  },
  "language_info": {
   "codemirror_mode": {
    "name": "ipython",
    "version": 3
   },
   "file_extension": ".py",
   "mimetype": "text/x-python",
   "name": "python",
   "nbconvert_exporter": "python",
   "pygments_lexer": "ipython3",
   "version": "3.9.0"
  },
  "orig_nbformat": 4,
  "vscode": {
   "interpreter": {
    "hash": "aee8b7b246df8f9039afb4144a1f6fd8d2ca17a180786b69acc140d282b71a49"
   }
  }
 },
 "nbformat": 4,
 "nbformat_minor": 2
}
