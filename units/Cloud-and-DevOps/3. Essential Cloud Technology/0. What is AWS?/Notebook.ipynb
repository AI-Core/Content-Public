{
 "cells": [
  {
   "cell_type": "markdown",
   "metadata": {},
   "source": [
    "# AWS Overview"
   ]
  },
  {
   "cell_type": "markdown",
   "metadata": {},
   "source": [
    "First of all, we need to go to the AWS console and create a new account. To do this, go to the [AWS Console](https://console.aws.amazon.com/console/home), and create a new account. You will need a credit card to pay for the AWS services, but worry not! You can use a free service tier."
   ]
  },
  {
   "cell_type": "markdown",
   "metadata": {},
   "source": [
    "Once created, go to the [AWS Console](https://console.aws.amazon.com/console/home) and select the Services tab. You will see a list of services that are available\n",
    "\n",
    "![](images/AWS_Services.png)"
   ]
  },
  {
   "cell_type": "markdown",
   "metadata": {},
   "source": [
    "There are plenty of services in AWS, you can even manage your satellite server in the cloud! We only have bugdet for providing a few satellites, so instead, in this introduction we will focus on :\n",
    "\n",
    "- [Amazon RDS](https://aws.amazon.com/rds/) - Relational Database Service\n",
    "- [Amazon S3](https://aws.amazon.com/s3/) - Simple Storage Service\n",
    "- [Amazon EC2](https://aws.amazon.com/ec2/) - Elastic Compute Cloud"
   ]
  }
 ],
 "metadata": {
  "kernelspec": {
   "display_name": "Python 3.9.0 64-bit",
   "language": "python",
   "name": "python3"
  },
  "language_info": {
   "name": "python",
   "version": "3.9.0"
  },
  "orig_nbformat": 4,
  "vscode": {
   "interpreter": {
    "hash": "aee8b7b246df8f9039afb4144a1f6fd8d2ca17a180786b69acc140d282b71a49"
   }
  }
 },
 "nbformat": 4,
 "nbformat_minor": 2
}
