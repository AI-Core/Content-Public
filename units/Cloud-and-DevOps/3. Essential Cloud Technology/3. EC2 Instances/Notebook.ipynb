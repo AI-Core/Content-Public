{
 "cells": [
  {
   "cell_type": "markdown",
   "metadata": {},
   "source": [
    "# EC2 Instances"
   ]
  },
  {
   "cell_type": "markdown",
   "metadata": {},
   "source": [
    "## Introduction\n",
    ">EC2 instances are the building blocks of cloud computing. In essence, they are remote computers that can be employed to run code on a cluster or a single computer. In this lesson, we will focus on the latter.\n",
    "\n",
    "An EC2 instance can be accessed through a terminal. The instance can be accessed in the CLI by establishing an SSH connection to the instance. Once an SSH connection has been established, you can run commands as you would in your CLI. Therefore, it is important to remember the terminal commands, e.g. `ls`."
   ]
  },
  {
   "cell_type": "markdown",
   "metadata": {},
   "source": [
    "## SSH Key"
   ]
  },
  {
   "cell_type": "markdown",
   "metadata": {},
   "source": [
    "The first step is to create a key-pair file, which would enable you connect to the instance. To create a key pair, go to the AWS console, and click on the EC2 section. You will see a list of key pairs. Click on the `Create Key Pair` button.\n",
    "\n",
    "<p align=\"center\">\n",
    "    <img src=\"images/EC2_1.png\" width=\"500\"/>\n",
    "</p>\n",
    "\n",
    "<p align=\"center\">\n",
    "    <img src=\"images/EC2_2.png\" width=\"500\"/>\n",
    "</p>\n",
    "\n",
    "On the next page, select 'Create Key Pair'. You will be asked to provide a name for the key pair. You can provide a name, as well as an extension.\n",
    "\n",
    "<p align=\"center\">\n",
    "    <img src=\"images/EC2_Create_KP.png\" width=\"500\"/>\n",
    "</p>"
   ]
  },
  {
   "cell_type": "markdown",
   "metadata": {},
   "source": [
    "A `.pem` file with the name of the key pair will be created. This file contains the key pair that you will use to connect to the instance, and it will be automatically downloaded immediately after you click `'Create key pair'`. Ensure that the `.pem` file has only read permission. To do this, run the following command:\n",
    "\n",
    "`chmod 400 <key-pair-name>.pem`\n",
    "\n",
    "`chmod` stands for `change mode`, and `400` is the permission. For more information on chmod codes, visit this [link](https://en.wikipedia.org/wiki/Chmod).\n",
    "\n",
    "When you run the command, ensure that you are in the same directory as the `.pem` file."
   ]
  },
  {
   "cell_type": "markdown",
   "metadata": {},
   "source": [
    "## Creating an EC2 Instance"
   ]
  },
  {
   "cell_type": "markdown",
   "metadata": {},
   "source": [
    "Remember that to enable access to the EC2 instance, a security group is required. To create a security group, go to the AWS console and click on the EC2 section. You will see a list of security groups. Click on the `Create Security Group` button, and ensure that you set the correct inbound rules:\n",
    "\n",
    "- HTTP: Anywhere IPv4\n",
    "- HTTPS: Anywhere IPv4\n",
    "- SSH: My IP"
   ]
  },
  {
   "cell_type": "markdown",
   "metadata": {},
   "source": [
    "Once completed, remember to provide a memorable name.\n",
    "After creating the security group, click on the `Launch Instance` button on the EC2 main page.\n",
    "\n",
    "<p align=\"center\">\n",
    "    <img src=\"images/EC2_Launch_1.png\" width=\"500\"/>\n",
    "</p>"
   ]
  },
  {
   "cell_type": "markdown",
   "metadata": {},
   "source": [
    "You will be asked to choose an Amazon machine image (AMI). For this lesson, we will use the `Amazon Linux 2 AMI` image.\n",
    "\n",
    "<p align=\"center\">\n",
    "    <img src=\"images/EC2_Launch_2.png\" width=\"500\"/>\n",
    "</p>"
   ]
  },
  {
   "cell_type": "markdown",
   "metadata": {},
   "source": [
    "Select the t2.micro instance type, and click on Review and Launch. On the next section, select the security group you created with the three inbound rules.\n",
    "\n",
    "<p align=\"center\">\n",
    "    <img src=\"images/EC2_Launch_3.png\" width=\"500\"/>\n",
    "</p>"
   ]
  },
  {
   "cell_type": "markdown",
   "metadata": {},
   "source": [
    "Click on Launch, and you will be prompted to select a key pair. Select the key-pair file you created, and click Launch Instance. The launch process should take a few minutes. Once launched, view its public DNS:\n",
    "\n",
    "<p align=\"center\">\n",
    "    <img src=\"images/EC2_Launch_4.png\" width=\"500\"/>\n",
    "</p>"
   ]
  },
  {
   "cell_type": "markdown",
   "metadata": {},
   "source": [
    "If everything works well, you should be able to connect to the instance through SSH. Ensure that your `.pem` file has read permission and that you specified the right path to the `.pem` file."
   ]
  },
  {
   "cell_type": "markdown",
   "metadata": {},
   "source": [
    "## Connecting to the EC2 Instance"
   ]
  },
  {
   "cell_type": "markdown",
   "metadata": {},
   "source": [
    "To connect to the EC2 instance, run the following command in the CLI:\n",
    "\n",
    "`ssh -i <key-pair-name>.pem ec2-user@<public-dns>`\n",
    "\n",
    "Remember to specify the path to the `.pem` file in the key name (unless, of course, you are in the same directory). You might be prompted to provide a fingerprint. This is the fingerprint of the key pair. You can ignore this fingerprint, and type `yes` to continue. After that, your output should be similar to that shown below:\n",
    "\n",
    "<p align=\"center\">\n",
    "    <img src=\"images/EC2_Console.png\" width=\"500\"/>\n",
    "</p>\n"
   ]
  },
  {
   "cell_type": "markdown",
   "metadata": {},
   "source": [
    "At this point, you should have an established connection to your EC2 instance. The next step involves populating the instance using secure copying, since it is empty.\n",
    "\n",
    "In your terminal, you can copy files to the EC2 instance by typing\n",
    "\n",
    "`scp -i </path/my-key-pair.pem> </path/my-file> ec2-user@<public-dns>:<path/>`\n"
   ]
  },
  {
   "cell_type": "markdown",
   "metadata": {},
   "source": [
    "## Schedule jobs: Cron"
   ]
  },
  {
   "cell_type": "markdown",
   "metadata": {},
   "source": [
    "On many occasions, you will be required to run the same script multiple times at a specific time of the day, or each week or once each month. In these cases, you can use cron jobs, which are scheduled jobs that run a specific task at a specific time or in a specific period. \n",
    "\n",
    "If you are on Mac or Linux, you can simply edit your crontab file. Conversely, Windows offers a nice UI to set the schedule for the given task. To learn how to do this, check out the [link](https://www.windowscentral.com/how-create-automated-task-using-task-scheduler-windows-10).\n",
    "\n",
    "Here, we will focus on crontabs, since we will be using Linux in our EC2 instance. Thus, if you are on Windows, connect to your EC2 instance; otherwise, you can schedule your jobs either on your local computer or on your EC2 instance."
   ]
  },
  {
   "cell_type": "markdown",
   "metadata": {},
   "source": [
    "### Crontab"
   ]
  },
  {
   "cell_type": "markdown",
   "metadata": {},
   "source": [
    "Scheduled tasks can be managed using crontab. Here, we will focus on three use cases:\n",
    "\n",
    "- `crontab -l`: List the tasks that have been scheduled.\n",
    "- `crontab -r`: Remove the tasks that have been scheduled.\n",
    "- `crontab -e`: Edit the tasks you want to schedule.\n",
    "\n",
    "Before editing the crontab, we examine the structure of a crontab. First, set a schedule using five numbers:\n",
    "\n",
    "`minutes hours day_of_month month day_of_week`\n",
    "\n",
    "The number you give to each of these fields will set the frequency of the command. The `*` wildcard is always available for setting `every` field. Some examples:\n",
    "\n",
    "- `* * * * *`: Every minute, every hour, every day of the month, every month, and every day of the week.\n",
    "- `30 4 * * *`: Every day at 4:30.\n",
    "- `* * 5 * 6`: Every minute on all Saturdays (6), on the fifth day of the month.\n",
    "- `0 0 * 11 *`: Every day at midnight in November (11).\n",
    "- `0 0 1 1 *`: Yearly on the 1st of January.\n",
    "\n",
    "Check out this webpage for more information on creating schedules: [https://crontab.guru](https://crontab.guru).\n",
    "\n",
    "The second part of the crontab comprises the command to be run. Remember that you are in the terminal. To run a python script, you should run `python3 test.py` for example.\n",
    "\n",
    "Thus, the following command:\n",
    "\n",
    "- `0 0 * * 5 python3 test.py`, \n",
    "\n",
    "will run `test.py` weekly at midnight on Fridays.\n",
    "\n",
    "\n",
    "Now, we add some tasks to the crontab file using the last command. Upon running it, Vim, a relatively complicated text editor, will open. \n",
    "\n",
    "There are only two relevant commands:\n",
    "\n",
    "- `i`: Enter Insert mode. After this, you will be able to write.\n",
    "- `:wq`: Write and Quit. This saves the changes and quits the editor afterwards.\n",
    "\n",
    "More information on other commands can be found here [here](https://vim.rtorr.com).\n",
    "\n",
    "The Vim commands are provided in its console. If you are in Insert mode, simply press Esc to enter the console."
   ]
  },
  {
   "cell_type": "markdown",
   "metadata": {},
   "source": [
    "# EC2 and Selenium"
   ]
  },
  {
   "cell_type": "markdown",
   "metadata": {},
   "source": [
    "The created scraper might be configured to run daily or weekly.\n",
    "\n",
    "- Problem: Running it manually might be tedious.\n",
    "- Solution: Use `crontab`. <br>\n",
    "<br>\n",
    "- Problem: `crontab` does not work if the computer is off. \n",
    "- Solution: Run it on an EC2 instance and leave it open.<br>\n",
    "<br>\n",
    "- Problem: Chrome or chromedriver for running Selenium is not available.\n",
    "- Solution: Download it.<br>\n",
    "<br>\n",
    "- Eventual Problem: When logging out, the script halts.\n",
    "- Eventual Solution: Create a terminal multiplexor that leaves the session running.\n"
   ]
  },
  {
   "cell_type": "markdown",
   "metadata": {},
   "source": [
    "_Note: This only works with the Amazon Linux 2 AMI instance._\n",
    "\n",
    "1. First, download Google Chrome, and determine its version. In your EC2 instance, run the following commands:\n",
    "\n",
    "`sudo curl https://intoli.com/install-google-chrome.sh | bash`\n",
    "\n",
    "`sudo mv /usr/bin/google-chrome-stable /usr/bin/google-chrome`\n",
    "\n",
    "2. If no problem occurs, run the following to check the version: `google-chrome --version`\n",
    "\n",
    "<details>\n",
    "  <summary>For Ubuntu 20.04</summary>\n",
    "\n",
    "  If you are on Ubuntu, you can use the following commands to download the latest version of Chrome:\n",
    "\n",
    "  `wget https://dl.google.com/linux/direct/google-chrome-stable_current_amd64.deb`\n",
    "\n",
    "  `sudo apt install ./google-chrome-stable_current_amd64.deb`\n",
    "\n",
    "  Thereafter, follow the same instructions to download the corresponding chromedriver.\n",
    "\n",
    "</details>\n",
    "\n",
    "3. At the time of writing, the current version is 93.x. Accordingly, we must download the corresponding chromedriver version. Since you are in a Linux instance, search for the right version on the next webpage: [https://sites.google.com/chromium.org/driver/](https://sites.google.com/chromium.org/driver/). Copy the link; there is no need to download the file. \n",
    "\n",
    "`sudo wget https://chromedriver.storage.googleapis.com/93.0.4577.15/chromedriver_linux64.zip`\n",
    "\n",
    "4. Unzip the downloaded file using `sudo unzip chromedriver_linux64.zip`.\n",
    "5. Move that file to the PATH using `sudo mv chromedriver /usr/bin/chromedriver`.\n",
    "6. You should be set to use selenium. (Remember to download `pip install selenium`).\n",
    "\n",
    "\n"
   ]
  },
  {
   "cell_type": "markdown",
   "metadata": {},
   "source": [
    "## Multiplexing"
   ]
  },
  {
   "cell_type": "markdown",
   "metadata": {},
   "source": [
    "Once you start using selenium, your process will halt after the SSH is terminated. A terminal multiplexer with `tmux` presents a solution to this issue. This, in essence, will run a new terminal (or set of terminals) and keep the process running even if you disconnect from it.\n",
    "\n",
    "To install it, run: `sudo yum install tmux`.\n",
    "\n",
    "To improve your knowledge, experiment with `tmux`, since it has many commands. In this notebook, however, we will focus on creating terminals:\n",
    "\n",
    "- To create a new session and connect to it, run `tmux new-session -s session_name`.\n",
    "- Once inside, you can run anything as if you were in the main terminal. To detach from the session, press `Ctrl + B` and subsequently `D`.\n",
    "- Create as many sessions as you want. To list the active sessions, run `t`mux list-sessions`.\n",
    "- To reconnect to an existing session, run `tmux attach-session -t session_name`.\n",
    "- To end a session, run `tmux kill-session -t session_name`.\n",
    "\n",
    "Once up and running, you can log out of the EC2 instance, without interrupting or halting the process."
   ]
  },
  {
   "cell_type": "markdown",
   "metadata": {},
   "source": [
    "## Conclusion\n",
    "At this point, you should have a good understanding of \n",
    "\n",
    "- EC2 instances and how to create/connect them.\n",
    "- SSH key and how to create a key-pair file.\n",
    "- how to use cron jobs for scheduling."
   ]
  }
 ],
 "metadata": {
  "interpreter": {
   "hash": "569d6b7e9215e11aba41c6454007e5c1b78bad7df09dab765d8cf00362c40f03"
  },
  "kernelspec": {
   "display_name": "Python 3.9.1 64-bit ('base': conda)",
   "name": "python3"
  },
  "language_info": {
   "name": "python",
   "version": ""
  },
  "orig_nbformat": 4
 },
 "nbformat": 4,
 "nbformat_minor": 2
}
