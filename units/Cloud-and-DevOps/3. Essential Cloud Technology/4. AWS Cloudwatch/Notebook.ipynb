{
 "cells": [
  {
   "cell_type": "markdown",
   "source": [
    "# AWS Cloudwatch\r\n",
    "\r\n",
    "> Amazon Web Services(AWS) CloudWatch is the monitoring and observability service provided by AWS that allows you to monitor your AWS Resources in real time. CloudWatch monitors your data in the form of logs, events and metrics providing you insight into all your AWS applications and services. You can use CloudWatch to detect undesirable application behaviour, set alarms, visualise logs/metrics, troubleshoot applications and take automated action to keep your services running."
   ],
   "metadata": {}
  },
  {
   "cell_type": "markdown",
   "source": [
    "### CloudWatch Benefits\r\n",
    "\r\n",
    "* All your AWS services managed from one centralised platform.\r\n",
    "* Easily collect metrics from your AWS resources "
   ],
   "metadata": {}
  }
 ],
 "metadata": {
  "orig_nbformat": 4,
  "language_info": {
   "name": "python"
  }
 },
 "nbformat": 4,
 "nbformat_minor": 2
}