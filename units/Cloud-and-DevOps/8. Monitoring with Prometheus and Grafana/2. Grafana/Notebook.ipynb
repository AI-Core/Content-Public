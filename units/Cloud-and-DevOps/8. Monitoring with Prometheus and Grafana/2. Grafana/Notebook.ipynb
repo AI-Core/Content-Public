{
 "cells": [
  {
   "cell_type": "markdown",
   "metadata": {},
   "source": [
    "# Grafana"
   ]
  },
  {
   "cell_type": "markdown",
   "metadata": {},
   "source": [
    "> Grafana is an enterprise level solution designed to allow you to query, visualise, alert on and understand your data no matter where it's stored. Grafana does this through the ability to create custom dashboards for almost any service so you can monitor and observe all critical infomartion in one centralised location. \n",
    "\n",
    "They have an excellent tagline that summaries their ethos *Dashboard anything. Observe everything.*\n",
    "\n",
    "The Grafana homepage is viewable [here](https://grafana.com/grafana/) where you can get a nice overview of it's features."
   ]
  },
  {
   "cell_type": "markdown",
   "metadata": {},
   "source": [
    "## Setting up Grafana\n",
    "\n",
    "Firstly we will need to go to the Grafana download page [here](https://grafana.com/grafana/download) and select the version you would like to install for your operating system and follow the instructions to install it. Grafana will then be configured as a service or server on your system. You can then access the Grafana login page from `localhost:3000`. Initially you will login using `admin` as the username and `admin` as the password, Grafana will then ask you to configure a new admin password before logging in.\n",
    "\n",
    "<img src=\"images/grafana_login.png?modified=232132453\">"
   ]
  },
  {
   "cell_type": "markdown",
   "metadata": {},
   "source": [
    "Update the admin credentials and then you will be able to login to the main Grafana dashboard. From here we can customise the panels on the main homepage dashboard and access the navigation and user settings.\n",
    "\n",
    "The settings in order on the navigation bar are:\n",
    "\n",
    "- **Eyeglass** Search all your custom dashboards.\n",
    "- **Plus sign** Create new dashboards orgainise them into folders and import dashboards from json or URL.\n",
    "- **Grid** Manage your dashboards, library panels, view snapshots of your dashboards and create a playlist from dashboard to cycle through them automatically. \n",
    "- **Compass** Run queries from your data sources to see the outputted graph without commiting it to a dashboard yet.\n",
    "- **Bell** Setup alerts for your metrics and how you will be notified if they reach the threshold.\n",
    "- **Cog and Shield** Add new users/teams, data sources, plugins, API keys and setup Grafanas preferences.\n",
    "<br><br>\n",
    "\n",
    "<img src=\"images/grafana_main_dash.png?modified=23232453\">"
   ]
  },
  {
   "cell_type": "markdown",
   "metadata": {},
   "source": [
    "## Adding Prometheus as a data source.\n",
    "\n",
    "Grafana comes with the ability to add many predefined data sources easily and each has their own Query editor which is individually customised to work with each data source. You can get a full list of data sources and more information on each on the Grafana website [here](https://grafana.com/docs/grafana/latest/datasources/).\n",
    "\n",
    "To allow Grafana to start tracking your metrics on a dashboard you will firstly need to add Prometheus as a data source. Click the cog on the left hand navigation panel in Grafana and click **data sources** this is where you will be able to add your data sources to output to Grafana. \n",
    "\n",
    "Search for Prometheus using the search box and you should find it straight away. Select Prometheus to be taken to the configuration page, notice in the URL field we have configured it to be `host.docker.internal:9090` since we are running Prometheus in a Docker container. Leave all other settings as defaults then click **Save & test** to test the connection to Prometheus you should get a checkbox indication that the Data source is working.\n",
    "\n",
    "You can learn more about adding data source at the following [link](https://grafana.com/docs/grafana/latest/datasources/add-a-data-source/).<br><br>\n",
    "\n",
    "<img src=\"images/grafana_prom_setup.png?modified=2321321312\">"
   ]
  },
  {
   "cell_type": "markdown",
   "metadata": {},
   "source": [
    "## Creating our first dashboard\n",
    "\n",
    "Now that we have Prometheus added as a data source we can now create a dashboard to track some Prometheus metrics. Click the plus icon on the navigation bar of Grafana then **Create** to begin creating a new one. You will be given three options:\n",
    "\n",
    "- **Add an empty panel:** Allows you to add a panel to track metrics or logs.\n",
    "- **Add a new row**: Add a row which you can add panels to to separate them by case i.e you can have a row to alert you of CPU usage and row to alert of RAM usage.\n",
    "- **Add a panel from the panel library:** When creating panels you can optionally save them in a panel library which will allow you to quickly recreate the panel on another dashboard. When changes are made to that panel it will be reflected in all other instance of the panel on other dashboards. Read more about library panels [here](https://grafana.com/docs/grafana/latest/panels/panel-library/).\n",
    "\n",
    "Let's create a new row for our Prometheus panels and name it **OS metrics** then create another row and name it **Docker metrics**. After these have been created let's add a new panel to track our metrics, select **Add an empty panel** and you will be taken to the panel editor view.\n",
    "\n",
    "<img src=\"images/prom_panel_edit.png?modified=232131312\">\n",
    "\n"
   ]
  },
  {
   "cell_type": "markdown",
   "metadata": {},
   "source": [
    "We can now begin designing our panel to output the metrics in the way we would like. Notice at the bottom of the panel just like in the Prometheus server we have the **metrics browser** which allows us to run queries just like on the Prometheus dashboard. Pick a metric to track you can start writing it and just like on the Prometheus dashboard, Grafana will autocomplete it for you. \n",
    "\n",
    "In this case I have selected to track the rate of total cpu clock interrupts on windows, `rate(windows_cpu_clock_interrupts_total[5m])`. Once you have selected your query then you can configure options for its display on the right hand panel and give the panel a title. Name the panel appropriately and configure the metrics graph to be viewable the way you would- like. In this image I've increased the fill opacity to get a better overview of which CPUs are having a higher level of interrupts. Then save the panel using **Save** in the top right, Grafana will ask you to save a new dashboard save the new dashboard as `main`. \n",
    "\n",
    "<img src=\"images/graf_main_metrics_panel.png?modified=323254325\">"
   ]
  },
  {
   "cell_type": "markdown",
   "metadata": {},
   "source": [
    "Clicking the back arrow in the top left, the panel should now be viewable from the Grafana dashboard we have just created. \n",
    "\n",
    "<img src=\"images/graf_dashbord.png?modified=22421412412\">"
   ]
  },
  {
   "cell_type": "markdown",
   "metadata": {},
   "source": [
    "Now let's add some more panels for both to monitor Docker and monitor more operating system metrics. Click the add panel icon (top right beside save icon) and add more panels to the dashboard. Configure the new panels to be displayed in a different fashion, you can do this from the right side bar in the **Edit Panel** under **Time series**. Try creating different panels such as bar charts, gauges or tables using the panel editor with different metrics. It isn't too important what the metrics are at the moment it just helps to get used to creating these panels.\n",
    "\n",
    "Add some panels from the `windows/node` metrics as well as the `deamon_engine` Docker metrics as we will organise them after creation. Once you have added some panels, your dashboard should look something like this. Remember to save your dashboard after creation and add a note stating the changes that were made. \n",
    "\n",
    "<img src=\"images/graf_full_dash.png\">"
   ]
  },
  {
   "cell_type": "markdown",
   "metadata": {},
   "source": [
    "A lot of great information we have here to track metrics but it's so disorgainised. Let's add some rows to separate the metrics and rescale them to fit properly. Click the **Add Panel button again** this time add two rows and rename one `Docker metrics` and the other `OS metrics`, rows can be renamed by clicking the small cog beside the row. Now all that's left to do is to drag and drop the respective panels underneath each metric row. Now you should get a nicely orgainised dashboard with all your required metrics in place.\n",
    "\n",
    "<img src=\"images/graf_dash_orgainised.png?modified=23123123\">"
   ]
  },
  {
   "cell_type": "markdown",
   "metadata": {},
   "source": [
    "Excellent, we have now learned how to create a custom data source to track some custom metrics and output them to a Grafana Dashboard. Using Grafana you can create as many custom dashboard to track as many metrics as you like. Each use case will be different depending on the needs of an orgainisation. It's what makes Grafana so great, you can create a dashboard for almost any use case. \n",
    "\n",
    "These dashboards can be useful to have all critical data in one centralised location viewable by the whole team. For instance StackOverflow use custom dashboards to visualise incoming website data to help optimise their server performance. Dell use a Prometheus server and Oracle data allowing their products teams to see all metrics pertaining to team performance in one place. There are many more examples and use cases [here](https://grafana.com/success/). \n"
   ]
  },
  {
   "cell_type": "markdown",
   "metadata": {},
   "source": [
    "## Summary\n",
    "\n",
    "- We have learned how to import a data source into Grafana so we can track custom metrics.\n",
    "- We have learned to configure a custom dashboard to track custom metrics\n",
    "- Created multiple different kinds of panels with different queries\n",
    "- Orgainised our dashboard using rows so that it is layed out appropriately. "
   ]
  }
 ],
 "metadata": {
  "language_info": {
   "name": "python"
  },
  "orig_nbformat": 4
 },
 "nbformat": 4,
 "nbformat_minor": 2
}
