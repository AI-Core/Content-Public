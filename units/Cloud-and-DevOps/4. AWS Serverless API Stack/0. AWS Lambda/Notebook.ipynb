{
 "cells": [
  {
   "cell_type": "markdown",
   "metadata": {},
   "source": [
    "# AWS Lambda"
   ]
  },
  {
   "cell_type": "markdown",
   "metadata": {},
   "source": [
    "> AWS Lambda is a serverless computing service allowing you to run code in response to events without having to manage backend servers, runtimes, create workload aware cluster logic or maintain event integrations. Allowing you to run code for any type of application or backend service with zero administration.\n",
    "\n",
    "</br>\n",
    "\n",
    "### Benefits\n",
    "\n",
    "* **No severs to manage:** Lambda automatically runs your code without intervention.\n",
    "* **Continuous scaling:** Lambda automatically scales you applicaiton and runs in response to each event.\n",
    "* **Cost optimisation** down to the millisecond.\n",
    "* **Millisecond response times** and optimised memory allocation.\n",
    "* Comes with **1 million free requests** a month with AWS.\n"
   ]
  },
  {
   "cell_type": "markdown",
   "metadata": {},
   "source": [
    "## What is a Lambda function?\n",
    "\n",
    "The code run that will execute on the AWS Service is called a Lambda function, once created it will always be avaliable to run once it's triggered. Each function you create will have the code as well as the associated configuration information required for the function to run. Allowing each function to be **stateless**, meaning it's a self contained function without external dependencies. This allows you to launch as multiple copies of the function that may be required to keep up with incoming requests and events.\n",
    "\n",
    "These functions can also be easily integrated with specific AWS resources such as: Amazon S3, API Gateway, Lex or Cognito and even call other Lambda functions! When there is a change to the resource you can configure the function to execute adding extra functionality to the resource.\n",
    "\n",
    "### Key Features \n",
    "\n",
    "* **Extend the logic of other AWS resources:** When there is a change to your resource such as an Amazon S3 bucket you can configure the Lambda function to execute, managing the incoming data.\n",
    "* **Develop your own code** With Lamabda there are no new languages or tools to learn. You can use any third party libraries and even package (frameworks, SDKs,libaries and more) into a Lambda layer. Currently Lambda natively supports Java, Go, Powershell, Node.js, C#, Python and Ruby.\n",
    "* **Zero administration** Lambda mananges all the infastruture for you on a highly fault tolerant infastructure allowing you to focus on building services.\n",
    "* **Highly Scalable** Lambda functions are only run when needed so will only run at the rate of incoming requests without any configuration. It will run the function within milliseconds of an event and only execute for the required time to fufill the requests down to the millisecond. "
   ]
  },
  {
   "cell_type": "markdown",
   "metadata": {},
   "source": [
    "## Getting started with Lambda Functions"
   ]
  },
  {
   "cell_type": "markdown",
   "metadata": {},
   "source": [
    "Log into the AWS Services management console and open the AWS Lambda dashboard, you should be meet with AWS Lambda landing dashboard.\n",
    "\n",
    "## AWS Lambda dashboard\n",
    "\n",
    "![Lambda Dashboard](images/lambda_dashboard.PNG)\n"
   ]
  },
  {
   "cell_type": "markdown",
   "metadata": {},
   "source": [
    "We can see on the left hand side of the dashboard the options for creating applications, functions and Lambda Layers. In the top right corner you can see the option to create a lambda function directly from the dashboard with the logging metrics are displayed below.\n",
    "\n",
    "Let's firstly open the functions dashboard by clicking functions on the left hand side. \n",
    "\n",
    "## Functions dashboard\n",
    "![](images/functions_dashboard.png)"
   ]
  },
  {
   "cell_type": "markdown",
   "metadata": {},
   "source": [
    "The functions dashboard allows us to get an overview of all created Lambda functions, their runtimes and size. Let's create a new Lambda function, now click the Create function button which will open the function creation dashboard. \n",
    "\n",
    "## Creating a function dashboard \n",
    "![](images/create_function_dashboard.png)"
   ]
  },
  {
   "cell_type": "markdown",
   "metadata": {},
   "source": [
    "The function creation dashboard allows the creation of the many types of Lambda functions some are prebuilt and packaged for you by AWS. Have a browse through the prebuilt packages offered by AWS by in the **Use a blueprint** and **Browse serverless app repository** options. These options can be great if you want to quickly deploy a commonly used function such as logging changes to a DynamoDB or retrieving meta data from an updated S3 object.\n",
    "\n",
    "To begin with we will create a simple Lambda function from scratch, select the **Author from scratch** option and name the function hello_world, under Runtime select Python 3.8. Leave the permissions as default and the Advanced Settings as well. The click create function(bottom right). You will then be presented with the function editor dashboard where you can modified your code.\n",
    "\n",
    "## Function editor dashboard\n",
    "\n",
    "![](images/function_editor.png)\n"
   ]
  },
  {
   "cell_type": "markdown",
   "metadata": {},
   "source": [
    "From the function editor dashboard we can edit our functions code, test, deploy, configure and create triggers to run our functions. First let's analyse our Lambda function to understand how the **lambda_handler** is defined.\n",
    "\n",
    "## The Lambda Handler\n",
    "\n",
    "### How it works"
   ]
  },
  {
   "cell_type": "code",
   "execution_count": null,
   "metadata": {},
   "outputs": [],
   "source": [
    "#This is the general syntax to define a Lambda function handler.\n",
    "\n",
    "# def handler_name(event, context): \n",
    "#      ...\n",
    "#     return some_value"
   ]
  },
  {
   "cell_type": "markdown",
   "metadata": {},
   "source": [
    "The lambda function handler is the method in your code that processes the events sent to your lambda function. Once the handler is executed and returns a response or exits the handler becomes avaliable to handle another event.\n"
   ]
  },
  {
   "cell_type": "code",
   "execution_count": null,
   "metadata": {},
   "outputs": [],
   "source": [
    "# Our current event handler function\n",
    "\n",
    "import json\n",
    "\n",
    "def lambda_handler(event, context):\n",
    "    # TODO implement\n",
    "    return {\n",
    "        'statusCode': 200,\n",
    "        'body': json.dumps('Hello from Lambda!')\n",
    "}"
   ]
  },
  {
   "cell_type": "markdown",
   "metadata": {},
   "source": [
    "When the function invokes the event handler the runtime passes two arguments to function handler **event** and **context**. **Runtime** is the language specific environment your function will run in when being executed. For instance if you select Python 3.8 for your runtime then all code in your Lambda function must be compatible to run in Python 3.8 when deployed.\n",
    "\n",
    "* The first argument **event** takes in an **event object** which is a JSON-formatted document containing the data for your function to process. When you function is run the runtime converts the event to an event object and passes it to the function handler, usually defined as a Python **dict** object. If your function invokes an AWS service then the service will configure the event object for you when invoking the function. <br></br>\n",
    "  \n",
    "* The **context object** provides the function with the methods and properties that provide information about invoking the function and runtime environment."
   ]
  },
  {
   "cell_type": "markdown",
   "metadata": {},
   "source": [
    "The name of your handler function is initialised as `<file_name>.<method_name>`. By default, that is `lambda_function.lambda_handler`. The handler name can be change by going to **Runtime settings > Edit**, though this not commonly done if you decide to rename your `lamnda_function.py` filename then you will need to rename the lambda handler to match."
   ]
  },
  {
   "cell_type": "markdown",
   "metadata": {},
   "source": [
    "## Testing your first Lambda function"
   ]
  },
  {
   "cell_type": "markdown",
   "metadata": {},
   "source": [
    "We will now create a test event to test the function is running as intended. Click the **test** button to create a new test event for our function, note that we can have up to 10 test events per function. Create a new test event and select hello-world as the event template and name the event **name_announcer**."
   ]
  },
  {
   "cell_type": "code",
   "execution_count": null,
   "metadata": {},
   "outputs": [],
   "source": [
    "#AWS provides us with this default hello-world template\n",
    "\n",
    "{\n",
    "  \"key1\": \"value1\",\n",
    "  \"key2\": \"value2\",\n",
    "  \"key3\": \"value3\"\n",
    "}"
   ]
  },
  {
   "cell_type": "markdown",
   "metadata": {},
   "source": [
    "Let's edit the template to product the result we want."
   ]
  },
  {
   "cell_type": "code",
   "execution_count": null,
   "metadata": {},
   "outputs": [],
   "source": [
    "# Change the keys and values values to test your function\n",
    "\n",
    "{\n",
    "  \"First_name\": \"Michael\",\n",
    "  \"Last_name\": \"Scott\",\n",
    "  \"Age\": 30\n",
    "}"
   ]
  },
  {
   "cell_type": "markdown",
   "metadata": {},
   "source": [
    "Now save the test event and configure the lambda function to announce ourselves to the world!"
   ]
  },
  {
   "cell_type": "code",
   "execution_count": null,
   "metadata": {},
   "outputs": [],
   "source": [
    "# Remember the event argument is the argument passing the data into the function handler\n",
    "# so we can reference the items in this dict object to get the required message.\n",
    "\n",
    "import json\n",
    "\n",
    "def lambda_handler(event, context):\n",
    "    message = (f'Hello World, my name is {event[\"First_name\"]} {event[\"Last_name\"]} and my age is {event[\"Age\"]}')\n",
    "    return {\n",
    "         'message' : message\n",
    "    }\n"
   ]
  },
  {
   "cell_type": "markdown",
   "metadata": {},
   "source": [
    "Redeploy the function to update the changes then run the test, if the function executed correctly you should get an output similar to. \n",
    "\n",
    "<img src=images/name_announcer_output.png/>"
   ]
  },
  {
   "cell_type": "markdown",
   "metadata": {},
   "source": [
    "Note that the status is succeeded and we get information on the amount of memory used and how long our function took to execute down to the millisecond!"
   ]
  },
  {
   "cell_type": "markdown",
   "metadata": {},
   "source": [
    "## Lambda Layers"
   ]
  },
  {
   "cell_type": "markdown",
   "metadata": {},
   "source": [
    "So far we have created a simple Lambda function that has no additional dependencies but what if we want to run a function that requires an additional library at runtime. We can do this by creating a **Lambda layer**. Lambda layers allow the use of third party libraries and dependencies in your Lambda function, each function can depend on up to 5 layers. Let's change our current function so that it depends on the Python requests package."
   ]
  },
  {
   "cell_type": "code",
   "execution_count": 14,
   "metadata": {},
   "outputs": [],
   "source": [
    "# importing the requests package so our function depends on it\n",
    "# and get a request from the pokedex website\n",
    "\n",
    "import json\n",
    "import requests as r\n",
    "\n",
    "def lambda_handler(event, context):\n",
    "    message = (f'Hello World, my name is {event[\"First_name\"]} {event[\"Last_name\"]} and my age is {event[\"Age\"]}.')\n",
    "    response = r.get(\"https://www.pokemon.com/uk/pokedex/\")\n",
    "    return {\n",
    "         'message' : message,\n",
    "          # display the requests response\n",
    "         \"body\" : json.dumps(f\"The result of the response request was: {response}\")\n",
    "    }\n"
   ]
  },
  {
   "cell_type": "markdown",
   "metadata": {},
   "source": [
    "Now we need to package the requests library in a specfic format that AWS understands, the specific structure of the Lambda layer can be found [here](https://docs.aws.amazon.com/lambda/latest/dg/configuration-layers.html). Create a new directory named **python** where we will store the dependencies."
   ]
  },
  {
   "cell_type": "code",
   "execution_count": null,
   "metadata": {},
   "outputs": [],
   "source": [
    "# run in your terminal\n",
    "cd python         # change to your python directory\n",
    "pip install -t . requests    # Use the -t flag to install dependencies to this folder\n",
    "rm -r *dist-info __pycache__ # remove unnecessary files"
   ]
  },
  {
   "cell_type": "code",
   "execution_count": null,
   "metadata": {},
   "outputs": [],
   "source": [
    "# run in terminal\n",
    "zip -r layer.zip python"
   ]
  },
  {
   "cell_type": "markdown",
   "metadata": {},
   "source": [
    "Once the layer has been zipped you should be left with the following folder structure i.e all dependencies for the requests library are contained in the python folder. So if you were to unzip the file you would have a folder called python with all the dependencies contained within. "
   ]
  },
  {
   "cell_type": "markdown",
   "metadata": {},
   "source": [
    "```\n",
    "python/\n",
    "├── bin\n",
    "├── certifi\n",
    "├── certifi-2021.5.30.dist-info\n",
    "├── ...\n",
    "├── ...\n",
    "|__ urlib3-1.26.7.dist-info\n",
    "```"
   ]
  },
  {
   "cell_type": "markdown",
   "metadata": {},
   "source": [
    "Now we have the required zip file it needs to be uploaded to AWS. Go to your Lambda dashboard then the **layers section > create layer**. Name the new layer **requests_test** and add the python runtimes for your function, note you can have upto 15 runtimes per layer. Finish creating the layer and it will now be avaliable for use.<br></br>\n",
    "\n",
    "<img src=\"images/lambda_create_layer.png?modified=1345678\"/>"
   ]
  },
  {
   "cell_type": "markdown",
   "metadata": {},
   "source": [
    "Go back to our function `hello_lambda` and update the the code to import requests and get a response from the Pokedex website. Now we just need to add the layer to the function before deploying it. Below the code editor you should see the **Layers** section go to **add a layer**. \n",
    "\n",
    "<img src=\"images/add_layer.png?modified=1345678\"/>"
   ]
  },
  {
   "cell_type": "markdown",
   "metadata": {},
   "source": [
    "Select **Custom layers** and select the requests_test layer your created from the dropdown and the associated version and add the layer. Now redepoy the code and test the function, you should get the result.\n",
    "\n",
    "<img src=\"images/layer_results.png?modified=134678\"/>"
   ]
  },
  {
   "cell_type": "markdown",
   "metadata": {},
   "source": [
    "This is the result we expected the Pokedex website is returning response 200 which is a success response and the message is still being printed. Now we know how to add layers to our Pandas function to add extra functionality."
   ]
  },
  {
   "cell_type": "markdown",
   "metadata": {},
   "source": [
    "## Summary\n",
    "\n",
    "* You learn what a Lambda function is and it's uses.\n",
    "* You learned how to navigte the Lambda function dashboard.\n",
    "* We have create our first Lambda function.\n",
    "* Create layers for our Lambda function to add extra functionality. "
   ]
  }
 ],
 "metadata": {
  "interpreter": {
   "hash": "66a4c1a82e4b740877da9482796a67c3d19e50649dddfb2985c1182127ae3fd0"
  },
  "kernelspec": {
   "display_name": "Python 3.8.11 64-bit ('base': conda)",
   "name": "python3"
  },
  "language_info": {
   "codemirror_mode": {
    "name": "ipython",
    "version": 3
   },
   "file_extension": ".py",
   "mimetype": "text/x-python",
   "name": "python",
   "nbconvert_exporter": "python",
   "pygments_lexer": "ipython3",
   "version": "3.8.11"
  },
  "orig_nbformat": 4
 },
 "nbformat": 4,
 "nbformat_minor": 2
}
