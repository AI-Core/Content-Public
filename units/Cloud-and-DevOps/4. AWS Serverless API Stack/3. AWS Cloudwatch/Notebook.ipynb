{
 "cells": [
  {
   "cell_type": "markdown",
   "metadata": {},
   "source": [
    "# AWS Cloudwatch\n",
    "\n",
    "> Amazon Web Services(AWS) CloudWatch is the monitoring and observability service provided by AWS that allows you to monitor your AWS Resources in real time. CloudWatch monitors your data in the form of logs, events and metrics providing you insight into all your AWS applications and services. You can use CloudWatch to detect undesirable application behaviour, set alarms, visualise logs/metrics, troubleshoot applications and take automated action to keep your services running.\n",
    "\n",
    "For a general overview of CloudWatch you can visit the CloudWatch homepage [here](https://aws.amazon.com/cloudwatch/) and check what is included in the free tier of the service [here](https://aws.amazon.com/cloudwatch/pricing/)."
   ]
  },
  {
   "cell_type": "markdown",
   "metadata": {},
   "source": [
    "### CloudWatch Benefits\n",
    "\n",
    "* Collect logs, metric and events from a large amount of data from your AWS services and have this **information avaliable from a centralised platform**.  \n",
    "* Easily collect metrics from your AWS resources, CloudWatch **seemlessly integrates with over 70 AWS Services** and publishes their metrics.\n",
    "* CloudWatch allows you to **setup alarms and automate actions** based on thresholds or in the case of machine leanring models, unexpected behaviour in your metrics.\n",
    "* You can **explorer, analyse and visualise your logs** allowing you to better troubleshoot any issues with your services reducing downtime.\n"
   ]
  },
  {
   "cell_type": "markdown",
   "metadata": {},
   "source": [
    "## The CloudWatch Dashboard\n",
    "\n",
    "Go to the CloudWatch AWS Services page to begin to create our first dashboard to monitor and observe our services. You will be meet with the main page where we can begin to configure all our alarms, events, logs, metrics, and get an overview if any alarms have been activated from our services.\n",
    "\n",
    "<img src=\"images/main_overview.png?modified=1452131278\" />\n",
    "\n",
    "The Cloud Watch dashboard is your centralised view for you to monitor, observe and assess the health of your resources. Firstly we will need to add some AWS services to monitor the performance of. Setup up an EC2 instance, Lambda function, RDS database and S3 bucket for CloudWatch to monitor you can use a CloudFormation stack to do this quickly. Then create new dashboard by clicking **dashboard > Create dashboard** then name it **Main**. You will then be met with the widget creation pane.\n",
    "\n",
    "<img src=\"images/widget_selection.png?modified=1452131278\" width='700' height='500'/>\n",
    "\n"
   ]
  },
  {
   "cell_type": "markdown",
   "metadata": {},
   "source": [
    "Here we can select the type of widget we would like viewable on our dashboard initially let's create a new line widget to track our running EC2 instance. Select the widget and will be given the option to select whether you would like to view logs or metrics. For now we will create a metrics view and create the widget.\n",
    "\n",
    "<img src=\"images/graph_creation.png?modified=1452131278\" />"
   ]
  },
  {
   "cell_type": "markdown",
   "metadata": {},
   "source": [
    "We can now define what metrics we would like to track for our AWS services dashboard and graph them. Note you can add multiple metrics to the same graph even multiple metrics form different AWS services. Let's add some metrics to track our EC2 instance ultilisation select EC2 and across all instances to track all our EC2 instances. Select **CPUUtilisation**, **NetworkIn** and **NetworkOut** and add them to our graph and rename the graph EC2 Utilisation. Once complete finish adding our widget.\n",
    "\n",
    "Now add more widgets for our S3 bucket and RDS instance, for the S3 bucket add a new bar graph widget for one of your S3 instances to track it's storage metrics. For your RDS database add a new line graph tracking **CPUUtilisation** and **DBLoad**.\n",
    "\n",
    "<img src=\"images/metrics_created.png?modified=1452131278\"/>\n"
   ]
  },
  {
   "cell_type": "markdown",
   "metadata": {},
   "source": [
    "Lastly we'll create a new logs widget to track the logs of a Lambda function we have created. If you haven't done so already create a basic Lambda function to track the status of. Then create new widget on your dashboard and select logs and we can begin to configure the widget. If you haven't done so already create a new Lambda function and run some tests on it so we get some output to it's logs. From the logs page we can select the **logs group** to track which will allow us to track our Lambda function. Below you can see the configuration of how the logs will be output. We can also specify the format of the logs by editing it's query like so.\n"
   ]
  },
  {
   "cell_type": "code",
   "execution_count": null,
   "metadata": {},
   "outputs": [],
   "source": [
    "# configuring the which field to display in our logs \n",
    "fields @timestamp, @message \n",
    "    # we can configure how the logs would be sorted\n",
    " sort @ timestamp desc\n",
    "    # add a limit to the amount of log entries.\n",
    " limit 20"
   ]
  },
  {
   "cell_type": "markdown",
   "metadata": {},
   "source": [
    "Notice when you select log groups AWS will only provide options for the AWS services we can track logs for and you can select multiple services if required. Once you are happy with the configuration and your logs are ouputting correctly create the widget."
   ]
  },
  {
   "cell_type": "markdown",
   "metadata": {},
   "source": [
    "\n",
    "<img src=\"images/configure_logs_widget.png?modified=14531278\"/>"
   ]
  },
  {
   "cell_type": "markdown",
   "metadata": {},
   "source": [
    "Now we should have all the metrics and logs we would like to track in one centralised place! After finishing creating your widgets remember to save the dashboard after creation.\n",
    "\n",
    "<img src=\"images/main_dashboard_config.png?modified=14531278\"/>"
   ]
  },
  {
   "cell_type": "markdown",
   "metadata": {},
   "source": [
    "You can now create multiple dashboards for different metrics if required. You might have a dashboard tracking all your EC2 instances metrics and one for all your RDS databases the configuration is down to your requirements. The service quotas limits for how many widgets and metrics that can be tracked can be found [here](https://docs.aws.amazon.com/AmazonCloudWatch/latest/monitoring/cloudwatch_limits.html). For more options on configuring your dashboard you can check out the AWS CloudWatch dashboard docs [here](https://docs.aws.amazon.com/AmazonCloudWatch/latest/monitoring/CloudWatch_Dashboards.html).\n"
   ]
  },
  {
   "cell_type": "markdown",
   "metadata": {},
   "source": [
    "## Creating alarms for your services\n",
    "\n",
    "Select the alarms section of the CloudWatch services pane from the list on the right hand side and create a new alarm. You will then be given the option of the metric you would like to track. In this case let's create a new alarm which will activate if our Lambda function we co nfigure before has an error. Select **Lambda > By Function Name** then select our function and the metric with the name **Errors** and select the metric. \n",
    "\n",
    "We can now configure the conditions under which the alarm will be activated the options avaliable to us are.\n",
    "\n",
    "* **Statistic:** The statistic which will evaluate all the datapoints with the time period, a full list and details of each statistic can be found [here](https://docs.aws.amazon.com/AmazonCloudWatch/latest/monitoring/Statistics-definitions.html).\n",
    "* **Period:** How often the datapoints will be evaluated.\n",
    "* **Threshold type:** Whether you would like you constraint checked against a constant or within a range of values.\n",
    "* **Additional configuration:** We can choose how many datapoints within the time period cross the threshold and what to do if we have missing datapoints. \n",
    "\n",
    "Setup the alarm as shown in the image and continue to the notifications screen, if you would like more details on configuring your alarm metrics the documentation can be found [here](https://docs.aws.amazon.com/AmazonCloudWatch/latest/monitoring/AlarmThatSendsEmail.html).\n",
    "\n",
    "<img src=\"images/alarm_config.png?modified=11441278\" height='600' width='550'/>"
   ]
  },
  {
   "cell_type": "markdown",
   "metadata": {},
   "source": [
    "We can now setup how to notify people if the alarm is created, activated or in the **OK** state. Select create a new SNS topic here, SNS is the notification service used by AWS. You can read more about SNS on the AWS SNS homepage [here](https://aws.amazon.com/sns/) and check out the developer guide [here](https://docs.aws.amazon.com/sns/latest/dg/welcome.html). Create the new topic and configure your email account to send the alert to when the alarm has breached it's threshold(**In alarm state**), then continue on to describe our alarm. \n",
    "\n",
    "<img src=\"images/alarm_noti_settings.png?modified=1124578\"/>"
   ]
  },
  {
   "cell_type": "markdown",
   "metadata": {},
   "source": [
    "Create a good description of the alarm and give it a name so that other members of your team will be aware of it's function and finish completing the creation of our alarm. Now create another alarm for an EC2 instance in the select metrics pain select **EC2** > **By Image(AMI) Id** > **CPUUtilization** we will configure the metric to alert us once the CPU is over 90% utilization. \n",
    "\n",
    "<img src=\"images/alarm_description.png?modified=1441578\" height='300' width='500'/>"
   ]
  },
  {
   "cell_type": "markdown",
   "metadata": {},
   "source": [
    "Our alarm will now be viewable from the **All alarms** section of the AWS CloudWatch navigation bar. Notice when we select the alarm it is in the state **insufficient data** since we have not run our Lambda function since creating the alarm. Now go to your Lambda function and edit your test configuration so that the function returns an error. Once the alarm updates, remember it will update in 5 minute intervals, the alarm state should turn from **insufficient data** to **In alarm**.\n",
    "\n",
    "<img src=\"images/view_all_alarms.png?modified=11212478\"/>"
   ]
  },
  {
   "cell_type": "markdown",
   "metadata": {},
   "source": [
    "If you would like to test the EC2 CPU load alarm you can use the following command in your Linux EC2 instance. "
   ]
  },
  {
   "cell_type": "code",
   "execution_count": null,
   "metadata": {},
   "outputs": [],
   "source": [
    "# Will load a CPU to 100% utilisation on a Linux machine\n",
    "cat /dev/zero > /dev/null"
   ]
  },
  {
   "cell_type": "markdown",
   "metadata": {},
   "source": [
    "Now our alarms have been created we can continue to monitor them try creating different metrics and alarms and see what you can produce. You can check more about configuring your alarms from the AWS alarms section of the documentation [here](https://docs.aws.amazon.com/AmazonCloudWatch/latest/monitoring/AlarmThatSendsEmail.html)."
   ]
  },
  {
   "cell_type": "markdown",
   "metadata": {},
   "source": [
    "## Log Groups and Log insights\n",
    "\n",
    "### Log Concepts\n",
    "\n",
    "* **Log events** A record of some activity recorded by an application or resource being monitored in AWS. \n",
    "* **Log streams** A sequence of log events the share the same source i.e all log events which happened with a specific AWS Lambda function.\n",
    "* **Log groups** Log groups are groups of log streams which share the same retention, monitoring and access control settings, each log stream needs to belong to a log group. For instance grouping all RDS instance logs into the same group.\n",
    "\n",
    "Read more about log concepts at the following [link](https://docs.aws.amazon.com/AmazonCloudWatch/latest/logs/CloudWatchLogsConcepts.html).\n",
    "\n",
    "Most of the log groups required by you when using AWS CloudWatch will already be preconfigured by the AWS resource of creation. For instance when a Lambda function is created AWS will create an associated log group for it without the need to create a custom group. If you would like more information on creating custom log groups follow [this](https://docs.aws.amazon.com/AmazonCloudWatch/latest/logs/Working-with-log-groups-and-streams.html) link.\n",
    "\n",
    "### Log Insights\n",
    "\n",
    "Log insights allow you to run custom queries for your AWS resources and then export the results to a dashboard or CSV/markdown. Using the **Fields** (right hand side) icon AWS will suggest fields that would be applicable for your log group so you can build custom queries. By selecting **Queries** AWS gives you free  \n",
    "\n",
    "<img src=\"images/log_insights.png?modified=11425616178\"/>\n"
   ]
  },
  {
   "cell_type": "markdown",
   "metadata": {},
   "source": [
    "## Metrics Explorer and Streams\n",
    "\n",
    "Under the **Metrics** heading on the CloudWatch navbar you have three options.\n",
    "\n",
    "* **All metrics** Select an individual metrics to view them in detail and whne required.\n",
    "* **Explorer** View multiple metrics from the same AWS resource or resource group all in one place.\n",
    "* **Streams** Output in real time the data from your metrics to an S3 bucket or AWS Kinese Data Firehose."
   ]
  },
  {
   "cell_type": "markdown",
   "metadata": {},
   "source": [
    "### Metrics Explorer\n",
    "\n",
    "The all metrics option should be familiar to you from when you selected metrics when creating your dashboard. Just select the metrics you would like to view and then they will be graphed and viewable in real time. By selecting explorer we can get an overview of all metrics by an indivdual AWS resource or collection of resources in the same group. Go to the explorer pane and we will get an overview of all metrics of currently running EC2 instances. \n",
    "\n",
    "From the metrics field select **All EC2 Instance metrics**, in the **from** field select **InstanceId** and then **InstanceId: All values (*)** all metrics for the all EC2 instances will then be displayed in the explorer. Notice you also have the option to split the metrics into each individual instance using the **Split by** field. For each metric you can also add all to a dashboard using the **Add to dashboard** button or clicking the three dots(top right corner of metric) you can add individual metrics to a dashboard. The explorer gives you a good overview of all metrics for a resource group allowing you to get good insight into the health of that group. \n",
    "\n",
    "This can be useful when you have different stages for your resources, you might have a production and development staging. So if you tag all your resources accordingly when creating them you could search your resources by **production** or **development** to get a general overview for each stage. More information about using the metrics explorer can be found at the following [link](https://docs.aws.amazon.com/AmazonCloudWatch/latest/monitoring/CloudWatch-Metrics-Explorer.html).\n",
    "\n",
    "<img src=\"images/metrics_explorer.png?modified=1142178\"/>\n"
   ]
  },
  {
   "cell_type": "markdown",
   "metadata": {},
   "source": [
    "### Metrics Streams\n",
    "\n",
    "Metrics streams allow you to create near real time streaming of your metrics to an S3 bucket or an AWS Kinesis Data Firehose. Allowing you to load data directly into data lakes, data stores or analytics services in real time. AWS firehose will scale with the throughput of your data and requires no additional administration. It can batch, compress and transform and encrypt the data stream before being loaded into your service minimising data storage costs. \n",
    "\n",
    "From **streams** pane it is as simple as selecting the resource group you would like to stream or all metrics and selecting whether you would like to metrics streamed to S3 or a FireHose. You can read more about metric streaming at the following [link](https://docs.aws.amazon.com/AmazonCloudWatch/latest/monitoring/CloudWatch-Metric-Streams.html)."
   ]
  },
  {
   "cell_type": "markdown",
   "metadata": {},
   "source": [
    "## Events\n",
    "\n",
    "> CloudWatch events are an almost realtime stream of system events which describe changes in Amazon Web Services(AWS). When a specific event happens you can use a rule to automate the handling of that event with a target function or AWS Service allowing the automation of tasks."
   ]
  },
  {
   "cell_type": "markdown",
   "metadata": {},
   "source": [
    "### Event Concepts\n",
    "\n",
    "* **Events** Events are changes to your AWS environment, AWS services can generate events when their is a change in their state. For instance an EC2 instance being stopped, Lambda function being run or a failed call to an API gateway.\n",
    "* **Rules** A rule is a match to an AWS service event when this event happens the rule will invoke a target service or command to process the event.\n",
    "* **Targets** The target is the serivce or command that the rule will invoke which will handle the processing of the event."
   ]
  },
  {
   "cell_type": "markdown",
   "metadata": {},
   "source": [
    "Click the events **Events** on the AWS CloudWatch and go to **Rules > Create rule** we are now going to create a rule which will relaunch our AWS EC2 instances in the event of them stopping. Configure the rule as shown in the image, you will need to go to EC2 in AWS to get a specific instance ID of the EC2 instance to restart.\n",
    "\n",
    "<img src=\"images/events_config.png?modified=21785463756343\"/>"
   ]
  },
  {
   "cell_type": "markdown",
   "metadata": {},
   "source": [
    "Once complete finish creating the rule with the **configure rules** button and then giving it a description and name and making sure it's state is enabled. Now that your rule is configured since events are run in near real time stop your EC2 instance you defined in the rule and check that the instance was restarted without any intervention. When it comes to events the creation of them will be down to the requirements of your team and orgainisation. They are highly customisable for many services and flexible in their use. For more information on configuring events you can view the documentation [here](https://docs.aws.amazon.com/AmazonCloudWatch/latest/events/WhatIsCloudWatchEvents.html)."
   ]
  },
  {
   "cell_type": "markdown",
   "metadata": {},
   "source": [
    "# Summary\n",
    "\n",
    "* You have learn how to create custom dashboards to track your AWS logs, metrics and alarms in a centralised location.\n",
    "* Configure rules so that when a specific AWS event happens automated action will be taken in relation to the event.\n",
    "* Able to configure the metrics explorer to view multiple resources at once and how to export them to dashboard or CSV/Markdown.\n",
    "* View logs and create custom queries for your AWS service and add them to the dashboard.\n",
    "* Configure alarms for your service and how to view their status and have the status reported to you using email. "
   ]
  }
 ],
 "metadata": {
  "kernelspec": {
   "display_name": "Python 3.9.0 64-bit",
   "language": "python",
   "name": "python3"
  },
  "language_info": {
   "name": "python",
   "version": "3.9.0"
  },
  "orig_nbformat": 4,
  "vscode": {
   "interpreter": {
    "hash": "aee8b7b246df8f9039afb4144a1f6fd8d2ca17a180786b69acc140d282b71a49"
   }
  }
 },
 "nbformat": 4,
 "nbformat_minor": 2
}
