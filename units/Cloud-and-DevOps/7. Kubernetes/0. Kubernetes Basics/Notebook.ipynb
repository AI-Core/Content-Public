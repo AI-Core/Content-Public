{
 "cells": [
  {
   "cell_type": "markdown",
   "metadata": {},
   "source": [
    "# Kubernetes Basics"
   ]
  },
  {
   "cell_type": "markdown",
   "metadata": {},
   "source": [
    "<p align=center><a href=https://kubernetes.io/docs/concepts/overview/what-is-kubernetes/><img src=images/k8s.png width=500></a></p>\n",
    "\n",
    "> <font size=+1>Kubernetes is an open source platform for managing __containerized__ workloads __focused on declarative configuration and automation__</font>\n",
    "\n",
    "When you have to run multiple containers, you can use a long docker run command, or even better, a docker compose. However, when you have to deploy an application that needs to run tens or hundreds of containers, making sure that every single container is healthy and working as expected is a difficult task. This is where Kubernetes (k8s) is going to help us. \n",
    "\n",
    "Kubernetes is going to orchestrate containers. If you need to spin up a lot of containers in a particular configuration, Kubernetes can do that. If a container goes down for any reason, Kubernetes can start a new one to replace it. "
   ]
  },
  {
   "cell_type": "markdown",
   "id": "ba33c6c9",
   "metadata": {},
   "source": [
    "\n",
    "Kubernetes has many benefits and features and allows us to:\n",
    "- Deploy many containers across a Kubernetes cluster\n",
    "    - We have can choose which and how many containers should be deployed.\n",
    "    - How many containers replicas to specify for fault tolerance\n",
    "- __Self-healing__: If a container is down (not responding to health checks) Kubernetes will spin up a new one\n",
    "- __Auto-scaling__: If the given containers are not enough to process all the requirements, Kubernetes can deploy more containers within the cluster. On the other hand, if there are too many resources, Kubernetes can also destroy some of them to keep balance.\n",
    "- __Discoverability__: Each container can be accessed via its name (or IP) and port\n",
    "- __Load Balancing__: The traffic to a single node might be overloaded. So Kubernetes can distribute that load to several nodes.\n",
    "- Storage orchestration - allows us to mount storage (per-node, shared and others) to save/read data"
   ]
  },
  {
   "cell_type": "markdown",
   "metadata": {},
   "source": [
    "In this notebook you will see:\n",
    "- [Kubernetes components](#kubernetes-components) that allow Kubernetes orchestrate the containers\n",
    "- [Kubernetes Objects](#kubernetes-objects) that will allow you to deploy the resources\n",
    "- [How to install Kubernetes](#installing-kubernetes) and `kubectl` which will help you create requests to the Kubernetes API"
   ]
  },
  {
   "cell_type": "markdown",
   "metadata": {},
   "source": [
    "# Kubernetes Components"
   ]
  },
  {
   "cell_type": "markdown",
   "metadata": {},
   "source": [
    "\n",
    "> Kubernetes has __a lot__ of concepts one should be familiar with in order to work with the platform efficiently\n",
    "\n",
    "When we __deploy Kubernetes__ we obtain a cluster with the components shown in the diagram below:\n",
    "\n",
    "![](./images/components-of-kubernetes.svg)\n",
    "\n",
    "## High level components overview\n",
    "\n",
    "- __`Node`s__ - worker machines (__either physical or virtual__) which host a containerized application\n",
    "- __`Pod`s__ - component of the application, __smallest deployable unit of work in `k8s`__. They consist of a group of one or more containers to which Kubernetes is going to have access, so it will be able to orchestrate them\n",
    "- __Control Plane__ - It contains the Kubernetes' orchestrators that manage `node`s and `Pod`s\n",
    "\n",
    "> For the purpose of learning, at the beginning we will just have a single `Node` on the same physical machine as we are working on\n",
    "\n",
    "> In a production environment, the __`Control Plane`__ can span multiple machines for increased fault tolerance\n",
    "\n",
    "> In a production environment, we usually have multiple `Node`s (up to thousands)"
   ]
  },
  {
   "cell_type": "markdown",
   "metadata": {},
   "source": [
    "## Control Plane Components\n",
    "\n",
    "### kube-apiserver\n",
    "\n",
    "> __Exposes `Kubernetes` API using which we can communicate with the cluster__\n",
    "\n",
    "Communication with the cluster can be done via:\n",
    "- `http` requests as `kube-apiserver` provides REST server (__read more about it [here](https://kubernetes.io/docs/concepts/overview/kubernetes-api/)__)\n",
    "- __through command line__:\n",
    "    - `kubectl` - control kubernetes cluster and workload\n",
    "    - `kubeadm` - bootstraps kubernetes clusters (initializing it from config, tearing down etc.)\n",
    "      \n",
    "> __We should almost exclusively use `command line` tools to interact with `kube-apiserver`!__\n",
    "\n",
    "Reasons are:\n",
    "- increased readability\n",
    "- easier automation\n",
    "- `cli` tools handle different internal API version of `k8s` for us\n",
    "\n",
    "### etcd\n",
    "\n",
    "> __`etcd` stores Kubernetes Objects which define the whole cluster__\n",
    "\n",
    "Features:\n",
    "- Data is stored locally on control plane node(s)\n",
    "- __If all of our control planes go down we lose the cluster state__ (and we have to recreate the whole infrastructure a-new)\n",
    "\n",
    "> `etcd` data should be backed in an external storage, check [here](https://kubernetes.io/docs/tasks/administer-cluster/configure-upgrade-etcd/#backing-up-an-etcd-cluster) for more information\n",
    "\n",
    "### kube-scheduler\n",
    "\n",
    "> __Watches newly created `pod`s and assigns them to a `node`__\n",
    "\n",
    "How is the node chosen?\n",
    "- Resource requirements for our `pod`\n",
    "- Applied policies/constraints\n",
    "- Data locality (__move code towards data `spark`__)\n",
    "\n",
    "If you are curious about scheduling pods in more detail check out [this part of documentation](https://kubernetes.io/docs/concepts/scheduling-eviction/assign-pod-node/)\n",
    "\n",
    "### kube-controller-manager\n",
    "\n",
    "> Runs controller processes\n",
    "\n",
    "What is a `control process`?\n",
    "\n",
    "> Loop which watches the cluster (through `apiserver`) and __attempts to move the current state to the desired one__\n",
    "\n",
    "Each controller runs in a separate process, one example could be a `node controller` which responds when node goes down.\n",
    "\n",
    "### cloud-controller-manager\n",
    "\n",
    "> Similar to `kube-controller-manager` __but watches the state of cloud resources__\n",
    "\n",
    "For example, the `node controller` queries our cloud provider to check health of nodes. "
   ]
  },
  {
   "cell_type": "markdown",
   "metadata": {},
   "source": [
    "## Node Components\n",
    "\n",
    "Each node consists of the following:\n",
    "\n",
    "### kubelet\n",
    "\n",
    "> __Ensures appropriate containers are run within `pod` and are healthy__, given a `PodSpec` (a specification we will see later) \n",
    "\n",
    "### kube-proxy\n",
    "\n",
    "> Governs networks rules on nodes. __Enables communication to/from `pod`s within and outside cluster__\n",
    "\n",
    "### Container runtime\n",
    "\n",
    "> The container runtime is the software that is responsible for running containers\n",
    "\n",
    "Some possibilities include:\n",
    "- [`Docker`](https://docs.docker.com/engine/) (which we already know)\n",
    "- [`containerd`](https://containerd.io/docs/) - simple container runtime (alternative to `Docker`)\n",
    "\n",
    "Any project which fulfills [Kubernetes CRI specification](https://github.com/kubernetes/community/blob/master/contributors/devel/sig-node/container-runtime-interface.md) "
   ]
  },
  {
   "cell_type": "markdown",
   "metadata": {},
   "source": [
    "# Kubernetes Objects"
   ]
  },
  {
   "cell_type": "markdown",
   "metadata": {},
   "source": [
    "\n",
    "> <font size=+1>Kubernetes objects are persistent entities in `k8s` system which represent the DESIRED STATE of the cluster</font>\n",
    "\n",
    "Basically, you will create your Kubernetes resources from these Kubernetes objects. We are going to see how to create these objects using declarative commands, but you can also use imperative commands to manage the objects (Take a look a this [link](https://kubernetes.io/docs/tasks/manage-kubernetes-objects/imperative-command/) to see how).\n",
    "\n",
    "Using objects we can describe:\n",
    "- What applications to use and where (which node) to run these applications on.\n",
    "- How applications behave (e.g. when to restart, delete, upgrade)\n",
    "- Resources available to applications\n",
    "\n",
    "In order to create them __we have to request `kubelet-apiserver`'s API__!\n",
    "\n",
    "As mentioned previously, instead of directly sending REST requests we can (and will) use `kubectl` for that. But before _requesting_ the creation of resources, we need to describe the object we want to create.\n"
   ]
  },
  {
   "cell_type": "markdown",
   "metadata": {},
   "source": [
    "## Describing Kubernetes objects\n",
    "\n",
    "Kubernetes is a \"low level\" platform, on top of which other projects reside; consider it \"_a programming language for deployment_\". Kubernetes is going to use __declarative programming__, meaning we are going to define the end result we want, rather than specifying the steps we want it to take.\n",
    "\n",
    "> <font size=+1> Kubernetes uses declarative programming to describe state of the whole system </font>\n",
    "\n",
    "<br>\n",
    "\n",
    "<details>\n",
    "    <summary> <font size=+1>Click here to see the difference between Imperative and Declarative</font> </summary>\n",
    "\n",
    "<br>\n",
    "\n",
    "> Using imperative programming (or configuration) __we define each necessary step to get to the result__\n",
    "\n",
    "Some examples could be:\n",
    "- Create variable `x` and assign value `1` to it\n",
    "- Scrape data from the website and get appropriate `<image>` tag\n",
    "- Pass image through a function to produce a probability that it contains a logo\n",
    "\n",
    "> Using declarative programming (or configuration) __we describe the desired state of system without describing the steps__\n",
    "\n",
    "Respectively for the examples above:\n",
    "- I want variable `x` with value `1` assigned to it\n",
    "- I want the `<image>` out of this website\n",
    "- I want a probability of the image containing a logo\n",
    "\n",
    "</details>\n",
    "\n",
    "As the API is RESTful we can include `JSON` description of object.\n",
    "\n",
    "__This way is supported, although hard to maintain__\n",
    "\n",
    "> __What we can do instead is use more readable `YAML` to specify our objects and let `kubectl` transform the representation to `JSON`__\n",
    "\n",
    "Let's see an example object configuration and describe the fields:"
   ]
  },
  {
   "cell_type": "markdown",
   "metadata": {
    "ExecuteTime": {
     "end_time": "2021-08-17T21:26:18.283113Z",
     "start_time": "2021-08-17T21:26:17.145589Z"
    }
   },
   "source": [
    "```\n",
    "# configuration file stored in deployment_example.yaml\n",
    "\n",
    "apiVersion: apps/v1\n",
    "kind: Deployment\n",
    "metadata:\n",
    "  # Unique key of the Deployment instance\n",
    "  name: deployment-example\n",
    "spec:\n",
    "  # 3 Pods should exist at all times.\n",
    "  replicas: 3\n",
    "  selector:\n",
    "    matchLabels:\n",
    "      app: nginx\n",
    "  template:\n",
    "    metadata:\n",
    "      labels:\n",
    "        # Apply this label to pods and default\n",
    "        # the Deployment label selector to this value\n",
    "        app: nginx\n",
    "    spec:\n",
    "      containers:\n",
    "      - name: nginx\n",
    "        # Run this image\n",
    "        image: nginx:1.14\n",
    "```"
   ]
  },
  {
   "cell_type": "markdown",
   "metadata": {},
   "source": [
    "- `apiVersion` - specifies `k8s` API version. Depending on the application you want to deploy, you might need to use a different API version. \n",
    "- `kind` - Kind of object we want to create (we will talk about it later during __Workloads__)\n",
    "- `metadata` - Uniquely defines the object, usually using `name` field\n",
    "\n",
    "> <font size=+1>[Take a look at the Kuberenetes' documentation](https://kubernetes.io/docs/reference/generated/kubernetes-api/v1.22/#-strong-api-overview-strong-) for the API version you need based on the resource you are going to use</font>\n",
    "\n",
    "For example, in the declarative code above, we have a Deployment resource. In the documentation, you can look at the Deployment API to find out that you would need the `apps/v1` API version\n",
    "\n",
    "<p align=center><img src=images/Deployment.png></p>"
   ]
  },
  {
   "cell_type": "markdown",
   "metadata": {},
   "source": [
    "## spec\n",
    "\n",
    "> __`spec` describes the DESIRED characteristics of our resource__\n",
    "\n",
    "This is provided by the user, and, in this case, tells the `kubernetes` platform that:\n",
    "- Every `Pod` which has a label `app` with name `nginx` with the kind `Deployment` (__described later__)\n",
    "- Three replica `Pod`s should be run on the cluster.\n",
    "- Each one should be created from a `template` which:\n",
    "    - Gives `app` label with a value `nginx`\n",
    "    - `spec`ifies it is created from a single container which will be named `nginx` (for discoverability)\n",
    "    - Uses `image` `nginx:1.14`\n",
    "\n",
    "In the [API documentation](https://kubernetes.io/docs/reference/generated/kubernetes-api/v1.22/#-strong-api-overview-strong-) you can see what `spec`s you can specify for a resource. \n",
    "\n",
    "<p align=center><img src=images/Deployment_Spec.png width=600></p>\n",
    "\n",
    "The same way you can see what `spec`s you can specify, you can also refer to the parameters that you can give to the `status` of the resource\n",
    "\n",
    "## status\n",
    "\n",
    "> __`status` describes the CURRENT state of the resource__\n",
    "\n",
    "__While we provide `spec`, `status` is updated internally by `kubernetes`__\n",
    "\n",
    "Providing `status` has the following benefits:\n",
    "- Allows users to query the current status of the deployment\n",
    "- __Allows controllers to act based on the current `status`__ and drive the objects toward the desired state\n",
    "\n",
    "### Desired vs Actual state\n",
    "\n",
    "A little digression:\n",
    "\n",
    "> __Do not worry about `actual` state, because our cluster might never reach it !__\n",
    "\n",
    "As long as `controllers` are continuously running everything is fine.\n",
    "\n",
    "Discrepancy between current and desired state might happen due to plethora of reasons, e.g: \n",
    "\n",
    "- Frequent updates of `config` files (`kubernetes` had no time to act accordingly to our changes)\n",
    "- We are handling hundreds of nodes and our change hasn't being propagated yet\n",
    "- Random node failures (`kubernetes` will reinstantiate necessary `Pod`s) "
   ]
  },
  {
   "cell_type": "markdown",
   "metadata": {},
   "source": [
    "## Creating and managing objects\n",
    "\n",
    "Now that we have our object described we should communicate to `kube-apiserver` we want it created.\n",
    "\n",
    "There are `3` techniques to do that:\n",
    "\n",
    "- __Imperative commands__ - operates on existing objects __via commands__ (discouraged!)\n",
    "- __Imperative object configuration__ - operate on individual files\n",
    "- __Declarative object configuration__ - works on directories of files\n",
    "\n",
    "> __Approaches should not be mixed together as it may result in `undefined behavior`!__\n",
    "\n",
    "As mentioned above, we are going to focus on the `declarative` approach. You can have a look at this [link](https://kubernetes.io/docs/tasks/manage-kubernetes-objects/imperative-command/) to see how to use imperative commands"
   ]
  },
  {
   "cell_type": "markdown",
   "metadata": {},
   "source": [
    "## Declarative object configuration\n",
    "\n",
    "> Specify configuration files, __but do not specify the operation which should be performed__\n",
    "\n",
    "`create`, `update`, `delete` operations are __automatically picked up__ by Kubernetes engine.\n",
    "\n",
    "Pros of this approach:\n",
    "- __We can easily work on directories of `config` files__ - all of them will be `applied` appropriately\n",
    "- __Different configs allow us to handle more objects__\n",
    "- __Only two commands needed__\n",
    "- We don't have to replace the whole configuration we only need to patch the required parts\n",
    "\n",
    "To check which operations will be applied we can run:"
   ]
  },
  {
   "cell_type": "markdown",
   "metadata": {},
   "source": [
    "```\n",
    "kubectl diff -f ./configs\n",
    "\n",
    "kubectl diff -R -f ./configs  # Recursively find all `.yaml` files\n",
    "```"
   ]
  },
  {
   "cell_type": "markdown",
   "metadata": {},
   "source": [
    "Once we verify that parsed configs brings the cluster into the desired state, one can run:"
   ]
  },
  {
   "cell_type": "markdown",
   "metadata": {},
   "source": [
    "```\n",
    "kubectl apply -R -f ./configs # R for recursive\n",
    "```"
   ]
  },
  {
   "cell_type": "markdown",
   "metadata": {},
   "source": [
    "The downside of using declarative commands are:\n",
    "- That they might be harder to debug (especially when starting out with `k8s`)\n",
    "- The complexity of operations hidden under the hood"
   ]
  },
  {
   "cell_type": "markdown",
   "metadata": {},
   "source": [
    "This was a lot to process! Maybe a few examples can make everything a little bit more clear. Let's install Kubernetes to see it in action!"
   ]
  },
  {
   "cell_type": "markdown",
   "metadata": {},
   "source": [
    "# Installing Kubernetes"
   ]
  },
  {
   "cell_type": "markdown",
   "metadata": {},
   "source": [
    "You can run commands to deploy Kubernetes resources on the cloud using `kubectl`. On the other hand if you want to deploy your resources in your local machine and make experiments, you can use `minikube`. We will install both applications, so you can learn how to deploy your Kubernetes resources without worrying about launching cloud resources. However, we will see some examples on how to deploy these Kubernetes objects on the cloud, so you start getting familiar with the industrial environment. "
   ]
  },
  {
   "cell_type": "markdown",
   "metadata": {},
   "source": [
    "## `kubectl`"
   ]
  },
  {
   "cell_type": "markdown",
   "metadata": {},
   "source": [
    "`kubectl` allows you to deploy your applications by setting up Kubernetes resources from your command line interface. \n",
    "\n",
    "<details>\n",
    "    <summary> For Linux Users </summary>\n",
    "\n",
    "You can simply run the following commands in your terminal:\n",
    "```\n",
    "curl -LO \"https://dl.k8s.io/release/$(curl -L -s https://dl.k8s.io/release/stable.txt)/bin/linux/amd64/kubectl\"\n",
    "curl -LO \"https://dl.k8s.io/$(curl -L -s https://dl.k8s.io/release/stable.txt)/bin/linux/amd64/kubectl.sha256\"\n",
    "echo \"$(<kubectl.sha256) kubectl\" | sha256sum --check\n",
    "sudo install -o root -g root -m 0755 kubectl /usr/local/bin/kubectl\n",
    "```\n",
    "If you had any error during the installation, you can refer to the [Kubernetes website](https://kubernetes.io/docs/tasks/tools/install-kubectl-linux/) \n",
    "</details>\n",
    "\n",
    "<details>\n",
    "    <summary> For Mac Users </summary>\n",
    "\n",
    "You can simply use `homebrew` to install it:\n",
    "```\n",
    "brew install kubectl \n",
    "```\n",
    "If you had any error during the installation, you can refer to the [Kubernetes website](https://kubernetes.io/docs/tasks/tools/install-kubectl-linux/) \n",
    "</details>\n",
    "\n",
    "<details>\n",
    "    <summary> For Windows Users </summary>\n",
    "\n",
    "Install the latest release running the following command\n",
    "```\n",
    "curl -LO \"https://dl.k8s.io/release/v1.22.0/bin/windows/amd64/kubectl.exe\"\n",
    "```\n",
    "Move the directory containing `kubectl.exe` to your PATH.\n",
    "Important, if you have installed Docker Desktop, by default, it will come with its own `kubectl` version. Make sure the one you downloaded in above Docker in your PATH. For example, in my case I have it installed in `C:\\Users\\yingy`, so it is above the Docker location:\n",
    "<p align=center><img src=images/kubectl_path.png width=300></p>\n",
    "</details>\n",
    "\n",
    "Once installed, regardless of the OS, run the following command to check that everything is installed correctly:\n",
    "\n",
    "`kubectl version --client`"
   ]
  },
  {
   "cell_type": "markdown",
   "metadata": {},
   "source": [
    "We will see more examples on `kubectl` during the next lessons, however, it is important to knwo that the syntax looks like this:\n",
    "```\n",
    "kubectl [command] [TYPE] [NAME] [flags]\n",
    "```\n",
    "- `command`: specifies operation one wants to perform (e.g. `get`, `describe`)\n",
    "- `TYPE`: specifies resource type; __case in-sensitive, works with abbreviations and plurals__\n",
    "\n",
    "For example: `kubectl get namespace` does the same as `kubectl get ns`. Also `kubectl get pods` does the same as `kubectl get po`\n",
    "\n",
    "- `NAME`: specifies name of the resource; __can be ommitted, if so, will return everything__ (e.g. `kubectl get pods` as seen above)"
   ]
  },
  {
   "cell_type": "markdown",
   "metadata": {},
   "source": [
    "Below the most useful ones are provided, full list can be seen [here](https://kubernetes.io/docs/reference/kubectl/overview/#in-cluster-authentication-and-namespace-overrides)\n",
    "\n",
    "When working using imperative commands, you usually will find two main commands:\n",
    "\n",
    "- `kubectl annotate` could be described via `.yaml` config for specific `type`\n",
    "- `kubectl create` should not be used, `kubectl apply` and declarative config files are prefferred\n",
    "\n",
    "However, we will focus on the declarative commands that are shown below:"
   ]
  },
  {
   "cell_type": "markdown",
   "metadata": {},
   "source": [
    "## Core commands\n"
   ]
  },
  {
   "cell_type": "markdown",
   "metadata": {},
   "source": [
    "### __apply__\n",
    "\n",
    "> __Apply configuration change to a `resource`__\n",
    "\n",
    "Using this command, after starting `cluster` (e.g. with `minikube` for local development or `kubeadm` for real deployment) __we can configure the cluster according to our liking__.\n",
    "\n",
    "> This is the preferred way of managment\n",
    "\n",
    "Important flags we will often use:\n",
    "- `-R` - __recursively read `config` files within a directory__\n",
    "- `-f` - filename (__or directory, usually__) to read `config` from"
   ]
  },
  {
   "cell_type": "markdown",
   "metadata": {},
   "source": [
    "### __diff__\n",
    "\n",
    "`diff` checks what changes will be applied to `cluster` desired state. One should always run this command before `apply`ing configuration!\n",
    "\n",
    "```\n",
    "kubectl diff -f -R FILENAME [flags]\n",
    "```\n"
   ]
  },
  {
   "cell_type": "markdown",
   "metadata": {},
   "source": [
    "### __get__\n",
    "\n",
    "`get` lists one or more resources. It allows us to get basic information about `k8s` objects.\n",
    "\n",
    "```bash\n",
    "kubectl get (-f FILENAME | TYPE [NAME | /NAME | -l label]) [--watch] [--sort-by=FIELD] [[-o | --output]=OUTPUT_FORMAT] [flags]\n",
    "```\n"
   ]
  },
  {
   "cell_type": "markdown",
   "metadata": {},
   "source": [
    "### __describe__\n",
    "\n",
    "`describe` displays the state of one or more resources. It allows us to easily get an overview of the resource(s)\n",
    "\n",
    "```bash\n",
    "kubectl describe (-f FILENAME | TYPE [NAME_PREFIX | /NAME | -l label]) [flags]\n",
    "```\n",
    "\n",
    "As previously:\n",
    "- One can specify `file`(s) which describe the desired state __in order to get the current one__\n",
    "- We can specify `TYPE`, `NAME` and other identifying resources for this command\n"
   ]
  },
  {
   "cell_type": "markdown",
   "metadata": {},
   "source": [
    "## Helpful debugging Commands"
   ]
  },
  {
   "cell_type": "markdown",
   "metadata": {},
   "source": [
    "### __attach__\n",
    "\n",
    "`attach` is used to read a container's `stdout` and/or interact with its `stdin`\n",
    "\n",
    "```bash\n",
    "kubectl attach POD -c CONTAINER [-i] [-t] [flags]\n",
    "```\n",
    "\n",
    "Works just like `docker attach`, __useful for debugging__\n"
   ]
  },
  {
   "cell_type": "markdown",
   "metadata": {},
   "source": [
    "### __cp__\n",
    "\n",
    "`cp` copies files from to/from containers\n",
    "\n",
    "```bash\n",
    "kubectl cp <file-spec-src> <file-spec-dest> [options]\n",
    "```\n",
    "\n",
    "it is useful for debugging to disk output of container(s)\n"
   ]
  },
  {
   "cell_type": "markdown",
   "metadata": {},
   "source": [
    "### __exec__\n",
    "\n",
    "This command `exec`utes a command against `container` within a pod\n",
    "\n",
    "```bash\n",
    "kubectl exec POD [-c CONTAINER] [-i] [-t] [flags] [-- COMMAND [args...]]\n",
    "```\n",
    "\n",
    "Useful for debugging container state"
   ]
  },
  {
   "cell_type": "markdown",
   "metadata": {},
   "source": [
    "## `minikube`"
   ]
  },
  {
   "cell_type": "markdown",
   "metadata": {},
   "source": [
    " [`minikube`](https://minikube.sigs.k8s.io/docs/start/) makes the process of learning Kubernetes easy from your local machine. If you already have installed Docker in your local computer, you should be able to install.\n",
    "\n",
    "<details>\n",
    "    <summary> For Linux Users </summary>\n",
    "\n",
    "You can simply run the following commands in your terminal:\n",
    "```\n",
    "curl -LO https://storage.googleapis.com/minikube/releases/latest/minikube-linux-amd64\n",
    "sudo install minikube-linux-amd64 /usr/local/bin/minikube\n",
    "```\n",
    "and that would do it!\n",
    "</details>\n",
    "\n",
    " <details>\n",
    "    <summary> For Mac Users </summary>\n",
    "\n",
    "You can simply run the following commands in your terminal:\n",
    "```\n",
    "curl -LO https://storage.googleapis.com/minikube/releases/latest/minikube-darwin-amd64\n",
    "sudo install minikube-darwin-amd64 /usr/local/bin/minikube\n",
    "```\n",
    "If that doesn't work, you will need to use `homebrew`:\n",
    "```\n",
    "brew install minikube\n",
    "```\n",
    "_If which minikube fails after installation via brew, you may have to remove the old minikube links and link the newly installed binary_\n",
    "```\n",
    "brew unlink minikube\n",
    "brew link minikube\n",
    "```\n",
    "</details>\n",
    "<details>\n",
    "    <summary> For Windows Users </summary>\n",
    "\n",
    "You can download the .exe file here: https://storage.googleapis.com/minikube/releases/latest/minikube-installer.exe\n",
    "After installing it, run PowerShell as Administrator to add the binary to your `PATH`:\n",
    "```\n",
    "$oldPath = [Environment]::GetEnvironmentVariable('Path', [EnvironmentVariableTarget]::Machine)\n",
    "if ($oldPath.Split(';') -inotcontains 'C:\\minikube'){ `\n",
    "  [Environment]::SetEnvironmentVariable('Path', $('{0};C:\\minikube' -f $oldPath), [EnvironmentVariableTarget]::Machine) `\n",
    "}\n",
    "```\n",
    "</details>\n",
    "\n",
    "Make sure you installed correctly running `minikube --help`. You might need to close and open the terminal that you used to run any command."
   ]
  },
  {
   "cell_type": "markdown",
   "metadata": {},
   "source": [
    "Whichever OS you used, you can run `minikube start`. This will create a Kubernetes `config` file to tell Kubernetes (or `kubectl`) where to start deploying the Kubernetes resources. __You can change this config file in case you want to deploy the resources to a Cloud Infrastructure__"
   ]
  },
  {
   "cell_type": "markdown",
   "metadata": {},
   "source": [
    "We can check the config context using the following command"
   ]
  },
  {
   "cell_type": "code",
   "execution_count": 4,
   "metadata": {},
   "outputs": [
    {
     "name": "stdout",
     "output_type": "stream",
     "text": [
      "CURRENT   NAME       CLUSTER    AUTHINFO   NAMESPACE\n",
      "*         minikube   minikube   minikube   default\n"
     ]
    }
   ],
   "source": [
    "!kubectl config get-contexts"
   ]
  },
  {
   "cell_type": "markdown",
   "metadata": {},
   "source": [
    "You can see that, indeed, we are using the cluster provided by `minikube`. In the configuration file (usually located in `~/.kube`), you can find this information and check that they are consistent with the information obtained:\n",
    "\n",
    "<p align=center><img src=images/config_minikube.png width=500></p>"
   ]
  },
  {
   "cell_type": "markdown",
   "metadata": {},
   "source": [
    "One thing that you can observe from the information above is that the namespace is `default`. Namespaces are virtual clusters within physical cluster. Namespaces should be used for most of our tasks and should group semantically similar `k8s` objects. \n",
    "\n",
    "> <font size=+1>Namespaces provide a scope for names. Names of resources need to be unique within a namespace, but not across namespaces</font>\n",
    "\n",
    "By default, when you start `minikube` or when you change the kubeconfig file, kubernetes is going to create four namespaces. You can take a look at them by running the following command:"
   ]
  },
  {
   "cell_type": "code",
   "execution_count": 5,
   "metadata": {},
   "outputs": [
    {
     "name": "stdout",
     "output_type": "stream",
     "text": [
      "NAME              STATUS   AGE\n",
      "default           Active   143m\n",
      "kube-node-lease   Active   143m\n",
      "kube-public       Active   143m\n",
      "kube-system       Active   143m\n"
     ]
    }
   ],
   "source": [
    "!kubectl get namespace"
   ]
  },
  {
   "cell_type": "markdown",
   "metadata": {},
   "source": [
    "You can learn more about namespaces in this [link](https://kubernetes.io/docs/concepts/overview/working-with-objects/namespaces/). For now, what you need to know is that each namespace contains different resources. You can take a look at, for example, the pods inside the `kube-system` namespace"
   ]
  },
  {
   "cell_type": "code",
   "execution_count": 8,
   "metadata": {},
   "outputs": [
    {
     "name": "stdout",
     "output_type": "stream",
     "text": [
      "NAME                               READY   STATUS    RESTARTS       AGE    IP             NODE       NOMINATED NODE   READINESS GATES\n",
      "coredns-78fcd69978-8j8hz           1/1     Running   0              170m   172.17.0.2     minikube   <none>           <none>\n",
      "etcd-minikube                      1/1     Running   0              170m   192.168.49.2   minikube   <none>           <none>\n",
      "kube-apiserver-minikube            1/1     Running   0              170m   192.168.49.2   minikube   <none>           <none>\n",
      "kube-controller-manager-minikube   1/1     Running   0              170m   192.168.49.2   minikube   <none>           <none>\n",
      "kube-proxy-w2pt7                   1/1     Running   0              170m   192.168.49.2   minikube   <none>           <none>\n",
      "kube-scheduler-minikube            1/1     Running   0              170m   192.168.49.2   minikube   <none>           <none>\n",
      "storage-provisioner                1/1     Running   1 (169m ago)   170m   192.168.49.2   minikube   <none>           <none>\n"
     ]
    }
   ],
   "source": [
    "!kubectl -n kube-system get pods -o wide"
   ]
  },
  {
   "cell_type": "markdown",
   "metadata": {},
   "source": [
    "One thing we mentioned at the beginning of the notebook is that, if a Kubernetes resource goes down, Kubernetes will try its best to spin it up again. Let's try it by deleting one pod"
   ]
  },
  {
   "cell_type": "code",
   "execution_count": 18,
   "metadata": {},
   "outputs": [
    {
     "name": "stdout",
     "output_type": "stream",
     "text": [
      "pod \"kube-proxy-w2pt7\" deleted\n"
     ]
    }
   ],
   "source": [
    "!kubectl -n kube-system delete pod kube-proxy-w2pt7 "
   ]
  },
  {
   "cell_type": "markdown",
   "metadata": {},
   "source": [
    "If we take a look at the pods again:"
   ]
  },
  {
   "cell_type": "code",
   "execution_count": 20,
   "metadata": {},
   "outputs": [
    {
     "name": "stdout",
     "output_type": "stream",
     "text": [
      "NAME                               READY   STATUS    RESTARTS   AGE\n",
      "coredns-78fcd69978-8j8hz           1/1     Running   0          175m\n",
      "etcd-minikube                      1/1     Running   0          175m\n",
      "kube-apiserver-minikube            1/1     Running   0          175m\n",
      "kube-controller-manager-minikube   1/1     Running   0          175m\n",
      "kube-proxy-jb22b                   1/1     Running   0          77s\n",
      "kube-scheduler-minikube            1/1     Running   0          175m\n",
      "storage-provisioner                1/1     Running   0          13s\n"
     ]
    }
   ],
   "source": [
    "!kubectl -n kube-system get pods"
   ]
  },
  {
   "cell_type": "markdown",
   "metadata": {},
   "source": [
    "Awesome! It looks like it's up and running again. Finally let's observe the resources we have using a nice User Interface. Minikube has a dashboard that we can initialize by running:\n",
    "```\n",
    "minikube dashboard\n",
    "```\n",
    "And this is what we will see (after selecting `all namespaces` in the dropdown menu)\n",
    "\n",
    "<p><img src=images/minikube_dashboard.png></p>"
   ]
  },
  {
   "cell_type": "markdown",
   "metadata": {},
   "source": [
    "Take a moment to look at all the resources you can see on the left hand side (Workloads, Service, Config and Storage...). During the next lessons you will learn how to create (the most important of) them.\n",
    "\n",
    "For now, the resources you learnt during this notebook are a good introduction of how kubernetes work, and how you can deploy your Kubernetes resources from the command line interface."
   ]
  },
  {
   "cell_type": "markdown",
   "metadata": {},
   "source": [
    "## Connect to an AWS EKS"
   ]
  },
  {
   "cell_type": "markdown",
   "metadata": {},
   "source": [
    "You can create an Elastic Kubernetes Service in Amazon to deploy your Kubernetes resources to a Cloud Infrastructure. This way not only you will run your own application, you will be able to run AWS services in an orchestrated way using clusters. If you don't want to deploy your Kubernetes resources to the cloud, you can skip the rest of this notebook and start working locally.\n",
    "\n",
    "<font size=+1>__The following steps require you to launch an instance that is not free! If you want to continue, be advised that you will need to deploy an instance that costs, at least, 0.0104 USD/hour__</font>\n",
    "\n",
    "The first step will be creating an Amazon VPC that meets the EKS requirements. In your console, you can run the following command:"
   ]
  },
  {
   "cell_type": "markdown",
   "metadata": {},
   "source": [
    "```\n",
    "aws cloudformation create-stack \\\n",
    "  --region us-west-2 \\\n",
    "  --stack-name <your_stack_name> \\\n",
    "  --template-url https://amazon-eks.s3.us-west-2.amazonaws.com/cloudformation/2020-10-29/amazon-eks-vpc-private-subnets.yaml\n",
    "```"
   ]
  },
  {
   "cell_type": "markdown",
   "metadata": {},
   "source": [
    "In the example above, you are creating the VPC in us-west-2 region (Oregon), but you can choose any EKS supported region. Take a look at this [link](https://docs.aws.amazon.com/general/latest/gr/eks.html) to learn more about it. In this example, we are using `my-eks-vpc-stack` as `<your_stack_name>`"
   ]
  },
  {
   "cell_type": "markdown",
   "metadata": {},
   "source": [
    "Now we need to create an IAM role, you can do it from the console or from the AWS console. Let's do it in our local machine. In this [link](https://aicore-files.s3.amazonaws.com/Cloud-DevOps/eks_policy.json), you will see a JSON file called `eks_policy.json`. This policy allows EKS to make calls to other AWS services. Using this policy we can create the role\n",
    "```\n",
    "aws iam create-role --role-name <your_role_name> --assume-role-policy-document file://\"eks_policy.json\"\n",
    "```\n",
    "In our example we are using `AiCoreEKSClusterRole` as `<your_role_name>`. Now, attach this policy to the role:\n",
    "```\n",
    "aws iam attach-role-policy --policy-arn arn:aws:iam::aws:policy/AmazonEKSClusterPolicy --role-name <your_role_name>\n",
    "```\n",
    "Make sure the role name is consistent!"
   ]
  },
  {
   "cell_type": "markdown",
   "metadata": {},
   "source": [
    "\n",
    "Go to your AWS portal and search for EKS\n",
    "\n",
    "<p align=center><img src=images/EKS.png width=600></p>\n",
    "\n",
    "And click on add cluster. Make sure you are in the right region. In the example we established the policy in us-west-2, which corresponds to Oregon\n",
    "\n",
    "<p align=center><img src=images/EKS_2.png width=600></p>"
   ]
  },
  {
   "cell_type": "markdown",
   "metadata": {},
   "source": [
    "In the next window, give a name your cluster and select the IAM role you just created:\n",
    "\n",
    "<p align=center><img src=images/EKS_3.png width=600></p>"
   ]
  },
  {
   "cell_type": "markdown",
   "metadata": {},
   "source": [
    "Press Next, and in the specify networking section, select the VPC you created before:\n",
    "<p align=center><img src=images/EKS_4.png width=600></p>"
   ]
  },
  {
   "cell_type": "markdown",
   "metadata": {},
   "source": [
    "Leave the remaining values to their default, and click Create. "
   ]
  },
  {
   "cell_type": "markdown",
   "metadata": {},
   "source": [
    "Once created you can use the `aws` command in your command line, and type:\n",
    "```\n",
    "aws eks --region <your-region> update-kubeconfig --name <name_of_your_cluster>\n",
    "```\n",
    "This will automatically change your config file (`~/.kube`). After running it, this is what I obtain:"
   ]
  },
  {
   "cell_type": "code",
   "execution_count": 1,
   "metadata": {},
   "outputs": [
    {
     "name": "stdout",
     "output_type": "stream",
     "text": [
      "CURRENT   NAME                                                        CLUSTER                                                     AUTHINFO                                                    NAMESPACE\n",
      "*         arn:aws:eks:us-west-2:168573745887:cluster/aicore-cluster   arn:aws:eks:us-west-2:168573745887:cluster/aicore-cluster   arn:aws:eks:us-west-2:168573745887:cluster/aicore-cluster   \n",
      "          minikube                                                    minikube                                                    minikube                                                    default\n"
     ]
    }
   ],
   "source": [
    "!kubectl config get-contexts"
   ]
  },
  {
   "cell_type": "markdown",
   "metadata": {},
   "source": [
    "We still need to grant permission to Kubernetes service accounts to access the resources. Thus, we need to create an IAM OpenID Connect (OIDC) provider. This will be used so that Kubernetes service accounts can access AWS resources.\n",
    "\n",
    "To do so, go to your cluster, click `Configuration`, and then `Details`\n",
    "\n",
    "<p align=center><img src=images/EKS_5.png width=700></p>\n",
    "\n",
    "Copy the OpenID Connect provider URL, and go to the IAM console: [https://console.aws.amazon.com/iam/](https://console.aws.amazon.com/iam/)\n",
    "\n",
    "In the Identity Providers section, click on Add Provider\n",
    "\n",
    "<p align=center><img src=images/EKS_6.png width=700></p>\n",
    "\n",
    "- For Provider Type, choose OpenID Connect.\n",
    "\n",
    "- For Provider URL, paste the OIDC provider URL for your cluster, and then choose Get thumbprint.\n",
    "\n",
    "- For Audience, enter `sts.amazonaws.com` and choose Add provider.\n"
   ]
  },
  {
   "cell_type": "markdown",
   "metadata": {},
   "source": [
    "If you want to run AWS services, you need to create a Node. Mainly, you have two alternatives, Fargate and Managed nodes:\n",
    "1. Fargate: In case you want to run applications on AWS Fargate\n",
    "2. Managed nodes: In case you want to run applications on EC2 instances\n",
    "\n",
    "In this notebook we will create a managed node, but if you want to see how to create a Fargate node, you can look at this [webpage](https://aws.amazon.com/es/fargate/)\n",
    "\n",
    "First, you will need to create a new role for the VPC Container Network Interface (CNI) plugin for Kubernetes. This plugin assigns an IP address from your VPC to each pod. \n",
    "In this [link](https://aicore-files.s3.amazonaws.com/Cloud-DevOps/cni_policy.json), you will see a `cni_policy.json` file that looks like this:\n",
    "```\n",
    "{\n",
    "  \"Version\": \"2012-10-17\",\n",
    "  \"Statement\": [\n",
    "    {\n",
    "      \"Effect\": \"Allow\",\n",
    "      \"Principal\": {\n",
    "        \"Federated\": \"<Your ARN>\"\n",
    "      },\n",
    "      \"Action\": \"sts:AssumeRoleWithWebIdentity\",\n",
    "      \"Condition\": {\n",
    "        \"StringEquals\": {\n",
    "          \"<Your Provider>:sub\": \"system:serviceaccount:kube-system:aws-node\"\n",
    "        }\n",
    "      }\n",
    "    }\n",
    "  ]\n",
    "}\n",
    "```"
   ]
  },
  {
   "cell_type": "markdown",
   "metadata": {},
   "source": [
    "Make sure you change `<Your ARN>` and `<Your Provider>` with your corresponding credentials from the OIDC you created before:\n",
    "\n",
    "<p align=center><img src=images/EKS_7.png width=700></p>"
   ]
  },
  {
   "cell_type": "markdown",
   "metadata": {},
   "source": [
    "In your console run the following command to create a new role:\n",
    "```\n",
    "aws iam create-role --role-name <role_name> --assume-role-policy-document file://\"cni_policy.json\"\n",
    "```\n",
    "In this example, we substituted `<role_name>` for `AiCoreEKSCNIRole`. Now, attach the CNI policy to the created role:\n",
    "```\n",
    "aws iam attach-role-policy --policy-arn arn:aws:iam::aws:policy/AmazonEKS_CNI_Policy --role-name <role_name>\n",
    "```\n",
    "Next, associate the Kubernetes service account used by the VPC CNI to the IAM role you just created:\n",
    "```\n",
    "aws eks update-addon --region <your_region> --cluster-name <your_cluster> --addon-name vpc-cni --service-account-role-arn arn:aws:iam::<your_account_number>:role/<role_name>\n",
    "```\n"
   ]
  },
  {
   "cell_type": "markdown",
   "id": "f82809b4",
   "metadata": {},
   "source": [
    "\n",
    "You need to create a node IAM role, so the AWS EKS `kubelet` can make calls on our behalf. You will use the `node_policy.json` file in this [link](https://aicore-files.s3.amazonaws.com/Cloud-DevOps/node_policy.json):\n",
    "```\n",
    "aws iam create-role --role-name <node_role_name> --assume-role-policy-document file://\"node_policy.json\"\n",
    "```\n",
    "We used `AiCoreEKSNodeRole` for the `<noe_role_name>`. And as always, attach the necessary policies to this role:\n",
    "```\n",
    "aws iam attach-role-policy --policy-arn arn:aws:iam::aws:policy/AmazonEKSWorkerNodePolicy --role-name <node_role_name>\n",
    "\n",
    "aws iam attach-role-policy --policy-arn arn:aws:iam::aws:policy/AmazonEC2ContainerRegistryReadOnly --role-name <node_role_name>\n",
    "```"
   ]
  },
  {
   "cell_type": "markdown",
   "metadata": {},
   "source": [
    "In your cluster, go to `Configuration` and then `Compute` to add a Node Group:\n",
    "<p align=center><img src=images/EKS_8.png width=600></p>"
   ]
  },
  {
   "cell_type": "markdown",
   "metadata": {},
   "source": [
    "Give a name to your node, and select the IAM role you created:\n",
    "\n",
    "<p align=center><img src=images/EKS_9.png width=600></p>"
   ]
  },
  {
   "cell_type": "markdown",
   "metadata": {},
   "source": [
    "In the `Set compute and scaling configuration` is where you will have to deploy a paid instance. You can use the instance you want, in this example we went with the `t3.medium`. <font size=+1>Once the example is finished, make sure to clean up everything!</font>\n",
    "\n",
    "In case you don't have a key-pair in the region you specified, you will need one now. You can quickly create one with the following command:\n",
    "```\n",
    "aws ec2 create-key-pair --region <your_region> --key-name <key_name> --output text > <key_name>.pem\n",
    "```\n",
    "In this example, we used `aicore-key` as `<key_name>`\n",
    "\n",
    "Coming back to the Node configuration, in `Specify networking` enable the `Configure SSH access to nodes` and select the key pair you have (or you have just created)\n",
    "\n",
    "<p align=center><img src=images/EKS_10.png width=700></p>"
   ]
  },
  {
   "cell_type": "markdown",
   "metadata": {},
   "source": [
    "Once created, you will be able to see the resources in your cluster, and the Workload that your cluster have deployed:\n",
    "\n",
    "<p align=center><img src=images/EKS_10.png width=600></p>\n",
    "<p align=center><img src=images/EKS_11.png width=600></p>"
   ]
  },
  {
   "cell_type": "markdown",
   "metadata": {},
   "source": [
    "Inside each node, you can see the pods that have been created, as well as the events that take place related to that node:\n",
    "\n",
    "<p align=center><img src=images/EKS_13.png width=600></p>\n",
    "<p align=center><img src=images/EKS_14.png width=600></p>"
   ]
  },
  {
   "cell_type": "markdown",
   "metadata": {},
   "source": [
    "With this, you will be able to deploy your AWS applications in EC2 instances using clusters. However, during these notebooks, we are going to focus on learning how to use Kubernetes, so we __will use Minikube for that purpose__."
   ]
  },
  {
   "cell_type": "markdown",
   "metadata": {},
   "source": [
    "## Clean Up\n",
    "\n",
    "Before wrapping up, make sure to clean up all the resources you set up! You can simply delete the nodes, and then the cluster containing these nodes.\n",
    "\n",
    "<p align=center><img src=images/EKS_15.png width=600></p>"
   ]
  },
  {
   "cell_type": "markdown",
   "metadata": {},
   "source": [
    "Once deleted, you can delete the whole cluster.\n",
    "\n",
    "Also (just in case) delete the VPC you created. Go to https://console.aws.amazon.com/cloudformation and select the VPC you created to delete it. \n",
    "You can do the same with the IAM role you created: https://console.aws.amazon.com/iam/"
   ]
  },
  {
   "cell_type": "markdown",
   "metadata": {},
   "source": [
    "# Challenges\n",
    "\n",
    "> ### You should try these challenges after finishing all of the `kubernetes` related lessons!\n",
    "\n",
    "It will make your progress substantially faster.\n",
    "\n",
    "\n",
    "## Mandatory\n",
    "\n",
    "- What are [addons](https://kubernetes.io/docs/concepts/overview/components/#addons) in Kubernetes ecosystem? Which one is necessary?\n",
    "- Check out [kustomize](https://kubernetes.io/blog/2018/05/29/introducing-kustomize-template-free-configuration-customization-for-kubernetes/) (available via `kubectl`). What are the use cases for it? \n",
    "- See additional ways to match `POD`s to specific `Node`s [here](https://kubernetes.io/docs/concepts/scheduling-eviction/assign-pod-node/)\n",
    "- Check out [`CronJob` workload resource](https://kubernetes.io/docs/concepts/workloads/controllers/cron-jobs/). Make sure you understand the concept and `cron` syntax included.\n",
    "\n",
    "## Additional\n",
    "\n",
    "- Check out [Kubernetes API Conventions](https://github.com/kubernetes/community/blob/master/contributors/devel/sig-architecture/api-conventions.md) to get deeper understanding of Kubernetes Objects and internals of the project.\n",
    "- What are the alternatives to `minikube`? What is `kind` or `k3s`? What are upsides/downsides of using them?\n",
    "- Check out [Client Libraries](https://kubernetes.io/docs/reference/using-api/client-libraries/) (which allow us to communicate with `kubelet-apiserver` via certain programming languages). Check out [Python Client Library](https://github.com/kubernetes-client/python/). Which task could you automate using it?\n",
    "- Check out [imperative commands way to manage `k8s` objects](https://kubernetes.io/docs/concepts/overview/working-with-objects/object-management/#imperative-commands), __but don't use it!__ What are the downsides due to which we did not describe it?\n",
    "- Read more about [TTL (time to live) Controller](https://kubernetes.io/docs/concepts/workloads/controllers/ttlafterfinished/).\n",
    "- Read about [canary `Deployment`s](https://kubernetes.io/docs/concepts/cluster-administration/manage-deployment/#canary-deployments)\n",
    "- Read about [`Job` template expansion](https://kubernetes.io/docs/tasks/job/parallel-processing-expansion/)\n",
    "- What are `DaemonSet` tolerations?"
   ]
  }
 ],
 "metadata": {
  "interpreter": {
   "hash": "ad8bebc098a042dc0df4e42fc2ecc8fff0bd7b8741641ce29007c29766dadbe0"
  },
  "kernelspec": {
   "display_name": "Python 3.9.1 64-bit ('base': conda)",
   "name": "python3"
  },
  "language_info": {
   "codemirror_mode": {
    "name": "ipython",
    "version": 3
   },
   "file_extension": ".py",
   "mimetype": "text/x-python",
   "name": "python",
   "nbconvert_exporter": "python",
   "pygments_lexer": "ipython3",
   "version": "3.9.1"
  }
 },
 "nbformat": 4,
 "nbformat_minor": 5
}
