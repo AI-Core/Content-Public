{
 "cells": [
  {
   "cell_type": "markdown",
   "metadata": {},
   "source": [
    "# Kubernetes Basics"
   ]
  },
  {
   "cell_type": "markdown",
   "metadata": {},
   "source": [
    "<p align=center><a href=https://kubernetes.io/docs/concepts/overview/what-is-kubernetes/><img src=images/k8s.png width=500></a></p>\n",
    "\n",
    "## Introduction\n",
    "> <font size=+1>Kubernetes is an open-source platform for managing __containerized__ workloads __focused on declarative configuration and automation__</font>\n",
    "\n",
    "In order to run multiple containers, a long docker run command or docker compose (preferable in this case) is required. However, when an application that needs to run tens or hundreds of containers is deployed, the health and working condition of every container must be assured, which is a difficult task. This is where Kubernetes (k8s) thrives. \n",
    "\n",
    "Kubernetes orchestrates containers. It is capable of spinning up many containers in a particular configuration. Additionally, if a container goes down for any reason, Kubernetes can initiate a new one as a replacement. "
   ]
  },
  {
   "cell_type": "markdown",
   "id": "ba33c6c9",
   "metadata": {},
   "source": [
    "## Benefits\n",
    "Kubernetes has many benefits and features\n",
    "\n",
    "- __Multiple-container deployment:__ Kubernetes enables the deployment of many containers across a cluster.\n",
    "    - The user chooses which and how many containers should be deployed.\n",
    "    - The user also specifies the number of container replicas for fault tolerance.\n",
    "- __Self-healing:__ If a container is down, i.e. not responding to health checks, Kubernetes will spin up a replacement.\n",
    "- __Auto-scaling:__ If the given containers are not enough to process all the requirements, Kubernetes can deploy more containers within the cluster. Conversely, if the resources are in excess, Kubernetes can destroy some to maintain balance.\n",
    "- __Discoverability:__ Each container can be accessed by its name (or IP) and port.\n",
    "- __Load balancing:__ If a single node is overloaded by high traffic, Kubernetes distributes the load among several nodes.\n",
    "- __Storage orchestration:__ Kubernetes allows us to mount storage volumes (per node, shared and others) to save/read data."
   ]
  },
  {
   "cell_type": "markdown",
   "id": "edcbdf13",
   "metadata": {},
   "source": [
    "In this lesson, we cover\n",
    "- [Kubernetes components](#kubernetes-components), which allow Kubernetes to orchestrate containers.\n",
    "- [Kubernetes objects](#kubernetes-objects), which facilitates the deployment of resources.\n",
    "- [How to install Kubernetes](#installing-kubernetes) and `kubectl`, which facilitates the creation of requests to the Kubernetes API."
   ]
  },
  {
   "cell_type": "markdown",
   "metadata": {},
   "source": [
    "## Kubernetes Components"
   ]
  },
  {
   "cell_type": "markdown",
   "metadata": {},
   "source": [
    "> Kubernetes has __many__ concepts, and an adequate understanding of these concepts is essential for working with the platform efficiently.\n",
    "\n",
    "When __Kubernetes__ is deployed, a cluster is created with the components shown in the diagram below:\n",
    "\n",
    "![](./images/components-of-kubernetes.svg)\n",
    "\n",
    "### High-level components overview\n",
    "\n",
    "- __`Node`s__: worker machines (__either physical or virtual__) that host a containerised application.\n",
    "- __`Pod`__: a component of the application; the __smallest deployable unit of work in `k8s`__. Pods consist of a group of one or more containers. These Pods are accessible to Kubernetes for container orchestration.\n",
    "- __Control plane__: contains the Kubernetes' orchestrators that manage `node`s and `Pod`s.\n",
    "\n",
    "> For learning, initially, we will work with a single `Node` on one physical machine.\n",
    "\n",
    "> In a production environment, the __`Control Plane`__ can span multiple machines for increased fault tolerance, and there are usually multiple `Node`s (up to thousands)."
   ]
  },
  {
   "cell_type": "markdown",
   "metadata": {},
   "source": [
    "### Control plane components\n",
    "\n",
    "#### kube-apiserver\n",
    "\n",
    "> __Exposes the `Kubernetes` API, which facilitates communication with the cluster.__\n",
    "\n",
    "Communication with the cluster can be achieved via\n",
    "- `http` requests, as the `kube-apiserver` provides a REST server (__read more about it [here](https://kubernetes.io/docs/concepts/overview/kubernetes-api/)__).\n",
    "- __the command line__:\n",
    "    - `kubectl` controls kubernetes cluster and workload.\n",
    "    - `kubeadm` bootstraps kubernetes clusters (initialising it from config, tearing down, etc.).\n",
    "      \n",
    "> __Note that `command line` tools are almost exclusively preferred for interacting with the `kube-apiserver`.__\n",
    "\n",
    "This is to ensure\n",
    "- increased readability,\n",
    "- easy automation,\n",
    "- the easy handling of different internal API versions of `k8s`.\n",
    "\n",
    "#### etcd\n",
    "\n",
    "> __`etcd` stores Kubernetes objects that define the whole cluster.__\n",
    "\n",
    "*Features*\n",
    "- Data is stored locally on the control plane node(s).\n",
    "- __If all the control planes go down, we lose the cluster state;__ consequently, the whole infrastructure must be recreated.\n",
    "\n",
    "> `etcd` data should be backed up in an external storage device. For more information, check [here](https://kubernetes.io/docs/tasks/administer-cluster/configure-upgrade-etcd/#backing-up-an-etcd-cluster).\n",
    "\n",
    "#### kube-scheduler\n",
    "\n",
    "> __This handles newly created `pod`s and assigns them to a `node`.__\n",
    "\n",
    "*Node selection*\n",
    "The node is selected based on the\n",
    "- resource requirements for the `pod`.\n",
    "- applied policies/constraints.\n",
    "- data locality (__move code towards data `spark`__).\n",
    "\n",
    "For detailed information regarding pod scheduling, check out [this part of the documentation](https://kubernetes.io/docs/concepts/scheduling-eviction/assign-pod-node/).\n",
    "\n",
    "#### kube-controller-manager\n",
    "\n",
    "> This runs controller processes.\n",
    "\n",
    "A controller process is a loop that watches the cluster (through `apiserver`) and __attempts to move the current state to the desired one.__\n",
    "\n",
    "Each controller runs in a separate process. One example could be a `node controller` that responds when a node goes down.\n",
    "\n",
    "#### cloud-controller-manager\n",
    "\n",
    "This is similar to `kube-controller-manager`; however, it __watches the state of cloud resources.__\n",
    "\n",
    "For example, the `node controller` queries the cloud provider to examine the health of nodes."
   ]
  },
  {
   "cell_type": "markdown",
   "metadata": {},
   "source": [
    "### Node components\n",
    "\n",
    "Each node consists of the following:\n",
    "\n",
    "#### kubelet\n",
    "\n",
    "> __Ensures that appropriate containers are run within the `pod` and are healthy__, given a `PodSpec` (a specification that will be discussed later). \n",
    "\n",
    "#### kube-proxy\n",
    "\n",
    "> Governs the network rules on nodes. __Enables two-way communication with `pod`s within and outside the cluster.__\n",
    "\n",
    "#### Container runtime\n",
    "\n",
    "> Software that is responsible for running containers.\n",
    "\n",
    "Options include\n",
    "- [`Docker`](https://docs.docker.com/engine/).\n",
    "- [`containerd`](https://containerd.io/docs/), which is a simple container runtime (alternative to `Docker`).\n",
    "\n",
    "For more information on projects that fulfill Kubernetes CRI specifications, check [here](https://github.com/kubernetes/community/blob/master/contributors/devel/sig-node/container-runtime-interface.md) "
   ]
  },
  {
   "cell_type": "markdown",
   "metadata": {},
   "source": [
    "## Kubernetes Objects"
   ]
  },
  {
   "cell_type": "markdown",
   "metadata": {},
   "source": [
    "> <font size=+1>Kubernetes objects are persistent entities in the `k8s` system that represent the DESIRED STATE of the cluster.</font>\n",
    "\n",
    "Basically, Kubernetes resources are created from Kubernetes objects. \n",
    "\n",
    "### Creating Kubernetes objects\n",
    "\n",
    "Here, we learn how to create these objects using declarative commands; however, imperative commands can also be used to manage objects (For more information on this, visit this [link](https://kubernetes.io/docs/tasks/manage-kubernetes-objects/imperative-command/)).\n",
    "\n",
    "Using objects, we can describe\n",
    "- what applications to use and where (which node) to run these applications.\n",
    "- the behaviour of the applications (e.g. when to restart, delete, upgrade, etc).\n",
    "- what resources are available to the applications.\n",
    "\n",
    "To create them, a request must be made to the __`kubelet-apiserver`'s__ __API.__\n",
    "\n",
    "As mentioned previously, instead of directly sending REST requests, we can (and will) use `kubectl`. However, before _requesting_ the creation of resources, we must describe the object to be created.\n"
   ]
  },
  {
   "cell_type": "markdown",
   "metadata": {},
   "source": [
    "### Describing Kubernetes objects\n",
    "\n",
    "Kubernetes is a 'low-level' platform, on top of which other projects reside. Consider it as '_a programming language for deployment_'. Kubernetes employs __declarative programming__, meaning that the result is specified, rather than the steps required.\n",
    "\n",
    "> <font size=+1> Kubernetes uses declarative programming to describe the state of the whole system. </font>\n",
    "\n",
    "<br>\n",
    "\n",
    "<details>\n",
    "    <summary> <font size=+1>Click here to see the difference between imperative and declarative programming.</font> </summary>\n",
    "\n",
    "<br>\n",
    "\n",
    "> Using imperative programming (or configuration), __we can define each necessary step for achieving the desired result.__\n",
    "\n",
    "Examples include the following:\n",
    "- Create variable `x`, and assign it the value of `1`.\n",
    "- Scrape data from a website, and retrieve an appropriate `<image>` tag.\n",
    "- Pass the image through a function to calculate the probability that it contains a logo.\n",
    "\n",
    "> Using declarative programming (or configuration), __we describe the desired state of a system without describing the required steps.__\n",
    "\n",
    "Examples include the following:\n",
    "- I want variable `x` with the value of `1` assigned to it.\n",
    "- I want an `<image>` tag taken out of this website.\n",
    "- I want the probability that the image contains a logo.\n",
    "\n",
    "</details>\n",
    "\n",
    "Since the API is RESTful, we can include a `JSON` description of the object.\n",
    "\n",
    "__Although this approach is supported, it is difficult to maintain.__\n",
    "\n",
    "> __An alternative approach is to use a more readable `YAML` to specify the objects, and allow `kubectl` to transform the representation into `JSON` format.__\n",
    "\n",
    "An example object configuration, as well as a description of the fields, is provided below:"
   ]
  },
  {
   "cell_type": "markdown",
   "metadata": {
    "ExecuteTime": {
     "end_time": "2021-08-17T21:26:18.283113Z",
     "start_time": "2021-08-17T21:26:17.145589Z"
    }
   },
   "source": [
    "```\n",
    "# configuration file stored in deployment_example.yaml\n",
    "\n",
    "apiVersion: apps/v1\n",
    "kind: Deployment\n",
    "metadata:\n",
    "  # Unique key of the Deployment instance\n",
    "  name: deployment-example\n",
    "spec:\n",
    "  # 3 Pods should exist at all times.\n",
    "  replicas: 3\n",
    "  selector:\n",
    "    matchLabels:\n",
    "      app: nginx\n",
    "  template:\n",
    "    metadata:\n",
    "      labels:\n",
    "        # Apply this label to pods and default\n",
    "        # the Deployment label selector to this value\n",
    "        app: nginx\n",
    "    spec:\n",
    "      containers:\n",
    "      - name: nginx\n",
    "        # Run this image\n",
    "        image: nginx:1.14\n",
    "```"
   ]
  },
  {
   "cell_type": "markdown",
   "metadata": {},
   "source": [
    "- `apiVersion`: specifies the `k8s` API version. Depending on the application to be deployed, you may need to use a different API version. \n",
    "- `kind`: the kind of object to be created (this will be explored in __Workloads__).\n",
    "- `metadata`: uniquely defines the object, usually using the `name` field.\n",
    "\n",
    "> <font size=+1>To determine the appropriate API version based on the resources to be used, check out Kuberenetes' documentation [here](https://kubernetes.io/docs/reference/generated/kubernetes-api/v1.22/#-strong-api-overview-strong-). </font>\n",
    "\n",
    "For example, in the declarative code above, a Deployment resource can be observed. In the documentation, you can check the Deployment API and determine that you would need the `apps/v1` API version.<br><br>\n",
    "\n",
    "<p align=center><img src=images/Deployment.png></p>"
   ]
  },
  {
   "cell_type": "markdown",
   "metadata": {},
   "source": [
    "### spec\n",
    "\n",
    "> __`spec` describes the DESIRED characteristics of the resource.__\n",
    "\n",
    "This is provided by the user, and, in this case, informs the `kubernetes` platform\n",
    "- of every `Pod` with the label `app`, the name `nginx` and the kind `Deployment` (__described later__).\n",
    "- that three replica `Pod`s should be run on the cluster.\n",
    "- that each one should be created from a `template` that\n",
    "    - assigns the `app` label with the value `nginx`.\n",
    "    - `spec`ifies that it is created from a single container, which will be named `nginx` (for discoverability).\n",
    "    - uses `image` `nginx:1.14`.\n",
    "\n",
    "In the [API documentation](https://kubernetes.io/docs/reference/generated/kubernetes-api/v1.22/#-strong-api-overview-strong-), you can view the available `spec`s for resources. \n",
    "\n",
    "<p align=center><img src=images/Deployment_Spec.png width=600></p>\n",
    "\n",
    "Similarly, you can also view the parameters that can be passed to the `status` of the resource.\n",
    "\n",
    "### status\n",
    "\n",
    "> __`status` describes the CURRENT state of the resource.__\n",
    "\n",
    "__While the user provides `spec`, `status` is updated internally by `kubernetes`.__\n",
    "\n",
    "*Benefits of providing `status`*\n",
    "- Allows users to query the current status of the deployment.\n",
    "- __Allows controllers to act based on the current `status`__ and drive the objects towards the desired state.\n",
    "\n",
    "### Desired vs actual state\n",
    "\n",
    "> __It is worth noting that clusters may never reach the  `actual` state.__\n",
    "\n",
    "Provided that `controllers` run continuously, everything should work well.\n",
    "\n",
    "Discrepancies between the current and desired states may occur for a plethora of reasons, including\n",
    "\n",
    "- frequent updates of the `config` files (`kubernetes` delays the implementation of changes).\n",
    "- the delayed propagation of changes due to the significantly high number of nodes handled.\n",
    "- random node failures (although `kubernetes` will reinstantiate the necessary `Pod`s)."
   ]
  },
  {
   "cell_type": "markdown",
   "metadata": {},
   "source": [
    "### Creating and managing objects\n",
    "\n",
    "Having described an object, the next step involves communicating to `kube-apiserver` to create it.\n",
    "\n",
    "There are `three` approaches for doing this:\n",
    "\n",
    "- __Imperative commands__: operates on existing objects __via commands__ (discouraged!).\n",
    "- __Imperative object configuration__: operates on individual files.\n",
    "- __Declarative object configuration__: operates on directories.\n",
    "\n",
    "> __Important! These approaches should not be mixed, as it may result in `undefined behavior`.__\n",
    "\n",
    "As mentioned above, we will focus on the `declarative` approach. For information on how to use imperative commands, visit this [link](https://kubernetes.io/docs/tasks/manage-kubernetes-objects/imperative-command/)."
   ]
  },
  {
   "cell_type": "markdown",
   "metadata": {},
   "source": [
    "### Declarative object configuration\n",
    "\n",
    "> This involves specifying the configuration files, __but not the operation that should be performed.__\n",
    "\n",
    "The `create`, `update` and `delete` operations are __automatically selected__ by the Kubernetes engine.\n",
    "\n",
    "*Pros*\n",
    "- __It is easy to work on directories of `config` files__; the changes will `apply` to all the files appropriately.\n",
    "- __Different configs allow us to handle more objects.__\n",
    "- __Only two commands are needed.__\n",
    "- We do not have to replace the whole configuration; we only need to patch the required parts.\n",
    "\n",
    "To confirm which operations will be applied, run"
   ]
  },
  {
   "cell_type": "markdown",
   "metadata": {},
   "source": [
    "```\n",
    "kubectl diff -f ./configs\n",
    "\n",
    "kubectl diff -R -f ./configs  # Recursively find all `.yaml` files\n",
    "```"
   ]
  },
  {
   "cell_type": "markdown",
   "metadata": {},
   "source": [
    "Once we verify that the parsed configs drive the cluster to the desired state, one can run"
   ]
  },
  {
   "cell_type": "markdown",
   "metadata": {},
   "source": [
    "```\n",
    "kubectl apply -R -f ./configs # R for recursive\n",
    "```"
   ]
  },
  {
   "cell_type": "markdown",
   "metadata": {},
   "source": [
    "*Cons*\n",
    "- They might be relatively difficult to debug (particularly when starting with `k8s`).\n",
    "- High complexity of the operations behind the scenes."
   ]
  },
  {
   "cell_type": "markdown",
   "id": "780acfdf",
   "metadata": {},
   "source": [
    "This was a lot to process! Maybe a few examples can make everything a little bit more clear. Let's install Kubernetes to see it in action!"
   ]
  },
  {
   "cell_type": "markdown",
   "metadata": {},
   "source": [
    "## Installing Kubernetes"
   ]
  },
  {
   "cell_type": "markdown",
   "metadata": {},
   "source": [
    "Using `kubectl`, we can run commands to deploy Kubernetes resources on the cloud. Conversely, if you intend to deploy resources on your local machine and conduct experiments, use `minikube`. We will install both applications to help you learn how to deploy Kubernetes resources without worrying about launching cloud resources. Note, however, that we will consider some examples of how to deploy Kubernetes objects on the cloud."
   ]
  },
  {
   "cell_type": "markdown",
   "metadata": {},
   "source": [
    "### `kubectl`"
   ]
  },
  {
   "cell_type": "markdown",
   "metadata": {},
   "source": [
    "`kubectl` allows you to deploy applications by setting up Kubernetes resources from the CLI. \n",
    "\n",
    "<details>\n",
    "    <summary> For Linux Users </summary>\n",
    "\n",
    "Simply run the following commands in your terminal:\n",
    "```\n",
    "curl -LO \"https://dl.k8s.io/release/$(curl -L -s https://dl.k8s.io/release/stable.txt)/bin/linux/amd64/kubectl\"\n",
    "curl -LO \"https://dl.k8s.io/$(curl -L -s https://dl.k8s.io/release/stable.txt)/bin/linux/amd64/kubectl.sha256\"\n",
    "echo \"$(<kubectl.sha256) kubectl\" | sha256sum --check\n",
    "sudo install -o root -g root -m 0755 kubectl /usr/local/bin/kubectl\n",
    "```\n",
    "If you encounter any error during the installation, refer to the [Kubernetes website](https://kubernetes.io/docs/tasks/tools/install-kubectl-linux/). \n",
    "</details>\n",
    "\n",
    "<details>\n",
    "    <summary> For Mac Users </summary>\n",
    "\n",
    "Simply use `homebrew` for the installation:\n",
    "```\n",
    "brew install kubectl \n",
    "```\n",
    "If you encounter any error during the installation, refer to the [Kubernetes website](https://kubernetes.io/docs/tasks/tools/install-kubectl-linux/) \n",
    "</details>\n",
    "\n",
    "<details>\n",
    "    <summary> For Windows Users </summary>\n",
    "\n",
    "Install the latest release by running the following command:\n",
    "```\n",
    "curl -LO \"https://dl.k8s.io/release/v1.22.0/bin/windows/amd64/kubectl.exe\"\n",
    "```\n",
    "Move the directory containing `kubectl.exe` to your PATH.\n",
    "\n",
    ">Important! By default, Docker Desktop comes with its own `kubectl` version. Ensure that the version you downloaded is above Docker in your PATH. For example, in our case, we have it installed in `C:\\Users\\yingy`; thus, it is above the Docker location.\n",
    "<p align=center><img src=images/kubectl_path.png width=300></p>\n",
    "</details>\n",
    "\n",
    "Once installed, regardless of the OS, run the following command to ascertain that everything has been correctly installed:\n",
    "\n",
    "`kubectl version --client`"
   ]
  },
  {
   "cell_type": "markdown",
   "metadata": {},
   "source": [
    "More examples on `kubectl` will be provided in subsequent lessons. However, knowledge of the syntax is important:\n",
    "```\n",
    "kubectl [command] [TYPE] [NAME] [flags]\n",
    "```\n",
    "- `command`: specifies the operation to be performed (e.g. `get`, `describe`).\n",
    "- `TYPE`: specifies the resource type; __it is case insensitive and works with abbreviations and plurals.__\n",
    "\n",
    "For example, `kubectl get namespace` performs the same task as `kubectl get ns`. Additionally, `kubectl get pods` performs the same task as `kubectl get po`.\n",
    "\n",
    "- `NAME`: specifies the name of the resource; __if omitted, it will return everything__ (e.g. `kubectl get pods`, as shown above)."
   ]
  },
  {
   "cell_type": "markdown",
   "metadata": {},
   "source": [
    "The most useful ones are provided below. For the full list, check [here](https://kubernetes.io/docs/reference/kubectl/overview/#in-cluster-authentication-and-namespace-overrides).\n",
    "\n",
    "There are two main commands when working with imperative commands:\n",
    "\n",
    "- `kubectl annotate`, which can be described via `.yaml` config for a specific `type`.\n",
    "- `kubectl create`, which should not be used (`kubectl apply` and declarative config files are preferred)."
   ]
  },
  {
   "cell_type": "markdown",
   "metadata": {},
   "source": [
    "### Core commands\n"
   ]
  },
  {
   "cell_type": "markdown",
   "metadata": {},
   "source": [
    "#### __apply__\n",
    "\n",
    "> __Apply configuration change to a `resource`.__\n",
    "\n",
    "Using this command, after starting `cluster` (e.g. with `minikube` for local development or `kubeadm` for real deployment), __we can configure the cluster to our liking.__\n",
    "\n",
    "> This is the preferred management approach:\n",
    "\n",
    "*Important flags*\n",
    "- `-R`: __recursively read `config` files within a directory.__\n",
    "- `-f`: filename (__or directory usually__) to read `config` from."
   ]
  },
  {
   "cell_type": "markdown",
   "metadata": {},
   "source": [
    "#### __diff__\n",
    "\n",
    "`diff` checks what changes will be applied to the `cluster` desired state. This command should always be run before `apply`ing the configuration.\n",
    "\n",
    "```\n",
    "kubectl diff -f -R FILENAME [flags]\n",
    "```\n"
   ]
  },
  {
   "cell_type": "markdown",
   "metadata": {},
   "source": [
    "#### __get__\n",
    "\n",
    "`get` lists one or more resources. It allows us to obtain basic information on `k8s` objects.\n",
    "\n",
    "```bash\n",
    "kubectl get (-f FILENAME | TYPE [NAME | /NAME | -l label]) [--watch] [--sort-by=FIELD] [[-o | --output]=OUTPUT_FORMAT] [flags]\n",
    "```\n"
   ]
  },
  {
   "cell_type": "markdown",
   "metadata": {},
   "source": [
    "#### __describe__\n",
    "\n",
    "`describe` displays the state of one or more resources. It allows us to easily obtain an overview of the resource(s).\n",
    "\n",
    "```bash\n",
    "kubectl describe (-f FILENAME | TYPE [NAME_PREFIX | /NAME | -l label]) [flags]\n",
    "```\n",
    "\n",
    "As previously stated,\n",
    "- the `file`(s) that describe the desired state can be specified __to obtain the current one.__\n",
    "- the `TYPE`, `NAME` and other identifying resources can be specified for this command.\n"
   ]
  },
  {
   "cell_type": "markdown",
   "metadata": {},
   "source": [
    "### Helpful debugging commands"
   ]
  },
  {
   "cell_type": "markdown",
   "metadata": {},
   "source": [
    "#### __attach__\n",
    "\n",
    "`attach` is used to read a container's `stdout` and/or interact with its `stdin`.\n",
    "\n",
    "```bash\n",
    "kubectl attach POD -c CONTAINER [-i] [-t] [flags]\n",
    "```\n",
    "\n",
    "It works similarly to `docker attach` and is __useful for debugging.__\n"
   ]
  },
  {
   "cell_type": "markdown",
   "metadata": {},
   "source": [
    "#### __cp__\n",
    "\n",
    "`cp` copies files from to/from containers.\n",
    "\n",
    "```bash\n",
    "kubectl cp <file-spec-src> <file-spec-dest> [options]\n",
    "```\n",
    "\n",
    "It is useful for debugging the disk output of container(s).\n"
   ]
  },
  {
   "cell_type": "markdown",
   "metadata": {},
   "source": [
    "#### __exec__\n",
    "\n",
    "This command `exec`utes a command against a `container` within a pod.\n",
    "\n",
    "```bash\n",
    "kubectl exec POD [-c CONTAINER] [-i] [-t] [flags] [-- COMMAND [args...]]\n",
    "```\n",
    "\n",
    "It is useful for debugging the container state."
   ]
  },
  {
   "cell_type": "markdown",
   "metadata": {},
   "source": [
    "### `minikube`"
   ]
  },
  {
   "cell_type": "markdown",
   "metadata": {},
   "source": [
    " [`minikube`](https://minikube.sigs.k8s.io/docs/start/) simplifies the process of learning Kubernetes from your local machine. If you already have Docker installed on your local computer, you should be able to install it.\n",
    "\n",
    "<details>\n",
    "    <summary> For Linux Users </summary>\n",
    "\n",
    "Simply run the following commands in your terminal:\n",
    "```\n",
    "curl -LO https://storage.googleapis.com/minikube/releases/latest/minikube-linux-amd64\n",
    "sudo install minikube-linux-amd64 /usr/local/bin/minikube\n",
    "```\n",
    "</details>\n",
    "\n",
    " <details>\n",
    "    <summary> For Mac Users </summary>\n",
    "\n",
    "Simply run the following commands in your terminal:\n",
    "```\n",
    "curl -LO https://storage.googleapis.com/minikube/releases/latest/minikube-darwin-amd64\n",
    "sudo install minikube-darwin-amd64 /usr/local/bin/minikube\n",
    "```\n",
    "If that does not work, use `homebrew`:\n",
    "```\n",
    "brew install minikube\n",
    "```\n",
    "_If minikube fails after installation via brew, you may need to remove the old minikube links and link the newly installed binary._\n",
    "```\n",
    "brew unlink minikube\n",
    "brew link minikube\n",
    "```\n",
    "</details>\n",
    "<details>\n",
    "    <summary> For Windows Users </summary>\n",
    "\n",
    "Download the .exe file here: https://storage.googleapis.com/minikube/releases/latest/minikube-installer.exe\n",
    "After installing it, run PowerShell as an Administrator to add the binary to your `PATH`:\n",
    "```\n",
    "$oldPath = [Environment]::GetEnvironmentVariable('Path', [EnvironmentVariableTarget]::Machine)\n",
    "if ($oldPath.Split(';') -inotcontains 'C:\\minikube'){ `\n",
    "  [Environment]::SetEnvironmentVariable('Path', $('{0};C:\\minikube' -f $oldPath), [EnvironmentVariableTarget]::Machine) `\n",
    "}\n",
    "```\n",
    "</details>\n",
    "\n",
    "To confirm that it was correctly installed, run `minikube --help`. You may need to close and open the terminal before running any command."
   ]
  },
  {
   "cell_type": "markdown",
   "metadata": {},
   "source": [
    "Regardless of your OS, run `minikube start`. This will create a Kubernetes `config` file to inform Kubernetes (or `kubectl`) on where to start deploying the Kubernetes resources. __If you intend to deploy the resources to a cloud infrastructure, you can change this config file.__"
   ]
  },
  {
   "cell_type": "markdown",
   "metadata": {},
   "source": [
    "To inspect the config context, run"
   ]
  },
  {
   "cell_type": "code",
   "execution_count": 4,
   "metadata": {},
   "outputs": [
    {
     "name": "stdout",
     "output_type": "stream",
     "text": [
      "CURRENT   NAME       CLUSTER    AUTHINFO   NAMESPACE\n",
      "*         minikube   minikube   minikube   default\n"
     ]
    }
   ],
   "source": [
    "!kubectl config get-contexts"
   ]
  },
  {
   "cell_type": "markdown",
   "metadata": {},
   "source": [
    "Evidently, we are indeed using the cluster provided by `minikube`. In the configuration file (usually located in `~/.kube`), you can find this information and confirm that it is consistent with the information obtained:\n",
    "\n",
    "<p align=center><img src=images/config_minikube.png width=500></p>"
   ]
  },
  {
   "cell_type": "markdown",
   "metadata": {},
   "source": [
    "As can be observed above, the namespace is `default`. Namespaces are virtual clusters within physical clusters. They should be used for most tasks and to group semantically similar `k8s` objects. \n",
    "\n",
    "> <font size=+1>Namespaces provide a scope for names. The names of resources need to be unique within a namespace, but not across namespaces.</font>\n",
    "\n",
    "By default, when you start `minikube` or when you change the kubeconfig file, kubernetes creates four namespaces. To view them, run the following command:"
   ]
  },
  {
   "cell_type": "code",
   "execution_count": 5,
   "metadata": {},
   "outputs": [
    {
     "name": "stdout",
     "output_type": "stream",
     "text": [
      "NAME              STATUS   AGE\n",
      "default           Active   143m\n",
      "kube-node-lease   Active   143m\n",
      "kube-public       Active   143m\n",
      "kube-system       Active   143m\n"
     ]
    }
   ],
   "source": [
    "!kubectl get namespace"
   ]
  },
  {
   "cell_type": "markdown",
   "metadata": {},
   "source": [
    "To learn more about namespaces, visit this [link](https://kubernetes.io/docs/concepts/overview/working-with-objects/namespaces/). For now, know that each namespace contains different resources. You can view, for example, the pods inside the `kube-system` namespace:"
   ]
  },
  {
   "cell_type": "code",
   "execution_count": 8,
   "metadata": {},
   "outputs": [
    {
     "name": "stdout",
     "output_type": "stream",
     "text": [
      "NAME                               READY   STATUS    RESTARTS       AGE    IP             NODE       NOMINATED NODE   READINESS GATES\n",
      "coredns-78fcd69978-8j8hz           1/1     Running   0              170m   172.17.0.2     minikube   <none>           <none>\n",
      "etcd-minikube                      1/1     Running   0              170m   192.168.49.2   minikube   <none>           <none>\n",
      "kube-apiserver-minikube            1/1     Running   0              170m   192.168.49.2   minikube   <none>           <none>\n",
      "kube-controller-manager-minikube   1/1     Running   0              170m   192.168.49.2   minikube   <none>           <none>\n",
      "kube-proxy-w2pt7                   1/1     Running   0              170m   192.168.49.2   minikube   <none>           <none>\n",
      "kube-scheduler-minikube            1/1     Running   0              170m   192.168.49.2   minikube   <none>           <none>\n",
      "storage-provisioner                1/1     Running   1 (169m ago)   170m   192.168.49.2   minikube   <none>           <none>\n"
     ]
    }
   ],
   "source": [
    "!kubectl -n kube-system get pods -o wide"
   ]
  },
  {
   "cell_type": "markdown",
   "metadata": {},
   "source": [
    "As mentioned previously, Kubernetes spins up resources that have gone down. See the below demonstration:"
   ]
  },
  {
   "cell_type": "code",
   "execution_count": 18,
   "metadata": {},
   "outputs": [
    {
     "name": "stdout",
     "output_type": "stream",
     "text": [
      "pod \"kube-proxy-w2pt7\" deleted\n"
     ]
    }
   ],
   "source": [
    "!kubectl -n kube-system delete pod kube-proxy-w2pt7 "
   ]
  },
  {
   "cell_type": "markdown",
   "metadata": {},
   "source": [
    "If we observe the pods once more, we obtain the following:"
   ]
  },
  {
   "cell_type": "code",
   "execution_count": 20,
   "metadata": {},
   "outputs": [
    {
     "name": "stdout",
     "output_type": "stream",
     "text": [
      "NAME                               READY   STATUS    RESTARTS   AGE\n",
      "coredns-78fcd69978-8j8hz           1/1     Running   0          175m\n",
      "etcd-minikube                      1/1     Running   0          175m\n",
      "kube-apiserver-minikube            1/1     Running   0          175m\n",
      "kube-controller-manager-minikube   1/1     Running   0          175m\n",
      "kube-proxy-jb22b                   1/1     Running   0          77s\n",
      "kube-scheduler-minikube            1/1     Running   0          175m\n",
      "storage-provisioner                1/1     Running   0          13s\n"
     ]
    }
   ],
   "source": [
    "!kubectl -n kube-system get pods"
   ]
  },
  {
   "cell_type": "markdown",
   "metadata": {},
   "source": [
    "As shown, the resource is up and running again. Finally, Minikube provides a nice dashboard, which can be used to view the resources. It can initialize by running\n",
    "```\n",
    "minikube dashboard\n",
    "```\n",
    "The figure below displays the output after selecting `all namespaces` in the dropdown menu:\n",
    "\n",
    "<p><img src=images/minikube_dashboard.png></p>"
   ]
  },
  {
   "cell_type": "markdown",
   "metadata": {},
   "source": [
    "Observe all the resources on the left-hand side (Workloads, Service, Config and Storage, ...). In subsequent lessons, we will learn how to create them."
   ]
  },
  {
   "cell_type": "markdown",
   "metadata": {},
   "source": [
    "## Connecting to an AWS EKS"
   ]
  },
  {
   "cell_type": "markdown",
   "metadata": {},
   "source": [
    "An Elastic Kubernetes Service can be created in Amazon to deploy your Kubernetes resources to a Cloud Infrastructure. This way, you can run your applications as well as AWS services in an orchestrated manner using clusters. If, however, you do not wish to deploy your Kubernetes resources to the cloud, you can skip the rest of this notebook and start working locally.\n",
    "\n",
    "<font size=+1>__Before proceeding, please be advised that the following steps will require you to launch an instance that costs, at least, 0.0104 USD/h.__</font>\n",
    "\n",
    "The first step involves creating an Amazon VPC that meets the EKS requirements. In your console, run the following command:"
   ]
  },
  {
   "cell_type": "markdown",
   "metadata": {},
   "source": [
    "```\n",
    "aws cloudformation create-stack \\\n",
    "  --region us-west-2 \\\n",
    "  --stack-name <your_stack_name> \\\n",
    "  --template-url https://amazon-eks.s3.us-west-2.amazonaws.com/cloudformation/2020-10-29/amazon-eks-vpc-private-subnets.yaml\n",
    "```"
   ]
  },
  {
   "cell_type": "markdown",
   "metadata": {},
   "source": [
    "In the example above, you will be creating the VPC in the us-west-2 region (Oregon); however, note that you can choose any EKS-supported region. For more information on this, visit this [link](https://docs.aws.amazon.com/general/latest/gr/eks.html). In this example, we will be using `my-eks-vpc-stack` as `<your_stack_name>`."
   ]
  },
  {
   "cell_type": "markdown",
   "metadata": {},
   "source": [
    "Now, an IAM role is required. You can create it from the console or the AWS console. Here, we will do this on our local machine. In this [link](https://aicore-files.s3.amazonaws.com/Cloud-DevOps/eks_policy.json), you will find a JSON file called `eks_policy.json`. This policy allows EKS to make calls to other AWS services. We can create the role using this policy.\n",
    "```\n",
    "aws iam create-role --role-name <your_role_name> --assume-role-policy-document file://\"eks_policy.json\"\n",
    "```\n",
    "In the example, we are using `AiCoreEKSClusterRole` as `<your_role_name>`. Now, attach this policy to the role:\n",
    "```\n",
    "aws iam attach-role-policy --policy-arn arn:aws:iam::aws:policy/AmazonEKSClusterPolicy --role-name <your_role_name>\n",
    "```\n",
    "Ensure that the role name is consistent."
   ]
  },
  {
   "cell_type": "markdown",
   "metadata": {},
   "source": [
    "\n",
    "Go to your AWS portal and search for EKS.\n",
    "\n",
    "<p align=center><img src=images/EKS.png width=600></p>\n",
    "\n",
    "Thereafter, click on add cluster. Ensure that you are in the right region. In the example, we established the policy in us-west-2, which corresponds to Oregon.\n",
    "\n",
    "<p align=center><img src=images/EKS_2.png width=600></p>"
   ]
  },
  {
   "cell_type": "markdown",
   "metadata": {},
   "source": [
    "In the next window, assign a name to your cluster, and select the newly created IAM role:\n",
    "\n",
    "<p align=center><img src=images/EKS_3.png width=600></p>"
   ]
  },
  {
   "cell_type": "markdown",
   "metadata": {},
   "source": [
    "Click on Next, and in the `specify networking section`, select the VPC you created:\n",
    "<p align=center><img src=images/EKS_4.png width=600></p>"
   ]
  },
  {
   "cell_type": "markdown",
   "metadata": {},
   "source": [
    "Leave the remaining values in their default settings, and click Create. "
   ]
  },
  {
   "cell_type": "markdown",
   "metadata": {},
   "source": []
  },
  {
   "cell_type": "markdown",
   "metadata": {},
   "source": [
    "Once created, you can use the `aws` command in your CLI; type the following:\n",
    "```\n",
    "aws eks --region <your-region> update-kubeconfig --name <name_of_your_cluster>\n",
    "```\n",
    "This will automatically change your config file (`~/.kube`). After running it, the output should be similar to that shown below:"
   ]
  },
  {
   "cell_type": "code",
   "execution_count": 1,
   "metadata": {},
   "outputs": [
    {
     "name": "stdout",
     "output_type": "stream",
     "text": [
      "CURRENT   NAME                                                        CLUSTER                                                     AUTHINFO                                                    NAMESPACE\n",
      "*         arn:aws:eks:us-west-2:168573745887:cluster/aicore-cluster   arn:aws:eks:us-west-2:168573745887:cluster/aicore-cluster   arn:aws:eks:us-west-2:168573745887:cluster/aicore-cluster   \n",
      "          minikube                                                    minikube                                                    minikube                                                    default\n"
     ]
    }
   ],
   "source": [
    "!kubectl config get-contexts"
   ]
  },
  {
   "cell_type": "markdown",
   "metadata": {},
   "source": [
    "At this point, permission must be granted to the Kubernetes service accounts to access the resources. Thus, we need to create an IAM OpenID Connect (OIDC) provider. This will enable the Kubernetes service accounts to access the AWS resources.\n",
    "\n",
    "To do so, go to your cluster, click `Configuration` and subsequently `Details`.\n",
    "\n",
    "<p align=center><img src=images/EKS_5.png width=700></p>\n",
    "\n",
    "Copy the OpenID Connect provider URL, and go to the IAM console: [https://console.aws.amazon.com/iam/](https://console.aws.amazon.com/iam/).\n",
    "\n",
    "In the Identity Providers section, click on Add Provider.\n",
    "\n",
    "<p align=center><img src=images/EKS_6.png width=700></p>\n",
    "\n",
    "- For Provider Type, choose OpenID Connect.\n",
    "\n",
    "- For Provider URL, paste the OIDC provider URL for your cluster, and thereafter, choose Get thumbprint.\n",
    "\n",
    "- For Audience, enter `sts.amazonaws.com`, and choose Add provider.\n"
   ]
  },
  {
   "cell_type": "markdown",
   "metadata": {},
   "source": [
    "If you intend to run AWS services, you need to create a Node. There are two main options: Fargate and Managed nodes.\n",
    "1. Fargate: For running applications on AWS Fargate.\n",
    "2. Managed nodes: For running applications on EC2 instances.\n",
    "\n",
    "In this lesson, we will create a managed node. However, for information on how to create a Fargate node, visit this [webpage](https://aws.amazon.com/es/fargate/).\n",
    "\n",
    "First, create a new role for the VPC Container Network Interface (CNI) plugin for Kubernetes. This plugin assigns an IP address from your VPC to each pod. \n",
    "Go to this [link](https://aicore-files.s3.amazonaws.com/Cloud-DevOps/cni_policy.json), and find a `cni_policy.json` file with the following content:\n",
    "```\n",
    "{\n",
    "  \"Version\": \"2012-10-17\",\n",
    "  \"Statement\": [\n",
    "    {\n",
    "      \"Effect\": \"Allow\",\n",
    "      \"Principal\": {\n",
    "        \"Federated\": \"<Your ARN>\"\n",
    "      },\n",
    "      \"Action\": \"sts:AssumeRoleWithWebIdentity\",\n",
    "      \"Condition\": {\n",
    "        \"StringEquals\": {\n",
    "          \"<Your Provider>:sub\": \"system:serviceaccount:kube-system:aws-node\"\n",
    "        }\n",
    "      }\n",
    "    }\n",
    "  ]\n",
    "}\n",
    "```"
   ]
  },
  {
   "cell_type": "markdown",
   "metadata": {},
   "source": [
    "Make sure you replace `<Your ARN>` and `<Your Provider>` with the corresponding credentials from the OIDC you created:\n",
    "\n",
    "<p align=center><img src=images/EKS_7.png width=700></p>"
   ]
  },
  {
   "cell_type": "markdown",
   "metadata": {},
   "source": [
    "In the console, run the following command to create a new role:\n",
    "```\n",
    "aws iam create-role --role-name <role_name> --assume-role-policy-document file://\"cni_policy.json\"\n",
    "```\n",
    "In this example, we substituted `<role_name>` for `AiCoreEKSCNIRole`. Now, attach the CNI policy to the created role:\n",
    "```\n",
    "aws iam attach-role-policy --policy-arn arn:aws:iam::aws:policy/AmazonEKS_CNI_Policy --role-name <role_name>\n",
    "```\n",
    "Next, associate the Kubernetes service account used by the VPC CNI with the IAM role you just created:\n",
    "```\n",
    "aws eks update-addon --region <your_region> --cluster-name <your_cluster> --addon-name vpc-cni --service-account-role-arn arn:aws:iam::<your_account_number>:role/<role_name>\n",
    "```\n"
   ]
  },
  {
   "cell_type": "markdown",
   "id": "f82809b4",
   "metadata": {},
   "source": [
    "\n",
    "You need to create a node IAM role to enable the AWS EKS `kubelet` make calls on our behalf. Use the `node_policy.json` file in this [link](https://aicore-files.s3.amazonaws.com/Cloud-DevOps/node_policy.json):\n",
    "```\n",
    "aws iam create-role --role-name <node_role_name> --assume-role-policy-document file://\"node_policy.json\"\n",
    "```\n",
    "As shown, we used `AiCoreEKSNodeRole` for the `<noe_role_name>`. As always, attach the necessary policies to this role:\n",
    "```\n",
    "aws iam attach-role-policy --policy-arn arn:aws:iam::aws:policy/AmazonEKSWorkerNodePolicy --role-name <node_role_name>\n",
    "\n",
    "aws iam attach-role-policy --policy-arn arn:aws:iam::aws:policy/AmazonEC2ContainerRegistryReadOnly --role-name <node_role_name>\n",
    "```"
   ]
  },
  {
   "cell_type": "markdown",
   "metadata": {},
   "source": [
    "In your cluster, go to `Configuration` and thereafter `Compute` to add a Node Group:\n",
    "<p align=center><img src=images/EKS_8.png width=600></p>"
   ]
  },
  {
   "cell_type": "markdown",
   "metadata": {},
   "source": [
    "Assign a name to your node, and select the IAM role you created:\n",
    "\n",
    "<p align=center><img src=images/EKS_9.png width=600></p>"
   ]
  },
  {
   "cell_type": "markdown",
   "metadata": {},
   "source": [
    "The paid instance will be deployed in the `Set compute and scaling configuration` section. You can use an instance of your choosing. In this example, however, we used the `t3.medium`. <font size=+1>Once the demonstration is over, make sure to `clean` everything up.</font>\n",
    "\n",
    "Note that you will need a key pair in your specified region. You can quickly create one using the following command:\n",
    "```\n",
    "aws ec2 create-key-pair --region <your_region> --key-name <key_name> --output text > <key_name>.pem\n",
    "```\n",
    "In this example, we used `aicore-key` as the `<key_name>`.\n",
    "\n",
    "Go back to the Node configuration. In `Specify networking`, enable the `Configure SSH access to nodes`, and select your key pair.\n",
    "\n",
    "<p align=center><img src=images/EKS_10.png width=700></p>"
   ]
  },
  {
   "cell_type": "markdown",
   "metadata": {},
   "source": [
    "Once created, you will be able to see the resources in your cluster, as well as the Workload deployed:\n",
    "\n",
    "<p align=center><img src=images/EKS_10.png width=600></p>\n",
    "<p align=center><img src=images/EKS_11.png width=600></p>"
   ]
  },
  {
   "cell_type": "markdown",
   "metadata": {},
   "source": [
    "Inside each node, you can view the pods that have been created, as well as the events related to that node:\n",
    "\n",
    "<p align=center><img src=images/EKS_13.png width=600></p>\n",
    "<p align=center><img src=images/EKS_14.png width=600></p>"
   ]
  },
  {
   "cell_type": "markdown",
   "metadata": {},
   "source": [
    "At this point, you should be able to deploy your AWS applications in EC2 instances using clusters. In the subsequent notebooks, we will focus on learning how to use Kubernetes, for which we __will use Minikube.__"
   ]
  },
  {
   "cell_type": "markdown",
   "metadata": {},
   "source": [
    "### Cleaning up\n",
    "\n",
    "Before wrapping up, endeavour to clean up all the resources you set up. Simply delete the nodes and, subsequently, the cluster containing these nodes.\n",
    "\n",
    "<p align=center><img src=images/EKS_15.png width=600></p>"
   ]
  },
  {
   "cell_type": "markdown",
   "metadata": {},
   "source": [
    "Once deleted, you can delete the entire cluster.\n",
    "\n",
    "Additionally, delete the VPC you created. To do this, go to https://console.aws.amazon.com/cloudformation, select the VPC you created and delete it. \n",
    "Do the same with the IAM role you created: https://console.aws.amazon.com/iam/"
   ]
  },
  {
   "cell_type": "markdown",
   "id": "3d681905",
   "metadata": {},
   "source": [
    "## Conclusion\n",
    "At this point, you should have a good understanding of\n",
    "\n",
    "- Kubernetes and its benefits.\n",
    "- Kubernetes components and objects.\n",
    "- how to install Kubernetes and connect to an AWS EKS.\n",
    "- the commands associated with using Kubernetes."
   ]
  },
  {
   "cell_type": "markdown",
   "metadata": {},
   "source": [
    "## Further Reading\n",
    "\n",
    "- Check out [Kubernetes API Conventions](https://github.com/kubernetes/community/blob/master/contributors/devel/sig-architecture/api-conventions.md) for an in-depth understanding of Kubernetes Objects and the internal mechanisms of the project.\n",
    "- Explore the alternatives to `minikube`. Read up on `kind` and `k3s`, as well as their advantages and disadvantages.\n",
    "- Check out [Client Libraries](https://kubernetes.io/docs/reference/using-api/client-libraries/), which allow us to communicate with `kubelet-apiserver` via certain programming languages. \n",
    "- Check out the [Python Client Library](https://github.com/kubernetes-client/python/), and explore the tasks that can be automated using it.\n",
    "- Check out [imperative commands way to manage `k8s` objects](https://kubernetes.io/docs/concepts/overview/working-with-objects/object-management/#imperative-commands); do not, however, __use it.__ Find out the disadvantages of using it.\n",
    "- Read more about [TTL (time to live) Controller](https://kubernetes.io/docs/concepts/workloads/controllers/ttlafterfinished/).\n",
    "- Read about [canary `Deployment`s](https://kubernetes.io/docs/concepts/cluster-administration/manage-deployment/#canary-deployments).\n",
    "- Read about [`Job` template expansion](https://kubernetes.io/docs/tasks/job/parallel-processing-expansion/).\n",
    "- Read about `DaemonSet` tolerations."
   ]
  }
 ],
 "metadata": {
  "interpreter": {
   "hash": "ad8bebc098a042dc0df4e42fc2ecc8fff0bd7b8741641ce29007c29766dadbe0"
  },
  "kernelspec": {
   "display_name": "Python 3.9.1 64-bit ('base': conda)",
   "name": "python3"
  },
  "language_info": {
   "codemirror_mode": {
    "name": "ipython",
    "version": 3
   },
   "file_extension": ".py",
   "mimetype": "text/x-python",
   "name": "python",
   "nbconvert_exporter": "python",
   "pygments_lexer": "ipython3",
   "version": "3.9.1"
  }
 },
 "nbformat": 4,
 "nbformat_minor": 5
}
