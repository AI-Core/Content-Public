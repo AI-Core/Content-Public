{
 "cells": [
  {
   "cell_type": "markdown",
   "metadata": {},
   "source": [
    "# Kubernetes Networking"
   ]
  },
  {
   "cell_type": "markdown",
   "metadata": {},
   "source": [
    "## Introduction\n",
    ">In the last notebook, you learnt how to manage pods using Workloads. Recall that workloads can control the lifecycle of pods; however, they are isolated from each other, and their operations are based solely on the arguments passed to them. \n",
    "\n",
    "To facilitate communication among them and with the cluster, Kubernetes offers networking resources that expose the pods. <br><br>\n",
    "\n",
    "<p align=center><img src=images/K8_networking.webp width=600></p>"
   ]
  },
  {
   "cell_type": "markdown",
   "metadata": {},
   "source": [
    "Notably, in the last lesson, we did not mention that each Pod has an IP address. We shall consider that here.\n",
    "\n",
    "### Example\n",
    "\n",
    "1. Start minikube if you are yet to.\n",
    "2. Click on the following [link](https://aicore-files.s3.amazonaws.com/Cloud-DevOps/simple_deployment.yaml) to access a file named `simple_deployment.yaml`. \n",
    "3. Run the correct kubectl command to facilitate the deployment.\n",
    "4. Run the following command: `kubectl get <name of the resource> <name of the pod>`, to view the description of the pods.\n",
    "5. Run the following command: `kubectl get <name of the resource> <name of the pod> -o wide`, to view a more detailed description of the pods, which represents the output."
   ]
  },
  {
   "cell_type": "code",
   "execution_count": 6,
   "metadata": {},
   "outputs": [
    {
     "name": "stdout",
     "output_type": "stream",
     "text": [
      "deployment.apps/hello created\n"
     ]
    }
   ],
   "source": [
    "!kubectl"
   ]
  },
  {
   "cell_type": "code",
   "execution_count": 18,
   "metadata": {},
   "outputs": [
    {
     "name": "stdout",
     "output_type": "stream",
     "text": [
      "NAME                     READY   STATUS    RESTARTS   AGE\n",
      "hello-868bcb8b84-575pt   1/1     Running   0          2m39s\n",
      "hello-868bcb8b84-dp9gr   1/1     Running   0          2m38s\n",
      "hello-868bcb8b84-vrgqj   1/1     Running   0          2m38s\n"
     ]
    }
   ],
   "source": [
    "!kubectl"
   ]
  },
  {
   "cell_type": "code",
   "execution_count": 19,
   "metadata": {},
   "outputs": [
    {
     "name": "stdout",
     "output_type": "stream",
     "text": [
      "NAME                     READY   STATUS    RESTARTS   AGE     IP            NODE       NOMINATED NODE   READINESS GATES\n",
      "hello-868bcb8b84-575pt   1/1     Running   0          2m47s   172.17.0.10   minikube   <none>           <none>\n",
      "hello-868bcb8b84-dp9gr   1/1     Running   0          2m46s   172.17.0.8    minikube   <none>           <none>\n",
      "hello-868bcb8b84-vrgqj   1/1     Running   0          2m46s   172.17.0.9    minikube   <none>           <none>\n"
     ]
    }
   ],
   "source": [
    "!kubectl"
   ]
  },
  {
   "cell_type": "markdown",
   "metadata": {},
   "source": [
    "As can be observed, each pod has an IP address that is only visible when the wide (i.e. the more detailed) output is printed.\n",
    "\n",
    "However, pod IP addresses in Kubernetes are not durable. Whenever an application is scaled up or down, or encounters an error and needs to be rebooted, the IP addresses disappear and need to be reassigned. This change in IP address occurs without warning. In response to this, Kubernetes utilises services."
   ]
  },
  {
   "cell_type": "markdown",
   "metadata": {},
   "source": [
    "## Services\n",
    "\n",
    "One of the networking resources offered by Kubernetes is 'Services', which, in essence, exposes applications within the cluster or to the world. Thus, workloads and services manage the lifecycle of the Pods and their IP addresses, respectively.\n",
    "\n",
    "Services serve as an abstraction layer on top of Pods, assigning a single virtual IP address to a specified group of Pods. Once these Pods are associated with that virtual IP address, any traffic addressed to it will be routed to the corresponding set of Pods. The set of Pods that are linked to a Service can be changed at any time; however, the IP address of the Service remains static.<br><br>\n",
    "\n",
    "<p align=center><img src=images/K8_Services.webp></p>"
   ]
  },
  {
   "cell_type": "markdown",
   "metadata": {},
   "source": [
    "Basically, the IP address changes when the pod terminates and restarts. Thus, it would be virtually impossible to always point to a dynamic IP address. Services do not point to the IP address, but to the pod, from which they can infer the corresponding IP address.\n",
    "\n",
    "Consider what happens when a pod is deleted from the deployment resource."
   ]
  },
  {
   "cell_type": "markdown",
   "metadata": {},
   "source": [
    "### Example\n",
    "\n",
    "1. Observe the IP addresses from the last deployment you created.\n",
    "2. Delete one of the pods in the deployment resource.\n",
    "3. Observe the IP addresses once more."
   ]
  },
  {
   "cell_type": "code",
   "execution_count": 20,
   "metadata": {},
   "outputs": [
    {
     "name": "stdout",
     "output_type": "stream",
     "text": [
      "NAME                     READY   STATUS    RESTARTS   AGE   IP            NODE       NOMINATED NODE   READINESS GATES\n",
      "hello-868bcb8b84-575pt   1/1     Running   0          86m   172.17.0.10   minikube   <none>           <none>\n",
      "hello-868bcb8b84-dp9gr   1/1     Running   0          86m   172.17.0.8    minikube   <none>           <none>\n",
      "hello-868bcb8b84-vrgqj   1/1     Running   0          86m   172.17.0.9    minikube   <none>           <none>\n"
     ]
    }
   ],
   "source": [
    "!kubectl"
   ]
  },
  {
   "cell_type": "code",
   "execution_count": 21,
   "metadata": {},
   "outputs": [
    {
     "name": "stdout",
     "output_type": "stream",
     "text": [
      "pod \"hello-868bcb8b84-575pt\" deleted\n"
     ]
    }
   ],
   "source": [
    "!kubectl"
   ]
  },
  {
   "cell_type": "code",
   "execution_count": 22,
   "metadata": {},
   "outputs": [
    {
     "name": "stdout",
     "output_type": "stream",
     "text": [
      "NAME                     READY   STATUS    RESTARTS   AGE   IP           NODE       NOMINATED NODE   READINESS GATES\n",
      "hello-868bcb8b84-dp9gr   1/1     Running   0          86m   172.17.0.8   minikube   <none>           <none>\n",
      "hello-868bcb8b84-dz5bj   1/1     Running   0          19s   172.17.0.4   minikube   <none>           <none>\n",
      "hello-868bcb8b84-vrgqj   1/1     Running   0          86m   172.17.0.9   minikube   <none>           <none>\n"
     ]
    }
   ],
   "source": [
    "!kubectl"
   ]
  },
  {
   "cell_type": "markdown",
   "metadata": {},
   "source": [
    "As you can observe, the name and IP address of one of the pods have changed. Therefore, any attempt to point to the previous IP address will yield no result.\n",
    "\n",
    "Services will help us point to the pods in the deployment resource, rather than to the individual IP addresses."
   ]
  },
  {
   "cell_type": "markdown",
   "metadata": {},
   "source": [
    "### Types of services\n",
    "There are three main types of services in Kubernetes:\n",
    "- `ClusterIP`: This is the default Service. It is a fixed IP that is located within the cluster, and it functions as a small load balancer among the resources in the cluster.\n",
    "- `NodePort`: It is very similar to the `ClusterIP`, except that it creates a port in each node, hence the name. This port receives the traffic and redirects it to the corresponding Pods.\n",
    "- `LoadBalancer`: It exposes the `Service` externally using a cloud provider's load balancer. It obtains the resources from the cloud cluster and redirects the network to the pods.\n",
    "\n",
    "Click on this [link](https://kubernetes.io/docs/concepts/services-networking/service/#publishing-services-service-types) for additional details. \n",
    "\n",
    "In this lesson, we will run a practical demo of how these Services work."
   ]
  },
  {
   "cell_type": "markdown",
   "metadata": {},
   "source": [
    "### ClusterIP"
   ]
  },
  {
   "cell_type": "markdown",
   "metadata": {},
   "source": [
    "As an example, we will utilise the `Deployment` we ran previously. We will use a `ClusterIP` that connects to the IP addresses of the pods inside the `Deployment`. Here is an example on using a `Service` that connects to the `Deployment` resource."
   ]
  },
  {
   "cell_type": "markdown",
   "metadata": {},
   "source": [
    "```\n",
    "apiVersion: v1\n",
    "kind: Service\n",
    "metadata:\n",
    "  name: hello\n",
    "spec:\n",
    "  ports:\n",
    "  - port: 8080\n",
    "    targetPort: 8080\n",
    "  selector:\n",
    "    role: hello\n",
    "```"
   ]
  },
  {
   "cell_type": "markdown",
   "metadata": {},
   "source": [
    "Observe the `spec`s for this service:\n",
    "\n",
    "- `ports` specify how to forward requests to the pods matching the `selector`. In this case,\n",
    "    - forward requests to port `8080` of the pods.\n",
    "    - make `Service` itself available under port `8080`.\n",
    "- `selector` points to the resource that we intend to access.\n",
    "\n",
    "For demonstration, we will run a single Pod, which will run an Ubuntu container inside the cluster. This way, we can connect to that cluster and connect to the service afterwards:\n",
    "\n",
    "```\n",
    "apiVersion: v1\n",
    "kind: Pod\n",
    "metadata:\n",
    "  name: ubuntu\n",
    "spec:\n",
    "  containers:\n",
    "  - name: ubuntu\n",
    "    image: ubuntu\n",
    "    args:\n",
    "    - sleep\n",
    "    - infinity\n",
    "```\n",
    "\n",
    "The example, very broadly, appears as follows:\n",
    "\n",
    "<p align=center><img src=images/ClusterIP.png width=600></p>"
   ]
  },
  {
   "cell_type": "markdown",
   "metadata": {},
   "source": [
    "#### Example\n",
    "\n",
    "1. Create a Service and a pod resource using the configuration mentioned above. _Tip: you can use the same file to create both, separating both resources with three dashes (`---`)._\n",
    "2.  You should still have the `Deployment` from before; otherwise, run it now.\n",
    "3. Run the command to check all the pods and services: `kubectl get <your code here>`.\n",
    "4. Run the command to describe the IP address pointed to by the `Service`: `kubectl <CMD> <resource> <name_of_the_resource>`.\n",
    "5. Run the command to observe all the IP addresses of all pods.\n",
    "6. Compare these addresses with the endpoints pointed to by the `Service`.\n",
    "7. Delete one of the pods corresponding to the `Deployment` resource.\n",
    "8. Compare the new addresses with the new endpoints pointed to by the `Service`. Determine if the service is still pointing to the correct IP addresses."
   ]
  },
  {
   "cell_type": "code",
   "execution_count": 5,
   "metadata": {},
   "outputs": [
    {
     "name": "stdout",
     "output_type": "stream",
     "text": [
      "service/hello created\n",
      "pod/ubuntu created\n"
     ]
    }
   ],
   "source": [
    "#Run both resources.\n",
    "!kubectl"
   ]
  },
  {
   "cell_type": "code",
   "execution_count": 8,
   "metadata": {},
   "outputs": [
    {
     "name": "stdout",
     "output_type": "stream",
     "text": [
      "NAME                         READY   STATUS    RESTARTS   AGE\n",
      "pod/hello-868bcb8b84-dnq4w   1/1     Running   0          3m51s\n",
      "pod/hello-868bcb8b84-j9p5g   1/1     Running   0          3m51s\n",
      "pod/hello-868bcb8b84-rd6qj   1/1     Running   0          3m51s\n",
      "pod/ubuntu                   1/1     Running   0          3m43s\n",
      "\n",
      "NAME                 TYPE        CLUSTER-IP     EXTERNAL-IP   PORT(S)    AGE\n",
      "service/hello        ClusterIP   10.103.95.80   <none>        8080/TCP   3m44s\n",
      "service/kubernetes   ClusterIP   10.96.0.1      <none>        443/TCP    6h57m\n",
      "\n",
      "NAME                    READY   UP-TO-DATE   AVAILABLE   AGE\n",
      "deployment.apps/hello   3/3     3            3           3m51s\n",
      "\n",
      "NAME                               DESIRED   CURRENT   READY   AGE\n",
      "replicaset.apps/hello-868bcb8b84   3         3         3       3m51s\n"
     ]
    }
   ],
   "source": [
    "# Run a command to check all pods and services\n",
    "!kubectl"
   ]
  },
  {
   "cell_type": "markdown",
   "metadata": {},
   "source": [
    "As shown, the service, hello, has been created, and it has a single clusterIP. It does not, however, specify the IP addresses to which it is pointing."
   ]
  },
  {
   "cell_type": "code",
   "execution_count": 9,
   "metadata": {},
   "outputs": [
    {
     "name": "stdout",
     "output_type": "stream",
     "text": [
      "Name:              hello\n",
      "Namespace:         default\n",
      "Labels:            <none>\n",
      "Annotations:       <none>\n",
      "Selector:          role=hello\n",
      "Type:              ClusterIP\n",
      "IP Family Policy:  SingleStack\n",
      "IP Families:       IPv4\n",
      "IP:                10.103.95.80\n",
      "IPs:               10.103.95.80\n",
      "Port:              <unset>  8080/TCP\n",
      "TargetPort:        8080/TCP\n",
      "Endpoints:         172.17.0.5:8080,172.17.0.6:8080,172.17.0.7:8080\n",
      "Session Affinity:  None\n",
      "Events:            <none>\n"
     ]
    }
   ],
   "source": [
    "#Run a command to describe the IP addresses pointed to by the service:\n",
    "!kubectl"
   ]
  },
  {
   "cell_type": "code",
   "execution_count": 12,
   "metadata": {},
   "outputs": [
    {
     "name": "stdout",
     "output_type": "stream",
     "text": [
      "NAME                     READY   STATUS    RESTARTS   AGE   IP           NODE       NOMINATED NODE   READINESS GATES\n",
      "hello-868bcb8b84-dnq4w   1/1     Running   0          10m   172.17.0.7   minikube   <none>           <none>\n",
      "hello-868bcb8b84-j9p5g   1/1     Running   0          10m   172.17.0.5   minikube   <none>           <none>\n",
      "hello-868bcb8b84-rd6qj   1/1     Running   0          10m   172.17.0.6   minikube   <none>           <none>\n",
      "ubuntu                   1/1     Running   0          10m   172.17.0.8   minikube   <none>           <none>\n"
     ]
    }
   ],
   "source": [
    "# Run a command to observe all the IP addresses of all pods.\n",
    "!kubectl"
   ]
  },
  {
   "cell_type": "markdown",
   "metadata": {},
   "source": [
    "Compare the IP addresses with the endpoints pointed to by the `Service`."
   ]
  },
  {
   "cell_type": "code",
   "execution_count": 13,
   "metadata": {},
   "outputs": [
    {
     "name": "stdout",
     "output_type": "stream",
     "text": [
      "pod \"hello-868bcb8b84-dnq4w\" deleted\n"
     ]
    }
   ],
   "source": [
    "# Delete one of the pods corresponding to the `Deployment` resource\n",
    "!kubectl"
   ]
  },
  {
   "cell_type": "code",
   "execution_count": 14,
   "metadata": {},
   "outputs": [
    {
     "name": "stdout",
     "output_type": "stream",
     "text": [
      "NAME                     READY   STATUS    RESTARTS   AGE   IP           NODE       NOMINATED NODE   READINESS GATES\n",
      "hello-868bcb8b84-j9p5g   1/1     Running   0          15m   172.17.0.5   minikube   <none>           <none>\n",
      "hello-868bcb8b84-rd6qj   1/1     Running   0          15m   172.17.0.6   minikube   <none>           <none>\n",
      "hello-868bcb8b84-z7fsc   1/1     Running   0          62s   172.17.0.9   minikube   <none>           <none>\n",
      "ubuntu                   1/1     Running   0          15m   172.17.0.8   minikube   <none>           <none>\n",
      "Name:              hello\n",
      "Namespace:         default\n",
      "Labels:            <none>\n",
      "Annotations:       <none>\n",
      "Selector:          role=hello\n",
      "Type:              ClusterIP\n",
      "IP Family Policy:  SingleStack\n",
      "IP Families:       IPv4\n",
      "IP:                10.103.95.80\n",
      "IPs:               10.103.95.80\n",
      "Port:              <unset>  8080/TCP\n",
      "TargetPort:        8080/TCP\n",
      "Endpoints:         172.17.0.5:8080,172.17.0.6:8080,172.17.0.9:8080\n",
      "Session Affinity:  None\n",
      "Events:            <none>\n"
     ]
    }
   ],
   "source": [
    "# Compare the new addresses with the new endpoints pointed by the `Service`\n",
    "!kubectl \n",
    "!kubectl "
   ]
  },
  {
   "cell_type": "markdown",
   "metadata": {},
   "source": [
    "As can be observed, the IP addresses have changed, and the service is pointing to the newly created IP address.\n",
    "\n",
    "Thus, as mentioned, `Service` will create the necessary routes to obtain the correct IP addresses, even when the pod has been rebooted.\n",
    "\n",
    "Now, we consider an example that runs on the cluster. This will improve our understanding of the difference(s) between ClusterIP, NodePort, and LoadBalancer. We created a pod called `ubuntu`. If we run a command from the `ubuntu` container, we can go to any of the IP addresses, although the contact point will be `Service`."
   ]
  },
  {
   "cell_type": "markdown",
   "metadata": {},
   "source": [
    "#### Example\n",
    "\n",
    "1. Execute bash inside the `ubuntu` pod: `kubectl exec -it ubuntu -- bash`. _Run this in the terminal, since the notebook does not allow interacting with the CLI._\n",
    "2. Update and upgrade `ubuntu`: `apt upadte && apt upgrade`.\n",
    "3. Install curl: `apt install curl`.\n",
    "4. Curl the IP address corresponding to the service. In the example above, it would be `http://10.103.95.80:8080` or `http://hello:8080`\n",
    "5. Repeat step 4 several times, and observe the `Hostname`."
   ]
  },
  {
   "cell_type": "markdown",
   "metadata": {},
   "source": [
    "The output should be similar to that shown below:\n",
    "<p align=center><img src=images/curl.png width=300></p>"
   ]
  },
  {
   "cell_type": "markdown",
   "metadata": {},
   "source": [
    "Observe that the same IP returns different hostnames. This is because `Service` acts as a load balancer within the cluster, and it searches for the first available pod.\n",
    "\n",
    "Next, we consider NodePort and how it differs from ClusterIP. Prior to that, delete the resources that we have deployed thus far:"
   ]
  },
  {
   "cell_type": "code",
   "execution_count": 16,
   "metadata": {},
   "outputs": [
    {
     "name": "stdout",
     "output_type": "stream",
     "text": [
      "deployment.apps \"hello\" deleted\n",
      "service \"hello\" deleted\n",
      "pod \"ubuntu\" deleted\n"
     ]
    }
   ],
   "source": [
    "!kubectl \n",
    "!kubectl "
   ]
  },
  {
   "cell_type": "markdown",
   "metadata": {},
   "source": [
    "### NodePort"
   ]
  },
  {
   "cell_type": "markdown",
   "metadata": {},
   "source": [
    "NodePort creates a port for each node. These ports are exposed to the world, enabling connections to the application through a browser.\n",
    "\n",
    "When a service is created without specifying the type, the default service type, i.e. ClusterIP, will be utilised. The creation process of a NodePort is similar to that of a ClusterIP, except that the service type must be specified. Additionally, we may specify the `nodePort` number:"
   ]
  },
  {
   "cell_type": "markdown",
   "metadata": {},
   "source": [
    "```\n",
    "apiVersion: v1\n",
    "kind: Service\n",
    "metadata:\n",
    "  name: hello\n",
    "spec:\n",
    "  type: NodePort\n",
    "  ports:\n",
    "  - port: 8080\n",
    "    targetPort: 8080\n",
    "    nodePort: 30000\n",
    "  selector:\n",
    "    role: hello\n",
    "```"
   ]
  },
  {
   "cell_type": "markdown",
   "metadata": {},
   "source": [
    "#### Example\n",
    "\n",
    "1. Create a .yaml file with the three resources: `ubuntu` pod, `hello` Deployment and `hello` NodePort.\n",
    "2. Run the file using the right kubectl command.\n",
    "3. Show all the created resources.\n",
    "4. Obtain information about the node."
   ]
  },
  {
   "cell_type": "code",
   "execution_count": 63,
   "metadata": {},
   "outputs": [
    {
     "name": "stdout",
     "output_type": "stream",
     "text": [
      "deployment.apps/hello created\n",
      "service/hello created\n",
      "pod/ubuntu created\n"
     ]
    }
   ],
   "source": [
    "!kubectl "
   ]
  },
  {
   "cell_type": "code",
   "execution_count": 64,
   "metadata": {},
   "outputs": [
    {
     "name": "stdout",
     "output_type": "stream",
     "text": [
      "NAME                         READY   STATUS    RESTARTS   AGE\n",
      "pod/hello-868bcb8b84-4jzjf   1/1     Running   0          49s\n",
      "pod/hello-868bcb8b84-lpvcr   1/1     Running   0          49s\n",
      "pod/hello-868bcb8b84-shmqz   1/1     Running   0          49s\n",
      "pod/ubuntu                   1/1     Running   0          49s\n",
      "\n",
      "NAME                 TYPE        CLUSTER-IP      EXTERNAL-IP   PORT(S)          AGE\n",
      "service/hello        NodePort    10.96.225.205   <none>        8080:30000/TCP   49s\n",
      "service/kubernetes   ClusterIP   10.96.0.1       <none>        443/TCP          10h\n",
      "\n",
      "NAME                    READY   UP-TO-DATE   AVAILABLE   AGE\n",
      "deployment.apps/hello   3/3     3            3           49s\n",
      "\n",
      "NAME                               DESIRED   CURRENT   READY   AGE\n",
      "replicaset.apps/hello-868bcb8b84   3         3         3       49s\n"
     ]
    }
   ],
   "source": [
    "# Show all the services you created\n",
    "!kubectl"
   ]
  },
  {
   "cell_type": "code",
   "execution_count": 31,
   "metadata": {},
   "outputs": [
    {
     "name": "stdout",
     "output_type": "stream",
     "text": [
      "NAME                         READY   STATUS    RESTARTS   AGE\n",
      "pod/hello-868bcb8b84-jfjx5   1/1     Running   0          23m\n",
      "pod/hello-868bcb8b84-mtxt7   1/1     Running   0          23m\n",
      "pod/hello-868bcb8b84-svqw9   1/1     Running   0          23m\n",
      "pod/ubuntu                   1/1     Running   0          23m\n",
      "\n",
      "NAME                 TYPE        CLUSTER-IP      EXTERNAL-IP   PORT(S)          AGE\n",
      "service/hello        NodePort    10.98.208.104   <none>        8080:30000/TCP   23m\n",
      "service/kubernetes   ClusterIP   10.96.0.1       <none>        443/TCP          9h\n",
      "\n",
      "NAME                    READY   UP-TO-DATE   AVAILABLE   AGE\n",
      "deployment.apps/hello   3/3     3            3           23m\n",
      "\n",
      "NAME                               DESIRED   CURRENT   READY   AGE\n",
      "replicaset.apps/hello-868bcb8b84   3         3         3       23m\n"
     ]
    }
   ],
   "source": [
    "# Obtain information about the node\n",
    "!kubectl"
   ]
  },
  {
   "cell_type": "markdown",
   "metadata": {},
   "source": [
    "As you can observe, there is no external IP address. This is because minikube is being employed as a testing environment and not a deployment environment. In a production environment, the computer in which an application is deployed would show an external IP for facilitating connections to it, which would be given by Kubernetes' NodePort. \n",
    "\n",
    "However, there is a workaround for obtaining the IP address in minikube:"
   ]
  },
  {
   "cell_type": "code",
   "execution_count": 38,
   "metadata": {},
   "outputs": [
    {
     "name": "stdout",
     "output_type": "stream",
     "text": [
      "|-----------|-------|-------------|---------------------------|\n",
      "| NAMESPACE | NAME  | TARGET PORT |            URL            |\n",
      "|-----------|-------|-------------|---------------------------|\n",
      "| default   | hello |        8080 | http://192.168.49.2:30000 |\n",
      "|-----------|-------|-------------|---------------------------|\n",
      "🏃  Starting tunnel for service hello.\n",
      "|-----------|-------|-------------|------------------------|\n",
      "| NAMESPACE | NAME  | TARGET PORT |          URL           |\n",
      "|-----------|-------|-------------|------------------------|\n",
      "| default   | hello |             | http://127.0.0.1:53984 |\n",
      "|-----------|-------|-------------|------------------------|\n",
      "🎉  Opening service default/hello in default browser...\n",
      "❗  Because you are using a Docker driver on darwin, the terminal needs to be open to run it.\n",
      "^C\n",
      "✋  Stopping tunnel for service hello.\n",
      "\n",
      "❌  Exiting due to SVC_TUNNEL_STOP: stopping ssh tunnel: os: process already finished\n",
      "\n",
      "\u001b[31m╭──────────────────────────────────────────────────────────────────────────────────────────────────────────────────────────╮\u001b[0m\n",
      "\u001b[31m│\u001b[0m                                                                                                                          \u001b[31m│\u001b[0m\n",
      "\u001b[31m│\u001b[0m    😿  If the above advice does not help, please let us know:                                                            \u001b[31m│\u001b[0m\n",
      "\u001b[31m│\u001b[0m    👉  https://github.com/kubernetes/minikube/issues/new/choose                                                          \u001b[31m│\u001b[0m\n",
      "\u001b[31m│\u001b[0m                                                                                                                          \u001b[31m│\u001b[0m\n",
      "\u001b[31m│\u001b[0m    Please run `minikube logs --file=logs.txt` and attach logs.txt to the GitHub issue.                                   \u001b[31m│\u001b[0m\n",
      "\u001b[31m│\u001b[0m    Please also attach the following file to the GitHub issue:                                                            \u001b[31m│\u001b[0m\n",
      "\u001b[31m│\u001b[0m    - /var/folders/4f/xpp0jkl15tsfprwr_fyddmnc0000gn/T/minikube_service_5f1db658b2aa62ff84ecbe64ef9c0ee82fbfdeff_0.log    \u001b[31m│\u001b[0m\n",
      "\u001b[31m│\u001b[0m                                                                                                                          \u001b[31m│\u001b[0m\n",
      "\u001b[31m╰──────────────────────────────────────────────────────────────────────────────────────────────────────────────────────────╯\u001b[0m\n",
      "\n"
     ]
    }
   ],
   "source": [
    "!minikube service hello"
   ]
  },
  {
   "cell_type": "markdown",
   "metadata": {},
   "source": [
    "While this is running, minikube will expose the mentioned URL to enable you connect to the service. These are essentially the steps taken by the production environment: it will export an external IP address to which you will add a port; thereafter, it will connect you to the pods in the cluster.\n",
    "\n",
    "Before proceeding to the next `Service`, delete all the created resources."
   ]
  },
  {
   "cell_type": "code",
   "execution_count": 62,
   "metadata": {},
   "outputs": [
    {
     "name": "stdout",
     "output_type": "stream",
     "text": [
      "deployment.apps \"hello\" deleted\n",
      "service \"hello\" deleted\n",
      "pod \"ubuntu\" deleted\n"
     ]
    }
   ],
   "source": [
    "!kubectl delete -f node_port.yaml"
   ]
  },
  {
   "cell_type": "markdown",
   "metadata": {},
   "source": [
    "### LoadBalancer\n",
    "\n",
    "`LoadBalancer`s offer a way to (more or less) uniformly distribute requests across `Node`s. They are often provided by cloud providers and can be specified, alternatively, via [`.spec.loadBalancerClass`](https://kubernetes.io/docs/concepts/services-networking/service/#load-balancer-class).\n",
    "\n",
    "Although they share some similarities with NodePorts, LoadBalancers handle the task of selecting the node(s) to connect to. They create a __general__ IP address that will connect to __any__ of the available nodes. Conversely, a NodePort creates a different IP address for each node, following which you will have to connect to an individual node.\n",
    "\n",
    "Additionally, LoadBalancers set the exposed port for you. To create one, simply use `LoadBalancer` in `spec.type`."
   ]
  },
  {
   "cell_type": "markdown",
   "metadata": {},
   "source": [
    "```\n",
    "apiVersion: v1\n",
    "kind: Service\n",
    "metadata:\n",
    "  name: hello\n",
    "spec:\n",
    "  type: LoadBalancer\n",
    "  ports:\n",
    "  - port: 8080\n",
    "    targetPort: 8080\n",
    "  selector:\n",
    "    role: hello"
   ]
  },
  {
   "cell_type": "code",
   "execution_count": 40,
   "metadata": {},
   "outputs": [
    {
     "name": "stdout",
     "output_type": "stream",
     "text": [
      "deployment.apps/hello created\n",
      "service/hello created\n",
      "pod/ubuntu created\n"
     ]
    }
   ],
   "source": [
    "!kubectl apply -f node_port.yaml"
   ]
  },
  {
   "cell_type": "code",
   "execution_count": 58,
   "metadata": {},
   "outputs": [
    {
     "name": "stdout",
     "output_type": "stream",
     "text": [
      "NAME         TYPE           CLUSTER-IP      EXTERNAL-IP   PORT(S)          AGE\n",
      "hello        LoadBalancer   10.99.190.249   <pending>     8080:31265/TCP   19m\n",
      "kubernetes   ClusterIP      10.96.0.1       <none>        443/TCP          10h\n"
     ]
    }
   ],
   "source": [
    "!kubectl get svc"
   ]
  },
  {
   "cell_type": "markdown",
   "metadata": {},
   "source": [
    "For cloud environments, one can specify `loadBalancer`s via `metadata.annotations` (these will be discussed in more detail later) within the `Service` configuration.\n",
    "\n",
    "A large list can be found [here](https://kubernetes.io/docs/concepts/services-networking/service/#internal-load-balancer)."
   ]
  },
  {
   "cell_type": "markdown",
   "metadata": {},
   "source": [
    "## Ingress\n",
    "\n",
    "> A `Kubernetes` object that manages external access to the services in a cluster.\n",
    "\n",
    "![](./images/ingress-one-service.png)\n",
    "\n",
    "### Features\n",
    "- It exposes `HTTP`/`HTTPS` from outside the cluster to the `Service`s within the cluster.\n",
    "- It may provide `load balancing` services.\n",
    "- It may facilitate `SSL Termination` (decryption of the data sent to the cluster via `SSL`).\n",
    "\n",
    "Note that an `ingress controller` of some sort must be installed. The available options are provided [here](https://kubernetes.io/docs/concepts/services-networking/ingress-controllers/).\n",
    "\n",
    "To install it in `minikube`, run the following command:"
   ]
  },
  {
   "cell_type": "code",
   "execution_count": 56,
   "metadata": {},
   "outputs": [
    {
     "name": "stdout",
     "output_type": "stream",
     "text": [
      "💡  After the addon is enabled, please run \"minikube tunnel\" and your ingress resources would be available at \"127.0.0.1\"\n",
      "    ▪ Using image k8s.gcr.io/ingress-nginx/kube-webhook-certgen:v1.0\n",
      "    ▪ Using image k8s.gcr.io/ingress-nginx/kube-webhook-certgen:v1.0\n",
      "    ▪ Using image k8s.gcr.io/ingress-nginx/controller:v1.0.0-beta.3\n",
      "🔎  Verifying ingress addon...\n",
      "🌟  The 'ingress' addon is enabled\n"
     ]
    }
   ],
   "source": [
    "!minikube addons enable ingress"
   ]
  },
  {
   "cell_type": "markdown",
   "metadata": {},
   "source": [
    "To verify that the ingress controller is working properly, run"
   ]
  },
  {
   "cell_type": "code",
   "execution_count": 57,
   "metadata": {},
   "outputs": [
    {
     "name": "stdout",
     "output_type": "stream",
     "text": [
      "NAME                                        READY   STATUS      RESTARTS   AGE\n",
      "ingress-nginx-admission-create--1-z7l8g     0/1     Completed   0          86s\n",
      "ingress-nginx-admission-patch--1-hwz4q      0/1     Completed   1          86s\n",
      "ingress-nginx-controller-69bdbc4d57-p5w9g   1/1     Running     0          86s\n"
     ]
    }
   ],
   "source": [
    "!kubectl get pods -n ingress-nginx"
   ]
  },
  {
   "cell_type": "markdown",
   "metadata": {},
   "source": [
    "Ingress will create an nginx controller, as well as a load balancer or a NodePort, depending on the platform you use. Consider the following code, and observe the output:"
   ]
  },
  {
   "cell_type": "code",
   "execution_count": 69,
   "metadata": {},
   "outputs": [
    {
     "name": "stdout",
     "output_type": "stream",
     "text": [
      "NAME                                 TYPE        CLUSTER-IP       EXTERNAL-IP   PORT(S)                      AGE\n",
      "ingress-nginx-controller             NodePort    10.106.163.35    <none>        80:31320/TCP,443:31400/TCP   17m\n",
      "ingress-nginx-controller-admission   ClusterIP   10.104.117.146   <none>        443/TCP                      18m\n"
     ]
    }
   ],
   "source": [
    "!kubectl -n ingress-nginx get svc"
   ]
  },
  {
   "cell_type": "markdown",
   "metadata": {},
   "source": [
    "### Defining resources\n",
    "\n",
    "As has become conventional, use the `.yaml` config:"
   ]
  },
  {
   "cell_type": "code",
   "execution_count": null,
   "metadata": {},
   "outputs": [],
   "source": [
    "---\n",
    "apiVersion: networking.k8s.io/v1\n",
    "kind: Ingress\n",
    "metadata:\n",
    "  name: minimal-ingress\n",
    "  annotations:\n",
    "    nginx.ingress.kubernetes.io/rewrite-target: /\n",
    "spec:\n",
    "  rules:\n",
    "  - http:\n",
    "      paths:\n",
    "      - path: /testpath\n",
    "        pathType: Prefix\n",
    "        backend:\n",
    "          service:\n",
    "            name: test\n",
    "            port:\n",
    "              number: 80"
   ]
  },
  {
   "cell_type": "markdown",
   "metadata": {},
   "source": [
    "More information on Ingress will be provided in the practical sessions."
   ]
  },
  {
   "cell_type": "markdown",
   "id": "cdaeb1ad",
   "metadata": {},
   "source": [
    "## Conclusion\n",
    "At this point, you should have a good understanding of\n",
    "\n",
    "- Kubernetes networking.\n",
    "- the three main types of services in Kubernetes.\n",
    "- Ingress and its features."
   ]
  }
 ],
 "metadata": {
  "interpreter": {
   "hash": "569d6b7e9215e11aba41c6454007e5c1b78bad7df09dab765d8cf00362c40f03"
  },
  "kernelspec": {
   "display_name": "Python 3.9.1 64-bit ('base': conda)",
   "name": "python3"
  },
  "language_info": {
   "codemirror_mode": {
    "name": "ipython",
    "version": 3
   },
   "file_extension": ".py",
   "mimetype": "text/x-python",
   "name": "python",
   "nbconvert_exporter": "python",
   "pygments_lexer": "ipython3",
   "version": "3.9.1"
  }
 },
 "nbformat": 4,
 "nbformat_minor": 5
}
