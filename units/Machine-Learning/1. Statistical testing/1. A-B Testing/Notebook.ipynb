{
 "cells": [
  {
   "cell_type": "markdown",
   "metadata": {},
   "source": [
    "# A/B Testing"
   ]
  },
  {
   "cell_type": "markdown",
   "metadata": {},
   "source": [
    "## Introduction"
   ]
  },
  {
   "cell_type": "markdown",
   "metadata": {},
   "source": [
    "One of the most popular applications of hypothesis testing is __A/B Testing__ . It is a basic control experiment and provides a way to compare the two versions of a variable to find out which performs better in a controlled environment.\n",
    "\n",
    "For instance, you have made certain changes to your website recently. Unfortunately, you have no way of knowing with full accuracy how the next 100,000 people who visit your website will behave. That is the information we cannot know today, and if we were to wait until those 100,000 people visited our site, it would be too late to optimize their experience.\n",
    "\n",
    "You can divide the products into two parts – A and B. Here A will remain unchanged while you make significant changes in B’s packaging. Now, on the basis of the response from customer groups who used A and B respectively, you try to decide which is performing better.\n",
    "\n",
    "<p align=center><img src=images/ab_test.png width=500></p>"
   ]
  },
  {
   "cell_type": "markdown",
   "metadata": {},
   "source": [
    "The objective here is to check which option brings higher traffic on the website i.e the conversion rate. We will use A/B testing and collect data to analyze which option performs better."
   ]
  },
  {
   "cell_type": "markdown",
   "metadata": {},
   "source": [
    "## Formulate an hypothesis\n",
    "\n",
    "$\\mathbf{H_{0}}$: From an A/B test perspective, the null hypothesis states that there is no difference between the control and variant groups. Here our $\\mathbf{H_{0}}$ is \"there is no difference in the conversion rate in customers receiving option A and B\".\n",
    "\n",
    "$\\mathbf{H_{a}}$: The alternative hypothesis is what you might hope that your A/B test will prove to be true. In our example, the $\\mathbf{H_{a}}$ is \"the conversion rate of option B is higher than those who receive option A\".\n",
    "\n",
    "We have to collect enough evidence through our tests to reject the null hypothesis."
   ]
  },
  {
   "cell_type": "markdown",
   "metadata": {},
   "source": [
    "## Create Control Group and Test Group\n",
    "\n",
    "The next step is to decide the group of customers that will participate in the test. Here we have two groups – The Control group, and the Test (variant) group.\n",
    "\n",
    "The Control Group is the one that will receive newsletter A and the Test Group is the one that will receive newsletter B."
   ]
  },
  {
   "cell_type": "markdown",
   "metadata": {},
   "source": [
    "## Statistical significance\n",
    "\n",
    "How can we conclude from here that the Test group is working better than the control group?\n",
    "\n",
    "For rejecting our null hypothesis we have to prove the Statistical significance of our test.\n",
    "\n",
    "There are two types of errors that may occur in our hypothesis testing:\n",
    "\n",
    "1. __Type I error__: We reject the null hypothesis when it is true. That is we accept the variant B when it is not performing better than A\n",
    "2. __Type II error__: We failed to reject the null hypothesis when it is false. It means we conclude variant B is not good when it performs better than A\n",
    "\n",
    "That means the difference between your control version and the test version is not due to some error or random chance. To prove the statistical significance of our experiment we can use a two-sample T-test.\n",
    "\n",
    "The two–sample t–test is one of the most commonly used hypothesis tests. It is applied to compare the average difference between the two groups.\n"
   ]
  },
  {
   "cell_type": "code",
   "execution_count": null,
   "metadata": {},
   "outputs": [],
   "source": [
    "!pip install seaborn"
   ]
  },
  {
   "cell_type": "code",
   "execution_count": null,
   "metadata": {},
   "outputs": [],
   "source": [
    "import pandas as pd\n",
    "import numpy as np\n",
    "import seaborn as sns\n",
    "import scipy.stats as ss\n",
    "import matplotlib.pylab as plt\n",
    "data= pd.read_csv(\"https://aicore-files.s3.amazonaws.com/Data-Science/ab_data.csv\")"
   ]
  },
  {
   "cell_type": "code",
   "execution_count": null,
   "metadata": {},
   "outputs": [],
   "source": [
    "data"
   ]
  },
  {
   "cell_type": "markdown",
   "metadata": {},
   "source": [
    "The data is representing percentage of users that clicked on an ad when they were presented with layout A, and people who clicked on the ad when they wew presented with layout B"
   ]
  },
  {
   "cell_type": "markdown",
   "metadata": {},
   "source": [
    "Let’s plot the distribution of target and control group:"
   ]
  },
  {
   "cell_type": "code",
   "execution_count": null,
   "metadata": {},
   "outputs": [],
   "source": [
    "plt.figure(\"Test Plots\")\n",
    "sns.distplot(data.Conversion_A, label='A')\n",
    "sns.distplot(data.Conversion_B, label='B')\n",
    "plt.legend()\n",
    "plt.show()\n"
   ]
  },
  {
   "cell_type": "markdown",
   "metadata": {},
   "source": [
    "We can use scipy to calculate the t-value. Remember that the t-value tells us whether the difference between the two groups is statistically significant."
   ]
  },
  {
   "cell_type": "code",
   "execution_count": null,
   "metadata": {},
   "outputs": [],
   "source": [
    "help(ss.ttest_ind)"
   ]
  },
  {
   "cell_type": "code",
   "execution_count": null,
   "metadata": {},
   "outputs": [],
   "source": [
    "t_stat, p_val= ss.ttest_ind(data.Conversion_B, data.Conversion_A)\n",
    "print(f'The t-test value is {t_stat}, and the p-value is {p_val}')"
   ]
  },
  {
   "cell_type": "markdown",
   "metadata": {},
   "source": [
    "Here, our p-value is less than the significance level i.e 0.05. Hence, we can reject the null hypothesis. This means that in our A/B testing, option B is performing better than option A. So our recommendation would be to replace our current option with B to bring more traffic on our website."
   ]
  },
  {
   "cell_type": "markdown",
   "metadata": {},
   "source": [
    "There are many tools available for conducting A/B testing but being a data scientist you must understand the factors working behind it. Also, you must be aware of the statistics in order to validate the test and prove its significance."
   ]
  }
 ],
 "metadata": {
  "language_info": {
   "name": "python"
  },
  "orig_nbformat": 4
 },
 "nbformat": 4,
 "nbformat_minor": 2
}
