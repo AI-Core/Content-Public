{
 "cells": [
  {
   "cell_type": "markdown",
   "metadata": {},
   "source": [
    "# Principal Component Analysis\n",
    "\n",
    "One challenge in machine learning is finding meaning in the data, particularly when it is very high dimensional. As such **dimensionality reduction**, which is a set of techniques that reduce the number of features in data, can be valuable. There are two situations in which we'd want to reduce dimensionality: Firstly, it allows us to visualise high dimensionality datasets by lowering the data dimensions to 2 or 3 dimensions. Secondly, it allows us to reduce the number of features in the data (although this comes at the cost of interpretability). When working with data which has a large amount of features (including NLP problems), doing so allows us to greatly reduce the number of model parameters which need to be optimised, which can save time and data (although in some cases this comes at the cost of feature interpretability).\n",
    "\n",
    "One dimensionality reduction technique which we will look at in this bootcamp is principal component analysis (PCA). It involves linearly transforming the normalised data such that it varies mostly in the directions of its axes, that are then known as the **pricipal components** of the data. Doing so means that the most important information (that of greatest variation) is captured as the 1st principal component of that data, the second most along the 2nd principal component, the 3rd most along the 3rd and so on. As such, the less important information, which lies along higher principal components, can be discarded by ignoring the values of the data which lie in that direction. Mathematically, this is a projection onto the lower dimensional space spanned by the more important principal components.\n",
    "\n",
    "Actually performing PCA is *relatively* simple. There are a couple ways to implement PCA, but we'll be focusing on the covariance approach here. Two concepts are required to be understood for you to be able to implement a PCA algorithm. Simply, a notion of covariance, and an understanding of eigenthings (eigenvectors and eigenvalues). Covariance allows us to capture the relationships between different variables, whilst eigenthings allow us to quantify the magnitude and direction of spread of some matrix/data.\n",
    "\n",
    "## Covariance\n",
    "\n",
    "![](https://www.statisticshowto.com/wp-content/uploads/2013/12/g-covariance.gif)\n",
    "([Source](https://www.statisticshowto.com/covariance/)) \n",
    "\n",
    "So how do you capture the most important information? If we had a 3-d input space, but all of the data points lied at the same height above the x-y plane, then it would be obvious that the z axis values of each of the datapoints could be discarded. This is not because the z-values take any particular value, but because they have zero **variance**. Variance is the mean of the square differences of the feature from that features' mean value:\n",
    "\n",
    "$$\n",
    "Var(x) = \\sigma^2 = \\frac{\\sum_i^m (x_i - \\mu)^2}{m}\n",
    "$$\n",
    "\n",
    "In more than one dimensional space, data variance is characterised by a **covariance matrix**. Whereas the variance characterises averagely how much the feature varies from its mean, the covariance matrix defines how much the features vary together; if, as one feature positively increases away from its mean, another feature also increases positively from its mean, then those two features will have a positive covariance. The formula for the covariance essentially makes each element a linear combination of the distances of one feature from its mean, weighted by the same for another feature; As long as we scale (subtract mean and divide by range/s.d) each feature first, then the covariance matrix can be computed as $X^T X$. Because the product of the scaled features commutes, the covariance matrix is symmetric.\n",
    "\n",
    "$$\n",
    "Cov(X) = \\Sigma = \\frac{1}{m} \\begin{bmatrix} \\Sigma (x_1 - \\mu_1)^2 & \\dots & \\Sigma (x_1 - \\mu_1)(x_n - \\mu_n)\\\\ \\vdots & \\ddots & \\vdots \\\\\\Sigma (x_n - \\mu_n)(x_1 - \\mu_1) & \\dots & \\Sigma (x_n - \\mu_n)^2  \\\\ \\end{bmatrix} = X^T X \\in R^{n \\times n}\n",
    "$$\n",
    "\n",
    "- Positive covariance: features vary in the same direction together (positively correlated)\n",
    "- Negative covariance: features vary in opposite directions together (negatively correlated)\n",
    "- (Near) zero covariance: features are uncorrelated\n",
    "\n",
    "## Eigen-stuff\n",
    "An eigenvector is a vector which does not change direction after a linear transformation is applied to it. In the image below, we have transformed three vectors by scaling it with a factor of 2 in the horizontal direction and a factor of 0.5 in the vertical direction. The transformation matrix is thus given by: $\\begin{bmatrix}\n",
    "2 & 0\\\\\n",
    "0 & 0.5\n",
    "\\end{bmatrix}$\n",
    "![](https://www.visiondummy.com/wp-content/uploads/2014/03/eigenvectors.png)\n",
    "\n",
    "We see in the above image that the **eigenvectors** (those in red) do not change direction when a linear transformation is applied to them. All other vectors, however, do. Mathematically, a vector $\\overrightarrow{v}$ is scaled by a transformation matrix $A$. Thus, $\\overrightarrow{v'} = A\\overrightarrow{v}$. For an arbitrary transformation matrix, the eigenvectors and eigenvalues are defined by the following formula:\n",
    "$$\n",
    "A\\overrightarrow{v} = \\lambda\\overrightarrow{v}\n",
    "$$\n",
    "\n",
    "$\\lambda$ is a scalar which specifies the **eigenvalue**. Any solution for the above equation given $A$ will require a $\\lambda$. Note that eigenvalues do not take on the value 0 as this is a trivial solution\n",
    "\n",
    "## PCA\n",
    "The covariance matrix can be throught of as a transformation of the n dimensional space (as it is a function of each of the features) and is characterised by its eigenvectors which define how that transformation stretches the space. The space is stretched most by a factor of the largest eigenvalue, and least by a factor of the smallest eigenvalue; all points in space which do not lie along the corresponding eigenvectors are scaled by a factor between these two eigenvalues. Because it is symmetric the covariance matrix has orthogonal eigenvectors (a property of a rotation), but the eigenvectors are not of unit length, so the transformation also stretches the space in directions and amounts corresponding to these eigenvectors.\n",
    "\n",
    "Whew! That's all the theory actually done. As far as actually implmenting PCA goes, it's relatively straightfoward:\n",
    "1. Standardise your data\n",
    "2. Calculate the covariance matrix\n",
    "3. Calculate the eigenvectors and eigenvalues\n",
    "4. Reduce the dimensionality!\n",
    "  1. Truncate the eigenvectors to your chosen number of dimensionality\n",
    "  2. Matrix multiply your truncated eigenvectors by your standardised matrix\n",
    "5. Plot! (If you've chosen a dimensionality less than 3)\n",
    "\n",
    "Compressing data using PCA looks like this:\n",
    "<img src='images/pcafigs1.png'>\n",
    "<img src='images/pcafigs2.png'>"
   ]
  },
  {
   "cell_type": "markdown",
   "metadata": {},
   "source": [
    "## The code"
   ]
  },
  {
   "cell_type": "code",
   "execution_count": 1,
   "metadata": {},
   "outputs": [],
   "source": [
    "import numpy as np      # effective math\n",
    "import matplotlib.pyplot as plt     # ultimate plotting tool\n",
    "from mpl_toolkits.mplot3d import Axes3D     # 3D plots\n",
    "import pandas as pd     # allow us to make dataframes to store our data cleanly\n",
    "from sklearn import datasets"
   ]
  },
  {
   "cell_type": "code",
   "execution_count": 2,
   "metadata": {},
   "outputs": [
    {
     "name": "stdout",
     "output_type": "stream",
     "text": [
      "(150, 4)\n",
      "(150,)\n"
     ]
    },
    {
     "data": {
      "text/html": [
       "<div>\n",
       "<style scoped>\n",
       "    .dataframe tbody tr th:only-of-type {\n",
       "        vertical-align: middle;\n",
       "    }\n",
       "\n",
       "    .dataframe tbody tr th {\n",
       "        vertical-align: top;\n",
       "    }\n",
       "\n",
       "    .dataframe thead th {\n",
       "        text-align: right;\n",
       "    }\n",
       "</style>\n",
       "<table border=\"1\" class=\"dataframe\">\n",
       "  <thead>\n",
       "    <tr style=\"text-align: right;\">\n",
       "      <th></th>\n",
       "      <th>sepal.length</th>\n",
       "      <th>sepal.width</th>\n",
       "      <th>petal.length</th>\n",
       "      <th>petal.width</th>\n",
       "      <th>variety</th>\n",
       "    </tr>\n",
       "  </thead>\n",
       "  <tbody>\n",
       "    <tr>\n",
       "      <th>0</th>\n",
       "      <td>5.1</td>\n",
       "      <td>3.5</td>\n",
       "      <td>1.4</td>\n",
       "      <td>0.2</td>\n",
       "      <td>0</td>\n",
       "    </tr>\n",
       "    <tr>\n",
       "      <th>1</th>\n",
       "      <td>4.9</td>\n",
       "      <td>3.0</td>\n",
       "      <td>1.4</td>\n",
       "      <td>0.2</td>\n",
       "      <td>0</td>\n",
       "    </tr>\n",
       "    <tr>\n",
       "      <th>2</th>\n",
       "      <td>4.7</td>\n",
       "      <td>3.2</td>\n",
       "      <td>1.3</td>\n",
       "      <td>0.2</td>\n",
       "      <td>0</td>\n",
       "    </tr>\n",
       "    <tr>\n",
       "      <th>3</th>\n",
       "      <td>4.6</td>\n",
       "      <td>3.1</td>\n",
       "      <td>1.5</td>\n",
       "      <td>0.2</td>\n",
       "      <td>0</td>\n",
       "    </tr>\n",
       "    <tr>\n",
       "      <th>4</th>\n",
       "      <td>5.0</td>\n",
       "      <td>3.6</td>\n",
       "      <td>1.4</td>\n",
       "      <td>0.2</td>\n",
       "      <td>0</td>\n",
       "    </tr>\n",
       "    <tr>\n",
       "      <th>...</th>\n",
       "      <td>...</td>\n",
       "      <td>...</td>\n",
       "      <td>...</td>\n",
       "      <td>...</td>\n",
       "      <td>...</td>\n",
       "    </tr>\n",
       "    <tr>\n",
       "      <th>145</th>\n",
       "      <td>6.7</td>\n",
       "      <td>3.0</td>\n",
       "      <td>5.2</td>\n",
       "      <td>2.3</td>\n",
       "      <td>2</td>\n",
       "    </tr>\n",
       "    <tr>\n",
       "      <th>146</th>\n",
       "      <td>6.3</td>\n",
       "      <td>2.5</td>\n",
       "      <td>5.0</td>\n",
       "      <td>1.9</td>\n",
       "      <td>2</td>\n",
       "    </tr>\n",
       "    <tr>\n",
       "      <th>147</th>\n",
       "      <td>6.5</td>\n",
       "      <td>3.0</td>\n",
       "      <td>5.2</td>\n",
       "      <td>2.0</td>\n",
       "      <td>2</td>\n",
       "    </tr>\n",
       "    <tr>\n",
       "      <th>148</th>\n",
       "      <td>6.2</td>\n",
       "      <td>3.4</td>\n",
       "      <td>5.4</td>\n",
       "      <td>2.3</td>\n",
       "      <td>2</td>\n",
       "    </tr>\n",
       "    <tr>\n",
       "      <th>149</th>\n",
       "      <td>5.9</td>\n",
       "      <td>3.0</td>\n",
       "      <td>5.1</td>\n",
       "      <td>1.8</td>\n",
       "      <td>2</td>\n",
       "    </tr>\n",
       "  </tbody>\n",
       "</table>\n",
       "<p>150 rows × 5 columns</p>\n",
       "</div>"
      ],
      "text/plain": [
       "     sepal.length  sepal.width  petal.length  petal.width  variety\n",
       "0             5.1          3.5           1.4          0.2        0\n",
       "1             4.9          3.0           1.4          0.2        0\n",
       "2             4.7          3.2           1.3          0.2        0\n",
       "3             4.6          3.1           1.5          0.2        0\n",
       "4             5.0          3.6           1.4          0.2        0\n",
       "..            ...          ...           ...          ...      ...\n",
       "145           6.7          3.0           5.2          2.3        2\n",
       "146           6.3          2.5           5.0          1.9        2\n",
       "147           6.5          3.0           5.2          2.0        2\n",
       "148           6.2          3.4           5.4          2.3        2\n",
       "149           5.9          3.0           5.1          1.8        2\n",
       "\n",
       "[150 rows x 5 columns]"
      ]
     },
     "execution_count": 2,
     "metadata": {},
     "output_type": "execute_result"
    }
   ],
   "source": [
    "data = pd.read_csv('../DATA/iris.csv')\n",
    "\n",
    "label_dict = {'Setosa': 0, 'Versicolor': 1, 'Virginica': 2}  # dictionary containing label to number mapping\n",
    "data[\"variety\"] = data[\"variety\"].replace(label_dict)\n",
    "\n",
    "X = data[[\"sepal.length\", \"sepal.width\", \"petal.length\", \"petal.width\"]]\n",
    "Y = data[\"variety\"]\n",
    "\n",
    "print(X.shape)      # 150 rows (datapoints), 4 columns (features)\n",
    "print(Y.shape)      # 150 single dimension labels\n",
    "\n",
    "m = X.shape[0]      # 150 rows\n",
    "\n",
    "data"
   ]
  },
  {
   "cell_type": "markdown",
   "metadata": {},
   "source": [
    "To compute our covariance matrix from $X^TX$, we must scale our features:"
   ]
  },
  {
   "cell_type": "code",
   "execution_count": 3,
   "metadata": {},
   "outputs": [
    {
     "data": {
      "text/html": [
       "<div>\n",
       "<style scoped>\n",
       "    .dataframe tbody tr th:only-of-type {\n",
       "        vertical-align: middle;\n",
       "    }\n",
       "\n",
       "    .dataframe tbody tr th {\n",
       "        vertical-align: top;\n",
       "    }\n",
       "\n",
       "    .dataframe thead th {\n",
       "        text-align: right;\n",
       "    }\n",
       "</style>\n",
       "<table border=\"1\" class=\"dataframe\">\n",
       "  <thead>\n",
       "    <tr style=\"text-align: right;\">\n",
       "      <th></th>\n",
       "      <th>sepal.length</th>\n",
       "      <th>sepal.width</th>\n",
       "      <th>petal.length</th>\n",
       "      <th>petal.width</th>\n",
       "    </tr>\n",
       "  </thead>\n",
       "  <tbody>\n",
       "    <tr>\n",
       "      <th>0</th>\n",
       "      <td>-0.900681</td>\n",
       "      <td>1.019004</td>\n",
       "      <td>-1.340227</td>\n",
       "      <td>-1.315444</td>\n",
       "    </tr>\n",
       "    <tr>\n",
       "      <th>1</th>\n",
       "      <td>-1.143017</td>\n",
       "      <td>-0.131979</td>\n",
       "      <td>-1.340227</td>\n",
       "      <td>-1.315444</td>\n",
       "    </tr>\n",
       "    <tr>\n",
       "      <th>2</th>\n",
       "      <td>-1.385353</td>\n",
       "      <td>0.328414</td>\n",
       "      <td>-1.397064</td>\n",
       "      <td>-1.315444</td>\n",
       "    </tr>\n",
       "    <tr>\n",
       "      <th>3</th>\n",
       "      <td>-1.506521</td>\n",
       "      <td>0.098217</td>\n",
       "      <td>-1.283389</td>\n",
       "      <td>-1.315444</td>\n",
       "    </tr>\n",
       "    <tr>\n",
       "      <th>4</th>\n",
       "      <td>-1.021849</td>\n",
       "      <td>1.249201</td>\n",
       "      <td>-1.340227</td>\n",
       "      <td>-1.315444</td>\n",
       "    </tr>\n",
       "    <tr>\n",
       "      <th>...</th>\n",
       "      <td>...</td>\n",
       "      <td>...</td>\n",
       "      <td>...</td>\n",
       "      <td>...</td>\n",
       "    </tr>\n",
       "    <tr>\n",
       "      <th>145</th>\n",
       "      <td>1.038005</td>\n",
       "      <td>-0.131979</td>\n",
       "      <td>0.819596</td>\n",
       "      <td>1.448832</td>\n",
       "    </tr>\n",
       "    <tr>\n",
       "      <th>146</th>\n",
       "      <td>0.553333</td>\n",
       "      <td>-1.282963</td>\n",
       "      <td>0.705921</td>\n",
       "      <td>0.922303</td>\n",
       "    </tr>\n",
       "    <tr>\n",
       "      <th>147</th>\n",
       "      <td>0.795669</td>\n",
       "      <td>-0.131979</td>\n",
       "      <td>0.819596</td>\n",
       "      <td>1.053935</td>\n",
       "    </tr>\n",
       "    <tr>\n",
       "      <th>148</th>\n",
       "      <td>0.432165</td>\n",
       "      <td>0.788808</td>\n",
       "      <td>0.933271</td>\n",
       "      <td>1.448832</td>\n",
       "    </tr>\n",
       "    <tr>\n",
       "      <th>149</th>\n",
       "      <td>0.068662</td>\n",
       "      <td>-0.131979</td>\n",
       "      <td>0.762758</td>\n",
       "      <td>0.790671</td>\n",
       "    </tr>\n",
       "  </tbody>\n",
       "</table>\n",
       "<p>150 rows × 4 columns</p>\n",
       "</div>"
      ],
      "text/plain": [
       "     sepal.length  sepal.width  petal.length  petal.width\n",
       "0       -0.900681     1.019004     -1.340227    -1.315444\n",
       "1       -1.143017    -0.131979     -1.340227    -1.315444\n",
       "2       -1.385353     0.328414     -1.397064    -1.315444\n",
       "3       -1.506521     0.098217     -1.283389    -1.315444\n",
       "4       -1.021849     1.249201     -1.340227    -1.315444\n",
       "..            ...          ...           ...          ...\n",
       "145      1.038005    -0.131979      0.819596     1.448832\n",
       "146      0.553333    -1.282963      0.705921     0.922303\n",
       "147      0.795669    -0.131979      0.819596     1.053935\n",
       "148      0.432165     0.788808      0.933271     1.448832\n",
       "149      0.068662    -0.131979      0.762758     0.790671\n",
       "\n",
       "[150 rows x 4 columns]"
      ]
     },
     "execution_count": 3,
     "metadata": {},
     "output_type": "execute_result"
    }
   ],
   "source": [
    "def standardise(x):\n",
    "    \"\"\"Centre around mean and divide by range to put all features on similar scale\"\"\"\n",
    "    ## Standardise the data\n",
    "  \n",
    "X_std = standardise(X)    # centre data around mean and divide by range/s.d\n",
    "X_std"
   ]
  },
  {
   "cell_type": "markdown",
   "metadata": {},
   "source": [
    "Now lets find the covariance of our data and its eigenvalues and eigenvectors"
   ]
  },
  {
   "cell_type": "code",
   "execution_count": 4,
   "metadata": {},
   "outputs": [
    {
     "name": "stdout",
     "output_type": "stream",
     "text": [
      "\n",
      "Covariance matrix\n",
      "[[150.         -17.63546762 130.76306638 122.69116894]\n",
      " [-17.63546762 150.         -64.26601565 -54.91888988]\n",
      " [130.76306638 -64.26601565 150.         144.42981471]\n",
      " [122.69116894 -54.91888988 144.42981471 150.        ]]\n",
      "\n",
      "Eigenvectors\n",
      "[[ 0.52106591 -0.37741762 -0.71956635  0.26128628]\n",
      " [-0.26934744 -0.92329566  0.24438178 -0.12350962]\n",
      " [ 0.5804131  -0.02449161  0.14212637 -0.80144925]\n",
      " [ 0.56485654 -0.06694199  0.63427274  0.52359713]]\n",
      "\n",
      "Eigenvalues\n",
      "[437.77467248 137.10457072  22.01353134   3.10722546]\n"
     ]
    }
   ],
   "source": [
    "def decompose(x):\n",
    "    \"\"\"Compute the covariance matrix of the data and find its eigen properties\"\"\"\n",
    "    ## Compute the Covariance matrix\n",
    "\n",
    "    ## Compute the eigenstuff\n",
    "   \n",
    "    return eig_vals, eig_vecs, cov\n",
    "\n",
    "X_std = np.array(X_std)\n",
    "eig_vals, eig_vecs, covariance = decompose(X_std)      # compute the covariance matrix and find its characteristics"
   ]
  },
  {
   "cell_type": "markdown",
   "metadata": {},
   "source": [
    "We can visualise how each eigenvector contributes to the variance of our data by conparing their eigenvectors. The eigenvalues define how much each eigenvector has scaled the space, which corresponds to the variance of the data in each orthogonal direction. The eigenvectors with greater eigenvalues correspond to the directions which the data varies more in and hence contain more information. We will keep those which are most important and throw away the others to reduce the dimensionality of our data."
   ]
  },
  {
   "cell_type": "code",
   "execution_count": 5,
   "metadata": {
    "scrolled": true
   },
   "outputs": [
    {
     "data": {
      "image/png": "[encoded data removed]",
      "text/plain": [
       "<Figure size 432x288 with 1 Axes>"
      ]
     },
     "metadata": {
      "needs_background": "light"
     },
     "output_type": "display_data"
    }
   ],
   "source": [
    "def whicheigs(eig_vals):\n",
    "    \"\"\"\"Plot the variance accounted for by each eigenvector and their cumulative sum\"\"\"\n",
    "    total = sum(eig_vals)   # sum up the eigenvalues so we can compare each one to the total to determine their importance\n",
    "    var_percent = [(i/total) * 100 for i in eig_vals]   # calculate the percentage variance of the data which this eigenvalue accounts for\n",
    "    cum_var_percent = np.cumsum(var_percent)    # make a vector of the cumulative sum of the variance percentages\n",
    "\n",
    "    fig = plt.figure()      # make a figure\n",
    "    ax =  fig.add_subplot(111)      # add an axis\n",
    "    plt.title('Variance along different principal components')\n",
    "    ax.grid()\n",
    "    plt.xlabel('Principal Component')\n",
    "    plt.ylabel('Percentage total variance accounted for')\n",
    "\n",
    "    ax.plot(cum_var_percent, '-ro')     # plot the cumulative sum of the variances accounted for by each eigenvector\n",
    "    ax.bar(range(len(eig_vals)), var_percent) # position, height # show how much variance individual eig accounts for\n",
    "    plt.xticks(np.arange(len(eig_vals)), ('PC{}'.format(i) for i in range(len(eig_vals))))  # set the xticks to 'PC1' etc\n",
    "    plt.show()  # show us the figure\n",
    "    \n",
    "whicheigs(eig_vals)     # visualise the variance of the data for each eigenvector of the covariance matrix"
   ]
  },
  {
   "cell_type": "markdown",
   "metadata": {},
   "source": [
    "Now, using the matrix of eigenvectors which we returned above, we can throw away the less important vectors (the end columns) and rotate our data such that these become the axes which describe it."
   ]
  },
  {
   "cell_type": "code",
   "execution_count": 6,
   "metadata": {},
   "outputs": [
    {
     "name": "stdout",
     "output_type": "stream",
     "text": [
      "\n",
      "Dimension reducing matrix\n",
      "[[ 0.52106591 -0.37741762]\n",
      " [-0.26934744 -0.92329566]\n",
      " [ 0.5804131  -0.02449161]\n",
      " [ 0.56485654 -0.06694199]]\n",
      "(150, 2)\n",
      "(4, 2)\n"
     ]
    }
   ],
   "source": [
    "def reduce(x, eig_vecs, dims):\n",
    "    \"\"\"reduce the number of dimensions of our data by transforming by the truncated matrix of covariance eigenvectors\"\"\"\n",
    "    W = eig_vecs[:, :dims]\n",
    "    print('\\nDimension reducing matrix')\n",
    "    print(W)\n",
    "    return np.matmul(x, W), W\n",
    "\n",
    "dim = 2\n",
    "X_reduced, transform = reduce(X_std, eig_vecs, dim)     # transform our data into a lower dimension\n",
    "\n",
    "print(X_reduced.shape)\n",
    "print(transform.shape)"
   ]
  },
  {
   "cell_type": "markdown",
   "metadata": {},
   "source": [
    "Now that we have transformed our data to a lower dimension, we can visualise it."
   ]
  },
  {
   "cell_type": "code",
   "execution_count": 7,
   "metadata": {},
   "outputs": [
    {
     "name": "stderr",
     "output_type": "stream",
     "text": [
      "C:\\Users\\Nihir\\AppData\\Roaming\\Python\\Python37\\site-packages\\ipykernel_launcher.py:15: MatplotlibDeprecationWarning: Adding an axes using the same arguments as a previous axes currently reuses the earlier instance.  In a future version, a new instance will always be created and returned.  Meanwhile, this warning can be suppressed, and the future behavior ensured, by passing a unique label to each axes instance.\n",
      "  from ipykernel import kernelapp as app\n"
     ]
    },
    {
     "data": {
      "image/png": "[encoded data removed]",
      "text/plain": [
       "<Figure size 432x288 with 1 Axes>"
      ]
     },
     "metadata": {
      "needs_background": "light"
     },
     "output_type": "display_data"
    }
   ],
   "source": [
    "colour_dict = {0:'r', 1:'g', 2:'b'}     # map labels to colours for plotting\n",
    "colour_list = [colour_dict[i] for i in list(Y)]     # generator to give list of colours corresponding to each class\n",
    "\n",
    "def plotreduced(x, dim):\n",
    "    \"\"\"Plot the data which has been transformed to a visualisable dimension\"\"\"\n",
    "    fig = plt.figure()      # make a figure\n",
    "    plt.grid()\n",
    "    if dim == 3:\n",
    "        ax = fig.add_subplot(111, projection='3d')      # add a 3d set of axes\n",
    "        ax.scatter(x[:, 0], x[:, 1], x[:, 2], c=colour_list)    # scatter plot our 3d data\n",
    "        plt.xlabel('PC1 value')\n",
    "        plt.ylabel('PC2 value')\n",
    "        ax.set_zlabel('PC3 value')\n",
    "    elif dim == 2:\n",
    "        ax = fig.add_subplot(111)      # add a 2d set of axes\n",
    "        ax.scatter(x[:, 0], x[:, 1], c=colour_list)    # scatter plot our 3d data\n",
    "        plt.xlabel('PC1 value')\n",
    "        plt.ylabel('PC2 value')\n",
    "    elif dim == 1:\n",
    "        ax = fig.add_subplot(111)       # add a 2d axis\n",
    "        ax.scatter(x, np.zeros_like(x), c=colour_list)      # plot the 1D data along the x axis (zero for each y value)\n",
    "        plt.xlabel('PC1 Value')\n",
    "    plt.show()\n",
    "    return ax\n",
    "\n",
    "ax = plotreduced(X_reduced, dim)      # check out how the data looks in a visualisable dimension"
   ]
  },
  {
   "cell_type": "markdown",
   "metadata": {},
   "source": [
    "# t-SNE\n",
    "\n",
    "Whilst PCA can be used for dimensionality reduction techniques and visualisation purposes, one particularly recent algorithm has seen a rise in popularity for data visualisation. This algorithm is [t-SNE](https://www.semanticscholar.org/paper/Visualizing-Data-using-t-SNE-Maaten-Hinton/1c46943103bd7b7a2c7be86859995a4144d1938b), which stands for \"t-distributed stochastic neighbor embedding\". The maths behind the algorithm is out of scope for this course, but intuitively, the algorithm has two steps. The first of which is to create a probability distribution for every point in the dataset in a manner that other points which are similar to this point are assigned a higher probability, and conversely, less similar points are assigned a lower probability. Secondly, the original data is randomly projected into a lower dimensional plane (2-d or 3-d). The algorithm constructs another set of probability distributions for each point in this lower dimensional plane, and using the higher dimensional set of probability distributions, it attempts to minimise the Kullback-Leibler divergence of the two by shifting around the points in the lower dimensional plane.\n",
    "\n",
    "Note that the t-SNE algorithm is non-linear in nature (whereas PCA is linear). This means that t-SNE can model more complex relationships between features than PCA is able to do. To gain some intution behind what t-SNE can do, [this link](https://distill.pub/2016/misread-tsne/) is a brilliant resource.\n",
    "\n",
    "We'll implement [t-SNE on a dataset using the sklearn module](https://scikit-learn.org/stable/modules/generated/sklearn.manifold.TSNE.html). For more information on effective usage, visit [sklearn's user guide](https://scikit-learn.org/stable/modules/manifold.html#t-sne)"
   ]
  },
  {
   "cell_type": "code",
   "execution_count": 13,
   "metadata": {},
   "outputs": [
    {
     "name": "stderr",
     "output_type": "stream",
     "text": [
      "C:\\Users\\Nihir\\AppData\\Roaming\\Python\\Python37\\site-packages\\ipykernel_launcher.py:15: MatplotlibDeprecationWarning: Adding an axes using the same arguments as a previous axes currently reuses the earlier instance.  In a future version, a new instance will always be created and returned.  Meanwhile, this warning can be suppressed, and the future behavior ensured, by passing a unique label to each axes instance.\n",
      "  from ipykernel import kernelapp as app\n"
     ]
    },
    {
     "data": {
      "image/png": "[encoded data removed]",
      "text/plain": [
       "<Figure size 432x288 with 1 Axes>"
      ]
     },
     "metadata": {
      "needs_background": "light"
     },
     "output_type": "display_data"
    }
   ],
   "source": [
    "from sklearn.manifold import TSNE\n",
    "\n",
    "dim = 2\n",
    "X_tsne = TSNE(n_components=dim).fit_transform(X)\n",
    "ax = plotreduced(X_tsne, dim)"
   ]
  },
  {
   "cell_type": "code",
   "execution_count": null,
   "metadata": {},
   "outputs": [],
   "source": []
  }
 ],
 "metadata": {
  "kernelspec": {
   "display_name": "Python 3",
   "language": "python",
   "name": "python3"
  },
  "language_info": {
   "codemirror_mode": {
    "name": "ipython",
    "version": 3
   },
   "file_extension": ".py",
   "mimetype": "text/x-python",
   "name": "python",
   "nbconvert_exporter": "python",
   "pygments_lexer": "ipython3",
   "version": "3.7.6"
  }
 },
 "nbformat": 4,
 "nbformat_minor": 2
}
