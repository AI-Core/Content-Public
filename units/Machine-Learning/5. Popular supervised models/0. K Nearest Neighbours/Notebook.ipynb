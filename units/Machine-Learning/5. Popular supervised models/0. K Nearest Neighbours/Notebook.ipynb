{
 "cells": [
  {
   "cell_type": "markdown",
   "metadata": {},
   "source": [
    "# KNN\n"
   ]
  },
  {
   "cell_type": "markdown",
   "metadata": {},
   "source": [
    "\n",
    "## Intro - the algorithm\n"
   ]
  },
  {
   "cell_type": "markdown",
   "metadata": {},
   "source": [
    "\n",
    "K-nearest neighbours is an extremely simple algorithm, which consists of the following steps:\n",
    "\n",
    "- take `K` nearest neighbors (nearest data points) by some metric (usually euclidean) (`K` is hyperparameter)\n",
    "- take average of their respective regression value (for regression tasks) __or__ do the __majority voting__ in case of labels\n",
    "- and you have your output!\n"
   ]
  },
  {
   "cell_type": "markdown",
   "metadata": {},
   "source": [
    "\n",
    "## What does it mean to be the nearest neighbour?\n"
   ]
  },
  {
   "cell_type": "markdown",
   "metadata": {},
   "source": [
    "\n",
    "<p align=center><img width=1000 src=images/knn_data_distances.jpg></p>\n",
    "\n",
    "__Note that the neighbourhood of an example in the train set includes itself!__ \n"
   ]
  },
  {
   "cell_type": "markdown",
   "metadata": {},
   "source": [
    "\n",
    "## Special case of model\n"
   ]
  },
  {
   "cell_type": "markdown",
   "metadata": {},
   "source": [
    "\n",
    "In this case our model is quite special in machine learning because:\n",
    "- __It has no parameters to learn__, hence it is a __non-parametric model__\n",
    "- __No learning phase required__ a.k.a. a __lazy predictor__\n",
    "- All of the data has to be kept __at all times__, hence it isn't the most memory-efficient method\n",
    "- Predictions are fast, but might be prone to overfitting because of `K`"
   ]
  },
  {
   "cell_type": "code",
   "execution_count": null,
   "metadata": {},
   "outputs": [],
   "source": [
    "%matplotlib inline\n",
    "\n",
    "import matplotlib.pyplot as plt\n",
    "import numpy as np\n",
    "import pandas as pd\n",
    "import seaborn as sns\n",
    "from sklearn import datasets\n",
    "\n",
    "X, y = datasets.make_blobs(\n",
    "    n_samples=300, centers=6, cluster_std=0.5, random_state=0\n",
    ")\n",
    "data = pd.DataFrame(\n",
    "    data=np.concatenate((X, y.reshape(-1, 1)), axis=1),\n",
    "    columns=[\"X1\", \"X2\", \"labels\"],\n",
    ")\n",
    "\n",
    "sns.lmplot(x='X1', y='X2', hue='labels', data=data, fit_reg=False)"
   ]
  },
  {
   "cell_type": "markdown",
   "metadata": {},
   "source": [
    "## Implementing distance calculation\n",
    "\n",
    "<p align=center><img width=900 src=images/knn_distance_measures.jpg></p>\n",
    "\n",
    "We normally use the Euclidian distance, but we may choose to run the algorithm using different distance metrics.\n",
    "\n",
    "We will use `scipy` in order to speed-up the computation and make it easier:"
   ]
  },
  {
   "cell_type": "code",
   "execution_count": null,
   "metadata": {
    "tags": []
   },
   "outputs": [],
   "source": [
    "import scipy\n",
    "\n",
    "distances = scipy.spatial.distance.cdist(X, X)\n",
    "print(X.shape)\n",
    "print(distances.shape)"
   ]
  },
  {
   "cell_type": "markdown",
   "metadata": {},
   "source": [
    "This metric will be passed to our `KNN` model as a hyperparameter."
   ]
  },
  {
   "cell_type": "markdown",
   "metadata": {},
   "source": [
    "## Exercise\n"
   ]
  },
  {
   "cell_type": "markdown",
   "metadata": {},
   "source": [
    "\n",
    "### Implementation\n"
   ]
  },
  {
   "cell_type": "markdown",
   "metadata": {},
   "source": [
    "\n",
    "With that in mind, we can move on to `KNN` implementation.\n",
    "\n",
    "- Create `KNN` classs taking `k` and `distance` as hyperparameters (assign `None` to `self.X` and `self.y`)\n",
    "- Create `fit` method taking `X` and `y` (what should it do?)\n",
    "- Create `predict` method taking `X` and predicting respective labels. To do that we have to:\n",
    "    - calculate distances between `self.X` and `X` using `self.metric`\n",
    "    - do sorting by index ([`np.argsort`](https://numpy.org/doc/stable/reference/generated/numpy.argsort.html)) along specific axis. Output shape from this step should be `(self.X.shape[0], X.shape[0])` so the distance of each point of `self.X` to every other point in `X`.\n",
    "    - Choose at most `k` samples from `self.X` (__tip: simply slice with [: self.k]__) Output shape from this step should be `(K, X.shape[0])` a.k.a. (number of neighbors, number of examples in X)\n",
    "    - Use `numpy`'s fancy indexing on `labels` (`self.y`) using those sorted indices. __Tip: try simplest solution__. Output shape should be the same as in previous steps\n",
    "    - Count how many labels `k` has for each example using `bincount2d`. Output shape should be: `(X.shape[0], classes)`, where `classes` is the number of unique classes in `y`. Can you pass output from previous step directly or do we have to transform it somehow in order for shapes to be right?\n",
    "    - Finally, return the label occurring most frequently using [`np.argmax`](https://numpy.org/doc/stable/reference/generated/numpy.argmax.html) along specific axis. Output shape should be `(X.shape[0],)` (vector containing labels for each example)\n"
   ]
  },
  {
   "cell_type": "markdown",
   "metadata": {},
   "source": [
    "    \n",
    "### Analysis\n"
   ]
  },
  {
   "cell_type": "markdown",
   "metadata": {},
   "source": [
    "\n",
    "Check the accuracy on training dataset to be sure everything works correctly (you can use `sklearn.metrics` module).\n",
    "\n",
    "- What is the accuracy in this case and why is that?\n",
    "- What would we need to do to change it __for the worse__ (by only varying hyperparameters)?"
   ]
  },
  {
   "cell_type": "code",
   "execution_count": null,
   "metadata": {
    "tags": []
   },
   "outputs": [],
   "source": [
    "import typing\n",
    "import dataclasses\n",
    "\n",
    "\n",
    "def bincount2d(x):\n",
    "    N = x.max() + 1\n",
    "    ids = x + (N * np.arange(x.shape[0]))[:, None]\n",
    "    return np.bincount(ids.ravel(), minlength=N * x.shape[0]).reshape(-1, N)\n",
    "\n",
    "@dataclasses.dataclass\n",
    "class KNN:\n",
    "    k: int\n",
    "    metric: typing.Callable[[np.array], np.array]\n",
    "\n",
    "    def fit(self, X, y):\n",
    "        self.X = X\n",
    "        self.y = y\n",
    "\n",
    "    def predict(self, X):\n",
    "        assert hasattr(self, \"X\"), \"fit method should be called before predicting!\"\n",
    "        distances = self.metric(self.X, X)\n",
    "        labels_indices = np.argsort(distances, axis=0)[: self.k]\n",
    "        labels = y[labels_indices]\n",
    "        frequencies = bincount2d(labels.T)\n",
    "        return np.argmax(frequencies, axis=1)\n",
    "\n",
    "\n",
    "        \n",
    "clf = KNN(k=3, metric=scipy.spatial.distance.cdist)\n",
    "clf.fit(X, y)\n",
    "clf.predict(X)"
   ]
  },
  {
   "cell_type": "code",
   "execution_count": null,
   "metadata": {},
   "outputs": [],
   "source": [
    "from sklearn.metrics import accuracy_score\n",
    "\n",
    "accuracy_score(clf.predict(X), y)"
   ]
  },
  {
   "cell_type": "markdown",
   "metadata": {},
   "source": [
    "## Numba\n",
    "\n",
    "[`numba`](https://numba.pydata.org/) is a simple Python framework which the authors describe as:\n",
    "\n",
    "> Numba is an open source JIT compiler that translates a subset of Python and NumPy code into fast machine code.\n",
    "\n",
    "It's goal is to make our code as fast as `numpy` (or even faster) while allowing us to use Python native functions (like loops, if statements etc.)"
   ]
  },
  {
   "cell_type": "code",
   "execution_count": null,
   "metadata": {},
   "outputs": [],
   "source": [
    "!pip install numba"
   ]
  },
  {
   "cell_type": "code",
   "execution_count": null,
   "metadata": {},
   "outputs": [],
   "source": [
    "import contextlib\n",
    "import time\n",
    "\n",
    "import numba\n",
    "import numpy as np\n",
    "\n",
    "\n",
    "@contextlib.contextmanager\n",
    "def timer(function):\n",
    "    start = time.time()\n",
    "    yield\n",
    "    print(f\"Elapsed time for {function.__name__}: {(time.time() - start)}\")\n",
    "\n",
    "\n",
    "@numba.jit(nopython=True)  # @njit is the same\n",
    "def numba_trace(a):\n",
    "    trace = 0.0\n",
    "    for i in range(a.shape[0]):\n",
    "        trace += np.tanh(a[i, i])\n",
    "    return a + trace\n",
    "\n",
    "\n",
    "def python_trace(a):\n",
    "    trace = 0.0\n",
    "    for i in range(a.shape[0]):\n",
    "        trace += np.tanh(a[i, i])\n",
    "    return a + trace\n",
    "\n",
    "\n",
    "def numpy_trace(a):\n",
    "    return a + np.trace(a)\n",
    "\n",
    "\n",
    "x = np.arange(1000000).reshape(1000, 1000)\n",
    "\n",
    "# Pure Python run\n",
    "with timer(python_trace):\n",
    "    python_trace(x)\n",
    "\n",
    "# Pure numpy run\n",
    "with timer(numpy_trace):\n",
    "    python_trace(x)\n",
    "\n",
    "# First run is slower due to compilation\n",
    "with timer(numba_trace):\n",
    "    numba_trace(x)\n",
    "\n",
    "# Now it is the fastest\n",
    "with timer(numba_trace):\n",
    "    numba_trace(x)"
   ]
  },
  {
   "cell_type": "markdown",
   "metadata": {},
   "source": [
    "## About numba\n",
    "\n",
    "`numba` is mostly about using decorators over functions (or classes in some cases), hence it's pretty easy to use.\n",
    "\n",
    "__Sometimes you need to dig a little why some code snippet does not work, but in the end it's usually worth it!__\n",
    "\n",
    "### Compilation phase\n",
    "\n",
    "- First time `numba` with `njit` decorator is run, `numba` reads Python bytecode, analyzes, optimizers and finally compiles it using [LLVM](https://llvm.org/) \n",
    "- Generated machine code is tailored to your specific CPU architecture (specific low-level instructions)\n",
    "\n",
    "### Tips\n",
    "\n",
    "- Use `numba` when `numpy` code is really hard to vectorize (__take some time to come up with vectorized solution always, this is your last resort__)\n",
    "- Use `numba` for functions which either:\n",
    "    - take long to run (so the compilation time does not impact the runtime)\n",
    "    - are run many times\n",
    "- Take care of arguments and their type specification (next notebook)\n",
    "- Use `njit` whenever possible\n",
    "- Numba provides `parallel` argument for decorators (for `njit` also). Use it when single loop iteration takes a long time and is independent from the next run"
   ]
  },
  {
   "cell_type": "markdown",
   "metadata": {},
   "source": [
    "# Voting\n"
   ]
  },
  {
   "cell_type": "markdown",
   "metadata": {},
   "source": [
    "\n",
    "What we have seen above is called __majority voting__:\n",
    "\n",
    "> In majority voting the label which occurs the most frequently is chosen\n",
    "\n",
    "That's why `K` is usually chosen to be an odd number in order to avoid conflicts (like `2` votes for one label and `2` for another).\n"
   ]
  },
  {
   "cell_type": "markdown",
   "metadata": {},
   "source": [
    "\n",
    "## Weighted majority voting\n"
   ]
  },
  {
   "cell_type": "markdown",
   "metadata": {},
   "source": [
    "\n",
    "> Weighted majority voting occurs when we assign weight for each example and take into an account\n",
    "\n",
    "Weights are given based on many (often different) factors (based on what our end goal is). __In case of KNN it makes sense to use weights based on similarity of provided `X` examples to the ones we have trained on__.\n",
    "\n",
    "We have calculated similarity based on euclidean distance, __but please notice those are not directly used during voting!__. \n"
   ]
  },
  {
   "cell_type": "markdown",
   "metadata": {},
   "source": [
    "\n",
    "### Theoretical example\n"
   ]
  },
  {
   "cell_type": "markdown",
   "metadata": {},
   "source": [
    "\n",
    "Imagine we have set `K=5` and let's consider single `test` example:\n",
    "- Let's assume one example from training has euclidean distance to our `test` example equal to `0.1`\n",
    "- Let's assume this example has label `0`\n",
    "- Now let's imagine distances for `4` other training samples to be, say, `1000` (so the samples are really not similar)\n",
    "- Let's assume those examples have label `1`\n",
    "- __Majority voting would give this example a label of `1`!__\n",
    "\n",
    "If we were to do \"weighted voting\" the weight for a single example would probably be large enough (in comparison) to change the `test` example label to `0` (which is most probably correct in this example)\n"
   ]
  },
  {
   "cell_type": "markdown",
   "metadata": {},
   "source": [
    "\n",
    "## Exercise\n"
   ]
  },
  {
   "cell_type": "markdown",
   "metadata": {},
   "source": [
    "\n",
    "Given that, let's see what steps are needed in order to implement weighted `KNN`.\n",
    "\n",
    "__We will use `numba` to make our life easier!__\n",
    "\n",
    "- __Hacky tip:__ Take specific routines out of the class and implement them separately as helpers as one can see below\n"
   ]
  },
  {
   "cell_type": "markdown",
   "metadata": {},
   "source": [
    "\n",
    "### Implement `_weighted_frequencies`\n"
   ]
  },
  {
   "cell_type": "markdown",
   "metadata": {},
   "source": [
    "\n",
    "`_weighted_frequencies` gets three arguments:\n",
    "- `result_array` of shape `(M, L)`, where `M` is the number of examples, `L` number of unique labels. It is filled with `zeros`\n",
    "- `labels` - of shape `(M, K)`, where `K` is the number of neighbors. Each value in `K` dimension is respective `KNN` label\n",
    "- `weights` - of shape `(M, K)`. Each value in `K` dimension is the weight given to `K`-th neighbor\n",
    "\n",
    "Your task is to, using two nested loops, sum weights for specific neighbors within `result_array` and return it (__tip:__ as those are zeros you can simply add appropriate weights at appropriate index).\n"
   ]
  },
  {
   "cell_type": "markdown",
   "metadata": {},
   "source": [
    "\n",
    "### Analyse the results\n"
   ]
  },
  {
   "cell_type": "markdown",
   "metadata": {},
   "source": [
    "\n",
    "- How the performance changes when you change `njit` to `jit` or when you remove the decorator totally?\n",
    "- What can we do to get non `1.0` accuracy when evaluating on `training` dataset (no, you cannot sabotage the implementation, only hyperparameters are there to vary)"
   ]
  },
  {
   "cell_type": "code",
   "execution_count": null,
   "metadata": {},
   "outputs": [],
   "source": [
    "from sklearn.metrics import accuracy_score\n",
    "\n",
    "\n",
    "@numba.njit\n",
    "def _weighted_frequencies(result_array, labels, weights):\n",
    "    for row in range(labels.shape[0]):\n",
    "        for column in range(labels.shape[1]):\n",
    "            result_array[row, labels[row, column]] += weights[row, column]\n",
    "\n",
    "    return result_array\n",
    "\n",
    "\n",
    "class WeightedKNN(KNN):\n",
    "    def predict(self, X):\n",
    "        distances = self.metric(self.X, X)\n",
    "        labels_indices = np.argsort(distances, axis=0)[: self.k]\n",
    "        labels = y[labels_indices].T\n",
    "        weights = 1 / (np.sort(distances, axis=0)[: self.k] + 1e-7).T\n",
    "        result_array = np.zeros((labels.shape[0], np.max(labels) + 1))\n",
    "        w_frequencies = _weighted_frequencies(result_array, labels, weights)\n",
    "        return np.argmax(w_frequencies, axis=1)\n",
    "\n",
    "\n",
    "clf = WeightedKNN(k=3, metric=scipy.spatial.distance.cdist)\n",
    "clf.fit(X, y)\n",
    "\n",
    "print(\"With compilation phase:\")\n",
    "with timer(WeightedKNN):\n",
    "    clf.predict(X)\n",
    "\n",
    "print(\"Compiled predict:\")\n",
    "with timer(WeightedKNN):\n",
    "    clf.predict(X)\n",
    "\n",
    "\n",
    "accuracy_score(clf.predict(X), y)\n",
    "\n",
    "# No njit\n",
    "\n",
    "# With compilation phase:\n",
    "# Elapsed time for WeightedKNN: 0.07559394836425781\n",
    "# Compiled predict:\n",
    "# Elapsed time for WeightedKNN: 0.054709672927856445\n",
    "\n",
    "# njit\n",
    "\n",
    "# With compilation phase:\n",
    "# Elapsed time for WeightedKNN: 0.23263049125671387\n",
    "# Compiled predict:\n",
    "# Elapsed time for WeightedKNN: 0.0071125030517578125"
   ]
  },
  {
   "cell_type": "markdown",
   "metadata": {},
   "source": [
    "## Limitations of K-nearest neighbours\n",
    "\n",
    "- We need to find the distance between each point and every other point. The time complexity of the algorithm is dominated by this process\n",
    "- Examples that might be close in feature space, may not necessarily be close in label space. \n",
    "    - E.g. if examples have similar feature values for features that do not influence the output label, they will be close in feature space, but not in label space. \n",
    "    - proximity assumption\n",
    "- When working with high dimensional data, it will not be easy to visualise the data and hand pick a suitable k (but we can still use `grid search` or a-like hyperparameter tuning methods)\n",
    "- when making predictions, we need to store the whole dataset in the model. This can make memory a bottleneck.\n",
    "- for the best results we should always scale our features to prevent any one with large values disproportionately influencing the prediction. But with KNN this can affect the distances between each example along each dimension of the feature space, resulting in different nearest neighbours. Try with and without feature scaling.  "
   ]
  },
  {
   "cell_type": "markdown",
   "metadata": {},
   "source": [
    "## K-nearest neighbours for regression\n"
   ]
  },
  {
   "cell_type": "markdown",
   "metadata": {},
   "source": [
    "\n",
    "K-nearest neighbours can also perform regression as well as classification.\n",
    "\n",
    "The only differences are:\n",
    "- Labels are not integer class labels, but consist of continuous values\n",
    "- Instead of majority voting we will simply take the mean of values (possibly weighted mean)"
   ]
  },
  {
   "cell_type": "markdown",
   "metadata": {},
   "source": [
    "## Assessments\n",
    "\n",
    "- Read [seaborn introduction](https://seaborn.pydata.org/introduction.html) in order to improve your Python plotting skills\n",
    "- Go through [5 minutes guide for `numba`](https://numba.readthedocs.io/en/stable/user/5minguide.html) and roam around their documentation to get a feel what one can achieve using this tool. [This document](https://numba.pydata.org/numba-doc/dev/user/jit.html) is also helpful and full of numba tips\n",
    "- Implement distance metrics using `numpy` only\n",
    "- Check how KNN works for different types of hyperparameters (use `grid search` or similar technique, remember about splitting data & K-Fold) and maybe different datasets? Experiment!\n",
    "- Implement K-nearest neighbours for regression (including weighted version)\n",
    "- Why we shouldn't use `assert` and instead go for `if`-style checking? __Tip:__ (asserts do not run in all cases)\n",
    "- Can you write `WeightedKNN` without using `numba` and loops (pure `numpy` implementation)?\n",
    "- __ADDITIONAL:__ What are the other ways for classification voting? See [this notebook](https://www.kaggle.com/amrmahmoud123/1-guide-to-ensembling-methods) for ensembles (which is multiple models assembled together to give one prediction). Don't focus on the algorithms, focus on the ideas like `blending` and `stacking` (rest is out of the scope of this material, at least for now).\n",
    "\n",
    "## Summary\n",
    "- The K-nearest neighbours algorithm makes predictions by averaging the labels of the K-nearest neighours in feature space.\n",
    "- K is the number of neighbours which the algorithm will average the labels of. It is a hyperparameter."
   ]
  },
  {
   "cell_type": "markdown",
   "metadata": {},
   "source": []
  }
 ],
 "metadata": {
  "kernelspec": {
   "display_name": "Python 3",
   "language": "python",
   "name": "python3"
  },
  "language_info": {
   "codemirror_mode": {
    "name": "ipython",
    "version": 3
   },
   "file_extension": ".py",
   "mimetype": "text/x-python",
   "name": "python",
   "nbconvert_exporter": "python",
   "pygments_lexer": "ipython3",
   "version": "3.9.5"
  }
 },
 "nbformat": 4,
 "nbformat_minor": 2
}
