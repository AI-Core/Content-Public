{
 "cells": [
  {
   "cell_type": "markdown",
   "metadata": {},
   "source": [
    "# Control Flow"
   ]
  },
  {
   "cell_type": "markdown",
   "metadata": {},
   "source": [
    "## Learning Objectives\n",
    "- Understand the concept of control flow in basic programming.\n",
    "- Learn how to use 'if' statements.\n",
    "- Learn how to use 'elif' and 'else' statements."
   ]
  },
  {
   "cell_type": "markdown",
   "metadata": {},
   "source": [
    "# Introduction"
   ]
  },
  {
   "cell_type": "markdown",
   "metadata": {},
   "source": [
    "- Control flow refers to the order of execution of instructions in a computer program.\n",
    "- A program is a series of instructions called statements.\n",
    "- The order in which these statements are executed can vary.\n",
    "- Control flow facilitates decision making (conditional statements), branching and looping in code."
   ]
  },
  {
   "cell_type": "markdown",
   "metadata": {},
   "source": [
    "## Conditional Statements"
   ]
  },
  {
   "cell_type": "markdown",
   "metadata": {},
   "source": [
    "Conditional statements are a form of control flow. They comprise a set of instructions in code that are executed if a certain condition is met."
   ]
  },
  {
   "cell_type": "markdown",
   "metadata": {},
   "source": [
    "### If statements\n",
    "\n",
    "<p align=center><img src=images/if.svg width=400></p>\n",
    "\n",
    "- An if statement is a piece of code that causes another piece of code to be executed based on the fulfillment of a condition.\n",
    "- If statements employ boolean operators to determine if a condition is true and whether or not to execute the dependent piece of code subsequently.\n",
    "- The basic syntax for an if statement in pseudo-code is as follows:"
   ]
  },
  {
   "cell_type": "code",
   "execution_count": null,
   "metadata": {},
   "outputs": [],
   "source": [
    "# if some_condition:\n",
    "#     do_something"
   ]
  },
  {
   "cell_type": "markdown",
   "metadata": {},
   "source": [
    "- Note the indentation. Python determines precedence based on indentation/whitespace rather than brackets, as in other languages.\n",
    "- The standard practice for indentation, as recommended by the PEP8 guidelines, is to use four spaces; however, you can also use a tab.\n",
    "- Spaces and tabs should not be mixed for indentation.\n",
    "- Jupyter Notebook, similar to many other IDEs, automatically creates an indentation after a colon."
   ]
  },
  {
   "cell_type": "markdown",
   "metadata": {},
   "source": [
    "### Elif and else statements\n",
    "\n",
    "<p align=center><img src=images/if_else.svg width=400></p>\n",
    "\n",
    "- Elif ('else if') statements add a block of code to be executed if the first condition is not fulfilled, i.e. if the first 'if' statement does not run.\n",
    "- Else statements add a block of code to be executed if none of the previous conditions are fulfilled, i.e. if the 'if' and 'elif' statements do not run.\n",
    "- The syntax is as follows (take note of the whitespace alignment):"
   ]
  },
  {
   "cell_type": "code",
   "execution_count": null,
   "metadata": {},
   "outputs": [],
   "source": [
    "# if some_condition:\n",
    "#     do_something\n",
    "# elif some_other_condition:\n",
    "#     do_something_else\n",
    "# else:\n",
    "#     do_this"
   ]
  },
  {
   "cell_type": "markdown",
   "metadata": {},
   "source": [
    "### Examples"
   ]
  },
  {
   "cell_type": "code",
   "execution_count": null,
   "metadata": {},
   "outputs": [],
   "source": [
    "x = input('Enter your age')\n",
    "x = int(x) # Input will return a string, you need an integer\n",
    "if x >= 21:\n",
    "    print(\"You are allowed to drink in the US\")\n",
    "elif x >= 18:\n",
    "    print(\"You are allowed to drink, but not in the US\")\n",
    "elif x < 0:\n",
    "    print('Wait, what??')\n",
    "else:\n",
    "    print('You can have a Fanta')"
   ]
  },
  {
   "cell_type": "code",
   "execution_count": null,
   "metadata": {},
   "outputs": [],
   "source": [
    "a = int(input('Enter a number for A'))\n",
    "b = int(input('Enter a number for B'))\n",
    "\n",
    "print(f'A is equal to {a}')\n",
    "print(f'B  is equal to {b}')\n",
    "if a > b:\n",
    "    print(\"A is larger than B\")\n",
    "elif a < b:\n",
    "    print (\"A is smaller than B\")\n",
    "else:\n",
    "    print (\"A is equal to B\")"
   ]
  },
  {
   "cell_type": "markdown",
   "metadata": {},
   "source": [
    "The `if-else` statements can also be run in one line:"
   ]
  },
  {
   "cell_type": "code",
   "execution_count": null,
   "metadata": {},
   "outputs": [],
   "source": [
    "if a > b: print(\"a is greater than b\") "
   ]
  },
  {
   "cell_type": "code",
   "execution_count": null,
   "metadata": {},
   "outputs": [],
   "source": [
    "print(\"A\") if a > b else print(\"B\") "
   ]
  },
  {
   "cell_type": "markdown",
   "metadata": {},
   "source": [
    "Any condition type can be applied in an `if` statement, provided that it returns a single boolean."
   ]
  },
  {
   "cell_type": "code",
   "execution_count": null,
   "metadata": {},
   "outputs": [],
   "source": [
    "a = int(input('Enter a number for A'))\n",
    "b = int(input('Enter a number for B'))\n",
    "c = int(input('Enter a number for C'))\n",
    "\n",
    "if a > b and b > c:\n",
    "  print(\"Both conditions are True\")"
   ]
  },
  {
   "cell_type": "markdown",
   "metadata": {},
   "source": [
    "## Conclusion\n",
    "At this point, you should have a good understanding of\n",
    "\n",
    "- the basics of control flow and the order of code execution.\n",
    "- how to employ conditional statements to manipulate control flow in code.\n",
    "\n",
    "\n",
    "## Further Reading\n",
    "- Control flow: https://docs.python.org/3.8/tutorial/controlflow.html?highlight=control%20flow"
   ]
  }
 ],
 "metadata": {
  "interpreter": {
   "hash": "3d597f4c481aa0f25dceb95d2a0067e73c0966dcbd003d741d821a7208527ecf"
  },
  "kernelspec": {
   "display_name": "Python 3.9.1 64-bit ('base': conda)",
   "name": "python3"
  },
  "language_info": {
   "name": "python",
   "version": "3.9.1"
  }
 },
 "nbformat": 4,
 "nbformat_minor": 2
}
