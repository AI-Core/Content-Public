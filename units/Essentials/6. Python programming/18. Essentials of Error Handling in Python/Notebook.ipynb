{
 "cells": [
  {
   "cell_type": "markdown",
   "metadata": {},
   "source": [
    "# Error and Exception Handling"
   ]
  },
  {
   "cell_type": "markdown",
   "metadata": {},
   "source": [
    "## Learning Objectives\n",
    "- Understand the concept and purpose of error and exception handling.\n",
    "- Learn how to use the try, except and finally keywords with their respective clauses.\n",
    "- Learn how to use except clauses with specific errors.\n",
    "- Understand why it is preferable to except specific errors rather than all errors."
   ]
  },
  {
   "cell_type": "markdown",
   "metadata": {},
   "source": [
    "## Introduction\n",
    "- It is general knowledge that programs occasionally throw errors.\n",
    "- In Python, once there is an error, the code execution halts immediately, thereby preventing any subsequent code from running.\n",
    "- To circumvent this, error and exception handling is exploited, allowing blocks of code to run despite the errors.\n",
    "\n",
    "## Relevant Keywords\n",
    "Here, we introduce three new keywords: __try__, __except__ and __finally__.\n",
    "<br><br>\n",
    "- The __try__ clause: this indicates the block of code we intend to run; it will be completed only in the absence of errors.\n",
    "- The __except__ clause: if there is an error in the try clause, the execution will be halted, and the except clause will be executed.\n",
    "- The __finally__ clause: this is the block of code to be run regardless of any error.\n",
    "\n",
    "Consider the below examples:"
   ]
  },
  {
   "cell_type": "code",
   "execution_count": 2,
   "metadata": {},
   "outputs": [
    {
     "ename": "TypeError",
     "evalue": "add_pair() takes 2 positional arguments but 3 were given",
     "output_type": "error",
     "traceback": [
      "\u001b[1;31m---------------------------------------------------------------------------\u001b[0m",
      "\u001b[1;31mTypeError\u001b[0m                                 Traceback (most recent call last)",
      "\u001b[1;32m<ipython-input-2-738842f52d1c>\u001b[0m in \u001b[0;36m<module>\u001b[1;34m\u001b[0m\n\u001b[0;32m      7\u001b[0m \u001b[1;33m\u001b[0m\u001b[0m\n\u001b[0;32m      8\u001b[0m \u001b[1;31m# this throws a TypeError, as we specified too many arguments\u001b[0m\u001b[1;33m\u001b[0m\u001b[1;33m\u001b[0m\u001b[1;33m\u001b[0m\u001b[0m\n\u001b[1;32m----> 9\u001b[1;33m \u001b[0madd_pair\u001b[0m\u001b[1;33m(\u001b[0m\u001b[1;36m1\u001b[0m\u001b[1;33m,\u001b[0m\u001b[1;36m2\u001b[0m\u001b[1;33m,\u001b[0m\u001b[1;36m3\u001b[0m\u001b[1;33m)\u001b[0m\u001b[1;33m\u001b[0m\u001b[1;33m\u001b[0m\u001b[0m\n\u001b[0m\u001b[0;32m     10\u001b[0m \u001b[1;33m\u001b[0m\u001b[0m\n\u001b[0;32m     11\u001b[0m \u001b[1;31m# this line is not executed, as the code threw an error\u001b[0m\u001b[1;33m\u001b[0m\u001b[1;33m\u001b[0m\u001b[1;33m\u001b[0m\u001b[0m\n",
      "\u001b[1;31mTypeError\u001b[0m: add_pair() takes 2 positional arguments but 3 were given"
     ]
    }
   ],
   "source": [
    "# Here, we define a simple adding function for two numbers.\n",
    "def add_pair(x,y):\n",
    "    return x + y\n",
    "\n",
    "# This function call works.\n",
    "add_pair(1,3)\n",
    "\n",
    "# This throws a TypeError because too many arguments are specified.\n",
    "add_pair(1,2,3)\n",
    "\n",
    "# This line is not executed because of the error.\n",
    "add_pair(3,4)"
   ]
  },
  {
   "cell_type": "code",
   "execution_count": 3,
   "metadata": {},
   "outputs": [
    {
     "data": {
      "text/plain": [
       "7"
      ]
     },
     "execution_count": 3,
     "metadata": {},
     "output_type": "execute_result"
    }
   ],
   "source": [
    "# we can see that this would have worked if the code had continued to run.\n",
    "add_pair(3,4)"
   ]
  },
  {
   "cell_type": "code",
   "execution_count": 5,
   "metadata": {},
   "outputs": [
    {
     "name": "stdout",
     "output_type": "stream",
     "text": [
      "There is something wrong here\n"
     ]
    }
   ],
   "source": [
    "# We can circumvent this using a try-except statement.\n",
    "# The execution switches to the except statement if the try statement throws an error.\n",
    "\n",
    "# define the function\n",
    "def add_pair(x,y):\n",
    "    return x + y\n",
    "\n",
    "\n",
    "try: # try the block of code\n",
    "    result = add_pair(1,2,3)\n",
    "    print(\"It worked\")\n",
    "    print(\"The result is {}\".format(result))\n",
    "\n",
    "except: # the block of code to run in case of an error\n",
    "    print(\"There is something wrong here\")"
   ]
  },
  {
   "cell_type": "code",
   "execution_count": 6,
   "metadata": {},
   "outputs": [
    {
     "name": "stdout",
     "output_type": "stream",
     "text": [
      "It worked\n",
      "The result is 4\n"
     ]
    }
   ],
   "source": [
    "# When the code executes correctly, the try statement is completed.\n",
    "\n",
    "def add_pair(x,y):\n",
    "    return x + y\n",
    "\n",
    "try:\n",
    "    result = add_pair(1,3)\n",
    "    print(\"It worked\")\n",
    "    print(\"The result is {}\".format(result))\n",
    "\n",
    "except:\n",
    "    print(\"There is something wrong here\")"
   ]
  },
  {
   "cell_type": "markdown",
   "metadata": {},
   "source": [
    "### Except clause for specific errors\n",
    "- It is possible to introduce except clauses for specific errors, such as SyntaxError or TypeError (see Python documentation for a full list of errors (link provided in Further Reading below)).<br>\n",
    "- __Note that it is almost always better to use except clauses to circumvent specific errors, rather than 'catch-all' except clauses__. This is because a general except clause can hide genuine errors."
   ]
  },
  {
   "cell_type": "code",
   "execution_count": 7,
   "metadata": {},
   "outputs": [
    {
     "name": "stdout",
     "output_type": "stream",
     "text": [
      "There was a type error\n"
     ]
    }
   ],
   "source": [
    "def add_pair(x,y):\n",
    "    return x + y\n",
    "\n",
    "try:\n",
    "    result = add_pair(1,2,3)\n",
    "    print(\"It worked\")\n",
    "    print(\"The result is {}\".format(result))\n",
    "\n",
    "except TypeError: # executed in case a TypeError is thrown\n",
    "    print(\"There was a type error\")\n",
    "    \n",
    "except NameError: # executed in case a NameError is thrown \n",
    "    print(\"You used the wrong name\")"
   ]
  },
  {
   "cell_type": "code",
   "execution_count": 8,
   "metadata": {},
   "outputs": [
    {
     "name": "stdout",
     "output_type": "stream",
     "text": [
      "You used the wrong name\n"
     ]
    }
   ],
   "source": [
    "def add_pair(x,y):\n",
    "    return x + y\n",
    "\n",
    "try: # note the spelling mistake \n",
    "    result = add_pair(1,2,3)\n",
    "    print(\"It worked\")\n",
    "    print(\"The result is {}\".format(result))\n",
    "\n",
    "except TypeError: # executed in case of a TypeError\n",
    "    print(\"There was a type error\")\n",
    "    \n",
    "except NameError: # executed in case of a NameError \n",
    "    print(\"You used the wrong name\")"
   ]
  },
  {
   "cell_type": "markdown",
   "metadata": {},
   "source": [
    "### A note on the finally clause\n",
    "A finally clause is executed whether or not an error occurs in the try statement."
   ]
  },
  {
   "cell_type": "code",
   "execution_count": 10,
   "metadata": {},
   "outputs": [
    {
     "name": "stdout",
     "output_type": "stream",
     "text": [
      "It worked\n",
      "The result is 4\n",
      "This block of code is ALWAYS executed\n"
     ]
    }
   ],
   "source": [
    "def add_pair(x,y):\n",
    "    return x + y\n",
    "\n",
    "try:\n",
    "    result = add_pair(1,3)\n",
    "    print(\"It worked\")\n",
    "    print(\"The result is {}\".format(result))\n",
    "\n",
    "except TypeError:\n",
    "    print(\"There was a type error\")\n",
    "    \n",
    "except NameError: \n",
    "    print(\"You used the wrong name\")\n",
    "\n",
    "finally: # executed with or without errors in the try statement\n",
    "    print(\"This block of code is ALWAYS executed\")"
   ]
  },
  {
   "cell_type": "code",
   "execution_count": 11,
   "metadata": {},
   "outputs": [
    {
     "name": "stdout",
     "output_type": "stream",
     "text": [
      "There was a type error\n",
      "This block of code is ALWAYS executed\n"
     ]
    }
   ],
   "source": [
    "def add_pair(x,y):\n",
    "    return x + y\n",
    "\n",
    "try:\n",
    "    result = add_pair(1,2,3)\n",
    "    print(\"It worked\")\n",
    "    print(\"The result is {}\".format(result))\n",
    "\n",
    "except TypeError:\n",
    "    print(\"There was a type error\")\n",
    "    \n",
    "except NameError: \n",
    "    print(\"You used the wrong name\")\n",
    "\n",
    "finally: # executed with or without errors in the try statement\n",
    "    print(\"This block of code is ALWAYS executed\")"
   ]
  },
  {
   "cell_type": "markdown",
   "metadata": {},
   "source": [
    "If there is an error in the finally statement, Python will still throw an error after executing the try statement, since Python cannot execute erroneous code."
   ]
  },
  {
   "cell_type": "code",
   "execution_count": 14,
   "metadata": {},
   "outputs": [
    {
     "name": "stdout",
     "output_type": "stream",
     "text": [
      "It worked\n",
      "The result is 4\n",
      "This block of code is ALWAYS executed\n",
      "test\n"
     ]
    }
   ],
   "source": [
    "def add_pair(x,y):\n",
    "    return x + y\n",
    "\n",
    "try:\n",
    "    result = add_pair(1,3)\n",
    "    print(\"It worked\")\n",
    "    print(\"The result is {}\".format(result))\n",
    "\n",
    "except TypeError:\n",
    "    print(\"There was a type error\")\n",
    "    \n",
    "except NameError: \n",
    "    print(\"You used the wrong name\")\n",
    "\n",
    "finally: # executed with or without errors in the try statement\n",
    "    print(\"This block of code is ALWAYS executed\")\n",
    "\n",
    "# typo means finally statement cannot execute"
   ]
  },
  {
   "cell_type": "markdown",
   "metadata": {},
   "source": [
    "## Conclusion\n",
    "At this point, you should have a good understanding of\n",
    "- error and exception handling.\n",
    "- why it is preferable to except specific errors rather than all errors.\n",
    "- how to use the try, except and finally keywords with their respective clauses.\n",
    "\n",
    "## Further Reading\n",
    "- A list of all Python error types is available in the documentation: https://docs.python.org/3/library/exceptions.html"
   ]
  }
 ],
 "metadata": {
  "interpreter": {
   "hash": "66a4c1a82e4b740877da9482796a67c3d19e50649dddfb2985c1182127ae3fd0"
  },
  "kernelspec": {
   "display_name": "Python 3.8.11 64-bit ('base': conda)",
   "name": "python3"
  },
  "language_info": {
   "codemirror_mode": {
    "name": "ipython",
    "version": 3
   },
   "file_extension": ".py",
   "mimetype": "text/x-python",
   "name": "python",
   "nbconvert_exporter": "python",
   "pygments_lexer": "ipython3",
   "version": "3.8.11"
  }
 },
 "nbformat": 4,
 "nbformat_minor": 4
}
