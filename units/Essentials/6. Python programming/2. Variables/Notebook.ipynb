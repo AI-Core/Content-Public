{
 "cells": [
  {
   "cell_type": "markdown",
   "metadata": {},
   "source": [
    "# Variables"
   ]
  },
  {
   "cell_type": "markdown",
   "metadata": {},
   "source": [
    "\n",
    "## Learning Objectives\n",
    "After completing this section, you should understand\n",
    "- variable assignment and naming conventions.\n",
    "- strings and some basic string methods, including .format().\n",
    "- indexing and slicing operations."
   ]
  },
  {
   "cell_type": "markdown",
   "metadata": {},
   "source": [
    "## Variable Assignment\n",
    "- In programming, it is conventional to use an object repeatedly in a project. Rather than defining the object repeatedly in code, we can assign it to a variable and use it instead.\n",
    "- This concept is called Don't Repeat Yourself (DRY) coding. You will encounter many instances of this throughout this course.\n",
    "- In Python, variables are assigned using the equals (__=__) sign.\n",
    "- Variables are named using the following guidelines:"
   ]
  },
  {
   "cell_type": "code",
   "execution_count": 2,
   "metadata": {},
   "outputs": [
    {
     "ename": "SyntaxError",
     "evalue": "cannot assign to operator (<ipython-input-2-ae2623f81281>, line 1)",
     "output_type": "error",
     "traceback": [
      "\u001b[0;36m  File \u001b[0;32m\"<ipython-input-2-ae2623f81281>\"\u001b[0;36m, line \u001b[0;32m1\u001b[0m\n\u001b[0;31m    x + 1 = y\u001b[0m\n\u001b[0m    ^\u001b[0m\n\u001b[0;31mSyntaxError\u001b[0m\u001b[0;31m:\u001b[0m cannot assign to operator\n"
     ]
    }
   ],
   "source": [
    "x + 1 = y"
   ]
  },
  {
   "cell_type": "markdown",
   "metadata": {},
   "source": [
    "## Naming Conventions\n",
    "1. Use __snake_case__: all lowercase and no spaces; underscores (\\_) are acceptable.\n",
    "2. Names cannot start with a number or contain these symbols: \n",
    "__\\: \\' \\\" \\, \\< \\> \\/ \\? \\| \\\\ \\( \\) \\! @ \\# \\$ \\% \\^ \\& \\* \\~ \\- \\+__.\n",
    "3. Avoid using 'l' (lowercase l), 'O' (uppercase o), or 'I' (uppercase i) as single-character names.\n",
    "4. Do __NOT__ use Python keywords (see below for a list of these keywords).\n",
    "\n",
    "__If you accidentally reassign a Python keyword, use Kernel --> Restart to reset everything.__ \n",
    "\n",
    "For further details, see PEP8 [here](https://www.python.org/dev/peps/pep-0008/)."
   ]
  },
  {
   "cell_type": "code",
   "execution_count": 2,
   "metadata": {},
   "outputs": [
    {
     "name": "stdout",
     "output_type": "stream",
     "text": [
      "False\n",
      "None\n",
      "True\n",
      "and\n",
      "as\n",
      "assert\n",
      "async\n",
      "await\n",
      "break\n",
      "class\n",
      "continue\n",
      "def\n",
      "del\n",
      "elif\n",
      "else\n",
      "except\n",
      "finally\n",
      "for\n",
      "from\n",
      "global\n",
      "if\n",
      "import\n",
      "in\n",
      "is\n",
      "lambda\n",
      "nonlocal\n",
      "not\n",
      "or\n",
      "pass\n",
      "raise\n",
      "return\n",
      "try\n",
      "while\n",
      "with\n",
      "yield\n"
     ]
    }
   ],
   "source": [
    "# List of keywords\n",
    "import keyword\n",
    "\n",
    "for i in keyword.kwlist:\n",
    "    print(i)"
   ]
  },
  {
   "cell_type": "markdown",
   "metadata": {},
   "source": [
    "Here, we create an object named x (a variable) and assign it the integer value of 5. <br>\n",
    "The \\= sign assigns the value on the right to the object on the left:"
   ]
  },
  {
   "cell_type": "code",
   "execution_count": 37,
   "metadata": {},
   "outputs": [],
   "source": [
    "x = 3"
   ]
  },
  {
   "cell_type": "markdown",
   "metadata": {},
   "source": [
    "This is referred to as calling the variable:"
   ]
  },
  {
   "cell_type": "code",
   "execution_count": 38,
   "metadata": {},
   "outputs": [
    {
     "data": {
      "text/plain": [
       "3"
      ]
     },
     "execution_count": 38,
     "metadata": {},
     "output_type": "execute_result"
    }
   ],
   "source": [
    "x"
   ]
  },
  {
   "cell_type": "markdown",
   "metadata": {},
   "source": [
    "Arithmetic operations conducted using variables employ the system of the underlying objects (this differs between data types). <br>\n",
    "As we learn more data types, you will attain a clear understanding of this concept:"
   ]
  },
  {
   "cell_type": "code",
   "execution_count": 39,
   "metadata": {},
   "outputs": [
    {
     "data": {
      "text/plain": [
       "6"
      ]
     },
     "execution_count": 39,
     "metadata": {},
     "output_type": "execute_result"
    }
   ],
   "source": [
    "x + x"
   ]
  },
  {
   "cell_type": "markdown",
   "metadata": {},
   "source": [
    "We can reassign x to be 10 without any error. This is called a reassignment and is an example of __'dynamic typing'__.<br>\n",
    "In a __'statically typed'__ language, such as C, this reassignment would throw an error:"
   ]
  },
  {
   "cell_type": "code",
   "execution_count": 40,
   "metadata": {},
   "outputs": [],
   "source": [
    "x = 10"
   ]
  },
  {
   "cell_type": "markdown",
   "metadata": {},
   "source": [
    "As can be observed, x has changed from 3 to 10:"
   ]
  },
  {
   "cell_type": "code",
   "execution_count": 45,
   "metadata": {},
   "outputs": [
    {
     "data": {
      "text/plain": [
       "10"
      ]
     },
     "execution_count": 45,
     "metadata": {},
     "output_type": "execute_result"
    }
   ],
   "source": [
    "x"
   ]
  },
  {
   "cell_type": "markdown",
   "metadata": {},
   "source": [
    "## The print() Function\n",
    "- In the previous section, we called the variable. Here, we learn how to display it.\n",
    "- The print() function __displays__ the output rather than only returning it. In Jupyter Notebook, this often makes no practical difference; however, when working in other IDEs, you may not see the output unless you print it.\n",
    "- This becomes evident when attempting to see two outputs from a cell. Jupyter Notebook __only shows the latest call__.\n",
    "- print() statements can be used to display multiple outputs.\n",
    "- We can specify the 'end' parameter inside the print() function to stipulate how a print() statement ends.\n",
    "- For example, __end = \"\\n\\n\" prints a new line after the print() output, which can be useful for improving the readability of the output__.\n",
    "- A blank print() statement also prints a new line."
   ]
  },
  {
   "cell_type": "code",
   "execution_count": 46,
   "metadata": {},
   "outputs": [
    {
     "data": {
      "text/plain": [
       "2"
      ]
     },
     "execution_count": 46,
     "metadata": {},
     "output_type": "execute_result"
    }
   ],
   "source": [
    "# assigning a and b\n",
    "a = 1\n",
    "b = 2\n",
    "\n",
    "# calling a and b\n",
    "a\n",
    "b"
   ]
  },
  {
   "cell_type": "code",
   "execution_count": 51,
   "metadata": {},
   "outputs": [
    {
     "name": "stdout",
     "output_type": "stream",
     "text": [
      "1\n",
      "2\n"
     ]
    }
   ],
   "source": [
    "# printing a and b\n",
    "print(a)\n",
    "print(b)"
   ]
  },
  {
   "cell_type": "code",
   "execution_count": 53,
   "metadata": {},
   "outputs": [
    {
     "name": "stdout",
     "output_type": "stream",
     "text": [
      "1\n",
      "\n",
      "2\n"
     ]
    }
   ],
   "source": [
    "# using end to give a new line\n",
    "print(a, end=\"\\n\\n\")\n",
    "print(b)"
   ]
  },
  {
   "cell_type": "code",
   "execution_count": 21,
   "metadata": {},
   "outputs": [
    {
     "name": "stdout",
     "output_type": "stream",
     "text": [
      "1\n",
      "\n",
      "2\n"
     ]
    }
   ],
   "source": [
    "# using a blank print statement to give a new line\n",
    "print(a)\n",
    "print()\n",
    "print(b)"
   ]
  },
  {
   "cell_type": "markdown",
   "metadata": {},
   "source": [
    "## Variable Redefinition\n",
    "Note that we can redefine x using x itself. <br>\n",
    "Here, x is being __called__ on the right of the = sign and *redefined* on the left. <br>\n",
    "Think of this as *new x* = __old x__ + __old x__ (*new x* = __10__ + __10__):"
   ]
  },
  {
   "cell_type": "code",
   "execution_count": 56,
   "metadata": {},
   "outputs": [],
   "source": [
    "x = x + x"
   ]
  },
  {
   "cell_type": "markdown",
   "metadata": {},
   "source": [
    "Thus, x is now equal to 20:"
   ]
  },
  {
   "cell_type": "code",
   "execution_count": 59,
   "metadata": {},
   "outputs": [
    {
     "data": {
      "text/plain": [
       "40"
      ]
     },
     "metadata": {},
     "output_type": "display_data"
    }
   ],
   "source": [
    "x"
   ]
  },
  {
   "cell_type": "code",
   "execution_count": 58,
   "metadata": {},
   "outputs": [
    {
     "data": {
      "text/plain": [
       "12.0"
      ]
     },
     "execution_count": 58,
     "metadata": {},
     "output_type": "execute_result"
    }
   ],
   "source": [
    "# appropriately named variables are key when writing production-quality code.\n",
    "shopping_bill = 10.00\n",
    "\n",
    "vat_rate = 1.2\n",
    "\n",
    "bill_with_vat = shopping_bill * vat_rate\n",
    "\n",
    "bill_with_vat"
   ]
  },
  {
   "cell_type": "markdown",
   "metadata": {},
   "source": [
    "## Conclusion\n",
    "At this point, we should have a firm understanding of\n",
    "- the nature of variables.\n",
    "<br><br>\n",
    "- how to declare and use variables.\n",
    "\n"
   ]
  }
 ],
 "metadata": {
  "interpreter": {
   "hash": "beedbe2faf2f7048d727558d0bc3221e7eba2a0b921cac4d4771b2feb8f74b30"
  },
  "kernelspec": {
   "display_name": "Python 3.10.2 64-bit",
   "language": "python",
   "name": "python3"
  },
  "language_info": {
   "codemirror_mode": {
    "name": "ipython",
    "version": 3
   },
   "file_extension": ".py",
   "mimetype": "text/x-python",
   "name": "python",
   "nbconvert_exporter": "python",
   "pygments_lexer": "ipython3",
   "version": "3.10.2"
  }
 },
 "nbformat": 4,
 "nbformat_minor": 4
}
