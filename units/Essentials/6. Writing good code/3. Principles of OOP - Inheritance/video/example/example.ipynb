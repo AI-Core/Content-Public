{
 "cells": [
  {
   "cell_type": "markdown",
   "metadata": {},
   "source": [
    "# Inheritance "
   ]
  },
  {
   "cell_type": "code",
   "execution_count": 12,
   "metadata": {},
   "outputs": [
    {
     "name": "stdout",
     "output_type": "stream",
     "text": [
      "True\n",
      "hi\n"
     ]
    }
   ],
   "source": [
    "class Parent:\n",
    "    def __init__(self) -> None:\n",
    "        self.example = True\n",
    "\n",
    "    def greeting(self):\n",
    "        print('hi')\n",
    "\n",
    "class Child(Parent):\n",
    "    pass\n",
    "\n",
    "child = Child()\n",
    "print(child.example)\n",
    "child.greeting() # method inherited from the parent"
   ]
  },
  {
   "cell_type": "markdown",
   "metadata": {},
   "source": [
    "## Overwriting"
   ]
  },
  {
   "cell_type": "code",
   "execution_count": 13,
   "metadata": {},
   "outputs": [
    {
     "name": "stdout",
     "output_type": "stream",
     "text": [
      "1\n"
     ]
    }
   ],
   "source": [
    "from PIL import Image\n",
    "\n",
    "class Dataset:\n",
    "    def __init__(self, data):\n",
    "        self.data = data\n",
    "\n",
    "    def count_examples(self):\n",
    "        print(len(self.data))\n",
    "    \n",
    "    def show_first_example(self):\n",
    "        print(self.data[0])\n",
    "\n",
    "class ImageDataset(Dataset):\n",
    "    def show_first_example(self):\n",
    "        with Image.open(self.data[0]) as img:\n",
    "            img.show()\n",
    "\n",
    "dataset = Dataset([1, 2, 3])\n",
    "dataset.show_first_example()\n",
    "\n",
    "image_dataset = ImageDataset(['images/shark.webp', 'images/dog.jpg', 'images/frog.jpg'])\n",
    "image_dataset.show_first_example()\n"
   ]
  },
  {
   "cell_type": "markdown",
   "metadata": {},
   "source": [
    "## `super`"
   ]
  },
  {
   "cell_type": "code",
   "execution_count": null,
   "metadata": {},
   "outputs": [],
   "source": [
    "class Device:\n",
    "    def __init__(self):\n",
    "        self.on = False\n",
    "\n",
    "    def toggle_power(self):\n",
    "        self.on = not self.on\n",
    "        if self.on:\n",
    "            print('Powering on')\n",
    "        else:\n",
    "            print('Powering off')\n",
    "\n",
    "\n",
    "class Computer(Device):\n",
    "    def __init__(self):\n",
    "        super().__init__() # use the super() method to get access to methods of the parent class\n",
    "        self.browser = 'safari'\n",
    "\n",
    "    def open_browser(self):\n",
    "        try:\n",
    "            assert self.on\n",
    "            print(f'The browser {self.browser} was opened')\n",
    "        except:\n",
    "            print('Turn me on first')\n",
    "\n",
    "computer = Computer()\n",
    "computer.open_browser()\n",
    "computer.toggle_power()\n",
    "computer.open_browser()"
   ]
  },
  {
   "cell_type": "markdown",
   "metadata": {},
   "source": [
    "## Nested inheritance"
   ]
  },
  {
   "cell_type": "code",
   "execution_count": null,
   "metadata": {},
   "outputs": [],
   "source": [
    "class Device:\n",
    "    def __init__(self):\n",
    "        self.on = False\n",
    "\n",
    "    def toggle_power(self):\n",
    "        self.on = not self.on\n",
    "        if self.on:\n",
    "            print('Powering on')\n",
    "        else:\n",
    "            print('Powering off')\n",
    "\n",
    "class Mouse(Device):\n",
    "    def __init__(self):\n",
    "        super().__init__()\n",
    "\n",
    "    def move(self):\n",
    "        print('Wiggle')\n",
    "\n",
    "\n",
    "class Computer(Device):\n",
    "    def __init__(self):\n",
    "        super().__init__()\n",
    "\n",
    "    def open_browser(self):\n",
    "        try:\n",
    "            assert self.on\n",
    "            print('The browser was opened')    \n",
    "        except:\n",
    "            print('Turn me on first')\n",
    "\n",
    "class Laptop(Computer):\n",
    "    def __init__(self):\n",
    "        super().__init__()\n",
    "\n",
    "my_mouse = Mouse()\n",
    "\n",
    "my_laptop = Laptop()\n",
    "my_laptop.open_browser()\n",
    "my_laptop.toggle_power()\n",
    "my_laptop.open_browser()\n",
    "my_laptop.toggle_power()\n",
    "\n",
    "    \n"
   ]
  },
  {
   "cell_type": "markdown",
   "metadata": {},
   "source": [
    "## Multiple Inheritance\n"
   ]
  },
  {
   "cell_type": "code",
   "execution_count": null,
   "metadata": {},
   "outputs": [],
   "source": [
    "class HarrysPosession:\n",
    "    def __init__(self):\n",
    "        self.owner  = 'Harry'\n",
    "\n",
    "class HarrysLaptop(Laptop, HarrysPosession):\n",
    "    pass"
   ]
  }
 ],
 "metadata": {
  "kernelspec": {
   "display_name": "Python 3.9.0 64-bit",
   "language": "python",
   "name": "python3"
  },
  "language_info": {
   "codemirror_mode": {
    "name": "ipython",
    "version": 3
   },
   "file_extension": ".py",
   "mimetype": "text/x-python",
   "name": "python",
   "nbconvert_exporter": "python",
   "pygments_lexer": "ipython3",
   "version": "3.9.0"
  },
  "orig_nbformat": 4,
  "vscode": {
   "interpreter": {
    "hash": "aee8b7b246df8f9039afb4144a1f6fd8d2ca17a180786b69acc140d282b71a49"
   }
  }
 },
 "nbformat": 4,
 "nbformat_minor": 2
}
