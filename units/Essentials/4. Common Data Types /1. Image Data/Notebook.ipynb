{
 "cells": [
  {
   "cell_type": "markdown",
   "metadata": {},
   "source": [
    "## Images\n",
    "\n",
    "Computers don't see images the way we see them, when an image is stored on your computer it needs to be stored in a way in which the computer can understand. \n",
    "- They see images as a 2D matrix or 3D array where the third dimension represents the channels.\n",
    "- Each unit in that grid is a __pixel__.\n",
    "- Your resolution determines the size of this matrix. A resolution of 800 x 600 would be a grid of size 800 by 600 pixels.\n",
    "- Each pixel has a number associated with it determining its colour.\n",
    "\n",
    "For example, this is how a computer would represent a grayscale image:\n",
    "- __Grayscale__ images have one channel to represent the image(gray).\n",
    "- Colours on computers are usually represented using 8-bit numbers giving a set of 8 zeros and ones. This gives 2<sup>8</sup> or 256 possible representations of each pixel.\n",
    "- Each representation describes the intensity or brightness of that particular colour. In this case, 0 is black and 255 would represent white.\n",
    "\n",
    "![](./images/grayscale.png)\n",
    "\n",
    "\n",
    "With colour images they are normally represented by the RGB (Red, Green, Blue) model, for example:\n",
    "- __RGB__ is represented by three channels - __Red__, __Green__ and __Blue__.\n",
    "- The channels are combined together to create the image.\n",
    "- All red would be expressed as (255, 0, 0), green by (0, 255, 0) and blue by (0, 0, 255).\n",
    "- White can be  by (255, 255, 255) and black by (0, 0, 0).\n",
    "- Any other colour can be represented by a combination of all three. For instance (106, 13, 173) would represent the colour purple. \n",
    "- This gives us a possible combination of 16,777,216 different colours.\n",
    "\n",
    "<img src=\"./images/rgb_image.png\"/>\n",
    "\n",
    "There are other systems a computer can use to represent colours\n",
    "- For printers, they use the CMYK system to represent colours:\n",
    "  - __C__ for Cyan\n",
    "  - __M__ for Mageneta \n",
    "  - __Y__ or Yellow \n",
    "  - __K__ for Black \n",
    "- Another common one is Hexadecimal format.\n",
    "  - Each colour is represented by # followed by six characters #RRGGBB.\n",
    "  - Each RR (red), GG (green), and BB (blue) are hexadecimal integers between 00 and FF. \n",
    "  - For example, #0000FF displays blue since FF is the highest representation and 00 is the lowest.\n",
    "  - #CC5500 would represent a burnt orange colour can you see why?\n"
   ]
  },
  {
   "attachments": {},
   "cell_type": "markdown",
   "metadata": {},
   "source": [
    "# Key Takeaways\n",
    "- Image data is stored as a 2D matrix structure, where unit within the matrix is a _pixel_"
   ]
  }
 ],
 "metadata": {
  "interpreter": {
   "hash": "aee8b7b246df8f9039afb4144a1f6fd8d2ca17a180786b69acc140d282b71a49"
  },
  "kernelspec": {
   "display_name": "Python 3.9.6 64-bit",
   "name": "python3"
  },
  "language_info": {
   "codemirror_mode": {
    "name": "ipython",
    "version": 3
   },
   "file_extension": ".py",
   "mimetype": "text/x-python",
   "name": "python",
   "nbconvert_exporter": "python",
   "pygments_lexer": "ipython3",
   "version": "3.9.0 (v3.9.0:9cf6752276, Oct  5 2020, 11:29:23) \n[Clang 6.0 (clang-600.0.57)]"
  }
 },
 "nbformat": 4,
 "nbformat_minor": 4
}
