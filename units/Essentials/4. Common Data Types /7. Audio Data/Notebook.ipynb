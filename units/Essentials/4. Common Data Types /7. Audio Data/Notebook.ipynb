{
 "cells": [
  {
   "attachments": {},
   "cell_type": "markdown",
   "metadata": {},
   "source": [
    "# Audio Data\n",
    "\n",
    "Audio is a little more complicated than other data types like images; sound is an analog signal, which is made up of waves travelling through matter. The computer needs to convert this signal into a digital format to be machine readable.\n",
    "\n",
    "The sound card on your computer performs this process for you:\n",
    "\n",
    "- The sounds card has __four__ main processing components to perform this task.\n",
    "  - __analog-to-digital converter (ADC)__ - to process the incoming analog signal into a digital format, e.g. sound recorded by your microphone. \n",
    "  - __digital-to-analog converter (DAC)__ - converts the digital audio signal on your pc to an analog format so you can listen to it, e.g. converted to analog and output through the speakers. \n",
    "  - __PCI interface__ - to connect the sound card to the motherboard.\n",
    "  - __Input and output__ - for devices such as a microphone or speakers.\n",
    "\n",
    "Sound cards represent audio with the following process:\n",
    "- When an incoming audio is detected by the sound card it will take measurements (samples) of it at regular intervals.\n",
    "  - __Sampling rate__ is defined as the number of samples taken per second of the sound card.\n",
    "  - Sampling rate is measured in hertz (one hertz is one sample per second).\n",
    "  - The higher the hertz, the better quality of  the sound representation.\n",
    "- __Sampling resolution__ is the numbers of bits used to represent the audio.\n",
    "  - The higher the resolution, the better the representation of the sound.\n",
    "\n",
    "True sound (yellow), then visualisations of low and higher sampling rate:\n",
    "\n",
    "<img src=\"./images/sound_sampling.png\" height=\"600\" width=\"400\"/>\n",
    "\n",
    "Increasing sampling resolution:\n",
    "\n",
    "<img src=\"./images/sound_resolution.png\" height=\"600\" width=\"400\"/>\n",
    "\n",
    "Commonly, audio data is visualised as a spectrogram. A spectrogram shows time on the horizontal axis, and frequency on the vertical axis with brighter colors where that frequency is present.\n",
    "\n",
    "<img src=\"./images/spectrogram.png\" height=\"600\"/>\n"
   ]
  },
  {
   "attachments": {},
   "cell_type": "markdown",
   "metadata": {},
   "source": [
    "# Key Takeaways\n",
    "- Audio data can be visualised as a spectrogram, where the horizontal axis represents time, the vertical axis represents the frequency of the sound, and the color represents how loud the sound is in decibels"
   ]
  }
 ],
 "metadata": {
  "interpreter": {
   "hash": "aee8b7b246df8f9039afb4144a1f6fd8d2ca17a180786b69acc140d282b71a49"
  },
  "kernelspec": {
   "display_name": "Python 3.9.6 64-bit",
   "name": "python3"
  },
  "language_info": {
   "codemirror_mode": {
    "name": "ipython",
    "version": 3
   },
   "file_extension": ".py",
   "mimetype": "text/x-python",
   "name": "python",
   "nbconvert_exporter": "python",
   "pygments_lexer": "ipython3",
   "version": "3.9.0 (v3.9.0:9cf6752276, Oct  5 2020, 11:29:23) \n[Clang 6.0 (clang-600.0.57)]"
  }
 },
 "nbformat": 4,
 "nbformat_minor": 4
}
