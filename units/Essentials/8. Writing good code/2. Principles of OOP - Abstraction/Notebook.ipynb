{
 "cells": [
  {
   "cell_type": "markdown",
   "metadata": {},
   "source": [
    "# Abstraction "
   ]
  },
  {
   "cell_type": "markdown",
   "metadata": {},
   "source": [
    "## Introduction\n",
    ">In the previous lesson, we learnt how to separate concerns using functions and classes. However, each of these separations creates new levels of granularity that may be difficult to handle as the project scales.\n",
    "\n",
    "We learnt how to download images of animals; however, once we retrieve the images, we might want to clean them or utilise them to train a model. Implementing methods in the same class for including a model might be confusing, considering that the class is responsible solely for downloading the images. For cases such as this, the solution is to increase the granularity."
   ]
  },
  {
   "cell_type": "markdown",
   "metadata": {},
   "source": [
    "## Abstraction"
   ]
  },
  {
   "cell_type": "markdown",
   "metadata": {},
   "source": [
    "The term, abstract, in programming is very similar to the concept of abstract in art: extracting certain ideas and removing the specifics. When you browse a webpage, you do not worry about the intricacies, you simply view the layout _(the main idea)_, exclusive of the specifics _(the work behind it)_. In other words, data abstraction is similar to a black box.\n",
    "\n",
    "> Abstraction facilitates the concealment of the internal details of code, showing only the basic functionalities.\n",
    "\n",
    "We already saw abstract classes. Do not confuse data abstraction (black boxes) with class abstraction (forcing a subclass to have a specific method). Although abstract classes help with the separation of concerns, they are different.\n"
   ]
  },
  {
   "cell_type": "markdown",
   "metadata": {},
   "source": [
    "### Example\n",
    "\n",
    "The image below shows the functions (or methods) used to download animal images:\n",
    "\n",
    "<p align=center><img src=images/AnimalScraper.png modified=5616861></p>"
   ]
  },
  {
   "cell_type": "markdown",
   "metadata": {},
   "source": [
    "If we need to clean the images, the following steps are required: \n",
    "\n",
    "- Ensure size uniformity.\n",
    "- Ensure that they all have three channels (RGB).\n",
    "- Ensure that the pixels are normalised (values are between 0 and +1). \n",
    "\n",
    "Certainly, we could simply add these steps to the right-hand side of the graph; however, they are not part of the scraper anymore.\n",
    "As a solution, we can apply abstraction to group different functions that will exhibit a specific behaviour. The gathered functions will accept certain input types and return certain output types. This indicates that if you find a bug or you intend to tweak a function inside the functions, you can modify it without changing the output type.\n",
    "\n",
    "In this example, the AnimalScraper class should not be concerned with the ImageCleaner; however, its output will affect ImageCleaner. Thus, we can __abstract__ AnimalScraper so that we can 'forget' about its intricacies. If we need to change anything inside AnimalScraper, we can make the changes without changing ImageCleaner.\n",
    "\n",
    "<p align=center><img src=images/AnimalScraper_Cleaned.png modified=5616861></p>"
   ]
  },
  {
   "cell_type": "markdown",
   "metadata": {},
   "source": [
    "As your project scales, you will add more behaviour to the code. When implementing abstraction, think of your code as an ogre or an onion: they have many layers. Low-level layers will involve small concerns, and high-level layers do not correspond to larger functionalities; rather, they involve more concerns.\n",
    "\n",
    "<p align=center><img src=images/Layers.png width=500, modified=5616861></p>\n",
    "\n"
   ]
  },
  {
   "cell_type": "markdown",
   "metadata": {},
   "source": [
    "Small concerns (Animal Scraper) will be used repeatedly; thus, it should be designed in a way that prevents frequent changes. Conversely, DataLoader or ModelTrain may vary because we need to obtain different models. \n",
    "\n",
    "For long-code projects, it might be difficult to trace back an error, indicating poor maintainability. Abstraction can solve this by enabling us to pinpoint the error."
   ]
  }
 ],
 "metadata": {
  "kernelspec": {
   "display_name": "Python 3.9.12 ('base')",
   "language": "python",
   "name": "python3"
  },
  "language_info": {
   "name": "python",
   "version": "3.9.12"
  },
  "orig_nbformat": 4,
  "vscode": {
   "interpreter": {
    "hash": "a2592652612463181e69ac003232387e3e9a99279aa6b168e76f5df16d5110f4"
   }
  }
 },
 "nbformat": 4,
 "nbformat_minor": 2
}
