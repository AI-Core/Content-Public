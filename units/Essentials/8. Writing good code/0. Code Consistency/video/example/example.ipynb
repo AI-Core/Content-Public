{
 "cells": [
  {
   "cell_type": "markdown",
   "metadata": {},
   "source": [
    "## Use consistent case within variables"
   ]
  },
  {
   "cell_type": "code",
   "execution_count": null,
   "metadata": {},
   "outputs": [],
   "source": [
    "someVariable_ofmine = 2"
   ]
  },
  {
   "cell_type": "markdown",
   "metadata": {},
   "source": [
    "## Use consistent case between variables"
   ]
  },
  {
   "cell_type": "code",
   "execution_count": null,
   "metadata": {},
   "outputs": [],
   "source": [
    "my_variable = 1\n",
    "anotherVariableOfMine = 2"
   ]
  },
  {
   "cell_type": "markdown",
   "metadata": {},
   "source": [
    "## Use consistent names"
   ]
  },
  {
   "cell_type": "code",
   "execution_count": null,
   "metadata": {},
   "outputs": [],
   "source": [
    "users = ['Harry', 'Amie', 'Faisal']\n",
    "player_count = len(users)\n"
   ]
  },
  {
   "cell_type": "markdown",
   "metadata": {},
   "source": [
    "## Treat similar chunks of code similarly"
   ]
  },
  {
   "cell_type": "code",
   "execution_count": 3,
   "metadata": {},
   "outputs": [
    {
     "name": "stdout",
     "output_type": "stream",
     "text": [
      "3\n",
      "2\n"
     ]
    }
   ],
   "source": [
    "data = [1, 2, 3, 4]\n",
    "\n",
    "def get_first_number_greater_than_2(datapoints):\n",
    "    for number in datapoints:\n",
    "        if number > 2:\n",
    "            return number\n",
    "\n",
    "\n",
    "# GET FIRST NUMBER GREATER THAN 2\n",
    "first_number_greater_than_2 = get_first_number_greater_than_2(data)\n",
    "\n",
    "# CALCULATE SMALLEST NUMBER GREATER THAN 1\n",
    "for number in data:\n",
    "    if number > 1:        \n",
    "        first_number_greater_than_1 = number\n",
    "        break\n",
    "\n",
    "print(first_number_greater_than_2)\n",
    "print(first_number_greater_than_1)\n"
   ]
  },
  {
   "cell_type": "markdown",
   "metadata": {},
   "source": [
    "## Use consistent libraries unless necessary"
   ]
  },
  {
   "cell_type": "code",
   "execution_count": null,
   "metadata": {},
   "outputs": [],
   "source": [
    "from plotly.express import scatter\n",
    "from matplotlib.pyplot import bar"
   ]
  }
 ],
 "metadata": {
  "kernelspec": {
   "display_name": "Python 3.9.0 64-bit",
   "language": "python",
   "name": "python3"
  },
  "language_info": {
   "codemirror_mode": {
    "name": "ipython",
    "version": 3
   },
   "file_extension": ".py",
   "mimetype": "text/x-python",
   "name": "python",
   "nbconvert_exporter": "python",
   "pygments_lexer": "ipython3",
   "version": "3.9.0"
  },
  "orig_nbformat": 4,
  "vscode": {
   "interpreter": {
    "hash": "aee8b7b246df8f9039afb4144a1f6fd8d2ca17a180786b69acc140d282b71a49"
   }
  }
 },
 "nbformat": 4,
 "nbformat_minor": 2
}
