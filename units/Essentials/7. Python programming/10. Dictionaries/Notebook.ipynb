{
 "cells": [
  {
   "cell_type": "markdown",
   "metadata": {},
   "source": [
    "# Dictionaries "
   ]
  },
  {
   "cell_type": "markdown",
   "metadata": {},
   "source": [
    "## Introduction"
   ]
  },
  {
   "cell_type": "markdown",
   "metadata": {},
   "source": [
    "- Dictionaries are __ordered__ collections of key:value pairs. (They became ordered from Python 3.6).\n",
    "- Keys can be of any __immutable__ data type; however, the best practice is to use strings.\n",
    "- Values can be of any data type, including dictionaries themselves (i.e. nesting).\n",
    "- Dictionaries are indexed using keys."
   ]
  },
  {
   "cell_type": "markdown",
   "metadata": {},
   "source": [
    "## Creation of Dictionaries"
   ]
  },
  {
   "cell_type": "markdown",
   "metadata": {},
   "source": [
    "Dictionaries are created using __curly brackets__; however, as opposed to the case with sets, a __key__ and a __value__ must be defined for every item."
   ]
  },
  {
   "cell_type": "code",
   "execution_count": 2,
   "metadata": {},
   "outputs": [
    {
     "name": "stdout",
     "output_type": "stream",
     "text": [
      "{'key': 1, 'key_2': 2}\n"
     ]
    }
   ],
   "source": [
    "my_dict = {'key': 1, 'key_2': 2}\n",
    "print(my_dict)"
   ]
  },
  {
   "cell_type": "markdown",
   "metadata": {},
   "source": [
    "Keys must be immutable (e.g. tuples, which we will go through later, or strings).\n",
    "\n",
    "Conversely, values can be of any data type, even another dictionary."
   ]
  },
  {
   "cell_type": "code",
   "execution_count": null,
   "metadata": {},
   "outputs": [],
   "source": [
    "# flexibility of data assignment, including lists and sub-dictionaries\n",
    "d = {'k1': 50, 'k2': 123, 'k3': [0,1,2], 'k4': {'insidekey': [100, 200]}}\n",
    "\n",
    "print(d)"
   ]
  },
  {
   "cell_type": "markdown",
   "metadata": {},
   "source": [
    "## Accessing the Data in a Dictionary"
   ]
  },
  {
   "cell_type": "markdown",
   "metadata": {},
   "source": [
    "In Python, when working with data, it is conventional to retrieve a certain value using the corresponding index.\n",
    "\n",
    "Dictionaries employ a similar approach; however, instead of a numerical index, a key is used."
   ]
  },
  {
   "cell_type": "markdown",
   "metadata": {},
   "source": [
    "For example, in my_dict (see the code below), the value corresponding to `key_2` can be accessed as follows:"
   ]
  },
  {
   "cell_type": "code",
   "execution_count": null,
   "metadata": {},
   "outputs": [],
   "source": [
    "my_dict = {'key': 1, 'key_2': 2}\n",
    "print(my_dict['key_2'])"
   ]
  },
  {
   "cell_type": "markdown",
   "metadata": {},
   "source": [
    "The same applies to nested dictionaries. To access a value in a nested dictionary, the key corresponding to the nested dictionary, along with the key of the desired value in the nested dictionary, is required."
   ]
  },
  {
   "cell_type": "code",
   "execution_count": 4,
   "metadata": {},
   "outputs": [
    {
     "name": "stdout",
     "output_type": "stream",
     "text": [
      "{'insidekey': [100, 200]}\n",
      "[100, 200]\n",
      "200\n"
     ]
    }
   ],
   "source": [
    "d = {'k1': 50, 'k2': 123, 'k3': [0,1,2], 'k4': {'insidekey': [100, 200]}}\n",
    "print(d['k4']) # This will access the inner dictionary.\n",
    "print(d['k4']['insidekey']) # This will acess the list within the inner dictionary.\n",
    "print(d['k4']['insidekey'][1]) # This will access the second element in the list within the inner dictionary.\n"
   ]
  },
  {
   "cell_type": "markdown",
   "metadata": {},
   "source": [
    "Furthermore, calls can be stacked, implying that a method (or function) can be applied to the data retrieved from indexing a dictionary."
   ]
  },
  {
   "cell_type": "code",
   "execution_count": null,
   "metadata": {},
   "outputs": [],
   "source": [
    "# can stack calls\n",
    "d1 = {'k1':[\"a\", \"b\", \"c\"]}\n",
    "\n",
    "print(d1['k1'][2].upper())"
   ]
  },
  {
   "cell_type": "code",
   "execution_count": null,
   "metadata": {},
   "outputs": [],
   "source": [
    "# Both of these methods give the same result.\n",
    "\n",
    "x = d1['k1'][2]\n",
    "print(x.upper())"
   ]
  },
  {
   "cell_type": "markdown",
   "metadata": {},
   "source": [
    "### `.keys()`, `values()` and `items()`"
   ]
  },
  {
   "cell_type": "markdown",
   "metadata": {},
   "source": [
    "On many occasions, you will need to retrieve the keys, values or a combination of both. The following methods enable you to achieve these:\n",
    "- `.keys()` returns a list of the keys in a dictionary.\n",
    "- `.values()` returns a list of the values in a dictionary.\n",
    "- `.items()` returns both in the form of a list of tuples, where the first item in the tuple is the key, and the second item is the corresponding value."
   ]
  },
  {
   "cell_type": "code",
   "execution_count": null,
   "metadata": {},
   "outputs": [],
   "source": [
    "# To call all keys/values/pairs, use .keys / .values / .items methods; .items returns tuples.\n",
    "print('The keys method returns: ')\n",
    "print(d.keys())\n",
    "print('The values method returns: ')\n",
    "print(d.values())\n",
    "print('The items method returns: ')\n",
    "print(d.items())"
   ]
  },
  {
   "cell_type": "markdown",
   "metadata": {},
   "source": [
    "### The `in` Operator"
   ]
  },
  {
   "cell_type": "markdown",
   "metadata": {},
   "source": [
    "The `in` operator determines if an element is in a collection of items. It returns `True` if present and `False` if absent."
   ]
  },
  {
   "cell_type": "code",
   "execution_count": 5,
   "metadata": {},
   "outputs": [
    {
     "data": {
      "text/plain": [
       "True"
      ]
     },
     "execution_count": 5,
     "metadata": {},
     "output_type": "execute_result"
    }
   ],
   "source": [
    "my_list = ['a', 'b', 'c']\n",
    "'c' in my_list"
   ]
  },
  {
   "cell_type": "code",
   "execution_count": 6,
   "metadata": {},
   "outputs": [
    {
     "data": {
      "text/plain": [
       "False"
      ]
     },
     "execution_count": 6,
     "metadata": {},
     "output_type": "execute_result"
    }
   ],
   "source": [
    "'d' in my_list"
   ]
  },
  {
   "cell_type": "markdown",
   "metadata": {},
   "source": [
    "If applied directly to a dictionary, it will inspect only the keys."
   ]
  },
  {
   "cell_type": "code",
   "execution_count": 8,
   "metadata": {},
   "outputs": [
    {
     "name": "stdout",
     "output_type": "stream",
     "text": [
      "Is \"k2\" in d1? True\n",
      "Is 345 in d1? False\n"
     ]
    }
   ],
   "source": [
    "# use in to check if item in iterable\n",
    "d1 = {\"k1\": 10, \"k2\": [1,2,3], \"k3\": 345}\n",
    "\n",
    "print(f'Is \"k2\" in d1? {\"k2\" in d1}')\n",
    "print(f'Is 345 in d1? {345 in d1}')\n"
   ]
  },
  {
   "cell_type": "markdown",
   "metadata": {},
   "source": [
    "The `.values()` method determines if a value is present in a dictionary."
   ]
  },
  {
   "cell_type": "code",
   "execution_count": 10,
   "metadata": {},
   "outputs": [
    {
     "name": "stdout",
     "output_type": "stream",
     "text": [
      "Is 345 in the values of d1? True\n"
     ]
    }
   ],
   "source": [
    "val = d1.values()\n",
    "\n",
    "print(f'Is 345 in the values of d1? {345 in d1.values()}')"
   ]
  },
  {
   "cell_type": "markdown",
   "metadata": {},
   "source": [
    "## Addition and Modification of Keys"
   ]
  },
  {
   "cell_type": "markdown",
   "metadata": {},
   "source": [
    "New keys can be __added__ to a dictionary by indexing a __non-existing__ key (e.g. `k7`), and assigning a value to it (e.g. `VALUE`)."
   ]
  },
  {
   "cell_type": "code",
   "execution_count": null,
   "metadata": {},
   "outputs": [],
   "source": [
    "print(f'Before adding k7: {d}')\n",
    "d[\"k7\"] = \"VALUE\"\n",
    "print(f'After adding k7: {d}')"
   ]
  },
  {
   "cell_type": "markdown",
   "metadata": {},
   "source": [
    "However, if the key already exists, the original is retained, whereas the original value is replaced by the new value (e.g. `NEW VALUE`)."
   ]
  },
  {
   "cell_type": "code",
   "execution_count": null,
   "metadata": {},
   "outputs": [],
   "source": [
    "# add by assigning new pair, reassign\n",
    "d[\"k7\"] = \"NEW VALUE\"\n",
    "\n",
    "print(d)"
   ]
  },
  {
   "cell_type": "markdown",
   "metadata": {},
   "source": [
    "Keys can also be added using the `.update()` method. For this, a dictionary must be passed to the method as an argument. "
   ]
  },
  {
   "cell_type": "code",
   "execution_count": null,
   "metadata": {},
   "outputs": [],
   "source": [
    "d1 = {\"k1\": 10, \"k2\":[1,2,3], \"k3\":345}\n",
    "d2 = {'k1': 50, 'k5': 42}\n",
    "d1.update(d2)\n",
    "print(d1)"
   ]
  },
  {
   "cell_type": "markdown",
   "metadata": {},
   "source": [
    "Note that if the key already exists, only its corresponding value will be updated."
   ]
  },
  {
   "cell_type": "markdown",
   "metadata": {},
   "source": [
    "## Removal of Elements"
   ]
  },
  {
   "cell_type": "markdown",
   "metadata": {},
   "source": [
    "The `.pop()` method enables the removal of a key from a dictionary.\n",
    "\n",
    "For this, the name of the key to be removed is passed as an argument. If the key does not exist, Python will throw an error."
   ]
  },
  {
   "cell_type": "code",
   "execution_count": null,
   "metadata": {},
   "outputs": [],
   "source": [
    "d1 = {\"k1\": 10, \"k2\": [1, 2, 3], \"k3\": 345}\n",
    "print(d1.pop('k1'))\n",
    "print(d1)"
   ]
  },
  {
   "cell_type": "markdown",
   "metadata": {},
   "source": [
    "## Summary\n",
    "\n",
    "We now know:\n",
    "- How to use a set to find the unique values in a list.\n",
    "- How to index a dictionary.\n",
    "- Dictionary methods including .keys(), .values(), .items().\n",
    "\n",
    "## Further reading\n",
    "- Dictionary methods: https://docs.python.org/3/library/stdtypes.html#typesmapping\n",
    "- Built-in types: https://docs.python.org/3/library/stdtypes.html"
   ]
  }
 ],
 "metadata": {
  "interpreter": {
   "hash": "3d597f4c481aa0f25dceb95d2a0067e73c0966dcbd003d741d821a7208527ecf"
  },
  "kernelspec": {
   "display_name": "Python 3.9.1 64-bit ('base': conda)",
   "name": "python3"
  },
  "language_info": {
   "codemirror_mode": {
    "name": "ipython",
    "version": 3
   },
   "file_extension": ".py",
   "mimetype": "text/x-python",
   "name": "python",
   "nbconvert_exporter": "python",
   "pygments_lexer": "ipython3",
   "version": "3.8.11"
  }
 },
 "nbformat": 4,
 "nbformat_minor": 4
}
