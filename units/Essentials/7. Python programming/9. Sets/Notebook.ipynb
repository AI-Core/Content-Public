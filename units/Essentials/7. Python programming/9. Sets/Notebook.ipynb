{
 "cells": [
  {
   "cell_type": "markdown",
   "metadata": {},
   "source": [
    "# 2. Lists and Sets"
   ]
  },
  {
   "cell_type": "markdown",
   "metadata": {},
   "source": [
    "## Learning objectives\n",
    "- Understand the nature of a list.\n",
    "- Know how to index and slice a list.\n",
    "- Know some ways to add items to a list.\n",
    "- Know some methods associated with a list.\n",
    "<br> <br>\n",
    "- Understand the nature of a set.\n",
    "- Learn how to add to and update a set.\n",
    "- Learn how to join sets using different methods."
   ]
  },
  {
   "cell_type": "markdown",
   "metadata": {},
   "source": [
    "## Lists"
   ]
  },
  {
   "cell_type": "markdown",
   "metadata": {},
   "source": [
    "- A powerful data type in Python.\n",
    "- It is denoted by square brackets [].\n",
    "- Lists store items as a mutable ordered sequence of elements.\n",
    "- Each element in a list is an item.\n",
    "- Indexing and slicing operations apply to lists.\n",
    "- Lists can be nested several levels deep.\n",
    "\n",
    "![Lists](images/lists.png)"
   ]
  },
  {
   "cell_type": "markdown",
   "metadata": {},
   "source": [
    "### Term Definitions\n",
    "- Mutable: indicates that the item can be changed after creation (supports addition/removal/reassignment of items).\n",
    "- Ordered: indicates a fixed order (the order of elements provided at the time of assignment); thus, indexing can occur using numbers. For example, the list, \\[2,1,3,4\\], will remain unchanged; 2 will remain the first element, 1 will remain the second, ..., etc.\n",
    "- Sequence of elements: fairly self explanatory."
   ]
  },
  {
   "cell_type": "code",
   "execution_count": null,
   "metadata": {},
   "outputs": [],
   "source": [
    "# can handle multiple object types.\n",
    "my_list = [3, \"three\", 3.0, True]"
   ]
  },
  {
   "cell_type": "code",
   "execution_count": null,
   "metadata": {},
   "outputs": [],
   "source": [
    "my_list[0]"
   ]
  },
  {
   "cell_type": "code",
   "execution_count": null,
   "metadata": {},
   "outputs": [],
   "source": [
    "sentence = 'This is just a sentence'\n",
    "sentence.split('s')"
   ]
  },
  {
   "cell_type": "code",
   "execution_count": null,
   "metadata": {},
   "outputs": [],
   "source": [
    "# can use the type() method to determine the data type of an object.\n",
    "type(3)"
   ]
  },
  {
   "cell_type": "code",
   "execution_count": null,
   "metadata": {},
   "outputs": [],
   "source": [
    "type(\"three\")"
   ]
  },
  {
   "cell_type": "code",
   "execution_count": null,
   "metadata": {},
   "outputs": [],
   "source": [
    "type(3.0)"
   ]
  },
  {
   "cell_type": "code",
   "execution_count": null,
   "metadata": {},
   "outputs": [],
   "source": [
    "type(True)"
   ]
  },
  {
   "cell_type": "code",
   "execution_count": null,
   "metadata": {},
   "outputs": [],
   "source": [
    "type(my_list)"
   ]
  },
  {
   "cell_type": "markdown",
   "metadata": {},
   "source": [
    "## Indexing and Slicing"
   ]
  },
  {
   "cell_type": "markdown",
   "metadata": {},
   "source": [
    "In Python, slicing\n",
    "\n",
    "- begins at index 0 (zero).\n",
    "- is inclusive of the lower bound (including).\n",
    "- is exclusive of the upper bound (up to, but not including)."
   ]
  },
  {
   "cell_type": "code",
   "execution_count": 3,
   "metadata": {},
   "outputs": [
    {
     "data": {
      "text/plain": [
       "['John', 'Paul', 'George', 'Ringo']"
      ]
     },
     "execution_count": 3,
     "metadata": {},
     "output_type": "execute_result"
    }
   ],
   "source": [
    "my_list = ['John', 'Paul', 'George', 'Ringo']\n",
    "my_list"
   ]
  },
  {
   "cell_type": "code",
   "execution_count": null,
   "metadata": {},
   "outputs": [],
   "source": [
    "# Index 0 outputs the first element.\n",
    "my_list[0]"
   ]
  },
  {
   "cell_type": "code",
   "execution_count": null,
   "metadata": {},
   "outputs": [],
   "source": [
    "# Use a colon to indicate a slice; 1:3 returns the 2nd and 3rd items, but not the 4th.\n",
    "my_list[0:3]"
   ]
  },
  {
   "cell_type": "code",
   "execution_count": null,
   "metadata": {},
   "outputs": [],
   "source": [
    "# In the absence of an upper bound, the slicing operation begins with the 1st index indicated and outputs everything beyond.\n",
    "my_list[1:]"
   ]
  },
  {
   "cell_type": "code",
   "execution_count": null,
   "metadata": {},
   "outputs": [],
   "source": [
    "# In the absence of a lower bound, the slicing begins from index 0 up to, but not including, the upper bound.\n",
    "my_list[:3]"
   ]
  },
  {
   "cell_type": "code",
   "execution_count": null,
   "metadata": {},
   "outputs": [],
   "source": [
    "# The third argument defines the step size.\n",
    "my_list[::2]"
   ]
  },
  {
   "cell_type": "code",
   "execution_count": null,
   "metadata": {},
   "outputs": [],
   "source": [
    "# When a negative index is applied, the slicing starts from the end.\n",
    "print(my_list[-1])\n",
    "print(my_list[-2])\n",
    "# You can define the step size as negative, which will go backwards.\n",
    "print(my_list[::-1])"
   ]
  },
  {
   "cell_type": "code",
   "execution_count": null,
   "metadata": {},
   "outputs": [],
   "source": [
    "# Elements in a list can be reassigned to new values.\n",
    "my_list[1] = my_list[1].upper()\n",
    "my_list"
   ]
  },
  {
   "cell_type": "code",
   "execution_count": null,
   "metadata": {},
   "outputs": [],
   "source": [
    "# Elements can be added to lists; however, this does not change the original list.\n",
    "my_list + ['Yoko']\n",
    "print(my_list)"
   ]
  },
  {
   "cell_type": "code",
   "execution_count": null,
   "metadata": {},
   "outputs": [],
   "source": [
    "# To change the original list, you must reassign it.\n",
    "my_list = my_list + ['Yoko']\n",
    "\n",
    "my_list"
   ]
  },
  {
   "cell_type": "code",
   "execution_count": null,
   "metadata": {},
   "outputs": [],
   "source": [
    "# The list can be reassigned to a slice of the original list.\n",
    "\n",
    "my_list = my_list[:4]\n",
    "\n",
    "my_list"
   ]
  },
  {
   "cell_type": "code",
   "execution_count": null,
   "metadata": {},
   "outputs": [],
   "source": [
    "# The list can be multiplied by integer x to replicate the original list x times.\n",
    "print(my_list * 2)\n",
    "# As mentioned previously, to make changes to the original list, it must be reassigned.\n",
    "my_list"
   ]
  },
  {
   "cell_type": "code",
   "execution_count": null,
   "metadata": {},
   "outputs": [],
   "source": [
    "# A list can be contained within another list.\n",
    "# The concept of inserting a list into another is called nesting.\n",
    "lst_1=[1,2,3]\n",
    "lst_2=[4,5,6]\n",
    "lst_3=[7,8,9]\n",
    "\n",
    "# A nested list is formed by making a list of lists.\n",
    "nest_list = [lst_1,lst_2,lst_3]\n",
    "nest_list"
   ]
  },
  {
   "cell_type": "markdown",
   "metadata": {},
   "source": [
    ">Note that it is possible to nest lists several levels deep."
   ]
  },
  {
   "cell_type": "code",
   "execution_count": null,
   "metadata": {},
   "outputs": [],
   "source": [
    "print('Accessing second item', nest_list[1])\n",
    "print('Accessing second item of the second item', nest_list[1][1])"
   ]
  },
  {
   "cell_type": "markdown",
   "metadata": {},
   "source": [
    "## List Functions and Methods"
   ]
  },
  {
   "cell_type": "markdown",
   "metadata": {},
   "source": [
    "Here, we review some of the most common functions and methods that apply to lists.\n",
    "\n",
    "The difference between functions and methods is that functions are not bound to a specific data type, whereas methods are. In other words, a method is a function that is specific to a data type.\n",
    "\n",
    "Therefore, all methods are functions, but not all functions are methods."
   ]
  },
  {
   "cell_type": "markdown",
   "metadata": {},
   "source": [
    "Here, we examine the most common methods and functions in Python for lists. We encourage you to explore the official Python documentation [here](https://docs.python.org/3/tutorial/datastructures.html) for an exhaustive list."
   ]
  },
  {
   "cell_type": "markdown",
   "metadata": {},
   "source": [
    "### `len`"
   ]
  },
  {
   "cell_type": "markdown",
   "metadata": {},
   "source": [
    "The `.len()` function counts the number of items in a data type containing multiple elements."
   ]
  },
  {
   "cell_type": "code",
   "execution_count": null,
   "metadata": {},
   "outputs": [],
   "source": [
    "# We redefine my_list in order not to lose track of its contents.\n",
    "my_list = ['John', 'Paul', 'George', 'Ringo']\n",
    "len(my_list)"
   ]
  },
  {
   "cell_type": "markdown",
   "metadata": {},
   "source": [
    "Note that the `len` function does not work for numbers or floats. It works for data types that are collections, such as lists or strings."
   ]
  },
  {
   "cell_type": "code",
   "execution_count": null,
   "metadata": {},
   "outputs": [],
   "source": [
    "len(3)"
   ]
  },
  {
   "cell_type": "markdown",
   "metadata": {},
   "source": [
    "### `min` and `max`"
   ]
  },
  {
   "cell_type": "markdown",
   "metadata": {},
   "source": [
    "Apply min() and max() to find the highest and lowest items in a list, respectively."
   ]
  },
  {
   "cell_type": "code",
   "execution_count": null,
   "metadata": {},
   "outputs": [],
   "source": [
    "num_list = [3, 7, 1, 9, 42]\n",
    "print(min(num_list))\n",
    "print(max(num_list))"
   ]
  },
  {
   "cell_type": "markdown",
   "metadata": {},
   "source": [
    "\n",
    "When used in lists with strings, they work in alphabetical order."
   ]
  },
  {
   "cell_type": "code",
   "execution_count": 8,
   "metadata": {},
   "outputs": [
    {
     "name": "stdout",
     "output_type": "stream",
     "text": [
      "George\n",
      "Ringo\n"
     ]
    }
   ],
   "source": [
    "print(min(my_list))\n",
    "print(max(my_list))"
   ]
  },
  {
   "cell_type": "markdown",
   "metadata": {},
   "source": [
    "### `.append()` and `.extend()`\n",
    "- The .append() method adds items to the end of a list.\n",
    "- The .extend() method adds the items in a list (or other iterables) itemwise to the end of the list.\n",
    "- The difference between the two is shown below."
   ]
  },
  {
   "cell_type": "code",
   "execution_count": null,
   "metadata": {},
   "outputs": [],
   "source": [
    "# add items by the .append() method\n",
    "my_list = ['John', 'Paul', 'George', 'Ringo']\n",
    "my_list.append(['Lennon','McCartney','Harrison', 'Starr'])\n",
    "\n",
    "print(my_list)"
   ]
  },
  {
   "cell_type": "markdown",
   "metadata": {},
   "source": [
    "Notice that with the `append` method, we did not have to reassign the list to a new variable. Rather, the original value of the variable was changed. \n",
    "\n",
    "This same principle applies to the `extend` method."
   ]
  },
  {
   "cell_type": "code",
   "execution_count": null,
   "metadata": {},
   "outputs": [],
   "source": [
    "# add items in iterable itemwise by the .extend() method.\n",
    "my_list = ['John', 'Paul', 'George', 'Ringo']\n",
    "my_list.extend(['Lennon','McCartney','Harrison', 'Starr'])\n",
    "\n",
    "my_list"
   ]
  },
  {
   "cell_type": "markdown",
   "metadata": {},
   "source": [
    "### `.insert()`"
   ]
  },
  {
   "cell_type": "markdown",
   "metadata": {},
   "source": [
    "The `.insert()` method adds an item to a specific index. Note that lists are 0 indexed."
   ]
  },
  {
   "cell_type": "code",
   "execution_count": 12,
   "metadata": {},
   "outputs": [
    {
     "data": {
      "text/plain": [
       "['John', 'Lennon', 'Paul', 'George', 'Ringo']"
      ]
     },
     "execution_count": 12,
     "metadata": {},
     "output_type": "execute_result"
    }
   ],
   "source": [
    "my_list = ['John', 'Paul', 'George', 'Ringo']\n",
    "my_list.insert(1, 'Lennon')\n",
    "my_list"
   ]
  },
  {
   "cell_type": "markdown",
   "metadata": {},
   "source": [
    "#### <font size=+2> `.pop()` </font>"
   ]
  },
  {
   "cell_type": "markdown",
   "metadata": {},
   "source": [
    "`pop` removes, by default, the last item. Similar to `append`, `extend` and `insert`, it changes the original state of the variable. However, this method returns the removed item."
   ]
  },
  {
   "cell_type": "code",
   "execution_count": null,
   "metadata": {},
   "outputs": [],
   "source": [
    "# last_item will be assigned the value of the last element.\n",
    "last_item = my_list.pop()\n",
    "last_item"
   ]
  },
  {
   "cell_type": "markdown",
   "metadata": {},
   "source": [
    "Consequently, `my_list` will contain one element less."
   ]
  },
  {
   "cell_type": "code",
   "execution_count": null,
   "metadata": {},
   "outputs": [],
   "source": [
    "my_list"
   ]
  },
  {
   "cell_type": "markdown",
   "metadata": {},
   "source": [
    "The index to be removed can be specified."
   ]
  },
  {
   "cell_type": "code",
   "execution_count": null,
   "metadata": {},
   "outputs": [],
   "source": [
    "# can index, default index -1\n",
    "my_list.pop(0)\n",
    "my_list"
   ]
  },
  {
   "cell_type": "markdown",
   "metadata": {},
   "source": [
    "#### <font size=+2> `.remove()` </font>"
   ]
  },
  {
   "cell_type": "markdown",
   "metadata": {},
   "source": [
    "Another method for removing elements in a list is the `.remove()` method. This method finds and removes a specified item from a list."
   ]
  },
  {
   "cell_type": "code",
   "execution_count": 40,
   "metadata": {},
   "outputs": [
    {
     "name": "stdout",
     "output_type": "stream",
     "text": [
      "['Lennon', 'Paul', 'George']\n"
     ]
    }
   ],
   "source": [
    "my_list = ['John', 'Lennon', 'Paul', 'George']\n",
    "my_list.remove('John')\n",
    "print(my_list)"
   ]
  },
  {
   "cell_type": "markdown",
   "metadata": {},
   "source": [
    "Please exercise caution! If the specified item does not exist in the list, Python will throw an error."
   ]
  },
  {
   "cell_type": "code",
   "execution_count": null,
   "metadata": {},
   "outputs": [],
   "source": [
    "my_list = ['John', 'Lennon', 'Paul', 'George']\n",
    "my_list.remove('Yoko')"
   ]
  },
  {
   "cell_type": "markdown",
   "metadata": {},
   "source": [
    "### `.sort()` and `.reverse()`"
   ]
  },
  {
   "cell_type": "markdown",
   "metadata": {},
   "source": [
    "`sort` orders a list based on the value of its elements."
   ]
  },
  {
   "cell_type": "code",
   "execution_count": 3,
   "metadata": {},
   "outputs": [],
   "source": [
    "# using the .sort() method to sort a list changes the original list, and no value is returned.\n",
    "\n",
    "let_list = [\"a\", \"d\", \"v\", \"x\", \"g\"]\n",
    "\n",
    "num_list = [13,42,4,24,2,46,3,7]"
   ]
  },
  {
   "cell_type": "code",
   "execution_count": 4,
   "metadata": {},
   "outputs": [],
   "source": [
    "let_list.sort()\n",
    "num_list.sort()"
   ]
  },
  {
   "cell_type": "code",
   "execution_count": 5,
   "metadata": {},
   "outputs": [
    {
     "name": "stdout",
     "output_type": "stream",
     "text": [
      "['a', 'd', 'g', 'v', 'x']\n",
      "[2, 3, 4, 7, 13, 24, 42, 46]\n"
     ]
    }
   ],
   "source": [
    "print(let_list)\n",
    "print(num_list)"
   ]
  },
  {
   "cell_type": "code",
   "execution_count": 6,
   "metadata": {},
   "outputs": [
    {
     "name": "stdout",
     "output_type": "stream",
     "text": [
      "None\n"
     ]
    }
   ],
   "source": [
    "A = [\"G06 WTR\", \"WL11 WFL\", \"QW68 PQR\"]\n",
    "print(A.sort())"
   ]
  },
  {
   "cell_type": "markdown",
   "metadata": {},
   "source": [
    "The `.reverse()` method is employed to order a list in the reverse order."
   ]
  },
  {
   "cell_type": "code",
   "execution_count": null,
   "metadata": {},
   "outputs": [],
   "source": [
    "# use the .reverse() method to reverse a list order.\n",
    "num_list.reverse()\n",
    "\n",
    "print(num_list)"
   ]
  },
  {
   "cell_type": "markdown",
   "metadata": {},
   "source": [
    "### `.join()` "
   ]
  },
  {
   "cell_type": "markdown",
   "metadata": {},
   "source": [
    "`join` is actually a string method, although it accepts lists as arguments. It combines every item in the list, separated by the string to which the method was applied."
   ]
  },
  {
   "cell_type": "code",
   "execution_count": null,
   "metadata": {},
   "outputs": [],
   "source": [
    "list_of_strings = [\"This\", \"is\", \"a\", \"sentence.\"]\n",
    "\n",
    "print(\"    Random String    \".join(list_of_strings))"
   ]
  },
  {
   "cell_type": "markdown",
   "metadata": {},
   "source": [
    "### `.index()` "
   ]
  },
  {
   "cell_type": "markdown",
   "metadata": {},
   "source": [
    "The `.index()` method is employed to determine the index of a certain element in a list."
   ]
  },
  {
   "cell_type": "code",
   "execution_count": 37,
   "metadata": {},
   "outputs": [
    {
     "name": "stdout",
     "output_type": "stream",
     "text": [
      "1\n"
     ]
    }
   ],
   "source": [
    "# my_list.remove('PAUL')\n",
    "my_list = ['John', 'Lennon', 'Paul', 'George']\n",
    "idx = my_list.index('Lennon')\n",
    "print(idx)"
   ]
  },
  {
   "cell_type": "markdown",
   "metadata": {},
   "source": [
    "Please exercise caution! If the specified item is not in the list, Python will throw an error."
   ]
  },
  {
   "cell_type": "code",
   "execution_count": null,
   "metadata": {},
   "outputs": [],
   "source": [
    "my_list = ['John', 'Lennon', 'Paul', 'George']\n",
    "idx = my_list.index('Yoko')\n",
    "print(idx)"
   ]
  },
  {
   "cell_type": "markdown",
   "metadata": {},
   "source": [
    "## A Brief Introduction to Sets"
   ]
  },
  {
   "cell_type": "markdown",
   "metadata": {},
   "source": [
    "- Sets are a data type in Python.\n",
    "- They follow the rules of mathematical sets that you should already be familiar with.\n",
    "- They are mutable and unordered, and they do not contain repeated items (items are unique).\n",
    "- This means one useful usage of a set is to find all unique items in a list, as we will see\n",
    "- Sets also have their own methods, with operations derived from mathematical sets."
   ]
  },
  {
   "cell_type": "markdown",
   "metadata": {},
   "source": [
    "We can define a set using the `set` method to cast, for example, a list into a set. If the list contained repeated elements, they will be removed in the set."
   ]
  },
  {
   "cell_type": "code",
   "execution_count": 18,
   "metadata": {},
   "outputs": [
    {
     "name": "stdout",
     "output_type": "stream",
     "text": [
      "{1, 2, 3, 4, 6}\n"
     ]
    }
   ],
   "source": [
    "my_set = set([1, 2, 3, 4, 4, 4, 6])\n",
    "print(my_set)"
   ]
  },
  {
   "cell_type": "markdown",
   "metadata": {},
   "source": [
    "Observe above that number 4 appears only once in the set.\n",
    "\n",
    "Also, observe that sets are represented by curly brackets (`{}`). This is the second way to define a set, using curly brackets when assigning it to a variable"
   ]
  },
  {
   "cell_type": "code",
   "execution_count": 19,
   "metadata": {},
   "outputs": [
    {
     "name": "stdout",
     "output_type": "stream",
     "text": [
      "{1, 2, 3, 4, 6}\n"
     ]
    }
   ],
   "source": [
    "my_set = {1, 2, 3, 4, 4, 4, 6}\n",
    "print(my_set)"
   ]
  },
  {
   "cell_type": "markdown",
   "metadata": {},
   "source": [
    "As mentioned above, sets are unordered and mutable. Mutable means that we will be able to change its content, as we will see later in this notebook\n",
    "\n",
    "Unordered means that its elements don't have a specific order, and therefore sets can't be indexed."
   ]
  },
  {
   "cell_type": "code",
   "execution_count": 20,
   "metadata": {},
   "outputs": [
    {
     "ename": "TypeError",
     "evalue": "'set' object is not subscriptable",
     "output_type": "error",
     "traceback": [
      "\u001b[0;31m---------------------------------------------------------------------------\u001b[0m",
      "\u001b[0;31mTypeError\u001b[0m                                 Traceback (most recent call last)",
      "\u001b[0;32m<ipython-input-20-be0a2ad132f1>\u001b[0m in \u001b[0;36m<module>\u001b[0;34m\u001b[0m\n\u001b[1;32m      1\u001b[0m \u001b[0;31m# Trying to index a set\u001b[0m\u001b[0;34m\u001b[0m\u001b[0;34m\u001b[0m\u001b[0;34m\u001b[0m\u001b[0m\n\u001b[0;32m----> 2\u001b[0;31m \u001b[0mmy_set\u001b[0m\u001b[0;34m[\u001b[0m\u001b[0;36m1\u001b[0m\u001b[0;34m]\u001b[0m\u001b[0;34m\u001b[0m\u001b[0;34m\u001b[0m\u001b[0m\n\u001b[0m",
      "\u001b[0;31mTypeError\u001b[0m: 'set' object is not subscriptable"
     ]
    }
   ],
   "source": [
    "# Trying to index a set\n",
    "my_set[1]"
   ]
  },
  {
   "cell_type": "markdown",
   "metadata": {},
   "source": [
    "After running the code above, we obtain a `TypeError`"
   ]
  },
  {
   "cell_type": "markdown",
   "metadata": {},
   "source": [
    "### Sets functions and methods"
   ]
  },
  {
   "cell_type": "markdown",
   "metadata": {},
   "source": [
    "We can retrieve the number of elements in a set using the `len` method, just like in a list"
   ]
  },
  {
   "cell_type": "code",
   "execution_count": 22,
   "metadata": {},
   "outputs": [
    {
     "data": {
      "text/plain": [
       "6"
      ]
     },
     "execution_count": 22,
     "metadata": {},
     "output_type": "execute_result"
    }
   ],
   "source": [
    "my_set = {1, 5, 3, 6, 7, 5, 4, 5, 5, 5, 6}\n",
    "len(my_set)"
   ]
  },
  {
   "cell_type": "markdown",
   "metadata": {},
   "source": [
    "And retrieve the minimum and maximum value in the set using the `min` and the `max` functions"
   ]
  },
  {
   "cell_type": "code",
   "execution_count": 23,
   "metadata": {},
   "outputs": [
    {
     "data": {
      "text/plain": [
       "1"
      ]
     },
     "execution_count": 23,
     "metadata": {},
     "output_type": "execute_result"
    }
   ],
   "source": [
    "min(my_set)"
   ]
  },
  {
   "cell_type": "markdown",
   "metadata": {},
   "source": [
    "#### <font size=+2>`.add()`</font>"
   ]
  },
  {
   "cell_type": "markdown",
   "metadata": {},
   "source": [
    "`add` (as the name suggests) adds an item to the set. As mentioned, sets are unordered, so it doesn't matter where we add it"
   ]
  },
  {
   "cell_type": "code",
   "execution_count": 24,
   "metadata": {},
   "outputs": [
    {
     "name": "stdout",
     "output_type": "stream",
     "text": [
      "set()\n",
      "{1}\n",
      "{1, 2}\n",
      "{1, 2}\n"
     ]
    }
   ],
   "source": [
    "set_x = set()\n",
    "\n",
    "print(set_x)\n",
    "\n",
    "set_x.add(1)\n",
    "\n",
    "print(set_x)\n",
    "\n",
    "set_x.add(2)\n",
    "\n",
    "print(set_x)\n",
    "\n",
    "# if we add 2 again, we see the set does not change, as items in a set are unique\n",
    "\n",
    "set_x.add(2)\n",
    "\n",
    "print(set_x)"
   ]
  },
  {
   "cell_type": "markdown",
   "metadata": {},
   "source": [
    "#### <font size=+1>Mathematical Operations on Sets</font>"
   ]
  },
  {
   "cell_type": "markdown",
   "metadata": {},
   "source": [
    "Sets in Python share the same principles as sets in maths, so you can use the same operations. \n",
    "\n",
    "The most common ones are `Union`, `Intersection`, `Difference`, and `Symmetric Difference`"
   ]
  },
  {
   "cell_type": "markdown",
   "metadata": {},
   "source": [
    "<p align=center><img src=images/sets.png width=400></p>"
   ]
  },
  {
   "cell_type": "markdown",
   "metadata": {},
   "source": [
    "#### <font size=+2>`.union()`</font>"
   ]
  },
  {
   "cell_type": "markdown",
   "metadata": {},
   "source": [
    "`union` essentially takes one set and it will add all its elements to another set"
   ]
  },
  {
   "cell_type": "code",
   "execution_count": 27,
   "metadata": {},
   "outputs": [
    {
     "name": "stdout",
     "output_type": "stream",
     "text": [
      "{'Platypus', 'Koala', 'Dog', 'Cat'}\n",
      "{'Crocodile', 'Koala', 'Hyena', 'Cat'}\n",
      "{'Platypus', 'Crocodile', 'Dog', 'Koala', 'Hyena', 'Cat'}\n"
     ]
    }
   ],
   "source": [
    "set_1 = {'Dog', 'Cat', 'Platypus', 'Koala'}\n",
    "set_2 = {'Crocodile', 'Hyena', 'Koala', 'Cat'}\n",
    "print(set_1)\n",
    "print(set_2)\n",
    "union_set = set_1.union(set_2)\n",
    "print(union_set)"
   ]
  },
  {
   "cell_type": "markdown",
   "metadata": {},
   "source": [
    "Once again, the obtained set doesn't contain repeated values"
   ]
  },
  {
   "cell_type": "markdown",
   "metadata": {},
   "source": [
    "#### <font size=+2>`.intersection()`</font>"
   ]
  },
  {
   "cell_type": "markdown",
   "metadata": {},
   "source": [
    "`intersection` returns a set containing the items common in both sets"
   ]
  },
  {
   "cell_type": "code",
   "execution_count": 28,
   "metadata": {},
   "outputs": [
    {
     "name": "stdout",
     "output_type": "stream",
     "text": [
      "{'Koala', 'Cat'}\n"
     ]
    }
   ],
   "source": [
    "inter_set = set_1.intersection(set_2)\n",
    "print(inter_set)"
   ]
  },
  {
   "cell_type": "markdown",
   "metadata": {},
   "source": [
    "#### <font size=+2>`.difference()`</font>"
   ]
  },
  {
   "cell_type": "markdown",
   "metadata": {},
   "source": [
    "`difference` returns a set with the items that are in `set_1` but not in `set_2`"
   ]
  },
  {
   "cell_type": "code",
   "execution_count": null,
   "metadata": {},
   "outputs": [],
   "source": [
    "# a.difference(b) returns the items in a that are NOT in b\n",
    "differ_set = set_1.difference(set_2)\n",
    "print(differ_set)"
   ]
  },
  {
   "cell_type": "markdown",
   "metadata": {},
   "source": [
    "#### <font size=+2>`.symmetric_difference()`</font>"
   ]
  },
  {
   "cell_type": "markdown",
   "metadata": {},
   "source": [
    "`symmetric_difference` returns a set with the items that are in `set_1` and `set_2`, but without the items that are in BOTH"
   ]
  },
  {
   "cell_type": "code",
   "execution_count": 31,
   "metadata": {},
   "outputs": [
    {
     "name": "stdout",
     "output_type": "stream",
     "text": [
      "{'Crocodile', 'Platypus', 'Dog', 'Hyena'}\n"
     ]
    }
   ],
   "source": [
    "differ_set = set_1.symmetric_difference(set_2)\n",
    "print(differ_set)"
   ]
  },
  {
   "cell_type": "markdown",
   "metadata": {},
   "source": [
    "## Summary\n",
    "We now understand:\n",
    "- The nature of lists, and sets.\n",
    "- The basic concept of mutability.\n",
    "<br><br>\n",
    "\n",
    "We now know:\n",
    "- How to index and slice lists.\n",
    "- List functions and methods including len(), .append(), .extend() etc.\n",
    "- How to use a set to find the unique values in a list.\n",
    "\n",
    "<br>\n",
    "\n",
    "Please use this notebook as a reference, and refer to the links below for more information.\n",
    "\n",
    "## Further reading\n",
    "- List methods: https://docs.python.org/3/tutorial/datastructures.html\n",
    "- Sets: https://docs.python.org/3/library/stdtypes.html#set"
   ]
  }
 ],
 "metadata": {
  "interpreter": {
   "hash": "3d597f4c481aa0f25dceb95d2a0067e73c0966dcbd003d741d821a7208527ecf"
  },
  "kernelspec": {
   "display_name": "Python 3.9.1 64-bit ('base': conda)",
   "name": "python3"
  },
  "language_info": {
   "codemirror_mode": {
    "name": "ipython",
    "version": 3
   },
   "file_extension": ".py",
   "mimetype": "text/x-python",
   "name": "python",
   "nbconvert_exporter": "python",
   "pygments_lexer": "ipython3",
   "version": "3.8.11"
  }
 },
 "nbformat": 4,
 "nbformat_minor": 4
}
