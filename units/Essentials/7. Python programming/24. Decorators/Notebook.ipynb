{
 "cells": [
  {
   "cell_type": "markdown",
   "metadata": {},
   "source": [
    "# Decorators\n"
   ]
  },
  {
   "cell_type": "markdown",
   "metadata": {},
   "source": [
    "## Lesson Materials\n",
    "For this lesson, we will use a folder name `utils`. If you are in Colab and currently do not have this folder, run the following code to download the folder with the examples. Remember that you can access `.py` files in Colab and modify them."
   ]
  },
  {
   "cell_type": "code",
   "execution_count": null,
   "metadata": {},
   "outputs": [],
   "source": [
    "!wget \"https://aicore-files.s3.amazonaws.com/Foundations/Python_Programming/advanced_py.zip\"\n",
    "import zipfile\n",
    "with zipfile.ZipFile(\"advanced_py.zip\", 'r') as zip_ref:\n",
    "    zip_ref.extractall(\"utils\")"
   ]
  },
  {
   "cell_type": "markdown",
   "metadata": {},
   "source": [
    "## Introduction\n",
    "To understand decorators, a basic understanding of inner functions is required."
   ]
  },
  {
   "cell_type": "code",
   "execution_count": 1,
   "metadata": {},
   "outputs": [
    {
     "name": "stdout",
     "output_type": "stream",
     "text": [
      "<function caller.<locals>.first_child at 0x00000245E006ACB0>\n"
     ]
    }
   ],
   "source": [
    "def caller(num):\n",
    "\n",
    "    def first_child():\n",
    "        print('I am being called')\n",
    "        return \"I am the first child\"\n",
    "\n",
    "    def second_child():\n",
    "        return \"I am the second child\"\n",
    "\n",
    "    if num == 1:\n",
    "        return first_child\n",
    "    else:\n",
    "        return second_child\n",
    "\n",
    "\n",
    "print(caller(1))"
   ]
  },
  {
   "cell_type": "markdown",
   "metadata": {},
   "source": [
    "Observe the output of the above code. It returns a function rather than a string or a number. The flow of the code can be explained as follows:\n",
    "\n",
    "1. The caller function is called with 1 passed as the argument.\n",
    "2. Thereafter, within the function, two functions are defined: first_child and second_child. However, they are not called; thus, they are not executed.\n",
    "3. The execution of the caller function proceeds, and the if statement is triggered, which determines if the argument is 1.\n",
    "4. Finally, only the function is returned, not the result of the function."
   ]
  },
  {
   "cell_type": "markdown",
   "metadata": {},
   "source": [
    "> <font size=+1>Decorators extend the functionality of a function.</font>"
   ]
  },
  {
   "cell_type": "markdown",
   "metadata": {},
   "source": [
    "Consider the code below. First, a function with a nested function is defined. Note that the name of the outer function is decided by the programmer. However, as a standard, the inner function is called `wrapper`.\n",
    "\n",
    "In this case, a function is defined that accepts another function as an argument. The inner function is defined but not called, following which the inner function is returned."
   ]
  },
  {
   "cell_type": "code",
   "execution_count": 2,
   "metadata": {},
   "outputs": [],
   "source": [
    "def my_decorator(func):\n",
    "    def wrapper():\n",
    "        print(\"I come before the function!\")\n",
    "        func()\n",
    "        print(\"I come after the function!\")\n",
    "    return wrapper\n",
    "\n",
    "def say_truth():\n",
    "    print(f'Epstein didn\\'t kill himself')"
   ]
  },
  {
   "cell_type": "markdown",
   "metadata": {},
   "source": [
    "Thus, if the outer function is called, the inner function is returned, but not its result."
   ]
  },
  {
   "cell_type": "code",
   "execution_count": 3,
   "metadata": {},
   "outputs": [
    {
     "data": {
      "text/plain": [
       "<function __main__.my_decorator.<locals>.wrapper()>"
      ]
     },
     "execution_count": 3,
     "metadata": {},
     "output_type": "execute_result"
    }
   ],
   "source": [
    "my_decorator(say_truth)"
   ]
  },
  {
   "cell_type": "markdown",
   "metadata": {},
   "source": [
    "The result, `<function __main__.my_decorator.<locals>.wrapper()>`, reveals that the output of the outer function is the inner function.\n",
    "\n",
    "To improve clarity, let us assign that function to a variable and subsequently call it."
   ]
  },
  {
   "cell_type": "code",
   "execution_count": 4,
   "metadata": {},
   "outputs": [
    {
     "name": "stdout",
     "output_type": "stream",
     "text": [
      "I come before the function!\n",
      "Epstein didn't kill himself\n",
      "I come after the function!\n"
     ]
    }
   ],
   "source": [
    "my_func = my_decorator(say_truth)\n",
    "my_func()"
   ]
  },
  {
   "cell_type": "markdown",
   "metadata": {},
   "source": [
    "The output of the inner function is printed above. Basically, `my_func` contains the information about `wrapper` and `say_truth`; therefore, once called, the interaction between `wrapper` and `say_truth` becomes clear."
   ]
  },
  {
   "cell_type": "markdown",
   "metadata": {},
   "source": [
    "Consider the below example, where the same decorator is applied with another function."
   ]
  },
  {
   "cell_type": "code",
   "execution_count": 5,
   "metadata": {},
   "outputs": [],
   "source": [
    "def wave():\n",
    "    print('Hello, world!')"
   ]
  },
  {
   "cell_type": "code",
   "execution_count": 6,
   "metadata": {},
   "outputs": [
    {
     "name": "stdout",
     "output_type": "stream",
     "text": [
      "I come before the function!\n",
      "Hello, world!\n",
      "I come after the function!\n"
     ]
    }
   ],
   "source": [
    "my_wave_func = my_decorator(wave)\n",
    "my_wave_func()"
   ]
  },
  {
   "cell_type": "markdown",
   "metadata": {},
   "source": [
    "Observe that `my_wave_func` contains information about `wrapper` and `wave`, indicating that we can obtain information on the interaction between `wrapper` and `wave`."
   ]
  },
  {
   "cell_type": "markdown",
   "metadata": {},
   "source": [
    "## Decorators with Arguments"
   ]
  },
  {
   "cell_type": "markdown",
   "metadata": {},
   "source": [
    "\n",
    "Thus far, we have discussed decorators that accept no arguments. However, what happens when an argument is passed? Consider the example below, where a function with an argument is passed to the current decorator."
   ]
  },
  {
   "cell_type": "code",
   "execution_count": 7,
   "metadata": {},
   "outputs": [],
   "source": [
    "def say_hello(name):\n",
    "    print(f'Hello, {name}!')"
   ]
  },
  {
   "cell_type": "code",
   "execution_count": 8,
   "metadata": {},
   "outputs": [],
   "source": [
    "my_hello_func = my_decorator(say_hello)"
   ]
  },
  {
   "cell_type": "markdown",
   "metadata": {},
   "source": [
    "Thus far, there are no errors. In the next step, we call the function."
   ]
  },
  {
   "cell_type": "code",
   "execution_count": 9,
   "metadata": {},
   "outputs": [
    {
     "name": "stdout",
     "output_type": "stream",
     "text": [
      "I come before the function!\n"
     ]
    },
    {
     "ename": "TypeError",
     "evalue": "say_hello() missing 1 required positional argument: 'name'",
     "output_type": "error",
     "traceback": [
      "\u001b[1;31m---------------------------------------------------------------------------\u001b[0m",
      "\u001b[1;31mTypeError\u001b[0m                                 Traceback (most recent call last)",
      "\u001b[1;32mc:\\Users\\admin\\Desktop\\ai-core\\Essentials\\2. Python programming\\11. Advanced Python\\2. Decorators\\Notebook.ipynb Cell 25'\u001b[0m in \u001b[0;36m<module>\u001b[1;34m\u001b[0m\n\u001b[1;32m----> <a href='vscode-notebook-cell:/c%3A/Users/admin/Desktop/ai-core/Essentials/2.%20Python%20programming/11.%20Advanced%20Python/2.%20Decorators/Notebook.ipynb#ch0000026?line=0'>1</a>\u001b[0m my_hello_func()\n",
      "\u001b[1;32mc:\\Users\\admin\\Desktop\\ai-core\\Essentials\\2. Python programming\\11. Advanced Python\\2. Decorators\\Notebook.ipynb Cell 10'\u001b[0m in \u001b[0;36mmy_decorator.<locals>.wrapper\u001b[1;34m()\u001b[0m\n\u001b[0;32m      <a href='vscode-notebook-cell:/c%3A/Users/admin/Desktop/ai-core/Essentials/2.%20Python%20programming/11.%20Advanced%20Python/2.%20Decorators/Notebook.ipynb#ch0000011?line=1'>2</a>\u001b[0m \u001b[39mdef\u001b[39;00m \u001b[39mwrapper\u001b[39m():\n\u001b[0;32m      <a href='vscode-notebook-cell:/c%3A/Users/admin/Desktop/ai-core/Essentials/2.%20Python%20programming/11.%20Advanced%20Python/2.%20Decorators/Notebook.ipynb#ch0000011?line=2'>3</a>\u001b[0m     \u001b[39mprint\u001b[39m(\u001b[39m\"\u001b[39m\u001b[39mI come before the function!\u001b[39m\u001b[39m\"\u001b[39m)\n\u001b[1;32m----> <a href='vscode-notebook-cell:/c%3A/Users/admin/Desktop/ai-core/Essentials/2.%20Python%20programming/11.%20Advanced%20Python/2.%20Decorators/Notebook.ipynb#ch0000011?line=3'>4</a>\u001b[0m     func()\n\u001b[0;32m      <a href='vscode-notebook-cell:/c%3A/Users/admin/Desktop/ai-core/Essentials/2.%20Python%20programming/11.%20Advanced%20Python/2.%20Decorators/Notebook.ipynb#ch0000011?line=4'>5</a>\u001b[0m     \u001b[39mprint\u001b[39m(\u001b[39m\"\u001b[39m\u001b[39mI come after the function!\u001b[39m\u001b[39m\"\u001b[39m)\n",
      "\u001b[1;31mTypeError\u001b[0m: say_hello() missing 1 required positional argument: 'name'"
     ]
    }
   ],
   "source": [
    "my_hello_func()"
   ]
  },
  {
   "cell_type": "markdown",
   "metadata": {},
   "source": [
    "As shown above, '`I come before the function`' is printed, followed by a type error. Recall that `func()` is the function passed to the decorator (in this case, `say_hello`) which, in turn, expects an argument. In other words, it appears as though the following code is present in `my_decorator`:\n",
    "\n",
    "``` python\n",
    "    def wrapper():\n",
    "        print(\"I come before the function!\")\n",
    "        say_hello()\n",
    "        print(\"I come after the function!\")\n",
    "```\n",
    "\n",
    "However, `say_hello` requires an argument, hence the error thrown."
   ]
  },
  {
   "cell_type": "markdown",
   "metadata": {},
   "source": [
    "Thus, the solution is to format the decorator to expect an argument from the caller, as follows:"
   ]
  },
  {
   "cell_type": "code",
   "execution_count": 10,
   "metadata": {},
   "outputs": [],
   "source": [
    "def my_decorator(func):\n",
    "    def wrapper():\n",
    "        print(\"I come before the function!\")\n",
    "        func(name)\n",
    "        print(\"I come after the function!\")\n",
    "    return wrapper\n",
    "\n",
    "my_hello_func = my_decorator(say_hello)"
   ]
  },
  {
   "cell_type": "markdown",
   "metadata": {},
   "source": [
    "Observe what happens when the code is run:"
   ]
  },
  {
   "cell_type": "code",
   "execution_count": 11,
   "metadata": {},
   "outputs": [
    {
     "name": "stdout",
     "output_type": "stream",
     "text": [
      "I come before the function!\n"
     ]
    },
    {
     "ename": "NameError",
     "evalue": "name 'name' is not defined",
     "output_type": "error",
     "traceback": [
      "\u001b[1;31m---------------------------------------------------------------------------\u001b[0m",
      "\u001b[1;31mNameError\u001b[0m                                 Traceback (most recent call last)",
      "\u001b[1;32mc:\\Users\\admin\\Desktop\\ai-core\\Essentials\\2. Python programming\\11. Advanced Python\\2. Decorators\\Notebook.ipynb Cell 30'\u001b[0m in \u001b[0;36m<module>\u001b[1;34m\u001b[0m\n\u001b[1;32m----> <a href='vscode-notebook-cell:/c%3A/Users/admin/Desktop/ai-core/Essentials/2.%20Python%20programming/11.%20Advanced%20Python/2.%20Decorators/Notebook.ipynb#ch0000031?line=0'>1</a>\u001b[0m my_hello_func()\n",
      "\u001b[1;32mc:\\Users\\admin\\Desktop\\ai-core\\Essentials\\2. Python programming\\11. Advanced Python\\2. Decorators\\Notebook.ipynb Cell 28'\u001b[0m in \u001b[0;36mmy_decorator.<locals>.wrapper\u001b[1;34m()\u001b[0m\n\u001b[0;32m      <a href='vscode-notebook-cell:/c%3A/Users/admin/Desktop/ai-core/Essentials/2.%20Python%20programming/11.%20Advanced%20Python/2.%20Decorators/Notebook.ipynb#ch0000029?line=1'>2</a>\u001b[0m \u001b[39mdef\u001b[39;00m \u001b[39mwrapper\u001b[39m():\n\u001b[0;32m      <a href='vscode-notebook-cell:/c%3A/Users/admin/Desktop/ai-core/Essentials/2.%20Python%20programming/11.%20Advanced%20Python/2.%20Decorators/Notebook.ipynb#ch0000029?line=2'>3</a>\u001b[0m     \u001b[39mprint\u001b[39m(\u001b[39m\"\u001b[39m\u001b[39mI come before the function!\u001b[39m\u001b[39m\"\u001b[39m)\n\u001b[1;32m----> <a href='vscode-notebook-cell:/c%3A/Users/admin/Desktop/ai-core/Essentials/2.%20Python%20programming/11.%20Advanced%20Python/2.%20Decorators/Notebook.ipynb#ch0000029?line=3'>4</a>\u001b[0m     func(name)\n\u001b[0;32m      <a href='vscode-notebook-cell:/c%3A/Users/admin/Desktop/ai-core/Essentials/2.%20Python%20programming/11.%20Advanced%20Python/2.%20Decorators/Notebook.ipynb#ch0000029?line=4'>5</a>\u001b[0m     \u001b[39mprint\u001b[39m(\u001b[39m\"\u001b[39m\u001b[39mI come after the function!\u001b[39m\u001b[39m\"\u001b[39m)\n",
      "\u001b[1;31mNameError\u001b[0m: name 'name' is not defined"
     ]
    }
   ],
   "source": [
    "my_hello_func()"
   ]
  },
  {
   "cell_type": "markdown",
   "metadata": {},
   "source": [
    "Python throws a NameError. Notice that the function is in the local scope, where the variable, `name`, has not been defined. Thus, the `name` variable must be passed to wrapper."
   ]
  },
  {
   "cell_type": "code",
   "execution_count": 12,
   "metadata": {},
   "outputs": [],
   "source": [
    "def my_decorator(func):\n",
    "    def wrapper(name):\n",
    "        print(\"I come before the function!\")\n",
    "        func(name)\n",
    "        print(\"I come after the function!\")\n",
    "    return wrapper\n",
    "\n",
    "my_hello_func = my_decorator(say_hello)"
   ]
  },
  {
   "cell_type": "code",
   "execution_count": 13,
   "metadata": {},
   "outputs": [
    {
     "name": "stdout",
     "output_type": "stream",
     "text": [
      "I come before the function!\n",
      "Hello, Ivan!\n",
      "I come after the function!\n"
     ]
    }
   ],
   "source": [
    "my_hello_func('Ivan')"
   ]
  },
  {
   "cell_type": "markdown",
   "metadata": {},
   "source": [
    "After passing the name variable, the code works properly. Observe that in the last call, `Ivan` is passed as an argument. This is because `my_hello_func` is the `wrapper` with information on `say_hello`, and `wrapper` requires an argument."
   ]
  },
  {
   "cell_type": "markdown",
   "metadata": {},
   "source": [
    "Decorators enable us to pass arguments to the function. For example, a name can be passed to the function and subsequently employed to greet the user. As a better example, we can measure the time it takes for a function to execute, as shown below."
   ]
  },
  {
   "cell_type": "code",
   "execution_count": 14,
   "metadata": {},
   "outputs": [
    {
     "name": "stdout",
     "output_type": "stream",
     "text": [
      "<function my_timer.<locals>.wrapper at 0x00000245E1C1C5E0>\n"
     ]
    }
   ],
   "source": [
    "import time\n",
    "\n",
    "def my_timer(func):\n",
    "    def wrapper():\n",
    "        time_0 = time.time()\n",
    "        func()\n",
    "        time_1 = time.time()\n",
    "        print(f'It took {time_1 - time_0} second to run')\n",
    "    return wrapper\n",
    "\n",
    "\n",
    "def dummy_fun():\n",
    "    for _ in range(50000000):\n",
    "        x = 'I am just losing your time'\n",
    "    return x\n",
    "\n",
    "time_exec = my_timer(dummy_fun)\n",
    "print(time_exec)"
   ]
  },
  {
   "cell_type": "markdown",
   "metadata": {},
   "source": [
    "Observe what happens when the function is called:"
   ]
  },
  {
   "cell_type": "code",
   "execution_count": 15,
   "metadata": {},
   "outputs": [
    {
     "name": "stdout",
     "output_type": "stream",
     "text": [
      "It took 3.9159905910491943 second to run\n"
     ]
    }
   ],
   "source": [
    "time_exec()"
   ]
  },
  {
   "cell_type": "markdown",
   "metadata": {},
   "source": [
    "As 'syntactic sugar', it is possible to decorate a function by adding `@` when defining the function."
   ]
  },
  {
   "cell_type": "code",
   "execution_count": 16,
   "metadata": {},
   "outputs": [
    {
     "name": "stdout",
     "output_type": "stream",
     "text": [
      "It took 3.310981512069702 second to run\n"
     ]
    }
   ],
   "source": [
    "@my_timer\n",
    "def dummy_fun():\n",
    "    for _ in range(50000000):\n",
    "        x = 'I am just losing your time'\n",
    "\n",
    "dummy_fun()"
   ]
  },
  {
   "cell_type": "markdown",
   "metadata": {},
   "source": [
    "## Multiple Arguments in a Decorator"
   ]
  },
  {
   "cell_type": "markdown",
   "metadata": {},
   "source": [
    "We have established that the functionality of a function can be extended using decorators. Since we have no control over the functions to be wrapped by the decorator, we can employ *args **kwargs to ensure that it applies to functions with multiple arguments."
   ]
  },
  {
   "cell_type": "code",
   "execution_count": 17,
   "metadata": {},
   "outputs": [
    {
     "name": "stdout",
     "output_type": "stream",
     "text": [
      "Hello Ivan\n",
      "Hello Ivan\n"
     ]
    }
   ],
   "source": [
    "def repeat(func):\n",
    "    def wrapper(*args, **kwargs):\n",
    "        func(*args, **kwargs)\n",
    "        func(*args, **kwargs)\n",
    "    return wrapper\n",
    "\n",
    "def say_hi(name):\n",
    "    print(f'Hello {name}')\n",
    "    return 1\n",
    "\n",
    "repeat(say_hi)('Ivan')"
   ]
  },
  {
   "cell_type": "markdown",
   "metadata": {},
   "source": [
    "## `Return` Statement in the Wrapper\n",
    "\n",
    "Here, we discuss how to return information from a decorated function.\n",
    "\n",
    "We define a small function: factorial, which returns the factorial of a number (the factorial of a number is the product of all the numbers from 1 to that number)."
   ]
  },
  {
   "cell_type": "code",
   "execution_count": 18,
   "metadata": {},
   "outputs": [
    {
     "name": "stdout",
     "output_type": "stream",
     "text": [
      "120\n"
     ]
    }
   ],
   "source": [
    "def factorial(n):\n",
    "    previous = 1\n",
    "    for i in range(1, n + 1):\n",
    "        previous *= i \n",
    "    return previous\n",
    "\n",
    "print(factorial(5))"
   ]
  },
  {
   "cell_type": "markdown",
   "metadata": {},
   "source": [
    "Now, we define a timer decorator. However, in this case, the decorated function can accept any argument. To account for this, we employ `*args` and `**kwargs`."
   ]
  },
  {
   "cell_type": "code",
   "execution_count": 19,
   "metadata": {},
   "outputs": [
    {
     "name": "stdout",
     "output_type": "stream",
     "text": [
      "It took 0.0 second to run\n",
      "None\n"
     ]
    }
   ],
   "source": [
    "def my_timer(fun):\n",
    "    def wrapper(*args, **kwargs):\n",
    "        time_0 = time.time()\n",
    "        fun(*args, **kwargs)\n",
    "        time_1 = time.time()\n",
    "        print(f'It took {time_1 - time_0} second to run')\n",
    "    return wrapper\n",
    "\n",
    "\n",
    "@my_timer\n",
    "def factorial(n):\n",
    "    previous = 1\n",
    "    for i in range(1, n + 1):\n",
    "        previous *= i\n",
    "    return previous\n",
    "\n",
    "print(factorial(5))"
   ]
  },
  {
   "cell_type": "markdown",
   "metadata": {},
   "source": [
    "Although the message detailing the execution duration was successfully printed, the value of the factorial was not printed. That is because wrapper does not return anything, hence the 'None' output. As a solution, we simply introduce a `return` statement. "
   ]
  },
  {
   "cell_type": "code",
   "execution_count": 20,
   "metadata": {},
   "outputs": [
    {
     "name": "stdout",
     "output_type": "stream",
     "text": [
      "It took 0.0 second to run\n",
      "120\n"
     ]
    }
   ],
   "source": [
    "def my_timer(fun):\n",
    "    def wrapper(*args, **kwargs):\n",
    "        time_0 = time.time()\n",
    "        output = fun(*args, **kwargs)\n",
    "        time_1 = time.time()\n",
    "        print(f'It took {time_1 - time_0} second to run')\n",
    "        return output\n",
    "    return wrapper\n",
    "\n",
    "\n",
    "@my_timer\n",
    "def factorial(n):\n",
    "    previous = 1\n",
    "    for i in range(1, n + 1):\n",
    "        previous *= i\n",
    "    return previous\n",
    "\n",
    "print(factorial(5))"
   ]
  },
  {
   "cell_type": "markdown",
   "metadata": {},
   "source": [
    "## Classmethods and Staticmethods\n",
    "\n",
    "Two often-used decorators are classmethods and staticmethods. They add functionality to methods\n",
    "\n",
    "Classmethods must have a reference to a class object instead of an instance, whereas static methods do not point to an instance or a class. Note that classmethods are bound to the class; thus, they must be called from that class or from an instance of that class."
   ]
  },
  {
   "cell_type": "markdown",
   "metadata": {},
   "source": [
    "Consider the example below, where the classmethod and staticmethod are applied. The class, `Date`, is defined, which is initialised with three parameters: day, month and year. It also has a method, `get_date`, that returns the date in a string format."
   ]
  },
  {
   "cell_type": "code",
   "execution_count": 21,
   "metadata": {},
   "outputs": [
    {
     "name": "stdout",
     "output_type": "stream",
     "text": [
      "The date is 19/5\n"
     ]
    }
   ],
   "source": [
    "class Date:\n",
    "\n",
    "    def __init__(self, day=0, month=0, year=0):\n",
    "        self.day = day\n",
    "        self.month = month\n",
    "        self.year = year\n",
    "    \n",
    "    def get_date(self):\n",
    "        print(f'The date is {self.day}/{self.month}')\n",
    "\n",
    "date = Date(19, 5, 1991)\n",
    "date.get_date()"
   ]
  },
  {
   "cell_type": "markdown",
   "metadata": {},
   "source": [
    "Subsequently, a classmethod is added to `Date`.\n",
    "\n",
    "> <font size=+1>Classmethods are used to create methods that do not depend on the instance but the class.</font>\n",
    "\n",
    "This indicates that a classmethod can be called without an instance of the class. Actually, a classmethod is called before the `__init__` method.\n",
    "\n",
    "As an application, classmethods can be used to create an instance of `Date` that directly provides the current date. This can be achieved by calling a classmethod that returns the current date, and no input is required.\n",
    "\n",
    "The syntax of a classmethod is\n",
    "```\n",
    "@classmethod\n",
    "def method_name(cls, *args, **kwargs):\n",
    "    # do something\n",
    "    return something\n",
    "```"
   ]
  },
  {
   "cell_type": "markdown",
   "metadata": {},
   "source": [
    "Important! Notice that the first argument of the classmethod is the class itself, not an instance of the class. Therefore, '`cls`' is used instead of '`self`'."
   ]
  },
  {
   "cell_type": "code",
   "execution_count": 22,
   "metadata": {},
   "outputs": [],
   "source": [
    "import datetime\n",
    "\n",
    "class Date:\n",
    "    \n",
    "    def __init__(self, day=0, month=0, year=0):\n",
    "        print('__init__ method called!')\n",
    "        self.day = day\n",
    "        self.month = month\n",
    "        self.year = year\n",
    "\n",
    "    def get_date(self):\n",
    "        print(f'The date is {self.day}/{self.month}')\n",
    "\n",
    "    @classmethod\n",
    "    def today(cls):\n",
    "        print('Classmethod called!')\n",
    "        today = datetime.date.today()\n",
    "        day = today.day\n",
    "        month = today.month\n",
    "        year = today.year\n",
    "        print('I am about to call the __init__ method')\n",
    "        return cls(day, month, year)"
   ]
  },
  {
   "cell_type": "markdown",
   "metadata": {},
   "source": [
    "Observe the code above (a few print statements have been added to enhance comprehension). A classmethod that returns the current date has been created. The method initially calculates the current date and subsequently calls the constructor of the class, `Date`, with the arguments we calculated."
   ]
  },
  {
   "cell_type": "markdown",
   "metadata": {},
   "source": [
    "We instansiate a class, `Date`, using its classmethod as follows (observe what is printed and compare the output while following the flow of the code):"
   ]
  },
  {
   "cell_type": "code",
   "execution_count": 23,
   "metadata": {},
   "outputs": [
    {
     "name": "stdout",
     "output_type": "stream",
     "text": [
      "Classmethod called!\n",
      "I am about to call the __init__ method\n",
      "__init__ method called!\n"
     ]
    }
   ],
   "source": [
    "current_date = Date.today()"
   ]
  },
  {
   "cell_type": "code",
   "execution_count": 24,
   "metadata": {},
   "outputs": [
    {
     "name": "stdout",
     "output_type": "stream",
     "text": [
      "The date is 15/5\n"
     ]
    }
   ],
   "source": [
    "current_date.get_date()"
   ]
  },
  {
   "cell_type": "markdown",
   "metadata": {},
   "source": [
    "### Staticmethods"
   ]
  },
  {
   "cell_type": "markdown",
   "metadata": {},
   "source": [
    "> <font size=+1>Staticmethods are methods that are not bound to an instance or a class.</font>"
   ]
  },
  {
   "cell_type": "markdown",
   "metadata": {},
   "source": [
    "Thus, the '`self`' and '`cls`' arguments are not required because any data passed to the staticmethod will not depend on the instance or the class.\n",
    "\n",
    "Similar to classmethods, staticmethods can be defined as follows:\n",
    "```\n",
    "@staticmethod\n",
    "def method_name(*args, **kwargs):\n",
    "    # do something\n",
    "    return something\n",
    "```"
   ]
  },
  {
   "cell_type": "markdown",
   "metadata": {},
   "source": [
    "Here, we define a staticmethod that returns checks if the date is valid. Staticmethods are perfect for this task, since determining if a date is valid does not depend on the instance or the class."
   ]
  },
  {
   "cell_type": "code",
   "execution_count": 25,
   "metadata": {},
   "outputs": [],
   "source": [
    "class Date:\n",
    "\n",
    "    def __init__(self, day=0, month=0, year=0):\n",
    "        self.day = day\n",
    "        self.month = month\n",
    "        self.year = year\n",
    "        \n",
    "    def get_date(self):\n",
    "        print(self.day, self.month)\n",
    "\n",
    "    @classmethod\n",
    "    def today(cls):\n",
    "        today = datetime.date.today()\n",
    "        day = today.day\n",
    "        month = today.month\n",
    "        year = today.year\n",
    "        return cls(day, month, year)\n",
    "  \n",
    "    @staticmethod\n",
    "    def is_date_valid(day, month, year):\n",
    "        return day <= 31 and month <= 12 and year <= 3999"
   ]
  },
  {
   "cell_type": "markdown",
   "metadata": {},
   "source": [
    "Once again, staticmethods do not require the `self` or `cls` argument, indicating that they can be called from an instance or the class."
   ]
  },
  {
   "cell_type": "code",
   "execution_count": 26,
   "metadata": {},
   "outputs": [
    {
     "data": {
      "text/plain": [
       "True"
      ]
     },
     "execution_count": 26,
     "metadata": {},
     "output_type": "execute_result"
    }
   ],
   "source": [
    "Date.is_date_valid(1, 1, 1)"
   ]
  },
  {
   "cell_type": "code",
   "execution_count": 27,
   "metadata": {},
   "outputs": [
    {
     "data": {
      "text/plain": [
       "True"
      ]
     },
     "execution_count": 27,
     "metadata": {},
     "output_type": "execute_result"
    }
   ],
   "source": [
    "date = Date.today()\n",
    "date.is_date_valid(1, 1, 1)"
   ]
  },
  {
   "cell_type": "markdown",
   "metadata": {},
   "source": [
    "As an added benefit, the staticmethod can be used inside the `__init__` method of the class `Date`; thus, when the arguments are passed to the constructor, the staticmethod can be utilised to determine the validity of the date."
   ]
  },
  {
   "cell_type": "code",
   "execution_count": 28,
   "metadata": {},
   "outputs": [],
   "source": [
    "class Date:\n",
    "\n",
    "    def __init__(self, day=0, month=0, year=0):\n",
    "        if self.is_date_valid(day, month, year):\n",
    "            self.day = day\n",
    "            self.month = month\n",
    "            self.year = year\n",
    "        else:\n",
    "            raise ValueError('Invalid date!')\n",
    "        \n",
    "    def get_date(self):\n",
    "        print(self.day, self.month)\n",
    "\n",
    "    @classmethod\n",
    "    def today(cls):\n",
    "        today = datetime.date.today()\n",
    "        day = today.day\n",
    "        month = today.month\n",
    "        year = today.year\n",
    "        return cls(day, month, year)\n",
    "  \n",
    "    @staticmethod\n",
    "    def is_date_valid(day, month, year):\n",
    "        return day <= 31 and month <= 12 and year <= 3999"
   ]
  },
  {
   "cell_type": "markdown",
   "metadata": {},
   "source": [
    "If a valid date is passed, the instance will be created, without any error. Conversely, if an invalid date is passed, Python will throw an error (ValueError)."
   ]
  },
  {
   "cell_type": "code",
   "execution_count": 29,
   "metadata": {},
   "outputs": [],
   "source": [
    "good_date = Date(19, 5, 1991)\n",
    "# No error thrown, and the code works."
   ]
  },
  {
   "cell_type": "code",
   "execution_count": 30,
   "metadata": {},
   "outputs": [
    {
     "ename": "ValueError",
     "evalue": "Invalid date!",
     "output_type": "error",
     "traceback": [
      "\u001b[1;31m---------------------------------------------------------------------------\u001b[0m",
      "\u001b[1;31mValueError\u001b[0m                                Traceback (most recent call last)",
      "\u001b[1;32mc:\\Users\\admin\\Desktop\\ai-core\\Essentials\\2. Python programming\\11. Advanced Python\\2. Decorators\\Notebook.ipynb Cell 73'\u001b[0m in \u001b[0;36m<module>\u001b[1;34m\u001b[0m\n\u001b[1;32m----> <a href='vscode-notebook-cell:/c%3A/Users/admin/Desktop/ai-core/Essentials/2.%20Python%20programming/11.%20Advanced%20Python/2.%20Decorators/Notebook.ipynb#ch0000075?line=0'>1</a>\u001b[0m bad_date \u001b[39m=\u001b[39m Date(\u001b[39m31\u001b[39;49m, \u001b[39m13\u001b[39;49m, \u001b[39m2021\u001b[39;49m)\n",
      "\u001b[1;32mc:\\Users\\admin\\Desktop\\ai-core\\Essentials\\2. Python programming\\11. Advanced Python\\2. Decorators\\Notebook.ipynb Cell 69'\u001b[0m in \u001b[0;36mDate.__init__\u001b[1;34m(self, day, month, year)\u001b[0m\n\u001b[0;32m      <a href='vscode-notebook-cell:/c%3A/Users/admin/Desktop/ai-core/Essentials/2.%20Python%20programming/11.%20Advanced%20Python/2.%20Decorators/Notebook.ipynb#ch0000071?line=6'>7</a>\u001b[0m     \u001b[39mself\u001b[39m\u001b[39m.\u001b[39myear \u001b[39m=\u001b[39m year\n\u001b[0;32m      <a href='vscode-notebook-cell:/c%3A/Users/admin/Desktop/ai-core/Essentials/2.%20Python%20programming/11.%20Advanced%20Python/2.%20Decorators/Notebook.ipynb#ch0000071?line=7'>8</a>\u001b[0m \u001b[39melse\u001b[39;00m:\n\u001b[1;32m----> <a href='vscode-notebook-cell:/c%3A/Users/admin/Desktop/ai-core/Essentials/2.%20Python%20programming/11.%20Advanced%20Python/2.%20Decorators/Notebook.ipynb#ch0000071?line=8'>9</a>\u001b[0m     \u001b[39mraise\u001b[39;00m \u001b[39mValueError\u001b[39;00m(\u001b[39m'\u001b[39m\u001b[39mInvalid date!\u001b[39m\u001b[39m'\u001b[39m)\n",
      "\u001b[1;31mValueError\u001b[0m: Invalid date!"
     ]
    }
   ],
   "source": [
    "bad_date = Date(31, 13, 2021)"
   ]
  },
  {
   "cell_type": "markdown",
   "metadata": {},
   "source": [
    "## Conclusion\n",
    "In this lesson, we reviewed decorators on the surface level. To improve your knowledge and understanding of decorators, engage in practicals and participate in as many challenges as possible. For examples, see [here](https://github.com/IvanYingX/Challenges_AiCore.git)"
   ]
  }
 ],
 "metadata": {
  "interpreter": {
   "hash": "beedbe2faf2f7048d727558d0bc3221e7eba2a0b921cac4d4771b2feb8f74b30"
  },
  "kernelspec": {
   "display_name": "Python 3.10.2 64-bit",
   "language": "python",
   "name": "python3"
  },
  "language_info": {
   "codemirror_mode": {
    "name": "ipython",
    "version": 3
   },
   "file_extension": ".py",
   "mimetype": "text/x-python",
   "name": "python",
   "nbconvert_exporter": "python",
   "pygments_lexer": "ipython3",
   "version": "3.10.2"
  },
  "orig_nbformat": 4
 },
 "nbformat": 4,
 "nbformat_minor": 2
}
