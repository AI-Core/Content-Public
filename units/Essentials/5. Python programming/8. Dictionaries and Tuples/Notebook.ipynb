{
 "cells": [
  {
   "cell_type": "markdown",
   "metadata": {},
   "source": [
    "# 3. Dictionaries Tuples and Operators"
   ]
  },
  {
   "cell_type": "markdown",
   "metadata": {},
   "source": [
    "- Understand the nature of a dictionary.\n",
    "- Know how to index a dictionary.\n",
    "- Know some functions and methods associated with a dictionary.\n",
    "<br><br>\n",
    "- Understand the nature of a tuple and the basic idea of mutability.\n",
    "- Understand tuple assignment and tuple unpacking.\n",
    "- Know how perform tuple indexing/slicing.\n",
    "- Know some tuple methods.\n",
    "<br> <br>\n",
    "- Understand the basics of the Boolean data type (bool).\n",
    "- Know how to use comparison operators.\n",
    "- Know how to use boolean operators."
   ]
  },
  {
   "cell_type": "markdown",
   "metadata": {},
   "source": [
    "## Introduction"
   ]
  },
  {
   "cell_type": "markdown",
   "metadata": {},
   "source": [
    "- Dictionaries are __ordered__ collections of key:value pairs. (They became ordered from Python 3.6).\n",
    "- Keys can be of any __immutable__ data type; however, the best practice is to use strings.\n",
    "- Values can be of any data type, including dictionaries themselves (i.e. nesting).\n",
    "- Dictionaries are indexed using keys."
   ]
  },
  {
   "cell_type": "markdown",
   "metadata": {},
   "source": [
    "## Creation of Dictionaries"
   ]
  },
  {
   "cell_type": "markdown",
   "metadata": {},
   "source": [
    "Dictionaries are created using __curly brackets__; however, as opposed to the case with sets, a __key__ and a __value__ must be defined for every item."
   ]
  },
  {
   "cell_type": "code",
   "execution_count": 2,
   "metadata": {},
   "outputs": [
    {
     "name": "stdout",
     "output_type": "stream",
     "text": [
      "{'key': 1, 'key_2': 2}\n"
     ]
    }
   ],
   "source": [
    "my_dict = {'key': 1, 'key_2': 2}\n",
    "print(my_dict)"
   ]
  },
  {
   "cell_type": "markdown",
   "metadata": {},
   "source": [
    "Keys must be immutable (e.g. tuples, which we will go through later, or strings).\n",
    "\n",
    "Conversely, values can be of any data type, even another dictionary."
   ]
  },
  {
   "cell_type": "code",
   "execution_count": null,
   "metadata": {},
   "outputs": [],
   "source": [
    "# flexibility of data assignment, including lists and sub-dictionaries\n",
    "d = {'k1': 50, 'k2': 123, 'k3': [0,1,2], 'k4': {'insidekey': [100, 200]}}\n",
    "\n",
    "print(d)"
   ]
  },
  {
   "cell_type": "markdown",
   "metadata": {},
   "source": [
    "## Accessing the Data in a Dictionary"
   ]
  },
  {
   "cell_type": "markdown",
   "metadata": {},
   "source": [
    "In Python, when working with data, it is conventional to retrieve a certain value using the corresponding index.\n",
    "\n",
    "Dictionaries employ a similar approach; however, instead of a numerical index, a key is used."
   ]
  },
  {
   "cell_type": "markdown",
   "metadata": {},
   "source": [
    "For example, in my_dict (see the code below), the value corresponding to `key_2` can be accessed as follows:"
   ]
  },
  {
   "cell_type": "code",
   "execution_count": null,
   "metadata": {},
   "outputs": [],
   "source": [
    "my_dict = {'key': 1, 'key_2': 2}\n",
    "print(my_dict['key_2'])"
   ]
  },
  {
   "cell_type": "markdown",
   "metadata": {},
   "source": [
    "The same applies to nested dictionaries. To access a value in a nested dictionary, the key corresponding to the nested dictionary, along with the key of the desired value in the nested dictionary, is required."
   ]
  },
  {
   "cell_type": "code",
   "execution_count": 4,
   "metadata": {},
   "outputs": [
    {
     "name": "stdout",
     "output_type": "stream",
     "text": [
      "{'insidekey': [100, 200]}\n",
      "[100, 200]\n",
      "200\n"
     ]
    }
   ],
   "source": [
    "d = {'k1': 50, 'k2': 123, 'k3': [0,1,2], 'k4': {'insidekey': [100, 200]}}\n",
    "print(d['k4']) # This will access the inner dictionary.\n",
    "print(d['k4']['insidekey']) # This will acess the list within the inner dictionary.\n",
    "print(d['k4']['insidekey'][1]) # This will access the second element in the list within the inner dictionary.\n"
   ]
  },
  {
   "cell_type": "markdown",
   "metadata": {},
   "source": [
    "Furthermore, calls can be stacked, implying that a method (or function) can be applied to the data retrieved from indexing a dictionary."
   ]
  },
  {
   "cell_type": "code",
   "execution_count": null,
   "metadata": {},
   "outputs": [],
   "source": [
    "# can stack calls\n",
    "d1 = {'k1':[\"a\", \"b\", \"c\"]}\n",
    "\n",
    "print(d1['k1'][2].upper())"
   ]
  },
  {
   "cell_type": "code",
   "execution_count": null,
   "metadata": {},
   "outputs": [],
   "source": [
    "# Both of these methods give the same result.\n",
    "\n",
    "x = d1['k1'][2]\n",
    "print(x.upper())"
   ]
  },
  {
   "cell_type": "markdown",
   "metadata": {},
   "source": [
    "### `.keys()`, `values()` and `items()`"
   ]
  },
  {
   "cell_type": "markdown",
   "metadata": {},
   "source": [
    "On many occasions, you will need to retrieve the keys, values or a combination of both. The following methods enable you to achieve these:\n",
    "- `.keys()` returns a list of the keys in a dictionary.\n",
    "- `.values()` returns a list of the values in a dictionary.\n",
    "- `.items()` returns both in the form of a list of tuples, where the first item in the tuple is the key, and the second item is the corresponding value."
   ]
  },
  {
   "cell_type": "code",
   "execution_count": null,
   "metadata": {},
   "outputs": [],
   "source": [
    "# To call all keys/values/pairs, use .keys / .values / .items methods; .items returns tuples.\n",
    "print('The keys method returns: ')\n",
    "print(d.keys())\n",
    "print('The values method returns: ')\n",
    "print(d.values())\n",
    "print('The items method returns: ')\n",
    "print(d.items())"
   ]
  },
  {
   "cell_type": "markdown",
   "metadata": {},
   "source": [
    "### The `in` Operator"
   ]
  },
  {
   "cell_type": "markdown",
   "metadata": {},
   "source": [
    "The `in` operator determines if an element is in a collection of items. It returns `True` if present and `False` if absent."
   ]
  },
  {
   "cell_type": "code",
   "execution_count": 5,
   "metadata": {},
   "outputs": [
    {
     "data": {
      "text/plain": [
       "True"
      ]
     },
     "execution_count": 5,
     "metadata": {},
     "output_type": "execute_result"
    }
   ],
   "source": [
    "my_list = ['a', 'b', 'c']\n",
    "'c' in my_list"
   ]
  },
  {
   "cell_type": "code",
   "execution_count": 6,
   "metadata": {},
   "outputs": [
    {
     "data": {
      "text/plain": [
       "False"
      ]
     },
     "execution_count": 6,
     "metadata": {},
     "output_type": "execute_result"
    }
   ],
   "source": [
    "'d' in my_list"
   ]
  },
  {
   "cell_type": "markdown",
   "metadata": {},
   "source": [
    "If applied directly to a dictionary, it will inspect only the keys."
   ]
  },
  {
   "cell_type": "code",
   "execution_count": 8,
   "metadata": {},
   "outputs": [
    {
     "name": "stdout",
     "output_type": "stream",
     "text": [
      "Is \"k2\" in d1? True\n",
      "Is 345 in d1? False\n"
     ]
    }
   ],
   "source": [
    "# use in to check if item in iterable\n",
    "d1 = {\"k1\": 10, \"k2\": [1,2,3], \"k3\": 345}\n",
    "\n",
    "print(f'Is \"k2\" in d1? {\"k2\" in d1}')\n",
    "print(f'Is 345 in d1? {345 in d1}')\n"
   ]
  },
  {
   "cell_type": "markdown",
   "metadata": {},
   "source": [
    "The `.values()` method determines if a value is present in a dictionary."
   ]
  },
  {
   "cell_type": "code",
   "execution_count": 10,
   "metadata": {},
   "outputs": [
    {
     "name": "stdout",
     "output_type": "stream",
     "text": [
      "Is 345 in the values of d1? True\n"
     ]
    }
   ],
   "source": [
    "val = d1.values()\n",
    "\n",
    "print(f'Is 345 in the values of d1? {345 in d1.values()}')"
   ]
  },
  {
   "cell_type": "markdown",
   "metadata": {},
   "source": [
    "## Addition and Modification of Keys"
   ]
  },
  {
   "cell_type": "markdown",
   "metadata": {},
   "source": [
    "New keys can be __added__ to a dictionary by indexing a __non-existing__ key (e.g. `k7`), and assigning a value to it (e.g. `VALUE`)."
   ]
  },
  {
   "cell_type": "code",
   "execution_count": null,
   "metadata": {},
   "outputs": [],
   "source": [
    "print(f'Before adding k7: {d}')\n",
    "d[\"k7\"] = \"VALUE\"\n",
    "print(f'After adding k7: {d}')"
   ]
  },
  {
   "cell_type": "markdown",
   "metadata": {},
   "source": [
    "However, if the key already exists, the original is retained, whereas the original value is replaced by the new value (e.g. `NEW VALUE`)."
   ]
  },
  {
   "cell_type": "code",
   "execution_count": null,
   "metadata": {},
   "outputs": [],
   "source": [
    "# add by assigning new pair, reassign\n",
    "d[\"k7\"] = \"NEW VALUE\"\n",
    "\n",
    "print(d)"
   ]
  },
  {
   "cell_type": "markdown",
   "metadata": {},
   "source": [
    "Keys can also be added using the `.update()` method. For this, a dictionary must be passed to the method as an argument. "
   ]
  },
  {
   "cell_type": "code",
   "execution_count": null,
   "metadata": {},
   "outputs": [],
   "source": [
    "d1 = {\"k1\": 10, \"k2\":[1,2,3], \"k3\":345}\n",
    "d2 = {'k1': 50, 'k5': 42}\n",
    "d1.update(d2)\n",
    "print(d1)"
   ]
  },
  {
   "cell_type": "markdown",
   "metadata": {},
   "source": [
    "Note that if the key already exists, only its corresponding value will be updated."
   ]
  },
  {
   "cell_type": "markdown",
   "metadata": {},
   "source": [
    "## Removal of Elements"
   ]
  },
  {
   "cell_type": "markdown",
   "metadata": {},
   "source": [
    "The `.pop()` method enables the removal of a key from a dictionary.\n",
    "\n",
    "For this, the name of the key to be removed is passed as an argument. If the key does not exist, Python will throw an error."
   ]
  },
  {
   "cell_type": "code",
   "execution_count": null,
   "metadata": {},
   "outputs": [],
   "source": [
    "d1 = {\"k1\": 10, \"k2\": [1, 2, 3], \"k3\": 345}\n",
    "print(d1.pop('k1'))\n",
    "print(d1)"
   ]
  },
  {
   "cell_type": "markdown",
   "metadata": {},
   "source": [
    "## Tuples"
   ]
  },
  {
   "cell_type": "markdown",
   "metadata": {},
   "source": [
    "- Tuples are like lists: flexible data input.\n",
    "- But they are immutable: cannot be changed once created.\n",
    "- Therefore no append/extend/remove/pop methods and no item reassignment for tuples.\n",
    "- Useful for holding values in data that you do not want to be reassigned by accident."
   ]
  },
  {
   "cell_type": "markdown",
   "metadata": {},
   "source": [
    "### Creating a Tuple"
   ]
  },
  {
   "cell_type": "markdown",
   "metadata": {},
   "source": [
    "Tuples are represented by parentheses `()`. You can also create a tuple using the `tuple` function"
   ]
  },
  {
   "cell_type": "code",
   "execution_count": 15,
   "metadata": {},
   "outputs": [
    {
     "name": "stdout",
     "output_type": "stream",
     "text": [
      "(1, 2, 3)\n",
      "(1, 'two', 3)\n"
     ]
    }
   ],
   "source": [
    "# immutable but flexible data input\n",
    "t = (1,2,3)\n",
    "t1 = tuple([1, \"two\", 3])\n",
    "print(t)\n",
    "print(t1)"
   ]
  },
  {
   "cell_type": "markdown",
   "metadata": {},
   "source": [
    "As mentioned, tuples are immutable, so you can't remove items from it"
   ]
  },
  {
   "cell_type": "code",
   "execution_count": 16,
   "metadata": {},
   "outputs": [
    {
     "ename": "AttributeError",
     "evalue": "'tuple' object has no attribute 'pop'",
     "output_type": "error",
     "traceback": [
      "\u001b[0;31m---------------------------------------------------------------------------\u001b[0m",
      "\u001b[0;31mAttributeError\u001b[0m                            Traceback (most recent call last)",
      "\u001b[0;32m<ipython-input-16-becc35787648>\u001b[0m in \u001b[0;36m<module>\u001b[0;34m\u001b[0m\n\u001b[0;32m----> 1\u001b[0;31m \u001b[0mt1\u001b[0m\u001b[0;34m.\u001b[0m\u001b[0mpop\u001b[0m\u001b[0;34m(\u001b[0m\u001b[0;34m)\u001b[0m\u001b[0;34m\u001b[0m\u001b[0;34m\u001b[0m\u001b[0m\n\u001b[0m",
      "\u001b[0;31mAttributeError\u001b[0m: 'tuple' object has no attribute 'pop'"
     ]
    }
   ],
   "source": [
    "t1.pop()"
   ]
  },
  {
   "cell_type": "markdown",
   "metadata": {},
   "source": [
    "And you can't reassign items to it"
   ]
  },
  {
   "cell_type": "code",
   "execution_count": 17,
   "metadata": {},
   "outputs": [
    {
     "ename": "TypeError",
     "evalue": "'tuple' object does not support item assignment",
     "output_type": "error",
     "traceback": [
      "\u001b[0;31m---------------------------------------------------------------------------\u001b[0m",
      "\u001b[0;31mTypeError\u001b[0m                                 Traceback (most recent call last)",
      "\u001b[0;32m<ipython-input-17-3d166a200a44>\u001b[0m in \u001b[0;36m<module>\u001b[0;34m\u001b[0m\n\u001b[0;32m----> 1\u001b[0;31m \u001b[0mt1\u001b[0m\u001b[0;34m[\u001b[0m\u001b[0;36m1\u001b[0m\u001b[0;34m]\u001b[0m \u001b[0;34m=\u001b[0m \u001b[0;34m\"ten\"\u001b[0m\u001b[0;34m\u001b[0m\u001b[0;34m\u001b[0m\u001b[0m\n\u001b[0m",
      "\u001b[0;31mTypeError\u001b[0m: 'tuple' object does not support item assignment"
     ]
    }
   ],
   "source": [
    "t1[1] = \"ten\""
   ]
  },
  {
   "cell_type": "code",
   "execution_count": null,
   "metadata": {},
   "outputs": [],
   "source": [
    "# check length with len() function\n",
    "len(t)\n",
    "print(\"The length of the tuple is {x}\".format(x=len(t)))"
   ]
  },
  {
   "cell_type": "markdown",
   "metadata": {},
   "source": [
    "### Tuples' methods"
   ]
  },
  {
   "cell_type": "markdown",
   "metadata": {},
   "source": [
    "Tuples allow you to check how many times an item is repeated in it. To do so, you can use the method `.count()`"
   ]
  },
  {
   "cell_type": "code",
   "execution_count": 18,
   "metadata": {},
   "outputs": [
    {
     "name": "stdout",
     "output_type": "stream",
     "text": [
      "a occurs 3 times in the tuple\n"
     ]
    }
   ],
   "source": [
    "# count instances using .count() method\n",
    "t2 = ('a', 'a', 'b', 'b', 'a')\n",
    "t2.count(\"a\")\n",
    "print(\"a occurs {x} times in the tuple\".format(x=t2.count(\"a\")))"
   ]
  },
  {
   "cell_type": "markdown",
   "metadata": {},
   "source": [
    "Also, you can check the first occurrence of an element using the `index()` method"
   ]
  },
  {
   "cell_type": "code",
   "execution_count": null,
   "metadata": {},
   "outputs": [],
   "source": [
    "# find first index using .index() method\n",
    "t2.index(\"b\")\n",
    "print(\"b occurs first at index {x} in the tuple\".format(x=t2.index(\"b\")))"
   ]
  },
  {
   "cell_type": "markdown",
   "metadata": {},
   "source": [
    "### Tuple Packing and Unpacking"
   ]
  },
  {
   "cell_type": "markdown",
   "metadata": {},
   "source": [
    "- One of the most powerful aspects of tuples is a technique called tuple unpacking.\n",
    "- This allows us to assign variables using commas from a single tuple in order.\n",
    "- The syntax works as below, although the brackets can be omitted, unless required to be clear."
   ]
  },
  {
   "cell_type": "markdown",
   "metadata": {},
   "source": [
    "Python here 'unpacks' the tuple automatically and picks out the values and assigns them to the comma-separated variables:"
   ]
  },
  {
   "cell_type": "code",
   "execution_count": 20,
   "metadata": {},
   "outputs": [
    {
     "name": "stdout",
     "output_type": "stream",
     "text": [
      "a is equal to 1\n",
      "b is equal to 2\n",
      "c is equal to 3\n"
     ]
    }
   ],
   "source": [
    "a, b, c = (1, 2, 3)\n",
    "\n",
    "print(f'a is equal to {a}')\n",
    "print(f'b is equal to {b}')\n",
    "print(f'c is equal to {c}')"
   ]
  },
  {
   "cell_type": "markdown",
   "metadata": {},
   "source": [
    "We can also assign a tuple to a variable and perform tuple unpacking on the variable:"
   ]
  },
  {
   "cell_type": "markdown",
   "metadata": {},
   "source": [
    "Here, brackets are implied, Python performs tuple unpacking operation in same way 'under the hood'. <br>\n",
    "This comma notation is useful shorthand for assigning multiple variables:"
   ]
  },
  {
   "cell_type": "code",
   "execution_count": 21,
   "metadata": {},
   "outputs": [
    {
     "data": {
      "text/plain": [
       "int"
      ]
     },
     "execution_count": 21,
     "metadata": {},
     "output_type": "execute_result"
    }
   ],
   "source": [
    "t1 = (1)\n",
    "type(t1)"
   ]
  },
  {
   "cell_type": "markdown",
   "metadata": {},
   "source": [
    "If you simply use a comma (even without parentheses) you can create a tuple"
   ]
  },
  {
   "cell_type": "code",
   "execution_count": 22,
   "metadata": {},
   "outputs": [
    {
     "data": {
      "text/plain": [
       "tuple"
      ]
     },
     "execution_count": 22,
     "metadata": {},
     "output_type": "execute_result"
    }
   ],
   "source": [
    "t1 = 1, 2\n",
    "type(t1)"
   ]
  },
  {
   "cell_type": "markdown",
   "metadata": {},
   "source": [
    "## Summary\n",
    "We now understand:\n",
    "- The nature of dictionaries and tuples .\n",
    "- The basic concept of tuple unpacking.\n",
    "<br><br>\n",
    "\n",
    "We now know:\n",
    "- How to use a set to find the unique values in a list.\n",
    "- How to index a dictionary.\n",
    "- Dictionary methods including .keys(), .values(), .items().\n",
    "- Tuple methods including .count() and .index().\n",
    "<br><br>\n",
    "\n",
    "Please use this notebook as a reference, and refer to the links below for more information.\n",
    "\n",
    "## Further reading\n",
    "- Dictionary methods: https://docs.python.org/3/library/stdtypes.html#typesmapping\n",
    "- Built-in types: https://docs.python.org/3/library/stdtypes.html\n",
    "- Sets: https://docs.python.org/3/library/stdtypes.html#set"
   ]
  }
 ],
 "metadata": {
  "interpreter": {
   "hash": "3d597f4c481aa0f25dceb95d2a0067e73c0966dcbd003d741d821a7208527ecf"
  },
  "kernelspec": {
   "display_name": "Python 3.9.1 64-bit ('base': conda)",
   "name": "python3"
  },
  "language_info": {
   "codemirror_mode": {
    "name": "ipython",
    "version": 3
   },
   "file_extension": ".py",
   "mimetype": "text/x-python",
   "name": "python",
   "nbconvert_exporter": "python",
   "pygments_lexer": "ipython3",
   "version": "3.8.11"
  }
 },
 "nbformat": 4,
 "nbformat_minor": 4
}
