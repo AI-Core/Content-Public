{
  "nbformat": 4,
  "nbformat_minor": 0,
  "metadata": {
    "colab": {
      "name": "RegEx.ipynb",
      "provenance": []
    },
    "kernelspec": {
      "name": "python3",
      "display_name": "Python 3"
    },
    "language_info": {
      "name": "python"
    }
  },
  "cells": [
    {
      "cell_type": "markdown",
      "metadata": {
        "id": "NEt3ZWqEHuHT"
      },
      "source": [
        "# What are Regular Expressions?\n",
        "\n",
        "Regex are strings containing a combination of **normal characters** and **special metacharacters** that describes patterns to find text or positions within a text\n",
        "\n",
        "This is what a regex looks like:\n",
        "```\n",
        "r'Ai\\d+\\w{1,3}[a-z]\\s?'\n",
        "```\n",
        "r indicates that the string is a raw string\n",
        "\n",
        "You can specify, using metacharacters:\n",
        "- Position: \\b indicates the beginning or the end of a word\n",
        "- Quantifiers: It indicates how often the preceding characters occur. '?' indicates zero or one, + indicates 1 or more, and * indicates zero or more. You can also use curly brackets {n} indicates that the preceding character occurs n times, {min,} indicates that the preceding character occurs at least min times. {,max} and {min, max}\n",
        "- Grouping: We can use parentheses to define the scope of the regex. For example (abc)+ indicates that the regex would match 'abc', 'abcabc', 'abcabcabc'\n",
        "- Wildcard: ' . ' matches any character except newline\n",
        "- Match: [] Matches a single character that is contained within the brackets. For example, [abc] matches \"a\", \"b\", or \"c\".\n",
        "\n",
        "We can use it for finding and replace text or to validate strings (emails, passwords, pins...)"
      ]
    },
    {
      "cell_type": "markdown",
      "metadata": {
        "id": "nI4ntsr5IZwt"
      },
      "source": [
        "# Re Module"
      ]
    },
    {
      "cell_type": "markdown",
      "metadata": {
        "id": "iaEWQX7LIdUU"
      },
      "source": [
        "Python has the re module for working with regular expressions. However, many libraries can implement regular expressions in their methods. "
      ]
    },
    {
      "cell_type": "code",
      "metadata": {
        "id": "RjkQ-lUJHrkK"
      },
      "source": [
        "import re"
      ],
      "execution_count": 1,
      "outputs": []
    },
    {
      "cell_type": "markdown",
      "metadata": {
        "id": "TYgY78g9I3zW"
      },
      "source": [
        "Let's start with the basic methods. One of them is ***match***, and here is it's syntax:\n",
        "```\n",
        "re.match(r'regex', string)\n",
        "```\n",
        "It finds the first occurence ONLY if it is at the beggining of the string.\n",
        "\n",
        "Other basic method is compile. It tells Python that the string introduced as an argument is a pattern so that we can assign that pattern to a ***variable***"
      ]
    },
    {
      "cell_type": "code",
      "metadata": {
        "id": "lONx9hbHI2t_"
      },
      "source": [
        "text = 'Hello1 Hello2 HelloW Hello!'\n",
        "regex = re.compile(r'Hello')\n",
        "print(re.match(regex, text))\n",
        "print()\n",
        "regex = re.compile(r'ello')\n",
        "print(re.match(regex, text))"
      ],
      "execution_count": null,
      "outputs": []
    },
    {
      "cell_type": "markdown",
      "metadata": {
        "id": "vI5W5-PFJWl8"
      },
      "source": [
        "You can also look for an exact match of the whole string using the ***fullmatch*** method"
      ]
    },
    {
      "cell_type": "code",
      "metadata": {
        "id": "OHUhUiePJb0b"
      },
      "source": [
        "text = 'Hello1 Hello2 HelloW Hello!'\n",
        "regex = re.compile(r'Hello1 Hello2 HelloW Hello!')\n",
        "print(re.fullmatch(regex, text))\n",
        "print()\n",
        "regex = re.compile(r'Hello')\n",
        "print(re.fullmatch(regex, text))"
      ],
      "execution_count": null,
      "outputs": []
    },
    {
      "cell_type": "markdown",
      "metadata": {
        "id": "i_Adf0reJ_F0"
      },
      "source": [
        "If you want to look for the first occurrence of the pattern in any place of the string, you can use ***.search()***. If you want to look for ALL occurrences of the pattern, you can use the ***.findall()*** method"
      ]
    },
    {
      "cell_type": "code",
      "metadata": {
        "id": "pHsfKZ2oJ5Wh"
      },
      "source": [
        "text = 'Hello1 Hello2 HelloW Hello!'\n",
        "print(re.findall(r'Hello', text))"
      ],
      "execution_count": null,
      "outputs": []
    },
    {
      "cell_type": "markdown",
      "metadata": {
        "id": "IpKM549rKiEo"
      },
      "source": [
        "Let's do something a little bit more **complicated**"
      ]
    },
    {
      "cell_type": "code",
      "metadata": {
        "colab": {
          "base_uri": "https://localhost:8080/"
        },
        "id": "2tiLXF_YKcn5",
        "outputId": "9e3b053f-5b3e-4fcc-9317-fed7991f7428"
      },
      "source": [
        "text = \"_Some people, when confronted with a problem, think: I know, I'll use regular expressions. Now they have two problems.\"\n",
        "print(re.findall(r'\\s+(\\w{4})\\s+', text))"
      ],
      "execution_count": 4,
      "outputs": [
        {
          "output_type": "stream",
          "text": [
            "['when', 'with', 'they']\n"
          ],
          "name": "stdout"
        }
      ]
    },
    {
      "cell_type": "markdown",
      "metadata": {
        "id": "Es7aopuCKmxQ"
      },
      "source": [
        "__\\s+__: let's dissect this into its components. \n",
        "\n",
        "First, the backslash (\\\\) indicates that the next character correspond to an action from a metacharacter. In this case, 's' indicates a whiteSpace. \n",
        "\n",
        "Second, we have '+' sign, it is a quantity indicator, and it will act according to the preceding character. In this case, '+' it indicates that there is at least one of the preceding characters.\n",
        "\n",
        "Thus \\s+ says that there is at least one whitespace\n",
        "\n",
        "__(\\w{4})__: Let's go with this one.\n",
        "\n",
        "First we can see the parentheses. This is telling us what group we want to extract from the string. In the example we don't want to extract whitespaces, so we leave them out just by not including them within the parentheses.\n",
        "\n",
        "\\w indicates an alphanumerical character\n",
        "\n",
        "{4} is a quantifier. In this case it is just giving a single number, so it specifies that it will look for 4 characters of the preceding character.\n",
        "\n",
        "Thus (\\w{4}) looks for a combination of exact 4 consecutive alphanumerical characters\n",
        "\n",
        "The \\s+ at the end of the pattern is telling us that the 4 words we are looking for is surrounded by at least two whitespaces (one before and the other one after)"
      ]
    },
    {
      "cell_type": "markdown",
      "metadata": {
        "id": "oZx2-lL_K_Gv"
      },
      "source": [
        "## Exercise"
      ]
    },
    {
      "cell_type": "code",
      "metadata": {
        "colab": {
          "base_uri": "https://localhost:8080/"
        },
        "id": "9lwwGG1uKkaJ",
        "outputId": "a204cc50-411c-4986-e75f-88c356006e0d"
      },
      "source": [
        "print(re.findall(r'\\b([A-Z]\\w{3})\\b', text))\n",
        "print(re.findall(r'\\b([a-zA-Z]\\w{3})\\b', text))\n",
        "print(re.findall(r'\\b([a-z]\\w{2,5})\\b', text))"
      ],
      "execution_count": 6,
      "outputs": [
        {
          "output_type": "stream",
          "text": [
            "[]\n",
            "['when', 'with', 'know', 'they', 'have']\n",
            "['people', 'when', 'with', 'think', 'know', 'use', 'they', 'have', 'two']\n"
          ],
          "name": "stdout"
        }
      ]
    },
    {
      "cell_type": "markdown",
      "metadata": {
        "id": "Y59ASdV1KqTc"
      },
      "source": [
        "Can you 'dissect' the patterns? Use the returned output as a guide. Tip: \\b indicates the beginning or the end of a word"
      ]
    },
    {
      "cell_type": "markdown",
      "metadata": {
        "id": "6VmMtJbwLBbz"
      },
      "source": [
        "You can also substitute patterns for a new string using the .sub() method. \n",
        "```\n",
        "re.sub(regex, new_character(s), string_to_be_changed)\n",
        "```"
      ]
    },
    {
      "cell_type": "markdown",
      "metadata": {
        "id": "dRJD9FUKLUKk"
      },
      "source": [
        "## Exercise\n",
        "\n",
        "Substitute the special characters in the string for empty strings to decipher the code"
      ]
    },
    {
      "cell_type": "code",
      "metadata": {
        "id": "PjXX-RExKpN7"
      },
      "source": [
        "text = 'N&!}!e}*{@v#{%{e*%%@r@%%# {&&*g!*{@o*#&#n*{&{n{}{{a}%{{ {!##g*}*&i%&@!v*}@&e!}!{ %}*%y#@!&o!*@#u&{{} *#*%u}{#&p@@*{ &#!#n@{{&e@}{%v@{}@e%@&}r%@&& #%!}g&#!}o&}@%n*%%#n*%!!a&#@! {@{@l&!*#e!##%t{*{& %&&!y&}##o{*#%u%*{# }*@}d#@}%o@@&}w%!!!n}!&#'\n",
        "regex = ### Your code here\n",
        "print(re.sub(### Your code here))"
      ],
      "execution_count": null,
      "outputs": []
    },
    {
      "cell_type": "markdown",
      "metadata": {
        "id": "WdYUe1VBLztv"
      },
      "source": [
        "## Practical Case. Regex in Web Scraping"
      ]
    },
    {
      "cell_type": "markdown",
      "metadata": {
        "id": "81j3hBQrL5Hc"
      },
      "source": [
        "Regex is extremely useful when scraping for data. Often, we want to extract data whose attributes in the HTML code share common patterns. Let's see an example. *In this case I am using requests and BeautifulSoup, but you can do it using Selenium as well*"
      ]
    },
    {
      "cell_type": "code",
      "metadata": {
        "id": "B2BAi5oLLzTY"
      },
      "source": [
        "import requests\n",
        "from bs4 import BeautifulSoup\n",
        "url = 'https://eu.manduka.com/pages/yoga-mats-category'\n",
        "r = requests.get(url)\n",
        "r.status_code"
      ],
      "execution_count": null,
      "outputs": []
    },
    {
      "cell_type": "markdown",
      "metadata": {
        "id": "v-BJg2W8Mpmx"
      },
      "source": [
        "BeautifulSoup allows us to visualize the HTML code by sorting it according to the tags. It also allows us to look for specific tags and attributes"
      ]
    },
    {
      "cell_type": "code",
      "metadata": {
        "id": "ZUTqzfmrMav9"
      },
      "source": [
        "soup = BeautifulSoup(r.text, 'html.parser')\n",
        "print(soup)"
      ],
      "execution_count": null,
      "outputs": []
    },
    {
      "cell_type": "code",
      "metadata": {
        "id": "JvDAmTX1M6GU"
      },
      "source": [
        "lazy_links = soup.find_all('img', {'class': re.compile('lazy')})"
      ],
      "execution_count": 10,
      "outputs": []
    },
    {
      "cell_type": "code",
      "metadata": {
        "colab": {
          "base_uri": "https://localhost:8080/"
        },
        "id": "AFg4088wM__b",
        "outputId": "1b62e47c-48b0-4730-a1e9-060972472bff"
      },
      "source": [
        "links = []\n",
        "for element in soup.find_all('img', {'class': re.compile('lazy')}):\n",
        "    print(str(element))\n",
        "    reg = re.compile('<img')\n",
        "    print(re.match(reg, str(element)))\n",
        "    src = re.findall(r'data-src[a-z]*=\"(.*?)\"', str(element))[0]\n",
        "    print(src)\n",
        "    print()\n",
        "    links.append(src)"
      ],
      "execution_count": 11,
      "outputs": [
        {
          "output_type": "stream",
          "text": [
            "<img class=\"lazyload\" data-src=\"https://s2.svgbox.net/social.svg?ic=facebook&amp;color=737374\" height=\"30\" width=\"30\"/>\n",
            "<re.Match object; span=(0, 4), match='<img'>\n",
            "https://s2.svgbox.net/social.svg?ic=facebook&amp;color=737374\n",
            "\n",
            "<img class=\"lazyload\" data-src=\"https://s2.svgbox.net/social.svg?ic=twitter&amp;color=737374\" height=\"30\" width=\"30\"/>\n",
            "<re.Match object; span=(0, 4), match='<img'>\n",
            "https://s2.svgbox.net/social.svg?ic=twitter&amp;color=737374\n",
            "\n",
            "<img class=\"lazyload\" data-src=\"https://s2.svgbox.net/social.svg?ic=youtube&amp;color=737374\" height=\"30\" width=\"30\"/>\n",
            "<re.Match object; span=(0, 4), match='<img'>\n",
            "https://s2.svgbox.net/social.svg?ic=youtube&amp;color=737374\n",
            "\n",
            "<img class=\"lazyload\" data-src=\"https://s2.svgbox.net/social.svg?ic=instagram&amp;color=737374\" height=\"30\" width=\"30\"/>\n",
            "<re.Match object; span=(0, 4), match='<img'>\n",
            "https://s2.svgbox.net/social.svg?ic=instagram&amp;color=737374\n",
            "\n",
            "<img class=\"lazyload\" data-src=\"https://s2.svgbox.net/social.svg?ic=pinterest&amp;color=737374\" height=\"30\" width=\"30\"/>\n",
            "<re.Match object; span=(0, 4), match='<img'>\n",
            "https://s2.svgbox.net/social.svg?ic=pinterest&amp;color=737374\n",
            "\n",
            "<img class=\"lazyload\" data-src=\"https://s2.svgbox.net/social.svg?ic=facebook&amp;color=737374\" height=\"30\" width=\"30\"/>\n",
            "<re.Match object; span=(0, 4), match='<img'>\n",
            "https://s2.svgbox.net/social.svg?ic=facebook&amp;color=737374\n",
            "\n",
            "<img class=\"lazyload\" data-src=\"https://s2.svgbox.net/social.svg?ic=twitter&amp;color=737374\" height=\"30\" width=\"30\"/>\n",
            "<re.Match object; span=(0, 4), match='<img'>\n",
            "https://s2.svgbox.net/social.svg?ic=twitter&amp;color=737374\n",
            "\n",
            "<img class=\"lazyload\" data-src=\"https://s2.svgbox.net/social.svg?ic=youtube&amp;color=737374\" height=\"30\" width=\"30\"/>\n",
            "<re.Match object; span=(0, 4), match='<img'>\n",
            "https://s2.svgbox.net/social.svg?ic=youtube&amp;color=737374\n",
            "\n",
            "<img class=\"lazyload\" data-src=\"https://s2.svgbox.net/social.svg?ic=instagram&amp;color=737374\" height=\"30\" width=\"30\"/>\n",
            "<re.Match object; span=(0, 4), match='<img'>\n",
            "https://s2.svgbox.net/social.svg?ic=instagram&amp;color=737374\n",
            "\n",
            "<img class=\"lazyload\" data-src=\"https://s2.svgbox.net/social.svg?ic=pinterest&amp;color=737374\" height=\"30\" width=\"30\"/>\n",
            "<re.Match object; span=(0, 4), match='<img'>\n",
            "https://s2.svgbox.net/social.svg?ic=pinterest&amp;color=737374\n",
            "\n",
            "<img alt=\"\" class=\"lazyload \" data-srcset=\"//cdn.shopify.com/s/files/1/0066/4784/0856/files/info_modal_mob.png?v=1619636202\"/>\n",
            "<re.Match object; span=(0, 4), match='<img'>\n",
            "//cdn.shopify.com/s/files/1/0066/4784/0856/files/info_modal_mob.png?v=1619636202\n",
            "\n"
          ],
          "name": "stdout"
        }
      ]
    },
    {
      "cell_type": "markdown",
      "metadata": {
        "id": "CpdOdiW8NLOT"
      },
      "source": [
        "# Challenges"
      ]
    },
    {
      "cell_type": "markdown",
      "metadata": {
        "id": "hl3VdiEgNbcn"
      },
      "source": [
        "## Look for a valid PIN code"
      ]
    },
    {
      "cell_type": "code",
      "metadata": {
        "id": "r9lSrhMsNWTD"
      },
      "source": [
        "# \"1234\"   -->  true \n",
        "\n",
        "# \"12345\"  -->  false\n",
        "\n",
        "# \"a234\"   -->  false"
      ],
      "execution_count": null,
      "outputs": []
    },
    {
      "cell_type": "code",
      "metadata": {
        "id": "gH2lmy_rNkpu"
      },
      "source": [
        "def validate_pin(pin):\n",
        "    pass ## Your code here"
      ],
      "execution_count": 16,
      "outputs": []
    },
    {
      "cell_type": "code",
      "metadata": {
        "id": "56MBNRnANrTx"
      },
      "source": [
        "assert(validate_pin(\"1\") == False)\n",
        "assert(validate_pin(\"12\") == False)\n",
        "assert(validate_pin(\"123\") == False)\n",
        "assert(validate_pin(\"12345\") == False)\n",
        "assert(validate_pin(\"1234567\") == False)\n",
        "assert(validate_pin(\"-1234\") == False)\n",
        "assert(validate_pin(\"1.234\") == False)\n",
        "assert(validate_pin(\"00000000\") == False)\n",
        "assert(validate_pin(\"1234 \") == False)\n",
        "assert(validate_pin(\" 1234\") == False)\n",
        "assert(validate_pin(\"123456 \") == False)\n",
        "\n",
        "assert(validate_pin(\"a234\") == False)\n",
        "assert(validate_pin(\".234\") == False)\n",
        "assert(validate_pin(\".1234\") == False)\n",
        "assert(validate_pin(\"-123\") == False)\n",
        "assert(validate_pin(\"-1.234\") == False)\n",
        "\n",
        "assert(validate_pin(\"1234\") == True)\n",
        "assert(validate_pin(\"0000\") == True)\n",
        "assert(validate_pin(\"123456\") == True)\n",
        "assert(validate_pin(\"098765\") == True)"
      ],
      "execution_count": null,
      "outputs": []
    },
    {
      "cell_type": "markdown",
      "metadata": {
        "id": "BGZSy7WyNQPF"
      },
      "source": [
        "## Look for a valid phone number"
      ]
    },
    {
      "cell_type": "code",
      "metadata": {
        "id": "svUk6wm6ND5i"
      },
      "source": [
        "# validPhoneNumber(\"(123) 456-7890\")  => returns true\n",
        "# validPhoneNumber(\"(1111)555 2345\")  => returns false\n",
        "# validPhoneNumber(\"(098) 123 4567\")  => returns false"
      ],
      "execution_count": 13,
      "outputs": []
    },
    {
      "cell_type": "code",
      "metadata": {
        "id": "pCy4id2aNNFA"
      },
      "source": [
        "import re\n",
        "def validPhoneNumber(phoneNumber):\n",
        "    pass # Code here"
      ],
      "execution_count": 14,
      "outputs": []
    },
    {
      "cell_type": "code",
      "metadata": {
        "id": "_5M7nZIyNVBA"
      },
      "source": [
        "assert(validPhoneNumber(\"(123) 456-7890\") == True)\n",
        "assert(validPhoneNumber(\"(1111)555 2345\") == False)\n",
        "assert(validPhoneNumber(\"(123) 456 7890\") == False)\n",
        "assert(validPhoneNumber(\"(852) 111-0000\") == True)\n",
        "assert(validPhoneNumber(\"(123)456-7890\") == False)\n",
        "assert(validPhoneNumber(\"123 456-7890\") == False)\n",
        "assert(validPhoneNumber(\"(123) 4565-7890\") == False)\n",
        "assert(validPhoneNumber(\"(123) 456-78950\") == False)"
      ],
      "execution_count": null,
      "outputs": []
    }
  ]
}