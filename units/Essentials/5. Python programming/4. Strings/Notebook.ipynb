{
 "cells": [
  {
   "cell_type": "markdown",
   "metadata": {},
   "source": [
    "## Strings in Python\n",
    "- In Python, strings (str) are employed to represent textual data.\n",
    "- They are formed by enclosing the textual information in single ('') or double (\"\") quotation marks.\n",
    "- Generally, double quotation marks are recommended, as apostrophes can prematurely end a string.\n",
    "- The backslash (\\\\) character is utilised to escape apostrophes or other special characters in strings."
   ]
  },
  {
   "cell_type": "markdown",
   "metadata": {},
   "source": [
    "## String Functions and Methods\n",
    "- The print() function displays the contents of the parenthesis.\n",
    "- It also interprets the escape characters (tabs, new lines, etc.) and displays the string without quotations.\n",
    "- A method is a function associated with an object.\n",
    "- Strings have many associated methods. We will explore a few here.\n",
    "- Further information can be found at\n",
    "<br> https://docs.python.org/2/library/stdtypes.html#string-methods"
   ]
  },
  {
   "cell_type": "code",
   "execution_count": 1,
   "metadata": {},
   "outputs": [
    {
     "name": "stdout",
     "output_type": "stream",
     "text": [
      "hi\n"
     ]
    }
   ],
   "source": [
    "x = \"Hello World\"\n",
    "print('hi')"
   ]
  },
  {
   "cell_type": "code",
   "execution_count": 2,
   "metadata": {},
   "outputs": [
    {
     "ename": "SyntaxError",
     "evalue": "invalid syntax. Perhaps you forgot a comma? (3086272839.py, line 2)",
     "output_type": "error",
     "traceback": [
      "\u001b[1;36m  Input \u001b[1;32mIn [2]\u001b[1;36m\u001b[0m\n\u001b[1;33m    print('What's the problem here?')\u001b[0m\n\u001b[1;37m          ^\u001b[0m\n\u001b[1;31mSyntaxError\u001b[0m\u001b[1;31m:\u001b[0m invalid syntax. Perhaps you forgot a comma?\n"
     ]
    }
   ],
   "source": [
    "# Single quotations can be problematic; here, the apostrophe ends the string prematurely.\n",
    "print('What's the problem here?')"
   ]
  },
  {
   "cell_type": "code",
   "execution_count": 3,
   "metadata": {},
   "outputs": [
    {
     "name": "stdout",
     "output_type": "stream",
     "text": [
      "What's the problem here?\n"
     ]
    }
   ],
   "source": [
    "# we can use double quotations\n",
    "print(\"What's the problem here?\")"
   ]
  },
  {
   "cell_type": "code",
   "execution_count": 4,
   "metadata": {},
   "outputs": [
    {
     "name": "stdout",
     "output_type": "stream",
     "text": [
      "What's the \"problem\" here?\n"
     ]
    }
   ],
   "source": [
    "# or backslash if we have single and double quotes\n",
    "print(\"What\\'s the \\\"problem\\\" here?\")"
   ]
  },
  {
   "cell_type": "markdown",
   "metadata": {},
   "source": [
    "# String Methods"
   ]
  },
  {
   "cell_type": "code",
   "execution_count": 5,
   "metadata": {},
   "outputs": [
    {
     "name": "stdout",
     "output_type": "stream",
     "text": [
      "HELLO WORLD\n",
      "Hello World\n"
     ]
    },
    {
     "data": {
      "text/plain": [
       "1"
      ]
     },
     "execution_count": 5,
     "metadata": {},
     "output_type": "execute_result"
    }
   ],
   "source": [
    "# The .upper() method transforms string characters into UPPERCASE (not in place).\n",
    "print(x.upper())\n",
    "print(x)\n",
    "\n",
    "\n",
    "y = 1\n",
    "y = str(1)\n",
    "y = int(y)\n",
    "round(y)"
   ]
  },
  {
   "cell_type": "code",
   "execution_count": 6,
   "metadata": {},
   "outputs": [
    {
     "name": "stdout",
     "output_type": "stream",
     "text": [
      "Hello World\n",
      "HELLO WORLD\n"
     ]
    }
   ],
   "source": [
    "# To change x itself, we must reassign it.\n",
    "print(x)\n",
    "\n",
    "x = x.upper()\n",
    "\n",
    "print(x)"
   ]
  },
  {
   "cell_type": "code",
   "execution_count": 7,
   "metadata": {},
   "outputs": [
    {
     "name": "stdout",
     "output_type": "stream",
     "text": [
      "hello world\n"
     ]
    }
   ],
   "source": [
    "# The .lower() method transforms string characters into LOWERCASE (not in place).\n",
    "print(x.lower())"
   ]
  },
  {
   "cell_type": "code",
   "execution_count": 8,
   "metadata": {},
   "outputs": [
    {
     "data": {
      "text/plain": [
       "'How are you?'"
      ]
     },
     "execution_count": 8,
     "metadata": {},
     "output_type": "execute_result"
    }
   ],
   "source": [
    "# The .capitalize() method makes the first character in the string UPPERCASE.\n",
    "z = \"how are you?\"\n",
    "z.capitalize()"
   ]
  },
  {
   "cell_type": "code",
   "execution_count": 9,
   "metadata": {},
   "outputs": [
    {
     "name": "stdout",
     "output_type": "stream",
     "text": [
      "['HELLO', 'WORLD']\n",
      "['HELLO WORLD']\n"
     ]
    }
   ],
   "source": [
    "# The .split() method splits on space as the default or desired separator.\n",
    "print(x.split())\n",
    "print(x.split(\"o\"))"
   ]
  },
  {
   "cell_type": "markdown",
   "metadata": {},
   "source": [
    "## The .format Method\n",
    "- The .format method is employed to insert data into a string.\n",
    "- This can be other strings or a variable obtained from elsewhere in your code.\n",
    "- The syntax used is detailed below.\n",
    "- When using the .format method to insert a float into a string, we can specify the width and precision of the decimal."
   ]
  },
  {
   "cell_type": "code",
   "execution_count": 10,
   "metadata": {},
   "outputs": [
    {
     "name": "stdout",
     "output_type": "stream",
     "text": [
      "The fox brown quick\n"
     ]
    }
   ],
   "source": [
    "# default prints in order\n",
    "print(\"The {} {} {}\".format(\"fox\", \"brown\", \"quick\"))"
   ]
  },
  {
   "cell_type": "code",
   "execution_count": 11,
   "metadata": {},
   "outputs": [
    {
     "name": "stdout",
     "output_type": "stream",
     "text": [
      "The quick brown fox\n"
     ]
    }
   ],
   "source": [
    "# can index\n",
    "print(\"The {2} {1} {0}\".format(\"fox\", \"brown\", \"quick\"))"
   ]
  },
  {
   "cell_type": "code",
   "execution_count": 12,
   "metadata": {},
   "outputs": [
    {
     "name": "stdout",
     "output_type": "stream",
     "text": [
      "The quick brown fox\n"
     ]
    }
   ],
   "source": [
    "# can use variable keys for readability\n",
    "print(\"The {q} {b} {f}\".format(f=\"fox\", b=\"brown\", q=\"quick\"))"
   ]
  },
  {
   "cell_type": "code",
   "execution_count": 13,
   "metadata": {},
   "outputs": [
    {
     "name": "stdout",
     "output_type": "stream",
     "text": [
      "0.1287001287001287\n",
      "\n",
      "The result was 0.129\n",
      "The result was 0.129\n",
      "The result was 0.1287001\n",
      "The result was 0.129\n"
     ]
    }
   ],
   "source": [
    "# create long decimal\n",
    "result = 100/777\n",
    "print(result, end = \"\\n\\n\")\n",
    "\n",
    "# use value:width.precisionf for formatting\n",
    "# width is minimum length of string, padded with whitespace if necessary\n",
    "# precision is decimal places\n",
    "print(\"The result was {:1.3f}\".format(result))\n",
    "print(\"The result was {r:1.3f}\".format(r=result))\n",
    "print(\"The result was {r:1.7f}\".format(r=result))\n",
    "print(\"The result was {r:.3f}\".format(r=result))"
   ]
  },
  {
   "cell_type": "markdown",
   "metadata": {},
   "source": [
    "## String Indexing and Slicing\n",
    "- Strings are iterable, meaning that they can return their elements one at a time.\n",
    "- Strings are also immutable, meaning that their elements cannot be changed once assigned.\n",
    "- They must be __REASSIGNED__ to change them.\n",
    "- Each character in a string is one element; this includes spaces and punctuation marks.\n",
    "- Indexing enables us to call back one element.\n",
    "- Slicing enables us to call back a range of elements."
   ]
  },
  {
   "cell_type": "markdown",
   "metadata": {},
   "source": [
    "In Python,\n",
    "- indexing starts at 0 (zero).\n",
    "- slicing is inclusive at the lower bound (including).\n",
    "- slicing is exclusive at the upper bound (up to, but not including the upper bound)."
   ]
  },
  {
   "cell_type": "code",
   "execution_count": 14,
   "metadata": {},
   "outputs": [],
   "source": [
    "my_first_string = \"Hello World\""
   ]
  },
  {
   "cell_type": "code",
   "execution_count": 15,
   "metadata": {},
   "outputs": [
    {
     "data": {
      "text/plain": [
       "'H'"
      ]
     },
     "execution_count": 15,
     "metadata": {},
     "output_type": "execute_result"
    }
   ],
   "source": [
    "# Index 0 gives first element\n",
    "my_first_string[0]"
   ]
  },
  {
   "cell_type": "markdown",
   "metadata": {},
   "source": [
    "Use a colon to indicate a slicing operation; for example, 1:4 returns the 2nd (index 1), 3rd (index 2) and 4th (index 3) elements, __but not the 5th (index 4)__:"
   ]
  },
  {
   "cell_type": "code",
   "execution_count": 16,
   "metadata": {},
   "outputs": [
    {
     "data": {
      "text/plain": [
       "'ell'"
      ]
     },
     "execution_count": 16,
     "metadata": {},
     "output_type": "execute_result"
    }
   ],
   "source": [
    "my_first_string[1:4]"
   ]
  },
  {
   "cell_type": "markdown",
   "metadata": {},
   "source": [
    "In the absence of the upper bound, the slicing starts with the 1st index indicated and displays everything beyond:"
   ]
  },
  {
   "cell_type": "code",
   "execution_count": 17,
   "metadata": {},
   "outputs": [
    {
     "data": {
      "text/plain": [
       "'ello World'"
      ]
     },
     "execution_count": 17,
     "metadata": {},
     "output_type": "execute_result"
    }
   ],
   "source": [
    "my_first_string[1:]"
   ]
  },
  {
   "cell_type": "markdown",
   "metadata": {},
   "source": [
    "In the absence of the lower bound, the slicing starts from index 0 up to, but not including, the upper bound:"
   ]
  },
  {
   "cell_type": "code",
   "execution_count": 19,
   "metadata": {},
   "outputs": [
    {
     "data": {
      "text/plain": [
       "'Hel'"
      ]
     },
     "execution_count": 19,
     "metadata": {},
     "output_type": "execute_result"
    }
   ],
   "source": [
    "my_first_string[:3]"
   ]
  },
  {
   "cell_type": "markdown",
   "metadata": {},
   "source": [
    "Note that values of other datatypes cannot be assigned to a string element:"
   ]
  },
  {
   "cell_type": "code",
   "execution_count": 20,
   "metadata": {},
   "outputs": [
    {
     "ename": "TypeError",
     "evalue": "'str' object does not support item assignment",
     "output_type": "error",
     "traceback": [
      "\u001b[1;31m---------------------------------------------------------------------------\u001b[0m",
      "\u001b[1;31mTypeError\u001b[0m                                 Traceback (most recent call last)",
      "\u001b[1;32mc:\\Users\\admin\\Desktop\\ai-core\\Essentials\\2. Python programming\\1. Python Fundamentals\\3. Strings\\Notebook.ipynb Cell 29'\u001b[0m in \u001b[0;36m<module>\u001b[1;34m\u001b[0m\n\u001b[1;32m----> <a href='vscode-notebook-cell:/c%3A/Users/admin/Desktop/ai-core/Essentials/2.%20Python%20programming/1.%20Python%20Fundamentals/3.%20Strings/Notebook.ipynb#ch0000033?line=0'>1</a>\u001b[0m my_first_string[\u001b[39m0\u001b[39m] \u001b[39m=\u001b[39m \u001b[39m'\u001b[39m\u001b[39ml\u001b[39m\u001b[39m'\u001b[39m\n",
      "\u001b[1;31mTypeError\u001b[0m: 'str' object does not support item assignment"
     ]
    }
   ],
   "source": [
    "my_first_string[0] = 'l'"
   ]
  },
  {
   "cell_type": "markdown",
   "metadata": {},
   "source": [
    "## Conclusion\n",
    "At this point, we should have a firm understanding of\n",
    "- strings and print formatting.\n",
    "<br><br>\n",
    "- strings and string methods, including .upper(), .lower(), .split() and .format().\n",
    "- how to add in objects to strings using the .format() method.\n",
    "- string indexing.\n",
    "- string slicing.\n",
    "\n",
    "Please always refer to this notebook when unsure of any command or the syntax. <br>\n",
    "Additionally, explore the documentation (link provided below) to learn other string methods and style conventions in Python.\n",
    "\n",
    "## Further Reading\n",
    "- String methods: https://docs.python.org/2/library/stdtypes.html#string-methods\n",
    "- PEP8 style documentation: https://www.python.org/dev/peps/pep-0008/"
   ]
  }
 ],
 "metadata": {
  "interpreter": {
   "hash": "beedbe2faf2f7048d727558d0bc3221e7eba2a0b921cac4d4771b2feb8f74b30"
  },
  "kernelspec": {
   "display_name": "Python 3.10.2 64-bit",
   "language": "python",
   "name": "python3"
  },
  "language_info": {
   "codemirror_mode": {
    "name": "ipython",
    "version": 3
   },
   "file_extension": ".py",
   "mimetype": "text/x-python",
   "name": "python",
   "nbconvert_exporter": "python",
   "pygments_lexer": "ipython3",
   "version": "3.10.2"
  },
  "orig_nbformat": 4
 },
 "nbformat": 4,
 "nbformat_minor": 2
}
