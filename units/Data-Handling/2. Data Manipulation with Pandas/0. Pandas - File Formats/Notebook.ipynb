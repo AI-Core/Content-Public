{
 "cells": [
  {
   "cell_type": "markdown",
   "metadata": {},
   "source": [
    "# Pandas - File Formats"
   ]
  },
  {
   "cell_type": "markdown",
   "metadata": {},
   "source": [
    "Pandas allows us to read different data formats easily, so we don't have to think about the libraries or modules that we need to import.\n",
    "\n",
    "The syntax is as follows:"
   ]
  },
  {
   "cell_type": "code",
   "execution_count": null,
   "metadata": {},
   "outputs": [],
   "source": [
    "import pandas as pd\n",
    "\n",
    "df = pd.read_{format}('FILE_DIR')\n",
    "\n",
    "df.to_{format}('FILE_DIR')"
   ]
  },
  {
   "cell_type": "markdown",
   "metadata": {},
   "source": [
    "## Pandas and CSV\n",
    "The syntax for reading in a CSV to pandas is:"
   ]
  },
  {
   "cell_type": "code",
   "execution_count": null,
   "metadata": {},
   "outputs": [],
   "source": [
    "# we save the read_csv to a variable\n",
    "df = pd.read_csv('<filename>')\n",
    "\n",
    "# the to_csv method is a method off a data frame\n",
    "df.to_csv('<filename>')"
   ]
  },
  {
   "cell_type": "markdown",
   "metadata": {},
   "source": [
    "Example:"
   ]
  },
  {
   "cell_type": "code",
   "execution_count": null,
   "metadata": {},
   "outputs": [],
   "source": [
    "# import pandas\n",
    "import pandas as pd\n",
    "\n",
    "# read in the csv file\n",
    "df = pd.read_csv('Salaries.csv', index_col='Id')\n",
    "\n",
    "# show as DataFrame\n",
    "df"
   ]
  },
  {
   "cell_type": "markdown",
   "metadata": {},
   "source": [
    "Let's get only the first 5 rows and save that into a new csv"
   ]
  },
  {
   "cell_type": "code",
   "execution_count": null,
   "metadata": {},
   "outputs": [],
   "source": [
    "df_short = df.head(5)\n",
    "df_short\n",
    "df_short.to_csv('Salaries_5.csv')"
   ]
  },
  {
   "cell_type": "markdown",
   "metadata": {},
   "source": [
    "## Pandas and JSON"
   ]
  },
  {
   "cell_type": "markdown",
   "metadata": {},
   "source": [
    "- Pandas can also read and write from and to JSON using the following commands:"
   ]
  },
  {
   "cell_type": "code",
   "execution_count": null,
   "metadata": {},
   "outputs": [],
   "source": [
    "# json\n",
    "df = pd.read_json('JSON_sample.json')\n",
    "df\n"
   ]
  },
  {
   "cell_type": "markdown",
   "metadata": {},
   "source": [
    "This doesn't look good... We have to normalise each value in that column, so each key corresponds to a column:"
   ]
  },
  {
   "cell_type": "code",
   "execution_count": null,
   "metadata": {},
   "outputs": [],
   "source": [
    "df['Employees']"
   ]
  },
  {
   "cell_type": "code",
   "execution_count": null,
   "metadata": {},
   "outputs": [],
   "source": [
    "df_nice = pd.json_normalize(df[\"Employees\"])\n",
    "df_nice"
   ]
  },
  {
   "cell_type": "code",
   "execution_count": null,
   "metadata": {},
   "outputs": [],
   "source": [
    "df_nice.to_json('JSON_sample_new.json')"
   ]
  },
  {
   "cell_type": "markdown",
   "metadata": {},
   "source": [
    "## XML\n",
    "- XML (eXtensible Markup Language) is another way of exchanging data between browsers and servers (JSON is an alternative to XML).\n",
    "- Hence, like with JSON, we can use XML to obtain data from the web and they have the extension `.xml`.\n",
    "- XML is a markup language like HTML, so it contains data, and information on how to structure that data, but not how it is displayed.\n",
    "- Hence we need an API to extract data from an XML file.\n",
    "- You can use the following process although it is not the only possible way to do it:"
   ]
  },
  {
   "cell_type": "markdown",
   "metadata": {},
   "source": [
    "### XML Structure\n",
    "\n",
    "XML Documents are structured much like HTML:\n",
    "- They are hierarchical in structure.\n",
    "- The document usually contains a prolog tag containing meta data, such as version, character encoding and associated style sheet.\n",
    "- The next tag will be the root(`data` in this case) tag which will contain all other tags of the document.\n",
    "- Each tag is completely flexible in it's naming unlike HTML which has a pre-defined set of tags.\n",
    "\n",
    "#### Components of XML\n",
    "\n",
    "- __Document:__ The root tag opens the document in this case `<data>` and the ending tag `</data>` closes it.\n",
    "- __Node:__ Each tag containing other tags is a node tag here `<employee>` is a node tag.\n",
    "- __Elements:__ Elements such as `<email>alpha@aicore.com</email>` and ` <age>36</age>` are considered elements.\n",
    "- __Content:__ The data between the elements tags are considered content. In the email element `<email>alpha@aicore.com</email>`, the string `alpha@aicore.com` is considered the content.\n",
    "\n",
    "```\n",
    "<?xml version=\"1.0\" encoding=\"UTF-8\"?>\n",
    "<data>\n",
    "    <employee name=\"Alpha\">\n",
    "        <email>alpha@aicore.com</email>\n",
    "        <department>HR</department>\n",
    "        <age>36</age>\n",
    "    </employee>\n",
    "    <employee name=\"Bravo\">\n",
    "        <email>bravo@aicore.com</email>\n",
    "        <department>sales</department>\n",
    "        <age>23</age>\n",
    "    </employee>\n",
    "    <employee name=\"Charlie\">\n",
    "        <email>charlie@aicore.com</email>\n",
    "        <department>accounts</department>\n",
    "        <age>44</age>\n",
    "    </employee>\n",
    "    <employee name=\"Delta\">\n",
    "        <email>delta@aicore.com</email>\n",
    "        <department>reception</department>\n",
    "        <age>51</age>\n",
    "    </employee>\n",
    "</data>\n",
    "\n",
    "```"
   ]
  },
  {
   "cell_type": "markdown",
   "metadata": {},
   "source": [
    "### Parsing XML"
   ]
  },
  {
   "cell_type": "markdown",
   "metadata": {},
   "source": [
    "- You can use this premade function to parse in XML files, which requires only 2 arguments:\n",
    "    - The XML filename\n",
    "    - The columns of the data frame (the fields in each observation in the XML file)"
   ]
  },
  {
   "cell_type": "code",
   "execution_count": null,
   "metadata": {},
   "outputs": [],
   "source": [
    "import pandas as pd\n",
    "import xml.etree.ElementTree as et\n",
    "\n",
    "def parse_XML(xml_file, df_cols): \n",
    "    \"\"\"Parse the input XML file and store the result in a pandas \n",
    "    DataFrame with the given columns. \n",
    "    \n",
    "    The first element of df_cols is supposed to be the identifier \n",
    "    variable, which is an attribute of each node element in the \n",
    "    XML data; other features will be parsed from the text content \n",
    "    of each sub-element. \n",
    "    \"\"\"\n",
    "    \n",
    "    xtree = et.parse(xml_file)\n",
    "    xroot = xtree.getroot()\n",
    "    rows = []\n",
    "    \n",
    "    for node in xroot: \n",
    "        res = []\n",
    "        res.append(node.attrib.get(df_cols[0]))\n",
    "        for el in df_cols[1:]: \n",
    "            if node is not None and node.find(el) is not None:\n",
    "                res.append(node.find(el).text)\n",
    "            else: \n",
    "                res.append(None)\n",
    "        rows.append({df_cols[i]: res[i] \n",
    "                     for i, _ in enumerate(df_cols)})\n",
    "    \n",
    "    out_df = pd.DataFrame(rows, columns=df_cols)\n",
    "        \n",
    "    return out_df"
   ]
  },
  {
   "cell_type": "code",
   "execution_count": null,
   "metadata": {},
   "outputs": [],
   "source": [
    "df = parse_XML(\"employees.xml\", [\"name\", \"email\", \"department\", \"age\"])\n",
    "df"
   ]
  },
  {
   "cell_type": "markdown",
   "metadata": {},
   "source": [
    "### XML and Pandas"
   ]
  },
  {
   "cell_type": "markdown",
   "metadata": {},
   "source": [
    "We can also read `.xml` files using pandas `read_xml` method. "
   ]
  },
  {
   "cell_type": "code",
   "execution_count": null,
   "metadata": {},
   "outputs": [],
   "source": [
    "df = pd.read_xml(\"employees.xml\")\n",
    "df"
   ]
  },
  {
   "cell_type": "markdown",
   "metadata": {},
   "source": [
    "Using the parameter `attrs_only` we can specify only showing the tags with attributes."
   ]
  },
  {
   "cell_type": "code",
   "execution_count": null,
   "metadata": {},
   "outputs": [],
   "source": [
    "df = pd.read_xml(\"employees.xml\", attrs_only=True)\n",
    "df"
   ]
  },
  {
   "cell_type": "markdown",
   "metadata": {},
   "source": [
    "With the `elems_only` parameter we can specify only showing the data from element tags."
   ]
  },
  {
   "cell_type": "code",
   "execution_count": null,
   "metadata": {},
   "outputs": [],
   "source": [
    "df = pd.read_xml(\"employees.xml\", elems_only=True)\n",
    "df"
   ]
  },
  {
   "cell_type": "markdown",
   "metadata": {},
   "source": [
    "We can then convert the dataframe easily back to an XML document with the `to_xml` method. "
   ]
  },
  {
   "cell_type": "code",
   "execution_count": 19,
   "metadata": {},
   "outputs": [],
   "source": [
    "df.to_xml(\"employees_df_export\")"
   ]
  },
  {
   "cell_type": "markdown",
   "metadata": {},
   "source": [
    "## Images\n",
    "\n",
    "Computers don't see images the way we see them, when an image is stored on your computer it needs to be stored in a way in which the computer can understand. \n",
    "- They see images as a 2D matrix or 3D array where the third dimension represents the channels.\n",
    "- Each unit in that grid is a __pixel__.\n",
    "- Your resolution determines the size of this matrix. A resolution of 800 x 600 would be a grid of size 800 by 600 pixels.\n",
    "- Each pixel has a number associated with it determining its colour.\n",
    "\n",
    "For example, this is how a computer would represent a grayscale image:\n",
    "- __Grayscale__ images have one channel to represent the image(gray).\n",
    "- Colours on computers are usually represented using 8-bit numbers giving a set of 8 zeros and ones. This gives 2<sup>8</sup> or 256 possible representations of each pixel.\n",
    "- Each representation describes the intensity or brightness of that particular colour. In this case, 0 is black and 255 would represent white.\n",
    "\n",
    "![](./images/grayscale.png)\n",
    "\n",
    "\n",
    "With colour images they are normally represented by the RGB (Red, Green, Blue) model, for example:\n",
    "- __RGB__ is represented by three channels - __Red__, __Green__ and __Blue__.\n",
    "- The channels are combined together to create the image.\n",
    "- All red would be expressed as (255, 0, 0), green by (0, 255, 0) and blue by (0, 0, 255).\n",
    "- White can be  by (255, 255, 255) and black by (0, 0, 0).\n",
    "- Any other colour can be represented by a combination of all three. For instance (106, 13, 173) would represent the colour purple. \n",
    "- This gives us a possible combination of 16,777,216 different colours.\n",
    "\n",
    "<img src=\"./images/rgb_image.png\"/>\n",
    "\n",
    "There are other systems a computer can use to represent colours\n",
    "- For printers, they use the CMYK system to represent colours:\n",
    "  - __C__ for Cyan\n",
    "  - __M__ for Mageneta \n",
    "  - __Y__ or Yellow \n",
    "  - __K__ for Black \n",
    "- Another common one is Hexadecimal format.\n",
    "  - Each colour is represented by # followed by six characters #RRGGBB.\n",
    "  - Each RR (red), GG (green), and BB (blue) are hexadecimal integers between 00 and FF. \n",
    "  - For example, #0000FF displays blue since FF is the highest representation and 00 is the lowest.\n",
    "  - #CC5500 would represent a burnt orange colour can you see why?\n"
   ]
  },
  {
   "cell_type": "markdown",
   "metadata": {},
   "source": [
    "## Audio\n",
    "\n",
    "Audio is a little more complicated; sound is an analog signal, which is made up of waves travelling through matter. The computer needs to convert this signal into a digital format to be machine readable.\n",
    "\n",
    "The sound card on your computer performs this process for you:\n",
    "\n",
    "- The sounds card has __four__ main processing components to perform this task.\n",
    "  - __analog-to-digital converter (ADC)__ - to process the incoming analog signal into a digital format, e.g. sound recorded by your microphone. \n",
    "  - __digital-to-analog converter (DAC)__ - converts the digital audio signal on your pc to an analog format so you can listen to it, e.g. converted to analog and output through the speakers. \n",
    "  - __PCI interface__ - to connect the sound card to the motherboard.\n",
    "  - __Input and output__ - for devices such as a microphone or speakers.\n",
    "\n",
    "Sound cards represent audio with the following process:\n",
    "- When an incoming audio is detected by the sound card it will take measurements (samples) of it at regular intervals.\n",
    "  - __Sampling rate__ is defined as the number of samples taken per second of the sound card.\n",
    "  - Sampling rate is measured in hertz (one hertz is one sample per second).\n",
    "  - The higher the hertz, the better quality of  the sound representation.\n",
    "- __Sampling resolution__ is the numbers of bits used to represent the audio.\n",
    "  - The higher the resolution, the better the representation of the sound.\n",
    "\n",
    "True sound (yellow), then visualisations of low and higher sampling rate:\n",
    "\n",
    "<img src=\"./images/sound_sampling.png\" height=\"600\" width=\"400\"/>\n",
    "\n",
    "Increasing sampling resolution:\n",
    "\n",
    "<img src=\"./images/sound_resolution.png\" height=\"600\" width=\"400\"/>\n",
    "\n",
    "Commonly, audio data is visualised as a spectrogram. A spectrogram shows time on the horizontal axis, and frequency on the vertical axis with brighter colors where that frequency is present.\n",
    "\n",
    "<img src=\"./images/spectrogram.png\" height=\"600\"/>\n"
   ]
  },
  {
   "cell_type": "markdown",
   "metadata": {},
   "source": [
    "# Key Takeaways\n",
    "\n",
    "- Pandas is a powerful Python library that we can use to read and write data to different file formats. The data is then stored in a structure called a _dataframe_\n",
    "- To read CSV files, the `.read_csv` command is used\n",
    "- Similarly, to read JSON files, the `.read_json` command is used\n",
    "- XML documents are another popular type of file formats. They are structured much like HTML documents and contain the following components:\n",
    "\t- Document \n",
    "\t- Node\n",
    "\t- Elements\n",
    "\t- Content\n",
    "-  Pandas provides `.read_xml` to read data stored in XML documents\n",
    "- Image data is stored as a 2D matrix structure, where unit within the matrix is a _pixel_\n",
    "- Audio data is more complicated to store than video. The computer's sound card transforms analog audio waves into digital waves, which can then be interpreted by the computer."
   ]
  }
 ],
 "metadata": {
  "interpreter": {
   "hash": "aee8b7b246df8f9039afb4144a1f6fd8d2ca17a180786b69acc140d282b71a49"
  },
  "kernelspec": {
   "display_name": "Python 3.9.6 64-bit",
   "name": "python3"
  },
  "language_info": {
   "codemirror_mode": {
    "name": "ipython",
    "version": 3
   },
   "file_extension": ".py",
   "mimetype": "text/x-python",
   "name": "python",
   "nbconvert_exporter": "python",
   "pygments_lexer": "ipython3",
   "version": "3.9.5"
  }
 },
 "nbformat": 4,
 "nbformat_minor": 4
}
