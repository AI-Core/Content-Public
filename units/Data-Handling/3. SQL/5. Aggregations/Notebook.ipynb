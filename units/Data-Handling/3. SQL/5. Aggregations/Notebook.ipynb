{
 "cells": [
  {
   "cell_type": "markdown",
   "metadata": {},
   "source": [
    "# SQL - Aggregations"
   ]
  },
  {
   "cell_type": "markdown",
   "metadata": {},
   "source": [
    "Many of the lessons in this module are presented in slides. \n",
    "\n",
    "Click here to open the presentation in [PDF format](https://aicore-files.s3.amazonaws.com/Data-Eng/SQL/4.+SQL+Data+Analysis+-+Aggregations%2C+Function%2C+Flow+Control.pdf)\n",
    "\n",
    "Click here to open the presentation in [Keynote format](https://aicore-files.s3.amazonaws.com/Data-Eng/SQL/4.+SQL+Data+Analysis+-+Aggregations%2C+Function%2C+Flow+Control.key)\n",
    "\n",
    "Click here to open the presentation in [Powerpoint format](https://aicore-files.s3.amazonaws.com/Data-Eng/SQL/4.+SQL+Data+Analysis+-+Aggregations%2C+Function%2C+Flow+Control.pptx)"
   ]
  }
 ],
 "metadata": {
  "language_info": {
   "name": "python"
  },
  "orig_nbformat": 4
 },
 "nbformat": 4,
 "nbformat_minor": 2
}
