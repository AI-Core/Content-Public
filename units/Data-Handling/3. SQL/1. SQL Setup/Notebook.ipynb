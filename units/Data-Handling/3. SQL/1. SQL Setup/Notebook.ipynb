{
 "cells": [
  {
   "cell_type": "markdown",
   "metadata": {},
   "source": [
    "# SQL Setup\n",
    "\n",
    "This document will guide you through the PostgreSQL set up, tool that we will use for making queries. This guide specifies the steps for installing PostgreSQL and pgAdmin4, a management tool for PostgreSQL, as well as a toy dataset that you will use during this module\n"
   ]
  },
  {
   "cell_type": "markdown",
   "metadata": {},
   "source": [
    "## Prerequisites\n",
    "\n",
    "Before installing PostgreSQL and pgAdmin4, download the file containing the dataset from this [link](https://aicore-files.s3.amazonaws.com/Foundations/pagila.tar)"
   ]
  },
  {
   "cell_type": "markdown",
   "metadata": {},
   "source": [
    "## Download PostgreSQL\n"
   ]
  },
  {
   "cell_type": "markdown",
   "metadata": {},
   "source": [
    "\n",
    "<details>\n",
    "  <summary><font size=+1>For Windows and Mac users</font></summary>\n",
    "    To download it, go to this [link](https://www.enterprisedb.com/downloads/postgres-postgresql-downloads), and select the version according to your OS. Select the latest version (by the time this is written, it is version 13.3).\n",
    "\n",
    "    We will rely on the EnterpriseDB installer that provides:\n",
    "\n",
    "  - A PostgreSQL installer\n",
    "  - pgAdmin 4, the open-source PostgreSQL administration tool\n",
    "  - The Stack Builder package manager\n",
    "\n",
    "  \n",
    "\n",
    "  Open the downloaded file, and follow the steps. The following images are taken from a Windows system, but the setup wizard in Mac is almost identical.\n",
    "\n",
    "  1. The PostgreSQL setup wizard opens. Click Next to continue.\n",
    "\n",
    "  2. Accept the default installation directory and click Next to continue.\n",
    "\n",
    "\n",
    "  <p align=center><img width=500 src=images/installation_directory.png></p>\n",
    "\n",
    "  3. Select the components you want to install. We might not need the Stack Builder component, but installing it won't hurt, so tick every box and click Next\n",
    "\n",
    "  <p align=center><img width=500 src=images/select_components.png></p>\n",
    "\n",
    "  4. Accept the default location in which you wish to store the data files.\n",
    "\n",
    "  <p align=center><img width=500 src=images/data_directory.png></p>\n",
    "\n",
    "  5. Choose a password for the superuser. PostgreSQL uses the password specified for both the database superuser and the PostgreSQL service account. On note on this: PostgreSQL runs as a service in the background; the PostgreSQL service account is named postgres. If you have already created a service account with the name postgres, you must specify same password as the existing password for the postgres service account.\n",
    "  Use a password that you will remember, if you have no experience with PostgreSQL, changing the password is tough.\n",
    "  <p align=center><img width=500 src=images/password.png></p>\n",
    "\n",
    "  6. Use the default port number on which the server should listen (5432) and click Next\n",
    "\n",
    "  7. Use the default locale and click Next\n",
    "\n",
    "  8. Keep clicking Next until the 'Installing' window appears. This will take a few minutes\n",
    "\n",
    "  9. Uncheck the Stack Builder box, we don't need it now, and click Finish\n",
    "\n",
    "  For some reason the last window was in Spanish...\n",
    "\n",
    "  Now, you will be able to open pgAdmin 4, which will make our life easier for managing PostgreSQL.\n",
    "\n",
    "</details>\n",
    "\n"
   ]
  },
  {
   "cell_type": "markdown",
   "metadata": {},
   "source": [
    "<details>\n",
    "  <summary><font size=+1>For Linux users</font></summary>\n",
    "  \n",
    "  As opposed to Windows and Mac, in Linux we need to install PostgreSQL and pgadmin4 separately. To do so, we use the command line\n",
    "  \n",
    "  Let's start by downloading pgadmin4:\n",
    "  \n",
    "  1. Open your terminal and run the following commands:\n",
    "  `curl https://www.pgadmin.org/static/packages_pgadmin_org.pub | sudo apt-key add -`\n",
    "  2. Now, let's add the pgadmin repository to the list of repositories in your system `sudo sh -c 'echo \"deb https://ftp.postgresql.org/pub/pgadmin/pgadmin4/apt/focal pgadmin4 main\" > /etc/apt/sources.list.d/pgadmin4.list' `\n",
    "  3. Finally, install pgadmin4 `sudo apt update`\n",
    "  4. `sudo apt install pgadmin4 `\n",
    "\n",
    "  And that's it! Let's install PostgreSQL now:\n",
    "\n",
    "  1. Once again, open the terminal and run to get the certificates for downloading PostgreSQL: `sudo apt install wget curl ca-certificates `\n",
    "  2. Then, add the PostgreSQL to your repositories: `sudo sh -c 'echo \"deb http://apt.postgresql.org/pub/repos/apt/ focal-pgdg main\" >> /etc/apt/sources.list.d/pgdg.list'`\n",
    "  3. And now, let's install it: `sudo apt update`\n",
    "  4. `sudo apt-get install postgresql postgresql-contrib `\n",
    "\n",
    "  Easy right?\n",
    "\n",
    "  Finally, we need to set up PostgreSQL:\n",
    "\n",
    "  1. Verify that postgresql is actually working: `sudo systemctl status postgresql`. You should see something like this: \n",
    "  <p align=center><img width=600 src=images/postgre_linux_1.png></p>\n",
    "\n",
    "  2. Now, we need to establish a connection with the Postgres database. First, let's switch to the system's postgres user account: `sudo su - postgres`\n",
    "  3. And the type: `psql` to get inside the application\n",
    "  <p align=center><img width=500 src=images/postgre_linux_2.png></p>\n",
    "  4. By default, PostgreSQL creates a user named \"postgres\", but it's not protected. First, let's go back to the main terminal by running `\\q` and then `exit`\n",
    "    <p align=center><img width=400 src=images/postgre_linux_3.png></p>\n",
    "  5. And then create the password: `sudo passwd postgres` and introduce your password\n",
    "  6. Then, let's create a password for the postgres user: `su - postgres` and then, inside the postgres user run: `psql -c \"ALTER USER postgres WITH PASSWORD '<your password>';\"`\n",
    "  7. Exit postgres by running `exit` and restart the service: `sudo systemctl restart postgresql`\n",
    "  <p align=center><img width=600 src=images/postgre_linux_4.png></p>\n",
    "\n",
    "\n",
    "  Let's finish configuring by running pgadmin4:\n",
    "  1. To do so, first run `sudo /usr/pgadmin4/bin/setup-web.sh` This will ask you to create a user using your email address and a password.\n",
    "  2. Then, press 'y' to confirm that you want ot configure Apache web\n",
    "  <p align=center><img width=600 src=images/postgre_linux_5.png></p>\n",
    "  3. Now, you can open your browser and go to http://127.0.0.1/pgadmin4 and introduce your data. If for any reason it doesn't load, restart apache running: \n",
    "  `sudo systemctl restart apache2`\n",
    "  <p align=center><img width=600 src=images/postgre_linux_6.png></p>\n",
    "  4. We are about to finish. Let's create a database. Click on `Add New Server` and then add a name for your server:\n",
    "  <p align=center><img width=600 src=images/postgre_linux_7.png></p>\n",
    "  5. And then, in `host` introduce `localhost`, in username `postgres`, and finally the password you set earlier\n",
    "  <p align=center><img width=600 src=images/postgre_linux_8.png></p>\n",
    "\n",
    "  To keep going with the configuration, read how to import the Pagila database\n",
    "</details>\n",
    "\n"
   ]
  },
  {
   "cell_type": "markdown",
   "metadata": {},
   "source": [
    "\n",
    "## Import the Pagila database to pgAdmin 4\n"
   ]
  },
  {
   "cell_type": "markdown",
   "metadata": {},
   "source": [
    "\n",
    "If you are on Mac, you will find pgAdmin under the PostgreSQL folder in Applications (or open Spotlight (Cmd + space) and type pgadmin). \n",
    "\n",
    "If you are on Windows, you can find it in searching pgadmin in the start menu search bar.\n",
    "\n",
    "Once you open it, you will be prompted with the following window:\n"
   ]
  },
  {
   "cell_type": "markdown",
   "metadata": {},
   "source": [
    "\n",
    "![](images/pgadmin_welcome.png)\n",
    "\n",
    "Enter the password you introduced in step 5. Click Servers, and a new window might pop up. Introduce your password again.\n"
   ]
  },
  {
   "cell_type": "markdown",
   "metadata": {},
   "source": [
    "\n",
    "![](images/pgadmin_server.png)\n",
    "\n",
    "Now create a database by first clicking on PostgreSQL 13, and then right-clicking on Databases. Then click create, and then click Database...\n"
   ]
  },
  {
   "cell_type": "markdown",
   "metadata": {},
   "source": [
    "\n",
    "![](images/pgadmin_create_database.png)\n",
    "\n",
    "Name the database Pagila (you can give it any name) and click save.\n"
   ]
  },
  {
   "cell_type": "markdown",
   "metadata": {},
   "source": [
    "\n",
    "![](images/pgadmin_create_pagila.png)\n",
    "\n",
    "The pagila database is still empty. Let's populate it by right-clicking on the name of the database, and then clicking on Restore...\n"
   ]
  },
  {
   "cell_type": "markdown",
   "metadata": {},
   "source": [
    "\n",
    "![](images/pgadmin_restore.png)\n",
    "\n",
    "In the next window, the format should be custom or tar, and in filename, search and select the pagila.tar that you downloaded at the beginning of the notebook.\n"
   ]
  },
  {
   "cell_type": "markdown",
   "metadata": {},
   "source": [
    "\n",
    "![](images/pgadmin_pagila.png)\n",
    "\n",
    "Ignore the error that might prompt\n"
   ]
  },
  {
   "cell_type": "markdown",
   "metadata": {},
   "source": [
    "\n",
    "![](images/pgadmin_error.png)\n",
    "\n",
    "Give it a few seconds, and check that the database has been imported. Click Schemas > Public > Tables\n",
    "\n",
    "You should see something like the following image:\n"
   ]
  },
  {
   "cell_type": "markdown",
   "metadata": {},
   "source": [
    "\n",
    "![](images/pgadmin_tables.png)\n",
    "\n",
    "Now we are ready to start mastering SQL.\n"
   ]
  },
  {
   "cell_type": "markdown",
   "metadata": {},
   "source": []
  }
 ],
 "metadata": {
  "language_info": {
   "name": "python"
  },
  "orig_nbformat": 4
 },
 "nbformat": 4,
 "nbformat_minor": 2
}
