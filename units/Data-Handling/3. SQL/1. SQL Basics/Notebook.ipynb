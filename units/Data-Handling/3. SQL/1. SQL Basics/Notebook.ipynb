{
 "cells": [
  {
   "cell_type": "markdown",
   "metadata": {},
   "source": [
    "# SQL - Basics"
   ]
  },
  {
   "cell_type": "markdown",
   "metadata": {},
   "source": [
    "Many of the lessons in this module are presented in slides. \n",
    "\n",
    "Click here to open the presentation in [PDF format](https://aicore-files.s3.amazonaws.com/Data-Eng/SQL/1.+SQL+Basics.pdf)\n",
    "\n",
    "Click here to open the presentation in [Keynote format](https://aicore-files.s3.amazonaws.com/Data-Eng/SQL/1.+SQL+Basics.key)\n",
    "\n",
    "Click here to open the presentation in [Powerpoint format](https://aicore-files.s3.amazonaws.com/Data-Eng/SQL/1.+SQL+Basics.pptx)\n",
    "\n"
   ]
  }
 ],
 "metadata": {
  "language_info": {
   "name": "python"
  },
  "orig_nbformat": 4
 },
 "nbformat": 4,
 "nbformat_minor": 2
}
