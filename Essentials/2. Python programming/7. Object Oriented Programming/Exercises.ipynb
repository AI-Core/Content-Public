{
 "cells": [
  {
   "cell_type": "markdown",
   "source": [
    "## Exercise\n",
    "Here is an example for you to have a go at. Try defining a class for a cylinder. It should contain: <br>\n",
    "- 2 parameters:\n",
    "    - height\n",
    "    - radius, which should have a default value of 1\n",
    "<br><br>\n",
    "- 4 attributes:\n",
    "    - height\n",
    "    - radius\n",
    "    - surface_area, initialised as None\n",
    "    - volume, initialised as None\n",
    "<br><br>\n",
    "- 2 methods:\n",
    "    - get_surface_area: define surface_area, update attribute surface_area, return surface_area rounded to 2dp.\n",
    "    - get_volume: define volume, update attribute volume, return volume rounded to 2dp.\n",
    "<br><br>\n",
    "- Use google to find the formulae for surface area and volume of a cylinder.\n",
    "- Use the formulae to create method definitions for these."
   ],
   "metadata": {}
  },
  {
   "cell_type": "code",
   "execution_count": null,
   "source": [],
   "outputs": [],
   "metadata": {}
  }
 ],
 "metadata": {
  "interpreter": {
   "hash": "aee8b7b246df8f9039afb4144a1f6fd8d2ca17a180786b69acc140d282b71a49"
  },
  "kernelspec": {
   "display_name": "Python 3.9.6 64-bit",
   "name": "python3"
  },
  "language_info": {
   "name": "python",
   "version": ""
  },
  "orig_nbformat": 4
 },
 "nbformat": 4,
 "nbformat_minor": 2
}