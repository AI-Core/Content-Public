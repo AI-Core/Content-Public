{
 "cells": [
  {
   "cell_type": "markdown",
   "metadata": {},
   "source": [
    "# Introduction To Python"
   ]
  },
  {
   "cell_type": "markdown",
   "metadata": {},
   "source": [
    "## Prerequisites\n",
    "- Enthusiasm for and determination to learn Python for Data Science.\n",
    "- Patience... lots of patience: this is essential for learning anything, but especially coding, where literally nothing will ever go right first time."
   ]
  },
  {
   "cell_type": "markdown",
   "metadata": {},
   "source": [
    "## What is Python?\n",
    "- A coding language: a system of rules that can be used to operate a computer.\n",
    "- Dynamically typed (we will go into details later).\n",
    "- Can have many uses (networks, games, graphics, apps).\n",
    "- We are focusing on data science applications of Python.\n",
    "- Python can be used for the whole data pipeline, from data input to model validation."
   ]
  },
  {
   "cell_type": "markdown",
   "metadata": {},
   "source": [
    "## What is an IDE?\n",
    "- Integrated Development Environment: a place to write programs in a language.\n",
    "- Most famous for Python are PyCharm, Jupyter Notebook (also Spyder) and VS Code.\n",
    "- We will use Jupyter Notebook (advantages/drawbacks will be clear over time).\n",
    "- Jupyter Notebook works using cells.\n",
    "- You input your code into each cell and then run the code per cell.\n",
    "- Each cell acts as a 'mini-script' which can be executed independently of other cells.\n",
    "- The file type of a Jupyter Notebook is a __.ipynb file__ (IPython NoteBook).\n",
    "- .ipynb files cannot be opened directly by any program on your computer; rather, you have to open Jupyter Notebook first and then open the file from inside it. This is due to the structure of the file (too complicated to cover here).\n",
    "- The other common type of Python file is a .py script: this is a single file written usually in a text editor, and when it is executed, the entirety of the code runs in one go, rather than individual blocks.\n",
    "- .py scripts can be opened using any text editor including TextEdit on Mac or the equivalent on Windows (also other text editors)."
   ]
  },
  {
   "cell_type": "markdown",
   "metadata": {},
   "source": [
    "## Jupyter Notebook\n",
    "- Has many keyboard shortcuts, you will get used to them.\n",
    "- Use Esc key to use shortcuts: use Esc + H to find a list.\n",
    "- 2 main types of cell:\n",
    "    - Code: this is self-explanatory.\n",
    "    - Markdown: used to write explanatory text/titles etc in a notebook."
   ]
  },
  {
   "cell_type": "markdown",
   "metadata": {},
   "source": [
    "## Comments\n",
    "- A comment is a piece of text added to code to explain it and make it easier to understand for anyone reading who isn't the author.\n",
    "- \\# at the start of a line indicates that a line is a comment in a code cell.\n",
    "- There are 2 schools of thought on comments: some argue that comments should be used extensively, others argue they should be minimal as the code should be self-explanatory.\n",
    "- Do not be afraid of adding quite a lot of comments at first; as you get better at coding you will begin to realise what requires a comment and what doesn't.\n",
    "- Remember __readability and reproducibility are paramount__. Use this to guide your usage of comments."
   ]
  },
  {
   "cell_type": "markdown",
   "metadata": {},
   "source": [
    "## Data Types in Python\n",
    "Python can take in many data types, these include:\n",
    "- Integers (int).\n",
    "- Floating Point Numbers (float).\n",
    "- Strings (str).\n",
    "- Booleans (bool).\n",
    "- Lists (list).\n",
    "- Dictionaries (dict).\n",
    "- Tuples (tuple).\n",
    "- Sets (set).\n"
   ]
  }
 ],
 "metadata": {
  "interpreter": {
   "hash": "beedbe2faf2f7048d727558d0bc3221e7eba2a0b921cac4d4771b2feb8f74b30"
  },
  "kernelspec": {
   "display_name": "Python 3.10.2 64-bit",
   "language": "python",
   "name": "python3"
  },
  "language_info": {
   "name": "python",
   "version": "3.10.2"
  },
  "orig_nbformat": 4
 },
 "nbformat": 4,
 "nbformat_minor": 2
}
