{
 "cells": [
  {
   "cell_type": "markdown",
   "metadata": {},
   "source": [
    "## Generators"
   ]
  },
  {
   "cell_type": "markdown",
   "metadata": {},
   "source": [
    "In this lesson, we are going to take a look at Generators in Python. We will review them on the surface. The best way to learn them is that we introduce them, and then you go through the practicals and try to find as many challenges on this topic as possible. For example [here](https://github.com/IvanYingX/Challenges_AiCore.git)"
   ]
  },
  {
   "cell_type": "markdown",
   "metadata": {},
   "source": [
    "This lesson will use a folder name `utils`. If you are in Colab and don't have that folder right now, run the following code to download the folder with the examples. Remember that you can access `.py` files in Colab and modify them!"
   ]
  },
  {
   "cell_type": "code",
   "execution_count": null,
   "metadata": {},
   "outputs": [],
   "source": [
    "!wget \"https://aicore-files.s3.amazonaws.com/Foundations/Python_Programming/advanced_py.zip\"\n",
    "import zipfile\n",
    "with zipfile.ZipFile(\"advanced_py.zip\", 'r') as zip_ref:\n",
    "    zip_ref.extractall(\"utils\")"
   ]
  },
  {
   "cell_type": "markdown",
   "metadata": {},
   "source": [
    "Generators are like lists, but instead of giving you all the elements of the list, it will give you small slices of the whole list. This is helpful for:\n",
    "\n",
    "- Saving memory\n",
    "- Representing infinite lists (without buffer overflow)\n",
    "- Generate pipelines (Fibonacci or factorial)\n",
    "\n",
    "Two main ways to create generators: \n",
    "1. substituting return for yield in a function\n",
    "2. Using a comprehension"
   ]
  },
  {
   "cell_type": "markdown",
   "metadata": {},
   "source": [
    "The difference between `return` and `yield`, is that `yield` will _pause_ the function at that point, and the next time the function is called, it will _resume_ at that point"
   ]
  },
  {
   "cell_type": "code",
   "execution_count": 1,
   "metadata": {},
   "outputs": [],
   "source": [
    "def gen_test():\n",
    "    print('Starting the generator')\n",
    "    yield 1\n",
    "    print('Second time calling the generator')\n",
    "    yield 2\n",
    "    print('Third time calling the generator')\n",
    "    yield 3\n",
    "    print('Fourth time. After this, I will die if you call me again')\n",
    "    yield 4\n",
    "    print('Why do you hate me?')\n",
    "\n",
    "gen = gen_test()"
   ]
  },
  {
   "cell_type": "markdown",
   "metadata": {},
   "source": [
    "As with other variables, Python is dynamically typed, so just by observing that `yield` is a keyword, Python knows that it is a generator."
   ]
  },
  {
   "cell_type": "code",
   "execution_count": 2,
   "metadata": {},
   "outputs": [
    {
     "data": {
      "text/plain": [
       "generator"
      ]
     },
     "execution_count": 2,
     "metadata": {},
     "output_type": "execute_result"
    }
   ],
   "source": [
    "type(gen)"
   ]
  },
  {
   "cell_type": "markdown",
   "metadata": {},
   "source": [
    "Let's call for the generator, and see the output. It looks like a function right? Maybe we can try to simply use parentheses to call it."
   ]
  },
  {
   "cell_type": "code",
   "execution_count": 3,
   "metadata": {},
   "outputs": [
    {
     "ename": "TypeError",
     "evalue": "'generator' object is not callable",
     "output_type": "error",
     "traceback": [
      "\u001b[1;31m---------------------------------------------------------------------------\u001b[0m",
      "\u001b[1;31mTypeError\u001b[0m                                 Traceback (most recent call last)",
      "\u001b[1;32mc:\\Users\\admin\\Desktop\\ai-core\\Essentials\\2. Python programming\\11. Advanced Python\\1. Generators\\Notebook.ipynb Cell 11'\u001b[0m in \u001b[0;36m<module>\u001b[1;34m\u001b[0m\n\u001b[1;32m----> <a href='vscode-notebook-cell:/c%3A/Users/admin/Desktop/ai-core/Essentials/2.%20Python%20programming/11.%20Advanced%20Python/1.%20Generators/Notebook.ipynb#ch0000012?line=0'>1</a>\u001b[0m gen()\n",
      "\u001b[1;31mTypeError\u001b[0m: 'generator' object is not callable"
     ]
    }
   ],
   "source": [
    "gen()"
   ]
  },
  {
   "cell_type": "markdown",
   "metadata": {},
   "source": [
    "Oh, it looks like it's not callable... \n",
    "\n",
    "The function to make a generator start running is `next`"
   ]
  },
  {
   "cell_type": "code",
   "execution_count": 4,
   "metadata": {},
   "outputs": [
    {
     "name": "stdout",
     "output_type": "stream",
     "text": [
      "Starting the generator\n"
     ]
    },
    {
     "data": {
      "text/plain": [
       "1"
      ]
     },
     "execution_count": 4,
     "metadata": {},
     "output_type": "execute_result"
    }
   ],
   "source": [
    "next(gen)"
   ]
  },
  {
   "cell_type": "markdown",
   "metadata": {},
   "source": [
    "Let's call it again!"
   ]
  },
  {
   "cell_type": "code",
   "execution_count": 5,
   "metadata": {},
   "outputs": [
    {
     "name": "stdout",
     "output_type": "stream",
     "text": [
      "Second time calling the generator\n"
     ]
    },
    {
     "data": {
      "text/plain": [
       "2"
      ]
     },
     "execution_count": 5,
     "metadata": {},
     "output_type": "execute_result"
    }
   ],
   "source": [
    "next(gen)"
   ]
  },
  {
   "cell_type": "markdown",
   "metadata": {},
   "source": [
    "Nice, different output!"
   ]
  },
  {
   "cell_type": "code",
   "execution_count": 7,
   "metadata": {},
   "outputs": [
    {
     "name": "stdout",
     "output_type": "stream",
     "text": [
      "Third time calling the generator\n"
     ]
    },
    {
     "data": {
      "text/plain": [
       "3"
      ]
     },
     "execution_count": 7,
     "metadata": {},
     "output_type": "execute_result"
    }
   ],
   "source": [
    "next(gen)"
   ]
  },
  {
   "cell_type": "markdown",
   "metadata": {},
   "source": [
    "What happens if we keep calling `next`?"
   ]
  },
  {
   "cell_type": "code",
   "execution_count": 8,
   "metadata": {},
   "outputs": [
    {
     "name": "stdout",
     "output_type": "stream",
     "text": [
      "Fourth time. After this, I will die if you call me again\n"
     ]
    },
    {
     "data": {
      "text/plain": [
       "4"
      ]
     },
     "execution_count": 8,
     "metadata": {},
     "output_type": "execute_result"
    }
   ],
   "source": [
    "next(gen)"
   ]
  },
  {
   "cell_type": "markdown",
   "metadata": {},
   "source": [
    "Hmmm, there are no more `yield` statements... What will happen if I try to call `next` again?"
   ]
  },
  {
   "cell_type": "code",
   "execution_count": 9,
   "metadata": {},
   "outputs": [
    {
     "name": "stdout",
     "output_type": "stream",
     "text": [
      "Why do you hate me?\n"
     ]
    },
    {
     "ename": "StopIteration",
     "evalue": "",
     "output_type": "error",
     "traceback": [
      "\u001b[1;31m---------------------------------------------------------------------------\u001b[0m",
      "\u001b[1;31mStopIteration\u001b[0m                             Traceback (most recent call last)",
      "\u001b[1;32mc:\\Users\\admin\\Desktop\\ai-core\\Essentials\\2. Python programming\\11. Advanced Python\\1. Generators\\Notebook.ipynb Cell 21'\u001b[0m in \u001b[0;36m<module>\u001b[1;34m\u001b[0m\n\u001b[1;32m----> <a href='vscode-notebook-cell:/c%3A/Users/admin/Desktop/ai-core/Essentials/2.%20Python%20programming/11.%20Advanced%20Python/1.%20Generators/Notebook.ipynb#ch0000025?line=0'>1</a>\u001b[0m \u001b[39mnext\u001b[39;49m(gen)\n",
      "\u001b[1;31mStopIteration\u001b[0m: "
     ]
    }
   ],
   "source": [
    "next(gen)"
   ]
  },
  {
   "cell_type": "markdown",
   "metadata": {},
   "source": [
    "It didn't work! Well, technically it worked but it found its end, so it stopped iterating through the generator."
   ]
  },
  {
   "cell_type": "markdown",
   "metadata": {},
   "source": [
    "### Generator in loops"
   ]
  },
  {
   "cell_type": "markdown",
   "metadata": {},
   "source": [
    "Usually, generators are used in loops. A `for` loop will know when there are no more elements (or `yield` statements) to iterate through, and it will stop the loop."
   ]
  },
  {
   "cell_type": "code",
   "execution_count": 11,
   "metadata": {},
   "outputs": [],
   "source": [
    "def gen_test():\n",
    "    print('Starting the generator')\n",
    "    yield 1\n",
    "    print('Second time calling the generator')\n",
    "    yield 2\n",
    "    print('Third time calling the generator')\n",
    "    yield 3\n",
    "    print('Fourth time. After this, I will die if you call me again')\n",
    "    yield 4\n",
    "    print('Why do you hate me?')\n",
    "\n",
    "gen = gen_test()"
   ]
  },
  {
   "cell_type": "markdown",
   "metadata": {},
   "source": [
    "Let's use it as an iterable in a `for` loop."
   ]
  },
  {
   "cell_type": "code",
   "execution_count": 12,
   "metadata": {},
   "outputs": [
    {
     "name": "stdout",
     "output_type": "stream",
     "text": [
      "Starting the generator\n",
      "1\n",
      "Second time calling the generator\n",
      "2\n",
      "Third time calling the generator\n",
      "3\n",
      "Fourth time. After this, I will die if you call me again\n",
      "4\n",
      "Why do you hate me?\n"
     ]
    }
   ],
   "source": [
    "for i in gen:\n",
    "    print(i)"
   ]
  },
  {
   "cell_type": "markdown",
   "metadata": {},
   "source": [
    "Cool! So we have everything inside the generator printed out with no errors."
   ]
  },
  {
   "cell_type": "markdown",
   "metadata": {},
   "source": [
    "With this in mind, you can create infinite generators that don't take infinite space in memory!"
   ]
  },
  {
   "cell_type": "code",
   "execution_count": 13,
   "metadata": {},
   "outputs": [],
   "source": [
    "def inf_gen():\n",
    "    i = 0\n",
    "    while True:   \n",
    "        yield i\n",
    "        i += 1\n",
    "\n",
    "gen = inf_gen()"
   ]
  },
  {
   "cell_type": "markdown",
   "metadata": {},
   "source": [
    "Observe that this generator has an infinite loop inside, and it will hit the `yield` statement every time it loops.\n",
    "\n",
    "Try to run the next cell multiple times and see what happens."
   ]
  },
  {
   "cell_type": "code",
   "execution_count": 17,
   "metadata": {},
   "outputs": [
    {
     "data": {
      "text/plain": [
       "3"
      ]
     },
     "execution_count": 17,
     "metadata": {},
     "output_type": "execute_result"
    }
   ],
   "source": [
    "next(gen)  "
   ]
  },
  {
   "cell_type": "markdown",
   "metadata": {},
   "source": [
    "It is a generator that returns the numbers from 0 to infinity. Careful now, if you use it in a `for` loop, it will never stop!\n",
    "\n",
    "Try it out in the next cell!"
   ]
  },
  {
   "cell_type": "code",
   "execution_count": null,
   "metadata": {},
   "outputs": [],
   "source": [
    "# Press Ctrl + C or the stop button to stop me!\n",
    "for i in inf_gen():\n",
    "    print(i, end=' ')"
   ]
  },
  {
   "cell_type": "markdown",
   "metadata": {},
   "source": [
    "And, using this principle, you can create an infinite fibonacci generator. Whatever your generator does is up to you!"
   ]
  },
  {
   "cell_type": "code",
   "execution_count": 19,
   "metadata": {},
   "outputs": [],
   "source": [
    "# Function with yield statement:\n",
    "def gen_fib():\n",
    "    n_0 = 0\n",
    "    n_1 = 1\n",
    "    while True:\n",
    "        n_2 = n_0 + n_1\n",
    "        yield n_2\n",
    "        print('I am coming back')\n",
    "        n_0 = n_1\n",
    "        n_1 = n_2\n",
    "\n",
    "fib = gen_fib()   \n"
   ]
  },
  {
   "cell_type": "code",
   "execution_count": 20,
   "metadata": {},
   "outputs": [
    {
     "name": "stdout",
     "output_type": "stream",
     "text": [
      "1\n",
      "I am coming back\n",
      "2\n",
      "I am coming back\n",
      "3\n",
      "I am coming back\n",
      "5\n",
      "I am coming back\n",
      "8\n",
      "I am coming back\n",
      "13\n",
      "I am coming back\n",
      "21\n",
      "I am coming back\n",
      "34\n",
      "I am coming back\n",
      "55\n",
      "I am coming back\n",
      "89\n"
     ]
    }
   ],
   "source": [
    "for _ in range(10):\n",
    "    print(next(fib))"
   ]
  },
  {
   "cell_type": "markdown",
   "metadata": {},
   "source": [
    "### Generator comprehensions"
   ]
  },
  {
   "cell_type": "markdown",
   "metadata": {},
   "source": [
    "You don't need to define a function to create a generator. You can use a comprehension statement and wrap it between parentheses"
   ]
  },
  {
   "cell_type": "code",
   "execution_count": 21,
   "metadata": {},
   "outputs": [],
   "source": [
    "ls_double = [x * 2 for x in range(10)]\n",
    "ls_gen = (x * 2 for x in range(10))"
   ]
  },
  {
   "cell_type": "code",
   "execution_count": 22,
   "metadata": {},
   "outputs": [
    {
     "name": "stdout",
     "output_type": "stream",
     "text": [
      "[0, 2, 4, 6, 8, 10, 12, 14, 16, 18]\n",
      "<generator object <genexpr> at 0x00000236245EEE30>\n"
     ]
    }
   ],
   "source": [
    "print(ls_double)\n",
    "print(ls_gen)\n",
    "# print(next(ls_gen))\n",
    "# print(next(ls_gen))\n",
    "# print(next(ls_gen))"
   ]
  },
  {
   "cell_type": "markdown",
   "metadata": {},
   "source": [
    "But, similar to normal generators, if you exhaust it, it will throw an error next time you try to retrieve more data"
   ]
  },
  {
   "cell_type": "code",
   "execution_count": 23,
   "metadata": {},
   "outputs": [
    {
     "data": {
      "text/plain": [
       "0"
      ]
     },
     "execution_count": 23,
     "metadata": {},
     "output_type": "execute_result"
    }
   ],
   "source": [
    "next(ls_gen)"
   ]
  },
  {
   "cell_type": "code",
   "execution_count": 24,
   "metadata": {},
   "outputs": [
    {
     "name": "stdout",
     "output_type": "stream",
     "text": [
      "2\n",
      "4\n",
      "6\n",
      "8\n",
      "10\n",
      "12\n",
      "14\n",
      "16\n",
      "18\n"
     ]
    }
   ],
   "source": [
    "for i in ls_gen:\n",
    "    print(i)"
   ]
  }
 ],
 "metadata": {
  "interpreter": {
   "hash": "beedbe2faf2f7048d727558d0bc3221e7eba2a0b921cac4d4771b2feb8f74b30"
  },
  "kernelspec": {
   "display_name": "Python 3.10.2 64-bit",
   "language": "python",
   "name": "python3"
  },
  "language_info": {
   "codemirror_mode": {
    "name": "ipython",
    "version": 3
   },
   "file_extension": ".py",
   "mimetype": "text/x-python",
   "name": "python",
   "nbconvert_exporter": "python",
   "pygments_lexer": "ipython3",
   "version": "3.10.2"
  },
  "orig_nbformat": 4
 },
 "nbformat": 4,
 "nbformat_minor": 2
}
