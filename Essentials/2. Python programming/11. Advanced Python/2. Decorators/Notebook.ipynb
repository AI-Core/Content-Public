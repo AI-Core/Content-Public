{
 "cells": [
  {
   "cell_type": "markdown",
   "metadata": {},
   "source": [
    "## Decorators\n"
   ]
  },
  {
   "cell_type": "markdown",
   "metadata": {},
   "source": [
    "In this lesson, we are going to take a look at Decorators in Python. We will review them on the surface. The best way to learn them is that we introduce them, and then you go through the practicals and try to find as many challenges on this topic as possible. For example [here](https://github.com/IvanYingX/Challenges_AiCore.git)"
   ]
  },
  {
   "cell_type": "markdown",
   "metadata": {},
   "source": [
    "This lesson will use a folder name `utils`. If you are in Colab and don't have that folder right now, run the following code to download the folder with the examples. Remember that you can access `.py` files in Colab and modify them!"
   ]
  },
  {
   "cell_type": "code",
   "execution_count": null,
   "metadata": {},
   "outputs": [],
   "source": [
    "!wget \"https://aicore-files.s3.amazonaws.com/Foundations/Python_Programming/advanced_py.zip\"\n",
    "import zipfile\n",
    "with zipfile.ZipFile(\"advanced_py.zip\", 'r') as zip_ref:\n",
    "    zip_ref.extractall(\"utils\")"
   ]
  },
  {
   "cell_type": "markdown",
   "metadata": {},
   "source": [
    "To understand decorators, you should understand that inner functions also exist"
   ]
  },
  {
   "cell_type": "code",
   "execution_count": 1,
   "metadata": {},
   "outputs": [
    {
     "name": "stdout",
     "output_type": "stream",
     "text": [
      "<function caller.<locals>.first_child at 0x00000245E006ACB0>\n"
     ]
    }
   ],
   "source": [
    "def caller(num):\n",
    "\n",
    "    def first_child():\n",
    "        print('I am being called')\n",
    "        return \"I am the first child\"\n",
    "\n",
    "    def second_child():\n",
    "        return \"I am the second child\"\n",
    "\n",
    "    if num == 1:\n",
    "        return first_child\n",
    "    else:\n",
    "        return second_child\n",
    "\n",
    "\n",
    "print(caller(1))"
   ]
  },
  {
   "cell_type": "markdown",
   "metadata": {},
   "source": [
    "Observe the output above. It is returning a function rather than a string or a number. Try to follow the flow of the code and see what happens.\n",
    "\n",
    "1. We call for caller giving the argument a value of 1\n",
    "2. Then, INSIDE the function, we define two functions: first_child and second_child. But we don't call them yet! so nothing within them is executed.\n",
    "3. We keep executing the caller function, and trigger the if statement that checks if the argument is 1.\n",
    "4. We return the function, but JUST the function, not the result of the function."
   ]
  },
  {
   "cell_type": "markdown",
   "metadata": {},
   "source": [
    "With that in mind, let's see decorators. \n",
    "\n",
    "> <font size=+1>Decorators extend the functionality of a function.</font>"
   ]
  },
  {
   "cell_type": "markdown",
   "metadata": {},
   "source": [
    "Let's see an example. First we define a function with a nested function. The name of the outer function is something we can decide to suit whatever we are going to use the decorator for. But, as a convention, the inner function is called `wrapper`.\n",
    "\n",
    "In this case, we have a function that takes as an argument another function. The inner function is defined but not called! and after that, the inner function is returned."
   ]
  },
  {
   "cell_type": "code",
   "execution_count": 2,
   "metadata": {},
   "outputs": [],
   "source": [
    "def my_decorator(func):\n",
    "    def wrapper():\n",
    "        print(\"I come before the function!\")\n",
    "        func()\n",
    "        print(\"I come after the function!\")\n",
    "    return wrapper\n",
    "\n",
    "def say_truth():\n",
    "    print(f'Epstein didn\\'t kill himself')"
   ]
  },
  {
   "cell_type": "markdown",
   "metadata": {},
   "source": [
    "So, if we call for the outer function, we get the inner function (but not its result!)."
   ]
  },
  {
   "cell_type": "code",
   "execution_count": 3,
   "metadata": {},
   "outputs": [
    {
     "data": {
      "text/plain": [
       "<function __main__.my_decorator.<locals>.wrapper()>"
      ]
     },
     "execution_count": 3,
     "metadata": {},
     "output_type": "execute_result"
    }
   ],
   "source": [
    "my_decorator(say_truth)"
   ]
  },
  {
   "cell_type": "markdown",
   "metadata": {},
   "source": [
    "Observe the output: `<function __main__.my_decorator.<locals>.wrapper()>`. This means that the output of the outer function is the inner function (I know, it sounds weird, but it is correct).\n",
    "\n",
    "Let's assign that function to a variable, and then call it"
   ]
  },
  {
   "cell_type": "code",
   "execution_count": 4,
   "metadata": {},
   "outputs": [
    {
     "name": "stdout",
     "output_type": "stream",
     "text": [
      "I come before the function!\n",
      "Epstein didn't kill himself\n",
      "I come after the function!\n"
     ]
    }
   ],
   "source": [
    "my_func = my_decorator(say_truth)\n",
    "my_func()"
   ]
  },
  {
   "cell_type": "markdown",
   "metadata": {},
   "source": [
    "Now, the output of the inner function is printed! Basically, `my_func` contained the information about `wrapper` and `say_truth`, so once called, we could see how `wrapper` interacted with `say_truth`."
   ]
  },
  {
   "cell_type": "markdown",
   "metadata": {},
   "source": [
    "Let's use the same decorator with another function."
   ]
  },
  {
   "cell_type": "code",
   "execution_count": 5,
   "metadata": {},
   "outputs": [],
   "source": [
    "def wave():\n",
    "    print('Hello, world!')"
   ]
  },
  {
   "cell_type": "code",
   "execution_count": 6,
   "metadata": {},
   "outputs": [
    {
     "name": "stdout",
     "output_type": "stream",
     "text": [
      "I come before the function!\n",
      "Hello, world!\n",
      "I come after the function!\n"
     ]
    }
   ],
   "source": [
    "my_wave_func = my_decorator(wave)\n",
    "my_wave_func()"
   ]
  },
  {
   "cell_type": "markdown",
   "metadata": {},
   "source": [
    "Observe that `my_wave_func` contains information about `wrapper` and `wave`, meaning that we are able to see how `wrapper` interacts with `wave`."
   ]
  },
  {
   "cell_type": "markdown",
   "metadata": {},
   "source": [
    "### Decorators with Arguments"
   ]
  },
  {
   "cell_type": "markdown",
   "metadata": {},
   "source": [
    "So far, we have seen decorators that take no arguments. But what if we want to pass arguments to the decorator? Let's see what happens if to the current decorator, we pass a function with an argument."
   ]
  },
  {
   "cell_type": "code",
   "execution_count": 7,
   "metadata": {},
   "outputs": [],
   "source": [
    "def say_hello(name):\n",
    "    print(f'Hello, {name}!')"
   ]
  },
  {
   "cell_type": "code",
   "execution_count": 8,
   "metadata": {},
   "outputs": [],
   "source": [
    "my_hello_func = my_decorator(say_hello)"
   ]
  },
  {
   "cell_type": "markdown",
   "metadata": {},
   "source": [
    "Cool! So far so good, no errors, let's try calling it."
   ]
  },
  {
   "cell_type": "code",
   "execution_count": 9,
   "metadata": {},
   "outputs": [
    {
     "name": "stdout",
     "output_type": "stream",
     "text": [
      "I come before the function!\n"
     ]
    },
    {
     "ename": "TypeError",
     "evalue": "say_hello() missing 1 required positional argument: 'name'",
     "output_type": "error",
     "traceback": [
      "\u001b[1;31m---------------------------------------------------------------------------\u001b[0m",
      "\u001b[1;31mTypeError\u001b[0m                                 Traceback (most recent call last)",
      "\u001b[1;32mc:\\Users\\admin\\Desktop\\ai-core\\Essentials\\2. Python programming\\11. Advanced Python\\2. Decorators\\Notebook.ipynb Cell 25'\u001b[0m in \u001b[0;36m<module>\u001b[1;34m\u001b[0m\n\u001b[1;32m----> <a href='vscode-notebook-cell:/c%3A/Users/admin/Desktop/ai-core/Essentials/2.%20Python%20programming/11.%20Advanced%20Python/2.%20Decorators/Notebook.ipynb#ch0000026?line=0'>1</a>\u001b[0m my_hello_func()\n",
      "\u001b[1;32mc:\\Users\\admin\\Desktop\\ai-core\\Essentials\\2. Python programming\\11. Advanced Python\\2. Decorators\\Notebook.ipynb Cell 10'\u001b[0m in \u001b[0;36mmy_decorator.<locals>.wrapper\u001b[1;34m()\u001b[0m\n\u001b[0;32m      <a href='vscode-notebook-cell:/c%3A/Users/admin/Desktop/ai-core/Essentials/2.%20Python%20programming/11.%20Advanced%20Python/2.%20Decorators/Notebook.ipynb#ch0000011?line=1'>2</a>\u001b[0m \u001b[39mdef\u001b[39;00m \u001b[39mwrapper\u001b[39m():\n\u001b[0;32m      <a href='vscode-notebook-cell:/c%3A/Users/admin/Desktop/ai-core/Essentials/2.%20Python%20programming/11.%20Advanced%20Python/2.%20Decorators/Notebook.ipynb#ch0000011?line=2'>3</a>\u001b[0m     \u001b[39mprint\u001b[39m(\u001b[39m\"\u001b[39m\u001b[39mI come before the function!\u001b[39m\u001b[39m\"\u001b[39m)\n\u001b[1;32m----> <a href='vscode-notebook-cell:/c%3A/Users/admin/Desktop/ai-core/Essentials/2.%20Python%20programming/11.%20Advanced%20Python/2.%20Decorators/Notebook.ipynb#ch0000011?line=3'>4</a>\u001b[0m     func()\n\u001b[0;32m      <a href='vscode-notebook-cell:/c%3A/Users/admin/Desktop/ai-core/Essentials/2.%20Python%20programming/11.%20Advanced%20Python/2.%20Decorators/Notebook.ipynb#ch0000011?line=4'>5</a>\u001b[0m     \u001b[39mprint\u001b[39m(\u001b[39m\"\u001b[39m\u001b[39mI come after the function!\u001b[39m\u001b[39m\"\u001b[39m)\n",
      "\u001b[1;31mTypeError\u001b[0m: say_hello() missing 1 required positional argument: 'name'"
     ]
    }
   ],
   "source": [
    "my_hello_func()"
   ]
  },
  {
   "cell_type": "markdown",
   "metadata": {},
   "source": [
    "Can you see what happened? The output prints `I come before the function` but then it throws an error. Remember that `func()` is the function we passed to the decorator, in this case, `say_hello`, which in turn, expects an argument. In other words, it's like we had this inside `my_decorator`:\n",
    "\n",
    "``` python\n",
    "    def wrapper():\n",
    "        print(\"I come before the function!\")\n",
    "        say_hello()\n",
    "        print(\"I come after the function!\")\n",
    "```\n",
    "\n",
    "But `say_hello` needs an argument, so we get an error."
   ]
  },
  {
   "cell_type": "markdown",
   "metadata": {},
   "source": [
    "Thus, what we can do is to write the decorator to expect an argument from the caller"
   ]
  },
  {
   "cell_type": "code",
   "execution_count": 10,
   "metadata": {},
   "outputs": [],
   "source": [
    "def my_decorator(func):\n",
    "    def wrapper():\n",
    "        print(\"I come before the function!\")\n",
    "        func(name)\n",
    "        print(\"I come after the function!\")\n",
    "    return wrapper\n",
    "\n",
    "my_hello_func = my_decorator(say_hello)"
   ]
  },
  {
   "cell_type": "markdown",
   "metadata": {},
   "source": [
    "Hmmm, something looks wrong. Let's see what happens if we try to run it"
   ]
  },
  {
   "cell_type": "code",
   "execution_count": 11,
   "metadata": {},
   "outputs": [
    {
     "name": "stdout",
     "output_type": "stream",
     "text": [
      "I come before the function!\n"
     ]
    },
    {
     "ename": "NameError",
     "evalue": "name 'name' is not defined",
     "output_type": "error",
     "traceback": [
      "\u001b[1;31m---------------------------------------------------------------------------\u001b[0m",
      "\u001b[1;31mNameError\u001b[0m                                 Traceback (most recent call last)",
      "\u001b[1;32mc:\\Users\\admin\\Desktop\\ai-core\\Essentials\\2. Python programming\\11. Advanced Python\\2. Decorators\\Notebook.ipynb Cell 30'\u001b[0m in \u001b[0;36m<module>\u001b[1;34m\u001b[0m\n\u001b[1;32m----> <a href='vscode-notebook-cell:/c%3A/Users/admin/Desktop/ai-core/Essentials/2.%20Python%20programming/11.%20Advanced%20Python/2.%20Decorators/Notebook.ipynb#ch0000031?line=0'>1</a>\u001b[0m my_hello_func()\n",
      "\u001b[1;32mc:\\Users\\admin\\Desktop\\ai-core\\Essentials\\2. Python programming\\11. Advanced Python\\2. Decorators\\Notebook.ipynb Cell 28'\u001b[0m in \u001b[0;36mmy_decorator.<locals>.wrapper\u001b[1;34m()\u001b[0m\n\u001b[0;32m      <a href='vscode-notebook-cell:/c%3A/Users/admin/Desktop/ai-core/Essentials/2.%20Python%20programming/11.%20Advanced%20Python/2.%20Decorators/Notebook.ipynb#ch0000029?line=1'>2</a>\u001b[0m \u001b[39mdef\u001b[39;00m \u001b[39mwrapper\u001b[39m():\n\u001b[0;32m      <a href='vscode-notebook-cell:/c%3A/Users/admin/Desktop/ai-core/Essentials/2.%20Python%20programming/11.%20Advanced%20Python/2.%20Decorators/Notebook.ipynb#ch0000029?line=2'>3</a>\u001b[0m     \u001b[39mprint\u001b[39m(\u001b[39m\"\u001b[39m\u001b[39mI come before the function!\u001b[39m\u001b[39m\"\u001b[39m)\n\u001b[1;32m----> <a href='vscode-notebook-cell:/c%3A/Users/admin/Desktop/ai-core/Essentials/2.%20Python%20programming/11.%20Advanced%20Python/2.%20Decorators/Notebook.ipynb#ch0000029?line=3'>4</a>\u001b[0m     func(name)\n\u001b[0;32m      <a href='vscode-notebook-cell:/c%3A/Users/admin/Desktop/ai-core/Essentials/2.%20Python%20programming/11.%20Advanced%20Python/2.%20Decorators/Notebook.ipynb#ch0000029?line=4'>5</a>\u001b[0m     \u001b[39mprint\u001b[39m(\u001b[39m\"\u001b[39m\u001b[39mI come after the function!\u001b[39m\u001b[39m\"\u001b[39m)\n",
      "\u001b[1;31mNameError\u001b[0m: name 'name' is not defined"
     ]
    }
   ],
   "source": [
    "my_hello_func()"
   ]
  },
  {
   "cell_type": "markdown",
   "metadata": {},
   "source": [
    "Right! The function is in the local scope, and it doesn't know any variable called `name`. Thus, we need to pass `name` to the wrapper"
   ]
  },
  {
   "cell_type": "code",
   "execution_count": 12,
   "metadata": {},
   "outputs": [],
   "source": [
    "def my_decorator(func):\n",
    "    def wrapper(name):\n",
    "        print(\"I come before the function!\")\n",
    "        func(name)\n",
    "        print(\"I come after the function!\")\n",
    "    return wrapper\n",
    "\n",
    "my_hello_func = my_decorator(say_hello)"
   ]
  },
  {
   "cell_type": "code",
   "execution_count": 13,
   "metadata": {},
   "outputs": [
    {
     "name": "stdout",
     "output_type": "stream",
     "text": [
      "I come before the function!\n",
      "Hello, Ivan!\n",
      "I come after the function!\n"
     ]
    }
   ],
   "source": [
    "my_hello_func('Ivan')"
   ]
  },
  {
   "cell_type": "markdown",
   "metadata": {},
   "source": [
    "Good! Now it looks like it's working fine. Observe that in the last call, we pass `Ivan` as an argument, because remember that `my_hello_func` is the `wrapper` with information of `say_hello`, and `wrapper` now needs and argument"
   ]
  },
  {
   "cell_type": "markdown",
   "metadata": {},
   "source": [
    "Ok, so, why is this useful? Well, we can use it to pass arguments to the function. For example, we can pass a name to the function, and then we can use that name to greet the user. Or something that might be more useful, we can measure the time it takes for a function to execute."
   ]
  },
  {
   "cell_type": "code",
   "execution_count": 14,
   "metadata": {},
   "outputs": [
    {
     "name": "stdout",
     "output_type": "stream",
     "text": [
      "<function my_timer.<locals>.wrapper at 0x00000245E1C1C5E0>\n"
     ]
    }
   ],
   "source": [
    "import time\n",
    "\n",
    "def my_timer(func):\n",
    "    def wrapper():\n",
    "        time_0 = time.time()\n",
    "        func()\n",
    "        time_1 = time.time()\n",
    "        print(f'It took {time_1 - time_0} second to run')\n",
    "    return wrapper\n",
    "\n",
    "\n",
    "def dummy_fun():\n",
    "    for _ in range(50000000):\n",
    "        x = 'I am just losing your time'\n",
    "    return x\n",
    "\n",
    "time_exec = my_timer(dummy_fun)\n",
    "print(time_exec)"
   ]
  },
  {
   "cell_type": "markdown",
   "metadata": {},
   "source": [
    "Good, so we have a wrapper that can measure the time it takes to execute a function. Let's call it!"
   ]
  },
  {
   "cell_type": "code",
   "execution_count": 15,
   "metadata": {},
   "outputs": [
    {
     "name": "stdout",
     "output_type": "stream",
     "text": [
      "It took 3.9159905910491943 second to run\n"
     ]
    }
   ],
   "source": [
    "time_exec()"
   ]
  },
  {
   "cell_type": "markdown",
   "metadata": {},
   "source": [
    "But an even cooler thing you can do is this syntactic sugar offered by Python. You can decorate a function by adding `@` when defining the function"
   ]
  },
  {
   "cell_type": "code",
   "execution_count": 16,
   "metadata": {},
   "outputs": [
    {
     "name": "stdout",
     "output_type": "stream",
     "text": [
      "It took 3.310981512069702 second to run\n"
     ]
    }
   ],
   "source": [
    "@my_timer\n",
    "def dummy_fun():\n",
    "    for _ in range(50000000):\n",
    "        x = 'I am just losing your time'\n",
    "\n",
    "dummy_fun()"
   ]
  },
  {
   "cell_type": "markdown",
   "metadata": {},
   "source": [
    "### Multiple Arguments in a Decorator"
   ]
  },
  {
   "cell_type": "markdown",
   "metadata": {},
   "source": [
    "So we have just seen that you can extend the functionality of a function using decorators. But what if we want to extend it with multiple arguments? We don't know what functions our decorator is going to wrap, so there might be one or many arguments. What can we do?\n",
    "\n",
    "The key is in these two guys *args **kwargs"
   ]
  },
  {
   "cell_type": "code",
   "execution_count": 17,
   "metadata": {},
   "outputs": [
    {
     "name": "stdout",
     "output_type": "stream",
     "text": [
      "Hello Ivan\n",
      "Hello Ivan\n"
     ]
    }
   ],
   "source": [
    "def repeat(func):\n",
    "    def wrapper(*args, **kwargs):\n",
    "        func(*args, **kwargs)\n",
    "        func(*args, **kwargs)\n",
    "    return wrapper\n",
    "\n",
    "def say_hi(name):\n",
    "    print(f'Hello {name}')\n",
    "    return 1\n",
    "\n",
    "repeat(say_hi)('Ivan')"
   ]
  },
  {
   "cell_type": "markdown",
   "metadata": {},
   "source": [
    "### `Return` statement in the wrapper\n",
    "\n",
    "Imagine that we want to return something from the decorated function.\n",
    "\n",
    "Let's define a small function: factorial, that returns the factorial of a number. (The factorial of a number is the product of all the numbers from 1 to that number)"
   ]
  },
  {
   "cell_type": "code",
   "execution_count": 18,
   "metadata": {},
   "outputs": [
    {
     "name": "stdout",
     "output_type": "stream",
     "text": [
      "120\n"
     ]
    }
   ],
   "source": [
    "def factorial(n):\n",
    "    previous = 1\n",
    "    for i in range(1, n + 1):\n",
    "        previous *= i \n",
    "    return previous\n",
    "\n",
    "print(factorial(5))"
   ]
  },
  {
   "cell_type": "markdown",
   "metadata": {},
   "source": [
    "Let's define again a timer decorator, but in this case, the decorated function can accept any argument (so we use `*args` and `**kwargs`)"
   ]
  },
  {
   "cell_type": "code",
   "execution_count": 19,
   "metadata": {},
   "outputs": [
    {
     "name": "stdout",
     "output_type": "stream",
     "text": [
      "It took 0.0 second to run\n",
      "None\n"
     ]
    }
   ],
   "source": [
    "def my_timer(fun):\n",
    "    def wrapper(*args, **kwargs):\n",
    "        time_0 = time.time()\n",
    "        fun(*args, **kwargs)\n",
    "        time_1 = time.time()\n",
    "        print(f'It took {time_1 - time_0} second to run')\n",
    "    return wrapper\n",
    "\n",
    "\n",
    "@my_timer\n",
    "def factorial(n):\n",
    "    previous = 1\n",
    "    for i in range(1, n + 1):\n",
    "        previous *= i\n",
    "    return previous\n",
    "\n",
    "print(factorial(5))"
   ]
  },
  {
   "cell_type": "markdown",
   "metadata": {},
   "source": [
    "We are printing the message about how long it took for it to run, but we are not getting the value of factorial. That is because wrapper is not returning anything, and thus, it prints None. The solution is simply put a `return` statement. Easy, isn't it...? "
   ]
  },
  {
   "cell_type": "code",
   "execution_count": 20,
   "metadata": {},
   "outputs": [
    {
     "name": "stdout",
     "output_type": "stream",
     "text": [
      "It took 0.0 second to run\n",
      "120\n"
     ]
    }
   ],
   "source": [
    "def my_timer(fun):\n",
    "    def wrapper(*args, **kwargs):\n",
    "        time_0 = time.time()\n",
    "        output = fun(*args, **kwargs)\n",
    "        time_1 = time.time()\n",
    "        print(f'It took {time_1 - time_0} second to run')\n",
    "        return output\n",
    "    return wrapper\n",
    "\n",
    "\n",
    "@my_timer\n",
    "def factorial(n):\n",
    "    previous = 1\n",
    "    for i in range(1, n + 1):\n",
    "        previous *= i\n",
    "    return previous\n",
    "\n",
    "print(factorial(5))"
   ]
  },
  {
   "cell_type": "markdown",
   "metadata": {},
   "source": [
    "### Classmethods and Staticmethods\n",
    "\n",
    "Two often used decorators are classmethods and staticmethods. They add functionality to methods\n",
    "\n",
    "classmethod must have a reference to a class object instead of an instance, whereas static methods doesn't point to an instance or a class (however they are bound to the class, so you have to call it from that class or from an instance of that class)"
   ]
  },
  {
   "cell_type": "markdown",
   "metadata": {},
   "source": [
    "Let's observe an example where we use classmethod and staticmethod. We define a class `Date` which we can initialize with three numbers: day, month and year. It also has a method `get_date` that returns the date in a string format."
   ]
  },
  {
   "cell_type": "code",
   "execution_count": 21,
   "metadata": {},
   "outputs": [
    {
     "name": "stdout",
     "output_type": "stream",
     "text": [
      "The date is 19/5\n"
     ]
    }
   ],
   "source": [
    "class Date:\n",
    "\n",
    "    def __init__(self, day=0, month=0, year=0):\n",
    "        self.day = day\n",
    "        self.month = month\n",
    "        self.year = year\n",
    "    \n",
    "    def get_date(self):\n",
    "        print(f'The date is {self.day}/{self.month}')\n",
    "\n",
    "date = Date(19, 5, 1991)\n",
    "date.get_date()"
   ]
  },
  {
   "cell_type": "markdown",
   "metadata": {},
   "source": [
    "Nothing fancy so far. Let's add a classmethod to `Date`\n",
    "\n",
    "> <font size=+1>Classmethods are used to create methods that don't depend on the instance but on the class</font>\n",
    "\n",
    "This means that the classmethod can be called without an instance of the class. Actually, when a method is a classmethod it will be called before the `__init__` method\n",
    "\n",
    "Ok, that is cool, but why would we want to do that? Well, imagine that you want to create an instance of `Date` that directly tells you the current date. You can do that by calling a classmethod that returns the current date, and you don't have to pass any input.\n",
    "\n",
    "The syntax of a classmethod is:\n",
    "```\n",
    "@classmethod\n",
    "def method_name(cls, *args, **kwargs):\n",
    "    # do something\n",
    "    return something\n",
    "```"
   ]
  },
  {
   "cell_type": "markdown",
   "metadata": {},
   "source": [
    "Important! Notice that the first argument of the classmethod is the class itself, not an instance of the class. So we don't use `self`, but instead `cls`."
   ]
  },
  {
   "cell_type": "code",
   "execution_count": 22,
   "metadata": {},
   "outputs": [],
   "source": [
    "import datetime\n",
    "\n",
    "class Date:\n",
    "    \n",
    "    def __init__(self, day=0, month=0, year=0):\n",
    "        print('__init__ method called!')\n",
    "        self.day = day\n",
    "        self.month = month\n",
    "        self.year = year\n",
    "\n",
    "    def get_date(self):\n",
    "        print(f'The date is {self.day}/{self.month}')\n",
    "\n",
    "    @classmethod\n",
    "    def today(cls):\n",
    "        print('Classmethod called!')\n",
    "        today = datetime.date.today()\n",
    "        day = today.day\n",
    "        month = today.month\n",
    "        year = today.year\n",
    "        print('I am about to call the __init__ method')\n",
    "        return cls(day, month, year)"
   ]
  },
  {
   "cell_type": "markdown",
   "metadata": {},
   "source": [
    "Observe the code above, (I just added a few of print statements to make it easier to understand). We are creating a classmethod that returns the current date, first by calculating the current date, and then, the method is calling for the constructor of the class `Date` with the arguments we calculated."
   ]
  },
  {
   "cell_type": "markdown",
   "metadata": {},
   "source": [
    "We instansiate a class `Date` using its classmethod like this: (Observe what is printed out and compare the output to follow the flow of the code)"
   ]
  },
  {
   "cell_type": "code",
   "execution_count": 23,
   "metadata": {},
   "outputs": [
    {
     "name": "stdout",
     "output_type": "stream",
     "text": [
      "Classmethod called!\n",
      "I am about to call the __init__ method\n",
      "__init__ method called!\n"
     ]
    }
   ],
   "source": [
    "current_date = Date.today()"
   ]
  },
  {
   "cell_type": "code",
   "execution_count": 24,
   "metadata": {},
   "outputs": [
    {
     "name": "stdout",
     "output_type": "stream",
     "text": [
      "The date is 15/5\n"
     ]
    }
   ],
   "source": [
    "current_date.get_date()"
   ]
  },
  {
   "cell_type": "markdown",
   "metadata": {},
   "source": [
    "### Staticmethods"
   ]
  },
  {
   "cell_type": "markdown",
   "metadata": {},
   "source": [
    "> <font size=+1>Staticmethods are methods that are not bound to an instance or a class.</font>"
   ]
  },
  {
   "cell_type": "markdown",
   "metadata": {},
   "source": [
    "This means that we DON'T need the `self` or `cls` arguments, because anything we pass to the staticmethod won't depend on the instance or the class.\n",
    "\n",
    "Same as classmethods, we can define staticmethods like this:\n",
    "```\n",
    "@staticmethod\n",
    "def method_name(*args, **kwargs):\n",
    "    # do something\n",
    "    return something\n",
    "```"
   ]
  },
  {
   "cell_type": "markdown",
   "metadata": {},
   "source": [
    "Let's define a staticmethod that returns checks if the date is valid. As you can imagine, checking if a date is valid doesn't depend on the instance or the class, so staticmethods are perfect for this."
   ]
  },
  {
   "cell_type": "code",
   "execution_count": 25,
   "metadata": {},
   "outputs": [],
   "source": [
    "class Date:\n",
    "\n",
    "    def __init__(self, day=0, month=0, year=0):\n",
    "        self.day = day\n",
    "        self.month = month\n",
    "        self.year = year\n",
    "        \n",
    "    def get_date(self):\n",
    "        print(self.day, self.month)\n",
    "\n",
    "    @classmethod\n",
    "    def today(cls):\n",
    "        today = datetime.date.today()\n",
    "        day = today.day\n",
    "        month = today.month\n",
    "        year = today.year\n",
    "        return cls(day, month, year)\n",
    "  \n",
    "    @staticmethod\n",
    "    def is_date_valid(day, month, year):\n",
    "        return day <= 31 and month <= 12 and year <= 3999"
   ]
  },
  {
   "cell_type": "markdown",
   "metadata": {},
   "source": [
    "Once again, staticmethods don't need `self` or `cls` arguments, meaning that we can call them from an instance or from the class."
   ]
  },
  {
   "cell_type": "code",
   "execution_count": 26,
   "metadata": {},
   "outputs": [
    {
     "data": {
      "text/plain": [
       "True"
      ]
     },
     "execution_count": 26,
     "metadata": {},
     "output_type": "execute_result"
    }
   ],
   "source": [
    "Date.is_date_valid(1, 1, 1)"
   ]
  },
  {
   "cell_type": "code",
   "execution_count": 27,
   "metadata": {},
   "outputs": [
    {
     "data": {
      "text/plain": [
       "True"
      ]
     },
     "execution_count": 27,
     "metadata": {},
     "output_type": "execute_result"
    }
   ],
   "source": [
    "date = Date.today()\n",
    "date.is_date_valid(1, 1, 1)"
   ]
  },
  {
   "cell_type": "markdown",
   "metadata": {},
   "source": [
    "One cool thing about this is that we can use the staticmethod inside the `__init__` method of the class `Date`, so when we pass the arguments to the constructor, we can use the staticmethod to check if the date is valid."
   ]
  },
  {
   "cell_type": "code",
   "execution_count": 28,
   "metadata": {},
   "outputs": [],
   "source": [
    "class Date:\n",
    "\n",
    "    def __init__(self, day=0, month=0, year=0):\n",
    "        if self.is_date_valid(day, month, year):\n",
    "            self.day = day\n",
    "            self.month = month\n",
    "            self.year = year\n",
    "        else:\n",
    "            raise ValueError('Invalid date!')\n",
    "        \n",
    "    def get_date(self):\n",
    "        print(self.day, self.month)\n",
    "\n",
    "    @classmethod\n",
    "    def today(cls):\n",
    "        today = datetime.date.today()\n",
    "        day = today.day\n",
    "        month = today.month\n",
    "        year = today.year\n",
    "        return cls(day, month, year)\n",
    "  \n",
    "    @staticmethod\n",
    "    def is_date_valid(day, month, year):\n",
    "        return day <= 31 and month <= 12 and year <= 3999"
   ]
  },
  {
   "cell_type": "markdown",
   "metadata": {},
   "source": [
    "If we pass a valid date, the instance will be created and no problems will appear. On the other hand, if we try to use an invalid date, Python will raise an error (ValueError)"
   ]
  },
  {
   "cell_type": "code",
   "execution_count": 29,
   "metadata": {},
   "outputs": [],
   "source": [
    "good_date = Date(19, 5, 1991)"
   ]
  },
  {
   "cell_type": "markdown",
   "metadata": {},
   "source": [
    "No problem so far"
   ]
  },
  {
   "cell_type": "code",
   "execution_count": 30,
   "metadata": {},
   "outputs": [
    {
     "ename": "ValueError",
     "evalue": "Invalid date!",
     "output_type": "error",
     "traceback": [
      "\u001b[1;31m---------------------------------------------------------------------------\u001b[0m",
      "\u001b[1;31mValueError\u001b[0m                                Traceback (most recent call last)",
      "\u001b[1;32mc:\\Users\\admin\\Desktop\\ai-core\\Essentials\\2. Python programming\\11. Advanced Python\\2. Decorators\\Notebook.ipynb Cell 73'\u001b[0m in \u001b[0;36m<module>\u001b[1;34m\u001b[0m\n\u001b[1;32m----> <a href='vscode-notebook-cell:/c%3A/Users/admin/Desktop/ai-core/Essentials/2.%20Python%20programming/11.%20Advanced%20Python/2.%20Decorators/Notebook.ipynb#ch0000075?line=0'>1</a>\u001b[0m bad_date \u001b[39m=\u001b[39m Date(\u001b[39m31\u001b[39;49m, \u001b[39m13\u001b[39;49m, \u001b[39m2021\u001b[39;49m)\n",
      "\u001b[1;32mc:\\Users\\admin\\Desktop\\ai-core\\Essentials\\2. Python programming\\11. Advanced Python\\2. Decorators\\Notebook.ipynb Cell 69'\u001b[0m in \u001b[0;36mDate.__init__\u001b[1;34m(self, day, month, year)\u001b[0m\n\u001b[0;32m      <a href='vscode-notebook-cell:/c%3A/Users/admin/Desktop/ai-core/Essentials/2.%20Python%20programming/11.%20Advanced%20Python/2.%20Decorators/Notebook.ipynb#ch0000071?line=6'>7</a>\u001b[0m     \u001b[39mself\u001b[39m\u001b[39m.\u001b[39myear \u001b[39m=\u001b[39m year\n\u001b[0;32m      <a href='vscode-notebook-cell:/c%3A/Users/admin/Desktop/ai-core/Essentials/2.%20Python%20programming/11.%20Advanced%20Python/2.%20Decorators/Notebook.ipynb#ch0000071?line=7'>8</a>\u001b[0m \u001b[39melse\u001b[39;00m:\n\u001b[1;32m----> <a href='vscode-notebook-cell:/c%3A/Users/admin/Desktop/ai-core/Essentials/2.%20Python%20programming/11.%20Advanced%20Python/2.%20Decorators/Notebook.ipynb#ch0000071?line=8'>9</a>\u001b[0m     \u001b[39mraise\u001b[39;00m \u001b[39mValueError\u001b[39;00m(\u001b[39m'\u001b[39m\u001b[39mInvalid date!\u001b[39m\u001b[39m'\u001b[39m)\n",
      "\u001b[1;31mValueError\u001b[0m: Invalid date!"
     ]
    }
   ],
   "source": [
    "bad_date = Date(31, 13, 2021)"
   ]
  },
  {
   "cell_type": "markdown",
   "metadata": {},
   "source": [
    "Pretty neat isn't it?"
   ]
  },
  {
   "cell_type": "markdown",
   "metadata": {},
   "source": []
  }
 ],
 "metadata": {
  "interpreter": {
   "hash": "beedbe2faf2f7048d727558d0bc3221e7eba2a0b921cac4d4771b2feb8f74b30"
  },
  "kernelspec": {
   "display_name": "Python 3.10.2 64-bit",
   "language": "python",
   "name": "python3"
  },
  "language_info": {
   "codemirror_mode": {
    "name": "ipython",
    "version": 3
   },
   "file_extension": ".py",
   "mimetype": "text/x-python",
   "name": "python",
   "nbconvert_exporter": "python",
   "pygments_lexer": "ipython3",
   "version": "3.10.2"
  },
  "orig_nbformat": 4
 },
 "nbformat": 4,
 "nbformat_minor": 2
}
