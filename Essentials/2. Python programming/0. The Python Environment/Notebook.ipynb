{
 "cells": [
  {
   "cell_type": "markdown",
   "metadata": {},
   "source": [
    "# Python environment\n",
    "\n",
    "## Python\n",
    "\n",
    "There are a few things Python programmers (of the AI flavour) should know and understand.\n",
    "\n",
    "Let's start with `python` itself:\n",
    "- Python files have `.py` extension\n",
    "- __No need for [shebangs](https://en.wikipedia.org/wiki/Shebang_(Unix)) (as we should use for `shell` scripts)__\n",
    "\n",
    "Running a python program is really simple, we just run the following from terminal:\n",
    "\n",
    "```bash\n",
    "python FILENAME.py\n",
    "```\n",
    "\n",
    "> There are a few flags one might set but usually we can just go with plain `python`"
   ]
  },
  {
   "cell_type": "code",
   "execution_count": null,
   "metadata": {},
   "outputs": [],
   "source": [
    "python --help"
   ]
  },
  {
   "cell_type": "markdown",
   "metadata": {},
   "source": [
    "> __WARNING:__ Depending on your OS, running `python` might either run `python3` or `python` (Python 2) as Python's executable. \n",
    "\n",
    "We can also check the `python` version we are using:"
   ]
  },
  {
   "cell_type": "code",
   "execution_count": null,
   "metadata": {},
   "outputs": [],
   "source": [
    "python --version"
   ]
  },
  {
   "cell_type": "markdown",
   "metadata": {},
   "source": [
    "We will use the newest Python version available via `conda`"
   ]
  },
  {
   "cell_type": "markdown",
   "metadata": {},
   "source": [
    "## pip\n",
    "\n",
    "> `pip` is Python's package installer\n",
    "\n",
    "A package is just a bundle of code that someone else has written.\n",
    "\n",
    "Usually we install packages from PyPI (Python Package Index), check it out [here](https://pypi.org/)\n",
    "\n",
    "Before using `pip` to install packages, we need to install it by running the following command in a bash terminal.\n",
    "\n",
    "```\n",
    "sudo apt install python3-pip\n",
    "```\n",
    "\n",
    "Installing packages is also simple:\n",
    "\n",
    "```bash\n",
    "pip install package_name\n",
    "```\n",
    "\n",
    "Usually we use only two commands:\n",
    "- `pip install`\n",
    "- `pip uninstall`"
   ]
  },
  {
   "cell_type": "code",
   "execution_count": null,
   "metadata": {},
   "outputs": [],
   "source": [
    "pip --help"
   ]
  },
  {
   "cell_type": "markdown",
   "metadata": {},
   "source": [
    "## requirements.txt\n",
    "\n",
    "> `requirements.txt` is a file which is often added to project and specifies dependencies (and their versions)\n",
    "\n",
    "Something along those lines:\n",
    "\n",
    "```\n",
    "numpy==1.14.1\n",
    "torch>=1.6.0\n",
    "torchvision>=0.6.0\n",
    "```\n",
    "\n",
    "Try to use reliable dependencies in serious projects (read a little about each and how it's maintained)\n",
    "\n",
    "> Add this file to your every project (or specify it inside `setup.py`)!\n",
    "\n",
    "\n",
    "## Versioning\n",
    "\n",
    "> When we release projects (libraries, apps etc.) we should use some versioning scheme\n",
    "\n",
    "__There are a lot of versioning schemes__, but we advise you follow __Semantic Versioning (`semver`)__, which in general looks like this:\n",
    "\n",
    "```\n",
    "MAJOR.MINOR.FIX\n",
    "```\n",
    "\n",
    "- `MAJOR` - starting from zero, every change breaks __backward compatibility__ \n",
    "- `MINOR` - new features, __backward compatibility is maintained__ (e.g. `0.1.0` code will work with `0.2.0` and the behaviour wouldn't change much)\n",
    "- `FIX` - fixing some bug(s)\n",
    "\n",
    "Some examples:\n",
    "\n",
    "- `0.1.0` - Used for initial release; zero indicates it should not be considered stable and is not in the final shape. __Use it at the beginning__\n",
    "- `0.11.4` - a lot of new features, some fixes, not yet stable\n",
    "- `1.0.2` - Way more stable than `0` major, some bug fixing for this initial stable release\n",
    "\n",
    "> Use `__version__` global variable for your projects/libraries\n",
    "\n",
    "For example, somewhere in your code like `__init__.py`:\n",
    "\n",
    "```python\n",
    "__version__ = \"0.1.0\"\n",
    "```"
   ]
  },
  {
   "cell_type": "markdown",
   "metadata": {},
   "source": [
    "## Virtual Environments\n",
    "\n",
    "> Tool which separates dependencies of different projects by creating isolating environments for it\n",
    "\n",
    "Essentially, what one does is (with every virtual environment):\n",
    "- Create it (usually one per project)\n",
    "- Activate it\n",
    "- Install necessary dependencies inside it\n",
    "- Do the necessary work (run, code the project etc.)\n",
    "\n",
    "### Why isolation is good?\n",
    "\n",
    "- Many different projects require different versions of:\n",
    "    - Python\n",
    "    - dependencies\n",
    "    - other software\n",
    "- This approach allows us to keep everything compatible\n",
    "- Easy to uninstall/change (just change specific environment)\n",
    "\n",
    "> __Use virtual environments for every project you do!__\n"
   ]
  },
  {
   "cell_type": "markdown",
   "metadata": {},
   "source": [
    "## conda\n",
    "\n",
    "> `conda` is a scientific oriented virtual environment (and package manager in one)\n",
    "\n",
    "One can install it by following installation instructions [here](https://conda.io/projects/conda/en/latest/user-guide/install/index.html).\n",
    "\n",
    "After installation, there are a couple of commands you should use for every project (__including AiCore course of course!__):\n",
    "\n",
    "- `conda create -n ENVIRONMENT_NAME` - create environment named `ENVIRONMENT_NAME`\n",
    "- `conda activate ENVIRONMENT_NAME` - enter conda environment named `ENVIRONMENT_NAME`\n",
    "- `conda list` - (__INSIDE ENVIRONMENT__) - list dependencies installed in this environment\n",
    "- `conda install [-c CHANNEL] PACKAGE` - install package from specified channel (by default it is `anaconda` channel\n",
    "\n",
    "> conda's `channels` are locations where packages are located\n",
    "\n",
    "Most widely used packages are handled by default `anaconda` channel (you don't have to specify it). For example, `numpy`:\n",
    "\n",
    "```bash\n",
    "conda install -c anaconda numpy\n",
    "```\n",
    "\n",
    "Another one is `conda-forge` where less known (but often exteremly useful!) packages are located (and created often by independent contributors)\n",
    "\n",
    "> You can find packages just by typing it's name followed by `conda`, like `numpy conda` and finding command on `anaconda` page (`numpy` [here](https://anaconda.org/anaconda/numpy))"
   ]
  },
  {
   "cell_type": "code",
   "execution_count": null,
   "metadata": {},
   "outputs": [],
   "source": [
    "conda create --help"
   ]
  },
  {
   "cell_type": "markdown",
   "metadata": {},
   "source": [
    "## Tips\n",
    "\n",
    "- `conda create -n ENVIRONMENT_NAME python=3.6` - create environment with specific Python version (some dependencies do not work with smaller/larger versions of Python)\n",
    "- __Not all packages are available via `conda`__. Quick and good workaround is to:\n",
    "    - Install `pip` inside `conda` (simply `conda install pip`)\n",
    "    - When inside the environment, run `pip install PACKAGE` and it will be inside `pip` inside `conda` \n",
    "\n",
    "## Exercise\n",
    "\n",
    "> If you have some of the steps done, feel free to skip them!\n",
    "\n",
    "- First, install `conda` environment (once again [here](https://conda.io/projects/conda/en/latest/user-guide/install/index.html)); __go for miniconda!__\n",
    "\n",
    "- Set up some useful aliases for using conda in your ~/.bashrc file (or somewhere else on Windows):\n",
    "    - `alias ccr='conda create --name'` - create `conda` environment with specific name, like `ccr AiCore`\n",
    "    - `alias ci='conda install'` - install using conda from default channel\n",
    "    - `alias cif='conda install -c conda-forge` - install using conda from `conda-forge` (non-official channel)\n",
    "    - `alias cl='conda list'` - install packages\n",
    "    - `alias crm='conda remove'` - remove package, e.g. `crm numpy`\n",
    "    - `alias crme='rm -rf $HOME/.conda/envs/*'` - __REMOVES ALL CONDA ENVIRONMENTS (WATCH OUT!)__ \n",
    "    \n",
    "- Create `conda` environment for working with AiCore's course (name them differently if you wish) named `AiCore`"
   ]
  },
  {
   "cell_type": "markdown",
   "metadata": {},
   "source": [
    "## jupyter notebook\n",
    "\n",
    "> Jupyter Notebook is a scientific environment which allows you to mix code (in many languages, usually Python) and text (written in `markdown`)\n",
    "\n",
    "- __This file is a `jupyter notebook`!__\n",
    "- The `.ipynb` extension is short for `I`nteractive `PY`thon `N`ote `B`ook.\n",
    "\n",
    "In VSCode, you just need to install the Python extension to format `.ipynb` files visually.\n",
    "\n",
    "### kernels\n",
    "\n",
    "> Kernels in jupyter notebook are specific environments (like `conda`, specific Python version or even other languages)\n",
    "\n",
    "- You can choose them by clicking `Kernel` and setting it up (restart is required)\n",
    "- It's in the top right in VSCode's notebooks. Changing kernel requires restart of the notebook (green looping arrow icon at the top)."
   ]
  },
  {
   "cell_type": "markdown",
   "metadata": {},
   "source": [
    "## Writing code\n",
    "\n",
    "Now we can work with both Python and Bash. When it comes to writing code, __readability and short code is the key!__\n",
    "\n",
    "Just look below:"
   ]
  },
  {
   "cell_type": "code",
   "execution_count": null,
   "metadata": {},
   "outputs": [],
   "source": [
    "l = [['40', '20', '10', '30'], ['20', '20', '20', '20', '20', '30', '20'], ['30', '20', '30', '50', '10', '30', '20', '20', '20'], ['100', '100'], ['100', '100', '100', '100', '100'], ['100', '100', '100', '100']]"
   ]
  },
  {
   "cell_type": "code",
   "execution_count": null,
   "metadata": {},
   "outputs": [],
   "source": [
    "l = [\n",
    "    [\"40\", \"20\", \"10\", \"30\"],\n",
    "    [\"20\", \"20\", \"20\", \"20\", \"20\", \"30\", \"20\"],\n",
    "    [\"30\", \"20\", \"30\", \"50\", \"10\", \"30\", \"20\", \"20\", \"20\"],\n",
    "    [\"100\", \"100\"],\n",
    "    [\"100\", \"100\", \"100\", \"100\", \"100\"],\n",
    "    [\"100\", \"100\", \"100\", \"100\"],\n",
    "]"
   ]
  },
  {
   "cell_type": "markdown",
   "metadata": {},
   "source": [
    "It should be clear, that the second approach is the way to go!"
   ]
  },
  {
   "cell_type": "markdown",
   "metadata": {},
   "source": [
    "## Autoformatting\n",
    "\n",
    "> Autoformatters automatically format source code so it adheres to widely spread coding style\n",
    "\n",
    "__PEP8__ is Python's code style guide (see [here](https://www.python.org/dev/peps/pep-0008/)).\n",
    "\n",
    "Luckily there is no need to remember most of that, as __autoformatters will do that for us__ (for example during fail saving (or cell saving in case of jupyter notebook)).\n",
    "\n",
    "To install extensions like this (and many more) in VSCode, you can install it from extensions.\n",
    "\n",
    "For autopep8, there is a trick to do install it in VSCode:\n",
    "\n",
    "1. Go to a cell that contains Python code. For example, the one you just saw above that defined a list\n",
    "2. Press `Shift` + `Alt` + `F` (as in `F`ormatting)\n",
    "3. Most likely, VSCode will tell you that autopep is not installed, and will ask you if you want to install it. Press `Yes`\n",
    "4. Go back to the same cell as before and press `Shift` + `Alt` + `F`\n",
    "5. You should see a new blank line at the end of the cell, which is one of the rules in pep8"
   ]
  },
  {
   "cell_type": "markdown",
   "metadata": {},
   "source": [
    "## Challenges\n",
    "\n",
    "### Assessment\n",
    "\n",
    "- What is Python's `setup.py`? Check out [here](https://stackoverflow.com/questions/1471994/what-is-setup-py)\n",
    "- What is Python's `venv`?\n",
    "- Look around and read a little bit about markdown (and how to do basic text formatting)\n",
    "- What is jupyterlab? You can use it instead of jupyter notebook\n",
    "- Use one of the two, roam around them to get a feel how to use jupyter notebooks\n",
    "- What are linters? (__remember to use them inside `IDE` different than\n",
    "- What are snippets? Add some of them if you want for quicker code writing!\n",
    "\n",
    "### Non-assessment\n",
    "\n",
    "- Configure your own `jupyter notebook` extensions (except the mandatory ones!)\n",
    "- Check out [`pipenv`](https://github.com/pypa/pipenv)\n",
    "- Check out [`pipx`](https://github.com/pipxproject/pipx)\n",
    "- Check out [`poetry`](https://python-poetry.org/)\n",
    "- Check out [`binder`](https://mybinder.org/)\n",
    "- Check out [`jupyter-themes`](https://github.com/dunovank/jupyter-themes) if you want a different look for your notebooks (install it inside `conda`!)\n",
    "- Check out [`black`](https://github.com/psf/black) autoformatter (and [jupyter-black](https://github.com/drillan/jupyter-black)) if you wish to use more opinionated formatter."
   ]
  }
 ],
 "metadata": {
  "interpreter": {
   "hash": "3d597f4c481aa0f25dceb95d2a0067e73c0966dcbd003d741d821a7208527ecf"
  },
  "kernelspec": {
   "display_name": "Python 3.9.1 64-bit ('base': conda)",
   "name": "python3"
  },
  "language_info": {
   "codemirror_mode": "shell",
   "file_extension": ".sh",
   "mimetype": "text/x-sh",
   "name": "python",
   "version": "3.9.1"
  }
 },
 "nbformat": 4,
 "nbformat_minor": 4
}
