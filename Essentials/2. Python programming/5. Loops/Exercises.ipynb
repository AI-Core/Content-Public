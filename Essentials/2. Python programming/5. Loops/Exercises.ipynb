{
 "cells": [
  {
   "cell_type": "markdown",
   "source": [
    "## Exercise 1"
   ],
   "metadata": {}
  },
  {
   "cell_type": "markdown",
   "source": [
    "Write a for loop to count how many even and odd numbers between 1 and 100."
   ],
   "metadata": {}
  },
  {
   "cell_type": "code",
   "execution_count": 1,
   "source": [
    "count_odd = 0\r\n",
    "count_even = 0\r\n",
    "\r\n",
    "# CODE HERE\r\n",
    "\r\n",
    "print(\"Number of Even Numbers: {}\".format(count_even))\r\n",
    "print(\"Number of Odd Numbers: {}\".format(count_odd))"
   ],
   "outputs": [
    {
     "output_type": "unknown",
     "data": {
      "application/vnd.code.notebook.stdout": [
       "Number of Even Numbers: 51\n",
       "Number of Odd Numbers: 50\n"
      ]
     }
    }
   ],
   "metadata": {}
  },
  {
   "cell_type": "markdown",
   "source": [
    "## Exercise 2"
   ],
   "metadata": {}
  },
  {
   "cell_type": "markdown",
   "source": [
    "Using the names dictionary and order_list shown below, write a program that fits the following conditions:\r\n",
    "- It should produce an order by adding items to receipt from order_list sequentially.\r\n",
    "- It should Print \"Current Total: £x\" with each iteration\r\n",
    "- If the order value exceeds the budget value, it should stop adding items and print \"Budget Exceeded!\".\r\n",
    "- If not, each time it adds items, it should: \r\n",
    "    - Print \"Adding *full name of item* (quantity)\".\r\n",
    "    - Subtract the price from budget.\r\n",
    "    - Add the price to running_total.\r\n",
    "- It should print out running_total, order and budget formatted into print statements (done for you)."
   ],
   "metadata": {}
  },
  {
   "cell_type": "code",
   "execution_count": 12,
   "source": [
    "order_list = [(\"tom\", 0.87, 4), \r\n",
    "         (\"sug\", 1.09, 3), \r\n",
    "         (\"ws\", 0.29, 4), \r\n",
    "         (\"juc\", 1.89, 1), \r\n",
    "         (\"fo\", 1.29, 2)]\r\n",
    "\r\n",
    "names = {\"tom\":\"Tomatoes\", \r\n",
    "         \"sug\":\"Sugar\", \r\n",
    "         \"ws\":\"Washing Sponges\", \r\n",
    "         \"juc\":\"Juice\", \r\n",
    "         \"fo\":\"Foil\"}\r\n",
    "\r\n",
    "budget = 10.00\r\n",
    "running_total = 0\r\n",
    "receipt = []\r\n",
    "\r\n",
    "### CODE HERE ###\r\n",
    "        \r\n",
    "print(\"The total for the order is: £{:5.2f}\".format(running_total))\r\n",
    "print(\"The items in the order are: {}\".format(receipt))\r\n",
    "print(\"The remaining budget is: £{:5.2f}\".format(budget))"
   ],
   "outputs": [
    {
     "output_type": "unknown",
     "data": {
      "application/vnd.code.notebook.stdout": [
       "Current Total: £ 0.00\n",
       "Adding Tomatoes (4)\n",
       "\n",
       "Current Total: £ 3.48\n",
       "Adding Sugar (3)\n",
       "\n",
       "Current Total: £ 6.75\n",
       "Adding Washing Sponges (4)\n",
       "\n",
       "Current Total: £ 7.91\n",
       "Adding Juice (1)\n",
       "\n",
       "Current Total: £ 9.80\n",
       "Budget Exceeded!\n",
       "\n",
       "The total for the order is: £ 9.80\n",
       "The items in the order are: [('Tomatoes', 4), ('Sugar', 3), ('Washing Sponges', 4), ('Juice', 1)]\n",
       "The remaining budget is: £ 0.20\n"
      ]
     }
    }
   ],
   "metadata": {}
  },
  {
   "cell_type": "markdown",
   "source": [
    "## Exercise 3"
   ],
   "metadata": {}
  },
  {
   "cell_type": "markdown",
   "source": [
    "- Create a list comprehension that squares even arguments, and adds 1 to and squares odd arguments\r\n",
    "- Test on my_list"
   ],
   "metadata": {}
  },
  {
   "cell_type": "code",
   "execution_count": 13,
   "source": [
    "my_list = [34,52,71,39,22,73,92]\r\n",
    "\r\n",
    "# CODE HERE"
   ],
   "outputs": [
    {
     "output_type": "unknown",
     "data": {
      "text/plain": [
       "[1156, 2704, 5184, 1600, 484, 5476, 8464]"
      ]
     }
    }
   ],
   "metadata": {}
  },
  {
   "cell_type": "markdown",
   "source": [
    "## Exercise 4"
   ],
   "metadata": {}
  },
  {
   "cell_type": "markdown",
   "source": [
    "Filter shop_dict using list comprehension to find only items with values of over 1.00\r\n",
    "\r\n",
    "Assign them to a list called filtered_shop by their full names, not their codes, using names_dict."
   ],
   "metadata": {}
  },
  {
   "cell_type": "code",
   "execution_count": 1,
   "source": [
    "shop_dict = {\"tom\":0.87,\r\n",
    "        \"sug\":1.09,\r\n",
    "        \"ws\":0.29,\r\n",
    "        \"cc\":1.89,\r\n",
    "        \"ccz\":1.29}\r\n",
    "\r\n",
    "names_dict = {\"tom\":\"Tomatoes\", \r\n",
    "         \"sug\":\"Sugar\", \r\n",
    "         \"ws\":\"Washing Sponges\", \r\n",
    "         \"cc\":\"Coca-Cola\", \r\n",
    "         \"ccz\":\"Coca-Cola Zero\"}\r\n",
    "\r\n",
    "# CODE HERE\r\n",
    "\r\n",
    "print(filtered_shop)"
   ],
   "outputs": [
    {
     "output_type": "unknown",
     "data": {
      "application/vnd.code.notebook.stdout": [
       "['Sugar', 'Coca-Cola', 'Coca-Cola Zero']\n"
      ]
     }
    }
   ],
   "metadata": {}
  },
  {
   "cell_type": "markdown",
   "source": [
    "## Exercise 5"
   ],
   "metadata": {}
  },
  {
   "cell_type": "markdown",
   "source": [
    "Write a program to produce the following pattern.\r\n",
    "\r\n",
    "CLUE: Use nested for loops, using one nested loop to increase in size and another to decrease."
   ],
   "metadata": {}
  },
  {
   "cell_type": "code",
   "execution_count": 1,
   "source": [
    "n=5\r\n",
    "\r\n",
    "# CODE HERE"
   ],
   "outputs": [
    {
     "output_type": "stream",
     "name": "stdout",
     "text": [
      "\n",
      "* \n",
      "* * \n",
      "* * * \n",
      "* * * * \n",
      "* * * * * \n",
      "* * * * \n",
      "* * * \n",
      "* * \n",
      "* \n"
     ]
    }
   ],
   "metadata": {}
  },
  {
   "cell_type": "markdown",
   "source": [
    "## Bonus Question"
   ],
   "metadata": {}
  },
  {
   "cell_type": "markdown",
   "source": [
    "Write a program to check whether each number from 10 to 50 is prime\r\n",
    "\r\n",
    "Your answer should take the following format:\r\n",
    "- \"x IS a prime number.\" for primes\r\n",
    "- \"x IS NOT a prime number because y is a factor of x.\" for non-primes\r\n",
    "\r\n",
    "CLUE: This is possible using a while loop nested in a for loop or using a nested for loop; if you can, try to find both."
   ],
   "metadata": {}
  },
  {
   "cell_type": "code",
   "execution_count": 8,
   "source": [
    "# CODE HERE"
   ],
   "outputs": [
    {
     "output_type": "unknown",
     "data": {
      "application/vnd.code.notebook.stdout": [
       "10 is NOT a prime number, because 2 is a factor of 10\n",
       "11 IS a prime number\n",
       "12 is NOT a prime number, because 2 is a factor of 12\n",
       "13 IS a prime number\n",
       "14 is NOT a prime number, because 2 is a factor of 14\n",
       "15 is NOT a prime number, because 3 is a factor of 15\n",
       "16 is NOT a prime number, because 2 is a factor of 16\n",
       "17 IS a prime number\n",
       "18 is NOT a prime number, because 2 is a factor of 18\n",
       "19 IS a prime number\n",
       "20 is NOT a prime number, because 2 is a factor of 20\n",
       "21 is NOT a prime number, because 3 is a factor of 21\n",
       "22 is NOT a prime number, because 2 is a factor of 22\n",
       "23 IS a prime number\n",
       "24 is NOT a prime number, because 2 is a factor of 24\n",
       "25 is NOT a prime number, because 5 is a factor of 25\n",
       "26 is NOT a prime number, because 2 is a factor of 26\n",
       "27 is NOT a prime number, because 3 is a factor of 27\n",
       "28 is NOT a prime number, because 2 is a factor of 28\n",
       "29 IS a prime number\n",
       "30 is NOT a prime number, because 2 is a factor of 30\n",
       "31 IS a prime number\n",
       "32 is NOT a prime number, because 2 is a factor of 32\n",
       "33 is NOT a prime number, because 3 is a factor of 33\n",
       "34 is NOT a prime number, because 2 is a factor of 34\n",
       "35 is NOT a prime number, because 5 is a factor of 35\n",
       "36 is NOT a prime number, because 2 is a factor of 36\n",
       "37 IS a prime number\n",
       "38 is NOT a prime number, because 2 is a factor of 38\n",
       "39 is NOT a prime number, because 3 is a factor of 39\n",
       "40 is NOT a prime number, because 2 is a factor of 40\n",
       "41 IS a prime number\n",
       "42 is NOT a prime number, because 2 is a factor of 42\n",
       "43 IS a prime number\n",
       "44 is NOT a prime number, because 2 is a factor of 44\n",
       "45 is NOT a prime number, because 3 is a factor of 45\n",
       "46 is NOT a prime number, because 2 is a factor of 46\n",
       "47 IS a prime number\n",
       "48 is NOT a prime number, because 2 is a factor of 48\n",
       "49 is NOT a prime number, because 7 is a factor of 49\n",
       "50 is NOT a prime number, because 2 is a factor of 50\n"
      ]
     }
    }
   ],
   "metadata": {}
  },
  {
   "cell_type": "code",
   "execution_count": null,
   "source": [],
   "outputs": [],
   "metadata": {}
  }
 ],
 "metadata": {
  "interpreter": {
   "hash": "66a4c1a82e4b740877da9482796a67c3d19e50649dddfb2985c1182127ae3fd0"
  },
  "kernelspec": {
   "name": "python3",
   "display_name": "Python 3.8.3 64-bit ('base': conda)"
  },
  "language_info": {
   "name": "python",
   "version": "3.8.3",
   "mimetype": "text/x-python",
   "codemirror_mode": {
    "name": "ipython",
    "version": 3
   },
   "pygments_lexer": "ipython3",
   "nbconvert_exporter": "python",
   "file_extension": ".py"
  },
  "orig_nbformat": 4
 },
 "nbformat": 4,
 "nbformat_minor": 2
}