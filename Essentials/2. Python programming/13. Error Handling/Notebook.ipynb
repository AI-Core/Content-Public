{
 "cells": [
  {
   "cell_type": "markdown",
   "metadata": {},
   "source": [
    "# 9: Error/Exception Handling"
   ]
  },
  {
   "cell_type": "markdown",
   "metadata": {},
   "source": [
    "## Learning objectives\n",
    "- Understand the nature and purpose of error and exception handling.\n",
    "- Know how to use try, except, else, finally keywords with their clauses.\n",
    "- Know how to use except clauses with specific errors.\n",
    "- Understand why it is better to except specific errors rather than all errors.\n",
    "<br><br>"
   ]
  },
  {
   "cell_type": "markdown",
   "metadata": {},
   "source": [
    "## Error/Exception Handling\n",
    "- Code does not always run smoothly as we surely all know by now: sometimes it throws errors.\n",
    "- However, when there is an error Python will stop executing the code there and then, preventing any subsequent code from running.\n",
    "- Hence, we use error and exception handling to circumvent this, and allow blocks of our code to run despite errors.\n",
    "- We will learn 3 new keywords here, __try__, __except__ and __finally__.\n",
    "<br><br>\n",
    "- try clause: this indicates the block of code we want to attempt to run, it will only finish if there are no errors.\n",
    "- except clause: if there is an error in the try clause, the execution will stop there and the except clause will be run.\n",
    "- finally clause: this is the block of code to be run regardless of any errors.\n",
    "<br><br>\n",
    "This is best seen using an example:"
   ]
  },
  {
   "cell_type": "code",
   "execution_count": 2,
   "metadata": {},
   "outputs": [
    {
     "ename": "TypeError",
     "evalue": "add_pair() takes 2 positional arguments but 3 were given",
     "output_type": "error",
     "traceback": [
      "\u001b[1;31m---------------------------------------------------------------------------\u001b[0m",
      "\u001b[1;31mTypeError\u001b[0m                                 Traceback (most recent call last)",
      "\u001b[1;32m<ipython-input-2-738842f52d1c>\u001b[0m in \u001b[0;36m<module>\u001b[1;34m\u001b[0m\n\u001b[0;32m      7\u001b[0m \u001b[1;33m\u001b[0m\u001b[0m\n\u001b[0;32m      8\u001b[0m \u001b[1;31m# this throws a TypeError, as we specified too many arguments\u001b[0m\u001b[1;33m\u001b[0m\u001b[1;33m\u001b[0m\u001b[1;33m\u001b[0m\u001b[0m\n\u001b[1;32m----> 9\u001b[1;33m \u001b[0madd_pair\u001b[0m\u001b[1;33m(\u001b[0m\u001b[1;36m1\u001b[0m\u001b[1;33m,\u001b[0m\u001b[1;36m2\u001b[0m\u001b[1;33m,\u001b[0m\u001b[1;36m3\u001b[0m\u001b[1;33m)\u001b[0m\u001b[1;33m\u001b[0m\u001b[1;33m\u001b[0m\u001b[0m\n\u001b[0m\u001b[0;32m     10\u001b[0m \u001b[1;33m\u001b[0m\u001b[0m\n\u001b[0;32m     11\u001b[0m \u001b[1;31m# this line is not executed, as the code threw an error\u001b[0m\u001b[1;33m\u001b[0m\u001b[1;33m\u001b[0m\u001b[1;33m\u001b[0m\u001b[0m\n",
      "\u001b[1;31mTypeError\u001b[0m: add_pair() takes 2 positional arguments but 3 were given"
     ]
    }
   ],
   "source": [
    "# here we define a simple adding function for two numbers\n",
    "def add_pair(x,y):\n",
    "    return x + y\n",
    "\n",
    "# this function call works\n",
    "add_pair(1,3)\n",
    "\n",
    "# this throws a TypeError, as we specified too many arguments\n",
    "add_pair(1,2,3)\n",
    "\n",
    "# this line is not executed, as the code threw an error\n",
    "add_pair(3,4)"
   ]
  },
  {
   "cell_type": "code",
   "execution_count": 3,
   "metadata": {},
   "outputs": [
    {
     "data": {
      "text/plain": [
       "7"
      ]
     },
     "execution_count": 3,
     "metadata": {},
     "output_type": "execute_result"
    }
   ],
   "source": [
    "# we can see that this would have worked, if the code had continued to run\n",
    "add_pair(3,4)"
   ]
  },
  {
   "cell_type": "code",
   "execution_count": 5,
   "metadata": {},
   "outputs": [
    {
     "name": "stdout",
     "output_type": "stream",
     "text": [
      "There is something wrong here\n"
     ]
    }
   ],
   "source": [
    "# we can get around this using a try except statement\n",
    "# execution switches to except statement if try statement throws error\n",
    "\n",
    "# define the function\n",
    "def add_pair(x,y):\n",
    "    return x + y\n",
    "\n",
    "\n",
    "try: # try the block of code\n",
    "    result = add_pair(1,2,3)\n",
    "    print(\"It worked\")\n",
    "    print(\"The result is {}\".format(result))\n",
    "\n",
    "except: # the block of code to run in case of an error\n",
    "    print(\"There is something wrong here\")"
   ]
  },
  {
   "cell_type": "code",
   "execution_count": 6,
   "metadata": {},
   "outputs": [
    {
     "name": "stdout",
     "output_type": "stream",
     "text": [
      "It worked\n",
      "The result is 4\n"
     ]
    }
   ],
   "source": [
    "# when the code executes correctly, the try statement completes\n",
    "\n",
    "def add_pair(x,y):\n",
    "    return x + y\n",
    "\n",
    "try:\n",
    "    result = add_pair(1,3)\n",
    "    print(\"It worked\")\n",
    "    print(\"The result is {}\".format(result))\n",
    "\n",
    "except:\n",
    "    print(\"There is something wrong here\")"
   ]
  },
  {
   "cell_type": "markdown",
   "metadata": {},
   "source": [
    "## Except clauses for specific errors\n",
    "- We can also add in except clauses for specific errors such as SyntaxError or TypeError (see Python documentation for a full list of errors).<br>\n",
    "- __It is almost always better to use except to get around specific errors rather than using a 'catch-all' except clause, as a general except clause can easily hide genuine errors.__\n",
    "- Check Python documentation for a full list of errors (link in Further Reading)."
   ]
  },
  {
   "cell_type": "code",
   "execution_count": 7,
   "metadata": {},
   "outputs": [
    {
     "name": "stdout",
     "output_type": "stream",
     "text": [
      "There was a type error\n"
     ]
    }
   ],
   "source": [
    "def add_pair(x,y):\n",
    "    return x + y\n",
    "\n",
    "try:\n",
    "    result = add_pair(1,2,3)\n",
    "    print(\"It worked\")\n",
    "    print(\"The result is {}\".format(result))\n",
    "\n",
    "except TypeError: # executed in case of a TypeError\n",
    "    print(\"There was a type error\")\n",
    "    \n",
    "except NameError: # executed in case of a NameError \n",
    "    print(\"You used the wrong name\")"
   ]
  },
  {
   "cell_type": "code",
   "execution_count": 8,
   "metadata": {},
   "outputs": [
    {
     "name": "stdout",
     "output_type": "stream",
     "text": [
      "You used the wrong name\n"
     ]
    }
   ],
   "source": [
    "def add_pair(x,y):\n",
    "    return x + y\n",
    "\n",
    "try: # note the spelling mistake \n",
    "    result = add_pair(1,2,3)\n",
    "    print(\"It worked\")\n",
    "    print(\"The result is {}\".format(result))\n",
    "\n",
    "except TypeError: # executed in case of a TypeError\n",
    "    print(\"There was a type error\")\n",
    "    \n",
    "except NameError: # executed in case of a NameError \n",
    "    print(\"You used the wrong name\")"
   ]
  },
  {
   "cell_type": "markdown",
   "metadata": {},
   "source": [
    "A finally clause is executed regardless of whether an error occurs or not in the try statement:"
   ]
  },
  {
   "cell_type": "code",
   "execution_count": 10,
   "metadata": {},
   "outputs": [
    {
     "name": "stdout",
     "output_type": "stream",
     "text": [
      "It worked\n",
      "The result is 4\n",
      "This block of code is ALWAYS executed\n"
     ]
    }
   ],
   "source": [
    "def add_pair(x,y):\n",
    "    return x + y\n",
    "\n",
    "try:\n",
    "    result = add_pair(1,3)\n",
    "    print(\"It worked\")\n",
    "    print(\"The result is {}\".format(result))\n",
    "\n",
    "except TypeError:\n",
    "    print(\"There was a type error\")\n",
    "    \n",
    "except NameError: \n",
    "    print(\"You used the wrong name\")\n",
    "\n",
    "finally: # executed with or without errors in try statement\n",
    "    print(\"This block of code is ALWAYS executed\")"
   ]
  },
  {
   "cell_type": "code",
   "execution_count": 11,
   "metadata": {},
   "outputs": [
    {
     "name": "stdout",
     "output_type": "stream",
     "text": [
      "There was a type error\n",
      "This block of code is ALWAYS executed\n"
     ]
    }
   ],
   "source": [
    "def add_pair(x,y):\n",
    "    return x + y\n",
    "\n",
    "try:\n",
    "    result = add_pair(1,2,3)\n",
    "    print(\"It worked\")\n",
    "    print(\"The result is {}\".format(result))\n",
    "\n",
    "except TypeError:\n",
    "    print(\"There was a type error\")\n",
    "    \n",
    "except NameError: \n",
    "    print(\"You used the wrong name\")\n",
    "\n",
    "finally: # executed with or without errors in try statement\n",
    "    print(\"This block of code is ALWAYS executed\")"
   ]
  },
  {
   "cell_type": "markdown",
   "metadata": {},
   "source": [
    "If there is an error in the finally statement, it will still throw an error after executing the try statement - Python cannot execute erroneous code:"
   ]
  },
  {
   "cell_type": "code",
   "execution_count": 14,
   "metadata": {},
   "outputs": [
    {
     "name": "stdout",
     "output_type": "stream",
     "text": [
      "It worked\n",
      "The result is 4\n",
      "This block of code is ALWAYS executed\n",
      "test\n"
     ]
    }
   ],
   "source": [
    "def add_pair(x,y):\n",
    "    return x + y\n",
    "\n",
    "try:\n",
    "    result = add_pair(1,3)\n",
    "    print(\"It worked\")\n",
    "    print(\"The result is {}\".format(result))\n",
    "\n",
    "except TypeError:\n",
    "    print(\"There was a type error\")\n",
    "    \n",
    "except NameError: \n",
    "    print(\"You used the wrong name\")\n",
    "\n",
    "finally: # executed with or without errors in try statement\n",
    "    print(\"This block of code is ALWAYS executed\")\n",
    "\n",
    "# typo means finally statement cannot execute"
   ]
  },
  {
   "cell_type": "markdown",
   "metadata": {},
   "source": [
    "## Summary\n",
    "You should now understand:\n",
    "- The nature of error and exception handling and why it is used.\n",
    "- Why it is better to except for specific errors rather than all errors.\n",
    "<br><br>\n",
    "You should now know:\n",
    "- How to use try, except, else, finally keywords.\n",
    "\n",
    "## Further reading\n",
    "- A list of all Python error types is available in the documentation:\n",
    "- https://docs.python.org/3/library/exceptions.html"
   ]
  }
 ],
 "metadata": {
  "interpreter": {
   "hash": "66a4c1a82e4b740877da9482796a67c3d19e50649dddfb2985c1182127ae3fd0"
  },
  "kernelspec": {
   "display_name": "Python 3.8.11 64-bit ('base': conda)",
   "name": "python3"
  },
  "language_info": {
   "codemirror_mode": {
    "name": "ipython",
    "version": 3
   },
   "file_extension": ".py",
   "mimetype": "text/x-python",
   "name": "python",
   "nbconvert_exporter": "python",
   "pygments_lexer": "ipython3",
   "version": "3.8.11"
  }
 },
 "nbformat": 4,
 "nbformat_minor": 4
}
