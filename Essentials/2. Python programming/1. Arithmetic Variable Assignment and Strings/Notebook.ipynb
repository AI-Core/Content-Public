{
 "cells": [
  {
   "cell_type": "markdown",
   "metadata": {},
   "source": [
    "# 1. Arithmetic, Variable Assignment and Strings"
   ]
  },
  {
   "cell_type": "markdown",
   "metadata": {},
   "source": [
    "## Prerequisites\n",
    "- Enthusiasm for and determination to learn Python for Data Science.\n",
    "- Patience... lots of patience: this is essential for learning anything, but especially coding, where literally nothing will ever go right first time.\n",
    "\n",
    "## Learning objectives\n",
    "- Understand the difference between integers and floats.\n",
    "- Understand the difference between None and int 0.\n",
    "- Know how to use Python as a calculator.\n",
    "- Know how to assign variables, and variable naming conventions.\n",
    "- Understand strings and some basic string methods including .format().\n",
    "- Know how to perform indexing and slicing."
   ]
  },
  {
   "cell_type": "markdown",
   "metadata": {},
   "source": [
    "# Introduction"
   ]
  },
  {
   "cell_type": "markdown",
   "metadata": {},
   "source": [
    "## What is Python?\n",
    "- A coding language: a system of rules that can be used to operate a computer.\n",
    "- Dynamically typed (we will go into detail later).\n",
    "- Can have many uses (networks, games, graphics, apps).\n",
    "- We are focusing on data science applications of Python.\n",
    "- Python can be used for the whole data pipeline, from data input to model validation."
   ]
  },
  {
   "cell_type": "markdown",
   "metadata": {},
   "source": [
    "## What is an IDE?\n",
    "- Integrated Development Environment: a place to write programs in a language.\n",
    "- Most famous for Python are PyCharm and Jupyter Notebook (also Spyder).\n",
    "- We will use Jupyter Notebook (advantages/drawbacks will be clear over time).\n",
    "- Jupyter Notebook works using cells.\n",
    "- You input your code into each cell and then run the code per cell.\n",
    "- Each cell acts as a 'mini-script' which can be executed independently of other cells.\n",
    "- The file type of a Jupyter Notebook is a __.ipynb file__ (IPython NoteBook).\n",
    "- .ipynb files cannot be opened directly by any program on your computer; rather, you have to open Jupyter Notebook first and then open the file from inside it. This is due to the structure of the file (too complicated to cover here).\n",
    "- The other common type of Python file is a .py script: this is a single file written usually in a text editor, and when it is executed, the entirety of the code runs in one go, rather than individual blocks.\n",
    "- .py scripts can be opened using any text editor including TextEdit on Mac or the equivalent on Windows (also other text editors)."
   ]
  },
  {
   "cell_type": "markdown",
   "metadata": {},
   "source": [
    "## Jupyter Notebook\n",
    "- Has many keyboard shortcuts, you will get used to them.\n",
    "- Use Esc key to use shortcuts: use Esc + H to find a list.\n",
    "- 2 main types of cell:\n",
    "    - Code: this is self-explanatory.\n",
    "    - Markdown: used to write explanatory text/titles etc in a notebook."
   ]
  },
  {
   "cell_type": "markdown",
   "metadata": {},
   "source": [
    "## Comments\n",
    "- A comment is a piece of text added to code to explain it and make it easier to understand for anyone reading who isn't the author.\n",
    "- \\# at the start of a line indicates that a line is a comment in a code cell.\n",
    "- There are 2 schools of thought on comments: some argue that comments should be used extensively, others argue they should be minimal as the code should be self-explanatory.\n",
    "- Do not be afraid of adding quite a lot of comments at first; as you get better at coding you will begin to realise what requires a comment and what doesn't.\n",
    "- Remember __readability and reproducibility are paramount__. Use this to guide your usage of comments."
   ]
  },
  {
   "cell_type": "markdown",
   "metadata": {},
   "source": [
    "## Data Types in Python\n",
    "Python can take in many data types, these include:\n",
    "- Integers (int).\n",
    "- Floating Point Numbers (float).\n",
    "- Strings (str).\n",
    "- Lists (list).\n",
    "- Dictionaries (dict).\n",
    "- Tuples (tuple).\n",
    "- Sets (set).\n",
    "- Booleans (bool)."
   ]
  },
  {
   "cell_type": "markdown",
   "metadata": {},
   "source": [
    "## Numbers in Python\n",
    "- Numbers in Python are of two types: \n",
    "    - Integers (int).\n",
    "    - Floating-point numbers (float).\n",
    "- Put simply: \n",
    "    - An integer is an integer.\n",
    "    - A floating-point number is any number with a decimal point.\n",
    "- The only catch with floating-point numbers is that due to the nature of floating-point calculations, they are not exactly what you expect them to be, and hence it is often better to round them."
   ]
  },
  {
   "cell_type": "markdown",
   "metadata": {},
   "source": [
    "## Arithmetic in Python\n",
    "- Arithmetic is fairly simple: we use the standard operators: \n",
    "### / * + - <br>\n",
    "- Python will follow Order of Operations (BIDMAS).\n",
    "- We use double asterisk __\\*\\*__ for powers (roots are just fractional powers).\n",
    "- Division always returns a floating-point number.\n",
    "- There are a couple of special operations:\n",
    "    - Modulo (x%y) gives the remainder of dividing x by y.\n",
    "    - Floor division (x//y) gives the result of dividing x by y rounded down to the nearest integer.\n",
    "- When using arithmetic operators, leave one space either side by convention, unless not leaving a space makes it clearer."
   ]
  },
  {
   "cell_type": "code",
   "execution_count": 3,
   "metadata": {},
   "outputs": [
    {
     "data": {
      "text/plain": [
       "3"
      ]
     },
     "execution_count": 3,
     "metadata": {},
     "output_type": "execute_result"
    }
   ],
   "source": [
    "# Addition\n",
    "2 + 1"
   ]
  },
  {
   "cell_type": "code",
   "execution_count": 4,
   "metadata": {},
   "outputs": [
    {
     "data": {
      "text/plain": [
       "1"
      ]
     },
     "execution_count": 4,
     "metadata": {},
     "output_type": "execute_result"
    }
   ],
   "source": [
    "# Subtraction\n",
    "2 - 1"
   ]
  },
  {
   "cell_type": "code",
   "execution_count": 5,
   "metadata": {},
   "outputs": [
    {
     "data": {
      "text/plain": [
       "4"
      ]
     },
     "execution_count": 5,
     "metadata": {},
     "output_type": "execute_result"
    }
   ],
   "source": [
    "# Multiplication\n",
    "2 * 2"
   ]
  },
  {
   "cell_type": "code",
   "execution_count": 1,
   "metadata": {},
   "outputs": [
    {
     "data": {
      "text/plain": [
       "10.0"
      ]
     },
     "execution_count": 1,
     "metadata": {},
     "output_type": "execute_result"
    }
   ],
   "source": [
    "# Division\n",
    "10 / 1"
   ]
  },
  {
   "cell_type": "markdown",
   "metadata": {},
   "source": [
    "# Floor Division\n",
    "7 // 4"
   ]
  },
  {
   "cell_type": "code",
   "execution_count": 7,
   "metadata": {},
   "outputs": [
    {
     "data": {
      "text/plain": [
       "3"
      ]
     },
     "execution_count": 7,
     "metadata": {},
     "output_type": "execute_result"
    }
   ],
   "source": [
    "# Modulo\n",
    "7 % 4"
   ]
  },
  {
   "cell_type": "code",
   "execution_count": 8,
   "metadata": {},
   "outputs": [
    {
     "data": {
      "text/plain": [
       "0"
      ]
     },
     "execution_count": 8,
     "metadata": {},
     "output_type": "execute_result"
    }
   ],
   "source": [
    "# If modulo 2 of a number is equal to zero, the number is even\n",
    "6 % 2"
   ]
  },
  {
   "cell_type": "code",
   "execution_count": 9,
   "metadata": {},
   "outputs": [
    {
     "data": {
      "text/plain": [
       "8"
      ]
     },
     "execution_count": 9,
     "metadata": {},
     "output_type": "execute_result"
    }
   ],
   "source": [
    "# Powers\n",
    "2 ** 3"
   ]
  },
  {
   "cell_type": "code",
   "execution_count": 11,
   "metadata": {},
   "outputs": [
    {
     "data": {
      "text/plain": [
       "2.0"
      ]
     },
     "execution_count": 11,
     "metadata": {},
     "output_type": "execute_result"
    }
   ],
   "source": [
    "# Can also do roots this way\n",
    "4 ** 0.5"
   ]
  },
  {
   "cell_type": "code",
   "execution_count": 13,
   "metadata": {},
   "outputs": [
    {
     "data": {
      "text/plain": [
       "123"
      ]
     },
     "execution_count": 13,
     "metadata": {},
     "output_type": "execute_result"
    }
   ],
   "source": [
    "# Order of Operations followed in Python\n",
    "(2 + 10) * 10 + 3"
   ]
  },
  {
   "cell_type": "code",
   "execution_count": 10,
   "metadata": {},
   "outputs": [
    {
     "data": {
      "text/plain": [
       "156"
      ]
     },
     "execution_count": 10,
     "metadata": {},
     "output_type": "execute_result"
    }
   ],
   "source": [
    "# Can use parentheses to specify orders\n",
    "(2 + 10) * (10 + 3)"
   ]
  },
  {
   "cell_type": "code",
   "execution_count": 20,
   "metadata": {},
   "outputs": [
    {
     "data": {
      "text/plain": [
       "3.3333"
      ]
     },
     "execution_count": 20,
     "metadata": {},
     "output_type": "execute_result"
    }
   ],
   "source": [
    "# use round(expression, decimal_places) to give rounded answer\n",
    "round(10/3, 4)"
   ]
  },
  {
   "cell_type": "markdown",
   "metadata": {},
   "source": [
    "### NoneType\n",
    "- We must distinguish between None and 0 here.\n",
    "- None has data type 'NoneType' and is therefore a not a value (can use as placeholder before adding values).\n",
    "- 0 is an integer, and therefore a value, this shows that we have a value, but the value is the integer 0.\n",
    "- We can see this clearly when we check the types of each"
   ]
  },
  {
   "cell_type": "code",
   "execution_count": 21,
   "metadata": {},
   "outputs": [
    {
     "data": {
      "text/plain": [
       "NoneType"
      ]
     },
     "execution_count": 21,
     "metadata": {},
     "output_type": "execute_result"
    }
   ],
   "source": [
    "type(None)"
   ]
  },
  {
   "cell_type": "code",
   "execution_count": 146,
   "metadata": {},
   "outputs": [
    {
     "data": {
      "text/plain": [
       "int"
      ]
     },
     "execution_count": 146,
     "metadata": {},
     "output_type": "execute_result"
    }
   ],
   "source": [
    "type(0)"
   ]
  },
  {
   "cell_type": "code",
   "execution_count": 24,
   "metadata": {},
   "outputs": [
    {
     "data": {
      "text/plain": [
       "1"
      ]
     },
     "execution_count": 24,
     "metadata": {},
     "output_type": "execute_result"
    }
   ],
   "source": [
    "# 0 + 1 works as they are both numbers\n",
    "0 + 1"
   ]
  },
  {
   "cell_type": "code",
   "execution_count": 27,
   "metadata": {},
   "outputs": [
    {
     "ename": "TypeError",
     "evalue": "unsupported operand type(s) for +: 'NoneType' and 'int'",
     "output_type": "error",
     "traceback": [
      "\u001b[0;31m---------------------------------------------------------------------------\u001b[0m",
      "\u001b[0;31mTypeError\u001b[0m                                 Traceback (most recent call last)",
      "\u001b[0;32m<ipython-input-27-b381659935a9>\u001b[0m in \u001b[0;36m<module>\u001b[0;34m\u001b[0m\n\u001b[1;32m      1\u001b[0m \u001b[0;31m# None + 1 throws an error, as None means there is nothing there\u001b[0m\u001b[0;34m\u001b[0m\u001b[0;34m\u001b[0m\u001b[0;34m\u001b[0m\u001b[0m\n\u001b[0;32m----> 2\u001b[0;31m \u001b[0;32mNone\u001b[0m \u001b[0;34m+\u001b[0m \u001b[0;36m1\u001b[0m\u001b[0;34m\u001b[0m\u001b[0;34m\u001b[0m\u001b[0m\n\u001b[0m",
      "\u001b[0;31mTypeError\u001b[0m: unsupported operand type(s) for +: 'NoneType' and 'int'"
     ]
    }
   ],
   "source": [
    "# None + 1 throws an error, as None means there is nothing there\n",
    "None + 1"
   ]
  },
  {
   "cell_type": "code",
   "execution_count": null,
   "metadata": {},
   "outputs": [],
   "source": []
  },
  {
   "cell_type": "markdown",
   "metadata": {},
   "source": [
    "## Variable Assignment\n",
    "- Often we want to use the same object repeatedly, and hence rather than defining it repeatedly in code we can assign a variable which we use instead.\n",
    "- This concept is called DRY coding (Don't Repeat Yourself): we will see many examples of this throughout.\n",
    "- We assign variables by using the equals sign __=__ in Python\n",
    "- Variables are named using the following guidelines:"
   ]
  },
  {
   "cell_type": "code",
   "execution_count": 2,
   "metadata": {},
   "outputs": [
    {
     "ename": "SyntaxError",
     "evalue": "cannot assign to operator (<ipython-input-2-ae2623f81281>, line 1)",
     "output_type": "error",
     "traceback": [
      "\u001b[0;36m  File \u001b[0;32m\"<ipython-input-2-ae2623f81281>\"\u001b[0;36m, line \u001b[0;32m1\u001b[0m\n\u001b[0;31m    x + 1 = y\u001b[0m\n\u001b[0m    ^\u001b[0m\n\u001b[0;31mSyntaxError\u001b[0m\u001b[0;31m:\u001b[0m cannot assign to operator\n"
     ]
    }
   ],
   "source": [
    "x + 1 = y"
   ]
  },
  {
   "cell_type": "markdown",
   "metadata": {},
   "source": [
    "## Variable Naming\n",
    "1. Use __snake_case__: all lowercase, no spaces, underscores \\_ instead.\n",
    "2. Names cannot start with a number or use these symbols: \n",
    "__\\: \\' \\\" \\, \\< \\> \\/ \\? \\| \\\\ \\( \\) \\! @ \\# \\$ \\% \\^ \\& \\* \\~ \\- \\+__\n",
    "3. Avoid using 'l' (lowercase l), 'O' (uppercase o), or 'I' (uppercase i) as single character names.\n",
    "4. Do __NOT__ use Python keywords (see below for a list of keywords).\n",
    "\n",
    "__If you reassign a Python keyword by accident, use Kernel --> Restart to reset everything back to normal.__ \n",
    "\n",
    "See PEP8 for further details in this [link](https://www.python.org/dev/peps/pep-0008/)"
   ]
  },
  {
   "cell_type": "code",
   "execution_count": 2,
   "metadata": {},
   "outputs": [
    {
     "name": "stdout",
     "output_type": "stream",
     "text": [
      "False\n",
      "None\n",
      "True\n",
      "and\n",
      "as\n",
      "assert\n",
      "async\n",
      "await\n",
      "break\n",
      "class\n",
      "continue\n",
      "def\n",
      "del\n",
      "elif\n",
      "else\n",
      "except\n",
      "finally\n",
      "for\n",
      "from\n",
      "global\n",
      "if\n",
      "import\n",
      "in\n",
      "is\n",
      "lambda\n",
      "nonlocal\n",
      "not\n",
      "or\n",
      "pass\n",
      "raise\n",
      "return\n",
      "try\n",
      "while\n",
      "with\n",
      "yield\n"
     ]
    }
   ],
   "source": [
    "# List of keywords\n",
    "import keyword\n",
    "\n",
    "for i in keyword.kwlist:\n",
    "    print(i)"
   ]
  },
  {
   "cell_type": "markdown",
   "metadata": {},
   "source": [
    "Here we create an object named x (a variable) and give it the integer value 5. <br>\n",
    "The \\= sign assigns the value on the right to the object on the left:"
   ]
  },
  {
   "cell_type": "code",
   "execution_count": 37,
   "metadata": {},
   "outputs": [],
   "source": [
    "x = 3"
   ]
  },
  {
   "cell_type": "markdown",
   "metadata": {},
   "source": [
    "This is called calling the variable:"
   ]
  },
  {
   "cell_type": "code",
   "execution_count": 38,
   "metadata": {},
   "outputs": [
    {
     "data": {
      "text/plain": [
       "3"
      ]
     },
     "execution_count": 38,
     "metadata": {},
     "output_type": "execute_result"
    }
   ],
   "source": [
    "x"
   ]
  },
  {
   "cell_type": "markdown",
   "metadata": {},
   "source": [
    "Arithmetic done using variables uses the system of the underlying objects (differs between data types). <br>\n",
    "We will see how this works as we discover more data types:"
   ]
  },
  {
   "cell_type": "code",
   "execution_count": 39,
   "metadata": {},
   "outputs": [
    {
     "data": {
      "text/plain": [
       "6"
      ]
     },
     "execution_count": 39,
     "metadata": {},
     "output_type": "execute_result"
    }
   ],
   "source": [
    "x + x"
   ]
  },
  {
   "cell_type": "markdown",
   "metadata": {},
   "source": [
    "We can reassign x to be 10 with no errors: this is called reassignment and is an example of __'dynamic typing'__.<br>\n",
    "In a __'statically typed'__ language such as C, this would throw an error:"
   ]
  },
  {
   "cell_type": "code",
   "execution_count": 40,
   "metadata": {},
   "outputs": [],
   "source": [
    "x = 10"
   ]
  },
  {
   "cell_type": "markdown",
   "metadata": {},
   "source": [
    "We can now see x has changed from 3 to 10:"
   ]
  },
  {
   "cell_type": "code",
   "execution_count": 45,
   "metadata": {},
   "outputs": [
    {
     "data": {
      "text/plain": [
       "10"
      ]
     },
     "execution_count": 45,
     "metadata": {},
     "output_type": "execute_result"
    }
   ],
   "source": [
    "x"
   ]
  },
  {
   "cell_type": "markdown",
   "metadata": {},
   "source": [
    "#### A short note on the print() function\n",
    "- Before, we have just called the variable, now we see how to display it.\n",
    "- The print() function __displays__ the output rather than just returning it: in Jupyter Notebook this often makes no practical difference, but when working in other IDEs, you may not see the output unless you print it.\n",
    "- This becomes obvious when you want to see 2 things from a cell: Jupyter Notebook will __only show you the latest call__.\n",
    "- print() statements can be used to display multiple outputs.\n",
    "- We can specify the 'end' parameter inside the print() function to change how a print() statement ends.\n",
    "- e.g. __end = \"\\n\\n\" provides a new line after the print() output: this can be useful to make the output more readable__.\n",
    "- A blank print() statement also gives a new line."
   ]
  },
  {
   "cell_type": "code",
   "execution_count": 46,
   "metadata": {},
   "outputs": [
    {
     "data": {
      "text/plain": [
       "2"
      ]
     },
     "execution_count": 46,
     "metadata": {},
     "output_type": "execute_result"
    }
   ],
   "source": [
    "# assigning a and b\n",
    "a = 1\n",
    "b = 2\n",
    "\n",
    "# calling a and b\n",
    "a\n",
    "b"
   ]
  },
  {
   "cell_type": "code",
   "execution_count": 51,
   "metadata": {},
   "outputs": [
    {
     "name": "stdout",
     "output_type": "stream",
     "text": [
      "1\n",
      "2\n"
     ]
    }
   ],
   "source": [
    "# printing a and b\n",
    "print(a)\n",
    "print(b)"
   ]
  },
  {
   "cell_type": "code",
   "execution_count": 53,
   "metadata": {},
   "outputs": [
    {
     "name": "stdout",
     "output_type": "stream",
     "text": [
      "1\n",
      "\n",
      "2\n"
     ]
    }
   ],
   "source": [
    "# using end to give a new line\n",
    "print(a, end=\"\\n\\n\")\n",
    "print(b)"
   ]
  },
  {
   "cell_type": "code",
   "execution_count": 21,
   "metadata": {},
   "outputs": [
    {
     "name": "stdout",
     "output_type": "stream",
     "text": [
      "1\n",
      "\n",
      "2\n"
     ]
    }
   ],
   "source": [
    "# using a blank print statement to give a new line\n",
    "print(a)\n",
    "print()\n",
    "print(b)"
   ]
  },
  {
   "cell_type": "markdown",
   "metadata": {},
   "source": [
    "## Back to Variable Assignment...\n",
    "We can even redefine x using x itself. <br>\n",
    "Here, x is being __called__ on the right of the = sign, and being *redefined* on the left. <br>\n",
    "We can think of this as *new x* = __old x__ + __old x__ (*new x* = __10__ + __10__):"
   ]
  },
  {
   "cell_type": "code",
   "execution_count": 56,
   "metadata": {},
   "outputs": [],
   "source": [
    "x = x + x"
   ]
  },
  {
   "cell_type": "markdown",
   "metadata": {},
   "source": [
    "x is now equal to 20:"
   ]
  },
  {
   "cell_type": "code",
   "execution_count": 59,
   "metadata": {},
   "outputs": [
    {
     "data": {
      "text/plain": [
       "40"
      ]
     },
     "metadata": {},
     "output_type": "display_data"
    }
   ],
   "source": [
    "x"
   ]
  },
  {
   "cell_type": "code",
   "execution_count": 58,
   "metadata": {},
   "outputs": [
    {
     "data": {
      "text/plain": [
       "12.0"
      ]
     },
     "execution_count": 58,
     "metadata": {},
     "output_type": "execute_result"
    }
   ],
   "source": [
    "# clearly named variables are key when writing production-quality code\n",
    "shopping_bill = 10.00\n",
    "\n",
    "vat_rate = 1.2\n",
    "\n",
    "bill_with_vat = shopping_bill * vat_rate\n",
    "\n",
    "bill_with_vat"
   ]
  },
  {
   "cell_type": "markdown",
   "metadata": {},
   "source": [
    "## Strings in Python\n",
    "- Strings (str) are a way of representing textual information in Python.\n",
    "- They are denoted by quotation marks: single ('') or double (\"\").\n",
    "- It is usually best to use double speech marks, as apostrophes in text can prematurely end a string.\n",
    "- Apostrophes or other special characters in strings can be escaped using the backslash \\\\ character."
   ]
  },
  {
   "cell_type": "markdown",
   "metadata": {},
   "source": [
    "## String Functions and Methods\n",
    "- print() displays the output contained within it.\n",
    "- For strings, print() interprets escape characters (tabs, new lines etc.) and displays the string without quotations.\n",
    "- A method is a function associated with an object.\n",
    "- Strings have many associated methods, we will look at a few here.\n",
    "- Can find the rest at: \n",
    "<br> https://docs.python.org/2/library/stdtypes.html#string-methods"
   ]
  },
  {
   "cell_type": "code",
   "execution_count": 65,
   "metadata": {},
   "outputs": [
    {
     "name": "stdout",
     "output_type": "stream",
     "text": [
      "hi\n"
     ]
    }
   ],
   "source": [
    "x = \"Hello World\"\n",
    "print('hi')"
   ]
  },
  {
   "cell_type": "code",
   "execution_count": 19,
   "metadata": {},
   "outputs": [
    {
     "ename": "SyntaxError",
     "evalue": "invalid syntax (<ipython-input-19-f68951f46ab8>, line 1)",
     "output_type": "error",
     "traceback": [
      "\u001b[0;36m  File \u001b[0;32m\"<ipython-input-19-f68951f46ab8>\"\u001b[0;36m, line \u001b[0;32m1\u001b[0m\n\u001b[0;31m    print('What's the problem here?')\u001b[0m\n\u001b[0m                ^\u001b[0m\n\u001b[0;31mSyntaxError\u001b[0m\u001b[0;31m:\u001b[0m invalid syntax\n"
     ]
    }
   ],
   "source": [
    "# Using single quotations can be problematic, here, the apostrophe ends the string early\n",
    "print('What's the problem here?')"
   ]
  },
  {
   "cell_type": "code",
   "execution_count": 20,
   "metadata": {},
   "outputs": [
    {
     "name": "stdout",
     "output_type": "stream",
     "text": [
      "What's the problem here?\n"
     ]
    }
   ],
   "source": [
    "# we can use double quotations\n",
    "print(\"What's the problem here?\")"
   ]
  },
  {
   "cell_type": "code",
   "execution_count": 21,
   "metadata": {},
   "outputs": [
    {
     "name": "stdout",
     "output_type": "stream",
     "text": [
      "What's the \"problem\" here?\n"
     ]
    }
   ],
   "source": [
    "# or backslash if we have single and double quotes\n",
    "print(\"What\\'s the \\\"problem\\\" here?\")"
   ]
  },
  {
   "cell_type": "code",
   "execution_count": 73,
   "metadata": {},
   "outputs": [
    {
     "name": "stdout",
     "output_type": "stream",
     "text": [
      "HELLO WORLD\n",
      "Hello World\n"
     ]
    },
    {
     "data": {
      "text/plain": [
       "1"
      ]
     },
     "execution_count": 73,
     "metadata": {},
     "output_type": "execute_result"
    }
   ],
   "source": [
    "# .upper() method makes all caps (not inplace)\n",
    "print(x.upper())\n",
    "print(x)\n",
    "\n",
    "\n",
    "y = 1\n",
    "y = str(1)\n",
    "y = int(y)\n",
    "round(y)"
   ]
  },
  {
   "cell_type": "code",
   "execution_count": 19,
   "metadata": {},
   "outputs": [
    {
     "name": "stdout",
     "output_type": "stream",
     "text": [
      "Hello World\n",
      "HELLO WORLD\n"
     ]
    }
   ],
   "source": [
    "# if we want to change x itself, we must reassign it\n",
    "print(x)\n",
    "\n",
    "x = x.upper()\n",
    "\n",
    "print(x)"
   ]
  },
  {
   "cell_type": "code",
   "execution_count": 3,
   "metadata": {},
   "outputs": [
    {
     "data": {
      "text/plain": [
       "'How are you?'"
      ]
     },
     "execution_count": 3,
     "metadata": {},
     "output_type": "execute_result"
    }
   ],
   "source": [
    "z = \"how are you?\"\n",
    "z.capitalize()"
   ]
  },
  {
   "cell_type": "code",
   "execution_count": 56,
   "metadata": {},
   "outputs": [
    {
     "name": "stdout",
     "output_type": "stream",
     "text": [
      "hello world\n"
     ]
    }
   ],
   "source": [
    "# .lower() method makes all lowercase (not inplace)\n",
    "print(x.lower())"
   ]
  },
  {
   "cell_type": "code",
   "execution_count": 57,
   "metadata": {},
   "outputs": [
    {
     "name": "stdout",
     "output_type": "stream",
     "text": [
      "['Hello', 'World']\n",
      "['Hell', ' W', 'rld']\n"
     ]
    }
   ],
   "source": [
    "# .split() method splits on space as default or desired separator\n",
    "print(x.split())\n",
    "print(x.split(\"o\"))"
   ]
  },
  {
   "cell_type": "markdown",
   "metadata": {},
   "source": [
    "## .format Method\n",
    "- The .format method is a way of inserting something into a string.\n",
    "- This can be other strings or a variable taken from elsewhere in your code.\n",
    "- The syntax used is detailed below.\n",
    "- When using .format to add in a float to a string, we can specify the width and precision of the decimal."
   ]
  },
  {
   "cell_type": "code",
   "execution_count": 65,
   "metadata": {},
   "outputs": [
    {
     "name": "stdout",
     "output_type": "stream",
     "text": [
      "The fox brown quick\n"
     ]
    }
   ],
   "source": [
    "# default prints in order\n",
    "print(\"The {} {} {}\".format(\"fox\", \"brown\", \"quick\"))"
   ]
  },
  {
   "cell_type": "code",
   "execution_count": 66,
   "metadata": {},
   "outputs": [
    {
     "name": "stdout",
     "output_type": "stream",
     "text": [
      "The quick brown fox\n"
     ]
    }
   ],
   "source": [
    "# can index\n",
    "print(\"The {2} {1} {0}\".format(\"fox\", \"brown\", \"quick\"))"
   ]
  },
  {
   "cell_type": "code",
   "execution_count": 68,
   "metadata": {},
   "outputs": [
    {
     "name": "stdout",
     "output_type": "stream",
     "text": [
      "The quick brown fox\n"
     ]
    }
   ],
   "source": [
    "# can use variable keys for readability\n",
    "print(\"The {q} {b} {f}\".format(f=\"fox\", b=\"brown\", q=\"quick\"))"
   ]
  },
  {
   "cell_type": "code",
   "execution_count": 10,
   "metadata": {},
   "outputs": [
    {
     "name": "stdout",
     "output_type": "stream",
     "text": [
      "0.1287001287001287\n",
      "\n",
      "The result was 0.129\n",
      "The result was 0.129\n",
      "The result was 0.1287001\n",
      "The result was 0.129\n"
     ]
    }
   ],
   "source": [
    "# create long decimal\n",
    "result = 100/777\n",
    "print(result, end = \"\\n\\n\")\n",
    "\n",
    "# use value:width.precisionf for formatting\n",
    "# width is minimum length of string, padded with whitespace if necessary\n",
    "# precision is decimal places\n",
    "print(\"The result was {:1.3f}\".format(result))\n",
    "print(\"The result was {r:1.3f}\".format(r=result))\n",
    "print(\"The result was {r:1.7f}\".format(r=result))\n",
    "print(\"The result was {r:.3f}\".format(r=result))"
   ]
  },
  {
   "cell_type": "markdown",
   "metadata": {},
   "source": [
    "## String Indexing and Slicing\n",
    "- Strings are iterable, meaning they can return their elements one at a time.\n",
    "- Strings are also immutable, meaning their elements cannot be changed once assigned.\n",
    "- They must be __REASSIGNED__ in order to change them.\n",
    "- Each character in the string is one element: this includes spaces and punctuation.\n",
    "- We can make use of this to call back one element (indexing).\n",
    "- Or a range of elements (slicing)."
   ]
  },
  {
   "cell_type": "markdown",
   "metadata": {},
   "source": [
    "In Python:\n",
    "- Indexing starts at 0 (zero).\n",
    "- Slicing is inclusive at the lower bound (including).\n",
    "- Slicing is exclusive at the upper bound (up to but not including)."
   ]
  },
  {
   "cell_type": "code",
   "execution_count": 20,
   "metadata": {},
   "outputs": [],
   "source": [
    "my_first_string = \"Hello World\""
   ]
  },
  {
   "cell_type": "code",
   "execution_count": 15,
   "metadata": {},
   "outputs": [
    {
     "data": {
      "text/plain": [
       "'H'"
      ]
     },
     "execution_count": 15,
     "metadata": {},
     "output_type": "execute_result"
    }
   ],
   "source": [
    "# Index 0 gives first element\n",
    "my_first_string[0]"
   ]
  },
  {
   "cell_type": "markdown",
   "metadata": {},
   "source": [
    "Use colon to indicate slice, 1:4 returns 2nd (index 1), 3rd (index 2), 4th (index 3) items __but not 5th (index 4)__:"
   ]
  },
  {
   "cell_type": "code",
   "execution_count": 16,
   "metadata": {},
   "outputs": [
    {
     "data": {
      "text/plain": [
       "'ell'"
      ]
     },
     "execution_count": 16,
     "metadata": {},
     "output_type": "execute_result"
    }
   ],
   "source": [
    "my_first_string[1:4]"
   ]
  },
  {
   "cell_type": "markdown",
   "metadata": {},
   "source": [
    "Absent upper bound starts with first index indicated and gives everything beyond:"
   ]
  },
  {
   "cell_type": "code",
   "execution_count": 17,
   "metadata": {},
   "outputs": [
    {
     "data": {
      "text/plain": [
       "'ello World'"
      ]
     },
     "execution_count": 17,
     "metadata": {},
     "output_type": "execute_result"
    }
   ],
   "source": [
    "my_first_string[1:]"
   ]
  },
  {
   "cell_type": "markdown",
   "metadata": {},
   "source": [
    "Absent lower bound starts from index 0, up to but not including upper bound:"
   ]
  },
  {
   "cell_type": "code",
   "execution_count": 18,
   "metadata": {},
   "outputs": [
    {
     "data": {
      "text/plain": [
       "'Hel'"
      ]
     },
     "execution_count": 18,
     "metadata": {},
     "output_type": "execute_result"
    }
   ],
   "source": [
    "my_first_string[:3]"
   ]
  },
  {
   "cell_type": "markdown",
   "metadata": {},
   "source": [
    "We cannot change elements of a string:"
   ]
  },
  {
   "cell_type": "code",
   "execution_count": 21,
   "metadata": {},
   "outputs": [
    {
     "ename": "TypeError",
     "evalue": "'str' object does not support item assignment",
     "output_type": "error",
     "traceback": [
      "\u001b[0;31m---------------------------------------------------------------------------\u001b[0m",
      "\u001b[0;31mTypeError\u001b[0m                                 Traceback (most recent call last)",
      "\u001b[0;32m<ipython-input-21-987619901b59>\u001b[0m in \u001b[0;36m<module>\u001b[0;34m\u001b[0m\n\u001b[1;32m      1\u001b[0m \u001b[0;31m# we cannot change elements of a string\u001b[0m\u001b[0;34m\u001b[0m\u001b[0;34m\u001b[0m\u001b[0;34m\u001b[0m\u001b[0m\n\u001b[0;32m----> 2\u001b[0;31m \u001b[0mmy_first_string\u001b[0m\u001b[0;34m[\u001b[0m\u001b[0;36m0\u001b[0m\u001b[0;34m]\u001b[0m \u001b[0;34m=\u001b[0m \u001b[0;34m'l'\u001b[0m\u001b[0;34m\u001b[0m\u001b[0;34m\u001b[0m\u001b[0m\n\u001b[0m",
      "\u001b[0;31mTypeError\u001b[0m: 'str' object does not support item assignment"
     ]
    }
   ],
   "source": [
    "my_first_string[0] = 'l'"
   ]
  },
  {
   "cell_type": "markdown",
   "metadata": {},
   "source": [
    "## Summary\n",
    "We now understand:\n",
    "- The nature of ints and floats.\n",
    "- The nature of None.\n",
    "- The nature of variables.\n",
    "- What strings and print formatting are.\n",
    "<br><br>\n",
    "\n",
    "We now know how to:\n",
    "- Use python as a calculator.\n",
    "- Assign variables and use them.\n",
    "- Use strings and string methods including .upper(), .lower(), .split() and .format().\n",
    "- Add in objects to strings using .format().\n",
    "- Format floats.\n",
    "- Index strings.\n",
    "- Slice strings.\n",
    "\n",
    "\n",
    "Please refer back to this notebook to check if you are unsure of any commands or syntax. <br>\n",
    "Please use the documentation below to find further string methods and conventions for style in Python.\n",
    "\n",
    "## Further reading\n",
    "- PEP8 Style Documentation: https://www.python.org/dev/peps/pep-0008/\n",
    "- String Methods: https://docs.python.org/2/library/stdtypes.html#string-methods\n",
    "- Python None: https://docs.python.org/3/c-api/none.html"
   ]
  },
  {
   "cell_type": "code",
   "execution_count": null,
   "metadata": {},
   "outputs": [],
   "source": []
  }
 ],
 "metadata": {
  "interpreter": {
   "hash": "3d597f4c481aa0f25dceb95d2a0067e73c0966dcbd003d741d821a7208527ecf"
  },
  "kernelspec": {
   "display_name": "Python 3.9.1 64-bit ('base': conda)",
   "name": "python3"
  },
  "language_info": {
   "codemirror_mode": {
    "name": "ipython",
    "version": 3
   },
   "file_extension": ".py",
   "mimetype": "text/x-python",
   "name": "python",
   "nbconvert_exporter": "python",
   "pygments_lexer": "ipython3",
   "version": "3.9.1"
  }
 },
 "nbformat": 4,
 "nbformat_minor": 4
}
