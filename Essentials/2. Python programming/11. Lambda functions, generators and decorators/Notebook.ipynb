{
 "cells": [
  {
   "cell_type": "markdown",
   "metadata": {},
   "source": [
    "# Lambda functions, generators and decorators"
   ]
  },
  {
   "cell_type": "markdown",
   "metadata": {},
   "source": [
    "In this lesson, we are going to take a look at different advanced concepts in Python. We will review them on the surface, since there are a lot of them. The best way to learn them is that we introduce them, and then you go through the practicals and try to find as many challenges on these topics as possible. For example [here](https://github.com/IvanYingX/Challenges_AiCore.git)"
   ]
  },
  {
   "cell_type": "markdown",
   "metadata": {},
   "source": [
    "This lesson will use a folder name `utils`. If you are in Colab and don't have that folder right now, run the following code to download the folder with the examples. Remember that you can access `.py` files in Colab and modify them!"
   ]
  },
  {
   "cell_type": "code",
   "execution_count": 1,
   "metadata": {},
   "outputs": [
    {
     "name": "stderr",
     "output_type": "stream",
     "text": [
      "'wget' is not recognized as an internal or external command,\n",
      "operable program or batch file.\n"
     ]
    },
    {
     "ename": "FileNotFoundError",
     "evalue": "[Errno 2] No such file or directory: 'advanced_py.zip'",
     "output_type": "error",
     "traceback": [
      "\u001b[1;31m---------------------------------------------------------------------------\u001b[0m",
      "\u001b[1;31mFileNotFoundError\u001b[0m                         Traceback (most recent call last)",
      "\u001b[1;32mC:\\Users\\BLAIR_~1\\AppData\\Local\\Temp/ipykernel_18816/2606976078.py\u001b[0m in \u001b[0;36m<module>\u001b[1;34m\u001b[0m\n\u001b[0;32m      1\u001b[0m \u001b[0mget_ipython\u001b[0m\u001b[1;33m(\u001b[0m\u001b[1;33m)\u001b[0m\u001b[1;33m.\u001b[0m\u001b[0msystem\u001b[0m\u001b[1;33m(\u001b[0m\u001b[1;34m'wget \"https://aicore-files.s3.amazonaws.com/Foundations/Python_Programming/advanced_py.zip\"'\u001b[0m\u001b[1;33m)\u001b[0m\u001b[1;33m\u001b[0m\u001b[1;33m\u001b[0m\u001b[0m\n\u001b[0;32m      2\u001b[0m \u001b[1;32mimport\u001b[0m \u001b[0mzipfile\u001b[0m\u001b[1;33m\u001b[0m\u001b[1;33m\u001b[0m\u001b[0m\n\u001b[1;32m----> 3\u001b[1;33m \u001b[1;32mwith\u001b[0m \u001b[0mzipfile\u001b[0m\u001b[1;33m.\u001b[0m\u001b[0mZipFile\u001b[0m\u001b[1;33m(\u001b[0m\u001b[1;34m\"advanced_py.zip\"\u001b[0m\u001b[1;33m,\u001b[0m \u001b[1;34m'r'\u001b[0m\u001b[1;33m)\u001b[0m \u001b[1;32mas\u001b[0m \u001b[0mzip_ref\u001b[0m\u001b[1;33m:\u001b[0m\u001b[1;33m\u001b[0m\u001b[1;33m\u001b[0m\u001b[0m\n\u001b[0m\u001b[0;32m      4\u001b[0m     \u001b[0mzip_ref\u001b[0m\u001b[1;33m.\u001b[0m\u001b[0mextractall\u001b[0m\u001b[1;33m(\u001b[0m\u001b[1;34m\"utils\"\u001b[0m\u001b[1;33m)\u001b[0m\u001b[1;33m\u001b[0m\u001b[1;33m\u001b[0m\u001b[0m\n",
      "\u001b[1;32m~\\anaconda3\\lib\\zipfile.py\u001b[0m in \u001b[0;36m__init__\u001b[1;34m(self, file, mode, compression, allowZip64, compresslevel, strict_timestamps)\u001b[0m\n\u001b[0;32m   1249\u001b[0m             \u001b[1;32mwhile\u001b[0m \u001b[1;32mTrue\u001b[0m\u001b[1;33m:\u001b[0m\u001b[1;33m\u001b[0m\u001b[1;33m\u001b[0m\u001b[0m\n\u001b[0;32m   1250\u001b[0m                 \u001b[1;32mtry\u001b[0m\u001b[1;33m:\u001b[0m\u001b[1;33m\u001b[0m\u001b[1;33m\u001b[0m\u001b[0m\n\u001b[1;32m-> 1251\u001b[1;33m                     \u001b[0mself\u001b[0m\u001b[1;33m.\u001b[0m\u001b[0mfp\u001b[0m \u001b[1;33m=\u001b[0m \u001b[0mio\u001b[0m\u001b[1;33m.\u001b[0m\u001b[0mopen\u001b[0m\u001b[1;33m(\u001b[0m\u001b[0mfile\u001b[0m\u001b[1;33m,\u001b[0m \u001b[0mfilemode\u001b[0m\u001b[1;33m)\u001b[0m\u001b[1;33m\u001b[0m\u001b[1;33m\u001b[0m\u001b[0m\n\u001b[0m\u001b[0;32m   1252\u001b[0m                 \u001b[1;32mexcept\u001b[0m \u001b[0mOSError\u001b[0m\u001b[1;33m:\u001b[0m\u001b[1;33m\u001b[0m\u001b[1;33m\u001b[0m\u001b[0m\n\u001b[0;32m   1253\u001b[0m                     \u001b[1;32mif\u001b[0m \u001b[0mfilemode\u001b[0m \u001b[1;32min\u001b[0m \u001b[0mmodeDict\u001b[0m\u001b[1;33m:\u001b[0m\u001b[1;33m\u001b[0m\u001b[1;33m\u001b[0m\u001b[0m\n",
      "\u001b[1;31mFileNotFoundError\u001b[0m: [Errno 2] No such file or directory: 'advanced_py.zip'"
     ]
    }
   ],
   "source": [
    "!wget \"https://aicore-files.s3.amazonaws.com/Foundations/Python_Programming/advanced_py.zip\"\n",
    "import zipfile\n",
    "with zipfile.ZipFile(\"advanced_py.zip\", 'r') as zip_ref:\n",
    "    zip_ref.extractall(\"utils\")"
   ]
  },
  {
   "cell_type": "markdown",
   "metadata": {},
   "source": [
    "## Lambda Functions\n",
    "\n"
   ]
  },
  {
   "cell_type": "markdown",
   "metadata": {},
   "source": [
    "Lambda functions are basically shorter version of the functions that we already know. For example, let's define a small function that takes a number and returns its square."
   ]
  },
  {
   "cell_type": "code",
   "execution_count": 2,
   "metadata": {},
   "outputs": [
    {
     "name": "stdout",
     "output_type": "stream",
     "text": [
      "9\n"
     ]
    }
   ],
   "source": [
    "def func_square(y):\n",
    "    return y ** 2\n",
    "\n",
    "x = func_square(3)\n",
    "print(x)"
   ]
  },
  {
   "cell_type": "markdown",
   "metadata": {},
   "source": [
    "Easy, isn't it? However, for a function that is so small that we don't need to define it in a separate part of the code, we can use a lambda function.\n",
    "\n",
    "> <font size=+1>Lambda functions are a way to define functions in a single line.</font>"
   ]
  },
  {
   "cell_type": "markdown",
   "metadata": {},
   "source": [
    "The syntax is:\n",
    "\n",
    "`lambda arguments: expression`\n",
    "\n",
    "Let's take a look at an example using the same function we defined before."
   ]
  },
  {
   "cell_type": "code",
   "execution_count": 3,
   "metadata": {},
   "outputs": [
    {
     "name": "stdout",
     "output_type": "stream",
     "text": [
      "9\n"
     ]
    }
   ],
   "source": [
    "func_lambda = lambda y: y ** 2\n",
    "\n",
    "x = func_lambda(3)\n",
    "print(x)"
   ]
  },
  {
   "cell_type": "markdown",
   "metadata": {},
   "source": [
    "Lambda functions can also take 2 or more arguments. For example, if we want to define a function that takes two numbers and returns their sum, we can do it like this:"
   ]
  },
  {
   "cell_type": "code",
   "execution_count": 4,
   "metadata": {},
   "outputs": [
    {
     "data": {
      "text/plain": [
       "7"
      ]
     },
     "execution_count": 4,
     "metadata": {},
     "output_type": "execute_result"
    }
   ],
   "source": [
    "func_sum = lambda x, y: x + y\n",
    "\n",
    "func_sum(3, 4)"
   ]
  },
  {
   "cell_type": "markdown",
   "metadata": {},
   "source": [
    "We generally use it as an argument to a higher-order function. We will see higher functions that accept lambda functions to perform small operations. For now, let's see three small functions: sorted(), filter(), map()"
   ]
  },
  {
   "cell_type": "code",
   "execution_count": null,
   "metadata": {},
   "outputs": [],
   "source": [
    "sorted([5, 2, 4, 2, 3])"
   ]
  },
  {
   "cell_type": "code",
   "execution_count": null,
   "metadata": {},
   "outputs": [],
   "source": [
    "got = [('Caitlyn', 'Tully'), ('Arya', 'Stark'), ('Bran', 'Stark'), ('Arya', 'Baratheon'), ('Jon', 'Snow'), ('Jon', 'Targaryen')]\n",
    "\n",
    "sorted(got) # Sort by the given name, and in case it is the same, sort by last name"
   ]
  },
  {
   "cell_type": "markdown",
   "metadata": {},
   "source": [
    "What if we want to sort them by last names?"
   ]
  },
  {
   "cell_type": "code",
   "execution_count": null,
   "metadata": {},
   "outputs": [],
   "source": [
    "for element in got:\n",
    "    print(element[1])"
   ]
  },
  {
   "cell_type": "code",
   "execution_count": null,
   "metadata": {},
   "outputs": [],
   "source": [
    "sorted(got, key=lambda x: x[1])"
   ]
  },
  {
   "cell_type": "markdown",
   "metadata": {},
   "source": [
    "Or even by last name length"
   ]
  },
  {
   "cell_type": "code",
   "execution_count": null,
   "metadata": {},
   "outputs": [],
   "source": [
    "sorted(got, key=lambda element: len(element[1]))"
   ]
  },
  {
   "cell_type": "markdown",
   "metadata": {},
   "source": [
    "lambda functions can also be used to apply a function to an iterable"
   ]
  },
  {
   "cell_type": "code",
   "execution_count": null,
   "metadata": {},
   "outputs": [],
   "source": [
    "ls_numbers = [1, 5, 10, 15, 20, 25, 42]\n",
    "ls_numbers * 2"
   ]
  },
  {
   "cell_type": "code",
   "execution_count": null,
   "metadata": {},
   "outputs": [],
   "source": [
    "ls_numbers = [1, 5, 10, 15, 20, 25, 42]\n",
    "# I want to multiply each element by 2\n",
    "ls_twice = [x * 2 for x in ls_numbers] # Comprehension list\n",
    "ls_doubled = map(lambda x: x * 2, ls_numbers)\n",
    "\n",
    "print(ls_twice)\n",
    "print(dir(ls_doubled))\n",
    "print(list(ls_doubled))"
   ]
  },
  {
   "cell_type": "markdown",
   "metadata": {},
   "source": [
    "If lambda has two arguments, it runs until there is no more elements in one of the iterables"
   ]
  },
  {
   "cell_type": "code",
   "execution_count": null,
   "metadata": {},
   "outputs": [],
   "source": [
    "fun = lambda x, y: x ** y\n",
    "print(list(map(fun, [1, 3, 3, 4], [1, 3, 4])))\n",
    "print(list(map(fun, [1, 3, 3, 4], [1, 3, 4, 2])))\n",
    "print(list(map(fun, [1, 3], [1, 3, 4, 2])))"
   ]
  },
  {
   "cell_type": "markdown",
   "metadata": {},
   "source": [
    "We can also filter elements in a list if they meet a certain condition. The condition should return a Boolean"
   ]
  },
  {
   "cell_type": "code",
   "execution_count": null,
   "metadata": {},
   "outputs": [],
   "source": [
    "got = [('Drogon', 508), ('Jon', 103), ('Rhaegal', 273), ('Cersei', 199), ('Arya', 1278)]\n",
    "\n",
    "killers = filter(lambda x: x[1] > 200, got)\n",
    "print(killers)\n",
    "print(list(killers))"
   ]
  },
  {
   "cell_type": "code",
   "execution_count": null,
   "metadata": {},
   "outputs": [],
   "source": [
    "numbers = [1, 2, 3]\n",
    "list(filter(lambda x: (x + 1) * 3 / 3 % 3 == 0, numbers))"
   ]
  },
  {
   "cell_type": "markdown",
   "metadata": {},
   "source": [
    "## Decorators\n"
   ]
  },
  {
   "cell_type": "markdown",
   "metadata": {},
   "source": [
    "To understand decorators, you should understand that inner functions also exist"
   ]
  },
  {
   "cell_type": "code",
   "execution_count": 6,
   "metadata": {},
   "outputs": [
    {
     "name": "stdout",
     "output_type": "stream",
     "text": [
      "<function caller.<locals>.first_child at 0x7fe555cee0d0>\n"
     ]
    }
   ],
   "source": [
    "def caller(num):\n",
    "\n",
    "    def first_child():\n",
    "        print('I am being called')\n",
    "        return \"I am the first child\"\n",
    "\n",
    "    def second_child():\n",
    "        return \"I am the second child\"\n",
    "\n",
    "    if num == 1:\n",
    "        return first_child\n",
    "    else:\n",
    "        return second_child\n",
    "\n",
    "\n",
    "print(caller(1))"
   ]
  },
  {
   "cell_type": "markdown",
   "metadata": {},
   "source": [
    "Observe the output above. It is returning a function rather than a string or a number. Try to follow the flow of the code and see what happens.\n",
    "\n",
    "1. We call for caller giving the argument a value of 1\n",
    "2. Then, INSIDE the function, we define two functions: first_child and second_child. But we don't call them yet! so nothing within them is executed.\n",
    "3. We keep executing the caller function, and trigger the if statement that checks if the argument is 1.\n",
    "4. We return the function, but JUST the function, not the result of the function."
   ]
  },
  {
   "cell_type": "markdown",
   "metadata": {},
   "source": [
    "With that in mind, let's see decorators. \n",
    "\n",
    "> <font size=+1>Decorators extend the functionality of a function.</font>"
   ]
  },
  {
   "cell_type": "markdown",
   "metadata": {},
   "source": [
    "Let's see an example. First we define a function with a nested function. The name of the outer function is something we can decide to suit whatever we are going to use the decorator for. But, as a convention, the inner function is called `wrapper`.\n",
    "\n",
    "In this case, we have a function that takes as an argument another function. The inner function is defined but not called! and after that, the inner function is returned."
   ]
  },
  {
   "cell_type": "code",
   "execution_count": 7,
   "metadata": {},
   "outputs": [],
   "source": [
    "def my_decorator(func):\n",
    "    def wrapper():\n",
    "        print(\"I come before the function!\")\n",
    "        func()\n",
    "        print(\"I come after the function!\")\n",
    "    return wrapper\n",
    "\n",
    "def say_truth():\n",
    "    print(f'Epstein didn\\'t kill himself')"
   ]
  },
  {
   "cell_type": "markdown",
   "metadata": {},
   "source": [
    "So, if we call for the outer function, we get the inner function (but not its result!)."
   ]
  },
  {
   "cell_type": "code",
   "execution_count": 9,
   "metadata": {},
   "outputs": [
    {
     "data": {
      "text/plain": [
       "<function __main__.my_decorator.<locals>.wrapper()>"
      ]
     },
     "execution_count": 9,
     "metadata": {},
     "output_type": "execute_result"
    }
   ],
   "source": [
    "my_decorator(say_truth)"
   ]
  },
  {
   "cell_type": "markdown",
   "metadata": {},
   "source": [
    "Observe the output: `<function __main__.my_decorator.<locals>.wrapper()>`. This means that the output of the outer function is the inner function (I know, it sounds weird, but it is correct).\n",
    "\n",
    "Let's assign that function to a variable, and then call it"
   ]
  },
  {
   "cell_type": "code",
   "execution_count": 10,
   "metadata": {},
   "outputs": [
    {
     "name": "stdout",
     "output_type": "stream",
     "text": [
      "I come before the function!\n",
      "Epstein didn't kill himself\n",
      "I come after the function!\n"
     ]
    }
   ],
   "source": [
    "my_func = my_decorator(say_truth)\n",
    "my_func()"
   ]
  },
  {
   "cell_type": "markdown",
   "metadata": {},
   "source": [
    "Now, the output of the inner function is printed! Basically, `my_func` contained the information about `wrapper` and `say_truth`, so once called, we could see how `wrapper` interacted with `say_truth`."
   ]
  },
  {
   "cell_type": "markdown",
   "metadata": {},
   "source": [
    "Let's use the same decorator with another function."
   ]
  },
  {
   "cell_type": "code",
   "execution_count": 11,
   "metadata": {},
   "outputs": [],
   "source": [
    "def wave():\n",
    "    print('Hello, world!')"
   ]
  },
  {
   "cell_type": "code",
   "execution_count": 12,
   "metadata": {},
   "outputs": [
    {
     "name": "stdout",
     "output_type": "stream",
     "text": [
      "I come before the function!\n",
      "Hello, world!\n",
      "I come after the function!\n"
     ]
    }
   ],
   "source": [
    "my_wave_func = my_decorator(wave)\n",
    "my_wave_func()"
   ]
  },
  {
   "cell_type": "markdown",
   "metadata": {},
   "source": [
    "Observe that `my_wave_func` contains information about `wrapper` and `wave`, meaning that we are able to see how `wrapper` interacts with `wave`."
   ]
  },
  {
   "cell_type": "markdown",
   "metadata": {},
   "source": [
    "### Decorators with Arguments"
   ]
  },
  {
   "cell_type": "markdown",
   "metadata": {},
   "source": [
    "So far, we have seen decorators that take no arguments. But what if we want to pass arguments to the decorator? Let's see what happens if to the current decorator, we pass a function with an argument."
   ]
  },
  {
   "cell_type": "code",
   "execution_count": 13,
   "metadata": {},
   "outputs": [],
   "source": [
    "def say_hello(name):\n",
    "    print(f'Hello, {name}!')"
   ]
  },
  {
   "cell_type": "code",
   "execution_count": 14,
   "metadata": {},
   "outputs": [],
   "source": [
    "my_hello_func = my_decorator(say_hello)"
   ]
  },
  {
   "cell_type": "markdown",
   "metadata": {},
   "source": [
    "Cool! So far so good, no errors, let's try calling it."
   ]
  },
  {
   "cell_type": "code",
   "execution_count": 16,
   "metadata": {},
   "outputs": [
    {
     "name": "stdout",
     "output_type": "stream",
     "text": [
      "I come before the function!\n"
     ]
    },
    {
     "ename": "TypeError",
     "evalue": "say_hello() missing 1 required positional argument: 'name'",
     "output_type": "error",
     "traceback": [
      "\u001b[0;31m---------------------------------------------------------------------------\u001b[0m",
      "\u001b[0;31mTypeError\u001b[0m                                 Traceback (most recent call last)",
      "\u001b[0;32m<ipython-input-16-97c9a7d8f09f>\u001b[0m in \u001b[0;36m<module>\u001b[0;34m\u001b[0m\n\u001b[0;32m----> 1\u001b[0;31m \u001b[0mmy_hello_func\u001b[0m\u001b[0;34m(\u001b[0m\u001b[0;34m)\u001b[0m\u001b[0;34m\u001b[0m\u001b[0;34m\u001b[0m\u001b[0m\n\u001b[0m",
      "\u001b[0;32m<ipython-input-7-722a063bcd39>\u001b[0m in \u001b[0;36mwrapper\u001b[0;34m()\u001b[0m\n\u001b[1;32m      2\u001b[0m     \u001b[0;32mdef\u001b[0m \u001b[0mwrapper\u001b[0m\u001b[0;34m(\u001b[0m\u001b[0;34m)\u001b[0m\u001b[0;34m:\u001b[0m\u001b[0;34m\u001b[0m\u001b[0;34m\u001b[0m\u001b[0m\n\u001b[1;32m      3\u001b[0m         \u001b[0mprint\u001b[0m\u001b[0;34m(\u001b[0m\u001b[0;34m\"I come before the function!\"\u001b[0m\u001b[0;34m)\u001b[0m\u001b[0;34m\u001b[0m\u001b[0;34m\u001b[0m\u001b[0m\n\u001b[0;32m----> 4\u001b[0;31m         \u001b[0mfunc\u001b[0m\u001b[0;34m(\u001b[0m\u001b[0;34m)\u001b[0m\u001b[0;34m\u001b[0m\u001b[0;34m\u001b[0m\u001b[0m\n\u001b[0m\u001b[1;32m      5\u001b[0m         \u001b[0mprint\u001b[0m\u001b[0;34m(\u001b[0m\u001b[0;34m\"I come after the function!\"\u001b[0m\u001b[0;34m)\u001b[0m\u001b[0;34m\u001b[0m\u001b[0;34m\u001b[0m\u001b[0m\n\u001b[1;32m      6\u001b[0m     \u001b[0;32mreturn\u001b[0m \u001b[0mwrapper\u001b[0m\u001b[0;34m\u001b[0m\u001b[0;34m\u001b[0m\u001b[0m\n",
      "\u001b[0;31mTypeError\u001b[0m: say_hello() missing 1 required positional argument: 'name'"
     ]
    }
   ],
   "source": [
    "my_hello_func()"
   ]
  },
  {
   "cell_type": "markdown",
   "metadata": {},
   "source": [
    "Can you see what happened? The output prints `I come before the function` but then it throws an error. Remember that `func()` is the function we passed to the decorator, in this case, `say_hello`, which in turn, expects an argument. In other words, it's like we had this inside `my_decorator`:\n",
    "\n",
    "``` python\n",
    "    def wrapper():\n",
    "        print(\"I come before the function!\")\n",
    "        say_hello()\n",
    "        print(\"I come after the function!\")\n",
    "```\n",
    "\n",
    "But `say_hello` needs an argument, so we get an error."
   ]
  },
  {
   "cell_type": "markdown",
   "metadata": {},
   "source": [
    "Thus, what we can do is to write the decorator to expect an argument from the caller"
   ]
  },
  {
   "cell_type": "code",
   "execution_count": 18,
   "metadata": {},
   "outputs": [],
   "source": [
    "def my_decorator(func):\n",
    "    def wrapper():\n",
    "        print(\"I come before the function!\")\n",
    "        func(name)\n",
    "        print(\"I come after the function!\")\n",
    "    return wrapper\n",
    "\n",
    "my_hello_func = my_decorator(say_hello)"
   ]
  },
  {
   "cell_type": "markdown",
   "metadata": {},
   "source": [
    "Hmmm, something looks wrong. Let's see what happens if we try to run it"
   ]
  },
  {
   "cell_type": "code",
   "execution_count": 21,
   "metadata": {},
   "outputs": [
    {
     "name": "stdout",
     "output_type": "stream",
     "text": [
      "I come before the function!\n"
     ]
    },
    {
     "ename": "NameError",
     "evalue": "name 'name' is not defined",
     "output_type": "error",
     "traceback": [
      "\u001b[0;31m---------------------------------------------------------------------------\u001b[0m",
      "\u001b[0;31mNameError\u001b[0m                                 Traceback (most recent call last)",
      "\u001b[0;32m<ipython-input-21-97c9a7d8f09f>\u001b[0m in \u001b[0;36m<module>\u001b[0;34m\u001b[0m\n\u001b[0;32m----> 1\u001b[0;31m \u001b[0mmy_hello_func\u001b[0m\u001b[0;34m(\u001b[0m\u001b[0;34m)\u001b[0m\u001b[0;34m\u001b[0m\u001b[0;34m\u001b[0m\u001b[0m\n\u001b[0m",
      "\u001b[0;32m<ipython-input-18-0dbb7bbf4dab>\u001b[0m in \u001b[0;36mwrapper\u001b[0;34m()\u001b[0m\n\u001b[1;32m      2\u001b[0m     \u001b[0;32mdef\u001b[0m \u001b[0mwrapper\u001b[0m\u001b[0;34m(\u001b[0m\u001b[0;34m)\u001b[0m\u001b[0;34m:\u001b[0m\u001b[0;34m\u001b[0m\u001b[0;34m\u001b[0m\u001b[0m\n\u001b[1;32m      3\u001b[0m         \u001b[0mprint\u001b[0m\u001b[0;34m(\u001b[0m\u001b[0;34m\"I come before the function!\"\u001b[0m\u001b[0;34m)\u001b[0m\u001b[0;34m\u001b[0m\u001b[0;34m\u001b[0m\u001b[0m\n\u001b[0;32m----> 4\u001b[0;31m         \u001b[0mfunc\u001b[0m\u001b[0;34m(\u001b[0m\u001b[0mname\u001b[0m\u001b[0;34m)\u001b[0m\u001b[0;34m\u001b[0m\u001b[0;34m\u001b[0m\u001b[0m\n\u001b[0m\u001b[1;32m      5\u001b[0m         \u001b[0mprint\u001b[0m\u001b[0;34m(\u001b[0m\u001b[0;34m\"I come after the function!\"\u001b[0m\u001b[0;34m)\u001b[0m\u001b[0;34m\u001b[0m\u001b[0;34m\u001b[0m\u001b[0m\n\u001b[1;32m      6\u001b[0m     \u001b[0;32mreturn\u001b[0m \u001b[0mwrapper\u001b[0m\u001b[0;34m\u001b[0m\u001b[0;34m\u001b[0m\u001b[0m\n",
      "\u001b[0;31mNameError\u001b[0m: name 'name' is not defined"
     ]
    }
   ],
   "source": [
    "my_hello_func()"
   ]
  },
  {
   "cell_type": "markdown",
   "metadata": {},
   "source": [
    "Right! The function is in the local scope, and it doesn't know any variable called `name`. Thus, we need to pass `name` to the wrapper"
   ]
  },
  {
   "cell_type": "code",
   "execution_count": 22,
   "metadata": {},
   "outputs": [],
   "source": [
    "def my_decorator(func):\n",
    "    def wrapper(name):\n",
    "        print(\"I come before the function!\")\n",
    "        func(name)\n",
    "        print(\"I come after the function!\")\n",
    "    return wrapper\n",
    "\n",
    "my_hello_func = my_decorator(say_hello)"
   ]
  },
  {
   "cell_type": "code",
   "execution_count": 23,
   "metadata": {},
   "outputs": [
    {
     "name": "stdout",
     "output_type": "stream",
     "text": [
      "I come before the function!\n",
      "Hello, Ivan!\n",
      "I come after the function!\n"
     ]
    }
   ],
   "source": [
    "my_hello_func('Ivan')"
   ]
  },
  {
   "cell_type": "markdown",
   "metadata": {},
   "source": [
    "Good! Now it looks like it's working fine. Observe that in the last call, we pass `Ivan` as an argument, because remember that `my_hello_func` is the `wrapper` with information of `say_hello`, and `wrapper` now needs and argument"
   ]
  },
  {
   "cell_type": "markdown",
   "metadata": {},
   "source": [
    "Ok, so, why is this useful? Well, we can use it to pass arguments to the function. For example, we can pass a name to the function, and then we can use that name to greet the user. Or something that might be more useful, we can measure the time it takes for a function to execute."
   ]
  },
  {
   "cell_type": "code",
   "execution_count": 25,
   "metadata": {},
   "outputs": [
    {
     "name": "stdout",
     "output_type": "stream",
     "text": [
      "<function my_timer.<locals>.wrapper at 0x7fe555d79310>\n"
     ]
    }
   ],
   "source": [
    "import time\n",
    "\n",
    "def my_timer(func):\n",
    "    def wrapper():\n",
    "        time_0 = time.time()\n",
    "        func()\n",
    "        time_1 = time.time()\n",
    "        print(f'It took {time_1 - time_0} second to run')\n",
    "    return wrapper\n",
    "\n",
    "\n",
    "def dummy_fun():\n",
    "    for _ in range(50000000):\n",
    "        x = 'I am just losing your time'\n",
    "    return x\n",
    "\n",
    "time_exec = my_timer(dummy_fun)\n",
    "print(time_exec)"
   ]
  },
  {
   "cell_type": "markdown",
   "metadata": {},
   "source": [
    "Good, so we have a wrapper that can measure the time it takes to execute a function. Let's call it!"
   ]
  },
  {
   "cell_type": "code",
   "execution_count": 26,
   "metadata": {},
   "outputs": [
    {
     "name": "stdout",
     "output_type": "stream",
     "text": [
      "It took 2.3079869747161865 second to run\n"
     ]
    }
   ],
   "source": [
    "time_exec()"
   ]
  },
  {
   "cell_type": "markdown",
   "metadata": {},
   "source": [
    "But an even cooler thing you can do is this syntactic sugar offered by Python. You can decorate a function by adding `@` when defining the function"
   ]
  },
  {
   "cell_type": "code",
   "execution_count": 27,
   "metadata": {},
   "outputs": [
    {
     "name": "stdout",
     "output_type": "stream",
     "text": [
      "It took 2.436522960662842 second to run\n"
     ]
    }
   ],
   "source": [
    "@my_timer\n",
    "def dummy_fun():\n",
    "    for _ in range(50000000):\n",
    "        x = 'I am just losing your time'\n",
    "\n",
    "dummy_fun()"
   ]
  },
  {
   "cell_type": "markdown",
   "metadata": {},
   "source": [
    "### Multiple Arguments in a Decorator"
   ]
  },
  {
   "cell_type": "markdown",
   "metadata": {},
   "source": [
    "So we have just seen that you can extend the functionality of a function using decorators. But what if we want to extend it with multiple arguments? We don't know what functions our decorator is going to wrap, so there might be one or many arguments. What can we do?\n",
    "\n",
    "The key is in these two guys *args **kwargs"
   ]
  },
  {
   "cell_type": "code",
   "execution_count": 28,
   "metadata": {},
   "outputs": [
    {
     "name": "stdout",
     "output_type": "stream",
     "text": [
      "Hello Ivan\n",
      "Hello Ivan\n"
     ]
    }
   ],
   "source": [
    "def repeat(func):\n",
    "    def wrapper(*args, **kwargs):\n",
    "        func(*args, **kwargs)\n",
    "        func(*args, **kwargs)\n",
    "    return wrapper\n",
    "\n",
    "def say_hi(name):\n",
    "    print(f'Hello {name}')\n",
    "    return 1\n",
    "\n",
    "repeat(say_hi)('Ivan')"
   ]
  },
  {
   "cell_type": "markdown",
   "metadata": {},
   "source": [
    "### `Return` statement in the wrapper\n",
    "\n",
    "Imagine that we want to return something from the decorated function.\n",
    "\n",
    "Let's define a small function: factorial, that returns the factorial of a number. (The factorial of a number is the product of all the numbers from 1 to that number)"
   ]
  },
  {
   "cell_type": "code",
   "execution_count": 29,
   "metadata": {},
   "outputs": [
    {
     "name": "stdout",
     "output_type": "stream",
     "text": [
      "120\n"
     ]
    }
   ],
   "source": [
    "def factorial(n):\n",
    "    previous = 1\n",
    "    for i in range(1, n + 1):\n",
    "        previous *= i \n",
    "    return previous\n",
    "\n",
    "print(factorial(5))"
   ]
  },
  {
   "cell_type": "markdown",
   "metadata": {},
   "source": [
    "Let's define again a timer decorator, but in this case, the decorated function can accept any argument (so we use `*args` and `**kwargs`)"
   ]
  },
  {
   "cell_type": "code",
   "execution_count": 30,
   "metadata": {},
   "outputs": [
    {
     "name": "stdout",
     "output_type": "stream",
     "text": [
      "It took 4.291534423828125e-06 second to run\n",
      "None\n"
     ]
    }
   ],
   "source": [
    "def my_timer(fun):\n",
    "    def wrapper(*args, **kwargs):\n",
    "        time_0 = time.time()\n",
    "        fun(*args, **kwargs)\n",
    "        time_1 = time.time()\n",
    "        print(f'It took {time_1 - time_0} second to run')\n",
    "    return wrapper\n",
    "\n",
    "\n",
    "@my_timer\n",
    "def factorial(n):\n",
    "    previous = 1\n",
    "    for i in range(1, n + 1):\n",
    "        previous *= i\n",
    "    return previous\n",
    "\n",
    "print(factorial(5))"
   ]
  },
  {
   "cell_type": "markdown",
   "metadata": {},
   "source": [
    "We are printing the message about how long it took for it to run, but we are not getting the value of factorial. That is because wrapper is not returning anything, and thus, it prints None. The solution is simply put a `return` statement. Easy, isn't it...? "
   ]
  },
  {
   "cell_type": "code",
   "execution_count": 31,
   "metadata": {},
   "outputs": [
    {
     "name": "stdout",
     "output_type": "stream",
     "text": [
      "It took 7.867813110351562e-06 second to run\n",
      "120\n"
     ]
    }
   ],
   "source": [
    "def my_timer(fun):\n",
    "    def wrapper(*args, **kwargs):\n",
    "        time_0 = time.time()\n",
    "        output = fun(*args, **kwargs)\n",
    "        time_1 = time.time()\n",
    "        print(f'It took {time_1 - time_0} second to run')\n",
    "        return output\n",
    "    return wrapper\n",
    "\n",
    "\n",
    "@my_timer\n",
    "def factorial(n):\n",
    "    previous = 1\n",
    "    for i in range(1, n + 1):\n",
    "        previous *= i\n",
    "    return previous\n",
    "\n",
    "print(factorial(5))"
   ]
  },
  {
   "cell_type": "markdown",
   "metadata": {},
   "source": [
    "### Classmethods and Staticmethods\n",
    "\n",
    "Two often used decorators are classmethods and staticmethods. They add functionality to methods\n",
    "\n",
    "classmethod must have a reference to a class object instead of an instance, whereas static methods doesn't point to an instance or a class (however they are bound to the class, so you have to call it from that class or from an instance of that class)"
   ]
  },
  {
   "cell_type": "markdown",
   "metadata": {},
   "source": [
    "Let's observe an example where we use classmethod and staticmethod. We define a class `Date` which we can initialize with three numbers: day, month and year. It also has a method `get_date` that returns the date in a string format."
   ]
  },
  {
   "cell_type": "code",
   "execution_count": 37,
   "metadata": {},
   "outputs": [
    {
     "name": "stdout",
     "output_type": "stream",
     "text": [
      "The date is 19/5\n"
     ]
    }
   ],
   "source": [
    "class Date:\n",
    "\n",
    "    def __init__(self, day=0, month=0, year=0):\n",
    "        self.day = day\n",
    "        self.month = month\n",
    "        self.year = year\n",
    "    \n",
    "    def get_date(self):\n",
    "        print(f'The date is {self.day}/{self.month}')\n",
    "\n",
    "date = Date(19, 5, 1991)\n",
    "date.get_date()"
   ]
  },
  {
   "cell_type": "markdown",
   "metadata": {},
   "source": [
    "Nothing fancy so far. Let's add a classmethod to `Date`\n",
    "\n",
    "> <font size=+1>Classmethods are used to create methods that don't depend on the instance but on the class</font>\n",
    "\n",
    "This means that the classmethod can be called without an instance of the class. Actually, when a method is a classmethod it will be called before the `__init__` method\n",
    "\n",
    "Ok, that is cool, but why would we want to do that? Well, imagine that you want to create an instance of `Date` that directly tells you the current date. You can do that by calling a classmethod that returns the current date, and you don't have to pass any input.\n",
    "\n",
    "The syntax of a classmethod is:\n",
    "```\n",
    "@classmethod\n",
    "def method_name(cls, *args, **kwargs):\n",
    "    # do something\n",
    "    return something\n",
    "```"
   ]
  },
  {
   "cell_type": "markdown",
   "metadata": {},
   "source": [
    "Important! Notice that the first argument of the classmethod is the class itself, not an instance of the class. So we don't use `self`, but instead `cls`."
   ]
  },
  {
   "cell_type": "code",
   "execution_count": 39,
   "metadata": {},
   "outputs": [],
   "source": [
    "import datetime\n",
    "\n",
    "class Date:\n",
    "    \n",
    "    def __init__(self, day=0, month=0, year=0):\n",
    "        print('__init__ method called!')\n",
    "        self.day = day\n",
    "        self.month = month\n",
    "        self.year = year\n",
    "\n",
    "    def get_date(self):\n",
    "        print(f'The date is {self.day}/{self.month}')\n",
    "\n",
    "    @classmethod\n",
    "    def today(cls):\n",
    "        print('Classmethod called!')\n",
    "        today = datetime.date.today()\n",
    "        day = today.day\n",
    "        month = today.month\n",
    "        year = today.year\n",
    "        print('I am about to call the __init__ method')\n",
    "        return cls(day, month, year)"
   ]
  },
  {
   "cell_type": "markdown",
   "metadata": {},
   "source": [
    "Observe the code above, (I just added a few of print statements to make it easier to understand). We are creating a classmethod that returns the current date, first by calculating the current date, and then, the method is calling for the constructor of the class `Date` with the arguments we calculated."
   ]
  },
  {
   "cell_type": "markdown",
   "metadata": {},
   "source": [
    "We instansiate a class `Date` using its classmethod like this: (Observe what is printed out and compare the output to follow the flow of the code)"
   ]
  },
  {
   "cell_type": "code",
   "execution_count": 40,
   "metadata": {},
   "outputs": [
    {
     "name": "stdout",
     "output_type": "stream",
     "text": [
      "Classmethod called!\n",
      "I am about to call the __init__ method\n",
      "__init__ method called!\n"
     ]
    }
   ],
   "source": [
    "current_date = Date.today()"
   ]
  },
  {
   "cell_type": "code",
   "execution_count": 42,
   "metadata": {},
   "outputs": [
    {
     "name": "stdout",
     "output_type": "stream",
     "text": [
      "The date is 4/11\n"
     ]
    }
   ],
   "source": [
    "current_date.get_date()"
   ]
  },
  {
   "cell_type": "markdown",
   "metadata": {},
   "source": [
    "### Staticmethods"
   ]
  },
  {
   "cell_type": "markdown",
   "metadata": {},
   "source": [
    "> <font size=+1>Staticmethods are methods that are not bound to an instance or a class.</font>"
   ]
  },
  {
   "cell_type": "markdown",
   "metadata": {},
   "source": [
    "This means that we DON'T need the `self` or `cls` arguments, because anything we pass to the staticmethod won't depend on the instance or the class.\n",
    "\n",
    "Same as classmethods, we can define staticmethods like this:\n",
    "```\n",
    "@staticmethod\n",
    "def method_name(*args, **kwargs):\n",
    "    # do something\n",
    "    return something\n",
    "```"
   ]
  },
  {
   "cell_type": "markdown",
   "metadata": {},
   "source": [
    "Let's define a staticmethod that returns checks if the date is valid. As you can imagine, checking if a date is valid doesn't depend on the instance or the class, so staticmethods are perfect for this."
   ]
  },
  {
   "cell_type": "code",
   "execution_count": 46,
   "metadata": {},
   "outputs": [],
   "source": [
    "class Date:\n",
    "\n",
    "    def __init__(self, day=0, month=0, year=0):\n",
    "        self.day = day\n",
    "        self.month = month\n",
    "        self.year = year\n",
    "        \n",
    "    def get_date(self):\n",
    "        print(self.day, self.month)\n",
    "\n",
    "    @classmethod\n",
    "    def today(cls):\n",
    "        today = datetime.date.today()\n",
    "        day = today.day\n",
    "        month = today.month\n",
    "        year = today.year\n",
    "        return cls(day, month, year)\n",
    "  \n",
    "    @staticmethod\n",
    "    def is_date_valid(day, month, year):\n",
    "        return day <= 31 and month <= 12 and year <= 3999"
   ]
  },
  {
   "cell_type": "markdown",
   "metadata": {},
   "source": [
    "Once again, staticmethods don't need `self` or `cls` arguments, meaning that we can call them from an instance or from the class."
   ]
  },
  {
   "cell_type": "code",
   "execution_count": 47,
   "metadata": {},
   "outputs": [
    {
     "data": {
      "text/plain": [
       "True"
      ]
     },
     "execution_count": 47,
     "metadata": {},
     "output_type": "execute_result"
    }
   ],
   "source": [
    "Date.is_date_valid(1, 1, 1)"
   ]
  },
  {
   "cell_type": "code",
   "execution_count": 48,
   "metadata": {},
   "outputs": [
    {
     "data": {
      "text/plain": [
       "True"
      ]
     },
     "execution_count": 48,
     "metadata": {},
     "output_type": "execute_result"
    }
   ],
   "source": [
    "date = Date.today()\n",
    "date.is_date_valid(1, 1, 1)"
   ]
  },
  {
   "cell_type": "markdown",
   "metadata": {},
   "source": [
    "One cool thing about this is that we can use the staticmethod inside the `__init__` method of the class `Date`, so when we pass the arguments to the constructor, we can use the staticmethod to check if the date is valid."
   ]
  },
  {
   "cell_type": "code",
   "execution_count": 50,
   "metadata": {},
   "outputs": [],
   "source": [
    "class Date:\n",
    "\n",
    "    def __init__(self, day=0, month=0, year=0):\n",
    "        if self.is_date_valid(day, month, year):\n",
    "            self.day = day\n",
    "            self.month = month\n",
    "            self.year = year\n",
    "        else:\n",
    "            raise ValueError('Invalid date!')\n",
    "        \n",
    "    def get_date(self):\n",
    "        print(self.day, self.month)\n",
    "\n",
    "    @classmethod\n",
    "    def today(cls):\n",
    "        today = datetime.date.today()\n",
    "        day = today.day\n",
    "        month = today.month\n",
    "        year = today.year\n",
    "        return cls(day, month, year)\n",
    "  \n",
    "    @staticmethod\n",
    "    def is_date_valid(day, month, year):\n",
    "        return day <= 31 and month <= 12 and year <= 3999"
   ]
  },
  {
   "cell_type": "markdown",
   "metadata": {},
   "source": [
    "If we pass a valid date, the instance will be created and no problems will appear. On the other hand, if we try to use an invalid date, Python will raise an error (ValueError)"
   ]
  },
  {
   "cell_type": "code",
   "execution_count": 52,
   "metadata": {},
   "outputs": [],
   "source": [
    "good_date = Date(19, 5, 1991)"
   ]
  },
  {
   "cell_type": "markdown",
   "metadata": {},
   "source": [
    "No problem so far"
   ]
  },
  {
   "cell_type": "code",
   "execution_count": 53,
   "metadata": {},
   "outputs": [
    {
     "ename": "ValueError",
     "evalue": "Invalid date!",
     "output_type": "error",
     "traceback": [
      "\u001b[0;31m---------------------------------------------------------------------------\u001b[0m",
      "\u001b[0;31mValueError\u001b[0m                                Traceback (most recent call last)",
      "\u001b[0;32m<ipython-input-53-9f3faa9b14fc>\u001b[0m in \u001b[0;36m<module>\u001b[0;34m\u001b[0m\n\u001b[0;32m----> 1\u001b[0;31m \u001b[0mbad_date\u001b[0m \u001b[0;34m=\u001b[0m \u001b[0mDate\u001b[0m\u001b[0;34m(\u001b[0m\u001b[0;36m31\u001b[0m\u001b[0;34m,\u001b[0m \u001b[0;36m13\u001b[0m\u001b[0;34m,\u001b[0m \u001b[0;36m2021\u001b[0m\u001b[0;34m)\u001b[0m\u001b[0;34m\u001b[0m\u001b[0;34m\u001b[0m\u001b[0m\n\u001b[0m",
      "\u001b[0;32m<ipython-input-50-3313869b9629>\u001b[0m in \u001b[0;36m__init__\u001b[0;34m(self, day, month, year)\u001b[0m\n\u001b[1;32m      7\u001b[0m             \u001b[0mself\u001b[0m\u001b[0;34m.\u001b[0m\u001b[0myear\u001b[0m \u001b[0;34m=\u001b[0m \u001b[0myear\u001b[0m\u001b[0;34m\u001b[0m\u001b[0;34m\u001b[0m\u001b[0m\n\u001b[1;32m      8\u001b[0m         \u001b[0;32melse\u001b[0m\u001b[0;34m:\u001b[0m\u001b[0;34m\u001b[0m\u001b[0;34m\u001b[0m\u001b[0m\n\u001b[0;32m----> 9\u001b[0;31m             \u001b[0;32mraise\u001b[0m \u001b[0mValueError\u001b[0m\u001b[0;34m(\u001b[0m\u001b[0;34m'Invalid date!'\u001b[0m\u001b[0;34m)\u001b[0m\u001b[0;34m\u001b[0m\u001b[0;34m\u001b[0m\u001b[0m\n\u001b[0m\u001b[1;32m     10\u001b[0m \u001b[0;34m\u001b[0m\u001b[0m\n\u001b[1;32m     11\u001b[0m     \u001b[0;32mdef\u001b[0m \u001b[0mget_date\u001b[0m\u001b[0;34m(\u001b[0m\u001b[0mself\u001b[0m\u001b[0;34m)\u001b[0m\u001b[0;34m:\u001b[0m\u001b[0;34m\u001b[0m\u001b[0;34m\u001b[0m\u001b[0m\n",
      "\u001b[0;31mValueError\u001b[0m: Invalid date!"
     ]
    }
   ],
   "source": [
    "bad_date = Date(31, 13, 2021)"
   ]
  },
  {
   "cell_type": "markdown",
   "metadata": {},
   "source": [
    "Pretty neat isn't it?"
   ]
  },
  {
   "cell_type": "markdown",
   "metadata": {},
   "source": [
    "## Generators"
   ]
  },
  {
   "cell_type": "markdown",
   "metadata": {},
   "source": [
    "Generators are like lists, but instead of giving you all the elements of the list, it will give you small slices of the whole list. This is helpful for:\n",
    "\n",
    "- Saving memory\n",
    "- Representing infinite lists (without buffer overflow)\n",
    "- Generate pipelines (Fibonacci or factorial)\n",
    "\n",
    "Two main ways to create generators: \n",
    "1. substituting return for yield in a function\n",
    "2. Using a comprehension"
   ]
  },
  {
   "cell_type": "markdown",
   "metadata": {},
   "source": [
    "The difference between `return` and `yield`, is that `yield` will _pause_ the function at that point, and the next time the function is called, it will _resume_ at that point"
   ]
  },
  {
   "cell_type": "code",
   "execution_count": 55,
   "metadata": {},
   "outputs": [],
   "source": [
    "def gen_test():\n",
    "    print('Starting the generator')\n",
    "    yield 1\n",
    "    print('Second time calling the generator')\n",
    "    yield 2\n",
    "    print('Third time calling the generator')\n",
    "    yield 3\n",
    "    print('Fourth time. After this, I will die if you call me again')\n",
    "    yield 4\n",
    "    print('Why do you hate me?')\n",
    "\n",
    "gen = gen_test()"
   ]
  },
  {
   "cell_type": "markdown",
   "metadata": {},
   "source": [
    "As with other variables, Python is dynamically typed, so just by observing that `yield` is a keyword, Python knows that it is a generator."
   ]
  },
  {
   "cell_type": "code",
   "execution_count": 56,
   "metadata": {},
   "outputs": [
    {
     "data": {
      "text/plain": [
       "generator"
      ]
     },
     "execution_count": 56,
     "metadata": {},
     "output_type": "execute_result"
    }
   ],
   "source": [
    "type(gen)"
   ]
  },
  {
   "cell_type": "markdown",
   "metadata": {},
   "source": [
    "Let's call for the generator, and see the output. It looks like a function right? Maybe we can try to simply use parentheses to call it."
   ]
  },
  {
   "cell_type": "code",
   "execution_count": 57,
   "metadata": {},
   "outputs": [
    {
     "ename": "TypeError",
     "evalue": "'generator' object is not callable",
     "output_type": "error",
     "traceback": [
      "\u001b[0;31m---------------------------------------------------------------------------\u001b[0m",
      "\u001b[0;31mTypeError\u001b[0m                                 Traceback (most recent call last)",
      "\u001b[0;32m<ipython-input-57-0c2066717c66>\u001b[0m in \u001b[0;36m<module>\u001b[0;34m\u001b[0m\n\u001b[0;32m----> 1\u001b[0;31m \u001b[0mgen\u001b[0m\u001b[0;34m(\u001b[0m\u001b[0;34m)\u001b[0m\u001b[0;34m\u001b[0m\u001b[0;34m\u001b[0m\u001b[0m\n\u001b[0m",
      "\u001b[0;31mTypeError\u001b[0m: 'generator' object is not callable"
     ]
    }
   ],
   "source": [
    "gen()"
   ]
  },
  {
   "cell_type": "markdown",
   "metadata": {},
   "source": [
    "Oh, it looks like it's not callable... \n",
    "\n",
    "The function to make a generator start running is `next`"
   ]
  },
  {
   "cell_type": "code",
   "execution_count": 58,
   "metadata": {},
   "outputs": [
    {
     "name": "stdout",
     "output_type": "stream",
     "text": [
      "Starting the generator\n"
     ]
    },
    {
     "data": {
      "text/plain": [
       "1"
      ]
     },
     "execution_count": 58,
     "metadata": {},
     "output_type": "execute_result"
    }
   ],
   "source": [
    "next(gen)"
   ]
  },
  {
   "cell_type": "markdown",
   "metadata": {},
   "source": [
    "Let's call it again!"
   ]
  },
  {
   "cell_type": "code",
   "execution_count": 59,
   "metadata": {},
   "outputs": [
    {
     "name": "stdout",
     "output_type": "stream",
     "text": [
      "Second time calling the generator\n"
     ]
    },
    {
     "data": {
      "text/plain": [
       "2"
      ]
     },
     "execution_count": 59,
     "metadata": {},
     "output_type": "execute_result"
    }
   ],
   "source": [
    "next(gen)"
   ]
  },
  {
   "cell_type": "markdown",
   "metadata": {},
   "source": [
    "Nice, different output!"
   ]
  },
  {
   "cell_type": "code",
   "execution_count": 60,
   "metadata": {},
   "outputs": [
    {
     "name": "stdout",
     "output_type": "stream",
     "text": [
      "Third time calling the generator\n"
     ]
    },
    {
     "data": {
      "text/plain": [
       "3"
      ]
     },
     "execution_count": 60,
     "metadata": {},
     "output_type": "execute_result"
    }
   ],
   "source": [
    "next(gen)"
   ]
  },
  {
   "cell_type": "markdown",
   "metadata": {},
   "source": [
    "What happens if we keep calling `next`?"
   ]
  },
  {
   "cell_type": "code",
   "execution_count": 61,
   "metadata": {},
   "outputs": [
    {
     "name": "stdout",
     "output_type": "stream",
     "text": [
      "Fourth time. After this, I will die if you call me again\n"
     ]
    },
    {
     "data": {
      "text/plain": [
       "4"
      ]
     },
     "execution_count": 61,
     "metadata": {},
     "output_type": "execute_result"
    }
   ],
   "source": [
    "next(gen)"
   ]
  },
  {
   "cell_type": "markdown",
   "metadata": {},
   "source": [
    "Hmmm, there are no more `yield` statements... What will happen if I try to call `next` again?"
   ]
  },
  {
   "cell_type": "code",
   "execution_count": 62,
   "metadata": {},
   "outputs": [
    {
     "name": "stdout",
     "output_type": "stream",
     "text": [
      "Why do you hate me?\n"
     ]
    },
    {
     "ename": "StopIteration",
     "evalue": "",
     "output_type": "error",
     "traceback": [
      "\u001b[0;31m---------------------------------------------------------------------------\u001b[0m",
      "\u001b[0;31mStopIteration\u001b[0m                             Traceback (most recent call last)",
      "\u001b[0;32m<ipython-input-62-6e72e47198db>\u001b[0m in \u001b[0;36m<module>\u001b[0;34m\u001b[0m\n\u001b[0;32m----> 1\u001b[0;31m \u001b[0mnext\u001b[0m\u001b[0;34m(\u001b[0m\u001b[0mgen\u001b[0m\u001b[0;34m)\u001b[0m\u001b[0;34m\u001b[0m\u001b[0;34m\u001b[0m\u001b[0m\n\u001b[0m",
      "\u001b[0;31mStopIteration\u001b[0m: "
     ]
    }
   ],
   "source": [
    "next(gen)"
   ]
  },
  {
   "cell_type": "markdown",
   "metadata": {},
   "source": [
    "It didn't work! Well, technically it worked but it found its end, so it stopped iterating through the generator."
   ]
  },
  {
   "cell_type": "markdown",
   "metadata": {},
   "source": [
    "### Generator in loops"
   ]
  },
  {
   "cell_type": "markdown",
   "metadata": {},
   "source": [
    "Usually, generators are used in loops. A `for` loop will know when there are no more elements (or `yield` statements) to iterate through, and it will stop the loop."
   ]
  },
  {
   "cell_type": "code",
   "execution_count": 63,
   "metadata": {},
   "outputs": [],
   "source": [
    "def gen_test():\n",
    "    print('Starting the generator')\n",
    "    yield 1\n",
    "    print('Second time calling the generator')\n",
    "    yield 2\n",
    "    print('Third time calling the generator')\n",
    "    yield 3\n",
    "    print('Fourth time. After this, I will die if you call me again')\n",
    "    yield 4\n",
    "    print('Why do you hate me?')\n",
    "\n",
    "gen = gen_test()"
   ]
  },
  {
   "cell_type": "markdown",
   "metadata": {},
   "source": [
    "Let's use it as an iterable in a `for` loop."
   ]
  },
  {
   "cell_type": "code",
   "execution_count": 64,
   "metadata": {},
   "outputs": [
    {
     "name": "stdout",
     "output_type": "stream",
     "text": [
      "Starting the generator\n",
      "1\n",
      "Second time calling the generator\n",
      "2\n",
      "Third time calling the generator\n",
      "3\n",
      "Fourth time. After this, I will die if you call me again\n",
      "4\n",
      "Why do you hate me?\n"
     ]
    }
   ],
   "source": [
    "for i in gen:\n",
    "    print(i)"
   ]
  },
  {
   "cell_type": "markdown",
   "metadata": {},
   "source": [
    "Cool! So we have everything inside the generator printed out with no errors."
   ]
  },
  {
   "cell_type": "markdown",
   "metadata": {},
   "source": [
    "With this in mind, you can create infinite generators that don't take infinite space in memory!"
   ]
  },
  {
   "cell_type": "code",
   "execution_count": 66,
   "metadata": {},
   "outputs": [],
   "source": [
    "def inf_gen():\n",
    "    i = 0\n",
    "    while True:   \n",
    "        yield i\n",
    "        i += 1\n",
    "\n",
    "gen = inf_gen()"
   ]
  },
  {
   "cell_type": "markdown",
   "metadata": {},
   "source": [
    "Observe that this generator has an infinite loop inside, and it will hit the `yield` statement every time it loops.\n",
    "\n",
    "Try to run the next cell multiple times and see what happens."
   ]
  },
  {
   "cell_type": "code",
   "execution_count": 75,
   "metadata": {},
   "outputs": [
    {
     "data": {
      "text/plain": [
       "8"
      ]
     },
     "execution_count": 75,
     "metadata": {},
     "output_type": "execute_result"
    }
   ],
   "source": [
    "next(gen)  "
   ]
  },
  {
   "cell_type": "markdown",
   "metadata": {},
   "source": [
    "It is a generator that returns the numbers from 0 to infinity. Careful now, if you use it in a `for` loop, it will never stop!\n",
    "\n",
    "Try it out in the next cell!"
   ]
  },
  {
   "cell_type": "code",
   "execution_count": null,
   "metadata": {},
   "outputs": [],
   "source": [
    "# Press Ctrl + C or the stop button to stop me!\n",
    "for i in inf_gen():\n",
    "    print(i, end=' ')"
   ]
  },
  {
   "cell_type": "markdown",
   "metadata": {},
   "source": [
    "And, using this principle, you can create an infinite fibonacci generator. Whatever your generator does is up to you!"
   ]
  },
  {
   "cell_type": "code",
   "execution_count": 77,
   "metadata": {},
   "outputs": [],
   "source": [
    "# Function with yield statement:\n",
    "def gen_fib():\n",
    "    n_0 = 0\n",
    "    n_1 = 1\n",
    "    while True:\n",
    "        n_2 = n_0 + n_1\n",
    "        yield n_2\n",
    "        print('I am coming back')\n",
    "        n_0 = n_1\n",
    "        n_1 = n_2\n",
    "\n",
    "fib = gen_fib()   \n"
   ]
  },
  {
   "cell_type": "code",
   "execution_count": 78,
   "metadata": {},
   "outputs": [
    {
     "name": "stdout",
     "output_type": "stream",
     "text": [
      "1\n",
      "I am coming back\n",
      "2\n",
      "I am coming back\n",
      "3\n",
      "I am coming back\n",
      "5\n",
      "I am coming back\n",
      "8\n",
      "I am coming back\n",
      "13\n",
      "I am coming back\n",
      "21\n",
      "I am coming back\n",
      "34\n",
      "I am coming back\n",
      "55\n",
      "I am coming back\n",
      "89\n"
     ]
    }
   ],
   "source": [
    "for _ in range(10):\n",
    "    print(next(fib))"
   ]
  },
  {
   "cell_type": "markdown",
   "metadata": {},
   "source": [
    "### Generator comprehensions"
   ]
  },
  {
   "cell_type": "markdown",
   "metadata": {},
   "source": [
    "You don't need to define a function to create a generator. You can use a comprehension statement and wrap it between parentheses"
   ]
  },
  {
   "cell_type": "code",
   "execution_count": null,
   "metadata": {},
   "outputs": [],
   "source": [
    "ls_double = [x * 2 for x in range(10)]\n",
    "ls_gen = (x * 2 for x in range(10))"
   ]
  },
  {
   "cell_type": "code",
   "execution_count": null,
   "metadata": {},
   "outputs": [],
   "source": [
    "print(ls_double)\n",
    "print(ls_gen)\n",
    "# print(next(ls_gen))\n",
    "# print(next(ls_gen))\n",
    "# print(next(ls_gen))"
   ]
  },
  {
   "cell_type": "markdown",
   "metadata": {},
   "source": [
    "But, similar to normal generators, if you exhaust it, it will throw an error next time you try to retrieve more data"
   ]
  },
  {
   "cell_type": "code",
   "execution_count": null,
   "metadata": {},
   "outputs": [],
   "source": [
    "next(ls_gen)"
   ]
  },
  {
   "cell_type": "code",
   "execution_count": null,
   "metadata": {},
   "outputs": [],
   "source": [
    "for i in ls_gen:\n",
    "    print(i)"
   ]
  }
 ],
 "metadata": {
  "interpreter": {
   "hash": "3d597f4c481aa0f25dceb95d2a0067e73c0966dcbd003d741d821a7208527ecf"
  },
  "kernelspec": {
   "display_name": "Python 3.9.1 64-bit ('base': conda)",
   "name": "python3"
  },
  "language_info": {
   "codemirror_mode": {
    "name": "ipython",
    "version": 3
   },
   "file_extension": ".py",
   "mimetype": "text/x-python",
   "name": "python",
   "nbconvert_exporter": "python",
   "pygments_lexer": "ipython3",
   "version": "3.8.11"
  },
  "orig_nbformat": 4
 },
 "nbformat": 4,
 "nbformat_minor": 2
}
