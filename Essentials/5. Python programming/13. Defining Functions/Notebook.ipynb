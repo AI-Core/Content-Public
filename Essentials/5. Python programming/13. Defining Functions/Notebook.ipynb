{
 "cells": [
  {
   "cell_type": "markdown",
   "metadata": {},
   "source": [
    "# Functions"
   ]
  },
  {
   "cell_type": "markdown",
   "metadata": {},
   "source": [
    "## Learning Objectives\n",
    "- Understand functions.\n",
    "- Learn how to define a function.\n",
    "- Understand the basic difference between functions and methods.\n",
    "- Understand arguments and outputs.\n",
    "- Learn how to use the help() function.\n",
    "- Understand the concepts of scope and recursion."
   ]
  },
  {
   "cell_type": "markdown",
   "metadata": {},
   "source": [
    "## Introduction\n",
    "\n",
    "- Functions comprise a block of code that only runs when called.\n",
    "- They enable us to avoid redefining repetitive operations.\n",
    "- Similar to For loops, functions allow us to adhere to the DRY principle."
   ]
  },
  {
   "cell_type": "markdown",
   "metadata": {},
   "source": [
    "## Defining Functions"
   ]
  },
  {
   "cell_type": "markdown",
   "metadata": {},
   "source": [
    "- A function accepts parameters and can return an output.\n",
    "- The value passed in as a parameter is called an **argument**.\n",
    "- A function associated with an object is called a method.\n",
    "- An instance of a function is called a function call. <br><br>\n",
    "The basic syntax of a function is as follows:"
   ]
  },
  {
   "cell_type": "code",
   "execution_count": null,
   "metadata": {},
   "outputs": [],
   "source": [
    "# function definition\n",
    "def function_name (param1, param2 = 1):\n",
    "    '''\n",
    "    DOCSTRING: explains function\n",
    "    INPUT: Name (str)\n",
    "    OUTPUT: Hello Name (str)\n",
    "    '''\n",
    "    # add code to run\n",
    "    return(\"Hello \" + param1)"
   ]
  },
  {
   "cell_type": "code",
   "execution_count": null,
   "metadata": {},
   "outputs": [],
   "source": [
    "# function call\n",
    "function_name(\"Zain\")"
   ]
  },
  {
   "cell_type": "code",
   "execution_count": null,
   "metadata": {},
   "outputs": [],
   "source": [
    "function_name"
   ]
  },
  {
   "cell_type": "markdown",
   "metadata": {},
   "source": [
    "- The __def__ keyword notifies python that a function is about to be defined.\n",
    "- __Function name__, as implied, refers to the name of the function (all in lower case, separated by an underscore; built-in keywords should not be used (see PEP8 for details)).\n",
    "- __Parameters__, in parentheses, are the passed-in values.\n",
    "- __Default arguments__ are arguments that have a default value to revert to if no other value is specified. Here, param2 = 1 indicates that param2 will be 1, unless otherwise specified in the function call.\n",
    "- __Colon__ indicates the end of the definition line; the next line will be indented.\n",
    "- __Docstrings__ explain what the function is doing (read PEP257 or google __*'python docstrings'*__ for guidelines; https://www.python.org/dev/peps/pep-0257/).\n",
    "- The __Return__ keyword indicates the output of the function.\n",
    "<br><br>\n",
    "\n",
    "Things to note. \n",
    "- When performing a function call, the name of the function should be written, followed by parentheses containing the arguments to be passed.\n",
    "- If a function is called without parentheses, it will not run! It will simply display some information on the function, including the module it belongs to, its name, and the parameters it accepts."
   ]
  },
  {
   "cell_type": "markdown",
   "metadata": {},
   "source": [
    "## The help() Function"
   ]
  },
  {
   "cell_type": "markdown",
   "metadata": {},
   "source": [
    "- The help() function is used to find the documentation of a function.\n",
    "- The keyboard shortcut for this is Shift + Tab.\n",
    "- For more detailed information, find and use the full function documentation on Google."
   ]
  },
  {
   "cell_type": "code",
   "execution_count": null,
   "metadata": {},
   "outputs": [],
   "source": [
    "help(function_name)"
   ]
  },
  {
   "cell_type": "code",
   "execution_count": 5,
   "metadata": {},
   "outputs": [
    {
     "ename": "TypeError",
     "evalue": "func() takes 0 positional arguments but 1 was given",
     "output_type": "error",
     "traceback": [
      "\u001b[0;31m---------------------------------------------------------------------------\u001b[0m",
      "\u001b[0;31mTypeError\u001b[0m                                 Traceback (most recent call last)",
      "\u001b[0;32m<ipython-input-5-52683211d9b6>\u001b[0m in \u001b[0;36m<module>\u001b[0;34m\u001b[0m\n\u001b[1;32m      4\u001b[0m     \u001b[0;32mreturn\u001b[0m \u001b[0mx\u001b[0m\u001b[0;34m\u001b[0m\u001b[0;34m\u001b[0m\u001b[0m\n\u001b[1;32m      5\u001b[0m \u001b[0;34m\u001b[0m\u001b[0m\n\u001b[0;32m----> 6\u001b[0;31m \u001b[0mfunc\u001b[0m\u001b[0;34m(\u001b[0m\u001b[0mx\u001b[0m\u001b[0;34m)\u001b[0m\u001b[0;34m\u001b[0m\u001b[0;34m\u001b[0m\u001b[0m\n\u001b[0m",
      "\u001b[0;31mTypeError\u001b[0m: func() takes 0 positional arguments but 1 was given"
     ]
    }
   ],
   "source": [
    "x = 0\n",
    "def func(x):\n",
    "    x = x + 1\n",
    "    return x\n",
    "\n",
    "func(x)"
   ]
  },
  {
   "cell_type": "code",
   "execution_count": 3,
   "metadata": {},
   "outputs": [
    {
     "name": "stdout",
     "output_type": "stream",
     "text": [
      "print(value, ..., sep=' ', end='\\n', file=sys.stdout, flush=False)\n",
      "\n",
      "Prints the values to a stream, or to sys.stdout by default.\n",
      "Optional keyword arguments:\n",
      "file:  a file-like object (stream); defaults to the current sys.stdout.\n",
      "sep:   string inserted between values, default a space.\n",
      "end:   string appended after the last value, default a newline.\n",
      "flush: whether to forcibly flush the stream.\n"
     ]
    }
   ],
   "source": [
    "help(print)"
   ]
  },
  {
   "cell_type": "markdown",
   "metadata": {},
   "source": [
    "## Variable Scope"
   ]
  },
  {
   "cell_type": "markdown",
   "metadata": {},
   "source": [
    "- Variable scope refers to the sections in a program in which a variable can be referenced.\n",
    "- There are two kinds of variable scopes: local and global.\n",
    "- A variable defined in a function can only be referenced within that function: local scope.\n",
    "- A variable defined outside a function (in the general script) can be referenced within the function; however, it cannot be modified from within the function (UnboundLocalError).\n",
    "- To modify it within the function, it must be redefined within the function."
   ]
  },
  {
   "cell_type": "code",
   "execution_count": null,
   "metadata": {},
   "outputs": [],
   "source": [
    "counter = 0 # Global scope\n",
    "\n",
    "def add_to_counter():\n",
    "    counter = 12\n",
    "    output = counter # Local scope\n",
    "    return output # When calling for the function, the returned value will correspond to what is included in this statement.\n",
    "\n",
    "x = add_to_counter()\n",
    "print(x) \n",
    "print(counter) # The local scope does not change the global scope."
   ]
  },
  {
   "cell_type": "code",
   "execution_count": 22,
   "metadata": {},
   "outputs": [
    {
     "name": "stdout",
     "output_type": "stream",
     "text": [
      "12\n",
      "0\n"
     ]
    }
   ],
   "source": [
    "counter = 0 # Global scope\n",
    "\n",
    "def add_to_counter():\n",
    "    counter = 12 # Local scope\n",
    "    return counter # When calling for the function, the returned value will correspond to what is included in this statement.\n",
    "\n",
    "x = add_to_counter()\n",
    "print(x) \n",
    "print(counter) # The local scope does not change the global scope."
   ]
  },
  {
   "cell_type": "markdown",
   "metadata": {},
   "source": [
    "Although the global scope affects the local scope, it does not mean that the global variable is actually within the function. In the below example, global counter affects the value of local counter; however, if it is used before it is defined in the function, it will not work. This is because the function does not know whether to use the local or global scope."
   ]
  },
  {
   "cell_type": "code",
   "execution_count": 23,
   "metadata": {},
   "outputs": [
    {
     "ename": "UnboundLocalError",
     "evalue": "local variable 'counter' referenced before assignment",
     "output_type": "error",
     "traceback": [
      "\u001b[1;31m---------------------------------------------------------------------------\u001b[0m",
      "\u001b[1;31mUnboundLocalError\u001b[0m                         Traceback (most recent call last)",
      "\u001b[1;32m<ipython-input-23-1c3ae8454087>\u001b[0m in \u001b[0;36m<module>\u001b[1;34m\u001b[0m\n\u001b[0;32m      5\u001b[0m     \u001b[1;32mreturn\u001b[0m \u001b[0mcounter\u001b[0m\u001b[1;33m\u001b[0m\u001b[1;33m\u001b[0m\u001b[0m\n\u001b[0;32m      6\u001b[0m \u001b[1;33m\u001b[0m\u001b[0m\n\u001b[1;32m----> 7\u001b[1;33m \u001b[0mcounter\u001b[0m \u001b[1;33m=\u001b[0m \u001b[0madd_to_counter\u001b[0m\u001b[1;33m(\u001b[0m\u001b[1;33m)\u001b[0m\u001b[1;33m\u001b[0m\u001b[1;33m\u001b[0m\u001b[0m\n\u001b[0m\u001b[0;32m      8\u001b[0m \u001b[1;33m\u001b[0m\u001b[0m\n\u001b[0;32m      9\u001b[0m \u001b[0mprint\u001b[0m\u001b[1;33m(\u001b[0m\u001b[0mcounter\u001b[0m\u001b[1;33m)\u001b[0m\u001b[1;33m\u001b[0m\u001b[1;33m\u001b[0m\u001b[0m\n",
      "\u001b[1;32m<ipython-input-23-1c3ae8454087>\u001b[0m in \u001b[0;36madd_to_counter\u001b[1;34m()\u001b[0m\n\u001b[0;32m      2\u001b[0m \u001b[1;33m\u001b[0m\u001b[0m\n\u001b[0;32m      3\u001b[0m \u001b[1;32mdef\u001b[0m \u001b[0madd_to_counter\u001b[0m\u001b[1;33m(\u001b[0m\u001b[1;33m)\u001b[0m\u001b[1;33m:\u001b[0m\u001b[1;33m\u001b[0m\u001b[1;33m\u001b[0m\u001b[0m\n\u001b[1;32m----> 4\u001b[1;33m     \u001b[0mcounter\u001b[0m \u001b[1;33m=\u001b[0m \u001b[0mcounter\u001b[0m \u001b[1;33m+\u001b[0m \u001b[1;36m1\u001b[0m\u001b[1;33m\u001b[0m\u001b[1;33m\u001b[0m\u001b[0m\n\u001b[0m\u001b[0;32m      5\u001b[0m     \u001b[1;32mreturn\u001b[0m \u001b[0mcounter\u001b[0m\u001b[1;33m\u001b[0m\u001b[1;33m\u001b[0m\u001b[0m\n\u001b[0;32m      6\u001b[0m \u001b[1;33m\u001b[0m\u001b[0m\n",
      "\u001b[1;31mUnboundLocalError\u001b[0m: local variable 'counter' referenced before assignment"
     ]
    }
   ],
   "source": [
    "counter = 0\n",
    "\n",
    "def add_to_counter():\n",
    "    counter = counter + 1\n",
    "    return counter\n",
    "\n",
    "counter = add_to_counter()\n",
    "\n",
    "print(counter)"
   ]
  },
  {
   "cell_type": "markdown",
   "metadata": {},
   "source": [
    "Here, the value of counter is known, even though it has not been defined."
   ]
  },
  {
   "cell_type": "code",
   "execution_count": 24,
   "metadata": {},
   "outputs": [
    {
     "name": "stdout",
     "output_type": "stream",
     "text": [
      "1\n"
     ]
    }
   ],
   "source": [
    "counter = 0\n",
    "\n",
    "def add_to_counter():\n",
    "    x = counter + 1\n",
    "    return x\n",
    "\n",
    "counter = add_to_counter()\n",
    "\n",
    "print(counter)"
   ]
  },
  {
   "cell_type": "markdown",
   "metadata": {},
   "source": [
    "To modify the global scope from within a function, the global keyword can be used."
   ]
  },
  {
   "cell_type": "code",
   "execution_count": 1,
   "metadata": {},
   "outputs": [
    {
     "name": "stdout",
     "output_type": "stream",
     "text": [
      "12\n"
     ]
    }
   ],
   "source": [
    "counter = 0\n",
    "\n",
    "def add_to_counter():\n",
    "    global counter\n",
    "    counter += 12 # add 12 to counter\n",
    "    return counter\n",
    "\n",
    "add_to_counter()\n",
    "print(counter)"
   ]
  },
  {
   "cell_type": "markdown",
   "metadata": {},
   "source": [
    "Functions can accept an indefinite number of arguments. However, if the number of arguments varies, the * and ** operators can be introduced as inputs for the function."
   ]
  },
  {
   "cell_type": "code",
   "execution_count": null,
   "metadata": {},
   "outputs": [],
   "source": [
    "def fun_dummy(*args, **kwargs): # args = arguments, kwargs = key word arguments\n",
    "    print(args) # args is now a tuple\n",
    "    print(kwargs) # kwargs now is a dictionary\n",
    "\n",
    "fun_dummy(1, 2, 3, 5, 6, 2, 1, a=4, b=5, c=6)\n",
    "# anything without a keyword argument (by keyword, we mean a, b, c) will be a tuple in the function.\n",
    "# Anything with a keyword argument will be included in a dictionary in the function."
   ]
  },
  {
   "cell_type": "markdown",
   "metadata": {},
   "source": [
    "In the following example, an undefined number of arguments is passed to a function to perform a sum operation:"
   ]
  },
  {
   "cell_type": "code",
   "execution_count": null,
   "metadata": {},
   "outputs": [],
   "source": [
    "def sum_args(*args):\n",
    "    print(f'args is a tuple {args}')\n",
    "    return sum(args)\n",
    "\n",
    "\n",
    "print(sum_args(1, 42, 4.2))  # You can add as many arguments as you want.\n",
    "print(sum_args(1, 1, 1, 1, 1, 1, 1, 1, 1, 1, 1, 1, 1, 1, 1, 1))\n"
   ]
  },
  {
   "cell_type": "markdown",
   "metadata": {},
   "source": [
    "When passing **kwargs, kwargs can serve as a dictionary, which can be iterated over."
   ]
  },
  {
   "cell_type": "code",
   "execution_count": null,
   "metadata": {},
   "outputs": [],
   "source": [
    "new_dict = {'a': 5, 'b': 3, 'c': 6}"
   ]
  },
  {
   "cell_type": "code",
   "execution_count": null,
   "metadata": {},
   "outputs": [],
   "source": [
    "x, y = (1, 2)"
   ]
  },
  {
   "cell_type": "code",
   "execution_count": null,
   "metadata": {},
   "outputs": [],
   "source": [
    "new_dict.items()"
   ]
  },
  {
   "cell_type": "code",
   "execution_count": null,
   "metadata": {},
   "outputs": [],
   "source": [
    "def keys_and_values(**kwargs):\n",
    "    print(f'kwargs is a dictionary: {kwargs}')\n",
    "    for key, value in kwargs.items():\n",
    "        print(f'Key is {key} and its value is {value}')\n",
    "\n",
    "keys_and_values(a=5, b=3, c=6)"
   ]
  },
  {
   "cell_type": "markdown",
   "metadata": {},
   "source": [
    "If a regular argument is passed to a function that only accepts keyword arguments, it will throw an error."
   ]
  },
  {
   "cell_type": "code",
   "execution_count": null,
   "metadata": {},
   "outputs": [],
   "source": [
    "def addition(x, y):\n",
    "    print(x + y)\n",
    "\n",
    "addition(1, 5)"
   ]
  },
  {
   "cell_type": "code",
   "execution_count": null,
   "metadata": {},
   "outputs": [],
   "source": [
    "def keys_and_values(*args, **kwargs):\n",
    "    print(f'kwargs is a dictionary: {kwargs}')\n",
    "    for key, value in kwargs.items():\n",
    "        print(f'Key is {key} and its value is {value}')\n",
    "\n",
    "keys_and_values(5, a=5, b=3, c=6)"
   ]
  },
  {
   "cell_type": "markdown",
   "metadata": {},
   "source": [
    "The same applies for the opposite.\n"
   ]
  },
  {
   "cell_type": "code",
   "execution_count": null,
   "metadata": {},
   "outputs": [],
   "source": [
    "def sum_args(*args):\n",
    "    print(f'args is a tuple {args}')\n",
    "    return sum(args)\n",
    "\n",
    "x = sum_args(c=1, d=2)"
   ]
  },
  {
   "cell_type": "markdown",
   "metadata": {},
   "source": [
    "When positional arguments are passed, they must come first, followed by keyword arguments.\n"
   ]
  },
  {
   "cell_type": "code",
   "execution_count": null,
   "metadata": {},
   "outputs": [],
   "source": [
    "def fun_dummy(*args, **kwargs):  # args = arguments, kwargs = key word arguments\n",
    "    print(args)  # args is now a tuple\n",
    "    print(kwargs)  # kwargs is now a dictionary\n",
    "\n",
    "\n",
    "fun_dummy(1, 2, e=4, d=4, c=6, e=5)\n"
   ]
  },
  {
   "cell_type": "markdown",
   "metadata": {},
   "source": [
    "## Recursion"
   ]
  },
  {
   "cell_type": "markdown",
   "metadata": {},
   "source": [
    "- A recursive function is one that calls itself within its definition.\n",
    "- This can be difficult to grasp at first; however, think of it as breaking down a large problem into a relatively small problem repeatedly.\n",
    "- This indicates that a complex problem can be made increasingly simple by repeatedly addressing a simpler form of the same problem with each repetition.\n",
    "- However, the 'simplest form' of the function must be provided where the function stops; otherwise, it will repeat forever and throw an error.\n",
    "- This 'simplest form' is called a base case.\n",
    "- This is best illustrated with an example:"
   ]
  },
  {
   "cell_type": "code",
   "execution_count": null,
   "metadata": {},
   "outputs": [],
   "source": [
    "# A function that takes in the starting number to countdown from as the input \n",
    "def countdown(n):\n",
    "    \n",
    "    # base case: this is where the function will eventually stop\n",
    "    if n == 0:\n",
    "        print(0)\n",
    "        \n",
    "    # Here, we reduce the problem to a simpler version.\n",
    "    else:\n",
    "        \n",
    "        # We print the countdown number.\n",
    "        print(n)\n",
    "        \n",
    "        # We repeat the function with the next smallest number.\n",
    "        countdown(n-1)\n",
    "        \n",
    "\n",
    "countdown(5)"
   ]
  },
  {
   "cell_type": "markdown",
   "metadata": {},
   "source": [
    "## Conclusion\n",
    "\n",
    "\n",
    "At this point, you should have a good understanding of\n",
    "- functions in Python.\n",
    "- variable scope.\n",
    "- the concept of recursion.\n",
    "- how to define a function.\n",
    "- how to call a function.\n",
    "- how to use the help() function.\n",
    "- how to use recursive functions.\n",
    "\n",
    "## Further Reading\n",
    "- Python Function Definitions: https://docs.python.org/3/reference/compound_stmts.html#function-definitions\n",
    "- Python Docstring Conventions: https://www.python.org/dev/peps/pep-0257/"
   ]
  }
 ],
 "metadata": {
  "interpreter": {
   "hash": "3d597f4c481aa0f25dceb95d2a0067e73c0966dcbd003d741d821a7208527ecf"
  },
  "kernelspec": {
   "display_name": "Python 3.9.1 64-bit ('base': conda)",
   "name": "python3"
  },
  "language_info": {
   "codemirror_mode": {
    "name": "ipython",
    "version": 3
   },
   "file_extension": ".py",
   "mimetype": "text/x-python",
   "name": "python",
   "nbconvert_exporter": "python",
   "pygments_lexer": "ipython3",
   "version": "3.8.11"
  }
 },
 "nbformat": 4,
 "nbformat_minor": 2
}
