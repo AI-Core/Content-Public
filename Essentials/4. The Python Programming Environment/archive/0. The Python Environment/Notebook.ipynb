{
 "cells": [
  {
   "cell_type": "markdown",
   "metadata": {},
   "source": [
    "# Python Environments\n",
    "\n",
    "## Python\n",
    "\n",
    "There are a few things Python programmers (of the AI flavour) should understand.\n",
    "\n",
    "We begin with `python`.\n",
    "- Python files have the `.py` extension.\n",
    "- __[Shebangs](https://en.wikipedia.org/wiki/Shebang_(Unix)), which are used in `shell` scripts, are not required.__\n",
    "\n",
    "Running a python program is quite simple; we simply run the following command from the terminal:\n",
    "\n",
    "```bash\n",
    "python FILENAME.py\n",
    "```\n",
    "\n",
    "> Although flags can be introduced, they are not required; we can simply use plain `python`."
   ]
  },
  {
   "cell_type": "code",
   "execution_count": null,
   "metadata": {},
   "outputs": [],
   "source": [
    "python --help"
   ]
  },
  {
   "cell_type": "markdown",
   "metadata": {},
   "source": [
    "> __WARNING:__ Depending on your OS, running `python` might result in either `python3` or `python` (Python 2) running as Python's executable. \n",
    "\n",
    "Fortunately, we can confirm the `python` version in use with the following command:"
   ]
  },
  {
   "cell_type": "code",
   "execution_count": null,
   "metadata": {},
   "outputs": [],
   "source": [
    "python --version"
   ]
  },
  {
   "cell_type": "markdown",
   "metadata": {},
   "source": [
    "Note that in this course, we will use the latest Python version available via `conda`."
   ]
  },
  {
   "cell_type": "markdown",
   "metadata": {},
   "source": [
    "## Preferred Installer Program\n",
    "\n",
    "> The preferred installer program (`pip`) is Python's package-installation manager.\n",
    "\n",
    "A package is simply a bundle of code written by someone else.\n",
    "\n",
    "Conventionally, we install packages from the Python Package Index (PyPI), which you can learn more about [here](https://pypi.org/).\n",
    "\n",
    "Prior to installing packages using `pip`, we must install it by running the following command in a bash terminal:\n",
    "\n",
    "```\n",
    "sudo apt install python3-pip\n",
    "```\n",
    "\n",
    "The command for installing packages is also simple:\n",
    "\n",
    "```bash\n",
    "pip install package_name\n",
    "```\n",
    "\n",
    "Generally, we use only two commands: `pip install` and `pip uninstall`."
   ]
  },
  {
   "cell_type": "code",
   "execution_count": null,
   "metadata": {},
   "outputs": [],
   "source": [
    "pip --help"
   ]
  },
  {
   "cell_type": "markdown",
   "metadata": {},
   "source": [
    "## Requirements.txt\n",
    "\n",
    "> `requirements.txt` is a file that is often added to projects for specifying dependencies and their versions.\n",
    "\n",
    "For example,\n",
    "\n",
    "```\n",
    "numpy==1.14.1\n",
    "torch>=1.6.0\n",
    "torchvision>=0.6.0\n",
    "```\n",
    "\n",
    "Endeavour to employ reliable dependencies in serious projects (do a brief research on all of them and how they are maintained).\n",
    "\n",
    "> Additionally, add this file to all your projects or specify it inside `setup.py`.\n",
    "\n",
    "\n",
    "## Versioning\n",
    "\n",
    "> When projects (e.g. libraries, apps, etc.) are released, a versioning scheme is often employed.\n",
    "\n",
    "__Although there are many versioning schemes__, we recommend __Semantic Versioning (`semver`)__, which has the general syntax:\n",
    "\n",
    "```\n",
    "MAJOR.MINOR.FIX\n",
    "```\n",
    "\n",
    "- `MAJOR`: starting from zero; every change breaks __backward compatibility.__ \n",
    "- `MINOR`: new features; __backward compatibility is maintained__ (e.g. the `0.1.0` code will work with `0.2.0`, without significant behavioural changes).\n",
    "- `FIX`: fixing some bug(s).\n",
    "\n",
    "Please consider the following examples:\n",
    "\n",
    "- `0.1.0`: used for the initial release; zero indicates that it is not in the final form and should be considered unstable. __Use it at the beginning.__\n",
    "- `0.11.4`: numerous new features and some fixes, but not yet stable.\n",
    "- `1.0.2`: considerably more stable than the `0` major, and some bug fixes occur for the initial stable release.\n",
    "\n",
    "> Use the `__version__` global variable for your projects/libraries.\n",
    "\n",
    "For example, somewhere in your code, e.g. `__init__.py`, insert the following:\n",
    "\n",
    "```python\n",
    "__version__ = \"0.1.0\"\n",
    "```"
   ]
  },
  {
   "cell_type": "markdown",
   "metadata": {},
   "source": [
    "## Virtual Environments\n",
    "\n",
    "> These are tools that separate the dependencies of different projects by creating isolated environments for them.\n",
    "\n",
    "Essentially, with every virtual environment, we can do the following:\n",
    "- create an isolated environment (usually one per project)\n",
    "- activate it\n",
    "- install the necessary dependencies inside it\n",
    "- do the necessary work (run, code the project, etc.)\n",
    "\n",
    "### Merits of isolation\n",
    "\n",
    "- Many different projects require different versions of\n",
    "    - Python\n",
    "    - dependencies\n",
    "    - other software\n",
    "- This approach ensures that everything is compatible.\n",
    "- Conducting uninstallations and applying changes are easy (simply change the specific environment).\n",
    "\n",
    "> __Endeavour to use virtual environments in all your projects.__\n"
   ]
  },
  {
   "cell_type": "markdown",
   "metadata": {},
   "source": [
    "## Conda\n",
    "\n",
    "> `Conda` is both a scientific-oriented virtual environment and a package manager.\n",
    "\n",
    "To install it, please follow the installation instructions provided [here](https://conda.io/projects/conda/en/latest/user-guide/install/index.html).\n",
    "\n",
    "After installation, there are some commands you should use in every project, __including AiCore's course.__:\n",
    "\n",
    "- run `conda create -n ENVIRONMENT_NAME` to create an environment named `ENVIRONMENT_NAME`.\n",
    "- run `conda activate ENVIRONMENT_NAME` to enter the conda environment.\n",
    "- run `conda list` (__INSIDE ENVIRONMENT__) to list the dependencies installed in the environment.\n",
    "- run `conda install [-c CHANNEL] PACKAGE` to install packages from a specified channel, which is generally the `anaconda` channel.\n",
    "\n",
    "> Conda's `channels` are known as the locations of packages.\n",
    "\n",
    "Generally, most widely used packages are located in the `anaconda` channel by default (no specification is required). For example, `numpy`:\n",
    "\n",
    "```bash\n",
    "conda install -c anaconda numpy\n",
    "```\n",
    "\n",
    "Another example is `conda-forge`, where less known, but often extremely useful, packages are located. These packages are often created by independent contributors.\n",
    "\n",
    "> To find a package, you simply type its name, followed by `conda`, e.g. `numpy conda`; you can find the required command on the `anaconda` page (`numpy` [here](https://anaconda.org/anaconda/numpy))."
   ]
  },
  {
   "cell_type": "code",
   "execution_count": null,
   "metadata": {},
   "outputs": [],
   "source": [
    "conda create --help"
   ]
  },
  {
   "cell_type": "markdown",
   "metadata": {},
   "source": [
    "## Tips\n",
    "\n",
    "- The `conda create -n ENVIRONMENT_NAME python=3.6` command creates an environment with a specific Python version (some dependencies do not work with relatively old/large versions of Python).\n",
    "- Note that __not all packages are available via `conda`__. A good workaround involves\n",
    "    - installing `pip` inside `conda` (simply run `conda install pip`).\n",
    "    - running `pip install PACKAGE` when inside the environment to ensure it is located inside `pip` inside `conda`. \n",
    "\n",
    "## Exercise\n",
    "\n",
    "> If you have completed some of the steps below, please skip them.\n",
    "\n",
    "- First, install the `conda` environment by following the instructions provided [here](https://conda.io/projects/conda/en/latest/user-guide/install/index.html)). __We recommend miniconda.__\n",
    "\n",
    "- Set up some useful aliases for using conda in your ~/.bashrc file (or elsewhere on Windows):\n",
    "    - run `alias ccr='conda create --name'` to create a `conda` environment with a specific name, such as `ccr AiCore`.\n",
    "    - run `alias ci='conda install'` to carry out installations using conda from the default channel.\n",
    "    - run `alias cif='conda install -c conda-forge` to conduct installations using conda from the `conda-forge` channel (non-official channel).\n",
    "    - run `alias cl='conda list'` to install packages.\n",
    "    - run `alias crm='conda remove'` to remove packages, e.g. `crm numpy`.\n",
    "    - run `alias crme='rm -rf $HOME/.conda/envs/*'` to __remove all conda environments (PLEASE EXERCISE CAUTION!).__ \n",
    "    \n",
    "- Create a `conda` environment for AiCore's course projects (you can alternatively assign a name of your choosing) named `AiCore`."
   ]
  },
  {
   "cell_type": "markdown",
   "metadata": {},
   "source": [
    "## Jupyter Notebooks\n",
    "\n",
    "> A Jupyter Notebook is a scientific environment that enables the blending of code (in many languages, conventionally Python) with text (written in `markdown`).\n",
    "\n",
    "- __This file (the one you are currently reading) is a `jupyter notebook`.__\n",
    "- The `.ipynb` extension is short for `I`nteractive `PY`thon `N`ote `B`ook.\n",
    "\n",
    "In VSCode, you only need to install the Python extension to visually format `.ipynb` files.\n",
    "\n",
    "### Kernels\n",
    "\n",
    "> Kernels in Jupyter Notebooks are specific environments (such as `conda`, a specific Python version, or even other languages).\n",
    "\n",
    "- You can choose one by clicking `Kernel` and setting it up (a restart is required).\n",
    "- It is located on the top right in VSCode's notebooks. Changing a kernel requires a restart of the notebook (green looping arrow icon at the top)."
   ]
  },
  {
   "cell_type": "markdown",
   "metadata": {},
   "source": [
    "## Writing Code\n",
    "\n",
    "At this point, we can work with both Python and Bash. In regard to writing code, __readability and brevity are paramount.__\n",
    "\n",
    "Please consider the below demonstration:"
   ]
  },
  {
   "cell_type": "code",
   "execution_count": null,
   "metadata": {},
   "outputs": [],
   "source": [
    "l = [['40', '20', '10', '30'], ['20', '20', '20', '20', '20', '30', '20'], ['30', '20', '30', '50', '10', '30', '20', '20', '20'], ['100', '100'], ['100', '100', '100', '100', '100'], ['100', '100', '100', '100']]"
   ]
  },
  {
   "cell_type": "code",
   "execution_count": null,
   "metadata": {},
   "outputs": [],
   "source": [
    "l = [\n",
    "    [\"40\", \"20\", \"10\", \"30\"],\n",
    "    [\"20\", \"20\", \"20\", \"20\", \"20\", \"30\", \"20\"],\n",
    "    [\"30\", \"20\", \"30\", \"50\", \"10\", \"30\", \"20\", \"20\", \"20\"],\n",
    "    [\"100\", \"100\"],\n",
    "    [\"100\", \"100\", \"100\", \"100\", \"100\"],\n",
    "    [\"100\", \"100\", \"100\", \"100\"],\n",
    "]"
   ]
  },
  {
   "cell_type": "markdown",
   "metadata": {},
   "source": [
    "As we can all tell, the second approach is preferable."
   ]
  },
  {
   "cell_type": "markdown",
   "metadata": {},
   "source": [
    "## Autoformatting\n",
    "\n",
    "> Autoformatters automatically format the source code to ensure that it conforms to coding standards.\n",
    "\n",
    "__PEP8__ is Python's code style guide (see [here](https://www.python.org/dev/peps/pep-0008/)).\n",
    "\n",
    "Fortunately, we are not required to remember most of the information in the style guide, as __autoformatters handle that responsibility__, e.g. during fail saving (or cell saving in the case of a Jupyter Notebook)).\n",
    "\n",
    "Conventionally, in VSCode, extensions (including autoformatters) are installed via the 'Extensions' tab on the left.\n",
    "\n",
    "However, autopep8 has a different installation process in VSCode.\n",
    "\n",
    "1. Go to a cell that contains Python code (e.g. the above cell that defined a list).\n",
    "2. Type `Shift` + `Alt` + `F` (as in `F`ormatting).\n",
    "3. Most likely, VSCode will inform you that autopep is not installed and ask if you want to install it. Click `Yes`.\n",
    "4. Go back to the same cell as before and type `Shift` + `Alt` + `F`.\n",
    "5. You should see a new blank line at the end of the cell, which is one of the rules in pep8."
   ]
  }
 ],
 "metadata": {
  "interpreter": {
   "hash": "3d597f4c481aa0f25dceb95d2a0067e73c0966dcbd003d741d821a7208527ecf"
  },
  "kernelspec": {
   "display_name": "Python 3.9.1 64-bit ('base': conda)",
   "name": "python3"
  },
  "language_info": {
   "codemirror_mode": "shell",
   "file_extension": ".sh",
   "mimetype": "text/x-sh",
   "name": "python",
   "version": "3.9.1"
  }
 },
 "nbformat": 4,
 "nbformat_minor": 4
}
