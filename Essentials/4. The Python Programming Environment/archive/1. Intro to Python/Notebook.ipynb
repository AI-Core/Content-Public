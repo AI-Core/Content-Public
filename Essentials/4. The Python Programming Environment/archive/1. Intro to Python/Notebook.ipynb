{
 "cells": [
  {
   "cell_type": "markdown",
   "metadata": {},
   "source": [
    "# Introduction to Python"
   ]
  },
  {
   "cell_type": "markdown",
   "metadata": {},
   "source": [
    "## Python\n",
    "- Python is a coding language, i.e. a system of rules that can be used to operate a computer.\n",
    "- It is dynamically typed (details will be provided later).\n",
    "- It has many use cases (networks, games, graphics, apps, etc).\n",
    "- Python can be used for the whole data pipeline, from data input to model validation.\n",
    "\n",
    "> Note that we are focusing on data-science applications of Python in this course."
   ]
  },
  {
   "cell_type": "markdown",
   "metadata": {},
   "source": [
    "## Integrated Development Environments\n",
    "- Integrated development environments (IDEs) are workspaces for writing programs in a language.\n",
    "- Popular IDEs for Python include PyCharm, Jupyter Notebook (also Spyder) and VS Code.\n",
    "\n",
    "> In this course, we will use Jupyter Notebook (the merits/demerits will be made clear over time).\n",
    "\n",
    "### Jupyter Notebooks\n",
    "\n",
    "- Jupyter Notebooks work using cells.\n",
    "- You input your code into each cell and subsequently run the code per cell.\n",
    "- Each cell acts as a 'mini-script' that can be executed independently.\n",
    "- Jupyter Notebooks have the __.ipynb__ file extension (IPython NoteBook).\n",
    "- .ipynb files cannot be opened directly by any program on your computer; you must open Jupyter Notebook first, after which the file can be opened from within it. This is due to the structure of the file, which will not be covered here due to the complicated nature of the subject.\n",
    "\n",
    "### .py scripts\n",
    "- The other common type of Python file is the .py script, which is a single file written usually in a text editor; when the script is executed, the entire code runs in one go, rather than individual blocks.\n",
    "- .py scripts can be opened using any text editor, including TextEdit on Mac or the equivalent on Windows."
   ]
  },
  {
   "cell_type": "markdown",
   "metadata": {},
   "source": [
    "## Tips\n",
    "- Jupyter Notebook has many keyboard shortcuts, which you will get used to.\n",
    "- Use the Esc key to use shortcuts; use Esc + H to find a list.\n",
    "- There are two main cell types:\n",
    "    - code: this is self-explanatory.\n",
    "    - markdown: used to write explanatory text/titles in a notebook."
   ]
  },
  {
   "cell_type": "markdown",
   "metadata": {},
   "source": [
    "## Comments\n",
    "- A comment is a piece of text added to certain parts of code to explain it and facilitate comprehension for others besides the author.\n",
    "- Adding \\# at the start of a line indicates that the information in the code cell is a comment.\n",
    "- There are two schools of thought on the usage of comments: one argues that comments should be used extensively, while the other argues that they should be minimal as the code should be self-explanatory.\n",
    "- We encourage you to use comments exhaustively at first. As your coding skills improve, you will begin to realise whether a comment is required or unnecessary.\n",
    "- Remember that __readability and reproducibility are paramount__. Let these guide your usage of comments."
   ]
  },
  {
   "cell_type": "markdown",
   "metadata": {},
   "source": [
    "## Data Types in Python\n",
    "There are many data types in Python, including\n",
    "- integers (int)\n",
    "- floating-point numbers (float)\n",
    "- strings (str)\n",
    "- booleans (bool)\n",
    "- lists (list)\n",
    "- dictionaries (dict)\n",
    "- tuples (tuple)\n",
    "- sets (set).\n"
   ]
  }
 ],
 "metadata": {
  "interpreter": {
   "hash": "beedbe2faf2f7048d727558d0bc3221e7eba2a0b921cac4d4771b2feb8f74b30"
  },
  "kernelspec": {
   "display_name": "Python 3.10.2 64-bit",
   "language": "python",
   "name": "python3"
  },
  "language_info": {
   "name": "python",
   "version": "3.10.2"
  },
  "orig_nbformat": 4
 },
 "nbformat": 4,
 "nbformat_minor": 2
}
