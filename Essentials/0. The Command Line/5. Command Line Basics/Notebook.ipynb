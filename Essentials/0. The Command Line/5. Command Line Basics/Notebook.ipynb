{
 "cells": [
  {
   "cell_type": "markdown",
   "metadata": {},
   "source": [
    "# The Command Line"
   ]
  },
  {
   "cell_type": "markdown",
   "metadata": {},
   "source": [
    "## Operating Systems (OS)\n"
   ]
  },
  {
   "cell_type": "markdown",
   "metadata": {},
   "source": [
    "\n",
    "Operating system __is a computer program__ (admittedly large and quite complicated) which: \n",
    "- manages computer hardware\n",
    "- manages software resources (e.g. runs programs)\n",
    "- provides common services for computer programs"
   ]
  },
  {
   "cell_type": "markdown",
   "metadata": {},
   "source": [
    "### Operating Systems flavours"
   ]
  },
  {
   "cell_type": "markdown",
   "metadata": {},
   "source": [
    "\n",
    "> __Choice of operating system is very important__\n",
    "\n",
    "Below are the widely used operating systems and a few words about them:"
   ]
  },
  {
   "cell_type": "markdown",
   "metadata": {},
   "source": [
    "\n",
    "### Windows (discouraged)\n"
   ]
  },
  {
   "cell_type": "markdown",
   "metadata": {},
   "source": [
    "Windows is an OS created by Microsoft and widely used for day to day usage\n",
    "\n",
    "#### Pros\n",
    "\n",
    "- Widely used for day-to-day non-professional usage\n",
    "- Supported by large company\n",
    "- Easy to use out of the box\n",
    "\n",
    "#### Cons\n",
    "\n",
    "- __Closed source__ - source code of Windows is not available as it is __compiled__\n",
    "- __Non-free__ - one has to buy this OS\n",
    "- On average worse support by open source software (which we will use)\n",
    "- Hard to modify and tune for our own needs\n",
    "- Few professional software developers use it so less support may be available from people around you\n",
    "- Has a different terminal (powershell) by default\n",
    "\n",
    "> __In general Windows is rarely used as a programming environment due to above constraints__\n",
    "\n",
    "> __We encourage installing using MacOS or some Linux distribution (at least for the duration of this course)__\n"
   ]
  },
  {
   "cell_type": "markdown",
   "metadata": {},
   "source": [
    "### MacOS (fine)\n"
   ]
  },
  {
   "cell_type": "markdown",
   "metadata": {},
   "source": [
    "#### Pros\n",
    "\n",
    "- Good open source software support (initially based on open source project FreeBSD)\n",
    "- Supported by large company\n",
    "- Easy to use out of the box\n",
    "- Quite modifiable\n",
    "\n",
    "#### Cons\n",
    "\n",
    "- __Closed source__ - current source of MacOS is not available as it is __compiled__\n",
    "- __Non-free__ - one has this OS by default when using Apple laptops\n",
    "\n",
    "> __You might think of it like a middle ground between Windows and Linux__\n",
    "\n",
    "> __If you have this operating system you are totally fine and no need to change to Linux (unless you want to of course)__\n"
   ]
  },
  {
   "cell_type": "markdown",
   "metadata": {},
   "source": [
    "#### <font size=+1>  Linux (encouraged) </font>\n"
   ]
  },
  {
   "cell_type": "markdown",
   "metadata": {},
   "source": [
    "#### Pros\n",
    "\n",
    "- Open source kernel, code is available (see [here](https://github.com/torvalds/linux))\n",
    "- Good open source software support (most of the open source tools are created with this OS in mind)\n",
    "- Free - most of the distributions are created by contributors or non-profit organizations\n",
    "- Easy to use out of the box\n",
    "- Quite modifiable\n",
    "\n",
    "#### Cons\n",
    "\n",
    "- __No direct support from large company__, but many companies like Google, Microsoft, Apple are part of the foundation helping with Linux development (and their software usually runs on it)\n",
    "- __Less intuitive__ - although many Linux distros have really similar UIs to Windows & MacOS, some thing work a little differently (e.g. package managers)\n",
    "\n",
    "> __Code and dependencies required for this course should work best with this OS__\n"
   ]
  },
  {
   "cell_type": "markdown",
   "metadata": {},
   "source": [
    "##### <font size=+1>  Linux distributions </font>\n"
   ]
  },
  {
   "cell_type": "markdown",
   "metadata": {},
   "source": [
    "As opposed to the other OSs, Linux is not produced by a single organization. As mentioned above, Linux is quite modifiable, and as such, different organizations work on different parts of Linux. \n",
    "\n",
    "Linux distributions, often shortened as \"distros\", take all the code from the open-source projects and compile it for you. \n",
    "\n",
    "There are a few Linux distros you might try out, depending on the following factors:\n",
    "- __How much time you have to install, setup it and maintain__\n",
    "- __How much you are willing to learn about it__\n",
    "\n",
    "Here are three distributions you might think about:\n",
    "\n",
    "- __Ubuntu__ ([link here](https://ubuntu.com/download)) - easy to use, stable, less configurable, good for day-to-day usage and fine for programming (__encouraged__)\n",
    "- __Manjaro__ ([link here](https://manjaro.org/)) - easy to use, harder to maintain, bleeding edge software, good for programming, modifiable, __requires more time__\n",
    "- __Arch Linux__ ([link here](https://archlinux.org/)) - __hard to setup, maintain__, __requires a lot of work__, but modifiable to the bone. One has to build it starting only with command line"
   ]
  },
  {
   "cell_type": "markdown",
   "metadata": {},
   "source": [
    "#### <font size=+1> Virtual machines (discouraged) </font>\n"
   ]
  },
  {
   "cell_type": "markdown",
   "metadata": {},
   "source": [
    "\n",
    "Virtual machines allows us to run one operating system within another\n",
    "\n",
    "You may try this approach if you don't want to:\n",
    "\n",
    "- Remove your current Windows installation\n",
    "- Install Linux side by side with Windows\n",
    "\n",
    "But there are some problems with Virtual Machines:\n",
    "\n",
    "- Works slower (two operating systems have to run at once)\n",
    "- Sometimes may crash or hang (depending on virtualization software)\n",
    "- Takes up memory resources as it will require you to partition your device (allocate a large portion of memory to one OS, so it can't be used by the other)"
   ]
  },
  {
   "cell_type": "markdown",
   "metadata": {},
   "source": [
    "# Command Line Interface\n"
   ]
  },
  {
   "cell_type": "markdown",
   "metadata": {},
   "source": [
    "Most likely, you are used to interact with your OS through a graphical user interface (GUI), such as your visual file explorer. These visual applications are just a more user friendly way to tell the computer what to do. Under the hood, they will be running programs in the same way that we can run them from the terminal.\n",
    "\n",
    "We will go over basic concepts and commands, which will allow you to use command line quite efficiently.\n"
   ]
  },
  {
   "cell_type": "markdown",
   "metadata": {},
   "source": [
    "## Terminal"
   ]
  },
  {
   "cell_type": "markdown",
   "metadata": {},
   "source": [
    "To use the commands, we run them in the terminal, which is an interface for you, as a human, to talk to the operating system of your computer\n",
    "\n",
    "> <font size=+1> Terminal is a window where we can type commands to operating system using the programming language BASH </font>\n",
    "\n",
    "If you are on windows, you should install [git-bash](https://gitforwindows.org) and use this terminal. Don't use powershell or cmd as they don't work in the same way."
   ]
  },
  {
   "cell_type": "markdown",
   "metadata": {},
   "source": [
    "## Commands\n"
   ]
  },
  {
   "cell_type": "markdown",
   "metadata": {},
   "source": [
    "\n",
    "> <font size=+1> Commands are programs that allow us to do basic tasks in our operating systems </font>\n",
    "\n",
    "Commands have the following general form:\n",
    "\n",
    "```bash\n",
    "command [-short_flags] [--long_flags] [arguments]\n",
    "```\n",
    "\n",
    "> `[...]` means those arguments are optional, __you don't have to pass them!__\n",
    "\n",
    "- `command` - name of command, say `ls`\n",
    "- `flags` - each of which usually can be used in one of two ways:\n",
    "    - implicit, shorter (`-a`)\n",
    "    - explicit, longer (`--all`)\n",
    "- `arguments`, when you want to specify something (or it is required by command), like `ls my_dir` (__they don't have any hyphens!__)\n",
    "     \n",
    "> You can always run `command --help` or `man command` (manual) to know what it does and what arguments are necessary\n",
    "\n",
    "Let's see basic `ls` command:"
   ]
  },
  {
   "cell_type": "code",
   "execution_count": 3,
   "metadata": {},
   "outputs": [
    {
     "name": "stdout",
     "output_type": "stream",
     "text": [
      "Usage: ls [OPTION]... [FILE]...\n",
      "List information about the FILEs (the current directory by default).\n",
      "Sort entries alphabetically if none of -cftuvSUX nor --sort is specified.\n",
      "\n",
      "Mandatory arguments to long options are mandatory for short options too.\n",
      "  -a, --all                  do not ignore entries starting with .\n",
      "  -A, --almost-all           do not list implied . and ..\n",
      "      --author               with -l, print the author of each file\n",
      "  -b, --escape               print C-style escapes for nongraphic characters\n",
      "      --block-size=SIZE      with -l, scale sizes by SIZE when printing them;\n",
      "                               e.g., '--block-size=M'; see SIZE format below\n",
      "  -B, --ignore-backups       do not list implied entries ending with ~\n",
      "  -c                         with -lt: sort by, and show, ctime (time of last\n",
      "                               modification of file status information);\n",
      "                               with -l: show ctime and sort by name;\n",
      "                               otherwise: sort by ctime, newest first\n",
      "  -C                         list entries by columns\n",
      "      --color[=WHEN]         colorize the output; WHEN can be 'always' (default\n",
      "                               if omitted), 'auto', or 'never'; more info below\n",
      "  -d, --directory            list directories themselves, not their contents\n",
      "  -D, --dired                generate output designed for Emacs' dired mode\n",
      "  -f                         do not sort, enable -aU, disable -ls --color\n",
      "  -F, --classify             append indicator (one of */=>@|) to entries\n",
      "      --file-type            likewise, except do not append '*'\n",
      "      --format=WORD          across -x, commas -m, horizontal -x, long -l,\n",
      "                               single-column -1, verbose -l, vertical -C\n",
      "      --full-time            like -l --time-style=full-iso\n",
      "  -g                         like -l, but do not list owner\n",
      "      --group-directories-first\n",
      "                             group directories before files;\n",
      "                               can be augmented with a --sort option, but any\n",
      "                               use of --sort=none (-U) disables grouping\n",
      "  -G, --no-group             in a long listing, don't print group names\n",
      "  -h, --human-readable       with -l and -s, print sizes like 1K 234M 2G etc.\n",
      "      --si                   likewise, but use powers of 1000 not 1024\n",
      "  -H, --dereference-command-line\n",
      "                             follow symbolic links listed on the command line\n",
      "      --dereference-command-line-symlink-to-dir\n",
      "                             follow each command line symbolic link\n",
      "                               that points to a directory\n",
      "      --hide=PATTERN         do not list implied entries matching shell PATTERN\n",
      "                               (overridden by -a or -A)\n",
      "      --hyperlink[=WHEN]     hyperlink file names; WHEN can be 'always'\n",
      "                               (default if omitted), 'auto', or 'never'\n",
      "      --indicator-style=WORD  append indicator with style WORD to entry names:\n",
      "                               none (default), slash (-p),\n",
      "                               file-type (--file-type), classify (-F)\n",
      "  -i, --inode                print the index number of each file\n",
      "  -I, --ignore=PATTERN       do not list implied entries matching shell PATTERN\n",
      "  -k, --kibibytes            default to 1024-byte blocks for disk usage;\n",
      "                               used only with -s and per directory totals\n",
      "  -l                         use a long listing format\n",
      "  -L, --dereference          when showing file information for a symbolic\n",
      "                               link, show information for the file the link\n",
      "                               references rather than for the link itself\n",
      "  -m                         fill width with a comma separated list of entries\n",
      "  -n, --numeric-uid-gid      like -l, but list numeric user and group IDs\n",
      "  -N, --literal              print entry names without quoting\n",
      "  -o                         like -l, but do not list group information\n",
      "  -p, --indicator-style=slash\n",
      "                             append / indicator to directories\n",
      "  -q, --hide-control-chars   print ? instead of nongraphic characters\n",
      "      --show-control-chars   show nongraphic characters as-is (the default,\n",
      "                               unless program is 'ls' and output is a terminal)\n",
      "  -Q, --quote-name           enclose entry names in double quotes\n",
      "      --quoting-style=WORD   use quoting style WORD for entry names:\n",
      "                               literal, locale, shell, shell-always,\n",
      "                               shell-escape, shell-escape-always, c, escape\n",
      "                               (overrides QUOTING_STYLE environment variable)\n",
      "  -r, --reverse              reverse order while sorting\n",
      "  -R, --recursive            list subdirectories recursively\n",
      "  -s, --size                 print the allocated size of each file, in blocks\n",
      "  -S                         sort by file size, largest first\n",
      "      --sort=WORD            sort by WORD instead of name: none (-U), size (-S),\n",
      "                               time (-t), version (-v), extension (-X)\n",
      "      --time=WORD            change the default of using modification times;\n",
      "                               access time (-u): atime, access, use;\n",
      "                               change time (-c): ctime, status;\n",
      "                               birth time: birth, creation;\n",
      "                             with -l, WORD determines which time to show;\n",
      "                             with --sort=time, sort by WORD (newest first)\n",
      "      --time-style=TIME_STYLE  time/date format with -l; see TIME_STYLE below\n",
      "  -t                         sort by time, newest first; see --time\n",
      "  -T, --tabsize=COLS         assume tab stops at each COLS instead of 8\n",
      "  -u                         with -lt: sort by, and show, access time;\n",
      "                               with -l: show access time and sort by name;\n",
      "                               otherwise: sort by access time, newest first\n",
      "  -U                         do not sort; list entries in directory order\n",
      "  -v                         natural sort of (version) numbers within text\n",
      "  -w, --width=COLS           set output width to COLS.  0 means no limit\n",
      "  -x                         list entries by lines instead of by columns\n",
      "  -X                         sort alphabetically by entry extension\n",
      "  -Z, --context              print any security context of each file\n",
      "  -1                         list one file per line.  Avoid '\\n' with -q or -b\n",
      "      --help     display this help and exit\n",
      "      --version  output version information and exit\n",
      "\n",
      "The SIZE argument is an integer and optional unit (example: 10K is 10*1024).\n",
      "Units are K,M,G,T,P,E,Z,Y (powers of 1024) or KB,MB,... (powers of 1000).\n",
      "Binary prefixes can be used, too: KiB=K, MiB=M, and so on.\n",
      "\n",
      "The TIME_STYLE argument can be full-iso, long-iso, iso, locale, or +FORMAT.\n",
      "FORMAT is interpreted like in date(1).  If FORMAT is FORMAT1<newline>FORMAT2,\n",
      "then FORMAT1 applies to non-recent files and FORMAT2 to recent files.\n",
      "TIME_STYLE prefixed with 'posix-' takes effect only outside the POSIX locale.\n",
      "Also the TIME_STYLE environment variable sets the default style to use.\n",
      "\n",
      "Using color to distinguish file types is disabled both by default and\n",
      "with --color=never.  With --color=auto, ls emits color codes only when\n",
      "standard output is connected to a terminal.  The LS_COLORS environment\n",
      "variable can change the settings.  Use the dircolors command to set it.\n",
      "\n",
      "Exit status:\n",
      " 0  if OK,\n",
      " 1  if minor problems (e.g., cannot access subdirectory),\n",
      " 2  if serious trouble (e.g., cannot access command-line argument).\n",
      "\n",
      "GNU coreutils online help: <https://www.gnu.org/software/coreutils/>\n",
      "Full documentation <https://www.gnu.org/software/coreutils/ls>\n",
      "or available locally via: info '(coreutils) ls invocation'\n"
     ]
    }
   ],
   "source": [
    "ls --help"
   ]
  },
  {
   "cell_type": "markdown",
   "metadata": {},
   "source": [
    "## Common commands\n"
   ]
  },
  {
   "cell_type": "markdown",
   "metadata": {},
   "source": [
    "Below is a basic list of commands:\n"
   ]
  },
  {
   "cell_type": "markdown",
   "metadata": {},
   "source": [
    "\n",
    "### Movement & output\n"
   ]
  },
  {
   "cell_type": "markdown",
   "metadata": {},
   "source": [
    "\n",
    "- `pwd` - `p`rint `w`orking `d`irectory - where we currently are in folder structure in our system\n",
    "- `cd DIRECTORY` - `c`hange `d`irectory (folder) to `DIRECTORY`\n",
    "- `ls` - `l`i`s`t files in current directory\n",
    "- `clear` - `clear` terminal output (prompt will be at the beginning)\n",
    "- `echo` - `echo`es string inputs to the output\n"
   ]
  },
  {
   "cell_type": "markdown",
   "metadata": {},
   "source": [
    "\n",
    "### Creation & files\n"
   ]
  },
  {
   "cell_type": "markdown",
   "metadata": {},
   "source": [
    "\n",
    "- `mkdir PATH` - `m`a`k`e `dir`ectory specified by PATH\n",
    "- `cp SOURCE DIRECTORY` - `c`o`p`y SOURCE to DIRECTORY\n",
    "- `mv SOURCE DIRECTORY` - `m`o`v`e  SOURCE to DIRECTORY\n",
    "- `touch FILE` - create FILE\n",
    "- `cat FILE` - display FILE contents\n",
    "- `rm FILE` - `r`e`m`ove FILE (__THIS DELETES FILE PERMANENTLY__)\n",
    "    - `rm -r DIRECTORY` - remove `r`ecursively everything in the directory (__THIS DELETES DIRECTORY PERMANENTLY__)\n"
   ]
  },
  {
   "cell_type": "markdown",
   "metadata": {},
   "source": [
    "\n",
    "### Redirection\n"
   ]
  },
  {
   "cell_type": "markdown",
   "metadata": {},
   "source": [
    "\n",
    "> Redirection (`>`, `<`) allows us to redirect `stdout` (standard output stream) to/from file\n",
    "\n",
    "For example:"
   ]
  },
  {
   "cell_type": "code",
   "execution_count": 1,
   "metadata": {},
   "outputs": [
    {
     "name": "stdout",
     "output_type": "stream",
     "text": [
      "THIS IS EXAMPLE\n"
     ]
    }
   ],
   "source": [
    "!cd /tmp\n",
    "\n",
    "!echo \"THIS IS EXAMPLE\" > foo.txt\n",
    "!cat foo.txt"
   ]
  },
  {
   "cell_type": "markdown",
   "metadata": {},
   "source": [
    "Notice that a new file has been generated in the working directory. And then, we are displaying its content using `cat`"
   ]
  },
  {
   "cell_type": "markdown",
   "metadata": {},
   "source": [
    "We can also `append` to files using `>>`:"
   ]
  },
  {
   "cell_type": "code",
   "execution_count": 13,
   "metadata": {},
   "outputs": [
    {
     "name": "stdout",
     "output_type": "stream",
     "text": [
      "THIS IS EXAMPLE\n",
      "ANOTHER LINE\n"
     ]
    }
   ],
   "source": [
    "!echo \"ANOTHER LINE\" >> foo.txt\n",
    "!cat foo.txt"
   ]
  },
  {
   "cell_type": "markdown",
   "metadata": {},
   "source": [
    "Be careful! A single redirection sign creates or __overwrites__ a file if it already existed.\n",
    "\n",
    "To know a little more on redirections, click the following collapsible `Standard streams`"
   ]
  },
  {
   "cell_type": "markdown",
   "metadata": {},
   "source": [
    "<details>\n",
    "  <summary> <font size=+1> Standard streams </font> </summary>\n",
    "  \n",
    "Linux has `3` standard streams, as shown in the picture:\n",
    "\n",
    "<p align=center><img src=images/streams.png width=400></p>\n",
    "\n",
    "By default we redirect standard output stream (`1`) (as shown in the examples above), but we could also redirect error stream, look below:\n",
    "\n",
    "```\n",
    "echo \"Some some line\" 1> foo.txt\n",
    "cat foo.txt\n",
    "```\n",
    "If we add a \"2\" to the redirection sign (`2>` or `2>>`), the error is redirected to the file\n",
    "```\n",
    "!adfgdg 2>> foo.txt\n",
    "```\n",
    "Notice that the display doesn't print out any error. Instead, it was appended at the end of `foo.txt`\n",
    "```\n",
    "!cat foo.txt\n",
    "```\n",
    "</details>"
   ]
  },
  {
   "cell_type": "markdown",
   "metadata": {},
   "source": [
    "### Terminal Shortcuts"
   ]
  },
  {
   "cell_type": "markdown",
   "metadata": {},
   "source": [
    "\n",
    "On many occassions, you will need to access commands that you ran earlier. Or perhaps you need to type a really long directory. Luckily, the terminal has some shortcuts that come very handy.\n",
    "\n",
    "- Use `up arrow` to scroll over the last command(s) you've run\n",
    "- Type in `!!` to get last command you've run at the current prompt \n",
    "- Use `<TAB>` to fill in commands. If you use `cd` and hit `<TAB>` available directories will pop up\n",
    "- Use `<CTRL + F>` and `<CTRL + B>` to move `f`orward and `b`ackward on a current line"
   ]
  },
  {
   "cell_type": "markdown",
   "metadata": {},
   "source": [
    "## Aliases\n"
   ]
  },
  {
   "cell_type": "markdown",
   "metadata": {},
   "source": [
    "__Aliases__ (and sometimes functions) are one of the most useful features for any programmer!\n",
    "\n",
    "> __Aliases allow us to define shortcuts for common commands__\n",
    "\n",
    "Defining them is dead simple:\n",
    "\n",
    "```bash\n",
    "alias NAME_OF_ALIAS='COMMAND'\n",
    "```"
   ]
  },
  {
   "cell_type": "markdown",
   "metadata": {},
   "source": [
    "\n",
    "### Where to put it?\n",
    "\n",
    "Each time we close terminal (or restart computer) commands we have run (including exported variables etc.) will be gone.\n",
    "\n",
    "Due to above, there is a file called `~/.bashrc`, where we can put our commands/aliases!\n",
    "\n",
    "However, if you are using a shell in which you log in by default, the file you have to change is `~/.bash_profile`.\n",
    "\n",
    "> __When new terminal is opened, bash will run a few files by default (including `~/.bashrc` or `~/.bash_profile`)__\n",
    "\n"
   ]
  },
  {
   "cell_type": "markdown",
   "metadata": {},
   "source": [
    "### Try it out\n"
   ]
  },
  {
   "cell_type": "markdown",
   "metadata": {},
   "source": [
    "\n",
    "Put a few useful aliases (we hope you will add more as we go through the next lessons) inside `~/.bashrc`\n",
    "\n",
    "- Use `echo \"alias ~='cd ~'\" >> ~/.bashrc` or `echo \"alias ~='cd ~'\" >> ~/.bash_profile` to add them\n",
    "\n",
    "__Below is the list of aliases we find useful__ (restart terminal after you add them to the file):\n",
    "\n",
    "- `alias ~='cd ~'` - use `~` to move directly to `$HOME` directory\n",
    "- `alias ..='cd ..'` - use `..` to move one directory up\n",
    "- `alias ...='cd ../..'` - use `...` to move two directories up\n",
    "- `alias c='clear'` - use `c` to clear output of the terminal\n",
    "- `alias cl='clear;ls'` - clear and list files immediately\n",
    "- `alias mv='mv -v'` - tell what happened after move operation\n",
    "- `alias cp='cp -v'` - verbose copy (like above)\n",
    "- `alias rm='rm -vi'` - `v`erbose and `i`nteractive (will ask are you sure to remove the file)\n",
    "- `alias reload='source ~/.bashrc'` - after changing anything in `.bashrc` and running this command, new settings will be immediately available\n",
    "- `alias sudo='sudo '` - yes, the whitespace is there; allows you to run `sudo` (escalated privileges, like admin) with any alias you've defined\n",
    "- `alias ls='ls -AlhF --color=auto' ` - cooler `ls` :D\n",
    "\n",
    "> __We will suggest other aliases throughout other parts of the course so you can perform the necessary tasks faster__"
   ]
  },
  {
   "cell_type": "markdown",
   "metadata": {},
   "source": [
    "## Next steps\n",
    "\n",
    "- Read about file permissions and how to change them using `chmod`\n",
    "- What are `pipes` (used as `|`)? How are they different from redirection?\n",
    "- What are environment variables?\n",
    "- How to run program in background? How to get it in foreground again? How to move running program to the background?\n",
    "- What is `su` and `sudo` in Linux?\n",
    "- What the following utilities (programs/tools) do?\n",
    "    - `grep`\n",
    "    - `ps`\n",
    "    - `head`\n",
    "    - `tail`\n",
    "    - `sort`\n",
    "\n",
    "- Read about `zsh` as an alternative to `bash` to be even more productive\n",
    "- Check out [oh-my-zsh](https://github.com/ohmyzsh/ohmyzsh) as a suite for more productive work in your command line\n",
    "- Customize your `prompt` in order to have necessary info displayed. You can check out [this one](https://github.com/denysdovhan/spaceship-prompt) or experiment with other you like more. Those should at least display info about `git` (next lesson) & current working directory\n",
    "- What other aliases might be useful? Maybe system update? \n",
    "- What are `dotfiles`?\n",
    "- What is `tmux`?"
   ]
  }
 ],
 "metadata": {
  "interpreter": {
   "hash": "3d597f4c481aa0f25dceb95d2a0067e73c0966dcbd003d741d821a7208527ecf"
  },
  "kernelspec": {
   "display_name": "Bash",
   "language": "python",
   "name": "python3"
  },
  "language_info": {
   "codemirror_mode": {
    "name": "ipython",
    "version": 3
   },
   "file_extension": ".py",
   "mimetype": "text/x-python",
   "name": "python",
   "nbconvert_exporter": "python",
   "pygments_lexer": "ipython3",
   "version": "3.9.1"
  }
 },
 "nbformat": 4,
 "nbformat_minor": 4
}
