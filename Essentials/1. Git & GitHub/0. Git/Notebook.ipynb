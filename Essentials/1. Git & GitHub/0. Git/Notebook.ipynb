{
 "cells": [
  {
   "cell_type": "markdown",
   "id": "abroad-pearl",
   "metadata": {},
   "source": [
    "# Git \n"
   ]
  },
  {
   "cell_type": "markdown",
   "id": "b71190b4",
   "metadata": {},
   "source": [
    "\n",
    "> <font size=+1> `git` is a distributed __version control system__ (VCS) and de facto standard for code collaboration right now </font>\n",
    "\n",
    "It is a program one can use within command line, which we know a little bit about by now! So, if you are on Windows, use gitbash, and if you are on Mac or Linux, just go with the default terminal\n"
   ]
  },
  {
   "cell_type": "markdown",
   "id": "03ed7f65",
   "metadata": {},
   "source": [
    "## Version Control System"
   ]
  },
  {
   "cell_type": "markdown",
   "id": "c917f210",
   "metadata": {},
   "source": [
    "First of all, what is a Version Control System (VCS)? As the name suggest, it is a system that keeps record of the versions you save. \n",
    "\n",
    "> <font size=+1> __System__ which records changes to file(s) over time, so you can always access any previous code __version__ </font>\n",
    "\n",
    "<p align=center><img src=images/distributed_vcs.png width=400></p>\n",
    "\n",
    "> <font size=+1> Distributed means that each node (client) __mirrors full repository and it's history__ </font>\n"
   ]
  },
  {
   "cell_type": "markdown",
   "id": "398e1926",
   "metadata": {},
   "source": [
    "## git features\n"
   ]
  },
  {
   "cell_type": "markdown",
   "id": "e75c8cba",
   "metadata": {},
   "source": [
    "Other VCS systems (and less popular currently) __stored information about file changes__, see below:\n",
    "\n",
    "<p align=center><img src=images/delta_based_vcs.png width=500></p>\n",
    "\n",
    "This means that it the VCS only took into account a file if it had a change over. Otherwise, the new state doesn't take into account those files that haven't changed.\n",
    "\n",
    "On the other hand, `git` records \"snapshots\" of the whole code, known as commits. You can think of a commit as a picture of all the files at a certain point. With that picture, `git` can always go back to that state:\n",
    "\n",
    "<p align=center><img src=images/git_snapshots.png width=500></p>\n"
   ]
  },
  {
   "cell_type": "markdown",
   "id": "5c64cd30",
   "metadata": {},
   "source": [
    "## Repositories"
   ]
  },
  {
   "cell_type": "markdown",
   "id": "31a9ae26",
   "metadata": {},
   "source": [
    "When you tell `git` to start keeping track of the files in a folder (or directory), you move the commits to a `git` __repository__, in which `git` stores the snapshots of the files within the working directory."
   ]
  },
  {
   "cell_type": "markdown",
   "id": "c31817e9",
   "metadata": {},
   "source": [
    "As mentioned, `git` is a distributed VCS, but that doesn't mean that, whenever you work on your repository, you are going to change the state of the central server. When you work in a repository, your changes are local, and won't be reflected on the central server until you push those changes.\n",
    "\n",
    "One more thing about repositories and `git` is that it only adds data, meaning that, if you remove a file, this operation could be seen as: \"add file deletion\". So you will not lose data if you commit your changes frequently. You __ESPECIALLY__ will not lose it if you push your changes to some central server (yes, we are getting towards GitHub slowly)"
   ]
  },
  {
   "cell_type": "markdown",
   "id": "6d00ff22",
   "metadata": {},
   "source": [
    "## State of any file in `git`\n"
   ]
  },
  {
   "cell_type": "markdown",
   "id": "38546002",
   "metadata": {},
   "source": [
    "\n",
    "The files contained in a repository can be in one of the three stages:\n",
    "\n",
    "- <font size=+1> Modified </font>: You have changed the file but have not committed it to your database yet\n",
    "- <font size=+1> Staged </font>: You have marked a modified file in its current version to go into your next commit snapshot\n",
    "- <font size=+1> Committed </font>: The data is safely stored in your local database.\n",
    "\n",
    "So, here is an example of the flow that a file usually undergoes in a repository:\n",
    "\n",
    "1. The file is created or modified. `git` compares the changes of the current directory with the last snapshot, and notices that there are some changes.\n",
    "    -  Those file are now labelled as __modified__ because it changed with respect its last snapshot\n",
    "2. When you are happy with all the changes you make to the file, you can tell the file to \"pose\" for the snapshot. So you put it in the __stage__ state\n",
    "3. `git` takes the snapshot of the file and stores it in the repository. The file is now __committed__\n",
    "    - Next time you change any other file in the working directory, it will enter the modified state again\n",
    "\n",
    "The explanation above mentions snapshots of the files, but technically, these snapshots are called __commits__"
   ]
  },
  {
   "cell_type": "markdown",
   "id": "perceived-lease",
   "metadata": {},
   "source": [
    "## Branches\n"
   ]
  },
  {
   "cell_type": "markdown",
   "id": "31975226",
   "metadata": {},
   "source": [
    "\n",
    "One of the power features of `git` are __branches__:\n",
    "\n",
    "> Branches are __movable pointers to commits__; You can think of them as separate path in code development (which you can later `merge` with another branch)\n",
    "\n",
    "- By default, `git` creates a branch called `main` (it used to be called `master`) after `git init`. __You should always keep it as your main branch!__\n",
    "- `HEAD` (which we have seen it previously) is a pointer to where in the commit history we currently are\n",
    "\n",
    "<p align=center><img src=images/git_branch_pointers.png width=500></p>\n",
    "\n",
    "__Using branches one can__:\n",
    "- Work on new features separately from other features and developers (separation is good!)\n",
    "- Make the whole thing more structured and easy to follow\n",
    "- __Not pollute the `master` branch__ with untested/experimental/work in progress (WIP) code\n",
    "\n",
    "> Use branches __ALL THE TIME__\n"
   ]
  },
  {
   "cell_type": "markdown",
   "id": "c31ead9d",
   "metadata": {},
   "source": [
    "## Working with branches\n"
   ]
  },
  {
   "cell_type": "markdown",
   "id": "05733636",
   "metadata": {},
   "source": [
    "\n",
    "> `git branch NAME_OF_BRANCH` is a command responsible for handling branches\n",
    "\n",
    "Let's see what happens after we issue `git branch testing`:\n",
    "\n",
    "<p align=center><img src=images/git_branch_testing_created.png width=500></p>\n",
    "\n",
    "Few things to notice:\n",
    "- __We are still on `master` branch as indicated by `~HEAD`!__\n",
    "- New branch is merely a pointer to the branch\n",
    "\n",
    "In order to switch to this branch, we can issue `git checkout` command:"
   ]
  },
  {
   "cell_type": "markdown",
   "id": "af7f633f",
   "metadata": {},
   "source": [
    "```\n",
    "git checkout testing\n",
    "```"
   ]
  },
  {
   "cell_type": "markdown",
   "id": "29d9933d",
   "metadata": {},
   "source": [
    "\n",
    "> Tip: `git checkout -b NAME_OF_BRANCH` creates the new branch and checks it out in one command\n",
    "\n",
    "Now we are on `testing` branch (`HEAD` points towards it) we can do the usual operations like `git add`, `git commit` on it and come up with result like this:\n",
    "\n",
    "<p align=center><img src=images/git_branch_testing_commited.png width=500></p>\n",
    "\n",
    "\n",
    "We can move back to `master` by simply issuing `git checkout master`. Things to note:\n",
    "- __Your local changes will go back to how they were on `master`!__\n",
    "- __This doesn't mean your files are lost. They are just commited on another branch!__\n"
   ]
  },
  {
   "cell_type": "markdown",
   "id": "71eed7a2",
   "metadata": {},
   "source": [
    "Let's commit on this one also, which leaves us with the following (divergent) branch structure:\n",
    "\n",
    "<p align=center><img src=images/git_branch_divergent.png width=500></p>"
   ]
  },
  {
   "cell_type": "markdown",
   "id": "d17ffac3",
   "metadata": {},
   "source": [
    "### Tips\n",
    "\n",
    "- You can use `git checkout -b NAME_OF_THE_BRANCH` to create branch from the current one and change to it immediately\n",
    "- __Pull all changes from the remote repository before creating branch with new feature!__ (this will minimize the risk of merge conflicts)"
   ]
  },
  {
   "cell_type": "markdown",
   "id": "36e4e5ae",
   "metadata": {},
   "source": [
    "## Merging\n"
   ]
  },
  {
   "cell_type": "markdown",
   "id": "65b7df01",
   "metadata": {},
   "source": [
    "When you are finished working with a branch, you can apply those changes to the main branch by merging it. \n",
    "\n",
    "From the example above, let's say that you have finished working with the \"testing\" branch. You can implement the changes from \"testing\" into \"master\"\n",
    "\n",
    "<p align=center><img src=images/merge.png width=800></p>\n"
   ]
  },
  {
   "cell_type": "markdown",
   "id": "04836bfa",
   "metadata": {},
   "source": [
    "\n",
    "There are three ways to merge a branch into another:\n",
    "\n",
    "- Merge commit\n",
    "- Squash and merge\n",
    "- Rebase and merge\n",
    "\n",
    "Using the default merge commit will suffice for many purposes. If you want to take a deeper look into the difference between these merges, read the following StackOverflow [thread](https://stackoverflow.com/questions/2427238/what-is-the-difference-between-merge-squash-and-rebase) \n"
   ]
  },
  {
   "cell_type": "markdown",
   "id": "58648b24",
   "metadata": {},
   "source": [
    "## Try it out"
   ]
  },
  {
   "cell_type": "markdown",
   "id": "da6cb3f6",
   "metadata": {},
   "source": [
    "That was a lot to process! Let's get our hands dirty by creating a local repository, adding files to it, and finally committing those files. Then, we will work a little bit with branches so that you see how they work.\n",
    "\n",
    "Follow the next steps and observe the changes you see in your local machine.\n",
    "\n",
    "1. Create a new directory in your Desktop named \"AiCore_git\"\n",
    "    - Use your terminal to move to your Desktop using the `cd` command\n",
    "    - Create the directory using the `mkdir` command\n",
    "2. Change your working directory to \"AiCore_git\"\n",
    "    - Once again, use the `cd` command\n",
    "3. To create a repository, you need to run `git init`\n",
    "    - This will create a hidden directory that contains the information about the commits you make\n",
    "4. List the files you have in \"AiCore_git\"\n",
    "    - Use the `ls -a` command to show the ALL the files, including the hidden ones as well\n",
    "    - Notice that a directory named `.git` has been created\n",
    "5. Create two different files, \"test_1.txt\", and \"test_2.txt\" for example\n",
    "    - Use the `echo` or the `touch` command to do so\n",
    "6. Let's check the status of the directory\n",
    "    - Run `git status`\n",
    "    - Read the message, and try to understand what is the state of your files\n",
    "7. Move the files to the __staged__ state\n",
    "    - Use the `git add` command followed by the name of a file\n",
    "    - Alternatively, you can stage all the files using `git add .`\n",
    "8. Check again the status of the directory\n",
    "    - Rerun `git status`\n",
    "    - What differences do you see with respect to the previous status?\n",
    "9. Take a snapshot of your new files so `git` remembers them! In other words, make a commit\n",
    "    - Use the `git commit` to commit all those files in the stage state\n",
    "    - Don't forget to add a message to the commit. Add the `-m` flag to the command followed by the message you want to provide\n",
    "        - For example `git commit -m \"First commit\"`\n",
    "10. Once more, check the status of your directory and look at the differences"
   ]
  },
  {
   "cell_type": "markdown",
   "id": "9bfbd669",
   "metadata": {},
   "source": [
    "#### Using branches\n"
   ]
  },
  {
   "cell_type": "markdown",
   "id": "349a94a7",
   "metadata": {},
   "source": [
    "Now, let's play around with branches\n",
    "\n",
    "1. In \"AiCore_git\" create a new branch named \"testing\"\n",
    "    - Use `git checkout -b testing`\n",
    "    - Look at the syntax of the command: \n",
    "        - `git checkout` switch the current branch\n",
    "        - `-b` creates a new branch\n",
    "        - `testing` is the name of the branch we want to create\n",
    "    - So overall, we are creating a new branch called \"testing\" and moving into it\n",
    "2. Check the active branches in your directory\n",
    "    - Use `git branch` and see the output\n",
    "3. Create a new file named \"test_3.txt\"\n",
    "4. Stage and commit \"test_3.txt\"\n",
    "5. Switch to the main branch\n",
    "    - Use `git checkout` and the name of your main branch\n",
    "        - It is usually either `main` or `master`\n",
    "6. List all the files you have in the directory\n",
    "    - Wait, where is \"test_3.txt\"? Has it vanished?\n",
    "    - Don't worry, \"test_3.txt\" is in the \"testing\" branch, but the main branch doesn't see any of the changes made in other branches. That's why you can't see it now\n",
    "7. Merge \"testing\" into the main branch\n",
    "    - Use `git merge testing`\n",
    "8. Check again the files you have in this directory\n",
    "    - Great, we can see that \"test_3.txt\" is now in the main branch!"
   ]
  },
  {
   "cell_type": "markdown",
   "id": "f6993c2f",
   "metadata": {},
   "source": [
    "As you could see, using branches is a great idea to not compromise your main work"
   ]
  },
  {
   "cell_type": "markdown",
   "id": "advised-paradise",
   "metadata": {},
   "source": [
    "## Reverting changes\n"
   ]
  },
  {
   "cell_type": "markdown",
   "id": "a5277abe",
   "metadata": {},
   "source": [
    "\n",
    "> If you accidentally add too many files and commit out of rush, you can easily revert your changes\n",
    "\n",
    "For that, we can use `git reset` command!\n",
    "\n",
    "- `git reset HEAD~` (the HEAD is actually written, it's not a placeholder here) - reverts last `git commit` and unstages (reverts `git add`) the files (you have to change `git add` them again); __no changes to files will be done except that, so don't worry, it WILL NOT delete them!__\n",
    "- `git reset [FILE]` - reverts `git add`; if `FILE` specified, unstages it, without any arguments, unstages everything"
   ]
  },
  {
   "cell_type": "markdown",
   "id": "333e304c",
   "metadata": {},
   "source": [
    "## Resources\n"
   ]
  },
  {
   "cell_type": "markdown",
   "id": "7c01ca14",
   "metadata": {},
   "source": [
    "- [Pro Git Book](https://git-scm.com/book/en/v2) - one of the best resources about git (also source for some content seen here)"
   ]
  }
 ],
 "metadata": {
  "interpreter": {
   "hash": "3d597f4c481aa0f25dceb95d2a0067e73c0966dcbd003d741d821a7208527ecf"
  },
  "kernelspec": {
   "display_name": "Bash [conda env:.conda-AiCore] *",
   "language": "python",
   "name": "python3"
  },
  "language_info": {
   "codemirror_mode": {
    "name": "ipython",
    "version": 3
   },
   "file_extension": ".py",
   "mimetype": "text/x-python",
   "name": "python",
   "nbconvert_exporter": "python",
   "pygments_lexer": "ipython3",
   "version": "3.9.1"
  }
 },
 "nbformat": 4,
 "nbformat_minor": 5
}
