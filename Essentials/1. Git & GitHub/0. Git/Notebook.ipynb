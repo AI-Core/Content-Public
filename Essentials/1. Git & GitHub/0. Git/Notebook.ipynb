{
 "cells": [
  {
   "cell_type": "markdown",
   "id": "abroad-pearl",
   "metadata": {},
   "source": [
    "# Git \n"
   ]
  },
  {
   "cell_type": "markdown",
   "id": "b71190b4",
   "metadata": {},
   "source": [
    "\n",
    "> <font size=+1> `git` is currently the most utilised distributed __version-control system__ (VCS) and the de facto standard for code collaboration globally. </font>\n",
    "\n",
    "As a program, git can be run in the command line,  which we are slightly familiar with. If you are on a Windows machine, use gitbash; otherwise, use the default terminal.\n"
   ]
  },
  {
   "cell_type": "markdown",
   "id": "03ed7f65",
   "metadata": {},
   "source": [
    "## Version-Control System"
   ]
  },
  {
   "cell_type": "markdown",
   "id": "c917f210",
   "metadata": {},
   "source": [
    "First, what is a VCS?\n",
    "\n",
    "As the name suggests, a VCS refers to a software utilised for tracking changes to code and maintaining the records of saved versions. \n",
    "\n",
    "> <font size=+1> A __VCS__ records changes to file(s) over time, thereby providing constant access to previous code __versions.__ </font>\n",
    "\n",
    "<p align=center><img src=images/distributed_vcs.png width=400></p>\n",
    "\n",
    "> <font size=+1> Git is considered to be __distributed__ because each node (client) __mirrors the full repository and its history.__ </font>\n"
   ]
  },
  {
   "cell_type": "markdown",
   "id": "398e1926",
   "metadata": {},
   "source": [
    "## Git Features\n"
   ]
  },
  {
   "cell_type": "markdown",
   "id": "e75c8cba",
   "metadata": {},
   "source": [
    "Other than git, other VCSs, which are comparatively unpopular currently, __store information about file changes__ (see below).\n",
    "\n",
    "<p align=center><img src=images/delta_based_vcs.png width=500></p>\n",
    "\n",
    "Thus, these VCSs only consider a file if a change has been made. In other words, the new state does not consider files that have not changed.\n",
    "\n",
    "Conversely, `git` records 'snapshots' of the whole code, known as commits. Think of a commit as a picture of all the files at a certain point. With that picture, `git` can always revert to that state.\n",
    "\n",
    "<p align=center><img src=images/git_snapshots.png width=500></p>\n"
   ]
  },
  {
   "cell_type": "markdown",
   "id": "5c64cd30",
   "metadata": {},
   "source": [
    "## Repositories"
   ]
  },
  {
   "cell_type": "markdown",
   "id": "31a9ae26",
   "metadata": {},
   "source": [
    "When you tell `git` to start keeping track of the files in a folder (or directory), you move the commits to a `git` __repository__, in which `git` stores the snapshots of the files in the working directory."
   ]
  },
  {
   "cell_type": "markdown",
   "id": "c31817e9",
   "metadata": {},
   "source": [
    "As mentioned previously, `git` is a distributed VCS; however, that does not mean that you change the state of the central server whenever you work on your repository. When you work on a repository, your changes are saved locally and will not be reflected on the central server until you push them.\n",
    "\n",
    "Note that `git` only adds data. This implies that the operation of removing a file could be considered as 'add file deletion'. Thus, you will not lose data if you commit your changes frequently. You __ESPECIALLY__ will not lose your data if you push your changes to a central server (as you probably can tell, we are gradually approaching GitHub)."
   ]
  },
  {
   "cell_type": "markdown",
   "id": "6d00ff22",
   "metadata": {},
   "source": [
    "## State of any File in `git`\n"
   ]
  },
  {
   "cell_type": "markdown",
   "id": "38546002",
   "metadata": {},
   "source": [
    "\n",
    "The files in a repository can be in one of three stages:\n",
    "\n",
    "- <font size=+1> Modified</font>: You changed the file but are yet to commit the changes to your database.\n",
    "- <font size=+1> Staged</font>: You have marked a modified file in its current version as being ready to go into your next commit (snapshot).\n",
    "- <font size=+1> Committed</font>: The data are safely stored in your local database.\n",
    "\n",
    "For clarity, here is an example of the conventional flow of a file in a repository:\n",
    "\n",
    "1. The file is created or modified. Thereafter, `git` compares the changes in the current directory with those in the last snapshot and notices some changes.\n",
    "    -  The revised file is now labelled as __modified__ because it changed with respect to its last snapshot.\n",
    "2. When you have completed a session of revisions on the file, you can mark the file as being ready for the snapshot, thereby positioning it in the __staged__ state.\n",
    "3. `git` takes the snapshot of the file and stores it in the repository. The file is now __committed.__\n",
    "    - The next time you change a file in the working directory, it will enter the modified state, and the process repeats once more.\n",
    "\n",
    "Although 'snapshots' are employed in the above explanations for clarity, the technical term is __commits__."
   ]
  },
  {
   "cell_type": "markdown",
   "id": "perceived-lease",
   "metadata": {},
   "source": [
    "## Branches\n"
   ]
  },
  {
   "cell_type": "markdown",
   "id": "31975226",
   "metadata": {},
   "source": [
    "\n",
    "One of the powerful features of `git` is __branches__.\n",
    "\n",
    "> Branches are __movable pointers to commits__. Think of them as separate paths in code development, which you can later `merge`.\n",
    "\n",
    "- By default, `git` creates a branch called `main` (formerly `master`) after running the `git init` command. __You should always keep it as your main branch.__\n",
    "- `HEAD` (which we have encountered) is a pointer to the current location in the commit history.\n",
    "\n",
    "<p align=center><img src=images/git_branch_pointers.png width=500></p>\n",
    "\n",
    "__Using branches, one can__\n",
    "- work on new features separate from other developers.\n",
    "- ensure that the entire process and workflow are structured and easy to follow\n",
    "- test out experimental/work-in-progress (WIP) code without altering the __`master` branch__\n",
    "\n",
    "> Use branches __ALL THE TIME.__\n"
   ]
  },
  {
   "cell_type": "markdown",
   "id": "c31ead9d",
   "metadata": {},
   "source": [
    "## Working with Branches\n"
   ]
  },
  {
   "cell_type": "markdown",
   "id": "05733636",
   "metadata": {},
   "source": [
    "\n",
    "> `git branch NAME_OF_BRANCH` is the basic command responsible for creating branches.\n",
    "\n",
    "Below, we illustrate what happens after we run the `git branch testing` command.\n",
    "\n",
    "<p align=center><img src=images/git_branch_testing_created.png width=500></p>\n",
    "\n",
    "Few things to note:\n",
    "- __We are still on the `master` branch, as indicated by `~HEAD`.__\n",
    "- The new branch is merely a pointer to the last commit.\n",
    "\n",
    "To switch to the new branch, we run the `git checkout` command:"
   ]
  },
  {
   "cell_type": "markdown",
   "id": "af7f633f",
   "metadata": {},
   "source": [
    "```\n",
    "git checkout testing\n",
    "```"
   ]
  },
  {
   "cell_type": "markdown",
   "id": "29d9933d",
   "metadata": {},
   "source": [
    "\n",
    "> Tip: `git checkout -b NAME_OF_BRANCH` creates a new branch and checks it out (i.e. switches to the new branch) automatically.\n",
    "\n",
    "Now that we are on the `testing` branch (`HEAD` points to it), we can perform the usual operations, including `git add` and `git commit`, and achieve results, as shown in the figure below:\n",
    "\n",
    "<p align=center><img src=images/git_branch_testing_commited.png width=500></p>\n",
    "\n",
    "\n",
    "We can switch back to the `master` by simply running the `git checkout master` command. \n",
    "\n",
    "Things to note:\n",
    "- __Your local changes will revert to how they were on the `master`.__\n",
    "- __This does not imply that your changes are lost. They are simply committed on another branch.__\n"
   ]
  },
  {
   "cell_type": "markdown",
   "id": "71eed7a2",
   "metadata": {},
   "source": [
    "Now, we commit on the `master` branch as well, which leaves us with the following (divergent) branch structure:\n",
    "\n",
    "<p align=center><img src=images/git_branch_divergent.png width=500></p>"
   ]
  },
  {
   "cell_type": "markdown",
   "id": "d17ffac3",
   "metadata": {},
   "source": [
    "### Tip\n",
    "\n",
    "- __Pull all changes from the remote repository before creating a branch with new features.__ This will minimise the risk of merge conflicts."
   ]
  },
  {
   "cell_type": "markdown",
   "id": "36e4e5ae",
   "metadata": {},
   "source": [
    "## Merging\n"
   ]
  },
  {
   "cell_type": "markdown",
   "id": "65b7df01",
   "metadata": {},
   "source": [
    "When you have completed your work on a branch, you can apply the changes to the main branch by merging it. \n",
    "\n",
    "From the example above, let us assume that you have completed your work on the 'testing' branch. You can implement the changes from 'testing' into 'master' by merging.\n",
    "\n",
    "<p align=center><img src=images/merge.png width=800></p>\n"
   ]
  },
  {
   "cell_type": "markdown",
   "id": "04836bfa",
   "metadata": {},
   "source": [
    "\n",
    "There are three methods for merging a branch into another:\n",
    "\n",
    "- merge commit\n",
    "- squash and merge\n",
    "- rebase and merge\n",
    "\n",
    "In most cases, the default 'merge commit' will suffice. To obtain an in-depth understanding of the differences between these merging methods, read the following StackOverflow [thread](https://stackoverflow.com/questions/2427238/what-is-the-difference-between-merge-squash-and-rebase). \n"
   ]
  },
  {
   "cell_type": "markdown",
   "id": "58648b24",
   "metadata": {},
   "source": [
    "## Exercise"
   ]
  },
  {
   "cell_type": "markdown",
   "id": "da6cb3f6",
   "metadata": {},
   "source": [
    "Admittedly, that was a lot to process. Now, we put into practice all that we have learnt by creating a local repository, adding files to it, and finally committing those files. Thereafter, we will experiment with branches to improve your understanding of their working mechanisms.\n",
    "\n",
    "Please carry out the following tasks and observe the changes in your local machine.\n",
    "\n",
    "1. Create a new directory on your Desktop named 'AiCore_git'.\n",
    "    - Navigate to your Desktop from the terminal using the `cd` command.\n",
    "    - Create the directory using the `mkdir` command.\n",
    "2. Change your working directory to 'AiCore_git'.\n",
    "    - Once more, use the `cd` command.\n",
    "3. Run `git init` to create a repository.\n",
    "    - This will create a hidden directory that contains all the information regarding your commits.\n",
    "4. List the files contained in 'AiCore_git'.\n",
    "    - Use the `ls -a` command to display all the files, including the hidden ones.\n",
    "    - Notice that a directory named `.git` has been created.\n",
    "5. Create two different files, e.g. 'test_1.txt' and \"test_2.txt'.\n",
    "    - Use the `echo` or the `touch` command for this task.\n",
    "6. Check the status of the directory.\n",
    "    - Run `git status`.\n",
    "    - Read the message, and attempt to understand the state of your files.\n",
    "7. Move the files to the __staged__ state.\n",
    "    - Use the `git add` command, followed by the name of a file to be staged.\n",
    "    - Alternatively, you can stage all the files using the `git add .` command.\n",
    "8. Check the status of the directory again.\n",
    "    - Rerun `git status`.\n",
    "    - What differences do you see with respect to the output of the previous `git status` command?\n",
    "9. Take a snapshot of your new files so that `git` remembers them. In other words, make a commit.\n",
    "    - Use the `git commit` command to commit all the files in the staged state.\n",
    "    - Remember to add a commit message. Add the `-m` flag to the command, followed by your desired message in quotes.\n",
    "        - For example, `git commit -m \"First commit\"`.\n",
    "10. Once more, check the status of your directory, and observe the differences."
   ]
  },
  {
   "cell_type": "markdown",
   "id": "9bfbd669",
   "metadata": {},
   "source": [
    "#### Using branches\n"
   ]
  },
  {
   "cell_type": "markdown",
   "id": "349a94a7",
   "metadata": {},
   "source": [
    "Here, we experiment with branches.\n",
    "\n",
    "1. In 'AiCore_git', create a new branch named 'testing'.\n",
    "    - Use `git checkout -b testing`.\n",
    "    - Here is a breakdown of the command syntax: \n",
    "        - `git checkout`: switches to a different branch\n",
    "        - `-b`: creates a new branch\n",
    "        - `testing`: refers to the name of the new branch\n",
    "    - Basically, we are creating a new branch called 'testing' and switching to it immediately.\n",
    "2. Check the active branches in your directory.\n",
    "    - Use `git branch` and see the output.\n",
    "3. Create a new file named 'test_3.txt'.\n",
    "4. Stage and commit 'test_3.txt'.\n",
    "5. Switch to the main branch.\n",
    "    - Use `git checkout` with the name of your main branch (Conventionally, it is either `main` or `master`).\n",
    "6. List all the files contained in the directory.\n",
    "    - If done correctly, 'test_3.txt' should be out of sight.\n",
    "    - However, do not be alarmed; 'test_3.txt' is stored on the 'testing' branch. Note that none of the changes made on the testing branch were applied on the main branch. This is why it appears to have vanished.\n",
    "7. Merge 'testing' into the main branch.\n",
    "    - Use `git merge testing`.\n",
    "8. Once more, list the files contained in this directory.\n",
    "    - Great, we can see that 'test_3.txt' is now in the main branch."
   ]
  },
  {
   "cell_type": "markdown",
   "id": "f6993c2f",
   "metadata": {},
   "source": [
    "As you can now tell, using branches is a great way to not compromise your main code base."
   ]
  },
  {
   "cell_type": "markdown",
   "id": "advised-paradise",
   "metadata": {},
   "source": [
    "## Reverting Changes\n"
   ]
  },
  {
   "cell_type": "markdown",
   "id": "a5277abe",
   "metadata": {},
   "source": [
    "\n",
    "> If you accidentally add too many files and commit in a hurry, you can easily revert to the 'pre-changes' state.\n",
    "\n",
    "For that, we can use the `git reset` command.\n",
    "\n",
    "- `git reset HEAD~` (the HEAD is actually written, it is not a placeholder here): reverts the last `git commit` and unstages (reverts `git add`) the files (you have to run `git add` to stage them again). Other than these, __no change will be made to the files. Therefore, you may rest assured that the files WILL NOT be deleted.__\n",
    "- `git reset [FILE]`: reverts `git add`; if `FILE` is specified, it unstages the file; without any arguments, it unstages everything."
   ]
  },
  {
   "cell_type": "markdown",
   "id": "333e304c",
   "metadata": {},
   "source": [
    "## Resources\n"
   ]
  },
  {
   "cell_type": "markdown",
   "id": "7c01ca14",
   "metadata": {},
   "source": [
    "- [Pro Git Book](https://git-scm.com/book/en/v2) is one of the best resources on git (it is also a reference for some of the information provided herein)."
   ]
  }
 ],
 "metadata": {
  "interpreter": {
   "hash": "3d597f4c481aa0f25dceb95d2a0067e73c0966dcbd003d741d821a7208527ecf"
  },
  "kernelspec": {
   "display_name": "Bash [conda env:.conda-AiCore] *",
   "language": "python",
   "name": "python3"
  },
  "language_info": {
   "codemirror_mode": {
    "name": "ipython",
    "version": 3
   },
   "file_extension": ".py",
   "mimetype": "text/x-python",
   "name": "python",
   "nbconvert_exporter": "python",
   "pygments_lexer": "ipython3",
   "version": "3.9.1"
  }
 },
 "nbformat": 4,
 "nbformat_minor": 5
}
