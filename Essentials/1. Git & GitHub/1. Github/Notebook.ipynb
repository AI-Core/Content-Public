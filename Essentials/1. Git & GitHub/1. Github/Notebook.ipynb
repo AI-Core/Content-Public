{
 "cells": [
  {
   "cell_type": "markdown",
   "metadata": {},
   "source": [
    "# GitHub\n"
   ]
  },
  {
   "cell_type": "markdown",
   "metadata": {},
   "source": [
    "In this section you will see a good central server where you can store your code: __GitHub__ \n",
    "\n",
    "__Please create a new account on GitHub on your own [here](www.github.com)__\n",
    "\n",
    "> <font size=+1>All projects you will create during duration of this course should be started here (by creating a project repository)!</font>"
   ]
  },
  {
   "cell_type": "markdown",
   "metadata": {},
   "source": [
    "\n",
    "## Creating a repository (repo)\n"
   ]
  },
  {
   "cell_type": "markdown",
   "metadata": {},
   "source": [
    "- Click on the \"+\" sign on the right and selection \"Create New Repository\"\n",
    "\n",
    "![](images/github_top_bar.png)\n",
    "\n",
    "You will be taken to repository creation page with some options. \n",
    "\n",
    "- __Public vs Private__: determine whether everyone can see (fork and contribute to) this project or just you (you can add more collaborators to a private repo later)\n",
    "- __Initializing repository__:\n",
    "    - __Always add `.gitignore` at this step for specific language (see below)!__\n",
    "    - It is advised to add some form of license (MIT is often the license of choice, but you should check out possibilities, see assessments)\n",
    "    - You can also create `README.md`, but you might also add it later after cloning the project\n"
   ]
  },
  {
   "cell_type": "markdown",
   "metadata": {},
   "source": [
    "## .gitignore\n"
   ]
  },
  {
   "cell_type": "markdown",
   "metadata": {},
   "source": [
    "\n",
    "> `.gitignore` is a file which prevents adding language-related \"junk\" (files which are result of running and not necessary for the project) to git\n",
    "\n",
    "- During this course you should always use `python`'s `.gitignore`\n",
    "- Add specific files, or filepath expressions which can include regex, (like `data`) to this file, - one on each line\n"
   ]
  },
  {
   "cell_type": "markdown",
   "metadata": {},
   "source": [
    "\n",
    "## Cloning a repository\n"
   ]
  },
  {
   "cell_type": "markdown",
   "metadata": {},
   "source": [
    "<p align=center><img src=images/github_repo_page.png width=600></p>\n",
    "\n",
    "You can clone your repository using `git clone` command. First, copy the link after clicking on the green button that says \"Code\". Make sure you are in the \"HTTPS\" tab\n",
    "\n",
    "```bash\n",
    "git clone <URL you just copied>\n",
    "```\n",
    "\n",
    "This will create a local version of the code in a folder with the same name as the repo.\n",
    "\n",
    "### GitHub tips\n",
    "\n",
    "- __2 GB size limit for repository!__\n",
    "- __Store your large files somewhere else (like AWS's S3)__\n",
    "- __Use `git lfs` (https://git-lfs.github.com/) for larger files which do not change often!__"
   ]
  },
  {
   "cell_type": "markdown",
   "metadata": {},
   "source": [
    "## Pushing changes to remote\n"
   ]
  },
  {
   "cell_type": "markdown",
   "metadata": {},
   "source": [
    "\n",
    "After commit we can push our changes to remote repository (outer server __like GitHub!__).\n",
    "\n",
    "```bash\n",
    "git push -u origin BRANCH_YOU_ARE_ON\n",
    "```\n",
    "\n",
    "> Usually (always in our course) you will push to your GitHub repository!\n",
    "\n",
    "When you open your remote GitHub repository you will something like this:\n",
    "<p align=center><img src=images/push_to_github.png width=700></p>\n",
    "\n",
    "Now, after you click on green button, you will make a...\n"
   ]
  },
  {
   "cell_type": "markdown",
   "metadata": {},
   "source": [
    "\n",
    "## Pull Request\n",
    "\n",
    "> Pull request (PR) means we are asking repository/project owner (or anyone with appropriate status) to __merge__ changes located on our branch __upstream__ (to the main branch, almost always `master`)\n",
    "\n",
    "<p align=center><img src=images/pull_request_github.png width=700></p>\n",
    "\n",
    "At this point (don't worry, you can also do it after PR) you can (amongst other things):\n",
    "- assign someone to review your work (__do it all the time if you're cooperating on the project__)\n",
    "- assign someone to work with you\n",
    "- give appropriate label (everyone knows at a quick glance to which part of the project your change is related to)\n",
    "\n",
    "> __Most important is the green button for creating a PR__\n"
   ]
  },
  {
   "cell_type": "markdown",
   "metadata": {},
   "source": [
    "## GitHub Issues"
   ]
  },
  {
   "cell_type": "markdown",
   "metadata": {},
   "source": [
    "GitHub Issues is a tool for keeping track of what are the steps to develop your repo. It is very helpful especially when you are working in teams and you need a list of tasks to do. \n",
    "\n",
    "Each issue can be tagged with a label to define whether the issue consists on fixing something, or on adding new features... You can even create your own tags!\n",
    "\n",
    "You can create issues clicking on the \"Issues\" tab in your repo"
   ]
  },
  {
   "cell_type": "markdown",
   "metadata": {},
   "source": [
    "<p align=center><img src=images/issues_1.png width=600></p>"
   ]
  },
  {
   "cell_type": "markdown",
   "metadata": {},
   "source": [
    "And then click on the \"New issue\" green button. In the next window you can add a title and a description to your issue. Additionally, you can label your issue with a tag and make someone in your team the responsible for fixing this issue. \n",
    "\n",
    "<p align=center><img src=images/issues_2.png width=600></p>"
   ]
  },
  {
   "cell_type": "markdown",
   "metadata": {},
   "source": [
    "When you are happy with it, click on \"Submit new issue\". You will be redirected to the summary of the issue. Notice that my issue was Issue #7, it will come in handy shortly.\n",
    "\n",
    "Ok, so I think I covered GitHub issues now, so I can close this issue. I can do it by clicking on \"Close issue\"\n",
    "\n",
    "<p align=center><img src=images/issues_3.png width=600></p>"
   ]
  },
  {
   "cell_type": "markdown",
   "metadata": {},
   "source": [
    "And that would do it.\n",
    "\n",
    "But a nice way to do it is by using a keyword followed by the number of the issue in a commit message. These keywords are:\n",
    "\n",
    "`close, closes, closed, fix, fixes, fixed, resolve, resolves, resolved`\n",
    "\n",
    "So, if I make a commit and add, for example, the following message:\n",
    "\n",
    "`\"Add issues content. This fix #7\"`\n",
    "\n",
    "It will close this issue automatically, pretty neat isn't it? Let's give that a try!\n"
   ]
  },
  {
   "cell_type": "markdown",
   "metadata": {},
   "source": [
    "## Try it out"
   ]
  },
  {
   "cell_type": "markdown",
   "metadata": {},
   "source": [
    "Follow these steps to see how easy is to set up a GitHub repo\n",
    "\n",
    "1. Create a new GitHub repo\n",
    "    - Name it \"Test\" for example\n",
    "    - Tick the \"Add README\" box\n",
    "2. Add an issue to your repo\n",
    "    - Don't worry too much about the name or the body\n",
    "    - Most likely, the issue is issue #1\n",
    "3. Clone the repo in your local machine\n",
    "    - Copy the URL of your repo as specified above\n",
    "    - In your terminal use the `git clone` command\n",
    "4. Change directory to the cloned repo\n",
    "5. Create a new branch named \"testing\" and switch to it\n",
    "    - Use the `git checkout -b` command\n",
    "6. Create a new file named \"test.txt\"\n",
    "7. Stage and commit the changes\n",
    "8. Push the changes to GitHub\n",
    "    - Use the `git push` command\n",
    "9. Go back to GitHub and check your branches\n",
    "10. Make a Pull Request (PR) to merge testing into main\n",
    "    - Go to the Pull Requests tab\n",
    "    - Click on New Pull Request\n",
    "    - Make sure you are merging testing into main like in the image:\n",
    "\n",
    "<p align=center><img src=images/PR.png width=600></p>\n",
    "\n",
    "11. If everything went well, the \"Merge Pull Request\" button is green and you can merge both branches with a message\n",
    "    - Use this message to close the issue you created earlier\n",
    "    - In my case, I opened issue #7, but change it according to your issue\n",
    "    - So the message should include one of the keywords mentioned earlier followed by the number of the issue\n",
    "    - It should look like this:\n",
    "\n",
    "<p align=center><img src=images/PR_3.png width=600></p>"
   ]
  },
  {
   "cell_type": "markdown",
   "metadata": {},
   "source": [
    "12. Once you \"Confirm Merge\" check your issues\n",
    "    - Go to the issues tab\n",
    "    - Your issue has gone!"
   ]
  },
  {
   "cell_type": "markdown",
   "metadata": {},
   "source": [
    "## Set up git locally\n",
    "\n",
    "In order to use most of the features from git, you will need to provide your credentials. To do so, you can use the `git config` command\n",
    "\n",
    "  - `git config --global user.name \"Your Name\"`\n",
    "  - `git config --global user.email \"your@email.com\"`\n",
    "\n",
    "Make sure to use the same email address you used when you created your github account\n",
    "\n"
   ]
  },
  {
   "cell_type": "markdown",
   "metadata": {},
   "source": [
    "# Assessments\n"
   ]
  },
  {
   "cell_type": "markdown",
   "metadata": {},
   "source": [
    "\n",
    "> Most of the questions about `git` shown below have definitive answers in [Git Book](https://git-scm.com/book/en/v2)!\n",
    "\n",
    "- What are checksums?\n",
    "- How git uses checksums (see [here](https://git-scm.com/book/en/v2/Getting-Started-What-is-Git%3F))?\n",
    "- What is `tagging` on git(see [here](https://git-scm.com/book/en/v2/Git-Basics-Tagging))?\n",
    "- What do the following commands do (and what could be their usage):\n",
    "    - `git stash`\n",
    "    - `git blame`\n",
    "- What is project forking on GitHub?\n",
    "- Check out popular licenses (this page makes it easier: https://choosealicense.com/)\n",
    "\n",
    "> __Please set up the ones shown below, it will make your life easier__\n",
    "\n",
    "- GitHub with verified commits using PGP (see [here](https://docs.github.com/en/github/authenticating-to-github/about-commit-signature-verification))\n",
    "\n",
    "## Non-assessment\n",
    "\n",
    "- Check out [GitHub CLI](https://github.com/cli/cli) and improve above workflow according to your preferences\n",
    "- Check out [alias-tips](https://github.com/djui/alias-tips) (provided you have `zsh` shell!). We are humans after all, and this reminder will __drastically help you__ in actually using those aliases\n",
    "- Check out [this article](https://chris.beams.io/posts/git-commit/) about writing good commit messages"
   ]
  },
  {
   "cell_type": "markdown",
   "metadata": {},
   "source": [
    "## Resources\n"
   ]
  },
  {
   "cell_type": "markdown",
   "metadata": {},
   "source": [
    "- [GitHub documentation](https://docs.github.com/en) - same as above, but for GitHub"
   ]
  }
 ],
 "metadata": {
  "language_info": {
   "name": "python"
  },
  "orig_nbformat": 4
 },
 "nbformat": 4,
 "nbformat_minor": 2
}
