{
 "cells": [
  {
   "cell_type": "markdown",
   "id": "abroad-pearl",
   "metadata": {},
   "source": [
    "# Git & GitHub\n"
   ]
  },
  {
   "cell_type": "markdown",
   "id": "94b9073b",
   "metadata": {},
   "source": [
    "## Resources\n"
   ]
  },
  {
   "cell_type": "markdown",
   "id": "e5a2c29f",
   "metadata": {},
   "source": [
    "\n",
    "> These two are everything you will probably ever need with `git` (maybe some StackOverflow sometimes... :) )\n",
    "\n",
    "- [Pro Git Book](https://git-scm.com/book/en/v2) - one of the best resources about git (also source for some content seen here)\n",
    "- [GitHub documentation](https://docs.github.com/en) - same as above, but for GitHub"
   ]
  },
  {
   "cell_type": "markdown",
   "id": "catholic-breakfast",
   "metadata": {},
   "source": [
    "# git"
   ]
  },
  {
   "cell_type": "markdown",
   "id": "b71190b4",
   "metadata": {},
   "source": [
    "\n",
    "> <font size=+1> `git` is a distributed __version control system__ (VCS) and de facto standard for code collaboration right now </font>\n",
    "\n",
    "It is a program one can use within command line, which we know a little bit about by now! So, if you are on Windows, use gitbash, and if you are on Mac or Linux, just go with the default terminal\n"
   ]
  },
  {
   "cell_type": "markdown",
   "id": "03ed7f65",
   "metadata": {},
   "source": [
    "## Version Control System"
   ]
  },
  {
   "cell_type": "markdown",
   "id": "c917f210",
   "metadata": {},
   "source": [
    "First of all, what is a Version Control System (VCS)? As the name suggest, it is a system that keeps record of the versions you save. \n",
    "\n",
    "> <font size=+1> __System__ which records changes to file(s) over time, so you can always access any previous code __version__ </font>\n",
    "\n",
    "<p align=center><img src=images/distributed_vcs.png width=400></p>\n",
    "\n",
    "> <font size=+1> Distributed means that each node (client) __mirrors full repository and it's history__ </font>\n"
   ]
  },
  {
   "cell_type": "markdown",
   "id": "398e1926",
   "metadata": {},
   "source": [
    "## git features\n"
   ]
  },
  {
   "cell_type": "markdown",
   "id": "e75c8cba",
   "metadata": {},
   "source": [
    "Other VCS systems (and less popular currently) __stored information about file changes__, see below:\n",
    "\n",
    "<p align=center><img src=images/delta_based_vcs.png width=500></p>\n",
    "\n",
    "This means that it the VCS only took into account a file if it had a change over. Otherwise, the new state doesn't take into account those files that haven't changed.\n",
    "\n",
    "On the other hand, `git` records \"snapshots\" of the whole code, known as commits. You can think of a commit as a picture of all the files at a certain point. With that picture, `git` can always go back to that state:\n",
    "\n",
    "<p align=center><img src=images/git_snapshots.png width=500></p>\n"
   ]
  },
  {
   "cell_type": "markdown",
   "id": "5c64cd30",
   "metadata": {},
   "source": [
    "## Repositories"
   ]
  },
  {
   "cell_type": "markdown",
   "id": "31a9ae26",
   "metadata": {},
   "source": [
    "When you tell `git` to start keeping track of the files in a folder (or directory), you move the commits to a `git` __repository__, in which `git` stores the snapshots of the files within the working directory."
   ]
  },
  {
   "cell_type": "markdown",
   "id": "c31817e9",
   "metadata": {},
   "source": [
    "As mentioned, `git` is a distributed VCS, but that doesn't mean that, whenever you work on your repository, you are going to change the state of the central server. When you work in a repository, your changes are local, and won't be reflected on the central server until you push those changes.\n",
    "\n",
    "One more thing about repositories and `git` is that it only adds data, meaning that, if you remove a file, this operation could be seen as: \"add file deletion\". So you will not lose data if you commit your changes frequently. You __ESPECIALLY__ will not lose it if you push your changes to some central server (yes, we are getting towards GitHub slowly)"
   ]
  },
  {
   "cell_type": "markdown",
   "id": "6d00ff22",
   "metadata": {},
   "source": [
    "## State of any file in `git`\n"
   ]
  },
  {
   "cell_type": "markdown",
   "id": "38546002",
   "metadata": {},
   "source": [
    "\n",
    "The files contained in a repository can be in one of the three stages:\n",
    "\n",
    "- <font size=+1> Modified </font>: You have changed the file but have not committed it to your database yet\n",
    "- <font size=+1> Staged </font>: You have marked a modified file in its current version to go into your next commit snapshot\n",
    "- <font size=+1> Committed </font>: The data is safely stored in your local database.\n",
    "\n",
    "So, here is an example of the flow that a file usually undergoes in a repository:\n",
    "\n",
    "1. The file is created or modified. `git` compares the changes of the current directory with the last snapshot, and notices that there are some changes.\n",
    "    -  Those file are now labelled as __modified__ because it changed with respect its last snapshot\n",
    "2. When you are happy with all the changes you make to the file, you can tell the file to \"pose\" for the snapshot. So you put it in the __stage__ state\n",
    "3. `git` takes the snapshot of the file and stores it in the repository. The file is now __committed__\n",
    "    - Next time you change any other file in the working directory, it will enter the modified state again\n",
    "\n",
    "The explanation above mentions snapshots of the files, but technically, these snapshots are called __commits__"
   ]
  },
  {
   "cell_type": "markdown",
   "id": "perceived-lease",
   "metadata": {},
   "source": [
    "## Branches\n"
   ]
  },
  {
   "cell_type": "markdown",
   "id": "31975226",
   "metadata": {},
   "source": [
    "\n",
    "One of the power features of `git` are __branches__:\n",
    "\n",
    "> Branches are __movable pointers to commits__; You can think of them as separate path in code development (which you can later `merge` with another branch)\n",
    "\n",
    "- By default, `git` creates a branch called `main` (it used to be called `master`) after `git init`. __You should always keep it as your main branch!__\n",
    "- `HEAD` (which we have seen it previously) is a pointer to where in the commit history we currently are\n",
    "\n",
    "<p align=center><img src=images/git_branch_pointers.png width=500></p>\n",
    "\n",
    "__Using branches one can__:\n",
    "- Work on new features separately from other features and developers (separation is good!)\n",
    "- Make the whole thing more structured and easy to follow\n",
    "- __Not pollute the `master` branch__ with untested/experimental/work in progress (WIP) code\n",
    "\n",
    "> Use branches __ALL THE TIME__\n"
   ]
  },
  {
   "cell_type": "markdown",
   "id": "c31ead9d",
   "metadata": {},
   "source": [
    "## Working with branches\n"
   ]
  },
  {
   "cell_type": "markdown",
   "id": "05733636",
   "metadata": {},
   "source": [
    "\n",
    "> `git branch NAME_OF_BRANCH` is a command responsible for handling branches\n",
    "\n",
    "Let's see what happens after we issue `git branch testing`:\n",
    "\n",
    "<p align=center><img src=images/git_branch_testing_created.png width=500></p>\n",
    "\n",
    "Few things to notice:\n",
    "- __We are still on `master` branch as indicated by `~HEAD`!__\n",
    "- New branch is merely a pointer to the branch\n",
    "\n",
    "In order to switch to this branch, we can issue `git checkout` command:"
   ]
  },
  {
   "cell_type": "markdown",
   "id": "af7f633f",
   "metadata": {},
   "source": [
    "```\n",
    "git checkout testing\n",
    "```"
   ]
  },
  {
   "cell_type": "markdown",
   "id": "29d9933d",
   "metadata": {},
   "source": [
    "\n",
    "> Tip: `git checkout -b NAME_OF_BRANCH` creates the new branch and checks it out in one command\n",
    "\n",
    "Now we are on `testing` branch (`HEAD` points towards it) we can do the usual operations like `git add`, `git commit` on it and come up with result like this:\n",
    "\n",
    "<p align=center><img src=images/git_branch_testing_commited.png width=500></p>\n",
    "\n",
    "\n",
    "We can move back to `master` by simply issuing `git checkout master`. Things to note:\n",
    "- __Your local changes will go back to how they were on `master`!__\n",
    "- __This doesn't mean your files are lost. They are just commited on another branch!__\n"
   ]
  },
  {
   "cell_type": "markdown",
   "id": "71eed7a2",
   "metadata": {},
   "source": [
    "Let's commit on this one also, which leaves us with the following (divergent) branch structure:\n",
    "\n",
    "<p align=center><img src=images/git_branch_divergent.png width=500></p>"
   ]
  },
  {
   "cell_type": "markdown",
   "id": "d17ffac3",
   "metadata": {},
   "source": [
    "### Tips\n",
    "\n",
    "- You can use `git checkout -b NAME_OF_THE_BRANCH` to create branch from the current one and change to it immediately\n",
    "- __Pull all changes from the remote repository before creating branch with new feature!__ (this will minimize the risk of merge conflicts)"
   ]
  },
  {
   "cell_type": "markdown",
   "id": "36e4e5ae",
   "metadata": {},
   "source": [
    "## Merging\n"
   ]
  },
  {
   "cell_type": "markdown",
   "id": "65b7df01",
   "metadata": {},
   "source": [
    "When you are finished working with a branch, you can apply those changes to the main branch by merging it. \n",
    "\n",
    "From the example above, let's say that you have finished working with the \"testing\" branch. You can implement the changes from \"testing\" into \"master\"\n",
    "\n",
    "<p align=center><img src=images/merge.png width=800></p>\n"
   ]
  },
  {
   "cell_type": "markdown",
   "id": "04836bfa",
   "metadata": {},
   "source": [
    "\n",
    "There are three ways to merge a branch into another:\n",
    "\n",
    "- Merge commit\n",
    "- Squash and merge\n",
    "- Rebase and merge\n",
    "\n",
    "Using the default merge commit will suffice for many purposes. If you want to take a deeper look into the difference between these merges, read the following StackOverflow [thread](https://stackoverflow.com/questions/2427238/what-is-the-difference-between-merge-squash-and-rebase) \n"
   ]
  },
  {
   "cell_type": "markdown",
   "id": "58648b24",
   "metadata": {},
   "source": [
    "## Try it out"
   ]
  },
  {
   "cell_type": "markdown",
   "id": "da6cb3f6",
   "metadata": {},
   "source": [
    "That was a lot to process! Let's get our hands dirty by creating a local repository, adding files to it, and finally committing those files. Then, we will work a little bit with branches so that you see how they work.\n",
    "\n",
    "Follow the next steps and observe the changes you see in your local machine.\n",
    "\n",
    "1. Create a new directory in your Desktop named \"AiCore_git\"\n",
    "    - Use your terminal to move to your Desktop using the `cd` command\n",
    "    - Create the directory using the `mkdir` command\n",
    "2. Change your working directory to \"AiCore_git\"\n",
    "    - Once again, use the `cd` command\n",
    "3. To create a repository, you need to run `git init`\n",
    "    - This will create a hidden directory that contains the information about the commits you make\n",
    "4. List the files you have in \"AiCore_git\"\n",
    "    - Use the `ls -a` command to show the ALL the files, including the hidden ones as well\n",
    "    - Notice that a directory named `.git` has been created\n",
    "5. Create two different files, \"test_1.txt\", and \"test_2.txt\" for example\n",
    "    - Use the `echo` or the `touch` command to do so\n",
    "6. Let's check the status of the directory\n",
    "    - Run `git status`\n",
    "    - Read the message, and try to understand what is the state of your files\n",
    "7. Move the files to the __staged__ state\n",
    "    - Use the `git add` command followed by the name of a file\n",
    "    - Alternatively, you can stage all the files using `git add .`\n",
    "8. Check again the status of the directory\n",
    "    - Rerun `git status`\n",
    "    - What differences do you see with respect to the previous status?\n",
    "9. Take a snapshot of your new files so `git` remembers them! In other words, make a commit\n",
    "    - Use the `git commit` to commit all those files in the stage state\n",
    "    - Don't forget to add a message to the commit. Add the `-m` flag to the command followed by the message you want to provide\n",
    "        - For example `git commit -m \"First commit\"`\n",
    "10. Once more, check the status of your directory and look at the differences"
   ]
  },
  {
   "cell_type": "markdown",
   "id": "9bfbd669",
   "metadata": {},
   "source": [
    "#### Using branches\n"
   ]
  },
  {
   "cell_type": "markdown",
   "id": "349a94a7",
   "metadata": {},
   "source": [
    "Now, let's play around with branches\n",
    "\n",
    "1. In \"AiCore_git\" create a new branch named \"testing\"\n",
    "    - Use `git checkout -b testing`\n",
    "    - Look at the syntax of the command: \n",
    "        - `git checkout` switch the current branch\n",
    "        - `-b` creates a new branch\n",
    "        - `testing` is the name of the branch we want to create\n",
    "    - So overall, we are creating a new branch called \"testing\" and moving into it\n",
    "2. Check the active branches in your directory\n",
    "    - Use `git branch` and see the output\n",
    "3. Create a new file named \"test_3.txt\"\n",
    "4. Stage and commit \"test_3.txt\"\n",
    "5. Switch to the main branch\n",
    "    - Use `git checkout` and the name of your main branch\n",
    "        - It is usually either `main` or `master`\n",
    "6. List all the files you have in the directory\n",
    "    - Wait, where is \"test_3.txt\"? Has it vanished?\n",
    "    - Don't worry, \"test_3.txt\" is in the \"testing\" branch, but the main branch doesn't see any of the changes made in other branches. That's why you can't see it now\n",
    "7. Merge \"testing\" into the main branch\n",
    "    - Use `git merge testing`\n",
    "8. Check again the files you have in this directory\n",
    "    - Great, we can see that \"test_3.txt\" is now in the main branch!"
   ]
  },
  {
   "cell_type": "markdown",
   "id": "f6993c2f",
   "metadata": {},
   "source": [
    "As you could see, using branches is a great idea to not compromise your main work"
   ]
  },
  {
   "cell_type": "markdown",
   "id": "advised-paradise",
   "metadata": {},
   "source": [
    "## Reverting changes\n"
   ]
  },
  {
   "cell_type": "markdown",
   "id": "a5277abe",
   "metadata": {},
   "source": [
    "\n",
    "> If you accidentally add too many files and commit out of rush, you can easily revert your changes\n",
    "\n",
    "For that, we can use `git reset` command!\n",
    "\n",
    "- `git reset HEAD~` (the HEAD is actually written, it's not a placeholder here) - reverts last `git commit` and unstages (reverts `git add`) the files (you have to change `git add` them again); __no changes to files will be done except that, so don't worry, it WILL NOT delete them!__\n",
    "- `git reset [FILE]` - reverts `git add`; if `FILE` specified, unstages it, without any arguments, unstages everything"
   ]
  },
  {
   "cell_type": "markdown",
   "id": "enormous-tuning",
   "metadata": {},
   "source": [
    "# GitHub\n"
   ]
  },
  {
   "cell_type": "markdown",
   "id": "5bea1424",
   "metadata": {},
   "source": [
    "In this section you will see a good central server where you can store your code: __GitHub__ \n",
    "\n",
    "__Please create a new account on GitHub on your own [here](www.github.com)__\n",
    "\n",
    "> <font size=+1>All projects you will create during duration of this course should be started here (by creating a project repository)!</font>"
   ]
  },
  {
   "cell_type": "markdown",
   "id": "6a0b956c",
   "metadata": {},
   "source": [
    "\n",
    "## Creating a repository (repo)\n"
   ]
  },
  {
   "cell_type": "markdown",
   "id": "62ff9429",
   "metadata": {},
   "source": [
    "- Click on the \"+\" sign on the right and selection \"Create New Repository\"\n",
    "\n",
    "![](images/github_top_bar.png)\n",
    "\n",
    "You will be taken to repository creation page with some options. \n",
    "\n",
    "- __Public vs Private__: determine whether everyone can see (fork and contribute to) this project or just you (you can add more collaborators to a private repo later)\n",
    "- __Initializing repository__:\n",
    "    - __Always add `.gitignore` at this step for specific language (see below)!__\n",
    "    - It is advised to add some form of license (MIT is often the license of choice, but you should check out possibilities, see assessments)\n",
    "    - You can also create `README.md`, but you might also add it later after cloning the project\n"
   ]
  },
  {
   "cell_type": "markdown",
   "id": "397444a6",
   "metadata": {},
   "source": [
    "## .gitignore\n"
   ]
  },
  {
   "cell_type": "markdown",
   "id": "5379f2a9",
   "metadata": {},
   "source": [
    "\n",
    "> `.gitignore` is a file which prevents adding language-related \"junk\" (files which are result of running and not necessary for the project) to git\n",
    "\n",
    "- During this course you should always use `python`'s `.gitignore`\n",
    "- Add specific files, or filepath expressions which can include regex, (like `data`) to this file, - one on each line\n"
   ]
  },
  {
   "cell_type": "markdown",
   "id": "87fc8921",
   "metadata": {},
   "source": [
    "\n",
    "## Cloning a repository\n"
   ]
  },
  {
   "cell_type": "markdown",
   "id": "e1c4deac",
   "metadata": {},
   "source": [
    "<p align=center><img src=images/github_repo_page.png width=600></p>\n",
    "\n",
    "You can clone your repository using `git clone` command. First, copy the link after clicking on the green button that says \"Code\". Make sure you are in the \"HTTPS\" tab\n",
    "\n",
    "```bash\n",
    "git clone <URL you just copied>\n",
    "```\n",
    "\n",
    "This will create a local version of the code in a folder with the same name as the repo.\n",
    "\n",
    "### GitHub tips\n",
    "\n",
    "- __2 GB size limit for repository!__\n",
    "- __Store your large files somewhere else (like AWS's S3)__\n",
    "- __Use `git lfs` (https://git-lfs.github.com/) for larger files which do not change often!__"
   ]
  },
  {
   "cell_type": "markdown",
   "id": "hydraulic-cemetery",
   "metadata": {},
   "source": [
    "## Pushing changes to remote\n"
   ]
  },
  {
   "cell_type": "markdown",
   "id": "e18346fb",
   "metadata": {},
   "source": [
    "\n",
    "After commit we can push our changes to remote repository (outer server __like GitHub!__).\n",
    "\n",
    "```bash\n",
    "git push -u origin BRANCH_YOU_ARE_ON\n",
    "```\n",
    "\n",
    "> Usually (always in our course) you will push to your GitHub repository!\n",
    "\n",
    "When you open your remote GitHub repository you will something like this:\n",
    "<p align=center><img src=images/push_to_github.png width=700></p>\n",
    "\n",
    "Now, after you click on green button, you will make a...\n"
   ]
  },
  {
   "cell_type": "markdown",
   "id": "4768eb25",
   "metadata": {},
   "source": [
    "\n",
    "## Pull Request\n",
    "\n",
    "> Pull request (PR) means we are asking repository/project owner (or anyone with appropriate status) to __merge__ changes located on our branch __upstream__ (to the main branch, almost always `master`)\n",
    "\n",
    "<p align=center><img src=images/pull_request_github.png width=700></p>\n",
    "\n",
    "At this point (don't worry, you can also do it after PR) you can (amongst other things):\n",
    "- assign someone to review your work (__do it all the time if you're cooperating on the project__)\n",
    "- assign someone to work with you\n",
    "- give appropriate label (everyone knows at a quick glance to which part of the project your change is related to)\n",
    "\n",
    "> __Most important is the green button for creating a PR__\n"
   ]
  },
  {
   "cell_type": "markdown",
   "id": "e372aa81",
   "metadata": {},
   "source": [
    "## GitHub Issues"
   ]
  },
  {
   "cell_type": "markdown",
   "id": "65b40dd7",
   "metadata": {},
   "source": [
    "GitHub Issues is a tool for keeping track of what are the steps to develop your repo. It is very helpful especially when you are working in teams and you need a list of tasks to do. \n",
    "\n",
    "Each issue can be tagged with a label to define whether the issue consists on fixing something, or on adding new features... You can even create your own tags!\n",
    "\n",
    "You can create issues clicking on the \"Issues\" tab in your repo"
   ]
  },
  {
   "cell_type": "markdown",
   "id": "9ecbd0e8",
   "metadata": {},
   "source": [
    "<p align=center><img src=images/issues_1.png width=600></p>"
   ]
  },
  {
   "cell_type": "markdown",
   "id": "b22e0d87",
   "metadata": {},
   "source": [
    "And then click on the \"New issue\" green button. In the next window you can add a title and a description to your issue. Additionally, you can label your issue with a tag and make someone in your team the responsible for fixing this issue. \n",
    "\n",
    "<p align=center><img src=images/issues_2.png width=600></p>"
   ]
  },
  {
   "cell_type": "markdown",
   "id": "4b823652",
   "metadata": {},
   "source": [
    "When you are happy with it, click on \"Submit new issue\". You will be redirected to the summary of the issue. Notice that my issue was Issue #7, it will come in handy shortly.\n",
    "\n",
    "Ok, so I think I covered GitHub issues now, so I can close this issue. I can do it by clicking on \"Close issue\"\n",
    "\n",
    "<p align=center><img src=images/issues_3.png width=600></p>"
   ]
  },
  {
   "cell_type": "markdown",
   "id": "72fa24a4",
   "metadata": {},
   "source": [
    "And that would do it.\n",
    "\n",
    "But a nice way to do it is by using a keyword followed by the number of the issue in a commit message. These keywords are:\n",
    "\n",
    "`close, closes, closed, fix, fixes, fixed, resolve, resolves, resolved`\n",
    "\n",
    "So, if I make a commit and add, for example, the following message:\n",
    "\n",
    "`\"Add issues content. This fix #7\"`\n",
    "\n",
    "It will close this issue automatically, pretty neat isn't it? Let's give that a try!\n"
   ]
  },
  {
   "cell_type": "markdown",
   "id": "f496a5e0",
   "metadata": {},
   "source": [
    "## Try it out"
   ]
  },
  {
   "cell_type": "markdown",
   "id": "7a4524c6",
   "metadata": {},
   "source": [
    "Follow these steps to see how easy is to set up a GitHub repo\n",
    "\n",
    "1. Create a new GitHub repo\n",
    "    - Name it \"Test\" for example\n",
    "    - Tick the \"Add README\" box\n",
    "2. Add an issue to your repo\n",
    "    - Don't worry too much about the name or the body\n",
    "    - Most likely, the issue is issue #1\n",
    "3. Clone the repo in your local machine\n",
    "    - Copy the URL of your repo as specified above\n",
    "    - In your terminal use the `git clone` command\n",
    "4. Change directory to the cloned repo\n",
    "5. Create a new branch named \"testing\" and switch to it\n",
    "    - Use the `git checkout -b` command\n",
    "6. Create a new file named \"test.txt\"\n",
    "7. Stage and commit the changes\n",
    "8. Push the changes to GitHub\n",
    "    - Use the `git push` command\n",
    "9. Go back to GitHub and check your branches\n",
    "10. Make a Pull Request (PR) to merge testing into main\n",
    "    - Go to the Pull Requests tab\n",
    "    - Click on New Pull Request\n",
    "    - Make sure you are merging testing into main like in the image:\n",
    "\n",
    "<p align=center><img src=images/PR.png width=600></p>\n",
    "\n",
    "11. If everything went well, the \"Merge Pull Request\" button is green and you can merge both branches with a message\n",
    "    - Use this message to close the issue you created earlier\n",
    "    - In my case, I opened issue #7, but change it according to your issue\n",
    "    - So the message should include one of the keywords mentioned earlier followed by the number of the issue\n",
    "    - It should look like this:\n",
    "\n",
    "<p align=center><img src=images/PR_3.png width=600></p>"
   ]
  },
  {
   "cell_type": "markdown",
   "id": "97492243",
   "metadata": {},
   "source": [
    "12. Once you \"Confirm Merge\" check your issues\n",
    "    - Go to the issues tab\n",
    "    - Your issue has gone!"
   ]
  },
  {
   "cell_type": "markdown",
   "id": "owned-dating",
   "metadata": {},
   "source": [
    "## Set up git locally\n",
    "\n",
    "In order to use most of the features from git, you will need to provide your credentials. To do so, you can use the `git config` command\n",
    "\n",
    "  - `git config --global user.name \"Your Name\"`\n",
    "  - `git config --global user.email \"your@email.com\"`\n",
    "\n",
    "Make sure to use the same email address you used when you created your github account\n",
    "\n"
   ]
  },
  {
   "cell_type": "markdown",
   "id": "trained-friendly",
   "metadata": {},
   "source": [
    "# Assessments\n"
   ]
  },
  {
   "cell_type": "markdown",
   "id": "22bc9706",
   "metadata": {},
   "source": [
    "\n",
    "> Most of the questions about `git` shown below have definitive answers in [Git Book](https://git-scm.com/book/en/v2)!\n",
    "\n",
    "- What are checksums?\n",
    "- How git uses checksums (see [here](https://git-scm.com/book/en/v2/Getting-Started-What-is-Git%3F))?\n",
    "- What is `tagging` on git(see [here](https://git-scm.com/book/en/v2/Git-Basics-Tagging))?\n",
    "- What do the following commands do (and what could be their usage):\n",
    "    - `git stash`\n",
    "    - `git blame`\n",
    "- What is project forking on GitHub?\n",
    "- Check out popular licenses (this page makes it easier: https://choosealicense.com/)\n",
    "\n",
    "> __Please set up the ones shown below, it will make your life easier__\n",
    "\n",
    "- GitHub with verified commits using PGP (see [here](https://docs.github.com/en/github/authenticating-to-github/about-commit-signature-verification))\n",
    "\n",
    "## Non-assessment\n",
    "\n",
    "- Check out [GitHub CLI](https://github.com/cli/cli) and improve above workflow according to your preferences\n",
    "- Check out [alias-tips](https://github.com/djui/alias-tips) (provided you have `zsh` shell!). We are humans after all, and this reminder will __drastically help you__ in actually using those aliases\n",
    "- Check out [this article](https://chris.beams.io/posts/git-commit/) about writing good commit messages"
   ]
  }
 ],
 "metadata": {
  "interpreter": {
   "hash": "3d597f4c481aa0f25dceb95d2a0067e73c0966dcbd003d741d821a7208527ecf"
  },
  "kernelspec": {
   "display_name": "Bash [conda env:.conda-AiCore] *",
   "language": "python",
   "name": "python3"
  },
  "language_info": {
   "codemirror_mode": {
    "name": "ipython",
    "version": 3
   },
   "file_extension": ".py",
   "mimetype": "text/x-python",
   "name": "python",
   "nbconvert_exporter": "python",
   "pygments_lexer": "ipython3",
   "version": "3.9.1"
  }
 },
 "nbformat": 4,
 "nbformat_minor": 5
}
