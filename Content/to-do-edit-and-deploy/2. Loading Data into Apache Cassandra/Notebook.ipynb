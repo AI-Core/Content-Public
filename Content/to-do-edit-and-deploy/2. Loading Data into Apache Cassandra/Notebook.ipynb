{
 "cells": [
  {
   "cell_type": "markdown",
   "metadata": {},
   "source": [
    "# Apache Cassandra - Data Loading\n",
    "\n",
    "In this notebook, we'll go through the steps required to load data using Cassandra and to query that data.\n",
    "\n",
    "## Loading Data into Cassandra and Querying it \n",
    "\n",
    "Now that we have the data store up and running, our next activity will be to create a new keyspace, column family (table) and to populate this table with some data.\n",
    "\n",
    "_Note: For a full list of commands and an explanation of what each of them does, check out the official [documentation here](https://docs.datastax.com/en/dse/5.1/cql/cql/cqlQuickReference.html)_\n"
   ]
  },
  {
   "cell_type": "markdown",
   "metadata": {},
   "source": [
    "#### 1. Run Cassandra then Open Shell\n",
    "\n",
    "First of all, we need to run the Cassandra tool itself. The tool runs as a background process, which we can connect to using the Cassandra shell called `cqlsh`. \n",
    "\n",
    "This shell will be used to write SQL-like commands to be able to interact with the data.\n",
    "\n",
    "_Note: We are running Cassandra in root (administrator) mode by using the -R flag. This is to have full access rights to create and delete keyspaces, tables etc._\n",
    "\n",
    "Let's go ahead and run the below commands:"
   ]
  },
  {
   "cell_type": "code",
   "execution_count": null,
   "metadata": {},
   "outputs": [],
   "source": [
    "# Run Cassandra process in the background using Root privilages\n",
    "sudo cassandra -R\n",
    "\n",
    "# Open the Cassandra shell\n",
    "sudo cqlsh"
   ]
  },
  {
   "cell_type": "markdown",
   "metadata": {},
   "source": [
    "If all goes well, you should see the below output:\n",
    "\n",
    "<p align=\"center\">\n",
    "  <img src=\"./images/cassandra-run3.png\" width=800>\n",
    "  <figcaption align=\"center\"><cite>Cassandra Shell</cite></figcaption>\n",
    "</p>"
   ]
  },
  {
   "cell_type": "markdown",
   "metadata": {},
   "source": [
    "#### 2. Create a New Keyspace\n",
    "\n",
    "Let's go ahead and create a new keyspace called `data`. We'll use the [`CREATE KEYSPACE`](https://docs.datastax.com/en/cql-oss/3.x/cql/cql_reference/cqlCreateKeyspace.html) command to do that. \n",
    "\n",
    "Run the below command from _inside the Cassandra shell_:\n",
    "\n",
    "_Remember:_\n",
    "- Cassandra keyspaces are analogous to databases\n",
    "- Column familys ara analogous to tables"
   ]
  },
  {
   "cell_type": "code",
   "execution_count": null,
   "metadata": {},
   "outputs": [],
   "source": [
    "## Think we should explain SimpleStrategy and replicaiton_factor here and durable writes. \n",
    "## Simple Strategy assigns the same replication factor to all nodes in the entire cluster.\n",
    "## Replaction factor can assign how many replications of the data we want. In this case needs to be 1 as we are only running locally.\n",
    "## durable_write determines whether to bypass the commit log when writing to the keyspace(recommended to set to true)\n",
    "\n",
    "CREATE KEYSPACE data WITH REPLICATION = {'class': 'SimpleStrategy', 'replication_factor': '1'} AND durable_writes = 'true';"
   ]
  },
  {
   "cell_type": "markdown",
   "metadata": {},
   "source": [
    "This is what you expect to see:\n",
    "\n",
    "<p align=\"center\">\n",
    "  <img src=\"./images/cassandra-keyspace-create.png\" width=1200>\n",
    "  <figcaption align=\"center\"><cite>Create Keyspace Command</cite></figcaption>\n",
    "</p>"
   ]
  },
  {
   "cell_type": "markdown",
   "metadata": {},
   "source": [
    "#### 2. Create a New Table\n",
    "\n",
    "Now that we have a keyspace available, we'll create a new table called `retail_data` inside that keyspace. This table will have the same columns as the CSV file that we'll download shortly. We'll use the `id` as the Primary Key.\n",
    "\n",
    "To do this, we need to first switch to the `data` keyspace by the [`USE`](https://docs.datastax.com/en/cql-oss/3.x/cql/cql_reference/cqlUse.html) command, then create the column family inside of it by using the [`CREATE TABLE`](https://docs.datastax.com/en/cql-oss/3.x/cql/cql_reference/cqlCreateTable.html#cqlCreateTable) command.\n",
    "\n",
    "Enter the below from within the Cassandra shell:"
   ]
  },
  {
   "cell_type": "code",
   "execution_count": null,
   "metadata": {},
   "outputs": [],
   "source": [
    "# Switch to the data keyspace\n",
    "USE data;\n",
    "\n",
    "# Create a new table in the data keyspace\n",
    "CREATE TABLE data.retail_data  ( id int PRIMARY KEY, description text, quantity int, price decimal, customer int, country text, );"
   ]
  },
  {
   "cell_type": "markdown",
   "metadata": {},
   "source": [
    "This is the expected outcome:\n",
    "<p align=\"center\">\n",
    "  <img src=\"./images/cassandra-create-table2.png\" width=1200>\n",
    "  <figcaption align=\"center\"><cite>Create Table Command</cite></figcaption>\n",
    "</p>"
   ]
  },
  {
   "cell_type": "markdown",
   "metadata": {},
   "source": [
    "You can use the [`DESCRIBE TABLE`](https://docs.datastax.com/en/cql-oss/3.x/cql/cql_reference/cqlshDescribe.html) command to ensure that the table is properly set up. Run the below command:"
   ]
  },
  {
   "cell_type": "code",
   "execution_count": null,
   "metadata": {},
   "outputs": [],
   "source": [
    "# Check the newly created table\n",
    "DESCRIBE TABLE retail_data;"
   ]
  },
  {
   "cell_type": "markdown",
   "metadata": {},
   "source": [
    "If all goes well, you should see the below output:\n",
    "\n",
    "<p align=\"center\">\n",
    "  <img src=\"./images/cassandra-describe-table2.png\" width=900>\n",
    "  <figcaption align=\"center\"><cite>DESCRIBE TABLE Output</cite></figcaption>\n",
    "</p>"
   ]
  },
  {
   "cell_type": "markdown",
   "metadata": {},
   "source": [
    "#### 3. Download the `retail.csv` File\n",
    "\n",
    "Our next step is to import the `retail.csv` file into the newly created `retail_data` table. \n",
    "\n",
    "You can download the file by clicking on [this link](https://aicore-files.s3.amazonaws.com/Data-Eng/retail.csv).\n",
    "\n",
    "Once the file is downloaded, copy (or move) it into the default Cassandra data folder `/var/lib/cassandra/data` by running the below command from the terminal:\n",
    "\n",
    "_Note: First change the directory to become the one you downloaded the `retail.csv` file into. You can also put the file in any other directory of your choice, but in that case you must specify your full path when importing the file_"
   ]
  },
  {
   "cell_type": "code",
   "execution_count": null,
   "metadata": {},
   "outputs": [],
   "source": [
    "# Copy retail.csv to the default Cassandra data folder\n",
    "sudo cp retail.csv /var/lib/cassandra/data/retail.csv"
   ]
  },
  {
   "cell_type": "markdown",
   "metadata": {},
   "source": [
    "#### 3. Import the CSV File into the `retail_data` Table\n",
    "\n",
    "Now that the file is in the data folder, we can go ahead and load it into the `retail_data` table. To do that, run the [`COPY`](https://docs.datastax.com/en/cql-oss/3.x/cql/cql_reference/cqlshCopy.html) command from within the Cassandra shell. We'll need to specify the columns, the file path and activate the header row:"
   ]
  },
  {
   "cell_type": "code",
   "execution_count": null,
   "metadata": {},
   "outputs": [],
   "source": [
    "# Import the data file into the retail_data table\n",
    "COPY data.retail_data (id, description, quantity, price, customer, country) FROM '/var/lib/cassandra/data/retail.csv' WITH HEADER = TRUE;"
   ]
  },
  {
   "cell_type": "markdown",
   "metadata": {},
   "source": [
    "_Note: Some of the records being parsed might show errors. Don't worry - this will not impact importing the correct rows_\n",
    "\n",
    "Once the data import completes successfully, you should see the below output:\n",
    "<p align=\"center\">\n",
    "  <img src=\"./images/cassandra-file-import.png\" width=800>\n",
    "  <figcaption align=\"center\"><cite>Data Import Prompt</cite></figcaption>\n",
    "</p>\n"
   ]
  },
  {
   "cell_type": "markdown",
   "metadata": {},
   "source": [
    "#### 4. Check Loaded Data\n",
    "\n",
    "Now that the import has completed successfully, let's check the available data by using the [`SELECT`](https://docs.datastax.com/en/cql-oss/3.x/cql/cql_reference/cqlSelect.html) command as follows:"
   ]
  },
  {
   "cell_type": "code",
   "execution_count": null,
   "metadata": {},
   "outputs": [],
   "source": [
    "SELECT * FROM retail_data;"
   ]
  },
  {
   "cell_type": "markdown",
   "metadata": {},
   "source": [
    "The expected output should look like:\n",
    "\n",
    "<p align=\"center\">\n",
    "  <img src=\"./images/cassandra-select.png\" width=600>\n",
    "  <figcaption align=\"center\"><cite>SELECT Command Output</cite></figcaption>\n",
    "</p>"
   ]
  },
  {
   "cell_type": "markdown",
   "metadata": {},
   "source": [
    "#### 5. Query the Data\n",
    "\n",
    "Now that the data is ready for querying, there are a number of operations we can perform that are very similar to those in SQL. These include:\n",
    "\n",
    "- `SELECT`\n",
    "    - Retrives data based on certain criteria\n",
    "    - We can also add filters using the `WHERE` command\n",
    "    - We can also do `GROUP BY` to aggregate the data\n",
    "    - We can also do `ORDER BY` to sort the data\n",
    "- `SUM`\n",
    "    - Does a summation operation on the data\n",
    "- `COUNT`\n",
    "    - Counts the occurances of data\n",
    "- `MAX`\n",
    "    - Finds the maximum value\n",
    "- `MIN`\n",
    "    - Finds the minimum value\n",
    "- `AVG`\n",
    "    - Calculates the average of a group of numbers\n",
    "\n",
    "_Note: Check out more details on the aggregation operations in [this documentation](https://www.geeksforgeeks.org/aggregate-functions-in-cassandra/)_\n",
    "\n",
    "Let's go ahead and try one aggregation operation. We can find the total price (`SUM`) of all products sold where `Country = United Kingdom` by running the below command:"
   ]
  },
  {
   "cell_type": "code",
   "execution_count": null,
   "metadata": {},
   "outputs": [],
   "source": [
    "SELECT SUM(price) FROM retail_data WHERE country = 'United Kingdom' ALLOW FILTERING;"
   ]
  },
  {
   "cell_type": "markdown",
   "metadata": {},
   "source": [
    "_Note: `ALLOW FILTERING` tells Cassandra to enable using aggregations and other filters on the data. If you run the query without specifying this, it will fail_.\n",
    "\n",
    "Assuming the query completes successfully, you should see output similar to:\n",
    "\n",
    "<p align=\"center\">\n",
    "  <img src=\"./images/cassandra-sum.png\" width=900>\n",
    "  <figcaption align=\"center\"><cite>Filtered SUM Query Output</cite></figcaption>\n",
    "</p>"
   ]
  },
  {
   "cell_type": "markdown",
   "metadata": {},
   "source": [
    "#### 6. More Data Querying Examples\n",
    "\n",
    "Let's run a few more queries on the data:\n",
    "\n",
    "- Find the product with the maximum price in the United Kingdom:"
   ]
  },
  {
   "cell_type": "code",
   "execution_count": null,
   "metadata": {},
   "outputs": [],
   "source": [
    "# Find the product with the maximum price in the United Kingdowm\n",
    "SELECT description, MAX(price) FROM retail_data WHERE country = 'United Kingdom' AND quantity = 1 ALLOW FILTERING;"
   ]
  },
  {
   "cell_type": "markdown",
   "metadata": {},
   "source": [
    "This is the expected output:\n",
    "\n",
    "<p align=\"center\">\n",
    "  <img src=\"./images/cassandra-max3.png\" width=900>\n",
    "  <figcaption align=\"center\"><cite>Filtered MAX Query Output</cite></figcaption>\n",
    "</p>"
   ]
  },
  {
   "cell_type": "markdown",
   "metadata": {},
   "source": [
    "- Find how many products were sold in France:"
   ]
  },
  {
   "cell_type": "code",
   "execution_count": null,
   "metadata": {},
   "outputs": [],
   "source": [
    "# How many products were sold in France\n",
    "SELECT COUNT(quantity) FROM retail_data WHERE country='France' ALLOW FILTERING;"
   ]
  },
  {
   "cell_type": "markdown",
   "metadata": {},
   "source": [
    "Expected output:\n",
    "<p align=\"center\">\n",
    "  <img src=\"./images/cassandra-france.png\" width=900>\n",
    "  <figcaption align=\"center\"><cite>Filtered COUNT Query Output</cite></figcaption>\n",
    "</p>\n"
   ]
  },
  {
   "cell_type": "markdown",
   "metadata": {},
   "source": [
    "#### 7. Drop Table\n",
    "\n",
    "If we want to delete a table, we can do so using the [`DROP TABLE`](https://docs.datastax.com/en/cql-oss/3.3/cql/cql_reference/cqlDropTable.html) command. \n",
    "\n",
    "Here is how to use it:"
   ]
  },
  {
   "cell_type": "code",
   "execution_count": null,
   "metadata": {},
   "outputs": [],
   "source": [
    "# Delete the retail_data table\n",
    "DROP TABLE retail_data;"
   ]
  },
  {
   "cell_type": "markdown",
   "metadata": {},
   "source": [
    "This is the expected output:\n",
    "<p align=\"center\">\n",
    "  <img src=\"./images/cassandra-drop-table.png\" width=600>\n",
    "  <figcaption align=\"center\"><cite>DROP TABLE Command</cite></figcaption>\n",
    "</p>"
   ]
  },
  {
   "cell_type": "markdown",
   "metadata": {},
   "source": [
    "> Because Cassandra does not allow operations like JOINs or complex subqueries, queries are typically simpler than what you might often encounter in SQL. Because of this, it's more important to just start using it rather than seeing more examples.\n",
    "\n",
    "Now you are ready to fully explore data using Cassandra! "
   ]
  },
  {
   "cell_type": "markdown",
   "metadata": {},
   "source": [
    "## Key Takeaways\n",
    "\n",
    "- To create a new Cassandra keyspace (which resembles a database in SQL), we can use the `CREATE KEYSPACE` command\\\n",
    "- To create a new table, we can use the `CREATE TABLE` command and specify the keyspace name under which the table will belong\n",
    "- `DESCRIBE TABLE` will display detailed information about any Cassandra managed table\n",
    "- To import data into a Cassandra managed table, use the `COPY` command and specify the columns\n",
    "- Similar to SQL, a `SELECT` statement can be used to query data in a Cassandra table \n",
    "- Cassandra provides aggregation commands such as `SUM`, `COUNT`, `MAX`, `MIN` and `AVG`\n",
    "- So far, Cassandra does not permit JOIN operations on tables\n"
   ]
  }
 ],
 "metadata": {
  "language_info": {
   "name": "python"
  },
  "orig_nbformat": 4
 },
 "nbformat": 4,
 "nbformat_minor": 2
}
