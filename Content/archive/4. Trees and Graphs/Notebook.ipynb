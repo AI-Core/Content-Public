{
 "cells": [
  {
   "cell_type": "markdown",
   "source": [
    "# Trees and Graphs"
   ],
   "metadata": {}
  },
  {
   "cell_type": "markdown",
   "source": [
    "In programming, a tree is a data structure that simulates a hierarchical structure. Trees are a very important data structure because they are used to represent the structure of a large amount of data. Similar to a Linked List, a tree is a collection of nodes that are linked, but in this case, they are not linearly connected. Trees have a lot of applications, and are a very important part of the data science community.\r\n",
    "\r\n",
    "![](images/Tree_structure.png)\r\n",
    "\r\n"
   ],
   "metadata": {}
  },
  {
   "cell_type": "markdown",
   "source": [
    "A tree is a data structure composed of:\r\n",
    "\r\n",
    "1. A root node (Technically, this isn't necessary in graph theory, but it's usually how trees are used in programming)\r\n",
    "2. The root node has zero or more child nodes\r\n",
    "3. Each child node has zero or more child nodes, and so on\r\n",
    "\r\n",
    "Before moving on, we should specify some nomenclature:\r\n",
    "\r\n",
    "![](images/tree_nomenclature.jpg)\r\n",
    "\r\n",
    "- Root: The root node is the first node in the tree.\r\n",
    "- Parent: Any node except the root node has one edge upward to a node called parent.\r\n",
    "- Child: A node is a child if it has a parent node.\r\n",
    "- Leaf: A node is a leaf if it has no children.\r\n",
    "- Sibling: Two nodes are sibling if it has the same parent node.\r\n",
    "- Level: It represents the generation of a node. If the root is at level 0, then the first child node is at level 1, the second child node is at level 2, and so on.\r\n"
   ],
   "metadata": {}
  },
  {
   "cell_type": "markdown",
   "source": [
    "## Traversing a Tree\r\n",
    "\r\n",
    "We have two main strategies to traverse a tree:\r\n",
    "1. BFS: breadth-first search. In BFS, we scan the tree level by level, starting from the root, and then moving to the left and right children.\r\n",
    "2. DFS: depth-first search. In DFS, we take depth as the main priority. \r\n",
    "\r\n",
    "Within DFS, we can find three ways to traverse a tree:\r\n",
    "1. In-order Traversal\r\n",
    "2. Pre-order Traversal\r\n",
    "3. Post-order Traversal\r\n",
    "\r\n",
    "![](images/BFS_DFS.png)"
   ],
   "metadata": {}
  },
  {
   "cell_type": "markdown",
   "source": [
    "\r\n",
    "### In-order Traversal\r\n",
    "\r\n",
    "In order traversal is the default traversal method. It traverses the tree in the order of left, root, right:\r\n",
    "\r\n",
    "![](images/inorder_traversal.jpg)\r\n",
    "\r\n",
    "We start at the root, and recursively traverse the left subtree. Then we visit the root, and recursively traverse the right subtree. In this case, the output will be: \r\n",
    "\r\n",
    "D -> B -> E -> A -> F -> C -> G"
   ],
   "metadata": {}
  },
  {
   "cell_type": "markdown",
   "source": [
    "### Pre-Order Traversal\n",
    "\n",
    "In pre-order traversal, we visit the root node first, then recursively visit the left subtree and finally the right subtree.\n",
    "\n",
    "![](images/preorder_traversal.jpg)\n",
    "\n",
    "The process goes on until all the nodes are visited. The output of this tree is:\n",
    "\n",
    "A -> B -> D -> E -> C -> F -> G"
   ],
   "metadata": {}
  },
  {
   "cell_type": "markdown",
   "source": [
    "### Post-Order Traversal   \n",
    "In post-order traversal, we visit the left subtree, then the right subtree, then the root.\n",
    "\n",
    "![](images/postorder_traversal.jpg)\n",
    "\n",
    "The process goes until all the nodes are visited. The output of this tree is:\n",
    "\n",
    "D -> E -> B -> F -> G -> C -> A\n",
    "\n",
    "Visit this link for getting more information about traversing binary trees: [Traversing binary trees simply and cheaply](https://www.sciencedirect.com/science/article/abs/pii/0020019079900681)"
   ],
   "metadata": {}
  },
  {
   "cell_type": "markdown",
   "source": [
    "## Binary Trees\r\n",
    "\r\n",
    "Binary trees are trees where each node has up to two children.\r\n",
    "\r\n",
    "![](images/general_tree_vs_binary.jpg)"
   ],
   "metadata": {}
  },
  {
   "cell_type": "markdown",
   "source": [
    "## Implementing a Binary Tree\r\n",
    "\r\n",
    "We already have seen Nodes and Linked Lists. Now we will implement a Binary Tree using the same principle we did for Linked Lists. In this case, we are implementing a very basic binary tree, using just a node class. Take into account that the nodes have two next attibutes: left and right."
   ],
   "metadata": {}
  },
  {
   "cell_type": "code",
   "execution_count": 6,
   "source": [
    "class Node:\r\n",
    "    def __init__(self, data: int, left, right):\r\n",
    "        # If both children are None, then this node is a leaf\r\n",
    "        self.left = None # The left child of this node\r\n",
    "        self.right = None # The right child of this node\r\n",
    "        self.data = data\r\n",
    "    \r\n",
    "    def __str__(self):\r\n",
    "        if self.left is None and self.right is None:\r\n",
    "            return 'None <-' + str(self.data) + '-> None'\r\n",
    "        elif self.left is None:\r\n",
    "            return 'None <-' + str(self.data) + '->' + str(self.right.data)\r\n",
    "        elif self.right is None:\r\n",
    "            return str(self.left) + '<-' + str(self.data) + '-> None'\r\n",
    "        return f'''        <---------{str(self.data)}---------> \\n {self.left}      {self.right} '''\r\n",
    "\r\n",
    "\r\n",
    "root = Node(1, None, None)\r\n",
    "root.left = Node(2, 1, 2)\r\n",
    "root.right = Node(3, 4, 5)\r\n",
    "print(root)\r\n",
    "\r\n",
    "    "
   ],
   "outputs": [
    {
     "output_type": "stream",
     "name": "stdout",
     "text": [
      "        <---------1---------> \n",
      " None <-2-> None      None <-3-> None \n"
     ]
    }
   ],
   "metadata": {}
  },
  {
   "cell_type": "markdown",
   "source": [
    "## Implementing Tree Traversal algorithms"
   ],
   "metadata": {}
  },
  {
   "cell_type": "markdown",
   "source": [
    "As we saw, there are two main ways to traverse a tree: BFS and DFS.\r\n",
    "\r\n",
    "In one of the assessments you will be asked to traverse a tree in a BFS manner. Here, we are going to see the DFS version.\r\n"
   ],
   "metadata": {}
  },
  {
   "cell_type": "markdown",
   "source": [
    "\r\n",
    "### Implementing In-Order Traversal and Pre-Order Traversal\r\n",
    "\r\n",
    "Now, I am going to run through two codes, one for in-order traversal and one for pre-order traversal. Then you will have to implement the post-order traversal code:"
   ],
   "metadata": {}
  },
  {
   "cell_type": "code",
   "execution_count": 5,
   "source": [
    "class Node:\r\n",
    "\r\n",
    "    def __init__(self, data):\r\n",
    "\r\n",
    "        self.left = None\r\n",
    "        self.right = None\r\n",
    "        self.data = data\r\n",
    "\r\n",
    "    def insert(self, data):\r\n",
    "        # If the tree contains data, we are going to traverse in an inorder fashion.\r\n",
    "        if self.data:\r\n",
    "            # If the data is less than the root, we are going to look in the left hand side subtree\r\n",
    "            if data < self.data:\r\n",
    "                # If the left subtree is empty, we are going to insert the data to the left\r\n",
    "                if self.left is None:\r\n",
    "                    self.left = Node(data)\r\n",
    "                # Otherwise, we are going to traverse in the left subtree recursively (notice we are calling the same function)\r\n",
    "                else:\r\n",
    "                    self.left.insert(data)\r\n",
    "            # If the data is greater than the root, we are going to look in the right hand side subtree\r\n",
    "            elif data > self.data:\r\n",
    "                # If the right subtree is empty, we are going to insert the data to the right\r\n",
    "                if self.right is None:\r\n",
    "                    self.right = Node(data)\r\n",
    "                # Otherwise, we are going to traverse in the right subtree recursively (notice we are calling the same function)\r\n",
    "                else:\r\n",
    "                    self.right.insert(data)\r\n",
    "        # If the tree is empty, we are going to insert the data to the root\r\n",
    "        else:\r\n",
    "            self.data = data\r\n",
    "\r\n",
    "# Print the Tree\r\n",
    "    def PrintTree(self):\r\n",
    "        if self.left:\r\n",
    "            self.left.PrintTree()\r\n",
    "        print(self.data),\r\n",
    "        if self.right:\r\n",
    "            self.right.PrintTree()\r\n",
    "\r\n",
    "    def inorderTraversal(self, root):\r\n",
    "        res = []\r\n",
    "        if root:            \r\n",
    "            res = self.inorderTraversal(root.left)\r\n",
    "            res.append(root.data)\r\n",
    "            res = res + self.inorderTraversal(root.right) \r\n",
    "            print(res)\r\n",
    "        return res\r\n",
    "\r\n",
    "root = Node(5)\r\n",
    "root.insert(2)\r\n",
    "root.insert(6)\r\n",
    "root.insert(4)\r\n",
    "root.insert(8)\r\n",
    "root.insert(42)\r\n",
    "root.insert(9)\r\n",
    "print(root.inorderTraversal(root))\r\n"
   ],
   "outputs": [
    {
     "output_type": "stream",
     "name": "stdout",
     "text": [
      "[4]\n",
      "[2, 4]\n",
      "[9]\n",
      "[9, 42]\n",
      "[8, 9, 42]\n",
      "[6, 8, 9, 42]\n",
      "[2, 4, 5, 6, 8, 9, 42]\n",
      "[2, 4, 5, 6, 8, 9, 42]\n",
      "2\n",
      "4\n",
      "5\n",
      "6\n",
      "8\n",
      "9\n",
      "42\n"
     ]
    }
   ],
   "metadata": {}
  },
  {
   "cell_type": "code",
   "execution_count": 23,
   "source": [
    "class Node:\r\n",
    "\r\n",
    "    def __init__(self, data):\r\n",
    "\r\n",
    "        self.left = None\r\n",
    "        self.right = None\r\n",
    "        self.data = data\r\n",
    "\r\n",
    "    def insert(self, data):\r\n",
    "        # If the tree contains data, we are going to traverse in an inorder fashion.\r\n",
    "        if self.data:\r\n",
    "            # If the data is less than the root, we are going to look in the left hand side subtree\r\n",
    "            if data < self.data:\r\n",
    "                # If the left subtree is empty, we are going to insert the data to the left\r\n",
    "                if self.left is None:\r\n",
    "                    self.left = Node(data)\r\n",
    "                # Otherwise, we are going to traverse in the left subtree recursively (notice we are calling the same function)\r\n",
    "                else:\r\n",
    "                    self.left.insert(data)\r\n",
    "            # If the data is greater than the root, we are going to look in the right hand side subtree\r\n",
    "            elif data > self.data:\r\n",
    "                # If the right subtree is empty, we are going to insert the data to the right\r\n",
    "                if self.right is None:\r\n",
    "                    self.right = Node(data)\r\n",
    "                # Otherwise, we are going to traverse in the right subtree recursively (notice we are calling the same function)\r\n",
    "                else:\r\n",
    "                    self.right.insert(data)\r\n",
    "        # If the tree is empty, we are going to insert the data to the root\r\n",
    "        else:\r\n",
    "            self.data = data\r\n",
    "\r\n",
    "# Print the Tree\r\n",
    "    def PrintTree(self):\r\n",
    "        if self.left:\r\n",
    "            self.left.PrintTree()\r\n",
    "        print( self.data),\r\n",
    "        if self.right:\r\n",
    "            self.right.PrintTree()\r\n",
    "\r\n",
    "    def inorderTraversal(self, root):\r\n",
    "        res = []\r\n",
    "        if root:\r\n",
    "            res = self.inorderTraversal(root.left)\r\n",
    "            res.append(root.data)\r\n",
    "            res = res + self.inorderTraversal(root.right)\r\n",
    "        return res\r\n",
    "\r\n",
    "    def PreorderTraversal(self, root):\r\n",
    "        res = []\r\n",
    "        if root:\r\n",
    "            res.append(root.data)\r\n",
    "            res = res + self.PreorderTraversal(root.left)\r\n",
    "            res = res + self.PreorderTraversal(root.right)\r\n",
    "        return res\r\n",
    "\r\n",
    "root = Node(5)\r\n",
    "root.insert(2)\r\n",
    "root.insert(6)\r\n",
    "root.insert(4)\r\n",
    "root.insert(8)\r\n",
    "root.insert(42)\r\n",
    "root.insert(9)\r\n",
    "print(root.inorderTraversal(root))\r\n",
    "print(root.PreorderTraversal(root))"
   ],
   "outputs": [
    {
     "output_type": "stream",
     "name": "stdout",
     "text": [
      "[2, 4, 5, 6, 8, 9, 42]\n",
      "[5, 2, 4, 6, 8, 42, 9]\n"
     ]
    }
   ],
   "metadata": {}
  },
  {
   "cell_type": "markdown",
   "source": [
    "## Challenge: Postorder Traversal\n",
    "\n",
    "Now, using the same code above, implement a postorder traversal method."
   ],
   "metadata": {}
  },
  {
   "cell_type": "code",
   "execution_count": 73,
   "source": [
    "class Node:\r\n",
    "\r\n",
    "    def __init__(self, data):\r\n",
    "\r\n",
    "        self.left = None\r\n",
    "        self.right = None\r\n",
    "        self.data = data\r\n",
    "\r\n",
    "    def insert(self, data):\r\n",
    "        # If the tree contains data, we are going to traverse in an inorder fashion.\r\n",
    "        if self.data:\r\n",
    "            # If the data is less than the root, we are going to look in the left hand side subtree\r\n",
    "            if data < self.data:\r\n",
    "                # If the left subtree is empty, we are going to insert the data to the left\r\n",
    "                if self.left is None:\r\n",
    "                    self.left = Node(data)\r\n",
    "                # Otherwise, we are going to traverse in the left subtree recursively (notice we are calling the same function)\r\n",
    "                else:\r\n",
    "                    self.left.insert(data)\r\n",
    "            # If the data is greater than the root, we are going to look in the right hand side subtree\r\n",
    "            elif data > self.data:\r\n",
    "                # If the right subtree is empty, we are going to insert the data to the right\r\n",
    "                if self.right is None:\r\n",
    "                    self.right = Node(data)\r\n",
    "                # Otherwise, we are going to traverse in the right subtree recursively (notice we are calling the same function)\r\n",
    "                else:\r\n",
    "                    self.right.insert(data)\r\n",
    "        # If the tree is empty, we are going to insert the data to the root\r\n",
    "        else:\r\n",
    "            self.data = data\r\n",
    "\r\n",
    "# Print the Tree\r\n",
    "    def PrintTree(self):\r\n",
    "        if self.left:\r\n",
    "            self.left.PrintTree()\r\n",
    "        print( self.data),\r\n",
    "        if self.right:\r\n",
    "            self.right.PrintTree()\r\n",
    "\r\n",
    "    def inorderTraversal(self, root):\r\n",
    "        res = []\r\n",
    "        if root:\r\n",
    "            res = self.inorderTraversal(root.left)\r\n",
    "            res.append(root.data)\r\n",
    "            res = res + self.inorderTraversal(root.right)\r\n",
    "        return res\r\n",
    "\r\n",
    "    def PreorderTraversal(self, root):\r\n",
    "        res = []\r\n",
    "        if root:\r\n",
    "            res.append(root.data)\r\n",
    "            res = res + self.PreorderTraversal(root.left)\r\n",
    "            res = res + self.PreorderTraversal(root.right)\r\n",
    "        return res\r\n",
    "    \r\n",
    "    def PostorderTraversal(self, root):\r\n",
    "        ### Your code here\r\n",
    "        pass\r\n",
    "\r\n",
    "root = Node(5)\r\n",
    "root.insert(2)\r\n",
    "root.insert(6)\r\n",
    "root.insert(4)\r\n",
    "root.insert(8)\r\n",
    "root.insert(42)\r\n",
    "root.insert(9)\r\n",
    "print(root.inorderTraversal(root))\r\n",
    "print(root.PreorderTraversal(root))\r\n",
    "print(root.PostorderTraversal(root))\r\n"
   ],
   "outputs": [
    {
     "output_type": "stream",
     "name": "stdout",
     "text": [
      "[2, 4, 5, 6, 8, 9, 42]\n",
      "[5, 2, 4, 6, 8, 42, 9]\n",
      "None\n"
     ]
    }
   ],
   "metadata": {}
  },
  {
   "cell_type": "markdown",
   "source": [
    "## Binary Search Trees"
   ],
   "metadata": {}
  },
  {
   "cell_type": "markdown",
   "source": [
    "One special type of binary search is binary search trees. A binary search tree is a binary tree in which every node fits a specific property: ```all left descendents have a values lower or equal than the node, and in turn, the node has a lower value than all right descendents```\r\n",
    "\r\n",
    "This inequality must be true for every node in the tree, not just its immediate children.\r\n",
    "\r\n",
    "![](images/bst-vs-not-bst.jpg)"
   ],
   "metadata": {}
  },
  {
   "cell_type": "markdown",
   "source": [
    "_Why the right hand side tree is not binary?_"
   ],
   "metadata": {}
  },
  {
   "cell_type": "markdown",
   "source": [
    "This data structure makes searching a specific value very fast. The first challenge in this notebook consists on implementing a binary search tree. Take a good look at the picture, remember the rules, and try to implement the algorithm.\n",
    "\n",
    "One of the most common use-cases is in storing indexes and keys in a database. For example, in PostgreSQL every primary key column is a binary tree where each node is a key and these nodes are pointing to the database rows."
   ],
   "metadata": {}
  },
  {
   "cell_type": "markdown",
   "source": [
    "## Graphs\n",
    "\n",
    "We have just seen trees, which are a special case of graphs. Not all graphs are trees. Essentially, a graph is a collection of nodes (or vertex) and edges. They are a powerful tool that allow us to represent relationships. For example, imagine a map. Each node represents a city, and each edge the path between both. \n",
    "\n",
    "![](images/usa_map.jpg)\n"
   ],
   "metadata": {}
  },
  {
   "cell_type": "markdown",
   "source": [
    "We can use graphs to calculate the shortest path between two cities. This is one of the main structures used by Google Maps for example"
   ],
   "metadata": {}
  },
  {
   "cell_type": "markdown",
   "source": [
    "\n",
    "\n",
    "### Graph characteristics\n",
    "\n",
    "- Graphs can be directed or undirected: directed means that there is a directed edge from one vertex to another. Undirected means that the edges are connected in both directions.\n",
    "- Graphs can have cycles (cyclic graph) or not (acyclic graph).\n",
    "- A graph can be weighted or unweighted. Each branch is given a numerical weight.\n",
    "\n",
    "\n",
    "![](images/DAG.png)"
   ],
   "metadata": {}
  },
  {
   "cell_type": "markdown",
   "source": [
    "One of the most commnon DAGs you will see are neural networks, where each node is a neuron.\n",
    "\n",
    "![](images/Neural_Network.png)"
   ],
   "metadata": {}
  },
  {
   "cell_type": "markdown",
   "source": [
    "## Representing a graph\n",
    "\n",
    "In programming, there are two common ways to represent a graph:\n",
    "1. Adjacency list\n",
    "2. Adjacency matrix"
   ],
   "metadata": {}
  },
  {
   "cell_type": "markdown",
   "source": [
    "### Adjacency List\n",
    "Every vertex stores a list of adjacent vertices. In an undirected graph, and edge would be stored twice.\n",
    "\n",
    "Let's see an example:\n",
    "\n",
    "![](images/graph_example.png)\n"
   ],
   "metadata": {}
  },
  {
   "cell_type": "code",
   "execution_count": 7,
   "source": [
    "class AdjNode:\r\n",
    "    def __init__(self, value):\r\n",
    "        self.vertex = value\r\n",
    "        self.next = None\r\n",
    "\r\n",
    "\r\n",
    "class Graph:\r\n",
    "    def __init__(self, num):\r\n",
    "        self.V = num\r\n",
    "        self.graph = [None] * self.V\r\n",
    "\r\n",
    "    # Add edges\r\n",
    "    def add_edge(self, s, d):\r\n",
    "        node = AdjNode(d)\r\n",
    "        node.next = self.graph[s]\r\n",
    "        self.graph[s] = node\r\n",
    "\r\n",
    "        node = AdjNode(s)\r\n",
    "        node.next = self.graph[d]\r\n",
    "        self.graph[d] = node\r\n",
    "\r\n",
    "    # Print the graph\r\n",
    "    def print_agraph(self):\r\n",
    "        for i in range(self.V):\r\n",
    "            print(\"Vertex \" + str(i) + \":\", end=\"\")\r\n",
    "            temp = self.graph[i]\r\n",
    "            while temp:\r\n",
    "                print(\" -> {}\".format(temp.vertex), end=\"\")\r\n",
    "                temp = temp.next\r\n",
    "            print(\" \\n\")\r\n",
    "\r\n",
    "V = 4\r\n",
    "\r\n",
    "# Create graph and edges\r\n",
    "graph = Graph(V)\r\n",
    "graph.add_edge(0, 1)\r\n",
    "graph.add_edge(0, 2)\r\n",
    "graph.add_edge(0, 3)\r\n",
    "graph.add_edge(1, 2)\r\n",
    "\r\n",
    "graph.print_agraph()"
   ],
   "outputs": [
    {
     "output_type": "stream",
     "name": "stdout",
     "text": [
      "None\n",
      "<__main__.AdjNode object at 0x00000182B70763A0>\n",
      "<__main__.AdjNode object at 0x00000182B70766A0>\n",
      "<__main__.AdjNode object at 0x00000182B706FD90>\n",
      "Vertex 0: -> 3 -> 2 -> 1 \n",
      "\n",
      "Vertex 1: -> 2 -> 0 \n",
      "\n",
      "Vertex 2: -> 1 -> 0 \n",
      "\n",
      "Vertex 3: -> 0 \n",
      "\n"
     ]
    }
   ],
   "metadata": {}
  },
  {
   "cell_type": "markdown",
   "source": [
    "### Adjacency Matrix\n",
    "\n",
    "An adjancency matrix is a 2D array of booleans where a true value at matrix[i][j] that represents an edge from node i to node j.\n",
    "\n",
    "For the example above, the adjacency matrix would look like:\n",
    "\n",
    "|   | 0 | 1  | 2  | 3  |\n",
    "|---|---|---|---|---|\n",
    "| 0 | 0 | 1  | 1  | 1  |\n",
    "| 1 | 1 | 0  | 1  | 0  |\n",
    "| 2 | 1 | 1  | 0  | 0  |\n",
    "| 3 | 1 | 0  | 0  | 0 |\n",
    "\n",
    "Observe that the matrix is symmetric, this is beacuse the graph is undirected. On the other hand, if the graph were directed, the matrix would not necessarily be symmetric.\n",
    "\n",
    "The purpose of representing a graph is not only visual, but also finding relationships between two nodes is much faster if we don't have to iterate through the whole structure. For example, in the adjancency matrix we will have a list like this:\n",
    "```\n",
    "adj_mat = [[0, 1, 1, 1],\n",
    "           [1, 0, 1, 0],\n",
    "           [1, 1, 0, 0],\n",
    "           [1, 0, 0, 0]]\n",
    "```\n",
    "And we can easily see the relationships of node 2 by looking at `adj_mat[1]`, or even deeper, we can see if node 2 and 3 are connected by looking at `adj_mat[1][2]`\n",
    "\n",
    "Both matrix and list are used for search algorithms. However, adjacency lists are more efficient since you can easily iterate through the neigbors of a node, whereas an adjacency matrix requires you to iterate through all the nodes in the graph."
   ],
   "metadata": {}
  },
  {
   "cell_type": "markdown",
   "source": [
    "## Graph Search\n",
    "\n",
    "The most common ways to search a graph are depth-first search and breadth-first search.\n",
    "\n",
    "In DFS. we start at an arbitrary node and visit all the nodes connected to it. That is, we go deep first before we go wide. DFS is often preferred if we want to visit every node. \n",
    "\n",
    "In BFS, we start at the root and explode each neighbour before going on to any of their children. If we want to find the shortest path between two nodes, we can use BFS.\n",
    "\n",
    "![](images/BFS-DFS.png)"
   ],
   "metadata": {}
  },
  {
   "cell_type": "markdown",
   "source": [
    "# Challenges"
   ],
   "metadata": {}
  },
  {
   "cell_type": "markdown",
   "source": [
    "## 1. Implement a Binary Search Tree.\n",
    "\n",
    "Take into account that the tree is a binary tree, and that the left child of a node is always smaller than the node itself, and the right child of a node is always bigger than the node itself. This rule is met not only for the immediate children, but also for the entire tree."
   ],
   "metadata": {}
  },
  {
   "cell_type": "code",
   "execution_count": null,
   "source": [],
   "outputs": [],
   "metadata": {}
  },
  {
   "cell_type": "markdown",
   "source": [
    "\n",
    "\n",
    "## 2. Number of nodes\n",
    "\n",
    "Given a tree, find the number of nodes, and max depth\n"
   ],
   "metadata": {}
  },
  {
   "cell_type": "code",
   "execution_count": null,
   "source": [],
   "outputs": [],
   "metadata": {}
  },
  {
   "cell_type": "markdown",
   "source": [
    "## 3. DFS and BFS Implementation for graphs\r\n",
    "\r\n",
    "Given the implementation of DFS, implement BFS algorithms for a graph. Use the following graph as an example:\r\n",
    "\r\n",
    "![](images/graphs_q3.png)"
   ],
   "metadata": {}
  },
  {
   "cell_type": "code",
   "execution_count": 84,
   "source": [
    "from collections import defaultdict\r\n",
    "\r\n",
    "class Graph:\r\n",
    " \r\n",
    "    def __init__(self):\r\n",
    "\r\n",
    "        self.graph = defaultdict(list)\r\n",
    " \r\n",
    "    def addEdge(self, u, v):\r\n",
    "        self.graph[u].append(v)\r\n",
    " \r\n",
    "    def DFSUtil(self, v, visited):\r\n",
    " \r\n",
    "        visited.add(v)\r\n",
    "        print(v, end=' ')\r\n",
    " \r\n",
    "        for neighbour in self.graph[v]:\r\n",
    "            if neighbour not in visited:\r\n",
    "                self.DFSUtil(neighbour, visited)\r\n",
    " \r\n",
    "    def DFS(self, v):\r\n",
    "        visited = set()\r\n",
    "        self.DFSUtil(v, visited)\r\n",
    "\r\n",
    "g = Graph()\r\n",
    "g.addEdge(0, 1)\r\n",
    "g.addEdge(0, 2)\r\n",
    "g.addEdge(1, 2)\r\n",
    "g.addEdge(2, 0)\r\n",
    "g.addEdge(2, 3)\r\n",
    "g.addEdge(3, 3)\r\n",
    " \r\n",
    "print(\"Following is DFS from (starting from vertex 2)\")\r\n",
    "g.DFS(2)"
   ],
   "outputs": [
    {
     "output_type": "stream",
     "name": "stdout",
     "text": [
      "Following is DFS from (starting from vertex 2)\n",
      "2 0 1 3 "
     ]
    }
   ],
   "metadata": {}
  },
  {
   "cell_type": "markdown",
   "source": [
    "\n",
    "## 4. Binary Search?\n",
    "\n",
    "Given a tree, implement a function that returns whether the tree is a binary search tree."
   ],
   "metadata": {}
  },
  {
   "cell_type": "markdown",
   "source": [
    "## 5. Mirrored Tree\n",
    "\n",
    "Create a function that, given a tree, returns true if it is a mirrored tree."
   ],
   "metadata": {}
  },
  {
   "cell_type": "markdown",
   "source": [
    "## 6. Path Sum\n",
    "\n",
    "Return true if and only if the given binary tree has a root-to-leaf path such that adding up all the values along the path equals the given sum."
   ],
   "metadata": {}
  },
  {
   "cell_type": "markdown",
   "source": [
    "# Assessments\n",
    "\n",
    "1. Look information for Heap. (max heap, min heap)\n",
    "2. Look information for n-ary trees. \n",
    "3. Look information for Tries (Prefix Tree)\n",
    "4. Implement In-order, Pre-order, Post-order traversals using iterative methods. (Hint: You might need to use a stack, so you can use the deque library.)\n",
    "5. Implement BFS traversal iteratively. (Hint: You might need to use a queue, so you can use the deque library.)\n",
    "6. Look information about topological sort\n",
    "7. Look information about Dijkstra's algorithm\n",
    "8. Look information about AVL trees\n",
    "9. Look information about Red-Black trees"
   ],
   "metadata": {}
  },
  {
   "cell_type": "markdown",
   "source": [],
   "metadata": {}
  }
 ],
 "metadata": {
  "interpreter": {
   "hash": "14fed20d815d8426698b9e4db4c2894958f6485d6746a1ea976e58ce3ec76c9f"
  },
  "kernelspec": {
   "name": "python3",
   "display_name": "Python 3.9.6 64-bit ('AiCoreTeach': conda)"
  },
  "language_info": {
   "name": "python",
   "version": "3.9.6",
   "mimetype": "text/x-python",
   "codemirror_mode": {
    "name": "ipython",
    "version": 3
   },
   "pygments_lexer": "ipython3",
   "nbconvert_exporter": "python",
   "file_extension": ".py"
  },
  "orig_nbformat": 4
 },
 "nbformat": 4,
 "nbformat_minor": 2
}