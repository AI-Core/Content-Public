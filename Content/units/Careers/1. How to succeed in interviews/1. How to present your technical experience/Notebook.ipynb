{
 "cells": [
  {
   "attachments": {},
   "cell_type": "markdown",
   "metadata": {},
   "source": [
    "## How to present your technical experience\n",
    "\n",
    "The main purpose of an interview is to evaluate your qualifications for the job. By presenting your technical experience, you can demonstrate that you have the skills and knowledge needed to succeed in the role.\n",
    "\n",
    "Here are a few tips on presenting your technical experience:\n",
    "\n",
    "1. Use specific examples. \n",
    "Provide specific examples of projects or tasks you have worked on that demonstrate your technical skills and experience. Don’t talk about your education. Focus purely on the relevant work you have done in the past. This can help the interviewer better understand your abilities and how they relate to the job.\n",
    "\n",
    "2. Explain your process.\n",
    "When describing your technical experience, explain the steps you take to complete a project or solve a problem. This can demonstrate your problem-solving skills and show that you have a structured approach to your work.\n",
    "\n",
    "3. Highlight your achievements.\n",
    "Share any accomplishments or successes you have had in your previous roles, such as completing a project ahead of schedule or implementing a new technology that improved efficiency. This can demonstrate your value to the company and your ability to deliver results.\n",
    "\n",
    "4. Be clear and concise.\n",
    "When describing your technical experience, be clear and concise in your language. Avoid using technical jargon or acronyms that the interviewer may not be familiar with, and focus on explaining your experience in a way that is easy to understand.\n",
    "\n",
    "5. Emphasize teamwork.\n",
    "In addition to demonstrating your technical skills, highlight your ability to work collaboratively with others. Talk about how you have worked with cross-functional teams, communicated technical information to non-technical stakeholders, and collaborated with others to solve complex problems.\n",
    "\n",
    "6. Closing.\n",
    "You must be able to effectively present your technical experience in an interview and make a positive impression on the interviewer. Be prepared to answer follow-up questions and provide additional examples if needed. Good luck!\n",
    "\n",
    ">Pro tip: Explain it like you are talking to a 5-year-old\n",
    "\n",
    "## Be a STAR\n",
    "\n",
    "The STAR method is a technique used to answer technical interview questions by providing specific examples that demonstrate your skills and accomplishments. \n",
    "\n",
    "STAR stands for Situation, Task, Action, and Result. Here's how it works:\n",
    "\n",
    "- Situation: Begin by describing the situation you faced, providing enough detail for the interviewer to understand the context.\n",
    "- Task: Next, describe the task or goal you were trying to accomplish in that situation.\n",
    "- Action: Then, describe the specific actions you took to achieve the task or goal, focusing on your own role in the situation.\n",
    "- Result: Finally, describe the outcome of your actions and the impact it had on the situation or organisation.\n",
    "\n",
    "### Example\n",
    "Example of using the STAR method in an interview:\n",
    "\n",
    "Q: Can you describe a time when you had to solve a complex technical problem?\n",
    "\n",
    "A: Situation: Previous job, faced a technical issue with a software development project.\n",
    "\n",
    "Task: Find a solution to keep project on track and meet deadlines.\n",
    "\n",
    "Action: Conducted research, consulted colleagues and experts, and developed a plan involving a new tool.\n",
    "\n",
    "Result: Successful implementation of tool improved development process, recognised for problem-solving skills.\n",
    "\n",
    "Using STAR method helps structure answers clearly, useful for behavioural interviews. An easy way to showcase skills and achievements."
   ]
  }
 ],
 "metadata": {
  "language_info": {
   "name": "python"
  }
 },
 "nbformat": 4,
 "nbformat_minor": 2
}
