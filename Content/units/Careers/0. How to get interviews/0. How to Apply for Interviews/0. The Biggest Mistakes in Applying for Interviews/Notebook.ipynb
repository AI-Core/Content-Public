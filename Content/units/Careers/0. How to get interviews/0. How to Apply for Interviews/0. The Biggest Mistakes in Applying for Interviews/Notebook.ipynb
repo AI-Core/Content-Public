{
 "cells": [
  {
   "attachments": {},
   "cell_type": "markdown",
   "metadata": {},
   "source": [
    "# The Biggest Mistakes in Applying for Interviews\n",
    "\n",
    "## Lesson Objective\n",
    "In this lesson, we’ll talk about the biggest mistakes people make when applying for jobs. We’ll save how to address each of them until a later lesson where we can go into more detail, but here we’ll make sure you’re aware of them.\n",
    "\n",
    "## Motivation\n",
    "Applying for jobs can be a daunting process, and even the most qualified candidates can struggle to land interviews. However, by avoiding common mistakes, you can significantly increase your chances of standing out to employers and getting the job you want. In this lesson, we'll discuss the top four mistakes people make when applying for jobs, and provide you with practical tips and strategies to avoid them. By the end of this lesson, you'll be equipped with the knowledge you need to optimise your job search and improve your chances of landing your dream job.\n",
    "\n",
    "So, what are some of the common mistakes?\n",
    "\n",
    "### Not tailoring your resume and cover letter to the job: \n",
    "Many job seekers make the mistake of using a generic resume and cover letter for every job application, rather than customising them to the specific job they are applying for. This can make it seem like you are not a good fit for the job and reduce your chances of getting an interview.\n",
    "\n",
    "### Applying for jobs you are not qualified for\n",
    "Some job seekers apply for jobs that they are not qualified for, either because they are overqualified or underqualified. This can waste both your time and the employer's time, and it can damage your reputation as a serious job candidate.\n",
    "\n",
    "### Failing to follow instructions\n",
    "Employers often include specific instructions for applying for a job, such as submitting a certain type of file or answering a specific question. If you don't follow these instructions, it can make you seem careless and reduce your chances of getting an interview.\n",
    "\n",
    "### Not researching the company and role\n",
    "It's important to research the company and role you are applying for, so you can tailor your application to the company's needs and values. Failing to do so can make you seem uninterested or unprepared for the job.\n",
    "\n",
    "## Online Profile Mistakes\n",
    "\n",
    "### Do NOT put “Open to work” on your LinkedIn\n",
    "Subconsciously, employers believe that great candidates are not searching for jobs, the best opportunities are already searching for them. Having “Open to work” on your LinkedIn profile looks desperate. From my experience in hiring, it’s an immediate turnoff.\n",
    "\n",
    "### Unprofessional display pictures on social profiles\n",
    "\n",
    "WAIT! This doesn’t just mean to make sure that your display picture is not wildly inappropriate - obviously, it shouldn’t be you at a party doing a keg stand. Display pictures can look unprofessional in other ways too. \n",
    "\n",
    "Including:\n",
    "- Low quality pictures\n",
    "- Obvious selfies\n",
    "- Bad lighting\n",
    "- Wearing a hat or hood\n",
    "- Poor background\n",
    "\n",
    "Here are some examples of good profile pictures:\n",
    "\n",
    "![Profilepicture](images/profilepic1.jpg)\n",
    "\n",
    "![Profilepicture](images/profilepic2.jpg)\n",
    "\n",
    "![Profilepicture](images/profilepic3.png)\n",
    "\n",
    "Here are two approaches to find a good display picture quickly:\n",
    "- Use an AI avatar from Lensa\n",
    "- Ask someone to take a picture of you against a white background, then apply a background\n",
    "\n",
    "You can use the AiCore background or something neutral like the following examples:\n",
    "\n",
    "![Backgroundpicture](images/bg1.jpg)\n",
    "\n",
    "![Backgroundpicture](images/bg2.jpg)\n",
    "\n",
    "![Backgroundpicture](images/bg3.jpg)\n",
    "\n",
    "## Key Takeaways\n",
    "By learning how to avoid these mistakes and implementing the strategies we discussed, you will be well on your way to securing the job you want. Remember to tailor your resume and cover letter to the job, only apply for jobs you are qualified for, follow instructions carefully, and research the company and role you are applying for. By doing so, you'll stand out to employers and increase your chances of getting an interview.\n"
   ]
  }
 ],
 "metadata": {
  "kernelspec": {
   "display_name": "base",
   "language": "python",
   "name": "python3"
  },
  "language_info": {
   "name": "python",
   "version": "3.10.9"
  },
  "vscode": {
   "interpreter": {
    "hash": "a2592652612463181e69ac003232387e3e9a99279aa6b168e76f5df16d5110f4"
   }
  }
 },
 "nbformat": 4,
 "nbformat_minor": 2
}
