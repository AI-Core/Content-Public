{
 "cells": [
  {
   "attachments": {},
   "cell_type": "markdown",
   "metadata": {},
   "source": [
    "### Your GitHub profile is another main marketing tool that helps demonstrate your skills to employers. This is where you actually showcase your code and the projects you've worked on.\n",
    "\n",
    "Here are some tips to creating an industry-grade GitHub profile:\n",
    "\n",
    "- Add a profile picture\n",
    "    - A professional profile picture helps give the industry-grade impression we want to give employers\n",
    "    - You can use the same photo as your LinkedIn profile\n",
    "\n",
    "- Write an eye-catching biography\n",
    "    - Introduce yourself and mention your skills and passions\n",
    "    - This can be added in a README.md file on the main page of your profile\n",
    "\n",
    "- Include all languages and tools used\n",
    "    - Mention all the tools and languages you are familiar with\n",
    "    - You can use some icons to give your profile a fancy feel\n",
    "\n",
    "- Add each project in a separate repository\n",
    "    - Each project should have its separate repository page\n",
    "    - Include all the folders and files related to that project on the project page\n",
    "\n",
    "- Include README files to describe each project\n",
    "    - Each project should have its own README.md file to describe what the project was about and how you did it\n",
    "    - Make sure to include any details on how to run the files, anything that users need to install etc.\n",
    "\n",
    "- Add comments to your code\n",
    "    - This is a general best practice for coding\n",
    "    - All your code should have documentation explaining what each file does, and what each class, function and method do\n",
    "\n",
    "[Here is a sample GitHub profile  to refer to](https://github.com/bartosz25)\n",
    "\n",
    "### Conclusion\n",
    "In this guide, we provided some tips to help you create a professional GitHub profile that resembles those of industry experts. Your GitHub profile is one of the main tools you will use to market yourself to recruiters and employers."
   ]
  }
 ],
 "metadata": {
  "language_info": {
   "name": "python"
  }
 },
 "nbformat": 4,
 "nbformat_minor": 2
}
