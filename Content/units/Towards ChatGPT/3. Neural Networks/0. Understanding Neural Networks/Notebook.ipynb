{
 "cells": [
  {
   "attachments": {},
   "cell_type": "markdown",
   "metadata": {},
   "source": [
    "# Understanding Neural Networks\n",
    "\n",
    "Remember that machine learning models are mathematical functions that perform some input-output transformation.\n",
    "The goal of machine learning models is to learn the function they should represent.\n",
    "\n",
    "More complex problems have more complex input-output relationships, and that means they need to be represented by more complicated models.\n",
    "Models with the ability to represent more complicated functions are said to have a higher _capacity_.\n",
    "\n",
    "> Neural networks are a type of model that can learn to represent very complicated input-output relationships\n",
    "\n",
    "If you know how a logistic regression model is built and trained, then you already understand everything you need to know how neural networks work.\n",
    "\n",
    "Logistic regression works by:\n",
    "- Applying a linear transformation followed by a non-linear activation function (the softmax)\n",
    "- Using the chain rule of differentiation to determine how changes to model parameters change the output, that is, to determine the gradient\n",
    "\n",
    "> The idea behind neural networks is that by applying sequential transformations, we can represent a more complicated function. \n",
    "\n",
    "![](./images/Linear%20Regression%20vs%20NN%20Graphical%20Model.png)\n",
    "\n",
    "We call these intermediate layers of transformation, between the input and the output, _hidden layers_.\n",
    "\n",
    "The typical diagram of a neural network shows the individual nodes in each hidden layer.\n",
    "\n",
    "> In a neural network, each sequential layer combines features to build more complex \n",
    "\n",
    "![](./images/Linear%20Regression%20vs%20NN.png)\n",
    "\n",
    "And these neural networks have parameters between layers similar to those found in linear models:\n",
    "\n",
    "![](./images/NN%20Showing%20Weights.png)\n",
    "\n",
    "We will get onto how each value in each layer is calculated shortly.\n",
    "\n",
    "The width and depth of a neural network, make up the part of the _neural network architecture_. Neural networks can have any number of hidden layers, with any width, and any number of inputs and outputs.\n",
    "\n",
    "![](./images/NN%20with%20Many%20Layers.png)\n",
    "\n",
    "That means that you can train neural networks to represent functions with any different kind of sized inputs and outputs.\n",
    "\n",
    "![](./images/Different%20Vanilla%20NN%20Architectures.png)\n",
    "\n",
    "There are a few more details to go into (particularly the activation function used below), but firstly, take a look at how easily building a neural network can be accomplished in PyTorch:"
   ]
  },
  {
   "cell_type": "code",
   "execution_count": null,
   "metadata": {},
   "outputs": [],
   "source": [
    "import torch\n",
    "\n",
    "class NeuralNetwork(torch.nn.Module):\n",
    "    def __init__(self, num_inputs, num_outputs):\n",
    "        super().__init__()\n",
    "        self.activation_function = torch.nn.functional.relu\n",
    "        self.hidden_layer_1 = torch.nn.Linear(num_inputs, 256)\n",
    "        self.hidden_layer_2 = torch.nn.Linear(256, 128)\n",
    "        self.hidden_layer_3 = torch.nn.Linear(128, 128)\n",
    "        # you could have many more hidden layers here\n",
    "        self.output_layer = torch.nn.Linear(128, num_outputs)\n",
    "\n",
    "    def forward(self, X):\n",
    "        hidden_layer_1_activations = self.activation_function(self.hidden_layer_1(X))\n",
    "        hidden_layer_2_activations = self.activation_function(self.hidden_layer_1(hidden_layer_1_activations))\n",
    "        hidden_layer_3_activations = self.activation_function(self.hidden_layer_2(hidden_layer_2_activations))\n",
    "        output = self.output_layer(hidden_layer_3_activations)\n",
    "        return output"
   ]
  },
  {
   "attachments": {},
   "cell_type": "markdown",
   "metadata": {},
   "source": [
    "Even better, would be to use `torch.nn.Sequential` to avoid having to come up with clear names for each layer. \n",
    "It takes in a number of different torch modules (transformations) and returns a callable object.\n",
    "When called, each of these transformations is applied sequentially to the input."
   ]
  },
  {
   "cell_type": "code",
   "execution_count": null,
   "metadata": {},
   "outputs": [],
   "source": [
    "import torch\n",
    "\n",
    "class NeuralNetwork(torch.nn.Module):\n",
    "    def __init__(self, num_inputs, num_outputs):\n",
    "        super().__init__()\n",
    "        self.layers = torch.nn.Sequential(\n",
    "            torch.nn.Linear(num_inputs, 256),\n",
    "            torch.nn.ReLU(), # relu activation function\n",
    "            torch.nn.Linear(256, 128),\n",
    "            torch.nn.ReLU(), # relu activation function\n",
    "            torch.nn.Linear(128, 128),\n",
    "            torch.nn.ReLU(), # relu activation function\n",
    "            # you could have many more hidden layers here\n",
    "            torch.nn.Linear(128, num_outputs)\n",
    "        )\n",
    "\n",
    "    def forward(self, X):\n",
    "        return self.layers(X)"
   ]
  },
  {
   "attachments": {},
   "cell_type": "markdown",
   "metadata": {},
   "source": [
    "Note that this model would have been tough to write out the calculations for the gradient of the output with respect to the model parameters, but PyTorch takes care of all of this for us in the background."
   ]
  },
  {
   "attachments": {},
   "cell_type": "markdown",
   "metadata": {},
   "source": [
    "## What are those activation functions?\n",
    "\n",
    "> An _activation function_ is any non-linear function applied to the linear output of a hidden layer\n",
    "\n",
    "Here are some of the most common activation functions:\n",
    "\n",
    "![](./images/Common%20Activation%20Functions.png)\n",
    "\n",
    "> It is important that the activation function is differentiable, like every module in our neural networks, because the model will be trained using gradient descent\n",
    "\n",
    "With the activation functions, the full forward pass (for a single hidden layer neural network) computes the following:\n",
    "\n",
    "![](./images/NN%20Full%20Forward%20Pass%20Equation.png)\n",
    "\n",
    "### Why do we need activation functions?\n",
    "\n",
    "> If you leave out the activation function, the forward pass of a neural network is equivalent to a single linear transformation. You added all those parameters, and didn't increase the capacity of the model!\n",
    "\n",
    "Below is a simple proof. \n",
    "\n",
    "_Note that biases are removed for simplification (a weighted sum plus bias can be rewritten as a single matrix multiplication, so the example below still holds)_\n",
    "\n",
    "![](./images/Why%20you%20Need%20Activation%20Functions.png)\n",
    "\n",
    "In general, stick with ReLU as your activation function.\n",
    "\n",
    "> There are so many activation functions that work comparably well, that research on new activation functions has become uninteresting"
   ]
  },
  {
   "attachments": {},
   "cell_type": "markdown",
   "metadata": {},
   "source": [
    "## Neural networks build hierarchical representations of the data\n",
    "\n",
    "> It's easier to learn input-output transformations step by step (layer by layer), rather than all at once.\n",
    "\n",
    "For example:\n",
    "- it's easy to learn a function that detects a line at a certain angle\n",
    "- it is much harder to learn the function which detects what the make and model of a car in an image, directly from the raw pixels, all at once\n",
    "\n",
    "Neural networks learn simple functions layer by layer. Their output is then the input to the next layer. The inputs to each successive layer are more meaningful and high level, and they can be combined to represent even more complex features.\n",
    "\n",
    "![](./images/nnfeaturevis.png)\n",
    "\n",
    "- The first hidden layer computes features that are combinations of the inputs\n",
    "    - e.g. combine raw pixel values to create edges\n",
    "- The next hidden layer computes more complex features, that are combinations of the previous layer\n",
    "    - e.g. combine edges to create shapes\n",
    "- Sequential layers continue to compute more complex features, that are combinations of the previous layer\n",
    "    - e.g. combine shapes to represent objects\n",
    "- And so on\n",
    "    - e.g. deeper layers are building combining objects to build abstract, meaningful representations\n",
    "- The output layer can easily combine the meaningful representations to make predictions\n",
    "    - The high level features extracted by the deeper layers are the kind of things that can eventually be used to make direct predictions from.\n",
    "        - e.g. if you know that an image contains a wheel, you can be confident in a prediction of the image containing a car\n",
    "        - but you can't tell this just by looking at the value of the pixels\n",
    "\n",
    "> Neural networks turn low-level (raw, simple) features into high-level (complex, abstract, meaningful) features that predictions can be made from before using them to make a prediction\n",
    "\n",
    "Simple models try to make predictions directly from a combination of the raw inputs, in a single transformation. \n",
    "Neural networks, on the other hand, apply sequential intermediate transformations, where each layer builds up on the output of the layer before.\n",
    "\n",
    "> Neural networks are different to many other types of models because they build hierarchical representations of data\n",
    "\n",
    "## What do the values of the activations represent?\n",
    "\n",
    "The function that a neural network represents, is based on the parameters in each layer, which are initialised randomly. That means, to start with, the neural network is a random function. We'll train it shortly using gradient descent.\n",
    "\n",
    "> The values of activations in layers represent the presence of features in the input, and deeper layers represent more complex features\n",
    "\n",
    "## Neural networks learn their own representations for the data\n",
    "\n",
    "Whereas simple models are forced to make a prediction based on the way that data is provided to them, neural networks learn how to represent the data through the hidden layers, so that the final layer receives useful inputs.\n",
    "\n",
    "> Neural networks learn to extract useful features from the input, by learning for themselves what it would be useful for each activation to represent "
   ]
  },
  {
   "attachments": {},
   "cell_type": "markdown",
   "metadata": {},
   "source": [
    "## Notice that neural networks can have lots of parameters\n",
    "\n",
    "- Vector outputs of hidden layers = weight matrices instead of just weight vectors\n",
    "- Wider hidden layers = larger weight matrices\n",
    "- More hidden layers = more weight matrices\n",
    "\n",
    "These additional parameters are part of what gives neural networks a much greater representational capacity than simple (e.g. linear) models."
   ]
  },
  {
   "cell_type": "code",
   "execution_count": null,
   "metadata": {},
   "outputs": [],
   "source": [
    "def count_parameters(model):\n",
    "    n_params = 0\n",
    "    for param in model.parameters():\n",
    "        n_params += param.numel()\n",
    "    print(\"# model parameters:\", n_params)\n",
    "\n",
    "model = NeuralNetwork(3, 1)\n",
    "count_parameters(model)"
   ]
  },
  {
   "attachments": {},
   "cell_type": "markdown",
   "metadata": {},
   "source": [
    "## Neural Network Architectures\n",
    "\n",
    "These neural networks that simply process vectors through linear layers with activation functions are often referred to as:\n",
    "- \"Vanilla\" neural networks\n",
    "- Feedforward neural networks\n",
    "- Multi-layer perceptrons (MLP)\n",
    "\n",
    "There are many more advanced neural network architectures that specialise in different ways. Common ones you may have heard of include:\n",
    "- Convolutional Neural Networks\n",
    "- Recurrent Neural Networks\n",
    "- Transformers"
   ]
  },
  {
   "attachments": {},
   "cell_type": "markdown",
   "metadata": {},
   "source": [
    "## Training neural networks\n",
    "\n",
    "Neural networks can be trained from end-to-end using gradient descent and the chain rule of differentiation.\n",
    "\n",
    "A key thing to notice is that for many of the gradient calculations, some terms reappear for different parameters.\n",
    "\n",
    "![](./images/Backpropagation.png)\n",
    "\n",
    "> Backpropagation specifically refers to the algorithm that caches these terms that repeat, so that they don't have to be repeatedly computed.\n",
    "\n",
    "PyTorch handles this all efficiently under the hood when you call `.backward()` on any variable computed from the model's output (probably the loss) to populate the parameter gradients.\n",
    "\n",
    "Now, you understand everything required to train a neural network in PyTorch.\n",
    "\n",
    "\n"
   ]
  },
  {
   "attachments": {},
   "cell_type": "markdown",
   "metadata": {},
   "source": [
    "This cell just creates a dummy dataset."
   ]
  },
  {
   "cell_type": "code",
   "execution_count": null,
   "metadata": {},
   "outputs": [],
   "source": [
    "def create_dummy_dataset(num_examples, num_features):\n",
    "    X = torch.randn((num_examples, num_features))\n",
    "    y = torch.randn((num_examples, 1)) # 1 label each\n",
    "    return X, y\n",
    "\n",
    "def create_dummy_dataloader(X, y, batch_size=4):\n",
    "    def create_batches(data):\n",
    "        return [\n",
    "            data[idx*batch_size: (idx+1) * batch_size] if (idx + 1) * batch_size < len(data)\n",
    "            else data[idx*batch_size:]\n",
    "            for idx in range(len(data) // batch_size)\n",
    "        ]\n",
    "    batched_X = create_batches(X)\n",
    "    batched_y = create_batches(y)\n",
    "    return list(zip(batched_X, batched_y))\n",
    "    \n",
    "X, y = create_dummy_dataset(10, 4)\n",
    "dataloader = create_dummy_dataloader(X, y)"
   ]
  },
  {
   "attachments": {},
   "cell_type": "markdown",
   "metadata": {},
   "source": [
    "Before we train the model, note that the dataset is random and hence the loss does not decay as it would with a real dataset.\n",
    "\n",
    "Overall, the training loop is the same as for a simple linear model:"
   ]
  },
  {
   "cell_type": "code",
   "execution_count": null,
   "metadata": {},
   "outputs": [],
   "source": [
    "def train(model, dataloader, epochs=10):\n",
    "    optimiser = torch.optim.SGD(model.parameters(), lr=0.01)\n",
    "    for epoch in range(epochs):\n",
    "        for batch in dataloader:\n",
    "            features, labels = batch\n",
    "            prediction = model(features)\n",
    "            \n",
    "            loss = torch.nn.functional.mse_loss(prediction, labels)\n",
    "            loss.backward()\n",
    "            print(\"Loss:\", loss.item())\n",
    "\n",
    "            optimiser.step()\n",
    "            optimiser.zero_grad()\n",
    "            \n",
    "\n",
    "X, y = create_dummy_dataset(100, 4) # 100 examples, 4 features each\n",
    "dataloader = create_dummy_dataloader(X, y)\n",
    "model = NeuralNetwork(4, 1)\n",
    "train(model, dataloader)"
   ]
  }
 ],
 "metadata": {
  "kernelspec": {
   "display_name": "base",
   "language": "python",
   "name": "python3"
  },
  "language_info": {
   "codemirror_mode": {
    "name": "ipython",
    "version": 3
   },
   "file_extension": ".py",
   "mimetype": "text/x-python",
   "name": "python",
   "nbconvert_exporter": "python",
   "pygments_lexer": "ipython3",
   "version": "3.9.5 (default, May 18 2021, 12:31:01) \n[Clang 10.0.0 ]"
  },
  "orig_nbformat": 4,
  "vscode": {
   "interpreter": {
    "hash": "ffef1fb3247e42ae9cf3614f3519d4998b3b95643236a5d32641564963f5a3b8"
   }
  }
 },
 "nbformat": 4,
 "nbformat_minor": 2
}
