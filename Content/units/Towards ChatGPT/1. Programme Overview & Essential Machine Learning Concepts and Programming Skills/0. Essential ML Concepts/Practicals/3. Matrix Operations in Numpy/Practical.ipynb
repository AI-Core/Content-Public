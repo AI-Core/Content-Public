{
 "cells": [
  {
   "attachments": {},
   "cell_type": "markdown",
   "metadata": {},
   "source": [
    "# Matrix Operations in Numpy"
   ]
  },
  {
   "attachments": {},
   "cell_type": "markdown",
   "metadata": {},
   "source": [
    "### Transposition\n",
    "\n",
    "In the codeblock below there are two matrices. Print the shape of each matrix."
   ]
  },
  {
   "cell_type": "code",
   "execution_count": 6,
   "metadata": {},
   "outputs": [],
   "source": [
    "import numpy as np\n",
    "matrix_1= np.random.randint(0, high=3, size=[9, 3])\n",
    "matrix_2=np.random.randint(0, high=3, size=[9, 5])\n"
   ]
  },
  {
   "attachments": {},
   "cell_type": "markdown",
   "metadata": {},
   "source": [
    " Now use numpy to transpose the variable called `matrix_1` in the codeblock below, and then calculate the dot product of the transposed `matrix_1` and  the variable called `matrix_2`, assigning it to a variable called `matrix_3`."
   ]
  },
  {
   "cell_type": "code",
   "execution_count": null,
   "metadata": {},
   "outputs": [],
   "source": []
  },
  {
   "attachments": {},
   "cell_type": "markdown",
   "metadata": {},
   "source": [
    "Now slice out the 3rd and 5th columns of matrix 3, and calculate their inner product."
   ]
  },
  {
   "cell_type": "code",
   "execution_count": null,
   "metadata": {},
   "outputs": [],
   "source": []
  },
  {
   "attachments": {},
   "cell_type": "markdown",
   "metadata": {},
   "source": [
    "### Cosine Distance\n",
    "Cosine distance is a measure of similarity between two non-zero vectors of an inner product space that measures the cosine of the angle between them. It ranges from 0 to 1, where 0 indicates that the vectors are exactly similar and 1 indicates that they are completely dissimilar. In other words, the cosine distance measures the extent to which two vectors are orthogonal or parallel to each other. It is defined as the dot product of the two vectors divided by the product of their norms. \n",
    "\n",
    "In the codeblock below, write a function that takes two vecotrs as inputs and returns the cosine distance between them."
   ]
  },
  {
   "cell_type": "code",
   "execution_count": 2,
   "metadata": {},
   "outputs": [
    {
     "name": "stdout",
     "output_type": "stream",
     "text": [
      "Cosine distance between the two vectors is:  0.025368153802923787\n"
     ]
    }
   ],
   "source": [
    "import numpy as np\n",
    "\n",
    "vector1 = np.array([1, 2, 3])\n",
    "vector2 = np.array([4, 5, 6])\n",
    "\n",
    "def cosine_distance(v1, v2):\n",
    "   pass\n",
    "\n",
    "\n",
    "\n",
    "distance = cosine_distance(vector1, vector2)\n",
    "print(\"Cosine distance between the two vectors is: \", distance)"
   ]
  },
  {
   "attachments": {},
   "cell_type": "markdown",
   "metadata": {},
   "source": [
    "### Linear relationships\n",
    "\n",
    "In the codeblock below, write a function that takes in three parameters called `x_data` (a vector), `gradient` (a scalar) and `bias` (another scalar), and outputs a vector called `y_data`, which is the same length as `x_data` and represents the output of a linear function with the gradient and bias provided as arguments.\n",
    "\n"
   ]
  },
  {
   "cell_type": "markdown",
   "metadata": {},
   "source": []
  },
  {
   "cell_type": "code",
   "execution_count": null,
   "metadata": {},
   "outputs": [],
   "source": [
    "def linear_equation(x_data, gradient, bias):\n",
    "    pass"
   ]
  },
  {
   "attachments": {},
   "cell_type": "markdown",
   "metadata": {},
   "source": [
    "Now in the code block below, create variables called `gradient` and `bias`, and use the `np.arrange`  function to create a numpy array called `x_data` consisting of the integers from 0 to 20.  Pass all three variables to `linear_equation` as arguments, and plot the x and y data on a scatter graph using the `matplotlib` library."
   ]
  },
  {
   "cell_type": "code",
   "execution_count": 4,
   "metadata": {},
   "outputs": [
    {
     "data": {
      "text/plain": [
       "array([ 0,  1,  2,  3,  4,  5,  6,  7,  8,  9, 10, 11, 12, 13, 14, 15, 16,\n",
       "       17, 18, 19, 20])"
      ]
     },
     "execution_count": 4,
     "metadata": {},
     "output_type": "execute_result"
    }
   ],
   "source": [
    "x_data= np.arange(21)\n",
    "x_data"
   ]
  }
 ],
 "metadata": {
  "kernelspec": {
   "display_name": "fb_market2",
   "language": "python",
   "name": "python3"
  },
  "language_info": {
   "codemirror_mode": {
    "name": "ipython",
    "version": 3
   },
   "file_extension": ".py",
   "mimetype": "text/x-python",
   "name": "python",
   "nbconvert_exporter": "python",
   "pygments_lexer": "ipython3",
   "version": "3.10.8"
  },
  "orig_nbformat": 4,
  "vscode": {
   "interpreter": {
    "hash": "ad8784dd7e57d9c4ec188b624531261016d7b47e893d929c12b1a31bac092458"
   }
  }
 },
 "nbformat": 4,
 "nbformat_minor": 2
}
