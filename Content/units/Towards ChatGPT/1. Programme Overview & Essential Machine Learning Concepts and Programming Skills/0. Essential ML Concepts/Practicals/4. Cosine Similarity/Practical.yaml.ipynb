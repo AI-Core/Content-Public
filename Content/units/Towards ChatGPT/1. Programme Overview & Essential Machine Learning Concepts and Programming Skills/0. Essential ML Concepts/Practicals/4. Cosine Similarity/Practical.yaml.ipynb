{
 "cells": [
  {
   "attachments": {},
   "cell_type": "markdown",
   "metadata": {},
   "source": [
    "# Cosine Similarity and Similarity Search\n",
    "\n",
    "\n",
    "In this practical, you will use cosine similarity to match a query to a database of possible results using some dummy data. In the context of text search, each document or query can be represented as a vector of numerical values, where the values correspond to the weights of the words in the document or query. The cosine similarity between two vectors is a measure of the cosine of the angle between the vectors, and ranges between -1 and 1, with 1 indicating that the vectors are identical, and -1 indicating that they are completely orthogonal."
   ]
  },
  {
   "cell_type": "code",
   "execution_count": null,
   "metadata": {},
   "outputs": [],
   "source": [
    "# Run this cell to load the data\n",
    "\n",
    "import numpy as np\n",
    "\n",
    "query_vector=np.load('query_vector.npy')\n",
    "data_matrix= np.load('data_matrix.npy')\n"
   ]
  },
  {
   "attachments": {},
   "cell_type": "markdown",
   "metadata": {},
   "source": [
    "Print the shape of the query vector and the data matrix in the code block below."
   ]
  },
  {
   "cell_type": "code",
   "execution_count": null,
   "metadata": {},
   "outputs": [],
   "source": []
  },
  {
   "attachments": {},
   "cell_type": "markdown",
   "metadata": {},
   "source": [
    "Write a function to calculate the cosine similarity between the query vector and each column of the data matrix, and return the column number of the most smilar column."
   ]
  },
  {
   "cell_type": "code",
   "execution_count": null,
   "metadata": {},
   "outputs": [],
   "source": [
    "def get_most_similar_column(query,data):\n",
    "    # Write your code here\n",
    "    print(\"The most similar column to the query vector is:\", most_similar_column)\n"
   ]
  }
 ],
 "metadata": {
  "kernelspec": {
   "display_name": "huggingface1",
   "language": "python",
   "name": "python3"
  },
  "language_info": {
   "codemirror_mode": {
    "name": "ipython",
    "version": 3
   },
   "file_extension": ".py",
   "mimetype": "text/x-python",
   "name": "python",
   "nbconvert_exporter": "python",
   "pygments_lexer": "ipython3",
   "version": "3.10.8"
  },
  "orig_nbformat": 4,
  "vscode": {
   "interpreter": {
    "hash": "e36d4b688d7e3685ae8ad6703c0e99019531dd9f05b6e8f8c82292a1f759bcdc"
   }
  }
 },
 "nbformat": 4,
 "nbformat_minor": 2
}
