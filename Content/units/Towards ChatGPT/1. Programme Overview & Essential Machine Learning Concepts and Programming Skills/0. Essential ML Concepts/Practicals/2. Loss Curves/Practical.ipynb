{
 "cells": [
  {
   "attachments": {},
   "cell_type": "markdown",
   "metadata": {},
   "source": [
    "# Loss Functions \n",
    "\n",
    "In this practical, you will compare some simulated real and predicted values using a loss function. The true_values variable represents the targets that a machine learning algorithm, in this case a regression model, is attempting to predict, and the `predicted_values` variable represents the output of the model. \n",
    "\n",
    "Run the code block below to import the values, and add some code to the code block to check the number of predictions, and the datatype."
   ]
  },
  {
   "cell_type": "code",
   "execution_count": 5,
   "metadata": {},
   "outputs": [
    {
     "data": {
      "text/plain": [
       "numpy.ndarray"
      ]
     },
     "execution_count": 5,
     "metadata": {},
     "output_type": "execute_result"
    }
   ],
   "source": [
    "import numpy as np\n",
    "\n",
    "true_values = np.load('true_values.npy')\n",
    "predicted_values = np.load('predicted_values.npy')\n",
    "\n",
    "\n"
   ]
  },
  {
   "attachments": {},
   "cell_type": "markdown",
   "metadata": {},
   "source": [
    "Write a function in the code block below to calculate the mean squared error between the values and the predictions, and store it in a variable called loss. "
   ]
  },
  {
   "cell_type": "code",
   "execution_count": null,
   "metadata": {},
   "outputs": [],
   "source": [
    "def batch_mean_squared_error(true_values, predicted_values):\n",
    "    pass"
   ]
  },
  {
   "attachments": {},
   "cell_type": "markdown",
   "metadata": {},
   "source": [
    "Now use the `Matplotlib` library to plot the loss as a scatter plot. The step (ie. the sample number) should be on the X axis, and the loss on the Y axis. Is the model converging?"
   ]
  },
  {
   "cell_type": "code",
   "execution_count": null,
   "metadata": {},
   "outputs": [],
   "source": [
    "import matplotlib\n",
    "\n",
    "# Write your code here."
   ]
  }
 ],
 "metadata": {
  "kernelspec": {
   "display_name": "huggingface1",
   "language": "python",
   "name": "python3"
  },
  "language_info": {
   "codemirror_mode": {
    "name": "ipython",
    "version": 3
   },
   "file_extension": ".py",
   "mimetype": "text/x-python",
   "name": "python",
   "nbconvert_exporter": "python",
   "pygments_lexer": "ipython3",
   "version": "3.10.8 (main, Nov  4 2022, 08:45:25) [Clang 12.0.0 ]"
  },
  "orig_nbformat": 4,
  "vscode": {
   "interpreter": {
    "hash": "e36d4b688d7e3685ae8ad6703c0e99019531dd9f05b6e8f8c82292a1f759bcdc"
   }
  }
 },
 "nbformat": 4,
 "nbformat_minor": 2
}
