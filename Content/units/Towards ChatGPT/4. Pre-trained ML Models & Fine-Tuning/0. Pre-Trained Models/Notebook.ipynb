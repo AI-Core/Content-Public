{
 "cells": [
  {
   "attachments": {},
   "cell_type": "markdown",
   "metadata": {},
   "source": [
    "## Pre-trained Models\n",
    "\n",
    "Incredibly, many people from across the world have shared the results of their hard work building and training machine learning models, so that you can take their working models straight off the shelf.\n",
    "\n",
    "> You can download many model architectures and pre-trained weights from online\n",
    "\n",
    "One of the largest collections of machine learning models can be found on [HuggingFace](https://huggingface.co/models).\n",
    "\n",
    "Let's download HuggingFace and some related libraries before we start playing with some of those models."
   ]
  },
  {
   "cell_type": "code",
   "execution_count": 1,
   "metadata": {},
   "outputs": [
    {
     "name": "stdout",
     "output_type": "stream",
     "text": [
      "Requirement already satisfied: transformers in /Users/ice/opt/miniconda3/lib/python3.9/site-packages (4.25.1)\n",
      "Requirement already satisfied: regex!=2019.12.17 in /Users/ice/opt/miniconda3/lib/python3.9/site-packages (from transformers) (2022.7.9)\n",
      "Requirement already satisfied: filelock in /Users/ice/opt/miniconda3/lib/python3.9/site-packages (from transformers) (3.8.2)\n",
      "Requirement already satisfied: requests in /Users/ice/opt/miniconda3/lib/python3.9/site-packages (from transformers) (2.25.1)\n",
      "Requirement already satisfied: tokenizers!=0.11.3,<0.14,>=0.11.1 in /Users/ice/opt/miniconda3/lib/python3.9/site-packages (from transformers) (0.11.4)\n",
      "Requirement already satisfied: huggingface-hub<1.0,>=0.10.0 in /Users/ice/opt/miniconda3/lib/python3.9/site-packages (from transformers) (0.11.1)\n",
      "Requirement already satisfied: numpy>=1.17 in /Users/ice/opt/miniconda3/lib/python3.9/site-packages (from transformers) (1.21.2)\n",
      "Requirement already satisfied: packaging>=20.0 in /Users/ice/opt/miniconda3/lib/python3.9/site-packages (from transformers) (21.3)\n",
      "Requirement already satisfied: pyyaml>=5.1 in /Users/ice/opt/miniconda3/lib/python3.9/site-packages (from transformers) (6.0)\n",
      "Requirement already satisfied: tqdm>=4.27 in /Users/ice/opt/miniconda3/lib/python3.9/site-packages (from transformers) (4.64.1)\n",
      "Requirement already satisfied: typing-extensions>=3.7.4.3 in /Users/ice/opt/miniconda3/lib/python3.9/site-packages (from huggingface-hub<1.0,>=0.10.0->transformers) (4.3.0)\n",
      "Requirement already satisfied: pyparsing!=3.0.5,>=2.0.2 in /Users/ice/opt/miniconda3/lib/python3.9/site-packages (from packaging>=20.0->transformers) (3.0.4)\n",
      "Requirement already satisfied: certifi>=2017.4.17 in /Users/ice/opt/miniconda3/lib/python3.9/site-packages (from requests->transformers) (2022.12.7)\n",
      "Requirement already satisfied: urllib3<1.27,>=1.21.1 in /Users/ice/opt/miniconda3/lib/python3.9/site-packages (from requests->transformers) (1.26.6)\n",
      "Requirement already satisfied: idna<3,>=2.5 in /Users/ice/opt/miniconda3/lib/python3.9/site-packages (from requests->transformers) (2.10)\n",
      "Requirement already satisfied: chardet<5,>=3.0.2 in /Users/ice/opt/miniconda3/lib/python3.9/site-packages (from requests->transformers) (4.0.0)\n",
      "Requirement already satisfied: timm in /Users/ice/opt/miniconda3/lib/python3.9/site-packages (0.6.12)\n",
      "Requirement already satisfied: torch>=1.7 in /Users/ice/opt/miniconda3/lib/python3.9/site-packages (from timm) (1.12.1)\n",
      "Requirement already satisfied: huggingface-hub in /Users/ice/opt/miniconda3/lib/python3.9/site-packages (from timm) (0.11.1)\n",
      "Requirement already satisfied: pyyaml in /Users/ice/opt/miniconda3/lib/python3.9/site-packages (from timm) (6.0)\n",
      "Requirement already satisfied: torchvision in /Users/ice/opt/miniconda3/lib/python3.9/site-packages (from timm) (0.13.1)\n",
      "Requirement already satisfied: typing_extensions in /Users/ice/opt/miniconda3/lib/python3.9/site-packages (from torch>=1.7->timm) (4.3.0)\n",
      "Requirement already satisfied: packaging>=20.9 in /Users/ice/opt/miniconda3/lib/python3.9/site-packages (from huggingface-hub->timm) (21.3)\n",
      "Requirement already satisfied: filelock in /Users/ice/opt/miniconda3/lib/python3.9/site-packages (from huggingface-hub->timm) (3.8.2)\n",
      "Requirement already satisfied: requests in /Users/ice/opt/miniconda3/lib/python3.9/site-packages (from huggingface-hub->timm) (2.25.1)\n",
      "Requirement already satisfied: tqdm in /Users/ice/opt/miniconda3/lib/python3.9/site-packages (from huggingface-hub->timm) (4.64.1)\n",
      "Requirement already satisfied: pyparsing!=3.0.5,>=2.0.2 in /Users/ice/opt/miniconda3/lib/python3.9/site-packages (from packaging>=20.9->huggingface-hub->timm) (3.0.4)\n",
      "Requirement already satisfied: idna<3,>=2.5 in /Users/ice/opt/miniconda3/lib/python3.9/site-packages (from requests->huggingface-hub->timm) (2.10)\n",
      "Requirement already satisfied: chardet<5,>=3.0.2 in /Users/ice/opt/miniconda3/lib/python3.9/site-packages (from requests->huggingface-hub->timm) (4.0.0)\n",
      "Requirement already satisfied: urllib3<1.27,>=1.21.1 in /Users/ice/opt/miniconda3/lib/python3.9/site-packages (from requests->huggingface-hub->timm) (1.26.6)\n",
      "Requirement already satisfied: certifi>=2017.4.17 in /Users/ice/opt/miniconda3/lib/python3.9/site-packages (from requests->huggingface-hub->timm) (2022.12.7)\n",
      "Requirement already satisfied: numpy in /Users/ice/opt/miniconda3/lib/python3.9/site-packages (from torchvision->timm) (1.21.2)\n",
      "Requirement already satisfied: pillow!=8.3.*,>=5.3.0 in /Users/ice/opt/miniconda3/lib/python3.9/site-packages (from torchvision->timm) (9.2.0)\n",
      "Requirement already satisfied: pillow in /Users/ice/opt/miniconda3/lib/python3.9/site-packages (9.2.0)\n",
      "Requirement already satisfied: requests in /Users/ice/opt/miniconda3/lib/python3.9/site-packages (2.25.1)\n",
      "Requirement already satisfied: chardet<5,>=3.0.2 in /Users/ice/opt/miniconda3/lib/python3.9/site-packages (from requests) (4.0.0)\n",
      "Requirement already satisfied: certifi>=2017.4.17 in /Users/ice/opt/miniconda3/lib/python3.9/site-packages (from requests) (2022.12.7)\n",
      "Requirement already satisfied: urllib3<1.27,>=1.21.1 in /Users/ice/opt/miniconda3/lib/python3.9/site-packages (from requests) (1.26.6)\n",
      "Requirement already satisfied: idna<3,>=2.5 in /Users/ice/opt/miniconda3/lib/python3.9/site-packages (from requests) (2.10)\n"
     ]
    }
   ],
   "source": [
    "!pip install transformers\n",
    "!pip install timm\n",
    "!pip install pillow\n",
    "!pip install requests"
   ]
  },
  {
   "attachments": {},
   "cell_type": "markdown",
   "metadata": {},
   "source": [
    "Many of the examples come with implementation code that you can copy directly (always assuming that you understand what it does beforehand, of course).\n",
    "\n",
    "[Here](https://huggingface.co/SenseTime/deformable-detr) in the documentation, you can find example code that gets the Deformable DETR object detection model from HuggingFace and uses it to make a prediction.\n",
    "\n",
    "Copying that below allows us to run the model in our own environment:"
   ]
  },
  {
   "cell_type": "code",
   "execution_count": 2,
   "metadata": {},
   "outputs": [
    {
     "name": "stderr",
     "output_type": "stream",
     "text": [
      "/Users/ice/opt/miniconda3/lib/python3.9/site-packages/tqdm/auto.py:22: TqdmWarning: IProgress not found. Please update jupyter and ipywidgets. See https://ipywidgets.readthedocs.io/en/stable/user_install.html\n",
      "  from .autonotebook import tqdm as notebook_tqdm\n",
      "Could not find image processor class in the image processor config or the model config. Loading based on pattern matching with the model's feature extractor configuration.\n",
      "/Users/ice/opt/miniconda3/lib/python3.9/site-packages/transformers/models/deformable_detr/image_processing_deformable_detr.py:792: FutureWarning: The `max_size` parameter is deprecated and will be removed in v4.26. Please specify in `size['longest_edge'] instead`.\n",
      "  warnings.warn(\n",
      "Downloading: 100%|██████████| 4.54k/4.54k [00:00<00:00, 722kB/s]\n",
      "Downloading: 100%|██████████| 161M/161M [00:05<00:00, 29.9MB/s] \n",
      "Downloading: \"https://github.com/rwightman/pytorch-image-models/releases/download/v0.1-rsb-weights/resnet50_a1_0-14fe96d1.pth\" to /Users/ice/.cache/torch/hub/checkpoints/resnet50_a1_0-14fe96d1.pth\n",
      "/Users/ice/opt/miniconda3/lib/python3.9/site-packages/transformers/models/deformable_detr/modeling_deformable_detr.py:487: UserWarning: __floordiv__ is deprecated, and its behavior will change in a future version of pytorch. It currently rounds toward 0 (like the 'trunc' function NOT 'floor'). This results in incorrect rounding for negative values. To keep the current behavior, use torch.div(a, b, rounding_mode='trunc'), or for actual floor division, use torch.div(a, b, rounding_mode='floor').\n",
      "  dim_t = self.temperature ** (2 * (dim_t // 2) / self.embedding_dim)\n"
     ]
    },
    {
     "name": "stdout",
     "output_type": "stream",
     "text": [
      "Detected cat with confidence 0.8 at location [16.5, 52.84, 318.25, 470.78]\n",
      "Detected cat with confidence 0.789 at location [342.19, 24.3, 640.02, 372.25]\n"
     ]
    },
    {
     "name": "stderr",
     "output_type": "stream",
     "text": [
      "/Users/ice/opt/miniconda3/lib/python3.9/site-packages/transformers/models/deformable_detr/image_processing_deformable_detr.py:1329: UserWarning: __floordiv__ is deprecated, and its behavior will change in a future version of pytorch. It currently rounds toward 0 (like the 'trunc' function NOT 'floor'). This results in incorrect rounding for negative values. To keep the current behavior, use torch.div(a, b, rounding_mode='trunc'), or for actual floor division, use torch.div(a, b, rounding_mode='floor').\n",
      "  topk_boxes = topk_indexes // out_logits.shape[2]\n"
     ]
    }
   ],
   "source": [
    "from transformers import AutoImageProcessor, DeformableDetrForObjectDetection\n",
    "import torch\n",
    "from PIL import Image\n",
    "import requests\n",
    "\n",
    "url = \"http://images.cocodataset.org/val2017/000000039769.jpg\"\n",
    "image = Image.open(requests.get(url, stream=True).raw)\n",
    "\n",
    "processor = AutoImageProcessor.from_pretrained(\"SenseTime/deformable-detr\")\n",
    "model = DeformableDetrForObjectDetection.from_pretrained(\"SenseTime/deformable-detr\")\n",
    "\n",
    "inputs = processor(images=image, return_tensors=\"pt\")\n",
    "outputs = model(**inputs)\n",
    "\n",
    "# convert outputs (bounding boxes and class logits) to COCO API\n",
    "# let's only keep detections with score > 0.7\n",
    "target_sizes = torch.tensor([image.size[::-1]])\n",
    "results = processor.post_process_object_detection(outputs, target_sizes=target_sizes, threshold=0.7)[0]\n",
    "\n",
    "for score, label, box in zip(results[\"scores\"], results[\"labels\"], results[\"boxes\"]):\n",
    "    box = [round(i, 2) for i in box.tolist()]\n",
    "    print(\n",
    "            f\"Detected {model.config.id2label[label.item()]} with confidence \"\n",
    "            f\"{round(score.item(), 3)} at location {box}\"\n",
    "    )\n"
   ]
  },
  {
   "attachments": {},
   "cell_type": "markdown",
   "metadata": {},
   "source": [
    "## Be careful of filling up your machine!\n",
    "\n",
    "> Some downloadable models are huge!\n",
    "\n",
    "Every time you get a model from HuggingFace, you're losing a big chunk of your hard drive.\n",
    "\n",
    "You'll want to clear out old models from time to time by deleting them from the command line. I found mine in `~/.cache/torch/hub/` on MacOS, and had to delete them when I encountered a `No space left on device` error. For different operating systems, you might find the location described in this [GitHub issue about deleting models](https://github.com/huggingface/transformers/issues/861).\n",
    "\n",
    "## With great power, comes great responsibility\n",
    "\n",
    "Despite how easy it is to copy the code provided online, it is important to understand what all of the code provided in the copyable examples does before copying it blindly.\n",
    "\n",
    "- Make you understand the input format expected by the model\n",
    "- Make sure you understand the format of the model output\n",
    "\n",
    "Without these, it will be hard to integrate your model into your larger application, or will make your implementation prone to error."
   ]
  }
 ],
 "metadata": {
  "kernelspec": {
   "display_name": "base",
   "language": "python",
   "name": "python3"
  },
  "language_info": {
   "codemirror_mode": {
    "name": "ipython",
    "version": 3
   },
   "file_extension": ".py",
   "mimetype": "text/x-python",
   "name": "python",
   "nbconvert_exporter": "python",
   "pygments_lexer": "ipython3",
   "version": "3.9.5 (default, May 18 2021, 12:31:01) \n[Clang 10.0.0 ]"
  },
  "orig_nbformat": 4,
  "vscode": {
   "interpreter": {
    "hash": "ffef1fb3247e42ae9cf3614f3519d4998b3b95643236a5d32641564963f5a3b8"
   }
  }
 },
 "nbformat": 4,
 "nbformat_minor": 2
}
