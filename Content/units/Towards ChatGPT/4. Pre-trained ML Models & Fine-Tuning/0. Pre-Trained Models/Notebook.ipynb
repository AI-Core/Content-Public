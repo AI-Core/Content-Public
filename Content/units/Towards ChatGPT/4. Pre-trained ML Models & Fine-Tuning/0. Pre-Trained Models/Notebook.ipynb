{
 "cells": [
  {
   "attachments": {},
   "cell_type": "markdown",
   "metadata": {},
   "source": [
    "## Pre-trained Models\n",
    "\n",
    "Incredibly, many people from across the world have shared the results of their hard work building and training machine learning models, so that you can take their working models straight off the shelf.\n",
    "\n",
    "> You can download many model architectures and pre-trained weights from online\n",
    "\n",
    "One of the largest collections of machine learning models can be found on [HuggingFace](https://huggingface.co/models).\n",
    "\n",
    "Let's download HuggingFace and some related libraries before we start playing with some of those models."
   ]
  },
  {
   "cell_type": "code",
   "execution_count": null,
   "metadata": {},
   "outputs": [],
   "source": [
    "!pip install transformers --quiet\n",
    "!pip install timm --quiet\n",
    "!pip install pillow --quiet\n",
    "!pip install requests --quiet"
   ]
  },
  {
   "attachments": {},
   "cell_type": "markdown",
   "metadata": {},
   "source": [
    "Many of the examples come with implementation code that you can copy directly (always assuming that you understand what it does beforehand, of course).\n",
    "\n",
    "[Here](https://huggingface.co/SenseTime/deformable-detr) in the documentation, you can find example code that gets the Deformable DETR object detection model from HuggingFace and uses it to make a prediction.\n",
    "\n",
    "Copying that below allows us to run the model in our own environment:"
   ]
  },
  {
   "cell_type": "code",
   "execution_count": null,
   "metadata": {},
   "outputs": [],
   "source": [
    "from transformers import AutoImageProcessor, DeformableDetrForObjectDetection\n",
    "import torch\n",
    "from PIL import Image\n",
    "import requests\n",
    "\n",
    "url = \"http://images.cocodataset.org/val2017/000000039769.jpg\"\n",
    "image = Image.open(requests.get(url, stream=True).raw)\n",
    "\n",
    "processor = AutoImageProcessor.from_pretrained(\"SenseTime/deformable-detr\")\n",
    "model = DeformableDetrForObjectDetection.from_pretrained(\"SenseTime/deformable-detr\")\n",
    "\n",
    "inputs = processor(images=image, return_tensors=\"pt\")\n",
    "outputs = model(**inputs)\n",
    "\n",
    "# convert outputs (bounding boxes and class logits) to COCO API\n",
    "# let's only keep detections with score > 0.7\n",
    "target_sizes = torch.tensor([image.size[::-1]])\n",
    "results = processor.post_process_object_detection(outputs, target_sizes=target_sizes, threshold=0.7)[0]\n",
    "\n",
    "for score, label, box in zip(results[\"scores\"], results[\"labels\"], results[\"boxes\"]):\n",
    "    box = [round(i, 2) for i in box.tolist()]\n",
    "    print(\n",
    "            f\"Detected {model.config.id2label[label.item()]} with confidence \"\n",
    "            f\"{round(score.item(), 3)} at location {box}\"\n",
    "    )\n"
   ]
  },
  {
   "attachments": {},
   "cell_type": "markdown",
   "metadata": {},
   "source": [
    "## Be careful of filling up your machine!\n",
    "\n",
    "> Some downloadable models are huge!\n",
    "\n",
    "Every time you get a model from HuggingFace, you're losing a big chunk of your hard drive.\n",
    "\n",
    "You'll want to clear out old models from time to time by deleting them from the command line. I found mine in `~/.cache/torch/hub/` on MacOS, and had to delete them when I encountered a `No space left on device` error. For different operating systems, you might find the location described in this [GitHub issue about deleting models](https://github.com/huggingface/transformers/issues/861).\n",
    "\n",
    "## With great power, comes great responsibility\n",
    "\n",
    "Despite how easy it is to copy the code provided online, it is important to understand what all of the code provided in the copyable examples does before copying it blindly.\n",
    "\n",
    "- Make you understand the input format expected by the model\n",
    "- Make sure you understand the format of the model output\n",
    "\n",
    "Without these, it will be hard to integrate your model into your larger application, or will make your implementation prone to error."
   ]
  }
 ],
 "metadata": {
  "kernelspec": {
   "display_name": "base",
   "language": "python",
   "name": "python3"
  },
  "language_info": {
   "codemirror_mode": {
    "name": "ipython",
    "version": 3
   },
   "file_extension": ".py",
   "mimetype": "text/x-python",
   "name": "python",
   "nbconvert_exporter": "python",
   "pygments_lexer": "ipython3",
   "version": "3.9.5 (default, May 18 2021, 12:31:01) \n[Clang 10.0.0 ]"
  },
  "vscode": {
   "interpreter": {
    "hash": "ffef1fb3247e42ae9cf3614f3519d4998b3b95643236a5d32641564963f5a3b8"
   }
  }
 },
 "nbformat": 4,
 "nbformat_minor": 2
}
