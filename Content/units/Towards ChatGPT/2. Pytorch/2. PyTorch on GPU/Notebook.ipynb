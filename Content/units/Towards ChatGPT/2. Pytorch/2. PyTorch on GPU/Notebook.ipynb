{
 "cells": [
  {
   "cell_type": "markdown",
   "metadata": {},
   "source": [
    "torch.device is a class that represents the device on which a tensor is or will be stored. It can be used to specify the device to be used when creating a tensor, or when moving a tensor to a different device.\n",
    "\n",
    "For example, to create a tensor on the CPU, you can use:"
   ]
  },
  {
   "cell_type": "code",
   "execution_count": null,
   "metadata": {},
   "outputs": [],
   "source": [
    "import torch\n",
    "x = torch.randn(10, device=torch.device(\"cpu\"))"
   ]
  },
  {
   "attachments": {},
   "cell_type": "markdown",
   "metadata": {},
   "source": [
    "To create a tensor on the GPU, you can use:\n",
    "\n"
   ]
  },
  {
   "cell_type": "code",
   "execution_count": null,
   "metadata": {},
   "outputs": [],
   "source": [
    "x = torch.randn(10, device=torch.device(\"cuda\"))"
   ]
  },
  {
   "attachments": {},
   "cell_type": "markdown",
   "metadata": {},
   "source": [
    "You can also use the to method of a tensor to move it to a different device:\n"
   ]
  },
  {
   "cell_type": "code",
   "execution_count": null,
   "metadata": {},
   "outputs": [],
   "source": [
    "x = torch.randn(10)  # Creates a tensor on the default device (CPU)\n",
    "x = x.to(torch.device(\"cuda\"))  # Moves the tensor to the GPU"
   ]
  },
  {
   "attachments": {},
   "cell_type": "markdown",
   "metadata": {},
   "source": [
    "The device attribute of a tensor is a torch.device object that represents the device on which the tensor is stored. You can use this attribute to check the device of a tensor, or to specify the device when creating another tensor.\n",
    "\n",
    "For example:\n"
   ]
  },
  {
   "cell_type": "code",
   "execution_count": null,
   "metadata": {},
   "outputs": [],
   "source": [
    "x = torch.randn(10)\n",
    "\n",
    "if x.device == torch.device(\"cpu\"):\n",
    "    print(\"x is on the CPU\")\n",
    "\n",
    "y = torch.randn(10, device=x.device)  # y will be created on the same device as x"
   ]
  }
 ],
 "metadata": {
  "kernelspec": {
   "display_name": "ox",
   "language": "python",
   "name": "python3"
  },
  "language_info": {
   "name": "python",
   "version": "3.10.8 (main, Nov 24 2022, 08:09:04) [Clang 14.0.6 ]"
  },
  "orig_nbformat": 4,
  "vscode": {
   "interpreter": {
    "hash": "b3e643153f50b336c1c7a9d4d544c5113a86fd55c72312d55d3acd153a8b13ba"
   }
  }
 },
 "nbformat": 4,
 "nbformat_minor": 2
}
