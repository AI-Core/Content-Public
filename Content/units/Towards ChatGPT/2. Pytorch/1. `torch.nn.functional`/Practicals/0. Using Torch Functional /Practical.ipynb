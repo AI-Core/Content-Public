{
 "cells": [
  {
   "attachments": {},
   "cell_type": "markdown",
   "metadata": {},
   "source": [
    "# Torch.nn.functional"
   ]
  },
  {
   "attachments": {},
   "cell_type": "markdown",
   "metadata": {},
   "source": [
    "### ReLu function\n",
    "\n",
    "In the codeblock below, define a function called `relu` which takes in an input vector and applies the `ReLu` non-linear function. Write the function logic yourself, without using the pytorch method."
   ]
  },
  {
   "cell_type": "code",
   "execution_count": 7,
   "metadata": {},
   "outputs": [],
   "source": [
    "import numpy as np\n",
    "\n",
    "input_vector = np.random.randint(-5, high = 10, size = [1,10])\n",
    "\n",
    "\n",
    "def relu(input_vector):\n",
    "    # TODO - define the ReLU function.\n",
    "    # TODO - replace your initial logic with the pytorch in-built function.\n",
    "    # TODO - replace 'relu' with other functions. \n",
    "    pass\n",
    "\n",
    "\n",
    "# TODO - print the output of each activation function, and note how it changes the values in the input vector."
   ]
  },
  {
   "attachments": {},
   "cell_type": "markdown",
   "metadata": {},
   "source": [
    "Now replace the logic of your function with the pytorch implementation of `ReLu` and run the code again. Then change the activation function to first `sigmoid` and then `tanh`, printing the output each time and noting how it changes."
   ]
  },
  {
   "attachments": {},
   "cell_type": "markdown",
   "metadata": {},
   "source": [
    "### Loss Functions\n",
    "\n",
    "In the codeblock below, there are two lists of integers. Assume that they are a batch of predictions and targets in a multiclass classification problem. Convert the two lists to torch tensors, and using an in-built method from `torch.nn.functional` apply the apppropriate loss function and print the resulting average loss for the batch."
   ]
  },
  {
   "cell_type": "code",
   "execution_count": 6,
   "metadata": {},
   "outputs": [],
   "source": [
    "predictions = [1, 3, 5, 5, 4, 2]\n",
    "targets = [3, 3, 5, 4, 4 ,2]\n",
    "\n",
    "# TODO convert predictions and targets to pytorch tensors\n",
    "# TODO apply the appropriate loss function to print the average loss from the batch.\n"
   ]
  },
  {
   "attachments": {},
   "cell_type": "markdown",
   "metadata": {},
   "source": [
    "The codeblock below contains two more lists, this time of floating point numbers. They represent a batch of predictions and targets in a regression problem and the associated model. As before, convert them to tensors and use the appropriate built-in method from `torch.nn.functional` to calculate average loss for the batch."
   ]
  },
  {
   "cell_type": "code",
   "execution_count": null,
   "metadata": {},
   "outputs": [],
   "source": [
    "predictions = [60.5, 35.3, 22.1, 5.2, 5.2, 4.89, 22.0]\n",
    "targets = [65.3, 30.2, 18.7, 2.8, 2.8 , 4.8, 14.7]\n",
    "\n",
    "# TODO convert predictions and targets to pytorch tensors\n",
    "# TODO apply the appropriate loss function to print the average loss from the batch."
   ]
  }
 ],
 "metadata": {
  "kernelspec": {
   "display_name": "huggingface1",
   "language": "python",
   "name": "python3"
  },
  "language_info": {
   "codemirror_mode": {
    "name": "ipython",
    "version": 3
   },
   "file_extension": ".py",
   "mimetype": "text/x-python",
   "name": "python",
   "nbconvert_exporter": "python",
   "pygments_lexer": "ipython3",
   "version": "3.10.8"
  },
  "orig_nbformat": 4,
  "vscode": {
   "interpreter": {
    "hash": "e36d4b688d7e3685ae8ad6703c0e99019531dd9f05b6e8f8c82292a1f759bcdc"
   }
  }
 },
 "nbformat": 4,
 "nbformat_minor": 2
}
