{
 "cells": [
  {
   "attachments": {},
   "cell_type": "markdown",
   "metadata": {},
   "source": [
    "# Automatic differentiation in Pytorch\n",
    "\n",
    "PyTorch is an open-source machine learning library based on the Torch library, used for applications such as computer vision and natural language processing. It provides a flexible and intuitive interface for creating and training deep learning models, and also supports tensor computation with strong GPU acceleration. At its heart though is a simple concept, the torch tensor - a variable type that resembles a numpy array. but with added features to perform automatic differentiation.\n",
    "\n",
    "In the code block below, create a variable called `x` and assign it a value of 1.0.\n",
    "Then convert it to a torch tensor, setting `requires_grad` to True."
   ]
  },
  {
   "cell_type": "code",
   "execution_count": null,
   "metadata": {},
   "outputs": [],
   "source": [
    "import torch\n",
    "# TODO - Create a variable called x and assign it a value of 1.0.\n",
    "# TODO - Convert X to a torch tensor, setting requires_grad to True."
   ]
  },
  {
   "attachments": {},
   "cell_type": "markdown",
   "metadata": {},
   "source": [
    "In the next codeblock, define a function called `quadratic_function` that takes in a value of x, and applies a quadratic function to it, for example (3 * x^2 + 2x + 10). Apply it to `x`, and assign the output to a variable called `y`."
   ]
  },
  {
   "cell_type": "code",
   "execution_count": null,
   "metadata": {},
   "outputs": [],
   "source": [
    "def quadratic_function(x):\n",
    "    # TODO - Define the quadratic function\n",
    "    pass\n",
    "\n",
    "# TODO - Pass x to the function, and passing the output to a variable called `y`."
   ]
  },
  {
   "attachments": {},
   "cell_type": "markdown",
   "metadata": {},
   "source": [
    "Now call the `torch.backward()` method on y, and print the `grad` of x. Then print the `grad` of `y`, and print the value of `requires_grad` for `y`."
   ]
  },
  {
   "cell_type": "code",
   "execution_count": null,
   "metadata": {},
   "outputs": [],
   "source": [
    "# TODO - Call `torch.backward()` on y.\n",
    "# TODO - Print the `grad` of x.\n",
    "# TODO - Print the `grad` of y.\n",
    "# TODO - Print the value of `requires_grad` for `y`"
   ]
  },
  {
   "attachments": {},
   "cell_type": "markdown",
   "metadata": {},
   "source": [
    "In the cell below, call the `zero_grad` method of `x`, and print the `grad` again.\n",
    "Then set `requires_grad` to false for `x`."
   ]
  },
  {
   "cell_type": "code",
   "execution_count": null,
   "metadata": {},
   "outputs": [],
   "source": [
    "# TODO - Call `zero_grad` on x.\n",
    "# TODO - Print the `grad` of x.\n",
    "# TODO - Set `requires_grad` to False for `x`."
   ]
  },
  {
   "attachments": {},
   "cell_type": "markdown",
   "metadata": {},
   "source": [
    "Now call the quadratic function on `x` again, repeat the `torch.backward()` call on `y`, and print the `grad` of `x`. Print the value of `requires_grad` for `y`."
   ]
  },
  {
   "cell_type": "code",
   "execution_count": null,
   "metadata": {},
   "outputs": [],
   "source": [
    "# TODO - Pass x to the function, and passing the output to a variable called `y`.\n",
    "# TODO - Call `torch.backward()` on y.\n",
    "# TODO - Print the `grad` of x.\n",
    "# TODO - Print the value of `requires_grad` for y.\n"
   ]
  }
 ],
 "metadata": {
  "kernelspec": {
   "display_name": "content-projects_new",
   "language": "python",
   "name": "python3"
  },
  "language_info": {
   "name": "python",
   "version": "3.10.8 (main, Nov 24 2022, 14:13:03) [GCC 11.2.0]"
  },
  "orig_nbformat": 4,
  "vscode": {
   "interpreter": {
    "hash": "4b961f8166aad6ccb4cf65d0f9c742ef9c6c23ffe83ad932438cd83ed96aebaf"
   }
  }
 },
 "nbformat": 4,
 "nbformat_minor": 2
}
