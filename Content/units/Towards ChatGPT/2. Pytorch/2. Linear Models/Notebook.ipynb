{
 "cells": [
  {
   "attachments": {},
   "cell_type": "markdown",
   "metadata": {},
   "source": [
    "# Linear Models\n",
    "\n",
    "> Linear models are those which use a linear function to combine features into a prediction\n",
    "\n",
    "When your data only has a single scalar feature (e.g. height) and a single scalar target (e.g. age), that looks like a straight line equation:\n",
    "\n",
    "![](./images/Linear%20Model%20Graph%20and%20Equation.png)\n",
    "\n",
    "> When a linear model is used to make a prediction that can be any continuous number, the model is known as _linear regression_.\n",
    "- Regression: Output can be any continuous value\n",
    "- Linear: Output is a weighted sum of inputs, plus some constant (bias)\n",
    "\n",
    "Of course, in many problems of interest, the data can have many features. This makes it harder to visualise, but the concept is exactly the same.\n",
    "\n",
    "![](./images/Linear%20Regression%20Equation.png)\n",
    "\n",
    "This means that each feature has an associated _weight_ which represents its influence on the prediction.\n",
    "\n",
    "The prediction made by linear regression changes by a constant value as the value of each feature increases by one. That constant value, is the associated feature's weight.\n",
    "\n",
    "![](./images/Linear%20Regression%20Parameter%20Example.png)\n",
    "\n",
    "Linear regression model parameters:\n",
    "- Weight: Influence of each feature\n",
    "- Bias: A constant value for each output\n",
    "\n",
    "> Note that, although the bias of a linear layer is often a scalar, a linear layer has as many biases as it has outputs\n",
    "\n",
    "The linear layer can be represented graphically too:\n",
    "\n",
    "![](./images/Linear%20Layer%20Graphical%20Model%20with%20Labels.png)\n",
    "\n",
    "In PyTorch, the _`Linear` layer_ can be used to create a (initially random) linear model:\n"
   ]
  },
  {
   "cell_type": "code",
   "execution_count": null,
   "metadata": {},
   "outputs": [],
   "source": [
    "import torch\n",
    "\n",
    "linear_layer = torch.nn.Linear(3, 1) # 3 input features, 1 output prediction"
   ]
  },
  {
   "attachments": {},
   "cell_type": "markdown",
   "metadata": {},
   "source": [
    "PyTorch's `Linear` layers contain the model parameters - both the weights and the bias."
   ]
  },
  {
   "cell_type": "code",
   "execution_count": null,
   "metadata": {},
   "outputs": [],
   "source": [
    "print(\"weight:\", linear_layer.weight)\n",
    "print(\"bias:\", linear_layer.bias)"
   ]
  },
  {
   "attachments": {},
   "cell_type": "markdown",
   "metadata": {},
   "source": [
    "We can use this linear layer in a PyTorch model to create a linear regression model (which is initialised with random parameters):"
   ]
  },
  {
   "cell_type": "code",
   "execution_count": null,
   "metadata": {},
   "outputs": [],
   "source": [
    "class LinearRegression(torch.nn.Module):\n",
    "    def __init__(self):\n",
    "        self.linear_layer = torch.nn.Linear(3, 1)\n",
    "\n",
    "    def forward(self, X):\n",
    "        return self.linear_layer(X)"
   ]
  },
  {
   "attachments": {},
   "cell_type": "markdown",
   "metadata": {},
   "source": [
    "> Linear models are differentiable, which means that they can be trained from end to end using gradient descent\n",
    "\n",
    "This can be done in a typical PyTorch training loop:\n"
   ]
  },
  {
   "cell_type": "code",
   "execution_count": null,
   "metadata": {},
   "outputs": [],
   "source": [
    "import torch.nn.functional as F\n",
    "from torch.utils.tensorboard import SummaryWriter\n",
    "\n",
    "def train(model, dataloader, epochs=10):\n",
    "\n",
    "    # SET UP LOGGING\n",
    "    writer = SummaryWriter()\n",
    "    batch_idx = 0\n",
    "\n",
    "    optimiser = torch.optim.SGD(model.parameters(), lr=0.001) # SET UP OPTIMISER\n",
    "\n",
    "    for epoch in range(epochs):\n",
    "        for batch in dataloader:\n",
    "\n",
    "            features, labels = batch # UNPACK BATCH OF DATA\n",
    "            \n",
    "            # COMPUTE LOSS\n",
    "            predictions = model(features)\n",
    "            loss = F.mse_loss(predictions, labels)\n",
    "            \n",
    "            # OPTIMISE\n",
    "            loss.backward()\n",
    "            optimiser.step()\n",
    "            optimiser.zero_grad()\n",
    "            \n",
    "            # LOGGING\n",
    "            writer.add_scalar(\"Loss/Train\", loss.item(), batch_idx)\n",
    "            batch_idx += 1\n"
   ]
  },
  {
   "attachments": {},
   "cell_type": "markdown",
   "metadata": {},
   "source": [
    "Usually, you'd start with the data. But in our case we don't have it yet, so let's get some, and then use PyTorch's `DataLoader` to shuffle it and batch examples together."
   ]
  },
  {
   "cell_type": "code",
   "execution_count": null,
   "metadata": {},
   "outputs": [],
   "source": [
    "from torch.utils.data import DataLoader\n",
    "\n",
    "dataset = \n",
    "\n",
    "train_set, val_set, test_set = torch.utils.data.random_split(dataset)\n",
    "\n",
    "train_loader = DataLoader(train_set, shuffle=True, batch_size=16)"
   ]
  },
  {
   "attachments": {},
   "cell_type": "markdown",
   "metadata": {},
   "source": [
    "Now we have everything we need to train our linear regression model, so let's train it."
   ]
  },
  {
   "cell_type": "code",
   "execution_count": null,
   "metadata": {},
   "outputs": [],
   "source": [
    "model = LinearRegression()\n",
    "train(model, train_loader)"
   ]
  },
  {
   "attachments": {},
   "cell_type": "markdown",
   "metadata": {},
   "source": [
    "Once trained, we can check out the values of the linear layer's parameters to see where they ended up:"
   ]
  },
  {
   "cell_type": "code",
   "execution_count": null,
   "metadata": {},
   "outputs": [],
   "source": [
    "print(\"Final weight:\", model.linear_layer.weight)\n",
    "print(\"Final bias:\", model.linear_layer.bias)"
   ]
  }
 ],
 "metadata": {
  "language_info": {
   "name": "python"
  }
 },
 "nbformat": 4,
 "nbformat_minor": 2
}
