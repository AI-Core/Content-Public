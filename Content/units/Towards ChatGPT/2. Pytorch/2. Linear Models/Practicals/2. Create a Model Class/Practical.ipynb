{
 "cells": [
  {
   "attachments": {},
   "cell_type": "markdown",
   "metadata": {},
   "source": [
    "# Creating a Pytorch Regression Model\n",
    "\n",
    "The following cell defines a cartoon features array, with 100 datapoints and 9 features. Our task is to create a linear model to predict the values of a target variable y. In this practical we are not concerned with making the prediction itself, just in designing the network."
   ]
  },
  {
   "cell_type": "code",
   "execution_count": null,
   "metadata": {},
   "outputs": [],
   "source": [
    "import torch\n",
    "\n",
    "features=torch.rand(size=[100,9], dtype=torch.float32)\n",
    "features.shape"
   ]
  },
  {
   "attachments": {},
   "cell_type": "markdown",
   "metadata": {},
   "source": [
    "In the cell below, create a model class that inherits from `torch.nn.Module`. \n",
    "\n",
    "- Inside the class constructor, make the `super` call to delegate inheretance from the parent class.\n",
    "- Then define a network of three linear layers. \n",
    "- The input layer should have the same input size as the number of features in our data, and an output layer of the same size.\n",
    "- Make the middle layer have the same size input and output.\n",
    "- Make the final layer have an output size of 1, representing the value of our regression prediction.\n",
    "- Ensure that each linear layer is separated by a nonlinear activation layer of the appropriate type.\n",
    "- Finally, define the `forward` method."
   ]
  },
  {
   "cell_type": "code",
   "execution_count": null,
   "metadata": {},
   "outputs": [],
   "source": [
    "class RegressionModel(torch.nn.Module):\n",
    "    def __init__(self):\n",
    "        # TODO super init\n",
    "        # TODO define the network using \n",
    "        pass\n",
    "       \n",
    "\n",
    "    def forward(self, x):\n",
    "        # TODO - create the forward method\n",
    "        pass"
   ]
  },
  {
   "attachments": {},
   "cell_type": "markdown",
   "metadata": {},
   "source": [
    "Now create an instance of the model, and check that the forward method works by passing the features to the model."
   ]
  },
  {
   "cell_type": "code",
   "execution_count": null,
   "metadata": {},
   "outputs": [],
   "source": [
    "# TODO - Create an instance of `RegressionModel`\n",
    "# TODO - pass the features to the model.\n"
   ]
  },
  {
   "attachments": {},
   "cell_type": "markdown",
   "metadata": {},
   "source": [
    "Finally, print the weights and biases of the middle layer of the network."
   ]
  },
  {
   "cell_type": "code",
   "execution_count": null,
   "metadata": {},
   "outputs": [],
   "source": [
    "# TODO - print weights\n",
    "# TODO - print bias\n"
   ]
  }
 ],
 "metadata": {
  "kernelspec": {
   "display_name": "huggingface1",
   "language": "python",
   "name": "python3"
  },
  "language_info": {
   "codemirror_mode": {
    "name": "ipython",
    "version": 3
   },
   "file_extension": ".py",
   "mimetype": "text/x-python",
   "name": "python",
   "nbconvert_exporter": "python",
   "pygments_lexer": "ipython3",
   "version": "3.10.8"
  },
  "orig_nbformat": 4,
  "vscode": {
   "interpreter": {
    "hash": "e36d4b688d7e3685ae8ad6703c0e99019531dd9f05b6e8f8c82292a1f759bcdc"
   }
  }
 },
 "nbformat": 4,
 "nbformat_minor": 2
}
