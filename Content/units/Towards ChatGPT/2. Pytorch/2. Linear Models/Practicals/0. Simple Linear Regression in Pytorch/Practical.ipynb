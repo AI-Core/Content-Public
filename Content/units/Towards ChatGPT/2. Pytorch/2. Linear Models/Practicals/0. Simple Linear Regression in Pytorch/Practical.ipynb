{
 "cells": [
  {
   "attachments": {},
   "cell_type": "markdown",
   "metadata": {},
   "source": [
    "#  Fitting a Simple Linear Regression in Pytorch\n",
    "\n",
    "In this practical we will walk through the process of training a simple linear regression model in pytorch. First let's visualise our data. In the cell below, write some code to make a scatter plot of the x and y data."
   ]
  },
  {
   "cell_type": "code",
   "execution_count": null,
   "metadata": {},
   "outputs": [],
   "source": [
    "# Visualize our data\n",
    "import matplotlib.pyplot as plt\n",
    "import numpy as np\n",
    "\n",
    "nsamples = 300\n",
    "x = np.random.rand(nsamples)\n",
    "y = np.sin(x) * np.power(x,4) + 3*x + np.random.rand(nsamples)*0.8\n",
    "\n",
    "#TODO - Make a scatter plot of the x and y data"
   ]
  },
  {
   "attachments": {},
   "cell_type": "markdown",
   "metadata": {},
   "source": [
    "We can create a simple linear model with a single input and output, using the class we defined in the lesson notebook. Run the cell below to create an instance of the `PytorchLinearRegression` class."
   ]
  },
  {
   "cell_type": "code",
   "execution_count": null,
   "metadata": {},
   "outputs": [],
   "source": [
    "import torch\n",
    "import torch.nn as nn\n",
    "import torch.nn.functional as F\n",
    "from torch.autograd import Variable\n",
    "\n",
    "class PyTorchLinearRegression(torch.nn.Module):\n",
    "    def __init__(self, num_inputs, num_outputs):\n",
    "        super().__init__()\n",
    "        self.linear_layer = torch.nn.Linear(num_inputs, num_outputs)\n",
    "\n",
    "    def forward(self, X):\n",
    "        return self.linear_layer(X)\n",
    "\n",
    "\n",
    "linear_regression=PyTorchLinearRegression(1,1)"
   ]
  },
  {
   "attachments": {},
   "cell_type": "markdown",
   "metadata": {},
   "source": [
    "In the cell below, call the model on our `x_tensor` data. Then create a scatter plot showing the original `x` and `y` data in one colour, and the `x` and `y_pred` data in a second colour. "
   ]
  },
  {
   "cell_type": "code",
   "execution_count": null,
   "metadata": {},
   "outputs": [],
   "source": [
    "x_tensor=torch.transpose(torch.tensor(x,dtype=torch.float32).unsqueeze(0),0,1)\n",
    "\n",
    "#TODO- Pass the x_tensor data to the model's forward method, and assign the outputs to a variable called `y_pred`.\n",
    "#TODO - Scatter the original x and y data, and assign the points a blue colour.\n",
    "#TODO - Scatter the x and y_pred data, and assing the points a red colour. \n",
    "# You will need to convert the tensor back to numpy to do so. Use the .detach().numpy() method for this.\n",
    "\n"
   ]
  },
  {
   "attachments": {},
   "cell_type": "markdown",
   "metadata": {},
   "source": [
    "In the next cell, edit the code to initialise the dataloader, and train the model."
   ]
  },
  {
   "cell_type": "code",
   "execution_count": null,
   "metadata": {},
   "outputs": [],
   "source": [
    "from random import shuffle\n",
    "\n",
    "# This line converts the y data into a torch tensor of the correct format.\n",
    "y_tensor=torch.transpose(torch.tensor(y,dtype=torch.float32).unsqueeze(0),0,1)\n",
    "\n",
    "def create_dummy_dataloader(x_tensor, y_tensor, batch_size = 4):\n",
    "    '''function to create a simple dataloader.'''\n",
    "    def create_batches(data):\n",
    "        return [\n",
    "            data[idx*batch_size: (idx+1) * batch_size] if (idx + 1) * batch_size < len(data)\n",
    "            else data[idx*batch_size:]\n",
    "            for idx in range(len(data) // batch_size)\n",
    "        ]\n",
    "    batched_X = create_batches(x_tensor)\n",
    "    batched_y = create_batches(y_tensor)\n",
    "    return list(zip(batched_X, batched_y))\n",
    "\n",
    "\n",
    "def train(model, dataloader, epochs = 20):\n",
    "    '''A simple training loop'''\n",
    "    optimiser = torch.optim.SGD(model.parameters(), lr=0.01)\n",
    "    for epoch in range(epochs):\n",
    "        shuffle(dataloader)\n",
    "        for batch in dataloader:\n",
    "            features, labels = batch\n",
    "            prediction = model(features)\n",
    "            loss = torch.nn.functional.mse_loss(prediction, labels)\n",
    "            loss.backward()\n",
    "            optimiser.step()\n",
    "            optimiser.zero_grad()\n",
    "        print(\"Loss:\", loss.item())\n",
    "        print()\n",
    "\n",
    "\n",
    "#TODO - initialise the dataloader by calling our create_dummy_dataloader function on the x_tensor and y_tensor inputs.\n",
    "optimiser = torch.optim.SGD(linear_regression.parameters(), lr=0.01)\n",
    "\n",
    "#TODO -  train the model by calling our `train` function on our linear_regression model and dataloader."
   ]
  },
  {
   "attachments": {},
   "cell_type": "markdown",
   "metadata": {},
   "source": [
    "Now let's plot our data again, to see if the model has fit the data correctly."
   ]
  },
  {
   "cell_type": "code",
   "execution_count": null,
   "metadata": {},
   "outputs": [],
   "source": [
    "#TODO- Pass the x_tensor data to the model's forward method a second time, and assign the outputs to `y_pred` again`\n",
    "#TODO - Scatter the original x and y data, and assign the points a blue colour.\n",
    "#TODO - Scatter the x and y_pred data, and assing the points a red colour. \n",
    "#Has the fit improved?"
   ]
  }
 ],
 "metadata": {
  "kernelspec": {
   "display_name": "huggingface1",
   "language": "python",
   "name": "python3"
  },
  "language_info": {
   "name": "python",
   "version": "3.10.8"
  },
  "orig_nbformat": 4,
  "vscode": {
   "interpreter": {
    "hash": "e36d4b688d7e3685ae8ad6703c0e99019531dd9f05b6e8f8c82292a1f759bcdc"
   }
  }
 },
 "nbformat": 4,
 "nbformat_minor": 2
}
