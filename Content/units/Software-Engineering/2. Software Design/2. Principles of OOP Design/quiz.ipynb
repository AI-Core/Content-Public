{
 "cells": [
  {
   "attachments": {},
   "cell_type": "markdown",
   "metadata": {},
   "source": [
    "# Principles of OOP Design"
   ]
  },
  {
   "attachments": {},
   "cell_type": "markdown",
   "metadata": {},
   "source": [
    "## Which of the following is true about OOP design? Select all that apply.\n",
    "\n",
    "- You should aim to build functions that have multiple purposes to save defining multiple functions\n",
    "- Your functions should be concise and with a single purpose ***\n",
    "- If you define a class in a notebook, you can directly import that class in any other notebook or script\n",
    "- Classes can be used to gather methods with different, yet related, functionalities ***\n",
    "- You should use classes only if they gather no more than two methods\n",
    "- It is best to minimise the number of methods defined in a class so that the class has a single purpose\n",
    "- Modules can only contain classes\n",
    "- Modules can only contain functions\n"
   ]
  },
  {
   "attachments": {},
   "cell_type": "markdown",
   "metadata": {},
   "source": [
    "## Which of the following is true about Namespaces? Select all that apply.\n",
    "\n",
    "- Importing a module to a script will create a new entry for that namespace ***\n",
    "- Namespaces are only useful when developing\n",
    "- Namespaces are only useful when debugging\n",
    "- There can be only one namespace when running your program\n",
    "- Built-in is a type of namespace ***\n",
    "- The `main` namespace will belong to the file where the code was run ***"
   ]
  },
  {
   "attachments": {},
   "cell_type": "markdown",
   "metadata": {},
   "source": [
    "## What are the motivations for using Separation of Concerns? Select all that apply.\n",
    "\n",
    "- Keep your code clean ***\n",
    "- Improve readability ***\n",
    "- Making your code more manageable ***\n",
    "- It allows different libraries work with the existing dependencies\n",
    "- Helping the debugging process ***\n",
    "- Keep a concise structure that other developers can use ***\n",
    "- None of the above"
   ]
  },
  {
   "attachments": {},
   "cell_type": "markdown",
   "metadata": {},
   "source": [
    "## Which of the following is true about scope? Select all that apply.\n",
    "\n",
    "- We can access variables located in the built-in scope in a nested function ***\n",
    "- If using the global keyword on a local variable, changing the value of that variable locally will affect the value of that variable at a global scope level ***\n",
    "- Inside a nested function, using the keyword `nonlocal` on a local variable in the nested function will grant access to the global scope\n",
    "- Variables defined in the local scope can be accessed from the enclosing scope\n",
    "- Variables define in the local scope can be accessed in the global scope "
   ]
  },
  {
   "attachments": {},
   "cell_type": "markdown",
   "metadata": {},
   "source": [
    "## Which of the following lines should to be removed for the code to run? Select all that apply.\n",
    "\n",
    "```python\n",
    "\n",
    "print(enclosing_var)\n",
    "def func():\n",
    "    enclosing_var = \"I am the enclosed variable!\"\n",
    "    print(enclosing_var)\n",
    "    def wrapped_func():\n",
    "        print(local_var)\n",
    "        local_var = 'I am the local variable!'\n",
    "        print(local_var)\n",
    "    wrapped_func()\n",
    "\n",
    "print(enclosing_var)\n",
    "func()\n",
    "```\n",
    "- The first `print(enclosing_var)` needs to be removed since the variable isn't yet defined ***\n",
    "- The first `print(local_var)` needs to be removed since the variable isn't yet defined ***\n",
    "- The last `print(enclosing_var)` needs to be removed since `enclosing_var` can't be accessed outside of the function `func` ***\n",
    "- The second `print(local_var)` needs to be removed since it is being accessed in the enclosing scope\n",
    "- The second `print(enclosing_var)` needs to be removed since it is being accessed in the global scope\n"
   ]
  },
  {
   "attachments": {},
   "cell_type": "markdown",
   "metadata": {},
   "source": [
    "## Which of the following are Python scopes based on the LEGB rule?\n",
    "\n",
    "- Local, Enclosing, Global and Built-in ***\n",
    "- Local, Exit, Global and Built-in \n",
    "- Local, Enclosing, Global and Base \n",
    "- Long, Exit, Global and Base \n",
    "- Long, Exit, Global and Basis "
   ]
  }
 ],
 "metadata": {
  "kernelspec": {
   "display_name": "base",
   "language": "python",
   "name": "python3"
  },
  "language_info": {
   "name": "python",
   "version": "3.10.9"
  },
  "orig_nbformat": 4,
  "vscode": {
   "interpreter": {
    "hash": "a2592652612463181e69ac003232387e3e9a99279aa6b168e76f5df16d5110f4"
   }
  }
 },
 "nbformat": 4,
 "nbformat_minor": 2
}
