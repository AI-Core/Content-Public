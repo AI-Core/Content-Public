{
 "cells": [
  {
   "cell_type": "markdown",
   "source": [
    "# 1. Rock Paper Scissors (Functions)"
   ],
   "metadata": {}
  },
  {
   "cell_type": "code",
   "execution_count": 1,
   "source": [
    "import random\r\n",
    "\r\n",
    "OPTIONS = ['rock', 'paper', 'scissors']\r\n",
    "\r\n",
    "def get_computer_choice():\r\n",
    "    return random.choice(OPTIONS)"
   ],
   "outputs": [],
   "metadata": {}
  },
  {
   "cell_type": "code",
   "execution_count": null,
   "source": [
    "def get_human_choice():\r\n",
    "    choice_number = int(input('Enter the number of your choice: '))\r\n",
    "    return OPTIONS[choice_number - 1]"
   ],
   "outputs": [],
   "metadata": {}
  },
  {
   "cell_type": "code",
   "execution_count": 2,
   "source": [
    "def print_options():\r\n",
    "    print('\\n'.join(f'({i}) {option.title()}' for i, option in enumerate(OPTIONS, 1)))"
   ],
   "outputs": [],
   "metadata": {}
  },
  {
   "cell_type": "code",
   "execution_count": 4,
   "source": [
    "print_options()"
   ],
   "outputs": [
    {
     "output_type": "stream",
     "name": "stdout",
     "text": [
      "(1) Rock\n",
      "(2) Paper\n",
      "(3) Scissors\n"
     ]
    }
   ],
   "metadata": {}
  },
  {
   "cell_type": "code",
   "execution_count": null,
   "source": [
    "def print_choices(human_choice, computer_choice): \r\n",
    "    print(f'You chose {human_choice}')\r\n",
    "    print(f'The computer chose {computer_choice}')"
   ],
   "outputs": [],
   "metadata": {}
  },
  {
   "cell_type": "code",
   "execution_count": null,
   "source": [
    "def print_win_lose(human_choice, computer_choice, human_beats, human_loses_to):\r\n",
    "    if computer_choice == human_loses_to:\r\n",
    "        print(f'Sorry, {computer_choice} beats {human_choice}')\r\n",
    "    elif computer_choice == human_beats:\r\n",
    "        print(f'Yes, {human_choice} beats {computer_choice}!')"
   ],
   "outputs": [],
   "metadata": {}
  },
  {
   "cell_type": "code",
   "execution_count": null,
   "source": [
    "def print_result(human_choice, computer_choice):\r\n",
    "    if human_choice == computer_choice:\r\n",
    "        print('Draw!')\r\n",
    "    if human_choice == 'rock':\r\n",
    "        print_win_lose('rock', computer_choice, 'scissors', 'paper')\r\n",
    "    elif human_choice == 'paper':\r\n",
    "        print_win_lose('paper', computer_choice, 'rock', 'scissors')\r\n",
    "    elif human_choice == 'scissors':\r\n",
    "        print_win_lose('scissors', computer_choice, 'paper', 'rock')"
   ],
   "outputs": [],
   "metadata": {}
  },
  {
   "cell_type": "markdown",
   "source": [
    "## 2. Rock Paper Scissors (Class)"
   ],
   "metadata": {}
  },
  {
   "cell_type": "code",
   "execution_count": null,
   "source": [
    "import random\r\n",
    "\r\n",
    "OPTIONS = ['rock', 'paper', 'scissors']\r\n",
    "\r\n",
    "\r\n",
    "class JanKenPon:\r\n",
    "    def __init__(self):\r\n",
    "        self.computer_choice = None\r\n",
    "        self.human_choice = None\r\n",
    "\r\n",
    "    def get_computer_choice(self):\r\n",
    "        self.computer_choice = random.choice(OPTIONS)\r\n",
    "\r\n",
    "    def get_human_choice(self):\r\n",
    "        choice_number = int(input('Enter the number of your choice: '))\r\n",
    "        self.human_choice = OPTIONS[choice_number - 1]\r\n",
    "\r\n",
    "    def print_options(self):\r\n",
    "        print('\\n'.join(f'({i}) {option.title()}' for i, option in enumerate(OPTIONS, 1)))\r\n",
    "\r\n",
    "    def print_choices(self):\r\n",
    "        print(f'You chose {self.human_choice}') \r\n",
    "        print(f'The computer chose {self.computer_choice}')\r\n",
    "\r\n",
    "    def print_win_lose(self, human_beats, human_loses_to):\r\n",
    "        if self.computer_choice == human_loses_to:\r\n",
    "            print(f'Sorry, {self.computer_choice} beats {self.human_choice}')\r\n",
    "        elif self.computer_choice == human_beats:\r\n",
    "            print(f'Yes, {self.human_choice} beats {self.computer_choice}!')\r\n",
    "\r\n",
    "    def print_result(self):\r\n",
    "        if self.human_choice == self.computer_choice:\r\n",
    "            print('Draw!')\r\n",
    "\r\n",
    "        if self.human_choice == 'rock':\r\n",
    "            self.print_win_lose('scissors', 'paper')\r\n",
    "        elif self.human_choice == 'paper':\r\n",
    "            self.print_win_lose('rock', 'scissors')\r\n",
    "        elif self.human_choice == 'scissors':\r\n",
    "            self.print_win_lose('paper', 'rock')\r\n",
    "\r\n",
    "    def simulate(self):\r\n",
    "        self.print_options()\r\n",
    "        self.get_human_choice()\r\n",
    "        self.get_computer_choice()\r\n",
    "        self.print_choices()\r\n",
    "        self.print_result()\r\n",
    "\r\n",
    "\r\n",
    "simulator = JanKenPon()\r\n",
    "simulator.simulate()"
   ],
   "outputs": [],
   "metadata": {}
  }
 ],
 "metadata": {
  "orig_nbformat": 4,
  "language_info": {
   "name": "python",
   "version": "3.9.1",
   "mimetype": "text/x-python",
   "codemirror_mode": {
    "name": "ipython",
    "version": 3
   },
   "pygments_lexer": "ipython3",
   "nbconvert_exporter": "python",
   "file_extension": ".py"
  },
  "kernelspec": {
   "name": "python3",
   "display_name": "Python 3.9.1 64-bit ('base': conda)"
  },
  "interpreter": {
   "hash": "ad8bebc098a042dc0df4e42fc2ecc8fff0bd7b8741641ce29007c29766dadbe0"
  }
 },
 "nbformat": 4,
 "nbformat_minor": 2
}