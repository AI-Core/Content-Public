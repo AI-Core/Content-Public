{
 "cells": [
  {
   "attachments": {},
   "cell_type": "markdown",
   "metadata": {},
   "source": [
    "# Unit Testing"
   ]
  },
  {
   "attachments": {},
   "cell_type": "markdown",
   "metadata": {},
   "source": [
    "## What is true about writing your unit test cases in Python?\n",
    "\n",
    "- Each method of your testing class which is a test should be prefixed by `test_` ***\n",
    "- Your testing class should inherit from `unittest.TestCase` \n",
    "- You can only test one thing in each of the test cases\n",
    "- Your methods should always return something"
   ]
  },
  {
   "attachments": {},
   "cell_type": "markdown",
   "metadata": {},
   "source": [
    "## Which of the following are parameters you can use of the `unittest.main` method? Select all that apply.\n",
    "\n",
    "- `verbose` displays less of more information about the results of your tests ***\n",
    "- `exit` can be used to reset the kernel ***\n",
    "- `stop` used to stop the testing\n",
    "- `run_once` can be used to tell Python to only run the tests once"
   ]
  },
  {
   "attachments": {},
   "cell_type": "markdown",
   "metadata": {},
   "source": [
    "## Which of the following options can be used to test if the first letter of a string is capitalised?\n",
    "\n",
    "- `assert string[0].isupper() == True` ***\n",
    "- `assert string.isupper() == True`\n",
    "- `assert string == isupper()`\n",
    "- `assert string[0] == isupper()`\n",
    "- `assert string[0].isupper() = True`"
   ]
  }
 ],
 "metadata": {
  "language_info": {
   "name": "python"
  },
  "orig_nbformat": 4
 },
 "nbformat": 4,
 "nbformat_minor": 2
}
