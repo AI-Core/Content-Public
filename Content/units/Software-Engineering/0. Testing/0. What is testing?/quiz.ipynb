{
 "cells": [
  {
   "attachments": {},
   "cell_type": "markdown",
   "metadata": {},
   "source": [
    "# What is testing?"
   ]
  },
  {
   "attachments": {},
   "cell_type": "markdown",
   "metadata": {},
   "source": [
    "# What are the motivations for testing your program? Select all that apply.\n",
    "\n",
    "- Check the performance of your program ***\n",
    "-  Check the possible security breaches of your program ***\n",
    "-  Check that your program works as expected ***\n",
    "-  Check that small pieces of your code work as expected ***\n",
    "-  Check that small pieces of your code can work in tandem as expected ***\n"
   ]
  },
  {
   "attachments": {},
   "cell_type": "markdown",
   "metadata": {},
   "source": [
    "## Which of the following are categories of testing? Select all that apply.\n",
    "\n",
    "-  Unit Testing ***\n",
    "-  Unsupervised Testing\n",
    "-  Integration Testing ***\n",
    "-  Manual Testing ***\n",
    "-  Supervised Testing\n",
    "-  Acceptance Testing ***\n",
    "-  Bottleneck Testing"
   ]
  },
  {
   "attachments": {},
   "cell_type": "markdown",
   "metadata": {},
   "source": [
    "## True or False: You can add up to three assertions in each test.\n",
    "\n",
    "- True \n",
    "- False ***"
   ]
  },
  {
   "attachments": {},
   "cell_type": "markdown",
   "metadata": {},
   "source": [
    "## True or False: `assertRaises()` allows you assert an intentional error.\n",
    "\n",
    "- True ***\n",
    "- False"
   ]
  },
  {
   "attachments": {},
   "cell_type": "markdown",
   "metadata": {},
   "source": [
    "## What is true about the Hypothesis Python library? Select all that apply.\n",
    "\n",
    "- It is a testing library for property based testing which has a large amount of test cases than standard unit testing ***\n",
    "- Hypothesis is smart. It will only rerun failed test cases. ***\n",
    "- Hypothesis tests for a smaller but more specific set of test cases than standard unit testing\n",
    "- Hypothesis will rerun the same test cases over and over again to improve certainty of failure or success\n",
    "- Hypothesis can't make you code more robust, but it can help in other ways"
   ]
  },
  {
   "attachments": {},
   "cell_type": "markdown",
   "metadata": {},
   "source": [
    "## Which of the following assertion methods are built into the Python unit testing library? Select all that apply.\n",
    "\n",
    "- `assertEqual` ***\n",
    "- `assertIsInstance` ***\n",
    "- `assertDictEqual` ***\n",
    "- `assertRegex` ***\n",
    "- `assertIsClass`\n",
    "- `assertAlmost`\n",
    "- `assertTyping`"
   ]
  },
  {
   "attachments": {},
   "cell_type": "markdown",
   "metadata": {},
   "source": [
    "## What is the use of the `setUp` and `tearDown` unit testing methods? Select all that apply.\n",
    "\n",
    "- `setUp` allows you to define object which should be initialised before every test ***\n",
    "- `tearDown` is performed after each test is run, usually to destroy object used in `setUp` ***\n",
    "- `setUp` allows you to create a Python object once for every test\n",
    "- `tearDown` lets Python to stop running the unit tests\n",
    "- `setUp` can't be used with `tearDown`"
   ]
  },
  {
   "attachments": {},
   "cell_type": "markdown",
   "metadata": {},
   "source": [
    "## Which of the following is true about Acceptance Testing and System Testing?\n",
    "\n",
    "- Acceptance testing is usually the last stage of testing ***\n",
    "- Acceptance testing is specifically testing each method/function individually \n",
    "- System Testing is a vey granular process testing each component in isolation\n",
    "- System Testing is the same as Integration Testing\n",
    "- You need to do System Testing first before Unit Testing"
   ]
  },
  {
   "attachments": {},
   "cell_type": "markdown",
   "metadata": {},
   "source": [
    "## Which of the following statements are true about Unit and Integration Testing? Select all that apply.\n",
    "\n",
    "- Unit testing is a testing technique that is used to test individual pieces of code ***\n",
    "- Integration Testing is used to test the entire system end to end\n",
    "- Integration Testing is testing that the interconnection between parts of a system are working as intended ***\n",
    "- Unit Testing is testing the whole system as a unit\n",
    "- Unit Testing is the last kind of testing you will perform  "
   ]
  }
 ],
 "metadata": {
  "kernelspec": {
   "display_name": "base",
   "language": "python",
   "name": "python3"
  },
  "language_info": {
   "name": "python",
   "version": "3.10.9"
  },
  "orig_nbformat": 4,
  "vscode": {
   "interpreter": {
    "hash": "a2592652612463181e69ac003232387e3e9a99279aa6b168e76f5df16d5110f4"
   }
  }
 },
 "nbformat": 4,
 "nbformat_minor": 2
}
