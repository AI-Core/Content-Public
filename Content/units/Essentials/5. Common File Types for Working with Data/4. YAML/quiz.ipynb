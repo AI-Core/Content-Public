{
 "cells": [
  {
   "attachments": {},
   "cell_type": "markdown",
   "metadata": {},
   "source": [
    "# YAML"
   ]
  },
  {
   "attachments": {},
   "cell_type": "markdown",
   "metadata": {},
   "source": [
    "## `YAML` file notation:\n",
    "\n",
    "- Requires brackets\n",
    "- Requires quotes\n",
    "- Requires commas\n",
    "- Requires all three of quotes, commas and brackets\n",
    "- None of the above ***"
   ]
  },
  {
   "attachments": {},
   "cell_type": "markdown",
   "metadata": {},
   "source": [
    "## In the `YAML` file format, you can represent list items with which symbol? \n",
    "\n",
    "- `-` ***\n",
    "- `:`\n",
    "- Using indentation\n",
    "- `'`\n",
    "- `/`"
   ]
  },
  {
   "attachments": {},
   "cell_type": "markdown",
   "metadata": {},
   "source": [
    "## What is represented in the following `YAML` snippet?\n",
    "\n",
    "``` yaml\n",
    "\n",
    "section:\n",
    "    -  section 1: hedgehog\n",
    "       section 2: worms\n",
    "    -  section 1: owl\n",
    "       section 2: mice\n",
    "```\n",
    "\n",
    "- A list\n",
    "- A dictionary\n",
    "- A list of lists\n",
    "- A list of dictionaries ***\n",
    "- A dictionary of dictionaries\n",
    "\n",
    "        "
   ]
  },
  {
   "attachments": {},
   "cell_type": "markdown",
   "metadata": {},
   "source": [
    "## What is represented in the following `YAML` snippet?\n",
    "\n",
    "```yaml\n",
    "Fish:\n",
    "    - Herring\n",
    "    - Sprat\n",
    "    - Mackerel\n",
    "    - Scad\n",
    "```\n",
    "\n",
    "- A list ***\n",
    "- A dictionary\n",
    "- A dictionary where the value is a list\n",
    "- None of the above\n"
   ]
  },
  {
   "cell_type": "markdown",
   "metadata": {},
   "source": [
    "## True or False: Multi-line strings are not supported in `YAML`.\n",
    "\n",
    "- True\n",
    "- False ***"
   ]
  },
  {
   "cell_type": "markdown",
   "metadata": {},
   "source": [
    "## True or False: You must always specify data types explicitly in `YAML`.\n",
    "\n",
    "- True\n",
    "- False ***"
   ]
  },
  {
   "cell_type": "markdown",
   "metadata": {},
   "source": [
    "## Which symbol is used to identify an instruction to the `YAML` processor?\n",
    "\n",
    "- `&`\n",
    "- `%` ***\n",
    "- `@`\n",
    "- `*`"
   ]
  },
  {
   "cell_type": "markdown",
   "metadata": {},
   "source": [
    "## Which of the following is **NOT** a valid method for forcing the `YAML` processor to interpret the value `5` as a string?\n",
    "\n",
    "- `!!str 5`\n",
    "- `\"5\"`\n",
    "- `str(5)` ***"
   ]
  },
  {
   "cell_type": "markdown",
   "metadata": {},
   "source": [
    "## Which feature of the `YAML` standard can be used to adhere to the DRY (Don't Repeat Yourself) principle?\n",
    "\n",
    "- Nesting\n",
    "- Indentation\n",
    "- Merging ***\n",
    "- Key-value pairs\n"
   ]
  }
 ],
 "metadata": {
  "language_info": {
   "name": "python"
  },
  "orig_nbformat": 4
 },
 "nbformat": 4,
 "nbformat_minor": 2
}
