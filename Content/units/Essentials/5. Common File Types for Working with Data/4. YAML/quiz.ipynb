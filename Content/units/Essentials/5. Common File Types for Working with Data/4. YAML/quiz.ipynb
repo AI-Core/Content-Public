{
 "cells": [
  {
   "attachments": {},
   "cell_type": "markdown",
   "metadata": {},
   "source": [
    "# YAML"
   ]
  },
  {
   "attachments": {},
   "cell_type": "markdown",
   "metadata": {},
   "source": [
    "## `YAML` file notation:\n",
    "\n",
    "- Requires brackets\n",
    "- Requires quotes\n",
    "- Requires commas\n",
    "- Requires all three of quotes, commas and brackets\n",
    "- None of the above ***"
   ]
  },
  {
   "attachments": {},
   "cell_type": "markdown",
   "metadata": {},
   "source": [
    "## In the `YAML` file format, you can represent list items with which symbol? \n",
    "\n",
    "- `-` ***\n",
    "- `:`\n",
    "- Using indentation\n",
    "- `'`\n",
    "- `/`"
   ]
  },
  {
   "attachments": {},
   "cell_type": "markdown",
   "metadata": {},
   "source": [
    "## What is represented in the following `YAML` snippet?\n",
    "\n",
    "``` yaml\n",
    "\n",
    "section:\n",
    "    -  section 1: hedgehog\n",
    "       section 2: worms\n",
    "    -  section 1: owl\n",
    "       section 2: mice\n",
    "```\n",
    "\n",
    "- A list\n",
    "- A dictionary\n",
    "- A list of lists\n",
    "- A list of dictionaries ***\n",
    "- A dictionary of dictionaries\n",
    "\n",
    "        "
   ]
  },
  {
   "attachments": {},
   "cell_type": "markdown",
   "metadata": {},
   "source": [
    "## True or False: The following code is a valid representation of a list of dictionaries in `YAML`.\n",
    "\n",
    "```yaml\n",
    "My_list:\n",
    "    - key1 : value 2\n",
    "    - key2 : value 2\n",
    "    - key1 : value 1\n",
    "    - key2 : value 2\n",
    "```\n",
    "- True \n",
    "- False ***"
   ]
  },
  {
   "attachments": {},
   "cell_type": "markdown",
   "metadata": {},
   "source": [
    "## What is represented in the following `YAML` snippet?\n",
    "\n",
    "```yaml\n",
    "Fish:\n",
    "    - Herring\n",
    "    - Sprat\n",
    "    - Mackerel\n",
    "    - Scad\n",
    "```\n",
    "\n",
    "- A list ***\n",
    "- A dictionary\n",
    "- A dictionary where the value is a list\n",
    "- None of the above\n"
   ]
  },
  {
   "attachments": {},
   "cell_type": "markdown",
   "metadata": {},
   "source": [
    "## Which file format is more flexible in terms of formatting?\n",
    "\n",
    "- `JSON`\n",
    "- `YAML` ***"
   ]
  }
 ],
 "metadata": {
  "language_info": {
   "name": "python"
  },
  "orig_nbformat": 4
 },
 "nbformat": 4,
 "nbformat_minor": 2
}
