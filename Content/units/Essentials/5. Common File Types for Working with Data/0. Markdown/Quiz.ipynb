{
 "cells": [
  {
   "attachments": {},
   "cell_type": "markdown",
   "metadata": {},
   "source": [
    "# Markdown"
   ]
  },
  {
   "attachments": {},
   "cell_type": "markdown",
   "metadata": {},
   "source": [
    "## How do you add an image to a Markdown file?\n",
    "\n",
    "- `[alt text for screen readers](/path/to/image.png \"Text to show on mouseover\")` ***\n",
    "- `[img](/path/to/image.png)[/img]`\n",
    "- `<img>/path/to/image.png</img>`"
   ]
  },
  {
   "attachments": {},
   "cell_type": "markdown",
   "metadata": {},
   "source": [
    "## How many levels of heading tags are there in Markdown?\n",
    "\n",
    "- One\n",
    "- Two\n",
    "- Four ***\n",
    "- As many as you want"
   ]
  },
  {
   "attachments": {},
   "cell_type": "markdown",
   "metadata": {},
   "source": [
    "## How do you add bullet points in Markdown?\n",
    "\n",
    "- The `-` symbol ***\n",
    "- The `#` symbol\n",
    "- The `%` symbol\n",
    "- The `~` symbol"
   ]
  },
  {
   "attachments": {},
   "cell_type": "markdown",
   "metadata": {},
   "source": [
    "## What does the following Markdown tag do to the word it surrounds?\n",
    "\n",
    "``` ** some text ** ```\n",
    "- It makes the text bold ***\n",
    "- It italicises the text\n",
    "- It makes the text into an H2 heading\n",
    "\n"
   ]
  },
  {
   "attachments": {},
   "cell_type": "markdown",
   "metadata": {},
   "source": [
    "## Which of the following is a valid Markdown header?\n",
    "\n",
    "-  `#Header`\n",
    "-  `## Header` ***\n",
    "-  `Header#`\n",
    "-  `Header##`\n"
   ]
  }
 ],
 "metadata": {
  "language_info": {
   "name": "python"
  },
  "orig_nbformat": 4
 },
 "nbformat": 4,
 "nbformat_minor": 2
}
