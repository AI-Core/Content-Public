{
 "cells": [
  {
   "attachments": {},
   "cell_type": "markdown",
   "metadata": {},
   "source": [
    "# Python Files and Python Notebooks"
   ]
  },
  {
   "attachments": {},
   "cell_type": "markdown",
   "metadata": {},
   "source": [
    "## If a highlighted cell in a Python Notebook is in command mode, and you hit the `A` key, what happens?\n",
    "\n",
    "- A cell is created above the current cell ***\n",
    "- All of the cells in the entire notebook run sequentially\n",
    "- Any code currently running in the cell is aborted\n",
    "- All of the code in the current cell is selected"
   ]
  },
  {
   "attachments": {},
   "cell_type": "markdown",
   "metadata": {},
   "source": [
    "## What is the keyboard shortcut for running a cell in a Jupyter Notebook?\n",
    "\n",
    "- Ctrl + Enter\n",
    "- Shift + Enter ***\n",
    "- Alt + Enter"
   ]
  },
  {
   "attachments": {},
   "cell_type": "markdown",
   "metadata": {},
   "source": [
    "## Which of the following statements are true of Python Notebooks? Select all that apply.\n",
    "\n",
    "- When you run a Python Notebook, all the code has to run at the same time\n",
    "- Every line in a Python Notebook has to be valid python\n",
    "- The file extension of a Python Notebook is `.ipynb` ***\n",
    "- In a Python Notebook, cells of Python code can be interspersed with cells of Markdown ***"
   ]
  },
  {
   "attachments": {},
   "cell_type": "markdown",
   "metadata": {},
   "source": [
    "## True or False: Everything written inside a `.py` file must be valid Python, otherwise the file will not run.\n",
    "\n",
    "- True ***\n",
    "- False"
   ]
  },
  {
   "attachments": {},
   "cell_type": "markdown",
   "metadata": {},
   "source": [
    "## What is a Python Notebook?\n",
    "- Python package used for data analysis\n",
    "-  A kind of Python file used for creating and sharing documents that contain live code, equations, visualizations, and narrative text ***\n",
    "-  A Python module used for creating GUI applications"
   ]
  }
 ],
 "metadata": {
  "language_info": {
   "name": "python"
  },
  "orig_nbformat": 4
 },
 "nbformat": 4,
 "nbformat_minor": 2
}
