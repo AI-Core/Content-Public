{
 "cells": [
  {
   "attachments": {},
   "cell_type": "markdown",
   "metadata": {},
   "source": [
    "# HTML"
   ]
  },
  {
   "attachments": {},
   "cell_type": "markdown",
   "metadata": {},
   "source": [
    "## Which tag must be included in every `HTML` file?\n",
    "\n",
    "- `<HTML>` tag ***\n",
    "- `<Body>` tag\n",
    "- `<br>` tag\n",
    "- `<div>` tag"
   ]
  },
  {
   "attachments": {},
   "cell_type": "markdown",
   "metadata": {},
   "source": [
    "## What does the `<Head>` tag contain in an `HTML` file?\n",
    "\n",
    "- The document heading\n",
    "- The metadata information ***\n",
    "- The first paragraph\n",
    "- It doesn't contain any data"
   ]
  },
  {
   "attachments": {},
   "cell_type": "markdown",
   "metadata": {},
   "source": [
    "## In `HTML`, `id` and `class` are example of which feature?\n",
    "\n",
    "- Tags\n",
    "- Arguments\n",
    "- Attributes ***\n",
    "- Conditions"
   ]
  },
  {
   "attachments": {},
   "cell_type": "markdown",
   "metadata": {},
   "source": [
    "## Which tag is used to define a table in `HTML`?\n",
    "\n",
    "- `<table>` ***\n",
    "- `<tr>`\n",
    "- `<td>`\n",
    "- `<tb>`\n"
   ]
  },
  {
   "cell_type": "markdown",
   "metadata": {},
   "source": []
  }
 ],
 "metadata": {
  "language_info": {
   "name": "python"
  },
  "orig_nbformat": 4
 },
 "nbformat": 4,
 "nbformat_minor": 2
}
