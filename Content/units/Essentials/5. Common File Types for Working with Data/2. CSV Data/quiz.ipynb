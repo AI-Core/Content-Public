{
 "cells": [
  {
   "attachments": {},
   "cell_type": "markdown",
   "metadata": {},
   "source": [
    "# CSV Files"
   ]
  },
  {
   "attachments": {},
   "cell_type": "markdown",
   "metadata": {},
   "source": [
    "## A `CSV` file is an example of:\n",
    "\n",
    "- Structured data ***\n",
    "- Unstructured data \n",
    "- Complete data \n",
    "- Complex data \n",
    "- Hard data "
   ]
  },
  {
   "attachments": {},
   "cell_type": "markdown",
   "metadata": {},
   "source": [
    "## `CSV` files are commonly used for storing which kind of document?\n",
    "\n",
    "- Rich text documents\n",
    "- Spreadsheets ***\n",
    "- Raw text files\n",
    "- Dictionaries"
   ]
  },
  {
   "attachments": {},
   "cell_type": "markdown",
   "metadata": {},
   "source": [
    "## What does \"`CSV`\" stand for?\n",
    "\n",
    "- Code Separated Variable\n",
    "- Comma Separated Values ***\n",
    "- Colon Separated Values\n",
    "- Common Standard Values"
   ]
  },
  {
   "attachments": {},
   "cell_type": "markdown",
   "metadata": {},
   "source": [
    "## In a `CSV` file format, the `,` delimiter is used to separate the:\n",
    "\n",
    "- Rows\n",
    "- Columns ***"
   ]
  },
  {
   "attachments": {},
   "cell_type": "markdown",
   "metadata": {},
   "source": [
    "## How is the first row of a typical `CSV` file different from the other rows?\n",
    "\n",
    "- It contains the names of the column headings ***\n",
    "- It contains metadata about the line delimiters\n",
    "- It contains metadata about the column separators\n",
    "- It is always blank\n",
    "- It contains metadata about the number of columns and rows"
   ]
  }
 ],
 "metadata": {
  "language_info": {
   "name": "python"
  },
  "orig_nbformat": 4
 },
 "nbformat": 4,
 "nbformat_minor": 2
}
