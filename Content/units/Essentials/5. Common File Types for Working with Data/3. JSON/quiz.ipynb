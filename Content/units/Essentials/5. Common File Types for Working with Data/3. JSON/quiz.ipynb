{
 "cells": [
  {
   "attachments": {},
   "cell_type": "markdown",
   "metadata": {},
   "source": [
    "# JSON "
   ]
  },
  {
   "attachments": {},
   "cell_type": "markdown",
   "metadata": {},
   "source": [
    "## When reading `JSON` data into Python, it is usually stored in which variable type?\n",
    "\n",
    "- `List` \n",
    "- `Tuple` \n",
    "- `String` \n",
    "- `Dictionary` ***\n",
    "- `Scalar` \n"
   ]
  },
  {
   "attachments": {},
   "cell_type": "markdown",
   "metadata": {},
   "source": [
    "## Which of the following is true of `JSON` files:\n",
    "\n",
    "- `JSON` files can store any kind of data\n",
    "- `JSON` files can only store text data\n",
    "- `JSON` files can store any kind of serialisable data ***\n",
    "- `JSON` files must always have at least one key-value pair\n",
    "- `JSON` files can only store unstructured data"
   ]
  },
  {
   "attachments": {},
   "cell_type": "markdown",
   "metadata": {},
   "source": [
    "## In order to store data in a `JSON` file, what must be done to it?\n",
    "\n",
    "- It must be encoded in binary \n",
    "- It must be serialised ***\n",
    "- It must be parallelised \n",
    "- It must be structured \n",
    "- It must be made into tabular data \n",
    "\n"
   ]
  },
  {
   "attachments": {},
   "cell_type": "markdown",
   "metadata": {},
   "source": [
    "## What is the maximum depth of nesting for `JSON` objects?\n",
    "\n",
    "- 10\n",
    "- 50\n",
    "- 100\n",
    "- There is no maximum depth of nesting ***\n",
    "- `JSON` does not support nesting"
   ]
  },
  {
   "attachments": {},
   "cell_type": "markdown",
   "metadata": {},
   "source": [
    "## True or False: If a file is a valid `JSON` file, it is also automatically a valid `YAML` file.\n",
    "\n",
    "- True ***\n",
    "- False"
   ]
  },
  {
   "attachments": {},
   "cell_type": "markdown",
   "metadata": {},
   "source": [
    "## `JSON` files are most often used to store which type of data?\n",
    "\n",
    "- Key-value pair data such as a python dictionary ***\n",
    "- Unstructured data\n",
    "- Tabular data such as a spreadsheet\n",
    "- Image data"
   ]
  },
  {
   "attachments": {},
   "cell_type": "markdown",
   "metadata": {},
   "source": [
    "## What is the term for converting some data into a sequence of characters so that it can be stored in a `JSON`?\n",
    "\n",
    "- Serialisation ***\n",
    "- Parallelisation\n",
    "- Characterisation\n",
    "- Binary encoding"
   ]
  }
 ],
 "metadata": {
  "language_info": {
   "name": "python"
  },
  "orig_nbformat": 4
 },
 "nbformat": 4,
 "nbformat_minor": 2
}
