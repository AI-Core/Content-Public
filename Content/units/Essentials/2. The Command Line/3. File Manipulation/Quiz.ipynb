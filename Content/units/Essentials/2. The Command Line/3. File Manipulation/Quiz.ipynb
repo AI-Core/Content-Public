{
 "cells": [
  {
   "attachments": {},
   "cell_type": "markdown",
   "metadata": {},
   "source": [
    "# File Manipulation"
   ]
  },
  {
   "attachments": {},
   "cell_type": "markdown",
   "metadata": {},
   "source": [
    "## True or False, you can use most Unix-type shell commands on Powershell, as they are default aliases for the equivalent commands\n",
    "\n",
    "- True ***\n",
    "- False"
   ]
  },
  {
   "attachments": {},
   "cell_type": "markdown",
   "metadata": {},
   "source": [
    "## On Unix systems, which of the following commands lists the contents of a directory?\n",
    "- `pwd`\n",
    "- `printdir`\n",
    "- `ls` ***\n",
    "- `items`\n",
    "- `dir`\n"
   ]
  },
  {
   "attachments": {},
   "cell_type": "markdown",
   "metadata": {},
   "source": [
    "## I have a directory called `my_dir_1` that contains another called `my_dir_2`. Which of the following commands will successfully delete `my_dir_1`, if I am in its parent directory\n",
    "\n",
    "- `rm my_dir_1`\n",
    "- `rm \"my_dir_1\"`\n",
    "- `rm -r \"my_dir_1\"`\n",
    "- `rm -r my_dir_1` ***\n",
    "- `all of the above`"
   ]
  },
  {
   "attachments": {},
   "cell_type": "markdown",
   "metadata": {},
   "source": [
    "## Which of the following commands can be used to display a webpage in a Unix Terminal window?\n",
    "\n",
    "- `wdl`\n",
    "- `curl` ***\n",
    "- `rurl`\n",
    "- `wread`"
   ]
  },
  {
   "attachments": {},
   "cell_type": "markdown",
   "metadata": {},
   "source": [
    "## Which of the following is true of the `cat` command? Select all that apply\n",
    "\n",
    "- It can be used to join the contents of two or more files together ***\n",
    "- It can be used to read the contents of a single file and display it on the terminal ***\n",
    "- It can be used to rename a file\n",
    "- It can be used to delete a file\n",
    "- It can be used to split a file based on a delimiter"
   ]
  },
  {
   "attachments": {},
   "cell_type": "markdown",
   "metadata": {},
   "source": []
  }
 ],
 "metadata": {
  "language_info": {
   "name": "python"
  },
  "orig_nbformat": 4
 },
 "nbformat": 4,
 "nbformat_minor": 2
}
