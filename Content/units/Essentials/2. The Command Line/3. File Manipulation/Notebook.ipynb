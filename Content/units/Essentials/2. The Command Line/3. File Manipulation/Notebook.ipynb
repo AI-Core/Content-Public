{
 "cells": [
  {
   "attachments": {},
   "cell_type": "markdown",
   "metadata": {},
   "source": [
    "# File Manipulation"
   ]
  },
  {
   "attachments": {},
   "cell_type": "markdown",
   "metadata": {},
   "source": [
    "## Motivation\n",
    "\n",
    "Why would you want to learn about manipulating files in the command line? \n",
    "\n",
    "- **Easy navigation**: It will allow you to quickly navigate around your computer's folders and files\n",
    "- **Quick file handling**: Creating files and directories is often faster and simpler with the command line\n",
    "- **Accurate file copying**: Copying files from one place to another is more precise and less likely to lead to mistakes when done through the command line\n",
    "- **Automation made easy**: The command line allows you to automate tasks like creating, moving, and deleting files, making your work more efficient"
   ]
  },
  {
   "attachments": {},
   "cell_type": "markdown",
   "metadata": {},
   "source": [
    "## Creating Files\n",
    "\n",
    "To create a file using the command line, we use the `touch` command, followed by the desired filename. \n",
    "\n",
    "This command is actually for updating the timestamp at which a file was last accessed or modified. It sets the timestamps to the current time, or to a specific time if one is provided as an argument. \n",
    "\n",
    "> While that is its primary function, it is also a convenient way to create a new file, as if `touch` is asked to update the timestamp of a non-existent file, it solves the issue by creating the file!\n",
    "\n",
    "<p align=\"center\">\n",
    "    <img src=\"images/touch.gif\"  width=\"500\"/>\n",
    "</p>\n",
    "\n"
   ]
  },
  {
   "attachments": {},
   "cell_type": "markdown",
   "metadata": {},
   "source": [
    "## Creating Folders\n",
    "\n",
    "New folders can be created in Bash or Zsh using the `mkdir` command, followed by the folder name. You can even create multiple directories at once and set permissions for them. \n",
    "\n",
    "A useful feature of `mkdir` is the `-p` (parents) option, which allows you to create nested directories in a single command, automatically creating any parent directories as needed. For instance, `mkdir -p dir1/dir2/dir3` will create `dir1`, `dir2` inside `dir1`, and `dir3` inside `dir2`. Without the `-p` option, this command would fail if `dir1` or `dir2` did not already exist. \n",
    "\n",
    "As with any Unix command, you can find out more about the options for `mkdir` by typing `man mkdir`.\n",
    "\n",
    "<p align=\"center\">\n",
    "    <img src=\"images/mkdir.gif\"  width=\"500\"/>\n",
    "</p>\n",
    "\n"
   ]
  },
  {
   "attachments": {},
   "cell_type": "markdown",
   "metadata": {},
   "source": [
    "## Deleting Files and Folders\n",
    "\n",
    "\n",
    "### Unix-Based CLI\n",
    "In a Bash / Zsh CLI, you can delete files and folders using the `rm` command, followed by the name of the file eg:\n",
    "\n",
    "`rm my_file.txt`\n",
    "\n",
    "> However this will not work for directories. If you are trying to delete a directory (even an empty one), then you will need to use the `-r` or `-R` option with `rm`. The `-r` here stands for `recursive`, in the sense that it will perform the `rm` operation for each item inside the directory structure you point it to, meaning it will not only delete the directory but all the files contained within that directory.\n",
    "\n",
    "<p align=\"center\">\n",
    "    <img src=\"images/rm_r.gif\"  width=\"500\"/>\n",
    "</p>\n",
    "\n",
    "If a directory is empty you can also remove it with the `rmdir` command. This command will only work if the folder is completely empty. If the folder contains any files or subdirectories, the `rmdir` command will fail with a message saying `Directory not empty`.\n",
    "\n",
    "### Take Care with the `rm` Command!\n",
    "\n",
    "A word of warning about deleting files inside a CLI. The Command Line is aimed at advanced users, who are assumed to know what they are doing! Unlike with an operating system's GUI, the files **do not** go to a `recycle bin` or similar. They are deleted permanently, and cannot be recovered without significant effort. There are some tools that might be able to recover your data, but this is well beyond the scope of normal command line function. \n",
    "\n",
    "With the command line, you have a considerable amount of power, but with that power comes a lot of responsibility. As an illustration, performing the command:\n",
    "\n",
    "`rm -r *` in the `root` directory of a Linux machine would wipe the entire directory structure! As we already know, `-r` gives `rm` the power to move recursively through the directory structure, and `*` is a *wildcard* character, which tells it to match *all* files that it finds.\n"
   ]
  },
  {
   "attachments": {},
   "cell_type": "markdown",
   "metadata": {},
   "source": [
    "## Moving Files and Folders\n",
    "\n",
    "\n",
    "In Bash / Zsh, the commands for moving and copying files are `mv` (move) and `cp` (copy), respectively. The `mv` command is used to move or rename files and directories within the filesystem, while the `cp` command is used to copy files from one location to another.\n",
    "\n",
    "The syntax for both is similar: the command,  then the path for the source location of the file you want to move and then the path for the destination location. For example:\n",
    "\n",
    "```bash\n",
    "mv parent_directory/folder_1/my_textfile.txt parent_directory/folder_2\n",
    "```\n",
    "\n",
    "Would move the file `my_textfile.txt` from `folder_1` to `folder_2`, if called while in `parent_directory`. If in any other folder, the absolute path of both the source and destination would need to be used instead.\n",
    "\n",
    "<p align=\"center\">\n",
    "    <img src=\"images/mv_command.gif\"  width=\"500\"/>\n",
    "</p>\n",
    "\n",
    "You can also use `mv` to rename a file, by setting the destination as a new filename, providing that name does not already exist.\n",
    "If the destination is a filename that doesn't exist, it effectively renames the file. \n",
    "\n",
    "The `cp` command is used to make copies of files and directories. The basic usage is `cp source destination`, which creates a copy of the source file in the destination location. To copy directories, you must include the `-r`  option, which tells `cp` to copy the directories recursively, meaning that it includes all subdirectories and their contents. \n",
    "\n",
    "For instance, `cp -r source-dir destination-dir` will create a copy of the source directory and all its contents in the destination directory."
   ]
  },
  {
   "attachments": {},
   "cell_type": "markdown",
   "metadata": {},
   "source": [
    "## Locating Files\n",
    "\n",
    "You can find a file using the `find` command. For example, to search for a file called `myfile.txt` inside the `Documents` folder and its subdirectories, you would use the command:\n",
    "\n",
    "`find Documents -name myfile.txt`\n",
    "\n",
    "It will then return the correct path for the file of that name, provided that it exists.\n",
    "\n",
    "<p align=\"center\">\n",
    "    <img src=\"images/find_gif.gif\"  width=\"500\"/>\n",
    "</p>\n",
    "\n",
    "\n",
    "\n"
   ]
  },
  {
   "attachments": {},
   "cell_type": "markdown",
   "metadata": {},
   "source": [
    "## Downloading Files from the Internet\n",
    "\n",
    "On Unix systems, the `curl` command is used to download files from the internet. It supports a wide range of protocols including HTTP, HTTPS, and FTP. To download a remote file to a local file, you can use `curl` with the `-O` option followed by the URL of the file you want to download.\n",
    "\n",
    "For example:\n",
    "\n",
    "`curl -O http://example.com/file.txt`\n",
    "\n",
    "will download the file `file.txt` from `example.com` and save it in the current directory. If you want to save the file with a different name, you can use the `-o`  option followed by the desired file name, like so:\n",
    "\n",
    "`curl -o newfile.txt http://example.com/file.txt`\n",
    " \n",
    "By default, curl only outputs the downloaded data to the terminal, so the `-O` or `-o` option is essential when you want to save the data to a file.\n"
   ]
  },
  {
   "attachments": {},
   "cell_type": "markdown",
   "metadata": {},
   "source": [
    "## Viewing File Contents\n",
    "\n",
    "To view a text file's contents on a Unix system, you can use the `cat` command. In Unix, `cat` stands for \"concatenate,\" which means it can be used to display the contents of multiple files combined. However, `cat` is also handy for simply viewing the contents of a single file. When used with a single file, `cat` acts as a convenient way to display its contents directly in the terminal.\n",
    "\n",
    "<p align=\"center\">\n",
    "    <img src=\"images/cat.gif\"  width=\"500\"/>\n",
    "</p>"
   ]
  },
  {
   "attachments": {},
   "cell_type": "markdown",
   "metadata": {},
   "source": [
    "## Key Takeaways\n",
    "\n",
    "\n",
    "- You can create files using the `touch` command\n",
    "- You can make directories using the `mkdir` command\n",
    "- You can remove files or folders using the `rm` command\n",
    "- The `mv` and `cp` commands are used to move and copy files and folders\n",
    "- You can locate files inside your directory structure using the `find` command\n",
    "- To view the contents of a file in the terminal, you can use the `cat` command"
   ]
  }
 ],
 "metadata": {
  "language_info": {
   "name": "python"
  }
 },
 "nbformat": 4,
 "nbformat_minor": 2
}
