{
 "cells": [
  {
   "attachments": {},
   "cell_type": "markdown",
   "metadata": {},
   "source": [
    "# Terminal Customisation\n",
    "\n",
    "In the previous lessons we have gained an understanding of what the command line is, and how to use it to manipulate and edit files. In the next lessons we will look at some of the more advanced features. "
   ]
  },
  {
   "attachments": {},
   "cell_type": "markdown",
   "metadata": {},
   "source": [
    "## Motivation\n",
    "\n",
    "This lesson is about customising the appearance and default behaviour of your terminal. This will allow you to:\n",
    "\n",
    "- **Get Things Done Faster**: Customising your terminal helps you complete tasks more quickly\n",
    "\n",
    "- **Customize to Your Liking**: Personalize your command line experience. You can create shortcuts, define custom commands, and change the appearance and colour scheme of your terminal and command prompt."
   ]
  },
  {
   "attachments": {},
   "cell_type": "markdown",
   "metadata": {},
   "source": [
    "## Terminal Shortcuts\n",
    "\n",
    "You can become much faster at entering commands into the terminal by using the following keyboard shortcuts:\n",
    "\n",
    "- `Up arrow ` : Scroll back through the history of the commands you have run. `Ctrl P` does the same\n",
    "- `Down arrow` : Scroll forward through the command history. `Ctrl + N` has the same effect\n",
    "- `Left arrow` and `right arrow` or `CTRL + B` and `CTRL + F` : Move left and right on a current line\n",
    "- `TAB` : Attempts to autocomplete the current command. If you use cd and hit `TAB`, available directories will pop up\n",
    "- `Ctrl + C` : Breaks out of a command or process that is currently running on the terminal\n",
    "- `Ctrl + Z` : Suspends a program that is running in the terminal and returns you control of the shell. It will not terminate, but will remain in a list of background processes which can be reactivated at a later date.\n",
    "- `Ctrl + L` : Clears the terminal screen. Equivalent to typing `clear`"
   ]
  },
  {
   "attachments": {},
   "cell_type": "markdown",
   "metadata": {},
   "source": [
    "## Login Scripts and Customising the Terminal\n",
    "\n",
    "> *Login scripts* are used to customise your environment when logging in or opening a terminal on a Unix or Linux machine. You can use them to run commands that you wish to run every time you open a terminal window. The login script runs every time you open a new instance of the shell. It is a hidden configuration file located in the user's home directory (`~/.bashrc` for Bash or `~/.zshrc` for Zsh).\n",
    "\n",
    "To edit your login script, simply use the command:\n",
    "\n",
    "```bash\n",
    "nano ~/.bashrc\n",
    "```\n",
    "\n",
    "Make your changes, and then save the results.\n",
    "\n",
    "This script can contain various types of instructions, some examples of which are detailed below:\n",
    "\n",
    "### Defining or Modifying Environment Variables\n",
    "\n",
    "> *Environment variables* modify the behaviour of different programs. They provide a simple way to share configuration settings between multiple applications and processes in an operating system.\n",
    "\n",
    "An example of an environment variable which you might need to define inside your login script is the `$PATH` variable,which determines the directories in which the shell looks for executable files. These directories contain programs or scripts that can be run directly from the command line. \n",
    "\n",
    "You can view your environment variable in the terminal window using the command `echo $PATH`.\n",
    "\n",
    "<p align=\"center\">\n",
    "    <img src=\"images/echo_path.gif\"  width=\"500\"/>\n",
    "</p>\n",
    "\n",
    "You will see a series of directories that contain the different programs you tend to run, separated by colons. \n",
    "\n",
    "As an example, to add a new directory `/location/of/the/file` to your `$PATH` variable, you can use:\n",
    "\n",
    "```bash\n",
    "`export PATH=$PATH:/location/of/the/file`\n",
    "```\n",
    "\n",
    "Adding this line to your `~/.bashrc` or `~/.zshrc` file will make sure that the relevant path is always available when you start a terminal window.\n"
   ]
  },
  {
   "attachments": {},
   "cell_type": "markdown",
   "metadata": {},
   "source": [
    "As well as editing your `$PATH` variable, you can also create your own environment variables. For example if you needed to reference a URL frequently you could create a variable called `MY_URL`:\n",
    "\n",
    "<p align=\"center\">\n",
    "    <img src=\"images/set_path.gif\"  width=\"500\"/>\n",
    "</p>"
   ]
  },
  {
   "attachments": {},
   "cell_type": "markdown",
   "metadata": {},
   "source": [
    "### Setting the Command Prompt appearance via the `PS1` variable\n",
    "\n",
    "> The `PS1` environment variable in a Unix-like shell defines the layout and style of the command prompt. It can include special escape sequences that insert various pieces of data (like the current user, the hostname, or the current directory), and it can also include colour codes to add some visual flair.\n",
    "\n",
    "Here's a simple example of how to change your prompt in Bash:\n",
    "\n",
    "```bash\n",
    "export PS1=\"\\u@\\h:\\w\\$ \"\n",
    "```\n",
    "\n",
    "After running this command, your prompt will show your username, followed by an at sign (`@`), the hostname, a colon (`:`), the current working directory (`\\w`), and a dollar sign (`$`). This [link](https://www.gnu.org/software/bash/manual/html_node/Controlling-the-Prompt.html) contains a list of the available special characters you can use.\n",
    "\n",
    "You can also change the prompt string colours by inserting the ANSI escape sequence `\\[\\033[XX;YYm\\]`, where `XX` corresponds to the numeric value of the text style, and `YY` corresponds to the colour code.\n",
    "\n",
    "For example:\n",
    "\n",
    "```bash\n",
    "export PS1=\"\\[\\033[01;32m\\]\\u@\\h\\[\\033[00m\\]:\\[\\033[01;34m\\]\\w\\[\\033[00m\\]\\$ \"\n",
    "```\n",
    "Would change your username and hostname to bright green (`01;32`) , and your current directory to bright blue (`01;34`). The `\\[\\033[00m\\]` sequence resets the prompt colour back to default.\n",
    "\n",
    "<p align=\"center\">\n",
    "    <img src=\"images/change_term.gif\"  width=\"500\"/>\n",
    "</p>\n",
    "\n",
    "**NOTE:** The above example is specifically for Bash terminals. The procedure is different for zsh terminals, where the syntax for the various escape characters is different. You can use this handy [generator](https://zsh-prompt-generator.site/) to see how different features can be added to your prompt, and you can read a full list of the possible escape characters in the [docs](https://zsh-manual.netlify.app/prompt-expansion).\n"
   ]
  },
  {
   "attachments": {},
   "cell_type": "markdown",
   "metadata": {},
   "source": [
    "\n",
    "### Aliases\n",
    "\n",
    "> *Aliases* are shortcuts or abbreviations for a command or a series of commands. They are useful for creating custom commands, simplifying complex commands, or automating repetitive tasks.\n",
    "\n",
    "You define an alias with the `alias` command followed by the name of the alias you want to create, and then the command or commands you want that alias to execute.\n",
    "\n",
    "```bash\n",
    "alias NAME_OF_ALIAS='COMMAND'\n",
    "```\n",
    "\n",
    "As an example, the command `ls` usually only reveals non-hidden files. You can modify it to list the hidden files as well using the `-a` flag. You can use the `alias` command to change the behaviour of `ls` so that it lists hidden files by default, using the following code:\n",
    "\n",
    "```bash\n",
    "alias ls=\"ls -a\"\n",
    "```\n",
    "Alternatively you can create a shortcut for a complex command. For example, if you wanted to quickly create a backup of an important file on a regular basis, you could use the following command:\n",
    "\n",
    "```bash \n",
    "alias backup=\"cp ~/importantfile.txt ~/backup/ && echo 'Backup successful'\"\n",
    "```\n",
    "This would copy the file `~/importantfile.txt` to the directory `~/backup/` and then print the string `Backup successful` to the terminal.\n",
    "\n",
    "> Aliases only persist for the terminal session you are in, so to have access to them on every session, you can add them to your login script.\n",
    "\n",
    "Below is a list of some ideas for useful aliases:\n",
    "\n",
    "- `alias ~='cd ~'` - use `~` to move directly to `$HOME` directory\n",
    "- `alias ..='cd ..'` - use `..` to move one directory up\n",
    "- `alias ...='cd ../..'` - use `...` to move two directories up\n",
    "- `alias c='clear'` - use `c` to clear output of the terminal\n",
    "- `alias cl='clear;ls'` - clear and list files immediately\n",
    "- `alias mv='mv -v'` - tell what happened after move operation\n",
    "- `alias cp='cp -v'` - verbose copy (like above)\n",
    "- `alias rm='rm -vi'` - `v`erbose and `i`nteractive (will ask are you sure to remove the file)\n",
    "- `alias reload='source ~/.bashrc'` - after changing anything in `.bashrc` and running this command, new settings will be immediately available\n",
    "- `alias sudo='sudo '` - yes, the whitespace is there; this allows you to run `sudo` (escalated privileges, like admin) with any alias you've defined\n",
    "- `alias ls='ls -AlhF --color=auto' ` - cooler `ls` :D"
   ]
  },
  {
   "attachments": {},
   "cell_type": "markdown",
   "metadata": {},
   "source": [
    "## Key Takeaways\n",
    "- *Login scripts* like `~/.bashrc` are hidden configuration files in a user's home directory that customize the environment and run predefined commands. They are executed every time you open a terminal\n",
    "- The `$PATH` environment variable determines the directories in which the CLI looks for executable files\n",
    "- The `PS1` environment variable (Bash)  or either `PS1` or `PROMPT` (Zsh) defines the layout and style of the command prompt\n",
    "- *Aliases* are shortcuts or abbreviations for a series of commands that can be used to make custom commands\n"
   ]
  }
 ],
 "metadata": {
  "language_info": {
   "name": "python"
  }
 },
 "nbformat": 4,
 "nbformat_minor": 2
}
