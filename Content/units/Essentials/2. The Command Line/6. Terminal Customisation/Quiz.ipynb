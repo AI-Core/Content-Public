{
 "cells": [
  {
   "attachments": {},
   "cell_type": "markdown",
   "metadata": {},
   "source": [
    "# Terminal Customisation"
   ]
  },
  {
   "attachments": {},
   "cell_type": "markdown",
   "metadata": {},
   "source": [
    "## What does the 'Up arrow' keyboard shortcut do in a terminal?\n",
    "\n",
    "- Scroll back through the history of the commands you have run ***\n",
    "- Scroll forward through the command history\n",
    "- Clear the terminal screen\n",
    "- Break out of a command or process that is currently running"
   ]
  },
  {
   "attachments": {},
   "cell_type": "markdown",
   "metadata": {},
   "source": [
    "## Which keyboard shortcut attempts to autocomplete the current command in the terminal?\n",
    "\n",
    "- Ctrl + Z\n",
    "- Ctrl + L\n",
    "- Ctrl + C\n",
    "- TAB ***\n",
    "- Down arrow"
   ]
  },
  {
   "attachments": {},
   "cell_type": "markdown",
   "metadata": {},
   "source": [
    "## What is the equivalent function to typing 'clear' in the terminal?\n",
    "\n",
    "- `Ctrl + C`\n",
    "- `Ctrl + Z`\n",
    "- `Ctrl + L` ***\n",
    "- `TAB`\n",
    "- `Up arrow`"
   ]
  },
  {
   "attachments": {},
   "cell_type": "markdown",
   "metadata": {},
   "source": [
    "## How can you add a new directory to your $PATH variable in your login script?\n",
    "\n",
    "- `echo PATH=$PATH:/location/of/the/file`\n",
    "- `add PATH=$PATH:/location/of/the/file`\n",
    "- `include PATH=$PATH:/location/of/the/file`\n",
    "- `export PATH=$PATH:/location/of/the/file` ***\n",
    "- `set PATH=$PATH:/location/of/the/file`"
   ]
  },
  {
   "attachments": {},
   "cell_type": "markdown",
   "metadata": {},
   "source": [
    "## What is an alias?\n",
    "\n",
    "- A way to rename a file permanently\n",
    "- A shortcut or abbreviation for a command or series of commands ***\n",
    "- A way to create a symbolic link to another file\n",
    "- A unique identifier for a file\n"
   ]
  },
  {
   "attachments": {},
   "cell_type": "markdown",
   "metadata": {},
   "source": [
    "## How can you make a Bash alias persist across all terminal sessions?\n",
    "\n",
    "- By adding it to the `.bashrc` file ***\n",
    "- By adding it to the `.bash_aliases` file\n",
    "- By adding it to the `.bash_profile` file\n",
    "- By adding it to the `.profile `file\n",
    "- By adding it to the `.bash_history` file"
   ]
  },
  {
   "attachments": {},
   "cell_type": "markdown",
   "metadata": {},
   "source": [
    "## In Unix-like systems, what is the name of the environment variable that tells the shell where to look for executable programs?\n",
    "\n",
    "- `$PATH` ***\n",
    "- `$PROGRAMS`\n",
    "- `$EXEC`\n",
    "- `$EXECPATH`\n",
    "- `$PWD`\n"
   ]
  },
  {
   "attachments": {},
   "cell_type": "markdown",
   "metadata": {},
   "source": []
  }
 ],
 "metadata": {
  "language_info": {
   "name": "python"
  },
  "orig_nbformat": 4
 },
 "nbformat": 4,
 "nbformat_minor": 2
}
