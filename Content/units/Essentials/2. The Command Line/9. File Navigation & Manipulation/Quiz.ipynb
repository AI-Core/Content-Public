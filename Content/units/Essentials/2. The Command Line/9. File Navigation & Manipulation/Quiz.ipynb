{
 "cells": [
  {
   "attachments": {},
   "cell_type": "markdown",
   "metadata": {},
   "source": [
    "# File Navigation and Manipulation"
   ]
  },
  {
   "attachments": {},
   "cell_type": "markdown",
   "metadata": {},
   "source": [
    "## On Unix systems, which of the following commands lists the contents of a directory?\n",
    "- `pwd`\n",
    "- `printdir`\n",
    "- `ls` ***\n",
    "- `items`\n",
    "- `dir`"
   ]
  },
  {
   "attachments": {},
   "cell_type": "markdown",
   "metadata": {},
   "source": [
    "## True or False, you can use most Unix-type shell commands on Powershell, as they are default aliases for the equivalent commands\n",
    "\n",
    "- True ***\n",
    "- False"
   ]
  },
  {
   "attachments": {},
   "cell_type": "markdown",
   "metadata": {},
   "source": [
    "## Given the File Structure `home/user/user1/documents`, which of the following is true? Select all that apply\n",
    "\n",
    "- The path `user1/documents` would be the relative path to the `documents` folder if you were in the `home` folder.\n",
    "- The path `documents` would be a valid relative path to the `documents` folder from the `user1` folder ***\n",
    "- The path `..` from `user1` would refer to the `home` folder\n",
    "- The path `..` from `user1` would refer to the "
   ]
  }
 ],
 "metadata": {
  "language_info": {
   "name": "python"
  },
  "orig_nbformat": 4
 },
 "nbformat": 4,
 "nbformat_minor": 2
}
