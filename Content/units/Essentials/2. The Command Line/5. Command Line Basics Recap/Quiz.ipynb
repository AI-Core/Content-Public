{
 "cells": [
  {
   "attachments": {},
   "cell_type": "markdown",
   "metadata": {},
   "source": [
    "# Command Line Basics Recap"
   ]
  },
  {
   "attachments": {},
   "cell_type": "markdown",
   "metadata": {},
   "source": [
    "## What is the `cat` command used for?\n",
    "\n",
    "- Displaying the contents of a file on the terminal\n",
    "- Creating a new file in the current directory\n",
    "- Renaming a file or directory\n",
    "- It is designed for concatenating files together, but if only one file is given can also be used for showing the contents of a file ***\n",
    "- It disconnects the mouse"
   ]
  },
  {
   "attachments": {},
   "cell_type": "markdown",
   "metadata": {},
   "source": [
    "## What does the `touch` command do in the command line interface?\n",
    "\n",
    "- Creates a new directory\n",
    "- Creates a new file\n",
    "- Updates the modification time of a file or creates a new empty file ***\n",
    "- Searches for a file or directory within the file system"
   ]
  },
  {
   "attachments": {},
   "cell_type": "markdown",
   "metadata": {},
   "source": [
    "## Which of the following code snippets correctly creates a new directory called `\"my_folder\"` ?\n",
    "\n",
    "- `mkdir my_folder` ***\n",
    "- `mkdir -p my_folder`\n",
    "- `mkdir --dir my_folder`\n",
    "- `mkdir /my_folder`"
   ]
  },
  {
   "attachments": {},
   "cell_type": "markdown",
   "metadata": {},
   "source": [
    "## What does the `pwd` command do in the command line interface?\n",
    "\n",
    "- Lists the contents of a directory\n",
    "- Creates a new directory\n",
    "- Deletes a file or directory\n",
    "- Prints the current working directory ***"
   ]
  },
  {
   "attachments": {},
   "cell_type": "markdown",
   "metadata": {},
   "source": [
    "## Which of the following code snippets correctly changes the current directory to `\"my_folder\"` using the `cd `command?\n",
    "\n",
    "- `cd my_folder` ***\n",
    "- `cd /my_folder`\n",
    "- `cd ./my_folder`\n",
    "- `cd ~/my_folder`"
   ]
  },
  {
   "attachments": {},
   "cell_type": "markdown",
   "metadata": {},
   "source": [
    "## Suppose your current working directory is `/home/user1`, and you want to navigate to the `Documents` directory located in `/home/user2`. Which of the following code snippets correctly navigates to the `Documents` directory?\n",
    "\n",
    "- `cd /user2/Documents`\n",
    "- `cd ../user2/Documents` ***\n",
    "- `cd ~/user2/Documents`\n",
    "- `cd ../../user2/Documents`"
   ]
  },
  {
   "attachments": {},
   "cell_type": "markdown",
   "metadata": {},
   "source": [
    "## What is the purpose of the `-a` option in the `ls` command?\n",
    "\n",
    "- To display hidden files and directories ***\n",
    "- To sort files and directories alphabetically\n",
    "- To display files and directories in long format\n",
    "- To display the last modified date and time of files and directories\n"
   ]
  },
  {
   "attachments": {},
   "cell_type": "markdown",
   "metadata": {},
   "source": [
    "## Which command will rename the file `oldfile.txt` to `newfile.txt`?\n",
    "\n",
    "- `mv oldfile.txt newfile.txt` ***\n",
    "- `mv newfile.txt oldfile.txt`\n",
    "- `mv oldfile.txt/ newfile.txt/`\n",
    "- `mv oldfile.txt newfile.txt/`"
   ]
  },
  {
   "attachments": {},
   "cell_type": "markdown",
   "metadata": {},
   "source": [
    "## Which command will move the file `example.txt` from the current directory to the directory `/home/user/documents/` while renaming it to `new-example.txt`?\n",
    "\n",
    "- `mv example.txt /home/user/documents/new-example.txt` ***\n",
    "- `mv example.txt /home/user/documents/ -n new-example.txt`\n",
    "- `mv example.txt /home/user/documents/ -r new-example.txt`\n",
    "- `mv example.txt /home/user/documents/ --rename new-example.txt`"
   ]
  },
  {
   "attachments": {},
   "cell_type": "markdown",
   "metadata": {},
   "source": [
    "## Which command will copy the file `file1.txt` to `file2.txt` in the same directory using the `cp` command?\n",
    "\n",
    "- `cp file1.txt file2.txt` ***\n",
    "- `cp file2.txt file1.txt`\n",
    "- `cp file1.txt ./file2.txt`\n",
    "- `cp ./file1.txt file2.txt`"
   ]
  },
  {
   "attachments": {},
   "cell_type": "markdown",
   "metadata": {},
   "source": [
    "## Suppose you have a directory called `my_folder` that contains several files, and you want to copy all the files to a new directory called `backup_folder`. Which of the following commands will copy all the files?\n",
    "\n",
    "- `cp my_folder/* backup_folder/`\n",
    "- `cp -R my_folder backup_folder/` ***\n",
    "- `cp my_folder/. backup_folder/`\n",
    "- `cp my_folder backup_folder/`"
   ]
  },
  {
   "attachments": {},
   "cell_type": "markdown",
   "metadata": {},
   "source": [
    "## What is the difference between `rm` and `rm -rf` commands in Unix-based operating systems?\n",
    "\n",
    "- `rm` can only delete files while `rm -rf` can delete both files and directories ***\n",
    "- `rm -rf` can recover deleted files while `rm` cannot\n",
    "- There is no difference between the two commands, they are interchangeable"
   ]
  },
  {
   "attachments": {},
   "cell_type": "markdown",
   "metadata": {},
   "source": [
    "## Which of the following commands will print `Hello World` to the terminal using the `echo` command?\n",
    "\n",
    "- `echo \"Hello World\"` ***\n",
    "- `echo ('Hello World')`\n",
    "- `echo [\"Hello World\"]`\n",
    "- `echo \"Hello \" + \"World\"`"
   ]
  },
  {
   "attachments": {},
   "cell_type": "markdown",
   "metadata": {},
   "source": [
    "## Which symbol represents the standard input channel in Unix-based operating systems?\n",
    "\n",
    "- `>`\n",
    "- `|`\n",
    "- `<` ***\n",
    "- `&`"
   ]
  },
  {
   "attachments": {},
   "cell_type": "markdown",
   "metadata": {},
   "source": [
    "## Which symbol represents the standard output channel in Unix-based operating systems?\n",
    "\n",
    "- `>` ***\n",
    "- `|`\n",
    "- `<`\n",
    "- `&`"
   ]
  },
  {
   "attachments": {},
   "cell_type": "markdown",
   "metadata": {},
   "source": [
    "## Which of the following code snippets redirects standard input to a file named `input.txt`?\n",
    "\n",
    "- `input.txt <`\n",
    "- `< input.txt` ***\n",
    "- `> input.txt`\n",
    "- `input.txt >`"
   ]
  },
  {
   "attachments": {},
   "cell_type": "markdown",
   "metadata": {},
   "source": [
    "## Which of the following command snippets redirects the standard output channel to a file named `output.txt`?\n",
    "\n",
    "- `echo \"Hello world\" > output.txt` ***\n",
    "- `echo \"Hello world\" >> output.txt`\n",
    "- `echo \"Hello world\" < output.txt`\n",
    "- `echo \"Hello world\" << output.txt`"
   ]
  },
  {
   "attachments": {},
   "cell_type": "markdown",
   "metadata": {},
   "source": [
    "## Which of the following commands will append the output of the `echo` command to the end of an existing file named `output.txt` using the standard output channel?\n",
    "\n",
    "- `echo \"Hello, world!\" > output.txt`\n",
    "- `echo \"Hello, world!\" >> output.txt` ***\n",
    "- `echo \"Hello, world!\" < output.txt`\n",
    "- `echo \"Hello, world!\" &>> output.txt`"
   ]
  }
 ],
 "metadata": {
  "language_info": {
   "name": "python"
  },
  "orig_nbformat": 4
 },
 "nbformat": 4,
 "nbformat_minor": 2
}
