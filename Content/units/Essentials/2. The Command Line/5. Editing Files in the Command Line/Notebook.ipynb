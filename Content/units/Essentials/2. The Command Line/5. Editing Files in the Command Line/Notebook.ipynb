{
 "cells": [
  {
   "attachments": {},
   "cell_type": "markdown",
   "metadata": {},
   "source": [
    "# Editing Files in the Command Line\n",
    "\n",
    "> From time to time, it is necessary to edit files directly from the command line. While simple edits can be performed inside the command line itself, using only the shell scripting language (eg. Bash or Powershell), more advanced edits are performed using a command line interface (CLI) based text editor. \n",
    "\n",
    "In this lesson, we will explore the basics of editing documents inside the command line, and run through the basics of using a CLI-based text editor."
   ]
  },
  {
   "attachments": {},
   "cell_type": "markdown",
   "metadata": {},
   "source": [
    "## Motivation\n",
    "\n",
    "Why learn to use a CLI-based text editor? While GUI text editors (like Microsoft Word or Notepad) can be more intuitive and user-friendly, especially for beginners, CLI text editors can offer a great deal of power and flexibility for those willing to learn them, and there are several situations where you might prefer using a CLI text editor over a GUI-based one: \n",
    "\n",
    "- **Remote Access**: When you're connecting into a remote computer, you often don't have access to a GUI and a CLI-based text editor is all you have to work with\n",
    "- **Automation**: CLI text editors can be easily incorporated into scripts and automated tasks\n",
    "- **Speed:** If you're good with a CLI text editor, it can be much faster to make edits with keyboard commands than using a mouse in a GUI editor\n",
    "- **Saving Resources:** CLI text editors generally consume less computer power compared to GUI editors\n",
    "- **Compatibility:** CLI text editors are standard tools available by default on almost all systems, allowing you to work on different systems without having to learn new software\n",
    "- **Stability:** CLI text editors are incredibly stable and less prone to crashes compared to many GUI applications"
   ]
  },
  {
   "attachments": {},
   "cell_type": "markdown",
   "metadata": {},
   "source": [
    "## Writing Text to a File \n",
    "\n",
    "The most basic form of editing that you might want to do in the CLI is to write some text directly to a file from the CLI. \n",
    "\n",
    "On Unix systems, this is accomplished with the `echo` command, and the `>` operator. For example:\n",
    "\n",
    "`echo Hello, world! > hello.txt`\n",
    "\n",
    "<p align=\"center\">\n",
    "    <img src=\"images/echo_cat.gif\"  width=\"500\"/>\n",
    "</p>\n",
    "\n",
    "Note that the `>` operator will overwrite whatever is currently in the file if the filename you specify already exists, and create a new file if it does not already exist. To append text to a file that already exists, use the `>>` operator instead.\n",
    "\n",
    "The Windows Powershell equivalent of `echo` is called `Write-Output`, but you can also use the same syntax as Unix systems, thanks to default aliases. "
   ]
  },
  {
   "attachments": {},
   "cell_type": "markdown",
   "metadata": {},
   "source": [
    "## Command Line Text Editors\n",
    "\n",
    "> To make more complex text files in the command line, it is often necessary to use a dedicated CLI text editor. CLI text editors are programs that can be controlled entirely in the terminal, using just the keyboard. Despite their simple interface, they can be very sophisticated and powerful. \n",
    "\n",
    "Some CLI text editors can have quite a steep learning curve, especially for advanced tasks, but it is easy to learn how to perform simple tasks in them, particularly if you use one that has been designed for simplicity over number of features"
   ]
  },
  {
   "attachments": {},
   "cell_type": "markdown",
   "metadata": {},
   "source": [
    "## Nano\n",
    "\n",
    "> Nano is a popular text editor native to Unix-like operating systems, though it can also be installed on Windows. It's known for its simplicity and ease of use, especially for beginners. Nano operates in a straightforward way that's similar to notepad or other simple GUI text editors, and it doesn't require learning complex commands or modes. It provides basic text editing capabilities and displays key shortcuts at the bottom of the screen, making it an excellent choice for quick edits in the command line environment.\n",
    "\n",
    "### Installing Nano\n",
    "\n",
    "#### Mac\n",
    "\n",
    "Nano is installed by default on Mac, so typically no installation is required. However, if you need to reinstall it for some reason, the easiest way is via `homebrew` (aka `brew`), a command-line package manager. Package managers are programs that provide easy installation for programs or features you need to add to your command line environment. We will talk more about them later in the course.\n",
    "\n",
    "To install nano using `brew`, we first need to install brew as follows:\n",
    "\n",
    "`/bin/bash -c \"$(curl -fsSL https://raw.githubusercontent.com/Homebrew/install/HEAD/install.sh)\"`\n",
    "\n",
    "Then, once the installation is complete, you can install nano as follows:\n",
    "\n",
    "`brew install nano`\n",
    "\n",
    "\n",
    "#### Linux\n",
    "\n",
    "Linux systems may vary as to whether nano is installed by default, but you can check if you have it, using the command:\n",
    "\n",
    "`which nano`\n",
    "\n",
    "If you don't have nano installed, you can install it using `apt`, which is the default package manager for Linux. First update `apt` using the following command:\n",
    "\n",
    "`sudo apt update`\n",
    "\n",
    "Then install nano with:\n",
    "\n",
    "`sudo apt install nano`\n",
    "\n",
    "\n",
    "#### Windows\n",
    "\n",
    "Windows does not have nano installed by default, but it comes with GitBash, so once you have installed this you can use nano from your bash terminal."
   ]
  },
  {
   "attachments": {},
   "cell_type": "markdown",
   "metadata": {},
   "source": [
    "\n",
    "### Editing a File\n",
    "\n",
    "Once you have opened the file, you will see a screen with a very simple layout. The contents of your text file are displayed at the top, and along the bottom of the screen there is a bar displaying the various keyboard shortcuts for different operations. The grey cursor can be moved with the arrow keys, and denotes where any changes you make will occur. \n",
    "\n",
    "<p align=\"center\">\n",
    "    <img src=\"images/nano_screen.png\"  width=\"500\"/>\n",
    "</p>\n",
    "\n",
    "### Saving a File\n",
    "\n",
    "When you have finished editing, press `Ctrl + X` to exit the program. You will be prompted to either save or discard your changes:\n",
    "\n",
    "<p align=\"center\">\n",
    "    <img src=\"images/save_or_discard.png\"  width=\"500\"/>\n",
    "</p>\n",
    "\n",
    "- Press `Y` to save changes\n",
    "- Press `N` to discard them\n",
    "- Press `Ctrl + C` to cancel the program exit"
   ]
  },
  {
   "attachments": {},
   "cell_type": "markdown",
   "metadata": {},
   "source": [
    "## Other CLI Text Editors\n",
    "\n",
    "Aside from minimal CLI text editors like nano, there are also much more advanced options, such as Vim and Emacs, which come with a steeper learning curve but offer powerful and sophisticated features that professional programmers and system administrators appreciate. \n",
    "\n",
    "Learning to use them could perhaps be compared to a complex physical skill like learning to play the piano or learning to drive. It requires a significant time investment upfront. \n",
    "\n",
    "For example, Vim offers advanced features like different modes for efficient editing and navigation, command composition for complex edits, rapid navigation within files, customization options, extensibility through scripting and plugins, and the ability to work with split windows and tabs. It also integrates with the command line shell, allowing you to run shell commands without leaving the editor.\n",
    "\n",
    "You can learn more about Vim [here](https://www.linuxfoundation.org/blog/blog/classic-sysadmin-vim-101-a-beginners-guide-to-vim), or read the docs at [this link](https://www.vim.org/docs.php)."
   ]
  },
  {
   "attachments": {},
   "cell_type": "markdown",
   "metadata": {},
   "source": [
    "## Key Takeaways\n",
    "\n",
    "- CLI text editors are useful for editing files in situations where a GUI editor is not available\n",
    "- The `echo` command, combined with the `>` operator, can be used to write text to a file directly from the command line\n",
    "- Nano is a simple CLI text editor that is easy to learn, and can be used on any operating system\n",
    "- More advanced CLI text editors such as Vim and Emacs are much more powerful, but have a steeper learning curve\n"
   ]
  }
 ],
 "metadata": {
  "kernelspec": {
   "display_name": "torch_env",
   "language": "python",
   "name": "python3"
  },
  "language_info": {
   "name": "python",
   "version": "3.10.10"
  }
 },
 "nbformat": 4,
 "nbformat_minor": 2
}
