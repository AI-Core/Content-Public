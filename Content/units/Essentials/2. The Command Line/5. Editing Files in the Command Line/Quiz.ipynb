{
 "cells": [
  {
   "attachments": {},
   "cell_type": "markdown",
   "metadata": {},
   "source": [
    "# Editing files with nano"
   ]
  },
  {
   "attachments": {},
   "cell_type": "markdown",
   "metadata": {},
   "source": [
    "## Which of the following is a correct statement about nano?\n",
    "\n",
    "- Nano is a programming language\n",
    "- Nano is a text editor ***\n",
    "- Nano is a version control system\n",
    "- Nano is a file compression tool"
   ]
  },
  {
   "attachments": {},
   "cell_type": "markdown",
   "metadata": {},
   "source": [
    "## Which of the following statements about nano is false?\n",
    "\n",
    "- Nano is a command-line image editor ***\n",
    "- Nano is open-source software\n",
    "- Nano supports syntax highlighting for many programming languages\n",
    "- Nano can be used on both Unix/Linux and Windows operating systems"
   ]
  },
  {
   "attachments": {},
   "cell_type": "markdown",
   "metadata": {},
   "source": [
    "## Which keyboard shortcut is used to exit the editing program (eg nano) in Unix systems?\n",
    "\n",
    "- `Ctrl + Z`\n",
    "- `Ctrl + X` ***\n",
    "- `Ctrl + C`\n",
    "- `Ctrl + V`\n",
    "- `Ctrl + S`"
   ]
  }
 ],
 "metadata": {
  "language_info": {
   "name": "python"
  },
  "orig_nbformat": 4
 },
 "nbformat": 4,
 "nbformat_minor": 2
}
