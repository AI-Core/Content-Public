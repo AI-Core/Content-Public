{
 "cells": [
  {
   "attachments": {},
   "cell_type": "markdown",
   "metadata": {},
   "source": [
    "## What three groups have permissions settings for each file in Unix-based systems?\n",
    "\n",
    "- The owner, the user, and the others\n",
    "- The owner, the group, and the others ***\n",
    "- The root, the owner, and the others\n",
    "- The root, the group, and the superuser\n",
    "- The user, the group, and the superuser"
   ]
  },
  {
   "attachments": {},
   "cell_type": "markdown",
   "metadata": {},
   "source": [
    "## What is the role of the superuser or root user in Unix-based systems?\n",
    "\n",
    "- The root user can only read and execute files\n",
    "- The root user can only read, modify, and delete their own files\n",
    "- The root user has full administrative privileges and unrestricted access to all commands, files, and resources on the system ***\n",
    "- The root user can only install and uninstall applications\n",
    "- The root user can only manage user accounts and change ownership of files"
   ]
  },
  {
   "attachments": {},
   "cell_type": "markdown",
   "metadata": {},
   "source": [
    "## What are the three types of permissions that can be set on a file or directory in Unix-based systems?\n",
    "\n",
    "- List, modify, execute\n",
    "- Read, modify, execute\n",
    "- Add, remove, execute\n",
    "- Read, write, execute ***\n",
    "- List, write, run"
   ]
  },
  {
   "attachments": {},
   "cell_type": "markdown",
   "metadata": {},
   "source": [
    "## Which command would set read, write, execute permissions for everyone on a file in Unix systems using numeric mode?\n",
    "\n",
    "- `chmod 000 filename`\n",
    "- `chmod 444 filename`\n",
    "- `chmod 111 filename`\n",
    "- `chmod 777 filename` ***\n",
    "- `chmod 999 filename`"
   ]
  },
  {
   "attachments": {},
   "cell_type": "markdown",
   "metadata": {},
   "source": [
    "## What do the numbers represent in the numeric mode of setting file permissions in Unix systems?\n",
    "\n",
    "- The sequence of setting permissions: read, write, and execute\n",
    "- The total count of permissions for user, group, and others\n",
    "- The sum of: 4 for \"read\", 2 for \"write\", and 1 for \"execute\" ***\n",
    "- The hierarchy of permissions: user is 4, group is 2, others is 1\n",
    "- The binary representation of the permissions: read is 4, write is 2, execute is 1"
   ]
  }
 ],
 "metadata": {
  "language_info": {
   "name": "python"
  },
  "orig_nbformat": 4
 },
 "nbformat": 4,
 "nbformat_minor": 2
}
