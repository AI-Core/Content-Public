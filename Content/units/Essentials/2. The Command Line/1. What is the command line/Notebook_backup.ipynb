{
 "cells": [
  {
   "attachments": {},
   "cell_type": "markdown",
   "metadata": {},
   "source": [
    "# What is the Command Line?\n",
    "\n",
    "> The *command line* is a place on your computer where you can type in specific instructions, or \"commands\", to tell your computer what to do. The way a computer functions is governed by a large, complex program called an operating system (OS), like Windows or Linux. The command line is one of the ways you can interact with the operating system and give it tasks to perform. \n",
    "\n",
    "In the command line you only use text-based instructions, no pictures or buttons. You use it through a program called a *command line interface* (CLI), like a terminal or console window. This is different from the usual way of clicking on icons and menus, which is known as a *graphical user interface* (GUI). The command line provides a more direct way of interacting with an operating system and its applications. It can be more efficient than a GUI for certain tasks, especially for system administration or for automating tasks through scripts. In short, instead of clicking around with your mouse, you're typing instructions for your computer.\n",
    "\n"
   ]
  },
  {
   "attachments": {},
   "cell_type": "markdown",
   "metadata": {},
   "source": [
    "## Motivation\n",
    "\n",
    "Why would we want to learn to use the command line, given that operating systems have an intuitive GUI? Obviously the GUI is easy to understand, and serves us well for everyday usage, but the command line has several advantages that are useful for technical work:\n",
    "\n",
    "- **Automation and Efficiency**: the Command line allows for scripting, which means we can write a series of commands once and use them repeatedly, automating repetitive tasks and saving time.\n",
    "\n",
    "- **More Control and Precision**: the command line interfaces often provide more options and finer control over tasks compared to GUIs. This can be important for complex tasks or system administration work. \n",
    "\n",
    "- **Learning and Understanding**: Using the command line can give a deeper understanding of how computers and operating systems work. This knowledge can be valuable for troubleshooting and problem-solving. Also, even though operating system GUIs change with nearly every version update, the command line will usually behave the same, so you will know your way around even an unfamiliar machine. \n",
    "\n",
    "- **Resource Consumption**: Command line interfaces generally use less system resources than GUIs. This can be important on systems with limited resources or when running intensive tasks.\n",
    "\n",
    "- **You'll Feel Like a 1990s Hacker**: All that text scrolling down the screen, just like in the movies! More seriously, once you are used to the command line, it is likely you will come to prefer it over the GUI for a lot of tasks. "
   ]
  },
  {
   "attachments": {},
   "cell_type": "markdown",
   "metadata": {},
   "source": [
    "\n",
    "## Accessing the Command Line on Different Operating Systems\n",
    "\n",
    "You interact with the command line using a terminal or console window, known as a Command Line Interface (CLI). How to access the CLI varies  between different operating systems, with each having its own terminal window. There are also slight differences in terms of the specific commands and syntax that can be used in the operating system - the instructions that you can use to control it.\n",
    "\n",
    "In a CLI, a line at the bottom of the screen is used to enter commands. A command is activated when you press the Enter key. The system executes the command and typically displays its output on the screen.\n",
    "\n",
    "\n",
    " <h4> <img src=\"images/powershell.png\"  width=\"50\" style=\"vertical-align: middle;\">  Windows (PowerShell or Command Prompt) </h4>\n",
    "To access the command line on a Windows operating system, you can use the `Command Prompt` or `PowerShell`. To open `Command Prompt` click the Start button or press the Windows key, type \"Command Prompt\" into the search bar, and select the `Command Prompt` app. For `PowerShell`, follow the same steps but search for \"PowerShell\" instead. Powershell is generally to be preferred over Command Prompt as it has more features. \n",
    "\n",
    "\n",
    "\n",
    "\n",
    "\n",
    " <h4> <img src=\"images/terminal.png\"  width=\"50\" style=\"vertical-align: middle;\">  Mac (Terminal) </h4>\n",
    " \n",
    "\n",
    "On a Mac, the command line is accessed through an application called Terminal. You can open Terminal by clicking on the Finder icon, going to the Applications folder, then the Utilities folder, and finally double-clicking on Terminal. Alternatively, you can use Spotlight (Command + spacebar, or top right-hand corner of the screen) and type \"Terminal\" into the search bar.\n",
    "\n",
    "\n",
    " <h4> <img src=\"images/ubuntu terminal.png\"  width=\"50\" style=\"vertical-align: middle;\">  Linux (Terminal) </h4>\n",
    "\n",
    "Linux users can access the command line through a Terminal emulator, which is typically found in the system's applications menu, or via a set of keyboard instructions. For example, in Ubuntu, you can press the `Ctrl + Alt + T` keys simultaneously to open a Terminal window. The exact method may vary slightly depending on the Linux distribution and desktop environment you are using.\n"
   ]
  },
  {
   "attachments": {},
   "cell_type": "markdown",
   "metadata": {},
   "source": [
    "## The CLI and shell languages\n",
    "\n",
    "A shell in computing is a user interface that allows you to interact with the operating system. Shells can be graphical (like the GUI), but the term \"shell\" typically refers to a CLI, and the scripting language used to interact with it.\n",
    "\n",
    "### Bash (Bourne Again Shell)\n",
    "Bash is the default shell for most Unix-like systems, such as Linux and older versions of macOS. Bash is a successor to the Bourne Shell (sh), adding many useful features like command line editing, shell scripting capabilities, and command history.\n",
    "\n",
    "### zsh (z-shell)\n",
    "Zsh is another shell for Unix-like systems. It includes all features of Bash, but adds many of its own. Some of these additional features include better auto-completion, command correction, and a more customizable interface. As of macOS Catalina, zsh is the default shell on macOS, replacing Bash. It has extremely similar syntax to Bash.\n",
    "\n",
    "### PowerShell\n",
    "PowerShell is a shell developed by Microsoft for use in Windows systems. It's more powerful and complex than the older Windows Command Prompt. It can do most of the same things as Bash or Zsh, but the syntax is very different.  For example, to remove a file in Bash/Zsh you would use `rm filename`, whereas in PowerShell it would be `Remove-Item filename`. However in many cases the PowerShell commands have built-in aliases (other names for the same command) that map to common Unix commands, which allows you to use familiar command names if you are more used to a Unix-based system.\n",
    "\n",
    "\n",
    "\n",
    "\n"
   ]
  },
  {
   "attachments": {},
   "cell_type": "markdown",
   "metadata": {},
   "source": [
    "## Commands\n",
    "\n",
    "> Commands are programs that allow us to do basic tasks in our operating systems. Entering commands is the main purpose of the CLI.\n",
    "\n",
    "Commands have the following general form:\n",
    "\n",
    "```bash\n",
    "command [-short_flags] [--long_flags] [arguments]\n",
    "```\n",
    "\n",
    "#### **Command**\n",
    "This refers to the name of the command, e.g. `ls` which lists the files in the current directory.  Following the command name, we can type various parameters and arguments, each of which are separated by spaces.\n",
    "\n",
    "#### **Flags** \n",
    "\n",
    "Flags are parameters which modify the behaviour of a command. Each command has its own set of options, and each option can be turned on by using the relevant flag. \n",
    "\n",
    "Flags can be used in one of two ways:\n",
    "    - Implicit (short, `-a`)\n",
    "    - Explicit (long, `--all`)\n",
    "    \n",
    "Short flags are prefaced by a single dash `-` while long flags are prefaced by a double dash `--`. The main difference between short and long flags is that short flags can be combined, so for example `-ml` would be the combination of two flags, `m` and `l`. With long flags,  everything after the `--` is parsed as a single word, rather than a combination of single-letter options.\n",
    "\n",
    "#### **Arguments**\n",
    "Argunents are used to specify some specific entity on which the command will act. For example the command:\n",
    "\n",
    " `ls my_dir` \n",
    "\n",
    "Will list the contents of the \"my_dir\" directory.\n",
    "     \n",
    "> You can run `command --help` or `man command` (manual) for any command, to read about how a particular command works"
   ]
  },
  {
   "attachments": {},
   "cell_type": "markdown",
   "metadata": {},
   "source": [
    "## Key Takeaways"
   ]
  },
  {
   "attachments": {},
   "cell_type": "markdown",
   "metadata": {},
   "source": [
    "- The command line is a text-based interface used for giving specific instructions to a computer\n",
    "- Learning to use the command line enables automation, increased control and precision and deeper understanding of computer systems, compared to using the GUI.\n",
    "- The command line is accessed via a command line interface or CLI\n",
    "- The default CLI on Mac is Zsh, while for Linux users the default is Bash, and Windows uses Powershell by default\n",
    "- Bash and Zsh are very similar, and use the same commands\n",
    "- Powershell uses different commands, though in most cases will respond to Bash/Zsh commands as aliases\n",
    "- Commands are programs that you use to control the behaviour of the operating system \n",
    "- The Bash/Zsh command prompt shows you various pieces of information about the CLI's current status\n"
   ]
  }
 ],
 "metadata": {
  "language_info": {
   "name": "python"
  },
  "orig_nbformat": 4
 },
 "nbformat": 4,
 "nbformat_minor": 2
}
