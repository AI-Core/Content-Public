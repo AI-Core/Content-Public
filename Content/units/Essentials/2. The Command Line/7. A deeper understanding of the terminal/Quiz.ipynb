{
 "cells": [
  {
   "attachments": {},
   "cell_type": "markdown",
   "metadata": {},
   "source": [
    "# A deeper understanding of the terminal"
   ]
  },
  {
   "attachments": {},
   "cell_type": "markdown",
   "metadata": {},
   "source": [
    "## What is the most common shell used in Unix-based operating systems?\n",
    "\n",
    "- Bash  ***\n",
    "- KornShell\n",
    "- C Shell\n",
    "- Zsh"
   ]
  },
  {
   "attachments": {},
   "cell_type": "markdown",
   "metadata": {},
   "source": [
    "## In a Bash script, how can you access the arguments passed to the script?\n",
    "\n",
    "- Using the `$*` variable\n",
    "- Using the `$#` variable\n",
    "- Using the `$0` variable\n",
    "- Using the `$1, $2, $3, ...` variables ***"
   ]
  },
  {
   "attachments": {},
   "cell_type": "markdown",
   "metadata": {},
   "source": [
    "## In a Unix-based operating system, how can you identify a hidden file in the command line?\n",
    "\n",
    "- Hidden files are displayed with an asterisk (`*)` at the beginning of the filename\n",
    "- Hidden files are displayed with a plus sign (`+`) at the beginning of the filename\n",
    "- Hidden files are displayed with a period (`.`) at the beginning of the filename ***\n",
    "- Hidden files are displayed with a dollar sign (`$`) at the beginning of the filename"
   ]
  },
  {
   "attachments": {},
   "cell_type": "markdown",
   "metadata": {},
   "source": [
    "## Which command creates an alias for `ls -la `as `ll` using the alias command?\n",
    "\n",
    "- `alias ll=ls -la`\n",
    "- `alias ll=\"ls -la\"` ***\n",
    "- `alias ll ls -la`\n",
    "- `alias \"ls -la\" = ll`"
   ]
  },
  {
   "attachments": {},
   "cell_type": "markdown",
   "metadata": {},
   "source": [
    "\n",
    "## Suppose you want to create an alias for a command that uses an environment variable, which represents a directory path. The alias should use the value of the environment variable in the command. Which of the following alias commands achieves this?\n",
    "\n",
    "- `alias myalias='cd $MYPATH'` ***\n",
    "- `alias myalias='cd $$MYPATH'`\n",
    "- `alias myalias='cd ${MYPATH}'`\n",
    "- `alias myalias='cd $\"MYPATH\"`"
   ]
  },
  {
   "attachments": {},
   "cell_type": "markdown",
   "metadata": {},
   "source": [
    "## What is the absolute path to the root directory in the command line?\n",
    "\n",
    "- `/` ***\n",
    "- `..`\n",
    "- `~`\n",
    "- `./`"
   ]
  },
  {
   "attachments": {},
   "cell_type": "markdown",
   "metadata": {},
   "source": [
    "## What is the default path of the home directory in Linux and Unix systems?\n",
    "\n",
    "- `/usr`\n",
    "- `/home or ~ (Mac)` ***\n",
    "- `/root`\n",
    "- `/var`"
   ]
  }
 ],
 "metadata": {
  "language_info": {
   "name": "python"
  },
  "orig_nbformat": 4
 },
 "nbformat": 4,
 "nbformat_minor": 2
}
