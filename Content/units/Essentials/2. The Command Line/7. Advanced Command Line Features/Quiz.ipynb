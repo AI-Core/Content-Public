{
 "cells": [
  {
   "attachments": {},
   "cell_type": "markdown",
   "metadata": {},
   "source": [
    "# Advanced Command Line Features\n"
   ]
  },
  {
   "attachments": {},
   "cell_type": "markdown",
   "metadata": {},
   "source": [
    "## Which of the following operators redirects a string of text into the standard input of a command?\n",
    "\n",
    "- `<`\n",
    "- `<<<` ***\n",
    "- `<<`\n",
    "- `|`\n",
    "- `<2`"
   ]
  },
  {
   "attachments": {},
   "cell_type": "markdown",
   "metadata": {},
   "source": [
    "## Which of the following best describes standard streams in Unix-based systems?\n",
    "\n",
    "- They are physical connections between different components in a computer system\n",
    "- They are network channels for communication between different systems on a network\n",
    "- They are data paths for communication between a program and its environment ***\n",
    "- They are data paths for communication between different programs running simultaneously\n",
    "- They are memory channels for communication between a program and the operating system kernel"
   ]
  },
  {
   "attachments": {},
   "cell_type": "markdown",
   "metadata": {},
   "source": [
    "## What does the `2>` operator do in Unix-based systems?\n",
    "\n",
    "- Redirects standard output to a file, overwriting the existing content\n",
    "- Redirects standard input from a file\n",
    "- Redirects standard output to a file, appending to the existing content\n",
    "- Redirects standard error to a file, overwriting the existing content ***\n",
    "- Redirects standard error to a file, appending to the existing content"
   ]
  },
  {
   "attachments": {},
   "cell_type": "markdown",
   "metadata": {},
   "source": [
    "What is the correct syntax to search for the phrase \"Error 404\" in a log file named 12.log?\n",
    "\n",
    "- `grep \"12.log\" Error 404`\n",
    "- `grep Error 404`\n",
    "- `grep Error 404 12.log`\n",
    "- `grep 'Error 404' 12.log` ***\n",
    "- `grep 12.log 'Error 404'`"
   ]
  },
  {
   "attachments": {},
   "cell_type": "markdown",
   "metadata": {},
   "source": [
    "## What is the primary purpose of the grep command in Unix-based systems?\n",
    "\n",
    "- To list the contents of a directory\n",
    "- To search for lines in a file that match a regular expression ***\n",
    "- To perform mathematical calculations\n",
    "- To replace a specific pattern of characters in a file\n",
    "- To monitor system processes"
   ]
  },
  {
   "attachments": {},
   "cell_type": "markdown",
   "metadata": {},
   "source": [
    "## In the context of a shell script, what is the purpose of a line that begins with the # symbol?\n",
    "\n",
    "- To denote the end of the script.\n",
    "- To specify the interpreter for executing the script.\n",
    "- To comment on the script, these lines are not executed by the interpreter. ***\n",
    "- To initiate the script execution.\n",
    "- To provide the output of the script.\n"
   ]
  },
  {
   "attachments": {},
   "cell_type": "markdown",
   "metadata": {},
   "source": [
    "## What is the purpose of the #!/bin/bash line at the beginning of a shell script?\n",
    "\n",
    "- To comment on the purpose of the script.\n",
    "- To specify the interpreter for executing the script. ***\n",
    "- To give the script executable permissions.\n",
    "- To tell the user that it is a bash script\n"
   ]
  }
 ],
 "metadata": {
  "language_info": {
   "name": "python"
  },
  "orig_nbformat": 4
 },
 "nbformat": 4,
 "nbformat_minor": 2
}
