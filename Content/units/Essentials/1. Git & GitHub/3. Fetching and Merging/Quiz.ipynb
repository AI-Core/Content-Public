{
 "cells": [
  {
   "attachments": {},
   "cell_type": "markdown",
   "metadata": {},
   "source": [
    "# Pull Requests"
   ]
  },
  {
   "cell_type": "markdown",
   "metadata": {},
   "source": [
    "##  What is the correct description of the `git fetch` command?\n",
    "\n",
    "- `git fetch` pulls down the latest data from the remote repository and immediately merges it into your current working branch\n",
    "- `git fetch` retrieves all changes from the remote repository and automatically applies them to your local branch\n",
    "- `git fetch` retrieves only the changes made on your local branch that do not yet exist in the remote branch\n",
    "- `git fetch` retrieves all the changes made on the remote branch that do not yet exist in your local branch without merging them into your current working branch. ***\n",
    "- `git fetch` is used to push local changes to the remote repository"
   ]
  },
  {
   "attachments": {},
   "cell_type": "markdown",
   "metadata": {},
   "source": [
    "## What is a `git merge`?\n",
    "\n",
    "- A command used to delete a branch in git\n",
    "- A command used to combine changes from one branch into another branch in git ***\n",
    "- A command used to create a new branch in git\n",
    "- A command used to rename a branch in git"
   ]
  },
  {
   "cell_type": "markdown",
   "metadata": {},
   "source": [
    "## Which of the following accurately describes a fast-forward merge in git?\n",
    "\n",
    "- A fast-forward merge is when git merges two branches that have diverged from a common ancestor, and automatically resolves any conflicts\n",
    "- A fast-forward merge is when git merges two branches that have no common ancestor, thus creating a new commit that represents the merge point\n",
    "- A fast-forward merge is when the branch being merged is a direct descendant of the current branch, and git simply moves the pointer of the current branch to the latest commit of the branch being merged ***\n",
    "- A fast-forward merge is when git combines the histories of two branches, creating a new \"merge commit\" that includes the changes from both branches\n",
    "- A fast-forward merge is when git merges two branches and overwrites the current branch with the changes of the branch being merged"
   ]
  },
  {
   "cell_type": "markdown",
   "metadata": {},
   "source": [
    "## What is the correct description of a three-way merge in git?\n",
    "\n",
    "- A three-way merge is when git simply moves the pointer of the current branch to the latest commit of the branch being merged\n",
    "- A three-way merge is when git merges the current branch into the branch to be merged, creating a new commit in the process\n",
    "- A three-way merge is when git combines changes from two branches that have diverged from a common ancestor, creating a new \"merge commit\" ***\n",
    "- A three-way merge is when git merges two branches without creating a new commit, but rather combining the histories of both branches\n",
    "- A three-way merge is when git merges two branches that have no common ancestor, thus creating a new commit that represents the merge point"
   ]
  },
  {
   "cell_type": "markdown",
   "metadata": {},
   "source": [
    "## What is rebasing in git?\n",
    "- An operation that renames the base of your current branch from one commit to another\n",
    "- An operation that changes the base of your branch to the latest commit in the target branch ***\n",
    "- A method to resolve conflicts between two branches\n",
    "- A way to clone a repository\n",
    "- A technique to restore a deleted branch"
   ]
  },
  {
   "cell_type": "markdown",
   "metadata": {},
   "source": [
    "## What is the main difference between `git pull` and `git fetch` in git?\n",
    "\n",
    "- `git pull` and `git fetch` both update the local repository with the latest changes from the remote repository, but `git pull` requires an additional `git merge` command to integrate the changes\n",
    "\n",
    "- `git fetch` updates the local repository with the latest changes from the remote repository, while `git pull` only downloads the changes to the local copy of the remote repository\n",
    "\n",
    "- `git pull` and `git fetch` are the same command in git\n",
    "\n",
    "-  `git pull` and `git fetch` both update the local repository with the latest changes from the remote repository, but `git fetch` requires an additional `git merge` command to integrate the changes ***"
   ]
  },
  {
   "cell_type": "markdown",
   "metadata": {},
   "source": [
    "## When two branches are merged, one of two algorithms is used. If the branches have diverged, which algorithm is used?\n",
    "\n",
    "- three-way merge  ***\n",
    "- fast-forward merge\n",
    "- merge conflict\n",
    "- orphan-creating merge"
   ]
  }
 ],
 "metadata": {
  "language_info": {
   "name": "python"
  },
  "orig_nbformat": 4
 },
 "nbformat": 4,
 "nbformat_minor": 2
}
