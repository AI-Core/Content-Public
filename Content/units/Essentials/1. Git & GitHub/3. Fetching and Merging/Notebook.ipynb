{
 "cells": [
  {
   "attachments": {},
   "cell_type": "markdown",
   "metadata": {},
   "source": [
    "# Fetching and Merging "
   ]
  },
  {
   "attachments": {},
   "cell_type": "markdown",
   "metadata": {},
   "source": [
    "## Motivation\n",
    "\n",
    "In this lesson we will learn about how to get new changes from the remote repository (fetching), and how to apply the commits from one branch to another (merging). These skills are important for feature-based workflows, in which you create a new branch for each new feature of your codebase, and merge the branch with your production version when the feature is complete. Using branches in this way:\n",
    "\n",
    "- Drastically reduces the chance you will break your main project\n",
    "- Allows multiple features to be developed in parallel without interfering with each other\n",
    "- Makes it easier to track bugs\n"
   ]
  },
  {
   "attachments": {},
   "cell_type": "markdown",
   "metadata": {},
   "source": [
    "## Fetching Commits from Remote Repo\n",
    "\n",
    ">`git fetch` is a command in git that allows you to retrieve the latest updates from a remote repository. This is important when collaborating with others on a project because it allows you to get the latest commits, branches, and changes that have been pushed by other contributors since the last time you fetched or cloned the repository.\n",
    "\n",
    "The `git fetch` command is used to retrieve all the changes made on the remote branch that do not yet exist in your local branch. It's important to note that `git fetch` is a read-only operation, meaning it pulls down the latest data from the remote repository, but it does not merge any of this new data into your current working branch. It doesn't modify the part of your local repository you're currently working on. This means you can fetch updates at any time without disrupting your current work.\n"
   ]
  },
  {
   "attachments": {},
   "cell_type": "markdown",
   "metadata": {},
   "source": [
    "## Merging Branches\n",
    "\n",
    "Merging branches in git is a process that combines the changes made in one branch with another. This is often done when work completed in a feature branch needs to be integrated into the `main` branch. The `git merge` command takes the contents of a source branch and integrates it with the target branch. A new commit is then created on the target branch. If the branches have diverged, git will attempt to automatically reconcile the differences. If it cannot (e.g. where the same line of code has been modified differently in both branches), it will result in a merge conflict that needs to be resolved manually by the user. \n",
    "\n",
    "### The `git pull` command\n",
    "\n",
    ">The `git pull` command is used to fetch and download content from a remote repository and immediately update the local repository to match that content. In essence, `git pull` is a combination of `git fetch` followed by `git merge`.\n"
   ]
  },
  {
   "attachments": {},
   "cell_type": "markdown",
   "metadata": {},
   "source": [
    "## Types of Merge\n",
    "\n",
    "### Fast-Forward Merge\n",
    "\n",
    "This is the simplest type of merge. It occurs when the branch you're trying to merge into the current branch is a direct descendant of the current branch. In this case, git simply moves (or \"fast forwards\") the pointer of the current branch to the latest commit of the branch to be merged. There are no conflicts between the branches in this scenario.\n",
    "\n",
    "For example, in the image below we have two branches, `main` and `feature`. The `feature` branch is ahead of `main` by one commit, and we want to merge `feature` into `main`. As `feature` is a direct descendent of `main`, git can just move the pointer of `main` to point to the latest commit in `feature`, and the merge is complete.\n",
    "\n",
    "\n",
    "<br><p align=center><img src=images/fast_forward.png width=700></p><br>\n",
    "\n"
   ]
  },
  {
   "attachments": {},
   "cell_type": "markdown",
   "metadata": {},
   "source": [
    "### Fast-Forward Merge: Worked Example\n",
    "\n",
    "1. Create a new repo called `merge_testing`, making sure to include a `README.md` file\n",
    "2. Clone the repo to your local machine\n",
    "3. Now go to your remote repository and add a line of text to the `README.md`. Click on the `README.md` file to edit it within the GitHub interface. When you have finished editing, click `Commit Changes` to store the changes as a new commit.\n",
    "\n",
    "<br><p align=center><img src=images/adding_to_remote.gif width=700></p><br>\n",
    "\n",
    "4. We now have a situation where the `main` branch in the remote repo is ahead of our local copy of `main` by one commit. To get our local branch up to date we need to perform a fast-forward. First, let's get the remote changes using `git fetch origin main`.\n",
    "5. Now we need to merge those changes into our branch. Run the command `git merge origin/main`\n",
    "\n",
    "Merge complete!\n",
    "\n",
    "\n",
    "<br><p align=center><img src=images/fast_forward.gif width=700></p><br>"
   ]
  },
  {
   "attachments": {},
   "cell_type": "markdown",
   "metadata": {},
   "source": [
    "### Three-Way Merge\n",
    "\n",
    "This type of merge is required when the branch to be merged has diverged from the current branch, and there is no direct path from one to the other. git will create a new commit that brings together changes from both branches, often referred to as a \"merge commit\". If the same part of the file has been modified differently in the two branches, git will not be able to perform the merge cleanly, resulting in a merge conflict that needs to be manually resolved. We will learn more about merge conflicts and how to resolve them in another lesson.\n",
    "\n",
    "For example, in the image below, the `feature` branch was checked out from main at commit `f30ab`. New commits were then added to both `feature` and `main` branches, before merging `feature` back into `main`. It is not possible to do a fast-forward merge, because the branches have divergent histories. In this situation, git creates a merge commit, which combines the changes on both branches. In this case, it will be a combination of the changes in `4650a` on the `main` branch, and `003ce` and `133fa`on the `feature` branch.\n",
    "\n",
    "<br><p align=center><img src=images/threeway_merge.png width=700></p><br>\n",
    "\n"
   ]
  },
  {
   "attachments": {},
   "cell_type": "markdown",
   "metadata": {},
   "source": [
    "### Three Way Merge: Worked Example\n",
    "\n",
    "1. In your `merge_testing` repo, check out a new branch, `my_new_branch`\n",
    "2. Create a new file using the command `echo \"Hello World\" > hello.txt`\n",
    "3. Stage and commit `hello.txt`\n",
    "4. Check out `main`\n",
    "5. Create a second new file with the command `echo \"Hello again\" > hi.txt`\n",
    "6. Stage and commit `hi.txt`\n",
    "7. We will now attempt to merge `my_new_branch` into `main`. This cant be done with a fast-forward, as each branch has a different commit history.\n",
    "Instead, git will perform a 3-way merge. This will generate a new commit at the head of `main`, so we will need to include a commit message with our merge command:\n",
    "\n",
    "`git merge my_new_branch -m \"merges my_new_branch into main\"`\n",
    "\n",
    "<br><p align=center><img src=images/merge_3way.gif width=700></p><br>\n",
    "\n",
    "If you forget to add the `-m` flag and commit message, git's default behaviour is to open a text editor for you to add the commit message. By default, git opens VIM, which is a powerful text editor, but one with a bit of a steep learning curve. Those who aren't familiar with it often can't even quite out of it, let alone edit anything. If you encounter this problem, you have a few options:\n",
    "\n",
    "- You can [learn VIM](https://www.linuxfoundation.org/blog/blog/classic-sysadmin-vim-101-a-beginners-guide-to-vim)\n",
    "- You can configure git to use nano: `git config --global core.editor \"nano\"` \n",
    "- You can suppress the default behaviour of opening an editor by adding this command to your `.bashrc` or `.zshrc`: `export GIT_MERGE_AUTOEDIT=no`\n",
    "\n",
    "\n",
    "\n"
   ]
  },
  {
   "attachments": {},
   "cell_type": "markdown",
   "metadata": {},
   "source": [
    "\n",
    "\n",
    "### Rebase\n",
    "\n",
    "Rebase moves or combines the changes in a branch to a new base. Instead of combining the finished work from two different branches as a new single commit, rebase applies each individual commit from the rebasing branch onto the base branch one at a time. This effectively rewrites the commit history to create a linear narrative of commits, which can make your project history cleaner and easier to understand. However, it should be used with caution, particularly when working on branches that others are also working on, as it can create confusion and potentially overwrite other's changes.\n",
    "\n",
    "- **Complexity:** Although the result is conceptually siple, the rebase process itself can be more complex and harder to understand than a normal merge, especially for beginners. The concept of changing history can be difficult to grasp and the steps required to do it are more involved than a simple merge.\n",
    "\n",
    "- **Risk of losing work:** Since rebasing involves changing commit history, it can potentially lead to loss of work if not used correctly. This is particularly true if you're rewriting public history, i.e., changing commits that have been pushed to a public/shared repository.\n",
    "\n",
    "- **Conflicts can occur multiple times:** During a rebase, conflicts can occur for each commit that is being applied. This means you could potentially have to resolve the same conflict multiple times, whereas with a merge you would only have to resolve it once.\n",
    "\n",
    "- **Lack of context:** With a merge, you get a merge commit that shows you clearly when and where two lines of development diverged. With a rebase, since commits are applied as if they were new, you lose that historical context.\n",
    "\n",
    "\n",
    "<br><p align=center><img src=images/rebase.png width=700></p><br>\n",
    "\n",
    "#### When to Use Rebase\n",
    "\n",
    "A common use case for rebasing is to update a feature branch with the latest commits from a main branch. For instance, you might be working on a new feature in its own branch. While you've been doing that, other developers have made commits on the main branch. Your feature branch is now behind the latest version of the master branch. To resolve this, you would do:\n",
    "```bash\n",
    "`git checkout feature-branch`\n",
    "`git rebase main`\n",
    "``````\n",
    "\n",
    "\n"
   ]
  },
  {
   "attachments": {},
   "cell_type": "markdown",
   "metadata": {},
   "source": [
    "## Key Takeaways\n",
    "\n",
    "- `git fetch` is used to copy the changes from the remote repo to the local repo, although it does not update the local branches with these changes\n",
    "- `git merge` is used to merge the changes in one branch with the changes in another branch\n",
    "- `git pull` is a combination of `git fetch` and `git merge`\n",
    "- In a **fast-forward merge**, git moves the current branch pointer to the latest commit of the merged branch\n",
    "- A **three-way merge** is needed when the branch to be merged has diverged from the current branch. git creates a new commit that combines changes from both branches.\n",
    "- **Rebase**  applies each individual commit from the rebasing branch onto the base branch sequentially, creating a linear commit history "
   ]
  }
 ],
 "metadata": {
  "language_info": {
   "name": "python"
  }
 },
 "nbformat": 4,
 "nbformat_minor": 2
}
