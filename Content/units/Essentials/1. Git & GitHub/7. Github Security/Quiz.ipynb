{
 "cells": [
  {
   "cell_type": "markdown",
   "metadata": {},
   "source": [
    "# Github Security"
   ]
  },
  {
   "cell_type": "markdown",
   "metadata": {},
   "source": [
    "## What is Two-Factor Authentication (2FA)?\n",
    "\n",
    "- A method that requires a password and an additional piece of information for account access ***\n",
    "- A physical device for generating authentication codes\n",
    "- A smartphone application for managing passwords\n",
    "- A feature allowing a single password for multiple services"
   ]
  },
  {
   "cell_type": "markdown",
   "metadata": {},
   "source": [
    "## How does Two-Factor Authentication (2FA) enhance security?\n",
    "\n",
    "- It allows uniform passwords across services\n",
    "- It complicates password guessing\n",
    "- It requires an extra information piece alongside the password ***\n",
    "- It simplifies management of multiple service passwords\n",
    "- It generates unique passwords for each service"
   ]
  },
  {
   "cell_type": "markdown",
   "metadata": {},
   "source": [
    "## What is the benefit of using SSH keys when managing repositories across multiple accounts on GitHub?\n",
    "\n",
    "- SSH keys allow automatic synchronization of all your repositories\n",
    "- SSH keys allow your interaction with GitHub to be authenticated without asking for your username and password each time ***\n",
    "- SSH is faster than http\n",
    "- SSH keys can grant administrative privileges to multiple repositories at the same time"
   ]
  },
  {
   "cell_type": "markdown",
   "metadata": {},
   "source": [
    "## What does the `ssh-keygen` tool do in the context of GitHub?\n",
    "\n",
    "- It encrypts your GitHub password for secure storage\n",
    "- It helps you recover your GitHub password when you forget it\n",
    "- It enables two-factor authentication on your GitHub account\n",
    "- It generates an SSH key pair that you can use to securely connect to your GitHub repositories ***\n",
    "- It directly modifies the access permissions of your GitHub repositories\n"
   ]
  },
  {
   "cell_type": "markdown",
   "metadata": {},
   "source": [
    "## Which of the following is true about recovery codes in GitHub's Two-Factor Authentication?\n",
    "\n",
    "- Each recovery code can be used multiple times\n",
    "- GitHub does not allow you to generate a new set of recovery codes\n",
    "- Recovery codes are automatically stored in GitHub's database for future reference\n",
    "- Each recovery code can only be used once, and GitHub generates a new set whenever you choose to ***\n",
    "- Recovery codes are shared via email when you set up Two-Factor Authentication"
   ]
  },
  {
   "cell_type": "markdown",
   "metadata": {},
   "source": [
    "## What permissions does a Collaborator have in a personal GitHub repository?\n",
    "\n",
    "- They can submit pull requests and comment on issues, but cannot directly modify the repository\n",
    "- They have full control over the repository, including sensitive operations like deleting the repository or managing access and permissions\n",
    "- They have read, write, or admin permissions granted by the repository owner, which includes directly pushing to and pulling from the repository, accepting or closing pull requests, and managing issues ***\n",
    "- They can only read the repository's content, but cannot write to it or perform administrative tasks\n",
    "- They have no special permissions unless the owner or another collaborator grants it"
   ]
  },
  {
   "cell_type": "markdown",
   "metadata": {},
   "source": [
    "## Who are Contributors in the context of a GitHub repository?\n",
    "\n",
    "- Contributors are individuals who have been granted read, write, or admin permissions by the repository owner\n",
    "- Contributors are team members with owner-level access in organization repositories\n",
    "- Contributors are anyone who interacts with the repository by submitting pull requests or commenting on issues. They do not have write access to the repository ***\n",
    "- Contributors have full control over the repository, including sensitive operations like deleting the repository or managing access and permissions\n"
   ]
  },
  {
   "cell_type": "markdown",
   "metadata": {},
   "source": [
    "## What are the responsibilities of a Collaborator in a GitHub repository?\n",
    "\n",
    "- Collaborators can delete the repository\n",
    "- Collaborators can only submit pull requests and comment on issues\n",
    "- Collaborators can directly push to and pull from the repository, accept or close pull requests, and manage issues ***\n",
    "- Collaborators are responsible for creating the repository\n",
    "- Collaborators only have read access to the repository"
   ]
  }
 ],
 "metadata": {
  "language_info": {
   "name": "python"
  },
  "orig_nbformat": 4
 },
 "nbformat": 4,
 "nbformat_minor": 2
}
