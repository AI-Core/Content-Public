{
 "cells": [
  {
   "cell_type": "markdown",
   "metadata": {},
   "source": [
    "# GitHub README Files"
   ]
  },
  {
   "cell_type": "markdown",
   "metadata": {},
   "source": [
    "## By default, what language is a GitHub repository's `REAMDE` file written in?\n",
    "\n",
    "- HTML\n",
    "- Markdown ***\n",
    "- LaTeX\n",
    "- Fortran\n",
    "- PHP"
   ]
  },
  {
   "cell_type": "markdown",
   "metadata": {},
   "source": [
    "## What is the purpose of the `README` document in a repository?\n",
    "\n",
    "- To serve as a manual for code reviews\n",
    "- To provide an overview of the project, explain its usage, and serve as the first point of contact for the repository ***\n",
    "- To maintain a log of all changes made to the project\n",
    "- To list the coding standards and practices followed in the project\n",
    "- To detail the project's dependencies and version control procedures"
   ]
  },
  {
   "cell_type": "markdown",
   "metadata": {},
   "source": [
    "## What is the purpose of the **Description** section in a `README` file?\n",
    "\n",
    "- It provides detailed instructions on how to get your project running on the reader's local environment\n",
    "- It provides a brief explanation of what the project does and why it exists, including details about the problem it solves, the target users, and any major features ***\n",
    "- It provides a detailed log of all changes made to the project over time\n",
    "- It informs users about the license under which your project is released\n",
    "- It outlines the process for interested contributors to help improve your project\n",
    "\n"
   ]
  },
  {
   "cell_type": "markdown",
   "metadata": {},
   "source": [
    "## How do you create a profile `README` on GitHub?\n",
    "\n",
    "- You can edit it directly in an editor on your profile page\n",
    "- You upload a document in the Settings page\n",
    "- You create a special repository with the same name as your account name ***\n",
    "- You email a upload a document to Github, and an AI-enabled assistant automatically formats it for you and adds it to your profile"
   ]
  },
  {
   "cell_type": "markdown",
   "metadata": {},
   "source": [
    "## Which of the following is true about recovery codes in GitHub's Two-Factor Authentication?\n",
    "\n",
    "- Each recovery code can be used multiple times\n",
    "- GitHub does not allow you to generate a new set of recovery codes\n",
    "- Recovery codes are automatically stored in GitHub's database for future reference\n",
    "- Each recovery code can only be used once, and GitHub generates a new set whenever you choose to ***\n",
    "- Recovery codes are shared via email when you set up Two-Factor Authentication"
   ]
  }
 ],
 "metadata": {
  "language_info": {
   "name": "python"
  },
  "orig_nbformat": 4
 },
 "nbformat": 4,
 "nbformat_minor": 2
}
