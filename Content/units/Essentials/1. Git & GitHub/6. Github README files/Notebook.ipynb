{
 "cells": [
  {
   "attachments": {},
   "cell_type": "markdown",
   "metadata": {},
   "source": [
    "# Github `README` file"
   ]
  },
  {
   "attachments": {},
   "cell_type": "markdown",
   "metadata": {},
   "source": [
    ">A GitHub repository's `README.md` file is often the first thing potential users or contributors see when they access your repo. It's a crucial document that provides important information about your project. \n"
   ]
  },
  {
   "attachments": {},
   "cell_type": "markdown",
   "metadata": {},
   "source": [
    "## Motivation\n",
    "\n",
    "The `README.md` document often serves as the first point of contact for anyone who stumbles upon your repository. It provides an opportunity to explain what your project does, how to use it, and how to contribute. But beyond this, a well-crafted `README` can also demonstrate your skills as a developer, your attention to detail, and your ability to communicate complex concepts in a clear and straightforward manner.\n",
    "\n",
    "Think of it as the front door to your project. It's the first thing potential employers, potential collaborators, or users see when they visit your repository. A good `README` can draw people into your project, demonstrate your professionalism, and give viewers confidence in your work.\n"
   ]
  },
  {
   "attachments": {},
   "cell_type": "markdown",
   "metadata": {},
   "source": [
    "\n",
    "## `README` File Basics\n",
    "\n",
    "When you create a repository on GitHub, you have the option to initialize it with a `README.md` file. Once created, GitHub will automatically render the `README` file and display its content on your repository's main page. This is why your `README` needs to be impactful - it's the first thing visitors see when they land on your repository.\n",
    "\n",
    "<br>\n",
    "<p align=center><img src=images/add_readme.gif width=700></p>\n",
    "<br>\n",
    "\n",
    "`README` files are typically written in the Markdown language. Markdown is a lightweight markup language with a plain-text-formatting syntax. It allows you to easily style text on the web and provides a simple way to control the formatting of a document: setting text to bold or italic, adding images, creating lists, etc. If you aren't familiar with Markdown from elsewhere in the course, you can check out a quick guide [here](https://www.markdownguide.org/cheat-sheet/).\n",
    "\n",
    "The following code snippet shows simple examples of what you can do with Markdown:\n",
    "\n",
    "```markdown\n",
    "\n",
    "# This is a Title (H1 heading) \n",
    "\n",
    "## This is an H2 heading\n",
    "[this is a hyperlink](https://www.google.com)\n",
    "\n",
    "- This\n",
    "- Is\n",
    "- A\n",
    "- Bulletpoint \n",
    "- List\n",
    "\n",
    "1. This \n",
    "2. Is \n",
    "3. A\n",
    "4. Numbered\n",
    "5. List \n",
    "\n",
    "### This is an H3 Heading\n",
    "\n",
    "This is how you add an image:\n",
    "![image info](/pictures/image.png)\n",
    "\n",
    "You can also use any HTML you want in a Markdown file:\n",
    "<br>\n",
    "<p align=center><img src=images/example_image.png width=900></p>\n",
    "<br>\n",
    "```\n",
    "\n",
    "You can either edit your `README` file on the remote repo itself on Github, or inside your local copy of your repo using VSCode, and then push the resulting changes to the remote repo.\n"
   ]
  },
  {
   "attachments": {},
   "cell_type": "markdown",
   "metadata": {},
   "source": [
    "\n",
    "## Sections of a `README`\n",
    "\n",
    "### Title\n",
    "The title of your `README` file should ideally be the same as your project name. Make sure it's descriptive and concise. This will be the first impression users have of your project, so it should quickly convey what your project does.\n",
    "\n",
    "### Description\n",
    "This section should briefly explain what your project does and why it exists. It could include the problem your project solves, the target users, and any major features. Aim to make this part as compelling as possible, since it's often the first thing people will read. For example if your repository is a piece of software you have written, briefly outline the problem or the use-case that it addresses, or if it's a data project, describe the question you were trying to solve and outline how your project achieves it.\n",
    "\n",
    "Here's a checklist of items to include in your description. Not all projects will need all of them, but you should at least ask yourself whether each one applies:\n",
    "\n",
    "- What was your motivation? Why did you build this project?\n",
    "- What problem does it solve?\n",
    "- Why did you make the decisions you made in creating your solution?\n",
    "- What did you learn?\n",
    "- What makes your project stand out?\n",
    "- If your project has a lot of different features, consider adding a \"Features\" section and listing them here\n",
    "\n",
    "\n",
    "### Table of Contents\n",
    "For larger `README` files, a table of contents is a useful addition. It makes your document easier to navigate. Link each section in the table of contents to the corresponding header in your `README` to allow for quick access.\n",
    "\n",
    "For example, the following Markdown snippet creates hyperlinks from the entries in the table of contents to their corresponding headings:\n",
    "\n",
    "```Markdown\n",
    "\n",
    "# Table of Contents\n",
    "1. [Introduction](#introduction)\n",
    "2. [Section 1](#section-1)\n",
    "    - [Subsection 1.1](#subsection-1.1)\n",
    "    - [Subsection 1.2](#subsection-1.2)\n",
    "\n",
    "\n",
    "## Introduction\n",
    "Content here...\n",
    "\n",
    "## Section 1\n",
    "Content here...\n",
    "\n",
    "### Subsection 1.1\n",
    "Content here...\n",
    "\n",
    "### Subsection 1.2\n",
    "Content here...\n",
    "```\n",
    "\n",
    "### Installation\n",
    "If your project is a piece of software, like an application or a package that others might download and use, you should provide detailed instructions on how to get your project running on the reader's local environment. This could include information on necessary software, environment setup, installation of dependencies, and any final steps needed to get the project up and running.\n",
    "\n",
    "### Usage\n",
    "It is also helpful to give a walkthrough or guide to your project in action. If your repository is a data project, this would be the section where you present your key findings, or it is a piece of software that others might want to use, it should show examples of how to use it. This could include code snippets, command line instructions, screenshots, gifs or videos. The goal here is to demonstrate the value of your project by showing it in action. If your project is a library, then a list of the available functions would go in this section, possibly alongside some worked examples.\n",
    "\n",
    "### Contributing\n",
    "If you are happy for people to contribute to the project, eg. by suggesting and coding new features, you would include a contribution guide. In this section, outline the process for interested contributors to help improve your project. This could include information on how to file issues, how to propose improvements, and the process for submitting pull requests. You could also mention any specific coding standards or practices you'd like contributors to follow, or any specific features you are looking for that you are hoping others might be able to provide.\n",
    "\n",
    "### License\n",
    "This part informs users about the license under which your project is released, which defines what they are legally allowed to do with your project. If you're unsure what license to use, platforms like [Choose a License](https://choosealicense.com/) can provide guidance."
   ]
  },
  {
   "attachments": {},
   "cell_type": "markdown",
   "metadata": {},
   "source": [
    "## How a Good `README` Can Help Your Career\n",
    "\n",
    "A well-written `README` is a showcase of your technical skills, attention to detail, and your ability to communicate complex concepts. It demonstrates your writing skills and your ability to explain and document your code, which is a highly sought-after skill in the industry, and one which even good coders often lack.\n",
    "\n",
    "A well-documented project can also attract more users and contributors, increasing the visibility and impact of your work, which in turn is appealing to employers. Having a project with a thorough `README` on GitHub shows potential employers that you can manage a project, contribute to open source, and work collaboratively: all important skills in a professional setting. "
   ]
  },
  {
   "attachments": {},
   "cell_type": "markdown",
   "metadata": {},
   "source": [
    "## Enhancing Your `README` File \n",
    "\n"
   ]
  },
  {
   "attachments": {},
   "cell_type": "markdown",
   "metadata": {},
   "source": [
    "\n",
    "\n",
    "1. **Badges**: Badges are small, dynamic status messages that you can embed in your `README` to provide quick information about the project. For example, build status, number of people following the repository, and latest package version. Tools like [Shields.io](https://shields.io/) offer a wide variety of badges you can use. You can also find Shields.io's repo [here](https://github.com/badges/shields).\n",
    "\n",
    "<br>\n",
    "<p align=center><img src=images/badge_eg.png width=700></p>\n",
    "<br>\n",
    "\n",
    "\n",
    "2. **GIFs**: Animated GIFs can be an engaging way to demonstrate the functionality of your project. Tools like [LICEcap](https://www.cockos.com/licecap/) for Windows and macOS or [Peek](https://github.com/phw/peek) for Linux make it easy to record your screen and save the result as a GIF. [GIPHY Capture](https://giphy.com/apps/giphycapture) is another tool for macOS that allows you to create high-quality GIFs.\n",
    "\n",
    "3. **Table of Contents**: A table of contents helps readers navigate your `README`, especially for larger projects. Tools like [DocToc](https://github.com/thlorenz/doctoc) can automatically generate a table of contents for you.\n",
    "\n",
    "4. **Screenshots**: Including screenshots in your `README` can give readers a quick understanding of what your project does. Use your operating system's built-in screenshot tools (like **Snipping Tool** or **Snip & Sketch** on Windows, or **SHIFT+CMD+4** on MacOS), then you can annotate and upload these screenshots directly to GitHub when editing your `README`.\n",
    "\n",
    "5. **Code formatting and highlighting**: Markdown supports inline code and code blocks, but if you want more control over the display and highlighting of your code, you might use something like [Carbon](https://carbon.now.sh/). This allows you to create and share beautiful images of your source code.\n",
    "\n",
    "6. **Charts and diagrams**: If your project has a complex architecture, it might be helpful to include a chart or diagram. Tools like [draw.io](https://app.diagrams.net/) or [Mermaid](https://mermaid-js.github.io/mermaid/#/) allow you to create flowcharts, sequence diagrams, Gantt charts, and more.\n",
    "\n",
    "\n",
    "\n"
   ]
  },
  {
   "attachments": {},
   "cell_type": "markdown",
   "metadata": {},
   "source": [
    "## Your Github Profile Page\n",
    "\n",
    "Creating an impactful and engaging GitHub profile `README` is a crucial part of your online presence, particularly if you're interested in open source development or if you're seeking employment in the tech industry.\n",
    "\n",
    "### How to Create a Profile `README`\n",
    "\n",
    "By default, your GitHub profile looks a bit like this:\n",
    "\n",
    "<br>\n",
    "<p align=center><img src=images/th_github.png width=700></p>\n",
    "<br>\n",
    "\n",
    "There's a place for a short biography and a profile picture, and a board where you can pin your favourite repositories, but in general there is very limited room for customisation. Thankfully it's very easy to create a bespoke profile `README` and display that instead.\n",
    "\n",
    "**1. Create a new repository:** Log in to your GitHub account, and click on the `+` icon on the top right corner next to your profile picture, then select \"**New repository**\"\n",
    "\n",
    "**2. Name the repository:** The repository needs to have the exact same name as your GitHub username, including capitalization. For example, if your username is \"exampleUser\", the repository name should be \"exampleUser\". GitHub will identify this specially-named repository as the place to find your profile `README`.\n",
    "\n",
    "**3. Initialize the repository:** Check the box that says **Add a `README` file**. This will create a `README` file in your repository where you can write the contents of your profile `README`.\n",
    "\n",
    "**4. Edit the README:** Click on the `README.md` file, then click on the pencil icon to edit the file. Here you can add the content you want to show on your profile `README`.\n",
    "\n",
    "**5. Save your changes:** Once you're done editing, scroll down to the bottom of the page, and click the `Commit changes` button\n",
    "\n",
    "<br>\n",
    "<p align=center><img src=images/my_profile_readme.gif width=700></p>\n",
    "<br>"
   ]
  },
  {
   "attachments": {},
   "cell_type": "markdown",
   "metadata": {},
   "source": [
    "You can then clone this repository to your local machine and edit it like any other repo. I edited mine very briefly as follows:\n",
    "\n",
    "<br>\n",
    "<p align=center><img src=images/profile_markdown.png width=900></p>\n",
    "<br>\n",
    "\n",
    "Once you are happy with what you've written, you can commit and push it to the remote repository and it will display at the top of your profile:\n",
    "\n",
    "<br>\n",
    "<p align=center><img src=images/profile_rendered.png width=900></p>\n",
    "<br>\n"
   ]
  },
  {
   "attachments": {},
   "cell_type": "markdown",
   "metadata": {},
   "source": [
    "### What to Put in your Profile `README`\n",
    "\n",
    "#### Biography\n",
    "\n",
    "Write a short paragraph or bullet points, no more than around 8 to 10 lines, describing your skills and achievements. Make sure to keep it professional.\n",
    "\n",
    "\n",
    "#### Mention your Languages, Packages and Skills\n",
    "\n",
    "You should make sure to list all the coding languages in which you are proficient, as well as any packages or libraries you use regularly.\n",
    "This is also a good place to mention any relevant non-coding skills, such as Bayesian Statistics or Quantum Physics.\n",
    "\n",
    "- You can add some icons for the languages and libraries you use, with this [repo](https://github.com/simple-icons/simple-icons#cdn-usage)\n",
    "- There is a wide selection of badges for all kinds of tech-related things [here](https://github.com/alexandresanlim/Badges4-README.md-Profile)\n",
    "\n",
    "#### Your Github Stats\n",
    "\n",
    "You can add a summary of your Github stats using this [repo](https://github.com/anuraghazra/github-readme-stats)\n",
    "\n",
    "This gives a quick, nicely-presented overview of your activity on Github, showing how active a developer you are!\n",
    "\n",
    "\n",
    "#### Helpful Additional Items\n",
    "\n",
    "- Display your most recent Medium Article on your profile `README`: [repo](https://github.com/omidnikrah/github-readme-medium)\n",
    "- Dynamically generated images from your LinkedIn profile : [repo](https://github.com/soroushchehresa/github-readme-linkedin)\n"
   ]
  },
  {
   "attachments": {},
   "cell_type": "markdown",
   "metadata": {},
   "source": [
    "## Examples of Great `README` files\n",
    "\n",
    "### Repository `README` files\n",
    "\n",
    "- The `requests` python library: [link](https://github.com/psf/requests)\n",
    "- VSCode, as an example of a large project: [link](https://github.com/microsoft/vscode)\n",
    "- A curated list of projects with awesome `README` files: [link](https://github.com/matiassingers/awesome-readme)\n",
    "\n",
    "### Profile `README` files\n",
    "\n",
    "You can find a repository containing a curated list of high quality profile `README` files [here](https://github.com/abhisheknaiidu/awesome-github-profile-readme)"
   ]
  },
  {
   "attachments": {},
   "cell_type": "markdown",
   "metadata": {},
   "source": [
    "## Key Takeaways"
   ]
  },
  {
   "attachments": {},
   "cell_type": "markdown",
   "metadata": {},
   "source": [
    "- Your repo's `README` file serves as the introductory guide for your repository, showcasing the project and reflecting the developer's skills, professionalism, and communication ability\n",
    "- Your repo's `README` is an important tool in showcasing your work and helping you get hired\n",
    "- A project's `README` should contain a descriptive title, compelling project description, a navigable table of contents for larger documents, detailed installation instructions, a usage guide with examples, a contribution guide, and information on the project's license\n",
    "- Your **profile `README`**  should include a short professional biography, a list of your coding languages, packages, and tech-related skills\n",
    "\n"
   ]
  }
 ],
 "metadata": {
  "language_info": {
   "name": "python"
  }
 },
 "nbformat": 4,
 "nbformat_minor": 2
}
