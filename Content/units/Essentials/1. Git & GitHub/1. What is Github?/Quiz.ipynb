{
 "cells": [
  {
   "attachments": {},
   "cell_type": "markdown",
   "metadata": {},
   "source": [
    "# What is Github?"
   ]
  },
  {
   "attachments": {},
   "cell_type": "markdown",
   "metadata": {},
   "source": [
    "## What is GitHub?\n",
    "\n",
    "- A version control system\n",
    "- A social media platform for developers\n",
    "- A web-based hosting service for Git repositories ***\n",
    "- An online IDE for coding"
   ]
  },
  {
   "attachments": {},
   "cell_type": "markdown",
   "metadata": {},
   "source": [
    "## What is the command to link a local repository to a remote repository?\n",
    "\n",
    "- `git init`\n",
    "- `git clone`\n",
    "- `git remote add origin` ***\n",
    "- `git push -u origin main` "
   ]
  },
  {
   "attachments": {},
   "cell_type": "markdown",
   "metadata": {},
   "source": [
    "## What is the purpose of the `.gitignore` file in a GitHub repository?\n",
    "\n",
    "- It is a file that lists all the files that need to be tracked by git\n",
    "- It is a file that lists all the files that should be excluded from the GitHub repository ***\n",
    "- It is a file that lists all the files that should be automatically committed to the GitHub repository\n",
    "- It is a file that contains a backup of all the changes made to the GitHub repository"
   ]
  },
  {
   "attachments": {},
   "cell_type": "markdown",
   "metadata": {},
   "source": [
    "## What is the command to clone a GitHub repository to your local machine?\n",
    "\n",
    "- `git add`\n",
    "- `git commit`\n",
    "- `git clone` ***\n",
    "- `git push` "
   ]
  },
  {
   "attachments": {},
   "cell_type": "markdown",
   "metadata": {},
   "source": [
    "## What command is used to push changes from a local repository to a remote repository in GitHub?\n",
    "\n",
    "- `git merge`\n",
    "- `git add`\n",
    "- `git commit`\n",
    "- `git push` ***"
   ]
  },
  {
   "attachments": {},
   "cell_type": "markdown",
   "metadata": {},
   "source": [
    "## Which of the following statements is true about pushing changes in git?\n",
    "\n",
    "- Pushing changes sends all changes in the local repository to the remote repository\n",
    "- Pushing changes overwrites any changes made on the remote repository\n",
    "- Pushing changes only updates the branch currently checked out locally ***\n",
    "- Pushing changes requires a merge with the remote repository"
   ]
  },
  {
   "attachments": {},
   "cell_type": "markdown",
   "metadata": {},
   "source": [
    "## What command do you use to pull changes from a remote repository in git?\n",
    "\n",
    "- `git commit`\n",
    "- `git push`\n",
    "- `git fetch`\n",
    "- `git pull` ***"
   ]
  },
  {
   "attachments": {},
   "cell_type": "markdown",
   "metadata": {},
   "source": [
    "## What does the `git pull` command do in git?\n",
    "\n",
    "- Pushes the changes from the local repository to the remote repository\n",
    "- Retrieves changes from the remote repository and merges them into the current branch ***\n",
    "- Deletes the current branch and retrieves the previous commit\n",
    "- Creates a new branch and switches to it"
   ]
  },
  {
   "attachments": {},
   "cell_type": "markdown",
   "metadata": {},
   "source": [
    "## What is `git fetch` in git?\n",
    "\n",
    "- A command used to retrieve changes from a remote repository without merging them to the local branch ***\n",
    "- A command used to apply changes from the staging area to the local repository\n",
    "- A command used to undo the changes made to the local repository since the last commit\n",
    "- A command used to create a new branch in the local repository"
   ]
  },
  {
   "attachments": {},
   "cell_type": "markdown",
   "metadata": {},
   "source": [
    "## What is the main difference between `git pull` and `git fetch` in git?\n",
    "\n",
    "- `git pull` and `git fetch` both update the local repository with the latest changes from the remote repository, but `git pull` requires an additional `git merge` command to integrate the changes\n",
    "\n",
    "- `git fetch` updates the local repository with the latest changes from the remote repository, while `git pull` only downloads the changes to the local copy of the remote repository\n",
    "\n",
    "- `git pull` and `git fetch` are the same command in git\n",
    "\n",
    "-  `git pull` and `git fetch` both update the local repository with the latest changes from the remote repository, but `git fetch` requires an additional `git merge` command to integrate the changes ***"
   ]
  },
  {
   "attachments": {},
   "cell_type": "markdown",
   "metadata": {},
   "source": [
    "## What are the steps to clone a GitHub repository?\n",
    "\n",
    "- `git clone <repository URL> <local directory>` ***\n",
    "- `git init <local directory> `followed by `git remote add origin <repository URL>`\n",
    "- `git add <file>` followed by `git commit -m \"Initial commit\"` and then `git remote add origin <repository URL>` and finally `git push -u origin master`\n",
    "- `git fetch <repository URL>` followed by `git merge origin/master`"
   ]
  }
 ],
 "metadata": {
  "language_info": {
   "name": "python"
  },
  "orig_nbformat": 4
 },
 "nbformat": 4,
 "nbformat_minor": 2
}
