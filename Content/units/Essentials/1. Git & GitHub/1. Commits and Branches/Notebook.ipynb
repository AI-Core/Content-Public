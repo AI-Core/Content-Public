{
 "cells": [
  {
   "attachments": {},
   "cell_type": "markdown",
   "id": "5a6fa3a1",
   "metadata": {},
   "source": [
    "# Commits and Branches"
   ]
  },
  {
   "attachments": {},
   "cell_type": "markdown",
   "id": "cedde91b",
   "metadata": {},
   "source": [
    "## Motivation\n",
    "\n",
    "Understanding the concepts behind commits and branches is a vital part of learning to use git. It will give you an idea of what is going on \"under the hood\", and will mke you more confident in using git to manage your project."
   ]
  },
  {
   "attachments": {},
   "cell_type": "markdown",
   "id": "854a0960",
   "metadata": {},
   "source": [
    "\n",
    "## Commits are Arranged into Branches\n",
    "\n",
    "Commits are the core building block units of a git project timeline. Each time you make a commit, it is added to a chain of previous commits, each with its own unique identifier, known as a *SHA-1 hash*. The commit hash that is automatically generated for each commit you make. This 40-character string of numbers and letters is created by applying the SHA-1 algorithm to the contents and metadata of the commit, ensuring a unique identifier for each commit. \n",
    "\n",
    ">A sequential history of commits is known as a *branch*, and looks something like this:\n",
    "\n",
    "<br><p align=center><img src=images/commit_branch.png width=900></p><br>\n",
    "\n",
    "Each box represents a commit (labelled with the first few digits of the SHA-1 hash), and the arrows represent the commit history. We will see more graphs like this as we go through the lesson and explain more advanced concepts.\n",
    "\n",
    "\n",
    " \n",
    "\n"
   ]
  },
  {
   "attachments": {},
   "cell_type": "markdown",
   "id": "0d81894e",
   "metadata": {},
   "source": [
    "## Using Branches\n",
    "\n",
    "When you first start working in a new repository, there is only a single branch. This branch is called `main` (or `master` in earlier versions) by default, and forms the primary, production version of your project. Reverting to earlier commits in the branch effectively functions as an \"undo\", reverting to earlier stages in the development of your project. \n",
    "\n",
    "\n",
    "\n",
    "> The real power of git however comes from using multiple branches. A branch is chain of commits that forms a parallel version of a repository. It is an independent line of development that allows you to isolate your work without affecting the `main` branch. Technically, a branch is just a movable pointer to a commit, as well will see later in this lesson.\n",
    "\n",
    "When you create a branch, you're effectively creating a unique environment where you can experiment, make changes, or add new features. Once you're satisfied with your updates, you can *merge* your branch back into the main branch, bringing over your modifications. We will learn more about merging branches later in the lesson.\n",
    "\n",
    "Using branches, you can:\n",
    "- Work on new features separate from other developers\n",
    "- Ensure that the development process is structured and easy to follow\n",
    "- Test out experimental/work-in-progress (WIP) code without altering the `main` branch\n",
    "\n",
    "### Feature-Based Workflow\n",
    "\n",
    "*Feature-based workflow* is an approach to coding where each new feature, bug fix, or unit of work is developed in a separate branch. The idea is to isolate changes related to a specific feature from the rest of the project. This helps to prevent introducing bugs into the `main` branch and makes it easier to manage code for larger projects, especially when several developers are collaborating on the same project.\n",
    "\n",
    "You don't need to worry too much about the details here, just remember that each time you want to add a new feature, you should create a new branch.\n"
   ]
  },
  {
   "attachments": {},
   "cell_type": "markdown",
   "id": "f8da609e",
   "metadata": {},
   "source": [
    "## The `HEAD` Pointer\n",
    "\n",
    "In git, `HEAD` is a reference (or a pointer) to the latest commit in the currently active branch. So, if you switch from one branch to another, the `HEAD` will point to the latest commit of the new branch.\n",
    "\n",
    "You can think of the `HEAD` as the \"current commit\". It's also important when you're looking to revert changes, as you'll often revert to the commit that `HEAD` points to. In essence, `HEAD` is a way for git to know which commit is the currently active one, and where you are in your project history."
   ]
  },
  {
   "attachments": {},
   "cell_type": "markdown",
   "id": "faefdcd7",
   "metadata": {},
   "source": [
    "\n",
    "## Creating and Switching Branches\n",
    "\n",
    "You can create a new branch using either the `git branch` or `git checkout` commands. *Checking out* is git speak for switching from one branch to another. This can be between existing branches, or to a new branch that doesn't exist yet. To create a new branch we need to used the `-b` flag for the `checkout` command, as follows:\n",
    "\n",
    "`git checkout -b my_new_feature_branch`\n",
    "\n",
    "You can also use `git branch BRANCH_NAME`, the difference being that `checkout -b` creates the branch **and** checks it out (switches to the branch), whereas `git branch` only creates the branch, but leaves you on the existing branch.\n",
    "\n",
    "If you ever forget which branch you are currently on, you can find out by using the `git branch` command with no arguments. This will display a list of all branches in the repo, with the current branch highlighted.\n",
    "\n",
    "<br><p align=center><img src=images/git_branch.gif width=900></p><br>\n",
    "\n",
    "Let’s assume so far we were working on main and have made a series of commits already, and now we want to add a new feature to our codebase. At this point we will create a new branch. Create a new branch called `feature` using the command:\n",
    "\n",
    "`git branch feature`\n",
    "\n",
    "<br><p align=center><img src=images/initial_checkout.png width=400></p><br>\n",
    "\n",
    "Note that:\n",
    "\n",
    "- We are still on the `main` branch, as indicated by `HEAD`\n",
    "- The new branch is currently just a pointer to the latest commit (`f30ab`)\n",
    "\n",
    "\n",
    "To switch to the new branch, it is the same command but without the `-b` flag: `git checkout feature`\n",
    "\n",
    "Now that we are on the `feature` branch (`HEAD` points to it), we can perform the usual operations, including `git add` and `git commit`. We make some chagnes and commit them, creating commit `87ab2`.\n",
    "\n",
    "<br><p align=center><img src=images/first_new_branch.png width=500></p><br>\n"
   ]
  },
  {
   "attachments": {},
   "cell_type": "markdown",
   "id": "c1cb0a52",
   "metadata": {},
   "source": [
    "\n",
    "We can switch back to the `main` by simply running the `git checkout main` command. When you do so, your local changes will revert to how they were on the `main`. This does not imply that your changes on `feature` are lost. They are simply committed on another branch.\n",
    "\n",
    "If we then make a new commit on `main`, we finally get a true branched commit tree. Both branches share a common history up to commit `f30ab`,  which was where we checked out the new branch, however after that point they diverge.\n",
    "\n",
    " <br><p align=center><img src=images/divergent_commits.png width=500></p><br>"
   ]
  },
  {
   "attachments": {},
   "cell_type": "markdown",
   "id": "b0f80a08",
   "metadata": {},
   "source": [
    "## Checking Out a Specific Commit\n",
    "\n",
    "Earlier we defined the `HEAD` pointer as referring to the latest commit in the currently checked-out branch. But what happens if you make a mistake and wish to return to an earlier commit?\n",
    "\n",
    "To check out a previous commit in git, you need to first find the commit hash. This can be done by viewing the commit history with the `git log` command we encountered in a previous lesson. This will display a list of commits with their associated hash (a unique identifier).\n",
    "\n",
    "<br><p align=center><img src=images/git_log.png width=900></p><br>\n",
    "\n",
    "Each entry in the log shows:\n",
    "\n",
    "- The commit hash (in yellow)\n",
    "- The author of the commit\n",
    "- The timestamp at which it was made\n",
    "- The commit message\n",
    "- The `HEAD` pointer and current branch name, next to the commit which is currently checked-out \n",
    "\n",
    "Once you have identified the hash of the commit you want to check out, use the `git checkout` command followed by the hash. Note that you don't need to use the entire 40-character hash, just sufficient characters from the start of the hash to ensure that it is unique within the current repository. For example, to check out a commit with hash:\n",
    "\n",
    "`cd8c42979bb16fc5b203310c36eb440355188398`\n",
    "\n",
    "We can just use: `git checkout cd8c4`. This command will put the repository into the state specified by commit `cd8c4`, but it will be in what is know as a \"detached `HEAD`\" state, where you can browse the code at that particular commit, but any new commits you make will not belong to any branch and will be lost once you check out back into a branch.\n",
    "\n",
    "If you want to make changes and keep them, it's often better to create a new branch while checking out the commit, like this: `git checkout -b new-branch-name cd8c4`\n",
    "\n",
    "This command creates a new branch named `new-branch-name` and checks it out at the commit specified by `cd8c4`. You can then make changes and commit them to this new branch.\n",
    "\n",
    "\n",
    "\n"
   ]
  },
  {
   "attachments": {},
   "cell_type": "markdown",
   "id": "36e4e5ae",
   "metadata": {},
   "source": [
    "## Merging\n"
   ]
  },
  {
   "attachments": {},
   "cell_type": "markdown",
   "id": "65b7df01",
   "metadata": {},
   "source": [
    "When you have completed your work on a branch, you can apply the changes to the `main` branch by *merging* it. \n",
    "\n",
    ">Merging is the process of integrating changes from one branch into another. It allows you to take the modifications from one branch and apply them to another branch. When you execute a merge operation, git finds the base commit that both branches share, then applies the changes made in the source branch onto the target.\n",
    "\n",
    "From the example above, let us assume that you have completed your work on the `feature` branch. You can implement the changes from `feature` into `main` by merging.\n",
    "\n",
    "1. Switch to the `main` branch: `git checkout main`\n",
    "2. Then perform the merge operation: `git merge feature`\n",
    "\n",
    "This will then merge the *source* branch (in this case `feature`) into the *target* branch (`main`).\n",
    "\n",
    "<p align=center><img src=images/merge.png width=800></p>\n"
   ]
  },
  {
   "attachments": {},
   "cell_type": "markdown",
   "id": "013128da",
   "metadata": {},
   "source": [
    "git will attempt to automatically merge the changes from the feature branch into main. If the same part of the same file was modified in both branches, git might be unable to merge them cleanly and cause a merge conflict, which you would have to resolve manually. We will learn more about different types merges, merge conflicts and how to resolve them in another lesson. Once resolved and the merge commit is made, all changes from feature will be in the main branch."
   ]
  },
  {
   "attachments": {},
   "cell_type": "markdown",
   "id": "7f1d90b6",
   "metadata": {},
   "source": [
    "## Key Takeaways\n",
    "\n",
    "- Commits are \"snapshots\" of your codebase that contain enough information to reconstruct the state of the codebase at the point the commit was made\n",
    "- Each commit has a unique identifier, known as a SHA-1 hash\n",
    "- Branches are sequential histories of commits, and you can use multiple branches to track different features on the project\n",
    "- Each project has a primary branch, usually called `main`, which is the main canonical version of your project\n",
    "- You should create a new branch every time you work on a new feature for your project\n",
    "- You can switch between branches using the `git checkout` command\n",
    "- `HEAD` is the name for a pointer that denotes the currently active commit, usually the latest commit in the current branch\n",
    "- Merging is the process of applying the changes from one branch into another branch\n"
   ]
  }
 ],
 "metadata": {
  "interpreter": {
   "hash": "3d597f4c481aa0f25dceb95d2a0067e73c0966dcbd003d741d821a7208527ecf"
  },
  "kernelspec": {
   "display_name": "Bash [conda env:.conda-AiCore] *",
   "language": "python",
   "name": "python3"
  },
  "language_info": {
   "codemirror_mode": {
    "name": "ipython",
    "version": 3
   },
   "file_extension": ".py",
   "mimetype": "text/x-python",
   "name": "python",
   "nbconvert_exporter": "python",
   "pygments_lexer": "ipython3",
   "version": "3.9.1"
  }
 },
 "nbformat": 4,
 "nbformat_minor": 5
}
