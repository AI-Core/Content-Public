{
 "cells": [
  {
   "attachments": {},
   "cell_type": "markdown",
   "metadata": {},
   "source": [
    "# Branching and Merging"
   ]
  },
  {
   "attachments": {},
   "cell_type": "markdown",
   "metadata": {},
   "source": [
    "## What is a git branch?\n",
    "\n",
    "- A feature that allows you to roll back changes to a previous version of the codebase\n",
    "- A separate version of the codebase that allows for independent development ***\n",
    "- A tool that helps you visualize the changes made to a codebase over time\n",
    "- A command that merges two or more branches of a codebase together"
   ]
  },
  {
   "attachments": {},
   "cell_type": "markdown",
   "metadata": {},
   "source": [
    "## What is the command used to list all the current branches in git?\n",
    "\n",
    "- `git clone`\n",
    "- `git branch` ***\n",
    "- `git checkout` \n",
    "- `git commit`"
   ]
  },
  {
   "attachments": {},
   "cell_type": "markdown",
   "metadata": {},
   "source": [
    "## What is the command used to switch to a different branch in git?\n",
    "\n",
    "- `git clone`\n",
    "- `git branch`\n",
    "- `git checkout` ***\n",
    "- `git commit`"
   ]
  },
  {
   "attachments": {},
   "cell_type": "markdown",
   "metadata": {},
   "source": [
    "## What is the command used to merge one branch into another in git?\n",
    "\n",
    "- `git clone`\n",
    "- `git branch`\n",
    "- `git checkout`\n",
    "- `git merge` ***\n"
   ]
  },
  {
   "attachments": {},
   "cell_type": "markdown",
   "metadata": {},
   "source": [
    "## Which of the following is the most appropriate description of what the `git branch` command does?\n",
    "\n",
    "- Creates a new branch\n",
    "- Lists all the branches currently in the repo\n",
    "- Creates a new branch or lists all the existing branches, depending on context ***\n",
    "- Creates a new branch and checks it out"
   ]
  },
  {
   "cell_type": "markdown",
   "metadata": {},
   "source": [
    "## Where does the `HEAD` pointer normally point to in git?\n",
    "\n",
    "- The first commit in the branch\n",
    "- The commit before the current one\n",
    "- The latest commit in the currently active branch ***\n",
    "- The branch that is currently not active\n",
    "- The commit that has been reverted to"
   ]
  },
  {
   "cell_type": "markdown",
   "metadata": {},
   "source": [
    "## How does the `HEAD` pointer change when you switch from one branch to another?\n",
    "\n",
    "- The `HEAD` pointer doesn't change\n",
    "- The `HEAD` pointer points to the first commit of the new branch\n",
    "- The `HEAD` pointer points to the latest commit of the new branch ***\n",
    "- The `HEAD` pointer points to the commit before the latest commit in the new branch\n",
    "- The `HEAD` pointer is reset and doesn't point to any commit"
   ]
  },
  {
   "cell_type": "markdown",
   "metadata": {},
   "source": [
    "## What is a feature-based workflow?\n",
    "\n",
    "- A workflow where each feature is developed in the `main` branch\n",
    "- A workflow where all features are developed in a single branch\n",
    "- A workflow where each new feature, bug fix, or unit of work is developed in a separate branch ***\n",
    "- A workflow where each new feature is directly committed to the `main` branch without testing\n",
    "- A workflow where features are only added once the previous feature is completed"
   ]
  },
  {
   "cell_type": "markdown",
   "metadata": {},
   "source": [
    "## How can you find the commit hash of previous commits?\n",
    "- By using the `git status` command\n",
    "- By using the `git checkout` command\n",
    "- By using the `git log` command ***\n",
    "- By using the `git commit` command\n",
    "- By using the `git branch` command"
   ]
  },
  {
   "cell_type": "markdown",
   "metadata": {},
   "source": [
    "## What command would you use to revert the repository to a previous commit using its hash?\n",
    "\n",
    "- `git log <commit-hash>`\n",
    "- `git revert <commit-hash>`\n",
    "- `git reset <commit-hash>`\n",
    "- `git status <commit-hash>`\n",
    "- `git checkout <commit-hash>` ***"
   ]
  },
  {
   "cell_type": "markdown",
   "metadata": {},
   "source": [
    "## What does a commit hash represent?\n",
    "\n",
    "- The author of the commit\n",
    "- The timestamp of the commit\n",
    "- A unique identifier for each commit ***\n",
    "- The commit message\n",
    "- The current branch name"
   ]
  },
  {
   "cell_type": "markdown",
   "metadata": {},
   "source": [
    "## What does it mean when your repository is in a \"detached `HEAD`\" state?\n",
    "\n",
    "- The `HEAD` pointer has been removed from the repository\n",
    "- The repository is currently on the main branch\n",
    "- You're viewing the code at a particular commit, but new commits won't belong to any branch ***\n",
    "- The `HEAD` pointer is referring to the latest commit in the checked-out branch\n",
    "- The repository has lost its commit history"
   ]
  },
  {
   "cell_type": "markdown",
   "metadata": {},
   "source": [
    "## What is the purpose of merging in Git?\n",
    "\n",
    "- To create a new branch\n",
    "- To apply changes from one branch onto another ***\n",
    "- To find the base commit shared by two branches\n",
    "- To remove changes from a branch\n",
    "- To display the commit history\n",
    "\n"
   ]
  },
  {
   "cell_type": "markdown",
   "metadata": {},
   "source": [
    "## How do you merge changes from a `feature` branch into the `main` branch?\n",
    "\n",
    "- `git checkout feature` and then `git merge main`\n",
    "- `git merge feature` while on the `feature` branch\n",
    "- `git checkout main` and then `git merge feature` ***\n",
    "- `git merge main` while on the `main` branch"
   ]
  }
 ],
 "metadata": {
  "language_info": {
   "name": "python"
  },
  "orig_nbformat": 4
 },
 "nbformat": 4,
 "nbformat_minor": 2
}
