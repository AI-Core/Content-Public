{
 "cells": [
  {
   "cell_type": "markdown",
   "metadata": {},
   "source": [
    "# Merge Conflicts"
   ]
  },
  {
   "cell_type": "markdown",
   "metadata": {},
   "source": [
    "## Which of the following is an accurate description of when a merge conflict can occur in git?\n",
    "\n",
    "- A merge conflict occurs when the branch you're merging does not contain any commits\n",
    "- A merge conflict occurs when the same part of your code is changed in two branches that you're trying to merge together, or when a file is removed in one branch but edited in the other ***\n",
    "- A merge conflict occurs when the commit history of the branches to be merged is identical\n",
    "- A merge conflict occurs when you attempt to merge a branch with a remote repository\n",
    "- A merge conflict occurs when changes in one branch are older than those in the branch it's being merged with"
   ]
  },
  {
   "cell_type": "markdown",
   "metadata": {},
   "source": [
    "## What can cause merge conflicts in git?\n",
    "\n",
    "- Merge conflicts only occur when changes to the code have been committed without a descriptive commit message\n",
    "- Merge conflicts can occur due to edit conflicts, delete/edit conflicts, rename/edit conflicts, and modifications to binary files ***\n",
    "- Merge conflicts occur only when the branches being merged are not up to date with the remote repository\n",
    "- Merge conflicts occur when a file is moved to a different location in one branch, and the same file is moved to another location in the other branch.\n",
    "- Merge conflicts are caused when the git configuration files have errors"
   ]
  },
  {
   "cell_type": "markdown",
   "metadata": {},
   "source": [
    "\n",
    "## What happens during a delete/edit conflict in git?\n",
    "\n",
    "- Git always favors the branch where the file was deleted in a delete/edit conflict\n",
    "- In a delete/edit conflict, one branch deletes a file while another branch modifies the same file, causing git to be unsure whether to keep or delete the file ***\n",
    "- Git always favors the branch where the file was edited in a delete/edit conflict\n",
    "- Git ignores the changes made in the branch where the file was deleted"
   ]
  },
  {
   "cell_type": "markdown",
   "metadata": {},
   "source": [
    "\n",
    "\n",
    "\n",
    "\n",
    "\n",
    "## Why do binary files cause merge conflicts in git?\n",
    "\n",
    "- Binary files cause merge conflicts in git because they cannot be pushed to a remote repository\n",
    "- Binary files cause merge conflicts in git because git cannot interpret the binary data format\n",
    "- Binary files cause merge conflicts in git because they are too large to be handled by git's merging algorithm\n",
    "- Binary files cause merge conflicts in git because git cannot merge them. If two branches modify the same binary file and are then merged, git will not know how to combine these changes and will raise a conflict. ***\n"
   ]
  },
  {
   "cell_type": "markdown",
   "metadata": {},
   "source": [
    "## How does git indicate when a merge conflict occurs?\n",
    "\n",
    "- Git automatically solves merge conflicts and does not provide any specific indication\n",
    "- When a merge conflict occurs, git deletes the conflicting files and provides an error message\n",
    "- Git halts the merge operation and outputs a message indicating that conflicts need to be resolved ***\n",
    "- Git sends an email to the contributors of the project when a merge conflict occurs\n",
    "- Git automatically creates a new branch where the merge conflicts need to be resolved"
   ]
  },
  {
   "cell_type": "markdown",
   "metadata": {},
   "source": [
    "## What do the conflict markers in a file indicate during a merge conflict? \n",
    "\n",
    "- The conflict markers indicate the commits where the conflicts originated from\n",
    "- The conflict markers indicate the parts of the code that need to be removed to resolve the conflict \n",
    "- The area between `<<<<<<< HEAD` and `=======` shows the changes from the branch you have currently checked out, while the area between `=======` and `>>>>>>> branch-name` shows the changes coming from the branch you are trying to merge into your current branch. ***\n",
    "- The conflict markers are random strings that git adds during a merge conflict\n",
    "- The conflict markers show the authors of the conflicting code sections"
   ]
  },
  {
   "cell_type": "markdown",
   "metadata": {},
   "source": [
    "\n",
    "\n",
    "## What does the `CONFLICT (content): Merge conflict in filename` part of the conflict message in git signify?\n",
    "\n",
    "- It suggests that there is a syntax error in the code\n",
    "- It is an indication that the file was deleted in one of the branches\n",
    "- It informs that a conflict was found in the specified file ***\n",
    "- It signifies that the file has been modified beyond recognition and needs to be restored from the previous commit\n",
    "- It warns that the conflicting file will be automatically deleted if you continue with the merge\n"
   ]
  },
  {
   "cell_type": "markdown",
   "metadata": {},
   "source": [
    " ## What is an edit conflict in the context of git?\n",
    "\n",
    "- An edit conflict occurs when a file is renamed in one branch and modified in another\n",
    "- An edit conflict is a situation where a file has been edited in a manner that violates the language syntax\n",
    "- An edit conflict happens when changes are made on the same line of the same file on different branches. When you attempt to merge these branches, git cannot determine which change should take precedence ***\n",
    "- An edit conflict refers to a situation when one branch deletes a file while another branch modifies the same file\n",
    "- An edit conflict is a situation where a developer edits a file while it is being used by another process or application\n"
   ]
  },
  {
   "cell_type": "markdown",
   "metadata": {},
   "source": [
    "## When two branches are merged, one of two algorithms is used. If the branches have diverged, which algorithm is used?\n",
    "\n",
    "- three-way merge  ***\n",
    "- fast-forward merge\n",
    "- merge conflict\n",
    "- orphan-creating merge"
   ]
  },
  {
   "cell_type": "markdown",
   "metadata": {},
   "source": [
    "## What command is used to abandon a merge attempt, and start over?\n",
    "\n",
    "- `git checkout -b`\n",
    "- `git merge --abort` ***\n",
    "- `git abort merge`\n",
    "- `git exit`\n",
    "- `git merge --discard`"
   ]
  }
 ],
 "metadata": {
  "language_info": {
   "name": "python"
  },
  "orig_nbformat": 4
 },
 "nbformat": 4,
 "nbformat_minor": 2
}
