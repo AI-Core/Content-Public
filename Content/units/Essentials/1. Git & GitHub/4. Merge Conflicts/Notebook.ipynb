{
 "cells": [
  {
   "attachments": {},
   "cell_type": "markdown",
   "metadata": {},
   "source": [
    "# Merge Conflicts "
   ]
  },
  {
   "attachments": {},
   "cell_type": "markdown",
   "metadata": {},
   "source": [
    ">A merge conflict is a situation that occurs when git is unable to automatically resolve differences in code between two commits. \n",
    "\n",
    "When all the changes in the code occur on different lines or in different files, git will successfully merge commits without your intervention. \n",
    "A merge conflict occurs when the same part of your code is changed in two branches that you're trying to merge together, or when a file is removed in one branch but edited in the other. git can't make a decision on how to combine these changes, and needs human intervention to proceed. "
   ]
  },
  {
   "attachments": {},
   "cell_type": "markdown",
   "metadata": {},
   "source": [
    "## Motivation\n",
    "\n",
    "Merge conflicts are an inevitable part of the development process, and are almost guaranteed to occur eventually. Learning about how to resolve them will:\n",
    "\n",
    "- Give you confidence in resolving changes in a manner that doesn't break your code or cause you to lose work\n",
    "- Enhance your professional readiness. Proficiency in resolving merge conflicts is a vital skill for real-world software development scenarios.\n",
    "- Improve your ability to work on code as part of a team\n"
   ]
  },
  {
   "attachments": {},
   "cell_type": "markdown",
   "metadata": {},
   "source": [
    "## Causes of Merge Conflicts\n",
    "\n",
    "The main causes of merge conflicts are:\n",
    "\n",
    "1. **Edit Conflicts**: This is the most common type of merge conflict. It happens when changes are made on the same line of the same file on different branches. When you attempt to merge these branches, git cannot determine which change should take precedence.\n",
    "\n",
    "2. **Delete/Edit Conflicts**: These occur when one branch deletes a file while another branch modifies the same file. Upon attempting to merge, git is unsure whether to keep the file or delete it.\n",
    "\n",
    "3. **Rename/Edit Conflicts**: These conflicts happen when a file is renamed in one branch and modified in another. git becomes confused because the renamed file appears to be a new file, and the other branch still has changes related to the old file name.\n",
    "\n",
    "4. **Binary Files**: git cannot merge binary files (like images, Jupyter notebooks, compiled code  etc.). If two branches modify the same binary file and are then merged, git will not know how to combine these changes and will raise a conflict.\n",
    "\n"
   ]
  },
  {
   "attachments": {},
   "cell_type": "markdown",
   "metadata": {},
   "source": [
    "## Identifying Merge Conflicts\n",
    "\n",
    "git provides clear indicators when a merge conflict occurs. When you attempt a merge operation and git encounters conflicting changes, it will halt the merge and output a message indicating that conflicts need to be resolved. This message will typically look something like this:\n",
    "\n",
    "```bash\n",
    "Auto-merging filename\n",
    "CONFLICT (content): Merge conflict in filename\n",
    "Automatic merge failed; fix conflicts and then commit the result.\n",
    "```\n",
    "\n",
    "<br><p align=center><img src=images/conflict_msg.png width=700></p><br>\n",
    "\n",
    "Furthermore, git marks the areas in your files where conflicts occurred with conflict markers. These conflict markers show you the conflicting changes so that you can resolve them. They look like this:\n",
    "\n",
    "```bash\n",
    "<<<<<<< HEAD\n",
    "[Changes made in the current branch]\n",
    "=======\n",
    "[Changes made in the branch to be merged]\n",
    ">>>>>>> branch-name\n",
    "```\n",
    "\n",
    "Here is what this message looks like in VSCode:\n",
    "\n",
    "<br><p align=center><img src=images/merge_resolve2.png width=700></p><br>\n",
    "\n",
    "The area between `<<<<<<< HEAD` and `=======` shows the changes from the branch you have currently checked out (`HEAD`), while the area between `=======` and `>>>>>>> branch-name` shows the changes coming from the branch you are trying to merge into your current branch.\n",
    "\n",
    "When git outputs a conflict message, it's communicating where the problem occurred and which files are affected:\n",
    "\n",
    "- The `Auto-merging` part of the message indicates which file git tried to automatically merge changes into\n",
    "- The `CONFLICT (content): Merge conflict in filename` part tells you that a conflict was found in that file\n",
    "- The `Automatic merge failed; fix conflicts and then commit the result.` section is instructing you to manually resolve the conflict and then make a new commit\n",
    "\n",
    "\n",
    "\n",
    "\n"
   ]
  },
  {
   "attachments": {},
   "cell_type": "markdown",
   "metadata": {},
   "source": [
    "## Resolving Merge Conflicts"
   ]
  },
  {
   "attachments": {},
   "cell_type": "markdown",
   "metadata": {},
   "source": [
    "When git indicates a merge conflict, it's up to you to manually resolve it. Here are the steps:\n",
    "\n",
    "1. First, identify where the merge conflict occurred. git will list the files where conflicts are present in the merge conflict message\n",
    "\n",
    "2. Open these files in your text editor. Look for the conflict markers (`<<<<<<<`, `=======`, and `>>>>>>>` )\n",
    "\n",
    "3. Determine which version of the conflicting code to keep, or if necessary, manually merge the code yourself"
   ]
  },
  {
   "attachments": {},
   "cell_type": "markdown",
   "metadata": {},
   "source": [
    "### Editing Conflict Markers\n",
    "\n",
    "When you've decided on how to resolve the conflict, edit the file to make the necessary changes. This involves removing the conflict markers and ensuring the remaining code is what you want.\n",
    "\n",
    "Suppose git shows a conflict like this:\n",
    "\n",
    "```\n",
    "<<<<<<< HEAD\n",
    "This is some content from the current branch.\n",
    "=======\n",
    "This is some content from the branch to be merged.\n",
    ">>>>>>> branch-name\n",
    "```\n",
    "\n",
    "If you want to keep the changes from the branch to be merged, you'd edit the conflict to look like this:\n",
    "\n",
    "```\n",
    "This is some content from the branch to be merged.\n",
    "```\n",
    "\n",
    "Once you have edited the code to resolve the conflict, you need to add the file to staging and then commit the result. Alternatively, if you make a mistake during the merging process and want to abandon the merge attempt, use the command: `git merge --abort`. This will reset the branch you are on back to the state it was in prior to the merge being attempted."
   ]
  },
  {
   "attachments": {},
   "cell_type": "markdown",
   "metadata": {},
   "source": [
    "## Merge Conflict Worked Example\n",
    "\n",
    "Let's run through how to resolve a merge conflict. To do so we first need to make some changes to our branch that will create one. \n",
    "\n",
    "1. Go to the `merge_testing` repo that you created in the lesson on `Fetching and Merging`. If you didn't do that lesson yet, go back and follow the instructions there before continuing.\n",
    "2. Check out the `my_new_branch` branch\n",
    "3. Create a file called `example.py` using the commnad `touch example.py`\n",
    "4. Edit the file to contain the following code:\n"
   ]
  },
  {
   "cell_type": "code",
   "execution_count": null,
   "metadata": {},
   "outputs": [],
   "source": [
    "import time\n",
    "\n",
    "# This is an example python script to test merge conflicts\n",
    "time.sleep(1)\n",
    "print(f\"Hello World!, the time is {time.time()}\")\n",
    "time.sleep(1)"
   ]
  },
  {
   "attachments": {},
   "cell_type": "markdown",
   "metadata": {},
   "source": [
    "5. Now checkout `main`\n",
    "6. Create `example.py` in this branch too, and edit it to contain the following code:"
   ]
  },
  {
   "cell_type": "code",
   "execution_count": null,
   "metadata": {},
   "outputs": [],
   "source": [
    "import time\n",
    "\n",
    "# This is an example python script to test merge conflicts\n",
    "time.sleep(3)\n",
    "print(f\"Hello World!, the time is {time.time()}\")\n",
    "time.sleep(3)"
   ]
  },
  {
   "attachments": {},
   "cell_type": "markdown",
   "metadata": {},
   "source": [
    "7. Stage and commit the changes in `main` and then run `git merge my_new_branch`. You should get a conflict message."
   ]
  },
  {
   "attachments": {},
   "cell_type": "markdown",
   "metadata": {},
   "source": [
    "### Resolving Merge Conflicts in VSCode\n",
    "\n",
    "> Visual Studio Code (VSCode) comes with built-in merge conflict resolution tools that can make the workflow easier. \n",
    "\n",
    "\n",
    "When you attempt a merge in VSCode, you will see any conflicts appear in the `source control` tab on the left-hand pane, denoted by this icon:\n",
    "\n",
    "<br><p align=center><img src=images/source_control_icon.png width=100></p><br>\n",
    "\n",
    "The source control pane contains several tools to speed up the git workflow, and we will cover it in greater depth in a later lesson, but for now you just need to know that you can click on it to view any active conflicts:\n",
    "\n",
    "\n",
    "<br><p align=center><img src=images/merge_controlv2.png width=900></p><br>\n",
    "\n",
    "The files to be merged are viewable under the `merge changes` tab, and the number of conflicting lines in each file is shown by the number to the right of the filename. Clicking on the file opens it up in the main pane, and you will see a button inviting you to open the merge editor:\n",
    "\n",
    "<br><p align=center><img src=images/merge_editor.gif width=900></p><br>\n",
    "\n",
    "When you open the merge editor, you will see a window like this:\n",
    "\n",
    "<br><p align=center><img src=images/merge_editor_v2.png width=900></p><br>\n",
    "\n",
    "The state of the file in the incoming branch is shown in the top left pane, and the file state in the current branch on the top right.  You can choose various \"quick\" solutions from the text buttons associated with each pane:\n",
    "\n",
    "- **Accept Current Change:** This will accept the change in your current branch and ignore the changes from the branch you're merging\n",
    "- **Accept Incoming Change:** This will accept the change from the branch you're merging and ignore the changes in your current branch\n",
    "- **Accept Both Changes:** This will accept both the changes in your current branch and the changes from the branch you're merging. This might result in redundant or conflicting code and you may need to manually edit the code afterwards to clean it up.\n",
    "- **Compare Changes:** This will show a diff of the changes between your current branch and the branch you're merging. You can use this to manually choose which changes to accept.\n"
   ]
  },
  {
   "attachments": {},
   "cell_type": "markdown",
   "metadata": {},
   "source": [
    "The bottom pane contains the result of your selections, and can also be manually edited.  In this case, we will accept the incoming changes. Once you're done, just click **Complete Merge** to stage the changes."
   ]
  },
  {
   "attachments": {},
   "cell_type": "markdown",
   "metadata": {},
   "source": [
    "## Key Takeaways"
   ]
  },
  {
   "attachments": {},
   "cell_type": "markdown",
   "metadata": {},
   "source": [
    "- In a **merge conflict**, git requires human intervention to resolve differences in code between two commits, typically when the same part of the code is changed in two merging branches\n",
    "- git provides clear messages when a merge conflict occurs, halting the merge operation and indicating where the conflict needs to be resolved\n",
    "- git marks the areas in your files where conflicts occurred with conflict markers\n",
    "- You can use VSCode's built in **merge editor** to resolve conflicts quickly and easily"
   ]
  }
 ],
 "metadata": {
  "language_info": {
   "name": "python"
  }
 },
 "nbformat": 4,
 "nbformat_minor": 2
}
