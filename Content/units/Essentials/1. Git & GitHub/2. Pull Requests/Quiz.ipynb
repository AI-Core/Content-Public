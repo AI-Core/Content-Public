{
 "cells": [
  {
   "attachments": {},
   "cell_type": "markdown",
   "metadata": {},
   "source": [
    "# Pull Requests"
   ]
  },
  {
   "attachments": {},
   "cell_type": "markdown",
   "metadata": {},
   "source": [
    "## What is a pull request in GitHub?\n",
    "\n",
    "- A request to pull changes from a remote repository to a local repository \n",
    "- A request to merge changes from a feature branch to the main branch of a repository ***\n",
    "- A request to push changes from a local repository to a remote repository\n",
    "- A request to revert changes in a repository"
   ]
  },
  {
   "attachments": {},
   "cell_type": "markdown",
   "metadata": {},
   "source": [
    "## What is the process of raising a pull request in GitHub?\n",
    "\n",
    "- Pushing your changes to the remote repository and then requesting the repository owner to merge your changes into the main branch ***\n",
    "- Forking the repository, making changes on your local copy, pushing the changes to your forked repository, and then creating a pull request to merge your changes into the original repository's main branch\n",
    "- Emailing the repository owner with your code changes and asking them to merge it into the main branch\n",
    "- None of the above"
   ]
  },
  {
   "attachments": {},
   "cell_type": "markdown",
   "metadata": {},
   "source": [
    "## When accepting a pull request in GitHub, what is the purpose of the **Merge** button?\n",
    "\n",
    "- To discard the changes made in the pull request\n",
    "- To merge the changes from the pull request into the desired branch ***\n",
    "- To rebase the changes in the pull request onto the desired branch\n",
    "- To create a new branch with the changes from the pull request"
   ]
  }
 ],
 "metadata": {
  "language_info": {
   "name": "python"
  },
  "orig_nbformat": 4
 },
 "nbformat": 4,
 "nbformat_minor": 2
}
