{
 "cells": [
  {
   "attachments": {},
   "cell_type": "markdown",
   "id": "abroad-pearl",
   "metadata": {},
   "source": [
    "# Git and Version Control\n"
   ]
  },
  {
   "attachments": {},
   "cell_type": "markdown",
   "id": "ef8cba6f",
   "metadata": {},
   "source": [
    "\n",
    "Working on complex coding projects often involves creating multiple versions and revisions of the same codebase. As the code evolves and changes over time, it can become increasingly challenging to manage these variations, remember why certain changes were made, or even revert to a previous version if a new change introduces unexpected problems. \n",
    "\n",
    ">A *version control system* (VCS) is a tool that helps software developers manage changes to source code over time. It keeps track of every modification to the code in a special kind of database, allowing developers to revisit any version of the code from the past, compare changes over time, see who last modified something, or restore the project to an earlier state if necessary. This greatly aids in collaboration, debugging, and maintaining the overall coherence of a project.\n",
    "\n",
    "<p align=center><img src=images/distributed_vcs.png width=400></p>\n",
    "\n"
   ]
  },
  {
   "attachments": {},
   "cell_type": "markdown",
   "id": "12f6a1f8",
   "metadata": {},
   "source": [
    "## What is git? \n",
    "\n",
    "> git is an open-source, *distributed version control system* (dVCS) that allows developers to track, manage, and collaborate on code changes efficiently in a decentralized manner. git is the most widely-used version control system, used by more than 85% of developers as of 2023. \n",
    "\n",
    "git is called a *distributed* version control system because every contributor to a git project has a complete copy of the entire repository history on their local machine. This contrasts with *centralized* version control systems, where the history is stored on a central server and contributors only have a copy of the files they're currently working on."
   ]
  },
  {
   "attachments": {},
   "cell_type": "markdown",
   "id": "501fca53",
   "metadata": {},
   "source": [
    "\n",
    "## Motivation\n",
    "\n",
    "Learning about git and version control systems will allow you make changes to your code in an organised manner, and has other major advantages:\n",
    "\n",
    "- **Collaboration:** git allows multiple developers to work on the same project simultaneously without overwriting each other's changes. This makes it a crucial tool for team-based software projects.\n",
    "\n",
    "- **Versioning:** git provides a detailed history of all changes made to a project, including who made the changes and when. This makes it easier to track progress, identify when bugs were introduced, and revert changes if necessary.\n",
    "\n",
    "- **Backup and restore:** With git, every copy of the codebase acts as a full backup of all the code, changes, and revision history, so it's easier to restore previous versions of the project if something goes wrong\n",
    "\n",
    "- **Branching and Merging**: git allows developers to work on separate versions of the code, to work on new features or fixes without affecting the main codebase. Once the work is ready, it can be merged back into the main code. This ensures a stable main codebase and encourages experimentation.\n",
    "\n",
    "\n"
   ]
  },
  {
   "attachments": {},
   "cell_type": "markdown",
   "id": "398e1926",
   "metadata": {},
   "source": [
    "## Why git is Widely Used\n"
   ]
  },
  {
   "attachments": {},
   "cell_type": "markdown",
   "id": "e75c8cba",
   "metadata": {},
   "source": [
    "Other than git, other VCSs, which are comparatively unpopular currently, store information about __file changes__ (see below).\n",
    "\n",
    "<p align=center><img src=images/delta_based_vcs.png width=500></p>\n",
    "\n",
    "Thus, these VCSs only consider a file if a change has been made. In other words, the new state does not consider files that have not changed.\n",
    "\n",
    "Conversely, git records 'snapshots' of the whole code, known as *commits*. Think of a commit as a picture of all the files at a certain point. With that picture, git can always revert to that state.\n",
    "\n",
    "<p align=center><img src=images/git_snapshots.png width=500></p>\n"
   ]
  },
  {
   "attachments": {},
   "cell_type": "markdown",
   "id": "93f1a4d9",
   "metadata": {},
   "source": [
    "## Installing git\n",
    "\n",
    "### Mac\n",
    "\n",
    "To install git on Mac, assuming you already have Homebrew installed, just run the terminal command:\n",
    "\n",
    "`brew install git`\n",
    "\n",
    "If you have not yet installed homebrew, do so by visiting [this link](https://brew.sh/) and following the instructions.\n",
    "\n",
    "Check your install of git with the following command: `git --version`\n",
    "\n",
    "\n",
    "## Linux\n",
    "\n",
    "To install git on a Linux machine, run the following commands, assuming you use apt as your primary package manager:\n",
    "\n",
    "```\n",
    "sudo apt-get update\n",
    "sudo apt-get install git\n",
    "```\n",
    "\n",
    "You can then check your version using the following command: `git --version`\n",
    "\n",
    "### Windows\n",
    "\n",
    "If you are a Windows user, you should already have installed Git for Windows as part of an earlier lesson on this course, however if you haven't yet done so, you can install it by following the instructions in the Command \n",
    "\n"
   ]
  },
  {
   "attachments": {},
   "cell_type": "markdown",
   "id": "9be09e49",
   "metadata": {},
   "source": [
    "## Key git Concepts\n",
    "\n",
    "When you first start using git, there is a bit of a learning curve as it involves a few concepts that might be new to you. Don't panic though! They are pretty easy to get a hang of, and once you have used git for a while they will become a lot clearer, and you will see why git is so popular with developers.\n",
    "\n",
    "Let's run through a few key concepts, and start using git.\n"
   ]
  },
  {
   "attachments": {},
   "cell_type": "markdown",
   "id": "d058bb62",
   "metadata": {},
   "source": [
    "\n",
    "### Repositories\n",
    "\n",
    "In git, a *repository* (or *repo* for short) is like a project's folder. It's where all the files related to your project live. But it's more than just a simple folder - it also keeps track of every change made to every file in the project. This includes every edit, addition, deletion, and rearrangement.\n",
    "\n",
    "Your git repo not only contains your project's files but also remembers how they have changed over time. So if you ever make a mistake or want to see how your project looked like in the past, you can use git to go back in time and restore an older version of your project.\n",
    "\n",
    "Create your first repository now, so that you can follow along with the demonstrations in this lesson. Create a new folder called `my_test_repo` somewhere on your local machine, then navigate to that directory in your terminal and run the command:\n",
    "\n",
    "```bash\n",
    "git init\n",
    "```\n",
    "<br><br>\n",
    "<p align=center><img src=images/test_git_repo.gif width=700></p>\n",
    "\n",
    "\n",
    "\n"
   ]
  },
  {
   "attachments": {},
   "cell_type": "markdown",
   "id": "e49e6884",
   "metadata": {},
   "source": [
    "If you run the command `ls -a` to view all files in the directory, including hidden ones, you will see that git has added a `.git` hidden directory when it initialised the repository. This is where all the metadata is stored, which git uses to track changes to your project:\n",
    "\n",
    "<p align=center><img src=images/git_hidden_fold.png width=700></p>\n",
    "\n",
    "Other than that, git does not change your folder in any way.\n"
   ]
  },
  {
   "attachments": {},
   "cell_type": "markdown",
   "id": "6d00ff22",
   "metadata": {},
   "source": [
    "## File Status in git\n",
    "\n",
    "As previously mentioned, git tracks the changes you make to your code, and creates snapshots of those changes, known as commits, that you can revert to at a later date. However it does not track every file in the repository folder unless you tell it to. \n",
    "\n",
    "The files in a repository can be in one of four states:\n",
    "\n",
    "- **Modified:** You have changed the file but have not yet told git to track the changes\n",
    "- **Staged:** You have marked a modified file in its current version as being ready to go into your next **commit** (snapshot)\n",
    "- **Committed:** The data are safely stored in your local database\n",
    "\n",
    "For clarity, here is an example of the conventional flow of a file in a repository:\n",
    "\n",
    "1. The file is created or modified. git compares the changes in the current directory with those in the last snapshot and notices some changes.\n",
    "The revised file is now labelled as __modified__ because it changed with respect to its last snapshot.\n",
    "2. When you have completed a session of revisions on the file, you can mark the file as being ready for the snapshot, which puts it in the  __staged__ state. At this point the file is said to be in the *staging area*. When you make changes to a file, those changes will not go to the staging area automatically. You move changes to the staging area manually. This allows you to selectively choose which changes (in terms of files or parts of files) you want to include in your next commit.\n",
    "3. When you tell git you want to take a snapshot of your code, git takes the snapshot of all the **staged** files and stores it in the repository. The file is now __committed.__\n",
    "4. The next time you change a file in the working directory, it will enter the modified state, and the process repeats once more.\n",
    "\n",
    "Although the term 'snapshots' is used in the above explanations for clarity, the technical term is __commits__, and we will be using this term from now on.\n",
    "\n",
    ">Note that git only adds data. This implies that the operation of removing a file could be considered as 'add file deletion'. Thus, you will not lose data if you commit your changes frequently. You __ESPECIALLY__ will not lose your data if you push your changes to a remote server. The most popular of these is called *Github*, and we will learn lots more about it in later lessons.\n",
    "\n",
    "Create a new file inside your `my_test_repo` repository now. Call it `file_1.txt`. This new file will be in the **modified** status by default.\n",
    "\n",
    "In your repository, you can see which state all of your files are using the command:\n",
    "\n",
    "`git status`\n",
    "\n",
    "<p align=center><img src=images/initial_status.gif width=700></p>\n",
    "\n",
    "Initially your file will appear under **modified**. Add the file to the staged status, using the command:\n",
    "\n",
    "`git add file_1.txt`\n",
    "\n",
    "<p align=center><img src=images/git_add.gif width=700></p>"
   ]
  },
  {
   "attachments": {},
   "cell_type": "markdown",
   "id": "22d8ba19",
   "metadata": {},
   "source": [
    "Having made your changes, you are now ready to commit them. To do this, we use the command `git commit`. We also want to include a message with the commit, so that we can see what changes were made in that commit if we come back to it later. To do this we add the `-m` flag, followed by our message in `\"` or `'` quotes.\n",
    "\n",
    "```\n",
    "git commit -m \"Creates file_1.txt\"\n",
    "```\n",
    "\n",
    "Our changes are now saved to a commit. \n",
    "\n",
    "### Changing the most recent commit\n",
    "\n",
    ">The `git commit --amend` command is a useful tool that allows you to modify the most recent commit. This could involve changing the commit message or adding, modifying, or removing changes/files in the commit. \n",
    "\n",
    "- **Changing the commit message:** If you've just made a commit and realized that you need to change the commit message, you can use `git commit --amend`. When you run this command, your default text editor will open with the most recent commit message. You can edit the message, save it, and close the editor to change the commit message.\n",
    "\n",
    "- **Adding more changes to the commit:** If you've made a commit but then realize that you forgot to add a file or you've made an additional change that should be part of the commit, you can use the following workflow:\n",
    "\n",
    "    1. Stage the additional changes with `git add`\n",
    "    2. Then, use `git commit --amend` If you don't want to change the commit message, you can use `git commit --amend --no-edit`\n",
    "\n"
   ]
  },
  {
   "attachments": {},
   "cell_type": "markdown",
   "id": "9620918f",
   "metadata": {},
   "source": [
    "## Key Takeaways"
   ]
  },
  {
   "attachments": {},
   "cell_type": "markdown",
   "id": "576233da",
   "metadata": {},
   "source": [
    "- *Version control systems* (VCS) are tools that helps software developers manage changes to source code over time\n",
    "- git is the most widely used version control system. It stores snapshots of all the changes you make to your code, known as **commits**.\n",
    "- A git **repository** is the folder in which your project lives. It is like a normal folder except it also tracks the changes you make to your codebase.\n",
    "- You can create turn a folder into a git repository using the `git init` command\n",
    "- Any changes you can make can have one of three statuses: modified, staged, and committed\n",
    "- git only tracks the changes you tell it to. This is done using the `git add command`\n",
    "- Once you are ready for git to take a snapshot of your current changes, you use the `git commit` command\n",
    "- Every commit should also have a commit message describing the changes, which you add using the `-m` flag, followed by the message in quotes (`\"`)"
   ]
  }
 ],
 "metadata": {
  "interpreter": {
   "hash": "3d597f4c481aa0f25dceb95d2a0067e73c0966dcbd003d741d821a7208527ecf"
  },
  "kernelspec": {
   "display_name": "Bash [conda env:.conda-AiCore] *",
   "language": "python",
   "name": "python3"
  },
  "language_info": {
   "codemirror_mode": {
    "name": "ipython",
    "version": 3
   },
   "file_extension": ".py",
   "mimetype": "text/x-python",
   "name": "python",
   "nbconvert_exporter": "python",
   "pygments_lexer": "ipython3",
   "version": "3.9.1"
  }
 },
 "nbformat": 4,
 "nbformat_minor": 5
}
