{
 "cells": [
  {
   "attachments": {},
   "cell_type": "markdown",
   "metadata": {},
   "source": [
    "# The Essentials of Git"
   ]
  },
  {
   "attachments": {},
   "cell_type": "markdown",
   "metadata": {},
   "source": [
    "## What is a version control system (VCS)?\n",
    "\n",
    "- A tool used by developers to keep track of changes to their code over time ***\n",
    "- A programming language used to develop web applications\n",
    "- A technique used to optimise database performance\n",
    "- A type of server used to host web applications"
   ]
  },
  {
   "attachments": {},
   "cell_type": "markdown",
   "metadata": {},
   "source": [
    "## What is git?\n",
    "\n",
    "- A distributed version control system ***\n",
    "- A centralised version control system \n",
    "- A programming language used to develop web applications\n",
    "- A cloud-based file storage and collaboration platform\n",
    "- A text editor commonly used by software developers"
   ]
  },
  {
   "attachments": {},
   "cell_type": "markdown",
   "metadata": {},
   "source": [
    "## Which of the following is a feature of git?\n",
    "\n",
    "- Branching and merging ***\n",
    "- Automatic code backups\n",
    "- Real-time collaboration\n",
    "- Graphical user interface (GUI) for code management\n"
   ]
  },
  {
   "attachments": {},
   "cell_type": "markdown",
   "metadata": {},
   "source": [
    "## What is a git repository?\n",
    "\n",
    "- A central server that stores a copy of all changes made to a codebase\n",
    "- A directory that contains all the files and metadata related to a project managed by git ***\n",
    "- A file format used to store and transfer data between git repositories\n",
    "- A web-based interface for managing git repositories and code review workflows"
   ]
  },
  {
   "attachments": {},
   "cell_type": "markdown",
   "metadata": {},
   "source": [
    "## What are the three states that files can be in within a git repository?\n",
    "\n",
    "- Modified, staged, and committed ***\n",
    "- Unmodified, modified, and deleted\n",
    "- Local, remote, and merged\n",
    "- Clean, dirty, and conflicted"
   ]
  },
  {
   "attachments": {},
   "cell_type": "markdown",
   "metadata": {},
   "source": [
    "## What are modified files in git?\n",
    "\n",
    "- Files that have been deleted from the repository but still exist on the local machine\n",
    "- Files that exist on the local machine but are not being tracked by git\n",
    "- Files that have been added to the repository but not yet committed\n",
    "- Files that have been changed since the last commit in the git repository ***"
   ]
  },
  {
   "attachments": {},
   "cell_type": "markdown",
   "metadata": {},
   "source": [
    "## What are staged files in git?\n",
    "\n",
    "- Files that have been deleted from the repository but still exist on the local machine\n",
    "- Files that have been changed since the last commit in the git repository\n",
    "- Files that have been added to the repository but not yet committed ***\n",
    "- Files that exist on the local machine but are not being tracked by git"
   ]
  },
  {
   "attachments": {},
   "cell_type": "markdown",
   "metadata": {},
   "source": [
    "## What are committed files in git?\n",
    "\n",
    "- Files that have been deleted from the repository but still exist on the local machine\n",
    "- Files that have been changed since the last commit in the git repository\n",
    "- Files that have been added to the repository but not yet committed\n",
    "- Files that have been saved permanently to the git repository history ***"
   ]
  },
  {
   "attachments": {},
   "cell_type": "markdown",
   "metadata": {},
   "source": [
    "## What is the name of the default branch in git?\n",
    "\n",
    "- `release`\n",
    "- `main` ***\n",
    "- `trunk`\n",
    "- `development`"
   ]
  },
  {
   "attachments": {},
   "cell_type": "markdown",
   "metadata": {},
   "source": [
    "## What is the purpose of the `main` branch in git?\n",
    "\n",
    "- To store experimental changes to the codebase\n",
    "- To serve as the primary branch for ongoing development and collaboration ***\n",
    "- To track changes to the codebase over time\n",
    "- To store historical versions of the codebase"
   ]
  },
  {
   "attachments": {},
   "cell_type": "markdown",
   "metadata": {},
   "source": [
    "## What is the command used to check the which files are currently being tracked in a git repository?\n",
    "\n",
    "- `git status` ***\n",
    "- `git log`\n",
    "- `git diff`\n",
    "- `git commit`"
   ]
  },
  {
   "attachments": {},
   "cell_type": "markdown",
   "metadata": {},
   "source": [
    "## What is the command used to initialise a new git repository?\n",
    "\n",
    "- `git clone`\n",
    "- `git init` ***\n",
    "- `git add`\n",
    "- `git commit` "
   ]
  },
  {
   "attachments": {},
   "cell_type": "markdown",
   "metadata": {},
   "source": [
    "## What is the purpose of the staging area in git?\n",
    "\n",
    "- To store the working copy of the repository\n",
    "- To hold a snapshot of the entire repository at a specific point in time\n",
    "- To mark specific changes to the repository as ready for commit ***\n",
    "- To store the commit history of the repository"
   ]
  },
  {
   "attachments": {},
   "cell_type": "markdown",
   "metadata": {},
   "source": [
    "## What is the command used to add files to the staging area in git?\n",
    "\n",
    "- `git commit`\n",
    "- `git push`\n",
    "- `git add` ***\n",
    "- `git merge`"
   ]
  },
  {
   "attachments": {},
   "cell_type": "markdown",
   "metadata": {},
   "source": [
    "## What is the command used to commit changes to a git repository?\n",
    "\n",
    "- `git status`\n",
    "- `git commit` ***\n",
    "- `git add`\n",
    "- `git push`"
   ]
  },
  {
   "attachments": {},
   "cell_type": "markdown",
   "metadata": {},
   "source": [
    "## How does git track changes to files in a repository?\n",
    "\n",
    "- By taking snapshots of the entire repository at each commit ***\n",
    "- By comparing the current state of files to the previous state of files at each commit\n",
    "- By tracking the differences between the working directory and the staging area\n",
    "- By storing a separate copy of each file for each commit"
   ]
  }
 ],
 "metadata": {
  "language_info": {
   "name": "python"
  },
  "orig_nbformat": 4
 },
 "nbformat": 4,
 "nbformat_minor": 2
}
