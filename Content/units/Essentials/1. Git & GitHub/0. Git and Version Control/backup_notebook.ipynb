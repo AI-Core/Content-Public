{
 "cells": [
  {
   "attachments": {},
   "cell_type": "markdown",
   "metadata": {},
   "source": [
    "# Stores the old notebook sections in case we need them back later\n"
   ]
  },
  {
   "attachments": {},
   "cell_type": "markdown",
   "metadata": {},
   "source": [
    "Admittedly, that was a lot to process. Now, we put into practice all that we have learnt by creating a local repository, adding files to it, and finally committing those files. Thereafter, we will experiment with branches to improve your understanding of their working mechanisms.\n",
    "\n",
    "Please carry out the following tasks and observe the changes in your local machine.\n",
    "\n",
    "1. Create a new directory on your Desktop named 'AiCore_git'.\n",
    "    - Navigate to your Desktop from the terminal using the `cd` command.\n",
    "    - Create the directory using the `mkdir` command.\n",
    "2. Change your working directory to 'AiCore_git'.\n",
    "    - Once more, use the `cd` command.\n",
    "3. Run `git init` to create a repository.\n",
    "    - This will create a hidden directory that contains all the information regarding your commits.\n",
    "4. List the files contained in 'AiCore_git'.\n",
    "    - Use the `ls -a` command to display all the files, including the hidden ones.\n",
    "    - Notice that a directory named `.git` has been created.\n",
    "5. Create two different files, e.g. 'test_1.txt' and \"test_2.txt'.\n",
    "    - Use the `echo` or the `touch` command for this task.\n",
    "6. Check the status of the directory.\n",
    "    - Run `git status`.\n",
    "    - Read the message, and attempt to understand the state of your files.\n",
    "7. Move the files to the __staged__ state.\n",
    "    - Use the `git add` command, followed by the name of a file to be staged.\n",
    "    - Alternatively, you can stage all the files using the `git add .` command.\n",
    "8. Check the status of the directory again.\n",
    "    - Rerun `git status`.\n",
    "    - What differences do you see with respect to the output of the previous `git status` command?\n",
    "9. Take a snapshot of your new files so that `git` remembers them. In other words, make a commit.\n",
    "    - Use the `git commit` command to commit all the files in the staged state.\n",
    "    - Remember to add a commit message. Add the `-m` flag to the command, followed by your desired message in quotes.\n",
    "        - For example, `git commit -m \"First commit\"`.\n",
    "10. Once more, check the status of your directory, and observe the differences"
   ]
  },
  {
   "attachments": {},
   "cell_type": "markdown",
   "metadata": {},
   "source": [
    "Here, we experiment with branches.\n",
    "\n",
    "1. In 'AiCore_git', create a new branch named 'testing'.\n",
    "    - Use `git checkout -b testing`.\n",
    "    - Here is a breakdown of the command syntax: \n",
    "        - `git checkout`: switches to a different branch\n",
    "        - `-b`: creates a new branch\n",
    "        - `testing`: refers to the name of the new branch\n",
    "    - Basically, we are creating a new branch called 'testing' and switching to it immediately.\n",
    "2. Check the active branches in your directory.\n",
    "    - Use `git branch` and see the output.\n",
    "3. Create a new file named 'test_3.txt'.\n",
    "4. Stage and commit 'test_3.txt'.\n",
    "5. Switch to the main branch.\n",
    "    - Use `git checkout` with the name of your main branch (Conventionally, it is either `main` or `master`).\n",
    "6. List all the files contained in the directory.\n",
    "    - If done correctly, 'test_3.txt' should be out of sight.\n",
    "    - However, do not be alarmed; 'test_3.txt' is stored on the 'testing' branch. Note that none of the changes made on the testing branch were applied on the main branch. This is why it appears to have vanished.\n",
    "7. Merge 'testing' into the main branch.\n",
    "    - Use `git merge testing`.\n",
    "8. Once more, list the files contained in this directory.\n",
    "    - Great, we can see that 'test_3.txt' is now in the main branch."
   ]
  },
  {
   "attachments": {},
   "cell_type": "markdown",
   "metadata": {},
   "source": [
    "As you can now tell, using branches is a great way to not compromise your main code base."
   ]
  },
  {
   "attachments": {},
   "cell_type": "markdown",
   "metadata": {},
   "source": [
    "## Reverting changes\n",
    "> If you accidentally add too many files and commit in a hurry, you can easily revert to the 'pre-changes' state.\n",
    "\n",
    "For that, we can use the `git reset` command.\n",
    "\n",
    "- `git reset HEAD~` (the HEAD is actually written, it is not a placeholder here): reverts the last `git commit` and unstages (reverts `git add`) the files (you have to run `git add` to stage them again). Other than these, __no change will be made to the files. Therefore, you may rest assured that the files WILL NOT be deleted.__\n",
    "- `git reset [FILE]`: reverts `git add`; if `FILE` is specified, it unstages the file; without any arguments, it unstages everything."
   ]
  },
  {
   "attachments": {},
   "cell_type": "markdown",
   "metadata": {},
   "source": []
  }
 ],
 "metadata": {
  "language_info": {
   "name": "python"
  },
  "orig_nbformat": 4
 },
 "nbformat": 4,
 "nbformat_minor": 2
}
