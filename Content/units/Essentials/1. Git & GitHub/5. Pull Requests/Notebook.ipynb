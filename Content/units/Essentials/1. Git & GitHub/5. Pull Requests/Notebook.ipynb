{
 "cells": [
  {
   "attachments": {},
   "cell_type": "markdown",
   "metadata": {},
   "source": [
    "# Pull Requests"
   ]
  },
  {
   "attachments": {},
   "cell_type": "markdown",
   "metadata": {},
   "source": [
    "> A *Pull Request*, often abbreviated to *PR*, is a proposal to merge a set of changes from one branch to another in GitHub. They provide a mechanism to propose, review, and integrate changes to a codebase in a collaborative manner. Typically, you will be working on a new feature by pushing changes to a dedicated branch. Then when you are ready to integrate them into main, you would raise a **PR** in the upstream branch (eg. `main`) to integrate these changes."
   ]
  },
  {
   "attachments": {},
   "cell_type": "markdown",
   "metadata": {},
   "source": [
    "## Motivation\n",
    "\n",
    "Pull Requests are an essential tool in team-based software projects for several reasons:\n",
    "\n",
    "- **Code Review:** PRs make it easy for others on the team to review the code changes before they're integrated into the main codebase. This ensures code quality and consistency, helps spot potential bugs, and can lead to more robust solutions.\n",
    "\n",
    "- **Collaboration:** PRs provide a forum for team members to discuss proposed changes, suggest modifications, or ask for clarifications\n",
    "\n",
    "- **Permissions:** PRs allow the repository owner to permit collaboration while retaining control over who gets to merge, by setting permissions in the repo accordingly\n",
    "\n",
    "- **Traceability:** Each PR is associated with a set of changes and a discussion thread, providing a documented history of changes made to the codebase and the rationale behind them. This can be invaluable for understanding the project's evolution or debugging issues in the future.\n",
    "\n",
    "- **Continuous Integration (CI):** Many projects use automated testing tools that are triggered whenever a PR is created. These tools run a suite of tests against the changes and provide a status check, ensuring that the proposed changes don't break existing functionality.\n",
    "\n",
    "- **Avoiding Direct Commits:** Directly committing to the `main` branch can be risky, especially in production projects. PRs help prevent this by necessitating that changes be proposed, reviewed, and approved before they're integrated."
   ]
  },
  {
   "attachments": {},
   "cell_type": "markdown",
   "metadata": {},
   "source": [
    "## Creating a Pull Request on GitHub\n",
    "\n",
    "To create a pull request, you must first make changes in a new branch or a fork of the repository. Let's return to our `merge_testing` repo we used in the lessons on `Fetching and Merging` and `Merge Conflicts`.\n",
    "\n",
    "1. With your `main` branch checked out in VSCode, run `git fetch origin main` to ensure that the local version of `main` is the same as your remote. This is best practice when starting to work on a new feature, as you want to ensure that your feature branch is based around an up-to-date version of `main`.\n",
    "\n",
    "2. Check out a new branch called `feature-1`\n",
    "\n",
    "3. Create a new file called `feature.py`, and add a comment to line 1 of the file saying `# This is a proposed new feature`\n",
    "\n",
    "4. Stage and commit the changes to the `feature-1` branch\n",
    "\n",
    "5. Push the changes to the remote repository. If you receive an error, you can follow the instructions in the terminal, or check the lesson on `What is GitHub?` for a solution.\n",
    "\n",
    "<br>\n",
    "\n",
    "After you've made your changes and pushed them to the remote repository, you can initiate your first PR:\n",
    "\n",
    "1. Navigate to the original repository you want to contribute to on GitHub\n",
    "\n",
    "2. Click on **Pull Requests** in the top menu bar. On the page that appears, click the green **New Pull Request** button\n",
    "\n",
    "3. Set your branch `feature-1` as the **compare** branch at the top of the page, keeping the **base** branch set to `main`\n",
    "\n",
    "<br><p align=center><img src=images/create_pr_2.gif width=1000></p><br>\n",
    "\n",
    "4. Review the changes and make sure they are what you want to propose. When you're satisfied, click `Create pull request`.\n",
    "\n",
    "5. Add a title and description to your PR. This should explain what changes you made and why. Then click `Create pull request` again to submit your PR for review."
   ]
  },
  {
   "attachments": {},
   "cell_type": "markdown",
   "metadata": {},
   "source": [
    "## Pull Requests in Detail\n",
    "\n",
    "After you have created your pull request, you will be taken to a screen that looks a little like this:\n",
    "\n",
    "<br><p align=center><img src=images/pr_comment_page.png width=900></p><br>\n"
   ]
  },
  {
   "attachments": {},
   "cell_type": "markdown",
   "metadata": {},
   "source": [
    "\n",
    "This is the **Conversation** screen of the PR. It shows a summary of the contents of the pull request, along with a space for reviewers to comment on the contents.\n",
    "\n",
    "1. At the top is a summary of the PR - the title, the unique identifier (in this case `#2`), and the number of commits and the source branch.\n",
    "2. Immediately below that is a menu of different screens:\n",
    "    - The conversation tab, which is the current screen\n",
    "    - A tab showing all of the commits that are part of the PR\n",
    "    - A tab showing the results of any automated checks that the project might have in place. These can be for code quality or the results of unit tests, or even build checks for compiled software. \n",
    "    - A tab showing the differences (\"diffs\") between versions of any files changed by the PR\n",
    "    <br>\n",
    "\n",
    "3. A section where the repository owner can enforce mandatory code reviews by trusted individuals before the PR can be merged\n",
    "\n",
    "4. An indication of whether the commit can be merged automatically (ie. whether it has any conflicts)\n",
    "\n"
   ]
  },
  {
   "attachments": {},
   "cell_type": "markdown",
   "metadata": {},
   "source": [
    "## Merging a PR\n",
    "\n",
    "At the bottom of the conversation screen is the **Merge pull request** button. If it is green, then the PR can be merged manually by the person viewing the PR:\n",
    "\n",
    "<br><p align=center><img src=images/auto-merge.png width=900></p><br>\n",
    "\n",
    "If it is not possible to merge it, this button will be greyed out:\n",
    "\n",
    "<br><p align=center><img src=images/not_ready_yet.png width=900></p><br>\n",
    "\n",
    "There are several reasons why it might not be possible to merge a PR:\n",
    "\n",
    "- **Merge Conflicts:** This is one of the most common issues. A merge conflict happens when the changes in the PR branch conflict with the changes in the target branch, and git is unable to resolve this conflict automatically. In this case, the conflicts need to be resolved manually by the PR author or other collaborators before the PR can be merged.\n",
    "\n",
    "- **Pending Reviews:** If the repository is set to require a certain number of approvals from reviewers before a PR can be merged, and if the PR hasn't received enough approvals, it won't be able to be merged.\n",
    "\n",
    "- **Branch Protection Rules:** In GitHub, repository admins can set up protected branch rules. These can include things like requiring status checks to pass, requiring PRs to be up-to-date with the target branch, requiring linear history, or requiring specific people to review the changes. If the PR doesn't meet any of these rules, it won't be able to be merged.\n",
    "\n",
    "- **The `WIP` Keyword:** PRs can be denoted a work in progress, using the `WIP` keyword in the PR title. This will prevent merging until it is removed. It is used to generate a PR to allow people to track and comment on changes during development, without the risk of someone accidentally merging it."
   ]
  },
  {
   "attachments": {},
   "cell_type": "markdown",
   "metadata": {},
   "source": [
    "## Merge Conflicts and Pull Requests\n",
    "\n",
    "Resolving merge conflicts associated with a pull request is a little more complicated than for standard merges, because the final merge of the comparison branch into the **base** branch can only happen once the PR itself is ready to be completed, and this will not be possible while merge conflicts still exist. For example, if you were attempting to merge a branch called  `feature` into `main`, you would have to pull the changes from the **base branch** into the **compare branch** and resolve any conflicts before merging. \n",
    "\n",
    "This approach works fine for a simple workflow where a feature branch is checked out from `main` and then merged back into `main` by raising a PR. However in a commercial setting, it will usually be necessary to merge the feature branch with several different branches. For example you might have a `dev` (development) branch, which is used to test out new features and a `staging` branch which is used as a pre-production environment.\n",
    "\n",
    "In this situation it would not work to pull the **base** branch into the comparison branch, as for example pulling `dev` into `feature` would contaminate the `feature` branch with all the commits from `dev`, which would cause problems if you later wanted to merge the branch into `staging`.\n",
    "\n",
    "### Sacrificial Branches\n",
    "\n",
    "To get around this issue, it is customary to use what is known as a *sacrificial branch*, in other words a duplicate copy of the feature branch that is only used for the purpose of resolving a merge conflict, and then discarded. \n",
    "\n",
    "Let's look at an example to make this more concrete.\n",
    "\n",
    "1. In your local `merge_testing` repo create a branch from the latest version of `main`. Call it `feature-2`\n",
    "2. Create a new file called `feature-2.py`\n",
    "3. Change the comment in line 1 of your **original** `feature.py` to read:\n",
    "\n",
    "```python\n",
    "# This line in feature-2 will create a merge conflict \n",
    "```\n",
    "4. Stage and commit  both `feature.py` and `feature2.py` and then run `git push --set-upstream origin feature-2`\n",
    "5. Check out `main` and change line 1 of `feature.py` to read:\n",
    "```python\n",
    "# This line in main will create a merge conflict \n",
    "```\n",
    "6. Stage and commit `feature.py` again, then run `git push`\n",
    "7. In your remote repo, raise a new PR to merge `feature-2` into `main`:\n",
    "\n",
    "<br><p align=center><img src=images/merge_conflict_pr.gif width=900></p><br>\n",
    "\n",
    "8. Now return to your local repo. We need to create a sacrificial branch to fix the merge conflict. Check out `feature-2`\n",
    "9. Now let's check out a new branch from `feature-2` called `feature-2-main-sacrificial`\n",
    "10. Merge `main` into `feature-2-main-sacrificial`, and resolve the conflict, accepting the version from `main`\n",
    "11. Now push  `feature-2-main-sacrificial` to the remote repo, and raise a PR. It should be able to merge automatically now.\n",
    "\n",
    "<br><p align=center><img src=images/sacrificial.gif width=900></p><br>\n",
    "\n",
    "\n",
    "\n",
    "\n"
   ]
  },
  {
   "attachments": {},
   "cell_type": "markdown",
   "metadata": {},
   "source": [
    "## GitHub Issues and Branch Best-Practice\n",
    "\n",
    "As we have discussed in an earlier lesson, git and GitHub work best when you adhere to the principles of a feature-based workflow (i.e. \"one branch, one feature\"). Additionally it is a good idea to document the motivation for each change prior to working on it. GitHub has a feature designed for this process, called *issues*.\n",
    "\n",
    "> A GitHub **issue** is a dedicated thread created in a repository to discuss a specific problem or topic related to the project. It can represent various aspects such as a bug report, a feature request, or an enhancement, or it can just be a question regarding the project's functionality. \n",
    "\n",
    "You should aim to create an issue for any major change you make to your codebase, as this is the standard for collaborative work in most organisations that use GitHub, and for most collaborative open-source projects.\n",
    "\n",
    "\n",
    "\n"
   ]
  },
  {
   "attachments": {},
   "cell_type": "markdown",
   "metadata": {},
   "source": [
    "### How to Create an Issue\n",
    "\n",
    "1. **Navigate to the main page of the repository**: On GitHub, go to the repository where you want to create the issue\n",
    "\n",
    "2. **Click on the Issues tab**: This is located in the same row as the **Code** and **Pull Requests** tabs, just below the repository's name\n",
    "\n",
    "3. **Click New Issue**: This button is typically found on the right side of the Issue page\n",
    "\n",
    "<br><p align=center><img src=images/new_issue.gif width=900></p><br>\n",
    "\n",
    "4. **Fill in the title**: Give the issue a short, clear title that describes the problem or idea it pertains to\n",
    "\n",
    "5. **Describe the issue**: In the text box below the title, provide a detailed description of the issue. If you're reporting a bug, include information about how to reproduce the problem, what you expected to happen, and what actually happened. If it's a feature request, describe the feature and why you think it would be useful\n",
    "\n",
    "6. **Assign**: (Optional) On the right side, you can choose to assign the issue to specific collaborators. This step might not be available if you do not have write access to the repository\n",
    "\n",
    "7. **Label**: (Optional) Also on the right, you can add labels to the issue to help categorize it. Common labels include `bug` and `enhancement`. Use the `bug` label to report a problem with the codebase, while `enhancement` is usually used to add new functionality, or to improve existing functionality\n",
    "\n",
    "8. **Link a project or milestone**: (Optional) If your repository is using GitHub's project management features, you can associate the issue with a specific project or milestone\n",
    "\n",
    "9. **Submit the issue**: When you're ready, click **Submit New Issue** at the bottom of the page to create the issue. The issue will now be publicly visible and can be commented on by others\n",
    "\n",
    "<br><p align=center><img src=images/fill_in_info.gif width=900></p><br>\n"
   ]
  },
  {
   "attachments": {},
   "cell_type": "markdown",
   "metadata": {},
   "source": [
    "### Worked Example - Using Issues and Branches to Add a Feature\n",
    "\n",
    "Let's return to our `merge_testing` repository. Let's assume we want to add a simple feature - a python script that prints \"Hello World!\" when called. Each new feature should have its own branch, and each branch should be associated with an issue. Here's how to perform the full development cycle of this simple feature:\n",
    "\n",
    "1. First, we need to raise an issue indicating our intention to add this feature\n",
    "2. Add a short, descriptive title in the Title field, and a concise description\n",
    "3. Add the `enhancement` label and assign yourself to the issue, then press `submit new issue`\n",
    "4. You will now see a screen that looks like this:\n",
    "\n",
    "<br><p align=center><img src=images/enhancement.png width=900></p><br>\n",
    "\n",
    "5. Note the number next to the issue\n",
    "6. Create a new branch from `main` in your local repository. Call is `enhancement-N` where `N` is the number you noted down from the issue screen\n",
    "7. Create a file called `hello_world.py` , and add the Python code needed to make it print \"Hello World\" when run:\n",
    "\n",
    "```python \n",
    "print(\"Hello World\")\n",
    "```\n",
    "\n",
    "8. Stage and commit the changes, and push the branch to the remote repo\n",
    "9. Finally, raise a PR to `main` inside your GitHub repository, and if you're happy with the changes, merge it\n",
    "\n",
    "This is how you should ideally be working whenever you add a new feature, even to your own repository. Not only is it good practice for the workplace, it also keeps the development process well-documented for future reference."
   ]
  },
  {
   "attachments": {},
   "cell_type": "markdown",
   "metadata": {},
   "source": [
    "## Key Takeaways\n",
    "\n",
    "- A Pull Request (PR) is a proposal to merge changes from one branch to another, allowing changes to be proposed and reviewed collaboratively\n",
    "- The **conversation tab**  of a PR shows a summary of the contents of the pull request, along with a space for reviewers to comment on the contents\n",
    "- Merge conflicts between branches in a pull request are resolved by pulling the target branch into the source branch\n",
    "- Where you are likely to raise PRs from a feature branch to multiple different branches, a **sacrifical branch** should be used to resolve merge conflicts\n",
    "- GitHub **issues** are a tool to document and discuss project-related issues such as bugs or new features\n",
    "- You should raise an **issue** for each change you propose, and name the **feature branch** after the **issue**"
   ]
  }
 ],
 "metadata": {
  "language_info": {
   "name": "python"
  }
 },
 "nbformat": 4,
 "nbformat_minor": 2
}
