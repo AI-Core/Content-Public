{
 "cells": [
  {
   "cell_type": "markdown",
   "metadata": {},
   "source": [
    "# Pull Requests"
   ]
  },
  {
   "cell_type": "markdown",
   "metadata": {},
   "source": [
    "## What is a pull request in GitHub?\n",
    "\n",
    "- A request to pull changes from a remote repository to a local repository \n",
    "- A request to merge changes from a feature branch to the main branch of a repository ***\n",
    "- A request to push changes from a local repository to a remote repository\n",
    "- A request to revert changes in a repository"
   ]
  },
  {
   "cell_type": "markdown",
   "metadata": {},
   "source": [
    "## What is the process of raising a pull request in GitHub?\n",
    "\n",
    "- Pushing your changes to the remote repository and then requesting the repository owner to merge your changes into the main branch ***\n",
    "- Forking the repository, making changes on your local copy, pushing the changes to your forked repository, and then creating a pull request to merge your changes into the original repository's main branch\n",
    "- Emailing the repository owner with your code changes and asking them to merge it into the main branch\n",
    "- None of the above"
   ]
  },
  {
   "cell_type": "markdown",
   "metadata": {},
   "source": [
    "## When accepting a pull request in GitHub, what is the purpose of the **Merge** button?\n",
    "\n",
    "- To discard the changes made in the pull request\n",
    "- To merge the changes from the pull request into the desired branch ***\n",
    "- To rebase the changes in the pull request onto the desired branch\n",
    "- To create a new branch with the changes from the pull request"
   ]
  },
  {
   "cell_type": "markdown",
   "metadata": {},
   "source": [
    "## Which of the following could prevent a pull request from being merged on GitHub?\n",
    "\n",
    "- The pull request does not have a designated reviewer\n",
    "- The pull request is marked as a work in progress using the `WIP` keyword ***\n",
    "- The pull request was created more than 30 days ago\n",
    "- The pull request does not contain any file changes\n",
    "- The pull request was created by an external collaborator\n"
   ]
  },
  {
   "cell_type": "markdown",
   "metadata": {},
   "source": [
    "## What are \"Branch Protection Rules\" in the context of GitHub Pull Requests?\n",
    "\n",
    "- Rules that prevent anyone but the repository owner from creating new branches\n",
    "- Rules set by repository admins that might include requirements such as status checks to pass,or specific people to review the changes ***\n",
    "- Rules that automatically merge pull requests after a certain amount of time\n",
    "- Rules that require all pull requests to include unit tests\n",
    "- Rules that require pull requests to only be created by the repository owner"
   ]
  },
  {
   "cell_type": "markdown",
   "metadata": {},
   "source": [
    "## Why would the **Merge pull request** button be greyed out?\n",
    "\n",
    "- The pull request has more than one commit\n",
    "- The pull request has merge conflicts that need to be resolved ***\n",
    "- The pull request was created by a non-administrative user\n",
    "- The pull request does not have any comments\n",
    "- The pull request is less than 24 hours old"
   ]
  },
  {
   "cell_type": "markdown",
   "metadata": {},
   "source": [
    "## What is a base branch in the context of a GitHub pull request?\n",
    "\n",
    "- The branch that contains the changes you want to merge into another branch\n",
    "- The branch into which changes from the compare branch are to be merged ***\n",
    "- The branch where new features are tested before merging into the main branch\n",
    "- The branch which is used as a pre-production environment\n",
    "- The branch which is only used for the purpose of resolving a merge conflict and then discarded"
   ]
  },
  {
   "cell_type": "markdown",
   "metadata": {},
   "source": [
    "## What is the purpose of a sacrificial branch?\n",
    "\n",
    "- To keep a backup copy of the main branch\n",
    "- To test out new features before they are merged into the main branch\n",
    "- To serve as a pre-production environment before changes are merged into the main branch\n",
    "- To duplicate the feature branch and use it only for resolving a merge conflict, then discard it ***\n",
    "- To serve as a temporary branch where all new features are merged before they are merged into the main branch"
   ]
  }
 ],
 "metadata": {
  "language_info": {
   "name": "python"
  },
  "orig_nbformat": 4
 },
 "nbformat": 4,
 "nbformat_minor": 2
}
