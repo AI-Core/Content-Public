{
 "cells": [
  {
   "attachments": {},
   "cell_type": "markdown",
   "metadata": {},
   "source": [
    "# Putting a Local Git Repo on GitHub Correctly"
   ]
  },
  {
   "attachments": {},
   "cell_type": "markdown",
   "metadata": {},
   "source": [
    "## What is the command to connect a local git repository to a GitHub repository?\n",
    "\n",
    "- `git connect https://github.com/username/repo.git`\n",
    "- `git remote add origin https://github.com/username/repo.git` ***\n",
    "- `git push https://github.com/username/repo.git`\n",
    "- `git clone https://github.com/username/repo.git`"
   ]
  },
  {
   "attachments": {},
   "cell_type": "markdown",
   "metadata": {},
   "source": [
    "## What is the process for creating a local git repository and then putting it on a GitHub?\n",
    "\n",
    "- Create a local git repository, create a GitHub repository, and then clone the GitHub repository to your local machine\n",
    "- Create a local git repository, create a GitHub repository, add the GitHub repository as a remote and then push the local git repository to the GitHub repository ***\n",
    "- Create a GitHub repository, create a local git repository, and then push the local git repository to the GitHub repository\n",
    "- Create a GitHub repository, create a local git repository, and then clone the GitHub repository to your local machine"
   ]
  }
 ],
 "metadata": {
  "language_info": {
   "name": "python"
  },
  "orig_nbformat": 4
 },
 "nbformat": 4,
 "nbformat_minor": 2
}
