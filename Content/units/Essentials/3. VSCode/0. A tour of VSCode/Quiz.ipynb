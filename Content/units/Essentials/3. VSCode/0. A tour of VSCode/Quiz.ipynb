{
 "cells": [
  {
   "attachments": {},
   "cell_type": "markdown",
   "metadata": {},
   "source": [
    "# A tour of VSCode"
   ]
  },
  {
   "attachments": {},
   "cell_type": "markdown",
   "metadata": {},
   "source": [
    "## Which of the following statements about Visual Studio Code (VSCode) is true?\n",
    "\n",
    "- VSCode is a text editor that is only available for Windows operating system\n",
    "- VSCode is a code editor that is only available for MacOS operating system\n",
    "- VSCode is an open-source code editor that is available for Windows, MacOS, and Linux operating systems ***\n",
    "- VSCode is a web-based code editor that requires an internet connection to use"
   ]
  },
  {
   "attachments": {},
   "cell_type": "markdown",
   "metadata": {},
   "source": [
    "## Which of the following statements are true about VSCode? Select all that apply.\n",
    "\n",
    "- VSCode is a free and open-source code editor developed by Microsoft ***\n",
    "- VSCode is only available for Windows operating system\n",
    "- VSCode supports multiple programming languages and has an extensive marketplace for extensions ***\n",
    "- VSCode does not support debugging features\n",
    "- VSCode cannot be customized with user settings and keybindings"
   ]
  },
  {
   "attachments": {},
   "cell_type": "markdown",
   "metadata": {},
   "source": [
    "## Which of the following statements about Visual Studio Code (VSCode) is false?\n",
    "\n",
    "- VSCode is a free and open-source code editor developed by Microsoft\n",
    "- VSCode supports multiple programming languages and extensions\n",
    "- VSCode can only be used on Windows operating system ***\n",
    "- VSCode includes built-in debugging and version control tools"
   ]
  }
 ],
 "metadata": {
  "language_info": {
   "name": "python"
  },
  "orig_nbformat": 4
 },
 "nbformat": 4,
 "nbformat_minor": 2
}
