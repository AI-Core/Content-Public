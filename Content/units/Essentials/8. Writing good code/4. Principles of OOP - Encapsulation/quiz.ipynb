{
 "cells": [
  {
   "attachments": {},
   "cell_type": "markdown",
   "metadata": {},
   "source": [
    "# Encapsulation"
   ]
  },
  {
   "attachments": {},
   "cell_type": "markdown",
   "metadata": {},
   "source": [
    "## What is meant by the term encapsulation?\n",
    "\n",
    "- Encapsulation is the process of wrapping similar concerns and data into a large construct ***\n",
    "- Encapsulation is the process of hiding the implementation details of a class from a user\n",
    "- Encapsulation is the process of making your class able to inherit from another class\n",
    "- Encapsulation is the process of capturing the attributes of your class within the constructor\n",
    "- Encapsulation is the process of passing another class to your classes constructor as an argument"
   ]
  },
  {
   "attachments": {},
   "cell_type": "markdown",
   "metadata": {},
   "source": [
    "## What are some of the benefits of using encapsulation? Select all that apply.\n",
    "\n",
    "- Privacy is one of the main benefits of encapsulation. Any variables or methods you don't want accessed by the user can be defined as such. ***\n",
    "- Grouped related functionality together so that code is more readable and easier to maintain ***\n",
    "- It allows you to create class attributes with the `self` keyword\n",
    "- It also your classes to function together without the use of inheritance\n",
    "- It is the only way to properly test your class"
   ]
  },
  {
   "attachments": {},
   "cell_type": "markdown",
   "metadata": {},
   "source": [
    "## What are some of the differences between encapsulation and abstraction? Select all that apply.\n",
    "\n",
    "- Encapsulation groups similar methods and functionality into the same unit. Abstraction hides implementation details of your code. ***\n",
    "- Encapsulation hides the data so that it is protected. Abstraction hides the details to reduce code complexity ***\n",
    "- Encapsulation hides the details to reduce code complexity. Abstraction hides the data so that it is protected\n",
    "- Abstraction allows you to make private and protected methods"
   ]
  },
  {
   "attachments": {},
   "cell_type": "markdown",
   "metadata": {},
   "source": [
    "## Which of the following statements are true about encapsulating methods? Select all that apply.\n",
    "\n",
    "- Adding two underscores `__` in front of a class method makes it private  ***\n",
    "- Adding one underscore `_` in front of a class method makes it protected ***\n",
    "- A private method is also protected ***\n",
    "- Private and protected methods can be accessed within the class they are defined in ***\n",
    "- Two underscores `__` in front of a method is just for readabilities sake it doesn't stop the user accessing the method\n",
    "- Python scrambles the names of private methods so they cannot be accessed outside of the class accidentally ***\n",
    "- Explicitly calling a method whos name was defined prefixed by two underscores `__` outside the class it was defined in will produce an error ***\n",
    "- Explicitly calling a method whos name was defined prefixed by one underscore `_` outside the class it was defined in will produce an error"
   ]
  },
  {
   "attachments": {},
   "cell_type": "markdown",
   "metadata": {},
   "source": [
    "## Giving then following code how has encapsulation been used? Select all that apply.\n",
    "\n",
    "``` python\n",
    "class Cube:\n",
    "\n",
    "    def __init__(self, length):\n",
    "        self.length = length\n",
    "\n",
    "    def __calculate_area(self):\n",
    "        area = 6 * self.length**2\n",
    "        return area\n",
    "\n",
    "    def _calculate_volume(self):\n",
    "        volume = self.length **3\n",
    "        return volume\n",
    "\n",
    "    def display(self):\n",
    "        volume = self._calculate_volume()\n",
    "        area = self.__calculate_area()\n",
    "        print(f\"The volume of the cube is {volume} and the area is {area}\")\n",
    "\n",
    "```\n",
    "\n",
    "- Encapsulation was used with the `calculate_volume` method making it protected to indicate the method should only be called within the class ***\n",
    "- Encapsulation was used with the `calculate_area` method making it private so that it cannot be called outside the class ***\n",
    "- Encapsulation was used with the `calculate_volume` method making it private to indicate the method should only be called within the class \n",
    "- Encapsulation was used in the class constructor making `self.length` an attribute \n",
    "- Encapsulation was used to make the `display` method a public method"
   ]
  }
 ],
 "metadata": {
  "kernelspec": {
   "display_name": "base",
   "language": "python",
   "name": "python3"
  },
  "language_info": {
   "name": "python",
   "version": "3.10.9"
  },
  "orig_nbformat": 4,
  "vscode": {
   "interpreter": {
    "hash": "a2592652612463181e69ac003232387e3e9a99279aa6b168e76f5df16d5110f4"
   }
  }
 },
 "nbformat": 4,
 "nbformat_minor": 2
}
