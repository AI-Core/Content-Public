{
 "cells": [
  {
   "cell_type": "markdown",
   "metadata": {},
   "source": [
    "## Encapsulation"
   ]
  },
  {
   "cell_type": "markdown",
   "metadata": {},
   "source": [
    "Another very useful practice in OOP is _Encapsulation_. Encapsulation is the process of wrapping (or __encapsulating__) similar concerns and data into a large construct. Often, you will encounter both abstraction and encapsulation consecutively. The difference is that abstraction shows the main functionality of certain pieces of code without focusing on the internal structure, whereas encapsulation involves grouping related functionalities into a relatively large construct. \n",
    "\n",
    "> __Encapsulation__ is the process of grouping related functionalities into a large construct.\n"
   ]
  },
  {
   "cell_type": "markdown",
   "metadata": {},
   "source": [
    "### Abstraction vs encapsulation\n",
    "Abstraction and encapsulation are often confused, particular on the first encounter. To help you understand the differences between them, we will see an example. Previously, we explored the AnimalScraper class, which was abstracted from the rest of the code. At first glance, this appears similar to encapsulation, since we are grouping a bunch of methods. However, the keyword here is _related_. \n",
    "\n",
    "Certainly, AnimalScraper grouped some methods; however, these methods are only related in that they form a pipeline together (a series of steps). Nevertheless, _related_ methods do not necessarily have to be working in tandem. They can work separately, and in such a case, we orchestrate them using encapsulation.\n",
    "\n",
    "Let us define two new functions: get_taxonomy and get_class. \n",
    "\n",
    "1. get_taxonomy will obtain a list of zoological synonyms (thus, you might find that animal on another webpage using a different name).\n",
    "2. get_class will obtain the animal class (mammals, birds, amphibians, reptiles or fish)."
   ]
  },
  {
   "cell_type": "code",
   "execution_count": null,
   "metadata": {},
   "outputs": [],
   "source": [
    "import re\n",
    "import requests\n",
    "from typing import List\n",
    "from bs4 import BeautifulSoup\n",
    "\n",
    "def get_class(animal:str) -> str:\n",
    "    ROOT = 'https://en.wikipedia.org/wiki/'\n",
    "    r = requests.get(ROOT + animal)\n",
    "    soup = BeautifulSoup(r.content, 'html.parser')\n",
    "    class_row = soup.find('td', text = re.compile('Class:'))\n",
    "    animal_class = class_row.find_next_sibling().text.strip()\n",
    "    return animal_class\n",
    "\n",
    "def get_taxonomy(animal:str) -> List:\n",
    "    ROOT = 'https://en.wikipedia.org/wiki/'\n",
    "    r = requests.get(ROOT + animal)\n",
    "    print(type(r.text))\n",
    "    soup = BeautifulSoup(r.content, 'html.parser')\n",
    "    print(type(soup))\n",
    "    syn_text = soup.find('a', text = re.compile('Synonyms'))\n",
    "    if syn_text:\n",
    "        syn_header = syn_text.find_parent('tr')\n",
    "        syn_table = syn_header.find_next_sibling()\n",
    "        contents = syn_table.find_all('i')\n",
    "        if contents:\n",
    "            contents = [x.text for x in contents]\n",
    "            return contents\n",
    "    else:\n",
    "        return []\n",
    "\n",
    "print(get_class('koala'))\n",
    "print(get_taxonomy('koala'))\n"
   ]
  },
  {
   "cell_type": "markdown",
   "metadata": {},
   "source": [
    "Notice that these functions are independent of one another; however, their concerns are in the same field (extracting information about the animal). Thus, we could group them under the same class so that the next time we require information about an animal, we can use the corresponding method from that class."
   ]
  },
  {
   "cell_type": "code",
   "execution_count": null,
   "metadata": {},
   "outputs": [],
   "source": [
    "class AnimalReporter:\n",
    "   \n",
    "    def __init__(self, animal: str):\n",
    "        self.animal = animal\n",
    "    \n",
    "    def _say_hello_protected(self):\n",
    "        print('Hi, Im a protected method')\n",
    "    \n",
    "    def say_hello_public(self):\n",
    "        print('Hi, Im a public method')\n",
    "        self._say_hello_priv()\n",
    "\n",
    "    def get_class(self) -> str:\n",
    "        ROOT = 'https://en.wikipedia.org/wiki/'\n",
    "        r = requests.get(ROOT + self.animal)\n",
    "        soup = BeautifulSoup(r.content, 'html.parser')\n",
    "        class_row = soup.find('td', text = re.compile('Class:'))\n",
    "        animal_class = class_row.find_next_sibling().text.strip()\n",
    "        return animal_class\n",
    "    \n",
    "    def get_taxonomy(self):\n",
    "        ROOT = 'https://en.wikipedia.org/wiki/'\n",
    "        r = requests.get(ROOT + self.animal)\n",
    "        soup = BeautifulSoup(r.content, 'html.parser')\n",
    "        syn_text = soup.find('a', text = re.compile('Synonyms'))\n",
    "        if syn_text:\n",
    "            syn_header = syn_text.find_parent('tr')\n",
    "            syn_table = syn_header.find_next_sibling()\n",
    "            contents = syn_table.find_all('i')\n",
    "            if contents:\n",
    "                contents = [x.text for x in contents]\n",
    "                return contents\n",
    "        else:\n",
    "            return []\n",
    "\n",
    "ar = AnimalReporter('koala')"
   ]
  },
  {
   "cell_type": "code",
   "execution_count": null,
   "metadata": {},
   "outputs": [],
   "source": [
    "ar._say_hello_protected()"
   ]
  },
  {
   "cell_type": "markdown",
   "metadata": {},
   "source": [
    "You may have noticed the presence of an underscore. One of the benefits of encapsulation is privacy. Protected variables and methods can be defined so that the user cannot access them. In Python, this is technically not true: you cannot have a protected method. However, there is a convention: if a method has a prefixed underscore, it should not be changed (they trust that you will not change it). These protected methods are (or should be) only accessible within the class or the module, as we will see later.\n",
    "\n",
    "To achieve an increased level of privacy, private methods can be defined by adding two underscores. This will ensure that the attribute or method is inaccessible to the user and only accessible within the class.\n",
    "\n",
    ">Encapsulation sets boundaries for your methods so that they are private and only accessible within the class or module.\n",
    "\n",
    "Conversely, public methods are also called __interfaces__ because they are accessible to the public. \n",
    "\n",
    "Think about encapsulation like building walls around your class. Private/protected methods will be within the walls, while public methods will be the gates for getting access to those private/protected methods.\n",
    "\n",
    "Experiment on this to improve your understanding. \n",
    "\n",
    "_Tip_: read the provided type hint to know what type of variables to return."
   ]
  },
  {
   "cell_type": "code",
   "execution_count": null,
   "metadata": {},
   "outputs": [],
   "source": [
    "from bs4 import BeautifulSoup\n",
    "from typing import Union\n",
    "from typing import List\n",
    "import requests\n",
    "import re\n",
    "\n",
    "class AnimalReporter:\n",
    "    def __init__(self, animal: str):\n",
    "        self.animal = animal\n",
    "    \n",
    "    def _get_request(self) -> Union[bytes, str]:\n",
    "        ROOT = 'https://en.wikipedia.org/wiki/'\n",
    "        r = requests.get(ROOT + self.animal)\n",
    "        return r.text\n",
    "\n",
    "    def _get_soup(self, html: Union[bytes, str]) -> BeautifulSoup:\n",
    "        soup = BeautifulSoup(html, 'html.parser')\n",
    "        return soup\n",
    "        \n",
    "    def get_class(self) -> str:\n",
    "        html = self._get_request()\n",
    "        soup = self._get_soup(html)\n",
    "        class_row = soup.find('td', text = re.compile('Class:'))\n",
    "        animal_class = class_row.find_next_sibling().text.strip()\n",
    "        return animal_class\n",
    "    \n",
    "    def get_taxonomy(self) -> List:\n",
    "        html = self._get_request()\n",
    "        soup = self._get_soup(html)\n",
    "        syn_text = soup.find('a', text = re.compile('Synonyms'))\n",
    "        if syn_text:\n",
    "            syn_header = syn_text.find_parent('tr')\n",
    "            syn_table = syn_header.find_next_sibling()\n",
    "            contents = syn_table.find_all('i')\n",
    "            if contents:\n",
    "                contents = [x.text for x in contents]\n",
    "                return contents\n",
    "        else:\n",
    "            return []\n",
    "\n",
    "ar = AnimalReporter('koala')\n",
    "ar.get_class()"
   ]
  },
  {
   "cell_type": "markdown",
   "metadata": {},
   "source": [
    "## Abstraction and Encapsulation "
   ]
  },
  {
   "cell_type": "markdown",
   "metadata": {},
   "source": [
    "Now we have two classes: AnimalScraper and AnimalReporter, which are related in that we can refer to one of them if we need data about an animal. However, grouping them into the same class would be quite inefficient and vague. Instead, we can use a module to gather them into a script. Modules are even higher-level than classes, and they apply a type of encapsulation since they group multiple related classes and functions.\n",
    "\n",
    "> Modules apply a type of encapsulation that groups related functions or classes."
   ]
  },
  {
   "cell_type": "markdown",
   "metadata": {},
   "source": [
    "<p align=center><img src=images/animal_module.png width=400></p>\n",
    "\n",
    "Notice that we employed both abstraction and encapsulation to create this module. Conventionally, abstraction and encapsulation work together by grouping related functionalities and concealing the parts that do not matter to the user. This will allow us to change the internal code rapidly without affecting the output."
   ]
  },
  {
   "attachments": {},
   "cell_type": "markdown",
   "metadata": {},
   "source": [
    "If the difference is still not clear, here is a summary:\n",
    "\n",
    "<p align=center><img src=images/Abstraction_vs_Encapsulation.png?modified=232 width=400></p>"
   ]
  },
  {
   "cell_type": "markdown",
   "metadata": {},
   "source": [
    "# Summary\n",
    "\n",
    "- Abstraction is a tool to hide complexity, the user is not aware of the implementation details.\n",
    "- Encapsulation is a tool to group related functionalities together.\n"
   ]
  },
  {
   "cell_type": "markdown",
   "metadata": {},
   "source": [
    "# Practical"
   ]
  },
  {
   "cell_type": "markdown",
   "metadata": {},
   "source": [
    "## Mixin class for private methods\n",
    "1. Create a mixin class named AsDictMixin \n",
    "2. This class will be just inherited, so don't use a constructor for it\n",
    "3. You just need to define the following method: `to_dict(self)` which returns a `dict` representation of the object that inherits this mixin class.\n",
    "4. You might want to use the `__dict__` method, which returns a dictionary representation of an object.\n",
    "5. The class should look like this:"
   ]
  },
  {
   "cell_type": "code",
   "execution_count": null,
   "metadata": {},
   "outputs": [],
   "source": [
    "class AsDictMixin:\n",
    "    def to_dict(self):\n",
    "        ### Your code here\n",
    "        pass\n",
    "    def _represent(self, value):\n",
    "        if isinstance(value, object):\n",
    "            if hasattr(value, 'to_dict'):\n",
    "                return value.to_dict()\n",
    "            else:\n",
    "                return str(value)\n",
    "        else:\n",
    "            return value\n",
    "\n",
    "    def _is_internal(self, prop):\n",
    "        return prop.startswith('_')"
   ]
  },
  {
   "cell_type": "markdown",
   "metadata": {},
   "source": [
    "#### So when running the following code, the to_dict() method doesn't return private attributes."
   ]
  },
  {
   "cell_type": "markdown",
   "metadata": {},
   "source": [
    "```\n",
    "class Person(AsDictionaryMixin):\n",
    "    def __init__(self, name, address, salary):\n",
    "        self.name = name\n",
    "        self.address = address\n",
    "        self._salary = salary\n",
    "\n",
    "ivan = Person('Ivan', 'London', '100000000')\n",
    "ivan.to_dict()\n",
    "```"
   ]
  },
  {
   "cell_type": "markdown",
   "metadata": {},
   "source": [
    "{'name': 'Ivan', 'address': 'London'} (No salary is shown, because it's private)"
   ]
  },
  {
   "cell_type": "markdown",
   "metadata": {},
   "source": [
    "# Assessment\n",
    "\n",
    "### 1. Look information about modules, packages, and how they are organized (we will see more on this in next sections, so just read about them)\n",
    "### 2. How does encapsulation benefit from modules? \n",
    "### 3. How does encapsulation benefit from packages?"
   ]
  }
 ],
 "metadata": {
  "kernelspec": {
   "display_name": "Python 3.9.12 ('base')",
   "language": "python",
   "name": "python3"
  },
  "language_info": {
   "codemirror_mode": {
    "name": "ipython",
    "version": 3
   },
   "file_extension": ".py",
   "mimetype": "text/x-python",
   "name": "python",
   "nbconvert_exporter": "python",
   "pygments_lexer": "ipython3",
   "version": "3.9.12"
  },
  "vscode": {
   "interpreter": {
    "hash": "a2592652612463181e69ac003232387e3e9a99279aa6b168e76f5df16d5110f4"
   }
  }
 },
 "nbformat": 4,
 "nbformat_minor": 2
}
