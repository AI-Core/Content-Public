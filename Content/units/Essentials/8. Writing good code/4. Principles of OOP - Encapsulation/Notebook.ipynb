{
 "cells": [
  {
   "cell_type": "markdown",
   "metadata": {},
   "source": [
    "# Encapsulation"
   ]
  },
  {
   "cell_type": "markdown",
   "metadata": {},
   "source": [
    "Encapsulation is a fundamental principle of Object-Oriented Programming (OOP) that promotes the idea of bundling data and behaviors related to a particular entity into a single unit known as a class. It allows us to hide the internal implementation details of an object and expose only those methods and properties that are necessary for its intended usage. This is achieved by providing access control mechanisms to protect the data from unwanted modifications and ensure that the object's state remains consistent."
   ]
  },
  {
   "cell_type": "markdown",
   "metadata": {},
   "source": [
    "##  Key Features of Encapsulation\n",
    "\n",
    "**1. Data and Behavior Together**: In OOP, encapsulation emphasizes keeping the data and the operations that act on that data within the same class. This bundling of data and behavior into a single unit provides a clear boundary for the functionality related to the object, making it easier to understand and maintain the codebase.\n",
    "\n",
    "**2. Access Control**: Encapsulation allows us to define access levels for different members of the class, such as *public*, *private*, and *protected*\n",
    "\n",
    "> Public members can be accessed from outside the class, while private members are hidden and can only be accessed from within the class itself. This access control ensures that the internal implementation details are not exposed directly to the outside world, preventing unintended misuse of the class.\n",
    "\n",
    "**3. Information Hiding**: By using encapsulation, we can enforce information hiding, which means that the internal details of an object are hidden from the outside world. This promotes better code organization, reduces dependencies, and makes it easier to change the internal implementation without affecting the external code that uses the class."
   ]
  },
  {
   "cell_type": "markdown",
   "metadata": {},
   "source": [
    "##  Benefits of Encapsulation\n",
    "\n",
    "- ** Modularity**: Encapsulation supports modularity in programming by breaking down complex systems into smaller, manageable parts. Each class represents a specific module with a well-defined interface, making it easier to understand and maintain the code.\n",
    "\n",
    "- **Security and Integrity**: By restricting direct access to the internal data of a class, encapsulation ensures that the object's state remains consistent and prevents unauthorized modification. It enhances the security and integrity of the data within the program.\n",
    "\n",
    "- **Code Reusability**: Encapsulation encourages reusability since classes can be used as building blocks in different parts of the program. By defining a clear interface for a class, other developers can use it without needing to understand its internal implementation."
   ]
  },
  {
   "cell_type": "markdown",
   "metadata": {},
   "source": [
    "## Abstraction vs Encapsulation\n",
    "\n",
    "Abstraction and encapsulation are both important concepts in Object-Oriented Programming (OOP), but they serve different purposes and apply to different aspects of code organization.\n",
    "\n",
    "### Abstraction \n",
    "\n",
    "Abstraction is the process of simplifying complex systems by presenting only the essential features to the outside world, while hiding the unnecessary details. It allows us to create a high-level view of an object or a system, focusing on what it does rather than how it does it. Abstraction is all about defining interfaces and functionality without getting into the internal implementation.\n",
    "\n",
    "For example, let's consider the `AnimalScraper` class below. This class is an example of abstraction, as it encapsulates a set of methods that form a pipeline to scrape and process animal data from a website. The user of the `AnimalScraper` class doesn't need to know the intricate details of each method's implementation; they only need to interact with the high-level functionality provided by the class."
   ]
  },
  {
   "cell_type": "code",
   "execution_count": null,
   "metadata": {},
   "outputs": [],
   "source": [
    "class AnimalScraper:\n",
    "    def __init__(self, url):\n",
    "        self.url = url\n",
    "\n",
    "    def fetch_data(self):\n",
    "        # Code to fetch animal data from the provided URL\n",
    "\n",
    "    def clean_data(self):\n",
    "        # Code to clean and preprocess the fetched data\n",
    "\n",
    "    def analyze_data(self):\n",
    "        # Code to perform analysis on the cleaned data\n",
    "\n",
    "    def display_results(self):\n",
    "        # Code to display the analyzed results\n"
   ]
  },
  {
   "cell_type": "markdown",
   "metadata": {},
   "source": [
    "### Encapsulation\n",
    "\n",
    "Encapsulation, on the other hand, is the process of bundling related data and behaviors (methods) into a single unit known as a class. It ensures that the internal details of an object are hidden from the outside world and only accessible through well-defined interfaces (public methods). Encapsulation protects the object's state from direct manipulation, promoting data integrity and security.\n",
    "\n",
    "To illustrate encapsulation, let's define a new class called `Animal`. This class represents an individual animal and encapsulates its attributes and related methods."
   ]
  },
  {
   "cell_type": "code",
   "execution_count": null,
   "metadata": {},
   "outputs": [],
   "source": [
    "class Animal:\n",
    "    def __init__(self, name, species):\n",
    "        self.name = name\n",
    "        self.species = species\n",
    "\n",
    "    def get_taxonomy(self):\n",
    "        # Code to obtain a list of zoological synonyms for the animal\n",
    "        pass\n",
    "\n",
    "    def get_class(self):\n",
    "        # Code to obtain the animal's class (mammals, birds, amphibians, reptiles, or fish)\n",
    "        pass\n"
   ]
  },
  {
   "cell_type": "markdown",
   "metadata": {},
   "source": [
    "In this example, the `Animal` class encapsulates the attributes name and species, as well as the methods `get_taxonomy` and `get_class`. The internal details of these methods are hidden from external users, and they can only interact with the class through the public methods provided.\n",
    "\n",
    "If the difference is still not clear, here is a summary:\n",
    "\n",
    "<p align=center><img src=images/Abstraction_vs_Encapsulation.png?modified=232 width=400></p>\n",
    "\n",
    "### Key Differences\n",
    "\n",
    "The key differences between abstraction and encapsulation are:\n",
    "\n",
    "- Abstraction focuses on defining high-level interfaces and functionality without revealing internal implementation details\n",
    "- Encapsulation involves grouping related data and behaviors into a class, providing access control to protect the data from unwanted modifications\n",
    "\n",
    "### When to Use Abstraction and Encapsulation\n",
    "\n",
    "Use abstraction when you want to provide a simplified and high-level view of a complex system, allowing users to interact with the functionality without worrying about the implementation details.\n",
    "\n",
    "Use encapsulation when you have related data and behaviors that need to be grouped together, and you want to control access to the internal state of an object, ensuring data integrity and promoting secure interactions with the object.\n",
    "\n",
    "By understanding the distinctions between abstraction and encapsulation, you can design better object-oriented systems and write code that is easier to understand, maintain, and extend."
   ]
  },
  {
   "cell_type": "markdown",
   "metadata": {},
   "source": [
    "Notice that these functions are independent of one another; however, their concerns are in the same field (extracting information about the animal). Thus, we could group them under the same class so that the next time we require information about an animal, we can use the corresponding method from that class."
   ]
  },
  {
   "cell_type": "markdown",
   "metadata": {},
   "source": [
    "## Privacy and Access Control with Private, Protected, and Public Methods\n",
    "\n",
    "Encapsulation not only involves grouping related data and behaviors into a class but also provides mechanisms to control the visibility and accessibility of those methods. In Python, methods and attributes can be categorized as private, protected, or public, based on naming conventions. Let's explore the different levels of access control and their significance.\n",
    "\n",
    "### Public Methods (Interfaces)\n",
    "\n",
    "Public methods are accessible from outside the class and serve as the primary interface for interacting with an object. They are designed to be used by external code and are meant to provide essential functionality without exposing the internal implementation.\n",
    "\n",
    "> Public methods are marked by their regular method names and do not use any special prefixes or suffixes.\n",
    "\n",
    "For example:"
   ]
  },
  {
   "cell_type": "code",
   "execution_count": null,
   "metadata": {},
   "outputs": [],
   "source": [
    "class Car:\n",
    "    def __init__(self, make, model):\n",
    "        self.make = make\n",
    "        self.model = model\n",
    "\n",
    "    def start_engine(self):\n",
    "        # Code to start the car's engine\n",
    "\n",
    "    def accelerate(self, speed):\n",
    "        # Code to accelerate the car to a given speed\n"
   ]
  },
  {
   "cell_type": "markdown",
   "metadata": {},
   "source": [
    "In this example, `start_engine()` and `accelerate(speed)` are public methods that are accessible from outside the `Car` class.\n",
    "\n",
    "### Protected Methods (Convention-based):\n",
    "\n",
    "In Python, there is no strict access control for protected methods like in some other programming languages. However, there is a convention to use a single underscore prefix for methods and attributes that should be considered protected. This convention signals that these methods should not be accessed or modified by external code, although Python does not enforce this.\n",
    "\n",
    "For example:"
   ]
  },
  {
   "cell_type": "code",
   "execution_count": null,
   "metadata": {},
   "outputs": [],
   "source": [
    "class Animal:\n",
    "    def __init__(self, name, species):\n",
    "        self.name = name\n",
    "        self._species = species  # Convention-based protected attribute\n",
    "\n",
    "    def _get_taxonomy(self):\n",
    "        # Code to obtain a list of zoological synonyms for the animal\n",
    "        pass\n",
    "\n",
    "    def _get_class(self):\n",
    "        # Code to obtain the animal's class (mammals, birds, amphibians, reptiles, or fish)\n",
    "        pass\n"
   ]
  },
  {
   "cell_type": "markdown",
   "metadata": {},
   "source": [
    "In this example, `_get_taxonomy()` and `_get_class()` are considered protected methods. Although external code can still access and call these methods, the single underscore serves as a gentle reminder that they are intended for internal use.\n",
    "\n",
    "### Private Methods (Encapsulated)\n",
    "\n",
    "Private methods are intended to be completely hidden from external code. In Python, to create a private method, you can use two underscores as a prefix for the method name. This naming convention tells Python to perform name mangling, effectively making the method name more complex to discourage external access.\n",
    "\n",
    "For example:"
   ]
  },
  {
   "cell_type": "code",
   "execution_count": null,
   "metadata": {},
   "outputs": [],
   "source": [
    "class Student:\n",
    "    def __init__(self, name, age):\n",
    "        self.name = name\n",
    "        self.age = age\n",
    "\n",
    "    def __get_age(self):\n",
    "        # Private method to get the student's age\n",
    "        return self.age\n",
    "\n",
    "    def get_info(self):\n",
    "        # Public method to get the student's name and age\n",
    "        return f\"Name: {self.name}, Age: {self.__get_age()}\"\n"
   ]
  },
  {
   "cell_type": "markdown",
   "metadata": {},
   "source": [
    "In this example, `__get_age()` is a private method, and it can only be accessed within the `Student` class itself. Attempting to call `__get_age()` from outside the class will result in a name error.\n",
    "\n",
    "### Summary\n",
    "\n",
    "- Public methods are accessible from outside the class and serve as the primary interface for interacting with the object\n",
    "- Protected methods (convention-based) use a single underscore prefix and are intended for internal use but can still be accessed externally (although it's not recommended)\n",
    "- Private methods use a double underscore prefix and are intended to be hidden from external code entirely"
   ]
  },
  {
   "cell_type": "markdown",
   "metadata": {},
   "source": [
    "## When to Use Private, Public, and Protected Methods and Attributes\n",
    "\n",
    "### Public Methods and Attributes\n",
    "\n",
    "Use Public Methods when you want to provide a clear and well-defined interface for external code to interact with your class. Public methods should represent the core functionality of the class and provide the essential operations that users of the class need to perform.\n",
    "\n",
    "Use Public Attributes when the data needs to be directly accessible from outside the class without any additional processing. However, keep in mind that direct access to attributes can lead to potential issues in maintaining data integrity.\n",
    "\n",
    "For example:"
   ]
  },
  {
   "cell_type": "code",
   "execution_count": null,
   "metadata": {},
   "outputs": [],
   "source": [
    "class Circle:\n",
    "    def __init__(self, radius):\n",
    "        self.radius = radius\n",
    "\n",
    "    def area(self):\n",
    "        return 3.14 * self.radius ** 2\n"
   ]
  },
  {
   "cell_type": "markdown",
   "metadata": {},
   "source": [
    "In this example, the `area()` method is a public method that provides a straightforward way for external code to calculate the area of the circle.\n",
    "\n",
    "### Protected Methods and Attributes\n",
    "\n",
    "Use Protected Methods and Attributes when you want to signal that certain methods or attributes are intended for internal use within the class or its subclasses. Although Python does not enforce strict access control for protected members, using a single underscore prefix is a convention to indicate their intended usage.\n",
    "\n",
    "Protected methods and attributes can be useful for sharing common functionalities among subclasses without exposing them directly to external code.\n",
    "\n",
    "For example:"
   ]
  },
  {
   "cell_type": "code",
   "execution_count": null,
   "metadata": {},
   "outputs": [],
   "source": [
    "class Animal:\n",
    "    def __init__(self, name, species):\n",
    "        self.name = name\n",
    "        self._species = species\n",
    "\n",
    "    def _make_sound(self):\n",
    "        # Protected method for making the animal's sound\n",
    "        pass\n",
    "\n",
    "    def _get_species(self):\n",
    "        # Protected method to get the animal's species\n",
    "        return self._species\n"
   ]
  },
  {
   "cell_type": "markdown",
   "metadata": {},
   "source": [
    "In this example, `_make_sound()` and `_get_species()` are protected methods that are intended for internal use within the `Animal` class or its subclasses.\n",
    "\n",
    "### Private Methods and Attributes\n",
    "\n",
    "Use Private Methods and Attributes when you want to completely hide certain functionalities and data from external code. Private members are intended to be used only within the class, ensuring strong encapsulation and preventing direct access from outside.\n",
    "\n",
    "Private methods can help to break down complex operations into smaller, more manageable parts, without exposing those parts as separate public methods.\n",
    "\n",
    "For example:"
   ]
  },
  {
   "cell_type": "code",
   "execution_count": null,
   "metadata": {},
   "outputs": [],
   "source": [
    "class BankAccount:\n",
    "    def __init__(self, account_number, balance):\n",
    "        self._account_number = account_number\n",
    "        self.__balance = balance\n",
    "\n",
    "    def __validate_transaction(self, amount):\n",
    "        # Private method to validate if the transaction is allowed\n",
    "        pass\n",
    "\n",
    "    def deposit(self, amount):\n",
    "        # Public method to deposit money into the account\n",
    "        if self.__validate_transaction(amount):\n",
    "            self.__balance += amount\n"
   ]
  },
  {
   "cell_type": "markdown",
   "metadata": {},
   "source": [
    "In this `example, __validate_transaction()` is a private method that is used internally by the `deposit()` method to ensure that the transaction is valid before updating the account balance.\n",
    "\n",
    "### Summary\n",
    "\n",
    "- Use public methods and attributes to provide a clear and accessible interface for external code to interact with your class's functionalities and data\n",
    "- Use protected methods and attributes as a convention to indicate that certain members are intended for internal use within the class or its subclasses\n",
    "- Use private methods and attributes to hide complex implementations and data from external code, ensuring strong encapsulation and data integrity\n",
    "\n",
    "Remember that access control in Python is based on conventions, and there are no strict access modifiers like in some other programming languages. However, adhering to the conventions helps maintain a clean and consistent codebase, promoting better code organization and readability."
   ]
  },
  {
   "cell_type": "markdown",
   "metadata": {},
   "source": [
    "## Key Takeaways\n",
    "\n",
    "- Encapsulation is a fundamental principle in Object-Oriented Programming (OOP) that involves bundling related data and behaviors (methods) into a single unit known as a class. It helps in organizing code, promoting data integrity, and controlling access to class members.\n",
    "- Abstraction allows us to present a high-level view of an object or system, focusing on what it does rather than how it does it. It defines interfaces and functionality without revealing internal implementation details.\n",
    "- Access Control in Python can be achieved through naming conventions, but it's important to understand that Python does not strictly enforce access control like some other programming languages\n",
    "- Public Methods and Attributes are accessible from outside the class and serve as the primary interface for external code to interact with the class. Public methods represent the core functionality of the class and provide essential operations\n",
    "- Protected Methods and Attributes are signaled by a single underscore prefix, indicating that they are intended for internal use within the class or its subclasses. Although not strictly protected, they serve as a convention to prevent direct external access.\n",
    "- Private Methods and Attributes are created with a double underscore prefix, and they are intended to be entirely hidden from external code. Python performs name mangling to discourage direct access to private members.\n",
    "- Encapsulation and Information Hiding are closely related; encapsulation enables information hiding by exposing only necessary functionalities while hiding implementation details\n",
    "- Think of Encapsulation as Building Walls around your class. Private/protected methods and attributes are within the walls, accessible only within the class or its module, while public methods act as gates to access the private/protected functionalities"
   ]
  }
 ],
 "metadata": {
  "kernelspec": {
   "display_name": "Python 3.9.12 ('base')",
   "language": "python",
   "name": "python3"
  },
  "language_info": {
   "codemirror_mode": {
    "name": "ipython",
    "version": 3
   },
   "file_extension": ".py",
   "mimetype": "text/x-python",
   "name": "python",
   "nbconvert_exporter": "python",
   "pygments_lexer": "ipython3",
   "version": "3.9.12"
  },
  "vscode": {
   "interpreter": {
    "hash": "a2592652612463181e69ac003232387e3e9a99279aa6b168e76f5df16d5110f4"
   }
  }
 },
 "nbformat": 4,
 "nbformat_minor": 2
}
