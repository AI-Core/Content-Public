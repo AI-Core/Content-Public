{
 "cells": [
  {
   "attachments": {},
   "cell_type": "markdown",
   "metadata": {},
   "source": [
    "# Principles of OOP - Inheritance"
   ]
  },
  {
   "attachments": {},
   "cell_type": "markdown",
   "metadata": {},
   "source": [
    "## Which of the following statements are true about Python composition? Select all that apply.\n",
    "\n",
    "- We use multiple inheritance to inherit from multiple classes to build complex objects quickly ***\n",
    "- Using **mixins** we can choose to provide extra functionality to a class *** \n",
    "- It is used specifically to make the size of the class smaller\n",
    "- It is used to completely avoid inheritance \n",
    "- It reduces the amount of classes need to build an object"
   ]
  },
  {
   "attachments": {},
   "cell_type": "markdown",
   "metadata": {},
   "source": [
    "## What is the benefit of using Python aggregation?\n",
    "\n",
    "- It allows us to loosely couple classes which gives you the option of removing one without breaking the functionality of the other ***\n",
    "- Aggregations allows us to build custom Python methods\n",
    "- By using aggregation we don't been to define a constructor in a Python class\n",
    "- Aggregation lets use return an object from our class\n",
    "- Aggregation is specifically used to make class smaller"
   ]
  },
  {
   "attachments": {},
   "cell_type": "markdown",
   "metadata": {},
   "source": [
    "## Which of the following statements are true about Unified Modeling Language (UML) diagrams? Select all that apply.\n",
    "\n",
    "- UML diagrams are used to represent the relationships between objects contained in your code ***\n",
    "- They can as a blueprint of the design of your system so that you can seen which classes interact with each other ***\n",
    "- They are specifically to design databases\n",
    "- They can only show which classes are linked to each other but not the relationships between them"
   ]
  }
 ],
 "metadata": {
  "kernelspec": {
   "display_name": "base",
   "language": "python",
   "name": "python3"
  },
  "language_info": {
   "name": "python",
   "version": "3.10.9"
  },
  "orig_nbformat": 4,
  "vscode": {
   "interpreter": {
    "hash": "a2592652612463181e69ac003232387e3e9a99279aa6b168e76f5df16d5110f4"
   }
  }
 },
 "nbformat": 4,
 "nbformat_minor": 2
}
