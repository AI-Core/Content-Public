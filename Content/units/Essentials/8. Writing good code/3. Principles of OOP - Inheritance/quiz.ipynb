{
 "cells": [
  {
   "attachments": {},
   "cell_type": "markdown",
   "metadata": {},
   "source": [
    "# Principles of OOP - Inheritance"
   ]
  },
  {
   "attachments": {},
   "cell_type": "markdown",
   "metadata": {},
   "source": [
    "## What is inheritance in Python?\n",
    "\n",
    "- The process of inheriting properties of objects of another class.\n",
    "- The process of creating new classes from existing classes. ***\n",
    "- The process of defining methods in a class.\n",
    "- The process of creating instances of a class."
   ]
  },
  {
   "attachments": {},
   "cell_type": "markdown",
   "metadata": {},
   "source": [
    "## What keyword is used to create a subclass in Python?\n",
    "\n",
    "- extend\n",
    "- subclass\n",
    "- inherits\n",
    "- There is no specific keyword; the parent class is simply specified in parentheses in the class declaration. ***"
   ]
  },
  {
   "attachments": {},
   "cell_type": "markdown",
   "metadata": {},
   "source": [
    "## Which statement about inheritance in Python is true?\n",
    "\n",
    "- A class can only inherit from one parent class.\n",
    "- Inheritance allows code reusability and reduces the complexity of a program. ***\n",
    "- Child classes can't access the attributes of a parent class.\n",
    "- There is no way to call a method in a superclass from a subclass."
   ]
  },
  {
   "attachments": {},
   "cell_type": "markdown",
   "metadata": {},
   "source": [
    "## In the context of Python inheritance, what is the purpose of calling `super().__init__()` within a subclass's class constructor?\n",
    "\n",
    "- To instantiate the superclass separately from the subclass.\n",
    "- To force the subclass to use the initialization method of the superclass only.\n",
    "- To ensure the superclass's initialization method is called, allowing the subclass to inherit its attributes and methods. ***\n",
    "- To override the initialization method of the superclass with that of the subclass."
   ]
  },
  {
   "cell_type": "markdown",
   "metadata": {},
   "source": []
  }
 ],
 "metadata": {
  "kernelspec": {
   "display_name": "base",
   "language": "python",
   "name": "python3"
  },
  "language_info": {
   "name": "python",
   "version": "3.10.9"
  },
  "orig_nbformat": 4,
  "vscode": {
   "interpreter": {
    "hash": "a2592652612463181e69ac003232387e3e9a99279aa6b168e76f5df16d5110f4"
   }
  }
 },
 "nbformat": 4,
 "nbformat_minor": 2
}
