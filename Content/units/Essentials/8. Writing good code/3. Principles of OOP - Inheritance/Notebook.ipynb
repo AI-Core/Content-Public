{
 "cells": [
  {
   "cell_type": "markdown",
   "metadata": {},
   "source": [
    "# Inheritance\n",
    "\n",
    "## Using Composition"
   ]
  },
  {
   "attachments": {},
   "cell_type": "markdown",
   "metadata": {},
   "source": [
    "Instead of creating a rigid inheritance structure, we can leverage Python's duck typing and multiple inheritance. As we saw, Python allows multiple inheritance, and it is possible to create a class that inherits from multiple classes.\n",
    "\n",
    "Following this principle, composition is a more flexible alternative to inheritance. It is possible to create a class that contains characteristics from many parent classes, so we can use that feature to ONLY inherit what we want.\n",
    "\n",
    "_Consider composition as pieces of a Lego set. We can combine these pieces to create a complex object. But those pieces can also be used to create a different object._\n",
    "\n",
    "<p align=center><img src=images/Composition.png width=500, modified=15541451></p>\n",
    "\n",
    "> ## Composition is the converse of decomposition: pieces with different functionalities are combined to create a whole.\n",
    "\n",
    "Many languages implement composition through interfaces, which are formal definitions of methods and data that a particular class MUST implement. Python does not have interfaces, but by using multiple inheritance, we can build a similar mechanism, which in Python is referred to as a mixin.\n",
    "\n",
    " A mixin is a class that provides methods to other classes but are not considered a base class. For example, a dog can speak and roll_over, and eventually you will want to create a class that can speak and roll_over, so you can create classes to be inherited to add the speak and rolling over abilities for other objects."
   ]
  },
  {
   "cell_type": "code",
   "execution_count": null,
   "metadata": {},
   "outputs": [],
   "source": [
    "class SpeakMixin:\n",
    "    def speak(self):\n",
    "        name = self.__class__.__name__.lower()\n",
    "        print(f'The {name} says: \"hello... I mean... woof!\"')\n",
    "\n",
    "\n",
    "class RollOverMixin:\n",
    "    def roll_over(self):\n",
    "        print('Look at me, I am rolling!')\n",
    "\n",
    "\n",
    "class Dog(RollOverMixin, SpeakMixin):\n",
    "    pass\n",
    "\n",
    "class Cat(SpeakMixin):\n",
    "    pass\n",
    "\n",
    "jake = Dog()\n",
    "jake.speak()\n",
    "jake.roll_over()\n"
   ]
  },
  {
   "cell_type": "markdown",
   "metadata": {},
   "source": [
    "# Composition in Python"
   ]
  },
  {
   "attachments": {},
   "cell_type": "markdown",
   "metadata": {},
   "source": [
    "You are likely to encounter other implementations of composition in other books. Due to the non-strict behaviour of Python, some of the concepts that were characteristics from other languages, are different in Python. \n",
    "\n",
    "Composition is one of these terms. You might find other resources using this term to refer to a class that instantiates another class inside. For example:"
   ]
  },
  {
   "cell_type": "code",
   "execution_count": null,
   "metadata": {},
   "outputs": [],
   "source": [
    "class Leg:\n",
    "\n",
    "    def __init__(self, position):\n",
    "        self.position = position\n",
    "\n",
    "    def __repr__(self):\n",
    "        return f'I am the {self.position} leg'\n",
    "\n",
    "class Dog:\n",
    "    def __init__(self, name):\n",
    "        self.name = name\n",
    "        self.back_left_leg = Leg('Back_Left')\n",
    "        self.back_right_leg = Leg('Back_Right')\n",
    "        self.front_left_leg = Leg('Front_Left')\n",
    "        self.front_right_leg = Leg('Front_Right')\n"
   ]
  },
  {
   "cell_type": "markdown",
   "metadata": {},
   "source": [
    "This structure is incredibly useful when we are dealing with classes that share multiple behaviour, and we want to keep some of these behaviours separate."
   ]
  },
  {
   "cell_type": "markdown",
   "metadata": {},
   "source": [
    "You can see that the goal of both type of compositions are similar, adding features to classes without resorting to a strict inheritance structure, but the way they do it is quite different. Also, think what will happen if you delete an instance of the Dog class in this type of composition, all instance of Leg will also be deleted, which makes this relationship a _tight coupling_.\n",
    "\n",
    "To solve that issue, you can use __Aggregation__\n"
   ]
  },
  {
   "cell_type": "markdown",
   "metadata": {},
   "source": [
    "\n",
    "# Aggregation"
   ]
  },
  {
   "attachments": {},
   "cell_type": "markdown",
   "metadata": {},
   "source": [
    "If instead of instantiating the Leg instance inside the class, you pass it to the constructor as an argument, there will be no problem if you delete the Dog instance:"
   ]
  },
  {
   "cell_type": "code",
   "execution_count": null,
   "metadata": {},
   "outputs": [],
   "source": [
    "class Leg:\n",
    "\n",
    "    def __init__(self, position):\n",
    "        self.position = position\n",
    "\n",
    "    def __repr__(self):\n",
    "        return f'I am the {self.position} leg'\n",
    "\n",
    "back_left_leg = Leg('Back_Left')\n",
    "back_right_leg = Leg('Back_Right')\n",
    "front_left_leg = Leg('Front_Left')\n",
    "front_right_leg = Leg('Front_Right')\n",
    "\n",
    "list_legs = [back_left_leg, back_right_leg, front_left_leg, front_right_leg]\n",
    "\n",
    "class Dog:\n",
    "    def __init__(self, name, list_legs):\n",
    "        self.name = name\n",
    "        self.legs = list_legs\n",
    "\n"
   ]
  },
  {
   "cell_type": "markdown",
   "metadata": {},
   "source": [
    "If you remove an instance of dog, list_legs will still exists. Now, having some loose legs walking around is another problem, but that's not of our concern. \n",
    "\n",
    "Speaking of loose legs, this type of relationship is called _loose coupling_ where instances are not so dependant."
   ]
  },
  {
   "cell_type": "markdown",
   "metadata": {},
   "source": [
    "# UML diagrams"
   ]
  },
  {
   "cell_type": "markdown",
   "metadata": {},
   "source": [
    "Unified Modeling Language diagrams are a way to represent the relationships between the pieces that constitute your code. The reason for using UML diagrams is to keep all the dependencies mapped, so you know how to access a specific class, method or function just by looking at the diagram.\n",
    "\n",
    "UML diagrams have existed for a long time, and as such, it was designed for older programming languages. Thus, the composition term we are going to see is based on the latter definition of composition we saw, where there is a tight coupling between classes.\n",
    "\n",
    "The next image represents the basic syntax of a class in a UML diagram\n",
    "<p align=center><img src=images/UML1.png width=500></p>"
   ]
  },
  {
   "cell_type": "markdown",
   "metadata": {},
   "source": [
    "As we start adding more classes to the project, they will have relationships, like inheritance, composition or Aggregation, and these will be represented with a different arrow\n",
    "<p align=center><img src=images/UML2.png width=500></p>"
   ]
  },
  {
   "cell_type": "markdown",
   "metadata": {},
   "source": [
    "To finish off, let's take a look at a real life UML diagram\n",
    "<p align=center><img src=images/UML3.png width=600></p>\n"
   ]
  },
  {
   "cell_type": "markdown",
   "metadata": {},
   "source": [
    "# Summary\n",
    "\n",
    "- Inheritance and Polymorphism are useful tools, but be aware of rigid inheritance structures.\n",
    "- Composition can solve said problem by building a wider structure.\n",
    "- Creating UML diagrams can help obtaining information about the structure of your program"
   ]
  }
 ],
 "metadata": {
  "kernelspec": {
   "display_name": "Python 3.9.12 ('base')",
   "language": "python",
   "name": "python3"
  },
  "language_info": {
   "name": "python",
   "version": "3.10.9"
  },
  "vscode": {
   "interpreter": {
    "hash": "a2592652612463181e69ac003232387e3e9a99279aa6b168e76f5df16d5110f4"
   }
  }
 },
 "nbformat": 4,
 "nbformat_minor": 2
}
