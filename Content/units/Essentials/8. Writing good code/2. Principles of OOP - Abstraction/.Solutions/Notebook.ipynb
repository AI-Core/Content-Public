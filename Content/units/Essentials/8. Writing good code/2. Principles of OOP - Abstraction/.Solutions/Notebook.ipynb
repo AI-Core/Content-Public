{
 "cells": [
  {
   "cell_type": "markdown",
   "metadata": {},
   "source": [
    "### Animal Reporter"
   ]
  },
  {
   "cell_type": "code",
   "execution_count": null,
   "metadata": {},
   "outputs": [],
   "source": [
    "class AnimalReporter:\n",
    "    def __init__(self, animal: str):\n",
    "        self.animal = animal\n",
    "    \n",
    "    def _get_request(self) -> Union[bytes, str]:\n",
    "        ROOT = 'https://en.wikipedia.org/wiki/'\n",
    "        r = requests.get(ROOT + self.animal)\n",
    "        return r.text\n",
    "\n",
    "    def _get_soup(self, html: Union[bytes, str]) -> BeautifulSoup:\n",
    "        soup = BeautifulSoup(html, 'html.parser')\n",
    "        return soup\n",
    "        \n",
    "    def get_class(self) -> str:\n",
    "        html = self._get_request()\n",
    "        soup = self._get_soup(html)\n",
    "        class_row = soup.find('td', text = re.compile('Class:'))\n",
    "        animal_class = class_row.find_next_sibling().text.strip()\n",
    "        return animal_class\n",
    "    \n",
    "    def get_taxonomy(self) -> List:\n",
    "        html = self._get_request()\n",
    "        soup = self._get_soup(html)\n",
    "        syn_text = soup.find('a', text = re.compile('Synonyms'))\n",
    "        if syn_text:\n",
    "            syn_header = syn_text.find_parent('tr')\n",
    "            syn_table = syn_header.find_next_sibling()\n",
    "            contents = syn_table.find_all('i')\n",
    "            if contents:\n",
    "                contents = [x.text for x in contents]\n",
    "                return contents\n",
    "        else:\n",
    "            return []\n",
    "\n",
    "ar = AnimalReporter('koala')\n",
    "ar.get_class()"
   ]
  },
  {
   "cell_type": "markdown",
   "metadata": {},
   "source": [
    "## AsDictMixin"
   ]
  },
  {
   "cell_type": "code",
   "execution_count": 1,
   "metadata": {},
   "outputs": [],
   "source": [
    "class AsDictionaryMixin:\n",
    "    def to_dict(self):\n",
    "        return {\n",
    "            prop: self._represent(value)\n",
    "            for prop, value in self.__dict__.items()\n",
    "            if not self._is_internal(prop)\n",
    "        }\n",
    "\n",
    "    def _represent(self, value):\n",
    "        if isinstance(value, object):\n",
    "            if hasattr(value, 'to_dict'):\n",
    "                return value.to_dict()\n",
    "            else:\n",
    "                return str(value)\n",
    "        else:\n",
    "            return value\n",
    "\n",
    "    def _is_internal(self, prop):\n",
    "        return prop.startswith('_')"
   ]
  },
  {
   "cell_type": "code",
   "execution_count": 4,
   "metadata": {},
   "outputs": [],
   "source": [
    "class Person(AsDictionaryMixin):\n",
    "    def __init__(self, name, address, salary):\n",
    "        self.name = name\n",
    "        self.address = address\n",
    "        self._salary = salary\n",
    "\n",
    "ivan = Person('Ivan', 'London', '100000000')\n",
    "string = \"Blair\""
   ]
  },
  {
   "cell_type": "code",
   "execution_count": 5,
   "metadata": {},
   "outputs": [
    {
     "data": {
      "text/plain": [
       "{'name': 'Ivan', 'address': 'London'}"
      ]
     },
     "execution_count": 5,
     "metadata": {},
     "output_type": "execute_result"
    }
   ],
   "source": [
    "ivan.to_dict()"
   ]
  },
  {
   "cell_type": "code",
   "execution_count": null,
   "metadata": {},
   "outputs": [],
   "source": []
  }
 ],
 "metadata": {
  "interpreter": {
   "hash": "569d6b7e9215e11aba41c6454007e5c1b78bad7df09dab765d8cf00362c40f03"
  },
  "kernelspec": {
   "display_name": "Python 3.9.1 64-bit ('base': conda)",
   "name": "python3"
  },
  "language_info": {
   "codemirror_mode": {
    "name": "ipython",
    "version": 3
   },
   "file_extension": ".py",
   "mimetype": "text/x-python",
   "name": "python",
   "nbconvert_exporter": "python",
   "pygments_lexer": "ipython3",
   "version": "3.9.1"
  },
  "orig_nbformat": 4
 },
 "nbformat": 4,
 "nbformat_minor": 2
}
