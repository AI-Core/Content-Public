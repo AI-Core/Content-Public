{
 "cells": [
  {
   "cell_type": "markdown",
   "metadata": {},
   "source": [
    "# Abstraction"
   ]
  },
  {
   "cell_type": "code",
   "execution_count": null,
   "metadata": {},
   "outputs": [],
   "source": [
    "import json\n",
    "\n",
    "with open('dataset.csv') as f:\n",
    "    data = json.load(f)\n",
    "non_duplicate_data = []\n",
    "unique_ids = []\n",
    "for datapoint in data:\n",
    "    if datapoint['id'] not in unique_ids:\n",
    "        unique_ids.append(datapoint['id'])\n",
    "        non_duplicate_data.append(datapoint)\n",
    "data = non_duplicate_data\n",
    "data_with_correct_key_names = []\n",
    "for datapoint in data:\n",
    "    datapoint_with_corrected_keynames = {}\n",
    "    for key in data.keys():\n",
    "        correct_key_name = key.lower()\n",
    "        data_with_correct_key_names[correct_key_name] = data[key]"
   ]
  },
  {
   "cell_type": "markdown",
   "metadata": {},
   "source": [
    "### Before abstracting into a class"
   ]
  },
  {
   "cell_type": "code",
   "execution_count": null,
   "metadata": {},
   "outputs": [],
   "source": [
    "name = 'Harry'\n",
    "age = 24\n",
    "eyes = 'blue'\n",
    "lifestyle = 'extreme'\n",
    "\n",
    "print(f'{name} is {age}, has {eyes} eyes and lives a lifestyle that is {lifestyle}')\n"
   ]
  },
  {
   "cell_type": "markdown",
   "metadata": {},
   "source": [
    "### After abstracting into a class"
   ]
  },
  {
   "cell_type": "code",
   "execution_count": null,
   "metadata": {},
   "outputs": [],
   "source": [
    "class Person:\n",
    "    def __init__(self, name, age, eyes, lifestyle):\n",
    "        self.name = name\n",
    "        self.age = age\n",
    "        self.eyes = eyes\n",
    "        self.lifestyle = lifestyle\n",
    "\n",
    "    def describe(self):\n",
    "        print(f'{self.name} is {self.age}, has {self.eyes} eyes and lives a lifestyle that is {self.lifestyle}')\n",
    "    \n",
    "harry = Person(name='Harry', age=24, eyes='blue', lifestyle='extreme')\n",
    "harry.describe()\n"
   ]
  },
  {
   "cell_type": "markdown",
   "metadata": {},
   "source": [
    "## Layers of abstraction"
   ]
  },
  {
   "cell_type": "code",
   "execution_count": null,
   "metadata": {},
   "outputs": [],
   "source": [
    "def preprocess_data(): # TOO MUCH ABSTRACTION ALL IN ONE GO\n",
    "    # several lines requied to load in data\n",
    "    # several lines requied to remove duplicates\n",
    "    # several lines requied to correct column names\n",
    "    # several lines to correct data types\n",
    "    return data\n",
    "\n",
    "preprocess_data()"
   ]
  },
  {
   "cell_type": "code",
   "execution_count": null,
   "metadata": {},
   "outputs": [],
   "source": [
    "def load_data():    \n",
    "    # several lines requied to load in data\n",
    "    return data\n",
    "\n",
    "def remove_duplicates(data):\n",
    "    # several lines requied to remove duplicates\n",
    "    return data\n",
    "\n",
    "def correct_column_names(data):\n",
    "    # several lines requied to correct column names\n",
    "    return data\n",
    "\n",
    "def correct_data_types(data):\n",
    "    # several lines to correct data types\n",
    "    return data\n",
    "\n",
    "def preprocess_data():  # TOO MUCH ABSTRACTION ALL IN ONE GO\n",
    "    data = load_data()\n",
    "    data = correct_column_names(data)\n",
    "    data = correct_data_types(data)\n",
    "    return data\n",
    "\n",
    "preprocess_data()"
   ]
  }
 ],
 "metadata": {
  "kernelspec": {
   "display_name": "Python 3.9.0 64-bit",
   "language": "python",
   "name": "python3"
  },
  "language_info": {
   "codemirror_mode": {
    "name": "ipython",
    "version": 3
   },
   "file_extension": ".py",
   "mimetype": "text/x-python",
   "name": "python",
   "nbconvert_exporter": "python",
   "pygments_lexer": "ipython3",
   "version": "3.9.0"
  },
  "orig_nbformat": 4,
  "vscode": {
   "interpreter": {
    "hash": "aee8b7b246df8f9039afb4144a1f6fd8d2ca17a180786b69acc140d282b71a49"
   }
  }
 },
 "nbformat": 4,
 "nbformat_minor": 2
}
