{
 "cells": [
  {
   "attachments": {},
   "cell_type": "markdown",
   "metadata": {},
   "source": [
    "# Principles of OOP - Abstraction"
   ]
  },
  {
   "attachments": {},
   "cell_type": "markdown",
   "metadata": {},
   "source": [
    "## What does the programming principle abstraction facilitate? Select all that apply.\n",
    "\n",
    "- Abstraction hides the internal details of the code to show only the needed functionality ***\n",
    "- Abstraction allows you to implement methods which can be called from outside of a class\n",
    "- Abstraction allows you to implement private methods\n",
    "- Abstraction allows users of your code to understand how it works without needing to know the specific complex details of the code ***\n",
    "- Abstraction allows you to inherit from classes multiple times"
   ]
  },
  {
   "attachments": {},
   "cell_type": "markdown",
   "metadata": {},
   "source": [
    "## Given the following code how was abstraction used? Select all that apply.\n",
    "\n",
    "```python\n",
    "\n",
    "class TextProcessor:\n",
    "\n",
    "    def __init__(self, filepath):\n",
    "        self.__validate_ext(filepath)\n",
    "        self.filepath = filepath\n",
    "\n",
    "    def __validate_ext(self, filepath):\n",
    "        if filepath[-4:] == '.txt':\n",
    "            print(\"Text file loading\")\n",
    "            return\n",
    "        else: \n",
    "            raise TypeError(\"Please make sure that the file is of type .txt\")\n",
    "        \n",
    "    def __open_file(self, filepath):\n",
    "        with open(filepath, 'r') as infile:\n",
    "            text_file = infile.readlines()\n",
    "            infile.close()\n",
    "            return text_file\n",
    "    \n",
    "    def __print_lines(self, file):\n",
    "        for line in file:\n",
    "            print(line, end='')\n",
    "\n",
    "    def process_text_file(self):\n",
    "        text_file = self.__open_file(self.filepath)\n",
    "        print(\"Starting to print text file\")\n",
    "        self.__print_lines(text_file)\n",
    "\n",
    "new_processor = TextProcessor(\"newfile.txt\")\n",
    "new_processor.process_text_file()\n",
    "\n",
    "```\n",
    "\n",
    "- Abstraction was used to abstract away all the implementation details of the text processor. Leaving the user with a simple method to perform text processing `process_text_file`. ***\n",
    "- The implementation of how validation of the file type is performed is hidden from the user ***\n",
    "- Abstractions was used to open the file with a context manager using the `with` Python keyword\n",
    "- Abstraction was used to hide the text file from the user so they don't know what it contains\n",
    "- Abstraction was by putting underscore in front of the method names like `__print_lines` for instance\n"
   ]
  }
 ],
 "metadata": {
  "kernelspec": {
   "display_name": "base",
   "language": "python",
   "name": "python3"
  },
  "language_info": {
   "name": "python",
   "version": "3.10.9"
  },
  "orig_nbformat": 4,
  "vscode": {
   "interpreter": {
    "hash": "a2592652612463181e69ac003232387e3e9a99279aa6b168e76f5df16d5110f4"
   }
  }
 },
 "nbformat": 4,
 "nbformat_minor": 2
}
