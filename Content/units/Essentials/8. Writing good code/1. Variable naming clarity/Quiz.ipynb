{
 "cells": [
  {
   "attachments": {},
   "cell_type": "markdown",
   "metadata": {},
   "source": [
    "# Variable naming clarity"
   ]
  },
  {
   "attachments": {},
   "cell_type": "markdown",
   "metadata": {},
   "source": [
    "## Which of the following variable names is the most clear and descriptive in Python?\n",
    "\n",
    "- `x`\n",
    "- `num`\n",
    "- `number_of_students_in_class` ***\n",
    "- `n`"
   ]
  },
  {
   "attachments": {},
   "cell_type": "markdown",
   "metadata": {},
   "source": [
    "## In Python, it is recommended to use snake_case for variable names. Which of the following variable names violate this convention?\n",
    "\n",
    "- `first_name`\n",
    "- `LAST_NAME`\n",
    "- `phoneNumber` ***\n",
    "- `order_id`"
   ]
  },
  {
   "attachments": {},
   "cell_type": "markdown",
   "metadata": {},
   "source": [
    "## Which of the following code snippets demonstrates the best naming clarity for a variable representing the average temperature in Celsius?\n",
    "\n",
    "- `avg_temp = 25.3`\n",
    "- `avg = 25.3`\n",
    "- `avgC = 25.3`\n",
    "- `average_temp_celsius = 25.3` ***"
   ]
  },
  {
   "attachments": {},
   "cell_type": "markdown",
   "metadata": {},
   "source": [
    "## Which of the following statements is true about the variable naming clarity in these code snippets?\n",
    "\n",
    "image: ![](quiz_images/example_1.png)\n",
    "\n",
    "- Both snippets have clear and descriptive variable names\n",
    "- Snippet A has clear and descriptive variable names, but Snippet B could be improved\n",
    "- Snippet B has clear and descriptive variable names, but Snippet A could be improved ***\n",
    "- Both snippets could be improved by using more descriptive variable names"
   ]
  }
 ],
 "metadata": {
  "language_info": {
   "name": "python"
  },
  "orig_nbformat": 4
 },
 "nbformat": 4,
 "nbformat_minor": 2
}
