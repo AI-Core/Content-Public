{
 "cells": [
  {
   "attachments": {},
   "cell_type": "markdown",
   "metadata": {},
   "source": [
    "# Code Consistency"
   ]
  },
  {
   "attachments": {},
   "cell_type": "markdown",
   "metadata": {},
   "source": [
    "## Which of the following best defines code consistency in programming? Select all that apply\n",
    "\n",
    "- Writing code that is easy to read and understand ***\n",
    "- Using consistent naming conventions, formatting, and commenting practices ***\n",
    "- Writing the same block of code multiple times\n",
    "- Writing code that always produces the same output\n",
    "- Writing code that is bug-free and error-free"
   ]
  },
  {
   "attachments": {},
   "cell_type": "markdown",
   "metadata": {},
   "source": [
    "## Which of the following code snippets demonstrates good code consistency practices in Python?\n",
    "\n",
    "- This code\n",
    "```python\n",
    "\n",
    "my_list = [1, 2, 3, 4, 5]\n",
    "for item in my_list:\n",
    "print(item)\n",
    "\n",
    "```\n",
    "\n",
    "- This code\n",
    "```python\n",
    "\n",
    "my_list = [1, 2, 3, 4, 5]\n",
    "for i in range(len(my_list)):\n",
    "    print(my_list[i])\n",
    "\n",
    "\n",
    "```\n",
    "\n",
    "-  This code ***\n",
    "```python\n",
    "\n",
    "my_list = [1, 2, 3, 4, 5]\n",
    "for item in my_list:\n",
    "    print(item) \n",
    "```\n",
    "\n"
   ]
  },
  {
   "attachments": {},
   "cell_type": "markdown",
   "metadata": {},
   "source": [
    "## Which of the following code snippets demonstrates good code consistency practices in Python?\n",
    "\n",
    "- This code\n",
    "``` python \n",
    "def findSum(lst):\n",
    "    sum = 0\n",
    "    for i in lst:\n",
    "        sum = sum + i\n",
    "    return sum\n",
    "```\n",
    "\n",
    "- This code ***\n",
    "``` python\n",
    "def find_sum(input_list):\n",
    "    sum = 0\n",
    "    for item in input_list:\n",
    "        sum += item\n",
    "    return sum \n",
    "```\n",
    "\n",
    "- This code\n",
    "``` python\n",
    "def FIND_SUM(LIST):\n",
    "    Sum = 0\n",
    "    for ITEM in LIST:\n",
    "        Sum = Sum + ITEM\n",
    "    return Sum\n",
    "```"
   ]
  }
 ],
 "metadata": {
  "language_info": {
   "name": "python"
  },
  "orig_nbformat": 4
 },
 "nbformat": 4,
 "nbformat_minor": 2
}
