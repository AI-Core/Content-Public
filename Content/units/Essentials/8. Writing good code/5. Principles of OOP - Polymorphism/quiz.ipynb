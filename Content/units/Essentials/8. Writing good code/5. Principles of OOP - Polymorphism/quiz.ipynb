{
 "cells": [
  {
   "attachments": {},
   "cell_type": "markdown",
   "metadata": {},
   "source": [
    "# Polymorphism"
   ]
  },
  {
   "attachments": {},
   "cell_type": "markdown",
   "metadata": {},
   "source": [
    "## What is meant by the term \"duck typing\"?\n",
    "\n",
    "- Duck typing is the principle that you don't have to specify the requirements that your objects need to meet. Python will try and perform all actions on an object before throwing an error. ***\n",
    "- Duck typing means that you can change a `string` into a `float`\n",
    "- Duck typing means presenting your method names in lowercase with underscores: `this_is_a_method`\n",
    "- Duck typing means to add docstrings to all your Python classes"
   ]
  },
  {
   "attachments": {},
   "cell_type": "markdown",
   "metadata": {},
   "source": [
    "## What does the term polymorphism mean?\n",
    "\n",
    "- Polymorphism is when the same method has different behaviour in different contexts ***\n",
    "- Polymorphism means that your methods are not accessible outside your class\n",
    "- Polymorphism means that you inherit from another class but don't change any of the methods\n",
    "- Polymorphism means to test your classes to check there is no methods in common\n",
    "- Polymorphism means that you are inheriting from more than one class"
   ]
  },
  {
   "attachments": {},
   "cell_type": "markdown",
   "metadata": {},
   "source": [
    "## Which of the methods for the classes below have implemented polymorphism?\n",
    "\n",
    "```python\n",
    "class Shape:\n",
    "\n",
    "    def __init__(self, type):\n",
    "        self.type = type\n",
    "\n",
    "    def area(self):\n",
    "        pass\n",
    "\n",
    "    def display_type(self):\n",
    "        print(f\"I am a 2D shape\")\n",
    "\n",
    "class Cube(Shape):\n",
    "\n",
    "    def __init__(self, length):\n",
    "        super().__init__(\"Square\")\n",
    "        self.length = length\n",
    "\n",
    "    def area(self):\n",
    "        return 6 * self.length()**2\n",
    "\n",
    "    def display_type(self):\n",
    "        print(f\"I am a 3D shape\")\n",
    "\n",
    "    def volume(self):\n",
    "        return self.length**3\n",
    "\n",
    "class Rectangle(Shape):\n",
    "\n",
    "    def __init__(self, length, width):\n",
    "        super().__init__(\"Rectangle\")\n",
    "\n",
    "    def area(self):\n",
    "        return length * width\n",
    "\n",
    "```\n",
    "\n",
    "- The Cube has implemented polymorphism by changing the `display_type` method to print that it is a 3D shape ***\n",
    "- The Rectangle has implemented polymorphism to define the area differently to the Cube ***\n",
    "- The Cube has implemented polymorphism by changing the `volume` method to return `self.length**3`\n",
    "- The Rectangle has implemented polymorphism to print out `I am a 2D shape`"
   ]
  }
 ],
 "metadata": {
  "kernelspec": {
   "display_name": "base",
   "language": "python",
   "name": "python3"
  },
  "language_info": {
   "name": "python",
   "version": "3.10.9"
  },
  "orig_nbformat": 4,
  "vscode": {
   "interpreter": {
    "hash": "a2592652612463181e69ac003232387e3e9a99279aa6b168e76f5df16d5110f4"
   }
  }
 },
 "nbformat": 4,
 "nbformat_minor": 2
}
