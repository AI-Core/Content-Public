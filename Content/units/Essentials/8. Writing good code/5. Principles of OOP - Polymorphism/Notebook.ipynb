{
 "cells": [
  {
   "cell_type": "markdown",
   "metadata": {},
   "source": [
    "# Polymorphism"
   ]
  },
  {
   "cell_type": "markdown",
   "metadata": {},
   "source": [
    "> ## If it walks like a duck and it quacks like a duck, then it must be a duck"
   ]
  },
  {
   "cell_type": "markdown",
   "metadata": {},
   "source": [
    "This is the principle of _duck typing_, and in essence means that you don't have to explicitly specify the requirements that your objects have to meet, Python will try everything before raising an error. This is usually applied to dynamically typed languages, like Python."
   ]
  },
  {
   "cell_type": "code",
   "execution_count": null,
   "metadata": {},
   "outputs": [],
   "source": [
    "class DuckTest:\n",
    "    \n",
    "    quack = 2  \n",
    "    def quake(self):\n",
    "        print('Should I quack?')\n",
    "\n",
    "      \n",
    "\n",
    "duck = DuckTest()\n",
    "# We attempt to call the method quack()\n",
    "duck.quack\n",
    "# It didn't find it, so the next thing it will look for is an attribute\n",
    "# As we can see, it made the attempt!"
   ]
  },
  {
   "cell_type": "markdown",
   "metadata": {},
   "source": [
    "Thanks to this duck typing, Python will achieve a degree of polymorphism, which is a methodology for providing specialized behaviour using a consistent method name.\n",
    "\n",
    "> <font size=+1> Polymorphism is the procedure by which the same method presents different behaviour </font>"
   ]
  },
  {
   "cell_type": "markdown",
   "metadata": {},
   "source": [
    "The classical example is the Animal class that speaks:"
   ]
  },
  {
   "cell_type": "code",
   "execution_count": null,
   "metadata": {},
   "outputs": [],
   "source": [
    "class Animal:\n",
    "    def __init__(self, name: str):\n",
    "        self.name = name\n",
    "    def speak(self):\n",
    "        print(f'My name is {self.name}')\n",
    "\n",
    "class Dog(Animal):\n",
    "    def speak(self):\n",
    "        print('Woof!')\n",
    "\n",
    "class Cat(Animal):\n",
    "    def speak(self):\n",
    "        print('Meow')\n",
    "\n",
    "jake = Dog('Jake')\n",
    "felix = Cat('Felix')\n",
    "jake.speak()\n",
    "felix.speak()\n"
   ]
  },
  {
   "cell_type": "markdown",
   "metadata": {},
   "source": [
    "This is a basic type of polymorphism: Cat and Dog inherit from Animal, and they override the `.speak()` method. So you have two objects with the same method name, but the method is doing something different depending on the instance that called it.\n",
    "\n",
    "Thus, polymorphism is achieved by inheritance. However, inheritance can present problems if you are not careful! For example, take a look at the next figure:\n",
    "\n",
    "<p align=center><img src=images/Inheritance.png width=500></p>\n",
    "\n",
    "In this case, the class Dog inherits from Canine, and Canine in turn inherits from Quadruped, which in turn inherits from Mammal. That's sounds good right? A dog is a canine, a quadruped, and a mammal, but wait... According to this, all quadrupeds are mammals, but of course, that's not always true! We need to find an alternative to this rigid structure.\n",
    "\n",
    "Before you scroll down, try to think of a solution (you don't have to be very technical)"
   ]
  },
  {
   "cell_type": "markdown",
   "metadata": {},
   "source": [
    "## Using Composition"
   ]
  },
  {
   "cell_type": "markdown",
   "metadata": {},
   "source": [
    "Here is the solution: instead of creating a rigid inheritance structure, we can leverage Python's duck typing and multiple inheritance. As we saw, Python allows multiple inheritance, and it is possible to create a class that inherits from multiple classes.\n",
    "\n",
    "Following this principle, composition is a more flexible alternative to inheritance. It is possible to create a class that contains characteristics from many parent classes, so we can use that feature to ONLY inherit what we want.\n",
    "\n",
    "_Consider composition as pieces of a Lego set. We can combine these pieces to create a complex object. But those pieces can also be used to create a different object._\n",
    "\n",
    "<p align=center><img src=images/Composition.png width=500, modified=15541451></p>\n",
    "\n",
    "> ## Composition is the converse of decomposition: pieces with different functionalities are combined to create a whole.\n",
    "\n",
    "Many languages implement composition through interfaces, which are formal definitions of methods and data that a particular class MUST implement. Python does not have interfaces, but by using multiple inheritance, we can build a similar mechanism, which in Python is referred to as a mixin.\n",
    "\n",
    " A mixin is a class that provides methods to other classes but are not considered a base class. For example, a dog can speak and roll_over, and eventually you will want to create a class that can speak and roll_over, so you can create classes to be inherited to add the speak and rolling over abilities for other objects."
   ]
  },
  {
   "cell_type": "code",
   "execution_count": null,
   "metadata": {},
   "outputs": [],
   "source": [
    "class SpeakMixin:\n",
    "    def speak(self):\n",
    "        name = self.__class__.__name__.lower()\n",
    "        print(f'The {name} says: \"hello... I mean... woof!\"')\n",
    "\n",
    "\n",
    "class RollOverMixin:\n",
    "    def roll_over(self):\n",
    "        print('Look at me, I am rolling!')\n",
    "\n",
    "\n",
    "class Dog(RollOverMixin, SpeakMixin):\n",
    "    pass\n",
    "\n",
    "class Cat(SpeakMixin):\n",
    "    pass\n",
    "\n",
    "jake = Dog()\n",
    "jake.speak()\n",
    "jake.roll_over()\n"
   ]
  }
 ],
 "metadata": {
  "kernelspec": {
   "display_name": "Python 3.9.12 ('base')",
   "language": "python",
   "name": "python3"
  },
  "language_info": {
   "name": "python",
   "version": "3.9.12"
  },
  "vscode": {
   "interpreter": {
    "hash": "a2592652612463181e69ac003232387e3e9a99279aa6b168e76f5df16d5110f4"
   }
  }
 },
 "nbformat": 4,
 "nbformat_minor": 2
}
