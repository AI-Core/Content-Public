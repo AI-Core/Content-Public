{
 "cells": [
  {
   "attachments": {},
   "cell_type": "markdown",
   "metadata": {},
   "source": [
    "# Checks for code quality "
   ]
  },
  {
   "attachments": {},
   "cell_type": "markdown",
   "metadata": {},
   "source": [
    "# Select all that's true about the quality of the following code:\n",
    "\n",
    "```python\n",
    "\n",
    "def Load_File(x):\n",
    "    y = open(x, \"r\")\n",
    "    return y\n",
    "```\n",
    "\n",
    "- The word `self` should be the first argument to this function \n",
    "- The case of the function name is not correct. It should be in `snake_case` ***\n",
    "- The variables are poorly named `x` and `y` are not good variable names in this case ***\n",
    "- The file shouldn't be returned from the function\n",
    "- The function should have an asterisk at the end\n",
    "- A context manager should have been used to avoid forgetting to close the file ***"
   ]
  },
  {
   "attachments": {},
   "cell_type": "markdown",
   "metadata": {},
   "source": [
    "# Select all that's true about the quality of the following code:\n",
    "\n",
    "```python\n",
    "\n",
    "class square:\n",
    "\n",
    "    def __init__(self, y):\n",
    "        self.y = y\n",
    "\n",
    "    def shapeArea(self):\n",
    "        return self.y**\" \n",
    "\n",
    "    def print_shape_info(self):\n",
    "        print(\"I am a 2D shape with equal length and width\")\n",
    "\n",
    "```\n",
    "\n",
    "- `y` is a poor variable name ***\n",
    "- The naming of methods is inconsistent, with camelCase and snake_case being used ***\n",
    "- Class names should always be capitalised to indicate that they are a class ***\n",
    "- The print method can't be called from outside of the class\n",
    "- A constructor shouldn't be used here - there's no need for it"
   ]
  },
  {
   "attachments": {},
   "cell_type": "markdown",
   "metadata": {},
   "source": [
    "# How might abstraction reduce the quality of your code? Select all that apply.\n",
    "\n",
    "- You abstract away too much functionality of your class and lose access to useful methods ***\n",
    "- You abstract awat too much and your class becomes hard to understand and use ***\n",
    "- You forget to add a constructor to your class which makes it hard to use\n",
    "- You don't abstract enough away and users think that they are supposed to understand and use methods that they shouldn't ***\n",
    "- You don't abstract enough away and users find it hard to understand how the code works and what it does ***\n",
    "- You abstract all functions into a class, introducing a more advanced Python object\n"
   ]
  },
  {
   "attachments": {},
   "cell_type": "markdown",
   "metadata": {},
   "source": [
    "# What is poor about the way the following class was implemented? Select all that apply.\n",
    "\n",
    "```python\n",
    "\n",
    "class TextLoader:\n",
    "\n",
    "    def __init__(self, filepath):\n",
    "        self.filepath = filepath\n",
    "\n",
    "    def load_file1(self, filepath):\n",
    "        with open(filepath, \"r\") as infile:\n",
    "            print(infile.readlines())\n",
    "        return\n",
    "\n",
    "    def load_file2(self, filepath):\n",
    "        with open(filepath, \"r\") as infile:\n",
    "            print(infile.readlines())\n",
    "        return\n",
    "```\n",
    "\n",
    "- The two methods in the class essentially have the same purpose which violates the DRY principle ***\n",
    "- The methods are poorly named `load_file1/2` are not very descriptive and are an indication these methods could be the same method ***\n",
    "- The method names are using the wrong case they should be in **PascalCase**\n",
    "- The class has the wrong case it should be in **snake_case**\n",
    "- There is nothing wrong with the quality of the class"
   ]
  },
  {
   "attachments": {},
   "cell_type": "markdown",
   "metadata": {},
   "source": [
    "## What is wrong with the quality of the following code? Select all that apply.\n",
    "\n",
    "```python\n",
    "\n",
    "class ReceiptBuilder:\n",
    "\n",
    "    def __init__(self, receipt_items: list):\n",
    "        self.receipt_items = receipt_items\n",
    "\n",
    "    def sum_receipt(self):\n",
    "        self.total = 0\n",
    "        for self.x in self.receipt_items:\n",
    "            self.total += self.x[0]\n",
    "\n",
    "    def print_receipt(self):\n",
    "        for self.y in self.receipt_items:\n",
    "            print(f\"The price of {self.y[1]} item is {self.y[0]}\")\n",
    "        print(f\"The total_value of the recipe is {self.total}\")\n",
    "```\n",
    "\n",
    "- Everything in the class has been defined as an attribute which makes the code less readable and more error prone ***\n",
    "- By defining everything as attributes the code will break. If `print_receipt` is run before `sum_receipt` the it will fail since `print_receipt` relies on `self.total` in `sum_receipt` ***\n",
    "- Poor variable naming in some cases `self.y` and `self.x` are poor names for variables ***\n",
    "- `receipt_items` is a poor naming choice for the receipt list\n",
    "- No returns in the methods every method should always have a return"
   ]
  },
  {
   "attachments": {},
   "cell_type": "markdown",
   "metadata": {},
   "source": [
    "## Select valid rules to follow to improve your code quality. Select all that apply.\n",
    "\n",
    "- Use the PEP8 Python styling guide which gives rules to follow when writing Python code ***\n",
    "- Use `snake_case` for method/function names and `PascalCase` for classes ***\n",
    "- Use `self` in front of every variable making it a attribute so your class can easily access all variables \n",
    "- Profile your code, time your functions/methods to see if there's any bottlenecks in your code ***\n",
    "- Design your methods to perform multiple different behaviours so everything can be run in a few methods"
   ]
  }
 ],
 "metadata": {
  "kernelspec": {
   "display_name": "base",
   "language": "python",
   "name": "python3"
  },
  "language_info": {
   "name": "python",
   "version": "3.10.9"
  },
  "orig_nbformat": 4,
  "vscode": {
   "interpreter": {
    "hash": "a2592652612463181e69ac003232387e3e9a99279aa6b168e76f5df16d5110f4"
   }
  }
 },
 "nbformat": 4,
 "nbformat_minor": 2
}
