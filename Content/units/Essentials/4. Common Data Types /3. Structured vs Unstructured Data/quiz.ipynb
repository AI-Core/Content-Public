{
 "cells": [
  {
   "attachments": {},
   "cell_type": "markdown",
   "metadata": {},
   "source": [
    "# Structured vs. Unstructured Data"
   ]
  },
  {
   "attachments": {},
   "cell_type": "markdown",
   "metadata": {},
   "source": [
    "## Which of these is **NOT** an example of **unstructured** data?\n",
    "\n",
    "- Image data \n",
    "- Audio data \n",
    "- Tabular data ***\n",
    "- Text data \n",
    "- Video data "
   ]
  },
  {
   "attachments": {},
   "cell_type": "markdown",
   "metadata": {},
   "source": [
    "## Which of the following is true about **structured** data?\n",
    "\n",
    "- You always know what each data point represents ***\n",
    "- Each data point can have a different number of columns\n",
    "- Image data can be structured data, provided each image has the same number of pixels\n",
    "- Audio data is an example of structured data, provided it has a file header\n",
    "- Text data is usually structured data"
   ]
  },
  {
   "attachments": {},
   "cell_type": "markdown",
   "metadata": {},
   "source": [
    "## True or False: A `.csv` file is **NOT** a type of structured data.\n",
    "\n",
    "- True\n",
    "- False ***"
   ]
  },
  {
   "attachments": {},
   "cell_type": "markdown",
   "metadata": {},
   "source": [
    "## True or False: An image file is a type of structured data, because it contains rows and columns of pixels.\n",
    "\n",
    "- True\n",
    "- False ***"
   ]
  },
  {
   "attachments": {},
   "cell_type": "markdown",
   "metadata": {},
   "source": [
    "## Data where the columns contain the same information for each row or record, is a type of:\n",
    "\n",
    "- Structured data ***\n",
    "- Unstructured data"
   ]
  },
  {
   "cell_type": "markdown",
   "metadata": {},
   "source": []
  }
 ],
 "metadata": {
  "language_info": {
   "name": "python"
  },
  "orig_nbformat": 4
 },
 "nbformat": 4,
 "nbformat_minor": 2
}
