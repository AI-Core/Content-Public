{
 "cells": [
  {
   "attachments": {},
   "cell_type": "markdown",
   "metadata": {},
   "source": [
    "# Image Data"
   ]
  },
  {
   "attachments": {},
   "cell_type": "markdown",
   "metadata": {},
   "source": [
    "## RGBA images are an example of which array type?\n",
    "\n",
    "- Scalar \n",
    "- Vector \n",
    "- Tensor ***\n",
    "- 2D Matrix \n",
    "- Tuple "
   ]
  },
  {
   "attachments": {},
   "cell_type": "markdown",
   "metadata": {},
   "source": [
    "## The numeric values of each pixel in a **greyscale** image correspond to which property?\n",
    "\n",
    "\n",
    "- Size \n",
    "- Colour \n",
    "- Channel \n",
    "- Intensity ***\n",
    "- Transparency "
   ]
  },
  {
   "attachments": {},
   "cell_type": "markdown",
   "metadata": {},
   "source": [
    "## Which of the following is **NOT** an image format?\n",
    "\n",
    "- RGB \n",
    "- Hexadecimal \n",
    "- Greyscale \n",
    "- CYMK \n",
    "- PCM ***"
   ]
  },
  {
   "attachments": {},
   "cell_type": "markdown",
   "metadata": {},
   "source": [
    "## The **resolution** of an image is determined by:\n",
    "\n",
    "- The size of each pixel \n",
    "- The number of pixels in each dimension ***\n",
    "- The number of possible values a pixel can take \n",
    "- The number of channels in an image \n"
   ]
  },
  {
   "attachments": {},
   "cell_type": "markdown",
   "metadata": {},
   "source": [
    "## In an RGB image, a pixel value of `[0 0 255]` represents:\n",
    "\n",
    "- Black \n",
    "- White \n",
    "- Yellow \n",
    "- Magenta \n",
    "- Blue ***"
   ]
  },
  {
   "attachments": {},
   "cell_type": "markdown",
   "metadata": {},
   "source": [
    "## In a HEX image, a value of `#00FF00` represents:\n",
    "\n",
    "- White \n",
    "- Green ***\n",
    "- Magenta \n",
    "- Yellow \n",
    "- Blue "
   ]
  },
  {
   "attachments": {},
   "cell_type": "markdown",
   "metadata": {},
   "source": [
    "## Why is it useful to perform **base-64** encoding of image data?\n",
    "\n",
    "- To allow for higher resolution than can be achieved with binary images\n",
    "- To represent a larger number of colours\n",
    "- To make them compatible with text-based applications such as email ***\n",
    "- Because they are more compressed, and take up less room on disk \n",
    "- To make them compatible with 64-bit operating systems \n"
   ]
  },
  {
   "attachments": {},
   "cell_type": "markdown",
   "metadata": {},
   "source": [
    "## **Base-64** encoded images are usually stored as:\n",
    "\n",
    "- `Vectors `\n",
    "- `Matrices `\n",
    "- `Tensors `\n",
    "- `Bytes `\n",
    "- `Strings` ***\n"
   ]
  },
  {
   "attachments": {},
   "cell_type": "markdown",
   "metadata": {},
   "source": [
    "\n",
    "## If I were to read an image file with Python's `open()` function, using the read binary (`rb`) parameter, what format would the data be read in as?\n",
    "\n",
    "\n",
    "- `Binary` \n",
    "- `Hexadecimal` ***\n",
    "- `Machine code`\n",
    "- `Logits`\n",
    "- `Bytecode`\n"
   ]
  }
 ],
 "metadata": {
  "kernelspec": {
   "display_name": "huggingface1",
   "language": "python",
   "name": "python3"
  },
  "language_info": {
   "codemirror_mode": {
    "name": "ipython",
    "version": 3
   },
   "file_extension": ".py",
   "mimetype": "text/x-python",
   "name": "python",
   "nbconvert_exporter": "python",
   "pygments_lexer": "ipython3",
   "version": "3.10.8"
  },
  "orig_nbformat": 4
 },
 "nbformat": 4,
 "nbformat_minor": 2
}
