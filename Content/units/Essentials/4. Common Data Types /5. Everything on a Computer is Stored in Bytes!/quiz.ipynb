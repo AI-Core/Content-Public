{
 "cells": [
  {
   "attachments": {},
   "cell_type": "markdown",
   "metadata": {},
   "source": [
    "# Everything on a Computer is Stored in Bytes"
   ]
  },
  {
   "attachments": {},
   "cell_type": "markdown",
   "metadata": {},
   "source": [
    "## How many bits are there in one byte?\n",
    "\n",
    "- one\n",
    "- two\n",
    "- four\n",
    "- seven\n",
    "- eight ***\n",
    "- sixteen"
   ]
  },
  {
   "attachments": {},
   "cell_type": "markdown",
   "metadata": {},
   "source": [
    "## What happens if you try to open an image file with Python's built-in `open()` method with the default settings?\n",
    "\n",
    "- The image is displayed onscreen\n",
    "- The image is read in as a series of 1s and 0s\n",
    "- The image is read in as a stream of incomprehensible characters\n",
    "- The Python interpreter throws an error ***"
   ]
  },
  {
   "attachments": {},
   "cell_type": "markdown",
   "metadata": {},
   "source": [
    "## What is the name of the default codec used in Python's `open()` method, which is used for reading text data?\n",
    "\n",
    "- `UTF-8` ***\n",
    "- `UF-10`\n",
    "- `Extended Unicode`\n",
    "- `Bytecode`"
   ]
  }
 ],
 "metadata": {
  "language_info": {
   "name": "python"
  },
  "orig_nbformat": 4
 },
 "nbformat": 4,
 "nbformat_minor": 2
}
