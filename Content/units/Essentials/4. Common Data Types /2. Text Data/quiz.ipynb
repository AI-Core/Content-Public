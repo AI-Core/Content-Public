{
 "cells": [
  {
   "attachments": {},
   "cell_type": "markdown",
   "metadata": {},
   "source": [
    "# Text Data"
   ]
  },
  {
   "attachments": {},
   "cell_type": "markdown",
   "metadata": {},
   "source": [
    "## True or False: The term 'text data' only refers to raw text data stored in `.txt` files.\n",
    "\n",
    "- True\n",
    "- False ***"
   ]
  },
  {
   "attachments": {},
   "cell_type": "markdown",
   "metadata": {},
   "source": [
    "## Which of the following can contain text data, excluding headers or other metadata?\n",
    "\n",
    "- `.pdf` files ***\n",
    "- `.docx` files ***\n",
    "- `.txt` files ***\n",
    "- `.jpeg` files\n",
    "- `.wav` files"
   ]
  },
  {
   "attachments": {},
   "cell_type": "markdown",
   "metadata": {},
   "source": [
    "## Text data is a type of:\n",
    "\n",
    "- Structured data\n",
    "- Unstructured data ***"
   ]
  }
 ],
 "metadata": {
  "language_info": {
   "name": "python"
  },
  "orig_nbformat": 4
 },
 "nbformat": 4,
 "nbformat_minor": 2
}
