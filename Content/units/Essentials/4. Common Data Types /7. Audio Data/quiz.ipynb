{
 "cells": [
  {
   "attachments": {},
   "cell_type": "markdown",
   "metadata": {},
   "source": [
    "# Audio Data"
   ]
  },
  {
   "attachments": {},
   "cell_type": "markdown",
   "metadata": {},
   "source": [
    "## Which of the following is true of audio data?\n",
    "\n",
    "- Each frequency band is encoded in a separate vector\n",
    "- The numerical value of each sample in the audio file represents the frequency\n",
    "- The numerical value of each sample in an audio file represents the amplitude ***\n",
    "- Higher sampling rates allow finer gradations of amplitude to be expressed\n",
    "- Higher sampling resolution allows a wider range of frequencies to be expressed"
   ]
  },
  {
   "attachments": {},
   "cell_type": "markdown",
   "metadata": {},
   "source": [
    "## Which of the following components of a sound card is involved in encoding a real world audio signal into a digital representation?\n",
    "\n",
    "- PCI bus \n",
    "- ADC ***\n",
    "- DAC \n",
    "- DSP chip \n",
    "- ASIO driver \n",
    "\n"
   ]
  },
  {
   "attachments": {},
   "cell_type": "markdown",
   "metadata": {},
   "source": [
    "## A spectrogram is a visualisation of:\n",
    "\n",
    "- Frequency against time ***\n",
    "- Amplitude against time \n",
    "- Frequency against amplitude\n",
    "- Frequency against power \n",
    "- The histogram of amplitude values in the signal "
   ]
  }
 ],
 "metadata": {
  "language_info": {
   "name": "python"
  },
  "orig_nbformat": 4
 },
 "nbformat": 4,
 "nbformat_minor": 2
}
