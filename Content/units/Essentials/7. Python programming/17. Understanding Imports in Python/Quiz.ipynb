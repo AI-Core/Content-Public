{
 "cells": [
  {
   "attachments": {},
   "cell_type": "markdown",
   "metadata": {},
   "source": [
    "# Understanding Imports in Python"
   ]
  },
  {
   "attachments": {},
   "cell_type": "markdown",
   "metadata": {},
   "source": [
    "## What is the purpose of using aliases in import statements?\n",
    "\n",
    "- To make import statements shorter and easier to type ***\n",
    "- To create circular imports\n",
    "- To import all modules in a package\n",
    "- To import functions from standard library modules"
   ]
  },
  {
   "attachments": {},
   "cell_type": "markdown",
   "metadata": {},
   "source": [
    "## True or False: A module in Python is a collection of files organized in directories.\n",
    "\n",
    "- True\n",
    "- False ***"
   ]
  },
  {
   "attachments": {},
   "cell_type": "markdown",
   "metadata": {},
   "source": [
    "## You have three Python modules, labelled A-C. Which of the following situations will **NOT** create a circular import error?\n",
    "\n",
    "- Attempting to import Module A into Module B, and Module B into Module C ***\n",
    "- Attempting to import Module A into Module B, and Module B into Module A\n",
    "- Attempting to import Modules C and B into Module A, and Module A into Module C \n",
    "- Attempting to import Module A into Module A\n"
   ]
  },
  {
   "attachments": {},
   "cell_type": "markdown",
   "metadata": {},
   "source": [
    "## In Python, when is the code within an `if __name__ == \"__main__\":` block executed?\n",
    "\n",
    "- Always\n",
    "- Only when the script is imported as a module\n",
    "- Only when the script is run directly ***\n",
    "- Only when there are circular imports"
   ]
  },
  {
   "attachments": {},
   "cell_type": "markdown",
   "metadata": {},
   "source": [
    "## If you are importing `module_1` into `script_1`, and they both contain a variable called `my_variable` :\n",
    "\n",
    "- The variable in `script_1` will be overwritten by the one from `module_1`\n",
    "- There will be no issue, as the imported variable will be accessed as `module_1.my_variable` ***\n",
    "- The variable in `module_1` will not be imported\n",
    "- The script will throw an `ImportError`"
   ]
  },
  {
   "attachments": {},
   "cell_type": "markdown",
   "metadata": {},
   "source": [
    "## True or False: If you just import one part of the module, the rest of the code in the module will still run, except for anything in the `if __name__ == \"__main__\":` statement.\n",
    "\n",
    "- True ***\n",
    "- False"
   ]
  },
  {
   "attachments": {},
   "cell_type": "markdown",
   "metadata": {},
   "source": [
    "## True or False: Attempting to import a Python module into itself will create a circular import condition.\n",
    "\n",
    "- True ***\n",
    "- False"
   ]
  },
  {
   "cell_type": "markdown",
   "metadata": {},
   "source": [
    "## What is the recommended order for organizing import statements?\n",
    "\n",
    "- Local imports, standard library imports, third-party library imports\n",
    "- Third-party library imports, standard library imports, local imports\n",
    "- Standard library imports, local imports, third-party library imports\n",
    "- Standard library imports, third-party library imports, local imports ***"
   ]
  },
  {
   "cell_type": "markdown",
   "metadata": {},
   "source": [
    "## Which type of imports are used for modules located within the same package or directory?\n",
    "\n",
    "- Absolute imports\n",
    "- Third-party imports\n",
    "- Local imports ***\n",
    "- Standard library imports"
   ]
  }
 ],
 "metadata": {
  "language_info": {
   "name": "python"
  },
  "orig_nbformat": 4
 },
 "nbformat": 4,
 "nbformat_minor": 2
}
