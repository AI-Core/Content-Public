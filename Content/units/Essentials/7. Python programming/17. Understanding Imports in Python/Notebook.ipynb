{
 "cells": [
  {
   "cell_type": "markdown",
   "metadata": {},
   "source": [
    "# Understanding Imports in Python"
   ]
  },
  {
   "cell_type": "markdown",
   "metadata": {},
   "source": [
    "## Importance of Modular Code and Code Reuse\n",
    "\n",
    "Before we look in detail at Python imports, let's first understand the importance of modular code and code reuse.\n",
    "\n",
    "- **Modular Code**: In programming, we often break down our code into smaller, self-contained pieces called *modules*. Think of these modules as individual tools in your programming toolbox. Each module serves a specific purpose or function within your code.\n",
    "\n",
    "- **Code Reuse**: Modular code promotes code reuse, much like how you use the same tool for different tasks in your toolbox. By creating reusable modules, you save time and effort because you don't have to write the same code over and over again.\n",
    "\n",
    "- **Maintainability**: Smaller, well-organized modules are easier to understand, update, and debug. Just as a tidy toolbox makes your work more efficient, clean and modular code is easier to work with.\n",
    "\n",
    "- **Collaboration**: Modular code also facilitates collaboration among developers. Multiple developers can work on different modules simultaneously, fostering teamwork and efficient development."
   ]
  },
  {
   "cell_type": "markdown",
   "metadata": {},
   "source": [
    "## Modules and Packages\n",
    "\n",
    "Now, let's look at the concept of importing modules and packages in Python:\n",
    "\n",
    "- In Python, a **module** is a single Python file containing code, such as functions or variables. Modules are like individual tools you pull from your toolbox.\n",
    "- A *package* is a collection of related modules organized in directories. Packages help you group related tools together in your toolbox. Just as you have separate compartments for different types of tools, packages provide a structured way to organize your code.\n",
    "\n",
    "Python comes with a rich set of built-in modules and packages that provide essential functionality for various tasks. These are part of the *Python Standard Library*, and you don't need to install them separately. They're like basic tools that come with your toolbox when you buy it.\n",
    "\n",
    "In addition to the Standard Library, Python has a community of developers who create and share their modules and packages. These are called *Third Party Libraries*. They are like additional tools that you can acquire and add to your toolbox as needed."
   ]
  },
  {
   "cell_type": "markdown",
   "metadata": {},
   "source": [
    "## Basic Imports\n",
    "\n",
    "In Python, we use the `import` statement to bring modules and their functionality into our code. The syntax is straightforward:\n",
    "\n",
    "```python\n",
    "import module_name\n",
    "```\n",
    "\n",
    "You replace `module_name` with the name of the module or package you want to import. This statement tells Python to make the code in that module available for use in your script.\n",
    "\n",
    "Python comes with a rich set of [built-in modules](https://docs.python.org/3/py-modindex.html) that provide a wide range of functionalities. Let's take a look at some examples:\n",
    "\n",
    "- To work with mathematical functions, you can import the `math` module:"
   ]
  },
  {
   "cell_type": "code",
   "execution_count": 1,
   "metadata": {},
   "outputs": [],
   "source": [
    "import math"
   ]
  },
  {
   "cell_type": "markdown",
   "metadata": {},
   "source": [
    "- To generate random numbers, you can import the `random` module:"
   ]
  },
  {
   "cell_type": "code",
   "execution_count": 2,
   "metadata": {},
   "outputs": [],
   "source": [
    "import random "
   ]
  },
  {
   "cell_type": "markdown",
   "metadata": {},
   "source": [
    "Now, you can use functions and variables from these modules in your code. For instance:"
   ]
  },
  {
   "cell_type": "code",
   "execution_count": 3,
   "metadata": {},
   "outputs": [
    {
     "name": "stdout",
     "output_type": "stream",
     "text": [
      "5.0\n",
      "79\n"
     ]
    }
   ],
   "source": [
    "# Using the math module\n",
    "print(math.sqrt(25))  # Prints the square root of 25\n",
    "\n",
    "# Using the random module\n",
    "print(random.randint(1, 100))  # Prints a random integer between 1 and 100"
   ]
  },
  {
   "cell_type": "markdown",
   "metadata": {},
   "source": [
    "### Importing Functions and Modules from Local Files\n",
    "\n",
    "In addition to built-in modules, you can import functions and modules from your own local files.\n",
    "\n",
    "#### Importing Functions, Variables from a Local Module\n",
    "\n",
    "Suppose you have a Python file named `my_module.py` with a function called `my_function` and a variable `variable1`. \n",
    "\n",
    "> To import specific functions or variables from a module, you can use the `from` keyword followed by the module name and the `import` keyword, followed by the name(s) of the specific item(s) you want to import. This is useful when you only need a few items from a larger module.\n",
    "\n",
    "```python\n",
    "# Importing a function,variable from a local module\n",
    "from my_module import my_function, variable1\n",
    "\n",
    "# Using the imported function\n",
    "my_function()\n",
    "\n",
    "# Using the imported variables\n",
    "print(variable1)\n",
    "```\n",
    "\n",
    "#### Importing an Entire Module from a Local File\n",
    "\n",
    "If you want to import an entire module from a local file, you can do it like this:\n",
    "\n",
    "```python \n",
    "# Importing an entire module from a local file\n",
    "import my_module\n",
    "\n",
    "# Using a function from the imported module\n",
    "my_module.my_function()\n",
    "```"
   ]
  },
  {
   "cell_type": "markdown",
   "metadata": {},
   "source": [
    "## Using Aliases\n",
    "\n",
    "In Python, you can make your code more concise and readable by using aliases. \n",
    "\n",
    "> An alias is an alternative name you assign to a module, function, or variable using the `as` keyword. Aliases are especially useful when dealing with modules with long and complex names.\n",
    "\n",
    "Imagine you have a module with a length name like `super_long_module_name`. Typing this name every time you want to use a function or variable from the module can become inconvenient. That's where aliases come in.\n",
    "\n",
    "With aliases, you can assign a shorter name to the module, making it easier to work with. The syntax looks like this:\n",
    "\n",
    "```python\n",
    "import super_long_module_name as short_alias\n",
    "```\n",
    "\n",
    "From that point on, you can use `short_alias` to access functions and variables from `super_long_module_name`. \n",
    "\n",
    "Let's see some practical examples of using aliases:"
   ]
  },
  {
   "cell_type": "code",
   "execution_count": 5,
   "metadata": {},
   "outputs": [
    {
     "name": "stdout",
     "output_type": "stream",
     "text": [
      "5.0\n"
     ]
    }
   ],
   "source": [
    "# Importing the math module with an alias\n",
    "import math as m\n",
    "\n",
    "# Using the alias to calculate the square root\n",
    "result = m.sqrt(25)\n",
    "print(result)"
   ]
  },
  {
   "cell_type": "code",
   "execution_count": 6,
   "metadata": {},
   "outputs": [
    {
     "name": "stdout",
     "output_type": "stream",
     "text": [
      "2023-10-08 10:31:55.789249\n"
     ]
    }
   ],
   "source": [
    "# Importing the datetime module with an alias\n",
    "import datetime as dt\n",
    "\n",
    "# Using the alias to get the current date and time\n",
    "current_time = dt.datetime.now()\n",
    "print(current_time)"
   ]
  },
  {
   "cell_type": "markdown",
   "metadata": {},
   "source": [
    "As you can see, using aliases can significantly improve code readability and reduce typing, especially when dealing with modules with lengthy names."
   ]
  },
  {
   "cell_type": "markdown",
   "metadata": {},
   "source": [
    "## Absolute Imports\n",
    "\n",
    "In Python, an *absolute import* is a way to specify the full, exact path to a module or package from the top-level directory of your project. This method ensures that Python can locate and import the desired module or package correctly, regardless of your current working directory.\n",
    "\n",
    "To perform an absolute import, you provide the full path starting from the top-level directory of your project, using dot notation to indicate the directory structure.\n",
    "\n",
    "### Absolute Imports for External Packages\n",
    "\n",
    "Consider you have installed the `requests` package, which is commonly used for making HTTP requests in Python. Most external packages can be installed using `pip install package_name`. To interact with the `get` function from the `requests` package, you can use an absolute import like this:\n",
    "\n",
    "```python\n",
    "import requests.get\n",
    "```"
   ]
  },
  {
   "cell_type": "markdown",
   "metadata": {},
   "source": [
    "In this example:\n",
    "\n",
    "- `requests` is the name of the external package (the package for making HTTP requests)\n",
    "- `get` is the specific module within the `requests` package that you want to import. The get module contains functions and classes related to sending HTTP GET requests.\n",
    "\n",
    "With this absolute import, Python knows to locate and import the `get` module from the `requests` package, allowing you to use its functions and classes in your code. This concept of absolute imports is crucial for correctly referencing modules within external packages in your Python projects."
   ]
  },
  {
   "cell_type": "markdown",
   "metadata": {},
   "source": [
    "### Absolute Imports Locally\n",
    "\n",
    "Absolute imports for local modules are written in the form `import package.module`. For example, if you have a project structure like this:\n",
    "\n",
    "```css\n",
    "my_project/\n",
    "    ├── main.py\n",
    "    └── my_module.py\n",
    "```\n",
    "You can use an absolute import to access `my_module` from `main.py` as follows:\n",
    "\n",
    "```python\n",
    "import my_project.my_module\n",
    "```\n",
    "\n",
    "In this example:\n",
    "\n",
    "- `my_project` is the top-level directory of your project\n",
    "- `my_module` is a module within your project\n",
    "\n",
    "This absolute import tells Python to locate and import `my_module` correctly, even if it's located within your project's directory structure. This can be especially useful when dealing with larger projects and complex directory hierarchies."
   ]
  },
  {
   "cell_type": "markdown",
   "metadata": {},
   "source": [
    "## Relative Imports\n",
    "\n",
    "*Relative imports* are used to import modules located within the same package or directory as your current Python script. These imports are particularly useful when working with packages and modules in your own projects.\n",
    "\n",
    "To specify the relative path when using relative imports, you can use dot notation. Dot notation consists of dots to represent the relative position of the module you want to import:\n",
    "\n",
    "- A single dot (`.`) represents the current directory\n",
    "- Two dots (`..`) represent the parent directory\n",
    "- Three dots (`...`) represent the parent's parent directory, and so on\n",
    "\n",
    "Let's consider a project structure like this:\n",
    "\n",
    "```css\n",
    "my_project/\n",
    "    ├── main.py\n",
    "    ├── package1/\n",
    "    │   ├── module1.py\n",
    "    │   └── module2.py\n",
    "    └── package2/\n",
    "        ├── module3.py\n",
    "        └── module4.py\n",
    "```\n",
    "\n",
    "Here are some examples of relative imports in action:\n",
    "\n",
    "- To import `module1` from `main.py`, you would use a relative import like this:\n",
    "\n",
    "```python\n",
    "from package1 import module1\n",
    "```\n",
    "\n",
    "- To import `module3` from `main.py`, you would use a relative import like this:\n",
    "\n",
    "```python\n",
    "from package2 import module3\n",
    "```\n",
    "\n",
    "- To import `module2` from `module1.py`, you would use a relative import like this:\n",
    "\n",
    "```python\n",
    "from . import module2\n",
    "```\n",
    "\n",
    "- To import `module4` from `module3.py`, you would use a relative import like this:\n",
    "\n",
    "```python\n",
    "from ..package2 import module4\n",
    "```\n",
    "\n",
    "By using dot notation, you can precisely specify the location of the module you want to import relative to your current script. This is crucial for structuring and organizing your Python projects effectively."
   ]
  },
  {
   "cell_type": "markdown",
   "metadata": {},
   "source": [
    "## Common Import Errors and Troubleshooting\n",
    "\n",
    "While importing modules and items in Python, you may encounter various errors. Understanding these common import errors and knowing how to troubleshoot them is essential for smooth development.\n",
    "\n",
    "### `ModuleNotFoundError`\n",
    "\n",
    "The `ModuleNotFoundError` is one of the most common import errors. It occurs when Python cannot locate the module you are trying to import. To troubleshoot this error:\n",
    "\n",
    "- Double-check the module name for typos or incorrect casing. Python is case-sensitive.\n",
    "- Ensure that the module is installed or located in the correct directory\n",
    "- Verify the Python environment or virtual environment you are using to ensure that the module is accessible\n",
    "\n",
    "### `ImportError`\n",
    "\n",
    "The `ImportError` can occur for various reasons, such as when you attempt to import a specific item that doesn't exist in the module or when circular imports are present. To troubleshoot this error:\n",
    "\n",
    "- Confirm that the item you are trying to import exists in the module. Double-check its name and spelling.\n",
    "- If you encounter a circular import (when two or more modules import each other), consider restructuring your code to remove the circular dependency. We will look at this in more detail next.\n",
    "\n",
    "### Circular Imports\n",
    "\n",
    "> Circular import occur when two or more modules import each other directly or indirectly. This can lead to confusing errors and should be avoided.\n",
    "\n",
    "To troubleshoots circular imports:\n",
    "\n",
    "- Identify the circular dependency by examining your `import` statements\n",
    "- Consider restructuring your code to remove the circular dependency. You can often resolve circular imports by moving `import` statements to the bottom of your module or using conditional imports within functions.\n",
    "\n",
    "Let's look at an example to understand this better. Suppose you have two modules, `module1.py` and `module2.py`, within the same package, and they import each other:"
   ]
  },
  {
   "cell_type": "code",
   "execution_count": null,
   "metadata": {},
   "outputs": [],
   "source": [
    "# module1.py\n",
    "\n",
    "# Importing a function from module2\n",
    "from package.module2 import function_from_module2\n",
    "\n",
    "def function_from_module1():\n",
    "    return \"Function from module1\"\n",
    "\n",
    "# Calling a function from module2\n",
    "result = function_from_module2()\n",
    "print(result)\n"
   ]
  },
  {
   "cell_type": "code",
   "execution_count": null,
   "metadata": {},
   "outputs": [],
   "source": [
    "# module2.py\n",
    "\n",
    "# Importing a function from module1\n",
    "from package.module1 import function_from_module1\n",
    "\n",
    "def function_from_module2():\n",
    "    return \"Function from module2\"\n",
    "\n",
    "# Calling a function from module1\n",
    "result = function_from_module1()\n",
    "print(result)\n"
   ]
  },
  {
   "cell_type": "markdown",
   "metadata": {},
   "source": [
    "In this example:\n",
    "\n",
    "- `module1.py` imports `function_from_module2` from `module2.py`\n",
    "- `module2.py` imports `function_from_module1` from `module1.py`\n",
    "\n",
    "When you attempt to run `module1.py`, Python starts executing the code. However, it encounters the `import` statement for `function_from_module2`, which triggers the execution of `module2.py`. In turn, `module2.py` tries to `import function_from_module1 from module1.py`. This creates a circular dependency.\n",
    "\n",
    "As a result, Python raises an `ImportError`, indicating that it cannot resolve the circular import. To resolve circular imports, you can modify the scripts accordingly:"
   ]
  },
  {
   "cell_type": "code",
   "execution_count": null,
   "metadata": {},
   "outputs": [],
   "source": [
    "# module1.py\n",
    "\n",
    "def function_from_module1():\n",
    "    return \"Function from module1\"\n",
    "\n",
    "def main():\n",
    "    # Importing the function only when needed\n",
    "    from package.module2 import function_from_module2\n",
    "    result = function_from_module2()\n",
    "    print(result)\n",
    "\n",
    "if __name__ == \"__main__\":\n",
    "    main()\n"
   ]
  },
  {
   "cell_type": "code",
   "execution_count": null,
   "metadata": {},
   "outputs": [],
   "source": [
    "# module2.py\n",
    "\n",
    "def function_from_module2():\n",
    "    return \"Function from module2\"\n",
    "\n",
    "def main():\n",
    "    # Importing the function only when needed\n",
    "    from package.module1 import function_from_module1\n",
    "    result = function_from_module1()\n",
    "    print(result)\n",
    "\n",
    "if __name__ == \"__main__\":\n",
    "    main()"
   ]
  },
  {
   "cell_type": "markdown",
   "metadata": {},
   "source": [
    "The key point is that by placing the `import` statement inside the `main` function and using `if __name__ == \"__main__\"`, you ensure that the import occurs only when the script is run directly. If `module2.py` is imported as a module into another script, the main function and the associated import are not executed. This helps avoid circular imports, as the import is deferred until it's needed.\n",
    "\n",
    "> `if __name__ == \"__main__\"` is a special construct in Python that checks whether the script is being run directly or imported as a module into another script. Code inside the `if __name__ == \"__main__\":` block is executed only when the script is run directly, not when it's imported. In this context, it ensures that the `main` function and the associated import are executed only when the script is run directly. We'll cover this construct in more detail in a later lesson.\n",
    "\n",
    "This is a common technique in Python for structuring scripts and modules to prevent circular dependencies while allowing reusable code."
   ]
  },
  {
   "cell_type": "markdown",
   "metadata": {},
   "source": [
    "## Ordering of Import Statements\n",
    "\n",
    "The order of import statements can significantly affect code quality:\n",
    "\n",
    "- **Readability**: A consistent order makes it easier for developers to understand and work with code\n",
    "- **Maintainability**: A well-organized codebase is more accessible to maintain and update\n",
    "\n",
    "Now let's look at the guidelines that can help us maintain a well organized code:\n",
    "\n",
    "1. **Standard Library Imports**: Python comes with a rich standard library that includes modules like `os`, `sys`, and `math`. We start with these because they're readily available in every Python environment."
   ]
  },
  {
   "cell_type": "code",
   "execution_count": null,
   "metadata": {},
   "outputs": [],
   "source": [
    "import os\n",
    "import sys\n",
    "import math"
   ]
  },
  {
   "cell_type": "markdown",
   "metadata": {},
   "source": [
    "2. **Third-Party Library Imports**: Many Python projects rely on external packages or libraries. Imports from these external sources should come next"
   ]
  },
  {
   "cell_type": "code",
   "execution_count": null,
   "metadata": {},
   "outputs": [],
   "source": [
    "import requests\n",
    "import pandas as pd\n",
    "import matplotlib.pyplot as plt"
   ]
  },
  {
   "cell_type": "markdown",
   "metadata": {},
   "source": [
    "3. **Local Imports**: Finally, we import modules or functions from our project's codebase. These are the modules/packages we have written ourselves."
   ]
  },
  {
   "cell_type": "code",
   "execution_count": null,
   "metadata": {},
   "outputs": [],
   "source": [
    "from my_project import my_module\n",
    "from package.subpackage import my_function"
   ]
  },
  {
   "cell_type": "markdown",
   "metadata": {},
   "source": [
    "Within each group (standard library, third-party, and local), it's common to maintain further order through alphabetical sorting. This consistent practice simplifies navigation and reduces confusion."
   ]
  },
  {
   "cell_type": "markdown",
   "metadata": {},
   "source": [
    "## Key Takeaways\n",
    "\n",
    "- Modular code involves breaking down a program into smaller, reusable components (modules) to enhance code organization and maintainability\n",
    "- Python allows you to bring functionality from other modules and packages into your code through imports. Imports are essential for code reuse, as they enable you to leverage existing code from Python's standard library and third-party libraries.\n",
    "- In Python, a module is a single Python file containing functions, classes, or variables. A package is a collection of modules organized in directories. Packages help organize code in larger projects.\n",
    "- The basic import statement is used to bring in modules and functions. You can import built-in modules like `math` and `random` as well as functions and modules from local files using import statements.\n",
    "- Aliases, created using the `as` keyword, simplify module names. For example, `import math as m` allows you to use `m` instead of `math` in your code.\n",
    "- Absolute imports specify the full path to the module or package, allowing Python to locate and import it correctly\n",
    "- Relative imports use dot notation to specify the relative path to the module\n",
    "- Follow a consistent order when organizing import statements: standard library imports, third-party library imports, and local imports. Maintain alphabetical order within each group for clarity."
   ]
  }
 ],
 "metadata": {
  "kernelspec": {
   "display_name": "base",
   "language": "python",
   "name": "python3"
  },
  "language_info": {
   "codemirror_mode": {
    "name": "ipython",
    "version": 3
   },
   "file_extension": ".py",
   "mimetype": "text/x-python",
   "name": "python",
   "nbconvert_exporter": "python",
   "pygments_lexer": "ipython3",
   "version": "3.9.2"
  },
  "vscode": {
   "interpreter": {
    "hash": "a2592652612463181e69ac003232387e3e9a99279aa6b168e76f5df16d5110f4"
   }
  }
 },
 "nbformat": 4,
 "nbformat_minor": 2
}
