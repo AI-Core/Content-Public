{
 "cells": [
  {
   "attachments": {},
   "cell_type": "markdown",
   "metadata": {},
   "source": [
    "# Numbers"
   ]
  },
  {
   "attachments": {},
   "cell_type": "markdown",
   "metadata": {},
   "source": [
    "## Which of the following is NOT a number data type? Select all that apply.\n",
    "\n",
    "- `int`\n",
    "- `decpoint` ***\n",
    "- `float`\n",
    "- `real` ***\n",
    "- `number` ***"
   ]
  },
  {
   "attachments": {},
   "cell_type": "markdown",
   "metadata": {},
   "source": [
    "## What operator is used to calculate the addition of two numbers?\n",
    "\n",
    "- `add`\n",
    "- `addition`\n",
    "- `plus`\n",
    "- `+` ***\n",
    "\n"
   ]
  },
  {
   "attachments": {},
   "cell_type": "markdown",
   "metadata": {},
   "source": [
    "## What is the data type of `c` in the following code?\n",
    "\n",
    "```python\n",
    "a = 1\n",
    "b = 3.14\n",
    "c = a + b\n",
    "```\n",
    "\n",
    "- `int`\n",
    "- `float` ***\n",
    "- There is an error in the code\n",
    "- `str`"
   ]
  },
  {
   "attachments": {},
   "cell_type": "markdown",
   "metadata": {},
   "source": [
    "## What is the data type of `c` in the following code?\n",
    "\n",
    "```python\n",
    "a = 1\n",
    "b = 2\n",
    "c = b / a\n",
    "```\n",
    "\n",
    "- `int`\n",
    "- `float` ***\n",
    "- There is an error in the code\n",
    "- `str`"
   ]
  },
  {
   "attachments": {},
   "cell_type": "markdown",
   "metadata": {},
   "source": [
    "## Which Python operator or built-in function is used to calculate the remainder of a division?\n",
    "\n",
    "- `remainder`\n",
    "- `mod`\n",
    "- `modulo`\n",
    "- `%` ***\n",
    "- `modulus`"
   ]
  },
  {
   "attachments": {},
   "cell_type": "markdown",
   "metadata": {},
   "source": [
    "## How do you calculate the product of two numbers?\n",
    "\n",
    "- `product`\n",
    "- `multiply`\n",
    "- `*` ***\n",
    "- `times`\n",
    "\n"
   ]
  },
  {
   "attachments": {},
   "cell_type": "markdown",
   "metadata": {},
   "source": [
    "## How do you calculate the power of a number?\n",
    "\n",
    "- `power`\n",
    "- `exponent`\n",
    "- `^`\n",
    "- `**` ***"
   ]
  },
  {
   "attachments": {},
   "cell_type": "markdown",
   "metadata": {},
   "source": [
    "## How do you calculate the floor division of two numbers?\n",
    "\n",
    "- `fldiv`\n",
    "- `floor division`\n",
    "- `//` ***\n",
    "- `floor`"
   ]
  },
  {
   "attachments": {},
   "cell_type": "markdown",
   "metadata": {},
   "source": [
    "## What is the data type of `c` in the following code?\n",
    "\n",
    "```python\n",
    "a = 7\n",
    "b = 2\n",
    "c = a // b\n",
    "```\n",
    "\n",
    "- `int` ***\n",
    "- `float`\n",
    "- There is an error in the code\n",
    "- `str`"
   ]
  },
  {
   "attachments": {},
   "cell_type": "markdown",
   "metadata": {},
   "source": [
    "## What is the data type of `c` in the following code?\n",
    "\n",
    "```python\n",
    "a = 7\n",
    "b = 2\n",
    "c = a % b\n",
    "```\n",
    "\n",
    "- `int` ***\n",
    "- `float`\n",
    "- There is an error in the code\n",
    "- `str`"
   ]
  },
  {
   "attachments": {},
   "cell_type": "markdown",
   "metadata": {},
   "source": [
    "## What is the output of the following code?\n",
    "\n",
    "```python\n",
    "a = 9\n",
    "b = 2\n",
    "c = a % b\n",
    "d = a // b\n",
    "print(c, d)\n",
    "```\n",
    "\n",
    "- `4 4`\n",
    "- `4 9`\n",
    "- `9 4`\n",
    "- `1 9`\n",
    "- `1 4` ***\n"
   ]
  },
  {
   "attachments": {},
   "cell_type": "markdown",
   "metadata": {},
   "source": [
    "## What is the output of the following code?\n",
    "\n",
    "```python\n",
    "x = 10\n",
    "y = 3\n",
    "z = x / y\n",
    "print(round(z, 2))\n",
    "```\n",
    "\n",
    "- `3.33` ***\n",
    "- `3.333`\n",
    "- `3.3333`\n",
    "- `33.33`\n",
    "- `33.333`"
   ]
  }
 ],
 "metadata": {
  "kernelspec": {
   "display_name": "content-projects",
   "language": "python",
   "name": "python3"
  },
  "language_info": {
   "codemirror_mode": {
    "name": "ipython",
    "version": 3
   },
   "file_extension": ".py",
   "mimetype": "text/x-python",
   "name": "python",
   "nbconvert_exporter": "python",
   "pygments_lexer": "ipython3",
   "version": "3.10.8"
  },
  "orig_nbformat": 4
 },
 "nbformat": 4,
 "nbformat_minor": 2
}
