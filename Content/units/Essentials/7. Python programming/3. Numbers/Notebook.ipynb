{
 "cells": [
  {
   "cell_type": "markdown",
   "metadata": {},
   "source": [
    "# Numbers in Python"
   ]
  },
  {
   "attachments": {},
   "cell_type": "markdown",
   "metadata": {},
   "source": [
    "Numeric data types play a crucial role in programming as they allow us to work with numbers and perform various mathematical operations. In Python, numeric data types represent different kinds of numbers, such as *integers*, *floating-point numbers*, and *complex numbers*. Understanding these data types is essential for performing calculations, manipulating data, and building mathematical models in Python."
   ]
  },
  {
   "attachments": {},
   "cell_type": "markdown",
   "metadata": {},
   "source": [
    "## Motivation\n",
    "\n",
    "Welcome to your journey of learning about numbers in programming! Let's explore the key reasons why learning about numbers is valuable:\n",
    "- **Foundational Data Type**: Numbers are a fundamental data type in programming. By understanding numbers, we gain the ability to perform mathematical calculations, manipulate data, and solve a wide range of problems in programming.\n",
    "\n",
    "- **Arithmetic and Mathematical Operations**: Learning about numbers allows us to perform different mathematical operations in our programs. We can add, subtract, multiply, divide, and do other math operations with numbers. This helps us solve problems, make calculations, and perform complex mathematical tasks.\n",
    "\n",
    "- **Problem Solving and Algorithms**: Numbers are crucial for problem solving and coming up with efficient solutions. They allow us to represent and analyze data, design step-by-step instructions (called algorithms), and find solutions to various problems. By understanding numbers, we can think logically and develop strategies to solve problems in different fields, such as math, science, and computer science."
   ]
  },
  {
   "attachments": {},
   "cell_type": "markdown",
   "metadata": {},
   "source": [
    "## What are numeric data types?\n",
    "\n",
    "> Numeric data types are a category of data types that represent numerical values in programming languages. \n",
    "\n",
    "These types allow us to store and manipulate numbers, perform mathematical operations, and solve complex problems. In Python, the core numeric data types are:\n",
    "- **Integer (int)**: Integers represent whole numbers without any fractional or decimal parts. They can be positive, negative, or zero, and can be as large or small as the memory allows.\n",
    "- **Floating-Point (float)**: Floating-point numbers, also known as floats, represent real numbers with fractional parts. They are written with a decimal point or in scientific notation (e.g., 3.14, 1.23e-4).\n",
    "- **Complex (complex)**: Complex numbers consist of a real part and an imaginary part. They are written in the form `a + bj`, where `a` represents the real part and `b` represents the imaginary part. Complex numbers are useful in mathematics and scientific computations.\n"
   ]
  },
  {
   "attachments": {},
   "cell_type": "markdown",
   "metadata": {},
   "source": [
    "## Importance of numeric data types in programming\n",
    "\n",
    "Numeric data types are fundamental in programming because they enable us to work with numbers and perform various calculations. Here are a few reasons why understanding numeric data types is important:\n",
    "- **Mathematical operations**: Numeric data types allow us to perform arithmetic operations like addition, subtraction, multiplication, and division. These operations form the foundation of many algorithms and calculations in programming.\n",
    "- **Data analysis and manipulation**: Numeric data types are vital for data analysis tasks, such as computing statistics, aggregating data, and performing mathematical transformations. They are essential for working with numerical data in scientific, financial, and engineering applications.\n",
    "- **Scientific and mathematical modeling**: Numeric data types enable us to build models and simulations for scientific and mathematical purposes. Whether it's simulating physical systems, predicting future outcomes, or solving complex equations, numeric data types provide the necessary tools."
   ]
  },
  {
   "attachments": {},
   "cell_type": "markdown",
   "metadata": {},
   "source": [
    "## Integer (int)\n",
    "\n",
    "Integers are a fundamental numeric data type in Python that represent whole numbers without any fractional or decimal parts. They can be positive, negative, or zero. The integer data type is used to perform calculations involving whole numbers, countable quantities, and indices in arrays or lists.\n",
    "\n",
    "Key characteristics of integers in Python include:\n",
    "- Integers have unlimited precision, meaning they can be arbitrarily large or small, as long as they fit within the available memory\n",
    "- They do not include decimal points or fractional parts, making them suitable for whole number calculations and discrete values\n",
    "- Integer values can be represented in various numeral systems, such as decimal (base 10), binary (base 2), octal (base 8), and hexadecimal (base 16)\n",
    "\n",
    "### Creating integer variables\n",
    "\n",
    "In Python, you can create integer variables by assigning an integer value to a variable name. Here's an example:"
   ]
  },
  {
   "cell_type": "code",
   "execution_count": null,
   "metadata": {},
   "outputs": [],
   "source": [
    "x = 5\n",
    "y = -10"
   ]
  },
  {
   "attachments": {},
   "cell_type": "markdown",
   "metadata": {},
   "source": [
    "In the above example, we have created two integer variables: `x` with a value of `5` and `y` with a value of `-10`. Once assigned, the variables `x` and `y` can be used in calculations or other operations."
   ]
  },
  {
   "attachments": {},
   "cell_type": "markdown",
   "metadata": {},
   "source": [
    "## Floating-Point (float) Data Type\n",
    "\n",
    "Floating-point numbers, also known as floats, are a numeric data type in Python that represent real numbers with fractional parts. They are used to perform calculations involving continuous quantities, measurements, and scientific computations. Floating-point numbers are written with a decimal point or in scientific notation (e.g., 3.14, 1.23e-4).\n",
    "\n",
    "Key characteristics of floating-point numbers in Python include:\n",
    "- Floats can represent a wide range of values, including both very small and very large numbers, with a finite precision determined by the system\n",
    "- Floating-point numbers have a limited number of significant digits and can introduce some degree of rounding error or precision loss in calculations\n",
    "- They can represent both fractional and whole numbers, but the fractional part is not limited to a fixed number of decimal places\n",
    "\n",
    "### Creating Float variables\n",
    "\n",
    "In Python, you can create float variables by assigning a floating-point value to a variable name. Here's an example:"
   ]
  },
  {
   "cell_type": "code",
   "execution_count": 8,
   "metadata": {},
   "outputs": [],
   "source": [
    "x = 3.14\n",
    "y = -2.5"
   ]
  },
  {
   "attachments": {},
   "cell_type": "markdown",
   "metadata": {},
   "source": [
    "In the above example, `x` is assigned the value `3.14`, and y is assigned the value `-2.5`. Once assigned, these variables can be used in calculations or other operations involving floating-point numbers."
   ]
  },
  {
   "attachments": {},
   "cell_type": "markdown",
   "metadata": {},
   "source": [
    "## Basic arithmetic operations\n",
    "\n",
    "Integers and Floats support all basic arithmetic operations, allowing you to perform calculations with ease. Here are the common arithmetic operations you can perform:\n",
    "- **Addition (`+`)**: Adds two or more integers/floats together\n",
    "- **Subtraction (`-`)**: Subtracts one integer/float from another\n",
    "- **Multiplication (`*`)**: Multiplies two or more integers/floats\n",
    "- **Division (`/`)**: Divides one integer/float by another, returning a float result (unless using floor division which will be explained in the next section)\n",
    "- **Modulo (`%`)**: Returns the remainder of the division between two integers/float\n",
    "- **Exponentiation (`**`)**: Raises an integer/float to the power of another integer/float\n",
    "\n",
    "Here's an example that demonstrates basic arithmetic operations for integers:"
   ]
  },
  {
   "cell_type": "code",
   "execution_count": 1,
   "metadata": {},
   "outputs": [
    {
     "name": "stdout",
     "output_type": "stream",
     "text": [
      "13\n",
      "7\n",
      "30\n",
      "3.3333333333333335\n",
      "1\n",
      "1000\n"
     ]
    }
   ],
   "source": [
    "a = 10\n",
    "b = 3\n",
    "\n",
    "sum_result = a + b\n",
    "difference_result = a - b\n",
    "product_result = a * b\n",
    "division_result = a / b\n",
    "modulo_result = a % b\n",
    "exponentiation_result = a ** b\n",
    "\n",
    "print(sum_result)           # Output: 13\n",
    "print(difference_result)    # Output: 7\n",
    "print(product_result)       # Output: 30\n",
    "print(division_result)      # Output: 3.3333333333333335\n",
    "print(modulo_result)        # Output: 1\n",
    "print(exponentiation_result) # Output: 1000"
   ]
  },
  {
   "attachments": {},
   "cell_type": "markdown",
   "metadata": {},
   "source": [
    "### Order of Operations\n",
    "\n",
    "When multiple arithmetic operations are present in a single expression, Python follows the order of operations (also known as precedence) to determine the sequence in which the operations are performed. The order of operations is as follows:\n",
    "- **Parentheses**: Operations enclosed in parentheses `()` are evaluated first. Parentheses allow you to specify the order in which operations should be executed, overriding the default precedence.\n",
    "- **Exponentiation**: Exponentiation (`**`) is evaluated next. It represents raising a number to a certain power.\n",
    "- **Multiplication, Division, and Modulo**: Multiplication (`*`), division (`/`), and modulo (`%`) operations are evaluated from left to right.\n",
    "- **Addition and Subtraction**: Addition (`+`) and subtraction (`-`) operations are evaluated from left to right.\n",
    "\n",
    "Here's an example that showcases the order of operations using parentheses to specify the order:"
   ]
  },
  {
   "cell_type": "code",
   "execution_count": null,
   "metadata": {},
   "outputs": [
    {
     "name": "stdout",
     "output_type": "stream",
     "text": [
      "5\n"
     ]
    }
   ],
   "source": [
    "a = 10\n",
    "b = 5\n",
    "c = 2\n",
    "\n",
    "result = (a + b) * c - b ** 2\n",
    "print(result)  # Output: 5"
   ]
  },
  {
   "attachments": {},
   "cell_type": "markdown",
   "metadata": {},
   "source": [
    "In the above example, we have the following expression: `(a + b) * c - b ** 2`. Let's break down the order of operations step by step:\n",
    "- `(a + b)`: Addition operation is performed first, resulting in `15`\n",
    "- `15 * c`: Multiplication operation is performed next, with the value `15` from the previous step and `c` being `2`, resulting in `30`\n",
    "- `30 - b ** 2`: Exponentiation operation `b ** 2` is performed next, resulting in `25`. Then, the subtraction operation is performed with `30` and `25`, resulting in `5`.\n",
    "\n",
    "Thus, the final value of the expression is `5`, which is printed as the output."
   ]
  },
  {
   "attachments": {},
   "cell_type": "markdown",
   "metadata": {},
   "source": [
    "## Integer division and Floor division\n",
    "\n",
    "Python provides two types of division operators: division (`/`) and floor division (`//`).\n",
    "\n",
    "- **Division (`/`)**: This operator performs normal division, which returns a float result even when dividing two integers. For example, 10 / 3 returns 3.3333333333333335.\n",
    "- **Floor Division (`//`)**: This operator performs integer division or floor division, which returns the largest integer less than or equal to the division result. For example, 10 // 3 returns 3. It discards the decimal part and provides an integer result."
   ]
  },
  {
   "cell_type": "code",
   "execution_count": 2,
   "metadata": {},
   "outputs": [],
   "source": [
    "a = 10\n",
    "b = 3\n",
    "\n",
    "division_result = a / b        # Output: 3.3333333333333335\n",
    "floor_division_result = a // b # Output: 3\n"
   ]
  },
  {
   "attachments": {},
   "cell_type": "markdown",
   "metadata": {},
   "source": [
    "## Converting between integers float data types\n",
    "\n",
    "In Python, you can convert numeric data types to other data types and vice versa using type conversion or casting. These conversions allow you to work with different data types and perform operations that require specific data formats. Here are some common conversions involving integers:\n",
    "- Converting an Integer to Float: To convert an integer to a float, use the `float()` function. The float value will have the same numeric value as the integer, but with a decimal point added."
   ]
  },
  {
   "cell_type": "code",
   "execution_count": 3,
   "metadata": {},
   "outputs": [
    {
     "name": "stdout",
     "output_type": "stream",
     "text": [
      "5.0\n"
     ]
    }
   ],
   "source": [
    "x = 5\n",
    "float_value = float(x)\n",
    "print(float_value)  # Output: 5.0"
   ]
  },
  {
   "attachments": {},
   "cell_type": "markdown",
   "metadata": {},
   "source": [
    "- Converting a Float to Integer: To convert a float to an integer, use the `int()` function. The float value will be rounded down to the nearest whole number."
   ]
  },
  {
   "cell_type": "code",
   "execution_count": 5,
   "metadata": {},
   "outputs": [
    {
     "name": "stdout",
     "output_type": "stream",
     "text": [
      "3\n"
     ]
    }
   ],
   "source": [
    "x = 3.7\n",
    "int_value = int(x)\n",
    "print(int_value)  # Output: 3\n"
   ]
  },
  {
   "attachments": {},
   "cell_type": "markdown",
   "metadata": {},
   "source": [
    "### integer vs. `int`\n",
    "- **integer**: The term \"integer\" is a broad concept used to describe a whole number, either positive, negative, or zero, without any fractional or decimal part. It encompasses the mathematical concept of integers.\n",
    "- `int`: In Python, `int` is the specific data type that represents integers. It is a built-in class that provides a way to work with and manipulate whole numbers.\n",
    "\n",
    "Here's an example to illustrate the difference:"
   ]
  },
  {
   "cell_type": "code",
   "execution_count": 13,
   "metadata": {},
   "outputs": [
    {
     "name": "stdout",
     "output_type": "stream",
     "text": [
      "10 <class 'int'>\n",
      "-5 <class 'int'>\n",
      "3 <class 'int'>\n",
      "20 <class 'int'>\n"
     ]
    }
   ],
   "source": [
    "# `integer` as a concept\n",
    "positive_integer = 10\n",
    "negative_integer = -5\n",
    "\n",
    "# `int` data type\n",
    "x = int(3.14)\n",
    "y = int(\"20\")\n",
    "\n",
    "print(positive_integer, type(positive_integer))  # Output: 10 <class 'int'>\n",
    "print(negative_integer, type(negative_integer))  # Output: -5 <class 'int'>\n",
    "print(x, type(x))  # Output: 3 <class 'int'>\n",
    "print(y, type(y))  # Output: 20 <class 'int'>"
   ]
  },
  {
   "attachments": {},
   "cell_type": "markdown",
   "metadata": {},
   "source": [
    "In the example, `positive_integer` and `negative_integer` represent integers in a general sense, without referring to the specific data type in Python. They are used to represent whole numbers, whether positive or negative, without any decimal or fractional part.\n",
    "\n",
    "On the other hand, `x` and `y` are variables assigned with values that are instances of the `int` data type in Python. By using the `int()` function, values like `3.14` and `\"20\"` are explicitly converted to the `int` data type, representing whole numbers. These variables demonstrate the usage of int as a specific data type provided by Python to work with and manipulate integers."
   ]
  },
  {
   "attachments": {},
   "cell_type": "markdown",
   "metadata": {},
   "source": [
    "### float vs. `float`\n",
    "\n",
    "- **float**: The term \"float\" is a general concept used to describe a number that has a fractional or decimal part. It represents the mathematical concept of real numbers with a decimal component.\n",
    "- `float`: In Python, `float` is the specific data type used to represent floating-point numbers. It is a built-in class that provides a way to work with and manipulate decimal numbers.\n",
    "\n",
    "Here's an example to demonstrate the difference:"
   ]
  },
  {
   "cell_type": "code",
   "execution_count": 14,
   "metadata": {},
   "outputs": [
    {
     "name": "stdout",
     "output_type": "stream",
     "text": [
      "3.14 <class 'float'>\n",
      "10.0 <class 'float'>\n",
      "5.5 <class 'float'>\n"
     ]
    }
   ],
   "source": [
    "# `float` as a concept\n",
    "decimal_number = 3.14\n",
    "\n",
    "# `float` data type\n",
    "x = float(10)\n",
    "y = float(\"5.5\")\n",
    "\n",
    "print(decimal_number, type(decimal_number))  # Output: 3.14 <class 'float'>\n",
    "print(x, type(x))  # Output: 10.0 <class 'float'>\n",
    "print(y, type(y))  # Output: 5.5 <class 'float'>\n"
   ]
  },
  {
   "attachments": {},
   "cell_type": "markdown",
   "metadata": {},
   "source": [
    "In the example, `decimal_number `represents a float in a general sense, without referring to the specific data type in Python. It is used to represent a number with a fractional or decimal part, such as `3.14`.\n",
    "\n",
    "On the other hand, `x` and `y` are variables assigned with values that are instances of the `float` data type in Python. By using the `float()` function, values like `10` and `\"5.5\"` are explicitly converted to the `float` data type, representing numbers with decimal components. These variables demonstrate the usage of `float` as a specific data type provided by Python to work with and manipulate decimal numbers."
   ]
  },
  {
   "attachments": {},
   "cell_type": "markdown",
   "metadata": {},
   "source": [
    "## Floating-Point Precision and Limitations\n",
    "\n",
    "Floating-point numbers have limited precision due to the finite representation of real numbers in computer systems. This can lead to some rounding errors and imprecise results in certain calculations. It's important to be aware of these limitations when working with floats.\n",
    "\n",
    "For example, consider the following calculation:"
   ]
  },
  {
   "cell_type": "code",
   "execution_count": 6,
   "metadata": {},
   "outputs": [
    {
     "name": "stdout",
     "output_type": "stream",
     "text": [
      "0.30000000000000004\n"
     ]
    }
   ],
   "source": [
    "result = 0.1 + 0.1 + 0.1\n",
    "print(result)  # Output: 0.30000000000000004"
   ]
  },
  {
   "attachments": {},
   "cell_type": "markdown",
   "metadata": {},
   "source": [
    "In this case, the expected result should be `0.3`, but due to the inherent precision limitations of floats, the actual result includes a small rounding error.\n",
    "\n",
    "Here are some considerations to handle floating-point precision errors:\n",
    "- Avoid Comparing for Exact Equality: Due to the precision limitations, comparing floating-point numbers for exact equality can lead to unexpected results. Instead, use comparison techniques that take into account a tolerance or a specified precision threshold.\n",
    "- Consider Rounding: Depending on the application, rounding the results to an appropriate number of decimal places can help manage precision errors and simplify the output. You can use the `round()` function or other rounding techniques to achieve the desired level of precision.\n",
    "\n",
    "Here's an example that demonstrates the usage of the round() function to manage floating-point precision errors:"
   ]
  },
  {
   "cell_type": "code",
   "execution_count": 7,
   "metadata": {},
   "outputs": [
    {
     "name": "stdout",
     "output_type": "stream",
     "text": [
      "0.30000000000000004\n",
      "0.3\n"
     ]
    }
   ],
   "source": [
    "# Floating-point precision error example\n",
    "x = 0.1 + 0.1 + 0.1\n",
    "print(x)  # Output: 0.30000000000000004\n",
    "\n",
    "# Rounding to manage precision error\n",
    "rounded_x = round(x, 2)\n",
    "print(rounded_x)  # Output: 0.3"
   ]
  },
  {
   "attachments": {},
   "cell_type": "markdown",
   "metadata": {},
   "source": [
    "In the above example, the calculation `0.1 + 0.1 + 0.1` should ideally result in `0.3`. However, due to floating-point precision limitations, the actual result includes a small rounding error. To mitigate this precision issue, the `round()` function is used to round the value of `x` to two decimal places. As a result, the output `0.3` represents a more accurate representation of the intended value."
   ]
  },
  {
   "attachments": {},
   "cell_type": "markdown",
   "metadata": {},
   "source": [
    "## `NoneType` vs `0`\n",
    "\n",
    "In Python, `NoneType` and `0` are distinct entities representing different concepts. \n",
    "\n",
    "`NoneType` is a special built-in type in Python that represents the absence of a value or the lack of a meaningful object. It is commonly denoted by the keyword `None`. Here are a few key points about `NoneType`:\n",
    "- `None` is often used to indicate the absence of a value or when a variable or function does not return a meaningful result\n",
    "- It is not the same as the integer value `0`\n",
    "- `None` is considered a \"singleton\" in Python, meaning that there is only one instance of None throughout the program\n"
   ]
  },
  {
   "cell_type": "code",
   "execution_count": 10,
   "metadata": {},
   "outputs": [
    {
     "name": "stdout",
     "output_type": "stream",
     "text": [
      "<class 'NoneType'>\n"
     ]
    }
   ],
   "source": [
    "variable_a = None\n",
    "\n",
    "print(type(variable_a))  # Output: <class 'NoneType'>\n"
   ]
  },
  {
   "attachments": {},
   "cell_type": "markdown",
   "metadata": {},
   "source": [
    "In this example, the `type()` function is used to determine the type of `variable_a`, which has a value of `None`. The output shows that the type of `variable_a` is `<class 'NoneType'>`, indicating that it is of the `NoneType`.\n",
    "\n",
    "`0` is a numeric value and represents the integer zero. Here are a few key points about `0`:\n",
    "- `0` is an integer value and belongs to the `int` data type in Python\n",
    "- It represents the numeric value zero and can be used in arithmetic operations, comparisons, and other mathematical calculations\n",
    "- Unlike `None`, `0` is a specific value and not used to indicate the absence of a value\n"
   ]
  },
  {
   "cell_type": "code",
   "execution_count": 11,
   "metadata": {},
   "outputs": [
    {
     "name": "stdout",
     "output_type": "stream",
     "text": [
      "<class 'int'>\n"
     ]
    }
   ],
   "source": [
    "variable_b = 0\n",
    "\n",
    "print(type(variable_b))  # Output: <class 'int'>\n"
   ]
  },
  {
   "attachments": {},
   "cell_type": "markdown",
   "metadata": {},
   "source": [
    "In this example, the `type()` function is used to determine the type of `variable_b`, which has a value of `0`. The output shows that the type of `variable_b` is `<class 'int'>`, indicating that it is of the `int` (integer) type."
   ]
  },
  {
   "attachments": {},
   "cell_type": "markdown",
   "metadata": {},
   "source": [
    "## Key Takeaways\n",
    "\n",
    "- Numeric data types are fundamental in Python and are used to represent different kinds of numbers\n",
    "- The `int` data type is used for working with whole numbers, while the `float` data type is used for handling numbers with decimal or fractional parts\n",
    "- Python provides various arithmetic operators such as addition (`+`), subtraction (`-`), multiplication (`*`), division (`/`), and exponentiation (`**`) that can be used with numeric data types to perform calculations\n",
    "- The `NoneType` represents the absence of a value, indicating when a variable does not return a meaningful result\n",
    "- Converting between numeric data types and other data types can be achieved using built-in conversion functions such as `int()` and `float()`"
   ]
  }
 ],
 "metadata": {
  "kernelspec": {
   "display_name": "base",
   "language": "python",
   "name": "python3"
  },
  "language_info": {
   "codemirror_mode": {
    "name": "ipython",
    "version": 3
   },
   "file_extension": ".py",
   "mimetype": "text/x-python",
   "name": "python",
   "nbconvert_exporter": "python",
   "pygments_lexer": "ipython3",
   "version": "3.9.2"
  },
  "vscode": {
   "interpreter": {
    "hash": "a2592652612463181e69ac003232387e3e9a99279aa6b168e76f5df16d5110f4"
   }
  }
 },
 "nbformat": 4,
 "nbformat_minor": 2
}
