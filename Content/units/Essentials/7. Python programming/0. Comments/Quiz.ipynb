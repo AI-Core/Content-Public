{
 "cells": [
  {
   "attachments": {},
   "cell_type": "markdown",
   "metadata": {},
   "source": [
    "# Comments"
   ]
  },
  {
   "attachments": {},
   "cell_type": "markdown",
   "metadata": {},
   "source": [
    "## What is a comment in Python?\n",
    "\n",
    "- Comments are tips given by Python on how to code better\n",
    "- Comments are lines of code executed by the Python interpreter\n",
    "- Comments are lines of code that are ignored by the Python interpreter ***\n",
    "- Comments are used to run lines of code"
   ]
  },
  {
   "attachments": {},
   "cell_type": "markdown",
   "metadata": {},
   "source": [
    "## How do you write a single line comment in Python?\n",
    "\n",
    "- Using a double slash (`//`) at the beginning of the line\n",
    "- Using a slash and a star (`/*`) at the beginning of the line\n",
    "- Using a hashtag (`#`) at the beginning of the line ***\n",
    "- Using a parenthesis at the beginning of the line"
   ]
  },
  {
   "attachments": {},
   "cell_type": "markdown",
   "metadata": {},
   "source": [
    "## How many comments can you add to your code?\n",
    "\n",
    "- One, at the beginning of the code\n",
    "- Two, one at the beginning and one at the end of the code\n",
    "- As many as you want ***\n",
    "- None, comments are not allowed in Python"
   ]
  }
 ],
 "metadata": {
  "language_info": {
   "name": "python"
  },
  "orig_nbformat": 4
 },
 "nbformat": 4,
 "nbformat_minor": 2
}
