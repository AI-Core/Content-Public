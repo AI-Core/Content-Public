{
 "cells": [
  {
   "cell_type": "markdown",
   "metadata": {},
   "source": [
    "# Imports"
   ]
  },
  {
   "cell_type": "markdown",
   "metadata": {},
   "source": [
    "## Introduction"
   ]
  },
  {
   "cell_type": "markdown",
   "metadata": {},
   "source": [
    "It is general knowledge that functions and classes are pieces of code. To improve script organisation, these pieces of code can be created or kept apart and subsequently imported."
   ]
  },
  {
   "cell_type": "code",
   "execution_count": null,
   "metadata": {},
   "outputs": [],
   "source": [
    "from utils import m_and_m\n",
    "m_and_m.mom_spaghetti_2()"
   ]
  },
  {
   "cell_type": "markdown",
   "metadata": {},
   "source": [
    "In the above code, m_and_m is a module. A module is a script that contains definitions and statements, usually functions. \n",
    "\n",
    "Important! After importing a module, if the import statement is rerun with the same module, Python will ignore that call because it assumes that it has already run the import statement and will simply load what it ran. Thus, if any change is made to the modules, the kernel must be reset to effect the changes."
   ]
  },
  {
   "cell_type": "markdown",
   "metadata": {},
   "source": [
    "It is also possible to call for a single function within a module."
   ]
  },
  {
   "cell_type": "code",
   "execution_count": null,
   "metadata": {},
   "outputs": [],
   "source": [
    "from utils.m_and_m import mom_spaghetti\n",
    "\n",
    "mom_spaghetti()\n"
   ]
  },
  {
   "cell_type": "markdown",
   "metadata": {},
   "source": [
    "Observe the \\_\\_init__ file in the utils directory. This informs Python that the directory can be treated as a package. Thus, the whole folder can be imported as one single script."
   ]
  },
  {
   "cell_type": "code",
   "execution_count": null,
   "metadata": {},
   "outputs": [],
   "source": [
    "from utils import * # This is calling the utils directory, and everything inside it (*)\n",
    "                    # Recall that in the __init__ file we specified __all__. It works the same\n",
    "                    # way magic methods work. We are telling python what to do when it sees the (*) operator\n"
   ]
  },
  {
   "cell_type": "markdown",
   "metadata": {},
   "source": [
    "The utils directory has two modules: m_and_m and fibo. Thus, by importing utils, you would have imported both m_and_m and fibo."
   ]
  },
  {
   "cell_type": "code",
   "execution_count": null,
   "metadata": {},
   "outputs": [],
   "source": [
    "fibo.fib(5)\n"
   ]
  },
  {
   "cell_type": "markdown",
   "metadata": {},
   "source": [
    "This same principle can be applied to the internet! A 'downloaded' library is basically someone else's code.\n",
    "\n",
    "Contributors can publish Python libraries to [PyPi](https://pypi.org) (the python package index).\n",
    "\n",
    "These libraries can be 'downloaded' using pip install [package] or conda install [package], after which they are stored in PATH."
   ]
  },
  {
   "cell_type": "code",
   "execution_count": null,
   "metadata": {},
   "outputs": [],
   "source": [
    "import numpy as np"
   ]
  },
  {
   "cell_type": "code",
   "execution_count": null,
   "metadata": {},
   "outputs": [],
   "source": [
    "import pandas as pd"
   ]
  }
 ],
 "metadata": {
  "interpreter": {
   "hash": "3d597f4c481aa0f25dceb95d2a0067e73c0966dcbd003d741d821a7208527ecf"
  },
  "kernelspec": {
   "display_name": "Python 3.9.1 64-bit ('base': conda)",
   "name": "python3"
  },
  "language_info": {
   "codemirror_mode": {
    "name": "ipython",
    "version": 3
   },
   "file_extension": ".py",
   "mimetype": "text/x-python",
   "name": "python",
   "nbconvert_exporter": "python",
   "pygments_lexer": "ipython3",
   "version": "3.8.11"
  }
 },
 "nbformat": 4,
 "nbformat_minor": 2
}
