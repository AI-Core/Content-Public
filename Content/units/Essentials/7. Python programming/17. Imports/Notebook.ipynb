{
 "cells": [
  {
   "cell_type": "markdown",
   "metadata": {},
   "source": [
    "# Imports"
   ]
  },
  {
   "cell_type": "markdown",
   "metadata": {},
   "source": [
    "## Introduction"
   ]
  },
  {
   "cell_type": "markdown",
   "metadata": {},
   "source": [
    "It is general knowledge that functions and classes are pieces of code. To improve script organisation, these pieces of code can be created or kept apart and subsequently imported."
   ]
  },
  {
   "cell_type": "code",
   "execution_count": null,
   "metadata": {},
   "outputs": [],
   "source": [
    "from utils import m_and_m\n",
    "m_and_m.mom_spaghetti_2()"
   ]
  },
  {
   "cell_type": "markdown",
   "metadata": {},
   "source": [
    "In the above code, m_and_m is a module. A module is a script that contains definitions and statements, usually functions. \n",
    "\n",
    "Important! After importing a module, if the import statement is rerun with the same module, Python will ignore that call because it assumes that it has already run the import statement and will simply load what it ran. Thus, if any change is made to the modules, the kernel must be reset to effect the changes."
   ]
  },
  {
   "cell_type": "markdown",
   "metadata": {},
   "source": [
    "It is also possible to call for a single function within a module."
   ]
  },
  {
   "cell_type": "code",
   "execution_count": null,
   "metadata": {},
   "outputs": [],
   "source": [
    "from utils.m_and_m import mom_spaghetti\n",
    "\n",
    "mom_spaghetti()\n"
   ]
  },
  {
   "cell_type": "markdown",
   "metadata": {},
   "source": [
    "Observe the \\_\\_init__ file in the utils directory. This informs Python that the directory can be treated as a package. Thus, the whole folder can be imported as one single script."
   ]
  },
  {
   "cell_type": "code",
   "execution_count": null,
   "metadata": {},
   "outputs": [],
   "source": [
    "from utils import * # This is calling the utils directory, and everything inside it (*)\n",
    "                    # Recall that in the __init__ file we specified __all__. It works the same\n",
    "                    # way magic methods work. We are telling python what to do when it sees the (*) operator\n"
   ]
  },
  {
   "cell_type": "markdown",
   "metadata": {},
   "source": [
    "The utils directory has two modules: m_and_m and fibo. Thus, by importing utils, you would have imported both m_and_m and fibo."
   ]
  },
  {
   "cell_type": "code",
   "execution_count": null,
   "metadata": {},
   "outputs": [],
   "source": [
    "fibo.fib(5)\n"
   ]
  },
  {
   "cell_type": "markdown",
   "metadata": {},
   "source": [
    "This same principle can be applied to the internet! A 'downloaded' library is basically someone else's code.\n",
    "\n",
    "Contributors can publish Python libraries to [PyPi](https://pypi.org) (the python package index).\n",
    "\n",
    "These libraries can be 'downloaded' using `pip install [package]` or `conda install [package]`, after which they are stored in `$PATH`."
   ]
  },
  {
   "cell_type": "code",
   "execution_count": null,
   "metadata": {},
   "outputs": [],
   "source": [
    "import numpy as np"
   ]
  },
  {
   "cell_type": "code",
   "execution_count": null,
   "metadata": {},
   "outputs": [],
   "source": [
    "import pandas as pd"
   ]
  },
  {
   "cell_type": "markdown",
   "metadata": {},
   "source": [
    "## Ordering of Import Statements\n",
    "\n",
    "According to the **PEP-8** style guidelines for writing Python code, the import statements at the top of a Python script should appear in the following order:\n",
    "\n",
    "1. Standard library imports\n",
    "2. Related third party imports\n",
    "3. Local application/library specific imports\n",
    "\n",
    "Here is an example of this in action:\n",
    "\n",
    "```python\n",
    "\n",
    "# Standard library imports\n",
    "import os\n",
    "import sys\n",
    "\n",
    "# Related third party imports\n",
    "import numpy as np\n",
    "import pandas as pd\n",
    "\n",
    "# Local application/library specific imports\n",
    "import my_local_module\n",
    "\n",
    "\n",
    "```\n",
    "\n",
    "In this example, `os` and `sys` are part of the Python standard library: they ship with any distribution of Python. `numpy` and `pandas` are third party libraries that are not included with Python and must be installed separately. Finally, `my_local_module` is an example of a locally defined module or library, for example a module you wrote yourself and wish to import into your main script.\n",
    "\n",
    "In addition to this convention from **PEP-8**, it is common practice to list the import statements within each section in alphabetical order, and group `from` statements separately from the others in the same section. For example:\n",
    "\n",
    "```python \n",
    "\n",
    "import os\n",
    "import sys\n",
    "\n",
    "import numpy as np\n",
    "import pandas as pd\n",
    "\n",
    "from sklearn import Datasets\n",
    "\n",
    "import my_local_module\n",
    "\n",
    "```"
   ]
  }
 ],
 "metadata": {
  "kernelspec": {
   "display_name": "base",
   "language": "python",
   "name": "python3"
  },
  "language_info": {
   "codemirror_mode": {
    "name": "ipython",
    "version": 3
   },
   "file_extension": ".py",
   "mimetype": "text/x-python",
   "name": "python",
   "nbconvert_exporter": "python",
   "pygments_lexer": "ipython3",
   "version": "3.10.9"
  },
  "vscode": {
   "interpreter": {
    "hash": "a2592652612463181e69ac003232387e3e9a99279aa6b168e76f5df16d5110f4"
   }
  }
 },
 "nbformat": 4,
 "nbformat_minor": 2
}
