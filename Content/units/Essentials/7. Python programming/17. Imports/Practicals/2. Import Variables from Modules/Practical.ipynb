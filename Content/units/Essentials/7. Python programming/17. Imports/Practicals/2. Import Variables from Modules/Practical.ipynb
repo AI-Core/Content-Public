{
 "cells": [
  {
   "cell_type": "markdown",
   "id": "5469fb2c",
   "metadata": {},
   "source": [
    "# Import Variables from Modules"
   ]
  },
  {
   "attachments": {},
   "cell_type": "markdown",
   "id": "7b6170da",
   "metadata": {},
   "source": [
    "#### 1. Import `x` from `module_2` and print it. \n",
    "\n",
    "You should see the message 'Hello, I am in module 2'"
   ]
  },
  {
   "cell_type": "code",
   "execution_count": null,
   "id": "f0e721ad",
   "metadata": {},
   "outputs": [],
   "source": []
  },
  {
   "attachments": {},
   "cell_type": "markdown",
   "id": "63d269bf",
   "metadata": {},
   "source": [
    "#### 2. Create another variable called `x` and assign it the value \"Hello, I am in main.py\". \n",
    "\n",
    "Then, print `x`. You should see the message \"Hello, I am in main.py\""
   ]
  },
  {
   "cell_type": "code",
   "execution_count": null,
   "id": "40db6beb",
   "metadata": {},
   "outputs": [],
   "source": []
  },
  {
   "attachments": {},
   "cell_type": "markdown",
   "id": "67f798cd",
   "metadata": {},
   "source": [
    "Notice that the value of `x` has changed now. This is because you overwrote the value of `x` when running `main.py`."
   ]
  }
 ],
 "metadata": {
  "kernelspec": {
   "display_name": "content-projects_new",
   "language": "python",
   "name": "python3"
  },
  "language_info": {
   "name": "python",
   "version": "3.10.8 (main, Nov 24 2022, 14:13:03) [GCC 11.2.0]"
  },
  "vscode": {
   "interpreter": {
    "hash": "4b961f8166aad6ccb4cf65d0f9c742ef9c6c23ffe83ad932438cd83ed96aebaf"
   }
  }
 },
 "nbformat": 4,
 "nbformat_minor": 5
}
