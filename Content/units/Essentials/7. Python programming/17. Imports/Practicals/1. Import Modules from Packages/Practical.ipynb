{
 "cells": [
  {
   "cell_type": "markdown",
   "id": "2e043e27",
   "metadata": {},
   "source": [
    "# Import Modules from Packages"
   ]
  },
  {
   "attachments": {},
   "cell_type": "markdown",
   "id": "82c947a8",
   "metadata": {},
   "source": [
    "#### 1. Import the function_package() from `package_1.module_1` and call it. \n",
    "\n",
    "You should see the message `\"I am in function_package() in package_1/module_1.py\"`"
   ]
  },
  {
   "cell_type": "code",
   "execution_count": null,
   "id": "c20f5e8c",
   "metadata": {},
   "outputs": [],
   "source": []
  },
  {
   "attachments": {},
   "cell_type": "markdown",
   "id": "006d0047",
   "metadata": {},
   "source": [
    "Notice that you can import modules that are inside a package, just like you can import modules that are in the same folder as your main file. This makes it easier to organise your code into different files and folders."
   ]
  },
  {
   "cell_type": "code",
   "execution_count": null,
   "id": "9ebf553c",
   "metadata": {},
   "outputs": [],
   "source": []
  }
 ],
 "metadata": {
  "kernelspec": {
   "display_name": "content-projects_new",
   "language": "python",
   "name": "python3"
  },
  "language_info": {
   "name": "python",
   "version": "3.10.8 (main, Nov 24 2022, 14:13:03) [GCC 11.2.0]"
  },
  "vscode": {
   "interpreter": {
    "hash": "4b961f8166aad6ccb4cf65d0f9c742ef9c6c23ffe83ad932438cd83ed96aebaf"
   }
  }
 },
 "nbformat": 4,
 "nbformat_minor": 5
}
