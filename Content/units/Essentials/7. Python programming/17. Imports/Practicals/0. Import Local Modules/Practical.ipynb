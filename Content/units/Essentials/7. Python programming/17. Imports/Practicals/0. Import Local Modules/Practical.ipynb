{
 "cells": [
  {
   "cell_type": "markdown",
   "id": "915a9dec",
   "metadata": {},
   "source": [
    "# Import Local Modules"
   ]
  },
  {
   "attachments": {},
   "cell_type": "markdown",
   "id": "397ee34f",
   "metadata": {},
   "source": [
    "\n",
    "#### 1. Import function_1 from `module_1` and call it. \n",
    "\n",
    "You should see the message \"This is function 1 in module 1\""
   ]
  },
  {
   "cell_type": "code",
   "execution_count": null,
   "id": "7c1d7926",
   "metadata": {},
   "outputs": [],
   "source": []
  },
  {
   "attachments": {},
   "cell_type": "markdown",
   "id": "4ca4577d",
   "metadata": {},
   "source": [
    "#### 2. Import function_2 from `module_1` and call it.\n",
    "\n",
    "You should see the message \"This is function 2 in module 1\""
   ]
  },
  {
   "cell_type": "code",
   "execution_count": null,
   "id": "05db345d",
   "metadata": {},
   "outputs": [],
   "source": []
  },
  {
   "attachments": {},
   "cell_type": "markdown",
   "id": "bd06c2b4",
   "metadata": {},
   "source": [
    "#### 3. Now, import function_1 from `module_2` and call it. \n",
    "\n",
    "You should see the message \"This is function 1 in module 2\""
   ]
  },
  {
   "cell_type": "code",
   "execution_count": null,
   "id": "662b86d2",
   "metadata": {},
   "outputs": [],
   "source": []
  },
  {
   "attachments": {},
   "cell_type": "markdown",
   "id": "3f204195",
   "metadata": {},
   "source": [
    "Notice that you imported `function_1` twice. Which one got called when you ran `python main.py`? Why?"
   ]
  }
 ],
 "metadata": {
  "kernelspec": {
   "display_name": "content-projects_new",
   "language": "python",
   "name": "python3"
  },
  "language_info": {
   "codemirror_mode": {
    "name": "ipython",
    "version": 3
   },
   "file_extension": ".py",
   "mimetype": "text/x-python",
   "name": "python",
   "nbconvert_exporter": "python",
   "pygments_lexer": "ipython3",
   "version": "3.10.8 (main, Nov 24 2022, 14:13:03) [GCC 11.2.0]"
  },
  "vscode": {
   "interpreter": {
    "hash": "4b961f8166aad6ccb4cf65d0f9c742ef9c6c23ffe83ad932438cd83ed96aebaf"
   }
  }
 },
 "nbformat": 4,
 "nbformat_minor": 5
}
