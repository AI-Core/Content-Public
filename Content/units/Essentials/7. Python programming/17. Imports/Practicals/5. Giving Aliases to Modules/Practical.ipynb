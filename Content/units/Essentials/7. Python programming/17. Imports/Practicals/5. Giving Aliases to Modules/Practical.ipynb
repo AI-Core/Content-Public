{
 "cells": [
  {
   "cell_type": "markdown",
   "id": "08a490fe",
   "metadata": {},
   "source": [
    "# Giving Aliases to Modules"
   ]
  },
  {
   "attachments": {},
   "cell_type": "markdown",
   "id": "ad80b255",
   "metadata": {},
   "source": [
    "There are many 3rd party packages that share the same name for their modules. \n",
    "\n",
    "For example, `datetime` has a class called `time`, and there is another package called `time` that has a module called `time`.\n",
    "\n",
    "#### 1. Import `time` and call `time.time()`. You should see the current timestamp printed, something like \"1661958068.7087212\""
   ]
  },
  {
   "cell_type": "code",
   "execution_count": null,
   "id": "e6e78331",
   "metadata": {},
   "outputs": [],
   "source": []
  },
  {
   "attachments": {},
   "cell_type": "markdown",
   "id": "a9d6322f",
   "metadata": {},
   "source": [
    "#### 2. Now, from `datetime`, import `time` and call `time.time()`.\n",
    "\n",
    "You should see an error like: \"AttributeError: type object 'datetime.time' has no attribute 'time'\""
   ]
  },
  {
   "cell_type": "code",
   "execution_count": null,
   "id": "93d6b0c8",
   "metadata": {},
   "outputs": [],
   "source": []
  },
  {
   "attachments": {},
   "cell_type": "markdown",
   "id": "22216419",
   "metadata": {},
   "source": [
    "#### 3. Instead of calling `time.time()`, call `time()`.\n",
    "\n",
    "You should see a time printed, in this case \"00:00:00\""
   ]
  },
  {
   "cell_type": "code",
   "execution_count": null,
   "id": "4ed7859b",
   "metadata": {},
   "outputs": [],
   "source": []
  },
  {
   "attachments": {},
   "cell_type": "markdown",
   "id": "15180496",
   "metadata": {},
   "source": [
    "This is because both `time` calls are trying to call different functions with the same name. The first time you were calling `time.time()`, which is a function that returns the current timestamp. The second time you were calling the `time()` class, which returns an object with the time you specified.\n",
    "\n",
    "If you want to tell them apart, you can give them aliases."
   ]
  },
  {
   "attachments": {},
   "cell_type": "markdown",
   "id": "4ffb9ee3",
   "metadata": {},
   "source": [
    "#### 4. From `datetime`, import `time` as `datetime_time` and call `datetime_time()`.\n",
    "\n",
    "You should see a time printed, in this case \"00:00:00\""
   ]
  },
  {
   "cell_type": "code",
   "execution_count": null,
   "id": "91321cd5",
   "metadata": {},
   "outputs": [],
   "source": []
  },
  {
   "attachments": {},
   "cell_type": "markdown",
   "id": "2665cbbf",
   "metadata": {},
   "source": [
    "#### 5. From `time`, import `time` as `time_time` and call `time_time()`.\n",
    "\n",
    "You should see the current timestamp printed, something like \"1661958068.7087212\""
   ]
  },
  {
   "cell_type": "code",
   "execution_count": null,
   "id": "2f54c3bb",
   "metadata": {},
   "outputs": [],
   "source": []
  }
 ],
 "metadata": {
  "kernelspec": {
   "display_name": "content-projects_new",
   "language": "python",
   "name": "python3"
  },
  "language_info": {
   "name": "python",
   "version": "3.10.8 (main, Nov 24 2022, 14:13:03) [GCC 11.2.0]"
  },
  "vscode": {
   "interpreter": {
    "hash": "4b961f8166aad6ccb4cf65d0f9c742ef9c6c23ffe83ad932438cd83ed96aebaf"
   }
  }
 },
 "nbformat": 4,
 "nbformat_minor": 5
}
