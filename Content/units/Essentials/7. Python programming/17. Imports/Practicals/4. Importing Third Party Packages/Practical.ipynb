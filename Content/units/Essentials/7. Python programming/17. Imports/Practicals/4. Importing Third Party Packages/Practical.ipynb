{
 "cells": [
  {
   "cell_type": "markdown",
   "id": "8bbdb49d",
   "metadata": {},
   "source": [
    "# Importing 3rd Party Packages"
   ]
  },
  {
   "attachments": {},
   "cell_type": "markdown",
   "id": "06304c7f",
   "metadata": {},
   "source": [
    "You can import packages that are not part of the standard library. These are called third-party packages. You can install them using `pip` or `conda`. In this practical, we will use the `pandas` package.\n",
    "\n",
    "On Google Colab, you can install packages using the `!pip install` command. For example, to install the `pandas` package, you can run the following command:\n",
    "\n",
    "```python\n",
    "!pip install pandas\n",
    "```\n",
    "\n",
    "By default, the `pandas` package is installed on Google Colab. So, you don't need to install it before you can import it.\n",
    "\n",
    "Once installed, you can import the package using the `import` keyword\n",
    "\n",
    "#### 1. Import `pandas`"
   ]
  },
  {
   "cell_type": "code",
   "execution_count": null,
   "id": "f40fa796",
   "metadata": {},
   "outputs": [],
   "source": []
  },
  {
   "attachments": {},
   "cell_type": "markdown",
   "id": "a94e94ab",
   "metadata": {},
   "source": [
    "#### 2. Packages can be imported with an alias. For example, `pandas` can be set as `pd`. Import `pandas` with the alias `pd`."
   ]
  },
  {
   "cell_type": "code",
   "execution_count": null,
   "id": "6429d4b1",
   "metadata": {},
   "outputs": [],
   "source": []
  },
  {
   "attachments": {},
   "cell_type": "markdown",
   "id": "09a64aab",
   "metadata": {},
   "source": [
    "#### 3. Import the `numpy` package with the alias `np`. \n",
    "\n",
    "Try using `numpy.random.randint()` to generate a random integer between 1 and 10.\n",
    "\n",
    "Try using `np.random.randint()` to generate a random integer between 1 and 10.\n",
    "\n",
    "Which one worked?"
   ]
  },
  {
   "cell_type": "code",
   "execution_count": null,
   "id": "f52bad51",
   "metadata": {},
   "outputs": [],
   "source": []
  }
 ],
 "metadata": {
  "kernelspec": {
   "display_name": "content-projects_new",
   "language": "python",
   "name": "python3"
  },
  "language_info": {
   "name": "python",
   "version": "3.10.8 (main, Nov 24 2022, 14:13:03) [GCC 11.2.0]"
  },
  "vscode": {
   "interpreter": {
    "hash": "4b961f8166aad6ccb4cf65d0f9c742ef9c6c23ffe83ad932438cd83ed96aebaf"
   }
  }
 },
 "nbformat": 4,
 "nbformat_minor": 5
}
