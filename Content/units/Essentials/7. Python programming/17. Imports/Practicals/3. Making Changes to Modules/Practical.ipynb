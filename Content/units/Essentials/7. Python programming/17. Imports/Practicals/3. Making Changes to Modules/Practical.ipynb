{
 "cells": [
  {
   "cell_type": "markdown",
   "id": "3ded6894",
   "metadata": {},
   "source": [
    "# Making Changes to Modules"
   ]
  },
  {
   "attachments": {},
   "cell_type": "markdown",
   "id": "27b2554d",
   "metadata": {},
   "source": [
    "#### 1. From `module_1`, import `function_1` and call it. T\n",
    "\n",
    "You should see the message \"This is function 1 in module 1\""
   ]
  },
  {
   "cell_type": "code",
   "execution_count": null,
   "id": "16f01923",
   "metadata": {},
   "outputs": [],
   "source": []
  },
  {
   "attachments": {},
   "cell_type": "markdown",
   "id": "23f50f94",
   "metadata": {},
   "source": [
    "#### 2. Now, open `module_1.py` and change the message to \"This is function 1 in module 1. I have been changed!\". Then, import `function_1` again and call it.\n",
    "\n",
    "Has the message changed?"
   ]
  },
  {
   "cell_type": "code",
   "execution_count": null,
   "id": "3d4e0669",
   "metadata": {},
   "outputs": [],
   "source": []
  },
  {
   "attachments": {},
   "cell_type": "markdown",
   "id": "d7c65fcb",
   "metadata": {},
   "source": [
    "The message is the same as before, even though you changed it in `module_1.py`. This is because you imported `function_1` before you made the change. If you want to see the changes, you will need to restart the kernel and run the cell again."
   ]
  },
  {
   "attachments": {},
   "cell_type": "markdown",
   "id": "de9fc9ca",
   "metadata": {},
   "source": [
    "#### 3. Restart the kernel, import `function_1` again and call it.\n",
    "\n",
    "To restart the kernel on Google Colab, you need to click on the \"Runtime\" menu and then click on \"Restart runtime\""
   ]
  },
  {
   "cell_type": "code",
   "execution_count": null,
   "id": "25101f5a",
   "metadata": {},
   "outputs": [],
   "source": []
  },
  {
   "attachments": {},
   "cell_type": "markdown",
   "id": "38a8e0ab",
   "metadata": {},
   "source": [
    "You should see the message \"This is function 1 in module 1. I have been changed!\""
   ]
  }
 ],
 "metadata": {
  "kernelspec": {
   "display_name": "content-projects_new",
   "language": "python",
   "name": "python3"
  },
  "language_info": {
   "name": "python",
   "version": "3.10.8 (main, Nov 24 2022, 14:13:03) [GCC 11.2.0]"
  },
  "vscode": {
   "interpreter": {
    "hash": "4b961f8166aad6ccb4cf65d0f9c742ef9c6c23ffe83ad932438cd83ed96aebaf"
   }
  }
 },
 "nbformat": 4,
 "nbformat_minor": 5
}
