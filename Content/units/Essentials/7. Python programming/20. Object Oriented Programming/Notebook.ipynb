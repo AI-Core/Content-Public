{
 "cells": [
  {
   "cell_type": "markdown",
   "metadata": {},
   "source": [
    "# Object-Oriented Programming"
   ]
  },
  {
   "cell_type": "markdown",
   "metadata": {},
   "source": [
    "## Objects in Python"
   ]
  },
  {
   "attachments": {},
   "cell_type": "markdown",
   "metadata": {},
   "source": [
    "Object-oriented programming (OOP) is a programming paradigm where everything revolves around objects. Before we proceed, what is an object?\n",
    "\n",
    "Everything in Python is an object. When a variable is declared and assigned an object, the variable becomes an instance of that object."
   ]
  },
  {
   "cell_type": "code",
   "execution_count": null,
   "metadata": {},
   "outputs": [],
   "source": [
    "# integers are objects\n",
    "x = 6\n",
    "# floats are objects\n",
    "y = 4.2\n",
    "# complex numbers are objects\n",
    "z = 4 + 5j\n",
    "# Strings are objects\n",
    "sentence = 'I am a string object, but \"sentence\" is an instance of a string object'"
   ]
  },
  {
   "cell_type": "code",
   "execution_count": null,
   "metadata": {},
   "outputs": [],
   "source": [
    "print(z)"
   ]
  },
  {
   "attachments": {},
   "cell_type": "markdown",
   "metadata": {},
   "source": [
    "Objects have attributes and methods that can be accessed using dot (`.`) notation."
   ]
  },
  {
   "cell_type": "code",
   "execution_count": null,
   "metadata": {},
   "outputs": [],
   "source": [
    "print(z.real) # real is an attribute that corresponds to the real part of a complex number\n",
    "print(z.imag) # imag is an attribute that corresponds to the imaginary part of a complex number\n",
    "print(z.conjugate()) # conjugate is a method that returns the conjugate of the complex number"
   ]
  },
  {
   "cell_type": "markdown",
   "metadata": {},
   "source": [
    "Internally, Python has the code to create all these objects. The code acts as a blueprint; therefore, every new instance that is created is consistent. The blueprint is called a class."
   ]
  },
  {
   "cell_type": "code",
   "execution_count": null,
   "metadata": {},
   "outputs": [],
   "source": [
    "help(str) # You can obtain further information on this 'blueprint' using the help function. "
   ]
  },
  {
   "cell_type": "markdown",
   "metadata": {},
   "source": [
    "## Introduction to OOP \n"
   ]
  },
  {
   "cell_type": "markdown",
   "metadata": {},
   "source": [
    "- In most cases, code can be more neatly organised on a conceptual level by grouping related functions together into a class.\n",
    "- This makes it considerably easy to handle repetitive tasks for similar data types, similar to the way that we use loops/functions."
   ]
  },
  {
   "cell_type": "code",
   "execution_count": null,
   "metadata": {},
   "outputs": [],
   "source": [
    "# Example of unorganised code\n",
    "# Say you want to track the employees in an organisation.\n",
    "\n",
    "spongebob = ['SpongeBob SquarePants', 'Fry Cook', 'Sea Sponge', 1500]\n",
    "squidward = ['Squidward Tentacles', 'Cashier', 'Octopus', 700]\n",
    "krabs = ['Eugene Krabs', 'Owner', 'Crab', 200000]\n",
    "patrick = ['Patrick Star', 'Starfish', 0]"
   ]
  },
  {
   "cell_type": "markdown",
   "metadata": {},
   "source": [
    "Although this appears neat, there is still a problem. When handling large code, it might be difficult to remember the structure of each employee. There is a list here, and it might be difficult to remember the structure of the list (indices)."
   ]
  },
  {
   "cell_type": "markdown",
   "metadata": {},
   "source": [
    "For instance, if you have a large piece of code and have to retrieve krabs[0] several lines away, how can you ascertain that index 0 corresponds to the name?\n",
    " \n",
    "In the above example, observe that Patrick has no position; thus, while for the rest, index 1 corresponds to the position, for Patrick, it corresponds to the species.\n",
    "\n",
    "Functions can be exploited to address this limitation, as shown below:\n"
   ]
  },
  {
   "cell_type": "code",
   "execution_count": null,
   "metadata": {},
   "outputs": [],
   "source": [
    "def employee(name, position, species, salary):\n",
    "    return {'Name' : name, 'Position': position, 'Species': species, 'Salary': salary}\n",
    "\n",
    "spongebob = employee('SpongeBob SquarePants', 'Fry Cook', 'Sea Sponge', 1500)\n",
    "squidward = employee('Squidward Tentacles', 'Cashier', 'Octopus', 700)\n",
    "krabs = employee('Eugene Krabs', 'Owner', 'Crab', 200000)\n",
    "patrick = employee('Patrick Star', None, 'Starfish', 0)"
   ]
  },
  {
   "cell_type": "markdown",
   "metadata": {},
   "source": [
    "In the above code, we create a function called employee, which returns the name, position, species and salary. Subsequently, we add some actions to each employee."
   ]
  },
  {
   "cell_type": "code",
   "execution_count": null,
   "metadata": {},
   "outputs": [],
   "source": [
    "def increase_salary(employee, amount):\n",
    "    employee[\"Salary\"] += amount"
   ]
  },
  {
   "cell_type": "code",
   "execution_count": null,
   "metadata": {},
   "outputs": [],
   "source": [
    "increase_salary(patrick, 100)\n",
    "print(patrick[\"Salary\"])"
   ]
  },
  {
   "cell_type": "markdown",
   "metadata": {},
   "source": [
    "\n",
    "One solution would be to use dictionaries; this way, it will be easy to remember the position of each value. However, that might leave room for errors because of the required coding for adding new keys to the employees.\n",
    "\n",
    "In this situation, objects are the most suitable, where\n",
    " - attributes are predefined and limited to some boundaries.\n",
    " - specific behaviours can be defined (functions limit us to the method characteristics of the objects that already exist in Python).\n",
    " - classes act as blueprints for these use cases."
   ]
  },
  {
   "cell_type": "markdown",
   "metadata": {},
   "source": [
    "\n",
    "## Classes\n",
    "\n",
    "-  Classes are the 'blueprints' for creating objects.\n",
    "- They have a user-defined structure so that every object created with this class is consistent.\n",
    "- Classes do not contain any data.\n",
    "- They usually contain the attributes and methods that are common to the objects built with these classes.\n",
    "- When an object is assigned to a variable, the variable becomes an instance of the object.\n"
   ]
  },
  {
   "cell_type": "markdown",
   "metadata": {},
   "source": [
    "### Basic syntax\n",
    "The basic syntax for creating a class is shown below: "
   ]
  },
  {
   "cell_type": "code",
   "execution_count": null,
   "metadata": {},
   "outputs": [],
   "source": [
    "# class definition\n",
    "class ClassName:\n",
    "\n",
    "    # class constructor\n",
    "    def __init__(self, param1, param2=1):\n",
    "\n",
    "        # attributes\n",
    "        self.param1 = param1\n",
    "        self.param2 = param2\n",
    "\n",
    "        # attribute defined using other attributes\n",
    "        self.param3 = param2 * 2\n",
    "\n",
    "        # attribute defined without a parameter\n",
    "        self.param4 = 0\n",
    "\n",
    "    # methods\n",
    "    def some_method(self, ext_input):  # can add external arguments\n",
    "        return self.param1 + ext_input + ClassName.att\n",
    "\n",
    "    def some_other_method(self, ext_input1, ext_input2):  # method to modify attribute\n",
    "        self.param4 = ext_input1 + ext_input2\n"
   ]
  },
  {
   "cell_type": "markdown",
   "metadata": {},
   "source": [
    "For our employee example, we can define a class following the above syntax:"
   ]
  },
  {
   "cell_type": "code",
   "execution_count": null,
   "metadata": {},
   "outputs": [],
   "source": [
    "class Employee:  # The name of the class has to be UpperCamelCase or PascalCase.\n",
    "    # __init__ is the constructor, and .__init__() sets the initial state of the object.\n",
    "    def __init__(self, name, position, species, total_hours, salary):\n",
    "        self.name = name  # We will discuss 'self' shortly; basically, it is a way to set an attribute to an instance.\n",
    "        self.position = position\n",
    "        self.species = species\n",
    "        self.total_hours = total_hours\n",
    "        self.salary = salary\n",
    "\n",
    "    def increase_salary(self, amount):\n",
    "        self.salary = self.salary + amount\n",
    "        self.promotion()\n",
    "\n",
    "    def work(self):\n",
    "        '''\n",
    "        Each time we call the work function, the total number of hours increases by one.\n",
    "        If the total number of hours reaches 40, 80, 120..., we will increase the employee salary.\n",
    "        '''\n",
    "        self.total_hours += 1\n",
    "        if self.total_hours % 40 == 0:\n",
    "            self.increase_salary(50)\n",
    "\n",
    "    def promotion(self):\n",
    "        if self.salary > 200000:\n",
    "            self.position = 'Co-owner'\n"
   ]
  },
  {
   "cell_type": "markdown",
   "metadata": {},
   "source": [
    "Employee is now the blueprint that guides the construction of an employee object."
   ]
  },
  {
   "cell_type": "markdown",
   "metadata": {},
   "source": [
    "Below, we see this in action with the Employee class."
   ]
  },
  {
   "cell_type": "code",
   "execution_count": null,
   "metadata": {},
   "outputs": [],
   "source": [
    "spongebob = Employee(name='SpongeBob SquarePants', position='Fry Cook', species='Sea Sponge', total_hours=0, salary=1500)\n",
    "\n",
    "# spongebob is the instance where the Employee object is built. Thus, when instantiating spongebob, self refers to spongebob."
   ]
  },
  {
   "cell_type": "markdown",
   "metadata": {},
   "source": [
    "Here, spongebob is an instance of the Employee object. It has attributes (name, position, species, salary) and methods (increase_salary and work).\n",
    "\n",
    "*Practical application*\n",
    "\n",
    "As a demonstration, we apply the methods practically."
   ]
  },
  {
   "cell_type": "code",
   "execution_count": null,
   "metadata": {},
   "outputs": [],
   "source": [
    "# If spongebob works 8 hours a day, 5 days a week, and 40 weeks a year,\n",
    "# what would his salary be at the end of the year?\n",
    "\n",
    "# How many hours does SpongeBob need to work to be promoted to co-owner?\n"
   ]
  },
  {
   "cell_type": "code",
   "execution_count": null,
   "metadata": {},
   "outputs": [],
   "source": [
    "for _ in range(8 * 5 * 40):\n",
    "    spongebob.work() # Increase .total_hours by 1 hour\n",
    "\n",
    "print(spongebob.salary)"
   ]
  },
  {
   "cell_type": "code",
   "execution_count": null,
   "metadata": {},
   "outputs": [],
   "source": [
    "spongebob = Employee(name='SpongeBob SquarePants', position='Fry Cook', species='Sea Sponge', total_hours=0, salary=1500)\n",
    "\n",
    "# spongebob is the instance where the Employee object is built. Thus, when instantiating Spongebob, self refers to spongebob.\n",
    "while spongebob.position != 'Co-owner':\n",
    "    spongebob.work()\n",
    "\n",
    "print(spongebob.total_hours)"
   ]
  },
  {
   "attachments": {},
   "cell_type": "markdown",
   "metadata": {},
   "source": [
    "### Class inheritance\n",
    "- Classes can be employed as a base to create other classes; this is called __INHERITANCE__.\n",
    "- The class used as a base is called the __BASE CLASS__ or __Parent__.\n",
    "- The new class is called the __DERIVED CLASS(ES)__ or __Child(ren)__.\n",
    "- The derived classes 'inherit' features from the base class.\n",
    "- Similar to 'self' above, super() can be utilised to access the elements (attributes and methods) in the parent.\n",
    "- Additionally, the inherited methods can be overwritten using the same method name.\n",
    "- New methods can be defined using novel method names."
   ]
  },
  {
   "cell_type": "code",
   "execution_count": null,
   "metadata": {},
   "outputs": [],
   "source": [
    "class Rectangle:\n",
    "    def __init__(self, length, width):\n",
    "        self.length = length\n",
    "        self.width = width\n",
    "\n",
    "    def area(self):\n",
    "        return self.length * self.width\n",
    "\n",
    "    def perimeter(self):\n",
    "        return 2 * self.length + 2 * self.width\n"
   ]
  },
  {
   "cell_type": "code",
   "execution_count": null,
   "metadata": {},
   "outputs": [],
   "source": [
    "rec_1 = Rectangle(2, 5)\n",
    "print(rec_1.area())\n",
    "print(rec_1.perimeter())\n"
   ]
  },
  {
   "cell_type": "code",
   "execution_count": null,
   "metadata": {},
   "outputs": [],
   "source": [
    "# Observe the Square class\n",
    "\n",
    "class Square:\n",
    "    def __init__(self, length):\n",
    "        self.length = length\n",
    "\n",
    "    def area(self):\n",
    "        return self.length * self.length\n",
    "\n",
    "    def perimeter(self):\n",
    "        return 4 * self.length\n"
   ]
  },
  {
   "cell_type": "markdown",
   "metadata": {},
   "source": [
    "Basically, the Square class is the same as the Rectangle class, i.e. both length and width are the same. In other words, both attributes are not required to create a Square object.\n",
    "\n",
    "To inherit a __base class__, the super() function can be applied, which, in short, is similar to using self, but with the base class."
   ]
  },
  {
   "cell_type": "code",
   "execution_count": null,
   "metadata": {},
   "outputs": [],
   "source": [
    "square = Square(4)\n",
    "square.area()\n"
   ]
  },
  {
   "cell_type": "code",
   "execution_count": null,
   "metadata": {},
   "outputs": [],
   "source": [
    "class Rectangle:\n",
    "    def __init__(self, length, width):\n",
    "        self.length = length\n",
    "        self.width = width\n",
    "\n",
    "    def area(self):\n",
    "        return self.length * self.width\n",
    "\n",
    "    def perimeter(self):\n",
    "        return 2 * self.length + 2 * self.width\n",
    "\n",
    "\n",
    "class Square(Rectangle):\n",
    "    def __init__(self, length):\n",
    "        super().__init__(length, length)\n",
    "        self.width\n",
    "        # super is calling the __init__ in Rectangle, which is similar to\n",
    "        # instantiating a Rectangle object with length=length and width=length.\n",
    "        # The new class will also obtain (inherit) the rectangle's methods.\n"
   ]
  },
  {
   "cell_type": "code",
   "execution_count": null,
   "metadata": {},
   "outputs": [],
   "source": [
    "rectangle = Rectangle(4, 4)\n",
    "square = Square(4)\n",
    "print(f'rectangle area is {rectangle.area()}')\n",
    "print(f'square area is {square.area()}')\n",
    "print(f'rectangle type is {type(rectangle)}')\n",
    "print(f'square type is {type(square)}')\n"
   ]
  },
  {
   "cell_type": "markdown",
   "metadata": {},
   "source": [
    "The functions, issubclass and isinstance, can be utilised to examine the relation between the classes. "
   ]
  },
  {
   "cell_type": "code",
   "execution_count": null,
   "metadata": {},
   "outputs": [],
   "source": [
    "print(f'Is the Square Class a subclass of the Rectangle Class?: {issubclass(Square, Rectangle)}')\n",
    "print(f'Is the Rectagle Class a subclass of the Square Class?: {issubclass(Rectangle, Square)}')\n",
    "print(f'Is square an instance of a Square object?: {isinstance(square, Square)}') \n",
    "print(f'Is \"Hello\" an instance of a String Object?: {isinstance(\"Hello\", str)}')\n",
    "print(f'Is \"Hello\" an instance of a Integer Object?: {isinstance(\"Hello\", int)}')\n",
    "print(f'Is square an instance of a Rectangle object?: {isinstance(square, Rectangle)}')\n",
    "print(f'Is rectangle an instance of a Square object?: {isinstance(rectangle, Square)}')\n"
   ]
  },
  {
   "cell_type": "markdown",
   "metadata": {},
   "source": [
    "Although only the length was supplied to Square, Square implicitly inherits all attributes from Rectangle."
   ]
  },
  {
   "cell_type": "code",
   "execution_count": null,
   "metadata": {},
   "outputs": [],
   "source": [
    "print(square.__dict__)\n",
    "# __dict__ is a method that returns a dictionary with the \n",
    "# attributes and values of an instance.\n",
    "print(dir(square))"
   ]
  },
  {
   "cell_type": "markdown",
   "metadata": {},
   "source": [
    "Consider that we do not have to call super().\\_\\_init__() every time we inherit a parent (or base class). We call it if we intend to change the number of attributes to be called by the child(ren). \n",
    "\n",
    "In the following example, a Cube class is created, and the volume and surface area are calculated. Thus, one length is all that is required to calculate everything.\n",
    "\n",
    "Additionally, we can call for methods that were defined in the parent. In the example above, self was required to call a method in the same class that was being defined (work method was calling the increase_salary method). To use a method from the parent (or the grandparent in this case), super() is required."
   ]
  },
  {
   "cell_type": "code",
   "execution_count": null,
   "metadata": {},
   "outputs": [],
   "source": [
    "class Square(Rectangle):\n",
    "    def __init__(self, length):\n",
    "        super().__init__(length, length)\n",
    "\n",
    "class Cube(Square):\n",
    "    # No __init__ is required, since it has the same __init__ function\n",
    "    # as Square (parent).\n",
    "    \n",
    "    def surface_area(self):\n",
    "        face_area = super().area()\n",
    "        return face_area * 6\n",
    "\n",
    "    def volume(self):\n",
    "        face_area = super().area()\n",
    "        return face_area * self.length\n",
    "    \n",
    "    def perimeter(self):\n",
    "        return 12 * self.length"
   ]
  },
  {
   "cell_type": "markdown",
   "metadata": {},
   "source": [
    "Things to note.\n",
    "- When inheriting, the __init__ from the base class is called by default. This explains why super() or __init__ was not required in Cube.\n",
    "- The methods added to the Cube class are not passed to Square or Rectangle.\n",
    "- Cube inherits implicitly from Rectangle (Grandparent)."
   ]
  },
  {
   "cell_type": "code",
   "execution_count": null,
   "metadata": {},
   "outputs": [],
   "source": [
    "cube = Cube(4)"
   ]
  },
  {
   "cell_type": "code",
   "execution_count": null,
   "metadata": {},
   "outputs": [],
   "source": [
    "print(cube.volume())\n",
    "print(cube.surface_area())\n",
    "print(cube.perimeter())"
   ]
  },
  {
   "cell_type": "code",
   "execution_count": null,
   "metadata": {},
   "outputs": [],
   "source": [
    "class Cube(Square):\n",
    "    def __init__(self, length):\n",
    "        print('I am a cube! Nice to meet you')\n",
    "        super().__init__(length)\n",
    "    # No __init__ is required, since it has the same __init__ function\n",
    "    # as Square (parent).\n",
    "\n",
    "    def surface_area(self):\n",
    "        face_area = super().area()\n",
    "        return face_area * 6\n",
    "\n",
    "    def volume(self):\n",
    "        face_area = super().area()\n",
    "        return face_area * self.length\n"
   ]
  },
  {
   "cell_type": "markdown",
   "metadata": {},
   "source": [
    "Note that super().init is called to change the behaviour of the constructor. Upon inheriting a class, the class init method is also inherited."
   ]
  },
  {
   "cell_type": "code",
   "execution_count": null,
   "metadata": {},
   "outputs": [],
   "source": [
    "cube = Cube(4)\n",
    "cube2 = Cube(5)\n",
    "cube.length"
   ]
  },
  {
   "cell_type": "markdown",
   "metadata": {},
   "source": [
    "Below, we ascertain that Cube is still a subclass of Rectangle, and similar to Square, Cube is considered an instance of its grandparent."
   ]
  },
  {
   "cell_type": "code",
   "execution_count": null,
   "metadata": {},
   "outputs": [],
   "source": [
    "print(f'Is the Cube Class a subclass of the Square Class?: {issubclass(Cube, Square)}')\n",
    "print(f'Is the Cube Class a subclass of the Rectangle Class?: {issubclass(Cube, Rectangle)}')\n",
    "print(f'Is cube an instance of a Square object?: {isinstance(cube, Square)}') \n",
    "print(f'Is cube an instance of a Rectangle object?: {isinstance(cube, Rectangle)}') "
   ]
  },
  {
   "cell_type": "markdown",
   "metadata": {},
   "source": [
    "Children can override their parent's methods. For example, imagine defining a RightTriangle class. The area and perimeter are different from those of Rectangle; therefore, the Rectangle methods can be overridden by rewriting the methods in the child class."
   ]
  },
  {
   "cell_type": "code",
   "execution_count": null,
   "metadata": {},
   "outputs": [],
   "source": [
    "class RightTriangle(Rectangle):\n",
    "    def area(self):\n",
    "        return self.length * self.width / 2\n",
    "    def perimeter(self):\n",
    "        hypotenuse = (self.width ** 2 + self.length ** 2) ** 0.5\n",
    "        return hypotenuse + self.width + self.length"
   ]
  },
  {
   "cell_type": "code",
   "execution_count": null,
   "metadata": {},
   "outputs": [],
   "source": [
    "right_triangle = RightTriangle(3, 4)\n",
    "print(dir(right_triangle))\n",
    "print(right_triangle.area())\n",
    "print(right_triangle.perimeter())"
   ]
  },
  {
   "cell_type": "markdown",
   "metadata": {},
   "source": [
    "### Multiple inheritance\n",
    "\n"
   ]
  },
  {
   "cell_type": "markdown",
   "metadata": {},
   "source": [
    "Thus far, we have discussed multilevel inheritance (grandparent > parent > child). Multiple inheritance also exists, which corresponds to a father - Mother > child relationship."
   ]
  },
  {
   "cell_type": "markdown",
   "metadata": {},
   "source": [
    "<p align=center><img src=images/Multiple_OOP.png width=500></p>"
   ]
  },
  {
   "cell_type": "markdown",
   "metadata": {},
   "source": [
    "Consider the below Right Pyramid example, with faces comprising one square and four triangles.\n",
    "\n",
    "<p align=center><img src=images/right_pyramid.png width=500></p>"
   ]
  },
  {
   "cell_type": "code",
   "execution_count": null,
   "metadata": {},
   "outputs": [],
   "source": [
    "class Triangle:\n",
    "    def __init__(self, base, height):\n",
    "        self.base = base\n",
    "        self.height = height\n",
    "\n",
    "    def area(self):\n",
    "        return 0.5 * self.base * self.height\n",
    "\n",
    "class RightPyramid(Triangle, Square):\n",
    "    def __init__(self, base, slant_height):\n",
    "        self.base = base\n",
    "        self.slant_height = slant_height\n",
    "\n",
    "    def area(self):\n",
    "        base_area = super().area()\n",
    "        perimeter = super().perimeter()\n",
    "        return 0.5 * perimeter * self.slant_height + base_area\n"
   ]
  },
  {
   "cell_type": "markdown",
   "metadata": {},
   "source": [
    "This example declares a Triangle class and a RightPyramid class that inherits from both Square and Triangle.\n",
    "\n",
    "We introduce another .area() method that uses super() similar to the case in single inheritance, aiming to access the .perimeter() and .area() methods defined in the Rectangle class. "
   ]
  },
  {
   "cell_type": "code",
   "execution_count": null,
   "metadata": {},
   "outputs": [],
   "source": [
    "print(RightPyramid.mro())\n",
    "pyramid = RightPyramid(2, 4)\n",
    "pyramid.area()"
   ]
  },
  {
   "cell_type": "markdown",
   "metadata": {},
   "source": [
    "What occurred here? Why is height required? By inspecting the error and determining where the height is required, we establish that the area must be obtained from the Square base and that retrieving the height here is pointless.\n",
    "\n",
    "RightPyramid.\\_\\_mro__ Method Resolution Order provides the order in which the child will search the parent's methods.\n",
    "\n",
    "This informs us that the Rightpyramid's methods will be searched first, followed by Triangle, Square, and Rectangle. Triangle.area() expects .height and .base attributes, hence the AttributeError thrown by Python."
   ]
  },
  {
   "cell_type": "code",
   "execution_count": null,
   "metadata": {},
   "outputs": [],
   "source": [
    "class RightPyramid(Square, Triangle): # Change the order of the parents\n",
    "    def __init__(self, base, slant_height):\n",
    "        self.base = base\n",
    "        self.slant_height = slant_height\n",
    "        super().__init__(self.base) # Modify the Square class substituting length with base\n",
    "\n",
    "    def area(self):\n",
    "        base_area = super().area()\n",
    "        perimeter = super().perimeter()\n",
    "        return 0.5 * perimeter * self.slant_height + base_area\n"
   ]
  },
  {
   "cell_type": "code",
   "execution_count": null,
   "metadata": {},
   "outputs": [],
   "source": [
    "pyramid = RightPyramid(2, 4)\n",
    "print(RightPyramid.__mro__)\n",
    "pyramid.__dict__"
   ]
  },
  {
   "cell_type": "markdown",
   "metadata": {},
   "source": [
    "In multiple inheritance, the classes should be designed such that they are in sync. For example, the same name should not be used for methods, and if necessary, the name of said methods should be adjusted slightly. For instance, the Triangle class’s .area() method  can be named .tri_area()."
   ]
  },
  {
   "cell_type": "code",
   "execution_count": null,
   "metadata": {},
   "outputs": [],
   "source": [
    "class Triangle:\n",
    "    def __init__(self, base, height):\n",
    "        self.base = base\n",
    "        self.height = height\n",
    "        super().__init__()\n",
    "\n",
    "    def tri_area(self):\n",
    "        return 0.5 * self.base * self.height\n"
   ]
  },
  {
   "cell_type": "code",
   "execution_count": null,
   "metadata": {},
   "outputs": [],
   "source": [
    "class Square(Rectangle):\n",
    "    def __init__(self, length):\n",
    "        super().__init__(length, length)\n",
    "\n",
    "class Triangle:\n",
    "    def __init__(self, base, height):\n",
    "        self.base = base\n",
    "        self.height = height\n",
    "        super().__init__()\n",
    "\n",
    "    def tri_area(self):\n",
    "        return 0.5 * self.base * self.height\n",
    "\n",
    "class RightPyramid(Square, Triangle):\n",
    "    def __init__(self, base, slant_height):\n",
    "        self.base = base\n",
    "        self.slant_height = slant_height\n",
    "        super().__init__(self.base)\n",
    "        \n",
    "    def area(self):\n",
    "        base_area = super().area()\n",
    "        perimeter = super().perimeter()\n",
    "        return 0.5 * perimeter * self.slant_height + base_area\n",
    "\n",
    "    def area_2(self):\n",
    "        base_area = super().area()\n",
    "        triangle_area = super().tri_area()\n",
    "        return triangle_area * 4 + base_area\n"
   ]
  },
  {
   "cell_type": "code",
   "execution_count": null,
   "metadata": {},
   "outputs": [],
   "source": [
    "right_pyramid = RightPyramid(3, 4)\n",
    "print(right_pyramid.area())\n",
    "print(right_pyramid.area_2())\n"
   ]
  },
  {
   "cell_type": "code",
   "execution_count": null,
   "metadata": {},
   "outputs": [],
   "source": [
    "class Rectangle:\n",
    "    def __init__(self, length, width, **kwargs):\n",
    "        self.length = length\n",
    "        self.width = width\n",
    "        super().__init__(**kwargs)\n",
    "\n",
    "    def area(self):\n",
    "        return self.length * self.width\n",
    "\n",
    "    def perimeter(self):\n",
    "        return 2 * self.length + 2 * self.width\n",
    "\n",
    "# Here, we declare that the Square class inherits from \n",
    "# the Rectangle class.\n",
    "class Square(Rectangle):\n",
    "    def __init__(self, length, **kwargs):\n",
    "        super().__init__(length=length, width=length, **kwargs)\n",
    "\n",
    "class Cube(Square):\n",
    "    def surface_area(self):\n",
    "        face_area = super().area()\n",
    "        return face_area * 6\n",
    "\n",
    "    def volume(self):\n",
    "        face_area = super().area()\n",
    "        return face_area * self.length\n",
    "\n",
    "class Triangle:\n",
    "    def __init__(self, base, height, **kwargs):\n",
    "        self.base = base\n",
    "        self.height = height\n",
    "        super().__init__(**kwargs)\n",
    "\n",
    "    def tri_area(self):\n",
    "        return 0.5 * self.base * self.height\n",
    "\n",
    "class RightPyramid(Square, Triangle):\n",
    "    def __init__(self, base, slant_height, **kwargs):\n",
    "        self.base = base\n",
    "        self.slant_height = slant_height\n",
    "        kwargs[\"height\"] = slant_height\n",
    "        kwargs[\"length\"] = base\n",
    "        super().__init__(base=base, **kwargs)\n",
    "\n",
    "    def area(self):\n",
    "        base_area = super().area()\n",
    "        perimeter = super().perimeter()\n",
    "        return 0.5 * perimeter * self.slant_height + base_area\n",
    "\n",
    "    def area_2(self):\n",
    "        base_area = super().area()\n",
    "        triangle_area = super().tri_area()\n",
    "        return triangle_area * 4 + base_area\n"
   ]
  },
  {
   "cell_type": "markdown",
   "metadata": {},
   "source": [
    "### Abstract base classes\n",
    "\n",
    "![](images/ABC.jpg)\n",
    "\n",
    "Abstract base classes (ABCs) are classes with abstract methods. To create an ABC, a class must inherit from an ABC and subsequently implement an abstract method."
   ]
  },
  {
   "cell_type": "code",
   "execution_count": null,
   "metadata": {},
   "outputs": [],
   "source": [
    "from abc import ABC, abstractmethod\n",
    "\n",
    "class Animal():\n",
    "\n",
    "    def __init__(self, name):\n",
    "            self.name = name\n",
    "\n",
    "    def say_hello(self):\n",
    "        pass\n",
    "\n",
    "cuddles = Animal('Cuddles')\n",
    "# No errors, still not an ABC"
   ]
  },
  {
   "cell_type": "code",
   "execution_count": null,
   "metadata": {},
   "outputs": [],
   "source": [
    "from abc import ABC, abstractmethod\n",
    "\n",
    "class Animal(ABC):\n",
    "\n",
    "    def __init__(self, name):\n",
    "            self.name = name\n",
    "\n",
    "    def say_hello(self):\n",
    "        pass\n",
    "\n",
    "cuddles = Animal('Cuddles')\n",
    "# No errors, still not an ABC"
   ]
  },
  {
   "cell_type": "markdown",
   "metadata": {},
   "source": [
    "Observe what occurs when the Animal inherits from ABC and implements the abstract method."
   ]
  },
  {
   "cell_type": "code",
   "execution_count": null,
   "metadata": {},
   "outputs": [],
   "source": [
    "from abc import ABC, abstractmethod\n",
    "\n",
    "class Animal(ABC):\n",
    "\n",
    "    def __init__(self, name, characteristic):\n",
    "        self.name = name\n",
    "        self.characteristic = characteristic\n",
    "\n",
    "    @abstractmethod\n",
    "    def say_hello(self):\n",
    "        pass\n",
    "\n",
    "cuddles = Animal('Cuddles')"
   ]
  },
  {
   "cell_type": "markdown",
   "metadata": {},
   "source": [
    "Python throws an error. The Animal class is an ABC, and it only serves as a base class for other classes; therefore, it is only useful for inheritance and not for creating objects."
   ]
  },
  {
   "cell_type": "markdown",
   "metadata": {},
   "source": [
    "The Animal class is a blueprint for blueprints, i.e. for creating consistent classes."
   ]
  },
  {
   "cell_type": "markdown",
   "metadata": {},
   "source": [
    "#### Creating an ABC\n",
    "\n",
    "To enable the animals say hello and state a characteristic using a method, each method is named differently."
   ]
  },
  {
   "cell_type": "code",
   "execution_count": null,
   "metadata": {},
   "outputs": [],
   "source": [
    "class Lion(Animal):\n",
    "    def __init__(self, name, characteristic):\n",
    "        self.name = name\n",
    "        self.characteristic = characteristic\n",
    "\n",
    "    def roar_hello(self):\n",
    "        print(f'Hi, my name is {self.name} and I have {self.characteristic}')\n",
    "\n",
    "class Mouse(Animal):\n",
    "    def __init__(self, name, characteristic):\n",
    "        self.name = name\n",
    "        self.characteristic = characteristic\n",
    "\n",
    "    def squeak_hello(self):\n",
    "        print(f'Hi, my name is {self.name} and I have {self.characteristic}')\n",
    "\n",
    "class Koala(Animal):\n",
    "    def __init__(self, name, characteristic):\n",
    "        self.name = name\n",
    "        self.characteristic = characteristic\n",
    "\n",
    "    def growl_hello(self):\n",
    "        print(f'Hi, my name is {self.name} and I have {self.characteristic}')\n"
   ]
  },
  {
   "cell_type": "markdown",
   "metadata": {},
   "source": [
    "Observe that each animal has a different method for saying hello, which is quite tedious and deviates from OOP."
   ]
  },
  {
   "cell_type": "code",
   "execution_count": null,
   "metadata": {},
   "outputs": [],
   "source": [
    "animals = [Lion('Alex', 'a long mane'), Mouse('Mickey', 'a long tail'), Koala('Cuddles', 'chlamydia')]\n",
    "for animal in animals:\n",
    "    if 'roar_hello' in dir(animal):\n",
    "        animal.roar_hello()\n",
    "    elif 'squeak_hello' in dir(animal):\n",
    "        animal.squeak_hello()\n",
    "    elif 'growl_hello' in dir(animal):\n",
    "        animal.growl_hello()\n",
    "    "
   ]
  },
  {
   "cell_type": "markdown",
   "metadata": {},
   "source": [
    "However, the user is usually not aware that the parent class already has a method for saying hello."
   ]
  },
  {
   "cell_type": "markdown",
   "metadata": {},
   "source": [
    "Remember that Animal has an abstract method. This will force the children to have that method. In the below example, we attempt to instantiate Lion, which inherits from Animal, without introducing a say_hello method."
   ]
  },
  {
   "cell_type": "code",
   "execution_count": null,
   "metadata": {},
   "outputs": [],
   "source": [
    "class Lion(Animal):\n",
    "\n",
    "    def roar_hello(self):\n",
    "        print(f'Hi, my name is {self.name} and I have {self.characteristic}')\n",
    "\n",
    "alex = Lion('Alex', 'a long mane')"
   ]
  },
  {
   "cell_type": "markdown",
   "metadata": {},
   "source": [
    "As expected, this is not permissible because we are forcing Animal's children to have a method named say_hello. There are two general rules to be followed when defining an ABC: the abstract method must be present, and when defining an abstract method, a descriptive name is required (since all the children will have this method, descriptive names are preferable to simplify the user's task)."
   ]
  },
  {
   "cell_type": "markdown",
   "metadata": {},
   "source": [
    "Now, we create classes with the say_hello method."
   ]
  },
  {
   "cell_type": "code",
   "execution_count": null,
   "metadata": {},
   "outputs": [],
   "source": [
    "class Lion(Animal):\n",
    "    def say_hello(self):\n",
    "        print(f'Hi, my name is {self.name} and I have {self.characteristic}')\n",
    "\n",
    "class Mouse(Animal):\n",
    "   def say_hello(self):\n",
    "        print(f'Hi, my name is {self.name} and I have {self.characteristic}')\n",
    "\n",
    "class Koala(Animal):\n",
    "    def say_hello(self):\n",
    "        print(f'Hi, my name is {self.name} and I have {self.characteristic}')\n",
    "        \n",
    "animals = [Lion('Alex', 'a long mane'), Mouse('Mickey', 'a long tail'), Koala('Cuddles', 'chlamydia')]\n",
    "for animal in animals:\n",
    "    animal.say_hello()\n"
   ]
  },
  {
   "cell_type": "markdown",
   "metadata": {},
   "source": [
    "## Magic Methods"
   ]
  },
  {
   "cell_type": "markdown",
   "metadata": {},
   "source": [
    "Magic methods enable the use of Python's built-in functions and operators with classes. Consider the below example, where we use the len() function in the Building class:"
   ]
  },
  {
   "cell_type": "code",
   "execution_count": null,
   "metadata": {},
   "outputs": [],
   "source": [
    "class Building:\n",
    "    def __init__(self, floor_area, n_floors):\n",
    "        self.floor_area = floor_area\n",
    "        self.n_floors = n_floors\n",
    "\n",
    "library = Building(200, 5)\n",
    "print(len(library))\n",
    "\n"
   ]
  },
  {
   "cell_type": "markdown",
   "metadata": {},
   "source": [
    "Python does not know how to use the len() function because it has not been properly educated. It is the programmer's responsibility to tell Python what to do in such cases. The contents of the magic method depend on the programmer and what they think will be more useful for the user. For example, say we want the length of the Building class to be the number of floors,"
   ]
  },
  {
   "cell_type": "code",
   "execution_count": null,
   "metadata": {},
   "outputs": [],
   "source": [
    "class Building:\n",
    "    def __init__(self, floor_area, n_floors):\n",
    "        self.floor_area = floor_area\n",
    "        self.n_floors = n_floors\n",
    "    \n",
    "    def __len__(self): # Magic methods are also called dunder methods because they have Double UNDERscore.\n",
    "        return self.n_floors # The __len__ Magic method must return an integer.\n",
    "    \n",
    "    def __add__(self, other):\n",
    "        return self.n_floors + other.n_floors"
   ]
  },
  {
   "cell_type": "code",
   "execution_count": null,
   "metadata": {},
   "outputs": [],
   "source": [
    "library = Building(200, 5)\n",
    "library2 = Building(300,5)\n",
    "print(len(library))\n"
   ]
  },
  {
   "cell_type": "markdown",
   "metadata": {},
   "source": [
    "There are many possible magic methods. For example, the \\_\\_gt__ method (greater than) can be used to compare two buildings:"
   ]
  },
  {
   "cell_type": "code",
   "execution_count": null,
   "metadata": {},
   "outputs": [],
   "source": [
    "class Building:\n",
    "    def __init__(self, floor_area, n_floors):\n",
    "        self.floor_area = floor_area\n",
    "        self.n_floors = n_floors\n",
    "    \n",
    "    def __len__(self): # Magic methods are also called dunder methods because they have Double UNDERscores.\n",
    "        return self.n_floors # The __len__ Magic method must return an integer.\n",
    "    \n",
    "    def __gt__(self, other): # 'other' usually refers to other instances of the same class.\n",
    "        return self.floor_area > other.floor_area # We compare to determine which one has a larger floor area. This is possible because Python\n",
    "                                                  # knows how to compare floats and integers.\n",
    "    def __eq__(self, other): # 'other' usually refers to other instances of the same class.\n",
    "        return self.floor_area == other.floor_area \n",
    "    \n",
    "    def __lt__(self, other):\n",
    "        return other > self\n",
    "\n",
    "library = Building(10000, 5)\n",
    "hotel = Building(15000, 20)\n",
    "hospital = Building(15000, 10)\n",
    "gherkin = Building(48000, 41)\n",
    "\n",
    "print(library < hospital)\n",
    "print(library > gherkin)\n",
    "print(hotel == hospital)\n",
    "print(hotel > hospital)\n",
    "print(library < hospital < gherkin)\n",
    "\n"
   ]
  },
  {
   "cell_type": "code",
   "execution_count": null,
   "metadata": {},
   "outputs": [],
   "source": [
    "library <= hospital"
   ]
  },
  {
   "cell_type": "markdown",
   "metadata": {},
   "source": [
    "There are more magic methods for adding two objects of the same class, e.g. \\_\\_add__. Please consider the Potion class below and attempt to understand the magic method utilised:"
   ]
  },
  {
   "cell_type": "code",
   "execution_count": null,
   "metadata": {},
   "outputs": [],
   "source": [
    "class Potion:\n",
    "    def __init__(self, volume):\n",
    "        self.volume = volume\n",
    "    \n",
    "    def __add__(self, other):\n",
    "        new_volume = self.volume + other.volume\n",
    "        return Potion(new_volume)\n",
    "\n",
    "felix_felicis = Potion(250)\n",
    "veritaserum = Potion(100)\n",
    "\n",
    "new_potion = felix_felicis + veritaserum"
   ]
  },
  {
   "cell_type": "code",
   "execution_count": null,
   "metadata": {},
   "outputs": [],
   "source": [
    "print(new_potion.volume)\n",
    "print(new_potion)"
   ]
  },
  {
   "cell_type": "code",
   "execution_count": null,
   "metadata": {},
   "outputs": [],
   "source": [
    "class Potion:\n",
    "    def __init__(self, volume):\n",
    "        self.volume = volume\n",
    "    \n",
    "    def __add__(self, other):\n",
    "        new_volume = self.volume + other.volume\n",
    "        return Potion(new_volume)\n",
    "\n",
    "    def __repr__(self): # The representation magic method can only return a string.\n",
    "        return f'A potion with {self.volume}mL left'\n",
    "\n",
    "felix_felicis = Potion(250)\n",
    "veritaserum = Potion(100)\n",
    "\n",
    "new_potion = felix_felicis + veritaserum\n",
    "print(new_potion)"
   ]
  }
 ],
 "metadata": {
  "kernelspec": {
   "display_name": "base",
   "language": "python",
   "name": "python3"
  },
  "language_info": {
   "codemirror_mode": {
    "name": "ipython",
    "version": 3
   },
   "file_extension": ".py",
   "mimetype": "text/x-python",
   "name": "python",
   "nbconvert_exporter": "python",
   "pygments_lexer": "ipython3",
   "version": "3.10.9"
  },
  "vscode": {
   "interpreter": {
    "hash": "a2592652612463181e69ac003232387e3e9a99279aa6b168e76f5df16d5110f4"
   }
  }
 },
 "nbformat": 4,
 "nbformat_minor": 4
}
