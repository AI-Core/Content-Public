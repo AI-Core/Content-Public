{
 "cells": [
  {
   "cell_type": "markdown",
   "source": [
    "# Solutions for Object Oriented Programming"
   ],
   "metadata": {}
  },
  {
   "cell_type": "markdown",
   "source": [
    "## Exercise\n",
    "Here is an example for you to have a go at. Try defining a class for a cylinder. It should contain: <br>\n",
    "- 2 parameters:\n",
    "    - height\n",
    "    - radius, which should have a default value of 1\n",
    "<br><br>\n",
    "- 4 attributes:\n",
    "    - height\n",
    "    - radius\n",
    "    - surface_area, initialised as None\n",
    "    - volume, initialised as None\n",
    "<br><br>\n",
    "- 2 methods:\n",
    "    - get_surface_area: define surface_area, update attribute surface_area, return surface_area rounded to 2dp.\n",
    "    - get_volume: define volume, update attribute volume, return volume rounded to 2dp.\n",
    "<br><br>\n",
    "- Use google to find the formulae for surface area and volume of a cylinder.\n",
    "- Use the formulae to create method definitions for these."
   ],
   "metadata": {}
  },
  {
   "cell_type": "code",
   "execution_count": 5,
   "source": [
    "# import the math module, use math.pi for pi\n",
    "import math\n",
    "\n",
    "# define a class called Cylinder\n",
    "class Cylinder():\n",
    "\n",
    "    \n",
    "    # define __init__ with parameters height and radius with default 1\n",
    "    def __init__(self, height, radius = 1):\n",
    "        \n",
    "        # define attributes, initialise surface_area and volume as None\n",
    "        self.height = height\n",
    "        self.radius = radius\n",
    "        self.surface_area = None\n",
    "        self.volume = None\n",
    "    \n",
    "    # define get_surface_area method\n",
    "    def get_surface_area(self):\n",
    "        \n",
    "        # assign surface area to variable surface_area\n",
    "        surface_area = 2 * math.pi * self.radius * (self.radius + self.height)\n",
    "        \n",
    "        # update attribute surface_area\n",
    "        self.surface_area = surface_area\n",
    "        \n",
    "        # return surface area rounded to 2dp\n",
    "        return round(surface_area, 2)\n",
    "    \n",
    "    # define get_volume method\n",
    "    def get_volume(self):\n",
    "        \n",
    "        volume = math.pi * self.radius**2 * self.height\n",
    "        \n",
    "        self.volume = volume\n",
    "        \n",
    "        return round(volume, 2)"
   ],
   "outputs": [],
   "metadata": {}
  },
  {
   "cell_type": "markdown",
   "source": [
    "Now test your class by running the following cells:"
   ],
   "metadata": {}
  },
  {
   "cell_type": "code",
   "execution_count": 6,
   "source": [
    "cyl1 = Cylinder(5,20)"
   ],
   "outputs": [],
   "metadata": {}
  },
  {
   "cell_type": "code",
   "execution_count": 7,
   "source": [
    "print(cyl1.height)\n",
    "print(cyl1.radius)"
   ],
   "outputs": [
    {
     "output_type": "stream",
     "name": "stdout",
     "text": [
      "5\n",
      "20\n"
     ]
    }
   ],
   "metadata": {}
  },
  {
   "cell_type": "code",
   "execution_count": 8,
   "source": [
    "cyl1.volume\n",
    "cyl1.surface_area"
   ],
   "outputs": [],
   "metadata": {}
  },
  {
   "cell_type": "code",
   "execution_count": 9,
   "source": [
    "cyl1.get_surface_area()"
   ],
   "outputs": [
    {
     "output_type": "execute_result",
     "data": {
      "text/plain": [
       "3141.59"
      ]
     },
     "metadata": {},
     "execution_count": 9
    }
   ],
   "metadata": {}
  },
  {
   "cell_type": "code",
   "execution_count": 10,
   "source": [
    "cyl1.get_volume()"
   ],
   "outputs": [
    {
     "output_type": "execute_result",
     "data": {
      "text/plain": [
       "6283.19"
      ]
     },
     "metadata": {},
     "execution_count": 10
    }
   ],
   "metadata": {}
  },
  {
   "cell_type": "code",
   "execution_count": 11,
   "source": [
    "print(cyl1.volume)\n",
    "print(cyl1.surface_area)"
   ],
   "outputs": [
    {
     "output_type": "stream",
     "name": "stdout",
     "text": [
      "6283.185307179587\n",
      "3141.592653589793\n"
     ]
    }
   ],
   "metadata": {}
  },
  {
   "cell_type": "code",
   "execution_count": null,
   "source": [],
   "outputs": [],
   "metadata": {}
  }
 ],
 "metadata": {
  "kernelspec": {
   "display_name": "Python 3",
   "language": "python",
   "name": "python3"
  },
  "language_info": {
   "codemirror_mode": {
    "name": "ipython",
    "version": 3
   },
   "file_extension": ".py",
   "mimetype": "text/x-python",
   "name": "python",
   "nbconvert_exporter": "python",
   "pygments_lexer": "ipython3",
   "version": "3.7.6"
  }
 },
 "nbformat": 4,
 "nbformat_minor": 4
}