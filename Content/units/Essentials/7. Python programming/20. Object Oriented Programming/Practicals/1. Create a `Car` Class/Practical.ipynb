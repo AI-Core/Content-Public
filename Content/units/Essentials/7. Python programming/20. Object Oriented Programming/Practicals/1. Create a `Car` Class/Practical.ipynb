{
 "cells": [
  {
   "cell_type": "markdown",
   "id": "84369184",
   "metadata": {},
   "source": [
    "# Create a `Car` Class"
   ]
  },
  {
   "cell_type": "markdown",
   "id": "a7c2f870",
   "metadata": {},
   "source": [
    "#### 1. Create a `Car` class"
   ]
  },
  {
   "cell_type": "code",
   "execution_count": null,
   "id": "ca65b59f",
   "metadata": {},
   "outputs": [],
   "source": []
  },
  {
   "attachments": {},
   "cell_type": "markdown",
   "id": "34900e8d",
   "metadata": {},
   "source": [
    "#### 2. Define the constructor for the class:\n",
    "- It takes in two arguments (other than `self`), and assign their values as attributes of the instance:\n",
    "    - One called `model` (e.g. Tesla), which has no default\n",
    "    - One called `year`, which is an integer, which defaults to the current year (just hard code the current year in)\n",
    "- It also defines a new attribute (remember that is not passed as an argument):\n",
    "     - One called `miles_driven`, which is set to zero"
   ]
  },
  {
   "cell_type": "code",
   "execution_count": null,
   "id": "c01f2310",
   "metadata": {},
   "outputs": [],
   "source": []
  },
  {
   "attachments": {},
   "cell_type": "markdown",
   "id": "4e7d63b5",
   "metadata": {},
   "source": [
    "#### 3. Create a method called `drive`\n",
    "\n",
    "- It prints \"vroom\" and increment the instance's `miles_driven` attribute by 1"
   ]
  },
  {
   "cell_type": "code",
   "execution_count": null,
   "id": "b4f31c34",
   "metadata": {},
   "outputs": [],
   "source": []
  },
  {
   "attachments": {},
   "cell_type": "markdown",
   "id": "f6fdabf4",
   "metadata": {},
   "source": [
    "#### 4. Create a method called `info`\n",
    "\n",
    "- It prints the number of miles driven, the model name and the year"
   ]
  },
  {
   "cell_type": "code",
   "execution_count": null,
   "id": "0807d613",
   "metadata": {},
   "outputs": [],
   "source": []
  },
  {
   "attachments": {},
   "cell_type": "markdown",
   "id": "1954b876",
   "metadata": {},
   "source": [
    "#### 5. Initialiase the class and call all the methods\n",
    "\n",
    "- Give the instance the model name \"Tesla\" and the year 2019.\n",
    "- Call the `drive` method 5 times\n",
    "- Call the `info` method. It should print something like \"5 miles driven, Tesla, 2019\"\n"
   ]
  },
  {
   "cell_type": "code",
   "execution_count": null,
   "id": "0a51d328",
   "metadata": {},
   "outputs": [],
   "source": []
  }
 ],
 "metadata": {
  "kernelspec": {
   "display_name": "content-projects_new",
   "language": "python",
   "name": "python3"
  },
  "language_info": {
   "name": "python",
   "version": "3.10.8 (main, Nov 24 2022, 14:13:03) [GCC 11.2.0]"
  },
  "vscode": {
   "interpreter": {
    "hash": "4b961f8166aad6ccb4cf65d0f9c742ef9c6c23ffe83ad932438cd83ed96aebaf"
   }
  }
 },
 "nbformat": 4,
 "nbformat_minor": 5
}
