{
 "cells": [
  {
   "cell_type": "markdown",
   "id": "6c985f11",
   "metadata": {},
   "source": [
    "# Make Calls with a `Phone` Class"
   ]
  },
  {
   "cell_type": "markdown",
   "id": "178a4f6d",
   "metadata": {},
   "source": [
    "#### 1. Create a `Phone` class"
   ]
  },
  {
   "cell_type": "code",
   "execution_count": null,
   "id": "681d8719",
   "metadata": {},
   "outputs": [],
   "source": []
  },
  {
   "attachments": {},
   "cell_type": "markdown",
   "id": "e78a39b3",
   "metadata": {},
   "source": [
    "#### 2. The class takes two arguments:\n",
    "\n",
    "- One called `number` (e.g. 07777777777), which has no default. This is the phone number of the phone and will be used as an attribute\n",
    "- One called `balance`, which is an integer, which defaults to 20. This is the balance of the phone and will be used as an attribute\n"
   ]
  },
  {
   "cell_type": "code",
   "execution_count": null,
   "id": "7c587309",
   "metadata": {},
   "outputs": [],
   "source": []
  },
  {
   "attachments": {},
   "cell_type": "markdown",
   "id": "83615162",
   "metadata": {},
   "source": [
    "#### 3. Create a method called `make_call`\n",
    "\n",
    "- It takes two arguments:\n",
    "    - One called `number` (e.g. 07777777777), which has no default. This is the phone number of the person being called\n",
    "    - One called `duration`, which is an integer, which defaults to 1. This is the duration of the call in minutes\n",
    "- Inside the method, check if the balance is greater than or equal to the duration of the call. If it is, then:\n",
    "    - Print \"Calling {number} for {duration} minutes\"\n",
    "    - Subtract the duration from the balance\n",
    "    - If the balance is not greater than or equal to the duration of the call, then:\n",
    "        - Print \"Insufficient balance to make call\"\n",
    "    "
   ]
  },
  {
   "cell_type": "code",
   "execution_count": null,
   "id": "2da52eeb",
   "metadata": {},
   "outputs": [],
   "source": []
  },
  {
   "attachments": {},
   "cell_type": "markdown",
   "id": "c898f75c",
   "metadata": {},
   "source": [
    "#### 4. Create a method called `info`\n",
    "- It prints the phone number and the balance"
   ]
  },
  {
   "cell_type": "code",
   "execution_count": null,
   "id": "38c9d8de",
   "metadata": {},
   "outputs": [],
   "source": []
  }
 ],
 "metadata": {
  "kernelspec": {
   "display_name": "content-projects_new",
   "language": "python",
   "name": "python3"
  },
  "language_info": {
   "name": "python",
   "version": "3.10.8 (main, Nov 24 2022, 14:13:03) [GCC 11.2.0]"
  },
  "vscode": {
   "interpreter": {
    "hash": "4b961f8166aad6ccb4cf65d0f9c742ef9c6c23ffe83ad932438cd83ed96aebaf"
   }
  }
 },
 "nbformat": 4,
 "nbformat_minor": 5
}
