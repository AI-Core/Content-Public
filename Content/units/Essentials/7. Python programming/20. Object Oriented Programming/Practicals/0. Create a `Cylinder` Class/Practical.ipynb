{
 "cells": [
  {
   "cell_type": "markdown",
   "id": "0bd138e3",
   "metadata": {},
   "source": [
    "# Create a `Cylinder` Class"
   ]
  },
  {
   "attachments": {},
   "cell_type": "markdown",
   "id": "b7bd6935",
   "metadata": {},
   "source": [
    "#### 1. Define a `Cylinder` class.\n",
    "\n",
    "The constructor (`__init__`) should take two arguments:\n",
    "- `height`\n",
    "- `radius`, which has a default value of 1\n",
    "\n",
    "Create two attributes:\n",
    "- `height`\n",
    "- `radius`\n",
    "\n",
    "whose values are set to the arguments passed to the constructor."
   ]
  },
  {
   "cell_type": "code",
   "execution_count": null,
   "id": "c0ea8fe8",
   "metadata": {},
   "outputs": [],
   "source": []
  },
  {
   "attachments": {},
   "cell_type": "markdown",
   "id": "dc156393",
   "metadata": {},
   "source": [
    "#### 2. Then, create a variable called `my_cylinder` that is an instance of the `Cylinder` class with a height of 10 and a radius of 5.\n",
    "\n",
    "You can check the attributes of `my_cylinder` by running:\n",
    "\n",
    "```python\n",
    "print(my_cylinder.height)\n",
    "print(my_cylinder.radius)\n",
    "```\n"
   ]
  },
  {
   "cell_type": "code",
   "execution_count": null,
   "id": "213e8f42",
   "metadata": {},
   "outputs": [],
   "source": []
  },
  {
   "attachments": {},
   "cell_type": "markdown",
   "id": "8ba330f4",
   "metadata": {},
   "source": [
    "\n",
    "#### 3. Add two more attributes to the `Cylinder` class:\n",
    "- `surface_area`, initialised as `None`\n",
    "- `volume`, initialised as `None`"
   ]
  },
  {
   "cell_type": "code",
   "execution_count": null,
   "id": "09bae3b4",
   "metadata": {},
   "outputs": [],
   "source": []
  },
  {
   "attachments": {},
   "cell_type": "markdown",
   "id": "ebc8284a",
   "metadata": {},
   "source": [
    "#### 4. Create another instance of the `Cylinder` class called `my_cylinder2` with a height of 20 and a radius of 10.\n",
    "\n",
    "Print the attributes of `my_cylinder2` to check that they are correct."
   ]
  },
  {
   "cell_type": "code",
   "execution_count": null,
   "id": "da716350",
   "metadata": {},
   "outputs": [],
   "source": []
  },
  {
   "attachments": {},
   "cell_type": "markdown",
   "id": "2b274aab",
   "metadata": {},
   "source": [
    "#### 5. Add two methods to the `Cylinder` class:\n",
    "\n",
    "- `get_surface_area`: This method updates the attribute `surface_area`, and it returns the value rounded to two decimal places.\n",
    "- `get_volume`: This method updates the attribute `volume`, and it returns the value rounded to two decimal places.\n",
    "\n",
    "Use Google to find the formulae for surface area and volume of a cylinder. Use the formulae to create method definitions for these."
   ]
  },
  {
   "cell_type": "code",
   "execution_count": null,
   "id": "7a2badf9",
   "metadata": {},
   "outputs": [],
   "source": []
  },
  {
   "attachments": {},
   "cell_type": "markdown",
   "id": "2ad73a8b",
   "metadata": {},
   "source": [
    "#### 6. Change the way `surface_area` and `volume` are initialised. \n",
    "\n",
    "In the `__init__` method, instead of initialising `surface_area` and `volume` to `None`, initialise them to the value returned by `get_surface_area` and `get_volume` respectively."
   ]
  },
  {
   "cell_type": "code",
   "execution_count": null,
   "id": "e8b67ae8",
   "metadata": {},
   "outputs": [],
   "source": []
  }
 ],
 "metadata": {
  "kernelspec": {
   "display_name": "content-projects_new",
   "language": "python",
   "name": "python3"
  },
  "language_info": {
   "name": "python",
   "version": "3.10.8 (main, Nov 24 2022, 14:13:03) [GCC 11.2.0]"
  },
  "vscode": {
   "interpreter": {
    "hash": "4b961f8166aad6ccb4cf65d0f9c742ef9c6c23ffe83ad932438cd83ed96aebaf"
   }
  }
 },
 "nbformat": 4,
 "nbformat_minor": 5
}
