{
 "cells": [
  {
   "attachments": {},
   "cell_type": "markdown",
   "metadata": {},
   "source": [
    "# Object Oriented Programming"
   ]
  },
  {
   "attachments": {},
   "cell_type": "markdown",
   "metadata": {},
   "source": [
    "## Which of the following statements about Python objects are true? Select all that apply.\n",
    "\n",
    "- Everything in Python is an object ***\n",
    "- Only some things in Python are objects\n",
    "- The functions/methods of a Python object can be accessed with the dot operator (`.`) ***\n",
    "- The functions/methods of a Python object are accessed with `?`\n",
    "- Classes are like blueprints to create Python objects ***"
   ]
  },
  {
   "attachments": {},
   "cell_type": "markdown",
   "metadata": {},
   "source": [
    "## Which of the following are correct ways to define class attributes? Select all that apply.\n",
    "\n",
    "- `self.name = name` ***\n",
    "- `self.param1 = param1` ***\n",
    "- `param1 = param1`\n",
    "- `name = name`\n",
    "- `def name = name`\n",
    "- `self.lives = 3` ***"
   ]
  },
  {
   "attachments": {},
   "cell_type": "markdown",
   "metadata": {},
   "source": [
    "## Which of the following statements about Python classes are true? Select all that apply.\n",
    "\n",
    "- The class name should be in Pascal case, with each word of the class capitalised and spaces removed ***\n",
    "- Each static method defined should have `self` as the first argument ***\n",
    "- An attribute should be defined in the following way `attribute_name.attribute_value`\n",
    "- Methods should be defined in the following way `def method_name(param1, param2)`\n",
    "- `def __init__(self)` is known as the parent method"
   ]
  },
  {
   "attachments": {},
   "cell_type": "markdown",
   "metadata": {},
   "source": [
    "## Which of the following statements are true about class inheritance? Select all that apply.\n",
    "\n",
    "- A derived class is otherwise know as the parent class\n",
    "- A base class is known as the parent class ***\n",
    "- The parent class inherits from the derived class\n",
    "- The `super()` function can be used to access the attributes and methods of a parent class ***\n",
    "- The `super()` function can be used to access the attributes and methods of a child class\n",
    "- Class inheritance allows you to extend the functionality of classes ***"
   ]
  },
  {
   "attachments": {},
   "cell_type": "markdown",
   "metadata": {},
   "source": [
    "## What is the correct syntax to have a `Rectangle` class inherit from a `Square` class?\n",
    "\n",
    "- `Square(Rectangle)` \n",
    "- `Rectangle(Square)`***\n",
    "- `Rectangle(Square())`\n",
    "- `Rectangle.Square()`\n",
    "- `Square(Rectangle())`"
   ]
  },
  {
   "attachments": {},
   "cell_type": "markdown",
   "metadata": {},
   "source": [
    "## Take a look at the `Dog` class below, what is wrong with the code? Select all that apply.\n",
    "\n",
    "```python\n",
    "class Dog:\n",
    "    \n",
    "    def __init__(name, breed, colour):\n",
    "        name = name\n",
    "        self.breed = breed\n",
    "        self.colour = colour\n",
    "\n",
    "    def bark(self):\n",
    "        print(f'Hi, my name is {self.name}... I mean... Woof!')\n",
    "        \n",
    "koopa = Dog('Koopa', 'Shiba', 'Brown')\n",
    "\n",
    "```\n",
    "\n",
    "- There is nothing wrong with it\n",
    "- The constructor is missing `self` as the first argument ***\n",
    "- `name` isn't defined as an attribute so it won't be accessible by the `bark` method ***\n",
    "- There should be brackets after `Dog`\n",
    "- When creating the instance of the `Dog` class, `koopa` it should be indented inside the class\n",
    "- `breed` and `colour` were not defined as attributes "
   ]
  },
  {
   "attachments": {},
   "cell_type": "markdown",
   "metadata": {},
   "source": [
    "## Which of the following statement are true about magic methods? Select all that apply.\n",
    "\n",
    "- You can spot them by their double underscore at either side of the method name ***\n",
    "- They allow you to define the behaviour for built-in Python syntax and built-in Python functions used on your class ***\n",
    "- All classes must have at least one magic method defined\n",
    "- Any method can be replaced with a Python magic method\n",
    "- You create a magic method by adding just two underscores before the name of the method"
   ]
  },
  {
   "attachments": {},
   "cell_type": "markdown",
   "metadata": {},
   "source": [
    "## Which of the following are valid names for Python magic methods? Select all that apply.\n",
    "\n",
    "- `__gt__` ***\n",
    "- `__len__` ***\n",
    "- `__init__` ***\n",
    "- `_gt__` \n",
    "- `len`\n",
    "- `_len` "
   ]
  }
 ],
 "metadata": {
  "kernelspec": {
   "display_name": "base",
   "language": "python",
   "name": "python3"
  },
  "language_info": {
   "name": "python",
   "version": "3.10.9"
  },
  "orig_nbformat": 4,
  "vscode": {
   "interpreter": {
    "hash": "a2592652612463181e69ac003232387e3e9a99279aa6b168e76f5df16d5110f4"
   }
  }
 },
 "nbformat": 4,
 "nbformat_minor": 2
}
