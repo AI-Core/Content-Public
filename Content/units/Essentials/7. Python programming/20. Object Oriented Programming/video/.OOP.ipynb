{
 "cells": [
  {
   "cell_type": "markdown",
   "metadata": {},
   "source": [
    "# Basic class syntax"
   ]
  },
  {
   "cell_type": "code",
   "execution_count": null,
   "metadata": {},
   "outputs": [],
   "source": [
    "class ClassName():\n",
    "    def method_1():\n",
    "        print('Calling the first method')\n",
    "\n",
    "    def method_2():\n",
    "        print('Calling the second method')\n",
    "\n",
    "my_instance = ClassName()\n",
    "my_other_instance = ClassName()\n",
    "\n",
    "my_instance.method_1()"
   ]
  },
  {
   "cell_type": "markdown",
   "metadata": {},
   "source": [
    "# Self"
   ]
  },
  {
   "cell_type": "code",
   "execution_count": null,
   "metadata": {},
   "outputs": [],
   "source": [
    "class ClassName():\n",
    "    def method_1(self):\n",
    "        print('Calling the first method')\n",
    "\n",
    "    def method_2(self):\n",
    "        print('Calling the second method')\n",
    "\n",
    "my_instance = ClassName()\n",
    "my_instance.method_1()"
   ]
  },
  {
   "cell_type": "code",
   "execution_count": null,
   "metadata": {},
   "outputs": [],
   "source": [
    "class Player:\n",
    "\n",
    "    def play(self):\n",
    "        print(f'Ready up!')\n",
    "\n",
    "player_instance = Player()\n",
    "player_instance.play()\n",
    "\n",
    "print(player_instance)\n",
    "print(type(player_instance))"
   ]
  },
  {
   "cell_type": "code",
   "execution_count": 23,
   "metadata": {},
   "outputs": [
    {
     "name": "stdout",
     "output_type": "stream",
     "text": [
      "Ready up harry!\n"
     ]
    }
   ],
   "source": [
    "class Player:\n",
    "\n",
    "    def play(self, name):\n",
    "        print(f'Ready up {name}!')\n",
    "\n",
    "player_instance = Player()\n",
    "player_instance.play('harry')"
   ]
  },
  {
   "cell_type": "code",
   "execution_count": null,
   "metadata": {},
   "outputs": [],
   "source": [
    "class Player:\n",
    "\n",
    "    def set_name(self):\n",
    "        self.name = 'Harry' # assign within class\n",
    "\n",
    "    def play(self):\n",
    "        print(f'Ready up! My name is {self.name}') # access within class\n",
    "\n",
    "harry = Player()\n",
    "harry.set_name()\n",
    "harry.play()\n",
    "\n",
    "print(harry.name) # access outside of class\n",
    "harry.name = 'HARRY' # assign outside of class\n",
    "print(harry.name)"
   ]
  },
  {
   "cell_type": "code",
   "execution_count": 24,
   "metadata": {},
   "outputs": [
    {
     "name": "stdout",
     "output_type": "stream",
     "text": [
      "Ready up! My name is harry.\n"
     ]
    }
   ],
   "source": [
    "class Player:\n",
    "\n",
    "    def set_name(self, name):\n",
    "        self.name = name\n",
    "\n",
    "    def play(self):\n",
    "        print(f'Ready up! My name is {self.name}.')\n",
    "\n",
    "harry = Player()\n",
    "harry.set_name('harry')\n",
    "harry.play()"
   ]
  },
  {
   "cell_type": "code",
   "execution_count": 25,
   "metadata": {},
   "outputs": [
    {
     "name": "stdout",
     "output_type": "stream",
     "text": [
      "Soap 64\n",
      "Artyom 55\n"
     ]
    }
   ],
   "source": [
    "class Player:\n",
    "    def __init__(self, name, level=1):\n",
    "        self.name = name\n",
    "        self.level = level\n",
    "        \n",
    "    def play(self):\n",
    "        print(f'Ready up! My name is {self.name}. This is level {self.level}')\n",
    "\n",
    "soap = Player('Soap', 64)\n",
    "artyom = Player('Artyom', 55)\n",
    "\n",
    "print(soap.name, soap.level)\n",
    "print(artyom.name, artyom.level) "
   ]
  },
  {
   "cell_type": "markdown",
   "metadata": {},
   "source": [
    "# Magic methods"
   ]
  },
  {
   "cell_type": "code",
   "execution_count": 26,
   "metadata": {},
   "outputs": [
    {
     "name": "stdout",
     "output_type": "stream",
     "text": [
      "adding: 1\n",
      "Greater than 1? True\n",
      "Name: Soap, Level: 64\n"
     ]
    }
   ],
   "source": [
    "class Player:\n",
    "    def __init__(self, name, level=1):\n",
    "        self.name = name\n",
    "        self.level = level\n",
    "        \n",
    "    def play(self):\n",
    "        print(f'Ready up! My name is {self.name}. This is level {self.level}')\n",
    "\n",
    "    def __gt__(self, thing_being_added):\n",
    "        \"\"\"Compare the player with something using the greater than operator\"\"\"\n",
    "        print('adding:', thing_being_added)\n",
    "        return self.level > thing_being_added\n",
    "\n",
    "    def __repr__(self):\n",
    "        \"\"\"Return the string represenation od the player\"\"\"\n",
    "        return f'Name: {self.name}, Level: {self.level}'\n",
    "\n",
    "soap = Player('Soap', 64)\n",
    "artyom = Player('Artyom', 55)\n",
    "\n",
    "print('Greater than 1?', soap > 1) # call the __gt__ method of this player\n",
    "\n",
    "print(soap) # call the __repr__ method of this player"
   ]
  },
  {
   "cell_type": "markdown",
   "metadata": {},
   "source": [
    "# Inheritance"
   ]
  },
  {
   "cell_type": "code",
   "execution_count": 27,
   "metadata": {},
   "outputs": [],
   "source": [
    "class Computer:\n",
    "    def __init__(self, weight, ram, gpu):\n",
    "        self.weight = weight\n",
    "        self.ram = ram\n",
    "        self.gpu = gpu\n",
    "    \n",
    "    def work(self):\n",
    "        print('I am working')\n",
    "    \n",
    "    def code(self, language):\n",
    "        print(f'I am coding in {language}')\n",
    "    \n",
    "    def browse(self):\n",
    "        print(f\"Let's browse LinkedIns\")\n",
    "\n",
    "my_pc = Computer(25, 8, False)"
   ]
  },
  {
   "cell_type": "code",
   "execution_count": 28,
   "metadata": {},
   "outputs": [
    {
     "name": "stdout",
     "output_type": "stream",
     "text": [
      "I weigth 1.5 kg, so I can be carried!\n",
      "I am working\n",
      "I am coding in Python\n"
     ]
    }
   ],
   "source": [
    "class Laptop(Computer):\n",
    "    def get_carried(self):\n",
    "        print(f'I weigth {self.weight} kg, so I can be carried!')\n",
    "\n",
    "mac = Laptop(1.5, 8, False)\n",
    "mac.get_carried()\n",
    "mac.work()\n",
    "mac.code('Python')"
   ]
  },
  {
   "cell_type": "code",
   "execution_count": 29,
   "metadata": {},
   "outputs": [
    {
     "name": "stdout",
     "output_type": "stream",
     "text": [
      "I weigh 1.5 kg, so I can be carried!\n",
      "I am working\n",
      "Be careful if you go outside, you might not be able to browse LinkedIn\n"
     ]
    }
   ],
   "source": [
    "class Laptop(Computer):\n",
    "    def browse(self):\n",
    "        print('Be careful if you go outside, you might not be able to browse LinkedIn')\n",
    "        \n",
    "    def get_carried(self):\n",
    "        print(f'I weigh {self.weight} kg, so I can be carried!')\n",
    "\n",
    "mac = Laptop(1.5, 8, False)\n",
    "mac.get_carried()\n",
    "mac.work()\n",
    "mac.browse()"
   ]
  },
  {
   "cell_type": "code",
   "execution_count": 30,
   "metadata": {},
   "outputs": [
    {
     "name": "stdout",
     "output_type": "stream",
     "text": [
      "True\n"
     ]
    }
   ],
   "source": [
    "class GamingComputer(Computer):\n",
    "    def __init__(self, weight, ram):\n",
    "        super().__init__(weight, ram, True)\n",
    "\n",
    "    def play_games(self, game):\n",
    "        print(f'I am using my GPU and my {self.ram}GB RAM to play {game}!')\n",
    "\n",
    "alienware = GamingComputer(12, 16)\n",
    "print(alienware.gpu)"
   ]
  },
  {
   "cell_type": "code",
   "execution_count": 31,
   "metadata": {},
   "outputs": [
    {
     "name": "stdout",
     "output_type": "stream",
     "text": [
      "I am coding in Java\n",
      "I am using my GPU and my 16GB RAM to play Factorio!\n",
      "I weigh 2 kg, so I can be carried!\n"
     ]
    }
   ],
   "source": [
    "class GamingLaptop(GamingComputer, Laptop):\n",
    "    pass\n",
    "\n",
    "asus = GamingLaptop(2, 16)\n",
    "asus.code('Java')\n",
    "asus.play_games('Factorio')\n",
    "asus.get_carried()"
   ]
  },
  {
   "cell_type": "code",
   "execution_count": null,
   "metadata": {},
   "outputs": [],
   "source": [
    "class Computer:\n",
    "    def __init__(self, weigth, ram, gpu):\n",
    "        self.weight = weigth\n",
    "        self.ram = ram\n",
    "        self.gpu = gpu\n",
    "    \n",
    "    def work(self):\n",
    "        print('I am working')\n",
    "    \n",
    "    def code(self, language):\n",
    "        print(f'I am coding in {language}')\n",
    "    \n",
    "    def browse(self):\n",
    "        print(f\"Let's browse LinkedIn\")\n",
    "\n",
    "my_pc = Computer(25, 8, False)\n",
    "print(my_pc)"
   ]
  }
 ],
 "metadata": {
  "interpreter": {
   "hash": "31f2aee4e71d21fbe5cf8b01ff0e069b9275f58929596ceb00d14d90e3e16cd6"
  },
  "kernelspec": {
   "display_name": "Python 3.8.2 64-bit",
   "name": "python3"
  },
  "language_info": {
   "codemirror_mode": {
    "name": "ipython",
    "version": 3
   },
   "file_extension": ".py",
   "mimetype": "text/x-python",
   "name": "python",
   "nbconvert_exporter": "python",
   "pygments_lexer": "ipython3",
   "version": "3.8.2"
  },
  "orig_nbformat": 4
 },
 "nbformat": 4,
 "nbformat_minor": 2
}
