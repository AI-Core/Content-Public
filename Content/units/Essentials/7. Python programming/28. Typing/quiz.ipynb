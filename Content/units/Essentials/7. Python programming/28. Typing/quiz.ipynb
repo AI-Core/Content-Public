{
 "cells": [
  {
   "attachments": {},
   "cell_type": "markdown",
   "metadata": {},
   "source": [
    "# Typing"
   ]
  },
  {
   "attachments": {},
   "cell_type": "markdown",
   "metadata": {},
   "source": [
    "## What are some of the benefits of using the Pydantic library?\n",
    "\n",
    "- Pydantic can enforce type checking so that the arguments of your methods, functions and classes are of the correct type ***\n",
    "- Pydantic provides a nicer layout of your code making it more readable\n",
    "- Pydantic can test of all your code to ensure its logic is correct\n",
    "- Pydantic allows you to build a class within a class\n",
    "- Using Pydantic means you can remove the `self` argument from the methods within your class"
   ]
  },
  {
   "attachments": {},
   "cell_type": "markdown",
   "metadata": {},
   "source": [
    "## What is some of the functionality that Pydantic can provide? Select all that apply.\n",
    "\n",
    "- You can use the Pydantic `BaseModel` to enforce type checking to your class attributes ***\n",
    "- Pydantic allows you to use the `@validate_arguments` decorator to enforce data types to your class methods ***\n",
    "- Pydantic comes with a testing suite to test all of your methods\n",
    "- Pydantic comes with a profiler to profile the speed of your methods\n",
    "- Pydantic comes with a logging package to log the results of running your methods"
   ]
  },
  {
   "attachments": {},
   "cell_type": "markdown",
   "metadata": {},
   "source": [
    "## Which of the following are some of the ways to specify types from the `typing` library? Select all that apply.\n",
    "\n",
    "- `typing.Callable`: indicates the method/function should take a Python callable ***\n",
    "- `typing.Union`: indicates the method/function can take one of several data types ***\n",
    "- `typing.Optional`: indicates the method/function can be possibly `None` or of a specific type\n",
    "- `typing.Difference`: indicates the method/function can only take the difference of two variables\n",
    "- `typing.ClassCallable`: indicates the method/function should take a class as an argument\n",
    "- `typing.Database`: indicates they method/function should take a database as an argument"
   ]
  },
  {
   "attachments": {},
   "cell_type": "markdown",
   "metadata": {},
   "source": [
    "## Which of the following statements are true about type hinting? Select all that apply.\n",
    "\n",
    "- It makes your code more readable as the intended data types of your method/function are displayed in the code ***\n",
    "- Type hinting makes it easier to collaborate with other developers since there will be no miscommunication of what data types are required by functions/methods ***\n",
    "- Type hinting can make your code run faster\n",
    "- Type hinting is only useful for very large code bases\n",
    "- Type hinting is only useful for statically typed languages like C++ and Java"
   ]
  },
  {
   "attachments": {},
   "cell_type": "markdown",
   "metadata": {},
   "source": [
    "## Which of the following is the correct syntax for applying type hinting? Select all that apply.\n",
    "\n",
    "- `def function_name(parameter_name: type) -> return_type:` ***\n",
    "- `def function_name(parameter_name: type = default_arg) -> return_type:` ***\n",
    "- `def function_name(parameter_name: type): -> return_type`\n",
    "- `def function_name(parameter_name = default_arg: type ) -> return_type:`\n",
    "- `def function_name(parameter_name, type) -> return_type:` "
   ]
  }
 ],
 "metadata": {
  "kernelspec": {
   "display_name": "base",
   "language": "python",
   "name": "python3"
  },
  "language_info": {
   "name": "python",
   "version": "3.10.9"
  },
  "orig_nbformat": 4,
  "vscode": {
   "interpreter": {
    "hash": "a2592652612463181e69ac003232387e3e9a99279aa6b168e76f5df16d5110f4"
   }
  }
 },
 "nbformat": 4,
 "nbformat_minor": 2
}
