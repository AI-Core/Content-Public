{
 "cells": [
  {
   "cell_type": "markdown",
   "metadata": {},
   "source": [
    "# Typing"
   ]
  },
  {
   "cell_type": "markdown",
   "metadata": {},
   "source": [
    "Typing is another way to comment your code. Hoewever in this case, you are not explaining the code, but rather the intended data type of your variables.\n",
    "\n",
    "Just like comments, you don't have to follow the directions of typing hints, but if they are there, it's because they are important!"
   ]
  },
  {
   "cell_type": "markdown",
   "metadata": {},
   "source": [
    "We have been seeing type hinting from the beginning of this notebook. If you didn't notice, good! That means your eye is getting used to type hinting! Let's see some examples using functions. The syntax for type hinting is:\n",
    "\n",
    "`def function_name(parameter_name: type) -> return_type:`"
   ]
  },
  {
   "cell_type": "code",
   "execution_count": 25,
   "metadata": {},
   "outputs": [],
   "source": [
    "import requests\n",
    "from bs4 import BeautifulSoup\n",
    "def get_html(url: str) -> BeautifulSoup:\n",
    "    \"\"\"\n",
    "    Get the HTML of a URL\n",
    "    \n",
    "    Parameters\n",
    "    ----------\n",
    "    url : str\n",
    "        The URL to get the HTML of\n",
    "    \n",
    "    Returns\n",
    "    -------\n",
    "    str\n",
    "        The HTML of the URL\n",
    "    \"\"\"\n",
    "    r = requests.get(url)\n",
    "    if r.status_code == 200:\n",
    "        return BeautifulSoup(r.text, 'html.parser')\n",
    "    else:\n",
    "        return None"
   ]
  },
  {
   "cell_type": "markdown",
   "metadata": {},
   "source": [
    "Looks fine right? We can see in the typing that we can pass a string to the function, and it will return a BeautifulSoup object.\n",
    "\n",
    "But wait, what if we don't get a good response? We would return None. The typing library can help us defining multiple types for our function."
   ]
  },
  {
   "cell_type": "code",
   "execution_count": 1,
   "metadata": {},
   "outputs": [],
   "source": [
    "import requests\n",
    "from bs4 import BeautifulSoup\n",
    "from typing import Union\n",
    "\n",
    "def get_html(url: str) -> Union[BeautifulSoup, None]:\n",
    "    \"\"\"\n",
    "    Get the HTML of a URL\n",
    "    \n",
    "    Parameters\n",
    "    ----------\n",
    "    url : str\n",
    "        The URL to get the HTML of\n",
    "    \n",
    "    Returns\n",
    "    -------\n",
    "    str\n",
    "        The HTML of the URL\n",
    "    \"\"\"\n",
    "    r = requests.get(url)\n",
    "    if r.status_code == 200:\n",
    "        return BeautifulSoup(r.text, 'html.parser')\n",
    "    else:\n",
    "        return None"
   ]
  },
  {
   "cell_type": "markdown",
   "metadata": {},
   "source": [
    "in this case, we are telling Python that we are expecting either a BeatifulSoup object or a None. This can be actually simplified with the Optional type:"
   ]
  },
  {
   "cell_type": "code",
   "execution_count": 15,
   "metadata": {},
   "outputs": [],
   "source": [
    "import requests\n",
    "from bs4 import BeautifulSoup\n",
    "from typing import Optional\n",
    "import typing as t\n",
    "\n",
    "def get_html(url: str) -> Optional[BeautifulSoup]:\n",
    "    \"\"\"\n",
    "    Get the HTML of a URL\n",
    "    \n",
    "    Parameters\n",
    "    ----------\n",
    "    url : str\n",
    "        The URL to get the HTML of\n",
    "    \n",
    "    Returns\n",
    "    -------\n",
    "    str\n",
    "        The HTML of the URL\n",
    "    \"\"\"\n",
    "    r = requests.get(url)\n",
    "    if r.status_code == 200:\n",
    "        return BeautifulSoup(r.text, 'html.parser')\n",
    "    else:\n",
    "        return None"
   ]
  },
  {
   "cell_type": "markdown",
   "metadata": {},
   "source": [
    "The typing library has multiple ways to specify types. The most common ones are:\n",
    "\n",
    "- [`typing.Any`](https://docs.python.org/3/library/typing.html#typing.Any): Essentially, a wildcard.\n",
    "- [`typing.Callable`](https://docs.python.org/3/library/typing.html#typing.Callable): A function or method. \n",
    "- [`typing.Union`](https://docs.python.org/3/library/typing.html#typing.Union): A type that can be one of several types. Union[type1, type2, ...]\n",
    "- [`typing.Optional`](https://docs.python.org/3/library/typing.html#typing.Optional): A type that can be None. Optional[type]\n",
    "- [`typing.Tuple`](https://docs.python.org/3/library/typing.html#typing.Tuple): A type that can be a tuple of types. Tuple[type1, type2, ...]\n",
    "- [`typing.List`](https://docs.python.org/3/library/typing.html#typing.List): A type that can be a list of types. List[type1, type2, ...]\n",
    "\n",
    "Apart from the types in the typing library, there are also some more specific types that are useful for writing tests:\n",
    "\n",
    "- str: A string.\n",
    "- int: An integer.\n",
    "- float: A floating point number.\n",
    "- bool: A boolean.\n",
    "- None: A value that can be None.\n",
    "- list: A list."
   ]
  },
  {
   "cell_type": "markdown",
   "metadata": {},
   "source": [
    "## Typecheckers: mypy"
   ]
  },
  {
   "cell_type": "markdown",
   "metadata": {},
   "source": [
    "There are multiple modules that checks that your code is using the correct types. For example mypy, pytype, pyright, or pyre.\n",
    "\n",
    "This would not make much sense in a language like Java where types are statically defined.\n",
    "\n",
    "In this case, we are going to use mypy. You can use `mypy` to check the types of your code. First, install mypy:\n",
    "\n",
    "`pip install mypy`\n",
    "\n",
    "Then, you can use it to check the types of a specific file:\n",
    "\n",
    "`mypy <filename>`\n",
    "\n",
    "It will return a list of errors."
   ]
  },
  {
   "cell_type": "markdown",
   "metadata": {},
   "source": [
    "There are some libraries that are not included in the objects detected by mypy, in those cases you can create your own stubs. But if you don't want to spend time on that you can include the following after importing the library:\n",
    "\n",
    "`# type: ignore`"
   ]
  },
  {
   "cell_type": "code",
   "execution_count": 16,
   "metadata": {},
   "outputs": [],
   "source": [
    "from bs4 import BeautifulSoup # type: ignore"
   ]
  },
  {
   "cell_type": "markdown",
   "metadata": {},
   "source": [
    "# Pydantic"
   ]
  },
  {
   "cell_type": "markdown",
   "metadata": {},
   "source": [
    "Using type hints doesn't enforce the user to use the specified type. \n",
    "\n",
    "> <font size=+1>[Pydantic](https://pydantic-docs.helpmanual.io/) enforces the user to use the arguments to pass to the model or function we create with this library.</font>\n",
    "\n",
    "Install it using:\n"
   ]
  },
  {
   "cell_type": "code",
   "execution_count": 17,
   "metadata": {},
   "outputs": [
    {
     "name": "stdout",
     "output_type": "stream",
     "text": [
      "Requirement already satisfied: pydantic in c:\\users\\blair_bbkduqz\\anaconda3\\envs\\aicoreteach\\lib\\site-packages (1.8.2)\n",
      "Requirement already satisfied: typing-extensions>=3.7.4.3 in c:\\users\\blair_bbkduqz\\anaconda3\\envs\\aicoreteach\\lib\\site-packages (from pydantic) (3.10.0.2)\n"
     ]
    }
   ],
   "source": [
    "!pip install pydantic"
   ]
  },
  {
   "cell_type": "markdown",
   "metadata": {},
   "source": [
    "Or"
   ]
  },
  {
   "cell_type": "code",
   "execution_count": null,
   "metadata": {},
   "outputs": [],
   "source": [
    "!conda install pydantic -c conda-forge"
   ]
  },
  {
   "cell_type": "markdown",
   "metadata": {},
   "source": [
    "The most basic usage of Pydantic is through models, which are classes that inherits from `BaseModel`, and we can create a class the same way we used the `dataclass` decorator."
   ]
  },
  {
   "cell_type": "code",
   "execution_count": 7,
   "metadata": {},
   "outputs": [],
   "source": [
    "class Person(BaseModel):\n",
    "    name: str\n",
    "    age: int\n",
    "    role: str"
   ]
  },
  {
   "cell_type": "code",
   "execution_count": 19,
   "metadata": {},
   "outputs": [
    {
     "name": "stdout",
     "output_type": "stream",
     "text": [
      "heat_level=40.0\n",
      "Temperature converted from Celsius to Farenheit\n",
      "104\n",
      "2.28\n",
      "True\n",
      "heat_level=4.5\n"
     ]
    }
   ],
   "source": [
    "'''\n",
    "This is a Temperature module\n",
    "it contains the Temperature class, which allows you to: \n",
    " - Set a Temperature in either Degrees Celsius or Farenheit \n",
    "- Convert a Temperature between Degrees Celsius or Farenheit \n",
    "- Set a Temperatue to 0 \n",
    "- Check if a Temperature is valid between -273 and 3000 \n",
    "'''\n",
    "from pydantic import BaseModel\n",
    "from pydantic import validate_arguments\n",
    "\n",
    "\n",
    "class Temperature(BaseModel): \n",
    "    ''' \n",
    "    This is the intialisation function featuring class decorator @dataclass\n",
    "    Attribute : \n",
    "        heat_level(float): the heat_level represented in Degrees Celsius \n",
    "    '''\n",
    "    heat_level : float\n",
    "\n",
    "\n",
    "    def temp_f_convert(self):\n",
    "        '''\n",
    "        Function to convert a temperature from Degrees Celsius to Farenheit \n",
    "        Returns\n",
    "            ----------\n",
    "            float:\n",
    "             The heat_level in Farenheit  \n",
    "        '''\n",
    "        temp_f = round((float(1.8 * self.heat_level) + 32))\n",
    "        print(\"Temperature converted from Celsius to Farenheit\")\n",
    "        return temp_f\n",
    "\n",
    "\n",
    "    @staticmethod\n",
    "    @validate_arguments\n",
    "    def temp_c_convert(temp_far:float):\n",
    "        '''\n",
    "        Function to convert a Temperature from Farenheit to Degrees Celsius \n",
    "        Argument:\n",
    "            ...........\n",
    "        temp_cels : Takes a temperature in Farenheit and outputs it as Celsius\n",
    "        Returns:\n",
    "            ..........\n",
    "            str:  \n",
    "                String representation of float variable  temp_cels + '°C' \n",
    "        '''    \n",
    "        temp_cels = round(float((temp_far - 32) / 1.8),2)\n",
    "        return str(temp_cels) \n",
    "\n",
    "    \n",
    "    @staticmethod\n",
    "    def is_temp_valid(check_temp:float):\n",
    "        '''  \n",
    "        Function to check if a temperature is valid \n",
    "        Returns\n",
    "            .......\n",
    "            Bool: True if conditions are met \n",
    "        '''\n",
    "        if 3000 >= check_temp >= -273:\n",
    "            return True\n",
    "        else:\n",
    "            return False \n",
    "\n",
    "          \n",
    "    @classmethod\n",
    "    @validate_arguments  \n",
    "    def new_temp_f(cls, temp_fh:float): # farenheit \n",
    "        '''   \n",
    "        Function to create a new instance of the Temperature Class \n",
    "        Args: \n",
    "            .......\n",
    "            float\n",
    "                temp_fh : The temperature in Farenheit \n",
    "        Returns: \n",
    "            .......\n",
    "            A new instance of the Temperature Class in Celsius  \n",
    "        '''\n",
    "        temp_in_celsius = cls.temp_c_convert(temp_fh) # calls the staticmethod / function. Go to the class, go to the method, input the number into it.\n",
    "        return cls(heat_level=temp_in_celsius)\n",
    "\n",
    "    @classmethod\n",
    "    def standard(cls): \n",
    "        ''' Function to set a temperature to zero using a new instance of the class \n",
    "            Attribute:\n",
    "                .........\n",
    "                int\n",
    "                    temp_c = The temperature in Celsius\n",
    "           '''\n",
    "        standard_temp = 0 \n",
    "        return cls(heat_level=standard_temp) \n",
    "\n",
    "Kettle = Temperature(heat_level=40.0) \n",
    "print(Kettle)\n",
    "Bath = Kettle.temp_f_convert()\n",
    "print(Bath)\n",
    "print(Temperature.temp_c_convert(36.1))\n",
    "print(Temperature.is_temp_valid(600))\n",
    "print(Temperature.new_temp_f(40.1))"
   ]
  },
  {
   "cell_type": "markdown",
   "metadata": {},
   "source": [
    "We just created a class with three attributes, and we are __forcing__ the user to use those types when creating the class"
   ]
  },
  {
   "cell_type": "code",
   "execution_count": 19,
   "metadata": {},
   "outputs": [],
   "source": [
    "michael = Person(name='Michael Scott', age=46, role='Regional Manager')"
   ]
  },
  {
   "cell_type": "markdown",
   "metadata": {},
   "source": [
    "Nothing is wrong, but if we force it to have a different type:"
   ]
  },
  {
   "cell_type": "code",
   "execution_count": 20,
   "metadata": {},
   "outputs": [
    {
     "ename": "ValidationError",
     "evalue": "1 validation error for Person\nage\n  value is not a valid integer (type=type_error.integer)",
     "output_type": "error",
     "traceback": [
      "\u001b[1;31m---------------------------------------------------------------------------\u001b[0m",
      "\u001b[1;31mValidationError\u001b[0m                           Traceback (most recent call last)",
      "\u001b[1;32mC:\\Users\\BLAIR_~1\\AppData\\Local\\Temp/ipykernel_17240/2617146355.py\u001b[0m in \u001b[0;36m<module>\u001b[1;34m\u001b[0m\n\u001b[1;32m----> 1\u001b[1;33m \u001b[0mdwight\u001b[0m \u001b[1;33m=\u001b[0m \u001b[0mPerson\u001b[0m\u001b[1;33m(\u001b[0m\u001b[0mname\u001b[0m\u001b[1;33m=\u001b[0m\u001b[1;34m'Dwight Schrute'\u001b[0m\u001b[1;33m,\u001b[0m \u001b[0mage\u001b[0m\u001b[1;33m=\u001b[0m\u001b[1;34m'Thirty Six'\u001b[0m\u001b[1;33m,\u001b[0m \u001b[0mrole\u001b[0m\u001b[1;33m=\u001b[0m\u001b[1;34m'Beet farmer'\u001b[0m\u001b[1;33m)\u001b[0m\u001b[1;33m\u001b[0m\u001b[1;33m\u001b[0m\u001b[0m\n\u001b[0m",
      "\u001b[1;32m~\\anaconda3\\envs\\AiCoreTeach\\lib\\site-packages\\pydantic\\main.cp39-win_amd64.pyd\u001b[0m in \u001b[0;36mpydantic.main.BaseModel.__init__\u001b[1;34m()\u001b[0m\n",
      "\u001b[1;31mValidationError\u001b[0m: 1 validation error for Person\nage\n  value is not a valid integer (type=type_error.integer)"
     ]
    }
   ],
   "source": [
    "dwight = Person(name='Dwight Schrute', age='Thirty Six', role='Beet farmer')"
   ]
  },
  {
   "cell_type": "markdown",
   "metadata": {},
   "source": [
    "Pydantic prevents us from defining that variable. One cool feature is that Pydantic will try to cast the arguments you pass to the type you specified in the class definition. Here, for age we are passing a string (containing a number):"
   ]
  },
  {
   "cell_type": "code",
   "execution_count": 5,
   "metadata": {},
   "outputs": [
    {
     "data": {
      "text/plain": [
       "int"
      ]
     },
     "execution_count": 5,
     "metadata": {},
     "output_type": "execute_result"
    }
   ],
   "source": [
    "jim = Person(name='Jim Halpert', age='36', role='Sales Representative')\n",
    "type(jim.age)"
   ]
  },
  {
   "cell_type": "markdown",
   "metadata": {},
   "source": [
    "Quite convenient isn't it?\n",
    "\n",
    "Additionally, Pydantic's models have quite useful methods to check the values of the attributes:"
   ]
  },
  {
   "cell_type": "code",
   "execution_count": 21,
   "metadata": {},
   "outputs": [
    {
     "name": "stdout",
     "output_type": "stream",
     "text": [
      "{'name': 'Jim Halpert', 'age': 36, 'role': 'Sales Representative'}\n",
      "{\"name\": \"Jim Halpert\", \"age\": 36, \"role\": \"Sales Representative\"}\n"
     ]
    }
   ],
   "source": [
    "print(jim.dict())\n",
    "print(jim.json())"
   ]
  },
  {
   "cell_type": "markdown",
   "metadata": {},
   "source": [
    "You can check more methods on the Pydantic [documentation](https://pydantic-docs.helpmanual.io/usage/models/)"
   ]
  },
  {
   "cell_type": "markdown",
   "metadata": {},
   "source": [
    "Alternatively, if you are more comfortable working with decorators, you can achieve the same result using the dataclass decorator from pydantic. Also, you can use the same type hints class we saw above."
   ]
  },
  {
   "cell_type": "code",
   "execution_count": 22,
   "metadata": {},
   "outputs": [
    {
     "name": "stdout",
     "output_type": "stream",
     "text": [
      "None\n"
     ]
    }
   ],
   "source": [
    "from pydantic.dataclasses import dataclass\n",
    "from typing import Optional\n",
    "\n",
    "@dataclass\n",
    "class Person:\n",
    "    name: str\n",
    "    age: int\n",
    "    role: Optional[str] = None\n",
    "\n",
    "pam = Person(name='Pam Beesly', age='36')\n",
    "print(pam.role)"
   ]
  },
  {
   "cell_type": "markdown",
   "metadata": {},
   "source": [
    "Lastly, if you want to use pydantic checks on a function, you can decorate it using the `validate_arguments` decorator:"
   ]
  },
  {
   "cell_type": "code",
   "execution_count": 23,
   "metadata": {},
   "outputs": [
    {
     "name": "stdout",
     "output_type": "stream",
     "text": [
      "3\n",
      "<class 'str'>\n"
     ]
    },
    {
     "ename": "ValidationError",
     "evalue": "1 validation error for SayMyName\nx\n  str type expected (type=type_error.str)",
     "output_type": "error",
     "traceback": [
      "\u001b[1;31m---------------------------------------------------------------------------\u001b[0m",
      "\u001b[1;31mValidationError\u001b[0m                           Traceback (most recent call last)",
      "\u001b[1;32mC:\\Users\\BLAIR_~1\\AppData\\Local\\Temp/ipykernel_17240/412552692.py\u001b[0m in \u001b[0;36m<module>\u001b[1;34m\u001b[0m\n\u001b[0;32m     10\u001b[0m \u001b[1;33m\u001b[0m\u001b[0m\n\u001b[0;32m     11\u001b[0m \u001b[0msay_my_name\u001b[0m\u001b[1;33m(\u001b[0m\u001b[1;36m3\u001b[0m\u001b[1;33m)\u001b[0m \u001b[1;31m# This will cast 3 as a string\u001b[0m\u001b[1;33m\u001b[0m\u001b[1;33m\u001b[0m\u001b[0m\n\u001b[1;32m---> 12\u001b[1;33m \u001b[0msay_my_name\u001b[0m\u001b[1;33m(\u001b[0m\u001b[1;33m[\u001b[0m\u001b[1;34m'Jesse'\u001b[0m\u001b[1;33m,\u001b[0m \u001b[1;34m'Walter'\u001b[0m\u001b[1;33m,\u001b[0m \u001b[1;34m'Heisenberg'\u001b[0m\u001b[1;33m]\u001b[0m\u001b[1;33m)\u001b[0m\u001b[1;33m\u001b[0m\u001b[1;33m\u001b[0m\u001b[0m\n\u001b[0m",
      "\u001b[1;32m~\\anaconda3\\envs\\AiCoreTeach\\lib\\site-packages\\pydantic\\decorator.cp39-win_amd64.pyd\u001b[0m in \u001b[0;36mpydantic.decorator.validate_arguments.validate.wrapper_function\u001b[1;34m()\u001b[0m\n",
      "\u001b[1;32m~\\anaconda3\\envs\\AiCoreTeach\\lib\\site-packages\\pydantic\\decorator.cp39-win_amd64.pyd\u001b[0m in \u001b[0;36mpydantic.decorator.ValidatedFunction.call\u001b[1;34m()\u001b[0m\n",
      "\u001b[1;32m~\\anaconda3\\envs\\AiCoreTeach\\lib\\site-packages\\pydantic\\decorator.cp39-win_amd64.pyd\u001b[0m in \u001b[0;36mpydantic.decorator.ValidatedFunction.init_model_instance\u001b[1;34m()\u001b[0m\n",
      "\u001b[1;32m~\\anaconda3\\envs\\AiCoreTeach\\lib\\site-packages\\pydantic\\main.cp39-win_amd64.pyd\u001b[0m in \u001b[0;36mpydantic.main.BaseModel.__init__\u001b[1;34m()\u001b[0m\n",
      "\u001b[1;31mValidationError\u001b[0m: 1 validation error for SayMyName\nx\n  str type expected (type=type_error.str)"
     ]
    }
   ],
   "source": [
    "from pydantic import validate_arguments\n",
    "\n",
    "@validate_arguments\n",
    "def say_my_name(x: str):\n",
    "    if x == 'Heisenberg':\n",
    "        print(\"You're goddamn right\")\n",
    "    else:\n",
    "        print(x)\n",
    "        print(type(x))\n",
    "\n",
    "say_my_name(3) # This will cast 3 as a string\n",
    "say_my_name(['Jesse', 'Walter', 'Heisenberg']) "
   ]
  },
  {
   "cell_type": "markdown",
   "metadata": {},
   "source": [
    "Modern libraries are starting to use Pydantic as a way to meet some user standards. For example, FastAPI uses these models for defining what is to be expected from requests."
   ]
  },
  {
   "cell_type": "markdown",
   "metadata": {},
   "source": [
    "# Summary\n",
    "\n",
    "- Typing is a way to check the type of a variable.\n",
    "- You can check that your code has the correct types using `mypy`.\n",
    "- You can enforce the user to user certain type of data using Pydantic"
   ]
  }
 ],
 "metadata": {
  "kernelspec": {
   "display_name": "Python 3.9.0 64-bit",
   "language": "python",
   "name": "python3"
  },
  "language_info": {
   "codemirror_mode": {
    "name": "ipython",
    "version": 3
   },
   "file_extension": ".py",
   "mimetype": "text/x-python",
   "name": "python",
   "nbconvert_exporter": "python",
   "pygments_lexer": "ipython3",
   "version": "3.9.0"
  },
  "orig_nbformat": 4,
  "vscode": {
   "interpreter": {
    "hash": "aee8b7b246df8f9039afb4144a1f6fd8d2ca17a180786b69acc140d282b71a49"
   }
  }
 },
 "nbformat": 4,
 "nbformat_minor": 2
}
