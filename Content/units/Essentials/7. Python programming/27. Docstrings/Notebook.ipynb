{
 "cells": [
  {
   "cell_type": "markdown",
   "metadata": {},
   "source": [
    "# Docstrings"
   ]
  },
  {
   "cell_type": "markdown",
   "metadata": {},
   "source": [
    "## Introduction\n",
    "\n",
    ">If the implementation is difficult to explain, it is a bad idea. If the implementation is easy to explain, it may be a good idea.\n",
    "\n",
    "_[The Zen of Python](https://www.python.org/dev/peps/pep-0020/)_"
   ]
  },
  {
   "cell_type": "markdown",
   "metadata": {},
   "source": [
    "The Zen of Python is a set of eight short principles by Tim Peters. Even though it looks like an internal easter egg, it is actually a very important principle. In this paragraph, Tim Peters talks about the importance of explanation ease and readability in regard to implementation.\n",
    "\n",
    "One great strategy to realise the difficulty (or ease) of explaining your code is to define a docstring. Docstrings are employed to document code. They help you explain your code to the user or another developer. \n",
    "\n",
    "Thus, when writing code, you should consider how easy it would be for the user or another developer to understand your code. If it is difficult to explain, the implementation is bad. If it is easy, the implementation is good.\n",
    "\n",
    "Another way to document your code is by strict documentation of your program (we will cover that later in this module).\n",
    "\n",
    "Apart from documentation, you should consider the type of variables. For example, if your function is to work with a list of numbers, you can specify this information in both the docstring and the function arguments."
   ]
  },
  {
   "cell_type": "markdown",
   "metadata": {},
   "source": [
    "> Code tells you how, while comments tell you why."
   ]
  },
  {
   "cell_type": "markdown",
   "metadata": {},
   "source": [
    "By now, the code you have been working with should have explanatory comments. Commenting has many purposes:\n",
    "- For describing sections of your code.\n",
    "- For noticing and using algorithms that would otherwise be difficult to notice.\n",
    "- Tagging (probably one of the most important uses), which is utilised to mark a section of the code (conventionally) as incomplete. Typical tags are BUG, FIXME and TODO."
   ]
  },
  {
   "cell_type": "code",
   "execution_count": 1,
   "metadata": {},
   "outputs": [],
   "source": [
    "my_list = [1, 2, 3]\n",
    "# TODO: Check the length of this list \n",
    "length = 3\n",
    "# FIXME: Use the len() function\n",
    "length = len(my_list)\n"
   ]
  },
  {
   "cell_type": "markdown",
   "metadata": {},
   "source": [
    "Docstrings present another way to add comments; however, they are more concrete and targeted to functions, methods, classes, modules or packages (as we will see later).\n",
    "\n",
    "Docstrings can be checked using the `__doc__` attribute or using the help() built-in function."
   ]
  },
  {
   "cell_type": "code",
   "execution_count": 8,
   "metadata": {},
   "outputs": [
    {
     "name": "stdout",
     "output_type": "stream",
     "text": [
      "\n",
      "pandas - a powerful data analysis and manipulation library for Python\n",
      "=====================================================================\n",
      "\n",
      "**pandas** is a Python package providing fast, flexible, and expressive data\n",
      "structures designed to make working with \"relational\" or \"labeled\" data both\n",
      "easy and intuitive. It aims to be the fundamental high-level building block for\n",
      "doing practical, **real world** data analysis in Python. Additionally, it has\n",
      "the broader goal of becoming **the most powerful and flexible open source data\n",
      "analysis / manipulation tool available in any language**. It is already well on\n",
      "its way toward this goal.\n",
      "\n",
      "Main Features\n",
      "-------------\n",
      "Here are just a few of the things that pandas does well:\n",
      "\n",
      "  - Easy handling of missing data in floating point as well as non-floating\n",
      "    point data.\n",
      "  - Size mutability: columns can be inserted and deleted from DataFrame and\n",
      "    higher dimensional objects\n",
      "  - Automatic and explicit data alignment: objects can be explicitly aligned\n",
      "    to a set of labels, or the user can simply ignore the labels and let\n",
      "    `Series`, `DataFrame`, etc. automatically align the data for you in\n",
      "    computations.\n",
      "  - Powerful, flexible group by functionality to perform split-apply-combine\n",
      "    operations on data sets, for both aggregating and transforming data.\n",
      "  - Make it easy to convert ragged, differently-indexed data in other Python\n",
      "    and NumPy data structures into DataFrame objects.\n",
      "  - Intelligent label-based slicing, fancy indexing, and subsetting of large\n",
      "    data sets.\n",
      "  - Intuitive merging and joining data sets.\n",
      "  - Flexible reshaping and pivoting of data sets.\n",
      "  - Hierarchical labeling of axes (possible to have multiple labels per tick).\n",
      "  - Robust IO tools for loading data from flat files (CSV and delimited),\n",
      "    Excel files, databases, and saving/loading data from the ultrafast HDF5\n",
      "    format.\n",
      "  - Time series-specific functionality: date range generation and frequency\n",
      "    conversion, moving window statistics, date shifting and lagging.\n",
      "\n"
     ]
    }
   ],
   "source": [
    "import pandas as pd\n",
    "# help(pd)\n",
    "print(pd.__doc__)"
   ]
  },
  {
   "cell_type": "markdown",
   "metadata": {},
   "source": [
    "In this case, we saw the docstring of the pandas module; however, we can also check the docstrings of its methods."
   ]
  },
  {
   "cell_type": "code",
   "execution_count": 9,
   "metadata": {},
   "outputs": [
    {
     "name": "stdout",
     "output_type": "stream",
     "text": [
      "\n",
      "        Construct DataFrame from dict of array-like or dicts.\n",
      "\n",
      "        Creates DataFrame object from dictionary by columns or by index\n",
      "        allowing dtype specification.\n",
      "\n",
      "        Parameters\n",
      "        ----------\n",
      "        data : dict\n",
      "            Of the form {field : array-like} or {field : dict}.\n",
      "        orient : {'columns', 'index'}, default 'columns'\n",
      "            The \"orientation\" of the data. If the keys of the passed dict\n",
      "            should be the columns of the resulting DataFrame, pass 'columns'\n",
      "            (default). Otherwise if the keys should be rows, pass 'index'.\n",
      "        dtype : dtype, default None\n",
      "            Data type to force, otherwise infer.\n",
      "        columns : list, default None\n",
      "            Column labels to use when ``orient='index'``. Raises a ValueError\n",
      "            if used with ``orient='columns'``.\n",
      "\n",
      "        Returns\n",
      "        -------\n",
      "        DataFrame\n",
      "\n",
      "        See Also\n",
      "        --------\n",
      "        DataFrame.from_records : DataFrame from structured ndarray, sequence\n",
      "            of tuples or dicts, or DataFrame.\n",
      "        DataFrame : DataFrame object creation using constructor.\n",
      "\n",
      "        Examples\n",
      "        --------\n",
      "        By default the keys of the dict become the DataFrame columns:\n",
      "\n",
      "        >>> data = {'col_1': [3, 2, 1, 0], 'col_2': ['a', 'b', 'c', 'd']}\n",
      "        >>> pd.DataFrame.from_dict(data)\n",
      "           col_1 col_2\n",
      "        0      3     a\n",
      "        1      2     b\n",
      "        2      1     c\n",
      "        3      0     d\n",
      "\n",
      "        Specify ``orient='index'`` to create the DataFrame using dictionary\n",
      "        keys as rows:\n",
      "\n",
      "        >>> data = {'row_1': [3, 2, 1, 0], 'row_2': ['a', 'b', 'c', 'd']}\n",
      "        >>> pd.DataFrame.from_dict(data, orient='index')\n",
      "               0  1  2  3\n",
      "        row_1  3  2  1  0\n",
      "        row_2  a  b  c  d\n",
      "\n",
      "        When using the 'index' orientation, the column names can be\n",
      "        specified manually:\n",
      "\n",
      "        >>> pd.DataFrame.from_dict(data, orient='index',\n",
      "        ...                        columns=['A', 'B', 'C', 'D'])\n",
      "               A  B  C  D\n",
      "        row_1  3  2  1  0\n",
      "        row_2  a  b  c  d\n",
      "        \n"
     ]
    }
   ],
   "source": [
    "print(pd.DataFrame.from_dict.__doc__)"
   ]
  },
  {
   "cell_type": "markdown",
   "metadata": {},
   "source": [
    "A docstring can be created by providing a description of the object's functionality. However, recall that you have to use three single (''' docstring ''') or double (\"\"\" docstring \"\"\") quotation marks."
   ]
  },
  {
   "cell_type": "code",
   "execution_count": 10,
   "metadata": {},
   "outputs": [
    {
     "name": "stdout",
     "output_type": "stream",
     "text": [
      "Help on function say_hi in module __main__:\n",
      "\n",
      "say_hi(name)\n",
      "\n"
     ]
    }
   ],
   "source": [
    "def say_hi(name):\n",
    "    # This function says hi to the user\n",
    "    print(f\"Hello {name}\")\n",
    "\n",
    "help(say_hi)"
   ]
  },
  {
   "cell_type": "code",
   "execution_count": 11,
   "metadata": {},
   "outputs": [
    {
     "name": "stdout",
     "output_type": "stream",
     "text": [
      "Help on function say_hi in module __main__:\n",
      "\n",
      "say_hi(name)\n",
      "    This function says hi to the user\n",
      "\n"
     ]
    }
   ],
   "source": [
    "def say_hi(name):\n",
    "    \"\"\" This function says hi to the user \"\"\"\n",
    "    print(f\"Hello {name}\")\n",
    "\n",
    "help(say_hi)"
   ]
  },
  {
   "cell_type": "markdown",
   "metadata": {},
   "source": [
    "As you may have observed, __a regular comment does not work.__\n",
    "\n",
    "The convention for docstring can be found in [PEP257 ](https://www.python.org/dev/peps/pep-0257/). However, we recommend visiting the link only after you have learnt how to write docstring, since only the rules to follow when writing one are contained therein. "
   ]
  },
  {
   "cell_type": "markdown",
   "metadata": {},
   "source": [
    "## Docstring Classification\n",
    "\n",
    "Docstrings can be classified into two groups: one-line docstrings (similar to the one we saw in the `say_hi` function) or multiline docstrings (which are more descriptive).\n",
    "\n",
    "### Multiline Docstrings"
   ]
  },
  {
   "cell_type": "markdown",
   "metadata": {},
   "source": [
    "The structure of a multiline docstring is as follows:\n",
    "- A one-line summary.\n",
    "- An empty line.\n",
    "- An elaborate description."
   ]
  },
  {
   "cell_type": "code",
   "execution_count": 14,
   "metadata": {},
   "outputs": [
    {
     "name": "stdout",
     "output_type": "stream",
     "text": [
      "Help on function say_hi in module __main__:\n",
      "\n",
      "say_hi(name)\n",
      "    This function says hi to the user\n",
      "    \n",
      "    The purpose of this function is to demonstrate how to document\n",
      "    a function following the convention established in the PEP257.\n",
      "    It actually does not do much, and I am writing this to fill\n",
      "    the docstring... Lorem ipsum dolor sit amet.\n",
      "\n"
     ]
    }
   ],
   "source": [
    "def say_hi(name):\n",
    "    \"\"\"\n",
    "    This function says hi to the user\n",
    "\n",
    "    The purpose of this function is to demonstrate how to document\n",
    "    a function following the convention established in PEP257.\n",
    "    It actually does not do much, and I am writing this to fill\n",
    "    the docstring... Lorem ipsum dolor sit amet.\n",
    "    \"\"\"\n",
    "    print(\"Hello {}\".format(name))\n",
    "\n",
    "help(say_hi)"
   ]
  },
  {
   "cell_type": "markdown",
   "metadata": {},
   "source": [
    "## Docstring for Classes"
   ]
  },
  {
   "cell_type": "markdown",
   "metadata": {},
   "source": [
    "Thus far, we have only explored docstrings for functions. However, as mentioned, we can also utilise docstrings for classes.\n",
    "\n",
    "For classes, they follow the same principle as those for functions, with a few exceptions: \n",
    "- The docstring should be the first thing in the class definition.\n",
    "- Each method should have a docstring, provided that the method is not private.\n",
    "- There is no clear consensus on whether the `__init__` method should have a docstring. However, many frameworks refer to the class docstring when defining the `__init__` method docstring."
   ]
  },
  {
   "cell_type": "code",
   "execution_count": 19,
   "metadata": {},
   "outputs": [],
   "source": [
    "class Date:\n",
    "    '''\n",
    "    This class is used to represent a date.\n",
    "\n",
    "    Attributes:\n",
    "        year (int): the year of the date.\n",
    "        month (int): the month of the date.\n",
    "        day (int): the day of the date.\n",
    "    '''\n",
    "    def __init__(self, year: int, month: int, day: int):\n",
    "        '''\n",
    "        See help(Date) for accurate signature\n",
    "        '''\n",
    "        self.year = year\n",
    "        self.month = month\n",
    "        self.day = day\n",
    "\n",
    "    def __str__(self):\n",
    "        '''\n",
    "        This function is used to return the string representation of the date.\n",
    "\n",
    "        Returns:\n",
    "            str: the string representation of the date.\n",
    "        '''\n",
    "        return \"{0}-{1}-{2}\".format(self.year, self.month, self.day)\n",
    "\n",
    "    def __repr__(self):\n",
    "        '''\n",
    "        This function is used to return the string representation of the date.\n",
    "\n",
    "        Returns:\n",
    "            str: the string representation of the date.\n",
    "        '''\n",
    "        return \"{0}-{1}-{2}\".format(self.year, self.month, self.day)\n",
    "\n",
    "    def __eq__(self, other):\n",
    "        '''\n",
    "        This function is used to compare the date with other dates.\n",
    "\n",
    "        Args:\n",
    "            other (Date): the other date to be compared with.\n",
    "\n",
    "        Returns:\n",
    "            bool: true if the date is equal to the other date; false otherwise.\n",
    "        '''\n",
    "        return self.year == other.year and self.month == other.month and \\\n",
    "            self.day == other.day\n",
    "\n",
    "    def __lt__(self, other):\n",
    "        '''\n",
    "        This function is used to compare the date with other dates.\n",
    "\n",
    "        Args:\n",
    "            other (Date): the other date to be compared with.\n",
    "\n",
    "        Returns:\n",
    "            bool: true if the date is less than the other date; False otherwise.\n",
    "        '''\n",
    "        if self.year < other.year:\n",
    "            return True\n",
    "        elif self.year == other.year:\n",
    "            if self.month < other.month:\n",
    "                return True\n",
    "            elif self.month == other.month:\n",
    "                if self.day < other.day:\n",
    "                    return True\n",
    "        return False\n",
    "        \n",
    "    \n",
    "    @staticmethod\n",
    "    def is_date_valid(year, month, day):\n",
    "        '''\n",
    "        This function is used to check if the date is valid.\n",
    "\n",
    "        Args:\n",
    "            year (int): the year of the date.\n",
    "            month (int): the month of the date.\n",
    "            day (int): the day of the date.\n",
    "\n",
    "        Returns:\n",
    "            bool: true if the date is valid; False otherwise.\n",
    "        '''\n",
    "        return year >= 0 and month >= 1 and month <= 12 and \\\n",
    "            day >= 1 and day <= 31\n",
    "\n",
    "    @classmethod\n",
    "    def from_string(cls, date_as_string):\n",
    "        '''\n",
    "        This function is used to create a date from a string.\n",
    "\n",
    "        Args:\n",
    "            date_as_string (str): the string representation of the date.\n",
    "\n",
    "        Returns:\n",
    "            Date: the date created from the string.\n",
    "        '''\n",
    "        year, month, day = map(int, date_as_string.split('-'))\n",
    "        return cls(year, month, day)"
   ]
  },
  {
   "cell_type": "code",
   "execution_count": 20,
   "metadata": {},
   "outputs": [
    {
     "name": "stdout",
     "output_type": "stream",
     "text": [
      "Help on class Date in module __main__:\n",
      "\n",
      "class Date(builtins.object)\n",
      " |  Date(year: int, month: int, day: int)\n",
      " |  \n",
      " |  This class is used to represent a date.\n",
      " |  \n",
      " |  Attributes:\n",
      " |      year (int): The year of the date.\n",
      " |      month (int): The month of the date.\n",
      " |      day (int): The day of the date.\n",
      " |  \n",
      " |  Methods defined here:\n",
      " |  \n",
      " |  __eq__(self, other)\n",
      " |      This function is used to compare the date with other date.\n",
      " |      \n",
      " |      Args:\n",
      " |          other (Date): The other date to be compared with.\n",
      " |      \n",
      " |      Returns:\n",
      " |          bool: True if the date is equal to the other date, False otherwise.\n",
      " |  \n",
      " |  __init__(self, year: int, month: int, day: int)\n",
      " |      See help(Date) for accurate signature\n",
      " |  \n",
      " |  __lt__(self, other)\n",
      " |      This function is used to compare the date with other date.\n",
      " |      \n",
      " |      Args:\n",
      " |          other (Date): The other date to be compared with.\n",
      " |      \n",
      " |      Returns:\n",
      " |          bool: True if the date is less than the other date, False otherwise.\n",
      " |  \n",
      " |  __repr__(self)\n",
      " |      This function is used to return the string representation of the date.\n",
      " |      \n",
      " |      Returns:\n",
      " |          str: The string representation of the date.\n",
      " |  \n",
      " |  __str__(self)\n",
      " |      This function is used to return the string representation of the date.\n",
      " |      \n",
      " |      Returns:\n",
      " |          str: The string representation of the date.\n",
      " |  \n",
      " |  ----------------------------------------------------------------------\n",
      " |  Class methods defined here:\n",
      " |  \n",
      " |  from_string(date_as_string) from builtins.type\n",
      " |      This function is used to create a date from a string.\n",
      " |      \n",
      " |      Args:\n",
      " |          date_as_string (str): The string representation of the date.\n",
      " |      \n",
      " |      Returns:\n",
      " |          Date: The date created from the string.\n",
      " |  \n",
      " |  ----------------------------------------------------------------------\n",
      " |  Static methods defined here:\n",
      " |  \n",
      " |  is_date_valid(year, month, day)\n",
      " |      This function is used to check if the date is valid.\n",
      " |      \n",
      " |      Args:\n",
      " |          year (int): The year of the date.\n",
      " |          month (int): The month of the date.\n",
      " |          day (int): The day of the date.\n",
      " |      \n",
      " |      Returns:\n",
      " |          bool: True if the date is valid, False otherwise.\n",
      " |  \n",
      " |  ----------------------------------------------------------------------\n",
      " |  Data descriptors defined here:\n",
      " |  \n",
      " |  __dict__\n",
      " |      dictionary for instance variables (if defined)\n",
      " |  \n",
      " |  __weakref__\n",
      " |      list of weak references to the object (if defined)\n",
      " |  \n",
      " |  ----------------------------------------------------------------------\n",
      " |  Data and other attributes defined here:\n",
      " |  \n",
      " |  __hash__ = None\n",
      "\n"
     ]
    }
   ],
   "source": [
    "help(Date)"
   ]
  },
  {
   "cell_type": "markdown",
   "metadata": {},
   "source": [
    "Although there seems to be a considerable amount of work involved, it will pay off in the future."
   ]
  },
  {
   "cell_type": "markdown",
   "metadata": {},
   "source": [
    "## Docstrings in Modules and Packages"
   ]
  },
  {
   "cell_type": "markdown",
   "metadata": {},
   "source": [
    "Docstrings can also be included at the beginning of a module or inside a package containing multiple modules. The principle for both is the same. Therefore, here, we will only show the syntax for the module-level docstring.\n",
    "\n",
    "To see this, download a script which we can import."
   ]
  },
  {
   "cell_type": "code",
   "execution_count": null,
   "metadata": {},
   "outputs": [],
   "source": [
    "!wget \"https://aicore-files.s3.amazonaws.com/Foundations/Software_Engineering/spreadsheet_printer.py\" \"https://aicore-files.s3.amazonaws.com/Foundations/Software_Engineering/Date.py\""
   ]
  },
  {
   "cell_type": "code",
   "execution_count": 21,
   "metadata": {},
   "outputs": [
    {
     "name": "stdout",
     "output_type": "stream",
     "text": [
      "Help on module Date:\n",
      "\n",
      "NAME\n",
      "    Date\n",
      "\n",
      "DESCRIPTION\n",
      "    This module contains a class for representing the date.\n",
      "    It also contains a function for printing the date in a\n",
      "    readable format.\n",
      "\n",
      "CLASSES\n",
      "    builtins.object\n",
      "        Date\n",
      "    \n",
      "    class Date(builtins.object)\n",
      "     |  Date(year: int, month: int, day: int)\n",
      "     |  \n",
      "     |  This class is used to represent a date.\n",
      "     |  \n",
      "     |  Attributes:\n",
      "     |      year (int): The year of the date.\n",
      "     |      month (int): The month of the date.\n",
      "     |      day (int): The day of the date.\n",
      "     |  \n",
      "     |  Methods defined here:\n",
      "     |  \n",
      "     |  __eq__(self, other)\n",
      "     |      This function is used to compare the date with other date.\n",
      "     |      \n",
      "     |      Args:\n",
      "     |          other (Date): The other date to be compared with.\n",
      "     |      \n",
      "     |      Returns:\n",
      "     |          bool: True if the date is equal to the other date, False otherwise.\n",
      "     |  \n",
      "     |  __init__(self, year: int, month: int, day: int)\n",
      "     |      See help(Date) for accurate signature\n",
      "     |  \n",
      "     |  __lt__(self, other)\n",
      "     |      This function is used to compare the date with other date.\n",
      "     |      \n",
      "     |      Args:\n",
      "     |          other (Date): The other date to be compared with.\n",
      "     |      \n",
      "     |      Returns:\n",
      "     |          bool: True if the date is less than the other date, False otherwise.\n",
      "     |  \n",
      "     |  __repr__(self)\n",
      "     |      This function is used to return the string representation of the date.\n",
      "     |      \n",
      "     |      Returns:\n",
      "     |          str: The string representation of the date.\n",
      "     |  \n",
      "     |  __str__(self)\n",
      "     |      This function is used to return the string representation of the date.\n",
      "     |      \n",
      "     |      Returns:\n",
      "     |          str: The string representation of the date.\n",
      "     |  \n",
      "     |  ----------------------------------------------------------------------\n",
      "     |  Class methods defined here:\n",
      "     |  \n",
      "     |  from_string(date_as_string) from builtins.type\n",
      "     |      This function is used to create a date from a string.\n",
      "     |      \n",
      "     |      Args:\n",
      "     |          date_as_string (str): The string representation of the date.\n",
      "     |      \n",
      "     |      Returns:\n",
      "     |          Date: The date created from the string.\n",
      "     |  \n",
      "     |  ----------------------------------------------------------------------\n",
      "     |  Static methods defined here:\n",
      "     |  \n",
      "     |  is_date_valid(year, month, day)\n",
      "     |      This function is used to check if the date is valid.\n",
      "     |      \n",
      "     |      Args:\n",
      "     |          year (int): The year of the date.\n",
      "     |          month (int): The month of the date.\n",
      "     |          day (int): The day of the date.\n",
      "     |      \n",
      "     |      Returns:\n",
      "     |          bool: True if the date is valid, False otherwise.\n",
      "     |  \n",
      "     |  ----------------------------------------------------------------------\n",
      "     |  Data descriptors defined here:\n",
      "     |  \n",
      "     |  __dict__\n",
      "     |      dictionary for instance variables (if defined)\n",
      "     |  \n",
      "     |  __weakref__\n",
      "     |      list of weak references to the object (if defined)\n",
      "     |  \n",
      "     |  ----------------------------------------------------------------------\n",
      "     |  Data and other attributes defined here:\n",
      "     |  \n",
      "     |  __hash__ = None\n",
      "\n",
      "FUNCTIONS\n",
      "    display_date(date)\n",
      "        This function is used to print the date in a readable format.\n",
      "        \n",
      "        Args:\n",
      "            date (Date): The date to be printed.\n",
      "\n",
      "FILE\n",
      "    /Users/ivanying/Desktop/GitHub/AiCore_Teaching/Software-Engineering-Private/3. Software Design and Testing/Date.py\n",
      "\n",
      "\n"
     ]
    }
   ],
   "source": [
    "import Date\n",
    "help(Date)"
   ]
  },
  {
   "cell_type": "markdown",
   "metadata": {},
   "source": [
    "Later in this module, we will learn how to document a package. Note that it will be in the `__init__.py` file."
   ]
  },
  {
   "cell_type": "markdown",
   "metadata": {},
   "source": [
    "## Docstring for the CLI"
   ]
  },
  {
   "cell_type": "markdown",
   "metadata": {},
   "source": [
    "Occasionally, you may wish to run your program in the command line. In such cases, you will pass arguments to your program. The `spreadsheet_printer.py` program is a simple program that takes a file name as an argument and prints the contents of that file to the screen. You can examine the docstring in the command line by typing `python spreadsheet_printer.py -h`, and you will find that a description of the program's role is provided."
   ]
  },
  {
   "cell_type": "markdown",
   "metadata": {},
   "source": [
    "## Docstring Formats"
   ]
  },
  {
   "cell_type": "markdown",
   "metadata": {},
   "source": [
    "You may have noticed that the formats are different in this notebook and in some of the examples given. \n",
    "\n",
    "There are specific docstring formats that most users are familiar with. Furthermore, these formats can enable docstring parsers create documentation automatically (Sphinx). Some of the most common formats are:\n",
    "\n",
    "- [Google](https://google.github.io/styleguide/pyguide.html)\n",
    "- [Sphinx or reStructuredText](http://sphinx-doc.org/markup/desc.html)\n",
    "- [Numpydoc](https://numpydoc.readthedocs.io/en/latest/format.html)\n",
    "- [Epytext](https://epytext.readthedocs.io/en/latest/format.html)"
   ]
  },
  {
   "cell_type": "markdown",
   "metadata": {},
   "source": [
    "As an example, let us look at how the `spreadsheet_printer` module is documented using each of the above formats."
   ]
  },
  {
   "cell_type": "code",
   "execution_count": null,
   "metadata": {},
   "outputs": [],
   "source": [
    "### Google\n",
    "\n",
    "\"\"\"Gets and prints the spreadsheet's header columns\n",
    "\n",
    "Args:\n",
    "    file_loc (str): the file location of the spreadsheet\n",
    "    print_cols (bool): a flag used to print the columns to the console\n",
    "        (default is False)\n",
    "\n",
    "Returns:\n",
    "    list: a list of strings representing the header columns\n",
    "\"\"\""
   ]
  },
  {
   "cell_type": "code",
   "execution_count": null,
   "metadata": {},
   "outputs": [],
   "source": [
    "### Sphinx \n",
    "\n",
    "\"\"\"Gets and prints the spreadsheet's header columns\n",
    "\n",
    ":param file_loc: the file location of the spreadsheet\n",
    ":type file_loc: str\n",
    ":param print_cols: a flag used to print the columns to the console\n",
    "    (default is False)\n",
    ":type print_cols: bool\n",
    ":returns: a list of strings representing the header columns\n",
    ":rtype: list\n",
    "\"\"\"\n"
   ]
  },
  {
   "cell_type": "code",
   "execution_count": null,
   "metadata": {},
   "outputs": [],
   "source": [
    "### NumPy\n",
    "\n",
    "\"\"\"Gets and prints the spreadsheet's header columns\n",
    "\n",
    "Parameters\n",
    "----------\n",
    "file_loc : str\n",
    "    The file location of the spreadsheet\n",
    "print_cols : bool, optional\n",
    "    A flag used to print the columns to the console (default is False)\n",
    "\n",
    "Returns\n",
    "-------\n",
    "list\n",
    "    a list of strings representing the header columns\n",
    "\"\"\"\n"
   ]
  },
  {
   "cell_type": "code",
   "execution_count": null,
   "metadata": {},
   "outputs": [],
   "source": [
    "### Epytext\n",
    "\"\"\"Gets and prints the spreadsheet's header columns\n",
    "\n",
    "@type file_loc: str\n",
    "@param file_loc: the file location of the spreadsheet\n",
    "@type print_cols: bool\n",
    "@param print_cols: a flag used to print the columns to the console\n",
    "    (default is False)\n",
    "@rtype: list\n",
    "@returns: a list of strings representing the header columns\n",
    "\"\"\"\n"
   ]
  },
  {
   "cell_type": "markdown",
   "metadata": {},
   "source": [
    "# Summary\n",
    "\n",
    "- Comments are a great way to document code. But you need more than that to create a good documentation.\n",
    "- Thus, we need to rely on docstrings\n",
    "- A docstring is a string that describes the purpose of a function, method, class, script, module, or package."
   ]
  }
 ],
 "metadata": {
  "interpreter": {
   "hash": "14fed20d815d8426698b9e4db4c2894958f6485d6746a1ea976e58ce3ec76c9f"
  },
  "kernelspec": {
   "display_name": "Python 3.9.6 64-bit ('AiCoreTeach': conda)",
   "name": "python3"
  },
  "language_info": {
   "codemirror_mode": {
    "name": "ipython",
    "version": 3
   },
   "file_extension": ".py",
   "mimetype": "text/x-python",
   "name": "python",
   "nbconvert_exporter": "python",
   "pygments_lexer": "ipython3",
   "version": "3.9.6"
  }
 },
 "nbformat": 4,
 "nbformat_minor": 2
}
