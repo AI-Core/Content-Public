{
 "cells": [
  {
   "attachments": {},
   "cell_type": "markdown",
   "metadata": {},
   "source": [
    "# Docstrings"
   ]
  },
  {
   "attachments": {},
   "cell_type": "markdown",
   "metadata": {},
   "source": [
    "## Which of the following is true about docstrings? Select all that apply.\n",
    "\n",
    "- They are the same as comments\n",
    "- They are implemented the same way as comments\n",
    "- A missing docstring will throw an error\n",
    "- All public methods should include a docstring ***\n",
    "- In a class, docstrings only contain information about the methods"
   ]
  },
  {
   "attachments": {},
   "cell_type": "markdown",
   "metadata": {},
   "source": [
    "## Where in your Python code can you use docstrings?\n",
    "\n",
    "- Modules \n",
    "- Packages\n",
    "- Classes\n",
    "- Methods\n",
    "- Functions\n",
    "- All of the above *** "
   ]
  },
  {
   "attachments": {},
   "cell_type": "markdown",
   "metadata": {},
   "source": [
    "## What format do docstrings commonly follow? \n",
    "\n",
    "- First is a description of what the function/method does, followed by a description of the arguments/parameters and lastly the return type is described ***\n",
    "- First the argument/parameters of the function/method are described, followed by the description and lastly the return type is described \n",
    "- First the return type of the function/method is described, followed by the arguments/parameters and lastly a description follows\n",
    "- There is only a description of the function/method followed by a description of the return type\n",
    "- Classes should never have a docstring"
   ]
  },
  {
   "attachments": {},
   "cell_type": "markdown",
   "metadata": {},
   "source": [
    "## In what ways can you display the docstring of a method/function/class in Python? Select all that apply.\n",
    "\n",
    "- Using the `__doc__` attribute ***\n",
    "- By hovering over the method/function/class after writing it ***\n",
    "- Using Python's built-in `help` function ***\n",
    "- Using the `docstring` function\n",
    "- Using the `__documentation__` attribute\n",
    "- By printing the function `print(func)`"
   ]
  },
  {
   "attachments": {},
   "cell_type": "markdown",
   "metadata": {},
   "source": [
    "## What is wrong with the docstring for the following function? Select all that apply.\n",
    "\n",
    "```python\n",
    "\n",
    "def dict_to_json(file_path: str, obj_to_write: dict) -> int:\n",
    "\n",
    "    with open(f\"{file_path}.json\", 'w') as outfile:\n",
    "        json.dump(obj_to_write, outfile, indent=4)\n",
    "\n",
    "    file_created = os.path.exists(f\"{file_path}.json\")\n",
    "    '''\n",
    "    Args:\n",
    "        file_path (str): A filepath to save the file to\n",
    "        obj_to_write (dict): A dictionary to save in JSON format\n",
    "    Returns:\n",
    "        bool: A boolean indicating whether the file exists\n",
    "    \n",
    "    This function takes in a Python dictionary and saves it as a JSON file \n",
    "    and checks the file exists after saving.\n",
    "    '''\n",
    "    return file_created \n",
    "    \n",
    "```\n",
    "\n",
    "- The docstring is in the wrong position it should be defined just after the function definition ***\n",
    "- The docstring is written in the wrong order. The description should come first followed by the arguments, and then the return type. ***\n",
    "- The docstring is in the wrong place it should come before the function definition\n",
    "- The arguments in the docstring should come after the `Returns` section\n",
    "- There are too many lines in the docstring"
   ]
  }
 ],
 "metadata": {
  "kernelspec": {
   "display_name": "base",
   "language": "python",
   "name": "python3"
  },
  "language_info": {
   "name": "python",
   "version": "3.10.9"
  },
  "orig_nbformat": 4,
  "vscode": {
   "interpreter": {
    "hash": "a2592652612463181e69ac003232387e3e9a99279aa6b168e76f5df16d5110f4"
   }
  }
 },
 "nbformat": 4,
 "nbformat_minor": 2
}
