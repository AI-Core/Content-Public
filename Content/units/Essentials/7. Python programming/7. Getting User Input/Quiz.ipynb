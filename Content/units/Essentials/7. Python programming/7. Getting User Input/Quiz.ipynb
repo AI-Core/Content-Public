{
 "cells": [
  {
   "attachments": {},
   "cell_type": "markdown",
   "metadata": {},
   "source": [
    "# Getting User Input"
   ]
  },
  {
   "attachments": {},
   "cell_type": "markdown",
   "metadata": {},
   "source": [
    "## What Python function can you use to get user input?\n",
    "\n",
    "- `ask()`\n",
    "- `input()` ***\n",
    "- `print()`\n",
    "- `prompt()`\n",
    "- `console.log()`\n"
   ]
  },
  {
   "attachments": {},
   "cell_type": "markdown",
   "metadata": {},
   "source": [
    "## What argument can you pass to the `input()` function?\n",
    "\n",
    "- A variable to store the user input\n",
    "- A number to show how many inputs to get\n",
    "- A list of possible inputs\n",
    "- A message to display to the user ***\n",
    "- A boolean to determine whether to display the input\n"
   ]
  },
  {
   "attachments": {},
   "cell_type": "markdown",
   "metadata": {},
   "source": [
    "## What is the value of `name` after the following code is executed?\n",
    "\n",
    "```python\n",
    "name = input(\"What is your name? \")\n",
    "```\n",
    "\n",
    "- `name`\n",
    "- `None`\n",
    "- `input()`\n",
    "- `What is your name?`\n",
    "- It depends on the user's input ***"
   ]
  },
  {
   "attachments": {},
   "cell_type": "markdown",
   "metadata": {},
   "source": [
    "## What is the data type of the variable `number` after the following code is executed? (Assume the user enters `\"5\"`)\n",
    "\n",
    "```python\n",
    "number = input(\"Enter a number: \")\n",
    "```\n",
    "\n",
    "- `int`\n",
    "- `float`\n",
    "- `str` ***\n",
    "- `bool`\n",
    "- `None`"
   ]
  }
 ],
 "metadata": {
  "kernelspec": {
   "display_name": "content-projects",
   "language": "python",
   "name": "python3"
  },
  "language_info": {
   "codemirror_mode": {
    "name": "ipython",
    "version": 3
   },
   "file_extension": ".py",
   "mimetype": "text/x-python",
   "name": "python",
   "nbconvert_exporter": "python",
   "pygments_lexer": "ipython3",
   "version": "3.10.8"
  },
  "orig_nbformat": 4
 },
 "nbformat": 4,
 "nbformat_minor": 2
}
