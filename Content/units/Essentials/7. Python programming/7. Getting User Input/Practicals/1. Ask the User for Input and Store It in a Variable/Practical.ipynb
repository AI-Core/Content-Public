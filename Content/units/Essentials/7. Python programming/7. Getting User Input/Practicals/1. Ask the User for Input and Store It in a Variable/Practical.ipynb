{
 "cells": [
  {
   "cell_type": "markdown",
   "id": "9cef1128",
   "metadata": {},
   "source": [
    "# Ask the User for Input and Store It in a Variable"
   ]
  },
  {
   "cell_type": "markdown",
   "id": "8fca24aa",
   "metadata": {},
   "source": [
    "#### 1. Ask the user for their name and store it in a variable called `name`"
   ]
  },
  {
   "cell_type": "code",
   "execution_count": null,
   "id": "a4548965",
   "metadata": {},
   "outputs": [],
   "source": []
  },
  {
   "cell_type": "markdown",
   "id": "7b6f772b",
   "metadata": {},
   "source": [
    "#### 2. Ask the user for their age and store it in a variable called `age`"
   ]
  },
  {
   "cell_type": "code",
   "execution_count": null,
   "id": "9dc02911",
   "metadata": {},
   "outputs": [],
   "source": []
  },
  {
   "cell_type": "markdown",
   "id": "b913892e",
   "metadata": {},
   "source": [
    "#### 3. Print out the message `\"Hello, my name is {name} and I am {age} years old\"`"
   ]
  },
  {
   "cell_type": "code",
   "execution_count": null,
   "id": "88f6be87",
   "metadata": {},
   "outputs": [],
   "source": []
  }
 ],
 "metadata": {},
 "nbformat": 4,
 "nbformat_minor": 5
}
