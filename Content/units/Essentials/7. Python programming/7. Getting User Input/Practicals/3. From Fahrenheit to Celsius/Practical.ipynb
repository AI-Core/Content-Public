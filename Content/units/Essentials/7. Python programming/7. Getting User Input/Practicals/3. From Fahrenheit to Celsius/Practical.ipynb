{
 "cells": [
  {
   "cell_type": "markdown",
   "id": "69a3aab6",
   "metadata": {},
   "source": [
    "# From Fahrenheit to Celsius"
   ]
  },
  {
   "cell_type": "markdown",
   "id": "7e31962a",
   "metadata": {},
   "source": [
    "#### 1. Ask the user for the temperature in Fahrenheit and store it in a variable called `fahrenheit`"
   ]
  },
  {
   "cell_type": "code",
   "execution_count": null,
   "id": "b5874e06",
   "metadata": {},
   "outputs": [],
   "source": []
  },
  {
   "cell_type": "markdown",
   "id": "534542f7",
   "metadata": {},
   "source": [
    "#### 2. Convert the temperature to Celsius and store it in a variable called `celsius`"
   ]
  },
  {
   "cell_type": "code",
   "execution_count": null,
   "id": "a85bb4e2",
   "metadata": {},
   "outputs": [],
   "source": []
  },
  {
   "cell_type": "markdown",
   "id": "f8937482",
   "metadata": {},
   "source": [
    "#### 3. Print out the message `\"The temperature in Celsius is {celsius}\"`"
   ]
  },
  {
   "cell_type": "code",
   "execution_count": null,
   "id": "de91473b",
   "metadata": {},
   "outputs": [],
   "source": []
  },
  {
   "cell_type": "markdown",
   "id": "7431b335",
   "metadata": {},
   "source": [
    "#### 4. What is the formula for converting from Fahrenheit to Celsius?"
   ]
  },
  {
   "cell_type": "code",
   "execution_count": null,
   "id": "d6e6e130",
   "metadata": {},
   "outputs": [],
   "source": []
  }
 ],
 "metadata": {},
 "nbformat": 4,
 "nbformat_minor": 5
}
