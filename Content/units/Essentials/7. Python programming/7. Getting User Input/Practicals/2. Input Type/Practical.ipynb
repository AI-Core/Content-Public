{
 "cells": [
  {
   "cell_type": "markdown",
   "id": "d86d8973",
   "metadata": {},
   "source": [
    "# Input Type"
   ]
  },
  {
   "cell_type": "markdown",
   "id": "9490efb2",
   "metadata": {},
   "source": [
    "#### 1. Ask the user for their name and store it in a variable called `name`"
   ]
  },
  {
   "cell_type": "code",
   "execution_count": null,
   "id": "dbe29bbe",
   "metadata": {},
   "outputs": [],
   "source": []
  },
  {
   "cell_type": "markdown",
   "id": "ce553e9e",
   "metadata": {},
   "source": [
    "#### 2. What type is `name`?"
   ]
  },
  {
   "cell_type": "code",
   "execution_count": null,
   "id": "b715f727",
   "metadata": {},
   "outputs": [],
   "source": []
  },
  {
   "cell_type": "markdown",
   "id": "b362c1ea",
   "metadata": {},
   "source": [
    "#### 3. Ask the user for their age and store it in a variable called `age`"
   ]
  },
  {
   "cell_type": "code",
   "execution_count": null,
   "id": "91ac8ef8",
   "metadata": {},
   "outputs": [],
   "source": []
  },
  {
   "cell_type": "markdown",
   "id": "81d1654d",
   "metadata": {},
   "source": [
    "#### 4. What type is `age`? Is it a string or a number?"
   ]
  },
  {
   "cell_type": "code",
   "execution_count": null,
   "id": "bacf5a0e",
   "metadata": {},
   "outputs": [],
   "source": []
  },
  {
   "cell_type": "markdown",
   "id": "4f5a673f",
   "metadata": {},
   "source": [
    "#### 5. You can convert a string to a number using the `int(string)` function. Try it out."
   ]
  },
  {
   "cell_type": "code",
   "execution_count": null,
   "id": "c9a5458e",
   "metadata": {},
   "outputs": [],
   "source": []
  }
 ],
 "metadata": {
  "kernelspec": {
   "display_name": "content-projects_new",
   "language": "python",
   "name": "python3"
  },
  "language_info": {
   "name": "python",
   "version": "3.10.8 (main, Nov 24 2022, 14:13:03) [GCC 11.2.0]"
  },
  "vscode": {
   "interpreter": {
    "hash": "4b961f8166aad6ccb4cf65d0f9c742ef9c6c23ffe83ad932438cd83ed96aebaf"
   }
  }
 },
 "nbformat": 4,
 "nbformat_minor": 5
}
