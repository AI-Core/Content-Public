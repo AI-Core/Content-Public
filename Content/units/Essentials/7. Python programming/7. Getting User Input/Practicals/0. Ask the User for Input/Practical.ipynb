{
 "cells": [
  {
   "cell_type": "markdown",
   "id": "60ca67bc",
   "metadata": {},
   "source": [
    "# Ask the User for Input"
   ]
  },
  {
   "attachments": {},
   "cell_type": "markdown",
   "id": "74bdfbc0",
   "metadata": {},
   "source": [
    "#### 1. Ask the user for their name\n",
    "\n",
    "Use the `input()` function to ask the user for their name"
   ]
  },
  {
   "cell_type": "code",
   "execution_count": null,
   "id": "66ea21d2",
   "metadata": {},
   "outputs": [],
   "source": []
  },
  {
   "cell_type": "markdown",
   "id": "f9c4de80",
   "metadata": {},
   "source": [
    "#### 2. Ask the user for their age"
   ]
  },
  {
   "cell_type": "code",
   "execution_count": null,
   "id": "971cefd9",
   "metadata": {},
   "outputs": [],
   "source": []
  }
 ],
 "metadata": {
  "kernelspec": {
   "display_name": "content-projects_new",
   "language": "python",
   "name": "python3"
  },
  "language_info": {
   "name": "python",
   "version": "3.10.8 (main, Nov 24 2022, 14:13:03) [GCC 11.2.0]"
  },
  "vscode": {
   "interpreter": {
    "hash": "4b961f8166aad6ccb4cf65d0f9c742ef9c6c23ffe83ad932438cd83ed96aebaf"
   }
  }
 },
 "nbformat": 4,
 "nbformat_minor": 5
}
