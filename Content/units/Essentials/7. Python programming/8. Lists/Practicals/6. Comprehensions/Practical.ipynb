{
 "cells": [
  {
   "cell_type": "markdown",
   "id": "3bed4097",
   "metadata": {},
   "source": [
    "# Comprehensions"
   ]
  },
  {
   "cell_type": "markdown",
   "id": "d50673b8",
   "metadata": {},
   "source": [
    "#### 1. Use a list comprehension to capitalise every element in the list `['Hello', 'world']`"
   ]
  },
  {
   "cell_type": "code",
   "execution_count": null,
   "id": "a2c25f40",
   "metadata": {},
   "outputs": [],
   "source": []
  },
  {
   "cell_type": "markdown",
   "id": "a02860a4",
   "metadata": {},
   "source": [
    "#### 2. Use a list comprehension to filter out every multiple of 5 from a range of numbers up to 100"
   ]
  },
  {
   "cell_type": "code",
   "execution_count": null,
   "id": "8319b8bf",
   "metadata": {},
   "outputs": [],
   "source": []
  },
  {
   "cell_type": "markdown",
   "id": "8ec542df",
   "metadata": {},
   "source": [
    "#### 3. Use a dictionary comprehension to create a map between every integer up to 15 and it's value squared"
   ]
  },
  {
   "cell_type": "code",
   "execution_count": null,
   "id": "85cba5c1",
   "metadata": {},
   "outputs": [],
   "source": []
  },
  {
   "cell_type": "markdown",
   "id": "e175232f",
   "metadata": {},
   "source": [
    "#### 4. Now, use a dictionary comprehension to create a dictionary that does the inverse! (hint: iterate over `squares.items()`, where squares is the name of the dict you made in the above challenge)"
   ]
  },
  {
   "cell_type": "code",
   "execution_count": null,
   "id": "c831b7b1",
   "metadata": {},
   "outputs": [],
   "source": []
  }
 ],
 "metadata": {
  "kernelspec": {
   "display_name": "content-projects_new",
   "language": "python",
   "name": "python3"
  },
  "language_info": {
   "name": "python",
   "version": "3.10.8 (main, Nov 24 2022, 14:13:03) [GCC 11.2.0]"
  },
  "vscode": {
   "interpreter": {
    "hash": "4b961f8166aad6ccb4cf65d0f9c742ef9c6c23ffe83ad932438cd83ed96aebaf"
   }
  }
 },
 "nbformat": 4,
 "nbformat_minor": 5
}
