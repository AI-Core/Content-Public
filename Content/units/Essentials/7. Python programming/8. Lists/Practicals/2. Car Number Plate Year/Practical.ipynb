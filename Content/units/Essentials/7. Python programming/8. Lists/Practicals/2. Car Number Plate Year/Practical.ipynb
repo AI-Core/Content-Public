{
 "cells": [
  {
   "cell_type": "markdown",
   "id": "89e2d7a3",
   "metadata": {},
   "source": [
    "# Car Number Plate Year"
   ]
  },
  {
   "attachments": {},
   "cell_type": "markdown",
   "id": "1e20e5ad",
   "metadata": {},
   "source": [
    "Given the following list of number plates: `[\"G06 WTR\", \"WL11 WFL\", \"QW68 PQR\"]`"
   ]
  },
  {
   "attachments": {},
   "cell_type": "markdown",
   "id": "94148292",
   "metadata": {},
   "source": [
    "#### 1. Extract the last two characters of the first word, which represent the year of the car\n",
    "\n",
    "For example, the first number plate is from \"06\""
   ]
  },
  {
   "cell_type": "code",
   "execution_count": null,
   "id": "05046123",
   "metadata": {},
   "outputs": [],
   "source": []
  },
  {
   "attachments": {},
   "cell_type": "markdown",
   "id": "0aeb74e6",
   "metadata": {},
   "source": [
    "#### 2. Print the type of each of them"
   ]
  },
  {
   "cell_type": "code",
   "execution_count": null,
   "id": "6c6709d4",
   "metadata": {},
   "outputs": [],
   "source": []
  },
  {
   "attachments": {},
   "cell_type": "markdown",
   "id": "cb0a38c2",
   "metadata": {},
   "source": [
    "#### 3. Convert each of these years to an integer type"
   ]
  },
  {
   "cell_type": "code",
   "execution_count": null,
   "id": "96fa5ae4",
   "metadata": {},
   "outputs": [],
   "source": []
  }
 ],
 "metadata": {
  "kernelspec": {
   "display_name": "content-projects_new",
   "language": "python",
   "name": "python3"
  },
  "language_info": {
   "name": "python",
   "version": "3.10.8 (main, Nov 24 2022, 14:13:03) [GCC 11.2.0]"
  },
  "vscode": {
   "interpreter": {
    "hash": "4b961f8166aad6ccb4cf65d0f9c742ef9c6c23ffe83ad932438cd83ed96aebaf"
   }
  }
 },
 "nbformat": 4,
 "nbformat_minor": 5
}
