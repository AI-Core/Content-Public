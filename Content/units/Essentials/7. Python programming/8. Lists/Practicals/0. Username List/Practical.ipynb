{
 "cells": [
  {
   "cell_type": "markdown",
   "id": "8e488a21",
   "metadata": {},
   "source": [
    "# Username List"
   ]
  },
  {
   "attachments": {},
   "cell_type": "markdown",
   "id": "285a843a",
   "metadata": {},
   "source": [
    "#### 1. Create a list of usernames, and name it `usernames`.\n",
    "\n",
    "You can use the `list()` function to create a list, or simply write the list in square brackets."
   ]
  },
  {
   "cell_type": "code",
   "execution_count": null,
   "id": "e4348932",
   "metadata": {},
   "outputs": [],
   "source": []
  },
  {
   "cell_type": "markdown",
   "id": "a881f51a",
   "metadata": {},
   "source": [
    "#### 2. Print the type of `usernames`"
   ]
  },
  {
   "cell_type": "code",
   "execution_count": null,
   "id": "b7f8cf28",
   "metadata": {},
   "outputs": [],
   "source": []
  },
  {
   "cell_type": "markdown",
   "id": "8ab1741d",
   "metadata": {},
   "source": [
    "#### 3. Print the length of `usernames`"
   ]
  },
  {
   "cell_type": "code",
   "execution_count": null,
   "id": "89e7e3cc",
   "metadata": {},
   "outputs": [],
   "source": []
  },
  {
   "cell_type": "markdown",
   "id": "cd3d2141",
   "metadata": {},
   "source": [
    "#### 4. Print the type of the first item in `usernames`"
   ]
  },
  {
   "cell_type": "code",
   "execution_count": null,
   "id": "f09f8d31",
   "metadata": {},
   "outputs": [],
   "source": []
  },
  {
   "cell_type": "markdown",
   "id": "8a5519f3",
   "metadata": {},
   "source": [
    "#### 5. Find the length of the last name in `usernames`"
   ]
  },
  {
   "cell_type": "code",
   "execution_count": null,
   "id": "09f07de1",
   "metadata": {},
   "outputs": [],
   "source": []
  }
 ],
 "metadata": {
  "kernelspec": {
   "display_name": "content-projects_new",
   "language": "python",
   "name": "python3"
  },
  "language_info": {
   "name": "python",
   "version": "3.10.8 (main, Nov 24 2022, 14:13:03) [GCC 11.2.0]"
  },
  "vscode": {
   "interpreter": {
    "hash": "4b961f8166aad6ccb4cf65d0f9c742ef9c6c23ffe83ad932438cd83ed96aebaf"
   }
  }
 },
 "nbformat": 4,
 "nbformat_minor": 5
}
