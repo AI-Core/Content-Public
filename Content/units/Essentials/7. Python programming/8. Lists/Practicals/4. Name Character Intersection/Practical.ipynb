{
 "cells": [
  {
   "cell_type": "markdown",
   "id": "58a68ab0",
   "metadata": {},
   "source": [
    "# Name Character Intersection"
   ]
  },
  {
   "cell_type": "markdown",
   "id": "76b5a9e0",
   "metadata": {},
   "source": [
    "#### 1. Create two variables: `name_1` and `name_2`"
   ]
  },
  {
   "cell_type": "code",
   "execution_count": null,
   "id": "bae1053d",
   "metadata": {},
   "outputs": [],
   "source": []
  },
  {
   "cell_type": "markdown",
   "id": "1df848c0",
   "metadata": {},
   "source": [
    "#### 2. Find the characters that appear in both names"
   ]
  },
  {
   "cell_type": "code",
   "execution_count": null,
   "id": "320742ed",
   "metadata": {},
   "outputs": [],
   "source": []
  }
 ],
 "metadata": {},
 "nbformat": 4,
 "nbformat_minor": 5
}
