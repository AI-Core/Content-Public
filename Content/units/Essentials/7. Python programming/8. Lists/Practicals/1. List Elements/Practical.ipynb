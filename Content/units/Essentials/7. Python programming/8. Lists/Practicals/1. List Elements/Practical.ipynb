{
 "cells": [
  {
   "cell_type": "markdown",
   "id": "9334fd08",
   "metadata": {},
   "source": [
    "# List Elements"
   ]
  },
  {
   "cell_type": "markdown",
   "id": "dd1c39c8",
   "metadata": {},
   "source": [
    "#### 1. Create a list of five elements with a different data type. Name it `list_1`"
   ]
  },
  {
   "cell_type": "code",
   "execution_count": null,
   "id": "955228c4",
   "metadata": {},
   "outputs": [],
   "source": []
  },
  {
   "cell_type": "markdown",
   "id": "0a489971",
   "metadata": {},
   "source": [
    "#### 2. Now create a list with ten zeros, do it using the '*' operator. Name it `list_2`"
   ]
  },
  {
   "cell_type": "code",
   "execution_count": null,
   "id": "cedd366e",
   "metadata": {},
   "outputs": [],
   "source": []
  },
  {
   "attachments": {},
   "cell_type": "markdown",
   "id": "ef878c4f",
   "metadata": {},
   "source": [
    "#### 3. Nest `list_1` and `list_2` into a new list and name it `list_3`. \n",
    "\n",
    "`list_3` should look like this `[list_1, list2]`"
   ]
  },
  {
   "cell_type": "code",
   "execution_count": null,
   "id": "20953729",
   "metadata": {},
   "outputs": [],
   "source": []
  },
  {
   "attachments": {},
   "cell_type": "markdown",
   "id": "acfc34e6",
   "metadata": {},
   "source": [
    "#### 4. Access the fourth element of each `list_1` and `list_2` and store the elements in `list_4`. \n",
    "\n",
    "`list_4` should look like this `[fourth element of list_1, fourth element of list_2]`"
   ]
  },
  {
   "cell_type": "code",
   "execution_count": null,
   "id": "985c8fb8",
   "metadata": {},
   "outputs": [],
   "source": []
  }
 ],
 "metadata": {
  "kernelspec": {
   "display_name": "content-projects_new",
   "language": "python",
   "name": "python3"
  },
  "language_info": {
   "name": "python",
   "version": "3.10.8 (main, Nov 24 2022, 14:13:03) [GCC 11.2.0]"
  },
  "vscode": {
   "interpreter": {
    "hash": "4b961f8166aad6ccb4cf65d0f9c742ef9c6c23ffe83ad932438cd83ed96aebaf"
   }
  }
 },
 "nbformat": 4,
 "nbformat_minor": 5
}
