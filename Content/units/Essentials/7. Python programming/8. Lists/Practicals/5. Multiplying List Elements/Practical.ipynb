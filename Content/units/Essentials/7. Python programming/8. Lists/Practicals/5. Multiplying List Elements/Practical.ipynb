{
 "cells": [
  {
   "cell_type": "markdown",
   "id": "a6be613c",
   "metadata": {},
   "source": [
    "# Multiplying List Elements"
   ]
  },
  {
   "cell_type": "markdown",
   "id": "6b6bfcde",
   "metadata": {},
   "source": [
    "#### 1. Create a list with ten zeros, do it using the '*' operator. Name it `list_1`"
   ]
  },
  {
   "cell_type": "code",
   "execution_count": null,
   "id": "90ab6917",
   "metadata": {},
   "outputs": [],
   "source": []
  },
  {
   "cell_type": "markdown",
   "id": "23285a24",
   "metadata": {},
   "source": [
    "#### 2. Create a set from `list_1` and print its length."
   ]
  },
  {
   "cell_type": "code",
   "execution_count": null,
   "id": "f55bb4c3",
   "metadata": {},
   "outputs": [],
   "source": []
  }
 ],
 "metadata": {},
 "nbformat": 4,
 "nbformat_minor": 5
}
