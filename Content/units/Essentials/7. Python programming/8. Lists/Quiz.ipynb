{
 "cells": [
  {
   "attachments": {},
   "cell_type": "markdown",
   "metadata": {},
   "source": [
    "# Lists"
   ]
  },
  {
   "attachments": {},
   "cell_type": "markdown",
   "metadata": {},
   "source": [
    "## Which of the following code snippets correctly defines an empty list in Python?\n",
    "\n",
    "- `list = []` ***\n",
    "- `list = {}`\n",
    "- `list = ()`\n",
    "- `list = set()`"
   ]
  },
  {
   "attachments": {},
   "cell_type": "markdown",
   "metadata": {},
   "source": [
    "## What is a list in Python?\n",
    "\n",
    "- A data type that stores a single value\n",
    "- A data type that stores multiple values in an ordered sequence ***\n",
    "- A data type that stores key-value pairs\n",
    "- A data type that represents a mathematical expression"
   ]
  },
  {
   "attachments": {},
   "cell_type": "markdown",
   "metadata": {},
   "source": [
    "## Which of the following code snippets will correctly print the type of a list `my_list`?\n",
    "\n",
    "- `print(type(my_list))` ***\n",
    "- `print(type(my_list[]))`\n",
    "- `print(type([]))`\n",
    "- `print(type(my_list()))`"
   ]
  },
  {
   "attachments": {},
   "cell_type": "markdown",
   "metadata": {},
   "source": [
    "## Assuming `my_list = ['apple', 'banana', 'cherry']`, what is the index of the `banana` element in the list?\n",
    "\n",
    "- `0`\n",
    "- `1` ***\n",
    "- `2`\n",
    "- `3`"
   ]
  },
  {
   "attachments": {},
   "cell_type": "markdown",
   "metadata": {},
   "source": [
    "## Assuming `my_list = ['apple', 'banana', 'cherry', 'date', 'elderberry']`, what is the output of the following code snippet:\n",
    "```python\n",
    "print(my_list[-3:-1])\n",
    "```\n",
    "\n",
    "- `['cherry', 'date']` ***\n",
    "- `['cherry', 'date', 'elderberry']`\n",
    "- `['date', 'elderberry']`\n",
    "- `['elderberry', 'date']`"
   ]
  },
  {
   "attachments": {},
   "cell_type": "markdown",
   "metadata": {},
   "source": [
    "## Assuming `my_list = ['apple', 'banana', 'cherry', 'date', 'elderberry']`, what is the output of the following code snippet:\n",
    "\n",
    "```python\n",
    "print(my_list[1:4:2])\n",
    "```\n",
    "\n",
    "- `['banana', 'date']` ***\n",
    "- `['banana', 'cherry']`\n",
    "- `['cherry', 'date']`\n",
    "- `['cherry', 'elderberry']`\n",
    "\n"
   ]
  },
  {
   "attachments": {},
   "cell_type": "markdown",
   "metadata": {},
   "source": [
    "## Assuming `my_list = ['apple', 'banana', 'cherry']`, what is the correct way to add the element `date` to the end of the list?\n",
    "\n",
    "- `my_list.add('date')`\n",
    "- `my_list.append('date')` ***\n",
    "- `my_list.insert('date', -1)`\n",
    "- `my_list.add(-1, 'date')`"
   ]
  },
  {
   "attachments": {},
   "cell_type": "markdown",
   "metadata": {},
   "source": [
    "## Assuming `my_list = ['apple', 'banana', 'cherry', 'date', 'elderberry']`, what is the value of:\n",
    "```python\n",
    "my_list[-2]\n",
    "```\n",
    "\n",
    "- `'date'` ***\n",
    "- `'cherry'`\n",
    "- `'elderberry'`\n",
    "- `'banana'`"
   ]
  },
  {
   "attachments": {},
   "cell_type": "markdown",
   "metadata": {},
   "source": [
    "## Assuming `my_list = ['apple', 'banana', 'cherry', 'date', 'elderberry']`, what is the value of:\n",
    "```python\n",
    "my_list[:3]\n",
    "``` \n",
    "\n",
    "- `['apple', 'banana', 'cherry']` ***\n",
    "- `['cherry', 'date', 'elderberry']`\n",
    "- `['apple', 'banana', 'cherry', 'date']` \n",
    "- `['date', 'elderberry']`"
   ]
  },
  {
   "attachments": {},
   "cell_type": "markdown",
   "metadata": {},
   "source": [
    "## Assuming `my_list = ['apple', 'banana', 'cherry']`, what is the value of `my_list` after running:\n",
    "```python\n",
    "my_list = ['date', 'elderberry']\n",
    "``` \n",
    "- `['apple', 'banana', 'cherry']`\n",
    "- `['date', 'elderberry']` ***\n",
    "- `['cherry', 'banana', 'apple']`\n",
    "- `['elderberry', 'date']`"
   ]
  },
  {
   "attachments": {},
   "cell_type": "markdown",
   "metadata": {},
   "source": [
    "## Assuming `my_list = ['apple', 'banana', 'cherry']`, what is the value of:\n",
    "```python\n",
    "my_list[1].upper()\n",
    "```\n",
    "\n",
    "- `'APPLE'`\n",
    "- `'BANANA'` ***\n",
    "- `['APPLE', 'BANANA', 'CHERRY']`\n",
    "- `'Banana'`"
   ]
  },
  {
   "attachments": {},
   "cell_type": "markdown",
   "metadata": {},
   "source": [
    "## Assuming `my_list = [[1, 2, 3], ['a', 'b', 'c'], [True, False]]`, what is the value of:\n",
    "```python\n",
    "my_list[1][2]\n",
    "```\n",
    "\n",
    "- `3`\n",
    "- `2`\n",
    "- `'c'` ***\n",
    "- `'b'`\n",
    "\n"
   ]
  },
  {
   "attachments": {},
   "cell_type": "markdown",
   "metadata": {},
   "source": [
    "## Assuming `my_list = [10, 20, 30, 40, 50]`, what is the value of:\n",
    "```python\n",
    "len(my_list)\n",
    "```\n",
    "\n",
    "- `4`\n",
    "- `5` ***\n",
    "- `6`\n",
    "- `10`"
   ]
  },
  {
   "attachments": {},
   "cell_type": "markdown",
   "metadata": {},
   "source": [
    "## Assuming `my_list = [10, 20, 30, 40, 50]`, what is the value of:\n",
    "```python\n",
    "max(my_list) - min(my_list)\n",
    "```\n",
    "- `50`\n",
    "- `40` ***\n",
    "- `30`\n",
    "- `20`"
   ]
  },
  {
   "attachments": {},
   "cell_type": "markdown",
   "metadata": {},
   "source": [
    "## Assuming `my_list = [1, 2, 3, 4]`, what is the value of `my_list` after running:\n",
    "```python\n",
    "my_list.append([5, 6]\n",
    "```\n",
    "\n",
    "- `[1, 2, 3, 4]`\n",
    "- `[1, 2, 3, 4, 5, 6]` \n",
    "- `[1, 2, 3, 4, [5, 6]]` ***\n",
    "- `[5, 4, 3, 2, 1]`\n"
   ]
  },
  {
   "attachments": {},
   "cell_type": "markdown",
   "metadata": {},
   "source": [
    "## Assuming `my_list = [1, 2, 3, 4, 5]`, what is the value of `my_list` after running:\n",
    "```python\n",
    "my_list.extend([5, 6])\n",
    "```\n",
    "\n",
    "- `[1, 2, 3, 4]`\n",
    "- `[1, 2, 3, 4, 5, 6]`\n",
    "- `[1, 2, 3, 4, 5, 5, 6]` ***\n",
    "- `[6, 5, 4, 3, 2, 1]`"
   ]
  },
  {
   "attachments": {},
   "cell_type": "markdown",
   "metadata": {},
   "source": [
    "##  Assuming `my_list = [1, 2, 3, 4]`, what is the value of `my_list` after running:\n",
    "\n",
    "```python\n",
    "my_list.insert(1, 5)\n",
    "```\n",
    "\n",
    "- `[1, 2, 3, 4]`\n",
    "- `[1, 5, 2, 3, 4]` ***\n",
    "- `[1, 2, 5, 3, 4]`\n",
    "- `[1, 2, 3, 4, 5]`"
   ]
  },
  {
   "attachments": {},
   "cell_type": "markdown",
   "metadata": {},
   "source": [
    "## Assuming `my_list = [1, 2, 3, 4]`, what is the value of `my_list` after running:\n",
    "```python\n",
    "my_list.pop()\n",
    "```\n",
    "\n",
    "- `[1, 2, 3, 4]`\n",
    "- `[4, 3, 2, 1]`\n",
    "- `4` ***\n",
    "- `None`"
   ]
  },
  {
   "attachments": {},
   "cell_type": "markdown",
   "metadata": {},
   "source": [
    "## Assuming `my_list = [1, 2, 3, 4]`, what is the value of `my_list` after running:\n",
    "```python\n",
    "my_list.remove(3)\n",
    "```\n",
    "\n",
    "- `[1, 2, 3, 4]`\n",
    "- `[1, 2, 4]` ***\n",
    "- `[1, 2, 3]`\n",
    "- `[2, 3, 4]`\n",
    "\n"
   ]
  },
  {
   "attachments": {},
   "cell_type": "markdown",
   "metadata": {},
   "source": [
    "## Assuming `my_list = [1, 2, 3, 4, 5]`, what is the value of `my_list` after running:\n",
    "\n",
    "```python\n",
    "my_list.reverse()\n",
    "``` \n",
    "\n",
    "- `[1, 2, 3, 4, 5]`\n",
    "- `[5, 4, 3, 2, 1]`***\n",
    "- `[4, 5, 1, 2, 3]`\n",
    "- `[5, 4, 3, 1, 2]` "
   ]
  },
  {
   "attachments": {},
   "cell_type": "markdown",
   "metadata": {},
   "source": [
    "## Assuming `my_list = ['Hello', 'world', '!']`, what is the result of running:\n",
    "```python\n",
    "' '.join(my_list)\n",
    "``` \n",
    "\n",
    "- `HelloWorld!`\n",
    "- `Hello world !` ***\n",
    "- `Helloworld!`\n",
    "- `Hello world!`"
   ]
  },
  {
   "attachments": {},
   "cell_type": "markdown",
   "metadata": {},
   "source": [
    "## Assuming `my_list = ['apple', 'banana', 'orange', 'banana']`, what is the result of running:\n",
    "\n",
    "```python\n",
    "my_list.index('banana')\n",
    "``` \n",
    "- `1` ***\n",
    "- `2`\n",
    "- `[1, 3]`\n",
    "- `None`"
   ]
  },
  {
   "attachments": {},
   "cell_type": "markdown",
   "metadata": {},
   "source": [
    "## What does the following list slice represent: `myList[1:4]`?\n",
    "\n",
    "- Elements from index 1 up to (but not including) index 4 ***\n",
    "- Elements from index 1 to the end of the list\n",
    "- Elements from index 4 up to (but not including) index 1\n",
    "- Elements from index 1 up to (and including) index 4"
   ]
  },
  {
   "attachments": {},
   "cell_type": "markdown",
   "metadata": {},
   "source": [
    "## True or False: Lists in Python can contain elements of different data types.\n",
    "\n",
    "- True ***\n",
    "- False"
   ]
  },
  {
   "attachments": {},
   "cell_type": "markdown",
   "metadata": {},
   "source": [
    "## True or False: Negative indexing in lists allows you to access elements from the end of the list.\n",
    "\n",
    "- True ***\n",
    "- False"
   ]
  },
  {
   "attachments": {},
   "cell_type": "markdown",
   "metadata": {},
   "source": [
    "## True or False: Lists in Python are mutable, meaning their elements can be changed.\n",
    "\n",
    "- True ***\n",
    "- False"
   ]
  },
  {
   "attachments": {},
   "cell_type": "markdown",
   "metadata": {},
   "source": [
    "## True or False: A common error when accessing an element in a list is an `IndexError` if the index is out of range.\n",
    "\n",
    "- True ***\n",
    "- False"
   ]
  }
 ],
 "metadata": {
  "language_info": {
   "name": "python"
  },
  "orig_nbformat": 4
 },
 "nbformat": 4,
 "nbformat_minor": 2
}
