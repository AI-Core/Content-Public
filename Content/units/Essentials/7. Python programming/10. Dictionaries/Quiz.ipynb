{
 "cells": [
  {
   "attachments": {},
   "cell_type": "markdown",
   "metadata": {},
   "source": [
    "# Dictionaries"
   ]
  },
  {
   "attachments": {},
   "cell_type": "markdown",
   "metadata": {},
   "source": [
    "## Which of the following methods can be used to create a dictionary in Python?\n",
    "\n",
    "- `new_dict = {}`\n",
    "- `new_dict = dict()`\n",
    "- `new_dict = {\"key1\": \"value1\", \"key2\": \"value2\"}`\n",
    "- All of the above ***"
   ]
  },
  {
   "attachments": {},
   "cell_type": "markdown",
   "metadata": {},
   "source": [
    "## In Python, what is a dictionary?\n",
    "\n",
    "- A collection of ordered elements\n",
    "- A collection of unique elements\n",
    "- A collection of key-value pairs ***\n",
    "- A collection of values only"
   ]
  },
  {
   "attachments": {},
   "cell_type": "markdown",
   "metadata": {},
   "source": [
    "## What is the relationship between keys and values in a dictionary? Select all that apply.\n",
    "\n",
    "- Keys can be associated with values in a one-to-many relationship ***\n",
    "- Values can be associated with keys in a one-to-many relationship\n",
    "- Keys can be associated with values in a one-to-one relationship ***\n",
    "- Values can be associated with keys in a many-to-one relationship ***"
   ]
  },
  {
   "attachments": {},
   "cell_type": "markdown",
   "metadata": {},
   "source": [
    "## What is the correct way to access the value associated with the key `name` in the following dictionary?\n",
    "\n",
    "``` python\n",
    "person = {\"name\": \"Alice\", \"age\": 30, \"city\": \"New York\"}\n",
    "```\n",
    "\n",
    "- `person(name)`\n",
    "- `person[\"name\"]` ***\n",
    "- `person.value(\"name\")`\n",
    "- `person.get(\"name\")`"
   ]
  },
  {
   "attachments": {},
   "cell_type": "markdown",
   "metadata": {},
   "source": [
    "## Suppose you have the following nested dictionary in Python: `data = {\"person\": {\"name\": \"Alice\", \"age\": 30, \"city\": \"New York\"}}`. What is the correct way to access the value associated with the key `name`?\n",
    "\n",
    "- `data[\"person\"][\"name\"]` ***\n",
    "- `data[name]`\n",
    "- `data.get(\"person\", \"name\")`\n",
    "- `data.get(\"person\").get(\"name\")`"
   ]
  },
  {
   "attachments": {},
   "cell_type": "markdown",
   "metadata": {},
   "source": [
    "## What does the `keys()` method return for a dictionary in Python?\n",
    "\n",
    "- A list of all the keys in the dictionary ***\n",
    "- A list of all the values in the dictionary\n",
    "- A list of all the key-value pairs in the dictionary\n",
    "- None of the above"
   ]
  },
  {
   "attachments": {},
   "cell_type": "markdown",
   "metadata": {},
   "source": [
    "## Suppose you have the following dictionary in Python: `person = {\"name\": \"Alice\", \"age\": 30, \"city\": \"New York\"}`. Which of the following code snippets returns a list of all the keys in the `person` dictionary?\n",
    "\n",
    "- `person.keys()` ***\n",
    "- `keys(person)`\n",
    "- `list(person.keys())`\n",
    "- `list(person.keys())`"
   ]
  },
  {
   "attachments": {},
   "cell_type": "markdown",
   "metadata": {},
   "source": [
    "## Suppose you have the following dictionary in Python: `person = {\"name\": \"Alice\", \"age\": 30, \"city\": \"New York\"}`. Which of the following code snippets correctly uses the `in` operator to check if the key `name` is present in the `person` dictionary?\n",
    "\n",
    "- This code \n",
    "``` python\n",
    "if \"name\" in person:\n",
    "    print(\"Found!\")\n",
    "```\n",
    "\n",
    "- This code \n",
    "``` python       \n",
    "if \"name\" in person.keys():\n",
    "    print(\"Found!\")\n",
    "```\n",
    "\n",
    "- This code  ***\n",
    "``` python\n",
    "if \"name\" in person.values():\n",
    "   print(\"Found!\")\n",
    "``` \n",
    "\n",
    "- This code \n",
    "``` python\n",
    "if person in \"name\":\n",
    "    print(\"Found!\")\n",
    "```\n",
    "\n",
    "\n",
    "\n"
   ]
  },
  {
   "attachments": {},
   "cell_type": "markdown",
   "metadata": {},
   "source": [
    "## Suppose you have the following dictionary in Python: `person = {\"name\": \"Alice\", \"age\": 30, \"city\": \"New York\"}`. Which of the following code snippets correctly adds a new key-value pair to the `person` dictionary, where the key is `\"occupation\"` and the value is `\"engineer\"`?\n",
    "\n",
    "- `person.add(\"occupation\", \"engineer\")`\n",
    "- `person[\"occupation\"] = \"engineer\"` ***\n",
    "- `person.update(\"occupation\": \"engineer\")`\n",
    "- `person.append(\"occupation\", \"engineer\")`"
   ]
  },
  {
   "attachments": {},
   "cell_type": "markdown",
   "metadata": {},
   "source": [
    "##  Suppose you have the following dictionary in Python: `person = {\"name\": \"Alice\", \"age\": 30, \"city\": \"New York\"}`. Which of the following code snippets correctly modifies the value of the `\"age\"` key in the `person` dictionary to `31`? Select all that apply.\n",
    "\n",
    "- `person[\"age\"] = 31` ***\n",
    "- `person.update(age=31)` ***\n",
    "- `person.set_value(\"age\", 31)`\n"
   ]
  },
  {
   "attachments": {},
   "cell_type": "markdown",
   "metadata": {},
   "source": [
    "## What error occurs when you try to access a key that does not exist in a dictionary?\n",
    "\n",
    "- `KeyError` ***\n",
    "- `IndexError`\n",
    "- `TypeError`\n",
    "- `ValueError`"
   ]
  },
  {
   "attachments": {},
   "cell_type": "markdown",
   "metadata": {},
   "source": [
    "## True or False: Dictionary keys must be unique, but the values can be duplicated.\n",
    "\n",
    "- True ***\n",
    "- False"
   ]
  }
 ],
 "metadata": {
  "language_info": {
   "name": "python"
  },
  "orig_nbformat": 4
 },
 "nbformat": 4,
 "nbformat_minor": 2
}
