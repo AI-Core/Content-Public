{
 "cells": [
  {
   "cell_type": "markdown",
   "id": "2794d541",
   "metadata": {},
   "source": [
    "# Initialising a Dictionary"
   ]
  },
  {
   "cell_type": "markdown",
   "id": "6b548bbc",
   "metadata": {},
   "source": [
    "#### 1. Create a variable called `my_dict` and assign it the value `{}`"
   ]
  },
  {
   "cell_type": "code",
   "execution_count": null,
   "id": "f2b3b1b5",
   "metadata": {},
   "outputs": [],
   "source": []
  },
  {
   "attachments": {},
   "cell_type": "markdown",
   "id": "b5844338",
   "metadata": {},
   "source": [
    "#### 2. Print the type of `my_dict`\n",
    "\n",
    "Is it a dictionary or a set? "
   ]
  },
  {
   "cell_type": "code",
   "execution_count": null,
   "id": "055cb44b",
   "metadata": {},
   "outputs": [],
   "source": []
  },
  {
   "attachments": {},
   "cell_type": "markdown",
   "id": "7a696ca9",
   "metadata": {},
   "source": [
    "#### 3. Now, create a variable called `my_var` and assign it the value `{4}`"
   ]
  },
  {
   "cell_type": "code",
   "execution_count": null,
   "id": "ee4a7830",
   "metadata": {},
   "outputs": [],
   "source": []
  },
  {
   "attachments": {},
   "cell_type": "markdown",
   "id": "bb11f142",
   "metadata": {},
   "source": [
    "#### 4. Print the type of `my_var`\n",
    "\n",
    "Is it a dictionary or a set?"
   ]
  },
  {
   "cell_type": "code",
   "execution_count": null,
   "id": "d1e123bb",
   "metadata": {},
   "outputs": [],
   "source": []
  },
  {
   "attachments": {},
   "cell_type": "markdown",
   "id": "7ffb24ec",
   "metadata": {},
   "source": [
    "#### 5. Finally, create a variable called `my_var_2` and assign it the value `{4: 5}`"
   ]
  },
  {
   "cell_type": "code",
   "execution_count": null,
   "id": "2a9eea8a",
   "metadata": {},
   "outputs": [],
   "source": []
  },
  {
   "attachments": {},
   "cell_type": "markdown",
   "id": "5239a50d",
   "metadata": {},
   "source": [
    "#### 6. Print the type of `my_var_2`\n",
    "\n",
    "Is it a dictionary or a set?"
   ]
  },
  {
   "cell_type": "code",
   "execution_count": null,
   "id": "d519ca6b",
   "metadata": {},
   "outputs": [],
   "source": []
  }
 ],
 "metadata": {
  "language_info": {
   "name": "python"
  }
 },
 "nbformat": 4,
 "nbformat_minor": 5
}
