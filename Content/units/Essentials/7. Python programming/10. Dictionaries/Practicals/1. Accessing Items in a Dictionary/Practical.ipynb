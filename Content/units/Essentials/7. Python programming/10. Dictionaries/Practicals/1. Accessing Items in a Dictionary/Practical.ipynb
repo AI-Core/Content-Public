{
 "cells": [
  {
   "cell_type": "markdown",
   "id": "5d71a15b",
   "metadata": {},
   "source": [
    "# Accessing Items in a Dictionary"
   ]
  },
  {
   "cell_type": "markdown",
   "id": "9a0ae94f",
   "metadata": {},
   "source": [
    "#### 1. Create a variable called `my_dict` and assign it the value `{\"key_1\": 1, \"key_2\": 2}`"
   ]
  },
  {
   "cell_type": "code",
   "execution_count": null,
   "id": "52f97b75",
   "metadata": {},
   "outputs": [],
   "source": []
  },
  {
   "cell_type": "markdown",
   "id": "2b0f13b2",
   "metadata": {},
   "source": [
    "#### 2. Print the value of `key_1`"
   ]
  },
  {
   "cell_type": "code",
   "execution_count": null,
   "id": "d1994fcc",
   "metadata": {},
   "outputs": [],
   "source": []
  },
  {
   "cell_type": "markdown",
   "id": "b8f4cd71",
   "metadata": {},
   "source": [
    "#### 3. Print the value of `key_2`"
   ]
  },
  {
   "cell_type": "code",
   "execution_count": null,
   "id": "aaf56eba",
   "metadata": {},
   "outputs": [],
   "source": []
  },
  {
   "cell_type": "markdown",
   "id": "901004fa",
   "metadata": {},
   "source": [
    "#### 4. What happens if you try to print the value of `key_3`?"
   ]
  },
  {
   "cell_type": "code",
   "execution_count": null,
   "id": "541ebb7e",
   "metadata": {},
   "outputs": [],
   "source": []
  },
  {
   "attachments": {},
   "cell_type": "markdown",
   "id": "661b3d7b",
   "metadata": {},
   "source": [
    "#### 5. Print the keys of `my_dict`.\n",
    "\n",
    "Tip: Use the `keys()` method"
   ]
  },
  {
   "cell_type": "code",
   "execution_count": null,
   "id": "b47c2540",
   "metadata": {},
   "outputs": [],
   "source": []
  },
  {
   "attachments": {},
   "cell_type": "markdown",
   "id": "2db853a4",
   "metadata": {},
   "source": [
    "#### 6. Print the values of `my_dict`.\n",
    "\n",
    "Tip: Use the `values()` method"
   ]
  },
  {
   "cell_type": "code",
   "execution_count": null,
   "id": "7446b3a2",
   "metadata": {},
   "outputs": [],
   "source": []
  },
  {
   "attachments": {},
   "cell_type": "markdown",
   "id": "f00f09b3",
   "metadata": {},
   "source": [
    "#### 7. Print the items of `my_dict` and assign it to a variable called `my_items`.\n",
    "\n",
    "Tip: Use the `items()` method"
   ]
  },
  {
   "cell_type": "code",
   "execution_count": null,
   "id": "71a0351e",
   "metadata": {},
   "outputs": [],
   "source": []
  },
  {
   "attachments": {},
   "cell_type": "markdown",
   "id": "203aa057",
   "metadata": {},
   "source": [
    "#### 8. Print the type of `my_items`.\n",
    "\n",
    "What is it? A list or a tuple?"
   ]
  },
  {
   "cell_type": "code",
   "execution_count": null,
   "id": "59857508",
   "metadata": {},
   "outputs": [],
   "source": []
  }
 ],
 "metadata": {
  "language_info": {
   "name": "python"
  }
 },
 "nbformat": 4,
 "nbformat_minor": 5
}
