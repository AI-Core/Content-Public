{
 "cells": [
  {
   "cell_type": "markdown",
   "id": "597cace2",
   "metadata": {},
   "source": [
    "# Adding Items to a Dictionary"
   ]
  },
  {
   "cell_type": "markdown",
   "id": "be9b46a3",
   "metadata": {},
   "source": [
    "#### 1. Create a variable called `my_dict` and assign it the value `{\"key_1\": 1, \"key_2\": 2}`"
   ]
  },
  {
   "cell_type": "code",
   "execution_count": null,
   "id": "3a9ced68",
   "metadata": {},
   "outputs": [],
   "source": []
  },
  {
   "cell_type": "markdown",
   "id": "3bd1ffc0",
   "metadata": {},
   "source": [
    "#### 2. Add a new key called `key_3` with the value `3`"
   ]
  },
  {
   "cell_type": "code",
   "execution_count": null,
   "id": "bf4983d6",
   "metadata": {},
   "outputs": [],
   "source": []
  }
 ],
 "metadata": {
  "kernelspec": {
   "display_name": "content-projects_new",
   "language": "python",
   "name": "python3"
  },
  "language_info": {
   "name": "python",
   "version": "3.10.8 (main, Nov 24 2022, 14:13:03) [GCC 11.2.0]"
  },
  "vscode": {
   "interpreter": {
    "hash": "4b961f8166aad6ccb4cf65d0f9c742ef9c6c23ffe83ad932438cd83ed96aebaf"
   }
  }
 },
 "nbformat": 4,
 "nbformat_minor": 5
}
