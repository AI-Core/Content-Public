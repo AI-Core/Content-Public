{
 "cells": [
  {
   "cell_type": "markdown",
   "id": "e68fda91",
   "metadata": {},
   "source": [
    "# Removing Items from a Dictionary"
   ]
  },
  {
   "cell_type": "markdown",
   "id": "b005ad90",
   "metadata": {},
   "source": [
    "#### 1. Create a variable called `my_dict` and assign it the value `{\"key_1\": 1, \"key_2\": 2}`"
   ]
  },
  {
   "cell_type": "code",
   "execution_count": null,
   "id": "c56dc0d1",
   "metadata": {},
   "outputs": [],
   "source": []
  },
  {
   "cell_type": "markdown",
   "id": "0db8491f",
   "metadata": {},
   "source": [
    "#### 2. Remove `key_1` from `my_dict`"
   ]
  },
  {
   "cell_type": "code",
   "execution_count": null,
   "id": "a19264eb",
   "metadata": {},
   "outputs": [],
   "source": []
  },
  {
   "cell_type": "markdown",
   "id": "84e34747",
   "metadata": {},
   "source": [
    "#### 3. Print the value of `my_dict`"
   ]
  },
  {
   "cell_type": "code",
   "execution_count": null,
   "id": "b583eb46",
   "metadata": {},
   "outputs": [],
   "source": []
  }
 ],
 "metadata": {
  "kernelspec": {
   "display_name": "content-projects_new",
   "language": "python",
   "name": "python3"
  },
  "language_info": {
   "name": "python",
   "version": "3.10.8 (main, Nov 24 2022, 14:13:03) [GCC 11.2.0]"
  },
  "vscode": {
   "interpreter": {
    "hash": "4b961f8166aad6ccb4cf65d0f9c742ef9c6c23ffe83ad932438cd83ed96aebaf"
   }
  }
 },
 "nbformat": 4,
 "nbformat_minor": 5
}
