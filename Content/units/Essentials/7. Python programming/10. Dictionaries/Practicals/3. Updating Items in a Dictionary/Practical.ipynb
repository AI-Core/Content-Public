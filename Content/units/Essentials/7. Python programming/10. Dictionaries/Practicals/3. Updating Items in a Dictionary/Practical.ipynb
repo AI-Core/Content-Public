{
 "cells": [
  {
   "cell_type": "markdown",
   "id": "a2521d48",
   "metadata": {},
   "source": [
    "# Updating Items in a Dictionary"
   ]
  },
  {
   "cell_type": "markdown",
   "id": "3c4cd400",
   "metadata": {},
   "source": [
    "#### 1. Create a variable called `my_dict` and assign it the value `{\"key_1\": 1, \"key_2\": 2}`"
   ]
  },
  {
   "cell_type": "code",
   "execution_count": null,
   "id": "b6146563",
   "metadata": {},
   "outputs": [],
   "source": []
  },
  {
   "cell_type": "markdown",
   "id": "1468d658",
   "metadata": {},
   "source": [
    "#### 2. Update the value of `key_1` to `3`"
   ]
  },
  {
   "cell_type": "code",
   "execution_count": null,
   "id": "f2cf79dc",
   "metadata": {},
   "outputs": [],
   "source": []
  },
  {
   "cell_type": "markdown",
   "id": "22944335",
   "metadata": {},
   "source": [
    "#### 3. Update the value of `key_2` to `4`"
   ]
  },
  {
   "cell_type": "code",
   "execution_count": null,
   "id": "22ad4fb3",
   "metadata": {},
   "outputs": [],
   "source": []
  },
  {
   "cell_type": "markdown",
   "id": "305c81f5",
   "metadata": {},
   "source": [
    "#### 4. Print the value of `my_dict`"
   ]
  },
  {
   "cell_type": "code",
   "execution_count": null,
   "id": "b527402c",
   "metadata": {},
   "outputs": [],
   "source": []
  }
 ],
 "metadata": {
  "kernelspec": {
   "display_name": "content-projects_new",
   "language": "python",
   "name": "python3"
  },
  "language_info": {
   "name": "python",
   "version": "3.10.8 (main, Nov 24 2022, 14:13:03) [GCC 11.2.0]"
  },
  "vscode": {
   "interpreter": {
    "hash": "4b961f8166aad6ccb4cf65d0f9c742ef9c6c23ffe83ad932438cd83ed96aebaf"
   }
  }
 },
 "nbformat": 4,
 "nbformat_minor": 5
}
