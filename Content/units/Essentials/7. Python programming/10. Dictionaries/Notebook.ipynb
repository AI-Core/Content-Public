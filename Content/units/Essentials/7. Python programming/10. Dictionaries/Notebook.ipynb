{
 "cells": [
  {
   "cell_type": "markdown",
   "metadata": {},
   "source": [
    "# Dictionaries "
   ]
  },
  {
   "attachments": {},
   "cell_type": "markdown",
   "metadata": {},
   "source": [
    "Dictionaries are a fundamental data structure in programming that allow you to store and retrieve data efficiently while preserving the order of insertion. They provide a way to associate *values* with unique *keys*, enabling fast access and retrieval of data based on those keys."
   ]
  },
  {
   "attachments": {},
   "cell_type": "markdown",
   "metadata": {},
   "source": [
    "## Motivation\n",
    "\n",
    "Welcome to your journey of learning about dictionaries in programming! Let's explore the key reasons why learning about dictionaries is valuable:\n",
    "- **Key-Value Pair Data Structure**: Dictionaries are like special containers that use unique keys to hold and organize data. Dictionaries make it easy and efficient to access and work with data based on these specific keys.\n",
    "\n",
    "- **Flexible and Dynamic Data Storage**: Dictionaries give you lots of freedom in how you store and organize your data. Unlike lists that use numbers to keep track of things, dictionaries allow you to use any special word or number as a key. It's like having a personalized filing system where you can organize your things in different ways. Dictionaries are versatile and adapt to the needs of your data.\n",
    "\n",
    "- **Efficient Data Lookup and Manipulation**: Dictionaries are super fast when it comes to finding and changing data, which makes them perfect when you want to quickly find or update data without wasting time or effort."
   ]
  },
  {
   "attachments": {},
   "cell_type": "markdown",
   "metadata": {},
   "source": [
    "## Definition \n",
    "\n",
    "> A dictionary is an ordered collection of *key-value pairs*, where each key is unique within the dictionary. The core concept of dictionaries is the **key-value pair**. Each key in a dictionary maps to a corresponding value. Key-value pairs are essential for organizing and accessing data efficiently in dictionaries.\n",
    "\n",
    "## Creation\n",
    "\n",
    "To create a dictionary, you can use curly braces `{}` and separate key-value pairs with colons `:`. Here's an example:"
   ]
  },
  {
   "cell_type": "code",
   "execution_count": 1,
   "metadata": {},
   "outputs": [],
   "source": [
    "empty_dict = {}\n",
    "student_scores = {\"Alice\": 90, \"Bob\": 85, \"Charlie\": 95}\n"
   ]
  },
  {
   "attachments": {},
   "cell_type": "markdown",
   "metadata": {},
   "source": [
    "In the `empty_dict` example, an empty dictionary is created with no initial key-value pairs. The `student_scores` dictionary contains three key-value pairs. In this dictionary `\"Alice\"`, `\"Bob\"`, and `\"Charlie\"` are keys, and `90`, `85`, and `95` are their corresponding values.\n",
    "\n",
    "Another way to create a dictionary is by using the `dict()` constructor and passing in key-value pairs as arguments:"
   ]
  },
  {
   "cell_type": "code",
   "execution_count": 2,
   "metadata": {},
   "outputs": [],
   "source": [
    "student_scores = dict(Alice=90, Bob=85, Charlie=95)"
   ]
  },
  {
   "attachments": {},
   "cell_type": "markdown",
   "metadata": {},
   "source": [
    "This creates the same `student_scores` dictionary as before."
   ]
  },
  {
   "attachments": {},
   "cell_type": "markdown",
   "metadata": {},
   "source": [
    "> Keys in dictionaries have certain restrictions that you should keep in mind:\n",
    "\n",
    "- Keys must be unique within a dictionary. Duplicate keys are not allowed. If you attempt to add a key-value pair with a key that already exists, the existing value will be overwritten.\n",
    "- Keys must be immutable objects. This means that once a key is assigned, it cannot be changed. Common examples of valid keys are strings and numbers.\n",
    "- Mutable objects like lists or dictionaries cannot be used as keys since they can change their value, which would make it difficult to maintain uniqueness and retrieve values efficiently\n",
    "\n",
    "> Values in dictionaries have no restrictions. They can be of any type and can include numbers, strings, lists, other dictionaries, or custom objects."
   ]
  },
  {
   "attachments": {},
   "cell_type": "markdown",
   "metadata": {},
   "source": [
    "## Accessing Values in a Dictionary\n",
    "\n",
    "> Dictionaries are mutable, which means you can modify, add, or remove key-value pairs after the dictionary is created while preserving the order of insertion.\n",
    "\n",
    "Once you have a dictionary, you can access the values associated with specific keys using square brackets `[]` notation. Let's consider the `student_scores` dictionary:"
   ]
  },
  {
   "cell_type": "code",
   "execution_count": 3,
   "metadata": {},
   "outputs": [],
   "source": [
    "student_scores = {\"Alice\": 90, \"Bob\": 85, \"Charlie\": 95}"
   ]
  },
  {
   "attachments": {},
   "cell_type": "markdown",
   "metadata": {},
   "source": [
    "To retrieve the value associated with a particular key, you can use the key within square brackets:"
   ]
  },
  {
   "cell_type": "code",
   "execution_count": 4,
   "metadata": {},
   "outputs": [
    {
     "name": "stdout",
     "output_type": "stream",
     "text": [
      "90\n"
     ]
    }
   ],
   "source": [
    "alice_score = student_scores[\"Alice\"]\n",
    "print(alice_score)  # Output: 90"
   ]
  },
  {
   "attachments": {},
   "cell_type": "markdown",
   "metadata": {},
   "source": [
    "### Nested Dictionaries\n",
    "\n",
    "Dictionaries can also contain nested dictionaries as their values. This allows you to create hierarchical data structures. To access values within nested dictionaries, you can chain multiple square bracket notations.\n",
    "\n",
    "Consider the following example of a nested dictionary:"
   ]
  },
  {
   "cell_type": "code",
   "execution_count": 5,
   "metadata": {},
   "outputs": [],
   "source": [
    "student_info = {\n",
    "    \"Alice\": {\"age\": 20, \"grade\": \"A\"},\n",
    "    \"Bob\": {\"age\": 19, \"grade\": \"B\"},\n",
    "    \"Charlie\": {\"age\": 21, \"grade\": \"A+\"}\n",
    "}\n"
   ]
  },
  {
   "attachments": {},
   "cell_type": "markdown",
   "metadata": {},
   "source": [
    "To access values within the nested dictionary, you can use multiple square bracket notations:"
   ]
  },
  {
   "cell_type": "code",
   "execution_count": 6,
   "metadata": {},
   "outputs": [
    {
     "name": "stdout",
     "output_type": "stream",
     "text": [
      "20\n",
      "B\n"
     ]
    }
   ],
   "source": [
    "alice_age = student_info[\"Alice\"][\"age\"]\n",
    "bob_grade = student_info[\"Bob\"][\"grade\"]\n",
    "\n",
    "print(alice_age)  # Output: 20\n",
    "print(bob_grade)  # Output: B"
   ]
  },
  {
   "attachments": {},
   "cell_type": "markdown",
   "metadata": {},
   "source": [
    "## Modifying Values in a Dictionary\n",
    "\n",
    "You can also use the square bracket notation to update the value associated with a specific key:"
   ]
  },
  {
   "cell_type": "code",
   "execution_count": 7,
   "metadata": {},
   "outputs": [
    {
     "name": "stdout",
     "output_type": "stream",
     "text": [
      "98\n"
     ]
    }
   ],
   "source": [
    "student_scores[\"Charlie\"] = 98\n",
    "print(student_scores[\"Charlie\"])  # Output: 98"
   ]
  },
  {
   "attachments": {},
   "cell_type": "markdown",
   "metadata": {},
   "source": [
    "## Adding new Keys to Dictionaries\n",
    "\n",
    "Dictionaries in Python provide straightforward ways to add new keys or modify existing keys along with their corresponding values. You can use assignment (`=`) to add new key-value pairs or update the values associated with existing keys. \n",
    "\n",
    "To add a new key-value pair to a dictionary, you can assign a value to a previously non-existent key. If the key already exists, the assigned value will overwrite the existing value. Here's an example:"
   ]
  },
  {
   "cell_type": "code",
   "execution_count": 25,
   "metadata": {},
   "outputs": [
    {
     "name": "stdout",
     "output_type": "stream",
     "text": [
      "{'Alice': 90, 'Bob': 85, 'Charlie': 95}\n"
     ]
    }
   ],
   "source": [
    "student_scores = {\"Alice\": 90, \"Bob\": 85}\n",
    "\n",
    "# Adding a new key-value pair\n",
    "student_scores[\"Charlie\"] = 95\n",
    "\n",
    "print(student_scores)\n",
    "# Output: {'Alice': 90, 'Bob': 85, 'Charlie': 95}"
   ]
  },
  {
   "attachments": {},
   "cell_type": "markdown",
   "metadata": {},
   "source": [
    "## Removing Values from a Dictionary\n",
    "\n",
    "Dictionaries in Python provide methods and operations to remove key-value pairs from the dictionary.\n",
    "\n",
    "- The `pop()` method removes a key-value pair from a dictionary and returns the value associated with the specified key"
   ]
  },
  {
   "cell_type": "code",
   "execution_count": 10,
   "metadata": {},
   "outputs": [
    {
     "name": "stdout",
     "output_type": "stream",
     "text": [
      "{'Alice': 90, 'Charlie': 95}\n",
      "85\n"
     ]
    }
   ],
   "source": [
    "student_scores = {\"Alice\": 90, \"Bob\": 85, \"Charlie\": 95}\n",
    "bob_score = student_scores.pop(\"Bob\")\n",
    "print(student_scores)\n",
    "print(bob_score)"
   ]
  },
  {
   "attachments": {},
   "cell_type": "markdown",
   "metadata": {},
   "source": [
    "- The `popitem()` method removes and returns an arbitrary key-value pair from the dictionary. Unlike `pop()`, `popitem()` doesn't require you to provide a key; it automatically removes the last inserted key-value pair."
   ]
  },
  {
   "cell_type": "code",
   "execution_count": 11,
   "metadata": {},
   "outputs": [
    {
     "name": "stdout",
     "output_type": "stream",
     "text": [
      "{'Alice': 90, 'Bob': 85}\n",
      "('Charlie', 95)\n"
     ]
    }
   ],
   "source": [
    "student_scores = {\"Alice\": 90, \"Bob\": 85, \"Charlie\": 95}\n",
    "removed_item = student_scores.popitem()\n",
    "print(student_scores)\n",
    "print(removed_item)"
   ]
  },
  {
   "attachments": {},
   "cell_type": "markdown",
   "metadata": {},
   "source": [
    "## Common Dictionary Methods\n",
    "\n",
    "Python provides a set of built-in methods specifically designed for dictionaries. Here are some commonly used methods:\n",
    "\n",
    "### `keys()`\n",
    "\n",
    "The `keys()` method returns a view object that contains all the keys present in the dictionary."
   ]
  },
  {
   "cell_type": "code",
   "execution_count": 12,
   "metadata": {},
   "outputs": [
    {
     "name": "stdout",
     "output_type": "stream",
     "text": [
      "dict_keys(['Alice', 'Bob', 'Charlie'])\n"
     ]
    }
   ],
   "source": [
    "student_scores = {\"Alice\": 90, \"Bob\": 85, \"Charlie\": 95}\n",
    "keys_view = student_scores.keys()\n",
    "print(keys_view)  # Output: dict_keys(['Alice', 'Bob', 'Charlie'])"
   ]
  },
  {
   "attachments": {},
   "cell_type": "markdown",
   "metadata": {},
   "source": [
    "### `values()`\n",
    "\n",
    "The `values()` method returns a view object that contains all the values present in the dictionary."
   ]
  },
  {
   "cell_type": "code",
   "execution_count": 13,
   "metadata": {},
   "outputs": [
    {
     "name": "stdout",
     "output_type": "stream",
     "text": [
      "dict_values([90, 85, 95])\n"
     ]
    }
   ],
   "source": [
    "student_scores = {\"Alice\": 90, \"Bob\": 85, \"Charlie\": 95}\n",
    "values_view = student_scores.values()\n",
    "print(values_view)  # Output: dict_values([90, 85, 95])\n"
   ]
  },
  {
   "attachments": {},
   "cell_type": "markdown",
   "metadata": {},
   "source": [
    "### `items()`\n",
    "\n",
    "The `items()` method returns a view object that contains tuples of key-value pairs present in the dictionary."
   ]
  },
  {
   "cell_type": "code",
   "execution_count": 14,
   "metadata": {},
   "outputs": [
    {
     "name": "stdout",
     "output_type": "stream",
     "text": [
      "dict_items([('Alice', 90), ('Bob', 85), ('Charlie', 95)])\n"
     ]
    }
   ],
   "source": [
    "student_scores = {\"Alice\": 90, \"Bob\": 85, \"Charlie\": 95}\n",
    "items_view = student_scores.items()\n",
    "print(items_view)  # Output: dict_items([('Alice', 90), ('Bob', 85), ('Charlie', 95)])"
   ]
  },
  {
   "attachments": {},
   "cell_type": "markdown",
   "metadata": {},
   "source": [
    "### `get(key[, default])`\n",
    "\n",
    "The `get()` method retrieves the value associated with the given key. If the key is not found, it returns the specified default value (or `None` if not provided)."
   ]
  },
  {
   "cell_type": "code",
   "execution_count": 15,
   "metadata": {},
   "outputs": [
    {
     "name": "stdout",
     "output_type": "stream",
     "text": [
      "90\n",
      "0\n"
     ]
    }
   ],
   "source": [
    "student_scores = {\"Alice\": 90, \"Bob\": 85, \"Charlie\": 95}\n",
    "alice_score = student_scores.get(\"Alice\")\n",
    "john_score = student_scores.get(\"John\", 0)\n",
    "print(alice_score)  # Output: 90\n",
    "print(john_score)  # Output: 0"
   ]
  },
  {
   "attachments": {},
   "cell_type": "markdown",
   "metadata": {},
   "source": [
    "### `update(other_dict)`\n",
    "\n",
    "The `update()` method merges another dictionary into the existing dictionary. If there are common keys, the values from the second dictionary overwrite the values in the first dictionary."
   ]
  },
  {
   "cell_type": "code",
   "execution_count": 17,
   "metadata": {},
   "outputs": [
    {
     "name": "stdout",
     "output_type": "stream",
     "text": [
      "{'A': 1, 'B': 2, 'C': 3, 'D': 4}\n",
      "{'A': 1, 'B': 3, 'C': 4}\n"
     ]
    }
   ],
   "source": [
    "dict1 = {\"A\": 1, \"B\": 2}\n",
    "dict2 = {\"C\": 3, \"D\": 4}\n",
    "dict1.update(dict2)\n",
    "print(dict1)  # Output: {'A': 1, 'B': 2, 'C': 3, 'D': 4}\n",
    "\n",
    "dict1 = {\"A\": 1, \"B\": 2}\n",
    "dict3 = {\"B\": 3, \"C\": 4}\n",
    "dict1.update(dict3)\n",
    "print(dict1)  # Output: {'A': 1, 'B': 3, 'C': 4}"
   ]
  },
  {
   "attachments": {},
   "cell_type": "markdown",
   "metadata": {},
   "source": [
    "### `copy()`\n",
    "\n",
    "The `copy()` method creates a copy of the dictionary. It returns a new dictionary with the same key-value pairs as the original dictionary."
   ]
  },
  {
   "cell_type": "code",
   "execution_count": 18,
   "metadata": {},
   "outputs": [
    {
     "name": "stdout",
     "output_type": "stream",
     "text": [
      "{'Alice': 90, 'Bob': 85, 'Charlie': 95}\n"
     ]
    }
   ],
   "source": [
    "student_scores = {\"Alice\": 90, \"Bob\": 85, \"Charlie\": 95}\n",
    "copied_dict = student_scores.copy()\n",
    "print(copied_dict)  # Output: {'Alice': 90, 'Bob': 85, 'Charlie': 95}"
   ]
  },
  {
   "attachments": {},
   "cell_type": "markdown",
   "metadata": {},
   "source": [
    "## Converting Dictionaries to Lists and Vice Versa\n",
    "\n",
    "You can convert a dictionary into a list of its keys, values, or key-value pairs using the `keys()`, `values()`, and `items()` methods, respectively.\n",
    "\n",
    "Here are some examples:"
   ]
  },
  {
   "cell_type": "code",
   "execution_count": 20,
   "metadata": {},
   "outputs": [
    {
     "name": "stdout",
     "output_type": "stream",
     "text": [
      "['Alice', 'Bob', 'Charlie']\n",
      "[90, 85, 95]\n",
      "[('Alice', 90), ('Bob', 85), ('Charlie', 95)]\n"
     ]
    }
   ],
   "source": [
    "student_scores = {\"Alice\": 90, \"Bob\": 85, \"Charlie\": 95}\n",
    "\n",
    "# Converting to a list of keys\n",
    "keys_list = list(student_scores.keys())\n",
    "print(keys_list)\n",
    "\n",
    "# Converting to a list of values\n",
    "values_list = list(student_scores.values())\n",
    "print(values_list)\n",
    "\n",
    "# Converting to a list of key-value pairs\n",
    "items_list = list(student_scores.items())\n",
    "print(items_list)"
   ]
  },
  {
   "attachments": {},
   "cell_type": "markdown",
   "metadata": {},
   "source": [
    "Conversely, you can convert a list of key-value pairs into a dictionary using the `dict()` constructor."
   ]
  },
  {
   "cell_type": "code",
   "execution_count": 21,
   "metadata": {},
   "outputs": [
    {
     "name": "stdout",
     "output_type": "stream",
     "text": [
      "{'Alice': 90, 'Bob': 85, 'Charlie': 95}\n"
     ]
    }
   ],
   "source": [
    "items_list = [(\"Alice\", 90), (\"Bob\", 85), (\"Charlie\", 95)]\n",
    "student_scores = dict(items_list)\n",
    "print(student_scores)"
   ]
  },
  {
   "attachments": {},
   "cell_type": "markdown",
   "metadata": {},
   "source": [
    "## The `in` Operator\n",
    "\n",
    "The `in` operator provides a convenient way to determine whether a specific key exists in a dictionary or not. The in operator returns a boolean value (`True` or `False`) based on the presence or absence of the key."
   ]
  },
  {
   "cell_type": "code",
   "execution_count": 22,
   "metadata": {},
   "outputs": [
    {
     "name": "stdout",
     "output_type": "stream",
     "text": [
      "True\n",
      "False\n"
     ]
    }
   ],
   "source": [
    "student_scores = {\"Alice\": 90, \"Bob\": 85, \"Charlie\": 95}\n",
    "\n",
    "# Checking for the presence of keys\n",
    "print(\"Alice\" in student_scores)  # Output: True\n",
    "print(\"John\" in student_scores)   # Output: False"
   ]
  },
  {
   "attachments": {},
   "cell_type": "markdown",
   "metadata": {},
   "source": [
    "- `print(\"Alice\" in student_scores)` returns `True` because the key `\"Alice\"` exists in the `student_scores` dictionary\n",
    "- `print(\"John\" in student_scores)` returns `False` because the key `\"John\"` does not exist in the `student_scores` dictionary"
   ]
  },
  {
   "attachments": {},
   "cell_type": "markdown",
   "metadata": {},
   "source": [
    "## Common Dictionary Errors and Troubleshooting\n",
    "\n",
    "### `KeyError`\n",
    "\n",
    "This error occurs when you try to access a key that does not exist in the dictionary."
   ]
  },
  {
   "cell_type": "code",
   "execution_count": 26,
   "metadata": {},
   "outputs": [
    {
     "ename": "KeyError",
     "evalue": "'Charlie'",
     "output_type": "error",
     "traceback": [
      "\u001b[0;31m---------------------------------------------------------------------------\u001b[0m",
      "\u001b[0;31mKeyError\u001b[0m                                  Traceback (most recent call last)",
      "\u001b[1;32m/Users/maya/Desktop/AiCore Work/Content-Projects/Content/units/Essentials/7. Python programming/10. Dictionaries/Notebook.ipynb Cell 45\u001b[0m in \u001b[0;36m<cell line: 2>\u001b[0;34m()\u001b[0m\n\u001b[1;32m      <a href='vscode-notebook-cell:/Users/maya/Desktop/AiCore%20Work/Content-Projects/Content/units/Essentials/7.%20Python%20programming/10.%20Dictionaries/Notebook.ipynb#Y155sZmlsZQ%3D%3D?line=0'>1</a>\u001b[0m student_scores \u001b[39m=\u001b[39m {\u001b[39m\"\u001b[39m\u001b[39mAlice\u001b[39m\u001b[39m\"\u001b[39m: \u001b[39m90\u001b[39m, \u001b[39m\"\u001b[39m\u001b[39mBob\u001b[39m\u001b[39m\"\u001b[39m: \u001b[39m85\u001b[39m}\n\u001b[0;32m----> <a href='vscode-notebook-cell:/Users/maya/Desktop/AiCore%20Work/Content-Projects/Content/units/Essentials/7.%20Python%20programming/10.%20Dictionaries/Notebook.ipynb#Y155sZmlsZQ%3D%3D?line=1'>2</a>\u001b[0m \u001b[39mprint\u001b[39m(student_scores[\u001b[39m\"\u001b[39;49m\u001b[39mCharlie\u001b[39;49m\u001b[39m\"\u001b[39;49m])\n",
      "\u001b[0;31mKeyError\u001b[0m: 'Charlie'"
     ]
    }
   ],
   "source": [
    "student_scores = {\"Alice\": 90, \"Bob\": 85}\n",
    "print(student_scores[\"Charlie\"])  # KeyError: 'Charlie'"
   ]
  },
  {
   "attachments": {},
   "cell_type": "markdown",
   "metadata": {},
   "source": [
    "Troubleshooting tips:\n",
    "- Check if you are using the correct key spelling and case sensitivity\n",
    "- Use the `in` operator to check if the key exists in the dictionary before accessing it\n",
    "- Use the `get()` method to retrieve the value for a key and provide a default value to handle cases where the key is not present\n",
    "\n",
    "### `TypeError`\n",
    "\n",
    "This error occurs when you perform dictionary operations with incompatible data types."
   ]
  },
  {
   "cell_type": "code",
   "execution_count": 27,
   "metadata": {},
   "outputs": [
    {
     "ename": "TypeError",
     "evalue": "unhashable type: 'list'",
     "output_type": "error",
     "traceback": [
      "\u001b[0;31m---------------------------------------------------------------------------\u001b[0m",
      "\u001b[0;31mTypeError\u001b[0m                                 Traceback (most recent call last)",
      "\u001b[1;32m/Users/maya/Desktop/AiCore Work/Content-Projects/Content/units/Essentials/7. Python programming/10. Dictionaries/Notebook.ipynb Cell 47\u001b[0m in \u001b[0;36m<cell line: 1>\u001b[0;34m()\u001b[0m\n\u001b[0;32m----> <a href='vscode-notebook-cell:/Users/maya/Desktop/AiCore%20Work/Content-Projects/Content/units/Essentials/7.%20Python%20programming/10.%20Dictionaries/Notebook.ipynb#Y160sZmlsZQ%3D%3D?line=0'>1</a>\u001b[0m student_scores \u001b[39m=\u001b[39m {[\u001b[39m\"\u001b[39m\u001b[39mAlice\u001b[39m\u001b[39m\"\u001b[39m, \u001b[39m\"\u001b[39m\u001b[39mBob\u001b[39m\u001b[39m\"\u001b[39m]: \u001b[39m90\u001b[39m, \u001b[39m\"\u001b[39m\u001b[39mCharlie\u001b[39m\u001b[39m\"\u001b[39m: \u001b[39m95\u001b[39m}\n",
      "\u001b[0;31mTypeError\u001b[0m: unhashable type: 'list'"
     ]
    }
   ],
   "source": [
    "student_scores = {[\"Alice\", \"Bob\"]: 90, \"Charlie\": 95}  # TypeError: unhashable type: 'list'"
   ]
  },
  {
   "attachments": {},
   "cell_type": "markdown",
   "metadata": {},
   "source": [
    "Troubleshooting tips:\n",
    "- Ensure that the keys and values are of compatible data types\n",
    "- Avoid using mutable data types like lists as dictionary keys since they are not hashable.In the context of dictionaries in Python, the term \"hashable\" refers to an object's ability to be uniquely identified and mapped to a fixed-size integer value, known as a hash value. "
   ]
  },
  {
   "attachments": {},
   "cell_type": "markdown",
   "metadata": {},
   "source": [
    "## Key Takeaways\n",
    "\n",
    "- Dictionaries in Python are unordered collections of key-value pairs that provide efficient lookup and retrieval of values based on their associated keys\n",
    "- Dictionaries are created using curly braces `{}` or the `dict()` constructor, and key-value pairs are separated by colons `:`. Keys must be unique and hashable, while values can be of any data type.\n",
    "- Dictionaries are mutable, allowing you to add, modify, or remove key-value pairs as needed\n",
    "- Key-value pairs in dictionaries provide a way to associate meaningful data or information. Keys act as unique identifiers for values, enabling fast and efficient access.\n",
    "- Common dictionary operations include adding and modifying key-value pairs, accessing values by key, removing key-value pairs, and checking the presence of keys using the in operator\n",
    "- Dictionary methods such as `get()`, `keys()`, `values()`, and `items()` provide additional functionality for working with dictionaries"
   ]
  }
 ],
 "metadata": {
  "interpreter": {
   "hash": "3d597f4c481aa0f25dceb95d2a0067e73c0966dcbd003d741d821a7208527ecf"
  },
  "kernelspec": {
   "display_name": "Python 3.9.1 64-bit ('base': conda)",
   "name": "python3"
  },
  "language_info": {
   "codemirror_mode": {
    "name": "ipython",
    "version": 3
   },
   "file_extension": ".py",
   "mimetype": "text/x-python",
   "name": "python",
   "nbconvert_exporter": "python",
   "pygments_lexer": "ipython3",
   "version": "3.9.2"
  }
 },
 "nbformat": 4,
 "nbformat_minor": 4
}
