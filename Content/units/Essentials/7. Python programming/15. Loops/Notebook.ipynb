{
 "cells": [
  {
   "cell_type": "markdown",
   "metadata": {},
   "source": [
    "# Loops"
   ]
  },
  {
   "attachments": {},
   "cell_type": "markdown",
   "metadata": {},
   "source": [
    "## Learning Objectives\n",
    "- Understand the concept of iterations (definite and indefinite).\n",
    "- Learn how to use while loops.\n",
    "- Learn how to use a basic for loop.\n",
    "- Learn how to use a for loop with the range() function.\n",
    "- Learn how to use range(len(iterable)) to iterate over an index.\n",
    "- Learn how to use tuple unpacking in iterables.\n",
    "- Learn how to iterate over dictionaries.\n",
    "- Learn how to use conditional statements within for loops.\n",
    "- Learn how to use the pass, break and continue keywords.\n",
    "- Learn how to create and iterate through zip and enumerate objects.\n"
   ]
  },
  {
   "cell_type": "markdown",
   "metadata": {},
   "source": [
    "## Iteration\n",
    "\n",
    "- A data structure is considered iterable when it is capable of returning its elements one at a time, e.g. lists, tuples, strings and dictionaries (d.keys() returns a list).\n",
    "- An iteration refers to the performance of the same operation repeatedly (often over each element of an iterable), e.g. multiplying each element in a list by 2 or retrieving index 0 of each item in a list of strings."
   ]
  },
  {
   "cell_type": "markdown",
   "metadata": {},
   "source": [
    "## While Loops\n",
    "\n",
    "<p align=center><img src=images/while-loop.jpg width=500></p>\n",
    "\n",
    "- The while loop performs the same operation(s) __while__ some boolean conditions are fulfilled.\n",
    "- This is called indefinite iteration, where the number of iterations is unknown.\n",
    "- While loops will not be explored in great detail here, as they are not highly useful in data science."
   ]
  },
  {
   "cell_type": "markdown",
   "metadata": {},
   "source": [
    "### Basic syntax"
   ]
  },
  {
   "cell_type": "code",
   "execution_count": null,
   "metadata": {},
   "outputs": [],
   "source": [
    "# while some_condition:\n",
    "#     do_something\n",
    "# else:\n",
    "#     do_something_else"
   ]
  },
  {
   "cell_type": "markdown",
   "metadata": {},
   "source": [
    "The syntax comprises the following parts:\n",
    "- The while keyword: This is the key to the statement; it indicates a while loop and refers to some_condition.\n",
    "- The condition: The while keyword determines whether the condition is True and executes the dependent block of code if it is.\n",
    "- do_something: This is the block of code to be executed if the condition is True.\n",
    "- else statement: This is the block of code to be executed if the condition is False.\n",
    "<br><br>\n",
    "\n",
    "Things to note.\n",
    "- __While__ the condition is __True__, the dependent block of code will be executed, and the program will __loop__ to the while statement, revalidate the condition, and execute again if True.\n",
    "- This continues __indefinitely__ until the condition is false, hence the 'indefinite iteration'.\n",
    "- A common mistake is to create an __infinite loop__, where the condition __remains False__, and the code continues to execute, thereby expending the memory resources until the computer crashes.\n",
    "- Therefore, it is highly recommended to include a way of adjusting the condition inside the loop, either in the do_something statement or using the break keyword (see below)."
   ]
  },
  {
   "cell_type": "markdown",
   "metadata": {},
   "source": [
    "### Example"
   ]
  },
  {
   "cell_type": "code",
   "execution_count": null,
   "metadata": {},
   "outputs": [],
   "source": [
    "x = 0\n",
    "\n",
    "while x < 5:\n",
    "    print(f\"The current value of x is {x}\")\n",
    "    x += 1\n",
    "else:\n",
    "    print(\"x not less than 5\")"
   ]
  },
  {
   "cell_type": "code",
   "execution_count": null,
   "metadata": {},
   "outputs": [],
   "source": [
    "x = 0\n",
    "\n",
    "while x < 5:\n",
    "    print(f\"The current value of x is {x}\")\n",
    "    x += 1\n",
    "else:\n",
    "    print(\"x not less than 5\")"
   ]
  },
  {
   "cell_type": "markdown",
   "metadata": {},
   "source": [
    "### The break keyword"
   ]
  },
  {
   "cell_type": "markdown",
   "metadata": {},
   "source": [
    "- The break keyword is used to exit a loop. Conventionally, it is used with an if statement to exit the loop if a condition is fulfilled.\n",
    "- If the break keyword is applied, the code will not loop. It will halt its execution there and move on to the next statement.\n",
    "- This can be observed in the below code where 2 is not printed. The print statement is indented, along with the latter part of the loop."
   ]
  },
  {
   "cell_type": "code",
   "execution_count": null,
   "metadata": {},
   "outputs": [],
   "source": [
    "x = 0\n",
    "while x < 5:\n",
    "    if x == 2:\n",
    "        break\n",
    "    print(x)\n",
    "    x += 1"
   ]
  },
  {
   "cell_type": "markdown",
   "metadata": {},
   "source": [
    "## For Loops"
   ]
  },
  {
   "cell_type": "markdown",
   "metadata": {},
   "source": [
    "- For loops perform an operation on each element in an iterable (each character in a string or each item in a list) until no element is left in the iterable.\n",
    "- This form of iteration is called definite iteration, where the number of iterations is known.\n",
    "- Further, this is an example of Don't Repeat Yourself (DRY) coding, since a single For loop performs numerous operations in one pass.\n",
    "\n",
    "As opposed to the `while` loop, the `for` loop is limited by the number of items in the iterable. <br><br>\n",
    "\n",
    "<p align=center><img src=images/for_while.jpeg></p>"
   ]
  },
  {
   "cell_type": "markdown",
   "metadata": {},
   "source": [
    "### Basic syntax"
   ]
  },
  {
   "cell_type": "code",
   "execution_count": 95,
   "metadata": {},
   "outputs": [],
   "source": [
    "# for i in iterable:\n",
    "#     do_something\n",
    "#     do_something_to_i"
   ]
  },
  {
   "cell_type": "markdown",
   "metadata": {},
   "source": [
    "The syntax can be broken down, as follows:\n",
    "- __i__ is the counter variable; it can be anything provided that it is consistent. For readability, the best practice is to use naming words, such as __city in cities__, __item in items,__ etc, where __cities__ or __items__ is the __name__ of the __iterable__.\n",
    "\n",
    "- __i__ refers to each element in the iterable in a given iteration; thus, we can employ __i__ in the do_something block.\n",
    "\n",
    "- __in__ is the keyword, __in__, referencing the following iterable.\n",
    "\n",
    "- __iterable__ is the data structure over which the operation is performed, e.g. the list name.\n",
    "\n",
    "- __colon__ indicates control flow and signals an indentation, completing the set phrase.\n",
    "\n",
    "- __do_something__ is the code block to be executed on each element; __i__ is often used in this code block, although other alphabets are permissible."
   ]
  },
  {
   "cell_type": "markdown",
   "metadata": {},
   "source": [
    "For example,"
   ]
  },
  {
   "cell_type": "code",
   "execution_count": 3,
   "metadata": {},
   "outputs": [
    {
     "name": "stdout",
     "output_type": "stream",
     "text": [
      "Hello, I have a: hat\n",
      "Hello, I have a: boots\n",
      "Hello, I have a: jacket\n",
      "Hello, I have a: gloves\n"
     ]
    }
   ],
   "source": [
    "items = [\"hat\", \"boots\", \"jacket\", \"gloves\"]\n",
    "\n",
    "for item in items:\n",
    "    print(f'Hello, I have a: {item}')"
   ]
  },
  {
   "cell_type": "markdown",
   "metadata": {},
   "source": [
    "### The range() function"
   ]
  },
  {
   "cell_type": "code",
   "execution_count": 98,
   "metadata": {},
   "outputs": [],
   "source": [
    "# for i in range(start,stop,step):\n",
    "#     do_something\n",
    "#     do_something_to_i"
   ]
  },
  {
   "cell_type": "code",
   "execution_count": 6,
   "metadata": {},
   "outputs": [
    {
     "data": {
      "text/plain": [
       "[0, 1, 2, 3, 4]"
      ]
     },
     "execution_count": 6,
     "metadata": {},
     "output_type": "execute_result"
    }
   ],
   "source": [
    "list((range(5)))"
   ]
  },
  {
   "cell_type": "code",
   "execution_count": 10,
   "metadata": {},
   "outputs": [
    {
     "data": {
      "text/plain": [
       "range(0, 10)"
      ]
     },
     "execution_count": 10,
     "metadata": {},
     "output_type": "execute_result"
    }
   ],
   "source": [
    "range(0, 10)"
   ]
  },
  {
   "cell_type": "code",
   "execution_count": 7,
   "metadata": {},
   "outputs": [
    {
     "name": "stdout",
     "output_type": "stream",
     "text": [
      "[0, 1, 2, 3, 4]\n",
      "[5, 6, 7, 8, 9, 10, 11, 12, 13, 14, 15, 16, 17, 18, 19]\n",
      "[5, 7, 9, 11, 13, 15, 17, 19]\n"
     ]
    }
   ],
   "source": [
    "print(list(range(5)))\n",
    "print(list(range(5, 20)))\n",
    "print(list(range(5, 20, 2)))"
   ]
  },
  {
   "cell_type": "markdown",
   "metadata": {},
   "source": [
    "- Here, an operation using the range() function is performed, which applies to all the numbers in the given range.\n",
    "\n",
    "- range() is a generator that returns an iterable range object (not a list).\n",
    "\n",
    "- The list(range()) function is employed to generate a list.\n",
    "\n",
    "- The range() function accepts three arguments: start, stop and step.\n",
    "\n",
    "- If __one argument__ is specified, e.g. range(3), the range defaults to start = 0 and step = 1 and considers the argument as the ending number+1. Therefore, range(3) contains 0, 1 and 2.\n",
    "\n",
    "- If __two arguments__ are specified, e.g. range(5,20), the first is the start number, and the second is stop number+1.\n",
    "\n",
    "- If __three arguments__ are specified, the third is considered the step(increment), e.g. range(5,10,2) contains 5,7 and 9."
   ]
  },
  {
   "cell_type": "markdown",
   "metadata": {},
   "source": [
    "For example,"
   ]
  },
  {
   "cell_type": "code",
   "execution_count": 14,
   "metadata": {},
   "outputs": [
    {
     "data": {
      "text/plain": [
       "6"
      ]
     },
     "execution_count": 14,
     "metadata": {},
     "output_type": "execute_result"
    }
   ],
   "source": [
    "ls = [1, 5, 6, 7, 8, 9]\n",
    "ls[2]"
   ]
  },
  {
   "cell_type": "code",
   "execution_count": 16,
   "metadata": {},
   "outputs": [
    {
     "name": "stdout",
     "output_type": "stream",
     "text": [
      "0\n",
      "1\n",
      "2\n",
      "3\n",
      "4\n",
      "5\n"
     ]
    }
   ],
   "source": [
    "for i in range(len(ls)):\n",
    "    print(i)"
   ]
  },
  {
   "cell_type": "code",
   "execution_count": 15,
   "metadata": {},
   "outputs": [
    {
     "data": {
      "text/plain": [
       "range(0, 6)"
      ]
     },
     "execution_count": 15,
     "metadata": {},
     "output_type": "execute_result"
    }
   ],
   "source": [
    "range(len(ls))"
   ]
  },
  {
   "cell_type": "code",
   "execution_count": 3,
   "metadata": {},
   "outputs": [
    {
     "name": "stdout",
     "output_type": "stream",
     "text": [
      "[0, 1, 2]\n"
     ]
    }
   ],
   "source": [
    "print(list(range(3)))"
   ]
  },
  {
   "cell_type": "code",
   "execution_count": 4,
   "metadata": {},
   "outputs": [
    {
     "name": "stdout",
     "output_type": "stream",
     "text": [
      "[5, 6, 7, 8, 9, 10, 11, 12, 13, 14, 15, 16, 17, 18, 19]\n"
     ]
    }
   ],
   "source": [
    "print(list(range(5,20)))"
   ]
  },
  {
   "cell_type": "code",
   "execution_count": 5,
   "metadata": {},
   "outputs": [
    {
     "name": "stdout",
     "output_type": "stream",
     "text": [
      "[5, 7, 9]\n"
     ]
    }
   ],
   "source": [
    "print(list(range(5,10,2)))"
   ]
  },
  {
   "cell_type": "markdown",
   "metadata": {},
   "source": [
    "#### The range(len(iterable)) function"
   ]
  },
  {
   "cell_type": "code",
   "execution_count": 100,
   "metadata": {},
   "outputs": [],
   "source": [
    "# for i in range(len(iterable)):\n",
    "#     do_something_to_iterable[i]"
   ]
  },
  {
   "cell_type": "markdown",
   "metadata": {},
   "source": [
    "- Here, i is each number in the indices of a list, and the list in the code block can be indexed to modify each element.\n",
    "- This is generally employed to modify lists; however, it has other uses."
   ]
  },
  {
   "cell_type": "markdown",
   "metadata": {},
   "source": [
    "For example,"
   ]
  },
  {
   "cell_type": "code",
   "execution_count": 25,
   "metadata": {},
   "outputs": [
    {
     "name": "stdout",
     "output_type": "stream",
     "text": [
      "['HAT', 'BOOTS', 'JACKET', 'GLOVES']\n"
     ]
    }
   ],
   "source": [
    "items = [\"hat\", \"boots\", \"jacket\", \"gloves\"]\n",
    "\n",
    "counter = 0\n",
    "for i in range(len(items)):\n",
    "    items[i] = items[i].upper()\n",
    "\n",
    "print(items)"
   ]
  },
  {
   "cell_type": "markdown",
   "metadata": {},
   "source": [
    "### Tuple packing and unpacking"
   ]
  },
  {
   "cell_type": "markdown",
   "metadata": {},
   "source": [
    "A quick revision of the lesson on tuples.\n",
    "- Tuple unpacking is one of the most powerful features of tuples.\n",
    "- Using the comma syntax below, Python automatically selects elements from a tuple and assigns them to variables.<br><br>\n",
    "\n",
    "This feature can be applied to For loops, particularly when iterating over dictionaries."
   ]
  },
  {
   "cell_type": "code",
   "execution_count": 20,
   "metadata": {},
   "outputs": [
    {
     "name": "stdout",
     "output_type": "stream",
     "text": [
      "1\n",
      "2\n"
     ]
    }
   ],
   "source": [
    "# Python here 'unpacks' the tuple automatically and picks out the values and assigns them to the comma-separated\n",
    "# variables\n",
    "a, b = (1, 2)\n",
    "\n",
    "print(a)\n",
    "print(b)"
   ]
  },
  {
   "cell_type": "markdown",
   "metadata": {},
   "source": [
    "### For Loops with Dictionaries"
   ]
  },
  {
   "cell_type": "markdown",
   "metadata": {},
   "source": [
    "There are two possible approaches for applying the For loop to dictionaries:\n",
    "1. by iterating through d.keys(), since it returns a list.\n",
    "2. by applying tuple unpacking to iterate through d.items(), since it returns a list of paired tuples.\n",
    "\n",
    "The second approach enables the operation of both keys and items in a highly readable format."
   ]
  },
  {
   "cell_type": "markdown",
   "metadata": {},
   "source": [
    "#### Method 1"
   ]
  },
  {
   "cell_type": "code",
   "execution_count": 22,
   "metadata": {},
   "outputs": [
    {
     "data": {
      "text/plain": [
       "dict_keys(['tomato', 'sugar', 'sponges', 'juice', 'foil'])"
      ]
     },
     "execution_count": 22,
     "metadata": {},
     "output_type": "execute_result"
    }
   ],
   "source": [
    "# Here, we see that the .keys() method returns a list.\n",
    "prices = {\"tomato\":0.87, \"sugar\":1.09, \"sponges\":0.29, \"juice\":1.89, \"foil\":1.29}\n",
    "\n",
    "prices.keys()"
   ]
  },
  {
   "cell_type": "code",
   "execution_count": null,
   "metadata": {},
   "outputs": [
    {
     "name": "stdout",
     "output_type": "stream",
     "text": [
      "['tomato', 'sugar', 'sponges', 'juice', 'foil']\n",
      "[0.87, 1.09, 0.29, 1.89, 1.29]\n"
     ]
    }
   ],
   "source": [
    "# Here, the keys and items are selected from a dictionary and added to a list.\n",
    "\n",
    "# initialise the empty lists\n",
    "code_list = []\n",
    "price_list = []\n",
    "\n",
    "for key in prices.keys():\n",
    "\n",
    "    # append the key itself to code_list\n",
    "    code_list.append(key)\n",
    "\n",
    "    # use the key to select the value and append that to price_list\n",
    "    price_list.append(prices[key])\n",
    "\n",
    "print(code_list)\n",
    "print(price_list)\n"
   ]
  },
  {
   "cell_type": "markdown",
   "metadata": {},
   "source": [
    "#### Method 2"
   ]
  },
  {
   "cell_type": "code",
   "execution_count": 24,
   "metadata": {},
   "outputs": [
    {
     "data": {
      "text/plain": [
       "dict_items([('tomato', 0.87), ('sugar', 1.09), ('sponges', 0.29), ('juice', 1.89), ('foil', 1.29)])"
      ]
     },
     "execution_count": 24,
     "metadata": {},
     "output_type": "execute_result"
    }
   ],
   "source": [
    "# Here, we can see that the .items() method returns a list of paired tuples.\n",
    "prices.items()"
   ]
  },
  {
   "cell_type": "code",
   "execution_count": 25,
   "metadata": {},
   "outputs": [
    {
     "name": "stdout",
     "output_type": "stream",
     "text": [
      "['tomato', 'sugar', 'sponges', 'juice', 'foil']\n",
      "[0.87, 1.09, 0.29, 1.89, 1.29]\n"
     ]
    }
   ],
   "source": [
    "# Here, we perform the same operation; however, we apply tuple unpacking on d.keys this time.\n",
    "\n",
    "code_list = []\n",
    "price_list = []\n",
    "key, value = ('tomato', 0.87)\n",
    "\n",
    "key, value = ('sugar', 1.09)\n",
    "\n",
    "for key, value in prices.items():\n",
    "    \n",
    "    # This line is the same as above.\n",
    "    code_list.append(key)\n",
    "    \n",
    "    # Here, we access the value as well and directly append that to price_list.\n",
    "    price_list.append(value)\n",
    "    \n",
    "print(code_list)\n",
    "print(price_list)"
   ]
  },
  {
   "cell_type": "markdown",
   "metadata": {},
   "source": [
    "Other operations can also be performed using tuple unpacking."
   ]
  },
  {
   "cell_type": "code",
   "execution_count": 29,
   "metadata": {},
   "outputs": [
    {
     "name": "stdout",
     "output_type": "stream",
     "text": [
      "Item Code: tomato\n",
      "Price: £0.87\n",
      "\n",
      "Item Code: sugar\n",
      "Price: £1.09\n",
      "\n",
      "Item Code: sponges\n",
      "Price: £0.29\n",
      "\n",
      "Item Code: juice\n",
      "Price: £1.89\n",
      "\n",
      "Item Code: foil\n",
      "Price: £1.29\n",
      "\n"
     ]
    }
   ],
   "source": [
    "prices = {\"tomato\":0.87, \"sugar\":1.09, \"sponges\":0.29, \"juice\":1.89, \"foil\":1.29}\n",
    "\n",
    "for key, value in prices.items():\n",
    "    print(\"Item Code: {}\\nPrice: £{}\\n\".format(key,value))"
   ]
  },
  {
   "cell_type": "markdown",
   "metadata": {},
   "source": [
    "### If statements within For loops\n",
    "- Control flow can be applied within For loops to perform varying operations depending on conditions."
   ]
  },
  {
   "cell_type": "markdown",
   "metadata": {},
   "source": [
    "For example,"
   ]
  },
  {
   "cell_type": "code",
   "execution_count": 11,
   "metadata": {},
   "outputs": [
    {
     "name": "stdout",
     "output_type": "stream",
     "text": [
      "This is the list of BMIs: [25.381468541909282, 25.390218522372525, 30.905885854261584, 23.938989774631512, 32.488628979857054, 18.80920625149619]\n",
      "\n",
      "You're in the overweight range. Your BMI is 25.4.\n",
      "You're in the overweight range. Your BMI is 25.4.\n",
      "You're in the obese range. Your BMI is 30.9.\n",
      "You're in the healthy weight range. Your BMI is 23.9.\n",
      "You're in the obese range. Your BMI is 32.5.\n",
      "You're in the healthy weight range. Your BMI is 18.8.\n"
     ]
    }
   ],
   "source": [
    "# We encode a list of heights and weights as a list of tuples.\n",
    "heights_weights = [(1.83, 85), (1.55, 61), (2.09, 135),\n",
    "                   (1.71, 70), (1.71, 95), (1.71, 55)]\n",
    "\n",
    "\n",
    "# We set bmis as an empty list to append the bmi values.\n",
    "bmis = []\n",
    "\n",
    "\n",
    "# We apply tuple unpacking to add bmi values to bmis.\n",
    "for height, weight in heights_weights:\n",
    "    bmis.append(weight / height ** 2)\n",
    "\n",
    "\n",
    "# we print bmis here to show the intermediate list (ordinarily, we would not do this).\n",
    "print(\"This is the list of BMIs: {}\\n\".format(bmis))\n",
    "\n",
    "\n",
    "# We loop over the bmi list to assign the values to the correct message.\n",
    "for bmi in bmis:\n",
    "    if bmi < 18.5:\n",
    "        print(\n",
    "            \"You're in the underweight range. Your BMI is {:3.1f}.\".format(bmi))\n",
    "    elif bmi <= 24.9:\n",
    "        print(\n",
    "            \"You're in the healthy weight range. Your BMI is {:3.1f}.\".format(bmi))\n",
    "    elif bmi <= 29.9:\n",
    "        print(\n",
    "            \"You're in the overweight range. Your BMI is {:3.1f}.\".format(bmi))\n",
    "    elif bmi <= 39.9:\n",
    "        print(\"You're in the obese range. Your BMI is {:3.1f}.\".format(bmi))\n"
   ]
  },
  {
   "cell_type": "markdown",
   "metadata": {},
   "source": [
    "- Here, we use the example of a BMI calculator to demonstrate the combined use of a few concepts.\n",
    "- For ease of calculation, heights are in metres and weights in kilograms.<br>\n",
    "\n",
    "Note that this can also be performed in a single For loop, as shown below:"
   ]
  },
  {
   "cell_type": "code",
   "execution_count": 3,
   "metadata": {},
   "outputs": [
    {
     "name": "stdout",
     "output_type": "stream",
     "text": [
      "You're in the overweight range. Your BMI is 25.4\n",
      "You're in the overweight range. Your BMI is 25.4\n",
      "You're in the obese range. Your BMI is 30.9\n",
      "You're in the healthy weight range. Your BMI is 23.9\n",
      "You're in the obese range. Your BMI is 32.5\n",
      "You're in the healthy weight range. Your BMI is 18.8\n"
     ]
    }
   ],
   "source": [
    "heights_weights = [(1.83, 85),(1.55, 61),(2.09, 135),(1.71, 70),(1.71, 95),(1.71, 55)]\n",
    "\n",
    "for height, weight in heights_weights:\n",
    "    \n",
    "    # Here, we calculate bmi within the For loop using the paired tuple values before passing the bmi value\n",
    "    # into the subsequent if statements.\n",
    "    bmi = weight/height**2\n",
    "\n",
    "    if bmi < 18.5:\n",
    "        print(\"You're in the underweight range. Your BMI is {:3.1f}\".format(bmi))\n",
    "    elif bmi <= 24.9:\n",
    "        print(\"You're in the healthy weight range. Your BMI is {:3.1f}\".format(bmi))\n",
    "    elif bmi <= 29.9:\n",
    "        print(\"You're in the overweight range. Your BMI is {:3.1f}\".format(bmi))\n",
    "    elif bmi <= 39.9:\n",
    "        print(\"You're in the obese range. Your BMI is {:3.1f}\".format(bmi))"
   ]
  },
  {
   "cell_type": "markdown",
   "metadata": {},
   "source": [
    "### The pass, break and continue keywords"
   ]
  },
  {
   "cell_type": "markdown",
   "metadata": {},
   "source": [
    "- The pass keyword serves as a placeholder in an empty loop. It means 'do nothing'.\n",
    "- The pass keyword is applied when an empty loop (or function) is present in our code. In other words, the pass keyword ensures that the rest of the code outside the empty loop runs.\n",
    "- The break keyword terminates the loop when triggered.\n",
    "- The continue keyword moves to the top of the nearest enclosing loop and skips onto the next iteration.\n",
    "- Generally, these keywords are used within a conditional to terminate a loop or skip an iteration when a condition is met."
   ]
  },
  {
   "cell_type": "markdown",
   "metadata": {},
   "source": [
    "For example,"
   ]
  },
  {
   "cell_type": "code",
   "execution_count": 33,
   "metadata": {},
   "outputs": [
    {
     "name": "stdout",
     "output_type": "stream",
     "text": [
      "10 5\n"
     ]
    }
   ],
   "source": [
    "# used for developing code. If left empty, Python throws an error.\n",
    "x, y = 10, 5\n",
    "\n",
    "for i in range(20):\n",
    "    ### To be completed\n",
    "    pass\n",
    "\n",
    "print(x,y)"
   ]
  },
  {
   "cell_type": "code",
   "execution_count": 14,
   "metadata": {},
   "outputs": [
    {
     "name": "stdout",
     "output_type": "stream",
     "text": [
      "I am not skipped because 1 is not divisible by 5\n",
      "I am not skipped because 2 is not divisible by 5\n",
      "I am not skipped because 4 is not divisible by 5\n",
      "I am not skipped because 5 is not divisible by 5\n",
      "I am not skipped because 7 is not divisible by 5\n",
      "I am not skipped because 8 is not divisible by 5\n",
      "I am not skipped because 10 is not divisible by 5\n",
      "I am not skipped because 11 is not divisible by 5\n"
     ]
    }
   ],
   "source": [
    "for i in range(12):\n",
    "    if i % 3 == 0:\n",
    "        continue\n",
    "    print(f'I am not skipped because {i} is not divisible by 5')"
   ]
  },
  {
   "cell_type": "code",
   "execution_count": 2,
   "metadata": {},
   "outputs": [
    {
     "name": "stdout",
     "output_type": "stream",
     "text": [
      "1\n",
      "2\n",
      "3\n",
      "4\n"
     ]
    }
   ],
   "source": [
    "for i in range(1,12):\n",
    "    if i % 5 == 0:\n",
    "        break\n",
    "    else:\n",
    "        print(i)"
   ]
  },
  {
   "cell_type": "markdown",
   "metadata": {},
   "source": [
    "### Zip and enumerate"
   ]
  },
  {
   "cell_type": "markdown",
   "metadata": {},
   "source": [
    "- The zip() function combines iterables into tuples; however, zip is an iterator that returns a zip object, which must then be iterated over or converted into a list to be viewed.\n",
    "- If the * argument is passed, it can unzip into tuples.\n",
    "- The enumerate() function returns an iterator of tuples, containing (index, item).\n",
    "- This is useful for operations on both indices and items, e.g. combining a For loop on an iterable with a For loop on range(len(iterable))."
   ]
  },
  {
   "cell_type": "markdown",
   "metadata": {},
   "source": [
    "For example,"
   ]
  },
  {
   "cell_type": "code",
   "execution_count": 49,
   "metadata": {},
   "outputs": [
    {
     "name": "stdout",
     "output_type": "stream",
     "text": [
      "[('tomato', 0.87), ('sugar', 1.09), ('sponges', 0.29), ('juice', 1.89), ('foil', 1.29)]\n"
     ]
    }
   ],
   "source": [
    "# zip() creates a zip object, which must be iterated or listed to be viewed.\n",
    "\n",
    "items = [\"tomato\", \"sugar\", \"sponges\", \"juice\", \"foil\"]\n",
    "prices = [0.87, 1.09, 0.29, 1.89, 1.29]\n",
    "\n",
    "items_and_prices = zip(items, prices)\n",
    "\n",
    "print(list(items_and_prices))\n"
   ]
  },
  {
   "cell_type": "code",
   "execution_count": 36,
   "metadata": {},
   "outputs": [
    {
     "name": "stdout",
     "output_type": "stream",
     "text": [
      "tomato 0.87\n",
      "sugar 1.09\n",
      "sponges 0.29\n",
      "juice 1.89\n",
      "foil 1.29\n"
     ]
    }
   ],
   "source": [
    "for item, price in zip(items, prices):\n",
    "    print(item, price)"
   ]
  },
  {
   "cell_type": "code",
   "execution_count": 55,
   "metadata": {},
   "outputs": [
    {
     "name": "stdout",
     "output_type": "stream",
     "text": [
      "('tomato', 'sugar', 'sponges', 'juice', 'foil')\n",
      "(0.87, 1.09, 0.29, 1.89, 1.29)\n"
     ]
    }
   ],
   "source": [
    "# We can unzip a zip object into tuples by passing * into the zip call.\n",
    "\n",
    "items_and_prices = zip(items, prices) # creating zip object\n",
    "\n",
    "tuple_of_items, tuple_of_prices = zip(*items_and_prices) # unzipping zip object\n",
    "\n",
    "print(tuple_of_items)\n",
    "print(tuple_of_prices)"
   ]
  },
  {
   "cell_type": "code",
   "execution_count": 49,
   "metadata": {},
   "outputs": [
    {
     "name": "stdout",
     "output_type": "stream",
     "text": [
      "The price of tomato is £0.87\n",
      "The price of sugar is £1.09\n",
      "The price of sponges is £0.29\n",
      "The price of juice is £1.89\n",
      "The price of foil is £1.29\n"
     ]
    }
   ],
   "source": [
    "# can iterate over and perform operations on a zip object\n",
    "\n",
    "for item, price in zip(items, prices):\n",
    "    print(\"The price of {} is £{}\".format(item, price))"
   ]
  },
  {
   "cell_type": "code",
   "execution_count": 48,
   "metadata": {},
   "outputs": [
    {
     "name": "stdout",
     "output_type": "stream",
     "text": [
      "0 hat\n",
      "1 scarf\n",
      "2 coat\n",
      "3 gloves\n"
     ]
    }
   ],
   "source": [
    "# enumerate() gives both the items and their indices that can be operated on\n",
    "\n",
    "items = [\"hat\", \"scarf\", \"coat\", \"gloves\"]\n",
    "\n",
    "\n",
    "for index, item in enumerate(items):\n",
    "    print(index, item)"
   ]
  },
  {
   "cell_type": "code",
   "execution_count": 59,
   "metadata": {},
   "outputs": [
    {
     "name": "stdout",
     "output_type": "stream",
     "text": [
      "((0, 'hat'), (1, 'scarf'), (2, 'coat'), (3, 'gloves'))\n"
     ]
    }
   ],
   "source": [
    "# enumerate objects can be shown in lists/tuples as well\n",
    "print(tuple(enumerate(items)))"
   ]
  },
  {
   "cell_type": "markdown",
   "metadata": {},
   "source": [
    "#### A note on the * operator"
   ]
  },
  {
   "cell_type": "markdown",
   "metadata": {},
   "source": [
    "Conventionally, the * operator performs multiplication. However, in this case, it is used to unzip a zip object. It is important to understand what actually occurs."
   ]
  },
  {
   "cell_type": "code",
   "execution_count": 1,
   "metadata": {},
   "outputs": [
    {
     "data": {
      "application/vnd.code.notebook.stdout": [
       "(1, 2) (3, 4)\n",
       "[(1, 2), (3, 4)]\n"
      ]
     },
     "output_type": "unknown"
    }
   ],
   "source": [
    "zipped = [(1, 2), (3, 4)]\n",
    "print(*zipped) # unpacks the zipped instance into its components\n",
    "zipped = [[(1, 2), (3, 4)]]\n",
    "print(*zipped)\n",
    "# think of * as an operator that removes the squared brackets"
   ]
  },
  {
   "cell_type": "markdown",
   "metadata": {},
   "source": [
    "Think of * as a container destructor."
   ]
  },
  {
   "cell_type": "code",
   "execution_count": 2,
   "metadata": {},
   "outputs": [
    {
     "data": {
      "text/plain": [
       "[1, 2, 3]"
      ]
     },
     "execution_count": 2,
     "metadata": {},
     "output_type": "execute_result"
    }
   ],
   "source": [
    "[*(1, 2, 3)] # In this case, it removes the brackets, and the result will be a list containing 1, 2 and 3."
   ]
  },
  {
   "cell_type": "markdown",
   "metadata": {},
   "source": [
    "The zip function can be used with as many arguments as possible. It will create tuples with the same number of items of arguments used. Thus, in this case, we have tuples of three items."
   ]
  },
  {
   "cell_type": "code",
   "execution_count": 1,
   "metadata": {},
   "outputs": [
    {
     "name": "stdout",
     "output_type": "stream",
     "text": [
      "[('tomato', 0.87, 1), ('sugar', 1.09, 2), ('sponges', 0.29, 3), ('juice', 1.89, 4), ('foil', 1.29, 5)]\n"
     ]
    }
   ],
   "source": [
    "items =  [\"tomato\", \"sugar\", \"sponges\", \"juice\", \"foil\"]\n",
    "prices = [0.87,      1.09,     0.29,      1.89,    1.29]\n",
    "item =   [1,            2,        3,         4,     5]\n",
    "\n",
    "\n",
    "print(list(zip(items, prices, item)))"
   ]
  },
  {
   "cell_type": "code",
   "execution_count": 4,
   "metadata": {},
   "outputs": [
    {
     "name": "stdout",
     "output_type": "stream",
     "text": [
      "[('tomato', 0.87), ('sugar', 1.09), ('sponges', 0.29), ('juice', 1.89), ('foil', 1.29)]\n",
      "[('tomato', 'sugar', 'sponges', 'juice', 'foil'), (0.87, 1.09, 0.29, 1.89, 1.29)]\n"
     ]
    }
   ],
   "source": [
    "items = [\"tomato\", \"sugar\", \"sponges\", \"juice\", \"foil\"]\n",
    "prices = [0.87,      1.09,     0.29,     1.89,    1.29]\n",
    "\n",
    "items_and_prices = zip(items, prices)  # We create a list of tuples.\n",
    "print(list(items_and_prices))\n",
    "\n",
    "items_and_prices = zip(items, prices)  # We create a list of tuples.\n",
    "# We reinstantiate it because once we use the list function into the zip object,\n",
    "# it changes its status.\n",
    "# We remove the square brackets, obtaining five tuples.\n",
    "print(list(zip(*items_and_prices)))\n",
    "# Subsequently, we zip all the five tuples, yielding tuples with five items each.\n"
   ]
  },
  {
   "cell_type": "markdown",
   "metadata": {},
   "source": [
    "Notably, dictionaries can also be unpacked following the same approach employed for zip files or iterables; the difference is that ** is used instead."
   ]
  },
  {
   "cell_type": "code",
   "execution_count": 5,
   "metadata": {},
   "outputs": [
    {
     "name": "stdout",
     "output_type": "stream",
     "text": [
      "{'A': 1, 'B': 2}\n",
      "{'A': 1, 'B': 2, 'C': 3, 'D': 4}\n"
     ]
    }
   ],
   "source": [
    "dict_1 = {'A': 1, 'B': 2}\n",
    "dict_2 = {'C': 3, 'D': 4}\n",
    "\n",
    "print({**dict_1})# ** removes the curly brackets, affording something like 'A' = 1 and 'B' = 2.\n",
    "\n",
    "# We can also unpack two dictionaries and merge them.\n",
    "\n",
    "print({**dict_1, **dict_2}) # We obtain something like 'A' = 1, 'B' = 2, 'C' = 3, 'D' = 4."
   ]
  },
  {
   "cell_type": "markdown",
   "metadata": {},
   "source": [
    "These operators can also be applied to functions, as will be demonstrated in the next lesson."
   ]
  },
  {
   "cell_type": "code",
   "execution_count": 6,
   "metadata": {},
   "outputs": [
    {
     "name": "stdout",
     "output_type": "stream",
     "text": [
      "(1, 2, 3)\n",
      "{'a': 4, 'b': 5, 'c': 6}\n"
     ]
    }
   ],
   "source": [
    "# * and ** can serve as the inputs for a function.\n",
    "\n",
    "def fun_dummy(*args, **kwargs): # args = arguments; kwargs = key word arguments\n",
    "    print(args) # args is now a tuple\n",
    "    print(kwargs) # kwargs is now a dictionary\n",
    "\n",
    "fun_dummy(1, 2, 3, a=4, b=5, c=6) \n",
    "# Anything without a keyword argument (by keyword we mean a, b, c) will be a tuple in the function.\n",
    "# Anything with a keyword argument will be included in a dictionary in the function."
   ]
  },
  {
   "cell_type": "markdown",
   "metadata": {},
   "source": [
    "### Nested For loops"
   ]
  },
  {
   "cell_type": "markdown",
   "metadata": {},
   "source": [
    "<p align=center><img src=images/nested_loop.png width=500></p>"
   ]
  },
  {
   "cell_type": "markdown",
   "metadata": {},
   "source": [
    "- For loops can be nested, i.e. used within other For loops.\n",
    "- The control flow in nested For loops is as follows: the outer loop performs all iterations of the inner loop on its first item before moving to the next iteration and repeating.\n",
    "- There is also a list comprehension equivalent of a nested For loop.\n",
    "- For loop nesting can be applied indefinitely (i.e. several levels deep); however, beyond a single nested structure, it becomes complicated to comprehend.\n",
    "- Nested For loops should be avoided where possible because the deeper the levels, the more inefficient the code.\n",
    "- However, there are some legitimate use cases for them, e.g. iteration over multiple lists."
   ]
  },
  {
   "cell_type": "code",
   "execution_count": 56,
   "metadata": {},
   "outputs": [
    {
     "name": "stdout",
     "output_type": "stream",
     "text": [
      "Outer Loop Operation: 1\n",
      "Inner Loop Operation: 1\n",
      "Inner Loop Operation: 2\n",
      "Inner Loop Operation: 3\n",
      "\n",
      "Outer Loop Operation: 2\n",
      "Inner Loop Operation: 1\n",
      "Inner Loop Operation: 2\n",
      "Inner Loop Operation: 3\n",
      "\n",
      "Outer Loop Operation: 3\n",
      "Inner Loop Operation: 1\n",
      "Inner Loop Operation: 2\n",
      "Inner Loop Operation: 3\n",
      "\n"
     ]
    }
   ],
   "source": [
    "# basic syntax: inner loop operations are performed for each outer loop operation\n",
    "for i in range(1,4):\n",
    "    print(\"Outer Loop Operation: {}\".format(i))\n",
    "    \n",
    "    for j in range(1,4):\n",
    "        print(\"Inner Loop Operation: {}\".format(j))\n",
    "    \n",
    "    print() # adds new line"
   ]
  },
  {
   "cell_type": "code",
   "execution_count": 54,
   "metadata": {},
   "outputs": [
    {
     "name": "stdout",
     "output_type": "stream",
     "text": [
      "[2, 4, 8, 3, 9, 27, 4, 16, 64]\n"
     ]
    }
   ],
   "source": [
    "# We perform operations using both counters.\n",
    "mylist = []\n",
    "\n",
    "for x in [2,3,4]:\n",
    "    for y in [1,2,3]:\n",
    "        mylist.append(x**y)\n",
    "\n",
    "print(mylist)"
   ]
  },
  {
   "cell_type": "code",
   "execution_count": 55,
   "metadata": {},
   "outputs": [
    {
     "data": {
      "text/plain": [
       "[2, 4, 8, 3, 9, 27, 4, 16, 64]"
      ]
     },
     "execution_count": 55,
     "metadata": {},
     "output_type": "execute_result"
    }
   ],
   "source": [
    "# list comprehension syntax: operation first, followed by both For statements\n",
    "[x**y for x in [2,3,4] for y in [1,2,3]]"
   ]
  },
  {
   "cell_type": "code",
   "execution_count": null,
   "metadata": {},
   "outputs": [],
   "source": []
  },
  {
   "attachments": {},
   "cell_type": "markdown",
   "metadata": {},
   "source": [
    "## Conclusion\n",
    ">Admittedly, this was a heavy lesson. Please always refer to this notebook when you require clarification or some forgotten information.\n",
    "\n",
    "At this point, you should have a fair understanding of\n",
    "\n",
    "- the concept of iterations, both definite and indefinite.\n",
    "- while and for loops.\n",
    "- the difference between iterating over items and iterating over indices.\n",
    "- how to use conditionals in a For loop.\n",
    "- tuple unpacking and its applications.\n",
    "- the uses of the pass, break and continue keywords.\n",
    "- how to use the zip() and enumerate() functions.\n",
    "\n",
    "\n",
    "\n",
    "## Further Reading\n",
    "- While statements: https://docs.python.org/3.8/reference/compound_stmts.html#while\n",
    "- Everything you need to know regarding For loops is contained in this notebook. However, you can refer to the book 'Learning Python' by Mark Lutz. Note that it is a reference material with over 1000 pages and a whole chapter on 'for' loops. A pdf is available here: https://cfm.ehu.es/ricardo/docs/python/Learning_Python.pdf"
   ]
  }
 ],
 "metadata": {
  "interpreter": {
   "hash": "569d6b7e9215e11aba41c6454007e5c1b78bad7df09dab765d8cf00362c40f03"
  },
  "kernelspec": {
   "display_name": "Python 3.9.1 64-bit ('base': conda)",
   "name": "python3"
  },
  "language_info": {
   "codemirror_mode": {
    "name": "ipython",
    "version": 3
   },
   "file_extension": ".py",
   "mimetype": "text/x-python",
   "name": "python",
   "nbconvert_exporter": "python",
   "pygments_lexer": "ipython3",
   "version": "3.8.11"
  }
 },
 "nbformat": 4,
 "nbformat_minor": 2
}
