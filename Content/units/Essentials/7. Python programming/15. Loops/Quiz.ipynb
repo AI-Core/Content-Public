{
 "cells": [
  {
   "attachments": {},
   "cell_type": "markdown",
   "metadata": {},
   "source": [
    "# Loops"
   ]
  },
  {
   "attachments": {},
   "cell_type": "markdown",
   "metadata": {},
   "source": [
    "## Which of the following statements about iteration and iterables is true?\n",
    "\n",
    "- Iterables are objects that can be looped over, while iteration is the process of accessing each element in an iterable ***\n",
    "- Iterables and iterators are the same thing\n",
    "- Iterators are objects that can be looped over, while iterables are the process of accessing each element in an iterator\n",
    "- Iteration and iterables are not used in Python"
   ]
  },
  {
   "attachments": {},
   "cell_type": "markdown",
   "metadata": {},
   "source": [
    "## Which of the following `while` loops will print the numbers `0` to `4`?\n",
    "\n",
    "\n",
    "- This code\n",
    "``` python\n",
    "i = 0\n",
    "while i < 4:\n",
    "    print(i)\n",
    "    i += 1\n",
    "```\n",
    "\n",
    "-  This code ***\n",
    "``` python\n",
    "i = 0\n",
    "while i <= 4:\n",
    "    print(i)\n",
    "    i += 1 \n",
    "```\n",
    "\n",
    "- This code\n",
    "``` python \n",
    "i = 0\n",
    "while i < 5:\n",
    "    print(i)\n",
    "    i -= 1\n",
    "```\n",
    "\n",
    "- This code\n",
    "``` python\n",
    "i = 0\n",
    "while i < 4:\n",
    "    i += 1\n",
    "    print(i)\n",
    "```"
   ]
  },
  {
   "attachments": {},
   "cell_type": "markdown",
   "metadata": {},
   "source": [
    "## Which of the following statements about indefinite iteration is true?\n",
    "\n",
    "- Indefinite iteration executes a block of code for a fixed number of times\n",
    "- Indefinite iteration is useful when the number of times the code will execute is unknown ***\n",
    "- Indefinite iteration can only be performed with the for loop\n",
    "- Indefinite iteration is not a feature of Python"
   ]
  },
  {
   "attachments": {},
   "cell_type": "markdown",
   "metadata": {},
   "source": [
    "## Which of the following `while` loops will NOT execute the `else` block?\n",
    "\n",
    "- This code\n",
    "``` python\n",
    "i = 0\n",
    "while i < 3:\n",
    "    print(i)\n",
    "    i += 1\n",
    "else:\n",
    "    print(\"Else block executed.\")\n",
    "```\n",
    "\n",
    "-  This code\n",
    "``` python\n",
    "i = 0\n",
    "while i < 0:\n",
    "    print(i)\n",
    "    i += 1\n",
    "else:\n",
    "    print(\"Else block executed.\")\n",
    "```\n",
    "\n",
    "- This code ***\n",
    "``` python\n",
    "i = 0\n",
    "while i < 3:\n",
    "    print(i)\n",
    "    i += 1\n",
    "    if i == 2:\n",
    "        break\n",
    "else:\n",
    "    print(\"Else block executed.\") \n",
    "```\n",
    "\n",
    "- This code\n",
    "``` python\n",
    "i = 0\n",
    "while i < 3:\n",
    "    print(i)\n",
    "    i += 1\n",
    "    if i == 2:\n",
    "        continue\n",
    "else:\n",
    "    print(\"Else block executed.\")\n",
    "```"
   ]
  },
  {
   "attachments": {},
   "cell_type": "markdown",
   "metadata": {},
   "source": [
    "## Which of the following statements about `break` and `continue` statements is true?\n",
    "\n",
    "- Both `break` and `continue` statements can only be used in `for` loops\n",
    "- The `break` statement is used to skip to the next iteration of a loop, while the `continue` statement is used to exit the loop entirely\n",
    "- The `break` statement is used to exit the loop entirely, while the `continue` statement is used to skip to the next iteration of a loop ***\n",
    "- `break` and `continue` statements are not used in Python\n"
   ]
  },
  {
   "attachments": {},
   "cell_type": "markdown",
   "metadata": {},
   "source": [
    "## Which of the following loop constructs is used for definite iteration?\n",
    "\n",
    "- `for` loop ***\n",
    "- `while` loop\n",
    "- `if` statement\n",
    "- `try-except` block"
   ]
  },
  {
   "attachments": {},
   "cell_type": "markdown",
   "metadata": {},
   "source": [
    "## Which of the following `for` loops will print the numbers `0` to `4`?\n",
    "\n",
    "-  This code\n",
    "``` python\n",
    "for i in range(4):\n",
    "    print(i)\n",
    "```\n",
    "\n",
    "- This code ***\n",
    "``` python\n",
    "for i in range(5):\n",
    "    print(i) \n",
    "```\n",
    "\n",
    "-  This code\n",
    "``` python\n",
    "for i in range(1, 5):\n",
    "    print(i)\n",
    "```\n",
    "\n",
    "- This code\n",
    "``` python\n",
    "for i in range(0, 5):\n",
    "    print(i+1)\n",
    "``` "
   ]
  },
  {
   "attachments": {},
   "cell_type": "markdown",
   "metadata": {},
   "source": [
    "## Which of the following statements about the `range()` function is true?\n",
    "\n",
    "- The `range()` function returns a list of integers starting from 0 by default\n",
    "- The `range()` function takes three arguments: `start`, `stop`, and `step` ***\n",
    "- The `range()` function can only be used with `for` loops\n",
    "- The `range()` function returns a `float` value"
   ]
  },
  {
   "attachments": {},
   "cell_type": "markdown",
   "metadata": {},
   "source": [
    "## Which of the following statements is true about the `list()` function when used with the `range()` function?\n",
    "\n",
    "- The `list()` function converts a range object to a `list` ***\n",
    "- The `list()` function generates a sequence of numbers\n",
    "- The `list()` function returns a `float` value\n",
    "- The `list()` function can only be used with `for` loops"
   ]
  },
  {
   "attachments": {},
   "cell_type": "markdown",
   "metadata": {},
   "source": [
    "## What does the `range(len(iterable))` function do?\n",
    "\n",
    "- It generates a sequence of numbers starting from 0 up to the length of the iterable ***\n",
    "- It generates a sequence of numbers starting from 1 up to the length of the iterable\n",
    "- It generates a sequence of numbers starting from the length of the iterable down to 0\n",
    "- It generates a sequence of even numbers up to the length of the iterable"
   ]
  },
  {
   "attachments": {},
   "cell_type": "markdown",
   "metadata": {},
   "source": [
    "## Which of the following code snippets will generate a list of indices for the elements in the `fruits` list?\n",
    "\n",
    "``` python \n",
    "fruits = ['apple', 'banana', 'orange']\n",
    "```\n",
    "\n",
    "- `list(range(fruits))` \n",
    "- `list(range(len(fruits)))` ***\n",
    "- `list(range(fruits.length()))`\n",
    "- `list(range(1, len(fruits)+1))`"
   ]
  },
  {
   "attachments": {},
   "cell_type": "markdown",
   "metadata": {},
   "source": [
    "## Consider the following dictionary `ages = {'Alice': 25, 'Bob': 30, 'Charlie': 35}`. Which of the following code snippets correctly applies a `for` loop to iterate over the dictionary keys and print each key along with its corresponding value?\n",
    "\n",
    "- This code\n",
    "``` python\n",
    "for key in ages:\n",
    "    print(key)\n",
    "```\n",
    "\n",
    "- This code\n",
    "``` python\n",
    "for value in ages.values():\n",
    "    print(value)\n",
    "```\n",
    "\n",
    "- This code\n",
    "``` python\n",
    "for key, value in ages:\n",
    "    print(key, value)\n",
    "```\n",
    "\n",
    "- This code ***\n",
    "``` python\n",
    "for key, value in ages.items():\n",
    "    print(key, value) \n",
    "```\n"
   ]
  },
  {
   "attachments": {},
   "cell_type": "markdown",
   "metadata": {},
   "source": [
    "## Consider the following code snippet:\n",
    "\n",
    "``` python\n",
    "names = ['Alice', 'Bob', 'Charlie']\n",
    "ages = [25, 30, 35]\n",
    "\n",
    "for name, age in zip(names, ages):\n",
    "    print(f\"{name} is {age} years old.\")\n",
    "```\n",
    "\n",
    "What is the output of the above code?\n",
    "\n",
    "- `('Alice', 25) is 0 years old. ('Bob', 30) is 1 years old. ('Charlie', 35) is 2 years old.`\n",
    "- `Alice is 25 years old. Bob is 30 years old. Charlie is 35 years old.` ***\n",
    "- `Alice is 0 years old. Bob is 1 years old. Charlie is 2 years old.`\n",
    "- `('Alice', 25) is years old. ('Bob', 30) is years old. ('Charlie', 35) is years old.`"
   ]
  },
  {
   "attachments": {},
   "cell_type": "markdown",
   "metadata": {},
   "source": [
    "## Consider the following code snippet:\n",
    "\n",
    "``` python\n",
    "names = ['Alice', 'Bob', 'Charlie']\n",
    "\n",
    "for i, name in enumerate(names):\n",
    "    print(f\"{i}: {name}\")\n",
    "```\n",
    "\n",
    "What is the output of the above code?\n",
    "\n",
    "- `Alice: 0 Bob: 1 Charlie: 2`\n",
    "- `0: Alice 1: Bob 2: Charlie` ***\n",
    "- `[0, 'Alice'] [1, 'Bob'] [2, 'Charlie']`\n",
    "- `0 1 2 Alice Bob Charlie`"
   ]
  }
 ],
 "metadata": {
  "kernelspec": {
   "display_name": "Python 3",
   "language": "python",
   "name": "python3"
  },
  "language_info": {
   "name": "python",
   "version": "3.9.2"
  },
  "orig_nbformat": 4
 },
 "nbformat": 4,
 "nbformat_minor": 2
}
