{
 "cells": [
  {
   "cell_type": "markdown",
   "source": [
    "# Solutions for For Loops"
   ],
   "metadata": {}
  },
  {
   "cell_type": "markdown",
   "source": [
    "## Exercise 1"
   ],
   "metadata": {}
  },
  {
   "cell_type": "markdown",
   "source": [
    "Write a for loop to count how many even and odd numbers between 1 and 100."
   ],
   "metadata": {}
  },
  {
   "cell_type": "code",
   "execution_count": 1,
   "source": [
    "count_odd = 0\r\n",
    "count_even = 0\r\n",
    "\r\n",
    "for x in range(101):\r\n",
    "        if x%2 == 0:\r\n",
    "             count_even += 1\r\n",
    "        else:\r\n",
    "             count_odd += 1\r\n",
    "\r\n",
    "print(\"Number of Even Numbers: {}\".format(count_even))\r\n",
    "print(\"Number of Odd Numbers: {}\".format(count_odd))"
   ],
   "outputs": [
    {
     "output_type": "stream",
     "name": "stdout",
     "text": [
      "Number of Even Numbers: 51\n",
      "Number of Odd Numbers: 50\n"
     ]
    }
   ],
   "metadata": {}
  },
  {
   "cell_type": "markdown",
   "source": [
    "## Exercise 2"
   ],
   "metadata": {}
  },
  {
   "cell_type": "markdown",
   "source": [
    "Using the names dictionary and order_list shown below, write a program that fits the following conditions:\n",
    "- It should produce an order by adding items to receipt from order_list sequentially.\n",
    "- It should Print \"Current Total: £x\" with each iteration\n",
    "- If the order value exceeds the budget value, it should stop adding items and print \"Budget Exceeded!\".\n",
    "- If not, each time it adds items, it should: \n",
    "    - Print \"Adding *full name of item* (quantity)\".\n",
    "    - Subtract the price from budget.\n",
    "    - Add the price to running_total.\n",
    "- It should print out running_total, order and budget formatted into print statements (done for you)."
   ],
   "metadata": {}
  },
  {
   "cell_type": "code",
   "execution_count": 12,
   "source": [
    "order_list = [(\"tom\", 0.87, 4), \r\n",
    "         (\"sug\", 1.09, 3), \r\n",
    "         (\"ws\", 0.29, 4), \r\n",
    "         (\"juc\", 1.89, 1), \r\n",
    "         (\"fo\", 1.29, 2)]\r\n",
    "\r\n",
    "names = {\"tom\":\"Tomatoes\", \r\n",
    "         \"sug\":\"Sugar\", \r\n",
    "         \"ws\":\"Washing Sponges\", \r\n",
    "         \"juc\":\"Juice\", \r\n",
    "         \"fo\":\"Foil\"}\r\n",
    "\r\n",
    "budget = 10.00\r\n",
    "running_total = 0\r\n",
    "receipt = []\r\n",
    "\r\n",
    "for item, price, quantity in order_list:\r\n",
    "    \r\n",
    "    print(\"Current Total: £{:5.2f}\".format(running_total))\r\n",
    "    \r\n",
    "    if price > budget:\r\n",
    "        print(\"Budget Exceeded!\\n\")\r\n",
    "        break\r\n",
    "    else:\r\n",
    "        print(\"Adding {} ({})\\n\".format(names[item], quantity))\r\n",
    "        receipt.append((names[item],quantity))\r\n",
    "        budget -= price*quantity\r\n",
    "        running_total += price*quantity\r\n",
    "        \r\n",
    "print(\"The total for the order is: £{:5.2f}\".format(running_total))\r\n",
    "print(\"The items in the order are: {}\".format(receipt))\r\n",
    "print(\"The remaining budget is: £{:5.2f}\".format(budget))"
   ],
   "outputs": [
    {
     "output_type": "stream",
     "name": "stdout",
     "text": [
      "Current Total: £ 0.00\n",
      "Adding Tomatoes (4)\n",
      "\n",
      "Current Total: £ 3.48\n",
      "Adding Sugar (3)\n",
      "\n",
      "Current Total: £ 6.75\n",
      "Adding Washing Sponges (4)\n",
      "\n",
      "Current Total: £ 7.91\n",
      "Adding Juice (1)\n",
      "\n",
      "Current Total: £ 9.80\n",
      "Budget Exceeded!\n",
      "\n",
      "The total for the order is: £ 9.80\n",
      "The items in the order are: [('Tomatoes', 4), ('Sugar', 3), ('Washing Sponges', 4), ('Juice', 1)]\n",
      "The remaining budget is: £ 0.20\n"
     ]
    }
   ],
   "metadata": {}
  },
  {
   "cell_type": "markdown",
   "source": [
    "## Exercise 3"
   ],
   "metadata": {}
  },
  {
   "cell_type": "markdown",
   "source": [
    "- Define a function called make_even_squares that takes in an arbitrary number of arguments, squares even arguments, and adds 1 to and squares odd arguments, returning the outcome as a list.\n",
    "- Test on my_list"
   ],
   "metadata": {}
  },
  {
   "cell_type": "code",
   "execution_count": 1,
   "source": [
    "my_list = [34,52,71,39,22,73,92]\n",
    "\n",
    "[x**2 if x%2 == 0 else (x+1)**2 for x in my_list]"
   ],
   "outputs": [
    {
     "output_type": "execute_result",
     "data": {
      "text/plain": [
       "[1156, 2704, 5184, 1600, 484, 5476, 8464]"
      ]
     },
     "metadata": {},
     "execution_count": 1
    }
   ],
   "metadata": {}
  },
  {
   "cell_type": "markdown",
   "source": [
    "## Exercise 4"
   ],
   "metadata": {}
  },
  {
   "cell_type": "markdown",
   "source": [
    "Filter shop_dict using list comprehension to find only items with values of over 1.00\n",
    "\n",
    "Assign them to a list called filtered_shop by their full names, not their codes, using names_dict."
   ],
   "metadata": {}
  },
  {
   "cell_type": "code",
   "execution_count": 3,
   "source": [
    "shop_dict = {\"tom\":0.87,\n",
    "        \"sug\":1.09,\n",
    "        \"ws\":0.29,\n",
    "        \"cc\":1.89,\n",
    "        \"ccz\":1.29}\n",
    "\n",
    "names_dict = {\"tom\":\"Tomatoes\", \n",
    "         \"sug\":\"Sugar\", \n",
    "         \"ws\":\"Washing Sponges\", \n",
    "         \"cc\":\"Coca-Cola\", \n",
    "         \"ccz\":\"Coca-Cola Zero\"}\n",
    "\n",
    "\n",
    "filtered_shop = [names_dict[key] for key,value in shop_dict.items() if value > 1.0]\n",
    "print(filtered_shop)"
   ],
   "outputs": [
    {
     "output_type": "stream",
     "name": "stdout",
     "text": [
      "['Sugar', 'Coca-Cola', 'Coca-Cola Zero']\n"
     ]
    }
   ],
   "metadata": {}
  },
  {
   "cell_type": "markdown",
   "source": [
    "## Exercise 5"
   ],
   "metadata": {}
  },
  {
   "cell_type": "markdown",
   "source": [
    "Write a program to produce the following pattern.\n",
    "\n",
    "CLUE: Use nested for loops, using one nested loop to increase in size and another to decrease."
   ],
   "metadata": {}
  },
  {
   "cell_type": "code",
   "execution_count": 11,
   "source": [
    "n=5\n",
    "\n",
    "for i in range(n):\n",
    "    for j in range(i):\n",
    "        print ('* ', end=\"\")\n",
    "    print('')\n",
    "\n",
    "for i in range(n,0,-1):\n",
    "    for j in range(i):\n",
    "        print('* ', end=\"\")\n",
    "    print('')"
   ],
   "outputs": [
    {
     "output_type": "stream",
     "name": "stdout",
     "text": [
      "\n",
      "* \n",
      "* * \n",
      "* * * \n",
      "* * * * \n",
      "* * * * * \n",
      "* * * * \n",
      "* * * \n",
      "* * \n",
      "* \n"
     ]
    }
   ],
   "metadata": {}
  },
  {
   "cell_type": "markdown",
   "source": [
    "## Bonus Question"
   ],
   "metadata": {}
  },
  {
   "cell_type": "markdown",
   "source": [
    "Write a program to check whether each number from 10 to 50 is prime\n",
    "\n",
    "Your answer should take the following format:\n",
    "- \"x IS a prime number.\" for primes\n",
    "- \"x IS NOT a prime number because y is a factor of x.\" for non-primes\n",
    "\n",
    "CLUE: This is possible using a while loop nested in a for loop or using a nested for loop; if you can, try to find both."
   ],
   "metadata": {}
  },
  {
   "cell_type": "code",
   "execution_count": 8,
   "source": [
    "# iterate through the numbers\n",
    "for x in range(10,51):\n",
    "    \n",
    "    # start the counter at 2, the first prime number\n",
    "    counter = 2\n",
    "    \n",
    "    # assume a number is prime until you find a multiple of it\n",
    "    is_prime = True\n",
    "    \n",
    "    # iterate through the numbers up to the number in question\n",
    "    while counter < x:\n",
    "        \n",
    "        # if you find a multiple of the number\n",
    "        if x%counter == 0:\n",
    "            \n",
    "            # set is_prime to false\n",
    "            is_prime = False\n",
    "            \n",
    "            # terminate the while loop\n",
    "            break\n",
    "        \n",
    "        # otherwise continue iterating through potential multiples\n",
    "        counter += 1\n",
    "    \n",
    "    # if the number is prime, print the first statement\n",
    "    if is_prime: \n",
    "        print(\"{} IS a prime number\".format(x))\n",
    "    \n",
    "    # if the number isn't prime, print the second statement: counter stops at the first multiple found\n",
    "    else:\n",
    "        print(\"{} is NOT a prime number, because {} is a factor of {}\"\n",
    "        .format(x,counter,x))"
   ],
   "outputs": [
    {
     "output_type": "stream",
     "name": "stdout",
     "text": [
      "10 is NOT a prime number, because 2 is a factor of 10\n",
      "11 IS a prime number\n",
      "12 is NOT a prime number, because 2 is a factor of 12\n",
      "13 IS a prime number\n",
      "14 is NOT a prime number, because 2 is a factor of 14\n",
      "15 is NOT a prime number, because 3 is a factor of 15\n",
      "16 is NOT a prime number, because 2 is a factor of 16\n",
      "17 IS a prime number\n",
      "18 is NOT a prime number, because 2 is a factor of 18\n",
      "19 IS a prime number\n",
      "20 is NOT a prime number, because 2 is a factor of 20\n",
      "21 is NOT a prime number, because 3 is a factor of 21\n",
      "22 is NOT a prime number, because 2 is a factor of 22\n",
      "23 IS a prime number\n",
      "24 is NOT a prime number, because 2 is a factor of 24\n",
      "25 is NOT a prime number, because 5 is a factor of 25\n",
      "26 is NOT a prime number, because 2 is a factor of 26\n",
      "27 is NOT a prime number, because 3 is a factor of 27\n",
      "28 is NOT a prime number, because 2 is a factor of 28\n",
      "29 IS a prime number\n",
      "30 is NOT a prime number, because 2 is a factor of 30\n",
      "31 IS a prime number\n",
      "32 is NOT a prime number, because 2 is a factor of 32\n",
      "33 is NOT a prime number, because 3 is a factor of 33\n",
      "34 is NOT a prime number, because 2 is a factor of 34\n",
      "35 is NOT a prime number, because 5 is a factor of 35\n",
      "36 is NOT a prime number, because 2 is a factor of 36\n",
      "37 IS a prime number\n",
      "38 is NOT a prime number, because 2 is a factor of 38\n",
      "39 is NOT a prime number, because 3 is a factor of 39\n",
      "40 is NOT a prime number, because 2 is a factor of 40\n",
      "41 IS a prime number\n",
      "42 is NOT a prime number, because 2 is a factor of 42\n",
      "43 IS a prime number\n",
      "44 is NOT a prime number, because 2 is a factor of 44\n",
      "45 is NOT a prime number, because 3 is a factor of 45\n",
      "46 is NOT a prime number, because 2 is a factor of 46\n",
      "47 IS a prime number\n",
      "48 is NOT a prime number, because 2 is a factor of 48\n",
      "49 is NOT a prime number, because 7 is a factor of 49\n",
      "50 is NOT a prime number, because 2 is a factor of 50\n"
     ]
    }
   ],
   "metadata": {}
  },
  {
   "cell_type": "code",
   "execution_count": 7,
   "source": [
    "# iterate through numbers\n",
    "for num in range(10,51):\n",
    "\n",
    "# look for factors from 2 to the number itself\n",
    "    for i in range(2, num):\n",
    "\n",
    "# number not prime if modulo is 0\n",
    "        if (num % i) == 0:\n",
    "        \n",
    "            # break out of inner loop and print not prime statement as i stops at correct position\n",
    "            print(\"{} is NOT a prime number, because {} is a factor of {}\".format(num, i, num))\n",
    "            break\n",
    "\n",
    "# keep checking all factors exhausted --> prime\n",
    "        if i == num -1:    \n",
    "            print(\"{} IS a prime number\".format(num))"
   ],
   "outputs": [
    {
     "output_type": "stream",
     "name": "stdout",
     "text": [
      "10 is NOT a prime number, because 2 is a factor of 10\n",
      "11 IS a prime number\n",
      "12 is NOT a prime number, because 2 is a factor of 12\n",
      "13 IS a prime number\n",
      "14 is NOT a prime number, because 2 is a factor of 14\n",
      "15 is NOT a prime number, because 3 is a factor of 15\n",
      "16 is NOT a prime number, because 2 is a factor of 16\n",
      "17 IS a prime number\n",
      "18 is NOT a prime number, because 2 is a factor of 18\n",
      "19 IS a prime number\n",
      "20 is NOT a prime number, because 2 is a factor of 20\n",
      "21 is NOT a prime number, because 3 is a factor of 21\n",
      "22 is NOT a prime number, because 2 is a factor of 22\n",
      "23 IS a prime number\n",
      "24 is NOT a prime number, because 2 is a factor of 24\n",
      "25 is NOT a prime number, because 5 is a factor of 25\n",
      "26 is NOT a prime number, because 2 is a factor of 26\n",
      "27 is NOT a prime number, because 3 is a factor of 27\n",
      "28 is NOT a prime number, because 2 is a factor of 28\n",
      "29 IS a prime number\n",
      "30 is NOT a prime number, because 2 is a factor of 30\n",
      "31 IS a prime number\n",
      "32 is NOT a prime number, because 2 is a factor of 32\n",
      "33 is NOT a prime number, because 3 is a factor of 33\n",
      "34 is NOT a prime number, because 2 is a factor of 34\n",
      "35 is NOT a prime number, because 5 is a factor of 35\n",
      "36 is NOT a prime number, because 2 is a factor of 36\n",
      "37 IS a prime number\n",
      "38 is NOT a prime number, because 2 is a factor of 38\n",
      "39 is NOT a prime number, because 3 is a factor of 39\n",
      "40 is NOT a prime number, because 2 is a factor of 40\n",
      "41 IS a prime number\n",
      "42 is NOT a prime number, because 2 is a factor of 42\n",
      "43 IS a prime number\n",
      "44 is NOT a prime number, because 2 is a factor of 44\n",
      "45 is NOT a prime number, because 3 is a factor of 45\n",
      "46 is NOT a prime number, because 2 is a factor of 46\n",
      "47 IS a prime number\n",
      "48 is NOT a prime number, because 2 is a factor of 48\n",
      "49 is NOT a prime number, because 7 is a factor of 49\n",
      "50 is NOT a prime number, because 2 is a factor of 50\n"
     ]
    }
   ],
   "metadata": {}
  },
  {
   "cell_type": "code",
   "execution_count": null,
   "source": [],
   "outputs": [],
   "metadata": {}
  }
 ],
 "metadata": {
  "kernelspec": {
   "display_name": "Python 3",
   "language": "python",
   "name": "python3"
  },
  "language_info": {
   "codemirror_mode": {
    "name": "ipython",
    "version": 3
   },
   "file_extension": ".py",
   "mimetype": "text/x-python",
   "name": "python",
   "nbconvert_exporter": "python",
   "pygments_lexer": "ipython3",
   "version": "3.7.6"
  }
 },
 "nbformat": 4,
 "nbformat_minor": 4
}