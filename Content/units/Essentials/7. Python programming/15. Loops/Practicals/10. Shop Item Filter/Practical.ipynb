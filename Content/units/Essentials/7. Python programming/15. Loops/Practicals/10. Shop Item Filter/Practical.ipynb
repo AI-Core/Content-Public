{
 "cells": [
  {
   "cell_type": "markdown",
   "id": "1ba35424",
   "metadata": {},
   "source": [
    "# Shop Item Filter"
   ]
  },
  {
   "cell_type": "markdown",
   "id": "290aee1d",
   "metadata": {},
   "source": [
    "#### 1. Filter `shop_dict` using list comprehension to find only items with values of over 1.00"
   ]
  },
  {
   "cell_type": "code",
   "execution_count": null,
   "id": "d4c0ce1a",
   "metadata": {},
   "outputs": [],
   "source": []
  },
  {
   "cell_type": "markdown",
   "id": "98ca9b14",
   "metadata": {},
   "source": [
    "#### 2. Assign them to a list called `filtered_shop` by their full names, not their codes, using `names_dict`."
   ]
  },
  {
   "cell_type": "code",
   "execution_count": null,
   "id": "4480619a",
   "metadata": {},
   "outputs": [],
   "source": []
  },
  {
   "cell_type": "markdown",
   "id": "de260886",
   "metadata": {},
   "source": [
    "#### `shop_dict = {\"tom\":0.87, \"sug\":1.09, \"ws\":0.29, \"cc\":1.89, \"ccz\":1.29}`"
   ]
  },
  {
   "cell_type": "code",
   "execution_count": null,
   "id": "e22c33c5",
   "metadata": {},
   "outputs": [],
   "source": []
  },
  {
   "cell_type": "markdown",
   "id": "828b818b",
   "metadata": {},
   "source": [
    "#### `names_dict = {\"tom\":\"Tomatoes\", \"sug\":\"Sugar\", \"ws\":\"Washing Sponges\", \"cc\":\"Coca-Cola\", \"ccz\":\"Coca-Cola Zero\"}`"
   ]
  },
  {
   "cell_type": "code",
   "execution_count": null,
   "id": "f0bb62ce",
   "metadata": {},
   "outputs": [],
   "source": []
  }
 ],
 "metadata": {},
 "nbformat": 4,
 "nbformat_minor": 5
}
