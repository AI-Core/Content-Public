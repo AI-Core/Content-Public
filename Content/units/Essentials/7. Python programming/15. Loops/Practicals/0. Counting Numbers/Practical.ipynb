{
 "cells": [
  {
   "cell_type": "markdown",
   "id": "e830bc05",
   "metadata": {},
   "source": [
    "# Counting Numbers"
   ]
  },
  {
   "attachments": {},
   "cell_type": "markdown",
   "id": "99496996",
   "metadata": {},
   "source": [
    "Write a program that prints the numbers from 1 to 50.\n",
    "\n",
    "#### 1. Using a `while` loop to do so"
   ]
  },
  {
   "cell_type": "code",
   "execution_count": null,
   "id": "d738a313",
   "metadata": {},
   "outputs": [],
   "source": []
  },
  {
   "attachments": {},
   "cell_type": "markdown",
   "id": "88e707ba",
   "metadata": {},
   "source": [
    "#### 2. Using a `for` loop to do so"
   ]
  },
  {
   "cell_type": "code",
   "execution_count": null,
   "id": "20767448",
   "metadata": {},
   "outputs": [],
   "source": []
  }
 ],
 "metadata": {
  "language_info": {
   "name": "python"
  }
 },
 "nbformat": 4,
 "nbformat_minor": 5
}
