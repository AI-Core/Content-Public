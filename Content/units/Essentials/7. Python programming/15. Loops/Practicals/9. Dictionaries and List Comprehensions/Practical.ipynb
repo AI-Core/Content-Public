{
 "cells": [
  {
   "cell_type": "markdown",
   "id": "bdef2a2d",
   "metadata": {},
   "source": [
    "# Dictionaries and List Comprehensions"
   ]
  },
  {
   "attachments": {},
   "cell_type": "markdown",
   "id": "d494699e",
   "metadata": {},
   "source": [
    "#### 1. Create two dictionaries named dict_1 and dict_2, each one with 2 keys\n",
    "- `name`: a string with your name\n",
    "- `skills`: a list of strings (at least 3) with your skills\n"
   ]
  },
  {
   "cell_type": "code",
   "execution_count": null,
   "id": "a0eba8c7",
   "metadata": {},
   "outputs": [],
   "source": []
  },
  {
   "cell_type": "markdown",
   "id": "90cd8391",
   "metadata": {},
   "source": [
    "#### 2. Put both of them in a list"
   ]
  },
  {
   "cell_type": "code",
   "execution_count": null,
   "id": "a519d58f",
   "metadata": {},
   "outputs": [],
   "source": []
  },
  {
   "attachments": {},
   "cell_type": "markdown",
   "id": "742c57e6",
   "metadata": {},
   "source": [
    "#### 3. Now index that list of dictionaries to find the last letter of the first skill of the last dictionary\n",
    "\n",
    "So, if you have a list of dictionaries like this:\n",
    "\n",
    "```python\n",
    "list_of_dictionaries = [\n",
    "    {\n",
    "        'name': 'John',\n",
    "        'skills': ['Python', 'JavaScript', 'HTML']\n",
    "    },\n",
    "    {\n",
    "        'name': 'Jane',\n",
    "        'skills': ['Python', 'JavaScript', 'CSS']\n",
    "    }\n",
    "]\n",
    "```\n",
    "\n",
    "The last letter of the first skill of the last dictionary would be `S`"
   ]
  },
  {
   "cell_type": "code",
   "execution_count": null,
   "id": "53e105d2",
   "metadata": {},
   "outputs": [],
   "source": []
  },
  {
   "attachments": {},
   "cell_type": "markdown",
   "id": "6d8cd9fb",
   "metadata": {},
   "source": [
    "#### 4. Create a list comprehension which maps that list to a list of the length of names\n",
    "\n",
    "So, if you have a list of dictionaries like this:\n",
    "\n",
    "```python\n",
    "list_of_dictionaries = [\n",
    "    {\n",
    "        'name': 'John',\n",
    "        'skills': ['Python', 'JavaScript', 'HTML']\n",
    "    },\n",
    "    {\n",
    "        'name': 'Mayer',\n",
    "        'skills': ['Python', 'JavaScript', 'CSS']\n",
    "    }\n",
    "]\n",
    "```\n",
    "\n",
    "The result would be `[4, 5]` (because the length of `John` is 4 and the length of `Mayer` is 5)"
   ]
  },
  {
   "cell_type": "code",
   "execution_count": null,
   "id": "d392e5ab",
   "metadata": {},
   "outputs": [],
   "source": []
  },
  {
   "attachments": {},
   "cell_type": "markdown",
   "id": "b58bf91c",
   "metadata": {},
   "source": [
    "#### 5. Add that list together to get the total number of characters in all of the names\n",
    "\n",
    "So, if you have a list of dictionaries like this:\n",
    "\n",
    "```python\n",
    "list_of_dictionaries = [\n",
    "    {\n",
    "        'name': 'John',\n",
    "        'skills': ['Python', 'JavaScript', 'HTML']\n",
    "    },\n",
    "    {\n",
    "        'name': 'Mayer',\n",
    "        'skills': ['Python', 'JavaScript', 'CSS']\n",
    "    }\n",
    "]\n",
    "```\n",
    "\n",
    "The result would be `9` (because the length of `John` is 4 and the length of `Mayer` is 5, so 4 + 5 = 9)"
   ]
  },
  {
   "cell_type": "code",
   "execution_count": null,
   "id": "4409b00d",
   "metadata": {},
   "outputs": [],
   "source": []
  }
 ],
 "metadata": {
  "language_info": {
   "name": "python"
  }
 },
 "nbformat": 4,
 "nbformat_minor": 5
}
