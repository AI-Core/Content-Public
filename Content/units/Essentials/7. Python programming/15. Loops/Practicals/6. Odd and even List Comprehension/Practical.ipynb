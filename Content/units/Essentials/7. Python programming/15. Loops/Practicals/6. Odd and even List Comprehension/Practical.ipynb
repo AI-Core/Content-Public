{
 "cells": [
  {
   "cell_type": "markdown",
   "id": "27035db0",
   "metadata": {},
   "source": [
    "# Odd and even List Comprehension"
   ]
  },
  {
   "cell_type": "markdown",
   "id": "8bc77b02",
   "metadata": {},
   "source": [
    "#### 1. Create a list comprehension that squares even arguments, and squares odd arguments after adding one to them"
   ]
  },
  {
   "cell_type": "code",
   "execution_count": null,
   "id": "7090583e",
   "metadata": {},
   "outputs": [],
   "source": []
  },
  {
   "attachments": {},
   "cell_type": "markdown",
   "id": "a84de834",
   "metadata": {},
   "source": [
    "#### 2. Test it on the following list\n",
    "`my_list = [1, 5, 8, 6, 21]`"
   ]
  },
  {
   "cell_type": "code",
   "execution_count": null,
   "id": "8d12a828",
   "metadata": {},
   "outputs": [],
   "source": []
  },
  {
   "attachments": {},
   "cell_type": "markdown",
   "id": "95aac6b4",
   "metadata": {},
   "source": [
    "The output should be:\n",
    "\n",
    "`[4, 36, 64, 36, 484]`"
   ]
  },
  {
   "cell_type": "code",
   "execution_count": null,
   "id": "0bdfac47",
   "metadata": {},
   "outputs": [],
   "source": []
  },
  {
   "cell_type": "code",
   "execution_count": null,
   "id": "d2d13fa1",
   "metadata": {},
   "outputs": [],
   "source": []
  }
 ],
 "metadata": {
  "language_info": {
   "name": "python"
  }
 },
 "nbformat": 4,
 "nbformat_minor": 5
}
