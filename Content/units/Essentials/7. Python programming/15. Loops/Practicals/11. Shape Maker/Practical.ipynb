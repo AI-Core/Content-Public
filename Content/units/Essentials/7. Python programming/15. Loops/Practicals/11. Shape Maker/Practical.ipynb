{
 "cells": [
  {
   "cell_type": "markdown",
   "id": "88ce8dbf",
   "metadata": {},
   "source": [
    "# Shape Maker"
   ]
  },
  {
   "attachments": {},
   "cell_type": "markdown",
   "id": "1ab9b1d7",
   "metadata": {},
   "source": [
    "#### 1. Write a program to produce the following pattern.\n",
    "\n",
    "Here's a clue: Use nested for loops, using one nested loop to increase in size and another to decrease."
   ]
  },
  {
   "attachments": {},
   "cell_type": "markdown",
   "id": "370f306a",
   "metadata": {},
   "source": [
    "```python\n",
    "?\n",
    "? ?\n",
    "? ? ?\n",
    "? ? ? ?\n",
    "? ? ? ? ?\n",
    "? ? ? ?\n",
    "? ? ?\n",
    "? ?\n",
    "?"
   ]
  },
  {
   "attachments": {},
   "cell_type": "markdown",
   "id": "27d73a58",
   "metadata": {},
   "source": [
    "#### 2. Start with n=5 where n is the maximum number of stars in a row.\n",
    "\n",
    "As you keep progressing, you can change the value of n to see how the pattern changes."
   ]
  },
  {
   "cell_type": "code",
   "execution_count": null,
   "id": "420f13cb",
   "metadata": {},
   "outputs": [],
   "source": []
  }
 ],
 "metadata": {
  "kernelspec": {
   "display_name": "content-projects_new",
   "language": "python",
   "name": "python3"
  },
  "language_info": {
   "codemirror_mode": {
    "name": "ipython",
    "version": 3
   },
   "file_extension": ".py",
   "mimetype": "text/x-python",
   "name": "python",
   "nbconvert_exporter": "python",
   "pygments_lexer": "ipython3",
   "version": "3.10.8"
  },
  "vscode": {
   "interpreter": {
    "hash": "4b961f8166aad6ccb4cf65d0f9c742ef9c6c23ffe83ad932438cd83ed96aebaf"
   }
  }
 },
 "nbformat": 4,
 "nbformat_minor": 5
}
