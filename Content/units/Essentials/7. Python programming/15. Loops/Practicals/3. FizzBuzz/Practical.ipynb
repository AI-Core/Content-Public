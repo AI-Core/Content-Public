{
 "cells": [
  {
   "cell_type": "markdown",
   "id": "2a883c3a",
   "metadata": {},
   "source": [
    "# FizzBuzz"
   ]
  },
  {
   "attachments": {},
   "cell_type": "markdown",
   "id": "581a0998",
   "metadata": {},
   "source": [
    "#### Print all the numbers from 1 to 100 but you need to add the following rules:\n",
    "\n",
    "* If the number is divisible by 3, print \"Fizz\" instead of the number\n",
    "* If the number is divisible by 5, print \"Buzz\" instead of the number\n",
    "* If the number is divisible by 3 AND 5, print \"FizzBuzz\" instead of the number\n",
    "\n",
    "\n",
    "Be careful with the order of the conditions. Remember that the condition that is first met will be the one that will run, and the rest will be ignored."
   ]
  },
  {
   "cell_type": "code",
   "execution_count": null,
   "id": "37521151",
   "metadata": {},
   "outputs": [],
   "source": []
  },
  {
   "attachments": {},
   "cell_type": "markdown",
   "id": "da4030a7",
   "metadata": {},
   "source": [
    "The output should look like this:\n",
    "\n",
    "```\n",
    "1\n",
    "2\n",
    "Fizz\n",
    "4\n",
    "Buzz\n",
    "Fizz\n",
    "7\n",
    "8\n",
    "Fizz\n",
    "Buzz\n",
    "11\n",
    "Fizz\n",
    "13\n",
    "14\n",
    "FizzBuzz\n",
    "16\n",
    "17\n",
    "...\n",
    "```"
   ]
  }
 ],
 "metadata": {
  "kernelspec": {
   "display_name": "content-projects_new",
   "language": "python",
   "name": "python3"
  },
  "language_info": {
   "name": "python",
   "version": "3.10.8 (main, Nov 24 2022, 14:13:03) [GCC 11.2.0]"
  },
  "vscode": {
   "interpreter": {
    "hash": "4b961f8166aad6ccb4cf65d0f9c742ef9c6c23ffe83ad932438cd83ed96aebaf"
   }
  }
 },
 "nbformat": 4,
 "nbformat_minor": 5
}
