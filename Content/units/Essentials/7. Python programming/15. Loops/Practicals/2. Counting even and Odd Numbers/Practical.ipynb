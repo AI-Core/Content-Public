{
 "cells": [
  {
   "cell_type": "markdown",
   "id": "8138a717",
   "metadata": {},
   "source": [
    "# Counting even and Odd Numbers"
   ]
  },
  {
   "attachments": {},
   "cell_type": "markdown",
   "id": "8a2907ce",
   "metadata": {},
   "source": [
    "#### 1. Write a `for` loop to count the sum of all even numbers between 1 and 100\n",
    "\n",
    "You can start by defining a variable called cumulative_sum and set it to 0. "
   ]
  },
  {
   "cell_type": "code",
   "execution_count": null,
   "id": "022994db",
   "metadata": {},
   "outputs": [],
   "source": []
  },
  {
   "cell_type": "markdown",
   "id": "ec2939ad",
   "metadata": {},
   "source": [
    "#### 2. Write another `for` loop to count the sum of all odd numbers between 1 and 100"
   ]
  },
  {
   "cell_type": "code",
   "execution_count": null,
   "id": "ecd3b26d",
   "metadata": {},
   "outputs": [],
   "source": []
  }
 ],
 "metadata": {
  "kernelspec": {
   "display_name": "content-projects_new",
   "language": "python",
   "name": "python3"
  },
  "language_info": {
   "name": "python",
   "version": "3.10.8 (main, Nov 24 2022, 14:13:03) [GCC 11.2.0]"
  },
  "vscode": {
   "interpreter": {
    "hash": "4b961f8166aad6ccb4cf65d0f9c742ef9c6c23ffe83ad932438cd83ed96aebaf"
   }
  }
 },
 "nbformat": 4,
 "nbformat_minor": 5
}
