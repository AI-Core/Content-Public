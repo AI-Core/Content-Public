{
 "cells": [
  {
   "cell_type": "markdown",
   "id": "fe9a96ee",
   "metadata": {},
   "source": [
    "# Budget Calculator"
   ]
  },
  {
   "attachments": {},
   "cell_type": "markdown",
   "id": "3508dfda",
   "metadata": {},
   "source": [
    "Using the following variables\n",
    "\n",
    "- `order_list`: A list with tuples, where each tuple contains the code, the individual price and the quantity of each item in the order\n",
    "- `names`: A dictionary with the names of the items, where the key is the code of the item\n",
    "- `budget`: The budget of the customer\n",
    "- `running_total`: The total cost of the order so far\n",
    "- `receipt`: A list with the items in the order"
   ]
  },
  {
   "cell_type": "code",
   "execution_count": null,
   "id": "855096ba",
   "metadata": {},
   "outputs": [],
   "source": [
    "order_list = [(\"tom\", 0.87, 4),\n",
    "              (\"sug\", 1.09, 3),\n",
    "              (\"ws\", 0.29, 4),\n",
    "              (\"juc\", 1.89, 1),\n",
    "              (\"fo\", 1.29, 2)]\n",
    "\n",
    "# This dictionary gives the full name of each product code.\n",
    "names = {\"tom\": \"Tomatoes\",\n",
    "         \"sug\": \"Sugar\",\n",
    "         \"ws\": \"Washing Sponges\",\n",
    "         \"juc\": \"Juice\",\n",
    "         \"fo\": \"Foil\"}\n",
    "\n",
    "budget = 10.00\n",
    "running_total = 0\n",
    "receipt = []"
   ]
  },
  {
   "cell_type": "markdown",
   "id": "c98fd2c5",
   "metadata": {},
   "source": [
    "#### 1. Use a `for` loop to iterate through the `order_list`"
   ]
  },
  {
   "cell_type": "code",
   "execution_count": null,
   "id": "577cf816",
   "metadata": {},
   "outputs": [],
   "source": []
  },
  {
   "attachments": {},
   "cell_type": "markdown",
   "id": "a258bbc0",
   "metadata": {},
   "source": [
    "#### 2. At each iteration:\n",
    "- Add the items to the `receipt` list\n",
    "- Add the total cost of the item to the `running_total` variable\n",
    "- Subtract the total cost of the item from the `budget` variable"
   ]
  },
  {
   "cell_type": "code",
   "execution_count": null,
   "id": "d6d02d02",
   "metadata": {},
   "outputs": [],
   "source": []
  },
  {
   "cell_type": "markdown",
   "id": "4ecfe221",
   "metadata": {},
   "source": [
    "#### 3. If at some point the `budget` variable is less than 0, print the message \"You have exceeded your budget by {budget}.\" and break the loop"
   ]
  },
  {
   "cell_type": "code",
   "execution_count": null,
   "id": "e17a241b",
   "metadata": {},
   "outputs": [],
   "source": []
  }
 ],
 "metadata": {
  "kernelspec": {
   "display_name": "content-projects_new",
   "language": "python",
   "name": "python3"
  },
  "language_info": {
   "codemirror_mode": {
    "name": "ipython",
    "version": 3
   },
   "file_extension": ".py",
   "mimetype": "text/x-python",
   "name": "python",
   "nbconvert_exporter": "python",
   "pygments_lexer": "ipython3",
   "version": "3.10.8"
  },
  "vscode": {
   "interpreter": {
    "hash": "4b961f8166aad6ccb4cf65d0f9c742ef9c6c23ffe83ad932438cd83ed96aebaf"
   }
  }
 },
 "nbformat": 4,
 "nbformat_minor": 5
}
