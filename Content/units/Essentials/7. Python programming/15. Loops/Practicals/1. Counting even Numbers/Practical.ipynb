{
 "cells": [
  {
   "cell_type": "markdown",
   "id": "a6dbdd72",
   "metadata": {},
   "source": [
    "# Counting even Numbers"
   ]
  },
  {
   "cell_type": "markdown",
   "id": "d8dbe617",
   "metadata": {},
   "source": [
    "#### Write a program that prints the numbers from 1 to 50 only if the number is even."
   ]
  },
  {
   "cell_type": "code",
   "execution_count": null,
   "id": "c2443082",
   "metadata": {},
   "outputs": [],
   "source": []
  },
  {
   "cell_type": "markdown",
   "id": "5107bbfc",
   "metadata": {},
   "source": [
    "#### 1. Use a `while` loop to do so"
   ]
  },
  {
   "cell_type": "code",
   "execution_count": null,
   "id": "ea7ca1df",
   "metadata": {},
   "outputs": [],
   "source": []
  },
  {
   "cell_type": "markdown",
   "id": "4776cdc4",
   "metadata": {},
   "source": [
    "#### 2. Use a `for` loop to do so"
   ]
  },
  {
   "cell_type": "code",
   "execution_count": null,
   "id": "73230101",
   "metadata": {},
   "outputs": [],
   "source": []
  }
 ],
 "metadata": {},
 "nbformat": 4,
 "nbformat_minor": 5
}
