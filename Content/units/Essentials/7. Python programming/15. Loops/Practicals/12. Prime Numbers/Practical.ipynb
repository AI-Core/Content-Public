{
 "cells": [
  {
   "cell_type": "markdown",
   "id": "33907794",
   "metadata": {},
   "source": [
    "# Prime Numbers"
   ]
  },
  {
   "cell_type": "markdown",
   "id": "6d1c747e",
   "metadata": {},
   "source": [
    "#### 1. Write a program to check whether each number from 10 to 50 is prime"
   ]
  },
  {
   "cell_type": "code",
   "execution_count": null,
   "id": "c03bc75b",
   "metadata": {},
   "outputs": [],
   "source": []
  },
  {
   "attachments": {},
   "cell_type": "markdown",
   "id": "07aa78ec",
   "metadata": {},
   "source": [
    "#### 2. Your answer should take the following format:\n",
    "- \"x is a prime number.\" for primes\n",
    "- \"x is not a prime number because y is a factor of x.\" for non-primes\n",
    "Tip: This is possible using a while loop nested in a for loop or using a nested for loop; if you can, try to find both.*"
   ]
  },
  {
   "cell_type": "code",
   "execution_count": null,
   "id": "bfdf880b",
   "metadata": {},
   "outputs": [],
   "source": []
  }
 ],
 "metadata": {
  "language_info": {
   "name": "python"
  }
 },
 "nbformat": 4,
 "nbformat_minor": 5
}
