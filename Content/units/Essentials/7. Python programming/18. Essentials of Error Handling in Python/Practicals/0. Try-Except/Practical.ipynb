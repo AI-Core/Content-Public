{
 "cells": [
  {
   "cell_type": "markdown",
   "id": "58dd1f65",
   "metadata": {},
   "source": [
    "# Try-Except"
   ]
  },
  {
   "cell_type": "markdown",
   "id": "7887f6e7",
   "metadata": {},
   "source": [
    "#### 1. Create a new file called `try_except.py`"
   ]
  },
  {
   "cell_type": "code",
   "execution_count": null,
   "id": "55746911",
   "metadata": {},
   "outputs": [],
   "source": []
  },
  {
   "attachments": {},
   "cell_type": "markdown",
   "id": "8554e7db",
   "metadata": {},
   "source": [
    "#### 2. In `try_except.py`, create a try-except block that tries to open a file called `test.txt`\n",
    "\n",
    "The `test.txt` file doesn't exist (yet), so the idea is to make the program to raise an error and then handle it and create the file for you.\n",
    "\n",
    "The pseudocode of the program is:\n",
    "\n",
    "```python\n",
    "try:\n",
    "    # Try to open the file\n",
    "except:\n",
    "    # If the file doesn't exist, print a message\n",
    "```"
   ]
  },
  {
   "cell_type": "code",
   "execution_count": null,
   "id": "dad0f918",
   "metadata": {},
   "outputs": [],
   "source": []
  },
  {
   "attachments": {},
   "cell_type": "markdown",
   "id": "55abcbe0",
   "metadata": {},
   "source": [
    "#### 3. In the `try` block, print the contents of the file. \n",
    "\n",
    "You can use a `with` statement to open the file like this:\n",
    "\n",
    "```python\n",
    "with open(\"test.txt\", \"r\") as file:\n",
    "    print(file.read())\n",
    "```"
   ]
  },
  {
   "cell_type": "code",
   "execution_count": null,
   "id": "ef1b47d7",
   "metadata": {},
   "outputs": [],
   "source": []
  },
  {
   "attachments": {},
   "cell_type": "markdown",
   "id": "1644b45c",
   "metadata": {},
   "source": [
    "#### 4. Using a `except` block, check that the file exists\n",
    "\n",
    "If the file doesn't exist, print a message saying that the file doesn't exist and create the file.\n",
    "\n",
    "You can create a file using `with` like this:\n",
    "\n",
    "```python\n",
    "with open(\"test.txt\", \"w\") as file:\n",
    "    file.write(\"This is a test file\")\n",
    "```\n",
    "\n",
    "_Notice that the mode is `w` instead of `r`, which means that you are writing to the file instead of reading it._"
   ]
  },
  {
   "cell_type": "code",
   "execution_count": null,
   "id": "c570a951",
   "metadata": {},
   "outputs": [],
   "source": []
  },
  {
   "attachments": {},
   "cell_type": "markdown",
   "id": "5262e3e4",
   "metadata": {},
   "source": [
    "#### 5. Run `try_except.py` once.\n",
    "\n",
    "You should see the message \"File not found\" and then a file called `test.txt` in your directory."
   ]
  },
  {
   "cell_type": "code",
   "execution_count": null,
   "id": "a83e5c6f",
   "metadata": {},
   "outputs": [],
   "source": []
  },
  {
   "attachments": {},
   "cell_type": "markdown",
   "id": "bf84c27f",
   "metadata": {},
   "source": [
    "#### 6. Run the file again.\n",
    "\n",
    "Now, `test.txt` is there, so you should see the contents of the file printed to the console and no error message."
   ]
  },
  {
   "cell_type": "code",
   "execution_count": null,
   "id": "23865e62",
   "metadata": {},
   "outputs": [],
   "source": []
  },
  {
   "attachments": {},
   "cell_type": "markdown",
   "id": "a9e3eb7e",
   "metadata": {},
   "source": [
    "You can also print the error that Python has caught. To do that, you can use the `as` keyword to assign the error to a variable. For example:\n",
    "\n",
    "```python\n",
    "try:\n",
    "    # Try to open the file\n",
    "except Exception as e:\n",
    "    # If the file doesn't exist, print a message\n",
    "    print(e)\n",
    "```\n",
    "\n",
    "#### 7. Add a `print` statement to the `except` block that prints the exception that is raised\n",
    "\n",
    "Before running `try_except.py`, if you have a file called `test.txt` in your directory, delete it. Then, run the file"
   ]
  },
  {
   "cell_type": "code",
   "execution_count": null,
   "id": "5449cec3",
   "metadata": {},
   "outputs": [],
   "source": []
  }
 ],
 "metadata": {
  "kernelspec": {
   "display_name": "content-projects_new",
   "language": "python",
   "name": "python3"
  },
  "language_info": {
   "name": "python",
   "version": "3.10.8 (main, Nov 24 2022, 14:13:03) [GCC 11.2.0]"
  },
  "vscode": {
   "interpreter": {
    "hash": "4b961f8166aad6ccb4cf65d0f9c742ef9c6c23ffe83ad932438cd83ed96aebaf"
   }
  }
 },
 "nbformat": 4,
 "nbformat_minor": 5
}
