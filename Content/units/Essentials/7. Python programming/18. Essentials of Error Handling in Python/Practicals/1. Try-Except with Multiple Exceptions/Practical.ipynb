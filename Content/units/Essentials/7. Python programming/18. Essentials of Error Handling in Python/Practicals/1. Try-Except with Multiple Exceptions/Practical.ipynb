{
 "cells": [
  {
   "cell_type": "markdown",
   "id": "4d0507e4",
   "metadata": {},
   "source": [
    "# Try-Except with Multiple Exceptions"
   ]
  },
  {
   "attachments": {},
   "cell_type": "markdown",
   "id": "5aa81027",
   "metadata": {},
   "source": [
    "After running the first cell, you will find a new file called `try_except_multiple.py`. Inside it, you have a try block that asks the user for two numbers, then casts them to integers and divides them.\n",
    "\n",
    "In this practical, you will add multiple except blocks to handle the following exceptions:\n",
    "\n",
    "  * `ValueError` - if the user enters a non-numeric value\n",
    "  * `ZeroDivisionError` - if the user enters 0 as the second number\n",
    "  * `KeyboardInterrupt` - if the user presses the `stop` button in the cell\n",
    "  \n",
    "In `try_except_multiple.py`, you already have a try-except block that asks the user for two numbers, then casts them to integers and divides them"
   ]
  },
  {
   "cell_type": "code",
   "execution_count": null,
   "id": "659cc997",
   "metadata": {},
   "outputs": [],
   "source": []
  },
  {
   "attachments": {},
   "cell_type": "markdown",
   "id": "995b2e51",
   "metadata": {},
   "source": [
    "#### 1. Add except blocks so that:\n",
    "\n",
    "- If the user enters a string, the code will raise a `ValueError`. Add an except block that catches this error and prints \"You must enter a number\".\n",
    "- If the user enters a zero for the second number, the code will raise a `ZeroDivisionError`. Add an except block that catches this error and prints \"You cannot divide by zero\".\n",
    "- If the user presses the `stop` button in the cell, the code will raise a `KeyboardInterrupt`. Add an except block that catches this error and prints \"You stopped the program\".\n"
   ]
  },
  {
   "cell_type": "code",
   "execution_count": null,
   "id": "9b04ae37",
   "metadata": {},
   "outputs": [],
   "source": []
  },
  {
   "attachments": {},
   "cell_type": "markdown",
   "id": "1fb0b694",
   "metadata": {},
   "source": [
    "\n",
    "#### 2. Run the code and test it with the following inputs:\n",
    "\n",
    "  * `1` and `2`\n",
    "  * `1` and `a`\n",
    "  * `1` and `0`\n",
    "  * Press the `stop` button in the cell when it asks for the second number"
   ]
  },
  {
   "cell_type": "code",
   "execution_count": null,
   "id": "7fc98360",
   "metadata": {},
   "outputs": [],
   "source": []
  }
 ],
 "metadata": {
  "kernelspec": {
   "display_name": "content-projects_new",
   "language": "python",
   "name": "python3"
  },
  "language_info": {
   "codemirror_mode": {
    "name": "ipython",
    "version": 3
   },
   "file_extension": ".py",
   "mimetype": "text/x-python",
   "name": "python",
   "nbconvert_exporter": "python",
   "pygments_lexer": "ipython3",
   "version": "3.10.8"
  },
  "vscode": {
   "interpreter": {
    "hash": "4b961f8166aad6ccb4cf65d0f9c742ef9c6c23ffe83ad932438cd83ed96aebaf"
   }
  }
 },
 "nbformat": 4,
 "nbformat_minor": 5
}
