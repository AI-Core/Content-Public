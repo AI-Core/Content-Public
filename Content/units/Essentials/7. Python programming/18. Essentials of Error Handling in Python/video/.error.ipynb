{
 "cells": [
  {
   "cell_type": "code",
   "execution_count": 1,
   "metadata": {},
   "outputs": [
    {
     "name": "stdout",
     "output_type": "stream",
     "text": [
      "2.0\n"
     ]
    }
   ],
   "source": [
    "def div_nums(x, y):\n",
    "    return x / y\n",
    "\n",
    "num_1 = 4\n",
    "num_2 = 2\n",
    "\n",
    "print(div_nums(num_1, num_2))"
   ]
  },
  {
   "cell_type": "code",
   "execution_count": 2,
   "metadata": {},
   "outputs": [
    {
     "ename": "ZeroDivisionError",
     "evalue": "division by zero",
     "output_type": "error",
     "traceback": [
      "\u001b[0;31m---------------------------------------------------------------------------\u001b[0m",
      "\u001b[0;31mZeroDivisionError\u001b[0m                         Traceback (most recent call last)",
      "\u001b[0;32m<ipython-input-2-8a13f2cd86a8>\u001b[0m in \u001b[0;36m<module>\u001b[0;34m\u001b[0m\n\u001b[1;32m      2\u001b[0m \u001b[0mnum_2\u001b[0m \u001b[0;34m=\u001b[0m \u001b[0;36m0\u001b[0m\u001b[0;34m\u001b[0m\u001b[0;34m\u001b[0m\u001b[0m\n\u001b[1;32m      3\u001b[0m \u001b[0;34m\u001b[0m\u001b[0m\n\u001b[0;32m----> 4\u001b[0;31m \u001b[0mprint\u001b[0m\u001b[0;34m(\u001b[0m\u001b[0mdiv_nums\u001b[0m\u001b[0;34m(\u001b[0m\u001b[0mnum_1\u001b[0m\u001b[0;34m,\u001b[0m \u001b[0mnum_2\u001b[0m\u001b[0;34m)\u001b[0m\u001b[0;34m)\u001b[0m\u001b[0;34m\u001b[0m\u001b[0;34m\u001b[0m\u001b[0m\n\u001b[0m",
      "\u001b[0;32m<ipython-input-1-fc8eae334696>\u001b[0m in \u001b[0;36mdiv_nums\u001b[0;34m(x, y)\u001b[0m\n\u001b[1;32m      1\u001b[0m \u001b[0;32mdef\u001b[0m \u001b[0mdiv_nums\u001b[0m\u001b[0;34m(\u001b[0m\u001b[0mx\u001b[0m\u001b[0;34m,\u001b[0m \u001b[0my\u001b[0m\u001b[0;34m)\u001b[0m\u001b[0;34m:\u001b[0m\u001b[0;34m\u001b[0m\u001b[0;34m\u001b[0m\u001b[0m\n\u001b[0;32m----> 2\u001b[0;31m     \u001b[0;32mreturn\u001b[0m \u001b[0mx\u001b[0m \u001b[0;34m/\u001b[0m \u001b[0my\u001b[0m\u001b[0;34m\u001b[0m\u001b[0;34m\u001b[0m\u001b[0m\n\u001b[0m\u001b[1;32m      3\u001b[0m \u001b[0;34m\u001b[0m\u001b[0m\n\u001b[1;32m      4\u001b[0m \u001b[0mnum_1\u001b[0m \u001b[0;34m=\u001b[0m \u001b[0;36m4\u001b[0m\u001b[0;34m\u001b[0m\u001b[0;34m\u001b[0m\u001b[0m\n\u001b[1;32m      5\u001b[0m \u001b[0mnum_2\u001b[0m \u001b[0;34m=\u001b[0m \u001b[0;36m2\u001b[0m\u001b[0;34m\u001b[0m\u001b[0;34m\u001b[0m\u001b[0m\n",
      "\u001b[0;31mZeroDivisionError\u001b[0m: division by zero"
     ]
    }
   ],
   "source": [
    "num_1 = 4\n",
    "num_2 = 0\n",
    "\n",
    "print(div_nums(num_1, num_2))"
   ]
  },
  {
   "cell_type": "markdown",
   "metadata": {},
   "source": [
    "<p align=center><img src=try_except.png width=700></p>"
   ]
  },
  {
   "cell_type": "code",
   "execution_count": 5,
   "metadata": {},
   "outputs": [
    {
     "name": "stdout",
     "output_type": "stream",
     "text": [
      "I am trying to divide two numbers\n",
      "The division wasn't possible because the second argument was 0\n",
      "None\n"
     ]
    }
   ],
   "source": [
    "def div_nums(x, y):\n",
    "    return x / y\n",
    "\n",
    "num_1 = 4\n",
    "num_2 = 0\n",
    "\n",
    "try:\n",
    "    print('I am trying to divide two numbers')\n",
    "    result = div_nums(num_1, num_2)\n",
    "except:\n",
    "    print(\"The division wasn't possible because the second argument was 0\")\n",
    "    result = None\n",
    "\n",
    "print(result)"
   ]
  },
  {
   "cell_type": "code",
   "execution_count": 6,
   "metadata": {},
   "outputs": [
    {
     "name": "stdout",
     "output_type": "stream",
     "text": [
      "I am trying to divide two numbers\n",
      "The division wasn't possible because the second argument was 0\n",
      "None\n"
     ]
    }
   ],
   "source": [
    "def div_nums(x, y):\n",
    "    return x / y\n",
    "\n",
    "num_1 = 4\n",
    "num_2 = 2\n",
    "num_3 = 5\n",
    "\n",
    "try:\n",
    "    print('I am trying to divide two numbers')\n",
    "    result = div_nums(num_1, num_2, num_3)\n",
    "except:\n",
    "    print(\"The division wasn't possible because the second argument was 0\")\n",
    "    result = None\n",
    "\n",
    "print(result)"
   ]
  },
  {
   "cell_type": "code",
   "execution_count": 7,
   "metadata": {},
   "outputs": [
    {
     "name": "stdout",
     "output_type": "stream",
     "text": [
      "I am trying to divide two numbers\n"
     ]
    },
    {
     "ename": "TypeError",
     "evalue": "div_nums() takes 2 positional arguments but 3 were given",
     "output_type": "error",
     "traceback": [
      "\u001b[0;31m---------------------------------------------------------------------------\u001b[0m",
      "\u001b[0;31mTypeError\u001b[0m                                 Traceback (most recent call last)",
      "\u001b[0;32m<ipython-input-7-121a5938ed26>\u001b[0m in \u001b[0;36m<module>\u001b[0;34m\u001b[0m\n\u001b[1;32m      8\u001b[0m \u001b[0;32mtry\u001b[0m\u001b[0;34m:\u001b[0m\u001b[0;34m\u001b[0m\u001b[0;34m\u001b[0m\u001b[0m\n\u001b[1;32m      9\u001b[0m     \u001b[0mprint\u001b[0m\u001b[0;34m(\u001b[0m\u001b[0;34m'I am trying to divide two numbers'\u001b[0m\u001b[0;34m)\u001b[0m\u001b[0;34m\u001b[0m\u001b[0;34m\u001b[0m\u001b[0m\n\u001b[0;32m---> 10\u001b[0;31m     \u001b[0mresult\u001b[0m \u001b[0;34m=\u001b[0m \u001b[0mdiv_nums\u001b[0m\u001b[0;34m(\u001b[0m\u001b[0mnum_1\u001b[0m\u001b[0;34m,\u001b[0m \u001b[0mnum_2\u001b[0m\u001b[0;34m,\u001b[0m \u001b[0mnum_3\u001b[0m\u001b[0;34m)\u001b[0m\u001b[0;34m\u001b[0m\u001b[0;34m\u001b[0m\u001b[0m\n\u001b[0m\u001b[1;32m     11\u001b[0m \u001b[0;32mexcept\u001b[0m \u001b[0mZeroDivisionError\u001b[0m\u001b[0;34m:\u001b[0m\u001b[0;34m\u001b[0m\u001b[0;34m\u001b[0m\u001b[0m\n\u001b[1;32m     12\u001b[0m     \u001b[0mprint\u001b[0m\u001b[0;34m(\u001b[0m\u001b[0;34m\"The division wasn't possible because the second argument was 0\"\u001b[0m\u001b[0;34m)\u001b[0m\u001b[0;34m\u001b[0m\u001b[0;34m\u001b[0m\u001b[0m\n",
      "\u001b[0;31mTypeError\u001b[0m: div_nums() takes 2 positional arguments but 3 were given"
     ]
    }
   ],
   "source": [
    "def div_nums(x, y):\n",
    "    return x / y\n",
    "\n",
    "num_1 = 4\n",
    "num_2 = 2\n",
    "num_3 = 5\n",
    "\n",
    "try:\n",
    "    print('I am trying to divide two numbers')\n",
    "    result = div_nums(num_1, num_2, num_3)\n",
    "except ZeroDivisionError:\n",
    "    print(\"The division wasn't possible because the second argument was 0\")\n",
    "    result = None\n",
    "\n",
    "print(result)"
   ]
  },
  {
   "cell_type": "code",
   "execution_count": 8,
   "metadata": {},
   "outputs": [
    {
     "name": "stdout",
     "output_type": "stream",
     "text": [
      "I am trying to divide two numbers\n",
      "Two many arguments were given, trying it with the first two arguments\n",
      "2.0\n"
     ]
    }
   ],
   "source": [
    "def div_nums(x, y):\n",
    "    return x / y\n",
    "\n",
    "num_1 = 4\n",
    "num_2 = 2\n",
    "num_3 = 5\n",
    "\n",
    "try:\n",
    "    print('I am trying to divide two numbers')\n",
    "    result = div_nums(num_1, num_2, num_3)\n",
    "except ZeroDivisionError:\n",
    "    print(\"The division wasn't possible because the second argument was 0\")\n",
    "    result = None\n",
    "except TypeError:\n",
    "    print('Two many arguments were given, trying it with the first two arguments')\n",
    "    result = div_nums(num_1, num_2)\n",
    "\n",
    "print(result)"
   ]
  },
  {
   "cell_type": "code",
   "execution_count": 11,
   "metadata": {},
   "outputs": [
    {
     "name": "stdout",
     "output_type": "stream",
     "text": [
      "I am trying to divide two numbers\n",
      "Unknown error\n",
      "0\n"
     ]
    }
   ],
   "source": [
    "def div_nums(x, y):\n",
    "    return x / y\n",
    "\n",
    "num_1 = 4\n",
    "num_2 = 2\n",
    "\n",
    "try:\n",
    "    print('I am trying to divide two numbers')\n",
    "    result = div_nums(num_1, num_)\n",
    "except ZeroDivisionError:\n",
    "    print(\"The division wasn't possible because the second argument was 0\")\n",
    "    result = None\n",
    "except TypeError:\n",
    "    print('Two many arguments were given, trying it with the first two arguments')\n",
    "    result = div_nums(num_1, num_2)\n",
    "except:\n",
    "    print('Unknown error')\n",
    "    result = 0\n",
    "\n",
    "print(result)"
   ]
  },
  {
   "cell_type": "code",
   "execution_count": 12,
   "metadata": {},
   "outputs": [
    {
     "name": "stdout",
     "output_type": "stream",
     "text": [
      "I am trying to divide two numbers\n",
      "2.0\n"
     ]
    }
   ],
   "source": [
    "def div_nums(x, y):\n",
    "    return x / y\n",
    "\n",
    "num_1 = 4\n",
    "num_2 = 2\n",
    "\n",
    "try:\n",
    "    print('I am trying to divide two numbers')\n",
    "    result = div_nums(num_1, num_2)\n",
    "except ZeroDivisionError:\n",
    "    print(\"The division wasn't possible because the second argument was 0\")\n",
    "    result = None\n",
    "except TypeError:\n",
    "    print('Two many arguments were given, trying it with the first two arguments')\n",
    "    result = div_nums(num_1, num_2)\n",
    "except Exception as e:\n",
    "    print(e)\n",
    "    result = 0\n",
    "\n",
    "print(result)"
   ]
  },
  {
   "cell_type": "code",
   "execution_count": 16,
   "metadata": {},
   "outputs": [
    {
     "name": "stdout",
     "output_type": "stream",
     "text": [
      "I am trying to divide two numbers\n",
      "name 'num_' is not defined\n",
      "0\n",
      "<class 'int'>\n"
     ]
    }
   ],
   "source": [
    "def div_nums(x, y):\n",
    "    return x / y\n",
    "\n",
    "num_1 = 4\n",
    "num_2 = 2\n",
    "\n",
    "try:\n",
    "    print('I am trying to divide two numbers')\n",
    "    result = div_nums(num_1, num_)\n",
    "except ZeroDivisionError:\n",
    "    print(\"The division wasn't possible because the second argument was 0\")\n",
    "    result = None\n",
    "except TypeError:\n",
    "    print('Two many arguments were given, trying it with the first two arguments')\n",
    "    result = div_nums(num_1, num_2)\n",
    "except Exception as e:\n",
    "    print(e)\n",
    "    result = 0\n",
    "else:\n",
    "    print('I am in the else statement')\n",
    "    result = int(result)\n",
    "\n",
    "print(result)\n",
    "print(type(result))"
   ]
  },
  {
   "cell_type": "code",
   "execution_count": 17,
   "metadata": {},
   "outputs": [
    {
     "name": "stdout",
     "output_type": "stream",
     "text": [
      "I am trying to divide two numbers\n",
      "The division wasn't possible because the second argument was 0\n",
      "None\n"
     ]
    }
   ],
   "source": [
    "def div_nums(x, y):\n",
    "    return x / y\n",
    "\n",
    "num_1 = 4\n",
    "num_2 = 0\n",
    "\n",
    "try:\n",
    "    print('I am trying to divide two numbers')\n",
    "    result = div_nums(num_1, num_2)\n",
    "except ZeroDivisionError:\n",
    "    print(\"The division wasn't possible because the second argument was 0\")\n",
    "    result = None\n",
    "except TypeError:\n",
    "    print('Two many arguments were given, trying it with the first two arguments')\n",
    "    result = div_nums(num_1, num_2)\n",
    "except Exception as e:\n",
    "    print(e)\n",
    "    result = 0\n",
    "else:\n",
    "    print('I am in the else statement')\n",
    "    result = int(result)\n",
    "\n",
    "print(result)"
   ]
  },
  {
   "cell_type": "code",
   "execution_count": 19,
   "metadata": {},
   "outputs": [
    {
     "name": "stdout",
     "output_type": "stream",
     "text": [
      "I am trying to divide two numbers\n",
      "The division wasn't possible because the second argument was 0\n",
      "Error handling finished\n",
      "None\n"
     ]
    }
   ],
   "source": [
    "def div_nums(x, y):\n",
    "    return x / y\n",
    "\n",
    "num_1 = 4\n",
    "num_2 = 0\n",
    "\n",
    "try:\n",
    "    print('I am trying to divide two numbers')\n",
    "    result = div_nums(num_1, num_2)\n",
    "except ZeroDivisionError:\n",
    "    print(\"The division wasn't possible because the second argument was 0\")\n",
    "    result = None\n",
    "except TypeError:\n",
    "    print('Two many arguments were given, trying it with the first two arguments')\n",
    "    result = div_nums(num_1, num_2)\n",
    "except Exception as e:\n",
    "    print(e)\n",
    "    result = 0\n",
    "else:\n",
    "    print('I am in the else statement')\n",
    "    result = int(result)\n",
    "finally:\n",
    "    print('Error handling finished')\n",
    "\n",
    "print(result)"
   ]
  },
  {
   "cell_type": "code",
   "execution_count": null,
   "metadata": {},
   "outputs": [],
   "source": [
    "def div_nums(x, y):\n",
    "    return x / y\n",
    "\n",
    "num_1 = 4\n",
    "num_2 = 0\n",
    "\n",
    "try:\n",
    "    print('I am trying to divide two numbers')\n",
    "    result = div_nums(num_1, num_2)\n",
    "except ZeroDivisionError:\n",
    "    print(\"The division wasn't possible because the second argument was 0\")\n",
    "    result = None\n",
    "except TypeError:\n",
    "    print('Two many arguments were given, trying it with the first two arguments')\n",
    "    result = div_nums(num_1, num_2)\n",
    "except Exception as e:\n",
    "    print(e)\n",
    "    result = 0\n",
    "else:\n",
    "    print('I am in the else statement')\n",
    "    result = int(result)\n",
    "finally:\n",
    "    print('Error handling finished')\n",
    "\n",
    "print(result)"
   ]
  },
  {
   "cell_type": "code",
   "execution_count": null,
   "metadata": {},
   "outputs": [],
   "source": []
  }
 ],
 "metadata": {
  "interpreter": {
   "hash": "3d597f4c481aa0f25dceb95d2a0067e73c0966dcbd003d741d821a7208527ecf"
  },
  "kernelspec": {
   "display_name": "Python 3.9.1 64-bit ('base': conda)",
   "name": "python3"
  },
  "language_info": {
   "codemirror_mode": {
    "name": "ipython",
    "version": 3
   },
   "file_extension": ".py",
   "mimetype": "text/x-python",
   "name": "python",
   "nbconvert_exporter": "python",
   "pygments_lexer": "ipython3",
   "version": "3.9.0"
  },
  "orig_nbformat": 4
 },
 "nbformat": 4,
 "nbformat_minor": 2
}
