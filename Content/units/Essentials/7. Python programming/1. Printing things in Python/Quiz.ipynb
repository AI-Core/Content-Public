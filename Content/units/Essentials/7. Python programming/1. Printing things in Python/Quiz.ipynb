{
 "cells": [
  {
   "attachments": {},
   "cell_type": "markdown",
   "metadata": {},
   "source": [
    "# Printing Things in Python"
   ]
  },
  {
   "attachments": {},
   "cell_type": "markdown",
   "metadata": {},
   "source": [
    "## What is the correct function to print something in Python?\n",
    "\n",
    "- `write`\n",
    "- `console.log`\n",
    "- `print` ***\n",
    "- `show`\n",
    "- `log`"
   ]
  },
  {
   "attachments": {},
   "cell_type": "markdown",
   "metadata": {},
   "source": [
    "## What is the correct way to print the string `\"Hello World\"` in Python?\n",
    "\n",
    "- `print(\"Hello World\")` ***\n",
    "- `write(\"Hello World\")`\n",
    "- `console.log(\"Hello World\")`\n",
    "- `show(\"Hello World\")`\n",
    "- `log(\"Hello World\")`\n"
   ]
  },
  {
   "attachments": {},
   "cell_type": "markdown",
   "metadata": {},
   "source": [
    "## How many arguments can the `print` function take?\n",
    "\n",
    "- One, the string to print\n",
    "- Two, the string to print and the number of times to print it\n",
    "- As many as you want, if not specified, the print function will print them all separated by commas\n",
    "- As many as you want, if not specified, the print function will print them all separated by spaces ***\n",
    "- As many as you want, if not specified, the print function will print them all separated by new lines\n"
   ]
  },
  {
   "attachments": {},
   "cell_type": "markdown",
   "metadata": {},
   "source": [
    "## What other purposes can the `print` function be used for?\n",
    "\n",
    "- To print comments in your code to make it more readable\n",
    "- To store the value of a variable in a file\n",
    "- To save a file with the value passed to the `print` function\n",
    "- To delete a file that contains the value passed to the `print` function\n",
    "- To debug your code by printing the value of variables at different points in your code ***"
   ]
  }
 ],
 "metadata": {
  "kernelspec": {
   "display_name": "content-projects",
   "language": "python",
   "name": "python3"
  },
  "language_info": {
   "codemirror_mode": {
    "name": "ipython",
    "version": 3
   },
   "file_extension": ".py",
   "mimetype": "text/x-python",
   "name": "python",
   "nbconvert_exporter": "python",
   "pygments_lexer": "ipython3",
   "version": "3.10.8"
  },
  "orig_nbformat": 4
 },
 "nbformat": 4,
 "nbformat_minor": 2
}
