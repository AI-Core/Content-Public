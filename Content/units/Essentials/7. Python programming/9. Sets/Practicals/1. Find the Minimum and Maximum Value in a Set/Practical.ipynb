{
 "cells": [
  {
   "cell_type": "markdown",
   "id": "32a1ddb6",
   "metadata": {},
   "source": [
    "# Find the Minimum and Maximum Value in a Set"
   ]
  },
  {
   "attachments": {},
   "cell_type": "markdown",
   "id": "899a7818",
   "metadata": {},
   "source": [
    "#### 1. Find the maximum value in the following sets:\n",
    "\n",
    "- `set_int = {8, 16, 24, 1, 25, 3, 10, 65, 55}`\n",
    "- `set_str = {'f', 'l', 'k', 'a', 'w'}`"
   ]
  },
  {
   "cell_type": "code",
   "execution_count": null,
   "id": "a1bf4057",
   "metadata": {},
   "outputs": [],
   "source": []
  },
  {
   "attachments": {},
   "cell_type": "markdown",
   "id": "7baf8d08",
   "metadata": {},
   "source": [
    "#### 2. Find the minimum value in the following sets:\n",
    "\n",
    "- `set_int = {4, 12, 10, 9, 4, 13}`\n",
    "- `set_str = {'b', 'z', 't', 'm', 'y', 'c'}`\n"
   ]
  },
  {
   "cell_type": "code",
   "execution_count": null,
   "id": "de8993ff",
   "metadata": {},
   "outputs": [],
   "source": []
  }
 ],
 "metadata": {
  "kernelspec": {
   "display_name": "content-projects_new",
   "language": "python",
   "name": "python3"
  },
  "language_info": {
   "name": "python",
   "version": "3.10.8 (main, Nov 24 2022, 14:13:03) [GCC 11.2.0]"
  },
  "vscode": {
   "interpreter": {
    "hash": "4b961f8166aad6ccb4cf65d0f9c742ef9c6c23ffe83ad932438cd83ed96aebaf"
   }
  }
 },
 "nbformat": 4,
 "nbformat_minor": 5
}
