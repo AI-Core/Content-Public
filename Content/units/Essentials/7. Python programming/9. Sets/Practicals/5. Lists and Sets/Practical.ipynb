{
 "cells": [
  {
   "cell_type": "markdown",
   "id": "05523d8c",
   "metadata": {},
   "source": [
    "# Lists and Sets"
   ]
  },
  {
   "attachments": {},
   "cell_type": "markdown",
   "id": "da4b7923",
   "metadata": {},
   "source": [
    "#### Find the common elements of three lists using sets.\n",
    "- `list1 = [1, 5, 10, 20, 40, 80]`\n",
    "- `list2 = [6, 7, 20, 80, 100]`\n",
    "- `list3 = [3, 4, 15, 20, 30, 70, 80, 120]`"
   ]
  },
  {
   "cell_type": "code",
   "execution_count": null,
   "id": "a3d6934d",
   "metadata": {},
   "outputs": [],
   "source": []
  }
 ],
 "metadata": {
  "language_info": {
   "name": "python"
  }
 },
 "nbformat": 4,
 "nbformat_minor": 5
}
