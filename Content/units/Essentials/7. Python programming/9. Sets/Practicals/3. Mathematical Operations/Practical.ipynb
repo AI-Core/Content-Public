{
 "cells": [
  {
   "cell_type": "markdown",
   "id": "00f4d161",
   "metadata": {},
   "source": [
    "# Mathematical Operations"
   ]
  },
  {
   "attachments": {},
   "cell_type": "markdown",
   "id": "9f7bba24",
   "metadata": {},
   "source": [
    "#### Given the following two sets:\n",
    "\n",
    "- `set1 = {15, 25, 35, 45, 55}`\n",
    "- `set2 = {35, 45, 55, 65, 75}`"
   ]
  },
  {
   "cell_type": "markdown",
   "id": "69ff412a",
   "metadata": {},
   "source": [
    "#### 1. Return a set with the common items "
   ]
  },
  {
   "cell_type": "code",
   "execution_count": null,
   "id": "0db2b447",
   "metadata": {},
   "outputs": [],
   "source": []
  },
  {
   "cell_type": "markdown",
   "id": "96e67a15",
   "metadata": {},
   "source": [
    "#### 2. Return a set with the unique items"
   ]
  },
  {
   "cell_type": "code",
   "execution_count": null,
   "id": "d6cccda4",
   "metadata": {},
   "outputs": [],
   "source": []
  },
  {
   "attachments": {},
   "cell_type": "markdown",
   "id": "7d8bc7ab",
   "metadata": {},
   "source": [
    "#### 3. Return a set that contains items in `set1` or `set2` but not in both"
   ]
  },
  {
   "cell_type": "code",
   "execution_count": null,
   "id": "43fbe9ed",
   "metadata": {},
   "outputs": [],
   "source": []
  }
 ],
 "metadata": {
  "kernelspec": {
   "display_name": "content-projects_new",
   "language": "python",
   "name": "python3"
  },
  "language_info": {
   "name": "python",
   "version": "3.10.8 (main, Nov 24 2022, 14:13:03) [GCC 11.2.0]"
  },
  "vscode": {
   "interpreter": {
    "hash": "4b961f8166aad6ccb4cf65d0f9c742ef9c6c23ffe83ad932438cd83ed96aebaf"
   }
  }
 },
 "nbformat": 4,
 "nbformat_minor": 5
}
