{
 "cells": [
  {
   "cell_type": "markdown",
   "id": "76061b38",
   "metadata": {},
   "source": [
    "# Adding Items to a Set"
   ]
  },
  {
   "attachments": {},
   "cell_type": "markdown",
   "id": "2c12aada",
   "metadata": {},
   "source": [
    "Given the set `prime_numbers = {3, 5, 7, 11, 13}`, add:\n",
    "#### 1. A prime number to this set"
   ]
  },
  {
   "cell_type": "code",
   "execution_count": null,
   "id": "5da3c090",
   "metadata": {},
   "outputs": [],
   "source": []
  },
  {
   "attachments": {},
   "cell_type": "markdown",
   "id": "12d95158",
   "metadata": {},
   "source": [
    "#### 2. A set of prime numbers (hint: use the `update` method)"
   ]
  },
  {
   "cell_type": "code",
   "execution_count": null,
   "id": "6d498900",
   "metadata": {},
   "outputs": [],
   "source": []
  }
 ],
 "metadata": {
  "kernelspec": {
   "display_name": "content-projects_new",
   "language": "python",
   "name": "python3"
  },
  "language_info": {
   "name": "python",
   "version": "3.10.8 (main, Nov 24 2022, 14:13:03) [GCC 11.2.0]"
  },
  "vscode": {
   "interpreter": {
    "hash": "4b961f8166aad6ccb4cf65d0f9c742ef9c6c23ffe83ad932438cd83ed96aebaf"
   }
  }
 },
 "nbformat": 4,
 "nbformat_minor": 5
}
