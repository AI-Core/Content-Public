{
 "cells": [
  {
   "cell_type": "markdown",
   "id": "16010e61",
   "metadata": {},
   "source": [
    "# Initialising Sets"
   ]
  },
  {
   "cell_type": "markdown",
   "id": "2977a963",
   "metadata": {},
   "source": [
    "#### 1. Create an empty set without Python's built-in function"
   ]
  },
  {
   "cell_type": "code",
   "execution_count": null,
   "id": "76fe141a",
   "metadata": {},
   "outputs": [],
   "source": []
  },
  {
   "cell_type": "markdown",
   "id": "94bbd621",
   "metadata": {},
   "source": [
    "#### 2. Create an empty set with Python's built-in function"
   ]
  },
  {
   "cell_type": "code",
   "execution_count": null,
   "id": "e8ebf389",
   "metadata": {},
   "outputs": [],
   "source": []
  },
  {
   "cell_type": "markdown",
   "id": "e91ff43a",
   "metadata": {},
   "source": [
    "#### 3. Iterate over one of the sets and print out the values"
   ]
  },
  {
   "cell_type": "code",
   "execution_count": null,
   "id": "9fc759c0",
   "metadata": {},
   "outputs": [],
   "source": []
  }
 ],
 "metadata": {
  "kernelspec": {
   "display_name": "content-projects_new",
   "language": "python",
   "name": "python3"
  },
  "language_info": {
   "name": "python",
   "version": "3.10.8 (main, Nov 24 2022, 14:13:03) [GCC 11.2.0]"
  },
  "vscode": {
   "interpreter": {
    "hash": "4b961f8166aad6ccb4cf65d0f9c742ef9c6c23ffe83ad932438cd83ed96aebaf"
   }
  }
 },
 "nbformat": 4,
 "nbformat_minor": 5
}
