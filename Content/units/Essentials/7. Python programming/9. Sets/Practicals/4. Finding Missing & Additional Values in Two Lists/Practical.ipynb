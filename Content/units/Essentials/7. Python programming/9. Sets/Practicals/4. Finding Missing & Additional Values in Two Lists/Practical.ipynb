{
 "cells": [
  {
   "cell_type": "markdown",
   "id": "f1a8c9d6",
   "metadata": {},
   "source": [
    "# Finding Missing & Additional Values in Two Lists"
   ]
  },
  {
   "attachments": {},
   "cell_type": "markdown",
   "id": "9cb282a1",
   "metadata": {},
   "source": [
    "Given the following two lists:\n",
    "- `list1 = [1, 2, 3, 4, 5, 6, 7, 8]`\n",
    "- `list2 = [5, 6, 7, 8, 9, 10, 11, 12]`\n",
    "\n",
    "#### 1. Print the missing & additional items in list1 (hint: convert list to a set)"
   ]
  },
  {
   "cell_type": "code",
   "execution_count": null,
   "id": "1a67791a",
   "metadata": {},
   "outputs": [],
   "source": []
  },
  {
   "cell_type": "markdown",
   "id": "e4195037",
   "metadata": {},
   "source": [
    "#### 2. Print the missing & additional items in list2"
   ]
  },
  {
   "cell_type": "code",
   "execution_count": null,
   "id": "aabb3360",
   "metadata": {},
   "outputs": [],
   "source": []
  }
 ],
 "metadata": {
  "kernelspec": {
   "display_name": "content-projects_new",
   "language": "python",
   "name": "python3"
  },
  "language_info": {
   "name": "python",
   "version": "3.10.8 (main, Nov 24 2022, 14:13:03) [GCC 11.2.0]"
  },
  "vscode": {
   "interpreter": {
    "hash": "4b961f8166aad6ccb4cf65d0f9c742ef9c6c23ffe83ad932438cd83ed96aebaf"
   }
  }
 },
 "nbformat": 4,
 "nbformat_minor": 5
}
