{
 "cells": [
  {
   "attachments": {},
   "cell_type": "markdown",
   "metadata": {},
   "source": [
    "# Sets"
   ]
  },
  {
   "attachments": {},
   "cell_type": "markdown",
   "metadata": {},
   "source": [
    "## What is a set in mathematics?\n",
    "\n",
    "- A collection of unordered and distinct objects ***\n",
    "- A collection of ordered and identical objects\n",
    "- A collection of ordered and distinct objects\n",
    "- A collection of unordered and identical objects"
   ]
  },
  {
   "attachments": {},
   "cell_type": "markdown",
   "metadata": {},
   "source": [
    "## Which of the following code snippets correctly defines a set of integers in Python?\n",
    "\n",
    "- `my_set = {1, 2, 3, 4}`\n",
    "- `my_set = [1, 2, 3, 4]`\n",
    "- `my_set = set(1, 2, 3, 4)`\n",
    "- `my_set = set([1, 2, 3, 4])` ***"
   ]
  },
  {
   "attachments": {},
   "cell_type": "markdown",
   "metadata": {},
   "source": [
    "## Can you index a set in Python? Why or why not?\n",
    "\n",
    "- Yes, because a set is a sequence type like a list or a tuple\n",
    "- No, because a set is an unordered collection of unique elements ***\n",
    "- Yes, but only if the set is sorted\n",
    "- No, but you can use a loop to access its elements one by one"
   ]
  },
  {
   "attachments": {},
   "cell_type": "markdown",
   "metadata": {},
   "source": [
    "## What does the `union()` method do when applied to two sets in Python?\n",
    "\n",
    "- It returns a new set that contains all the elements of both sets ***\n",
    "- It returns a new set that contains only the elements that are common to both sets\n",
    "- It returns a new set that contains only the elements that are unique to each set\n",
    "- It returns the intersection of both sets"
   ]
  },
  {
   "attachments": {},
   "cell_type": "markdown",
   "metadata": {},
   "source": [
    "## What does the `intersection()` method do when applied to two sets in Python?\n",
    "\n",
    "- It returns a new set that contains all the elements of both sets\n",
    "- It returns a new set that contains only the elements that are common to both sets ***\n",
    "- It returns a new set that contains only the elements that are unique to each set\n",
    "- It returns the difference of both sets\n",
    "\n"
   ]
  },
  {
   "attachments": {},
   "cell_type": "markdown",
   "metadata": {},
   "source": [
    "## What does the `difference()` method do when applied to two sets in Python?\n",
    "\n",
    "- It returns a new set that contains all the elements of both sets\n",
    "- It returns a new set that contains only the elements that are common to both sets\n",
    "- It returns a new set that contains only the elements that are unique to each set\n",
    "- It returns the difference of both sets ***\n",
    "\n"
   ]
  },
  {
   "attachments": {},
   "cell_type": "markdown",
   "metadata": {},
   "source": [
    "## What does the `symmetric_difference()` method do when applied to two sets in Python?\n",
    "\n",
    "- It returns a new set that contains all the elements of both sets\n",
    "- It returns a new set that contains only the elements that are common to both sets\n",
    "- It returns a new set that contains only the elements that are unique to each set\n",
    "- It returns a new set that contains the elements that are unique to each set, but not those that are common to both ***"
   ]
  }
 ],
 "metadata": {
  "language_info": {
   "name": "python"
  },
  "orig_nbformat": 4
 },
 "nbformat": 4,
 "nbformat_minor": 2
}
