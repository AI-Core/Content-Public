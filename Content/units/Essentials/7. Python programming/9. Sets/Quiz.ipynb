{
 "cells": [
  {
   "attachments": {},
   "cell_type": "markdown",
   "metadata": {},
   "source": [
    "# Sets"
   ]
  },
  {
   "attachments": {},
   "cell_type": "markdown",
   "metadata": {},
   "source": [
    "## What is a set in mathematics?\n",
    "\n",
    "- A collection of unordered and distinct objects ***\n",
    "- A collection of ordered and identical objects\n",
    "- A collection of ordered and distinct objects\n",
    "- A collection of unordered and identical objects"
   ]
  },
  {
   "attachments": {},
   "cell_type": "markdown",
   "metadata": {},
   "source": [
    "## Which of the following code snippets correctly defines a set of integers in Python? Select all that apply.\n",
    "\n",
    "- `my_set = {1, 2, 3, 4}` ***\n",
    "- `my_set = [1, 2, 3, 4]`\n",
    "- `my_set = set(1, 2, 3, 4)`\n",
    "- `my_set = set([1, 2, 3, 4])` ***"
   ]
  },
  {
   "attachments": {},
   "cell_type": "markdown",
   "metadata": {},
   "source": [
    "## Can you index a set in Python? Why or why not?\n",
    "\n",
    "- Yes, because a set is a sequence type like a list or a tuple\n",
    "- No, because a set is an unordered collection of unique elements ***\n",
    "- Yes, but only if the set is sorted\n",
    "- No, because sets in Python are immutable"
   ]
  },
  {
   "attachments": {},
   "cell_type": "markdown",
   "metadata": {},
   "source": [
    "## What does the `union()` method do when applied to two sets in Python?\n",
    "\n",
    "- It returns a new set that contains all the elements of both sets ***\n",
    "- It returns a new set that contains only the elements that are common to both sets\n",
    "- It returns a new set that contains only the elements that are unique to each set\n",
    "- It returns the intersection of both sets"
   ]
  },
  {
   "attachments": {},
   "cell_type": "markdown",
   "metadata": {},
   "source": [
    "## What does the `intersection()` method do when applied to two sets in Python?\n",
    "\n",
    "- It returns a new set that contains all the elements of both sets\n",
    "- It returns a new set that contains only the elements that are common to both sets ***\n",
    "- It returns a new set that contains only the elements that are unique to each set\n",
    "- It returns the difference of both sets\n",
    "\n"
   ]
  },
  {
   "attachments": {},
   "cell_type": "markdown",
   "metadata": {},
   "source": [
    "## What does the `difference()` method do when applied to two sets in Python?\n",
    "\n",
    "- It returns a new set that contains all the elements of both sets\n",
    "- It returns a new set that contains only the elements that are common to both sets\n",
    "- It returns a new set that contains only the elements that are unique to each set\n",
    "- It returns the difference of both sets ***\n",
    "\n"
   ]
  },
  {
   "attachments": {},
   "cell_type": "markdown",
   "metadata": {},
   "source": [
    "## What does the `symmetric_difference()` method do when applied to two sets in Python?\n",
    "\n",
    "- It returns a new set that contains all the elements of both sets\n",
    "- It returns a new set that contains only the elements that are common to both sets\n",
    "- It returns a new set that contains only the elements that are unique to each set\n",
    "- It returns a new set that contains the elements that are unique to each set, but not those that are common to both ***"
   ]
  },
  {
   "attachments": {},
   "cell_type": "markdown",
   "metadata": {},
   "source": [
    "## What happens when you try to add a duplicate element to a set?\n",
    "\n",
    "- The duplicate element is added to the set\n",
    "- The set raises a `KeyError`\n",
    "- The set remains unchanged ***\n",
    "- None of the above\n"
   ]
  },
  {
   "attachments": {},
   "cell_type": "markdown",
   "metadata": {},
   "source": [
    "## True or False: The elements in a set are automatically sorted in ascending order.\n",
    "\n",
    "- True\n",
    "- False ***"
   ]
  },
  {
   "attachments": {},
   "cell_type": "markdown",
   "metadata": {},
   "source": [
    "## True or False: If two sets have no common elements, they are considered disjoint sets.\n",
    "\n",
    "- True ***\n",
    "- False"
   ]
  }
 ],
 "metadata": {
  "kernelspec": {
   "display_name": "torch_env",
   "language": "python",
   "name": "python3"
  },
  "language_info": {
   "codemirror_mode": {
    "name": "ipython",
    "version": 3
   },
   "file_extension": ".py",
   "mimetype": "text/x-python",
   "name": "python",
   "nbconvert_exporter": "python",
   "pygments_lexer": "ipython3",
   "version": "3.10.10"
  },
  "orig_nbformat": 4
 },
 "nbformat": 4,
 "nbformat_minor": 2
}
