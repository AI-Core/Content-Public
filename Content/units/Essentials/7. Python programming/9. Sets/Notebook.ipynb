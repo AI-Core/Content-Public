{
 "cells": [
  {
   "attachments": {},
   "cell_type": "markdown",
   "metadata": {},
   "source": [
    "# Sets"
   ]
  },
  {
   "attachments": {},
   "cell_type": "markdown",
   "metadata": {},
   "source": [
    "## Learning objectives\n",
    "- Understand the nature of a set.\n",
    "- Learn how to add to and update a set.\n",
    "- Learn how to join sets using different methods.\n"
   ]
  },
  {
   "cell_type": "markdown",
   "metadata": {},
   "source": [
    "## A Brief Introduction to Sets"
   ]
  },
  {
   "cell_type": "markdown",
   "metadata": {},
   "source": [
    "- Sets are a data type in Python.\n",
    "- They follow the rules of mathematical sets that you should already be familiar with.\n",
    "- They are mutable and unordered, and they do not contain repeated items (items are unique).\n",
    "- This means one useful usage of a set is to find all unique items in a list, as we will see\n",
    "- Sets also have their own methods, with operations derived from mathematical sets."
   ]
  },
  {
   "cell_type": "markdown",
   "metadata": {},
   "source": [
    "We can define a set using the `set` method to cast, for example, a list into a set. If the list contained repeated elements, they will be removed in the set."
   ]
  },
  {
   "cell_type": "code",
   "execution_count": 18,
   "metadata": {},
   "outputs": [
    {
     "name": "stdout",
     "output_type": "stream",
     "text": [
      "{1, 2, 3, 4, 6}\n"
     ]
    }
   ],
   "source": [
    "my_set = set([1, 2, 3, 4, 4, 4, 6])\n",
    "print(my_set)"
   ]
  },
  {
   "cell_type": "markdown",
   "metadata": {},
   "source": [
    "Observe above that number 4 appears only once in the set.\n",
    "\n",
    "Also, observe that sets are represented by curly brackets (`{}`). This is the second way to define a set, using curly brackets when assigning it to a variable"
   ]
  },
  {
   "cell_type": "code",
   "execution_count": 19,
   "metadata": {},
   "outputs": [
    {
     "name": "stdout",
     "output_type": "stream",
     "text": [
      "{1, 2, 3, 4, 6}\n"
     ]
    }
   ],
   "source": [
    "my_set = {1, 2, 3, 4, 4, 4, 6}\n",
    "print(my_set)"
   ]
  },
  {
   "cell_type": "markdown",
   "metadata": {},
   "source": [
    "As mentioned above, sets are unordered and mutable. Mutable means that we will be able to change its content, as we will see later in this notebook\n",
    "\n",
    "Unordered means that its elements don't have a specific order, and therefore sets can't be indexed."
   ]
  },
  {
   "cell_type": "code",
   "execution_count": 20,
   "metadata": {},
   "outputs": [
    {
     "ename": "TypeError",
     "evalue": "'set' object is not subscriptable",
     "output_type": "error",
     "traceback": [
      "\u001b[0;31m---------------------------------------------------------------------------\u001b[0m",
      "\u001b[0;31mTypeError\u001b[0m                                 Traceback (most recent call last)",
      "\u001b[0;32m<ipython-input-20-be0a2ad132f1>\u001b[0m in \u001b[0;36m<module>\u001b[0;34m\u001b[0m\n\u001b[1;32m      1\u001b[0m \u001b[0;31m# Trying to index a set\u001b[0m\u001b[0;34m\u001b[0m\u001b[0;34m\u001b[0m\u001b[0;34m\u001b[0m\u001b[0m\n\u001b[0;32m----> 2\u001b[0;31m \u001b[0mmy_set\u001b[0m\u001b[0;34m[\u001b[0m\u001b[0;36m1\u001b[0m\u001b[0;34m]\u001b[0m\u001b[0;34m\u001b[0m\u001b[0;34m\u001b[0m\u001b[0m\n\u001b[0m",
      "\u001b[0;31mTypeError\u001b[0m: 'set' object is not subscriptable"
     ]
    }
   ],
   "source": [
    "# Trying to index a set\n",
    "my_set[1]"
   ]
  },
  {
   "cell_type": "markdown",
   "metadata": {},
   "source": [
    "After running the code above, we obtain a `TypeError`"
   ]
  },
  {
   "cell_type": "markdown",
   "metadata": {},
   "source": [
    "### Sets functions and methods"
   ]
  },
  {
   "cell_type": "markdown",
   "metadata": {},
   "source": [
    "We can retrieve the number of elements in a set using the `len` method, just like in a list"
   ]
  },
  {
   "cell_type": "code",
   "execution_count": 22,
   "metadata": {},
   "outputs": [
    {
     "data": {
      "text/plain": [
       "6"
      ]
     },
     "execution_count": 22,
     "metadata": {},
     "output_type": "execute_result"
    }
   ],
   "source": [
    "my_set = {1, 5, 3, 6, 7, 5, 4, 5, 5, 5, 6}\n",
    "len(my_set)"
   ]
  },
  {
   "cell_type": "markdown",
   "metadata": {},
   "source": [
    "And retrieve the minimum and maximum value in the set using the `min` and the `max` functions"
   ]
  },
  {
   "cell_type": "code",
   "execution_count": 23,
   "metadata": {},
   "outputs": [
    {
     "data": {
      "text/plain": [
       "1"
      ]
     },
     "execution_count": 23,
     "metadata": {},
     "output_type": "execute_result"
    }
   ],
   "source": [
    "min(my_set)"
   ]
  },
  {
   "cell_type": "markdown",
   "metadata": {},
   "source": [
    "#### <font size=+2>`.add()`</font>"
   ]
  },
  {
   "cell_type": "markdown",
   "metadata": {},
   "source": [
    "`add` (as the name suggests) adds an item to the set. As mentioned, sets are unordered, so it doesn't matter where we add it"
   ]
  },
  {
   "cell_type": "code",
   "execution_count": 24,
   "metadata": {},
   "outputs": [
    {
     "name": "stdout",
     "output_type": "stream",
     "text": [
      "set()\n",
      "{1}\n",
      "{1, 2}\n",
      "{1, 2}\n"
     ]
    }
   ],
   "source": [
    "set_x = set()\n",
    "\n",
    "print(set_x)\n",
    "\n",
    "set_x.add(1)\n",
    "\n",
    "print(set_x)\n",
    "\n",
    "set_x.add(2)\n",
    "\n",
    "print(set_x)\n",
    "\n",
    "# if we add 2 again, we see the set does not change, as items in a set are unique\n",
    "\n",
    "set_x.add(2)\n",
    "\n",
    "print(set_x)"
   ]
  },
  {
   "cell_type": "markdown",
   "metadata": {},
   "source": [
    "#### <font size=+1>Mathematical Operations on Sets</font>"
   ]
  },
  {
   "cell_type": "markdown",
   "metadata": {},
   "source": [
    "Sets in Python share the same principles as sets in maths, so you can use the same operations. \n",
    "\n",
    "The most common ones are `Union`, `Intersection`, `Difference`, and `Symmetric Difference`"
   ]
  },
  {
   "cell_type": "markdown",
   "metadata": {},
   "source": [
    "<p align=center><img src=images/sets.png width=400></p>"
   ]
  },
  {
   "cell_type": "markdown",
   "metadata": {},
   "source": [
    "#### <font size=+2>`.union()`</font>"
   ]
  },
  {
   "cell_type": "markdown",
   "metadata": {},
   "source": [
    "`union` essentially takes one set and it will add all its elements to another set"
   ]
  },
  {
   "cell_type": "code",
   "execution_count": 27,
   "metadata": {},
   "outputs": [
    {
     "name": "stdout",
     "output_type": "stream",
     "text": [
      "{'Platypus', 'Koala', 'Dog', 'Cat'}\n",
      "{'Crocodile', 'Koala', 'Hyena', 'Cat'}\n",
      "{'Platypus', 'Crocodile', 'Dog', 'Koala', 'Hyena', 'Cat'}\n"
     ]
    }
   ],
   "source": [
    "set_1 = {'Dog', 'Cat', 'Platypus', 'Koala'}\n",
    "set_2 = {'Crocodile', 'Hyena', 'Koala', 'Cat'}\n",
    "print(set_1)\n",
    "print(set_2)\n",
    "union_set = set_1.union(set_2)\n",
    "print(union_set)"
   ]
  },
  {
   "cell_type": "markdown",
   "metadata": {},
   "source": [
    "Once again, the obtained set doesn't contain repeated values"
   ]
  },
  {
   "cell_type": "markdown",
   "metadata": {},
   "source": [
    "#### <font size=+2>`.intersection()`</font>"
   ]
  },
  {
   "cell_type": "markdown",
   "metadata": {},
   "source": [
    "`intersection` returns a set containing the items common in both sets"
   ]
  },
  {
   "cell_type": "code",
   "execution_count": 28,
   "metadata": {},
   "outputs": [
    {
     "name": "stdout",
     "output_type": "stream",
     "text": [
      "{'Koala', 'Cat'}\n"
     ]
    }
   ],
   "source": [
    "inter_set = set_1.intersection(set_2)\n",
    "print(inter_set)"
   ]
  },
  {
   "cell_type": "markdown",
   "metadata": {},
   "source": [
    "#### <font size=+2>`.difference()`</font>"
   ]
  },
  {
   "cell_type": "markdown",
   "metadata": {},
   "source": [
    "`difference` returns a set with the items that are in `set_1` but not in `set_2`"
   ]
  },
  {
   "cell_type": "code",
   "execution_count": null,
   "metadata": {},
   "outputs": [],
   "source": [
    "# a.difference(b) returns the items in a that are NOT in b\n",
    "differ_set = set_1.difference(set_2)\n",
    "print(differ_set)"
   ]
  },
  {
   "cell_type": "markdown",
   "metadata": {},
   "source": [
    "#### <font size=+2>`.symmetric_difference()`</font>"
   ]
  },
  {
   "cell_type": "markdown",
   "metadata": {},
   "source": [
    "`symmetric_difference` returns a set with the items that are in `set_1` and `set_2`, but without the items that are in BOTH"
   ]
  },
  {
   "cell_type": "code",
   "execution_count": 31,
   "metadata": {},
   "outputs": [
    {
     "name": "stdout",
     "output_type": "stream",
     "text": [
      "{'Crocodile', 'Platypus', 'Dog', 'Hyena'}\n"
     ]
    }
   ],
   "source": [
    "differ_set = set_1.symmetric_difference(set_2)\n",
    "print(differ_set)"
   ]
  },
  {
   "cell_type": "markdown",
   "metadata": {},
   "source": [
    "## Summary\n",
    "We now understand:\n",
    "- The nature of lists, and sets.\n",
    "- The basic concept of mutability.\n",
    "<br><br>\n",
    "\n",
    "We now know:\n",
    "- How to index and slice lists.\n",
    "- List functions and methods including len(), .append(), .extend() etc.\n",
    "- How to use a set to find the unique values in a list.\n",
    "\n",
    "<br>\n",
    "\n",
    "Please use this notebook as a reference, and refer to the links below for more information.\n",
    "\n",
    "## Further reading\n",
    "- List methods: https://docs.python.org/3/tutorial/datastructures.html\n",
    "- Sets: https://docs.python.org/3/library/stdtypes.html#set"
   ]
  }
 ],
 "metadata": {
  "interpreter": {
   "hash": "3d597f4c481aa0f25dceb95d2a0067e73c0966dcbd003d741d821a7208527ecf"
  },
  "kernelspec": {
   "display_name": "Python 3.9.1 64-bit ('base': conda)",
   "name": "python3"
  },
  "language_info": {
   "codemirror_mode": {
    "name": "ipython",
    "version": 3
   },
   "file_extension": ".py",
   "mimetype": "text/x-python",
   "name": "python",
   "nbconvert_exporter": "python",
   "pygments_lexer": "ipython3",
   "version": "3.9.12 (main, Apr  5 2022, 01:52:34) \n[Clang 12.0.0 ]"
  }
 },
 "nbformat": 4,
 "nbformat_minor": 4
}
