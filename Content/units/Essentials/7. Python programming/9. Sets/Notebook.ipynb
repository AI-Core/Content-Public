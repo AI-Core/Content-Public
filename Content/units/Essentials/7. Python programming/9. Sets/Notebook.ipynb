{
 "cells": [
  {
   "attachments": {},
   "cell_type": "markdown",
   "metadata": {},
   "source": [
    "# Sets"
   ]
  },
  {
   "attachments": {},
   "cell_type": "markdown",
   "metadata": {},
   "source": [
    "Sets are an essential data structure in programming that allow you to store a collection of unique elements. A set is an unordered collection, which means that the elements are not stored in any particular order. The primary purpose of sets is to group related elements together and perform various operations on them."
   ]
  },
  {
   "attachments": {},
   "cell_type": "markdown",
   "metadata": {},
   "source": [
    "## Motivation\n",
    "\n",
    "Welcome to your journey of learning about sets in programming! Let's explore the key reasons why learning about sets is valuable:\n",
    "- **Uniqueness and Deduplication**: Sets ensure that each element appears only once, making them valuable for tasks such as removing duplicates from a collection or finding unique elements in data. They help you work with distinct and non-repetitive data, which is important for many programming tasks.\n",
    "\n",
    "- **Efficient Membership Testing**: Sets are super fast when it comes to checking if something is part of the group or not, which makes them perfect when you need to quickly find out if something is already in a group or not.\n",
    "\n",
    "- **Mathematical Set Operations**: Sets support various mathematical operations. You can combine sets, compare them, or even take away some things from one set to make a new one."
   ]
  },
  {
   "attachments": {},
   "cell_type": "markdown",
   "metadata": {},
   "source": [
    "## Characteristics of Sets\n",
    "\n",
    "Sets have two primary characteristics: \n",
    "- **Unique Elements**: A set does not allow duplicate elements. Each element in a set is unique, meaning that it appears only once. If you attempt to add a duplicate element to a set, it will be ignored.\n",
    "- **Unordered Nature**: The elements in a set are not stored in a specific order. Unlike lists or tuples, where the order of elements is significant, sets are not concerned with the sequence of elements. This characteristic allows sets to be efficient in performing operations like membership checks and eliminating duplicates.\n"
   ]
  },
  {
   "attachments": {},
   "cell_type": "markdown",
   "metadata": {},
   "source": [
    "## Set Notation\n",
    "\n",
    "In Python, you can create sets using curly braces `{}` or the `set()` constructor.\n",
    "\n",
    "Creating a set using the `set()` constructor looks like this:"
   ]
  },
  {
   "cell_type": "code",
   "execution_count": null,
   "metadata": {},
   "outputs": [],
   "source": [
    "my_set = set([1, 2, 3, 4, 4, 4, 6])\n",
    "print(my_set)"
   ]
  },
  {
   "attachments": {},
   "cell_type": "markdown",
   "metadata": {},
   "source": [
    "Observe that in the above example that number `4` appears only once in the set, as an unique entry.\n",
    "\n",
    "Creating a set using curly braces looks like this:"
   ]
  },
  {
   "cell_type": "code",
   "execution_count": null,
   "metadata": {},
   "outputs": [],
   "source": [
    "my_set = {1, 2, 3, 4, 4, 4, 6}\n",
    "print(my_set)"
   ]
  },
  {
   "attachments": {},
   "cell_type": "markdown",
   "metadata": {},
   "source": [
    "> It's important to note that using curly braces `{}` without any elements will create an empty dictionary instead of an empty set. To create an empty set, always use the `set()` constructor.\n",
    "\n",
    "> Trying to index the set will result in a `TypeError` as elements don't have a specific order in a set, as mentioned above."
   ]
  },
  {
   "cell_type": "code",
   "execution_count": null,
   "metadata": {},
   "outputs": [],
   "source": [
    "my_set[1]"
   ]
  },
  {
   "attachments": {},
   "cell_type": "markdown",
   "metadata": {},
   "source": [
    "## Basic Operations on Sets"
   ]
  },
  {
   "attachments": {},
   "cell_type": "markdown",
   "metadata": {},
   "source": [
    "### Adding Elements to a Set\n",
    "\n",
    "To add a single element to a set, use the `add()` method. For example:"
   ]
  },
  {
   "cell_type": "code",
   "execution_count": null,
   "metadata": {},
   "outputs": [],
   "source": [
    "fruits = {\"grape\", \"strawberry\", \"blueberry\"}\n",
    "print(fruits)\n",
    "\n",
    "fruits.add(\"apple\")\n",
    "print(fruits)"
   ]
  },
  {
   "attachments": {},
   "cell_type": "markdown",
   "metadata": {},
   "source": [
    "To add multiple elements to a set, use the `update()` method. For example:"
   ]
  },
  {
   "cell_type": "code",
   "execution_count": null,
   "metadata": {},
   "outputs": [],
   "source": [
    "fruits = {\"grape\", \"strawberry\", \"blueberry\"}\n",
    "print(fruits)\n",
    "\n",
    "fruits.update([\"banana\", \"orange\"])\n",
    "print(fruits)"
   ]
  },
  {
   "attachments": {},
   "cell_type": "markdown",
   "metadata": {},
   "source": [
    "### Removing Elements from a Set\n",
    "\n",
    "To remove a specific element from a set, use the `remove()` method. For example:"
   ]
  },
  {
   "cell_type": "code",
   "execution_count": null,
   "metadata": {},
   "outputs": [],
   "source": [
    "print(fruits)\n",
    "\n",
    "fruits.remove(\"banana\")\n",
    "print(fruits)"
   ]
  },
  {
   "attachments": {},
   "cell_type": "markdown",
   "metadata": {},
   "source": [
    "To remove and return an arbitrary element from a set, use the `pop()` method. For example:"
   ]
  },
  {
   "cell_type": "code",
   "execution_count": null,
   "metadata": {},
   "outputs": [],
   "source": [
    "print(fruits)\n",
    "\n",
    "popped_element = fruits.pop()\n",
    "print(popped_element)\n",
    "print(fruits)"
   ]
  },
  {
   "attachments": {},
   "cell_type": "markdown",
   "metadata": {},
   "source": [
    "### Checking Membership in a Set\n",
    "\n",
    "To check if an element is/is not present in a set, use the `in`/`not in` keyword. For example:"
   ]
  },
  {
   "cell_type": "code",
   "execution_count": null,
   "metadata": {},
   "outputs": [],
   "source": [
    "print(\"apple\" in fruits)\n",
    "print(\"apple\" not in fruits)"
   ]
  },
  {
   "attachments": {},
   "cell_type": "markdown",
   "metadata": {},
   "source": [
    "### Finding the Length of a Set\n",
    "\n",
    "We can retrieve the number of elements in a set using the `len` method, just like in a list:"
   ]
  },
  {
   "cell_type": "code",
   "execution_count": null,
   "metadata": {},
   "outputs": [],
   "source": [
    "my_set = {1, 5, 3, 6, 7, 5, 4, 5, 5, 5, 6}\n",
    "len(my_set)"
   ]
  },
  {
   "attachments": {},
   "cell_type": "markdown",
   "metadata": {},
   "source": [
    "### Finding the Minimum and Maximum in a Set\n",
    "\n",
    "We can retrieve the minimum and maximum value in the set using the `min` and the `max` functions:"
   ]
  },
  {
   "cell_type": "code",
   "execution_count": null,
   "metadata": {},
   "outputs": [],
   "source": [
    "print(min(my_set))\n",
    "print(max(my_set))"
   ]
  },
  {
   "attachments": {},
   "cell_type": "markdown",
   "metadata": {},
   "source": [
    "## Set Operations"
   ]
  },
  {
   "attachments": {},
   "cell_type": "markdown",
   "metadata": {},
   "source": [
    "Sets in Python share the same principles as sets in mathematics and can support the same operations. The most common ones are `Union`, `Intersection`, `Difference`, and `Symmetric Difference`."
   ]
  },
  {
   "cell_type": "markdown",
   "metadata": {},
   "source": [
    "<p align=center><img src=images/sets.png width=400></p>"
   ]
  },
  {
   "attachments": {},
   "cell_type": "markdown",
   "metadata": {},
   "source": [
    "### `.union()`\n",
    "\n",
    "The union of two sets is a new set that contains all the unique elements from both sets. In Python, you can find the union of sets using the `union()` method or the `|` operator. For example:"
   ]
  },
  {
   "cell_type": "code",
   "execution_count": null,
   "metadata": {},
   "outputs": [],
   "source": [
    "set1 = {1, 2, 3}\n",
    "set2 = {3, 4, 5}\n",
    "union_set = set1.union(set2)\n",
    "print(union_set)\n",
    "# Output: {1, 2, 3, 4, 5}\n",
    "\n",
    "# Using the '|' operator:\n",
    "union_set = set1 | set2\n",
    "print(union_set)\n",
    "# Output: {1, 2, 3, 4, 5}\n"
   ]
  },
  {
   "attachments": {},
   "cell_type": "markdown",
   "metadata": {},
   "source": [
    "### `.intersection()`\n",
    "\n",
    "The intersection of two sets is a new set that contains the common elements present in both sets. In Python, you can find the intersection of sets using the `intersection()` method or the `&` operator. For example:"
   ]
  },
  {
   "cell_type": "code",
   "execution_count": null,
   "metadata": {},
   "outputs": [],
   "source": [
    "set1 = {1, 2, 3}\n",
    "set2 = {3, 4, 5}\n",
    "intersection_set = set1.intersection(set2)\n",
    "print(intersection_set)\n",
    "# Output: {3}\n",
    "\n",
    "# Using the '&' operator:\n",
    "intersection_set = set1 & set2\n",
    "intersection_set = set1.intersection(set2)\n",
    "# Output: {3}\n"
   ]
  },
  {
   "attachments": {},
   "cell_type": "markdown",
   "metadata": {},
   "source": [
    "### `.difference()`\n",
    "\n",
    "The difference between two sets is a new set that contains the elements present in the first set but not in the second set. In Python, you can find the difference between sets using the `difference()` method or the `-` operator. For example:"
   ]
  },
  {
   "cell_type": "code",
   "execution_count": null,
   "metadata": {},
   "outputs": [],
   "source": [
    "set1 = {1, 2, 3}\n",
    "set2 = {3, 4, 5}\n",
    "difference_set = set1.difference(set2)\n",
    "print(difference_set)\n",
    "# Output: {1, 2}\n",
    "\n",
    "# Using the '-' operator:\n",
    "difference_set = set1 - set2\n",
    "print(difference_set)\n",
    "# Output: {1, 2}\n"
   ]
  },
  {
   "attachments": {},
   "cell_type": "markdown",
   "metadata": {},
   "source": [
    "### `.symmetric_difference()`\n",
    "\n",
    "The symmetric difference between two sets is a new set that contains the elements that are present in either of the sets but not in both. In Python, you can find the symmetric difference between sets using the `symmetric_difference()` method or the `^` operator. For example:"
   ]
  },
  {
   "cell_type": "code",
   "execution_count": null,
   "metadata": {},
   "outputs": [],
   "source": [
    "set1 = {1, 2, 3}\n",
    "set2 = {3, 4, 5}\n",
    "symmetric_difference_set = set1.symmetric_difference(set2)\n",
    "print(symmetric_difference_set)\n",
    "# Output: {1, 2, 4, 5}\n",
    "\n",
    "# Using the '^' operator:\n",
    "symmetric_difference_set = set1 ^ set2\n",
    "print(symmetric_difference_set)\n",
    "# Output: {1, 2, 4, 5}\n"
   ]
  },
  {
   "attachments": {},
   "cell_type": "markdown",
   "metadata": {},
   "source": [
    "### Subset and Superset Relationships\n",
    "\n",
    "In set theory, one set can be a subset or superset of another set. A set is considered a subset if all its elements are present in the other set. Conversely, a set is considered a superset if it contains all the elements of the other set. In Python, you can check subset and superset relationships using the `issubset()` and `issuperset()` methods, which will return a Boolean value. For example:"
   ]
  },
  {
   "cell_type": "code",
   "execution_count": null,
   "metadata": {},
   "outputs": [],
   "source": [
    "set1 = {1, 2, 3}\n",
    "set2 = {1, 2, 3, 4, 5}\n",
    "\n",
    "set1_subset_of_set2 = set1.issubset(set2)\n",
    "print(set1_subset_of_set2)\n",
    "# Output: True\n",
    "\n",
    "set2_superset_of_set1 = set2.issuperset(set1)\n",
    "print(set2_superset_of_set1)\n",
    "# Output: True\n"
   ]
  },
  {
   "attachments": {},
   "cell_type": "markdown",
   "metadata": {},
   "source": [
    "### Disjoint Sets\n",
    "\n",
    "Two sets are considered disjoint if they have no common elements. In Python, you can check if two sets are disjoint using the `isdisjoint()` method, which also returns a Boolean value. For example:"
   ]
  },
  {
   "cell_type": "code",
   "execution_count": null,
   "metadata": {},
   "outputs": [],
   "source": [
    "set1 = {1, 2, 3}\n",
    "set2 = {4, 5, 6}\n",
    "\n",
    "are_disjoint = set1.isdisjoint(set2)\n",
    "print(are_disjoint)\n",
    "# Output: True\n"
   ]
  },
  {
   "attachments": {},
   "cell_type": "markdown",
   "metadata": {},
   "source": [
    "## Key Takeaways\n",
    "\n",
    "- Sets in Python are an unordered collection of unique elements\n",
    "- Sets do not maintain any specific order of elements\n",
    "- Sets automatically eliminate duplicate elements\n",
    "- Sets can be created using curly braces `{}` or the `set()` constructor\n",
    "- Basic operations on sets include adding elements with `add()` and `update()`, removing elements with `remove()` and `pop()`, checking membership with the `in` keyword, and finding the length with `len()`\n",
    "- Set operations include finding the union of sets with `union()` or `|`, the intersection with `intersection()` or `&`, the difference with `difference()` or `-`, the symmetric difference with `symmetric_difference()` or `^`, and checking subset and superset relationships with `issubset()` and `issuperset()`"
   ]
  }
 ],
 "metadata": {
  "interpreter": {
   "hash": "3d597f4c481aa0f25dceb95d2a0067e73c0966dcbd003d741d821a7208527ecf"
  },
  "kernelspec": {
   "display_name": "Python 3.9.1 64-bit ('base': conda)",
   "name": "python3"
  },
  "language_info": {
   "codemirror_mode": {
    "name": "ipython",
    "version": 3
   },
   "file_extension": ".py",
   "mimetype": "text/x-python",
   "name": "python",
   "nbconvert_exporter": "python",
   "pygments_lexer": "ipython3",
   "version": "3.9.2"
  }
 },
 "nbformat": 4,
 "nbformat_minor": 4
}
