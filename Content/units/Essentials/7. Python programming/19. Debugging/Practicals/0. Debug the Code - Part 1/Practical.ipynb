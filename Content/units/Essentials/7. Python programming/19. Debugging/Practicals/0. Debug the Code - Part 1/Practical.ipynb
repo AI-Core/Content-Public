{
 "cells": [
  {
   "cell_type": "markdown",
   "id": "a99e436f",
   "metadata": {},
   "source": [
    "# Debug the Code - Part 1"
   ]
  },
  {
   "cell_type": "markdown",
   "id": "825fdbe1",
   "metadata": {},
   "source": [
    "#### 1. Download the following [file](https://aicore-files.s3.amazonaws.com/Debugging/to_debug_1.py)"
   ]
  },
  {
   "cell_type": "code",
   "execution_count": null,
   "id": "f03681e9",
   "metadata": {},
   "outputs": [],
   "source": []
  },
  {
   "cell_type": "markdown",
   "id": "a314e69d",
   "metadata": {},
   "source": [
    "#### 2. Run the script to find the errors"
   ]
  },
  {
   "cell_type": "code",
   "execution_count": null,
   "id": "c653c8fb",
   "metadata": {},
   "outputs": [],
   "source": []
  },
  {
   "cell_type": "markdown",
   "id": "95b490e0",
   "metadata": {},
   "source": [
    "#### 3. Debug it, so it can run with no errors"
   ]
  },
  {
   "cell_type": "code",
   "execution_count": null,
   "id": "280ac613",
   "metadata": {},
   "outputs": [],
   "source": []
  },
  {
   "cell_type": "markdown",
   "id": "cf6662ff",
   "metadata": {},
   "source": [
    "#### 4. The expected output after debugging it can be seen in this [file](https://aicore-files.s3.amazonaws.com/Debugging/expected_output_1.txt)"
   ]
  },
  {
   "cell_type": "code",
   "execution_count": null,
   "id": "815cde88",
   "metadata": {},
   "outputs": [],
   "source": []
  }
 ],
 "metadata": {},
 "nbformat": 4,
 "nbformat_minor": 5
}
