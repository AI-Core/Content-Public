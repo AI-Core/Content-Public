{
 "cells": [
  {
   "cell_type": "markdown",
   "id": "9bc8f8a4",
   "metadata": {},
   "source": [
    "# Debug the Code - Part 2"
   ]
  },
  {
   "attachments": {},
   "cell_type": "markdown",
   "id": "314f29d0",
   "metadata": {},
   "source": [
    "#### 1. Run `to_debug.py` to find the errors"
   ]
  },
  {
   "cell_type": "code",
   "execution_count": null,
   "id": "23b0e6b2",
   "metadata": {},
   "outputs": [],
   "source": []
  },
  {
   "attachments": {},
   "cell_type": "markdown",
   "id": "21497664",
   "metadata": {},
   "source": [
    "#### 2. Debug it, so it can run with no errors"
   ]
  },
  {
   "cell_type": "code",
   "execution_count": null,
   "id": "303e5068",
   "metadata": {},
   "outputs": [],
   "source": []
  },
  {
   "attachments": {},
   "cell_type": "markdown",
   "id": "d128bb3f",
   "metadata": {},
   "source": [
    "#### 3. The expected output after debugging it can be seen in the `expected_output.txt` file"
   ]
  }
 ],
 "metadata": {
  "kernelspec": {
   "display_name": "content-projects_new",
   "language": "python",
   "name": "python3"
  },
  "language_info": {
   "codemirror_mode": {
    "name": "ipython",
    "version": 3
   },
   "file_extension": ".py",
   "mimetype": "text/x-python",
   "name": "python",
   "nbconvert_exporter": "python",
   "pygments_lexer": "ipython3",
   "version": "3.10.8"
  },
  "vscode": {
   "interpreter": {
    "hash": "4b961f8166aad6ccb4cf65d0f9c742ef9c6c23ffe83ad932438cd83ed96aebaf"
   }
  }
 },
 "nbformat": 4,
 "nbformat_minor": 5
}
