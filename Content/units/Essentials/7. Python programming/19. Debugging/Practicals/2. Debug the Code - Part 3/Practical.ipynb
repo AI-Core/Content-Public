{
 "cells": [
  {
   "cell_type": "markdown",
   "id": "c92f4159",
   "metadata": {},
   "source": [
    "# Debug the Code - Part 3"
   ]
  },
  {
   "attachments": {},
   "cell_type": "markdown",
   "id": "fa436326",
   "metadata": {},
   "source": [
    "#### 1. Run `to_debug.py` to find the errors"
   ]
  },
  {
   "cell_type": "code",
   "execution_count": null,
   "id": "c6d8107e",
   "metadata": {},
   "outputs": [],
   "source": []
  },
  {
   "attachments": {},
   "cell_type": "markdown",
   "id": "e99ff0f3",
   "metadata": {},
   "source": [
    "#### 2. Debug it, so it can run with no errors"
   ]
  },
  {
   "cell_type": "code",
   "execution_count": null,
   "id": "c574467e",
   "metadata": {},
   "outputs": [],
   "source": []
  },
  {
   "attachments": {},
   "cell_type": "markdown",
   "id": "5a5c6937",
   "metadata": {},
   "source": [
    "#### 3. The expected output after debugging it can be seen in `expected_output.txt`\n",
    "\n",
    "Extra points if you can also fix the code style errors. Take a look at this [link](https://www.python.org/dev/peps/pep-0008/) to learn more about coding style."
   ]
  },
  {
   "cell_type": "code",
   "execution_count": null,
   "id": "bfa4ee43",
   "metadata": {},
   "outputs": [],
   "source": []
  }
 ],
 "metadata": {
  "kernelspec": {
   "display_name": "content-projects_new",
   "language": "python",
   "name": "python3"
  },
  "language_info": {
   "codemirror_mode": {
    "name": "ipython",
    "version": 3
   },
   "file_extension": ".py",
   "mimetype": "text/x-python",
   "name": "python",
   "nbconvert_exporter": "python",
   "pygments_lexer": "ipython3",
   "version": "3.10.8"
  },
  "vscode": {
   "interpreter": {
    "hash": "4b961f8166aad6ccb4cf65d0f9c742ef9c6c23ffe83ad932438cd83ed96aebaf"
   }
  }
 },
 "nbformat": 4,
 "nbformat_minor": 5
}
