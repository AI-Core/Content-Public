{
 "cells": [
  {
   "attachments": {},
   "cell_type": "markdown",
   "metadata": {},
   "source": [
    "# Debugging and Error Types"
   ]
  },
  {
   "attachments": {},
   "cell_type": "markdown",
   "metadata": {},
   "source": [
    "## True or False: Calling the `print` method in a list `my_list.print()` will throw an `AttributeError`.\n",
    "\n",
    "- True ***\n",
    "- False"
   ]
  },
  {
   "attachments": {},
   "cell_type": "markdown",
   "metadata": {},
   "source": [
    "## Which error is raised when an I/O operation (like opening a file) fails for a reason unrelated to the file not being found?\n",
    "\n",
    "- `FileNotFoundError`\n",
    "- `OSError` ***\n",
    "- `IOError`\n",
    "- `ValueError`"
   ]
  },
  {
   "attachments": {},
   "cell_type": "markdown",
   "metadata": {},
   "source": [
    "## What type of error occurs when trying to access a non-existing index of a list?\n",
    "\n",
    "- `KeyError`\n",
    "- `IndexError` ***\n",
    "- `AttributeError`\n",
    "- `ValueError`\n"
   ]
  },
  {
   "attachments": {},
   "cell_type": "markdown",
   "metadata": {},
   "source": [
    "## What type of error occurs when trying to call an undefined function or method?\n",
    "\n",
    "- `SyntaxError`\n",
    "- `NameError` ***\n",
    "- `AttributeError`\n",
    "- `TypeError`\n"
   ]
  },
  {
   "attachments": {},
   "cell_type": "markdown",
   "metadata": {},
   "source": [
    "## What error occurs if the code attempts to iterate over an integer variable?\n",
    "\n",
    "- `ValueError`\n",
    "- `AttributeError`\n",
    "- `TypeError` ***\n",
    "- `NameError`\n"
   ]
  },
  {
   "attachments": {},
   "cell_type": "markdown",
   "metadata": {},
   "source": [
    "## Given the code below, what error will occur when trying to access `my_dict['cats']` ?\n",
    "\n",
    "```python\n",
    "\n",
    "my_dict =   {'name': 'Tim',\n",
    "             'occupation': 'engineer',\n",
    "             'dogs': 2 }\n",
    "\n",
    "my_dict['cats']\n",
    "```\n",
    "\n",
    "- `IndexError`\n",
    "- `KeyError` ***\n",
    "- `AttributeError`\n",
    "- `ValueError`\n",
    "\n"
   ]
  },
  {
   "attachments": {},
   "cell_type": "markdown",
   "metadata": {},
   "source": [
    "## What error would occur when attempting to run the following code block?\n",
    "\n",
    "```python\n",
    "def my_function():\n",
    "    print(\"Hello from a function)\"\n",
    "```\n",
    "\n",
    "- `SyntaxError` ***\n",
    "- `NameError`\n",
    "- `KeyError`\n",
    "- `IndexError`\n",
    "\n"
   ]
  },
  {
   "attachments": {},
   "cell_type": "markdown",
   "metadata": {},
   "source": [
    "## What error is raised when a function is called with an incorrect number of arguments?\n",
    "\n",
    "- `AttributeError`\n",
    "- `IndexError`\n",
    "- `TypeError` ***\n",
    "- `ValueError`\n"
   ]
  }
 ],
 "metadata": {
  "kernelspec": {
   "display_name": "huggingface1",
   "language": "python",
   "name": "python3"
  },
  "language_info": {
   "codemirror_mode": {
    "name": "ipython",
    "version": 3
   },
   "file_extension": ".py",
   "mimetype": "text/x-python",
   "name": "python",
   "nbconvert_exporter": "python",
   "pygments_lexer": "ipython3",
   "version": "3.10.8"
  },
  "orig_nbformat": 4
 },
 "nbformat": 4,
 "nbformat_minor": 2
}
