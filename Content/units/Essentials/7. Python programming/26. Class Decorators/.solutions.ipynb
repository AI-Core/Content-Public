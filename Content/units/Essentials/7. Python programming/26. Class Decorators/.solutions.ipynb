{
 "cells": [
  {
   "cell_type": "code",
   "execution_count": 5,
   "metadata": {},
   "outputs": [],
   "source": [
    "class Temperature:\n",
    "    def __init__(self, temp_celcius):\n",
    "        self.temp_celcius = temp_celcius\n",
    "\n",
    "    def convert_temp_to_fahrenheit(self):\n",
    "        return (self.temp_celcius *1.8) + 32\n",
    "\n",
    "    @staticmethod\n",
    "    def convert_fahrenheit_to_cel(temp_fah):\n",
    "        return (temp_fah - 32) * 1.8\n",
    "\n",
    "    @staticmethod\n",
    "    def check_valid_temp(temp):\n",
    "        if -273 <= temp <= 3000:\n",
    "            print(\"This is a valid tempature\")\n",
    "    \n",
    "    @classmethod\n",
    "    def create_with_fahrenheit(cls, tempature):\n",
    "        return cls(Temperature.convert_fahrenheit_to_cel(tempature))\n",
    "    \n",
    "    @classmethod\n",
    "    def standard(cls):\n",
    "        return cls(0)\n",
    "\n",
    "    def __repr__(self) -> str:\n",
    "        temp = str(self.temp_celcius)\n",
    "        return temp\n"
   ]
  },
  {
   "cell_type": "code",
   "execution_count": 10,
   "metadata": {},
   "outputs": [
    {
     "name": "stdout",
     "output_type": "stream",
     "text": [
      "This is a valid tempature\n"
     ]
    }
   ],
   "source": [
    "new_standard = Temperature.standard()"
   ]
  }
 ],
 "metadata": {
  "kernelspec": {
   "display_name": "base",
   "language": "python",
   "name": "python3"
  },
  "language_info": {
   "codemirror_mode": {
    "name": "ipython",
    "version": 3
   },
   "file_extension": ".py",
   "mimetype": "text/x-python",
   "name": "python",
   "nbconvert_exporter": "python",
   "pygments_lexer": "ipython3",
   "version": "3.10.9"
  },
  "orig_nbformat": 4,
  "vscode": {
   "interpreter": {
    "hash": "a2592652612463181e69ac003232387e3e9a99279aa6b168e76f5df16d5110f4"
   }
  }
 },
 "nbformat": 4,
 "nbformat_minor": 2
}
