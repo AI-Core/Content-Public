{
 "cells": [
  {
   "attachments": {},
   "cell_type": "markdown",
   "metadata": {},
   "source": [
    "# Class Decorators"
   ]
  },
  {
   "attachments": {},
   "cell_type": "markdown",
   "metadata": {},
   "source": [
    "## Which of the following is true about class methods?\n",
    "\n",
    "- The first argument of class methods, by convention, is `self`\n",
    "- Class methods are called from an instance of the class\n",
    "- The first argument of class methods is canonically given the name `cls` ***\n",
    "- The first argument of class methods represents \"this instance of the class\"\n",
    "- The first argument of class methods represents \"the class that defines this method\" ***\n",
    "- Class methods can be implemented with the `@classmethod` decorator ***\n"
   ]
  },
  {
   "attachments": {},
   "cell_type": "markdown",
   "metadata": {},
   "source": [
    "## Which of following are true about static methods? Select all that apply.\n",
    "\n",
    "- The first argument of static methods, by convention, is `self`\n",
    "- Like all other methods, static methods get passed an extra argument under the hood in the first argument position\n",
    "- It is not possible to call a static method from an instance of a class\n",
    "- Static methods can be called without having to create an instance of the class ***\n",
    "- Static methods are bound to both the class and any instances of it ***\n"
   ]
  },
  {
   "attachments": {},
   "cell_type": "markdown",
   "metadata": {},
   "source": [
    "## If static methods could simply be a function, why are they contained within a class?\n",
    "\n",
    "- The functionality they provide relates to the class, so they should be encapsulated within the class ***\n",
    "- If they were defined outside the class as a function then we wouldn't be able to use their functionality\n",
    "- They change the state of the class in some way so should be defined inside the class\n",
    "- We can't use the `@staticmethod` decorator outside the class"
   ]
  }
 ],
 "metadata": {
  "kernelspec": {
   "display_name": "base",
   "language": "python",
   "name": "python3"
  },
  "language_info": {
   "name": "python",
   "version": "3.10.9"
  },
  "orig_nbformat": 4,
  "vscode": {
   "interpreter": {
    "hash": "a2592652612463181e69ac003232387e3e9a99279aa6b168e76f5df16d5110f4"
   }
  }
 },
 "nbformat": 4,
 "nbformat_minor": 2
}
