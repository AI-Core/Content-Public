{
 "cells": [
  {
   "attachments": {},
   "cell_type": "markdown",
   "metadata": {},
   "source": [
    "# Class Decorators"
   ]
  },
  {
   "attachments": {},
   "cell_type": "markdown",
   "metadata": {},
   "source": [
    "## Which of the following methods can the property decorator add to an attribute? Select all that apply.\n",
    "\n",
    "- getter ***\n",
    "- creator\n",
    "- iterator\n",
    "- setter ***\n",
    "- updater\n",
    "- deleter ***"
   ]
  },
  {
   "attachments": {},
   "cell_type": "markdown",
   "metadata": {},
   "source": [
    "## Which of the following is true about class methods?\n",
    "\n",
    "- The first argument of class methods, by convention, is `self`\n",
    "- Class methods are called from an instance of the class\n",
    "- The first argument of class methods is canonically given the name `cls` ***\n",
    "- The first argument of class methods represents \"this instance of the class\"\n",
    "- The first argument of class methods represents \"the class that defines this method\" ***\n",
    "- Class methods can be implemented with the `@classmethod` decorator ***\n"
   ]
  },
  {
   "attachments": {},
   "cell_type": "markdown",
   "metadata": {},
   "source": [
    "## Which of following are true about static methods? Select all that apply.\n",
    "\n",
    "- The first argument of static methods, by convention, is `self`\n",
    "- Like all other methods, static methods get passed an extra argument under the hood in the first argument position\n",
    "- Static methods can be called without having to instantiate an object ***\n",
    "- Static methods can be called within a class method ***\n",
    "- Static methods can be accessed as attributes of `self` ***\n",
    "- Static methods are bound to both the class and any instances of it ***\n"
   ]
  },
  {
   "attachments": {},
   "cell_type": "markdown",
   "metadata": {},
   "source": [
    "## What of the following provide motivation for using class methods? Select all that apply.\n",
    "\n",
    "- To print out a representation of the class \n",
    "- Adding convenient ways to create a class *** \n",
    "- To fully remove the `self` keyword from the class\n",
    "- Creating the class from a different data type than the one given in the constructor E.g. MyDate.fromString() ***"
   ]
  },
  {
   "attachments": {},
   "cell_type": "markdown",
   "metadata": {},
   "source": [
    "## If static methods could simply be a function, why are they contained within a class?\n",
    "\n",
    "- The functionality they provide relates to the class, so they should be encapsulated within the class ***\n",
    "- If they were defined outside the class as a function then we wouldn't be able to use their functionality\n",
    "- They change the state of the class in some way so should be defined inside the class\n",
    "- We can't use the `@staticmethod` decorator outside the class"
   ]
  },
  {
   "attachments": {},
   "cell_type": "markdown",
   "metadata": {},
   "source": [
    "## Which of the following statements is true about the `@dataclass` decorator? Select all that apply.\n",
    "\n",
    "- The `dataclass` decorator makes it easier to define classes ***\n",
    "- The `dataclass` decorator comes with extra functionality by adding the `__init__`, `__repr__` methods without having to define them ***\n",
    "- It makes the code quicker and less error prone\n",
    "- We can't define a class without the `dataclass` decorator\n",
    "- Some data type can only be defined with the `dataclass` decorator"
   ]
  },
  {
   "attachments": {},
   "cell_type": "markdown",
   "metadata": {},
   "source": [
    "## What is the motivation for using the `@property` decorator? Select all that apply.\n",
    "\n",
    "- They can help encapsulate your attributes inside your class ***\n",
    "- The provide security from your attribute since you can define whether they are accessible outside the class ***\n",
    "- The add some extra functionality or validation to your attributes ***\n",
    "- They are required to be implemented when creating your class\n",
    "- They make the class run quicker \n",
    "- They allow you to implement magic methods within your class"
   ]
  }
 ],
 "metadata": {
  "kernelspec": {
   "display_name": "base",
   "language": "python",
   "name": "python3"
  },
  "language_info": {
   "name": "python",
   "version": "3.10.9"
  },
  "orig_nbformat": 4,
  "vscode": {
   "interpreter": {
    "hash": "a2592652612463181e69ac003232387e3e9a99279aa6b168e76f5df16d5110f4"
   }
  }
 },
 "nbformat": 4,
 "nbformat_minor": 2
}
