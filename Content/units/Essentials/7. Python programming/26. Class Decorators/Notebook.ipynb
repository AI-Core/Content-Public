{
 "cells": [
  {
   "cell_type": "markdown",
   "metadata": {},
   "source": [
    "# Class Decorators"
   ]
  },
  {
   "cell_type": "markdown",
   "metadata": {},
   "source": [
    "## Introduction\n",
    ">Decorators are very useful tools for organising code. A decorator is a function that is used to add functionality to a function, method, or even class. \n",
    "\n",
    "In this notebook, we will explore the most common and useful decorators. Note that since some decorators were covered in previous notebooks, we will not go over them in detail here."
   ]
  },
  {
   "cell_type": "markdown",
   "metadata": {},
   "source": [
    "## Class Methods"
   ]
  },
  {
   "cell_type": "markdown",
   "metadata": {},
   "source": [
    "Class methods are methods that can be called from a class, rather than an instance. By now, you should be familiar with pandas and how to read a dictionary."
   ]
  },
  {
   "cell_type": "code",
   "execution_count": null,
   "metadata": {},
   "outputs": [],
   "source": [
    "import pandas as pd\n",
    "my_dict = {'Name': ['Rick', 'Morty', 'Summer'], 'Last Name': ['Sanchez', 'Smith', 'Smith'], 'Age': [70, 14, 17]}\n",
    "df = pd.DataFrame.from_dict(my_dict)\n",
    "print(df)"
   ]
  },
  {
   "cell_type": "markdown",
   "metadata": {},
   "source": [
    "`DataFrame` is a class and not an instance; however, a method can be called from it. This is because `from_dict` is a class method. Class methods are very useful for creating an instance if you know that the user may have different data types when creating the instance. Additionally, they are very helpful for creating an instance whose initial values are known.\n",
    "\n",
    "> Class methods are methods that are called from a class rather than an instance."
   ]
  },
  {
   "cell_type": "markdown",
   "metadata": {},
   "source": [
    "To implement a class method, we use the __decorator,__ @classmethod."
   ]
  },
  {
   "cell_type": "code",
   "execution_count": null,
   "metadata": {},
   "outputs": [],
   "source": [
    "from datetime import datetime\n",
    "\n",
    "class Date(object):\n",
    "\n",
    "    def __init__(self, day=0, month=0, year=0):\n",
    "        self.day = day\n",
    "        self.month = month\n",
    "        self.year = year\n",
    "    \n",
    "    def display(self):\n",
    "        return \"{}/{}/{}\".format(self.day, self.month, self.year)\n",
    "\n",
    "    @classmethod\n",
    "    def now(cls):\n",
    "        t = datetime.now()\n",
    "        day = t.day\n",
    "        month = t.month\n",
    "        year = t.year\n",
    "        return cls(day, month, year)\n",
    "        \n",
    "    @classmethod\n",
    "    def from_string(cls, date_as_string):\n",
    "        day, month, year = map(int, date_as_string.split('-'))\n",
    "        date1 = Date(day, month, year)\n",
    "        return date1"
   ]
  },
  {
   "cell_type": "code",
   "execution_count": null,
   "metadata": {},
   "outputs": [],
   "source": [
    "date = Date.now()\n",
    "date.display()\n",
    "print(date.day)"
   ]
  },
  {
   "cell_type": "code",
   "execution_count": null,
   "metadata": {},
   "outputs": [],
   "source": [
    "date_2 = Date('17-08-2021')\n",
    "date_2.display()"
   ]
  },
  {
   "cell_type": "code",
   "execution_count": null,
   "metadata": {},
   "outputs": [],
   "source": [
    "help(__builtins__.classmethod)"
   ]
  },
  {
   "cell_type": "markdown",
   "metadata": {},
   "source": [
    "Notice that for class methods, the first argument is the class itself, as opposed to the case in regular methods, whose first argument is the instance.\n",
    "\n",
    "The `now` class method is an example of a class method where the expected arguments are known prior.\n",
    "\n",
    "The `from_string` class method is an example of a class method where we know that the user might provide a different data type for the arguments.\n",
    "\n",
    "In both cases, the call for the class method skips the `__init__` method, which is usually run first."
   ]
  },
  {
   "cell_type": "code",
   "execution_count": null,
   "metadata": {},
   "outputs": [],
   "source": [
    "class Dummy:\n",
    "    def __init__(self):\n",
    "        print('I am running the constructor')\n",
    "    \n",
    "    @classmethod\n",
    "    def dummy_class_method(cls):\n",
    "        print('I am running the class method')"
   ]
  },
  {
   "cell_type": "code",
   "execution_count": null,
   "metadata": {},
   "outputs": [],
   "source": [
    "Dummy.dummy_class_method()"
   ]
  },
  {
   "cell_type": "markdown",
   "metadata": {},
   "source": [
    "Thus, the constructor is actually run inside the class method because we programmed it to do so.\n",
    "\n",
    "Due to their functionality, class methods can help improve the flexibility of code. Simply ensure that the method is properly documented."
   ]
  },
  {
   "cell_type": "markdown",
   "metadata": {},
   "source": [
    "## Static Methods"
   ]
  },
  {
   "cell_type": "markdown",
   "metadata": {},
   "source": [
    "Static methods are methods that are not bound to an instance or a class. When a static method is called, it is not necessary to pass an instance or a class. Moreover, they act similarly to regular functions.\n",
    "\n",
    "> Static methods are methods that are not bound to an instance or a class. However, they are called from an instance or a class."
   ]
  },
  {
   "cell_type": "code",
   "execution_count": null,
   "metadata": {},
   "outputs": [],
   "source": [
    "from datetime import datetime\n",
    "\n",
    "class Date(object):\n",
    "\n",
    "    def __init__(self, day=0, month=0, year=0):\n",
    "        self.day = day\n",
    "        self.month = month\n",
    "        self.year = year\n",
    "        print('I am in the constructor')\n",
    "    \n",
    "    def display(self):\n",
    "        return \"{}/{}/{}\".format(self.day, self.month, self.year)\n",
    "\n",
    "    @classmethod\n",
    "    def now(cls):\n",
    "        t = datetime.now()\n",
    "        day = t.day\n",
    "        month = t.month\n",
    "        year = t.year\n",
    "        return cls(day, month, year)\n",
    "        \n",
    "    @classmethod\n",
    "    def from_string(cls, date_as_string):\n",
    "        day, month, year = map(int, date_as_string.split('-'))\n",
    "        date1 = cls(day, month, year)\n",
    "        return date1\n",
    "\n",
    "    @staticmethod\n",
    "    def is_date_valid(date_as_string):\n",
    "        day, month, year = map(int, date_as_string.split('-'))\n",
    "        return day <= 31 and month <= 12 and year <= 3999\n",
    "    \n",
    "    @staticmethod\n",
    "    def is_date_future(date_as_string):\n",
    "        day, month, year = map(int, date_as_string.split('-'))\n",
    "        current_date = datetime.now()\n",
    "        current_year = current_date.year\n",
    "        current_day = current_date.day\n",
    "        current_month = current_date.month\n",
    "        if (current_year < year):\n",
    "            return False\n",
    "        elif (current_year == year):\n",
    "            if (current_day < day):\n",
    "                return False\n",
    "            elif (current_day == day):\n",
    "                if (current_month < month):\n",
    "                    return False\n",
    "        return True"
   ]
  },
  {
   "cell_type": "code",
   "execution_count": null,
   "metadata": {},
   "outputs": [],
   "source": [
    "print(Date.is_date_future('29-08-2021'))\n",
    "# now = Date.now()\n",
    "# print(now.is_date_future('29-07-2021'))"
   ]
  },
  {
   "cell_type": "markdown",
   "metadata": {},
   "source": [
    "Observe that the static method does not depend on the instance or the class (we are not using self or cls). However, it must be called from the class or an instance."
   ]
  },
  {
   "cell_type": "markdown",
   "metadata": {},
   "source": [
    "Therefore, static methods apply a type of encapsulation. Whenever you need to access a method related to dates, you can find it in the Date class. \n",
    "\n",
    ">Static methods and class methods promote clean and user-friendly code."
   ]
  },
  {
   "cell_type": "markdown",
   "metadata": {},
   "source": [
    "## Property Decorators"
   ]
  },
  {
   "cell_type": "markdown",
   "metadata": {},
   "source": [
    "Properties decorators add getters and setters for the attributes of a class. Additionally, they are useful for implementing private variables, which, in turn, is a methodology for implementing encapsulation.\n",
    "\n",
    "> Property decorators allow us to keep variables private and add getters and setters for them."
   ]
  },
  {
   "cell_type": "markdown",
   "metadata": {},
   "source": [
    "To implement a property decorator, we first define the attribute in the constructor, following which we use the property decorator to define the getter and setter methods."
   ]
  },
  {
   "cell_type": "code",
   "execution_count": 1,
   "metadata": {},
   "outputs": [],
   "source": [
    "from datetime import datetime\n",
    "\n",
    "class Date(object):\n",
    "\n",
    "    def __init__(self, day=0, month=0, year=0):\n",
    "        self.day = day\n",
    "        self.month = month\n",
    "        self.year = year\n",
    "\n",
    "    @property\n",
    "    def day(self):\n",
    "        print('Getting day value')\n",
    "        return self.__day\n",
    "    \n",
    "    @property\n",
    "    def month(self):\n",
    "        print('Getting month value')\n",
    "        return self.__month\n",
    "    \n",
    "    @property\n",
    "    def year(self):\n",
    "        print('Getting year value')\n",
    "        return self.__year\n",
    "\n",
    "    def display(self):\n",
    "        return \"{}/{}/{}\".format(self.day, self.month, self.year)\n",
    "\n"
   ]
  },
  {
   "cell_type": "markdown",
   "metadata": {},
   "source": [
    "Observe that we need to define a setter to assign values to the attributes. This prevents the user from setting the value of an attribute that is not defined."
   ]
  },
  {
   "cell_type": "code",
   "execution_count": 2,
   "metadata": {},
   "outputs": [
    {
     "ename": "AttributeError",
     "evalue": "can't set attribute 'day'",
     "output_type": "error",
     "traceback": [
      "\u001b[0;31m---------------------------------------------------------------------------\u001b[0m",
      "\u001b[0;31mAttributeError\u001b[0m                            Traceback (most recent call last)",
      "Cell \u001b[0;32mIn[2], line 1\u001b[0m\n\u001b[0;32m----> 1\u001b[0m day \u001b[39m=\u001b[39m Date(\u001b[39m19\u001b[39;49m, \u001b[39m3\u001b[39;49m, \u001b[39m2018\u001b[39;49m)\n",
      "Cell \u001b[0;32mIn[1], line 6\u001b[0m, in \u001b[0;36mDate.__init__\u001b[0;34m(self, day, month, year)\u001b[0m\n\u001b[1;32m      5\u001b[0m \u001b[39mdef\u001b[39;00m \u001b[39m__init__\u001b[39m(\u001b[39mself\u001b[39m, day\u001b[39m=\u001b[39m\u001b[39m0\u001b[39m, month\u001b[39m=\u001b[39m\u001b[39m0\u001b[39m, year\u001b[39m=\u001b[39m\u001b[39m0\u001b[39m):\n\u001b[0;32m----> 6\u001b[0m     \u001b[39mself\u001b[39;49m\u001b[39m.\u001b[39;49mday \u001b[39m=\u001b[39m day\n\u001b[1;32m      7\u001b[0m     \u001b[39mself\u001b[39m\u001b[39m.\u001b[39mmonth \u001b[39m=\u001b[39m month\n\u001b[1;32m      8\u001b[0m     \u001b[39mself\u001b[39m\u001b[39m.\u001b[39myear \u001b[39m=\u001b[39m year\n",
      "\u001b[0;31mAttributeError\u001b[0m: can't set attribute 'day'"
     ]
    }
   ],
   "source": [
    "day = Date(19, 3, 2018)"
   ]
  },
  {
   "cell_type": "code",
   "execution_count": null,
   "metadata": {},
   "outputs": [],
   "source": [
    "from datetime import datetime\n",
    "\n",
    "class Date(object):\n",
    "\n",
    "    def __init__(self, day=0, month=0, year=0):\n",
    "        self.__day = day\n",
    "        self.month = month\n",
    "        self.year = year\n",
    "\n",
    "    @property\n",
    "    def day(self):\n",
    "        print('Getting day value')\n",
    "        return self.__day\n",
    "    \n",
    "    @day.setter\n",
    "    def day(self, day):\n",
    "        print('Setting day value')\n",
    "        if day < 0:\n",
    "            raise ValueError('Day cannot be negative')\n",
    "        self.__day = day\n",
    "    \n",
    "    @property\n",
    "    def month(self):\n",
    "        print('Getting month value')\n",
    "        return self.__month\n",
    "\n",
    "    @month.setter\n",
    "    def month(self, month):\n",
    "        print('Setting month value')\n",
    "        if month < 0:\n",
    "            raise ValueError('Month cannot be negative')\n",
    "        self.__month = month\n",
    "    \n",
    "    @month.deleter\n",
    "    def month(self):\n",
    "        print('Deleting month value')\n",
    "        del self.__month\n",
    "    \n",
    "    @property\n",
    "    def year(self):\n",
    "        print('Getting year value')\n",
    "        return self.__year\n",
    "    \n",
    "    @year.setter\n",
    "    def year(self, year):\n",
    "        print('Setting year value')\n",
    "        if year < 0:\n",
    "            raise ValueError('Year cannot be negative')\n",
    "        self.__year = year\n",
    "\n",
    "\n",
    "    def display(self):\n",
    "        return \"{}/{}/{}\".format(self.day, self.month, self.year)"
   ]
  },
  {
   "cell_type": "code",
   "execution_count": null,
   "metadata": {},
   "outputs": [],
   "source": [
    "day = Date(19, 3, 2018)\n",
    "day.year"
   ]
  },
  {
   "cell_type": "markdown",
   "metadata": {},
   "source": [
    "Observe that we also included the `.deleter` method. Without it, the attribute cannot be deleted."
   ]
  },
  {
   "cell_type": "code",
   "execution_count": null,
   "metadata": {},
   "outputs": [],
   "source": [
    "del day.month"
   ]
  },
  {
   "cell_type": "markdown",
   "metadata": {},
   "source": [
    "## Dataclass"
   ]
  },
  {
   "cell_type": "markdown",
   "metadata": {},
   "source": [
    "Here, we introduce the final decorator: dataclass.\n",
    "\n",
    "This decorator is slightly different from the others. It does not add functionality to the class, but rather, it provides a relatively easy way to create a class. It adds several dunder methods (magic methods) to the class. By default, it will add `__init__`, `__repr__` and `__eq__` methods.\n",
    "\n",
    "> Dataclass makes it easy to create classes by adding a few dunder methods.\n",
    "\n",
    "In this case, the decorator needs to be imported from the dataclass library, and it is used as a decorator on the class."
   ]
  },
  {
   "cell_type": "code",
   "execution_count": null,
   "metadata": {},
   "outputs": [],
   "source": [
    "from dataclasses import dataclass\n",
    "\n",
    "@dataclass(order=True)\n",
    "class Date:\n",
    "    day: int # First positional argument\n",
    "    month: int\n",
    "    year: int\n"
   ]
  },
  {
   "cell_type": "code",
   "execution_count": null,
   "metadata": {},
   "outputs": [],
   "source": [
    "class Date:\n",
    "    \n",
    "    def __init__(self, day, month):\n",
    "        self.day = day\n",
    "        self.month = month\n",
    "\n",
    "    def __eq__(self, other):\n",
    "        return False\n",
    "    \n",
    "    def __lt__(self, other):\n",
    "        return self.month < other.month\n",
    "\n",
    "date = Date(9, 4)\n",
    "date_2 = Date(2, 1)\n",
    "\n",
    "date == date_2\n",
    "date < date_2"
   ]
  },
  {
   "cell_type": "code",
   "execution_count": null,
   "metadata": {},
   "outputs": [],
   "source": [
    "date = Date(1, 2)\n",
    "print(date)\n",
    "# date_2 = Date(1, 2, 2019)\n",
    "# date_2 == date"
   ]
  },
  {
   "cell_type": "markdown",
   "metadata": {},
   "source": [
    "With a simple decorator, we created a class that contains three dunder methods. Moreover, note that we can use the dataclass decorator to add more functionality. For now, this is more than enough to keep our code clean and readable. For more information regarding the dataclass decorator, read the official documentation [here](https://docs.python.org/3/library/dataclasses.html#module-dataclasses)."
   ]
  },
  {
   "cell_type": "markdown",
   "metadata": {},
   "source": [
    "## Conclusion\n",
    "\n",
    "At this point, you should have a good understanding of"
   ]
  },
  {
   "cell_type": "markdown",
   "metadata": {},
   "source": [
    "- class and static methods.\n",
    "- property and dataclass decorators."
   ]
  }
 ],
 "metadata": {
  "kernelspec": {
   "display_name": "base",
   "language": "python",
   "name": "python3"
  },
  "language_info": {
   "codemirror_mode": {
    "name": "ipython",
    "version": 3
   },
   "file_extension": ".py",
   "mimetype": "text/x-python",
   "name": "python",
   "nbconvert_exporter": "python",
   "pygments_lexer": "ipython3",
   "version": "3.10.9"
  },
  "vscode": {
   "interpreter": {
    "hash": "a2592652612463181e69ac003232387e3e9a99279aa6b168e76f5df16d5110f4"
   }
  }
 },
 "nbformat": 4,
 "nbformat_minor": 2
}
