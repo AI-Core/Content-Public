{
 "cells": [
  {
   "cell_type": "markdown",
   "metadata": {},
   "source": [
    "# Booleans and Comparison Operators"
   ]
  },
  {
   "attachments": {},
   "cell_type": "markdown",
   "metadata": {},
   "source": [
    "## Booleans\n",
    "\n",
    "Booleans are a fundamental data type in Python that represent one of two possible values: `True` or `False`. They are used to express logical conditions in programming. Booleans enable us to express and evaluate logical conditions in our code. We can use them to make decisions and execute different parts of our program based on whether a condition is `True` or `False`. For example, we can use booleans to check if a user is logged in, if a condition is met, or if an input is valid."
   ]
  },
  {
   "attachments": {},
   "cell_type": "markdown",
   "metadata": {},
   "source": [
    "## Motivation\n",
    "\n",
    "Welcome to your journey of learning about booleans in programming! Let's explore the key reasons why learning about booleans is valuable:\n",
    "- **Logical Decision Making**: Booleans help us make decisions in programming. They represent conditions that can be either true or false. With booleans, we can control what our program does based on these conditions. It's like having a special tool that helps us decide what to do next.\n",
    "\n",
    "- **Comparison and Boolean Operations**:  Booleans are essential for comparing things and performing logical operations. We can check if things are equal, not equal, greater than, or less than each other. Booleans empower us to evaluate and manipulate conditions to make our programs smarter."
   ]
  },
  {
   "cell_type": "code",
   "execution_count": 1,
   "metadata": {},
   "outputs": [
    {
     "name": "stdout",
     "output_type": "stream",
     "text": [
      "<class 'bool'>\n",
      "<class 'bool'>\n"
     ]
    }
   ],
   "source": [
    "is_python_fun = True\n",
    "is_raining = False\n",
    "\n",
    "print(type(is_python_fun))   # Output: <class 'bool'>\n",
    "print(type(is_raining))      # Output: <class 'bool'>"
   ]
  },
  {
   "attachments": {},
   "cell_type": "markdown",
   "metadata": {},
   "source": [
    "In the example above, we assign boolean values to the variables `is_python_fun` and `is_raining`. We then use the `type()` function to check the data types of these variables. In this case, it confirms that both `is_python_fun` and `is_raining` are of type `bool`, which stands for boolean."
   ]
  },
  {
   "attachments": {},
   "cell_type": "markdown",
   "metadata": {},
   "source": [
    "Additionally, it is possible to cast a value into a boolean. If it is not empty, it will return `True`, otherwise it will return `False`."
   ]
  },
  {
   "cell_type": "code",
   "execution_count": 3,
   "metadata": {},
   "outputs": [
    {
     "name": "stdout",
     "output_type": "stream",
     "text": [
      "True\n",
      "False\n"
     ]
    }
   ],
   "source": [
    "my_str = 'Hello'\n",
    "print(bool(my_str))\n",
    "empty_str = ''\n",
    "print(bool(empty_str))"
   ]
  },
  {
   "attachments": {},
   "cell_type": "markdown",
   "metadata": {},
   "source": [
    "## Boolean Operations\n",
    "\n",
    "### Logical Operators\n",
    "\n",
    "Logical operators are used to combine boolean values and evaluate the truth of a compound expression. The three logical operators in Python are:\n",
    "- `and`: Returns `True` if both operands are `True`\n",
    "- `or`: Returns `True` if either operand is `True`\n",
    "- `not`: Returns the opposite boolean value of the operand\n",
    "\n",
    "Let's see some examples:"
   ]
  },
  {
   "cell_type": "code",
   "execution_count": 2,
   "metadata": {},
   "outputs": [
    {
     "name": "stdout",
     "output_type": "stream",
     "text": [
      "False\n",
      "True\n",
      "False\n"
     ]
    }
   ],
   "source": [
    "x = True\n",
    "y = False\n",
    "\n",
    "print(x and y)  # Output: False\n",
    "print(x or y)   # Output: True\n",
    "print(not x)    # Output: False"
   ]
  },
  {
   "attachments": {},
   "cell_type": "markdown",
   "metadata": {},
   "source": [
    "### The `in` operator\n",
    "\n",
    "The `in` operator is used to check if a value is present in a sequence, such as a string, list, or tuple (don't worry about not being familiar with all these data types, we will cover them in latter lessons). It returns `True` if the value is found in the sequence, and `False` otherwise.\n",
    "\n",
    "Let's see an example:"
   ]
  },
  {
   "cell_type": "code",
   "execution_count": 2,
   "metadata": {},
   "outputs": [
    {
     "name": "stdout",
     "output_type": "stream",
     "text": [
      "True\n",
      "False\n"
     ]
    }
   ],
   "source": [
    "message = \"Hello, World!\"\n",
    "print(\"World\" in message)      # Output: True\n",
    "print(\"Python\" in message)     # Output: False\n"
   ]
  },
  {
   "attachments": {},
   "cell_type": "markdown",
   "metadata": {},
   "source": [
    "- The first `print` statement checks if the substring `\"World\"` is present in the `message` string. Since `\"World\"` is part of the string, it returns `True`.\n",
    "- The second `print` statement checks if the substring `\"Python\"` is present in the `message` string. Since `\"Python\"` is not part of the string, it returns `False`."
   ]
  },
  {
   "attachments": {},
   "cell_type": "markdown",
   "metadata": {},
   "source": [
    "## Comparison Operators\n",
    "\n",
    "Comparison operators are used to compare values and determine the relationship between them. Here are the commonly used comparison operators in Python:\n",
    "- `==` (equal to): Checks if two values are equal\n",
    "- `!=` (not equal to): Checks if two values are not equal\n",
    "- `<` (less than): Checks if the left value is less than the right value\n",
    "- `>` (greater than): Checks if the left value is greater than the right value\n",
    "- `<=` (less than or equal to): Checks if the left value is less than or equal to the right value\n",
    "- `>=` (greater than or equal to): Checks if the left value is greater than or equal to the right value\n",
    "\n",
    "Let's see some examples to understand how comparison operators work:"
   ]
  },
  {
   "cell_type": "code",
   "execution_count": 4,
   "metadata": {},
   "outputs": [
    {
     "name": "stdout",
     "output_type": "stream",
     "text": [
      "False\n",
      "True\n",
      "True\n",
      "5\n"
     ]
    }
   ],
   "source": [
    "x = 5\n",
    "y = 10\n",
    "\n",
    "print(x == y)   # Output: False\n",
    "print(x != y)   # Output: True\n",
    "print(x < y)    # Output: True\n",
    "print(x)"
   ]
  },
  {
   "attachments": {},
   "cell_type": "markdown",
   "metadata": {},
   "source": [
    "### Chaining Comparison Operators\n",
    "\n",
    "In Python, you can chain multiple comparison operators together to create more complex conditions. This allows you to check if a value satisfies multiple conditions simultaneously.\n",
    "\n",
    "Let's see an example:"
   ]
  },
  {
   "cell_type": "code",
   "execution_count": 5,
   "metadata": {},
   "outputs": [
    {
     "name": "stdout",
     "output_type": "stream",
     "text": [
      "True\n",
      "True\n"
     ]
    }
   ],
   "source": [
    "x = 5\n",
    "\n",
    "print(0 < x < 10)    # Output: True\n",
    "print(0 < x and x < 10)    # Output: True"
   ]
  },
  {
   "attachments": {},
   "cell_type": "markdown",
   "metadata": {},
   "source": [
    "In the first example above, we are checking if the value of `x` is greater than `0` and less than `10`. We achieve this by chaining the comparison operators `<` together. The chained expression `0 < x < 10` evaluates to `True` because `x` is indeed greater than `0` and less than `10`.\n",
    "\n",
    "For the second example, let's break down the evaluation step by step:\n",
    "- The expression `0 <` x checks if `x` is greater than `0`. Since `x` is `5`, which is indeed greater than `0`, this expression evaluates to `True`\n",
    "- The expression `x < 10` checks if `x` is less than `10`. Since `x` is `5`, which is less than `10`, this expression also evaluates to `True`\n",
    "- Finally, the logical operator `and` combines the results of the two comparison expressions. In an `and` operation, if both operands are `True`, the overall result is `True`. In this case, since both `0 < x` and `x < 10` are `True`, the result of `0 < x and x < 10` is `True`.\n",
    "\n",
    "Chaining comparison operators allows you to write more concise and readable code when you need to check multiple conditions simultaneously.\n",
    "\n",
    "> It's important to note that when chaining comparison operators, Python evaluates the conditions from left to right. If any of the conditions is `False`, the evaluation stops, and the final result is `False`. This is known as \"short-circuiting\" and can be useful for improving performance and efficiency in certain situations.\n",
    "\n",
    "Keep in mind that parentheses can be used to explicitly define the order of operations when chaining comparison operators. For complex conditions, it is recommended to use parentheses to ensure the desired behavior."
   ]
  },
  {
   "attachments": {},
   "cell_type": "markdown",
   "metadata": {},
   "source": [
    "## Key Takeaways\n",
    "\n",
    "- Booleans are a fundamental data type in Python that represent either `True` or `False`\n",
    "- Comparison operators allow us to compare values and determine the relationship between them. Some commonly used comparison operators include `==` (equal to), `!=` (not equal to), `<` (less than), `>` (greater than), `<=` (less than or equal to), and `>=` (greater than or equal to)\n",
    "- Logical operators (`and`, `or`, `not`) are used to combine boolean values and evaluate compound conditions. The `and` operator returns `True` if both operands are `True`, the or operator returns `True` if either operand is `True`, and the not operator returns the opposite boolean value of the operand.\n",
    "- The `in` operator is used to check if a value is present in a sequence, such as a string, list, or tuple. It returns `True` if the value is found in the sequence, and `False` otherwise.\n",
    "- Chaining comparison operators allows us to create more complex conditions by combining multiple comparison expressions using logical operators"
   ]
  }
 ],
 "metadata": {
  "interpreter": {
   "hash": "beedbe2faf2f7048d727558d0bc3221e7eba2a0b921cac4d4771b2feb8f74b30"
  },
  "kernelspec": {
   "display_name": "Python 3.10.2 64-bit",
   "language": "python",
   "name": "python3"
  },
  "language_info": {
   "codemirror_mode": {
    "name": "ipython",
    "version": 3
   },
   "file_extension": ".py",
   "mimetype": "text/x-python",
   "name": "python",
   "nbconvert_exporter": "python",
   "pygments_lexer": "ipython3",
   "version": "3.9.2"
  }
 },
 "nbformat": 4,
 "nbformat_minor": 2
}
