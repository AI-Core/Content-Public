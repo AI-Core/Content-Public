{
 "cells": [
  {
   "attachments": {},
   "cell_type": "markdown",
   "metadata": {},
   "source": [
    "# Booleans"
   ]
  },
  {
   "attachments": {},
   "cell_type": "markdown",
   "metadata": {},
   "source": [
    "## What is a boolean?\n",
    "\n",
    "- A boolean is a data type that represents numbers\n",
    "- A boolean is a data type that represents characters\n",
    "- A boolean is a data type that represents a logical value ***\n",
    "- A boolean is a data type that represents a collection of values"
   ]
  },
  {
   "attachments": {},
   "cell_type": "markdown",
   "metadata": {},
   "source": [
    "## What values can a boolean have? Select all that apply.\n",
    "\n",
    "- `0`\n",
    "- `1`\n",
    "- `True` ***\n",
    "- `False` ***\n",
    "- `\"True\"`\n",
    "- `\"False\"`"
   ]
  },
  {
   "attachments": {},
   "cell_type": "markdown",
   "metadata": {},
   "source": [
    "## Which of the following would evaluate to `False`? Select all that apply.\n",
    "\n",
    "- `bool(0)` ***\n",
    "- `bool(1)`\n",
    "- `bool(\"\")` (empty string) ***\n",
    "- `bool(\"False\")`\n",
    "- `bool(\"True\")`\n",
    "- `bool(None)` ***\n"
   ]
  },
  {
   "attachments": {},
   "cell_type": "markdown",
   "metadata": {},
   "source": [
    "## Which of the following is a comparison operator? Select all that apply.\n",
    "\n",
    "- `=`\n",
    "- `==` ***\n",
    "- `!=` ***\n",
    "- `<>`\n",
    "- `>` ***\n",
    "- `<` ***\n",
    "- `>=` ***\n",
    "- `=<`\n"
   ]
  },
  {
   "attachments": {},
   "cell_type": "markdown",
   "metadata": {},
   "source": [
    "## How do you chain multiple comparisons together? Select all that apply.\n",
    "\n",
    "- `or` ***\n",
    "- `nor`\n",
    "- `and` ***\n",
    "- `both`\n",
    "- `together`"
   ]
  },
  {
   "attachments": {},
   "cell_type": "markdown",
   "metadata": {},
   "source": [
    "## What operator do you use to check if a character is in a string?\n",
    "\n",
    "- `contains`\n",
    "- `has`\n",
    "- `in` ***\n",
    "- `is`\n",
    "- `inside`"
   ]
  }
 ],
 "metadata": {
  "kernelspec": {
   "display_name": "content-projects",
   "language": "python",
   "name": "python3"
  },
  "language_info": {
   "codemirror_mode": {
    "name": "ipython",
    "version": 3
   },
   "file_extension": ".py",
   "mimetype": "text/x-python",
   "name": "python",
   "nbconvert_exporter": "python",
   "pygments_lexer": "ipython3",
   "version": "3.10.8"
  },
  "orig_nbformat": 4
 },
 "nbformat": 4,
 "nbformat_minor": 2
}
