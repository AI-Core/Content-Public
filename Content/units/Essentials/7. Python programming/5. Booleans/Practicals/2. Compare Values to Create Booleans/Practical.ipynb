{
 "cells": [
  {
   "cell_type": "markdown",
   "id": "f55be7bb",
   "metadata": {},
   "source": [
    "# Compare Values to Create Booleans"
   ]
  },
  {
   "cell_type": "markdown",
   "id": "33ec30ea",
   "metadata": {},
   "source": [
    "#### 1. Create a variable called `a` and assign it the value `5`"
   ]
  },
  {
   "cell_type": "code",
   "execution_count": null,
   "id": "29f74f50",
   "metadata": {},
   "outputs": [],
   "source": []
  },
  {
   "cell_type": "markdown",
   "id": "90e7548a",
   "metadata": {},
   "source": [
    "#### 2. Create a variable called `b` and assign it the value `2`"
   ]
  },
  {
   "cell_type": "code",
   "execution_count": null,
   "id": "b092d6f3",
   "metadata": {},
   "outputs": [],
   "source": []
  },
  {
   "cell_type": "markdown",
   "id": "3557fe63",
   "metadata": {},
   "source": [
    "#### 3. Create a variable called `c` and assign it the value `a > b`"
   ]
  },
  {
   "cell_type": "code",
   "execution_count": null,
   "id": "55bcbf19",
   "metadata": {},
   "outputs": [],
   "source": []
  },
  {
   "cell_type": "markdown",
   "id": "e3d5c5d5",
   "metadata": {},
   "source": [
    "#### 4. Print the value and type of `c`"
   ]
  },
  {
   "cell_type": "code",
   "execution_count": null,
   "id": "16b2eebf",
   "metadata": {},
   "outputs": [],
   "source": []
  },
  {
   "cell_type": "markdown",
   "id": "ae98deda",
   "metadata": {},
   "source": [
    "#### 5. Create a variable called `d` and assign it the value `a < b`"
   ]
  },
  {
   "cell_type": "code",
   "execution_count": null,
   "id": "8182ef1b",
   "metadata": {},
   "outputs": [],
   "source": []
  },
  {
   "cell_type": "markdown",
   "id": "bdf73b77",
   "metadata": {},
   "source": [
    "#### 6. Print the value and type of `d`"
   ]
  },
  {
   "cell_type": "code",
   "execution_count": null,
   "id": "009401ea",
   "metadata": {},
   "outputs": [],
   "source": []
  }
 ],
 "metadata": {
  "language_info": {
   "name": "python"
  }
 },
 "nbformat": 4,
 "nbformat_minor": 5
}
