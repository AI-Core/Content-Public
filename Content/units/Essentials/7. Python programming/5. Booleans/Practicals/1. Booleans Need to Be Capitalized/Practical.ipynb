{
 "cells": [
  {
   "cell_type": "markdown",
   "id": "9bed6c28",
   "metadata": {},
   "source": [
    "# Booleans Need to Be Capitalized"
   ]
  },
  {
   "cell_type": "markdown",
   "id": "f424734a",
   "metadata": {},
   "source": [
    "#### 1. Create a variable called `my_boolean` and assign it the value `true`"
   ]
  },
  {
   "cell_type": "code",
   "execution_count": null,
   "id": "58abf9c0",
   "metadata": {},
   "outputs": [],
   "source": []
  },
  {
   "cell_type": "markdown",
   "id": "b6e93049",
   "metadata": {},
   "source": [
    "#### 2. Create a variable called `my_boolean` and assign it the value `false`"
   ]
  },
  {
   "cell_type": "code",
   "execution_count": null,
   "id": "dd046621",
   "metadata": {},
   "outputs": [],
   "source": []
  },
  {
   "cell_type": "markdown",
   "id": "340300dd",
   "metadata": {},
   "source": [
    "#### 3. Create a variable called `my_boolean` and assign it the value `TRUE`"
   ]
  },
  {
   "cell_type": "code",
   "execution_count": null,
   "id": "139ac918",
   "metadata": {},
   "outputs": [],
   "source": []
  },
  {
   "attachments": {},
   "cell_type": "markdown",
   "id": "b79b0f95",
   "metadata": {},
   "source": [
    "#### 4. Create a variable called `my_boolean` and assign it the value `FALSE`\n",
    "\n",
    "What happened with the UPPERCASE booleans? Why did they not work?"
   ]
  },
  {
   "cell_type": "code",
   "execution_count": null,
   "id": "d6f8f16b",
   "metadata": {},
   "outputs": [],
   "source": []
  }
 ],
 "metadata": {
  "language_info": {
   "name": "python"
  }
 },
 "nbformat": 4,
 "nbformat_minor": 5
}
