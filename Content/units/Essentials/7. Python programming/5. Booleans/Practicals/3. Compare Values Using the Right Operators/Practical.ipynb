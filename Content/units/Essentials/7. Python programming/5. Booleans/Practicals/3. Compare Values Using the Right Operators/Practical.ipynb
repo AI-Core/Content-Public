{
 "cells": [
  {
   "cell_type": "markdown",
   "id": "e50ea6ab",
   "metadata": {},
   "source": [
    "# Compare Values Using the Right Operators"
   ]
  },
  {
   "cell_type": "markdown",
   "id": "4bdd07a7",
   "metadata": {},
   "source": [
    "#### 1. Create a variable called `a` and assign it the value `5`"
   ]
  },
  {
   "cell_type": "code",
   "execution_count": null,
   "id": "92164e6b",
   "metadata": {},
   "outputs": [],
   "source": []
  },
  {
   "cell_type": "markdown",
   "id": "b23e1b67",
   "metadata": {},
   "source": [
    "#### 2. Create a variable called `b` and assign it the value `2`"
   ]
  },
  {
   "cell_type": "code",
   "execution_count": null,
   "id": "ec372bc7",
   "metadata": {},
   "outputs": [],
   "source": []
  },
  {
   "cell_type": "markdown",
   "id": "08cdc262",
   "metadata": {},
   "source": [
    "#### 3. How do you compare if `a` is greater than or equal to `b`?"
   ]
  },
  {
   "cell_type": "code",
   "execution_count": null,
   "id": "b5f2967f",
   "metadata": {},
   "outputs": [],
   "source": []
  },
  {
   "cell_type": "markdown",
   "id": "99e76570",
   "metadata": {},
   "source": [
    "#### 4. How do you compare if `a` is less than or equal to `b`?"
   ]
  },
  {
   "cell_type": "code",
   "execution_count": null,
   "id": "f584f7d3",
   "metadata": {},
   "outputs": [],
   "source": []
  },
  {
   "cell_type": "markdown",
   "id": "7eb181fc",
   "metadata": {},
   "source": [
    "#### 5. How do you compare if `a` is equal to `b`?"
   ]
  },
  {
   "cell_type": "code",
   "execution_count": null,
   "id": "1b9f56a6",
   "metadata": {},
   "outputs": [],
   "source": []
  },
  {
   "cell_type": "markdown",
   "id": "8504bc8a",
   "metadata": {},
   "source": [
    "#### 6. How do you compare if `a` is not equal to `b`?"
   ]
  },
  {
   "cell_type": "code",
   "execution_count": null,
   "id": "4abdafba",
   "metadata": {},
   "outputs": [],
   "source": []
  }
 ],
 "metadata": {},
 "nbformat": 4,
 "nbformat_minor": 5
}
