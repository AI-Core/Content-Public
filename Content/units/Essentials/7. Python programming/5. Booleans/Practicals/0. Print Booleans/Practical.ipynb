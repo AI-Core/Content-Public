{
 "cells": [
  {
   "cell_type": "markdown",
   "id": "9e4f2082",
   "metadata": {},
   "source": [
    "# Print Booleans"
   ]
  },
  {
   "cell_type": "markdown",
   "id": "0bd69e5c",
   "metadata": {},
   "source": [
    "#### 1. Create a variable called `my_boolean` and assign it the value `True`"
   ]
  },
  {
   "cell_type": "code",
   "execution_count": null,
   "id": "950b9796",
   "metadata": {},
   "outputs": [],
   "source": []
  },
  {
   "cell_type": "markdown",
   "id": "39abc958",
   "metadata": {},
   "source": [
    "#### 2. Print the value of `my_boolean`"
   ]
  },
  {
   "cell_type": "code",
   "execution_count": null,
   "id": "74986f7f",
   "metadata": {},
   "outputs": [],
   "source": []
  },
  {
   "cell_type": "markdown",
   "id": "a9100918",
   "metadata": {},
   "source": [
    "#### 3. Print the type of `my_boolean`"
   ]
  },
  {
   "cell_type": "code",
   "execution_count": null,
   "id": "9ea98bc7",
   "metadata": {},
   "outputs": [],
   "source": []
  },
  {
   "cell_type": "markdown",
   "id": "a4f2152a",
   "metadata": {},
   "source": [
    "#### 4. Create a variable called `my_boolean` and assign it the value `False`"
   ]
  },
  {
   "cell_type": "code",
   "execution_count": null,
   "id": "6e985f09",
   "metadata": {},
   "outputs": [],
   "source": []
  },
  {
   "cell_type": "markdown",
   "id": "2592af43",
   "metadata": {},
   "source": [
    "#### 5. Print the value of `my_boolean`"
   ]
  },
  {
   "cell_type": "code",
   "execution_count": null,
   "id": "924a53cf",
   "metadata": {},
   "outputs": [],
   "source": []
  }
 ],
 "metadata": {
  "language_info": {
   "name": "python"
  }
 },
 "nbformat": 4,
 "nbformat_minor": 5
}
