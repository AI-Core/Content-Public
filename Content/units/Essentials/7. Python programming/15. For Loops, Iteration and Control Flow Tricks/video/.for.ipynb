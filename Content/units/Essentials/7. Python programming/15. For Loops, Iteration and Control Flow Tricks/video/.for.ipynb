{
 "cells": [
  {
   "cell_type": "markdown",
   "metadata": {},
   "source": [
    "# `for` loops"
   ]
  },
  {
   "cell_type": "code",
   "execution_count": null,
   "metadata": {},
   "outputs": [],
   "source": [
    "'''\n",
    "for temporary_variable in sequence:\n",
    "    repeat this block until there are no more items in the sequence\n",
    "    with temporary_variable holding the current value in the sequence\n",
    "'''"
   ]
  },
  {
   "cell_type": "code",
   "execution_count": 1,
   "metadata": {},
   "outputs": [
    {
     "name": "stdout",
     "output_type": "stream",
     "text": [
      "You need 5 months of experience usingPython\n",
      "You need 5 months of experience usingJava\n",
      "You need 5 months of experience usingGo\n",
      "You need 5 months of experience usingC++\n",
      "You need 5 months of experience usingPascal\n"
     ]
    }
   ],
   "source": [
    "coding_languages = ['Python', 'Java', 'Go', 'C++', 'Pascal']\n",
    "for language in coding_languages:\n",
    "    print('You need 5 months of experience using' + language)"
   ]
  },
  {
   "cell_type": "code",
   "execution_count": 2,
   "metadata": {},
   "outputs": [
    {
     "name": "stdout",
     "output_type": "stream",
     "text": [
      "Python\n",
      "Java\n",
      "Go\n",
      "C++\n",
      "Pascal\n"
     ]
    }
   ],
   "source": [
    "dict_languages = {'Python': 5, 'Java': 6, 'Go': 3, 'C++': 10, 'Pascal': 15}\n",
    "for language in dict_languages:\n",
    "    print(language)"
   ]
  },
  {
   "cell_type": "code",
   "execution_count": 3,
   "metadata": {},
   "outputs": [
    {
     "name": "stdout",
     "output_type": "stream",
     "text": [
      "Python 5\n",
      "Java 6\n",
      "Go 3\n",
      "C++ 10\n",
      "Pascal 15\n"
     ]
    }
   ],
   "source": [
    "for language in dict_languages:\n",
    "    print(language, dict_languages[language])"
   ]
  },
  {
   "cell_type": "code",
   "execution_count": 4,
   "metadata": {},
   "outputs": [
    {
     "name": "stdout",
     "output_type": "stream",
     "text": [
      "You need 5 months of experience using Python\n",
      "You need 6 months of experience using Java\n",
      "You need 3 months of experience using Go\n",
      "You need 10 months of experience using C++\n",
      "You need 15 months of experience using Pascal\n"
     ]
    }
   ],
   "source": [
    "for k, v in dict_languages.items():\n",
    "    print(f'You need {v} months of experience using {k}')"
   ]
  },
  {
   "cell_type": "code",
   "execution_count": 5,
   "metadata": {},
   "outputs": [
    {
     "name": "stdout",
     "output_type": "stream",
     "text": [
      "range(0, 10)\n",
      "<class 'range'>\n",
      "[0, 1, 2, 3, 4, 5, 6, 7, 8, 9]\n"
     ]
    }
   ],
   "source": [
    "x = range(10)\n",
    "print(x)\n",
    "print(type(x))\n",
    "print(list(x))"
   ]
  },
  {
   "cell_type": "code",
   "execution_count": 6,
   "metadata": {},
   "outputs": [
    {
     "name": "stdout",
     "output_type": "stream",
     "text": [
      "5\n",
      "5\n",
      "5\n",
      "5\n",
      "5\n"
     ]
    }
   ],
   "source": [
    "for _ in range(5):\n",
    "    print(5)"
   ]
  },
  {
   "cell_type": "code",
   "execution_count": 7,
   "metadata": {},
   "outputs": [
    {
     "name": "stdout",
     "output_type": "stream",
     "text": [
      "3\n",
      "4\n"
     ]
    }
   ],
   "source": [
    "for x in range(3, 5):\n",
    "    print(x)"
   ]
  },
  {
   "cell_type": "code",
   "execution_count": 8,
   "metadata": {},
   "outputs": [
    {
     "name": "stdout",
     "output_type": "stream",
     "text": [
      "2\n",
      "4\n",
      "6\n",
      "8\n"
     ]
    }
   ],
   "source": [
    "for x in range(2, 10, 2):\n",
    "    print(x)"
   ]
  },
  {
   "cell_type": "code",
   "execution_count": 9,
   "metadata": {},
   "outputs": [
    {
     "name": "stdout",
     "output_type": "stream",
     "text": [
      "0\n",
      "1\n",
      "2\n",
      "3\n",
      "4\n",
      "5\n",
      "6\n",
      "7\n",
      "8\n",
      "9\n",
      "10\n",
      "11\n",
      "12\n",
      "13\n",
      "14\n",
      "15\n",
      "16\n",
      "17\n",
      "18\n",
      "19\n",
      "20\n"
     ]
    }
   ],
   "source": [
    "for x in range(100):\n",
    "    print(x)\n",
    "    if x == 20:\n",
    "        break"
   ]
  },
  {
   "cell_type": "code",
   "execution_count": 14,
   "metadata": {},
   "outputs": [
    {
     "name": "stdout",
     "output_type": "stream",
     "text": [
      "0\n",
      "1\n",
      "2\n",
      "3\n",
      "4\n",
      "I am out of the loop\n"
     ]
    }
   ],
   "source": [
    "for x in range(5):\n",
    "    pass\n",
    "    print(x)\n",
    "\n",
    "print('I am out of the loop')"
   ]
  },
  {
   "cell_type": "code",
   "execution_count": 16,
   "metadata": {},
   "outputs": [
    {
     "name": "stdout",
     "output_type": "stream",
     "text": [
      "before 0\n"
     ]
    }
   ],
   "source": [
    "for x in range(5):\n",
    "    print('before', x)\n",
    "    if x % 2 == 0:\n",
    "        break\n",
    "    print('after', x)"
   ]
  },
  {
   "cell_type": "markdown",
   "metadata": {},
   "source": [
    "## Useful builtin functions: `zip` and `enumerate`"
   ]
  },
  {
   "cell_type": "code",
   "execution_count": 17,
   "metadata": {},
   "outputs": [
    {
     "data": {
      "text/plain": [
       "[(5, 'Python'), (3, 'Java'), (2, 'Go'), (10, 'C++'), (15, 'Pascal')]"
      ]
     },
     "execution_count": 17,
     "metadata": {},
     "output_type": "execute_result"
    }
   ],
   "source": [
    "months = [5, 3, 2, 10, 15]\n",
    "coding_languages = ['Python', 'Java', 'Go', 'C++', 'Pascal']\n",
    "\n",
    "list(zip(months, coding_languages))"
   ]
  },
  {
   "cell_type": "code",
   "execution_count": 18,
   "metadata": {},
   "outputs": [
    {
     "name": "stdout",
     "output_type": "stream",
     "text": [
      "You need 5 months of experience using Python\n",
      "You need 3 months of experience using Java\n",
      "You need 2 months of experience using Go\n",
      "You need 10 months of experience using C++\n",
      "You need 15 months of experience using Pascal\n"
     ]
    }
   ],
   "source": [
    "for month, language in zip(months, coding_languages):\n",
    "    print(f'You need {month} months of experience using {language}')"
   ]
  },
  {
   "cell_type": "code",
   "execution_count": 19,
   "metadata": {},
   "outputs": [
    {
     "data": {
      "text/plain": [
       "<enumerate at 0x7fd434f79200>"
      ]
     },
     "execution_count": 19,
     "metadata": {},
     "output_type": "execute_result"
    }
   ],
   "source": [
    "enumerate(coding_languages)"
   ]
  },
  {
   "cell_type": "code",
   "execution_count": 20,
   "metadata": {},
   "outputs": [
    {
     "data": {
      "text/plain": [
       "[(0, 'Python'), (1, 'Java'), (2, 'Go'), (3, 'C++'), (4, 'Pascal')]"
      ]
     },
     "execution_count": 20,
     "metadata": {},
     "output_type": "execute_result"
    }
   ],
   "source": [
    "list(enumerate(coding_languages))"
   ]
  },
  {
   "cell_type": "code",
   "execution_count": 22,
   "metadata": {},
   "outputs": [
    {
     "name": "stdout",
     "output_type": "stream",
     "text": [
      "You need 0 months of experience using Python\n",
      "You need 1 months of experience using Java\n",
      "You need 2 months of experience using Go\n",
      "You need 3 months of experience using C++\n",
      "You need 4 months of experience using Pascal\n"
     ]
    }
   ],
   "source": [
    "for index, language in enumerate(coding_languages):\n",
    "    print(f'You need {index} months of experience using {language}')"
   ]
  },
  {
   "cell_type": "markdown",
   "metadata": {},
   "source": [
    "# Comprehensions"
   ]
  },
  {
   "cell_type": "code",
   "execution_count": 23,
   "metadata": {},
   "outputs": [
    {
     "name": "stdout",
     "output_type": "stream",
     "text": [
      "[1, 8, 27, 64, 125, 216, 343, 512, 729, 1000]\n"
     ]
    }
   ],
   "source": [
    "\n",
    "cube = []\n",
    "\n",
    "for i in range(1, 11):\n",
    "    cube.append(i ** 3)\n",
    "\n",
    "print(cube)"
   ]
  },
  {
   "cell_type": "code",
   "execution_count": 24,
   "metadata": {},
   "outputs": [
    {
     "name": "stdout",
     "output_type": "stream",
     "text": [
      "[1, 8, 27, 64, 125, 216, 343, 512, 729, 1000]\n"
     ]
    }
   ],
   "source": [
    "cube = [i ** 3 for i in range(1, 11)]\n",
    "print(cube)"
   ]
  },
  {
   "cell_type": "code",
   "execution_count": 25,
   "metadata": {},
   "outputs": [
    {
     "name": "stdout",
     "output_type": "stream",
     "text": [
      "{64, 1, 512, 8, 1000, 343, 216, 729, 27, 125}\n"
     ]
    }
   ],
   "source": [
    "cube = {i ** 3 for i in range(1, 11)}\n",
    "print(cube)"
   ]
  },
  {
   "cell_type": "code",
   "execution_count": 26,
   "metadata": {},
   "outputs": [
    {
     "name": "stdout",
     "output_type": "stream",
     "text": [
      "{1: 1, 2: 8, 3: 27, 4: 64, 5: 125, 6: 216, 7: 343, 8: 512, 9: 729, 10: 1000}\n"
     ]
    }
   ],
   "source": [
    "\n",
    "cube_dict = {i: i ** 3 for i in range(1, 11)}\n",
    "print(cube_dict)"
   ]
  },
  {
   "cell_type": "code",
   "execution_count": 27,
   "metadata": {},
   "outputs": [
    {
     "name": "stdout",
     "output_type": "stream",
     "text": [
      "x= 0, and y = 0\n",
      "x= 0, and y = 1\n",
      "x= 0, and y = 2\n",
      "x= 1, and y = 0\n",
      "x= 1, and y = 1\n",
      "x= 1, and y = 2\n",
      "x= 2, and y = 0\n",
      "x= 2, and y = 1\n",
      "x= 2, and y = 2\n"
     ]
    }
   ],
   "source": [
    "for x in range(3):\n",
    "    for y in range(3):\n",
    "        print(f'x= {x}, and y = {y}')"
   ]
  },
  {
   "cell_type": "code",
   "execution_count": null,
   "metadata": {},
   "outputs": [],
   "source": []
  }
 ],
 "metadata": {
  "interpreter": {
   "hash": "aee8b7b246df8f9039afb4144a1f6fd8d2ca17a180786b69acc140d282b71a49"
  },
  "kernelspec": {
   "display_name": "Python 3.9.0 64-bit",
   "name": "python3"
  },
  "language_info": {
   "codemirror_mode": {
    "name": "ipython",
    "version": 3
   },
   "file_extension": ".py",
   "mimetype": "text/x-python",
   "name": "python",
   "nbconvert_exporter": "python",
   "pygments_lexer": "ipython3",
   "version": "3.9.0"
  },
  "orig_nbformat": 4
 },
 "nbformat": 4,
 "nbformat_minor": 2
}
