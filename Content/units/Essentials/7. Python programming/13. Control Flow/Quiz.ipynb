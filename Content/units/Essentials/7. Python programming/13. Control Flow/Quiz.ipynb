{
 "cells": [
  {
   "attachments": {},
   "cell_type": "markdown",
   "metadata": {},
   "source": [
    "# Control flow"
   ]
  },
  {
   "attachments": {},
   "cell_type": "markdown",
   "metadata": {},
   "source": [
    "## What will be the output of the following Python code?\n",
    "\n",
    "``` python\n",
    "x = 5\n",
    "y = 10\n",
    "if x < y:\n",
    "    print(\"x is less than y\")\n",
    "else:\n",
    "    print(\"x is greater than or equal to y\")\n",
    "```\n",
    "\n",
    "\n",
    "- `x is less than y` ***\n",
    "- `x is greater than or equal to y`\n",
    "- `x = 5`\n",
    "- `y = 10`"
   ]
  },
  {
   "attachments": {},
   "cell_type": "markdown",
   "metadata": {},
   "source": [
    "## In what order are the statements executed in an `if-else` block in Python?\n",
    "\n",
    "- The `if` statement is executed first, followed by the `else` statement if the condition is not met ***\n",
    "- The `else` statement is executed first, followed by the `if` statement if the condition is met\n",
    "- Both the `if` and `else` statements are executed at the same time\n",
    "- The order of execution depends on the complexity of the condition"
   ]
  },
  {
   "attachments": {},
   "cell_type": "markdown",
   "metadata": {},
   "source": [
    "## Which of the following is the correct syntax for an `if-elif-else` block in Python?\n",
    "\n",
    "-  This code\n",
    "\n",
    "```python\n",
    "if condition:\n",
    "     #do something\n",
    "else if condition:\n",
    "     #do something else\n",
    "else:\n",
    "    # do something else\n",
    "```\n",
    "\n",
    "-  This code ***\n",
    "``` python\n",
    "if condition:\n",
    "     #do something\n",
    "elif:\n",
    "    # do something else\n",
    "else:\n",
    "     #do something else\n",
    "     \n",
    "``` \n",
    "\n",
    "- This code\n",
    "``` python\n",
    "if condition:\n",
    "     #do something\n",
    "elseif condition:\n",
    "     #do something else\n",
    "else:\n",
    "     #do something else\n",
    "```"
   ]
  },
  {
   "attachments": {},
   "cell_type": "markdown",
   "metadata": {},
   "source": [
    "## What will be the output of the following Python code?\n",
    "\n",
    "``` python\n",
    "x = 15\n",
    "\n",
    "if x < 10:\n",
    "    print(\"x is less than 10\")\n",
    "elif x < 20:\n",
    "    print(\"x is between 10 and 20\")\n",
    "else:\n",
    "    print(\"x is greater than or equal to 20\")\n",
    "```\n",
    "\n",
    "- `x is less than 10`\n",
    "- `x is between 10 and 20` ***\n",
    "- `x is greater than or equal to 20`\n",
    "- `There will be a syntax error`"
   ]
  },
  {
   "attachments": {},
   "cell_type": "markdown",
   "metadata": {},
   "source": [
    "## What will be the output of the following Python code?\n",
    "\n",
    "```python\n",
    "x = 5\n",
    "y = 10\n",
    "if x > 3 and y < 15:\n",
    "    if x + y < 20:\n",
    "        print(\"x + y is less than 20\")\n",
    "    elif x + y == 20:\n",
    "        print(\"x + y is equal to 20\")\n",
    "    else:\n",
    "        print(\"x + y is greater than 20\")\n",
    "else:\n",
    "    print(\"The condition is not met\")\n",
    "```\n",
    "\n",
    "- `x + y is less than 20` ***\n",
    "- `x + y is equal to 20`\n",
    "- `x + y is greater than 20`\n",
    "- `The condition is not met`"
   ]
  },
  {
   "attachments": {},
   "cell_type": "markdown",
   "metadata": {},
   "source": [
    "## What is the order of execution in an `if-elif-else` block in Python?\n",
    "\n",
    "- The `if` statement is executed first, followed by the `elif `statements in the order they are written, and the `else` statement is executed last if none of the conditions are met ***\n",
    "- The `elif` statements are executed first in the order they are written, followed by the `if` statement, and the `else` statement is executed last if none of the conditions are met\n",
    "- The `else` statement is executed first, followed by the `if` statement and the `elif` statements in the order they are written\n",
    "- The order of execution depends on the complexity of the conditions"
   ]
  }
 ],
 "metadata": {
  "language_info": {
   "name": "python"
  },
  "orig_nbformat": 4
 },
 "nbformat": 4,
 "nbformat_minor": 2
}
