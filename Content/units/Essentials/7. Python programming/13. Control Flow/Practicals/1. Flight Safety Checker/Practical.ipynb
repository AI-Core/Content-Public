{
 "cells": [
  {
   "cell_type": "markdown",
   "id": "6d8086c5",
   "metadata": {},
   "source": [
    "# Flight Safety Checker"
   ]
  },
  {
   "attachments": {},
   "cell_type": "markdown",
   "id": "85b8aef7",
   "metadata": {},
   "source": [
    "Given 2 variables, `altitude` (ft) and `airspeed` (knots)\n",
    "\n",
    "#### 1. Write a program that categorises entries into 'safe flying' and 'unsafe flying' based on the following criteria:\n",
    "   - An `altitude` below 100ft or above 50000ft is considered unsafe flying\n",
    "   - An `airspeed` below 60 knots or above 500 knots is considered unsafe flying\n",
    "   - If `altitude` and `airspeed` are outside these ranges, the flight is considered as safe\n",
    "   \n",
    "*CLUE: You will have to figure out the syntax for using `and`/`or` keywords in `if` statements*"
   ]
  },
  {
   "cell_type": "code",
   "execution_count": null,
   "id": "ad3c42c9",
   "metadata": {},
   "outputs": [],
   "source": []
  },
  {
   "attachments": {},
   "cell_type": "markdown",
   "id": "a42d9e5f",
   "metadata": {},
   "source": [
    "#### 2. Try to write this as cleanly as possible and test your code with the following by substituting in again:\n",
    "\n",
    "- Altitude: 25000ft, Airspeed: 300 knots\n",
    "- Altitude: 50001ft, Airspeed: 250 knots\n",
    "- Altitude: 90ft, Airspeed: 125 knots"
   ]
  },
  {
   "cell_type": "code",
   "execution_count": null,
   "id": "30ef543d",
   "metadata": {},
   "outputs": [],
   "source": []
  }
 ],
 "metadata": {
  "kernelspec": {
   "display_name": "content-projects_new",
   "language": "python",
   "name": "python3"
  },
  "language_info": {
   "codemirror_mode": {
    "name": "ipython",
    "version": 3
   },
   "file_extension": ".py",
   "mimetype": "text/x-python",
   "name": "python",
   "nbconvert_exporter": "python",
   "pygments_lexer": "ipython3",
   "version": "3.10.8"
  },
  "vscode": {
   "interpreter": {
    "hash": "4b961f8166aad6ccb4cf65d0f9c742ef9c6c23ffe83ad932438cd83ed96aebaf"
   }
  }
 },
 "nbformat": 4,
 "nbformat_minor": 5
}
