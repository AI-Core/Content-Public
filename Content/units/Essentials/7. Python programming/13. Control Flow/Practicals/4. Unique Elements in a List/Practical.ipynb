{
 "cells": [
  {
   "cell_type": "markdown",
   "id": "981f2cf0",
   "metadata": {},
   "source": [
    "# Unique Elements in a List"
   ]
  },
  {
   "cell_type": "markdown",
   "id": "91272de2",
   "metadata": {},
   "source": [
    "#### Given a list named `my_list`, write a program that checks if all the elements in the list are unique."
   ]
  },
  {
   "cell_type": "code",
   "execution_count": null,
   "id": "48be7267",
   "metadata": {},
   "outputs": [],
   "source": []
  },
  {
   "cell_type": "markdown",
   "id": "9237fa4b",
   "metadata": {},
   "source": [
    "#### If the elements are unique, print 'All elements are unique'. If there are duplicate elements, print 'There are duplicate elements'."
   ]
  },
  {
   "cell_type": "code",
   "execution_count": null,
   "id": "9a947840",
   "metadata": {},
   "outputs": [],
   "source": []
  }
 ],
 "metadata": {},
 "nbformat": 4,
 "nbformat_minor": 5
}
