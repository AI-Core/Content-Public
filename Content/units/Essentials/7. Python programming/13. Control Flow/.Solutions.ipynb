{
 "cells": [
  {
   "cell_type": "markdown",
   "metadata": {},
   "source": [
    "# Solutions for Intro to Control Flow"
   ]
  },
  {
   "cell_type": "markdown",
   "metadata": {},
   "source": [
    "## Control Flow Solutions"
   ]
  },
  {
   "cell_type": "markdown",
   "metadata": {},
   "source": [
    "### Question 1"
   ]
  },
  {
   "cell_type": "markdown",
   "metadata": {},
   "source": [
    "Given 2 parameters, height and weight, calculate the parameter BMI (Google the formula) (For simplicity, work in metres and kg).\n",
    "<br><br>\n",
    "Using the parameter BMI, write a series of if statements that give the following outcomes:\n",
    "<br>\n",
    "- below 18.5 –-> 'Your BMI is x. You're in the underweight range.'\n",
    "- between 18.5 and 24.9 –-> 'Your BMI is x. You're in the healthy weight range.'\n",
    "- between 25 and 29.9 –-> 'Your BMI is x. You're in the overweight range.'\n",
    "- between 30 and 39.9 –-> 'Your BMI is x. You're in the obese range.'\n",
    "<br>\n",
    "\n",
    "Test your code with the following cases by substituting them in for weight and height values in your code:<br>\n",
    "Height 1.83m, Weight 85kg<br>\n",
    "Height 1.55m, Weight 61kg<br>\n",
    "Height 2.09m, Weight 135kg<br>\n",
    "Height 1.71m, Weight 70kg<br>\n",
    "Height 1.71m, Weight 95kg<br>\n",
    "Height 1.71m, Weight 55kg\n",
    "<br><br>\n",
    "(Once again, this is a tedious process that will show the obvious value of for loops and functions when we cover them)"
   ]
  },
  {
   "cell_type": "code",
   "execution_count": null,
   "metadata": {},
   "outputs": [],
   "source": [
    "weight = #\n",
    "height = #\n",
    "\n",
    "BMI = weight/height**2\n",
    "\n",
    "if BMI < 18.5:\n",
    "    print(\"Your BMI is {}. You're in the underweight range.\".format(BMI))\n",
    "elif BMI <= 24.9:\n",
    "    print(\"Your BMI is {}. You're in the healthy weight range.\".format(BMI))\n",
    "elif BMI <= 29.9:\n",
    "    print(\"Your BMI is {}. You're in the overweight range.\".format(BMI))\n",
    "elif BMI <= 39.9:\n",
    "    print(\"Your BMI is {}. You're in the obese range.\".format(BMI))"
   ]
  },
  {
   "cell_type": "markdown",
   "metadata": {},
   "source": [
    "### Question 2"
   ]
  },
  {
   "cell_type": "markdown",
   "metadata": {},
   "source": [
    "Given 2 parameters, altitude(ft) and airspeed(knots), write a program that categorises entries into 'safe flying' and 'unsafe flying' based on the following criteria:\n",
    "\n",
    "- An altitude of below 100ft or above 50000ft is considered unsafe flying.\n",
    "- An airspeed of 60 knots and below or 500 knots and above is considered unsafe flying.\n",
    "- Altitudes and airspeeds outside these ranges are considered safe flying.\n",
    "\n",
    "CLUE: You will have to figure out the syntax for using __and__/__or__ keywords in if statements, __this may be tough but stick at it__.\n",
    "\n",
    "Try to write this as cleanly as possible and test your code with the following by substituting in again:\n",
    "- altitude 25000ft, airspeed 300kn\n",
    "- altitude 50001ft, airspeed 250kn\n",
    "- altitude 90ft, airspeed 125kn\n",
    "- altitude 500ft, airspeed 45kn\n",
    "- altitude 1000ft, airspeed 600kn\n",
    "- altitude 65000ft, airspeed 700kn"
   ]
  },
  {
   "cell_type": "code",
   "execution_count": null,
   "metadata": {},
   "outputs": [],
   "source": [
    "altitude = #\n",
    "airspeed = #\n",
    "\n",
    "if (100 <= altitude <= 50000) and (60 < airspeed < 500):\n",
    "    print(\"Safe Flying\")\n",
    "else:\n",
    "    print(\"Unsafe Flying\")"
   ]
  },
  {
   "cell_type": "code",
   "execution_count": null,
   "metadata": {},
   "outputs": [],
   "source": []
  }
 ],
 "metadata": {
  "kernelspec": {
   "display_name": "Python 3",
   "language": "python",
   "name": "python3"
  },
  "language_info": {
   "codemirror_mode": {
    "name": "ipython",
    "version": 3
   },
   "file_extension": ".py",
   "mimetype": "text/x-python",
   "name": "python",
   "nbconvert_exporter": "python",
   "pygments_lexer": "ipython3",
   "version": "3.7.6"
  }
 },
 "nbformat": 4,
 "nbformat_minor": 4
}
