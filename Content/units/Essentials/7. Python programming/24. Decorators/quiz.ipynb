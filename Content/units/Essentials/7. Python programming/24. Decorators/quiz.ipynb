{
 "cells": [
  {
   "attachments": {},
   "cell_type": "markdown",
   "metadata": {},
   "source": [
    "# Decorators"
   ]
  },
  {
   "attachments": {},
   "cell_type": "markdown",
   "metadata": {},
   "source": [
    "## How do you apply a decorator to a function in Python?\n",
    "\n",
    "- By calling the decorator function with the function as an argument\n",
    "- By using the `@` symbol followed by the decorator name before the function definition ***\n",
    "- By importing the decorator from a module\n",
    "- By adding the decorator name, prefixed by the `@` symbol, as a parameter in the function definition\n"
   ]
  },
  {
   "attachments": {},
   "cell_type": "markdown",
   "metadata": {},
   "source": [
    "## What is the main purpose of decorators in Python?\n",
    "\n",
    "- To improve the formatting of function outputs\n",
    "- To wrap additional functionality around functions or methods without modifying their code ***\n",
    "- To create iterators that are more memory-efficient\n",
    "- To chain multiple functions together\n"
   ]
  },
  {
   "attachments": {},
   "cell_type": "markdown",
   "metadata": {},
   "source": [
    "## When defining a decorator in Python:  \n",
    "\n",
    "- The decorator function must take in a function and also return a function ***\n",
    "- The decorator function has to take in a function as a parameter, but doesn’t need to return anything\n",
    "- The decorator function needs to return a function, but doesn’t have to take in a function as an argument\n",
    "- None of the above "
   ]
  },
  {
   "attachments": {},
   "cell_type": "markdown",
   "metadata": {},
   "source": [
    "## Which of the following is true about the `@staticmethod` decorator:\n",
    "\n",
    "- It means that attributes of the class instance can be seen by the method it is applied to\n",
    "- The decorated method requires the use of the `self` keyword\n",
    "- The decorated method will be unable to see attributes of either the class or the current instance ***\n",
    "- It means that the method cannot be overwritten in any child class inheriting from the class it is defined in"
   ]
  },
  {
   "attachments": {},
   "cell_type": "markdown",
   "metadata": {},
   "source": [
    "## What is wrong with the following code snippet?\n",
    "\n",
    "```python\n",
    "\n",
    "class Lemur:\n",
    "\n",
    "    def __init__(self):\n",
    "        self.fruits_eaten=None\n",
    "\n",
    "    @staticmethod\n",
    "    def eat_fruit(self):\n",
    "        self.fruits_eaten += 1\n",
    "    \n",
    "    @staticmethod\n",
    "    def gibber():\n",
    "        print('ook ook')\n",
    "\n",
    "Lemur.gibber()\n",
    "\n",
    "\n",
    "```\n",
    "\n",
    "- The `staticmethod` decorator has not been defined\n",
    "- The `staticmethod` decorator prevents access to `self` attributes, so `eat_fruit` will return an error if called ***\n",
    "- The `gibber` method must be called from an instance of the class, not the class itself\n",
    "- The `staticmethod` decorator can only be used on the class constructor / `__init__` method\n"
   ]
  },
  {
   "attachments": {},
   "cell_type": "markdown",
   "metadata": {},
   "source": [
    "## How can a Python decorator be defined so that it can wrap functions which have multiple input arguments?\n",
    "\n",
    "- By using `*args` and `**kwargs` in the decorator's wrapper function to handle variable numbers of positional and keyword arguments ***\n",
    "- By using the `functools.partial()` function to allow partial application of the wrapped function\n",
    "- By defining the decorator with a fixed number of input arguments and then automatically adapting it to the wrapped function using introspection\n",
    "- By implementing the decorator as a class and overloading the `add` method to concatenate the input arguments"
   ]
  }
 ],
 "metadata": {
  "language_info": {
   "name": "python"
  },
  "orig_nbformat": 4
 },
 "nbformat": 4,
 "nbformat_minor": 2
}
