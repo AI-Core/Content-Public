{
 "cells": [
  {
   "attachments": {},
   "cell_type": "markdown",
   "metadata": {},
   "source": [
    "# Functions and Function Calls\n",
    "\n",
    "### Learning Objectives:\n",
    "- To understand the difference between a function and a function call.\n",
    "- To understand how to call a function in Python.\n",
    "- To understand how to define a function in python.\n",
    "- Function parameters.\n",
    "- The difference between parameters and arguments.\n",
    "- The `return` statement.\n"
   ]
  },
  {
   "attachments": {},
   "cell_type": "markdown",
   "metadata": {},
   "source": [
    "## What are Functions?\n",
    "\n",
    "\n",
    "A function is a self-contained block of code that performs a specific task or operation. Functions are used to organize code and make it more reusable, efficient, and easier to read and understand. Functions can be called or invoked from other parts of the program, and they can be reused multiple times with different inputs or arguments.\n",
    "\n",
    "### Function Calls\n",
    "\n",
    "\n",
    "A function call refers to the action of invoking or executing a function. When a function is called, the program control is transferred to the function, and the code inside the function is executed. A function call typically consists of the function name, followed by a set of parentheses that may contain arguments or parameters.\n",
    "\n",
    "The fundamental idea here is that a function is defined once, and then can be re-used many times in your code. \n",
    "\n",
    "### Function Definitions\n",
    "\n",
    "\n",
    "\n",
    "So far we have learned that the main idea behind functions is that we can write some instructions once, and then re-use them many times elsewhere in our code. The function call handles the re-use part, and its counterpart is the function defnition, which is the block of code which tells us what the function does and how it behaves.\n",
    "\n",
    "Let's look at an example:"
   ]
  },
  {
   "cell_type": "code",
   "execution_count": 2,
   "metadata": {},
   "outputs": [],
   "source": [
    "def call_me_a_taxi():\n",
    "    print(\"you're a taxi\")\n",
    "    \n"
   ]
  },
  {
   "attachments": {},
   "cell_type": "markdown",
   "metadata": {},
   "source": [
    "The `def` statement is how we begin a function definition in Python. It contains the following things:\n",
    "- the `def` keyword\n",
    "- the name of the function. This should always be in `camel_case`, and as ever, name it clearly. Long and clear is better than short and confusing, every single time!\n",
    "- a pair of parentheses `()`, which can contain the names of the functions parameters, or be empty.\n",
    "- a colon `:`\n",
    "- an optional `return` statement at the end of the definition, which returns some of the variables from the function as `outputs`.\n",
    "\n",
    "The function code is whatever is insider the indented block immediately below the def statement.\n",
    "\n"
   ]
  },
  {
   "attachments": {},
   "cell_type": "markdown",
   "metadata": {},
   "source": [
    "### Mini-practical: write your first python function\n",
    "\n",
    "In the code block below, define a function called `hello_world`. It should print the string `Hello World!` when called."
   ]
  },
  {
   "cell_type": "code",
   "execution_count": null,
   "metadata": {},
   "outputs": [],
   "source": [
    "# TODO - write a function called `hello_world`\n"
   ]
  },
  {
   "attachments": {},
   "cell_type": "markdown",
   "metadata": {},
   "source": [
    "Now that we have written a function, we can call it elsewhere in our code, by writing the name of the function, followed by parentheses. In the code block below, call your `hello_world` function. It should print the string `Hello World!` when you run the code block:"
   ]
  },
  {
   "cell_type": "code",
   "execution_count": null,
   "metadata": {},
   "outputs": [],
   "source": [
    "# TODO - Call your function!\n"
   ]
  },
  {
   "attachments": {},
   "cell_type": "markdown",
   "metadata": {},
   "source": [
    "## Function Parameters\n",
    "\n",
    "A parameter is a kind of temporary variable that is used inside a function to represent some value you might want to pass to the function. For example, look at the function below, which is a simple function to calculate the sum of two inputs:"
   ]
  },
  {
   "cell_type": "code",
   "execution_count": null,
   "metadata": {},
   "outputs": [],
   "source": [
    "def add_two_variables(a,b):\n",
    "    return a + b\n",
    "\n",
    "add_two_variables(2,3)\n"
   ]
  },
  {
   "attachments": {},
   "cell_type": "markdown",
   "metadata": {},
   "source": [
    "Obviously this is not a particularly useful function, but it does illustrate the role of parameters very clearly. Because we want to be able to add any pair of numbers together, we need to use two temporary variables to specify the operation we want to perform, rather than having to pick any specific numbers to use.\n",
    "\n",
    "Another use of parameters is as flags or options, which specify some choice about the behaviour of the function. For exmaple, we can modify our function to desribe what it's doing if we pass it a flag that tells it to do so:"
   ]
  },
  {
   "cell_type": "code",
   "execution_count": null,
   "metadata": {},
   "outputs": [],
   "source": [
    "def add_two_variables(a: int , b: int, annoyingly_verbose=True):\n",
    "    if annoyingly_verbose == True:\n",
    "        print(\"I am now adding your two numbers together, and will return their sum to you as an output, so that you can assign them to a variable.\")\n",
    "    return a + b\n",
    "\n",
    "\n",
    "add_two_variables(a=2, b=3)\n"
   ]
  },
  {
   "attachments": {},
   "cell_type": "markdown",
   "metadata": {},
   "source": [
    "Often the default behaviour of a funciton is not quite what we're after. In this case, the function is annoyingly verbose. Call it again in the code block below, setting the `annoyingly_verbose` parameter to `False`:"
   ]
  },
  {
   "cell_type": "code",
   "execution_count": null,
   "metadata": {},
   "outputs": [],
   "source": [
    "# TODO - Call the function again, setting the `annoyingly_verbose` parameter to `False\n"
   ]
  },
  {
   "attachments": {},
   "cell_type": "markdown",
   "metadata": {},
   "source": [
    "## Arguments vs. Parameters\n",
    "\n",
    "You will hear these terms getting mixed up quite a lot, even by quite experienced coders, but it's actually very easy to get it sorted in your head, so you don't have to be one of those people. \n",
    "\n",
    "In simple terms, a parameter is a placeholder or a variable that is used in a function definition, while an argument is a value that is passed to a function when it is called. Parameters are used to define the type, name, and number of inputs that a function requires, while arguments are used to supply the actual values for these inputs when the function is called.\n",
    "\n",
    "So in the case of our call to the `add_two_variables` function above, the parameters are `a`, `b`, and `needlessly_verbose` are the parameters of the function, whereas `2`, `3` and `True` are the arguments we provide. Arguments map to parameters. You can either specify the arguments in the order in which the parameters are listed, which will map them automatically, or you can specify them explicitly by assigning them directly with the `=` operator."
   ]
  },
  {
   "attachments": {},
   "cell_type": "markdown",
   "metadata": {},
   "source": [
    "## The Return statement\n",
    "\n",
    "In the example above, we called our `add_two_numbers` function on our input arguments of `2` and `3`, and we got the output of `5`. That is fine if we just want to know the answer. But what if we wanted to do someting with the answer afterwards? The `return` statement of a function lists the variables of the function that will be returned in the function's output. To use those variables outside the function, we can return them to one or more output variables. \n",
    "\n",
    "It is important to note that the code inside the function is isolated from the rest of the script. Variables defined inside the fucntion are only visible when the program control is inside the function. You cannot use them outside. This concept is known as the function's scope. You don't need to worry about this too much right now, as we will cover it in much more detail later, but for now, just remember that if we want to use something we have generated inside a function, we need to `return` it as an output, and assign it to a variable outside of the function.\n",
    "\n",
    "The function in the code block below takes in an integer, and returns two Boolean variables, letting us know whether the number is even, and whether it is a perfect square. We can assign both of these to output variables when we call the function, by listing two output variables, separated by commas, and then assigning the function's outputs with an `=` sign."
   ]
  },
  {
   "cell_type": "code",
   "execution_count": null,
   "metadata": {},
   "outputs": [],
   "source": [
    "import math\n",
    "\n",
    "def number_features(my_integer):\n",
    "    is_even=False\n",
    "    is_perfect_square=False\n",
    "    if (my_integer % 2) == 0:\n",
    "        is_even=True\n",
    "\n",
    "    root = math.sqrt(my_integer)\n",
    "    if int(root + 0.5) ** 2 == my_integer:\n",
    "        is_perfect_square=True\n",
    "\n",
    "    return is_even, is_perfect_square\n",
    "\n",
    "my_integer = 25\n",
    "is_even, is_perfect_square = number_features(my_integer)\n",
    "\n",
    "print(\"is the number even?\" , is_even)\n",
    "print(\"is the number a perfect square?\", is_perfect_square)\n",
    "\n"
   ]
  },
  {
   "attachments": {},
   "cell_type": "markdown",
   "metadata": {},
   "source": [
    "Mini practical:\n",
    "\n",
    "- Define a function called `sum_and_product`. It should take in two numbers as input parameters, and return both their sum and their product. \n",
    "- Once you have defined the function, define two variables `int_1` and `int_2`, and call `sum_and_product` on them, assigning their outputs to two separate variables called `int_sum `and `int_product`. \n",
    "- Now add `int_sum` and `int_product` together using the add_two_numbers function we defined earlier, setting `annoyingly_verbose` to `False`."
   ]
  },
  {
   "cell_type": "code",
   "execution_count": null,
   "metadata": {},
   "outputs": [],
   "source": [
    "# TODO - Define a function called `sum_and_product`. It should take in two numbers as input parameters, and return both their sum and their product.\n",
    "\n",
    "#!\n",
    "int_1 = 6\n",
    "int_2 = 7 \n",
    "# TODO -  Define two variables `int_1` and `int_2`.\n",
    "\n",
    "# TODO - Call `sum_and_product` on `int_1` and `int_2`, assigning their outputs to two separate variables called `int_sum `and `int_product`.\n",
    "\n",
    "\n",
    "# TODO - Add `int_sum` and `int_product` together using the `add_two_numbers` function we defined earlier, setting `annoyingly_verbose` to `False` and assigning the output to a variable called `answer`.\n",
    "print(answer)\n"
   ]
  }
 ],
 "metadata": {
  "kernelspec": {
   "display_name": "content-projects_new",
   "language": "python",
   "name": "python3"
  },
  "language_info": {
   "codemirror_mode": {
    "name": "ipython",
    "version": 3
   },
   "file_extension": ".py",
   "mimetype": "text/x-python",
   "name": "python",
   "nbconvert_exporter": "python",
   "pygments_lexer": "ipython3",
   "version": "3.10.8"
  },
  "vscode": {
   "interpreter": {
    "hash": "4b961f8166aad6ccb4cf65d0f9c742ef9c6c23ffe83ad932438cd83ed96aebaf"
   }
  }
 },
 "nbformat": 4,
 "nbformat_minor": 2
}
