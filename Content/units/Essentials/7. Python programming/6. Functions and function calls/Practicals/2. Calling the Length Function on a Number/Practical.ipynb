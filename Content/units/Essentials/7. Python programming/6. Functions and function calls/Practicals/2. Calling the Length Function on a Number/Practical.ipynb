{
 "cells": [
  {
   "cell_type": "markdown",
   "id": "40052489",
   "metadata": {},
   "source": [
    "# Calling the Length Function on a Number"
   ]
  },
  {
   "cell_type": "markdown",
   "id": "1016613e",
   "metadata": {},
   "source": [
    "#### 1. Create a variable called `my_number` and assign it the value `5`"
   ]
  },
  {
   "cell_type": "code",
   "execution_count": null,
   "id": "2c4de175",
   "metadata": {},
   "outputs": [],
   "source": []
  },
  {
   "attachments": {},
   "cell_type": "markdown",
   "id": "23e2d2a8",
   "metadata": {},
   "source": [
    "#### 2. Print the length of `my_number` and assign it to a variable called `my_length`\n",
    "\n",
    "Did it work? Why not?"
   ]
  },
  {
   "cell_type": "code",
   "execution_count": null,
   "id": "b8c7ce5a",
   "metadata": {},
   "outputs": [],
   "source": []
  }
 ],
 "metadata": {
  "language_info": {
   "name": "python"
  }
 },
 "nbformat": 4,
 "nbformat_minor": 5
}
