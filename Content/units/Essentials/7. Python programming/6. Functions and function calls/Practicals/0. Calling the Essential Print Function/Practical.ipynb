{
 "cells": [
  {
   "cell_type": "markdown",
   "id": "c39806a8",
   "metadata": {},
   "source": [
    "# Calling the Essential Print Function"
   ]
  },
  {
   "cell_type": "markdown",
   "id": "28f7d80d",
   "metadata": {},
   "source": [
    "#### 1. Print out the message \"This print statement was created in Python\"."
   ]
  },
  {
   "cell_type": "code",
   "execution_count": null,
   "id": "023b1ba5",
   "metadata": {},
   "outputs": [],
   "source": []
  }
 ],
 "metadata": {},
 "nbformat": 4,
 "nbformat_minor": 5
}
