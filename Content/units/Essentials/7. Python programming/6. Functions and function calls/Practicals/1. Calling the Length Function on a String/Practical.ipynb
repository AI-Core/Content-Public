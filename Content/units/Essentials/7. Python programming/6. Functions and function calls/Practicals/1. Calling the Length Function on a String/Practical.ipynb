{
 "cells": [
  {
   "cell_type": "markdown",
   "id": "dc94b80a",
   "metadata": {},
   "source": [
    "# Calling the Length Function on a String"
   ]
  },
  {
   "cell_type": "markdown",
   "id": "246c6b2b",
   "metadata": {},
   "source": [
    "#### 1. Create a variable called `my_string` and assign it the value `\"Hello World\"`"
   ]
  },
  {
   "cell_type": "code",
   "execution_count": null,
   "id": "c2bae2c1",
   "metadata": {},
   "outputs": [],
   "source": []
  },
  {
   "cell_type": "markdown",
   "id": "e3c3366e",
   "metadata": {},
   "source": [
    "#### 2. Print the length of `my_string` and assign it to a variable called `my_length`"
   ]
  },
  {
   "cell_type": "code",
   "execution_count": null,
   "id": "5c61b499",
   "metadata": {},
   "outputs": [],
   "source": []
  },
  {
   "attachments": {},
   "cell_type": "markdown",
   "id": "36ae845a",
   "metadata": {},
   "source": [
    "#### 3. Print the value of `my_length`\n",
    "\n",
    "What does the length function do on a string?"
   ]
  },
  {
   "cell_type": "code",
   "execution_count": null,
   "id": "43b7c31f",
   "metadata": {},
   "outputs": [],
   "source": []
  }
 ],
 "metadata": {
  "language_info": {
   "name": "python"
  }
 },
 "nbformat": 4,
 "nbformat_minor": 5
}
