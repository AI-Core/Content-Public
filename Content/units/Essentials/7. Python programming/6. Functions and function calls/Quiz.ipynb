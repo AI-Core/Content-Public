{
 "cells": [
  {
   "attachments": {},
   "cell_type": "markdown",
   "metadata": {},
   "source": [
    "# Functions and function calls"
   ]
  },
  {
   "attachments": {},
   "cell_type": "markdown",
   "metadata": {},
   "source": [
    "## What is the keyword used to define a function?\n",
    "\n",
    "- `func`\n",
    "- `function`\n",
    "- `def` ***\n",
    "- `define`\n",
    "- `create`\n"
   ]
  },
  {
   "attachments": {},
   "cell_type": "markdown",
   "metadata": {},
   "source": [
    "## What elements are required to define a function? Select all that apply.\n",
    "\n",
    "- The `def` keyword ***\n",
    "- The function body ***\n",
    "- The `return` keyword\n",
    "- The `function` keyword\n",
    "- The name you want to give the function ***\n",
    "- A colon at the end of the function header ***"
   ]
  },
  {
   "attachments": {},
   "cell_type": "markdown",
   "metadata": {},
   "source": [
    "## Which of the following statements are true about function calls? Select all that apply.\n",
    "\n",
    "- A function call needs the `def` keyword to be executed\n",
    "- A function call needs the `return` keyword to be executed\n",
    "- A function call is a statement that tells the computer to execute the code in a function ***\n",
    "- A function call always needs an argument list enclosed in parentheses \n",
    "- A function call consists of the function name followed by an argument list enclosed in parentheses if the functions definition includes parameters. If the function is defined without any parameters, a call will consist of the function name followed by empty parentheses ***\n"
   ]
  },
  {
   "attachments": {},
   "cell_type": "markdown",
   "metadata": {},
   "source": [
    "## What elements are required to call a function? Select all that apply.\n",
    "\n",
    "- The `def` keyword\n",
    "- The function body\n",
    "- The `return` keyword\n",
    "- The `function` keyword\n",
    "- The name of the function ***\n",
    "- A colon at the end of the function header\n",
    "- An argument list enclosed in parentheses if the function definition has any parameters, or an empty parentheses otherwise ***"
   ]
  },
  {
   "attachments": {},
   "cell_type": "markdown",
   "metadata": {},
   "source": [
    "## Which of the following are Python built-in functions? Select all that apply.\n",
    "\n",
    "- `print` ***\n",
    "- `input` ***\n",
    "- `len` ***\n",
    "- `type` ***\n"
   ]
  },
  {
   "attachments": {},
   "cell_type": "markdown",
   "metadata": {},
   "source": [
    "## In the following block of code, which are the parameters?\n",
    "\n",
    "```python\n",
    "\n",
    "def add(a, b):\n",
    "    return a + b\n",
    "\n",
    "add(1, 2)\n",
    "```\n",
    "\n",
    "- `add`\n",
    "- `a` and `b` ***\n",
    "- `1` and `2`\n",
    "- `def` and `return`\n",
    "- `a + b`\n",
    "- `3`"
   ]
  },
  {
   "attachments": {},
   "cell_type": "markdown",
   "metadata": {},
   "source": [
    "## In the following block of code, which are the arguments?\n",
    "\n",
    "```python\n",
    "\n",
    "def add(a, b):\n",
    "    return a + b\n",
    "\n",
    "add(1, 2)\n",
    "```\n",
    "\n",
    "- `add`\n",
    "- `a` and `b`\n",
    "- `1` and `2` ***\n",
    "- `def` and `return`\n",
    "- `a + b`\n",
    "- `3`"
   ]
  },
  {
   "attachments": {},
   "cell_type": "markdown",
   "metadata": {},
   "source": [
    "## What does the following function return when we pass `\"John\"`?\n",
    "\n",
    "```python\n",
    "def my_function(name):\n",
    "    print(\"Hello \" + name)\n",
    "```\n",
    "\n",
    "- `None` ***\n",
    "- `\"John\"`\n",
    "- `\"Hello John\"`\n",
    "- `\"Hello\"`"
   ]
  }
 ],
 "metadata": {
  "language_info": {
   "name": "python"
  },
  "orig_nbformat": 4
 },
 "nbformat": 4,
 "nbformat_minor": 2
}
