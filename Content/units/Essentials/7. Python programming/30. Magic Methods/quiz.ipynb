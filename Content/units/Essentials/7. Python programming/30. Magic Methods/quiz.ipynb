{
 "cells": [
  {
   "attachments": {},
   "cell_type": "markdown",
   "metadata": {},
   "source": [
    "# Magic Methods"
   ]
  },
  {
   "attachments": {},
   "cell_type": "markdown",
   "metadata": {},
   "source": [
    "## Which of the following are Python magic methods? Select all that apply.\n",
    "\n",
    "- `__str__` ***\n",
    "- `__getitem__` ***\n",
    "- `__repr` ***\n",
    "- `__imple__` \n",
    "- `__destory__`\n",
    "- `__close__`"
   ]
  },
  {
   "attachments": {},
   "cell_type": "markdown",
   "metadata": {},
   "source": [
    "## Which magic method is used to customize the behavior of the len() function for an object of a custom class?\n",
    "\n",
    "- `__length__`\n",
    "- `__len__` ***\n",
    "- `__size__`\n",
    "- `__sizeof__`"
   ]
  },
  {
   "attachments": {},
   "cell_type": "markdown",
   "metadata": {},
   "source": [
    "## Which of the following are characteristics of magic methods in Python? Select all that apply.\n",
    "\n",
    "- They begin and end with double underscores. ***\n",
    "- They allow developers to change the meaning of Python operators. ***\n",
    "- They are methods that are automatically invoked by Python in response to certain operations. ***\n",
    "- They are only used for mathematical operations."
   ]
  },
  {
   "attachments": {},
   "cell_type": "markdown",
   "metadata": {},
   "source": [
    "## What is the purpose of the __init__ magic method in Python?\n",
    "\n",
    "- To create a loop.\n",
    "- To initialize an instance of a class. ***\n",
    "- To create a new class.\n",
    "- None of the above"
   ]
  },
  {
   "cell_type": "markdown",
   "metadata": {},
   "source": []
  }
 ],
 "metadata": {
  "kernelspec": {
   "display_name": "base",
   "language": "python",
   "name": "python3"
  },
  "language_info": {
   "name": "python",
   "version": "3.10.9"
  },
  "orig_nbformat": 4,
  "vscode": {
   "interpreter": {
    "hash": "a2592652612463181e69ac003232387e3e9a99279aa6b168e76f5df16d5110f4"
   }
  }
 },
 "nbformat": 4,
 "nbformat_minor": 2
}
