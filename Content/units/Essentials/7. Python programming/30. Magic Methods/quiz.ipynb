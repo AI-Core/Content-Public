{
 "cells": [
  {
   "attachments": {},
   "cell_type": "markdown",
   "metadata": {},
   "source": [
    "# Magic Methods"
   ]
  },
  {
   "attachments": {},
   "cell_type": "markdown",
   "metadata": {},
   "source": [
    "## Which of the following are Python magic methods? Select all that apply.\n",
    "\n",
    "- `__str__` ***\n",
    "- `__getitem__` ***\n",
    "- `__repr` ***\n",
    "- `__imple__` \n",
    "- `__destory__`\n",
    "- `__close__`"
   ]
  },
  {
   "attachments": {},
   "cell_type": "markdown",
   "metadata": {},
   "source": [
    "## Given the following code what would be printed when the statements below are run? Select all that apply.\n",
    "\n",
    "```python\n",
    "class WeirdMath:\n",
    "\n",
    "    def __init__(self, num):\n",
    "        self.num = num\n",
    "\n",
    "    def __lt__(self, another_num):\n",
    "        return self.num * another_num\n",
    "\n",
    "    def __len__(self):\n",
    "        return self.num / 2\n",
    "    \n",
    "    def __str__(self):\n",
    "        return self.num + 10\n",
    "\n",
    "new_calc = WeirdMath(2)\n",
    "\n",
    "```\n",
    "- `print(new_calc < 2)` prints `4` ***\n",
    "- `print(len(new_calc))` prints `28` ***\n",
    "- `print(new_calc)` prints `12` ***\n",
    "- `print(new_calc < 2)` prints `True`\n",
    "- `print(new_calc < 2)` prints `False`\n",
    "- `print(len(new_calc))` prints `2`\n",
    "- `print(new_calc)` prints `2`"
   ]
  }
 ],
 "metadata": {
  "kernelspec": {
   "display_name": "base",
   "language": "python",
   "name": "python3"
  },
  "language_info": {
   "name": "python",
   "version": "3.10.9"
  },
  "orig_nbformat": 4,
  "vscode": {
   "interpreter": {
    "hash": "a2592652612463181e69ac003232387e3e9a99279aa6b168e76f5df16d5110f4"
   }
  }
 },
 "nbformat": 4,
 "nbformat_minor": 2
}
