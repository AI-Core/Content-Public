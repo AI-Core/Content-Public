{
 "cells": [
  {
   "cell_type": "markdown",
   "source": [
    "# Solutions for Arithmetic Variable Assignment and Strings"
   ],
   "metadata": {}
  },
  {
   "cell_type": "markdown",
   "source": [
    "## Numbers Solutions"
   ],
   "metadata": {}
  },
  {
   "cell_type": "markdown",
   "source": [
    "### Question 1:\n",
    "What is the difference between an integer and a floating-point number?"
   ],
   "metadata": {}
  },
  {
   "cell_type": "markdown",
   "source": [
    "Float contains a decimal point anywhere: 3 = int, 3.0 = float"
   ],
   "metadata": {}
  },
  {
   "cell_type": "markdown",
   "source": [
    "### Question 2:\n",
    "Write an expression using addition & subtraction & multiplication & division that is equal to 1044.75"
   ],
   "metadata": {}
  },
  {
   "cell_type": "code",
   "execution_count": 2,
   "source": [
    "# Many possible answers\r\n",
    "(10 + 10) ** 2 * (3 - 0.5) + 179 / 4"
   ],
   "outputs": [
    {
     "output_type": "execute_result",
     "data": {
      "text/plain": [
       "1044.75"
      ]
     },
     "metadata": {},
     "execution_count": 2
    }
   ],
   "metadata": {}
  },
  {
   "cell_type": "markdown",
   "source": [
    "### Question 3:\n",
    "What is the modulo operator and name one function of it?"
   ],
   "metadata": {}
  },
  {
   "cell_type": "markdown",
   "source": [
    "% gives the remainder of a division <br>\n",
    "x%2 == 0 if and only if x is even"
   ],
   "metadata": {}
  },
  {
   "cell_type": "markdown",
   "source": [
    "### Question 4:\n",
    "What is the difference between normal and floor division?"
   ],
   "metadata": {}
  },
  {
   "cell_type": "markdown",
   "source": [
    "x//y gives the whole number of times y goes into x without a decimal remainder"
   ],
   "metadata": {}
  },
  {
   "cell_type": "markdown",
   "source": [
    "### Question 5:\n",
    "What is 1 \\+ 2 \\* 3 \\- 4 \\/ 6(6 \\+ 7) \\* 8 \\*\\* 9\\?"
   ],
   "metadata": {}
  },
  {
   "cell_type": "code",
   "execution_count": 13,
   "source": [
    "1 + 2*3 - 4/6 * (6 + 7) * 8**9"
   ],
   "outputs": [
    {
     "output_type": "execute_result",
     "data": {
      "text/plain": [
       "-1163220302.3333333"
      ]
     },
     "metadata": {},
     "execution_count": 13
    }
   ],
   "metadata": {}
  },
  {
   "cell_type": "markdown",
   "source": [
    "## Variable Assignment Solutions"
   ],
   "metadata": {}
  },
  {
   "cell_type": "markdown",
   "source": [
    "Use variable assignment to calculate some shopping bills:\n",
    "- Tomatoes cost 87p for a pack of 6\n",
    "- 500g sugar costs £1.09\n",
    "- Washing sponges cost 29p for a pack of 10\n",
    "- Juice is £1.89 per 1.5l bottle\n",
    "- Foil is £1.29 per 30m roll"
   ],
   "metadata": {}
  },
  {
   "cell_type": "markdown",
   "source": [
    "### Question 1:\n",
    "Assign variables for each of these items and their prices"
   ],
   "metadata": {}
  },
  {
   "cell_type": "code",
   "execution_count": 23,
   "source": [
    "tomato = 0.87\n",
    "sugar = 1.09\n",
    "washing_sponges = 0.29\n",
    "juice = 1.89\n",
    "foil = 1.29"
   ],
   "outputs": [],
   "metadata": {}
  },
  {
   "cell_type": "markdown",
   "source": [
    "### Question 2:\n",
    "    \n",
    "How much for 1kg sugar?"
   ],
   "metadata": {}
  },
  {
   "cell_type": "code",
   "execution_count": 6,
   "source": [
    "2 * sugar"
   ],
   "outputs": [
    {
     "output_type": "execute_result",
     "data": {
      "text/plain": [
       "2.18"
      ]
     },
     "metadata": {},
     "execution_count": 6
    }
   ],
   "metadata": {}
  },
  {
   "cell_type": "markdown",
   "source": [
    "### Question 3:\n",
    "\n",
    "How much for 20 washing sponges, 3l of juice, 2 packs of tomatoes?"
   ],
   "metadata": {}
  },
  {
   "cell_type": "code",
   "execution_count": 7,
   "source": [
    "2*washing_sponges + 2*juice + 2*tomato"
   ],
   "outputs": [
    {
     "output_type": "execute_result",
     "data": {
      "text/plain": [
       "6.1"
      ]
     },
     "metadata": {},
     "execution_count": 7
    }
   ],
   "metadata": {}
  },
  {
   "cell_type": "markdown",
   "source": [
    "### Question 4:\n",
    "\n",
    "How much to shop for 5 people, if they each need:\n",
    "- A pack of tomatoes\n",
    "- 3 washing sponges\n",
    "- A litre of juice\n",
    "- 20m of foil\n",
    "- 180g sugar\n",
    "<br><br>\n",
    "Bear in mind, you can only purchase items in full packs from a shop, but they can be divided up at home.\n",
    "<br><br>\n",
    "Provide your answer as a printed variable called 'total'."
   ],
   "metadata": {}
  },
  {
   "cell_type": "code",
   "execution_count": 29,
   "source": [
    "total = 5*tomato + 2*washing_sponges + 4*juice + 4*foil + 2*sugar\n",
    "print(total)"
   ],
   "outputs": [
    {
     "output_type": "stream",
     "name": "stdout",
     "text": [
      "19.83\n"
     ]
    }
   ],
   "metadata": {}
  },
  {
   "cell_type": "markdown",
   "source": [
    "### Question 5:\n",
    "These prices do not include VAT, calculate the VAT on the shopping from Question 4, and then calculate the total with VAT. Provide both numbers rounded appropriately for pricing in pounds and pence. VAT is 20%."
   ],
   "metadata": {}
  },
  {
   "cell_type": "code",
   "execution_count": 28,
   "source": [
    "vat_rate = 0.2\n",
    "\n",
    "vat = vat_rate * total\n",
    "\n",
    "total_with_vat = total + vat\n",
    "\n",
    "print(round(tax, 2))\n",
    "print(round(taxed_total, 2))"
   ],
   "outputs": [
    {
     "output_type": "stream",
     "name": "stdout",
     "text": [
      "3.97\n",
      "23.8\n"
     ]
    }
   ],
   "metadata": {}
  },
  {
   "cell_type": "markdown",
   "source": [
    "## Strings Solutions"
   ],
   "metadata": {}
  },
  {
   "cell_type": "markdown",
   "source": [
    "__Cuboid:__\n",
    "- Height (h): 25/7\n",
    "- Width (w): 25/2\n",
    "- Length (l): 35\n",
    "\n",
    "__Cone:__\n",
    "- Height (h): 10\n",
    "- Radius of base (r): 3"
   ],
   "metadata": {}
  },
  {
   "cell_type": "markdown",
   "source": [
    "### Question 1:\n",
    "\n",
    "Use formulae to produce the volumes and surface areas of the following shapes and assign them to variables. <br>\n",
    "pi has been imported for you, it is just called pi."
   ],
   "metadata": {}
  },
  {
   "cell_type": "markdown",
   "source": [
    "- Cuboid volume = l \\* w \\* h\n",
    "- Cuboid surface area = 2(lw + lh + hw)"
   ],
   "metadata": {}
  },
  {
   "cell_type": "markdown",
   "source": [
    "- Cone volume = pi * r\\*\\*2 * h/3\n",
    "- Cone surface area = pi * r(r + sqrt(h\\*\\*2 + r\\*\\*2))"
   ],
   "metadata": {}
  },
  {
   "cell_type": "code",
   "execution_count": 31,
   "source": [
    "cuboid_vol = 35 * 12.5 * 25 / 7\n",
    "\n",
    "cuboid_sa = 2 * (35 * 12.5 + 35 * 25 / 7 + 25 / 7 * 12.5)"
   ],
   "outputs": [],
   "metadata": {}
  },
  {
   "cell_type": "code",
   "execution_count": 32,
   "source": [
    "from math import pi # ignore this line, it just imports pi\n",
    "\n",
    "cone_vol = pi * 3**2 * 10/3\n",
    "\n",
    "cone_sa = pi * 3 * (3 + (10**2 + 3**2) ** (1/2))"
   ],
   "outputs": [],
   "metadata": {}
  },
  {
   "cell_type": "markdown",
   "source": [
    "### Question 2:\n",
    "\n",
    "Write 2 print statements (one for each shape) in the format: \n",
    "- '(shape) has volume x and surface area y.' <br><br>\n",
    "Where:\n",
    "- shape is cuboid or cone\n",
    "- x is the respective volume you have just defined added in by .format\n",
    "- y is the respective surface area you have just defined added in by .format"
   ],
   "metadata": {}
  },
  {
   "cell_type": "code",
   "execution_count": 39,
   "source": [
    "# both types of solution valid\n",
    "print(\"Cuboid has volume {v} and surface area {s}.\".format(v=cuboid_vol, s=cuboid_sa))\n",
    "\n",
    "print(\"Cone has volume {} and surface area {}.\".format(cone_vol, cone_sa))"
   ],
   "outputs": [
    {
     "output_type": "stream",
     "name": "stdout",
     "text": [
      "Cuboid has volume 1562.5 and surface area 1214.2857142857142.\n",
      "Cone has volume 94.2477796076938 and surface area 126.6719045711654.\n"
     ]
    }
   ],
   "metadata": {}
  },
  {
   "cell_type": "markdown",
   "source": [
    "### Question 3:\n",
    "\n",
    "Write 2 more print statements, this time with the dimensions of each shape formatted in, and all of the numbers rounded to 2dp. The statements should take the form:\n",
    "- '(shape) has (dimensions), with volume x and surface area y.'\n",
    "<br><br>\n",
    "The dimensions statements are provided for you."
   ],
   "metadata": {}
  },
  {
   "cell_type": "code",
   "execution_count": 40,
   "source": [
    "cuboid_dim = \"height 3.57, width 12.50, length 35.00\"\n",
    "\n",
    "cone_dim = \"height 10.00, radius 3.00\"\n",
    "\n",
    "print(\"Cuboid has {}, with volume {:3.2f} and surface area {:3.2f}\".format(cuboid_dim, cuboid_vol, cuboid_sa))\n",
    "\n",
    "print(\"Cone has {d}, with volume {v:3.2f} and surface area {s:3.2f}\".format(d=cone_dim, v=cone_vol, s=cone_sa))"
   ],
   "outputs": [
    {
     "output_type": "stream",
     "name": "stdout",
     "text": [
      "Cuboid has height 3.57, width 12.50, length 35.00, with volume 1562.50 and surface area 1214.29\n",
      "Cone has height 10.00, radius 3.00, with volume 94.25 and surface area 126.67\n"
     ]
    }
   ],
   "metadata": {}
  },
  {
   "cell_type": "code",
   "execution_count": null,
   "source": [],
   "outputs": [],
   "metadata": {}
  }
 ],
 "metadata": {
  "kernelspec": {
   "display_name": "Python 3",
   "language": "python",
   "name": "python3"
  },
  "language_info": {
   "codemirror_mode": {
    "name": "ipython",
    "version": 3
   },
   "file_extension": ".py",
   "mimetype": "text/x-python",
   "name": "python",
   "nbconvert_exporter": "python",
   "pygments_lexer": "ipython3",
   "version": "3.7.6"
  }
 },
 "nbformat": 4,
 "nbformat_minor": 4
}