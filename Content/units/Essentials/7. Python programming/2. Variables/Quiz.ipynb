{
 "cells": [
  {
   "attachments": {},
   "cell_type": "markdown",
   "metadata": {},
   "source": [
    "# Variables"
   ]
  },
  {
   "attachments": {},
   "cell_type": "markdown",
   "metadata": {},
   "source": [
    "## What is a variable in Python?\n",
    "\n",
    "- A variable is the name given to a value in your code, that can be used to refer to that value later in your code ***\n",
    "- A variable is anything that can be changed in your code\n",
    "- A variable is a line of code that is ignored by Python\n",
    "- A variable is a line of code that prints a value to the screen\n",
    "- Python doesn't have variables"
   ]
  },
  {
   "attachments": {},
   "cell_type": "markdown",
   "metadata": {},
   "source": [
    "## How do you assign a value to a variable?\n",
    "\n",
    "- You use the `equals` keyword\n",
    "- You use the `is` keyword\n",
    "- You use the `assign` keyword\n",
    "- You use the `=` sign ***\n",
    "- You use the `==` sign\n",
    "\n"
   ]
  },
  {
   "attachments": {},
   "cell_type": "markdown",
   "metadata": {},
   "source": [
    "## Which of the following assignments is NOT valid?\n",
    "\n",
    "- `x = 5`\n",
    "- `x = 5 + 5`\n",
    "- `x = 5 + y` (Assuming `y` is an integer)\n",
    "- `x = y + 5` (Assuming `y` is an integer)\n",
    "- `x = y + z` (Assuming `y` and `z` are integers)\n",
    "- `x + y = 5` (Assuming `x` and `y` are integers) ***"
   ]
  },
  {
   "attachments": {},
   "cell_type": "markdown",
   "metadata": {},
   "source": [
    "## Which of the following is NOT a valid variable name?\n",
    "\n",
    "- `my_variable`\n",
    "- `my-variable` ***\n",
    "- `my_variable_1`\n",
    "- `myVariable` \n",
    "- `myvariable`"
   ]
  },
  {
   "attachments": {},
   "cell_type": "markdown",
   "metadata": {},
   "source": [
    "## Which of the following is NOT a valid variable name?\n",
    "\n",
    "- `my_var_1`\n",
    "- `my_var1`\n",
    "- `myvar1`\n",
    "- `1_my_var` ***\n",
    "- `my_var`"
   ]
  },
  {
   "attachments": {},
   "cell_type": "markdown",
   "metadata": {},
   "source": [
    "## True or False: Once you assign a value to a variable, you can't change its value.\n",
    "\n",
    "- True\n",
    "- False ***"
   ]
  },
  {
   "attachments": {},
   "cell_type": "markdown",
   "metadata": {},
   "source": [
    "## What is the output of the following code?\n",
    "\n",
    "```python\n",
    "x = 5\n",
    "y = 10\n",
    "x = y\n",
    "print(x)\n",
    "```\n",
    "\n",
    "- `5` \n",
    "- `10` ***\n",
    "- `15`\n",
    "- This will throw an error\n",
    "- There is no output"
   ]
  },
  {
   "attachments": {},
   "cell_type": "markdown",
   "metadata": {},
   "source": [
    "## What is the output of the following code?\n",
    "\n",
    "```python\n",
    "x = 5\n",
    "y = 10\n",
    "x = x + y\n",
    "print(x)\n",
    "```\n",
    "\n",
    "- `5`\n",
    "- `10`\n",
    "- `15` ***\n",
    "- This will throw an error\n",
    "- There is no output"
   ]
  },
  {
   "attachments": {},
   "cell_type": "markdown",
   "metadata": {},
   "source": [
    "## What is the correct syntax for assigning a value to a variable in Python?\n",
    "\n",
    "- `x = 5` ***\n",
    "- `5 = x`\n",
    "- `x == 5`\n",
    "- `x => 5`"
   ]
  },
  {
   "attachments": {},
   "cell_type": "markdown",
   "metadata": {},
   "source": [
    "## Which of the following variable name follows the variables naming conventions in Python?\n",
    "\n",
    "- `2var`\n",
    "- `_var` ***\n",
    "- `var!`\n",
    "- `var-name`"
   ]
  },
  {
   "attachments": {},
   "cell_type": "markdown",
   "metadata": {},
   "source": [
    "## How do you call a variable in Python?\n",
    "\n",
    "- `variable_name` ***\n",
    "- `call(variable_name)`\n",
    "- `print(variable_name)`\n",
    "- None of the above"
   ]
  },
  {
   "attachments": {},
   "cell_type": "markdown",
   "metadata": {},
   "source": [
    "## What is the purpose of the `print()` function in Python?\n",
    "\n",
    "- It assigns a value to a variable\n",
    "- It reassigns a variable\n",
    "- It prints the value of a variable ***\n",
    "- None of the above\n"
   ]
  },
  {
   "attachments": {},
   "cell_type": "markdown",
   "metadata": {},
   "source": [
    "## True or False: Variables in Python can be reassigned to different values.\n",
    "\n",
    "- True ***\n",
    "- False"
   ]
  },
  {
   "attachments": {},
   "cell_type": "markdown",
   "metadata": {},
   "source": [
    "## What are the basic variable types in Python?\n",
    "\n",
    "- int, float, bool, str ***\n",
    "- integer, decimal, boolean, string\n",
    "- number, boolean, character, text\n",
    "- digit, floating point, binary, character"
   ]
  },
  {
   "attachments": {},
   "cell_type": "markdown",
   "metadata": {},
   "source": [
    "## What is a recommended best practice when naming variables in Python?\n",
    "\n",
    "- Using single-letter variable names for brevity\n",
    "- Starting variable names with an uppercase letter\n",
    "- Including spaces and special characters in variable names\n",
    "- Using descriptive names that indicate the variable's purpose ***"
   ]
  },
  {
   "attachments": {},
   "cell_type": "markdown",
   "metadata": {},
   "source": [
    "## What is a common error that occurs when calling a variable that hasn't been defined?\n",
    "\n",
    "- `SyntaxError`\n",
    "- `NameError` ***\n",
    "- `TypeError`\n",
    "- `ValueError`"
   ]
  }
 ],
 "metadata": {
  "language_info": {
   "name": "python"
  },
  "orig_nbformat": 4
 },
 "nbformat": 4,
 "nbformat_minor": 2
}
