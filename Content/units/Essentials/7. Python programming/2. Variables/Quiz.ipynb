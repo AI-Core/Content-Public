{
 "cells": [
  {
   "attachments": {},
   "cell_type": "markdown",
   "metadata": {},
   "source": [
    "# Variables"
   ]
  },
  {
   "attachments": {},
   "cell_type": "markdown",
   "metadata": {},
   "source": [
    "## What is a variable in Python?\n",
    "\n",
    "- A variable is the name given to a value in your code, that can be used to refer to that value later in your code ***\n",
    "- A variable is anything that can be changed in your code\n",
    "- A variable is a line of code that is ignored by Python\n",
    "- A variable is a line of code that prints a value to the screen\n",
    "- Python doesn't have variables"
   ]
  },
  {
   "attachments": {},
   "cell_type": "markdown",
   "metadata": {},
   "source": [
    "## How do you assign a value to a variable?\n",
    "\n",
    "- You use the `equals` keyword\n",
    "- You use the `is` keyword\n",
    "- You use the `assign` keyword\n",
    "- You use the `=` sign ***\n",
    "- You use the `==` sign\n",
    "\n"
   ]
  },
  {
   "attachments": {},
   "cell_type": "markdown",
   "metadata": {},
   "source": [
    "## Which of the following is NOT a Python built-in data type?\n",
    "\n",
    "- `string`\n",
    "- `integer`\n",
    "- `hashmap` ***\n",
    "- `float`\n",
    "- `list`"
   ]
  },
  {
   "attachments": {},
   "cell_type": "markdown",
   "metadata": {},
   "source": [
    "## Which of the following assignments is NOT valid?\n",
    "\n",
    "- `x = 5`\n",
    "- `x = 5 + 5`\n",
    "- `x = 5 + y` (Assuming `y` is an integer)\n",
    "- `x = y + 5` (Assuming `y` is an integer)\n",
    "- `x = y + z` (Assuming `y` and `z` are integers)\n",
    "- `x + y = 5` (Assuming `x` and `y` are integers) ***"
   ]
  },
  {
   "attachments": {},
   "cell_type": "markdown",
   "metadata": {},
   "source": [
    "## Which of the following is NOT a valid variable name?\n",
    "\n",
    "- `my_variable`\n",
    "- `my-variable` ***\n",
    "- `my_variable_1`\n",
    "- `myVariable` \n",
    "- `myvariable`"
   ]
  },
  {
   "attachments": {},
   "cell_type": "markdown",
   "metadata": {},
   "source": [
    "## Which of the following is NOT a valid variable name?\n",
    "\n",
    "- `my_var_1`\n",
    "- `my_var1`\n",
    "- `myvar1`\n",
    "- `1_my_var` ***\n",
    "- `my_var`"
   ]
  },
  {
   "attachments": {},
   "cell_type": "markdown",
   "metadata": {},
   "source": [
    "## Which of the following is NOT a reserved keyword in Python?\n",
    "\n",
    "- `assert`\n",
    "- `assign` ***\n",
    "- `def`\n",
    "- `if`\n",
    "- `for`\n",
    "- `True`\n",
    "- `while`"
   ]
  },
  {
   "attachments": {},
   "cell_type": "markdown",
   "metadata": {},
   "source": [
    "## True or False: Once you assign a value to a variable, you can't change its value.\n",
    "\n",
    "- True\n",
    "- False ***"
   ]
  },
  {
   "attachments": {},
   "cell_type": "markdown",
   "metadata": {},
   "source": [
    "## What is the output of the following code?\n",
    "\n",
    "```python\n",
    "x = 5\n",
    "y = 10\n",
    "x = y\n",
    "print(x)\n",
    "```\n",
    "\n",
    "- `5` \n",
    "- `10` ***\n",
    "- `15`\n",
    "- This will throw an error\n",
    "- There is no output"
   ]
  },
  {
   "attachments": {},
   "cell_type": "markdown",
   "metadata": {},
   "source": [
    "## What is the output of the following code?\n",
    "\n",
    "```python\n",
    "x = 5\n",
    "y = 10\n",
    "x = x + y\n",
    "print(x)\n",
    "```\n",
    "\n",
    "- `5`\n",
    "- `10`\n",
    "- `15` ***\n",
    "- This will throw an error\n",
    "- There is no output"
   ]
  }
 ],
 "metadata": {
  "language_info": {
   "name": "python"
  },
  "orig_nbformat": 4
 },
 "nbformat": 4,
 "nbformat_minor": 2
}
