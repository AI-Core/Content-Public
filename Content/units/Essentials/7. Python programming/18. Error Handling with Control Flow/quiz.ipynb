{
 "cells": [
  {
   "attachments": {},
   "cell_type": "markdown",
   "metadata": {},
   "source": [
    "# Error Handling in Python"
   ]
  },
  {
   "attachments": {},
   "cell_type": "markdown",
   "metadata": {},
   "source": [
    "## Why do we implement error handling in our code?\n",
    "\n",
    "- If we don't implement error handling, the interpreter will stop when it encounters an error, and no subsequent code will run ***\n",
    "- It allows us to define code which could help correct errors while a code is running\n",
    "- Our code wouldn't run without error handling\n",
    "- So that any errors can be reported to the user of the programme\n",
    "- As it stops errors completely when the code is running\n",
    "  "
   ]
  },
  {
   "attachments": {},
   "cell_type": "markdown",
   "metadata": {},
   "source": [
    "## Which of the following statements are true about the `try/except/finally` code motif? Select all that apply.\n",
    "\n",
    "- `try` will run only if our code doesn't run into an error ***\n",
    "- `except` will run only when our code runs into an error ***\n",
    "- `finally` will always run after the `try` or `except` conditions are met ***\n",
    "- `finally` runs only if the `try` statement is run\n",
    "- `finally` is run only if the `except` statement is run \n",
    "- Code in all clauses run every time our code is executed\n",
    "  "
   ]
  },
  {
   "attachments": {},
   "cell_type": "markdown",
   "metadata": {},
   "source": [
    "## True or False: Each `try` / `except` block can only have one `except` statement.\n",
    "\n",
    "- True\n",
    "- False ***"
   ]
  },
  {
   "attachments": {},
   "cell_type": "markdown",
   "metadata": {},
   "source": [
    "## What is the purpose of the `finally` block in a `try-except` statement?\n",
    "\n",
    "- To catch and handle exceptions\n",
    "- To execute code regardless of whether an exception occurs or not ***\n",
    "- To raise exceptions\n",
    "- To ignore exceptions"
   ]
  },
  {
   "attachments": {},
   "cell_type": "markdown",
   "metadata": {},
   "source": [
    "## What happens when an exception is not caught in Python?\n",
    "\n",
    "- The program crashes and stops running ***\n",
    "- The program ignores the exception and continues running\n",
    "- The program displays an error message and continues running\n",
    "- The program automatically corrects the error and continues running"
   ]
  },
  {
   "attachments": {},
   "cell_type": "markdown",
   "metadata": {},
   "source": [
    "## Which of the following keywords is used in Python to handle exceptions?\n",
    "\n",
    "- `throw`\n",
    "- `catch`\n",
    "- `try`\n",
    "- `except` ***\n"
   ]
  },
  {
   "attachments": {},
   "cell_type": "markdown",
   "metadata": {},
   "source": [
    "## Which of the following statements is correct regarding the `finally` clause in Python error handling?\n",
    "\n",
    "- The `finally` clause is executed only when an exception is not caught\n",
    "- The `finally` clause is executed only when an exception is caught\n",
    "- The `finally` clause is executed regardless of whether an exception is caught or not ***\n",
    "- The `finally` clause is never executed"
   ]
  },
  {
   "attachments": {},
   "cell_type": "markdown",
   "metadata": {},
   "source": [
    "## What is the purpose of the `else` clause in Python's `try-except` statement?\n",
    "\n",
    "- To execute code if an exception is caught\n",
    "- To execute code if an exception is not caught ***\n",
    "- To specify a custom exception\n",
    "- To specify a default exception\n",
    "\n"
   ]
  },
  {
   "attachments": {},
   "cell_type": "markdown",
   "metadata": {},
   "source": [
    "## What is the result of executing the following code?\n",
    "\n",
    "```python\n",
    "try:\n",
    "    1 / 0\n",
    "except ZeroDivisionError:\n",
    "    print(\"Error\")\n",
    "finally:\n",
    "    print(\"Done\")\n",
    "```\n",
    "\n",
    "- An unhandled exception occurs\n",
    "- `\"Error\"` is printed\n",
    "- `\"Done\"` is printed\n",
    "- `\"Error\"` and `\"Done\"` are printed ***"
   ]
  },
  {
   "attachments": {},
   "cell_type": "markdown",
   "metadata": {},
   "source": [
    "## Which keyword is used to explicitly raise an exception in Python?\n",
    "\n",
    "- `assert`\n",
    "- `raise` ***\n",
    "- `try`\n",
    "- `except`"
   ]
  }
 ],
 "metadata": {
  "kernelspec": {
   "display_name": "huggingface1",
   "language": "python",
   "name": "python3"
  },
  "language_info": {
   "codemirror_mode": {
    "name": "ipython",
    "version": 3
   },
   "file_extension": ".py",
   "mimetype": "text/x-python",
   "name": "python",
   "nbconvert_exporter": "python",
   "pygments_lexer": "ipython3",
   "version": "3.10.8"
  },
  "orig_nbformat": 4
 },
 "nbformat": 4,
 "nbformat_minor": 2
}
