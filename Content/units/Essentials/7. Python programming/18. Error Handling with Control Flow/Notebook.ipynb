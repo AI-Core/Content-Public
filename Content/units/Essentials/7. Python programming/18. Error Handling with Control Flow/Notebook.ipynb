{
 "cells": [
  {
   "attachments": {},
   "cell_type": "markdown",
   "metadata": {},
   "source": [
    "# Error Handling with Control Flow"
   ]
  },
  {
   "attachments": {},
   "cell_type": "markdown",
   "metadata": {},
   "source": [
    "Exception handling is a vital aspect of programming that allows you to manage and respond to unexpected events, known as *exceptions*, that can occur during the execution of your code. An exception is an abnormal condition or error that disrupts the normal flow of your program. It could be caused by factors such as invalid input, division by zero, file not found, or network errors.\n",
    "\n",
    "The goal of exception handling is to gracefully handle these exceptions and prevent them from causing program crashes or undesired behavior. By employing error handling techniques, you can detect and respond to exceptions in a controlled manner, enhancing the reliability and robustness of your code."
   ]
  },
  {
   "attachments": {},
   "cell_type": "markdown",
   "metadata": {},
   "source": [
    "## Motivation \n",
    "\n",
    "Welcome to your journey of learning about error handling with control flow in programming! Let's explore the key reasons why learning about error handling is valuable:\n",
    "- **Handling Unexpected Situations**: Error handling helps your program handle unexpected situations or problems that may happen. It's like having a backup plan to deal with things that go wrong while your program is running. This makes your program stronger and more able to handle different scenarios.\n",
    "\n",
    "- **Keeping the Program Running**: Error handling gives you control over what happens when something goes wrong. By using special code structures like `try`-`except`, you can catch errors and decide what to do instead. It's like having a safety net that prevents your program from crashing and allows it to keep running even if it encounters errors.\n",
    "\n",
    "- **Finding and Fixing Problems**: Error handling helps you find and fix problems in your program. When errors occur, you can get helpful information about what went wrong, like error messages or logs. This makes it easier to understand and solve the problems."
   ]
  },
  {
   "attachments": {},
   "cell_type": "markdown",
   "metadata": {},
   "source": [
    "## Key Concepts\n",
    "\n",
    "Key concepts related to exception handling include:\n",
    "\n",
    "### **Exception**\n",
    "\n",
    "An exception is an event that occurs during the execution of a program, resulting in the disruption of the normal flow of code. Exceptions can be caused by various factors, such as runtime errors, invalid input, or external factors like file or network operations.\n",
    "\n",
    "### Exception Types \n",
    "\n",
    "Exceptions in Python are organized into different types or classes, each representing a specific category of error. Common exception types include `ValueError`, `TypeError`, `FileNotFoundError`, and `ZeroDivisionError`, among others. By handling specific exception types, you can provide targeted responses and error messages for different exceptional scenarios.\n",
    "\n",
    "Remember we have already seen a lot of examples of different exceptions so far.\n",
    "\n",
    "\n",
    "## Try-Except Block\n",
    "\n",
    "The `try`-`except` block is a fundamental construct in exception handling that allows you to capture and handle exceptions that may occur during the execution of a specific section of code. It provides a structured way to catch and respond to exceptions, preventing them from causing program crashes or undesired behavior.\n",
    "\n",
    "The syntax of the `try`-`except` block is as follows:"
   ]
  },
  {
   "cell_type": "code",
   "execution_count": null,
   "metadata": {},
   "outputs": [],
   "source": [
    "try:\n",
    "    # Code that may raise an exception\n",
    "    # ...\n",
    "except ExceptionType:\n",
    "    # Exception handling code\n",
    "    # ...\n"
   ]
  },
  {
   "attachments": {},
   "cell_type": "markdown",
   "metadata": {},
   "source": [
    "Here's how the `try`-`except` block works:\n",
    "- The code that may raise an exception is enclosed within the `try` block. This section typically contains code that has the potential to encounter errors, such as accessing external resources, performing calculations, or parsing user input.\n",
    "- If an exception occurs within the try block, the execution of that block is immediately interrupted, and the program flow jumps to the corresponding `except` block. The `except` block specifies the type of exception it can handle by using the `ExceptionType` placeholder.\n",
    "- The `except` block contains the code that handles the exception. It provides an opportunity to respond to the exception by performing appropriate actions, displaying error messages, or taking corrective measures.\n",
    "- If an exception of the specified `ExceptionType` occurs, the corresponding `except` block is executed. If the exception does not match the specified type, it propagates up the call stack to find a suitable `except` block or, if none is found, it causes the program to terminate.\n",
    "\n",
    "Here's an example of using a `try`-`except` block:"
   ]
  },
  {
   "cell_type": "code",
   "execution_count": 1,
   "metadata": {},
   "outputs": [
    {
     "name": "stdout",
     "output_type": "stream",
     "text": [
      "Error: Division by zero\n"
     ]
    }
   ],
   "source": [
    "try:\n",
    "    # Code that may raise an exception\n",
    "    result = 10 / 0\n",
    "    print(result)\n",
    "except ZeroDivisionError:\n",
    "    # Handling ZeroDivisionError\n",
    "    print(\"Error: Division by zero\")\n"
   ]
  },
  {
   "attachments": {},
   "cell_type": "markdown",
   "metadata": {},
   "source": [
    "In this example, the `try` block attempts to perform a division operation. However, since dividing by zero is not allowed, it raises a `ZeroDivisionError`. The except block catches the `ZeroDivisionError` and executes the corresponding code to handle the error, which in this case prints an error message.\n",
    "\n",
    "If we just run the code that raise the exception, we will see the `ZeroDivisionError`:"
   ]
  },
  {
   "cell_type": "code",
   "execution_count": 2,
   "metadata": {},
   "outputs": [
    {
     "ename": "ZeroDivisionError",
     "evalue": "division by zero",
     "output_type": "error",
     "traceback": [
      "\u001b[0;31m---------------------------------------------------------------------------\u001b[0m",
      "\u001b[0;31mZeroDivisionError\u001b[0m                         Traceback (most recent call last)",
      "\u001b[1;32m/Users/maya/Desktop/AiCore Work/Content-Projects/Content/units/Essentials/7. Python programming/18. Error Handling with Control Flow/Notebook.ipynb Cell 8\u001b[0m in \u001b[0;36m<cell line: 1>\u001b[0;34m()\u001b[0m\n\u001b[0;32m----> <a href='vscode-notebook-cell:/Users/maya/Desktop/AiCore%20Work/Content-Projects/Content/units/Essentials/7.%20Python%20programming/18.%20Error%20Handling%20with%20Control%20Flow/Notebook.ipynb#X30sZmlsZQ%3D%3D?line=0'>1</a>\u001b[0m result \u001b[39m=\u001b[39m \u001b[39m10\u001b[39;49m \u001b[39m/\u001b[39;49m \u001b[39m0\u001b[39;49m\n\u001b[1;32m      <a href='vscode-notebook-cell:/Users/maya/Desktop/AiCore%20Work/Content-Projects/Content/units/Essentials/7.%20Python%20programming/18.%20Error%20Handling%20with%20Control%20Flow/Notebook.ipynb#X30sZmlsZQ%3D%3D?line=1'>2</a>\u001b[0m \u001b[39mprint\u001b[39m(result)\n",
      "\u001b[0;31mZeroDivisionError\u001b[0m: division by zero"
     ]
    }
   ],
   "source": [
    "result = 10 / 0\n",
    "print(result)"
   ]
  },
  {
   "attachments": {},
   "cell_type": "markdown",
   "metadata": {},
   "source": [
    "Let's look at another example with a function now:"
   ]
  },
  {
   "cell_type": "code",
   "execution_count": 3,
   "metadata": {},
   "outputs": [
    {
     "ename": "TypeError",
     "evalue": "add_pair() takes 2 positional arguments but 3 were given",
     "output_type": "error",
     "traceback": [
      "\u001b[0;31m---------------------------------------------------------------------------\u001b[0m",
      "\u001b[0;31mTypeError\u001b[0m                                 Traceback (most recent call last)",
      "\u001b[1;32m/Users/maya/Desktop/AiCore Work/Content-Projects/Content/units/Essentials/7. Python programming/18. Error Handling with Control Flow/Notebook.ipynb Cell 10\u001b[0m in \u001b[0;36m<cell line: 9>\u001b[0;34m()\u001b[0m\n\u001b[1;32m      <a href='vscode-notebook-cell:/Users/maya/Desktop/AiCore%20Work/Content-Projects/Content/units/Essentials/7.%20Python%20programming/18.%20Error%20Handling%20with%20Control%20Flow/Notebook.ipynb#W3sZmlsZQ%3D%3D?line=5'>6</a>\u001b[0m add_pair(\u001b[39m1\u001b[39m,\u001b[39m3\u001b[39m)\n\u001b[1;32m      <a href='vscode-notebook-cell:/Users/maya/Desktop/AiCore%20Work/Content-Projects/Content/units/Essentials/7.%20Python%20programming/18.%20Error%20Handling%20with%20Control%20Flow/Notebook.ipynb#W3sZmlsZQ%3D%3D?line=7'>8</a>\u001b[0m \u001b[39m# This throws a TypeError because too many arguments are specified.\u001b[39;00m\n\u001b[0;32m----> <a href='vscode-notebook-cell:/Users/maya/Desktop/AiCore%20Work/Content-Projects/Content/units/Essentials/7.%20Python%20programming/18.%20Error%20Handling%20with%20Control%20Flow/Notebook.ipynb#W3sZmlsZQ%3D%3D?line=8'>9</a>\u001b[0m add_pair(\u001b[39m1\u001b[39;49m,\u001b[39m2\u001b[39;49m,\u001b[39m3\u001b[39;49m)\n\u001b[1;32m     <a href='vscode-notebook-cell:/Users/maya/Desktop/AiCore%20Work/Content-Projects/Content/units/Essentials/7.%20Python%20programming/18.%20Error%20Handling%20with%20Control%20Flow/Notebook.ipynb#W3sZmlsZQ%3D%3D?line=10'>11</a>\u001b[0m \u001b[39m# This line is not executed because of the error.\u001b[39;00m\n\u001b[1;32m     <a href='vscode-notebook-cell:/Users/maya/Desktop/AiCore%20Work/Content-Projects/Content/units/Essentials/7.%20Python%20programming/18.%20Error%20Handling%20with%20Control%20Flow/Notebook.ipynb#W3sZmlsZQ%3D%3D?line=11'>12</a>\u001b[0m add_pair(\u001b[39m3\u001b[39m,\u001b[39m4\u001b[39m)\n",
      "\u001b[0;31mTypeError\u001b[0m: add_pair() takes 2 positional arguments but 3 were given"
     ]
    }
   ],
   "source": [
    "# Here, we define a simple adding function for two numbers.\n",
    "def add_pair(x,y):\n",
    "    return x + y\n",
    "\n",
    "# This function call works.\n",
    "add_pair(1,3)\n",
    "\n",
    "# This throws a TypeError because too many arguments are specified.\n",
    "add_pair(1,2,3)\n",
    "\n",
    "# This line is not executed because of the error.\n",
    "add_pair(3,4)"
   ]
  },
  {
   "cell_type": "code",
   "execution_count": 4,
   "metadata": {},
   "outputs": [
    {
     "data": {
      "text/plain": [
       "7"
      ]
     },
     "execution_count": 4,
     "metadata": {},
     "output_type": "execute_result"
    }
   ],
   "source": [
    "# we can see that this would have worked if the code had continued to run.\n",
    "add_pair(3,4)"
   ]
  },
  {
   "cell_type": "code",
   "execution_count": 5,
   "metadata": {},
   "outputs": [
    {
     "name": "stdout",
     "output_type": "stream",
     "text": [
      "There is something wrong here\n"
     ]
    }
   ],
   "source": [
    "# We can circumvent this using a try-except statement.\n",
    "# The execution switches to the except statement if the try statement throws an error.\n",
    "\n",
    "# define the function\n",
    "def add_pair(x,y):\n",
    "    return x + y\n",
    "\n",
    "\n",
    "try: # try the block of code\n",
    "    result = add_pair(1,2,3)\n",
    "    print(\"It worked\")\n",
    "    print(\"The result is {}\".format(result))\n",
    "\n",
    "except: # the block of code to run in case of an error\n",
    "    print(\"There is something wrong here\")"
   ]
  },
  {
   "cell_type": "code",
   "execution_count": 6,
   "metadata": {},
   "outputs": [
    {
     "name": "stdout",
     "output_type": "stream",
     "text": [
      "It worked\n",
      "The result is 4\n"
     ]
    }
   ],
   "source": [
    "# When the code executes correctly, the try statement is completed.\n",
    "\n",
    "def add_pair(x,y):\n",
    "    return x + y\n",
    "\n",
    "try:\n",
    "    result = add_pair(1,3)\n",
    "    print(\"It worked\")\n",
    "    print(\"The result is {}\".format(result))\n",
    "\n",
    "except:\n",
    "    print(\"There is something wrong here\")"
   ]
  },
  {
   "attachments": {},
   "cell_type": "markdown",
   "metadata": {},
   "source": [
    "## Multiple Except Blocks\n",
    "\n",
    "In addition to the basic `try`-`except` block, you can handle specific exceptions individually by using multiple except blocks. This allows you to customize the error handling logic based on the specific type of exception that occurred. By handling exceptions selectively, you can provide more specific responses and take appropriate actions based on the nature of the exception.\n",
    "\n",
    "Here's the syntax for handling specific exceptions with multiple except blocks:"
   ]
  },
  {
   "cell_type": "code",
   "execution_count": null,
   "metadata": {},
   "outputs": [],
   "source": [
    "try:\n",
    "    # Code that may raise an exception\n",
    "    # ...\n",
    "except ExceptionType1:\n",
    "    # Handling code for ExceptionType1\n",
    "    # ...\n",
    "except ExceptionType2:\n",
    "    # Handling code for ExceptionType2\n",
    "    # ...\n",
    "except:\n",
    "    # Handling code for any other exception\n",
    "    # ...\n"
   ]
  },
  {
   "attachments": {},
   "cell_type": "markdown",
   "metadata": {},
   "source": [
    "In this structure, each `except` block is associated with a specific exception type. When an exception occurs, Python matches the exception type with the except blocks in the order they are defined. The first matching except block is executed, and the subsequent except blocks are skipped. If none of the specific exception types match, the exception is caught by the last except block, which acts as a generic catch-all for any exception.\n",
    "\n",
    "Here's an example that demonstrates handling specific exceptions:"
   ]
  },
  {
   "cell_type": "code",
   "execution_count": 8,
   "metadata": {},
   "outputs": [
    {
     "name": "stdout",
     "output_type": "stream",
     "text": [
      "Error: Division by zero.\n"
     ]
    }
   ],
   "source": [
    "try:\n",
    "    # Code that may raise an exception\n",
    "    x = int(input(\"Enter a number: \"))\n",
    "    result = 10 / x\n",
    "    print(result)\n",
    "except ValueError:\n",
    "    # Handling ValueError\n",
    "    print(\"Invalid input. Please enter a valid number.\")\n",
    "except ZeroDivisionError:\n",
    "    # Handling ZeroDivisionError\n",
    "    print(\"Error: Division by zero.\")\n",
    "except:\n",
    "    # Handling any other exception\n",
    "    print(\"An error occurred.\")"
   ]
  },
  {
   "attachments": {},
   "cell_type": "markdown",
   "metadata": {},
   "source": [
    "In this example, the code prompts the user to enter a number and performs a division operation. There are two specific except blocks: one for handling `ValueError` when the user enters an invalid number, and another for handling `ZeroDivisionError` when the user enters zero. If any other exception occurs, it is caught by the generic except block.\n",
    "\n",
    "Now let's look at another example using functions:"
   ]
  },
  {
   "cell_type": "code",
   "execution_count": 9,
   "metadata": {},
   "outputs": [
    {
     "name": "stdout",
     "output_type": "stream",
     "text": [
      "There was a type error\n"
     ]
    }
   ],
   "source": [
    "def add_pair(x,y):\n",
    "    return x + y\n",
    "\n",
    "try:\n",
    "    result = add_pair(1,2,3)\n",
    "    print(\"It worked\")\n",
    "    print(\"The result is {}\".format(result))\n",
    "\n",
    "except TypeError: # executed in case a TypeError is thrown\n",
    "    print(\"There was a type error\")\n",
    "    \n",
    "except NameError: # executed in case a NameError is thrown \n",
    "    print(\"You used the wrong name\")"
   ]
  },
  {
   "cell_type": "code",
   "execution_count": 10,
   "metadata": {},
   "outputs": [
    {
     "name": "stdout",
     "output_type": "stream",
     "text": [
      "There was a type error\n"
     ]
    }
   ],
   "source": [
    "def add_pair(x,y):\n",
    "    return x + y\n",
    "\n",
    "try: # note the spelling mistake \n",
    "    result = add_pair(1,2,3)\n",
    "    print(\"It worked\")\n",
    "    print(\"The result is {}\".format(result))\n",
    "\n",
    "except TypeError: # executed in case of a TypeError\n",
    "    print(\"There was a type error\")\n",
    "    \n",
    "except NameError: # executed in case of a NameError \n",
    "    print(\"You used the wrong name\")"
   ]
  },
  {
   "attachments": {},
   "cell_type": "markdown",
   "metadata": {},
   "source": [
    "By using multiple except blocks, you can tailor your error handling approach based on the specific types of exceptions that are likely to occur in your code. This allows for more precise error messages, targeted error recovery, or specific actions to be taken for different exceptional scenarios."
   ]
  },
  {
   "attachments": {},
   "cell_type": "markdown",
   "metadata": {},
   "source": [
    "## `finally` block\n",
    "\n",
    "The `finally` block is an optional part of the `try`-`except` block structure that allows you to specify code that should be executed regardless of whether an exception occurred or not. It provides a way to define cleanup actions or finalize operations that should always be performed, regardless of the outcome of the code in the try block.\n",
    "\n",
    "The syntax for the `try`-`except`-`finally` block is as follows:"
   ]
  },
  {
   "cell_type": "code",
   "execution_count": null,
   "metadata": {},
   "outputs": [],
   "source": [
    "try:\n",
    "    # Code that may raise an exception\n",
    "    # ...\n",
    "except ExceptionType:\n",
    "    # Exception handling code\n",
    "    # ...\n",
    "finally:\n",
    "    # Code that should always be executed\n",
    "    # ...\n"
   ]
  },
  {
   "attachments": {},
   "cell_type": "markdown",
   "metadata": {},
   "source": [
    "The `finally` block is placed after all the `except` blocks. Its purpose is to define actions that must be executed, regardless of whether an exception occurred or not. It ensures that certain cleanup tasks or resource release operations are always performed, such as closing files, releasing network connections, or freeing up system resources.\n",
    "\n",
    "Here are a few key points about the `finally` block:\n",
    "- The `finally` block is optional. It can be omitted if you only want to handle exceptions without any specific cleanup actions.\n",
    "- The code in the `finally` block is guaranteed to be executed, regardless of whether an exception occurred or not\n",
    "- If an exception occurs and is not handled by an `except` block, the `finally` block will still be executed before propagating the exception further.\n",
    "\n",
    "Here's an example that demonstrates the usage of the `finally` block:"
   ]
  },
  {
   "cell_type": "code",
   "execution_count": 11,
   "metadata": {},
   "outputs": [
    {
     "name": "stdout",
     "output_type": "stream",
     "text": [
      "The result of division: 5.0\n",
      "Exiting the divide_numbers function.\n",
      "Error: Division by zero.\n",
      "Exiting the divide_numbers function.\n"
     ]
    }
   ],
   "source": [
    "def divide_numbers(a, b):\n",
    "    try:\n",
    "        result = a / b\n",
    "        print(f\"The result of division: {result}\")\n",
    "    except ZeroDivisionError:\n",
    "        print(\"Error: Division by zero.\")\n",
    "    finally:\n",
    "        print(\"Exiting the divide_numbers function.\")\n",
    "\n",
    "# Test the divide_numbers function\n",
    "divide_numbers(10, 2)\n",
    "divide_numbers(10, 0)"
   ]
  },
  {
   "attachments": {},
   "cell_type": "markdown",
   "metadata": {},
   "source": [
    "In this example, we have a function called `divide_numbers` that performs division between two numbers. Inside the `try` block, we calculate the result of the division and print it. If a `ZeroDivisionError` occurs, it is caught in the except block and an error message is printed.\n",
    "\n",
    "Regardless of whether an exception occurred or not, the `finally` block is always executed. In this case, it prints a message indicating that we are exiting the `divide_numbers` function. This ensures that the final print statement is executed, providing a consistent message to indicate the end of the function, regardless of the division outcome."
   ]
  },
  {
   "cell_type": "markdown",
   "metadata": {},
   "source": [
    "If there is an error in the finally statement, Python will still throw an error after executing the try statement, since Python cannot execute erroneous code."
   ]
  },
  {
   "attachments": {},
   "cell_type": "markdown",
   "metadata": {},
   "source": [
    "## Raising Errors \n",
    "\n",
    "One common technique in error handling is to raise errors when certain conditions are not met or exceptional situations occur. Raising errors allows you to explicitly signal that something unexpected has happened and control the flow of your program accordingly.\n",
    "\n",
    "> In most programming languages, including Python, there is a dedicated keyword or function to raise errors. In Python, the `raise` statement is used to raise exceptions explicitly. It interrupts the normal flow of execution and transfers control to an exception handler.\n",
    "\n",
    "### Syntax of the `raise` Statement\n",
    "\n",
    "The raise statement typically takes an exception class (such as `ValueError` or `TypeError`). Here's the basic syntax:\n"
   ]
  },
  {
   "cell_type": "code",
   "execution_count": null,
   "metadata": {},
   "outputs": [],
   "source": [
    "raise ExceptionClass(\"Error message\")"
   ]
  },
  {
   "attachments": {},
   "cell_type": "markdown",
   "metadata": {},
   "source": [
    "To illustrate how to raise exceptions in control flow, let's consider a hypothetical scenario where you have a function that divides two numbers but you want to ensure that the divisor is not zero. If it is zero, you want to raise an exception to signal the invalid operation. Here's an example implementation:"
   ]
  },
  {
   "cell_type": "code",
   "execution_count": 3,
   "metadata": {},
   "outputs": [
    {
     "data": {
      "text/plain": [
       "5.0"
      ]
     },
     "execution_count": 3,
     "metadata": {},
     "output_type": "execute_result"
    }
   ],
   "source": [
    "def divide_numbers(dividend, divisor):\n",
    "    if divisor == 0:\n",
    "        raise ValueError(\"Divisor cannot be zero.\")\n",
    "    else:\n",
    "        return dividend / divisor\n",
    "    \n",
    "divide_numbers(10,2)"
   ]
  },
  {
   "attachments": {},
   "cell_type": "markdown",
   "metadata": {},
   "source": [
    "But now if the `divisor` is 0:"
   ]
  },
  {
   "cell_type": "code",
   "execution_count": 4,
   "metadata": {},
   "outputs": [
    {
     "ename": "ValueError",
     "evalue": "Divisor cannot be zero.",
     "output_type": "error",
     "traceback": [
      "\u001b[0;31m---------------------------------------------------------------------------\u001b[0m",
      "\u001b[0;31mValueError\u001b[0m                                Traceback (most recent call last)",
      "\u001b[1;32m/Users/maya/Desktop/AiCore Work/Content-Projects/Content/units/Essentials/7. Python programming/18. Error Handling with Control Flow/Notebook.ipynb Cell 33\u001b[0m in \u001b[0;36m<cell line: 1>\u001b[0;34m()\u001b[0m\n\u001b[0;32m----> <a href='vscode-notebook-cell:/Users/maya/Desktop/AiCore%20Work/Content-Projects/Content/units/Essentials/7.%20Python%20programming/18.%20Error%20Handling%20with%20Control%20Flow/Notebook.ipynb#X45sZmlsZQ%3D%3D?line=0'>1</a>\u001b[0m divide_numbers(\u001b[39m10\u001b[39;49m,\u001b[39m0\u001b[39;49m)\n",
      "\u001b[1;32m/Users/maya/Desktop/AiCore Work/Content-Projects/Content/units/Essentials/7. Python programming/18. Error Handling with Control Flow/Notebook.ipynb Cell 33\u001b[0m in \u001b[0;36mdivide_numbers\u001b[0;34m(dividend, divisor)\u001b[0m\n\u001b[1;32m      <a href='vscode-notebook-cell:/Users/maya/Desktop/AiCore%20Work/Content-Projects/Content/units/Essentials/7.%20Python%20programming/18.%20Error%20Handling%20with%20Control%20Flow/Notebook.ipynb#X45sZmlsZQ%3D%3D?line=0'>1</a>\u001b[0m \u001b[39mdef\u001b[39;00m \u001b[39mdivide_numbers\u001b[39m(dividend, divisor):\n\u001b[1;32m      <a href='vscode-notebook-cell:/Users/maya/Desktop/AiCore%20Work/Content-Projects/Content/units/Essentials/7.%20Python%20programming/18.%20Error%20Handling%20with%20Control%20Flow/Notebook.ipynb#X45sZmlsZQ%3D%3D?line=1'>2</a>\u001b[0m     \u001b[39mif\u001b[39;00m divisor \u001b[39m==\u001b[39m \u001b[39m0\u001b[39m:\n\u001b[0;32m----> <a href='vscode-notebook-cell:/Users/maya/Desktop/AiCore%20Work/Content-Projects/Content/units/Essentials/7.%20Python%20programming/18.%20Error%20Handling%20with%20Control%20Flow/Notebook.ipynb#X45sZmlsZQ%3D%3D?line=2'>3</a>\u001b[0m         \u001b[39mraise\u001b[39;00m \u001b[39mValueError\u001b[39;00m(\u001b[39m\"\u001b[39m\u001b[39mDivisor cannot be zero.\u001b[39m\u001b[39m\"\u001b[39m)\n\u001b[1;32m      <a href='vscode-notebook-cell:/Users/maya/Desktop/AiCore%20Work/Content-Projects/Content/units/Essentials/7.%20Python%20programming/18.%20Error%20Handling%20with%20Control%20Flow/Notebook.ipynb#X45sZmlsZQ%3D%3D?line=3'>4</a>\u001b[0m     \u001b[39melse\u001b[39;00m:\n\u001b[1;32m      <a href='vscode-notebook-cell:/Users/maya/Desktop/AiCore%20Work/Content-Projects/Content/units/Essentials/7.%20Python%20programming/18.%20Error%20Handling%20with%20Control%20Flow/Notebook.ipynb#X45sZmlsZQ%3D%3D?line=4'>5</a>\u001b[0m         \u001b[39mreturn\u001b[39;00m dividend \u001b[39m/\u001b[39m divisor\n",
      "\u001b[0;31mValueError\u001b[0m: Divisor cannot be zero."
     ]
    }
   ],
   "source": [
    "divide_numbers(10,0)"
   ]
  },
  {
   "attachments": {},
   "cell_type": "markdown",
   "metadata": {},
   "source": [
    "The function raises a `ValueError` with an appropriate error message.\n",
    "\n",
    "> When an exception is raised, it is important to have appropriate exception handling mechanisms in place to catch and handle the exception gracefully. By utilizing `try` and `except` blocks, you can capture the raised exception and provide a fallback or recovery mechanism."
   ]
  },
  {
   "attachments": {},
   "cell_type": "markdown",
   "metadata": {},
   "source": [
    "## Key Takeaways\n",
    "\n",
    "- Exception handling is a powerful mechanism to handle errors and exceptions that may occur during the execution of your program\n",
    "- The `try`-`except` block is used to catch and handle exceptions. The code that may raise an exception is placed inside the `try` block, and the specific exception types to catch and handle are specified in the `except` block(s).\n",
    "- By using specific exception types in `except` blocks, you can handle different types of exceptions differently, allowing for more targeted error handling\n",
    "- The `finally` block is an optional part of the `try`-`except` structure. It is used to define code that should be executed regardless of whether an exception occurred or not. It is commonly used for cleanup tasks and releasing resources.\n",
    "- Raising errors using the `raise` statement allows you to explicitly signal exceptional situations and control the flow of your program\n"
   ]
  }
 ],
 "metadata": {
  "interpreter": {
   "hash": "66a4c1a82e4b740877da9482796a67c3d19e50649dddfb2985c1182127ae3fd0"
  },
  "kernelspec": {
   "display_name": "Python 3.8.11 64-bit ('base': conda)",
   "name": "python3"
  },
  "language_info": {
   "codemirror_mode": {
    "name": "ipython",
    "version": 3
   },
   "file_extension": ".py",
   "mimetype": "text/x-python",
   "name": "python",
   "nbconvert_exporter": "python",
   "pygments_lexer": "ipython3",
   "version": "3.9.2"
  }
 },
 "nbformat": 4,
 "nbformat_minor": 4
}
