{
 "cells": [
  {
   "attachments": {},
   "cell_type": "markdown",
   "metadata": {},
   "source": [
    "# Tuples"
   ]
  },
  {
   "attachments": {},
   "cell_type": "markdown",
   "metadata": {},
   "source": [
    "## What is a tuple in programming?\n",
    "\n",
    "- A sequence of characters\n",
    "- A collection of key-value pairs\n",
    "- A sequence of immutable values, separated by commas and enclosed in parentheses ***\n",
    "- A collection of ordered elements with unique values"
   ]
  },
  {
   "attachments": {},
   "cell_type": "markdown",
   "metadata": {},
   "source": [
    "## Which of the following statements correctly creates a tuple in Python? Select all that apply.\n",
    "\n",
    "- `my_tuple = (\"apple\", \"banana\", \"cherry\")` ***\n",
    "- `my_tuple = [\"apple\", \"banana\", \"cherry\"]`\n",
    "- `my_tuple = tuple([\"apple\", \"banana\", \"cherry\"])` ***"
   ]
  },
  {
   "attachments": {},
   "cell_type": "markdown",
   "metadata": {},
   "source": [
    "## Can you remove an item from a tuple in Python?\n",
    "\n",
    "- Yes, you can use the `remove()` method to remove an item from a tuple\n",
    "- No, tuples are immutable and you cannot remove an item once it has been added to the tuple ***\n",
    "- Yes, you can use the `del` statement to remove an item from a tuple\n",
    "- Yes, you can use the `pop()` method to remove an item from a tuple"
   ]
  },
  {
   "attachments": {},
   "cell_type": "markdown",
   "metadata": {},
   "source": [
    "## Can you reassign an item in a tuple in Python?\n",
    "\n",
    "- Yes, you can use the `reassign()` method to reassign an item in a tuple\n",
    "- No, tuples are immutable and you cannot reassign an item once it has been added to the tuple ***\n",
    "- Yes, you can use the `insert()` method to reassign an item in a tuple\n",
    "- Yes, you can use the `replace()` method to reassign an item in a tuple"
   ]
  },
  {
   "attachments": {},
   "cell_type": "markdown",
   "metadata": {},
   "source": [
    "## Which of the following statements is True about the `count()` method?\n",
    "\n",
    "- The `count()` method is used to add an item to a tuple\n",
    "- The `count()` method is used to remove an item from a tuple\n",
    "- The `count()` method is used to count the number of occurrences of an item in a tuple ***\n",
    "- The `count()` method is used to sort the items in a tuple\n"
   ]
  },
  {
   "attachments": {},
   "cell_type": "markdown",
   "metadata": {},
   "source": [
    "## What is the output of the following Python code?\n",
    "\n",
    "``` python\n",
    "my_tuple = (1, 2, 3, 2, 4, 5, 2)\n",
    "count = my_tuple.count(2)\n",
    "print(count)\n",
    "```\n",
    "\n",
    "- `1`\n",
    "- `2`\n",
    "- `3` ***\n",
    "- `4`\n"
   ]
  },
  {
   "attachments": {},
   "cell_type": "markdown",
   "metadata": {},
   "source": [
    "## What is the output of the following Python code?\n",
    "\n",
    "``` python\n",
    "my_tuple = (\"apple\", \"banana\", \"cherry\", \"banana\")\n",
    "index = my_tuple.index(\"banana\")\n",
    "print(index)\n",
    "```\n",
    "\n",
    "- `0`\n",
    "- `1` ***\n",
    "- `2`\n",
    "- `3`\n",
    "\n"
   ]
  },
  {
   "attachments": {},
   "cell_type": "markdown",
   "metadata": {},
   "source": [
    "## What is the output of the following Python code?\n",
    "\n",
    "``` python\n",
    "my_tuple = \"apple\", \"banana\", \"cherry\"\n",
    "print(my_tuple)\n",
    "```\n",
    "\n",
    "- `\"apple\", \"banana\", \"cherry\"`\n",
    "- `(\"apple\", \"banana\", \"cherry\")` ***\n",
    "- `[\"apple\", \"banana\", \"cherry\"]`\n",
    "- `{'apple': 0, 'banana': 1, 'cherry': 2}`"
   ]
  },
  {
   "attachments": {},
   "cell_type": "markdown",
   "metadata": {},
   "source": [
    "## What is the output of the following Python code?\n",
    "\n",
    "``` python\n",
    "fruits = (\"apple\", \"banana\", \"cherry\")\n",
    "a, b, c = fruits\n",
    "print(a)\n",
    "print(b)\n",
    "print(c)\n",
    "```\n",
    "\n",
    "- `\"apple\", \"banana\", \"cherry\"`\n",
    "-  `(\"apple\", \"banana\", \"cherry\")`\n",
    "- This code ***\n",
    " ```python\n",
    "apple \n",
    "banana\n",
    "cherry \n",
    "```\n",
    "- `[\"apple\", \"banana\", \"cherry\"]`\n"
   ]
  },
  {
   "attachments": {},
   "cell_type": "markdown",
   "metadata": {},
   "source": [
    "## Which of the following statements about tuple unpacking is true?\n",
    "\n",
    "- Tuple unpacking is the process of converting a tuple into a list\n",
    "- Tuple unpacking is the process of merging two or more tuples into a single tuple\n",
    "- Tuple unpacking is the process of assigning the values of a tuple to multiple variables ***\n",
    "- Tuple unpacking is the process of adding a new item to a tuple"
   ]
  },
  {
   "attachments": {},
   "cell_type": "markdown",
   "metadata": {},
   "source": [
    "## What error occurs when you try to modify an element in a tuple directly?\n",
    "\n",
    "- `KeyError`\n",
    "- `IndexError`\n",
    "- `TypeError` ***\n",
    "- `ValueError`"
   ]
  }
 ],
 "metadata": {
  "language_info": {
   "name": "python"
  },
  "orig_nbformat": 4
 },
 "nbformat": 4,
 "nbformat_minor": 2
}
