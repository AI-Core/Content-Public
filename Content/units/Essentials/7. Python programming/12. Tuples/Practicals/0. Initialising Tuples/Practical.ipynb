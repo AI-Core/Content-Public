{
 "cells": [
  {
   "cell_type": "markdown",
   "id": "be99e903",
   "metadata": {},
   "source": [
    "# Initialising Tuples"
   ]
  },
  {
   "cell_type": "markdown",
   "id": "dfe0bbf7",
   "metadata": {},
   "source": [
    "#### 1. Create an empty tuple without Python's built-in function"
   ]
  },
  {
   "cell_type": "code",
   "execution_count": null,
   "id": "9f8c33b6",
   "metadata": {},
   "outputs": [],
   "source": []
  },
  {
   "cell_type": "markdown",
   "id": "c750c048",
   "metadata": {},
   "source": [
    "#### 2. Create an empty tuple with Python's built-in function"
   ]
  },
  {
   "cell_type": "code",
   "execution_count": null,
   "id": "da5c13cb",
   "metadata": {},
   "outputs": [],
   "source": []
  },
  {
   "cell_type": "markdown",
   "id": "99733851",
   "metadata": {},
   "source": [
    "#### 3. Create a tuple that contains three different data types"
   ]
  },
  {
   "cell_type": "code",
   "execution_count": null,
   "id": "04a00ca1",
   "metadata": {},
   "outputs": [],
   "source": []
  },
  {
   "cell_type": "markdown",
   "id": "4c895ac3",
   "metadata": {},
   "source": [
    "#### 4. Merge the two of the tuples you created using the + operator"
   ]
  },
  {
   "cell_type": "code",
   "execution_count": null,
   "id": "83d5a957",
   "metadata": {},
   "outputs": [],
   "source": []
  },
  {
   "cell_type": "markdown",
   "id": "b9609b45",
   "metadata": {},
   "source": [
    "#### 5. Iterate over one of the tuples and print out tuples"
   ]
  },
  {
   "cell_type": "code",
   "execution_count": null,
   "id": "ad1020c2",
   "metadata": {},
   "outputs": [],
   "source": []
  }
 ],
 "metadata": {
  "language_info": {
   "name": "python"
  }
 },
 "nbformat": 4,
 "nbformat_minor": 5
}
