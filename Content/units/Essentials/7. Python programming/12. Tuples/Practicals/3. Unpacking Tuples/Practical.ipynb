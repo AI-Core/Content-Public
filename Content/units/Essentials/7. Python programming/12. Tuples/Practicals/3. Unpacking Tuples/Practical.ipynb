{
 "cells": [
  {
   "cell_type": "markdown",
   "id": "5a0cf04f",
   "metadata": {},
   "source": [
    "# Unpacking Tuples"
   ]
  },
  {
   "cell_type": "markdown",
   "id": "11e67a35",
   "metadata": {},
   "source": [
    "#### 1. Initialise a tuple that contains four different data types. Unpack the tuple and print out each variable."
   ]
  },
  {
   "cell_type": "code",
   "execution_count": null,
   "id": "7504f746",
   "metadata": {},
   "outputs": [],
   "source": []
  },
  {
   "attachments": {},
   "cell_type": "markdown",
   "id": "8176477f",
   "metadata": {},
   "source": [
    "#### 2. Given a `my_tuple = (70, \"AiCore\", 10, \"Programming\", 70)` and `x, *y, z = my_tuple`. \n",
    "What do you think the output of the following print statements will be?\n",
    "\n",
    "- print(x)\n",
    "- print(y)\n",
    "- print(z)"
   ]
  },
  {
   "cell_type": "code",
   "execution_count": null,
   "id": "898f982c",
   "metadata": {},
   "outputs": [],
   "source": []
  },
  {
   "attachments": {},
   "cell_type": "markdown",
   "id": "2b699e75",
   "metadata": {},
   "source": [
    "#### 3. Given a `my_tuple = (70, \"AiCore\", 10, \"Programming\", 70)` and `x, y, *z = my_tuple`. \n",
    "\n",
    "What do you think the output of the following print statements will be?\n",
    "\n",
    "- print(x)\n",
    "- print(y)\n",
    "- print(z)"
   ]
  },
  {
   "cell_type": "code",
   "execution_count": null,
   "id": "3c74deb8",
   "metadata": {},
   "outputs": [],
   "source": []
  }
 ],
 "metadata": {
  "language_info": {
   "name": "python"
  }
 },
 "nbformat": 4,
 "nbformat_minor": 5
}
