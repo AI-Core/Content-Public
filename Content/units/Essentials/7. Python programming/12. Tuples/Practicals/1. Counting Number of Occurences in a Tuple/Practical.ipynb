{
 "cells": [
  {
   "cell_type": "markdown",
   "id": "e5bc15ed",
   "metadata": {},
   "source": [
    "# Counting Number of Occurences in a Tuple"
   ]
  },
  {
   "attachments": {},
   "cell_type": "markdown",
   "id": "925f968a",
   "metadata": {},
   "source": [
    "#### 1. Count the number of i's in the tuple\n",
    "\n",
    "`vowels = ('a', 'e', 'i', 'o', 'i', 'u')`"
   ]
  },
  {
   "cell_type": "code",
   "execution_count": null,
   "id": "e243d202",
   "metadata": {},
   "outputs": [],
   "source": []
  },
  {
   "attachments": {},
   "cell_type": "markdown",
   "id": "a1640258",
   "metadata": {},
   "source": [
    "#### 2. Count the number of 7's in the tuple\n",
    "\n",
    "`numbers = (1, 7, 2, 7, 3, 7, 4, 7, 5, 7, 6, 7, 7, 7)`"
   ]
  },
  {
   "cell_type": "code",
   "execution_count": null,
   "id": "04f7cef2",
   "metadata": {},
   "outputs": [],
   "source": []
  },
  {
   "attachments": {},
   "cell_type": "markdown",
   "id": "8197e816",
   "metadata": {},
   "source": [
    "#### 3. Count the number of [1, 2, 3] lists and ('f', 'd') tuples in the tuple\n",
    "\n",
    "`tuple = (1, 'f', [1, 2, 3], [4, 5], ('f', 'd'), ('f', 'd', 'e'), [1, 2, 3], 'a')`"
   ]
  },
  {
   "cell_type": "code",
   "execution_count": null,
   "id": "19d66d54",
   "metadata": {},
   "outputs": [],
   "source": []
  }
 ],
 "metadata": {
  "language_info": {
   "name": "python"
  }
 },
 "nbformat": 4,
 "nbformat_minor": 5
}
