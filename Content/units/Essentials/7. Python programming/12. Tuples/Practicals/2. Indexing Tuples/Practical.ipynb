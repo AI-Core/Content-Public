{
 "cells": [
  {
   "cell_type": "markdown",
   "id": "545b630a",
   "metadata": {},
   "source": [
    "# Indexing Tuples"
   ]
  },
  {
   "attachments": {},
   "cell_type": "markdown",
   "id": "ffde8a93",
   "metadata": {},
   "source": [
    "You have a tuple `vowels = ('a', 'e', 'i', 'o', 'i', 'u')`\n",
    "\n",
    "#### 1. Find the first occurence of 'e' element"
   ]
  },
  {
   "cell_type": "code",
   "execution_count": null,
   "id": "a4252213",
   "metadata": {},
   "outputs": [],
   "source": []
  },
  {
   "cell_type": "markdown",
   "id": "ccf5eb31",
   "metadata": {},
   "source": [
    "#### 2. Find the first occurence of 'i' element"
   ]
  },
  {
   "cell_type": "code",
   "execution_count": null,
   "id": "daf5edee",
   "metadata": {},
   "outputs": [],
   "source": []
  },
  {
   "cell_type": "markdown",
   "id": "7cedae76",
   "metadata": {},
   "source": [
    "#### 3. Find the first occurence of 'b' element. What does this return? What is the meaning of this error?"
   ]
  },
  {
   "cell_type": "code",
   "execution_count": null,
   "id": "6b5249e6",
   "metadata": {},
   "outputs": [],
   "source": []
  },
  {
   "attachments": {},
   "cell_type": "markdown",
   "id": "d06b3d2d",
   "metadata": {},
   "source": [
    "The index() method can take one to three parameters. We used one of them so far: element, the item to scan. The two other paramaters this method can take are:\n",
    "\n",
    "- start_index - scanning of the element will start from the start_index\n",
    "- end_index - scanning of the element will stop at the end_index"
   ]
  },
  {
   "attachments": {},
   "cell_type": "markdown",
   "id": "21d25008",
   "metadata": {},
   "source": [
    "#### 4. Find the first occurence of 'i' elemnts from index 4 to 8 in the following tuple\n",
    "\n",
    "`alphabet = ('a', 'e', 'i', 'o', 'u', 'g', 'l', 'i', 'u')`"
   ]
  },
  {
   "cell_type": "code",
   "execution_count": null,
   "id": "8315c8dc",
   "metadata": {},
   "outputs": [],
   "source": []
  },
  {
   "cell_type": "code",
   "execution_count": null,
   "id": "e5b0ce86",
   "metadata": {},
   "outputs": [],
   "source": []
  }
 ],
 "metadata": {
  "language_info": {
   "name": "python"
  }
 },
 "nbformat": 4,
 "nbformat_minor": 5
}
