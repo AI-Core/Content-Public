{
 "cells": [
  {
   "attachments": {},
   "cell_type": "markdown",
   "metadata": {},
   "source": [
    "# Comprehensions"
   ]
  },
  {
   "attachments": {},
   "cell_type": "markdown",
   "metadata": {},
   "source": [
    "Comprehensions in Python provide a concise and elegant way to create new sequences, such as lists, sets, and dictionaries, by iterating over existing ones. They are often used to replace traditional loops and conditional statements, making the code more readable and efficient."
   ]
  },
  {
   "attachments": {},
   "cell_type": "markdown",
   "metadata": {},
   "source": [
    "## Motivation\n",
    "\n",
    "Welcome to your journey of learning about comprehensions in programming! Let's explore the key reasons why learning about comprehensions is valuable:\n",
    "- **Short and Clear Code**: CComprehensions let you write code that is short and easy to understand. Instead of writing long loops and if statements, you can create lists, dictionaries, and sets in just one line. It's like using a shortcut to make your code shorter and more straightforward.\n",
    "\n",
    "- **Efficient Data Changes**: Comprehensions help you change and work with data in a smart way. You can transform data, filter out specific elements, or do calculations quickly by using comprehensions with lists or sets. "
   ]
  },
  {
   "attachments": {},
   "cell_type": "markdown",
   "metadata": {},
   "source": [
    "## List comprehensions"
   ]
  },
  {
   "attachments": {},
   "cell_type": "markdown",
   "metadata": {},
   "source": [
    "List comprehensions are a powerful construct that allow you to create new lists by iterating over an existing sequence or iterable. They provide a concise and efficient way to transform and filter data. With list comprehensions, you can accomplish in a single line what would traditionally require multiple lines of code.\n",
    "\n",
    "### Basic List Comprehensions\n",
    "\n",
    "In their simplest form, list comprehensions follow the syntax: `[expression for item in sequence]`. Here, `expression` represents the transformation or operation you want to perform on each `item` in the `sequence`. The resulting values are collected and returned as a new list.\n",
    "\n",
    "For example, let's say we have a list of numbers and we want to create a new list that contains the squares of each number. Using a list comprehension, we can achieve this as follows:"
   ]
  },
  {
   "cell_type": "code",
   "execution_count": 1,
   "metadata": {},
   "outputs": [
    {
     "name": "stdout",
     "output_type": "stream",
     "text": [
      "[1, 4, 9, 16, 25]\n"
     ]
    }
   ],
   "source": [
    "numbers = [1, 2, 3, 4, 5]\n",
    "squares = [num**2 for num in numbers]\n",
    "print(squares)"
   ]
  },
  {
   "attachments": {},
   "cell_type": "markdown",
   "metadata": {},
   "source": [
    "In this example, the expression `num**2` squares each `num` in the `numbers` list, and the resulting squares are collected in the `squares` list.\n",
    "\n",
    "Without comprehensions, this would've looked like:"
   ]
  },
  {
   "cell_type": "code",
   "execution_count": null,
   "metadata": {},
   "outputs": [
    {
     "name": "stdout",
     "output_type": "stream",
     "text": [
      "[0, 1, 4, 9, 16, 25, 36, 49, 64, 81]\n"
     ]
    }
   ],
   "source": [
    "squares = []\n",
    "\n",
    "for num in numbers:\n",
    "    squares.append(num**2)\n",
    "\n",
    "print(squares)"
   ]
  },
  {
   "attachments": {},
   "cell_type": "markdown",
   "metadata": {},
   "source": [
    "### Conditional List Comprehensions\n",
    "\n",
    "List comprehensions can also incorporate conditional statements to filter the elements that are included in the new list. The syntax for conditional list comprehensions is: `[expression for item in sequence if condition]`.\n",
    "\n",
    "Let's say we want to create a new list that contains only the even numbers from the original numbers list. We can modify our previous example to include a condition that checks if each number is even:"
   ]
  },
  {
   "cell_type": "code",
   "execution_count": 2,
   "metadata": {},
   "outputs": [
    {
     "name": "stdout",
     "output_type": "stream",
     "text": [
      "[2, 4]\n"
     ]
    }
   ],
   "source": [
    "even_numbers = [num for num in numbers if num % 2 == 0]\n",
    "print(even_numbers)"
   ]
  },
  {
   "attachments": {},
   "cell_type": "markdown",
   "metadata": {},
   "source": [
    "In this case, the condition `num % 2 == 0` checks if the number is divisible by 2 without a remainder, indicating it is even. Only the even numbers satisfy the condition and are included in the `even_numbers` list.\n",
    "\n",
    "Without comprehensions, this would've looked like:"
   ]
  },
  {
   "cell_type": "code",
   "execution_count": 3,
   "metadata": {},
   "outputs": [
    {
     "name": "stdout",
     "output_type": "stream",
     "text": [
      "[2, 4]\n"
     ]
    }
   ],
   "source": [
    "numbers = [1, 2, 3, 4, 5]\n",
    "even_numbers = []\n",
    "\n",
    "for num in numbers:\n",
    "    if num % 2 == 0:\n",
    "        even_numbers.append(num)\n",
    "print(even_numbers)"
   ]
  },
  {
   "attachments": {},
   "cell_type": "markdown",
   "metadata": {},
   "source": [
    "Let's say we have a list of numbers and we want to create a new list where even numbers are represented as `\"Even\"` and odd numbers are represented as `\"Odd\"`. We can accomplish this using a conditional list comprehension with an `else` statement:"
   ]
  },
  {
   "cell_type": "code",
   "execution_count": 4,
   "metadata": {},
   "outputs": [
    {
     "name": "stdout",
     "output_type": "stream",
     "text": [
      "['Odd', 'Even', 'Odd', 'Even', 'Odd']\n"
     ]
    }
   ],
   "source": [
    "numbers = [1, 2, 3, 4, 5]\n",
    "result = [\"Even\" if num % 2 == 0 else \"Odd\" for num in numbers]\n",
    "print(result)"
   ]
  },
  {
   "attachments": {},
   "cell_type": "markdown",
   "metadata": {},
   "source": [
    "In this example, the conditional list comprehension checks if each `num` in the `numbers` list is divisible by 2. If it is, the corresponding element in the new list (`\"Even\"`) is added. If not, the else statement is triggered, and the corresponding element in the new list (`\"Odd\"`) is added.\n",
    "\n",
    "Without comprehensions, this would look like:"
   ]
  },
  {
   "cell_type": "code",
   "execution_count": 5,
   "metadata": {},
   "outputs": [
    {
     "name": "stdout",
     "output_type": "stream",
     "text": [
      "['Odd', 'Even', 'Odd', 'Even', 'Odd']\n"
     ]
    }
   ],
   "source": [
    "numbers = [1, 2, 3, 4, 5]\n",
    "result = []\n",
    "\n",
    "for num in numbers:\n",
    "    if num % 2 == 0:\n",
    "        result.append(\"Even\")\n",
    "    else:\n",
    "        result.append(\"Odd\")\n",
    "print(result)"
   ]
  },
  {
   "attachments": {},
   "cell_type": "markdown",
   "metadata": {},
   "source": [
    "## Dictionary comprehensions\n",
    "\n",
    "Dictionary comprehensions are similar to list comprehensions but allow you to create dictionaries in a concise manner. They provide a way to transform and filter data from existing sequences or iterables into key-value pairs.\n",
    "\n",
    "The syntax of a dictionary comprehension is `{key_expression: value_expression for item in sequence}`. Here, `key_expression` represents the expression that generates the keys, `value_expression` generates the corresponding values, and `item` is the variable representing each `item` in the `sequence`. The expressions are evaluated for each item in the sequence, and the resulting key-value pairs are collected into a new dictionary.\n",
    "\n",
    "Let's explore the different aspects of dictionary comprehensions:\n",
    "\n",
    "### Basic Dictionary Comprehensions\n",
    "\n",
    "For example, suppose we have a list of names and we want to create a dictionary where each name is the key and its length is the value. We can achieve this using a dictionary comprehension as follows:"
   ]
  },
  {
   "cell_type": "code",
   "execution_count": 6,
   "metadata": {},
   "outputs": [
    {
     "name": "stdout",
     "output_type": "stream",
     "text": [
      "{'Alice': 5, 'Bob': 3, 'Charlie': 7, 'David': 5}\n"
     ]
    }
   ],
   "source": [
    "names = ['Alice', 'Bob', 'Charlie', 'David']\n",
    "name_lengths = {name: len(name) for name in names}\n",
    "print(name_lengths)"
   ]
  },
  {
   "attachments": {},
   "cell_type": "markdown",
   "metadata": {},
   "source": [
    "In this example, the key expression `name` generates the name itself, and the value expression `len(name)` computes the length of each name. The resulting key-value pairs are collected into the `name_lengths ` dictionary.\n",
    "\n",
    "Without comprehensions, this would look like:"
   ]
  },
  {
   "cell_type": "code",
   "execution_count": 7,
   "metadata": {},
   "outputs": [
    {
     "name": "stdout",
     "output_type": "stream",
     "text": [
      "{'Alice': 5, 'Bob': 3, 'Charlie': 7, 'David': 5}\n"
     ]
    }
   ],
   "source": [
    "names = ['Alice', 'Bob', 'Charlie', 'David']\n",
    "name_lengths = {}\n",
    "\n",
    "for name in names:\n",
    "    name_lengths[name] = len(name)\n",
    "print(name_lengths)"
   ]
  },
  {
   "attachments": {},
   "cell_type": "markdown",
   "metadata": {},
   "source": [
    "### Conditional Dictionary Comprehensions\n",
    "\n",
    "Like list comprehensions, dictionary comprehensions can include conditional statements to filter items and apply conditions. The syntax for conditional dictionary comprehensions is `{key_expression: value_expression for item in sequence if condition}`.\n",
    "\n",
    "Suppose we want to create a dictionary that includes only the names with lengths greater than 4. We can modify our previous example to include a condition that checks the length of each name:"
   ]
  },
  {
   "cell_type": "code",
   "execution_count": 8,
   "metadata": {},
   "outputs": [
    {
     "name": "stdout",
     "output_type": "stream",
     "text": [
      "{'Alice': 5, 'Charlie': 7, 'David': 5}\n"
     ]
    }
   ],
   "source": [
    "names = ['Alice', 'Bob', 'Charlie', 'David']\n",
    "long_names = {name: len(name) for name in names if len(name) > 4}\n",
    "print(long_names)"
   ]
  },
  {
   "attachments": {},
   "cell_type": "markdown",
   "metadata": {},
   "source": [
    "In this case, the condition `len(name) > 4` filters out names that have a length less than or equal to 4. Only the names satisfying the condition are included in the resulting `long_names` dictionary.\n",
    "\n",
    "Without comprehensions, this would look like:"
   ]
  },
  {
   "cell_type": "code",
   "execution_count": 9,
   "metadata": {},
   "outputs": [
    {
     "name": "stdout",
     "output_type": "stream",
     "text": [
      "{'Alice': 5, 'Charlie': 7, 'David': 5}\n"
     ]
    }
   ],
   "source": [
    "names = ['Alice', 'Bob', 'Charlie', 'David']\n",
    "long_names = {}\n",
    "\n",
    "for name in names:\n",
    "    if len(name) > 4:\n",
    "        long_names[name] = len(name)\n",
    "print(long_names)"
   ]
  },
  {
   "attachments": {},
   "cell_type": "markdown",
   "metadata": {},
   "source": [
    "## Tips for Writing Effective Comprehensions\n",
    "\n",
    "To maximize the effectiveness of comprehensions, consider the following tips:\n",
    "- **Keep it concise and readable**: Use meaningful variable names and avoid overly complex expressions or excessive nesting. Prioritize code clarity for yourself and others.\n",
    "\n",
    "- **Utilize conditional expressions**: Leverage `if` and `else` statements within comprehensions to filter or transform data based on conditions. This reduces the need for additional conditional statements.\n",
    "\n",
    "- **Use comprehensions in moderation**: While powerful, comprehensions may not always be the best choice for complex control flow or multi-step operations. Opt for traditional loops or separate functions when appropriate.\n"
   ]
  },
  {
   "attachments": {},
   "cell_type": "markdown",
   "metadata": {},
   "source": [
    "## Key Takeaways\n",
    "\n",
    "- Comprehensions provide a concise and efficient way to create new lists and dictionaries by transforming and filtering data from existing sequences or iterables\n",
    "- List comprehensions follow the syntax `[expression for item in sequence]`, allowing you to generate new lists based on the evaluation of an expression for each item in the sequence\n",
    "- Conditional statements can be incorporated into comprehensions using the syntax `[expression for item in sequence if condition]`, enabling you to filter elements based on specific conditions\n",
    "- Dictionary comprehensions follow the syntax `{key_expression: value_expression for item in sequence}`, allowing you to generate dictionaries with key-value pairs derived from expressions\n",
    "- Use comprehensions in moderation, opting for traditional loops or separate functions when complex control flow or multi-step operations are involved"
   ]
  }
 ],
 "metadata": {
  "kernelspec": {
   "display_name": "Python 3",
   "language": "python",
   "name": "python3"
  },
  "language_info": {
   "codemirror_mode": {
    "name": "ipython",
    "version": 3
   },
   "file_extension": ".py",
   "mimetype": "text/x-python",
   "name": "python",
   "nbconvert_exporter": "python",
   "pygments_lexer": "ipython3",
   "version": "3.9.2"
  }
 },
 "nbformat": 4,
 "nbformat_minor": 2
}
