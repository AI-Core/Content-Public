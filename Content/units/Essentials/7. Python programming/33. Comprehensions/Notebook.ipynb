{
 "cells": [
  {
   "attachments": {},
   "cell_type": "markdown",
   "metadata": {},
   "source": [
    "# Comprehensions"
   ]
  },
  {
   "attachments": {},
   "cell_type": "markdown",
   "metadata": {},
   "source": [
    "Comprehensions in Python provide a concise and elegant way to create new sequences, such as lists, sets, and dictionaries, by iterating over existing ones. They are often used to replace traditional loops and conditional statements, making the code more readable and efficient."
   ]
  },
  {
   "cell_type": "markdown",
   "metadata": {},
   "source": [
    "### List comprehensions"
   ]
  },
  {
   "cell_type": "markdown",
   "metadata": {},
   "source": [
    "- List comprehension is a significantly more efficient approach for writing a For loop that generates or modifies a list.\n",
    "- It is suitable in cases where .append() is applied to a list inside a For loop or where a list is iterated over to modify each index item; otherwise, a For loop is preferred.\n",
    "- Complex For loops operating on a list, such as the BMI calculator, are not suitable for list comprehensions. They would be overly complex and difficult to read.\n",
    "- List comprehensions are written on a single line, and the syntax is as follows:"
   ]
  },
  {
   "cell_type": "code",
   "execution_count": null,
   "metadata": {},
   "outputs": [],
   "source": [
    "# for item in iterable:\n",
    "#     do_something\n",
    "\n",
    "# [do_something for item in iterable]"
   ]
  },
  {
   "cell_type": "markdown",
   "metadata": {},
   "source": [
    "For example,"
   ]
  },
  {
   "cell_type": "code",
   "execution_count": null,
   "metadata": {},
   "outputs": [
    {
     "name": "stdout",
     "output_type": "stream",
     "text": [
      "[0, 1, 4, 9, 16, 25, 36, 49, 64, 81]\n"
     ]
    }
   ],
   "source": [
    "squares = []\n",
    "\n",
    "for i in range(0):\n",
    "    squares.append(i**2)\n",
    "\n",
    "print(squares)"
   ]
  },
  {
   "cell_type": "markdown",
   "metadata": {},
   "source": [
    "becomes"
   ]
  },
  {
   "cell_type": "code",
   "execution_count": null,
   "metadata": {},
   "outputs": [
    {
     "name": "stdout",
     "output_type": "stream",
     "text": [
      "[0, 1, 4, 9, 16, 25, 36, 49, 64, 81]\n"
     ]
    }
   ],
   "source": [
    "squares = [i**2 for i in range(10)]\n",
    "\n",
    "print(squares)"
   ]
  },
  {
   "cell_type": "markdown",
   "metadata": {},
   "source": [
    "#### List comprehensions using conditionals"
   ]
  },
  {
   "cell_type": "markdown",
   "metadata": {},
   "source": [
    "- Conditionals in list comprehensions are of two types.\n",
    "- When adding only an if statement, the conditional goes after the For statement.\n",
    "- When adding if/else statements, the conditional goes before the For statement."
   ]
  },
  {
   "cell_type": "markdown",
   "metadata": {},
   "source": [
    "For example,"
   ]
  },
  {
   "cell_type": "code",
   "execution_count": null,
   "metadata": {},
   "outputs": [
    {
     "name": "stdout",
     "output_type": "stream",
     "text": [
      "[0, 9, 36, 81]\n"
     ]
    }
   ],
   "source": [
    "squared_threes = []\n",
    "\n",
    "for x in range(10):\n",
    "    if x%3 == 0:\n",
    "        squared_threes.append(x**2)\n",
    "\n",
    "print(squared_threes)"
   ]
  },
  {
   "cell_type": "markdown",
   "metadata": {},
   "source": [
    "becomes"
   ]
  },
  {
   "cell_type": "code",
   "execution_count": null,
   "metadata": {},
   "outputs": [
    {
     "name": "stdout",
     "output_type": "stream",
     "text": [
      "[0, 9, 36, 81]\n"
     ]
    }
   ],
   "source": [
    "squared_threes = [x**2 for x in range(10) if x%3==0]\n",
    "\n",
    "print(squared_threes)"
   ]
  },
  {
   "cell_type": "markdown",
   "metadata": {},
   "source": [
    "If if/else is used,"
   ]
  },
  {
   "cell_type": "code",
   "execution_count": null,
   "metadata": {},
   "outputs": [
    {
     "name": "stdout",
     "output_type": "stream",
     "text": [
      "[0, 1, 4, 27, 16, 25, 216, 49, 64, 729]\n"
     ]
    }
   ],
   "source": [
    "squares_and_cubes = []\n",
    "\n",
    "for x in range(10):\n",
    "    if x%3 == 0:\n",
    "        squares_and_cubes.append(x**3)\n",
    "    else:\n",
    "        squares_and_cubes.append(x**2)\n",
    "\n",
    "print(squares_and_cubes)"
   ]
  },
  {
   "cell_type": "markdown",
   "metadata": {},
   "source": [
    "becomes"
   ]
  },
  {
   "cell_type": "code",
   "execution_count": null,
   "metadata": {},
   "outputs": [
    {
     "name": "stdout",
     "output_type": "stream",
     "text": [
      "[0, 1, 4, 27, 16, 25, 216, 49, 64, 729]\n"
     ]
    }
   ],
   "source": [
    "squares_and_cubes = [x**3 if x%3==0 else x**2 for x in range(10)]\n",
    "\n",
    "print(squares_and_cubes)"
   ]
  },
  {
   "cell_type": "markdown",
   "metadata": {},
   "source": [
    "### Dictionary comprehensions\n",
    "\n",
    "- In Python, dictionary comprehensions can also be employed to create a new dictionary rapidly and efficiently.\n",
    "- They are utilised as a method to create a new dictionary from another.\n",
    "- The logic is the same as that for list comprehensions; however, the syntax is different because of the structure of dictionaries."
   ]
  },
  {
   "cell_type": "markdown",
   "metadata": {},
   "source": [
    "For example,"
   ]
  },
  {
   "cell_type": "code",
   "execution_count": null,
   "metadata": {},
   "outputs": [
    {
     "name": "stdout",
     "output_type": "stream",
     "text": [
      "{'First': 4, 'Second': 9, 'Third': 16, 'Fourth': 25, 'Fifth': 36}\n"
     ]
    }
   ],
   "source": [
    "numbers_dict = {\"First\": 2, \"Second\": 3, \"Third\": 4, \"Fourth\": 5, \"Fifth\": 6}\n",
    "\n",
    "for key, value in numbers_dict.items():\n",
    "    numbers_dict[key] = value**2\n",
    "    \n",
    "print(numbers_dict)"
   ]
  },
  {
   "cell_type": "markdown",
   "metadata": {},
   "source": [
    "becomes"
   ]
  },
  {
   "cell_type": "code",
   "execution_count": null,
   "metadata": {},
   "outputs": [
    {
     "name": "stdout",
     "output_type": "stream",
     "text": [
      "{'First': 4, 'Second': 9, 'Third': 16, 'Fourth': 25, 'Fifth': 36}\n"
     ]
    }
   ],
   "source": [
    "numbers_dict = {\"First\": 2, \"Second\": 3, \"Third\": 4, \"Fourth\": 5, \"Fifth\": 6}\n",
    "\n",
    "squared_dict = {key:value**2 for key, value in numbers_dict.items()}\n",
    "print(squared_dict)"
   ]
  },
  {
   "cell_type": "markdown",
   "metadata": {},
   "source": [
    "Conditionals can also be introduced, as follows:"
   ]
  },
  {
   "cell_type": "code",
   "execution_count": null,
   "metadata": {},
   "outputs": [
    {
     "name": "stdout",
     "output_type": "stream",
     "text": [
      "{'First': 4, 'Second': 3, 'Third': 16, 'Fourth': 5, 'Fifth': 36}\n"
     ]
    }
   ],
   "source": [
    "numbers_dict = {\"First\": 2, \"Second\": 3, \"Third\": 4, \"Fourth\": 5, \"Fifth\": 6}\n",
    "\n",
    "for key, value in numbers_dict.items():\n",
    "    if numbers_dict[key]%2 == 0:\n",
    "        numbers_dict[key] = value**2\n",
    "\n",
    "print(numbers_dict)"
   ]
  },
  {
   "cell_type": "markdown",
   "metadata": {},
   "source": [
    "becomes\n"
   ]
  },
  {
   "cell_type": "code",
   "execution_count": null,
   "metadata": {},
   "outputs": [
    {
     "name": "stdout",
     "output_type": "stream",
     "text": [
      "{'First': 4, 'Second': 3, 'Third': 16, 'Fourth': 5, 'Fifth': 36}\n"
     ]
    }
   ],
   "source": [
    "numbers_dict = {\"First\": 2, \"Second\": 3, \"Third\": 4, \"Fourth\": 5, \"Fifth\": 6}\n",
    "\n",
    "squared_dict = {key:value**2 if value%2==0 else value for key,value in numbers_dict.items()}\n",
    "print(squared_dict)"
   ]
  },
  {
   "cell_type": "markdown",
   "metadata": {},
   "source": [
    "Moreover, new dictionaries can be built from old dictionaries using conditionals:"
   ]
  },
  {
   "cell_type": "code",
   "execution_count": null,
   "metadata": {},
   "outputs": [
    {
     "name": "stdout",
     "output_type": "stream",
     "text": [
      "{'First': 4, 'Third': 16, 'Fifth': 36}\n"
     ]
    }
   ],
   "source": [
    "numbers_dict = {\"First\": 2, \"Second\": 3, \"Third\": 4, \"Fourth\": 5, \"Fifth\": 6}\n",
    "\n",
    "new_squared_dict = {key:value**2 for key,value in numbers_dict.items() if value%2==0}\n",
    "print(new_squared_dict)"
   ]
  },
  {
   "cell_type": "markdown",
   "metadata": {},
   "source": [
    "#### A word of caution\n",
    "- Comprehensions with conditionals can rapidly become overly complicated and unreadable, thereby providing you a false sense of security in your skill as a programmer.\n",
    "- Oftentimes, a For loop statement is cleaner and more readable (for both you and others) than a complicated list comprehension.\n",
    "- Priority should always be accorded to readability, rather than completing as many operations as humanly possible on a line."
   ]
  }
 ],
 "metadata": {
  "language_info": {
   "name": "python"
  }
 },
 "nbformat": 4,
 "nbformat_minor": 2
}
