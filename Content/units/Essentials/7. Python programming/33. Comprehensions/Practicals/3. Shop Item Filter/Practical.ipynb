{
 "cells": [
  {
   "cell_type": "markdown",
   "id": "1ba35424",
   "metadata": {},
   "source": [
    "# Shop Item Filter"
   ]
  },
  {
   "attachments": {},
   "cell_type": "markdown",
   "id": "805b1325",
   "metadata": {},
   "source": [
    "Given the following variables:"
   ]
  },
  {
   "cell_type": "code",
   "execution_count": null,
   "id": "67f758cb",
   "metadata": {},
   "outputs": [],
   "source": [
    "shop_dict = {\n",
    "    \"tom\": 0.87,\n",
    "    \"sug\": 1.09,\n",
    "    \"ws\": 0.29,\n",
    "    \"cc\": 1.89,\n",
    "    \"ccz\": 1.29\n",
    "}\n",
    "names_dict = {\n",
    "    \"tom\": \"Tomatoes\",\n",
    "    \"sug\": \"Sugar\",\n",
    "    \"ws\": \"Washing Sponges\",\n",
    "    \"cc\": \"Coca-Cola\",\n",
    "    \"ccz\": \"Coca-Cola Zero\"\n",
    "}"
   ]
  },
  {
   "cell_type": "markdown",
   "id": "290aee1d",
   "metadata": {},
   "source": [
    "#### 1. Filter `shop_dict` using list comprehension to find only items with values of over 1.00"
   ]
  },
  {
   "cell_type": "code",
   "execution_count": null,
   "id": "d4c0ce1a",
   "metadata": {},
   "outputs": [],
   "source": []
  },
  {
   "cell_type": "markdown",
   "id": "98ca9b14",
   "metadata": {},
   "source": [
    "#### 2. Assign them to a list called `filtered_shop` by their full names, not their codes, using `names_dict`."
   ]
  },
  {
   "cell_type": "code",
   "execution_count": null,
   "id": "4480619a",
   "metadata": {},
   "outputs": [],
   "source": []
  }
 ],
 "metadata": {
  "language_info": {
   "name": "python"
  }
 },
 "nbformat": 4,
 "nbformat_minor": 5
}
