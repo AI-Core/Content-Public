{
 "cells": [
  {
   "attachments": {},
   "cell_type": "markdown",
   "metadata": {},
   "source": [
    "# Comprehensions"
   ]
  },
  {
   "attachments": {},
   "cell_type": "markdown",
   "metadata": {},
   "source": [
    "## Which of the following code snippets correctly creates a list of squares of numbers from `1` to `10` using list comprehension?\n",
    "\n",
    "- `squares = [x * x for x in range(1, 10)]`\n",
    "- `squares = [x * x for x in range(1, 11)]` ***\n",
    "- `squares = [x * x for x in range(10)]`\n",
    "- `squares = [x * x for x in range(11)]`"
   ]
  },
  {
   "attachments": {},
   "cell_type": "markdown",
   "metadata": {},
   "source": [
    "## What is the output of the following list comprehension?\n",
    "\n",
    "```python\n",
    "\n",
    "numbers = [2, 4, 6, 8, 10]\n",
    "result = [x ** 2 for x in numbers if x > 5]\n",
    "print(result)\n",
    "```\n",
    "\n",
    "- `[36, 64, 100]` ***\n",
    "- `[4, 16, 36, 64, 100]`\n",
    "- `[4, 16, 36]`\n",
    "- `[]`"
   ]
  },
  {
   "attachments": {},
   "cell_type": "markdown",
   "metadata": {},
   "source": [
    "## What is the output of the following list comprehension?\n",
    "\n",
    "```python\n",
    "numbers = [2, 3, 6, 7, 10]\n",
    "result = [\"even\" if x % 2 == 0 else \"odd\" for x in numbers]\n",
    "print(result)\n",
    "```\n",
    "\n",
    "- `['even', 'even', 'even', 'even', 'even']`\n",
    "- `['odd', 'even', 'odd', 'even', 'odd']`\n",
    "- `['odd', 'odd', 'even', 'even', 'even']`\n",
    "- `['even', 'odd', 'even', 'odd', 'even']` ***"
   ]
  },
  {
   "attachments": {},
   "cell_type": "markdown",
   "metadata": {},
   "source": [
    "## What is the output of the following dictionary comprehension?\n",
    "\n",
    "``` python\n",
    "numbers = [1, 2, 3, 4, 5]\n",
    "squares = {x: x ** 2 for x in numbers}\n",
    "print(squares)\n",
    "```\n",
    "- `{1: 1, 2: 4, 3: 9, 4: 16, 5: 25}` ***\n",
    "- `{1: 2, 2: 4, 3: 6, 4: 8, 5: 10}`\n",
    "- `{1: 0, 2: 1, 3: 4, 4: 9, 5: 16}`\n",
    "- `{1: 5, 2: 4, 3: 3, 4: 2, 5: 1}`\n"
   ]
  },
  {
   "attachments": {},
   "cell_type": "markdown",
   "metadata": {},
   "source": [
    "## What is the output of the following dictionary comprehension?\n",
    "\n",
    "``` python\n",
    "numbers = [1, 2, 3, 4, 5]\n",
    "squares = {x: x ** 2 for x in numbers if x % 2 == 0}\n",
    "print(squares)\n",
    "```\n",
    "\n",
    "- `{2: 4, 4: 16}` ***\n",
    "- `{1: 1, 3: 9, 5: 25}`\n",
    "- `{1: 2, 2: 4, 3: 6, 4: 8, 5: 10}`\n",
    "- `{}`"
   ]
  },
  {
   "attachments": {},
   "cell_type": "markdown",
   "metadata": {},
   "source": [
    "## What is the output of the following dictionary comprehension?\n",
    "\n",
    "``` python\n",
    "numbers = [1, 2, 3, 4, 5]\n",
    "result = {x: \"even\" if x % 2 == 0 else \"odd\" for x in numbers}\n",
    "print(result)\n",
    "\n",
    "```\n",
    "- `{1: 'even', 2: 'odd', 3: 'even', 4: 'odd', 5: 'even'}`\n",
    "- `{1: 'odd', 2: 'even', 3: 'odd', 4: 'even', 5: 'odd'}` ***\n",
    "- `{1: 'odd', 2: 'odd', 3: 'even', 4: 'even', 5: 'odd'}`\n",
    "- `{1: 'even', 2: 'even', 3: 'odd', 4: 'odd', 5: 'even'}`\n"
   ]
  },
  {
   "attachments": {},
   "cell_type": "markdown",
   "metadata": {},
   "source": [
    "## What is the output of the following list comprehension?\n",
    "\n",
    "``` python\n",
    "numbers = [1, 2, 3, 4, 5]\n",
    "result = [x**2 if x % 2 == 0 else x**3 for x in numbers if x < 4]\n",
    "print(result)\n",
    "```\n",
    "\n",
    "- `[1, 4, 27]` ***\n",
    "- `[4]`\n",
    "- `[1, 9]`\n",
    "- `[]`"
   ]
  }
 ],
 "metadata": {
  "language_info": {
   "name": "python"
  },
  "orig_nbformat": 4
 },
 "nbformat": 4,
 "nbformat_minor": 2
}
