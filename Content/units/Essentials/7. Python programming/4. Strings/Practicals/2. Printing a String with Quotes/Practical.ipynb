{
 "cells": [
  {
   "cell_type": "markdown",
   "id": "271152cb",
   "metadata": {},
   "source": [
    "# Printing a String with Quotes"
   ]
  },
  {
   "attachments": {},
   "cell_type": "markdown",
   "id": "9fea4c28",
   "metadata": {},
   "source": [
    "#### 1. Create a variable called `my_string` and assign it the value `\"Hello \"World\"`\n",
    "\n",
    "Did it work? What happened?"
   ]
  },
  {
   "cell_type": "code",
   "execution_count": null,
   "id": "2b7c2489",
   "metadata": {},
   "outputs": [],
   "source": []
  },
  {
   "attachments": {},
   "cell_type": "markdown",
   "id": "a618523a",
   "metadata": {},
   "source": [
    "#### 2. Create a variable called `my_string` and assign it the value `\"Hello 'World'\"`\n",
    "\n",
    "Did it work? In this case, you are using single quotes to enclose the string."
   ]
  },
  {
   "cell_type": "code",
   "execution_count": null,
   "id": "dbeeece4",
   "metadata": {},
   "outputs": [],
   "source": []
  },
  {
   "attachments": {},
   "cell_type": "markdown",
   "id": "35b23a89",
   "metadata": {},
   "source": [
    "#### 3. Create a variable called `my_string` and assign it the value `\"Hello \\\"World\\\"\"`\n",
    "\n",
    "If you want to enclose a string in double quotes, you can use the escape character `\\` to escape the double quotes."
   ]
  },
  {
   "cell_type": "code",
   "execution_count": null,
   "id": "cee68195",
   "metadata": {},
   "outputs": [],
   "source": []
  }
 ],
 "metadata": {
  "language_info": {
   "name": "python"
  }
 },
 "nbformat": 4,
 "nbformat_minor": 5
}
