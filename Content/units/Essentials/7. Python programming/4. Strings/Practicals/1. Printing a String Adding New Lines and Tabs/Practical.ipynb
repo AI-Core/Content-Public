{
 "cells": [
  {
   "cell_type": "markdown",
   "id": "e7a0669e",
   "metadata": {},
   "source": [
    "# Printing a String Adding New Lines and Tabs"
   ]
  },
  {
   "cell_type": "markdown",
   "id": "5eda6b67",
   "metadata": {},
   "source": [
    "#### 1. Create a variable called `my_string` and assign it the value `\"Hello \\nWorld\"`"
   ]
  },
  {
   "cell_type": "code",
   "execution_count": null,
   "id": "ca50968f",
   "metadata": {},
   "outputs": [],
   "source": []
  },
  {
   "attachments": {},
   "cell_type": "markdown",
   "id": "1c88623e",
   "metadata": {},
   "source": [
    "#### 2. Print the value of `my_string`\n",
    "\n",
    "The \"\\n\" is a special character that tells Python to start a new line."
   ]
  },
  {
   "cell_type": "code",
   "execution_count": null,
   "id": "a59a4587",
   "metadata": {},
   "outputs": [],
   "source": []
  },
  {
   "cell_type": "markdown",
   "id": "4e74d22e",
   "metadata": {},
   "source": [
    "#### 3. Create a variable called `my_string` and assign it the value `\"Hello \\tWorld\"`"
   ]
  },
  {
   "cell_type": "code",
   "execution_count": null,
   "id": "cffb3f6c",
   "metadata": {},
   "outputs": [],
   "source": []
  },
  {
   "attachments": {},
   "cell_type": "markdown",
   "id": "3c3d48cb",
   "metadata": {},
   "source": [
    "#### 4. Print the value of `my_string`\n",
    "\n",
    "The \"\\t\" is a special character that tells Python to start a new tab."
   ]
  },
  {
   "cell_type": "code",
   "execution_count": null,
   "id": "b9f65ddd",
   "metadata": {},
   "outputs": [],
   "source": []
  }
 ],
 "metadata": {
  "kernelspec": {
   "display_name": "content-projects_new",
   "language": "python",
   "name": "python3"
  },
  "language_info": {
   "name": "python",
   "version": "3.10.8 (main, Nov 24 2022, 14:13:03) [GCC 11.2.0]"
  },
  "vscode": {
   "interpreter": {
    "hash": "4b961f8166aad6ccb4cf65d0f9c742ef9c6c23ffe83ad932438cd83ed96aebaf"
   }
  }
 },
 "nbformat": 4,
 "nbformat_minor": 5
}
