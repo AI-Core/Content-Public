{
 "cells": [
  {
   "cell_type": "markdown",
   "id": "d01eaeda",
   "metadata": {},
   "source": [
    "# Printing a String"
   ]
  },
  {
   "cell_type": "markdown",
   "id": "839c0a7d",
   "metadata": {},
   "source": [
    "#### 1. Create a variable called `my_string` and assign it the value `\"Hello World\"`"
   ]
  },
  {
   "cell_type": "code",
   "execution_count": null,
   "id": "28ff9bb1",
   "metadata": {},
   "outputs": [],
   "source": []
  },
  {
   "cell_type": "markdown",
   "id": "b4f7ac5b",
   "metadata": {},
   "source": [
    "#### 2. Print the value of `my_string`"
   ]
  },
  {
   "cell_type": "code",
   "execution_count": null,
   "id": "a5671b88",
   "metadata": {},
   "outputs": [],
   "source": []
  },
  {
   "cell_type": "markdown",
   "id": "4ade9d59",
   "metadata": {},
   "source": [
    "#### 3. Print the type of `my_string`"
   ]
  },
  {
   "cell_type": "code",
   "execution_count": null,
   "id": "9f12b65d",
   "metadata": {},
   "outputs": [],
   "source": []
  }
 ],
 "metadata": {
  "kernelspec": {
   "display_name": "content-projects_new",
   "language": "python",
   "name": "python3"
  },
  "language_info": {
   "name": "python",
   "version": "3.10.8 (main, Nov 24 2022, 14:13:03) [GCC 11.2.0]"
  },
  "vscode": {
   "interpreter": {
    "hash": "4b961f8166aad6ccb4cf65d0f9c742ef9c6c23ffe83ad932438cd83ed96aebaf"
   }
  }
 },
 "nbformat": 4,
 "nbformat_minor": 5
}
