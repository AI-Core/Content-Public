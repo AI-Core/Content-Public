{
 "cells": [
  {
   "attachments": {},
   "cell_type": "markdown",
   "metadata": {},
   "source": [
    "# Strings"
   ]
  },
  {
   "attachments": {},
   "cell_type": "markdown",
   "metadata": {},
   "source": [
    "## What are strings used for in Python?\n",
    "\n",
    "- Strings are used to store numeric data that can be used in calculations\n",
    "- Strings are used to store tabular data\n",
    "- Strings are used to store text data ***\n",
    "- Strings are used to store combinations of keys and values"
   ]
  },
  {
   "attachments": {},
   "cell_type": "markdown",
   "metadata": {},
   "source": [
    "## Which of the following is a correct way to create a string? Select all that apply.\n",
    "\n",
    "- `'Hello World'` ***\n",
    "- `'Hello World\"`\n",
    "- `\"Hello World'`\n",
    "- `\"Hello World\"` ***\n",
    "- None of the above"
   ]
  },
  {
   "attachments": {},
   "cell_type": "markdown",
   "metadata": {},
   "source": [
    "## What is the correct way to represent the string `I'm a programmer`? Select all that apply.\n",
    "\n",
    "- `'I'm a programmer'`\n",
    "- `\"I'm a programmer\"` ***\n",
    "- `'I\\'m a programmer'` ***\n",
    "- `\"I\\'m a programmer\"` ***\n",
    "- You can't use single quotes in a string"
   ]
  },
  {
   "attachments": {},
   "cell_type": "markdown",
   "metadata": {},
   "source": [
    "## What is the string method that can be used to convert a string to lowercase?\n",
    "\n",
    "- `lowercase()`\n",
    "- `lower()` ***\n",
    "- `toLowercase()`\n",
    "- `toLower()`\n",
    "- `small()`\n",
    "- `toSmall()`"
   ]
  },
  {
   "attachments": {},
   "cell_type": "markdown",
   "metadata": {},
   "source": [
    "## What is the output of the following code?\n",
    "\n",
    "```python\n",
    "x = \"The quick brown fox jumps over the lazy dog\"\n",
    "print(x.capitalize())\n",
    "```\n",
    "\n",
    "- `the quick brown fox jumps over the lazy dog`\n",
    "- `The quick brown fox jumps over the lazy dog` ***\n",
    "- `THE QUICK BROWN FOX JUMPS OVER THE LAZY DOG`\n",
    "- `The Quick Brown Fox Jumps Over The Lazy Dog`\n",
    "\n"
   ]
  },
  {
   "attachments": {},
   "cell_type": "markdown",
   "metadata": {},
   "source": [
    "## What is the output of the following code?\n",
    "\n",
    "```python\n",
    "x = \"The quick brown fox jumps over the lazy dog\"\n",
    "print(x.title())\n",
    "```\n",
    "\n",
    "- `the quick brown fox jumps over the lazy dog`\n",
    "- `The quick brown fox jumps over the lazy dog`\n",
    "- `THE QUICK BROWN FOX JUMPS OVER THE LAZY DOG`\n",
    "- `The Quick Brown Fox Jumps Over The Lazy Dog` ***"
   ]
  },
  {
   "attachments": {},
   "cell_type": "markdown",
   "metadata": {},
   "source": [
    "## What is the output of the following code?\n",
    "\n",
    "```python\n",
    "x = \"This is a string\"\n",
    "print(x.split('i'))\n",
    "```\n",
    "\n",
    "- `['Th', 's ', 's a str', 'ng']` ***\n",
    "- `['This', 'is', 'a', 'string']`\n",
    "- `['This is a string']`\n",
    "- `['Th', 's', 's', 's', 'a', 'str', 'ng']`"
   ]
  },
  {
   "attachments": {},
   "cell_type": "markdown",
   "metadata": {},
   "source": [
    "## What is the purpose of the `format()` method?\n",
    "\n",
    "- It is used to convert a string to lowercase\n",
    "- It is used to convert a string to uppercase\n",
    "- It is used to evaluate variables inside a string ***\n",
    "- It is used to give a readable representation of an object\n",
    "- It is used to convert a string to any other data type"
   ]
  },
  {
   "attachments": {},
   "cell_type": "markdown",
   "metadata": {},
   "source": [
    "## Which of these approaches can be used to evaluate a variable inside a string literal? Select all that apply.\n",
    "\n",
    "- Using f-strings ***\n",
    "- Using the `format()` method ***\n",
    "- Using the `+` operator\n",
    "- Using the `*` operator\n",
    "- Using the `concat()` method\n"
   ]
  },
  {
   "attachments": {},
   "cell_type": "markdown",
   "metadata": {},
   "source": [
    "## What is the output of the following code?\n",
    "\n",
    "```python\n",
    "x = \"Hello World\"\n",
    "print(x[19])\n",
    "```\n",
    "\n",
    "- `H`\n",
    "- `e`\n",
    "- `d`\n",
    "- `l`\n",
    "- The code will throw an error ***"
   ]
  },
  {
   "attachments": {},
   "cell_type": "markdown",
   "metadata": {},
   "source": [
    "## What is the output of the following code?\n",
    "\n",
    "```python\n",
    "x = \"Hello World\"\n",
    "print(x[0])\n",
    "```\n",
    "\n",
    "- `H` ***\n",
    "- `e`\n",
    "- `d`\n",
    "- `l`\n",
    "- The code will throw an error"
   ]
  },
  {
   "attachments": {},
   "cell_type": "markdown",
   "metadata": {},
   "source": [
    "## If `x = \"Hello World\"`, what code will print the string `\"llo Wor\"`?\n",
    "\n",
    "- `print(x[2:7])`\n",
    "- `print(x[2:8])`\n",
    "- `print(x[2:9])` ***\n",
    "- `print(x[2:10])`\n",
    "- `print(x[3:7])`\n",
    "- `print(x[3:8])`\n",
    "- `print(x[3:9])` \n",
    "- `print(x[3:10])`\n",
    "\n"
   ]
  },
  {
   "attachments": {},
   "cell_type": "markdown",
   "metadata": {},
   "source": [
    "## What is true about strings in Python? Select all that apply.\n",
    "\n",
    "- Strings are mutable\n",
    "- Strings are immutable ***\n",
    "- Strings are indexable ***\n",
    "- Strings are not indexable\n",
    "- Strings are sliceable ***\n",
    "- Strings are not sliceable"
   ]
  },
  {
   "attachments": {},
   "cell_type": "markdown",
   "metadata": {},
   "source": [
    "## True or False: In Python, string indexing starts from 1.\n",
    "\n",
    "- True\n",
    "- False ***"
   ]
  },
  {
   "attachments": {},
   "cell_type": "markdown",
   "metadata": {},
   "source": [
    "## True or False: Attempting to access an index outside the range of a string will result in an `IndexError`.\n",
    "\n",
    "- True ***\n",
    "- False "
   ]
  }
 ],
 "metadata": {
  "kernelspec": {
   "display_name": "content-projects",
   "language": "python",
   "name": "python3"
  },
  "language_info": {
   "codemirror_mode": {
    "name": "ipython",
    "version": 3
   },
   "file_extension": ".py",
   "mimetype": "text/x-python",
   "name": "python",
   "nbconvert_exporter": "python",
   "pygments_lexer": "ipython3",
   "version": "3.10.8"
  },
  "orig_nbformat": 4
 },
 "nbformat": 4,
 "nbformat_minor": 2
}
