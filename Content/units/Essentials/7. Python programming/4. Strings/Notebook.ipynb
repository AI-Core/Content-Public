{
 "cells": [
  {
   "cell_type": "markdown",
   "metadata": {},
   "source": [
    "## Strings in Python\n",
    "- In Python, strings (str) are employed to represent textual data.\n",
    "- They are formed by enclosing the textual information in single ('') or double (\"\") quotation marks.\n",
    "- Generally, double quotation marks are recommended, as apostrophes can prematurely end a string.\n",
    "- The backslash (\\\\) character is utilised to escape apostrophes or other special characters in strings."
   ]
  },
  {
   "cell_type": "markdown",
   "metadata": {},
   "source": [
    "## String Functions and Methods\n",
    "- The print() function displays the contents of the parenthesis.\n",
    "- It also interprets the escape characters (tabs, new lines, etc.) and displays the string without quotations.\n",
    "- A method is a function associated with an object.\n",
    "- Strings have many associated methods. We will explore a few here.\n",
    "- Further information can be found at\n",
    "<br> https://docs.python.org/2/library/stdtypes.html#string-methods"
   ]
  },
  {
   "cell_type": "code",
   "execution_count": 1,
   "metadata": {},
   "outputs": [
    {
     "name": "stdout",
     "output_type": "stream",
     "text": [
      "hi\n"
     ]
    }
   ],
   "source": [
    "x = \"Hello World\"\n",
    "print('hi')"
   ]
  },
  {
   "cell_type": "code",
   "execution_count": 2,
   "metadata": {},
   "outputs": [
    {
     "ename": "SyntaxError",
     "evalue": "invalid syntax. Perhaps you forgot a comma? (3086272839.py, line 2)",
     "output_type": "error",
     "traceback": [
      "\u001b[1;36m  Input \u001b[1;32mIn [2]\u001b[1;36m\u001b[0m\n\u001b[1;33m    print('What's the problem here?')\u001b[0m\n\u001b[1;37m          ^\u001b[0m\n\u001b[1;31mSyntaxError\u001b[0m\u001b[1;31m:\u001b[0m invalid syntax. Perhaps you forgot a comma?\n"
     ]
    }
   ],
   "source": [
    "# Single quotations can be problematic; here, the apostrophe ends the string prematurely.\n",
    "print('What's the problem here?')"
   ]
  },
  {
   "cell_type": "code",
   "execution_count": 3,
   "metadata": {},
   "outputs": [
    {
     "name": "stdout",
     "output_type": "stream",
     "text": [
      "What's the problem here?\n"
     ]
    }
   ],
   "source": [
    "# we can use double quotations\n",
    "print(\"What's the problem here?\")"
   ]
  },
  {
   "cell_type": "code",
   "execution_count": 4,
   "metadata": {},
   "outputs": [
    {
     "name": "stdout",
     "output_type": "stream",
     "text": [
      "What's the \"problem\" here?\n"
     ]
    }
   ],
   "source": [
    "# or backslash if we have single and double quotes\n",
    "print(\"What\\'s the \\\"problem\\\" here?\")"
   ]
  },
  {
   "attachments": {},
   "cell_type": "markdown",
   "metadata": {},
   "source": [
    "### String Methods"
   ]
  },
  {
   "attachments": {},
   "cell_type": "markdown",
   "metadata": {},
   "source": [
    "The string data type has many associated methods. We will explore a few here."
   ]
  },
  {
   "attachments": {},
   "cell_type": "markdown",
   "metadata": {},
   "source": [
    "#### `.upper()`\n",
    "\n",
    "The `.upper()` method transforms string characters into UPPERCASE.\n",
    "\n",
    "For example:\n",
    "\n",
    "``` python\n",
    "x = 'hello'\n",
    "x_upper = x.upper()\n",
    "\n",
    "print(x_upper)\n",
    "```\n",
    "\n",
    "Will print:\n",
    "\n",
    "``` python\n",
    "HELLO\n",
    "```\n",
    "\n",
    "The `.upper()` method doesn't change the original string. For example, in the next cell, we will print both `x` and `x_upper`:"
   ]
  },
  {
   "cell_type": "code",
   "execution_count": 1,
   "metadata": {},
   "outputs": [
    {
     "name": "stdout",
     "output_type": "stream",
     "text": [
      "The value of the original string is: Hello World\n",
      "The value of the upper case string is: HELLO WORLD\n"
     ]
    }
   ],
   "source": [
    "x = \"Hello World\"\n",
    "x_upper = x.upper()\n",
    "print(\"The value of the original string is: \" + x)\n",
    "print(\"The value of the upper case string is: \" + x_upper)"
   ]
  },
  {
   "attachments": {},
   "cell_type": "markdown",
   "metadata": {},
   "source": [
    "In case you want to change the original value, you have to reassign the result of the `.upper()` method to the same variable"
   ]
  },
  {
   "cell_type": "code",
   "execution_count": 3,
   "metadata": {},
   "outputs": [
    {
     "name": "stdout",
     "output_type": "stream",
     "text": [
      "The value of the original string is: HELLO WORLD\n"
     ]
    }
   ],
   "source": [
    "x = x.upper()\n",
    "\n",
    "print(\"The value of the original string is: \" + x)\n",
    "# Notice that the original string is now in upper case"
   ]
  },
  {
   "attachments": {},
   "cell_type": "markdown",
   "metadata": {},
   "source": [
    "#### `.lower()`\n",
    "\n",
    "The `.lower()` method transforms string characters into lowercase. Similar to `.upper()`, it doesn't change the original string."
   ]
  },
  {
   "cell_type": "code",
   "execution_count": 5,
   "metadata": {},
   "outputs": [
    {
     "name": "stdout",
     "output_type": "stream",
     "text": [
      "The value of the original string is: HELLO WORLD\n",
      "The value of the lower case string is: hello world\n"
     ]
    }
   ],
   "source": [
    "x = \"HELLO WORLD\"\n",
    "x_lower = x.lower()\n",
    "print(\"The value of the original string is: \" + x)\n",
    "print(\"The value of the lower case string is: \" + x_lower)"
   ]
  },
  {
   "attachments": {},
   "cell_type": "markdown",
   "metadata": {},
   "source": [
    "#### `.capitalize()`\n",
    "\n",
    "The `.capitalize()` method transforms the first character of a string into uppercase, leaving the rest of the string in lowercase."
   ]
  },
  {
   "cell_type": "code",
   "execution_count": 8,
   "metadata": {},
   "outputs": [
    {
     "data": {
      "text/plain": [
       "'How are you? i am fine.'"
      ]
     },
     "execution_count": 8,
     "metadata": {},
     "output_type": "execute_result"
    }
   ],
   "source": [
    "x = \"how are you? I am fine.\"\n",
    "x.capitalize()\n",
    "# Notive that the \"I\" is not capitalized."
   ]
  },
  {
   "attachments": {},
   "cell_type": "markdown",
   "metadata": {},
   "source": [
    "#### `.title()`\n",
    "\n",
    "The `.title()` method transforms the first character of each word in a string into uppercase, leaving the rest of the string in lowercase."
   ]
  },
  {
   "cell_type": "code",
   "execution_count": 10,
   "metadata": {},
   "outputs": [
    {
     "data": {
      "text/plain": [
       "'How Are You? I Am Fine.'"
      ]
     },
     "execution_count": 10,
     "metadata": {},
     "output_type": "execute_result"
    }
   ],
   "source": [
    "x = \"how are you? I am fine.\"\n",
    "x.title()\n",
    "# Notive that the \"I\" is not capitalized."
   ]
  },
  {
   "attachments": {},
   "cell_type": "markdown",
   "metadata": {},
   "source": [
    "#### `.split()`\n",
    "\n",
    "The `.split()` method splits a string into a list of substrings. The default separator is a space, but you can specify a different separator.\n",
    "\n",
    "For example:\n",
    "\n",
    "``` python\n",
    "x = 'hello world'\n",
    "x_split = x.split()\n",
    "\n",
    "print(x_split)\n",
    "```\n",
    "\n",
    "Will print:\n",
    "\n",
    "``` python\n",
    "['hello', 'world']\n",
    "```\n",
    "\n",
    "Because the separator by default is a space, the string is split into two substrings.\n",
    "\n",
    "Now, let's try to split the string using a different separator:\n",
    "\n",
    "``` python\n",
    "x = 'hello world'\n",
    "x_split = x.split('o')\n",
    "\n",
    "print(x_split)\n",
    "```\n",
    "\n",
    "Will print:\n",
    "\n",
    "``` python\n",
    "['hell', ' w', 'rld']\n",
    "```\n",
    "\n",
    "Notice that the separator is not included in the substrings."
   ]
  },
  {
   "cell_type": "code",
   "execution_count": 2,
   "metadata": {},
   "outputs": [
    {
     "name": "stdout",
     "output_type": "stream",
     "text": [
      "['how are you', ' I am fine.']\n"
     ]
    }
   ],
   "source": [
    "# In some cases, you might want to split a string based on a special character.\n",
    "\n",
    "x = \"how are you? I am fine.\"\n",
    "x_splitted = x.split(\"?\")\n",
    "print(x_splitted)"
   ]
  },
  {
   "attachments": {},
   "cell_type": "markdown",
   "metadata": {},
   "source": [
    "#### `.strip()`\n",
    "\n",
    "The `.strip()` method removes leading and trailing whitespace from a string.\n",
    "\n",
    "It can be helpful to remove leading and trailing whitespace from a string after splitting it."
   ]
  },
  {
   "cell_type": "code",
   "execution_count": 4,
   "metadata": {},
   "outputs": [
    {
     "name": "stdout",
     "output_type": "stream",
     "text": [
      "I am fine.\n"
     ]
    }
   ],
   "source": [
    "x = \"how are you? I am fine.\"\n",
    "x_splitted = x.split(\"?\")\n",
    "second_x_element = x_splitted[1]\n",
    "print(second_x_element.strip())\n",
    "# Notice that the new string has no spaces at the beginning or end."
   ]
  },
  {
   "attachments": {},
   "cell_type": "markdown",
   "metadata": {},
   "source": [
    "#### `.format()`\n",
    "\n",
    "The `.format()` method is employed to insert data into a string. This can be other strings or a variable obtained from elsewhere in your code.\n",
    "\n",
    "One condition is that your string must contain placeholders for the data you want to insert. These placeholders are indicated by curly braces `{}`.\n",
    "\n",
    "For example:\n",
    "\n",
    "``` python\n",
    "x = 'hello'\n",
    "y = 'world'\n",
    "\n",
    "print('{} {}'.format(x, y))\n",
    "```\n",
    "\n",
    "Will print:\n",
    "\n",
    "``` python\n",
    "hello world\n",
    "```\n"
   ]
  },
  {
   "cell_type": "code",
   "execution_count": 6,
   "metadata": {},
   "outputs": [
    {
     "name": "stdout",
     "output_type": "stream",
     "text": [
      "John is 36 years old\n"
     ]
    }
   ],
   "source": [
    "# You can use the curly brackets in a string and insert the variables eventually, using the format() method.\n",
    "\n",
    "my_string = '{} is {} years old'\n",
    "\n",
    "print(my_string.format('John', 36))"
   ]
  },
  {
   "attachments": {},
   "cell_type": "markdown",
   "metadata": {},
   "source": [
    "\n",
    "If you don't add the curly braces, the `.format()` method will not throw an error, but it will not insert the data into the string.\n",
    "\n",
    "For example:\n",
    "\n",
    "``` python\n",
    "x = 'hello'\n",
    "y = 'world'\n",
    "\n",
    "print('{}'.format(x, y))\n",
    "```\n",
    "\n",
    "Will print:\n",
    "\n",
    "``` python\n",
    "hello\n",
    "```"
   ]
  },
  {
   "cell_type": "code",
   "execution_count": 7,
   "metadata": {},
   "outputs": [
    {
     "name": "stdout",
     "output_type": "stream",
     "text": [
      "is years old\n"
     ]
    }
   ],
   "source": [
    "# Or if you don't add any curly brackets at all, no variables will be inserted.\n",
    "\n",
    "my_string = 'is years old'\n",
    "\n",
    "print(my_string.format('John', 36))"
   ]
  },
  {
   "attachments": {},
   "cell_type": "markdown",
   "metadata": {},
   "source": [
    "Notice that the variables you can insert using the `.format()` method are not limited to strings. You can insert other data types, such as integers, floats, and booleans."
   ]
  },
  {
   "cell_type": "code",
   "execution_count": 8,
   "metadata": {},
   "outputs": [
    {
     "name": "stdout",
     "output_type": "stream",
     "text": [
      "1 2.0 True\n"
     ]
    }
   ],
   "source": [
    "x = 1\n",
    "y = 2.0\n",
    "z = True\n",
    "\n",
    "print('{} {} {}'.format(x, y, z))"
   ]
  },
  {
   "attachments": {},
   "cell_type": "markdown",
   "metadata": {},
   "source": [
    "Inside the curly braces, you can also specify different formatting options for the data you want to insert.\n",
    "\n",
    "You can check them out in this [link](https://docs.python.org/3/library/string.html#format-string-syntax).\n",
    "\n",
    "Here, we will see how to specify the number of decimal places for a float.\n",
    "\n",
    "To do so, inside the curly braces, you need to add a colon `:` followed by a dot `.` and the number of decimal places you want to display followed by the letter `f`."
   ]
  },
  {
   "cell_type": "code",
   "execution_count": 50,
   "metadata": {},
   "outputs": [
    {
     "name": "stdout",
     "output_type": "stream",
     "text": [
      "The value of pi is approximately 3.14\n",
      "Or with more accuracy: 3.1416.\n"
     ]
    }
   ],
   "source": [
    "x = 3.141592653589793\n",
    "print('The value of pi is approximately {:.2f}'.format(x))\n",
    "print('Or with more accuracy: {:.4f}.'.format(x))"
   ]
  },
  {
   "attachments": {},
   "cell_type": "markdown",
   "metadata": {},
   "source": [
    "If you don't add the `f` at the end, the number will indicate the total number of characters in the number, including the decimal point and the number of decimal places."
   ]
  },
  {
   "cell_type": "code",
   "execution_count": 51,
   "metadata": {},
   "outputs": [
    {
     "name": "stdout",
     "output_type": "stream",
     "text": [
      "The value of pi is approximately 3.1\n",
      "Or with more accuracy: 3.142.\n"
     ]
    }
   ],
   "source": [
    "x = 3.141592653589793\n",
    "print('The value of pi is approximately {:.2}'.format(x))\n",
    "print('Or with more accuracy: {:.4}.'.format(x))"
   ]
  },
  {
   "attachments": {},
   "cell_type": "markdown",
   "metadata": {},
   "source": [
    "You can also specify the variable corresponding to the data you want to insert by using the index of the variable inside the `.format()` method.\n",
    "\n",
    "For example:\n",
    "\n",
    "``` python\n",
    "x = 'hello'\n",
    "y = 'world'\n",
    "\n",
    "print('{1} {0}'.format(x, y))\n",
    "```\n",
    "\n",
    "Will print:\n",
    "\n",
    "``` python\n",
    "world hello\n",
    "```"
   ]
  },
  {
   "cell_type": "code",
   "execution_count": 53,
   "metadata": {},
   "outputs": [
    {
     "name": "stdout",
     "output_type": "stream",
     "text": [
      "The fox brown quick\n"
     ]
    }
   ],
   "source": [
    "# If you don't specify the index, the variables will be inserted in the order they appear in the format() method.\n",
    "print(\"The {} {} {}\".format(\"fox\", \"brown\", \"quick\"))"
   ]
  },
  {
   "cell_type": "code",
   "execution_count": 54,
   "metadata": {},
   "outputs": [
    {
     "name": "stdout",
     "output_type": "stream",
     "text": [
      "The quick brown fox\n"
     ]
    }
   ],
   "source": [
    "# But if you specify the index, the variables will be inserted in the order you specify.\n",
    "print(\"The {2} {1} {0}\".format(\"fox\", \"brown\", \"quick\"))"
   ]
  },
  {
   "attachments": {},
   "cell_type": "markdown",
   "metadata": {},
   "source": [
    "Instead of using the index of the variable, you can also use the name of the variable."
   ]
  },
  {
   "cell_type": "code",
   "execution_count": 12,
   "metadata": {},
   "outputs": [
    {
     "name": "stdout",
     "output_type": "stream",
     "text": [
      "The quick brown fox\n"
     ]
    }
   ],
   "source": [
    "# can use variable keys for readability\n",
    "print(\"The {q} {b} {f}\".format(f=\"fox\", b=\"brown\", q=\"quick\"))"
   ]
  },
  {
   "attachments": {},
   "cell_type": "markdown",
   "metadata": {},
   "source": [
    "There are many other string methods that you can explore. It is important that you feel comfortable using the documentation to find the methods you need, as well as different pages such as _Stackoverflow_ to find other people's solutions to common problems."
   ]
  },
  {
   "attachments": {},
   "cell_type": "markdown",
   "metadata": {},
   "source": [
    "## f-Strings"
   ]
  },
  {
   "attachments": {},
   "cell_type": "markdown",
   "metadata": {},
   "source": [
    "We have just seen how to insert data into a string using the `.format()` method. However, there is a more convenient way to do so, which is using _f-strings_.\n",
    "\n",
    "_f-strings_ are strings that start with the letter `f` followed by a quotation mark. Inside the string, you can insert variables by enclosing them in curly braces `{}`.\n",
    "\n",
    "For example:\n",
    "\n",
    "``` python\n",
    "x = 'John'\n",
    "y = 25\n",
    "\n",
    "print(f'{x} is {y} years old.')\n",
    "```\n",
    "\n",
    "Will print:\n",
    "\n",
    "``` python\n",
    "John is 25 years old.\n",
    "```"
   ]
  },
  {
   "cell_type": "code",
   "execution_count": 59,
   "metadata": {},
   "outputs": [
    {
     "name": "stdout",
     "output_type": "stream",
     "text": [
      "The value of x is 1 and the value of y is 2.0.\n"
     ]
    }
   ],
   "source": [
    "x = 1\n",
    "y = 2.0\n",
    "\n",
    "print(f'The value of x is {x} and the value of y is {y}.')"
   ]
  },
  {
   "attachments": {},
   "cell_type": "markdown",
   "metadata": {},
   "source": [
    "## String Indexing and Slicing\n",
    "\n",
    "There are some important concepts to understand when working with strings in Python.\n",
    "\n",
    "- Strings are iterable, meaning that they can return their elements one at a time. You can think of them as a container of single characters.\n",
    "- Strings are also immutable, meaning that their elements cannot be changed once assigned. That means that if you want to change a character in a string, you have to change the whole string.\n",
    "- Each character in a string is one element; this includes spaces and punctuation marks.\n",
    "- Indexing enables us to call back one element.\n",
    "- Slicing enables us to call back a range of elements.\n",
    "\n",
    "Let's take a look at some examples of indexing and slicing."
   ]
  },
  {
   "attachments": {},
   "cell_type": "markdown",
   "metadata": {},
   "source": [
    "### Indexing\n",
    "\n",
    "Indexing is the process of calling back one element of a container. In Python, the indexing starts at 0 (zero).\n",
    "\n",
    "As mentioned above, you can think of a string as a container of single characters. So, in a string, indexing will return a single character at a certain position.\n",
    "\n",
    "To index a string, you need to specify the name of the string followed by square brackets `[]` and the index of the element you want to call back.\n",
    "\n",
    "For example:\n",
    "\n",
    "``` python\n",
    "x = 'hello world'\n",
    "first_char = x[0]\n",
    "\n",
    "print(first_char)\n",
    "```\n",
    "\n",
    "Will print:\n",
    "\n",
    "``` python\n",
    "h\n",
    "```"
   ]
  },
  {
   "cell_type": "code",
   "execution_count": 55,
   "metadata": {},
   "outputs": [
    {
     "name": "stdout",
     "output_type": "stream",
     "text": [
      "The first letter of the string is: H\n",
      "The second letter of the string is: e\n"
     ]
    }
   ],
   "source": [
    "x = \"Hello World\"\n",
    "print(\"The first letter of the string is: \" + x[0])\n",
    "print(\"The second letter of the string is: \" + x[1])"
   ]
  },
  {
   "attachments": {},
   "cell_type": "markdown",
   "metadata": {},
   "source": [
    "You can also index from the end of the string by using negative numbers. The last element of the string will have the index -1, the second to last element will have the index -2, and so on."
   ]
  },
  {
   "cell_type": "code",
   "execution_count": 56,
   "metadata": {},
   "outputs": [
    {
     "name": "stdout",
     "output_type": "stream",
     "text": [
      "The last letter of the string is: d\n",
      "The second last letter of the string is: l\n"
     ]
    }
   ],
   "source": [
    "x = \"Hello World\"\n",
    "print(\"The last letter of the string is: \" + x[-1])\n",
    "print(\"The second last letter of the string is: \" + x[-2])"
   ]
  },
  {
   "attachments": {},
   "cell_type": "markdown",
   "metadata": {},
   "source": [
    "Be careful when indexing, if you try to index an element that doesn't exist, you will get an error."
   ]
  },
  {
   "cell_type": "code",
   "execution_count": 57,
   "metadata": {},
   "outputs": [
    {
     "ename": "IndexError",
     "evalue": "string index out of range",
     "output_type": "error",
     "traceback": [
      "\u001b[0;31m---------------------------------------------------------------------------\u001b[0m",
      "\u001b[0;31mIndexError\u001b[0m                                Traceback (most recent call last)",
      "Cell \u001b[0;32mIn[57], line 2\u001b[0m\n\u001b[1;32m      1\u001b[0m x \u001b[39m=\u001b[39m \u001b[39m\"\u001b[39m\u001b[39mHello World\u001b[39m\u001b[39m\"\u001b[39m\n\u001b[0;32m----> 2\u001b[0m \u001b[39mprint\u001b[39m(\u001b[39m\"\u001b[39m\u001b[39mThe 12th letter of the string is: \u001b[39m\u001b[39m\"\u001b[39m \u001b[39m+\u001b[39m x[\u001b[39m12\u001b[39;49m])\n",
      "\u001b[0;31mIndexError\u001b[0m: string index out of range"
     ]
    }
   ],
   "source": [
    "x = \"Hello World\"\n",
    "print(\"The 12th letter of the string is: \" + x[12])"
   ]
  },
  {
   "attachments": {},
   "cell_type": "markdown",
   "metadata": {},
   "source": [
    "### Slicing\n",
    "\n",
    "Slicing is the process of calling back a range of elements of a container.\n",
    "\n",
    "To slice a string, you need to specify the name of the string followed by square brackets `[]` and the range of elements you want to call back.\n",
    "\n",
    "The range of elements is specified by using a colon `:` between two numbers. The first number indicates the index of the first element you want to call back, and the second number indicates the index of the last element you want to call back.\n",
    "\n",
    "The element with the index of the second number will not be included in the slice. \n",
    "\n",
    "For example:\n",
    "\n",
    "``` python\n",
    "x = 'hello world'\n",
    "first_four_chars = x[0:4]\n",
    "\n",
    "print(first_four_chars)\n",
    "```\n",
    "\n",
    "Will print:\n",
    "\n",
    "``` python\n",
    "hell\n",
    "```\n",
    "\n",
    "Notice that the element with the index 4 (the letter `o`) is not included in the slice."
   ]
  },
  {
   "cell_type": "markdown",
   "metadata": {},
   "source": [
    "Use a colon to indicate a slicing operation; for example, 1:4 returns the 2nd (index 1), 3rd (index 2) and 4th (index 3) elements, __but not the 5th (index 4)__:"
   ]
  },
  {
   "cell_type": "code",
   "execution_count": 16,
   "metadata": {},
   "outputs": [
    {
     "data": {
      "text/plain": [
       "'ell'"
      ]
     },
     "execution_count": 16,
     "metadata": {},
     "output_type": "execute_result"
    }
   ],
   "source": [
    "my_first_string[1:4]"
   ]
  },
  {
   "cell_type": "markdown",
   "metadata": {},
   "source": [
    "In the absence of the upper bound, the slicing starts with the 1st index indicated and displays everything beyond:"
   ]
  },
  {
   "cell_type": "code",
   "execution_count": 17,
   "metadata": {},
   "outputs": [
    {
     "data": {
      "text/plain": [
       "'ello World'"
      ]
     },
     "execution_count": 17,
     "metadata": {},
     "output_type": "execute_result"
    }
   ],
   "source": [
    "my_first_string[1:]"
   ]
  },
  {
   "cell_type": "markdown",
   "metadata": {},
   "source": [
    "In the absence of the lower bound, the slicing starts from index 0 up to, but not including, the upper bound:"
   ]
  },
  {
   "cell_type": "code",
   "execution_count": 19,
   "metadata": {},
   "outputs": [
    {
     "data": {
      "text/plain": [
       "'Hel'"
      ]
     },
     "execution_count": 19,
     "metadata": {},
     "output_type": "execute_result"
    }
   ],
   "source": [
    "my_first_string[:3]"
   ]
  },
  {
   "attachments": {},
   "cell_type": "markdown",
   "metadata": {},
   "source": [
    "### Immutability\n",
    "\n",
    "As mentioned above, strings are immutable, meaning that their elements cannot be changed once assigned.\n",
    "\n",
    "Let's try to change the first character of the string `hello world` to `H`:"
   ]
  },
  {
   "cell_type": "code",
   "execution_count": 58,
   "metadata": {},
   "outputs": [
    {
     "ename": "TypeError",
     "evalue": "'str' object does not support item assignment",
     "output_type": "error",
     "traceback": [
      "\u001b[0;31m---------------------------------------------------------------------------\u001b[0m",
      "\u001b[0;31mTypeError\u001b[0m                                 Traceback (most recent call last)",
      "Cell \u001b[0;32mIn[58], line 2\u001b[0m\n\u001b[1;32m      1\u001b[0m x \u001b[39m=\u001b[39m \u001b[39m\"\u001b[39m\u001b[39mhello World\u001b[39m\u001b[39m\"\u001b[39m\n\u001b[0;32m----> 2\u001b[0m x[\u001b[39m0\u001b[39;49m] \u001b[39m=\u001b[39m \u001b[39m\"\u001b[39m\u001b[39mH\u001b[39m\u001b[39m\"\u001b[39m\n",
      "\u001b[0;31mTypeError\u001b[0m: 'str' object does not support item assignment"
     ]
    }
   ],
   "source": [
    "x = \"hello World\"\n",
    "x[0] = \"H\""
   ]
  },
  {
   "attachments": {},
   "cell_type": "markdown",
   "metadata": {},
   "source": [
    "As you can see, if we try to change the first character of the string, we get an error.\n",
    "\n",
    "This is because strings are immutable, so we cannot change the elements of a string once assigned.\n",
    "\n",
    "Don't forget about the information we learned about indexing, slicing and immutability, we will see these concepts again for other data types."
   ]
  },
  {
   "attachments": {},
   "cell_type": "markdown",
   "metadata": {},
   "source": [
    "## Conclusion\n",
    "At this point, we should have a firm understanding of\n",
    "- Strings and string methods\n",
    "- How to add in objects to strings using the `.format() `method.\n",
    "- String indexing\n",
    "- String slicing\n",
    "- String immutability\n",
    "\n",
    "Please always refer to this notebook when unsure of any command or the syntax.\n",
    "\n",
    "Additionally, explore the documentation (link provided below) to learn other string methods and style conventions in Python.\n",
    "\n",
    "## Further Reading\n",
    "- String methods: https://docs.python.org/2/library/stdtypes.html#string-methods\n",
    "- PEP8 style documentation: https://www.python.org/dev/peps/pep-0008/"
   ]
  }
 ],
 "metadata": {
  "kernelspec": {
   "display_name": "Python 3.9.0 64-bit",
   "language": "python",
   "name": "python3"
  },
  "language_info": {
   "codemirror_mode": {
    "name": "ipython",
    "version": 3
   },
   "file_extension": ".py",
   "mimetype": "text/x-python",
   "name": "python",
   "nbconvert_exporter": "python",
   "pygments_lexer": "ipython3",
   "version": "3.10.8"
  },
  "vscode": {
   "interpreter": {
    "hash": "aee8b7b246df8f9039afb4144a1f6fd8d2ca17a180786b69acc140d282b71a49"
   }
  }
 },
 "nbformat": 4,
 "nbformat_minor": 2
}
