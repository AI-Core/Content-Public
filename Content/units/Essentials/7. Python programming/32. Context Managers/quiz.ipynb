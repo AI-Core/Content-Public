{
 "cells": [
  {
   "attachments": {},
   "cell_type": "markdown",
   "metadata": {},
   "source": [
    "# Context Managers"
   ]
  },
  {
   "attachments": {},
   "cell_type": "markdown",
   "metadata": {},
   "source": [
    "## What will happen when the following code block is run?\n",
    "\n",
    "```python\n",
    "\n",
    "with open(\"hello.txt\", mode=\"rb\") as file:\n",
    "    file.write(\"test string\")\n",
    "\n",
    "```\n",
    "\n",
    "- The code will write the string `test string` to the file `hello.txt` \n",
    "- Nothing will happen\n",
    "- The code will throw an error ***\n"
   ]
  },
  {
   "attachments": {},
   "cell_type": "markdown",
   "metadata": {},
   "source": [
    "## Which Python keyword is used to initiate a context manager statement?\n",
    "\n",
    "- `with` ***\n",
    "- `by`\n",
    "- `while`\n",
    "- `context`\n",
    "- `having`"
   ]
  },
  {
   "attachments": {},
   "cell_type": "markdown",
   "metadata": {},
   "source": [
    "## What is the main advantage of using a context manager to handle file operations?\n",
    "\n",
    "- Increased performance when reading and writing to files\n",
    "- Automatic file compression when writing data\n",
    "- Automatic file encryption and decryption\n",
    "- Automatic closing of the file when the block of code finishes executing ***\n",
    "- None of the above"
   ]
  },
  {
   "attachments": {},
   "cell_type": "markdown",
   "metadata": {},
   "source": [
    "## What is the primary purpose of context managers in Python?\n",
    "\n",
    "- To manage the global state of the application\n",
    "- To manage imports and dependencies\n",
    "- To manage resources like file handles in a clean and efficient manner ***\n",
    "- To manage memory allocation and garbage collection"
   ]
  }
 ],
 "metadata": {
  "kernelspec": {
   "display_name": "multinational",
   "language": "python",
   "name": "python3"
  },
  "language_info": {
   "codemirror_mode": {
    "name": "ipython",
    "version": 3
   },
   "file_extension": ".py",
   "mimetype": "text/x-python",
   "name": "python",
   "nbconvert_exporter": "python",
   "pygments_lexer": "ipython3",
   "version": "3.11.2"
  },
  "orig_nbformat": 4
 },
 "nbformat": 4,
 "nbformat_minor": 2
}
