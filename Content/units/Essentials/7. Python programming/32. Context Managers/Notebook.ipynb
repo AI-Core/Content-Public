{
 "cells": [
  {
   "attachments": {},
   "cell_type": "markdown",
   "metadata": {},
   "source": [
    "# Context Managers"
   ]
  },
  {
   "attachments": {},
   "cell_type": "markdown",
   "metadata": {},
   "source": [
    "> Context managers are a type of object that you can use to properly manage resources. When you're working with files for example, it's important to open a file, and then close it again when you're done using it, regardless of whether your code ran successfully or encountered an error. Context managers help with this by providing a quick way to allocate and release resources precisely when you need them.\n"
   ]
  },
  {
   "attachments": {},
   "cell_type": "markdown",
   "metadata": {},
   "source": [
    "## Motivations\n",
    "\n",
    "Learning about context managers will allow you to:\n",
    "\n",
    "- Efficiently allocate and release resources\n",
    "- Minimise errors during file handling\n",
    "- Understand how to read from and write to files effectively"
   ]
  },
  {
   "attachments": {},
   "cell_type": "markdown",
   "metadata": {},
   "source": [
    "## Example: File Handling\n",
    "\n",
    "A common problem in programming is that resources, such as files, directories, connections, etc., are retained indefinitely. Proper resource management is often a challenge. It requires both setup and cleanup phases.  \n",
    "\n",
    "Let's use reading and writing from files as an example. Python has a function called `open`, which assigns a file object to a variable, so that you can perform some task such as reading from or writing to the file. We call that variable that refers to a file object a \"file handle\". To write some data to a file, you must first call `open` on the filepath:"
   ]
  },
  {
   "cell_type": "code",
   "execution_count": 1,
   "metadata": {},
   "outputs": [],
   "source": [
    "file = open(\"hello.txt\", \"w\") \n",
    "file.write(\"Hello, World!\")\n",
    "file.close()"
   ]
  },
  {
   "attachments": {},
   "cell_type": "markdown",
   "metadata": {},
   "source": [
    " If a file is updated without closing it, the data will not be stored in the target file. In the code block below, the string `Will i be stored in the file?`  has not yet been saved to `hello.txt`."
   ]
  },
  {
   "cell_type": "code",
   "execution_count": 2,
   "metadata": {},
   "outputs": [
    {
     "data": {
      "text/plain": [
       "29"
      ]
     },
     "execution_count": 2,
     "metadata": {},
     "output_type": "execute_result"
    }
   ],
   "source": [
    "file = open(\"hello.txt\", \"w\")\n",
    "file.write(\"Will I be stored in the file?\")\n"
   ]
  },
  {
   "attachments": {},
   "cell_type": "markdown",
   "metadata": {},
   "source": [
    "To save it, you must also release the file handle using the .`close()` method:"
   ]
  },
  {
   "cell_type": "code",
   "execution_count": 4,
   "metadata": {},
   "outputs": [
    {
     "name": "stdout",
     "output_type": "stream",
     "text": [
      "Will I be stored in the file?\n"
     ]
    }
   ],
   "source": [
    "file.close()\n",
    "\n",
    "# check that the data is in the file:\n",
    "file = open(\"hello.txt\", \"r\")\n",
    "print(file.read())"
   ]
  },
  {
   "attachments": {},
   "cell_type": "markdown",
   "metadata": {},
   "source": [
    "You can avoid the risk of forgetting to close the file (and thereby failing to save your data) by using context managers. Python uses the `with` keyword to denote the start of a context management code-block. Context managers have the following syntax:"
   ]
  },
  {
   "cell_type": "code",
   "execution_count": null,
   "metadata": {},
   "outputs": [],
   "source": [
    "\n",
    "with expression as target_var:\n",
    "    do_something(target_var)"
   ]
  },
  {
   "attachments": {},
   "cell_type": "markdown",
   "metadata": {},
   "source": [
    "For example, to open and close a file, you could use:"
   ]
  },
  {
   "cell_type": "code",
   "execution_count": null,
   "metadata": {},
   "outputs": [],
   "source": [
    "with open(\"hello.txt\", mode=\"w\") as file:\n",
    "    file.write(\"I come from the context manager, nice to meet you\")"
   ]
  },
  {
   "attachments": {},
   "cell_type": "markdown",
   "metadata": {},
   "source": [
    "This is telling the Python interpreter that, during the following codeblock (and *only* that codeblock), the interpreter should open the `hello.txt` file object in write (`w`) mode, and assign it to the variable `file`. Once the indented block following the `with` statement is finished, this will no longer be the case. The `file` variable will no longer be associated with that context, and the file object will be closed. "
   ]
  },
  {
   "cell_type": "markdown",
   "metadata": {},
   "source": [
    "### Other Modes of the `open` Function\n",
    "\n",
    "As well as `w` for write, there are various other update modes for the `open` function. Here is a full list of the options:\n",
    "\n",
    "- **`'r'` (Read Mode):** Default mode, opens a file for reading\n",
    "- **`'w'` (Write Mode):** Opens a file for writing, creates a new file if it doesn't exist\n",
    "- **`'x'` (Exclusive Creation):** Creates a new file, fails if the file already exists\n",
    "- **`'a'` (Append Mode):** Opens a file for appending, creates a new one if it doesn't exist\n",
    "- **`'b'` (Binary Mode):** Used with other modes for interacting with binary files (e.g., `'rb'`, `'wb'`)\n",
    "- **`'t'` (Text Mode):** Used with other modes for interacting text files (e.g., `'rt'`, `'wt'`), usually not needed as it represents default behaviour\n",
    "- **`'+'` (Update Mode):** Used with other modes to read and write to the same file"
   ]
  },
  {
   "attachments": {},
   "cell_type": "markdown",
   "metadata": {},
   "source": [
    "## Key Takeaways"
   ]
  },
  {
   "attachments": {},
   "cell_type": "markdown",
   "metadata": {},
   "source": [
    "- Context Managers are useful for efficient and error-free resource handling\n",
    "- The `with` statement defines the start of a context management code block\n",
    "- The `with` statement assigns an expression to a variable for the duration of the indented block following it\n",
    "- You can use `with open(filename)` to manage reading from and writing to files\n",
    "- There are different modes for the `open` function, depending on the action you wish to perform on the file"
   ]
  }
 ],
 "metadata": {
  "kernelspec": {
   "display_name": "base",
   "language": "python",
   "name": "python3"
  },
  "language_info": {
   "codemirror_mode": {
    "name": "ipython",
    "version": 3
   },
   "file_extension": ".py",
   "mimetype": "text/x-python",
   "name": "python",
   "nbconvert_exporter": "python",
   "pygments_lexer": "ipython3",
   "version": "3.11.3"
  },
  "vscode": {
   "interpreter": {
    "hash": "a2592652612463181e69ac003232387e3e9a99279aa6b168e76f5df16d5110f4"
   }
  }
 },
 "nbformat": 4,
 "nbformat_minor": 2
}
