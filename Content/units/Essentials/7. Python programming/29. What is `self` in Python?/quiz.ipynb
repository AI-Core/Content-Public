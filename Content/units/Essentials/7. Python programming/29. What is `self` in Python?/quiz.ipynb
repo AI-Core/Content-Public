{
 "cells": [
  {
   "attachments": {},
   "cell_type": "markdown",
   "metadata": {},
   "source": [
    "# What is `self` in Python?"
   ]
  },
  {
   "attachments": {},
   "cell_type": "markdown",
   "metadata": {},
   "source": [
    "## Where are you likely to see the word `self` in Python? Select all that apply.\n",
    "\n",
    "- When setting attributes of a class ***\n",
    "- As the first argument to a method of a class ***\n",
    "- As the first argument to any Python function\n",
    "- When calling a Python class\n",
    "- It's usually passed to a function as the first argument\n",
    "\n"
   ]
  },
  {
   "attachments": {},
   "cell_type": "markdown",
   "metadata": {},
   "source": [
    "## Which of the following statements are true about the `self` keyword? Select all that apply.\n",
    "\n",
    "- `self` represents a particular instance of a Python class *** \n",
    "- `self` is used to differentiate between two instances of the same Python class ***\n",
    "- When you see `self` you can read it as \"this instance of the class\" ***\n",
    "- When calling a method of a class, you always need to pass the name of the class instance as an argument in place of `self` \n",
    "- `self` is just an optional argument which helps differentiate between different instances of the same class"
   ]
  }
 ],
 "metadata": {
  "kernelspec": {
   "display_name": "base",
   "language": "python",
   "name": "python3"
  },
  "language_info": {
   "name": "python",
   "version": "3.10.9"
  },
  "orig_nbformat": 4,
  "vscode": {
   "interpreter": {
    "hash": "a2592652612463181e69ac003232387e3e9a99279aa6b168e76f5df16d5110f4"
   }
  }
 },
 "nbformat": 4,
 "nbformat_minor": 2
}
