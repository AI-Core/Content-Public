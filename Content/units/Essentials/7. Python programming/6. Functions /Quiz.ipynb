{
 "cells": [
  {
   "attachments": {},
   "cell_type": "markdown",
   "metadata": {},
   "source": [
    "# Functions"
   ]
  },
  {
   "attachments": {},
   "cell_type": "markdown",
   "metadata": {},
   "source": [
    "## What is the keyword used to define a function?\n",
    "\n",
    "- `func`\n",
    "- `function`\n",
    "- `def` ***\n",
    "- `define`\n",
    "- `create`\n"
   ]
  },
  {
   "attachments": {},
   "cell_type": "markdown",
   "metadata": {},
   "source": [
    "## What elements are required to define a function? Select all that apply.\n",
    "\n",
    "- The `def` keyword ***\n",
    "- The function body ***\n",
    "- The `return` keyword\n",
    "- The `function` keyword\n",
    "- The name you want to give the function ***\n",
    "- A colon at the end of the function header ***"
   ]
  },
  {
   "attachments": {},
   "cell_type": "markdown",
   "metadata": {},
   "source": [
    "## Which of the following statements are true about function calls? Select all that apply.\n",
    "\n",
    "- A function call needs the `def` keyword to be executed\n",
    "- A function call needs the `return` keyword to be executed\n",
    "- A function call is a statement that tells the computer to execute the code in a function ***\n",
    "- A function call always needs an argument list enclosed in parentheses \n",
    "- A function call consists of the function name followed by an argument list enclosed in parentheses if the functions definition includes parameters. If the function is defined without any parameters, a call will consist of the function name followed by empty parentheses ***\n"
   ]
  },
  {
   "attachments": {},
   "cell_type": "markdown",
   "metadata": {},
   "source": [
    "## What elements are required to call a function? Select all that apply.\n",
    "\n",
    "- The `def` keyword\n",
    "- The function body\n",
    "- The `return` keyword\n",
    "- The `function` keyword\n",
    "- The name of the function ***\n",
    "- A colon at the end of the function header\n",
    "- An argument list enclosed in parentheses if the function definition has any parameters, or an empty parentheses otherwise ***"
   ]
  },
  {
   "attachments": {},
   "cell_type": "markdown",
   "metadata": {},
   "source": [
    "## In the following block of code, which are the parameters?\n",
    "\n",
    "```python\n",
    "\n",
    "def add(a, b):\n",
    "    return a + b\n",
    "\n",
    "add(1, 2)\n",
    "```\n",
    "\n",
    "- `add`\n",
    "- `a` and `b` ***\n",
    "- `1` and `2`\n",
    "- `def` and `return`\n",
    "- `a + b`\n",
    "- `3`"
   ]
  },
  {
   "attachments": {},
   "cell_type": "markdown",
   "metadata": {},
   "source": [
    "## In the following block of code, which are the arguments?\n",
    "\n",
    "```python\n",
    "\n",
    "def add(a, b):\n",
    "    return a + b\n",
    "\n",
    "add(1, 2)\n",
    "```\n",
    "\n",
    "- `add`\n",
    "- `a` and `b`\n",
    "- `1` and `2` ***\n",
    "- `def` and `return`\n",
    "- `a + b`\n",
    "- `3`"
   ]
  },
  {
   "attachments": {},
   "cell_type": "markdown",
   "metadata": {},
   "source": [
    "## What does the following function return when we pass `\"John\"`?\n",
    "\n",
    "```python\n",
    "def my_function(name):\n",
    "    print(\"Hello \" + name)\n",
    "```\n",
    "\n",
    "- `None` ***\n",
    "- `\"John\"`\n",
    "- `\"Hello John\"`\n",
    "- `\"Hello\"`"
   ]
  },
  {
   "attachments": {},
   "cell_type": "markdown",
   "metadata": {},
   "source": [
    "## Which of the following is the correct syntax to define a function?\n",
    "\n",
    "- `function my_function():`\n",
    "- `def my_function():` ***\n",
    "- `define my_function():`\n",
    "- `func my_function():`"
   ]
  },
  {
   "attachments": {},
   "cell_type": "markdown",
   "metadata": {},
   "source": [
    "## What is the difference between a parameter and an argument?\n",
    "\n",
    "- There is no difference, the terms are used interchangeably\n",
    "- A parameter is a value passed to a function, while an argument is a named variable in a function\n",
    "- An argument is a value passed to a function, while a parameter is a named variable in a function ***\n",
    "- A parameter is a value returned from a function, while an argument is a named variable in a function"
   ]
  },
  {
   "attachments": {},
   "cell_type": "markdown",
   "metadata": {},
   "source": [
    "## Which of the following statements about local and global variable scope is true?\n",
    "\n",
    "- Local variables are accessible from anywhere in the program, while global variables are only accessible within the function where they are defined\n",
    "- Global variables are accessible from anywhere in the program, while local variables are only accessible within the function where they are defined ***\n",
    "- Local and global variables are both accessible from anywhere in the program\n",
    "- Local and global variables cannot be used in the same program"
   ]
  },
  {
   "attachments": {},
   "cell_type": "markdown",
   "metadata": {},
   "source": [
    "## What will be the output of the following Python code?\n",
    "\n",
    "``` python\n",
    "x = 10\n",
    "\n",
    "def my_function():\n",
    "    x = 5\n",
    "    print(x)\n",
    "\n",
    "my_function()\n",
    "print(x)\n",
    "```\n",
    "\n",
    "- `5, 10` ***\n",
    "- `5, 5`\n",
    "- `10, 5`\n",
    "- `10, 10`"
   ]
  },
  {
   "attachments": {},
   "cell_type": "markdown",
   "metadata": {},
   "source": [
    "## What do `*args` and `**kwargs` represent in function definitions?\n",
    "\n",
    "- `*args` represents named arguments, while `**kwargs `represents unnamed arguments\n",
    "- `*args` represents unnamed arguments, while `**kwarg`s represents named arguments\n",
    "- `*args` represents a tuple of unnamed arguments, while `**kwargs` represents a dictionary of named arguments ***\n",
    "- `*args` represents a dictionary of named arguments, while `**kwargs` represents a list of unnamed arguments"
   ]
  },
  {
   "attachments": {},
   "cell_type": "markdown",
   "metadata": {},
   "source": [
    "## What is the correct syntax for defining a function that takes two parameters, `x` and `y`, and returns their sum?\n",
    "\n",
    "- This code ***\n",
    "```python\n",
    "def sum(x, y):\n",
    "    return x + y \n",
    "```\n",
    "\n",
    "- This code\n",
    "``` python\n",
    "def sum(x, y):\n",
    "    print(x + y)\n",
    "```\n",
    "\n",
    "- This code\n",
    "``` python\n",
    "def sum():\n",
    "    return x + y\n",
    "```\n",
    "\n",
    "- This code\n",
    "```python\n",
    "def sum(x, y):\n",
    "    sum = x + y\n",
    "```"
   ]
  },
  {
   "attachments": {},
   "cell_type": "markdown",
   "metadata": {},
   "source": [
    "## Consider the following Python code, what will be printed to the console?\n",
    "\n",
    "``` python\n",
    "\n",
    "def change_list(lst):\n",
    "    lst[0] = 1\n",
    "    \n",
    "def change_string(s):\n",
    "    s = \"new string\"\n",
    "    \n",
    "my_list = [0, 1, 2]\n",
    "change_list(my_list)\n",
    "print(my_list)\n",
    "\n",
    "my_string = \"old string\"\n",
    "change_string(my_string)\n",
    "print(my_string)\n",
    "```\n",
    "\n",
    "- `[1, 1, 2]` and `\"new string\"`\n",
    "- `[1, 1, 2]` and `\"old string\"` ***\n",
    "- `[0, 1, 2]` and `\"new string\"`\n",
    "- `[0, 1, 2]` and `\"old string\"`\n"
   ]
  },
  {
   "attachments": {},
   "cell_type": "markdown",
   "metadata": {},
   "source": [
    "##  What is the output of the following Python code?\n",
    "\n",
    "``` python\n",
    "\n",
    "def multiply(x, y):\n",
    "    z = x * y\n",
    "    return z\n",
    "\n",
    "result = multiply(3, 4)\n",
    "print(result)\n",
    "```\n",
    "\n",
    "- `7`\n",
    "- `12` ***\n",
    "- `10`\n",
    "- `0`"
   ]
  },
  {
   "attachments": {},
   "cell_type": "markdown",
   "metadata": {},
   "source": [
    "## What is the output of the following Python code?\n",
    "\n",
    "``` python\n",
    "\n",
    "def greet(name, greeting=\"Hello\"):\n",
    "    print(greeting + \", \" + name + \"!\")\n",
    "    \n",
    "greet(\"Alice\")\n",
    "greet(\"Bob\", \"Hi\")\n",
    "```\n",
    "\n",
    "- `Hello, Alice!` and `Hi, Bob!` ***\n",
    "- `Alice, Hello!` and `Bob, Hi!`\n",
    "- `Hello, Alice!` and `Bob, Hi!`\n",
    "- `Hi, Alice!` and `Hello, Bob!`"
   ]
  },
  {
   "attachments": {},
   "cell_type": "markdown",
   "metadata": {},
   "source": [
    "## What is the output of the following Python code?\n",
    "\n",
    "``` python\n",
    "\n",
    "def add_and_multiply(x, y):\n",
    "    sum = x + y\n",
    "    product = x * y\n",
    "    return sum, product\n",
    "\n",
    "result1, result2 = add_and_multiply(3, 4)\n",
    "print(result1)\n",
    "print(result2)\n",
    "```\n",
    "\n",
    "- `7` and `12` ***\n",
    "- `12` and `7`\n",
    "- `34` and `12`\n",
    "- `7` and `34`"
   ]
  },
  {
   "attachments": {},
   "cell_type": "markdown",
   "metadata": {},
   "source": [
    "## True or False: It is good practice to use global variables within a function whenever possible to increase code modularity.\n",
    "\n",
    "- True\n",
    "- False ***"
   ]
  },
  {
   "attachments": {},
   "cell_type": "markdown",
   "metadata": {},
   "source": [
    "## True or False: It is considered best practice to use meaningful and descriptive names for functions and parameters.\n",
    "\n",
    "- True ***\n",
    "- False"
   ]
  },
  {
   "attachments": {},
   "cell_type": "markdown",
   "metadata": {},
   "source": [
    "## True or False: Functions should generally perform a single, well-defined task to promote code modularity and reusability.\n",
    "\n",
    "- True ***\n",
    "- False\n"
   ]
  },
  {
   "attachments": {},
   "cell_type": "markdown",
   "metadata": {},
   "source": [
    "## What type of error occurs when a function is called with an incorrect number of arguments?\n",
    "\n",
    "- `NameError`\n",
    "- `SyntaxError`\n",
    "- `TypeError` ***\n",
    "- `ValueError`"
   ]
  },
  {
   "attachments": {},
   "cell_type": "markdown",
   "metadata": {},
   "source": [
    "## What type of error occurs when a function tries to access a variable that is defined outside of its scope?\n",
    "\n",
    "- `NameError` ***\n",
    "- `SyntaxError`\n",
    "- `TypeError`\n",
    "- `ValueError`\n"
   ]
  }
 ],
 "metadata": {
  "language_info": {
   "name": "python"
  },
  "orig_nbformat": 4
 },
 "nbformat": 4,
 "nbformat_minor": 2
}
