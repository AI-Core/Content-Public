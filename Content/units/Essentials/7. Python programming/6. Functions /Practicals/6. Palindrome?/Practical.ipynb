{
 "cells": [
  {
   "cell_type": "markdown",
   "id": "efc2903f",
   "metadata": {},
   "source": [
    "# Palindrome?"
   ]
  },
  {
   "attachments": {},
   "cell_type": "markdown",
   "id": "096c4062",
   "metadata": {},
   "source": [
    "A palindrome is a word, phrase, number, or other sequence of characters which reads the same backward or forward. This includes capital letters, punctuation, and other special characters.\n",
    "#### 1. Write a function that takes in a string and returns `True` if it is a palindrome and `False` otherwise"
   ]
  },
  {
   "cell_type": "code",
   "execution_count": null,
   "id": "77196240",
   "metadata": {},
   "outputs": [],
   "source": []
  },
  {
   "cell_type": "markdown",
   "id": "f178763b",
   "metadata": {},
   "source": [
    "#### 2. Write a function that takes in a string and returns `True` if it is a palindrome and `False` otherwise. This time, ignore capitalisation and punctuation."
   ]
  },
  {
   "cell_type": "code",
   "execution_count": null,
   "id": "8d5834aa",
   "metadata": {},
   "outputs": [],
   "source": []
  },
  {
   "attachments": {},
   "cell_type": "markdown",
   "id": "0af30b1f",
   "metadata": {},
   "source": [
    "There are several ways to implement this. Some require less code, but some are more efficient; which is yours, and can you think of how to implement the other way?"
   ]
  }
 ],
 "metadata": {
  "kernelspec": {
   "display_name": "content-projects_new",
   "language": "python",
   "name": "python3"
  },
  "language_info": {
   "name": "python",
   "version": "3.10.8 (main, Nov 24 2022, 14:13:03) [GCC 11.2.0]"
  },
  "vscode": {
   "interpreter": {
    "hash": "4b961f8166aad6ccb4cf65d0f9c742ef9c6c23ffe83ad932438cd83ed96aebaf"
   }
  }
 },
 "nbformat": 4,
 "nbformat_minor": 5
}
