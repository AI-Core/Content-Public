{
 "cells": [
  {
   "attachments": {},
   "cell_type": "markdown",
   "metadata": {},
   "source": [
    "# Functions"
   ]
  },
  {
   "attachments": {},
   "cell_type": "markdown",
   "metadata": {},
   "source": [
    "In programming, a function is a block of organized, reusable code that performs a specific task or a set of instructions. Functions provide a way to break down complex problems into smaller, manageable parts, making the code more modular, readable, and maintainable. They play a crucial role in programming by promoting code reuse and improving overall program structure."
   ]
  },
  {
   "attachments": {},
   "cell_type": "markdown",
   "metadata": {},
   "source": [
    "## Motivation\n",
    "\n",
    "Welcome to your journey of learning about functions in programming! Let's explore the key reasons why learning about functions is valuable:\n",
    "- **Modular and Reusable Code**: Functions are like special boxes that hold sets of instructions. When you put instructions inside a function, you can use those instructions again and again in your program. It's like having a handy tool that you can use whenever you need it. Functions help you organize your code, avoid repeating the same instructions, and make your code easier to maintain and grow.\n",
    "\n",
    "- **Abstraction and Code Clarity**: Functions help simplify complicated things in your code by creating a clear name for a set of instructions. This process, known as *abstraction*, allows you to hide unnecessary details and focus on only on the essential idea of what the function does. It's like using a simple phrase instead describing each individual step, making the code easier to understand and work with. When code is clear, it's easier for others (and your future self) to read and use.\n",
    "\n",
    "- **Code Separation and Modifiability**: Functions help you separate and organize your code into smaller parts. It's like having different sections for different tasks. This makes your code easier to understand, find problems, and make changes. It's also like having a team of people working together on different parts of the code. With functions, you can collaborate with others and make your code better and easier to maintain."
   ]
  },
  {
   "attachments": {},
   "cell_type": "markdown",
   "metadata": {},
   "source": [
    "## Function Definition and Syntax\n",
    "\n",
    "When defining functions, certain syntax rules need to be followed. This section will cover the syntax for defining functions, naming conventions, and the use of parentheses and colons.\n",
    "\n",
    "### Syntax for Defining Functions\n",
    "\n",
    "The general syntax for defining a function in Python, is as follows:"
   ]
  },
  {
   "cell_type": "code",
   "execution_count": null,
   "metadata": {},
   "outputs": [],
   "source": [
    "def function_name(parameters):\n",
    "    # Function body\n",
    "    # Code to be executed\n",
    "    return value"
   ]
  },
  {
   "attachments": {},
   "cell_type": "markdown",
   "metadata": {},
   "source": [
    "- The `def` keyword is used to declare a function\n",
    "- `function_name` is the identifier for your function. Choose a descriptive name that reflects the purpose of the function\n",
    "- `parameters` are optional inputs that can be passed to the function\n",
    "- The function body consists of one or more statements that are indented under the function definition\n",
    "- The `return` statement, if used, specifies the value that the function should return when it is called\n",
    "\n",
    "### Use of Parentheses and Colons\n",
    "\n",
    "Parentheses and colons play important roles in function definitions:\n",
    "- **Parentheses**: The parentheses `()` following the function name are used to enclose the function's parameters. Parameters are optional and can be used to pass values into the function.\n",
    "- **Colons**: The colon `:` at the end of the function definition is used to indicate the start of the function body. It is a required part of the syntax and distinguishes the function definition from the code inside the function.\n",
    "\n",
    "Now that we understand how to define a function, let's write our first function. Here's an example:"
   ]
  },
  {
   "cell_type": "code",
   "execution_count": 1,
   "metadata": {},
   "outputs": [],
   "source": [
    "def calculate_rectangle_area(length, width):\n",
    "    area = length * width"
   ]
  },
  {
   "attachments": {},
   "cell_type": "markdown",
   "metadata": {},
   "source": [
    "In this example, we define a function called `calculate_rectangle_area` that takes two parameters: `length` and `width`. Inside the function, we calculate the area of the rectangle by multiplying the `length` and `width`. We store the result in the `area` variable. In a later section we will talk more about how we can see the outputs of any function we define.\n",
    "\n",
    "### Naming Conventions for Functions\n",
    "\n",
    "When naming functions, it is essential to follow certain naming conventions to enhance code readability and maintain consistency. Here are some common conventions:\n",
    "- **Use descriptive names**: Choose names that clearly indicate the purpose or action performed by the function\n",
    "- **Use lowercase letters and underscores**: For readability, it is common to use lowercase letters with underscores to separate words in function names (e.g., `calculate_area`, `print_report`)\n",
    "- **Be consistent**: Follow a consistent naming convention throughout your codebase to maintain clarity and make your code more approachable for other developers\n",
    "\n",
    "Let's look at some examples of good and bad function names following the naming conventions.\n",
    "\n",
    "Good Examples:\n",
    "- `calculate_area`: This function name clearly indicates its purpose: to calculate the area of a shape. It follows the convention of using lowercase letters and underscores to separate words.\n",
    "- `print_report`: This function name describes its action: printing a report. It is easy to understand and follows the convention of using lowercase letters and underscores.\n",
    "- `validate_email`: This function name indicates that it is used for email validation. It follows the convention of using lowercase letters and underscores.\n",
    "\n",
    "Bad Examples: \n",
    "- `fn1`: This function name is not descriptive and does not provide any information about its purpose or action. It does not follow the convention of using descriptive names.\n",
    "- `Function_A`: This function name uses capital letters and underscores, which is not consistent with the convention of using lowercase letters. Additionally, the name does not provide any specific information about the function's purpose.\n",
    "- `a` - This function name is too short and lacks clarity. It does not follow the convention of using descriptive names.\n",
    "\n",
    "Remember, using descriptive and meaningful names for functions enhances code readability and makes it easier for others (including your future self) to understand and maintain the code."
   ]
  },
  {
   "attachments": {},
   "cell_type": "markdown",
   "metadata": {},
   "source": [
    "## Function Calls\n",
    "\n",
    "Once you have defined a function, you can call it to execute the code inside the function's body. \n",
    "\n",
    "> To call a function, you simply write the function name followed by parentheses `()`.\n"
   ]
  },
  {
   "cell_type": "code",
   "execution_count": 2,
   "metadata": {},
   "outputs": [
    {
     "name": "stdout",
     "output_type": "stream",
     "text": [
      "Hello, there!\n"
     ]
    }
   ],
   "source": [
    "# Function definition\n",
    "def greet():\n",
    "    print(\"Hello, there!\")\n",
    "\n",
    "# Function call\n",
    "greet()"
   ]
  },
  {
   "attachments": {},
   "cell_type": "markdown",
   "metadata": {},
   "source": [
    "In this example, the `greet` function is called by writing its name followed by parentheses. The code inside the function's body, in this case, printing `\"Hello, there!\"`, is executed when the function is called.\n",
    "\n",
    "## Function Parameters and Arguments\n",
    "\n",
    "In functions, parameters and arguments play distinct roles. \n",
    "\n",
    "> Parameters are variables defined in the function declaration, while arguments are the actual values passed to a function during its call. \n",
    "\n",
    "### Parameters in Functions\n",
    "\n",
    "Parameters are variables defined in the function's declaration that serve as placeholders for the values that will be passed to the function when it is called. They define the input requirements for the function."
   ]
  },
  {
   "cell_type": "code",
   "execution_count": 3,
   "metadata": {},
   "outputs": [],
   "source": [
    "def greet(name):  # \"name\" is the parameter\n",
    "    print(\"Hello, \" + name + \"!\")"
   ]
  },
  {
   "attachments": {},
   "cell_type": "markdown",
   "metadata": {},
   "source": [
    "In this example, the `greet` function has one parameter named `name`. It specifies that the function expects an argument to be provided when it is called, which will be used to greet the person by name.\n",
    "\n",
    "### Different Types of Arguments\n",
    "\n",
    "Remember, arguments are the actual values passed to a function during its call. There are different types of arguments you can pass:\n",
    "- *Required Arguments*: These are arguments that must be provided in the same order as the function's parameter list. Failure to provide a required argument will result in an error."
   ]
  },
  {
   "cell_type": "code",
   "execution_count": 4,
   "metadata": {},
   "outputs": [],
   "source": [
    "def add_numbers(a, b):  # \"a\" and \"b\" are parameters\n",
    "    return a + b\n",
    "\n",
    "sum_result = add_numbers(3, 4)  # 3 and 4 are the arguments"
   ]
  },
  {
   "cell_type": "code",
   "execution_count": 5,
   "metadata": {},
   "outputs": [
    {
     "ename": "TypeError",
     "evalue": "divide_numbers() missing 1 required positional argument: 'b'",
     "output_type": "error",
     "traceback": [
      "\u001b[0;31m---------------------------------------------------------------------------\u001b[0m",
      "\u001b[0;31mTypeError\u001b[0m                                 Traceback (most recent call last)",
      "\u001b[1;32m/Users/maya/Desktop/AiCore Work/Content-Projects/Content/units/Essentials/7. Python programming/6. Functions and function calls/Notebook.ipynb Cell 15\u001b[0m in \u001b[0;36m<cell line: 4>\u001b[0;34m()\u001b[0m\n\u001b[1;32m      <a href='vscode-notebook-cell:/Users/maya/Desktop/AiCore%20Work/Content-Projects/Content/units/Essentials/7.%20Python%20programming/6.%20Functions%20and%20function%20calls/Notebook.ipynb#X22sZmlsZQ%3D%3D?line=0'>1</a>\u001b[0m \u001b[39mdef\u001b[39;00m \u001b[39mdivide_numbers\u001b[39m(a, b):\n\u001b[1;32m      <a href='vscode-notebook-cell:/Users/maya/Desktop/AiCore%20Work/Content-Projects/Content/units/Essentials/7.%20Python%20programming/6.%20Functions%20and%20function%20calls/Notebook.ipynb#X22sZmlsZQ%3D%3D?line=1'>2</a>\u001b[0m     \u001b[39mreturn\u001b[39;00m a \u001b[39m/\u001b[39m b\n\u001b[0;32m----> <a href='vscode-notebook-cell:/Users/maya/Desktop/AiCore%20Work/Content-Projects/Content/units/Essentials/7.%20Python%20programming/6.%20Functions%20and%20function%20calls/Notebook.ipynb#X22sZmlsZQ%3D%3D?line=3'>4</a>\u001b[0m result \u001b[39m=\u001b[39m divide_numbers(\u001b[39m10\u001b[39;49m)\n",
      "\u001b[0;31mTypeError\u001b[0m: divide_numbers() missing 1 required positional argument: 'b'"
     ]
    }
   ],
   "source": [
    "def divide_numbers(a, b):\n",
    "    return a / b\n",
    "\n",
    "result = divide_numbers(10)  # Error: missing required argument 'b'"
   ]
  },
  {
   "attachments": {},
   "cell_type": "markdown",
   "metadata": {},
   "source": [
    "In this example, the `divide_numbers` function expects two arguments: `a` and `b`. The function divides `a` by `b` and returns the `result`. However, when calling the function, we only provide one argument (`10`) instead of the required two. As a result, the function call raises a `TypeError` because the required argument `b` is missing.\n",
    "\n",
    "To fix this error, we need to provide both required arguments when calling the function. For example:"
   ]
  },
  {
   "cell_type": "code",
   "execution_count": 6,
   "metadata": {},
   "outputs": [
    {
     "name": "stdout",
     "output_type": "stream",
     "text": [
      "The result is: 5.0\n"
     ]
    }
   ],
   "source": [
    "result = divide_numbers(10, 2)\n",
    "print(\"The result is:\", result)"
   ]
  },
  {
   "attachments": {},
   "cell_type": "markdown",
   "metadata": {},
   "source": [
    "In this corrected example, we provide both `10` and `2` as arguments when calling the `divide_numbers` function. The function executes successfully and returns the correct result, which is then printed.\n",
    "\n",
    "- *Optional Arguments*: These arguments are not mandatory and have default values assigned to them in the function's parameter list. They provide flexibility in function calls."
   ]
  },
  {
   "cell_type": "code",
   "execution_count": 8,
   "metadata": {},
   "outputs": [
    {
     "name": "stdout",
     "output_type": "stream",
     "text": [
      "Hello, Alice!\n",
      "Hi, Bob!\n"
     ]
    }
   ],
   "source": [
    "def greet(name, greeting=\"Hello\"):  # \"name\" and \"greeting\" are parameters\n",
    "    print(greeting + \", \" + name + \"!\")\n",
    "\n",
    "greet(\"Alice\")  # Uses the default greeting \"Hello\"\n",
    "greet(\"Bob\", \"Hi\")  # Overrides the default greeting with \"Hi\""
   ]
  },
  {
   "attachments": {},
   "cell_type": "markdown",
   "metadata": {},
   "source": [
    "> So remember, when calling a function, you pass arguments inside the parentheses based on the function's parameter list. The order of the arguments should match the order of the parameters."
   ]
  },
  {
   "attachments": {},
   "cell_type": "markdown",
   "metadata": {},
   "source": [
    "## Function Return Statements\n",
    "\n",
    "The primary purpose of a `return` statement is to terminate the execution of a function and send a value (or values) back to the caller. It allows functions to produce output or results that can be used in further computations or assigned to variables.\n",
    "\n",
    "To return a value from a function, you use the `return` keyword followed by the value (or expression) you want to send back. Once a `return` statement is encountered, the function immediately exits, and the returned value is passed to the caller."
   ]
  },
  {
   "cell_type": "code",
   "execution_count": 11,
   "metadata": {},
   "outputs": [
    {
     "name": "stdout",
     "output_type": "stream",
     "text": [
      "The sum is: 7\n"
     ]
    }
   ],
   "source": [
    "def add_numbers(a, b):\n",
    "    return a + b\n",
    "\n",
    "result = add_numbers(3, 4)\n",
    "print(\"The sum is:\", result)"
   ]
  },
  {
   "attachments": {},
   "cell_type": "markdown",
   "metadata": {},
   "source": [
    "In this example, the `add_numbers` function returns the sum of two numbers. The return statement return `a + b` sends the sum back to the caller, which assigns the returned value to the `result` variable.\n",
    "\n",
    "### Handling Multiple Return Values\n",
    "\n",
    "Functions in Python can also return multiple values simultaneously. This is typically achieved by returning a tuple, which is a sequence of values enclosed in parentheses. The caller can then unpack the returned tuple into individual variables."
   ]
  },
  {
   "cell_type": "code",
   "execution_count": 12,
   "metadata": {},
   "outputs": [
    {
     "name": "stdout",
     "output_type": "stream",
     "text": [
      "Name: Alice\n",
      "Age: 25\n"
     ]
    }
   ],
   "source": [
    "def get_name_and_age():\n",
    "    name = \"Alice\"\n",
    "    age = 25\n",
    "    return name, age\n",
    "\n",
    "name, age = get_name_and_age()\n",
    "print(\"Name:\", name)\n",
    "print(\"Age:\", age)"
   ]
  },
  {
   "attachments": {},
   "cell_type": "markdown",
   "metadata": {},
   "source": [
    "In this example, the `get_name_and_age` function returns both the `name` and `age`. By using the syntax name, `age = get_name_and_age()`, the returned tuple is unpacked, and the values are assigned to the respective variables.\n",
    "\n",
    "> Return statements allow functions to produce results and share data with the calling code. By understanding how to use return statements, return values from functions, and handle multiple return values, you can effectively utilize functions to perform computations and retrieve meaningful results."
   ]
  },
  {
   "attachments": {},
   "cell_type": "markdown",
   "metadata": {},
   "source": [
    "## Scope and Variable Visibility\n",
    "\n",
    "In programming, scope refers to the region of a program where a variable is defined and can be accessed. Understanding scope is essential for determining the visibility and accessibility of variables.\n",
    "\n",
    "### Local Scope \n",
    "\n",
    "Local scope refers to the region or context within a program where a variable is defined and accessible. Variables that are defined within a specific block of code, such as a function, have local scope and are limited to that block. They cannot be accessed from outside that block or in other parts of the program."
   ]
  },
  {
   "cell_type": "code",
   "execution_count": 14,
   "metadata": {},
   "outputs": [
    {
     "name": "stdout",
     "output_type": "stream",
     "text": [
      "10\n"
     ]
    },
    {
     "ename": "NameError",
     "evalue": "name 'local_var' is not defined",
     "output_type": "error",
     "traceback": [
      "\u001b[0;31m---------------------------------------------------------------------------\u001b[0m",
      "\u001b[0;31mNameError\u001b[0m                                 Traceback (most recent call last)",
      "\u001b[1;32m/Users/maya/Desktop/AiCore Work/Content-Projects/Content/units/Essentials/7. Python programming/6. Functions and function calls/Notebook.ipynb Cell 27\u001b[0m in \u001b[0;36m<cell line: 6>\u001b[0;34m()\u001b[0m\n\u001b[1;32m      <a href='vscode-notebook-cell:/Users/maya/Desktop/AiCore%20Work/Content-Projects/Content/units/Essentials/7.%20Python%20programming/6.%20Functions%20and%20function%20calls/Notebook.ipynb#X43sZmlsZQ%3D%3D?line=2'>3</a>\u001b[0m     \u001b[39mprint\u001b[39m(local_var)\n\u001b[1;32m      <a href='vscode-notebook-cell:/Users/maya/Desktop/AiCore%20Work/Content-Projects/Content/units/Essentials/7.%20Python%20programming/6.%20Functions%20and%20function%20calls/Notebook.ipynb#X43sZmlsZQ%3D%3D?line=4'>5</a>\u001b[0m my_function()\n\u001b[0;32m----> <a href='vscode-notebook-cell:/Users/maya/Desktop/AiCore%20Work/Content-Projects/Content/units/Essentials/7.%20Python%20programming/6.%20Functions%20and%20function%20calls/Notebook.ipynb#X43sZmlsZQ%3D%3D?line=5'>6</a>\u001b[0m \u001b[39mprint\u001b[39m(local_var)\n",
      "\u001b[0;31mNameError\u001b[0m: name 'local_var' is not defined"
     ]
    }
   ],
   "source": [
    "def my_function():\n",
    "    local_var = 10  # Local variable\n",
    "    print(local_var)\n",
    "\n",
    "my_function()\n",
    "print(local_var)  # Error: local_var is not defined outside the function"
   ]
  },
  {
   "attachments": {},
   "cell_type": "markdown",
   "metadata": {},
   "source": [
    "In this example, the `local_var` is a local variable defined within the `my_function` function. It is accessible only within the function's scope. Trying to access `local_var outside` the function will result in an error because it is not defined in the global scope.\n",
    "\n",
    "> Local scope provides isolation for variables, meaning that variables with the same name can be used independently in different functions without conflict. Each function creates its own local scope, allowing you to reuse variable names without causing conflicts or interference between functions."
   ]
  },
  {
   "cell_type": "code",
   "execution_count": 15,
   "metadata": {},
   "outputs": [
    {
     "name": "stdout",
     "output_type": "stream",
     "text": [
      "10\n",
      "20\n"
     ]
    }
   ],
   "source": [
    "def func1():\n",
    "    x = 10\n",
    "    print(x)\n",
    "\n",
    "def func2():\n",
    "    x = 20\n",
    "    print(x)\n",
    "\n",
    "func1()  # Outputs: 10\n",
    "func2()  # Outputs: 20"
   ]
  },
  {
   "attachments": {},
   "cell_type": "markdown",
   "metadata": {},
   "source": [
    "In this example, both `func1` and `func2` define a variable named `x` within their local scope. Each function can use and manipulate its own `x` variable without affecting the other. This demonstrates the isolation and reusability of variables within local scope.\n",
    "\n",
    "### Nested Functions\n",
    "\n",
    "Nested functions refer to the concept of defining one function inside another function. These nested functions have access to variables from their enclosing (outer) function, allowing for increased modularity and code organization. "
   ]
  },
  {
   "cell_type": "code",
   "execution_count": 16,
   "metadata": {},
   "outputs": [
    {
     "name": "stdout",
     "output_type": "stream",
     "text": [
      "I am inner\n",
      "I am outer\n"
     ]
    }
   ],
   "source": [
    "def outer_function():\n",
    "    outer_variable = \"I am outer\"\n",
    "\n",
    "    def inner_function():\n",
    "        inner_variable = \"I am inner\"\n",
    "        print(inner_variable)\n",
    "        print(outer_variable)  # Can access outer_variable defined in the outer function\n",
    "\n",
    "    inner_function()\n",
    "\n",
    "outer_function()"
   ]
  },
  {
   "attachments": {},
   "cell_type": "markdown",
   "metadata": {},
   "source": [
    "In this example, the `outer_function` defines the `outer_variable`. Inside the `outer_function`, there is another function called `inner_function`. The `inner_function` has access to both its own local variable `inner_variable` and the `outer_variable` defined in the outer function. However, neither `inner_variable` nor `outer_variable` is accessible outside their respective functions."
   ]
  },
  {
   "attachments": {},
   "cell_type": "markdown",
   "metadata": {},
   "source": [
    "### Global Scope\n",
    "\n",
    "Global scope refers to the region outside of any function or block where variables are defined. Variables declared outside of functions, at the top level of a program, have global scope and can be accessed throughout the program."
   ]
  },
  {
   "cell_type": "code",
   "execution_count": 17,
   "metadata": {},
   "outputs": [
    {
     "name": "stdout",
     "output_type": "stream",
     "text": [
      "Inside the function: I am a global variable\n",
      "Outside the function: I am a global variable\n"
     ]
    }
   ],
   "source": [
    "global_var = \"I am a global variable\"\n",
    "\n",
    "def print_global():\n",
    "    print(\"Inside the function:\", global_var)\n",
    "\n",
    "print_global()\n",
    "print(\"Outside the function:\", global_var)"
   ]
  },
  {
   "attachments": {},
   "cell_type": "markdown",
   "metadata": {},
   "source": [
    "In this example, the variable `global_var` is defined outside of any function, making it a global variable. It can be accessed both inside and outside functions, allowing you to use its value in various parts of the program.\n",
    "\n",
    "> Remember, to access a variable, you need to consider its scope. Variables defined in a local scope are accessible only within the same function, while variables defined in the global scope can be accessed from any part of the program.\n",
    "\n",
    "## `*args` and `**kwargs`\n",
    "\n",
    "In Python, `*args` and `**kwargs` are special syntaxes used to pass a variable number of arguments to a function. They allow functions to handle an arbitrary number of positional arguments (`*args`) and keyword arguments (`**kwargs`).\n",
    "\n",
    "### `*arg`s: Variable Length Positional Arguments\n",
    "\n",
    "The `args` syntax allows a function to accept a variable number of positional arguments. The name `args` is a convention, but you can use any valid variable name preceded by an asterisk."
   ]
  },
  {
   "cell_type": "code",
   "execution_count": 18,
   "metadata": {},
   "outputs": [
    {
     "name": "stdout",
     "output_type": "stream",
     "text": [
      "1 2 3\n"
     ]
    }
   ],
   "source": [
    "def my_function(*args):\n",
    "    print(*args)\n",
    "\n",
    "my_function(1, 2, 3)  # Passing multiple positional arguments"
   ]
  },
  {
   "attachments": {},
   "cell_type": "markdown",
   "metadata": {},
   "source": [
    "In this example, the `my_function` accepts any number of positional arguments. \n",
    "> The arguments are collected into a tuple named `args`.\n",
    "\n",
    "### `**kwarg`s: Variable Length Keyword Arguments\n",
    "\n",
    "The `kwargs` syntax allows a function to accept a variable number of keyword arguments. Similar to `*args`, the name `kwargs` is a convention, and you can use any valid variable name preceded by two asterisks."
   ]
  },
  {
   "cell_type": "code",
   "execution_count": 19,
   "metadata": {},
   "outputs": [
    {
     "name": "stdout",
     "output_type": "stream",
     "text": [
      "name Alice\n",
      "age 25\n"
     ]
    }
   ],
   "source": [
    "def my_function(**kwargs):\n",
    "    for key, value in kwargs.items():\n",
    "        print(key, value)\n",
    "\n",
    "my_function(name=\"Alice\", age=25)  # Passing multiple keyword arguments"
   ]
  },
  {
   "attachments": {},
   "cell_type": "markdown",
   "metadata": {},
   "source": [
    "In this example, the `my_function` accepts any number of keyword arguments. \n",
    "> The arguments are collected into a dictionary named `kwargs`. Within the function, you can access the key-value pairs in the `kwargs` dictionary and process them as needed.\n",
    "\n",
    "### Using `*args` and `**kwargs` together\n",
    "\n",
    "You can use `*args` and `**kwargs` together in a function definition to accept both positional and keyword arguments."
   ]
  },
  {
   "cell_type": "code",
   "execution_count": 20,
   "metadata": {},
   "outputs": [
    {
     "name": "stdout",
     "output_type": "stream",
     "text": [
      "1 2\n",
      "('name', 'Alice') ('age', 25)\n"
     ]
    }
   ],
   "source": [
    "def my_function(*args, **kwargs):\n",
    "    print(*args)\n",
    "    print(*kwargs.items())\n",
    "\n",
    "my_function(1, 2, name=\"Alice\", age=25)  # Passing both positional and keyword arguments"
   ]
  },
  {
   "attachments": {},
   "cell_type": "markdown",
   "metadata": {},
   "source": [
    "In this example, the `my_function` can accept both positional arguments (`1`, `2`) as part of `*arg`s and keyword arguments (`name=\"Alice\"`, `age=25`) as part of `**kwargs`. You can access and process both types of arguments separately within the function.\n",
    "\n",
    "### Passing `*arg`s and `kwargs` to functions\n",
    "\n",
    "To pass multiple arguments to a function using `*args` and `**kwargs`, you can use the asterisk or double asterisks when calling the function."
   ]
  },
  {
   "cell_type": "code",
   "execution_count": 21,
   "metadata": {},
   "outputs": [
    {
     "name": "stdout",
     "output_type": "stream",
     "text": [
      "1 2\n",
      "('name', 'Alice') ('age', 25)\n"
     ]
    }
   ],
   "source": [
    "def my_function(arg1, arg2, **kwargs):\n",
    "    print(arg1, arg2)\n",
    "    print(*kwargs.items())\n",
    "\n",
    "my_args = (1, 2)\n",
    "my_kwargs = {\"name\": \"Alice\", \"age\": 25}\n",
    "my_function(*my_args, **my_kwargs)  # Unpacking the arguments using * and **"
   ]
  },
  {
   "attachments": {},
   "cell_type": "markdown",
   "metadata": {},
   "source": [
    "In this example, the variables `my_args` and `my_kwargs` hold the arguments to be passed. The `*` operator is used to unpack the values in `my_args` as positional arguments, while the `**` operator is used to unpack the key-value pairs in `my_kwargs` as keyword arguments."
   ]
  },
  {
   "attachments": {},
   "cell_type": "markdown",
   "metadata": {},
   "source": [
    "## Built-in Functions\n",
    "\n",
    "Built-in functions are predefined functions that are always available for you to use in Python programming. These functions are part of Python's syntax, so you don't need to import any modules to use them. You can read a full list of the built-in functions and their uses [here](https://docs.python.org/3/library/functions.html), and some examples are given below:\n",
    "\n",
    "- `len()` : Returns the length of a variable, e.g. number of elements in a list, or number of characters in a string\n",
    "- `type()`: Returns the type of an object, e.g. for a list, it will return `list`\n",
    "- `map()`: Applies a function to every item in an iterable e.g. `map(my_function, my_list)` will call `my_function` on every item in `my_list`, and will return a map object containing all the outputs, which can then be converted to a list:\n",
    "\n",
    "\n"
   ]
  },
  {
   "cell_type": "code",
   "execution_count": 6,
   "metadata": {},
   "outputs": [
    {
     "name": "stdout",
     "output_type": "stream",
     "text": [
      "'squared list' is variable of type <class 'map'>\n",
      "<map object at 0x1203270a0>\n",
      "'squared list' is now a variable of type <class 'list'>\n",
      "[1, 4, 9]\n"
     ]
    }
   ],
   "source": [
    "# An example of using the map() function\n",
    "def square_number(n):\n",
    "    return n ** 2\n",
    "\n",
    "my_list = [ 1, 2, 3]\n",
    "squared_list = map(square_number, my_list)\n",
    "print(f\"'squared list' is variable of type {type(squared_list)}\")\n",
    "print(squared_list)\n",
    "squared_list=list(squared_list)\n",
    "print(f\"'squared list' is now a variable of type {type(squared_list)}\")\n",
    "print(squared_list)"
   ]
  },
  {
   "attachments": {},
   "cell_type": "markdown",
   "metadata": {},
   "source": [
    "The above example defines a function called `square_number` which returns the square of the input, and uses the built-in `map()` function to apply it to each element in `my_list`. By default, `map` returns a `map` object, so to print the answer we must first convert the variable `squared_list`  to a `list`."
   ]
  },
  {
   "attachments": {},
   "cell_type": "markdown",
   "metadata": {},
   "source": [
    "## Recursive Functions\n",
    "\n",
    "Recursive functions follow the principle of recursion, which involves solving a problem by breaking it down into smaller, similar subproblems until a base case is reached. Recursive functions typically consist of two components:\n",
    "- **Base Case**: A condition that specifies when the recursion should stop. It represents the simplest form of the problem that can be solved directly.\n",
    "- **Recursive Case**: The part of the function that invokes itself, solving a smaller version of the problem and making progress towards the base case\n",
    "\n",
    "### Examples of Recursive Functions\n",
    "\n",
    "Recursive functions can be applied to various problems, such as factorial calculation, Fibonacci sequence generation, and traversing data structures like trees. Here are two examples to illustrate the concept:\n",
    "\n",
    "#### Factorial Calculation"
   ]
  },
  {
   "cell_type": "code",
   "execution_count": 22,
   "metadata": {},
   "outputs": [
    {
     "name": "stdout",
     "output_type": "stream",
     "text": [
      "120\n"
     ]
    }
   ],
   "source": [
    "def factorial(n):\n",
    "    if n == 0:\n",
    "        return 1\n",
    "    else:\n",
    "        return n * factorial(n - 1)\n",
    "\n",
    "result = factorial(5)\n",
    "print(result)  # Outputs: 120"
   ]
  },
  {
   "attachments": {},
   "cell_type": "markdown",
   "metadata": {},
   "source": [
    "The factorial function calculates the factorial of a number `n` using recursion. The factorial of a non-negative integer `n` is the product of all positive integers less than or equal to `n`.\n",
    "\n",
    "Here's a step-by-step explanation of how the factorial function works:\n",
    "- The function takes an argument `n`, which represents the number for which we want to calculate the factorial\n",
    "- The function begins with a base case:\n",
    "  - If n is `0`, we have reached the base case. In this case, we simply return `1` since the factorial of 0 is defined as 1\n",
    "- If the base case is not met (i.e., `n` is not `0`), the function proceeds to the recursive case\n",
    "- In the recursive case:\n",
    "  - The function calls itself with the argument `n - 1`. This calculates the factorial of `n - 1`.\n",
    "  - The return statement multiplies the result of the recursive call by `n`, the current value\n",
    "- The recursive calls continue until the base case is reached (when `n` becomes `0`). At that point, the function starts unwinding the recursion by returning the factorial values in reverse order.\n",
    "\n",
    "In the example provided (`result = factorial(5)`), we are calculating the factorial of `5`. The recursive calls unfold as follows:\n",
    "- `factorial(5)` calls `factorial(4)`\n",
    "- `factorial(4)` calls `factorial(3)`\n",
    "- `factorial(3)` calls `factorial(2)`\n",
    "- `factorial(2)` calls `factorial(1)`\n",
    "- `factorial(1)` calls `factorial(0)`\n",
    "\n",
    "At this point, the base case is reached. Since `factorial(0`) returns `1`, the recursion starts unwinding:\n",
    "- `factorial(1)` returns the result of `factorial(0) * 1`, which is 1\n",
    "- `factorial(2)` returns the result of `factorial(1) * 2`, which is 2\n",
    "- `factorial(3)` returns the result of `factorial(2) * 3`, which is 6\n",
    "- `factorial(4)` returns the result of `factorial(3) * 4`, which is 24\n",
    "- `factorial(5)` returns the result of `factorial(4) * 5`, which is 120\n",
    "\n",
    "Finally, the calculated value, `120`, is assigned to the result variable and printed (`print(result)`).\n",
    "\n",
    "#### Fibonacci Sequence"
   ]
  },
  {
   "cell_type": "code",
   "execution_count": 23,
   "metadata": {},
   "outputs": [
    {
     "name": "stdout",
     "output_type": "stream",
     "text": [
      "8\n"
     ]
    }
   ],
   "source": [
    "def fibonacci(n):\n",
    "    if n <= 1:\n",
    "        return n\n",
    "    else:\n",
    "        return fibonacci(n - 1) + fibonacci(n - 2)\n",
    "\n",
    "result = fibonacci(6)\n",
    "print(result)  # Outputs: 8"
   ]
  },
  {
   "attachments": {},
   "cell_type": "markdown",
   "metadata": {},
   "source": [
    "The `fibonacci` function calculates the `n`th Fibonacci number using recursion. The Fibonacci sequence is a series of numbers in which each number (after the first two) is the sum of the two preceding ones. In this case, we are starting the sequence with `0` and `1`.\n",
    "\n",
    "Here's a step-by-step explanation of how the `fibonacci` function works:\n",
    "- The function takes an argument `n`, which represents the position of the desired Fibonacci number in the sequence.\n",
    "- The function begins with a base case:\n",
    "  - If `n` is less than or equal to `1`, we have reached the base case. In this case, we simply return `n` itself. This covers the first two Fibonacci numbers, `0` and `1`, since they are equal to their positions in the sequence.\n",
    "  - If the base case is not met (i.e., `n` is greater than `1`), the function proceeds to the recursive case\n",
    "- In the recursive case:\n",
    "  - The function calls itself twice:\n",
    "    - `fibonacci(n - 1)`: This calculates the Fibonacci number at position `n - 1`\n",
    "    - `fibonacci(n - 2)`: This calculates the Fibonacci number at position `n - 2`\n",
    "- The `return` statement combines the results of the recursive calls by adding them together\n",
    "- The recursive calls continue until the base case is reached (when `n` becomes `0` or `1`). At that point, the function starts unwinding the recursion by returning the Fibonacci numbers in reverse order.\n",
    "\n",
    "\n",
    "In the example provided (`result = fibonacci(6))`, we are calculating the 6th Fibonacci number. The recursive calls unfold as follows:\n",
    "- `fibonacci(6)` calls `fibonacci(5)` and `fibonacci(4)`\n",
    "- `fibonacci(5)` calls `fibonacci(4)` and `fibonacci(3)`\n",
    "- `fibonacci(4)` calls `fibonacci(3)` and `fibonacci(2)`\n",
    "- `fibonacci(3)` calls `fibonacci(2)` and `fibonacci(1)`\n",
    "- `fibonacci(2)` returns `1`\n",
    "- `fibonacci(1)` returns `1`\n",
    "- `fibonacci(3)` returns the sum of the two previous results: 1 + 1 = 2\n",
    "- `fibonacci(4)` returns the sum of the two previous results: 1 + 2 = 3\n",
    "- `fibonacci(3)` has already been computed, so it returns its cached result: 2\n",
    "- `fibonacci(5)` returns the sum of the two previous results: 2 + 3 = 5\n",
    "- `fibonacci(6)` has already been computed, so it returns its cached result: 8.\n",
    "\n",
    "Finally, the calculated value, `8`, is assigned to the `result` variable and printed (`print(result)`).\n",
    "\n",
    "### Precautions and Avoiding Infinite Recursion\n",
    "\n",
    "Recursive functions require careful consideration to avoid infinite recursion. Here are some precautions to take:\n",
    "- **Ensure a base case**: Every recursive function must have a base case that will eventually be reached, breaking the recursion\n",
    "- **Ensure progress towards the base case**: Recursive calls should move the problem closer to the base case with each iteration. Otherwise, the function may enter an infinite loop.\n",
    "- **Test with small inputs**: Before applying recursive functions to large inputs, test them with small inputs to verify correctness and efficiency\n",
    "\n",
    "It's important to understand the nature of the problem and design the recursive function accordingly to ensure it terminates and provides the desired results."
   ]
  },
  {
   "attachments": {},
   "cell_type": "markdown",
   "metadata": {},
   "source": [
    "## Function Best Practices\n",
    "\n",
    "Writing functions that follow best practices is essential for producing clean, maintainable, and reusable code. This section outlines some key best practices to keep in mind when working with functions.\n",
    "\n",
    "### Writing Modular and Reusable Functions\n",
    "\n",
    "- **Aim for Single Responsibility**: Functions should have a clear and focused purpose. They should ideally perform a single task or solve a specific problem. This improves readability and makes functions easier to test and reuse.\n",
    "- **Encapsulate Repeated Logic**: If you find yourself repeating a certain piece of code in multiple places, consider encapsulating it in a separate function. This promotes code reuse and avoids redundancy.\n",
    "- **Use Descriptive Names**: Choose meaningful and descriptive names for your functions. This helps to convey their purpose and makes the code more readable.\n",
    "\n",
    "### Keeping Functions Concise and Focused\n",
    "\n",
    "- **Avoid Excessive Length**: Long functions can be challenging to understand and maintain. Strive to keep functions concise by breaking them down into smaller, more manageable parts.\n",
    "- **Single Level of Abstraction**: Functions work best when they focus on either *high-level logic* or *low-level implementation details*, but not both at once.\n",
    "    - **High-Level logic**: This means focusing on *what* needs to be done in a broad way without getting into too many details. For example, a function named `process_order` may outline the main steps of placing an order: checking the customer's details, seeing if items are in stock, and finalising the order. This is the \"big picture\" that helps you understand the general flow.\n",
    "    - **Low-Level Implementation Details**: This means focusing on *how* each step is done in a detailed way. For example, a `check_customer_details` function might focus on specifics like verifying a customer's name is valid and checking if their address is complete. This function dives into the fine details of a smaller task rather than the whole process.\n",
    "\n",
    "### Avoiding Side Effects within Functions\n",
    "\n",
    "- **Minimize External Interactions**: Functions should primarily operate on their inputs and produce a return value. Minimize direct interactions with global variables or external resources (such as file I/O or network operations) within functions. This helps isolate and test the function's behavior.\n",
    "- **Avoid Mutable Parameters**: Modifying mutable parameters (e.g., lists, dictionaries) within a function can lead to unexpected side effects. If necessary, consider creating local copies of mutable data structures before modifying them."
   ]
  },
  {
   "attachments": {},
   "cell_type": "markdown",
   "metadata": {},
   "source": [
    "## Common Functions Errors and Troubleshooting\n",
    "\n",
    "### `SyntaxError`\n",
    "\n",
    "Syntax errors occur when the syntax of a function declaration or its statements is incorrect."
   ]
  },
  {
   "cell_type": "code",
   "execution_count": 24,
   "metadata": {},
   "outputs": [
    {
     "ename": "SyntaxError",
     "evalue": "invalid syntax (3339891088.py, line 1)",
     "output_type": "error",
     "traceback": [
      "\u001b[0;36m  Input \u001b[0;32mIn [24]\u001b[0;36m\u001b[0m\n\u001b[0;31m    def my_function:\u001b[0m\n\u001b[0m                   ^\u001b[0m\n\u001b[0;31mSyntaxError\u001b[0m\u001b[0;31m:\u001b[0m invalid syntax\n"
     ]
    }
   ],
   "source": [
    "def my_function:\n",
    "    print(\"Hello, world!\")"
   ]
  },
  {
   "attachments": {},
   "cell_type": "markdown",
   "metadata": {},
   "source": [
    "Troubleshooting Tips\n",
    "- Check for missing parentheses, colons, commas, or other required syntax elements:"
   ]
  },
  {
   "cell_type": "code",
   "execution_count": 25,
   "metadata": {},
   "outputs": [],
   "source": [
    "def my_function():\n",
    "    print(\"Hello, world!\")"
   ]
  },
  {
   "attachments": {},
   "cell_type": "markdown",
   "metadata": {},
   "source": [
    "- Verify that the function name is spelled correctly and follows the naming conventions\n",
    "\n",
    "### `NameError`\n",
    "\n",
    "`NameError`s occur when you use a variable or function name that is not defined or out of scope."
   ]
  },
  {
   "cell_type": "code",
   "execution_count": 26,
   "metadata": {},
   "outputs": [],
   "source": [
    "def my_function():\n",
    "    print(my_variable)"
   ]
  },
  {
   "attachments": {},
   "cell_type": "markdown",
   "metadata": {},
   "source": [
    "Troubleshooting Tips\n",
    "- Double-check the spelling and capitalization of the variable or function name\n",
    "- Ensure that the variable or function is defined before its usage:"
   ]
  },
  {
   "cell_type": "code",
   "execution_count": 27,
   "metadata": {},
   "outputs": [],
   "source": [
    "def my_function():\n",
    "    my_variable = \"Hello, world!\"\n",
    "    print(my_variable)"
   ]
  },
  {
   "attachments": {},
   "cell_type": "markdown",
   "metadata": {},
   "source": [
    "### `TypeError`\n",
    "\n",
    "`TypeError`s occur when you perform an operation on incompatible data types or pass incorrect arguments to a function or when a function is called with an incorrect number of arguments. Let's first look at an example of operations with incompatible data types:"
   ]
  },
  {
   "cell_type": "code",
   "execution_count": 31,
   "metadata": {},
   "outputs": [
    {
     "ename": "TypeError",
     "evalue": "unsupported operand type(s) for /: 'int' and 'str'",
     "output_type": "error",
     "traceback": [
      "\u001b[0;31m---------------------------------------------------------------------------\u001b[0m",
      "\u001b[0;31mTypeError\u001b[0m                                 Traceback (most recent call last)",
      "\u001b[1;32m/Users/maya/Desktop/AiCore Work/Content-Projects/Content/units/Essentials/7. Python programming/6. Functions and function calls/Notebook.ipynb Cell 59\u001b[0m in \u001b[0;36m<cell line: 4>\u001b[0;34m()\u001b[0m\n\u001b[1;32m      <a href='vscode-notebook-cell:/Users/maya/Desktop/AiCore%20Work/Content-Projects/Content/units/Essentials/7.%20Python%20programming/6.%20Functions%20and%20function%20calls/Notebook.ipynb#Y123sZmlsZQ%3D%3D?line=0'>1</a>\u001b[0m \u001b[39mdef\u001b[39;00m \u001b[39mdivide_numbers\u001b[39m(a, b):\n\u001b[1;32m      <a href='vscode-notebook-cell:/Users/maya/Desktop/AiCore%20Work/Content-Projects/Content/units/Essentials/7.%20Python%20programming/6.%20Functions%20and%20function%20calls/Notebook.ipynb#Y123sZmlsZQ%3D%3D?line=1'>2</a>\u001b[0m     \u001b[39mreturn\u001b[39;00m a \u001b[39m/\u001b[39m b\n\u001b[0;32m----> <a href='vscode-notebook-cell:/Users/maya/Desktop/AiCore%20Work/Content-Projects/Content/units/Essentials/7.%20Python%20programming/6.%20Functions%20and%20function%20calls/Notebook.ipynb#Y123sZmlsZQ%3D%3D?line=3'>4</a>\u001b[0m result \u001b[39m=\u001b[39m divide_numbers(\u001b[39m10\u001b[39;49m, \u001b[39m\"\u001b[39;49m\u001b[39m5\u001b[39;49m\u001b[39m\"\u001b[39;49m)\n",
      "\u001b[1;32m/Users/maya/Desktop/AiCore Work/Content-Projects/Content/units/Essentials/7. Python programming/6. Functions and function calls/Notebook.ipynb Cell 59\u001b[0m in \u001b[0;36mdivide_numbers\u001b[0;34m(a, b)\u001b[0m\n\u001b[1;32m      <a href='vscode-notebook-cell:/Users/maya/Desktop/AiCore%20Work/Content-Projects/Content/units/Essentials/7.%20Python%20programming/6.%20Functions%20and%20function%20calls/Notebook.ipynb#Y123sZmlsZQ%3D%3D?line=0'>1</a>\u001b[0m \u001b[39mdef\u001b[39;00m \u001b[39mdivide_numbers\u001b[39m(a, b):\n\u001b[0;32m----> <a href='vscode-notebook-cell:/Users/maya/Desktop/AiCore%20Work/Content-Projects/Content/units/Essentials/7.%20Python%20programming/6.%20Functions%20and%20function%20calls/Notebook.ipynb#Y123sZmlsZQ%3D%3D?line=1'>2</a>\u001b[0m     \u001b[39mreturn\u001b[39;00m a \u001b[39m/\u001b[39;49m b\n",
      "\u001b[0;31mTypeError\u001b[0m: unsupported operand type(s) for /: 'int' and 'str'"
     ]
    }
   ],
   "source": [
    "def divide_numbers(a, b):\n",
    "    return a / b\n",
    "\n",
    "result = divide_numbers(10, \"5\")\n"
   ]
  },
  {
   "attachments": {},
   "cell_type": "markdown",
   "metadata": {},
   "source": [
    "Troubleshooting Tips\n",
    "- Verify that the arguments passed to the function are of the correct data types and in the expected order:"
   ]
  },
  {
   "cell_type": "code",
   "execution_count": 32,
   "metadata": {},
   "outputs": [],
   "source": [
    "def divide_numbers(a, b):\n",
    "    return a / b\n",
    "\n",
    "result = divide_numbers(10, 5)"
   ]
  },
  {
   "attachments": {},
   "cell_type": "markdown",
   "metadata": {},
   "source": [
    "And now let's look at an example of calling a function with an incorrect number of arguments:"
   ]
  },
  {
   "cell_type": "code",
   "execution_count": 1,
   "metadata": {},
   "outputs": [
    {
     "ename": "TypeError",
     "evalue": "divide_numbers() missing 1 required positional argument: 'b'",
     "output_type": "error",
     "traceback": [
      "\u001b[0;31m---------------------------------------------------------------------------\u001b[0m",
      "\u001b[0;31mTypeError\u001b[0m                                 Traceback (most recent call last)",
      "\u001b[1;32m/Users/maya/Desktop/AiCore Work/Content-Projects/Content/units/Essentials/7. Python programming/6. Functions /Notebook.ipynb Cell 63\u001b[0m in \u001b[0;36m<cell line: 4>\u001b[0;34m()\u001b[0m\n\u001b[1;32m      <a href='vscode-notebook-cell:/Users/maya/Desktop/AiCore%20Work/Content-Projects/Content/units/Essentials/7.%20Python%20programming/6.%20Functions%20/Notebook.ipynb#Y132sZmlsZQ%3D%3D?line=0'>1</a>\u001b[0m \u001b[39mdef\u001b[39;00m \u001b[39mdivide_numbers\u001b[39m(a, b):\n\u001b[1;32m      <a href='vscode-notebook-cell:/Users/maya/Desktop/AiCore%20Work/Content-Projects/Content/units/Essentials/7.%20Python%20programming/6.%20Functions%20/Notebook.ipynb#Y132sZmlsZQ%3D%3D?line=1'>2</a>\u001b[0m     \u001b[39mreturn\u001b[39;00m a \u001b[39m/\u001b[39m b\n\u001b[0;32m----> <a href='vscode-notebook-cell:/Users/maya/Desktop/AiCore%20Work/Content-Projects/Content/units/Essentials/7.%20Python%20programming/6.%20Functions%20/Notebook.ipynb#Y132sZmlsZQ%3D%3D?line=3'>4</a>\u001b[0m result \u001b[39m=\u001b[39m divide_numbers(\u001b[39m10\u001b[39;49m)\n",
      "\u001b[0;31mTypeError\u001b[0m: divide_numbers() missing 1 required positional argument: 'b'"
     ]
    }
   ],
   "source": [
    "def divide_numbers(a, b):\n",
    "    return a / b\n",
    "\n",
    "result = divide_numbers(10)"
   ]
  },
  {
   "attachments": {},
   "cell_type": "markdown",
   "metadata": {},
   "source": [
    "Troubleshooting Tips\n",
    "- Verify that you pass the same number of arguments to the function as the number of parameters in the function definition:"
   ]
  },
  {
   "cell_type": "code",
   "execution_count": 2,
   "metadata": {},
   "outputs": [],
   "source": [
    "def divide_numbers(a, b):\n",
    "    return a / b\n",
    "\n",
    "result = divide_numbers(10, 2)"
   ]
  },
  {
   "attachments": {},
   "cell_type": "markdown",
   "metadata": {},
   "source": [
    "### `ValueError`\n",
    "\n",
    "`ValueError`s occur when a function receives an argument of the correct type but with an invalid value."
   ]
  },
  {
   "cell_type": "code",
   "execution_count": 33,
   "metadata": {},
   "outputs": [
    {
     "ename": "ValueError",
     "evalue": "invalid literal for int() with base 10: 'abc'",
     "output_type": "error",
     "traceback": [
      "\u001b[0;31m---------------------------------------------------------------------------\u001b[0m",
      "\u001b[0;31mValueError\u001b[0m                                Traceback (most recent call last)",
      "\u001b[1;32m/Users/maya/Desktop/AiCore Work/Content-Projects/Content/units/Essentials/7. Python programming/6. Functions and function calls/Notebook.ipynb Cell 63\u001b[0m in \u001b[0;36m<cell line: 4>\u001b[0;34m()\u001b[0m\n\u001b[1;32m      <a href='vscode-notebook-cell:/Users/maya/Desktop/AiCore%20Work/Content-Projects/Content/units/Essentials/7.%20Python%20programming/6.%20Functions%20and%20function%20calls/Notebook.ipynb#Y130sZmlsZQ%3D%3D?line=0'>1</a>\u001b[0m \u001b[39mdef\u001b[39;00m \u001b[39mconvert_to_int\u001b[39m(value):\n\u001b[1;32m      <a href='vscode-notebook-cell:/Users/maya/Desktop/AiCore%20Work/Content-Projects/Content/units/Essentials/7.%20Python%20programming/6.%20Functions%20and%20function%20calls/Notebook.ipynb#Y130sZmlsZQ%3D%3D?line=1'>2</a>\u001b[0m     \u001b[39mreturn\u001b[39;00m \u001b[39mint\u001b[39m(value)\n\u001b[0;32m----> <a href='vscode-notebook-cell:/Users/maya/Desktop/AiCore%20Work/Content-Projects/Content/units/Essentials/7.%20Python%20programming/6.%20Functions%20and%20function%20calls/Notebook.ipynb#Y130sZmlsZQ%3D%3D?line=3'>4</a>\u001b[0m result \u001b[39m=\u001b[39m convert_to_int(\u001b[39m\"\u001b[39;49m\u001b[39mabc\u001b[39;49m\u001b[39m\"\u001b[39;49m)\n",
      "\u001b[1;32m/Users/maya/Desktop/AiCore Work/Content-Projects/Content/units/Essentials/7. Python programming/6. Functions and function calls/Notebook.ipynb Cell 63\u001b[0m in \u001b[0;36mconvert_to_int\u001b[0;34m(value)\u001b[0m\n\u001b[1;32m      <a href='vscode-notebook-cell:/Users/maya/Desktop/AiCore%20Work/Content-Projects/Content/units/Essentials/7.%20Python%20programming/6.%20Functions%20and%20function%20calls/Notebook.ipynb#Y130sZmlsZQ%3D%3D?line=0'>1</a>\u001b[0m \u001b[39mdef\u001b[39;00m \u001b[39mconvert_to_int\u001b[39m(value):\n\u001b[0;32m----> <a href='vscode-notebook-cell:/Users/maya/Desktop/AiCore%20Work/Content-Projects/Content/units/Essentials/7.%20Python%20programming/6.%20Functions%20and%20function%20calls/Notebook.ipynb#Y130sZmlsZQ%3D%3D?line=1'>2</a>\u001b[0m     \u001b[39mreturn\u001b[39;00m \u001b[39mint\u001b[39;49m(value)\n",
      "\u001b[0;31mValueError\u001b[0m: invalid literal for int() with base 10: 'abc'"
     ]
    }
   ],
   "source": [
    "def convert_to_int(value):\n",
    "    return int(value)\n",
    "\n",
    "result = convert_to_int(\"abc\")"
   ]
  },
  {
   "attachments": {},
   "cell_type": "markdown",
   "metadata": {},
   "source": [
    "Troubleshooting Tips:\n",
    "- Check if the input values meet the requirements specified by the function:"
   ]
  },
  {
   "cell_type": "code",
   "execution_count": 34,
   "metadata": {},
   "outputs": [],
   "source": [
    "result = convert_to_int(\"123\")"
   ]
  },
  {
   "attachments": {},
   "cell_type": "markdown",
   "metadata": {},
   "source": [
    "### Recursion Errors\n",
    "\n",
    "Recursion errors, such as maximum recursion depth exceeded (`RecursionError`), occur when a recursive function does not have a proper termination condition or the recursion depth is too high."
   ]
  },
  {
   "cell_type": "code",
   "execution_count": null,
   "metadata": {},
   "outputs": [],
   "source": [
    "def countdown(n):\n",
    "    print(n)\n",
    "    countdown(n - 1)\n",
    "\n",
    "countdown(5)"
   ]
  },
  {
   "attachments": {},
   "cell_type": "markdown",
   "metadata": {},
   "source": [
    "Troubleshooting Tips:\n",
    "- Review your recursive function to ensure it has a base case that terminates the recursion:"
   ]
  },
  {
   "cell_type": "code",
   "execution_count": null,
   "metadata": {},
   "outputs": [],
   "source": [
    "def countdown(n):\n",
    "    if n <= 0:\n",
    "        return\n",
    "    print(n)\n",
    "    countdown(n - 1)\n",
    "\n",
    "countdown(5)"
   ]
  },
  {
   "attachments": {},
   "cell_type": "markdown",
   "metadata": {},
   "source": [
    "- Check if the recursive function is invoked with the correct arguments to make progress towards the base case.\n",
    "\n",
    "By understanding these common function errors and following the troubleshooting tips, you can effectively identify and resolve issues in your code, leading to more robust and error-free functions."
   ]
  },
  {
   "attachments": {},
   "cell_type": "markdown",
   "metadata": {},
   "source": [
    "## Key Takeaways\n",
    "\n",
    "- Functions are important for organizing code, promoting reusability, and improving readability\n",
    "- When defining functions, use the `def` keyword followed by the function name, parentheses, and a colon\n",
    "- Function calls involve using the function name followed by parentheses, passing arguments, and optionally assigning return values\n",
    "- Parameters are variables defined in the function declaration, while arguments are values passed during function calls\n",
    "- Return statements specify the value that a function should return, and functions can return multiple values\n",
    "- Local variables are defined inside functions and are only accessible within that function's scope\n",
    "- Global variables are defined outside of any function and can be accessed and modified throughout the code\n",
    "- Recursive functions call themselves and can solve complex problems by breaking them down into simpler cases\n",
    "- Best practices for functions include keeping them concise and focused"
   ]
  }
 ],
 "metadata": {
  "kernelspec": {
   "display_name": "Python 3",
   "language": "python",
   "name": "python3"
  },
  "language_info": {
   "codemirror_mode": {
    "name": "ipython",
    "version": 3
   },
   "file_extension": ".py",
   "mimetype": "text/x-python",
   "name": "python",
   "nbconvert_exporter": "python",
   "pygments_lexer": "ipython3",
   "version": "3.11.3"
  }
 },
 "nbformat": 4,
 "nbformat_minor": 2
}
