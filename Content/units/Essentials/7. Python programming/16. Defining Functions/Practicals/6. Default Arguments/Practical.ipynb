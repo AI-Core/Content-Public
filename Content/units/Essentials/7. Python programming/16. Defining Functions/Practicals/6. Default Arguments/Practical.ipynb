{
 "cells": [
  {
   "cell_type": "markdown",
   "id": "4bbe020b",
   "metadata": {},
   "source": [
    "# Default Arguments"
   ]
  },
  {
   "attachments": {},
   "cell_type": "markdown",
   "id": "6b489c60",
   "metadata": {},
   "source": [
    "#### 1. Create a function named `display_attributes` which takes in a dictionary of attributes about a piece of clothing and prints each of the key-value pairs on a line\n",
    "\n",
    "For example, if the dictionary is:\n",
    "\n",
    "```python\n",
    "attributes = {\n",
    "    \"color\": \"red\",\n",
    "    \"size\": \"small\",\n",
    "    \"material\": \"cotton\"\n",
    "}\n",
    "```\n",
    "\n",
    "Then the function should print:\n",
    "\n",
    "```\n",
    "color: red\n",
    "size: small\n",
    "material: cotton\n",
    "```\n"
   ]
  },
  {
   "cell_type": "code",
   "execution_count": null,
   "id": "1e2fc8ae",
   "metadata": {},
   "outputs": [],
   "source": []
  },
  {
   "attachments": {},
   "cell_type": "markdown",
   "id": "0e872b17",
   "metadata": {},
   "source": [
    "#### 2. Add a parameter to the function called `attributes_to_print` with a default argument of 'all'\n",
    "\n",
    "If a list is passed into the function as the `attributes_to_print`, print only the key-value pairs of the dictionary where the key exists in `attributes_to_print`. Otherwise, print them all.\n",
    "\n",
    "For example, if the dictionary is:\n",
    "\n",
    "```python\n",
    "attributes = {\n",
    "    \"color\": \"red\",\n",
    "    \"size\": \"small\",\n",
    "    \"material\": \"cotton\"\n",
    "}\n",
    "```\n",
    "\n",
    "And the function is called like this:\n",
    "\n",
    "```python\n",
    "display_attributes(attributes, [\"color\", \"size\"])\n",
    "```\n",
    "\n",
    "Then the function should print:\n",
    "\n",
    "```\n",
    "color: red\n",
    "size: small\n",
    "```"
   ]
  },
  {
   "cell_type": "code",
   "execution_count": null,
   "id": "cdba3cfe",
   "metadata": {},
   "outputs": [],
   "source": []
  },
  {
   "attachments": {},
   "cell_type": "markdown",
   "id": "23530d00",
   "metadata": {},
   "source": [
    "#### 3. Print a message to tell the user if a key doesn't exist. \n",
    "\n",
    "The message should be in the format:\n",
    "\n",
    "```\n",
    "The key 'key_name' does not exist\n",
    "```"
   ]
  },
  {
   "cell_type": "code",
   "execution_count": null,
   "id": "5912d522",
   "metadata": {},
   "outputs": [],
   "source": []
  },
  {
   "attachments": {},
   "cell_type": "markdown",
   "id": "ac5ee549",
   "metadata": {},
   "source": [
    "#### 4. Call your function to test it\n",
    "\n",
    "Use the following dictionary:\n",
    "\n",
    "```python\n",
    "attributes = {\n",
    "    \"color\": \"red\",\n",
    "    \"size\": \"small\",\n",
    "    \"material\": \"cotton\"\n",
    "}\n",
    "```\n",
    "\n",
    "And call the function like this:\n",
    "\n",
    "```python\n",
    "display_attributes(attributes, [\"color\", \"size\", \"price\"])\n",
    "```\n",
    "\n",
    "It should print:\n",
    "\n",
    "```\n",
    "color: red\n",
    "size: small\n",
    "The key 'price' does not exist\n",
    "```\n",
    "\n",
    "Test it also running the function like this\n",
    "\n",
    "```python\n",
    "display_attributes(attributes)\n",
    "```\n",
    "\n",
    "It should print:\n",
    "\n",
    "```\n",
    "color: red\n",
    "size: small\n",
    "material: cotton\n",
    "```\n"
   ]
  },
  {
   "cell_type": "code",
   "execution_count": null,
   "id": "85ac6f42",
   "metadata": {},
   "outputs": [],
   "source": []
  }
 ],
 "metadata": {
  "language_info": {
   "name": "python"
  }
 },
 "nbformat": 4,
 "nbformat_minor": 5
}
