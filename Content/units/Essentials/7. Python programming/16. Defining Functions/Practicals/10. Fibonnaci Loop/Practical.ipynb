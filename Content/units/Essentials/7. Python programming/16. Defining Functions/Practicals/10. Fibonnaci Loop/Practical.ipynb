{
 "cells": [
  {
   "cell_type": "markdown",
   "id": "37ae4e0a",
   "metadata": {},
   "source": [
    "# Fibonnaci Loop"
   ]
  },
  {
   "cell_type": "markdown",
   "id": "9c269072",
   "metadata": {},
   "source": [
    "#### 1. Write a `for` loop that prints the first 100 Fibonnaci numbers"
   ]
  },
  {
   "cell_type": "code",
   "execution_count": null,
   "id": "3d3a614d",
   "metadata": {},
   "outputs": [],
   "source": []
  },
  {
   "cell_type": "markdown",
   "id": "df2943dc",
   "metadata": {},
   "source": [
    "#### 2. Create a function which returns `True` if the number is a multiple of 7 and `False` otherwise"
   ]
  },
  {
   "cell_type": "code",
   "execution_count": null,
   "id": "ddce7478",
   "metadata": {},
   "outputs": [],
   "source": []
  },
  {
   "attachments": {},
   "cell_type": "markdown",
   "id": "c3161659",
   "metadata": {},
   "source": [
    "#### 3. Call this function on each number inside your loop Fibonacci loop"
   ]
  },
  {
   "cell_type": "code",
   "execution_count": null,
   "id": "7d5f15a9",
   "metadata": {},
   "outputs": [],
   "source": []
  },
  {
   "attachments": {},
   "cell_type": "markdown",
   "id": "e7c3bc5d",
   "metadata": {},
   "source": [
    "#### 4. Add an `elif` condition to the loop to call another new function which checks if the number is greater than or equal to 100 OR is less than 50. \n",
    "\n",
    "In the case that it is `True`, format a string that prints the number and either \"is larger than 100\" or \"is less than 50\"."
   ]
  },
  {
   "cell_type": "code",
   "execution_count": null,
   "id": "f7b7d1b5",
   "metadata": {},
   "outputs": [],
   "source": []
  }
 ],
 "metadata": {
  "kernelspec": {
   "display_name": "content-projects_new",
   "language": "python",
   "name": "python3"
  },
  "language_info": {
   "name": "python",
   "version": "3.10.8 (main, Nov 24 2022, 14:13:03) [GCC 11.2.0]"
  },
  "vscode": {
   "interpreter": {
    "hash": "4b961f8166aad6ccb4cf65d0f9c742ef9c6c23ffe83ad932438cd83ed96aebaf"
   }
  }
 },
 "nbformat": 4,
 "nbformat_minor": 5
}
