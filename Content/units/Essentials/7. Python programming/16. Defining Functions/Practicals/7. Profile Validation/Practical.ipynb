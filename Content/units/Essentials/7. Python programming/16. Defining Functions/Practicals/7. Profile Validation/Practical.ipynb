{
 "cells": [
  {
   "cell_type": "markdown",
   "id": "32453c8e",
   "metadata": {},
   "source": [
    "# Profile Validation"
   ]
  },
  {
   "cell_type": "markdown",
   "id": "e93b3c58",
   "metadata": {},
   "source": [
    "#### 1. Create a function which takes in the `name`, `age`, and `email` of a user trying to create a new profile on our application"
   ]
  },
  {
   "cell_type": "code",
   "execution_count": null,
   "id": "c4bcbe3f",
   "metadata": {},
   "outputs": [],
   "source": []
  },
  {
   "attachments": {},
   "cell_type": "markdown",
   "id": "6a3de084",
   "metadata": {},
   "source": [
    "#### 2. Check the name does not contain any of the following characters \"!@£$%^&*()\"\n",
    "\n",
    "If it does, return the message \"Invalid name\""
   ]
  },
  {
   "cell_type": "code",
   "execution_count": null,
   "id": "2eff1a01",
   "metadata": {},
   "outputs": [],
   "source": []
  },
  {
   "attachments": {},
   "cell_type": "markdown",
   "id": "f199dfce",
   "metadata": {},
   "source": [
    "#### 3. Check the email is valid by making sure it contains \"@\"\n",
    "\n",
    "If it does not, return the message \"Invalid email\""
   ]
  },
  {
   "cell_type": "code",
   "execution_count": null,
   "id": "258f2fd0",
   "metadata": {},
   "outputs": [],
   "source": []
  },
  {
   "attachments": {},
   "cell_type": "markdown",
   "id": "3af54e35",
   "metadata": {},
   "source": [
    "#### 4. Check the `age` > 12\n",
    "\n",
    "If it is not, return the message \"Invalid age\""
   ]
  },
  {
   "cell_type": "code",
   "execution_count": null,
   "id": "461e54bd",
   "metadata": {},
   "outputs": [],
   "source": []
  },
  {
   "attachments": {},
   "cell_type": "markdown",
   "id": "c7b99a9d",
   "metadata": {},
   "source": [
    "#### 5. Turn each step above into a different function, so that you have one function, whiich calls 3 other functions inside\n",
    "\n",
    "So you will end up with 4 functions in total:\n",
    "\n",
    "- `check_name`\n",
    "- `check_email`\n",
    "- `check_age`\n",
    "- `validate_profile`\n",
    "\n",
    "`validate_profile` will call the other 3 functions, and if all of them return `True`, then it will return the message \"Profile created\""
   ]
  },
  {
   "cell_type": "code",
   "execution_count": null,
   "id": "610dc793",
   "metadata": {},
   "outputs": [],
   "source": []
  }
 ],
 "metadata": {
  "language_info": {
   "name": "python"
  }
 },
 "nbformat": 4,
 "nbformat_minor": 5
}
