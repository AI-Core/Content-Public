{
 "cells": [
  {
   "cell_type": "markdown",
   "id": "48f22344",
   "metadata": {},
   "source": [
    "# Void Functions"
   ]
  },
  {
   "attachments": {},
   "cell_type": "markdown",
   "id": "83ffba99",
   "metadata": {},
   "source": [
    "A function that doesn't return anything is called a void function. In Python, you can define a void function by simply not including a return statement.\n",
    "#### 1. Create a function called `void_function` that doesn't return anything"
   ]
  },
  {
   "cell_type": "code",
   "execution_count": null,
   "id": "c6da58d0",
   "metadata": {},
   "outputs": [],
   "source": []
  },
  {
   "cell_type": "markdown",
   "id": "12b54fbd",
   "metadata": {},
   "source": [
    "#### 2. Inside the function, print the string `\"This is a void function.\"`"
   ]
  },
  {
   "cell_type": "code",
   "execution_count": null,
   "id": "9618b035",
   "metadata": {},
   "outputs": [],
   "source": []
  },
  {
   "cell_type": "markdown",
   "id": "de2ee638",
   "metadata": {},
   "source": [
    "#### 3. Call the function and assign the result to a variable called `void_result`"
   ]
  },
  {
   "cell_type": "code",
   "execution_count": null,
   "id": "8a06c038",
   "metadata": {},
   "outputs": [],
   "source": []
  },
  {
   "attachments": {},
   "cell_type": "markdown",
   "id": "a4944659",
   "metadata": {},
   "source": [
    "#### 4. Print the value of `void_result`\n",
    "What is the value of `void_result`? Why?\n",
    "\n",
    "Notice that even though the function doesn't return anything, it still prints the string `\"This is a void function.\"` to the console."
   ]
  },
  {
   "cell_type": "code",
   "execution_count": null,
   "id": "01081780",
   "metadata": {},
   "outputs": [],
   "source": []
  },
  {
   "attachments": {},
   "cell_type": "markdown",
   "id": "0051f6b4",
   "metadata": {},
   "source": [
    "This is because the `print` function still runs inside the function, even though the function doesn't return anything.\n",
    "\n",
    "This is important to remember, sometimes you want your functions to perform actions without returning anything."
   ]
  }
 ],
 "metadata": {
  "kernelspec": {
   "display_name": "content-projects_new",
   "language": "python",
   "name": "python3"
  },
  "language_info": {
   "name": "python",
   "version": "3.10.8 (main, Nov 24 2022, 14:13:03) [GCC 11.2.0]"
  },
  "vscode": {
   "interpreter": {
    "hash": "4b961f8166aad6ccb4cf65d0f9c742ef9c6c23ffe83ad932438cd83ed96aebaf"
   }
  }
 },
 "nbformat": 4,
 "nbformat_minor": 5
}
