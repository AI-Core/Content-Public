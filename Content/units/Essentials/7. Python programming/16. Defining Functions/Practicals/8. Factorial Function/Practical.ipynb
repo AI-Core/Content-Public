{
 "cells": [
  {
   "cell_type": "markdown",
   "id": "fbc550af",
   "metadata": {},
   "source": [
    "# Factorial Function"
   ]
  },
  {
   "attachments": {},
   "cell_type": "markdown",
   "id": "93ae9c64",
   "metadata": {},
   "source": [
    "A recursive function is a function that calls itself. This is useful when you want to perform an operation on a number and all the numbers below it.\n",
    "#### 1. Define a function called `factorial` that takes in a number"
   ]
  },
  {
   "cell_type": "code",
   "execution_count": null,
   "id": "412c4a26",
   "metadata": {},
   "outputs": [],
   "source": []
  },
  {
   "cell_type": "markdown",
   "id": "b23a618b",
   "metadata": {},
   "source": [
    "#### 2. If the number is 0, return 1"
   ]
  },
  {
   "cell_type": "code",
   "execution_count": null,
   "id": "8714827b",
   "metadata": {},
   "outputs": [],
   "source": []
  },
  {
   "cell_type": "markdown",
   "id": "70d1cf20",
   "metadata": {},
   "source": [
    "#### 3. Otherwise, return the number multiplied by the factorial of the number minus 1. In this case, you have to call the function again inside itself."
   ]
  },
  {
   "cell_type": "code",
   "execution_count": null,
   "id": "e14ff9ab",
   "metadata": {},
   "outputs": [],
   "source": []
  },
  {
   "attachments": {},
   "cell_type": "markdown",
   "id": "8afdb5bb",
   "metadata": {},
   "source": [
    "#### 4. Call your function to test it. \n",
    "\n",
    "Use the number 5 as an input, you should get 120 as an output."
   ]
  },
  {
   "cell_type": "code",
   "execution_count": null,
   "id": "5ad910dd",
   "metadata": {},
   "outputs": [],
   "source": []
  }
 ],
 "metadata": {
  "kernelspec": {
   "display_name": "content-projects_new",
   "language": "python",
   "name": "python3"
  },
  "language_info": {
   "name": "python",
   "version": "3.10.8 (main, Nov 24 2022, 14:13:03) [GCC 11.2.0]"
  },
  "vscode": {
   "interpreter": {
    "hash": "4b961f8166aad6ccb4cf65d0f9c742ef9c6c23ffe83ad932438cd83ed96aebaf"
   }
  }
 },
 "nbformat": 4,
 "nbformat_minor": 5
}
