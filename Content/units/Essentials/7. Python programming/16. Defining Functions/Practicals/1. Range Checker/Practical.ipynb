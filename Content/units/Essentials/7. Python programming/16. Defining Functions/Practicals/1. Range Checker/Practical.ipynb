{
 "cells": [
  {
   "cell_type": "markdown",
   "id": "1e87f79b",
   "metadata": {},
   "source": [
    "# Range Checker"
   ]
  },
  {
   "cell_type": "markdown",
   "id": "2aae8fb6",
   "metadata": {},
   "source": [
    "#### 1. Write a function called `in_range` which takes in three arguments: `lower_bound`, `upper_bound`, and `number`"
   ]
  },
  {
   "cell_type": "code",
   "execution_count": null,
   "id": "b6f3605f",
   "metadata": {},
   "outputs": [],
   "source": []
  },
  {
   "cell_type": "markdown",
   "id": "4edf1710",
   "metadata": {},
   "source": [
    "#### 2. If `number` is between `lower_bound` and `upper_bound`, print \"{`number`} is between {`lower_bound`} and {`upper_bound`}.\" "
   ]
  },
  {
   "cell_type": "code",
   "execution_count": null,
   "id": "981d2057",
   "metadata": {},
   "outputs": [],
   "source": []
  },
  {
   "cell_type": "markdown",
   "id": "552dafdb",
   "metadata": {},
   "source": [
    "#### 3. If it isn't, print \"{`number`} is NOT between {`lower_bound`} and {`upper_bound`}.\" "
   ]
  },
  {
   "cell_type": "code",
   "execution_count": null,
   "id": "df303bb5",
   "metadata": {},
   "outputs": [],
   "source": []
  },
  {
   "attachments": {},
   "cell_type": "markdown",
   "id": "77cd8c01",
   "metadata": {},
   "source": [
    "#### 4. Call your function to test it.\n",
    "\n",
    "Use the following code to test your function:"
   ]
  },
  {
   "cell_type": "code",
   "execution_count": null,
   "id": "aef182c2",
   "metadata": {},
   "outputs": [],
   "source": [
    "in_range(1, 10, 5)\n",
    "in_range(1, 10, 11)\n",
    "in_range(1, 10, 0)"
   ]
  },
  {
   "attachments": {},
   "cell_type": "markdown",
   "id": "7c750c2b",
   "metadata": {},
   "source": [
    "The output should be:\n",
    "```\n",
    "5 is between 1 and 10.\n",
    "11 is NOT between 1 and 10.\n",
    "0 is NOT between 1 and 10.\n",
    "```"
   ]
  }
 ],
 "metadata": {
  "kernelspec": {
   "display_name": "content-projects_new",
   "language": "python",
   "name": "python3"
  },
  "language_info": {
   "name": "python",
   "version": "3.10.8 (main, Nov 24 2022, 14:13:03) [GCC 11.2.0]"
  },
  "vscode": {
   "interpreter": {
    "hash": "4b961f8166aad6ccb4cf65d0f9c742ef9c6c23ffe83ad932438cd83ed96aebaf"
   }
  }
 },
 "nbformat": 4,
 "nbformat_minor": 5
}
