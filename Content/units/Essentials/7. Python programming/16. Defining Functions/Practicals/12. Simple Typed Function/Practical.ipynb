{
 "cells": [
  {
   "cell_type": "markdown",
   "id": "93ac03b0",
   "metadata": {},
   "source": [
    "# Simple Typed Function"
   ]
  },
  {
   "attachments": {},
   "cell_type": "markdown",
   "id": "f5e493d0",
   "metadata": {},
   "source": [
    "  Typing is a way of defining the type of data that a function should take in and returns. This is useful for ensuring that the function is used correctly, and for making sure that the function returns the correct type of data.\n",
    "\n",
    "  #### 1. Create a function that takes in a list of words and returns the total number of characters in the list, then define the type of the function's inputs and outputs"
   ]
  },
  {
   "cell_type": "code",
   "execution_count": 6,
   "id": "5fb25441",
   "metadata": {},
   "outputs": [
    {
     "ename": "TypeError",
     "evalue": "object of type 'int' has no len()",
     "output_type": "error",
     "traceback": [
      "\u001b[0;31m---------------------------------------------------------------------------\u001b[0m",
      "\u001b[0;31mTypeError\u001b[0m                                 Traceback (most recent call last)",
      "Cell \u001b[0;32mIn[6], line 9\u001b[0m\n\u001b[1;32m      7\u001b[0m word_list\u001b[39m=\u001b[39m[\u001b[39m\"\u001b[39m\u001b[39mhedgehog\u001b[39m\u001b[39m\"\u001b[39m, \u001b[39m\"\u001b[39m\u001b[39mcat\u001b[39m\u001b[39m\"\u001b[39m, \u001b[39m\"\u001b[39m\u001b[39mdog\u001b[39m\u001b[39m\"\u001b[39m]\n\u001b[1;32m      8\u001b[0m num_list\u001b[39m=\u001b[39m[\u001b[39m1\u001b[39m,\u001b[39m2\u001b[39m,\u001b[39m3\u001b[39m,\u001b[39m4\u001b[39m,\u001b[39m5\u001b[39m]\n\u001b[0;32m----> 9\u001b[0m example_function(num_list)\n",
      "Cell \u001b[0;32mIn[6], line 5\u001b[0m, in \u001b[0;36mexample_function\u001b[0;34m(my_list)\u001b[0m\n\u001b[1;32m      3\u001b[0m \u001b[39mdef\u001b[39;00m \u001b[39mexample_function\u001b[39m(my_list: List[\u001b[39mstr\u001b[39m]):\n\u001b[1;32m      4\u001b[0m \u001b[39m    \u001b[39m\u001b[39m\"\"\"This function takes a list as an argument and returns the sum of the list\"\"\"\u001b[39;00m\n\u001b[0;32m----> 5\u001b[0m     length \u001b[39m=\u001b[39m \u001b[39msum\u001b[39m([\u001b[39mlen\u001b[39;49m(item) \u001b[39mfor\u001b[39;49;00m item \u001b[39min\u001b[39;49;00m my_list])\n\u001b[1;32m      6\u001b[0m     \u001b[39mreturn\u001b[39;00m length\n",
      "Cell \u001b[0;32mIn[6], line 5\u001b[0m, in \u001b[0;36m<listcomp>\u001b[0;34m(.0)\u001b[0m\n\u001b[1;32m      3\u001b[0m \u001b[39mdef\u001b[39;00m \u001b[39mexample_function\u001b[39m(my_list: List[\u001b[39mstr\u001b[39m]):\n\u001b[1;32m      4\u001b[0m \u001b[39m    \u001b[39m\u001b[39m\"\"\"This function takes a list as an argument and returns the sum of the list\"\"\"\u001b[39;00m\n\u001b[0;32m----> 5\u001b[0m     length \u001b[39m=\u001b[39m \u001b[39msum\u001b[39m([\u001b[39mlen\u001b[39;49m(item) \u001b[39mfor\u001b[39;00m item \u001b[39min\u001b[39;00m my_list])\n\u001b[1;32m      6\u001b[0m     \u001b[39mreturn\u001b[39;00m length\n",
      "\u001b[0;31mTypeError\u001b[0m: object of type 'int' has no len()"
     ]
    }
   ],
   "source": [
    "#!\n",
    "\n",
    "from typing import List\n",
    "\n",
    "def example_function(my_list: List[str]):\n",
    "    \"\"\"This function takes a list as an argument and returns the sum of the list\"\"\"\n",
    "    length = sum([len(item) for item in my_list])\n",
    "    return length\n",
    "word_list=[\"hedgehog\", \"cat\", \"dog\"]\n",
    "num_list=[1,2,3,4,5]\n",
    "example_function(num_list)\n",
    "\n",
    "#! # TODO: 1. Define a function that takes a list of strings as an argument and returns the sum of the lengths of the strings in the list"
   ]
  },
  {
   "attachments": {},
   "cell_type": "markdown",
   "id": "7801c17d",
   "metadata": {},
   "source": [
    "For example, if the input is `[\"Hello\", \"World\"]`, the function should return `10`.\n",
    "\n",
    "The type can be `list` or, if you want to be more specific, `List[str]` (a list of strings), but you will need to import it like this:\n",
    "```\n",
    "from typing import List\n",
    "```"
   ]
  },
  {
   "attachments": {},
   "cell_type": "markdown",
   "id": "62c136f0",
   "metadata": {},
   "source": [
    "#### 2. Pass a list of numbers to the function and see what happens"
   ]
  },
  {
   "cell_type": "code",
   "execution_count": null,
   "id": "fe2f3c8e",
   "metadata": {},
   "outputs": [],
   "source": [
    "\n"
   ]
  },
  {
   "attachments": {},
   "cell_type": "markdown",
   "id": "eb37bef3",
   "metadata": {},
   "source": [
    "Did the function complained, or did you get an error due to checking the lenght of a number?\n",
    "\n",
    "Notice that you can pass any type of data to a function, but it is up to you to make sure that the function is used correctly."
   ]
  }
 ],
 "metadata": {
  "kernelspec": {
   "display_name": "content-projects_new",
   "language": "python",
   "name": "python3"
  },
  "language_info": {
   "codemirror_mode": {
    "name": "ipython",
    "version": 3
   },
   "file_extension": ".py",
   "mimetype": "text/x-python",
   "name": "python",
   "nbconvert_exporter": "python",
   "pygments_lexer": "ipython3",
   "version": "3.11.0"
  },
  "vscode": {
   "interpreter": {
    "hash": "4b961f8166aad6ccb4cf65d0f9c742ef9c6c23ffe83ad932438cd83ed96aebaf"
   }
  }
 },
 "nbformat": 4,
 "nbformat_minor": 5
}
