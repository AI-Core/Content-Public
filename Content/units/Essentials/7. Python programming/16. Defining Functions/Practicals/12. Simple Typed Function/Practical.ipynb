{
 "cells": [
  {
   "cell_type": "markdown",
   "id": "93ac03b0",
   "metadata": {},
   "source": [
    "# Simple Typed Function"
   ]
  },
  {
   "attachments": {},
   "cell_type": "markdown",
   "id": "f5e493d0",
   "metadata": {},
   "source": [
    "  Typing is a way of defining the type of data that a function should take in and returns. This is useful for ensuring that the function is used correctly, and for making sure that the function returns the correct type of data.\n",
    "\n",
    "  #### 1. Create a function that takes in a list of words and returns the total number of characters in the list, then define the type the function's inputs and outputs"
   ]
  },
  {
   "cell_type": "code",
   "execution_count": null,
   "id": "5fb25441",
   "metadata": {},
   "outputs": [],
   "source": []
  },
  {
   "attachments": {},
   "cell_type": "markdown",
   "id": "7801c17d",
   "metadata": {},
   "source": [
    "For example, if the input is `[\"Hello\", \"World\"]`, the function should return `10`.\n",
    "\n",
    "The type can be `list` or, if you want to be more specific, `List[str]` (a list of strings), but you will need to import it like this:\n",
    "```\n",
    "from typing import List\n",
    "```"
   ]
  },
  {
   "attachments": {},
   "cell_type": "markdown",
   "id": "62c136f0",
   "metadata": {},
   "source": [
    "#### 2. Pass a list of numbers to the function and see what happens"
   ]
  },
  {
   "cell_type": "code",
   "execution_count": null,
   "id": "fe2f3c8e",
   "metadata": {},
   "outputs": [],
   "source": []
  },
  {
   "attachments": {},
   "cell_type": "markdown",
   "id": "eb37bef3",
   "metadata": {},
   "source": [
    "Did the function complained, or did you get an error due to checking the lenght of a number?\n",
    "\n",
    "Notice that you can pass any type of data to a function, but it is up to you to make sure that the function is used correctly."
   ]
  }
 ],
 "metadata": {
  "kernelspec": {
   "display_name": "content-projects_new",
   "language": "python",
   "name": "python3"
  },
  "language_info": {
   "name": "python",
   "version": "3.10.8 (main, Nov 24 2022, 14:13:03) [GCC 11.2.0]"
  },
  "vscode": {
   "interpreter": {
    "hash": "4b961f8166aad6ccb4cf65d0f9c742ef9c6c23ffe83ad932438cd83ed96aebaf"
   }
  }
 },
 "nbformat": 4,
 "nbformat_minor": 5
}
