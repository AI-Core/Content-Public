{
 "cells": [
  {
   "cell_type": "markdown",
   "id": "0235a23b",
   "metadata": {},
   "source": [
    "# Return a Unique Item List"
   ]
  },
  {
   "attachments": {},
   "cell_type": "markdown",
   "id": "cc29fbe3",
   "metadata": {},
   "source": [
    "#### 1. Write a function called `unique_list` that takes in a list and returns a list with only the unique elements of the input."
   ]
  },
  {
   "cell_type": "code",
   "execution_count": null,
   "id": "1273b501",
   "metadata": {},
   "outputs": [],
   "source": []
  },
  {
   "attachments": {},
   "cell_type": "markdown",
   "id": "5c7db467",
   "metadata": {},
   "source": [
    "Test it using the following code:"
   ]
  },
  {
   "cell_type": "code",
   "execution_count": null,
   "id": "7c2a2d58",
   "metadata": {},
   "outputs": [],
   "source": [
    "my_list = [1, 3, 5, 6, 4, 3, 2, 3, 3, 4, 3, 4, 5, 6, 6, 4, 3, 2, 12, 3, 5, 63, 4, 5, 3, 3, 2]\n",
    "\n",
    "unique_output = unique_list(my_list)"
   ]
  },
  {
   "attachments": {},
   "cell_type": "markdown",
   "id": "33c517ae",
   "metadata": {},
   "source": [
    "The output should be (or have the same elements as):\n",
    "\n",
    "    [1, 2, 3, 4, 5, 6, 12, 63]"
   ]
  },
  {
   "cell_type": "markdown",
   "id": "bba78d11",
   "metadata": {},
   "source": [
    "#### 2. Find another way of performing the same operation without defining a function."
   ]
  },
  {
   "cell_type": "code",
   "execution_count": null,
   "id": "1f1fff12",
   "metadata": {},
   "outputs": [],
   "source": []
  }
 ],
 "metadata": {
  "kernelspec": {
   "display_name": "content-projects_new",
   "language": "python",
   "name": "python3"
  },
  "language_info": {
   "codemirror_mode": {
    "name": "ipython",
    "version": 3
   },
   "file_extension": ".py",
   "mimetype": "text/x-python",
   "name": "python",
   "nbconvert_exporter": "python",
   "pygments_lexer": "ipython3",
   "version": "3.10.8"
  },
  "vscode": {
   "interpreter": {
    "hash": "4b961f8166aad6ccb4cf65d0f9c742ef9c6c23ffe83ad932438cd83ed96aebaf"
   }
  }
 },
 "nbformat": 4,
 "nbformat_minor": 5
}
