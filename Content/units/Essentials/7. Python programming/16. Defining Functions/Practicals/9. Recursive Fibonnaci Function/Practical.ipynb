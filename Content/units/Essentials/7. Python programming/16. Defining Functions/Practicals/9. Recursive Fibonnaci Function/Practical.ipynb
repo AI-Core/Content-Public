{
 "cells": [
  {
   "cell_type": "markdown",
   "id": "419ebf11",
   "metadata": {},
   "source": [
    "# Recursive Fibonnaci Function"
   ]
  },
  {
   "attachments": {},
   "cell_type": "markdown",
   "id": "52681d12",
   "metadata": {},
   "source": [
    "#### 1. Create a function called `fibonacci_rec` which takes in an integer `n`, and when called, returns a list of the first `n` Fibonnaci numbers.\n",
    "\n",
    "It should be a recursive function which calls itself inside the function body.\n",
    "\n",
    "You can look online for the definition of the Fibonnaci sequence."
   ]
  },
  {
   "cell_type": "code",
   "execution_count": null,
   "id": "eb0d4e59",
   "metadata": {},
   "outputs": [],
   "source": []
  }
 ],
 "metadata": {
  "kernelspec": {
   "display_name": "content-projects_new",
   "language": "python",
   "name": "python3"
  },
  "language_info": {
   "name": "python",
   "version": "3.10.8 (main, Nov 24 2022, 14:13:03) [GCC 11.2.0]"
  },
  "vscode": {
   "interpreter": {
    "hash": "4b961f8166aad6ccb4cf65d0f9c742ef9c6c23ffe83ad932438cd83ed96aebaf"
   }
  }
 },
 "nbformat": 4,
 "nbformat_minor": 5
}
