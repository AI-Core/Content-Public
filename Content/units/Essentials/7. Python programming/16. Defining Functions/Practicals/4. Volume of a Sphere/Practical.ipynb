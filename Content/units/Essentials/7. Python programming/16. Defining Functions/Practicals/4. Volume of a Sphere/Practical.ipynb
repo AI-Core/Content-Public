{
 "cells": [
  {
   "cell_type": "markdown",
   "id": "5f585403",
   "metadata": {},
   "source": [
    "# Volume of a Sphere"
   ]
  },
  {
   "cell_type": "markdown",
   "id": "520e01db",
   "metadata": {},
   "source": [
    "#### 1. Write a function called `volume_of_sphere` that takes in a variable called `radius` which is the radius of a sphere"
   ]
  },
  {
   "cell_type": "code",
   "execution_count": null,
   "id": "fbb47c16",
   "metadata": {},
   "outputs": [],
   "source": []
  },
  {
   "cell_type": "markdown",
   "id": "9d8fe157",
   "metadata": {},
   "source": [
    "#### 2. The function calculates the volume of a sphere. Search online for the formula for calculating the volumne and use `PI = 3.14`"
   ]
  },
  {
   "cell_type": "code",
   "execution_count": null,
   "id": "f437a29f",
   "metadata": {},
   "outputs": [],
   "source": []
  },
  {
   "cell_type": "markdown",
   "id": "0a84bb2a",
   "metadata": {},
   "source": [
    "#### 3. The function should return the volume of the sphere rounded to 2 decimal points"
   ]
  },
  {
   "cell_type": "code",
   "execution_count": null,
   "id": "04041292",
   "metadata": {},
   "outputs": [],
   "source": []
  },
  {
   "attachments": {},
   "cell_type": "markdown",
   "id": "bd91383b",
   "metadata": {},
   "source": [
    "#### 4. Call your function to test it\n",
    "\n",
    "Use the following code to test your function:"
   ]
  },
  {
   "cell_type": "code",
   "execution_count": null,
   "id": "3f726e2f",
   "metadata": {},
   "outputs": [],
   "source": [
    "volume_of_sphere(2)"
   ]
  },
  {
   "attachments": {},
   "cell_type": "markdown",
   "id": "736670e7",
   "metadata": {},
   "source": [
    "The output should be `33.51`"
   ]
  }
 ],
 "metadata": {
  "language_info": {
   "name": "python"
  }
 },
 "nbformat": 4,
 "nbformat_minor": 5
}
