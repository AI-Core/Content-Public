{
 "cells": [
  {
   "cell_type": "markdown",
   "metadata": {},
   "source": [
    "## Functions"
   ]
  },
  {
   "cell_type": "code",
   "execution_count": null,
   "metadata": {},
   "outputs": [],
   "source": [
    "def test_function(param_1, param_2):\n",
    "    # Code to be executed when we call the function\n",
    "    return 'This string is the output'\n"
   ]
  },
  {
   "cell_type": "code",
   "execution_count": 2,
   "metadata": {},
   "outputs": [],
   "source": [
    "def say_hi():\n",
    "    print('Hello')\n",
    "    print('World')\n",
    "    return 'Good Bye'"
   ]
  },
  {
   "cell_type": "code",
   "execution_count": 3,
   "metadata": {},
   "outputs": [
    {
     "name": "stdout",
     "output_type": "stream",
     "text": [
      "Hello\n",
      "World\n"
     ]
    },
    {
     "data": {
      "text/plain": [
       "'Good Bye'"
      ]
     },
     "execution_count": 3,
     "metadata": {},
     "output_type": "execute_result"
    }
   ],
   "source": [
    "say_hi()"
   ]
  },
  {
   "cell_type": "code",
   "execution_count": 4,
   "metadata": {},
   "outputs": [
    {
     "data": {
      "text/plain": [
       "<function __main__.say_hi()>"
      ]
     },
     "execution_count": 4,
     "metadata": {},
     "output_type": "execute_result"
    }
   ],
   "source": [
    "say_hi"
   ]
  },
  {
   "cell_type": "code",
   "execution_count": 5,
   "metadata": {},
   "outputs": [
    {
     "name": "stdout",
     "output_type": "stream",
     "text": [
      "\"Learning Python is increasingly in demand\" contains 41 characters\n",
      "\"Python was released in 1991\" contains 27 characters\n"
     ]
    }
   ],
   "source": [
    "def get_length(sentence):\n",
    "    length = len(sentence)\n",
    "    return length\n",
    "\n",
    "sentence_1 = 'Learning Python is increasingly in demand'\n",
    "sentence_2 = 'Python was released in 1991'\n",
    "\n",
    "len_1 = get_length(sentence_1)\n",
    "len_2 = get_length(sentence_2)\n",
    "\n",
    "print(f'\"{sentence_1}\" contains {len_1} characters')\n",
    "print(f'\"{sentence_2}\" contains {len_2} characters')"
   ]
  },
  {
   "cell_type": "code",
   "execution_count": 7,
   "metadata": {},
   "outputs": [],
   "source": [
    "def get_short(sentence):\n",
    "    length = len(sentence)\n",
    "    if length <= 30:\n",
    "        return length   # Once the return statement is reached, the code exits the function\n",
    "    print('The sentence is too long')\n",
    "\n",
    "len_2 = get_short(sentence_2)"
   ]
  },
  {
   "cell_type": "code",
   "execution_count": 8,
   "metadata": {},
   "outputs": [
    {
     "name": "stdout",
     "output_type": "stream",
     "text": [
      "The sentence is too long\n"
     ]
    }
   ],
   "source": [
    "len_1 = get_short(sentence_1)\n"
   ]
  },
  {
   "cell_type": "code",
   "execution_count": 10,
   "metadata": {},
   "outputs": [
    {
     "name": "stdout",
     "output_type": "stream",
     "text": [
      "None\n",
      "<class 'NoneType'>\n"
     ]
    }
   ],
   "source": [
    "print(len_1)\n",
    "print(type(len_1))"
   ]
  },
  {
   "cell_type": "code",
   "execution_count": 12,
   "metadata": {},
   "outputs": [
    {
     "name": "stdout",
     "output_type": "stream",
     "text": [
      "Printing inside the function\n",
      "I am in the global scope\n",
      "Printing inside the function\n",
      "I am in the local scope\n",
      "\n",
      "Printing outside the function\n",
      "I am in the global scope\n",
      "Printing outside the function\n"
     ]
    },
    {
     "ename": "NameError",
     "evalue": "name 'y' is not defined",
     "output_type": "error",
     "traceback": [
      "\u001b[0;31m---------------------------------------------------------------------------\u001b[0m",
      "\u001b[0;31mNameError\u001b[0m                                 Traceback (most recent call last)",
      "\u001b[0;32m<ipython-input-12-45f28666d1ae>\u001b[0m in \u001b[0;36m<module>\u001b[0;34m\u001b[0m\n\u001b[1;32m     15\u001b[0m \u001b[0mprint\u001b[0m\u001b[0;34m(\u001b[0m\u001b[0mx\u001b[0m\u001b[0;34m)\u001b[0m\u001b[0;34m\u001b[0m\u001b[0;34m\u001b[0m\u001b[0m\n\u001b[1;32m     16\u001b[0m \u001b[0mprint\u001b[0m\u001b[0;34m(\u001b[0m\u001b[0;34m'Printing outside the function'\u001b[0m\u001b[0;34m)\u001b[0m\u001b[0;34m\u001b[0m\u001b[0;34m\u001b[0m\u001b[0m\n\u001b[0;32m---> 17\u001b[0;31m \u001b[0mprint\u001b[0m\u001b[0;34m(\u001b[0m\u001b[0my\u001b[0m\u001b[0;34m)\u001b[0m\u001b[0;34m\u001b[0m\u001b[0;34m\u001b[0m\u001b[0m\n\u001b[0m",
      "\u001b[0;31mNameError\u001b[0m: name 'y' is not defined"
     ]
    }
   ],
   "source": [
    "x = 'I am in the global scope'\n",
    "\n",
    "def scope_test():\n",
    "    print('Printing inside the function')\n",
    "    print(x)\n",
    "\n",
    "    y = 'I am in the local scope'\n",
    "\n",
    "    print('Printing inside the function')\n",
    "    print(y)\n",
    "\n",
    "scope_test()\n",
    "print()\n",
    "print('Printing outside the function')\n",
    "print(x)\n",
    "print('Printing outside the function')\n",
    "print(y)"
   ]
  },
  {
   "cell_type": "code",
   "execution_count": 13,
   "metadata": {},
   "outputs": [
    {
     "name": "stdout",
     "output_type": "stream",
     "text": [
      "Before calling the function x is equal to 10\n",
      "Inside the function, and after assigning a new value, x is equal to 20\n",
      "After calling the function x is equal to 10\n"
     ]
    }
   ],
   "source": [
    "x = 10\n",
    "\n",
    "def test_function():\n",
    "    x = 20\n",
    "    print(f'Inside the function, and after assigning a new value, x is equal to {x}')\n",
    "\n",
    "print(f'Before calling the function x is equal to {x}')\n",
    "test_function()\n",
    "print(f'After calling the function x is equal to {x}')\n"
   ]
  },
  {
   "cell_type": "code",
   "execution_count": 14,
   "metadata": {},
   "outputs": [
    {
     "name": "stdout",
     "output_type": "stream",
     "text": [
      "(1, 2, 3, 4, 5, 6, 7)\n",
      "<class 'tuple'>\n"
     ]
    }
   ],
   "source": [
    "def test_args(*args):\n",
    "    print(args)\n",
    "    print(type(args))\n",
    "test_args(1, 2, 3, 4, 5, 6, 7)"
   ]
  },
  {
   "cell_type": "code",
   "execution_count": 15,
   "metadata": {},
   "outputs": [
    {
     "name": "stdout",
     "output_type": "stream",
     "text": [
      "7.5\n"
     ]
    }
   ],
   "source": [
    "def get_mean(*args):\n",
    "    total = sum(args)\n",
    "    return total / len(args) # Divide the addition of all the numbers by the amount of numbers\n",
    "\n",
    "print(get_mean(3, 6, 9, 12))"
   ]
  },
  {
   "cell_type": "code",
   "execution_count": 18,
   "metadata": {},
   "outputs": [
    {
     "name": "stdout",
     "output_type": "stream",
     "text": [
      "{'a': 1, 'b': 2, 'c': 3}\n",
      "<class 'dict'>\n"
     ]
    }
   ],
   "source": [
    "def test_kwargs(first, **kwargs):\n",
    "    print(kwargs)\n",
    "    print(type(kwargs))\n",
    "test_kwargs('hi', a=1, b=2, c=3)\n"
   ]
  },
  {
   "cell_type": "code",
   "execution_count": 20,
   "metadata": {},
   "outputs": [
    {
     "name": "stdout",
     "output_type": "stream",
     "text": [
      "Adding tomatoes to the list\n",
      "Adding potatoes to the list\n",
      "Adding chocolate to the list\n",
      "5.67\n"
     ]
    }
   ],
   "source": [
    "def calculate_price(*my_args, **kwargs):\n",
    "    fee = my_args[0]\n",
    "    total = 0\n",
    "    for item, price in kwargs.items():\n",
    "        print(f'Adding {item} to the list')\n",
    "        total += price\n",
    "    \n",
    "    return fee * total\n",
    "\n",
    "cost = calculate_price(1.1, tomatoes=1.2, potatoes=0.75, chocolate=3.2)\n",
    "print(round(cost, 2))"
   ]
  },
  {
   "cell_type": "code",
   "execution_count": null,
   "metadata": {},
   "outputs": [],
   "source": []
  }
 ],
 "metadata": {
  "interpreter": {
   "hash": "aee8b7b246df8f9039afb4144a1f6fd8d2ca17a180786b69acc140d282b71a49"
  },
  "kernelspec": {
   "display_name": "Python 3.9.0 64-bit",
   "name": "python3"
  },
  "language_info": {
   "codemirror_mode": {
    "name": "ipython",
    "version": 3
   },
   "file_extension": ".py",
   "mimetype": "text/x-python",
   "name": "python",
   "nbconvert_exporter": "python",
   "pygments_lexer": "ipython3",
   "version": "3.9.0"
  },
  "orig_nbformat": 4
 },
 "nbformat": 4,
 "nbformat_minor": 2
}
