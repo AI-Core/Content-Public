{
 "cells": [
  {
   "attachments": {},
   "cell_type": "markdown",
   "metadata": {},
   "source": [
    "# Operators"
   ]
  },
  {
   "attachments": {},
   "cell_type": "markdown",
   "metadata": {},
   "source": [
    "## What is the result of the following expression in Python: `5 < 3`?\n",
    "\n",
    "- `True`\n",
    "- `False` ***\n",
    "- `None`\n",
    "- `Error`"
   ]
  },
  {
   "attachments": {},
   "cell_type": "markdown",
   "metadata": {},
   "source": [
    "## Which of the following is a logical operator in Python?\n",
    "\n",
    "- `+`\n",
    "- `-`\n",
    "- `*`\n",
    "- `and` ***"
   ]
  },
  {
   "attachments": {},
   "cell_type": "markdown",
   "metadata": {},
   "source": [
    "## What is the result of the following Python code snippet?\n",
    "\n",
    "``` python\n",
    "x = 5\n",
    "y = 10\n",
    "z = 15\n",
    "result = (x < y) and (y < z)\n",
    "print(result)\n",
    "```\n",
    "\n",
    "- `True` ***\n",
    "- `False`\n",
    "- `None`\n",
    "- `Error`\n",
    "\n"
   ]
  },
  {
   "attachments": {},
   "cell_type": "markdown",
   "metadata": {},
   "source": [
    "## Which of the following is an identity operator in Python?\n",
    "\n",
    "- `+`\n",
    "- `-`\n",
    "- `*`\n",
    "- `is` ***\n"
   ]
  },
  {
   "attachments": {},
   "cell_type": "markdown",
   "metadata": {},
   "source": [
    "## In Python, what is the relationship between the place in memory and the identity of an object?\n",
    "\n",
    "- Every object has a unique identity, but its place in memory may change\n",
    "- Every object has a unique place in memory, but its identity may change ***\n",
    "- The place in memory and the identity of an object are the same thing\n",
    "- The place in memory and the identity of an object are unrelated"
   ]
  },
  {
   "attachments": {},
   "cell_type": "markdown",
   "metadata": {},
   "source": [
    "## What is the result of the following Python code snippet?\n",
    "\n",
    "``` python\n",
    "x = [1, 2, 3]\n",
    "y = [1, 2, 3]\n",
    "result = x is y\n",
    "print(result)\n",
    "```\n",
    "\n",
    "- `True`\n",
    "- `False` ***\n",
    "- `None`\n",
    "- `Error`\n",
    "\n",
    "\n"
   ]
  },
  {
   "attachments": {},
   "cell_type": "markdown",
   "metadata": {},
   "source": [
    "## What is the output of the following Python code snippet?\n",
    "\n",
    "``` python\n",
    "fruits = [\"apple\", \"banana\", \"cherry\"]\n",
    "if \"apple\" in fruits:\n",
    "    print(\"Yes, apple is in the fruits list\")\n",
    "else:\n",
    "    print(\"No, apple is not in the fruits list\")\n",
    "```\n",
    "\n",
    "- `Yes, apple is in the fruits list` ***\n",
    "- `No, apple is not in the fruits list`\n",
    "- `Error`\n",
    "- `None`"
   ]
  }
 ],
 "metadata": {
  "language_info": {
   "name": "python"
  },
  "orig_nbformat": 4
 },
 "nbformat": 4,
 "nbformat_minor": 2
}
