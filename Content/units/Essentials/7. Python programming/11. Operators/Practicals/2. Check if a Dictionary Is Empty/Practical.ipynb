{
 "cells": [
  {
   "cell_type": "markdown",
   "id": "76681cc9",
   "metadata": {},
   "source": [
    "# Check if a Dictionary Is Empty"
   ]
  },
  {
   "cell_type": "markdown",
   "id": "987c4c51",
   "metadata": {},
   "source": [
    "#### 1. Create a variable called `my_dict` and assign it the value `{}`"
   ]
  },
  {
   "cell_type": "code",
   "execution_count": null,
   "id": "8ff7ad25",
   "metadata": {},
   "outputs": [],
   "source": []
  },
  {
   "attachments": {},
   "cell_type": "markdown",
   "id": "08719dc3",
   "metadata": {},
   "source": [
    "#### 2. Check if `my_dict` is empty.\n",
    "\n",
    "The result should be a boolean."
   ]
  },
  {
   "cell_type": "code",
   "execution_count": null,
   "id": "17d28fa8",
   "metadata": {},
   "outputs": [],
   "source": []
  },
  {
   "cell_type": "markdown",
   "id": "88430d65",
   "metadata": {},
   "source": [
    "#### 3. Create a variable called `my_dict_2` and assign it the value `{\"key_1\": 1, \"key_2\": 2}`"
   ]
  },
  {
   "cell_type": "code",
   "execution_count": null,
   "id": "5878f9f0",
   "metadata": {},
   "outputs": [],
   "source": []
  },
  {
   "cell_type": "markdown",
   "id": "7b9dd747",
   "metadata": {},
   "source": [
    "#### 4. Check if `my_dict_2` is empty"
   ]
  },
  {
   "cell_type": "code",
   "execution_count": null,
   "id": "e75753e0",
   "metadata": {},
   "outputs": [],
   "source": []
  }
 ],
 "metadata": {
  "kernelspec": {
   "display_name": "content-projects_new",
   "language": "python",
   "name": "python3"
  },
  "language_info": {
   "name": "python",
   "version": "3.10.8 (main, Nov 24 2022, 14:13:03) [GCC 11.2.0]"
  },
  "vscode": {
   "interpreter": {
    "hash": "4b961f8166aad6ccb4cf65d0f9c742ef9c6c23ffe83ad932438cd83ed96aebaf"
   }
  }
 },
 "nbformat": 4,
 "nbformat_minor": 5
}
