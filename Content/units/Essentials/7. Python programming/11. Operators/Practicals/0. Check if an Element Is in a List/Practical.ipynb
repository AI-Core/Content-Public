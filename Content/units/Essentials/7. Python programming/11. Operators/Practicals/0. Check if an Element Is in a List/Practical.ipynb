{
 "cells": [
  {
   "cell_type": "markdown",
   "id": "e83c42e7",
   "metadata": {},
   "source": [
    "# Check if an Element Is in a List"
   ]
  },
  {
   "cell_type": "markdown",
   "id": "6fb78177",
   "metadata": {},
   "source": [
    "#### 1. Create a list called `my_list` and add the following elements to it: `1`, `2`, `3`, `4`, `5`"
   ]
  },
  {
   "cell_type": "code",
   "execution_count": null,
   "id": "1f944e88",
   "metadata": {},
   "outputs": [],
   "source": []
  },
  {
   "attachments": {},
   "cell_type": "markdown",
   "id": "1a5ddbec",
   "metadata": {},
   "source": [
    "#### 2. Check if `1` is in `my_list`.\n",
    "\n",
    "The result should be a boolean."
   ]
  },
  {
   "cell_type": "code",
   "execution_count": null,
   "id": "785607e3",
   "metadata": {},
   "outputs": [],
   "source": []
  },
  {
   "cell_type": "markdown",
   "id": "0fd38987",
   "metadata": {},
   "source": [
    "#### 3. Check if `6` is in `my_list`"
   ]
  },
  {
   "cell_type": "code",
   "execution_count": null,
   "id": "538b7c01",
   "metadata": {},
   "outputs": [],
   "source": []
  },
  {
   "cell_type": "markdown",
   "id": "e91d2899",
   "metadata": {},
   "source": [
    "#### 4. Check if `7` is NOT in `my_list`"
   ]
  },
  {
   "cell_type": "code",
   "execution_count": null,
   "id": "a0a05ef1",
   "metadata": {},
   "outputs": [],
   "source": []
  }
 ],
 "metadata": {
  "kernelspec": {
   "display_name": "content-projects_new",
   "language": "python",
   "name": "python3"
  },
  "language_info": {
   "name": "python",
   "version": "3.10.8 (main, Nov 24 2022, 14:13:03) [GCC 11.2.0]"
  },
  "vscode": {
   "interpreter": {
    "hash": "4b961f8166aad6ccb4cf65d0f9c742ef9c6c23ffe83ad932438cd83ed96aebaf"
   }
  }
 },
 "nbformat": 4,
 "nbformat_minor": 5
}
