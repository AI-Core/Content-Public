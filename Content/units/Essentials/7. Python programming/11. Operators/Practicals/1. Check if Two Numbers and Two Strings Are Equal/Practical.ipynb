{
 "cells": [
  {
   "cell_type": "markdown",
   "id": "dbf7c402",
   "metadata": {},
   "source": [
    "# Check if Two Numbers and Two Strings Are Equal"
   ]
  },
  {
   "cell_type": "markdown",
   "id": "8dcf50d9",
   "metadata": {},
   "source": [
    "#### 1. Create two variables called `my_number_1` and `my_number_2` and assign them the values `1` and `2` respectively"
   ]
  },
  {
   "cell_type": "code",
   "execution_count": null,
   "id": "791a9500",
   "metadata": {},
   "outputs": [],
   "source": []
  },
  {
   "cell_type": "markdown",
   "id": "f363b51f",
   "metadata": {},
   "source": [
    "#### 2. Check if `my_number_1` is equal to `my_number_2` using the `==` operator. The result should be a boolean."
   ]
  },
  {
   "cell_type": "code",
   "execution_count": null,
   "id": "da85abd0",
   "metadata": {},
   "outputs": [],
   "source": []
  },
  {
   "attachments": {},
   "cell_type": "markdown",
   "id": "bac01633",
   "metadata": {},
   "source": [
    "#### 3. Check if `my_number_1` and `my_number_2` are the same object using the `is` operator\n",
    "\n",
    "Are they the same? Why or why not?"
   ]
  },
  {
   "cell_type": "code",
   "execution_count": null,
   "id": "a87c4798",
   "metadata": {},
   "outputs": [],
   "source": []
  },
  {
   "attachments": {},
   "cell_type": "markdown",
   "id": "22917ed1",
   "metadata": {},
   "source": [
    "#### 4. Create two lists called `my_list_1` and `my_list_2` and add the following elements to them: `1`, `2`, `3`, `4`, `5`"
   ]
  },
  {
   "cell_type": "code",
   "execution_count": null,
   "id": "7707172f",
   "metadata": {},
   "outputs": [],
   "source": []
  },
  {
   "attachments": {},
   "cell_type": "markdown",
   "id": "125d54e2",
   "metadata": {},
   "source": [
    "#### 5. Check if `my_list_1` is equal to `my_list_2` using the `==` operator.\n",
    "\n",
    "The result should be a boolean."
   ]
  },
  {
   "cell_type": "code",
   "execution_count": null,
   "id": "156ba3e5",
   "metadata": {},
   "outputs": [],
   "source": []
  },
  {
   "attachments": {},
   "cell_type": "markdown",
   "id": "85fdd59f",
   "metadata": {},
   "source": [
    "#### 6. Check if `my_list_1` and `my_list_2` are the same object using the `is` operator.\n",
    "\n",
    "Are they the same? Why or why not?"
   ]
  },
  {
   "cell_type": "code",
   "execution_count": null,
   "id": "9aa528e2",
   "metadata": {},
   "outputs": [],
   "source": []
  }
 ],
 "metadata": {
  "kernelspec": {
   "display_name": "content-projects_new",
   "language": "python",
   "name": "python3"
  },
  "language_info": {
   "name": "python",
   "version": "3.10.8 (main, Nov 24 2022, 14:13:03) [GCC 11.2.0]"
  },
  "vscode": {
   "interpreter": {
    "hash": "4b961f8166aad6ccb4cf65d0f9c742ef9c6c23ffe83ad932438cd83ed96aebaf"
   }
  }
 },
 "nbformat": 4,
 "nbformat_minor": 5
}
