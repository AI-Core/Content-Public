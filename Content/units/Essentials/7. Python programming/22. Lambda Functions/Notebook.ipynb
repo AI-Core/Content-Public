{
 "cells": [
  {
   "cell_type": "markdown",
   "metadata": {},
   "source": [
    "# Lambda Functions"
   ]
  },
  {
   "cell_type": "markdown",
   "metadata": {},
   "source": [
    "## Learning Objectives\n",
    "- Learn Lambda functions in Python.\n",
    "- Learn the syntax of Lambda functions.\n",
    "- Understand sorted(), filter() and map() functions."
   ]
  },
  {
   "cell_type": "markdown",
   "metadata": {},
   "source": [
    "## Introduction"
   ]
  },
  {
   "cell_type": "markdown",
   "metadata": {},
   "source": [
    "Lambda functions are short versions of normal functions. For example, below, we define a small function that accepts a number and returns its square."
   ]
  },
  {
   "cell_type": "code",
   "execution_count": null,
   "metadata": {},
   "outputs": [
    {
     "name": "stdout",
     "output_type": "stream",
     "text": [
      "9\n"
     ]
    }
   ],
   "source": [
    "def func_square(y):\n",
    "    return y ** 2\n",
    "\n",
    "x = func_square(3)\n",
    "print(x)"
   ]
  },
  {
   "cell_type": "markdown",
   "metadata": {},
   "source": [
    "This appears easy; however, since this function is small, it does not have to be defined in a separate part of the code. We can simply use a lambda function.\n",
    "\n",
    "> <font size=+1>Lambda functions are employed to define functions on a single line.</font>"
   ]
  },
  {
   "cell_type": "markdown",
   "metadata": {},
   "source": [
    "## Syntax\n",
    "The syntax is\n",
    "\n",
    "`lambda arguments: expression`\n",
    "\n",
    "Consider the below example using the same function we defined previously."
   ]
  },
  {
   "cell_type": "code",
   "execution_count": 3,
   "metadata": {},
   "outputs": [
    {
     "name": "stdout",
     "output_type": "stream",
     "text": [
      "9\n"
     ]
    }
   ],
   "source": [
    "func_lambda = lambda y: y ** 2\n",
    "\n",
    "x = func_lambda(3)\n",
    "print(x)"
   ]
  },
  {
   "cell_type": "markdown",
   "metadata": {},
   "source": [
    "## Arguments and Small Functions"
   ]
  },
  {
   "cell_type": "markdown",
   "metadata": {},
   "source": [
    "Lambda functions can also accept two or more arguments. For example, below, we define a function that accepts two numbers and returns their sum:"
   ]
  },
  {
   "cell_type": "code",
   "execution_count": 4,
   "metadata": {},
   "outputs": [
    {
     "data": {
      "text/plain": [
       "7"
      ]
     },
     "execution_count": 4,
     "metadata": {},
     "output_type": "execute_result"
    }
   ],
   "source": [
    "func_sum = lambda x, y: x + y\n",
    "\n",
    "func_sum(3, 4)"
   ]
  },
  {
   "cell_type": "markdown",
   "metadata": {},
   "source": [
    "Generally, Lambda functions can be passed as arguments in higher-order functions. Eventually, we will go through higher-order functions that accept lambda functions to perform small operations. \n",
    "\n",
    "Here, we introduce three small functions: sorted(), filter() and map()."
   ]
  },
  {
   "cell_type": "code",
   "execution_count": null,
   "metadata": {},
   "outputs": [],
   "source": [
    "sorted([5, 2, 4, 2, 3])"
   ]
  },
  {
   "cell_type": "code",
   "execution_count": null,
   "metadata": {},
   "outputs": [],
   "source": [
    "got = [('Caitlyn', 'Tully'), ('Arya', 'Stark'), ('Bran', 'Stark'), ('Arya', 'Baratheon'), ('Jon', 'Snow'), ('Jon', 'Targaryen')]\n",
    "\n",
    "sorted(got) # Sort by the given name, and in case it is the same, sort by the last name."
   ]
  },
  {
   "cell_type": "markdown",
   "metadata": {},
   "source": [
    "To sort by last names, we perform the following:"
   ]
  },
  {
   "cell_type": "code",
   "execution_count": null,
   "metadata": {},
   "outputs": [],
   "source": [
    "for element in got:\n",
    "    print(element[1])"
   ]
  },
  {
   "cell_type": "code",
   "execution_count": null,
   "metadata": {},
   "outputs": [],
   "source": [
    "sorted(got, key=lambda x: x[1])"
   ]
  },
  {
   "cell_type": "markdown",
   "metadata": {},
   "source": [
    "To sort by last-name length, we perform the following:"
   ]
  },
  {
   "cell_type": "code",
   "execution_count": null,
   "metadata": {},
   "outputs": [],
   "source": [
    "sorted(got, key=lambda element: len(element[1]))"
   ]
  },
  {
   "cell_type": "markdown",
   "metadata": {},
   "source": [
    "Note that Lambda functions can also be used to apply a function to an iterable."
   ]
  },
  {
   "cell_type": "code",
   "execution_count": null,
   "metadata": {},
   "outputs": [],
   "source": [
    "ls_numbers = [1, 5, 10, 15, 20, 25, 42]\n",
    "ls_numbers * 2"
   ]
  },
  {
   "cell_type": "code",
   "execution_count": null,
   "metadata": {},
   "outputs": [],
   "source": [
    "ls_numbers = [1, 5, 10, 15, 20, 25, 42]\n",
    "# I want to multiply each element by 2\n",
    "ls_twice = [x * 2 for x in ls_numbers] # Comprehension list\n",
    "ls_doubled = map(lambda x: x * 2, ls_numbers)\n",
    "\n",
    "print(ls_twice)\n",
    "print(dir(ls_doubled))\n",
    "print(list(ls_doubled))"
   ]
  },
  {
   "cell_type": "markdown",
   "metadata": {},
   "source": [
    "If a Lambda function has two arguments, it runs until there are no elements in either of the iterables."
   ]
  },
  {
   "cell_type": "code",
   "execution_count": null,
   "metadata": {},
   "outputs": [],
   "source": [
    "fun = lambda x, y: x ** y\n",
    "print(list(map(fun, [1, 3, 3, 4], [1, 3, 4])))\n",
    "print(list(map(fun, [1, 3, 3, 4], [1, 3, 4, 2])))\n",
    "print(list(map(fun, [1, 3], [1, 3, 4, 2])))"
   ]
  },
  {
   "cell_type": "markdown",
   "metadata": {},
   "source": [
    "Elements in a list can also be filtered depending on a certain condition. The condition should return a Boolean."
   ]
  },
  {
   "cell_type": "code",
   "execution_count": null,
   "metadata": {},
   "outputs": [],
   "source": [
    "got = [('Drogon', 508), ('Jon', 103), ('Rhaegal', 273), ('Cersei', 199), ('Arya', 1278)]\n",
    "\n",
    "killers = filter(lambda x: x[1] > 200, got)\n",
    "print(killers)\n",
    "print(list(killers))"
   ]
  },
  {
   "cell_type": "code",
   "execution_count": null,
   "metadata": {},
   "outputs": [],
   "source": [
    "numbers = [1, 2, 3]\n",
    "list(filter(lambda x: (x + 1) * 3 / 3 % 3 == 0, numbers))"
   ]
  },
  {
   "cell_type": "markdown",
   "metadata": {},
   "source": [
    "## Conclusion\n",
    "\n",
    "In this lesson, we reviewed Lambda functions on the surface level. To improve your knowledge and understanding of Lambda functions, engage the practicals and participate in as many challenges as possible. For examples, see [here](https://github.com/IvanYingX/Challenges_AiCore.git)"
   ]
  }
 ],
 "metadata": {
  "interpreter": {
   "hash": "3d597f4c481aa0f25dceb95d2a0067e73c0966dcbd003d741d821a7208527ecf"
  },
  "kernelspec": {
   "display_name": "Python 3.9.1 64-bit ('base': conda)",
   "name": "python3"
  },
  "language_info": {
   "codemirror_mode": {
    "name": "ipython",
    "version": 3
   },
   "file_extension": ".py",
   "mimetype": "text/x-python",
   "name": "python",
   "nbconvert_exporter": "python",
   "pygments_lexer": "ipython3",
   "version": "3.9.13"
  }
 },
 "nbformat": 4,
 "nbformat_minor": 2
}
