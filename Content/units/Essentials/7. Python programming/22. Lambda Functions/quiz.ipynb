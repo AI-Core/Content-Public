{
 "cells": [
  {
   "attachments": {},
   "cell_type": "markdown",
   "metadata": {},
   "source": [
    "# Lambda Functions "
   ]
  },
  {
   "attachments": {},
   "cell_type": "markdown",
   "metadata": {},
   "source": [
    "## What is a lambda function in Python?\n",
    "\n",
    "- A small, anonymous function ***\n",
    "- A built-in function for iterating over a list\n",
    "- A generator function\n",
    "- A function that returns another function\n",
    "\n"
   ]
  },
  {
   "attachments": {},
   "cell_type": "markdown",
   "metadata": {},
   "source": [
    "## What is the main difference between a lambda function and a regular function in Python?\n",
    "\n",
    "- Lambda functions can only have a single line of code ***\n",
    "- Lambda functions must have a name\n",
    "- Lambda functions cannot have arguments\n",
    "- Lambda functions can only return `None`\n"
   ]
  },
  {
   "attachments": {},
   "cell_type": "markdown",
   "metadata": {},
   "source": [
    "## How many expressions can a lambda function have?\n",
    "\n",
    "- Zero\n",
    "-  One ***\n",
    "-  Two\n",
    "- Unlimited\n",
    "\n"
   ]
  },
  {
   "attachments": {},
   "cell_type": "markdown",
   "metadata": {},
   "source": [
    "## Which of the following is the correct syntax for defining a lambda function that adds two numbers?\n",
    "\n",
    "- `lambda x, y: x + y` ***\n",
    "- `lambda x, y: return x + y`\n",
    "- `lambda (x, y): x + y`\n",
    "- `def lambda x, y: x + y`\n"
   ]
  },
  {
   "attachments": {},
   "cell_type": "markdown",
   "metadata": {},
   "source": [
    "## True or False: Lambda functions can be assigned to variables.\n",
    "\n",
    "-  True ***\n",
    "-  False\n",
    "\n"
   ]
  },
  {
   "attachments": {},
   "cell_type": "markdown",
   "metadata": {},
   "source": [
    "## What is the output of the following code?\n",
    "\n",
    "```python\n",
    "add = lambda x, y: x + y\n",
    "print(add(2, 3))\n",
    "```\n",
    "\n",
    "-  A syntax error\n",
    "-  `5` ***\n",
    "-  A lambda function\n",
    "-  `None`"
   ]
  },
  {
   "attachments": {},
   "cell_type": "markdown",
   "metadata": {},
   "source": [
    "## When would you use a lambda function?\n",
    "\n",
    "- When a short simple function is needed for a single use ***\n",
    "- When a function needs to be defined with multiple lines of code\n",
    "- When a function needs to have a name for reuse\n",
    "- When a function needs to maintain state between calls"
   ]
  },
  {
   "attachments": {},
   "cell_type": "markdown",
   "metadata": {},
   "source": [
    "## True or False: Lambda functions can be passed as arguments to other functions.\n",
    "\n",
    "- True ***\n",
    "- False "
   ]
  },
  {
   "attachments": {},
   "cell_type": "markdown",
   "metadata": {},
   "source": [
    "## What is the syntax for using the `map()` function  over an iterable variable in Python?\n",
    "\n",
    "- `map(function, iterable)` ***\n",
    "- `iterable.map(function)`\n",
    "- `function.map(iterable)`\n",
    "- `iterable.function(map)`\n"
   ]
  },
  {
   "attachments": {},
   "cell_type": "markdown",
   "metadata": {},
   "source": [
    "## What does the `map()` function do in Python?\n",
    "\n",
    "- It allows you to process and transform all the items in an iterable without using an explicit `for` loop ***\n",
    "- It sorts the elements of an iterable in ascending order\n",
    "- It adds up all the values of the iterable\n",
    "- It removes duplicate elements from an iterable"
   ]
  }
 ],
 "metadata": {
  "kernelspec": {
   "display_name": "huggingface1",
   "language": "python",
   "name": "python3"
  },
  "language_info": {
   "codemirror_mode": {
    "name": "ipython",
    "version": 3
   },
   "file_extension": ".py",
   "mimetype": "text/x-python",
   "name": "python",
   "nbconvert_exporter": "python",
   "pygments_lexer": "ipython3",
   "version": "3.10.8"
  },
  "orig_nbformat": 4
 },
 "nbformat": 4,
 "nbformat_minor": 2
}
