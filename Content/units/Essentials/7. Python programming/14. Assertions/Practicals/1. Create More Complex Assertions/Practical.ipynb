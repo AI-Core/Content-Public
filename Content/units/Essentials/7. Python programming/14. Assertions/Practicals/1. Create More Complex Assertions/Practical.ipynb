{
 "cells": [
  {
   "cell_type": "markdown",
   "id": "c2449855",
   "metadata": {},
   "source": [
    "# Create More Complex Assertions"
   ]
  },
  {
   "attachments": {},
   "cell_type": "markdown",
   "id": "c0915f32",
   "metadata": {},
   "source": [
    "#### 1. Ask the user for their name and store it in a variable called `name`"
   ]
  },
  {
   "cell_type": "code",
   "execution_count": null,
   "id": "1333534a",
   "metadata": {},
   "outputs": [],
   "source": []
  },
  {
   "attachments": {},
   "cell_type": "markdown",
   "id": "9f935411",
   "metadata": {},
   "source": [
    "#### 2. Ask the user for their age and store it in a variable called `age`"
   ]
  },
  {
   "cell_type": "code",
   "execution_count": null,
   "id": "2bf53937",
   "metadata": {},
   "outputs": [],
   "source": []
  },
  {
   "attachments": {},
   "cell_type": "markdown",
   "id": "1285a4d0",
   "metadata": {},
   "source": [
    "#### 3. Add an assertion that checks if the name is \"John\" and the age is 20. If it is, print out the message \"Hello, John\". If it isn't, raise an AssertionError with the message \"You are not John\""
   ]
  },
  {
   "cell_type": "code",
   "execution_count": null,
   "id": "78a02e7b",
   "metadata": {},
   "outputs": [],
   "source": []
  },
  {
   "attachments": {},
   "cell_type": "markdown",
   "id": "9fb07f5a",
   "metadata": {},
   "source": [
    "#### 4. Add an assertion that checks if the age can be converted to an integer. If it can, print out the message \"Age is a number\". If it can't, raise a ValueError with the message \"Age is not a number\"\n",
    "\n",
    "Remember that the `input` function returns a string. If the string can be converted to an integer, the `int` function will work fine, otherwise the `int` function won't work"
   ]
  },
  {
   "cell_type": "code",
   "execution_count": null,
   "id": "e2d013e0",
   "metadata": {},
   "outputs": [],
   "source": []
  },
  {
   "attachments": {},
   "cell_type": "markdown",
   "id": "39a93b06",
   "metadata": {},
   "source": [
    "#### 5. Run the assertions and enter \"Joan\" and \"20\" as the name and age. What happens?"
   ]
  },
  {
   "cell_type": "code",
   "execution_count": null,
   "id": "4cc3dd98",
   "metadata": {},
   "outputs": [],
   "source": []
  },
  {
   "attachments": {},
   "cell_type": "markdown",
   "id": "3a8e1bed",
   "metadata": {},
   "source": [
    "#### 6. Run the assertions and enter \"John\" and \"twenty\" as the name and age. What happens?"
   ]
  },
  {
   "cell_type": "code",
   "execution_count": null,
   "id": "8c137b47",
   "metadata": {},
   "outputs": [],
   "source": []
  }
 ],
 "metadata": {
  "kernelspec": {
   "display_name": "content-projects_new",
   "language": "python",
   "name": "python3"
  },
  "language_info": {
   "codemirror_mode": {
    "name": "ipython",
    "version": 3
   },
   "file_extension": ".py",
   "mimetype": "text/x-python",
   "name": "python",
   "nbconvert_exporter": "python",
   "pygments_lexer": "ipython3",
   "version": "3.10.8"
  },
  "vscode": {
   "interpreter": {
    "hash": "4b961f8166aad6ccb4cf65d0f9c742ef9c6c23ffe83ad932438cd83ed96aebaf"
   }
  }
 },
 "nbformat": 4,
 "nbformat_minor": 5
}
