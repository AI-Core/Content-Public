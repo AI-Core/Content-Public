{
 "cells": [
  {
   "cell_type": "markdown",
   "id": "d6368a57",
   "metadata": {},
   "source": [
    "# Create a Simple Assertion"
   ]
  },
  {
   "cell_type": "markdown",
   "id": "38cfa4cf",
   "metadata": {},
   "source": [
    "#### 1. Create a python file called \"assertions.py\""
   ]
  },
  {
   "cell_type": "code",
   "execution_count": null,
   "id": "d8876a57",
   "metadata": {},
   "outputs": [],
   "source": []
  },
  {
   "cell_type": "markdown",
   "id": "1cca5035",
   "metadata": {},
   "source": [
    "#### 2. Ask the user for their name and store it in a variable called `name`"
   ]
  },
  {
   "cell_type": "code",
   "execution_count": null,
   "id": "ab967056",
   "metadata": {},
   "outputs": [],
   "source": []
  },
  {
   "cell_type": "markdown",
   "id": "ecdd8dc7",
   "metadata": {},
   "source": [
    "#### 3. Add an assertion that checks if the name is \"John\". If it is, print out the message \"Hello, John\". If it isn't, raise an AssertionError with the message \"You are not John\""
   ]
  },
  {
   "cell_type": "code",
   "execution_count": null,
   "id": "5b91e8e9",
   "metadata": {},
   "outputs": [],
   "source": []
  },
  {
   "cell_type": "markdown",
   "id": "4bf0551e",
   "metadata": {},
   "source": [
    "#### 4. Run the file"
   ]
  },
  {
   "cell_type": "code",
   "execution_count": null,
   "id": "ed309805",
   "metadata": {},
   "outputs": [],
   "source": []
  },
  {
   "cell_type": "markdown",
   "id": "f2adb291",
   "metadata": {},
   "source": [
    "#### 5. When asked for your name, enter anything other than \"John\""
   ]
  },
  {
   "cell_type": "code",
   "execution_count": null,
   "id": "653d84fb",
   "metadata": {},
   "outputs": [],
   "source": []
  },
  {
   "cell_type": "markdown",
   "id": "d1d88370",
   "metadata": {},
   "source": [
    "#### 6. What happened?"
   ]
  },
  {
   "cell_type": "code",
   "execution_count": null,
   "id": "5c2b00ee",
   "metadata": {},
   "outputs": [],
   "source": []
  }
 ],
 "metadata": {},
 "nbformat": 4,
 "nbformat_minor": 5
}
