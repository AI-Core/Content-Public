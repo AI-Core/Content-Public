{
 "cells": [
  {
   "attachments": {},
   "cell_type": "markdown",
   "metadata": {},
   "source": [
    "# Assertions"
   ]
  },
  {
   "attachments": {},
   "cell_type": "markdown",
   "metadata": {},
   "source": [
    "## What is the purpose of the `assert` keyword in Python, and what happens if the assertion fails?\n",
    "\n",
    "- `assert` is used to print a message to the console, and the program continues to run even if the assertion fails\n",
    "- `assert` is used to stop the program if a condition is not met, and the program raises an `AssertionError` if the assertion fails ***\n",
    "- `assert` is used to generate a warning message, and the program continues to run even if the assertion fails\n",
    "- `assert` is used to break out of a loop if a condition is not met, and the program continues to run even if the assertion fails"
   ]
  },
  {
   "attachments": {},
   "cell_type": "markdown",
   "metadata": {},
   "source": [
    "## What is an assertion error in programming, and when does it occur?\n",
    "\n",
    "- An assertion error occurs when the program reaches the end of a file without returning a value, and it typically occurs when a function is called with incorrect arguments\n",
    "- An assertion error occurs when a loop continues indefinitely, and it typically occurs when a loop's condition is not properly defined\n",
    "- An assertion error occurs when an assertion made by the `assert` statement fails, and it typically occurs when a program's assumptions about its inputs or state are violated ***\n",
    "- An assertion error occurs when a program is unable to allocate memory for a new object, and it typically occurs when a program tries to create too many objects at once"
   ]
  }
 ],
 "metadata": {
  "language_info": {
   "name": "python"
  },
  "orig_nbformat": 4
 },
 "nbformat": 4,
 "nbformat_minor": 2
}
