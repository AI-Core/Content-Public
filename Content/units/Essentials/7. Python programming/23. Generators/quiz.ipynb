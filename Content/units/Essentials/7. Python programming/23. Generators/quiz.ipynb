{
 "cells": [
  {
   "attachments": {},
   "cell_type": "markdown",
   "metadata": {},
   "source": [
    "# Generators"
   ]
  },
  {
   "attachments": {},
   "cell_type": "markdown",
   "metadata": {},
   "source": [
    "## What is the primary purpose of generators in Python?\n",
    "\n",
    "- To generate random numbers\n",
    "- To create a sequence of values that can be iterated over ***\n",
    "- To generate HTML code\n",
    "- To create reusable UI components\n",
    "\n"
   ]
  },
  {
   "attachments": {},
   "cell_type": "markdown",
   "metadata": {},
   "source": [
    "## How is a generator function different from a regular function in Python?\n",
    "\n",
    "- It uses parentheses instead of curly braces\n",
    "- It can have multiple return statements\n",
    "- It uses the `yield` keyword instead of `return` ***\n",
    "- It cannot have any arguments\n"
   ]
  },
  {
   "attachments": {},
   "cell_type": "markdown",
   "metadata": {},
   "source": [
    "## Given a generator called `gen`, what is the syntax for calling it?\n",
    "\n",
    "- `gen()`\n",
    "- `next(gen)` ***\n",
    "- `iter(gen)` \n",
    "- `generator(gen)`"
   ]
  },
  {
   "attachments": {},
   "cell_type": "markdown",
   "metadata": {},
   "source": [
    "## What happens when a generator reaches the end of its iteration?\n",
    "\n",
    "- It raises a `GeneratorExit` exception\n",
    "- It raises a `StopIteration` exception ***\n",
    "- It starts the iteration again from the beginning\n",
    "- It returns `None`\n"
   ]
  },
  {
   "attachments": {},
   "cell_type": "markdown",
   "metadata": {},
   "source": [
    "## True or False: Generators allow the creation of infinite series without expending infinite memory resources.\n",
    "\n",
    "- True ***\n",
    "- False"
   ]
  },
  {
   "attachments": {},
   "cell_type": "markdown",
   "metadata": {},
   "source": [
    "## How can you create a generator comprehension statement in Python?\n",
    "\n",
    "- By using the `gen` keyword followed by an expression\n",
    "- By using list comprehensions with square brackets\n",
    "- By using parentheses and a similar syntax to list comprehensions ***\n",
    "- By using the `generator` function from the `itertools` module\n"
   ]
  }
 ],
 "metadata": {
  "language_info": {
   "name": "python"
  },
  "orig_nbformat": 4
 },
 "nbformat": 4,
 "nbformat_minor": 2
}
