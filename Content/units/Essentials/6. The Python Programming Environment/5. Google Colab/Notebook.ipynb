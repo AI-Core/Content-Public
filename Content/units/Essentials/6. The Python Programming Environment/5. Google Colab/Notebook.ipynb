{
 "cells": [
  {
   "attachments": {},
   "cell_type": "markdown",
   "metadata": {},
   "source": [
    "# Google Colab"
   ]
  },
  {
   "attachments": {},
   "cell_type": "markdown",
   "metadata": {},
   "source": [
    "To understand Google Colab, let's start with the concept of *Jupyter Notebook*. \n",
    "> Jupyter Notebook is an open-source web application that allows you to create and share documents containing live code, visualizations, explanatory text, and more. These documents, called *notebooks*, provide an interactive environment for coding and data analysis. Think of it as a digital notebook where you can write code, run it, and see the results instantly.\n",
    "\n",
    "Google Colab builds upon the capabilities of Jupyter Notebook by offering a cloud-based platform. This means you don't need to worry about installing any software or setting up complex environments on your local machine. All you need is a web browser, and you can start coding in Python right away."
   ]
  },
  {
   "attachments": {},
   "cell_type": "markdown",
   "metadata": {},
   "source": [
    "## Benefits of Google Colab\n",
    "\n",
    "- **Cloud-Based Environment**: With Google Colab, your code and data reside in the cloud, which means you can access and work on your projects from anywhere with an internet connection. This also allows for easy collaboration with teammates or sharing your work with others\n",
    "\n",
    "- **Free Access to Computing Resources**: Google Colab provides you with free access to computing resources, which are essential for performing computations and running your code efficiently\n",
    "\n",
    "- **Pre-installed Libraries and Dependencies**: Google Colab comes with popular Python libraries and dependencies pre-installed. This eliminates the need for manual installations, allowing you to start coding right away without worrying about compatibility issues.\n",
    "> Libraries, in the context of programming, are collections of pre-written code that solve specific problems or provide additional functionalities. They contain code that you can utilize in your own programs without having to write everything from scratch. Libraries are designed to save time, promote code reusability, and simplify complex tasks.\n",
    "\n",
    "- **Interactive Execution and Visualization**: You can write code in Colab using *code cells*. These cells can be executed individually or all at once, making it easy to experiment and visualize the output in real-time. \n",
    "\n",
    "- **Integration with Google Drive**: Google Colab seamlessly integrates with Google Drive, allowing you to store and access your notebooks and data files. This integration simplifies data management and makes it easy to share files with collaborators.\n"
   ]
  },
  {
   "attachments": {},
   "cell_type": "markdown",
   "metadata": {},
   "source": [
    "## Accessing Google Colab\n",
    "\n",
    "To access Google Colab, follow these steps:\n",
    "- Open your web browser and go to the Google Colab website: https://colab.research.google.com\n",
    "- If you are not already signed in to your Google account, sign in with your credentials\n",
    "- Once signed in, you will be redirected to the Google Colab home page, where you can start creating and working on notebooks\n",
    "\n",
    "\n",
    "<p align=\"center\">\n",
    "    <img src=\"images/GoogleColabHomepage.png\" height=\"600\" width=\"900\"/>\n",
    "</p>"
   ]
  },
  {
   "attachments": {},
   "cell_type": "markdown",
   "metadata": {},
   "source": [
    "## Google Colab Notebooks\n",
    "\n",
    "A Google Colab notebook is an interactive and collaborative coding environment provided by Google. As mentioned in the introduction, it is based on Jupyter Notebook, which allows you to create and share documents containing live code, visualizations, explanatory text, and more. \n",
    "\n",
    "### Create a new Notebook\n",
    "\n",
    "Creating a new notebook in Google Colab is straightforward. On the Google Colab homepage, click on **File** on top-left corner, and then select the **New Notebook** button.\n",
    "\n",
    "<p align=\"center\">\n",
    "    <img src=\"images/CreateNewNotebook.png\" height=\"600\" width=\"900\"/>\n",
    "</p>\n",
    "\n",
    "A new notebook will be created, and it will open in a new tab in your browser.\n",
    "> By default, the notebook will be named `UntitledX.ipynb`, where `X` is a number representing the notebook's order.\n",
    "\n",
    "#### `.ipynb` extension\n",
    "\n",
    "The `.ipynb` extension stands for *IPython Notebook* and is specific to Jupyter Notebooks. An IPython Notebook is a file format that allows you to create and store interactive code, visualizations, and text elements in a single document.\n"
   ]
  },
  {
   "attachments": {},
   "cell_type": "markdown",
   "metadata": {},
   "source": [
    "## Working with Google Colab Notebooks\n",
    "\n",
    "Google Colab notebooks provide a versatile and interactive environment for coding, documentation, and collaboration. In this section, we will explore key aspects of working with Google Colab notebooks, including *code cells*, *markdown cells*, executing code, and saving/loading notebooks.\n",
    "\n",
    "### Code Cells\n",
    "\n",
    "**Code cells** are the primary building blocks of a Google Colab notebook. They allow you to write and execute Python code directly within the notebook. To create a code cell, click on the `+` button in the toolbar.\n",
    "\n",
    "In a code cell, you can write any valid Python code. Once you've written your code in a code cell, you can execute it by clicking the **Play** button on the left side cell or using the keyboard shortcut `Shift+Enter`. Don't worry about knowing how to write any Python code for now, you will learn how to do so in future lessons. The output of the code cell will be displayed below the cell, including any text output, plots, or errors generated by your code. \n",
    "\n",
    "For demonstration purposes, you can see in the image below some Python code `print('x=5')` written in a code cell. The code cell is executed using the **Play** button and just below it you can see it's output `x=5`.\n",
    "\n",
    "<p align=\"center\">\n",
    "    <img src=\"images/RunningCells.png\" height=\"600\" width=\"900\"/>\n",
    "</p>\n",
    "\n",
    "\n",
    "### Markdown Cells\n",
    "\n",
    "**Markdown cells** allow you to add formatted text, headings, lists, images, links, and more to your Google Colab notebook. They provide a convenient way to include explanations, documentation, or narratives around your code.\n",
    "\n",
    "You will learn more about how to write Markdown in a future lesson, but keep in mind Google Colab support Markdown cells and you can create one using the **+ Text** button, just on the right hand side from the **+ Code** button.\n",
    "\n"
   ]
  },
  {
   "attachments": {},
   "cell_type": "markdown",
   "metadata": {},
   "source": [
    "## Saving and Loading Notebooks\n",
    "\n",
    "Saving your Google Colab notebook is crucial to preserve your work and access it later. You can save your notebook to your Google Drive by clicking **File** and then the **Save** button in the toolbar or using the keyboard shortcut `Ctrl+S`. This ensures that your notebook is stored securely in the cloud.\n",
    "\n",
    "To load a saved notebook, you can access it from your Google Drive by going to the **File** menu and selecting **Open Notebook**, or using the keyboard shortcut `Ctrl+O`. You can also upload an existing notebook file (`.ipynb`) to Google Colab by by going to the **File** menu and selecting **Upload** button.\n",
    "\n",
    "By saving and loading notebooks, you can continue working on your projects, share them with others, or revisit them at a later time."
   ]
  },
  {
   "attachments": {},
   "cell_type": "markdown",
   "metadata": {},
   "source": [
    "## Key takeaways\n",
    "\n",
    "- Google Colab is an interactive and collaborative coding environment provided by Google. It allows you to create, edit, and run Jupyter notebooks directly in your web browser.\n",
    "- Google Colab offers free access to computing resources enabling you to execute code and run computationally intensive tasks without the need for local hardware\n",
    "- Pre-installed libraries and dependencies in Google Colab save you time by providing a wide range of commonly used Python libraries, eliminating the need for manual installations\n",
    "- A Google Colab notebook is composed of code cells and markdown cells. Code cells allow you to write and execute Python code, while markdown cells enable you to add formatted text, headings, and other elements to document and explain your code\n",
    "- You can execute code cells in any order, allowing for flexibility and iterative development. The output of code cells is displayed below the cell, including any generated text, plots, or errors\n",
    "- Saving and loading notebooks in Google Colab is crucial for preserving your work. You can save notebooks to your Google Drive and access them later. Uploading and downloading notebook files in the `.ipynb` format allows for easy sharing and collaboration."
   ]
  }
 ],
 "metadata": {
  "language_info": {
   "name": "python"
  }
 },
 "nbformat": 4,
 "nbformat_minor": 2
}
