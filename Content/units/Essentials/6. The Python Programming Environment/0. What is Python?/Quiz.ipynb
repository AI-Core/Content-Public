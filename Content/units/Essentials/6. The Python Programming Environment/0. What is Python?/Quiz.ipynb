{
 "cells": [
  {
   "attachments": {},
   "cell_type": "markdown",
   "metadata": {},
   "source": [
    "# What is Python?"
   ]
  },
  {
   "attachments": {},
   "cell_type": "markdown",
   "metadata": {},
   "source": [
    "## What is Python?\n",
    "\n",
    "- A low-level programming language \n",
    "- A high-level programming language ***\n",
    "- A programming language that is used to create operating systems \n",
    "- An operating system \n",
    "- A compiled programming language "
   ]
  },
  {
   "attachments": {},
   "cell_type": "markdown",
   "metadata": {},
   "source": [
    "##  What is the main drawback of using Python?\n",
    "\n",
    "- It is not a general purpose programming language \n",
    "- It is not a high-level programming language \n",
    "- It is not very fast compared to other programming languages ***\n",
    "- It is not an interpreted programming language \n",
    "- It is not an object-oriented programming language "
   ]
  },
  {
   "attachments": {},
   "cell_type": "markdown",
   "metadata": {},
   "source": [
    "## True or False: A high-level programming language is a programming language that is closer to human languages than to machine languages.\n",
    "\n",
    "- True ***\n",
    "- False "
   ]
  },
  {
   "attachments": {},
   "cell_type": "markdown",
   "metadata": {},
   "source": [
    "## Which of the following statements is true?\n",
    "\n",
    "- Python is a proprietary programming language\n",
    "- You can't share your Python code with others\n",
    "- Python is an open-source programming language ***\n",
    "- You have to pay for using Python\n",
    "- Only the founder of Python and his colleagues can contribute to the development of Python\n"
   ]
  },
  {
   "attachments": {},
   "cell_type": "markdown",
   "metadata": {},
   "source": [
    "## True or False: You can use other people's code in your Python programs.\n",
    "\n",
    "- True ***\n",
    "- False"
   ]
  }
 ],
 "metadata": {
  "language_info": {
   "name": "python"
  },
  "orig_nbformat": 4
 },
 "nbformat": 4,
 "nbformat_minor": 2
}
