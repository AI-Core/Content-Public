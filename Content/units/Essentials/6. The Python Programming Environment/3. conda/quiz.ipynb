{
 "cells": [
  {
   "attachments": {},
   "cell_type": "markdown",
   "metadata": {},
   "source": [
    "# Conda"
   ]
  },
  {
   "attachments": {},
   "cell_type": "markdown",
   "metadata": {},
   "source": [
    "## What is Conda?\n",
    "\n",
    "- Conda is an environment and package management system for Python ***\n",
    "- Conda is a Python module for deep learning\n",
    "- Conda is just a package manager\n",
    "- Conda is a modified form of the Python Programming language, optimised for large datasets\n",
    "- Conda is an operating system"
   ]
  },
  {
   "attachments": {},
   "cell_type": "markdown",
   "metadata": {},
   "source": [
    "## Which command shows the packages currently installed in a Conda environment?\n",
    "\n",
    "- `conda env list`\n",
    "- `conda packages`\n",
    "- `conda list modules`\n",
    "- `conda list` ***\n",
    "- `conda show all`\n"
   ]
  },
  {
   "attachments": {},
   "cell_type": "markdown",
   "metadata": {},
   "source": [
    "## Which of these tasks is Conda **NOT** able to perform?\n",
    "\n",
    "- Install a Python package\n",
    "- Create a new virtual environment with a specific version of Python\n",
    "- Make an exact copy of an existing virtual environment\n",
    "- Create a virtual environment from a specification in a `YAML` file\n",
    "- Modify the source code of a package before installing it ***"
   ]
  },
  {
   "attachments": {},
   "cell_type": "markdown",
   "metadata": {},
   "source": [
    "## What should be added at the end of this command to make it work?\n",
    "\n",
    "```\n",
    "conda env remove -n\n",
    "```\n",
    "- The name of the package you wish to uninstall\n",
    "- The name of the environment you wish to delete ***\n",
    "- Nothing, the command is complete\n"
   ]
  },
  {
   "attachments": {},
   "cell_type": "markdown",
   "metadata": {},
   "source": [
    "## When installing packages with Conda, what does the `-c` flag do?\n",
    "\n",
    "- Tells Conda to copy an existing package\n",
    "- Tells Conda which channel to install the package from ***\n",
    "- Tells Conda to create a new environment and install the package there\n",
    "- Tells Conda to check the package integrity before installation"
   ]
  },
  {
   "attachments": {},
   "cell_type": "markdown",
   "metadata": {},
   "source": [
    "## Which of the following is **NOT** a valid method to make an exact copy of an existing Conda environment?\n",
    "\n",
    "- Create a new Conda environment, install `pip` and then install all the entries in a `requirements.txt` generated from the existing environment\n",
    "- Save the output of `conda env export` from your existing Conda environment into a `YAML` file, and then build a new environment from that `YAML` file\n",
    "- Use the `conda create --name <myclone> --clone <myenv>` command, specifying the names of the existing and new environments\n",
    "- Find the environment file on your hard drive, copy it and rename it ***"
   ]
  }
 ],
 "metadata": {
  "language_info": {
   "name": "python"
  },
  "orig_nbformat": 4
 },
 "nbformat": 4,
 "nbformat_minor": 2
}
