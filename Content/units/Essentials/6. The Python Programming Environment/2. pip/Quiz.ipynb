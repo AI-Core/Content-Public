{
 "cells": [
  {
   "attachments": {},
   "cell_type": "markdown",
   "metadata": {},
   "source": [
    "# pip"
   ]
  },
  {
   "attachments": {},
   "cell_type": "markdown",
   "metadata": {},
   "source": [
    "## What is pip?\n",
    "\n",
    "- A text editor \n",
    "- A Python package manager ***\n",
    "- An operating system \n",
    "- A programming language\n",
    "- A web browser"
   ]
  },
  {
   "attachments": {},
   "cell_type": "markdown",
   "metadata": {},
   "source": [
    "## What is the command to install a package using pip?\n",
    "\n",
    "- `pip fetch package_name` \n",
    "- `pip install package_name` ***\n",
    "- `pip download package_name `\n",
    "- `pip clone package_name `\n",
    "- `pip get package_name`"
   ]
  },
  {
   "attachments": {},
   "cell_type": "markdown",
   "metadata": {},
   "source": [
    "## Which of the following is a valid pip command?\n",
    "\n",
    "- `pip uninstall`\n",
    "- `pip create` \n",
    "- `pip list` ***\n",
    "- `pip make` \n",
    "- `pip delete` "
   ]
  },
  {
   "attachments": {},
   "cell_type": "markdown",
   "metadata": {},
   "source": [
    "## Which of the following is **NOT** a valid pip command?\n",
    "\n",
    "- `pip list`\n",
    "- `pip search`\n",
    "- `pip config`\n",
    "- `pip flip` ***\n",
    "- `pip install`"
   ]
  }
 ],
 "metadata": {
  "language_info": {
   "name": "python"
  },
  "orig_nbformat": 4
 },
 "nbformat": 4,
 "nbformat_minor": 2
}
