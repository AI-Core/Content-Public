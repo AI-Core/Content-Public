{
 "cells": [
  {
   "attachments": {},
   "cell_type": "markdown",
   "metadata": {},
   "source": [
    "## InstructGPT\n",
    "\n",
    "> InstructGPT is a large language model trained to produce a single text response to an instruction provided by the human user. \n",
    "\n",
    "![](./images/GPT-3%20vs%20InstructGPT.png)\n",
    "\n",
    "- InstructGPT is produced by fine-tuning GPT-3 using human feedback.\n",
    "- The InstructGPT models are able to generate preferred responses to GPT-3, despite having less than 100x fewer parameters (1.3B compared to 175B).\n",
    "- The InstructGPT models are now the default models deployed on the OpenAI API, so when you provide a prompt the models use it as an instruction, rather than as a prompt to be completed.\n",
    "\n",
    "ChatGPT is trained using a similar approach to InstructGPT.\n",
    "- Collect suitable responses written by human labellers\n",
    "\n",
    "\n"
   ]
  },
  {
   "cell_type": "markdown",
   "metadata": {},
   "source": []
  }
 ],
 "metadata": {
  "kernelspec": {
   "display_name": "Python 3",
   "language": "python",
   "name": "python3"
  },
  "language_info": {
   "name": "python",
   "version": "3.9.0"
  },
  "orig_nbformat": 4,
  "vscode": {
   "interpreter": {
    "hash": "aee8b7b246df8f9039afb4144a1f6fd8d2ca17a180786b69acc140d282b71a49"
   }
  }
 },
 "nbformat": 4,
 "nbformat_minor": 2
}
