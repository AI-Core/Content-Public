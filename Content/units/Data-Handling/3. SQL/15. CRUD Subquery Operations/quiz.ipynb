{
 "cells": [
  {
   "attachments": {},
   "cell_type": "markdown",
   "metadata": {},
   "source": [
    "# CRUD Subquery Operations"
   ]
  },
  {
   "attachments": {},
   "cell_type": "markdown",
   "metadata": {},
   "source": [
    "## Which of the following are reasons to use subqueries to perform CRUD operations? Select all that apply.\n",
    "\n",
    "- It is less prone to error than manually entering the data ***\n",
    "- It is more efficient as large amount of data can be inserted at once ***\n",
    "- Some data can't be inserted without using a subquery\n",
    "- Subqueries bypass table constraints when used\n",
    "- Subqueries guarantee that `NULL` values won't appear in our results"
   ]
  },
  {
   "attachments": {},
   "cell_type": "markdown",
   "metadata": {},
   "source": [
    "## Which of following do you need to be aware of when using the `DELETE` clause with subqueries? Select all that apply.\n",
    "\n",
    "- Another table in your database might depend on the records so a constraint would need to be removed to delete them ***\n",
    "- It is best to first use `SELECT` to select the records you want to delete before deleting them ***\n",
    "- You can't delete individual rows from a table, deleting needs to be done by first using `TRUNCATE` to truncate the table\n",
    "- When deleting you might delete rows another table depends on and SQL won't tell you this is the case\n"
   ]
  }
 ],
 "metadata": {
  "kernelspec": {
   "display_name": "base",
   "language": "python",
   "name": "python3"
  },
  "language_info": {
   "name": "python",
   "version": "3.10.9"
  },
  "orig_nbformat": 4,
  "vscode": {
   "interpreter": {
    "hash": "a2592652612463181e69ac003232387e3e9a99279aa6b168e76f5df16d5110f4"
   }
  }
 },
 "nbformat": 4,
 "nbformat_minor": 2
}
