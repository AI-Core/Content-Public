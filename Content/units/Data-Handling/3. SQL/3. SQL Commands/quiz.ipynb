{
 "cells": [
  {
   "attachments": {},
   "cell_type": "markdown",
   "metadata": {},
   "source": [
    "# SQL Commands"
   ]
  },
  {
   "attachments": {},
   "cell_type": "markdown",
   "metadata": {},
   "source": [
    "## What are some of the Data Query Language (DQL) command keywords? Select all that apply.\n",
    "\n",
    "- `SELECT`  ***\n",
    "- `SELECT INTO` ***\n",
    "- `DISTINCT` ***\n",
    "- `COMMIT`\n",
    "- `ALTER`\n"
   ]
  },
  {
   "attachments": {},
   "cell_type": "markdown",
   "metadata": {},
   "source": [
    "## What are some of the Data Definition Language (DDL) commands? Select all that apply.\n",
    "\n",
    "- `CREATE` ***\n",
    "- `ALTER` ***\n",
    "- `DROP` ***\n",
    "- `SAVEPOINT`\n",
    "- `ROLLBACK`\n",
    "- `SELECT`"
   ]
  },
  {
   "attachments": {},
   "cell_type": "markdown",
   "metadata": {},
   "source": [
    "## What are some of the Data Control Language (DCL) commands? Select all that apply.\n",
    "\n",
    "- `GRANT` ***\n",
    "- `REVOKE` ***\n",
    "- `SELECT`\n",
    "- `SELECT INTO`\n",
    "- `ALTER`\n"
   ]
  },
  {
   "attachments": {},
   "cell_type": "markdown",
   "metadata": {},
   "source": [
    "## What are some of the Transaction Control Languages (TCL) commands? Select all that apply.\n",
    "\n",
    "- `SAVEPOINT` ***\n",
    "- `ROLLBACK` ***\n",
    "- `COMMIT` ***\n",
    "- `SELECT`\n",
    "- `ALTER`\n",
    "- `DROP`"
   ]
  },
  {
   "attachments": {},
   "cell_type": "markdown",
   "metadata": {},
   "source": [
    "## What is the error in the following SQL code in relation to the SQL order of execution?\n",
    "\n",
    "```SQL\n",
    "SELECT title as film_title,\n",
    "       rental_cost\n",
    "FROM film\n",
    "WHERE film_title = 'Pulp Fiction'\n",
    "```\n",
    "\n",
    "- `*` should have been used to `SELECT` all columns in the table\n",
    "- The `WHERE` statement comes before `SELECT` in the order of execution so we can't use the `film_title` column to filter the data ***\n",
    "- An alias hasn't been given to the `film` table in the `FROM` statement so we can filter it in the `WHERE` statement\n",
    "- `SELECT` is before `WHERE` in the order so we need to also filter by `rental_cost` in the `WHERE` statement "
   ]
  },
  {
   "attachments": {},
   "cell_type": "markdown",
   "metadata": {},
   "source": [
    "## Which statements are true about the SQL order of execution? Select all that apply.\n",
    "\n",
    "- `FROM` is first in the order ***\n",
    "- `GROUP BY` comes before `ORDER BY`***\n",
    "- `HAVING` is directly after `GROUP BY` ***\n",
    "- `LIMIT` is 5th in the order\n",
    "- `JOIN` is 2nd last in the order"
   ]
  },
  {
   "attachments": {},
   "cell_type": "markdown",
   "metadata": {},
   "source": [
    "## Which statements are true about the SQL order of execution assuming all clauses are used? Select all that apply.\n",
    "\n",
    "- `WHERE`, `GROUP BY` and `HAVING` are in the correct order ***\n",
    "- `JOIN`, `WHERE` and `GROUP BY` are in the correct order ***\n",
    "- `SELECT`, `FROM`, `JOIN` are in the correct order \n",
    "- `JOIN`, `SELECT`, `LIMIT` is in the correct order ***\n",
    "- `HAVING`, `SELECT`, `FROM` is in the correct order"
   ]
  }
 ],
 "metadata": {
  "kernelspec": {
   "display_name": "base",
   "language": "python",
   "name": "python3"
  },
  "language_info": {
   "name": "python",
   "version": "3.10.9"
  },
  "orig_nbformat": 4,
  "vscode": {
   "interpreter": {
    "hash": "a2592652612463181e69ac003232387e3e9a99279aa6b168e76f5df16d5110f4"
   }
  }
 },
 "nbformat": 4,
 "nbformat_minor": 2
}
