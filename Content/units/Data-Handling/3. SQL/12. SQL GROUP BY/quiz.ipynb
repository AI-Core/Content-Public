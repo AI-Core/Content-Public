{
 "cells": [
  {
   "attachments": {},
   "cell_type": "markdown",
   "metadata": {},
   "source": [
    "# SQL GROUP BY "
   ]
  },
  {
   "attachments": {},
   "cell_type": "markdown",
   "metadata": {},
   "source": [
    "## Which statements are true about the `GROUP BY` statement? Select all that apply.\n",
    "\n",
    "- When using `GROUP BY` aggregations can be performed on the non-grouped columns ***\n",
    "- When using `GROUP BY` records in the specified column/s will be grouped together if they have the same value ***\n",
    "- The `WHERE `statement is used to filter records after a `GROUP BY`\n",
    "- `GROUP BY` is second in the SQL order of execution\n"
   ]
  },
  {
   "attachments": {},
   "cell_type": "markdown",
   "metadata": {},
   "source": [
    "## Why will an error be generated from the following code which was meant to get the average `rental_rate` of films?\n",
    "\n",
    "```SQL\n",
    "SELECT title,\n",
    "       rental_rate\n",
    "FROM \n",
    "    film\n",
    "GROUP BY \n",
    "    title;\n",
    "```\n",
    "\n",
    "- The is no `AVG` aggregation applied to the `rental_rate` column so the `GROUP BY` will fail as there is many different values of `rental_rate` to choose from ***\n",
    "- The `GROUP BY` should have been written before the `FROM` clause\n",
    "- The `GROUP BY` can't be applied to columns which are of type `text`\n",
    "- An alias for the columns wasn't used so SQL doesn't know how to group the column\n",
    "- There should be multiple columns in the `GROUP BY` statement"
   ]
  },
  {
   "attachments": {},
   "cell_type": "markdown",
   "metadata": {},
   "source": [
    "## When can `GROUP BY` statements be useful? Select all that apply.\n",
    "\n",
    "- To group then aggregate all rows in a table ***\n",
    "- To summarise data to allow further analysis ***\n",
    "- To sort the data in the correct order\n",
    "- To perform pre-filtering of the data\n",
    "- To cherry pick specific rows from data "
   ]
  },
  {
   "attachments": {},
   "cell_type": "markdown",
   "metadata": {},
   "source": [
    "## Which statements are true about the `HAVING` clause? Select all that apply.\n",
    "\n",
    "- Filtering records with `HAVING` is performed before the `WHERE` statement\n",
    "- `HAVING` is used after a `GROUP BY` to filter the data based on the results of the grouping ***\n",
    "- When you use a `HAVING` statement you must always have a `WHERE` statement\n",
    "- You can use the same operators in a `WHERE` statement and `HAVING` statement ***\n",
    "- `HAVING` comes before `WHERE` in the SQL order of execution\n"
   ]
  },
  {
   "attachments": {},
   "cell_type": "markdown",
   "metadata": {},
   "source": [
    "## Which of the following is true about the following code? Select all that apply.\n",
    "\n",
    "``` SQL\n",
    "SELECT rating as film_rating,\n",
    "       AVG(rental_rate) as average_rental_rate\n",
    "FROM \n",
    "    film\n",
    "WHERE \n",
    "    title LIKE 'L%'\n",
    "GROUP BY \n",
    "    rating\n",
    "HAVING\n",
    "    AVG(rental_rate) > 1.6;\n",
    "```\n",
    "\n",
    "- The query will select all movies beginning with `L`, then group all records by `rating` ***\n",
    "- After grouping the records by `rating`. The query will display the average rental rate of ratings if the average is greater than `1.6`. ***\n",
    "- The query will only group records not beginning with the letter `L`\n",
    "- The query will group all records together\n",
    "- After grouping the records by `rating`. The query will display the average rental rate of ratings if the average is less than `1.6`."
   ]
  }
 ],
 "metadata": {
  "kernelspec": {
   "display_name": "base",
   "language": "python",
   "name": "python3"
  },
  "language_info": {
   "name": "python",
   "version": "3.10.9"
  },
  "orig_nbformat": 4,
  "vscode": {
   "interpreter": {
    "hash": "a2592652612463181e69ac003232387e3e9a99279aa6b168e76f5df16d5110f4"
   }
  }
 },
 "nbformat": 4,
 "nbformat_minor": 2
}
