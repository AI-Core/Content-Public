{
 "cells": [
  {
   "cell_type": "markdown",
   "metadata": {},
   "source": [
    "# Database Optimisation"
   ]
  },
  {
   "cell_type": "markdown",
   "metadata": {},
   "source": [
    "## What is the primary goal of normalization in database design?\n",
    "\n",
    "- To increase redundancy\n",
    "- To maximize data duplication\n",
    "- To minimize data redundancy and dependency ***\n",
    "- To complicate data storage"
   ]
  },
  {
   "cell_type": "markdown",
   "metadata": {},
   "source": [
    "## Which normal form eliminates partial dependencies?\n",
    "\n",
    "- First Normal Form (1NF)\n",
    "- Second Normal Form (2NF)\n",
    "- Third Normal Form (3NF) ***\n",
    "- Fourth Normal Form (4NF)"
   ]
  },
  {
   "cell_type": "markdown",
   "metadata": {},
   "source": [
    "## True or False: Transitive dependencies occur when an attribute is functionally dependent on another non-prime attribute, rather than directly on the primary key.\n",
    "\n",
    "- True ***\n",
    "- False"
   ]
  },
  {
   "cell_type": "markdown",
   "metadata": {},
   "source": [
    "## Which of the following criteria is NOT required for a table to satisfy First Normal Form (1NF)?\n",
    "\n",
    "- Atomicity of data\n",
    "- Presence of a composite primary key ***\n",
    "- Absence of repeating groups\n",
    "- No duplication of rows or columns"
   ]
  },
  {
   "cell_type": "markdown",
   "metadata": {},
   "source": [
    "## Second Normal Form (2NF) addresses which type of dependency?\n",
    "\n",
    "- Transitive dependency\n",
    "- Partial dependency ***\n",
    "- Functional dependency \n",
    "- Composite dependency"
   ]
  }
 ],
 "metadata": {
  "language_info": {
   "name": "python"
  },
  "orig_nbformat": 4
 },
 "nbformat": 4,
 "nbformat_minor": 2
}
