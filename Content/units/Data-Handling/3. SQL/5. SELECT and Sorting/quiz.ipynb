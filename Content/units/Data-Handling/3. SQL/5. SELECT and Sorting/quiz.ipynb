{
 "cells": [
  {
   "attachments": {},
   "cell_type": "markdown",
   "metadata": {},
   "source": [
    "# SELECT and sorting\n"
   ]
  },
  {
   "attachments": {},
   "cell_type": "markdown",
   "metadata": {},
   "source": [
    "## Which of the following common arithmetic operators can be used with the `SELECT` clause? Select all that apply.\n",
    "\n",
    "- `+` addition ***\n",
    "- `%` modulo ***\n",
    "- `/` division ***\n",
    "- `\\` division \n",
    "- `&&` floor"
   ]
  },
  {
   "attachments": {},
   "cell_type": "markdown",
   "metadata": {},
   "source": [
    "## Which of the following statements are true about the `ORDER BY` clause?\n",
    "\n",
    "- `ORDER BY` will sort in ascending order by default ***\n",
    "- `ORDER BY` will sort in descending order by default\n",
    "- Multiple columns can be used in the `ORDER BY` statement ***\n",
    "- Only a single column can be used in the `ORDER BY` statement\n",
    "- You can change the order by using the `ASCENDING` and `DESCENDING` keywords"
   ]
  },
  {
   "attachments": {},
   "cell_type": "markdown",
   "metadata": {},
   "source": [
    "## Which statements are true about the `LIMIT` keyword? Select all that apply.\n",
    "\n",
    "- `LIMIT` will still return records even if the `LIMIT` size is greater than the amount of records that would be returned ***\n",
    "- `LIMIT` will only return records if the amount of records is greater than the value specified in the `LIMIT`\n",
    "- You can offset the records returned using the `OFFSET` keyword ***\n",
    "- `LIMIT` comes before `ORDER BY` in the SQL order of execution\n",
    "- `LIMIT ALL` is the same as not specifying `LIMIT` ***"
   ]
  },
  {
   "attachments": {},
   "cell_type": "markdown",
   "metadata": {},
   "source": [
    "## What is true about using quotes when writing SQL queries? Select all that apply.\n",
    "\n",
    "- Double quotes are used to reference a SQL object ***\n",
    "- Double quotes are used to reference a string \n",
    "- If I wanted to reference the column `BARCODE` then single quotes should be used\n",
    "- If I wanted to match the string `hello world` then it should be in double quotes \n",
    "- SQL will always assume tables and column names are lowercase unless quotes are used ***"
   ]
  },
  {
   "attachments": {},
   "cell_type": "markdown",
   "metadata": {},
   "source": [
    "## What is true about using the `ROUND` function? Select all that apply.\n",
    "\n",
    "- `ROUND` has a default rounding precision of 0 ***\n",
    "- `ROUND(rental_rate, 2)` is the correct way to round the `rental_rate` column to 2 decimal places ***\n",
    "- `ROUND rental_rate TO 2` is the correct way to `ROUND` the `rental_rate` column to 2 decimal places\n",
    "- `ROUND` has the syntax `ROUND(<source_value>, n)` where `n` is the precision to round the `source_value` to ***"
   ]
  }
 ],
 "metadata": {
  "kernelspec": {
   "display_name": "base",
   "language": "python",
   "name": "python3"
  },
  "language_info": {
   "name": "python",
   "version": "3.10.9"
  },
  "orig_nbformat": 4,
  "vscode": {
   "interpreter": {
    "hash": "a2592652612463181e69ac003232387e3e9a99279aa6b168e76f5df16d5110f4"
   }
  }
 },
 "nbformat": 4,
 "nbformat_minor": 2
}
