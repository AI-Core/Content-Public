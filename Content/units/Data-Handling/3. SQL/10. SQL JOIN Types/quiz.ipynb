{
 "cells": [
  {
   "attachments": {},
   "cell_type": "markdown",
   "metadata": {},
   "source": [
    "# SQL `JOIN` Types"
   ]
  },
  {
   "attachments": {},
   "cell_type": "markdown",
   "metadata": {},
   "source": [
    "## Which statements are true about `CROSS JOIN`s? Select all that apply.\n",
    "\n",
    "- `CROSS JOIN`s can be very useful if you want to generate test data ***\n",
    "- `CROSS JOIN`s generate minimal amounts of data usually \n",
    "- `CROSS JOIN`s get the cartesian product of the columns being joined ***\n",
    "- `CROSS JOIN`s are used when you want to `JOIN` a table onto itself\n",
    "- `CROSS JOIN`s are one of the most commonly used `JOIN`s"
   ]
  },
  {
   "attachments": {},
   "cell_type": "markdown",
   "metadata": {},
   "source": [
    "## Which statements are true about `SELF JOIN`s? Select all that apply.\n",
    "\n",
    "- `SELF JOIN`s usually generate a massive amount of data so should be used carefully \n",
    "- `SELF JOIN`s are one of the most popular `JOIN`s\n",
    "- When performing a `SELF JOIN` you will need to alias the same table twice ***\n",
    "- `SELF JOIN`s can only be performed on more than one table\n",
    "- `SELF JOIN`s are useful for tables which reference themselves ***\n"
   ]
  },
  {
   "attachments": {},
   "cell_type": "markdown",
   "metadata": {},
   "source": [
    "## Which statements are true about `OUTER JOIN`s? Select all that apply.\n",
    "\n",
    "- `OUTER JOIN`s can be performed with the options `FULL`, `LEFT` and `RIGHT` ***\n",
    "- `OUTER JOIN`s are the best option when you want to keep all records in at least one table ***\n",
    "- `OUTER JOIN`s can be performed with the options `FULL`, `INSIDE` and `OUTSIDE` \n",
    "- `OUTER JOIN`s are useful when you want to generate all combinations of values between two columns\n",
    "- `FULL OUTER JOIN`s are not useful when you want to compare data between tables"
   ]
  }
 ],
 "metadata": {
  "language_info": {
   "name": "python"
  },
  "orig_nbformat": 4
 },
 "nbformat": 4,
 "nbformat_minor": 2
}
