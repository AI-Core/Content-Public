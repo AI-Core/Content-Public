{
 "cells": [
  {
   "attachments": {},
   "cell_type": "markdown",
   "metadata": {},
   "source": [
    "# Types of subqueries"
   ]
  },
  {
   "attachments": {},
   "cell_type": "markdown",
   "metadata": {},
   "source": [
    "## Which of the following statements are a good use case for single row/scalar subqueries? Select all that apply.\n",
    "\n",
    "- Updating, deleting or inserting data ***\n",
    "- Returning a scalar value to use as a comparison in your `WHERE` and `HAVING` statements ***\n",
    "- Updating multiple values at once in your table\n",
    "- To set the amount of records returned in a `LIMIT` clause\n",
    "- Updating a single value in your table ***"
   ]
  },
  {
   "attachments": {},
   "cell_type": "markdown",
   "metadata": {},
   "source": [
    "## Which statements are true about *correlated subqueries* and *multiple column subqueries*?\n",
    "\n",
    "- Multiple column subqueries are named as such because the outer query contains multiple columns\n",
    "- Correlated subqueries can often be replaced with a `JOIN` ***\n",
    "- Correlated subqueries are named as such since the output of the subquery depends on the **outside query** ***\n",
    "- Correlated subqueries are often more efficient than `JOIN`s"
   ]
  },
  {
   "attachments": {},
   "cell_type": "markdown",
   "metadata": {},
   "source": [
    "## Which of the following statements are true about *nested queries* and *dervied tables*? Select all that apply.\n",
    "\n",
    "- Nested queries are queries nested inside other subqueries  ***\n",
    "- When nesting subqueries the subqueries are evaluated from the outside in \n",
    "- A derived table is named as such since is a table derived from a subquery ***\n",
    "- Derived tables need to be defined in the `WHERE` statement\n",
    "- Derived tables are great to use when you want to operate on some subset of your table ***"
   ]
  }
 ],
 "metadata": {
  "kernelspec": {
   "display_name": "base",
   "language": "python",
   "name": "python3"
  },
  "language_info": {
   "name": "python",
   "version": "3.10.9"
  },
  "orig_nbformat": 4,
  "vscode": {
   "interpreter": {
    "hash": "a2592652612463181e69ac003232387e3e9a99279aa6b168e76f5df16d5110f4"
   }
  }
 },
 "nbformat": 4,
 "nbformat_minor": 2
}
