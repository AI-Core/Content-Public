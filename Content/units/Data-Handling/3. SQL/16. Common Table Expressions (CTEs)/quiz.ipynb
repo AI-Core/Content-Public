{
 "cells": [
  {
   "attachments": {},
   "cell_type": "markdown",
   "metadata": {},
   "source": [
    "# Common Table Expressions (CTEs)"
   ]
  },
  {
   "attachments": {},
   "cell_type": "markdown",
   "metadata": {},
   "source": [
    "## Which of the following are benefits of using CTEs? Select all that apply.\n",
    "\n",
    "- You can reference the same CTE multiple times ***\n",
    "- CTEs can help simplify the logic of complex queries ***\n",
    "- The can often be more performant than using subqueries ***\n",
    "- They create new tables in the database which can be used to solve queries\n",
    "- Though they are often slower than subqueries they are easier to read"
   ]
  },
  {
   "attachments": {},
   "cell_type": "markdown",
   "metadata": {},
   "source": [
    "## Which of the following statements are true about writing CTEs? Select all that apply.\n",
    "\n",
    "- CTEs start with the `WITH` keyword followed by the alias for the CTE then the `AS` keyword ***\n",
    "- Multiple CTEs are separated by commas with the final query separated without comma ***\n",
    "- There is a limit of five to the amount of CTEs you can create\n",
    "- CTEs can be written without an alias\n",
    "- Subqueries can't be use in conjunction with CTEs"
   ]
  }
 ],
 "metadata": {
  "kernelspec": {
   "display_name": "base",
   "language": "python",
   "name": "python3"
  },
  "language_info": {
   "name": "python",
   "version": "3.10.9"
  },
  "orig_nbformat": 4,
  "vscode": {
   "interpreter": {
    "hash": "a2592652612463181e69ac003232387e3e9a99279aa6b168e76f5df16d5110f4"
   }
  }
 },
 "nbformat": 4,
 "nbformat_minor": 2
}
