{
 "cells": [
  {
   "attachments": {},
   "cell_type": "markdown",
   "metadata": {},
   "source": [
    "# <img src=\"./images/SQLIcon.png?modified=23223\" width=80px height=80px style=\"vertical-align: middle;\"> The `WHERE` Clause"
   ]
  },
  {
   "cell_type": "code",
   "execution_count": null,
   "id": "d4857faa",
   "metadata": {},
   "outputs": [],
   "source": [
    "#@title ### Run the following cell to download the necessary files for this lesson { display-mode: \"form\" } \n",
    "#@markdown Don't worry about what's in this collapsed cell\n",
    "\n",
    "!pip install -q ipython\n",
    "print('Downloading video_player.py...')\n",
    "!wget https://s3-eu-west-1.amazonaws.com/aicore-portal-public-prod-307050600709/lesson_files/193a87e2-127f-4c60-a164-1c342ab0a2d7/video_player.py -q -O video_player.py\n",
    "import video_player\n",
    "print('Downloading AND_chaining.mp4...')\n",
    "!wget https://s3-eu-west-1.amazonaws.com/aicore-portal-public-prod-307050600709/lesson_files/193a87e2-127f-4c60-a164-1c342ab0a2d7/AND_chaining.mp4 -q -O AND_chaining.mp4\n"
   ]
  },
  {
   "attachments": {},
   "cell_type": "markdown",
   "metadata": {},
   "source": [
    "The `WHERE` statement allows you to specify the conditions which records in the database must meet, to be included in resultant set of data. The common conditionals are:\n",
    "\n",
    "- `>, >=`: greater than and greater than equal to\n",
    "- `<, <=`: less than less than or equal to\n",
    "- `=`: equal to \n",
    "- `!=`: not equal to\n",
    "\n",
    ">The result of the conditional will return a boolean, so that SQL knows whether to include the records in the final set of data. If the condition is `True` the record will be included otherwise it will be omitted.\n"
   ]
  },
  {
   "cell_type": "code",
   "execution_count": null,
   "metadata": {
    "vscode": {
     "languageId": "sql"
    }
   },
   "outputs": [],
   "source": [
    "SELECT title, \n",
    "       rental_rate,\n",
    "       ROUND((rental_rate / rental_duration), 2) AS rental_rate_per_day, \n",
    "       (rental_rate * rental_duration) AS total_rental_cost, \n",
    "       (rental_rate * rental_duration) + replacement_cost AS total_replacement_cost\n",
    "FROM \n",
    "    film\n",
    "WHERE\n",
    "     rental_rate > 2.49;"
   ]
  },
  {
   "attachments": {},
   "cell_type": "markdown",
   "metadata": {},
   "source": [
    "This query will only return records from the `film` table where the `rental_rate` of the film is greater than `2.49`. In this query we have selected the `rental_rate` column to be displayed. This isn't mandatory, we don't need to `SELECT` the column we're filtering. We could run the query as follows:"
   ]
  },
  {
   "cell_type": "code",
   "execution_count": null,
   "metadata": {
    "vscode": {
     "languageId": "sql"
    }
   },
   "outputs": [],
   "source": [
    "SELECT title, \n",
    "       ROUND((rental_rate / rental_duration), 2) AS rental_rate_per_day, \n",
    "       (rental_rate * rental_duration) AS total_rental_cost, \n",
    "       (rental_rate * rental_duration) + replacement_cost AS total_replacement_cost\n",
    "FROM \n",
    "    film\n",
    "WHERE\n",
    "     rental_rate > 2.49;"
   ]
  },
  {
   "attachments": {},
   "cell_type": "markdown",
   "metadata": {},
   "source": [
    "The query above will return the same data as the first query minus the `rental_rate` column. In the SQL **order of execution**, filtering was applied before the selection of data, so we're allowed to cherry pick the columns we want after the filtering has been applied. \n",
    "\n",
    "There are other operations you can apply in the conditional statement allowing you to filter the data in more complex ways:\n",
    "\n",
    "- `LIKE`: allows you to search for a specific pattern in the data\n",
    "- `IN`: allows you to check if a value is one of multiple choices\n",
    "- `NOT`: used to *negate* a condition, if the condition would normally return `True` then it would instead return `False`\n",
    "- `AND`: allows the combination of conditions, both need to be `True` for the condition to be `True`\n",
    "- `BETWEEN`: select from a range of values, `BETWEEN` is inclusive, `BETWEEN 2 AND 3` is inclusive of `2` and `3`\n",
    "- `OR`: return `True` if one of the one or both of the conditions is `True`\n",
    "\n",
    "### `LIKE`\n",
    "\n",
    "The `LIKE` operator allows you to match patterns of data which can be useful when you don't know the exact value you're looking for. It does this with the use of two wildcards:\n",
    "\n",
    "- `%` this represents **zero or more** of any character\n",
    "- `_` represents exactly **one** character\n",
    "\n",
    "Let's see how these can be used, say we wanted to find all actors in the `actor` table who's `first_name` started with `A`. We could do so with the following query:"
   ]
  },
  {
   "cell_type": "code",
   "execution_count": null,
   "metadata": {
    "vscode": {
     "languageId": "sql"
    }
   },
   "outputs": [],
   "source": [
    "SELECT first_name\n",
    "FROM\n",
    "    actor\n",
    "WHERE\n",
    "    first_name LIKE 'A%';"
   ]
  },
  {
   "attachments": {},
   "cell_type": "markdown",
   "metadata": {},
   "source": [
    "The syntax to construct the `LIKE` statement is, `value LIKE pattern`, where `pattern` is a *string pattern* to match against. In this case we have `first_name` as the value and `'A%'` as the string pattern. The string pattern should always be wrapped in **single quotes**, SQL treats **double quotes** differently. The pattern `A%` means match the first character to be `A` and all subsequent characters can be any character. \n",
    "\n",
    "#### Pattern matching\n",
    "\n",
    "Let's take a look at other common ways of matching patterns using `%` and `_`:\n",
    "\n",
    "- `%er%`: Will match any value that has `er` at any position in the word\n",
    "- `%r`: Checks the last letter of a word is `r`\n",
    "- `%r_`: Checks the second last letter of a word is `r`. Here `_` represents exactly one character and since it is placed directly after `r` then it would represent the last character of the word.\n",
    "- `___`: Finds words containing exactly three characters, using three underscores\n",
    "\n",
    "We can also use the keyword `NOT` to find the inverse of these matches:\n",
    "\n",
    "- `NOT LIKE '%er%'` finds all words that don't contain `er` at any position etc.\n",
    "\n",
    "## `AND`, `OR`, `BETWEEN` and `IN`\n",
    "\n",
    "`AND`, `OR`, `BETWEEN` and `IN` keywords allow you to add additional complexity when filtering with the `WHERE` statement. \n",
    "\n",
    "### `AND`\n",
    "\n",
    "The `AND` keyword will only return rows where both conditions specified by the `AND` clause are `True`:"
   ]
  },
  {
   "cell_type": "code",
   "execution_count": null,
   "metadata": {
    "vscode": {
     "languageId": "sql"
    }
   },
   "outputs": [],
   "source": [
    "SELECT first_name\n",
    "FROM \n",
    "    actor\n",
    "WHERE\n",
    "    first_name LIKE `B%`\n",
    "    AND first_name LIKE `%r_`;"
   ]
  },
  {
   "attachments": {},
   "cell_type": "markdown",
   "metadata": {},
   "source": [
    "This query would only return rows where the `first_name` of the actor started with `B`, using the condition `'B%'`. It would also filter records where the **second last** letter of their `first_name` was `r`(from the second condition `'%r_'`).\n",
    "\n",
    "You can also chain `AND` conditions together to create more complex filtering."
   ]
  },
  {
   "cell_type": "code",
   "execution_count": null,
   "metadata": {
    "vscode": {
     "languageId": "sql"
    }
   },
   "outputs": [],
   "source": [
    "SELECT address,\n",
    "       district,\n",
    "       phone\n",
    "FROM\n",
    "    address\n",
    "WHERE \n",
    "    district LIKE '%Cal%'\n",
    "    AND phone LIKE '%49'\n",
    "    AND address LIKE '1%';"
   ]
  },
  {
   "attachments": {},
   "cell_type": "markdown",
   "metadata": {},
   "source": [
    "The above query filters the `address` table with three separate conditions that all must be `True` for the record to be returned:\n",
    "\n",
    "- `'%Cal%'`: Looks for any `district` which has `Cal` at any place in the word\n",
    "- `'%49'`: Checks for `phone_number`'s ending in the number `49`\n",
    "- `'1%'`: Looks for `addresse`s which start with the number `1`\n",
    "\n",
    "This query filtered the `address` table of size `603` down to just one record, which means the desired conditions. You can see how powerful chaining these conditions together can be to filter to a very specific set of data.\n",
    "\n",
    "<h3 style=\"color: rgb(241, 90, 36)\">Watch it in action</h3>\n"
   ]
  },
  {
   "cell_type": "code",
   "execution_count": null,
   "metadata": {
    "vscode": {
     "languageId": "sql"
    }
   },
   "outputs": [],
   "source": [
    "#@title ### Run the cell to play the video{ display-mode: \"form\" } \n",
    "video_player.play_video(\"AND_chaining.mp4\")"
   ]
  },
  {
   "attachments": {},
   "cell_type": "markdown",
   "metadata": {},
   "source": [
    "### `OR`\n",
    "\n",
    "The `OR` keyword will return `True` if either condition is matched and supports the chaining of multiple `OR` statements. Let's find all districts in the `address` table starting with the letter `A` or `C`:"
   ]
  },
  {
   "cell_type": "code",
   "execution_count": null,
   "metadata": {
    "vscode": {
     "languageId": "sql"
    }
   },
   "outputs": [],
   "source": [
    "SELECT address,\n",
    "       district,\n",
    "       phone\n",
    "FROM\n",
    "    address\n",
    "WHERE \n",
    "    district LIKE 'A%'\n",
    "    OR district LIKE 'C%';"
   ]
  },
  {
   "attachments": {},
   "cell_type": "markdown",
   "metadata": {},
   "source": [
    "The result is as expected, all rows where the `district` starts with `C` or `A` are returned. \n",
    "\n",
    ">Note the `OR` keyword doesn't mean exclusive `OR`, where the condition will return `True` if only one of the `OR` conditions is met. You can have cases where two of your `OR` statements return `True` for the same row of data. SQL deals with this by immediately returning `True` as soon as one of the `OR` conditions is met. It won't duplicate data in the case that two of the `OR` statements are correct, for example:"
   ]
  },
  {
   "cell_type": "code",
   "execution_count": null,
   "metadata": {
    "vscode": {
     "languageId": "sql"
    }
   },
   "outputs": [],
   "source": [
    "SELECT address,\n",
    "       district,\n",
    "       phone\n",
    "FROM\n",
    "    address\n",
    "WHERE \n",
    "    district LIKE 'A%'\n",
    "    OR district LIKE 'California%'\n",
    "    OR district LIKE 'C%';"
   ]
  },
  {
   "attachments": {},
   "cell_type": "markdown",
   "metadata": {},
   "source": [
    "In the example above where, the `district = California` both the 2nd and 3rd `OR` statements are both `True`. Once SQL reads `OR district LIKE 'California%'` before `OR district LIKE 'C%'` it will return the row and continue to the next. Both queries return 75 rows in this case, i.e. the rows with `California` as a values aren't duplicated. \n",
    "\n",
    "### `IN`\n",
    "\n",
    "`IN` works like a shorthand for multiple `OR` statements, you can check whether a value exists in a list of values. If it does, the conditional will return `True` and the row will be returned. "
   ]
  },
  {
   "cell_type": "code",
   "execution_count": null,
   "metadata": {
    "vscode": {
     "languageId": "sql"
    }
   },
   "outputs": [],
   "source": [
    "SELECT address,\n",
    "       district,\n",
    "       phone\n",
    "FROM\n",
    "    address\n",
    "WHERE \n",
    "    district IN ('Alberta', 'California', 'Hamilton');"
   ]
  },
  {
   "attachments": {},
   "cell_type": "markdown",
   "metadata": {},
   "source": [
    "The query above will return all rows where the `district` is equal to `Alberta`, `California` or `Hamilton`. This can be less verbose than using many different `OR` statements. The equivalent query with `OR` statements would be:"
   ]
  },
  {
   "cell_type": "code",
   "execution_count": null,
   "metadata": {
    "vscode": {
     "languageId": "sql"
    }
   },
   "outputs": [],
   "source": [
    "SELECT address,\n",
    "       district,\n",
    "       phone\n",
    "FROM\n",
    "    address\n",
    "WHERE \n",
    "    district = 'Alberta'\n",
    "    OR district = 'California'\n",
    "    OR district = 'Hamilton';"
   ]
  },
  {
   "attachments": {},
   "cell_type": "markdown",
   "metadata": {},
   "source": [
    "Both will work but in most cases, using `IN` will be preferable for readability especially if we wanted to check for more values. However chained `OR` statements have the advantage of the use of multiple `LIKE` statements to retrieve data.\n",
    "\n",
    "#### `BETWEEN`\n",
    "\n",
    "`BETWEEN` allows you to filter by a range of values in the `WHERE` statement. For instance let's get the names of all films in the `film` table where the `rental_rate` is between `0.99` and `3.99`:\n"
   ]
  },
  {
   "cell_type": "code",
   "execution_count": null,
   "metadata": {
    "vscode": {
     "languageId": "sql"
    }
   },
   "outputs": [],
   "source": [
    "SELECT title AS film_title,\n",
    "       rental_rate\n",
    "FROM \n",
    "    film\n",
    "WHERE\n",
    "    rental_rate BETWEEN '0.99' AND '3.99';\n",
    "ORDER BY\n",
    "    rental_rate DESC\n",
    "LIMIT\n",
    "    5\n"
   ]
  },
  {
   "attachments": {},
   "cell_type": "markdown",
   "metadata": {},
   "source": [
    "You can also apply the `BETWEEN` statement to date ranges, for example lets retrieve all rentals taken out on the 25th, 26th and 27th of May. "
   ]
  },
  {
   "cell_type": "code",
   "execution_count": null,
   "metadata": {
    "vscode": {
     "languageId": "sql"
    }
   },
   "outputs": [],
   "source": [
    "SELECT customer_id,\n",
    "       rental_date\n",
    "FROM \n",
    "    rental\n",
    "WHERE\n",
    "    rental_date BETWEEN '2005-05-25 00:00:00' AND '2005-05-28 00:00:00';\n",
    "ORDER BY\n",
    "    customer_id, rental_date"
   ]
  },
  {
   "attachments": {},
   "cell_type": "markdown",
   "metadata": {},
   "source": [
    "With the date range defined above `BETWEEN '2005-05-25 00:00:00' AND '2005-05-28 00:00:00'`. `'2005-05-25 00:00:00'` will be the start of the day the 25th of May to `2005-05-28 00:00:00` which will end at the start of the day on the 28th. This will get all dates in the range 25th to 27th of May.\n",
    "\n",
    "## Key Takeaways\n",
    "\n",
    "- The `WHERE` clause has many amazing options to help filter your data\n",
    "- If you need to filter data by text strings, then using the `LIKE` keyword with pattern matching is powerful\n",
    "- Using the **logical operators** allows you to filter for very specific records\n",
    "- If you need to filter by a range of values in your table use the `BETWEEN` keyword"
   ]
  }
 ],
 "metadata": {
  "kernelspec": {
   "display_name": "base",
   "language": "python",
   "name": "python3"
  },
  "language_info": {
   "name": "python",
   "version": "3.9.12"
  },
  "vscode": {
   "interpreter": {
    "hash": "a2592652612463181e69ac003232387e3e9a99279aa6b168e76f5df16d5110f4"
   }
  }
 },
 "nbformat": 4,
 "nbformat_minor": 2
}
