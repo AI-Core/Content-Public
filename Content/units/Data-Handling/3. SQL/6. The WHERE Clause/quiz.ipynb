{
 "cells": [
  {
   "attachments": {},
   "cell_type": "markdown",
   "metadata": {},
   "source": [
    "# The WHERE Clause"
   ]
  },
  {
   "attachments": {},
   "cell_type": "markdown",
   "metadata": {},
   "source": [
    "## What are some of the conditional operators which can be used with the `WHERE` statement? Select all that apply.\n",
    "\n",
    "- `>=` greater than and equal to ***\n",
    "- `=` equal to ***\n",
    "- `!=` not equal to ***\n",
    "- `&&` always equal to\n",
    "- `|&` sometimes equal to\n",
    "- `<<` strictly less than"
   ]
  },
  {
   "attachments": {},
   "cell_type": "markdown",
   "metadata": {},
   "source": [
    "## What are some other operations you can apply in the `WHERE` clause? Select all that apply.\n",
    "\n",
    "- `LIKE` allows you to search for a specific pattern in the data ***\n",
    "- `BETWEEN` allows you to filter by a range of values ***\n",
    "- `IN` allows you to check if a value is one of multiple choices ***\n",
    "- `AFTER` allows to search for a value which comes after another value\n",
    "- `INSIDE` allows you to check for a character inside a value\n",
    "- `OUTSIDE` allows you to search for all values outside the range between values"
   ]
  },
  {
   "attachments": {},
   "cell_type": "markdown",
   "metadata": {},
   "source": [
    "## Which of the following statements is true about pattern matching using the `LIKE` statement? Select all that apply.\n",
    "\n",
    "- `%er%` will find all strings which have `er` at any position in a string ***\n",
    "- `%r` checks that the last letter of a string is `r` ***\n",
    "- `__er__` will find all strings which have `er` at any position in a string\n",
    "- `%let` find all strings which have `let` at an position in the string\n"
   ]
  },
  {
   "attachments": {},
   "cell_type": "markdown",
   "metadata": {},
   "source": [
    "## Which statements are true about the `OR` operator? Select all that apply.\n",
    "\n",
    "- If you chain `OR` statements, once one is evaluated to be true the other `OR` statements won't be checked ***\n",
    "- `OR` is exclusive \n",
    "- You can only used one `OR` statement in a `WHERE` statement\n",
    "- Multiple `OR` statements will duplicate data\n",
    "- `OR` statements are a great way to check for multiple possible values ***"
   ]
  },
  {
   "attachments": {},
   "cell_type": "markdown",
   "metadata": {},
   "source": [
    "## Which statements are true about the `WHERE` clause?\n",
    "\n",
    "- The `WHERE` clause is last in the SQL order of execution\n",
    "- The `WHERE` clause can be used to filter data before the `SELECT` clause is performed ***\n",
    "- The `WHERE` clause is used to group data together\n",
    "- `WHERE` and `HAVING` are interchangeable \n",
    "- The `WHERE` clause can only be used with the equals conditional"
   ]
  },
  {
   "attachments": {},
   "cell_type": "markdown",
   "metadata": {},
   "source": [
    "## What is true about the `AND` statement? Select all that apply.\n",
    "\n",
    "- Chaining multiple `AND` statements together is great for filtering for very specific data ***\n",
    "- `AND` can only be used on its own and can't be combined with other operators\n",
    "- `AND` is used to match records where multiple conditions are true ***\n",
    "- `AND` can only be used in the `SELECT` statement\n",
    "- `AND` can't be used in conjunction with `LIKE`"
   ]
  },
  {
   "attachments": {},
   "cell_type": "markdown",
   "metadata": {},
   "source": [
    "## What is true about the `IN` statement? Select all that apply.\n",
    "\n",
    "- The `IN` keyword can be replaced with multiple `OR` statements ***\n",
    "- `IN` is used to check the existence of a value in a list of values ***\n",
    "- `IN` makes a statement less readable\n",
    "- `IN` can't be used in conjunction with other operators"
   ]
  },
  {
   "attachments": {},
   "cell_type": "markdown",
   "metadata": {},
   "source": [
    "## What is true about the `BETWEEN` statement? Select all that apply.\n",
    "\n",
    "- `BETWEEN` is used to filter for a range of values ***\n",
    "- `BETWEEN` can't be used with timestamps\n",
    "- `BETWEEN` can often be used to filter dates ***\n",
    "- If `BETWEEN` is used then `AND` or `OR` can't also be used in the `WHERE` statement\n",
    "- `BETWEEN` is only used for date values"
   ]
  }
 ],
 "metadata": {
  "language_info": {
   "name": "python"
  },
  "orig_nbformat": 4
 },
 "nbformat": 4,
 "nbformat_minor": 2
}
