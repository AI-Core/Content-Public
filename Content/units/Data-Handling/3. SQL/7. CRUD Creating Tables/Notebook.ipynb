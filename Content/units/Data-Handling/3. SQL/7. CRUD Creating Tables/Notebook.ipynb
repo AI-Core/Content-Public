{
 "cells": [
  {
   "attachments": {},
   "cell_type": "markdown",
   "metadata": {},
   "source": [
    "<h1 style=\"color: rgb(241, 90, 36)\"><img src=\"./images/SQLIcon.png?modified=23223\" width=80px height=80px style=\"vertical-align: middle;\">  CRUD Creating Tables</h1>\n",
    "\n",
    "*CRUD* is an acronym which describes the operations `CREATE`, `READ`, `UPDATE` and `DELETE`. These **four** operations are the core operations for managing a *persistent data model*. By **persistent data** we mean data which is stored on the system even when powered down, unlike RAM which is *volatile memory* and cleared when they system is reset. While the acronym can apply to other models like APIs, applications, file managers we will be talking about **CRUD operations** in the context of a database model.\n",
    "\n",
    "Here are some applications of the **CRUD** operations in relation to a database:\n",
    "\n",
    "- <b style=\"color: rgb(241, 90, 36)\">CREATE</b>: Create a new table in the database with `CREATE TABLE`\n",
    "- <b style=\"color: rgb(241, 90, 36)\">READ</b>: Read data from the database with `SELECT`\n",
    "- <b style=\"color: rgb(241, 90, 36)\">UPDATE</b>: Update a table in the database with `ALTER TABLE`\n",
    "- <b style=\"color: rgb(241, 90, 36)\">DELETE</b>: Use `DROP TABLE` to delete a table from the database\n",
    "\n",
    "<h2 style=\"color: rgb(241, 90, 36)\">Creating tables</h2>\n",
    "\n",
    "We can creates tables in a database from the results of a `SELECT` statement or creating a completely blank table. The general syntax to create a table in PostgreSQL is as follows:\n"
   ]
  },
  {
   "cell_type": "code",
   "execution_count": null,
   "metadata": {
    "vscode": {
     "languageId": "sql"
    }
   },
   "outputs": [],
   "source": [
    "CREATE TABLE [IF NOT EXISTS] table_name (\n",
    "    column1 datatype(length) column_constraint,\n",
    "    column1 datatype(length) column_constraint,\n",
    "    column1 datatype(length) column_constraint\n",
    "    .\n",
    "    .\n",
    "    .\n",
    "    table_constraints\n",
    ");"
   ]
  },
  {
   "attachments": {},
   "cell_type": "markdown",
   "metadata": {},
   "source": [
    "The anatomy of the statement is:\n",
    "\n",
    "- <b style=\"color: rgb(241, 90, 36)\">CREATE TABLE</b>: Specify we want to create a new table\n",
    "- <b style=\"color: rgb(241, 90, 36)\">IF NOT EXISTS</b>: Specifies to only create the table if it doesn't already exist. If the table does exists SQL will throw a warning and skip the table creation.\n",
    "- <b style=\"color: rgb(241, 90, 36)\">table_name</b>: The name of the table to create, after which we open parenthesis to begin defining constraints and columns\n",
    "- <b style=\"color: rgb(241, 90, 36)\">column1, column2 etc.</b>: Replace with the name of the first column, second column etc.\n",
    "- <b style=\"color: rgb(241, 90, 36)\">datatype(length)</b>: Replace with the data type of the column and the maximum length of the data type (if applicable)\n",
    "- <b style=\"color: rgb(241, 90, 36)\">column_constraint</b>: Column constraints can be applied to column here if required (see explanation below)\n",
    "- <b style=\"color: rgb(241, 90, 36)\">table_constraints</b>: Constraints global to the table can be applied if required here\n",
    "\n",
    "<h3 style=\"color: rgb(241, 90, 36)\">Table Constraints</h3>\n",
    "\n",
    "We creating a new table we can apply constraints to both the columns and table as a whole. Constraints are incredibly useful in SQL, they can help defend against erroneous values in your database and poorly inputted data. If the constraint isn't met then the data won't be inserted into the table. There are many different types of constraints that can be applied to a table:\n",
    "\n",
    "- <b style=\"color: rgb(241, 90, 36)\">NOT NULL</b>: By default SQL allows columns to contain `NULL` values. This statement enforces the requirement that the column contains no `NULL` values.\n",
    "    - Example: A first name of a customer is always required\n",
    "- <b style=\"color: rgb(241, 90, 36)\">UNIQUE</b>: Ensures that all values in a column are unique across the rows of a column\n",
    "    - Example: Titles for a column of movies\n",
    "- <b style=\"color: rgb(241, 90, 36)\">CHECK</b>: ensures that a condition returning a boolean is met before the value is inserted\n",
    "    - Example: Prices of items are above `2.50`\n",
    "- <b style=\"color: rgb(241, 90, 36)\">PRIMARY KEY</b>: A primary key is a column in the table which is guaranteed to have unique values and all values are not `NULL`. A table can have one and only one **primary key** column, ensuring table rows are unique.\n",
    "    - Example: Flight code column uniquely identifying a flight\n",
    "- <b style=\"color: rgb(241, 90, 36)\">FOREIGN KEY</b>: Ensures that values in a column/group of columns from a table exists in a column/group of columns in another table. This is helpful when building relationship between tables. A table can have more than one foreign key if required or none. \n",
    "    - Example: A foreign key referencing a destination in the `flight_destination` table\n",
    "\n",
    "<h3 style=\"color: rgb(241, 90, 36)\">Table data types</h3>\n",
    "\n",
    "**PostgreSQL** has a large set of data types, outlined below are the most common. You can find all the native PostgreSQL data types at the following link [PostgreSQL data types](https://www.postgresql.org/docs/current/datatype.html). Square brackets (`[]`) in the following section is used to show where a value is required by the data type.\n",
    "\n",
    "<h4 style=\"color: rgb(241, 90, 36)\">Numerical data types</h4>\n",
    "\n",
    "- <b style=\"color: rgb(241, 90, 36)\">bigint</b>: Signed(can be - or +) 8 byte integer, takes values `-9223372036854775808` to `9223372036854775807`\n",
    "- <b style=\"color: rgb(241, 90, 36)\">integer</b>: Signed four-byte integer values `-2147483648` to `2147483647`\n",
    "- <b style=\"color: rgb(241, 90, 36)\">smallint</b>: Signed two-byte integer values `-32768` to `32767`\n",
    "- <b style=\"color: rgb(241, 90, 36)\">numeric/decimal[ (precision, scale) ]</b>: Exact numeric of selectable precision, precision is the total amount of digits in the number, both sides of the decimal point. Scale is the number of digits after the decimal point. For examples 213.5678 would be numeric(7, 4).\n",
    "- <b style=\"color: rgb(241, 90, 36)\">real</b>: A variable floating point number of 4 bytes with 6 decimal digits precision\n",
    "- <b style=\"color: rgb(241, 90, 36)\">double precision</b>: variable floating point number 8 bytes with 15 decimal digits precision \n",
    "\n",
    "\n",
    "<h4 style=\"color: rgb(241, 90, 36)\">Boolean data types</h4>\n",
    "\n",
    "- <b style=\"color: rgb(241, 90, 36)\">boolean</b>: Logical boolean `true/false`\n",
    "\n",
    "<h4 style=\"color: rgb(241, 90, 36)\">Character data types</h4>\n",
    "\n",
    "- <b style=\"color: rgb(241, 90, 36)\">text</b>: Character data type with unlimited length\n",
    "- <b style=\"color: rgb(241, 90, 36)\">character[ (n) ]</b>: Character data type with fixed length `n`\n",
    "- <b style=\"color: rgb(241, 90, 36)\">character varying[ (n) ], varchar[ (n) ]</b>: Variable character data type with varying characters up to size `n`\n",
    "\n",
    "\n",
    "<h4 style=\"color: rgb(241, 90, 36)\">Time data types</h4>\n",
    "\n",
    "- <b style=\"color: rgb(241, 90, 36)\">time [ (p) ] [with or without time zone]</b>:  8 bytes with time zone or 12 bytes without, `p` here represents the precision after the seconds value i.e milliseconds. An example would be `TIME (4) WITH TIME ZONE` would represent times as `18:12:02.2567+00`. Using the precision value you can have timestamps accurate to the microsecond. Notice in our case, since we have specified `(4)`, thus we have four significant figures after the seconds value representing milliseconds.\n",
    "- <b style=\"color: rgb(241, 90, 36)\"> timestamp [ (p) ] [with or without time zone]</b>: 8 bytes timestamp, `p` again represents millisecond precision. `TIMESTAMP (3) without TIME ZONE` would represent values as `2023-02-15 18:12:01.457`. \n",
    "- <b style=\"color: rgb(241, 90, 36)\">date</b>: 8 bytes date value, default will be in the form `2023-01-12` (year-month-day)\n",
    "\n",
    "<h4 style=\"color: rgb(241, 90, 36)\">Interval data type</h4>\n",
    "\n",
    "- <b style=\"color: rgb(241, 90, 36)\">interval [ fields ] [ (p) ]</b>:  The interval specifies an interval of time, the `p` value refers again to the precision in milliseconds. The `fields` value represents which part of the interval you would like to capture. The `fields` value has the following options:"
   ]
  },
  {
   "cell_type": "code",
   "execution_count": null,
   "metadata": {
    "vscode": {
     "languageId": "sql"
    }
   },
   "outputs": [],
   "source": [
    "YEAR\n",
    "MONTH\n",
    "DAY\n",
    "HOUR\n",
    "MINUTE\n",
    "SECOND\n",
    "YEAR TO MONTH\n",
    "DAY TO HOUR\n",
    "DAY TO MINUTE\n",
    "DAY TO SECOND\n",
    "HOUR TO MINUTE\n",
    "HOUR TO SECOND\n",
    "MINUTE TO SECOND"
   ]
  },
  {
   "attachments": {},
   "cell_type": "markdown",
   "metadata": {},
   "source": [
    "Note that if we want to include precision then the field value we select for the interval will need to include seconds. So selecting `INTERVAL YEAR` would only display the time interval in years. \n",
    "\n",
    "So why is there so many options for different data types? Can't we just make every character based column of type `text` and every numerical column of type `numeric`? While this would work it's not best practice, as you want to minimise the amount of space required to represent the data. For small tables normally this wouldn't be a problem, but imagine you had a table which had a 400 million rows and used `BIGINT` instead of integer `INTEGER` this would be a difference of:\n",
    "\n",
    "`BIGINT` = 8 bytes\n",
    "\n",
    "`INTEGER` = 4 bytes\n",
    "\n",
    "Which would give `4 * 400000000` extra space needed. Or 4 million bytes which is 400 megabytes of extra space just for one extra column. Applying that to multiple columns that's a lot more space taken than required and possibly more time to process all the data. Tables of this size do exist and are queried in industry, depending on the size of the company. Always try to use the data type that most accurately models your data.\n",
    "\n",
    "<h3 style=\"color: rgb(241, 90, 36)\">Creating tables</h3>\n",
    "\n",
    "Let's look at the syntax of creating some tables with constraints:\n"
   ]
  },
  {
   "cell_type": "code",
   "execution_count": null,
   "metadata": {
    "vscode": {
     "languageId": "sql"
    }
   },
   "outputs": [],
   "source": [
    "CREATE TABLE movies (\n",
    "    title VARCHAR(30) PRIMARY KEY,\n",
    "    release_date DATE NOT NULL,\n",
    "    premier_access DATE,\n",
    "    minutes INT CONSTRAINT positive CHECK (minutes > 0),\n",
    "    CONSTRAINT valid_premier CHECK (release_date >\n",
    "    premier_access)\n",
    ");"
   ]
  },
  {
   "attachments": {},
   "cell_type": "markdown",
   "metadata": {},
   "source": [
    "In this table we've applied a `PRIMARY KEY` constraint to the `title` column to ensure that it is always unique since movies have unique names. We've also applied constraints to both the `minutes` and `release_date` to check the `minutes` is greater than 0 and `release_date` is not null.\n",
    "\n",
    "We have the following constraint `CONSTRAINT valid_premier CHECK (release_date >premier_access)`. Note we didn't define a column to apply the constraint to. \n",
    "\n",
    "We can define a table `CONSTRAINT` using the syntax `CONSTRAINT <name of the constraint>`, in our case it's defined with the name `valid_premier` and checks that the release date is greater than the premier access date. "
   ]
  },
  {
   "cell_type": "code",
   "execution_count": null,
   "metadata": {
    "vscode": {
     "languageId": "sql"
    }
   },
   "outputs": [],
   "source": [
    "\n",
    "CREATE TABLE IF NOT EXISTS employee_info (\n",
    "    first_name VARCHAR(100) NOT NULL,\n",
    "    middle_name VARCHAR(100),\n",
    "    last_name VARCHAR(100) NOT NULL,\n",
    "    staff_id CHAR(8) PRIMARY KEY,\n",
    "    birth_date DATE CHECK (birth_date > (NOW() - INTERVAL '18 years')),\n",
    "    date_joined DATE NOT NULL CHECK (date_joined < NOW()),\n",
    "    monthly_hours SMALLINT NOT NULL CHECK (monthly_hours >= 8),\n",
    "    salary INTEGER NOT NULL CHECK (salary >= (8 * 7.70 * 52))\n",
    ");"
   ]
  },
  {
   "attachments": {},
   "cell_type": "markdown",
   "metadata": {},
   "source": [
    "With this statement we've used a combination of different constraints to ensure the data entered makes sense for the company:\n",
    "\n",
    "- <b style=\"color: rgb(241, 90, 36)\">IF NOT EXISTS</b> : Creates the table only if the table doesn't already exist\n",
    "- <b style=\"color: rgb(241, 90, 36)\">first_name/last_name</b> : Are both varying character lengths and not nullable (of a good size for names 100)\n",
    "- <b style=\"color: rgb(241, 90, 36)\">middle_name</b> : Varying character length and nullable as not everyone has a middle name\n",
    "- <b style=\"color: rgb(241, 90, 36)\">staff_id</b> : Is of fixed length (8 characters) and **primary key** as this will be an unique non-nullable identifier for each employee\n",
    "- <b style=\"color: rgb(241, 90, 36)\">birth_date</b> : Is a date value of the year of birth. We have also in included a `CHECK` here to ensure the staff member is over 18 years of age, `(birth_date > (NOW() - INTERVAL '18 years')`. `NOW()`, represents the current time as a timestamp and with the interval `INTERVAL` `'18 years'` subtracted to check the `birth_date` > is greater than 18 years.\n",
    " - <b style=\"color: rgb(241, 90, 36)\">date_joined DATE NOT NULL CHECK (date_joined < NOW()) </b> : Checking the join date is less than the exact current time\n",
    " - <b style=\"color: rgb(241, 90, 36)\">monthly_hours SMALLINT NOT NULL CHECK (monthly_hours >= 8)</b> : The hours are of type `SMALLINT` and we're checking the `monthly_hours` is at least 8 hours, since the companies minimum contract is 8 hours\n",
    " - <b style=\"color: rgb(241, 90, 36)\">salary INTEGER NOT NULL CHECK (salary > 0)</b> : Salary is an `INTEGER` not `SMALLINT` since it could potentially be greater than 32767. We also added a check to ensure it's greater than 8 hours * 7.70 minimum wage * 52 weeks since this is the minimum an employee can earn.\n",
    "\n",
    "The constraints you apply to data will be different depending on the use case. When creating constraints you should think what constraints would best model the particular data you expect in the table. While the table can be altered at a later date, it's best to get the correct constraints either when the table is created or when data is first inserted in the table. Doing so will make sure the data is modelled correctly from the get go, as removing some constraints can be trickier than others. \n",
    "\n",
    "Let's take an example where you have a `PRIMARY KEY` constraint for instance and the column was used as a `FOREIGN KEY` in another table. By dropping the constraint you would also have to drop the `FOREIGN KEY` constraint in the other table since it is no longer referencing a primary key.\n",
    "\n",
    "<h4 style=\"color: rgb(241, 90, 36)\">Creating tables using SELECT</h4>\n",
    "\n",
    "Where data already exists, creating tables using the `SELECT` statement can be a better option to create a table. The syntax is as follows:"
   ]
  },
  {
   "cell_type": "code",
   "execution_count": null,
   "metadata": {
    "vscode": {
     "languageId": "sql"
    }
   },
   "outputs": [],
   "source": [
    "CREATE TABLE {table_name} (\n",
    "    {SELECT_QUERY}\n",
    ");"
   ]
  },
  {
   "attachments": {},
   "cell_type": "markdown",
   "metadata": {},
   "source": [
    "For example, we could create a table of all movies priced `0.99` from the `film` table, as we might want to separate budget films from premier films:"
   ]
  },
  {
   "cell_type": "code",
   "execution_count": null,
   "metadata": {
    "vscode": {
     "languageId": "sql"
    }
   },
   "outputs": [],
   "source": [
    "CREATE TABLE budget_films AS (\n",
    "    SELECT title,\n",
    "           description,\n",
    "           release_year,\n",
    "           rental_duration,\n",
    "           replacement_cost,\n",
    "           rating,\n",
    "           rental_rate\n",
    "    FROM \n",
    "        film\n",
    "    WHERE \n",
    "        rental_rate = 0.99\n",
    ");"
   ]
  },
  {
   "attachments": {},
   "cell_type": "markdown",
   "metadata": {},
   "source": [
    ">When creating a table in this way, a good way to do it is to create the `SELECT` statement first and run it to ensure you're getting the data you expect. If you get all the data you expect, you can use this `SELECT` statement with `CREATE TABLE`.\n",
    "\n",
    "<h3 style=\"color: rgb(241, 90, 36)\">Remove table data</h3>\n",
    "\n",
    "In some case you may want to completely drop a table of data, maybe it's outdated, or can't be kept any longer for data protection reasons. Additionally you might have made a mistake when creating the table and just want to start from scratch. You can drop tables with the following syntax:\n"
   ]
  },
  {
   "cell_type": "code",
   "execution_count": null,
   "metadata": {
    "vscode": {
     "languageId": "sql"
    }
   },
   "outputs": [],
   "source": [
    "DROP TABLE [IF EXISTS] table_name [CASCADE | RESTRICT]"
   ]
  },
  {
   "attachments": {},
   "cell_type": "markdown",
   "metadata": {},
   "source": [
    "\n",
    ">When being tasked with dropping tables, always try to drop the table in restricted mode first, even though it will throw an error. The error returned will tell you the reasons why you can't drop the table and what relationships it has with other objects. By doing this, you will understand the impact of dropping table could have on your database and make a decision whether you can drop it safely.\n",
    "\n",
    "\n",
    "We can specify only to drop the table if SQL can find it using `IF EXISTS`. If we don't specify this then SQL will complain it can't find the table. Then we can tell SQL which table to drop in place of `table_name`. When dropping a table SQL will also remove all indexes, rules and constraints for that table.\n",
    "\n",
    "We have two further options, `CASCADE` and `RESTRICT`:\n",
    "\n",
    "- `RESTRICT`: This is the default, unless specified otherwise. It can help to include it for code readability though. With `RESTRICT` SQL will not drop the table if the table depends on or has a relationship with another table.\n",
    "- `CASCADE`: If the table to be dropped has a relationship with or depends on another table then dropping the table will also destroy all objects and relationships that depend on that table. For instance if you had table A which referenced table B by `FOREIGN KEY` dropping table B with `CASCADE` would destroy the `FOREIGN KEY` constraint in table A. Table A would still keep its data but the relation between the tables will be destroyed.\n",
    "\n",
    "You also have the option to remove the data from the table without completely destroying the table. This can be done with the `TRUNCATE` keyword.\n",
    "\n"
   ]
  },
  {
   "cell_type": "code",
   "execution_count": null,
   "metadata": {
    "vscode": {
     "languageId": "sql"
    }
   },
   "outputs": [],
   "source": [
    "TRUNCATE {table_name} [ RESTART IDENTITY | CONTINUE IDENTITY ] [CASCADE | RESTRICT]"
   ]
  },
  {
   "attachments": {},
   "cell_type": "markdown",
   "metadata": {},
   "source": [
    "This can be helpful if you want to insert fresh data into a table or maybe remove the original contents due to data protection. The `CONTINUE IDENTITY` and `RESTART IDENTITY` keywords options either continue a sequence from the last known value or restart a sequence. \n",
    "\n",
    "A sequence is an increasing or decreasing set of values which can be inserted into a column automatically. Sequenced columns do not reset when the table is truncated, the default is `CONTINUE IDENTITY`. If you had a column increasing in values `1,2,3...` and set `RESTART IDENTITY` the sequence would begin again from `1,2,3... 1` or if `CONTINUE IDENTITY` was set it would start from the the next known value.\n",
    "\n",
    "Sequences can be created with the syntax:"
   ]
  },
  {
   "cell_type": "code",
   "execution_count": null,
   "metadata": {
    "vscode": {
     "languageId": "sql"
    }
   },
   "outputs": [],
   "source": [
    "CREATE SEQUENCE [IF NOT EXISTS] {TEMP | TEMPORARY} {sequence name} {data_type} {increment} {minvalue} {maxvalue} {start} {CYCLE | NO CYCLE}"
   ]
  },
  {
   "attachments": {},
   "cell_type": "markdown",
   "metadata": {},
   "source": [
    "- <b style=\"color: rgb(241, 90, 36)\">IF NOT EXISTS</b>: To ensure to only create the sequence if it doesn't exists\n",
    "- <b style=\"color: rgb(241, 90, 36)\">TEMP | TEMPORARY</b>: The sequence will only exist while connected to the database for the current session\n",
    "- <b style=\"color: rgb(241, 90, 36)\">data type</b>: Represents the data type of the sequence\n",
    "- <b style=\"color: rgb(241, 90, 36)\">increment</b>: How to increment the sequence on the next value. The default is increment by 1.\n",
    "- <b style=\"color: rgb(241, 90, 36)\">minvalue</b>: The minimum value the sequence can hold\n",
    " - <b style=\"color: rgb(241, 90, 36)\">maxvalue</b>: The maximum value the sequence can hold\n",
    " - <b style=\"color: rgb(241, 90, 36)\">start</b>: What value to start the sequence at (doesn't have to be the `minvalue`)\n",
    " - <b style=\"color: rgb(241, 90, 36)\">CYCLE | NO CYCLE</b>: Whether the sequence repeats after reaching the `maxvalue`\n",
    "\n",
    " For instance if we wanted a cyclical sequence ending in 10 and starting at 1, we could do so with the following statement:"
   ]
  },
  {
   "cell_type": "code",
   "execution_count": null,
   "metadata": {
    "vscode": {
     "languageId": "sql"
    }
   },
   "outputs": [],
   "source": [
    "CREATE SEQUENCE staff_id_counter AS INTEGER increment BY 1 minvalue 1 maxvalue 10 CYCLE"
   ]
  },
  {
   "attachments": {},
   "cell_type": "markdown",
   "metadata": {},
   "source": [
    "The next value in the sequence can be selected in the following way:"
   ]
  },
  {
   "cell_type": "code",
   "execution_count": null,
   "metadata": {
    "vscode": {
     "languageId": "sql"
    }
   },
   "outputs": [],
   "source": [
    "SELECT nextval('staff_id_counter')"
   ]
  },
  {
   "attachments": {},
   "cell_type": "markdown",
   "metadata": {},
   "source": [
    "The current value can be retrieved with:"
   ]
  },
  {
   "cell_type": "code",
   "execution_count": null,
   "metadata": {
    "vscode": {
     "languageId": "sql"
    }
   },
   "outputs": [],
   "source": [
    "SELECT currval('staff_id_counter')"
   ]
  },
  {
   "attachments": {},
   "cell_type": "markdown",
   "metadata": {},
   "source": [
    "This might be useful in cases where you want to create a unique value for a column.\n",
    "\n",
    "## Key Takeaways\n",
    "\n",
    "- **CRUD Operations** give you the necessary operations required to manage and maintain a database\n",
    "- There is a multitude of data types available to you when using SQL, try to pick the one that models your data best\n",
    "- Use `CONSTRAINT`s where possible as they help you enforce consistency in your database \n",
    "- Always try and drop tables in `RESTRICT` mode first as SQL will indicate if you might lose data from other tables\n",
    "- `SEQUENCE`s can be a great way to increment a value in a column to ensure its uniqueness"
   ]
  }
 ],
 "metadata": {
  "kernelspec": {
   "display_name": "base",
   "language": "python",
   "name": "python3"
  },
  "language_info": {
   "name": "python",
   "version": "3.10.9"
  },
  "vscode": {
   "interpreter": {
    "hash": "a2592652612463181e69ac003232387e3e9a99279aa6b168e76f5df16d5110f4"
   }
  }
 },
 "nbformat": 4,
 "nbformat_minor": 2
}
