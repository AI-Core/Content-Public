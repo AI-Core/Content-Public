{
 "cells": [
  {
   "attachments": {},
   "cell_type": "markdown",
   "metadata": {},
   "source": [
    "# CRUD Creating Tables"
   ]
  },
  {
   "attachments": {},
   "cell_type": "markdown",
   "metadata": {},
   "source": [
    "## What does the acronym CRUD stand for?\n",
    "\n",
    "- CRUD stands for `CREATE`, `READ`, `UPDATE` and `DELETE` ***\n",
    "- CRUD stands for `CREATE`, `READ`, `UPDATE` and `DESTROY`\n",
    "- CRUD stands for `CREATE`, `READY`, `UPDATE` and `DELETE`\n",
    "- CRUD stands for `CREATE`, `REMOVE`, `UPDATE` and `DELETE`\n",
    "- CRUD stands for `CLOSE`, `READ`, `UPDATE` and `DELETE`\n"
   ]
  },
  {
   "attachments": {},
   "cell_type": "markdown",
   "metadata": {},
   "source": [
    "## Which statements are true about CRUD operations?\n",
    "\n",
    "- They are the core operations for managing a persistent data model ***\n",
    "- CRUD operations only apply to databases \n",
    "- Without CRUD operations databases would be easier to manage\n",
    "- CRUD operations are well suited to non-persistent data models"
   ]
  },
  {
   "attachments": {},
   "cell_type": "markdown",
   "metadata": {},
   "source": [
    "## Which of the following are constraints which can be place on columns? Select all that apply.\n",
    "\n",
    "- Primary Key: Create a column which has the constraint of having unique values for every value in the column ***\n",
    "- Foreign key: Ensures that values in a column/group of columns match a column/group of columns in another table ***\n",
    "- `DIFFERENCE` ensures all values in a column are different\n",
    "- `NUMBERS` ensures all values in a column are numerical"
   ]
  },
  {
   "attachments": {},
   "cell_type": "markdown",
   "metadata": {},
   "source": [
    "## What are some values commonly specified when creating a SQL tables/columns? Select all that apply.\n",
    "\n",
    "- `datatype`: The datatype the values in a column will be ***\n",
    "- `column_constraint`: Constraints placed on a column so it meets certain requirements ***\n",
    "- `table_constraints`: Constraints placed on the table to ensure it meets certain requirements ***\n",
    "- `table_length`: The length of the table\n",
    "- `table_type`: The base data type of the table\n",
    "- `table_alias`: The alias for the table"
   ]
  },
  {
   "attachments": {},
   "cell_type": "markdown",
   "metadata": {},
   "source": [
    "## What are some the arguments which can be used with the `DROP TABLE` statement? Select all that apply.\n",
    "\n",
    "- `CASCADE`: Drop the table and all relationship that depend on the table ***\n",
    "- `RESTRICT`: Stop the table from being dropped if another table has a relationship with it ***\n",
    "- `IF EXISTS`: Only drop the table if it exists otherwise proceed past this statement ***\n",
    "- `NO_OF_RECORDS`: Specify the number of records to drop from the table\n",
    "- `DROP_ALL`: Drop all tables from the database\n",
    "- `DROP_REPLACE`: Drop the table and replace with an older version of the table\n"
   ]
  },
  {
   "attachments": {},
   "cell_type": "markdown",
   "metadata": {},
   "source": [
    "## What is true about the `TRUNCATE` keyword? Select all that apply.\n",
    "\n",
    "- `TRUNCATE` removes all data in the table but doesn't remove the table ***\n",
    "- `TRUNCATE` removes the table and deletes all its data\n",
    "- `RESTART IDENTITY` can be used in the `TRUNCATE` statement to restart any sequences the table depends on ***\n",
    "- `KEEP 10` will keep the first ten records of the table\n",
    "- `FLUSH` will drop the table records and remove the table in-memory\n",
    "- `DUPLICATE` will remove all records from the original table but create a copy\n"
   ]
  }
 ],
 "metadata": {
  "language_info": {
   "name": "python"
  },
  "orig_nbformat": 4
 },
 "nbformat": 4,
 "nbformat_minor": 2
}
