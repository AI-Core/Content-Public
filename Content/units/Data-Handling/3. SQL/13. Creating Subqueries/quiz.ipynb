{
 "cells": [
  {
   "attachments": {},
   "cell_type": "markdown",
   "metadata": {},
   "source": [
    "# Creating Subqueries"
   ]
  },
  {
   "attachments": {},
   "cell_type": "markdown",
   "metadata": {},
   "source": [
    "## In which SQL statements can subqueries be used? Select all that apply.\n",
    "\n",
    "- All SQL CRUD operation statements ***\n",
    "- In the `HAVING` and `WHERE` statement ***\n",
    "- In the `FROM` statement to create a *derived table* ***\n",
    "- In the `LIMIT` statement \n",
    "- In the `ORDER BY` statement\n"
   ]
  },
  {
   "attachments": {},
   "cell_type": "markdown",
   "metadata": {},
   "source": [
    "## Which of the following statements are true about subqueries? Select all that apply.\n",
    "\n",
    "- A subquery cannot be executed on it's own since it is part of an **outer query** ***\n",
    "- A subquery should be wrapped in parentheses making it a subquery ***\n",
    "- `ORDER BY` can't be used in a subquery\n",
    "- You can only use one subquery per SQL query\n",
    "- Subqueries which return multiple rows can be used without *multi value operators*"
   ]
  },
  {
   "attachments": {},
   "cell_type": "markdown",
   "metadata": {},
   "source": [
    "# What statements are true about the execution of subqueries? Select all that apply.\n",
    "\n",
    "- Subqueries are evaluated from the inner query to the outer query ***\n",
    "- Subqueries can be nested within each other ***\n",
    "- Subqueries are evaluated from the outside query to the inside query\n",
    "- Subqueries can be nested only to a depth of three\n",
    "- You can reference the columns in subqueries if they come from another table"
   ]
  }
 ],
 "metadata": {
  "kernelspec": {
   "display_name": "base",
   "language": "python",
   "name": "python3"
  },
  "language_info": {
   "name": "python",
   "version": "3.10.9"
  },
  "orig_nbformat": 4,
  "vscode": {
   "interpreter": {
    "hash": "a2592652612463181e69ac003232387e3e9a99279aa6b168e76f5df16d5110f4"
   }
  }
 },
 "nbformat": 4,
 "nbformat_minor": 2
}
