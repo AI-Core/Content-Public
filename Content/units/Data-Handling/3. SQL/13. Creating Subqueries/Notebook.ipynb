{
 "cells": [
  {
   "attachments": {},
   "cell_type": "markdown",
   "metadata": {},
   "source": [
    "<h1 style=\"color: rgb(241, 90, 36)\"><img src=\"./images/SQLIcon.png?modified=243\" width=80px height=80px style=\"vertical-align: middle;\">  Creating Subqueries</h1>\n",
    "\n",
    "The simplest explanation of a *SQL subquery* is a query which is nested inside another query. You might see it described as an *inner query*, *nested query*, *inner select* or *child query*. Conversely the query than contains the **inner query** might be described as the *outer query*, *outer select* or *parent query*. Subqueries can be useful in situations where a query cannot be easily expressed in a single SQL query, or for breaking a complex query into more manageable parts allowing it to be solved more efficiently. \n",
    "\n",
    "A subquery can be nested directly in the following SQL statements:\n",
    "\n",
    "- <b style=\"color: rgb(241, 90, 36)\">SELECT</b>: Used in the `SELECT` statement to retrieve data from one or more tables\n",
    "- <b style=\"color: rgb(241, 90, 36)\">INSERT</b>: Used in the `INSERT` statement, it can be used to `INSERT` data into a table based on the results of a query\n",
    "- <b style=\"color: rgb(241, 90, 36)\">UPDATE</b>: Used in the `UPDATE` statement in a similar fashion to the `INSERT` statement. Can `UPDATE` the results in a table based on the subquery.\n",
    "- <b style=\"color: rgb(241, 90, 36)\">DELETE</b>: Used as a subquery to `DELETE` all records based on the result of the subquery\n",
    "\n",
    "You'll notice, subqueries are used in statements which perform **CRUD operations** on the database. \n",
    "\n",
    "They can also be present in the following SQL clauses of a **parent query**:\n",
    "\n",
    "- <b style=\"color: rgb(241, 90, 36)\">WHERE</b>: The subquery can be nested in the `WHERE` statement of an outer `SELECT` statement to perform complex filtering\n",
    "- <b style=\"color: rgb(241, 90, 36)\">HAVING</b>: Can be used in the `HAVING` statement to perform filtering of the data\n",
    "- <b style=\"color: rgb(241, 90, 36)\">FROM</b>: You will also see it in the `FROM` statement where the subquery will de treated as a *derived table* (more on that later)\n",
    "\n",
    "<h2 style=\"color: rgb(241, 90, 36)\"> Writing subqueries</h2>\n",
    "\n",
    "Since subqueries are just nested queries, they can be written just like any queries with a few exceptions:\n",
    "\n",
    "- A subquery cannot be executed on its own since it should be part of an **outer query**\n",
    "- A subquery should be wrapped in **parentheses** which makes it a subquery\n",
    "- You can nest subqueries within subqueries up to a depth of 255 nesting levels; that's one complex query!\n",
    "- If you reference columns in the subquery they can't be referenced in the **outer query**s `SELECT` unless it's the same table\n",
    "- `ORDER BY` can be used in a subquery but will be ignored by the **outside query**\n",
    "- Subqueries can only have one column in the `SELECT` unless, there are multiple columns in the `SELECT` statement of the **outer query**\n",
    "- Subqueries which return more than one row can only be used with *multi value operators* `IN`, `NOT IN`, `EXISTS`, `ANY` or `ALL` (more on this later).\n",
    "\n",
    "The syntax is for a subquery is much like any other query:"
   ]
  },
  {
   "cell_type": "code",
   "execution_count": null,
   "metadata": {
    "vscode": {
     "languageId": "sql"
    }
   },
   "outputs": [],
   "source": [
    "( \n",
    "  SELECT column1, \n",
    "         column2,\n",
    "         ....\n",
    "  FROM \n",
    "    {table_name}\n",
    "  WHERE \n",
    "    {filter condition}\n",
    "  GROUP BY \n",
    "    {column1, \n",
    "    column2 \n",
    "    ....}\n",
    "  HAVING \n",
    "    {filter_condition}\n",
    ")"
   ]
  },
  {
   "attachments": {},
   "cell_type": "markdown",
   "metadata": {},
   "source": [
    "Notice as expected it's wrapped inside **parenthesis** and there is no mention of `ORDER BY`. You can nest a subquery inside an outer query like so:"
   ]
  },
  {
   "cell_type": "code",
   "execution_count": null,
   "metadata": {
    "vscode": {
     "languageId": "sql"
    }
   },
   "outputs": [],
   "source": [
    "SELECT column1, \n",
    "       column2,\n",
    "       ...\n",
    "FROM \n",
    "    {table_name}\n",
    "WHERE {column_1} IN \n",
    "    (\n",
    "    SELECT column1, \n",
    "           column2,\n",
    "           ....\n",
    "    FROM \n",
    "        {table_name}\n",
    "    WHERE \n",
    "        {filter condition} \n",
    "    )"
   ]
  },
  {
   "attachments": {},
   "cell_type": "markdown",
   "metadata": {},
   "source": [
    "Here we've nested the subquery inside the `WHERE` clause. It's a place where you will often see a subquery. We could nest another subquery inside our first subquery if we needed to:"
   ]
  },
  {
   "cell_type": "code",
   "execution_count": null,
   "metadata": {
    "vscode": {
     "languageId": "sql"
    }
   },
   "outputs": [],
   "source": [
    "SELECT column1, \n",
    "       column2,\n",
    "       ...\n",
    "FROM \n",
    "    {table_name}\n",
    "WHERE \n",
    "    {column_1} IN \n",
    "    (\n",
    "        SELECT column1, \n",
    "               column2,\n",
    "               ....\n",
    "        FROM \n",
    "            {table_name}\n",
    "        WHERE \n",
    "            {column2} IN \n",
    "            (\n",
    "                SELECT column1, \n",
    "                       column2,\n",
    "                       ....\n",
    "                FROM \n",
    "                    {table_name}\n",
    "                WHERE \n",
    "                    {filter_condition}\n",
    "                        \n",
    "            )\n",
    "    )"
   ]
  },
  {
   "attachments": {},
   "cell_type": "markdown",
   "metadata": {},
   "source": [
    "And so on..., often you won't be required to nest subqueries within subqueries and if you need to you certainly won't be going as deep as the maximum nested depth(255). \n",
    "\n",
    ">When you're using subqueries it's important to know that they're evaluated inside out. The **inner most nested query** is first evaluated then it's **outer query** and so on until SQL finally evaluates the **outer most query**. When following the logic of nested queries start from the inner most query and work your way out. \n",
    "\n",
    "## Key Takeaways\n",
    "\n",
    "- Read subqueries from the **inside query** to the **outer query**\n",
    "- Using subqueries can be great to perform more complex aggregations on your data\n",
    "- Subqueries can be used with all **CRUD operations** and filtering clauses \n",
    "- Subqueries look just like other queries but you will see them wrapped in parentheses \n",
    "- You can use a subqueries to *derive* a table in the `FROM` statement\n",
    "- Following the logic of nested subqueries can get confusing so try to use them sparingly "
   ]
  }
 ],
 "metadata": {
  "kernelspec": {
   "display_name": "base",
   "language": "python",
   "name": "python3"
  },
  "language_info": {
   "name": "python",
   "version": "3.10.9"
  },
  "vscode": {
   "interpreter": {
    "hash": "a2592652612463181e69ac003232387e3e9a99279aa6b168e76f5df16d5110f4"
   }
  }
 },
 "nbformat": 4,
 "nbformat_minor": 2
}
