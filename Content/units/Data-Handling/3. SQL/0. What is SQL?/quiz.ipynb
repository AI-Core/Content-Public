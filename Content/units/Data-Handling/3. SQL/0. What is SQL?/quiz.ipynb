{
 "cells": [
  {
   "attachments": {},
   "cell_type": "markdown",
   "metadata": {},
   "source": [
    "# What is SQL?"
   ]
  },
  {
   "attachments": {},
   "cell_type": "markdown",
   "metadata": {},
   "source": [
    "## What is true about Structured Query Language (SQL)? Select all that apply.\n",
    "\n",
    "- It is designed for data manipulate and management of data in relational databases ***\n",
    "- SQL can be used to update, delete, insert and define database tables ***\n",
    "- SQL is used to perform querying of NoSQL databases\n",
    "- SQL is used to manipulate data which is stored in sheets\n",
    "- It is not a commonly used language when managing data in relational databases\n"
   ]
  },
  {
   "attachments": {},
   "cell_type": "markdown",
   "metadata": {},
   "source": [
    "## What can be said about the defining features of data? Select all that apply.\n",
    "\n",
    "- Data can be thought of as a recorded measurement of something in the real world ***\n",
    "- Each measurement is called a variable or feature ***\n",
    "- Several data points together create a dataset ***\n",
    "- The features of a single person wouldn't be considered a sample\n",
    "- A *unit of observation* is called a feature\n"
   ]
  },
  {
   "attachments": {},
   "cell_type": "markdown",
   "metadata": {},
   "source": [
    "## Which of the following statements are true about relational databases? Select all that apply.\n",
    "\n",
    "- A relational database is a database which organises data into one or more tables consisting of rows and columns ***\n",
    "- Each record in a table represents a sample of data ***\n",
    "- Tables are linked together by keys to create relationships between tables ***\n",
    "- Relational databases are commonly used to store unstructured data\n",
    "- Data in relational databases is not only modelled in tables\n",
    "- Excel spreadsheets can be thought of as relational databases\n"
   ]
  },
  {
   "attachments": {},
   "cell_type": "markdown",
   "metadata": {},
   "source": [
    "## What does the acronymn ACID represent?\n",
    "\n",
    "- Atomicity, Consistency, Isolation and Durability ***\n",
    "- Altering, Consistency, Isolation and Durability\n",
    "- Altering, Convertible, Isolation and Durability\n",
    "- Altering, Convertible, Isolation and Database\n",
    "- Altering, Convertible, Implementation and Durability"
   ]
  },
  {
   "attachments": {},
   "cell_type": "markdown",
   "metadata": {},
   "source": [
    "## What statements are true about entity relationship diagrams? Select all that apply.\n",
    "\n",
    "- Entity relationship diagrams are structural diagrams used for database design ***\n",
    "- The cardinality between tables can be represented in an ERD diagram ***\n",
    "- ERD diagrams are only in some cases useful when designing a database\n",
    "- You can't capture all the relationships between tables in an ERD diagram\n",
    "- Creating an ERD diagram should be done after you have created your database"
   ]
  },
  {
   "attachments": {},
   "cell_type": "markdown",
   "metadata": {},
   "source": [
    "## What are some of the relationships which can be represented in an ERD diagram? Select all that apply.\n",
    "\n",
    "- One to many ***\n",
    "- Zero or many ***\n",
    "- Many to many ***\n",
    "- A half to many\n",
    "- A half to one\n",
    "- The number of function to functions\n"
   ]
  },
  {
   "attachments": {},
   "cell_type": "markdown",
   "metadata": {},
   "source": [
    "##"
   ]
  }
 ],
 "metadata": {
  "kernelspec": {
   "display_name": "base",
   "language": "python",
   "name": "python3"
  },
  "language_info": {
   "name": "python",
   "version": "3.10.9"
  },
  "orig_nbformat": 4,
  "vscode": {
   "interpreter": {
    "hash": "a2592652612463181e69ac003232387e3e9a99279aa6b168e76f5df16d5110f4"
   }
  }
 },
 "nbformat": 4,
 "nbformat_minor": 2
}
