{
 "cells": [
  {
   "attachments": {},
   "cell_type": "markdown",
   "metadata": {},
   "source": [
    "# SQL Common Aggregations"
   ]
  },
  {
   "attachments": {},
   "cell_type": "markdown",
   "metadata": {},
   "source": [
    "## What are some of the common SQL aggregations which can be preformed?\n",
    "\n",
    "- `COUNT`, `SUM`, `MIN/MAX` and `AVG` ***\n",
    "- `FLOOR`, `TOTAL`, `MIN/MAX` and `AVG` \n",
    "- `GRAPH`, `TOTAL`, `MIN/MAX` and `AVG` \n",
    "- `GRAPH`, `CALCULATE`, `MIN/MAX` and `AVG` "
   ]
  },
  {
   "attachments": {},
   "cell_type": "markdown",
   "metadata": {},
   "source": [
    "## Which statements are true about the `COUNT` function? Select all that apply.\n",
    "\n",
    "- `COUNT` allows you to count the all values in a column\n",
    "- `COUNT` allows you to count only the non-`NULL` values of a column ***\n",
    "- If you have a column `price` with values `2.50, 3.50, 1` then `COUNT(price)` would return `3` ***\n",
    "- If you have a column `price` with values `2.50, 3.50, 1` then `COUNT(price)` would return `7` \n",
    "- `COUNT` can be used to get the total sum of values in a column"
   ]
  },
  {
   "attachments": {},
   "cell_type": "markdown",
   "metadata": {},
   "source": [
    "## Which statements are true about `SUM` and `MIN/MAX`? Select all that apply.\n",
    "\n",
    "- `SUM` can only be used on numerical columns ***\n",
    "- `SUM` sums up the number of entries in a column\n",
    "- `MIN/MAX` can be applied to numerical, array or character columns ***\n",
    "- `MIN/MAX` can only be applied to numerical columns\n",
    "- If the max of a column is retrieved with `MAX(<column name>)` the resultant column will be named `max` ***"
   ]
  },
  {
   "attachments": {},
   "cell_type": "markdown",
   "metadata": {},
   "source": [
    "## Which statements are true about `DISTINCT` and `AVG`? Select all that apply.\n",
    "\n",
    "- `DISTINCT` can be a great way to understand the unique values a column contains ***\n",
    "- `AVG` only works on numerical values and ignores `NULL`'s ***\n",
    "- `DISTINCT`s primary use is to grab one specific value from a column\n",
    "- `DISTINCT` can be very useful for initial analysis of data ***\n",
    "- `DISTINCT` can't be used with other aggregations"
   ]
  },
  {
   "attachments": {},
   "cell_type": "markdown",
   "metadata": {},
   "source": [
    "## What is true about the `DATE_TRUNC` and `DATE PART/EXTRACT` functions? Select all that apply.\n",
    "\n",
    "- `DATE PART` allows you to strip values from a `timestamp`. For instance changing `2023-02-01 14:23:12` to `2023-02-01 14:00:00`.\n",
    "- The timezone cannot be **extracted** with `DATE PART` \n",
    "- The timezone cannot be **extracted** with `DATE TRUNC`***\n",
    "- `DATE PART` can be very useful if you want a specific value from a `timestamp` ***\n",
    "- `DATE TRUNC` can only truncate to hours, minutes and days"
   ]
  },
  {
   "attachments": {},
   "cell_type": "markdown",
   "metadata": {},
   "source": [
    "## Which of the following statements are true about the `CASE` statement? Select all that apply.\n",
    "\n",
    "- The `CASE` statement can be used in the `WHERE` clause\n",
    "- The `CASE` statement is always part of the `SELECT` clause ***\n",
    "- The `CASE` statement can be thought of as Python `if-else` statements ***\n",
    "- When a condition is true in the `CASE` statement then the newly created column is updated with the value specified after the `WHEN` keyword\n",
    "- The `CASE` statement is only good at checking conditions but can't create new columns"
   ]
  },
  {
   "attachments": {},
   "cell_type": "markdown",
   "metadata": {},
   "source": [
    "## Based on the given code what results are true base on the value provided and value returned?\n",
    "\n",
    "```python\n",
    "SELECT title, \n",
    "       release_year, \n",
    "       rental_rate,\n",
    "CASE\n",
    "    WHEN rental_rate > 0 AND rental_rate < 2.99 THEN 'discount'\n",
    "    WHEN rental_rate >= 2.99 AND rental_rate < 4.99 THEN 'regular'\n",
    "    ELSE 'premium'\n",
    "END AS quality\n",
    "FROM \n",
    "    film;\n",
    "```\n",
    "\n",
    "- `rental_rate = 4` then `discount`\n",
    "- `rental_rate = 2.99` then `regular` ***\n",
    "- `rental_rate = 0` then `premium` ***\n",
    "- `rental_rate = 4.99` then `regular`\n",
    "- `rental_rate = 3.99` then `discount`"
   ]
  }
 ],
 "metadata": {
  "kernelspec": {
   "display_name": "base",
   "language": "python",
   "name": "python3"
  },
  "language_info": {
   "name": "python",
   "version": "3.10.9"
  },
  "orig_nbformat": 4,
  "vscode": {
   "interpreter": {
    "hash": "a2592652612463181e69ac003232387e3e9a99279aa6b168e76f5df16d5110f4"
   }
  }
 },
 "nbformat": 4,
 "nbformat_minor": 2
}
