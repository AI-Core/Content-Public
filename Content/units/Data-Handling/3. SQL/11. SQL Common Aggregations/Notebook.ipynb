{
 "cells": [
  {
   "attachments": {},
   "cell_type": "markdown",
   "metadata": {},
   "source": [
    "<h1 style=\"color: rgb(241, 90, 36)\"><img src=\"./images/SQLIcon.png?modified=2233\" width=80px height=80px style=\"vertical-align: middle;\"> SQL Common Aggregations</h1>\n",
    "\n",
    "When working in the domain of data, once the data is stored in the database, you might need to gather insight from it. What use is there in gathering data if we can't apply some analysis to draw key insights from it? This can be done with the use of SQL *aggregation functions*. **Aggregation functions** perform calculations on a set of values to return a single value.\n",
    "\n",
    "Here are the most commonly used **aggregation functions**:\n",
    "\n",
    "- <b style=\"color: rgb(241, 90, 36)\">COUNT</b> : To count how many rows are in a particular column\n",
    "- <b style=\"color: rgb(241, 90, 36)\">SUM</b> : To `SUM` all rows in a particular column\n",
    "- <b style=\"color: rgb(241, 90, 36)\">MIN/MAX</b> : To get the **maximum** or **minimum** values in a column\n",
    "- <b style=\"color: rgb(241, 90, 36)\">AVG</b> : To return the **average** value in a column\n",
    "\n",
    "These are the most commonly used aggregation function in PostgreSQL, though there are many more. If you would like to find out what's possible all other functions can be seen at this [link.](https://www.postgresql.org/docs/9.5/functions-aggregate.html)\n",
    "\n",
    "## `COUNT`\n",
    "\n",
    "`COUNT` allows you to count the number of **non-NULL** values in a column, the syntax is:\n"
   ]
  },
  {
   "cell_type": "code",
   "execution_count": null,
   "metadata": {
    "vscode": {
     "languageId": "sql"
    }
   },
   "outputs": [],
   "source": [
    "COUNT({column name});"
   ]
  },
  {
   "attachments": {},
   "cell_type": "markdown",
   "metadata": {},
   "source": [
    "We can apply the `COUNT` to any column in our `SELECT` statement:"
   ]
  },
  {
   "cell_type": "code",
   "execution_count": null,
   "metadata": {
    "vscode": {
     "languageId": "sql"
    }
   },
   "outputs": [],
   "source": [
    "SELECT COUNT(address)\n",
    "FROM address;"
   ]
  },
  {
   "attachments": {},
   "cell_type": "markdown",
   "metadata": {},
   "source": [
    "Which returns a value of `603`. Remember that `COUNT` doesn't count `NULL` values so applying it to the `address2` column we get a different answer:"
   ]
  },
  {
   "cell_type": "code",
   "execution_count": null,
   "metadata": {
    "vscode": {
     "languageId": "sql"
    }
   },
   "outputs": [],
   "source": [
    "SELECT COUNT(address2);"
   ]
  },
  {
   "attachments": {},
   "cell_type": "markdown",
   "metadata": {},
   "source": [
    "Which returns a value of `599`. There are `603` records in the `address` table so we know that the `address2` column has four `NULL` values in it. \n",
    "\n",
    "`total rows - COUNT(address2)` = `4`"
   ]
  },
  {
   "attachments": {},
   "cell_type": "markdown",
   "metadata": {},
   "source": [
    "## `SUM`\n",
    "\n",
    "`SUM`, sums all the values in a column, it only works on `numerical` data (we can't sum the `address` column for example). If there is a `NULL` value in the column it is ignored. The syntax is:"
   ]
  },
  {
   "cell_type": "code",
   "execution_count": null,
   "metadata": {
    "vscode": {
     "languageId": "sql"
    }
   },
   "outputs": [],
   "source": [
    "SUM({column name})"
   ]
  },
  {
   "cell_type": "code",
   "execution_count": null,
   "metadata": {
    "vscode": {
     "languageId": "sql"
    }
   },
   "outputs": [],
   "source": [
    "SELECT SUM(replacement_cost) \n",
    "FROM film;"
   ]
  },
  {
   "attachments": {},
   "cell_type": "markdown",
   "metadata": {},
   "source": [
    "Looks like the replacement value of all stock is 20k interesting to know for a business.\n",
    "\n",
    "## `MIN/MAX`\n",
    "\n",
    "`MIN` returns the **minimum value** in a column and `MAX` returns the **maximum value**. They can be applied to **numerical data**, **array** or **character** columns. Both functions have the syntax:"
   ]
  },
  {
   "cell_type": "code",
   "execution_count": null,
   "metadata": {
    "vscode": {
     "languageId": "sql"
    }
   },
   "outputs": [],
   "source": [
    "MIN({column name})\n",
    "MAX({column name})"
   ]
  },
  {
   "attachments": {},
   "cell_type": "markdown",
   "metadata": {},
   "source": [
    "Let's get the minimum `replacement_cost` and maximum `replacement_cost` of a film in the `film` table:"
   ]
  },
  {
   "cell_type": "code",
   "execution_count": null,
   "metadata": {
    "vscode": {
     "languageId": "sql"
    }
   },
   "outputs": [],
   "source": [
    "SELECT MIN(replacement_cost) AS minimum_replacement_cost,\n",
    "       MAX(replacement_cost) AS maximum_replacement_cost\n",
    "FROM\n",
    "    film;"
   ]
  },
  {
   "attachments": {},
   "cell_type": "markdown",
   "metadata": {},
   "source": [
    ">You'll often want to alias your aggregation columns, since by default, the aggregated column will be named by the name of the aggregation. So the intended result of the aggregation won't be clear. For example `SUM(replacement_cost)` creates a column called `sum` .\n",
    "\n",
    "## `AVG`\n",
    "\n",
    "`AVG` returns the average value in a column. It ignores `NULL`'s in both the *numerator* and *denominator* and only works on numerical values:"
   ]
  },
  {
   "cell_type": "code",
   "execution_count": null,
   "metadata": {
    "vscode": {
     "languageId": "sql"
    }
   },
   "outputs": [],
   "source": [
    "AVG({column name})"
   ]
  },
  {
   "attachments": {},
   "cell_type": "markdown",
   "metadata": {},
   "source": [
    "Getting the `average_replacement` cost of a film:"
   ]
  },
  {
   "cell_type": "code",
   "execution_count": null,
   "metadata": {
    "vscode": {
     "languageId": "sql"
    }
   },
   "outputs": [],
   "source": [
    "SELECT AVG(replacement_cost) AS average_replacement_cost\n",
    "FROM film;"
   ]
  },
  {
   "attachments": {},
   "cell_type": "markdown",
   "metadata": {},
   "source": [
    "<h2 style=\"color: rgb(241, 90, 36)\">Calculations with aggregations</h2>\n",
    "\n",
    "You can also perform *arithmetic operations* with the results of an aggregation to achieve complex analysis of data. This can be done with the standard operators `+ - / * %`. \n",
    "\n",
    "Calculating the range of cost between the **maximum** and **minimum** `replacement_cost`: "
   ]
  },
  {
   "cell_type": "code",
   "execution_count": null,
   "metadata": {
    "vscode": {
     "languageId": "sql"
    }
   },
   "outputs": [],
   "source": [
    "SELECT (MAX(replacement_cost) - MIN(replacement_cost)) AS replacement_cost_range\n",
    "FROM film;"
   ]
  },
  {
   "attachments": {},
   "cell_type": "markdown",
   "metadata": {},
   "source": [
    "`MAX` and `MIN` can be performed on dates so we could calculate how long the business has been renting out movies for:"
   ]
  },
  {
   "cell_type": "code",
   "execution_count": null,
   "metadata": {
    "vscode": {
     "languageId": "sql"
    }
   },
   "outputs": [],
   "source": [
    "SELECT MAX(payment_date)- MIN(payment_date) AS payment_span\n",
    "FROM payment;"
   ]
  },
  {
   "attachments": {},
   "cell_type": "markdown",
   "metadata": {},
   "source": [
    "Notice this returns an interval since we're getting the time span between two dates.\n",
    "\n",
    "Let's calculate the average `replacement_cost` as a percentage of total stock `replacement_cost`:"
   ]
  },
  {
   "cell_type": "code",
   "execution_count": null,
   "metadata": {
    "vscode": {
     "languageId": "sql"
    }
   },
   "outputs": [],
   "source": [
    "SELECT ( AVG(replacement_cost) / SUM(replacement_cost) ) * 100 AS \"average_replacement_cost(%)\"\n",
    "FROM film;"
   ]
  },
  {
   "attachments": {},
   "cell_type": "markdown",
   "metadata": {},
   "source": [
    "## `DISTINCT`\n",
    "\n",
    "By default SQL will return all rows even duplicate rows. Sometimes you may want to return only the rows where column values are unique. This can be done by applying the keyword `DISTINCT` to a column. The syntax of `DISTINCT` is:\n"
   ]
  },
  {
   "cell_type": "code",
   "execution_count": null,
   "metadata": {
    "vscode": {
     "languageId": "sql"
    }
   },
   "outputs": [],
   "source": [
    "DISTINCT {column1, column2, column3 ....} "
   ]
  },
  {
   "attachments": {},
   "cell_type": "markdown",
   "metadata": {},
   "source": [
    "Any column specified after the `DISTINCT` keyword will return only unique values from that column. This can be a great way to check a column to understand all the values the column contains. Imagine we want to check what the different types of ratings a movie could have, we could run the query:"
   ]
  },
  {
   "cell_type": "code",
   "execution_count": null,
   "metadata": {
    "vscode": {
     "languageId": "sql"
    }
   },
   "outputs": [],
   "source": [
    "SELECT DISTINCT rating\n",
    "FROM film;"
   ]
  },
  {
   "attachments": {},
   "cell_type": "markdown",
   "metadata": {},
   "source": [
    "Returning all the possible ratings a film could have. If we wanted to check for each of those ratings what are all the possible `rental_rate`'s, we could add the `rental_rate` column to your distinct query. Returning distinct values which are a combination of `rating` and `rental_rate`: "
   ]
  },
  {
   "cell_type": "code",
   "execution_count": null,
   "metadata": {
    "vscode": {
     "languageId": "sql"
    }
   },
   "outputs": [],
   "source": [
    "SELECT \n",
    "    DISTINCT rating,\n",
    "    rental_rate\n",
    "FROM \n",
    "    film\n",
    "ORDER BY\n",
    "    rating;"
   ]
  },
  {
   "attachments": {},
   "cell_type": "markdown",
   "metadata": {},
   "source": [
    "This can be a great way to quickly summarise the data in columns when performing initial data analysis. `DISTINCT` can also be used in conjugation with aggregations like `COUNT`. Which would return a count of unique values in a column:\n"
   ]
  },
  {
   "cell_type": "code",
   "execution_count": null,
   "metadata": {
    "vscode": {
     "languageId": "sql"
    }
   },
   "outputs": [],
   "source": [
    "SELECT \n",
    "    COUNT(DISTINCT(rating)),\n",
    "    COUNT(DISTINCT(rental_rate))\n",
    "FROM \n",
    "    film;"
   ]
  },
  {
   "attachments": {},
   "cell_type": "markdown",
   "metadata": {},
   "source": [
    "Notice here, we apply `COUNT` individually to each column  so we need to apply `DISTINCT` separately to each column.\n",
    "\n",
    "## `DATE TRUNC`\n",
    "\n",
    "`DATE TRUNC` stands for *date truncate* and can be a very useful function if you want to strip away values in a `timestamp`. This can help when you want to aggregate times together. The syntax is:"
   ]
  },
  {
   "cell_type": "code",
   "execution_count": null,
   "metadata": {
    "vscode": {
     "languageId": "sql"
    }
   },
   "outputs": [],
   "source": [
    "DATE_TRUNC({field}, {column})"
   ]
  },
  {
   "attachments": {},
   "cell_type": "markdown",
   "metadata": {},
   "source": [
    "With `DATE_TRUNC` you can remove values from the `timestamp` up to the specified `field` value. The options for the `field` value are:\n",
    "\n",
    "- `microseconds`\n",
    "- `milliseconds`\n",
    "- `second`\n",
    "- `minute`\n",
    "- `hour`\n",
    "- `day`\n",
    "- `week`\n",
    "- `month`\n",
    "- `quarter`\n",
    "- `year`\n",
    "- `decade`\n",
    "- `century`\n",
    "- `millennium`\n",
    "\n",
    "If we specified `DATE_TRUNC('day', {column})` the function would truncate(remove) all values up to the date value in a timestamp.\n",
    "\n",
    "Imagine you want to group together all the days a rental was made by `rental_date`. In the `rental` table the `rental_date` has values such as, `2005-05-24 23:03:39` and `2005-05-24 22:54:33`. Though rentals occurred on the same day, if we try to group the data by these values they won't belong to the same group since the times are different. \n",
    "\n",
    "We can instead truncate the date up to the day value so that the value of these dates will be the same:\n",
    "\n"
   ]
  },
  {
   "cell_type": "code",
   "execution_count": null,
   "metadata": {
    "vscode": {
     "languageId": "sql"
    }
   },
   "outputs": [],
   "source": [
    "SELECT DATE_TRUNC('day', rental_date)\n",
    "FROM rental;"
   ]
  },
  {
   "attachments": {},
   "cell_type": "markdown",
   "metadata": {},
   "source": [
    "After running this query you can see the values `2005-05-24 23:03:39` and `2005-05-24 22:54:33` have both been stripped of their time values, so both have the value `2005-05-24 00:00:00`. This could be useful when you want to group the entries together by day of the month. You will learn how to then group the data using a `GROUP BY` in the next lesson."
   ]
  },
  {
   "cell_type": "code",
   "execution_count": null,
   "metadata": {
    "vscode": {
     "languageId": "sql"
    }
   },
   "outputs": [],
   "source": [
    "SELECT DATE_TRUNC('day', rental_date) AS rental_day,\n",
    "       COUNT(rental_date) AS total_daily_rentals\n",
    "FROM \n",
    "    rental\n",
    "ORDER BY\n",
    "    total_daily_rentals DESC;"
   ]
  },
  {
   "attachments": {},
   "cell_type": "markdown",
   "metadata": {},
   "source": [
    "## `DATE PART/EXTRACT`\n",
    "\n",
    "The `DATE_PART` or `EXTRACT` allows us to extract a specific field from a `timestamp` or `interval`, with the following syntax:"
   ]
  },
  {
   "cell_type": "code",
   "execution_count": null,
   "metadata": {
    "vscode": {
     "languageId": "sql"
    }
   },
   "outputs": [],
   "source": [
    "DATE_PART({field}, {timestamp/interval})\n",
    "EXTRACT({field from timestamp/interval})"
   ]
  },
  {
   "attachments": {},
   "cell_type": "markdown",
   "metadata": {},
   "source": [
    "There is a slight difference between `EXTRACT` and `DATE_PART` though in most cases they can be used interchangeably. Since PostgreSQL 14 `EXTRACT` returns a `numeric` type and `DATE_PART` returns a `double precision` type. Double precision has precision up to 15 digits after the decimal point and numeric is up to 16383 so they can round slightly differently in rare cases. \n",
    "\n",
    "The `field` value allows you to specify which part of the `interval` or `timestamp` you would like to extract and has the same options as `DATE_TRUNC` plus additionally:\n",
    "\n",
    "- `timezone`: extract the timezone\n",
    "- `timezone_hour`: hour component of the time zone\n",
    "- `timezone_minute`: minute component of the time zone\n",
    "- `dow`: numerical value for the day of the week\n",
    "- `doy`: numerical value for the day of the year\n",
    "- `epoch`: number of seconds past since 1970-01-01 00:00:00\n",
    "\n",
    "An example of extracting the year from the `payment_date` in the `payment` table:\n",
    "\n"
   ]
  },
  {
   "cell_type": "code",
   "execution_count": null,
   "metadata": {
    "vscode": {
     "languageId": "sql"
    }
   },
   "outputs": [],
   "source": [
    "SELECT EXTRACT('dow' from payment_date) as day_taken_payment\n",
    "FROM payment;"
   ]
  },
  {
   "attachments": {},
   "cell_type": "markdown",
   "metadata": {},
   "source": [
    "## `CASE`\n",
    "\n",
    "The `CASE` statement checks multiple conditional statements and returns a value when one is met. It evaluates each statement in order, and once one is met it will return the specified value from that statement. You will always find the `CASE` statement as part of the `SELECT` clause. \n",
    "\n",
    "The `CASE` statement is created using the keywords `WHEN`, `THEN`, `END` and optionally `ELSE` or `AS`. Let's take a look at the syntax of the statement: "
   ]
  },
  {
   "cell_type": "code",
   "execution_count": null,
   "metadata": {
    "vscode": {
     "languageId": "sql"
    }
   },
   "outputs": [],
   "source": [
    "CASE \n",
    "    WHEN condition THEN result\n",
    "    [WHEN ...]\n",
    "    [ELSE result]\n",
    "END AS {column alias}"
   ]
  },
  {
   "attachments": {},
   "cell_type": "markdown",
   "metadata": {},
   "source": [
    "First the `CASE` statement is created with the `CASE` keyword and ends when it reaches the `END` keyword. This can be followed by `AS`, to alias the newly created column from the `CASE` statement. Each condition in the `CASE` statement starts with `WHEN condition`. If this condition is met then its associated `THEN result` updates the new column with `result`. \n",
    "\n",
    "You can think of `CASE` like `if else` statements in another programming language. The Pythonic way to view this is:"
   ]
  },
  {
   "cell_type": "code",
   "execution_count": null,
   "metadata": {},
   "outputs": [],
   "source": [
    "if condition_1:\n",
    "    return value_1\n",
    "elif condition_2:\n",
    "    return value_2\n",
    "else:\n",
    "    return value_3 "
   ]
  },
  {
   "attachments": {},
   "cell_type": "markdown",
   "metadata": {},
   "source": [
    "Let's create a `CASE` statement to categorise each film in the `film` table based on their `rental_rate`:"
   ]
  },
  {
   "cell_type": "code",
   "execution_count": null,
   "metadata": {
    "vscode": {
     "languageId": "sql"
    }
   },
   "outputs": [],
   "source": [
    "SELECT title, \n",
    "       release_year, \n",
    "       rental_rate,\n",
    "CASE\n",
    "    WHEN rental_rate > 0 AND rental_rate < 2.99 THEN 'discount'\n",
    "    WHEN rental_rate >= 2.99 AND rental_rate < 4.99 THEN 'regular'\n",
    "    ELSE 'premium'\n",
    "END AS quality\n",
    "FROM \n",
    "    film;"
   ]
  },
  {
   "attachments": {},
   "cell_type": "markdown",
   "metadata": {},
   "source": [
    "Notice we're using the `rental_rate` column to determine which quality category each film should belong to. \n",
    "\n",
    "We have the ranges:\n",
    "\n",
    "- `WHEN rental_rate > 0 AND rental_rate < 2.99 THEN 'discount'`\n",
    "- `WHEN rental_rate >= 2.99 AND rental_rate < 4.99 THEN 'regular'`\n",
    "- `ELSE premium`\n",
    "\n",
    "After the `CASE` statement is completed with `END`, we've aliased the column to create `AS quality`. So the first statement is saying if the `rental_rate` is between `0` and less than `2.99` then the value `discount` will be inserted into the new column `quality`. If it's between `2.99` and `4.99` then the value `regular` will be inserted. In all other cases the value `premium` will inserted into the column. \n",
    "\n",
    "## Key Takeaways\n",
    "\n",
    "- **Aggregations** are a powerful want to summarise your data\n",
    "- **Aggregations** can be used in conjunction with the **arithmetic operators** to perform calculation on your aggregated data\n",
    "- The `DISTINCT` keyword can be a great way to understand data on initial viewing. You can use it to view all unique values in a column\n",
    "- `DATE PART/EXTRACT` can give retrieve almost any part of a timestamp so use it when you need time values\n",
    "- The `DATE TRUNC` function can used great when you need to aggregate the data by a specific part of a **timestamp**\n",
    "- The `CASE` statement can be a great way to generate new columns based on the value of other columns in your table"
   ]
  }
 ],
 "metadata": {
  "kernelspec": {
   "display_name": "base",
   "language": "python",
   "name": "python3"
  },
  "language_info": {
   "name": "python",
   "version": "3.10.9"
  },
  "vscode": {
   "interpreter": {
    "hash": "a2592652612463181e69ac003232387e3e9a99279aa6b168e76f5df16d5110f4"
   }
  }
 },
 "nbformat": 4,
 "nbformat_minor": 2
}
