{
 "cells": [
  {
   "cell_type": "markdown",
   "metadata": {},
   "source": [
    "# Window Functions"
   ]
  },
  {
   "cell_type": "markdown",
   "metadata": {},
   "source": [
    "## What is the primary purpose of window functions in SQL?\n",
    "\n",
    "- Grouping rows into distinct partitions\n",
    "- Performing calculations on entire datasets\n",
    "- Operating within a defined window of rows ***\n",
    "- Sorting rows in ascending order"
   ]
  },
  {
   "cell_type": "markdown",
   "metadata": {},
   "source": [
    "## Which function is commonly used to calculate running totals in SQL?\n",
    "\n",
    "- `SUM()` ***\n",
    "- `AVG()`\n",
    "- `FIRST_VALUE()`\n",
    "- `ROW_NUMBER()`"
   ]
  },
  {
   "cell_type": "markdown",
   "metadata": {},
   "source": [
    "## What is the purpose of the `ROWS BETWEEN` clause in SQL window functions?\n",
    "\n",
    "- Specifying the number of partitions\n",
    "- Determining the order of rows within a partition\n",
    "- Defining the range of rows for window calculations ***\n",
    "- Filtering rows based on specific criteria"
   ]
  },
  {
   "cell_type": "markdown",
   "metadata": {},
   "source": [
    "## True or False: In SQL window functions, `LEAD()` retrieves the value from the previous row within a partition.\n",
    "\n",
    "- True\n",
    "- False ***"
   ]
  },
  {
   "cell_type": "markdown",
   "metadata": {},
   "source": [
    "## What does the `PARTITION BY` clause do in window functions?\n",
    "\n",
    "- Sorts rows within each partition\n",
    "- Specifies the range of rows for window calculations\n",
    "- Divides the dataset into distinct groups ***\n",
    "- Assigns ranks to rows based on specified criteria"
   ]
  },
  {
   "cell_type": "markdown",
   "metadata": {},
   "source": [
    "## What is the purpose of the `ORDER BY` clause in SQL window functions?\n",
    "\n",
    "- Dividing the dataset into distinct groups\n",
    "- Sorting rows within each partition\n",
    "- Filtering rows based on specific criteria ***\n",
    "- Assigning ranks to rows based on specified criteria"
   ]
  },
  {
   "cell_type": "markdown",
   "metadata": {},
   "source": [
    "## Which window function is used to access data from subsequent rows within a partition?\n",
    "\n",
    "- `LEAD()` ***\n",
    "- `LAG()`\n",
    "- `FIRST_VALUE()`\n",
    "- `LAST_VALUE()`"
   ]
  }
 ],
 "metadata": {
  "language_info": {
   "name": "python"
  },
  "orig_nbformat": 4
 },
 "nbformat": 4,
 "nbformat_minor": 2
}
