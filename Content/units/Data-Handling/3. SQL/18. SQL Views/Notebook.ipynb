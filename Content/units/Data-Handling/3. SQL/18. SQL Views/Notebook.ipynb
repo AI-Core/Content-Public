{
 "cells": [
  {
   "cell_type": "markdown",
   "metadata": {},
   "source": [
    "# Views"
   ]
  },
  {
   "cell_type": "markdown",
   "metadata": {},
   "source": [
    ">Views are database objects that take the form of virtual tables, acting like shortcuts to regularly used queries. Queries can be saved as views, so that rather than repeatedly typing out the same query structure, you can refer to the view instead. Once created, views can be used in any subsequent query. They provide a way to encapsulate frequently-used logic into reusable elements, making your queries more DRY. "
   ]
  },
  {
   "cell_type": "markdown",
   "metadata": {},
   "source": [
    "Views are dynamic: they do not store any data directly, but instead are representations of the tables from which they are created. They don’t change the size of your data model, and if you update the date in the underlying table, the view will also update accordingly. The exception to this rule is a special type of view called a *Materialized View*, which will be covered later in this lesson."
   ]
  },
  {
   "cell_type": "markdown",
   "metadata": {},
   "source": [
    "## Properties of Views"
   ]
  },
  {
   "cell_type": "markdown",
   "metadata": {},
   "source": [
    "Like other tables, you can:\n",
    "\n",
    "- Query a view\n",
    "- `JOIN` views to regular tables, or to other views\n",
    "- Perform typical query operations like filtering and aggregations\n",
    "- Perform **CRUD** operations via the view onto the underlying tables\n",
    "\n",
    "Common use-cases of views:\n",
    "\n",
    "- **Avoid Effort Duplication:** Write a query once, and store it as a view for referencing in future queries\n",
    "- **Reduce Complexity:** Improve readability and use for yourself or other database users by showing only the columns relevant for a particular task\n",
    "- **Increase Security:** Views can be used to limit user access to specific subsets of a database by granting permissions for users to use specific views, but not the underlying tables"
   ]
  },
  {
   "cell_type": "markdown",
   "metadata": {},
   "source": [
    "## Creating Views"
   ]
  },
  {
   "cell_type": "markdown",
   "metadata": {},
   "source": [
    "The syntax for creating a view is as follows:\n",
    "\n",
    "\n",
    "```sql\n",
    "CREATE VIEW view_name AS {query};\n",
    "```\n",
    "\n",
    "\n",
    "You can also overwrite an existing view with the following syntax:\n",
    "\n",
    "\n",
    "```sql\n",
    "REPLACE VIEW view_name AS {query};\n",
    "```\n",
    "\n",
    "These two pieces of syntax are usually combined into a single statement which will either create or update the view depending on whether it already exists:\n",
    "\n",
    "```sql\n",
    "CREATE OR REPLACE VIEW view_name AS {query};\n",
    "```\n",
    "\n",
    "As a simple example, you might create a view called `movie_list` from the `film` table in the **Pagila** database, containing just the `film_id` (primary key), `title` and `rating` of the film, as follows:\n"
   ]
  },
  {
   "cell_type": "code",
   "execution_count": null,
   "metadata": {
    "vscode": {
     "languageId": "sql"
    }
   },
   "outputs": [],
   "source": [
    "\n",
    "\n",
    "CREATE OR REPLACE VIEW movie_list AS\n",
    "SELECT \n",
    "    film_id,\n",
    "    title,\n",
    "    rating\n",
    "FROM \n",
    "    film;\n",
    "\n"
   ]
  },
  {
   "cell_type": "markdown",
   "metadata": {},
   "source": [
    "\n",
    "After creating the view, you can then query it just like any other table:\n"
   ]
  },
  {
   "cell_type": "code",
   "execution_count": null,
   "metadata": {
    "vscode": {
     "languageId": "sql"
    }
   },
   "outputs": [],
   "source": [
    "\n",
    "SELECT title, rating FROM movie_list\n",
    "WHERE rating = 'PG-13'\n",
    "ORDER BY title DESC\n",
    "LIMIT 5;"
   ]
  },
  {
   "cell_type": "markdown",
   "metadata": {},
   "source": [
    "\n",
    "<p align=\"center\">\n",
    "    <img src=\"images/first_query_result.jpg\"  width=\"700\"/>\n",
    "</p>\n",
    "<br>"
   ]
  },
  {
   "cell_type": "markdown",
   "metadata": {},
   "source": [
    "Typically, views are created for more complex queries, for example by joining tables and performing aggregations. This can simplify future queries by removing the need for Common Table Expressions (CTEs) and subqueries. For example the following SQL statement creates a view of the total revenue per customer for the DVD rental business in the **Pagila** database, by joining the `customer` and `payment` tables and aggregating the `payment_amount` as a sum:"
   ]
  },
  {
   "cell_type": "code",
   "execution_count": null,
   "metadata": {
    "vscode": {
     "languageId": "sql"
    }
   },
   "outputs": [],
   "source": [
    "CREATE OR REPLACE VIEW customer_payments AS\n",
    "SELECT \n",
    "    customer.customer_id,\n",
    "    customer.first_name,\n",
    "    customer.last_name,\n",
    "    SUM(payment.amount) AS total_paid\n",
    "FROM \n",
    "    customer\n",
    "JOIN \n",
    "    payment ON customer.customer_id = payment.customer_id\n",
    "GROUP BY \n",
    "    customer.customer_id, customer.first_name, customer.last_name;"
   ]
  },
  {
   "cell_type": "markdown",
   "metadata": {},
   "source": [
    "<p align=\"center\">\n",
    "    <img src=\"images/second_query_result.jpg\"  width=\"700\"/>\n",
    "</p>\n",
    "<br>"
   ]
  },
  {
   "cell_type": "markdown",
   "metadata": {},
   "source": [
    "## View Management"
   ]
  },
  {
   "cell_type": "markdown",
   "metadata": {},
   "source": [
    "\n",
    "\n",
    "To rename a view, the syntax is:\n",
    "\n",
    "```sql\n",
    "ALTER VIEW view_name RENAME TO new_view_name;\n",
    "```\n",
    "\n",
    "To delete a view, use the following syntax:\n",
    "\n",
    "```sql\n",
    "DROP VIEW view_name;\n",
    "```"
   ]
  },
  {
   "cell_type": "markdown",
   "metadata": {},
   "source": [
    "## Materlialized Views"
   ]
  },
  {
   "cell_type": "markdown",
   "metadata": {},
   "source": [
    ">Unlike standard views, materialized views **do** store the underlying data that was used to create the view. They are used to cache the results of a query, which can be used to improve performance for expensive queries that are used regularly. \n",
    "\n",
    "They can also be used to create permanent, time-dependent aggregations of data, such as calculating monthly or yearly sales data. Whereas regular views update dynamically with the tables that were used to generate them, materialized views maintain a snapshot of the data as it was at the moment the view was created. In contrast to standard views, materlialized views increase the size of the data model."
   ]
  },
  {
   "cell_type": "markdown",
   "metadata": {},
   "source": [
    "Materialized views can be created as follows:\n",
    "\n",
    "```sql\n",
    "CREATE MATERIALIZED VIEW IF NOT EXISTS view_name AS \n",
    "{query}\n",
    "WITH [NO] DATA; \n",
    "```\n",
    "\n",
    "The `WITH DATA` option is used when you intend to populate the materialized view with data at the time of its creation, whereas the `WITH NO DATA` option can be used it you want to define the view but don’t yet want to populate it with any data.\n",
    "\n",
    "The following materialized view counts the total number of actors in each film, but does not yet populate it with any data:"
   ]
  },
  {
   "cell_type": "code",
   "execution_count": null,
   "metadata": {
    "vscode": {
     "languageId": "sql"
    }
   },
   "outputs": [],
   "source": [
    "CREATE MATERIALIZED VIEW film_actor_count AS\n",
    "SELECT \n",
    "    film.film_id,\n",
    "    film.title,\n",
    "    COUNT(film_actor.actor_id) AS actor_count\n",
    "FROM \n",
    "    film\n",
    "JOIN \n",
    "    film_actor ON film.film_id = film_actor.film_id\n",
    "GROUP BY \n",
    "    film.film_id, film.title\n",
    "WITH NO DATA;"
   ]
  },
  {
   "cell_type": "markdown",
   "metadata": {},
   "source": [
    "When we attempt to query the view:\n",
    "\n",
    "```sql\n",
    "SELECT * FROM film_actor_count;\n",
    "```\n",
    "\n",
    "Nothing is immediately returned, because there is no data in the view yet.\n",
    "\n",
    "<p align=\"center\">\n",
    "    <img src=\"images/empty_view.jpg\"  width=\"700\"/>\n",
    "</p>\n",
    "<br>"
   ]
  },
  {
   "cell_type": "markdown",
   "metadata": {},
   "source": [
    "We can update (*refresh*) the data in a materialized view with the following syntax:\n",
    "\n",
    "\n",
    "```sql\n",
    "REFRESH MATERIALIZED VIEW film_actor_count;\n",
    "```\n",
    "\n",
    "\n",
    "After running this statement, the `SELECT` statement returns data:\n",
    "\n",
    "<p align=\"center\">\n",
    "    <img src=\"images/third_query_result.jpg\"  width=\"700\"/>\n",
    "</p>\n",
    "<br>\n",
    "\n",
    "The decision of whether to use a standard view or a materialized view is a tradeoff, between execution time and data model size on the one hand, and data freshness on the other. If it is more important that a query run quickly, a materialized view is better. If it is more important that the data are current, then a standard view is preferable."
   ]
  },
  {
   "cell_type": "markdown",
   "metadata": {},
   "source": [
    "## Key Takeaways\n",
    "\n",
    "- **Dynamic Representation**: Views act as virtual tables, representing queries that reflect the current state of the underlying tables, but do not store data themselves\n",
    "\n",
    "- **DRY Principle**: By using views, you encapsulate queries you use frequently, adhering to the DRY principle, thereby reducing redundancy in database operations\n",
    "\n",
    "- **View Management**: Operations like renaming and deleting views are supported, allowing effective management of views within the database environment\n",
    "\n",
    "- **Simplified Querying**: Views allow users to execute complex queries easily by abstracting the underlying complexity into a simpler interface, improving readability and manageability\n",
    "\n",
    "- **Enhanced Security**: Views can restrict access to data by exposing only specific fields or records, thus enhancing database security through controlled visibility.\n",
    "\n",
    "- **SQL Syntax for Views**: The `CREATE OR REPLACE VIEW` command is used to define views\n",
    "\n",
    "- **Join and CRUD Operations**: Views can be joined with other views or tables and can be used for CRUD operations, offering flexible interaction with the database\n",
    "\n",
    "- **Materialized Views**: Unlike standard views, materialized views store query results and can improve performance for complex, frequently executed queries by caching the data"
   ]
  }
 ],
 "metadata": {
  "language_info": {
   "name": "python"
  }
 },
 "nbformat": 4,
 "nbformat_minor": 2
}
