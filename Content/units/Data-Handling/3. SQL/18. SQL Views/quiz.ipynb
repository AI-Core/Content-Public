{
 "cells": [
  {
   "cell_type": "markdown",
   "metadata": {},
   "source": [
    "# SQL Views"
   ]
  },
  {
   "cell_type": "markdown",
   "metadata": {},
   "source": [
    "## Which of the following SQL commands can be used to create a view?\n",
    "\n",
    "- `CREATE VIEW view_name AS {query};` ***\n",
    "- `CREATE TABLE view_name AS {query};`\n",
    "- `CREATE VIEW {query} AS view_name;`\n",
    "- `CREATE TABLE {query} AS view_name;;`"
   ]
  },
  {
   "cell_type": "markdown",
   "metadata": {},
   "source": [
    "## True or False: Standard views store the data directly and do not update when the underlying table changes.\n",
    "\n",
    "- True\n",
    "- False ***"
   ]
  },
  {
   "cell_type": "markdown",
   "metadata": {},
   "source": [
    "## What is a key benefit of using views in SQL?\n",
    "\n",
    "- Views can store large amounts of data\n",
    "- Views improve query performance by storing query results\n",
    "- Views can encapsulate frequently-used logic into reusable elements ***\n",
    "- Views automatically optimize queries"
   ]
  },
  {
   "cell_type": "markdown",
   "metadata": {},
   "source": [
    "# What is a primary difference between a standard view and a materialized view?\n",
    "\n",
    "- Standard views store data, materialized views do not\n",
    "- Materialized views store data, standard views do not ***\n",
    "- Standard views improve performance, materialized views do not\n",
    "- Materialized views cannot be refreshed\n"
   ]
  },
  {
   "cell_type": "markdown",
   "metadata": {},
   "source": [
    "## True or False: You can join a view with other views or tables.\n",
    "\n",
    "- True ***\n",
    "- False"
   ]
  },
  {
   "cell_type": "markdown",
   "metadata": {},
   "source": [
    "## True or False: You can perform CRUD operations via a view onto the underlying tables.\n",
    "\n",
    "- True ***\n",
    "- False"
   ]
  },
  {
   "cell_type": "markdown",
   "metadata": {},
   "source": [
    "## What happens to a view if the underlying table data is updated?\n",
    "\n",
    "- The view remains unchanged\n",
    "- The view updates dynamically ***\n",
    "- The view gets deleted\n",
    "- The view needs to be recreated"
   ]
  }
 ],
 "metadata": {
  "language_info": {
   "name": "python"
  }
 },
 "nbformat": 4,
 "nbformat_minor": 2
}
