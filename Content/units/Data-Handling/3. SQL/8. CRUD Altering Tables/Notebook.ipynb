{
 "cells": [
  {
   "attachments": {},
   "cell_type": "markdown",
   "metadata": {},
   "source": [
    "<h2 style=\"color: rgb(241, 90, 36)\"><img src=\"./images/SQLIcon.png?modified=223\" width=80px height=80px style=\"vertical-align: middle;\">CRUD Altering Tables</h2>\n",
    "\n",
    "After you have inserted data into your database tables, there of course might be a need to alter, or insert new data. In this notebook you will learn how you can update your tables using **CRUD operations**.\n",
    "\n",
    "## Adding/removing columns\n",
    "\n",
    "When updating a table you can add or drop columns, rows or completely change data points, as long as the data matches the correct type and the constraints are met. \n",
    "\n",
    "Manipulations of columns are done using the `ALTER TABLE` statement with the following syntax:"
   ]
  },
  {
   "cell_type": "code",
   "execution_count": null,
   "metadata": {
    "vscode": {
     "languageId": "sql"
    }
   },
   "outputs": [],
   "source": [
    "ALTER TABLE {table_name} \n",
    "    ADD COLUMN {column name} {data_type} {constraint};"
   ]
  },
  {
   "attachments": {},
   "cell_type": "markdown",
   "metadata": {},
   "source": [
    "Adding a new `available` column to signify that a film is available for rental:"
   ]
  },
  {
   "cell_type": "code",
   "execution_count": null,
   "metadata": {
    "vscode": {
     "languageId": "sql"
    }
   },
   "outputs": [],
   "source": [
    "ALTER TABLE rental\n",
    "    ADD COLUMN available BOOLEAN NOT NULL DEFAULT True;"
   ]
  },
  {
   "attachments": {},
   "cell_type": "markdown",
   "metadata": {},
   "source": [
    "Notice the additional statement keyword `DEFAULT` was added with the value set to `True`. Since we set column constraint to be `NOT NULL`, we needed to set the default value as the column can't contain `NULL` values. SQL would throw an error if we didn't set this default value. \n",
    "\n",
    "Dropping columns can also be done using the syntax:"
   ]
  },
  {
   "cell_type": "code",
   "execution_count": null,
   "metadata": {
    "vscode": {
     "languageId": "sql"
    }
   },
   "outputs": [],
   "source": [
    "ALTER TABLE {table_name}\n",
    "    DROP COLUMN {column_name} [ RESTRICT | CASCADE ];"
   ]
  },
  {
   "attachments": {},
   "cell_type": "markdown",
   "metadata": {},
   "source": [
    "Again we can choose to cascade the dropping of constraints and relationships if another table depends on the column."
   ]
  },
  {
   "cell_type": "code",
   "execution_count": null,
   "metadata": {
    "vscode": {
     "languageId": "sql"
    }
   },
   "outputs": [],
   "source": [
    "ALTER TABLE rental\n",
    "    DROP COLUMN available;"
   ]
  },
  {
   "attachments": {},
   "cell_type": "markdown",
   "metadata": {},
   "source": [
    "<h3 style=\"color: rgb(241, 90, 36)\">Renaming columns and tables</h3>\n",
    "\n",
    "You might want to rename columns or tables if they no longer make sense to the current needs of the business.\n",
    "\n",
    "To change this name of a table use the following syntax:"
   ]
  },
  {
   "cell_type": "code",
   "execution_count": null,
   "metadata": {
    "vscode": {
     "languageId": "sql"
    }
   },
   "outputs": [],
   "source": [
    "ALTER TABLE {table_name}\n",
    "    RENAME TO {new_table_name};"
   ]
  },
  {
   "attachments": {},
   "cell_type": "markdown",
   "metadata": {},
   "source": [
    "Column renaming can be done with:"
   ]
  },
  {
   "cell_type": "code",
   "execution_count": null,
   "metadata": {
    "vscode": {
     "languageId": "sql"
    }
   },
   "outputs": [],
   "source": [
    "ALTER TABLE {table_name}\n",
    "    RENAME {previous_column_name} TO {new_column_name};"
   ]
  },
  {
   "attachments": {},
   "cell_type": "markdown",
   "metadata": {},
   "source": [
    "<h3 style=\"color: rgb(241, 90, 36)\">Changing column types</h3>\n",
    "\n",
    "Often column types may need to be changed, this could be due to the current data type not handling the size of the data correctly. The data type could be too small to hold the data or too large, taking up extra space. Sometimes on first insertion of data into a new table by another service or application the data types might be inferred. This can lead to data being modelled incorrectly and thus might need to be altered.\n",
    "\n",
    "The syntax to alter the column data type is:\n"
   ]
  },
  {
   "cell_type": "code",
   "execution_count": null,
   "metadata": {
    "vscode": {
     "languageId": "sql"
    }
   },
   "outputs": [],
   "source": [
    "ALTER TABLE {table_name}\n",
    "    ALTER COLUMN {column_name} TYPE {data type};"
   ]
  },
  {
   "attachments": {},
   "cell_type": "markdown",
   "metadata": {},
   "source": [
    "We could remove the time zone from the `rental_date` column in the `rental` table by casting it to a timestamp without time zone:"
   ]
  },
  {
   "cell_type": "code",
   "execution_count": null,
   "metadata": {
    "vscode": {
     "languageId": "sql"
    }
   },
   "outputs": [],
   "source": [
    "\n",
    "ALTER TABLE rental\n",
    "    ALTER COLUMN rental_date TYPE TIMESTAMP without TIME ZONE;"
   ]
  },
  {
   "attachments": {},
   "cell_type": "markdown",
   "metadata": {},
   "source": [
    "Although casting is great for quickly converting column types, it won't work in all cases. The current data type to be cast has to be of the correct form to be cast to the new value. For example you can't cast a `timestamp` to an `integer`, but casting an `integer` to another `numerical` type like a `real` would be possible."
   ]
  },
  {
   "attachments": {},
   "cell_type": "markdown",
   "metadata": {},
   "source": [
    "## Adding/Removing constraints\n",
    "\n",
    "Constraints can also be altered after the table was created using `ALTER TABLE`. This can be used to both add and remove table constraints.\n",
    "\n",
    "To remove constraints use the following syntax:\n"
   ]
  },
  {
   "cell_type": "code",
   "execution_count": null,
   "metadata": {
    "vscode": {
     "languageId": "sql"
    }
   },
   "outputs": [],
   "source": [
    "ALTER TABLE {table_name}\n",
    "    DROP CONSTRAINT {name_of_the_constraint} [ RESTRICT | CASCADE]"
   ]
  },
  {
   "attachments": {},
   "cell_type": "markdown",
   "metadata": {},
   "source": [
    "Table constraints can be added with:"
   ]
  },
  {
   "cell_type": "code",
   "execution_count": null,
   "metadata": {
    "vscode": {
     "languageId": "sql"
    }
   },
   "outputs": [],
   "source": [
    "ALTER TABLE {table_name}\n",
    "    ADD {table_constraint}"
   ]
  },
  {
   "attachments": {},
   "cell_type": "markdown",
   "metadata": {},
   "source": [
    "For example adding a constraint that the `staff_id > 0` to the `staff` table:"
   ]
  },
  {
   "cell_type": "code",
   "execution_count": null,
   "metadata": {
    "vscode": {
     "languageId": "sql"
    }
   },
   "outputs": [],
   "source": [
    "ALTER TABLE staff\n",
    "    ADD CHECK (staff_id > 0)\n",
    "\n",
    "-- Or with a named constraint, always better to name your constraint as best practice\n",
    "\n",
    "ALTER TABLE staff\n",
    "    ADD CONSTRAINT min_staff_id CHECK (staff_id > 0)"
   ]
  },
  {
   "attachments": {},
   "cell_type": "markdown",
   "metadata": {},
   "source": [
    "## Adding new rows\n",
    "\n",
    "To add new rows to a table we can use the following syntax: "
   ]
  },
  {
   "cell_type": "code",
   "execution_count": null,
   "metadata": {
    "vscode": {
     "languageId": "sql"
    }
   },
   "outputs": [],
   "source": [
    "INSERT INTO {table_name} \n",
    "    ({column_1}, {column_2}, ....)\n",
    "VALUES \n",
    "    ({column_1 value}, {column_2 value}, ......);"
   ]
  },
  {
   "attachments": {},
   "cell_type": "markdown",
   "metadata": {},
   "source": [
    "Let's insert a new film category into the `category` table:"
   ]
  },
  {
   "cell_type": "code",
   "execution_count": null,
   "metadata": {
    "vscode": {
     "languageId": "sql"
    }
   },
   "outputs": [],
   "source": [
    "INSERT INTO category\n",
    "    (name, last_update)\n",
    "VALUES \n",
    "    ('Thriller', NOW());"
   ]
  },
  {
   "attachments": {},
   "cell_type": "markdown",
   "metadata": {},
   "source": [
    "Important to note here that the order of `(name, last_update)` only matters when referencing the values to be inserted. In the `VALUES` clause we have input `('Thriller', NOW())` to insert the category `'Thriller'` at the current datetime `NOW()`. Since `name` comes first in the `INSERT INTO` clause `Thriller` will be inserting into the `name` column first and the timestamp `NOW()` inserted into the `last_update` column as it comes second. \n",
    "\n",
    "This order doesn't need to reflect the ordering of the table. It just needs to be ordered in the correct way in the `INSERT INTO` and `VALUES` clauses, better seen with an example:"
   ]
  },
  {
   "cell_type": "code",
   "execution_count": null,
   "metadata": {
    "vscode": {
     "languageId": "sql"
    }
   },
   "outputs": [],
   "source": [
    "INSERT INTO category\n",
    "    (last_update, name)\n",
    "VALUES \n",
    "    (NOW(), 'Thriller');"
   ]
  },
  {
   "attachments": {},
   "cell_type": "markdown",
   "metadata": {},
   "source": [
    "This would insert the same data, the positions of the arguments only matter in the statement itself. We also didn't include the column `id` since SQL will auto generate the `id` on table insertion.\n",
    "\n",
    "<h4 style=\"color: rgb(241, 90, 36)\">Inserting rows with SELECT</h4>\n",
    "\n",
    "SQL also gives you the ability to insert rows into tables using the `SELECT` statement. The syntax is a little different from inserting rows using the `VALUES` clause. Rows can be inserted with the `SELECT` statement using the syntax:\n"
   ]
  },
  {
   "cell_type": "code",
   "execution_count": null,
   "metadata": {
    "vscode": {
     "languageId": "sql"
    }
   },
   "outputs": [],
   "source": [
    "INSERT INTO {table_name} \n",
    "    ({column_1}, {column_2}, ....)\n",
    "(SELECT query);"
   ]
  },
  {
   "attachments": {},
   "cell_type": "markdown",
   "metadata": {},
   "source": [
    "Let's create a small table in the database which will contain films starting with the letter B and a few details about the films. We will use the `film` table to get the data to insert using a `SELECT` statement:"
   ]
  },
  {
   "cell_type": "code",
   "execution_count": null,
   "metadata": {
    "vscode": {
     "languageId": "sql"
    }
   },
   "outputs": [],
   "source": [
    "CREATE TABLE b_films (\n",
    "    title VARCHAR(300) UNIQUE NOT NULL,\n",
    "    description TEXT NOT NULL,\n",
    "    release_year NOT NULL,\n",
    "    rating CHAR(5) NOT NULL\n",
    ");"
   ]
  },
  {
   "attachments": {},
   "cell_type": "markdown",
   "metadata": {},
   "source": [
    "Now we can insert the data using `SELECT`. When selecting the data we need to select the same number of columns we want to insert and of the correct data type to insert or SQL will cause an error. "
   ]
  },
  {
   "cell_type": "code",
   "execution_count": null,
   "metadata": {
    "vscode": {
     "languageId": "sql"
    }
   },
   "outputs": [],
   "source": [
    "INSERT INTO B_films(title, description, release_year, rating)\n",
    "(SELECT title, \n",
    "        description, \n",
    "        release_year,\n",
    "        rating\n",
    "    FROM\n",
    "        film\n",
    "    WHERE \n",
    "        title LIKE 'B%\n",
    ");"
   ]
  },
  {
   "attachments": {},
   "cell_type": "markdown",
   "metadata": {},
   "source": [
    "This fills the `b_films` table with all films starting with the letter B. You can add as much complexity to the `SELECT` query as you want, allowing you to quickly insert data into a new table from other tables."
   ]
  },
  {
   "attachments": {},
   "cell_type": "markdown",
   "metadata": {},
   "source": [
    "<h2 style=\"color: rgb(241, 90, 36)\">Updating data</h2>\n",
    "\n",
    "The `UPDATE` keyword is used to modify data already existing in the database. When combined with the `WHERE` statement you can accurately target rows or data you want to update. \n",
    "\n",
    "The syntax to update rows has the structure:"
   ]
  },
  {
   "cell_type": "code",
   "execution_count": null,
   "metadata": {
    "vscode": {
     "languageId": "sql"
    }
   },
   "outputs": [],
   "source": [
    "UPDATE {table_name}\n",
    "SET \n",
    "    {column_1} = {column_value_1}\n",
    "    {column_2} = {column_value_2}\n",
    "    ...\n",
    "WHERE {condition}"
   ]
  },
  {
   "attachments": {},
   "cell_type": "markdown",
   "metadata": {},
   "source": [
    "We tell SQL which columns we want to change the values of with the `SET` keyword. Which specifies the column to change and the value to change it to. Notice in the structure of the query we can change multiple columns at once.\n",
    "\n",
    "The `WHERE` keyword is then used as a conditional to check for the correct rows to update. \n",
    "\n",
    ">`WHERE` conditions can match multiple rows, so there's the possibility you might update multiple rows by accident when this wasn't intended. This is more likely to happen when using a `LIKE` statement to pattern match the rows. It's preferable to use the explicit `WHERE column = '<value>'` statements to ensure targeting of the correct information. \n",
    "\n",
    ">To avoid this, a careful way to do the update is, first use a `SELECT` and `WHERE` condition to find the rows you will use in the update. If the return rows are the rows you want to update then you can use that condition in the `UPDATE` statement.  \n",
    "\n",
    "Let's take a look at an an example of applying an `UPDATE`, we'll first `SELECT` the rows to make sure we're targeting the correct rows then update. Let's look at the example of what can go wrong when using a `LIKE` statement. We'll try and update the row with `title = AIRPLANE SIERRA` in the `film` table. Using `LIKE` to find films starting with `AIR`:"
   ]
  },
  {
   "cell_type": "code",
   "execution_count": null,
   "metadata": {
    "vscode": {
     "languageId": "sql"
    }
   },
   "outputs": [],
   "source": [
    "SELECT title \n",
    "FROM film\n",
    "WHERE title LIKE 'AIR%';"
   ]
  },
  {
   "attachments": {},
   "cell_type": "markdown",
   "metadata": {},
   "source": [
    "This query actually returned two films `AIRPLANE SIERRA` and `AIRPORT POLLOCK`, let's be more specific to avoid updating with incorrect information."
   ]
  },
  {
   "cell_type": "code",
   "execution_count": null,
   "metadata": {
    "vscode": {
     "languageId": "sql"
    }
   },
   "outputs": [],
   "source": [
    "SELECT title\n",
    "FROM film\n",
    "WHERE title = 'AIRPLANE SIERRA';"
   ]
  },
  {
   "attachments": {},
   "cell_type": "markdown",
   "metadata": {},
   "source": [
    "Perfect, we got an exact match, so we can use this in our `UPDATE` statement. Let's use the condition to update the `rental_rate` and the `release_year` columns. There was an error with the original data, the release year it was actually `2008` and the price has dropped to `2.99`."
   ]
  },
  {
   "cell_type": "code",
   "execution_count": null,
   "metadata": {
    "vscode": {
     "languageId": "sql"
    }
   },
   "outputs": [],
   "source": [
    "UPDATE film\n",
    "    SET rental_rate = 2.99,\n",
    "        release_year = 2010\n",
    "WHERE \n",
    "    title = 'AIRPLANE SIERRA';"
   ]
  },
  {
   "attachments": {},
   "cell_type": "markdown",
   "metadata": {},
   "source": [
    "Since we confirmed that we were selecting the correct data using the `SELECT/WHERE` query, the `UPDATE` has been applied to the desired row.\n",
    "\n",
    "`UPDATE` can also be used if the constraints allow, to clear the values in the rows using `NULL`:\n"
   ]
  },
  {
   "cell_type": "code",
   "execution_count": null,
   "metadata": {
    "vscode": {
     "languageId": "sql"
    }
   },
   "outputs": [],
   "source": [
    "UPDATE film\n",
    "    SET rental_rate = NULL,\n",
    "        release_year = NULL\n",
    "WHERE \n",
    "    title = 'AIRPLANE SIERRA';"
   ]
  },
  {
   "attachments": {},
   "cell_type": "markdown",
   "metadata": {},
   "source": [
    "<h2 style=\"color: rgb(241, 90, 36)\">Removing rows</h2>\n",
    "\n",
    "The syntax to delete a row from a table is:"
   ]
  },
  {
   "cell_type": "code",
   "execution_count": null,
   "metadata": {
    "vscode": {
     "languageId": "sql"
    }
   },
   "outputs": [],
   "source": [
    "DELETE FROM {table_name} \n",
    "WHERE {condition};"
   ]
  },
  {
   "attachments": {},
   "cell_type": "markdown",
   "metadata": {},
   "source": [
    "Remember you might want to verify you're going to delete the correct rows by first performing a `SELECT` statement before running a `DELETE` statement. In this case we will delete all rows in the `actor` table where the actors `first_name` is `Ben`. Since this query is so specific we can be sure we get the result we want and may not require the `SELECT` first. If you're ever unsure remember to use the `SELECT` first before the `DELETE`. "
   ]
  },
  {
   "cell_type": "code",
   "execution_count": null,
   "metadata": {
    "vscode": {
     "languageId": "sql"
    }
   },
   "outputs": [],
   "source": [
    "DELETE FROM actor\n",
    "WHERE first_name = 'Ben';"
   ]
  },
  {
   "attachments": {},
   "cell_type": "markdown",
   "metadata": {},
   "source": [
    "## Key Takeaways\n",
    "\n",
    "- Tables can be altered in almost any fashion: dropping rows, updating column, changing data types etc\n",
    "- `NULL` values in rows can be avoided by setting `DEFAULT` values for rows\n",
    "- Be careful when changing the data in your table. You can use a `SELECT` statement first to check the correct data is being changed\n",
    "- `CONSTRAINT`s can be added after a tables creation which can often be the case when you haven't fully modelled your data yet"
   ]
  }
 ],
 "metadata": {
  "kernelspec": {
   "display_name": "base",
   "language": "python",
   "name": "python3"
  },
  "language_info": {
   "name": "python",
   "version": "3.10.9"
  },
  "vscode": {
   "interpreter": {
    "hash": "a2592652612463181e69ac003232387e3e9a99279aa6b168e76f5df16d5110f4"
   }
  }
 },
 "nbformat": 4,
 "nbformat_minor": 2
}
