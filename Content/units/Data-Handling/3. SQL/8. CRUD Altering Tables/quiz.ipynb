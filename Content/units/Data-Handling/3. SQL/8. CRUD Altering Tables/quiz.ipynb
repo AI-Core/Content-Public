{
 "cells": [
  {
   "attachments": {},
   "cell_type": "markdown",
   "metadata": {},
   "source": [
    "# CRUD Altering Tables"
   ]
  },
  {
   "attachments": {},
   "cell_type": "markdown",
   "metadata": {},
   "source": [
    "## Which statements are true about adding columns to a SQL table? Select all that apply.\n",
    "\n",
    "- You can add constraints when creating the column ***\n",
    "- You can set default values for the column when it is added ***\n",
    "- You can add the `CASCADE` keyword to cascade all current relationships in the table\n",
    "- New columns need to be set with the `text` data type\n",
    "- You can only add two additional columns after the table is first created"
   ]
  },
  {
   "attachments": {},
   "cell_type": "markdown",
   "metadata": {},
   "source": [
    "## Which of the following are options you can use with `ALTER TABLE`? Select all that apply.\n",
    "\n",
    "- Renaming of columns ***\n",
    "- Dropping of columns ***\n",
    "- Changing column types ***\n",
    "- Adding and removing column constraints ***\n",
    "- Drop the table\n",
    "- Truncate the table"
   ]
  },
  {
   "attachments": {},
   "cell_type": "markdown",
   "metadata": {},
   "source": [
    "## Which syntax is the correct syntax for renaming a column in SQL?\n",
    "\n",
    "- `RENAME {previous_column_name} TO {new_column_name};` ***\n",
    "- `RENAME {new_column_name} TO {previous_column_name} ;`\n",
    "- `RENAME [{previous_column_name}, {new_column_name}];`\n",
    "- `RENAME [{previous_column_name}: {new_column_name}];`\n"
   ]
  },
  {
   "attachments": {},
   "cell_type": "markdown",
   "metadata": {},
   "source": [
    "## Which syntax is the correct syntax for inserting new data into a table?\n",
    "\n",
    "- `INSERT INTO {table_name} ({column_1}, {column_2}, ....) VALUES ({column_1 value}, {column_2 value}, ......);` ***\n",
    "- `VALUES {table_name} ({column_1}, {column_2}, ....) INSERT INTO ({column_1 value}, {column_2 value}, ......);`\n",
    "- `INSERT INTO ({column_1}, {column_2}, ....) VALUES ({column_1 value}, {column_2 value}, ......);`\n",
    "- `INSERT INTO [{table_name} ({column_1}, {column_2}, ....] [VALUES ({column_1 value}, {column_2 value}, ......];`\n",
    "\n"
   ]
  },
  {
   "attachments": {},
   "cell_type": "markdown",
   "metadata": {},
   "source": [
    "## What three SQL keywords can be used in conjunction to `UPDATE` a SQL table?\n",
    "\n",
    "- `UPDATE`, `SET` and `WHERE` ***\n",
    "- `LIMIT`, `SELECT` and `UPDATE`\n",
    "- `ORDER BY`, `SET` and `UPDATE`\n",
    "- `GROUP BY`, `SET` and `UPDATE`"
   ]
  }
 ],
 "metadata": {
  "kernelspec": {
   "display_name": "base",
   "language": "python",
   "name": "python3"
  },
  "language_info": {
   "name": "python",
   "version": "3.10.9"
  },
  "orig_nbformat": 4,
  "vscode": {
   "interpreter": {
    "hash": "a2592652612463181e69ac003232387e3e9a99279aa6b168e76f5df16d5110f4"
   }
  }
 },
 "nbformat": 4,
 "nbformat_minor": 2
}
