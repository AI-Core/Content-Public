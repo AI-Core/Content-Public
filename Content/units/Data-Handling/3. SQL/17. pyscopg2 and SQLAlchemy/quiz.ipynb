{
 "cells": [
  {
   "attachments": {},
   "cell_type": "markdown",
   "metadata": {},
   "source": [
    "# psycopg2 and SQLAlchemy"
   ]
  },
  {
   "attachments": {},
   "cell_type": "markdown",
   "metadata": {},
   "source": [
    "## Which of the following statements are true about Psycopg2 and SQLAlchemy? Select all that apply.\n",
    "\n",
    "- Psycopg2 is a PostgreSQL adapter for the Python programming language ***\n",
    "- SQLAlchemy is a Object Relational Mapper (ORM) which maps representations of objects to database tables ***\n",
    "- SQLAlchemy is a RESTful API which maps object representations of objects to database tables \n",
    "- Psycopg2 works with Java, C++ and the Scala programming language \n",
    "- Psycopg2 and SQLAlchemy only allows you to use the `SELECT` SQL statement"
   ]
  },
  {
   "attachments": {},
   "cell_type": "markdown",
   "metadata": {},
   "source": [
    "## Which of the following are the core objects required by Psycopg2 to interact with a database? Select all that apply.\n",
    "\n",
    "- The `connect` object establishes the connection to the database ***\n",
    "- The `cursor` object points to the database so queries can be sent ***\n",
    "- `execute` can allow you to perform queries in `string` format ***\n",
    "- The `Query` object allows you to perform SQL queries\n",
    "- The `inspector` object allows you to retrieve information about the database ***"
   ]
  },
  {
   "attachments": {},
   "cell_type": "markdown",
   "metadata": {},
   "source": [
    "## Select the correct statements to replace the numbers in parentheses ((1), (2) etc) which corrects the code\n",
    "\n",
    "```python\n",
    "with psycopg2.(1)(host=HOST, user=USER, password=PASSWORD, dbname=DATABASE, port=PORT) as conn:\n",
    "    with conn.(2))() as cur:\n",
    "        cur.(3)('''CREATE TABLE actor_2 AS (\n",
    "                    SELECT * FROM actor\n",
    "                    LIMIT 10);\n",
    "\n",
    "                    SELECT * FROM actor_2''')\n",
    "        records = cur.(4))() # get all records\n",
    "```\n",
    "\n",
    "- (1) `connect` ***\n",
    "- (2) `cursor` ***\n",
    "- (3) `execute` ***\n",
    "- (4) `fetchall` ***\n",
    "- (3) `cursor`\n",
    "- (2) `execute`\n",
    "- (1) `fetchall`\n",
    "- (2) `fetchall`"
   ]
  }
 ],
 "metadata": {
  "kernelspec": {
   "display_name": "base",
   "language": "python",
   "name": "python3"
  },
  "language_info": {
   "name": "python",
   "version": "3.10.9"
  },
  "orig_nbformat": 4,
  "vscode": {
   "interpreter": {
    "hash": "a2592652612463181e69ac003232387e3e9a99279aa6b168e76f5df16d5110f4"
   }
  }
 },
 "nbformat": 4,
 "nbformat_minor": 2
}
