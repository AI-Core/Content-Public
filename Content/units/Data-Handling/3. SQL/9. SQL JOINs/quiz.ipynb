{
 "cells": [
  {
   "attachments": {},
   "cell_type": "markdown",
   "metadata": {},
   "source": [
    "# SQL JOINs"
   ]
  },
  {
   "attachments": {},
   "cell_type": "markdown",
   "metadata": {},
   "source": [
    "## What are some reasons to use a SQL `JOIN`? Select all that apply.\n",
    "\n",
    "- To combine data from two or more tables ***\n",
    "- To avoid manually joining tables reducing the likelihood of errors occurring ***\n",
    "- It's the only way data from two different tables can be accessed\n",
    "- Is primarily used to `JOIN` tables which have no relationship"
   ]
  },
  {
   "attachments": {},
   "cell_type": "markdown",
   "metadata": {},
   "source": [
    "## What set of `JOIN`s can all other `JOIN`s be derived from?  \n",
    "\n",
    "- `SELF`, `INNER`, `OUTER` and `CROSS` ***\n",
    "- `INSIDE`, `OUTSIDE`, `SELF` and `CROSS`\n",
    "- `LEFT`, `RIGHT`, `UPPER` and `LOWER`\n",
    "- `CROSS`, `EQUAL`, `LEFT` and `RIGHT`\n",
    "- `DOWN`, `UP`, `CROSS` and `INSIDE`"
   ]
  },
  {
   "attachments": {},
   "cell_type": "markdown",
   "metadata": {},
   "source": [
    "## Which of following statements is true about `JOIN`s?\n",
    "\n",
    "- The **join predicate** specifies which columns to `JOIN` tables together on ***\n",
    "- `JOIN` statement must always start with `INNER JOIN`\n",
    "- `RIGHT JOIN` is just syntactic sugar `JOIN` works in the same way\n",
    "- `JOIN` can be used without logical operators"
   ]
  },
  {
   "attachments": {},
   "cell_type": "markdown",
   "metadata": {},
   "source": [
    "## Which of the following statement are true about `SELF JOIN`s? Select all that apply.\n",
    "\n",
    "- They are used to `JOIN` a table onto itself ***\n",
    "- They are great for joining tables which reference themselves ***\n",
    "- They are used to `JOIN` two different tables on a common column\n",
    "- They are useful when you want to match results in both tables\n",
    "- They primarily used to get combinations of values"
   ]
  },
  {
   "attachments": {},
   "cell_type": "markdown",
   "metadata": {},
   "source": [
    "## Which of the following statements are true about `INNER JOIN`s? Select all that apply.\n",
    "\n",
    "- `INNER JOIN`s are useful to find where records match in both tables ***\n",
    "- `INNER JOIN`s are great when you want to get the intersection of records between tables ***\n",
    "- `INNER JOIN`s great for getting all combinations of values in two tables\n",
    "- `INNER JOIN`s can be great when you want to join a table to itself\n",
    "- `INNER JOIN`S are usually used when you want to keep all records in both tables"
   ]
  },
  {
   "attachments": {},
   "cell_type": "markdown",
   "metadata": {},
   "source": [
    "## Which of the following statements is true about `OUTER JOIN`s? Select all that apply.\n",
    "\n",
    "- They are used when you want to return matched or unmatched records from one or both tables ***\n",
    "- They are used to `JOIN` a table to itself\n",
    "- They are used when you want to keep all records in at least one table ***\n",
    "- They are used when you specifically want to get combinations of values between two tables\n",
    "- They are used when you want to specifically check which records match between tables\n"
   ]
  },
  {
   "attachments": {},
   "cell_type": "markdown",
   "metadata": {},
   "source": [
    "## Which statements are true about `CROSS JOIN`s? Select all that apply.\n",
    "\n",
    "- `CROSS JOIN`s get all combinations of values between tables ***\n",
    "- `CROSS JOIN`s return the cartesian product of rows from tables ***\n",
    "- `CROSS JOIN`s are only useful when joining a table to itself\n",
    "- `CROSS JOIN`s are great for checking where the records in two tables match\n",
    "- `CROSS JOIN`s are best used when you want to keep all records in just one table"
   ]
  }
 ],
 "metadata": {
  "kernelspec": {
   "display_name": "base",
   "language": "python",
   "name": "python3"
  },
  "language_info": {
   "name": "python",
   "version": "3.10.9"
  },
  "orig_nbformat": 4,
  "vscode": {
   "interpreter": {
    "hash": "a2592652612463181e69ac003232387e3e9a99279aa6b168e76f5df16d5110f4"
   }
  }
 },
 "nbformat": 4,
 "nbformat_minor": 2
}
