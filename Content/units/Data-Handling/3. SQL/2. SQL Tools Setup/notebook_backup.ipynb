{
 "cells": [
  {
   "cell_type": "markdown",
   "metadata": {},
   "source": [
    "<h2 style=\"color: rgb(241, 90, 36)\">Creating a database to connect to</h2>\n",
    "\n",
    "The database we will be connecting to is the classic `pagila` database. This is a commonly used database to practice SQL which contains data for a fictional DVD rental store.\n",
    "If you have already created the `pagila` database then you can skip this section. \n",
    "\n",
    "<h3 style=\"color: rgb(241, 90, 36)\">Initialising the database</h3>\n",
    "\n",
    "First we will need to initialise a new database using `psql` to store the data. `psql` is the *Command Line Interface(CLI)* allowing you to, alter, create, update and delete PostgresSQL databases. \n",
    "\n",
    "Open a terminal and log into `psql` as the `postgres` user by running the command `psql -U postgres`. Once logged in, create a new database `pagila` by running the command `CREATE DATABASE pagila;` in the terminal.\n",
    "\n",
    "We can check that the database has now been created with the `\\list` command. You can exit the list by pressing `q`. \n",
    "\n",
    "You should get the following output with the `pagila` database listed. Once complete you can exit `psql` by typing `\\q`. "
   ]
  },
  {
   "cell_type": "markdown",
   "metadata": {},
   "source": [
    "<h3 style=\"color: rgb(241, 90, 36)\">Watch it in action</h3>"
   ]
  },
  {
   "cell_type": "code",
   "execution_count": null,
   "metadata": {
    "vscode": {
     "languageId": "sql"
    }
   },
   "outputs": [],
   "source": [
    "#@title ### Run the cell to play the video{ display-mode: \"form\" } \n",
    "video_player.play_video(\"create_db.mp4\")"
   ]
  },
  {
   "cell_type": "markdown",
   "metadata": {},
   "source": [
    "<h2 style=\"color: rgb(241, 90, 36)\">Uploading data to the database</h2>\n",
    "\n",
    "We have initialised the new database, we need to populate it with data. Download the data for the `pagila` database from the following [link](https://aicore-files.s3.amazonaws.com/Foundations/pagila.tar). We now need to login as the `postgres` user to upload the data to the database. To do this on Mac/Linux(the command is not required on Windows) run the following command, `sudo su - postgres`.\n",
    "\n",
    "Once logged in as the `postgres` user run the following command to restore the data to the database:"
   ]
  },
  {
   "cell_type": "code",
   "execution_count": null,
   "metadata": {
    "vscode": {
     "languageId": "shellscript"
    }
   },
   "outputs": [],
   "source": [
    "# Replace the path with where you have download the pagila.tar to\n",
    "# The verbose option will show in the terminal the result of each of the SQL command run\n",
    "pg_restore --dbname=pagila --verbose <PATH TO pagila.tar>"
   ]
  },
  {
   "cell_type": "markdown",
   "metadata": {},
   "source": [
    "You can return the system to the default user by typing `exit`.\n",
    "\n",
    "<h3 style=\"color: rgb(241, 90, 36)\">Watch it in action</h3>"
   ]
  },
  {
   "cell_type": "code",
   "execution_count": null,
   "metadata": {
    "vscode": {
     "languageId": "shellscript"
    }
   },
   "outputs": [],
   "source": [
    "#@title ### Run the cell to play the video{ display-mode: \"form\" } \n",
    "video_player.play_video(\"restore_data.mp4\")"
   ]
  },
  {
   "cell_type": "markdown",
   "metadata": {},
   "source": [
    "On this is complete, log back into `psql` as the `postgres` user and connect to the database by running `\\c pagila`.\n",
    "\n",
    "You should get a message in your terminal signifying you've connected to the `pagila` database. \n",
    "You can now check that the tables have been created for the `pagila` database using the `\\dt` command to list the database tables.\n",
    "\n",
    "<h3 style=\"color: rgb(241, 90, 36);\">Watch it in action</h3>"
   ]
  },
  {
   "cell_type": "code",
   "execution_count": null,
   "metadata": {
    "vscode": {
     "languageId": "shellscript"
    }
   },
   "outputs": [],
   "source": [
    "#@title ### Run the cell to play the video{ display-mode: \"form\" } \n",
    "video_player.play_video(\"list_tables.mp4\")"
   ]
  },
  {
   "cell_type": "markdown",
   "metadata": {},
   "source": [
    "The database is now setup and can be connected to using SQLTools. "
   ]
  }
 ],
 "metadata": {
  "language_info": {
   "name": "python"
  }
 },
 "nbformat": 4,
 "nbformat_minor": 2
}
