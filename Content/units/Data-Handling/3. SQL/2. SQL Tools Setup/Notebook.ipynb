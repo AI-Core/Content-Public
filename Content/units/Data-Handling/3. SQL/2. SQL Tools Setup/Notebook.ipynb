{
 "cells": [
  {
   "attachments": {},
   "cell_type": "markdown",
   "metadata": {},
   "source": [
    "<h1 style=\"color: rgb(241, 90, 36)\"><img src=\"./images/SQLIcon.png?modified=23342\" width=80px height=80px style=\"vertical-align: middle;\">   SQLTools Setup</h1>\n"
   ]
  },
  {
   "cell_type": "code",
   "execution_count": null,
   "id": "639441d9",
   "metadata": {},
   "outputs": [],
   "source": [
    "#@title ### Run the following cell to download the necessary files for this lesson { display-mode: \"form\" } \n",
    "#@markdown Don't worry about what's in this collapsed cell\n",
    "\n",
    "!pip install -q ipython\n",
    "print('Downloading video_player.py...')\n",
    "!wget https://s3-eu-west-1.amazonaws.com/aicore-portal-public-prod-307050600709/lesson_files/4e96fa08-b72f-4f0d-8248-f8474d5c60bf/video_player.py -q -O video_player.py\n",
    "import video_player\n",
    "print('Downloading restore_data.mp4...')\n",
    "!wget https://s3-eu-west-1.amazonaws.com/aicore-portal-public-prod-307050600709/lesson_files/4e96fa08-b72f-4f0d-8248-f8474d5c60bf/restore_data.mp4 -q -O restore_data.mp4\n",
    "print('Downloading add_db.mp4...')\n",
    "!wget https://s3-eu-west-1.amazonaws.com/aicore-portal-public-prod-307050600709/lesson_files/4e96fa08-b72f-4f0d-8248-f8474d5c60bf/add_db.mp4 -q -O add_db.mp4\n",
    "print('Downloading first_query.mp4...')\n",
    "!wget https://s3-eu-west-1.amazonaws.com/aicore-portal-public-prod-307050600709/lesson_files/4e96fa08-b72f-4f0d-8248-f8474d5c60bf/first_query.mp4 -q -O first_query.mp4\n",
    "print('Downloading driver_install.mp4...')\n",
    "!wget https://s3-eu-west-1.amazonaws.com/aicore-portal-public-prod-307050600709/lesson_files/4e96fa08-b72f-4f0d-8248-f8474d5c60bf/driver_install.mp4 -q -O driver_install.mp4\n",
    "print('Downloading list_tables.mp4...')\n",
    "!wget https://s3-eu-west-1.amazonaws.com/aicore-portal-public-prod-307050600709/lesson_files/4e96fa08-b72f-4f0d-8248-f8474d5c60bf/list_tables.mp4 -q -O list_tables.mp4\n",
    "print('Downloading run_query.mp4...')\n",
    "!wget https://s3-eu-west-1.amazonaws.com/aicore-portal-public-prod-307050600709/lesson_files/4e96fa08-b72f-4f0d-8248-f8474d5c60bf/run_query.mp4 -q -O run_query.mp4\n",
    "print('Downloading db_connection.mp4...')\n",
    "!wget https://s3-eu-west-1.amazonaws.com/aicore-portal-public-prod-307050600709/lesson_files/4e96fa08-b72f-4f0d-8248-f8474d5c60bf/db_connection.mp4 -q -O db_connection.mp4\n",
    "print('Downloading create_db.mp4...')\n",
    "!wget https://s3-eu-west-1.amazonaws.com/aicore-portal-public-prod-307050600709/lesson_files/4e96fa08-b72f-4f0d-8248-f8474d5c60bf/create_db.mp4 -q -O create_db.mp4\n",
    "print('Downloading search_extension.mp4...')\n",
    "!wget https://s3-eu-west-1.amazonaws.com/aicore-portal-public-prod-307050600709/lesson_files/4e96fa08-b72f-4f0d-8248-f8474d5c60bf/search_extension.mp4 -q -O search_extension.mp4\n",
    "print('Downloading finish_pagila.mp4...')\n",
    "!wget https://s3-eu-west-1.amazonaws.com/aicore-portal-public-prod-307050600709/lesson_files/4e96fa08-b72f-4f0d-8248-f8474d5c60bf/finish_pagila.mp4 -q -O finish_pagila.mp4\n"
   ]
  },
  {
   "attachments": {},
   "cell_type": "markdown",
   "metadata": {},
   "source": [
    "*SQLtools* is an extension for VSCode which allows you to manage databases and execute SQL queries all from within VSCode. There are many different tools to interact with databases and perform SQL queries and manage databases, so why use **SQLTools**?\n",
    "\n",
    "- __Define your SQL statements in code__: Provides you the ability to execute queries in `.sql` files allowing you to version control and review the queries you ran\n",
    "- __Simple interface__: Can be up and running in minutes\n",
    "- __Easily connected__: Connects all of the most commonly used database types:\n",
    "  - Postgres\n",
    "  - MySQL     \n",
    "  - MariaDB etc     \n",
    "- __Open Source__ currently SQLTools is free to use and has 2M+ downloads\n"
   ]
  },
  {
   "attachments": {},
   "cell_type": "markdown",
   "metadata": {},
   "source": [
    "<h2 style=\"color: rgb(241, 90, 36); padding-top=50px;\">Installing SQLTools and Postgres driver</h2>\n",
    "\n",
    "To use SQLTools in VSCode we first need to install the extension from the extension marketplace. Access the extension **Marketplace** by clicking the **Extension** icon <img src=\"images/extension_icon.png?modfied=343242\"> in the left sidebar and searching for \n",
    "SQLTools. \n",
    "\n",
    "<h3 style=\"color: rgb(241, 90, 36)\">Watch it in action</h3>"
   ]
  },
  {
   "cell_type": "code",
   "execution_count": null,
   "metadata": {},
   "outputs": [],
   "source": [
    "#@title ### Run the cell to play the video{ display-mode: \"form\" } \n",
    "video_player.play_video(\"search_extension.mp4\")"
   ]
  },
  {
   "attachments": {},
   "cell_type": "markdown",
   "metadata": {},
   "source": [
    "Click on the SQLTools extension and press the **install** button. Now SQLTools is setup but we will need to get the **Postgres driver** to allow SQLTools to connect to Postgres databases. \n",
    "Search for **SQLTools postgres driver** in extensions and install it.\n",
    "\n",
    "<h3 style=\"color: rgb(241, 90, 36)\">Watch it in action</h3>"
   ]
  },
  {
   "cell_type": "code",
   "execution_count": null,
   "metadata": {},
   "outputs": [],
   "source": [
    "#@title ### Run the cell to play the video{ display-mode: \"form\" } \n",
    "video_player.play_video(\"driver_install.mp4\")"
   ]
  },
  {
   "attachments": {},
   "cell_type": "markdown",
   "metadata": {},
   "source": [
    "Alternatively if you can't find the extensions easily, you can search for them using the following extension ID's in the same search bar. "
   ]
  },
  {
   "cell_type": "code",
   "execution_count": null,
   "metadata": {},
   "outputs": [],
   "source": [
    "mtxr.sqltools # extension ID SQLTools\n",
    "mtxr.sqltools-driver-pg # extension ID postgres driver for SQLTools"
   ]
  },
  {
   "attachments": {},
   "cell_type": "markdown",
   "metadata": {},
   "source": [
    "<h2 style=\"color: rgb(241, 90, 36)\">Creating a database to connect to</h2>\n",
    "\n",
    "The database we will be connecting to is the classic `pagila` database. This is a commonly used database to practice SQL which contains data for a fictional DVD rental store.\n",
    "If you have already created the `pagila` database then you can skip this section. \n",
    "\n",
    "<h3 style=\"color: rgb(241, 90, 36)\">Initialising the database</h3>\n",
    "\n",
    "First we will need to initialise a new database using `psql` to store the data. `psql` is the *Command Line Interface(CLI)* allowing you to, alter, create, update and delete PostgresSQL databases. \n",
    "\n",
    "Open a terminal and log into `psql` as the `postgres` user by running the command `psql -U postgres`. Once logged in, create a new database `pagila` by running the command `CREATE DATABASE pagila;` in the terminal.\n",
    "\n",
    "We can check that the database has now been created with the `\\list` command. You can exit the list by pressing `q`. \n",
    "\n",
    "You should get the following output with the `pagila` database listed. Once complete you can exit `psql` by typing `\\q`. "
   ]
  },
  {
   "attachments": {},
   "cell_type": "markdown",
   "metadata": {},
   "source": [
    "<h3 style=\"color: rgb(241, 90, 36)\">Watch it in action</h3>\n"
   ]
  },
  {
   "cell_type": "code",
   "execution_count": null,
   "metadata": {
    "vscode": {
     "languageId": "sql"
    }
   },
   "outputs": [],
   "source": [
    "#@title ### Run the cell to play the video{ display-mode: \"form\" } \n",
    "video_player.play_video(\"create_db.mp4\")"
   ]
  },
  {
   "attachments": {},
   "cell_type": "markdown",
   "metadata": {},
   "source": [
    "<h2 style=\"color: rgb(241, 90, 36)\">Uploading data to the database</h2>\n",
    "\n",
    "We have initialised the new database, we need to populate it with data. Download the data for the `pagila` database from the following [link](https://aicore-files.s3.amazonaws.com/Foundations/pagila.tar). We now need to login as the `postgres` user to upload the data to the database. To do this on Mac/Linux(the command is not required on Windows) run the following command, `sudo su - postgres`.\n",
    "\n",
    "Once logged in as the `postgres` user run the following command to restore the data to the database:"
   ]
  },
  {
   "cell_type": "code",
   "execution_count": null,
   "metadata": {
    "vscode": {
     "languageId": "shellscript"
    }
   },
   "outputs": [],
   "source": [
    "# Replace the path with where you have download the pagila.tar to\n",
    "# The verbose option will show in the terminal the result of each of the SQL command run\n",
    "pg_restore --dbname=pagila --verbose <PATH TO pagila.tar>"
   ]
  },
  {
   "attachments": {},
   "cell_type": "markdown",
   "metadata": {},
   "source": [
    "You can return the system to the default user by typing `exit`.\n",
    "\n",
    "<h3 style=\"color: rgb(241, 90, 36)\">Watch it in action</h3>"
   ]
  },
  {
   "cell_type": "code",
   "execution_count": null,
   "metadata": {
    "vscode": {
     "languageId": "shellscript"
    }
   },
   "outputs": [],
   "source": [
    "#@title ### Run the cell to play the video{ display-mode: \"form\" } \n",
    "video_player.play_video(\"restore_data.mp4\")"
   ]
  },
  {
   "attachments": {},
   "cell_type": "markdown",
   "metadata": {},
   "source": [
    "On this is complete, log back into `psql` as the `postgres` user and connect to the database by running `\\c pagila`."
   ]
  },
  {
   "attachments": {},
   "cell_type": "markdown",
   "metadata": {},
   "source": [
    "You should get a message in your terminal signifying you've connected to the `pagila` database. \n",
    "You can now check that the tables have been created for the `pagila` database using the `\\dt` command to list the database tables.\n",
    "\n",
    "<h3 style=\"color: rgb(241, 90, 36);\">Watch it in action</h3>"
   ]
  },
  {
   "cell_type": "code",
   "execution_count": null,
   "metadata": {
    "vscode": {
     "languageId": "shellscript"
    }
   },
   "outputs": [],
   "source": [
    "#@title ### Run the cell to play the video{ display-mode: \"form\" } \n",
    "video_player.play_video(\"list_tables.mp4\")"
   ]
  },
  {
   "attachments": {},
   "cell_type": "markdown",
   "metadata": {},
   "source": [
    "The database is now setup and can be connected to using SQLTools. "
   ]
  },
  {
   "attachments": {},
   "cell_type": "markdown",
   "metadata": {},
   "source": [
    "<h2 style=\"color: rgb(241, 90, 36)\">Connecting to the database with SQLTools</h2>\n",
    "\n",
    "To connect to the database we first need to open the **SQLTools extension** by clicking the SQLTools icon on the left sidebar of VSCode. \n",
    "Clicking on the icon, will bring up the SQLTools extension in the side panel. \n",
    "Hovering over the **top right corner** of the window will give you the options:\n",
    "\n",
    "- Create a database connection\n",
    "- Create a new SQL file\n",
    "- Refresh the extension\n",
    "\n",
    "Click on the **create new connection** icon to setup the database.\n",
    "\n",
    "<h3 style=\"color: rgb(241, 90, 36)\">Watch it in action</h3>\n"
   ]
  },
  {
   "cell_type": "code",
   "execution_count": null,
   "metadata": {
    "vscode": {
     "languageId": "shellscript"
    }
   },
   "outputs": [],
   "source": [
    "#@title ### Run the cell to play the video{ display-mode: \"form\" } \n",
    "video_player.play_video(\"add_db.mp4\")"
   ]
  },
  {
   "attachments": {},
   "cell_type": "markdown",
   "metadata": {},
   "source": [
    "\n",
    "You will be presented with the **connection assistant page**, select **PostgresSQL** from this page. \n",
    "Fill in your details for the connection to the `pagila` database.\n",
    "\n",
    "The options for the password are as follows:\n",
    "\n",
    "- **SQL Tools Driver Credentials**: Have SQLTools store the password for you\n",
    "- **Ask on connect**: Ask for the password on every connection, good for additional database security\n",
    "- **Empty password**: Only applicable if the database doesn't require a password\n",
    "- **Save in plaintext in settings**: Save the password in plaintext in VSCode settings, less secure\n",
    "\n",
    "Once you've filled in the details, you can continue to the bottom of the page to **TEST** or **SAVE THE CONNECTION**.\n",
    "If you selected the **SQL Tools Driver Credentials** option you will be asked to input your password for the database.\n",
    "You will then be presented with the screen to connect to the database. \n",
    "Press **CONNECT NOW** and the tool will open a new `.sql` file named `pagila.session.sql`\n",
    "\n",
    ">Database connections will only be available in the folder where you created them. For example, if I created the `pagila` connection with the SQL folder opened then opened my projects folder, I won't see the `pagila` connection SQL made.\n",
    "\n",
    "<h3 style=\"color: rgb(241, 90, 36)\">Watch it in action</h3>\n"
   ]
  },
  {
   "cell_type": "code",
   "execution_count": null,
   "metadata": {
    "vscode": {
     "languageId": "shellscript"
    }
   },
   "outputs": [],
   "source": [
    "#@title ### Run the cell to play the video{ display-mode: \"form\" } \n",
    "video_player.play_video(\"finish_pagila.mp4\")"
   ]
  },
  {
   "attachments": {},
   "cell_type": "markdown",
   "metadata": {},
   "source": [
    "<h2 style=\"color: rgb(241, 90, 36)\">Running your first query</h2>\n",
    "\n",
    "We can now test the database with a *SQL Query* to ensure the connection was successful. Let's create a new `.sql` file to run our first query. This be done in VSCode by creating a new file ending in the `.sql` extension. Create a new `.sql` called `first_query.sql`. Create a **SQL Query** to `SELECT` all rows from the `actor` table using code below: "
   ]
  },
  {
   "cell_type": "code",
   "execution_count": null,
   "metadata": {
    "vscode": {
     "languageId": "sql"
    }
   },
   "outputs": [],
   "source": [
    "SELECT * FROM actor;"
   ]
  },
  {
   "attachments": {},
   "cell_type": "markdown",
   "metadata": {},
   "source": [
    "<h3 style=\"color: rgb(241, 90, 36)\">Watch it in action</h3>"
   ]
  },
  {
   "cell_type": "code",
   "execution_count": null,
   "metadata": {
    "vscode": {
     "languageId": "sql"
    }
   },
   "outputs": [],
   "source": [
    "#@title ### Run the cell to play the video{ display-mode: \"form\" } \n",
    "video_player.play_video(\"first_query.mp4\")"
   ]
  },
  {
   "attachments": {},
   "cell_type": "markdown",
   "metadata": {},
   "source": [
    "To run the query first ensure you're connected to the `pagila` database. Select the **SQLTools extension icon** and then `pagila` database. Toggle the **connection symbol** so that it is **green** to ensure we're connected to the database.\n",
    "\n",
    "<h3 style=\"color: rgb(241, 90, 36)\">Watch it in action</h3>\n"
   ]
  },
  {
   "cell_type": "code",
   "execution_count": null,
   "metadata": {
    "vscode": {
     "languageId": "sql"
    }
   },
   "outputs": [],
   "source": [
    "#@title ### Run the cell to play the video{ display-mode: \"form\" } \n",
    "video_player.play_video(\"db_connection.mp4\")"
   ]
  },
  {
   "attachments": {},
   "cell_type": "markdown",
   "metadata": {},
   "source": [
    "You can now run the query by highlighting it and press the key combination `Ctrl+e Ctrl+e` Windows/Linux(or Mac `CMD+e CMD+e`) . Once the query runs the results will pop open in the side window. \n",
    "\n",
    "<h3 style=\"color: rgb(241, 90, 36)\">Watch it in action</h3>\n"
   ]
  },
  {
   "cell_type": "code",
   "execution_count": null,
   "metadata": {
    "vscode": {
     "languageId": "sql"
    }
   },
   "outputs": [],
   "source": [
    "#@title ### Run the cell to play the video{ display-mode: \"form\" } \n",
    "video_player.play_video(\"run_query.mp4\")"
   ]
  },
  {
   "attachments": {},
   "cell_type": "markdown",
   "metadata": {},
   "source": [
    "You may have noticed in the **SQLTools extension** window you also have the options:\n",
    "\n",
    "- **Bookmark**: Bookmark parts of your `.sql` file to easily navigate\n",
    "- **Query History**: Rerun or get a history of previously run queries"
   ]
  }
 ],
 "metadata": {
  "kernelspec": {
   "display_name": "python39",
   "language": "python",
   "name": "python3"
  },
  "language_info": {
   "codemirror_mode": {
    "name": "ipython",
    "version": 3
   },
   "file_extension": ".py",
   "mimetype": "text/x-python",
   "name": "python",
   "nbconvert_exporter": "python",
   "pygments_lexer": "ipython3",
   "version": "3.9.16"
  },
  "vscode": {
   "interpreter": {
    "hash": "0525e202b6fd218605773abe3f41f1b2677deb6d490102468c00606d82fa7893"
   }
  }
 },
 "nbformat": 4,
 "nbformat_minor": 2
}
