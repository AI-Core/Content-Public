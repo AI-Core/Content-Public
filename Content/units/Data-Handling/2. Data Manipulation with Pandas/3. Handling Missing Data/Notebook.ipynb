{
 "cells": [
  {
   "cell_type": "markdown",
   "metadata": {},
   "source": [
    "# Handling Missing Data"
   ]
  },
  {
   "cell_type": "markdown",
   "metadata": {},
   "source": [
    "\n",
    "> Handling missing data is an important step in data cleaning, as it can significantly impact the results of your analysis. Missing data can lead to biased estimates, reduce the statistical power of your analysis, and ultimately lead to invalid conclusions.\n",
    "\n",
    "\n"
   ]
  },
  {
   "cell_type": "markdown",
   "metadata": {},
   "source": [
    "## Representations of Missing Values\n",
    "\n",
    "There are multiple ways you might see missing values represented in your data, depending on where the data originated from. \n",
    "\n",
    "- **`NaN` (Not a Number):** Specific to numerical arrays, `NaN` is a standard IEEE floating-point representation for undefined or unrepresentable numeric values. In Pandas, it's commonly used to represent missing data in numerical datasets.\n",
    "- **`NaT` (Not a Timestamp):** Similar to `NaN`, but for time series data\n",
    "\n",
    "- **`None`:** A Python-specific identifier, `None` represents the absence of a value. It's used in Python code to denote nothingness or that a variable has no value.\n",
    "\n",
    "- **`NULL`:** Often found in database systems, `NULL` denotes an absence or undefined value. It's used to signify missing or irrelevant data in SQL and similar environments. When you import data into Pandas, it will not be recognised as a missing value, and should be replaced with either `NaN` or `None`.\n",
    "\n",
    "\n",
    "\n"
   ]
  },
  {
   "cell_type": "markdown",
   "metadata": {},
   "source": [
    "## Identifying Missing Data\n",
    "\n",
    ">The Pandas `DataFrame` object has dedicated methods for identifying missing values, allowing you to quickly identify and index missing data in your dataset\n",
    "\n",
    "Run the following code snippet to load a simple `DataFrame` with some missing data:\n"
   ]
  },
  {
   "cell_type": "code",
   "execution_count": 1,
   "metadata": {},
   "outputs": [
    {
     "data": {
      "text/html": [
       "<div>\n",
       "<style scoped>\n",
       "    .dataframe tbody tr th:only-of-type {\n",
       "        vertical-align: middle;\n",
       "    }\n",
       "\n",
       "    .dataframe tbody tr th {\n",
       "        vertical-align: top;\n",
       "    }\n",
       "\n",
       "    .dataframe thead th {\n",
       "        text-align: right;\n",
       "    }\n",
       "</style>\n",
       "<table border=\"1\" class=\"dataframe\">\n",
       "  <thead>\n",
       "    <tr style=\"text-align: right;\">\n",
       "      <th></th>\n",
       "      <th>Column1</th>\n",
       "      <th>Column2</th>\n",
       "      <th>Column3</th>\n",
       "      <th>Column4</th>\n",
       "      <th>Column5</th>\n",
       "    </tr>\n",
       "  </thead>\n",
       "  <tbody>\n",
       "    <tr>\n",
       "      <th>0</th>\n",
       "      <td>1</td>\n",
       "      <td>a</td>\n",
       "      <td>1.1</td>\n",
       "      <td>apple</td>\n",
       "      <td>NaN</td>\n",
       "    </tr>\n",
       "    <tr>\n",
       "      <th>1</th>\n",
       "      <td>2</td>\n",
       "      <td>b</td>\n",
       "      <td>NaN</td>\n",
       "      <td>NULL</td>\n",
       "      <td>NaN</td>\n",
       "    </tr>\n",
       "    <tr>\n",
       "      <th>2</th>\n",
       "      <td>3</td>\n",
       "      <td></td>\n",
       "      <td>3.3</td>\n",
       "      <td>carrot</td>\n",
       "      <td>NaN</td>\n",
       "    </tr>\n",
       "    <tr>\n",
       "      <th>3</th>\n",
       "      <td>4</td>\n",
       "      <td>d</td>\n",
       "      <td>4.4</td>\n",
       "      <td>banana</td>\n",
       "      <td>NaN</td>\n",
       "    </tr>\n",
       "    <tr>\n",
       "      <th>4</th>\n",
       "      <td>5</td>\n",
       "      <td>e</td>\n",
       "      <td>5.5</td>\n",
       "      <td>NULL</td>\n",
       "      <td>NaN</td>\n",
       "    </tr>\n",
       "  </tbody>\n",
       "</table>\n",
       "</div>"
      ],
      "text/plain": [
       "   Column1 Column2  Column3 Column4  Column5\n",
       "0        1       a      1.1   apple      NaN\n",
       "1        2       b      NaN    NULL      NaN\n",
       "2        3              3.3  carrot      NaN\n",
       "3        4       d      4.4  banana      NaN\n",
       "4        5       e      5.5    NULL      NaN"
      ]
     },
     "execution_count": 1,
     "metadata": {},
     "output_type": "execute_result"
    }
   ],
   "source": [
    "import pandas as pd\n",
    "df = pd.read_csv('https://cdn.theaicore.com/content/lessons/3949170b-c8b8-4353-9983-cdfb18b6efbe/example_data.csv')\n",
    "df.at[1, 'Column4'] = 'NULL'\n",
    "df.at[4, 'Column4'] = 'NULL'\n",
    "df.head()"
   ]
  },
  {
   "cell_type": "markdown",
   "metadata": {},
   "source": [
    "\n",
    "\n",
    "### The `.info()` Method\n",
    "\n",
    "We have encountered this method in an earlier lesson. It provides a count of the non-null values in each column.\n"
   ]
  },
  {
   "cell_type": "code",
   "execution_count": 2,
   "metadata": {},
   "outputs": [
    {
     "name": "stdout",
     "output_type": "stream",
     "text": [
      "<class 'pandas.core.frame.DataFrame'>\n",
      "RangeIndex: 5 entries, 0 to 4\n",
      "Data columns (total 5 columns):\n",
      " #   Column   Non-Null Count  Dtype  \n",
      "---  ------   --------------  -----  \n",
      " 0   Column1  5 non-null      int64  \n",
      " 1   Column2  5 non-null      object \n",
      " 2   Column3  4 non-null      float64\n",
      " 3   Column4  5 non-null      object \n",
      " 4   Column5  0 non-null      float64\n",
      "dtypes: float64(2), int64(1), object(2)\n",
      "memory usage: 332.0+ bytes\n"
     ]
    }
   ],
   "source": [
    "df.info()"
   ]
  },
  {
   "cell_type": "markdown",
   "metadata": {},
   "source": [
    "\n",
    "### The `isna()` and `notna()` Methods\n",
    "\n",
    "The `isna()` method is  used to detect missing values in a `DataFrame` or `Series`. It returns a Boolean mask of the same size as the input, indicating `True` where elements are missing (`NaN`, `None`, or `NaT`) and `False` otherwise. There is also a `notna()` method which does the inverse: it returns `True` when a value is not a missing value.\n",
    "\n",
    "- **Limitations:** It won't detect other forms of missing data representations, like placeholders (e.g., `-999`, `N/A` or empty strings) used to signify missing values.\n",
    "\n",
    "- **Please Note:** There is another method called `.isnull()`, which has the exact same functionality as `.isna()`. It does not handle `NULL` entries from SQL databases. It is just the same method with a different name.\n",
    "\n"
   ]
  },
  {
   "cell_type": "code",
   "execution_count": 3,
   "metadata": {},
   "outputs": [
    {
     "data": {
      "text/html": [
       "<div>\n",
       "<style scoped>\n",
       "    .dataframe tbody tr th:only-of-type {\n",
       "        vertical-align: middle;\n",
       "    }\n",
       "\n",
       "    .dataframe tbody tr th {\n",
       "        vertical-align: top;\n",
       "    }\n",
       "\n",
       "    .dataframe thead th {\n",
       "        text-align: right;\n",
       "    }\n",
       "</style>\n",
       "<table border=\"1\" class=\"dataframe\">\n",
       "  <thead>\n",
       "    <tr style=\"text-align: right;\">\n",
       "      <th></th>\n",
       "      <th>Column1</th>\n",
       "      <th>Column2</th>\n",
       "      <th>Column3</th>\n",
       "      <th>Column4</th>\n",
       "      <th>Column5</th>\n",
       "    </tr>\n",
       "  </thead>\n",
       "  <tbody>\n",
       "    <tr>\n",
       "      <th>0</th>\n",
       "      <td>False</td>\n",
       "      <td>False</td>\n",
       "      <td>False</td>\n",
       "      <td>False</td>\n",
       "      <td>True</td>\n",
       "    </tr>\n",
       "    <tr>\n",
       "      <th>1</th>\n",
       "      <td>False</td>\n",
       "      <td>False</td>\n",
       "      <td>True</td>\n",
       "      <td>False</td>\n",
       "      <td>True</td>\n",
       "    </tr>\n",
       "    <tr>\n",
       "      <th>2</th>\n",
       "      <td>False</td>\n",
       "      <td>False</td>\n",
       "      <td>False</td>\n",
       "      <td>False</td>\n",
       "      <td>True</td>\n",
       "    </tr>\n",
       "    <tr>\n",
       "      <th>3</th>\n",
       "      <td>False</td>\n",
       "      <td>False</td>\n",
       "      <td>False</td>\n",
       "      <td>False</td>\n",
       "      <td>True</td>\n",
       "    </tr>\n",
       "    <tr>\n",
       "      <th>4</th>\n",
       "      <td>False</td>\n",
       "      <td>False</td>\n",
       "      <td>False</td>\n",
       "      <td>False</td>\n",
       "      <td>True</td>\n",
       "    </tr>\n",
       "  </tbody>\n",
       "</table>\n",
       "</div>"
      ],
      "text/plain": [
       "   Column1  Column2  Column3  Column4  Column5\n",
       "0    False    False    False    False     True\n",
       "1    False    False     True    False     True\n",
       "2    False    False    False    False     True\n",
       "3    False    False    False    False     True\n",
       "4    False    False    False    False     True"
      ]
     },
     "execution_count": 3,
     "metadata": {},
     "output_type": "execute_result"
    }
   ],
   "source": [
    "df.isna()"
   ]
  },
  {
   "cell_type": "markdown",
   "metadata": {},
   "source": [
    "As the output is a Boolean, which can also be interpreted as `1`s and `0`s, we can also use `isna()` to quickly give us the percentage empty values in each column, with the following snippet:"
   ]
  },
  {
   "cell_type": "code",
   "execution_count": 4,
   "metadata": {},
   "outputs": [
    {
     "name": "stdout",
     "output_type": "stream",
     "text": [
      "percentage of missing values in each column:\n"
     ]
    },
    {
     "data": {
      "text/plain": [
       "Column1      0.0\n",
       "Column2      0.0\n",
       "Column3     20.0\n",
       "Column4      0.0\n",
       "Column5    100.0\n",
       "dtype: float64"
      ]
     },
     "execution_count": 4,
     "metadata": {},
     "output_type": "execute_result"
    }
   ],
   "source": [
    "print(\"percentage of missing values in each column:\")\n",
    "df.isna().mean() * 100"
   ]
  },
  {
   "cell_type": "markdown",
   "metadata": {},
   "source": [
    "## Removing Rows and Columns\n",
    ">If a significant amount of datapoints is missing from a row or column, one strategy is to drop it from the `DataFrame`. The upside of this is that it avoids the need for a data imputation strategy, while the downside is the risk that your data model will lose potentially useful information.\n",
    "\n",
    "###  The `dropna()` Method\n",
    "\n",
    "> The `dropna()` method in Pandas is a versatile tool for handling missing data. It provides a versatile way to remove missing values from a `DataFrame` or `Series`, which can be customised through its parameters to suit various data cleaning needs.\n",
    "\n",
    "#### `dropna()` Optional Parameters\n",
    "\n",
    "- **`axis`:** \n",
    "  - `axis=0` or `axis='index'` (default) to drop rows with missing values\n",
    "  - `axis=1` or `axis='columns'` to drop columns with missing values\n",
    "- **`how`:** \n",
    "  - `how='any'` (default) drops the row/column if **any** `NA` values are present\n",
    "  - `how='all'` drops the row/column only if **all** values are `NA`\n",
    "- **`thresh`:** \n",
    "  - Sets a threshold for the number of non-NA values. Rows/columns with *fewer* **non-NA** values than the threshold will be dropped\n",
    "- **`subset`:** \n",
    "  - Defines a list of columns in which to look for missing values, useful when `axis=0`\n",
    "- **`inplace`:** \n",
    "  - If `True`, the operation modifies the `DataFrame` in place. Default is `False`, which returns a new `DataFrame`\n",
    "\n",
    "\n",
    "#### Example Usage: Dropping Rows\n",
    "By default, `df.dropna()` or `df.dropna(axis=0)` removes rows that contain any missing value. \n",
    "\n",
    "For a more conservative approach, you can use `df.dropna(how='all')` to remove only those rows where all values are missing. \n",
    "\n",
    "Another useful feature is setting a threshold with `thresh=n`, which retains rows that have a minimum of `n` **non-missing** values.\n",
    "\n",
    "\n"
   ]
  },
  {
   "cell_type": "code",
   "execution_count": 5,
   "metadata": {},
   "outputs": [
    {
     "data": {
      "text/html": [
       "<div>\n",
       "<style scoped>\n",
       "    .dataframe tbody tr th:only-of-type {\n",
       "        vertical-align: middle;\n",
       "    }\n",
       "\n",
       "    .dataframe tbody tr th {\n",
       "        vertical-align: top;\n",
       "    }\n",
       "\n",
       "    .dataframe thead th {\n",
       "        text-align: right;\n",
       "    }\n",
       "</style>\n",
       "<table border=\"1\" class=\"dataframe\">\n",
       "  <thead>\n",
       "    <tr style=\"text-align: right;\">\n",
       "      <th></th>\n",
       "      <th>Column1</th>\n",
       "      <th>Column2</th>\n",
       "      <th>Column3</th>\n",
       "      <th>Column4</th>\n",
       "      <th>Column5</th>\n",
       "    </tr>\n",
       "  </thead>\n",
       "  <tbody>\n",
       "    <tr>\n",
       "      <th>0</th>\n",
       "      <td>1</td>\n",
       "      <td>a</td>\n",
       "      <td>1.1</td>\n",
       "      <td>apple</td>\n",
       "      <td>NaN</td>\n",
       "    </tr>\n",
       "    <tr>\n",
       "      <th>2</th>\n",
       "      <td>3</td>\n",
       "      <td></td>\n",
       "      <td>3.3</td>\n",
       "      <td>carrot</td>\n",
       "      <td>NaN</td>\n",
       "    </tr>\n",
       "    <tr>\n",
       "      <th>3</th>\n",
       "      <td>4</td>\n",
       "      <td>d</td>\n",
       "      <td>4.4</td>\n",
       "      <td>banana</td>\n",
       "      <td>NaN</td>\n",
       "    </tr>\n",
       "    <tr>\n",
       "      <th>4</th>\n",
       "      <td>5</td>\n",
       "      <td>e</td>\n",
       "      <td>5.5</td>\n",
       "      <td>NULL</td>\n",
       "      <td>NaN</td>\n",
       "    </tr>\n",
       "  </tbody>\n",
       "</table>\n",
       "</div>"
      ],
      "text/plain": [
       "   Column1 Column2  Column3 Column4  Column5\n",
       "0        1       a      1.1   apple      NaN\n",
       "2        3              3.3  carrot      NaN\n",
       "3        4       d      4.4  banana      NaN\n",
       "4        5       e      5.5    NULL      NaN"
      ]
     },
     "execution_count": 5,
     "metadata": {},
     "output_type": "execute_result"
    }
   ],
   "source": [
    "drop_df=df.dropna(axis=0, thresh=4) # drops rows with less than 4 non-missing values\n",
    "drop_df.head()"
   ]
  },
  {
   "cell_type": "markdown",
   "metadata": {},
   "source": [
    "## Example Usage: Dropping Columns\n",
    "\n",
    "By switching the `axis` parameter to `axis=1`, you can remove any column with missing data. Similarly, to drop columns only if all their values are missing, you use `df.dropna(axis=1, how='all')`. This can be particularly useful when cleaning data where certain columns have a high proportion of missing values, and their exclusion has minimal impact on the overall analysis."
   ]
  },
  {
   "cell_type": "code",
   "execution_count": 6,
   "metadata": {},
   "outputs": [
    {
     "data": {
      "text/html": [
       "<div>\n",
       "<style scoped>\n",
       "    .dataframe tbody tr th:only-of-type {\n",
       "        vertical-align: middle;\n",
       "    }\n",
       "\n",
       "    .dataframe tbody tr th {\n",
       "        vertical-align: top;\n",
       "    }\n",
       "\n",
       "    .dataframe thead th {\n",
       "        text-align: right;\n",
       "    }\n",
       "</style>\n",
       "<table border=\"1\" class=\"dataframe\">\n",
       "  <thead>\n",
       "    <tr style=\"text-align: right;\">\n",
       "      <th></th>\n",
       "      <th>Column1</th>\n",
       "      <th>Column2</th>\n",
       "      <th>Column3</th>\n",
       "      <th>Column4</th>\n",
       "    </tr>\n",
       "  </thead>\n",
       "  <tbody>\n",
       "    <tr>\n",
       "      <th>0</th>\n",
       "      <td>1</td>\n",
       "      <td>a</td>\n",
       "      <td>1.1</td>\n",
       "      <td>apple</td>\n",
       "    </tr>\n",
       "    <tr>\n",
       "      <th>1</th>\n",
       "      <td>2</td>\n",
       "      <td>b</td>\n",
       "      <td>NaN</td>\n",
       "      <td>NULL</td>\n",
       "    </tr>\n",
       "    <tr>\n",
       "      <th>2</th>\n",
       "      <td>3</td>\n",
       "      <td></td>\n",
       "      <td>3.3</td>\n",
       "      <td>carrot</td>\n",
       "    </tr>\n",
       "    <tr>\n",
       "      <th>3</th>\n",
       "      <td>4</td>\n",
       "      <td>d</td>\n",
       "      <td>4.4</td>\n",
       "      <td>banana</td>\n",
       "    </tr>\n",
       "    <tr>\n",
       "      <th>4</th>\n",
       "      <td>5</td>\n",
       "      <td>e</td>\n",
       "      <td>5.5</td>\n",
       "      <td>NULL</td>\n",
       "    </tr>\n",
       "  </tbody>\n",
       "</table>\n",
       "</div>"
      ],
      "text/plain": [
       "   Column1 Column2  Column3 Column4\n",
       "0        1       a      1.1   apple\n",
       "1        2       b      NaN    NULL\n",
       "2        3              3.3  carrot\n",
       "3        4       d      4.4  banana\n",
       "4        5       e      5.5    NULL"
      ]
     },
     "execution_count": 6,
     "metadata": {},
     "output_type": "execute_result"
    }
   ],
   "source": [
    "df_drop = df.dropna(axis=1, how='all') # drops columns consisting entirely of missing values\n",
    "df_drop.head()"
   ]
  },
  {
   "cell_type": "markdown",
   "metadata": {},
   "source": [
    "#### Example Usage: Dropping Rows with `NaN` in a Specific Subset of Columns\n",
    "\n",
    "In certain scenarios, you might need to drop rows if a `NaN` appears in a specific subset of columns, for example if the column is especially crucial for the analysis you are performing. This can be achieved by passing a list of columns to the `subset` parameter of `.dropna()`."
   ]
  },
  {
   "cell_type": "code",
   "execution_count": 7,
   "metadata": {},
   "outputs": [
    {
     "data": {
      "text/html": [
       "<div>\n",
       "<style scoped>\n",
       "    .dataframe tbody tr th:only-of-type {\n",
       "        vertical-align: middle;\n",
       "    }\n",
       "\n",
       "    .dataframe tbody tr th {\n",
       "        vertical-align: top;\n",
       "    }\n",
       "\n",
       "    .dataframe thead th {\n",
       "        text-align: right;\n",
       "    }\n",
       "</style>\n",
       "<table border=\"1\" class=\"dataframe\">\n",
       "  <thead>\n",
       "    <tr style=\"text-align: right;\">\n",
       "      <th></th>\n",
       "      <th>Column1</th>\n",
       "      <th>Column2</th>\n",
       "      <th>Column3</th>\n",
       "      <th>Column4</th>\n",
       "      <th>Column5</th>\n",
       "    </tr>\n",
       "  </thead>\n",
       "  <tbody>\n",
       "    <tr>\n",
       "      <th>0</th>\n",
       "      <td>1</td>\n",
       "      <td>a</td>\n",
       "      <td>1.1</td>\n",
       "      <td>apple</td>\n",
       "      <td>NaN</td>\n",
       "    </tr>\n",
       "    <tr>\n",
       "      <th>2</th>\n",
       "      <td>3</td>\n",
       "      <td></td>\n",
       "      <td>3.3</td>\n",
       "      <td>carrot</td>\n",
       "      <td>NaN</td>\n",
       "    </tr>\n",
       "    <tr>\n",
       "      <th>3</th>\n",
       "      <td>4</td>\n",
       "      <td>d</td>\n",
       "      <td>4.4</td>\n",
       "      <td>banana</td>\n",
       "      <td>NaN</td>\n",
       "    </tr>\n",
       "    <tr>\n",
       "      <th>4</th>\n",
       "      <td>5</td>\n",
       "      <td>e</td>\n",
       "      <td>5.5</td>\n",
       "      <td>NULL</td>\n",
       "      <td>NaN</td>\n",
       "    </tr>\n",
       "  </tbody>\n",
       "</table>\n",
       "</div>"
      ],
      "text/plain": [
       "   Column1 Column2  Column3 Column4  Column5\n",
       "0        1       a      1.1   apple      NaN\n",
       "2        3              3.3  carrot      NaN\n",
       "3        4       d      4.4  banana      NaN\n",
       "4        5       e      5.5    NULL      NaN"
      ]
     },
     "execution_count": 7,
     "metadata": {},
     "output_type": "execute_result"
    }
   ],
   "source": [
    "df_drop = df.dropna(subset=['Column3','Column4']) # drops rows with missing values in Column3 or Column4\n",
    "df_drop.head()"
   ]
  },
  {
   "cell_type": "markdown",
   "metadata": {},
   "source": [
    "## Handling Other Missing Data\n",
    "As discussed earlier, some values in your dataset might represent missing data, while not being recognised as such in Pandas. An example is in `Column4` of our example `DataFrame`, where the value `NULL` is used, or `Column2` which contains an empty string `' '`. \n",
    "\n",
    "In such cases, the easiest thing to do is to replace the relevant values with a `None` value, or an `np.nan` value from the `numpy` library. This can be achieved using the `.replace()` method, which replaces one value with another. We will learn about more advanced uses of this method in another lesson."
   ]
  },
  {
   "cell_type": "code",
   "execution_count": 8,
   "metadata": {},
   "outputs": [
    {
     "data": {
      "text/html": [
       "<div>\n",
       "<style scoped>\n",
       "    .dataframe tbody tr th:only-of-type {\n",
       "        vertical-align: middle;\n",
       "    }\n",
       "\n",
       "    .dataframe tbody tr th {\n",
       "        vertical-align: top;\n",
       "    }\n",
       "\n",
       "    .dataframe thead th {\n",
       "        text-align: right;\n",
       "    }\n",
       "</style>\n",
       "<table border=\"1\" class=\"dataframe\">\n",
       "  <thead>\n",
       "    <tr style=\"text-align: right;\">\n",
       "      <th></th>\n",
       "      <th>Column1</th>\n",
       "      <th>Column2</th>\n",
       "      <th>Column3</th>\n",
       "      <th>Column4</th>\n",
       "      <th>Column5</th>\n",
       "    </tr>\n",
       "  </thead>\n",
       "  <tbody>\n",
       "    <tr>\n",
       "      <th>0</th>\n",
       "      <td>1</td>\n",
       "      <td>a</td>\n",
       "      <td>1.1</td>\n",
       "      <td>apple</td>\n",
       "      <td>NaN</td>\n",
       "    </tr>\n",
       "    <tr>\n",
       "      <th>1</th>\n",
       "      <td>2</td>\n",
       "      <td>b</td>\n",
       "      <td>NaN</td>\n",
       "      <td>NaN</td>\n",
       "      <td>NaN</td>\n",
       "    </tr>\n",
       "    <tr>\n",
       "      <th>2</th>\n",
       "      <td>3</td>\n",
       "      <td></td>\n",
       "      <td>3.3</td>\n",
       "      <td>carrot</td>\n",
       "      <td>NaN</td>\n",
       "    </tr>\n",
       "    <tr>\n",
       "      <th>3</th>\n",
       "      <td>4</td>\n",
       "      <td>d</td>\n",
       "      <td>4.4</td>\n",
       "      <td>banana</td>\n",
       "      <td>NaN</td>\n",
       "    </tr>\n",
       "    <tr>\n",
       "      <th>4</th>\n",
       "      <td>5</td>\n",
       "      <td>e</td>\n",
       "      <td>5.5</td>\n",
       "      <td>NaN</td>\n",
       "      <td>NaN</td>\n",
       "    </tr>\n",
       "  </tbody>\n",
       "</table>\n",
       "</div>"
      ],
      "text/plain": [
       "   Column1 Column2  Column3 Column4  Column5\n",
       "0        1       a      1.1   apple      NaN\n",
       "1        2       b      NaN     NaN      NaN\n",
       "2        3              3.3  carrot      NaN\n",
       "3        4       d      4.4  banana      NaN\n",
       "4        5       e      5.5     NaN      NaN"
      ]
     },
     "execution_count": 8,
     "metadata": {},
     "output_type": "execute_result"
    }
   ],
   "source": [
    "import numpy as np\n",
    "\n",
    "df['Column4'] = df['Column4'].replace('NULL', np.nan) # replaces NULL with None in Column4\n",
    "df.head()"
   ]
  },
  {
   "cell_type": "markdown",
   "metadata": {},
   "source": [
    "\n",
    "## Imputing Missing Data\n",
    "\n",
    "\n",
    "> Aside from deleting rows or columns with missing data, the other common strategy is to impute the values instead. This process involves substituting missing values with estimated ones, allowing for a more comprehensive analysis. Choosing the right imputation method is important for maintaining the integrity of the dataset and the validity of the analysis.\n",
    "\n",
    "### Methods for Imputing Missing Data\n",
    "\n",
    "1. **Fill with a Specific Value:**\n",
    "\n",
    "The `fillna()` method is used to replace all missing (NA) values in a `DataFrame` or `Series`.\n",
    "   \n"
   ]
  },
  {
   "cell_type": "code",
   "execution_count": 9,
   "metadata": {},
   "outputs": [
    {
     "data": {
      "text/html": [
       "<div>\n",
       "<style scoped>\n",
       "    .dataframe tbody tr th:only-of-type {\n",
       "        vertical-align: middle;\n",
       "    }\n",
       "\n",
       "    .dataframe tbody tr th {\n",
       "        vertical-align: top;\n",
       "    }\n",
       "\n",
       "    .dataframe thead th {\n",
       "        text-align: right;\n",
       "    }\n",
       "</style>\n",
       "<table border=\"1\" class=\"dataframe\">\n",
       "  <thead>\n",
       "    <tr style=\"text-align: right;\">\n",
       "      <th></th>\n",
       "      <th>Column1</th>\n",
       "      <th>Column2</th>\n",
       "      <th>Column3</th>\n",
       "      <th>Column4</th>\n",
       "      <th>Column5</th>\n",
       "    </tr>\n",
       "  </thead>\n",
       "  <tbody>\n",
       "    <tr>\n",
       "      <th>0</th>\n",
       "      <td>1</td>\n",
       "      <td>a</td>\n",
       "      <td>1.1</td>\n",
       "      <td>apple</td>\n",
       "      <td>0.0</td>\n",
       "    </tr>\n",
       "    <tr>\n",
       "      <th>1</th>\n",
       "      <td>2</td>\n",
       "      <td>b</td>\n",
       "      <td>0.0</td>\n",
       "      <td>0</td>\n",
       "      <td>0.0</td>\n",
       "    </tr>\n",
       "    <tr>\n",
       "      <th>2</th>\n",
       "      <td>3</td>\n",
       "      <td></td>\n",
       "      <td>3.3</td>\n",
       "      <td>carrot</td>\n",
       "      <td>0.0</td>\n",
       "    </tr>\n",
       "    <tr>\n",
       "      <th>3</th>\n",
       "      <td>4</td>\n",
       "      <td>d</td>\n",
       "      <td>4.4</td>\n",
       "      <td>banana</td>\n",
       "      <td>0.0</td>\n",
       "    </tr>\n",
       "    <tr>\n",
       "      <th>4</th>\n",
       "      <td>5</td>\n",
       "      <td>e</td>\n",
       "      <td>5.5</td>\n",
       "      <td>0</td>\n",
       "      <td>0.0</td>\n",
       "    </tr>\n",
       "  </tbody>\n",
       "</table>\n",
       "</div>"
      ],
      "text/plain": [
       "   Column1 Column2  Column3 Column4  Column5\n",
       "0        1       a      1.1   apple      0.0\n",
       "1        2       b      0.0       0      0.0\n",
       "2        3              3.3  carrot      0.0\n",
       "3        4       d      4.4  banana      0.0\n",
       "4        5       e      5.5       0      0.0"
      ]
     },
     "execution_count": 9,
     "metadata": {},
     "output_type": "execute_result"
    }
   ],
   "source": [
    "df_imputed=df.fillna(0)  # Replaces all NAs with 0\n",
    "df_imputed.head()    \n"
   ]
  },
  {
   "cell_type": "markdown",
   "metadata": {},
   "source": [
    "\n",
    "2. **Forward Fill and Backward Fill:**\n",
    "\n",
    "> These two approaches are accessed as arguments to the `method` parameter of `.fillna()`. They are useful for data where neighbouring rows are likely to be related, as they propagate the value from the rows to the missing value. This is useful if you have sorted your data in such a way that you can be confident that this approach will make sense. \n",
    "\n",
    "   - Forward fill (`ffill`) propagates the last valid observation forward\n",
    "   - Backward fill (`bfill`) fills the missing values with the next valid observation\n"
   ]
  },
  {
   "cell_type": "code",
   "execution_count": 10,
   "metadata": {},
   "outputs": [
    {
     "data": {
      "text/html": [
       "<div>\n",
       "<style scoped>\n",
       "    .dataframe tbody tr th:only-of-type {\n",
       "        vertical-align: middle;\n",
       "    }\n",
       "\n",
       "    .dataframe tbody tr th {\n",
       "        vertical-align: top;\n",
       "    }\n",
       "\n",
       "    .dataframe thead th {\n",
       "        text-align: right;\n",
       "    }\n",
       "</style>\n",
       "<table border=\"1\" class=\"dataframe\">\n",
       "  <thead>\n",
       "    <tr style=\"text-align: right;\">\n",
       "      <th></th>\n",
       "      <th>Column1</th>\n",
       "      <th>Column2</th>\n",
       "      <th>Column3</th>\n",
       "      <th>Column4</th>\n",
       "      <th>Column5</th>\n",
       "    </tr>\n",
       "  </thead>\n",
       "  <tbody>\n",
       "    <tr>\n",
       "      <th>0</th>\n",
       "      <td>1</td>\n",
       "      <td>a</td>\n",
       "      <td>1.1</td>\n",
       "      <td>apple</td>\n",
       "      <td>NaN</td>\n",
       "    </tr>\n",
       "    <tr>\n",
       "      <th>1</th>\n",
       "      <td>2</td>\n",
       "      <td>b</td>\n",
       "      <td>3.3</td>\n",
       "      <td>apple</td>\n",
       "      <td>NaN</td>\n",
       "    </tr>\n",
       "    <tr>\n",
       "      <th>2</th>\n",
       "      <td>3</td>\n",
       "      <td></td>\n",
       "      <td>3.3</td>\n",
       "      <td>carrot</td>\n",
       "      <td>NaN</td>\n",
       "    </tr>\n",
       "    <tr>\n",
       "      <th>3</th>\n",
       "      <td>4</td>\n",
       "      <td>d</td>\n",
       "      <td>4.4</td>\n",
       "      <td>banana</td>\n",
       "      <td>NaN</td>\n",
       "    </tr>\n",
       "    <tr>\n",
       "      <th>4</th>\n",
       "      <td>5</td>\n",
       "      <td>e</td>\n",
       "      <td>5.5</td>\n",
       "      <td>banana</td>\n",
       "      <td>NaN</td>\n",
       "    </tr>\n",
       "  </tbody>\n",
       "</table>\n",
       "</div>"
      ],
      "text/plain": [
       "   Column1 Column2  Column3 Column4  Column5\n",
       "0        1       a      1.1   apple      NaN\n",
       "1        2       b      3.3   apple      NaN\n",
       "2        3              3.3  carrot      NaN\n",
       "3        4       d      4.4  banana      NaN\n",
       "4        5       e      5.5  banana      NaN"
      ]
     },
     "execution_count": 10,
     "metadata": {},
     "output_type": "execute_result"
    }
   ],
   "source": [
    "df_imputed=df.copy()\n",
    "df_imputed['Column3'].fillna(method='bfill', inplace=True)  # Forward fills the NaNs in Column3\n",
    "df_imputed['Column4'].fillna(method='ffill', inplace=True)  # Backward fills the NaNs in Column4\n",
    "df_imputed.head()"
   ]
  },
  {
   "cell_type": "markdown",
   "metadata": {},
   "source": [
    "\n",
    "3. **Using the Mean, Median, or Mode:**\n",
    "\n",
    "For numerical data, another common strategy is to replace missing values with the mean, median, or mode.\n",
    "\n",
    "   \n"
   ]
  },
  {
   "cell_type": "code",
   "execution_count": 12,
   "metadata": {},
   "outputs": [
    {
     "data": {
      "text/plain": [
       "0    1.10\n",
       "1    3.85\n",
       "2    3.30\n",
       "3    4.40\n",
       "4    5.50\n",
       "Name: Column3, dtype: float64"
      ]
     },
     "execution_count": 12,
     "metadata": {},
     "output_type": "execute_result"
    }
   ],
   "source": [
    "\n",
    "imputed_column = df['Column3'].fillna(df['Column3'].median())  # Median\n",
    "imputed_column.head()\n",
    "\n"
   ]
  },
  {
   "cell_type": "markdown",
   "metadata": {},
   "source": [
    "## Key Takeaways\n",
    "\n",
    "\n",
    "- Handling missing data is vital for avoiding biased estimates and invalid conclusions\n",
    "- Missing values in Pandas can be represented as `NaN`, `NaT`, `None`, or `NULL`\n",
    "- Pandas `DataFrame` has methods to identify and index missing data in a dataset\n",
    "- The `df.info()` method in Pandas provides a count of non-null values in each column\n",
    "- Pandas `DataFrame` has 5 columns with different data types and varying number of non-null values\n",
    "- Use `isna()` or `isnull()` to detect missing values in Pandas, but they won't detect placeholders for missing data\n",
    "- Dropping rows or columns with many missing values avoids imputation but risks losing useful data\n",
    "- The `dropna()` method in Pandas removes missing values, with customisable parameters for different data cleaning needs\n",
    "- Use `df.dropna(axis=1, how='all')` to remove columns with all missing values, and `df.dropna(subset=['Column'])` to drop rows with missing values in specific columns\n",
    "- Use the `.replace()` method to convert unrecognized missing data into a format Pandas can identify, such as `None` or `np.nan`\n",
    "- Imputing missing values, not just deleting them, allows for comprehensive analysis while maintaining data integrity\n",
    "- Pandas provides methods to handle missing values: `fillna()` to replace with a specific value, forward fill (`ffill`) or backward fill (`bfill`), or replace with the mean, median, or mode"
   ]
  }
 ],
 "metadata": {
  "kernelspec": {
   "display_name": "content_repo",
   "language": "python",
   "name": "python3"
  },
  "language_info": {
   "codemirror_mode": {
    "name": "ipython",
    "version": 3
   },
   "file_extension": ".py",
   "mimetype": "text/x-python",
   "name": "python",
   "nbconvert_exporter": "python",
   "pygments_lexer": "ipython3",
   "version": "3.11.3"
  }
 },
 "nbformat": 4,
 "nbformat_minor": 2
}
