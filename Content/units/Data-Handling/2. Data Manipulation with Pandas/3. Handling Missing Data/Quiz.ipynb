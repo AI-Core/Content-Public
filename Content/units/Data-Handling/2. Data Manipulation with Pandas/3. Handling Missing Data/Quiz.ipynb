{
 "cells": [
  {
   "cell_type": "markdown",
   "metadata": {},
   "source": [
    "# Handling Missing Data"
   ]
  },
  {
   "cell_type": "markdown",
   "metadata": {},
   "source": [
    "## What does the `NaN` value represent in Pandas?\n",
    "\n",
    "- Not a Timestamp\n",
    "- Not a Number ***\n",
    "- Null\n",
    "- Not Available"
   ]
  },
  {
   "cell_type": "markdown",
   "metadata": {},
   "source": [
    "## Which method is used to detect missing values in a Pandas `DataFrame` or `Series`?\n",
    "\n",
    "- `.detectna()`\n",
    "- `.isna()` ***\n",
    "- `.missing()`\n",
    "- `.findna()`"
   ]
  },
  {
   "cell_type": "markdown",
   "metadata": {},
   "source": [
    "## True or False: The `dropna()` method in Pandas can be used to remove columns with missing values.\n",
    "\n",
    "- True ***\n",
    "- False\n"
   ]
  },
  {
   "cell_type": "markdown",
   "metadata": {},
   "source": [
    "## What is the default behavior of the `dropna()` method when used without specifying any parameters?\n",
    "\n",
    "- Drops columns with any missing values\n",
    "- Drops rows with any missing values ***\n",
    "- Drops rows where all values are missing\n",
    "- Drops columns where all values are missing"
   ]
  },
  {
   "cell_type": "markdown",
   "metadata": {},
   "source": [
    "## Which method in Pandas is used to replace missing values with a specific value?\n",
    "\n",
    "- `.replace()`\n",
    "- `.fill()`\n",
    "- `.fillna()` ***\n",
    "- `.impute()`"
   ]
  },
  {
   "cell_type": "markdown",
   "metadata": {},
   "source": [
    "## When using `fillna(method='ffill')` in Pandas, what happens to the missing values?\n",
    "\n",
    "- They are filled with the mean of the column\n",
    "- They are filled with the value in the next row or column\n",
    "- They are filled with the value in the previous row or column ***\n",
    "- They remain unchanged"
   ]
  },
  {
   "cell_type": "markdown",
   "metadata": {},
   "source": [
    "## True or False: The `.replace()` method in Pandas can convert unrecognized missing data into a format that Pandas can identify.\n",
    "\n",
    "- True ***\n",
    "- False"
   ]
  },
  {
   "cell_type": "markdown",
   "metadata": {},
   "source": [
    "## What is a common strategy for imputing missing values in a numerical column in Pandas?\n",
    "\n",
    "- Replacing with a random value\n",
    "- Replacing with the mean, median, or mode of the column ***\n",
    "- Replacing with the maximum value of the column\n",
    "- Deleting the entire column"
   ]
  }
 ],
 "metadata": {
  "language_info": {
   "name": "python"
  }
 },
 "nbformat": 4,
 "nbformat_minor": 2
}
