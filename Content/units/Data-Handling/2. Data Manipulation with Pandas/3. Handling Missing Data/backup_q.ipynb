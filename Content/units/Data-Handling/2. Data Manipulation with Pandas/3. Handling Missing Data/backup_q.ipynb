{
 "cells": [
  {
   "attachments": {},
   "cell_type": "markdown",
   "metadata": {},
   "source": [
    "## What is the key difference between the Python values `None`, `0`, and `NaN`?\n",
    "\n",
    "- `None` is a special value that represents the absence of a value, `0` represents the integer zero, and `NaN` represents \"Not a Number\" ***\n",
    "- `None` is a float, `0` is an integer, and `NaN` is a special value used only in scientific computing\n",
    "- `None` and `0` are both valid numeric values, while `NaN` is not\n",
    "- `None` is equivalent to 0, while `NaN` is a value that represents an undefined or unrepresentable value"
   ]
  },
  {
   "attachments": {},
   "cell_type": "markdown",
   "metadata": {},
   "source": [
    "## What is the correct way to add a new column named `total` to a Pandas dataframe `df`, where total is the sum of two existing columns `col1` and `col2`?\n",
    "\n",
    "- `df.total = df.col1 + df.col2`\n",
    "- `df['total'] = df.col1 + df.col2` ***\n",
    "- `df.add_column('total', df.col1 + df.col2)`\n",
    "- `df.insert('total', df.col1 + df.col2)`"
   ]
  },
  {
   "attachments": {},
   "cell_type": "markdown",
   "metadata": {},
   "source": [
    "## What is the correct way to remove the `total` column from the dataframe `df`?\n",
    "\n",
    "- `df.total.drop()`\n",
    "- `df.drop('total', axis=1)` ***\n",
    "- `del df.total`\n",
    "- `df.pop('total')`"
   ]
  },
  {
   "attachments": {},
   "cell_type": "markdown",
   "metadata": {},
   "source": [
    "## Suppose you have a Pandas dataframe `df` that contains a column named `sales`. What will happen if you execute the following code to add a new column with the same name?\n",
    "\n",
    "```\n",
    "df['sales'] = [10, 20, 30, 40]\n",
    "```\n",
    "\n",
    "- The existing `sales` column will be overwritten with the new values ***\n",
    "- A new column with the same name sales will be added to the dataframe, with the new values\n",
    "- The code will raise an error, because you cannot add a column with a name that already exists\n",
    "- The behavior of the code is undefined and can vary based on the version of pandas being used"
   ]
  },
  {
   "attachments": {},
   "cell_type": "markdown",
   "metadata": {},
   "source": [
    "## Suppose you have a pandas dataframe `df` with the following columns: `Name`, `Age`, `Salary`, and `Country`. You want to sort the dataframe by the `Salary column` in descending order, and modify the original dataframe instead of creating a copy. Which of the following statements is correct?\n",
    "\n",
    "- `df.sort_values(by='Salary', ascending=False, inplace=True)` will sort the dataframe by the `Salary` column in descending order and modify the original dataframe ***\n",
    "- `df.sort_values(by='Salary', ascending=False)` will sort the dataframe by the `Salary` column in descending order, but will not modify the original dataframe\n",
    "- `df = df.sort_values(by='Salary', ascending=False)` will sort the dataframe by the `Salary` column in descending order and create a new dataframe df instead of modifying the original dataframe\n"
   ]
  },
  {
   "attachments": {},
   "cell_type": "markdown",
   "metadata": {},
   "source": [
    "## Suppose you have a Pandas dataframe `df` with the following columns: `Name`, `Age`, `Salary`, and `Country`. You want to drop the `Salary` column without modifying the original dataframe. Which of the following statements is correct?\n",
    "\n",
    "- `df_copy = df.drop('Salary', axis=1).copy()` will create a new dataframe `df_copy` and drop the `Salary` column from the original dataframe `df`\n",
    "- `df_copy = df.copy().drop('Salary', axis=1, inplace=True)` will create a new dataframe `df_copy` and drop the `Salary` column from the copied dataframe, not the original dataframe ***\n",
    "- `df.drop('Salary', axis=1, inplace=True).copy()` will drop the `Salary` column from the original dataframe `df` and create a new dataframe by copying the modified DataFrame\n",
    "- None of the above"
   ]
  },
  {
   "attachments": {},
   "cell_type": "markdown",
   "metadata": {},
   "source": [
    "## Which of the following statements is true about the difference between the `loc` and `iloc` methods in pandas?\n",
    "\n",
    "- The `loc` method selects rows and columns by label-based indexing, while the `iloc` method selects rows and columns by integer-based indexing ***\n",
    "- The `loc `method selects rows and columns by integer-based indexing, while the `iloc` method selects rows and columns by label-based indexing\n",
    "- The `loc` and `iloc` methods are equivalent and can be used interchangeably to select rows and columns from a DataFrame\n",
    "- None of the above\n"
   ]
  },
  {
   "attachments": {},
   "cell_type": "markdown",
   "metadata": {},
   "source": [
    "## Suppose you have a Pandas dataframe `df` with the following columns: `Name`, `Age`, `Salary`, and `Country`. How would you select all the rows of the `Age` ?\n",
    "\n",
    "- `ages = df.loc['Age']`\n",
    "- `ages = df.iloc['Age']`\n",
    "- `ages = df.iloc[:, 'Age']`\n",
    "- `ages = df.loc[:, 'Age']` ***"
   ]
  },
  {
   "attachments": {},
   "cell_type": "markdown",
   "metadata": {},
   "source": [
    "## Suppose you have a Pandas dataframe `df` with the following columns: `Name`, `Age`, `Salary`, and `Country`. You then sort the dataframe by descending age using the following code `sorted_df = df.sort_values(by='Age', ascending=False)`. How would you then select the first row, the entry with the highest age? Select all that apply.\n",
    "\n",
    "- `highest_age_entry = sorted_df.iloc[0, :]` ***\n",
    "- `highest_age_entry = sorted_df.iloc[0]` ***\n",
    "- `highest_age_entry = sorted_df.loc[0, :]`\n",
    "- `highest_age_entry = sorted_df.iloc[1]`"
   ]
  },
  {
   "attachments": {},
   "cell_type": "markdown",
   "metadata": {},
   "source": [
    "## What is the ISO standard format for representing dates and times in a machine-readable and unambiguous way?\n",
    "\n",
    "- `DD/MM/YYYY hh:mm:ss`\n",
    "- `YYYY-MM-DD hh:mm:ss` ***\n",
    "- `MM/DD/YYYY hh:mm:ss`\n",
    "- `hh:mm:ss DD/MM/YYYY`"
   ]
  },
  {
   "attachments": {},
   "cell_type": "markdown",
   "metadata": {},
   "source": [
    "## Assuming you have a Pandas dataframe named `df` with a column named `time_col` containing time data, which of the following lines of code would format the `time_col` to the ISO standard format?\n",
    "\n",
    "- `df['time_col'].to_datetime(format='%Y-%m-%d %H:%M:%S')` ***\n",
    "- `df['time_col'].strftime('%Y-%m-%d %H:%M:%S')`\n",
    "- `df['time_col'].to_iso_datetime()`\n",
    "- `df['time_col'].dt.strftime('%Y-%m-%d %H:%M:%S')`\n"
   ]
  },
  {
   "attachments": {},
   "cell_type": "markdown",
   "metadata": {},
   "source": [
    "## Suppose you have a Pandas dataframe `df` with columns `A`, `B`, and `C`. Which of the following code snippets would create a new dataframe `new_df` containing only the rows where the value in column `A` is greater than `10` and the value in column `B` is less than `5`?\n",
    "\n",
    "- `new_df = df[df['A'] > 10 and df['B'] < 5]`\n",
    "- `new_df = df[(df['A'] > 10) & (df['B'] < 5)]` ***\n",
    "- `new_df = df[df['A'] > 10 || df['B'] < 5]`\n",
    "- `new_df = df[(df['A'] > 10) and (df['B'] < 5)]`"
   ]
  },
  {
   "attachments": {},
   "cell_type": "markdown",
   "metadata": {},
   "source": [
    "## Suppose you have a Pandas dataframe `df` with a column `age`. Which of the following code snippets would create a new dataframe `new_df` containing only the rows where the age is greater than or equal to `18`?\n",
    "\n",
    "- `new_df = df[df.age >= 18]` ***\n",
    "- `new_df = df[df['age'] > 18]`\n",
    "- `new_df = df[df.age == 18]`\n",
    "- `new_df = df[df.age != 18]`"
   ]
  },
  {
   "attachments": {},
   "cell_type": "markdown",
   "metadata": {},
   "source": [
    "## Suppose you have a Pandas dataframe `df` with columns `name`, `age`, and `gender`. Which of the following code snippets would create a new dataframe `new_df` with the index set to the `name` column and the `gender` column dropped? Select all that apply.\n",
    "\n",
    "- `new_df = df.set_index('name').drop('gender', axis=1)` ***\n",
    "- `new_df = df.drop('gender', axis=1).set_index('name')` ***\n",
    "- `new_df = df.set_index('name', 'gender').drop('gender', axis=1)`\n",
    "- `new_df = df.set_index(['name'], drop=True)[['age']]`"
   ]
  },
  {
   "attachments": {},
   "cell_type": "markdown",
   "metadata": {},
   "source": [
    "## Suppose you have a Pandas dataframe `df` with an index set to the `name` column and a column `age`. Which of the following code snippets would reset the index of `df` to a default integer index while keeping the `name` column?\n",
    "\n",
    "- `df.reset_index(inplace=True)` ***\n",
    "- `df.reset_index(inplace=True, col='name')`\n",
    "- `df.reset_index(inplace=True, columns=['name'])`\n",
    "- `df.reset_index(drop=True, inplace=True)`"
   ]
  }
 ],
 "metadata": {
  "language_info": {
   "name": "python"
  },
  "orig_nbformat": 4
 },
 "nbformat": 4,
 "nbformat_minor": 2
}
