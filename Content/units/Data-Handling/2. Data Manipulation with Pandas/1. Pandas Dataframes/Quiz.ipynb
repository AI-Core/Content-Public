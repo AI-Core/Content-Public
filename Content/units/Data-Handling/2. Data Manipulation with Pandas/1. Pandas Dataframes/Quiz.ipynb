{
 "cells": [
  {
   "attachments": {},
   "cell_type": "markdown",
   "metadata": {},
   "source": [
    "# Pandas Dataframes"
   ]
  },
  {
   "attachments": {},
   "cell_type": "markdown",
   "metadata": {},
   "source": [
    "## What is a Pandas dataframe?\n",
    "\n",
    "- A two-dimensional labeled data structure with columns of potentially different types ***\n",
    "- A one-dimensional labeled array capable of holding any data type\n",
    "- A data structure that represents a collection of elements arranged in a two-dimensional grid\n",
    "- A collection of named and ordered elements that are iterable and mutable"
   ]
  },
  {
   "attachments": {},
   "cell_type": "markdown",
   "metadata": {},
   "source": [
    "## What is a Pandas series object?\n",
    "\n",
    "- A one-dimensional labeled array capable of holding any data type ***\n",
    "- A two-dimensional labeled data structure with columns of potentially different types\n",
    "- A data structure that represents a collection of elements arranged in a two-dimensional grid\n",
    "- A collection of named and ordered elements that are iterable and mutable"
   ]
  },
  {
   "attachments": {},
   "cell_type": "markdown",
   "metadata": {},
   "source": [
    "## Which Pandas method can be used to set a specific column as the index of a dataframe?\n",
    "\n",
    "- `set_index()` ***\n",
    "- `create_index()`\n",
    "- `add_index()`\n",
    "- `change_index()`"
   ]
  },
  {
   "attachments": {},
   "cell_type": "markdown",
   "metadata": {},
   "source": [
    "## Which Pandas functions can be used to read data from a CSV file into a Pandas dataframe and write data from a Pandas dataframe to a CSV file, respectively?\n",
    "\n",
    "- `read_csv()` and `write_csv()`\n",
    "- `import_csv()` and `export_csv()`\n",
    "- `read_csv()` and `to_csv()` ***\n",
    "- `from_csv()` and `to_csv()`"
   ]
  },
  {
   "attachments": {},
   "cell_type": "markdown",
   "metadata": {},
   "source": [
    "## What is the difference between using single brackets `[]` and double brackets `[[ ]]` to select a subset of columns from a Pandas dataframe?\n",
    "\n",
    "- Single brackets select a column as a Pandas series, while double brackets select a column or columns as a Pandas dataframe ***\n",
    "- Single brackets select columns based on their labels, while double brackets select columns based on their positions\n",
    "- Double brackets select a column as a Pandas series, while single brackets select a column as a Pandas dataframe\n",
    "- Single brackets are used to select columns based on their positions, while double brackets are used to select columns based on their labels"
   ]
  },
  {
   "attachments": {},
   "cell_type": "markdown",
   "metadata": {},
   "source": [
    "## What is the primary difference between the `info()` method and the `describe()` method of a Pandas dataframe?\n",
    "\n",
    "- The `info()` method provides information about the data types and non-null values of each column in the dataframe, while the `describe()` method provides summary statistics of the numerical columns in the dataframe ***\n",
    "- The `info()` method provides summary statistics of the numerical columns in the dataframe, while the `describe()` method provides information about the data types and non-null values of each column in the dataframe\n",
    "- The `info()` method provides information about the shape of the dataframe, while the `describe()` method provides information about the column labels of the dataframe\n",
    "- The `info()` method provides information about the memory usage of the dataframe, while the `describe()` method provides information about the null values in the dataframe"
   ]
  },
  {
   "attachments": {},
   "cell_type": "markdown",
   "metadata": {},
   "source": [
    "## Suppose you have a Pandas dataframe called `df` with a column called `price`. You want to create a new column called `price_squared` that contains the squared value of the `price` column. Which of the following code snippets will accomplish this task?\n",
    "\n",
    "- `df['price_squared'] = df['price'].apply(lambda x: x * x)` ***\n",
    "- `df['price_squared'] = df.apply(lambda x: x['price'] * x['price'])`\n",
    "- `df['price_squared'] = df['price'].apply(lambda x: df['price'] * df['price'])`\n",
    "- All of the above"
   ]
  },
  {
   "attachments": {},
   "cell_type": "markdown",
   "metadata": {},
   "source": [
    "## Suppose you have a large Pandas dataframe with 1000 rows and 10 columns. You want to preview the first 5 rows of the dataframe to check if it was loaded correctly. Which of the following code snippets will accomplish this task?\n",
    "\n",
    "- `df.head(10)`\n",
    "- `df.head(5)` ***\n",
    "- `df.tail(5)`\n",
    "- `df.describe(5)`"
   ]
  },
  {
   "attachments": {},
   "cell_type": "markdown",
   "metadata": {},
   "source": [
    "## Suppose you have a Pandas dataframe called `df` with a column called `date`, which contains dates in the format `'YYYY-MM-DD'`. You want to create a new column called `year`, which contains the year value from the date column. Which of the following code snippets will accomplish this task?\n",
    "\n",
    "- `df['year'] = df['date'].apply(lambda x: x[:4])` ***\n",
    "- `df['year'] = df['date'].apply(lambda x: x.year)`\n",
    "- `df['year'] = df['date'].apply(lambda x: pd.to_datetime(x).year)`\n",
    "- All of the above"
   ]
  },
  {
   "attachments": {},
   "cell_type": "markdown",
   "metadata": {},
   "source": [
    "## Suppose you have a Pandas dataframe called `df` with a column called `temperature`, which contains temperature values in Fahrenheit. You want to create a new column called `temperature_celsius`, which contains the temperature values converted to Celsius using the formula `(F-32) * 5/9`. You have already defined a function called `fahrenheit_to_celsius` to perform this conversion. Which of the following code snippets will accomplish this task? Select all that apply.\n",
    "\n",
    "- `df['temperature_celsius'] = df['temperature'].apply(lambda x: fahrenheit_to_celsius(x))` ***\n",
    "- `df['temperature_celsius'] = df['temperature'].apply(fahrenheit_to_celsius)` ***\n",
    "- `df['temperature_celsius'] = apply(df['temperature'], fahrenheit_to_celsius)`\n",
    "- All of the above"
   ]
  }
 ],
 "metadata": {
  "language_info": {
   "name": "python"
  },
  "orig_nbformat": 4
 },
 "nbformat": 4,
 "nbformat_minor": 2
}
