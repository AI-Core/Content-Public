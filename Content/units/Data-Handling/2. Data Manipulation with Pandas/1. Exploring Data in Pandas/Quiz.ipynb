{
 "cells": [
  {
   "cell_type": "markdown",
   "metadata": {},
   "source": [
    "# Exploring Data in Pandas"
   ]
  },
  {
   "cell_type": "markdown",
   "metadata": {},
   "source": [
    "## How can you view the first five rows of a `DataFrame` in Pandas?\n",
    "\n",
    "- `df.first(5)`\n",
    "- `df.head(5)` ***\n",
    "- `df.show(5)`\n",
    "- `df.top(5)`"
   ]
  },
  {
   "cell_type": "markdown",
   "metadata": {},
   "source": [
    "## What method is used to provide a quick statistical summary of a `DataFrame` in Pandas?\n",
    "\n",
    "- `df.statistical_summary()`\n",
    "- `df.describe()` ***\n",
    "- `df.summary()`\n",
    "- `df.stats()`"
   ]
  },
  {
   "cell_type": "markdown",
   "metadata": {},
   "source": [
    "## Which method would you use to count the frequency of unique values in a column of a `DataFrame`?\n",
    "\n",
    "- `df.count_values()`\n",
    "- `df.frequency()`\n",
    "- `df.value_counts()` ***\n",
    "- `df.count_discinct()`"
   ]
  },
  {
   "cell_type": "markdown",
   "metadata": {},
   "source": [
    "## In Pandas, how can you sort a `DataFrame` by a specific column in descending order?\n",
    "\n",
    "- `df.sort_values(by='column_name', ascending=False)` ***\n",
    "- `df.sort_values('column_name', descending=True)`\n",
    "- `df.sort('column_name', up=False)`\n",
    "- `df.arrange('column_name', ascending=False)`"
   ]
  },
  {
   "cell_type": "markdown",
   "metadata": {},
   "source": [
    "## What does the .shape attribute of a `DataFrame` return?\n",
    "\n",
    "- The type of data in each column\n",
    "- The number of non-null values in each column\n",
    "- The amount of memory the `DataFrame` uses\n",
    "- The number of rows and columns in the `DataFrame` ***"
   ]
  },
  {
   "cell_type": "markdown",
   "metadata": {},
   "source": [
    "## How can you select rows in a `DataFrame` where a column's value matches a specific condition?\n",
    "\n",
    "- `df.select('column_name' == value)`\n",
    "- `df['column_name'].equals(value)`\n",
    "- `df.where('column_name' == value)`\n",
    "- `df.loc[df['column_name'] == value]` ***"
   ]
  },
  {
   "cell_type": "markdown",
   "metadata": {},
   "source": [
    "## What is the purpose of the `.isin()` method in Pandas?\n",
    "\n",
    "- To check if a `DataFrame` is a subset of another `DataFrame`\n",
    "- To verify if a value exists in a `DataFrame` column\n",
    "- To filter rows based on whether column values are in a provided list ***\n",
    "- To compare two columns in a `DataFrame` for identical values"
   ]
  },
  {
   "cell_type": "markdown",
   "metadata": {},
   "source": [
    "## In Pandas, how would you filter a `DataFrame` for rows where the value of a column contains a specific string?\n",
    "\n",
    "- `df.loc[df['column_name'].includes('string')]`\n",
    "- `df[df['column_name'].contains('string')]`\n",
    "- `df.loc[df['column_name'].str.contains('string')]` ***\n",
    "- `df.where(df['column_name'].matches('string'))`"
   ]
  },
  {
   "cell_type": "markdown",
   "metadata": {},
   "source": [
    "## What is the primary difference between the `info()` method and the `describe()` method of a Pandas `DataFrame`?\n",
    "\n",
    "- The `info()` method provides information about the data types and non-null values of each column in the `DataFrame`, while the `describe()` method provides summary statistics of the numerical columns in the `DataFrame` ***\n",
    "- The `info()` method provides summary statistics of the numerical columns in the `DataFrame`e, while the `describe()` method provides information about the data types and non-null values of each column in the `DataFrame`\n",
    "- The `info()` method provides information about the shape of the `DataFrame`, while the `describe()` method provides information about the column labels of the `DataFrame`\n",
    "- The `info()` method provides information about the memory usage of the `DataFrame`, while the `describe()` method provides information about the null values in the `DataFrame`"
   ]
  }
 ],
 "metadata": {
  "language_info": {
   "name": "python"
  }
 },
 "nbformat": 4,
 "nbformat_minor": 2
}
