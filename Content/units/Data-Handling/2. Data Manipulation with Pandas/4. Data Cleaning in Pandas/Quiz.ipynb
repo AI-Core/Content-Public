{
 "cells": [
  {
   "attachments": {},
   "cell_type": "markdown",
   "metadata": {},
   "source": [
    "# Data Cleaning in Pandas"
   ]
  },
  {
   "attachments": {},
   "cell_type": "markdown",
   "metadata": {},
   "source": [
    "## Suppose you have a Pandas dataframe called `sales_data` with a column called `price` that contains prices in the format `$xx.xx`, where `x` is a digit. You want to convert the `price` column to a numerical data type while keeping the exact price. Which of the following code snippets will achieve this?\n",
    "\n",
    "- This code ***\n",
    "``` python\n",
    "sales_data[\"price\"] = sales_data[\"price\"].str.replace(\"$\", \"\")\n",
    "sales_data[\"price\"] = sales_data[\"price\"].astype(float)\n",
    "```\n",
    "\n",
    "- This code\n",
    "``` python\n",
    "sales_data[\"price\"] = sales_data[\"price\"].astype(float)\n",
    "sales_data[\"price\"] = sales_data[\"price\"].str.replace(\"$\", \"\")\n",
    "```\n",
    "\n",
    "- This code\n",
    "``` python\n",
    "sales_data[\"price\"] = sales_data[\"price\"].astype(int)\n",
    "sales_data[\"price\"] = sales_data[\"price\"].str.replace(\"$\", \"\")\n",
    "```\n",
    "\n",
    "- This code\n",
    "``` python\n",
    "sales_data[\"price\"] = sales_data[\"price\"].str.replace(\"$\", \"\")\n",
    "sales_data[\"price\"] = sales_data[\"price\"].astype(int)\n",
    "```"
   ]
  },
  {
   "attachments": {},
   "cell_type": "markdown",
   "metadata": {},
   "source": [
    "## Suppose you have a Pandas dataframe called `sales_data` with a column called `region` that contains the regions where sales were made. The `region` column has a small number of unique values compared to the total number of rows in the DataFrame. What data type should the `region` column be to optimize memory usage?\n",
    "\n",
    "- `int`\n",
    "- `bool`\n",
    "- `string`\n",
    "- `category` ***\n",
    "\n"
   ]
  },
  {
   "attachments": {},
   "cell_type": "markdown",
   "metadata": {},
   "source": [
    "## Suppose you have a Pandas dataframe called `employee_data` with a column called `employee_id` that contains unique identifiers for each employee. You want to find all the rows with duplicate employee IDs in the dataframe. Which of the following code snippets will achieve this?\n",
    "\n",
    "- `employee_data[employee_data[\"employee_id\"].duplicated()]` ***\n",
    "- `employee_data.duplicated(subset=\"employee_id\")`\n",
    "- `employee_data[employee_data.duplicated(\"employee_id\")]`\n",
    "- `employee_data[\"employee_id\"].duplicated()`"
   ]
  },
  {
   "attachments": {},
   "cell_type": "markdown",
   "metadata": {},
   "source": [
    "## Suppose you have a Pandas dataframe called `sales_data` with columns `date` and `sales_amount`. You want to sort the dataframe in ascending order based on the `sales_amount` column. Which of the following code snippets will achieve this without redundancy?\n",
    "\n",
    "- `sales_data.sort_values(\"sales_amount\")`\n",
    "- `sales_data.sort_values(by=\"sales_amount\")` ***\n",
    "- `sales_data.sort_values(\"sales_amount\", ascending=True)`\n",
    "- `sales_data.sort_values(by=\"sales_amount\", ascending=False)`"
   ]
  },
  {
   "attachments": {},
   "cell_type": "markdown",
   "metadata": {},
   "source": [
    "## Suppose you have a Pandas dataframe called `employee_data`. How can you check whether there are any `NaN` values in the dataframe?\n",
    "\n",
    "- `employee_data.isna()` ***\n",
    "- `employee_data.isnan()`\n",
    "- `employee_data.hasna()`\n",
    "- `employee_data.hasnan()`"
   ]
  },
  {
   "attachments": {},
   "cell_type": "markdown",
   "metadata": {},
   "source": [
    "## Suppose you have a Pandas dataframe called `sales_data` with columns `date`, `product`, and `sales_amount`. The dataframe contains some duplicate rows where the same product was sold on the same date. You want to calculate the average sales amount for each product across all duplicate rows. Which of the following code snippets will achieve this?\n",
    "\n",
    "- `sales_data.groupby([\"date\", \"product\"])[\"sales_amount\"].mean()` ***\n",
    "- `sales_data.groupby([\"date\", \"sales_amount\"])[\"product\"].mean()`\n",
    "- `sales_data.groupby([\"product\", \"sales_amount\"])[\"date\"].mean()`\n",
    "- `sales_data.groupby(\"date\")[\"product\", \"sales_amount\"].mean()`"
   ]
  },
  {
   "attachments": {},
   "cell_type": "markdown",
   "metadata": {},
   "source": [
    "## Suppose you have a Pandas dataframe called `employee_data` with columns `employee_id`, `employee_name`, and `department`. You want to filter the dataframe to only include rows where the `department colum`n contains either `\"Sales\"` or `\"Marketing\"`. Which of the following code snippets will achieve this?\n",
    "\n",
    "- `employee_data.filter(items=[\"Sales\", \"Marketing\"], axis=0)`\n",
    "- `employee_data.loc[employee_data[\"department\"] == [\"Sales\", \"Marketing\"]]`\n",
    "- `employee_data[employee_data[\"department\"].isin([\"Sales\", \"Marketing\"])]` ***\n",
    "- `employee_data[employee_data.isin([\"Sales\", \"Marketing\"])]` "
   ]
  },
  {
   "attachments": {},
   "cell_type": "markdown",
   "metadata": {},
   "source": [
    "## Suppose you have a Pandas dataframe called `sales_data` with several columns, including a column called `customer_age` that contains the age of each customer. Some of the rows in the dataframe have missing values in the `customer_age` column. You want to remove all the rows with missing values in the `customer_age` column before analyzing the data. Which of the following code snippets would achieve this goal?\n",
    "\n",
    "- `sales_data.dropna('customer_age')`\n",
    "- `sales_data.dropna(subset=['customer_age'])` ***\n",
    "- `sales_data.dropna(columns='customer_age')`\n",
    "- `sales_data.dropna(how='all')`"
   ]
  },
  {
   "attachments": {},
   "cell_type": "markdown",
   "metadata": {},
   "source": [
    "## Suppose you have a Pandas dataframe called `student_grades` with several columns, including a column called `grade` that contains the grade of each student. Some of the rows in the dataframe have missing values in the `grade` column. You want to identify all the rows with missing values in the `grade` column. Which of the following code snippets would achieve this goal?\n",
    "\n",
    "- `student_grades.isnull('grade')`\n",
    "- `student_grades.isnull(subset=['grade'])`\n",
    "- `student_grades['grade'].isnull()` ***\n",
    "- `student_grades.isnull()`"
   ]
  }
 ],
 "metadata": {
  "language_info": {
   "name": "python"
  },
  "orig_nbformat": 4
 },
 "nbformat": 4,
 "nbformat_minor": 2
}
