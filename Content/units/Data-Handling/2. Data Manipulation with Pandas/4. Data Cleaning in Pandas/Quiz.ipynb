{
 "cells": [
  {
   "attachments": {},
   "cell_type": "markdown",
   "metadata": {},
   "source": [
    "# Data Cleaning in Pandas"
   ]
  },
  {
   "attachments": {},
   "cell_type": "markdown",
   "metadata": {},
   "source": [
    "## Suppose you have a Pandas dataframe called `sales_data` with a column called `price` that contains prices in the format `$xx.xx`, where `x` is a digit. You want to convert the `price` column to a numerical data type while keeping the exact price. Which of the following code snippets will achieve this?\n",
    "\n",
    "- This code ***\n",
    "``` python\n",
    "sales_data[\"price\"] = sales_data[\"price\"].str.replace(\"$\", \"\")\n",
    "sales_data[\"price\"] = sales_data[\"price\"].astype(float)\n",
    "```\n",
    "\n",
    "- This code\n",
    "``` python\n",
    "sales_data[\"price\"] = sales_data[\"price\"].astype(float)\n",
    "sales_data[\"price\"] = sales_data[\"price\"].str.replace(\"$\", \"\")\n",
    "```\n",
    "\n",
    "- This code\n",
    "``` python\n",
    "sales_data[\"price\"] = sales_data[\"price\"].astype(int)\n",
    "sales_data[\"price\"] = sales_data[\"price\"].str.replace(\"$\", \"\")\n",
    "```\n",
    "\n",
    "- This code\n",
    "``` python\n",
    "sales_data[\"price\"] = sales_data[\"price\"].str.replace(\"$\", \"\")\n",
    "sales_data[\"price\"] = sales_data[\"price\"].astype(int)\n",
    "```"
   ]
  },
  {
   "attachments": {},
   "cell_type": "markdown",
   "metadata": {},
   "source": [
    "## Suppose you have a Pandas dataframe called `sales_data` with a column called `region` that contains the regions where sales were made. The `region` column has a small number of unique values compared to the total number of rows in the DataFrame. What data type should the `region` column be to optimize memory usage?\n",
    "\n",
    "- `int`\n",
    "- `bool`\n",
    "- `string`\n",
    "- `category` ***\n",
    "\n"
   ]
  },
  {
   "attachments": {},
   "cell_type": "markdown",
   "metadata": {},
   "source": [
    "## Suppose you have a Pandas dataframe called `employee_data`. How can you check whether there are any `NaN` values in the dataframe?\n",
    "\n",
    "- `employee_data.isna()` ***\n",
    "- `employee_data.isnan()`\n",
    "- `employee_data.hasna()`\n",
    "- `employee_data.hasnan()`"
   ]
  },
  {
   "attachments": {},
   "cell_type": "markdown",
   "metadata": {},
   "source": [
    "## Suppose you have a Pandas dataframe called `employee_data` with columns `employee_id`, `employee_name`, and `department`. You want to filter the dataframe to only include rows where the `department colum`n contains either `\"Sales\"` or `\"Marketing\"`. Which of the following code snippets will achieve this?\n",
    "\n",
    "- `employee_data.filter(items=[\"Sales\", \"Marketing\"], axis=0)`\n",
    "- `employee_data.loc[employee_data[\"department\"] == [\"Sales\", \"Marketing\"]]`\n",
    "- `employee_data[employee_data[\"department\"].isin([\"Sales\", \"Marketing\"])]` ***\n",
    "- `employee_data[employee_data.isin([\"Sales\", \"Marketing\"])]` "
   ]
  },
  {
   "attachments": {},
   "cell_type": "markdown",
   "metadata": {},
   "source": [
    "## Suppose you have a Pandas dataframe called `sales_data` with several columns, including a column called `customer_age` that contains the age of each customer. Some of the rows in the dataframe have missing values in the `customer_age` column. You want to remove all the rows with missing values in the `customer_age` column before analyzing the data. Which of the following code snippets would achieve this goal?\n",
    "\n",
    "- `sales_data.dropna('customer_age')`\n",
    "- `sales_data.dropna(subset=['customer_age'])` ***\n",
    "- `sales_data.dropna(columns='customer_age')`\n",
    "- `sales_data.dropna(how='all')`"
   ]
  },
  {
   "cell_type": "markdown",
   "metadata": {},
   "source": [
    "## Suppose you have a `Pandas` dataframe called `Customers` and you want to remove all rows which are **exact** duplicates from the existing dataframe, which code snippet would you use?\n",
    "\n",
    "- `customers['customer_id'].drop_duplicates()`\n",
    "- `customers.drop_duplicates(columns=all)`\n",
    "- `customers.drop_duplicates(inplace = True)` ***\n",
    "- `customers_nonduplicated = customers[~customers.duplicated()]`"
   ]
  },
  {
   "cell_type": "markdown",
   "metadata": {},
   "source": [
    "## Creating a new categorical column from a column of continuous data can be achieved by which process?\n",
    "\n",
    "- Binning ***\n",
    "- Chopping\n",
    "- Normalising\n",
    "- Aggregating\n"
   ]
  },
  {
   "cell_type": "markdown",
   "metadata": {},
   "source": [
    "## The `.nunique()` method returns:\n",
    "\n",
    "- The unique values in a column\n",
    "- The non-unique values in a column\n",
    "- The count of unique values in a column ***\n",
    "- The indices of the unique values in a column"
   ]
  }
 ],
 "metadata": {
  "language_info": {
   "name": "python"
  },
  "orig_nbformat": 4
 },
 "nbformat": 4,
 "nbformat_minor": 2
}
