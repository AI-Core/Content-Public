{
 "cells": [
  {
   "cell_type": "markdown",
   "metadata": {},
   "source": [
    "# DataFrame Manipulations"
   ]
  },
  {
   "cell_type": "markdown",
   "metadata": {},
   "source": [
    "## True or False: The `pd.concat()` function is the only method in Pandas v2 to add new rows to a `DataFrame`.\n",
    "\n",
    "- True ***\n",
    "- False"
   ]
  },
  {
   "cell_type": "markdown",
   "metadata": {},
   "source": [
    "## What is the default type of join when using the `pd.merge()` function in Pandas?\n",
    "\n",
    "- Left Join\n",
    "- Right Join\n",
    "- Inner Join ***\n",
    "- Full Join"
   ]
  },
  {
   "cell_type": "markdown",
   "metadata": {},
   "source": [
    "## How does setting `ignore_index=True` in `pd.concat()` affect the resulting `DataFrame`?\n",
    "\n",
    "- It maintains the original indices of the concatenated `DataFrame`s\n",
    "- It resets the index to the default integer index ***\n",
    "- It creates a MultiIndex `DataFrame`\n",
    "- It removes the index from the `DataFrame`"
   ]
  },
  {
   "cell_type": "markdown",
   "metadata": {},
   "source": [
    "## When performing a merge in Pandas, which parameter specifies the type of join (e.g., 'left', 'right', 'inner', 'outer')?\n",
    "\n",
    "- `on`\n",
    "- `join`\n",
    "- `how` ***\n",
    "- `merge_type`"
   ]
  },
  {
   "cell_type": "markdown",
   "metadata": {},
   "source": [
    "## In Pandas, what does the `groupby()` method primarily accomplish?\n",
    "\n",
    "- It sorts the `DataFrame` based on specified columns\n",
    "- It combines multiple `DataFrame`s into one\n",
    "- It filters out specific rows based on a condition\n",
    "- It groups data for segmented analysis and aggregation ***"
   ]
  },
  {
   "cell_type": "markdown",
   "metadata": {},
   "source": [
    "## True or False: The `apply()` method in Pandas can only be used to apply functions to entire `DataFrame`s, not to individual rows or columns.\n",
    "\n",
    "- True\n",
    "- False ***"
   ]
  },
  {
   "cell_type": "markdown",
   "metadata": {},
   "source": [
    "## How should you add new rows to a `DataFrame` in Pandas v>2.0?\n",
    "\n",
    "- Using `.append()` method\n",
    "- Using `.add_rows()` method\n",
    "- Using `.concat()` method ***\n",
    "- Using `.insert_rows()` method"
   ]
  },
  {
   "cell_type": "markdown",
   "metadata": {},
   "source": [
    "\n",
    "\n",
    "\n",
    "\n",
    "## What is the default type of join when using the `pd.merge()` function in Pandas?\n",
    "\n",
    "- Left Join\n",
    "- Right Join\n",
    "- Full Join\n",
    "- Inner Join ***\n"
   ]
  },
  {
   "cell_type": "markdown",
   "metadata": {},
   "source": [
    "\n",
    "## True or False: Grouping by multiple columns in Pandas allows for more complex data segmentation and analysis.\n",
    "\n",
    "- True ***\n",
    "- False\n"
   ]
  },
  {
   "cell_type": "markdown",
   "metadata": {},
   "source": [
    "\n",
    "\n",
    "\n",
    "## When using the `.groupby()` method in Pandas, what does the `agg()` function do?\n",
    "\n",
    "- Counts the number of occurrences of each group\n",
    "- Calculates the sum of values for each group\n",
    "- Applies an aggregation function to the values of each group ***\n",
    "- Finds the maximum value for each group"
   ]
  }
 ],
 "metadata": {
  "language_info": {
   "name": "python"
  }
 },
 "nbformat": 4,
 "nbformat_minor": 2
}
