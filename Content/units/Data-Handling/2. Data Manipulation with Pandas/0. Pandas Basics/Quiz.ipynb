{
 "cells": [
  {
   "cell_type": "markdown",
   "metadata": {},
   "source": [
    "# Pandas Basics"
   ]
  },
  {
   "cell_type": "markdown",
   "metadata": {},
   "source": [
    "## True or False: A Pandas `DataFrame` is a one-dimensional labeled array.\n",
    "\n",
    "- True\n",
    "- False ***\n"
   ]
  },
  {
   "cell_type": "markdown",
   "metadata": {},
   "source": [
    "## How can you import data from a `CSV` file into a Pandas `DataFrame`?\n",
    "\n",
    "- By using the `pd.read_csv()` method ***\n",
    "- By using the `pd.import_csv()` method\n",
    "- By using the `DataFrame.read_csv()` method\n",
    "- By using the `pd.open_csv()` method\n"
   ]
  },
  {
   "cell_type": "markdown",
   "metadata": {},
   "source": [
    "## What does the `iloc` attribute in Pandas do?\n",
    "\n",
    "- It provides label-based indexing for `DataFrames`\n",
    "- It allows for selecting multiple rows and columns simultaneously\n",
    "- It provides integer-location based indexing for selection by position ***\n",
    "- It resets the index of the `DataFrame`"
   ]
  },
  {
   "cell_type": "markdown",
   "metadata": {},
   "source": [
    "## When using `pd.read_excel()`, what does the `index_col` parameter specify?\n",
    "\n",
    "- The column to be used as the row index ***\n",
    "- The number of rows to skip at the beginning of the file\n",
    "- The default value for missing index columns\n",
    "- The encoding type for the Excel file"
   ]
  },
  {
   "cell_type": "markdown",
   "metadata": {},
   "source": [
    "## True or False: Resetting the index of a `DataFrame` will always add the old index as a new column.\n",
    "\n",
    "- True\n",
    "- False ***"
   ]
  },
  {
   "cell_type": "markdown",
   "metadata": {},
   "source": [
    "## What happens if you modify a `DataFrame` that was created as an alias of another `DataFrame` in Pandas?\n",
    "\n",
    "- The changes are reflected only in the alias `DataFrame`\n",
    "- An error is thrown\n",
    "- The changes are reflected in both the original and the alias `DataFrame` ***\n",
    "- The changes are not reflected in either `DataFrame`"
   ]
  },
  {
   "cell_type": "markdown",
   "metadata": {},
   "source": [
    "## To avoid saving the index column when exporting a `DataFrame` to a `CSV` file, what parameter should be set in the `to_csv()` method?\n",
    "\n",
    "- `save_index=False`\n",
    "- `index=False` ***\n",
    "- `drop_index=True`\n",
    "- `include_index=False`"
   ]
  },
  {
   "cell_type": "markdown",
   "metadata": {},
   "source": [
    "## What is the purpose of the `inplace` parameter in some Pandas methods?\n",
    "\n",
    "- To create a new `DataFrame` with the changes applied\n",
    "- To save the changes to a file immediately\n",
    "- To modify the original `DataFrame` directly without returning a new `DataFrame` ***\n",
    "- To perform the operation asynchronously"
   ]
  },
  {
   "cell_type": "markdown",
   "metadata": {},
   "source": [
    "## What is a Pandas `DataFrame`?\n",
    "\n",
    "- A two-dimensional labeled data structure with columns of potentially different types ***\n",
    "- A one-dimensional labeled array capable of holding any data type\n",
    "- A data structure that represents a collection of elements arranged in a two-dimensional grid\n",
    "- A collection of named and ordered elements that are iterable and mutable"
   ]
  },
  {
   "cell_type": "markdown",
   "metadata": {},
   "source": [
    "## What is the difference between using single brackets `[]` and double brackets `[[ ]]` to select a subset of columns from a Pandas `DataFrame`?\n",
    "\n",
    "- Single brackets select a column as a Pandas series, while double brackets select a column or columns as a Pandas `DataFrame` ***\n",
    "- Single brackets select columns based on their labels, while double brackets select columns based on their positions\n",
    "- Double brackets select a column as a Pandas series, while single brackets select a column as a Pandas `DataFrame`\n",
    "- Single brackets are used to select columns based on their positions, while double brackets are used to select columns based on their labels"
   ]
  }
 ],
 "metadata": {
  "language_info": {
   "name": "python"
  }
 },
 "nbformat": 4,
 "nbformat_minor": 2
}
