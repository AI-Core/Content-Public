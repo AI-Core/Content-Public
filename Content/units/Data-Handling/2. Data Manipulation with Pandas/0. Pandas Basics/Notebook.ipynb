{
 "cells": [
  {
   "cell_type": "markdown",
   "metadata": {},
   "source": [
    "# Pandas Basics"
   ]
  },
  {
   "cell_type": "markdown",
   "metadata": {},
   "source": [
    "> Pandas is a widely-used Python library for data manipulation and analysis, centred around tabular data structures. It offers powerful and flexible data structures, such as `DataFrame`s and `Series`, to enable efficient data wrangling, cleaning, and analysis.\n",
    "\n",
    "### Key Features of Pandas\n",
    "\n",
    "Pandas has a wide range of features for viewing and manipulating tabular data:\n",
    "\n",
    "- **Data Exploration and Analysis**: It provides functions for calculating descriptive statistics, summarising data, and identifying trends or patterns\n",
    "- **Graphing and Visualization**: It has integrations with libraries like Matplotlib for creating informative plots and charts directly from `DataFrame`s\n",
    "- **Data Cleaning and Preparation**: Tools for handling missing data, detecting outliers, and preparing datasets for analysis or machine learning models\n",
    "- **Data Transformation**: Capabilities for reshaping, pivoting, and transforming datasets to suit specific analysis needs\n",
    "- **File Compatibility and I/O**: Efficiently reads and writes to a variety of file formats, such as CSV, Excel, and SQL databases, facilitating easy data import and export\n",
    "\n",
    "## Practical Applications\n",
    "\n",
    "Pandas is used in various applications within data science and related fields:\n",
    "\n",
    "- **Data Cleaning and Preparation**: It streamlines the process of cleaning raw data, handling missing values, and preparing datasets for analysis\n",
    "- **Exploratory Data Analysis (EDA)**: Offers tools for deep-diving into datasets, uncovering insights, and informing subsequent analysis or modelling decisions\n",
    "- **Data Transformation and Aggregation**: Essential for reshaping data, creating summary tables, and performing group-wise operations for data analysis\n",
    "- **Data Visualisation**: Aids in creating meaningful visual representations of data, crucial for reporting and storytelling in data science\n",
    "\n",
    "Pandas' functionality is not only robust but also relatively user-friendly, making it a go-to tool for data professionals seeking to perform efficient and effective data analysis."
   ]
  },
  {
   "cell_type": "markdown",
   "metadata": {},
   "source": [
    "## Installation\n",
    "\n",
    "Pandas can be installed directly via `pip` using the `pip install pandas` command. Alternatively you can create a Conda environment and then use `conda install pandas` inside the activated environment.\n",
    "\n",
    "You can check that Pandas is installed correctly using the following command in your CLI:\n",
    "\n",
    "`python -c \"import pandas as pd; print(pd.__version__)\"`\n",
    "\n",
    "This should return the version of Pandas that you have installed."
   ]
  },
  {
   "cell_type": "markdown",
   "metadata": {},
   "source": [
    "## Creating Your First Pandas Project\n",
    "\n",
    "For most operations, Pandas is best used inside a Jupyter Notebook. Notebooks allow you to run individual code blocks separately, and render Pandas outputs in a more human-readable format.\n",
    "\n",
    "1. Create a new notebook by typing `touch pandas_demo.ipynb` in the CLI\n",
    "2. Inside the notebook, write `import pandas as pd`. Pandas is typically imported using the `pd` alias for the sake of brevity.\n",
    "\n"
   ]
  },
  {
   "cell_type": "markdown",
   "metadata": {},
   "source": [
    "## Pandas Data Structures\n",
    "\n",
    "> Pandas introduces two primary data structures: `Series` and `DataFrame`. A `Series` is a one-dimensional array-like object, akin to a column in a spreadsheet, while a `DataFrame` is a two-dimensional table with rows and columns, similar to a whole spreadsheet. Both are built on top of `array` objects from the NumPy library, which are multidimensional arrays intended for numerical data. Pandas extends their capabilities with more functionality and a focus on using a wider variety of data types. Pandas `Series` objects are ideal for single-dimensional data representation, whereas `DataFrames` are more suited for complex, multi-dimensional data analysis.  \n",
    "\n",
    "Each of these data structures have a wide range of powerful built-in methods that allow you to perform all sorts of data tasks quickly and efficiently.\n",
    "\n",
    "\n",
    "###  Pandas `DataFrame`\n",
    "\n",
    "\n",
    ">A `DataFrame` (often abbreviated to `df`) is like a table or an Excel spreadsheet. It's a 2-dimensional array used to store and work with data. It has rows and columns, where each column can have a different type of data, like numbers or text. It's great for analysing and organizing tabular data. Like other Python data structures, a `DataFrame` is an object with a range of associated methods, and it is these methods that make the `DataFrame` a powerful tool for analysis.\n",
    "\n",
    "Let's take a look at an example `DataFrame`. We will define a simple Python dictionary and then convert it into a `DataFrame` using the `pd.Dataframe()` function. You can then view the first few rows using the `DataFrame`'s `.head()` method, optionally passing a number of rows as an argument:\n",
    "\n",
    "\n",
    "\n",
    "\n",
    "\n",
    "\n",
    "\n",
    "\n",
    "\n"
   ]
  },
  {
   "cell_type": "code",
   "execution_count": null,
   "metadata": {},
   "outputs": [
    {
     "data": {
      "text/html": [
       "<div>\n",
       "<style scoped>\n",
       "    .dataframe tbody tr th:only-of-type {\n",
       "        vertical-align: middle;\n",
       "    }\n",
       "\n",
       "    .dataframe tbody tr th {\n",
       "        vertical-align: top;\n",
       "    }\n",
       "\n",
       "    .dataframe thead th {\n",
       "        text-align: right;\n",
       "    }\n",
       "</style>\n",
       "<table border=\"1\" class=\"dataframe\">\n",
       "  <thead>\n",
       "    <tr style=\"text-align: right;\">\n",
       "      <th></th>\n",
       "      <th>Name</th>\n",
       "      <th>Age</th>\n",
       "      <th>City</th>\n",
       "    </tr>\n",
       "  </thead>\n",
       "  <tbody>\n",
       "    <tr>\n",
       "      <th>0</th>\n",
       "      <td>Alice</td>\n",
       "      <td>25</td>\n",
       "      <td>New York</td>\n",
       "    </tr>\n",
       "    <tr>\n",
       "      <th>1</th>\n",
       "      <td>Belkis</td>\n",
       "      <td>60</td>\n",
       "      <td>Addis Ababa</td>\n",
       "    </tr>\n",
       "    <tr>\n",
       "      <th>2</th>\n",
       "      <td>Carlotta</td>\n",
       "      <td>35</td>\n",
       "      <td>Panama City</td>\n",
       "    </tr>\n",
       "  </tbody>\n",
       "</table>\n",
       "</div>"
      ],
      "text/plain": [
       "       Name  Age         City\n",
       "0     Alice   25     New York\n",
       "1    Belkis   60  Addis Ababa\n",
       "2  Carlotta   35  Panama City"
      ]
     },
     "metadata": {},
     "output_type": "display_data"
    }
   ],
   "source": [
    "import pandas as pd\n",
    "\n",
    "# Example dictionary\n",
    "data = {\n",
    "    'Name': ['Alice', 'Belkis', 'Carlotta'],\n",
    "    'Age': [25, 60, 35],\n",
    "    'City': ['New York', 'Addis Ababa', 'Panama City']\n",
    "}\n",
    "\n",
    "# Creating a DataFrame from the dictionary\n",
    "example_df = pd.DataFrame(data)\n",
    "example_df.head(5)"
   ]
  },
  {
   "cell_type": "markdown",
   "metadata": {},
   "source": [
    "We can see that the `pd.DataFrame` constructor has taken our dictionary and produced a table with the keys as column names and the value lists as the data for each column. It has also added an extra column on the left. This is known as the `index` and is used to identify a specific row.\n",
    "### Pandas `Series`\n",
    "> A `Series` is like a single column of a `DataFrame`, a 1-dimensional array that can hold data of any type. \n",
    "\n",
    " We can create a `Series` from a list as follows:"
   ]
  },
  {
   "cell_type": "code",
   "execution_count": null,
   "metadata": {},
   "outputs": [
    {
     "data": {
      "text/plain": [
       "0    1\n",
       "1    2\n",
       "2    3\n",
       "dtype: int64"
      ]
     },
     "metadata": {},
     "output_type": "display_data"
    }
   ],
   "source": [
    "example_series = pd.Series([1, 2, 3])\n",
    "example_series"
   ]
  },
  {
   "cell_type": "markdown",
   "metadata": {},
   "source": [
    "## Indexing and Slicing Pandas Data Structures\n",
    "\n",
    ">In Pandas, indexing and slicing enable precise data selection and manipulation within `Series` and `DataFrame`s. This functionality is akin to accessing elements in Python lists or arrays, but with enhanced capabilities. Indexing allows for selecting specific rows or columns using labels or positions, while slicing facilitates retrieving subsets of data. \n",
    "\n",
    "A `Series` can be indexed exactly like a Python list:\n",
    "\n"
   ]
  },
  {
   "cell_type": "code",
   "execution_count": null,
   "metadata": {},
   "outputs": [
    {
     "data": {
      "text/plain": [
       "1"
      ]
     },
     "metadata": {},
     "output_type": "display_data"
    }
   ],
   "source": [
    "example_series[0]"
   ]
  },
  {
   "cell_type": "markdown",
   "metadata": {},
   "source": [
    "Indexing and slicing of `DataFrame` objects can be performed in multiple ways. We can select a column using its name in  square brackets`[]`, and it will be extracted as a `Series` object:"
   ]
  },
  {
   "cell_type": "code",
   "execution_count": null,
   "metadata": {},
   "outputs": [
    {
     "name": "stdout",
     "output_type": "stream",
     "text": [
      "<class 'pandas.core.series.Series'>\n"
     ]
    },
    {
     "data": {
      "text/plain": [
       "0       Alice\n",
       "1      Belkis\n",
       "2    Carlotta\n",
       "Name: Name, dtype: object"
      ]
     },
     "metadata": {},
     "output_type": "display_data"
    }
   ],
   "source": [
    "single_column = example_df['Name']\n",
    "print(type(single_column))\n",
    "single_column.head()"
   ]
  },
  {
   "cell_type": "markdown",
   "metadata": {},
   "source": [
    "Alternatively we can select a column (or columns) in double square brackets, and it will be extracted as a `DataFrame` object"
   ]
  },
  {
   "cell_type": "code",
   "execution_count": null,
   "metadata": {},
   "outputs": [
    {
     "name": "stdout",
     "output_type": "stream",
     "text": [
      "<class 'pandas.core.frame.DataFrame'>\n"
     ]
    },
    {
     "data": {
      "text/html": [
       "<div>\n",
       "<style scoped>\n",
       "    .dataframe tbody tr th:only-of-type {\n",
       "        vertical-align: middle;\n",
       "    }\n",
       "\n",
       "    .dataframe tbody tr th {\n",
       "        vertical-align: top;\n",
       "    }\n",
       "\n",
       "    .dataframe thead th {\n",
       "        text-align: right;\n",
       "    }\n",
       "</style>\n",
       "<table border=\"1\" class=\"dataframe\">\n",
       "  <thead>\n",
       "    <tr style=\"text-align: right;\">\n",
       "      <th></th>\n",
       "      <th>Name</th>\n",
       "    </tr>\n",
       "  </thead>\n",
       "  <tbody>\n",
       "    <tr>\n",
       "      <th>0</th>\n",
       "      <td>Alice</td>\n",
       "    </tr>\n",
       "    <tr>\n",
       "      <th>1</th>\n",
       "      <td>Belkis</td>\n",
       "    </tr>\n",
       "    <tr>\n",
       "      <th>2</th>\n",
       "      <td>Carlotta</td>\n",
       "    </tr>\n",
       "  </tbody>\n",
       "</table>\n",
       "</div>"
      ],
      "text/plain": [
       "       Name\n",
       "0     Alice\n",
       "1    Belkis\n",
       "2  Carlotta"
      ]
     },
     "metadata": {},
     "output_type": "display_data"
    }
   ],
   "source": [
    "single_column = example_df[['Name']]\n",
    "print(type(single_column))\n",
    "single_column.head()"
   ]
  },
  {
   "cell_type": "markdown",
   "metadata": {},
   "source": [
    "Finally, it is also possible to select a column as a series using `.` notation:"
   ]
  },
  {
   "cell_type": "code",
   "execution_count": null,
   "metadata": {},
   "outputs": [
    {
     "data": {
      "text/plain": [
       "pandas.core.series.Series"
      ]
     },
     "metadata": {},
     "output_type": "display_data"
    }
   ],
   "source": [
    "type(example_df.Name)"
   ]
  },
  {
   "cell_type": "markdown",
   "metadata": {},
   "source": [
    "### The `.loc` Attribute\n",
    "We can index a specific row of a `DataFrame` using the locate row (`.loc`) attribute. This selects rows based on the values in the index column. Note the syntax: just use the row index in square brackets `[]`, no parentheses `()`."
   ]
  },
  {
   "cell_type": "code",
   "execution_count": null,
   "metadata": {},
   "outputs": [
    {
     "data": {
      "text/plain": [
       "Name       Alice\n",
       "Age           25\n",
       "City    New York\n",
       "Name: 0, dtype: object"
      ]
     },
     "metadata": {},
     "output_type": "display_data"
    }
   ],
   "source": [
    "example_df.loc[0]"
   ]
  },
  {
   "cell_type": "markdown",
   "metadata": {},
   "source": [
    "You can also select multiple rows simultaneously by supplying a list as an argument:"
   ]
  },
  {
   "cell_type": "code",
   "execution_count": null,
   "metadata": {},
   "outputs": [
    {
     "data": {
      "text/html": [
       "<div>\n",
       "<style scoped>\n",
       "    .dataframe tbody tr th:only-of-type {\n",
       "        vertical-align: middle;\n",
       "    }\n",
       "\n",
       "    .dataframe tbody tr th {\n",
       "        vertical-align: top;\n",
       "    }\n",
       "\n",
       "    .dataframe thead th {\n",
       "        text-align: right;\n",
       "    }\n",
       "</style>\n",
       "<table border=\"1\" class=\"dataframe\">\n",
       "  <thead>\n",
       "    <tr style=\"text-align: right;\">\n",
       "      <th></th>\n",
       "      <th>Name</th>\n",
       "      <th>Age</th>\n",
       "      <th>City</th>\n",
       "    </tr>\n",
       "  </thead>\n",
       "  <tbody>\n",
       "    <tr>\n",
       "      <th>0</th>\n",
       "      <td>Alice</td>\n",
       "      <td>25</td>\n",
       "      <td>New York</td>\n",
       "    </tr>\n",
       "    <tr>\n",
       "      <th>2</th>\n",
       "      <td>Carlotta</td>\n",
       "      <td>35</td>\n",
       "      <td>Panama City</td>\n",
       "    </tr>\n",
       "  </tbody>\n",
       "</table>\n",
       "</div>"
      ],
      "text/plain": [
       "       Name  Age         City\n",
       "0     Alice   25     New York\n",
       "2  Carlotta   35  Panama City"
      ]
     },
     "metadata": {},
     "output_type": "display_data"
    }
   ],
   "source": [
    "example_df.loc[[0,2]]"
   ]
  },
  {
   "cell_type": "markdown",
   "metadata": {},
   "source": [
    "### The `iloc` Attribute\n",
    "Currently our index column values are the integers [`0`, `1`, `2`...], as per Python. However we can also use any other list of unique values as our index:"
   ]
  },
  {
   "cell_type": "code",
   "execution_count": null,
   "metadata": {},
   "outputs": [
    {
     "data": {
      "text/html": [
       "<div>\n",
       "<style scoped>\n",
       "    .dataframe tbody tr th:only-of-type {\n",
       "        vertical-align: middle;\n",
       "    }\n",
       "\n",
       "    .dataframe tbody tr th {\n",
       "        vertical-align: top;\n",
       "    }\n",
       "\n",
       "    .dataframe thead th {\n",
       "        text-align: right;\n",
       "    }\n",
       "</style>\n",
       "<table border=\"1\" class=\"dataframe\">\n",
       "  <thead>\n",
       "    <tr style=\"text-align: right;\">\n",
       "      <th></th>\n",
       "      <th>Name</th>\n",
       "      <th>Age</th>\n",
       "      <th>City</th>\n",
       "    </tr>\n",
       "  </thead>\n",
       "  <tbody>\n",
       "    <tr>\n",
       "      <th>a</th>\n",
       "      <td>Alice</td>\n",
       "      <td>25</td>\n",
       "      <td>New York</td>\n",
       "    </tr>\n",
       "    <tr>\n",
       "      <th>b</th>\n",
       "      <td>Belkis</td>\n",
       "      <td>60</td>\n",
       "      <td>Addis Ababa</td>\n",
       "    </tr>\n",
       "    <tr>\n",
       "      <th>c</th>\n",
       "      <td>Carlotta</td>\n",
       "      <td>35</td>\n",
       "      <td>Panama City</td>\n",
       "    </tr>\n",
       "  </tbody>\n",
       "</table>\n",
       "</div>"
      ],
      "text/plain": [
       "       Name  Age         City\n",
       "a     Alice   25     New York\n",
       "b    Belkis   60  Addis Ababa\n",
       "c  Carlotta   35  Panama City"
      ]
     },
     "metadata": {},
     "output_type": "display_data"
    }
   ],
   "source": [
    "example_df.index = ['a', 'b', 'c']\n",
    "example_df.head()"
   ]
  },
  {
   "cell_type": "markdown",
   "metadata": {},
   "source": [
    "The `loc` attribute is for **label-based indexing**. Using `loc` will work as before with the new index values:"
   ]
  },
  {
   "cell_type": "code",
   "execution_count": null,
   "metadata": {},
   "outputs": [
    {
     "data": {
      "text/plain": [
       "Name       Alice\n",
       "Age           25\n",
       "City    New York\n",
       "Name: a, dtype: object"
      ]
     },
     "metadata": {},
     "output_type": "display_data"
    }
   ],
   "source": [
    "example_df.loc['a']"
   ]
  },
  {
   "cell_type": "markdown",
   "metadata": {},
   "source": [
    "But we now have a mismatch between the Pythonic indexing and our index column. Under these circumstances we can choose to use the `iloc` attribute to use **position based indexing** instead:\n"
   ]
  },
  {
   "cell_type": "code",
   "execution_count": null,
   "metadata": {},
   "outputs": [
    {
     "data": {
      "text/plain": [
       "Name       Alice\n",
       "Age           25\n",
       "City    New York\n",
       "Name: a, dtype: object"
      ]
     },
     "metadata": {},
     "output_type": "display_data"
    }
   ],
   "source": [
    "example_df.iloc[0]"
   ]
  },
  {
   "cell_type": "markdown",
   "metadata": {},
   "source": [
    "### Slicing Rows and Columns Together\n",
    "\n",
    "As well as selecting individual rows and columns, we can index or slice by both at once:\n",
    "\n",
    "\n",
    "#### Using `loc`:\n"
   ]
  },
  {
   "cell_type": "code",
   "execution_count": null,
   "metadata": {},
   "outputs": [
    {
     "data": {
      "text/plain": [
       "Name    Alice\n",
       "Age        25\n",
       "Name: a, dtype: object"
      ]
     },
     "metadata": {},
     "output_type": "display_data"
    }
   ],
   "source": [
    "example_df.loc['a',['Name','Age']]"
   ]
  },
  {
   "cell_type": "markdown",
   "metadata": {},
   "source": [
    "#### Using `iloc`:"
   ]
  },
  {
   "cell_type": "code",
   "execution_count": null,
   "metadata": {},
   "outputs": [
    {
     "data": {
      "text/plain": [
       "Name    Alice\n",
       "Age        25\n",
       "Name: a, dtype: object"
      ]
     },
     "metadata": {},
     "output_type": "display_data"
    }
   ],
   "source": [
    "example_df.iloc[0,[0,1]]"
   ]
  },
  {
   "cell_type": "markdown",
   "metadata": {},
   "source": [
    "## Resetting the Index"
   ]
  },
  {
   "cell_type": "markdown",
   "metadata": {},
   "source": [
    "> Resetting the index of a Pandas `DataFrame` is often used after performing data manipulations like slicing or filtering, which can leave the `DataFrame` with an index that is non-sequential or not aligned with the data's current state. \n",
    "\n",
    "### Why Reset the Index?\n",
    "\n",
    "- **Non-Sequential Indices:** After slicing or filtering a `DataFrame`, the resulting index might be non-sequential or non-contiguous, which can be confusing and may cause issues with data alignment or further data manipulation\n",
    "- **Alignment and Consistency:** Resetting the index ensures that the `DataFrame` maintains a consistent structure, with a sequential numeric index starting from 0\n",
    "- **Ease of Merging and Joining:** A standard, sequential index is often easier to work with when performing database-style join or merge operations\n"
   ]
  },
  {
   "cell_type": "markdown",
   "metadata": {},
   "source": [
    "Let's consider a `DataFrame` and perform a slicing operation to filter out certain rows. We'll then see the need to reset the index."
   ]
  },
  {
   "cell_type": "code",
   "execution_count": null,
   "metadata": {},
   "outputs": [
    {
     "data": {
      "text/html": [
       "<div>\n",
       "<style scoped>\n",
       "    .dataframe tbody tr th:only-of-type {\n",
       "        vertical-align: middle;\n",
       "    }\n",
       "\n",
       "    .dataframe tbody tr th {\n",
       "        vertical-align: top;\n",
       "    }\n",
       "\n",
       "    .dataframe thead th {\n",
       "        text-align: right;\n",
       "    }\n",
       "</style>\n",
       "<table border=\"1\" class=\"dataframe\">\n",
       "  <thead>\n",
       "    <tr style=\"text-align: right;\">\n",
       "      <th></th>\n",
       "      <th>Name</th>\n",
       "      <th>Age</th>\n",
       "    </tr>\n",
       "  </thead>\n",
       "  <tbody>\n",
       "    <tr>\n",
       "      <th>1</th>\n",
       "      <td>Bob</td>\n",
       "      <td>35</td>\n",
       "    </tr>\n",
       "    <tr>\n",
       "      <th>3</th>\n",
       "      <td>Diana</td>\n",
       "      <td>40</td>\n",
       "    </tr>\n",
       "  </tbody>\n",
       "</table>\n",
       "</div>"
      ],
      "text/plain": [
       "    Name  Age\n",
       "1    Bob   35\n",
       "3  Diana   40"
      ]
     },
     "metadata": {},
     "output_type": "display_data"
    }
   ],
   "source": [
    "import pandas as pd\n",
    "\n",
    "# Example DataFrame\n",
    "data = {\n",
    "    'Name': ['Alice', 'Bob', 'Charlie', 'Diana'],\n",
    "    'Age': [25, 35, 29, 40]\n",
    "}\n",
    "df = pd.DataFrame(data)\n",
    "\n",
    "# Slicing the DataFrame to select specific rows\n",
    "sliced_df = df[df['Age'] > 30]\n",
    "\n",
    "sliced_df.head()"
   ]
  },
  {
   "cell_type": "markdown",
   "metadata": {},
   "source": [
    "Our filtering operation has made the index column non-contiguous, so we should now apply `.reset_index():`"
   ]
  },
  {
   "cell_type": "code",
   "execution_count": null,
   "metadata": {},
   "outputs": [
    {
     "data": {
      "text/html": [
       "<div>\n",
       "<style scoped>\n",
       "    .dataframe tbody tr th:only-of-type {\n",
       "        vertical-align: middle;\n",
       "    }\n",
       "\n",
       "    .dataframe tbody tr th {\n",
       "        vertical-align: top;\n",
       "    }\n",
       "\n",
       "    .dataframe thead th {\n",
       "        text-align: right;\n",
       "    }\n",
       "</style>\n",
       "<table border=\"1\" class=\"dataframe\">\n",
       "  <thead>\n",
       "    <tr style=\"text-align: right;\">\n",
       "      <th></th>\n",
       "      <th>Name</th>\n",
       "      <th>Age</th>\n",
       "    </tr>\n",
       "  </thead>\n",
       "  <tbody>\n",
       "    <tr>\n",
       "      <th>0</th>\n",
       "      <td>Bob</td>\n",
       "      <td>35</td>\n",
       "    </tr>\n",
       "    <tr>\n",
       "      <th>1</th>\n",
       "      <td>Diana</td>\n",
       "      <td>40</td>\n",
       "    </tr>\n",
       "  </tbody>\n",
       "</table>\n",
       "</div>"
      ],
      "text/plain": [
       "    Name  Age\n",
       "0    Bob   35\n",
       "1  Diana   40"
      ]
     },
     "metadata": {},
     "output_type": "display_data"
    }
   ],
   "source": [
    "reset_df = sliced_df.reset_index(drop=True) # drop=True prevents the old index from being added as an extra column\n",
    "reset_df.head()"
   ]
  },
  {
   "cell_type": "markdown",
   "metadata": {},
   "source": [
    "## Importing Data into Pandas \n",
    "\n",
    "> Pandas provides methods for importing various data types and loading them into a `DataFrame`. There are methods to read data from sources like `CSV`, Excel, `JSON`, and relational databases like SQL tables.\n",
    "### Creating a `DataFrame` from Python Objects\n",
    "\n",
    "As we saw earlier in the lesson, a `DataFrame` can be created from a dictionary of lists, where the keys are the column headings and the values are `lists` of column values.\n"
   ]
  },
  {
   "cell_type": "code",
   "execution_count": null,
   "metadata": {},
   "outputs": [
    {
     "data": {
      "text/html": [
       "<div>\n",
       "<style scoped>\n",
       "    .dataframe tbody tr th:only-of-type {\n",
       "        vertical-align: middle;\n",
       "    }\n",
       "\n",
       "    .dataframe tbody tr th {\n",
       "        vertical-align: top;\n",
       "    }\n",
       "\n",
       "    .dataframe thead th {\n",
       "        text-align: right;\n",
       "    }\n",
       "</style>\n",
       "<table border=\"1\" class=\"dataframe\">\n",
       "  <thead>\n",
       "    <tr style=\"text-align: right;\">\n",
       "      <th></th>\n",
       "      <th>Name</th>\n",
       "      <th>Age</th>\n",
       "    </tr>\n",
       "  </thead>\n",
       "  <tbody>\n",
       "    <tr>\n",
       "      <th>0</th>\n",
       "      <td>Alice</td>\n",
       "      <td>25</td>\n",
       "    </tr>\n",
       "    <tr>\n",
       "      <th>1</th>\n",
       "      <td>Bob</td>\n",
       "      <td>35</td>\n",
       "    </tr>\n",
       "    <tr>\n",
       "      <th>2</th>\n",
       "      <td>Charlie</td>\n",
       "      <td>29</td>\n",
       "    </tr>\n",
       "    <tr>\n",
       "      <th>3</th>\n",
       "      <td>Diana</td>\n",
       "      <td>40</td>\n",
       "    </tr>\n",
       "  </tbody>\n",
       "</table>\n",
       "</div>"
      ],
      "text/plain": [
       "      Name  Age\n",
       "0    Alice   25\n",
       "1      Bob   35\n",
       "2  Charlie   29\n",
       "3    Diana   40"
      ]
     },
     "metadata": {},
     "output_type": "display_data"
    }
   ],
   "source": [
    "# create a df from a dictionary, where each key is a column name, and each values is a list of column values\n",
    "data = {\n",
    "    'Name': ['Alice', 'Bob', 'Charlie', 'Diana'],\n",
    "    'Age': [25, 35, 29, 40]\n",
    "}\n",
    "names_df = pd.DataFrame(data)\n",
    "names_df.head()"
   ]
  },
  {
   "cell_type": "markdown",
   "metadata": {},
   "source": [
    "\n",
    "You can also make a `DataFrame` from a list of lists, in which case you should supply the column names using the `columns` parameter.\n",
    "\n",
    "By default, each list will represent a row of the `DataFrame`:"
   ]
  },
  {
   "cell_type": "code",
   "execution_count": null,
   "metadata": {},
   "outputs": [
    {
     "data": {
      "text/html": [
       "<div>\n",
       "<style scoped>\n",
       "    .dataframe tbody tr th:only-of-type {\n",
       "        vertical-align: middle;\n",
       "    }\n",
       "\n",
       "    .dataframe tbody tr th {\n",
       "        vertical-align: top;\n",
       "    }\n",
       "\n",
       "    .dataframe thead th {\n",
       "        text-align: right;\n",
       "    }\n",
       "</style>\n",
       "<table border=\"1\" class=\"dataframe\">\n",
       "  <thead>\n",
       "    <tr style=\"text-align: right;\">\n",
       "      <th></th>\n",
       "      <th>number</th>\n",
       "      <th>name</th>\n",
       "    </tr>\n",
       "  </thead>\n",
       "  <tbody>\n",
       "    <tr>\n",
       "      <th>0</th>\n",
       "      <td>1</td>\n",
       "      <td>Jan</td>\n",
       "    </tr>\n",
       "    <tr>\n",
       "      <th>1</th>\n",
       "      <td>2</td>\n",
       "      <td>feb</td>\n",
       "    </tr>\n",
       "  </tbody>\n",
       "</table>\n",
       "</div>"
      ],
      "text/plain": [
       "   number name\n",
       "0       1  Jan\n",
       "1       2  feb"
      ]
     },
     "metadata": {},
     "output_type": "display_data"
    }
   ],
   "source": [
    "## Creating a DF from a list of lists, with each list representing a row\n",
    "\n",
    "list_1 = [1,\"Jan\"]\n",
    "list_2 = [2, \"feb\"]\n",
    "\n",
    "month_df = pd.DataFrame([list_1, list_2], columns=[\"number\", \"name\"])\n",
    "month_df.head()\n",
    "\n",
    "\n"
   ]
  },
  {
   "cell_type": "markdown",
   "metadata": {},
   "source": [
    "To create from a list of lists where each list is a column, you can use Python's `zip` function:"
   ]
  },
  {
   "cell_type": "code",
   "execution_count": null,
   "metadata": {},
   "outputs": [
    {
     "data": {
      "text/html": [
       "<div>\n",
       "<style scoped>\n",
       "    .dataframe tbody tr th:only-of-type {\n",
       "        vertical-align: middle;\n",
       "    }\n",
       "\n",
       "    .dataframe tbody tr th {\n",
       "        vertical-align: top;\n",
       "    }\n",
       "\n",
       "    .dataframe thead th {\n",
       "        text-align: right;\n",
       "    }\n",
       "</style>\n",
       "<table border=\"1\" class=\"dataframe\">\n",
       "  <thead>\n",
       "    <tr style=\"text-align: right;\">\n",
       "      <th></th>\n",
       "      <th>id</th>\n",
       "      <th>name</th>\n",
       "      <th>age</th>\n",
       "    </tr>\n",
       "  </thead>\n",
       "  <tbody>\n",
       "    <tr>\n",
       "      <th>0</th>\n",
       "      <td>1</td>\n",
       "      <td>Alice</td>\n",
       "      <td>30</td>\n",
       "    </tr>\n",
       "    <tr>\n",
       "      <th>1</th>\n",
       "      <td>2</td>\n",
       "      <td>Bob</td>\n",
       "      <td>25</td>\n",
       "    </tr>\n",
       "    <tr>\n",
       "      <th>2</th>\n",
       "      <td>3</td>\n",
       "      <td>Charlie</td>\n",
       "      <td>35</td>\n",
       "    </tr>\n",
       "  </tbody>\n",
       "</table>\n",
       "</div>"
      ],
      "text/plain": [
       "   id     name  age\n",
       "0   1    Alice   30\n",
       "1   2      Bob   25\n",
       "2   3  Charlie   35"
      ]
     },
     "metadata": {},
     "output_type": "display_data"
    }
   ],
   "source": [
    "## Creating a DF from a list of dictionaries, with each dictionary representing a column\n",
    "\n",
    "data = [\n",
    "    [1, 2, 3],\n",
    "    ['Alice', 'Bob', 'Charlie'],\n",
    "    [30, 25, 35]\n",
    "]\n",
    "\n",
    "# Create a DataFrame with each list as a column\n",
    "employee_df = pd.DataFrame(list(zip(*data)), columns=['id', 'name', 'age'])\n",
    "employee_df.head()"
   ]
  },
  {
   "cell_type": "markdown",
   "metadata": {},
   "source": [
    "### Importing from `CSV`\n",
    "\n",
    "One of the most common file types to read into Pandas is comma separated values (`CSV`). You can import data from a `CSV` file using the `pd.read_csv` function:"
   ]
  },
  {
   "cell_type": "code",
   "execution_count": null,
   "metadata": {},
   "outputs": [
    {
     "data": {
      "text/html": [
       "<div>\n",
       "<style scoped>\n",
       "    .dataframe tbody tr th:only-of-type {\n",
       "        vertical-align: middle;\n",
       "    }\n",
       "\n",
       "    .dataframe tbody tr th {\n",
       "        vertical-align: top;\n",
       "    }\n",
       "\n",
       "    .dataframe thead th {\n",
       "        text-align: right;\n",
       "    }\n",
       "</style>\n",
       "<table border=\"1\" class=\"dataframe\">\n",
       "  <thead>\n",
       "    <tr style=\"text-align: right;\">\n",
       "      <th></th>\n",
       "      <th>Id</th>\n",
       "      <th>EmployeeName</th>\n",
       "      <th>JobTitle</th>\n",
       "      <th>BasePay</th>\n",
       "      <th>OvertimePay</th>\n",
       "      <th>OtherPay</th>\n",
       "      <th>Benefits</th>\n",
       "      <th>TotalPay</th>\n",
       "      <th>TotalPayBenefits</th>\n",
       "      <th>Year</th>\n",
       "      <th>Notes</th>\n",
       "      <th>Agency</th>\n",
       "      <th>Status</th>\n",
       "    </tr>\n",
       "  </thead>\n",
       "  <tbody>\n",
       "    <tr>\n",
       "      <th>0</th>\n",
       "      <td>AA</td>\n",
       "      <td>NATHANIEL FORD</td>\n",
       "      <td>GENERAL MANAGER-METROPOLITAN TRANSIT AUTHORITY</td>\n",
       "      <td>167411.18</td>\n",
       "      <td>0.00</td>\n",
       "      <td>400184.25</td>\n",
       "      <td>NaN</td>\n",
       "      <td>567595.43</td>\n",
       "      <td>567595.43</td>\n",
       "      <td>2011</td>\n",
       "      <td>NaN</td>\n",
       "      <td>San Francisco</td>\n",
       "      <td>NaN</td>\n",
       "    </tr>\n",
       "    <tr>\n",
       "      <th>1</th>\n",
       "      <td>AB</td>\n",
       "      <td>GARY JIMENEZ</td>\n",
       "      <td>CAPTAIN III (POLICE DEPARTMENT)</td>\n",
       "      <td>155966.02</td>\n",
       "      <td>245131.88</td>\n",
       "      <td>137811.38</td>\n",
       "      <td>NaN</td>\n",
       "      <td>538909.28</td>\n",
       "      <td>538909.28</td>\n",
       "      <td>2011</td>\n",
       "      <td>NaN</td>\n",
       "      <td>San Francisco</td>\n",
       "      <td>NaN</td>\n",
       "    </tr>\n",
       "    <tr>\n",
       "      <th>2</th>\n",
       "      <td>AC</td>\n",
       "      <td>ALBERT PARDINI</td>\n",
       "      <td>CAPTAIN III (POLICE DEPARTMENT)</td>\n",
       "      <td>212739.13</td>\n",
       "      <td>106088.18</td>\n",
       "      <td>16452.60</td>\n",
       "      <td>NaN</td>\n",
       "      <td>335279.91</td>\n",
       "      <td>335279.91</td>\n",
       "      <td>2011</td>\n",
       "      <td>NaN</td>\n",
       "      <td>San Francisco</td>\n",
       "      <td>NaN</td>\n",
       "    </tr>\n",
       "    <tr>\n",
       "      <th>3</th>\n",
       "      <td>AD</td>\n",
       "      <td>CHRISTOPHER CHONG</td>\n",
       "      <td>WIRE ROPE CABLE MAINTENANCE MECHANIC</td>\n",
       "      <td>77916.00</td>\n",
       "      <td>56120.71</td>\n",
       "      <td>198306.90</td>\n",
       "      <td>NaN</td>\n",
       "      <td>332343.61</td>\n",
       "      <td>332343.61</td>\n",
       "      <td>2011</td>\n",
       "      <td>NaN</td>\n",
       "      <td>San Francisco</td>\n",
       "      <td>NaN</td>\n",
       "    </tr>\n",
       "    <tr>\n",
       "      <th>4</th>\n",
       "      <td>AE</td>\n",
       "      <td>PATRICK GARDNER</td>\n",
       "      <td>DEPUTY CHIEF OF DEPARTMENT,(FIRE DEPARTMENT)</td>\n",
       "      <td>134401.60</td>\n",
       "      <td>9737.00</td>\n",
       "      <td>182234.59</td>\n",
       "      <td>NaN</td>\n",
       "      <td>326373.19</td>\n",
       "      <td>326373.19</td>\n",
       "      <td>2011</td>\n",
       "      <td>NaN</td>\n",
       "      <td>San Francisco</td>\n",
       "      <td>NaN</td>\n",
       "    </tr>\n",
       "  </tbody>\n",
       "</table>\n",
       "</div>"
      ],
      "text/plain": [
       "   Id       EmployeeName                                        JobTitle  \\\n",
       "0  AA     NATHANIEL FORD  GENERAL MANAGER-METROPOLITAN TRANSIT AUTHORITY   \n",
       "1  AB       GARY JIMENEZ                 CAPTAIN III (POLICE DEPARTMENT)   \n",
       "2  AC     ALBERT PARDINI                 CAPTAIN III (POLICE DEPARTMENT)   \n",
       "3  AD  CHRISTOPHER CHONG            WIRE ROPE CABLE MAINTENANCE MECHANIC   \n",
       "4  AE    PATRICK GARDNER    DEPUTY CHIEF OF DEPARTMENT,(FIRE DEPARTMENT)   \n",
       "\n",
       "     BasePay  OvertimePay   OtherPay  Benefits   TotalPay  TotalPayBenefits  \\\n",
       "0  167411.18         0.00  400184.25       NaN  567595.43         567595.43   \n",
       "1  155966.02    245131.88  137811.38       NaN  538909.28         538909.28   \n",
       "2  212739.13    106088.18   16452.60       NaN  335279.91         335279.91   \n",
       "3   77916.00     56120.71  198306.90       NaN  332343.61         332343.61   \n",
       "4  134401.60      9737.00  182234.59       NaN  326373.19         326373.19   \n",
       "\n",
       "   Year  Notes         Agency  Status  \n",
       "0  2011    NaN  San Francisco     NaN  \n",
       "1  2011    NaN  San Francisco     NaN  \n",
       "2  2011    NaN  San Francisco     NaN  \n",
       "3  2011    NaN  San Francisco     NaN  \n",
       "4  2011    NaN  San Francisco     NaN  "
      ]
     },
     "metadata": {},
     "output_type": "display_data"
    }
   ],
   "source": [
    "salaries = pd.read_csv('https://aicore-files.s3.amazonaws.com/Foundations/Data_Formats/Salaries.csv')\n",
    "salaries.head()"
   ]
  },
  {
   "cell_type": "markdown",
   "metadata": {},
   "source": [
    "#### Optional Parameters\n",
    "\n",
    "- **`sep`**: Defines the delimiter to use. The default is `,`, and you can check your `CSV` file to see which should be used \n",
    "  \n",
    "- **`header`**: Indicates the row number to use as column names (0-indexed). Default is `0` (first line), but can be set to `None`, in case you have no column names in your first row.\n",
    "  \n",
    "- **`index_col`**: This parameter is used to specify which column should be used as the row index. It can be an integer (column position) or a string (column label).\n",
    "  \n",
    "- **`usecols`**: Useful when you want to load only specific columns. Pass a list of column names or numbers.\n",
    "  \n",
    "- **`dtype`**: Dictates the data type for each column, and should be a list of the same length as the number of columns\n",
    "#### Handling Common `CSV` Loading Issues\n",
    "\n",
    "A number of factors can affect the proper reading of `CSV` files. Here are some example issues and how to solve them:\n",
    "\n",
    "\n",
    "- **Different Delimiters:** `CSV` files may use delimiters other than commas (like tabs or semicolons). This will cause the DataFrame to be formatted incorrectly, or to throw an error during loading. Use the `sep` parameter to specify the delimiter, e.g. `pd.read_csv('file.csv', sep='\\t')` for tab-delimited files.\n",
    "  \n",
    "- **Missing Headers:** If a `CSV` file doesn’t have a header row, set `header=None` to prevent the first row from being treated as column names. You can then assign column names using the `names` parameter.\n",
    "  \n",
    "- **Encoding Issues:** `CSV` files can have different encodings (like `UTF-8`, `Latin1`). If you encounter encoding errors, use the `encoding` parameter, e.g., `pd.read_csv('file.csv', encoding='latin1')`.\n",
    "  \n",
    "### Importing from Excel\n",
    "\n",
    "Pandas provides the `pd.read_excel()` function to read Excel files. Here is an example load statement, using the first column as the index:\n",
    "\n",
    "\n"
   ]
  },
  {
   "cell_type": "code",
   "execution_count": null,
   "metadata": {},
   "outputs": [
    {
     "data": {
      "text/html": [
       "<div>\n",
       "<style scoped>\n",
       "    .dataframe tbody tr th:only-of-type {\n",
       "        vertical-align: middle;\n",
       "    }\n",
       "\n",
       "    .dataframe tbody tr th {\n",
       "        vertical-align: top;\n",
       "    }\n",
       "\n",
       "    .dataframe thead th {\n",
       "        text-align: right;\n",
       "    }\n",
       "</style>\n",
       "<table border=\"1\" class=\"dataframe\">\n",
       "  <thead>\n",
       "    <tr style=\"text-align: right;\">\n",
       "      <th></th>\n",
       "      <th>name</th>\n",
       "      <th>age</th>\n",
       "      <th>salary</th>\n",
       "    </tr>\n",
       "    <tr>\n",
       "      <th>index</th>\n",
       "      <th></th>\n",
       "      <th></th>\n",
       "      <th></th>\n",
       "    </tr>\n",
       "  </thead>\n",
       "  <tbody>\n",
       "    <tr>\n",
       "      <th>0</th>\n",
       "      <td>Aarav Patel</td>\n",
       "      <td>39</td>\n",
       "      <td>50000</td>\n",
       "    </tr>\n",
       "    <tr>\n",
       "      <th>1</th>\n",
       "      <td>Ying Chen</td>\n",
       "      <td>23</td>\n",
       "      <td>45000</td>\n",
       "    </tr>\n",
       "    <tr>\n",
       "      <th>2</th>\n",
       "      <td>John Smith</td>\n",
       "      <td>48</td>\n",
       "      <td>46500</td>\n",
       "    </tr>\n",
       "    <tr>\n",
       "      <th>3</th>\n",
       "      <td>Maria Garcia</td>\n",
       "      <td>22</td>\n",
       "      <td>35000</td>\n",
       "    </tr>\n",
       "    <tr>\n",
       "      <th>4</th>\n",
       "      <td>Fatima Zahra</td>\n",
       "      <td>38</td>\n",
       "      <td>62000</td>\n",
       "    </tr>\n",
       "  </tbody>\n",
       "</table>\n",
       "</div>"
      ],
      "text/plain": [
       "               name  age  salary\n",
       "index                           \n",
       "0       Aarav Patel   39   50000\n",
       "1         Ying Chen   23   45000\n",
       "2        John Smith   48   46500\n",
       "3      Maria Garcia   22   35000\n",
       "4      Fatima Zahra   38   62000"
      ]
     },
     "metadata": {},
     "output_type": "display_data"
    }
   ],
   "source": [
    "excel_df = pd.read_excel('example.xlsx', index_col=0)\n",
    "excel_df.head()\n"
   ]
  },
  {
   "cell_type": "markdown",
   "metadata": {},
   "source": [
    "#### Optional Parameters"
   ]
  },
  {
   "cell_type": "markdown",
   "metadata": {},
   "source": [
    "- `sheet_name`: Specifies which sheet to read. By default, it's set to `0`, meaning the first sheet. You can set it to the sheet's name or index.\n",
    "  \n",
    "- `header`: Identifies the row to use as column names\n",
    "  \n",
    "- `index_col`: Selects a column to use as the row index\n",
    "  \n",
    "- `usecols`: Limits the import to a list of specific columns\n",
    "### Outputting `DataFrame` Data to a File\n",
    "Pandas `DataFrame` objects have various methods for writing data from different file types. \n",
    "\n",
    "For example, to write data to a `CSV` file, you can use the `to_csv` method:\n"
   ]
  },
  {
   "cell_type": "code",
   "execution_count": null,
   "metadata": {},
   "outputs": [],
   "source": [
    "example_df.to_csv('test.csv', index=False) # index=False is used to avoid saving the index column."
   ]
  },
  {
   "cell_type": "markdown",
   "metadata": {},
   "source": [
    "The `index=False` parameter is used to prevent the index column getting saved with the rest of the data. Otherwise each time you load and save the file, Pandas will add an extra index column.\n",
    "\n",
    "Similar to the `to_csv()` method, you can output the data to a `JSON` file using the `to_json()` method.\n",
    "\n",
    "### Exporting a `DataFrame` to a Dictionary\n",
    "\n",
    "Another option is to export the `DataFrame` to a python `dict`, which can then be saved as anything that can support that data structure, such as a `YAML` or `pickle` file. This is achieved with the `to_dict()` method as follows:"
   ]
  },
  {
   "cell_type": "code",
   "execution_count": null,
   "metadata": {},
   "outputs": [],
   "source": [
    "sample_dict = example_df.to_dict()\n",
    "print(type(sample_dict))"
   ]
  },
  {
   "cell_type": "markdown",
   "metadata": {},
   "source": [
    "##  `DataFrame` Copies and Aliases\n",
    "\n",
    "> It is important to understand that in Pandas, when you assign a `DataFrame` to a new variable, you are creating an **alias**, not a **copy**. This means both variables refer to the same underlying data.\n",
    "\n",
    "In the code block below, you can see that if you assign a new variable name to a `DataFrame` and then change something in the new variable, you are changing the same underlying `DataFrame` as if you ran the manipulation on the old variable name. This is because both are **aliases** of the same object."
   ]
  },
  {
   "cell_type": "code",
   "execution_count": null,
   "metadata": {},
   "outputs": [
    {
     "name": "stdout",
     "output_type": "stream",
     "text": [
      "  Animal  Age\n",
      "0    Pig    2\n",
      "1    Cat    4\n",
      "2   Bird    1\n"
     ]
    }
   ],
   "source": [
    "# Create a simple DataFrame\n",
    "import pandas as pd\n",
    "my_dict = {'Animal': ['Dog', 'Cat', 'Bird'], 'Age': [2, 4, 1]}\n",
    "my_df = pd.DataFrame(my_dict)\n",
    "\n",
    "# Assign the DataFrame to a new variable, then change a value:\n",
    "new_df = my_df\n",
    "new_df.iloc[0, 0] = 'Pig'\n",
    "\n",
    "# Print the original DataFrame\n",
    "print(my_df)\n"
   ]
  },
  {
   "cell_type": "markdown",
   "metadata": {},
   "source": [
    "### Creating a Copy\n",
    "\n",
    "A new `DataFrame` is generated as the output to most operations you perform on your original `df` however. For example:"
   ]
  },
  {
   "cell_type": "code",
   "execution_count": null,
   "metadata": {},
   "outputs": [
    {
     "data": {
      "text/html": [
       "<div>\n",
       "<style scoped>\n",
       "    .dataframe tbody tr th:only-of-type {\n",
       "        vertical-align: middle;\n",
       "    }\n",
       "\n",
       "    .dataframe tbody tr th {\n",
       "        vertical-align: top;\n",
       "    }\n",
       "\n",
       "    .dataframe thead th {\n",
       "        text-align: right;\n",
       "    }\n",
       "</style>\n",
       "<table border=\"1\" class=\"dataframe\">\n",
       "  <thead>\n",
       "    <tr style=\"text-align: right;\">\n",
       "      <th></th>\n",
       "      <th>Animal</th>\n",
       "      <th>Age</th>\n",
       "    </tr>\n",
       "  </thead>\n",
       "  <tbody>\n",
       "    <tr>\n",
       "      <th>1</th>\n",
       "      <td>Cat</td>\n",
       "      <td>4</td>\n",
       "    </tr>\n",
       "    <tr>\n",
       "      <th>0</th>\n",
       "      <td>Pig</td>\n",
       "      <td>2</td>\n",
       "    </tr>\n",
       "    <tr>\n",
       "      <th>2</th>\n",
       "      <td>Bird</td>\n",
       "      <td>1</td>\n",
       "    </tr>\n",
       "  </tbody>\n",
       "</table>\n",
       "</div>"
      ],
      "text/plain": [
       "  Animal  Age\n",
       "1    Cat    4\n",
       "0    Pig    2\n",
       "2   Bird    1"
      ]
     },
     "metadata": {},
     "output_type": "display_data"
    }
   ],
   "source": [
    "my_new_df = my_df.sort_values(by='Age', ascending=False)\n",
    "my_new_df.head() # The new DataFrame has been re-sorted"
   ]
  },
  {
   "cell_type": "code",
   "execution_count": null,
   "metadata": {},
   "outputs": [
    {
     "data": {
      "text/html": [
       "<div>\n",
       "<style scoped>\n",
       "    .dataframe tbody tr th:only-of-type {\n",
       "        vertical-align: middle;\n",
       "    }\n",
       "\n",
       "    .dataframe tbody tr th {\n",
       "        vertical-align: top;\n",
       "    }\n",
       "\n",
       "    .dataframe thead th {\n",
       "        text-align: right;\n",
       "    }\n",
       "</style>\n",
       "<table border=\"1\" class=\"dataframe\">\n",
       "  <thead>\n",
       "    <tr style=\"text-align: right;\">\n",
       "      <th></th>\n",
       "      <th>Animal</th>\n",
       "      <th>Age</th>\n",
       "    </tr>\n",
       "  </thead>\n",
       "  <tbody>\n",
       "    <tr>\n",
       "      <th>0</th>\n",
       "      <td>Pig</td>\n",
       "      <td>2</td>\n",
       "    </tr>\n",
       "    <tr>\n",
       "      <th>1</th>\n",
       "      <td>Cat</td>\n",
       "      <td>4</td>\n",
       "    </tr>\n",
       "    <tr>\n",
       "      <th>2</th>\n",
       "      <td>Bird</td>\n",
       "      <td>1</td>\n",
       "    </tr>\n",
       "  </tbody>\n",
       "</table>\n",
       "</div>"
      ],
      "text/plain": [
       "  Animal  Age\n",
       "0    Pig    2\n",
       "1    Cat    4\n",
       "2   Bird    1"
      ]
     },
     "metadata": {},
     "output_type": "display_data"
    }
   ],
   "source": [
    "my_df.head() # The original DataFrame has not been changed"
   ]
  },
  {
   "cell_type": "markdown",
   "metadata": {},
   "source": [
    "You can also make an unchanged copy of the `DataFrame` using the `.copy()` method:"
   ]
  },
  {
   "cell_type": "code",
   "execution_count": null,
   "metadata": {},
   "outputs": [],
   "source": [
    "my_new_df = my_df.copy()"
   ]
  },
  {
   "cell_type": "markdown",
   "metadata": {},
   "source": [
    "### The `inplace` Parameter\n",
    "\n",
    "> For some `DataFrame` operations, it is possible to perform the change on the existing `DataFrame` without making an explicit assignment, by using the argument `inplace = True`. The parameter causes the associated method to modify the original `DataFrame` directly, rather than returning a new `DataFrame` with the applied changes. When set to True, the operation occurs in place and the original `DataFrame` is altered, thereby eliminating the need to assign the result to a new variable.\n",
    "\n",
    "Unfortunately, the implementation of this parameter is somewhat inconsistent across the library, so you might need to experiment, or refer to the documentation, to learn which methods will allow you to do this."
   ]
  },
  {
   "cell_type": "code",
   "execution_count": null,
   "metadata": {},
   "outputs": [
    {
     "data": {
      "text/html": [
       "<div>\n",
       "<style scoped>\n",
       "    .dataframe tbody tr th:only-of-type {\n",
       "        vertical-align: middle;\n",
       "    }\n",
       "\n",
       "    .dataframe tbody tr th {\n",
       "        vertical-align: top;\n",
       "    }\n",
       "\n",
       "    .dataframe thead th {\n",
       "        text-align: right;\n",
       "    }\n",
       "</style>\n",
       "<table border=\"1\" class=\"dataframe\">\n",
       "  <thead>\n",
       "    <tr style=\"text-align: right;\">\n",
       "      <th></th>\n",
       "      <th>Animal</th>\n",
       "    </tr>\n",
       "  </thead>\n",
       "  <tbody>\n",
       "    <tr>\n",
       "      <th>0</th>\n",
       "      <td>Pig</td>\n",
       "    </tr>\n",
       "    <tr>\n",
       "      <th>1</th>\n",
       "      <td>Cat</td>\n",
       "    </tr>\n",
       "    <tr>\n",
       "      <th>2</th>\n",
       "      <td>Bird</td>\n",
       "    </tr>\n",
       "  </tbody>\n",
       "</table>\n",
       "</div>"
      ],
      "text/plain": [
       "  Animal\n",
       "0    Pig\n",
       "1    Cat\n",
       "2   Bird"
      ]
     },
     "metadata": {},
     "output_type": "display_data"
    }
   ],
   "source": [
    "my_new_df.drop('Age', axis=1, inplace=True) # Drops the 'Age' column in-place\n",
    "my_new_df.head()"
   ]
  },
  {
   "cell_type": "markdown",
   "metadata": {},
   "source": [
    "## Key Takeaways\n",
    "\n",
    "- Pandas is a Python library for analysing and manipulating large tabular datasets\n",
    "- Use Pandas inside a Jupyter Notebook for EDA and data cleaning\n",
    "- A `DataFrame` is a 2D array-like table data structure\n",
    "- A `Series` is a 1-dimensional array in pandas that can hold any type of data\n",
    "- `Series` in pandas can be indexed like Python lists\n",
    "- Use `loc` for label-based indexing and `iloc` for position-based indexing\n",
    "- Pandas allows indexing or slicing of both rows and columns simultaneously using `loc` and `iloc`\n",
    "- Resetting the index of a `DataFrame` is useful after data manipulations like slicing or filtering\n",
    "- Pandas allows importing data from various sources like `CSV`, Excel, `JSON`, and SQL into a `DataFrame`\n",
    "- Pandas can read `CSV` files using pd.read_csv, with optional parameters to handle issues like different delimiters, missing headers, and encoding issues\n",
    "- The `pd.read_excel()` function reads Excel files, with options to specify sheet, header, index column, and specific columns\n",
    "- The `to_csv()`, `to_json()` and `to_dict()` methods can be used to export data from a `DataFrame`"
   ]
  }
 ],
 "metadata": {
  "language_info": {
   "name": "python"
  }
 },
 "nbformat": 4,
 "nbformat_minor": 2
}
