{
 "cells": [
  {
   "cell_type": "markdown",
   "metadata": {},
   "source": [
    "# Data Cleaning in Pandas"
   ]
  },
  {
   "cell_type": "markdown",
   "metadata": {},
   "source": [
    "## What method is used in Pandas to remove whitespace from the beginning and end of a string?\n",
    "\n",
    "- `.str.remove()`\n",
    "- `.str.trim()`\n",
    "- `.str.strip()` ***\n",
    "- `.str.delete()`"
   ]
  },
  {
   "cell_type": "markdown",
   "metadata": {},
   "source": [
    "## Which of the following methods standardizes all characters in a string to lowercase in Pandas?\n",
    "\n",
    "- `.str.upper()`\n",
    "- `.str.lower()` ***\n",
    "- `.str.standardize()`\n",
    "- `.str.normalize()`"
   ]
  },
  {
   "cell_type": "markdown",
   "metadata": {},
   "source": [
    "## True or False: The `.replace()` method in Pandas can only replace string values, not numeric values.\n",
    "\n",
    "- True\n",
    "- False ***"
   ]
  },
  {
   "cell_type": "markdown",
   "metadata": {},
   "source": [
    "## When using `groupby()` and `agg()` in Pandas, what is the primary purpose of the `agg()` function?\n",
    "\n",
    "- To split the data into groups based on some criteria\n",
    "- To filter out unwanted data after grouping\n",
    "- To apply an aggregation to the values of each group ***\n",
    "- To merge different `DataFrame`s based on a key"
   ]
  },
  {
   "cell_type": "markdown",
   "metadata": {},
   "source": [
    "## Which Pandas method is used to return the number of unique values in a series?\n",
    "\n",
    "- `.count()`\n",
    "- `.nunique()` ***\n",
    "- `.unique()`\n",
    "- `.distinct()`"
   ]
  },
  {
   "cell_type": "markdown",
   "metadata": {},
   "source": [
    "## What is the result of using `.duplicated()` method on a Pandas `DataFrame`?\n",
    "\n",
    "- It modifies the `DataFrame` to remove duplicated rows\n",
    "- It returns a `DataFrame` with only the duplicated rows\n",
    "- It returns a boolean series indicating whether each row is a duplicate or not ***\n",
    "- It replaces the duplicated rows with `NaN` values"
   ]
  },
  {
   "cell_type": "markdown",
   "metadata": {},
   "source": [
    "## In Pandas, what does the `cut()` function primarily accomplish?\n",
    "\n",
    "- It slices the `DataFrame` into smaller chunks based on index\n",
    "- It categorizes continuous data into discrete bins ***\n",
    "- It cuts out specific columns from the `DataFrame`\n",
    "- It segments a string in a Series into multiple parts"
   ]
  },
  {
   "cell_type": "markdown",
   "metadata": {},
   "source": [
    "## True or False: Regular expressions in Pandas can only be used for searching patterns, not for replacing or validating strings.\n",
    "\n",
    "- True\n",
    "- False ***"
   ]
  },
  {
   "cell_type": "markdown",
   "metadata": {},
   "source": [
    "## What is the outcome of using the `replace()` method with a dictionary in Pandas?\n",
    "\n",
    "- It renames the columns of the `DataFrame` based on the dictionary keys.\n",
    "- It replaces the index of the `DataFrame` with the dictionary values.\n",
    "- It replaces values in the `DataFrame` based on key-value pairs in the dictionary. ***\n",
    "- It creates a new `DataFrame` based on the dictionary structure."
   ]
  }
 ],
 "metadata": {
  "language_info": {
   "name": "python"
  }
 },
 "nbformat": 4,
 "nbformat_minor": 2
}
