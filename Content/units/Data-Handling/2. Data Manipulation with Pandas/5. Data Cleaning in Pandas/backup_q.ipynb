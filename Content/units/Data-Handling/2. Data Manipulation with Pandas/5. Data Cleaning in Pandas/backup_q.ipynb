{
 "cells": [
  {
   "attachments": {},
   "cell_type": "markdown",
   "metadata": {},
   "source": [
    "# Missing Data"
   ]
  },
  {
   "attachments": {},
   "cell_type": "markdown",
   "metadata": {},
   "source": [
    "## What method can be used in Pandas to check for missing data in a dataframe, and what is the output format of this method? Select all that apply.\n",
    "\n",
    "- `is_missing()`, which returns a boolean array indicating whether each element in the dataframe is missing or not\n",
    "- `unique()`, which returns a array indicating each unique value. This can point to other type of missing data besides `null` values ***\n",
    "- `isnull()`, which returns a boolean array indicating whether each element in the DataFrame is missing or not ***\n"
   ]
  },
  {
   "attachments": {},
   "cell_type": "markdown",
   "metadata": {},
   "source": [
    "## Which argument can be used with the `read_csv()` method in Pandas to replace `NaN` values while reading data into a dataframe?\n",
    "\n",
    "- `fill_nan`\n",
    "- `replace_nan`\n",
    "- `na_values` ***\n",
    "- `dropna`"
   ]
  },
  {
   "attachments": {},
   "cell_type": "markdown",
   "metadata": {},
   "source": [
    "## What method can be used to find the number of `null` values in each column of a Pandas dataframe?\n",
    "\n",
    "- `null_count()`\n",
    "- `count_null()`\n",
    "- `isnull()`\n",
    "- `isnull().sum()` ***"
   ]
  },
  {
   "attachments": {},
   "cell_type": "markdown",
   "metadata": {},
   "source": [
    "## Which command can be used to visualize missing data in a Pandas dataframe using the `Missingno` library?\n",
    "\n",
    "- `missing_data(df)`\n",
    "- `visualize_missing(df)`\n",
    "- `msno.matrix(df)` ***\n",
    "- `nan_plot(df)`"
   ]
  },
  {
   "attachments": {},
   "cell_type": "markdown",
   "metadata": {},
   "source": [
    "## Which of the following code snippets demonstrates the correct usage of the `fillna()` method in Pandas to replace `NaN` values with a specific value, say `0`? Select all that apply.\n",
    "\n",
    "- `df.fillna(0)` ***\n",
    "- `df.fillna(value=0)` ***\n",
    "- `df.fillna(method='0')`\n",
    "- `df.fillna(method='0')`"
   ]
  }
 ],
 "metadata": {
  "language_info": {
   "name": "python"
  },
  "orig_nbformat": 4
 },
 "nbformat": 4,
 "nbformat_minor": 2
}
