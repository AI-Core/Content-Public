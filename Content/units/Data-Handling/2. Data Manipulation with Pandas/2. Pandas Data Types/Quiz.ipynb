{
 "cells": [
  {
   "cell_type": "markdown",
   "metadata": {},
   "source": [
    "# Pandas Data Types\n"
   ]
  },
  {
   "cell_type": "markdown",
   "metadata": {},
   "source": [
    "## Which Pandas methods can be used to check the data type of each column in a `DataFrame`? Select all that apply.\n",
    "\n",
    "- `.data_type()`\n",
    "- `.info()` ***\n",
    "- `.describe()`\n",
    "- `.columns()`\n",
    "- `.dtypes` ***"
   ]
  },
  {
   "cell_type": "markdown",
   "metadata": {},
   "source": [
    "## What is the Pandas data type used for handling period data?\n",
    "\n",
    "- `timedelta64`***\n",
    "- `datetime64`\n",
    "- `object`\n",
    "- `period` "
   ]
  },
  {
   "cell_type": "markdown",
   "metadata": {},
   "source": [
    "## Which method in Pandas is used to manually assign a data type to a `DataFrame` column?\n",
    "\n",
    "- `.assign_type()`\n",
    "- `.set_dtype()`\n",
    "- `.astype()` ***\n",
    "- `.convert_type()`"
   ]
  },
  {
   "cell_type": "markdown",
   "metadata": {},
   "source": [
    "## What happens when you try to use `.astype()` to convert a column with non-numeric values (like `n/a`) to a numeric type like `float64`?\n",
    "\n",
    "- The non-numeric values are automatically converted to zeros\n",
    "- The non-numeric values are ignored and the rest of the column is converted\n",
    "- A `ValueError` is raised ***\n",
    "- The entire column is converted to a string type"
   ]
  },
  {
   "cell_type": "markdown",
   "metadata": {},
   "source": [
    "## True or False: When performing arithmetic operations between two `datetime64` objects in Pandas, the result is another `datetime64` object.\n",
    "\n",
    "- True\n",
    "- False ***"
   ]
  },
  {
   "cell_type": "markdown",
   "metadata": {},
   "source": [
    "## What does `pd.to_numeric()` do when the `errors` parameter is set to `coerce`?\n",
    "\n",
    "- Throws an error for any non-numeric values\n",
    "- Ignores non-numeric values and leaves them unchanged\n",
    "- Converts non-numeric values to `NaN` ***\n",
    "- Rounds off non-numeric values to the nearest number"
   ]
  },
  {
   "cell_type": "markdown",
   "metadata": {},
   "source": [
    "## Which function is used in Pandas to convert a column to `datetime64`, considering the date/time format for accuracy?\n",
    "\n",
    "- `.to_time()`\n",
    "- `pd.to_datetime()` ***\n",
    "- `.datetime()`\n",
    "- `pd.convert_dates()`"
   ]
  },
  {
   "cell_type": "markdown",
   "metadata": {},
   "source": [
    "## True or False: The `sparse` dtype in Pandas is used for data that is mostly missing, to save memory by only storing the non-missing values.\n",
    "\n",
    "- True ***\n",
    "- False"
   ]
  },
  {
   "cell_type": "markdown",
   "metadata": {},
   "source": [
    "## What is the primary purpose of the `timedelta64` data type in Pandas?\n",
    "\n",
    "- To represent specific points in time\n",
    "- To represent differences between two `datetime64` objects ***\n",
    "- To store time in a 24-hour format\n",
    "- To convert string data to time-related data"
   ]
  }
 ],
 "metadata": {
  "language_info": {
   "name": "python"
  }
 },
 "nbformat": 4,
 "nbformat_minor": 2
}
