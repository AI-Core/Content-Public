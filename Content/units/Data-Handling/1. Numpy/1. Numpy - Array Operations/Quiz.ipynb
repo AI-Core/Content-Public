{
 "cells": [
  {
   "attachments": {},
   "cell_type": "markdown",
   "metadata": {},
   "source": [
    "# Numpy - Array Operations"
   ]
  },
  {
   "attachments": {},
   "cell_type": "markdown",
   "metadata": {},
   "source": [
    "## What is the result of the following code snippet?\n",
    "\n",
    "``` python\n",
    "import numpy as np\n",
    "\n",
    "a = np.array([1, 2, 3])\n",
    "b = np.array([4, 5, 6])\n",
    "c = a + b * 2\n",
    "print(c)\n",
    "```\n",
    "\n",
    "- `[10 12 14]`\n",
    "- `[9 12 15]` ***\n",
    "- `[14 17 20]`\n",
    "- `[10 15 20]`"
   ]
  },
  {
   "attachments": {},
   "cell_type": "markdown",
   "metadata": {},
   "source": [
    "## Suppose you have two matrices `A` and `B`, with shapes `(2, 3)` and `(3, 4)` respectively. Which of the following operations is valid in Numpy?\n",
    "\n",
    "- `A + B`\n",
    "- `A - B`\n",
    "- `A * B`\n",
    "- `np.dot(A, B)` ***"
   ]
  },
  {
   "attachments": {},
   "cell_type": "markdown",
   "metadata": {},
   "source": [
    "## Given a Numpy array `arr = np.array([1, 2, 3, 4, 5])`, what is the value of `arr[3]`?\n",
    "\n",
    "- `1`\n",
    "- `2`\n",
    "- `3`\n",
    "- `4` ***"
   ]
  },
  {
   "attachments": {},
   "cell_type": "markdown",
   "metadata": {},
   "source": [
    "## Given a Numpy array `arr = np.array([[1, 2, 3], [4, 5, 6], [7, 8, 9]])`, what is the value of `arr[:, 0]`?\n",
    "\n",
    "- `[1, 2, 3]`\n",
    "- `[4, 5, 6]`\n",
    "- `[7, 8, 9]`\n",
    "- `[1, 4, 7]` ***"
   ]
  },
  {
   "attachments": {},
   "cell_type": "markdown",
   "metadata": {},
   "source": [
    "## Given a Numpy array `arr = np.array([[1, 2, 3], [4, 5, 6], [7, 8, 9], [10, 11, 12]])`, what is the value of `arr[2:, :]`?\n",
    "\n",
    "- `[[1, 2, 3]]`\n",
    "- `[[4, 5, 6], [7, 8, 9], [10, 11, 12]]`\n",
    "- `[[7, 8, 9], [10, 11, 12]]` ***\n",
    "- `[[1, 4, 7], [2, 5, 8], [3, 6, 9], [10, 11, 12]]`"
   ]
  },
  {
   "attachments": {},
   "cell_type": "markdown",
   "metadata": {},
   "source": [
    "## Given a Numpy array `arr = np.array([1, 2, 3, 4, 5])`, what is the value of `arr[-3:]`?\n",
    "\n",
    "- `[]`\n",
    "- `[1, 2, 3]`\n",
    "- `[3, 4, 5]` ***\n",
    "- `[2, 3, 4, 5]`"
   ]
  }
 ],
 "metadata": {
  "language_info": {
   "name": "python"
  },
  "orig_nbformat": 4
 },
 "nbformat": 4,
 "nbformat_minor": 2
}
