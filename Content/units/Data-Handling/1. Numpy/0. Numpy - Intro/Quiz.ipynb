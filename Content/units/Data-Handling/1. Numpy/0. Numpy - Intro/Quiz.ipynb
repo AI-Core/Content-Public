{
 "cells": [
  {
   "attachments": {},
   "cell_type": "markdown",
   "metadata": {},
   "source": [
    "# Numpy - Intro"
   ]
  },
  {
   "attachments": {},
   "cell_type": "markdown",
   "metadata": {},
   "source": [
    "## Which of the following statements best describes a Numpy `ndarray`?\n",
    "\n",
    "- It is a one-dimensional array that can only hold integer values\n",
    "- It is a multi-dimensional array that can hold any data type ***\n",
    "- It is a data structure used only for numerical calculations\n",
    "- It is a built-in function in Python for creating arrays"
   ]
  },
  {
   "attachments": {},
   "cell_type": "markdown",
   "metadata": {},
   "source": [
    "## Which of the following code snippets correctly generates a 2D Numpy `ndarray` of shape `(3,4)` with all elements initialized to `1`?\n",
    "\n",
    "- `np.zeros((3,4))`\n",
    "- `np.ones((3,4))` ***\n",
    "- `np.random.rand((3,4))`\n",
    "- `np.full((3,4), 1)`"
   ]
  },
  {
   "attachments": {},
   "cell_type": "markdown",
   "metadata": {},
   "source": [
    "## What is the purpose of the `astype()` method in Numpy arrays?\n",
    "\n",
    "- It is used to convert a Numpy array into a Python list\n",
    "- It is used to convert the data type of the elements in a Numpy array ***\n",
    "- It is used to transpose the dimensions of a Numpy array\n",
    "- It is used to reshape a Numpy array into a different shape"
   ]
  },
  {
   "attachments": {},
   "cell_type": "markdown",
   "metadata": {},
   "source": [
    "## Which of the following code snippets correctly generates a Numpy `ndarray` with values ranging from `0` to `9`, reshapes it into a 2D array of shape `(2,5)`, and assigns it to a variable `arr`?\n",
    "\n",
    "- `arr = np.reshape(np.arange(0,9), (2,5))`\n",
    "- `arr = np.reshape(np.arange(0,9), (5,2))`\n",
    "- `arr = np.reshape(np.arange(0,10), (2,5))` ***\n",
    "- `arr = np.reshape(np.arange(0,10), (5,2))`"
   ]
  },
  {
   "attachments": {},
   "cell_type": "markdown",
   "metadata": {},
   "source": [
    "## Which of the following code snippets correctly transposes a 2D Numpy `ndarray arr`?\n",
    "\n",
    "- `arr.transpose()`\n",
    "- `np.transpose(arr)`\n",
    "- `arr.T`\n",
    "-  All of the above ***"
   ]
  },
  {
   "attachments": {},
   "cell_type": "markdown",
   "metadata": {},
   "source": [
    "## Which of the following code snippets correctly creates a Numpy `ndarray` filled with `0` of shape `(3, 4)`?\n",
    "\n",
    "- `np.zeros((3, 4), 1)`\n",
    "- `np.zeros(3, 4)`\n",
    "- `np.zeros((3, 4))` ***\n",
    "- `np.zeros((4, 3))`"
   ]
  },
  {
   "attachments": {},
   "cell_type": "markdown",
   "metadata": {},
   "source": [
    "## Which of the following code snippets correctly creates a Numpy `ndarray` filled with random numbers drawn from a standard normal distribution of shape `(2, 3)`?\n",
    "\n",
    "- `np.random.randn(2, 3)` ***\n",
    "- `np.random.rand(3, 2)`\n",
    "- `np.random.normal(2, 3)`\n",
    "- `np.random.standard_normal(2, 3)`"
   ]
  },
  {
   "attachments": {},
   "cell_type": "markdown",
   "metadata": {},
   "source": [
    "## Which of the following code snippets correctly changes the shape of a Numpy `ndarray arr` of shape `(4, 3)` to `(3, 4)`?\n",
    "\n",
    "- `arr.reshape(4, 3)`\n",
    "- `arr.reshape((3, 4))` ***\n",
    "- `arr.resize((3, 4))`\n",
    "- `arr.resize(3, 4)`"
   ]
  }
 ],
 "metadata": {
  "language_info": {
   "name": "python"
  },
  "orig_nbformat": 4
 },
 "nbformat": 4,
 "nbformat_minor": 2
}
