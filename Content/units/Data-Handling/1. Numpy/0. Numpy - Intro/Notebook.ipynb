{
 "cells": [
  {
   "cell_type": "markdown",
   "id": "c4d9f0e6",
   "metadata": {},
   "source": [
    "# Numpy\n"
   ]
  },
  {
   "cell_type": "markdown",
   "id": "64a6737d",
   "metadata": {},
   "source": [
    "> <font size=+1>Numpy is a scientific standard for handling multidimensional data in Python</font>\n",
    "\n",
    "__This is one of the most if not the most important library for Python__, because:\n",
    "- It is a core of many scientific stacks:\n",
    "    - Underlying library for __Pandas__ (we will learn about it later)\n",
    "    - API parity (or similarity) with __PyTorch__ or __Tensorflow__, two of the main Deep Learning libraries for Python\n",
    "    - Many third party libraries implement ideas we will see here, such as dimensionality\n",
    "    \n",
    "Its popularity could be attributed to a few key traits:\n",
    "- Ease of use\n",
    "- Efficiency: Numpy is built on top of C (Python acts as a front-end)\n",
    "- Intuitive syntax\n",
    "- It \"just works\" as you'd expect (and would like it to)\n"
   ]
  },
  {
   "cell_type": "markdown",
   "id": "bf6107d2",
   "metadata": {},
   "source": [
    "## Installation\n"
   ]
  },
  {
   "cell_type": "markdown",
   "id": "e3b5de31",
   "metadata": {},
   "source": [
    "We can install Numpy really easily via `pip` or `conda` (available in the main `conda` channel) via:\n",
    "\n",
    "```bash\n",
    "pip install numpy\n",
    "```\n",
    "\n",
    "```\n",
    "conda install numpy\n",
    "```"
   ]
  },
  {
   "cell_type": "code",
   "execution_count": 2,
   "id": "bd7da0f0",
   "metadata": {},
   "outputs": [
    {
     "name": "stdout",
     "output_type": "stream",
     "text": [
      "Requirement already satisfied: numpy in /Library/Frameworks/Python.framework/Versions/3.9/lib/python3.9/site-packages (1.22.2)\n",
      "\u001b[33mWARNING: You are using pip version 21.2.1; however, version 22.0.3 is available.\n",
      "You should consider upgrading via the '/Library/Frameworks/Python.framework/Versions/3.9/bin/python3.9 -m pip install --upgrade pip' command.\u001b[0m\n"
     ]
    }
   ],
   "source": [
    "!pip install numpy"
   ]
  },
  {
   "cell_type": "markdown",
   "id": "beba850e",
   "metadata": {},
   "source": [
    "Once installed, the canonical way to import it in Python is giving it the alias `np`, so it will look like:"
   ]
  },
  {
   "cell_type": "markdown",
   "id": "f9bd1e7b",
   "metadata": {},
   "source": [
    "`import numpy as np`"
   ]
  },
  {
   "cell_type": "markdown",
   "id": "01d2c7d1",
   "metadata": {},
   "source": [
    "Let's take a look at the some of the most common elements you will find in Numpy"
   ]
  },
  {
   "cell_type": "markdown",
   "id": "b42a8d60",
   "metadata": {},
   "source": [
    "## np.ndarray\n"
   ]
  },
  {
   "cell_type": "markdown",
   "id": "6a0aadc8",
   "metadata": {},
   "source": [
    "> <font size=+1>`np.ndarray` is highly-efficient data abstraction written in C with Python's bindings for easier usage</font>\n",
    "\n",
    "Important traits about `np.ndarray`:\n",
    "- Can have arbitrary number of dimensions\n",
    "- Single `dtype`__ (type of data), usually numeric, for example:\n",
    "    - `float32` (a.k.a. `float`)\n",
    "    - `float64` (a.k.a. `double`); __default__\n",
    "    - `int32` (a.k.a. `int`)\n",
    "- __Has to be \"rectangle-like\"__:\n",
    "    - We cannot have `3` lists of different sizes in a single `np.ndarray`"
   ]
  },
  {
   "cell_type": "markdown",
   "id": "244ddb3e",
   "metadata": {},
   "source": [
    "You can generate ndarrays using this method. However, it might not be very intuitive at the beginning, since we need to pass the dimension of the matrix we want to generate, and `ndarray` will populate it with random numbers"
   ]
  },
  {
   "cell_type": "code",
   "execution_count": 1,
   "id": "967b4109",
   "metadata": {},
   "outputs": [
    {
     "name": "stdout",
     "output_type": "stream",
     "text": [
      "[[-1.49166815e-154 -2.68678217e+154]\n",
      " [ 9.88131292e-324  2.78134232e-309]]\n"
     ]
    }
   ],
   "source": [
    "import numpy as np\n",
    "\n",
    "nd_array1 = np.ndarray((2, 2))\n",
    "print(nd_array1)"
   ]
  },
  {
   "cell_type": "markdown",
   "id": "c8f16a79",
   "metadata": {},
   "source": [
    "To create `ndarrays` out of an object we already have, for example, a list, we can use the `array` method"
   ]
  },
  {
   "cell_type": "markdown",
   "id": "9687cd71",
   "metadata": {},
   "source": [
    "\n",
    "### np.array vs np.ndarray\n"
   ]
  },
  {
   "cell_type": "markdown",
   "id": "0f09c148",
   "metadata": {},
   "source": [
    "> __`np.array` IS A FACTORY METHOD which creates `np.ndarray` (numpy N-dimensional array) objects__\n",
    "\n",
    "What is a factory method?\n",
    "\n",
    "> Factory methods are methods which, dependent on the input we pass to it __returns different object types__\n",
    "\n",
    "Let's see:\n",
    "- How to create `np.ndarray` object from Python's objects (`list` and `tuple`)\n",
    "- How the type is inferred based on content\n",
    "- Uniform presentation of arrays on Python level (`type(array)`)\n",
    "\n",
    "> __You should always use `np.array` in order to create an array because it infers `dtype` correctly!__"
   ]
  },
  {
   "cell_type": "code",
   "execution_count": 2,
   "id": "45f1635e",
   "metadata": {},
   "outputs": [
    {
     "name": "stdout",
     "output_type": "stream",
     "text": [
      "[1 2 3 4]\n",
      "[[1. 2. 3. 4.]\n",
      " [5. 6. 7. 8.]]\n"
     ]
    },
    {
     "data": {
      "text/plain": [
       "(dtype('int64'), numpy.ndarray, dtype('float64'), numpy.ndarray)"
      ]
     },
     "execution_count": 2,
     "metadata": {},
     "output_type": "execute_result"
    }
   ],
   "source": [
    "import numpy as np  # always use this alias!\n",
    "\n",
    "# Defining arrays\n",
    "arr1d_int = np.array([1, 2, 3, 4])\n",
    "arr2d_float = np.array(((1, 2, 3, 4), (5, 6, 7, 8.0)))  # Notice 8.0\n",
    "\n",
    "print(arr1d_int)\n",
    "print(arr2d_float)\n",
    "arr1d_int.dtype, type(arr1d_int), arr2d_float.dtype, type(arr2d_float)"
   ]
  },
  {
   "cell_type": "markdown",
   "id": "b99f9a9d",
   "metadata": {},
   "source": [
    "Notice that, just by adding a float to the array, the whole array now contains solely floats."
   ]
  },
  {
   "cell_type": "markdown",
   "id": "cc265e4e",
   "metadata": {},
   "source": [
    "### Changing data type\n"
   ]
  },
  {
   "cell_type": "markdown",
   "id": "c87cb62e",
   "metadata": {},
   "source": [
    "Sometimes, we may find the need to use a data type different from the one automatically inferred by NumPy. There are two fundamental approaches to achieve this:\n",
    "\n",
    "1. Specifying During Creation\n",
    "\n",
    "   - You can explicitly specify the desired data type when creating a NumPy array. This allows you to control the type of data stored in the array from the outset.\n",
    "\n",
    "2. Casting via `.astype`\n",
    "\n",
    "    - Another method involves casting, which is the process of converting the data type of an existing array. This is done using the `.astype` method. It's crucial to note that casting results in the creation of a new array, and it is not performed in-place. The creation of a new array is necessary due to the potential differences in size and structure between the original and desired data types.\n",
    "\n",
    "Now, let's see casting process:"
   ]
  },
  {
   "cell_type": "code",
   "execution_count": 3,
   "id": "c556c4f0",
   "metadata": {},
   "outputs": [
    {
     "name": "stdout",
     "output_type": "stream",
     "text": [
      "int64\n"
     ]
    },
    {
     "data": {
      "text/plain": [
       "dtype('int8')"
      ]
     },
     "execution_count": 3,
     "metadata": {},
     "output_type": "execute_result"
    }
   ],
   "source": [
    "# Failed attempt, new array returned \n",
    "arr1d_int.astype(\"int8\")\n",
    "print(arr1d_int.dtype)\n",
    "\n",
    "# Correct way, new object is assigned to itself\n",
    "arr1d_int = arr1d_int.astype(\"int8\")\n",
    "\n",
    "arr1d_int.dtype"
   ]
  },
  {
   "cell_type": "code",
   "execution_count": 4,
   "id": "b1c74fd4",
   "metadata": {},
   "outputs": [],
   "source": [
    "# We can also specify it as `np.TYPE` object\n",
    "new_arr = np.array([1, 2, 3], dtype=np.int8) # or \"int8\" string"
   ]
  },
  {
   "cell_type": "markdown",
   "id": "04ec0349",
   "metadata": {},
   "source": [
    "## Data layout\n",
    "\n",
    "> __`np.ndarray` is kept in memory as `1D` array of contiguous values__\n",
    "\n",
    "If so, how can we have, for example, `3D` array? Numpy has everything stored in a \"single line\", but it has an attribute called _stride_ that helps to know how the data is distributed.\n",
    "\n",
    "### strides\n",
    "\n",
    "> __Strides define HOW MANY BYTES one need to traverse in order to get next element for each dimension__\n",
    "\n",
    "<p align=center><img src=images/numpy_memory_layout.png width=600></p>\n",
    "\n",
    "<p align=center><img src=images/numpy_strides.svg width=600></p>\n",
    "\n",
    "Let's see what these are for our two arrays:"
   ]
  },
  {
   "cell_type": "code",
   "execution_count": 5,
   "id": "78309c95",
   "metadata": {},
   "outputs": [
    {
     "name": "stdout",
     "output_type": "stream",
     "text": [
      "Int1D itemsize: 1\n",
      "Int1D strides: (1,)\n",
      "Float2D itemsize: 8\n",
      "Float2D strides: (32, 8)\n",
      "    \n"
     ]
    }
   ],
   "source": [
    "print(\n",
    "    f\"\"\"Int1D itemsize: {arr1d_int.itemsize}\n",
    "Int1D strides: {arr1d_int.strides}\n",
    "Float2D itemsize: {arr2d_float.itemsize}\n",
    "Float2D strides: {arr2d_float.strides}\n",
    "    \"\"\"\n",
    ")"
   ]
  },
  {
   "cell_type": "markdown",
   "id": "3031ef49",
   "metadata": {},
   "source": [
    "- `itemsize` - specifies how many bytes are used for the data type\n",
    "- `stride` - specifies how many bytes we have to jump in order to move to the next element"
   ]
  },
  {
   "cell_type": "code",
   "execution_count": 6,
   "id": "7df355d2",
   "metadata": {},
   "outputs": [
    {
     "name": "stdout",
     "output_type": "stream",
     "text": [
      "[[0 1 2]\n",
      " [3 4 5]\n",
      " [6 7 8]]\n",
      "The data type of each element is: int64\n",
      "The length of each element in bytes is: 8\n",
      "The strides of the data types is: (24, 8)\n"
     ]
    }
   ],
   "source": [
    "# Explain values below based on the code and output\n",
    "\n",
    "arr = np.arange(9).reshape(3, 3)\n",
    "\n",
    "print(arr)\n",
    "print(f'The data type of each element is: {arr.dtype}')\n",
    "print(f'The length of each element in bytes is: {arr.itemsize}')\n",
    "print(f'The strides of the data types is: {arr.strides}')"
   ]
  },
  {
   "cell_type": "markdown",
   "id": "194c2075",
   "metadata": {},
   "source": [
    "Makes sense right? The second element in the tuple is the amount of bytes we need to \"move to the right\" and the first element is the number of bytes we need to \"move to the next row\""
   ]
  },
  {
   "cell_type": "markdown",
   "id": "d6b72372",
   "metadata": {},
   "source": [
    "We can also transposed our array, let's see how this changes our strides\n",
    "\n",
    "<p align=center><img src=images/numpy_strides_transposed.svg width=600></p>\n",
    "\n",
    "__Take note that__:\n",
    "- Our internal data was \"moved\" around\n",
    "- __Why would we need it, wouldn't change in strides suffice?__"
   ]
  },
  {
   "cell_type": "code",
   "execution_count": 7,
   "id": "967ce622",
   "metadata": {},
   "outputs": [
    {
     "name": "stdout",
     "output_type": "stream",
     "text": [
      "[[0 3 6]\n",
      " [1 4 7]\n",
      " [2 5 8]]\n"
     ]
    },
    {
     "data": {
      "text/plain": [
       "(8, 24)"
      ]
     },
     "execution_count": 7,
     "metadata": {},
     "output_type": "execute_result"
    }
   ],
   "source": [
    "transposed = arr.T\n",
    "\n",
    "print(transposed)\n",
    "transposed.strides"
   ]
  },
  {
   "cell_type": "markdown",
   "id": "58136058",
   "metadata": {},
   "source": [
    "## shape\n"
   ]
  },
  {
   "cell_type": "markdown",
   "id": "aa64fef0",
   "metadata": {},
   "source": [
    "> `<our_array>.shape` returns dimensionality of `<our_array>`\n",
    "\n",
    "It is one of the most often used attributes in `numpy` and scientific computing so keep that in mind!\n"
   ]
  },
  {
   "cell_type": "markdown",
   "id": "93226b1d",
   "metadata": {},
   "source": [
    "## Creating `np.ndarray`s\n"
   ]
  },
  {
   "cell_type": "markdown",
   "id": "caa429dd",
   "metadata": {},
   "source": [
    "Numpy allows us to easily create data in multiple ways, namely:\n",
    "- __From standard Python structures (`list`s or `tuple`s)__ (possibly nested)\n",
    "- __Direct creation of `np.ndarray`__ via:\n",
    "    - random operations (elements are taken from some distribution)\n",
    "    - using single value (zeros, ones, `eye` with some value)\n",
    "    \n",
    "Let's see a few creation operations (__all of them are listed [here](https://numpy.org/doc/stable/reference/routines.array-creation.html)__). Usually, the arguments we pass to them is the dimensions we want to give to the matrix"
   ]
  },
  {
   "cell_type": "code",
   "execution_count": 21,
   "id": "f77e2038",
   "metadata": {},
   "outputs": [
    {
     "name": "stdout",
     "output_type": "stream",
     "text": [
      "[[1. 1.]\n",
      " [1. 1.]\n",
      " [1. 1.]]\n",
      "Shape of \"one\" is: (3, 2)\n",
      "[[0. 0.]\n",
      " [0. 0.]\n",
      " [0. 0.]]\n",
      "Shape of \"zeros\" is: (3, 2)\n",
      "[[1. 0. 0.]\n",
      " [0. 1. 0.]\n",
      " [0. 0. 1.]]\n",
      "Shape of \"identity\" is: (3, 3)\n"
     ]
    }
   ],
   "source": [
    "ones = np.ones((3, 2)) # 2D matrix filled with ones\n",
    "zeros = np.zeros_like(ones) # 2D zero matrix filled with zeros of the same shape as ones and zeros\n",
    "identity = np.eye(3)\n",
    "\n",
    "print(ones)\n",
    "print(f'Shape of \"one\" is: {ones.shape}')\n",
    "print(zeros)\n",
    "print(f'Shape of \"zeros\" is: {zeros.shape}')\n",
    "print(identity)\n",
    "print(f'Shape of \"identity\" is: {identity.shape}')\n"
   ]
  },
  {
   "cell_type": "markdown",
   "id": "1c607da0",
   "metadata": {},
   "source": [
    "## Creating random np.array\n"
   ]
  },
  {
   "cell_type": "markdown",
   "id": "4c3b4387",
   "metadata": {},
   "source": [
    "> `numpy` provides means to create random arrays (for example defined by some distribution)\n",
    "\n",
    "[Here](https://numpy.org/doc/stable/reference/random/index.html) you can see a full list of possibilities,\n",
    "__all of them are located in `random` module__.\n",
    "\n",
    "Example usage:"
   ]
  },
  {
   "cell_type": "code",
   "execution_count": 54,
   "id": "5985d890",
   "metadata": {},
   "outputs": [
    {
     "data": {
      "text/plain": [
       "array([-0.24254289,  0.7083943 , -0.33446633,  0.42426222, -1.99369232,\n",
       "        0.80625689, -0.54320899,  2.36829641, -0.20734505, -0.59212398])"
      ]
     },
     "execution_count": 54,
     "metadata": {},
     "output_type": "execute_result"
    }
   ],
   "source": [
    "vals = np.random.standard_normal(10)\n",
    "\n",
    "vals"
   ]
  },
  {
   "cell_type": "code",
   "execution_count": 58,
   "id": "5b630898",
   "metadata": {},
   "outputs": [
    {
     "data": {
      "text/plain": [
       "array([[-0.74751218,  0.09683241,  0.48627724, -0.60063956],\n",
       "       [ 1.47518089,  2.11843449, -1.02584517,  0.19524806],\n",
       "       [ 1.11244104, -0.59861959,  0.61149984,  0.67560329]])"
      ]
     },
     "execution_count": 58,
     "metadata": {},
     "output_type": "execute_result"
    }
   ],
   "source": [
    "# Random NORMAL distribution (mean: 0 and stddev: 1)\n",
    "vals = np.random.randn(3, 4)\n",
    "\n",
    "vals"
   ]
  },
  {
   "cell_type": "code",
   "execution_count": 59,
   "id": "490b9690",
   "metadata": {},
   "outputs": [
    {
     "data": {
      "text/plain": [
       "array([[0.98468015, 0.37304705, 0.53834982, 0.33175601],\n",
       "       [0.3772029 , 0.5516284 , 0.16610994, 0.2366541 ],\n",
       "       [0.50624113, 0.64051987, 0.27737038, 0.32808795]])"
      ]
     },
     "execution_count": 59,
     "metadata": {},
     "output_type": "execute_result"
    }
   ],
   "source": [
    "# Random UNIFORM distribution (0, 1 range)\n",
    "vals = np.random.rand(3, 4)\n",
    "\n",
    "vals"
   ]
  },
  {
   "cell_type": "markdown",
   "id": "1f39bbc6",
   "metadata": {},
   "source": [
    "# Key Takeaways\n",
    "\n",
    "- Numpy is one of the most important and useful Python libraries\n",
    "- NumPy allows performing various mathematical operations on arrays easily \n",
    "- `ndarray` is a highly efficient data abstraction used by Python to store and manipulate data in array structures\n",
    "- `shape` returns the dimensionality of an array\n",
    "- `stride` helps to know how the data is distributed in a Python array\n",
    "- Numpy provides different ways to slice the arrays to get the data we need"
   ]
  }
 ],
 "metadata": {
  "interpreter": {
   "hash": "ad8bebc098a042dc0df4e42fc2ecc8fff0bd7b8741641ce29007c29766dadbe0"
  },
  "kernelspec": {
   "display_name": "Python 3.9.1 64-bit ('base': conda)",
   "name": "python3"
  },
  "language_info": {
   "codemirror_mode": {
    "name": "ipython",
    "version": 3
   },
   "file_extension": ".py",
   "mimetype": "text/x-python",
   "name": "python",
   "nbconvert_exporter": "python",
   "pygments_lexer": "ipython3",
   "version": "3.9.5"
  }
 },
 "nbformat": 4,
 "nbformat_minor": 5
}
