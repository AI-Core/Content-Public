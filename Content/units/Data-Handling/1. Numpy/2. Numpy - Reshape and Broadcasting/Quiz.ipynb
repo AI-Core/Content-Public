{
 "cells": [
  {
   "attachments": {},
   "cell_type": "markdown",
   "metadata": {},
   "source": [
    "# Numpy - Reshape and Broadcasting"
   ]
  },
  {
   "attachments": {},
   "cell_type": "markdown",
   "metadata": {},
   "source": [
    "## What is the difference between a view and a copy in Numpy?\n",
    "\n",
    "-  A view is a new array object that shares the same data with the original array, while a copy creates a new array object with its own data ***\n",
    "- A view creates a new array object with its own data, while a copy is a new array object that shares the same data with the original array\n",
    "- A view modifies the original array in place, while a copy leaves the original array unchanged\n",
    "- There is no difference between a view and a copy in Numpy"
   ]
  },
  {
   "attachments": {},
   "cell_type": "markdown",
   "metadata": {},
   "source": [
    "## What does using `-1` as one of the dimensions in Numpy's `reshape` function do?\n",
    "\n",
    "- It automatically computes the missing dimension based on the total size of the array and the other specified dimensions ***\n",
    "- It creates a new array object that has only one dimension\n",
    "- It transposes the array by reversing its axes\n",
    "- It flattens the array into a one-dimensional array"
   ]
  },
  {
   "attachments": {},
   "cell_type": "markdown",
   "metadata": {},
   "source": [
    "## What is broadcasting in Numpy?\n",
    "\n",
    "- Broadcasting is a set of rules that allow NumPy to perform element-wise operations on arrays with different shapes and sizes ***\n",
    "- Broadcasting is a technique for flattening multi-dimensional arrays into one-dimensional arrays\n",
    "- Broadcasting is a method for creating new arrays that share the same data buffer with the original arrays\n",
    "- Broadcasting is a way to concatenate arrays along a specified axis\n"
   ]
  },
  {
   "attachments": {},
   "cell_type": "markdown",
   "metadata": {},
   "source": [
    "## What are the prerequisites for broadcasting in Numpy?\n",
    "\n",
    "- The arrays must have the same number of dimensions or one of them must have a dimension of size 1 ***\n",
    "- The arrays must have the same shape\n",
    "- The arrays must be created with the same data type\n",
    "- The arrays must have the same size"
   ]
  },
  {
   "attachments": {},
   "cell_type": "markdown",
   "metadata": {},
   "source": [
    "## Which of the following code snippets will result in a broadcast error in Numpy?\n",
    "\n",
    "- This code\n",
    "``` python\n",
    "import numpy as np\n",
    "\n",
    "x = np.array([1, 2, 3])\n",
    "y = np.array([4, 5, 6])\n",
    "\n",
    "z = x + y\n",
    "print(z)\n",
    "```\n",
    "\n",
    "- This code\n",
    "``` python\n",
    "import numpy as np\n",
    "\n",
    "x = np.array([[1, 2], [3, 4]])\n",
    "y = np.array([5, 6])\n",
    "\n",
    "z = x + y\n",
    "print(z)\n",
    "```\n",
    "\n",
    "- This code\n",
    "``` python \n",
    "import numpy as np\n",
    "\n",
    "x = np.array([[1, 2], [3, 4]])\n",
    "y = np.array([[5], [6]])\n",
    "\n",
    "z = x + y\n",
    "print(z)\n",
    "```\n",
    "\n",
    "- This code ***\n",
    "``` python\n",
    "import numpy as np\n",
    "\n",
    "x = np.array([1, 2, 3])\n",
    "y = np.array([[4, 5, 6]])\n",
    "\n",
    "z = x + y\n",
    "print(z)\n",
    "\n",
    "```"
   ]
  },
  {
   "attachments": {},
   "cell_type": "markdown",
   "metadata": {},
   "source": [
    "## Which of the following code snippets will result in a successful broadcast in Numpy?\n",
    "\n",
    "- This code ***\n",
    "```python\n",
    "import numpy as np\n",
    "\n",
    "x = np.array([[1, 2, 3], [4, 5, 6]])\n",
    "y = np.array([[1], [2], [3]])\n",
    "\n",
    "z = x + y\n",
    "print(z)\n",
    "\n",
    "```\n",
    "\n",
    "- This code\n",
    "``` python\n",
    "import numpy as np\n",
    "\n",
    "x = np.array([[1], [2], [3]])\n",
    "y = np.array([4, 5, 6])\n",
    "\n",
    "z = x * y\n",
    "print(z)\n",
    "\n",
    "```\n",
    "\n",
    "- This code\n",
    "``` python\n",
    "import numpy as np\n",
    "\n",
    "x = np.array([[1], [2], [3]])\n",
    "y = np.array([4, 5, 6])\n",
    "\n",
    "z = x * y\n",
    "print(z)\n",
    "\n",
    "```\n",
    "\n",
    "- This code\n",
    "``` python\n",
    "import numpy as np\n",
    "\n",
    "x = np.array([[1, 2], [3, 4], [5, 6]])\n",
    "y = np.array([1, 2])\n",
    "\n",
    "z = x - y\n",
    "print(z)\n",
    "\n",
    "```\n"
   ]
  }
 ],
 "metadata": {
  "language_info": {
   "name": "python"
  },
  "orig_nbformat": 4
 },
 "nbformat": 4,
 "nbformat_minor": 2
}
