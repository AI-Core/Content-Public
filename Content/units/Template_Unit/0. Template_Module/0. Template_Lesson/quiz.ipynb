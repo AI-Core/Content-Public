{
 "cells": [
  {
   "attachments": {},
   "cell_type": "markdown",
   "metadata": {},
   "source": [
    "# Title"
   ]
  },
  {
   "attachments": {},
   "cell_type": "markdown",
   "metadata": {},
   "source": [
    "\n",
    "## Creating a quiz\n",
    "\n",
    "You can create a new quiz by creating a new notebook in the same folder as the lesson using the `quiz.ipynb` name or the `Quiz.ipynb` name.\n",
    "\n",
    "The quiz will be automatically linked to the lesson.\n",
    "\n",
    "The quiz needs to have a title with an h1 header, so it starts with a `#`.\n",
    "\n",
    "Each quiz contains at least one question and each question contains at least two answers.\n"
   ]
  },
  {
   "cell_type": "markdown",
   "metadata": {},
   "source": [
    "\n",
    "\n",
    "## Questions:\n",
    "\n",
    "\n",
    "For clarity purposes, the title should be the same as the name of the lesson.\n",
    "\n",
    "Each question will start with a `##` header, so you can add as many cells prior to the first question, or between questions, as you want.\n",
    "\n",
    "__Remember that if a question doesn't start with a `##` header, it won't be considered a question and will be ignored.__\n",
    "\n",
    "__The `##` header has to be the first characters in the cell. For example, in this current cell, there is a new line before `##`, so it's not considered as a question__"
   ]
  },
  {
   "attachments": {},
   "cell_type": "markdown",
   "metadata": {},
   "source": [
    "\n",
    "## Answers:\n",
    "\n",
    "Then, each question needs its answers. The answers need to be in the same cell as the question, and they need to be in a list. So, you need to add a hyphen `-` before each answer, and a space after it.\n",
    "\n",
    "For now, questions are only Multiple Choice, so you need to add the correct answer with three `*` after it. __Each question must have at least one correct answer__.\n",
    "\n",
    "Here's one example of a question with its answers:"
   ]
  },
  {
   "attachments": {},
   "cell_type": "markdown",
   "metadata": {},
   "source": [
    "## Here goes the question\n",
    "\n",
    "- This answer is wrong\n",
    "    \n",
    "- This answer is correct ***\n",
    "    \n",
    "- This answer is wrong\n",
    "    \n",
    "- This answer is wrong"
   ]
  },
  {
   "attachments": {},
   "cell_type": "markdown",
   "metadata": {},
   "source": [
    "---\n",
    "## Images\n",
    "\n",
    "You can attach images to each question and/or answer.\n",
    "\n",
    "The image can be anywhere in the repo as long as you provide the path to it. For simplicity reasons, I recommend you to create a folder called `quiz_images` in the same folder as the notebook, and add the images there.\n",
    "\n",
    "For questions, you can add an image using the following syntax right below the question:\n",
    "\n",
    "`image: ![](image.png)`\n",
    "\n",
    "For example"
   ]
  },
  {
   "attachments": {},
   "cell_type": "markdown",
   "metadata": {},
   "source": [
    "## How would you define this cat?\n",
    "\n",
    "image: ![](quiz_images/super_cute_cat.png)\n",
    "\n",
    "- The cutest cat in the world ***\n",
    "    \n",
    "- The most beautiful cat in the world ***\n",
    "    \n",
    "- The most handsome cat in the world ***\n",
    "    \n",
    "- The ugliest cat in the world"
   ]
  },
  {
   "attachments": {},
   "cell_type": "markdown",
   "metadata": {},
   "source": [
    "--- \n",
    "### Resizing images\n",
    "\n",
    "The image above is too large, so alternatively, you can use HTML to resize it:\n",
    "\n",
    "`image: <img src=\"image.png\" width=\"200\">`"
   ]
  },
  {
   "attachments": {},
   "cell_type": "markdown",
   "metadata": {},
   "source": [
    "## How would you define this cat?\n",
    "\n",
    "image: <img src=\"quiz_images/super_cute_cat.png\" width=\"200\">\n",
    "\n",
    "- The cutest cat in the world ***\n",
    "    \n",
    "- The most beautiful cat in the world ***\n",
    "    \n",
    "- The most handsome cat in the world ***\n",
    "    \n",
    "- The ugliest cat in the world"
   ]
  },
  {
   "attachments": {},
   "cell_type": "markdown",
   "metadata": {},
   "source": [
    "---\n",
    "\n",
    "## Answers with images\n",
    "\n",
    "You can also add images to the answers. For example, if you want to add an image to an answer, you can do it like this:\n",
    "\n",
    "```\n",
    "- This answer is wrong\n",
    "\n",
    "image: ![](image.png) (or <img src=\"image.png\" width=\"200\">)\n",
    "\n",
    "- This answer is correct ***\n",
    "\n",
    "image: ![](image.png) (or <img src=\"image.png\" width=\"200\">)\n",
    "```\n",
    "\n",
    "For example"
   ]
  },
  {
   "attachments": {},
   "cell_type": "markdown",
   "metadata": {},
   "source": [
    "## Which cat is the cutest?\n",
    "\n",
    "- This one ***\n",
    "\n",
    "image: <img src=\"quiz_images/super_cute_cat.png\" width=\"200\">\n",
    "\n",
    "- This one\n",
    "\n",
    "image: <img src=\"quiz_images/Lizard.png\" width=\"200\">"
   ]
  },
  {
   "attachments": {},
   "cell_type": "markdown",
   "metadata": {},
   "source": [
    "---\n",
    "\n",
    "## Adding an explanation to the question\n",
    "\n",
    "You can add different explanations to the question, and each one will be shown based on whether the answer is correct or not.\n",
    "\n",
    "For now, you can add two explanations: one for correct answers, and one for wrong answers. \n",
    "\n",
    "For explanations given when the answer is correct, you need to add a `right_explanation` key, and for explanations given when the answer is wrong, you need to add a `wrong_explanation` key.\n",
    "\n",
    "Each explanation will start with a `>` character, and they can be placed anywhere in the cell, but for clarity purposes, I recommend you to place them right after the question and its answers."
   ]
  },
  {
   "attachments": {},
   "cell_type": "markdown",
   "metadata": {},
   "source": [
    "## Which cat is the cutest?\n",
    "\n",
    "- This one ***\n",
    "\n",
    "image: <img src=\"quiz_images/super_cute_cat.png\" width=\"200\">\n",
    "\n",
    "- This one\n",
    "\n",
    "image: <img src=\"quiz_images/Lizard.png\" width=\"200\">\n",
    "\n",
    "> right_explanation: I mean, come on, it's the cutest cat in the world!\n",
    "\n",
    "> wrong_explanation: This is just a lizard!"
   ]
  },
  {
   "attachments": {},
   "cell_type": "markdown",
   "metadata": {},
   "source": [
    "---\n",
    "## Adding code to the question\n",
    "\n",
    "You can add code to the question, and it will be shown in the question.\n",
    "\n",
    "To do so, you need to add a three backticks before and after the code.\n",
    "\n",
    "You can add the coding language after the first three backticks, so it will be highlighted correctly.\n",
    "\n",
    "For example"
   ]
  },
  {
   "attachments": {},
   "cell_type": "markdown",
   "metadata": {},
   "source": [
    "## What's the output of this code?\n",
    "\n",
    "``` python\n",
    "cat_cuteness = 9005\n",
    "\n",
    "if cat_cuteness > 9000:\n",
    "    print(\"The cute orange cat jumped over the lazy lizard\")\n",
    "else:\n",
    "    print(\"The lazy lizard jumped over the cute orange cat\")\n",
    "```\n",
    "\n",
    "- The cute orange cat jumped over the lazy lizard ***\n",
    "\n",
    "- The quick brown fox jumped over the lazy dog\n",
    "\n",
    "- The quick brown fox jumped over the cute orange cat\n",
    "\n",
    "> right_explanation: You got it right, the cat cuteness was over 9000!\n",
    "\n",
    "> wrong_explanation: You got it wrong, the cat is way cuter than the lizard!"
   ]
  },
  {
   "cell_type": "code",
   "execution_count": null,
   "metadata": {},
   "outputs": [],
   "source": []
  }
 ],
 "metadata": {
  "language_info": {
   "name": "python"
  },
  "orig_nbformat": 4
 },
 "nbformat": 4,
 "nbformat_minor": 2
}
