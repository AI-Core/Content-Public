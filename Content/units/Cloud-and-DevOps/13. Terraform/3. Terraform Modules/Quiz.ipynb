{
 "cells": [
  {
   "cell_type": "markdown",
   "metadata": {},
   "source": [
    "# Terraform Modules"
   ]
  },
  {
   "cell_type": "markdown",
   "metadata": {},
   "source": [
    "## True or False: Terraform modules are a way to encapsulate a set of resources and their configurations for reuse in different Terraform configurations.\n",
    "\n",
    "- True ***\n",
    "- False"
   ]
  },
  {
   "cell_type": "markdown",
   "metadata": {},
   "source": [
    "## True or False: Terraform modules cannot have outputs that provide information about the created resources.\n",
    "\n",
    "- True\n",
    "- False ***"
   ]
  },
  {
   "cell_type": "markdown",
   "metadata": {},
   "source": [
    "## What is an advantage of using input variables in Terraform modules?\n",
    "\n",
    "- They hide the module's internal details\n",
    "- They make the module immutable\n",
    "- They allow users to customize the module's behavior ***\n",
    "- They automatically create outputs"
   ]
  },
  {
   "cell_type": "markdown",
   "metadata": {},
   "source": [
    "## What is the purpose of Terraform module outputs?\n",
    "\n",
    "- To store sensitive data securely\n",
    "- To define input variables for other modules\n",
    "- To provide information about the created resources for external use ***\n",
    "- To hide the module's internal details"
   ]
  },
  {
   "cell_type": "markdown",
   "metadata": {},
   "source": [
    "## True or False: Input variables in Terraform modules allow users to customize the behavior of the module when it's used.\n",
    "\n",
    "- True ***\n",
    "- False"
   ]
  }
 ],
 "metadata": {
  "language_info": {
   "name": "python"
  },
  "orig_nbformat": 4
 },
 "nbformat": 4,
 "nbformat_minor": 2
}
