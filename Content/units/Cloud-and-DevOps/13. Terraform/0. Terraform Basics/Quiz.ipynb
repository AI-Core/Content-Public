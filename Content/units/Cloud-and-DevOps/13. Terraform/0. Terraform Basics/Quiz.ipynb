{
 "cells": [
  {
   "cell_type": "markdown",
   "metadata": {},
   "source": [
    "# Terraform Basics"
   ]
  },
  {
   "cell_type": "markdown",
   "metadata": {},
   "source": [
    "## True or False: Terraform is an imperative configuration management tool.\n",
    "\n",
    "- True\n",
    "- False ***"
   ]
  },
  {
   "cell_type": "markdown",
   "metadata": {},
   "source": [
    "## True or False: Terraform allows you to define infrastructure resources using code.\n",
    "\n",
    "- True ***\n",
    "- False"
   ]
  },
  {
   "cell_type": "markdown",
   "metadata": {},
   "source": [
    "## True or False: Terraform configurations are written in `JSON` format.\n",
    "\n",
    "- True\n",
    "- False ***"
   ]
  },
  {
   "cell_type": "markdown",
   "metadata": {},
   "source": [
    "## True or False: Terraform supports multiple cloud providers and on-premises infrastructure.\n",
    "\n",
    "- True ***\n",
    "- False"
   ]
  },
  {
   "cell_type": "markdown",
   "metadata": {},
   "source": [
    "## True or False: Terraform maintains a state file to keep track of the current state of infrastructure.\n",
    "\n",
    "- True ***\n",
    "- False"
   ]
  },
  {
   "cell_type": "markdown",
   "metadata": {},
   "source": [
    "## Which language is commonly used to write Terraform configurations?\n",
    "\n",
    "- `JSON`\n",
    "- `YAML`\n",
    "- HCL (HashiCorp Configuration Language) ***\n",
    "- Python"
   ]
  },
  {
   "cell_type": "markdown",
   "metadata": {},
   "source": [
    "## What does a Terraform provider define?\n",
    "\n",
    "- The configuration settings of a resource\n",
    "- The authentication credentials for Terraform\n",
    "- How Terraform interacts with various infrastructure platforms ***\n",
    "- The order in which resources are created"
   ]
  },
  {
   "cell_type": "markdown",
   "metadata": {},
   "source": [
    "## What is the purpose of declaring variables in Terraform configurations?\n",
    "\n",
    "- To store sensitive information\n",
    "- To define the order of resource creation\n",
    "- To make configurations more dynamic and reusable ***\n",
    "- To create resource dependencies"
   ]
  },
  {
   "cell_type": "markdown",
   "metadata": {},
   "source": [
    "## Which section of a Terraform configuration file is used to specify the cloud platform or service you're working with and provide authentication credentials?\n",
    "\n",
    "- Variables\n",
    "- Outputs\n",
    "- Provider block ***\n",
    "- Data block"
   ]
  },
  {
   "cell_type": "markdown",
   "metadata": {},
   "source": [
    "## Which Terraform block type is used to declare infrastructure resources you want to create or manage?\n",
    "\n",
    "- Data block\n",
    "- Provider block\n",
    "- Resource block ***\n",
    "- Variable block\n"
   ]
  },
  {
   "cell_type": "markdown",
   "metadata": {},
   "source": [
    "## In Terraform, what is the purpose of an \"output\" block?\n",
    "\n",
    "- To declare resource dependencies\n",
    "- To specify the desired infrastructure state\n",
    "- To expose information about created resources ***\n",
    "- To define resource types"
   ]
  },
  {
   "cell_type": "markdown",
   "metadata": {},
   "source": [
    "## Terraform providers are implemented as:\n",
    "\n",
    "- Functions\n",
    "- Modules\n",
    "- Plugins ***\n",
    "- Commands"
   ]
  },
  {
   "cell_type": "markdown",
   "metadata": {},
   "source": [
    "## "
   ]
  }
 ],
 "metadata": {
  "language_info": {
   "name": "python"
  },
  "orig_nbformat": 4
 },
 "nbformat": 4,
 "nbformat_minor": 2
}
