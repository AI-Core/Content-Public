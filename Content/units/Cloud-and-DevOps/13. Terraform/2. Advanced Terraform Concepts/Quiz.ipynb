{
 "cells": [
  {
   "cell_type": "markdown",
   "metadata": {},
   "source": [
    "# Advanced Terraform Concepts"
   ]
  },
  {
   "cell_type": "markdown",
   "metadata": {},
   "source": [
    "## True or False: Terraform maintains a local state file by default, which can lead to collaboration challenges and state drift.\n",
    "\n",
    "- True ***\n",
    "- False"
   ]
  },
  {
   "cell_type": "markdown",
   "metadata": {},
   "source": [
    "## True or False: Remote state storage in Terraform is recommended for improved collaboration and concurrency safety.\n",
    "\n",
    "- True ***\n",
    "- False"
   ]
  },
  {
   "cell_type": "markdown",
   "metadata": {},
   "source": [
    "## True or False: Workspaces in Terraform allow you to manage multiple versions of your infrastructure configurations within a single environmen\n",
    "\n",
    "- True\n",
    "- False ***"
   ]
  },
  {
   "cell_type": "markdown",
   "metadata": {},
   "source": [
    "## Which Terraform feature enables you to customize cloud instances during initialization by running scripts and performing configuration tasks?\n",
    "\n",
    "- Variables\n",
    "- Data Sources\n",
    "- User Data ***\n",
    "- Remote State"
   ]
  },
  {
   "cell_type": "markdown",
   "metadata": {},
   "source": [
    "## Which Terraform feature allows you to retrieve information about existing resources outside the Terraform configuration?\n",
    "\n",
    "- Dynamic Block Definitions\n",
    "- Data Sources ***\n",
    "- User Data\n",
    "- Remote State"
   ]
  },
  {
   "cell_type": "markdown",
   "metadata": {},
   "source": [
    "## When should you use the `for_each` and `count` meta-arguments in Terraform?\n",
    "\n",
    "- To customize cloud instance user data\n",
    "- To manage dynamic block definitions\n",
    "- To create multiple instances of a resource or customize resource configurations based on input data ***\n",
    "- To define implicit dependencies between resources"
   ]
  },
  {
   "cell_type": "markdown",
   "metadata": {},
   "source": [
    "## True or False: Workspaces in Terraform allow you to isolate variables, making them unique to each environment.\n",
    "\n",
    "- True ***\n",
    "- False"
   ]
  },
  {
   "cell_type": "markdown",
   "metadata": {},
   "source": [
    "## Which of the following is NOT a recommended way to manage Terraform state remotely?\n",
    "\n",
    "- AWS S3\n",
    "- Azure Blob Storage\n",
    "- Terraform Cloud\n",
    "- Local file storage ***"
   ]
  }
 ],
 "metadata": {
  "language_info": {
   "name": "python"
  },
  "orig_nbformat": 4
 },
 "nbformat": 4,
 "nbformat_minor": 2
}
