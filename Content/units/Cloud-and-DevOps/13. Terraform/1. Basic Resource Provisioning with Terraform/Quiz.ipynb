{
 "cells": [
  {
   "cell_type": "markdown",
   "metadata": {},
   "source": [
    "# Basic Resource Provisioning with Terraform"
   ]
  },
  {
   "cell_type": "markdown",
   "metadata": {},
   "source": [
    "## Which Terraform command is used to generate an execution plan and display the changes that Terraform will make to the infrastructure without actually applying them?\n",
    "\n",
    "- `terraform apply`\n",
    "- `terraform show`\n",
    "- `terraform plan` ***\n",
    "- `terraform destroy`"
   ]
  },
  {
   "cell_type": "markdown",
   "metadata": {},
   "source": [
    "## What is the primary role of a service principal in Azure?\n",
    "\n",
    "- To authenticate users to Azure Active Directory\n",
    "- To represent an application or service and provide it with permissions to access Azure resources ***\n",
    "- To manage Azure virtual machines"
   ]
  }
 ],
 "metadata": {
  "language_info": {
   "name": "python"
  },
  "orig_nbformat": 4
 },
 "nbformat": 4,
 "nbformat_minor": 2
}
