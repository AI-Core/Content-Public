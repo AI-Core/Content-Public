{
 "cells": [
  {
   "cell_type": "markdown",
   "metadata": {},
   "source": [
    "# Defining Azure Networking Components with Terraform"
   ]
  },
  {
   "cell_type": "markdown",
   "metadata": {},
   "source": [
    "## What is the primary role of Terraform modules in managing Azure networking resources?\n",
    "\n",
    "- To provide networking tutorials\n",
    "- To automate Azure account creation\n",
    "- To promote code reusability and maintainability ***\n",
    "- To define Azure data centers"
   ]
  },
  {
   "cell_type": "markdown",
   "metadata": {},
   "source": [
    "## True or False: Virtual Networks (VNets) in Azure provide logical isolation for resources and control over communication.\n",
    "\n",
    "- True ***\n",
    "- False"
   ]
  },
  {
   "cell_type": "markdown",
   "metadata": {},
   "source": [
    "## True or False: Subnets serve as firewalls, controlling inbound and outbound traffic with security rules.\n",
    "\n",
    "- True\n",
    "- False ***"
   ]
  },
  {
   "cell_type": "markdown",
   "metadata": {},
   "source": [
    "## True or False: Subnets in Azure provide logical isolation for resources and control over communication.\n",
    "\n",
    "- True \n",
    "- False ***"
   ]
  },
  {
   "cell_type": "markdown",
   "metadata": {},
   "source": [
    "## True or False: Network peering enables secure communication between VNets, allowing data transfer across network boundaries.\n",
    "\n",
    "- True ***\n",
    "- False"
   ]
  },
  {
   "cell_type": "markdown",
   "metadata": {},
   "source": [
    "## When defining a Subnet in Terraform, which attribute is used to specify the subnet's address range within a Virtual Network (VNet)?\n",
    "\n",
    "- `subnet_range = \"10.0.1.0/24\"`\n",
    "- `address_prefixes = [\"10.0.1.0/24\"]` ***\n",
    "- `ip_range = \"10.0.1.0/24\"`\n",
    "- `subnet_cidr = \"10.0.1.0/24\"`"
   ]
  },
  {
   "cell_type": "markdown",
   "metadata": {},
   "source": [
    "## Which Terraform resource block is used to define a Virtual Network (VNet) in Azure, and what attribute is used to specify the VNet's address space?\n",
    "\n",
    "- `resource \"azurerm_virtual_network\" \"example\"` ***\n",
    "- `resource \"azure_virtual_network\" \"example\" ` \n",
    "- `resource \"azurerm_vnet\" \"example\" `\n",
    "- `resource \"network_virtual\" \"example\" `"
   ]
  }
 ],
 "metadata": {
  "language_info": {
   "name": "python"
  },
  "orig_nbformat": 4
 },
 "nbformat": 4,
 "nbformat_minor": 2
}
