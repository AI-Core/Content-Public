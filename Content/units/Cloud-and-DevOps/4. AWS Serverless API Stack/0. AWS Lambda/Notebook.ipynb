{
 "cells": [
  {
   "cell_type": "markdown",
   "metadata": {},
   "source": [
    "# AWS Lambda\n",
    "\n",
    "<p align=center><a href=https://aws.amazon.com/lambda><img src=images/AWS_Lambda_Logo.png width=200></a></p>"
   ]
  },
  {
   "cell_type": "markdown",
   "metadata": {},
   "source": [
    "## Introduction\n",
    "> AWS Lambda is a serverless computing service that enables code to run in response to events, without requiring backend server and runtime management, workload-aware cluster logic creation, or event-integration maintenance. It allows us to run code for any type of application or backend service with zero administration.\n",
    "\n",
    "</br>\n",
    "\n",
    "## Benefits\n",
    "\n",
    "- __No severs to manage:__ Lambda turns on a machine, runs your code on it, then turns it off.\n",
    "- __Continuous scaling:__ Lambda automatically scales your application and runs in response to each event simply by spinning up more instances of the lambda function in parallel.\n",
    "- __Cost optimisation:__ It optimises cost significantly.\n",
    "- __Millisecond response times:__ Fast response times, and optimised memory allocation.\n",
    "- __Free requests:__ It comes with __1 million__ free requests a month with AWS."
   ]
  },
  {
   "cell_type": "markdown",
   "metadata": {},
   "source": [
    "## Lambda Functions\n",
    "\n",
    "The code that executes on AWS Lambda is called a _lambda function_. They are literally functions which you write in the AWS console in the programming language of your choice. Once created, it will always be available to run when triggered. Each created function will have both the code and the associated configuration information required for it to run. This allows each function to be __stateless__, meaning that there is no need to persist any information between different invokations. Every function is self-contained, without external dependencies. Thus, multiple copies of the function may be launched as required to keep up with incoming requests and events.\n",
    "\n",
    "These functions can also be easily integrated with specific AWS resources, such as Amazon S3, API Gateway, Lex or Cognito, and even call other Lambda functions. \n",
    "\n",
    "Lambda functions can be configured to be triggered by many different events, including:\n",
    "- when a request is received by an API\n",
    "- when an item is inserted into a database\n",
    "- on a regular schedule\n",
    "- and many, many more ways\n",
    "\n",
    "### Key features \n",
    "\n",
    "- __Extend the logic of other AWS resources:__ When a change is made to the resource, such as an Amazon S3 bucket, the lambda function can be configured to execute, managing the incoming data.\n",
    "- __Develop code:__ With Lambda, there are no new languages or tools to learn. You can leverage any third-party library or package (frameworks, SDKs, libraries and more) by packaging them with the function in what is known as a _Lambda layer_. Currently, lambda natively supports Java, Go, Powershell, Node.js, C#, Python and Ruby.\n",
    "- __Zero administration:__ Lambda manages all your infrastructure on a highly fault-tolerant infrastructure, allowing you to focus on building services instead of managing servers.\n",
    "- __High scalability:__ Lambda functions are only run when required. Thus, they will execute, matching the rate of incoming requests without any configuration. The functions run within milliseconds after an event is triggered and only execute for the required time to fulfill the requests down to the millisecond. "
   ]
  },
  {
   "cell_type": "markdown",
   "metadata": {},
   "source": [
    "## Getting Started"
   ]
  },
  {
   "cell_type": "markdown",
   "metadata": {},
   "source": [
    "Log in to the AWS-services management console, and open the AWS lambda dashboard. You should encounter the AWS lambda landing dashboard.\n",
    "\n",
    "### AWS lambda dashboard\n",
    "\n",
    "![Lambda Dashboard](images/lambda_dashboard.PNG)\n"
   ]
  },
  {
   "cell_type": "markdown",
   "metadata": {},
   "source": [
    "As shown in the figure above, the options for creating applications, functions and lambda layers are located on the left-hand side of the dashboard. At the top-right corner, you can see the option to create a lambda function directly from the dashboard, with the login metrics displayed below.\n",
    "\n",
    "First, open the functions dashboard by clicking `functions` on the left-hand side. \n",
    "\n",
    "### Functions dashboard\n",
    "![](images/functions_dashboard.png)"
   ]
  },
  {
   "cell_type": "markdown",
   "metadata": {},
   "source": [
    "The functions dashboard provides an overview of all created Lambda functions, as well as their runtimes and sizes. Now, we create a new lambda function. Click the `create function` button, which will open the function-creation dashboard. \n",
    "\n",
    "## Creating a Function\n",
    "![](images/create_function_dashboard.png)"
   ]
  },
  {
   "cell_type": "markdown",
   "metadata": {},
   "source": [
    "The function-creation dashboard allows the creation of many types of Lambda functions. Note that some are prebuilt and packaged for you by AWS. Browse through the prebuilt packages offered by AWS by navigating to the __Use a blueprint__ and __Browse serverless app repository__ options. These options are great for quickly deploying a commonly used function, such as login changes to a DynamoDB, or retrieving metadata from an updated S3 object.\n",
    "\n",
    "To begin with, we will create a simple lambda function from scratch. Select the __Author from scratch__ option, and name the function `hello_world`. \n",
    "\n",
    "The __runtime__ is the language-specific environment in which your function will run when being executed. For instance, if you select Python 3.8 for your runtime, all code in your lambda function must be compatible to run in Python 3.8 when deployed.\n",
    "\n",
    "Under `Runtime`, select Python 3.8. Leave the permissions and the advanced settings in the default setting. Thereafter, click `create function` (bottom right corner). You will be presented with the function-editor dashboard, where you can modify your code.\n",
    "\n",
    "### Function-editor dashboard\n",
    "\n",
    "![](images/function_editor.png)\n"
   ]
  },
  {
   "cell_type": "markdown",
   "metadata": {},
   "source": [
    "From the function-editor dashboard, we can edit the code of functions, as well as test, deploy, configure and create triggers to run our functions. First, let's look at how the __lambda_handler__ is defined. The lambda handler is the name of the function in your code which runs when the lambda function is invoked.\n",
    "\n",
    "### The lambda-function handler"
   ]
  },
  {
   "cell_type": "code",
   "execution_count": null,
   "metadata": {},
   "outputs": [],
   "source": [
    "#This is the general syntax for defining a lambda-function handler.\n",
    "\n",
    "# def handler_name(event, context): \n",
    "#      ...\n",
    "#     return some_value"
   ]
  },
  {
   "cell_type": "markdown",
   "metadata": {},
   "source": [
    "The lambda-function handler is a method in your code that processes the events sent to your lambda function. Once the handler is executed and returns a response or exits, it becomes available to handle another event."
   ]
  },
  {
   "cell_type": "code",
   "execution_count": null,
   "metadata": {},
   "outputs": [],
   "source": [
    "# Our current event-handler function\n",
    "\n",
    "import json\n",
    "\n",
    "def lambda_handler(event, context):\n",
    "    # TODO implement\n",
    "    return {\n",
    "        'statusCode': 200,\n",
    "        'body': json.dumps('Hello from Lambda!')\n",
    "}"
   ]
  },
  {
   "cell_type": "markdown",
   "metadata": {},
   "source": [
    "When the function invokes the event handler, the runtime passes two arguments to the function handler: __event__ and __context__. \n",
    "\n",
    "- The first argument, __event__, accepts an __event object,__ which is a JSON-formatted document containing the data sent to the function by whatever invoked it. When the function is run, the runtime converts the event into an event object and passes it to the function handler. \n",
    "<br>\n",
    "  \n",
    "- The __context object__ provides the function with the methods and properties that provide information about invoking the function and the runtime environment. Take a look at it if you're curious to see what kind of information it contains."
   ]
  },
  {
   "cell_type": "markdown",
   "metadata": {},
   "source": [
    "The handler function is initialised as `<file_name>.<method_name>`. By default, the name is `lambda_function.lambda_handler`. The handler name can be changed by navigating to __Runtime settings > Edit__. However, this is not commonly done. If you decide to rename your `lambda_function.py` file, then you must rename the lambda handler accordingly."
   ]
  },
  {
   "cell_type": "markdown",
   "metadata": {},
   "source": [
    "### Testing the created lambda function"
   ]
  },
  {
   "cell_type": "markdown",
   "metadata": {},
   "source": [
    "Click the __test__ button to create a new test event for the function, which will be used to verify that the function works as intended. Note that we can have up to 10 test events per function. Create a new test event, select `hello-world` as the event template, and name the event __name_announcer__."
   ]
  },
  {
   "cell_type": "code",
   "execution_count": null,
   "metadata": {},
   "outputs": [],
   "source": [
    "#AWS provides us with this default hello-world template\n",
    "\n",
    "{\n",
    "  \"key1\": \"value1\",\n",
    "  \"key2\": \"value2\",\n",
    "  \"key3\": \"value3\"\n",
    "}"
   ]
  },
  {
   "cell_type": "markdown",
   "metadata": {},
   "source": [
    "Now, we edit the template to obtain the desired result."
   ]
  },
  {
   "cell_type": "code",
   "execution_count": null,
   "metadata": {},
   "outputs": [],
   "source": [
    "# Change the keys and values to test your function\n",
    "\n",
    "{\n",
    "  \"First_name\": \"Michael\",\n",
    "  \"Last_name\": \"Scott\",\n",
    "  \"Age\": 30\n",
    "}"
   ]
  },
  {
   "cell_type": "markdown",
   "metadata": {},
   "source": [
    "Then, we save the test event and configure the lambda function to announce ourselves to the world."
   ]
  },
  {
   "cell_type": "code",
   "execution_count": null,
   "metadata": {},
   "outputs": [],
   "source": [
    "# Remember that the event argument is the argument passing the data into the function handler.\n",
    "# Therefore, we can reference the items in this dict object to obtain the required message.\n",
    "\n",
    "import json\n",
    "\n",
    "def lambda_handler(event, context):\n",
    "    message = (f'Hello World, my name is {event[\"First_name\"]} {event[\"Last_name\"]} and my age is {event[\"Age\"]}')\n",
    "    return {\n",
    "         'message' : message\n",
    "    }\n"
   ]
  },
  {
   "cell_type": "markdown",
   "metadata": {},
   "source": [
    "Redeploy the function to update the changes. Afterwards, run the test. If the function executes correctly, you should get an output similar to that in the figure. \n",
    "\n",
    "<img src=\"images/name_announcer_output.png\"/>"
   ]
  },
  {
   "cell_type": "markdown",
   "metadata": {},
   "source": [
    "Note that the status should be `succeeded`. Additionally, information is provided on the amount of memory expended and the execution duration of the function, down to the millisecond."
   ]
  },
  {
   "cell_type": "markdown",
   "metadata": {},
   "source": [
    "## Lambda Layers"
   ]
  },
  {
   "cell_type": "markdown",
   "metadata": {},
   "source": [
    "Thus far, we have created a simple Lambda function with no additional dependencies. However, if we intend to run a function that requires an additional library at runtime, we must create a __lambda layer__. Lambda layers allow the use of third-party libraries and dependencies in lambda functions. Each function can depend on up to five layers. As an example, we change our current function so that it depends on the Python requests package."
   ]
  },
  {
   "cell_type": "code",
   "execution_count": 14,
   "metadata": {},
   "outputs": [],
   "source": [
    "# import the requests package so our function depends on it\n",
    "# and get a request from the pokedex website\n",
    "\n",
    "import json\n",
    "import requests as r\n",
    "\n",
    "def lambda_handler(event, context):\n",
    "    message = (f'Hello World, my name is {event[\"First_name\"]} {event[\"Last_name\"]} and my age is {event[\"Age\"]}.')\n",
    "    response = r.get(\"https://www.pokemon.com/uk/pokedex/\")\n",
    "    return {\n",
    "         'message' : message,\n",
    "          # display the requests response\n",
    "         \"body\" : json.dumps(f\"The result of the response request was: {response}\")\n",
    "    }\n"
   ]
  },
  {
   "cell_type": "markdown",
   "metadata": {},
   "source": [
    "Note that the requests library must be packaged in a specific format that AWS understands. The specific structure of the lambda layer can be found [here](https://docs.aws.amazon.com/lambda/latest/dg/configuration-layers.html). Create a new directory named __python__ for storing the dependencies."
   ]
  },
  {
   "cell_type": "code",
   "execution_count": null,
   "metadata": {},
   "outputs": [],
   "source": [
    "# run in your terminal\n",
    "cd python         # change to your python directory\n",
    "pip install -t . requests    # Use the -t flag to install dependencies to this folder\n",
    "rm -r *dist-info __pycache__ # remove unnecessary files"
   ]
  },
  {
   "cell_type": "code",
   "execution_count": null,
   "metadata": {},
   "outputs": [],
   "source": [
    "# run in terminal\n",
    "zip -r layer.zip python"
   ]
  },
  {
   "cell_type": "markdown",
   "metadata": {},
   "source": [
    "After zipping the layer, you should be left with the following folder structure, implying that all the dependencies for the requests library are contained in the python folder. Thus, if you were to unzip the file, you would have a folder called python, which contains all the dependencies."
   ]
  },
  {
   "cell_type": "markdown",
   "metadata": {},
   "source": [
    "```\n",
    "python/\n",
    "├── bin\n",
    "├── certifi\n",
    "├── certifi-2021.5.30.dist-info\n",
    "├── ...\n",
    "├── ...\n",
    "|__ urlib3-1.26.7.dist-info\n",
    "```"
   ]
  },
  {
   "cell_type": "markdown",
   "metadata": {},
   "source": [
    "Now that we have the required zip file, it needs to be uploaded to AWS. Go to your Lambda dashboard, and navigate to the __layers section > create layer__. Name the new layer __requests_test,__ and add the python runtimes for your function. Note that you can have up to 15 runtimes per layer. Finish creating the layer, and it will now be available for use.<br></br>\n",
    "\n",
    "<img src=\"images/lambda_create_layer.png?modified=1345678\"/>"
   ]
  },
  {
   "cell_type": "markdown",
   "metadata": {},
   "source": [
    "Go back to the `hello_lambda` function. Update the code to import requests and get a response from the Pokedex website. Now, we simply add the layer to the function before deploying it. Below the code editor, you should see the __Layers__ section. Go to __add a layer__. \n",
    "\n",
    "<img src=\"images/add_layer.png?modified=1345678\"/>"
   ]
  },
  {
   "cell_type": "markdown",
   "metadata": {},
   "source": [
    "Select __Custom layers,__ and select the requests_test layer you created from the dropdown, as well as the associated version. Thereafter, add the layer. Now, redeploy the code, and test the function. You should obtain the result:\n",
    "\n",
    "<img src=\"images/layer_results.png?modified=134678\"/>"
   ]
  },
  {
   "cell_type": "markdown",
   "metadata": {},
   "source": [
    "The result is as expected. The Pokedex website returns response code 200, which is a success response, and the message is still being printed."
   ]
  },
  {
   "cell_type": "markdown",
   "metadata": {},
   "source": [
    "## Conclusion\n",
    "At this point, you should have a good understanding of\n",
    "- lambda functions and their uses.\n",
    "- how to navigate the lambda-function dashboard.\n",
    "- how to create a lambda function.\n",
    "- how to create layers to add extra functionality to lambda functions. "
   ]
  }
 ],
 "metadata": {
  "kernelspec": {
   "display_name": "Python 3.9.0 64-bit",
   "language": "python",
   "name": "python3"
  },
  "language_info": {
   "codemirror_mode": {
    "name": "ipython",
    "version": 3
   },
   "file_extension": ".py",
   "mimetype": "text/x-python",
   "name": "python",
   "nbconvert_exporter": "python",
   "pygments_lexer": "ipython3",
   "version": "3.9.0"
  },
  "vscode": {
   "interpreter": {
    "hash": "aee8b7b246df8f9039afb4144a1f6fd8d2ca17a180786b69acc140d282b71a49"
   }
  }
 },
 "nbformat": 4,
 "nbformat_minor": 2
}
