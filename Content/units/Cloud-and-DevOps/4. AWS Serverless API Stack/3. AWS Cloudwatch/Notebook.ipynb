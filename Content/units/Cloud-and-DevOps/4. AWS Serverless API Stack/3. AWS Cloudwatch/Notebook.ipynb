{
 "cells": [
  {
   "cell_type": "markdown",
   "metadata": {},
   "source": [
    "# AWS Cloudwatch\n",
    "<p align=center><a href=https://aws.amazon.com/cloudwatch><img src=images/AWS_Cloudwatch_Logo.png width=250></a></p>\n",
    "\n",
    "## Introduction\n",
    "> AWS CloudWatch is a monitoring and observability service provided by AWS that allows you to monitor your AWS resources in real-time. CloudWatch monitors your data in the form of logs, events and metrics, providing you with insights into all your AWS applications and services. CloudWatch can be employed to detect undesirable application behaviour, set alarms, visualise logs/metrics, troubleshoot applications and take automated actions to keep services running.\n",
    "\n",
    "For a general overview of CloudWatch, visit the CloudWatch homepage [here](https://aws.amazon.com/cloudwatch/), and check what is included in the free tier of the service [here](https://aws.amazon.com/cloudwatch/pricing/)."
   ]
  },
  {
   "cell_type": "markdown",
   "metadata": {},
   "source": [
    "## Benefits\n",
    "\n",
    "* AWS CloudWatch enables you to collect logs, metrics and events from a large volume of data from your AWS and display this **information in a centralised location**.  \n",
    "* It enables easy metric collection from your AWS resources. CloudWatch **seamlessly integrates with over 70 AWS services** and publishes their metrics.\n",
    "* CloudWatch allows you to **set up alarms and automate actions** based on thresholds or, in the case of machine-learning models, unexpected behaviour in the metrics.\n",
    "* It offers the possibility to **explore, analyse and visualise logs,** allowing you to troubleshoot any issue with your services efficiently and rapidly, thereby reducing downtime."
   ]
  },
  {
   "cell_type": "markdown",
   "metadata": {},
   "source": [
    "## The CloudWatch Dashboard\n",
    "\n",
    "Go to the CloudWatch AWS Services page to begin creating a dashboard for monitoring and observing services. You will be met with the main page, where you can begin configuring all the alarms, events, logs and metrics, as well as view a report on the activation status of alarms from your services.\n",
    "\n",
    "<img src=\"images/main_overview.png?modified=1452131278\" />\n",
    "\n",
    "The CloudWatch dashboard is the central hub for monitoring, observing and assessing the health of resources. First, we need to add some AWS services, before monitoring their performances. Setup an EC2 instance, a lambda function, an RDS database and an S3 bucket for CloudWatch to monitor. You can employ a CloudFormation stack to do this quickly. Thereafter, create a new dashboard by navigating to **dashboard > Create dashboard**, and name it **Main**. You will then be met with the widget-creation pane.\n",
    "\n",
    "<img src=\"images/widget_selection.png?modified=1452131278\" width='700' height='500'/>\n",
    "\n"
   ]
  },
  {
   "cell_type": "markdown",
   "metadata": {},
   "source": [
    "Here, we can select the type of widget we wish to view on our dashboard initially. First, we create a new line widget to track our running EC2 instance. Select the widget, and you will be given the option to select between the logs or metrics view. For now, we select the metrics view and create the widget.\n",
    "\n",
    "<img src=\"images/graph_creation.png?modified=1452131278\" />"
   ]
  },
  {
   "cell_type": "markdown",
   "metadata": {},
   "source": [
    "Here, we define what metrics we wish to track on the AWS-services dashboard and subsequently graph them. Note that you can add multiple metrics to the same graph (even multiple metrics from different AWS services). We add some metrics to track our EC2-instance utilisation. Select EC2 across all instances to track all the EC2 instances. Select **CPUUtilisation**, **NetworkIn** and **NetworkOut**, and add them to the graph. Thereafter, rename the graph as `EC2 Utilisation`. Afterwards, complete the addition of the widget.\n",
    "\n",
    "Next, add more widgets for the S3 bucket and RDS instance. For the S3 bucket, add a new bar-graph widget for one of your S3 instances to track its storage metrics. For the RDS database, add a new line graph for tracking **CPUUtilisation** and **DBLoad**.\n",
    "\n",
    "<img src=\"images/metrics_created.png?modified=1452131278\"/>\n"
   ]
  },
  {
   "cell_type": "markdown",
   "metadata": {},
   "source": [
    "Lastly, we create a new widget to track the logs of the lambda function we created. If you have not done so already, create a basic lambda function. Thereafter, create a new widget on your dashboard, and select logs. Once done, we can begin configuring the widget. If you have not done so already, create a new lambda function, and run some tests on it to obtain some output for the logs. From the logs page, select the **logs group** to be tracked, which will allow us to track the lambda function. Below, you can see the output configuration of the logs. Further, it is possible to specify the format of the logs by editing its query, as follows:"
   ]
  },
  {
   "cell_type": "code",
   "execution_count": null,
   "metadata": {},
   "outputs": [],
   "source": [
    "# configuring the which field to display in our logs \n",
    "fields @timestamp, @message \n",
    "    # we can configure how the logs would be sorted\n",
    " sort @ timestamp desc\n",
    "    # add a limit to the number of log entries.\n",
    " limit 20"
   ]
  },
  {
   "cell_type": "markdown",
   "metadata": {},
   "source": [
    "Notice that when log groups is selected, AWS will only provide options for the AWS services with trackable logs. You can select multiple services if required. Once satisfied with the configuration and log output, create the widget."
   ]
  },
  {
   "cell_type": "markdown",
   "metadata": {},
   "source": [
    "\n",
    "<img src=\"images/configure_logs_widget.png?modified=14531278\"/>"
   ]
  },
  {
   "cell_type": "markdown",
   "metadata": {},
   "source": [
    "Now, we should have all the metrics and logs we wish to track in one centralised location. Once the widget creation is complete, remember to save the dashboard.\n",
    "\n",
    "<img src=\"images/main_dashboard_config.png?modified=14531278\"/>"
   ]
  },
  {
   "cell_type": "markdown",
   "metadata": {},
   "source": [
    "Multiple dashboards can be created for different metrics if required. You can have a dashboard for tracking all the EC2 instances metrics and one for all the RDS databases. The configuration can be tailored to suit your requirements. The service-quota limits for the number of widgets and metrics that can be tracked can be found [here](https://docs.aws.amazon.com/AmazonCloudWatch/latest/monitoring/cloudwatch_limits.html). For more options on configuring the dashboard, consult the AWS CloudWatch dashboard docs [here](https://docs.aws.amazon.com/AmazonCloudWatch/latest/monitoring/CloudWatch_Dashboards.html).\n"
   ]
  },
  {
   "cell_type": "markdown",
   "metadata": {},
   "source": [
    "## Creating Alarms for Services\n",
    "\n",
    "Select the alarms section of the CloudWatch services pane from the list on the right-hand side, and create a new alarm. You will then be given the option to select the metric you wish to track. In this case, we create a new alarm that will activate if the previously configured lambda function outputs an error. Navigate to **Lambda > By Function Name**, select the function and the metric with the name **Errors**, and select the metric.\n",
    "\n",
    "Here, we can configure the activation conditions of the alarm. The available options are described below.\n",
    "\n",
    "* **Statistic:** The statistic that will evaluate all the data points within the duration. A full list and details of each statistic can be found [here](https://docs.aws.amazon.com/AmazonCloudWatch/latest/monitoring/Statistics-definitions.html).\n",
    "* **Period:** How often the data points are evaluated.\n",
    "* **Threshold type:** Whether you wish to check your constraint against a constant or within a range of values.\n",
    "* **Additional configuration:** Choose how many data points within the duration cross the threshold and what to do if data points are missing. \n",
    "\n",
    "Setup the alarm as shown in the image, and continue to the notifications screen. For more details on configuring the alarm metrics, consult the documentation [here](https://docs.aws.amazon.com/AmazonCloudWatch/latest/monitoring/AlarmThatSendsEmail.html).\n",
    "\n",
    "<img src=\"images/alarm_config.png?modified=11441278\" height='600' width='550'/>"
   ]
  },
  {
   "cell_type": "markdown",
   "metadata": {},
   "source": [
    "Now, we set up a channel for notifying users once an alarm is created, activated or in the **OK** state. Select create a new SNS topic here. SNS is the notification service used by AWS. You can read more about SNS on the AWS SNS homepage [here](https://aws.amazon.com/sns/). Additionally, check out the developer guide [here](https://docs.aws.amazon.com/sns/latest/dg/welcome.html). Create the new topic, and configure your email account to receive the alert when the alarm has breached its threshold (**In the alarm state**). Afterwards, proceed to describe the alarm. \n",
    "\n",
    "<img src=\"images/alarm_noti_settings.png?modified=1124578\"/>"
   ]
  },
  {
   "cell_type": "markdown",
   "metadata": {},
   "source": [
    "Create a good description for the alarm, and assign it a name so that the members of your team are aware of its function. Thereafter, complete the creation process of the alarm. Now, create another alarm for an EC2 instance. In the select metrics pane, navigate to **EC2** > **By Image(AMI) Id** > **CPUUtilization**. Here, we will configure the metric to alert us once the CPU has reached a utilisation rate of over 90%. \n",
    "\n",
    "<img src=\"images/alarm_description.png?modified=1441578\" height='300' width='500'/>"
   ]
  },
  {
   "cell_type": "markdown",
   "metadata": {},
   "source": [
    "The alarm will now be viewable from the **All alarms** section of the AWS CloudWatch navigation bar. Notice that when we select the alarm, it is in the **insufficient data**  state. This is because the lambda function has not been run since creating the alarm. Now, go to the lambda function, and edit the test configuration so that the function returns an error. Once the alarm updates (remember that it updates in 5-min intervals), the alarm status should change from **insufficient data** to **In alarm**.\n",
    "\n",
    "<img src=\"images/view_all_alarms.png?modified=11212478\"/>"
   ]
  },
  {
   "cell_type": "markdown",
   "metadata": {},
   "source": [
    "To test the EC2 CPU load alarm, you can run the following command in your Linux EC2 instance:"
   ]
  },
  {
   "cell_type": "code",
   "execution_count": null,
   "metadata": {},
   "outputs": [],
   "source": [
    "# Will load the CPU to 100% utilisation on a Linux machine\n",
    "cat /dev/zero > /dev/null"
   ]
  },
  {
   "cell_type": "markdown",
   "metadata": {},
   "source": [
    "Now that the alarms have been created, we can continue to monitor them. We encourage you to experiment with creating different metrics and alarms to improve your understanding. For more information on configuring alarms, check out the AWS alarms section of the documentation [here](https://docs.aws.amazon.com/AmazonCloudWatch/latest/monitoring/AlarmThatSendsEmail.html)."
   ]
  },
  {
   "cell_type": "markdown",
   "metadata": {},
   "source": [
    "## Log Groups and Log insights\n",
    "\n",
    "### Log concepts\n",
    "\n",
    "* **Log events:** A record of activities logged by an application or resource being monitored in AWS. \n",
    "* **Log streams:** A sequence of log events that share the same source, i.e. all logged events that occurred with a specific AWS lambda function.\n",
    "* **Log groups:** Groups of log streams that share the same retention, monitoring and access-control settings. Each log stream must belong to a log group (e.g. a log group comprising all RDS instance logs).\n",
    "\n",
    "Read more about log concepts [here](https://docs.aws.amazon.com/AmazonCloudWatch/latest/logs/CloudWatchLogsConcepts.html).\n",
    "\n",
    "Most of the log groups required when using AWS CloudWatch will be preconfigured by the AWS resource of creation. For instance, when a lambda function is created, AWS will create an associated log group for it, without requiring a custom group. For more information on creating custom log groups, check out this [link](https://docs.aws.amazon.com/AmazonCloudWatch/latest/logs/Working-with-log-groups-and-streams.html).\n",
    "\n",
    "### Log insights\n",
    "\n",
    "Log insights allow you to run custom queries for your AWS resources and subsequently export the results to a dashboard or CSV/markdown file. Using the **Fields** (right-hand side) icon, AWS will suggest applicable fields for your log group to enable you build custom queries. By selecting **Queries**, AWS gives you free suggestions.\n",
    "\n",
    "<img src=\"images/log_insights.png?modified=11425616178\"/>\n"
   ]
  },
  {
   "cell_type": "markdown",
   "metadata": {},
   "source": [
    "## Metrics Explorer and Streams\n",
    "\n",
    "Three options are provided under the **Metrics** heading on the CloudWatch navbar:\n",
    "\n",
    "* **All metrics:** Select an individual metric to view it in detail when required.\n",
    "* **Explorer:** View multiple metrics from the same AWS resource or resource group all in one place.\n",
    "* **Streams:** Output the data from your metrics to an S3 bucket or AWS Kinese Data Firehose in real-time."
   ]
  },
  {
   "cell_type": "markdown",
   "metadata": {},
   "source": [
    "### Metrics explorer\n",
    "\n",
    "You should be familiar with the all metrics option from when you selected metrics while creating the dashboard. Simply select the metrics you wish to view, and they will be graphed and viewable in real-time. By selecting explorer, we can obtain an overview of all metrics against an individual AWS resource or a collection of resources in the same group. Go to the explorer pane to obtain an overview of all metrics of the currently running EC2 instances.\n",
    "\n",
    "From the metrics field, select **All EC2 Instance metrics**. In the **from** field, select **InstanceId** and subsequently **InstanceId: All values (*)**. All the metrics for all the EC2 instances will then be displayed in the explorer. Notice that you also have the option to split the metrics into each instance using the **Split by** field. For each metric, you can also add all to a dashboard using the **Add to dashboard** button or by clicking the three dots (top-right corner of the metric page). It is possible to add individual metrics to a dashboard. The explorer provides a good overview of all metrics for a resource group, affording good insights into the health of that group. \n",
    "\n",
    "This can be useful when there are different stages for the resources. You might have production and development stages. Thus, if all the resources were tagged accordingly during creation, they can be filtered by **production** or **development** to obtain a general overview of each stage. More information regarding the use of the metrics explorer can be found [here](https://docs.aws.amazon.com/AmazonCloudWatch/latest/monitoring/CloudWatch-Metrics-Explorer.html).\n",
    "\n",
    "<img src=\"images/metrics_explorer.png?modified=1142178\"/>\n"
   ]
  },
  {
   "cell_type": "markdown",
   "metadata": {},
   "source": [
    "### Metric streams\n",
    "\n",
    "Metric streams enable the creation of near real-time streaming of metrics to an S3 bucket or an AWS Kinesis Data Firehose. This allows you to load data directly into data lakes, data stores or analytics services in real-time. AWS firehose scales with the throughput of your data and requires no additional administration. It can batch, compress/transform and encrypt the data stream before it is loaded into your service, thereby minimising data-storage costs. \n",
    "\n",
    "From the **streams** pane, select the resource group you wish to stream or all metrics, and select whether you wish the metrics streamed to S3 or a FireHose. For more information about metric streaming, consult the docs [here](https://docs.aws.amazon.com/AmazonCloudWatch/latest/monitoring/CloudWatch-Metric-Streams.html)."
   ]
  },
  {
   "cell_type": "markdown",
   "metadata": {},
   "source": [
    "## Events\n",
    "\n",
    "> CloudWatch events are an almost real-time stream of system events, which describe the changes in AWS. When a specific event occurs, a rule can be set to automate the handling of that event with a target function or AWS, allowing the automation of tasks."
   ]
  },
  {
   "cell_type": "markdown",
   "metadata": {},
   "source": [
    "### Event concepts\n",
    "\n",
    "* **Events:** Events are changes to the AWS environment. AWS services generate events when there is a state change, e.g. an EC2 instance stopping, a lambda function running or a call to an API gateway failing.\n",
    "* **Rules:** A rule is matched to an AWS event. When this event occurs, the rule will invoke a target service or command to process the event.\n",
    "* **Targets:** The target is the service or command that the rule will invoke to process the event."
   ]
  },
  {
   "cell_type": "markdown",
   "metadata": {},
   "source": [
    "Click on **Events** on the AWS CloudWatch dashboard, and navigate to **Rules > Create rule**. Here, we will create a rule that will relaunch the AWS EC2 instances in the event that they stop. Configure the rule as shown in the image below. You will need to go to EC2 in AWS to obtain the ID of the specific EC2 instance you wish to restart.\n",
    "\n",
    "<img src=\"images/events_config.png?modified=21785463756343\"/>"
   ]
  },
  {
   "cell_type": "markdown",
   "metadata": {},
   "source": [
    "Once completed, finish creating the rule by clicking on the **configure rules** button. Provide a description and name, and ensure that its state is enabled. Now, since events are run in near real-time, stop the EC2 instance defined in the rule and verify that the instance restarts successfully without any intervention. Notably, events are created to suit the requirements of teams and organisations. They are highly customisable for many services and flexible in their use. For more information on configuring events, consult the documentation [here](https://docs.aws.amazon.com/AmazonCloudWatch/latest/events/WhatIsCloudWatchEvents.html)."
   ]
  },
  {
   "cell_type": "markdown",
   "metadata": {},
   "source": [
    "## Conclusion\n",
    "At this point, you should have a good understanding of \n",
    "\n",
    "* how to create custom dashboards to track your AWS logs, metrics and alarms in a centralised location.\n",
    "* how to configure rules to automate an action when a specific AWS event is triggered.\n",
    "* how to configure the metrics explorer to view multiple resources at once and export them to the dashboard or a CSV/Markdown file.\n",
    "* how to view logs and create custom queries for your AWS and add them to the dashboard.\n",
    "* how to configure alarms for your service and view their status, as well as send the status report to your email. "
   ]
  }
 ],
 "metadata": {
  "kernelspec": {
   "display_name": "Python 3.9.0 64-bit",
   "language": "python",
   "name": "python3"
  },
  "language_info": {
   "name": "python",
   "version": "3.9.0"
  },
  "orig_nbformat": 4,
  "vscode": {
   "interpreter": {
    "hash": "aee8b7b246df8f9039afb4144a1f6fd8d2ca17a180786b69acc140d282b71a49"
   }
  }
 },
 "nbformat": 4,
 "nbformat_minor": 2
}
