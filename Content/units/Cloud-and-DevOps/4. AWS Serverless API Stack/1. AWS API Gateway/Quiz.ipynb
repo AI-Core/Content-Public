{
 "cells": [
  {
   "attachments": {},
   "cell_type": "markdown",
   "metadata": {},
   "source": [
    "# API Gateway"
   ]
  },
  {
   "attachments": {},
   "cell_type": "markdown",
   "metadata": {},
   "source": [
    "## What is AWS API Gateway?\n",
    "\n",
    "- A tool for creating and managing APIs ***\n",
    "- A service for managing microservices architecture\n",
    "- A database service for managing API data\n",
    "- A tool for monitoring API performance"
   ]
  },
  {
   "attachments": {},
   "cell_type": "markdown",
   "metadata": {},
   "source": [
    "## What types of APIs can you create in AWS API Gateway?\n",
    "\n",
    "- REST and WebSocket APIs only\n",
    "- REST and HTTP APIs only\n",
    "- REST, WebSocket, HTTP, and GraphQL APIs\n",
    "- REST, HTTP and WebSocket APIs only ***"
   ]
  },
  {
   "attachments": {},
   "cell_type": "markdown",
   "metadata": {},
   "source": [
    "## What are the steps to create a REST API in the AWS API Gateway console?\n",
    "\n",
    "- Create a new API, define resources and methods, configure integration with backend services, and deploy the API ***\n",
    "- Define resources and methods, create a new API, configure integration with backend services, and deploy the API\n",
    "- Create a new API, configure integration with backend services, define resources and methods, and deploy the API\n",
    "- Deploy the API, create a new API, define resources and methods, and configure integration with backend services"
   ]
  },
  {
   "attachments": {},
   "cell_type": "markdown",
   "metadata": {},
   "source": [
    "## What is the difference between regional, edge-optimized, and private endpoints in AWS API Gateway?\n",
    "\n",
    "- Regional endpoints are deployed in a single AWS region, edge-optimized endpoints use Amazon CloudFront for caching, and private endpoints are only accessible from within a VPC ***\n",
    "- Regional endpoints are accessible from any location, edge-optimized endpoints are only accessible from within a VPC, and private endpoints use Amazon CloudFront for caching\n",
    "- Regional endpoints use Amazon CloudFront for caching, edge-optimized endpoints are deployed in a single AWS region, and private endpoints are accessible from any location\n",
    "- Regional endpoints are only accessible from within a VPC, edge-optimized endpoints use Amazon CloudFront for caching, and private endpoints are deployed in a single AWS region"
   ]
  },
  {
   "attachments": {},
   "cell_type": "markdown",
   "metadata": {},
   "source": [
    "## What is a proxy resource in AWS API Gateway?\n",
    "\n",
    "- A resource that is used to handle incoming requests that don't match any defined resource in the API ***\n",
    "- A resource that is used to handle all incoming requests to the API and forward them to the appropriate backend integration\n",
    "- A resource that is used to cache the responses from the backend integrations to improve API performance\n",
    "- A resource that is used to authenticate and authorize incoming requests to the API"
   ]
  },
  {
   "attachments": {},
   "cell_type": "markdown",
   "metadata": {},
   "source": [
    "## What is a proxy integration in AWS API Gateway?\n",
    "\n",
    "- An integration type that allows API Gateway to forward incoming requests to an HTTP or HTTPS endpoint without mapping the request to a specific resource ***\n",
    "- An integration type that allows API Gateway to call an AWS Lambda function to handle incoming requests to the API\n",
    "- An integration type that allows API Gateway to call a backend service hosted on EC2 instances or on-premises servers\n",
    "- An integration type that allows API Gateway to cache the responses from the backend integrations to improve API performance"
   ]
  },
  {
   "attachments": {},
   "cell_type": "markdown",
   "metadata": {},
   "source": [
    "## What types of integrations are available in AWS API Gateway?\n",
    "\n",
    "- HTTP/HTTPS, AWS Lambda, AWS Step Functions, and AWS Service integrations ***\n",
    "- HTTP/HTTPS, AWS Lambda, and AWS SNS integrations\n",
    "- HTTP/HTTPS, AWS Lambda, and AWS DynamoDB integrations\n",
    "- HTTP/HTTPS, AWS Lambda, and AWS S3 integrations\n",
    "\n"
   ]
  },
  {
   "attachments": {},
   "cell_type": "markdown",
   "metadata": {},
   "source": [
    "## What is the purpose of the deployment stage in AWS API Gateway?\n",
    "\n",
    "- To create a snapshot of the API configuration and associated resources at a specific point in time\n",
    "- To deploy the API to a specific environment, such as a development, staging, or production environment ***\n",
    "- To test the API before making it publicly available to API consumers\n",
    "- To configure the access control policies and permissions for the API resources\n",
    "\n"
   ]
  }
 ],
 "metadata": {
  "language_info": {
   "name": "python"
  },
  "orig_nbformat": 4
 },
 "nbformat": 4,
 "nbformat_minor": 2
}
