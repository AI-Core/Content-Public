{
 "cells": [
  {
   "cell_type": "markdown",
   "metadata": {},
   "source": [
    "# AWS API Gateway\n",
    "\n",
    "<p align=center><a href=https://aws.amazon.com/api-gateway><img src=images/API_Gateway_Logo.png width=250></a></p>"
   ]
  },
  {
   "attachments": {},
   "cell_type": "markdown",
   "metadata": {},
   "source": [
    "## Introduction\n",
    "*Amazon API Gateway* is an AWS service that allows the creation, maintenance and securing of scalable *REST*, *HTTP* and *Websocket* APIs. APIs can be created to access AWS services and other web services or data stored in the AWS Cloud. As a developer, you can use the service to create APIs that serve your client's applications or that are available to third-party app developers."
   ]
  },
  {
   "cell_type": "markdown",
   "metadata": {},
   "source": [
    "## Types of APIs\n",
    "\n",
    "* **REST APIs** are the de facto standard for client-server communication. Although REST APIs have a higher latency rate than HTTP APIs, they have full endpoint support, supporting edge-optimised, regional and private endpoints. They also support endpoint caching and response validation, unlike HTTP APIs.<br>\n",
    " \n",
    "* **HTTP APIs** were created to be the version of REST APIs that offers relatively low latency rates and cost implementation. Amazon created this API in 2019 and reported that it can offer up to a 60% reduction in latency. However, it does not offer as many features as REST APIs, and it only has regional endpoint support on AWS.<br>\n",
    " \n",
    "* **Websocket APIs** allow full-duplex communication between client and server. Simply put, communication can be initiated in both directions. The client can send requests to the server AND the server can send requests to the client. They can be used to create real-time applications, such as messaging applications, where the server might send you a notification, and you might send it a message for a friend.\n",
    "\n",
    "The full breakdown of the differences between HTTP APIs and REST APIs by AWS can be found [here](https://docs.aws.amazon.com/apigateway/latest/developerguide/http-api-vs-rest.html).\n",
    "\n"
   ]
  },
  {
   "attachments": {},
   "cell_type": "markdown",
   "metadata": {},
   "source": [
    "## Creating an AWS Gateway REST API\n",
    "\n",
    "Upon opening the AWS API Gateway from the AWS Services dashboard, you will be met with this landing page: \n",
    "\n",
    "<p align=\"center\">\n",
    "    <img src=\"images/API Gateway Console.png\" width=\"800\"/>\n",
    "</p>\n",
    "\n",
    "\n",
    "After selecting **Create API**, you can chose the type of API you want to build (HTTP, REST or WebSocket) or import your externally developed API. \n",
    "\n",
    "<p align=\"center\">\n",
    "    <img src=\"images/APIs Types.png\" height=\"400\" width=\"550\"/>\n",
    "</p>\n",
    "\n",
    "\n",
    "For this example, we will be building a new REST API. Select **Build** from the REST API option to create a new REST API. \n",
    "\n",
    "Under **Choose the protocol** select REST API, and under **Create new API** select New API. Name the API, and provide a description. Subsequently, you will be required to select the **Endpoint type** for the API.\n",
    "\n",
    "<p align=\"center\">\n",
    "    <img src=\"images/Create API.png\" width=\"700\" height=\"400\"/>\n",
    "</p>"
   ]
  },
  {
   "attachments": {},
   "cell_type": "markdown",
   "metadata": {},
   "source": [
    "## API endpoint types\n",
    "\n",
    "* **Regional:** For APIs that are only available in the specific AWS region for which the API was created\n",
    "* **Edge optimised:** For APIs to be deployed to the AWS Cloudfront\n",
    "* **Private:** For APIs that are only available through a configured VPC endpoint\n",
    "\n",
    "More details on API endpoints can be found in the AWS documentation [here](https://docs.aws.amazon.com/apigateway/latest/developerguide/api-gateway-api-endpoint-types.html).\n",
    "\n",
    "In our case, a regional API will suffice. Once selected, create the API by clicking the Create API button."
   ]
  },
  {
   "attachments": {},
   "cell_type": "markdown",
   "metadata": {},
   "source": [
    "After creating your API, you will be met with the main dashboard, where you can begin to build the API. The sidebar on the left-hand side provides many options for creating your API. We will focus on the main areas:\n",
    "\n",
    "* **Resources:** Collection of resources and methods, such as HTTP endpoints, lambda functions or AWS services, which can interact with the API\n",
    "* **Stages:** Create staging areas (e.g. pre-deployment and post-deployment areas) for testing the gateway before serving the API to the end-user\n",
    "* **Authorizers:** Use a lambda function or Amazon cognito user pool to control which users have access to your gateway\n",
    "* **Models:** Define the structure of the incoming payload between the client and server\n",
    "* **Gateway Responses:** Configure the common gateway responses, e.g. access denied, default 4XX, bad request body in the case of the gateway failing, etc.\n",
    "* **Resource Policy:** Configure access control to the API with IAM conditions or VPC endpoints\n",
    "* **Documentation:** Add documentation so that users of your API can understand how it is used<br></br>\n",
    "  \n",
    "\n",
    "<p align=\"center\">\n",
    "    <img src=\"images/API Methods.png\" width=\"800\" height=\"450\"/>\n",
    "</p>"
   ]
  },
  {
   "attachments": {},
   "cell_type": "markdown",
   "metadata": {},
   "source": [
    "## API Resources\n",
    "\n",
    "On the **Actions** dropdown list, you will be presented with the various options for creating resources and methods:\n",
    "\n",
    "* **Create Method:** The methods are the same methods you would find in any other REST API, such as GET, POST, PUSH, etc.\n",
    "* **Create Resource:** Define a new API resource that we can assign methods to operate on \n",
    "* **Enable Cross-Origin Resource Sharing (CORS):** CORS sharing allows you to define how resources in another domain might interact securely with your API gateway. More details can be found [here](https://docs.aws.amazon.com/AmazonS3/latest/userguide/cors.html). <br></br>\n",
    "\n",
    "\n",
    "<p align=\"center\">\n",
    "    <img src=\"images/Create Resource.png\" width=\"800\" height=\"450\"/>\n",
    "</p>"
   ]
  },
  {
   "attachments": {},
   "cell_type": "markdown",
   "metadata": {},
   "source": [
    "We will create a new child resource for our API. Select **Configure as proxy resource**. For **Resource Name** enter `proxy` and for **Resource Path** enter `/{proxy+}`. Finally, select **Enable API Gateway CORS** and choose **Create Resource**.\n",
    "\n",
    "<p align=\"center\">\n",
    "    <img src=\"images/New Child Resource.png\" width=\"750\" height=\"350\"/>\n",
    "</p>\n",
    "\n",
    "After you create the resource, the **Create Method** window will open up. To use a method, you need to 'integrate' it with an endpoint on the backend. These endpoints can be an integration, such as an HTTP endpoint, lambda function or AWS service. Below are the types of integrations available:\n",
    "\n",
    "* **Lambda function:** Integrate your service with an AWS lambda function.\n",
    "* **HTTP:** Enable your API to communicate with an HTTP-endpoint backend.\n",
    "* **Mock:** Allow the API to return a response without sending the backend; useful for testing your API.\n",
    "* **AWS Service:** Integrate your API with an AWS service.\n",
    "* **VPC Link:** Integrate your API with a VPC link, allowing you to connect your API to private resources.\n",
    "\n",
    "Detailed information on the types of integrations can be found in the AWS docs [here](https://docs.aws.amazon.com/apigateway/latest/developerguide/api-gateway-api-integration-types.html)."
   ]
  },
  {
   "cell_type": "markdown",
   "metadata": {},
   "source": [
    "## Proxy Integrations\n",
    "\n",
    "When creating your integration, you will have the option of creating it as a proxy integration. Proxy integrations provide the selected integration access to many resources and features at once, without specifying multiple resource paths using the greedy parameter, **{proxy+}**. For instance, consider that your API has the resource paths:\n",
    "\n",
    "> - **car/{type}/{subtype}/{parts}**\n",
    "> - **car/{type}/{subtype}/{colour}**\n",
    "> - **car/{type}/{subtype}/{colour}/{cost}**\n",
    "\n",
    "As your API grows, it can be very tedious to specify these paths individually for your integration when you enable access to all available resources. By creating a proxy resource with the **{proxy+}** parameter and the **ANY** method, you can provide your integration with access to all available resources. A more detailed explanation of proxy integrations can be found [here](https://docs.aws.amazon.com/apigateway/latest/developerguide/set-up-lambda-proxy-integrations.html). \n"
   ]
  },
  {
   "attachments": {},
   "cell_type": "markdown",
   "metadata": {},
   "source": [
    "Once the integration is created and configured, you will be to access the **Method Execution** screen by selecting **OPTIONS** under our `/{proxy+}`. The Method Execution panel shows the execution order of the methods and allows you to test the method. There are four main steps when processing the request and response.\n",
    "\n",
    "* **Method Request:** This step is used to configure security settings (API keys, authorization, validation), query-string parameters and request headers.\n",
    "* **Integration Request:** At this step, the gateway makes a request to the integration, passing along the request data and transforming it, if necessary.\n",
    "* **Integration Response:** Here the result is returned from the backend. Afterwards, the results are transformed if required, and sent to the method response. \n",
    "* **Method Response:** The method response contains the output of the API, which will be served to the user. Usually, the output contains the HTTP status code, headers and a body.\n",
    "\n",
    "You can read more about responses and request-data mapping [here](https://docs.aws.amazon.com/apigateway/latest/developerguide/request-response-data-mappings.html). \n",
    "\n",
    "<p align=\"center\">\n",
    "    <img src=\"images/Method Execution.png\" width=\"600\" height=\"300\"/>\n",
    "</p>"
   ]
  },
  {
   "attachments": {},
   "cell_type": "markdown",
   "metadata": {},
   "source": [
    "## Deploy API\n",
    "\n",
    "From drop-down **Actions** menu select **Deploy API**. For **Deploymnet stage**, choose New Stage. For **Stage name** enter the desired stage name(for example dev, test or production). Finally choose **Deploy**.\n",
    "\n",
    "<p align=\"center\">\n",
    "    <img src=\"images/Deploy API.png\" width=\"400\" height=\"300\"/>\n",
    "</p>\n",
    "\n",
    "Make note of the **Invoke URL** after deploying the API. Your external URL will look like: \n",
    "\n",
    "`https://YourAPIInvokeURL/test/` \n"
   ]
  },
  {
   "attachments": {},
   "cell_type": "markdown",
   "metadata": {},
   "source": [
    "## API Repsonses in Python\n",
    "\n",
    "Now we can use the Python requests library to test the API and obtain a response. To do this, you will have to send `POST` requests to your **Invoke URL** with the desired data."
   ]
  },
  {
   "attachments": {},
   "cell_type": "markdown",
   "metadata": {},
   "source": [
    "To see whether the request was successfully processed we can `print(response.status_code)`, which should return a status 200, indicating success."
   ]
  },
  {
   "attachments": {},
   "cell_type": "markdown",
   "metadata": {},
   "source": [
    "## Conclusion\n",
    "At this point, you should have a good understanding of:\n",
    "\n",
    "* The different types of APIs available from API Gateway\n",
    "* The different types of methods we can create and the available integrations from API Gateway\n",
    "* The difference between responses and requests\n",
    "* The difference between methods and resources\n",
    "* How to configure different types of API methods and the role of each method\n"
   ]
  }
 ],
 "metadata": {
  "kernelspec": {
   "display_name": "Python 3",
   "language": "python",
   "name": "python3"
  },
  "language_info": {
   "name": "python",
   "version": "3.9.2 (default, Mar  3 2021, 11:58:52) \n[Clang 10.0.0 ]"
  },
  "vscode": {
   "interpreter": {
    "hash": "1d25a140d753dbbce5959f3e993c340d725ba39c38e4259359e51030082d2593"
   }
  }
 },
 "nbformat": 4,
 "nbformat_minor": 2
}
