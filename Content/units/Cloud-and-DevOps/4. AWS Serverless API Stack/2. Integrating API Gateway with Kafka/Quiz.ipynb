{
 "cells": [
  {
   "attachments": {},
   "cell_type": "markdown",
   "metadata": {},
   "source": [
    "# Integrating API Gateway with Kafka"
   ]
  },
  {
   "attachments": {},
   "cell_type": "markdown",
   "metadata": {},
   "source": [
    "## Which of the following is NOT a recommended step for building a Kafka REST Proxy integration in an API gateway?\n",
    "\n",
    "- Ensure the API gateway has access to the Kafka cluster\n",
    "- Create a REST API endpoint in the API gateway that maps to a Kafka topic\n",
    "- Configure the API gateway to use the Kafka REST Proxy URL as the endpoint for the Kafka topic\n",
    "- Integrate the Kafka REST Proxy directly into the API gateway server without any additional configuration ***"
   ]
  },
  {
   "attachments": {},
   "cell_type": "markdown",
   "metadata": {},
   "source": [
    "## What is the purpose of the endpoint for a Kafka REST Proxy integration in an API gateway?\n",
    "\n",
    "- To provide a standardized HTTP interface for communication between RESTful APIs and Kafka topics ***\n",
    "- To authenticate and authorize requests to the Kafka cluster\n",
    "- To optimize message delivery latency between RESTful APIs and Kafka topics\n",
    "- To increase the throughput of message processing between RESTful APIs and Kafka topics\n",
    "\n"
   ]
  },
  {
   "attachments": {},
   "cell_type": "markdown",
   "metadata": {},
   "source": [
    "## What is the Confluent package for Kafka REST Proxy?\n",
    "\n",
    "- A standalone server that provides a RESTful interface for communication with Kafka\n",
    "- A collection of libraries and tools for working with Kafka, including a REST Proxy ***\n",
    "- A software development kit for building RESTful APIs that integrate with Kafka\n",
    "- A cloud-based platform for managing Kafka clusters and RESTful API integrations"
   ]
  },
  {
   "attachments": {},
   "cell_type": "markdown",
   "metadata": {},
   "source": [
    "## What command is used to start the Kafka REST Proxy?\n",
    "\n",
    "- `kafka-rest-start` ***\n",
    "- `kafka-server-start`\n",
    "- `kafka-rest-proxy`\n",
    "- `kafka-proxy-start`\n"
   ]
  }
 ],
 "metadata": {
  "kernelspec": {
   "display_name": "base",
   "language": "python",
   "name": "python3"
  },
  "language_info": {
   "name": "python",
   "version": "3.10.9"
  },
  "orig_nbformat": 4,
  "vscode": {
   "interpreter": {
    "hash": "a2592652612463181e69ac003232387e3e9a99279aa6b168e76f5df16d5110f4"
   }
  }
 },
 "nbformat": 4,
 "nbformat_minor": 2
}
