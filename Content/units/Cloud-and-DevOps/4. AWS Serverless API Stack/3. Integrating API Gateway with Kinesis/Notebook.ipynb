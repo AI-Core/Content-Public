{
 "cells": [
  {
   "attachments": {},
   "cell_type": "markdown",
   "metadata": {},
   "source": [
    "# Integrating AWS API Gateway with AWS Kinesis"
   ]
  },
  {
   "attachments": {},
   "cell_type": "markdown",
   "metadata": {},
   "source": [
    "## Introduction\n",
    "\n",
    "In this lesson you will learn to create and configure a REST API with an Amazon Kinesis proxy integration. We will build this integration, on the previously created REST API with Kafka REST proxy integration (see AWS API Gateway lesson).\n"
   ]
  },
  {
   "attachments": {},
   "cell_type": "markdown",
   "metadata": {},
   "source": [
    "## Create an IAM role for API access to Kinesis\n",
    "    \n",
    "To allow the API to invoke Kinesis actions, you must have appropriate IAM policies attached to an IAM role. To enable full access to Kinesis, you can create an IAM role in the IAM console that assumes the **AmazonKinesisFullAccessRole** policy. This will enable both read-write actions in Kinesis.\n",
    "    \n",
    "Make sure API Gateway is a trusted entity of the role and has assumed the execution role **sts:AssumRole**. The trust relationships of this role should look like the one below:\n",
    "\n",
    "<p align=\"center\">\n",
    "    <img src=\"images/Kinesis Role.png\" width=\"800\" height=\"300\"/>\n",
    "</p>"
   ]
  },
  {
   "attachments": {},
   "cell_type": "markdown",
   "metadata": {},
   "source": [
    "## List streams in Kinesis\n",
    "\n",
    "To begin building our integration navigate to the **Resources** tab of the previously created API. Use the **Create resource** button to start provisioning a new resource:\n",
    "\n",
    "<p align=\"center\">\n",
    "    <img src=\"images/Create Resources 2.png\" width=\"800\" height=\"450\"/>\n",
    "</p>\n",
    "\n",
    "Under **Resource Name**, type **streams**. Leave the rest as default and then click the **Create resource** button."
   ]
  },
  {
   "attachments": {},
   "cell_type": "markdown",
   "metadata": {},
   "source": [
    "Choose the created **streams** resource, and then select the **Create method** button. Select `GET` as the method type.\n",
    "\n",
    "In the **Create method** page you will need to define the following:\n",
    "\n",
    "- For **Integration type** select **AWS Service**\n",
    "- For **AWS Region** choose *us-east-1*\n",
    "- For **AWS Service** select **Kinesis**,\n",
    "- For **HTTP method** select `POST` (as we will have to invoke Kinesis's `ListStreams` action)\n",
    "- For **Action Type** select **User action name**\n",
    "- For **Action name** type `ListStreams`\n",
    "- For **Execution role** you should copy the ARN of your Kinesis Access Role (created in the previous section)\n",
    "\n",
    "<p align=\"center\">\n",
    "    <img src=\"images/List Stream Setup 2.png\" width=\"600\" height=\"450\"/>\n",
    "</p>\n",
    "\n",
    "Finally, click **Create method** to finalize provisioning this method."
   ]
  },
  {
   "attachments": {},
   "cell_type": "markdown",
   "metadata": {},
   "source": [
    "This will redirect you to the **Method Execution** page. From here select the **Integration request** panel, click on the **Edit** button at the bottom of the page. This should redirect you to the following page:\n",
    "\n",
    "<p align=\"center\">\n",
    "    <img src=\"images/Edit Integration Request.png\" width=\"650\" height=\"450\"/>\n",
    "</p>\n",
    "\n",
    "Expand the **URL request headers parameters** panel and select the following options:\n",
    "\n",
    "- Under **Name** type **Content-Type**\n",
    "- Under **Mapped form** type **'application/x-amz-json-1.1'**\n",
    "- Click the **Add request header parameter** button\n",
    "\n",
    "<p align=\"center\">\n",
    "    <img src=\"images/Add Header Parameter.png\" width=\"800\" height=\"200\"/>\n",
    "</p>\n",
    "   \n",
    "Expand the **Mapping Templates** panel and select the following options:\n",
    "\n",
    "- Choose **Add mapping template** button\n",
    "- Under **Content-Type** type **application/json**\n",
    "- Under **Template body** type `{}` in the template editor\n",
    "\n",
    "<p align=\"center\">\n",
    "    <img src=\"images/List Streams Mapping Templates 2.png\" width=\"700\" height=\"400\"/>\n",
    "</p>\n",
    "    \n",
    "Click on the **Save** button to save the changes.\n"
   ]
  },
  {
   "attachments": {},
   "cell_type": "markdown",
   "metadata": {},
   "source": [
    "## Create, describe and delete streams in Kinesis\n",
    "\n",
    "Under the `streams` resource create a new child resource with the **Resource name** `{stream-name}`. After creating this your **Resources** should look like this:\n",
    "\n",
    "<p align=\"center\">\n",
    "    <img src=\"images/Strea Name 2.png\" width=\"350\" height=\"550\"/>\n",
    "</p>\n",
    "\n",
    "Create the following three **Methods** for `{stream-name}` resource: `POST`, `GET` and `DELETE`.\n",
    "\n",
    "### Setting up the `GET` method.\n",
    "\n",
    "1. In the **Create method** page you will need to define the following:\n",
    "\n",
    "- For **Integration type** select **AWS Service**\n",
    "- For **AWS Region** choose us-east-1\n",
    "- For **AWS Service** select **Kinesis**\n",
    "- For **HTTP method** select `POST` \n",
    "- For **Action Type** select **User action name**\n",
    "- For **Action name** type `DescribeStream`\n",
    "- For **Execution role** you should use the same ARN as in the previous step\n",
    "\n",
    "Finally, click **Create method**. This will redirect you to the **Method Execution** page.\n",
    "\n",
    "2. From here select the **Integration Request** panel, and then **Edit**. Expand the **URL request headers parameters** panel and select the following options:\n",
    "\n",
    "- Click on the **Add request header parameter** button\n",
    "- Under **Name** type **Content-Type**\n",
    "- Under **Mapped form** type **'application/x-amz-json-1.1'**\n",
    "\n",
    "3. Expand the **Mapping Ttemplates** panel and select the following options:\n",
    "\n",
    "- Click on the **Add mapping template** button\n",
    "- Under **Cotent-Type** type **application/json**\n",
    "- In the **Template body** include the following:"
   ]
  },
  {
   "cell_type": "code",
   "execution_count": null,
   "metadata": {
    "vscode": {
     "languageId": "bat"
    }
   },
   "outputs": [],
   "source": [
    "{\n",
    "    \"StreamName\": \"$input.params('stream-name')\"\n",
    "}"
   ]
  },
  {
   "cell_type": "markdown",
   "metadata": {},
   "source": [
    "This template is designed to construct an input payload for sending data to an AWS Kinesis stream. It expects the client to provide the `stream-name` as a parameter in the API request, and it uses this parameter to populate the `StreamName` field in the output payload.\n",
    "\n",
    "Here's a step-by-step explanation:\n",
    "\n",
    "- The `$input` variable represents the entire input payload received by the API Gateway\n",
    "\n",
    "- The `params('stream-name')` function is used to retrieve the value of the `stream-name` parameter from the API request. This parameter should have been defined in the API's method request configuration, either as a query parameter, path parameter, or header parameter.\n",
    "\n",
    "- The retrieved value of the `stream-name` parameter is then used to populate the `StreamName` field in the output payload\n",
    "\n",
    "Let's see an example of how this mapping template would work with an API request. The API request would look like this `POST /some-resource?stream-name=my-kinesis-stream`, and the mapping template output would look like this:"
   ]
  },
  {
   "cell_type": "code",
   "execution_count": null,
   "metadata": {
    "vscode": {
     "languageId": "bat"
    }
   },
   "outputs": [],
   "source": [
    "{\n",
    "    \"StreamName\": \"my-kinesis-stream\"\n",
    "}"
   ]
  },
  {
   "attachments": {},
   "cell_type": "markdown",
   "metadata": {},
   "source": [
    "Finally, choose the **Save** button to these changes.\n"
   ]
  },
  {
   "attachments": {},
   "cell_type": "markdown",
   "metadata": {},
   "source": [
    "### Setting up the `POST` method.\n",
    "\n",
    "Follow step 1 from **Setting up the GET method** section but in the **Action name** section type `CreateStream`. For setting up the **URL request headers parameters** section follow step 2.\n",
    "\n",
    "For setting up the **Mapping Templates** panel follow step 3 instruction, but add the following mapping template in the template body instead:"
   ]
  },
  {
   "cell_type": "code",
   "execution_count": null,
   "metadata": {
    "vscode": {
     "languageId": "bat"
    }
   },
   "outputs": [],
   "source": [
    "{\n",
    "    \"ShardCount\": #if($input.path('$.ShardCount') == '') 5 #else $input.path('$.ShardCount') #end,\n",
    "    \"StreamName\": \"$input.params('stream-name')\"\n",
    "}"
   ]
  },
  {
   "cell_type": "markdown",
   "metadata": {},
   "source": [
    "Let's breakdown this more complex mapping template:\n",
    "\n",
    "- `\"ShardCount\":`: This is the key for the field that will hold the value of the shard count in the output payload\n",
    "\n",
    "- `#if($input.path('$.ShardCount') == '')`: This is a conditional statement that checks whether the `\"ShardCount\"` field is empty in the input payload\n",
    "\n",
    "- `5`: This is the default value to be used for `\"ShardCount\"` in case the input payload doesn't have a value for it. In this example, if the `\"ShardCount\"` field is empty, it will be set to 5.\n",
    "\n",
    "- `#else $input.path('$.ShardCount')`: If the `\"ShardCount\"` field is not empty in the input payload, this part of the conditional statement will be executed. It retrieves the value of `\"ShardCount\"` from the input payload using the `$input.path()` function.\n",
    "\n",
    "- `\"StreamName\": \"$input.params('stream-name')\"`: This is similar to what we discussed in the previous example. It sets the `\"StreamName\"` field in the output payload by retrieving the value of the `\"stream-name\"` parameter from the API request.\n",
    "\n",
    "To summarize, this mapping template does the following:\n",
    "\n",
    "- If the input payload contains a non-empty `\"ShardCount\"` field, it sets the `\"ShardCount\"` field in the output payload to the same value\n",
    "\n",
    "- If the input payload does not contain a `\"ShardCount\"` field or if it is empty, it sets the `\"ShardCount\"` field in the output payload to a default value of 5\n",
    "\n",
    "- It sets the `\"StreamName\"` field in the output payload based on the value of the `\"stream-name\"` parameter provided in the API request"
   ]
  },
  {
   "attachments": {},
   "cell_type": "markdown",
   "metadata": {},
   "source": [
    "Here's an example of how this template would work for an input payload:"
   ]
  },
  {
   "cell_type": "code",
   "execution_count": null,
   "metadata": {
    "vscode": {
     "languageId": "bat"
    }
   },
   "outputs": [],
   "source": [
    "Input Payload:\n",
    "{\n",
    "    \"ShardCount\": 10\n",
    "}"
   ]
  },
  {
   "cell_type": "markdown",
   "metadata": {},
   "source": [
    "And the output payload would look like this:"
   ]
  },
  {
   "cell_type": "code",
   "execution_count": null,
   "metadata": {
    "vscode": {
     "languageId": "bat"
    }
   },
   "outputs": [],
   "source": [
    "{\n",
    "    \"ShardCount\": 10,\n",
    "    \"StreamName\": \"my-kinesis-stream\"\n",
    "}"
   ]
  },
  {
   "cell_type": "markdown",
   "metadata": {},
   "source": [
    "Or in the case we have an input payload that does not contain `ShardCount`:"
   ]
  },
  {
   "cell_type": "code",
   "execution_count": null,
   "metadata": {
    "vscode": {
     "languageId": "bat"
    }
   },
   "outputs": [],
   "source": [
    "Input Payload:\n",
    "{\n",
    "    \"SomeOtherField\": \"some value\"\n",
    "}"
   ]
  },
  {
   "cell_type": "markdown",
   "metadata": {},
   "source": [
    "The output payload will look like this:"
   ]
  },
  {
   "cell_type": "code",
   "execution_count": null,
   "metadata": {
    "vscode": {
     "languageId": "bat"
    }
   },
   "outputs": [],
   "source": [
    "{\n",
    "    \"ShardCount\": 5,\n",
    "    \"StreamName\": \"my-kinesis-stream\"\n",
    "}"
   ]
  },
  {
   "attachments": {},
   "cell_type": "markdown",
   "metadata": {},
   "source": [
    "### Setting up the `DELETE` method.\n",
    "\n",
    "Follow step 1 from **Setting up the GET method** section but in the **Action* name** section type `DeleteStream`. For setting up the **URL request headers parameters** section follow step 2.\n",
    "\n",
    "For setting up the **Mapping Templates** panel follow step 3 instruction, but add the following mapping template in the template body instead:"
   ]
  },
  {
   "cell_type": "code",
   "execution_count": null,
   "metadata": {
    "vscode": {
     "languageId": "bat"
    }
   },
   "outputs": [],
   "source": [
    "{\n",
    "    \"StreamName\": \"$input.params('stream-name')\"\n",
    "}"
   ]
  },
  {
   "attachments": {},
   "cell_type": "markdown",
   "metadata": {},
   "source": [
    "## Add records to streams in Kinesis\n",
    "\n",
    "Under the `{stream-name}` resource create a two new child resources with the **Resource Name**, `record` and `records`. For both resources create a `PUT` method. \n",
    "\n",
    "### Setting up the **record** `PUT` method\n",
    "\n",
    "Follow step 1 from **Setting up the GET method** section but in the **Action name** section type `PutRecord`. For setting up the **URL request headers parameters** section follow step 2.\n",
    "\n",
    "For setting up the **Mapping Templates** panel follow step 3 instruction, but add the following mapping template in the template body instead:"
   ]
  },
  {
   "cell_type": "code",
   "execution_count": null,
   "metadata": {
    "vscode": {
     "languageId": "bat"
    }
   },
   "outputs": [],
   "source": [
    "{\n",
    "    \"StreamName\": \"$input.params('stream-name')\",\n",
    "    \"Data\": \"$util.base64Encode($input.json('$.Data'))\",\n",
    "    \"PartitionKey\": \"$input.path('$.PartitionKey')\"\n",
    "}"
   ]
  },
  {
   "cell_type": "markdown",
   "metadata": {},
   "source": [
    "This mapping template is used to transform an API request payload into the format required for writing a single record to an AWS Kinesis stream. Let's go through it step by step:\n",
    "\n",
    "- `\"StreamName\": \"$input.params('stream-name')\"`: This sets the `\"StreamName\"` field in the output payload to the value of the `\"stream-name\"` parameter provided in the API request. This part is similar to previous examples.\n",
    "\n",
    "- `\"Data\": \"$util.base64Encode($input.json('$.Data'))\"`: This line sets the `\"Data\"` field in the output payload. It uses the `$input.json()` function to retrieve the value of the `\"Data\"` field from the input payload. The value is then encoded in Base64 format using the `$util.base64Encode()` function. Kinesis requires the data to be in Base64 format when writing records.\n",
    "\n",
    "- `\"PartitionKey\": \"$input.path('$.PartitionKey')\"`: This line sets the `\"PartitionKey\"` field in the output payload. It uses the `$input.path()` function to retrieve the value of the `\"PartitionKey\"` field from the input payload.\n",
    "\n",
    "To summarize, this mapping template does the following:\n",
    "\n",
    "- It sets the `\"StreamName\"` field in the output payload based on the value of the `\"stream-name\"` parameter provided in the API request\n",
    "\n",
    "- It retrieves the value of the `\"Data\"` field from the input payload and encodes it in Base64 format, which is required for writing to a Kinesis stream\n",
    "\n",
    "- It retrieves the value of the `\"PartitionKey\"` field from the input payload\n",
    "\n",
    "Here's an example of how this template would work for a sample API request:"
   ]
  },
  {
   "cell_type": "code",
   "execution_count": null,
   "metadata": {
    "vscode": {
     "languageId": "bat"
    }
   },
   "outputs": [],
   "source": [
    "POST /some-resource?stream-name=my-kinesis-stream\n",
    "Request Body:\n",
    "{\n",
    "    \"Data\": \"Hello, Kinesis!\",\n",
    "    \"PartitionKey\": \"partition-1\"\n",
    "}"
   ]
  },
  {
   "cell_type": "markdown",
   "metadata": {},
   "source": [
    "For the above API request, the mapping template output will look like this:"
   ]
  },
  {
   "cell_type": "code",
   "execution_count": null,
   "metadata": {
    "vscode": {
     "languageId": "bat"
    }
   },
   "outputs": [],
   "source": [
    "{\n",
    "    \"StreamName\": \"my-kinesis-stream\",\n",
    "    \"Data\": \"SGVsbG8sIEtpbmVzaXMh\",     // Base64 encoded \"Hello, Kinesis!\"\n",
    "    \"PartitionKey\": \"partition-1\"\n",
    "}"
   ]
  },
  {
   "attachments": {},
   "cell_type": "markdown",
   "metadata": {},
   "source": [
    "### Setting up the **records** `PUT` method.\n",
    "\n",
    "Follow step 1 from **Setting up the GET method** section but in the **Action name** section type `PutRecords`. For setting up the **URL request headers parameters** section follow step 2.\n",
    "\n",
    "For setting up the **Mapping Templates** panel follow step 3 instruction, but add the following mapping template in the template body instead:"
   ]
  },
  {
   "cell_type": "code",
   "execution_count": null,
   "metadata": {
    "vscode": {
     "languageId": "bat"
    }
   },
   "outputs": [],
   "source": [
    "{\n",
    "    \"StreamName\": \"$input.params('stream-name')\",\n",
    "    \"Records\": [\n",
    "       #foreach($elem in $input.path('$.records'))\n",
    "          {\n",
    "            \"Data\": \"$util.base64Encode($elem.data)\",\n",
    "            \"PartitionKey\": \"$elem.partition-key\"\n",
    "          }#if($foreach.hasNext),#end\n",
    "        #end\n",
    "    ]\n",
    "}"
   ]
  },
  {
   "cell_type": "markdown",
   "metadata": {},
   "source": [
    "This mapping template is used to transform an API request payload into the format required for writing records to an AWS Kinesis stream. Let's break it down step by step:\n",
    "\n",
    "- `\"StreamName\": \"$input.params('stream-name')\"`: This sets the `\"StreamName\"` field in the output payload to the value of the `\"stream-name\"` parameter provided in the API request. This is similar to what we have seen in previous examples.\n",
    "\n",
    "- `\"Records\": [...]`: This is an array key in the output payload that will hold an array of records to be written to the Kinesis stream\n",
    "\n",
    "- `#foreach($elem in $input.path('$.records'))`: This is a loop that iterates over each element (record) in the `\"records\"` array from the input payload. The `$input.path()` function retrieves the value of `\"records\"` array from the input payload.\n",
    "\n",
    "- `\"Data\": \"$util.base64Encode($elem.data)\"`: For each record in the `\"records\"` array, this line sets the `\"Data\"` field in the output payload. It uses the `$elem.data` syntax to access the `\"data\"` field of the current record. It then applies the `$util.base64Encode()` function to encode the data in Base64 format, which is the expected format for the data when writing to a Kinesis stream.\n",
    "\n",
    "- `\"PartitionKey\": \"$elem.partition-key\"`: This line sets the `\"PartitionKey\" `field in the output payload for each record. It uses the `$elem.partition-key` syntax to access the `\"partition-key\"` field of the current record.\n",
    "\n",
    "- `#if($foreach.hasNext),#end`: This conditional statement adds a comma (,) after each record except the last one. This is required to ensure that the output JSON is formatted correctly as an array.\n",
    "\n",
    "- `#end`: This marks the end of the loop\n",
    "\n",
    "To summarize, this mapping template does the following:\n",
    "\n",
    "- It sets the `\"StreamName\"` field in the output payload based on the value of the `\"stream-name\"` parameter provided in the API request\n",
    "\n",
    "- It iterates over the `\"records\"` array in the input payload and constructs an array of records in the output payload, where each record includes the encoded `\"Data\"` and `\"PartitionKey\"` fields required for writing to a Kinesis stream"
   ]
  },
  {
   "cell_type": "markdown",
   "metadata": {},
   "source": [
    "Here's an example of how this template would work for a sample API request:"
   ]
  },
  {
   "cell_type": "code",
   "execution_count": null,
   "metadata": {
    "vscode": {
     "languageId": "bat"
    }
   },
   "outputs": [],
   "source": [
    "POST /some-resource?stream-name=my-kinesis-stream\n",
    "Request Body:\n",
    "{\n",
    "    \"records\": [\n",
    "        {\n",
    "            \"data\": \"Hello, Kinesis!\",\n",
    "            \"partition-key\": \"partition-1\"\n",
    "        },\n",
    "        {\n",
    "            \"data\": \"Another message\",\n",
    "            \"partition-key\": \"partition-2\"\n",
    "        }\n",
    "    ]\n",
    "}"
   ]
  },
  {
   "cell_type": "markdown",
   "metadata": {},
   "source": [
    "For the above API request, the mapping template output will look like this:"
   ]
  },
  {
   "cell_type": "code",
   "execution_count": null,
   "metadata": {
    "vscode": {
     "languageId": "bat"
    }
   },
   "outputs": [],
   "source": [
    "{\n",
    "    \"StreamName\": \"my-kinesis-stream\",\n",
    "    \"Records\": [\n",
    "        {\n",
    "            \"Data\": \"SGVsbG8sIEtpbmVzaXMh\",     // Base64 encoded \"Hello, Kinesis!\"\n",
    "            \"PartitionKey\": \"partition-1\"\n",
    "        },\n",
    "        {\n",
    "            \"Data\": \"QW5vdGhlciBtZXNzYWdl\",   // Base64 encoded \"Another message\"\n",
    "            \"PartitionKey\": \"partition-2\"\n",
    "        }\n",
    "    ]\n",
    "}"
   ]
  },
  {
   "attachments": {},
   "cell_type": "markdown",
   "metadata": {},
   "source": [
    "## API Responses in Python\n",
    "\n",
    "Now that we have updated our API, we can use the Python requests library to test the new API methods and obtain a response. \n",
    "\n",
    "Make sure to deploy the newest version of your API and use the correct API Invoke URL.\n",
    "\n",
    "Ensure you have a uniquely identifiable PartitionKey, we will need this later to read the correct data from Kinesis into Databricks"
   ]
  },
  {
   "cell_type": "code",
   "execution_count": null,
   "metadata": {},
   "outputs": [],
   "source": [
    "import requests\n",
    "import json\n",
    "\n",
    "example_df = {\"index\": 1, \"name\": \"Maya\", \"age\": 25, \"role\": \"engineer\"}\n",
    "\n",
    "# invoke url for one record, if you want to put more records replace record with records\n",
    "invoke_url = \"https://YourAPIInvokeURL/<YourDeploymentStage>/streams/<stream_name>/record\"\n",
    "\n",
    "#To send JSON messages you need to follow this structure\n",
    "payload = json.dumps({\n",
    "    \"StreamName\": \"YourStreamName\",\n",
    "    \"Data\": {\n",
    "            #Data should be send as pairs of column_name:value, with different columns separated by commas      \n",
    "            \"index\": example_df[\"index\"], \"name\": example_df[\"name\"], \"age\": example_df[\"age\"], \"role\": example_df[\"role\"]\n",
    "            },\n",
    "            \"PartitionKey\": \"desired-name\"\n",
    "            })\n",
    "\n",
    "headers = {'Content-Type': 'application/json'}\n",
    "\n",
    "response = requests.request(\"PUT\", invoke_url, headers=headers, data=payload)\n"
   ]
  },
  {
   "attachments": {},
   "cell_type": "markdown",
   "metadata": {},
   "source": [
    "To see whether the request was successfully processed we can `print(response.status_code)`, which should return a status 200, indicating success.\n",
    "We can view further metadata about the request with `print(response.content)`, here we can see the individual sequence number alongside the shard number."
   ]
  },
  {
   "attachments": {},
   "cell_type": "markdown",
   "metadata": {},
   "source": [
    "## Visualise data coming into Kinesis Data Streams\n",
    "\n",
    "Once you send data to a Kinesis Data Stream and receive a 200 `response.status_code`, you can visualise this data in the **Kinesis** console. \n",
    "\n",
    "In the console select the stream you want to look at and then choose the **Data viewer** section. Here, select the **Shard** (data will normally be stored in the first shard `shardId-000000000000`). \n",
    "\n",
    "In the **Starting position** section select **At timestamp**. Now you can select the **Start date**, which corresponds to the date at which you send data to your stream and the **Start time**, the time at which you started sending data (this can be an approximation). \n",
    "\n",
    "Alternatively, you can select **Trim horizon** as the start position, which will read all the records available in the stream if you've only posted to the stream once. If the stream has already been used, then it will read data from the last checkpoint. \n",
    "\n",
    "Once everything is set up, press **Get records** and you will be able to visualise the data that has been send to the stream.\n",
    "**Note:** You many have to press **Next Records** a few times to see the incoming data\n",
    "\n",
    "<p align=\"center\">\n",
    "    <img src=\"images/Kinesis Records.png\" width=\"900\" height=\"550\"/>\n",
    "</p>\n"
   ]
  },
  {
   "attachments": {},
   "cell_type": "markdown",
   "metadata": {},
   "source": [
    "## Conclusion\n",
    "At this point, we should have a good understanding of:\n",
    "\n",
    "- How to create necessary permissions for Kinesis and API Gateway communication\n",
    "- How to create methods that allow to list streams in Kinesis\n",
    "- How to create methods that allow to create, describe and delete streams in Kinesis\n",
    "- How to create methods that allow to add records to Kinesis streams"
   ]
  }
 ],
 "metadata": {
  "kernelspec": {
   "display_name": "base",
   "language": "python",
   "name": "python3"
  },
  "language_info": {
   "name": "python",
   "version": "3.10.9"
  },
  "vscode": {
   "interpreter": {
    "hash": "a2592652612463181e69ac003232387e3e9a99279aa6b168e76f5df16d5110f4"
   }
  }
 },
 "nbformat": 4,
 "nbformat_minor": 2
}
