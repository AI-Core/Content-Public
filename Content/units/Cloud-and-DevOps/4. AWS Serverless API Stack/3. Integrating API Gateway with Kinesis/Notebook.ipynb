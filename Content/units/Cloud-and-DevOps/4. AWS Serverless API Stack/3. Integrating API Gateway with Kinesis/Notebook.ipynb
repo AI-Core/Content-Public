{
 "cells": [
  {
   "attachments": {},
   "cell_type": "markdown",
   "metadata": {},
   "source": [
    "# Integrating AWS API Gateway with AWS Kinesis"
   ]
  },
  {
   "attachments": {},
   "cell_type": "markdown",
   "metadata": {},
   "source": [
    "## Introduction\n",
    "\n",
    "In this lesson you will learn to create and configure a REST API with an Amazon Kinesis proxy integration. We will build this integration, on the previously created REST API with Kafka REST proxy integration (see AWS API Gateway lesson).\n"
   ]
  },
  {
   "attachments": {},
   "cell_type": "markdown",
   "metadata": {},
   "source": [
    "## Create an IAM role for API access to Kinesis\n",
    "    \n",
    "To allow the API to invoke Kinesis actions, you must have appropriate IAM policies attached to an IAM role. To enable full access to Kinesis, you can create an IAM role in the IAM console that assumes the **AmazonKinesisFullAccessRole** policy. This will enable both read-write actions in Kinesis.\n",
    "    \n",
    "Make sure API Gateway is a trusted entity of the role and has assumed the execution role **sts:AssumRole**. The trust relationships of this role should look like the one below:\n",
    "\n",
    "<p align=\"center\">\n",
    "    <img src=\"images/Kinesis Role.png\" width=\"800\" height=\"300\"/>\n",
    "</p>"
   ]
  },
  {
   "attachments": {},
   "cell_type": "markdown",
   "metadata": {},
   "source": [
    "## List streams in Kinesis\n",
    "To begin building our integration navigate to the **Resources** tab of the previously created API. Open the **Create Resource** in **Actions**\n",
    "\n",
    "<p align=\"center\">\n",
    "    <img src=\"images/Create Resources.png\" width=\"800\" height=\"250\"/>\n",
    "</p>\n",
    "\n",
    "Under **Resource Name**, type `streams` (in the photo example provided `test-streams` is used instead).\n",
    "\n",
    "<p align=\"center\">\n",
    "    <img src=\"images/Streams Resource.png\" width=\"750\" height=\"350\"/>\n",
    "</p>\n",
    "\n",
    "Leave the rest as default and select **Create Resource**."
   ]
  },
  {
   "attachments": {},
   "cell_type": "markdown",
   "metadata": {},
   "source": [
    "Choose the created **streams** resource, from Actions select **Create Method** and select `GET` from the drop-down list and click on the tick next to it.\n",
    "\n",
    "<p align=\"center\">\n",
    "    <img src=\"images/List Streams.png\" width=\"600\" height=\"300\"/>\n",
    "</p>\n",
    "\n",
    "In the **Setup** panel you will need to select the following\n",
    " - For **Integration type** select **AWS Service**\n",
    "- For **AWS Region** choose *us-east-1*\n",
    "- For **AWS Service** select **Kinesis**,\n",
    "- For **HTTP method** select `POST` (as we will have to invoke Kinesis's `ListStreams` action)\n",
    "- For **Action Type** select **User action name**\n",
    "- For **Action** type `ListStreams`\n",
    "- For **Execution role** you should copy the ARN of your Kinesis Access Role (created in the previous section).\n",
    "\n",
    "<p align=\"center\">\n",
    "    <img src=\"images/List Stream Setup.png\" width=\"650\" height=400\"/>\n",
    "</p>\n"
   ]
  },
  {
   "attachments": {},
   "cell_type": "markdown",
   "metadata": {},
   "source": [
    "Finally, press **Save**. This will prompt you to the **Method Execution**.\n",
    "\n",
    "<p align=\"center\">\n",
    "    <img src=\"images/List Streams Method Execution.png\" width=\"700\" height=\"400\"/>\n",
    "</p>\n",
    "\n",
    "From here select the **Integration Request** panel. Expand the HTTP Header panel and select the following options:\n",
    "- Choose **Add header** button\n",
    "- Under **Name** type **Content-Type**\n",
    "- Under **Mapped form** type **'application/x-amz-json-1.1'**\n",
    "- Press the Create tick button\n",
    "\n",
    "<p align=\"center\">\n",
    "    <img src=\"images/List Streams HTTP Headers.png\" width=\"700\" height=\"400\"/>\n",
    "</p>\n",
    "   \n",
    "Expand the **Mapping Templates** panel and select the following options:\n",
    "- Choose **Add mapping template** button\n",
    "- Under **Content-Type** type **application/json**\n",
    "- Press the Create tick button and choose Yes, secure this integration\n",
    "\n",
    "<p align=\"center\">\n",
    "    <img src=\"images/List Streams Mapping Templates.png\" width=\"700\" height=\"400\"/>\n",
    "</p>\n",
    "    \n",
    "Type `{}` in the template editor and choose the Save button to save the mapping template.\n",
    "\n",
    "<p align=\"center\">\n",
    "    <img src=\"images/List Streams Generate Template.png\" width=\"600\" height=\"400\"/>\n",
    "</p>"
   ]
  },
  {
   "attachments": {},
   "cell_type": "markdown",
   "metadata": {},
   "source": [
    "## Create, describe and delete streams in Kinesis\n",
    "\n",
    "Under the `streams` resource create a new child resource with the **Resource Path** `{stream-name}`, and the **Resource Name** `stream-name`. After creating this your **Resources** should look like the picture below:\n",
    "\n",
    "<p align=\"center\">\n",
    "    <img src=\"images/Stream Name.png\" width=\"750\" height=\"250\"/>\n",
    "</p>\n",
    "\n",
    "Create the following three **Methods** for `{stream-name}` resource: `POST`, `GET` and `DELETE`\n",
    "\n",
    "### Setting up the `GET` method.\n",
    "\n",
    "1. In the **Setup** panel you will need to select the following:,\n",
    "- For **Integration type** select **AWS Service**\n",
    "- For **AWS Region** choose us-east-1\n",
    "- For **AWS Service** select **Kinesis**\n",
    "- For **HTTP method** select `POST` \n",
    "- For **Action Type** select **User action name**\n",
    "- For **Action** type `DescribeStream`\n",
    "- For **Execution role** you should use the same ARN as in the previous step.\n",
    "\n",
    "<p align=\"center\">\n",
    "    <img src=\"images/Describe Stream Integration.png\" width=\"600\" height=\"400\"/>\n",
    "</p>\n",
    "\n",
    "Finally, press **Save**. This will prompt you to the **Method Execution**.\n",
    "\n",
    "2. From here select the **Integration Request** panel. Expand the HTTP Header panel and select the following options:\n",
    "- Choose **Add header** button\n",
    "- Under **Name** type **Content-Type**\n",
    "- Under **Mapped form** type **'application/x-amz-json-1.1'**\n",
    "- Press the Create tick button\n",
    "\n",
    "3. Expand the **Mapping Templates** panel and select the following options:\n",
    "- Choose **Add mapping template** button\n",
    "- Under **Cotent-Type** type **application/json**\n",
    "- Press the Create tick button and choose Yes, secure this integration\n",
    "\n",
    "4. In the template editor type the following message:"
   ]
  },
  {
   "cell_type": "code",
   "execution_count": null,
   "metadata": {
    "vscode": {
     "languageId": "bat"
    }
   },
   "outputs": [],
   "source": [
    "{\n",
    "    \"StreamName\": \"$input.params('stream-name')\"\n",
    "}"
   ]
  },
  {
   "attachments": {},
   "cell_type": "markdown",
   "metadata": {},
   "source": [
    "Finally, choose the **Save** button to save the mapping template.\n"
   ]
  },
  {
   "attachments": {},
   "cell_type": "markdown",
   "metadata": {},
   "source": [
    "### Setting up the `POST` method.\n",
    "\n",
    "Follow step 1 from **Setting up the GET method** section but in the **Action** section type `CreateStream`. For setting up the HTTP Header section follow step 2.\n",
    "\n",
    "For setting up the **Mapping Templates** panel follow step 3 instruction, but add the following body mapping template in the template editor instead:"
   ]
  },
  {
   "cell_type": "code",
   "execution_count": null,
   "metadata": {
    "vscode": {
     "languageId": "bat"
    }
   },
   "outputs": [],
   "source": [
    "{\n",
    "    \"ShardCount\": #if($input.path('$.ShardCount') == '') 5 #else $input.path('$.ShardCount') #end,\n",
    "    \"StreamName\": \"$input.params('stream-name')\"\n",
    "}"
   ]
  },
  {
   "attachments": {},
   "cell_type": "markdown",
   "metadata": {},
   "source": [
    "In this example mapping template, the ShardCount will be fixed to a value of 5, unless the user will specify another value in the method request payload."
   ]
  },
  {
   "attachments": {},
   "cell_type": "markdown",
   "metadata": {},
   "source": [
    "### Setting up the `DELETE` method.\n",
    "\n",
    "Follow step 1 from **Setting up the GET method** section but in the **Action** section type `DeleteStream`. For setting up the HTTP Header section follow step 2.\n",
    "\n",
    "For setting up the **Mapping Templates** panel follow step 3 instruction, but add the following body mapping template in the template editor instead:"
   ]
  },
  {
   "cell_type": "code",
   "execution_count": null,
   "metadata": {
    "vscode": {
     "languageId": "bat"
    }
   },
   "outputs": [],
   "source": [
    "{\n",
    "    \"StreamName\": \"$input.params('stream-name')\"\n",
    "}"
   ]
  },
  {
   "attachments": {},
   "cell_type": "markdown",
   "metadata": {},
   "source": [
    "## Add records to streams in Kinesis\n",
    "\n",
    "Under the `{stream-name}` resource create a two new child resources with the **Resource Name**, `record` and `records`. For both resources create a `PUT` method. \n",
    "\n",
    "### Setting up the **record** `PUT` method\n",
    "\n",
    "Follow step 1 from **Setting up the GET method** section but in the **Action** section type `PutRecord`. For setting up the HTTP Header section follow step 2.\n",
    "\n",
    "For setting up the **Mapping Templates** panel follow step 3 instruction, but add the following body mapping template in the template editor instead:"
   ]
  },
  {
   "cell_type": "code",
   "execution_count": null,
   "metadata": {
    "vscode": {
     "languageId": "bat"
    }
   },
   "outputs": [],
   "source": [
    "{\n",
    "    \"StreamName\": \"$input.params('stream-name')\",\n",
    "    \"Data\": \"$util.base64Encode($input.json('$.Data'))\",\n",
    "    \"PartitionKey\": \"$input.path('$.PartitionKey')\"\n",
    "}"
   ]
  },
  {
   "attachments": {},
   "cell_type": "markdown",
   "metadata": {},
   "source": [
    "### Setting up the **records** `PUT` method.\n",
    "\n",
    "Follow step 1 from **Setting up the GET method** section but in the **Action** section type `PutRecords`. For setting up the HTTP Header section follow step 2.\n",
    "\n",
    "For setting up the **Mapping Templates** panel follow step 3 instruction, but add the following body mapping template in the template editor instead:"
   ]
  },
  {
   "cell_type": "code",
   "execution_count": null,
   "metadata": {
    "vscode": {
     "languageId": "bat"
    }
   },
   "outputs": [],
   "source": [
    "{\n",
    "    \"StreamName\": \"$input.params('stream-name')\",\n",
    "    \"Records\": [\n",
    "       #foreach($elem in $input.path('$.records'))\n",
    "          {\n",
    "            \"Data\": \"$util.base64Encode($elem.data)\",\n",
    "            \"PartitionKey\": \"$elem.partition-key\"\n",
    "          }#if($foreach.hasNext),#end\n",
    "        #end\n",
    "    ]\n",
    "}"
   ]
  },
  {
   "attachments": {},
   "cell_type": "markdown",
   "metadata": {},
   "source": [
    "## API Repsonses in Python\n",
    "\n",
    "Now that we have updated our API, we can use the Python requests library to test the new API methods and obtain a response. \n",
    ">Make sure to deploy the newest version of your API and use the correct API Invoke URL."
   ]
  },
  {
   "cell_type": "code",
   "execution_count": null,
   "metadata": {},
   "outputs": [],
   "source": [
    "import requests\n",
    "import json\n",
    "\n",
    "example_df = {\"index\": 1, \"name\": \"Maya\", \"age\": 25, \"role\": \"engineer\"}\n",
    "\n",
    "# invoke url for one record, if you want to put more records replace record with records\n",
    "invoke_url = \"https://YourAPIInvokeURL/<YourDeploymentStage>/streams/<stream_name>/record\"\n",
    "\n",
    "#To send JSON messages you need to follow this structure\n",
    "payload = json.dumps({\n",
    "    \"StreamName\": \"YourStreamName\",\n",
    "    \"Data\": {\n",
    "            #Data should be send as pairs of column_name:value, with different columns separated by commas      \n",
    "            \"index\": example_df[\"index\"], \"name\": example_df[\"name\"], \"age\": example_df[\"age\"], \"role\": example_df[\"role\"]\n",
    "            },\n",
    "            \"PartitionKey\": \"desired-name\"\n",
    "            })\n",
    "\n",
    "headers = {'Content-Type': 'application/json'}\n",
    "\n",
    "response = requests.request(\"PUT\", invoke_url, headers=headers, data=payload)\n"
   ]
  },
  {
   "attachments": {},
   "cell_type": "markdown",
   "metadata": {},
   "source": [
    "To see whether the request was successfully processed we can `print(response.status_code)`, which should return a status 200, indicating success."
   ]
  },
  {
   "attachments": {},
   "cell_type": "markdown",
   "metadata": {},
   "source": [
    "## Visualize data coming into Kinesis Data Streams\n",
    "\n",
    "Once you send data to a Kinesis Data Stream and receive a 200 `response.status_code`, you can visualize this data in the **Kinesis** console. \n",
    "\n",
    "In the console select the stream you want to look at and then choose the **Data viewer** section. Here, select the **Shard** (data will normally be stored in the first shard `shardId-000000000000`). \n",
    "\n",
    "In the **Starting position** section select **At timestamp**. Now you can select the **Start date**, which corresponds to the date at which you send data to your stream and the **Start time**, the time at which you started sending data (this can be an approximation). \n",
    "\n",
    "Alternatively, you can select **Trim horizon** as the start position, which will read all the records available in the stream if you've only posted to the stream once. If the stream has already been used, then it will read data from the last checkpoint. \n",
    "\n",
    "Once everything is set up, press **Get records** and you will be able to visualize the data that has been send to the stream.\n",
    "\n",
    "<p align=\"center\">\n",
    "    <img src=\"images/Kinesis Records.png\" width=\"700\" height=\"400\"/>\n",
    "</p>\n"
   ]
  },
  {
   "attachments": {},
   "cell_type": "markdown",
   "metadata": {},
   "source": [
    "## Conclusion\n",
    "At this point, we should have a good understanding of:\n",
    "\n",
    "- How to create necessary permissions for Kinesis and API Gateway communication\n",
    "- How to create methods that allow to list streams in Kinesis\n",
    "- How to create methods that allow to create, describe and delete streams in Kinesis\n",
    "- How to create methods that allow to add records to Kinesis streams"
   ]
  }
 ],
 "metadata": {
  "kernelspec": {
   "display_name": "base",
   "language": "python",
   "name": "python3"
  },
  "language_info": {
   "name": "python",
   "version": "3.10.9"
  },
  "vscode": {
   "interpreter": {
    "hash": "a2592652612463181e69ac003232387e3e9a99279aa6b168e76f5df16d5110f4"
   }
  }
 },
 "nbformat": 4,
 "nbformat_minor": 2
}
