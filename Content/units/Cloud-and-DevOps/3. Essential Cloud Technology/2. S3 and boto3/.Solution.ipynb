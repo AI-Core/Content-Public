{
 "cells": [
  {
   "cell_type": "code",
   "execution_count": null,
   "metadata": {},
   "outputs": [],
   "source": [
    "from selenium import webdriver\n",
    "import urllib.request\n",
    "# from aws_upload import download_file\n",
    "# from aws_upload import upload_file\n",
    "import tempfile\n",
    "from tqdm import tqdm\n",
    "import os\n",
    "import boto3 \n",
    "# if not os.path.exists('cats'):\n",
    "#     os.makedirs('cats')\n",
    "#%%\n",
    "# Define the driver\n",
    "ROOT = 'https://all-free-download.com/free-photos/cute-cat-jpg.html'\n",
    "driver = webdriver.Chrome()\n",
    "driver.get(ROOT)\n",
    "s3_client = boto3.client('s3')\n",
    "# Get the list of cat images\n",
    "elem = driver.find_element_by_class_name('imgcontainer')\n",
    "if elem:\n",
    "    img_list = elem.find_elements_by_class_name('img-responsive')\n",
    "    if img_list:\n",
    "        src_list = []\n",
    "        for src in img_list:\n",
    "            try:\n",
    "                src_list.append(src.get_attribute('src'))\n",
    "            except:\n",
    "                print('No source found')\n",
    "        # Create a temporary directory, so you don't store images in your local machine\n",
    "        with tempfile.TemporaryDirectory() as temp_dir:\n",
    "            print(temp_dir)\n",
    "            for i, src in enumerate(tqdm(src_list)):\n",
    "                urllib.request.urlretrieve(src, f'{temp_dir}/cat_{i}.png')\n",
    "                s3_client.upload_file(f'{temp_dir}/cat_{i}.png', 'ai-core-bucket-eta-cohort', f'cats/cat_{i}.png')\n",
    "driver.quit()"
   ]
  }
 ],
 "metadata": {
  "language_info": {
   "name": "python"
  },
  "orig_nbformat": 4
 },
 "nbformat": 4,
 "nbformat_minor": 2
}
