{
 "cells": [
  {
   "attachments": {},
   "cell_type": "markdown",
   "metadata": {},
   "source": [
    "# AWS Kinesis"
   ]
  },
  {
   "attachments": {},
   "cell_type": "markdown",
   "metadata": {},
   "source": [
    "## Which of the following is NOT one of the four services offered by AWS Kinesis?\n",
    "\n",
    "- Amazon Kinesis Video Streams\n",
    "- Amazon Kinesis Data Firehose\n",
    "- Amazon Kinesis Data Analytics\n",
    "- Amazon Kinesis Data Warehouse ***"
   ]
  },
  {
   "attachments": {},
   "cell_type": "markdown",
   "metadata": {},
   "source": [
    "## Which of the following statements best describes AWS Kinesis?\n",
    "\n",
    "- A database service for storing and retrieving data\n",
    "- A serverless computing platform for building and running applications\n",
    "- A managed streaming service for processing real-time data ***\n",
    "- A content delivery network for accelerating the delivery of web content"
   ]
  },
  {
   "attachments": {},
   "cell_type": "markdown",
   "metadata": {},
   "source": [
    "## Which of the following AWS Kinesis services is best suited for capturing, processing, and storing real-time data streams at scale?\n",
    "\n",
    "- Amazon Kinesis Data Streams ***\n",
    "- Amazon Kinesis Data Firehose\n",
    "- Amazon Kinesis Video Streams\n",
    "- Amazon Kinesis Data Analytics"
   ]
  },
  {
   "attachments": {},
   "cell_type": "markdown",
   "metadata": {},
   "source": [
    "## Which AWS Kinesis service is best suited for real-time data analysis and provides the ability to run SQL queries against streaming data, generate real-time metrics, and create custom dashboards?\n",
    "\n",
    "- Amazon Kinesis Data Streams\n",
    "- Amazon Kinesis Data Firehose\n",
    "- Amazon Kinesis Video Streams\n",
    "- Amazon Kinesis Data Analytics ***\n",
    "\n"
   ]
  },
  {
   "attachments": {},
   "cell_type": "markdown",
   "metadata": {},
   "source": [
    "## Which of the following is a key difference between Amazon Kinesis Data Firehose and Amazon Kinesis Data Streams?\n",
    "\n",
    "- Data Firehose is designed for video streams, while Data Streams is designed for generic data streams\n",
    "- Data Streams can process data in real-time, while Data Firehose only provides near real-time processing\n",
    "- Data Firehose can automatically transform and deliver data to destinations, while Data Streams requires custom coding for data delivery ***\n",
    "- Data Streams supports parallel processing of data across multiple shards, while Data Firehose can only process data serially."
   ]
  },
  {
   "attachments": {},
   "cell_type": "markdown",
   "metadata": {},
   "source": [
    "## What is a shard in Amazon Kinesis Data Streams?\n",
    "\n",
    "- A storage unit for storing data records in a Kinesis stream \n",
    "- A data processing unit that can read and write data records in parallel ***\n",
    "- A scalable compute resource for running real-time analytics on data streams\n",
    "- A streaming endpoint for delivering data records to downstream applications"
   ]
  },
  {
   "attachments": {},
   "cell_type": "markdown",
   "metadata": {},
   "source": [
    "## What does an Amazon Kinesis Data Streams shard contain?\n",
    "\n",
    "- A sequence of one or more data records ***\n",
    "- A indexed list of data records\n",
    "- A list of AWS IAM users with access to the shard\n",
    "- A copy of the entire Kinesis stream data at a given point in time"
   ]
  },
  {
   "attachments": {},
   "cell_type": "markdown",
   "metadata": {},
   "source": [
    "## Which of the following is used to uniquely identify a data record in an Amazon Kinesis Data Stream shard?\n",
    "\n",
    "- The partition key\n",
    "- The sequence number ***\n",
    "- The data blob\n",
    "- The producer ID"
   ]
  },
  {
   "attachments": {},
   "cell_type": "markdown",
   "metadata": {},
   "source": [
    "## What is a data blob in Amazon Kinesis Data Streams?\n",
    "\n",
    "- The actual data of a data record ***\n",
    "- The unique identifier of a data record\n",
    "- The data processing unit of a Kinesis stream\n",
    "- The endpoint for delivering data records to downstream applications"
   ]
  },
  {
   "attachments": {},
   "cell_type": "markdown",
   "metadata": {},
   "source": [
    "## What is a partition key in Amazon Kinesis Data Streams?\n",
    "\n",
    "- A string that determines the shard that a data record belongs to ***\n",
    "- A unique identifier for a data record in a Kinesis stream\n",
    "- A data processing unit that can read and write data records in parallel\n",
    "- Derialized binary data of a data record\n",
    "\n"
   ]
  },
  {
   "attachments": {},
   "cell_type": "markdown",
   "metadata": {},
   "source": [
    "## How does the sequence number increase over time in Amazon Kinesis Data Streams?\n",
    "\n",
    "- The sequence number increases in ascending order over time for each shard in the stream ***\n",
    "- The sequence number is randomly generated for each data record added to the stream\n",
    "- The sequence number is determined by the size of the data blob for each record\n",
    "- The sequence number is based on the producer ID for each data record"
   ]
  },
  {
   "attachments": {},
   "cell_type": "markdown",
   "metadata": {},
   "source": [
    "## What are the key differences between Amazon Kinesis Data Streams and Amazon Kinesis Data Firehose?\n",
    "\n",
    "- Data Streams supports custom processing applications, while Data Firehose is designed for simpler data delivery use cases ***\n",
    "- Data Firehose supports real-time processing of data, while Data Streams is designed for batch processing use cases\n",
    "- Data Streams is a fully managed service, while Data Firehose requires you to provision and manage your own resources\n",
    "- Data Firehose supports multiple output destinations, while Data Streams only supports delivery to one destination\n",
    "\n"
   ]
  }
 ],
 "metadata": {
  "kernelspec": {
   "display_name": "base",
   "language": "python",
   "name": "python3"
  },
  "language_info": {
   "name": "python",
   "version": "3.10.9"
  },
  "orig_nbformat": 4,
  "vscode": {
   "interpreter": {
    "hash": "a2592652612463181e69ac003232387e3e9a99279aa6b168e76f5df16d5110f4"
   }
  }
 },
 "nbformat": 4,
 "nbformat_minor": 2
}
