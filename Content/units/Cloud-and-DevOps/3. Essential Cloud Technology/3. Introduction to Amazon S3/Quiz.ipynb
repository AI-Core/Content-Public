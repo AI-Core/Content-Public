{
 "cells": [
  {
   "cell_type": "markdown",
   "metadata": {},
   "source": [
    "# Quiz"
   ]
  },
  {
   "cell_type": "markdown",
   "metadata": {},
   "source": [
    "##  What is the primary purpose of Amazon S3?\n",
    "\n",
    "- Secure file transfer\n",
    "- Scalable object storage ***\n",
    "- Database management\n",
    "- Virtual machine hosting"
   ]
  },
  {
   "cell_type": "markdown",
   "metadata": {},
   "source": [
    "##  What is the hierarchical structure used in Amazon S3?\n",
    "\n",
    "- Buckets and objects ***\n",
    "- Folders and files\n",
    "- Tables and records\n",
    "- Containers and blobs"
   ]
  },
  {
   "cell_type": "markdown",
   "metadata": {},
   "source": [
    "## What is the purpose of the **Block Public Access** feature in Amazon S3?\n",
    "\n",
    "- To prevent unauthorized access to buckets and objects ***\n",
    "- To enable public read and write access to buckets and objects\n",
    "- To allow public access only to specific IP addresses\n",
    "- To enforce strong encryption for all objects in a bucket\n"
   ]
  },
  {
   "cell_type": "markdown",
   "metadata": {},
   "source": [
    "## True or False: Amazon S3 uses a hierarchical structure with buckets as the top-level containers.\n",
    "\n",
    "- True ***\n",
    "- False"
   ]
  },
  {
   "cell_type": "markdown",
   "metadata": {},
   "source": [
    "## True or False: Access Control Lists (ACLs) and bucket policies are two ways to manage permissions in Amazon S3.\n",
    "\n",
    "- True ***\n",
    "- False"
   ]
  },
  {
   "cell_type": "markdown",
   "metadata": {},
   "source": [
    "## True or False: Enabling versioning in an Amazon S3 bucket allows you to track and manage multiple versions of objects within the bucket.\n",
    "\n",
    "- True ***\n",
    "- False"
   ]
  },
  {
   "cell_type": "markdown",
   "metadata": {},
   "source": [
    "## True or False: Bucket policies in Amazon S3 are written in `XML` format.\n",
    "\n",
    "- True\n",
    "- False ***"
   ]
  },
  {
   "cell_type": "markdown",
   "metadata": {},
   "source": [
    "## True or False: S3 bucket names must be globally unique across all AWS accounts.\n",
    "\n",
    "- True ***\n",
    "- False"
   ]
  },
  {
   "cell_type": "markdown",
   "metadata": {},
   "source": [
    "##  Which actions are typically required to provide read-only access to an S3 bucket? Select all that apply.\n",
    "\n",
    "- `s3:ListBucket` ***\n",
    "- `s3:PutObject` ***\n",
    "- `s3:GetObject` ***\n",
    "- `s3:DeleteObject`"
   ]
  },
  {
   "cell_type": "markdown",
   "metadata": {},
   "source": [
    "## What are the benefits of enabling versioning in an S3 bucket? Select all that apply.\n",
    "\n",
    "- Allows tracking and management of multiple versions of objects ***\n",
    "- Provides protection against accidental deletion or modification of objects ***\n",
    "- Enables automatic replication of objects across multiple regions\n",
    "- Reduces storage costs for old versions of objects"
   ]
  }
 ],
 "metadata": {
  "language_info": {
   "name": "python"
  },
  "orig_nbformat": 4
 },
 "nbformat": 4,
 "nbformat_minor": 2
}
