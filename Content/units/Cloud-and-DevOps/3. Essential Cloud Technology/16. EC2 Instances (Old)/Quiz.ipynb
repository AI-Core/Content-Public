{
 "cells": [
  {
   "attachments": {},
   "cell_type": "markdown",
   "metadata": {},
   "source": [
    "# EC2 Instances\n"
   ]
  },
  {
   "attachments": {},
   "cell_type": "markdown",
   "metadata": {},
   "source": [
    "## What is an EC2 instance in AWS?\n",
    "\n",
    "- A service that provides fully-managed databases in the cloud\n",
    "- A service that allows you to store and retrieve data in the cloud\n",
    "- A virtual machine in the cloud that you can use to run your applications ***\n",
    "- A service that allows you to deploy serverless functions in the cloud\n",
    "\n"
   ]
  },
  {
   "attachments": {},
   "cell_type": "markdown",
   "metadata": {},
   "source": [
    "## Which of the following is a feature of an EC2 instance in AWS?\n",
    "\n",
    "- You can choose from a range of pre-configured instances optimized for different use cases\n",
    "- You can add and remove storage volumes to an instance as needed\n",
    "- You can connect to an instance using SSH\n",
    "- All of the above ***"
   ]
  },
  {
   "attachments": {},
   "cell_type": "markdown",
   "metadata": {},
   "source": [
    "## What is an SSH key and how is it used in AWS?\n",
    "\n",
    "- An SSH key is a unique identifier that allows you to securely connect to an EC2 instance using SSH ***\n",
    "- An SSH key is a password that allows you to access an S3 bucket from a remote location\n",
    "- An SSH key is a type of encryption algorithm used to secure data stored in an RDS database\n",
    "- An SSH key is a type of load balancer used to distribute traffic across multiple EC2 instances\n"
   ]
  },
  {
   "attachments": {},
   "cell_type": "markdown",
   "metadata": {},
   "source": [
    "## What command can you use in AWS CLI to connect to an EC2 instance using SSH?\n",
    "\n",
    "- `aws ssh connect <instance-id>`\n",
    "- `aws ssh <instance-id>`\n",
    "- `aws ec2 connect-ssh <instance-id>`\n",
    "- `ssh -i <key-pair>.pem <user name>@<public-dns>` ***\n",
    "\n"
   ]
  }
 ],
 "metadata": {
  "language_info": {
   "name": "python"
  },
  "orig_nbformat": 4
 },
 "nbformat": 4,
 "nbformat_minor": 2
}
