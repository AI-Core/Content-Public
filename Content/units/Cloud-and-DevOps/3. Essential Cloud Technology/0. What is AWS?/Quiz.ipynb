{
 "cells": [
  {
   "attachments": {},
   "cell_type": "markdown",
   "metadata": {},
   "source": [
    "# What is AWS?"
   ]
  },
  {
   "attachments": {},
   "cell_type": "markdown",
   "metadata": {},
   "source": [
    "##  What are some benefits of using AWS for businesses and organizations?\n",
    "\n",
    "- Scalability and flexibility\n",
    "- Global infrastructure\n",
    "- Security and compliance\n",
    "- All of the above ***"
   ]
  },
  {
   "attachments": {},
   "cell_type": "markdown",
   "metadata": {},
   "source": [
    "## True or False: AWS offers a pay-as-you-go pricing model, allowing businesses to optimize costs by paying only for the resources they use.\n",
    "\n",
    "- True ***\n",
    "- False"
   ]
  },
  {
   "attachments": {},
   "cell_type": "markdown",
   "metadata": {},
   "source": [
    "## Which of the following services are offered by AWS?\n",
    "\n",
    "- Computing power and storage\n",
    "- AI and machine learning\n",
    "- Analytics\n",
    "- All of the above ***"
   ]
  },
  {
   "attachments": {},
   "cell_type": "markdown",
   "metadata": {},
   "source": [
    "## True or False: The AWS Free Tier allows users to explore and experiment with certain AWS services at no cost for a limited time.\n",
    "\n",
    "- True ***\n",
    "- False"
   ]
  },
  {
   "attachments": {},
   "cell_type": "markdown",
   "metadata": {},
   "source": [
    "## What is the benefit of engaging with the AWS community?\n",
    "\n",
    "- Access to guidance and assistance from experts\n",
    "- Exchange of knowledge and best practices\n",
    "- Networking opportunities\n",
    "- All of the above ***"
   ]
  }
 ],
 "metadata": {
  "language_info": {
   "name": "python"
  },
  "orig_nbformat": 4
 },
 "nbformat": 4,
 "nbformat_minor": 2
}
