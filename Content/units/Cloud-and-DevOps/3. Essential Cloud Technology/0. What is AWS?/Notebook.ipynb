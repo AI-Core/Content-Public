{
 "cells": [
  {
   "attachments": {},
   "cell_type": "markdown",
   "metadata": {},
   "source": [
    "# What is AWS?"
   ]
  },
  {
   "attachments": {},
   "cell_type": "markdown",
   "metadata": {},
   "source": [
    "## Motivation\n",
    "\n",
    "Understanding AWS opens up a world of possibilities for businesses, enabling them to leverage scalable and flexible cloud computing solutions. With AWS, organizations can:\n",
    "- Scale applications seamlessly, adapting to changing demands and optimizing costs\n",
    "- Benefit from a global infrastructure, deploying applications closer to their audience for improved user experience\n",
    "- Ensure security and compliance through robust measures and certifications\n",
    "- Access a rich service ecosystem, including computing power, AI, machine learning, and analytics\n",
    "- Tap into a supportive community, exchanging knowledge, staying updated, and receiving guidance\n",
    "\n",
    "By embracing AWS, businesses can gain a competitive edge, drive innovation, and deliver exceptional value to customers. "
   ]
  },
  {
   "attachments": {},
   "cell_type": "markdown",
   "metadata": {},
   "source": [
    "## Introduction to Amazon Web Services (AWS)\n",
    "\n",
    "Amazon Web Services (AWS) is a comprehensive and widely adopted cloud computing platform provided by Amazon. It offers a vast array of cloud services that enable businesses, organizations, and individuals to build and deploy various applications, store and analyze data, run virtual servers, and much more."
   ]
  },
  {
   "attachments": {},
   "cell_type": "markdown",
   "metadata": {},
   "source": [
    "## What does AWS offer?\n",
    "\n",
    "AWS provides a vast array of cloud services that cater to the diverse needs of businesses and organizations. These services span various categories, offering solutions for computing, storage, networking, databases, analytics, machine learning, security, and more. Here are some of the key services offered by AWS:\n",
    "- **Compute Services**: *Amazon EC2 (Elastic Compute Cloud)* for virtual servers and *AWS Lambda* for serverless computing\n",
    "\n",
    "- **Storage Services**: *Amazon S3 (Simple Storage Service)* for object storage, *Amazon EBS (Elastic Block Store)* for block-level storage, and *Amazon Glacier* for long-term backup\n",
    "\n",
    "- **Database Services**: *Amazon RDS (Relational Database Service)* for managed relational databases, *Amazon DynamoDB* for NoSQL databases, and *Amazon Redshift* for data warehousing\n",
    "\n",
    "- **Networking Services**: *Amazon VPC (Virtual Private Cloud)* for virtual networks, *Elastic Load Balancing* for traffic distribution, and *Amazon CloudFront* for content delivery\n",
    "\n",
    "- **Analytics and Machine Learning**: *Amazon Athena* for querying data, *Amazon Redshift* for data warehousing, and *Amazon SageMaker* for building and deploying machine learning models\n",
    "\n",
    "- **Security and Identity Services**: *AWS IAM (Identity and Access Management)* for user identities, *AWS KMS (Key Management Service)* for encryption key management, and *Amazon GuardDuty* for threat detection"
   ]
  },
  {
   "attachments": {},
   "cell_type": "markdown",
   "metadata": {},
   "source": [
    "## Benefits of using AWS for businesses and organizations\n",
    "\n",
    "There are several compelling benefits of using AWS for businesses and organizations:\n",
    "\n",
    "- **1. Scalability and Elasticity**: AWS allows users to scale their infrastructure up or down based on demand. This elasticity enables businesses to handle sudden spikes in traffic or accommodate growing workloads without significant upfront investments.\n",
    "\n",
    "- **2. Reliability and Availability**: AWS's robust infrastructure is designed to offer high availability and fault tolerance, meaning businesses can achieve reliable and uninterrupted service\n",
    "\n",
    "- **3. Security**: AWS places a strong emphasis on security. It provides a secure and compliant platform that adheres to industry best practices, ensuring the confidentiality, integrity, and availability of data and applications.\n",
    "\n",
    "- **4. Cost-effectiveness**: AWS operates on a pay-as-you-go pricing model, allowing businesses to pay only for the resources they consume. This eliminates the need for upfront capital expenditure and enables cost optimization through flexible pricing options.\n",
    "\n",
    "- **5. Innovation and Agility**: AWS continually introduces new services and features, empowering businesses to innovate quickly and stay ahead in a competitive landscape. It provides a wide range of tools and resources that facilitate rapid development and deployment.\n",
    "\n",
    "By leveraging AWS, businesses and organizations can focus on their core competencies while benefiting from the scalability, reliability, security, and cost-effectiveness offered by the leading cloud service provider."
   ]
  },
  {
   "attachments": {},
   "cell_type": "markdown",
   "metadata": {},
   "source": [
    "## Getting Started with AWS\n",
    "\n",
    "### Creating a Free Tier AWS Account\n",
    "\n",
    "To get started, visit the [AWS website](https://console.aws.amazon.com/console/home) and click on the **Create a new AWS account** at the bottom of the page.\n",
    "\n",
    "Here's a step-by-step walkthrough to help you set up the new account:\n",
    "\n",
    "1. **Provide your email address**: Enter the email address you want to associate with your AWS account. This will be the email address for the *root user*, who will have full administrative access to the account. \n",
    "\n",
    "2. **Choose an account name**: Enter a unique account name for your AWS account. The account name will be used as a subdomain in the default URL of your AWS resources (e.g., https://your-account-name.s3.amazonaws.com). Then, click on **Verify email address**.\n",
    "\n",
    "3. **Verification email**: AWS will send a verification email to the email address you provided. Check your email inbox and look for the email from AWS with the subject **AWS Email Verification**. Open the email and copy the verification code provided.\n",
    "\n",
    "4. **Enter the verification code**: Enter the code you just copied and click **Verify**.\n",
    "\n",
    "5. **Set up root user password**: After verifying the code, you will be prompted to set the password for the root user. Create a strong one and then click **Continue**\n",
    "\n",
    "6. **Select a support plan**: After setting up the root password, you will be prompted to select a support plan. Choose the plan that best fits your needs (in your case that will be **Personal**), and then fill in your personal information before clicking **Continue**.\n",
    "\n",
    "7. **Enter your payment information**: Enter your payment method details, such as credit card information. AWS requires this information for billing purposes. You will only be charged for the services you use beyond the AWS Free Tier limits. Once you've entered the details, click on **Verify and Continue**. You might be charged 1$ for AWS to verify your card.\n",
    "\n",
    "8. **Confirm your identity**: After providing your payment information, AWS may require additional verification of your identity. You may be prompted to choose between receiving a phone call or a text message to verify your identity. Select the option you prefer and click on **Call me now** or **Send SMS** to receive a verification code.\n",
    "\n",
    "9. **Enter the verification code**: Once you receive the verification code on your phone, enter it in the provided field and click on **Continue**.\n",
    "\n",
    "10. **Select a support plan**: After confirming your identity, you will be prompted to choose a support plan. AWS offers different levels of support, including *Basic (free)*, *Developer*, and *Business*. Each plan provides different features and support levels. Select the Basic plan and click on **Complete sign up**.\n",
    "\n",
    "11. **Wait for AWS account activation**: After completing the necessary steps, AWS will review your account information and activate your account. This process usually takes a few minutes, but it can sometimes take longer.\n",
    "\n",
    "12. **Access your AWS account**: Once your account is activated, you will receive an email notification. You can then log in to your AWS account using the root user email address and the password you set up during the signup process."
   ]
  },
  {
   "attachments": {},
   "cell_type": "markdown",
   "metadata": {},
   "source": [
    "### Navigating the AWS Management Console\n",
    "\n",
    "Once you have created and logged into your AWS account, you will be greeted with the AWS Management Console, which serves as the centralized hub for managing your AWS services and resources. The console provides a user-friendly interface with a range of tools and features to help you navigate and administer your AWS environment effectively.\n",
    "\n",
    "<p align=\"center\">\n",
    "    <img src=\"images/AWS Basics Management Console-2.png\" height=\"600\" width=\"1000\"/>\n",
    "</p>\n",
    "\n",
    "- **1. Dashboard**: The AWS Management Console Dashboard is the landing page that presents you with an overview of your AWS resources and services. It provides you with useful information such as cost estimates, service health statuses, and quick access to frequently used services.\n",
    "\n",
    "- **2. Services Menu**: The console's **Services** menu, typically located at the top of the page, allows you to access the various AWS services available to you. The menu organizes the services into categories such as Compute, Storage, Database, Networking, and more. You can expand each category to view the specific services within it.\n",
    "\n",
    "- **3. Search Bar**: The search bar, usually located at the top of the console, enables you to quickly find AWS services, resources, and features. You can search for services by name or keywords, making it convenient to locate specific functionalities within the console.\n",
    "\n",
    "<p align=\"center\">\n",
    "    <img src=\"images/AWS Management Console Service.png\" height=\"600\" width=\"1000\"/>\n",
    "</p>\n",
    "\n",
    "- **4. AWS Service Pages**: When you select a service from the services menu or the search bar results, you will be directed to the specific AWS Service Page. The Service Page provides detailed information and options for managing the selected service. Each service page may have its own unique layout and configuration options. Let's look at an example by accessing the *S3 service* page, which we will learn in depth about in a later lesson.\n",
    "\n",
    "- **5. Navigation Menu** : The navigation menu is typically located on the left-hand side of the console. It displays a list of resources associated with the selected service. The menu allows you to navigate between different service-specific pages, configuration options, and resource management functionalities."
   ]
  },
  {
   "attachments": {},
   "cell_type": "markdown",
   "metadata": {},
   "source": [
    "### More About AWS Free Tier \n",
    "\n",
    "The AWS Free Tier provides users with a limited amount of free usage for selected AWS services. Key points to know about the Free Tier include:\n",
    "\n",
    "- **Free Usage Limits**: The Free Tier offers free usage for various AWS services for a specified duration, typically 12 months from sign-up\n",
    "- **Service Coverage**: It covers services such as Amazon EC2, S3, RDS, Lambda, DynamoDB, and more, each with its own usage limits. Don't worry about recognizing any of these services, we will learn about them in later lessons.\n",
    "- **Resource Limits**: The Free Tier provides access to specific resources within each service, allowing you to explore and test their capabilities\n",
    "- **Usage Exclusions**: Some features or resource types may not be eligible for free usage and may incur charges\n",
    "- **Usage Monitoring**: AWS provides tools to monitor your Free Tier usage and track resource consumption.We will talk about this in a later lesson.\n",
    "\n",
    "Remember, the Free Tier is for personal use, learning, and exploration, and additional charges apply for production or commercial applications. Monitor your usage and understand any pricing associated with exceeding the Free Tier limits."
   ]
  },
  {
   "attachments": {},
   "cell_type": "markdown",
   "metadata": {},
   "source": [
    "## Key Takeaways\n",
    "\n",
    "- AWS is a leading cloud service provider offering a wide range of services and solutions\n",
    "- To get started with AWS, create an account by providing your email address, verifying your identity, and setting up a payment method\n",
    "- The AWS Management Console is a web-based interface for accessing and managing AWS resources\n",
    "- The AWS Free Tier provides limited free usage for selected services for a specified duration"
   ]
  }
 ],
 "metadata": {
  "kernelspec": {
   "display_name": "Python 3.9.0 64-bit",
   "language": "python",
   "name": "python3"
  },
  "language_info": {
   "name": "python",
   "version": "3.9.0"
  },
  "vscode": {
   "interpreter": {
    "hash": "aee8b7b246df8f9039afb4144a1f6fd8d2ca17a180786b69acc140d282b71a49"
   }
  }
 },
 "nbformat": 4,
 "nbformat_minor": 2
}
