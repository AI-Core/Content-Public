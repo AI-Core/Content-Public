{
 "cells": [
  {
   "cell_type": "markdown",
   "metadata": {},
   "source": [
    "# S3 Objects and boto3"
   ]
  },
  {
   "cell_type": "markdown",
   "metadata": {},
   "source": [
    "## What is the significance of S3 object metadata?\n",
    "\n",
    "- It provides additional information about the object ***\n",
    "- It determines the storage class of the object\n",
    "- It specifies the encryption settings for the object\n",
    "- It controls the access permissions for the object"
   ]
  },
  {
   "cell_type": "markdown",
   "metadata": {},
   "source": [
    "## True or False: Versioning in S3 allows you to store and retrieve multiple versions of an object.\n",
    "\n",
    "- True ***\n",
    "- False"
   ]
  },
  {
   "cell_type": "markdown",
   "metadata": {},
   "source": [
    "## True or False: Only the AWS Management Console can be used to upload objects to an S3 bucket.\n",
    "\n",
    "- True\n",
    "- False ***"
   ]
  },
  {
   "cell_type": "markdown",
   "metadata": {},
   "source": [
    "## True or False: S3 objects can be accessed using a unique S3 URI.\n",
    "\n",
    "- True ***\n",
    "- False"
   ]
  },
  {
   "cell_type": "markdown",
   "metadata": {},
   "source": [
    "## What is an MD5 hash used for in S3?\n",
    "\n",
    "- Object versioning\n",
    "- Object encryption\n",
    "- Object integrity verification ***\n",
    "- Object compression"
   ]
  },
  {
   "cell_type": "markdown",
   "metadata": {},
   "source": [
    "##  Which operation can be used to copy an object from one S3 bucket to another?\n",
    "\n",
    "- `copy_object()` ***\n",
    "- `move_object()`\n",
    "- `copy_to_bucket()`\n",
    "- `transfer_object()`"
   ]
  },
  {
   "cell_type": "markdown",
   "metadata": {},
   "source": [
    "## True or False: S3 object keys must be unique only within the same S3 bucket.\n",
    "\n",
    "- True ***\n",
    "- False"
   ]
  },
  {
   "cell_type": "markdown",
   "metadata": {},
   "source": [
    "## Which of the following operations can be used to delete an S3 object ?\n",
    "\n",
    "- `delete_object()` ***\n",
    "- `remove_object()`\n",
    "- `erase_object()`\n",
    "- `destroy_object()`"
   ]
  },
  {
   "cell_type": "markdown",
   "metadata": {},
   "source": [
    "## Which of the following is a recommended practice for object naming in Amazon S3?\n",
    "\n",
    "- Use single-character names to save storage space\n",
    "- Avoid using any prefixes or delimiters in object names\n",
    "- Include the current date and time in object names for versioning purposes\n",
    "- Use lowercase letters, numbers, and hyphens in object names ***"
   ]
  },
  {
   "cell_type": "markdown",
   "metadata": {},
   "source": [
    "## What is the structure of an S3 object URI (Uniform Resource Identifier)?\n",
    "\n",
    "- `s3://bucket-name/object-key` ***\n",
    "- `s3://object-key/bucket-name`\n",
    "- `bucket-name/object-key`\n",
    "- `object-key/bucket-name`"
   ]
  },
  {
   "cell_type": "markdown",
   "metadata": {},
   "source": [
    "## True or False: An entity tag (ETag) in S3 represents a unique identifier for an S3 object and changes whenever the object content is modified.\n",
    "\n",
    "- True\n",
    "- False ***"
   ]
  },
  {
   "cell_type": "markdown",
   "metadata": {},
   "source": [
    "## What is an S3 object URL used for?\n",
    "\n",
    "- It provides temporary access to S3 objects with pre-signed URLs\n",
    "- It allows public access to S3 objects directly from a web browser ***\n",
    "- It provides a unique identifier for an S3 object within the AWS ecosystem\n",
    "- It facilitates secure data transfer between different AWS services"
   ]
  }
 ],
 "metadata": {
  "language_info": {
   "name": "python"
  },
  "orig_nbformat": 4
 },
 "nbformat": 4,
 "nbformat_minor": 2
}
