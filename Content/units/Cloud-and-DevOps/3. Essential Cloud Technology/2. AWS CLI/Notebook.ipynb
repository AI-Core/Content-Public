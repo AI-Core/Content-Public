{
 "cells": [
  {
   "attachments": {},
   "cell_type": "markdown",
   "metadata": {},
   "source": [
    "# AWS CLI"
   ]
  },
  {
   "attachments": {},
   "cell_type": "markdown",
   "metadata": {},
   "source": [
    "The *AWS Command Line Interface (AWS CLI)* is a powerful tool that allows users to interact with various Amazon Web Services (AWS) resources and services through a command-line interface. It provides a command-line alternative to the AWS Management Console, enabling users to manage and automate their AWS infrastructure more efficiently.\n",
    "\n",
    "The main purpose of AWS CLI is to simplify and streamline the management of AWS resources and services. It provides a consistent and unified interface across different AWS services, allowing users to perform administrative tasks, configure services, and access resources from their local machines using a set of commands."
   ]
  },
  {
   "cell_type": "markdown",
   "metadata": {},
   "source": [
    "## Motivation \n",
    "\n",
    "Learning about the AWS CLI is essential for efficiently managing AWS resources. It enables automation and customisation, empowering you to streamline operations, achieve greater efficiency, and gain granular control over your AWS environment."
   ]
  },
  {
   "attachments": {},
   "cell_type": "markdown",
   "metadata": {},
   "source": [
    "## Benefits of Using AWS CLI\n",
    "\n",
    "Using AWS CLI offers several benefits over other management interfaces like the AWS Management Console:\n",
    "- **Automation and Scripting**: AWS CLI enables users to automate various AWS tasks, such as provisioning resources, configuring services, and managing deployments. By writing scripts or incorporating AWS CLI commands into automation workflows, users can achieve greater efficiency, repeatability, and scalability.\n",
    "\n",
    "- **Flexibility and Customization**: With AWS CLI, users have granular control over their AWS resources and services. They can tailor commands to their specific needs, combining them with other command-line tools or integrating them into custom scripts and applications.\n",
    "\n",
    "- **Command-Line Efficiency**: For users comfortable with command-line interfaces, AWS CLI provides a fast and efficient way to interact with AWS. It eliminates the need to navigate through web-based interfaces, reducing manual steps and allowing for quicker execution of commands.\n",
    "\n",
    "- **Portability and Reproducibility**: AWS CLI commands can be easily shared, version-controlled, and reproduced across different environments. This simplifies collaboration and ensures consistency in managing AWS infrastructure across teams and development stages."
   ]
  },
  {
   "attachments": {},
   "cell_type": "markdown",
   "metadata": {},
   "source": [
    "## Installing the AWS CLI\n",
    "\n",
    "AWS CLI can be installed on various operating systems, including Windows, macOS, and Linux. Once installed, it needs to be configured with access credentials and additional settings. In this section, we will walk through the installation process.\n",
    "\n",
    "### Windows\n",
    "\n",
    "1. Visit the AWS Command Line Interface (CLI) Downloads page: https://aws.amazon.com/cli/\n",
    "\n",
    "<p align=\"center\">\n",
    "    <img src=\"images/CLI-website.png\" width=\"800\" height=\"500\"/>\n",
    "</p>\n",
    "\n",
    "2. Click on the **Download and run the 64-bit Windows installer** link to download the installer\n",
    "3. Run the downloaded installer (`.msi` file) and follow the instructions on screen \n",
    "4. Open a new command prompt and verify the installation by running the command `aws --version`. If the installation was successful you will get a similar message: `aws-cli/2.12.7 Python/3.11/4 Windows/10 exe/AMD64 prompt/off`.\n",
    "\n",
    "### macOS\n",
    "\n",
    "1. Open a terminal window\n",
    "2. Install Homebrew (a package manager for macOS) if you haven't already. Visit the Homebrew website (https://brew.sh/) and follow the installation instructions.\n",
    "3. Once Homebrew is installed, run the following command in the terminal: `brew install awscli`\n",
    "4. After the installation is complete, verify it by running the command `aws --version`\n",
    "\n",
    "### Linux\n",
    "\n",
    "1. Open a terminal window\n",
    "2. Use the package manager specific to your Linux distribution to install AWS CLI. For example, on Ubuntu, run the following command: `sudo apt-get install awscli`.\n",
    "3. Press `Y` to continue with installing all the necessary packages\n",
    "4. After the installation is complete, verify it by running the command `aws --version`"
   ]
  },
  {
   "cell_type": "markdown",
   "metadata": {},
   "source": [
    "## Generating an Access Key and Secret Access Key\n",
    "\n",
    "To use AWS CLI, you need to generate an access key and secret access key, which serve as your credentials for accessing AWS resources. If you haven't completed the **Practice** section in the IAM lesson, make sure to do this first, as we will generate an access and secret access key for the `AdministratorAccess` user you have created there. Here's how you can generate these keys through the AWS Management Console:\n",
    "\n",
    "1. Sign in to the AWS Management Console using your admin IAM user account credentials\n",
    "\n",
    "2. Navigate to the IAM console and select the user you are logged in as. This is the user for whom we want to generate the access and secret access key.\n",
    "\n",
    "3. From the user summary page select the **Security credentials** tab. Scroll down to the **Access keys** section and click on the **Create access key** button.\n",
    "\n",
    "4. You will be redirected to the **Access key best practices & alternatives** page. On this page, you will be asked to provide a use case for the access key. Select **Command Line Interface (CLI)**.\n",
    "\n",
    "5. Check the box that reads **I understand the above recommendation and want to proceed to create an access key** to confirm that you understand the best practices and still wish to create an access key\n",
    "\n",
    "6. Continue and the click **Create access key**. You will then be directed to the **Retrieve acsess keys** page, where the access key and secret access key will be displayed. Take note of these credentials, as they are required for configuring AWS CLI. You should also click on the **Download .csv file** button to save the credentials securely. This is important because the secret access key will not be shown again for security reasons. If you do not download and save the credentials, you will need to generate a new access key and secret access key in the future.\n",
    "\n",
    "7. Once you have downloaded the ``.csv`` file, click on the **Done** button"
   ]
  },
  {
   "cell_type": "markdown",
   "metadata": {},
   "source": [
    "## Configuring AWS CLI\n",
    "\n",
    "Once you have generated an access key and secret access key, you can proceed with configuring AWS CLI on your local machine. The configuration process involves providing these credentials and specifying additional settings like the default region and output format. Here's how you can configure AWS CLI:\n",
    "\n",
    "1. Open a terminal or command prompt on your local machine\n",
    "\n",
    "2. Run the following command to start the AWS CLI configuration process: ` aws configure`\n",
    "\n",
    "3. You will be prompted to enter the following information:\n",
    "   - **AWS Access Key ID**: Enter the access key ID you obtained during the access key generation process\n",
    "   - **AWS Secret Access Key**: Enter the secret access key corresponding to the access key ID you provided\n",
    "   - **Default region name**: Specify the default AWS region you want to use for AWS CLI commands. In our case, we will use `eu-west-1`, as this region is geographically close to the UK.\n",
    "   - **Default output format**: Choose the default output format for AWS CLI command results. You can enter `JSON`, text, table, or `YAML`. The default format is typically `JSON`, which provides machine-readable output. If you enter nothing (press **Enter**) it will default to `JSON`.\n",
    "\n",
    "4. After entering the required information, press **Enter**\n",
    "\n",
    "5. To verify that the configuration was successful, run the following command: `aws configure list`. This command will display the current configuration settings, including the access key ID, secret access key (partially masked), default region, and default output format. Make sure the displayed values match the credentials you provided during the configuration.\n",
    "\n",
    "<p align=\"center\">\n",
    "    <img src=\"images/AWS-configure-list.png\" width=\"700\" height=\"500\"/>\n",
    "</p>\n",
    "\n",
    "AWS CLI is now configured with your access key and secret access key, and you can start using it to interact with AWS services through the command line."
   ]
  },
  {
   "cell_type": "markdown",
   "metadata": {},
   "source": [
    "## Basic AWS CLI Commands\n",
    "\n",
    "AWS CLI provides a wide range of commands that allow you to interact with and manage AWS resources efficiently from the command line. In this section, we will introduce some common AWS CLI commands, explain their syntax, and demonstrate how to use them to manage AWS resources.\n",
    "\n",
    "### Command Syntax\n",
    "\n",
    "The general syntax for AWS CLI commands is as follows: `aws <service> <operation> <parameters> --options`.\n",
    "\n",
    "- `<service>`: Represents the AWS service you want to interact with, such as `iam` for Amazon IAM or `ec2` for Amazon EC2\n",
    "- `<operation>`: Refers to the specific action or operation you want to perform on the service, like list, create, delete, or describe\n",
    "- `<parameters>`: Includes any required or optional parameters specific to the operation, such as resource identifiers, configurations, or filters\n",
    "- `--options`: Refers to any additional options or flags you can include to modify the behavior of the command\n",
    "\n",
    "### Managing AWS Resources\n",
    "\n",
    "AWS CLI allows you to perform various management tasks on AWS resources using commands specific to each service. Here are some common operations you can perform using AWS CLI:\n",
    "\n",
    "#### 1. Listing and Describing IAM Users\n",
    "\n",
    "To list all IAM users in your AWS account, you can run: `aws iam list-users`.\n",
    "\n",
    "\n",
    "<p align=\"center\">\n",
    "    <img src=\"images/ListUsers.png\" width=\"700\" height=\"500\"/>\n",
    "</p>\n",
    "\n",
    "The output is in `JSON` format and represents information about two IAM users: `John` and `Maya`. Let's understand the information presented for each `John`:\n",
    "- `Path`: The path of the IAM user within the AWS account (`/` denotes the root level)\n",
    "- `UserName`: The username associated with the IAM user (`John` in this case)\n",
    "- `UserId`: The unique identifier for the IAM user \n",
    "- `Arn`: The ARN that uniquely identifies the IAM user's resource location \n",
    "- `CreateDate`: The date and time when the IAM user was created\n",
    "- `PasswordLastUsed`: The date and time when the IAM user last used their password \n",
    "\n",
    "To describe detailed information about a specific IAM user, you can run: `aws iam get-user --user-name <user-name>`.\n",
    "\n",
    "#### 2. Creating and Deleting IAM Users:\n",
    "\n",
    "To create a new IAM user, you can run: `aws iam create-user --user-name <user-name>`. To delete an existing IAM user, you can run: `aws iam delete-user --user-name <user-name>`.\n",
    "\n",
    "These examples showcase the usage of AWS CLI commands for basic operations on IAM users. Remember to ensure that you have the necessary permissions and provide the correct values for parameters when executing these commands to avoid any unintended modifications to your IAM configuration."
   ]
  },
  {
   "cell_type": "markdown",
   "metadata": {},
   "source": [
    "## Best Practices and Tips\n",
    "\n",
    "- **1. Manage Access Keys Securely**: Follow security best practices for managing access keys. Rotate access keys regularly and avoid hardcoding them in scripts or applications.\n",
    "- **2. Keep CLI Up-to-Date**: Regularly update AWS CLI to benefit from bug fixes, new features, and improvements. Check for updates using the package manager or the AWS CLI GitHub repository.\n",
    "- **3. Follow the Principle of Least Privilege**: Ensure that the IAM user or role associated with your AWS CLI credentials has the minimal set of permissions required for the intended tasks. This principle reduces the potential impact of compromised credentials.\n",
    "- **4. Securely Store AWS CLI Credentials**: Safeguard the access key and secret access key associated with your AWS CLI configuration. Use secure storage mechanisms, such as encrypted files or password managers, to protect these credentials.\n",
    "\n",
    "### Tips for Troubleshooting Common Issues\n",
    "\n",
    "- Check AWS CLI Version: Ensure you have the latest version of AWS CLI installed to access the most recent features and bug fixes\n",
    "- Verify Credentials: Double-check the accuracy of your access key and secret access key. Verify that they are correctly entered in the AWS CLI configuration.\n",
    "- Verify IAM Permissions: Confirm that the IAM user or role associated with your AWS CLI credentials has the necessary permissions to perform the intended actions. Review and modify the IAM policies as needed.\n",
    "\n",
    "### Recommended Resources for Further Learning\n",
    "\n",
    "1. AWS CLI User Guide: The official AWS CLI User Guide provides comprehensive documentation on AWS CLI commands, configuration, and advanced features. Access it at: https://docs.aws.amazon.com/cli/latest/userguide/.\n",
    "\n",
    "2. AWS CLI Command Reference: The AWS CLI Command Reference provides detailed documentation on individual AWS CLI commands and their parameters. Explore it at: https://docs.aws.amazon.com/cli/latest/index.html.\n",
    "\n",
    "3. AWS CLI GitHub Repository: Visit the official AWS CLI GitHub repository to access the latest releases, report issues, and contribute to the AWS CLI open-source project. Find it at: https://github.com/aws/aws-cli.\n"
   ]
  },
  {
   "cell_type": "markdown",
   "metadata": {},
   "source": [
    "## Key Takeaways\n",
    "\n",
    "- AWS CLI is a command-line interface that allows users to interact with AWS resources and services. It simplifies management tasks and offers automation capabilities.\n",
    "- AWS CLI provides automation and scripting capabilities, flexibility and customization, command-line efficiency, portability and reproducibility\n",
    "- AWS CLI can be installed on Windows, macOS, and Linux. After installation, it needs to be configured with access credentials and default settings like the region and output format.\n",
    "- Access keys are required to authenticate and authorize AWS CLI. They can be generated through the AWS Management Console, and it's important to securely manage and store them.\n",
    "- AWS CLI allows for listing, describing, creating, deleting, modifying, tagging, querying, and filtering AWS resources. Commands vary depending on the AWS service being used."
   ]
  }
 ],
 "metadata": {
  "language_info": {
   "name": "python"
  }
 },
 "nbformat": 4,
 "nbformat_minor": 2
}
