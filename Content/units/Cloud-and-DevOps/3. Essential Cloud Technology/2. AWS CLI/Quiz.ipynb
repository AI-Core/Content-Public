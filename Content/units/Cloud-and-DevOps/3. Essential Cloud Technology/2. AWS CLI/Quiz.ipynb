{
 "cells": [
  {
   "cell_type": "markdown",
   "metadata": {},
   "source": [
    "# AWS CLI"
   ]
  },
  {
   "cell_type": "markdown",
   "metadata": {},
   "source": [
    "## Which of the following are benefits of using AWS CLI over other management interfaces?\n",
    "\n",
    "- Automation and scripting capabilities\n",
    "- Customization and flexibility\n",
    "- Command-line efficiency\n",
    "- All of the above ***"
   ]
  },
  {
   "cell_type": "markdown",
   "metadata": {},
   "source": [
    "##  What is the command used to configure AWS CLI with access credentials and default settings?\n",
    "\n",
    "- `aws setup`\n",
    "- `aws configure` ***\n",
    "- `aws credentials`\n",
    "- `aws auth`"
   ]
  },
  {
   "cell_type": "markdown",
   "metadata": {},
   "source": [
    "## True or False: Access keys and secret access keys should be stored securely and rotated regularly.\n",
    "\n",
    "- True ***\n",
    "- False"
   ]
  },
  {
   "cell_type": "markdown",
   "metadata": {},
   "source": [
    "## True or False: AWS CLI commands can be customized using output formatting options like `--query` and `--output`.\n",
    "\n",
    "- True ***\n",
    "- False"
   ]
  },
  {
   "cell_type": "markdown",
   "metadata": {},
   "source": [
    "## True or False: AWS CLI allows you to change the default region and output format after the initial configuration.\n",
    "\n",
    "- True ***\n",
    "- False"
   ]
  }
 ],
 "metadata": {
  "language_info": {
   "name": "python"
  },
  "orig_nbformat": 4
 },
 "nbformat": 4,
 "nbformat_minor": 2
}
