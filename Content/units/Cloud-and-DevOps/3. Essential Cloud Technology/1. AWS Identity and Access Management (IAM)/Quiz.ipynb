{
 "cells": [
  {
   "attachments": {},
   "cell_type": "markdown",
   "metadata": {},
   "source": [
    "# AWS Identity and Access Management (IAM)"
   ]
  },
  {
   "attachments": {},
   "cell_type": "markdown",
   "metadata": {},
   "source": [
    "## Which of the following is true about IAM users in AWS?\n",
    "\n",
    "- IAM users represent AWS services and applications\n",
    "- IAM users can have their own set of access keys ***\n",
    "- IAM users can only have one role assigned to them\n",
    "- IAM users have unlimited access to all AWS resources by default"
   ]
  },
  {
   "attachments": {},
   "cell_type": "markdown",
   "metadata": {},
   "source": [
    "## True or False: IAM groups allow you to manage permissions for multiple users collectively.\n",
    "\n",
    "- True ***\n",
    "- False"
   ]
  },
  {
   "attachments": {},
   "cell_type": "markdown",
   "metadata": {},
   "source": [
    "## True or False: The principle of least privilege refers to giving users and entities full access to all AWS resources.\n",
    "\n",
    "- True\n",
    "- False ***"
   ]
  },
  {
   "attachments": {},
   "cell_type": "markdown",
   "metadata": {},
   "source": [
    "## True or False: Creating strong and secure passwords is not necessary in AWS IAM since MFA is enabled by default.\n",
    "\n",
    "- True\n",
    "- False ***"
   ]
  },
  {
   "attachments": {},
   "cell_type": "markdown",
   "metadata": {},
   "source": [
    "## What is the recommended practice for managing IAM permissions?\n",
    "\n",
    "- Review and audit permissions regularly ***\n",
    "- Assign full administrative access to all IAM users\n",
    "- Share IAM access keys publicly for convenience\n",
    "- Disable multi-factor authentication (MFA) for IAM users"
   ]
  },
  {
   "attachments": {},
   "cell_type": "markdown",
   "metadata": {},
   "source": [
    "## True or False: IAM policies can only be attached to IAM users and not IAM groups or roles.\n",
    "\n",
    "- True\n",
    "- False ***"
   ]
  },
  {
   "attachments": {},
   "cell_type": "markdown",
   "metadata": {},
   "source": [
    "## What is the purpose of IAM groups in AWS?\n",
    "\n",
    "- To manage AWS billing and cost allocation\n",
    "- To delegate permissions to AWS services\n",
    "- To assign unique access keys to IAM users\n",
    "- To manage permissions for multiple users with similar roles ***"
   ]
  },
  {
   "attachments": {},
   "cell_type": "markdown",
   "metadata": {},
   "source": [
    "## What is the purpose of implementing IAM password policies?\n",
    "\n",
    "- To enforce password complexity requirements for IAM users ***\n",
    "- To restrict access to AWS resources based on geographical location\n",
    "- To create and manage IAM user groups\n",
    "- To enable multi-factor authentication (MFA) for IAM users"
   ]
  },
  {
   "attachments": {},
   "cell_type": "markdown",
   "metadata": {},
   "source": [
    "## True or False: IAM policies in AWS are defined using `JSON` format.\n",
    "\n",
    "- True ***\n",
    "- False"
   ]
  },
  {
   "attachments": {},
   "cell_type": "markdown",
   "metadata": {},
   "source": [
    "## What is the primary purpose of implementing the principle of least privilege in AWS IAM?\n",
    "\n",
    "- To grant users unrestricted access to all AWS resources\n",
    "- To minimize the number of IAM policies in the account\n",
    "- To ensure that users have only the necessary permissions to perform their specific tasks ***\n",
    "- To enable multi-factor authentication (MFA) for all IAM users"
   ]
  },
  {
   "attachments": {},
   "cell_type": "markdown",
   "metadata": {},
   "source": [
    "## What is the recommended practice for managing IAM access keys?\n",
    "\n",
    "- Share access keys publicly for ease of use\n",
    "- Store access keys in plain text files on local computers\n",
    "- Regularly rotate and manage access keys ***\n",
    "- Grant all IAM users full administrative access\n"
   ]
  },
  {
   "attachments": {},
   "cell_type": "markdown",
   "metadata": {},
   "source": [
    "## Which of the following is true about IAM policies in AWS?\n",
    "\n",
    "- IAM policies are attached directly to AWS resources\n",
    "- IAM policies are defined using `YAML` format\n",
    "- IAM policies determine what actions are allowed or denied on AWS resources ***\n",
    "- IAM policies can only be created by AWS Support"
   ]
  },
  {
   "attachments": {},
   "cell_type": "markdown",
   "metadata": {},
   "source": [
    "## What does ARN stand for in the context of AWS IAM?\n",
    "\n",
    "- Amazon Resource Name ***\n",
    "- Access Rights Notification\n",
    "- Authorized Role Number\n",
    "- Application Resource Namespace"
   ]
  },
  {
   "attachments": {},
   "cell_type": "markdown",
   "metadata": {},
   "source": [
    "## Which of the following statements accurately describes the structure of an Amazon Resource Name (ARN) in AWS IAM?\n",
    "\n",
    "- ARNs consist of a service name, followed by a region code, and then an account ID ***\n",
    "- ARNs start with the AWS service name, followed by an account ID, and then a region code\n",
    "- ARNs begin with an account ID, followed by a region code, and then the AWS service name\n",
    "- ARNs have a variable structure depending on the AWS service and do not follow a specific format"
   ]
  }
 ],
 "metadata": {
  "language_info": {
   "name": "python"
  },
  "orig_nbformat": 4
 },
 "nbformat": 4,
 "nbformat_minor": 2
}
