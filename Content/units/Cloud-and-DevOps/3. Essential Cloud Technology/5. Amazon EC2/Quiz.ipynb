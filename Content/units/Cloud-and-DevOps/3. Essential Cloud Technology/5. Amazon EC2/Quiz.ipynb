{
 "cells": [
  {
   "cell_type": "markdown",
   "metadata": {},
   "source": [
    "# Amazon EC2"
   ]
  },
  {
   "cell_type": "markdown",
   "metadata": {},
   "source": [
    "## What is the primary purpose of Amazon EC2?\n",
    "\n",
    "- Data storage\n",
    "- Database management\n",
    "- Provisioning and managing virtual servers in the cloud ***\n",
    "- Machine learning model training\n"
   ]
  },
  {
   "cell_type": "markdown",
   "metadata": {},
   "source": [
    "## Which of the following is a benefit of using EC2 instances?\n",
    "\n",
    "- Unlimited storage capacity\n",
    "- Low-cost data transfer\n",
    "- Scalability and flexibility ***\n",
    "- Integrated analytics tools"
   ]
  },
  {
   "cell_type": "markdown",
   "metadata": {},
   "source": [
    "## What is the role of the SSM Agent in EC2 instances?\n",
    "\n",
    "- Securely transmitting data to S3\n",
    "- Managing IAM permissions\n",
    "- Enabling communication with the AWS Systems Manager service ***\n",
    "- Configuring network settings"
   ]
  },
  {
   "cell_type": "markdown",
   "metadata": {},
   "source": [
    "## What are EC2 instance types primarily differentiated by?\n",
    "\n",
    "- Operating systems supported\n",
    "- Storage capacity\n",
    "- CPU, memory, storage, and network capabilities ***\n",
    "- Geographic availability"
   ]
  },
  {
   "cell_type": "markdown",
   "metadata": {},
   "source": [
    "## Which management task allows an instance to transition from a stopped state to a running state?\n",
    "\n",
    "- Starting ***\n",
    "- Rebooting\n",
    "- Stopping\n",
    "- Terminating"
   ]
  },
  {
   "cell_type": "markdown",
   "metadata": {},
   "source": [
    "## What is the purpose of Amazon Machine Images (AMIs) in EC2?\n",
    "\n",
    "- Scaling instances automatically\n",
    "- Managing IAM policies\n",
    "- Providing templates for launching instances ***\n",
    "- Enabling cross-region replication\n"
   ]
  },
  {
   "cell_type": "markdown",
   "metadata": {},
   "source": [
    "## True or False: Virtualization is the underlying technology behind EC2 that allows multiple virtual servers to run on a single physical server.\n",
    "\n",
    "- True ***\n",
    "- False"
   ]
  },
  {
   "cell_type": "markdown",
   "metadata": {},
   "source": [
    "## True or False: Session Manager requires the SSM Agent to be installed on the EC2 instances.\n",
    "\n",
    "- True ***\n",
    "- False"
   ]
  },
  {
   "cell_type": "markdown",
   "metadata": {},
   "source": [
    "## True or False: EC2 Instance Connect allows direct access to EC2 instances from the AWS Management Console without the need for SSH keys.\n",
    "\n",
    "- True ***\n",
    "- False"
   ]
  },
  {
   "cell_type": "markdown",
   "metadata": {},
   "source": [
    "## Which of the following are benefits of using EC2 instances? Select all that apply.\n",
    "\n",
    "- High-speed networking for data transfers ***\n",
    "- Ability to choose hardware configurations ***\n",
    "- Cost-effective pricing options ***\n",
    "- Integrated machine learning algorithms"
   ]
  },
  {
   "cell_type": "markdown",
   "metadata": {},
   "source": [
    "## True or False: EC2 instances can be tailored to meet specific workload requirements through the selection of different instance types.\n",
    "\n",
    "- True ***\n",
    "- False"
   ]
  },
  {
   "cell_type": "markdown",
   "metadata": {},
   "source": [
    "## Which of the following is a characteristic of General Purpose EC2 instances?\n",
    "\n",
    "- Optimized for high-performance computing\n",
    "- Designed for memory-intensive workloads\n",
    "- Balanced compute, memory, and networking resources ***\n",
    "- Ideal for graphics-intensive applications\n"
   ]
  },
  {
   "cell_type": "markdown",
   "metadata": {},
   "source": [
    "## What is the purpose of a key pair in EC2?\n",
    "\n",
    "- To establish a secure connection between instances and the AWS Systems Manager service\n",
    "- To encrypt data stored on EC2 instances\n",
    "- To control access to EC2 instances via SSH ***\n",
    "- To manage IAM user permissions for EC2 instances"
   ]
  },
  {
   "cell_type": "markdown",
   "metadata": {},
   "source": [
    "## Which of the following instance types is optimized for workloads that require high compute performance?\n",
    "\n",
    "- General Purpose instances\n",
    "- Compute Optimized instances ***\n",
    "- Memory Optimized instances\n",
    "- GPU instances"
   ]
  },
  {
   "cell_type": "markdown",
   "metadata": {},
   "source": [
    "## True or False: EC2 instances can be launched from Amazon Machine Images (AMIs), which serve as templates for the instances.\n",
    "\n",
    "- True ***\n",
    "- False"
   ]
  }
 ],
 "metadata": {
  "language_info": {
   "name": "python"
  },
  "orig_nbformat": 4
 },
 "nbformat": 4,
 "nbformat_minor": 2
}
