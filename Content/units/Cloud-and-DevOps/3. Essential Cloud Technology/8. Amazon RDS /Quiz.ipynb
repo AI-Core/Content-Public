{
 "cells": [
  {
   "cell_type": "markdown",
   "metadata": {},
   "source": [
    "# Amazon RDS"
   ]
  },
  {
   "cell_type": "markdown",
   "metadata": {},
   "source": [
    "## What is Amazon RDS?\n",
    "\n",
    "- A file storage service provided by AWS\n",
    "- A fully managed database service provided by AWS ***\n",
    "- A serverless computing service provided by AWS\n",
    "- A messaging service provided by AWS"
   ]
  },
  {
   "cell_type": "markdown",
   "metadata": {},
   "source": [
    "## True or False: Amazon RDS supports various database engines, including MySQL, PostgreSQL, Oracle Database, SQL Server, and Amazon Aurora.\n",
    "\n",
    "- True ***\n",
    "- False"
   ]
  },
  {
   "cell_type": "markdown",
   "metadata": {},
   "source": [
    "## Which of the following is NOT a benefit of using Amazon RDS?\n",
    "\n",
    "- Managed service\n",
    "- Scalability\n",
    "- Data warehousing capabilities ***\n",
    "- Security features"
   ]
  },
  {
   "cell_type": "markdown",
   "metadata": {},
   "source": [
    "## What are some methods to connect to an Amazon RDS instance?\n",
    "\n",
    "- Command-line tools only\n",
    "- Graphical database management tools only\n",
    "- Programming language libraries and frameworks only\n",
    "- All of the above ***"
   ]
  },
  {
   "cell_type": "markdown",
   "metadata": {},
   "source": [
    "## True or False: The `INSERT` statement is used to insert data into a table in a PostgreSQL Amazon RDS instance.\n",
    "\n",
    "- True ***\n",
    "- False "
   ]
  },
  {
   "cell_type": "markdown",
   "metadata": {},
   "source": [
    "## True or False: Amazon RDS handles database management tasks such as backups, software patching, and hardware provisioning.\n",
    "\n",
    "- True ***\n",
    "- False"
   ]
  },
  {
   "cell_type": "markdown",
   "metadata": {},
   "source": [
    "## Which of the following is NOT a database engine supported by Amazon RDS?\n",
    "\n",
    "- MySQL\n",
    "- PostgreSQL\n",
    "- MongoDB ***\n",
    "- SQL Server"
   ]
  },
  {
   "cell_type": "markdown",
   "metadata": {},
   "source": [
    "## True or False: Enabling public access to an Amazon RDS instance allows access from any IP address on the internet.\n",
    "\n",
    "- True ***\n",
    "- False"
   ]
  },
  {
   "cell_type": "markdown",
   "metadata": {},
   "source": [
    "## How can you perform basic operations like creating tables, inserting data, and querying data in an Amazon RDS instance?\n",
    "\n",
    "- Using SQL statements executed through a database management tool\n",
    "- Writing custom scripts in programming languages like Python or Java\n",
    "- Leveraging built-in functions and procedures provided by the database engine\n",
    "- All of the above ***"
   ]
  },
  {
   "cell_type": "markdown",
   "metadata": {},
   "source": [
    "## What is the purpose of the security groups in Amazon RDS?\n",
    "\n",
    "- To define rules for inbound and outbound access to the database instance ***\n",
    "- To encrypt the data stored in the database for enhanced security\n",
    "- To manage user authentication and authorization for the database\n",
    "- To automatically scale the storage capacity of the database"
   ]
  },
  {
   "cell_type": "markdown",
   "metadata": {},
   "source": [
    "## Which statement is true about the Free Tier option in Amazon RDS?\n",
    "\n",
    "- It offers unlimited storage capacity for free\n",
    "- It provides all the features and capabilities of the paid tiers\n",
    "- It is available only for certain database engines ***\n",
    "- It requires additional payment for data transfer and backups"
   ]
  }
 ],
 "metadata": {
  "language_info": {
   "name": "python"
  },
  "orig_nbformat": 4
 },
 "nbformat": 4,
 "nbformat_minor": 2
}
