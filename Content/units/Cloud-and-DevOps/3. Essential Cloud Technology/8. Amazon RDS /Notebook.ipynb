{
 "cells": [
  {
   "cell_type": "markdown",
   "metadata": {},
   "source": [
    "# Amazon RDS"
   ]
  },
  {
   "cell_type": "markdown",
   "metadata": {},
   "source": [
    "> *Amazon RDS (Relational Database Service)* is a fully managed database service provided by AWS. It simplifies the setup, operation, and scaling of a relational database, such as MySQL, PostgreSQL, Oracle, SQL Server, or Amazon Aurora.\n",
    "\n",
    "> IMPORTANT: Though AWS RDS is Free Tier there are some limitations, so you will get charged for AWS RDS if your use it outside the Free Tier usage. The Free Tier usage will include 750 hours and 20GB of storage a month on select micro sized databases. The details of pricing can be found at the following [link](https://aws.amazon.com/rds/pricing/). Remember to close any AWS resources after use if using your own AWS account. "
   ]
  },
  {
   "cell_type": "markdown",
   "metadata": {},
   "source": [
    "## Motivation\n",
    "\n",
    "Learning about Amazon RDS and its basic features will allow you to streamline and optimize database management tasks. With Amazon RDS, you can spend less time on complicated administrative tasks and focus more on building your applications. It's user-friendly, can handle increased demands, keeps your data available, and provides strong security. By understanding Amazon RDS, you can efficiently create reliable database-driven applications in the cloud and bring your ideas to life with simplicity and confidence."
   ]
  },
  {
   "cell_type": "markdown",
   "metadata": {},
   "source": [
    "## Key Features of Amazon RDS\n",
    "\n",
    "Using Amazon RDS offers several key benefits that simplify database management and enhance the security and availability of your data.\n",
    "\n",
    "- **Fully Managed**: Amazon RDS is a fully managed service provided by AWS. This means that AWS takes care of essential database management tasks for you, such as backups, software patching, and hardware provisioning\n",
    "\n",
    "- **Multiple Database Engines**: Amazon RDS supports popular relational database engines, including MySQL, PostgreSQL, Oracle Database, SQL Server, and Amazon Aurora. This allows you to choose the engine that best fits your application requirements.\n",
    "\n",
    "- **Easy Scaling**: With Amazon RDS, you can easily scale your database resources up or down based on demand. This flexibility ensures that your database can handle varying workloads efficiently.\n",
    "\n",
    "- **High Availability and Durability**: Amazon RDS provides features like automated backups, database snapshots, and multi-availability zone deployments to ensure high availability and durability of your database\n",
    "\n",
    "- **Security**: Amazon RDS offers robust security features, including encryption at rest and in transit, network isolation using Amazon VPC, and the ability to manage database access using AWS IAM\n",
    "\n",
    "- **Monitoring and Metrics**: Amazon RDS integrates with Amazon CloudWatch to provide monitoring capabilities and generate performance metrics for your database instances. We will discuss more about monitoring in a future lesson.\n"
   ]
  },
  {
   "cell_type": "markdown",
   "metadata": {},
   "source": [
    "## Amazon RDS Database Engines\n",
    "\n",
    "Amazon RDS supports a variety of popular database engines, offering flexibility to choose the one that best fits your specific requirements. Let's explore the differences and use cases for each supported engine.\n",
    "\n",
    "### 1. MySQL\n",
    "\n",
    "MySQL is a widely used open-source relational database management system (RDBMS) known for its speed, reliability, and ease of use. MySQL is suitable for a broad range of applications, including web applications, content management systems, e-commerce platforms, and data-driven applications.\n",
    "\n",
    "### 2. PostgreSQL\n",
    "\n",
    "PostgreSQL is a powerful open-source object-relational database system known for its extensibility, robustness, and compliance with SQL standards. PostgreSQL is suitable for applications that require complex queries, data integrity, and advanced features such as full-text search, geospatial data processing, and `JSON` document storage.\n",
    "\n",
    "### 3. Oracle Database\n",
    "\n",
    "Oracle Database is a feature-rich and highly scalable commercial relational database management system known for its reliability, security, and comprehensive set of tools. Oracle Database is often used for enterprise-level applications that demand high performance, scalability, and advanced security features. It is commonly utilized in industries such as finance, healthcare, and large-scale e-commerce.\n",
    "\n",
    "### 4. SQL Server\n",
    "\n",
    "SQL Server is a commercial relational database management system developed by Microsoft. It offers robust features, seamless integration with Microsoft tools and technologies, and excellent support for Windows-based environments. SQL Server is frequently used for applications built on Microsoft technologies, such as .NET applications, business intelligence solutions, and enterprise-level applications that require strong integration with Windows ecosystems.\n",
    "\n",
    "### 5. Amazon Aurora\n",
    "\n",
    "Amazon Aurora is a MySQL and PostgreSQL-compatible relational database engine built specifically for the cloud. It offers high performance, scalability, and durability while maintaining compatibility with existing MySQL and PostgreSQL applications. Amazon Aurora is suitable for a wide range of applications, including those with high read and write workloads, applications requiring high availability and durability, and scenarios where compatibility with MySQL or PostgreSQL is necessary.\n",
    "\n",
    "Choosing the right database engine depends on factors such as the specific requirements of your application, performance needs, scalability demands, and any existing technology stack or compatibility considerations. It is essential to evaluate the features, strengths, and use cases of each database engine to make an informed decision that aligns with your application's needs."
   ]
  },
  {
   "cell_type": "markdown",
   "metadata": {},
   "source": [
    "## Creating an Amazon RDS Instance\n",
    "\n",
    "Let's walk through an example of creating an Amazon RDS instance using PostgreSQL as the database engine. To do so follow along these steps:\n",
    "\n",
    "1. Sign in to the AWS Management Console and open the Amazon RDS service by typing **RDS** in the search bar located at the top of the screen\n",
    "\n",
    "2. In the Amazon RDS dashboard, click on **Create database** to start the instance creation process. Select **Standard Create** to configure a new database instance.\n",
    "\n",
    "3. Under **Engine options** select **PostgreSQL**. Choose the appropriate version of PostgreSQL, for this walkthrough I will keep the default.\n",
    "\n",
    "<p align=\"center\">\n",
    "    <img src=\"images/EngineOptions.png\" width=\"850\" height=\"500\"/>\n",
    "</p>\n",
    "\n",
    "4. Under the **Template** section, you can choose between:\n",
    "\n",
    "   - **Production**: This template is intended for setting up high-performance database environments to serve live applications in a production setting\n",
    "   - **Dev/Test**: This template is designed for development or testing purposes, providing cost-effective resources for non-production workloads\n",
    "   - **Free Tier**: This option offers limited resources at no cost for eligible accounts, ideal for experimenting, learning, or small-scale applications within specified usage limits\n",
    "\n",
    "   We will select the **Free tier** for this walkthrough.\n",
    "\n",
    "5. Assign an unique identifier (instance identifier) to the database instance (e.g. `my-first-rds-db`)\n",
    "\n",
    "6. Set up database credentials by creating a master username and password for accessing the PostgreSQL database\n",
    "\n",
    "<p align=\"center\">\n",
    "    <img src=\"images/DBSecurity.png\" width=\"900\" height=\"600\"/>\n",
    "</p>\n",
    "\n",
    "7. Under the **Storage** section, ensure that **Enable storage autoscaling** is turned off to stay within the limits of the AWS Free Tier, which covers up to 20 GB of storage\n",
    "\n",
    "8. By default, when launching an Amazon RDS instance, it is created in the default VPC and subnet unless specified otherwise. We will keep these options selected. The security group attached to the RDS database will also be the default one.\n",
    "\n",
    "9. When configuring your Amazon RDS instance, you have the option to enable or disable public access. If public access is enabled, the database instance is assigned a publicly accessible IP address or hostname, allowing it to be accessed from the internet. If public access is disabled, the instance can only be accessed within the VPC or through other authorized private network connections. To access the Amazon RDS instance from your private computer, we need to either enable public access or configure the security group associated with the instance to allow inbound access from your computer's IP address. As this database is just used for learning, I will allow **Public access** by clicking **Yes**. If this was a production or testing database, it would be better to keep it private and adjust the security groups accordingly.\n",
    "\n",
    "<p align=\"center\">\n",
    "    <img src=\"images/PublicAccess.png\" width=\"900\" height=\"500\"/>\n",
    "</p>\n",
    "\n",
    "10. Review the configured settings for the database instance, including the instance type, storage, and security groups. Make any necessary changes if required. Click on **Create database** to launch the Amazon RDS instance.\n",
    "\n",
    "11. Monitor the progress of the instance creation process in the Amazon RDS dashboard. During the creation process you might be met with the following pop-up:\n",
    "\n",
    "<p align=\"center\">\n",
    "    <img src=\"images/PopUp.png\" width=\"850\" height=\"550\"/>\n",
    "</p>\n",
    "\n",
    "   Click **Close** to exit this pop-up.\n",
    "\n",
    "12. Once the instance is successfully created, you can start connecting to and using the PostgreSQL database. This might take a couple of minutes."
   ]
  },
  {
   "cell_type": "markdown",
   "metadata": {},
   "source": [
    "## Exploring the Database Home Page\n",
    "\n",
    "Once you have created a PostgreSQL database instance on Amazon RDS, you can navigate to the Database Home Page to access various information and management options. Let's explore the different tabs available on the home page and the information they provide.\n",
    "\n",
    "<p align=\"center\">\n",
    "    <img src=\"images/DatabaseHomePage.png\" width=\"850\" height=\"500\"/>\n",
    "</p>\n",
    "\n",
    "### Summary\n",
    "\n",
    "The **Summary** tab provides an overview of the key details and metrics related to your PostgreSQL database instance. It includes information such as the instance identifier, engine version, instance status, availability zone, allocated storage, and the option to modify the instance.\n",
    "\n",
    "### Connectivity & Security\n",
    "\n",
    "The **Connectivity & Security** tab allows you to manage the network connectivity and security settings for your PostgreSQL instance. Here, you can configure security groups, define inbound and outbound rules for network access, modify database port settings, and enable or disable public accessibility.\n",
    "\n",
    "> The **Endpoint** refers to the hostname or IP address that you use to connect to your PostgreSQL database instance. It acts as the entry point for accessing your database. The **Port** represents the network port number used to establish a connection to your PostgreSQL database instance. By default, PostgreSQL uses port 5432 for communication, but you can modify it based on your specific requirements.\n",
    "\n",
    "When connecting to the database, you need to specify the endpoint address along with the port number to establish a successful connection. We we will see how to use these in the next section.\n",
    "\n",
    "####  Allow Access outside AWS\n",
    "\n",
    "To ensure access to the data from outside AWS, you need to configure the appropriate rules in the security group associated with your PostgreSQL instance. To do this, you need to first identify the **VPC security groups**. This can be located in the **Connectivity & Security** under the **Security** section. \n",
    "\n",
    "Accessing this security group will redirect you to its settings, where you can access its inbound and outbound rules. Here you will need to modify the inbound rules. You can do so by clicking on **Edit inbound rules** (if you are not familiar with this process, make sure to go back to the Virtual Private Cloud (VPC) lesson). \n",
    "\n",
    "In the inbound rules section, add a new rule to allow inbound traffic from the desired source (e.g., your external IP address or a specific IP range). In this case since this is just a practice database and contains no sensitive information we can allow all IP addresses to connect with the `Anywhere-IPv4` option. However, remember that in industry there will be tight restrictions on which IP addresses can connect the database. Specify the protocol (**custom TCP**) and the port number (default: **5432** for PostgreSQL) to enable incoming connections.\n",
    "\n",
    "<p align=\"center\">\n",
    "    <img src=\"images/InboundRules.png\" width=\"900\" height=\"450\"/>\n",
    "</p>\n",
    "\n",
    "Save the updated security group configuration to apply the changes. By adding the appropriate inbound rule, you allow external access to your PostgreSQL database instance from the specified source IP address or IP range. This enables connections to your database from outside AWS, allowing you to interact with and retrieve data from the database using the provided endpoint and port information.\n",
    "\n",
    "### Monitoring\n",
    "\n",
    "The **Monitoring** tab provides integration with CloudWatch, AWS's monitoring and observability service. It offers monitoring capabilities and the ability to create custom dashboards, set up alarms based on specific metrics, and configure automated actions based on threshold conditions. We will learn more about CloudWatch in another lesson.\n",
    "\n",
    "### Log & Events\n",
    "\n",
    "The **Log & Events** tab provides access to database logs and event history. It allows you to view and download database log files, such as error logs and slow query logs, for troubleshooting and analysis. You can also access event history to review the actions performed on the database, including modifications, backups, and maintenance activities.\n",
    "\n",
    "### Configuration \n",
    "\n",
    "The **Configuration** tab displays the configuration settings for your PostgreSQL instance. It includes details such as the instance class, storage type, allocated storage size, backup retention period, and other specific database settings.\n",
    "\n",
    "### Maintenance & Backup\n",
    "\n",
    "The **Maintenance & Backup** tab provides options for managing backups and maintenance operations for your PostgreSQL database.\n",
    "You can schedule automated backups, enable or disable backup retention, and configure the preferred maintenance window to perform maintenance tasks such as software patching and system updates. Backups are beyond the scope of this lesson, and we will not cover this concept here."
   ]
  },
  {
   "cell_type": "markdown",
   "metadata": {},
   "source": [
    "## Connecting to an Amazon RDS Instance\n",
    "\n",
    "### Connection Methods\n",
    "\n",
    "When working with a PostgreSQL database on Amazon RDS, you have various methods available to establish connections and interact with your database.\n",
    "\n",
    "One commonly used method is through command-line tools. PostgreSQL provides the `psql` command-line tool, which allows you to connect to your PostgreSQL database instance directly from a terminal or command prompt. Using `psql`, you can execute queries, manage databases, and perform administrative tasks by typing commands in the command-line interface.\n",
    "\n",
    "Another approach is to use graphical database management tools specifically designed for PostgreSQL, such as **pgAdmin**. pgAdmin offers a comprehensive graphical user interface (GUI) that simplifies database management tasks. With pgAdmin, you can visually navigate through your database structure, create and modify tables, execute queries using a query builder, and view query results in a user-friendly format. This GUI-based tool is particularly useful for those who prefer visual interactions and want to avoid typing commands manually.\n",
    "\n",
    "Additionally, when developing applications, you can leverage programming language libraries and frameworks to connect to your PostgreSQL Amazon RDS instance. For example, `psycopg2` is a popular Python library for PostgreSQL that enables you to establish connections, execute SQL queries, and retrieve results programmatically. Similarly, various programming languages offer PostgreSQL connectivity options through **JDBC (Java Database Connectivity) drivers**, allowing you to integrate database operations seamlessly into your applications.\n",
    "\n",
    "> Regardless of the method you choose, you will need to provide the necessary connection details. These include the endpoint (hostname or IP address) and port number of your PostgreSQL Amazon RDS instance, which can be found on the AWS Management Console. Additionally, you'll need to authenticate using the appropriate credentials, including the username and password assigned to your database.\n",
    "\n",
    "### Connecting to the Instance\n",
    "\n",
    "#### 1. Connecting with pgAdmin\n",
    "\n",
    "1. Open pgAdmin, a graphical database management tool specifically designed for PostgreSQL. It provides an intuitive user interface for managing databases and executing queries.\n",
    "\n",
    "2. Right-click on the **Servers** group and select **Create** > **Server Group** to set up a new server connection. You will need to provide a name for the server, which can be any descriptive name to identify your connection. Click **Save**.\n",
    "\n",
    "<p align=\"center\">\n",
    "    <img src=\"images/ServerName.png\" width=\"850\" height=\"500\"/>\n",
    "</p>\n",
    "\n",
    "3. Right-click on the newly created server and select **Register** > **Server**. In the **General** tab, provide a name for the server, which can be any descriptive name to identify your connection.\n",
    "\n",
    "4. Move to the **Connection** tab and enter the necessary information:\n",
    "   -  In the **Host** field, enter the endpoint of your PostgreSQL Amazon RDS instance. You can find this information in the AWS Management Console under **Connectivity & security**.\n",
    "   - Specify the port number associated with the PostgreSQL database. By default, PostgreSQL uses port 5432.\n",
    "   - Click **Save** to save the server connection settings\n",
    "\n",
    "5. You can now connect to the PostgreSQL Amazon RDS instance by double-clicking on the server name in the pgAdmin interface. This will establish a connection and allow you to explore the database, execute queries, and perform various administrative tasks using the graphical interface provided by pgAdmin.\n",
    "\n",
    "#### 2. Connecting with `psycopg2`\n",
    "\n",
    "1. Ensure that you have the `psycopg2` library installed. If not, you can install it using pip: `pip install psycopg2`.\n",
    "\n",
    "2. Import the `psycopg2` module into your Python script to utilize its functionality\n",
    "\n",
    "3. To establish a connection, you need to provide the necessary connection details such as host, port, database name, username, and password. Use the following code snippet as a starting point to establish a connection using `psycopg2`:"
   ]
  },
  {
   "cell_type": "code",
   "execution_count": null,
   "metadata": {},
   "outputs": [],
   "source": [
    "import psycopg2\n",
    "\n",
    "# Database connection details\n",
    "host = \"<your-amazon-rds-endpoint>\"\n",
    "port = \"5432\"\n",
    "database = \"postgres\"\n",
    "user = \"postgres\"\n",
    "password = \"<your-password>\"\n",
    "\n",
    "# Establish the connection\n",
    "conn = psycopg2.connect(\n",
    "    host=host,\n",
    "    port=port,\n",
    "    database=database,\n",
    "    user=user,\n",
    "    password=password\n",
    ")\n",
    "\n",
    "# Perform database operations using the connection\n",
    "# ...\n",
    "\n",
    "# Close the connection when finished\n",
    "conn.close()"
   ]
  },
  {
   "cell_type": "markdown",
   "metadata": {},
   "source": [
    "4. Replace the placeholder values in the code with the appropriate connection details for your PostgreSQL Amazon RDS instance. The default user and database are `postgres` and `postgres`, respectively. The default port is `5432`.\n",
    "\n",
    "5. After establishing the connection (`conn`), you can utilize the various functions and methods provided by `psycopg2` to execute SQL queries, perform database operations, retrieve query results, and manage transactions within your Python code"
   ]
  },
  {
   "cell_type": "markdown",
   "metadata": {},
   "source": [
    "## Basic Operations on PostgreSQL Amazon RDS Instance\n",
    "\n",
    "In this section, we will cover the basic database operations you can perform on your PostgreSQL Amazon RDS instance. We'll explore how to create tables, insert data, and query data using appropriate tools.\n",
    "\n",
    "### Creating Tables\n",
    "\n",
    "To create tables, you can utilize SQL statements executed through tools like pgAdmin or `psycopg2`.\n",
    "\n",
    "In pgAdmin, navigate to the desired database, right-click on the **Tables** folder, and select **Create** > **Table** to open a table creation dialog. Specify the table name, column names, data types, constraints, and other necessary details. Click **Save** to create the table.\n",
    "\n",
    "Using `psycopg2`, you can execute the SQL statement within your Python code. For example:"
   ]
  },
  {
   "cell_type": "code",
   "execution_count": null,
   "metadata": {},
   "outputs": [],
   "source": [
    "import psycopg2\n",
    "\n",
    "conn = psycopg2.connect(<connection_details>)\n",
    "cursor = conn.cursor()\n",
    "\n",
    "create_table_query = \"\"\"\n",
    "    CREATE TABLE IF NOT EXISTS <table_name> (\n",
    "        <column_name1> <data_type1>,\n",
    "        <column_name2> <data_type2>,\n",
    "        ...\n",
    "    )\n",
    "\"\"\"\n",
    "\n",
    "cursor.execute(create_table_query)\n",
    "conn.commit()\n",
    "\n",
    "cursor.close()\n",
    "conn.close()"
   ]
  },
  {
   "cell_type": "markdown",
   "metadata": {},
   "source": [
    "### Inserting Data\n",
    "\n",
    "To insert data into a table, you can use SQL `INSERT` statements.\n",
    "\n",
    "In pgAdmin, you can do this by switching to the desired database, and execute an `INSERT` statement. For example:"
   ]
  },
  {
   "cell_type": "code",
   "execution_count": null,
   "metadata": {
    "vscode": {
     "languageId": "sql"
    }
   },
   "outputs": [],
   "source": [
    "INSERT INTO <table_name> (<column_name1>, <column_name2>, ...)\n",
    "VALUES (<value1>, <value2>, ...);"
   ]
  },
  {
   "cell_type": "markdown",
   "metadata": {},
   "source": [
    "With `psycopg2`, you can use the `execute()` method to execute the `INSERT` statement. For example:"
   ]
  },
  {
   "cell_type": "code",
   "execution_count": null,
   "metadata": {},
   "outputs": [],
   "source": [
    "import psycopg2\n",
    "\n",
    "conn = psycopg2.connect(<connection_details>)\n",
    "cursor = conn.cursor()\n",
    "\n",
    "insert_query = \"\"\"\n",
    "    INSERT INTO <table_name> (<column_name1>, <column_name2>, ...)\n",
    "    VALUES (%s, %s, ...)\n",
    "\"\"\"\n",
    "\n",
    "data = (<value1>, <value2>, ...)\n",
    "cursor.execute(insert_query, data)\n",
    "conn.commit()\n",
    "\n",
    "cursor.close()\n",
    "conn.close()"
   ]
  },
  {
   "cell_type": "markdown",
   "metadata": {},
   "source": [
    "### Querying Data\n",
    "\n",
    "To retrieve data from a table, you can use `SELECT` statements.\n",
    "\n",
    "In pgAdmin, switch to the desired database, and execute a `SELECT` statement. For example:"
   ]
  },
  {
   "cell_type": "code",
   "execution_count": null,
   "metadata": {
    "vscode": {
     "languageId": "sql"
    }
   },
   "outputs": [],
   "source": [
    "SELECT * FROM <table_name>;"
   ]
  },
  {
   "cell_type": "markdown",
   "metadata": {},
   "source": [
    "With `psycopg2`, you can execute the `SELECT` statement and retrieve the results. For example:"
   ]
  },
  {
   "cell_type": "code",
   "execution_count": null,
   "metadata": {},
   "outputs": [],
   "source": [
    "import psycopg2\n",
    "\n",
    "conn = psycopg2.connect(<connection_details>)\n",
    "cursor = conn.cursor()\n",
    "\n",
    "select_query = \"SELECT * FROM <table_name>\"\n",
    "\n",
    "cursor.execute(select_query)\n",
    "rows = cursor.fetchall()\n",
    "\n",
    "for row in rows:\n",
    "    print(row)\n",
    "\n",
    "cursor.close()\n",
    "conn.close()\n"
   ]
  },
  {
   "cell_type": "markdown",
   "metadata": {},
   "source": [
    "By utilizing pgAdmin or `psycopg2`, you can perform basic database operations on your PostgreSQL Amazon RDS instance. Whether it's creating tables, inserting data, or querying data, these tools provide the necessary functionality to execute SQL statements and view the results, allowing you to interact with your database effectively."
   ]
  },
  {
   "cell_type": "markdown",
   "metadata": {},
   "source": [
    "## Hands-On: Loading the `iris` Dataset \n",
    "\n",
    "In this walkthrough example, we will demonstrate how to use the `psycopg2` library to load the popular `iris` dataset into your PostgreSQL Amazon RDS instance. We will then explore how to visualize the loaded data using pgAdmin.\n",
    "\n",
    "The `iris` dataset is a well-known dataset in machine learning and statistics. It contains measurements of sepal length, sepal width, petal length, and petal width for three different species of Iris flowers: setosa, versicolor, and virginica.\n",
    "\n",
    "### Step 1: Connect to PostgreSQL Amazon RDS with `psycopg2`\n",
    "\n",
    "Begin by establishing a connection to your PostgreSQL Amazon RDS instance using `psycopg2`. Ensure you have the necessary connection details, such as the endpoint, port, database name, username, and password."
   ]
  },
  {
   "cell_type": "code",
   "execution_count": null,
   "metadata": {},
   "outputs": [],
   "source": [
    "from sqlalchemy import create_engine\n",
    "\n",
    "# Database connection details\n",
    "DATABASE_TYPE = 'postgresql'\n",
    "DBAPI = 'psycopg2'\n",
    "ENDPOINT = \"<your-amazon-rds-endpoint>\"\n",
    "USER = 'postgres'\n",
    "PASSWORD = \"<your-password>\"\n",
    "PORT = 5432\n",
    "DATABASE = 'postgres'\n",
    "engine = create_engine(f\"{DATABASE_TYPE}+{DBAPI}://{USER}:{PASSWORD}@{ENDPOINT}:{PORT}/{DATABASE}\")\n",
    "\n",
    "engine.connect()"
   ]
  },
  {
   "cell_type": "markdown",
   "metadata": {},
   "source": [
    "### Step 2: Load the `iris` Dataset\n",
    "\n",
    "We can import the `iris` dataset from the the scikit-learn (`sklearn`) library using the `load_iris()` function. This function returns a dataset object that contains the features (sepal length, sepal width, petal length, petal width) and target (species) data.\n",
    "\n",
    "To do this, first make sure you have the following libraries installed:"
   ]
  },
  {
   "cell_type": "code",
   "execution_count": null,
   "metadata": {},
   "outputs": [],
   "source": [
    "!pip install sklearn\n",
    "!pip install pandas"
   ]
  },
  {
   "cell_type": "markdown",
   "metadata": {},
   "source": [
    "Then run the following line to load the dataset into a Pandas Dataframe, and visualise the first 5 entries:"
   ]
  },
  {
   "cell_type": "code",
   "execution_count": null,
   "metadata": {},
   "outputs": [],
   "source": [
    "from sklearn.datasets import load_iris\n",
    "import pandas as pd\n",
    "data = load_iris()\n",
    "iris = pd.DataFrame(data['data'], columns=data['feature_names'])\n",
    "iris.head()"
   ]
  },
  {
   "cell_type": "markdown",
   "metadata": {},
   "source": [
    "### Step 3:  Insert Data into the Database\n",
    "\n",
    "Using the `to_sql()` Pandas method, you can insert the data from the DataFrame into a table named `iris_dataset` in your PostgreSQL Amazon RDS instance."
   ]
  },
  {
   "cell_type": "code",
   "execution_count": null,
   "metadata": {},
   "outputs": [],
   "source": [
    "iris.to_sql('iris_dataset', engine, if_exists='replace')"
   ]
  },
  {
   "cell_type": "markdown",
   "metadata": {},
   "source": [
    "Unfortunately, AWS RDS does not allow you to view the tables you created. However, you can still access them using pgAdmin or `SQLAlchemy`. "
   ]
  },
  {
   "cell_type": "code",
   "execution_count": null,
   "metadata": {},
   "outputs": [],
   "source": [
    "df = pd.read_sql_table('iris_dataset', engine)\n",
    "df.head()"
   ]
  },
  {
   "cell_type": "markdown",
   "metadata": {},
   "source": [
    "### Step 4: Verify Data Loading in pgAdmin\n",
    "\n",
    "Open pgAdmin and connect to your PostgreSQL Amazon RDS instance. You should now be able to see the `iris` dataset under **Tables**.\n",
    "\n",
    "<p align=\"center\">\n",
    "    <img src=\"images/pgAdminDataset.png\" width=\"850\" height=\"600\"/>\n",
    "</p>"
   ]
  },
  {
   "cell_type": "markdown",
   "metadata": {},
   "source": [
    "## Key Takeaways\n",
    "\n",
    "- Amazon RDS (Relational Database Service) is a fully managed database service provided by Amazon Web Services (AWS). It simplifies the setup, operation, and scaling of relational databases such as MySQL, PostgreSQL, Oracle, SQL Server, or Amazon Aurora.\n",
    "- Amazon RDS offers benefits such as managed service, scalability, high availability, and security features like encryption, user management, and network isolation\n",
    "- To create an Amazon RDS instance you will need to choose the desired database engine, configure instance details, and set up credentials and security groups\n",
    "- Connecting to an Amazon RDS instance can be done using tools like pgAdmin for a graphical interface or `psycopg2` library in Python for programmatic access\n",
    "- Basic operations on Amazon RDS involve creating tables, inserting data, and querying data. Tools like pgAdmin and `psycopg2` can be used to execute SQL statements and view the results.\n",
    "- By leveraging the capabilities of Amazon RDS, you can efficiently manage and interact with databases, load and analyze real-world datasets, and gain valuable insights for various applications and use cases"
   ]
  }
 ],
 "metadata": {
  "kernelspec": {
   "display_name": "Python 3",
   "language": "python",
   "name": "python3"
  },
  "language_info": {
   "codemirror_mode": {
    "name": "ipython",
    "version": 3
   },
   "file_extension": ".py",
   "mimetype": "text/x-python",
   "name": "python",
   "nbconvert_exporter": "python",
   "pygments_lexer": "ipython3",
   "version": "3.9.0"
  }
 },
 "nbformat": 4,
 "nbformat_minor": 2
}
