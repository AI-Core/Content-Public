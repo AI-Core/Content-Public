{
 "cells": [
  {
   "cell_type": "markdown",
   "metadata": {},
   "source": [
    "# IAM Roles"
   ]
  },
  {
   "cell_type": "markdown",
   "metadata": {},
   "source": [
    "## True/False: IAM Roles are used to grant permissions and control access to resources within AWS.\n",
    "\n",
    "- True ***\n",
    "- False"
   ]
  },
  {
   "cell_type": "markdown",
   "metadata": {},
   "source": [
    "## Which principle recommends granting the minimum set of permissions required for a task or role?\n",
    "\n",
    "- Principle of Most Privilege\n",
    "- Principle of Least Privilege ***\n",
    "- Principle of Excessive Permissions\n",
    "- Principle of Unrestricted Access"
   ]
  },
  {
   "cell_type": "markdown",
   "metadata": {},
   "source": [
    "## True/False: IAM Roles attached to EC2 instances can be modified to update their trust policies and permissions.\n",
    "\n",
    "- True ***\n",
    "- False"
   ]
  },
  {
   "cell_type": "markdown",
   "metadata": {},
   "source": [
    "## What is the recommended practice for managing IAM Roles in terms of regular review and updates?\n",
    "\n",
    "- Review and update IAM Roles annually\n",
    "- Review and update IAM Roles monthly\n",
    "- Review and update IAM Roles quarterly\n",
    "- Review and update IAM Roles regularly, according to business needs ***"
   ]
  },
  {
   "cell_type": "markdown",
   "metadata": {},
   "source": [
    "## True/False: IAM Roles can be attached to both EC2 instances and S3 buckets.\n",
    "\n",
    "- True \n",
    "- False ***"
   ]
  },
  {
   "cell_type": "markdown",
   "metadata": {},
   "source": [
    "## When attaching an IAM Role to an existing EC2 instance, what action is required?\n",
    "\n",
    "- Terminate and relaunch the instance\n",
    "- Reboot the instance\n",
    "- Modify the instance's security group\n",
    "- Associate the IAM Role with the instance's instance profile ***"
   ]
  }
 ],
 "metadata": {
  "language_info": {
   "name": "python"
  },
  "orig_nbformat": 4
 },
 "nbformat": 4,
 "nbformat_minor": 2
}
