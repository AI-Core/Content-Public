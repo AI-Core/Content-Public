{
 "cells": [
  {
   "attachments": {},
   "cell_type": "markdown",
   "metadata": {},
   "source": [
    "# MSK Essentials"
   ]
  },
  {
   "attachments": {},
   "cell_type": "markdown",
   "metadata": {},
   "source": [
    "## Which of the following components are included in Amazon MSK?\n",
    "\n",
    "- Apache Kafka brokers\n",
    "- Apache ZooKeeper\n",
    "- Kafka Connect\n",
    "- All of the above ***"
   ]
  },
  {
   "attachments": {},
   "cell_type": "markdown",
   "metadata": {},
   "source": [
    "## What are broker nodes in Amazon MSK?\n",
    "\n",
    "- Virtual machines that run Apache Kafka ***\n",
    "- Cloud storage services for message data\n",
    "- Nodes that manage configuration information\n",
    "- Network load balancers for routing traffic\n",
    "\n"
   ]
  },
  {
   "attachments": {},
   "cell_type": "markdown",
   "metadata": {},
   "source": [
    "## What is the role of ZooKeeper nodes in Amazon MSK?\n",
    "\n",
    "- To manage message processing and storage\n",
    "- To handle cluster coordination and configuration ***\n",
    "- To provide network load balancing for broker nodes\n",
    "- To store and manage external data sources and sinks"
   ]
  },
  {
   "attachments": {},
   "cell_type": "markdown",
   "metadata": {},
   "source": [
    "## What are producers, consumers, and topics in Amazon MSK?\n",
    "\n",
    "- Network load balancers for routing traffic to broker nodes\n",
    "- Nodes that manage configuration information for Kafka clusters\n",
    "- Components for handling message processing and storage\n",
    "- Entities for sending, receiving, and categorizing messages in a Kafka cluster ***"
   ]
  },
  {
   "attachments": {},
   "cell_type": "markdown",
   "metadata": {},
   "source": [
    "## Which of the following is a cluster operation that can be performed in Amazon MSK?\n",
    "\n",
    "- Creating a virtual machine\n",
    "- Installing software packages\n",
    "- Scaling up or down the number of broker nodes ***\n",
    "- Allocating storage volumes"
   ]
  },
  {
   "attachments": {},
   "cell_type": "markdown",
   "metadata": {},
   "source": [
    "## Which of the following is a benefit of using Amazon MSK?\n",
    "\n",
    "- Ability to process batch data in real-time\n",
    "- Automatic scaling to handle changing workloads ***\n",
    "- Integration with machine learning models\n",
    "- Support for multiple programming languages\n",
    "\n"
   ]
  },
  {
   "attachments": {},
   "cell_type": "markdown",
   "metadata": {},
   "source": [
    "## How does Amazon MSK ensure high availability of Kafka clusters?\n",
    "\n",
    "- By providing multiple options for data storage\n",
    "- By replicating data across multiple broker nodes ***\n",
    "- By integrating with machine learning models\n",
    "- By providing automatic load balancing for network traffic"
   ]
  },
  {
   "attachments": {},
   "cell_type": "markdown",
   "metadata": {},
   "source": [
    "## Which of the following is a step in creating an Amazon MSK cluster in the AWS Management Console? Select all that apply.\n",
    "\n",
    "- Launch an EC2 instance, install Kafka, and configure ZooKeeper\n",
    "- Selecting a storage volume size for each broker node ***\n",
    "- Selecting the region where the cluster will be located ***\n",
    "- Select the Kafka version to use ***"
   ]
  },
  {
   "attachments": {},
   "cell_type": "markdown",
   "metadata": {},
   "source": [
    "## What is the Bootstrap server string in Amazon MSK?\n",
    "\n",
    "- A list of all the broker nodes in the cluster ***\n",
    "- A configuration setting for data retention policies\n",
    "- A security group for controlling network access to the cluster\n",
    "- A file system mount point for Kafka data"
   ]
  },
  {
   "attachments": {},
   "cell_type": "markdown",
   "metadata": {},
   "source": [
    "## What is the Apache ZooKeeper connection string in Amazon MSK?\n",
    "\n",
    "- A list of all the broker nodes in the cluster\n",
    "- A configuration setting for data retention policies\n",
    "- A security group for controlling network access to the cluster\n",
    "- A list of ZooKeeper nodes used for cluster coordination and configuration management ***"
   ]
  },
  {
   "attachments": {},
   "cell_type": "markdown",
   "metadata": {},
   "source": [
    "## What AWS CLI command can be used to retrieve information about an Amazon MSK cluster?\n",
    "\n",
    "- `aws kafka describe-cluster --cluster-arn <cluster-arn>` ***\n",
    "- `aws kafka get-cluster-info --cluster-arn <cluster-arn>`\n",
    "- `aws kafka list-clusters --cluster-arn <cluster-arn>`\n",
    "- `aws kafka get-cluster-arn --cluster-info <cluster-name>`"
   ]
  },
  {
   "attachments": {},
   "cell_type": "markdown",
   "metadata": {},
   "source": [
    "## What is the cluster ARN in Amazon MSK?\n",
    "\n",
    "- An identifier for a Kafka topic in the cluster\n",
    "- A unique name for a Kafka producer or consumer\n",
    "- An Amazon Resource Name (ARN) that uniquely identifies an MSK cluster in AWS ***\n",
    "- A configuration setting for managing data retention policies in the cluster\n",
    "\n"
   ]
  },
  {
   "attachments": {},
   "cell_type": "markdown",
   "metadata": {},
   "source": [
    "## What AWS CLI command can be used to retrieve the bootstrap brokers in an Amazon MSK cluster?\n",
    "\n",
    "- `aws kafka list-bootstrap-brokers --cluster-name <cluster-name>`\n",
    "- `aws kafka get-bootstrap-brokers --cluster-arn <cluster-arn>` ***\n",
    "- `aws kafka describe-cluster --cluster-arn <cluster-arn>`\n",
    "- `aws kafka get-broker-nodes --cluster-arn <cluster-arn>`"
   ]
  },
  {
   "attachments": {},
   "cell_type": "markdown",
   "metadata": {},
   "source": [
    "## What is the purpose of the `client.properties` file when using IAM authentication to connect a Kafka client to an Amazon MSK cluster?\n",
    "\n",
    "- To specify the SSL/TLS encryption configuration for the client's communication with the MSK cluster\n",
    "- To specify the bootstrap servers for the client's connection to the MSK cluster\n",
    "- To specify the SASL mechanism and authentication protocol for the client's authentication to the MSK cluster ***\n",
    "- To specify the IAM role ARN and AWS region for the client's authentication to the MSK cluster"
   ]
  }
 ],
 "metadata": {
  "kernelspec": {
   "display_name": "base",
   "language": "python",
   "name": "python3"
  },
  "language_info": {
   "name": "python",
   "version": "3.10.9"
  },
  "orig_nbformat": 4,
  "vscode": {
   "interpreter": {
    "hash": "a2592652612463181e69ac003232387e3e9a99279aa6b168e76f5df16d5110f4"
   }
  }
 },
 "nbformat": 4,
 "nbformat_minor": 2
}
