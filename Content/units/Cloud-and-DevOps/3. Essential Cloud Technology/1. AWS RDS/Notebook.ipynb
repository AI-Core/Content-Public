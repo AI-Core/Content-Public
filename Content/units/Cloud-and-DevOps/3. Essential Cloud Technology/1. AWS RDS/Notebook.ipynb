{
    "cells": [
     {
      "cell_type": "markdown",
      "metadata": {},
      "source": [
       "## AWS RDS"
      ]
     },
     {
      "attachments": {},
      "cell_type": "markdown",
      "metadata": {
       "tags": [
        "security_group"
       ]
      },
      "source": [
       "AWS RDS is a service that allows you to create a database in the cloud. This database is highly scalable and has a variety of uses. The service facilitates the creation of different types of databases, such as PostgreSQL, MySQL, Oracle and Amazon Aurora. For demonstration, we will create a PostgreSQL database.\n",
       "\n",
       "### Creating a security group for the database\n",
       "\n",
       "First if you haven't already configured your own security group on AWS, you will need to create a security group for our database. Security groups act as a virtual firewall to protect any resources on your AWS account from outside traffic as well as blocking outgoing traffic to unverified sources. We will need to preconfigure one before creating the database so we can attach it the database after creation. This will allow the control of traffic flowing into and out of the database. \n",
       "\n",
       "From the AWS dashboard navigate to the VPC dashboard.\n",
       "\n",
       "<img src=\"./images/select_VPC.png\">\n",
       "\n",
       "From the VPC dashboard select security groups.\n",
       "\n",
       "<img src=\"./images/click_security.png\">\n",
       "\n",
       "Create a new security group by clicking the `Create security group` button.\n",
       "\n",
       "<img src=\"./images/create_security.png\">\n",
       "\n",
       "Give the security group a nice memorable description and name so that you know can identify it at a later date. \n",
       "\n",
       "By default the security group has no rules allowing inbound traffic but is configured to allow all outbound traffic. This can be seen under the `Outbound rules` the type is configured with `All traffic` which means all ports and protocols possible. The destination is set to custom with `0.0.0.0/0` set as the destination, the IPv4 address `0.0.0.0/0` is a placeholder that represents all possible `IPv4` addresses. \n",
       "\n",
       "`IPv4` addresses are the most common form of IP addresses represented in the form `x.x.x.x` each `x` can take on values between 0 and 255 to represent a unique address on the internet. So addresses can range from `0.0.0.0` all the way to `255.255.255.255` an example might be the address `88.23.101.192`. The `/0` at the end of the IP addresses represents the CIDR(Classless Inter-Domain Routing) it can range between the values 0 to 32. This number represents a range of IP addresses from one IP address all the way up to 4,294,967,296(every possible) IPv4 address. For a personal computer this value will be `/32` which represents one IP address for bigger companies they might have a value like `/21` which gives them access to 2,048 possible IP addresses. \n",
       "\n",
       "The new form of IP addresses IPv6, have the form `FE80:CD00:0000:0CDE:1257:0000:211E:729C` though aren't commonly used yet. They can represent up to 340 trillion trillion trillion different IP addresses. They will be more common in the future since believe it or not we're running out of IPv4 IP addresses.\n",
       "\n",
       "<img src=\"./images/security_group_init.png\">\n",
       "\n",
       "After you have finished entering the details scroll down the the bottom of the page and select `Create security group` the security group should now be created. \n",
       "\n",
       "<img src=\"./images/security_group_created.png?modified=32423\">\n",
       "\n",
       "We don't need to worry about configuring the security group at the moment. We can configure it after it is attached to the RDS database, we can now continue on to create the database.\n",
       "\n",
       "### Creating a PostgreSQL database\n",
       "\n",
       "Go to the [AWS Console](https://console.aws.amazon.com/console/home), and select the Services tab. Next, click on the RDS tab, followed by `'Create database'`.\n",
       "\n",
       "![](images/Create_RDS.png)"
      ]
     },
     {
      "attachments": {},
      "cell_type": "markdown",
      "metadata": {},
      "source": [
       "In the next window, select PostgreSQL as the type of database, and select the latest version of PostgresSQL, this will be the version with the highest version number. In this case the latest version is 13.7-R1 has been selected. Make sure to choose the free tier, unless you are willing to pay.\n",
       "\n"
      ]
     },
     {
      "attachments": {},
      "cell_type": "markdown",
      "metadata": {},
      "source": [
       "![](images/Create_RDS2.png)"
      ]
     },
     {
      "attachments": {},
      "cell_type": "markdown",
      "metadata": {},
      "source": [
       "Subsequently, provide an identifier for your instance:\n",
       "\n",
       "![](images/Create_RDS3.png)"
      ]
     },
     {
      "attachments": {},
      "cell_type": "markdown",
      "metadata": {},
      "source": [
       "In the DB instance class, choose `db.t3.micro`, which is free. In the connectivity options, select publicly accessible, and in `Existing VPC Security Group` section, select the security group you previously created.\n",
       "\n",
       "![](images/Create_RDS4.png)"
      ]
     },
     {
      "attachments": {},
      "cell_type": "markdown",
      "metadata": {},
      "source": [
       "Click on Create, and wait for the process to be completed. Note that this might take a while. Once completed, the status should change to `available`. Now, click on the instance ID, and you should see the details of the instance. Take note of the Endpoint, which is the IP address of the database. This is unique to your RDS database and will differ from the one in the image.\n",
       "\n",
       "![](images/Create_RDS5.png)"
      ]
     },
     {
      "attachments": {},
      "cell_type": "markdown",
      "metadata": {},
      "source": [
       "We will now finally configure access to the database from outside AWS, by default our security group will only allow outbound traffic. The security group has two types of rules from controlling traffic to resources inside the security group:\n",
       "\n",
       "- __Inbound rules__ - Controls which IP addresses and protocols can connect to resources inside the security group from outside the security group.\n",
       "- __Outbound rules__ - Controls which IP addresses and protocols resources inside the security group can connect to outside the security group. \n",
       "\n",
       "From the `Connectivity & security` tab select the security group you created in the security group section.\n",
       "\n",
       "<img src=\"./images/open_security_group.png\">\n",
       "\n"
      ]
     },
     {
      "attachments": {},
      "cell_type": "markdown",
      "metadata": {},
      "source": [
       "Make sure the `Inbound rules` tab is selected and click the `Edit inbound rules` button to begin configuring the inbound security rules. \n",
       "\n",
       "<img src=\"./images/edit_inbound.png\">\n",
       "\n",
       "Next select click the `Add rule` button to begin adding a new rule. Select the `Type` as `PostgreSQL` since we want to allow connections to our PostgreSQL database. \n",
       "\n",
       "For the `Source` we have the following options:\n",
       "\n",
       "- __Custom__ - Define a custom IP address which will be allowed to connect\n",
       "- __Anywhere-IPv4__ - Allow all Ipv4 addresses to connect to the database\n",
       "- __Anywhere-IPv6__ - Allow all Ipv6 addresses to connect to the database.  \n",
       "- __My IP__ - Allow the IP address of the current machine to connect to the database. \n",
       "AWS will automatically retrieve the IP address for you if you select this option.\n",
       "\n",
       "Normally it is a good idea to allow only your IP address to connect to the database to ensure only you can connect. This would ensure that it's only available to your machine. This does cause some issues, anytime your internet connection resets your internet service provider(ISP) will assign you a new IP address invaliding the security rule. If you select this option be aware that any time your connection drops then you may lose access to the database. \n",
       "\n",
       "In industry there will be tight restrictions on which IP addresses can connect the database and who it is available to. In this case since this is just a practice database and contains no sensitive information we can just allow all IP addresses to connect with the `Anywhere-IPv4` option. Just remember this is not the best practice but will save time resetting the security rule anytime your IP address changes.\n",
       "\n",
       "Configure the security rule as follows and save the rule with the `Save rules` button.\n",
       "\n",
       "<img src=\"./images/config_inbound_rule.png\">"
      ]
     },
     {
      "cell_type": "markdown",
      "metadata": {},
      "source": [
       "Once all the steps above have been completed, you should be ready to connect to the database. The default user and database are `postgres` and `postgres`, respectively."
      ]
     },
     {
      "cell_type": "code",
      "execution_count": null,
      "metadata": {},
      "outputs": [],
      "source": [
       "from sqlalchemy import create_engine\n",
       "DATABASE_TYPE = 'postgresql'\n",
       "DBAPI = 'psycopg2'\n",
       "ENDPOINT = 'aicoredb.c8k7he1p0ynz.us-east-1.rds.amazonaws.com' # Change it to your AWS endpoint\n",
       "USER = 'postgres'\n",
       "PASSWORD = 'Cosamona94'\n",
       "PORT = 5432\n",
       "DATABASE = 'postgres'\n",
       "engine = create_engine(f\"{DATABASE_TYPE}+{DBAPI}://{USER}:{PASSWORD}@{ENDPOINT}:{PORT}/{DATABASE}\")\n",
       "\n"
      ]
     },
     {
      "cell_type": "markdown",
      "metadata": {},
      "source": [
       "Run the following cell to confirm that everything works:"
      ]
     },
     {
      "cell_type": "code",
      "execution_count": null,
      "metadata": {},
      "outputs": [
       {
        "data": {
         "text/plain": [
          "<sqlalchemy.engine.base.Connection at 0x7fa9766ee7f0>"
         ]
        },
        "metadata": {},
        "output_type": "display_data"
       }
      ],
      "source": [
       "engine.connect()"
      ]
     },
     {
      "cell_type": "markdown",
      "metadata": {},
      "source": [
       "Now, we create a new table in our database. We will insert the iris dataset into our database. The iris dataset is a set of measurements of flowers from 150 species. It is a well-known dataset that is used in many machine-learning applications."
      ]
     },
     {
      "cell_type": "code",
      "execution_count": null,
      "metadata": {},
      "outputs": [],
      "source": [
       "!pip install sklearn"
      ]
     },
     {
      "cell_type": "code",
      "execution_count": null,
      "metadata": {},
      "outputs": [
       {
        "data": {
         "text/html": [
          "<div>\n",
          "<style scoped>\n",
          "    .dataframe tbody tr th:only-of-type {\n",
          "        vertical-align: middle;\n",
          "    }\n",
          "\n",
          "    .dataframe tbody tr th {\n",
          "        vertical-align: top;\n",
          "    }\n",
          "\n",
          "    .dataframe thead th {\n",
          "        text-align: right;\n",
          "    }\n",
          "</style>\n",
          "<table border=\"1\" class=\"dataframe\">\n",
          "  <thead>\n",
          "    <tr style=\"text-align: right;\">\n",
          "      <th></th>\n",
          "      <th>sepal length (cm)</th>\n",
          "      <th>sepal width (cm)</th>\n",
          "      <th>petal length (cm)</th>\n",
          "      <th>petal width (cm)</th>\n",
          "    </tr>\n",
          "  </thead>\n",
          "  <tbody>\n",
          "    <tr>\n",
          "      <th>0</th>\n",
          "      <td>5.1</td>\n",
          "      <td>3.5</td>\n",
          "      <td>1.4</td>\n",
          "      <td>0.2</td>\n",
          "    </tr>\n",
          "    <tr>\n",
          "      <th>1</th>\n",
          "      <td>4.9</td>\n",
          "      <td>3.0</td>\n",
          "      <td>1.4</td>\n",
          "      <td>0.2</td>\n",
          "    </tr>\n",
          "    <tr>\n",
          "      <th>2</th>\n",
          "      <td>4.7</td>\n",
          "      <td>3.2</td>\n",
          "      <td>1.3</td>\n",
          "      <td>0.2</td>\n",
          "    </tr>\n",
          "    <tr>\n",
          "      <th>3</th>\n",
          "      <td>4.6</td>\n",
          "      <td>3.1</td>\n",
          "      <td>1.5</td>\n",
          "      <td>0.2</td>\n",
          "    </tr>\n",
          "    <tr>\n",
          "      <th>4</th>\n",
          "      <td>5.0</td>\n",
          "      <td>3.6</td>\n",
          "      <td>1.4</td>\n",
          "      <td>0.2</td>\n",
          "    </tr>\n",
          "  </tbody>\n",
          "</table>\n",
          "</div>"
         ],
         "text/plain": [
          "   sepal length (cm)  sepal width (cm)  petal length (cm)  petal width (cm)\n",
          "0                5.1               3.5                1.4               0.2\n",
          "1                4.9               3.0                1.4               0.2\n",
          "2                4.7               3.2                1.3               0.2\n",
          "3                4.6               3.1                1.5               0.2\n",
          "4                5.0               3.6                1.4               0.2"
         ]
        },
        "metadata": {},
        "output_type": "display_data"
       }
      ],
      "source": [
       "from sklearn.datasets import load_iris\n",
       "import pandas as pd\n",
       "data = load_iris()\n",
       "iris = pd.DataFrame(data['data'], columns=data['feature_names'])\n",
       "iris.head()"
      ]
     },
     {
      "cell_type": "code",
      "execution_count": null,
      "metadata": {},
      "outputs": [],
      "source": [
       "iris.to_sql('iris_dataset', engine, if_exists='replace')"
      ]
     },
     {
      "cell_type": "markdown",
      "metadata": {},
      "source": [
       "Unfortunately, AWS RDS does not allow you to view the tables you created; however, you can still access them using pgAdmin or SQLAlchemy. "
      ]
     },
     {
      "cell_type": "code",
      "execution_count": null,
      "metadata": {},
      "outputs": [],
      "source": [
       "df = pd.read_sql_table('iris_dataset', engine)"
      ]
     },
     {
      "cell_type": "code",
      "execution_count": null,
      "metadata": {},
      "outputs": [
       {
        "data": {
         "text/html": [
          "<div>\n",
          "<style scoped>\n",
          "    .dataframe tbody tr th:only-of-type {\n",
          "        vertical-align: middle;\n",
          "    }\n",
          "\n",
          "    .dataframe tbody tr th {\n",
          "        vertical-align: top;\n",
          "    }\n",
          "\n",
          "    .dataframe thead th {\n",
          "        text-align: right;\n",
          "    }\n",
          "</style>\n",
          "<table border=\"1\" class=\"dataframe\">\n",
          "  <thead>\n",
          "    <tr style=\"text-align: right;\">\n",
          "      <th></th>\n",
          "      <th>index</th>\n",
          "      <th>sepal length (cm)</th>\n",
          "      <th>sepal width (cm)</th>\n",
          "      <th>petal length (cm)</th>\n",
          "      <th>petal width (cm)</th>\n",
          "    </tr>\n",
          "  </thead>\n",
          "  <tbody>\n",
          "    <tr>\n",
          "      <th>0</th>\n",
          "      <td>0</td>\n",
          "      <td>5.1</td>\n",
          "      <td>3.5</td>\n",
          "      <td>1.4</td>\n",
          "      <td>0.2</td>\n",
          "    </tr>\n",
          "    <tr>\n",
          "      <th>1</th>\n",
          "      <td>1</td>\n",
          "      <td>4.9</td>\n",
          "      <td>3.0</td>\n",
          "      <td>1.4</td>\n",
          "      <td>0.2</td>\n",
          "    </tr>\n",
          "    <tr>\n",
          "      <th>2</th>\n",
          "      <td>2</td>\n",
          "      <td>4.7</td>\n",
          "      <td>3.2</td>\n",
          "      <td>1.3</td>\n",
          "      <td>0.2</td>\n",
          "    </tr>\n",
          "    <tr>\n",
          "      <th>3</th>\n",
          "      <td>3</td>\n",
          "      <td>4.6</td>\n",
          "      <td>3.1</td>\n",
          "      <td>1.5</td>\n",
          "      <td>0.2</td>\n",
          "    </tr>\n",
          "    <tr>\n",
          "      <th>4</th>\n",
          "      <td>4</td>\n",
          "      <td>5.0</td>\n",
          "      <td>3.6</td>\n",
          "      <td>1.4</td>\n",
          "      <td>0.2</td>\n",
          "    </tr>\n",
          "  </tbody>\n",
          "</table>\n",
          "</div>"
         ],
         "text/plain": [
          "   index  sepal length (cm)  sepal width (cm)  petal length (cm)  \\\n",
          "0      0                5.1               3.5                1.4   \n",
          "1      1                4.9               3.0                1.4   \n",
          "2      2                4.7               3.2                1.3   \n",
          "3      3                4.6               3.1                1.5   \n",
          "4      4                5.0               3.6                1.4   \n",
          "\n",
          "   petal width (cm)  \n",
          "0               0.2  \n",
          "1               0.2  \n",
          "2               0.2  \n",
          "3               0.2  \n",
          "4               0.2  "
         ]
        },
        "metadata": {},
        "output_type": "display_data"
       }
      ],
      "source": [
       "df.head()"
      ]
     },
     {
      "cell_type": "markdown",
      "metadata": {},
      "source": [
       "If you go to pgAdmin, you will see the created table. As the first step, we establish a connection to the database:\n",
       "\n",
       "![](images/pgAdmin4.png)"
      ]
     },
     {
      "cell_type": "markdown",
      "metadata": {},
      "source": [
       "As can be observed, the iris_dataset is contained in the postgres database.\n",
       "\n",
       "![](images/pgAdmin4_2.png)"
      ]
     },
     {
      "cell_type": "markdown",
      "metadata": {},
      "source": [
       "## Conclusion\n",
       "At this point, you should have a good understanding of"
      ]
     },
     {
      "cell_type": "markdown",
      "metadata": {},
      "source": [
       "- the basics of cloud computing.\n",
       "- how to create Security groups that limit the range of IP addresses that can access the service.\n",
       "- how to create an RDS instance.\n",
       "- how to connect to the RDS instance using SQLAlchemy.\n",
       "- how to create a table in the database.\n",
       "- how to connect to the database using pgAdmin."
      ]
     }
    ],
    "metadata": {
     "kernelspec": {
      "display_name": "python39",
      "language": "python",
      "name": "python3"
     },
     "language_info": {
      "codemirror_mode": {
       "name": "ipython",
       "version": 3
      },
      "file_extension": ".py",
      "mimetype": "text/x-python",
      "name": "python",
      "nbconvert_exporter": "python",
      "pygments_lexer": "ipython3",
      "version": "3.9.16"
     },
     "orig_nbformat": 4,
     "vscode": {
      "interpreter": {
       "hash": "0525e202b6fd218605773abe3f41f1b2677deb6d490102468c00606d82fa7893"
      }
     }
    },
    "nbformat": 4,
    "nbformat_minor": 2
   }
   