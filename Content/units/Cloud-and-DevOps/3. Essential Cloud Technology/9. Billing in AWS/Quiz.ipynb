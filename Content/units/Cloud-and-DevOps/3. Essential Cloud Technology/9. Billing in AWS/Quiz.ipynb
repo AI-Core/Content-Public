{
 "cells": [
  {
   "cell_type": "markdown",
   "metadata": {},
   "source": [
    "# Billing in AWS"
   ]
  },
  {
   "cell_type": "markdown",
   "metadata": {},
   "source": [
    "## True or False: The AWS Free Tier is available for an unlimited duration to all AWS customers.\n",
    "\n",
    "- True\n",
    "- False ***"
   ]
  },
  {
   "cell_type": "markdown",
   "metadata": {},
   "source": [
    "## True or False: Billing alarms can be set up using AWS CloudWatch.\n",
    "\n",
    "- True ***\n",
    "- False"
   ]
  },
  {
   "cell_type": "markdown",
   "metadata": {},
   "source": [
    "## Which AWS service provides a pay-as-you-go pricing model?\n",
    "\n",
    "- AWS Lambda\n",
    "- Amazon RDS\n",
    "- Amazon S3\n",
    "- All of the above ***"
   ]
  },
  {
   "cell_type": "markdown",
   "metadata": {},
   "source": [
    "## True or False: The AWS Free Tier is available to both new and existing AWS customers.\n",
    "\n",
    "- True\n",
    "- False ***"
   ]
  },
  {
   "cell_type": "markdown",
   "metadata": {},
   "source": [
    "## What is the purpose of setting up billing alerts in AWS?\n",
    "\n",
    "- To monitor your AWS costs and usage patterns\n",
    "- To receive notifications when your estimated charges exceed predefined thresholds\n",
    "- To optimize resource allocation and right-size instances\n",
    "- All of the above ***"
   ]
  }
 ],
 "metadata": {
  "language_info": {
   "name": "python"
  },
  "orig_nbformat": 4
 },
 "nbformat": 4,
 "nbformat_minor": 2
}
