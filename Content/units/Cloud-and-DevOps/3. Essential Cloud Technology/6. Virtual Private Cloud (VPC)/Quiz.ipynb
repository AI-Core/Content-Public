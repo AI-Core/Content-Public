{
 "cells": [
  {
   "cell_type": "markdown",
   "metadata": {},
   "source": [
    "# Virtual Private Cloud (VPC)"
   ]
  },
  {
   "cell_type": "markdown",
   "metadata": {},
   "source": [
    "## True or False: VPCs provide benefits such as increased security, isolation, and control over network resources.\n",
    "\n",
    "- True ***\n",
    "- False"
   ]
  },
  {
   "cell_type": "markdown",
   "metadata": {},
   "source": [
    "## Which protocol and port are commonly used for secure remote access to an EC2 instance?\n",
    "\n",
    "- FTP on port 21\n",
    "- SSH on port 22 ***\n",
    "- HTTP on port 80\n",
    "- RDP on port 3389"
   ]
  },
  {
   "cell_type": "markdown",
   "metadata": {},
   "source": [
    "## Which component is used to control inbound and outbound traffic at the instance level in a VPC?\n",
    "\n",
    "- Security Group ***\n",
    "- Subnet\n",
    "- Route Table\n",
    "- Network ACL"
   ]
  },
  {
   "cell_type": "markdown",
   "metadata": {},
   "source": [
    "## Which component is responsible for determining how network traffic is directed within a VPC?\n",
    "\n",
    "- Subnet\n",
    "- Security Group\n",
    "- Route Table ***\n",
    "- Internet Gateway"
   ]
  },
  {
   "cell_type": "markdown",
   "metadata": {},
   "source": [
    "## True or False: Route tables in a VPC define the path for network traffic within the VPC, including routing between subnets and routing to the internet.\n",
    "\n",
    "- True ***\n",
    "- False"
   ]
  },
  {
   "cell_type": "markdown",
   "metadata": {},
   "source": [
    "## True or False: Subnets in a VPC allow for further network segmentation and control by dividing the IP address range.\n",
    "\n",
    "- True ***\n",
    "- False"
   ]
  },
  {
   "cell_type": "markdown",
   "metadata": {},
   "source": [
    "## Which component enables connectivity between a VPC and the internet?\n",
    "\n",
    "- Subnet\n",
    "- Security Group\n",
    "- Internet Gateway ***\n",
    "- Network Load Balancer"
   ]
  }
 ],
 "metadata": {
  "language_info": {
   "name": "python"
  },
  "orig_nbformat": 4
 },
 "nbformat": 4,
 "nbformat_minor": 2
}
