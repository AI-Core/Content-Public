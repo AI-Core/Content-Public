{
 "cells": [
  {
   "cell_type": "markdown",
   "metadata": {},
   "source": [
    "# Virtual Private Cloud (VPC)"
   ]
  },
  {
   "cell_type": "markdown",
   "metadata": {},
   "source": [
    "> A *Virtual Private Cloud (VPC)* is a virtual network infrastructure that allows you to provision a logically isolated section of the AWS cloud where you can launch AWS resources.\n",
    "\n",
    "With VPC, you have control over your virtual networking environment, including IP address ranges, *subnets*, *routing tables*, and *network gateways* (we will cover these concepts throughout the lesson). Essentially, a VPC provides a virtual network that closely resembles a traditional network infrastructure, offering you the flexibility to define and control your network settings.\n"
   ]
  },
  {
   "cell_type": "markdown",
   "metadata": {},
   "source": [
    "## Motivation\n",
    "\n",
    "VPC in AWS provides organizations with the ability to create secure and scalable network environments in the cloud. By mastering VPC, you gain the skills to design customized networks, ensure data security, and seamlessly integrate with other AWS services, unlocking the potential to architect robust and secure cloud infrastructures."
   ]
  },
  {
   "cell_type": "markdown",
   "metadata": {},
   "source": [
    "## Benefits of Using VPC\n",
    "\n",
    "Using VPC in AWS comes with several benefits that enhance security, flexibility, and scalability:\n",
    "\n",
    "- **Enhanced Security**: VPC allows you to create isolated environments for your resources, making them more secure. You have control over security settings and can define rules for inbound and outbound traffic, ensuring only authorized access to your resources.\n",
    "\n",
    "- **Customizable Network Configuration**: With VPC, you can design and configure your own virtual network infrastructure. You have the flexibility to choose IP address ranges and organize your resources within the VPC.\n",
    "\n",
    "- **Improved Network Performance**: VPC enables you to deploy your resources in specific availability zones, allowing you to position them closer to your users or other AWS services. This proximity helps reduce latency and enhances network performance.\n",
    "\n",
    "- **Seamless Integration**: VPC seamlessly integrates with other AWS services, such as Amazon EC2, Amazon RDS, and AWS Lambda, allowing you to build complex and scalable architectures with ease\n",
    "\n",
    "- **Cost Optimization**: VPC enables you to optimize your costs by providing control over network resources and allowing you to design and deploy efficient network architectures"
   ]
  },
  {
   "cell_type": "markdown",
   "metadata": {},
   "source": [
    "## Use Cases for VPC\n",
    "\n",
    "VPC in AWS serves a wide range of use cases across various industries:\n",
    "\n",
    "- **Hybrid Cloud Integration**: VPC enables secure connectivity between on-premises infrastructure and AWS resources, allowing you to extend your network seamlessly into the cloud. This facilitates hybrid cloud deployments while maintaining control and security.\n",
    "\n",
    "- **Secure Data Processing and Analysis**: VPC provides a secure environment for processing and analyzing sensitive data. By isolating resources within the VPC, industries with strict compliance and security requirements, such as finance, healthcare, and government, can securely handle their data.\n",
    "\n",
    "- **Development and Testing Environments**: VPC offers isolated environments for development and testing purposes. By creating separate VPCs for different stages of the software development lifecycle, teams can collaborate efficiently and reduce the risk of affecting production environments."
   ]
  },
  {
   "cell_type": "markdown",
   "metadata": {},
   "source": [
    "## Key Components of a VPC in AWS\n",
    "\n",
    "A VPC in AWS consists of several key components that form the foundation of the virtual network infrastructure. Understanding these components is crucial for effectively configuring and managing a VPC. Let's explore the key components:\n",
    "\n",
    "### VPC\n",
    "\n",
    "> A VPC is a logically isolated section of the AWS cloud where you can launch AWS resources. It acts as a virtual network environment that closely resembles a traditional network infrastructure. \n",
    "\n",
    "When creating a VPC, you define an IP address range using *Classless Inter-Domain Routing (CIDR)* notation. This range determines the IP address space for the VPC and its associated subnets.\n",
    "\n",
    "AWS automatically provides a *default VPC* in each AWS region. The default VPC simplifies the process of getting started with AWS resources by providing pre-configured settings and infrastructure. It includes a pre-defined CIDR block and subnets. However, you also have the option to create a *custom VPC*. A custom VPC allows for more control and customization, giving you the flexibility to define your own CIDR block, configure subnets, and specify routing tables and network gateways according to your specific requirements.\n",
    "\n",
    "### Subnets\n",
    "\n",
    "> *Subnets* are subdivisions of the IP address range defined for the VPC. They allow you to further partition the VPC into smaller network segments. Each subnet represents a specific portion of the VPC's IP address space and is associated with a specific availability zone (AZ). Subnets help organize and isolate resources within the VPC.\n",
    "\n",
    "#### Public and Private Subnets\n",
    "\n",
    "Subnets can be classified as either public or private. *Public subnets* have direct access to the internet via an internet gateway, allowing resources within the subnet to communicate with the internet. In contrast, *private subnets* do not have direct internet access and provide an additional layer of security by isolating resources from public exposure.\n",
    "\n",
    "#### Subnet Associations with Route Tables\n",
    "\n",
    "Each subnet in a VPC is associated with a *route table*. A route table contains rules that determine how network traffic is directed within the VPC. By associating a subnet with a specific route table, you can control the flow of traffic to and from the subnet. This allows you to configure routing between subnets, as well as control access to and from the internet.\n",
    "\n",
    "### Internet Gateway (IGW)\n",
    "\n",
    "> An *Internet Gateway (IGW)* is a horizontally scalable, highly available AWS-managed service that acts as a gateway between a VPC and the internet. It facilitates secure communication between resources within the VPC and external networks, such as the internet or other AWS services.\n",
    "\n",
    "To establish connectivity to the internet, an IGW must be attached to the VPC. This attachment allows resources within the VPC, such as EC2 instances, to communicate with the internet. When traffic from a resource in a VPC is destined for the internet, it is routed to the IGW, which in turn forwards the traffic to the appropriate destination on the internet. Similarly, responses from the internet are routed back to the VPC through the IGW.\n",
    "\n",
    "### Route Tables\n",
    "\n",
    "> A *Route Table* is a virtual table that contains a set of rules, known as routes, which determine the paths for network traffic within a VPC. Each subnet within the VPC is associated with a specific route table, allowing you to control the flow of traffic between subnets and other networks.\n",
    "\n",
    "#### Routing Within the VPC\n",
    "\n",
    "Route tables define how traffic is routed within the VPC by specifying destination CIDR blocks and the target for each route. You can configure routes to direct traffic between subnets within the VPC, enable communication between the VPC and the internet via the Internet Gateway (IGW), or establish connectivity with other networks."
   ]
  },
  {
   "cell_type": "markdown",
   "metadata": {},
   "source": [
    "### Security Groups\n",
    "\n",
    "> A *Security Group* acts as a virtual firewall that controls the traffic to and from your AWS resources within a VPC. It acts as a fundamental layer of defense by allowing you to define granular security rules for inbound and outbound traffic based on protocols, ports, and IP addresses.\n",
    "\n",
    "#### Inbound and Outbound Rules\n",
    "\n",
    "Security Groups use *inbound and outbound rules* to control traffic flow. Inbound rules determine the incoming traffic allowed to reach the resources within the Security Group. Outbound rules, on the other hand, define the outbound traffic that is allowed to leave the resources. You can specify rules based on IP addresses, port ranges, and protocols to permit or deny traffic."
   ]
  },
  {
   "cell_type": "markdown",
   "metadata": {},
   "source": [
    "## EC2 Networking Details\n",
    "\n",
    "In the previous lesson we have launched an EC2 instance. Although we didn't specify the networking options when creating the instance, AWS associated the instance with default networking configurations. Let's explore the default networking that AWS associated with your instance:\n",
    "\n",
    "- **Default VPC**: AWS assigns the EC2 instance to the default VPC in the chosen AWS region\n",
    "\n",
    "- **Default Subnet**: Within the default VPC, AWS assigns the EC2 instance to a default subnet. The default subnet is automatically created within the default VPC and is associated with an availability zone (AZ).\n",
    "\n",
    "- **Auto-assign Public IP**: By default, AWS enables the auto-assignment of a public IP address to the EC2 instance if it is launched in a subnet that has internet access. This allows the instance to have direct connectivity to the internet.\n",
    "\n",
    "- **Default Security Group**: The EC2 instance is associated with a default security group. The default security group has certain default rules that allow basic connectivity.\n",
    "\n",
    "- **Default Route Table**: AWS assigns the EC2 instance to a default route table within the default VPC. The default route table is preconfigured with certain routes to enable communication within the VPC.\n",
    "\n",
    "<p align=\"center\">\n",
    "    <img src=\"images/NetworkConfigurations.png\" width=\"900\" height=\"600\"/>\n",
    "</p>\n",
    "\n",
    "In the **Networking** tab in the EC2 Instance Home Page we can check out the **VPC ID** and the **Subnet ID** that are associated with our EC2 instance that has been launched in the default VPC.\n",
    "\n",
    "### Default Security Groups\n",
    "\n",
    "Let's look in more detail at the default security group that was attached to our EC2 instance. We can do so by accessing the **Security** tab in the EC2 Instance Home Page. Here we have a summary of the **Inbound rules** and **Outbound rules** associated with the instance. From here we can also be redirect to the security group home page by clicking on the unique id under **Security groups**. This will redirect you to the following page:\n",
    "\n",
    "<p align=\"center\">\n",
    "    <img src=\"images/SGHomePage.png\" width=\"850\" height=\"550\"/>\n",
    "</p>\n",
    "\n",
    "From here, we can click **Edit inbound rules** (or the equivalent for outbound rules) to inspect the default security group rules in more detail. \n"
   ]
  },
  {
   "cell_type": "markdown",
   "metadata": {},
   "source": [
    "#### **Default Inbound Rules**\n",
    "\n",
    "<p align=\"center\">\n",
    "    <img src=\"images/DefaultInbound.png\" width=\"900\" height=\"500\"/>\n",
    "</p>\n",
    "\n",
    "In the default security group associated with your EC2 instance, there is an inbound rule that allows SSH access from any source IP address (`0.0.0.0/0`). Let's break down this rule and explain what it means:\n",
    "\n",
    "- **SSH Protocol**: SSH is a network protocol that allows secure remote access to a server. It provides a secure channel for executing commands and transferring files between the client (your computer) and the EC2 instance.\n",
    "\n",
    "- **Source IP Address**: The source IP address specified in the rule is `0.0.0.0/0`. This IP range represents all IP addresses or any IP address. In other words, it allows SSH access from any source IP address on the internet.\n",
    "\n",
    "By allowing SSH access from any source IP address, this inbound rule makes the EC2 instance accessible via SSH from anywhere. It is a convenient setting for initial setup or testing purposes. However, from a security perspective, it is generally recommended to restrict SSH access to specific trusted IP addresses or IP ranges, such as your own organization's IP range, specific known IP addresses that require SSH access. For our specific case, it would be best to limit SSH access to your personal home IP address.\n",
    "\n",
    "> If in the previous lesson you were not able to connect to your EC2 instance using the SSH client, this might be the primary reason why. Your default security group might be missing this inbound rule. Make sure to add this rule to allow SSH access to `0.0.0.0/0` and then you should be able to connect using the `ssh` connect command.\n",
    "\n",
    "#### Adding New Rules\n",
    "\n",
    "You can add rules using the **Add rule** button. Let's have a look at the different types of rules you can allow, along with their associated port ranges and IP specifications:\n",
    "\n",
    "- **SSH (Secure Shell) - Port 22**: SSH is a secure network protocol that provides encrypted communication between a client and a server. Port 22 is used for SSH connections. It is commonly used for remote administration and secure file transfers. Allowing SSH access enables you to remotely access and manage your EC2 instance securely.\n",
    "\n",
    "- **HTTP (Hypertext Transfer Protocol) - Port 80**: HTTP is the standard protocol for transmitting web content over the internet. Port 80 is used for unencrypted HTTP traffic. Allowing inbound access on port 80 enables your EC2 instance to serve web pages and respond to HTTP requests.\n",
    "\n",
    "- **HTTPS (Hypertext Transfer Protocol Secure) - Port 443**: HTTPS is the secure version of HTTP that encrypts the communication between clients and servers. Port 443 is used for HTTPS traffic. Allowing inbound access on port 443 enables your EC2 instance to serve web pages securely over HTTPS.\n",
    "\n",
    "- **RDP (Remote Desktop Protocol) - Port 3389**: RDP is a proprietary protocol developed by Microsoft for remote desktop access to Windows-based systems. Port 3389 is used for RDP connections. Allowing inbound access on port 3389 enables you to connect remotely to your Windows-based EC2 instance and interact with the desktop environment.\n",
    "\n",
    "- **ICMP (Internet Control Message Protocol)** ICMP is a network protocol used for diagnostic and error reporting purposes. It includes functions like ping requests and network troubleshooting. ICMP does not use ports in the same way as TCP or UDP, so there is no specific port range associated with ICMP. Allowing ICMP traffic allows you to perform network diagnostics and testing, such as pinging your EC2 instance.\n",
    "\n",
    "- **Custom Ports and Protocols**: Custom ports and protocols refer to specific ports or port ranges that are used by custom applications or services. These can vary depending on the requirements of your application. By specifying custom ports and protocols, you can allow inbound access for specific services or applications running on your EC2 instance.\n",
    "\n",
    "#### Default Outbound Rules\n",
    "\n",
    "<p align=\"center\">\n",
    "    <img src=\"images/DefaultOutbound.png\" width=\"900\" height=\"500\"/>\n",
    "</p>\n",
    "\n",
    "In the default security group associated with your EC2 instance, there is an outbound rule that allows all traffic to any destination IP address (`0.0.0.0/0`). Let's break down this rule and explain what it means:\n",
    "\n",
    "- **All Traffic**: The outbound rule is configured to allow all traffic, which means any type of network communication is permitted from the instance\n",
    "\n",
    "- **Destination IP Address**: The destination IP address specified in the rule is `0.0.0.0/0`. This IP range represents all IP addresses or any IP address, which indicates that the EC2 instance is allowed to communicate with any destination IP address on the internet.\n",
    "\n",
    "By allowing all outbound traffic to any destination IP address, this outbound rule essentially grants unrestricted internet access from the EC2 instance. This means the instance can communicate with any external IP address, access any internet service, and establish connections with resources outside of your VPC.\n",
    "\n",
    "> Make sure to check again if you previously created EC2 instance has this default outbound rule, otherwise make sure to add this as a new rule.\n",
    "\n",
    "While this default configuration allows for maximum outbound connectivity, it's important to consider the security implications. Allowing unrestricted outbound traffic may increase the risk of unauthorized data exfiltration or unintentional access to potentially malicious resources on the internet. To enhance security, you can modify the outbound rule of the default security group to restrict outbound traffic to specific protocols, ports, or destination IP addresses."
   ]
  },
  {
   "cell_type": "markdown",
   "metadata": {},
   "source": [
    "### Default Route Tables\n",
    "\n",
    "You can access route tables from the VPC console under **Route tables**.\n",
    "\n",
    "<p align=\"center\">\n",
    "    <img src=\"images/RouteTable.png\" width=\"900\" height=\"500\"/>\n",
    "</p>\n",
    "\n",
    "Here you should see one route table already created, this is the default route table that is associated with your EC2 instance. In the route table home page you will be able to see the routes associated with this table.\n",
    "\n",
    "<p align=\"center\">\n",
    "    <img src=\"images/Routes.png\" width=\"800\" height=\"550\"/>\n",
    "</p>\n",
    "\n",
    "In the default route table associated with the default VPC, there are two routes defined:\n",
    "\n",
    "#### Route for destination `0.0.0.0/0`\n",
    "\n",
    "- This route serves as the default route, which means it applies to all traffic with a destination outside of the VPC's CIDR block\n",
    "- Destination: `0.0.0.0/0` indicates all IP addresses or any IP address outside of the VPC\n",
    "- Target: The target for this route is the default Internet Gateway (IGW), which enables connectivity between the VPC and the internet. The IGW acts as the gateway to route traffic from the VPC to external networks.\n",
    "\n",
    "#### Route for destination `172.31.0.0/16`\n",
    "\n",
    "- This route is specific to the local network within the VPC\n",
    "- Destination: `172.31.0.0/16` represents the CIDR block of the VPC itself\n",
    "- Target: The target for this route is set to \"local,\" indicating that it is meant for local network communication within the VPC. This route ensures that traffic within the VPC is correctly routed between subnets and resources without needing to go through an external gateway.\n",
    "\n",
    "The combination of these two routes in the default route table ensures proper routing for both internal VPC communication and outbound connectivity to the internet. The default route (`0.0.0.0/0`) via the default IGW allows traffic to flow from the VPC to the internet, while the local route (`172.31.0.0/16`) facilitates communication within the VPC itself."
   ]
  },
  {
   "cell_type": "markdown",
   "metadata": {},
   "source": [
    "## Key Takeaways\n",
    "\n",
    "- Virtual Private Cloud (VPC) in AWS provides a virtual network environment where you can design and configure your own network infrastructure, including IP address ranges, subnets, and routing rules\n",
    "- VPCs offer benefits such as increased security, isolation, and control over network resources, allowing you to create secure and scalable deployments in the AWS cloud\n",
    "- Subnets are subdivisions of the IP address range within a VPC and allow for further network segmentation and control\n",
    "- Route tables are used to determine how network traffic is directed within a VPC\n",
    "- Security groups act as virtual firewalls for EC2 instances within a VPC. They control inbound and outbound traffic at the instance level by specifying rules that allow or deny traffic based on protocols, ports, and IP addresses or ranges.\n",
    "- The default security group, route table, and outbound rule provided by AWS offer initial configurations for network security and internet connectivity. However, it's important to review and modify these settings based on your specific requirements.\n"
   ]
  }
 ],
 "metadata": {
  "language_info": {
   "name": "python"
  }
 },
 "nbformat": 4,
 "nbformat_minor": 2
}
