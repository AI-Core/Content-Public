{
 "cells": [
  {
   "cell_type": "code",
   "execution_count": null,
   "metadata": {},
   "outputs": [],
   "source": [
    "<vector expr> <op> ignoring(<label list>) <vector expr>\n",
    "<vector expr> <op> on(<label list>) <vector expr>"
   ]
  },
  {
   "cell_type": "code",
   "execution_count": null,
   "metadata": {},
   "outputs": [],
   "source": [
    "Lets assume we have the following two groups of timeseries:\n",
    "method_code:http_errors:rate5m - #5m rate of http_errors and their specific code\n",
    "method:http_requests:rate5m - # 5m rate of http_errors for specific method"
   ]
  },
  {
   "cell_type": "code",
   "execution_count": null,
   "metadata": {},
   "outputs": [],
   "source": [
    "method_code:http_errors:rate5m{method=\"get\", code=\"500\"}  # 24\n",
    "method_code:http_errors:rate5m{method=\"get\", code=\"404\"}  # 30\n",
    "method_code:http_errors:rate5m{method=\"put\", code=\"501\"}  # 3\n",
    "method_code:http_errors:rate5m{method=\"post\", code=\"500\"} # 6\n",
    "method_code:http_errors:rate5m{method=\"post\", code=\"404\"} # 21\n",
    "\n",
    "method:http_requests:rate5m{method=\"get\"}  # 600\n",
    "method:http_requests:rate5m{method=\"del\"}  # 34\n",
    "method:http_requests:rate5m{method=\"post\"} # 120"
   ]
  },
  {
   "cell_type": "code",
   "execution_count": null,
   "metadata": {},
   "outputs": [],
   "source": [
    "method_code:http_errors:rate5m{code=\"500\"} / ignoring(code) method:http_requests:rate5m"
   ]
  },
  {
   "cell_type": "code",
   "execution_count": null,
   "metadata": {},
   "outputs": [],
   "source": [
    "- record: instance_path:requests:rate5m\n",
    "  expr: rate(requests_total{job=\"myjob\"}[5m])\n",
    "\n",
    "- record: path:requests:rate5m\n",
    "  expr: sum without (instance)(instance_path:requests:rate5m{job=\"myjob\"})\n",
    "  \n",
    "- record: instance_path:request_failures:rate5m\n",
    "  expr: rate(request_failures_total{job=\"myjob\"}[5m])\n",
    "\n",
    "- record: wmiexporter:windows_cpu_dpcs_total:sum\n",
    "  expr: sum by (job) (windows_cpu_dpcs_total)"
   ]
  },
  {
   "cell_type": "code",
   "execution_count": null,
   "metadata": {},
   "outputs": [],
   "source": [
    "# my global config\n",
    "global:\n",
    "  evaluation_interval: 5m # Evaluate rules every 15 seconds. The default is every 1 minute.\n",
    "\n",
    "# Load rules once and periodically evaluate them according to the global 'evaluation_interval'.\n",
    "rule_files:\n",
    "   - \"windows.rules.yml\"\n",
    "   - \"node.rules.yml\"\n"
   ]
  }
 ],
 "metadata": {
  "language_info": {
   "name": "python"
  },
  "orig_nbformat": 4
 },
 "nbformat": 4,
 "nbformat_minor": 2
}
