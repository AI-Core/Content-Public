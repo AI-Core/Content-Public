{
 "cells": [
  {
   "cell_type": "markdown",
   "id": "84aecd92",
   "metadata": {},
   "source": [
    "# Querying\n",
    "\n",
    "## Introduction\n",
    "> __Prometheus has significant querying capabilities (including its native PromQL language), which we will learn about in this lesson.__\n",
    "\n",
    "- __Please initiate an instance of `node` and a Prometheus server (inside some docker containers) following the steps described in the previous lesson.__\n",
    "- __Go to `localhost:9090` to access the query/expression prompt.__ \n",
    "\n",
    "\n",
    "## Data Types\n",
    "\n",
    "Only one of the four listed below is allowed:\n",
    "- `float64` (any scalar is a `float`)\n",
    "- `string` (unused by `prometheus` currently)\n",
    "- __instant vectors__\n",
    "- __range vectors__\n",
    "\n",
    "## Instant Vector Selectors\n",
    "\n",
    "> __Instant vectors are created via selection based on some matching patterns (labels, metric names, etc.).__\n",
    "\n",
    "__The easiest form is a simple `metric`-name statement that returns a vector of values.__\n",
    "\n",
    "Input the following in the expressions field on your Prometheus dashboard. Some of these metrics might appear differently depending on your OS."
   ]
  },
  {
   "cell_type": "code",
   "execution_count": null,
   "id": "e0b838fa",
   "metadata": {},
   "outputs": [],
   "source": [
    "node_cpu_seconds_total"
   ]
  },
  {
   "cell_type": "code",
   "execution_count": null,
   "id": "ce7d3caa",
   "metadata": {},
   "outputs": [],
   "source": [
    "# Windows \n",
    "windows_cpu_time_total"
   ]
  },
  {
   "cell_type": "markdown",
   "id": "15030a13",
   "metadata": {},
   "source": [
    "![](images/prometheus_vector_dtype_basic.png)\n",
    "\n",
    "We can further filter the metric by specific labels. Consider the example:"
   ]
  },
  {
   "cell_type": "code",
   "execution_count": null,
   "id": "d0b1d827",
   "metadata": {},
   "outputs": [],
   "source": [
    "node_cpu_seconds_total{cpu=~\"0|1\", instance!=\"localhost:8081\", mode=\"user\"}"
   ]
  },
  {
   "cell_type": "code",
   "execution_count": null,
   "id": "85e028ed",
   "metadata": {},
   "outputs": [],
   "source": [
    "# on windows\n",
    "windows_cpu_time_total{core=~\"0,0|0,1\", job=\"wmiexporter\"}"
   ]
  },
  {
   "cell_type": "markdown",
   "id": "a7eed5f3",
   "metadata": {},
   "source": [
    "![](images/prometheus_node_query_matching.png)"
   ]
  },
  {
   "cell_type": "markdown",
   "id": "4ee9c1c9",
   "metadata": {},
   "source": [
    "### Matching\n",
    "\n",
    "> Prometheus supports different comparison operators __and regex matching__ (via [Google's RE2 syntax](https://github.com/google/re2/wiki/Syntax)).\n",
    "\n",
    "*Comparison operators*\n",
    "- `=`: labels that are equal.\n",
    "- `!=`: labels that __are not__ equal.\n",
    "- `=~`: labels that __regex match__ the string.\n",
    "- `!~`: labels that __regex UNmatch__ the string.\n",
    "\n",
    "Other than that, regex matching works normally (check out the specification (link above) when in doubt).\n",
    "\n",
    "#### __name__\n",
    "\n",
    "Similar to Python's `__name__`, Prometheus also provides this `label` as an internal label. __It allows us to match expressions__. \n",
    "\n",
    "As an example, a quick way to match strings is using the `\".*\"` expression. The `.` parameter signifies the matching of any character, and `*` signifies the matching of any number of characters afterwards. "
   ]
  },
  {
   "cell_type": "code",
   "execution_count": null,
   "id": "4d2e0f37",
   "metadata": {},
   "outputs": [],
   "source": [
    "{__name__=~\"node.*_seconds\"}"
   ]
  },
  {
   "cell_type": "code",
   "execution_count": null,
   "id": "c0fa0e8c",
   "metadata": {},
   "outputs": [],
   "source": [
    "{__name__=~\"windows.*_time_.*\"}"
   ]
  },
  {
   "cell_type": "markdown",
   "id": "68073d87",
   "metadata": {},
   "source": [
    "![](images/prometheus_name_match.png)"
   ]
  },
  {
   "cell_type": "markdown",
   "id": "b376616b",
   "metadata": {},
   "source": [
    "*Things to note*\n",
    "\n",
    "> __Regex matching must match something, i.e. the expression must be valid.__\n",
    "\n",
    "\n",
    "Consider the example of a label matching every job __and empty job,__ where the job starts with wmi:"
   ]
  },
  {
   "cell_type": "code",
   "execution_count": null,
   "id": "33eb20a3",
   "metadata": {},
   "outputs": [],
   "source": [
    "{job=~\"wmi.*\"}"
   ]
  },
  {
   "cell_type": "markdown",
   "id": "d1683c3f",
   "metadata": {},
   "source": [
    "Conversely, the `+` parameter will match any job that does not have an empty string: "
   ]
  },
  {
   "cell_type": "code",
   "execution_count": null,
   "id": "233a1bc2",
   "metadata": {},
   "outputs": [],
   "source": [
    "{job=~\".+\"}"
   ]
  },
  {
   "cell_type": "markdown",
   "id": "67595f17",
   "metadata": {},
   "source": [
    "## Range Vector selectors\n",
    "\n",
    "> __Range vectors are created by slicing the time series based on the duration.__\n",
    "\n",
    "Previously, we used `{}` for instant selectors. This time, we will use `[]`: "
   ]
  },
  {
   "cell_type": "code",
   "execution_count": null,
   "id": "33e3e15e",
   "metadata": {},
   "outputs": [],
   "source": [
    "node_cpu_seconds_total{cpu=~\"0|1\", mode=\"idle\"}[20s]"
   ]
  },
  {
   "cell_type": "code",
   "execution_count": null,
   "id": "4caa11eb",
   "metadata": {},
   "outputs": [],
   "source": [
    "# Windows\n",
    "windows_cpu_time_total{core=~\"0,.*|0,.*\", job=\"wmiexporter\"}[20s]"
   ]
  },
  {
   "cell_type": "markdown",
   "id": "15812bb5",
   "metadata": {},
   "source": [
    "> Range vectors __cannot be graphed.__ They must be transformed into instant vectors via a function. This is because __they have multiple values for a single timestamp.__\n",
    "\n",
    "![](images/prometheus_range_selector.png)\n",
    "\n",
    "Above, we can observe __the multidimensionally aggregated data__:\n",
    "- We get `4` values for each time series.\n",
    "- There are `4` values for a `20s` range __because the data are scrapped at `5s` intervals.__\n",
    "\n",
    "Now, we should be able to perform an operation on the grouped data.\n",
    "\n",
    "To plot the above, we can summarise the data using the following query (for example):"
   ]
  },
  {
   "cell_type": "code",
   "execution_count": null,
   "id": "eeda9e7a",
   "metadata": {},
   "outputs": [],
   "source": [
    "rate(node_cpu_seconds_total{cpu=~\"0|1\", mode=\"idle\"}[5m])"
   ]
  },
  {
   "cell_type": "code",
   "execution_count": null,
   "id": "bdafa429",
   "metadata": {},
   "outputs": [],
   "source": [
    "rate(windows_cpu_time_total{core=~\"0,.*|0,.*\", mode=\"idle\"}[5m])"
   ]
  },
  {
   "cell_type": "markdown",
   "id": "2ecc513f",
   "metadata": {},
   "source": [
    "![](images/prometheus_range_rate_cpus.png)\n",
    "\n",
    "There are a few available time units:\n",
    "\n",
    "- `ms`: milliseconds\n",
    "- `s`: seconds\n",
    "- `m`: minutes\n",
    "- `h`: hours\n",
    "- `d`: days (assuming a day always has 24 h)\n",
    "- `w`: weeks (assuming a week always has 7 d)\n",
    "- `y`: years (assuming a year always has 365 d)\n",
    "\n",
    "> Although the units above can be mixed, __they must be ordered from the largest to the smallest,__ e.g. `1h30m` and `2d3h15m10s7ms`."
   ]
  },
  {
   "cell_type": "markdown",
   "id": "3dcaa18e",
   "metadata": {},
   "source": [
    "### Offsets\n",
    "\n",
    "> __Offsets allow `jumps` to a specified point in time.__\n",
    "\n",
    "For example, the query below could return a `5` minute rate of the `http_requests` we made `1` week ago:"
   ]
  },
  {
   "cell_type": "code",
   "execution_count": null,
   "id": "57832633",
   "metadata": {},
   "outputs": [],
   "source": [
    "rate(http_requests_total[5m] offset 1w)"
   ]
  },
  {
   "cell_type": "markdown",
   "id": "2843af46",
   "metadata": {},
   "source": [
    "## Operators\n",
    "\n",
    "> __Prometheus's language (PromQL) provides the standard set of operators (logical, arithmetic, etc.).__\n",
    "\n",
    "| Arithmetic        | Comparison          | Logical  |\n",
    "| ------------- |:-------------:| -----:|\n",
    "| + | == | and |\n",
    "| - | != | or |\n",
    "| / | > | unless (complement) |\n",
    "| \\% | <  | |\n",
    "| ^ | >=  | |\n",
    "|  | <=   | |\n",
    "\n",
    "\n",
    "These follow the standard broadcasting rules between scalars and vectors, which we are aware of from `numpy` or `pytorch`. However, they do not follow the rule of __matching between two `instant vectors`.__: \n",
    "\n",
    "## Vector Matching\n",
    "\n",
    "> Vector matching defines how one `instant vector` can be matched to another.\n",
    "\n",
    "### One-to-one\n",
    "\n",
    "> One-to-one matches a unique pair of entries from each side of the operation.\n",
    "\n",
    "Here are the governing rules:\n",
    "- The set of labels must be the same.\n",
    "- The value types must match."
   ]
  },
  {
   "cell_type": "code",
   "execution_count": null,
   "id": "2cf40643",
   "metadata": {},
   "outputs": [],
   "source": [
    "<vector expr> <op> ignoring(<label list>) <vector expr>\n",
    "<vector expr> <op> on(<label list>) <vector expr>"
   ]
  },
  {
   "cell_type": "markdown",
   "id": "efa79e76",
   "metadata": {},
   "source": [
    "- __ignoring__ allows us to ignore label(s).\n",
    "- __on__ allows us to specify labels.\n",
    "\n",
    "Assuming that we have the following two groups of time series:\n",
    "- `method_code:http_errors:rate5m`: `5m` rate of `http_errors` and their specific `code`.\n",
    "- `method:http_requests:rate5m`: `5m` rate of `http_errors` for the specific method.\n",
    "\n",
    "Now, for specific `instant selectors`, we might have the following (example values at a given timestamp are commented out on the right):"
   ]
  },
  {
   "cell_type": "code",
   "execution_count": null,
   "id": "f42bd692",
   "metadata": {},
   "outputs": [],
   "source": [
    "method_code:http_errors:rate5m{method=\"get\", code=\"500\"}  # 24\n",
    "method_code:http_errors:rate5m{method=\"get\", code=\"404\"}  # 30\n",
    "method_code:http_errors:rate5m{method=\"put\", code=\"501\"}  # 3\n",
    "method_code:http_errors:rate5m{method=\"post\", code=\"500\"} # 6\n",
    "method_code:http_errors:rate5m{method=\"post\", code=\"404\"} # 21\n",
    "\n",
    "method:http_requests:rate5m{method=\"get\"}  # 600\n",
    "method:http_requests:rate5m{method=\"del\"}  # 34\n",
    "method:http_requests:rate5m{method=\"post\"} # 120"
   ]
  },
  {
   "cell_type": "markdown",
   "id": "ffaef5e5",
   "metadata": {},
   "source": [
    "To determine the ratio of failed requests, we apply `code=500` (internal server error rate):"
   ]
  },
  {
   "cell_type": "code",
   "execution_count": null,
   "id": "2884da89",
   "metadata": {},
   "outputs": [],
   "source": [
    "method_code:http_errors:rate5m{code=\"500\"} / ignoring(code) method:http_requests:rate5m"
   ]
  },
  {
   "cell_type": "markdown",
   "id": "353d3ce4",
   "metadata": {},
   "source": [
    "This would match\n",
    "- `method_code:http_errors:rate5m{method=\"get\", code=\"500\"}` with `method:http_requests:rate5m{method=\"get\"} ` (notice that the labels match, while the codes do not. However, we are __ignoring it__), returning the value, `24 / 600 = 0.04`.\n",
    "- `method_code:http_errors:rate5m{method=\"post\", code=\"500\"}` with `method:http_requests:rate5m{method=\"post\"} ` (same thing as above), returning the value, `6 / 120 = 0.05`.\n",
    "\n",
    "Therefore, we would obtain two `instant vectors`. "
   ]
  },
  {
   "cell_type": "markdown",
   "id": "366f31a9",
   "metadata": {},
   "source": [
    "### Many-to-one and one-to-many\n",
    "\n",
    "> __Each vector element on the 'one' side can match multiple elements on the 'many' side.__\n",
    "\n",
    "This use case is advanced and given as a __mandatory__ exercise.\n",
    "\n",
    "__Note:__ This approach should be used only when necessary."
   ]
  },
  {
   "cell_type": "markdown",
   "id": "89a3a0bc",
   "metadata": {},
   "source": [
    "## Aggregation Operations\n",
    "\n",
    "> Prometheus provides basic operations for data aggregation\n",
    "\n",
    "Here is a full list:\n",
    "\n",
    "- `sum`: calculate sum over dimensions.\n",
    "- `min`: select minimum over dimensions.\n",
    "- `max`: select maximum over dimensions.\n",
    "- `avg`: calculate the average over dimensions.\n",
    "- `group`: all values in the resulting vector are 1.\n",
    "- `stddev`: calculate the population standard deviation over dimensions.\n",
    "- `stdvar`: calculate the population standard variance over dimensions.\n",
    "- `count`: count the number of elements in the vector.\n",
    "- `count_values`: count the number of elements with the same value.\n",
    "- `bottomk`: the smallest k elements based on the sample value.\n",
    "- `topk`: the largest k elements based on the sample value.\n",
    "- `quantile`: calculate φ-quantile (0 ≤ φ ≤ 1) over dimensions.\n",
    "\n",
    "The simplest form is as follows:\n",
    "\n",
    "```\n",
    "<op>(<vector_expression>)\n",
    "```\n"
   ]
  },
  {
   "cell_type": "code",
   "execution_count": null,
   "id": "b60a0245",
   "metadata": {},
   "outputs": [],
   "source": [
    "min(node_cpu_scaling_frequency_hertz)"
   ]
  },
  {
   "cell_type": "code",
   "execution_count": null,
   "id": "77777424",
   "metadata": {},
   "outputs": [],
   "source": [
    "min(windows_cpu_core_frequency_mhz)"
   ]
  },
  {
   "cell_type": "markdown",
   "id": "f0598d3d",
   "metadata": {
    "ExecuteTime": {
     "end_time": "2021-04-17T16:07:04.540057Z",
     "start_time": "2021-04-17T16:07:04.436095Z"
    }
   },
   "source": [
    "![](images/prometheus_op_simple.png)\n",
    "\n",
    "In this case, the __minimum value for each timestep is taken across all the labels__.\n",
    "\n",
    "There are two modifiers for specifying the labels (dimensions) across which the operation would run:\n",
    "- `by`: specifies __by which label(s) the `min` is taken__ (all unspecified will be 'flattened').\n",
    "- `without`: specifies __without which label(s) the `min` is taken__ (all specified will be 'flattened').\n",
    "\n",
    "The syntax is as follows:\n",
    "\n",
    "```\n",
    "<op> by (<label>) (<vector_expression>)\n",
    "```\n",
    "\n",
    "or:\n",
    "\n",
    "```\n",
    "<op> without (<label>) (<vector_expression>)\n",
    "```\n",
    "\n",
    "The `min` taken for each `cpu` separately would be"
   ]
  },
  {
   "cell_type": "code",
   "execution_count": null,
   "id": "308f9b23",
   "metadata": {},
   "outputs": [],
   "source": [
    "min by (cpu) (node_cpu_scaling_frequency_hertz)"
   ]
  },
  {
   "cell_type": "code",
   "execution_count": null,
   "id": "308f9b23",
   "metadata": {},
   "outputs": [],
   "source": [
    "min by (core) (windows_cpu_core_frequency_mhz)"
   ]
  },
  {
   "cell_type": "markdown",
   "id": "10c2202e",
   "metadata": {},
   "source": [
    "![](images/prometheus_op_by.png)"
   ]
  },
  {
   "cell_type": "markdown",
   "id": "4a84db38",
   "metadata": {},
   "source": [
    "## Functions\n",
    "\n",
    "> __Prometheus provides a set of functions. The full list can be viewed [here](https://prometheus.io/docs/prometheus/latest/querying/functions/).__\n",
    "\n",
    "Currently, this set is slightly limited, __and it is impossible to add new functions__ (at least without forking the `prometheus` project).\n",
    "\n",
    "*Things to note*\n",
    "- The standard rules apply (e.g. some functions have default arguments).\n",
    "- Some operate on range vectors, while others operate on instant vectors.\n",
    "\n",
    "Here are some groups of functions:\n",
    "- `date` related (`minute`, `month`, `year`, `timestamp`, `day_of_month`, etc.)\n",
    "- `math` related (`ln`, `exp`, `deriv`, `round`, `sgn`, etc.)\n",
    "- `timeseries` related (`delta` (difference between consecutive values), `idelta`, etc.)\n",
    "\n",
    "Below are a few examples, with the descriptions provided as comments:"
   ]
  },
  {
   "cell_type": "code",
   "execution_count": 2,
   "id": "c2d901f2",
   "metadata": {
    "ExecuteTime": {
     "end_time": "2021-04-17T19:18:02.553046Z",
     "start_time": "2021-04-17T19:18:02.293568Z"
    }
   },
   "outputs": [
    {
     "name": "stdout",
     "output_type": "stream",
     "text": [
      "bash: syntax error near unexpected token `node_hwmon_temp_celsius[10m]'\n"
     ]
    },
    {
     "ename": "",
     "evalue": "2",
     "output_type": "error",
     "traceback": []
    }
   ],
   "source": [
    "# Monitored hardware temperature difference of `10m` intervals.\n",
    "# First and last values from the intervals will be taken.\n",
    "\n",
    "delta(node_hwmon_temp_celsius[10m])"
   ]
  },
  {
   "cell_type": "code",
   "execution_count": null,
   "id": "db75a97b",
   "metadata": {},
   "outputs": [],
   "source": [
    "delta(windows_net_packets_received_total[10m])"
   ]
  },
  {
   "cell_type": "markdown",
   "id": "99bad415",
   "metadata": {},
   "source": [
    "![](images/prometheus_temp_delta.png)"
   ]
  },
  {
   "cell_type": "code",
   "execution_count": null,
   "id": "1d368aa2",
   "metadata": {},
   "outputs": [],
   "source": [
    "# Calculates the increase between the last value in the range vector and the first.\n",
    "# Adjusted for monotonicity and smoothed out.\n",
    "\n",
    "increase(node_hwmon_temp_celsius[10m])"
   ]
  },
  {
   "cell_type": "code",
   "execution_count": null,
   "id": "c2999aea",
   "metadata": {},
   "outputs": [],
   "source": [
    "increase(windows_net_packets_received_total[10m])"
   ]
  },
  {
   "cell_type": "markdown",
   "id": "f70b9702",
   "metadata": {
    "ExecuteTime": {
     "end_time": "2021-04-17T19:24:24.527053Z",
     "start_time": "2021-04-17T19:24:24.423094Z"
    }
   },
   "source": [
    "![](images/prometheus_increase_function.png)"
   ]
  },
  {
   "cell_type": "code",
   "execution_count": null,
   "id": "b9fdf5d8",
   "metadata": {},
   "outputs": [],
   "source": [
    "# e^temp exponential value\n",
    "# This one operates on instant vectors\n",
    "\n",
    "exp(node_hwmon_temp_celsius)"
   ]
  },
  {
   "cell_type": "code",
   "execution_count": null,
   "id": "a18de7b5",
   "metadata": {},
   "outputs": [],
   "source": [
    "exp(windows_cpu_time_total)"
   ]
  },
  {
   "cell_type": "markdown",
   "id": "48e4f945",
   "metadata": {
    "ExecuteTime": {
     "end_time": "2021-04-17T19:26:54.252144Z",
     "start_time": "2021-04-17T19:26:54.148074Z"
    }
   },
   "source": [
    "![](images/prometheus_exp_function.png)"
   ]
  },
  {
   "cell_type": "markdown",
   "id": "a83197c5",
   "metadata": {},
   "source": [
    "### {op}_over_time\n",
    "\n",
    "The last set of functions provided by Prometheus is given by the following scheme:\n",
    "\n",
    "```\n",
    "{op}_over_time(v range-vector)\n",
    "```\n",
    "\n",
    "Here, different `op`s, such as `avg` and `min`, are introduced, and the operation is carried across specified `range`s.\n",
    "\n",
    "Check out all the possibilities [here](https://prometheus.io/docs/prometheus/latest/querying/functions/#aggregation_over_time), and consider the example below:"
   ]
  },
  {
   "cell_type": "code",
   "execution_count": null,
   "id": "9259de14",
   "metadata": {},
   "outputs": [],
   "source": [
    "stddev_over_time(windows_system_context_switches_total[10s])"
   ]
  },
  {
   "cell_type": "markdown",
   "id": "72900f8d",
   "metadata": {},
   "source": [
    "![](images/prometheus_stddev_over_time.png)"
   ]
  },
  {
   "cell_type": "markdown",
   "id": "08e3e75c",
   "metadata": {},
   "source": [
    "## Recording Rules\n",
    "\n",
    "> __Recording rules allow us to precompute frequently used/expensive expressions, and save the results as a new timeseries.__\n",
    "\n",
    "__Always attempt to create new rules instead of running ad-hoc commands__ for the following reasons:\n",
    "- They are faster, as they work on less data, although regularly.\n",
    "- They are more readable to others.\n",
    "- They are easy to reuse.\n",
    "- They are easy to put in VCSs, such as `git`.\n",
    "\n",
    "Conventionally, rules are written in a separate `.yml` file (`<name>.rules.yml` appears to be a reasonable choice) __and included in the `prometheus.yml` config__ (discussed in a previous lesson).\n",
    "\n",
    "Consider the below `example.rules.yml` file:"
   ]
  },
  {
   "cell_type": "code",
   "execution_count": null,
   "id": "26dbf428",
   "metadata": {},
   "outputs": [],
   "source": [
    "groups: # High-level grouping\n",
    "  - name: example # Name of the group of rules\n",
    "    interval: 30s # How often they should be evaluated (deafult: 1m)\n",
    "    rules: # Set of rules in this group\n",
    "    - record: job:http_inprogress_requests:sum # Name of the rule\n",
    "      expr: sum by (job) (http_inprogress_requests) # Evaluated expression"
   ]
  },
  {
   "cell_type": "markdown",
   "id": "276b0c40",
   "metadata": {},
   "source": [
    "### Groups\n",
    "\n",
    "> Rules within a group are run sequentially (as defined) in a regular interval.\n",
    "\n",
    "They are grouped based on semantic meaning and evaluation interval.\n",
    "\n",
    "### Naming\n",
    "\n",
    "There are a few notable naming guidelines:\n",
    "- Recording rules should be of the general form, `level:metric:operations`:\n",
    "    - `level`: labels of the rule output/aggregation level.\n",
    "    - `metric`: name of the metric, e.g. `http_requests`.\n",
    "    - `operations`: key operations creating the result.\n",
    "    \n",
    "Here are some examples:"
   ]
  },
  {
   "cell_type": "code",
   "execution_count": null,
   "id": "421c1497",
   "metadata": {},
   "outputs": [],
   "source": [
    "- record: instance_path:requests:rate5m\n",
    "  expr: rate(requests_total{job=\"myjob\"}[5m])\n",
    "\n",
    "- record: path:requests:rate5m\n",
    "  expr: sum without (instance)(instance_path:requests:rate5m{job=\"myjob\"})\n",
    "  \n",
    "- record: instance_path:request_failures:rate5m\n",
    "  expr: rate(request_failures_total{job=\"myjob\"}[5m])\n",
    "\n",
    "- record:  wmiexporter:windows_cpu_dpcs_total:sum \n",
    "  expr: sum by (job) (windows_cpu_dpcs_total)  "
   ]
  },
  {
   "cell_type": "markdown",
   "id": "218d0683",
   "metadata": {},
   "source": [
    "### Including rules in prometheus.yml\n",
    "\n",
    "After the rule is written down, __it must be included in the `prometheus.yml` server config__.\n",
    "\n",
    "There are two places where one can change the related `recording rules` settings:"
   ]
  },
  {
   "cell_type": "code",
   "execution_count": null,
   "id": "a6ec82ef",
   "metadata": {},
   "outputs": [],
   "source": [
    "global:\n",
    "  # How frequently to evaluate rules.\n",
    "  # Define on a per-group basis if required.\n",
    "  [ evaluation_interval: <duration> | default = 1m ]\n",
    "rule_files:\n",
    "  [ - <filepath_glob> ... ] # Path to rule files "
   ]
  },
  {
   "cell_type": "markdown",
   "id": "3876bc3c",
   "metadata": {},
   "source": [
    "Consider the below example:"
   ]
  },
  {
   "cell_type": "code",
   "execution_count": null,
   "id": "f4f8a22d",
   "metadata": {},
   "outputs": [],
   "source": [
    "# my global config\n",
    "global:\n",
    "  evaluation_interval: 5m # Evaluate rules every 15 s. The default is every 1 m.\n",
    "\n",
    "# Load rules once, and periodically evaluate them according to the global 'evaluation_interval'.\n",
    "rule_files:\n",
    "   - \"windows.rules.yml\"\n",
    "   - \"docker.rules.yml\"\n",
    "\n",
    "..."
   ]
  },
  {
   "cell_type": "markdown",
   "id": "6d446cba",
   "metadata": {},
   "source": [
    "After these steps, your rules should run automatically and be available under your specified `record` name."
   ]
  },
  {
   "cell_type": "markdown",
   "id": "02fccdaa",
   "metadata": {},
   "source": [
    "## Conclusion\n",
    "At this point, you should have a good understanding of\n",
    "- the significant querying capabilities of Prometheus.\n",
    "- data types.\n",
    "- instant and range vector selectors.\n",
    "- vector matching, operators and functions.\n",
    "- how to record rules."
   ]
  }
 ],
 "metadata": {
  "kernelspec": {
   "display_name": "Bash [conda env:.conda-AiCore] *",
   "language": "bash",
   "name": "conda-env-.conda-AiCore-bash"
  },
  "language_info": {
   "codemirror_mode": "shell",
   "file_extension": ".sh",
   "mimetype": "text/x-sh",
   "name": "bash"
  }
 },
 "nbformat": 4,
 "nbformat_minor": 5
}
