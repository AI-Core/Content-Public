{
 "cells": [
  {
   "cell_type": "markdown",
   "metadata": {},
   "source": [
    "# Grafana"
   ]
  },
  {
   "cell_type": "markdown",
   "metadata": {},
   "source": [
    "## Introduction\n",
    "> Grafana is an enterprise-level solution designed to enable users query, visualise, alert on and understand data, regardless of the storage location. Grafana does this through the creation of custom dashboards for almost any service, to facilitate the monitoring and observation of all critical information in one centralised location.\n",
    "\n",
    "They have an excellent tagline that summarises their ethos: *Dashboard anything. Observe everything.*\n",
    "\n",
    "Visit the Grafana homepage [here](https://grafana.com/grafana/) for a nice and complete overview of their offerings."
   ]
  },
  {
   "cell_type": "markdown",
   "metadata": {},
   "source": [
    "## Configuring Grafana\n",
    "\n",
    "Firstly, visit the Grafana download page by clicking [here](https://grafana.com/grafana/download). Select the version you wish to install depending on your OS, and follow the corresponding installation instructions. Afterwards, Grafana will be configured as a service or server on your system. You can then access the Grafana login page from `localhost:3000`. Initially, you will log in using `admin` as the username and `admin` as the password, after which Grafana will request you to create a new admin password before logging in.\n",
    "\n",
    "<img src=\"images/grafana_login.png?modified=232132453\">"
   ]
  },
  {
   "cell_type": "markdown",
   "metadata": {},
   "source": [
    "Update the admin credentials, subsequent to which you will be able to login to the main Grafana dashboard. Here on, we can customise the panels on the main homepage dashboard and access the navigation and user settings.\n",
    "\n",
    "In order, the settings on the navigation bar are as follows:\n",
    "\n",
    "- **Eyeglass**: search all your custom dashboards.\n",
    "- **Plus sign**: create new dashboards, organise the dashboards into folders, and import dashboards from a JSON file or URL.\n",
    "- **Grid**: manage your dashboards and library panels, view snapshots of your dashboards, and create a playlist from the dashboards to cycle through them automatically. \n",
    "- **Compass**: run queries from your data sources to view the outputted graph without committing it to a dashboard.\n",
    "- **Bell**: configure alerts and notifications for your metrics.\n",
    "- **Cog and Shield**: add new users/teams, data sources, plugins and API keys, and set up Grafana preferences.\n",
    "<br><br>\n",
    "\n",
    "<img src=\"images/grafana_main_dash.png?modified=23232453\">"
   ]
  },
  {
   "cell_type": "markdown",
   "metadata": {},
   "source": [
    "## Adding Prometheus as a Data Source.\n",
    "\n",
    "Grafana offers the ability to add many predefined data sources easily, and each of them has a Query editor that has been customised to work with each data source. A full list of the data sources and more information on each of them can be found on the Grafana [website](https://grafana.com/docs/grafana/latest/datasources/).\n",
    "\n",
    "To allow Grafana to start tracking your metrics on a dashboard, you need to add Prometheus as a data source. Click the cog on the left-hand navigation panel in Grafana, and click **data sources**. Here, you can add your data sources to output to Grafana. \n",
    "\n",
    "Search for Prometheus in the search box, and you should find it immediately. Select Prometheus, and you will be redirected to the configuration page. Observe the URL field, and notice that it has been configured as `host.docker.internal:9090`, since we are running Prometheus in a Docker container. Leave all other settings as defaults, and click **Save & test** to test the connection to Prometheus. You should see a checkbox indicating that the data source is working.\n",
    "\n",
    "To learn more about adding data sources, visit the [link](https://grafana.com/docs/grafana/latest/datasources/add-a-data-source/).<br><br>\n",
    "\n",
    "<img src=\"images/grafana_prom_setup.png?modified=2321321312\">"
   ]
  },
  {
   "cell_type": "markdown",
   "metadata": {},
   "source": [
    "## Creating Dashboards\n",
    "\n",
    "Having added Prometheus as a data source, we can create a dashboard to track some Prometheus metrics. Click the plus icon on the navigation bar of Grafana; thereafter, click **Create** to begin creating a new one. You will be given three options:\n",
    "\n",
    "- **Add an empty panel:** allows you to add a panel to track metrics or logs.\n",
    "- **Add a new row**: add a row, to which you can add panels and separate them based on specific cases; in other words, you can have a row to alert you of CPU usage and another for RAM usage.\n",
    "- **Add a panel from the panel library:** When creating panels, you can optionally save them in the panel library, which will allow you to quickly recreate the panel on another dashboard. Changes made to this panel will be reflected in all other instances of the panel on other dashboards. Read more about library panels [here](https://grafana.com/docs/grafana/latest/panels/panel-library/).\n",
    "\n",
    "Now, we create a new row for our Prometheus panels and name it **OS metrics**. Thereafter, we create another row and name it **Docker metrics**. After these have been created, add a new panel to track the metrics. Select **Add an empty panel**, and you will be taken to the panel-editor view.\n",
    "\n",
    "<img src=\"images/prom_panel_edit.png?modified=232131312\">\n",
    "\n"
   ]
  },
  {
   "cell_type": "markdown",
   "metadata": {},
   "source": [
    "Here, we can begin designing the panel to output the metrics in whatever style we decide on. At the bottom of the panel (similar to the case in the Prometheus server), locate the **metrics browser** which allows us to run queries. Pick a metric to track. Grafana offers an autocomplete feature; therefore, you can start typing to see possible options. \n",
    "\n",
    "In this case, we have decided to track the rate of the total CPU-clock interrupts on windows: `rate(windows_cpu_clock_interrupts_total[5m])`. Once you have selected your query, you can configure the options for its display on the right-hand panel and assign a title to the panel. Name the panel appropriately, and configure the metrics graph to manifest your desired appearance. In this image, we have increased the fill opacity to obtain a better overview of the CPUs with high levels of interrupts. Next, save the panel using **Save** in the top-right corner. Grafana will enquire if you wish to save a new dashboard; save the new dashboard as `main`.\n",
    "\n",
    "<img src=\"images/graf_main_metrics_panel.png?modified=323254325\">"
   ]
  },
  {
   "cell_type": "markdown",
   "metadata": {},
   "source": [
    "Click the back arrow in the top-left corner. The panel should now be viewable from the newly created Grafana dashboard. \n",
    "\n",
    "<img src=\"images/graf_dashbord.png?modified=22421412412\">"
   ]
  },
  {
   "cell_type": "markdown",
   "metadata": {},
   "source": [
    "Now, we add more panels to monitor both Docker and more OS metrics. Click the add panel icon (top-right corner, beside the save icon), and add more panels to the dashboard. Configure the new panels to be displayed differently. You can do this from the right sidebar in the **Edit Panel**, under **Time series**. Attempt to create different panels, such as bar charts, gauges or tables, using the panel editor with different metrics. The choice of metrics is not important at the moment.\n",
    "\n",
    "Add some panels from the `windows/node` metrics, as well as the `deamon_engine` Docker metrics. Note that they will be organised after creation. Once you have added some panels, your dashboard should appear similar to that shown below. Remember to save your dashboard after creation and add a note stating the changes made. \n",
    "\n",
    "<img src=\"images/graf_full_dash.png\">"
   ]
  },
  {
   "cell_type": "markdown",
   "metadata": {},
   "source": [
    "Although the information provided on the dashboard for tracking metrics is highly valuable, the panels are highly disorganised. As a solution, we add some rows to separate the metrics and rescale them to fit properly. Click the **Add Panel** button once again. This time, add two rows, and assign the respective names: `Docker metrics` and `OS metrics`. The rows can be renamed by clicking the small cog beside the row. Next, drag and drop the respective panels underneath each metric row. Now, your dashboard should be nicely organised, with all the required metrics in place.\n",
    "\n",
    "<img src=\"images/graf_dash_orgainised.png?modified=23123123\">"
   ]
  },
  {
   "cell_type": "markdown",
   "metadata": {},
   "source": [
    "Using Grafana, you can create an unlimited number of custom dashboards to track an unlimited number of metrics. Each use case will be different, of course, depending on the needs of an organisation. \n",
    "\n",
    "These dashboards provide a centralised location for all critical data and can be viewed by all members of a team. For instance, StackOverflow uses custom dashboards to visualise incoming website data to help optimise their server performance. Dell uses a Prometheus server and Oracle data, allowing their product teams to view all metrics pertaining to team performance in a centralised location. Click [here](https://grafana.com/success/) to see many more examples and use cases.\n"
   ]
  },
  {
   "cell_type": "markdown",
   "metadata": {},
   "source": [
    "## Conclusion\n",
    "At this point, you should have a good understanding of how to\n",
    "- import a data source into Grafana for tracking custom metrics.\n",
    "- configure a custom dashboard to track custom metrics.\n",
    "- create multiple, different kinds of panels with different queries.\n",
    "- organise dashboards using rows to achieve an optimal layout. "
   ]
  }
 ],
 "metadata": {
  "language_info": {
   "name": "python"
  }
 },
 "nbformat": 4,
 "nbformat_minor": 2
}
