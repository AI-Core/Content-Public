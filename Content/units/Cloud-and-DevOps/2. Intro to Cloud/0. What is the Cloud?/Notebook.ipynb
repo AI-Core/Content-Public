{
 "cells": [
  {
   "attachments": {},
   "cell_type": "markdown",
   "metadata": {},
   "source": [
    "# Introduction to the Cloud"
   ]
  },
  {
   "attachments": {},
   "cell_type": "markdown",
   "metadata": {},
   "source": [
    "\n",
    "> The cloud is a network of remote servers hosted on the internet that can be used to store, manage, and process data. The cloud provides on-demand access to computing resources, including servers, storage, databases, software, and networking. The cloud is typically used to deliver services over the internet, such as email, video streaming, and online storage."
   ]
  },
  {
   "attachments": {},
   "cell_type": "markdown",
   "metadata": {},
   "source": [
    "## What are Cloud Providers?\n",
    "\n",
    "Cloud providers are companies that offer cloud computing services to businesses and individuals. These companies own and operate the *data centers*.\n",
    "\n",
    "> A **data center** is a facility where the cloud provider stores and manages its computing resources and data. It typically includes servers, storage devices, networking equipment, and other hardware necessary for running cloud services. Data centers are designed to provide high availability, security, and scalability to support the demands of cloud computing. They are often located in geographically dispersed locations to ensure redundancy and disaster recovery capabilities. Data centers are a critical component of cloud infrastructure and play a key role in delivering reliable and efficient cloud services to customers.\n",
    "\n",
    "Cloud providers offer a range of services, including infrastructure, platform, and software services, which can be accessed by customers over the internet. These services are typically available on a pay-per-use basis, with customers only paying for the resources they consume.\n",
    "\n",
    "Cloud providers are responsible for ensuring the security, reliability, and availability of their services, as well as for maintaining and upgrading the underlying infrastructure. They also provide customer support and often offer additional services, such as training and consulting."
   ]
  },
  {
   "attachments": {},
   "cell_type": "markdown",
   "metadata": {},
   "source": [
    "## Main Cloud Providers\n",
    "\n",
    "There are several major cloud providers that offer a range of cloud services to customers. These providers include:\n",
    "\n",
    "<p align=\"center\">\n",
    "    <img src=\"images/TopCloudProviders.jpeg\" height=\"300\" width=\"900\"/>\n",
    "</p>\n",
    "\n",
    "- **1. Amazon Web Services (AWS)**: AWS is a comprehensive cloud services platform that provides customers with access to a wide range of infrastructure and application services. AWS is known for its high levels of scalability, reliability, and cost-effectiveness.\n",
    "- **2. Microsoft Azure**: Azure is a cloud computing platform and service offered by Microsoft. Azure is known for its ease of use and integration with Microsoft products and services.\n",
    "- **3. Google Cloud Platform (GCP)**: Google Cloud Platform is a suite of cloud computing services provided by Google. GCP is known for its focus on data analytics and machine learning.\n",
    "- **4. IBM Cloud**: IBM Cloud is a cloud computing platform and service offered by IBM.\n",
    "- **5. Oracle Cloud**: Oracle Cloud is a cloud computing platform and service offered by Oracle. \n",
    "\n",
    "Choosing a cloud provider can be a complex decision, and organisations should consider factors such as cost, performance, reliability, and security when making their selection. It is also important to consider the provider's support for industry standards and compliance requirements, as well as their track record for innovation and ongoing development of new services and features."
   ]
  },
  {
   "attachments": {},
   "cell_type": "markdown",
   "metadata": {},
   "source": [
    "## Characteristics of the Cloud\n",
    "\n",
    "The cloud has several key characteristics that make it different from traditional IT infrastructure. These characteristics include:\n",
    "\n",
    "- **On-demand self service**:No human interaction for resource provisioning\n",
    "\n",
    "- **Broad Network Access**: Resource can be accessed from anywhere over the internet\n",
    "\n",
    "- **Availability**: The cloud provides high levels of uptime and reliability. This means that organizations can count on their cloud services being available and accessible whenever they need them.\n",
    "\n",
    "- **Elasticity/Scalability**: The cloud can automatically adjust resource usage based on demand. This means that organizations can save money by only paying for the resources they use, and can easily scale up or down as needed.\n",
    "\n",
    "- **Pay-per-use pricing**: The cloud offers a pay-per-use pricing model, which means that organisations only pay for the resources they use. This is different from traditional IT infrastructure, which often requires large upfront investments in hardware and software.\n",
    "\n"
   ]
  },
  {
   "attachments": {},
   "cell_type": "markdown",
   "metadata": {},
   "source": [
    "## The Shared Responsibility Model\n",
    "\n",
    "The shared responsibility model is a framework that outlines the responsibilities of the cloud provider and the customer for security and compliance.\n",
    "\n",
    "### Cloud Provider Responsibilities\n",
    "Cloud providers are responsible for securing the infrastructure that supports their services, including the physical data centers, networks, and servers. They are also responsible for managing the security and compliance of the underlying hardware and software.\n",
    "\n",
    "### Customer Responsibilities\n",
    "Customers are responsible for securing their data and applications, as well as ensuring compliance with relevant regulations and standards. They are also responsible for managing user access and authentication, and for monitoring their own applications and data for security threats.\n"
   ]
  },
  {
   "attachments": {},
   "cell_type": "markdown",
   "metadata": {},
   "source": [
    "## IaaS, PaaS, and SaaS\n",
    "\n",
    "Cloud services are often categorized based on the level of control that the customer has over the underlying infrastructure. The three main categories of cloud services are:\n",
    "\n",
    "- *1. Infrastructure as a Service (IaaS)*: IaaS provides customers with access to virtualised computing resources, including servers, storage, and networking. With IaaS, customers have control over the operating system, middleware, and applications, and are responsible for managing and securing their own infrastructure. Examples of IaaS providers include Amazon Web Services (AWS), Microsoft Azure, and Google Cloud Platform.\n",
    "\n",
    "- *2. Platform as a Service (PaaS)*: PaaS provides customers with a platform for developing, deploying, and managing applications. With PaaS, customers have access to pre-configured development environments, which can help speed up application development and deployment. Examples of PaaS providers include Heroku, IBM Bluemix, and Oracle Cloud Platform.\n",
    "\n",
    "- *3. Software as a Service (SaaS)*: SaaS provides customers with access to software applications that are delivered over the internet. With SaaS, customers do not have to manage the underlying infrastructure or software, and instead can focus on using the application to meet their business needs. Examples of SaaS providers include Salesforce, Dropbox, and Microsoft Office 365.\n"
   ]
  },
  {
   "attachments": {},
   "cell_type": "markdown",
   "metadata": {},
   "source": [
    "## Cloud Models\n",
    "\n",
    "There are three main cloud models:\n",
    "\n",
    "- **1. Public Clouds**: Public clouds are owned and operated by third-party providers, and their infrastructure is shared by multiple customers. Public clouds offer high levels of scalability and cost-effectiveness, but may not be suitable for organizations that require high levels of security or compliance.\n",
    "\n",
    "- **2. Private Clouds**: Private clouds are owned and operated by the organisation itself. Private clouds offer greater levels of control and security, but can be more expensive to maintain and may not offer the same levels of scalability as public clouds.\n",
    "\n",
    "- **3. Hybrid Clouds**: Hybrid clouds combine elements of both public and private clouds. They allow organisations to leverage the benefits of both models, while also addressing any concerns related to security, compliance, or cost-effectiveness.\n",
    "\n"
   ]
  },
  {
   "attachments": {},
   "cell_type": "markdown",
   "metadata": {},
   "source": [
    "## Key Takeaways\n",
    "\n",
    "- The cloud refers to a collection of servers, storage, and other computing resources that can be accessed over the internet\n",
    "- Cloud services have several characteristics, including on-demand self-service, broad network access, resource pooling, rapid elasticity, and measured service\n",
    "- Cloud models include public cloud, private cloud, and hybrid cloud\n",
    "- Benefits of using cloud services include increased agility, scalability, flexibility, and cost-effectiveness\n",
    "- The shared responsibility model is a way to determine which security responsibilities are handled by the cloud provider and which are handled by the customer\n",
    "- Cloud services are often categorised based on the level of control that the customer has over the underlying infrastructure, including IaaS, PaaS, and SaaS\n",
    "- Major cloud providers include Amazon Web Services, Microsoft Azure, Google Cloud Platform, IBM Cloud, and Oracle Cloud"
   ]
  }
 ],
 "metadata": {
  "language_info": {
   "name": "python"
  }
 },
 "nbformat": 4,
 "nbformat_minor": 2
}
