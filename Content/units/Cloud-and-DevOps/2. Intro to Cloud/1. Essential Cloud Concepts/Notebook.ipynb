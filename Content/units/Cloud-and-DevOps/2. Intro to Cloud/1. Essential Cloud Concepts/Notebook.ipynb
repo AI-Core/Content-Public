{
 "cells": [
  {
   "attachments": {},
   "cell_type": "markdown",
   "metadata": {},
   "source": [
    "# Essential Cloud Concepts"
   ]
  },
  {
   "cell_type": "markdown",
   "metadata": {},
   "source": [
    "## Motivation\n",
    "\n",
    "Embracing cloud computing has become a fundamental requirement for businesses and individuals seeking scalable, flexible, and cost-effective solutions for their computing needs. The cloud provides a vast array of services and resources that empower users to build, deploy, and manage applications with unprecedented ease and efficiency. However, to fully leverage the potential of cloud platforms like Azure and AWS, a solid understanding of essential cloud concepts is essential."
   ]
  },
  {
   "cell_type": "markdown",
   "metadata": {},
   "source": [
    "## Resources\n",
    "\n",
    "Cloud platforms like Azure and AWS provide a wide range of resources that enable you to build and deploy applications and services. Understanding these resources is crucial for designing and optimizing your cloud-based solutions. Here are some key cloud resources you should be familiar with:\n",
    "\n",
    "- **Virtual Machines (VMs)**: Virtual instances of computers that provide compute power, memory, storage, and network connectivity for running applications\n",
    "\n",
    "- **Storage Services**: Various storage options for data storage needs. Object storage for storing unstructured data like images and documents. File storage for managing network file shares. Block storage for persistent block-level storage.\n",
    "\n",
    "- **Databases**: Managed database services for different types of data storage. Relational databases for structured data. NoSQL databases for unstructured and semi-structured data.\n",
    "\n",
    "- **Networking Resources**: Resources for establishing connectivity and managing network traffic. Virtual networks for creating isolated network environments. Load balancers for distributing traffic across instances.\n",
    "\n",
    "- **Serverless Resources**: Compute platforms that eliminate the need for server management. Run code without provisioning servers. Automatically scale resources based on demand.\n",
    "\n",
    "- **Containers**: Services for running applications in isolated environments. Containers provide lightweight and portable application execution.\n",
    "\n",
    "- **AI and ML Services**: Services for building intelligent applications. Includes pre-trained models, APIs, and tools for machine learning tasks.\n",
    "\n",
    "- **Security and Identity Resources**: Resources for managing security and identity. Control access to resources and ensure data protection. Includes identity management, encryption, and security monitoring tools.\n",
    "\n",
    "- **Monitoring and Management Resources**: Services for monitoring and managing cloud resources. Monitor performance, health, and costs of resources. Manage resources through code or graphical interfaces."
   ]
  },
  {
   "attachments": {},
   "cell_type": "markdown",
   "metadata": {},
   "source": [
    "## Regions\n",
    "\n",
    "Cloud providers, such as Azure and AWS, have physical *data centers* located around the world, known as *regions*. These regions are interconnected through dedicated low-latency networks and allow customers to deploy their applications and services in multiple geographic locations. By deploying your services in multiple regions, you can achieve higher availability, reduce latency, and comply with data residency requirements.\n",
    "\n",
    "Azure currently has over 60 regions worldwide, while AWS has over 25 regions. Both Azure and AWS continue to expand their regions to provide more options for customers.\n",
    "\n",
    "### Selecting a region\n",
    "\n",
    "When selecting a region for your Azure or AWS deployment, you should consider several factors, including:\n",
    "- **Proximity to your users**: Choose a region that is geographically closer to your users to reduce latency and improve performance\n",
    "- **Regulatory compliance**: Choose a region that complies with the relevant regulatory requirements for your industry or geographic location\n",
    "- **Data residency**: Choose a region that meets your data residency requirements, such as storing data within a specific country or region\n",
    "- **Service availability**: Choose a region that offers the Azure or AWS services and features that you need for your application or service\n",
    "- **Cost**: Choose a region that offers the most cost-effective pricing for your usage patterns"
   ]
  },
  {
   "attachments": {},
   "cell_type": "markdown",
   "metadata": {},
   "source": [
    "## Availability Zones\n",
    "\n",
    "*Availability Zones* are unique physical locations within a **region** that are designed to provide high availability and fault tolerance for mission-critical applications. Each Availability Zone is made up of one or more data centers, with each data center being physically separated from the others and connected through high-speed, low-latency networking.\n",
    "\n",
    "By deploying your applications and services across multiple Availability Zones, you can ensure that your application remains available even in the event of a data center or network outage."
   ]
  },
  {
   "attachments": {},
   "cell_type": "markdown",
   "metadata": {},
   "source": [
    "## Region Pairs\n",
    "\n",
    "Azure and AWS both offer *region pairs*, which are two regions within the same geography that are paired together to provide high availability and disaster recovery capabilities. Each region pair is designated as either a *primary/secondary* or an *active/active* pair.\n",
    "\n",
    "In a **primary/secondary** region pair, the *primary region* is the main location for your application or service, while the *secondary region* serves as a backup location. \n",
    "> If the primary region experiences an outage, Azure or AWS automatically fails over to the secondary region to ensure that your application remains available.\n",
    "\n",
    "In an **active/active** region pair, both regions are active and can handle production traffic simultaneously. This provides additional redundancy and fault tolerance, as well as the ability to use both regions for load balancing and disaster recovery.\n",
    "\n"
   ]
  },
  {
   "attachments": {},
   "cell_type": "markdown",
   "metadata": {},
   "source": [
    "## SLA\n",
    "\n",
    "Both Azure and AWS have an Service Level Agreement (*SLA*) that guarantees a certain level of **availability** for their services. The SLA applies to all Azure and AWS services and offers varying levels of availability based on the service and the region where it is deployed.\n",
    "\n",
    "> **Availability** is a measure of how much time a system is operational and can be accessed by users. Availability is typically expressed as a percentage of the total time, and it is directly related to the uptime of the system.\n",
    "\n",
    "For example, the SLA for Azure Virtual Machines in a single region guarantees 99.9% availability, while the SLA for AWS EC2 instances in a single region guarantees 99.99% availability. If a system has an availability of 99.9%, it means that the system is expected to be available for use 99.9% of the time, or roughly 8.76 hours per year. Conversely, if a system has an availability of 99.99%, it means that the system is expected to be available for use 99.99% of the time, or roughly 52.6 minutes per year. So as you can see, quite the difference!\n",
    "\n",
    "In general, a higher availability percentage indicates a higher level of service reliability, which is important for mission-critical applications and services. However, achieving higher levels of availability may require additional resources and redundancy, which can increase the cost of the deployment. Therefore, it is important to carefully consider the availability requirements of your application or service and choose the appropriate level of availability and redundancy based on your needs and budget.\n",
    "\n",
    "### SLA calculators\n",
    "\n",
    "Both Azure and AWS provide *SLA calculators* to help you understand the expected availability of your services based on their SLA metrics. These calculators allow you to input the number of instances of a service you are using, as well as the duration of time you expect to use the service, and they will provide an estimated uptime percentage based on the SLA for that service.\n",
    "\n",
    "Some popular SLA calculators include:\n",
    "- Azure SLA Calculator: https://azure.microsoft.com/en-us/support/legal/sla/calculator/\n",
    "- AWS SLA Calculator: https://calculator.aws/#/estimate?id=1b1419511e65a135c3a4827c"
   ]
  },
  {
   "attachments": {},
   "cell_type": "markdown",
   "metadata": {},
   "source": [
    "## Key takeaways\n",
    "\n",
    "- Cloud resources include virtual machines, storage services, databases, networking resources, serverless resources, containers, AI and ML services, security and identity resources, and monitoring and management resources\n",
    "- Azure and AWS both have multiple regions and availability zones to provide customers with high availability and fault tolerance\n",
    "- When selecting a region or availability zone, it is important to consider factors such as proximity to users, compliance requirements, and cost\n",
    "- Region pairs can be used to provide additional redundancy and disaster recovery capabilities in the event of a regional outage\n",
    "- Azure and AWS both offer SLAs that guarantee a certain level of availability for their services\n",
    "- Availability is a measure of how much time a system is operational and can be accessed by users, and it is directly related to the uptime of the system\n",
    "- A higher availability percentage indicates a higher level of service reliability, which is important for mission-critical applications and services"
   ]
  }
 ],
 "metadata": {
  "language_info": {
   "name": "python"
  }
 },
 "nbformat": 4,
 "nbformat_minor": 2
}
