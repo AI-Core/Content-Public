{
 "cells": [
  {
   "attachments": {},
   "cell_type": "markdown",
   "metadata": {},
   "source": [
    "# Essential Cloud Concepts"
   ]
  },
  {
   "attachments": {},
   "cell_type": "markdown",
   "metadata": {},
   "source": [
    "## What is a region in the context of cloud computing?\n",
    "\n",
    "- A geographic location with a high density of data centers ***\n",
    "- A specific type of cloud service offered by Azure and AWS\n",
    "- An algorithm for load balancing between multiple servers\n",
    "- A tool for managing cloud resources"
   ]
  },
  {
   "attachments": {},
   "cell_type": "markdown",
   "metadata": {},
   "source": [
    "## What is an availability zone?\n",
    "\n",
    "- A group of regions managed by a single cloud provider\n",
    "- A collection of virtual machines in a single region\n",
    "- A physical location within a region that is isolated from other locations ***\n",
    "- A geographic location with a high density of data centers"
   ]
  },
  {
   "attachments": {},
   "cell_type": "markdown",
   "metadata": {},
   "source": [
    "## What factors should be considered when selecting a region or availability zone? Select all that apply.\n",
    "\n",
    "- Proximity to users ***\n",
    "- Compliance requirements ***\n",
    "- Cost ***\n",
    "- Personal preference"
   ]
  },
  {
   "attachments": {},
   "cell_type": "markdown",
   "metadata": {},
   "source": [
    "## What are region pairs?\n",
    "\n",
    "- Pairs of cloud providers that work together to offer more services\n",
    "- Pairs of regions that are geographically close to each other and provide redundancy ***\n",
    "- Pairs of users who share a single cloud account\n",
    "- Pairs of virtual machines within the same region that are linked together to provide high availability"
   ]
  },
  {
   "attachments": {},
   "cell_type": "markdown",
   "metadata": {},
   "source": [
    "## What is an SLA in the context of cloud computing?\n",
    "\n",
    "- A service level agreement that guarantees a certain level of availability ***\n",
    "- A security feature that prevents unauthorized access to cloud resources\n",
    "- A tool for monitoring cloud performance\n"
   ]
  },
  {
   "attachments": {},
   "cell_type": "markdown",
   "metadata": {},
   "source": [
    "## What is the difference between 99.9% and 99.99% availability?\n",
    "\n",
    "- There is no difference\n",
    "- 99.9% is more reliable than 99.99%\n",
    "- 99.99% is more reliable than 99.9% ***\n",
    "- 99.9% is more expensive than 99.99%"
   ]
  },
  {
   "attachments": {},
   "cell_type": "markdown",
   "metadata": {},
   "source": [
    "## What is availability in the context of cloud computing?\n",
    "\n",
    "- The total number of users that can access a system at a given time\n",
    "- The amount of data that can be stored in a cloud database\n",
    "- The speed at which data can be transferred between cloud resources\n",
    "-  The amount of time a system is operational and can be accessed by users ***"
   ]
  },
  {
   "cell_type": "markdown",
   "metadata": {},
   "source": [
    "## What is the purpose of a virtual machine (VM) in cloud computing?\n",
    "\n",
    "- To provide scalable storage for unstructured data\n",
    "- To run code without managing servers\n",
    "- To establish network connectivity between different cloud resources\n",
    "- To provide compute power and run applications ***"
   ]
  },
  {
   "cell_type": "markdown",
   "metadata": {},
   "source": [
    "## Which cloud resource is suitable for storing unstructured data like images and documents?\n",
    "\n",
    "- Object storage\n",
    "- Blob storage ***\n",
    "- File storage\n",
    "- Relational database"
   ]
  }
 ],
 "metadata": {
  "language_info": {
   "name": "python"
  },
  "orig_nbformat": 4
 },
 "nbformat": 4,
 "nbformat_minor": 2
}
