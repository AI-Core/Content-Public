{
 "cells": [
  {
   "cell_type": "markdown",
   "metadata": {},
   "source": [
    "# Docker\n",
    "\n",
    "<p align=center><a href=https://www.docker.com><img src=images/Docker_Logo.png width=400></a></p>"
   ]
  },
  {
   "cell_type": "markdown",
   "metadata": {},
   "source": [
    "### Context & .dockerignore\n"
   ]
  },
  {
   "cell_type": "markdown",
   "metadata": {},
   "source": [
    "\"The build context is the set of files located at the specified PATH or URL. Those files are sent to the Docker daemon during the build so it can use them in the filesystem of the image.\" By default, the docker context is the location from which `docker build` is executed.\n",
    "\n",
    "> When we build the image in a given directory, __everything is added recursively to the context__ (so it can be copied into image, like above)\n",
    "\n",
    "`Dockerfile` might be surrounded by a lot of files and it takes time to copy them into `Docker` system (might even crash if there are too many files!)\n",
    "\n",
    "Because of that `.dockerignore` file can be specified (really similar to `.gitignore`):"
   ]
  },
  {
   "cell_type": "code",
   "execution_count": null,
   "metadata": {
    "ExecuteTime": {
     "end_time": "2021-04-05T01:44:41.245418Z",
     "start_time": "2021-04-05T01:44:40.274Z"
    }
   },
   "outputs": [],
   "source": [
    "__main__.py\n",
    "requirements.txt"
   ]
  },
  {
   "cell_type": "markdown",
   "metadata": {},
   "source": [
    "## Docker Containers\n"
   ]
  },
  {
   "cell_type": "markdown",
   "metadata": {},
   "source": [
    "> <font size=+1>Containers are instantiations of images</font>\n",
    "\n",
    "As we have built our `repository/python_image` we can create and run container from it:"
   ]
  },
  {
   "cell_type": "code",
   "execution_count": null,
   "metadata": {
    "ExecuteTime": {
     "end_time": "2021-04-05T01:44:41.248025Z",
     "start_time": "2021-04-05T01:44:40.277Z"
    }
   },
   "outputs": [],
   "source": [
    "docker run repository/python_image:latest --help"
   ]
  },
  {
   "cell_type": "markdown",
   "metadata": {},
   "source": [
    "### Thinking of containers\n"
   ]
  },
  {
   "cell_type": "markdown",
   "metadata": {},
   "source": [
    "> One should think of the containers as __standalone units__ (like applications) __having single responsibility__\n",
    "\n",
    "Examples could be (but are not limited to):\n",
    "- MySQL database container (other containers connect to it via `EXPOSE\\' d` ports)\n",
    "- Data preprocessing creating a single artifact (preprocessed dataset)\n",
    "- Neural network training creating a single artifact (neural network)\n",
    "\n",
    "__Never try to fit everything into a single container!__\n",
    "\n",
    "In the above case, our container is similar to simply running `python` from the command line\n",
    "\n",
    "> Containers should be immutable (their internal state is always the same)\n",
    "\n",
    "This allows us to:\n",
    "- Destroy and recreate containers quickly\n",
    "- Always be in a well-defined state"
   ]
  },
  {
   "cell_type": "markdown",
   "metadata": {},
   "source": [
    "## Dockerfile commands (instructions)\n"
   ]
  },
  {
   "cell_type": "markdown",
   "metadata": {},
   "source": [
    "> Docker provides a couple commands, which allows us to work with in a similar fashion to command line\n",
    "\n",
    "__Each command creates a new layer__:\n",
    "- Images can be built from any layer upwards\n",
    "- __Layers are cached and reused by consecutive builds__\n",
    "- __Layers can be reused between different images__\n",
    "\n",
    "### [FROM](https://docs.docker.com/engine/reference/builder/#from)\n"
   ]
  },
  {
   "cell_type": "markdown",
   "metadata": {},
   "source": [
    "> `FROM [--platform=<platform>] <image>[:<tag>] [AS <name>]`\n",
    "\n",
    "- Starts __build stage__ of an image\n",
    "- Specifies base image (like `Ubuntu`, `node`, `conda`) which defines what one can do in the image\n",
    "- `AS` defines name for the image, we will see the usage during [multi-stage builds](https://docs.docker.com/develop/develop-images/multistage-build/).\n",
    "\n",
    "It can be mixed with `ARG` (which allows us to pass this value from a command line) like this:"
   ]
  },
  {
   "cell_type": "code",
   "execution_count": null,
   "metadata": {
    "ExecuteTime": {
     "end_time": "2021-04-05T01:44:41.250268Z",
     "start_time": "2021-04-05T01:44:40.280Z"
    }
   },
   "outputs": [],
   "source": [
    "# Version is out of build stage\n",
    "ARG VERSION=latest\n",
    "# Here build stage starts\n",
    "FROM busybox:$VERSION\n",
    "\n",
    "# Gets version into build stage\n",
    "ARG VERSION\n",
    "RUN echo $VERSION > image_version"
   ]
  },
  {
   "cell_type": "markdown",
   "metadata": {},
   "source": [
    "### [RUN](https://docs.docker.com/engine/reference/builder/#run)"
   ]
  },
  {
   "cell_type": "markdown",
   "metadata": {},
   "source": [
    "\n",
    "> Runs specified command __during build stage__ (e.g. installing some packages)\n",
    "\n",
    "Forms:\n",
    "\n",
    "> `RUN <command>` (execute via `shell`)\n",
    "\n",
    "__or__:\n",
    "\n",
    "> `RUN [\"executable\", \"param1\", \"param2\"]` (`exec` form)\n",
    "\n",
    "Which form to use?\n",
    "- `shell` - if we want to run `shell` (usually `bash`) command like `apt-get install`\n",
    "- `exec` - if the base image has no shell __or__ we don't want string munging\n"
   ]
  },
  {
   "cell_type": "markdown",
   "metadata": {},
   "source": [
    "### [ENTRYPOINT](https://docs.docker.com/engine/reference/builder/#entrypoint)\n"
   ]
  },
  {
   "cell_type": "markdown",
   "metadata": {},
   "source": [
    "> __Defines entrypoint (command which will be run) WHEN CONTAINER IS CREATED FROM AN IMAGE__\n",
    "\n",
    "Forms:\n",
    "\n",
    "> `ENTRYPOINT [\"executable\", \"param1\", \"param2\"]` (preferred `exec` form)\n",
    "\n",
    "__or__\n",
    "\n",
    "> `ENTRYPOINT command param1 param2` (`shell` form)\n",
    "\n",
    "- Container runs as an executable (which you should always aim to do, more on that later!)\n",
    "- You should always specify it (unless you want to use `shell`)\n",
    "- __Either of `ENTRYPOINT` or `CMD` is needed__\n",
    "\n",
    "#### `exec` form\n",
    "\n",
    "- __Does not invoke shell__, hence it is not dependent on it\n",
    "- __Allows us to use optional `CMD`__ (in a second, after command)"
   ]
  },
  {
   "cell_type": "code",
   "execution_count": null,
   "metadata": {
    "ExecuteTime": {
     "end_time": "2021-04-05T01:44:41.254678Z",
     "start_time": "2021-04-05T01:44:40.285Z"
    }
   },
   "outputs": [],
   "source": [
    "FROM ubuntu\n",
    "# When we run a container from the image, top -b will be run\n",
    "ENTRYPOINT [\"top\", \"-b\"]"
   ]
  },
  {
   "cell_type": "markdown",
   "metadata": {},
   "source": [
    "### [CMD](https://docs.docker.com/engine/reference/builder/#cmd)\n"
   ]
  },
  {
   "cell_type": "markdown",
   "metadata": {},
   "source": [
    "> __Specifies default arguments to entrypoint (if any) WHICH USER CAN OVERRIDE DURING `docker run`__\n",
    "\n",
    "Forms:\n",
    "\n",
    "> `CMD [\"executable\",\"param1\",\"param2\"]` (specify `executable` as `entrypoint`, whole command can be overridden)\n",
    "\n",
    "__or__\n",
    "\n",
    "> `CMD [\"param1\",\"param2\"]` (as default parameters to ENTRYPOINT, only those could be overridden)\n",
    "\n",
    "__or__ \n",
    "\n",
    "> `CMD command param1 param2` (shell form, __discouraged__ as users is unable to override)"
   ]
  },
  {
   "cell_type": "code",
   "execution_count": null,
   "metadata": {
    "ExecuteTime": {
     "end_time": "2021-04-05T01:44:41.256857Z",
     "start_time": "2021-04-05T01:44:40.288Z"
    }
   },
   "outputs": [],
   "source": [
    "FROM ubuntu\n",
    "ENTRYPOINT [\"top\", \"-b\"]\n",
    "CMD [\"-c\"]"
   ]
  },
  {
   "cell_type": "markdown",
   "metadata": {},
   "source": [
    "Now if we `run` the container from the above image, command `top -b -c` will be run.\n",
    "\n",
    "- `top -b` __will always run__\n",
    "- `-c` can be changed to some other flag/command via `docker run`"
   ]
  },
  {
   "cell_type": "markdown",
   "metadata": {},
   "source": [
    "Let's see how `CMD` interacts with `ENTRYPOINT` for a better understanding:\n",
    "\n",
    "Note: `/bin/sh -c` is just command which executes the proceeding code in the terminal\n",
    "\n",
    "![](images/docker_entrypoint_cmd_interaction.png)"
   ]
  },
  {
   "cell_type": "markdown",
   "metadata": {},
   "source": [
    "### [COPY](https://docs.docker.com/engine/reference/builder/#copy)\n"
   ]
  },
  {
   "cell_type": "markdown",
   "metadata": {},
   "source": [
    "> __Allows users to specify which file(s) or directories should be copied into the image from host system__\n",
    "\n",
    "> `COPY <src> <destination>`\n",
    "\n",
    "Often idiom `COPY . .` is used, which copies file from context location to current working directory inside container. \n",
    "\n",
    "It might look like we're copying something to the same location, but that's not what's happening. We essentially have two file structures which we are moving files between. The file system which the first argument to `COPY` refers to is the build context (wherever you run `docker build` from). The file system which the second argument to `COPY refers to is the file system within your docker container.\n",
    "\n",
    "### Other commands\n",
    "\n",
    "There are a few others, notably:\n",
    "- `LABEL <key>=<value>` - allows us to add metadata to our image (like author, maintainer, way of contacting)\n",
    "- `WORKDIR dir` - sets working directory to a different one\n",
    "- `ENV <key>=<value>` - environment variable readable throughout the concrete build stage\n",
    "- `EXPOSE <port>` - `EXPOSE 80` would expose port `80` inside the container for others to connect (usually a person running `docker` command will specify which ports to expose and connect, hence this one isn't used very often)."
   ]
  },
  {
   "cell_type": "markdown",
   "metadata": {},
   "source": [
    "## Commands tips\n"
   ]
  },
  {
   "cell_type": "markdown",
   "metadata": {},
   "source": [
    "\n",
    "### Know how to use cache\n",
    "\n",
    "> __Some commands invalidate cache__ and when this happens, every step following it will have to be re-run when you create the image\n",
    "\n",
    "Let's look at the example Dockerfile below (similar to the first one):"
   ]
  },
  {
   "cell_type": "code",
   "execution_count": null,
   "metadata": {
    "ExecuteTime": {
     "end_time": "2021-04-05T01:44:41.258880Z",
     "start_time": "2021-04-05T01:44:40.293Z"
    }
   },
   "outputs": [],
   "source": [
    "FROM ubuntu:18.04\n",
    "\n",
    "RUN apt-get update\n",
    "COPY . .\n",
    "\n",
    "RUN apt-get install -y --no-install-recommends python3\n",
    "RUN rm -rf /var/lib/apt/lists/*"
   ]
  },
  {
   "cell_type": "markdown",
   "metadata": {},
   "source": [
    "Now, no matter what happens, `python3` will be installed during each `docker build`, because:\n",
    "\n",
    "> Docker has no mechanism to check whether `context` for `COPY` command changed\n",
    "\n",
    "Instead we could do what we've seen at the very beginning __as Python installation is not dependent on the context__.\n",
    "\n",
    "> __If possible, put `COPY` statements AFTER setting up OS dependencies__"
   ]
  },
  {
   "cell_type": "markdown",
   "metadata": {},
   "source": [
    "### Chain commands together\n",
    "\n",
    "> Whenever possible __chain multiple command using `&&`__ so they are all in a single `RUN` directive\n",
    "\n",
    "Docker works in a similar fashion to `git`, __it only stashes changes (additions) to the system__.\n",
    "\n",
    "This is often undesirable, because:\n",
    "- Temporary files are left out and increase image's size (`rm -rf /var/lib/apt/lists/*` seen at the beginning of the lesson)\n",
    "- Containers __are less of a black box__, which means attackers can analyze Docker system easier and find it's weak points\n",
    "\n",
    "__Main command to look out for is `RUN`, most of the commands (like `LABEL`) DO NOT create an additional layer__"
   ]
  },
  {
   "cell_type": "markdown",
   "metadata": {},
   "source": [
    "## Small, self-contained images"
   ]
  },
  {
   "cell_type": "markdown",
   "metadata": {},
   "source": [
    "\n",
    "> __The smaller the image, the better__\n",
    "\n",
    "Imagine we have to run `10` containers from a single image published image. Now, if the image weighs `1GB` we would need to use at least `10GB` of bandwidth.\n",
    "\n",
    "Compare that to an image of `10MB`. Other pros include:\n",
    "- Smaller latency for users (setup takes considerably shorter)\n",
    "- Easier to recreate a fleet of containers (more on that during Kubernetes)\n",
    "- Easier to replace a failed container\n",
    "\n",
    "There is one killer feature of Docker which helps us achieve it, namely...\n"
   ]
  },
  {
   "cell_type": "markdown",
   "metadata": {},
   "source": [
    "## Multi-stage builds\n"
   ]
  },
  {
   "cell_type": "markdown",
   "metadata": {},
   "source": [
    "\n",
    "> First image builds the application (creating an artifact), while the second copies it and sets it up for running in a container\n",
    "\n",
    "The easiest approach is to look at an example `Dockerfile`:"
   ]
  },
  {
   "cell_type": "code",
   "execution_count": null,
   "metadata": {
    "ExecuteTime": {
     "end_time": "2021-04-05T01:44:41.261529Z",
     "start_time": "2021-04-05T01:44:40.295Z"
    }
   },
   "outputs": [],
   "source": [
    "# FIRST (BUILDER) STAGE\n",
    "FROM golang:1.7.3 AS builder\n",
    "\n",
    "# Obtain golang code\n",
    "WORKDIR /go/src/github.com/alexellis/href-counter/\n",
    "RUN go get -d -v golang.org/x/net/html  \n",
    "COPY app.go .\n",
    "# Compile is as a single exectuable file called app\n",
    "RUN CGO_ENABLED=0 GOOS=linux go build -a -installsuffix cgo -o app .\n",
    "\n",
    "# SECOND STAGE\n",
    "# alpine is a very slim file system (few MB) great for lightweight deployment\n",
    "FROM alpine:latest  \n",
    "\n",
    "# Setup only bare necessities\n",
    "RUN apk --no-cache add ca-certificates\n",
    "WORKDIR /root/\n",
    "# Copy self-contained app into the smaller image\n",
    "COPY --from=builder /go/src/github.com/alexellis/href-counter/app .\n",
    "# Setup the application as container's ENTRYPOINT\n",
    "ENTRYPOINT [\"./app\"]  "
   ]
  },
  {
   "cell_type": "markdown",
   "metadata": {},
   "source": [
    "> __You should use multi-stage builds wherever possible!__\n",
    "\n",
    "### Pros\n",
    "\n",
    "- Drastically reduces image size\n",
    "- Simplifies maintenance\n",
    "\n",
    "### Cons\n",
    "\n",
    "- __Mainly usable for compilable language__ (sorry Python :( ) like Go, C++\n",
    "- __Even better with statically linked__ (e.g. everything is contained in a single executable)\n",
    "- __Hard to make it work with ML/DL__ as those require a lot of dependencies\n",
    "\n",
    "One way to go around it is to use `torchscript` and `C++` PyTorch's frontend (or neural network conversion to Tensorflow) and changing the language\n",
    "\n",
    "> Be aware, that this approach is currently really hard and might bring you a lot of headaches!\n",
    "\n",
    "> __Remember deployment is not only about neural networks, there are other things (like servers, databases etc.) that might benefit from this approach!__"
   ]
  },
  {
   "cell_type": "markdown",
   "metadata": {},
   "source": [
    "> __Online registry with many official and third party images uploaded and ready to be run as containers (or act as base)__\n",
    "\n",
    "![](images/dockerhub_main_page.png)\n",
    "\n",
    "One can `docker run` those images directly and those will be downloaded automatically:"
   ]
  },
  {
   "cell_type": "code",
   "execution_count": null,
   "metadata": {
    "ExecuteTime": {
     "end_time": "2021-04-05T12:53:25.533396Z",
     "start_time": "2021-04-05T12:53:24.367993Z"
    }
   },
   "outputs": [],
   "source": [
    "docker run busybox:latest ls -la"
   ]
  },
  {
   "cell_type": "markdown",
   "metadata": {},
   "source": [
    "### Tips\n",
    "\n",
    "- Use official images if possible\n",
    "- Use smallest image fitting the job (e.g. `alpine` instead of `ubuntu` if possible)\n",
    "- __Check unofficial images__ (or roll out your own)"
   ]
  },
  {
   "cell_type": "markdown",
   "metadata": {},
   "source": [
    "## Docker Commands\n"
   ]
  },
  {
   "cell_type": "markdown",
   "metadata": {},
   "source": [
    "Now, that we know a little bit about images, we may dive into Docker's command line interface.\n",
    "\n",
    "> __In new Docker version (`>=1.13`) the command line was redesigned in order to be more readable and grouped logicially__\n",
    "\n",
    "__High level most important commands__:\n",
    "- [`docker image SUBCOMMAND`](https://docs.docker.com/engine/reference/commandline/image/) - manage `Docker` images (like building or inspecting them)\n",
    "- [`docker container SUBCOMMAND`](https://docs.docker.com/engine/reference/commandline/container/) - manage `Docker` containers (creating from image, stopping, restarting, killing, inspecting etc.)\n",
    "- [`docker volume SUBCOMMAND`](https://docs.docker.com/engine/reference/commandline/volume/) - manages volumes (persistent data storage which might be shared and attached to Docker containers)\n",
    "- [`docker network SUBCOMMAND`](https://docs.docker.com/engine/reference/commandline/network/) - manage `Docker` networks (like creating, inspecting, listing etc., __not covered here, we will use Kubernetes for network related tasks__)\n",
    "\n",
    "__High level less important commands__:\n",
    "- [`docker config SUBCOMMAND`](https://docs.docker.com/engine/reference/commandline/config/) - configuration of Docker\n",
    "- [`docker stack`](https://docs.docker.com/engine/reference/commandline/stack/) - manage multiple containers as whole (__not covered, we will use Kubernetes instead__)\n",
    "- [`docker secret`](https://docs.docker.com/engine/reference/commandline/secret/) - manage secrets (like passwords and other sensitive data inside containers/images)\n",
    "- [`docker system`](https://docs.docker.com/engine/reference/commandline/system/) - manage Docker itself (how much space is used, cleaning images/containers etc.)\n",
    "\n",
    "Those `SUBCOMMAND`s are also available inside `docker` (e.g. `docker image build` is equivalent to `docker build`) and may be a source of confusion\n",
    "\n",
    "> __Check out documentation for `docker build` instead of `docker image build` as it has more information, BUT USE THE LATTER AS IT IS WAY MORE READABLE!__"
   ]
  },
  {
   "cell_type": "markdown",
   "metadata": {},
   "source": [
    "\n",
    "### docker image build\n"
   ]
  },
  {
   "cell_type": "markdown",
   "metadata": {},
   "source": [
    "> `docker image build [OPTIONS] PATH | URL | -`\n",
    "\n",
    "As seen previously one can use it to `build` `IMAGE` from `Dockerfile` __and__ `context`.\n",
    "\n",
    "Except building from local, one can also build from:\n",
    "- `github`: `docker build github.com/creack/docker-firefox`\n",
    "- `tar.gaz`: `docker build -f ctx/Dockerfile http://server/ctx.tar.gz` (here context is on a different server)\n",
    "- From `stdin` (no context in this case): `docker build - < Dockerfile`\n",
    "\n",
    "#### Options\n",
    "\n",
    "- `-t` - tag the image (__always use it!__): `docker build -t whenry/fedora-jboss:latest -t whenry/fedora-jboss:v2.1 .` (multiple tags supported)\n",
    "- `-f` - specify different file: `docker build -f dockerfiles/Dockerfile.debug -t myapp_debug .`; __useful for separate production, testing, debugging images!__\n",
    "- `--build-arg` - pass arguments to the build stage (`ARG` above): `docker build --build-arg HTTP_PROXY=http://10.20.30.2:1234 .`\n",
    "\n"
   ]
  },
  {
   "cell_type": "markdown",
   "metadata": {},
   "source": [
    "\n",
    "### docker container run\n"
   ]
  },
  {
   "cell_type": "markdown",
   "metadata": {},
   "source": [
    "\n",
    "__The most important command you will all the time with A LOT of options!__\n",
    "\n",
    "> __REMINDER:__ \"Docker runs processes in isolated containers. A container is a process which runs on a host.\" \n",
    "\n",
    "> `docker container run [OPTIONS] IMAGE[:TAG] [COMMAND] [ARG...]`\n",
    "\n",
    "Using `OPTIONS` developer can override defaults set by the image creator, including, but not limited to:\n",
    "- detached or foreground running\n",
    "- network settings\n",
    "- runtime constraints\n",
    "- command run\n",
    "\n",
    "> `COMMAND` specifies a command to be passed to image entrypoint\n",
    "\n",
    "> `ARG` arguments passed to the command\n",
    "\n",
    "We have seen examples above\n",
    "\n",
    "#### Running container interactively\n",
    "\n",
    "> `docker container run` can attach streams (`STDIN`, `STDOUT`, `STDERR`) of container and attach a terminal so we can interact with the container\n",
    "\n",
    "- `-a NAME_OF_STREAM`\n",
    "- `-t` allocate pseudo TTY (terminal)\n",
    "- `-i` keep STDIN open even if not attached to CLI\n",
    "\n",
    "`/bin/bash` specifies the entrypoint of TTY we have attached (or attached to)"
   ]
  },
  {
   "cell_type": "markdown",
   "metadata": {},
   "source": [
    "### Options\n",
    "\n",
    "- `--name NAME` - specify name for the container (__always do this__)\n",
    "- `--rm` - remove container after exit (__usually do this__); otherwise it will prevail in your operating system not doing anything\n",
    "- `-d` - run in a detached mode (default runs in foreground, equivalent to `-d=false`)\n",
    "- `-m` - set memory limit (`docker run -it -m 300M ubuntu:14.04 /bin/bash`), there are also flags for other resources\n",
    "- `-e NAME=VALUE` - pass environment variable to the container (`export today=Wednesday; docker run -e \"deep=purple\" -e today --rm alpine env` would allow us to use `$today` inside the container)\n",
    "- `--entrypoint` - override default image entrypoint (`docker run -it --entrypoint /bin/bash example/redis`); __reset via `--entrypoint=\"\"`!__\n",
    "\n",
    "> For more check out [`docker run` reference](https://docs.docker.com/engine/reference/run/)\n",
    "\n",
    "### Exit codes\n",
    "\n",
    "> If your `docker run` fails check the return code to know where to look for bugs\n",
    "\n",
    "- `125` - error within the daemon (e.g. wrong flag passed; `docker run --foo busybox`)\n",
    "- `126` - contained comment cannot be __invoked__ (`docker run busybox /etc` - it is a directory, not a command)\n",
    "- `127` - contained comment cannot be found (`docker run busybox foo` - no command `foo`)\n",
    "\n",
    "> Otherwise return code of contained comment will be returned (usually `0` if executed correctly)"
   ]
  },
  {
   "cell_type": "markdown",
   "metadata": {},
   "source": [
    "## Docker volumes\n",
    "\n",
    "We have been through a lot of content, there is one thing left... __Docker may create artifacts__ (like metrics from training or data after preprocessing).\n",
    "\n",
    "__How to get them out of container?__\n",
    "\n",
    "There are two options:\n",
    "- using `docker container cp` command\n",
    "- using volumes\n",
    "\n",
    "> __Volumes are persistent storage shared between host machine and Docker container(s)__\n",
    "\n",
    "Benefits should be obvious:\n",
    "- data sharing between containers and hosts (example: data preprocessing container creates dataset, neural network container trains our model on it)\n",
    "- we can copy to/from the containers and do the live updates of their data content\n",
    "- we can set the volume to be readable only for increased security\n",
    "\n",
    "### docker volume create\n",
    "\n",
    "> Create volume __which includes contents of the directory it was created in__\n",
    "\n",
    "(see `exercise` to check how to verify what's inside the volume)"
   ]
  },
  {
   "cell_type": "code",
   "execution_count": null,
   "metadata": {},
   "outputs": [],
   "source": [
    "docker volume create docker_lesson"
   ]
  },
  {
   "cell_type": "markdown",
   "metadata": {},
   "source": [
    "Now, we can __mount__ the volume to `/lesson` directory inside container (and list it's contents):"
   ]
  },
  {
   "cell_type": "code",
   "execution_count": null,
   "metadata": {},
   "outputs": [],
   "source": [
    "docker container run --rm -v docker_lesson:/lesson busybox ls /lesson"
   ]
  },
  {
   "cell_type": "markdown",
   "metadata": {},
   "source": [
    "### Mounting\n",
    "\n",
    "Let's take a look at a couple ways to `mount` the volume using `--mount`:"
   ]
  },
  {
   "cell_type": "code",
   "execution_count": null,
   "metadata": {},
   "outputs": [],
   "source": [
    "docker run \\\n",
    "  --name devtest \\\n",
    "  --mount source=myvol2,target=/app \\\n",
    "  nginx:latest"
   ]
  },
  {
   "cell_type": "markdown",
   "metadata": {},
   "source": [
    "## Exercise\n",
    "\n",
    "- Read the following aliases with comments and copy them to your aliases location\n",
    "- Run `--help` with them to know a little bit more (and check docs/google if something interests you)"
   ]
  },
  {
   "cell_type": "code",
   "execution_count": null,
   "metadata": {},
   "outputs": [],
   "source": [
    "# Images\n",
    "alias di=\"docker image\" # General for docker images\n",
    "\n",
    "alias dib=\"docker image build\" # Build docker image\n",
    "alias dil=\"docker image ls\" # List docker images (check --help)\n",
    "alias dip=\"docker image push\" # Push NAME image\n",
    "alias dirm=\"docker image rm\" # Remove NAME image\n",
    "alias dirmall=\"docker image prune -a\" # Remove all images not used by containers\n",
    "\n",
    "# Containers\n",
    "alias dc=\"docker container\" # General for docker containers\n",
    "\n",
    "alias dcr=\"docker container run\" # Run container from an IMAGE image\n",
    "alias dccp=\"docker container cp\" # Copy data from src to dst inside container\n",
    "alias dce=\"docker container exec\" # Execute COMMAND inside container\n",
    "alias dci=\"docker container inspect\" # Inspect container\n",
    "alias dck=\"docker container kill\"  # Kill container\n",
    "alias dcl=\"docker container ls\" # List all available containers\n",
    "alias dcs=\"docker container stop\" # Stop running container\n",
    "\n",
    "alias dcrma='docker ps -a -q | xargs sudo docker rm' # Remove all non-running containers\n",
    "\n",
    "# Volumes\n",
    "alias dv=\"docker volume\" # General volume command\n",
    "\n",
    "alias dvc=\"docker volume create\" # Create NAMED volume\n",
    "alias dvl=\"docker volume ls\" # List all available volumes\n",
    "alias dvrm=\"docker volume rm\" # Remove volumes\n",
    "\n",
    "# List files inside the created volume\n",
    "dvi(){\n",
    "  docker run --rm -i -v=\"$1\":/tmp/myvolume busybox find /tmp/myvolume\n",
    "}\n",
    "\n",
    "# System\n",
    "alias dsi=\"docker system info\" # Display system-wide information\n",
    "alias dsdf=\"docker system df\" # How much images & containers take in terms of space\n",
    "alias dsp=\"docker system prune\" # Remove every unused image/containerj"
   ]
  },
  {
   "cell_type": "markdown",
   "metadata": {},
   "source": [
    "## Summary\n",
    "\n",
    "In this notebook we have learned:\n",
    "- How to ignore files that we don't want to be part of our Docker build.\n",
    "- Learned in more detail what each of the Docker commands do when building an image.\n",
    "- Learned how to make multi-stage Docker builds. \n",
    "- And how to create persistent volumes to get the data from the container to our local machine."
   ]
  }
 ],
 "metadata": {
  "interpreter": {
   "hash": "14fed20d815d8426698b9e4db4c2894958f6485d6746a1ea976e58ce3ec76c9f"
  },
  "kernelspec": {
   "display_name": "Python 3.9.6 64-bit ('AiCoreTeach': conda)",
   "language": "python",
   "name": "python3"
  },
  "language_info": {
   "codemirror_mode": {
    "name": "ipython",
    "version": 3
   },
   "file_extension": ".py",
   "mimetype": "text/x-python",
   "name": "python",
   "nbconvert_exporter": "python",
   "pygments_lexer": "ipython3",
   "version": "3.9.6"
  },
  "orig_nbformat": 4
 },
 "nbformat": 4,
 "nbformat_minor": 2
}
