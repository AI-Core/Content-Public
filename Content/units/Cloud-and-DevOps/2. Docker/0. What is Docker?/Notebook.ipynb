{
 "cells": [
  {
   "cell_type": "markdown",
   "metadata": {},
   "source": [
    "# Intro to Docker\n",
    "\n",
    "<p align=center><a href=https://www.docker.com><img src=images/Docker_Logo.png width=400></a></p>"
   ]
  },
  {
   "cell_type": "markdown",
   "metadata": {},
   "source": [
    "## Introduction"
   ]
  },
  {
   "cell_type": "markdown",
   "metadata": {},
   "source": [
    "Occasionally, programmers encounter the issue of compatibility between the application being run and the OS or the installed packages.\n",
    "The solution to this issue is [Docker](https://www.docker.com), a tool that <i>container</i>ises an application, enabling it run in any environment. Containerising is the process of bundling together an application and all of its dependencies (including even the operating system) into a single unit, called a container, which can run on any computer.\n",
    "\n",
    "This concept was borrowed from Linux containers (LXC) and their usage, and it has __revolutionised software deployment__.\n",
    "\n",
    "## Advantages of Docker\n",
    "- Standardised development environment across many workstations.\n",
    "- Consistent deployment of applications.\n",
    "- Full reproducibility (e.g. for research)."
   ]
  },
  {
   "cell_type": "markdown",
   "metadata": {},
   "source": [
    "## Containers and Images\n",
    "\n",
    "Much like you can run a file, you can run a Docker container. It's likely that the container contains some code which it runs internally, but the container also includes the operating system which that code is designed to run on.\n",
    "\n",
    "A container can be considered a virtual machine (VM); however, whilst a VM virtualises the hardware (the available RAM), a container only virtualises the OS. Note that Docker does not simply make a copy of the OS you want to work with; rather, it provides the necessary tools for working with a specific OS. \n",
    "\n",
    "For example, if an application runs in the latest ubuntu version, Docker will not install the latest version each time the application is run. It will simply obtain the tools necessary to run that version without installing an entire OS.\n",
    "\n",
    "Furthermore, although the tools need to be installed, Docker installs them only once (unless they are uninstalled) and accesses them the next time the same application is run. To do so, Docker relies on a powerful tool named Docker images, which are the templates for running containers. \n",
    "\n",
    "A Docker <i>image</i> is a blueprint that indicates all the steps required to run the container that holds an application. Initially, when the image is `built`, the required tools are downloaded and installed. Subsequently, Docker accesses the tools when the application is run again. \n",
    "\n",
    "To ensure efficiency, Docker shares these tools between images; thus, if another image is created where these tools are used again, Docker will not download or install them because it is aware of their location.\n",
    "\n",
    "> <font size=+1>Docker enables us to package code, apps, etc. with all the necessary dependencies in a self-contained environment called a `Docker image`. Afterwards, we can create instances of these images called `Docker containers`. </font>"
   ]
  },
  {
   "cell_type": "markdown",
   "metadata": {},
   "source": [
    "### Importance of containers"
   ]
  },
  {
   "cell_type": "markdown",
   "metadata": {},
   "source": [
    "Here, we briefly discuss the importance of containers.\n",
    "\n",
    "The figure below describes how containers changed the deployment landscape:\n",
    "\n",
    "<p align=center><img src=images/container_evolution.svg width=800></p>\n",
    "\n",
    "Conventionally, a regular application is quite lightweight during deployment. This is because only the code required to run the application is deployed; however, we are not usually aware of the OS on which the application will be run. To deploy the entire VM, for example, we must install and launch the entire OS every time the application is run. As a solution, containers offer both advantages of the lightweight deployment without needing to install the OS for each instance of the software and the ability to run the application consistently in multiple environments.\n",
    "\n",
    "- Containers are lighter than VMs.\n",
    "- They are __immutable__, meaning that their contents remain constant.\n",
    "- A container can easily be created or destroyed depending on the user's needs.\n",
    "- All the dependencies of an application can be packed in a container, including the OS.\n",
    "- Containers are reproducible since they run consistently, regardless of the host OS.\n",
    "- __Micro-services architecture__ is supported. An app can be divided into multiple separate containers that communicate with each other:\n",
    "    - Only the required image is changed.\n",
    "    - There is no need to deploy everything anew.\n",
    "    - The components are easily switchable. "
   ]
  },
  {
   "cell_type": "markdown",
   "metadata": {},
   "source": [
    "## Setting up Docker\n"
   ]
  },
  {
   "cell_type": "markdown",
   "metadata": {},
   "source": [
    ">Important! Before proceeding, we recommended that you use VSCode on your local machine, since the files to be run require the Docker engine to containerise applications locally.\n",
    "\n",
    "When creating a Docker image, your computer must create containers that can allocate a `memory slot` for running certain tools (even though they are not VMs) that your OS might not support. \n",
    "\n",
    "To grant access to these memory slots, your computer must start an engine that creates the containers within your computer. Different OSs have different approaches for carrying out this task. For example, for Windows and iOS, Docker Desktop must be installed, which will handle the creation of the corresponding engine that will create the containers. Conversely, Linux distributions are considerably more flexible, and Docker can be run simply by installing the engine that will create the containers.\n",
    "\n",
    "Here, we learn how to install Docker on different OSs. \n",
    "\n",
    "<details>\n",
    "    <summary> <font size=+2> For Linux Users </font> </summary>\n",
    "\n",
    "To use Docker on Linux, the Docker engine must be installed, which is the core technology of Docker. To install it, visit the following webpage and follow the [instructions](https://docs.docker.com/engine/install/centos/). There, you will find the steps for installing Docker depending on your distribution.\n",
    "\n",
    "If you are using Ubuntu, you can simply visit this [website](https://docs.docker.com/engine/install/ubuntu/). Please adhere to the instructions for installing the Docker engine `using the repository`.\n",
    "\n",
    "<p align=center> <img src=images/Docker_Engine.png width=400> </p>\n",
    "\n",
    "</details>\n",
    "\n",
    "<details>\n",
    "    <summary> <font size=+2>  For Mac Users and Windows Users Without the Home Edition </font> </summary>\n",
    "\n",
    "To use Docker on Mac, Docker Desktop must be installed. For both Mac and Windows, you can download the application from this [website](https://docs.docker.com/desktop/).\n",
    "\n",
    "<p align=center> <img src=images/Docker_install.png width=400> </p>\n",
    "\n",
    "Thereafter, select your OS. If, however, you are using Windows Home Edition, refer to the next section (in this notebook) to complete the installation.\n",
    "\n",
    "</details>\n",
    "\n",
    "<details>\n",
    "    <summary> <font size=+2>  For Windows Home-Edition Users </font> </summary>\n",
    "\n",
    "Unfortunately, the Windows Home edition is highly unsuitable for installing any application that requires kernel access. As a solution, the Hyper-V-Enabler must be installed, which grants permission to Docker to access the kernel. Download it [here](https://aicore-files.s3.amazonaws.com/Foundations/DevOps/Hyper-V-Enabler.bat).\n",
    "\n",
    "Afterwards, in the Windows search bar, type 'Turn Windows Features On or Off' and subsequently **enable** the following:\n",
    "- Hyper-V management tools\n",
    "- Hyper-V platform\n",
    "- Windows hypervisor platform\n",
    "- Windows subsystem for Linux\n",
    "\n",
    "<p align=center> <img src=images/Docker_Home_Edition.png width=400> </p>\n",
    "\n",
    "The latest version of WSL might also be required. Install it using the following [file](https://aicore-files.s3.amazonaws.com/Foundations/DevOps/wsl_update_x64.msi).\n",
    "\n",
    "After that, follow the instructions included in the `For Mac Users and Windows Users Without the Home Edition`.\n",
    "</details>\n",
    "\n",
    "To ensure that the installation was successful, run `docker --version` in the CLI (This applies to all OSs)."
   ]
  },
  {
   "cell_type": "markdown",
   "metadata": {},
   "source": [
    "## Docker Hub"
   ]
  },
  {
   "cell_type": "markdown",
   "metadata": {},
   "source": [
    "> <font size=+1> Docker Hub is a repository for storing Docker images created by users globally. </font>\n",
    "\n",
    "Think of it as the GitHub for repositories or the Pypi for Python packages. \n",
    "\n",
    "As the first step in the learning process, go to the [Docker Hub website](https://hub.docker.com), and create an account.\n",
    "\n",
    "<p align=center> <img src=images/Docker_Hub.png width=600> </p>\n",
    "\n",
    "Later in this lesson, we will revisit DockerHub, and you will need to sign in through your terminal. Thus, ensure that you remember your password.\n",
    "\n",
    "For now, bear in mind that you will utilise base images to create Docker images, and these base images will be stored in Docker Hub."
   ]
  },
  {
   "cell_type": "markdown",
   "metadata": {},
   "source": [
    "## Docker Images and Dockerfiles\n"
   ]
  },
  {
   "cell_type": "markdown",
   "metadata": {},
   "source": [
    "> <font size=+1>Docker images are the instructions required to create an instance of a Docker container.</font>\n",
    "\n",
    "Thus, Docker images are essentially a set of steps followed by the Docker engine to create the environment for running an application. These steps are declared in a file named `Dockerfile`. Docker searches for this special file whenever an image is to be built. \n",
    "\n",
    "`Dockerfiles` do not contain any extension. The name of the file is literally `Dockerfile`; however, an extension may be used. For example, if the Dockerfile specifies the steps for creating an image for an API image, it can be called `api.Dockerfile`.\n",
    "\n",
    "When a Dockerfile is created in VSCode, it will automatically be recognised as a Dockerfile, as indicated by the characteristic whale icon.\n",
    "\n",
    "<p align=center> <img src=images/Docker_icon.png width=200> </p>"
   ]
  },
  {
   "cell_type": "markdown",
   "metadata": {},
   "source": [
    "Once the Dockerfile is created, you can start containerising your application. However, you need to specify the commands you want Docker to run. \n",
    "\n",
    "Consider the below example, where we explore the possible contents of a Dockerfile. \n",
    "\n",
    "Dockerfiles will contain instructions, such as `FROM`, `RUN`, `CMD`, `COPY`, ... The uppercase words that start each line in the Dockerfile are called __instructions__ and are basically commands, followed by arguments (similar to the case in the terminal), which the docker build command knows how to execute. Docker build runs each of these instructions in turn to create the docker image."
   ]
  },
  {
   "cell_type": "markdown",
   "metadata": {},
   "source": [
    "## Example"
   ]
  },
  {
   "cell_type": "markdown",
   "metadata": {},
   "source": [
    "In this example, you will create a Docker image that runs the `celebrity_births` scraper that can be found in the `Software Design and Testing` module. If you have not completed that module or you do not remember the file location, you can download the files [here](https://aicore-files.s3.amazonaws.com/Foundations/DevOps/celebrity_example.zip).\n",
    "\n",
    "After downloading the file, `cd` to that folder, and create a Dockerfile named `Dockerfile`."
   ]
  },
  {
   "cell_type": "markdown",
   "metadata": {},
   "source": [
    "Inside the Dockerfile, write the following:"
   ]
  },
  {
   "cell_type": "markdown",
   "metadata": {},
   "source": [
    "```Dockerfile\n",
    "FROM python:3.8-slim-buster\n",
    "```"
   ]
  },
  {
   "cell_type": "markdown",
   "metadata": {},
   "source": [
    "Conventionally, Docker images are built from a pre-built image Docker that can be found on Docker Hub. The pre-built image usually contains some dependencies. A common practice is to use an image with Python installed. You can download and run the pre-built image using the `FROM` clause, as indicated above. \n",
    "\n",
    "Thus, with the first added command, we begin creating the image with the necessary Python dependencies."
   ]
  },
  {
   "cell_type": "markdown",
   "metadata": {},
   "source": [
    "Next, we install or copy anything of our choosing into the docker container. Remember that the directory you add is relative to the location of the Dockerfile.\n",
    "\n",
    "In the Dockerfile, add the following line:"
   ]
  },
  {
   "cell_type": "markdown",
   "metadata": {},
   "source": [
    "```\n",
    "COPY . . \n",
    "```"
   ]
  },
  {
   "cell_type": "markdown",
   "metadata": {},
   "source": [
    "This will copy everything in the Dockerfile directory (`requirements.txt` and the `scraper` folder) into the container.\n",
    "\n",
    "Understanding this step is extremely important. When an image is built, the relevant files are copied into the container, which is analogous to copying them into a different and separate computer. In other words, it is almost as if there is a separate mini computer containing the scraper, with Python installed.\n",
    "\n",
    "The first `.` argument following the `COPY` instruction is the location of the assets _on your machine_ that you wish to copy. \n",
    "The second `.` argument following the `COPY` instruction is the location where the assets will be copied to _on the Docker container_."
   ]
  },
  {
   "cell_type": "markdown",
   "metadata": {},
   "source": [
    "As the final step before running the scraper, your python packages must be installed, e.g. `beautifulsoup` and `requests`. Fortunately, the requirements file was also copied into the image; thus, the packages can be installed directly using the `RUN` command, which runs the bash command which it follows."
   ]
  },
  {
   "cell_type": "markdown",
   "metadata": {},
   "source": [
    "```\n",
    "RUN pip install -r requirements.txt\n",
    "```"
   ]
  },
  {
   "cell_type": "markdown",
   "metadata": {},
   "source": [
    "Now, we run the python script. Note that the `RUN` clause is unsuitable here because `RUN` is executed when the image is built. We need a command that is executed when the image is run, and that clause is `CMD`."
   ]
  },
  {
   "cell_type": "markdown",
   "metadata": {},
   "source": [
    "```\n",
    "CMD [\"python\", \"scraper/celebrity_scraper.py\"]\n",
    "```"
   ]
  },
  {
   "cell_type": "markdown",
   "metadata": {},
   "source": [
    "The `CMD` clause can be declared in many ways. In this case, we employ square brackets, and the first item is the executable (`python`), while the rest are the parameters (files)."
   ]
  },
  {
   "cell_type": "markdown",
   "metadata": {},
   "source": [
    "At this point, we can build the image. In the CLI, change the directory to `celebrity_example`, if you are not already in it. Thereafter, use the `build` command from Docker following the syntax:"
   ]
  },
  {
   "cell_type": "markdown",
   "metadata": {},
   "source": [
    "`docker build [OPTIONS] [Dockerfile path]` "
   ]
  },
  {
   "cell_type": "markdown",
   "metadata": {},
   "source": [
    "You can view the `OPTIONS` [here](https://docs.docker.com/engine/reference/commandline/build/). One of the common options is the -t flag, which allocates a `tag` to the image. This way, the image will have a name. \n",
    "\n",
    "The typical naming convention for Docker images is `image_name:version`. Typically we specify the version as `latest` rather than manually writing out the semantic versioning label.\n",
    "\n",
    "Since we are in the same directory as the Dockerfile, the Dockerfile path is simply a dot (`.`).\n",
    "\n",
    "Run the following command in your command line to build the container:"
   ]
  },
  {
   "cell_type": "code",
   "execution_count": null,
   "metadata": {
    "ExecuteTime": {
     "end_time": "2021-04-05T01:44:41.240499Z",
     "start_time": "2021-04-05T01:44:40.269Z"
    }
   },
   "outputs": [],
   "source": [
    "docker build -t celebrities:latest ."
   ]
  },
  {
   "cell_type": "markdown",
   "metadata": {},
   "source": [
    "Now, we verify if the image was successfully created by running the following command:"
   ]
  },
  {
   "cell_type": "code",
   "execution_count": null,
   "metadata": {
    "ExecuteTime": {
     "end_time": "2021-04-05T01:45:15.494461Z",
     "start_time": "2021-04-05T01:45:15.341555Z"
    }
   },
   "outputs": [],
   "source": [
    "docker images # show our current images on this machine"
   ]
  },
  {
   "cell_type": "markdown",
   "metadata": {},
   "source": [
    "<p align=center> <img src=images/Docker_images.png width=600> </p>"
   ]
  },
  {
   "cell_type": "markdown",
   "metadata": {},
   "source": [
    "The image was successfully built, as shown above. Now, we run it using the following syntax:"
   ]
  },
  {
   "cell_type": "markdown",
   "metadata": {},
   "source": [
    "`docker run [OPTIONS] IMAGE[:TAG|@DIGEST] [COMMAND] [ARG...]`"
   ]
  },
  {
   "cell_type": "markdown",
   "metadata": {},
   "source": [
    "To run the celebrities image, we apply the following command:"
   ]
  },
  {
   "cell_type": "markdown",
   "metadata": {},
   "source": [
    "`docker run celebrities`"
   ]
  },
  {
   "cell_type": "markdown",
   "metadata": {},
   "source": [
    "This will throw an error because the script expects an input. However, at present, this is impossible because the image is running in a non-interactive mode. As a solution, we must add the options, `-i` and `-t`: `-i` will keep the STDIN open, and `-t` will make the process interactive.\n",
    "\n",
    "<p align=center> <img src=images/Docker_run_error.png width=600> </p>"
   ]
  },
  {
   "cell_type": "markdown",
   "metadata": {},
   "source": [
    "`docker run -it celebrities`"
   ]
  },
  {
   "cell_type": "markdown",
   "metadata": {},
   "source": [
    "<p align=center> <img src=images/Docker_run.png width=600> </p>\n",
    "\n",
    "Everything works. The image can be used everywhere, regardless of the OS and dependencies installed. Additionally, you can distribute it globally using Docker Hub. To do this, login to the Docker Hub account you created previously by running the following command in the CLI:\n",
    "\n",
    "```\n",
    "docker login\n",
    "```\n",
    "\n",
    "Thereafter, enter your credentials."
   ]
  },
  {
   "cell_type": "markdown",
   "metadata": {},
   "source": [
    "The images you push to Docker hub need to have a specific name: \n",
    "```\n",
    "<username>/<image_name>:<tag>\n",
    "```\n",
    "Therefore, create a copy of the existing image with a new name. Do this using the docker tag command, as follows:"
   ]
  },
  {
   "cell_type": "markdown",
   "metadata": {},
   "source": [
    "```\n",
    "docker tag <Image_Id> <New name>\n",
    "```"
   ]
  },
  {
   "cell_type": "markdown",
   "metadata": {},
   "source": [
    "The Image_id can be observed when `docker image` is run (see the figure above). Run the following command:"
   ]
  },
  {
   "cell_type": "markdown",
   "metadata": {},
   "source": [
    "```\n",
    "docker tag 82a51cbd4876 ivanyingx/celebrities:v1\n",
    "```\n",
    "Above, 'ivanyingx' is the username, which you should replace with yours, and 82a51cbd4876 is the Image_id.\n",
    "\n",
    "Afterwards, confirm that the image has been properly built by running docker images once more."
   ]
  },
  {
   "cell_type": "markdown",
   "metadata": {},
   "source": [
    "<p align=center> <img src=images/Docker_tag.png width=600> </p>"
   ]
  },
  {
   "cell_type": "markdown",
   "metadata": {},
   "source": [
    "Incidentally, it is also possible to confirm this information in Docker Desktop if you are on Mac or Windows:"
   ]
  },
  {
   "cell_type": "markdown",
   "metadata": {},
   "source": [
    "<p align=center> <img src=images/Docker_Desktop.png width=600> </p>\n"
   ]
  },
  {
   "cell_type": "markdown",
   "metadata": {},
   "source": [
    "Finally, we push the image to Docker Hub. Pushing an image to Docker hub is similar to pushing a repository to GitHub. Simply use docker push:"
   ]
  },
  {
   "cell_type": "markdown",
   "metadata": {},
   "source": [
    "`docker push ivanyingx/celebrities:v1`"
   ]
  },
  {
   "cell_type": "markdown",
   "metadata": {},
   "source": [
    "To verify that your image has been uploaded, go to your Docker hub account.\n",
    "\n",
    "<p align=center> <img src=images/Docker_Hub_example.png width=600> </p>\n"
   ]
  },
  {
   "cell_type": "markdown",
   "metadata": {},
   "source": [
    "If any user wants to run your container, they can do so directly on their local machine. For example, in this case, you can run _ivanyingx's_ image as follows:"
   ]
  },
  {
   "cell_type": "markdown",
   "metadata": {},
   "source": [
    "run `docker pull ivanyingx/celebrities` to download the image\n",
    "\n",
    "and `docker run ivanyingx/celebrities` to run the image."
   ]
  },
  {
   "cell_type": "markdown",
   "metadata": {},
   "source": [
    "It is also possible to run `docker run ivanyingx/celebrities` directly, which will perform both operations.\n",
    "\n",
    "Congratulations! You've successfully built and pushed your first Docker image. Moving forward, keep practicing to improve your knowledge of Docker."
   ]
  },
  {
   "cell_type": "markdown",
   "metadata": {},
   "source": [
    "## Conclusion\n",
    "At this point, you should have a good understanding of\n",
    "\n",
    "- Docker and its importance in distributing applications across multiple OSs. \n",
    "- Docker Hub and its role in obtaining prebuilt image containers. \n",
    "- Docker images and how to build them using Docker files.\n",
    "- Docker containers and how to run a container from the CLI."
   ]
  }
 ],
 "metadata": {
  "kernelspec": {
   "display_name": "Bash [conda env:.conda-AiCore] *",
   "language": "bash",
   "name": "conda-env-.conda-AiCore-bash"
  },
  "language_info": {
   "codemirror_mode": "shell",
   "file_extension": ".sh",
   "mimetype": "text/x-sh",
   "name": "bash"
  }
 },
 "nbformat": 4,
 "nbformat_minor": 2
}
