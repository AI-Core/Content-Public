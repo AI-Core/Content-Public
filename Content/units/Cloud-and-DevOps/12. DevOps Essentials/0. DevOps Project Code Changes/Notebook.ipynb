{
 "cells": [
  {
   "cell_type": "markdown",
   "metadata": {},
   "source": [
    "# DevOps Project Code Changes"
   ]
  },
  {
   "cell_type": "markdown",
   "metadata": {},
   "source": [
    "Here's a step-by-step guide on what code to modify in the `app.py` and `order.html` files in the **Azure End-to-End DevOps Pipeline** project, in order to incorporate the new `delivery_date` column in the web application."
   ]
  },
  {
   "cell_type": "markdown",
   "metadata": {},
   "source": [
    "## 1. Modify the `Order` class\n",
    "\n",
    "Open the `app.py` file and locate the `Order` class. Add the `delivery_date` column to the class attributes. It should look something like this:"
   ]
  },
  {
   "cell_type": "code",
   "execution_count": null,
   "metadata": {},
   "outputs": [],
   "source": [
    "class Order(Base):\n",
    "    __tablename__ = 'orders'\n",
    "    date_uuid = Column('date_uuid', String, primary_key=True)\n",
    "    # ... other columns ...\n",
    "    delivery_date = Column('Delivery Date', DateTime)  # Add this line"
   ]
  },
  {
   "cell_type": "markdown",
   "metadata": {},
   "source": [
    "## 2. Update the `app.route` for adding an order\n",
    "\n",
    "In the route to add orders, `app.route`, update the form to include the `deliver_date` field. It should look something like this:"
   ]
  },
  {
   "cell_type": "code",
   "execution_count": null,
   "metadata": {},
   "outputs": [],
   "source": [
    "@app.route('/add_order', methods=['POST'])\n",
    "def add_order():\n",
    "    date_uuid = request.form.get('date_uuid')\n",
    "    # ... other form inputs ...\n",
    "    delivery_date = request.form['delivery_date']  # Add this line"
   ]
  },
  {
   "cell_type": "markdown",
   "metadata": {},
   "source": [
    "In the route to add orders, `app.route`, update the `new_order` variable as follows:"
   ]
  },
  {
   "cell_type": "code",
   "execution_count": null,
   "metadata": {},
   "outputs": [],
   "source": [
    "# Create a new order object using the form data\n",
    "new_order = Order(\n",
    "    date_uuid=date_uuid,\n",
    "    user_id=user_id,\n",
    "    card_number=card_number,\n",
    "    store_code=store_code,\n",
    "    product_code=product_code,\n",
    "    product_quantity=product_quantity,\n",
    "    order_date=order_date,\n",
    "    shipping_date=shipping_date\n",
    "    delivery_date=delivery_date# Add this line\n",
    ")"
   ]
  },
  {
   "cell_type": "markdown",
   "metadata": {},
   "source": [
    "## 3. Update `order.html` template\n",
    "\n",
    "In the `order.html` template, update the table header and rows to include the `delivery_date` column. Modify the `<th>` elements and the `{% for order in orders %}` loop accordingly. It should look like this:"
   ]
  },
  {
   "cell_type": "markdown",
   "metadata": {
    "vscode": {
     "languageId": "bat"
    }
   },
   "source": [
    "```html\n",
    "<table>\n",
    "    <tr>\n",
    "        <th>Date UUID</th>\n",
    "        <th>User ID</th>\n",
    "        <th>Card Number</th>\n",
    "        <th>Store Code</th>\n",
    "        <th>Product Code</th>\n",
    "        <th>Product Quantity</th>\n",
    "        <th>Order Date</th>\n",
    "        <th>Shipping Date</th>\n",
    "        <th>Delivery Date</th>  <!-- Add this line -->\n",
    "    </tr>\n",
    "    {% for order in orders %}\n",
    "        <tr>\n",
    "            <td>{{ order.date_uuid }}</td>\n",
    "            <td>{{ order.user_id }}</td>\n",
    "            <td>{{ order.card_number }}</td>\n",
    "            <td>{{ order.store_code }}</td>\n",
    "            <td>{{ order.product_code }}</td>\n",
    "            <td>{{ order.product_quantity }}</td>\n",
    "            <td>{{ order.order_date }}</td>\n",
    "            <td>{{ order.shipping_date }}</td>\n",
    "            <td>{{ order.delivery_date }}</td>  <!-- Add this line -->\n",
    "        </tr>\n",
    "    {% endfor %}\n",
    "</table>\n",
    "```"
   ]
  },
  {
   "cell_type": "markdown",
   "metadata": {},
   "source": [
    "In the `order.html` template, modify the `<form>` element to include an input field for the `delivery_date` column, as seen below:"
   ]
  },
  {
   "cell_type": "markdown",
   "metadata": {},
   "source": [
    "```html\n",
    "<form method=\"post\" action=\"/add_order\">\n",
    "    <!-- ... other form inputs ... -->\n",
    "    <label for=\"delivery_date\">Delivery Date:</label> <!-- Add this line -->\n",
    "    <input type=\"date\" id=\"delivery_date\" name=\"delivery_date\"><br><br>  <!-- Add this line -->\n",
    "    <input type=\"submit\" value=\"Add Order\">\n",
    "</form>\n",
    "```"
   ]
  },
  {
   "cell_type": "markdown",
   "metadata": {},
   "source": [
    "That's all the changes that will allow all the functionality of the web application to support a new column `delivery_date`."
   ]
  }
 ],
 "metadata": {
  "language_info": {
   "name": "python"
  }
 },
 "nbformat": 4,
 "nbformat_minor": 2
}
