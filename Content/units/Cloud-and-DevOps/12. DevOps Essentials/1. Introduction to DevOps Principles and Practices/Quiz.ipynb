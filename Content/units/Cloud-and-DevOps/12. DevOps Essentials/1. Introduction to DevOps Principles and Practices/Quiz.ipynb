{
 "cells": [
  {
   "cell_type": "markdown",
   "metadata": {},
   "source": [
    "# Introduction to DevOps Principles and Practices"
   ]
  },
  {
   "cell_type": "markdown",
   "metadata": {},
   "source": [
    "## True or False: DevOps is primarily a set of tools used for software development and deployment.\n",
    "\n",
    "- True\n",
    "- False ***"
   ]
  },
  {
   "cell_type": "markdown",
   "metadata": {},
   "source": [
    "## True or False: Collaboration is one of the core principles of DevOps, emphasizing teamwork and shared responsibility between development and operations teams.\n",
    "\n",
    "- True ***\n",
    "- False "
   ]
  },
  {
   "cell_type": "markdown",
   "metadata": {},
   "source": [
    "## True or False: Version control is a practice that involves tracking and managing changes to code and other digital assets over time.\n",
    "\n",
    "- True ***\n",
    "- False"
   ]
  },
  {
   "cell_type": "markdown",
   "metadata": {},
   "source": [
    "## True or False: Continuous Integration (CI) is a practice that involves manually integrating code changes from different developers into a shared repository\n",
    "\n",
    "- True\n",
    "- False ***"
   ]
  },
  {
   "cell_type": "markdown",
   "metadata": {},
   "source": [
    "## True or False: Infrastructure as Code (IaC) is a practice that manages and provisions infrastructure using code and automation scripts.\n",
    "\n",
    "- True ***\n",
    "- False"
   ]
  },
  {
   "cell_type": "markdown",
   "metadata": {},
   "source": [
    "## What does DevOps primarily aim to improve?\n",
    "\n",
    "- Individual developer productivity\n",
    "- Collaboration between development and operations teams ***\n",
    "- Hardware infrastructure efficiency\n",
    "- Marketing and advertising"
   ]
  },
  {
   "cell_type": "markdown",
   "metadata": {},
   "source": [
    "## Which of the following is NOT a benefit of version control?\n",
    "\n",
    "- Improved collaboration\n",
    "- Reduced defects\n",
    "- Consistency in infrastructure ***\n",
    "- History tracking of code changes"
   ]
  },
  {
   "cell_type": "markdown",
   "metadata": {},
   "source": [
    "## What is the primary goal of Continuous Integration (CI)?\n",
    "\n",
    "- Automating infrastructure provisioning\n",
    "- Ensuring that code changes are always deployable ***\n",
    "- Reducing the number of developers on a project\n",
    "- Enhancing user experience"
   ]
  },
  {
   "cell_type": "markdown",
   "metadata": {},
   "source": [
    "## Which tool is commonly used for Infrastructure as Code (IaC)?\n",
    "\n",
    "- Microsoft Excel\n",
    "- Terraform ***\n",
    "- git\n",
    "- Ansible"
   ]
  },
  {
   "cell_type": "markdown",
   "metadata": {},
   "source": [
    "## What is a key advantage of Continuous Deployment (CD)?\n",
    "\n",
    "- It introduces manual intervention in the deployment process\n",
    "- It accelerates time-to-market for new features and updates ***\n",
    "- It increases the number of defects in production\n",
    "0 It reduces the need for automated testing"
   ]
  },
  {
   "cell_type": "markdown",
   "metadata": {},
   "source": [
    "## What is the primary goal of version control in software development?\n",
    "\n",
    "- To track and manage changes to code and digital assets over time ***\n",
    "- To automate the deployment process\n",
    "- To encourage silos and isolation between teams\n",
    "- To reduce the need for collaboration"
   ]
  },
  {
   "cell_type": "markdown",
   "metadata": {},
   "source": [
    "## Which practice automates the integration, testing, and delivery of code changes in a continuous manner?\n",
    "\n",
    "- Infrastructure as Code (IaC)\n",
    "- Continuous Integration (CI) ***\n",
    "- Continuous Deployment (CD)\n",
    "- Containerization"
   ]
  },
  {
   "cell_type": "markdown",
   "metadata": {},
   "source": [
    "## What is a primary benefit of using containerization technologies like Docker in Continuous Deployment (CD)?\n",
    "\n",
    "- Slower deployment process\n",
    "- Inconsistent application packaging\n",
    "- Improved portability and consistency across environments ***\n",
    "- Increased manual intervention in deployments"
   ]
  }
 ],
 "metadata": {
  "language_info": {
   "name": "python"
  },
  "orig_nbformat": 4
 },
 "nbformat": 4,
 "nbformat_minor": 2
}
