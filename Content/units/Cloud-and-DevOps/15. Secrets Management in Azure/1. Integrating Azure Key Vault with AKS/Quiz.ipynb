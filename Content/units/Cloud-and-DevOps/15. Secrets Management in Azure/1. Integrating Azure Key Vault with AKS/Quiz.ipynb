{
 "cells": [
  {
   "cell_type": "markdown",
   "metadata": {},
   "source": [
    "# Integrating Azure Key Vault with AKS"
   ]
  },
  {
   "cell_type": "markdown",
   "metadata": {},
   "source": [
    "## What distinguishes a user-assigned managed identity from a system-assigned managed identity?\n",
    "\n",
    "- Created independently and managed separately ***\n",
    "- Tied to a specific Azure resource's lifecycle\n",
    "- Automatically deleted when the associated resource is deleted\n",
    "- Exclusive to the resource it's created for"
   ]
  },
  {
   "cell_type": "markdown",
   "metadata": {},
   "source": [
    "## What is the purpose of integrating Azure Key Vault with AKS?\n",
    "\n",
    "- To manage Kubernetes resources\n",
    "- To securely retrieve secrets from Azure Key Vault ***\n",
    "- To enhance RBAC in AKS\n",
    "- To automate AKS deployment"
   ]
  },
  {
   "cell_type": "markdown",
   "metadata": {},
   "source": [
    "## True or False: RBAC in Azure ensures that users, services, and applications have unrestricted access.\n",
    "\n",
    "- True\n",
    "- False ***"
   ]
  },
  {
   "cell_type": "markdown",
   "metadata": {},
   "source": [
    "## True or False: User-assigned managed identities are created directly on specific Azure resources.\n",
    "\n",
    "- True\n",
    "- False ***"
   ]
  },
  {
   "cell_type": "markdown",
   "metadata": {},
   "source": [
    "## True or False: System-assigned managed identities can be created independently of specific Azure resources.\n",
    "\n",
    "- True\n",
    "- False ***"
   ]
  },
  {
   "cell_type": "markdown",
   "metadata": {},
   "source": [
    "## What is the key advantage of using Azure Managed Identities over traditional authentication methods like storing credentials in code?\n",
    "\n",
    "- Improved performance\n",
    "- Enhanced security ***\n",
    "- Simplified code deployment\n",
    "- Better scalability"
   ]
  }
 ],
 "metadata": {
  "language_info": {
   "name": "python"
  }
 },
 "nbformat": 4,
 "nbformat_minor": 2
}
