{
 "cells": [
  {
   "cell_type": "markdown",
   "metadata": {},
   "source": [
    "# Azure Key Vault and Secrets Management"
   ]
  },
  {
   "cell_type": "markdown",
   "metadata": {},
   "source": [
    "## By default, what access control method is chosen when creating an Azure Key Vault?\n",
    "\n",
    "- Azure Role-Based Access Control (RBAC) ***\n",
    "- Key Vault Access Policies\n",
    "- Both RBAC and Key Vault Access Policies\n",
    "- No access control is configured by default"
   ]
  },
  {
   "cell_type": "markdown",
   "metadata": {},
   "source": [
    "## When adding a new secret to Azure Key Vault, what is the purpose of configuring activation and expiration dates?\n",
    "\n",
    "- To specify the creation date of the secret\n",
    "- To control access to the secret within a specific time frame ***\n",
    "- To set a reminder for updating the secret"
   ]
  },
  {
   "cell_type": "markdown",
   "metadata": {},
   "source": [
    "## What is the purpose of soft delete in Azure Key Vault?\n",
    "\n",
    "- To temporarily disable secrets\n",
    "- To recover deleted secrets within a retention period ***\n",
    "- To encrypt secrets for added security\n",
    "- To permanently delete secrets immediately"
   ]
  },
  {
   "cell_type": "markdown",
   "metadata": {},
   "source": [
    "## True or False: Azure Key Vault is designed for the secure storage and management of non-sensitive information.\n",
    "\n",
    "- True\n",
    "- False ***"
   ]
  },
  {
   "cell_type": "markdown",
   "metadata": {},
   "source": [
    "## True or False: Activation and expiration dates for secrets in Azure Key Vault are optional and have no impact on access control.\n",
    "\n",
    "- True\n",
    "- False ***"
   ]
  },
  {
   "cell_type": "markdown",
   "metadata": {},
   "source": [
    "## True or False: In Azure Key Vault, RBAC and Key Vault Access Policies provide the same level of granularity in access control.\n",
    "\n",
    "- True\n",
    "- False ***"
   ]
  },
  {
   "cell_type": "markdown",
   "metadata": {},
   "source": [
    "## True or False: Soft delete in Azure Key Vault allows immediate and permanent deletion of secrets.\n",
    "\n",
    "- True\n",
    "- False ***"
   ]
  },
  {
   "cell_type": "markdown",
   "metadata": {},
   "source": [
    "## True or False: Azure Key Vault's centralized management feature streamlines administration of sensitive information across multiple applications.\n",
    "\n",
    "- True ***\n",
    "- False"
   ]
  },
  {
   "cell_type": "markdown",
   "metadata": {},
   "source": [
    "## True or False: Azure Key Vault integrates seamlessly only with Azure services and not with non-Azure resources.\n",
    "\n",
    "- True ***\n",
    "- False"
   ]
  },
  {
   "cell_type": "markdown",
   "metadata": {},
   "source": [
    "## True or False: Azure Key Vault introduces a separation of concerns by storing secrets independently of the application, minimizing the risk of exposure due to code leaks.\n",
    "\n",
    "- True ***\n",
    "- False"
   ]
  },
  {
   "cell_type": "markdown",
   "metadata": {},
   "source": [
    "## True or False: By default, Azure Key Vault is configured to use Key Vault Access Policies for access control.\n",
    "\n",
    "- True\n",
    "- False ***"
   ]
  },
  {
   "cell_type": "markdown",
   "metadata": {},
   "source": [
    "## Which Azure Key Vault feature helps in maintaining historical records and supports smooth transitions during secrets updates?\n",
    "\n",
    "- Soft-delete\n",
    "- Custom Roles\n",
    "- Versioning ***\n",
    "- Advanced Settings"
   ]
  },
  {
   "cell_type": "markdown",
   "metadata": {},
   "source": [
    "## Which Azure Key Vault role allows users to perform all operations except managing access policies?\n",
    "\n",
    "- Key Vault Contributor ***\n",
    "- Key Vault Reader\n",
    "- Key Vault Operator\n",
    "- Key Vault Manager"
   ]
  }
 ],
 "metadata": {
  "language_info": {
   "name": "python"
  }
 },
 "nbformat": 4,
 "nbformat_minor": 2
}
