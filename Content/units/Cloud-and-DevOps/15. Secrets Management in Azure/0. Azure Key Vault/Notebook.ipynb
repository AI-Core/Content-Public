{
 "cells": [
  {
   "cell_type": "markdown",
   "metadata": {},
   "source": [
    "# Azure Key Vault and Secrets Management"
   ]
  },
  {
   "cell_type": "markdown",
   "metadata": {},
   "source": [
    "When it comes to application development, secrets refer to sensitive pieces of information that are crucial for the security and functionality of an application. These may include API keys, database connection strings, passwords, and cryptographic keys. Unlike regular configuration settings, secrets are particularly sensitive because unauthorized access to them could lead to security breaches, data leaks, and compromised user privacy."
   ]
  },
  {
   "cell_type": "markdown",
   "metadata": {},
   "source": [
    "The management of secrets is a critical aspect of ensuring the overall security posture of an application. Consider the following key points:\n",
    "\n",
    "- **Security Vulnerabilities**: Hardcoding or insecurely storing secrets within application code exposes them to potential security vulnerabilities. If attackers gain access to the source code or binaries, they can easily extract sensitive information.\n",
    "\n",
    "- **Compliance and Regulations**: Many industries and applications must adhere to strict compliance standards and regulations. Secure management of secrets is often a requirement to meet these standards and avoid legal consequences.\n",
    "\n",
    "- **Data Privacy**: Applications often deal with sensitive user data. Secure secrets management is essential to protect this data from unauthorized access, ensuring compliance with data protection laws and maintaining user trust.\n",
    "\n",
    "- **Ease of Rotation**: Regularly rotating or updating secrets is a recommended security practice. Centralized secrets management solutions, such as *Azure Key Vault*, facilitate easy credential rotation without requiring changes to the application code. This dynamic approach enhances security by regularly updating credentials, reducing the risk associated with static keys."
   ]
  },
  {
   "cell_type": "markdown",
   "metadata": {},
   "source": [
    "## Azure Key Vault\n",
    "\n",
    "> **Azure Key Vault** is a robust solution for the secure storage and management of sensitive information in the cloud environment. It is designed to address the challenges associated with managing sensitive information in modern applications, providing a centralized and scalable platform for safeguarding critical information.\n",
    "\n",
    "One of the distinctive features of Azure Key Vault is its ability to decouple secrets from application code. Traditionally, developers included sensitive information directly into code, posing significant security risks. Azure Key Vault introduces a separation of concerns by storing secrets independently of the application. This not only minimizes the risk of exposure due to code leaks but also facilitates more straightforward management and updates of secrets without altering the application logic.\n",
    "\n",
    "Other key features that make Azure Key Vault a compelling solution for secrets management are:\n",
    "\n",
    "- **Centralized Management**: Azure Key Vault provides a centralized and unified platform to manage cryptographic keys, secrets, and certificates. This centralized approach streamlines the administration of sensitive information across multiple applications and services.\n",
    "\n",
    "- **Versioning**: The ability to version secrets is crucial for maintaining historical records and supporting smooth transitions during updates. Azure Key Vault allows for the creation and management of different versions of secrets, ensuring traceability and auditability.\n",
    "\n",
    "- **Access Control**: Access to Azure Key Vault is governed by robust access control policies. By defining roles and permissions, organizations can enforce the principle of least privilege, ensuring that only authorized individuals or applications have access to specific secrets.\n",
    "\n",
    "- **Audit Logging**: Azure Key Vault provides comprehensive audit logs, records that capture all interactions with stored secrets. These logs provide a chronological account of who did what, when, and from where, helping to track changes, monitor user activity, and identify potential security incidents. This audit trail is invaluable for compliance, monitoring, and forensic purposes, allowing organizations to track changes and identify potential security incidents.\n",
    "\n",
    "- **Integration with Azure Services**: Azure Key Vault seamlessly integrates with various Azure services, enabling secure and straightforward integration into applications, virtual machines, and other cloud resources"
   ]
  },
  {
   "cell_type": "markdown",
   "metadata": {},
   "source": [
    "### Creating an Azure Key Vault\n",
    "\n",
    "In this section, we will walk through the process of creating an Azure Key Vault using the Azure Portal. By following these steps, you'll establish a secure and centralized repository for your application's critical secrets:\n",
    "\n",
    "1. Begin by opening your web browser and navigation to the Azure Portal. Once in the portal, use the search feature to locate the **Key Vaults** service homepage.\n",
    "\n",
    "2. Click on the **+ Create** button to initiate the process of creating your Azure Key Vault\n",
    "\n",
    "3. Configure basic information:\n",
    "\n",
    "   - Choose the appropriate subscription and either select an existing resource group or create a new one\n",
    "   - Provide an unique name for the Key Vault. This name will be used in the *Key Vault URI*, so choose something descriptive. \n",
    "   - Select the region for your Key Vault. Choose the region based on the geographical location of your applications to minimize latency. <br><br>\n",
    "\n",
    "4. Review the information you've provided. Once satisfied, click the **Review + create** button to proceed to the next step.\n",
    "\n",
    "5. After the validation process successfully passes, click **Create** to initiate the deployment of your Azure Key Vault. This process will provision resources based on the configurations you've specified.\n",
    "\n",
    "Once the resource has been created, you should be able to access its homepage:\n",
    "\n",
    "<p align=center> <img src=images/KeyVaultHomepage.png width=900 height=450> </p>\n",
    "\n",
    "The homepage typically displays a summary of essential information, such as the Key Vault's name, resource group, subscription, and region.\n",
    "\n",
    "Also found here is the **Key Vault URI** we mentioned above. The Key Vault URI is the unique address used to access and interact with the resources stored within your Azure Key Vault. It typically follows the format `https://<your-key-vault-name>.vault.azure.net/`. This URL is essential for applications or services that need to retrieve or store sensitive information securely. The descriptive name you provide for your Key Vault becomes a part of this URL, making it easily identifiable and accessible within the Azure ecosystem."
   ]
  },
  {
   "cell_type": "markdown",
   "metadata": {},
   "source": [
    "### Access Policies and Roles in Azure Key Vault\n",
    "\n",
    "In Azure Key Vault, *access policies* form the foundation of secure and controlled operations, dictating who can perform specific actions on stored secrets, keys, and certificates within the vault. These policies serve as a robust governance mechanism, clearly defining the scope of permissible actions on resources. Specifically outlining the permissions granted to users, applications, or services, they ensure finely-tuned control over the vault's sensitive information.\n",
    "\n",
    "When creating a Key Vault in Azure, you can select from two methods for managing access: *Azure Role-Based Access Control (RBAC)* and *Key Vault Access Policy*. These mechanisms define how permissions are granted within the Key Vault ecosystem. By default, Azure RBAC is chosen during the Key Vault creation process. So, for our example Key Vault above we have employed RBAC as the permission mechanism.\n",
    "\n",
    "With **Azure RBAC**, access permissions are managed through Azure's broader role-based access control system, allowing users to leverage existing roles and assignments within Microsoft Entra ID for Key Vault access. In contrast, **Key Vault Access Policy** provides more granular control within the Key Vault itself, allowing users to define fine-tuned permissions for specific operations directly within the Key Vault service.\n",
    "\n",
    "#### Azure RBAC Roles in Azure Key Vault\n",
    "\n",
    "Azure RBAC provides a set of predefined roles that govern access to Azure Key Vault. These roles encompass various levels of authority, allowing users to perform specific tasks or operations within the Key Vault ecosystem. Here are the primary RBAC roles associated with Azure Key Vault:\n",
    "\n",
    "- **Key Vault Administrator**: The highest level of access, the Key Vault Administrator role grants full control over the Key Vault. Administrators can manage access policies, configure advanced settings, and perform any operation within the Key Vault.\n",
    "\n",
    "- **Key Vault Contributor**: Key Vault Contributors have broad permissions within the Key Vault, allowing them to manage all aspects except for access policies and advanced settings. They can add, update, and delete secrets, keys, and certificates.\n",
    "\n",
    "- **Key Vault Reader**: Readers have read-only access to the Key Vault. They can view configurations, secrets, and certificates but are unable to make modifications. This role is suitable for auditing purposes or scenarios where only viewing access is required.\n",
    "\n",
    "These roles represent the most important roles in RBAC, although supplementary roles exist to cater to specific operational needs.\n",
    "\n",
    "> If the Azure Key Vault is configured to use RBAC, and no role is assigned to the user, the user will be prevented from executing any actions within Azure Key Vault. Role assignment is crucial for users to interact with the Key Vault and perform their designated task effectively."
   ]
  },
  {
   "cell_type": "markdown",
   "metadata": {},
   "source": [
    "#### Assigning RBAC Roles\n",
    "\n",
    "Assigning RBAC roles is a crucial step in defining the level of access each user has within the Azure Key Vault. This can be achieved through the Azure Portal:\n",
    "\n",
    "- Begin by accessing your Key Vault's service homepage. Select the **Access control (IAM)** tab from the left-hand side menu. This action will direct you to the dedicated Access Control page:\n",
    "\n",
    "<p align=center> <img src=images/AccessControl.png width=900 height=250> </p>\n",
    "\n",
    "- Click on the **+ Add** button, and then choose **Add a role assignment**. This action redirects you to the role assignment configuration page:\n",
    "\n",
    "<p align=center> <img src=images/RoleAssignment.png width=900 height=450> </p>\n",
    "\n",
    "- Choose the appropriate role for the user or entity. In this example, we will select **Key Vault Administrator** from the list to provision the desired user with full control over the Key Vault.\n",
    "\n",
    "- Within the **Members** tab, click  **Select members** to choose the specific the user or entity to be assigned the role. In this example, we will assign the permissions to ourselves. Locate and select your user. Click **Select** to confirm.\n",
    "\n",
    "- Click on **Review + assign** to review you configuration before finalizing the role assignment.\n",
    "\n",
    "By following these steps, you ensure that the desired user has precisely the right level of access required for their responsibilities within Azure Key Vault."
   ]
  },
  {
   "cell_type": "markdown",
   "metadata": {},
   "source": [
    "### Adding and Managing Secrets in Azure Key Vault\n",
    "\n",
    "Adding secrets to Azure Key Vault is a foundational and vital process in securing sensitive data effectively. Follow these detailed steps to seamlessly incorporate secrets into your Azure Key Vault:\n",
    "\n",
    "1. Start by accessing the service homepage of your designated Key Vault through the Azure Portal. On the Key Vault homepage, locate and click on the **Secrets** tab. This serves as the central hub for managing and organizing all secrets within your Key Vault.\n",
    "\n",
    "2. To add a new secret, click on the **+ Generate/Import** button. This action marks the commencement of the process to add a secret to your Key Vault, redirecting you to the configuration page:\n",
    "\n",
    "<p align=center> <img src=images/CreateSecret.png width=800 height=400> </p>\n",
    "\n",
    "3. In the prompted page, specify a meaningful name for the new secret in the designated field. It's best practice to choose names that are descriptive and reflective of the nature of the secret. For example, instead of a generic name like `Password1`, use a descriptive name like `API-AccessToken`. \n",
    "\n",
    "4. Input the actual value of the secret\n",
    "\n",
    "4. Optionally, configure additional settings like activation and expiration dates. This step allows you to exert control over the secret's lifecycle. If these settings are left unselected, the secret will be created without specific activation or expiration dates. This means that the secret will be immediately active upon creation and will persist indefinitely unless manually deleted.\n",
    "\n",
    "5. Click **Create** to finish the process of creating your new secret\n",
    "\n",
    "By following these steps, you ensure a secure and organized integration of secrets into your Azure Key Vault. Once a secret is successfully created, it will be displayed in the **Secrets** tab. From this tab, you can easily review, modify, or delete secrets as needed, ensuring that your sensitive information is effectively safeguarded within Azure Key Vault.\n",
    "\n",
    "Effectively managing secrets extends beyond their creation, involving ongoing maintenance and monitoring. To update secrets, follow this detailed process within Azure Key Vault:\n",
    "\n",
    "- Access the **Secrets** tab on your Azure Key Vault homepage. This tab serves as the central repository for all your secrets.\n",
    "\n",
    "- Identify the secret you wish to update and select it within the **Secrets** tab. Click on the secret to access its detailed configuration page:\n",
    "\n",
    "<p align=center> <img src=images/SecretPage.png width=900 height=250> </p>\n",
    "\n",
    "- Within the secret's configuration page, select the **New Version** button. This action initiates the process of modifying the secret's attributes by creating a new version. \n",
    "\n",
    "- Modify the necessary fields, such as the secret's value or optional settings, according to your requirements. \n",
    "\n",
    "- Ensure to save the changes made to the secret's configuration. This step finalizes the update, creating a new version of the secret.\n",
    "\n",
    "<p align=center> <img src=images/SecretsVersion.png width=900 height=300> </p>\n",
    "\n",
    "> Remember, when updating a secret in Azure Key Vault, the newly created version becomes the latest version. When applications or services access a secret from Azure Key Vault, they generally retrieve the latest version by default. This ensures that any changes or updates to the secret are automatically reflected without requiring explicit version specification in the application code.\n",
    "\n",
    "To delete secrets, follow this process:\n",
    "\n",
    "- Navigate back to the **Secrets** tab on your Azure Key Vault homepage. Identify the secret you want to remove and click on its details to access the specific configuration.\n",
    "\n",
    "- Within the secret's details, locate and click on the **Delete** option. Confirm the deletion when prompted. A similar message might appear:\n",
    "\n",
    "<p align=center> <img src=images/DeleteSecret.png width=900 height=300> </p>\n",
    "\n",
    "- If *soft delete* is enabled for the Key Vault, a confirmation message similar to the one above will appear upon deletion. A **soft delete** is a feature which introduces an additional layer of security by allowing the recovery of deleted secrets within a specific retention period. Choosing the **Delete** option will permanently remove the secret. After the retention period expires, the secret becomes unrecoverable.\n",
    "\n",
    "To recover a secret after it has been soft-deleted in Azure Key Vault, you can navigate to the **Secrets** tab on your Azure Key Vault homepage. On the top toolbar, select the **Managed deleted secrets** button to view soft-deleted items. This will redirect you to a new page containing a list of soft-deleted items. Look for the secret you want to recover within the list of soft-deleted items. Click on it to access its details, and finally click **Recover** if you want to restore the secret to its active state within the Key Vault."
   ]
  },
  {
   "cell_type": "markdown",
   "metadata": {},
   "source": [
    "## Key Takeaways\n",
    "\n",
    "- Secrets like API keys, passwords, and cryptographic keys, are vital for an application's security and functionality. Unauthorized access to secrets can lead to security breaches, data leaks, and compromised user privacy.\n",
    "- Azure Key Vault is designed for secure storage and management of sensitive information in the cloud environment. Key Vault separates secrets from application code, minimizing security risks and simplifying management.\n",
    "- Access policies in Azure Key Vault are the foundation of secure and controlled operations, defining who can perform specific actions on stored secrets, keys, and certificates within the vault\n",
    "- When creating a Key Vault, you have two options for managing access: Azure Role-Based Access Control (RBAC) and Key Vault Access Policy. By default, Azure Key Vault is configured to use RBAC for access control.\n",
    "- Effective secret management involves creating, updating, deleting, and monitoring secrets within Azure Key Vault"
   ]
  }
 ],
 "metadata": {
  "language_info": {
   "name": "python"
  }
 },
 "nbformat": 4,
 "nbformat_minor": 2
}
