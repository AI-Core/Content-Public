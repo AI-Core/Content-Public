{
 "cells": [
  {
   "attachments": {},
   "cell_type": "markdown",
   "metadata": {},
   "source": [
    "# What is the Cloud?"
   ]
  },
  {
   "attachments": {},
   "cell_type": "markdown",
   "metadata": {},
   "source": [
    "## Which of the following statements are True about the Cloud? Select all that apply.\n",
    "\n",
    "- It allows access to resources and services over the internet ***\n",
    "- It provides on-demand self-service ***\n",
    "- It is typically pay-as-you-go or usage-based ***\n",
    "- It is not scalable and cannot handle large workloads"
   ]
  },
  {
   "attachments": {},
   "cell_type": "markdown",
   "metadata": {},
   "source": [
    "## Which of the following statements about the Cloud is False?\n",
    "\n",
    "- The Cloud allows access to resources and services over the internet\n",
    "- It provides on-demand self-service\n",
    "- It is typically pay-per-use or usage-based\n",
    "- The Cloud is a physical device that could be held in your hand ***"
   ]
  },
  {
   "attachments": {},
   "cell_type": "markdown",
   "metadata": {},
   "source": [
    "## Which of the follow companies are considered to be part of the main cloud providers? Select all that apply.\n",
    "\n",
    "- Amazon Web Services (AWS) ***\n",
    "- Confluent\n",
    "- Google Cloud Platform (GCP) ***\n",
    "- Microsoft Azure ***\n"
   ]
  }
 ],
 "metadata": {
  "language_info": {
   "name": "python"
  },
  "orig_nbformat": 4
 },
 "nbformat": 4,
 "nbformat_minor": 2
}
