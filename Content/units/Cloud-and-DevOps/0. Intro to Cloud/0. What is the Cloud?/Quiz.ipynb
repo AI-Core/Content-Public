{
 "cells": [
  {
   "attachments": {},
   "cell_type": "markdown",
   "metadata": {},
   "source": [
    "# What is the Cloud?"
   ]
  },
  {
   "attachments": {},
   "cell_type": "markdown",
   "metadata": {},
   "source": [
    "## Which of the following statements are True about the Cloud? Select all that apply.\n",
    "\n",
    "- It allows access to resources and services over the internet ***\n",
    "- It provides on-demand self-service ***\n",
    "- It is typically pay-as-you-go or usage-based ***\n",
    "- It is not scalable and cannot handle large workloads"
   ]
  },
  {
   "attachments": {},
   "cell_type": "markdown",
   "metadata": {},
   "source": [
    "## Which of the following statements about the Cloud is False?\n",
    "\n",
    "- The Cloud allows access to resources and services over the internet\n",
    "- It provides on-demand self-service\n",
    "- It is typically pay-per-use or usage-based\n",
    "- The Cloud is a physical device that could be held in your hand ***"
   ]
  },
  {
   "attachments": {},
   "cell_type": "markdown",
   "metadata": {},
   "source": [
    "## Which of the follow companies are considered to be part of the main cloud providers? Select all that apply.\n",
    "\n",
    "- Amazon Web Services (AWS) ***\n",
    "- Confluent\n",
    "- Google Cloud Platform (GCP) ***\n",
    "- Microsoft Azure ***\n"
   ]
  },
  {
   "attachments": {},
   "cell_type": "markdown",
   "metadata": {},
   "source": [
    "## What is the cloud?\n",
    "\n",
    "- A collection of interconnected computers\n",
    "- A network of satellites\n",
    "- A technology for storing and accessing data and applications over the internet ***"
   ]
  },
  {
   "attachments": {},
   "cell_type": "markdown",
   "metadata": {},
   "source": [
    "## Which of the following is a characteristic of cloud computing?\n",
    "\n",
    "- Reliance on physical hardware\n",
    "- Limited scalability\n",
    "- On-demand availability ***\n",
    "- Only available in certain geographic regions"
   ]
  },
  {
   "attachments": {},
   "cell_type": "markdown",
   "metadata": {},
   "source": [
    "## What type of cloud service provides virtualized computing resources such as servers, storage, and networking?\n",
    "\n",
    "- IaaS ***\n",
    "- PaaS\n",
    "- SaaS"
   ]
  },
  {
   "attachments": {},
   "cell_type": "markdown",
   "metadata": {},
   "source": [
    "## What is the primary disadvantage of using a public cloud?\n",
    "\n",
    "- Higher costs\n",
    "- Lower security ***\n",
    "- Limited control over the computing resources\n",
    "- Difficulty integrating with existing infrastructure"
   ]
  },
  {
   "attachments": {},
   "cell_type": "markdown",
   "metadata": {},
   "source": [
    "## What type of cloud model involves the use of a mix of public and private cloud resources?\n",
    "\n",
    "- Public cloud\n",
    "- Private cloud\n",
    "- Hybrid cloud ***"
   ]
  },
  {
   "attachments": {},
   "cell_type": "markdown",
   "metadata": {},
   "source": [
    "## What type of cloud service provides access to software applications over the internet?\n",
    "\n",
    "- IaaS\n",
    "- PaaS\n",
    "- SaaS ***"
   ]
  },
  {
   "attachments": {},
   "cell_type": "markdown",
   "metadata": {},
   "source": [
    "## What type of cloud service provides a platform for developers to build and deploy applications?\n",
    "\n",
    "- IaaS\n",
    "- PaaS ***\n",
    "- SaaS"
   ]
  },
  {
   "attachments": {},
   "cell_type": "markdown",
   "metadata": {},
   "source": [
    "## What is the primary advantage of using a private cloud over a public cloud?\n",
    "\n",
    "- Lower costs\n",
    "- Higher security ***\n",
    "- Greater scalability\n",
    "- Better performance"
   ]
  },
  {
   "attachments": {},
   "cell_type": "markdown",
   "metadata": {},
   "source": [
    "## Which of the following statements best describes the shared responsibility model in cloud computing?\n",
    "\n",
    "- The cloud provider is responsible for everything, including customer data and application security\n",
    "- The customer is responsible for everything, including the underlying infrastructure and network security\n",
    "- Both the cloud provider and customer share responsibility for security and compliance in the cloud ***\n",
    "- The shared responsibility model doesn't apply to cloud computing\n"
   ]
  },
  {
   "attachments": {},
   "cell_type": "markdown",
   "metadata": {},
   "source": [
    "## Which of the following is an example of a customer responsibility in the shared responsibility model?\n",
    "\n",
    "- Ensuring physical security of the data center\n",
    "- Patching and securing the virtual machines running on the cloud provider's infrastructure ***\n",
    "- Providing redundant power and cooling to the data center\n",
    "- Monitoring and responding to security incidents at the cloud provider's infrastructure"
   ]
  },
  {
   "attachments": {},
   "cell_type": "markdown",
   "metadata": {},
   "source": [
    "## What is a data center in the context of cloud computing?\n",
    "\n",
    "- A physical facility where cloud providers host and manage their servers and other infrastructure ***\n",
    "- A software application that allows customers to access and manage their cloud resources\n",
    "- A security model used by cloud providers to protect customer data\n",
    "- A type of cloud service that provides storage and processing capabilities for data-intensive applications"
   ]
  }
 ],
 "metadata": {
  "language_info": {
   "name": "python"
  },
  "orig_nbformat": 4
 },
 "nbformat": 4,
 "nbformat_minor": 2
}
