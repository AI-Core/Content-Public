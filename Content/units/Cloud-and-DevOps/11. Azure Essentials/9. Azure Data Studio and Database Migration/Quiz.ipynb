{
 "cells": [
  {
   "cell_type": "markdown",
   "metadata": {},
   "source": [
    "# Azure Data Studio and Database Migration"
   ]
  },
  {
   "cell_type": "markdown",
   "metadata": {},
   "source": [
    "## True or False: Azure Data Studio is a cross-platform database tool that supports database migrations. \n",
    "\n",
    "- True ***\n",
    "- False"
   ]
  },
  {
   "cell_type": "markdown",
   "metadata": {},
   "source": [
    "## Which extension in Azure Data Studio allows you to compare and apply schema changes between your local database and an Azure SQL Database project?\n",
    "\n",
    "- SQL Server Schema Compare ***\n",
    "- Database Migration Service (DMS)\n",
    "- Azure SQL Migration\n",
    "- Data-Tier Application (DACFx)"
   ]
  },
  {
   "cell_type": "markdown",
   "metadata": {},
   "source": [
    "## True or False: Planning and preparation are not important for a successful database migration.\n",
    "\n",
    "- True\n",
    "- False ***"
   ]
  },
  {
   "cell_type": "markdown",
   "metadata": {},
   "source": [
    "## What is the purpose of the Azure SQL Migration extension in Azure Data Studio?\n",
    "\n",
    "- To compare and synchronize schema changes\n",
    "- To migrate data between databases ***\n",
    "- To import BACPAC files\n",
    "- To manage database connections"
   ]
  },
  {
   "cell_type": "markdown",
   "metadata": {},
   "source": [
    "## When creating a migration project using the SQL Server Schema Compare extension, what are the two main connections you need to configure?\n",
    "\n",
    "- Source and Destination\n",
    "- Local and Remote\n",
    "- Primary and Secondary\n",
    "- Source and Target ***"
   ]
  },
  {
   "cell_type": "markdown",
   "metadata": {},
   "source": [
    "## Which step of the migration process involves analyzing differences between the local database and the Azure SQL Database project?\n",
    "\n",
    "- Compare and Apply Schema Changes ***\n",
    "- Migrate the Data Using Data-Tier Application (DACFx)\n",
    "- Migrate the Data Using Azure SQL Migration Extension\n",
    "- Configure the Source and Target Connections"
   ]
  },
  {
   "cell_type": "markdown",
   "metadata": {},
   "source": [
    "## Which extension is used to facilitate the migration process for data from a local SQL Server database to an Azure SQL Database?\n",
    "\n",
    "- SQL Server Schema Compare\n",
    "- Database Migration Service (DMS)\n",
    "- Data-Tier Application (DACFx)\n",
    "- Azure SQL Migration ***"
   ]
  }
 ],
 "metadata": {
  "language_info": {
   "name": "python"
  },
  "orig_nbformat": 4
 },
 "nbformat": 4,
 "nbformat_minor": 2
}
