{
 "cells": [
  {
   "attachments": {},
   "cell_type": "markdown",
   "metadata": {},
   "source": [
    "# Azure Active Directory"
   ]
  },
  {
   "attachments": {},
   "cell_type": "markdown",
   "metadata": {},
   "source": [
    "## What is Azure AD?\n",
    "\n",
    "- A cloud-based directory and identity management service ***\n",
    "- A cloud-based database management service\n",
    "- A cloud-based file storage service\n",
    "- A cloud-based email service\n"
   ]
  },
  {
   "attachments": {},
   "cell_type": "markdown",
   "metadata": {},
   "source": [
    "## What is the default directory in Azure AD?\n",
    "\n",
    "- A directory that cannot be changed\n",
    "- A directory that is created automatically when an Azure subscription is created ***\n",
    "- A directory that is created by Microsoft for all Azure users\n",
    "- A directory that is only used for testing purposes"
   ]
  },
  {
   "attachments": {},
   "cell_type": "markdown",
   "metadata": {},
   "source": [
    "## What is a tenant in Azure AD?\n",
    "\n",
    "- A physical server in Azure data center\n",
    "- A logical instance of Azure AD ***\n",
    "- A user account in Azure AD\n",
    "- A group of resources in Azure"
   ]
  },
  {
   "attachments": {},
   "cell_type": "markdown",
   "metadata": {},
   "source": [
    "## What is the purpose of groups in Azure AD?\n",
    "\n",
    "- To organize users and provide access to resources ***\n",
    "- To send emails to multiple users at once\n",
    "- To store files and documents\n",
    "- To create virtual machines"
   ]
  },
  {
   "attachments": {},
   "cell_type": "markdown",
   "metadata": {},
   "source": [
    "## What are the three types of roles in Azure RBAC?\n",
    "\n",
    "- Administrator, member, guest\n",
    "- Owner, contributor, reader ***\n",
    "- Editor, viewer, reader\n",
    "- Superuser, power user, basic user"
   ]
  },
  {
   "attachments": {},
   "cell_type": "markdown",
   "metadata": {},
   "source": [
    "## What is the difference between creating a user and inviting a user in Azure AD?\n",
    "\n",
    "- There is no difference\n",
    "- Creating a user requires setting a password, while inviting a user does not ***\n",
    "- Creating a user requires an email address, while inviting a user does not\n",
    "- Creating a user adds the user to the default directory, while inviting a user creates a new directory"
   ]
  },
  {
   "attachments": {},
   "cell_type": "markdown",
   "metadata": {},
   "source": [
    "## True or False: Tenants are a collection of directories that are managed by an organization or individual.\n",
    "\n",
    "- True\n",
    "- False ***"
   ]
  },
  {
   "attachments": {},
   "cell_type": "markdown",
   "metadata": {},
   "source": [
    "## True or False: Role-based access control in Azure AD allows assigning permissions to resources based on a user's role.\n",
    "\n",
    "- True ***\n",
    "- False"
   ]
  },
  {
   "attachments": {},
   "cell_type": "markdown",
   "metadata": {},
   "source": [
    "## True or False: A user can belong to multiple groups in Azure AD.\n",
    "\n",
    "- True ***\n",
    "- False"
   ]
  },
  {
   "attachments": {},
   "cell_type": "markdown",
   "metadata": {},
   "source": [
    "## What is the main difference between security groups and Microsoft 365 groups in Azure AD?\n",
    "\n",
    "- Security groups are used for assigning access to resources, while Microsoft 365 groups are used for collaboration and communication ***\n",
    "- Security groups can be synced with on-premises Active Directory, while Microsoft 365 groups cannot\n",
    "- Security groups can be nested, while Microsoft 365 groups cannot\n",
    "- There is no difference between security groups and Microsoft 365 groups in Azure AD"
   ]
  }
 ],
 "metadata": {
  "language_info": {
   "name": "python"
  },
  "orig_nbformat": 4
 },
 "nbformat": 4,
 "nbformat_minor": 2
}
