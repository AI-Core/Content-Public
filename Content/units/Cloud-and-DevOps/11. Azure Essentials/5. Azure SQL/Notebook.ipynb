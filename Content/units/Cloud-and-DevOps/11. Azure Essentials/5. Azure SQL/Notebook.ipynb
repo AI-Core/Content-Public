{
 "cells": [
  {
   "attachments": {},
   "cell_type": "markdown",
   "metadata": {},
   "source": [
    "# Azure SQL"
   ]
  },
  {
   "attachments": {},
   "cell_type": "markdown",
   "metadata": {},
   "source": [
    "*Azure SQL* is a cloud-based relational database service offered by Microsoft Azure. It provides a managed and scalable platform for running SQL Server databases on the cloud. With Azure SQL, you can easily create, manage, and scale your databases in a secure and cost-effective manner.\n",
    "\n",
    "Azure SQL is built on SQL Server technology, a widely-used relational database management system (RDBMS). It offers many of the same features and functionality as SQL Server, but with the added benefits of cloud computing. Azure SQL also includes additional features that are designed to enhance performance, scalability, and security. \n",
    "\n",
    "> Azure SQL offers three different types of deployment options: *Azure SQL Database*, *Azure SQL Elastic Pool* and *Azure SQL Managed Instance*."
   ]
  },
  {
   "attachments": {},
   "cell_type": "markdown",
   "metadata": {},
   "source": [
    "## 1. Azure SQL Database\n",
    "\n",
    "Azure SQL Database is a fully managed, scalable, and highly available database service that offers built-in intelligence. It is designed for modern, cloud-native applications that require high scalability and low maintenance.\n",
    "\n",
    "Important features of Azure SQL Database include:\n",
    "\n",
    "- **High availability and disaster recovery**: Azure SQL Database offers automatic failover and point-in-time restore capabilities to ensure that your data is always available and protected\n",
    "\n",
    "- **Built-in intelligence**: Azure SQL Database uses machine learning and artificial intelligence to optimize performance, security, and reliability\n",
    "\n",
    "- **Scalability and performance**: Azure SQL Database offers automatic scaling and performance tuning capabilities to ensure that your databases can handle increasing workloads\n",
    "\n",
    "- **Security**: Azure SQL Database offers advanced security features, including threat detection, data encryption, and compliance certifications\n",
    "\n",
    "### Availability\n",
    "\n",
    "Azure SQL Database provides a highly available, fault-tolerant database service through the following features:\n",
    "\n",
    "- **Availability Zones**: Azure SQL Database is available in multiple Azure regions and supports deployment to availability zones. By deploying your database to multiple availability zones, you can ensure that your database remains available even if one zone experiences an outage.\n",
    "\n",
    "- **Automatic Failover**: Azure SQL Database provides automatic failover to a secondary replica within the same region in the event of a failure, minimizing downtime and data loss\n",
    "\n",
    "- **Geo-replication**: Azure SQL Database supports geo-replication, which allows you to replicate your database to a secondary region. Geo-replication provides an additional layer of availability and disaster recovery\n",
    "\n",
    "- **Service Level Agreement (SLA)**: Azure SQL Database offers a 99.99% SLA for business-critical and premium tiers. This SLA ensures that your database will be available and online at least 99.99% of the time\n",
    "\n",
    "### Backup\n",
    "\n",
    "Azure SQL Database provides automated backup and restore functionality to help protect your data and minimize downtime in the event of data loss or corruption. The backup and restore process is managed by Azure, which means you don't have to worry about managing backups yourself.\n",
    "\n",
    "Important aspects of Azure SQL Database backup include:\n",
    "\n",
    "- **Backup Frequency**: Azure SQL Database automatically backs up your database once a week and stores these backups for 35 days. In addition to the weekly backups, Azure SQL Database also takes differential backups every few minutes to capture changes to your data.\n",
    "\n",
    "- **Backup Types**: Azure SQL Database supports *full*, *differential*, and *transaction log* backups. Full backups capture the entire database, while differential backups capture changes since the last full backup. Transaction log backups capture changes since the last transaction log backup, and allow you to restore your database to a specific point in time. The transaction log is a record of all transactions and changes made to the database.\n",
    "\n",
    "- **Retention Period**: Azure SQL Database allows you to configure the retention period for your backups. You can choose to retain backups for up to 10 years, depending on your business requirements.\n",
    "\n",
    "### Security\n",
    "\n",
    "Azure SQL Database provides a wide range of security features to help protect your data from unauthorized access and malicious attacks. Here are some key security features of Azure SQL Database:\n",
    "\n",
    "- **Authentication and Authorization**: Azure SQL Database supports *Microsoft Entra ID *authentication, which allows you to use your existing credentials to access your database. These credentials can be the same ones as you use for other Azure services. We will talk in detail about Microsoft Entra ID and how to generate credentials using this service in a later lesson. Additionally, you can also setup role-based access control to restrict access to your database and control the actions that users can perform.\n",
    "\n",
    "- **Encryption**: Azure SQL Database supports encryption at rest and in transit. By default, data at rest is encrypted using *Transparent Data Encryption (TDE)*, which helps protect against unauthorized access to your database files. \n",
    "\n",
    "- **Firewall**: Azure SQL Database comes with a built-in firewall that allows you to restrict access to your database based on IP addresses or ranges. This can help prevent unauthorized access to your database from outside your organization.\n",
    "\n",
    "### Compute Tiers\n",
    "\n",
    "Azure SQL Database offers two main compute tiers:\n",
    "\n",
    "- *Provisioned Compute Tier*: In the provisioned compute tier, you pre-allocate a fixed amount of resources for your database. This allows you to have full control over the amount of CPU, memory, and storage resources allocated to your database. \n",
    "\n",
    "- *Serverless Compute Tier*: In the serverless compute tier, you do not need to pre-allocate any resources. Instead, Azure SQL Database automatically scales resources up or down based on the workload demand. This allows you to save costs by only paying for the resources you use"
   ]
  },
  {
   "attachments": {},
   "cell_type": "markdown",
   "metadata": {},
   "source": [
    "## 2. Azure SQL Elastic Pool\n",
    "\n",
    "Azure SQL Elastic Pool is a shared resource model that allows you to pool resources and share them across multiple databases. It is designed for applications with fluctuating workloads and varying resource needs.\n",
    "\n",
    "Important features of Azure SQL Elastic Pool include:\n",
    "\n",
    "- **Resource pooling**: Azure SQL Elastic Pool allows you to share resources such as CPU, memory, and I/O across multiple databases\n",
    "- **Automatic scaling**: Azure SQL Elastic Pool offers automatic scaling capabilities to ensure that your databases can handle increasing workloads"
   ]
  },
  {
   "attachments": {},
   "cell_type": "markdown",
   "metadata": {},
   "source": [
    "## 3. Azure SQL Managed Instance\n",
    "\n",
    "Azure SQL Managed Instance is a fully managed, isolated service that offers compatibility with SQL Server features, including SQL Server Agent ans cross-database queries. It is designed for migrating on-premises SQL Server databases to the cloud without changing the existing code.\n",
    "\n",
    "Important features of Azure SQL Managed Instance include:\n",
    "\n",
    "- **Full SQL Server compatibility**\n",
    "- **High availability and disaster recovery**: Azure SQL Managed Instance offers automatic failover and point-in-time restore capabilities to ensure that your data is always available and protected\n",
    "- **Resource isolation**: Azure SQL Managed Instance provides a dedicated instance for your databases, which ensures that your databases are isolated from other customers and applications\n"
   ]
  },
  {
   "attachments": {},
   "cell_type": "markdown",
   "metadata": {},
   "source": [
    "## Which Azure SQL to Choose?\n",
    "\n",
    "Choosing the right Azure SQL solution for your needs can be challenging as there are several options to choose from.  It's important to consider factors such as workload requirements, performance needs, security concerns, and budget when evaluating which solution is best for your use case.\n",
    "\n",
    "If you have a single database workload, then the Azure SQL Database option might be the best choice for you. It provides a cost-effective solution with the ability to scale up or down as needed.\n",
    "\n",
    "If you have multiple databases that require different resource needs, then Elastic Pool might be the best option for you. Elastic Pool provides a shared resource pool for multiple databases, making it easier to manage and reduce costs.\n",
    "\n",
    "If you need a dedicated, isolated environment that is highly compatible with on-premises SQL Server, then Managed Instance might be the best option for you. It provides a fully-managed service that is designed to enable you to migrate your on-premises SQL Server workloads to the cloud."
   ]
  },
  {
   "attachments": {},
   "cell_type": "markdown",
   "metadata": {},
   "source": [
    "## Key Takeaways\n",
    "\n",
    "- Azure SQL is a cloud-based database service offered by Microsoft on its Azure cloud platform\n",
    "- Azure SQL offers different types, including SQL Database, Elastic Pool, and Managed Instance, each with different features and benefits\n",
    "- Azure SQL Database offers high-level security features such as data encryption, threat detection, and firewall capabilities to protect your database\n",
    "- Azure SQL Database provides backup and restore options, retention periods, and backup redundancy for data protection and recovery\n",
    "- Azure SQL Database offers a range of compute tiers, including provisioned and serverless, to provide flexibility and control over resource allocation\n",
    "- Azure SQL Database provides high availability and fault-tolerance through features such as Availability Zones, automatic failover, geo-replication, and service-level agreements\n",
    "- Elastic Pool allows you to manage and scale multiple databases together, reducing administrative overhead and providing cost savings\n",
    "- Managed Instance provides near 100% compatibility with on-premises SQL Server, making it an ideal choice for organizations looking to migrate to the cloud"
   ]
  }
 ],
 "metadata": {
  "language_info": {
   "name": "python"
  }
 },
 "nbformat": 4,
 "nbformat_minor": 2
}
