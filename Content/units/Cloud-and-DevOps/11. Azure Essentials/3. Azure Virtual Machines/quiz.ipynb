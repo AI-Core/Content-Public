{
 "cells": [
  {
   "attachments": {},
   "cell_type": "markdown",
   "metadata": {},
   "source": [
    "# Azure Virtual Machines"
   ]
  },
  {
   "attachments": {},
   "cell_type": "markdown",
   "metadata": {},
   "source": [
    "## What is an Azure Virtual Machine?\n",
    "\n",
    "- A real server running on physical hardware\n",
    "- A virtual server running on physical hardware ***\n",
    "- A cloud storage service\n",
    "- An un-managed service in the Software as a Service (SaaS) category"
   ]
  },
  {
   "attachments": {},
   "cell_type": "markdown",
   "metadata": {},
   "source": [
    "## What is the architecture of an Azure Virtual Machine?\n",
    "\n",
    "- Physical hardware layer, host operating system layer, guest operating system layer\n",
    "- Physical hardware layer, virtual machine layer, cloud storage layer\n",
    "- Virtual machine layer, hypervisor layer, host operating system layer ***\n",
    "- Hypervisor layer, guest operating system layer, cloud storage layer"
   ]
  },
  {
   "attachments": {},
   "cell_type": "markdown",
   "metadata": {},
   "source": [
    "## What is the difference between password-based authentication and SSH-based authentication?\n",
    "\n",
    "- Password-based authentication is more secure than SSH-based authentication\n",
    "- SSH-based authentication requires an SSH key pair, while password-based authentication uses a username and password ***\n",
    "- Password-based authentication requires an SSH key pair, while SSH-based authentication uses a username and password\n",
    "- There is no difference between password-based authentication and SSH-based authentication\n"
   ]
  },
  {
   "attachments": {},
   "cell_type": "markdown",
   "metadata": {},
   "source": [
    "## What are inbound port rules used for in Azure Virtual Machines?\n",
    "\n",
    "- To control outgoing network traffic from a virtual machine\n",
    "- To control incoming network traffic to a virtual machine ***\n",
    "- To control the size of the virtual machine\n",
    "- To control the amount of storage allocated to a virtual machine"
   ]
  },
  {
   "attachments": {},
   "cell_type": "markdown",
   "metadata": {},
   "source": [
    "## How can you connect to an Azure Virtual Machine that has been provisioned using SSH-based authentication from your local computer that has a key pair downloaded locally?\n",
    "\n",
    "- Use the Remote Desktop Protocol (RDP)\n",
    "- Use the Virtual Network Computing (VNC) protocol\n",
    "- Use the ssh command with the private key file and the username and public IP address or DNS name of the virtual machine ***\n",
    "- Use the telnet command with the private key file and the username and public IP address or DNS name of the virtual machine"
   ]
  },
  {
   "attachments": {},
   "cell_type": "markdown",
   "metadata": {},
   "source": [
    "## What is VM density in Azure Virtual Machines?\n",
    "\n",
    "- The amount of storage allocated to a virtual machine\n",
    "- The number of virtual machines that can be deployed on a single physical server ***\n",
    "- The amount of memory allocated to a virtual machine\n",
    "- The amount of CPU resources allocated to a virtual machine\n"
   ]
  },
  {
   "attachments": {},
   "cell_type": "markdown",
   "metadata": {},
   "source": [
    "## True or False: In Azure Virtual Machines, un-managed virtual machines are automatically provisioned and managed by Azure.\n",
    "\n",
    "- True\n",
    "- False ***"
   ]
  },
  {
   "attachments": {},
   "cell_type": "markdown",
   "metadata": {},
   "source": [
    "## True or False: Azure Virtual Machines can only be accessed using the Azure Portal.\n",
    "\n",
    "- True\n",
    "- False ***"
   ]
  }
 ],
 "metadata": {
  "language_info": {
   "name": "python"
  },
  "orig_nbformat": 4
 },
 "nbformat": 4,
 "nbformat_minor": 2
}
