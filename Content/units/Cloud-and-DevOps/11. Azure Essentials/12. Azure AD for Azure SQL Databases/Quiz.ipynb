{
 "cells": [
  {
   "cell_type": "markdown",
   "metadata": {},
   "source": [
    "# Azure AD for Azure SQL Databases"
   ]
  },
  {
   "cell_type": "markdown",
   "metadata": {},
   "source": [
    "## What is the primary benefit of integrating Azure Active Directory (Azure AD) with Azure SQL Database?\n",
    "\n",
    "- Simplified user management\n",
    "- Enhanced security ***\n",
    "- Improved database performance\n",
    "- Seamless application integration"
   ]
  },
  {
   "cell_type": "markdown",
   "metadata": {},
   "source": [
    "## Who is the Azure AD admin, and what are their responsibilities in the context of Azure SQL Database?\n",
    "\n",
    "- The Azure AD admin is a user responsible for managing the Azure Active Directory\n",
    "- The Azure AD admin is responsible for managing access to the Azure SQL Database and its resources ***\n",
    "- The Azure AD admin is an application identity that grants access to external applications\n",
    "- The Azure AD admin is a security group that enforces access control policies"
   ]
  },
  {
   "cell_type": "markdown",
   "metadata": {},
   "source": [
    "## Which role in Azure SQL Database grants read-only access to the database?\n",
    "\n",
    "- `db_datawriter`\n",
    "- `db_owner`\n",
    "- `db_reader`\n",
    "- `db_datareader` ***"
   ]
  },
  {
   "cell_type": "markdown",
   "metadata": {},
   "source": [
    "## True or False: Azure Data Studio authentication tokens are available indefinitely and do not require refreshing.\n",
    "\n",
    "- True\n",
    "- False ***"
   ]
  },
  {
   "cell_type": "markdown",
   "metadata": {},
   "source": [
    "## What are the common issues you might encounter when implementing Azure AD authentication with Azure SQL Database? Select all that apply.\n",
    "\n",
    "- Slow database performance\n",
    "- Invalid application identity ***\n",
    "- Expired or revoked tokens ***\n",
    "- Misconfigured firewall rules"
   ]
  }
 ],
 "metadata": {
  "language_info": {
   "name": "python"
  },
  "orig_nbformat": 4
 },
 "nbformat": 4,
 "nbformat_minor": 2
}
