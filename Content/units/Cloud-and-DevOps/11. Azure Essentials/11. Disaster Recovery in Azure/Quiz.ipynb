{
 "cells": [
  {
   "cell_type": "markdown",
   "metadata": {},
   "source": [
    "# Disaster Recovery in Azure"
   ]
  },
  {
   "cell_type": "markdown",
   "metadata": {},
   "source": [
    "## Which backup option in Azure SQL Database is enabled by default for all databases?\n",
    "\n",
    "- Manual Backups\n",
    "- Long-Term Retention Backups\n",
    "- Automated Backups ***"
   ]
  },
  {
   "cell_type": "markdown",
   "metadata": {},
   "source": [
    "## Geo-replication in Azure SQL Database provides:\n",
    "\n",
    "- High availability and data protection ***\n",
    "- Enhanced application performance\n",
    "- Reduced storage costs"
   ]
  },
  {
   "cell_type": "markdown",
   "metadata": {},
   "source": [
    "## True or False: During a test failover to the secondary region, the primary database remains unchanged.\n",
    "\n",
    "- True ***\n",
    "- False"
   ]
  },
  {
   "cell_type": "markdown",
   "metadata": {},
   "source": [
    "## True or False: Validating data integrity and application functionality after a failover or fallback is not necessary if the test was successful.\n",
    "\n",
    "- True\n",
    "- False ***"
   ]
  },
  {
   "cell_type": "markdown",
   "metadata": {},
   "source": [
    "## Which type of backup in Azure SQL Database allows you to keep historical backups for an extended period beyond the standard retention period?\n",
    "\n",
    "- Automated Backups\n",
    "- Manual Backups\n",
    "- Long-Term Retention Backups ***"
   ]
  },
  {
   "cell_type": "markdown",
   "metadata": {},
   "source": [
    "## What is the purpose of performing a test failover to the secondary region?\n",
    "\n",
    "- To switch the workload from the primary to the secondary region permanently\n",
    "- To validate the functionality and data consistency of the failover environment ***\n",
    "- To automatically restore the primary region after a planned failover"
   ]
  }
 ],
 "metadata": {
  "language_info": {
   "name": "python"
  },
  "orig_nbformat": 4
 },
 "nbformat": 4,
 "nbformat_minor": 2
}
