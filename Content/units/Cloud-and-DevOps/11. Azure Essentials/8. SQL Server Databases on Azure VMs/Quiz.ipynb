{
 "cells": [
  {
   "cell_type": "markdown",
   "metadata": {},
   "source": [
    "# SQL Server Databases on Azure VMs"
   ]
  },
  {
   "cell_type": "markdown",
   "metadata": {},
   "source": [
    "## What is the purpose of SQL Server Management Studio (SSMS)?\n",
    "\n",
    "- To host SQL Server instances in the cloud\n",
    "- To manage relational databases ***\n",
    "- To manage Azure Virtual Machines\n",
    "- To execute SQL queries on the web"
   ]
  },
  {
   "cell_type": "markdown",
   "metadata": {},
   "source": [
    "## Which type of backup files are required for database restoration in SQL Server?\n",
    "\n",
    "- `.dat`\n",
    "- `.log`\n",
    "- `.bak` ***\n",
    "- `.sql`"
   ]
  },
  {
   "cell_type": "markdown",
   "metadata": {},
   "source": [
    "## What does Azure Virtual Machines provide for hosting SQL Server instances?\n",
    "\n",
    "- Offline infrastructure management\n",
    "- Resource optimization\n",
    "- Physical server allocation\n",
    "- Automatic scaling based on demand ***"
   ]
  },
  {
   "cell_type": "markdown",
   "metadata": {},
   "source": [
    "## In SQL Server Management Studio, what is the purpose of the **Object Explorer**?\n",
    "\n",
    "- To display the SQL Server instances only\n",
    "- To navigate through the server's databases and objects ***\n",
    "- To execute SQL queries\n",
    "- To manage user accounts and permissions"
   ]
  },
  {
   "cell_type": "markdown",
   "metadata": {},
   "source": [
    "## Which step is necessary before restoring a database in SQL Server?\n",
    "\n",
    "- Write T-SQL scripts for restoration\n",
    "- Identify backup files with the `.bak `extension ***\n",
    "- Connect to an Azure Virtual Machine\n",
    "- Create a new database from scratch"
   ]
  },
  {
   "cell_type": "markdown",
   "metadata": {},
   "source": [
    "## What does SSMS stand for in the context of SQL Server?\n",
    "\n",
    "- Structured Server Management System\n",
    "- Secure SQL Management Studio\n",
    "- SQL Server Maintenance Suite\n",
    "- SQL Server Management Studio ***"
   ]
  }
 ],
 "metadata": {
  "language_info": {
   "name": "python"
  },
  "orig_nbformat": 4
 },
 "nbformat": 4,
 "nbformat_minor": 2
}
