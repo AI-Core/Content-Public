{
 "cells": [
  {
   "attachments": {},
   "cell_type": "markdown",
   "metadata": {},
   "source": [
    "# Resource and Resource Groups"
   ]
  },
  {
   "attachments": {},
   "cell_type": "markdown",
   "metadata": {},
   "source": [
    "## What are Azure resources?\n",
    "\n",
    "- Building blocks of an Azure application ***\n",
    "- A container that holds related Azure resources \n",
    "- A type of cloud service provided by Microsoft"
   ]
  },
  {
   "attachments": {},
   "cell_type": "markdown",
   "metadata": {},
   "source": [
    "## What is a resource group in Azure?\n",
    "\n",
    "- Building blocks of an Azure application ***\n",
    "- A container that holds related Azure resources \n",
    "- A type of cloud service provided by Microsoft"
   ]
  },
  {
   "attachments": {},
   "cell_type": "markdown",
   "metadata": {},
   "source": [
    "## True or False: Can resources in a resource group have different lifecycles?\n",
    "\n",
    "- True\n",
    "- False ***"
   ]
  },
  {
   "attachments": {},
   "cell_type": "markdown",
   "metadata": {},
   "source": [
    "## What information is required to create a resource group in Azure? Select all that apply.\n",
    "\n",
    "- Subscription ***\n",
    "- Region ***\n",
    "- Name ***\n",
    "- Information about what resources will be attached to the group"
   ]
  },
  {
   "attachments": {},
   "cell_type": "markdown",
   "metadata": {},
   "source": [
    "##  What is the purpose of the resource page in Azure?\n",
    "\n",
    "- To provide a detailed view of a specific resource ***\n",
    "- To create new resources\n",
    "- To manage resource groups"
   ]
  },
  {
   "attachments": {},
   "cell_type": "markdown",
   "metadata": {},
   "source": [
    "## What can you do from the resource page in Azure? Select all that apply.\n",
    "\n",
    "- Monitor usage and performance metrics for the resource ***\n",
    "- Modify the properties and settings of the resource ***\n",
    "- Perform actions on the resource, such as starting, stopping, or deleting the resource ***\n"
   ]
  },
  {
   "attachments": {},
   "cell_type": "markdown",
   "metadata": {},
   "source": [
    "## What should you do before deleting a resource in Azure?\n",
    "\n",
    "- Nothing, deleting a resource is irreversible\n",
    "- Backup any important data associated with the resource ***\n",
    "- Move the resource to a different resource group\n"
   ]
  },
  {
   "attachments": {},
   "cell_type": "markdown",
   "metadata": {},
   "source": [
    "## What is the consequence of deleting a resource in Azure?\n",
    "\n",
    "- All associated data and configurations will be deleted ***\n",
    "- The resource can be restored later\n",
    "- The resource group is also deleted"
   ]
  },
  {
   "attachments": {},
   "cell_type": "markdown",
   "metadata": {},
   "source": [
    "## True or False: You can delete resources individually within a resource group.\n",
    "\n",
    "- True ***\n",
    "- False\n"
   ]
  }
 ],
 "metadata": {
  "language_info": {
   "name": "python"
  },
  "orig_nbformat": 4
 },
 "nbformat": 4,
 "nbformat_minor": 2
}
