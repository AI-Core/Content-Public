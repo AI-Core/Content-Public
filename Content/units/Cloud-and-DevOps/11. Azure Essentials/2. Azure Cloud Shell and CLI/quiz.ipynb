{
 "cells": [
  {
   "attachments": {},
   "cell_type": "markdown",
   "metadata": {},
   "source": [
    "# Azure Cloud Shell and CLI"
   ]
  },
  {
   "attachments": {},
   "cell_type": "markdown",
   "metadata": {},
   "source": [
    "## What is Azure Cloud Shell?\n",
    "\n",
    "- A web-based command-line interface for managing Azure resources ***\n",
    "- A text editor provided by Azure\n",
    "- A cloud-based storage solution for storing files and data\n",
    "- A cross-platform command-line tool for managing Azure resources"
   ]
  },
  {
   "attachments": {},
   "cell_type": "markdown",
   "metadata": {},
   "source": [
    "## Which programming languages are supported by Azure Cloud Shell? Select all that apply.\n",
    "\n",
    "- PowerShell ***\n",
    "- Bash ***\n",
    "- Azure CLI ***\n"
   ]
  },
  {
   "attachments": {},
   "cell_type": "markdown",
   "metadata": {},
   "source": [
    "\n",
    "## What is Azure CLI?\n",
    "\n",
    "- A web-based command-line interface for managing Azure resources\n",
    "- A cross-platform command-line tool for managing Azure resources ***\n",
    "- A programming language.\n",
    "- A cloud-based storage solution."
   ]
  },
  {
   "attachments": {},
   "cell_type": "markdown",
   "metadata": {},
   "source": [
    "## Which operating systems is Azure CLI available for? Select all that apply.\n",
    "\n",
    "- Windows ***\n",
    "- macOS ***\n",
    "- Linux ***"
   ]
  },
  {
   "attachments": {},
   "cell_type": "markdown",
   "metadata": {},
   "source": [
    "## True or False: Azure CLI provides a set of commands for managing Azure resources.\n",
    "\n",
    "- True ***\n",
    "- False"
   ]
  },
  {
   "attachments": {},
   "cell_type": "markdown",
   "metadata": {},
   "source": [
    "## How do you log in to your Azure account using Azure CLI?\n",
    "\n",
    "- `azure-account login`\n",
    "- `azure-cli login`\n",
    "- `az login` ***\n",
    "- `azure login`\n"
   ]
  }
 ],
 "metadata": {
  "language_info": {
   "name": "python"
  },
  "orig_nbformat": 4
 },
 "nbformat": 4,
 "nbformat_minor": 2
}
