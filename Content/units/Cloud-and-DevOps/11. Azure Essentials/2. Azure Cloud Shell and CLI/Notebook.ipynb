{
 "cells": [
  {
   "attachments": {},
   "cell_type": "markdown",
   "metadata": {},
   "source": [
    "# Azure Cloud Shell and CLI"
   ]
  },
  {
   "attachments": {},
   "cell_type": "markdown",
   "metadata": {},
   "source": [
    "## Azure Cloud Shell \n",
    "\n",
    "Azure Cloud Shell is a web-based command-line interface (CLI) that enables you to manage and administer Azure resources directly from your web browser. It provides an authenticated, interactive, and persistent shell environment for managing Azure resources.\n",
    "\n",
    "Azure Cloud Shell provides access to a variety of command-line tools and programming languages, including PowerShell, Bash, Azure CLI, and various text editors. It also comes pre-configured with many Azure tools and libraries, which means you can get started with managing Azure resources quickly and easily."
   ]
  },
  {
   "attachments": {},
   "cell_type": "markdown",
   "metadata": {},
   "source": [
    "## How to access Azure Cloud Shell?\n",
    "\n",
    "Azure Cloud Shell can be accessed from the Azure Portal or directly through a web browser by navigating to https://shell.azure.com. Once you log in to Azure Cloud Shell, you can choose between the Bash or PowerShell environment.\n",
    "\n",
    "To access it from the Azure Portal you just have to click the Cloud Shell icon situated on the top right corner of the Azure homepage, as seen in the image below.\n",
    "\n",
    "<p align=\"center\">\n",
    "    <img src=\"images/AzureCloudShell.png\" height=\"500\" width=\"900\"/>\n",
    "</p>\n",
    "\n",
    "When choosing an environment, you will be prompted to the following window:\n",
    "\n",
    "<p align=\"center\">\n",
    "    <img src=\"images/CloudShellStorage.png\" height=\"500\" width=\"900\"/>\n",
    "</p>\n",
    "\n",
    "As instructed in the message, this indicates that Cloud Shell requires storage to persist files. This storage needs to be attached to a subscription. Creating the storage might take a couple of minutes. Once that's been provisioned you will be met with the following window:\n",
    "\n",
    "<p align=\"center\">\n",
    "    <img src=\"images/BashShell.png\" height=\"500\" width=\"900\"/>\n",
    "</p>\n"
   ]
  },
  {
   "attachments": {},
   "cell_type": "markdown",
   "metadata": {},
   "source": [
    "## What can you do with Azure Cloud Shell?\n",
    "\n",
    "With Azure Cloud Shell, you can perform a variety of tasks, such as:\n",
    "- Create and manage Azure resources\n",
    "- Run and automate Azure CLI and PowerShell commands\n",
    "- Write and execute scripts to automate tasks\n",
    "- Manage Azure subscriptions and access control\n",
    "- Use text editors to edit and manipulate files\n",
    "\n",
    "Azure Cloud Shell also provides access to a number of third-party tools and libraries, such as Git and Terraform, which can be used to automate and manage your Azure resources."
   ]
  },
  {
   "attachments": {},
   "cell_type": "markdown",
   "metadata": {},
   "source": [
    "## Azure CLI\n",
    "\n",
    "Azure CLI is a cross-platform command-line tool that provides a command-line interface for managing Azure resources. It allows you to interact with Azure resources from a terminal or command prompt, rather than using the Azure Portal web interface.\n",
    "\n",
    "Azure CLI is available for Windows, macOS, and Linux operating systems, and it supports a variety of command-line shells, such as Bash, PowerShell, and Windows Command Prompt."
   ]
  },
  {
   "attachments": {},
   "cell_type": "markdown",
   "metadata": {},
   "source": [
    "## How to install Azure CLI?\n",
    "\n",
    "Azure CLI can be installed on your local machine. The installation steps vary depending on your operating system.\n",
    "\n",
    "### **Windows**\n",
    "\n",
    "To install Azure CLI on a Windows machine, you can download and run the installer from the following link: https://aka.ms/installazurecliwindows.\n",
    "\n",
    "### **macOS**\n",
    "\n",
    "To install Azure CLI on a macOS machine, you can use the `Homebrew` package manager by running the following command: `brew update && brew install azure-cli`.\n",
    "\n",
    "### **Linux**\n",
    "To install Azure CLI on a Linux machine, you can use the package manager that is available for your distribution. For example, on Ubuntu, you can run the following command: `sudo apt-get update && sudo apt-get install azure-cli`."
   ]
  },
  {
   "attachments": {},
   "cell_type": "markdown",
   "metadata": {},
   "source": [
    "## How to use Azure CLI?\n",
    "\n",
    "Azure CLI provides a set of commands that you can use to manage Azure resources. The syntax for the commands is similar to other command-line interfaces, such as Bash or PowerShell.\n",
    "\n",
    "To use Azure CLI, you must first log in to your Azure account by running the following command: `az login`.\n",
    "\n",
    "This will open a browser window where you can enter your Azure credentials. If the login has been successful you will be able to see your credential information in the terminal.\n",
    "\n",
    "Once you are logged in, you can use Azure CLI to manage your Azure resources. For example, to create a new virtual machine in Azure, you can use the following command: `az vm create --name MyVM --resource-group MyResourceGroup --image UbuntuLTS --admin-username azureuser --admin-password MyPassword123`. \n",
    "\n",
    "This command will create a new virtual machine with the name `\"MyVM\"` in the resource group `\"MyResourceGroup\"`, using the UbuntuLTS image and the specified username and password.\n",
    "\n",
    "You can find more information about the Azure CLI commands and syntax in the Azure CLI documentation: https://docs.microsoft.com/en-us/cli/azure/.\n"
   ]
  },
  {
   "attachments": {},
   "cell_type": "markdown",
   "metadata": {},
   "source": [
    "## Key Takeaways\n",
    "\n",
    "- Azure Cloud Shell is a web-based command-line interface (CLI) that allows you to manage and administer Azure resources directly from your web browser\n",
    "- Azure Cloud Shell provides access to a variety of command-line tools and programming languages, including PowerShell, Bash, Azure CLI, and various text editors\n",
    "- Azure CLI allows you to interact with Azure resources from a terminal or command prompt, rather than using the Azure Portal web interface\n",
    "- Azure CLI is available for Windows, macOS, and Linux operating systems, and it supports a variety of command-line shells, such as Bash, PowerShell, and Windows Command Prompt\n",
    "- Azure CLI provides a set of commands that you can use to manage Azure resources, and the syntax for the commands is similar to other command-line interfaces, such as Bash or PowerShell"
   ]
  }
 ],
 "metadata": {
  "language_info": {
   "name": "python"
  }
 },
 "nbformat": 4,
 "nbformat_minor": 2
}
