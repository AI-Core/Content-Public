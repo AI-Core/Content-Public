{
 "cells": [
  {
   "attachments": {},
   "cell_type": "markdown",
   "metadata": {},
   "source": [
    "# Azure Storage"
   ]
  },
  {
   "attachments": {},
   "cell_type": "markdown",
   "metadata": {},
   "source": [
    "*Azure Storage* is a cloud-based object storage solution offered by Microsoft Azure. It provides highly scalable and durable cloud storage for a wide variety of data types, including structured, unstructured, and semi-structured data. Azure Storage supports multiple data access methods and can be used for a wide range of use cases, such as file sharing, backup and recovery, archiving, and disaster recovery.\n",
    "\n",
    "The main features of Azure Storage are:\n",
    "- **Scalability and Durability**: Azure Storage is highly scalable and provides multiple layers of redundancy to ensure your data is protected against hardware failures and other types of data loss\n",
    "- **Multiple Data Access Methods**: Azure Storage supports multiple data access methods, including *Blob storage*, *File storage*, *Queue storage*, and *Table storage*, making it versatile for different use cases\n",
    "- **Security**: Azure Storage provides encryption at rest and in transit, role-based access control, and Azure Active Directory integration to protect your data (we will talk more about Azure Active Directory in a later lesson)\n",
    "- **Integration with Azure Services**: Azure Storage is integrated with other Azure services, allowing you to easily store and manage data for your applications"
   ]
  },
  {
   "attachments": {},
   "cell_type": "markdown",
   "metadata": {},
   "source": [
    "## Azure Storage Types\n",
    "\n",
    "Azure Storage provides four different types of storage:\n",
    "- **Blob Storage**: Blob storage is designed for storing large amounts of unstructured data, such as images, videos, and documents. Blob storage supports both block and page blobs, and provides different tiers of storage to meet different performance and cost requirements.\n",
    "- **File Storage**: File storage is designed for storing and sharing files. It is optimized for enterprise applications that require file sharing, such as media and entertainment, and provides fully managed file shares that can be accessed from anywhere in the world.\n",
    "- **Queue Storage**: Queue storage is designed for storing and processing messages between applications. It provides a reliable messaging solution that can be used to build scalable, decoupled applications.\n",
    "- **Table Storage**: Table storage is designed for storing large amounts of structured data, such as customer data, device data, and logs. It provides a NoSQL key-value store that can scale to handle billions of entities."
   ]
  },
  {
   "attachments": {},
   "cell_type": "markdown",
   "metadata": {},
   "source": [
    "## Blob Storage Structure\n",
    "\n",
    "Blob storage is organized into three main components: *account*, *container*, and *blob*.\n",
    "\n",
    "### **Account**\n",
    "An Azure Storage account is the top-level object that provides a unique namespace for your data. It is the starting point for accessing and managing your data in Blob storage, as well as other storage services such as Queue storage and Table storage. \n",
    "> When you create a storage account, you specify a globally unique name and select the data center region where the account will be created.\n",
    "\n",
    "### **Container**\n",
    "A container is a logical grouping of blobs within a storage account. It provides a way to organize your data and control access to it. You can create multiple containers within a storage account, and each container can hold an unlimited number of blobs. \n",
    "> When you create a container, you specify a unique name within the storage account and set access policies that control who can access the container and its blobs.\n",
    "\n",
    "### **Blob**\n",
    "A blob is a binary large object that can be any type of data, such as a text file, image, or video. Blobs are stored within containers in a storage account and can be accessed using a unique URL. When you create a blob, you specify its type (such as block blob, page blob, or append blob) and set properties such as metadata and access policies. Blobs can be uploaded and downloaded using a variety of tools and APIs, and can be accessed directly via HTTP/HTTPS URLs."
   ]
  },
  {
   "attachments": {},
   "cell_type": "markdown",
   "metadata": {},
   "source": [
    "## Blob Storage Tiers and Pricing\n",
    "\n",
    "Blob storage offers three storage tiers to optimize cost and performance for different types of data:\n",
    "- *Hot Tier*: The hot tier is designed for frequently accessed data with low latency requirements. It provides high-performance storage optimized for read and write operations, and offers the lowest data retrieval fees.\n",
    "- *Cool Tier*: The cool tier is designed for data that is accessed less frequently, but still requires fast access times. It provides a lower storage cost compared to the hot tier, and is ideal for backup, archive, and infrequently accessed workloads.\n",
    "- *Archive Tier*: The archive tier is designed for long-term retention of rarely accessed data with low retrieval requirements. It provides the lowest storage among the tiers, but has the highest data retrieval fees. The archive tier is ideal for compliance and regulatory requirements, and workloads with extremely low access frequency."
   ]
  },
  {
   "attachments": {},
   "cell_type": "markdown",
   "metadata": {},
   "source": [
    "## How to Create a Storage Account\n",
    "\n",
    "Using the search bar in the Azure portal, search for **Storage accounts** and select it from under **Services**. You will be met with the Storage accounts homepage.\n",
    "\n",
    "<p align=\"center\">\n",
    "    <img src=\"images/StorageAccountsHomepage.png\" height=\"550\" width=\"1000\"/>\n",
    "</p>\n",
    "\n",
    "Notice that you might already have one storage account, one that was automatically created when you used Cloud Shell the first time.\n",
    "\n",
    "Now, let's create a new one using the **Create** button on the top left corner of the page. In the **Create storage account** page, you will need to configure the following settings:\n",
    "- **Subscription and Resource group**: Select the subscription and resource group you want to use for the storage account. For this lesson, we will create a new resource group called `storage-rg`.\n",
    "- **Storage account name**: Enter a unique name for your storage account. The name must be between 3 and 24 characters long, and can only contain lowercase letters and numbers. \n",
    "- **Region**: Choose the location that's most geographically close to you\n",
    "\n",
    "<p align=\"center\">\n",
    "    <img src=\"images/StorageAccountBasics.png\" height=\"600\" width=\"1000\"/>\n",
    "</p>\n",
    "\n",
    "Now click **Review + create** and Azure will validate your configuration. Once the validation has passed we will click **Create** to create our storage account.\n",
    "\n",
    "That's it! Once your storage account is deployed, you can start using it to store and manage your data. You can access the storage account from the Azure portal or using various APIs and tools."
   ]
  },
  {
   "attachments": {},
   "cell_type": "markdown",
   "metadata": {},
   "source": [
    "## How to Use a Storage Account\n",
    "\n",
    "The Storage Account Overview page will look as the following:\n",
    "\n",
    "<p align=\"center\">\n",
    "    <img src=\"images/StorageAccountOverview.png\" height=\"600\" width=\"1100\"/>\n",
    "</p>\n",
    "\n",
    "One of the key pieces of information on this page is the presence of two locations and their disk state. By default, each Azure Storage account is created with two copies of your data stored in separate locations within the same region, to provide redundancy and ensure high availability. These two locations are referred to as **\"Primary\"** and **\"Secondary\"** here.\n",
    "\n",
    "### How to Create a Container?\n",
    "\n",
    "Now, as you remember blobs are stored in containers in storage accounts. So let's create a container.On the **Storage Account Overview** page, click on the **Containers** option in the left-hand menu. This will open the **Containers** page for the storage account. Click on the **+ Container** button at the top of the page. Enter an unique name for the container.The name must be between 3 and 63 characters long, and can only contain lowercase letters, numbers, and hyphens.\n",
    "\n",
    "There are different *public access levels* you can select when creating a new container in Azure Storage:\n",
    "- *Private*: This is the most restrictive access level for a container. With this option, only the account owner and authorized users can access the contents of the container.\n",
    "- *Blob*: This option allows anonymous read access to the contents of the container, but not to the list of blobs within the container. This means that anyone can download the blobs within the container if they know the URL, but they cannot enumerate or list the blobs within the container.\n",
    "- *Container*: This option allows anonymous read access to both the contents of the container and the list of blobs within the container. This means that anyone can download the blobs within the container and list the blobs within the container.\n",
    "\n",
    "For this lesson, I will select **Container** for **Public access level** and then click **Create** to create my new container. Once the container is created, I can access it and add different blobs to it.\n",
    "\n",
    "### How to Upload a Blob?\n",
    "\n",
    "First, navigate in the desired container page. An empty container should look like the following:\n",
    "\n",
    "<p align=\"center\">\n",
    "    <img src=\"images/MyContainer.png\" height=\"600\" width=\"1000\"/>\n",
    "</p>\n",
    "\n",
    "To add a blob to this container select **Upload** from the top left corner of the Overview page. In the **Upload blob** pane, click on the **Browse for files** button to choose the file you want to upload. In the example below, I am uploading a `.json` file to the container.\n",
    "\n",
    "Under **Advanced** properties, you are able to select the desired **Access tier** to upload your blob to. For this lesson, we will leave the default settings on.\n",
    "\n",
    "Once you've configured the properties of the new blob, click on the **Upload** button to upload the blob to the container. The upload process may take several minutes, depending on the size of the file and the speed of your internet connection. Once the upload is complete, you should see the new blob listed on the container page. You can click on the blob name to view its properties and metadata, and you can also download or delete the blob as needed.\n",
    "\n",
    "<p align=\"center\">\n",
    "    <img src=\"images/UploadedBlob.png\" height=\"600\" width=\"1000\"/>\n",
    "</p>\n",
    "\n",
    "### How to Access a Blob?\n",
    "\n",
    "Firstly, find the blob you want to access and click on its name. This will open the blob properties page.\n",
    "\n",
    "<p align=\"center\">\n",
    "    <img src=\"images/AccessBlob.png\" height=\"600\" width=\"1000\"/>\n",
    "</p>\n",
    "\n",
    "Here, you have two ways to access the blob. The first one is using the **Download** button, to download the blob and visualise it locally. Secondly, look for the **URL** field near the top of the page. This is the URL that you can use to access the blob directly. Click on the **Copy** button next to the URL to copy it to your clipboard.\n",
    "\n",
    "You can now use the copied URL to access the blob from any application or service that supports HTTP/HTTPS requests. For example, you can paste the URL into a web browser to download the blob directly, or you can use it as the source for an image or video player in a web application. You can also use the Azure Storage REST API or one of the Azure Storage client libraries to access the blob programmatically.\n",
    "\n",
    "> Note that the access level of the blob may affect how you can access it. If the blob is set to **Private** access level, you will need to provide authentication credentials in order to access it. If you directly try to access it using its URL without any credentials, you will get an authentication error in your browser."
   ]
  },
  {
   "attachments": {},
   "cell_type": "markdown",
   "metadata": {},
   "source": [
    "## How to Access a Blob Using Python\n",
    "\n",
    "You might want to access blobs in Azure Storage using Python for different reasons, such as: \n",
    "\n",
    "- Data processing and analysis: If you have data stored in blobs, you might want to process and analyze that data using Python. Python has many libraries and tools for data processing, analysis, and visualization, making it a popular choice for data scientists and analysts.\n",
    "\n",
    "- Automation and integration: If you need to automate tasks or integrate Azure Storage with other systems or services, you might use Python to write scripts that interact with the Azure Blob Storage SDK.\n",
    "\n",
    "- Web application development: If you are building a web application that needs to store and retrieve files, you might use Azure Blob Storage to store the files and Python to interact with the storage account\n",
    "\n",
    "To access a Blob using Python follow these steps:\n",
    "\n",
    "1. Install the Azure Blob Storage SDK for Python: The first step is to install the Azure Blob Storage SDK for Python. You can install the SDK using pip, the Python package manager, by running the following command: `pip install azure-storage-blob`\n",
    "\n",
    "2. Import the necessary modules: Once you have installed the SDK, you need to import the necessary modules in your Python code. You can do this using the following code: "
   ]
  },
  {
   "cell_type": "code",
   "execution_count": null,
   "metadata": {},
   "outputs": [],
   "source": [
    "from azure.storage.blob import BlobServiceClient"
   ]
  },
  {
   "attachments": {},
   "cell_type": "markdown",
   "metadata": {},
   "source": [
    "3. Instantiate a `BlobServiceClient` object by passing in the connection string for your storage account:"
   ]
  },
  {
   "cell_type": "code",
   "execution_count": null,
   "metadata": {},
   "outputs": [],
   "source": [
    "account_name = '<your storage account name>'\n",
    "account_key = '<your storage account key>'\n",
    "connection_string = f\"DefaultEndpointsProtocol=https;AccountName={account_name};AccountKey={account_key};EndpointSuffix=core.windows.net\"\n",
    "blob_service_client = BlobServiceClient.from_connection_string(connection_string)"
   ]
  },
  {
   "attachments": {},
   "cell_type": "markdown",
   "metadata": {},
   "source": [
    "To find the *storage account name* and the *account key* you have to navigate to your storage account. A **storage account key** is a password used to authenticate and authorize requests made to a storage account. Click on the **Access keys** tab in the left-hand menu.\n",
    "\n",
    "<p align=\"center\">\n",
    "    <img src=\"images/StorageAccountAccessKeys.png\" height=\"600\" width=\"1000\"/>\n",
    "</p>\n",
    "\n",
    "Here you will see the **Storage account name** and two keys listed under **key1** and **key2**. Either of these keys can be used to authenticate requests to your storage account. You can copy the storage account name and key from this page and use them in your Python code or other applications that need to access your storage account. \n",
    "\n",
    "> Access keys in Azure storage accounts are a set of two keys (`Key1` and `Key2`) that act as authentication credentials, similar to passwords, for accessing and managing the resources within the storage account. These keys provide a way to securely interact with your storage account programmatically or through applications. \n",
    "\n",
    "Note that the storage account key is a sensitive credential and should be kept secure. You should avoid sharing the key with anyone who does not need access to it, and you should rotate the key periodically for security purposes.\n",
    "\n",
    "4. Use the `get_blob_client` method of the `BlobServiceClient` object to get a `BlobClient` object for the blob you want to access. You need to provide the name of the container and the name of the blob:"
   ]
  },
  {
   "cell_type": "code",
   "execution_count": null,
   "metadata": {},
   "outputs": [],
   "source": [
    "container_name = '<your container name>'\n",
    "blob_name = '<your blob name>'\n",
    "blob_client = blob_service_client.get_blob_client(container=container_name, blob=blob_name)"
   ]
  },
  {
   "attachments": {},
   "cell_type": "markdown",
   "metadata": {},
   "source": [
    "> The blob name should include both the name and the file extension.\n",
    "\n",
    "5. Use the `download_blob` method of the `BlobClient` object to download the blob to a file:\n"
   ]
  },
  {
   "cell_type": "code",
   "execution_count": null,
   "metadata": {},
   "outputs": [],
   "source": [
    "download_stream = blob_client.download_blob()\n",
    "blob_content = download_stream.readall()\n",
    "print(blob_content.decode('utf-8'))"
   ]
  },
  {
   "attachments": {},
   "cell_type": "markdown",
   "metadata": {},
   "source": [
    "The `download_blob` method returns a `BlobDownloadStream` object, which represents the content of the blob. We can read the content by calling the `readall` method on this object. The decode method is then used to convert the byte stream to a string, assuming that the content is in UTF-8 encoding. Finally, we use the `print statement` to write the content to the terminal.\n",
    "\n",
    "This will output the content of the blob to the terminal. If you want to write the content to a file instead, you can replace the print statement with a call to the write method of a file object that you have opened in write mode.\n",
    "\n",
    "> Note that this code assumes that the blob is set to **Public** access level. If the blob is set to **Private** access level, you will need to provide authentication credentials. You can do this by creating a Shared Access Signature (SAS) token or by using a stored access policy, but don't worry about that for now, as it beyond the scope of this lesson."
   ]
  },
  {
   "attachments": {},
   "cell_type": "markdown",
   "metadata": {},
   "source": [
    "## Key Takeaways\n",
    "\n",
    "- Azure Storage is a cloud-based storage solution that provides a range of storage services for different types of data\n",
    "- There are several types of Azure Storage, including Blob storage, File storage, Queue storage, and Table storage\n",
    "- Blob storage is a service that allows you to store unstructured data in the cloud, such as text and binary data, images, and videos\n",
    "- Blob storage has a hierarchical structure that consists of storage accounts, containers, and blobs\n",
    "- Blob storage also supports different access tiers, such as hot, cool, and archive, that offer different pricing options depending on the frequency of access to the data\n",
    "- When creating a new container, you can choose a public access level that determines how the container and its blobs can be accessed"
   ]
  }
 ],
 "metadata": {
  "language_info": {
   "name": "python"
  }
 },
 "nbformat": 4,
 "nbformat_minor": 2
}
