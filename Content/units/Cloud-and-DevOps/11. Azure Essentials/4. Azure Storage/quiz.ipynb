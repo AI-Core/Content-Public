{
 "cells": [
  {
   "attachments": {},
   "cell_type": "markdown",
   "metadata": {},
   "source": [
    "# Azure Storage"
   ]
  },
  {
   "attachments": {},
   "cell_type": "markdown",
   "metadata": {},
   "source": [
    "## Which of the following is not a type of Azure Storage?\n",
    "\n",
    "- Blob storage\n",
    "- File storage\n",
    "- Queue storage\n",
    "- Table storage\n",
    "- Email storage ***"
   ]
  },
  {
   "attachments": {},
   "cell_type": "markdown",
   "metadata": {},
   "source": [
    "## What is the hierarchical structure of Blob storage?\n",
    "\n",
    "- Account, folder, file\n",
    "- Account, container, blob ***\n",
    "- Account, bucket, object\n",
    "- Account, dataset, file"
   ]
  },
  {
   "attachments": {},
   "cell_type": "markdown",
   "metadata": {},
   "source": [
    "## Which of the following access tiers for Blob storage is the most expensive but provides the highest availability?\n",
    "\n",
    "- Hot ***\n",
    "- Cool\n",
    "- Archive\n",
    "- Standard"
   ]
  },
  {
   "attachments": {},
   "cell_type": "markdown",
   "metadata": {},
   "source": [
    "## True or False: The hot access tier for Blob storage is the least expensive but provides the lowest availability.\n",
    "\n",
    "- True\n",
    "- False ***"
   ]
  },
  {
   "attachments": {},
   "cell_type": "markdown",
   "metadata": {},
   "source": [
    "## Which tier of blob storage is the most cost-effective for data that is rarely accessed?\n",
    "\n",
    "- Hot\n",
    "- Cool ***\n",
    "- Archive\n",
    "- All of the above"
   ]
  },
  {
   "attachments": {},
   "cell_type": "markdown",
   "metadata": {},
   "source": [
    "## Which tier of blob storage provides the lowest availability and the highest durability?\n",
    "\n",
    "- Hot\n",
    "- Cool\n",
    "- Archive ***\n",
    "- All of the above"
   ]
  },
  {
   "attachments": {},
   "cell_type": "markdown",
   "metadata": {},
   "source": [
    "## In Azure Blob Storage, what is a container?\n",
    "\n",
    "- A type of blob\n",
    "- A logical grouping of blobs ***\n",
    "- A separate storage account\n",
    "- None of the above"
   ]
  },
  {
   "attachments": {},
   "cell_type": "markdown",
   "metadata": {},
   "source": [
    "## What is the difference between a container-level public access setting and a blob-level public access setting?\n",
    "\n",
    "- The container-level setting applies to all blobs in the container, while the blob-level setting applies only to a specific blob ***\n",
    "- The container-level setting applies only to a specific blob, while the blob-level setting applies to all blobs in the container\n",
    "- There is no difference - both settings apply to all blobs in the container\n",
    "- Public access settings are not available at the container or blob level"
   ]
  },
  {
   "attachments": {},
   "cell_type": "markdown",
   "metadata": {},
   "source": [
    "## Which public access level allows anonymous access to read blobs in a container, but does not allow listing the blobs in the container?\n",
    "\n",
    "- None\n",
    "- Container\n",
    "- Blob ***\n",
    "- All"
   ]
  },
  {
   "attachments": {},
   "cell_type": "markdown",
   "metadata": {},
   "source": [
    "## Which public access level allows anonymous access to read and list blobs in a container?\n",
    "\n",
    "- None\n",
    "- Container ***\n",
    "- Blob\n",
    "- All"
   ]
  },
  {
   "attachments": {},
   "cell_type": "markdown",
   "metadata": {},
   "source": [
    "## What is a storage account key in Azure Blob Storage?\n",
    "\n",
    "- A password that allows access to a storage account ***\n",
    "- An encryption key used to secure blobs in a storage account\n",
    "- A unique identifier for a container in a storage account\n",
    "- A protocol used to transfer data to and from a storage account"
   ]
  }
 ],
 "metadata": {
  "language_info": {
   "name": "python"
  },
  "orig_nbformat": 4
 },
 "nbformat": 4,
 "nbformat_minor": 2
}
