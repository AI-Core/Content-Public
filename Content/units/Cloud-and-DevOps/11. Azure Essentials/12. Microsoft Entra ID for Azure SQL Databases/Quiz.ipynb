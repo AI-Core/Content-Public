{
 "cells": [
  {
   "cell_type": "markdown",
   "metadata": {},
   "source": [
    "# Microsoft Entra ID for Azure SQL Databases"
   ]
  },
  {
   "cell_type": "markdown",
   "metadata": {},
   "source": [
    "## What is the primary benefit of integrating Microsoft Entra ID with Azure SQL Database?\n",
    "\n",
    "- Simplified user management\n",
    "- Enhanced security ***\n",
    "- Improved database performance\n",
    "- Seamless application integration"
   ]
  },
  {
   "cell_type": "markdown",
   "metadata": {},
   "source": [
    "## Who is the Microsoft Entra admin, and what are their responsibilities in the context of Azure SQL Database?\n",
    "\n",
    "- The Microsoft Entra admin is a user responsible for managing the Microsoft Entra Directory\n",
    "- The Microsoft Entra admin is responsible for managing access to the Azure SQL Database and its resources ***\n",
    "- The Microsoft Entra admin is an application identity that grants access to external applications\n",
    "- The Microsoft Entra admin is a security group that enforces access control policies"
   ]
  },
  {
   "cell_type": "markdown",
   "metadata": {},
   "source": [
    "## Which role in Azure SQL Database grants read-only access to the database?\n",
    "\n",
    "- `db_datawriter`\n",
    "- `db_owner`\n",
    "- `db_reader`\n",
    "- `db_datareader` ***"
   ]
  },
  {
   "cell_type": "markdown",
   "metadata": {},
   "source": [
    "## True or False: Azure Data Studio authentication tokens are available indefinitely and do not require refreshing.\n",
    "\n",
    "- True\n",
    "- False ***"
   ]
  },
  {
   "cell_type": "markdown",
   "metadata": {},
   "source": [
    "## What are the common issues you might encounter when implementing Microsoft Entra ID authentication with Azure SQL Database? Select all that apply.\n",
    "\n",
    "- Slow database performance\n",
    "- Invalid application identity ***\n",
    "- Expired or revoked tokens ***\n",
    "- Misconfigured firewall rules"
   ]
  }
 ],
 "metadata": {
  "language_info": {
   "name": "python"
  },
  "orig_nbformat": 4
 },
 "nbformat": 4,
 "nbformat_minor": 2
}
