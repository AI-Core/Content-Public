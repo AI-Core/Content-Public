{
 "cells": [
  {
   "cell_type": "markdown",
   "metadata": {},
   "source": [
    "# Azure SQL Database"
   ]
  },
  {
   "cell_type": "markdown",
   "metadata": {},
   "source": [
    "## What is the primary benefit of using Azure SQL Database compared to traditional on-premises databases?\n",
    "\n",
    "- Lower cost\n",
    "- More features\n",
    "- Fully-managed platform ***\n",
    "- Better performance"
   ]
  },
  {
   "cell_type": "markdown",
   "metadata": {},
   "source": [
    "## What is the purpose of the **Public Network Access** setting in Azure SQL Database?\n",
    "\n",
    "- To allow or deny access to the internet for the database server ***\n",
    "- To allow or deny access to the database from within the Azure network\n",
    "- To allow or deny access to the Azure portal for managing the database\n",
    "- To allow or deny access to the Azure Active Directory for authentication"
   ]
  },
  {
   "cell_type": "markdown",
   "metadata": {},
   "source": [
    "## Which Python library is used for connecting to Azure SQL Database using an ODBC driver?\n",
    "\n",
    "- `sqlalchemy`\n",
    "- `pandas`\n",
    "- `pyodbc` ***\n",
    "- `sqlite3`"
   ]
  },
  {
   "cell_type": "markdown",
   "metadata": {},
   "source": [
    "## To resolve the **Connection denied due to public access being off** error, what step should be taken in the Azure portal?\n",
    "\n",
    "- Enable public access for the Azure SQL Database\n",
    "- Disable public access for the Azure SQL Database\n",
    "- Add a new firewall rule to allow traffic from your client IP address ***\n",
    "- Delete the existing firewall rules"
   ]
  },
  {
   "cell_type": "markdown",
   "metadata": {},
   "source": [
    "## What is the purpose of the ODBC driver in the context of connecting to Azure SQL Database?\n",
    "\n",
    "- It allows you to visualize data from the database in a graphical format\n",
    "- It provides an interface for connecting to various databases using ODBC ***\n",
    "- It automatically backs up the database at regular intervals\n",
    "- It is a database management tool provided by Microsoft"
   ]
  },
  {
   "cell_type": "markdown",
   "metadata": {},
   "source": [
    "## Which authentication methods are supported by Azure SQL Database?\n",
    "\n",
    "- Only Azure Active Directory authentication\n",
    "- Only SQL Server authentication\n",
    "- Both Azure Active Directory authentication and SQL Server authentication ***\n",
    "- No authentication is required for Azure SQL Database"
   ]
  },
  {
   "cell_type": "markdown",
   "metadata": {},
   "source": [
    "## When connecting to Azure SQL Database using Visual Studio Code, what might cause the **Cannot open server** error?\n",
    "\n",
    "- Incorrect server name provided\n",
    "- Incorrect username and password provided ***\n",
    "- Firewall rules are not configured\n",
    "- The ODBC driver is not installed"
   ]
  },
  {
   "cell_type": "markdown",
   "metadata": {},
   "source": [
    "## Which package is required to work with SQL Server and Azure SQL Database in Python using `sqlalchemy`?\n",
    "\n",
    "- `sqlserver`\n",
    "- `sqlclient`\n",
    "- `sqlalchemy-azure`\n",
    "- `pyodbc` ***"
   ]
  }
 ],
 "metadata": {
  "language_info": {
   "name": "python"
  },
  "orig_nbformat": 4
 },
 "nbformat": 4,
 "nbformat_minor": 2
}
