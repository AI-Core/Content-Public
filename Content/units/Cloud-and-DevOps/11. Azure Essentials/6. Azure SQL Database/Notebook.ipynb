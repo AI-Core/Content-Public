{
 "cells": [
  {
   "attachments": {},
   "cell_type": "markdown",
   "metadata": {},
   "source": [
    "# Azure SQL Database"
   ]
  },
  {
   "attachments": {},
   "cell_type": "markdown",
   "metadata": {},
   "source": [
    "*Azure SQL Database* is a fully-managed, Platform-as-a-Service (PaaS) offering within Azure, built on the foundation of *Azure SQL Server*. Azure SQL Server is a cloud-based implementation of Microsoft SQL Server, a widely-used relational database management system (RDBMS). It provides a fully-managed environment for hosting SQL databases in the cloud, eliminating the need for on-premises hardware and maintenance. \n",
    "\n",
    "Azure SQL Database shares the same core capabilities as Azure SQL Server but adds additional benefits by abstracting away most of the infrastructure management tasks."
   ]
  },
  {
   "cell_type": "markdown",
   "metadata": {},
   "source": [
    "## Motivation\n",
    "\n",
    "This lesson aims to help you harness the power of cloud-based databases in Microsoft Azure - specifically, Azure SQL Server and Azure SQL Database. These services offer a reliable, flexible, and secure way to manage data in the cloud. By learning how to create and configure Azure SQL Server and Azure SQL Database, you can:\n",
    "\n",
    "- **Simplify Data Management**: You don't need to worry about hardware or maintenance. Focus on designing databases and building applications instead.\n",
    "- **Scale with Ease**: Easily adjust resources to handle varying workloads without downtime\n",
    "- **Ensure Data Availability**: Automatic backups, replication, and failover mechanisms keep your data safe and available, even in emergencies\n",
    "- **Boost Security and Compliance**: Benefit from strong security features and comply with data regulations"
   ]
  },
  {
   "attachments": {},
   "cell_type": "markdown",
   "metadata": {},
   "source": [
    "## Create an Azure SQL Database\n",
    "\n",
    "Let's being by creating an Azure SQL Database. To do this start by typing **SQL databases** in the search bar of the Azure portal. Select its corresponding page, this will redirect you to the following page:\n",
    "\n",
    "<p align=\"center\">\n",
    "    <img src=\"images/SQLDatabases.png\" height=\"550\" width=\"1000\"/>\n",
    "</p>\n",
    "\n",
    "To create a SQL database click on the **Create** button, and begin filling in the required information. For **Subscription** we will select the subscription associated with our account, and for **Resource group** we will create a new one called `my-database-rg`.\n",
    "\n",
    "Next we will define the database name under the **Database details** pane. We need to set up the server that's going to be the underlying infrastructure of our database. Currently we don't have any server existing in our subscription:\n",
    "\n",
    "<p align=\"center\">\n",
    "    <img src=\"images/EmptyServerList.png\" height=\"600\" width=\"1000\"/>\n",
    "</p>\n",
    "\n",
    "### Create a SQL Database Server\n",
    "\n",
    "Before you can create an Azure SQL database, you need to create a new SQL database server. A database server is a logical container for your databases, and provides a centralized location to manage your database resources. We will create a new server using the **Create new** button.\n",
    "\n",
    "When creating a new SQL database server in Azure, you will need to provide a server name. The server name is a unique identifier for your database server that is used to access the server and the databases within it. The server name can be up to 63 characters in length and must contain only letters, numbers, and hyphens. \n",
    "\n",
    "> The server name must be globally unique across all Azure SQL database servers, so you may need to try a few different names before finding one that is available.\n",
    "\n",
    "The next thing you will need to do is select the location where the server will be created. As usual, make sure to select the region that's geographically closest to you.\n",
    "\n",
    "#### SQL Database Server Authentication Methods\n",
    "\n",
    "Azure SQL Database supports two primary authentication methods: Azure Active Directory authentication and SQL Server authentication. Here's a brief overview of each method:\n",
    "\n",
    "- *Azure Active Directory Authentication*: Azure Active Directory (AAD) authentication is an identity and access management service that provides a centralized location for managing user identities and access to Azure resources. With AAD authentication, users can log in to Azure SQL Database using their Azure AD credentials, eliminating the need for separate SQL Server credentials.\n",
    "- *SQL Server Authentication*: SQL Server authentication is a traditional authentication method that uses a username and password to authenticate to Azure SQL Database\n",
    "\n",
    "For the purpose of this example, we will select **Use SQL authentication** as the **Authentication method** for our server, and will create a user and password for login.\n",
    "\n",
    "<p align=\"center\">\n",
    "    <img src=\"images/CreateServer.png\" height=\"550\" width=\"1000\"/>\n",
    "</p>\n",
    "\n",
    "Finally click **OK** to create the server, this will redirect you back to the **Create SQL Database** page. The newly created server will now be visible in the servers list. \n",
    "\n",
    "### Configure Compute and Storage\n",
    "\n",
    "Once redirected to the **Create SQL Database** page, we can configure the database to the correct size that matches our workload, by clicking **Configure database** under the **Compute + storage** pane.\n",
    "\n",
    "<p align=\"center\">\n",
    "    <img src=\"images/BasicConfiguration.png\" height=\"500\" width=\"1000\"/>\n",
    "</p>\n",
    "\n",
    "> Azure SQL Database offers different tiers of service for different workloads and performance requirements. One of the options for storage tier is **Basic Compute**, which provides a low-cost option for small databases or those with modest performance needs. Basic Compute is a good option for test and development environments, small-scale applications, and low-traffic websites, like in this case. Select **Basic** from the service tier list and then click **Apply** to apply the changes.\n",
    "\n",
    "Finally, to create the database click **Review + create**, and once the validations have passed click **Create**. The deployment might take a couple of minutes to complete.\n",
    "\n",
    "Once deployment is completed click **Go to resource** to access the database overview page.\n",
    "\n",
    "<p align=\"center\">\n",
    "    <img src=\"images/DatabaseOverview.png\" height=\"550\" width=\"1000\"/>\n",
    "</p>"
   ]
  },
  {
   "attachments": {},
   "cell_type": "markdown",
   "metadata": {},
   "source": [
    "## Connect to an Azure SQL Database using VSCode\n",
    "\n",
    "We are going to connect to our Azure SQL Database via VSCode. To connect to Azure SQL Database from VSCode, you will need to instal the *SQL Server extension*. You can do this by following these steps:\n",
    "- Open VSCode and click on the **Extensions** icon on the left-hand side of the window\n",
    "- Search for `SQL Server` in the search bar and install the extension\n",
    "\n",
    "<p align=\"center\">\n",
    "    <img src=\"images/SQLServerExtension.png\" height=\"600\" width=\"1000\"/>\n",
    "</p>\n",
    "\n",
    "Once you have installed the SQL Server extension, you can open it by following these steps:\n",
    "- Click on the **SQL Server** icon on the left-hand side of the window\n",
    "- Click on the **Add Connection** button to open the Connection window\n",
    "\n",
    "<p align=\"center\">\n",
    "    <img src=\"images/SQLServerCreateConnection.png\" height=\"600\" width=\"1000\"/>\n",
    "</p>\n",
    "\n",
    "Once you have opened the Connection window, you can connect to your Azure SQL Database. To do this, follow these steps:\n",
    "- Enter the server name in the **Server name** field. You can find this under **Server name** in your SQL Database Azure overview page.\n",
    "\n",
    "<p align=\"center\">\n",
    "    <img src=\"images/ServerName.png\" height=\"550\" width=\"1000\"/>\n",
    "</p>\n",
    "\n",
    "- Copy this to your clipboard and the paste it in the **Server name** field in VSCode, and then press **Enter**.\n",
    "\n",
    "<p align=\"center\">\n",
    "    <img src=\"images/ServerNameVSCode.png\" height=\"600\" width=\"1000\"/>\n",
    "</p>"
   ]
  },
  {
   "cell_type": "markdown",
   "metadata": {},
   "source": [
    "- You will be asked to optionally choose a name for this database. Choose the desired one and then press **Enter**\n",
    "- Select the **Authentication Type**, in this case it should be **SQL Login**, the same as for your Azure SQL Database, and click **Enter** again\n",
    "- Enter your username and password in the **User name** and **Password** fields, respectively. You can choose to save your password at this point for future logins.\n",
    "- Next, you will be asked to choose a display name for this connection, this step is optional. Once you have chose one press **Enter**\n",
    "\n",
    "At this point, you will likely encounter the following error message `Connection denied due to public access being off`, this means that public access to your database is currently disabled.\n",
    "\n",
    "<p align=\"center\">\n",
    "    <img src=\"images/PublicAccessDenied.png\" height=\"650\" width=\"1000\"/>\n",
    "</p>\n",
    "\n",
    "By default, Azure SQL Database is configured to deny all public connections. To connect to your database from outside of Azure, you will need to enable public access by configuring a firewall rule that allows traffic from your client IP address. To do this, first navigate to your Azure SQL Database in the Azure portal. Click on the **Set server firewall** tab on the top middle of the screen.\n",
    "\n",
    "Public network access to a SQL Server instance is controlled by the **Public Network Access** setting. This setting determines whether or not traffic from the public internet is allowed to reach your SQL Server instance.\n"
   ]
  },
  {
   "cell_type": "markdown",
   "metadata": {},
   "source": [
    "By default, the **Public Network Access** setting is set to **Deny**, which means that only traffic from within the Azure network is allowed to reach your SQL Server instance. To allow traffic from the public internet to reach your SQL Server instance, you can change the **Public Network Access** setting to **Selected networks**.\n",
    "\n",
    "<p align=\"center\">\n",
    "    <img src=\"images/AllowPublicAccess.png\" height=\"700\" width=\"1050\"/>\n",
    "</p>\n",
    "\n",
    "Before adding our own IP address to the firewall, we need press **Save**, so Azure SQL remembers we want to allow public access to this server.\n",
    "\n",
    "Now, we can go back to VSCode, and repeat the login process in the **Add Connection** tab, just like we have done before: using the server name, admin name and password. You will now be prompted to the following message:\n",
    "\n",
    "<p align=\"center\">\n",
    "    <img src=\"images/AddAccount.png\" height=\"650\" width=\"1000\"/>\n",
    "</p>\n",
    "\n",
    "This means that VSCode cannot authenticate with Azure and therefore cannot connect to your database.To resolve this error, you need to sign in to Azure using an Azure account. To do so, click **Add an Account**, this will redirect you to the login page of the Azure portal. Once you have successfully logged in, you should see the following page:\n",
    "\n",
    "<p align=\"center\">\n",
    "    <img src=\"images/AzureLogIn.png\" height=\"600\" width=\"1000\"/>\n",
    "</p>"
   ]
  },
  {
   "cell_type": "markdown",
   "metadata": {},
   "source": [
    "\n",
    "Now that our Azure account has been added, we can follow the login process in the **Add Connection** tab again. This time, we will encounter the following message: \n",
    "\n",
    "<p align=\"center\">\n",
    "    <img src=\"images/CreateFirewallRule.png\" height=\"650\" width=\"1000\"/>\n",
    "</p>\n",
    "\n",
    "This means that your client IP address is not allowed to access the database server. Remember that earlier we allowed public access to selected networks, but have not specified which networks. To resolve this error, you need to create a firewall rule that allows traffic from your client IP address, and you can do so by clicking **Create Firewall Rule**. This will open a pop-up message in VSCode.\n",
    "\n",
    "<p align=\"center\">\n",
    "    <img src=\"images/StartIP.png\" height=\"650\" width=\"1000\"/>\n",
    "</p>\n",
    "\n",
    "When you configure a firewall rule for your Azure SQL Database server, you need to specify the *start IP* and *stop IP* addresses. These values determine the range of IP addresses that are allowed to access your database server. The start IP address is the first IP address in the range of IP addresses that are allowed to access your database server, while the stop IP address is the last IP address in the range that are allowed to access the server. VSCode will automatically infer your IP address, all you have to do is press **Enter** for both start and stop IP. Once this step is done you will get a new message indicating that the firewall rule was successfully created.\n",
    "\n",
    "Finally we can go back to the login process in the **Add Connection** tab. You should now be able to successfully login. If you run into another error, such as `Cannot open server`, just try again as the security rule might take a few seconds to be updated. Once logged in, you should see the following in VSCode:\n",
    "\n",
    "<p align=\"center\">\n",
    "    <img src=\"images/SuccessfulConnection.png\" height=\"650\" width=\"1000\"/>\n",
    "</p>"
   ]
  },
  {
   "attachments": {},
   "cell_type": "markdown",
   "metadata": {},
   "source": [
    "## Loading and Querying Data \n",
    "\n",
    "Once you have established a connection between Azure SQL Database and the SQL Server extension in VSCode, you can use this connection to load and query any database. In this example, we will this table from the `Pagila` database, a sample database that is used for testing and demonstration purposes, into our Azure SQL database using `sqlachemy`. Download this table in `csv` format from [here](https://aicore-portal-public-prod-307050600709.s3.eu-west-1.amazonaws.com/lesson_files/film_actor_pagila.csv).\n",
    "\n",
    "Before sending data from a local `csv` file to Azure SQL Database using `sqlachemy`, you need to install the required packages. Install the following packages: `sqlalchemy`, `pandas` and `pyodbc`. `pyodbc` is a Python library that provides an interface for connecting to various databases using an *ODBC (Open Database Connectivity)* driver. ODBC is a standard for accessing databases, regardless of the specific database management system (DBMS) being used.\n",
    "\n",
    "### Install ODBC Driver\n",
    "\n",
    "In order to connect to the Azure SQL Database, you will need to install an ODBC driver. The instructions for installing the driver may vary based on your operating system. Here are the instructions for Linux, Windows, and Mac:\n",
    "\n",
    "#### Linux\n",
    "\n",
    "1. Update the packages and upgrade the system:\n"
   ]
  },
  {
   "cell_type": "code",
   "execution_count": null,
   "metadata": {
    "vscode": {
     "languageId": "shellscript"
    }
   },
   "outputs": [],
   "source": [
    "sudo apt-get update\n",
    "sudo apt-get upgrade"
   ]
  },
  {
   "attachments": {},
   "cell_type": "markdown",
   "metadata": {},
   "source": [
    "2. Install the required packages to install the ODBC driver: `sudo apt-get install -y gnupg2 curl`\n",
    "\n",
    "3. Import the public repository GPG keys: `curl https://packages.microsoft.com/keys/microsoft.asc | sudo apt-key add -`\n",
    "\n",
    "4. Register the Microsoft SQL Server Ubuntu repository: `curl https://packages.microsoft.com/config/ubuntu/20.04/prod.list | sudo tee /etc/apt/sources.list.d/msprod.list`\n",
    "\n",
    "5. Update the packages and install the ODBC driver:"
   ]
  },
  {
   "cell_type": "code",
   "execution_count": null,
   "metadata": {
    "vscode": {
     "languageId": "shellscript"
    }
   },
   "outputs": [],
   "source": [
    "sudo apt-get update\n",
    "sudo apt-get install -y mssql-tools unixodbc-dev"
   ]
  },
  {
   "attachments": {},
   "cell_type": "markdown",
   "metadata": {},
   "source": [
    "6. You need to add the `mssql-tools` and `odbcinst` directories to your `PATH` environment variable for `sqlcmd` and `odbcinst` to work properly. You can do this by adding the following lines to your `~/.bashrc` file:\n"
   ]
  },
  {
   "cell_type": "code",
   "execution_count": null,
   "metadata": {
    "vscode": {
     "languageId": "shellscript"
    }
   },
   "outputs": [],
   "source": [
    "export PATH=\"$PATH:/opt/mssql-tools/bin\"\n",
    "export PATH=\"$PATH:/usr/local/lib:/usr/local/lib64:/usr/lib64\""
   ]
  },
  {
   "attachments": {},
   "cell_type": "markdown",
   "metadata": {},
   "source": [
    "#### Windows\n",
    "\n",
    "1. Download the appropriate ODBC driver for your SQL database from the Microsoft Download Center. You can download the latest ODBC driver for SQL Server from [this link](https://go.microsoft.com/fwlink/?linkid=2223270).\n",
    "\n",
    "2. Once the download is complete, double-click on the downloaded `.msi` file to begin the installation process\n",
    "\n",
    "3. Follow the prompts in the installation wizard to complete the installation process. You can leave the default settings as they are. You might be asked to install **Visual C++ 2017 Redistributable** first before proceeding with this installation.\n",
    "\n",
    "4. Once the installation is complete, you will need to configure a data source in **Windows Tools**. You can access the this from the **Control Panel**, by searching **ODBC data** in the search bar. Select **Set up ODBC data sources** 32-bit or 64-bit, depending on which application you are running. In Windows 10, you can search for **ODBC Data Sources (32-bit)** or **ODBC Data Sources (64-bit)** in the **Start** menu.\n",
    "\n",
    "5. In the **ODBC Data Source Administrator**, select the **System DSN** tab and click on the **Add** button\n",
    "\n",
    "6. Select the appropriate ODBC driver from the list of available drivers. If you have installed the latest ODBC driver for SQL Server, the driver should be named **ODBC Driver 18 for SQL Server**.\n",
    "\n",
    "7. Give your data source a name and specify the server name (the Azure Database server name). Select **With SQL Server authentication using login ID and password entered by the user** as the authentication method. Then specify the login ID and password needed to connect to the database. Leave the rest as the default settings.\n",
    "\n",
    "8. Click on the **Test Data Source** button to test the connection to your SQL database. If the connection is successful, you should see a **Connection Test Successful** message.\n",
    "\n",
    "9. Click on the **OK** button to save your data source configuration\n"
   ]
  },
  {
   "attachments": {},
   "cell_type": "markdown",
   "metadata": {},
   "source": [
    "#### MacOS\n",
    "\n",
    "1. Install Homebrew (if you haven't already) by running the following command in the terminal: `/bin/bash -c \"$(curl -fsSL https://raw.githubusercontent.com/Homebrew/install/HEAD/install.sh)\"`\n",
    "\n",
    "2. Install the Microsoft ODBC Driver for SQL Server:"
   ]
  },
  {
   "cell_type": "code",
   "execution_count": null,
   "metadata": {
    "vscode": {
     "languageId": "shellscript"
    }
   },
   "outputs": [],
   "source": [
    "brew tap microsoft/mssql-release https://github.com/Microsoft/homebrew-mssql-release\n",
    "brew install msodbcsql18 mssql-tools"
   ]
  },
  {
   "attachments": {},
   "cell_type": "markdown",
   "metadata": {},
   "source": [
    "3. Add the ODBC Driver to the path. On Mac Intel these are often the following:"
   ]
  },
  {
   "cell_type": "code",
   "execution_count": null,
   "metadata": {
    "vscode": {
     "languageId": "shellscript"
    }
   },
   "outputs": [],
   "source": [
    "echo 'export PATH=\"$PATH:/opt/homebrew/bin\"' >> ~/.zshrc\n",
    "echo 'export PATH=\"$PATH:/opt/homebrew/opt/mssql-tools/bin\"' >> ~/.zshrc\n",
    "source ~/.zshrc"
   ]
  },
  {
   "cell_type": "markdown",
   "metadata": {},
   "source": [
    "Check by navigating to these folder, to ensure your installation has taken place in the same location. If you are on Mac M1 or M2, is likely the paths will be the following:"
   ]
  },
  {
   "cell_type": "code",
   "execution_count": null,
   "metadata": {
    "vscode": {
     "languageId": "shellscript"
    }
   },
   "outputs": [],
   "source": [
    "echo 'export PATH=\"$PATH:/opt/homebrew/Cellar/mssql-tools/17.10.1.1/bin\"' >> ~/.zshrc\n",
    "echo 'export PATH=\"$PATH:/opt/homebrew/opt/mssql-tools/bin\"' >> ~/.zshrc\n",
    "source ~/.zshrc"
   ]
  },
  {
   "cell_type": "markdown",
   "metadata": {},
   "source": [
    "> To avoid having to run the `echo` commands each time you open a new shell, make sure to add this to your `~/.zshrc` using an editor such as nano. For example for the Mac Intel example above, that will:"
   ]
  },
  {
   "cell_type": "code",
   "execution_count": null,
   "metadata": {
    "vscode": {
     "languageId": "shellscript"
    }
   },
   "outputs": [],
   "source": [
    "export PATH=\"/opt/homebrew/opt/mssql-tools/bin:$PATH\"\n",
    "export PATH=\"/usr/local/Cellar/mssql-tools/18.10.1.1/bin:$PATH\""
   ]
  },
  {
   "cell_type": "markdown",
   "metadata": {},
   "source": [
    "Make sure to modify the paths above if the files are located in a different location on your local computer.\n",
    "\n",
    "Don't forget to restart your shell by running `source ~/.zshrc` before continuing with the next steps."
   ]
  },
  {
   "attachments": {},
   "cell_type": "markdown",
   "metadata": {},
   "source": [
    "4. Verify that the ODBC driver is installed: `/usr/local/bin/odbcinst -q -d -n \"ODBC Driver 18 for SQL Server\"` (normally for Mac Intel) or `/opt/homebrew/anaconda3/bin/odbcinst -q -d -n \"ODBC Driver 18 for SQL Server\"` (normally for Mac M1/M2). \n",
    "\n",
    "The path might be different for you, make sure to check this on your local machine. Another common path is `usr/local/etc/odbcinst.init`, for which you would have to run the following command instead: `/usr/local/etc/odbcinst -q -d -n \"ODBC Driver 18 for SQL Server\"`.\n",
    "\n",
    "If the ODBC driver is installed correctly, you should see output similar to the following:"
   ]
  },
  {
   "cell_type": "code",
   "execution_count": null,
   "metadata": {
    "vscode": {
     "languageId": "shellscript"
    }
   },
   "outputs": [],
   "source": [
    "[ODBC Driver 18 for SQL Server]\n",
    "Driver          = /../libmsodbcsql.18.dylib"
   ]
  },
  {
   "attachments": {},
   "cell_type": "markdown",
   "metadata": {},
   "source": [
    "You might be running in the following error `odbcinst: SQLGetPrivateProfileString`. This error can occur when the ODBC driver manager is unable to locate the configuration file for the ODBC driver. You can try the following:\n",
    "\n",
    "- Check if the `odbcinst.ini` file exists in the expected location by running the command `ls /usr/local/etc/odbcinst.ini` (for Mac Intel). If you are on M1/m2 modify accordingly for the paths seen above.\n",
    "- If the file does not exist, create it by running the command `sudo touch /usr/local/etc/odbcinst.ini`\n",
    "- Edit the file by running the command `sudo nano /usr/local/etc/odbcinst.ini` and add the following lines to the file:\n"
   ]
  },
  {
   "cell_type": "code",
   "execution_count": null,
   "metadata": {
    "vscode": {
     "languageId": "shellscript"
    }
   },
   "outputs": [],
   "source": [
    "[ODBC Driver 18 for SQL Server]\n",
    "Description=Microsoft ODBC Driver 18 for SQL Server\n",
    "Driver=/usr/local/lib/libmsodbcsql.17.dylib\n",
    "UsageCount=1"
   ]
  },
  {
   "attachments": {},
   "cell_type": "markdown",
   "metadata": {},
   "source": [
    "- Save and close the file by pressing `Ctrl+X`, then `Y`, and finally `Enter`\n",
    "- Finally, run the command `odbcinst -q -d -n \"ODBC Driver 18 for SQL Server\" `to verify that the driver has been installed and configured correctly. If you still encounter the same error after following these steps, try restarting your terminal or computer and attempting the connection again."
   ]
  },
  {
   "attachments": {},
   "cell_type": "markdown",
   "metadata": {},
   "source": [
    "### Connect to the Azure SQL Database using `sqlachemy`\n",
    "\n",
    "Once the packages and ODBC driver have been installed, you can connect to the Azure SQL Database using `sqlachemy`. Here is an example code snippet that demonstrates how to create an engine and connect to the Azure SQL Database:"
   ]
  },
  {
   "cell_type": "code",
   "execution_count": null,
   "metadata": {},
   "outputs": [],
   "source": [
    "import pyodbc\n",
    "from sqlalchemy import create_engine\n",
    "\n",
    "server = '<server>.database.windows.net' # replace with your Azure SQL Database server name\n",
    "database= '<database>' # replace with your Azure SQL Database name\n",
    "username = '<username>' # replace with your Azure SQL Database username\n",
    "password = '<password>' # replace with your Azure SQL Database password\n",
    "driver = '{ODBC Driver 18 for SQL Server}'\n",
    "\n",
    "# Create the connection string\n",
    "connection_string=f'Driver={driver};\\\n",
    "    Server=tcp:{server},1433;\\\n",
    "    Database={database};\\\n",
    "    Uid={username};\\\n",
    "    Pwd={password};\\\n",
    "    Encrypt=yes;\\\n",
    "    TrustServerCertificate=no;\\\n",
    "    Connection Timeout=30;'\n",
    "\n",
    "# Create the engine to connect to the database\n",
    "engine = create_engine(\"mssql+pyodbc:///?odbc_connect={}\".format(connection_string))"
   ]
  },
  {
   "attachments": {},
   "cell_type": "markdown",
   "metadata": {},
   "source": [
    "> Make sure the ODBC driver version in the script above matches your local ODBC driver version, otherwise you will likely get an `InterfaceError`."
   ]
  },
  {
   "attachments": {},
   "cell_type": "markdown",
   "metadata": {},
   "source": [
    "### Load the `csv` data\n",
    "\n",
    "Once you have connected to the Azure SQL Database, you can load the data from the local `csv` file to a `Pandas` DataFrame. Here is an example code snippet that demonstrates how: "
   ]
  },
  {
   "cell_type": "code",
   "execution_count": null,
   "metadata": {},
   "outputs": [],
   "source": [
    "import pandas as pd\n",
    "\n",
    "df = pd.read_csv('filename.csv') # replace the `filename.csv` with the name and location of your csv file"
   ]
  },
  {
   "attachments": {},
   "cell_type": "markdown",
   "metadata": {},
   "source": [
    "### Write data to the Azure SQL Database\n",
    "\n",
    "After loading the data into a DataFrame, you can write the data to the Azure SQL Database. Here is an example code snippet that demonstrates how to write data from a `Pandas` DataFrame to a SQL Server database:\n"
   ]
  },
  {
   "cell_type": "code",
   "execution_count": null,
   "metadata": {},
   "outputs": [],
   "source": [
    "df.to_sql('film_actors', engine, if_exists='append', index=False)"
   ]
  },
  {
   "attachments": {},
   "cell_type": "markdown",
   "metadata": {},
   "source": [
    "In this example, `film_actors` is the name of the table in the Azure SQL Database where you want to insert the data. The `if_exists` parameter specifies what to do if the table already exists. If you want to replace the table, set if_exists to `replace`. If you want to append the data to the existing table, set `if_exists` to `append`."
   ]
  },
  {
   "attachments": {},
   "cell_type": "markdown",
   "metadata": {},
   "source": [
    "## Query an Azure SQL Database using VSCode\n",
    "\n",
    "Now let's look at a quick example on how to query the `film_actors` table in our Azure SQL database using `SQL Server`. To open a new query window, right-click on on the server you want to connect to and select **New Query**. This will open a new query window, where you can enter your SQL query. For example, a query that selects all the data from the `film_actors` table:"
   ]
  },
  {
   "cell_type": "code",
   "execution_count": null,
   "metadata": {
    "vscode": {
     "languageId": "sql"
    }
   },
   "outputs": [],
   "source": [
    "SELECT * FROM film_actors"
   ]
  },
  {
   "attachments": {},
   "cell_type": "markdown",
   "metadata": {},
   "source": [
    "Press the **Execute Query**  green arrow at the top-right of the screen to execute the query. The results will be displayed in a new tab.\n",
    "\n",
    "<p align=\"center\">\n",
    "    <img src=\"images/RunQuery.png\" height=\"600\" width=\"1000\"/>\n",
    "</p>\n",
    "\n",
    "You can now run any types of queries on this data. For example, a more complex query that finds all the actors who have appeared in films released in 2006:"
   ]
  },
  {
   "cell_type": "code",
   "execution_count": null,
   "metadata": {
    "vscode": {
     "languageId": "sql"
    }
   },
   "outputs": [],
   "source": [
    "SELECT DISTINCT actor_id\n",
    "FROM film_actor\n",
    "WHERE film_id IN (\n",
    "    SELECT film_id FROM film WHERE release_year = 2006\n",
    ");\n"
   ]
  },
  {
   "attachments": {},
   "cell_type": "markdown",
   "metadata": {},
   "source": [
    "## Key Takeaways\n",
    "\n",
    "- SQL Server is a relational database management system (RDBMS) developed by Microsoft that can be used to manage data on a local machine or in the cloud\n",
    "- To connect to an Azure SQL Database instance from SQL Server, you will need to download and install the Microsoft ODBC Driver for SQL Server\n",
    "- To connect to an Azure SQL Database instance from SQL Server in VSCode, you will need to install the SQL Server extension and configure the connection settings\n",
    "- Once you are connected to an Azure SQL Database instance from SQL Server in VSCode, you can execute SQL queries and perform other database operations"
   ]
  }
 ],
 "metadata": {
  "language_info": {
   "name": "python"
  }
 },
 "nbformat": 4,
 "nbformat_minor": 2
}
