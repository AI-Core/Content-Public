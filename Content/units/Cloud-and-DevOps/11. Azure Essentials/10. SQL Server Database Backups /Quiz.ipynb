{
 "cells": [
  {
   "cell_type": "markdown",
   "metadata": {},
   "source": [
    "# SQL Server Database Backups "
   ]
  },
  {
   "cell_type": "markdown",
   "metadata": {},
   "source": [
    "## What is the purpose of SQL Server Maintenance Plans?\n",
    "\n",
    "- To manage Azure Blob Storage\n",
    "- To automate routine maintenance tasks for SQL Server databases ***\n",
    "- To create virtual machines for development environments\n",
    "- To schedule backups for on-premises databases"
   ]
  },
  {
   "cell_type": "markdown",
   "metadata": {},
   "source": [
    "## Which of the following is an advantage of using Azure Blob Storage for storing backups?\n",
    "\n",
    "- Low durability and reliability\n",
    "- Limited scalability and high cost\n",
    "- Geo-redundancy and high availability ***\n",
    "- Limited access control and security\n"
   ]
  },
  {
   "cell_type": "markdown",
   "metadata": {},
   "source": [
    "## What is the purpose of using SQL Server credentials and access keys in backup scripts?\n",
    "\n",
    "- To execute T-SQL scripts\n",
    "- To provide remote access to the database\n",
    "- To encrypt data during backups\n",
    "- To authenticate and access Azure Blob Storage for storing backups ***"
   ]
  },
  {
   "cell_type": "markdown",
   "metadata": {},
   "source": [
    "## True or False: SQL Server Maintenance Plans can only be used for automating database backups.\n",
    "\n",
    "- True\n",
    "- False ***"
   ]
  },
  {
   "cell_type": "markdown",
   "metadata": {},
   "source": [
    "## What is the key difference between a full backup and a differential backup in an SQL Database?\n",
    "\n",
    "- A full backup captures all changes made since the last full backup, while a differential backup captures changes since the last transaction log backup\n",
    "- A full backup captures changes since the last differential backup, while a differential backup captures changes since the last full backup\n",
    "- A full backup includes all database objects and data, while a differential backup includes only the changes made to the database since the last full backup ***\n",
    "- A full backup is stored in Azure Blob Storage, while a differential backup is stored locally on the SQL Server"
   ]
  },
  {
   "cell_type": "markdown",
   "metadata": {},
   "source": [
    "## Why is it essential to perform regular backups for your databases?\n",
    "\n",
    "- Regular backups ensure that your databases are always running optimally and at peak performance\n",
    "- Regular backups provide a way to transfer your databases to new servers or locations easily\n",
    "- Regular backups safeguard against data loss and provide a means for restoring databases in case of hardware failures, human errors, or disasters ***\n",
    "- Regular backups allow you to archive old data, freeing up storage space for new data"
   ]
  },
  {
   "cell_type": "markdown",
   "metadata": {},
   "source": [
    "## What factors should be considered when scheduling backup times for databases?\n",
    "\n",
    "- The time of day when the database has the highest user activity to ensure optimal performance\n",
    "- The time when the database is least active to minimize the impact on user operations ***\n",
    "- The time when the SQL Server has the highest CPU and memory utilization to optimize backup speed\n",
    "- The time when the SQL Server Agent job scheduler is least busy to reduce competition for resources "
   ]
  }
 ],
 "metadata": {
  "language_info": {
   "name": "python"
  },
  "orig_nbformat": 4
 },
 "nbformat": 4,
 "nbformat_minor": 2
}
