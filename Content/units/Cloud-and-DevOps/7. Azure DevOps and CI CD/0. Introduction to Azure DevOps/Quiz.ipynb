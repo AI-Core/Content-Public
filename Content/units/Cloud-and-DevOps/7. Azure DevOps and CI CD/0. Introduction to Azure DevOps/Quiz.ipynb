{
 "cells": [
  {
   "cell_type": "markdown",
   "metadata": {},
   "source": [
    "# Introduction to Azure DevOps"
   ]
  },
  {
   "cell_type": "markdown",
   "metadata": {},
   "source": [
    "## Which of the following is NOT one of the key components of Azure DevOps?\n",
    "\n",
    "- Pipelines\n",
    "- Dashboards ***\n",
    "- Test Plans\n",
    "- Repos"
   ]
  },
  {
   "cell_type": "markdown",
   "metadata": {},
   "source": [
    "## Which Azure DevOps component is primarily used for tracking and managing work items, such as user stories and tasks?\n",
    "\n",
    "- Repos\n",
    "- Pipelines\n",
    "- Boards ***\n",
    "- Artifacts"
   ]
  },
  {
   "cell_type": "markdown",
   "metadata": {},
   "source": [
    "## True or False: Customization of project settings and workflows is not possible in Azure DevOps, as it follows a strict, predefined structure.\n",
    "\n",
    "- True\n",
    "- False ***"
   ]
  },
  {
   "cell_type": "markdown",
   "metadata": {},
   "source": [
    "## True or False: In Azure DevOps, version control is primarily handled by the Test Plans component.\n",
    "\n",
    "- True\n",
    "- False ***"
   ]
  },
  {
   "cell_type": "markdown",
   "metadata": {},
   "source": [
    "## What is the role of a service principal in Azure DevOps when setting up service connections for Azure resources?\n",
    "\n",
    "- It defines the project's overall vision and strategy\n",
    "- It manages access control for Azure DevOps\n",
    "- It provides secure authentication for automated access to Azure resources ***\n",
    "- It tracks the progress of work items in the project"
   ]
  },
  {
   "cell_type": "markdown",
   "metadata": {},
   "source": [
    "## Why is access control and permission management important in Azure DevOps?\n",
    "\n",
    "- It ensures that only one team can work on a project at a time\n",
    "- It prevents any changes to the project's code\n",
    "- It ensures that the right individuals or teams have the appropriate level of access to project resources and Azure connections ***\n",
    "- It speeds up the deployment process"
   ]
  },
  {
   "cell_type": "markdown",
   "metadata": {},
   "source": [
    "## Which Azure DevOps component focuses on managing version control and supports Git and Team Foundation Version Control (TFVC) as version control systems?\n",
    "\n",
    "- Pipelines\n",
    "- Repos ***\n",
    "- Boards\n",
    "- Test Plans"
   ]
  }
 ],
 "metadata": {
  "language_info": {
   "name": "python"
  },
  "orig_nbformat": 4
 },
 "nbformat": 4,
 "nbformat_minor": 2
}
