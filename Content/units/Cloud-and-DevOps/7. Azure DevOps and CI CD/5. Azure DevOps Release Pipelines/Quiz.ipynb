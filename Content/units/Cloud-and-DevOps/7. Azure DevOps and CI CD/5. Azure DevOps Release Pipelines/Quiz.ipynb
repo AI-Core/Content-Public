{
 "cells": [
  {
   "cell_type": "markdown",
   "metadata": {},
   "source": [
    "# Azure DevOps Release Pipelines"
   ]
  },
  {
   "cell_type": "markdown",
   "metadata": {},
   "source": [
    "## True or False: Release Pipelines in Azure DevOps are responsible for automating the building and testing of code.\n",
    "\n",
    "- True\n",
    "- False ***"
   ]
  },
  {
   "cell_type": "markdown",
   "metadata": {},
   "source": [
    "## True or False: Release Pipelines are typically used without any integration with Continuous Integration (CI) processes.\n",
    "\n",
    "- True\n",
    "- False ***"
   ]
  },
  {
   "cell_type": "markdown",
   "metadata": {},
   "source": [
    "## What is the primary purpose of Release Pipelines in Azure DevOps?\n",
    "\n",
    "- Building and testing code\n",
    "- Automating deployment processes ***\n",
    "- Managing source code\n",
    "- Handling infrastructure provisioning\n"
   ]
  },
  {
   "cell_type": "markdown",
   "metadata": {},
   "source": [
    "## What is the primary purpose of package feeds in Azure DevOps Release Pipelines?\n",
    "\n",
    "- Storing source code\n",
    "- Managing deployment tasks\n",
    "- Distributing libraries and frameworks ***\n",
    "- Hosting build agents"
   ]
  },
  {
   "cell_type": "markdown",
   "metadata": {},
   "source": [
    "## When might you need to configure references to external artifacts in a Release Pipeline?\n",
    "\n",
    "- Only when deploying applications to Azure resources\n",
    "- When deploying applications with no external dependencies\n",
    "- When your application relies on external sources or services ***\n",
    "- Only when using self-hosted agents"
   ]
  },
  {
   "cell_type": "markdown",
   "metadata": {},
   "source": [
    "## True or False: Build artifacts in Release Pipelines can include Docker images, compiled code, and installation packages.\n",
    "\n",
    "- True ***\n",
    "- False"
   ]
  }
 ],
 "metadata": {
  "language_info": {
   "name": "python"
  },
  "orig_nbformat": 4
 },
 "nbformat": 4,
 "nbformat_minor": 2
}
