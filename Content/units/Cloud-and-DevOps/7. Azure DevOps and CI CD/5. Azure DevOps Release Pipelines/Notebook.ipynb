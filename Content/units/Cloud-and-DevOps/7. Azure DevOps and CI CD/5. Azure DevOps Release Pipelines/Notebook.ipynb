{
 "cells": [
  {
   "cell_type": "markdown",
   "metadata": {},
   "source": [
    "# Azure DevOps Release Pipelines\n",
    "\n",
    "> *Azure DevOps Release Pipelines* are the bridge between your application development and its deployment to different environments. They are a series of automated steps and processes designed to facilitate the seamless deployment of your application to different target environments. "
   ]
  },
  {
   "cell_type": "markdown",
   "metadata": {},
   "source": [
    "## Release Pipelines and CI/CD\n",
    "\n",
    "In a DevOps workflow, Continuous Integration is the first step in the software delivery pipeline. It focuses on automating the building, testing, and integration of code as soon as changes are committed to version control. We have seen in the previous lesson that **Azure DevOps Build Pipelines** are a core element of CI pipeline.\n",
    "\n",
    "Continuous Deployment extends the CI process by automating the deployment of code to different environments. The CD pipeline takes over when CI confirms that the code is ready for production. Release Pipelines are the orchestrators of the deployment process. They coordinate the movement of code through various stages, aligning with the principles of CI/CD.\n",
    "\n",
    "The benefits of automating the deployment process include:\n",
    "\n",
    "- **Consistency**: When deployments are automated, you can rely on consistent processes and outcomes. Human error is minimized, and each deployment adheres to a predefined set of steps, resulting in uniform releases.\n",
    "\n",
    "- **Speed**: Automation accelerates the delivery of software updates. It means your applications can reach your end-users faster, keeping them engaged with the latest features and bug fixes.\n",
    "\n",
    "- **Reliability**: Automation doesn't just speed up the process; it makes it more reliable. Your deployment process becomes predictable, reducing the risk of unexpected failures and minimizing downtime.\n",
    "\n",
    "- **Rollback Capability**: Automated deployment pipelines come with the safety net of rollback capabilities. If an issue arises during deployment, you can quickly revert to a previous, stable version, ensuring your users aren't affected."
   ]
  },
  {
   "cell_type": "markdown",
   "metadata": {},
   "source": [
    "## Azure DevOps Artifacts in Release Pipelines\n",
    "\n",
    "*Artifacts* serve as building blocks for deploying your application to different environments. They play a pivotal role in the overall CI/CD process, acting as the intermediary between the build and deployment phases.\n",
    "\n",
    "### Build Artifacts\n",
    "\n",
    "*Build artifacts* are the most common type of artifacts used in release pipelines. These are the outcomes of the build process, generated when the code is compiled, tested, and packaged. Examples of build artifacts include:\n",
    "\n",
    "- **Docker Images**: If you're containerizing your application, a Docker image is a typical build artifact. It contains your application and its dependencies, providing a consistent and isolated environment for deployment.\n",
    "\n",
    "- **Compiled Code**: For applications that are not containerized, compiled code or binaries are common build artifacts. These are the executable files or libraries that can be deployed to target environments.\n",
    "\n",
    "- **Installation Packages**: In scenarios where your application needs to be installed on a server, build artifacts may include installation packages that simplify the deployment process\n",
    "\n",
    "In your release pipeline, you'll specify which build artifacts to use for deployment. These artifacts should be well-tested and ready for promotion to various stages, ensuring consistency and reliability in the deployment process. \n",
    "\n",
    "While they are powerful components of Azure DevOps, they are not mandatory to use in your Build/Release Pipelines. For example, you might have a Build Pipeline that builds a Docker image and then pushes it to Docker Hub. In this case, you won't need to create a build artifact, as the Release Pipeline can directly pull the image from Docker Hub instead, thus relying on an external artifact, which we will cover in the next section.\n",
    "\n",
    "### Package Feeds\n",
    "\n",
    "Azure DevOps provides package feeds to manage and distribute various types of packages, including libraries, frameworks, and modules. Package feeds ensure that dependencies and components your application relies on are readily available during deployment. By referencing these feeds, your release pipeline can retrieve and include the necessary packages in the deployment process. This reduces the risk of compatibility issues and ensures that the correct versions are deployed.\n",
    "\n",
    "### External Artifacts\n",
    "\n",
    "Sometimes, your application may rely on external sources or services that are not part of your Azure DevOps environment. External artifacts are references to these sources and are critical for managing deployments that involve external dependencies. Examples of external artifacts include:\n",
    "\n",
    "- **Container Registries**: If your application relies on container images hosted in external container registries (e.g., Docker Hub), you would set up references to these external container repositories in your release pipeline\n",
    "\n",
    "- **GitHub Repositories**: For source code, libraries, or other resources hosted on GitHub, you can configure references to GitHub repositories in your release pipeline\n",
    "\n",
    "By specifying these external artifacts in your release pipeline, you ensure that the necessary external resources are accessible and integrated into your deployment process, maintaining a seamless and efficient workflow.\n",
    "\n",
    "> In addition to artifacts, Release Pipelines include all the other components that Build Pipelines offer, ensuring a comprehensive approach to your CI/CD pipeline."
   ]
  },
  {
   "cell_type": "markdown",
   "metadata": {},
   "source": [
    "## Setting Up a Release Pipeline\n",
    "\n",
    "In this section, we will walk you through the process of creating and configuring a Release Pipeline in Azure DevOps, focusing on deploying an example application to an AKS cluster. We will build upon the example from the Build Pipeline lesson, so make sure to follow along that hands-on before.\n",
    "\n",
    "> > Remember, as mentioned in the previous lesson you won't have the necessary computer power access to run pipelines right now, but this will be provided to you when you reach the specialization project, where you will have to set up your own Azure DevOps Pipeline. So make sure to understand the provided example, but you don't need to replicate this example now.\n",
    "\n",
    "### Step 1: Navigate to Azure DevOps and Access your Pipeline\n",
    "\n",
    "1. Sign in with your Azure DevOps accounts credentials. After signing in, you'll be taken to the Azure DevOps dashboard.\n",
    "\n",
    "2. To initiate the creation of a Release Pipeline, select the project where you have previously set up the Build Pipeline\n",
    "\n",
    "### Step 2: Expand Your Pipeline with Release Stages\n",
    "\n",
    "Release stages are a crucial part of the deployment process. Here's how you can extend your pipeline with release stages:\n",
    "\n",
    "1. Open your existing pipeline and click on the **Edit** button to start implementing the release task. In this hands-on guide, we will set up a Release Pipeline that deploys our example application to an AKS cluster. The repository of the application used here already contains the necessary Kubernetes deployment manifest. We only need to apply these to the AKS cluster to deploy the sample application.\n",
    "\n",
    "2. In the task search bar, look for the **Deploy to Kubernetes** task. This task enables interaction with your AKS cluster using `kubectl` and provides the essential details for deployment. It's worth noting that alongside deployment-specific tasks, there's also a general `kubectl `task available. The `kubectl` task allows you to execute any type of `kubectl` commands, including deploying, scaling, monitoring, and performing maintenance tasks.\n",
    "\n",
    "### Step 3: Configure the **Deploy to Kubernetes** task\n",
    "\n",
    "In this step, we will configure the **Deploy to Kubernetes** task to enable the deployment of our example applications to the AKS cluster. This task allows you to specify the necessary details for the deployment, including your Azure subscription, resource group, Kubernetes cluster, and Kubernetes deployment manifests.\n",
    "\n",
    "In the **Deploy to Kubernetes** task, you'll need to specify the following information:\n",
    "\n",
    "  - **Action**: Select the appropriate `kubectl` action, which is `deploy` in this case. This action tells the task what operation to perform on the Kubernetes cluster.\n",
    "\n",
    "  - **Connection Type**: Choose **Azure Resource Manager** as the connection type. This option is selected because we are dealing with an AKS cluster, which is an Azure resource. To perform this step you should already have a Service Connection to AKS setup within your Azure DevOps project.\n",
    "\n",
    "  - **Azure Subscription**: Select the Azure subscription associated with your AKS cluster. This ensures that the task has the necessary permissions to interact with the Azure resource.\n",
    "\n",
    "  - **Azure Resource Group**: Specify the Azure resource group where your AKS cluster is located. This defines the scope of the operation.\n",
    "\n",
    "  - **Kubernetes Cluster**: Enter the name of your AKS cluster. This is the target cluster where your application will be deployed.\n",
    "\n",
    "  - **Manifests Path**: Provide the path to the Kubernetes deployment manifests that describe your application. These manifests contain configuration details for your application's deployment, such as deployment, service, and ingress resources. If the manifest is located in the same directory as the CI/CD pipeline (e.g. root directory of the repository), you can simply reference the manifest file by its name here. However, if the manifest file is in a different location, make sure to provide the correct path followed by the name of the manifest file.\n",
    "\n",
    "The task utilizes this information to interact with your AKS cluster, apply the specified manifests, and deploy your application to the cluster. Depending on your deployment requirements, you can further configure the task by specifying optional settings like namespace, container registry credentials, and Helm charts if applicable.\n",
    "\n",
    "To save your configuration updates, you should click **Add**. This will add the deployment task to your existing pipeline, and you should see a similar set of steps:\n",
    "\n",
    "<p align=center> <img src=images/DeploymentTask.png width=800 height=300> </p>"
   ]
  },
  {
   "cell_type": "markdown",
   "metadata": {},
   "source": [
    "### Step 4: Running and Verifying Your Azure DevOps Build Pipeline\n",
    "\n",
    "After configuring your Azure DevOps Release Pipeline to deploy your application to an AKS cluster, it's essential to run the pipeline and ensure that it performs as expected.\n",
    "\n",
    "To initiate the deployment process manually, click the **Run** button. A **Run Pipeline** window will appear. The **Branch** dropdown menu allows you to select the branch from which the pipeline will be triggered. By default, it might show the branch specified in your pipeline trigger configuration (e.g., `main`).\n",
    "\n",
    "You can also specify a commit hash to trigger the pipeline from a specific commit in the selected branch. This can be useful when you want to re-run the pipeline for a particular commit. Here, we will leave this empty.\n",
    "\n",
    "After configuring the options as needed, click the **Run** button to start the pipeline. The pipeline execution will start, and you can monitor its progress in real-time. \n",
    "\n",
    "The tasks you've defined in the pipeline, such as building the Docker image and pushing it to Docker Hub, will be executed in sequence. You can monitor these tasks, by clicking on the **Job** button.\n",
    "\n",
    "<p align=center> <img src=images/MonitorJobRun.png width=800 height=400> </p>\n",
    "\n",
    "You will be redirected to a window, where you will a list of jobs that are part of your pipeline. Each job represents a set of tasks to be executed.\n",
    "\n",
    "<p align=center> <img src=images/JobSteps.png width=800 height=400> </p>\n",
    "\n",
    "Once the pipeline run is completed, review the pipeline logs, which can be found in the **Jobs** section to check for any errors or issues during the build and push tasks. If the job was successful you should see the job and all its associated steps green ticked, indicating each step was successful.\n",
    "\n",
    "<p align=center> <img src=images/SuccessfulJob.png width=800 height=400> </p>\n"
   ]
  },
  {
   "cell_type": "markdown",
   "metadata": {},
   "source": [
    "### Step 5: Check Application Deployment on AKS\n",
    "\n",
    "Once the job has been successfully executed, it's important to verify whether the application has been correctly deployed to the AKS cluster and is running as expected. \n",
    "\n",
    "Use the `kubectl get pods` command to monitor the status of your pods. Initially, you might observe the status as `ContainerCreating`, but it should transition to `Running` over time. The duration of this transition may vary depending on your application's complexity.\n",
    "\n",
    "<p align=center> <img src=images/KubectlPods.png width=500 height=350> </p>\n",
    "\n",
    "To gain insight into your application's behavior and ensure it's running correctly, you can access the logs of a specific pod. Use the `kubectl logs` command followed by the pod name: `kubectl logs -f <pod name>`.\n",
    "\n",
    "<p align=center> <img src=images/KubectLogs.png width=600 height=300> </p>\n",
    "\n",
    "The log output should provide information about the application's activities. For instance, you might see messages that you included in your application's code. For the example application used above, we can see the following message: `\"Acquiring book list\"`, which was part of the application code, indicating the application is working as expected.\n",
    "\n",
    "By following these steps, you can successfully configure and execute a Release Pipeline that automates the deployment of any application to an AKS cluster. Here we have looked at an example application, but the steps are extensible to any, you just need to make sure you have the correct Kubernetes manifests. You've also learned how to verify the deployment and monitor the application's behavior using `kubectl` commands, ensuring a reliable and efficient deployment process."
   ]
  },
  {
   "cell_type": "markdown",
   "metadata": {},
   "source": [
    "## Key Takeaways\n",
    "\n",
    "- Release Pipelines in Azure DevOps serve as a crucial component in the Continuous Integration and Continuous Deployment (CI/CD) process, facilitating the automated deployment of your applications to various target environments\n",
    "- Artifacts are the deployable units in Release Pipelines. They can be built from a build pipeline, sourced from external locations, or come from package feeds. Artifacts can form the basis for your deployment process.\n",
    "- **Deploy to Kubernetes** is a task that allows you to deploy applications to an Azure Kubernetes Service (AKS) cluster using Kubernetes command-line (`kubectl`) actions. It involves specifying essential details like the Azure subscription, resource group, Kubernetes cluster, and manifest files.\n",
    "- Verification and monitoring are critical steps in the deployment process. You can use `kubectl` commands to check the status of your pods and review application logs to ensure your application is running correctly."
   ]
  }
 ],
 "metadata": {
  "language_info": {
   "name": "python"
  }
 },
 "nbformat": 4,
 "nbformat_minor": 2
}
