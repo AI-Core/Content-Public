{
 "cells": [
  {
   "cell_type": "markdown",
   "metadata": {},
   "source": [
    "# Azure DevOps Build Pipelines"
   ]
  },
  {
   "cell_type": "markdown",
   "metadata": {},
   "source": [
    "## True or False: Azure DevOps Build Pipelines allow you to automate the process of building Docker images and pushing them to container registries.\n",
    "\n",
    "- True ***\n",
    "- False"
   ]
  },
  {
   "cell_type": "markdown",
   "metadata": {},
   "source": [
    "## True or False: Azure DevOps Build Pipelines are only triggered by code commits, and manual triggers are not supported.\n",
    "\n",
    "- True\n",
    "- False ***"
   ]
  },
  {
   "cell_type": "markdown",
   "metadata": {},
   "source": [
    "## What is the purpose of the `pool` section in a `YAML` pipeline configuration?\n",
    "\n",
    "- It defines the stages and steps of the pipeline\n",
    "- It specifies the virtual machine or container environment where pipeline tasks will run ***\n",
    "- It stores Docker Hub credentials securely\n",
    "- It triggers the pipeline based on code commits"
   ]
  },
  {
   "cell_type": "markdown",
   "metadata": {},
   "source": [
    "## In an Azure DevOps Build Pipeline `YAML` file, what does the `trigger` section specify?\n",
    "\n",
    "- The virtual machine where tasks will run\n",
    "- The source control repository for the pipeline\n",
    "- When the pipeline should run based on events ***\n",
    "- The Docker image used for building"
   ]
  },
  {
   "cell_type": "markdown",
   "metadata": {},
   "source": [
    "## In Azure DevOps, what is the purpose of the `steps` section in a build pipeline?\n",
    "\n",
    "- It defines the stages of the pipeline ***\n",
    "- It lists the steps for building the Docker image\n",
    "- It specifies the source code repository\n",
    "- It triggers pipeline runs"
   ]
  }
 ],
 "metadata": {
  "language_info": {
   "name": "python"
  },
  "orig_nbformat": 4
 },
 "nbformat": 4,
 "nbformat_minor": 2
}
