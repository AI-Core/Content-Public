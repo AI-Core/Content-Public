{
 "cells": [
  {
   "cell_type": "markdown",
   "metadata": {},
   "source": [
    "# Version Control in Azure DevOps"
   ]
  },
  {
   "cell_type": "markdown",
   "metadata": {},
   "source": [
    "## True or False: In Azure DevOps, you can define custom branch policies to enforce specific rules and quality checks before code can be merged into protected branches.\n",
    "\n",
    "- True ***\n",
    "- False"
   ]
  },
  {
   "cell_type": "markdown",
   "metadata": {},
   "source": [
    "## True or False: Branch policies in Azure DevOps can only be applied to the main branch, and not to feature or release branches.\n",
    "\n",
    "- True\n",
    "- False ***"
   ]
  },
  {
   "cell_type": "markdown",
   "metadata": {},
   "source": [
    "## Which of the following is NOT a common branch policy in Azure DevOps?\n",
    "\n",
    "- Work Item Association\n",
    "- Code Review\n",
    "- Delete Source Branch\n",
    "- Code Deletion ***"
   ]
  },
  {
   "cell_type": "markdown",
   "metadata": {},
   "source": [
    "## What happens if a code change fails to meet the branch policies set in Azure DevOps?\n",
    "\n",
    "- The code change is automatically merged\n",
    "- The code change is marked as approved\n",
    "- The code change cannot be merged until the issues are resolved ***\n",
    "- The branch policies are bypassed"
   ]
  },
  {
   "cell_type": "markdown",
   "metadata": {},
   "source": [
    "## Which level of access control in Azure DevOps is most granular and allows you to specify individual users and their permissions?\n",
    "\n",
    "- Project-level access control\n",
    "- Repository-level access control\n",
    "- Folder-level access control\n",
    "- Branch-level access control ***"
   ]
  },
  {
   "cell_type": "markdown",
   "metadata": {},
   "source": [
    "## True or False: Feature branching is a branching model that primarily consists of two main branches: master and develop, along with feature, release, and hotfix branches.\n",
    "\n",
    "- True\n",
    "- False ***"
   ]
  },
  {
   "cell_type": "markdown",
   "metadata": {},
   "source": [
    "## True or False: Release branches in the Gitflow model are used to develop new features and enhancements, isolated from the main development branch.\n",
    "\n",
    "- True \n",
    "- False ***"
   ]
  },
  {
   "cell_type": "markdown",
   "metadata": {},
   "source": [
    "## Which branching strategy is characterized by creating a new branch for each bug fix, feature, or task, and merging them back into the main branch upon completion?\n",
    "\n",
    "- Centralized Branching\n",
    "- Feature Branching ***\n",
    "- Trunk-Based Development\n",
    "- Gitflow"
   ]
  },
  {
   "cell_type": "markdown",
   "metadata": {},
   "source": [
    "## Which git branching strategy is characterized by a \"hotfix\" branch used to address critical issues in production while development on other branches continues?\n",
    "\n",
    "- Feature Branching\n",
    "- Release Branching\n",
    "- Gitflow ***\n",
    "- Centralized Branching"
   ]
  }
 ],
 "metadata": {
  "language_info": {
   "name": "python"
  },
  "orig_nbformat": 4
 },
 "nbformat": 4,
 "nbformat_minor": 2
}
