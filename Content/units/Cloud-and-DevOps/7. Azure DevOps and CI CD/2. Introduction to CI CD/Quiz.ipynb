{
 "cells": [
  {
   "cell_type": "markdown",
   "metadata": {},
   "source": [
    "# Introduction to CI/CD"
   ]
  },
  {
   "cell_type": "markdown",
   "metadata": {},
   "source": [
    "## True or False: Continuous Integration (CI) automates the deployment process to production or staging environments.\n",
    "\n",
    "- True\n",
    "- False ***"
   ]
  },
  {
   "cell_type": "markdown",
   "metadata": {},
   "source": [
    "## True or False: CI/CD reduces the risk of catastrophic failures by allowing for smaller, more manageable changes.\n",
    "\n",
    "- True ***\n",
    "- False"
   ]
  },
  {
   "cell_type": "markdown",
   "metadata": {},
   "source": [
    "## Which consideration is crucial when selecting a CI/CD tool or platform for your project?\n",
    "\n",
    "- The popularity of the tool\n",
    "- Its compatibility with all programming languages\n",
    "- Compliance with GDPR regulations\n",
    "- Alignment with project requirements and existing technology stack ***"
   ]
  },
  {
   "cell_type": "markdown",
   "metadata": {},
   "source": [
    "## Which CI/CD component is responsible for deployment to end-users and is the final stage in the pipeline?\n",
    "\n",
    "- Staging Environment\n",
    "- Continuous Integration (CI)\n",
    "- Continuous Deployment (CD) ***\n",
    "- Versioned Artifacts"
   ]
  },
  {
   "cell_type": "markdown",
   "metadata": {},
   "source": [
    "## What is the primary goal of frequent small commits in CI/CD?\n",
    "\n",
    "- To introduce complex issues into the codebase\n",
    "- To reduce the number of code changes\n",
    "- To make it easier to manage and identify issues in code changes ***\n",
    "- To slow down the software development process"
   ]
  },
  {
   "cell_type": "markdown",
   "metadata": {},
   "source": [
    "## What is the fundamental goal of continuous integration (CI) in software development?\n",
    "\n",
    "- Automating deployment to production\n",
    "- Running manual tests on code changes\n",
    "- Frequent integration of code changes into a shared repository ***\n",
    "- Reducing the need for version control"
   ]
  }
 ],
 "metadata": {
  "language_info": {
   "name": "python"
  },
  "orig_nbformat": 4
 },
 "nbformat": 4,
 "nbformat_minor": 2
}
