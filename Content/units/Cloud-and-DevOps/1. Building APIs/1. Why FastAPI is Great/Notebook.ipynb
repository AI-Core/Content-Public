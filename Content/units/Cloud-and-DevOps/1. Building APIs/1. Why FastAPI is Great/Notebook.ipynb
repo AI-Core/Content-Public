{
 "cells": [
  {
   "cell_type": "markdown",
   "metadata": {},
   "source": [
    "# Routing with FastAPI"
   ]
  },
  {
   "cell_type": "markdown",
   "metadata": {},
   "source": [
    "## Introduction"
   ]
  },
  {
   "cell_type": "markdown",
   "metadata": {},
   "source": [
    "Conventionally, when working on a project, the code is partitioned into smaller scripts to ensure organisation. In FastAPI, this can be achieved using Routers. As an example, consider a case where you add two GET responses to your API: one for a regular DOB request and another for supplying an icon to the tab on which you are working:"
   ]
  },
  {
   "cell_type": "code",
   "execution_count": null,
   "metadata": {},
   "outputs": [],
   "source": [
    "%%python\n",
    "import fastapi\n",
    "import uvicorn\n",
    "\n",
    "api = fastapi.FastAPI()\n",
    "\n",
    "@api.get('/')\n",
    "def index():\n",
    "    return 'Welcome to the celebrity DOB API!'\n",
    "\n",
    "@api.get('/api/dob')\n",
    "def dob():\n",
    "    return 'Some random DOB'\n",
    "    \n",
    "if __name__ == '__main__':\n",
    "    uvicorn.run(api, port=8008, host='127.0.0.1')"
   ]
  },
  {
   "cell_type": "markdown",
   "metadata": {},
   "source": [
    "To view the output, visit `http://127.0.0.1:8008/api/dob`.\n",
    "<p align=center><img src=images/Routing_1.png width=300></p>"
   ]
  },
  {
   "cell_type": "markdown",
   "metadata": {},
   "source": [
    "One approach for separating these functions would be having one script for the home page and another for additional pages (`/api/dob`):\n",
    "\n",
    "```\n",
    "root/\n",
    "│\n",
    "├── home.py\n",
    "├── api\n",
    "│   └── dob_api.py\n",
    "└── main.py\n",
    "```"
   ]
  },
  {
   "cell_type": "code",
   "execution_count": null,
   "metadata": {},
   "outputs": [],
   "source": [
    "# views/home.py\n",
    "\n",
    "import fastapi\n",
    "\n",
    "router = fastapi.APIRouter()\n",
    "\n",
    "\n",
    "@router.get('/')\n",
    "def index():\n",
    "    return 'Welcome to the celebrity DOB API!'\n"
   ]
  },
  {
   "cell_type": "code",
   "execution_count": null,
   "metadata": {},
   "outputs": [],
   "source": [
    "# api/dob_api.py\n",
    "\n",
    "import fastapi\n",
    "\n",
    "router = fastapi.APIRouter()\n",
    "\n",
    "@router.get('/api/dob')\n",
    "def dob():\n",
    "    return 'Some random DOB'"
   ]
  },
  {
   "cell_type": "code",
   "execution_count": null,
   "metadata": {},
   "outputs": [],
   "source": [
    "# main.py\n",
    "import fastapi\n",
    "import uvicorn\n",
    "import home\n",
    "\n",
    "from api import dob_api\n",
    "\n",
    "api = fastapi.FastAPI()\n",
    "\n",
    "\n",
    "def configure_routing():\n",
    "    api.include_router(home.router)\n",
    "    api.include_router(dob_api.router)\n",
    "\n",
    "\n",
    "if __name__ == '__main__':\n",
    "    configure_routing()\n",
    "    uvicorn.run(api, port=8000, host='127.0.0.1')\n"
   ]
  },
  {
   "cell_type": "markdown",
   "metadata": {},
   "source": [
    "Observe that in `home.py` and `api/dob_api.py`, we included `router = fastapi.APIRouter()`. As a result, all the files have a common node to search for all requests."
   ]
  },
  {
   "cell_type": "markdown",
   "metadata": {},
   "source": [
    "## Introducing the Pydantic Model"
   ]
  },
  {
   "cell_type": "markdown",
   "metadata": {},
   "source": [
    "APIs accept request parameters, and the Pydantic model is responsible for casting these parameters to the correct type. In the above exercise, your built API should accept the first name and last name as parameters. \n",
    "\n",
    "Pydantic allows you to create a class where each attribute can be cast to a specified data type."
   ]
  },
  {
   "cell_type": "code",
   "execution_count": null,
   "metadata": {},
   "outputs": [],
   "source": [
    "from pydantic import BaseModel\n",
    "from typing import Optional\n",
    "\n",
    "class Celebrity(BaseModel):\n",
    "    '''\n",
    "    This class gives some information about a celebrity. It is intended to be \n",
    "    used with the FastAPI example.\n",
    "\n",
    "    Attributes\n",
    "    ----------\n",
    "    first_name: str\n",
    "        The first name of the celebrity\n",
    "    last_name: str\n",
    "        The last name of the celebrity\n",
    "    city: bool\n",
    "        If True, the API will also return the city where the celebrity was born.\n",
    "    '''\n",
    "    first_name: str\n",
    "    last_name: str\n",
    "    city: bool = False\n",
    "\n",
    "uma_thurman = Celebrity(first_name='Uma', last_name='Thurman')    "
   ]
  },
  {
   "cell_type": "markdown",
   "metadata": {},
   "source": [
    "Now, we create another directory to store our models:\n",
    "\n",
    "```\n",
    "root/\n",
    "│\n",
    "├── home.py\n",
    "├── api\n",
    "│   └── dob_api.py\n",
    "├── models\n",
    "│   └── celebrities.py\n",
    "└── main.py\n",
    "```\n",
    "\n",
    "Thereafter, this Pydantic model can be employed in our FastAPI, as shown below:"
   ]
  },
  {
   "cell_type": "code",
   "execution_count": null,
   "metadata": {},
   "outputs": [],
   "source": [
    "# models/celebrities.py\n",
    "\n",
    "from pydantic import BaseModel\n",
    "from typing import Optional\n",
    "\n",
    "class Celebrity(BaseModel):\n",
    "    '''\n",
    "    This class gives some information about a celebrity. It is intended to be \n",
    "    used with the FastAPI example.\n",
    "\n",
    "    Attributes\n",
    "    ----------\n",
    "    first_name: str\n",
    "        The first name of the celebrity\n",
    "    last_name: str\n",
    "        The last name of the celebrity\n",
    "    city: bool\n",
    "        If True, the API will also return the city where the celebrity was born.\n",
    "    '''\n",
    "    first_name: str\n",
    "    last_name: str\n",
    "    city: bool = False"
   ]
  },
  {
   "cell_type": "code",
   "execution_count": null,
   "metadata": {},
   "outputs": [],
   "source": [
    "# api/dob_api.py\n",
    "\n",
    "import fastapi\n",
    "from fastapi import Depends\n",
    "\n",
    "from models.celebrities import Celebrity\n",
    "\n",
    "router = fastapi.APIRouter()\n",
    "\n",
    "\n",
    "@router.get('/api/dob/{first_name}')\n",
    "def dob(celebrity: Celebrity = Depends()):\n",
    "    full_name = f'{celebrity.first_name} {celebrity.last_name}'\n",
    "    if celebrity.city:\n",
    "        report = f'{full_name} was born a random day in a random city'\n",
    "    else:\n",
    "        report = f'{full_name} was born a random day'\n",
    "    return report\n",
    "\n"
   ]
  },
  {
   "cell_type": "markdown",
   "metadata": {},
   "source": [
    "Observe the `Depends` class in `celebrity`, used as an argument in `dob`. This tells the dob function that the variables it contains depend on an external class; therefore, it becomes aware that the attributes of the class are to be used as the query parameters.\n",
    "\n",
    "With this, the following URL [http://127.0.0.1:8008/api/dob/Uma?last_name=Thurman](http://127.0.0.1:8008/api/dob/Uma?last_name=Thurman) will return the following:\n",
    "\n",
    "<p align=center><img src=images/Routing_2.png width=400></p>"
   ]
  },
  {
   "cell_type": "markdown",
   "metadata": {},
   "source": [
    "Currently, the DOB API is not meeting expectations. Thus, we create the real function that will scrape the data on the celebrity and return the date through our API. The function containing this service will be in the `services` directory:\n",
    "\n",
    "```\n",
    "root/\n",
    "│\n",
    "├── home.py\n",
    "├── api\n",
    "│   └── dob_api.py\n",
    "├── models\n",
    "│   └── celebrities.py\n",
    "├── services\n",
    "│   └── dob_service.py\n",
    "└── main.py\n",
    "```"
   ]
  },
  {
   "cell_type": "code",
   "execution_count": null,
   "metadata": {},
   "outputs": [],
   "source": [
    "# services/dob_service.py\n",
    "import requests\n",
    "from bs4 import BeautifulSoup\n",
    "import json\n",
    "import re\n",
    "\n",
    "def get_dob(first_name: str, last_name: str, city: bool=False):\n",
    "    infobox_data = get_infobox(first_name, last_name)\n",
    "    if not infobox_data:\n",
    "        return None\n",
    "    birthday = infobox_data.find('span', {'class': 'bday'})\n",
    "\n",
    "    report = {'first name': first_name,\n",
    "              'last_name': last_name,\n",
    "              'Date of Birth': birthday.text}\n",
    "    if city:\n",
    "        birthplace = infobox_data.find('div', {'class': 'birthplace'})\n",
    "        report['City'] = birthplace.text\n",
    "\n",
    "    return report\n",
    "\n",
    "def get_infobox(first_name: str, last_name: str):\n",
    "    r = requests.get(f'https://en.wikipedia.org/wiki/{first_name}_{last_name}')\n",
    "    soup = BeautifulSoup(r.text, 'html.parser')\n",
    "    if soup.find_all('b', text=re.compile('Wikipedia does not have an article with this exact name')):\n",
    "        return None\n",
    "    celeb_infobox = soup.find('table', {'class': 'infobox biography vcard'})\n",
    "    return celeb_infobox.find('td', {'class': 'infobox-data'})"
   ]
  },
  {
   "cell_type": "code",
   "execution_count": null,
   "metadata": {},
   "outputs": [],
   "source": [
    "# api/dob_api.py\n",
    "\n",
    "import fastapi\n",
    "from fastapi import Depends\n",
    "import json\n",
    "from models.celebrities import Celebrity\n",
    "# from services.dob_service import get_dob\n",
    "from services.dob_service_async import get_dob\n",
    "router = fastapi.APIRouter()\n",
    "\n",
    "@router.get('/api/dob/{first_name}')\n",
    "def dob(celebrity: Celebrity = Depends()):\n",
    "    report = get_dob(celebrity.first_name, celebrity.last_name, celebrity.city)\n",
    "    return fastapi.Response(content=json.dumps(report),\n",
    "                            media_type='application/json')"
   ]
  },
  {
   "cell_type": "markdown",
   "metadata": {},
   "source": [
    "If you visit the following URL [http://127.0.0.1:8008/api/dob/Uma?last_name=Thurman&city=True](http://127.0.0.1:8008/api/dob/Uma?last_name=Thurman&city=True), you will obtain a real API response.\n",
    "<p align=center><img src=images/Routing_3.png width=500></p>"
   ]
  },
  {
   "cell_type": "markdown",
   "metadata": {},
   "source": [
    "Further, the requests library can be employed to retrieve the uploaded JSON object and guarantee that everything works properly."
   ]
  },
  {
   "cell_type": "code",
   "execution_count": null,
   "metadata": {},
   "outputs": [
    {
     "data": {
      "text/plain": [
       "{'First name': 'Uma',\n",
       " 'Last_name': 'Thurman',\n",
       " 'Date of Birth': '1970-04-29',\n",
       " 'City': 'Boston, Massachusetts, U.S.'}"
      ]
     },
     "metadata": {},
     "output_type": "display_data"
    }
   ],
   "source": [
    "requests.get('http://127.0.0.1:8008/api/dob/Uma?last_name=Thurman&city=True').json()"
   ]
  },
  {
   "cell_type": "markdown",
   "metadata": {},
   "source": [
    "## Conclusion\n",
    "At this point, you should have a good understanding of\n",
    "- how to route API requests to a single node called in main. \n",
    "- how to use Pydantic Model in FastAPI. \n",
    "    "
   ]
  }
 ],
 "metadata": {
  "language_info": {
   "name": "python"
  },
  "orig_nbformat": 4
 },
 "nbformat": 4,
 "nbformat_minor": 2
}
