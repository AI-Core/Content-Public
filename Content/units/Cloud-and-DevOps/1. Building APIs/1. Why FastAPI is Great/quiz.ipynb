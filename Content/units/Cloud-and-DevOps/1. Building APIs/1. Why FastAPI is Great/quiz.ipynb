{
 "cells": [
  {
   "attachments": {},
   "cell_type": "markdown",
   "metadata": {},
   "source": [
    "# Why `FastAPI` is Great?"
   ]
  },
  {
   "attachments": {},
   "cell_type": "markdown",
   "metadata": {},
   "source": [
    "## What is true about routing with `FastAPI`? Select all that apply.\n",
    "\n",
    "- Routing can be used to split your API code into different Python scripts ***\n",
    "- Routing can be implemented using the `APIRouter` class in the main API script ***\n",
    "- Routing can make it more difficult to manage your project but is useful to create different request paths\n",
    "- Routing is difficult to implement in `FastAPI`\n",
    "- You always have to implement the `APIRouter` class"
   ]
  },
  {
   "attachments": {},
   "cell_type": "markdown",
   "metadata": {},
   "source": [
    "## What is true about the `FastAPI` `Pydantic` model? Select all that apply.\n",
    "\n",
    "- Pydantic is responsible for making sure that the parameters of your function/methods are of the correct type ***\n",
    "- You can use `Pydantic` to create a class which enforces the correct parameter types ***\n",
    "- The `Depends` class tells your function/method that the variables it contains depend on an external class ***\n",
    "- You always need to implement your parameters to your function/method as a `Pydantic` model \n",
    "- `Pydantic` ensures that your method/function returns status codes from the API"
   ]
  },
  {
   "attachments": {},
   "cell_type": "markdown",
   "metadata": {},
   "source": [
    "## What is true about the following code? Select all that apply.\n",
    "\n",
    "```python\n",
    "@router.get('/api/dob/{first_name}')\n",
    "def dob(celebrity: Celebrity = Depends()):\n",
    "    full_name = f'{celebrity.first_name} {celebrity.last_name}'\n",
    "    if celebrity.city:\n",
    "        report = f'{full_name} was born on a random day in a random city'\n",
    "    else:\n",
    "        report = f'{full_name} was born on a random day'\n",
    "    return report\n",
    "\n",
    "```\n",
    "- `celebrity: Celebrity = Depends()` means that this method has `celebrity` as a parameter which is of the `Celebrity` class type ***\n",
    "- `f'{celebrity.first_name} {celebrity.last_name}'` implies that the `Celebrity` class has the attributes `first_name` and `last_name` ***\n",
    "- The method can be accessed specifically from `<endpoint>/api/dob` without additional parameters\n",
    "- If the `celebrity` object passed to the function has a city then the function will return `<full_name> was born on a random day!`\n",
    "- This function implements a POST request method\n"
   ]
  }
 ],
 "metadata": {
  "language_info": {
   "name": "python"
  },
  "orig_nbformat": 4
 },
 "nbformat": 4,
 "nbformat_minor": 2
}
