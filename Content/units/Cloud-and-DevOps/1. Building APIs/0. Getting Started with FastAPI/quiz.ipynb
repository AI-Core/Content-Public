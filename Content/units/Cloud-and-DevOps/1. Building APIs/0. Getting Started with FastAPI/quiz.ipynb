{
 "cells": [
  {
   "attachments": {},
   "cell_type": "markdown",
   "metadata": {},
   "source": [
    "# Getting Started with FastAPI"
   ]
  },
  {
   "attachments": {},
   "cell_type": "markdown",
   "metadata": {},
   "source": [
    "## What are some of the advantages of FastAPI? Select all that apply.\n",
    "\n",
    "- Fast to code: FastAPI performs most the laborious coding tasks ***\n",
    "- Requests can be processed asynchronously: Multiple requests can be sent to the FastAPI server while it processing the previous requests. New requests can be sent without waiting for completion of the previous requests. ***\n",
    "- Integrates pytest: APIs can be easily tested before being deployed ***\n",
    "- Available in all programming languages: Can be used in any language\n",
    "- Easily integrates with PostgreSQL"
   ]
  },
  {
   "attachments": {},
   "cell_type": "markdown",
   "metadata": {},
   "source": [
    "## What is correct about the following address structure? Select all that apply.\n",
    "\n",
    "\n",
    "`https://api.github.com/users/ai-core/repos?sort=pushed&direction=desc`\n",
    "\n",
    "\n",
    "\n",
    "- `https://api.github.com` is the endpoint ***\n",
    "- `/users/ai-core/repos` is the path ***\n",
    "- `sort=pushed&direction=desc` is the query parameters ***\n",
    "- `https://api.github.com` is the query parameters\n",
    "- `/users/ai-core/repos` is the endpoint\n",
    "- `sort=pushed&direction=desc` is the path"
   ]
  },
  {
   "attachments": {},
   "cell_type": "markdown",
   "metadata": {},
   "source": [
    "## What is true about the following code snippet? Select all that apply.\n",
    "\n",
    "```python\n",
    "\n",
    "import fastapi\n",
    "import uvicorn\n",
    "api = fastapi.FastAPI() \n",
    "\n",
    "@api.get('/test/calculate')\n",
    "def calculate(x, y):\n",
    "    return x + y\n",
    "\n",
    "uvicorn.run(api, port=8000, host='127.0.0.1')\n",
    "\n",
    "```\n",
    "- `@api.get('/test/calculate')` This statement defines `GET` method with the path `/test/calculate` ***\n",
    "- The API can be accessed at `localhost:8000` ***\n",
    "- The line `uvicorn.run(api, port=8000, host='127.0.0.1')` is not required it's an optional extra\n",
    "- You can specifically send a request to `localhost:8000` to calculate two numbers\n",
    "- `/test/calculate` defines the endpoint at which the request is received\n",
    "- Visiting `127.0.0.1:8000/test/calculate` is all that's required to return a response"
   ]
  },
  {
   "attachments": {},
   "cell_type": "markdown",
   "metadata": {},
   "source": [
    "## What is true about the following line of code? Select all that apply.\n",
    "\n",
    "``` python\n",
    "\n",
    "uvicorn.run(api, port=8000, host='127.0.0.1')\n",
    "```\n",
    "\n",
    "- Starts a web server so that requests can then be made to the API  ***\n",
    "- Works best when running the line in a Jupyter notebook\n",
    "- Starts a browser session that is accessible on IP address `127.0.0.1` and port `8000` \n",
    "- Required by FastAPI so you can start making requests through the browser ***\n",
    "- Runs a web server for a short period and then closes after a few seconds"
   ]
  },
  {
   "attachments": {},
   "cell_type": "markdown",
   "metadata": {},
   "source": [
    "## What is true about the following code? Select all that apply.\n",
    "\n",
    "``` python\n",
    "\n",
    "@api.get('/test/calculate')\n",
    "def calculate(x, y):\n",
    "    return x + y\n",
    "    \n",
    "```\n",
    "\n",
    "- Creates an API `GET` method using a Python decorator ***\n",
    "- Sets the path to use the method as `/test/calculate`, which requires two query parameters `x` and `y` ***\n",
    "- Sets the path to the API method but not the required query parameters\n",
    "- Create a `POST` request to calculate the sum of two numbers `x` and `y`\n",
    "- Can we called in a browser with `<endpoint>/test/calculate?x=10&y=20` ***\n",
    "- Will add `x` and `y` together as strings. \n"
   ]
  },
  {
   "attachments": {},
   "cell_type": "markdown",
   "metadata": {},
   "source": [
    "## What is true about the following code? Select all that apply.\n",
    "\n",
    "```python\n",
    "\n",
    "@api.post('/send/data')\n",
    "def process_data(x: int, y: int):\n",
    "    \n",
    "    if y == 0:\n",
    "        return fastapi.Response(content=json.dumps({\"error\" : \"y cannot be zero\"}),\n",
    "                                media_type='application/json',\n",
    "                                status_code=400)\n",
    "    return x / y\n",
    "```\n",
    "\n",
    "- This code creates a API `POST` method which will return the division of two numbers `x` and `y` ***\n",
    "- The code has inbuilt error checking: if `y=0` then a `400` response code will be returned from the API ***\n",
    "- You can send `y=0`, and `POST` request would work without an error message\n",
    "- `x: int, y: int` the `int` is here only to make the code more readable\n",
    "- The request needs to be sent with the name of the function, like `/send/data/process_data?x=10&y=20` "
   ]
  }
 ],
 "metadata": {
  "kernelspec": {
   "display_name": "base",
   "language": "python",
   "name": "python3"
  },
  "language_info": {
   "name": "python",
   "version": "3.10.9"
  },
  "orig_nbformat": 4,
  "vscode": {
   "interpreter": {
    "hash": "a2592652612463181e69ac003232387e3e9a99279aa6b168e76f5df16d5110f4"
   }
  }
 },
 "nbformat": 4,
 "nbformat_minor": 2
}
