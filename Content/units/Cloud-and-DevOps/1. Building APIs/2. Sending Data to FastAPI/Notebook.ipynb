{
 "cells": [
  {
   "attachments": {},
   "cell_type": "markdown",
   "metadata": {},
   "source": [
    "# Sending Data to FastAPI\n"
   ]
  },
  {
   "attachments": {},
   "cell_type": "markdown",
   "metadata": {},
   "source": [
    "## Motivation\n",
    "\n",
    "For many types of API query, it is necessary to send data to the API along with your request. Here are some examples of why you might need to send data to an API:\n",
    "\n",
    "- Make a `GET` request for some filtered subset of the data provided by the API (eg. listing all products in a specific category)\n",
    "- Make `POST` requests where you supply data to the API, for example when making a post on a social media website\n",
    "- Authenticating yourself to prove that you are able to access a specific service\n",
    "- Sending an image to the API of a machine learning model"
   ]
  },
  {
   "attachments": {},
   "cell_type": "markdown",
   "metadata": {},
   "source": [
    "## Sending Data via the Query String\n",
    "\n",
    "You can send individual parameters to your API via the URL query string. As previously discussed, the query parameters come after the endpoint URL, separated from it with a `?` symbol, and take the form of key-value pairs separated by ampersands (`&`):\n",
    "\n",
    "```\n",
    "my_example_api.com/this_query?parameter1=value1&parameter2=value2\n",
    "```\n",
    "\n",
    "The associated endpoint function then looks for matches between the supplied parameter keys and the named parameters in the function definition:"
   ]
  },
  {
   "cell_type": "code",
   "execution_count": null,
   "metadata": {},
   "outputs": [],
   "source": [
    "import fastapi\n",
    "import uvicorn\n",
    "\n",
    "api = fastapi.FastAPI()\n",
    "\n",
    "@api.get('/book/by_genre')\n",
    "def get_book_by_genre(genre: str):\n",
    "    # This function is looking for a query parameter called 'genre'\n",
    "    print(f'Getting books in genre: {genre}')\n"
   ]
  },
  {
   "attachments": {},
   "cell_type": "markdown",
   "metadata": {},
   "source": [
    "You can send a query to this endpoint using the following code:"
   ]
  },
  {
   "cell_type": "code",
   "execution_count": null,
   "metadata": {},
   "outputs": [],
   "source": [
    "import requests\n",
    "response = requests.get(\"http://127.0.0.1:8000/book/by_genre?genre=scifi\")"
   ]
  },
  {
   "attachments": {},
   "cell_type": "markdown",
   "metadata": {},
   "source": [
    "This will assign the string value `scifi` to the parameter `genre` in the function associated with the api decorator. The response will look like this:\n",
    "\n",
    "<div style=\"text-align:center\"><img src=\"images/booksingenre.gif\" width=800/></div>"
   ]
  },
  {
   "attachments": {},
   "cell_type": "markdown",
   "metadata": {},
   "source": [
    "## Sending Data via the Path:\n",
    "\n",
    "Another way to send values in an API request is via the URL path itself. You can define a variable inside braces `{}` in the URI path referenced in the API decorator. If this matches the name of a parameter in the associated function, then the value that appears at that part of the query will be passed to the function as an argument. \n",
    "\n",
    "For example, the function `get_book_by_ID` defined below is looking for an integer input parameter called `book_id`.  FastAPI knows to look for an argument to match this parameter in the location specified by `{book_id}`."
   ]
  },
  {
   "cell_type": "code",
   "execution_count": null,
   "metadata": {},
   "outputs": [],
   "source": [
    "import fastapi\n",
    "import uvicorn\n",
    "\n",
    "api = fastapi.FastAPI()\n",
    "\n",
    "@api.get('/book/by_id/{book_id}')\n",
    "def get_book_by_ID(book_id: int):\n",
    "    # This function is looking for a query parameter called 'genre'\n",
    "    print(f'Fetching book with id: {book_id}')"
   ]
  },
  {
   "attachments": {},
   "cell_type": "markdown",
   "metadata": {},
   "source": [
    "We can then send a book ID in the URL query as follows:"
   ]
  },
  {
   "cell_type": "code",
   "execution_count": null,
   "metadata": {},
   "outputs": [],
   "source": [
    "import requests\n",
    "response = requests.get(\"http://127.0.0.1:8000/book/by_id/1234\")"
   ]
  },
  {
   "attachments": {},
   "cell_type": "markdown",
   "metadata": {},
   "source": [
    "The response will look like this:\n",
    "\n",
    "<div style=\"text-align:center\"><img src=\"images/book_by_id.gif\" width=800/></div>\n",
    "\n"
   ]
  },
  {
   "attachments": {},
   "cell_type": "markdown",
   "metadata": {},
   "source": [
    "## Sending Data in the Request Body\n",
    "\n",
    "The third way to send data to an API is in the request body. The format here is to pass the endpoint URL, along with some value associated with the `data` keyword argument.\n",
    "\n",
    "Let's imagine we wanted to add a feature to our book shop API where we can add a new author to our database. We want to create a `POST` request endpoint and have it parse in a dictionary of key-value pairs representing the information fields we want to add for a given author.\n",
    "\n",
    "To send this information to the endpoint is easy. We just need to create a dictionary of the data we wish to add, and then serialise it into `JSON` format using the `json.dumps()` method, and pass it as the value associated with the `data` keyword argument in the request."
   ]
  },
  {
   "cell_type": "code",
   "execution_count": null,
   "metadata": {},
   "outputs": [],
   "source": [
    "import requests\n",
    "import json\n",
    "\n",
    "author_data = {'name': 'Isaac Asimov', 'genre': 'science fiction', 'author_id': 1234}\n",
    "\n",
    "response = requests.post(\"http://127.0.0.1:8000/author/new_author/\", data=json.dumps(author_data))"
   ]
  },
  {
   "attachments": {},
   "cell_type": "markdown",
   "metadata": {},
   "source": [
    "But how do we set up the API to interpret our input data here? By default, FastAPI will look for the input parameters to the function in the query string. To tell it to look for it in the request body instead, we need to define a class with a particular data format, and tell the function to expect an instance of that class as an input parameter. We will learn how to do this in the next section."
   ]
  },
  {
   "attachments": {},
   "cell_type": "markdown",
   "metadata": {},
   "source": [
    "## Introducing the `Pydantic` Model\n",
    "\n",
    "> `Pydantic` is a data validation library in Python that provides a way to validate that the incoming data structures are in the expected format. It enables you to define what data your application can receive, and `Pydantic` will ensure that incoming data corresponds to your model, taking care of validation and error handling.\n",
    "\n",
    "`Pydantic` models are built around `Pydantic`'s `BaseModel` class, and FastAPI looks for classes that inherit from this base class inside any endpoint's function definition. If it finds one, it will look for parameters in the query body. If it finds a match for the specification of that class inside the query body, it will pass the data in the body to the function input.\n",
    "\n",
    "To build your own data model, you can create a class that inherits from `BaseModel` and then specify your data structure within it. For example, we could create an `Author` class as follows:"
   ]
  },
  {
   "cell_type": "code",
   "execution_count": null,
   "metadata": {},
   "outputs": [],
   "source": [
    "from pydantic import BaseModel\n",
    "\n",
    "class Author(BaseModel):\n",
    "    name: str\n",
    "    genre: str = None\n",
    "    author_id: int\n",
    "    "
   ]
  },
  {
   "attachments": {},
   "cell_type": "markdown",
   "metadata": {},
   "source": [
    " We can now refer to this class in the function associated with our `.post(/author/new_author)` endpoint:"
   ]
  },
  {
   "cell_type": "code",
   "execution_count": null,
   "metadata": {},
   "outputs": [],
   "source": [
    "import fastapi\n",
    "import uvicorn\n",
    "\n",
    "api = fastapi.FastAPI()\n",
    "\n",
    "@api.post('/author/new_author')\n",
    "def create_new_author(author: Author):\n",
    "   print(f\"adding new author, name: {author.name}, id: {author.author_id}\")"
   ]
  },
  {
   "attachments": {},
   "cell_type": "markdown",
   "metadata": {},
   "source": [
    "FastAPI will look for some data that fits this model in the body of the request, and if it finds a match, it will pass the variable to the input of the function.\n",
    "\n",
    "<div style=\"text-align:center\"><img src=\"images/body.gif\" width=800/></div>"
   ]
  },
  {
   "attachments": {},
   "cell_type": "markdown",
   "metadata": {},
   "source": [
    "## Key Takeaways\n",
    "\n",
    "- You can send data along with an API request using query parameters, as part of the URL itself, or in the body of the query\n",
    "- If there is a match between the name of one of the query parameter keys and the name of a parameter in the associated function, FastAPI will pass the parameter to the function.\n",
    "- To pass data inside the query body, you use the `data` keyword\n",
    "- FastAPI will look for parameters in the query string by default\n",
    "- `Pydantic` is a Python module that allows you to validate the structure of incoming data\n",
    "- To get FastAPI to look in the query body, you need to define a class that inherits from the `Pydantic` `BaseModel` class\n"
   ]
  }
 ],
 "metadata": {
  "language_info": {
   "name": "python"
  }
 },
 "nbformat": 4,
 "nbformat_minor": 2
}
