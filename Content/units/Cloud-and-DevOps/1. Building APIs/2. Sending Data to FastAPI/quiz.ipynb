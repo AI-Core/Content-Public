{
 "cells": [
  {
   "attachments": {},
   "cell_type": "markdown",
   "metadata": {},
   "source": [
    "# Sending Data to `FastAPI`"
   ]
  },
  {
   "attachments": {},
   "cell_type": "markdown",
   "metadata": {},
   "source": [
    "## How would you correctly make a `GET` request using the following API method?\n",
    "\n",
    "```python\n",
    "@api.get('/products')\n",
    "def get_products(category: str, min_price: float):\n",
    "    product_data = {\n",
    "        \"product_category\" : category,\n",
    "        \"min_price\" : min_price\n",
    "    }\n",
    "    return product_data\n",
    "```\n",
    "- `requests.get(<endpoint>/products?category=camera&min_price=130)` ***\n",
    "- `requests.get(<endpoint>/products/category=camera&min_prices=130)`\n",
    "- `requests.get(<endpoint>/products/category/camera/min_price/130)`\n",
    "- `requests.get(<endpoint>/products/camera/130)`\n",
    " "
   ]
  },
  {
   "attachments": {},
   "cell_type": "markdown",
   "metadata": {},
   "source": [
    "## How would you use the code below to return the value `440`?\n",
    "\n",
    "```python\n",
    "@api.get('/products/{product_id}')\n",
    "def get_products(product_id: int):\n",
    "    print(product_id)\n",
    "    return \n",
    "```\n",
    "\n",
    "- `requests.get(<endpoint>/products/440)` ***\n",
    "- `requests.get(<endpoint>/products?product_id=440)`\n",
    "- `requests.get(<endpoint>/products/product_id=440)`\n",
    "- `requests.get(<endpoint>/products/product_id/440)`"
   ]
  },
  {
   "attachments": {},
   "cell_type": "markdown",
   "metadata": {},
   "source": [
    "## What is true about query strings? Select all that apply.\n",
    "\n",
    "- They are separated from the path by a question mark ***\n",
    "- They are separated from the path by an exclamation mark\n",
    "- Each parameter in the query string is separated by an ampersand (`&`) ***\n",
    "- You need to always have multiple parameters in a query string\n",
    "- `/product_id/411` is an example of a query string"
   ]
  },
  {
   "attachments": {},
   "cell_type": "markdown",
   "metadata": {},
   "source": [
    "## Below is an example of a `GET` method using a path parameter, what is true about it?\n",
    "\n",
    "```python\n",
    "@api.get('/path/{path_parameter}')\n",
    "def get(path_parameter: int):\n",
    "    print(path_parameter)\n",
    "    return \n",
    "\n",
    "```\n",
    "\n",
    "- To get this function to print `440` to the terminal it can be called with `requests.get(<endpoint>/path/440)` ***\n",
    "- To get this function to print `440` to the terminal it can be called with `requests.get(<endpoint>/path?path_parameter=440)`\n",
    "- The `path_parameter` can only be of `type string` \n",
    "- The `path_parameter` needs an equal sign in front of it when providing it in a request\n",
    "- `path_parameter` needs to be supplied in the query string\n"
   ]
  },
  {
   "attachments": {},
   "cell_type": "markdown",
   "metadata": {},
   "source": [
    "## What is true about sending data to the API in the request body? Select all that apply.\n",
    "\n",
    "- You can use the `data` keyword argument to send a dictionary of full of data in the requests body of a request ***\n",
    "- `FastAPI` uses custom classes to differentiate between a query string parameter and a request body ***\n",
    "- You don't need to serialise data into a string when sending it in the body of a request\n",
    "- When creating custom classes to send data in a request body. Attribute types of the class do not need to be defined\n",
    "- If a `FastAPI` function expects a response body and you don't provide one it will still run with request without returning an error response\n"
   ]
  },
  {
   "attachments": {},
   "cell_type": "markdown",
   "metadata": {},
   "source": [
    "## What is true about sending data with `FastAPI`? Select all that apply.\n",
    "\n",
    "- `FastAPI` only gives you the option of sending data using query strings \n",
    "- `FastAPI` needs a custom class to be defined when sending data with path parameters\n",
    "- `FastAPI` gives you the option of sending data with path parameters, query strings and in the request body ***\n",
    "- You can't define custom classes to send custom data in a response body\n",
    "- `FastAPI` leverages Pydantic to ensure custom data is correct in the request body ***\n",
    "- With `FastAPI` it automatically infers the type of data being sent as a query parameter even if is not of type string"
   ]
  }
 ],
 "metadata": {
  "kernelspec": {
   "display_name": "base",
   "language": "python",
   "name": "python3"
  },
  "language_info": {
   "name": "python",
   "version": "3.10.9"
  },
  "orig_nbformat": 4,
  "vscode": {
   "interpreter": {
    "hash": "a2592652612463181e69ac003232387e3e9a99279aa6b168e76f5df16d5110f4"
   }
  }
 },
 "nbformat": 4,
 "nbformat_minor": 2
}
