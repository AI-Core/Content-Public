{
 "cells": [
  {
   "attachments": {},
   "cell_type": "markdown",
   "metadata": {},
   "source": [
    "# Sending Data to `FastAPI`"
   ]
  },
  {
   "attachments": {},
   "cell_type": "markdown",
   "metadata": {},
   "source": [
    "## How would you correctly make a `GET` request using the following API method?\n",
    "\n",
    "```python\n",
    "\n",
    "@api.get('/products')\n",
    "def get_products(category: str, min_price: float):\n",
    "    product_data = {\n",
    "        \"product_category\" : category,\n",
    "        \"min_price\" : min_price\n",
    "    }\n",
    "    return product_data\n",
    "```\n",
    "- `requests.get(<endpoint>/products?category=camera&min_price=130)` ***\n",
    "- `requests.get(<endpoint>/products/category=camera&min_prices=130)`\n",
    "- `requests.get(<endpoint>/products/category/camera/min_price/130)`\n",
    "- `requests.get(<endpoint>/products/camera/130)`\n",
    " "
   ]
  },
  {
   "attachments": {},
   "cell_type": "markdown",
   "metadata": {},
   "source": [
    "## How would you use the code below to return the value `440`?\n",
    "\n",
    "```python\n",
    "\n",
    "@api.get('/products/{product_id}')\n",
    "def get_products(product_id: int):\n",
    "    print(product_id)\n",
    "    return \n",
    "```\n",
    "\n",
    "- `requests.get(<endpoint>/products/440)` ***\n",
    "- `requests.get(<endpoint>/products?product_id=440)`\n",
    "- `requests.get(<endpoint>/products/product_id=440)`\n",
    "- `requests.get(<endpoint>/products/product_id/440)`"
   ]
  },
  {
   "attachments": {},
   "cell_type": "markdown",
   "metadata": {},
   "source": [
    "## What is true about query strings? Select all that apply.\n",
    "\n",
    "- They are separated from the path by a question mark ***\n",
    "- They are separated from the path by an exclamation mark\n",
    "- Each parameter in the query string is separated by an ampersand (`&`) ***\n",
    "- You need to always have multiple parameters in a query string\n",
    "- `/product_id/411` is an example of a query string"
   ]
  },
  {
   "attachments": {},
   "cell_type": "markdown",
   "metadata": {},
   "source": [
    "## Below is an example of a `GET` method using a path parameter, what is true about it?\n",
    "\n",
    "```python\n",
    "@api.get('/path/{path_parameter}')\n",
    "def get(path_parameter: int):\n",
    "    print(path_parameter)\n",
    "    return \n",
    "\n",
    "```\n",
    "\n",
    "- To get this function to print `440` to the terminal it can be called with `requests.get(<endpoint>/path/440)` ***\n",
    "- To get this function to print `440` to the terminal it can be called with `requests.get(<endpoint>/path?path_parameter=440)`\n",
    "- The `path_parameter` can only be of `type string` \n",
    "- The `path_parameter` needs an equal sign in front of it when providing it in a request\n",
    "- `path_parameter` needs to be supplied in the query string\n"
   ]
  },
  {
   "attachments": {},
   "cell_type": "markdown",
   "metadata": {},
   "source": [
    "## What is true about sending data to the API in the request body? Select all that apply.\n",
    "\n",
    "- You can use the `data` keyword argument to send a dictionary of full of data in the requests body of a request ***\n",
    "- `FastAPI` uses custom classes to differentiate between a query string parameter and a request body ***\n",
    "- You don't need to serialise data into a string when sending it in the body of a request\n",
    "- When creating custom classes to send data in a request body. Attribute types of the class do not need to be defined\n",
    "- If a `FastAPI` function expects a response body and you don't provide one it will still run with request without returning an error response\n"
   ]
  },
  {
   "attachments": {},
   "cell_type": "markdown",
   "metadata": {},
   "source": [
    "## What is true about sending data with `FastAPI`? Select all that apply.\n",
    "\n",
    "- `FastAPI` only gives you the option of sending data using query strings \n",
    "- `FastAPI` needs a custom class to be defined when sending data with path parameters\n",
    "- `FastAPI` gives you the option of sending data with path parameters, query strings and in the request body ***\n",
    "- You can't define custom classes to send custom data in a response body\n",
    "- `FastAPI` leverages Pydantic to ensure custom data is correct in the request body ***\n",
    "- With `FastAPI` it automatically infers the type of data being sent as a query parameter even if is not of type string"
   ]
  },
  {
   "attachments": {},
   "cell_type": "markdown",
   "metadata": {},
   "source": [
    "## What is true about the `FastAPI` `Pydantic` model? Select all that apply.\n",
    "\n",
    "- Pydantic is responsible for making sure that the parameters of your function/methods are of the correct type ***\n",
    "- You can use `Pydantic` to create a class which enforces the correct parameter types ***\n",
    "- The `Depends` class tells your function/method that the variables it contains depend on an external class ***\n",
    "- You always need to implement your parameters to your function/method as a `Pydantic` model \n",
    "- `Pydantic` ensures that your method/function returns status codes from the API"
   ]
  },
  {
   "attachments": {},
   "cell_type": "markdown",
   "metadata": {},
   "source": [
    "## When sending data to FastAPI as query parameters, which of the following is true ? Select all that apply.\n",
    "\n",
    "- Query parameters always exist as key-value pairs, of the format `key:value`\n",
    "- Query parameters always exist as key-value pairs, of the format `key=value` ***\n",
    "- Query parameters are separated by the `%` symbol\n",
    "- Query parameters are separated by the `&` symbol ***\n",
    "- The Query parameters are separated from the endpoint path by the `$` sign\n",
    "- The Query parameters are separated from the endpoint path by the `?` sign ***\n"
   ]
  },
  {
   "attachments": {},
   "cell_type": "markdown",
   "metadata": {},
   "source": [
    "## Look at the API endpoint below, and select the request that would successfully return the response `Getting books in genre: scifi`\n",
    "\n",
    "```python \n",
    "\n",
    "import fastapi\n",
    "import uvicorn\n",
    "\n",
    "api = fastapi.FastAPI()\n",
    "\n",
    "@api.get('/book/by_genre')\n",
    "def get_book_by_genre(genre: str):\n",
    "    # This function is looking for a query parameter called 'genre'\n",
    "    print(f'Getting books in genre: {genre}')\n",
    "\n",
    "```\n",
    "\n",
    "- `http://127.0.0.1:8000/book/by_genre?genre=scifi` ***\n",
    "- `http://127.0.0.1:8000/book/by_genre?genre:scifi`\n",
    "- `http://127.0.0.1:8000/book/by_genre&genre=scifi`\n",
    "- `http://127.0.0.1:8000/book/by_genre/scifi`"
   ]
  },
  {
   "attachments": {},
   "cell_type": "markdown",
   "metadata": {},
   "source": [
    "## Look at the API endpoint below, and select the request that would successfully return the response `Getting books in genre: scifi`\n",
    "\n",
    "```python \n",
    "\n",
    "import fastapi\n",
    "import uvicorn\n",
    "\n",
    "api = fastapi.FastAPI()\n",
    "\n",
    "@api.get('/book/by_genre/{genre}')\n",
    "def get_book_by_genre(genre: str):\n",
    "    # This function is looking for a query parameter called 'genre'\n",
    "    print(f'Getting books in genre: {genre}')\n",
    "\n",
    "```\n",
    "\n",
    "- `http://127.0.0.1:8000/book/by_genre?genre=scifi` \n",
    "- `http://127.0.0.1:8000/book/by_genre?genre:scifi`\n",
    "- `http://127.0.0.1:8000/book/by_genre&genre=scifi`\n",
    "- `http://127.0.0.1:8000/book/by_genre/scifi` ***"
   ]
  }
 ],
 "metadata": {
  "kernelspec": {
   "display_name": "base",
   "language": "python",
   "name": "python3"
  },
  "language_info": {
   "name": "python",
   "version": "3.10.9"
  },
  "orig_nbformat": 4,
  "vscode": {
   "interpreter": {
    "hash": "a2592652612463181e69ac003232387e3e9a99279aa6b168e76f5df16d5110f4"
   }
  }
 },
 "nbformat": 4,
 "nbformat_minor": 2
}
