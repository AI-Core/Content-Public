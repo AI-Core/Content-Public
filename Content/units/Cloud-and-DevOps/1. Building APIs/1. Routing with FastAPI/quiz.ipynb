{
 "cells": [
  {
   "attachments": {},
   "cell_type": "markdown",
   "metadata": {},
   "source": [
    "# Why `FastAPI` is Great?"
   ]
  },
  {
   "attachments": {},
   "cell_type": "markdown",
   "metadata": {},
   "source": [
    "## What is true about routing with `FastAPI`? Select all that apply.\n",
    "\n",
    "- Routing can be used to split your API code into different Python scripts ***\n",
    "- Routing can be implemented using the `APIRouter` class in the main API script ***\n",
    "- Routing can make it more difficult to manage your project but is useful to create different request paths\n",
    "- Routing is difficult to implement in `FastAPI`\n",
    "- You always have to implement the `APIRouter` class"
   ]
  },
  {
   "attachments": {},
   "cell_type": "markdown",
   "metadata": {},
   "source": [
    "## Which of the following is the name of the method used in FastAPI to add additional routes to our API?\n",
    "\n",
    "- `.include_router()` ***\n",
    "- `.add_route()`\n",
    "- `.configure_routes()`\n",
    "- `.update_router()`"
   ]
  },
  {
   "attachments": {},
   "cell_type": "markdown",
   "metadata": {},
   "source": [
    "## What is the point of using multiple routers in your API?\n",
    "\n",
    "- So that you can separate related endpoints and their associated functions into different scripts ***\n",
    "- To increase the number of simultaneous requests your API can process\n",
    "- Each endpoint has to have its own router to avoid conflicts\n",
    "- To allow the use of several endpoints with identical URLs"
   ]
  },
  {
   "attachments": {},
   "cell_type": "markdown",
   "metadata": {},
   "source": [
    "## I have a file called `products.py` with the code shown below. Which of the following code snippets could I used to add its router into my main API script, `main.py`?\n",
    "\n",
    "```python\n",
    "# This is products.py\n",
    "import fastapi\n",
    "products_router = fastapi.APIRouter()\n",
    "\n",
    "@products_router.get('/author/all/')\n",
    "def get_all_authors():\n",
    "    return 'Here is a list of all the authors we stock!'\n",
    "\n",
    "```\n",
    "\n",
    "```python\n",
    "# this is main.py\n",
    "import fastapi\n",
    "import products\n",
    "\n",
    "my_api=fastapi.FastAPI()\n",
    "```\n",
    "\n",
    "- `api.include_router(products.router)`\n",
    "- `my_api.add_router(products.products_router)` \n",
    "- `my_api.include_router(products.products_router)` ***\n",
    "- `api.add_router(products.products_router)` \n",
    "- `FastAPI.include_router(products.products_router)` "
   ]
  }
 ],
 "metadata": {
  "language_info": {
   "name": "python"
  },
  "orig_nbformat": 4
 },
 "nbformat": 4,
 "nbformat_minor": 2
}
