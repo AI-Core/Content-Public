{
 "cells": [
  {
   "cell_type": "markdown",
   "metadata": {},
   "source": [
    "# AKS Monitoring: Container Insights"
   ]
  },
  {
   "cell_type": "markdown",
   "metadata": {},
   "source": [
    "## True or False: Enabling Container Insights in Azure Monitor provides detailed metrics and insights into the performance and health of your containerized workloads in AKS.\n",
    "\n",
    "- True ***\n",
    "- False"
   ]
  },
  {
   "cell_type": "markdown",
   "metadata": {},
   "source": [
    "## Which Azure Monitor feature allows you to create custom charts, analyze trends, and gain valuable insights into your AKS cluster's operation?\n",
    "\n",
    "- Log Analytics\n",
    "- Metrics Explorer ***\n",
    "- Alerts\n",
    "- Reports"
   ]
  },
  {
   "cell_type": "markdown",
   "metadata": {},
   "source": [
    "## True or False: Container Insights is specifically designed for monitoring AKS clusters, providing metrics, logs, and performance data related to containers, nodes, and controllers.\n",
    "\n",
    "- True ***\n",
    "- False"
   ]
  }
 ],
 "metadata": {
  "language_info": {
   "name": "python"
  }
 },
 "nbformat": 4,
 "nbformat_minor": 2
}
