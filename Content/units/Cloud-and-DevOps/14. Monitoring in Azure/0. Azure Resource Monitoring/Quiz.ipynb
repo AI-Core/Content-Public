{
 "cells": [
  {
   "cell_type": "markdown",
   "metadata": {},
   "source": [
    "# Azure Resource Monitoring"
   ]
  },
  {
   "cell_type": "markdown",
   "metadata": {},
   "source": [
    "## When you create an Azure resource, what does Azure Monitor automatically start collecting?\n",
    "\n",
    "- Logs \n",
    "- Alerts\n",
    "- Metrics and activity logs ***\n",
    "- Compliance data"
   ]
  },
  {
   "cell_type": "markdown",
   "metadata": {},
   "source": [
    "## What is the role of Azure Monitor Metrics in Azure resource monitoring?\n",
    "\n",
    "- Capturing log data\n",
    "- Storing numeric data in a time-series database ***\n",
    "- Analyzing log queries\n",
    "- Setting up customized notifications"
   ]
  },
  {
   "cell_type": "markdown",
   "metadata": {},
   "source": [
    "## True or False: Azure Monitor Alerts enable proactive responses to potential issues and allow for the creation of customized notifications.\n",
    "\n",
    "- True ***\n",
    "- False "
   ]
  },
  {
   "cell_type": "markdown",
   "metadata": {},
   "source": [
    "## What is a Log Analytics workspace in Azure and what is its primary purpose?\n",
    "\n",
    "- A storage account for Azure resources\n",
    "- A repository for log data from various Azure resources and services ***\n",
    "- An event hub for streaming logs\n",
    "- A container for partner solutions"
   ]
  }
 ],
 "metadata": {
  "language_info": {
   "name": "python"
  }
 },
 "nbformat": 4,
 "nbformat_minor": 2
}
