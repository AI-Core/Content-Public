{
 "cells": [
  {
   "cell_type": "markdown",
   "metadata": {},
   "source": [
    "# Azure Resource Monitoring\n",
    "\n",
    "*Monitoring* is a critical practice in the world of cloud services and DevOps. It involves the continuous tracking, assessment, and management of resources to ensure their performance, availability, and security. It plays a crucial role in maintaining cloud infrastructure and applications, preventing issues, and optimizing resource usage."
   ]
  },
  {
   "cell_type": "markdown",
   "metadata": {},
   "source": [
    "Monitoring is essential for several reasons:\n",
    "\n",
    "- **Issue Detection**: It allows us to identify and address issues in real time, ensuring the smooth operation of resources\n",
    "- **Resource Optimization**: Monitoring helps in optimizing resource usage, which leads to cost savings and improved performance\n",
    "- **Data-Driven Decisions**: It provides insights and data necessary for informed decision-making, enabling organizations to align their resources with their business goals"
   ]
  },
  {
   "cell_type": "markdown",
   "metadata": {},
   "source": [
    "## Azure Monitor\n",
    "\n",
    "*Azure Monitor* is a comprehensive monitoring and management solution provided by Microsoft Azure. It serves as a critical tool for organizations and individuals to gain insights, track performance, and ensure the health and security of their Azure resources. As organizations increasingly adopt cloud computing and DevOps practices, Azure Monitor plays a pivotal role in enhancing operational efficiency, identifying issues, and achieving the objectives of DevOps.\n",
    "\n",
    "> As soon as you create an Azure resource, Azure Monitor is automatically activated and start the collection of metrics and activity logs.\n",
    "\n",
    "Azure Monitor consists of several core components, each serving a specific function:\n",
    "\n",
    "- *Azure Monitor Metrics*: **Azure Monitor Metrics** provide numeric data related to the performance and health of Azure resources. This data is stored in a time-series database, which is automatically created for each Azure subscription. To analyze data from Azure Monitor Metrics, you can use the *Metrics Explorer*. We will talk in detail about Metrics Explorer later in this lesson.\n",
    "\n",
    "- *Azure Monitor Logs*: **Azure Monitor Logs** capture logs and performance data from various Azure resources. These can be collected and analyzed using log queries. To collect log data you must create a *Log Analytics workspace*. The collected data can be analyzed using *Log Analytics*. We will talk in more detail about Log Analytics later in this lesson.\n",
    "\n",
    "- *Azure Monitor Alerts*: **Azure Monitor Alerts** allow you to set up customized notifications based on specific conditions. They enable proactive response to potential issues, ensuring you can take action promptly. We will learn how to set alarms up in a future lesson."
   ]
  },
  {
   "cell_type": "markdown",
   "metadata": {},
   "source": [
    "### Accessing Azure Monitor Features\n",
    "\n",
    "All Azure services generate data in the same formats. This means we can use the same tools to analyze data from all of them. While the user experience may vary across services, they all share a common set of monitoring options within the Azure portal. These menu options typically include the **Overview** and **Activity log**, as well as multiple choices in the **Monitoring** section.\n",
    "\n",
    "#### The **Overview** Page\n",
    "\n",
    "The **Overview** page offers comprehensive details about the selected resource, often presenting its current state. Many Azure services include a **Monitoring** tab on the **Overview** page, featuring charts that depict essential metrics. These charts provide a quick glance at the resource's operation. You can select any of the charts to open them in Metrics Explorer for a more in-depth analysis.\n",
    "\n",
    "Let's look at some example metrics for an AKS cluster:\n",
    "\n",
    "<p align=center> <img src=images/AKSOverview.png width=850 height=450> </p>\n",
    "\n",
    "Here's a brief explanation of some of the metrics that appear there:\n",
    "\n",
    "- **Node Pool CPU Usage**: This metric reflects the CPU utilization of the nodes in your AKS cluster. It measures how much CPU capacity is being used by the node pool. High CPU usage might indicate resource-intensive workloads running on the nodes.\n",
    "\n",
    "- **Node Pool Network In**: This metric represents the incoming network traffic to the node pool within your AKS cluster. It indicates the amount of data received by the nodes. A sudden spike in network traffic may be a sign of increased incoming requests or data transfer.\n",
    "\n",
    "- **Node Pool Network Out**: This metric measures the outgoing network traffic from the nodes in your AKS cluster. It quantifies the data sent out from the nodes to external destinations. An increase in network out traffic could imply data transfers or communication with external services.\n",
    "\n",
    "- **Pods Running**: This metric displays the number of pods currently running within your AKS cluster\n",
    "\n",
    "- **Pods Pending**: This metric tracks the number of pods in a pending state. A high number of pending pods could indicate that the cluster is struggling to allocate resources for new workloads, potentially requiring scaling adjustments.\n",
    "\n",
    "These metrics allow you to quickly assess the health and performance of your Kubernetes environment. You can select any of these charts to gain a more in-depth analysis of the specific metric's trends and patterns by opening them in **Metrics Explorer**. You can open them in **Metrics Explorer**, by simply double-clicking on the desired metric graph. This enables you to proactively manage and optimize your AKS cluster based on real-time data and insights."
   ]
  },
  {
   "cell_type": "markdown",
   "metadata": {},
   "source": [
    "#### The **Activity log** page\n",
    "\n",
    "The **Activity log** page allows you to view entries within the activity log pertaining to the current resource. By default, this page will show all the activity logs from the last 6 hours. You can change this by changing the **Timespan** column. Let's look at an example below showing the activity logs of an AKS cluster in the last month:\n",
    "\n",
    "<p align=center> <img src=images/AKSActivityLog.png width=850 height=450> </p>\n",
    "\n",
    "Here's a brief overview of a few example logs that you see in the **Activity log** above, for the AKS cluster:\n",
    "\n",
    "- **List Cluster User/Admin**: This log entry indicates when a user or administrator listed the cluster's users or administrators. It may include details about who initiated this action, when it occurred, and the specific users or administrators involved.\n",
    "\n",
    "- **Get Managed Cluster Access Profile by Terraform**: This log signifies an event where a Terraform script or configuration retrieved the access profile for the managed AKS cluster. It might include information about the requester and the purpose of accessing the profile.\n",
    "\n",
    "- **Health Event Activated and Resolved**: This log represents events where automated health checks or monitoring systems detected health issues within the AKS cluster. When activated, it indicates that an issue or anomaly was detected. When resolved, it suggests that the issue was identified and corrected. These logs can be valuable for tracking the cluster's operational stability.\n",
    "\n",
    "- **Resource Scaling Activity**: You may also encounter logs related to resource scaling activities. These include events like scaling up or down the number of nodes or pods in the AKS cluster to accommodate changes in workload demand. These logs provide insights into how the cluster adapts to workload variations.\n",
    "\n",
    "- **Cluster Upgrade or Maintenance**: When the AKS cluster undergoes an upgrade or maintenance activity, corresponding logs are generated. These logs include information about the upgrade process, any potential issues encountered, and when the operation was completed.\n",
    "\n",
    "These example logs offer insights into various activities and events related to the AKS cluster's management, health, and security. The **Activity log** is a valuable resource for auditing and monitoring these activities, enabling administrators to ensure the AKS cluster operates smoothly and securely."
   ]
  },
  {
   "cell_type": "markdown",
   "metadata": {},
   "source": [
    "> The **Monitoring** section of an Azure resource contains more than one page related to Azure Monitor features. Normally this includes:\n",
    "\n",
    "#### **Alerts**\n",
    "\n",
    "The **Alerts** page displays recent alerts triggered for the resource. Alerts serve as proactive notifications that inform you when significant conditions are detected within your monitoring data. These alerts can utilize data from either **Metrics** or **Logs**.\n",
    "\n",
    "By default, no alerts are set up here. If needed you can create your own alerts based on the metrics or logs you want to monitor. We will look at how to set up an alarm in another lesson.\n",
    "\n",
    "#### **Metrics**\n",
    "\n",
    "The **Metrics** page directs you to **Metrics Explorer**, a versatile tool for working with individual metrics or combining multiple metrics to discern correlations and trends. This is the same **Metrics Explorer** accessible when you select one of the charts on the **Overview** page.\n",
    "\n",
    "#### Metrics Explorer\n",
    "\n",
    "**Metrics Explorer** in Azure Monitor provides a wide range of customization options to help you analyze and visualize metrics effectively. \n",
    "\n",
    "<p align=center> <img src=images/MetricExplorer.png width=750 height=450> </p>\n",
    "\n",
    "Different customization features in Metric Explorer include:\n",
    "\n",
    "- **Scope**: The **Scope** option allows you to specify the Azure resource or resource group you want to monitor. You can choose to focus on a single resource or extend the scope to multiple resources or resource groups, although not all resources support this feature.\n",
    "\n",
    "- **Metric Namespace**: The **Metric Namespace** helps you narrow down your metric selection to a specific category. It categorizes metrics based on the type of Azure resource or the service they are associated with.\n",
    "\n",
    "- **Metric**: The metric selection enables you to choose the specific metric you wish to analyze. Metrics vary based on the Azure resource being monitored and may include options such as CPU usage, memory usage, throughput, latency and more.\n",
    "\n",
    "- **Aggregation**: You can specify how the metric data is aggregated over time. Aggregation options include average, sum, count, minimum, maximum, and others. For example, you can analyze the CPU usage metric by calculating the average values over time.\n",
    "\n",
    "- **Local Time**: Enabling this allows you to view metric data in your local time zone, making the analysis more contextually relevant to your geographical location. This tab also allows you to select the time range for your metrics exploration.\n",
    "\n",
    "<p align=center> <img src=images/MetricExplorerTimeRange.png width=750 height=450> </p>\n",
    "\n",
    "- **Add Filter**: You can refine your analysis further by adding filters to your metrics. These filters can include specific resource instances, attributes, or other criteria to focus your analysis.\n",
    "\n",
    "- **Split By**: This feature enables you to break down metric data by another dimension, providing insights into specific aspects of the Azure resource. For example, you can split metrics by different resource instances, regions, or services.\n",
    "\n",
    "Additionally, it's important to note that you can enable *Container Insights* in the Metrics Explorer (under **Metric Namespace**), which provides more detailed metrics specifically designed for monitoring containerized workloads. Container Insights offers:\n",
    "\n",
    "- Collection of performance metrics and logs from your AKS containers\n",
    "- Pre-built dashboards for visualizing container performance, node health, and cluster-level metrics\n",
    "- Integration with Azure Monitor, enabling alerts and notifications based on container health and performance thresholds\n",
    "\n",
    "In the next lesson we will enable this and familiarize ourselves with the additional metrics."
   ]
  },
  {
   "cell_type": "markdown",
   "metadata": {},
   "source": [
    "#### **Diagnostic settings**\n",
    "\n",
    "The **Diagnostic settings** page enables you to create a diagnostic setting for collecting resource logs related to your resource. These logs can be sent to various destinations, with a common choice being a *Log Analytics workspace* for in-depth analysis with Log Analytics. Additionally, logs can also be directed to a storage account, an event hub, or integrated with partner solutions, offering flexibility in data collection and analysis to suit your monitoring and analysis needs.\n",
    "\n",
    "A **Log Analytics workspace** is a central repository in Azure that serves as a powerful tool for collecting, analyzing, and visualizing log and performance data from various Azure resources and services. It provides a robust platform for log management, query-based analysis, monitoring, and troubleshooting.\n",
    "\n",
    "Let's take a look at the different data you can collect for diagnostic, using an AKS cluster as an example resource. Some categories include:\n",
    "\n",
    "- **Kubernetes API Server**: This option captures data related to the Kubernetes API server, which is a key component for interacting with the cluster. It can help monitor API server activity and performance.\n",
    "\n",
    "- **Kubernetes Audit**: This category collects audit logs for activities performed within the AKS cluster. It is essential for auditing and tracking user actions and cluster events.\n",
    "\n",
    "- **Kubernetes Controller Manager**: This option collects data from the Kubernetes controller manager, responsible for maintaining the desired state of various resources in the cluster. It helps in monitoring and maintaining controller manager performance.\n",
    "\n",
    "You can normally find the full list for any Azure service in the **Diagnostic settings** page, as seen below:\n",
    "\n",
    "<p align=center> <img src=images/DiagnosticSettings.png width=850 height=350> </p>"
   ]
  },
  {
   "cell_type": "markdown",
   "metadata": {},
   "source": [
    "#### **Insights**\n",
    "\n",
    "The **Insights** page provides access to specific insights tailored for the resource, if the Azure service offers them. Insights offer a customized monitoring experience built upon the Azure Monitor data platform and standard features.\n",
    "\n",
    "Common customizations include integrating popular monitoring and visualization tools, like *Prometheus* and *Grafana*. **Prometheus** is an open-source monitoring and alerting toolkit designed for reliability and scalability. It is widely used in the DevOps and cloud-native ecosystem for monitoring containerized applications and infrastructure. **Grafana** is an open-source platform for monitoring and observability, which is often used in conjunction with Prometheus but can integrate with various data sources. It provides a powerful and customizable visualization framework for displaying metrics and logs.\n",
    "\n",
    "Different Azure service might offer additional customizations. For example, AKS has the following offerings:\n",
    "\n",
    "<p align=center> <img src=images/Insights.png width=850 height=450> </p>\n",
    "\n",
    "On top of Prometheus and Grafana, Azure offers a built-in solution called *Azure Monitor for Containers* that provides container-level insights for AKS. This is the same feature as enabling **Container Insights** in Metrics Explorer, as discussed earlier."
   ]
  },
  {
   "cell_type": "markdown",
   "metadata": {},
   "source": [
    "> While this lesson uses examples from AKS to illustrate various monitoring features, it's important to note that the principles and tools discussed here are applicable to a wide range of Azure resources. Azure Monitor provides a unified approach to monitoring, making it versatile for monitoring different services, including virtual machines, databases, web applications, and more.\n",
    "\n",
    "When working with other Azure services, you can follow similar steps to access and interpret metrics, logs, and activity data. Keep in mind that the specific metrics and logs may vary depending on the service. To understand the metrics and logs for a particular Azure service, you can explore the Azure documentation, service-specific documentation, or use the Azure portal to access the monitoring features of that service. The key is to identify the metrics and logs that are most relevant to your specific use case and ensure they align with your monitoring and troubleshooting needs."
   ]
  },
  {
   "cell_type": "markdown",
   "metadata": {},
   "source": [
    "## Key Takeaways\n",
    "\n",
    "- Azure Monitor is a critical tool for monitoring and managing Azure resources, providing insights, performance tracking, and ensuring resource health and security\n",
    "- It includes core components such as Metrics, Logs, and Alerts, which work together to provide a comprehensive monitoring solution\n",
    "- Metrics offer numeric data related to the performance and health of Azure resources, helping you track usage, responsiveness, and efficiency\n",
    "- Metrics can be analyzed in real-time and provide crucial insights into resource operation\n",
    "- Logs capture log data from various Azure resources, offering valuable information for analysis and troubleshooting. Log data is instrumental in understanding events, activities, and errors within your cloud environment."
   ]
  }
 ],
 "metadata": {
  "language_info": {
   "name": "python"
  }
 },
 "nbformat": 4,
 "nbformat_minor": 2
}
