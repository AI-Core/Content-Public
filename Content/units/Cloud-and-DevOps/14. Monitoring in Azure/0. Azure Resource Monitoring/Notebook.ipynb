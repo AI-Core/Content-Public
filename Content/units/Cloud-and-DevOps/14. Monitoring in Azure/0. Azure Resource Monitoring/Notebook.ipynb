{
 "cells": [
  {
   "cell_type": "markdown",
   "metadata": {},
   "source": [
    "# Azure Resource Monitoring\n",
    "\n",
    "*Monitoring* is a critical practice in the world of cloud services and DevOps. It involves continuous tracking, assessment, and management of resources to ensure their performance and availability. It plays a crucial role in maintaining cloud infrastructure and applications, preventing issues, and optimizing resource usage."
   ]
  },
  {
   "cell_type": "markdown",
   "metadata": {},
   "source": [
    "Monitoring is essential for several reasons:\n",
    "\n",
    "- **Issue Detection**: It allows us to identify and address issues in real time, ensuring the smooth operation of resources\n",
    "- **Resource Optimization**: Monitoring helps in optimizing resource usage, which leads to cost savings and improved performance\n",
    "- **Data-Driven Decisions**: It provides insights and data necessary for informed decision-making, enabling organizations to align their resources with their business goals"
   ]
  },
  {
   "cell_type": "markdown",
   "metadata": {},
   "source": [
    "## Azure Monitor\n",
    "\n",
    "> *Azure Monitor* is a comprehensive monitoring and management solution provided by Azure. It serves as a critical tool for organizations and individuals to gain insights, track performance, and ensure the health and security of their Azure resources. \n",
    "\n",
    "As organizations increasingly adopt cloud computing and DevOps practices, Azure Monitor plays a pivotal role in enhancing operational efficiency, identifying issues, and achieving the objectives of DevOps.\n",
    "\n",
    "> As soon as you create any Azure resource, Azure Monitor is automatically activated and starts the collection of metrics and activity logs.\n",
    "\n",
    "Azure Monitor consists of several core components:\n",
    "\n",
    "- *Azure Monitor Metrics*: **Azure Monitor Metrics** provide numeric data related to the performance and health of Azure resources. This data is stored in a time-series database, which is automatically created for each Azure subscription. To analyze data from Azure Monitor Metrics, you can use the *Metrics Explorer*. We will talk in detail about Metrics Explorer throughout this pathway.\n",
    "\n",
    "- *Azure Monitor Logs*: **Azure Monitor Logs** capture logs and performance data from various Azure resources. These can be collected and analyzed using log queries in *Log Analytics*. We will talk in more detail about Log Analytics throughout this pathway.\n",
    "\n",
    "- *Azure Monitor Alerts*: **Azure Monitor Alerts** allow you to set up customized notifications based on specific conditions. They enable proactive response to potential issues, ensuring you can take actions promptly. We will learn how to set up alarms in a future lesson."
   ]
  },
  {
   "cell_type": "markdown",
   "metadata": {},
   "source": [
    "### Accessing Azure Monitor Features\n",
    "\n",
    "All Azure services generate data in the same formats. This means we can use the same tools to analyze data from all of them. Although the user interface may differ among services, they all provide a shared set of monitoring features accessible through the Azure portal. These menu options commonly include the **Overview** and **Activity log** page, along with various monitoring solutions available on the **Monitoring** page. Each of these can be conveniently accessed from the homepage of any individual service.\n",
    "\n",
    "#### The **Overview** Page\n",
    "\n",
    "The **Overview** page offers comprehensive details about the selected service, often presenting its current state. Many Azure services include a **Monitoring** tab on the **Overview** page, featuring charts that depict essential metrics. These charts provide a quick glance at the resource's operation. You can select any of the charts to open them in **Metrics Explorer** for a more in-depth analysis.\n",
    "\n",
    "Let's look at some example metrics for an AKS cluster:\n",
    "\n",
    "<p align=center> <img src=images/AKSOverview.png width=850 height=450> </p>\n",
    "\n",
    "Here's a brief explanation of a few metrics that can appear in the **Overview** page of an AKS cluster:\n",
    "\n",
    "- **Node Pool CPU Usage**: This metric reflects the CPU utilization of the nodes in your AKS cluster. It measures how much CPU capacity is being used by the node pool. High CPU usage might indicate resource-intensive workloads running on the nodes.\n",
    "\n",
    "- **Node Pool Network In**: This metric represents the incoming network traffic to the node pool within your AKS cluster. It indicates the amount of data received by the nodes. A sudden spike in network traffic may be a sign of increased incoming requests or data transfer.\n",
    "\n",
    "- **Node Pool Network Out**: This metric measures the outgoing network traffic from the nodes in your AKS cluster. It quantifies the data sent out from the nodes to external destinations. An increase in network out traffic could imply data transfers or communication with external services.\n",
    "\n",
    "These metrics allow you to quickly assess the health and performance of your Kubernetes environment. You can select any of these charts to gain a more in-depth analysis of the specific metric's trends and patterns by opening them in **Metrics Explorer**. You can do so by simply double-clicking on the desired metric graph. \n",
    "\n",
    "> Keep in mind that while we've discussed metrics for an AKS cluster here, each Azure service may have its unique set of metrics displayed on the **Overview** page. These metrics are tailored to the specific characteristics and functionalities of the service. However, the process of accessing and exploring these metrics remains consistent across Azure services. "
   ]
  },
  {
   "cell_type": "markdown",
   "metadata": {},
   "source": [
    "#### The **Activity log** page\n",
    "\n",
    "The **Activity log** page allows you to view entries within the activity log pertaining to the current resource. By default, this page will show all the activity logs from the last 6 hours. You can change this by adjusting the **Timespan** column. Let's look at an example below showing the activity logs of an AKS cluster in the last month:\n",
    "\n",
    "<p align=center> <img src=images/AKSActivityLog.png width=850 height=450> </p>\n",
    "\n",
    "Here's a brief overview of a few example logs that you see in the **Activity log** above, for the AKS cluster:\n",
    "\n",
    "- **Health Event Activated and Resolved**: These logs represent events where automated health checks or monitoring systems detected health issues within the AKS cluster. When activated, it indicates that an issue or anomaly was detected. When resolved, it suggests that the issue was identified and corrected. These logs can be valuable for tracking the cluster's operational stability.\n",
    "\n",
    "- **Get Managed Cluster Access Profile by Terraform**: This log signifies an event where a Terraform script or configuration retrieved the access profile for the managed AKS cluster. It might include information about the requester and the purpose of accessing the profile.\n",
    "\n",
    "- **Resource Scaling Activity**: You may also encounter logs related to resource scaling activities. These include events like scaling up or down the number of nodes or pods in the AKS cluster to accommodate changes in workload demand. These logs provide insights into how the cluster adapts to workload variations.\n",
    "\n",
    "These example logs offer insights into various activities and events related to the AKS cluster's management, health, and security. The **Activity log** is a valuable resource for auditing and monitoring these activities, enabling administrators to ensure the AKS cluster operates smoothly and securely.\n",
    "\n",
    "> Please note that while we've examined example logs for an AKS cluster, each Azure service will generate its own set of activity logs, specific to its functionalities and operations. These logs help track and monitor various activities related to the service's management, security, and performance. The process of accessing and reviewing these logs remains consistent across Azure services, providing administrators with valuable insights into the health and security of their resources."
   ]
  },
  {
   "cell_type": "markdown",
   "metadata": {},
   "source": [
    "> The **Monitoring** section of an Azure resource contains more than one page related to Azure Monitor features. Normally this includes:\n",
    "\n",
    "#### **Alerts**\n",
    "\n",
    "The **Alerts** page provides an overview of recent alerts that have been triggered for the resource. These alerts function as proactive notifications, promptly notifying you when critical conditions are identified within your monitoring data. You can configure alerts to utilize data from either **Metrics** or **Logs**.\n",
    "\n",
    "By default, no alerts are preconfigured. However, you have the flexibility to establish custom alerts based on the specific metrics or logs you wish to monitor. We will explore how to set up alerts in a another lesson.\n",
    "\n",
    "#### **Metrics**\n",
    "\n",
    "The **Metrics** page directs you to **Metrics Explorer**, a versatile tool for working with individual metrics or combining multiple metrics to discern correlations and trends. This is the same **Metrics Explorer** that can be accessed when you select one of the charts on the **Overview** page.\n",
    "\n",
    "#### Metrics Explorer\n",
    "\n",
    "**Metrics Explorer** provides a wide range of customization options to help you analyze and visualize metrics effectively. \n",
    "\n",
    "<p align=center> <img src=images/MetricExplorer.png width=750 height=450> </p>\n",
    "\n",
    "Different customization features include:\n",
    "\n",
    "- **Scope**: The **Scope** option allows you to specify the Azure resource or resource group you want to monitor. You can choose to focus on a single resource or extend the scope to multiple resources or resource groups, although not all resources support this feature.\n",
    "\n",
    "- **Metric Namespace**: The **Metric Namespace** helps you narrow down your metric selection to a specific category. It categorizes metrics based on the type of Azure resource or the service they are associated with.\n",
    "\n",
    "- **Metric**: The metric selection enables you to choose the specific metric you wish to analyze. Metrics vary based on the Azure resource being monitored and may include options such as CPU usage, memory usage, throughput, latency and more.\n",
    "\n",
    "- **Aggregation**: You can specify how the metric data is aggregated over time. Aggregation options include average, sum, count, minimum, maximum, and others. For example, you can analyze the CPU usage metric by calculating the average values over time.\n",
    "\n",
    "- **Local Time**: Enabling this allows you to view metric data in your local time zone, making the analysis more contextually relevant to your geographical location. This tab also allows you to select the time range for your metrics exploration.\n",
    "\n",
    "<p align=center> <img src=images/MetricExplorerTimeRange.png width=750 height=400> </p>\n",
    "\n",
    "- **Add Filter**: You can refine your analysis further by adding filters to your metrics. These filters can include specific resource instances, attributes, or other criteria to focus your analysis.\n",
    "\n",
    "- **Split By**: This feature enables you to break down metric data by another dimension, providing insights into specific aspects of the Azure resource. For example, you can split metrics by different resource instances, regions, or services.\n",
    "\n",
    "Additionally, it's important to note that you can enable *Container Insights* in the Metrics Explorer (under **Metric Namespace**), which provides more detailed metrics specifically designed for monitoring containerized workloads. Container Insights offers:\n",
    "\n",
    "- Collection of performance metrics and logs from your AKS containers\n",
    "- Pre-built dashboards for visualizing container performance, node health, and cluster-level metrics\n",
    "- Integration with Azure Monitor, enabling alerts and notifications based on container health and performance thresholds\n",
    "\n",
    "In the next lesson we will enable this feature and familiarize ourselves with the additional metrics."
   ]
  },
  {
   "cell_type": "markdown",
   "metadata": {},
   "source": [
    "#### **Diagnostic settings**\n",
    "\n",
    "The **Diagnostic settings** page enables you to create a diagnostic setting for collecting resource logs related to your resource. These logs can be sent to various destinations, with a common choice being a *Log Analytics workspace* for in-depth analysis with Log Analytics. \n",
    "\n",
    "Additionally, logs can also be directed to a storage account, an event hub, or integrated with partner solutions, offering flexibility in data collection and analysis to suit your monitoring and analysis needs.\n",
    "\n",
    "> A **Log Analytics workspace** is a central repository in Azure that serves as a powerful tool for collecting, analyzing, and visualizing log and performance data from various Azure resources and services. It provides a robust platform for log management, query-based analysis, monitoring, and troubleshooting.\n",
    "\n",
    "Let's take a look at the different data you can collect for diagnostic, using an AKS cluster as an example resource. Some categories include:\n",
    "\n",
    "- **Kubernetes API Server**: This option captures data related to the Kubernetes API server, which is a key component for interacting with the cluster. It can help monitor API server activity and performance.\n",
    "\n",
    "- **Kubernetes Audit**: This category collects audit logs for activities performed within the AKS cluster. It is essential for auditing and tracking user actions and cluster events.\n",
    "\n",
    "- **Kubernetes Controller Manager**: This option collects data from the Kubernetes controller manager, responsible for maintaining the desired state of various resources in the cluster. It helps in monitoring and maintaining controller manager performance.\n",
    "\n",
    "You can normally find the full list for any Azure service in the **Diagnostic settings** page, as seen below:\n",
    "\n",
    "<p align=center> <img src=images/DiagnosticSettings.png width=850 height=350> </p>"
   ]
  },
  {
   "cell_type": "markdown",
   "metadata": {},
   "source": [
    "#### **Insights**\n",
    "\n",
    "The **Insights** page provides access to specific insights tailored for the resource, if the Azure service offers them. Insights offer a customized monitoring experience built upon the Azure Monitor data platform and standard features.\n",
    "\n",
    "Common customizations include integrating popular monitoring and visualization tools, like *Prometheus* and *Grafana*. **Prometheus** is an open-source monitoring and alerting toolkit designed for reliability and scalability. It is widely used in the DevOps and cloud-native ecosystem for monitoring containerized applications and infrastructure. **Grafana** is an open-source platform for monitoring and observability, which is often used in conjunction with Prometheus but can integrate with various data sources. It provides a powerful and customizable visualization framework for displaying metrics and logs.\n",
    "\n",
    "Different Azure service might offer additional customizations. For example, AKS has the following offerings:\n",
    "\n",
    "<p align=center> <img src=images/Insights.png width=850 height=400> </p>\n",
    "\n",
    "On top of Prometheus and Grafana, Azure offers a built-in solution called *Azure Monitor for Containers* that provides container-level insights for AKS. This is the same feature as enabling **Container Insights** in Metrics Explorer, as discussed earlier."
   ]
  },
  {
   "cell_type": "markdown",
   "metadata": {},
   "source": [
    "> While this lesson uses examples from AKS to illustrate various monitoring features, it's important to note that the principles and tools discussed here are applicable to a wide range of Azure resources. Azure Monitor provides a unified approach to monitoring, making it versatile for monitoring different services, including virtual machines, databases, web applications, and more.\n",
    "\n",
    "When working with other Azure services, you can follow similar steps to access and interpret metrics, logs, and activity data. Keep in mind that the specific metrics and logs may vary depending on the service. To understand the metrics and logs for a particular Azure service, you can explore the Azure documentation, service-specific documentation, or use the Azure portal to access the monitoring features of that service. The key is to identify the metrics and logs that are most relevant to your specific use case and ensure they align with your monitoring and troubleshooting needs."
   ]
  },
  {
   "cell_type": "markdown",
   "metadata": {},
   "source": [
    "## Key Takeaways\n",
    "\n",
    "- Azure Monitor is a critical tool for monitoring and managing Azure resources, providing insights, performance tracking, and ensuring resource health and security\n",
    "- It includes core components such as Metrics, Logs, and Alerts, which work together to provide a comprehensive monitoring solution\n",
    "- Metrics offer numeric data related to the performance and health of Azure resources, helping you track usage, responsiveness, and efficiency\n",
    "- Metrics can be analyzed in real-time and provide crucial insights into resource operation\n",
    "- Logs capture log data from various Azure resources, offering valuable information for analysis and troubleshooting. Log data is instrumental in understanding events, activities, and errors within your cloud environment."
   ]
  }
 ],
 "metadata": {
  "language_info": {
   "name": "python"
  }
 },
 "nbformat": 4,
 "nbformat_minor": 2
}
