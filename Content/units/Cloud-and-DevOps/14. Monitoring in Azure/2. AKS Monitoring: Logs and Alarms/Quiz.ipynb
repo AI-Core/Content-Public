{
 "cells": [
  {
   "cell_type": "markdown",
   "metadata": {},
   "source": [
    "# AKS Monitoring: Logs and Alarms"
   ]
  },
  {
   "cell_type": "markdown",
   "metadata": {},
   "source": [
    "## True or False: Log Analytics is a tool used for visualizing metric data in Azure Kubernetes Service (AKS) clusters.\n",
    "\n",
    "- True\n",
    "- False ***"
   ]
  },
  {
   "cell_type": "markdown",
   "metadata": {},
   "source": [
    "## True or False: Saved log queries in Log Analytics allow for efficient analysis of AKS cluster logs, providing insights into the cluster's operations.\n",
    "\n",
    "- True ***\n",
    "- False"
   ]
  },
  {
   "cell_type": "markdown",
   "metadata": {},
   "source": [
    "## True or False: Custom alerts are not essential for monitoring AKS clusters as they can lead to unnecessary alerting.\n",
    "\n",
    "- True\n",
    "- False ***"
   ]
  },
  {
   "cell_type": "markdown",
   "metadata": {},
   "source": [
    "## What is the purpose of action groups in the context of setting up custom alerts for an AKS cluster?\n",
    "\n",
    "- Define alert conditions\n",
    "- Configure time settings\n",
    "- Specify notification preferences and actions ***\n",
    "- Acknowledge alerts"
   ]
  },
  {
   "cell_type": "markdown",
   "metadata": {},
   "source": [
    "## What is the primary goal when responding to alerts in a monitoring system?\n",
    "\n",
    "- Acknowledgement and triage ***\n",
    "- Preventing all alerts\n",
    "- Immediate remediation without investigation\n",
    "- Documenting unrelated issues"
   ]
  },
  {
   "cell_type": "markdown",
   "metadata": {},
   "source": [
    "## True or False: Log Analytics provides the capability to write, test, and execute log queries to analyze AKS cluster logs.\n",
    "\n",
    "- True ***\n",
    "- False"
   ]
  },
  {
   "cell_type": "markdown",
   "metadata": {},
   "source": [
    "## What should you do after responding to alerts in your AKS cluster for continuous improvement?\n",
    "\n",
    "- Acknowledge the alert\n",
    "- Perform initial triage\n",
    "- Incident documentation\n",
    "- Conduct post-incident reviews and identify preventive measures ***"
   ]
  }
 ],
 "metadata": {
  "language_info": {
   "name": "python"
  }
 },
 "nbformat": 4,
 "nbformat_minor": 2
}
