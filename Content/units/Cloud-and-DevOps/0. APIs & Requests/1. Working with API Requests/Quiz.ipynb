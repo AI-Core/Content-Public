{
 "cells": [
  {
   "attachments": {},
   "cell_type": "markdown",
   "metadata": {},
   "source": [
    "# Working with API Requests"
   ]
  },
  {
   "attachments": {},
   "cell_type": "markdown",
   "metadata": {},
   "source": [
    "## Which of the following are common types of HTTP header? Select all that apply.\n",
    "\n",
    "- Content-type ***\n",
    "- Priority\n",
    "- Authorisation ***\n",
    "- Autocomplete\n",
    "- Accept ***"
   ]
  },
  {
   "attachments": {},
   "cell_type": "markdown",
   "metadata": {},
   "source": [
    "## Which of the following best describes what API keys are?\n",
    "\n",
    "- A type of encryption used for securing network communications\n",
    "- Unique identifiers used to authenticate a user, program, or device during API interactions. ***\n",
    "- Programming tools for developing APIs quickly\n",
    "- The main components of an API that define its overall structure\n",
    "- A specific method for creating APIs in Python"
   ]
  },
  {
   "attachments": {},
   "cell_type": "markdown",
   "metadata": {},
   "source": [
    "## Which of the following are types of authentication mechanism? Select all that apply.\n",
    "\n",
    "- Bearer Token Authentication ***\n",
    "- OAuth 2.0 ***\n",
    "- Zcheck \n",
    "- Polynomial Block Lookup\n",
    "- JSON Web Tokens ***\n"
   ]
  },
  {
   "attachments": {},
   "cell_type": "markdown",
   "metadata": {},
   "source": [
    "## Which of the following best describes what Cross-Origin Resource Sharing (CORS) is?\n",
    "\n",
    "- A security measure that allows web applications to make requests to another domain than the one it originated from ***\n",
    "- A technique to enhance website loading speed by storing data in a browser's cache\n",
    "- A system to reduce the number of requests to an API by looking for similar requests from multiple users and sending them the same result\n",
    "- An API specification that allows for sharing of resources across different programming languages"
   ]
  },
  {
   "attachments": {},
   "cell_type": "markdown",
   "metadata": {},
   "source": [
    "\n",
    "## Which policy is relaxed by CORS to enable controlled cross-origin requests?\n",
    "- Multi-origin policy\n",
    "- Same-origin policy ***\n",
    "- Third-party policy\n",
    "- Direct-origin policy\n",
    "\n"
   ]
  },
  {
   "attachments": {},
   "cell_type": "markdown",
   "metadata": {},
   "source": [
    "## What is a preflight request in the context of CORS?\n",
    "\n",
    "- A request to preload all the images on a webpage\n",
    "- An HTTP OPTIONS request sent by the browser to check the server's CORS policy ***\n",
    "- A request to cache all the data from a webpage\n",
    "- A request to verify user authentication before accessing an API\n"
   ]
  },
  {
   "attachments": {},
   "cell_type": "markdown",
   "metadata": {},
   "source": [
    "## What is the main advantage of access tokens over API keys?\n",
    "\n",
    "- Access tokens are easier to generate\n",
    "- Access tokens can store more information\n",
    "- Access tokens have a limited validity period, reducing risk if compromised ***\n",
    "- Access tokens are easier to remember"
   ]
  },
  {
   "attachments": {},
   "cell_type": "markdown",
   "metadata": {},
   "source": [
    "## What is the purpose of refresh tokens in API authentication?\n",
    "\n",
    "- To act as a backup for access tokens\n",
    "- To encrypt the API data\n",
    "- To obtain new access tokens when the original access token expires ***\n",
    "- To act as an alternative to API keys\n"
   ]
  },
  {
   "attachments": {},
   "cell_type": "markdown",
   "metadata": {},
   "source": [
    "## Which of the following is a valid code for including the access token `YOUR_ACCESS_TOKEN` as a **query parameter** in a request? Select all that apply.\n",
    "\n",
    "- `requests.get('https://api.example.com/resource?access_token=YOUR_ACCESS_TOKEN')` ***\n",
    "\n",
    "- `requests.get('https://api.example.com/resource&YOUR_ACCESS_TOKEN')`\n",
    "\n",
    "- `requests.get('https://api.example.com/resource', access_token=YOUR_ACCESS_TOKEN)`\n",
    "\n",
    "- `requests.get('https://api.example.com/resource', headers={'access_token': 'YOUR_ACCESS_TOKEN'})` ***\n"
   ]
  },
  {
   "attachments": {},
   "cell_type": "markdown",
   "metadata": {},
   "source": [
    "## How does the `\"Content-Type\"` header function in an API request?\n",
    "\n",
    "- It specifies the media type of the data in the request or response body ***\n",
    "- It specifies the desired response format of the API\n",
    "- It identifies the client application making the request\n",
    "- It lets the server know what types of content the client can accept"
   ]
  }
 ],
 "metadata": {
  "language_info": {
   "name": "python"
  },
  "orig_nbformat": 4
 },
 "nbformat": 4,
 "nbformat_minor": 2
}
