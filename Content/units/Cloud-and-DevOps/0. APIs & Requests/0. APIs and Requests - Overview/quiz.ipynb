{
 "cells": [
  {
   "attachments": {},
   "cell_type": "markdown",
   "metadata": {},
   "source": [
    "# APIs and Requests - Overview"
   ]
  },
  {
   "attachments": {},
   "cell_type": "markdown",
   "metadata": {},
   "source": [
    "## What are the common types of web communication protocols? Select all that apply.\n",
    "\n",
    "- HTTP: HyperText Transfer Protocol ***\n",
    "- HTTPS: The secure implementation of HTTP which encrypts messages sent over the internet ***\n",
    "- SSH: Secure SHell allows you secure communication over an insecure network ***\n",
    "- UART: Universal Asynchronous Receiver Transmitter used for communication\n",
    "- ZigBEE: a wireless technology used in semiconductor devices\n",
    "- BLE: a Bluetooth technology used for communication"
   ]
  },
  {
   "attachments": {},
   "cell_type": "markdown",
   "metadata": {},
   "source": [
    "## What are the **common** methods used by a web based API to communicate? Select all that apply.\n",
    "\n",
    "- `GET`: get some data ***\n",
    "- `POST`: insert data ***\n",
    "- `PUT`: update data ***\n",
    "- `DELETE`: delete data ***\n",
    "- `TRANSFORM`: Transform data \n",
    "- `DOWNLOAD`: download data\n",
    "- `TUNE`: Tune data"
   ]
  },
  {
   "attachments": {},
   "cell_type": "markdown",
   "metadata": {},
   "source": [
    "## What are some of the different types of web based APIs? Select all that apply.\n",
    "\n",
    "- REST APIs: By far the most common type of API ***\n",
    "- HTTPS APIs: Legacy version of REST APIs ***\n",
    "- Websocket APIs: Enables 2-way communication between the client and the server ***\n",
    "- Database connection: Enables communication between a database and the system\n",
    "- SURF APIs: Enables surfing of the web\n",
    "- Offline APIs: API between two software systems offline on the same computer"
   ]
  },
  {
   "attachments": {},
   "cell_type": "markdown",
   "metadata": {},
   "source": [
    "## What is true about web based APIs? Select all that apply.\n",
    "\n",
    "- A requests is a message sent from one computer to another and typically a response is returned in the opposite direction ***\n",
    "- The **server** is the computer initiating the request and the **client** is the computer sending the response\n",
    "- Typically a web based API returns a response code which can explain the result of the request ***\n",
    "- APIs often require a token to access them, which is sent along in the header ***\n",
    "- You always need to provide a token when accessing an API and they always cost\n",
    "- Cross Origin Resource Sharing (CORS) is a mechanism for restricting which computers are allowed to access an API ***"
   ]
  }
 ],
 "metadata": {
  "kernelspec": {
   "display_name": "base",
   "language": "python",
   "name": "python3"
  },
  "language_info": {
   "name": "python",
   "version": "3.10.9"
  },
  "orig_nbformat": 4,
  "vscode": {
   "interpreter": {
    "hash": "a2592652612463181e69ac003232387e3e9a99279aa6b168e76f5df16d5110f4"
   }
  }
 },
 "nbformat": 4,
 "nbformat_minor": 2
}
