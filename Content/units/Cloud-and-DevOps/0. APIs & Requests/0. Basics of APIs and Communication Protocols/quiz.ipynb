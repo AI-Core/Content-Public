{
 "cells": [
  {
   "attachments": {},
   "cell_type": "markdown",
   "metadata": {},
   "source": [
    "# APIs and Requests - Overview"
   ]
  },
  {
   "attachments": {},
   "cell_type": "markdown",
   "metadata": {},
   "source": [
    "## What are the **common** methods used by a web based API to communicate? Select all that apply.\n",
    "\n",
    "- `GET`: get some data ***\n",
    "- `POST`: insert data ***\n",
    "- `PUT`: update data ***\n",
    "- `DELETE`: delete data ***\n",
    "- `TRANSFORM`: Transform data \n",
    "- `DOWNLOAD`: download data\n",
    "- `TUNE`: Tune data"
   ]
  },
  {
   "attachments": {},
   "cell_type": "markdown",
   "metadata": {},
   "source": [
    "## What is true about web based APIs? Select all that apply.\n",
    "\n",
    "- A requests is a message sent from one computer to another and typically a response is returned in the opposite direction ***\n",
    "- The **server** is the computer initiating the request and the **client** is the computer sending the response\n",
    "- Typically a web based API returns a response code which can explain the result of the request ***\n",
    "- APIs often require a token to access them, which is sent along in the header ***\n",
    "- You always need to provide a token when accessing an API and they always cost\n"
   ]
  },
  {
   "attachments": {},
   "cell_type": "markdown",
   "metadata": {},
   "source": [
    "## True or False: HTTPS is a secure connection protocol.\n",
    "\n",
    "- True ***\n",
    "- False"
   ]
  },
  {
   "attachments": {},
   "cell_type": "markdown",
   "metadata": {},
   "source": [
    "## Which of the following are true of the HTTP connection protocol?\n",
    "\n",
    "- Each request is independent of all others and does not retain any information about previous requests ***\n",
    "- Status codes that begin with a `4` mean that a request was successful\n",
    "- HTTP uses encryption protocols to protect your data\n",
    "- `GET`, `POST` and `PUT` are common methods in HTTP ***\n",
    "- In the HTTP protocol, either the client or the server can initiate a request"
   ]
  },
  {
   "attachments": {},
   "cell_type": "markdown",
   "metadata": {},
   "source": [
    "## What is the term for the specific URL that represents a particular resource or function in an API?\n",
    "\n",
    "- Endpoint ***\n",
    "- Resource link\n",
    "- Location\n",
    "- Website\n",
    "- Socket"
   ]
  },
  {
   "attachments": {},
   "cell_type": "markdown",
   "metadata": {},
   "source": [
    "## Which API method is used to request some information from the server?\n",
    "\n",
    "- `GET` ***\n",
    "- `RETRIEVE`\n",
    "- `FIND`\n",
    "- `PUT`"
   ]
  },
  {
   "attachments": {},
   "cell_type": "markdown",
   "metadata": {},
   "source": [
    "## Which API method is used to update an existing record on the server?\n",
    "\n",
    "- `POST`\n",
    "- `PUT` ***\n",
    "- `UPDATE`\n",
    "- `ADD`"
   ]
  },
  {
   "attachments": {},
   "cell_type": "markdown",
   "metadata": {},
   "source": [
    "## Consider the following request made with the Python `requests` library. Which of the following statements are True? Select all that apply.\n",
    "\n",
    "```python\n",
    "\n",
    "data = {\n",
    "    'title': 'My New Post',\n",
    "    'content': 'This is the content of my new post.'\n",
    "}\n",
    "\n",
    "response = requests.post('https://jsonplaceholder.typicode.com/posts/1', json=data)\n",
    "```\n",
    "\n",
    "- `.post` is the method or verb ***\n",
    "- `https://jsonplaceholder.typicode.com/posts/1` is the payload\n",
    "-  We can tell if the request has been successful by looking at `response.status_code` ***\n",
    "-  This method will update an existing entry on the server\n",
    "\n",
    "\n"
   ]
  },
  {
   "attachments": {},
   "cell_type": "markdown",
   "metadata": {},
   "source": [
    "## Which of the following status codes represents a successful API transaction?\n",
    "\n",
    "- `200` ***\n",
    "- `400`\n",
    "- `100`\n",
    "- `501`\n",
    "- `404`"
   ]
  },
  {
   "attachments": {},
   "cell_type": "markdown",
   "metadata": {},
   "source": [
    "## Which of the following statements are true of the HTTPS connection protocol?\n",
    "\n",
    "- HTTPS uses port 80 for communication\n",
    "- HTTPS encrypts the data sent between the client and the server ***\n",
    "- While the data sent by HTTPS is encrypted, there is no way to tell whether the server itself is trustworthy\n",
    "- The content of one request contains no information about any previous requests: the protocol is *stateless* ***"
   ]
  }
 ],
 "metadata": {
  "kernelspec": {
   "display_name": "base",
   "language": "python",
   "name": "python3"
  },
  "language_info": {
   "name": "python",
   "version": "3.10.9"
  },
  "orig_nbformat": 4,
  "vscode": {
   "interpreter": {
    "hash": "a2592652612463181e69ac003232387e3e9a99279aa6b168e76f5df16d5110f4"
   }
  }
 },
 "nbformat": 4,
 "nbformat_minor": 2
}
