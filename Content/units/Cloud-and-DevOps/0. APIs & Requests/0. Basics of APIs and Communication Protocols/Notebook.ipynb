{
 "cells": [
  {
   "attachments": {},
   "cell_type": "markdown",
   "metadata": {},
   "source": [
    "# Basics of APIs and Communication Protocols\n",
    "\n",
    "## What is an API?\n",
    "\n",
    "> *API* stands for *Application Programming Interface*. It is a set of rules and protocols that allow different software applications to communicate with each other. APIs enable developers to access and use the functionality of external systems or services without needing to understand the underlying implementation details. The term API is a broad concept used in all areas of programming, to allow different software components to interact with each other. However, these lessons are specifically about a type of API called a *RESTful API* or *web API*. A RESTful API (Representational State Transfer) is a way for two computer systems to communicate over the internet.\n",
    "\n",
    "In simpler terms, an API is like a waiter in a restaurant. You (the *client*) can place an order (send a *request*) to the waiter (API), and the waiter will take your request to the kitchen (*server*), bring you the food (*response*), and provide you with the service you requested."
   ]
  },
  {
   "attachments": {},
   "cell_type": "markdown",
   "metadata": {},
   "source": [
    "As a concrete example, let's consider a simple scenario: you are building an application for a hotel's guests, and you want to add a feature to display the current weather conditions. Instead of 'reinventing the wheel' by building a system to gather and process raw meteorological data, you can use an API from a service like the Met Office. Your application sends a request to the Met Office's API with the specifics about what data it needs, such as the location you want to know the weather for. The API then processes your request and returns the information you requested, which your application can then display to the user.  "
   ]
  },
  {
   "attachments": {},
   "cell_type": "markdown",
   "metadata": {},
   "source": [
    "## Motivation\n",
    "\n",
    "There are several reasons to learn about the basics of APIs and how they are implemented:\n",
    "\n",
    "- **Integration Power**: APIs connect applications, allowing them to work together seamlessly. Understanding APIs enables you to integrate different software systems and create innovative solutions\n",
    "- **Access to Resources**: APIs provide access to valuable data and services offered by third-party providers, opening up endless possibilities for enhancing your projects\n"
   ]
  },
  {
   "attachments": {},
   "cell_type": "markdown",
   "metadata": {},
   "source": [
    "## Client-Server Architecture\n",
    "\n",
    "> APIs are built around a *client-server* architecture, where the *client* (requesting application) makes *requests* to the *server* (API provider) to access its resources or services. \n",
    "\n",
    "This communication follows a request-response cycle, where the client sends a request, and the server responds with the requested data or an indication of the action's success or failure. APIs provide an abstraction layer that hides the underlying implementation details of the server, allowing developers to interact with the provided services through standardized methods.\n",
    "\n",
    "### Client\n",
    "\n",
    "The **client** refers to the application or software that initiates a request to access the services or resources provided by the server. It can be any application, such as a web application, mobile app, or even another API. The client sends requests to the server, indicating what it wants to accomplish or retrieve.\n",
    "\n",
    "### Server\n",
    "\n",
    "The **server** is responsible for receiving and processing the requests from the client. It hosts the API, which provides the requested services or resources. The server processes the requests, performs the necessary actions or operations, and generates a response that is sent back to the client. The server is responsible for handling the logic and data associated with the API's functionalities.\n",
    "\n",
    "### Request-Response Cycle\n",
    "\n",
    "The client-server architecture operates on a request-response cycle. Here's a simplified breakdown of the steps involved:\n",
    "\n",
    "- **1. Request Initiation**: The client initiates a request to the server, specifying the desired action or the data it wants to retrieve\n",
    "\n",
    "- **2. Request Routing**: The client transmits the request over a network\n",
    "\n",
    "- **3. Request Processing**: The server receives the request and identifies the appropriate logic and resources to handle it\n",
    "\n",
    "- **4. Data Retrieval or Manipulation**: If the request involves retrieving data, the server accesses the necessary resources, such as databases or external services, to gather the requested information. If the request involves modifying data, the server performs the required operations to update, create, or delete the relevant resources.\n",
    "\n",
    "- **5. Response Generation**:  After processing the request, the server generates a response that contains the requested data or an indication of the success or failure of the request. The response may also include additional information, such as headers and response codes.\n",
    "\n",
    "- **6. Response Transmission**: The server sends the response back to the client over the network\n",
    "\n",
    "- **7. Response Handling**: The client receives the response and processes it accordingly. It extracts the relevant data, handles any errors or status codes, and takes appropriate actions based on the response.\n"
   ]
  },
  {
   "attachments": {},
   "cell_type": "markdown",
   "metadata": {},
   "source": [
    "## Communication Protocols\n",
    "\n",
    "> A protocol is a predefined set of rules for communicating. The protocol tells computers how to format a message when sending it and how to interpret the raw data when receiving it.\n",
    "\n",
    "Communication protocols play a vital role in enabling the transfer of data between clients and servers over the internet. In the context of APIs, two widely used protocols are *HTTP (Hypertext Transfer Protocol)* and its secure counterpart, *HTTPS (Hypertext Transfer Protocol Secure)*. \n",
    "\n",
    "### HTTP (Hypertext Transfer Protocol)\n",
    "\n",
    "HTTP is the foundation of communication on the World Wide Web. It defines the rules and conventions for how clients and servers interact and exchange data. Here are some key aspects of HTTP:\n",
    "\n",
    "- **Request-Response Model**: HTTP operates on a request-response model, where the client initiates a request to the server, and the server responds with the requested data or an indication of the action's success or failure\n",
    "- **Stateless Protocol**: HTTP is a *stateless protocol*, meaning each request is independent and does not retain any information about previous requests\n",
    "- **Methods**: HTTP defines several *methods*, also known as *HTTP verbs*, that indicate the intended action to be performed on a resource. Common methods include `GET` (retrieve resource), `POST` (create resource), `PUT` (update resource), and `DELETE` (remove resource). We will discuss in detail about them later.\n",
    "- **Headers**: HTTP headers provide additional information about the request or response, such as content type, cache control, authentication tokens, and more. We will also discuss more about them later.\n",
    "- **Status Codes**: HTTP status codes indicate the result of the request. These codes range from informational (`1xx`) to success (`2xx`), redirection (`3xx`), client errors (`4xx`), and server errors (`5xx`).\n",
    "\n",
    "### HTTPS (Hypertext Transfer Protocol Secure)\n",
    "\n",
    "HTTPS is an extension of HTTP that adds an extra layer of security through encryption. It provides secure communication over the internet, protecting sensitive data from unauthorized access. Here are some key aspects of HTTPS:\n",
    "\n",
    "- **Encryption**: HTTPS uses encryption protocols, such as *SSL (Secure Sockets Layer)* or *TLS (Transport Layer Security)*, to encrypt the data exchanged between the client and server. This ensures that the information transmitted cannot be easily intercepted or deciphered by unauthorized parties.\n",
    "- **Digital Certificates**: HTTPS relies on digital certificates issued by trusted *Certificate Authorities (CAs)* to verify the authenticity of the server. Certificate Authorities are organizations or companies that are trusted to issue digital certificates by the makers of browsers and operating systems. The certificates establish a secure connection and enable the client to trust that it is communicating with the intended server.\n",
    "- **Port**: HTTPS typically uses port 443 for communication, while HTTP uses port 80. The use of a different port helps differentiate between secure and non-secure connections.\n",
    "\n",
    "> *Ports* are logical constructs inside a computer, representing virtual input and output sockets for transferring data. When a computer sends or receives data over the internet, it does so using what are known as packets. Each packet consists of a small amount of data, as well as metadata, which is data about the packet itself. This metadata includes information like the source and destination IP addresses, as well as the source and destination ports. \n",
    "\n",
    "### Choosing Between HTTP and HTTPS\n",
    "\n",
    "The choice between HTTP and HTTPS depends on the specific requirements of your application. While HTTP is sufficient for non-sensitive data and scenarios where encryption is not a concern, HTTPS is strongly recommended for any communication involving sensitive information, such as personal data, passwords, or financial transactions."
   ]
  },
  {
   "attachments": {},
   "cell_type": "markdown",
   "metadata": {},
   "source": [
    "## Introduction to Requests and Responses\n",
    "\n",
    "In the context of APIs, requests and responses are essential components of the communication between clients and servers. Understanding how requests are formulated and how responses are structured is crucial for working with APIs effectively.\n",
    "\n",
    "### Requests\n",
    "\n",
    "> A request is made by the client to the server, indicating the action it wants to perform or the data it wants to retrieve. The request contains information such as the *HTTP method*, *the endpoint URL*, optional *headers*, and, in some cases, a *payload* or *body*:\n",
    "\n",
    "\n",
    "\n",
    "- **HTTP Method**: The HTTP method, also known as the HTTP verb, specifies the action to be performed on the resource. Common HTTP methods include `GET` (retrieve data), `POST` (create data), `PUT` (update data), and `DELETE` (remove data).\n",
    "- **Endpoint URL**: The **endpoint URL** represents the specific resource or functionality on the server that the client wants to interact with. It typically follows a specific URL pattern defined by the API.\n",
    "- **Headers**: Headers provide additional information about the request, such as content type, authorization tokens, or caching directives. We will learn more about headers  in a later lesson.\n",
    "- **Payload or Body**: In certain cases, requests may include a payload or body containing data to be sent to the server. This is common for methods like `POST` or `PUT`, where the payload contains the data to create or update a resource. \n",
    "\n",
    "\n",
    "\n",
    "#### Endpoint URL\n",
    "\n",
    "> The endpoint URL is a specific URL that represents a resource or functionality provided by the API. It serves as a unique identifier for the API route or *endpoint* that the client wants to interact with. The  details of the URL structure and format are typically defined by the API provider and documented in the API's documentation, however it typically has a structure similar to the following:\n",
    "\n",
    "```\n",
    "<ROOT_URL>/<Path>?<Query Parameters>\n",
    "```\n",
    "\n",
    "In this structure:\n",
    "- `<ROOT_URL>` represents the base URL of the API\n",
    "- `<Path>` refers to the specific path or endpoint within the API that offers a specific service\n",
    "- `<Query Parameters>` are optional parameters passed in the URL query string, allowing for additional customization or filtering of the request\n",
    "\n",
    "<div style=\"text-align:center\"><img src=\"images/API_Structure.png\" width=500/></div>\n",
    "\n",
    "The endpoint URL usually consists of the base or root URL, followed by additional path segments that specify the specific resource or operation. For example, an API hosted at `https://api.example.com/` might have two resources, one for querying a database of users and retrieving a specific user's details, and one for retrieving the logs of when the API was accessed. In that example, the root URL would be `https://api.example.com/`, and it might have two paths, one at `/users` and the other at `/logs`. \n",
    "\n",
    "After the path section of the endpoint URL, one or more *parameters* can be specified, which allow for the specifics of the request to be controlled. The `?` symbol denotes the separation between the endpoint path and the start of the parameters, while multiple parameters are typically separated using the `&` symbol.\n",
    "\n",
    "Putting it all together, the endpoint URL `https://api.example.com/users?123`, would then represent a request to the `/users` endpoint of the API, with a parameter `123`  specifying the user ID of interest.\n",
    "\n",
    "\n",
    "#### Payload/Body\n",
    "\n",
    "> The payload or body of a request contains data that is sent from the client to the server. The payload can be in different formats, such as JSON, XML, or form data, depending on the API's requirements. It contains the necessary information or parameters needed to perform the requested operation.\n",
    "\n",
    "For example, when creating a new user, the payload might include details such as the user's name, email address, and password. The payload is structured according to the API's specification and guidelines. \n",
    "\n",
    "Including the payload in the request allows the client to send relevant data to the server, ensuring that the desired operation is performed accurately and with the necessary information.\n",
    "\n",
    "### Responses\n",
    "\n",
    "> When the server receives a request, it processes it and generates a response, which is then sent back to the client. The response contains the requested data or an indication of the success or failure of the requested action. \n",
    "\n",
    "Here are the key elements of a response:\n",
    "- **Status Code**: The status code is a three-digit numeric code that indicates the result of the request. Common status codes include `200` (OK) for successful requests, `201` (Created) for successful resource creation, `400` (Bad Request) for client errors, and `500` (Internal Server Error) for server errors.\n",
    "- **Headers**: Similar to the request, the response may contain headers providing additional information, such as content type, cache control directives, or server details\n",
    "- **Body**: The response body contains the data returned by the server. It can be in various formats, such as JSON, XML, or plain text, depending on the API's specifications.\n",
    "\n",
    "<p align=\"center\">\n",
    "    <img src=\"images/http-codes.png\" width=\"400\" height=\"700\"/>\n",
    "</p>\n",
    "\n",
    "\n",
    "### Request-Response Relationship\n",
    "\n",
    "> Requests and responses form a cycle of communication between the client and server. The client initiates a request, and the server processes it and generates a response. This request-response cycle allows the client to communicate with the server and retrieve the desired data or perform actions on the available resources.\n"
   ]
  },
  {
   "attachments": {},
   "cell_type": "markdown",
   "metadata": {},
   "source": [
    "## Common API Communication Methods\n",
    "\n",
    "APIs support various communication methods that define the actions you can perform on the resources they expose. The most common API communication methods are `GET`, `POST`, `PUT`, and `DELETE`. Understanding these methods is essential for interacting with APIs effectively.\n",
    "\n",
    "### `GET` Method\n",
    "\n",
    "> The `GET` method is used to retrieve data from an API. It requests the server to return the specified resource(s) in the response. \n",
    "\n",
    "This method is safe, meaning it should not modify the state of the server or its resources. `GET` requests typically have no request body, and any additional information is passed through query parameters in the URL. \n",
    "\n",
    "### `POST` Method\n",
    "\n",
    "> The `POST` method is used to send data to the server and create a new resource. It submits data in the request body, which is typically in JSON format, to the API endpoint. \n",
    "\n",
    "`POST` requests may return a response with the newly created resource or other relevant information.\n",
    "\n",
    "### `PUT` Method\n",
    "\n",
    "> The `PUT` method is used to update an existing resource on the server. It sends data in the request body to modify the resource identified by the API endpoint. \n",
    "\n",
    "`PUT` requests typically replace the entire resource with the provided data.\n",
    "\n",
    "### `DELETE` Method\n",
    "\n",
    "> The `DELETE` method is used to remove a specific resource from the server. It sends a request to delete the resource identified by the API endpoint. \n",
    "\n",
    "`DELETE` requests do not have a request body as they are focused on removing the resource rather than sending data. "
   ]
  },
  {
   "attachments": {},
   "cell_type": "markdown",
   "metadata": {},
   "source": [
    "## Making HTTP requests\n",
    "\n",
    "Python provides several libraries and modules that make it straightforward to send HTTP requests to APIs. These libraries abstract the complexities of HTTP communication, allowing developers to interact with APIs using simple and intuitive code. One commonly used library for making HTTP requests in Python is `requests`.\n",
    "\n",
    "### Installing the `requests` Library\n",
    "\n",
    "Before using the `requests` library, you need to install it. Run the following command to install the `requests` library:\n",
    " \n",
    "```\n",
    "pip install requests\n",
    "```\n",
    "\n",
    "### Making `GET` Requests\n",
    "\n",
    "To make a `GET` request to an API endpoint using requests, you can use the `get()` function. Let's make a `GET` request to retrieve information about a Pokémon from the Pokémon API:"
   ]
  },
  {
   "cell_type": "code",
   "execution_count": 1,
   "metadata": {},
   "outputs": [
    {
     "name": "stdout",
     "output_type": "stream",
     "text": [
      "Name: pikachu\n",
      "Abilities: static, lightning-rod\n",
      "Base Experience: 112\n"
     ]
    }
   ],
   "source": [
    "import requests\n",
    "\n",
    "# Send a GET request to the Pokémon API to retrieve information about Pikachu\n",
    "response = requests.get('https://pokeapi.co/api/v2/pokemon/pikachu')\n",
    "\n",
    "# Check if the request was successful (status code 200)\n",
    "if response.status_code == 200:\n",
    "    # Access the response data as JSON\n",
    "    data = response.json()\n",
    "\n",
    "    # Extract and print the name of the Pokémon\n",
    "    name = data['name']\n",
    "    print(f\"Name: {name}\")\n",
    "\n",
    "    # Extract and print the Pokémon's abilities\n",
    "    abilities = [ability['ability']['name'] for ability in data['abilities']]\n",
    "    print(\"Abilities:\", \", \".join(abilities))\n",
    "\n",
    "    # Extract and print the Pokémon's base experience\n",
    "    base_experience = data['base_experience']\n",
    "    print(f\"Base Experience: {base_experience}\")\n",
    "\n",
    "# If the request was not successful, print the status code and response text\n",
    "else:\n",
    "    print(f\"Request failed with status code: {response.status_code}\")\n",
    "    print(f\"Response Text: {response.text}\")\n"
   ]
  },
  {
   "attachments": {},
   "cell_type": "markdown",
   "metadata": {},
   "source": [
    "In the above example, we use `requests.get()` to send a `GET` request to the Pokémon API's `/pokemon/pikachu` endpoint. The response from the server is stored in the `response` object. If the request was successful (status code `200`), we extract and print information about the Pokémon, such as its name, abilities, and base experience. If the request was not successful, we print the status code and the response text, which provides additional information about the error.\n",
    "\n",
    "### Making `POST`, `PUT`, and `DELETE` Requests\n",
    "\n",
    "Apart from `GET` requests, APIs also support other common HTTP methods like `POST`, `PUT`, and `DELETE`. Let's see examples of these methods using the Pokémon API:\n",
    "\n",
    "- `POST` request:"
   ]
  },
  {
   "cell_type": "code",
   "execution_count": 4,
   "metadata": {},
   "outputs": [
    {
     "name": "stdout",
     "output_type": "stream",
     "text": [
      "New resource created successfully\n"
     ]
    }
   ],
   "source": [
    "import requests\n",
    "\n",
    "# Data for the new resource\n",
    "data = {\n",
    "    'title': 'My New Post',\n",
    "    'content': 'This is the content of my new post.'\n",
    "}\n",
    "\n",
    "# Send a POST request to create a new resource\n",
    "response = requests.post('https://jsonplaceholder.typicode.com/posts', json=data)\n",
    "\n",
    "# Check if the request was successful (status code 201)\n",
    "if response.status_code == 201:\n",
    "    print(\"New resource created successfully\")\n",
    "else:\n",
    "    print(f\"Request failed with status code: {response.status_code}\")\n"
   ]
  },
  {
   "attachments": {},
   "cell_type": "markdown",
   "metadata": {},
   "source": [
    "In this example, we use the JSONPlaceholder API, a mock API for testing and prototyping. The endpoint `https://jsonplaceholder.typicode.com/posts` is where we can create a new post.\n",
    "\n",
    "We define the `data` dictionary with the necessary information for the new post, including the `title` and `content` attributes.\n",
    "\n",
    "The `requests.post()` function sends a `POST` request to the API endpoint with the JSON payload `json=data`. This creates a new resource, such as a post, based on the provided data.\n",
    "\n",
    "> When using HTTP methods, remember to replace the endpoint URL with the appropriate API endpoint for creating new resources in your API. Also, ensure that the data dictionary matches the expected payload structure defined by the API.\n",
    "\n",
    "- `PUT` request:"
   ]
  },
  {
   "cell_type": "code",
   "execution_count": 5,
   "metadata": {},
   "outputs": [
    {
     "name": "stdout",
     "output_type": "stream",
     "text": [
      "Resource updated successfully\n"
     ]
    }
   ],
   "source": [
    "import requests\n",
    "\n",
    "# Data for updating the resource\n",
    "data = {\n",
    "    'title': 'Updated Title',\n",
    "    'content': 'This is the updated content of the post.'\n",
    "}\n",
    "\n",
    "# Send a PUT request to update the resource\n",
    "response = requests.put('https://jsonplaceholder.typicode.com/posts/1', json=data)\n",
    "\n",
    "# Check if the request was successful (status code 200)\n",
    "if response.status_code == 200:\n",
    "    print(\"Resource updated successfully\")\n",
    "else:\n",
    "    print(f\"Request failed with status code: {response.status_code}\")"
   ]
  },
  {
   "attachments": {},
   "cell_type": "markdown",
   "metadata": {},
   "source": [
    "In this example, we're making a `PUT` request to update an existing resource (post). We specify the URL `https://jsonplaceholder.typicode.com/posts/1`, where `/1` represents the ID of the post we want to update.\n",
    "\n",
    "The `requests.put()` function sends the `PUT` request to the API endpoint with the JSON payload `json=data`. This updates the existing resource with the provided data.\n",
    "\n",
    "- `DELETE` request:"
   ]
  },
  {
   "cell_type": "code",
   "execution_count": 6,
   "metadata": {},
   "outputs": [
    {
     "name": "stdout",
     "output_type": "stream",
     "text": [
      "Resource deleted successfully\n"
     ]
    }
   ],
   "source": [
    "import requests\n",
    "\n",
    "# Send a DELETE request to remove the resource\n",
    "response = requests.delete('https://jsonplaceholder.typicode.com/posts/1')\n",
    "\n",
    "# Check if the request was successful (status code 200)\n",
    "if response.status_code == 200:\n",
    "    print(\"Resource deleted successfully\")\n",
    "else:\n",
    "    print(f\"Request failed with status code: {response.status_code}\")"
   ]
  },
  {
   "attachments": {},
   "cell_type": "markdown",
   "metadata": {},
   "source": [
    "In this example, we're making a `DELETE` request to remove an existing resource (post). We use the URL `https://jsonplaceholder.typicode.com/posts/1`, where `/1` represents the ID of the post we want to delete.\n",
    "\n",
    "The `requests.delete()` function sends the `DELETE` request to the API endpoint. This deletes the specified resource.\n",
    "\n",
    "\n",
    "### Using `cURL`\n",
    "\n",
    "Apart from Python, you can also interact with APIs using command-line tools like `cURL`. `cURL` allows you to send HTTP requests directly from the terminal. Here's an example using `cURL` to make a `GET` request to the Pokémon API: `curl -X GET https://pokeapi.co/api/v2/pokemon/pikachu`.\n",
    "\n",
    "In the above `cURL` command, we specify the `GET` method using `-X GET` and provide the API endpoint `https://pokeapi.co/api/v2/pokemon/pikachu`. This command sends the `GET` request to the API, and the response is displayed in the terminal.\n",
    "\n",
    "### Response Explanation\n",
    "\n",
    "When making HTTP requests to APIs, the response from the server contains important information. Let's briefly explain the components of a typical HTTP response:\n",
    "\n",
    "- **JSON**: The `response.json()` method (in Python) or the response body (in cURL) provides the actual data returned by the API in JSON format. It allows you to extract and work with the relevant information.\n",
    "\n",
    "- **Status Code**: The `response.status_code` indicates the outcome of the request\n",
    "\n",
    "- **Response Tex**t: The `response.text` contains the textual representation of the response from the server. It can include additional information or error messages related to the request.\n",
    "\n",
    "Understanding the response components helps you analyze the outcome of your requests, handle errors, and extract the necessary information from the API's response."
   ]
  },
  {
   "attachments": {},
   "cell_type": "markdown",
   "metadata": {},
   "source": [
    "## Key Takeaways\n",
    "\n",
    "- An API (Application Programming Interface) is a set of rules and protocols that allows different software applications to communicate and interact with each other\n",
    "- The client-server architecture is a communication model where clients make requests to servers, and servers respond to those requests\n",
    "- Communication protocols, such as HTTP and HTTPS, define the rules and formats for how data is transmitted and exchanged between clients and servers\n",
    "- HTTP (Hypertext Transfer Protocol) is a widely used protocol for communication over the web, while HTTPS (Hypertext Transfer Protocol Secure) adds a layer of security through encryption\n",
    "- Requests are made by clients to request specific information or actions from servers\n",
    "- Responses are sent by servers in reply to client requests and contain the requested data or indicate the outcome of an action\n",
    "- `GET` requests retrieve data from a server, `POST` requests submit data to create new resources, `PUT` requests update existing resources, and `DELETE` requests remove resources\n",
    "- The `requests` library in Python provides a convenient way to make HTTP requests and handle responses\n"
   ]
  }
 ],
 "metadata": {
  "kernelspec": {
   "display_name": "base",
   "language": "python",
   "name": "python3"
  },
  "language_info": {
   "codemirror_mode": {
    "name": "ipython",
    "version": 3
   },
   "file_extension": ".py",
   "mimetype": "text/x-python",
   "name": "python",
   "nbconvert_exporter": "python",
   "pygments_lexer": "ipython3",
   "version": "3.9.2"
  },
  "vscode": {
   "interpreter": {
    "hash": "a2592652612463181e69ac003232387e3e9a99279aa6b168e76f5df16d5110f4"
   }
  }
 },
 "nbformat": 4,
 "nbformat_minor": 2
}
