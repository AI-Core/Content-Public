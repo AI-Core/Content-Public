{
 "cells": [
  {
   "attachments": {},
   "cell_type": "markdown",
   "metadata": {},
   "source": [
    "# Introduction to Docker"
   ]
  },
  {
   "attachments": {},
   "cell_type": "markdown",
   "metadata": {},
   "source": [
    "## What is Docker primarily used for in software development and deployment?\n",
    "\n",
    "- Virtualizing hardware\n",
    "- Containerizing applications ***\n",
    "- Managing databases\n",
    "- Generating documentation"
   ]
  },
  {
   "cell_type": "markdown",
   "metadata": {},
   "source": [
    "## Which of the following components is responsible for providing a runnable instance of a Docker image?\n",
    "\n",
    "- Image\n",
    "- Registry\n",
    "- Volume\n",
    "- Container ***"
   ]
  },
  {
   "attachments": {},
   "cell_type": "markdown",
   "metadata": {},
   "source": [
    "## What is true about Docker images? Select all that apply.\n",
    "\n",
    "- An image is an instance of a container\n",
    "- A container is an instance of an image *** \n",
    "- If an image cannot be found locally, Docker will try to pull it from DockerHub *** \n",
    "- They are built from a `Dockerfile` ***"
   ]
  },
  {
   "attachments": {},
   "cell_type": "markdown",
   "metadata": {},
   "source": [
    "## Which of the following statements about containers are true?\n",
    "\n",
    "- If you don't specify a name for a container, you won't be able to reference it by name\n",
    "- You can run multiple containers at the same time as long as they have the same name\n",
    "- Containers are instances of images ***\n",
    "- You can pull and push containers to DockerHub\n",
    "- Multiple containers based on the same image can't be run at the same time"
   ]
  },
  {
   "attachments": {},
   "cell_type": "markdown",
   "metadata": {},
   "source": [
    "## Which of the following statements are true about containers? Select all that apply.\n",
    "\n",
    "- Containers are lighter weight than Virtual Machines (VMs) ***\n",
    "- All dependencies required by your application can be packed inside the container ***\n",
    "- Containers are always destroyed after running once\n",
    "- Containers are heavier on the system than virtual machines"
   ]
  },
  {
   "cell_type": "markdown",
   "metadata": {},
   "source": [
    "## True or False: Docker Hub is a private container registry that requires a paid subscription to use.\n",
    "\n",
    "- True\n",
    "- False ***"
   ]
  },
  {
   "cell_type": "markdown",
   "metadata": {},
   "source": [
    "## Which command is used to list all running Docker containers on your system?\n",
    "\n",
    "- `docker list`\n",
    "- `docker ps` ***\n",
    "- `docker status`\n",
    "- `docker show`"
   ]
  },
  {
   "cell_type": "markdown",
   "metadata": {},
   "source": [
    "## True or False: Docker images are immutable, which means their contents cannot be changed once created.\n",
    "\n",
    "- True ***\n",
    "- False"
   ]
  },
  {
   "cell_type": "markdown",
   "metadata": {},
   "source": [
    "## True or False: You can use the `docker stop` command to forcefully terminate a running container without waiting for it to shut down gracefully.\n",
    "\n",
    "- True\n",
    "- False ***"
   ]
  }
 ],
 "metadata": {
  "kernelspec": {
   "display_name": "base",
   "language": "python",
   "name": "python3"
  },
  "language_info": {
   "name": "python",
   "version": "3.10.9"
  },
  "orig_nbformat": 4,
  "vscode": {
   "interpreter": {
    "hash": "a2592652612463181e69ac003232387e3e9a99279aa6b168e76f5df16d5110f4"
   }
  }
 },
 "nbformat": 4,
 "nbformat_minor": 2
}
