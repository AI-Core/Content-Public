{
 "cells": [
  {
   "attachments": {},
   "cell_type": "markdown",
   "metadata": {},
   "source": [
    "# What is Docker?"
   ]
  },
  {
   "attachments": {},
   "cell_type": "markdown",
   "metadata": {},
   "source": [
    "## Which of the following are motivations for using Docker? Select all that apply.\n",
    "\n",
    "- Easy to share and load applications from others ***\n",
    "- Less steps to get everything set up ***\n",
    "- Consistent deployment of applications across environments ***\n",
    "- Applications can run on any machine, regardless of dependencies, as long as you have docker ***"
   ]
  },
  {
   "attachments": {},
   "cell_type": "markdown",
   "metadata": {},
   "source": [
    "## What is true about `Dockerfile`s? Select all that apply.\n",
    "\n",
    "- All `Dockerfile`s start with the `FROM` instruction ***\n",
    "- All `Dockerfile`s end with the `ENTRYPOINT` instruction \n",
    "- Docker run can create containers built from a `Dockerfile` ***\n",
    "- `Dockerfile`s contain the instructions for how to build Docker images *** \n",
    "- `Dockerfile`s must always be named `\"Dockerfile\"`"
   ]
  },
  {
   "attachments": {},
   "cell_type": "markdown",
   "metadata": {},
   "source": [
    "## What is true about Docker images? Select all that apply.\n",
    "\n",
    "- An image is an instance of a container\n",
    "- A container is an instance of an image *** \n",
    "- If an image cannot be found locally, Docker will try to pull it from DockerHub *** \n",
    "- They are built from a `Dockerfile` ***"
   ]
  },
  {
   "attachments": {},
   "cell_type": "markdown",
   "metadata": {},
   "source": [
    "## Which of the following statements about containers are true?\n",
    "\n",
    "- If you don't specify a name for a container, you won't be able to reference it by name\n",
    "- You can run multiple containers at the same time as long as they have the same name\n",
    "- Containers are instances of images ***\n",
    "- You can pull and push containers to DockerHub\n",
    "- Multiple containers based on the same image can't be run at the same time"
   ]
  },
  {
   "attachments": {},
   "cell_type": "markdown",
   "metadata": {},
   "source": [
    "## Which of the following statements are true about containers? Select all that apply.\n",
    "\n",
    "- Containers are lighter weight than Virtual Machines (VMs) ***\n",
    "- All dependencies required by your application can be packed inside the container ***\n",
    "- Containers are always destroyed after running once\n",
    "- Containers are heavier on the system than virtual machines"
   ]
  },
  {
   "attachments": {},
   "cell_type": "markdown",
   "metadata": {},
   "source": [
    "## Which of the following are Docker commands which can be inserted into a `Dockerfile`? Select all that apply\n",
    "\n",
    "- `RUN` ***\n",
    "- `CMD` ***\n",
    "- `FROM` ***\n",
    "- `COPY` ***\n",
    "- `REPLACE`\n",
    "- `EXTEND`"
   ]
  }
 ],
 "metadata": {
  "kernelspec": {
   "display_name": "base",
   "language": "python",
   "name": "python3"
  },
  "language_info": {
   "name": "python",
   "version": "3.10.9"
  },
  "orig_nbformat": 4,
  "vscode": {
   "interpreter": {
    "hash": "a2592652612463181e69ac003232387e3e9a99279aa6b168e76f5df16d5110f4"
   }
  }
 },
 "nbformat": 4,
 "nbformat_minor": 2
}
