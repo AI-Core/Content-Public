{
 "cells": [
  {
   "cell_type": "markdown",
   "metadata": {},
   "source": [
    "# Building, Running and Pushing Docker Containers"
   ]
  },
  {
   "cell_type": "markdown",
   "metadata": {},
   "source": [
    "## What is the primary benefit of using specific tags when tagging Docker images?\n",
    "\n",
    "- It provides a unique name for the image\n",
    "- It ensures that the image is the latest version\n",
    "- It allows for versioning and tracking changes to the image ***\n",
    "- It makes the image smaller in size"
   ]
  },
  {
   "cell_type": "markdown",
   "metadata": {},
   "source": [
    "## What is true about multi-stage builds? Select all that apply.\n",
    "\n",
    "- They can help reduce image size. *** \n",
    "- They make images easier to maintain ***\n",
    "- You should only use them when absolutely necessary\n",
    "- You can use multiple `FROM` statements in a Docker multistage build ***\n",
    "- You have to run the whole multistage build and can't stop it at a specific stage "
   ]
  },
  {
   "cell_type": "markdown",
   "metadata": {},
   "source": [
    "## Which of the following statements are good practice when creating images? Select all that apply.\n",
    "\n",
    "- Chain `RUN` commands together with `&&` so they run in a single directive ***\n",
    "- Make images as small as possible don't add additional dependencies if they are not required ***\n",
    "- Always use Python as your base image\n",
    "- Use multi-stage build to help reduce image size ***\n",
    "- Tag your containers so they're easily identifiable ***"
   ]
  },
  {
   "cell_type": "markdown",
   "metadata": {},
   "source": [
    "## True or False: Docker images are constructed from multiple layers, with each layer representing a set of changes or instructions from the Dockerfile.\n",
    "\n",
    "- True ***\n",
    "- False"
   ]
  },
  {
   "cell_type": "markdown",
   "metadata": {},
   "source": [
    "## True or False: In Docker, the build context is determined by the location of the Dockerfile.\n",
    "\n",
    "- True ***\n",
    "- False"
   ]
  },
  {
   "cell_type": "markdown",
   "metadata": {},
   "source": [
    "##  True or False: The `.dockerignore` file is used to specify files and directories that should be included in the Docker build context.\n",
    "\n",
    "- True\n",
    "- False ***"
   ]
  },
  {
   "cell_type": "markdown",
   "metadata": {},
   "source": [
    "## True or False: Multi-stage builds in Docker allow you to create multiple Dockerfiles for the same image.\n",
    "\n",
    "- True\n",
    "- False ***"
   ]
  },
  {
   "cell_type": "markdown",
   "metadata": {},
   "source": [
    "## When pushing an image to Docker Hub, what is the typical format of the repository name?\n",
    "\n",
    "- `<username>`\n",
    "- `<image_name>`\n",
    "- `<username>/<image_id>`\n",
    "- `<username>/<image_name>` ***"
   ]
  }
 ],
 "metadata": {
  "language_info": {
   "name": "python"
  },
  "orig_nbformat": 4
 },
 "nbformat": 4,
 "nbformat_minor": 2
}
