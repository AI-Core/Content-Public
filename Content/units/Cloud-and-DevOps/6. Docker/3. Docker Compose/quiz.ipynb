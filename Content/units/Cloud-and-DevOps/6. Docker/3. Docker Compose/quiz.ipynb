{
 "cells": [
  {
   "attachments": {},
   "cell_type": "markdown",
   "metadata": {},
   "source": [
    "# Docker Compose"
   ]
  },
  {
   "attachments": {},
   "cell_type": "markdown",
   "metadata": {},
   "source": [
    "## Which of the following statements are true about Docker Compose? Select all that apply.\n",
    "\n",
    "- Docker Compose can help you more easily run Docker containers ***\n",
    "- You can run multiple containers easily all from the same `YAML` file ***\n",
    "- Multiple containers can't be run at the same time without a Docker Compose file\n",
    "- There are some commands that can only be run from a Docker Compose\n",
    "- It helps you to build an entire containerise application with multiple components ***"
   ]
  },
  {
   "attachments": {},
   "cell_type": "markdown",
   "metadata": {},
   "source": [
    "## Which of the following is true about networking Docker containers with Docker Compose? Select all that apply.\n",
    "\n",
    "- The containers by default are on the same network ***\n",
    "- You can't have containers on different networks\n",
    "- The host address IP address of the container on the network will be it's service name in your Docker Compose file ***\n",
    "- You can only network two containers together \n",
    "- `localhost` inside a container refers to the `localhost` of the Docker container ***"
   ]
  },
  {
   "attachments": {},
   "cell_type": "markdown",
   "metadata": {},
   "source": [
    "## What are some good use case for using Docker Compose? Select all that apply.\n",
    "\n",
    "- Create a local development environment to develop application features ***\n",
    "- To quickly setup a test environment to test new development features ***\n",
    "- For game development\n",
    "- When you want to run multiple containers at the same time ***\n",
    "- When you want to keep a record of the arguments which a container runs with ***"
   ]
  },
  {
   "attachments": {},
   "cell_type": "markdown",
   "metadata": {},
   "source": [
    "## Which of the following are keys you can specify in your Docker Compose `YAML` file? Select all that apply.\n",
    "\n",
    "- `ports`: Specifies which ports to expose ***\n",
    "- `volumes`: Specifies which Docker volumes to attach to the service ***\n",
    "- `services`: Services which will be run as Docker containers ***\n",
    "- `build`: Where to build the image from ***\n",
    "- `api`: The API the container should connect to\n",
    "- `servers`: The servers the container should connect to"
   ]
  }
 ],
 "metadata": {
  "kernelspec": {
   "display_name": "base",
   "language": "python",
   "name": "python3"
  },
  "language_info": {
   "name": "python",
   "version": "3.10.9"
  },
  "orig_nbformat": 4,
  "vscode": {
   "interpreter": {
    "hash": "a2592652612463181e69ac003232387e3e9a99279aa6b168e76f5df16d5110f4"
   }
  }
 },
 "nbformat": 4,
 "nbformat_minor": 2
}
