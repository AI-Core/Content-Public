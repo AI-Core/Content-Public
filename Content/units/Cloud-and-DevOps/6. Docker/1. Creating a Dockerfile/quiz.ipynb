{
 "cells": [
  {
   "cell_type": "markdown",
   "metadata": {},
   "source": [
    "# Creating a Dockerfile"
   ]
  },
  {
   "cell_type": "markdown",
   "metadata": {},
   "source": [
    "## What is true about Dockerfiles? Select all that apply.\n",
    "\n",
    "- All Dockerfiles start with the `FROM` instruction ***\n",
    "- All Dockerfiles end with the `ENTRYPOINT` instruction \n",
    "- `docker run` can create containers built from a Dockerfile ***\n",
    "- Dockerfiles contain the instructions for how to build Docker images *** \n",
    "- Dockerfiles must always be named `\"Dockerfile\"`"
   ]
  },
  {
   "cell_type": "markdown",
   "metadata": {},
   "source": [
    "##  What is the purpose of a Dockerfile?\n",
    "\n",
    "- To run Docker containers\n",
    "- To configure Docker Hub settings\n",
    "- To define how a Docker image should be built ***\n",
    "- To manage Docker volumes"
   ]
  },
  {
   "cell_type": "markdown",
   "metadata": {},
   "source": [
    "## Which Dockerfile instruction is used for executing commands during the image build process?\n",
    "\n",
    "- `RUN` ***\n",
    "- `CMD`\n",
    "- `COPY`\n",
    "- `EXPOSE`"
   ]
  },
  {
   "cell_type": "markdown",
   "metadata": {},
   "source": [
    "## When using a Dockerfile, which instruction is used to specify the default command to be executed when a container starts?\n",
    "\n",
    "- `RUN`\n",
    "- `CMD` ***\n",
    "- `COPY`\n",
    "- `EXPOSE`"
   ]
  },
  {
   "cell_type": "markdown",
   "metadata": {},
   "source": [
    "## True or False: The `ENTRYPOINT` instruction defines the primary command that a Docker container executes when it starts.\n",
    "\n",
    "- True ***\n",
    "- False"
   ]
  },
  {
   "cell_type": "markdown",
   "metadata": {},
   "source": [
    "## True or False: The `COPY` instruction is used to copy files or directories from the host into the Docker image.\n",
    "\n",
    "- True ***\n",
    "- False"
   ]
  },
  {
   "cell_type": "markdown",
   "metadata": {},
   "source": [
    "## True or False: The `RUN` instruction is always executed in the shell form, involving string interpolation and shell processing.\n",
    "\n",
    "- True\n",
    "- False ***"
   ]
  },
  {
   "cell_type": "markdown",
   "metadata": {},
   "source": [
    "## True or False: Placing `COPY` statements after setting up OS dependencies is recommended to optimize cache usage.\n",
    "\n",
    "- True ***\n",
    "- False"
   ]
  },
  {
   "cell_type": "markdown",
   "metadata": {},
   "source": [
    "## Which Dockerfile instruction specifies the base image for a Docker image?\n",
    "\n",
    "- `BASE`\n",
    "- `FROM` ***\n",
    "- `INITIAL`\n",
    "- `ROOT`"
   ]
  },
  {
   "cell_type": "markdown",
   "metadata": {},
   "source": [
    "## Which form of the `RUN `instruction is recommended for security and consistency, especially when the base image lacks a shell?\n",
    "\n",
    "- shell form\n",
    "- exec form ***\n",
    "- script form\n",
    "- command form"
   ]
  },
  {
   "cell_type": "markdown",
   "metadata": {},
   "source": [
    "## When should you place `COPY` statements in a Dockerfile?\n",
    "\n",
    "- At the beginning of the file\n",
    "- After setting up OS dependencies ***\n",
    "- At the end of the file\n",
    "- Just before the `CMD` instruction"
   ]
  },
  {
   "cell_type": "markdown",
   "metadata": {},
   "source": [
    "## Which of the following command orders will correctly build a Docker Image?\n",
    "\n",
    "- `FROM`, `COPY`, `RUN`, `CMD` or `ENTRYPOINT` ***\n",
    "- `COPY`, `FROM`, `RUN`, `CMD` or `ENTRYPOINT`\n",
    "- `FROM`, `COPY`, `RUN`, `CMD` and `ENTRYPOINT`\n",
    "- `FROM`, `COPY`, `CMD` or `ENTRYPOINT`,  `RUN`\n"
   ]
  },
  {
   "cell_type": "markdown",
   "metadata": {},
   "source": [
    "## Which of the following statements are true about the Docker `COPY` command? Select all that apply.\n",
    "\n",
    "- Docker `COPY` has the following syntax `COPY <source> <destination>` ***\n",
    "- Often `COPY . .` is used because you want to copy all files from the Docker context location to the current working directory of the container ***\n",
    "- `COPY` copies files to a new location on your system which is accessible by all containers\n",
    "- `COPY` can be used with the `RUN` command to run a copy of a file\n",
    "- `COPY` should only be used in very rare cases  "
   ]
  },
  {
   "cell_type": "markdown",
   "metadata": {},
   "source": [
    "## What is true about Docker images? Select all that apply.\n",
    "\n",
    "- An image is an instance of a container\n",
    "- A container is an instance of an image *** \n",
    "- If an image cannot be found locally, Docker will try to pull it from DockerHub *** \n",
    "- They are built from a `Dockerfile` ***"
   ]
  }
 ],
 "metadata": {
  "language_info": {
   "name": "python"
  },
  "orig_nbformat": 4
 },
 "nbformat": 4,
 "nbformat_minor": 2
}
