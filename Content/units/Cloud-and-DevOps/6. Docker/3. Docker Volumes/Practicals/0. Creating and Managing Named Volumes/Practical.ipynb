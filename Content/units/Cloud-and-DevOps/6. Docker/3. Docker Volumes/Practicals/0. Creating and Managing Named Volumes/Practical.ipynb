{
 "cells": [
  {
   "cell_type": "markdown",
   "metadata": {},
   "source": [
    "# Creating and Managing Named Volumes"
   ]
  },
  {
   "cell_type": "markdown",
   "metadata": {},
   "source": [
    "In this practical, you will create and manage named volumes in Docker. Follow the steps below:\n",
    "\n",
    "1. Create a new Docker volume with the name `mydata_volume`\n",
    "\n",
    "2. Use this named volume to run a MySQL container (from the `mysql:latest` image). Mount the volume to the MySQL Data directory for persistence, this is `/var/lib/mysql`. You will need to specify environment variables for the MySQL container to set the root password (`MYSQL_ROOT_PASSWORD`) and database name (`MYSQL_DATABASE`).\n",
    "\n",
    "3. Inspect the details of the volume using the `docker volume inspect` command to learn more about the volume's properties\n",
    "\n",
    "4. Find the MySQL container's name or ID. Use the command-line client to connect to the container. You can do this with the `docker exec` command. Replace `mysql-container` with the actual name or ID of your container:\n",
    "\n",
    "```bash\n",
    "docker exec -it mysql-container mysql -u root -p\n",
    "```\n",
    "This command connects you to the MySQL container, logging in as the `root` user and prompts you for the password. Enter the password you set when running the container.\n",
    "\n",
    "5. Once you're connected to the MySQL container, you can create tables and insert data into your database. Use the SQL command bellow to insert data:\n",
    "\n",
    "```sql\n",
    "-- Select the database to insert data to\n",
    "USE <database-name>;\n",
    "\n",
    "-- Create a sample table\n",
    "CREATE TABLE users (\n",
    "    id INT AUTO_INCREMENT PRIMARY KEY,\n",
    "    name VARCHAR(255),\n",
    "    email VARCHAR(255)\n",
    ");\n",
    "\n",
    "-- Insert data into the table\n",
    "INSERT INTO users (name, email) VALUES\n",
    "    ('John Doe', 'john@example.com'),\n",
    "    ('Jane Smith', 'jane@example.com');\n",
    "```\n",
    "\n",
    "6. Create another container that shares the same named volume. You can use the `adminer` container as an example:\n",
    "\n",
    "```bash\n",
    "docker run -d --name adminer-container \\\n",
    "  -p 8080:8080 \\\n",
    "  --link <mysql-container-name>:db \\\n",
    "  adminer\n",
    "```\n",
    "This command starts an `adminer` container that is linked to the MySQL container.\n",
    "\n",
    "7. Open the web browser and navigate to `http://localhost:8080` to access the Adminer web interface. In the Adminer login page, enter the following details to connect to the MySQL Database:\n",
    "\n",
    "    - Username: root\n",
    "    - Password: The password you defined when running the MySQL container\n",
    "    - Database: The database name you defined when running the MySQL container <br><br>\n",
    "\n",
    "8. Confirm that you can access and manipulate the data stored in the `mydata_volume` by clicking on the `select` button in the Adminer web interface. You should be able to see the data added in Step 5, confirming data persistence across the two container.\n",
    "\n",
    "9. Cleanup the resources. Start by stopping and removing both the MySQL container and the Adminer container. Remove the named volume."
   ]
  }
 ],
 "metadata": {
  "language_info": {
   "name": "python"
  }
 },
 "nbformat": 4,
 "nbformat_minor": 2
}
