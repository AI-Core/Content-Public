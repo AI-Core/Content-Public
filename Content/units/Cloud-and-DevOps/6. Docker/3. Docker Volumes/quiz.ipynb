{
 "cells": [
  {
   "attachments": {},
   "cell_type": "markdown",
   "metadata": {},
   "source": [
    "# Docker Volumes"
   ]
  },
  {
   "attachments": {},
   "cell_type": "markdown",
   "metadata": {},
   "source": [
    "## Which the following statements are true about Docker Volumes? Select all that apply.\n",
    "\n",
    "- Docker Volumes are persistent storage ***\n",
    "- Docker Volumes can be shared between multiple containers ***\n",
    "- Docker Volumes only exist for the lifetime of the container\n",
    "- Docker Volumes can be used to store persistent data inside the container\n",
    "- Docker Volumes are destroyed when the container exits"
   ]
  },
  {
   "cell_type": "markdown",
   "metadata": {},
   "source": [
    "## What is true about Docker Volumes? Select all that apply.\n",
    "\n",
    "- Docker volumes are destroyed after the container is stopped\n",
    "- Docker volumes allow us to create persistent storage between Docker containers and the local machine ***\n",
    "- We can create a Docker volume when running the container with the `-v` flag ***\n",
    "- Docker volume is the only way to get data from a container \n",
    "- Docker volumes can only be used by one container "
   ]
  },
  {
   "cell_type": "markdown",
   "metadata": {},
   "source": [
    "## True or False: Docker volumes are primarily used for in-memory storage.\n",
    "\n",
    "- True\n",
    "- False ***"
   ]
  },
  {
   "cell_type": "markdown",
   "metadata": {},
   "source": [
    "## True or False: Docker volumes are automatically removed when the associated container is stopped.\n",
    "\n",
    "- True\n",
    "- False ***"
   ]
  },
  {
   "cell_type": "markdown",
   "metadata": {},
   "source": [
    "## True or False: Docker volumes do not support data persistence and are primarily used for temporary storage.\n",
    "\n",
    "- True\n",
    "- False ***"
   ]
  }
 ],
 "metadata": {
  "kernelspec": {
   "display_name": "base",
   "language": "python",
   "name": "python3"
  },
  "language_info": {
   "name": "python",
   "version": "3.10.9"
  },
  "orig_nbformat": 4,
  "vscode": {
   "interpreter": {
    "hash": "a2592652612463181e69ac003232387e3e9a99279aa6b168e76f5df16d5110f4"
   }
  }
 },
 "nbformat": 4,
 "nbformat_minor": 2
}
