{
 "cells": [
  {
   "attachments": {},
   "cell_type": "markdown",
   "metadata": {},
   "source": [
    "# Docker Essentials"
   ]
  },
  {
   "attachments": {},
   "cell_type": "markdown",
   "metadata": {},
   "source": [
    "## What is true about multi-stage builds? Select all that apply.\n",
    "\n",
    "- They can help reduce image size. *** \n",
    "- They make images easier to maintain ***\n",
    "- You should only use them when absolutely necessary\n",
    "- You can use multiple `FROM` statements in a Docker multistage build ***\n",
    "- You have to run the whole multistage build and can't stop it at a specific stage "
   ]
  },
  {
   "attachments": {},
   "cell_type": "markdown",
   "metadata": {},
   "source": [
    "## What is true about Docker Volumes? Select all that apply.\n",
    "\n",
    "- Docker volumes are destroyed after the container is stopped\n",
    "- Docker volumes allow us to create persistent storage between Docker containers and the local machine ***\n",
    "- We can create a Docker volume when running the container with the `-v` flag ***\n",
    "- Docker volume is the only way to get data from a container \n",
    "- Docker volumes can only be used by one container "
   ]
  },
  {
   "attachments": {},
   "cell_type": "markdown",
   "metadata": {},
   "source": [
    "## Which of the following is true about Docker commands? Select all that apply.\n",
    "\n",
    "- `ENTRYPOINT` commands are ignored when the Docker container is run with command line parameters \n",
    "- `ENTRYPOINT` commands aren't ignored when the Docker container is run with command line parameters ***\n",
    "- `CMD` commands are ignored when the Docker container is run with command line parameters ***\n",
    "- `CMD` commands aren't ignored when the Docker container is run with command line parameters \n",
    "- `RUN` allows you to build and install applications and packages required for your image to run ***\n",
    "- `RUN` tells your Docker container to run after it's creation."
   ]
  },
  {
   "attachments": {},
   "cell_type": "markdown",
   "metadata": {},
   "source": [
    "## What is true about Docker containers? Select all that apply.\n",
    "\n",
    "- We can specify what files we don't want in the containers using the `.dockerignore` file ***\n",
    "- Images are instantiations of images\n",
    "- Containers states should be mutable ***\n",
    "- You can interact with the Docker container using the `-it` flag ***\n",
    "- We can tag the container using the `-t` flag ***\n",
    "- The `-p` flag allows use to specify which process ID the container should run with"
   ]
  },
  {
   "attachments": {},
   "cell_type": "markdown",
   "metadata": {},
   "source": [
    "## Which of the following command orders will correctly build a Docker Image?\n",
    "\n",
    "- `FROM`, `COPY`, `RUN`, `CMD` or `ENTRYPOINT` ***\n",
    "- `COPY`, `FROM`, `RUN`, `CMD` or `ENTRYPOINT`\n",
    "- `FROM`, `COPY`, `RUN`, `CMD` and `ENTRYPOINT`\n",
    "- `FROM`, `COPY`, `CMD` or `ENTRYPOINT`,  `RUN`\n"
   ]
  },
  {
   "attachments": {},
   "cell_type": "markdown",
   "metadata": {},
   "source": [
    "## Which of the following are important Docker commands? Select all that apply.\n",
    "\n",
    "- `docker image`: manages Docker Images ***\n",
    "- `docker container`: manages Docker containers ***\n",
    "- `docker network`: manages Docker networks ***\n",
    "- `docker storage`: manages container storage\n",
    "- `docker load`: loads all docker containers"
   ]
  },
  {
   "attachments": {},
   "cell_type": "markdown",
   "metadata": {},
   "source": [
    "## Which of the following statements are true about the Docker `COPY` command? Select all that apply.\n",
    "\n",
    "- Docker `COPY` has the following syntax `COPY <source> <destination>` ***\n",
    "- Often `COPY . .` is used because you want to copy all files from the Docker context location to the current working directory of the container ***\n",
    "- `COPY` copies files to a new location on your system which is accessible by all containers\n",
    "- `COPY` can be used with the `RUN` command to run a copy of a file\n",
    "- `COPY` should only be used in very rare cases  "
   ]
  },
  {
   "attachments": {},
   "cell_type": "markdown",
   "metadata": {},
   "source": [
    "## Which of the following statements are good practice when creating images? Select all that apply.\n",
    "\n",
    "- Chain `RUN` commands together with `&&` so they run in a single directive ***\n",
    "- Make images as small as possible don't add additional dependencies if they are not required ***\n",
    "- Always use Python as your base image\n",
    "- Use multi-stage build to help reduce image size ***\n",
    "- Tag your containers so they're easily identifiable ***"
   ]
  }
 ],
 "metadata": {
  "kernelspec": {
   "display_name": "base",
   "language": "python",
   "name": "python3"
  },
  "language_info": {
   "name": "python",
   "version": "3.10.9"
  },
  "orig_nbformat": 4,
  "vscode": {
   "interpreter": {
    "hash": "a2592652612463181e69ac003232387e3e9a99279aa6b168e76f5df16d5110f4"
   }
  }
 },
 "nbformat": 4,
 "nbformat_minor": 2
}
