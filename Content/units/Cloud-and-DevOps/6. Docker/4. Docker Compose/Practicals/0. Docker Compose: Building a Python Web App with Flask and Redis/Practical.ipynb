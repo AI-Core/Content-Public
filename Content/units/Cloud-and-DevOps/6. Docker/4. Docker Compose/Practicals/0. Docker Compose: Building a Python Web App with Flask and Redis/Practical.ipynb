{
 "cells": [
  {
   "cell_type": "markdown",
   "metadata": {},
   "source": [
    "# Docker Compose: Building a Python Web App with Flask and Redis"
   ]
  },
  {
   "cell_type": "markdown",
   "metadata": {},
   "source": [
    "In this practical, you will build a simple Python web application. Flask is the framework that will be used to create the web application, and Redis is an in-memory data store that will be employed to maintain a hit counter for the application. All the necessary components will be provided to you through Docker containers, so you don't need to worry about not having previous experience using these technologies.\n",
    "\n",
    "## Step 1: Define the Application Dependencies\n",
    "\n",
    "1. Create a project directory called `compose-test`\n",
    "\n",
    "2. Inside this directory, create a Python script file named `app.py`. Copy the contents of this [file](https://cdn.theaicore.com/content/lessons/fc11754a-1137-46ba-818f-0e03b76c1c26/practicals/40a51190-e822-450b-9316-c8df12991888/app.py) in the script.\n",
    "\n",
    "3. Create another file called `requirements.txt` in your project directory and make sure to include `Flask` and `redis` as dependencies of your application\n",
    "\n",
    "## Step 2: Create a Dockerfile\n",
    "\n",
    "1. In your project directory, created a file named `Dockerfile` and including the [following code](https://cdn.theaicore.com/content/lessons/fc11754a-1137-46ba-818f-0e03b76c1c26/practicals/40a51190-e822-450b-9316-c8df12991888/Dockerfile)\n",
    "\n",
    "The Dockerfile is used to build a Docker image containing all the dependencies the Python application requires."
   ]
  },
  {
   "cell_type": "markdown",
   "metadata": {},
   "source": [
    "## Step 3: Define Services in a Compose File\n",
    "\n",
    "1. Create a filed called `docker-compose.yml` in your project directory and past the following content:\n",
    "\n",
    "```yaml\n",
    "services:\n",
    "  web:\n",
    "    build: .\n",
    "    ports:\n",
    "      - \"8000:5000\"\n",
    "    environment:\n",
    "      FLASK_DEBUG: \"true\"\n",
    "  redis:\n",
    "    image: \"redis:alpine\"\n",
    "```\n",
    "\n",
    "This Compose file defines two services: `web` and `redis`. The `web` service uses an image built from the Dockerfile in the current directory, specified using `build: .`, while the `redis` service uses a public Redis image from Docker Hub."
   ]
  },
  {
   "cell_type": "markdown",
   "metadata": {},
   "source": [
    "## Step 4: Build and Run Your App with Compose\n",
    "\n",
    "1. From your project directory, start the application by running: `docker compose up`\n",
    "\n",
    "2. The application will start and be accessible at `http://localhost:8000` on your local web browser. You should see a message saying `Hello World! I have been seen 1 times.`\n",
    "\n",
    "3. Refresh the page to increment the count"
   ]
  },
  {
   "cell_type": "markdown",
   "metadata": {},
   "source": [
    "## Step 5: Update the Application\n",
    "\n",
    "1. Change the greeting in `app.py` and save it. For example, change the `\"Hello World!\"` message to `\"Hello from Docker!\"`.\n",
    "\n",
    "2. Refresh the app in your browser to see the updated greeting\n",
    "\n",
    "## Step 6: Clean Up Docker Compose\n",
    "\n",
    "After you've finished running your Docker Compose application, you can clean up the containers, networks, and volumes using the `docker-compose down` command. "
   ]
  }
 ],
 "metadata": {
  "language_info": {
   "name": "python"
  }
 },
 "nbformat": 4,
 "nbformat_minor": 2
}
