{
 "cells": [
  {
   "attachments": {},
   "cell_type": "markdown",
   "metadata": {},
   "source": [
    "# Docker Compose"
   ]
  },
  {
   "attachments": {},
   "cell_type": "markdown",
   "metadata": {},
   "source": [
    "## Which of the following statements are true about Docker Compose? Select all that apply.\n",
    "\n",
    "- Docker Compose can help you more easily run Docker containers ***\n",
    "- You can run multiple containers easily all from the same `YAML` file ***\n",
    "- Multiple containers can't be run at the same time without a Docker Compose file\n",
    "- There are some commands that can only be run from a Docker Compose\n",
    "- It helps you to build an entire containerize application with multiple components ***"
   ]
  },
  {
   "attachments": {},
   "cell_type": "markdown",
   "metadata": {},
   "source": [
    "## What are some good use case for using Docker Compose? Select all that apply.\n",
    "\n",
    "- Create a local development environment to develop application features ***\n",
    "- To quickly setup a test environment to test new development features ***\n",
    "- For game development\n",
    "- When you want to run multiple containers at the same time ***"
   ]
  },
  {
   "attachments": {},
   "cell_type": "markdown",
   "metadata": {},
   "source": [
    "## What is the primary purpose of Docker Compose?\n",
    "\n",
    "- To manage individual Docker containers\n",
    "- To orchestrate multi-container applications ***\n",
    "- To create virtual machines\n",
    "- To monitor container performance"
   ]
  },
  {
   "cell_type": "markdown",
   "metadata": {},
   "source": [
    "## In Docker Compose, what is a service?\n",
    "\n",
    "- A single container\n",
    "- A network bridge\n",
    "- A set of containers with a common configuration ***\n",
    "- An environment variable"
   ]
  },
  {
   "cell_type": "markdown",
   "metadata": {},
   "source": [
    "## Which command is used to start a multi-container application defined in a `docker-compose.yml` file?\n",
    "\n",
    "- `docker up`\n",
    "- `docker run`\n",
    "- `docker-compose start`\n",
    "- `docker-compose up` ***"
   ]
  },
  {
   "cell_type": "markdown",
   "metadata": {},
   "source": [
    "## What is the purpose of environment variables in Docker Compose? Select all that apply.\n",
    "\n",
    "- To define custom network modes\n",
    "- To specify resource limits for containers\n",
    "- To store and manage sensitive data securely ***\n",
    "- To configure settings within containers ***"
   ]
  },
  {
   "cell_type": "markdown",
   "metadata": {},
   "source": [
    "## True or False: Docker Compose is suitable for managing large-scale production deployments.\n",
    "\n",
    "- True\n",
    "- False ***"
   ]
  }
 ],
 "metadata": {
  "kernelspec": {
   "display_name": "base",
   "language": "python",
   "name": "python3"
  },
  "language_info": {
   "name": "python",
   "version": "3.10.9"
  },
  "orig_nbformat": 4,
  "vscode": {
   "interpreter": {
    "hash": "a2592652612463181e69ac003232387e3e9a99279aa6b168e76f5df16d5110f4"
   }
  }
 },
 "nbformat": 4,
 "nbformat_minor": 2
}
