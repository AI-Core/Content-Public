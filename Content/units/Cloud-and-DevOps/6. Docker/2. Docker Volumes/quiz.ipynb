{
 "cells": [
  {
   "attachments": {},
   "cell_type": "markdown",
   "metadata": {},
   "source": [
    "# Docker Volumes"
   ]
  },
  {
   "attachments": {},
   "cell_type": "markdown",
   "metadata": {},
   "source": [
    "## Which the following statements are true about Docker Volumes? Select all that apply.\n",
    "\n",
    "- Docker Volumes are persistent storage ***\n",
    "- Docker Volumes can be shared between multiple containers ***\n",
    "- Docker Volumes only exist for the lifetime of the container\n",
    "- Docker Volumes can be used to store persistent data inside the container\n",
    "- Docker Volumes are destroyed when the container exits"
   ]
  },
  {
   "attachments": {},
   "cell_type": "markdown",
   "metadata": {},
   "source": [
    "## Which is the correct way to specify a Docker bind mount when running a container? Select all that apply.\n",
    "\n",
    "- `docker run -v <path on system>:<path inside container> <image name>` ***\n",
    "- `docker run --volume <path on system>:<path inside container> <image name>` ***\n",
    "- `docker run -v <path inside container>:<volume name> <image name>` \n",
    "- `docker run --volume <path inside container>:<volume name> <image name>` "
   ]
  },
  {
   "attachments": {},
   "cell_type": "markdown",
   "metadata": {},
   "source": [
    "## What are some advantages to using a Docker Volume over a Docker bind mount? Select all that apply.\n",
    "\n",
    "- Docker Volumes can be easily encrypted ***\n",
    "- Docker Volumes can be populated by a container when created ***\n",
    "- Docker Volumes depend on the host OS \n",
    "- Docker Volumes can store more data\n",
    "- Docker Volumes can more easily help you edit configuration files since you can view the files on your system"
   ]
  }
 ],
 "metadata": {
  "kernelspec": {
   "display_name": "base",
   "language": "python",
   "name": "python3"
  },
  "language_info": {
   "name": "python",
   "version": "3.10.9"
  },
  "orig_nbformat": 4,
  "vscode": {
   "interpreter": {
    "hash": "a2592652612463181e69ac003232387e3e9a99279aa6b168e76f5df16d5110f4"
   }
  }
 },
 "nbformat": 4,
 "nbformat_minor": 2
}
