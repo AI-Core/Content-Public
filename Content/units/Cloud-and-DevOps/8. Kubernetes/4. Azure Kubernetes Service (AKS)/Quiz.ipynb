{
 "cells": [
  {
   "cell_type": "markdown",
   "metadata": {},
   "source": [
    "# Azure Kubernetes Service (AKS)"
   ]
  },
  {
   "cell_type": "markdown",
   "metadata": {},
   "source": [
    "## True or False: Azure Kubernetes Service (AKS) is a managed service that simplifies container orchestration and management.\n",
    "\n",
    "- True ***\n",
    "- False"
   ]
  },
  {
   "cell_type": "markdown",
   "metadata": {},
   "source": [
    "## True or False: AKS clusters consist of control planes (masters) and node pools (worker nodes) where containers are deployed.\n",
    "\n",
    "- True ***\n",
    "- False"
   ]
  },
  {
   "cell_type": "markdown",
   "metadata": {},
   "source": [
    "## True or False: Horizontal Pod Autoscaling (HPA) allows AKS to automatically adjust the number of Pod replicas based on resource usage.\n",
    "\n",
    "- True ***\n",
    "- False"
   ]
  },
  {
   "cell_type": "markdown",
   "metadata": {},
   "source": [
    "## True or False: Rolling updates in AKS involve simultaneously replacing all old Pods with new ones to minimize downtime.\n",
    "\n",
    "- True\n",
    "- False ***"
   ]
  },
  {
   "cell_type": "markdown",
   "metadata": {},
   "source": [
    "## What is the primary purpose of Horizontal Pod Autoscaling (HPA) in AKS?\n",
    "\n",
    "- To manually adjust the number of replicas for a Deployment\n",
    "- To automatically adjust the number of Pod replicas based on resource metrics ***\n",
    "- To configure networking for AKS clusters\n",
    "- To create container images for AKS applications"
   ]
  },
  {
   "cell_type": "markdown",
   "metadata": {},
   "source": [
    "## When managing applications on AKS, which Kubernetes resource is used to define the desired state, including the number of replicas and Docker image to use?\n",
    "\n",
    "- Pod\n",
    "- Service\n",
    "- Deployment ***\n",
    "- Node Pool"
   ]
  },
  {
   "cell_type": "markdown",
   "metadata": {},
   "source": [
    "## True or False: AKS node pools can have different configurations (e.g., VM sizes) within the same cluster to accommodate varying workload requirements.\n",
    "\n",
    "- True ***\n",
    "- False"
   ]
  }
 ],
 "metadata": {
  "language_info": {
   "name": "python"
  },
  "orig_nbformat": 4
 },
 "nbformat": 4,
 "nbformat_minor": 2
}
