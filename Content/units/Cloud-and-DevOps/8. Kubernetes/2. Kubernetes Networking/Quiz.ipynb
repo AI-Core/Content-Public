{
 "cells": [
  {
   "cell_type": "markdown",
   "metadata": {},
   "source": [
    "# Kubernetes Networking"
   ]
  },
  {
   "cell_type": "markdown",
   "metadata": {},
   "source": [
    "## True or False: Kubernetes Pods always have static and durable IP addresses.\n",
    "\n",
    "- True\n",
    "- False ***"
   ]
  },
  {
   "cell_type": "markdown",
   "metadata": {},
   "source": [
    "## True or False: Cluster IP is the default Service type in Kubernetes.\n",
    "\n",
    "- True ***\n",
    "- False"
   ]
  },
  {
   "cell_type": "markdown",
   "metadata": {},
   "source": [
    "## True or False: Load Balancer Services create a different IP address for each node in the cluster.\n",
    "\n",
    "- True\n",
    "- False ***"
   ]
  },
  {
   "cell_type": "markdown",
   "metadata": {},
   "source": [
    "## True or False: Node Port Services expose applications within the cluster to the world using a specific port on each node.\n",
    "\n",
    "- True ***\n",
    "- False"
   ]
  },
  {
   "cell_type": "markdown",
   "metadata": {},
   "source": [
    "## In Kubernetes, what is the primary purpose of a Service?\n",
    "\n",
    "- Managing the lifecycle of Pods\n",
    "- Assigning a single virtual IP address to a specified group of Pods ***\n",
    "- Creating Pods\n",
    "- Load balancing traffic between Pods"
   ]
  },
  {
   "cell_type": "markdown",
   "metadata": {},
   "source": [
    "## Which Kubernetes networking resource is used to manage external access to services in a cluster and may provide load balancing and SSL termination?\n",
    "\n",
    "- `NodePort`\n",
    "- `LoadBalancer`\n",
    "- `ClusterIP`\n",
    "- `Ingress` ***"
   ]
  },
  {
   "cell_type": "markdown",
   "metadata": {},
   "source": [
    "## True or False: A Node Port Service can only expose a single Pod.\n",
    "\n",
    "- True\n",
    "- False ***"
   ]
  },
  {
   "cell_type": "markdown",
   "metadata": {},
   "source": [
    "## True or False: In Kubernetes, Services can be created without specifying a port.\n",
    "\n",
    "- True\n",
    "- False ***"
   ]
  },
  {
   "cell_type": "markdown",
   "metadata": {},
   "source": [
    "## In Kubernetes, what is the primary role of a load balancer in a `LoadBalancer` Service?\n",
    "\n",
    "- Distributing traffic among multiple Kubernetes clusters\n",
    "- Redirecting traffic to different namespaces\n",
    "- Managing SSL termination for Pods\n",
    "- Distributing traffic among multiple Pods of the same Service ***"
   ]
  }
 ],
 "metadata": {
  "language_info": {
   "name": "python"
  },
  "orig_nbformat": 4
 },
 "nbformat": 4,
 "nbformat_minor": 2
}
