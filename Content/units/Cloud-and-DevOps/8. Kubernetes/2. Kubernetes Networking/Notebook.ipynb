{
 "cells": [
  {
   "cell_type": "markdown",
   "id": "f25525f5",
   "metadata": {},
   "source": [
    "# Kubernetes Networking"
   ]
  },
  {
   "cell_type": "markdown",
   "id": "19e83c06",
   "metadata": {},
   "source": [
    "In the previous lesson, you learned how to manage pods using Kubernetes workloads. Recall that workloads can control the lifecycle of pods; however, they operate in isolation from each other, and their actions are solely determined by the arguments passed to them.\n",
    "\n",
    "> To enable seamless communication among pods and with the entire cluster, Kubernetes provides networking resources that expose the pods to each other and external services. This networking infrastructure is crucial for the proper functioning of your applications within a Kubernetes environment.\n",
    "\n",
    "<p align=center><img src=images/K8_networking.webp width=600></p>\n",
    "\n",
    "One important concept we didn't cover in the previous lesson is that each pod has its own unique IP address. In this lesson, we'll delve into the details of Kubernetes networking, including how these IP addresses are assigned and how pods can communicate with each other over the network."
   ]
  },
  {
   "cell_type": "markdown",
   "id": "3cc0428c",
   "metadata": {},
   "source": [
    "## Hands-On: Viewing Pod Networking Information\n",
    "\n",
    "1. Start `minikube` if you haven't already\n",
    "\n",
    "2. Click on the following [link](https://cdn.theaicore.com/content/lessons/92324888-b4a5-41f1-bd52-f159ef357212/deployment.yaml) to access a file named `deployment.yaml`.  This file contains the configuration for a Kubernetes resource.\n",
    "\n",
    "3. Run the correct `kubectl` command to facilitate the deployment\n",
    "\n",
    "4. Run the following command: `kubectl get pods`, to view the description of the pods\n",
    "\n",
    "5. Run the following command: `kubectl get pods -o wide`, to view a more detailed description of the pods"
   ]
  },
  {
   "cell_type": "code",
   "execution_count": 11,
   "id": "e19754b7",
   "metadata": {},
   "outputs": [
    {
     "name": "stdout",
     "output_type": "stream",
     "text": [
      "deployment.apps/hello-deployment created\n"
     ]
    }
   ],
   "source": [
    "# deploy configuration \n",
    "!kubectl #complete command here"
   ]
  },
  {
   "cell_type": "code",
   "execution_count": 12,
   "id": "382c7923",
   "metadata": {},
   "outputs": [
    {
     "name": "stdout",
     "output_type": "stream",
     "text": [
      "NAME                              READY   STATUS    RESTARTS   AGE\n",
      "hello-deployment-fc9d6479-8dq8t   1/1     Running   0          7s\n",
      "hello-deployment-fc9d6479-dhsvf   1/1     Running   0          7s\n",
      "hello-deployment-fc9d6479-f88nn   1/1     Running   0          7s\n"
     ]
    }
   ],
   "source": [
    "# view pod information\n",
    "!kubectl #complete command here"
   ]
  },
  {
   "cell_type": "markdown",
   "id": "77363f98",
   "metadata": {},
   "source": [
    "> Your Pods name and IP addresses might differ when running this example. Don't worry about this!"
   ]
  },
  {
   "cell_type": "code",
   "execution_count": 13,
   "id": "d6684321",
   "metadata": {},
   "outputs": [
    {
     "name": "stdout",
     "output_type": "stream",
     "text": [
      "NAME                              READY   STATUS    RESTARTS   AGE   IP            NODE       NOMINATED NODE   READINESS GATES\n",
      "hello-deployment-fc9d6479-8dq8t   1/1     Running   0          38s   10.244.0.90   minikube   <none>           <none>\n",
      "hello-deployment-fc9d6479-dhsvf   1/1     Running   0          38s   10.244.0.91   minikube   <none>           <none>\n",
      "hello-deployment-fc9d6479-f88nn   1/1     Running   0          38s   10.244.0.89   minikube   <none>           <none>\n"
     ]
    }
   ],
   "source": [
    "# view advanced pod information\n",
    "!kubectl #complete command here"
   ]
  },
  {
   "cell_type": "markdown",
   "id": "203822fc",
   "metadata": {},
   "source": [
    "As can be observed, each pod has an IP address that is only visible when the `wide` (i.e. the more detailed) output is printed.\n",
    "\n",
    "> However, pod IP addresses in Kubernetes are not durable. Whenever an application is scaled up or down, or encounters an error and needs to be rebooted, the IP addresses disappear and need to be reassigned. This change in IP address occurs without warning. In response to this, Kubernetes utilizes *Services*."
   ]
  },
  {
   "cell_type": "markdown",
   "id": "afef9194",
   "metadata": {},
   "source": [
    "## Services\n",
    "\n",
    "**Services** are fundamental components that facilitate network communication within your cluster. They abstract the underlying complexities of pod management and help ensure that applications can communicate reliably and efficiently, whether they are running on the same node or distributed across a large cluster.\n",
    "\n",
    "<p align=center><img src=images/K8_Services.webp></p>"
   ]
  },
  {
   "cell_type": "markdown",
   "id": "764c1122",
   "metadata": {},
   "source": [
    "As we've mentioned before, pod IP addresses in Kubernetes are not durable. Whenever an application scales up or down, encounters an error, or needs to be rebooted, the IP addresses assigned to pods can change unpredictably. This dynamic behavior poses a challenge for maintaining consistent connectivity within your application.\n",
    "\n",
    "Let's consider what happens when a pod is deleted from the deployment resource:"
   ]
  },
  {
   "cell_type": "markdown",
   "id": "cbaedc44",
   "metadata": {},
   "source": [
    "### Hands-On\n",
    "\n",
    "1. Observe the IP addresses from the last deployment you created\n",
    "\n",
    "2. Delete one of the pods in the deployment resource\n",
    "\n",
    "3. Observe the IP addresses once more"
   ]
  },
  {
   "cell_type": "code",
   "execution_count": 14,
   "id": "6c9f3695",
   "metadata": {},
   "outputs": [
    {
     "name": "stdout",
     "output_type": "stream",
     "text": [
      "NAME                              READY   STATUS    RESTARTS   AGE   IP            NODE       NOMINATED NODE   READINESS GATES\n",
      "hello-deployment-fc9d6479-8dq8t   1/1     Running   0          64s   10.244.0.90   minikube   <none>           <none>\n",
      "hello-deployment-fc9d6479-dhsvf   1/1     Running   0          64s   10.244.0.91   minikube   <none>           <none>\n",
      "hello-deployment-fc9d6479-f88nn   1/1     Running   0          64s   10.244.0.89   minikube   <none>           <none>\n"
     ]
    }
   ],
   "source": [
    "# get advanced information about the pods \n",
    "!kubectl #complete command here"
   ]
  },
  {
   "cell_type": "code",
   "execution_count": 15,
   "id": "14cf9d94",
   "metadata": {},
   "outputs": [
    {
     "name": "stdout",
     "output_type": "stream",
     "text": [
      "pod \"hello-deployment-fc9d6479-8dq8t\" deleted\n"
     ]
    }
   ],
   "source": [
    "# delete one of the pods\n",
    "!kubectl #complete command here"
   ]
  },
  {
   "cell_type": "code",
   "execution_count": 16,
   "id": "f33251f8",
   "metadata": {},
   "outputs": [
    {
     "name": "stdout",
     "output_type": "stream",
     "text": [
      "NAME                              READY   STATUS    RESTARTS   AGE    IP            NODE       NOMINATED NODE   READINESS GATES\n",
      "hello-deployment-fc9d6479-8nrrs   1/1     Running   0          16s    10.244.0.92   minikube   <none>           <none>\n",
      "hello-deployment-fc9d6479-dhsvf   1/1     Running   0          108s   10.244.0.91   minikube   <none>           <none>\n",
      "hello-deployment-fc9d6479-f88nn   1/1     Running   0          108s   10.244.0.89   minikube   <none>           <none>\n"
     ]
    }
   ],
   "source": [
    "# get advanced information about the pods again\n",
    "!kubectl #complete command here"
   ]
  },
  {
   "cell_type": "markdown",
   "id": "7c120cec",
   "metadata": {},
   "source": [
    "As you can observe, the name and IP address of one of the pods have changed. Therefore, any attempt to point to the previous IP address will yield no result.\n",
    "\n",
    "To address this issue, Kubernetes introduces the concept of services. Here's how it works:\n",
    "\n",
    "- Kubernetes assigns a single virtual IP address to a specified group of pods associated with a service\n",
    "\n",
    "- Any incoming traffic addressed to this virtual IP address is automatically routed to the corresponding set of pods, maintaining seamless connectivity\n",
    "\n",
    "- While the set of pods linked to a service can change over time (e.g., during scaling or pod failures), the IP address of the service remains static and unchanging\n",
    "\n",
    "This approach ensures that your applications can consistently access the desired pods without worrying about the underlying IP address changes."
   ]
  },
  {
   "cell_type": "markdown",
   "id": "e65d4cc9",
   "metadata": {},
   "source": [
    "### Types of Services\n",
    "\n",
    "In Kubernetes, there are three primary types of services, each catering to specific use cases:\n",
    "\n",
    "- *Cluster IP*: The default service type, which provides a fixed IP address within the cluster. It serves as a small load balancer, distributing traffic among the pods in the cluster.\n",
    "\n",
    "- *Node Port*: Similar to Cluster IP but also creates a port on each node, allowing external traffic to reach the service, which then redirects it to the corresponding pods\n",
    "\n",
    "- *Load Balancer*: Exposes the service externally using a cloud provider's load balancer, making it accessible from the internet. It leverages cloud resources to route network traffic to the pods.\n",
    "\n",
    "Click on this [link](https://kubernetes.io/docs/concepts/services-networking/service/#publishing-services-service-types) for additional details. "
   ]
  },
  {
   "cell_type": "markdown",
   "id": "6b602f72",
   "metadata": {},
   "source": [
    "### Cluster IP\n",
    "\n",
    "> Cluster IP is a built-in networking resource that assigns a single virtual IP address to a group of pods within the cluster. This virtual IP address provides an internal entry point for applications and services running within the cluster, allowing them to communicate seamlessly.\n",
    "\n",
    "In the upcoming example, we will run a practical demo to illustrate how Kubernetes Services work, specifically using the `ClusterIP` service type. We'll connect the service to pods managed by a `Deployment` resource, showcasing the stability and reliability of services in a dynamic environment."
   ]
  },
  {
   "cell_type": "markdown",
   "id": "e4fcc562",
   "metadata": {},
   "source": [
    "``` yaml\n",
    "apiVersion: v1\n",
    "kind: Service\n",
    "metadata:\n",
    "  name: hello-service\n",
    "spec:\n",
    "  ports:\n",
    "    - port: 80\n",
    "      targetPort: 80\n",
    "  selector:\n",
    "    app: hello\n",
    "```"
   ]
  },
  {
   "cell_type": "markdown",
   "id": "638630ca",
   "metadata": {},
   "source": [
    "Observe the `spec` field, this is the specification section where you define the configuration for the Service :\n",
    "\n",
    "- `ports`: Here, you specify the ports that the Service should listen on and how they should be directed to the pods:\n",
    "\n",
    "  - `port: 80`: This line specifies that the Service should listen on port 80. This is the port that clients will use to connect to the Service.\n",
    "  - `targetPort: 80`: It indicates that incoming traffic on port 80 should be directed to pods' port 80. This is where the pods are listening for requests.\n",
    "\n",
    "- `selector`: This part defines a label selector, which is used to determine which pods the Service should route traffic to. In this case, it selects pods with the label `app: hello`. This means that any pod with the label `app` set to `hello` will be part of the set of pods targeted by this Service.\n",
    "\n",
    "For demonstration, we will run a single Pod, which will run an Ubuntu container inside the cluster. Then we will connect to that cluster and the service afterwards:\n",
    "\n",
    "``` yaml\n",
    "apiVersion: v1\n",
    "kind: Pod\n",
    "metadata:\n",
    "  name: hello-pod\n",
    "  labels:\n",
    "    app: hello\n",
    "spec:\n",
    "  containers:\n",
    "    - name: nginx-container\n",
    "      image: nginx:1.14.2\n",
    "```\n",
    "\n",
    "> In Kubernetes, you can define both different types of resources within the same `YAML` file using `---` as a separator. This approach allows you to manage the application's deployment and its associated service configuration together, making it more convenient for deploying and exposing applications in a single, structured `YAML` document.\n",
    "\n",
    "For the example above, this would look like this:\n",
    "\n",
    "\n",
    "```yaml\n",
    "apiVersion: v1\n",
    "kind: Service\n",
    "metadata:\n",
    "  name: hello-service\n",
    "spec:\n",
    "  ports:\n",
    "    - port: 80\n",
    "      targetPort: 80\n",
    "  selector:\n",
    "    app: hello\n",
    "---\n",
    "apiVersion: v1\n",
    "kind: Pod\n",
    "metadata:\n",
    "  name: hello-pod\n",
    "  labels:\n",
    "    app: hello\n",
    "spec:\n",
    "  containers:\n",
    "    - name: nginx-container\n",
    "      image: nginx:1.14.2\n",
    "```"
   ]
  },
  {
   "cell_type": "markdown",
   "id": "1f7849e6",
   "metadata": {},
   "source": [
    "### Hands-On: Demonstrating Kubernetes Services\n",
    "\n",
    "1. Create a Kubernetes Service and a Deployment resource using the provided configuration. Save this configuration in a file named `service-deployment.yaml`. Separate the two resources within the file using three dashes (`---`).\n",
    "\n",
    "2. Apply the `YAML` configuration to your Kubernetes cluster. This will create both the Service and Deployment\n",
    "\n",
    "3. Run the necessary `kubectl` command to view a list of all the pods and services\n",
    "\n",
    "4. Use the necessary `kubectl` command to view details about the IP address that the Service points to\n",
    "\n",
    "5. Use the necessary `kubectl` command to observe the IP addresses of all pods\n",
    "\n",
    "6. Compare the IP addresses of the individual pods with the endpoints pointed to by the Service,\n",
    "\n",
    "7. Delete one of the pods associated with the Deployment resource\n",
    "\n",
    "8. Compare the new addresses with the updated endpoints pointed to by the Service. Determine if the Service is still correctly pointing to the remaining IP addresses."
   ]
  },
  {
   "cell_type": "code",
   "execution_count": 19,
   "id": "2be6545d",
   "metadata": {},
   "outputs": [
    {
     "name": "stdout",
     "output_type": "stream",
     "text": [
      "service/hello-service created\n",
      "pod/hello-pod created\n"
     ]
    }
   ],
   "source": [
    "#Run both resources.\n",
    "!kubectl "
   ]
  },
  {
   "cell_type": "code",
   "execution_count": 20,
   "id": "c5473e86",
   "metadata": {},
   "outputs": [
    {
     "name": "stdout",
     "output_type": "stream",
     "text": [
      "NAME                                  READY   STATUS    RESTARTS   AGE\n",
      "pod/hello-deployment-fc9d6479-8nrrs   1/1     Running   0          3m24s\n",
      "pod/hello-deployment-fc9d6479-dhsvf   1/1     Running   0          4m56s\n",
      "pod/hello-deployment-fc9d6479-f88nn   1/1     Running   0          4m56s\n",
      "pod/hello-pod                         1/1     Running   0          16s\n",
      "\n",
      "NAME                    TYPE        CLUSTER-IP      EXTERNAL-IP   PORT(S)   AGE\n",
      "service/hello-service   ClusterIP   10.110.92.113   <none>        80/TCP    16s\n",
      "service/kubernetes      ClusterIP   10.96.0.1       <none>        443/TCP   47h\n"
     ]
    }
   ],
   "source": [
    "# Run a command to check all pods and services\n",
    "!kubectl"
   ]
  },
  {
   "cell_type": "markdown",
   "id": "f427f83b",
   "metadata": {},
   "source": [
    "As shown above, the service `service/hello`, has been created. This is a `ClusterIP` type service, meaning it's accessible only from within the cluster. The service has the internal IP address `10.110.92.113` and listens on port 80 for incoming TCP traffic. The `EXTERNAL-IP` field is marked as `<none>` indicating it's not externally exposed."
   ]
  },
  {
   "cell_type": "code",
   "execution_count": 21,
   "id": "3f09a232",
   "metadata": {},
   "outputs": [
    {
     "name": "stdout",
     "output_type": "stream",
     "text": [
      "Name:              hello-service\n",
      "Namespace:         default\n",
      "Labels:            <none>\n",
      "Annotations:       <none>\n",
      "Selector:          app=hello\n",
      "Type:              ClusterIP\n",
      "IP Family Policy:  SingleStack\n",
      "IP Families:       IPv4\n",
      "IP:                10.110.92.113\n",
      "IPs:               10.110.92.113\n",
      "Port:              <unset>  80/TCP\n",
      "TargetPort:        80/TCP\n",
      "Endpoints:         10.244.0.89:80,10.244.0.91:80,10.244.0.92:80\n",
      "Session Affinity:  None\n",
      "Events:            <none>\n"
     ]
    }
   ],
   "source": [
    "#Run a command to describe the IP addresses pointed to by the service:\n",
    "!kubectl "
   ]
  },
  {
   "cell_type": "code",
   "execution_count": 22,
   "id": "82b74241",
   "metadata": {},
   "outputs": [
    {
     "name": "stdout",
     "output_type": "stream",
     "text": [
      "NAME                              READY   STATUS    RESTARTS   AGE     IP            NODE       NOMINATED NODE   READINESS GATES\n",
      "hello-deployment-fc9d6479-8nrrs   1/1     Running   0          4m4s    10.244.0.92   minikube   <none>           <none>\n",
      "hello-deployment-fc9d6479-dhsvf   1/1     Running   0          5m36s   10.244.0.91   minikube   <none>           <none>\n",
      "hello-deployment-fc9d6479-f88nn   1/1     Running   0          5m36s   10.244.0.89   minikube   <none>           <none>\n",
      "hello-pod                         1/1     Running   0          56s     10.244.0.93   minikube   <none>           <none>\n"
     ]
    }
   ],
   "source": [
    "# Run a command to observe all the IP addresses of all pods.\n",
    "!kubectl "
   ]
  },
  {
   "cell_type": "markdown",
   "id": "f3b76d0a",
   "metadata": {},
   "source": [
    "> Don't worry here if you have a different IP address locally, just make sure the IP addresses of the Pods match the endpoints of the `ClusterIP`."
   ]
  },
  {
   "cell_type": "code",
   "execution_count": 23,
   "id": "4333e160",
   "metadata": {},
   "outputs": [
    {
     "name": "stdout",
     "output_type": "stream",
     "text": [
      "pod \"hello-deployment-fc9d6479-8nrrs\" deleted\n"
     ]
    }
   ],
   "source": [
    "# Delete one of the pods corresponding to the `Deployment` resource\n",
    "!kubectl "
   ]
  },
  {
   "cell_type": "code",
   "execution_count": 24,
   "id": "d310a4b3",
   "metadata": {},
   "outputs": [
    {
     "name": "stdout",
     "output_type": "stream",
     "text": [
      "NAME                              READY   STATUS    RESTARTS   AGE     IP            NODE       NOMINATED NODE   READINESS GATES\n",
      "hello-deployment-fc9d6479-dhsvf   1/1     Running   0          6m17s   10.244.0.91   minikube   <none>           <none>\n",
      "hello-deployment-fc9d6479-f88nn   1/1     Running   0          6m17s   10.244.0.89   minikube   <none>           <none>\n",
      "hello-deployment-fc9d6479-z6fs6   1/1     Running   0          18s     10.244.0.94   minikube   <none>           <none>\n",
      "hello-pod                         1/1     Running   0          97s     10.244.0.93   minikube   <none>           <none>\n",
      "Name:              hello-service\n",
      "Namespace:         default\n",
      "Labels:            <none>\n",
      "Annotations:       <none>\n",
      "Selector:          app=hello\n",
      "Type:              ClusterIP\n",
      "IP Family Policy:  SingleStack\n",
      "IP Families:       IPv4\n",
      "IP:                10.110.92.113\n",
      "IPs:               10.110.92.113\n",
      "Port:              <unset>  80/TCP\n",
      "TargetPort:        80/TCP\n",
      "Endpoints:         10.244.0.89:80,10.244.0.91:80,10.244.0.94:80\n",
      "Session Affinity:  None\n",
      "Events:            <none>\n"
     ]
    }
   ],
   "source": [
    "# Compare the new addresses with the new endpoints pointed by the `Service`\n",
    "!kubectl \n",
    "!kubectl "
   ]
  },
  {
   "cell_type": "markdown",
   "id": "e6f620c4",
   "metadata": {},
   "source": [
    "As can be observed, the IP addresses have changed, and the service is pointing to the newly created IP address. Thus, as mentioned before, Service will create the necessary routes to obtain the correct IP addresses, even when the pod has been rebooted."
   ]
  },
  {
   "cell_type": "markdown",
   "id": "713ea3bc",
   "metadata": {},
   "source": [
    "### Node Port\n",
    "\n",
    "> Node Port is a fundamental networking concept in Kubernetes. It opens a specific port on each node within the cluster, acting as a gateway to your applications. \n",
    "\n",
    "These `NodePort` services allow external access to your applications, making them accessible from outside the cluster. This means that clients, including web browsers and other applications, can connect to your services through the exposed port on any node, providing a way to interact with your applications from the external world. \n",
    "\n",
    "The process of creating a `NodePort` service closely resembles that of a `ClusterIP`. However, there is a crucial difference – you explicitly specify the service type as `NodePort`. Let's explore an example `YAML` configuration to illustrate this concept further:"
   ]
  },
  {
   "cell_type": "markdown",
   "id": "88594df4",
   "metadata": {},
   "source": [
    "``` yaml\n",
    "apiVersion: v1\n",
    "kind: Service\n",
    "metadata:\n",
    "  name: hello\n",
    "spec:\n",
    "  type: NodePort\n",
    "  ports:\n",
    "  - port: 8080\n",
    "    targetPort: 8080\n",
    "    nodePort: 30000\n",
    "  selector:\n",
    "    role: hello\n",
    "```"
   ]
  },
  {
   "cell_type": "markdown",
   "id": "dfbae7e0",
   "metadata": {},
   "source": [
    "#### Hands-On: `NodePort`\n",
    "\n",
    "1. Create a `YAML` file named `nodeport-example.yaml`, that defines the three resources: an `ubuntu` Pod, a `hello-deployment` Deployment (from the previous hands-on), and the `hello` `NodePort` Service provided above. The `ubuntu` Pod should have the following specifications:\n",
    "\n",
    "```yaml\n",
    "# Define the Pod\n",
    "apiVersion: v1\n",
    "kind: Pod\n",
    "metadata:\n",
    "  name: ubuntu-pod\n",
    "spec:\n",
    "  containers:\n",
    "    - name: ubuntu-container\n",
    "      image: ubuntu\n",
    "      command: [\"sleep\", \"infinity\"]\n",
    "```\n",
    "Make sure to separate each of the three resources in the `YAML` using `---`.\n",
    "\n",
    "2. Apply the `YAML` file using `kubectl` to create the resources in your cluster\n",
    "\n",
    "3. Using the necessary `kubectl` command view all the resources that you have created\n",
    "\n",
    "4. Using the necessary `kubectl` command to obtain information about the `NodePort` service "
   ]
  },
  {
   "cell_type": "code",
   "execution_count": 26,
   "id": "3b8b9152",
   "metadata": {},
   "outputs": [
    {
     "name": "stdout",
     "output_type": "stream",
     "text": [
      "pod/ubuntu-pod created\n",
      "deployment.apps/hello-deployment unchanged\n",
      "service/hello-service-nodeport created\n"
     ]
    }
   ],
   "source": [
    "# create resources\n",
    "!kubectl "
   ]
  },
  {
   "cell_type": "code",
   "execution_count": 27,
   "id": "4909340a",
   "metadata": {},
   "outputs": [
    {
     "name": "stdout",
     "output_type": "stream",
     "text": [
      "NAME                                  READY   STATUS    RESTARTS   AGE\n",
      "pod/hello-deployment-fc9d6479-dhsvf   1/1     Running   0          12m\n",
      "pod/hello-deployment-fc9d6479-f88nn   1/1     Running   0          12m\n",
      "pod/hello-deployment-fc9d6479-z6fs6   1/1     Running   0          6m23s\n",
      "pod/hello-pod                         1/1     Running   0          7m42s\n",
      "pod/ubuntu-pod                        1/1     Running   0          15s\n",
      "\n",
      "NAME                               READY   UP-TO-DATE   AVAILABLE   AGE\n",
      "deployment.apps/hello-deployment   3/3     3            3           12m\n",
      "\n",
      "NAME                             TYPE        CLUSTER-IP      EXTERNAL-IP   PORT(S)        AGE\n",
      "service/hello-service            ClusterIP   10.110.92.113   <none>        80/TCP         7m42s\n",
      "service/hello-service-nodeport   NodePort    10.103.16.66    <none>        80:30287/TCP   15s\n",
      "service/kubernetes               ClusterIP   10.96.0.1       <none>        443/TCP        47h\n"
     ]
    }
   ],
   "source": [
    "# Show all the services you created\n",
    "!kubectl "
   ]
  },
  {
   "cell_type": "code",
   "execution_count": 29,
   "id": "bd282bd4",
   "metadata": {},
   "outputs": [
    {
     "name": "stdout",
     "output_type": "stream",
     "text": [
      "Name:                     hello-service-nodeport\n",
      "Namespace:                default\n",
      "Labels:                   <none>\n",
      "Annotations:              <none>\n",
      "Selector:                 app=hello\n",
      "Type:                     NodePort\n",
      "IP Family Policy:         SingleStack\n",
      "IP Families:              IPv4\n",
      "IP:                       10.103.16.66\n",
      "IPs:                      10.103.16.66\n",
      "Port:                     <unset>  80/TCP\n",
      "TargetPort:               80/TCP\n",
      "NodePort:                 <unset>  30287/TCP\n",
      "Endpoints:                10.244.0.89:80,10.244.0.91:80,10.244.0.94:80\n",
      "Session Affinity:         None\n",
      "External Traffic Policy:  Cluster\n",
      "Events:                   <none>\n"
     ]
    }
   ],
   "source": [
    "# Obtain information about the node\n",
    "!kubectl "
   ]
  },
  {
   "cell_type": "markdown",
   "id": "1726cdd7",
   "metadata": {},
   "source": [
    "### Load Balancer\n",
    "\n",
    "> Load Balancers provide an efficient way to distribute incoming requests across multiple nodes within your Kubernetes cluster. They are commonly available as a service provided by cloud providers, but you can also explicitly specify them in your Kubernetes configuration.\n",
    "\n",
    "While they share some similarities with Node Ports, Load Balancers stand out in their ability to intelligently route traffic. They create a flexible, single IP address that can connect to any available node, providing a unified access point for your applications. In contrast, Node Ports assign individual IP addresses to each node, necessitating direct connections to specific nodes.\n",
    "\n",
    "Load Balancers offer an additional advantage in that they automatically configure the exposed port for you. To create a `LoadBalancer` service, all you need to do is specify `LoadBalancer` as the value for `spec.type` in your configuration. This simplicity means that the Load Balancer service takes care of the port configuration, making it easier for you to set up external access to your services without having to manually manage port assignments. For example, if you create a `LoadBalancer` service that listens on port 80, external traffic directed to this service will enter the cluster via an automatically assigned port on the external load balancer. This port assignment is handled by Kubernetes and may vary depending on the cloud provider or load balancer implementation.\n",
    "\n",
    "Let's look at a hands-on example that will guide you through the process of creating and using a `LoadBalancer` service in Kubernetes:"
   ]
  },
  {
   "cell_type": "markdown",
   "id": "4f80e150",
   "metadata": {},
   "source": [
    "### Hands-On: Creating a `LoadBalancer` Service\n",
    "\n",
    "1. Create a `YAML` file, let's name it `loadbalancer-example.yaml`, that defines the three resources: an `ubuntu` Pod, a `hello` Deployment, and a `hello` `LoadBalancer` Service. Your `LoadBalancer` should have the following specification:\n",
    "\n",
    "``` yaml\n",
    "apiVersion: v1\n",
    "kind: Service\n",
    "metadata:\n",
    "  name: hello\n",
    "spec:\n",
    "  type: LoadBalancer\n",
    "  ports:\n",
    "  - port: 8080\n",
    "    targetPort: 8080\n",
    "  selector:\n",
    "    role: hello\n",
    "```\n",
    "\n",
    "For the `ubuntu` Pod and `hello` Deployment keep the same examples as before."
   ]
  },
  {
   "cell_type": "markdown",
   "id": "6ec64a98",
   "metadata": {},
   "source": [
    "2. Apply the `loadbalancer-example.yaml` file to create the `LoadBalancer` service in your cluster:"
   ]
  },
  {
   "cell_type": "code",
   "execution_count": 31,
   "id": "ac2c4ce4",
   "metadata": {},
   "outputs": [
    {
     "name": "stdout",
     "output_type": "stream",
     "text": [
      "pod/ubuntu-pod unchanged\n",
      "deployment.apps/hello-deployment unchanged\n",
      "service/hello-service-loadbalancer created\n"
     ]
    }
   ],
   "source": [
    "!kubectl "
   ]
  },
  {
   "cell_type": "markdown",
   "id": "7c2fb724",
   "metadata": {},
   "source": [
    "To check the status of your service and obtain information about the external IP address allocated by the `LoadBalancer`, run:"
   ]
  },
  {
   "cell_type": "code",
   "execution_count": 43,
   "id": "ff6b6acf",
   "metadata": {},
   "outputs": [
    {
     "name": "stdout",
     "output_type": "stream",
     "text": [
      "NAME                         TYPE           CLUSTER-IP       EXTERNAL-IP   PORT(S)          AGE\n",
      "hello-service                ClusterIP      10.110.92.113    <none>        80/TCP           32m\n",
      "hello-service-loadbalancer   LoadBalancer   10.111.248.104   <pending>     8080:30766/TCP   19m\n",
      "hello-service-nodeport       NodePort       10.103.16.66     <none>        80:30287/TCP     25m\n",
      "kubernetes                   ClusterIP      10.96.0.1        <none>        443/TCP          2d\n"
     ]
    }
   ],
   "source": [
    "!kubectl get svc"
   ]
  },
  {
   "cell_type": "markdown",
   "id": "96004d10",
   "metadata": {},
   "source": [
    "This command will display information about the `hello` service, including the external IP address (under the `EXTERNAL-IP` column) once it's allocated. Initially, the `EXTERNAL-IP` field might be in a `<pending>` state until the Load Balancer is fully provisioned.\n",
    "\n",
    "Once the external IP address is assigned (it might take a few minutes), you can access your application using this IP address. You can use a web browser or any HTTP client to connect to your application using the external IP and port `8080`."
   ]
  },
  {
   "cell_type": "markdown",
   "id": "d7abb66c",
   "metadata": {},
   "source": [
    "## Ingress\n",
    "\n",
    "> An *Ingress* is a powerful object that simplifies external access to services within a cluster. It serves as a critical component for managing incoming HTTP and HTTPS traffic and offers features like load balancing and SSL termination. Essentially, Ingress provides a way to control and route external web traffic to specific services or applications running within a Kubernetes cluster.\n",
    "\n",
    "![](./images/ingress-one-service.png)\n",
    "\n",
    "Some features of Ingress include:\n",
    "\n",
    "- **External Access**: Ingress exposes HTTP and HTTPS services from outside the cluster, providing a unified entry point to access services within\n",
    "\n",
    "- **Load Balancing**: It can act as a load balancer, efficiently distributing incoming requests to the appropriate services within the cluster\n",
    "\n",
    "- **SSL Termination**: When an Ingress handles SSL termination, it acts as the endpoint for encrypted traffic. The Ingress decrypts the incoming SSL-encrypted data (SSL is a popular encryption mechanism), exposing the unencrypted content to the services within the cluster. This allows for secure communication from external clients to your applications running in the cluster without the need for those applications to manage SSL decryption themselves. It simplifies the process of handling secure web traffic within the cluster and provides an added layer of security.\n",
    "\n",
    "It's important to note that an Ingress controller must be installed and configured to work with Kubernetes. Various Ingress controllers are available, each offering different capabilities. You can explore the available options in the [official Kubernetes documentation](https://kubernetes.io/docs/concepts/services-networking/ingress-controllers/).\n",
    "\n",
    "To enable Ingress in Minikube, you can run the following command:"
   ]
  },
  {
   "cell_type": "code",
   "execution_count": 56,
   "id": "5692b533",
   "metadata": {},
   "outputs": [
    {
     "name": "stdout",
     "output_type": "stream",
     "text": [
      "💡  After the addon is enabled, please run \"minikube tunnel\" and your ingress resources would be available at \"127.0.0.1\"\n",
      "    ▪ Using image k8s.gcr.io/ingress-nginx/kube-webhook-certgen:v1.0\n",
      "    ▪ Using image k8s.gcr.io/ingress-nginx/kube-webhook-certgen:v1.0\n",
      "    ▪ Using image k8s.gcr.io/ingress-nginx/controller:v1.0.0-beta.3\n",
      "🔎  Verifying ingress addon...\n",
      "🌟  The 'ingress' addon is enabled\n"
     ]
    }
   ],
   "source": [
    "!minikube addons enable ingress"
   ]
  },
  {
   "cell_type": "markdown",
   "id": "f428e52d",
   "metadata": {},
   "source": [
    "You can verify that the `Ingress` controller is working correctly by checking the status of its pods:"
   ]
  },
  {
   "cell_type": "code",
   "execution_count": 34,
   "id": "bdd93065",
   "metadata": {},
   "outputs": [
    {
     "name": "stdout",
     "output_type": "stream",
     "text": [
      "NAME                                        READY   STATUS      RESTARTS      AGE\n",
      "ingress-nginx-admission-create-dv2nn        0/1     Completed   0             18h\n",
      "ingress-nginx-admission-patch-hxjtf         0/1     Completed   1             18h\n",
      "ingress-nginx-controller-7799c6795f-b7zkl   1/1     Running     1 (66m ago)   18h\n"
     ]
    }
   ],
   "source": [
    "!kubectl get pods -n ingress-nginx"
   ]
  },
  {
   "cell_type": "markdown",
   "id": "0e017c76",
   "metadata": {},
   "source": [
    "The `Ingress` controller typically deploys a `nginx` controller along with a `LoadBalancer` or `NodePort`, depending on the underlying platform. Consider the following code, and observe the output:"
   ]
  },
  {
   "cell_type": "code",
   "execution_count": 35,
   "id": "a86832eb",
   "metadata": {},
   "outputs": [
    {
     "name": "stdout",
     "output_type": "stream",
     "text": [
      "NAME                                 TYPE        CLUSTER-IP       EXTERNAL-IP   PORT(S)                      AGE\n",
      "ingress-nginx-controller             NodePort    10.102.200.194   <none>        80:31325/TCP,443:31254/TCP   18h\n",
      "ingress-nginx-controller-admission   ClusterIP   10.111.152.166   <none>        443/TCP                      18h\n"
     ]
    }
   ],
   "source": [
    "!kubectl -n ingress-nginx get svc"
   ]
  },
  {
   "cell_type": "markdown",
   "id": "92f91a60",
   "metadata": {},
   "source": [
    "### Defining `Ingress` Resources\n",
    "\n",
    "Let's have a look at an example of defining `Ingress` resources in Kubernetes, using `YAML` configuration:"
   ]
  },
  {
   "cell_type": "markdown",
   "id": "842950d9",
   "metadata": {},
   "source": [
    "``` yaml\n",
    "\n",
    "apiVersion: networking.k8s.io/v1\n",
    "kind: Ingress\n",
    "metadata:\n",
    "  name: minimal-ingress\n",
    "  annotations:\n",
    "    nginx.ingress.kubernetes.io/rewrite-target: /\n",
    "spec:\n",
    "  rules:\n",
    "  - http:\n",
    "      paths:\n",
    "      - path: /testpath\n",
    "        pathType: Prefix\n",
    "        backend:\n",
    "          service:\n",
    "            name: test\n",
    "            port:\n",
    "              number: 80\n",
    "```"
   ]
  },
  {
   "cell_type": "markdown",
   "id": "ed6c360e",
   "metadata": {},
   "source": [
    "This Ingress `YAML` configuration defines a Kubernetes `Ingress` resource, which is used to manage external access to services. The resource is named `minimal-ingress` and includes an annotation, `nginx.ingress.kubernetes.io/rewrite-target: /`, which configures an NGINX-based `Ingress` controller to rewrite the URL path to `/`. The annotation's instruction to rewrite the URL path to `/` means that when an incoming request matches this `Ingress`, the part of the URL path specified in the request will be replaced with `/`. This is useful for situations where you want to route requests with specific paths to a service but without changing the path itself in the final destination.\n",
    "\n",
    "The Ingress specification (`spec`) contains rules for handling incoming traffic. In this case, there is one rule for HTTP traffic (`http`) with a path rule that matches requests starting with `/testpath`. When such requests are received, they are directed to a Kubernetes Service named `test` on port 80. This configuration essentially routes incoming requests with the `/testpath` prefix to the `test` Service while rewriting the URL path to `/`."
   ]
  },
  {
   "cell_type": "markdown",
   "id": "db181059",
   "metadata": {},
   "source": [
    "## Clean Up\n",
    "\n",
    "Before wrapping up this lesson, let's make sure we clean up all the resources we have been provisioning this lesson. Run the following commands to make sure everything we provision is deleted:"
   ]
  },
  {
   "cell_type": "code",
   "execution_count": null,
   "id": "315a042c",
   "metadata": {},
   "outputs": [],
   "source": [
    "!kubectl delete -f service-deployment.yaml\n",
    "!kubectl delete -f nodeport-example.yaml\n",
    "!kubectl delete -f loadbalancer-example.yaml"
   ]
  },
  {
   "cell_type": "markdown",
   "id": "cdaeb1ad",
   "metadata": {},
   "source": [
    "## Key Takeaways\n",
    "\n",
    "- Kubernetes offers various networking resources to facilitate communication between pods, services, and external clients\n",
    "- `ClusterIP` is the default service type in Kubernetes. It assigns a single virtual IP address to a group of pods, providing internal communication within the cluster.\n",
    "- `NodePort` creates a port on each node, exposing services to external traffic. It allows connections to applications through browsers or other clients.\n",
    "- `LoadBalancer` distributes incoming traffic across nodes, providing a uniform entry point for external access. It also simplifies SSL termination.\n",
    "- `Ingress` manages external access to services within the cluster, supporting HTTP and HTTPS traffic. Ingress controllers, like `nginx`, handle traffic routing and load balancing."
   ]
  }
 ],
 "metadata": {
  "interpreter": {
   "hash": "569d6b7e9215e11aba41c6454007e5c1b78bad7df09dab765d8cf00362c40f03"
  },
  "kernelspec": {
   "display_name": "Python 3.9.1 64-bit ('base': conda)",
   "name": "python3"
  },
  "language_info": {
   "codemirror_mode": {
    "name": "ipython",
    "version": 3
   },
   "file_extension": ".py",
   "mimetype": "text/x-python",
   "name": "python",
   "nbconvert_exporter": "python",
   "pygments_lexer": "ipython3",
   "version": "3.9.2"
  }
 },
 "nbformat": 4,
 "nbformat_minor": 5
}
