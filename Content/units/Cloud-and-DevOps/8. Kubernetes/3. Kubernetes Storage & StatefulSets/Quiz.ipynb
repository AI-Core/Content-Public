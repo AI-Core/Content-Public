{
 "cells": [
  {
   "cell_type": "markdown",
   "metadata": {},
   "source": [
    "# Kubernetes Storage & `StatefulSets`"
   ]
  },
  {
   "cell_type": "markdown",
   "metadata": {},
   "source": [
    "## True or False: Kubernetes volumes are identical to Docker volumes in terms of functionality.\n",
    "\n",
    "- True\n",
    "- False ***"
   ]
  },
  {
   "cell_type": "markdown",
   "metadata": {},
   "source": [
    "## True or False: Dynamic provisioning is recommended for large-scale applications where storage requirements can be accurately predicted in advance.\n",
    "\n",
    "- True\n",
    "- False ***"
   ]
  },
  {
   "cell_type": "markdown",
   "metadata": {},
   "source": [
    "## True or False: Deleting a `StatefulSet` automatically deletes the associated storage, ensuring data is removed from the cluster.\n",
    "\n",
    "- True\n",
    "- False ***"
   ]
  },
  {
   "cell_type": "markdown",
   "metadata": {},
   "source": [
    "## Which Kubernetes resource is used to request storage and define access modes?\n",
    "\n",
    "- Persistent Volume (PV)\n",
    "- Persistent Volume Claim (PVC) ***\n",
    "- `StatefulSet`\n",
    "- `StorageClass`"
   ]
  },
  {
   "cell_type": "markdown",
   "metadata": {},
   "source": [
    "## What is the purpose of a `StorageClass` in Kubernetes?\n",
    "\n",
    "- To define a specific volume's capacity\n",
    "- To create a headless Service\n",
    "- To dynamically provision storage based on PVC requirements ***\n",
    "- To delete unused `PersistentVolumes`"
   ]
  },
  {
   "cell_type": "markdown",
   "metadata": {},
   "source": [
    "## In Kubernetes, what type of resource is used to manage stateful applications and provides persistent storage?\n",
    "\n",
    "- `ReplicationController`\n",
    "- `DaemonSet`\n",
    "- `StatefulSet` ***\n",
    "- `Deployment`"
   ]
  },
  {
   "cell_type": "markdown",
   "metadata": {},
   "source": [
    "## What is the purpose of setting `.allowVolumeExpansion: true` in a `StorageClass`?\n",
    "\n",
    "- To enable dynamic provisioning ***\n",
    "- To automatically delete volumes\n",
    "- To allow volume expansion for existing PVCs\n",
    "- To create a headless Service"
   ]
  },
  {
   "cell_type": "markdown",
   "metadata": {},
   "source": [
    "## True or False: `PersistentVolumes` (PVs) have a lifetime independent of the pods that use them.\n",
    "\n",
    "- True ***\n",
    "- False"
   ]
  },
  {
   "cell_type": "markdown",
   "metadata": {},
   "source": [
    "## True or False: A headless Service is not required when using `StatefulSets` to manage stateful applications.\n",
    "\n",
    "- True\n",
    "- False ***"
   ]
  },
  {
   "cell_type": "markdown",
   "metadata": {},
   "source": [
    "## True or False: `StorageClass`es define the actual storage capacity of `PersistentVolumes` (PVs).\n",
    "\n",
    "- True\n",
    "- False ***"
   ]
  },
  {
   "cell_type": "markdown",
   "metadata": {},
   "source": [
    "## Which Kubernetes resource allows administrators to pre-provision storage volumes in a cluster?\n",
    "\n",
    "- `PersistentVolumeClaim` (PVC)\n",
    "- `StorageClass`\n",
    "- `StatefulSet`\n",
    "- `PersistentVolume` (PV) ***"
   ]
  }
 ],
 "metadata": {
  "language_info": {
   "name": "python"
  },
  "orig_nbformat": 4
 },
 "nbformat": 4,
 "nbformat_minor": 2
}
