{
 "cells": [
  {
   "cell_type": "markdown",
   "metadata": {},
   "source": [
    "# Kubernetes Storage & `StatefulSets`"
   ]
  },
  {
   "cell_type": "markdown",
   "metadata": {},
   "source": [
    "## True or False: Kubernetes volumes are identical to Docker volumes in terms of functionality.\n",
    "\n",
    "- True\n",
    "- False ***"
   ]
  },
  {
   "cell_type": "markdown",
   "metadata": {},
   "source": [
    "## True or False: Dynamic provisioning is recommended for large-scale applications where storage requirements can be accurately predicted in advance.\n",
    "\n",
    "- True\n",
    "- False ***"
   ]
  },
  {
   "cell_type": "markdown",
   "metadata": {},
   "source": [
    "## Which Kubernetes resource is used to request storage and define access modes?\n",
    "\n",
    "- Persistent Volume (PV)\n",
    "- Persistent Volume Claim (PVC) ***\n",
    "- `StatefulSet`\n",
    "- `StorageClass`"
   ]
  },
  {
   "cell_type": "markdown",
   "metadata": {},
   "source": [
    "## True or False: `PersistentVolumes` (PVs) have a lifetime independent of the pods that use them.\n",
    "\n",
    "- True ***\n",
    "- False"
   ]
  },
  {
   "cell_type": "markdown",
   "metadata": {},
   "source": [
    "## Which Kubernetes resource allows administrators to pre-provision storage volumes in a cluster?\n",
    "\n",
    "- `PersistentVolumeClaim` (PVC)\n",
    "- `StorageClass`\n",
    "- `StatefulSet`\n",
    "- `PersistentVolume` (PV) ***"
   ]
  },
  {
   "cell_type": "markdown",
   "metadata": {},
   "source": [
    "## True or False: Kubernetes Volumes can only be mounted into a single container within a Pod.\n",
    "\n",
    "- True\n",
    "- False ***"
   ]
  },
  {
   "cell_type": "markdown",
   "metadata": {},
   "source": [
    "## True or False: Ephemeral Volumes in Kubernetes have lifetimes independent of their Pods.\n",
    "\n",
    "- True\n",
    "- False ***"
   ]
  },
  {
   "cell_type": "markdown",
   "metadata": {},
   "source": [
    "## Which Kubernetes Volume type allows you to use a directory on the host machine as a source of data for a volume?\n",
    "\n",
    "- Persistent Volume\n",
    "- `HostPath` Volume ***\n",
    "- `ConfigMap` Volume\n",
    "- Secret Volume"
   ]
  },
  {
   "cell_type": "markdown",
   "metadata": {},
   "source": [
    "## Which Kubernetes Volume type is suitable for ephemeral data that doesn't need to persist across restarts or rescheduling events?\n",
    "\n",
    "- Persistent Volume\n",
    "- `HostPath` Volume\n",
    "- `EmptyDir` Volume ***\n",
    "- NFS Volume"
   ]
  },
  {
   "cell_type": "markdown",
   "metadata": {},
   "source": [
    "## True or False: Persistent Volumes (PVs) represent storage volumes provisioned by cluster administrators and exist independently of any specific pod's lifecycle.\n",
    "\n",
    "- True ***\n",
    "- False"
   ]
  },
  {
   "cell_type": "markdown",
   "metadata": {},
   "source": [
    "## What is the primary purpose of a PersistentVolumeClaim (PVC) in Kubernetes?\n",
    "\n",
    "- To create storage volumes in the cluster\n",
    "- To request the platform to create a PersistentVolume (PV) ***\n",
    "- To manage pods' lifecycle\n",
    "- To specify access modes for PVs"
   ]
  },
  {
   "cell_type": "markdown",
   "metadata": {},
   "source": [
    "## In Kubernetes, what is the purpose of Dynamic Provisioning for Persistent Volumes?\n",
    "\n",
    "- To statically provision PVs\n",
    "- To delete PVs automatically\n",
    "- To automatically provision PVs when a PVC is requested ***\n",
    "- To release PVs when they are no longer in use"
   ]
  },
  {
   "cell_type": "markdown",
   "metadata": {},
   "source": [
    "## True or False: Storage Classes provide a level of abstraction over Persistent Volumes (PVs) and make it easier to dynamically provision storage resources.\n",
    "\n",
    "- True ***\n",
    "- False"
   ]
  },
  {
   "cell_type": "markdown",
   "metadata": {},
   "source": [
    "## What is the purpose of the `reclaimPolicy` field in a `StorageClass` definition in Kubernetes?\n",
    "\n",
    "- It specifies the storage capacity for PVs\n",
    "- It determines what happens to the PV when the associated PVC is deleted ***\n",
    "- It defines the performance characteristics of the storage\n",
    "- It sets the access mode for PVs"
   ]
  },
  {
   "cell_type": "markdown",
   "metadata": {},
   "source": [
    "## What does `.allowVolumeExpansion: true` in a `StorageClass` definition enable in Kubernetes?\n",
    "\n",
    "- It allows PVs to be created\n",
    "- It allows dynamic provisioning of PVs\n",
    "- It enables dynamic volume expansion for PVCs ***\n",
    "- It specifies access modes for PVs"
   ]
  },
  {
   "cell_type": "markdown",
   "metadata": {},
   "source": [
    "## What type of service is required for the operation of a Stateful Set in Kubernetes?\n",
    "\n",
    "- Load Balancer Service\n",
    "- Cluster IP Service\n",
    "- Headless Service ***\n",
    "- Node Port Service"
   ]
  },
  {
   "cell_type": "markdown",
   "metadata": {},
   "source": [
    "## True or False: Stateful Sets are primarily used for stateless applications in Kubernetes.\n",
    "\n",
    "- True\n",
    "- False ***"
   ]
  }
 ],
 "metadata": {
  "language_info": {
   "name": "python"
  },
  "orig_nbformat": 4
 },
 "nbformat": 4,
 "nbformat_minor": 2
}
