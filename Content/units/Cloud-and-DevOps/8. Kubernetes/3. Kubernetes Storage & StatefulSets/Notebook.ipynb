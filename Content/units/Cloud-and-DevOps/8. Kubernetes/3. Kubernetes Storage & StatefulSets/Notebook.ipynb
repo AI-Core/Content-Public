{
 "cells": [
  {
   "cell_type": "markdown",
   "id": "838e825c",
   "metadata": {},
   "source": [
    "# Kubernetes Storage & `StatefulSets`\n",
    "\n",
    "Kubernetes has transformed the way we deploy and manage applications. While it excels at handling stateless workloads, dealing with stateful applications introduces unique challenges. In this lesson, we will delve into two critical aspects of Kubernetes that address these challenges: *Kubernetes Storage* and *`StatefulSets`*.\n",
    "\n",
    "## Overview of Kubernetes Storage\n",
    "\n",
    "Managing data in Kubernetes requires careful consideration. Kubernetes offers various storage options to enable data persistence across containerized applications. From *Persistent Volumes (PVs)* to *Persistent Volume Claims (PVCs)*, understanding these concepts is essential for ensuring data reliability and availability in your applications. We will cover these concepts in the next section in detail.\n",
    "\n",
    "## Overview of `StatefulSets`\n",
    "\n",
    "`StatefulSets`, a specialized controller in Kubernetes, are designed to handle stateful workloads with precision. They provide ordered, predictable deployment and scaling of pods, making them ideal for applications like databases, caching systems, and more. "
   ]
  },
  {
   "cell_type": "markdown",
   "id": "855aa8ff",
   "metadata": {},
   "source": [
    "## Volumes in Kubernetes\n",
    "\n",
    "Volumes in Kubernetes play a crucial role in managing data within containers, but they differ in several ways from their counterparts in Docker. Let's explore these differences and dive into the high-level features that make Kubernetes Volumes a powerful tool for managing data in containerized applications.\n",
    "\n",
    "### Volumes in Docker\n",
    "\n",
    "In Docker, volumes are directories located on the host machine's disk or even within another container. These volumes can be mounted into containers during runtime, facilitating data sharing between containers or even across different host machines using drivers. While Docker volumes are valuable, they have limitations, especially when it comes to large-scale deployments.\n",
    "\n",
    "### Key Differentiators of Kubernetes Volumes\n",
    "\n",
    "Kubernetes Volumes offer a more versatile and robust solution for managing data in containerized applications. Here are some high-level features that set Kubernetes Volumes apart:\n",
    "\n",
    "1. **Simultaneous Mounting**: Kubernetes Volumes can be mounted simultaneously into multiple containers within the same Pod. This capability is particularly useful when you have multiple containers that need access to the same data.\n",
    "\n",
    "2. **Ephemeral and Persistent Volumes**: In Kubernetes, Volumes can be categorized as either ephemeral or persistent. *Ephemeral Volumes* have lifetimes tied to their Pods. When the Pod restarts or is rescheduled to a different node, ephemeral Volumes are recreated. On the other hand, *persistent Volumes* have lifetimes independent of their Pods. They offer durability and data retention even when Pods come and go.\n",
    "\n",
    "3. **Automatic Data Availability**: Kubernetes takes care of ensuring that data is available across container restarts. This functionality is handled by `kubelet`, the Kubernetes node agent. It ensures that data remains accessible as long as the associated Volume exists, regardless of the Pod's state."
   ]
  },
  {
   "cell_type": "markdown",
   "id": "75125762",
   "metadata": {},
   "source": [
    "### Attaching Volumes to Pods\n",
    "\n",
    "Volumes can be attached to Pods using the following specifications:\n",
    "\n",
    "- `.spec.volumes`: This field specifies which Volumes to use in the Pod\n",
    "- `.spec.containers[*].volumeMounts`: Within a specific container's configuration, you can define where and which Volume(s) to mount. This offers fine-grained control over data access for each container in the Pod.\n",
    "\n",
    "Consider the below example using a `DaemonSet`:"
   ]
  },
  {
   "cell_type": "markdown",
   "id": "6bf7afe9",
   "metadata": {},
   "source": [
    "``` yaml\n",
    "apiVersion: apps/v1\n",
    "kind: DaemonSet\n",
    "metadata:\n",
    "  name: fluentd-elasticsearch\n",
    "  labels:\n",
    "    k8s-app: fluentd-logging\n",
    "spec:\n",
    "  selector:\n",
    "    matchLabels:\n",
    "      name: fluentd-elasticsearch\n",
    "  template:\n",
    "    metadata:\n",
    "      labels:\n",
    "        name: fluentd-elasticsearch\n",
    "    spec:\n",
    "      containers:\n",
    "      - name: fluentd-elasticsearch\n",
    "        image: quay.io/fluentd_elasticsearch/fluentd:v2.5.2\n",
    "        resources:\n",
    "          limits:\n",
    "            memory: 200Mi\n",
    "          requests:\n",
    "            cpu: 100m\n",
    "            memory: 200Mi\n",
    "        # Here we can mount them with `name` matching\n",
    "        # Ephemeral Volumes\n",
    "        volumeMounts:\n",
    "        - name: varlog\n",
    "          mountPath: /var/log\n",
    "        - name: varlibdockercontainers\n",
    "          mountPath: /var/lib/docker/containers\n",
    "          readOnly: true\n",
    "      terminationGracePeriodSeconds: 30\n",
    "      # Here we define our volumes\n",
    "      # Data from POD will be mounted\n",
    "      volumes:\n",
    "      - name: varlog\n",
    "        hostPath:\n",
    "          path: /var/log\n",
    "      - name: varlibdockercontainers\n",
    "        hostPath:\n",
    "          path: /var/lib/docker/container\n",
    "```"
   ]
  },
  {
   "cell_type": "markdown",
   "id": "de155d05",
   "metadata": {},
   "source": [
    "### Hands-On: Attaching Volumes to Pods\n",
    "\n",
    "1. Create a `YAML` file for the `DaemonSet` above\n",
    "2. Use the `describe` command from `kubectl` to observe the volumes\n",
    "3. Start the Minikube dashboard by running `minikube dashboard`, and explore the volumes in the Minikube dashboard."
   ]
  },
  {
   "cell_type": "code",
   "execution_count": 2,
   "id": "c2b3b5f8",
   "metadata": {},
   "outputs": [
    {
     "name": "stdout",
     "output_type": "stream",
     "text": [
      "daemonset.apps/fluentd-elasticsearch created\n"
     ]
    }
   ],
   "source": [
    "# Create the DaemonSet\n",
    "!kubectl "
   ]
  },
  {
   "cell_type": "code",
   "execution_count": 5,
   "id": "09d86b66",
   "metadata": {},
   "outputs": [
    {
     "name": "stdout",
     "output_type": "stream",
     "text": [
      "Name:             fluentd-elasticsearch-2ctkd\n",
      "Namespace:        default\n",
      "Priority:         0\n",
      "Service Account:  default\n",
      "Node:             minikube/192.168.49.2\n",
      "Start Time:       Mon, 11 Sep 2023 14:54:41 +0100\n",
      "Labels:           controller-revision-hash=6499fb66c6\n",
      "                  name=fluentd-elasticsearch\n",
      "                  pod-template-generation=1\n",
      "Annotations:      <none>\n",
      "Status:           Running\n",
      "IP:               10.244.0.103\n",
      "IPs:\n",
      "  IP:           10.244.0.103\n",
      "Controlled By:  DaemonSet/fluentd-elasticsearch\n",
      "Containers:\n",
      "  fluentd-elasticsearch:\n",
      "    Container ID:   docker://5d24e634937b4e85b23861c092fa1d2056ebed4a8265b9608f7cd4826a3782ec\n",
      "    Image:          quay.io/fluentd_elasticsearch/fluentd:v2.5.2\n",
      "    Image ID:       docker-pullable://quay.io/fluentd_elasticsearch/fluentd@sha256:aec118bb3d1c4af358c1d495b14c12781c4ab5e8cfb455edb1ebd2e92750e31d\n",
      "    Port:           <none>\n",
      "    Host Port:      <none>\n",
      "    State:          Running\n",
      "      Started:      Mon, 11 Sep 2023 14:55:47 +0100\n",
      "    Ready:          True\n",
      "    Restart Count:  0\n",
      "    Limits:\n",
      "      memory:  200Mi\n",
      "    Requests:\n",
      "      cpu:        100m\n",
      "      memory:     200Mi\n",
      "    Environment:  <none>\n",
      "    Mounts:\n",
      "      /var/lib/docker/containers from varlibdockercontainers (ro)\n",
      "      /var/log from varlog (rw)\n",
      "      /var/run/secrets/kubernetes.io/serviceaccount from kube-api-access-knwzg (ro)\n",
      "Conditions:\n",
      "  Type              Status\n",
      "  Initialized       True \n",
      "  Ready             True \n",
      "  ContainersReady   True \n",
      "  PodScheduled      True \n",
      "Volumes:\n",
      "  varlog:\n",
      "    Type:          HostPath (bare host directory volume)\n",
      "    Path:          /var/log\n",
      "    HostPathType:  \n",
      "  varlibdockercontainers:\n",
      "    Type:          HostPath (bare host directory volume)\n",
      "    Path:          /var/lib/docker/container\n",
      "    HostPathType:  \n",
      "  kube-api-access-knwzg:\n",
      "    Type:                    Projected (a volume that contains injected data from multiple sources)\n",
      "    TokenExpirationSeconds:  3607\n",
      "    ConfigMapName:           kube-root-ca.crt\n",
      "    ConfigMapOptional:       <nil>\n",
      "    DownwardAPI:             true\n",
      "QoS Class:                   Burstable\n",
      "Node-Selectors:              <none>\n",
      "Tolerations:                 node.kubernetes.io/disk-pressure:NoSchedule op=Exists\n",
      "                             node.kubernetes.io/memory-pressure:NoSchedule op=Exists\n",
      "                             node.kubernetes.io/not-ready:NoExecute op=Exists\n",
      "                             node.kubernetes.io/pid-pressure:NoSchedule op=Exists\n",
      "                             node.kubernetes.io/unreachable:NoExecute op=Exists\n",
      "                             node.kubernetes.io/unschedulable:NoSchedule op=Exists\n",
      "Events:\n",
      "  Type    Reason     Age    From               Message\n",
      "  ----    ------     ----   ----               -------\n",
      "  Normal  Scheduled  2m13s  default-scheduler  Successfully assigned default/fluentd-elasticsearch-2ctkd to minikube\n",
      "  Normal  Pulling    2m11s  kubelet            Pulling image \"quay.io/fluentd_elasticsearch/fluentd:v2.5.2\"\n",
      "  Normal  Pulled     69s    kubelet            Successfully pulled image \"quay.io/fluentd_elasticsearch/fluentd:v2.5.2\" in 1m2.265432732s (1m2.266272712s including waiting)\n",
      "  Normal  Created    68s    kubelet            Created container fluentd-elasticsearch\n",
      "  Normal  Started    67s    kubelet            Started container fluentd-elasticsearch\n"
     ]
    }
   ],
   "source": [
    "# Use the describe command after finding out the name of the pod\n",
    "!kubectl "
   ]
  },
  {
   "cell_type": "markdown",
   "id": "98378acf",
   "metadata": {},
   "source": [
    "Now run `minikube dashboard`. The dashboard should have an appearance similar to that in the figure below, with the volumes mounted in the container:\n",
    "<p><img src=images/volume.png></p>"
   ]
  },
  {
   "cell_type": "markdown",
   "id": "cae4000b",
   "metadata": {},
   "source": [
    "## Persistent Volumes\n",
    "\n",
    "Kubernetes provides two key resources for managing persistent storage: `PersistentVolume` and `PersistentVolumeClaim`. These resources abstract the provisioning and utilization of storage in your cluster.\n",
    "\n",
    "> A `PersistentVolume` represents a storage volume in a cluster, provisioned by a cluster administrator. \n",
    "\n",
    "These volumes are similar to physical storage devices found on the host machine. Importantly, they exist independently of any specific pod's lifecycle. When bound to a pod, they function similarly to regular volumes, offering a reliable means of data storage.\n",
    "\n",
    "> In contrast, a `PersistentVolumeClaim` is a user's request for the platform to create a `PersistentVolume` on their behalf. \n",
    "\n",
    "Conceptually, PVCs share similarities with pods in the sense that they consume resources. However, while pods request resources like CPU and RAM, PVCs specify storage requirements, including size and access modes (e.g., `read-write` or `read-only`).\n",
    "    \n",
    "### Provisioning `PersistentVolume`s\n",
    "\n",
    "The provisioning of PersistentVolumes can occur through two primary methods:\n",
    "\n",
    "- **Static Provisioning**: In this approach, cluster administrators pre-create PVs that are available for users to consume. Users then select a PV that matches their needs.\n",
    "\n",
    "- **Dynamic Provisioning**: Dynamic provisioning is a more automated approach. When a user requests a PVC, the cluster attempts to dynamically provision an appropriate PV based on the PVC's requirements and `StorageClasses`. Dynamic provisioning ensures that PVs always match the requirements specified by PVCs.\n",
    "\n",
    "### Reclaim Policy\n",
    "\n",
    "Once a user is finished with a volume, they can initiate the deletion of the associated PVC, which subsequently triggers the reclamation of the underlying resource. Three reclaim policies govern how this resource reclamation occurs:\n",
    "\n",
    "- **Retain**: The \"retain\" policy leaves the data intact, preserving both the `PersistentVolume` and any external storage\n",
    "\n",
    "- **Delete**: The \"delete\" policy removes not only the `PersistentVolume` but also the external storage associated with it. This policy is the default for dynamic provisioning, though it can be configured.\n",
    "\n",
    "- **Recycle** (Deprecated): The \"recycle\" policy has been deprecated in favor of dynamic provisioning. Dynamic provisioning is now the recommended approach for creating and managing `PersistentVolumes`.\n",
    "\n",
    "`PersistentVolumes` can exist in one of four states:\n",
    "\n",
    "- **Available**: In this state, the `PersistentVolume` is ready to be bound to a pod, but it is not yet associated with any pod\n",
    "\n",
    "- **Bound**: When a `PersistentVolume` is bound, it means that a PVC has been successfully associated with it, and it is actively serving a pod\n",
    "\n",
    "- **Released**: The \"released\" state occurs when a `PersistentVolumeClaim` is deleted, but the resource has not yet been reclaimed by the cluster.\n",
    "\n",
    "- **Failed**: In the event that reclamation of a volume fails, it is marked as \"failed.\" This can happen due to various reasons, such as an issue with the storage system."
   ]
  },
  {
   "cell_type": "markdown",
   "id": "9aa7cefe",
   "metadata": {},
   "source": [
    "### Specifying `PersistentVolume` Configuration\n",
    "\n",
    "Similar to pods and other Kubernetes resources, PV objects are defined using `.yaml` configuration files. Below is an example configuration file illustrating the key attributes you can specify when creating a `PersistentVolume`:\n",
    "\n",
    "``` yaml\n",
    "apiVersion: v1\n",
    "kind: PersistentVolume\n",
    "metadata:\n",
    "  name: task-pv-volume\n",
    "  labels:\n",
    "    type: local\n",
    "spec:\n",
    "  storageClassName: manual\n",
    "  capacity:\n",
    "    storage: 10Gi\n",
    "  accessModes:\n",
    "    - ReadWriteOnce\n",
    "  hostPath:\n",
    "    path: \"/mnt/data\"\n",
    "```"
   ]
  },
  {
   "cell_type": "markdown",
   "id": "053f83b6",
   "metadata": {},
   "source": [
    "#### Common Attributes\n",
    "\n",
    "1. `.spec.capacity.storage`: In this example, we request 10GB of storage. The storage attribute allows you to specify the desired storage capacity. It's important to note that currently, only storage capacity can be requested. Kubernetes uses its resource model, which defines storage in units, to interpret the requested capacity.\n",
    "\n",
    "2. `.spec.volumeMode`: This attribute allows you to choose between two modes: FileSystem (default) or Block\n",
    "    - **FileSystem**: Represents a directory that can be mounted in pods, and it's the most commonly used mode\n",
    "\n",
    "    - **Block**: Utilizes a raw block of storage without creating a filesystem on it. The Block mode is less common because applications need to know how to access raw data directly. \n",
    "\n",
    "3. `.spec.accessModes`: This attribute specifies how data can be accessed by pods using the `PersistentVolume`. There are three common access modes:\n",
    "    - `ReadWriteOnce`: Allows a single Node to mount the volume with read-write access. This mode is suitable for scenarios where only only one pod needs read-write access to the data.\n",
    "\n",
    "    - `ReadOnlyMany`: Permits multiple Nodes to mount the volume, but only read access is granted. Useful for scenarios where multiple pods need read-only access to the data.\n",
    "\n",
    "    - `ReadWriteMany`: Similar to `ReadOnlyMany`, but grants read-write access to multiple nodes. Applications using this mode should handle possible data races.\n",
    "    \n",
    "    - `ReadWriteOncePod`: Provides read-write access but only for a single pod\n",
    "\n",
    "Access modes may behave differently depending on the type of `PersistentVolume` provider, and they should be chosen based on your application's requirements. A few of them are shown below:\n",
    "\n",
    "![](./images/modes_providers.png)\n",
    "\n",
    "4. `.spec.storageClassName`: This attribute specifies the `StorageClass` associated with the `PersistentVolume`. If left unspecified, no `StorageClass` will be assigned to the `PersistentVolume`.\n",
    "\n",
    "5. `.spec.mountOptions`: This attribute is not supported by all types of `PersistentVolumes`. It specifies how the volume should be mounted, and in most cases, it can be left as is without the need for customization."
   ]
  },
  {
   "cell_type": "markdown",
   "id": "cb380ca8",
   "metadata": {},
   "source": [
    "#### Hands-On\n",
    "\n",
    "1. Create a `.yaml` file with the above configuration for creating a `PersistentVolume` resource\n",
    "2. Apply the configuration using `kubectl` to create the `PersistentVolume` resource within your Kubernetes cluster\n",
    "3. Observe the status and properties of the `PersistentVolume` to ensure it's successfully provisioned and available for use"
   ]
  },
  {
   "cell_type": "code",
   "execution_count": 8,
   "id": "e7b5da43",
   "metadata": {},
   "outputs": [
    {
     "name": "stdout",
     "output_type": "stream",
     "text": [
      "persistentvolume/task-pv-volume created\n"
     ]
    }
   ],
   "source": [
    "# apply the configuration\n",
    "!kubectl"
   ]
  },
  {
   "cell_type": "code",
   "execution_count": 11,
   "id": "a5bbe8f4",
   "metadata": {},
   "outputs": [
    {
     "name": "stdout",
     "output_type": "stream",
     "text": [
      "NAME             CAPACITY   ACCESS MODES   RECLAIM POLICY   STATUS      CLAIM   STORAGECLASS   REASON   AGE\n",
      "task-pv-volume   10Gi       RWO            Retain           Available           manual                  13m\n"
     ]
    }
   ],
   "source": [
    "# observe tha status of the volume\n",
    "!kubectl"
   ]
  },
  {
   "cell_type": "markdown",
   "id": "ef562226",
   "metadata": {},
   "source": [
    "## StorageClasses\n",
    "\n",
    "> StorageClasses provide a flexible way for administrators to define the classes of storage they offer. StorageClasses enable the dynamic provisioning of storage and serve as templates for creating new `PersistentVolumes`.\n",
    "\n",
    "### Defining a `StorageClass`\n",
    "\n",
    "StorageClasses are typically defined using `.yaml` configuration files, and they can be referenced by PersistentVolume configuration files. Let's consider an example of a `StorageClass` definition:\n",
    "\n",
    "```yaml\n",
    "apiVersion: storage.k8s.io/v1\n",
    "kind: StorageClass\n",
    "metadata:\n",
    "  name: standard\n",
    "provisioner: kubernetes.io/aws-ebs\n",
    "parameters:\n",
    "  type: gp2\n",
    "reclaimPolicy: Retain\n",
    "allowVolumeExpansion: true\n",
    "mountOptions:\n",
    "  - debug\n",
    "volumeBindingMode: Immediate\n",
    "```"
   ]
  },
  {
   "cell_type": "markdown",
   "id": "570a8cd0",
   "metadata": {},
   "source": [
    "### Mandatory Fields\n",
    "\n",
    "- `metadata.name`: The `name` field allows users to request the use of this specific `StorageClass` when creating `PersistentVolumes`\n",
    "\n",
    "- `provisioner`: This field specifies the volume plugin used for provisioning `PersistentVolumes`. Commonly used provisioners are shipped with Kubernetes under the `kubernetes.io` prefix. For example:\n",
    "  - `local`: `kubernetes.io/no-provisioner` (used for creating PersistentVolumes dynamically from local resources)\n",
    "\n",
    "```yaml\n",
    "apiVersion: storage.k8s.io/v1\n",
    "kind: StorageClass\n",
    "metadata:\n",
    "name: local-storage\n",
    "provisioner: kubernetes.io/no-provisioner\n",
    "volumeBindingMode: WaitForFirstConsumer\n",
    "```"
   ]
  },
  {
   "cell_type": "markdown",
   "id": "8e859f6c",
   "metadata": {},
   "source": [
    "  - `GCEPersistentDisk`: Used for provisioning persistent disks from Google Cloud\n",
    "\n",
    "```yaml\n",
    "apiVersion: storage.k8s.io/v1\n",
    "kind: StorageClass\n",
    "metadata:\n",
    "  name: slow\n",
    "provisioner: kubernetes.io/gce-pd\n",
    "parameters:\n",
    "  type: pd-standard\n",
    "  fstype: ext4\n",
    "  replication-type: none\n",
    "```"
   ]
  },
  {
   "cell_type": "markdown",
   "id": "b40403e1",
   "metadata": {},
   "source": [
    "Importantly, Kubernetes isn't limited to these built-in provisioners. Providers can create their custom provisioners to cater to specific storage solutions.\n",
    "\n",
    "- `parameters`: This field allows for the definition of per-provisioner specifications of volume properties. Examples of different internal provisioners and their parameters can be found in the Kubernetes documentation.\n",
    "\n",
    "- `reclaimPolicy`: This field specifies what should happen to the created `PersistentVolume` once it's no longer bound to a `PersistentVolumeClaim`. Options typically include Delete or Retain, depending on whether you want to delete or retain the storage resources associated with the `PersistentVolume`.\n",
    "\n",
    "> StorageClasses play a pivotal role in enabling dynamic provisioning of storage resources in Kubernetes. They allow administrators to define storage characteristics and policies while providing developers with a convenient way to request storage resources tailored to their application's needs."
   ]
  },
  {
   "cell_type": "markdown",
   "id": "8f378f0e",
   "metadata": {},
   "source": [
    "## Expandable Volumes\n",
    "\n",
    "Starting with Kubernetes version `1.11`, the ability to dynamically expand volumes was introduced. This feature enables the adjustment of storage capacity in response to changing requirements by modifying the `PersistentVolumeClaim` (PVC) and applying a new configuration.\n",
    "\n",
    "> The easiest way to take advantage of this dynamic volume expansion capability is to use an internal cloud provider, and the process is straightforward: you simply need to set `.allowVolumeExpansion: true` in the `StorageClass` definition.\n",
    "\n",
    "For example:\n",
    "\n",
    "```yaml\n",
    "apiVersion: storage.k8s.io/v1\n",
    "kind: StorageClass\n",
    "metadata:\n",
    "  name: standard\n",
    "provisioner: kubernetes.io/aws-ebs\n",
    "parameters:\n",
    "  type: gp2\n",
    "reclaimPolicy: Retain\n",
    "allowVolumeExpansion: true\n",
    "mountOptions:\n",
    "  - debug\n",
    "volumeBindingMode: Immediate\n",
    "```\n",
    "\n",
    "Many internal cloud providers support expandable volumes. Here is a list of some commonly used providers:\n",
    "\n",
    "![](./images/expandable-volumes.png)"
   ]
  },
  {
   "cell_type": "markdown",
   "id": "dc113afc",
   "metadata": {},
   "source": [
    "## Storage Summary\n",
    "\n",
    "This summary provides a guideline for managing storage in Kubernetes:\n",
    "\n",
    "- **Data Sharing Consideration**:\n",
    "\n",
    "  - Determine whether your data needs to be shared between containers or pods\n",
    "\n",
    "  - If sharing data between containers within the same pod, consider using ephemeral volumes for simple data exchange between applications\n",
    "\n",
    "  - If data needs to be shared between pods or preserved after pod termination, use `PersistentVolume`s\n",
    "\n",
    "- **Dynamic Provisioning Decision**:\n",
    "\n",
    "  - Decide whether dynamic provisioning is required. This is particularly useful when it's challenging to predict the exact storage requirements in advance.\n",
    "\n",
    "- **Without Dynamic Provisioning**:\n",
    "\n",
    "  - Create a `PersistentVolume` `.yaml` configuration file (defines how a volume is created)\n",
    "\n",
    "  - Create a `PersistentVolumeClaim` `.yaml` configuration file (specifies how a volume is requested)\n",
    "\n",
    "  - Create a `MyApplication .yaml` configuration file (the workload resource). Avoid using bare pods in your configurations.\n",
    "\n",
    "- **With Dynamic Provisioning**:\n",
    "\n",
    "  - Create a `StorageClass` `.yaml` configuration file (acts as a template for providing `PersistentVolume`s to pods as needed).\n",
    "\n",
    "- **Expandable Volumes**:\n",
    "  - Consider using expandable volumes when you know the maximum number of pods that will run at any given time and the exact amount of storage required for each pod is unknown\n",
    "\n",
    "Dynamic provisioning is beneficial for large-scale applications, where manual provisioning is impractical due to the following reasons:\n",
    "  - A high number of pods are requesting significant storage allocations\n",
    "\n",
    "  - It's challenging to predict in advance how many pods will run\n",
    "\n",
    "> In large deployments, cloud-storage providers are often preferred over local storage, as local storage may prove insufficient."
   ]
  },
  {
   "cell_type": "markdown",
   "id": "59ebeae8",
   "metadata": {},
   "source": [
    "## `StatefulSets`\n",
    "   \n",
    "In Kubernetes, workloads are typically used for stateless applications, where data is not written to external storage. However, when it comes to managing stateful applications, Kubernetes provides a powerful resource called `StatefulSets`.\n",
    "\n",
    "> `StatefulSets` are a specific type of workload resource in Kubernetes that adds a storage volume to each pod it manages. This unique characteristic allows all data associated with a pod to be stored persistently. This is particularly useful for applications like databases, where data persistence is critical between pod restarts.\n",
    "\n",
    "### Limitations\n",
    "\n",
    "- **Storage Provisioning**: The storage used by `StatefulSets` must be provisioned either by a cluster administrator or dynamically using `StorageClass`es\n",
    "\n",
    "- **Storage Preservation**: Deleting a `StatefulSet` does not automatically delete the associated storage. Storage preservation is prioritized to prevent accidental data loss.\n",
    "\n",
    "- **Headless Service Requirement**: `StatefulSets` require the presence of a headless Service. A headless Service is used to manage the network identity of pods, providing stable DNS names for each pod."
   ]
  },
  {
   "cell_type": "markdown",
   "id": "a9d8284f",
   "metadata": {},
   "source": [
    "### Components of a `StatefulSet`\n",
    "\n",
    "To create a `StatefulSet`, you'll need specific `.yaml` definitions. Here's an overview of the necessary components:\n",
    "\n",
    "1. Headless Service\n",
    "\n",
    "```yaml\n",
    "apiVersion: v1\n",
    "kind: Service\n",
    "metadata:\n",
    "  name: nginx\n",
    "  labels:\n",
    "    app: nginx\n",
    "spec:\n",
    "  ports:\n",
    "  - port: 80\n",
    "    name: web\n",
    "  clusterIP: None\n",
    "  selector:\n",
    "    app: nginx\n",
    "```\n",
    "\n",
    "2. `StatefulSet`\n",
    "\n",
    "```yaml\n",
    "apiVersion: apps/v1\n",
    "kind: StatefulSet\n",
    "metadata:\n",
    "  name: web\n",
    "spec:\n",
    "  serviceName: \"nginx\"\n",
    "  replicas: 2\n",
    "  selector:\n",
    "    matchLabels:\n",
    "      app: nginx\n",
    "  template:\n",
    "    metadata:\n",
    "      labels:\n",
    "        app: nginx\n",
    "    spec:\n",
    "      containers:\n",
    "      - name: nginx\n",
    "        image: k8s.gcr.io/nginx-slim:0.8\n",
    "        ports:\n",
    "        - containerPort: 80\n",
    "          name: web\n",
    "        volumeMounts:\n",
    "        - name: www\n",
    "          mountPath: /usr/share/nginx/html\n",
    "  volumeClaimTemplates:\n",
    "  - metadata:\n",
    "      name: www\n",
    "    spec:\n",
    "      accessModes: [\"ReadWriteOnce\"]\n",
    "      resources:\n",
    "        requests:\n",
    "          storage: 1Gi\n",
    "```\n",
    "\n",
    "In this example:\n",
    "\n",
    "- A headless Service named `nginx` is created to manage the network domain\n",
    "\n",
    "- The `StatefulSet` named `web` specifies that two replicas of the `nginx` container will be launched in unique pods\n",
    "\n",
    "- `volumeClaimTemplates` are used to provide stable storage using PersistentVolumes provisioned by a `PersistentVolume` provisioner"
   ]
  },
  {
   "cell_type": "markdown",
   "id": "df257c62",
   "metadata": {},
   "source": [
    "### Hands-On\n",
    "\n",
    "1. Create a `.yaml` file with the above configuration for creating a `StatefulSet` and its associated resources\n",
    "\n",
    "2. Apply the configuration using `kubectl` to create the `StatefulSet` and related objects within your Kubernetes cluster\n",
    "\n",
    "3. Access the Kubernetes dashboard and observe the `PersistentVolumeClaims` (PVCs). You should see that the volumes are already bound and available for use."
   ]
  },
  {
   "cell_type": "code",
   "execution_count": 15,
   "id": "a275f286",
   "metadata": {},
   "outputs": [
    {
     "name": "stdout",
     "output_type": "stream",
     "text": [
      "service/nginx created\n",
      "statefulset.apps/web created\n"
     ]
    }
   ],
   "source": [
    "!kubectl"
   ]
  },
  {
   "cell_type": "markdown",
   "id": "0b2c8706",
   "metadata": {},
   "source": [
    "The dashboard's appearance should be similar to that shown below:\n",
    "\n",
    "<p align=center><img src=images/PVC.png></p>"
   ]
  },
  {
   "cell_type": "markdown",
   "id": "8837723d",
   "metadata": {},
   "source": [
    "## Key Takeaways\n",
    "\n",
    "- Volumes in Kubernetes provide a way to store and share data within containers. Volumes can be mounted simultaneously, making it easy to share data between containers within the same pod.\n",
    "- Persistent Volumes (PVs) are physical storage volumes in the cluster provisioned by administrators, while Persistent Volume Claims (PVCs) are requests for storage made by pods\n",
    "- `StorageClass`es define the classes of storage offered by administrators and can be used to dynamically provision storage Different provisioners can be used with `StorageClass`es, enabling flexibility in choosing storage solutions.\n",
    "- Dynamic provisioning allows Kubernetes to automatically create PVs based on PVC requirements, making it suitable for large-scale deployments. It eliminates the need for manual provisioning and ensures that storage matches the demands of pods.\n",
    "- Expandable volumes can be used when the maximum number of pods running simultaneously is known, but the exact storage requirements per pod are uncertain. \n",
    "- `StatefulSets` are workload resources used for stateful applications that require persistent storage. They manage pods with storage volumes, ensuring data persistence even across pod restarts.\n",
    "- `StatefulSets` require a headless Service to manage network identity\n",
    "- Storage provisioning for `StatefulSets` must be done by an administrator or dynamically using `StorageClass`es\n",
    "- Deleting a StatefulSet does not automatically delete associated storage to preserve data"
   ]
  }
 ],
 "metadata": {
  "interpreter": {
   "hash": "569d6b7e9215e11aba41c6454007e5c1b78bad7df09dab765d8cf00362c40f03"
  },
  "kernelspec": {
   "display_name": "Python 3.9.1 64-bit ('base': conda)",
   "name": "python3"
  },
  "language_info": {
   "codemirror_mode": {
    "name": "ipython",
    "version": 3
   },
   "file_extension": ".py",
   "mimetype": "text/x-python",
   "name": "python",
   "nbconvert_exporter": "python",
   "pygments_lexer": "ipython3",
   "version": "3.9.2"
  }
 },
 "nbformat": 4,
 "nbformat_minor": 5
}
