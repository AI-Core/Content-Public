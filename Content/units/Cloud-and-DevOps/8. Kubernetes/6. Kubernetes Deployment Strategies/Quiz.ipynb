{
 "cells": [
  {
   "cell_type": "markdown",
   "metadata": {},
   "source": [
    "# Kubernetes Deployment Strategies"
   ]
  },
  {
   "cell_type": "markdown",
   "metadata": {},
   "source": [
    "## True or False: Blue-Green Deployments involve gradually releasing new versions to a subset of users while maintaining two separate environments.\n",
    "\n",
    "- True\n",
    "- False ***"
   ]
  },
  {
   "cell_type": "markdown",
   "metadata": {},
   "source": [
    "## True or False: Canary Deployments route all user traffic to the new version once it's deemed ready, minimizing risk.\n",
    "\n",
    "- True\n",
    "- False ***"
   ]
  },
  {
   "cell_type": "markdown",
   "metadata": {},
   "source": [
    "## True or False: In Kubernetes, Recreate Deployments involve creating a new set of instances while gradually terminating the old ones.\n",
    "\n",
    "- True\n",
    "- False ***"
   ]
  },
  {
   "cell_type": "markdown",
   "metadata": {},
   "source": [
    "## True or False: A/B Testing Deployments involve simultaneous testing of multiple variations to inform deployment decisions.\n",
    "\n",
    "- True ***\n",
    "- False"
   ]
  },
  {
   "cell_type": "markdown",
   "metadata": {},
   "source": [
    "## Which deployment strategy is ideal for minimizing disruptions and gradually replacing old instances with new ones in Kubernetes?\n",
    "\n",
    "- Recreate Deployments\n",
    "- Blue-Green Deployments\n",
    "- Canary Deployments\n",
    "- Rolling Updates ***"
   ]
  },
  {
   "cell_type": "markdown",
   "metadata": {},
   "source": [
    "## When should you consider using Blue-Green Deployments in Kubernetes?\n",
    "\n",
    "- For small-scale services with minimal user impact\n",
    "- When you need zero-downtime updates and easy rollbacks ***\n",
    "- For large user bases to minimize risk\n",
    "- For data-driven decision-making"
   ]
  },
  {
   "cell_type": "markdown",
   "metadata": {},
   "source": [
    "## Which of the following deployment strategies is suitable for stateful applications and databases?\n",
    "\n",
    "- Rolling Updates\n",
    "- Recreate Deployments ***\n",
    "- Canary Deployments\n",
    "- A/B Testing Deployments"
   ]
  },
  {
   "cell_type": "markdown",
   "metadata": {},
   "source": [
    "## What is the key difference between Canary Deployments and Blue-Green Deployments?\n",
    "\n",
    "- Canary Deployments route all user traffic to the new version\n",
    "- Blue-Green Deployments gradually release new versions to a subset of users ***\n",
    "- Canary Deployments involve creating a new set of instances\n",
    "- Blue-Green Deployments use feature flags for selective feature testing"
   ]
  },
  {
   "cell_type": "markdown",
   "metadata": {},
   "source": [
    "## In Kubernetes, what is the purpose of using metrics and observability in Canary Deployments?\n",
    "\n",
    "- To enable feature flags for selective testing\n",
    "- To monitor performance and health of the canary group ***\n",
    "- To maintain two separate environments for current and new versions\n",
    "- To collect user feedback for data-driven decisions"
   ]
  },
  {
   "cell_type": "markdown",
   "metadata": {},
   "source": [
    "## In Kubernetes, which deployment strategy is suitable when you want to maintain two separate environments for the current production version and the new version?\n",
    "\n",
    "- Recreate Deployments\n",
    "- Blue-Green Deployments ***\n",
    "- Canary Deployments\n",
    "- A/B Testing Deployments"
   ]
  }
 ],
 "metadata": {
  "language_info": {
   "name": "python"
  },
  "orig_nbformat": 4
 },
 "nbformat": 4,
 "nbformat_minor": 2
}
