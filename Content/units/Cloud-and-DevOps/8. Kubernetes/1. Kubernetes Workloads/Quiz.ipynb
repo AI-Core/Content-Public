{
 "cells": [
  {
   "cell_type": "markdown",
   "metadata": {},
   "source": [
    "# Kubernetes Workloads"
   ]
  },
  {
   "cell_type": "markdown",
   "metadata": {},
   "source": [
    "## True or False: Pods are the largest deployable units in Kubernetes.\n",
    "\n",
    "- True\n",
    "- False ***"
   ]
  },
  {
   "cell_type": "markdown",
   "metadata": {},
   "source": [
    "## True or False: Containers within a Pod can share the same network resources, including IP addresses.\n",
    "\n",
    "- True ***\n",
    "- False"
   ]
  },
  {
   "cell_type": "markdown",
   "metadata": {},
   "source": [
    "## True or False: Daemon Sets are used when you want to ensure that a specific number of identical Pods are running.\n",
    "\n",
    "- True\n",
    "- False ***"
   ]
  },
  {
   "cell_type": "markdown",
   "metadata": {},
   "source": [
    "## True or False: Jobs in Kubernetes are suitable for long-running, persistent tasks.\n",
    "\n",
    "- True\n",
    "- False ***"
   ]
  },
  {
   "cell_type": "markdown",
   "metadata": {},
   "source": [
    "## What are the main phases a Pod can be in?\n",
    "\n",
    "- Running, Stopped, Unknown, Failed\n",
    "- Pending, Running, Succeeded, Failed, Unknown ***\n",
    "- Initializing, Executing, Completed\n",
    "- Active, Inactive, Paused, Finished"
   ]
  },
  {
   "cell_type": "markdown",
   "metadata": {},
   "source": [
    "## Which Kubernetes resource is used to maintain a stable set of replicated Pods?\n",
    "\n",
    "- Deployments\n",
    "- Replica Sets ***\n",
    "- Daemon Sets\n",
    "- Stateful Sets"
   ]
  },
  {
   "cell_type": "markdown",
   "metadata": {},
   "source": [
    "## Which resource in Kubernetes enables declarative updates and rollbacks for Pods?\n",
    "\n",
    "- Replica Sets\n",
    "- Daemon Sets\n",
    "- Jobs\n",
    "- Deployments ***"
   ]
  },
  {
   "cell_type": "markdown",
   "metadata": {},
   "source": [
    "## When would you use a Daemon Set?\n",
    "\n",
    "- To ensure that Pods run on all Nodes ***\n",
    "- To create a single Pod\n",
    "- To run parallel tasks\n",
    "- To schedule Jobs on a timer"
   ]
  },
  {
   "cell_type": "markdown",
   "metadata": {},
   "source": [
    "## What is the purpose of a Cron Job in Kubernetes?\n",
    "\n",
    "- To monitor the health of Pods\n",
    "- To create Jobs on a recurring schedule ***\n",
    "- To ensure that Pods are always running\n",
    "- To manage stateful applications"
   ]
  },
  {
   "cell_type": "markdown",
   "metadata": {},
   "source": [
    "## True or False: Pods can be scheduled to run on multiple nodes simultaneously.\n",
    "\n",
    "- True\n",
    "- False ***"
   ]
  },
  {
   "cell_type": "markdown",
   "metadata": {},
   "source": [
    "## True or False: When using a Replica Set, the number of Pods can exceed the specified `.spec.replicas` value.\n",
    "\n",
    "- True\n",
    "- False ***"
   ]
  }
 ],
 "metadata": {
  "language_info": {
   "name": "python"
  },
  "orig_nbformat": 4
 },
 "nbformat": 4,
 "nbformat_minor": 2
}
