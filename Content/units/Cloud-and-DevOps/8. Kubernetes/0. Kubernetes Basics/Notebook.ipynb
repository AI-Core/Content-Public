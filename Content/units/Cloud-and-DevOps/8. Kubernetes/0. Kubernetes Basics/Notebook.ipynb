{
 "cells": [
  {
   "cell_type": "markdown",
   "id": "67bc7b2a",
   "metadata": {},
   "source": [
    "# Kubernetes Basics"
   ]
  },
  {
   "cell_type": "markdown",
   "id": "e76a1cd8",
   "metadata": {},
   "source": [
    "<p align=center><a href=https://kubernetes.io/docs/concepts/overview/what-is-kubernetes/><img src=images/k8s.png width=500></a></p>\n",
    "\n",
    "\n",
    "> *Kubernetes* is an open-source platform that focuses on declarative configuration and automation for managing containerized workloads.\n",
    "\n",
    "In order to run multiple containers, a long `docker run` command or `docker compose` (particularly useful in this scenario) is required. However, when an application that needs to run tens or hundreds of containers is deployed, the health and working condition of every container must be ensured, which is a difficult task. This is where Kubernetes (`k8s`) thrives. \n",
    "\n",
    "Kubernetes orchestrates containers. It is capable of spinning up many containers in a particular configuration. Additionally, if a container goes down for any reason, Kubernetes can initiate a new one as a replacement. This is extremely important for critical applications."
   ]
  },
  {
   "cell_type": "markdown",
   "id": "ba33c6c9",
   "metadata": {},
   "source": [
    "## Kubernetes Benefits\n",
    "\n",
    "Kubernetes has many benefits and features, such as:\n",
    "\n",
    "- **Multiple-container Deployment**: Kubernetes enables the deployment of multiple containers across a cluster\n",
    "    - The user chooses which and how many containers should be deployed\n",
    "    - The user also specifies the number of container replicas for fault tolerance <br><br>\n",
    "\n",
    "- **Self-healing**: If a container is down, i.e. not responding to health checks, Kubernetes will spin up a replacement\n",
    "\n",
    "- **Autoscaling**: If the current containers are not enough to process all the requirements, Kubernetes can deploy more containers within the cluster. Conversely, if the resources are in excess, Kubernetes can destroy some to maintain the required balance.\n",
    "\n",
    "- **Easily Discoverable**: Each container can be accessed by its name (or IP) and port\n",
    "\n",
    "- **Load Balancing**: If a single node is overloaded by high traffic, Kubernetes distributes the load among several nodes to ensure high availability and efficient resource utilization\n",
    "\n",
    "- **Storage Orchestration**: Kubernetes allows us to mount storage volumes, whether they are specific to a node, shared across multiple nodes, or of another type. This capability ensures that your application can save and retrieve data reliably."
   ]
  },
  {
   "cell_type": "markdown",
   "id": "6732fd9a",
   "metadata": {},
   "source": [
    "## Kubernetes Components\n",
    "\n",
    "Kubernetes encompasses many concepts, each essential for efficiently working with the platform. In this section we will provide an overview of the components that form the foundation of a Kubernetes cluster.\n",
    "\n",
    "When Kubernetes is deployed, it creates a cluster with the components illustrated in the diagram below:\n",
    "\n",
    "![](./images/components-of-kubernetes.svg)\n",
    "\n",
    "### High-level components overview\n",
    "\n",
    "- *Nodes*: \n",
    "\n",
    "  - *Nodes* are the **worker machines** in a Kubernetes cluster. These can be physical or virtual servers.\n",
    "  - **Nodes** are responsible for running the containers that make up your applications. They provide the computing resources (CPU, memory, storage) necessary to execute these containers.\n",
    "  - Each node runs a Kubernetes runtime, such as Docker to manage and run containers <br><br>\n",
    "\n",
    "- *Pods*: \n",
    "\n",
    "  - **Pods** are the smallest deployable units in Kubernetes, and they are used to encapsulate one or more containers\n",
    "  - **Pods** are scheduled to run on nodes by the Kubernetes *control plane*. When you create a pod, the Kubernetes scheduler decides which node in the cluster should run that pod based on various factors like resource availability, node health, and scheduling policies.\n",
    "  - All containers within the same pod share the same network namespace, which means they can communicate with each other over `localhost` <br><br>\n",
    "\n",
    "- **Control Plane**: The **Control Plane** is a set of components that collectively manage and control the state of the cluster. It's responsible for making global decisions about the cluster (e.g., which nodes should run which pods), detecting and responding to cluster events, and maintaining the desired state of all resources.\n",
    "\n",
    "> For learning purposes, we will begin by working with a single Node on one physical machine. However, in production environments, the Control Plane spans multiple machines to increase fault tolerance, and can contain a large number Nodes, often numbering in the thousands, to meet the demands of complex applications."
   ]
  },
  {
   "cell_type": "markdown",
   "id": "471098a5",
   "metadata": {},
   "source": [
    "### Control Plane Components\n",
    "\n",
    "The **Control Plane** in Kubernetes serves as the brain of the cluster, responsible for managing and maintaining the desired state of the entire system. Think of it as the central control hub that governs the behavior and functionality of the cluster. Its primary tasks include:\n",
    "\n",
    "- **Receiving Commands**: The Control Plane receives commands and requests from users, administrators, and applications. These commands are typically sent through the *`kube-apiserver`*, which acts as the entry point to the Kubernetes API.\n",
    "\n",
    "- **Cluster State Management**: It continuously monitors and manages the cluster's desired state. This includes tracking the configuration of objects like Pods, *Services*, and *Deployments*, and ensuring that the actual state matches the desired state. We will learn in more detail about Services and Deployments later.\n",
    "\n",
    "- **Scheduling Work**: The Control Plane is responsible for determining where and how containers should run within the cluster. It uses the *`kube-scheduler`* to make decisions about which nodes should host specific Pods.\n",
    "\n",
    "- **Scaling and Healing**: If there are discrepancies between the desired and actual states, the Control Plane takes corrective actions. For instance, if a Pod fails, it initiates the creation of a replacement Pod to ensure that the desired state is maintained.\n",
    "\n",
    "- **Coordination**: It coordinates various tasks and components within the cluster to ensure seamless communication and cooperation among Nodes, Pods, and other resources"
   ]
  },
  {
   "cell_type": "markdown",
   "id": "d75d2736",
   "metadata": {},
   "source": [
    "#### 1. `kube-apiserver`\n",
    "\n",
    "> The `kube-apiserver` serves as the gateway to your Kubernetes cluster, exposing the Kubernetes API. This API enables communication with and management of the cluster's resources.\n",
    "\n",
    "Methods of interactions include:\n",
    "\n",
    "- **HTTP Requests**: You can interact with the `kube-apiserver` using HTTP requests, as it provides a RESTful API. This method is extensively used for its flexibility and accessibility. \n",
    "\n",
    "- **Command Line Tools**: Kubernetes offers command-line tools like `kubectl` for interacting with an existing Kubernetes cluster, and `kubeadm` for *cluster bootstrap operations*. Cluster bootstrap operations refer to the process of creating a new Kubernetes cluster from scratch. This involves setting up the control plane components, initializing the cluster, and preparing the nodes that will participate in the cluster.  \n",
    "\n",
    "> Using command-line tools is a preferred approach due to its readability, automation benefits, and compatibility with various Kubernetes API versions."
   ]
  },
  {
   "cell_type": "markdown",
   "id": "ebd50a2c",
   "metadata": {},
   "source": [
    "#### 2. `etcd`\n",
    "\n",
    "> *`etcd`* serves as the reliable storage backend for Kubernetes, storing critical data that defines the entire cluster's configuration and state.\n",
    "\n",
    "Key features include:\n",
    "\n",
    "- **Local Data Storage**: `etcd` stores data locally on the control plane node(s), ensuring quick access and reliability\n",
    "\n",
    "- **Cluster State Preservation**: It's important to note that if all control plane nodes fail, the cluster state is lost, necessitating the recreation of the entire infrastructure. Hence, regular backups of `etcd` data to an external storage device are recommended.\n",
    "\n",
    "#### 3. `kube-scheduler`\n",
    "\n",
    "> The *`kube-scheduler`* plays a crucial role in the cluster by handling the assignment of newly created Pods to specific Nodes.\n",
    "\n",
    "The Node selection criteria include:\n",
    "\n",
    "- **Resource Requirements**: The scheduler considers the resource requirements specified for each Pod\n",
    "\n",
    "- **Policies and Constraints**: It applies policies and constraints to ensure optimal placement\n",
    "\n",
    "- **Data Locality**: It optimizes data locality, efficiently scheduling Pods to reduce data transfer overhead\n",
    "\n",
    "#### 4. `kube-controller-manager`\n",
    "\n",
    "> The *`kube-controller-manager`* runs various controller processes, each responsible for maintaining specific aspects of the cluster's desired state.\n",
    "\n",
    "These processes continually watch the cluster through the `kube-apiserver` and work to align the current state with the desired state. For instance, the node controller responds when a node goes down, ensuring the cluster remains in the desired configuration.\n",
    "\n",
    "#### 5. `cloud-controller-manager`\n",
    "\n",
    "Kubernetes can be deployed on various cloud providers, such as AWS, Azure, Google Cloud. These cloud environments offer a wide range of resources and services that Kubernetes can leverage to enhance the functionality and resilience of containerized applications. \n",
    "\n",
    "> The *`cloud-controller-manager`* is a specialized component within the Kubernetes Control Plane designed to interact with and manage these cloud-specific resources. Similar to the `kube-controller-manager`, the `cloud-controller-manager` is responsible for maintaining the desired state of these cloud resources.\n",
    "\n",
    "For example, the `cloud-controller-manager` may include controllers like the *node controller*, which queries the cloud provider to assess the health and status of nodes in the cluster. It makes decisions based on cloud-specific information, ensuring that the cluster can effectively adapt to changing conditions, such as instances being terminated or network configurations being adjusted."
   ]
  },
  {
   "cell_type": "markdown",
   "id": "ddd4f35d",
   "metadata": {},
   "source": [
    "### Node Components\n",
    "\n",
    "Each node in a Kubernetes cluster consists of different components that important crucial roles in managing containers and ensuring the cluster's functionality:\n",
    "\n",
    "#### 1. `kubelet`\n",
    "\n",
    "> The *`kubelet`* component is responsible for ensuring the proper execution of containers within Kubernetes pods. It achieves this by adhering to the *`PodSpec`* (Pod Specification), which defines how each pod should be configured and run.\n",
    "\n",
    "The `PodSpec` includes key details like container definitions, resource requirements, volume mounts, environment variables, service accounts, labels, annotations, and security settings. We will learn how to configure `PodSpec` in a later lesson.\n",
    "\n",
    "The `kubelet` reads the `PodSpec` for each pod from the API server and ensures that the containers operate in line with the specifications. If any discrepancies or issues arise, it takes corrective actions, such as restarting containers, to maintain the desired pod state.\n",
    "\n",
    "#### 2. `kube-proxy`\n",
    "\n",
    "> The *`kube-proxy`* manages network communication within a Kubernetes cluster. It configures network rules, ensuring bidirectional communication between Pods, load balancing for services, and enforcing network policies for security. This component plays an important role in maintaining network connectivity and reliability in the cluster.\n",
    "\n",
    "#### 3. Container Runtime\n",
    "\n",
    "> The *container runtime* is the software responsible for executing containers. Kubernetes is compatible with various container runtimes. Some common options include:\n",
    "\n",
    "- **Docker**: Docker is a widely used container runtime known for its versatility and comprehensive features\n",
    "- **containerd**: Containerd is a simpler container runtime, offering a lightweight alternative to Docker"
   ]
  },
  {
   "cell_type": "markdown",
   "id": "f58c8fec",
   "metadata": {},
   "source": [
    "### Interactions Between Control Plane and Node Components\n",
    "\n",
    "In a Kubernetes cluster, control plane components and node components work together to maintain cluster stability, manage resources, and ensure seamless communication. Here's an overview of their interactions:\n",
    "\n",
    "1. `kube-apiserver` Communication:\n",
    "\n",
    "  - The `kube-apiserver` serves as the central API endpoint for control plane components\n",
    "  - Node components, such as `kubelet` and `kube-proxy`, interact with it to access cluster information and synchronize the cluster state\n",
    "\n",
    "2. `etcd` Data Store:\n",
    "\n",
    "  - `etcd` stores the cluster's configuration and state\n",
    "  - Both control plane components and node components read and update cluster information in `etcd` as needed\n",
    "\n",
    "3. `kube-scheduler` Node Selection:\n",
    "\n",
    "  - The `kube-scheduler` uses data from `kube-apiserver` to make informed decisions about where to place new Pods\n",
    "  - It communicates its decisions to `kubelet` on the chosen Node, which then initiates the deployment of Pods, guided by the `PodSpec`\n",
    "\n",
    "4. Controller Managers for State Maintenance:\n",
    "\n",
    "  - Controller processes in `kube-controller-manager` continuously monitor the cluster state via `kube-apiserver`\n",
    "  - They ensure that the cluster's current state aligns with the desired state, taking corrective actions when needed\n",
    "\n",
    "5. Node Components and Pod Management:\n",
    "\n",
    "  - `kubelet` on each Node ensures the proper execution and health of containers within Pods, adhering to the `PodSpec`\n",
    "  - `kube-proxy` manages network rules on Nodes, enabling bidirectional network communication between Pods within the cluster and external entities\n",
    "\n",
    "6. Container Runtimes for Container Execution:\n",
    "\n",
    "  - Node components rely on the chosen container runtime (e.g., Docker, containerd) to execute containers within Pods"
   ]
  },
  {
   "cell_type": "markdown",
   "id": "1fc54a23",
   "metadata": {},
   "source": [
    "## Kubernetes Objects\n",
    "\n",
    "> In Kubernetes, *objects* are the building blocks that define and maintain the desired state of the cluster. They serve as persistent entities representing what the cluster should look like.\n",
    "\n",
    "### Creating Kubernetes Objects\n",
    "\n",
    "Kubernetes offers two primary approaches to manage objects:\n",
    "\n",
    "- **Declarative Commands**: Declarative commands specify the desired state of the cluster, describing what resources should exist and how they should behave. Kubernetes then takes care of ensuring the actual state matches this desired state. Declarative commands are favored for their predictability and consistency.\n",
    "\n",
    "- **Imperative Commands**: In contrast, imperative commands directly instruct Kubernetes to perform specific actions, such as creating, deleting, or updating resources. While imperative commands offer immediate control, they may require more manual intervention and can lead to *configuration drift* over time.\n",
    "\n",
    "Configuration drift refers to the unintended and gradual deviation between the desired configuration of a system and its actual state. This drift is more likely to occur with imperative commands because they can lead to untracked and immediate changes, making it challenging to maintain the intended configuration over time.\n",
    "\n",
    "> In this section, we'll explore how to create these objects using declarative commands. \n",
    "\n",
    "Kubernetes objects allow us to specify:\n",
    "\n",
    "- Which applications to deploy and where they should run within the cluster\n",
    "- The desired behavior of applications, including restart policies, scaling, upgrades, and more\n",
    "- Allocation of resources available to applications\n",
    "\n",
    "To create object, a request must be made to the Kubernetes API via the `kubelet-apiserver`. While it's possible to send direct requests, we'll leverage `kubectl` for most operations. However, before we request the creation of resources, we need to define the object's specifications."
   ]
  },
  {
   "cell_type": "markdown",
   "id": "48eb3d61",
   "metadata": {},
   "source": [
    "### Describing Kubernetes Objects\n",
    "\n",
    "Kubernetes operates as a foundational platform upon which various projects and applications are built. Think of it as a \"programming language for deployment.\" In Kubernetes, we embrace *declarative programming*, where we specify the desired outcome rather than detailing the individual steps required to achieve it.\n",
    "\n",
    "> Kubernetes uses declarative programming to describe the state of the entire system.\n",
    "\n",
    "<br>\n",
    "\n",
    "<details>\n",
    "    <summary> <font size=+1>Click here to see the difference between imperative and declarative programming.</font> </summary>\n",
    "\n",
    "<br>\n",
    "\n",
    "> Using imperative programming (or configuration), we define each necessary step to achieve the desired outcome. Examples include:\n",
    "\n",
    "- Create variable `x`, and assign it the value of `1`\n",
    "- Scrape data from a website, and retrieve an appropriate `<image>` tag\n",
    "- Pass the image through a function to calculate the probability that it contains a logo\n",
    "\n",
    "> On the other hand, using declarative programming (or configuration), we describe the desired state of a system without specifying the required steps. Examples include:\n",
    "\n",
    "- I want variable `x` with the value of `1` assigned to it\n",
    "- I want an `<image>` tag taken out of this website\n",
    "- I want the probability that the image contains a logo\n",
    "\n",
    "</details>\n",
    "\n",
    "Since Kubernetes exposes a RESTful API, we can represent objects using `JSON` descriptions. However, this approach, although supported, can be challenging to maintain.\n",
    "\n",
    "> An alternative, more human-readable approach is to use `YAML` to define object specifications and allow `kubectl` to seamlessly convert these representations into `JSON` format.\n",
    "\n",
    "Below, we provide an example of an object configuration along with a description of its fields:"
   ]
  },
  {
   "cell_type": "markdown",
   "id": "43016407",
   "metadata": {
    "ExecuteTime": {
     "end_time": "2021-08-17T21:26:18.283113Z",
     "start_time": "2021-08-17T21:26:17.145589Z"
    }
   },
   "source": [
    "``` yaml\n",
    "# configuration file stored in deployment_example.yaml\n",
    "\n",
    "apiVersion: apps/v1\n",
    "kind: Deployment\n",
    "metadata:\n",
    "  # Unique key of the Deployment instance\n",
    "  name: deployment-example\n",
    "spec:\n",
    "  # 3 Pods should exist at all times.\n",
    "  replicas: 3\n",
    "  selector:\n",
    "    matchLabels:\n",
    "      app: nginx\n",
    "  template:\n",
    "    metadata:\n",
    "      labels:\n",
    "        # Apply this label to pods and default\n",
    "        # the Deployment label selector to this value\n",
    "        app: nginx\n",
    "    spec:\n",
    "      containers:\n",
    "      - name: nginx\n",
    "        # Run this image\n",
    "        image: nginx:1.14\n",
    "```"
   ]
  },
  {
   "cell_type": "markdown",
   "id": "939ee9e7",
   "metadata": {},
   "source": [
    "Let's break down the components of this `YAML` file:\n",
    "\n",
    "- `apiVersion`: Specifies the API version for the Kubernetes resource being defined. In this case, `apps/v1`, which is the API version for Deployments, a type of Kubernetes object. Don't worry about not knowing the different types of Kubernetes objects and their differences yet, as we will cover this extensively in the next lesson.\n",
    "- `kind`: Specifies the type of object, which is a Deployment in this case\n",
    "- `metadata`: Provides metadata for the object, including the name, which is set to `deployment-example`\n",
    "\n",
    "> To determine the appropriate API version based on the resources to be used, check out Kubernetes' documentation [here](https://kubernetes.io/docs/reference/kubernetes-api/). \n",
    "\n",
    "For example, in the declarative code above, a Deployment resource can be observed. In the documentation, you can check the Deployment API and determine that you would need the `apps/v1` API version.<br><br>\n",
    "\n",
    "<p align=center><img src=images/Deployment.png height =450 width=850></p>"
   ]
  },
  {
   "cell_type": "markdown",
   "id": "7f7fc407",
   "metadata": {},
   "source": [
    "### `spec`\n",
    "\n",
    "> In Kubernetes, the *`spec`* section serves as a critical component of object definitions. It outlines the desired characteristics and configurations of the resource. This information is provided by the user and informs Kubernetes how to manage the resource.\n",
    "\n",
    "For instance, in the case of a Deployment object example above:\n",
    "\n",
    "- The `spec `specifies that every Pod with the label `app: nginx` (with the name `nginx`), and classified as a `Deployment`, should be created and maintained\n",
    "\n",
    "- It communicates that three *replica* Pods should run within the cluster to ensure redundancy and availability. When you specify `replicas`, you're essentially telling Kubernetes that you want multiple identical copies (replicas) of the same Pod to be running concurrently in the cluster. Running multiple replica Pods serves several purposes, one of which is redundancy and availability. If one of the Pods were to fail for any reason, the other replicas can continue to serve the application's workload. \n",
    "\n",
    "- It defines the blueprint for each Pod through a template:\n",
    "\n",
    "  - The template assigns the label `app: nginx` to these Pods for easy identification\n",
    "  - Within the template, it specifies that each Pod is created from a single container named `nginx`, enhancing discoverability\n",
    "  - The image attribute within the template dictates the specific Docker image `nginx:1.14` to be used for each container\n",
    "\n",
    "In the [API documentation](https://kubernetes.io/docs/reference/kubernetes-api/), you can view the available `spec`s for resources. For example, for the Deployment `spec` have a look [here](https://kubernetes.io/docs/reference/kubernetes-api/workload-resources/deployment-v1/).\n",
    "\n",
    "<p align=center><img src=images/Deployment_Spec.png width=800 height=500></p>\n",
    "\n",
    "In addition to `spec`, Kubernetes objects also include a `status` section to provide insights into the current state of the resource.\n",
    "\n",
    "### `status`: Describing Current State\n",
    "\n",
    "> The `status` section describes the current state of the resource. While the user defines the `spec`, Kubernetes internally updates the `status`. This distinction is vital as it allows users to query the real-time status of the deployment.\n",
    "\n",
    "This allows controllers, which are responsible for maintaining the resource, to make informed decisions based on the status, therefor enabling them to steer objects closer to their desired state, ensuring reliability and performance.\n",
    "\n",
    "### Desired Vs. Actual State\n",
    "\n",
    "It's important to understand that clusters may not always precisely match the desired actual state. Kubernetes operates as a continuously running system, and while it tries to align with the desired state, certain factors can introduce disparities:\n",
    "\n",
    "- Frequent updates to configuration files may introduce delays in the implementation of changes as Kubernetes processes these updates\n",
    "- The propagation of changes may be delayed, especially in clusters with a high number of nodes, as Kubernetes coordinates these changes across the entire cluster\n",
    "- Random node failures, though Kubernetes will automatically reinstantiate necessary Pods, may temporarily affect the actual state"
   ]
  },
  {
   "cell_type": "markdown",
   "id": "49841317",
   "metadata": {},
   "source": [
    "### Creating Kubernetes Objects (Continuation)\n",
    "\n",
    "Having described a Kubernetes object, the next step is to instruct the `kube-apiserver` to create it. This involves conveying your intentions for the object to Kubernetes. We will use the declarative approach for this.\n",
    "\n",
    "> In the declarative approach, your focus is on specifying the configuration files, not the precise operation. Instead, you entrust the Kubernetes engine to automatically determine and execute the appropriate `create`, `update`, or `delete` operations based on the defined configurations.\n",
    "\n",
    "Advantages of declarative configuration include:\n",
    "\n",
    "- **Efficient Directory Management**: It's effortless to work with directories containing numerous configuration files. Changes applied to these files automatically affect the cluster.\n",
    "\n",
    "- **Scalability**: Handling multiple configurations allows you to manage a broader range of objects within your cluster\n",
    "\n",
    "- **Simplified Commands**: Only two commands are generally needed: `kubectl diff` to verify operations and `kubectl apply` to enact changes. We will look into detail at different `kubectl` commands and how to use them in the next section.\n",
    "\n",
    "- **Selective Updates**: Instead of replacing the entire configuration, you can patch specific parts, reducing complexity and streamlining maintenance\n",
    "\n",
    "Let's first install Kubernetes locally, and then we will proceed with the different commands you can use to interact with Kubernetes objects."
   ]
  },
  {
   "cell_type": "markdown",
   "id": "b371dd92",
   "metadata": {},
   "source": [
    "## Installing Kubernetes\n",
    "\n",
    "To work with Kubernetes, you'll need to install two essential tools: `kubectl` and `minikube`. These tools enable you to manage and deploy Kubernetes resources on your local machine without the need for cloud resources. In this section, we'll guide you through the installation process for both tools.\n",
    "\n",
    "### Installing `kubectl`\n",
    "\n",
    "`kubectl` is the command-line tool used to interact with Kubernetes clusters and deploy applications. The installation steps vary depending on your operating system.\n",
    "\n",
    "<details>\n",
    "    <summary> For Linux Users </summary>\n",
    "\n",
    "You can install `kubectl` on Linux using the following commands:\n",
    "\n",
    "```\n",
    "curl -LO \"https://dl.k8s.io/release/$(curl -L -s https://dl.k8s.io/release/stable.txt)/bin/linux/amd64/kubectl\"\n",
    "curl -LO \"https://dl.k8s.io/$(curl -L -s https://dl.k8s.io/release/stable.txt)/bin/linux/amd64/kubectl.sha256\"\n",
    "echo \"$(<kubectl.sha256) kubectl\" | sha256sum --check\n",
    "sudo install -o root -g root -m 0755 kubectl /usr/local/bin/kubectl\n",
    "```\n",
    "If you encounter any error during the installation, refer to the [Kubernetes website](https://kubernetes.io/docs/tasks/tools/install-kubectl-linux/). \n",
    "</details>\n",
    "\n",
    "<details>\n",
    "    <summary> For Mac Users </summary>\n",
    "\n",
    "On macOS, you can use `homebrew` for a straightforward installation:\n",
    "\n",
    "```\n",
    "brew install kubectl \n",
    "```\n",
    "If you encounter any error during the installation, refer to the [Kubernetes website](https://kubernetes.io/docs/tasks/tools/install-kubectl-linux/).\n",
    "</details>\n",
    "\n",
    "<details>\n",
    "    <summary> For Windows Users </summary>\n",
    "\n",
    "To install `kubectl` on Windows, follow these steps:\n",
    "\n",
    "1. Download the latest release with the following command:\n",
    "\n",
    "```\n",
    "curl.exe -LO \"https://dl.k8s.io/release/v1.28.1/bin/windows/amd64/kubectl.exe\"\n",
    "```\n",
    "\n",
    "Make sure to check for the latest release command [here](https://kubernetes.io/docs/tasks/tools/install-kubectl-windows/) as new versions come up quite often.\n",
    "\n",
    "2. Move the directory containing `kubectl.exe` to a location in your `PATH`. To modify the `PATH` variable in Windows:\n",
    "\n",
    "    - In the Windows Start menu, search for **Edit the system environment variables** and select it\n",
    "\n",
    "    - In the **System Properties** window, click the **Environment Variables** button\n",
    "\n",
    "    - Under the **System variables** section, scroll down and find the **Path** variable. Select it and click the **Edit** button.\n",
    "\n",
    "    - In the **Edit Environment Variable** window, click **New** and then add the directory where `kubectl.exe` file has been downloaded (e.g., `C:\\Program Files` if the file is located in `C:\\Program Files`). Click **OK** to save your changes\n",
    "\n",
    "    - Close all the open windows by clicking **OK** or **Apply** to save the changes\n",
    "\n",
    "\n",
    "Once you've installed `kubectl`, regardless of your operating system, you can verify the installation by running the following command:\n",
    "\n",
    "`kubectl version --client`"
   ]
  },
  {
   "cell_type": "markdown",
   "id": "001a03b0",
   "metadata": {},
   "source": [
    "### Installing `minikube`\n",
    "\n",
    "[`minikube`](https://minikube.sigs.k8s.io/docs/start/) is a powerful tool that simplifies the process of running Kubernetes from your local machine. It allows you to run a single-node Kubernetes cluster locally, providing an ideal environment for experimentation and learning. If you already have Docker installed on your local computer, you should be able to install Minikube with ease.\n",
    "\n",
    "<details>\n",
    "    <summary> For Linux Users </summary>\n",
    "\n",
    "To install Minikube on Linux, open your terminal and run the following commands:\n",
    "\n",
    "```\n",
    "curl -LO https://storage.googleapis.com/minikube/releases/latest/minikube-linux-amd64\n",
    "sudo install minikube-linux-amd64 /usr/local/bin/minikube\n",
    "```\n",
    "\n",
    "To start Minikube you will need to run `minikube start`. If you encounter any problems, you might need to run the following command: `sudo usermod -aG docker $USER && newgrp docker`.\n",
    "\n",
    "If you are still unable to start Minikube, follow these commands:\n",
    "\n",
    "```bash\n",
    "minikube config set driver docker\n",
    "minikube delete\n",
    "minikube start --driver=docker\n",
    "```\n",
    "\n",
    "</details>\n",
    "\n",
    " <details>\n",
    "    <summary> For Mac Users </summary>\n",
    "\n",
    "Simply run the following commands in your terminal:\n",
    "```\n",
    "brew install minikube\n",
    "```\n",
    "\n",
    "</details>\n",
    "<details>\n",
    "    <summary> For Windows Users </summary>\n",
    "\n",
    "For Windows users, follow these steps:\n",
    "\n",
    "1. **Download the Minikube Installer**: Download the `.exe` file here: https://storage.googleapis.com/minikube/releases/latest/minikube-installer.exe\n",
    "\n",
    "2. **Run PowerShell as an Administrator**: After installing it, open PowerShell as an Administrator to add the Minikube binary to your `PATH`. Run the following commands:\n",
    "\n",
    "```\n",
    "$oldPath = [Environment]::GetEnvironmentVariable('Path', [EnvironmentVariableTarget]::Machine)\n",
    "if ($oldPath.Split(';') -inotcontains 'C:\\minikube'){ `\n",
    "  [Environment]::SetEnvironmentVariable('Path', $('{0};C:\\minikube' -f $oldPath), [EnvironmentVariableTarget]::Machine) `\n",
    "}\n",
    "```\n",
    "</details>\n",
    "\n",
    "To confirm that Minikube was correctly installed, run `minikube --help`. You may need to close and open the terminal before running any command. "
   ]
  },
  {
   "cell_type": "markdown",
   "id": "19520733",
   "metadata": {},
   "source": [
    "### Configuring `minikube`\n",
    "\n",
    "Regardless of your operating system, once Minikube is installed, you can configure it by running the following command: `minikube start`.\n",
    "\n",
    "> This command initiates the creation of a Kubernetes configuration file, which informs Kubernetes (or `kubectl`) where to start deploying Kubernetes resources. If you intend to deploy resources to a cloud infrastructure, you can later modify this configuration file to suit your needs.\n",
    "\n",
    "A *context* refers to a set of access parameters for a specific Kubernetes cluster. These parameters include the cluster's server location, authentication details, and the default *namespace* to use when interacting with the cluster. A **namespace** is a way to create isolated and logically separate clusters within the same physical Kubernetes cluster. The default namespace is the namespace where resources are created if you don't specify a namespace when creating a resource.\n",
    "\n",
    "When you create a Kubernetes configuration file it can contain multiple contexts, each representing a different Kubernetes cluster. However, with Minikube the configuration file should only contain one context. You can switch between these contexts to specify which cluster you want to work with at any given time. This is particularly useful when you are managing multiple Kubernetes clusters.\n",
    "\n",
    "To inspect the configuration context and see which context is currently active, you can use the following command:"
   ]
  },
  {
   "cell_type": "code",
   "execution_count": 2,
   "id": "d7ceb9e9",
   "metadata": {},
   "outputs": [
    {
     "name": "stdout",
     "output_type": "stream",
     "text": [
      "CURRENT   NAME       CLUSTER    AUTHINFO   NAMESPACE\n",
      "*         minikube   minikube   minikube   default\n"
     ]
    }
   ],
   "source": [
    "!kubectl config get-contexts"
   ]
  },
  {
   "cell_type": "markdown",
   "id": "0e340ed3",
   "metadata": {},
   "source": [
    "You should observe that we are indeed using the cluster provided by Minikube. To find this information in the configuration file (usually located in` ~/.kube`), you can confirm that it aligns with the details obtained:\n",
    "\n",
    "<p align=center><img src=images/config_minikube.png width=500></p>\n",
    "\n",
    "In the provided example, the namespace is set to `default`. By default, when you start Minikube or change the `kubeconfig` file, Kubernetes creates four namespaces. To view them, you can run the following command:"
   ]
  },
  {
   "cell_type": "code",
   "execution_count": 3,
   "id": "b910747d",
   "metadata": {},
   "outputs": [
    {
     "name": "stdout",
     "output_type": "stream",
     "text": [
      "NAME              STATUS   AGE\n",
      "default           Active   3m5s\n",
      "kube-node-lease   Active   3m5s\n",
      "kube-public       Active   3m6s\n",
      "kube-system       Active   3m7s\n"
     ]
    }
   ],
   "source": [
    "!kubectl get namespace"
   ]
  },
  {
   "cell_type": "markdown",
   "id": "83d09414",
   "metadata": {},
   "source": [
    "To learn more about namespaces, you can visit the [Kubernetes documentation](https://kubernetes.io/docs/concepts/overview/working-with-objects/namespaces/). For now, understand that each namespace contains different resources. You can view, for example, the pods inside the `kube-system` namespace with the following command:"
   ]
  },
  {
   "cell_type": "code",
   "execution_count": 4,
   "id": "cd6ddc74",
   "metadata": {},
   "outputs": [
    {
     "name": "stdout",
     "output_type": "stream",
     "text": [
      "NAME                               READY   STATUS    RESTARTS        AGE     IP             NODE       NOMINATED NODE   READINESS GATES\n",
      "coredns-5d78c9869d-4nqdp           1/1     Running   0               3m45s   10.244.0.2     minikube   <none>           <none>\n",
      "etcd-minikube                      1/1     Running   0               3m57s   192.168.49.2   minikube   <none>           <none>\n",
      "kube-apiserver-minikube            1/1     Running   0               3m57s   192.168.49.2   minikube   <none>           <none>\n",
      "kube-controller-manager-minikube   1/1     Running   1 (4m11s ago)   3m57s   192.168.49.2   minikube   <none>           <none>\n",
      "kube-proxy-49fzl                   1/1     Running   0               3m46s   192.168.49.2   minikube   <none>           <none>\n",
      "kube-scheduler-minikube            1/1     Running   0               3m57s   192.168.49.2   minikube   <none>           <none>\n",
      "storage-provisioner                1/1     Running   1 (3m9s ago)    3m49s   192.168.49.2   minikube   <none>           <none>\n"
     ]
    }
   ],
   "source": [
    "!kubectl -n kube-system get pods -o wide"
   ]
  },
  {
   "cell_type": "markdown",
   "id": "bcebab75",
   "metadata": {},
   "source": [
    "As mentioned earlier, Kubernetes automatically restarts resources that have gone down. To demonstrate this, you can delete a pod and observe its recovery:"
   ]
  },
  {
   "cell_type": "code",
   "execution_count": 5,
   "id": "c1aca295",
   "metadata": {},
   "outputs": [
    {
     "name": "stdout",
     "output_type": "stream",
     "text": [
      "pod \"kube-proxy-49fzl\" deleted\n"
     ]
    }
   ],
   "source": [
    "!kubectl -n kube-system delete pod kube-proxy-49fzl "
   ]
  },
  {
   "cell_type": "markdown",
   "id": "d27b7f01",
   "metadata": {},
   "source": [
    "Afterward, when you check the pods again:"
   ]
  },
  {
   "cell_type": "code",
   "execution_count": 7,
   "id": "f83a9329",
   "metadata": {},
   "outputs": [
    {
     "name": "stdout",
     "output_type": "stream",
     "text": [
      "NAME                               READY   STATUS    RESTARTS        AGE     IP             NODE       NOMINATED NODE   READINESS GATES\n",
      "coredns-5d78c9869d-4nqdp           1/1     Running   0               4m56s   10.244.0.2     minikube   <none>           <none>\n",
      "etcd-minikube                      1/1     Running   0               5m8s    192.168.49.2   minikube   <none>           <none>\n",
      "kube-apiserver-minikube            1/1     Running   0               5m8s    192.168.49.2   minikube   <none>           <none>\n",
      "kube-controller-manager-minikube   1/1     Running   1 (5m22s ago)   5m8s    192.168.49.2   minikube   <none>           <none>\n",
      "kube-proxy-6jdt4                   1/1     Running   0               39s     192.168.49.2   minikube   <none>           <none>\n",
      "kube-scheduler-minikube            1/1     Running   0               5m8s    192.168.49.2   minikube   <none>           <none>\n",
      "storage-provisioner                1/1     Running   1 (4m20s ago)   5m      192.168.49.2   minikube   <none>           <none>\n"
     ]
    }
   ],
   "source": [
    "!kubectl -n kube-system get pods -o wide"
   ]
  },
  {
   "cell_type": "markdown",
   "id": "1f8ed009",
   "metadata": {},
   "source": [
    "You will notice that the resource is up and running once more.\n",
    "\n",
    "Finally, Minikube provides a convenient dashboard for visualizing resources. You can access it by running the following command:"
   ]
  },
  {
   "cell_type": "code",
   "execution_count": null,
   "id": "8e8b85cc",
   "metadata": {
    "vscode": {
     "languageId": "shellscript"
    }
   },
   "outputs": [],
   "source": [
    "minikube dashboard"
   ]
  },
  {
   "cell_type": "markdown",
   "id": "c075a762",
   "metadata": {},
   "source": [
    "The figure below displays the output after selecting `all namespaces` in the dropdown menu:\n",
    "\n",
    "<p><img src=images/minikube_dashboard.png></p>\n",
    "\n",
    "In subsequent lessons, we will explore how to create and manage these resources.\n",
    "\n",
    "> Don't forget to stop Minikube once you are done using the following command: `minikube stop`."
   ]
  },
  {
   "cell_type": "markdown",
   "id": "95fa29aa",
   "metadata": {},
   "source": [
    "## `kubectl` Commands\n",
    "\n",
    "To work effectively with Kubernetes, it's essential to understand the syntax and usage of `kubectl` commands:\n",
    "\n",
    "```\n",
    "kubectl [command] [TYPE] [NAME] [flags]\n",
    "```\n",
    "\n",
    "Here's a breakdown of the components:\n",
    "\n",
    "- `command`: Specifies the operation to be performed (e.g., `get`, `describe`)\n",
    "\n",
    "- `TYPE`: Specifies the resource type. It is case-insensitive and supports abbreviations and plurals. For example, `kubectl get namespace` is equivalent to `kubectl get ns`, and `kubectl get pods` is equivalent to `kubectl get po`.\n",
    "\n",
    "- `NAME`: Specifies the name of the resource. If omitted, it will return everything. For instance, `kubectl get pods` lists all pods in the cluster.\n",
    "\n",
    "The most useful ones are provided below. For the full list, check [here](https://kubernetes.io/docs/reference/kubectl/overview/#in-cluster-authentication-and-namespace-overrides)."
   ]
  },
  {
   "cell_type": "markdown",
   "id": "eefa37dd",
   "metadata": {},
   "source": [
    "### `apply`\n",
    "\n",
    "The `apply` command is used for configuring the cluster to your desired state by applying configuration changes defined in `YAML` or `JSON` files. It allows you to create, update, or delete resources based on the contents of these configurations files. Whether you're managing a local development setup with tools like Minikube or deploying to a production environment, `kubectl apply` helps you manage your Kubernetes resources effectively.\n",
    "\n",
    "```bash\n",
    "kubectl apply -f FILENAME [flags]\n",
    "```\n",
    "- `-f`: Specifies the filename or directory containing the configuration files that define the desired state of the cluster\n",
    "- `[flags]`: Additional command flags and options that can be used to customize the behavior of the command\n",
    "\n",
    "To apply the configuration changes defined in a file named `my-app.yaml` to your Kubernetes cluster, you can use the following command:\n",
    "\n",
    "```bash\n",
    "kubectl apply -f my-app.yaml\n",
    "```\n",
    "This command reads the contents of `my-app.yaml` and applies the specified resource definitions to the cluster, creating or updating resources as necessary to match the desired state.\n",
    "\n",
    "Important flags include:\n",
    "\n",
    "- `-R`: Recursively reads configuration files within a directory\n",
    "- `-f`: Specifies the filename or directory to read configuration from"
   ]
  },
  {
   "cell_type": "markdown",
   "id": "18f6a922",
   "metadata": {},
   "source": [
    "### `diff`\n",
    "\n",
    "The `diff` command checks the changes that will be applied to the desired state of the cluster before actually applying those changes. It's a recommended practice to run this command as part of your workflow to ensure that you understand the impact of your configuration changes.\n",
    "\n",
    "```\n",
    "kubectl diff -f -R FILENAME [flags]\n",
    "```\n",
    "- `-f`: Specifies that you are providing a file (usually a `YAML` or `JSON` file) that contains the desired configuration changes\n",
    "- `-R`: Recursively checks changes for resources defined within the provided file and its dependencies\n",
    "- `FILENAME`: The path to the file containing the desired configuration changes\n",
    "- `[flags]`: Additional command flags and options that can be used to customize the behavior of the command\n",
    "\n",
    "To check and preview the changes that would be applied when you apply a configuration file named `my-app.yaml`, you can use the following command:\n",
    "\n",
    "```bash\n",
    "kubectl diff -f -R my-app.yaml\n",
    "```\n",
    "This command will compare the desired configuration in `my-app.yaml` with the current state of the cluster and provide you with a summary of the changes that would be made if you applied the configuration."
   ]
  },
  {
   "cell_type": "markdown",
   "id": "11b365c0",
   "metadata": {},
   "source": [
    "### `get`\n",
    "\n",
    "The `get` command is used for listing one or more resources and providing basic information about Kubernetes objects. It offers a quick overview of the current state of resources, helping you manage and monitor your Kubernetes cluster effectively.\n",
    "\n",
    "```bash\n",
    "kubectl get (-f FILENAME | TYPE [NAME | /NAME | -l label]) [--watch] [--sort-by=FIELD] [[-o | --output]=OUTPUT_FORMAT] [flags]\n",
    "```\n",
    "- `(-f FILENAME | TYPE [NAME | /NAME | -l label])`: Specifies the resource you want to list. You can use a filename to list resources defined in a `YAML` file, or you can specify the resource type (e.g., pods, services) along with an optional name, name prefix, or label selector to target specific resources.\n",
    "- `[--watch]`: Enables real-time monitoring of resource changes. The command will continuously display updates as resources change.\n",
    "- `[--sort-by=FIELD]`: Sorts the resource list by the specified field\n",
    "- `[[-o | --output]=OUTPUT_FORMAT]`: Specifies the desired output format for the resource list. You can choose from various output formats such as `JSON`, `YAML`, wide, or custom-columns.\n",
    "- `[flags]`: Additional command flags and options that can be used to customize the behavior of the command\n",
    "\n",
    "For example, to list all pods in the current namespace, you can use the following command:\n",
    "\n",
    "```bash\n",
    "kubectl get pods\n",
    "```\n",
    "Or to list services in a specific namespace, specify the namespace using the `-n` flag:\n",
    "\n",
    "```bash\n",
    "kubectl get services -n my-namespace\n",
    "```"
   ]
  },
  {
   "cell_type": "markdown",
   "id": "9f44e372",
   "metadata": {},
   "source": [
    "### `describe`\n",
    "\n",
    "The `describe` command is used to inspect the state and details of one or more resources within your cluster. It provides an overview of essential information about resources, helping you understand their current configurations and conditions.\n",
    "\n",
    "```bash\n",
    "kubectl describe (-f FILENAME | TYPE [NAME_PREFIX | /NAME | -l label]) [flags]\n",
    "```\n",
    "\n",
    "- `(-f FILENAME | TYPE [NAME_PREFIX | /NAME | -l label])`: Specifies the resource you want to describe. You can use a filename to describe resources defined in a `YAML` file, or you can specify the resource type (e.g., pods, services) along with an optional name prefix, specific name, or label selector to target specific resources.\n",
    "- `[flags]`: Additional command flags and options that can be used to customize the behavior of the command\n",
    "\n",
    "For example, to display detailed information about a specific pod, use the following command:\n",
    "\n",
    "```bash\n",
    "kubectl describe pod POD_NAME\n",
    "```\n",
    "Replace `POD_NAME` with the name of the pod you want to describe.\n",
    "\n",
    "Or to inspect the configuration and conditions of a service, you can use:\n",
    "\n",
    "```bash\n",
    "kubectl describe service SERVICE_NAME\n",
    "```\n",
    "\n",
    "Replace `SERVICE_NAME` with the name of the service you want to describe."
   ]
  },
  {
   "cell_type": "markdown",
   "id": "d71560f7",
   "metadata": {},
   "source": [
    "### `attach`\n",
    "\n",
    "The `attach` command is a valuable tool for interacting with the standard input (stdin) and the standard output (stdout) of a container running within a pod. It is particularly useful for debugging purposes, allowing you to attach to a running container and interact with it.\n",
    "\n",
    "```bash\n",
    "kubectl attach POD -c CONTAINER [-i] [-t] [flags]\n",
    "```\n",
    "\n",
    "- `POD`: Specifies the name of the pod containing the container you want to attach to\n",
    "- `-c`,` --container`: Specifies the name of the container within the pod to attach to. This is required, especially when the pod contains multiple containers.\n",
    "- `-i`: Enables interactive mode, which allows you to interact with the container's stdin\n",
    "- `-t`: Allocates a terminal, making it possible to have an interactive shell session within the container\n",
    "- `[flags]`: Additional command flags and options that can be used to customize the behavior of the `kubectl attach` command\n",
    "\n",
    "To attach a running container within a pod and open an interactive terminal session, use the following command:\n",
    "\n",
    "```bash\n",
    "kubectl attach POD -c CONTAINER -i -t\n",
    "```\n",
    "\n",
    "Replace `POD` with the name of the pod, and `CONTAINER` with the name of the container."
   ]
  },
  {
   "cell_type": "markdown",
   "id": "22f37f5d",
   "metadata": {},
   "source": [
    "### `cp`\n",
    "\n",
    "The `cp` command is a versatile utility that facilitates the copying of files to and from containers. It is particularly valuable for debugging and inspecting container disk outputs.\n",
    "\n",
    "```bash\n",
    "kubectl cp <file-spec-src> <file-spec-dest> [options]\n",
    "```\n",
    "\n",
    "- `<file-spec-src>`: Specifies the source file or directory within a container or a pod\n",
    "- `<file-spec-dest>`: Specifies the destination file or directory on the local file system or within a container or a pod\n",
    "- `[options]`: Additional command options that can be used to customize the behavior of the command\n",
    "\n",
    "For example, if we wanted to copy a file named `example.txt` from a container to our local file system, use the following command:\n",
    "\n",
    "```bash\n",
    "kubectl cp <pod-name>:<path-to-file> ./example.txt\n",
    "```\n",
    "\n",
    "Replace `<pod-name>` with the name of the pod, and `<path-to-file>` with the path to the file within the container."
   ]
  },
  {
   "cell_type": "markdown",
   "id": "2b3362b0",
   "metadata": {},
   "source": [
    "### `exec`\n",
    "\n",
    "The `exec` command allows you to execute commands within a container. It is primarily used for debugging and troubleshooting purposes, providing insights into a container's current state and allowing you to interact with it directly.\n",
    "\n",
    "```bash\n",
    "kubectl exec POD [-c CONTAINER] [-i] [-t] [flags] [-- COMMAND [args...]]\n",
    "```\n",
    "\n",
    "- `POD`: Specifies the name of the pod in which you want to execute a command\n",
    "- `-c`, `--container`: Optionally, you can specify the name of the container within the pod where you want to run the command. If not specified, it defaults to the first container in the pod.\n",
    "- `-i`, `-t`: These flags indicate that you want to interact with the command, providing an interactive terminal session. `-i` enables standard input, and `-t` allocates a terminal.\n",
    "- `COMMAND [args...]`: This is the actual command you want to run within the specified container\n",
    "\n",
    "Let's look at an example where you start an interactive shell session in a pod. You can use the following command:\n",
    "\n",
    "```bash\n",
    "kubectl exec -it POD -- /bin/sh\n",
    "```\n",
    "\n",
    "Here you would have to replace `POD` with the name of your pod."
   ]
  },
  {
   "cell_type": "markdown",
   "id": "59d39f1d",
   "metadata": {},
   "source": [
    "### `delete`\n",
    "\n",
    "The `delete` command is used to delete resources. It provides a convenient way to clean up resources that are no longer needed or have become obsolete.\n",
    "\n",
    "```bash\n",
    "kubectl delete RESOURCE NAME [flags]\n",
    "```\n",
    "\n",
    "- `RESOURCE`: Specifies the type of resource you want to delete. This can be one of many Kubernetes resource types, such as pods, services, deployments, configmaps, and more.\n",
    "- `NAME`: Specifies the name of the resource you want to delete\n",
    "\n",
    "For example to delete a pod, you can use the following command:\n",
    "\n",
    "```bash\n",
    "kubectl delete pod my-pod\n",
    "```\n",
    "\n",
    "Common flags include:\n",
    "\n",
    "- `-n`,` --namespace`: Specifies the namespace in which the resource is located. If not specified, the current context's namespace is used.\n",
    "- `--grace-period`: Allows you to specify a grace period (in seconds) before forcefully deleting the resource\n",
    "- `--force`: Forces deletion of the resource, even if it's not recommended (e.g., pods that are part of a controlled deployment)\n",
    "- `--wait`: Waits for resources to be fully deleted before returning\n",
    "- `--all`: Deletes all resources of the specified type in the current namespace"
   ]
  },
  {
   "cell_type": "markdown",
   "id": "3d681905",
   "metadata": {},
   "source": [
    "## Key Takeaways\n",
    "\n",
    "- Kubernetes is an open-source platform for managing containerized workloads with a focus on declarative configuration and automation\n",
    "- Kubernetes provides multiple-container deployment, self-healing, auto-scaling, discoverability, load balancing, and storage orchestration\n",
    "- Kubernetes consists of nodes, pods, and a control plane\n",
    "- Nodes are worker machines hosting containerized applications\n",
    "- Pods are the smallest deployable units and consist of one or more containers\n",
    "- The control plane manages nodes and pods, ensuring their desired state\n",
    "- Kubernetes objects represent the desired state of the cluster\n",
    "- `kubectl` is used to interact with Kubernetes objects\n",
    "- `kubectl` commands have the format: `kubectl [command] [TYPE] [NAME] [flags]`. Common commands include `apply`, `diff`, `get`, `describe`, `attach`, `cp`, and `exec`.\n",
    "- Namespaces provide a scope for resource names, ensuring uniqueness within a namespace. Kubernetes uses namespaces for organizing resources."
   ]
  },
  {
   "cell_type": "markdown",
   "id": "9af7dbf4",
   "metadata": {},
   "source": [
    "## Further Reading\n",
    "\n",
    "- Check out [Kubernetes API Conventions](https://github.com/kubernetes/community/blob/master/contributors/devel/sig-architecture/api-conventions.md) for an in-depth understanding of Kubernetes Objects and the internal mechanisms of the project\n",
    "- Explore the alternatives to `minikube`. Read up on `kind` and `k3s`, as well as their advantages and disadvantages\n",
    "- Check out [Client Libraries](https://kubernetes.io/docs/reference/using-api/client-libraries/), which allow us to communicate with `kubelet-apiserver` via certain programming languages.\n",
    "- Check out the [Python Client Library](https://github.com/kubernetes-client/python/), and explore the tasks that can be automated using it"
   ]
  }
 ],
 "metadata": {
  "interpreter": {
   "hash": "ad8bebc098a042dc0df4e42fc2ecc8fff0bd7b8741641ce29007c29766dadbe0"
  },
  "kernelspec": {
   "display_name": "Python 3.9.1 64-bit ('base': conda)",
   "name": "python3"
  },
  "language_info": {
   "codemirror_mode": {
    "name": "ipython",
    "version": 3
   },
   "file_extension": ".py",
   "mimetype": "text/x-python",
   "name": "python",
   "nbconvert_exporter": "python",
   "pygments_lexer": "ipython3",
   "version": "3.9.2"
  }
 },
 "nbformat": 4,
 "nbformat_minor": 5
}
