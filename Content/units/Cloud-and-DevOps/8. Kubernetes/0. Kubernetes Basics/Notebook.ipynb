{
 "cells": [
  {
   "cell_type": "markdown",
   "id": "5e6a3bd1",
   "metadata": {},
   "source": [
    "# Kubernetes Basics"
   ]
  },
  {
   "cell_type": "markdown",
   "id": "d341e33d",
   "metadata": {},
   "source": [
    "<p align=center><a href=https://kubernetes.io/docs/concepts/overview/what-is-kubernetes/><img src=images/k8s.png width=500></a></p>\n",
    "\n",
    "\n",
    "> Kubernetes is an open-source platform that focuses on declarative configuration and automation for managing containerized workloads.\n",
    "\n",
    "In order to run multiple containers, a long `docker run` command or `docker compose` (particularly useful in this scenario) is required. However, when an application that needs to run tens or hundreds of containers is deployed, the health and working condition of every container must be assured, which is a difficult task. This is where Kubernetes (k8s) thrives. \n",
    "\n",
    "Kubernetes orchestrates containers. It is capable of spinning up many containers in a particular configuration. Additionally, if a container goes down for any reason, Kubernetes can initiate a new one as a replacement. "
   ]
  },
  {
   "cell_type": "markdown",
   "id": "ba33c6c9",
   "metadata": {},
   "source": [
    "## Benefits\n",
    "\n",
    "Kubernetes has many benefits and features, such as:\n",
    "\n",
    "- **Multiple-container deployment**: Kubernetes enables the deployment of many containers across a cluster\n",
    "    - The user chooses which and how many containers should be deployed\n",
    "    - The user also specifies the number of container replicas for fault tolerance <br><br>\n",
    "\n",
    "- **Self-healing**: If a container is down, i.e. not responding to health checks, Kubernetes will spin up a replacement\n",
    "\n",
    "- **Auto-scaling**: If the given containers are not enough to process all the requirements, Kubernetes can deploy more containers within the cluster. Conversely, if the resources are in excess, Kubernetes can destroy some to maintain balance.\n",
    "\n",
    "- **Discoverability**: Each container can be accessed by its name (or IP) and port\n",
    "\n",
    "- **Load balancing**: If a single node is overloaded by high traffic, Kubernetes distributes the load among several nodes to ensure high availability and efficient resource utilization\n",
    "\n",
    "- **Storage orchestration**: Kubernetes allows us to mount storage volumes, whether they are specific to a node, shared across multiple nodes, or of another type. This capability ensures that your application can save and retrieve data reliably."
   ]
  },
  {
   "cell_type": "markdown",
   "id": "c76ffc72",
   "metadata": {},
   "source": [
    "## Kubernetes Components\n",
    "\n",
    "Kubernetes encompasses many concepts, each essential for efficiently working with the platform. In this section we will provide an overview of the components that form the foundation of a Kubernetes cluster.\n",
    "\n",
    "When Kubernetes is deployed, it creates a cluster with the components illustrated in the diagram below:\n",
    "\n",
    "![](./images/components-of-kubernetes.svg)\n",
    "\n",
    "### High-level components overview\n",
    "\n",
    "- *Nodes*: These are the worker machines, which can be physical or virtual, responsible for hosting containerized applications\n",
    "\n",
    "- *Pods*: Pods are the fundamental building blocks of applications in Kubernetes. They represent the smallest deployable unit of work and can consist of one or more containers. Kubernetes orchestrates these Pods to manage your application's containers efficiently.\n",
    "\n",
    "- *Control plane*: The Control Plane contains Kubernetes' orchestrators that oversee the management of Nodes and Pods\n",
    "\n",
    "> For learning purposes, we will begin by working with a single Node on one physical machine. However, in production environments, the Control Plane can span multiple machines to enhance fault tolerance, and there can be numerous Nodes, often numbering in the thousands, to meet the demands of complex applications."
   ]
  },
  {
   "cell_type": "markdown",
   "id": "3f0e409d",
   "metadata": {},
   "source": [
    "### Control Plane Components\n",
    "\n",
    "The **Control Plane** in Kubernetes serves as the brain of the cluster, responsible for managing and maintaining the desired state of the entire system. Think of it as the central control hub that governs the behavior and functionality of the cluster. Its primary tasks include:\n",
    "\n",
    "- **Receiving Commands**: The Control Plane receives commands and requests from users, administrators, and applications. These commands are typically sent through the `kube-apiserver`, which acts as the entry point to the Kubernetes API.\n",
    "\n",
    "- **Cluster State Management**: It continuously monitors and manages the cluster's desired state. This includes tracking the configuration of objects like Pods, Services, and Deployments, and ensuring that the actual state matches the desired state.\n",
    "\n",
    "- **Scheduling Work**: The Control Plane is responsible for determining where and how containers should run within the cluster. It uses the `kube-scheduler` to make intelligent decisions about which nodes should host specific Pods.\n",
    "\n",
    "- **Scaling and Healing**: If there are discrepancies between the desired and actual states, the Control Plane takes corrective actions. For instance, if a Pod fails, it initiates the creation of a replacement Pod to ensure that the desired state is maintained.\n",
    "\n",
    "- **Coordination**: It coordinates various tasks and components within the cluster to ensure seamless communication and cooperation among Nodes, Pods, and other resources"
   ]
  },
  {
   "cell_type": "markdown",
   "id": "d75d2736",
   "metadata": {},
   "source": [
    "#### 1. `kube-apiserver`\n",
    "\n",
    "> The `kube-apiserver` serves as the gateway to your Kubernetes cluster, exposing the Kubernetes API. This API enables communication with and management of the cluster's resources.\n",
    "\n",
    "Methods of interactions include:\n",
    "\n",
    "- **HTTP Requests**: You can interact with the `kube-apiserver` using HTTP requests, as it provides a RESTful API. This method is extensively used for its flexibility and accessibility. \n",
    "\n",
    "- **Command Line Tools**: Kubernetes offers command-line tools like `kubectl` for cluster and workload control and `kubeadm` for cluster bootstrap operations. These tools are favored for their readability, automation capabilities, and compatibility with different internal API versions of Kubernetes.\n",
    "      \n",
    "> Using command-line tools is a preferred approach due to its readability, automation benefits, and compatibility with various Kubernetes API versions."
   ]
  },
  {
   "cell_type": "markdown",
   "id": "ebd50a2c",
   "metadata": {},
   "source": [
    "#### 2. `etcd`\n",
    "\n",
    "> `etcd` serves as the reliable storage backend for Kubernetes, storing critical data that defines the entire cluster's configuration and state.\n",
    "\n",
    "Key features include:\n",
    "\n",
    "- **Local Data Storage**: `etcd` stores data locally on the control plane node(s), ensuring quick access and reliability\n",
    "\n",
    "- **Cluster State Preservation**: It's important to note that if all control plane nodes fail, the cluster state is lost, necessitating the recreation of the entire infrastructure. Hence, regular backups of `etcd` data to an external storage device are recommended.\n",
    "\n",
    "#### 3. `kube-scheduler`\n",
    "\n",
    "> The `kube-scheduler` plays a crucial role in the cluster by handling the assignment of newly created Pods to specific Nodes.\n",
    "\n",
    "The Node selection criteria includes:\n",
    "\n",
    "- **Resource Requirements**: The scheduler considers the resource requirements specified for each Pod\n",
    "\n",
    "- **Policies and Constraints**: It applies policies and constraints to ensure optimal placement\n",
    "\n",
    "- **Data Locality**: It optimizes data locality, efficiently scheduling Pods to reduce data transfer overhead\n",
    "\n",
    "#### 4. `kube-controller-manager`\n",
    "\n",
    "> The `kube-controller-manager` runs various controller processes, each responsible for maintaining specific aspects of the cluster's desired state.\n",
    "\n",
    "These processes continually watch the cluster through the `kube-apiserver` and work to align the current state with the desired state. For instance, the node controller responds when a node goes down, ensuring the cluster remains in the desired configuration.\n",
    "\n",
    "#### 5. `cloud-controller-manager`\n",
    "\n",
    "> Similar to the `kube-controller-manager`, the `cloud-controller-manager` focuses on maintaining the desired state of cloud resources.\n",
    "\n",
    "For instance, the node controller queries the cloud provider to assess the health of nodes, making decisions based on the cloud's resources and ensuring the cluster adapts to changing cloud conditions."
   ]
  },
  {
   "cell_type": "markdown",
   "id": "f943c6f4",
   "metadata": {},
   "source": [
    "### Node Components\n",
    "\n",
    "Each node in a Kubernetes cluster consists of essential components that play crucial roles in managing containers and ensuring the cluster's functionality:\n",
    "\n",
    "#### 1. `kubelet`\n",
    "\n",
    "> The `kubelet` component is responsible for maintaining the health and proper execution of containers within Pods, following the specifications outlined in the PodSpec.\n",
    "\n",
    "#### 2. `kube-proxy`\n",
    "\n",
    "> `kube-proxy` is responsible for managing network rules on nodes. It ensures bidirectional network communication between Pods within the cluster and external entities.\n",
    "\n",
    "#### 3. Container Runtime\n",
    "\n",
    "> The container runtime is the software responsible for executing containers. Kubernetes is compatible with various container runtimes. Some common options include:\n",
    "\n",
    "- **Docker**: Docker is a widely used container runtime known for its versatility and comprehensive features\n",
    "- **containerd**: Containerd is a simpler container runtime, offering a lightweight alternative to Docker"
   ]
  },
  {
   "cell_type": "markdown",
   "id": "f58c8fec",
   "metadata": {},
   "source": [
    "### Interactions Between Control Plane and Node Components\n",
    "\n",
    "In a Kubernetes cluster, control plane components and node components work together to maintain cluster stability, manage resources, and ensure seamless communication. Here's an overview of their interactions:\n",
    "\n",
    "1. `kube-apiserver` Communication:\n",
    "  - The `kube-apiserver` serves as the central API endpoint for control plane components\n",
    "  - Node components, such as `kubelet` and `kube-proxy`, interact with it to access cluster information and synchronize state\n",
    "\n",
    "2. `etcd` Data Store:\n",
    "  - `etcd` stores the cluster's configuration and state\n",
    "  - Both control plane components and node components read and update cluster information in `etcd` as needed\n",
    "\n",
    "3. `kube-scheduler` Node Selection:\n",
    "  - The `kube-scheduler` uses data from `kube-apiserver` to make informed decisions about where to place new Pods\n",
    "  - It communicates its decisions to `kubelet` on the chosen Node, which then initiates the deployment of Pods, guided by the PodSpec\n",
    "\n",
    "4. Controller Managers for State Maintenance:\n",
    "  - Controller processes in `kube-controller-manager` continuously monitor the cluster state via `kube-apiserver`\n",
    "  - They ensure that the cluster's current state aligns with the desired state, taking corrective actions when needed\n",
    "\n",
    "5. Node Components and Pod Management:\n",
    "  - `kubelet` on each Node ensures the proper execution and health of containers within Pods, adhering to the PodSpec\n",
    "  - `kube-proxy` manages network rules on Nodes, enabling bidirectional network communication between Pods within the cluster and external entities\n",
    "\n",
    "6. Container Runtimes for Container Execution:\n",
    "  - Node components rely on the chosen container runtime (e.g., Docker, containerd) to execute containers within Pods"
   ]
  },
  {
   "cell_type": "markdown",
   "id": "887bd3da",
   "metadata": {},
   "source": [
    "## Kubernetes Objects"
   ]
  },
  {
   "cell_type": "markdown",
   "id": "65b6aa3c",
   "metadata": {},
   "source": [
    "> In Kubernetes, *objects* are the building blocks that define and maintain the desired state of the cluster. They serve as persistent entities representing what the cluster should look like.\n",
    "\n",
    "### Creating Kubernetes Objects\n",
    "\n",
    "Kubernetes offers two primary approaches to manage objects:\n",
    "\n",
    "- **Declarative Commands**: Declarative commands specify the desired state of the cluster, describing what resources should exist and how they should behave. Kubernetes then takes care of ensuring the actual state matches this desired state. Declarative commands are favored for their predictability and consistency.\n",
    "\n",
    "- **Imperative Commands**: In contrast, imperative commands directly instruct Kubernetes to perform specific actions, such as creating, deleting, or updating resources. While imperative commands offer immediate control, they may require more manual intervention and can lead to configuration drift over time.\n",
    "\n",
    "> In this section, we'll explore how to create these objects using declarative commands. \n",
    "\n",
    "Kubernetes objects allow us to specify:\n",
    "\n",
    "- Which applications to deploy and where they should run within the cluster\n",
    "- The desired behavior of applications, including restart policies, scaling, upgrades, and more\n",
    "- Allocation of resources available to applications\n",
    "\n",
    "To create object, a request must be made to the Kubernetes API via the `kubelet-apiserver`. While it's possible to send direct REST requests, we'll leverage `kubectl`, a versatile command-line tool, for most operations. However, before we request the creation of resources, we need to define the object's specifications."
   ]
  },
  {
   "cell_type": "markdown",
   "id": "f02e1895",
   "metadata": {},
   "source": [
    "### Describing Kubernetes Objects\n",
    "\n",
    "Kubernetes operates as a foundational platform upon which various projects and applications are built. Think of it as a \"programming language for deployment.\" In Kubernetes, we embrace a concept known as *declarative programming*, where we specify the desired outcome rather than detailing the individual steps required to achieve it.\n",
    "\n",
    "> Kubernetes uses declarative programming to describe the state of the entire system.\n",
    "\n",
    "<br>\n",
    "\n",
    "<details>\n",
    "    <summary> <font size=+1>Click here to see the difference between imperative and declarative programming.</font> </summary>\n",
    "\n",
    "<br>\n",
    "\n",
    "> Using imperative programming (or configuration), we define each necessary step to achieve the desired outcome. Examples include:\n",
    "\n",
    "- Create variable `x`, and assign it the value of `1`\n",
    "- Scrape data from a website, and retrieve an appropriate `<image>` tag\n",
    "- Pass the image through a function to calculate the probability that it contains a logo\n",
    "\n",
    "> On the other hand, using declarative programming (or configuration), we describe the desired state of a system without specifying the required steps. Examples include:\n",
    "\n",
    "- I want variable `x` with the value of `1` assigned to it\n",
    "- I want an `<image>` tag taken out of this website\n",
    "- I want the probability that the image contains a logo\n",
    "\n",
    "</details>\n",
    "\n",
    "Since Kubernetes exposes a RESTful API, we can represent objects using `JSON` descriptions. However, this approach, although supported, can be challenging to maintain.\n",
    "\n",
    "> An alternative, more human-readable approach is to use `YAML` to define object specifications and allow `kubectl` to seamlessly convert these representations into `JSON` format.\n",
    "\n",
    "Below, we provide an example of an object configuration along with a description of its fields:"
   ]
  },
  {
   "cell_type": "markdown",
   "id": "facb2ba4",
   "metadata": {
    "ExecuteTime": {
     "end_time": "2021-08-17T21:26:18.283113Z",
     "start_time": "2021-08-17T21:26:17.145589Z"
    }
   },
   "source": [
    "``` yaml\n",
    "# configuration file stored in deployment_example.yaml\n",
    "\n",
    "apiVersion: apps/v1\n",
    "kind: Deployment\n",
    "metadata:\n",
    "  # Unique key of the Deployment instance\n",
    "  name: deployment-example\n",
    "spec:\n",
    "  # 3 Pods should exist at all times.\n",
    "  replicas: 3\n",
    "  selector:\n",
    "    matchLabels:\n",
    "      app: nginx\n",
    "  template:\n",
    "    metadata:\n",
    "      labels:\n",
    "        # Apply this label to pods and default\n",
    "        # the Deployment label selector to this value\n",
    "        app: nginx\n",
    "    spec:\n",
    "      containers:\n",
    "      - name: nginx\n",
    "        # Run this image\n",
    "        image: nginx:1.14\n",
    "```"
   ]
  },
  {
   "cell_type": "markdown",
   "id": "49030abd",
   "metadata": {},
   "source": [
    "Let's breakdown the components of this `YAML` file:\n",
    "\n",
    "- `apiVersion`: Specifies the API version for this object, in this case, `apps/v1`, which is the API version for Deployments\n",
    "- `kind`: Specifies the type of object, which is a Deployment in this case\n",
    "- `metadata`: Provides metadata for the object, including the name, which is set to `deployment-example`\n",
    "\n",
    "> To determine the appropriate API version based on the resources to be used, check out Kuberenetes' documentation [here](https://kubernetes.io/docs/reference/generated/kubernetes-api/v1.22/#-strong-api-overview-strong-). \n",
    "\n",
    "For example, in the declarative code above, a Deployment resource can be observed. In the documentation, you can check the Deployment API and determine that you would need the `apps/v1` API version.<br><br>\n",
    "\n",
    "<p align=center><img src=images/Deployment.png height =450 width=950></p>"
   ]
  },
  {
   "cell_type": "markdown",
   "id": "faabf004",
   "metadata": {},
   "source": [
    "### spec\n",
    "\n",
    "> In Kubernetes, the `spec` section serves as a critical component of object definitions. It outlines the desired characteristics and configurations of the resource. This information is provided by the user and informs the Kubernetes platform about how to manage the resource.\n",
    "\n",
    "For instance, in the case of a Deployment object example above:\n",
    "\n",
    "- The `spec `specifies that every Pod with the label `app: nginx`, with the name `nginx`, and classified as a `Deployment`, should be created and maintained\n",
    "\n",
    "- It communicates that three replica Pods should run within the cluster to ensure redundancy and availability\n",
    "\n",
    "- It defines the blueprint for each Pod through a template:\n",
    "  - The template assigns the label `app: nginx` to these Pods for easy identification\n",
    "  - Within the template, it specifies that each Pod is created from a single container named `nginx`, enhancing discoverability\n",
    "  - The image attribute within the template dictates the specific Docker image `nginx:1.14` to be used for each container\n",
    "\n",
    "In the [API documentation](https://kubernetes.io/docs/reference/generated/kubernetes-api/v1.22/#-strong-api-overview-strong-), you can view the available `spec`s for resources. \n",
    "\n",
    "<p align=center><img src=images/Deployment_Spec.png width=900 height=600></p>\n",
    "\n",
    "In addition to `spec`, Kubernetes objects also include a `status` section to provide insights into the current state of the resource.\n",
    "\n",
    "### `status`: Describing Current State\n",
    "\n",
    "> The `status` section describes the current state of the resource. While the user defines the `spec`, Kubernetes internally updates the `status`. This distinction is vital as it allows users to query the real-time status of the deployment.\n",
    "\n",
    "Benefits of Providing `status`:\n",
    "\n",
    "- Enables users to gain valuable insights into the current state of the resource\n",
    "- Empowers controllers to make informed decisions based on the `status`, steering objects closer to their desired state\n",
    "\n",
    "### Desired Vs. Actual State\n",
    "\n",
    "It's important to understand that clusters may not always precisely match the desired actual state. Kubernetes operates as a continuously running system, and while it diligently strives to align with the desired state, certain factors can introduce disparities:\n",
    "\n",
    "- Frequent updates to configuration files may introduce delays in the implementation of changes as Kubernetes processes these updates\n",
    "- The propagation of changes may be delayed, especially in clusters with a high number of nodes, as Kubernetes coordinates these changes across the entire cluster\n",
    "- Random node failures, though Kubernetes will automatically reinstantiate necessary Pods, may temporarily affect the actual state"
   ]
  },
  {
   "cell_type": "markdown",
   "id": "9745fdb7",
   "metadata": {},
   "source": [
    "### Creating Kubernetes Objects (Continuation)\n",
    "\n",
    "Having described a Kubernetes object, the next step is to instruct the `kube-apiserver` to create it. This involves conveying your intentions for the object to Kubernetes, and there are three primary approaches to achieve this:\n",
    "\n",
    "- **Imperative Commands**: This approach operates directly on existing objects using commands. However, it's important to note that using imperative commands is discouraged in favor of declarative methods.\n",
    "\n",
    "- **Imperative Object Configuration**: With this method, you operate on individual configuration files, specifying the exact operation (create, update, delete) to perform on each object.\n",
    "\n",
    "- **Declarative Object Configuration**: The declarative approach focuses on specifying the configuration files without explicitly stating the operation to be executed. Instead, the Kubernetes engine automatically determines whether to create, update, or delete the objects based on their definitions.\n",
    "\n",
    "> It's crucial to avoid mixing these approaches, as doing so may result in unpredictable behavior within your cluster.\n",
    "\n",
    "In this lesson, we will primarily concentrate on the declarative approach for its clarity and predictability. For guidance on using imperative commands, you can refer to this [link](https://kubernetes.io/docs/tasks/manage-kubernetes-objects/imperative-command/)."
   ]
  },
  {
   "cell_type": "markdown",
   "id": "3289df0b",
   "metadata": {},
   "source": [
    "### Declarative Object Configuration\n",
    "\n",
    "> In the declarative approach, your focus is on specifying the configuration files, not the precise operation. Instead, you entrust the Kubernetes engine to automatically determine and execute the appropriate `create`, `update`, or `delete` operations based on the defined configurations.\n",
    "\n",
    "Advantages of Declarative Configuration include:\n",
    "\n",
    "- **Efficient Directory Management**: It's effortless to work with directories containing numerous configuration files. Changes applied to these files automatically affect the cluster.\n",
    "\n",
    "- **Scalability**: Handling multiple configurations allows you to manage a broader range of objects within your cluster\n",
    "\n",
    "- **Simplified Commands**: Only two commands are generally needed: `kubectl diff` to verify operations and `kubectl apply` to enact changes\n",
    "\n",
    "- **Selective Updates**: Instead of replacing the entire configuration, you can patch specific parts, reducing complexity and streamlining maintenance\n",
    "\n",
    "Drawbacks of Declarative Configuration include:\n",
    "\n",
    "- **Debugging Complexity**: Debugging declarative configurations, especially when getting started with Kubernetes, may pose challenges\n",
    "- **Complex Operations**: The inner workings behind the scenes involve complex operations that may not always be apparent to the user\n",
    "\n",
    "To verify which operations will be applied before executing them, you can use commands like:"
   ]
  },
  {
   "cell_type": "markdown",
   "id": "7ecee360",
   "metadata": {},
   "source": [
    "```\n",
    "kubectl diff -f ./configs\n",
    "\n",
    "kubectl diff -R -f ./configs  # Recursively find all `.yaml` files\n",
    "```"
   ]
  },
  {
   "cell_type": "markdown",
   "id": "2b80dc4c",
   "metadata": {},
   "source": [
    "Once you've confirmed that the parsed configurations align with the desired cluster state, you can execute the operations using:"
   ]
  },
  {
   "cell_type": "markdown",
   "id": "c4bb4d87",
   "metadata": {},
   "source": [
    "```\n",
    "kubectl apply -R -f ./configs # R for recursive\n",
    "```"
   ]
  },
  {
   "cell_type": "markdown",
   "id": "780acfdf",
   "metadata": {},
   "source": [
    "This was a lot to process! Maybe a few examples can make everything a little bit more clear. Let's install Kubernetes to see it in action!"
   ]
  },
  {
   "cell_type": "markdown",
   "id": "dccf3157",
   "metadata": {},
   "source": [
    "## Installing Kubernetes\n",
    "\n",
    "To work with Kubernetes, you'll need to install two essential tools: `kubectl` and `minikube`. These tools enable you to manage and deploy Kubernetes resources on your local machine without the need for cloud resources. In this section, we'll guide you through the installation process for both tools.\n",
    "\n",
    "### Installing `kubectl`\n",
    "\n",
    "`kubectl` is the command-line tool used to interact with Kubernetes clusters and deploy applications. The installation steps vary depending on your operating system.\n",
    "\n",
    "<details>\n",
    "    <summary> For Linux Users </summary>\n",
    "\n",
    "You can install `kubectl` on Linux using the following commands:\n",
    "\n",
    "```\n",
    "curl -LO \"https://dl.k8s.io/release/$(curl -L -s https://dl.k8s.io/release/stable.txt)/bin/linux/amd64/kubectl\"\n",
    "curl -LO \"https://dl.k8s.io/$(curl -L -s https://dl.k8s.io/release/stable.txt)/bin/linux/amd64/kubectl.sha256\"\n",
    "echo \"$(<kubectl.sha256) kubectl\" | sha256sum --check\n",
    "sudo install -o root -g root -m 0755 kubectl /usr/local/bin/kubectl\n",
    "```\n",
    "If you encounter any error during the installation, refer to the [Kubernetes website](https://kubernetes.io/docs/tasks/tools/install-kubectl-linux/). \n",
    "</details>\n",
    "\n",
    "<details>\n",
    "    <summary> For Mac Users </summary>\n",
    "\n",
    "On macOS, you can use `homebrew` for a straightforward installation:\n",
    "\n",
    "```\n",
    "brew install kubectl \n",
    "```\n",
    "If you encounter any error during the installation, refer to the [Kubernetes website](https://kubernetes.io/docs/tasks/tools/install-kubectl-linux/) \n",
    "</details>\n",
    "\n",
    "<details>\n",
    "    <summary> For Windows Users </summary>\n",
    "\n",
    "To install `kubectl` on Windows, follow these steps:\n",
    "\n",
    "1. Download the latest release with the following command:\n",
    "\n",
    "```\n",
    "curl.exe -LO \"https://dl.k8s.io/release/v1.28.1/bin/windows/amd64/kubectl.exe\"\n",
    "```\n",
    "\n",
    "Make sure to check for the latest release command [here](https://kubernetes.io/docs/tasks/tools/install-kubectl-windows/) as new versions come up quite often.\n",
    "\n",
    "2. Move the directory containing `kubectl.exe` to a location in your `PATH`.\n",
    "\n",
    ">Important! By default, Docker Desktop comes with its own `kubectl` version. Ensure that the version you downloaded is above Docker in your PATH. For example, in our case, we have it installed in `C:\\Users\\yingy`; thus, it is above the Docker location.\n",
    "<p align=center><img src=images/kubectl_path.png width=300></p>\n",
    "</details>\n",
    "\n",
    "Once you've installed kubectl, regardless of your operating system, you can verify the installation by running the following command:\n",
    "\n",
    "`kubectl version --client`"
   ]
  },
  {
   "cell_type": "markdown",
   "id": "001a03b0",
   "metadata": {},
   "source": [
    "### Installing `minikube`\n",
    "\n",
    "[`minikube`](https://minikube.sigs.k8s.io/docs/start/)  is a powerful tool that simplifies the process of learning Kubernetes from your local machine. It allows you to run a single-node Kubernetes cluster locally, providing an ideal environment for experimentation and learning. If you already have Docker installed on your local computer, you should be able to install Minikube with ease.\n",
    "\n",
    "<details>\n",
    "    <summary> For Linux Users </summary>\n",
    "\n",
    "To install Minikube on Linux, open your terminal and run the following commands:\n",
    "\n",
    "```\n",
    "curl -LO https://storage.googleapis.com/minikube/releases/latest/minikube-linux-amd64\n",
    "sudo install minikube-linux-amd64 /usr/local/bin/minikube\n",
    "```\n",
    "</details>\n",
    "\n",
    " <details>\n",
    "    <summary> For Mac Users </summary>\n",
    "\n",
    "Simply run the following commands in your terminal:\n",
    "```\n",
    "brew install minikube\n",
    "```\n",
    "\n",
    "</details>\n",
    "<details>\n",
    "    <summary> For Windows Users </summary>\n",
    "\n",
    "For Windows users, follow these steps:\n",
    "\n",
    "1. **Download the Minikube Installer**: Download the .exe file here: https://storage.googleapis.com/minikube/releases/latest/minikube-installer.exe\n",
    "\n",
    "2. **Run PowerShell as an Administrator**: After installing it, open PowerShell as an Administrator to add the Minikube binary to your `PATH`. Run the following commands:\n",
    "\n",
    "```\n",
    "$oldPath = [Environment]::GetEnvironmentVariable('Path', [EnvironmentVariableTarget]::Machine)\n",
    "if ($oldPath.Split(';') -inotcontains 'C:\\minikube'){ `\n",
    "  [Environment]::SetEnvironmentVariable('Path', $('{0};C:\\minikube' -f $oldPath), [EnvironmentVariableTarget]::Machine) `\n",
    "}\n",
    "```\n",
    "</details>\n",
    "\n",
    "To confirm that Minikube was was correctly installed, run `minikube --help`. You may need to close and open the terminal before running any command."
   ]
  },
  {
   "cell_type": "markdown",
   "id": "19520733",
   "metadata": {},
   "source": [
    "### Configuring `minikube`\n",
    "\n",
    "Regardless of your operating system, once Minikube is installed, you can configure it by running the following command:  `minikube start`.\n",
    "\n",
    "> This command initiates the creation of a Kubernetes configuration file, which informs Kubernetes (or `kubectl`) where to start deploying Kubernetes resources. If you intend to deploy resources to a cloud infrastructure, you can later modify this configuration file to suit your needs.\n",
    "\n",
    "To inspect the configuration context, you can run the following command:"
   ]
  },
  {
   "cell_type": "code",
   "execution_count": 2,
   "id": "d7ceb9e9",
   "metadata": {},
   "outputs": [
    {
     "name": "stdout",
     "output_type": "stream",
     "text": [
      "CURRENT   NAME       CLUSTER    AUTHINFO   NAMESPACE\n",
      "*         minikube   minikube   minikube   default\n"
     ]
    }
   ],
   "source": [
    "!kubectl config get-contexts"
   ]
  },
  {
   "cell_type": "markdown",
   "id": "0e340ed3",
   "metadata": {},
   "source": [
    "You should observe that we are indeed using the cluster provided by Minikube. To find this information in the configuration file (usually located in` ~/.kube`), you can confirm that it aligns with the details obtained:\n",
    "\n",
    "<p align=center><img src=images/config_minikube.png width=500></p>\n",
    "\n",
    "In the provided example, the namespace is set to `default`. Namespaces are virtual clusters within physical clusters and are used to group semantically similar Kubernetes objects.\n",
    "\n",
    "> Namespaces provide a scope for names. Resource names must be unique within a namespace but not across namespaces.\n",
    "\n",
    "By default, when you start Minikube or change the `kubeconfig` file, Kubernetes creates four namespaces. To view them, you can run the following command:"
   ]
  },
  {
   "cell_type": "code",
   "execution_count": 3,
   "id": "b910747d",
   "metadata": {},
   "outputs": [
    {
     "name": "stdout",
     "output_type": "stream",
     "text": [
      "NAME              STATUS   AGE\n",
      "default           Active   3m5s\n",
      "kube-node-lease   Active   3m5s\n",
      "kube-public       Active   3m6s\n",
      "kube-system       Active   3m7s\n"
     ]
    }
   ],
   "source": [
    "!kubectl get namespace"
   ]
  },
  {
   "cell_type": "markdown",
   "id": "83d09414",
   "metadata": {},
   "source": [
    "To learn more about namespaces, you can visit the  [Kubernetes documentation](https://kubernetes.io/docs/concepts/overview/working-with-objects/namespaces/). For now, understand that each namespace contains different resources. You can view, for example, the pods inside the `kube-system` namespace with the following command:"
   ]
  },
  {
   "cell_type": "code",
   "execution_count": 4,
   "id": "cd6ddc74",
   "metadata": {},
   "outputs": [
    {
     "name": "stdout",
     "output_type": "stream",
     "text": [
      "NAME                               READY   STATUS    RESTARTS        AGE     IP             NODE       NOMINATED NODE   READINESS GATES\n",
      "coredns-5d78c9869d-4nqdp           1/1     Running   0               3m45s   10.244.0.2     minikube   <none>           <none>\n",
      "etcd-minikube                      1/1     Running   0               3m57s   192.168.49.2   minikube   <none>           <none>\n",
      "kube-apiserver-minikube            1/1     Running   0               3m57s   192.168.49.2   minikube   <none>           <none>\n",
      "kube-controller-manager-minikube   1/1     Running   1 (4m11s ago)   3m57s   192.168.49.2   minikube   <none>           <none>\n",
      "kube-proxy-49fzl                   1/1     Running   0               3m46s   192.168.49.2   minikube   <none>           <none>\n",
      "kube-scheduler-minikube            1/1     Running   0               3m57s   192.168.49.2   minikube   <none>           <none>\n",
      "storage-provisioner                1/1     Running   1 (3m9s ago)    3m49s   192.168.49.2   minikube   <none>           <none>\n"
     ]
    }
   ],
   "source": [
    "!kubectl -n kube-system get pods -o wide"
   ]
  },
  {
   "cell_type": "markdown",
   "id": "bcebab75",
   "metadata": {},
   "source": [
    "As mentioned earlier, Kubernetes automatically restarts resources that have gone down. To demonstrate this, you can delete a pod and observe its recovery:"
   ]
  },
  {
   "cell_type": "code",
   "execution_count": 5,
   "id": "c1aca295",
   "metadata": {},
   "outputs": [
    {
     "name": "stdout",
     "output_type": "stream",
     "text": [
      "pod \"kube-proxy-49fzl\" deleted\n"
     ]
    }
   ],
   "source": [
    "!kubectl -n kube-system delete pod kube-proxy-49fzl "
   ]
  },
  {
   "cell_type": "markdown",
   "id": "d27b7f01",
   "metadata": {},
   "source": [
    "Afterward, when you check the pods again:"
   ]
  },
  {
   "cell_type": "code",
   "execution_count": 7,
   "id": "f83a9329",
   "metadata": {},
   "outputs": [
    {
     "name": "stdout",
     "output_type": "stream",
     "text": [
      "NAME                               READY   STATUS    RESTARTS        AGE     IP             NODE       NOMINATED NODE   READINESS GATES\n",
      "coredns-5d78c9869d-4nqdp           1/1     Running   0               4m56s   10.244.0.2     minikube   <none>           <none>\n",
      "etcd-minikube                      1/1     Running   0               5m8s    192.168.49.2   minikube   <none>           <none>\n",
      "kube-apiserver-minikube            1/1     Running   0               5m8s    192.168.49.2   minikube   <none>           <none>\n",
      "kube-controller-manager-minikube   1/1     Running   1 (5m22s ago)   5m8s    192.168.49.2   minikube   <none>           <none>\n",
      "kube-proxy-6jdt4                   1/1     Running   0               39s     192.168.49.2   minikube   <none>           <none>\n",
      "kube-scheduler-minikube            1/1     Running   0               5m8s    192.168.49.2   minikube   <none>           <none>\n",
      "storage-provisioner                1/1     Running   1 (4m20s ago)   5m      192.168.49.2   minikube   <none>           <none>\n"
     ]
    }
   ],
   "source": [
    "!kubectl -n kube-system get pods -o wide"
   ]
  },
  {
   "cell_type": "markdown",
   "id": "1f8ed009",
   "metadata": {},
   "source": [
    "You will notice that the resource is up and running once more.\n",
    "\n",
    "Finally, Minikube provides a convenient dashboard for visualizing resources. You can access it by running the following command:"
   ]
  },
  {
   "cell_type": "code",
   "execution_count": null,
   "id": "8e8b85cc",
   "metadata": {
    "vscode": {
     "languageId": "shellscript"
    }
   },
   "outputs": [],
   "source": [
    "minikube dashboard"
   ]
  },
  {
   "cell_type": "markdown",
   "id": "c075a762",
   "metadata": {},
   "source": [
    "The figure below displays the output after selecting `all namespaces` in the dropdown menu:\n",
    "\n",
    "<p><img src=images/minikube_dashboard.png></p>\n",
    "\n",
    "In subsequent lessons, we will explore how to create and manage these resources.\n",
    "\n",
    "> Don't forget to stop Minikube once you are done using the following command: `minikube stop`."
   ]
  },
  {
   "cell_type": "markdown",
   "id": "84f0e13c",
   "metadata": {},
   "source": [
    "## `kubectl` Commands\n",
    "\n",
    "To work effectively with Kubernetes, it's essential to understand the syntax and usage of `kubectl` commands:\n",
    "\n",
    "```\n",
    "kubectl [command] [TYPE] [NAME] [flags]\n",
    "```\n",
    "\n",
    "Here's a breakdown of the components:\n",
    "\n",
    "- `command`: Specifies the operation to be performed (e.g., `get`, `describe`)\n",
    "\n",
    "- `TYPE`: Specifies the resource type. It is case-insensitive and supports abbreviations and plurals. For example, `kubectl get namespace` is equivalent to `kubectl get ns`, and `kubectl get pods` is equivalent to `kubectl get po`.\n",
    "\n",
    "- `NAME`: Specifies the name of the resource. If omitted, it will return everything. For instance, `kubectl get pods` lists all pods in the cluster.\n",
    "\n",
    "The most useful ones are provided below. For the full list, check [here](https://kubernetes.io/docs/reference/kubectl/overview/#in-cluster-authentication-and-namespace-overrides)."
   ]
  },
  {
   "cell_type": "markdown",
   "id": "850d5e4c",
   "metadata": {},
   "source": [
    "### `apply`\n",
    "\n",
    "> Apply configuration change to a resource.\n",
    "\n",
    "This command allows you to configure the cluster to your desired state. After starting the cluster, whether it's a local development setup using minikube or a real deployment, you can use `kubectl apply` to manage the configuration changes.\n",
    "\n",
    "Important Flags:\n",
    "\n",
    "- `-R`: Recursively reads configuration files within a directory\n",
    "- `-f`: Specifies the filename or directory to read configuration from"
   ]
  },
  {
   "cell_type": "markdown",
   "id": "2495a18a",
   "metadata": {},
   "source": [
    "### `diff`\n",
    "\n",
    "`diff` checks the changes that will be applied to the desired state of the cluster. It is recommended to run this command before applying any configuration changes.\n",
    "\n",
    "```\n",
    "kubectl diff -f -R FILENAME [flags]\n",
    "```\n"
   ]
  },
  {
   "cell_type": "markdown",
   "id": "c866872a",
   "metadata": {},
   "source": [
    "### `get`\n",
    "\n",
    "`get` is used to list one or more resources, providing basic information about Kubernetes objects.\n",
    "\n",
    "```bash\n",
    "kubectl get (-f FILENAME | TYPE [NAME | /NAME | -l label]) [--watch] [--sort-by=FIELD] [[-o | --output]=OUTPUT_FORMAT] [flags]\n",
    "```\n"
   ]
  },
  {
   "cell_type": "markdown",
   "id": "a4bde437",
   "metadata": {},
   "source": [
    "### `describe`\n",
    "\n",
    "`describe` displays the state of one or more resources, offering an overview of their details.\n",
    "\n",
    "```bash\n",
    "kubectl describe (-f FILENAME | TYPE [NAME_PREFIX | /NAME | -l label]) [flags]\n",
    "```\n",
    "\n",
    "You can specify the desired state using files, `TYPE,` `NAME`, and other resource identifiers."
   ]
  },
  {
   "cell_type": "markdown",
   "id": "32b35d57",
   "metadata": {},
   "source": [
    "### `attach`\n",
    "\n",
    "`attach` allows you to read a container's `stdout` and/or interact with its `stdin`.\n",
    "\n",
    "```bash\n",
    "kubectl attach POD -c CONTAINER [-i] [-t] [flags]\n",
    "```\n",
    "\n",
    "It's useful for debugging purposes and works similarly to `docker attach`."
   ]
  },
  {
   "cell_type": "markdown",
   "id": "5ae65f97",
   "metadata": {},
   "source": [
    "### `cp`\n",
    "\n",
    "`cp` copies files from to/from containers.\n",
    "\n",
    "```bash\n",
    "kubectl cp <file-spec-src> <file-spec-dest> [options]\n",
    "```\n",
    "\n",
    "It is useful for inspecting container disk outputs during debugging."
   ]
  },
  {
   "cell_type": "markdown",
   "id": "eec6b8ba",
   "metadata": {},
   "source": [
    "### `exec`\n",
    "\n",
    "The `exec` command runs a command within a container in a pod.\n",
    "\n",
    "```bash\n",
    "kubectl exec POD [-c CONTAINER] [-i] [-t] [flags] [-- COMMAND [args...]]\n",
    "```\n",
    "\n",
    "It's a powerful debugging tool for examining the container's state."
   ]
  },
  {
   "cell_type": "markdown",
   "id": "3d681905",
   "metadata": {},
   "source": [
    "## Key Takeaways\n",
    "\n",
    "- Kubernetes is an open-source platform for managing containerized workloads with a focus on declarative configuration and automation\n",
    "- Kubernetes provides multiple-container deployment, self-healing, auto-scaling, discoverability, load balancing, and storage orchestration\n",
    "- Kubernetes consists of nodes, pods, and a control plane\n",
    "- Nodes are worker machines hosting containerized applications\n",
    "- Pods are the smallest deployable units and consist of one or more containers\n",
    "- The control plane manages nodes and pods, ensuring their desired state\n",
    "- Kubernetes objects represent the desired state of the cluster\n",
    "- `kubectl` is used to interact with Kubernetes objects\n",
    "- kubectl commands have the format: `kubectl [command] [TYPE] [NAME] [flags]`. Common commands include `apply`, `diff`, `get`, `describe`, `attach`, `cp`, and `exec`.\n",
    "- Namespaces provide a scope for resource names, ensuring uniqueness within a namespace. Kubernetes uses namespaces for organizing resources."
   ]
  },
  {
   "cell_type": "markdown",
   "id": "d3c67cb4",
   "metadata": {},
   "source": [
    "## Further Reading\n",
    "\n",
    "- Check out [Kubernetes API Conventions](https://github.com/kubernetes/community/blob/master/contributors/devel/sig-architecture/api-conventions.md) for an in-depth understanding of Kubernetes Objects and the internal mechanisms of the project\n",
    "- Explore the alternatives to `minikube`. Read up on `kind` and `k3s`, as well as their advantages and disadvantages\n",
    "- Check out [Client Libraries](https://kubernetes.io/docs/reference/using-api/client-libraries/), which allow us to communicate with `kubelet-apiserver` via certain programming languages.\n",
    "- Check out the [Python Client Library](https://github.com/kubernetes-client/python/), and explore the tasks that can be automated using it"
   ]
  }
 ],
 "metadata": {
  "interpreter": {
   "hash": "ad8bebc098a042dc0df4e42fc2ecc8fff0bd7b8741641ce29007c29766dadbe0"
  },
  "kernelspec": {
   "display_name": "Python 3.9.1 64-bit ('base': conda)",
   "name": "python3"
  },
  "language_info": {
   "codemirror_mode": {
    "name": "ipython",
    "version": 3
   },
   "file_extension": ".py",
   "mimetype": "text/x-python",
   "name": "python",
   "nbconvert_exporter": "python",
   "pygments_lexer": "ipython3",
   "version": "3.9.2"
  }
 },
 "nbformat": 4,
 "nbformat_minor": 5
}
