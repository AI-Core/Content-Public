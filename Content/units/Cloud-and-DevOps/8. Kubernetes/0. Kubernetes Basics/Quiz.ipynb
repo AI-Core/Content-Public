{
 "cells": [
  {
   "cell_type": "markdown",
   "metadata": {},
   "source": [
    "# Kubernetes Basics"
   ]
  },
  {
   "cell_type": "markdown",
   "metadata": {},
   "source": [
    "## True or False: Kubernetes is an open-source platform for managing containerized workloads.\n",
    "\n",
    "- True ***\n",
    "- False"
   ]
  },
  {
   "cell_type": "markdown",
   "metadata": {},
   "source": [
    "## True or False: Kubernetes orchestrates containers and can automatically replace a container that goes down.\n",
    "\n",
    "- True ***\n",
    "- False"
   ]
  },
  {
   "cell_type": "markdown",
   "metadata": {},
   "source": [
    "## True or False: In Kubernetes, each container can be accessed by its IP address and port.\n",
    "\n",
    "- True ***\n",
    "- False"
   ]
  },
  {
   "cell_type": "markdown",
   "metadata": {},
   "source": [
    "## True or False: Kubernetes distributes load among nodes if a single node is overloaded.\n",
    "\n",
    "- True ***\n",
    "- False"
   ]
  },
  {
   "cell_type": "markdown",
   "metadata": {},
   "source": [
    "## True or False: The control plane in Kubernetes manages worker nodes and pods.\n",
    "\n",
    "- True ***\n",
    "- False"
   ]
  },
  {
   "cell_type": "markdown",
   "metadata": {},
   "source": [
    "## What is a pod in Kubernetes?\n",
    "\n",
    "- A group of containers ***\n",
    "- A virtual machine\n",
    "- A physical server\n",
    "- A Kubernetes node"
   ]
  },
  {
   "cell_type": "markdown",
   "metadata": {},
   "source": [
    "## What does `kubectl attach` command allow you to do in Kubernetes?\n",
    "\n",
    "- List resources in a namespace\n",
    "- Copy files to/from containers\n",
    "- Debug a container by reading its stdout and interacting with its stdin ***\n",
    "- Create a new Kubernetes object"
   ]
  },
  {
   "cell_type": "markdown",
   "metadata": {},
   "source": [
    "## What is the purpose of Kubernetes namespaces?\n",
    "\n",
    "- To group containers within a single pod\n",
    "- To assign a unique IP address to each container\n",
    "- To provide a scope for resource names, ensuring uniqueness within a namespace ***\n",
    "- To load balance traffic across multiple nodes"
   ]
  },
  {
   "cell_type": "markdown",
   "metadata": {},
   "source": [
    "## True or False: In Kubernetes, `minikube` is primarily used for deploying resources in a production environment.\n",
    "\n",
    "- True\n",
    "- False ***"
   ]
  },
  {
   "cell_type": "markdown",
   "metadata": {},
   "source": [
    "## What component of Kubernetes is responsible for assigning pods to nodes based on resource requirements and policies?\n",
    "\n",
    "- `kube-controller-manager`\n",
    "- `kube-scheduler` ***\n",
    "- `kubelet`\n",
    "- `kube-proxy`"
   ]
  },
  {
   "cell_type": "markdown",
   "metadata": {},
   "source": [
    "## What is the primary role of the `etcd` component in a Kubernetes cluster?\n",
    "\n",
    "- Managing container lifecycles\n",
    "- Storing Kubernetes objects that define the cluster's desired state ***\n",
    "- Distributing incoming network traffic\n",
    "- Providing a web-based dashboard for Kubernetes"
   ]
  },
  {
   "cell_type": "markdown",
   "metadata": {},
   "source": [
    "## What is the primary responsibility of the `kube-apiserver` component in Kubernetes?\n",
    "\n",
    "- Distributing container images to nodes\n",
    "- Exposing the Kubernetes API for communication ***\n",
    "- Scheduling pods to nodes\n",
    "- Monitoring cluster health"
   ]
  },
  {
   "cell_type": "markdown",
   "metadata": {},
   "source": [
    "## Which Kubernetes component is responsible for storing and managing configuration data, including cluster state, which is essential for the entire cluster's operation?\n",
    "\n",
    "- `kube-controller-manager`\n",
    "- `kube-scheduler`\n",
    "- `etcd` ***\n",
    "- `kubelet`"
   ]
  },
  {
   "cell_type": "markdown",
   "metadata": {},
   "source": [
    "## What is the primary role of the `kube-scheduler` component in a Kubernetes cluster?\n",
    "\n",
    "- Managing container lifecycles\n",
    "- Distributing incoming network traffic\n",
    "- Assigning pods to nodes based on resource requirements and policies ***\n",
    "- Scaling the cluster based on demand"
   ]
  },
  {
   "cell_type": "markdown",
   "metadata": {},
   "source": [
    "## Which Kubernetes component is responsible for running controller processes, each of which watches the cluster's current state and attempts to move it to the desired state?\n",
    "\n",
    "- `kube-controller-manager` ***\n",
    "- `kube-scheduler`\n",
    "- `kubelet`\n",
    "- `kube-proxy`"
   ]
  },
  {
   "cell_type": "markdown",
   "metadata": {},
   "source": [
    "## What is the primary function of the `kube-proxy` component in Kubernetes?\n",
    "\n",
    "- Load balancing traffic between nodes\n",
    "- Storing cluster configuration data\n",
    "- Managing container lifecycles\n",
    "- Governing network rules on nodes and enabling communication with pods ***"
   ]
  },
  {
   "cell_type": "markdown",
   "metadata": {},
   "source": [
    "## Which Kubernetes component is responsible for ensuring that containers are running within pods and are healthy?\n",
    "\n",
    "- `kube-controller-manager`\n",
    "- `kube-scheduler`\n",
    "- `kubelet` ***\n",
    "- `kube-proxy`"
   ]
  }
 ],
 "metadata": {
  "language_info": {
   "name": "python"
  },
  "orig_nbformat": 4
 },
 "nbformat": 4,
 "nbformat_minor": 2
}
