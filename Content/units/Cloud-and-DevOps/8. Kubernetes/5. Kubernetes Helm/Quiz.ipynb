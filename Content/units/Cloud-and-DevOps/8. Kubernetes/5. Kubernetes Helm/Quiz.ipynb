{
 "cells": [
  {
   "cell_type": "markdown",
   "metadata": {},
   "source": [
    "# Kubernetes Helm"
   ]
  },
  {
   "cell_type": "markdown",
   "metadata": {},
   "source": [
    "## True or False: Helm is a Kubernetes package manager that simplifies application deployment and management.\n",
    "\n",
    "- True ***\n",
    "- False"
   ]
  },
  {
   "cell_type": "markdown",
   "metadata": {},
   "source": [
    "## True or False: Helm repositories are used to share and distribute Helm charts easily across different Kubernetes clusters.\n",
    "\n",
    "- True ***\n",
    "- False"
   ]
  },
  {
   "cell_type": "markdown",
   "metadata": {},
   "source": [
    "## True or False: Helm's `_helpers.tp`l file is used to define reusable template functions and variables for Helm charts.\n",
    "\n",
    "- True ***\n",
    "- False"
   ]
  },
  {
   "cell_type": "markdown",
   "metadata": {},
   "source": [
    "## Why is versioning Helm releases important?\n",
    "\n",
    "- To save storage space\n",
    "- To track changes in Kubernetes clusters\n",
    "- To maintain a history of application configurations ***\n",
    "- To improve Kubernetes security"
   ]
  },
  {
   "cell_type": "markdown",
   "metadata": {},
   "source": [
    "## What is the primary purpose of the `_helpers.tpl` file in a Helm chart?\n",
    "\n",
    "- To store Helm chart metadata\n",
    "- To define Kubernetes resources\n",
    "- To define reusable template functions and variables ***\n",
    "- To manage Helm releases"
   ]
  },
  {
   "cell_type": "markdown",
   "metadata": {},
   "source": [
    "## True or False: Helm charts contain only Kubernetes resource files and do not include configuration values.\n",
    "\n",
    "- True\n",
    "- False ***"
   ]
  },
  {
   "cell_type": "markdown",
   "metadata": {},
   "source": [
    "## True or False: Helm's `helm list` command provides a list of available Helm repositories.\n",
    "\n",
    "- True\n",
    "- False ***"
   ]
  },
  {
   "cell_type": "markdown",
   "metadata": {},
   "source": [
    "## What information is typically defined in the `Chart.yaml` file of a Helm chart?\n",
    "\n",
    "- Kubernetes resource templates\n",
    "- Chart dependencies\n",
    "- Configuration values\n",
    "- Metadata and chart properties ***"
   ]
  },
  {
   "cell_type": "markdown",
   "metadata": {},
   "source": [
    "## In Helm, what is the primary purpose of the `templates` directory?\n",
    "\n",
    "- To store Kubernetes resource templates ***\n",
    "- To define Helm chart dependencies\n",
    "- To list available Helm repositories\n",
    "- To specify configuration values"
   ]
  },
  {
   "cell_type": "markdown",
   "metadata": {},
   "source": [
    "## Which file in a Helm chart is used to configure chart-specific values, such as application settings?\n",
    "\n",
    "- `Chart.yaml`\n",
    "- `values.yaml` ***\n",
    "- `templates.yaml`\n",
    "- `config.yaml`"
   ]
  }
 ],
 "metadata": {
  "language_info": {
   "name": "python"
  },
  "orig_nbformat": 4
 },
 "nbformat": 4,
 "nbformat_minor": 2
}
