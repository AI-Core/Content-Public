{
 "cells": [
  {
   "attachments": {},
   "cell_type": "markdown",
   "metadata": {},
   "source": [
    "# Airflow and PostgreSQL"
   ]
  },
  {
   "attachments": {},
   "cell_type": "markdown",
   "metadata": {},
   "source": [
    "## What is true about running SQL queries with Airflow? Select all that apply.\n",
    "\n",
    "- Airflow can connect to virtually any database ***\n",
    "- You can install the postgres airflow provider easily from the command line ***\n",
    "- You need a special API key to connect Airflow to a postgreSQL database\n",
    "- When connecting to a postgreSQL database you can only use it to change table names\n",
    "- There is no special Airflow operator for postgreSQL\n"
   ]
  },
  {
   "attachments": {},
   "cell_type": "markdown",
   "metadata": {},
   "source": [
    "## How can you perform SQL queries using a postgreSQL database in Airflow? Select all that apply.\n",
    "\n",
    "- You need to install the PostgreSQL client and create a connection in the Airflow UI ***\n",
    "- SQL queries can be performed with the `PostgresOperator` once the PostgreSQL connection has been setup ***\n",
    "- Only one query can be performed per DAG\n",
    "- Queries can be performed by specifying the query using the `sql` parameter in conjunction with the `PostgresOperator` ***\n",
    "- PostgreSQL is the only database operator which can be used with Airflow"
   ]
  }
 ],
 "metadata": {
  "kernelspec": {
   "display_name": "base",
   "language": "python",
   "name": "python3"
  },
  "language_info": {
   "name": "python",
   "version": "3.10.9"
  },
  "orig_nbformat": 4,
  "vscode": {
   "interpreter": {
    "hash": "a2592652612463181e69ac003232387e3e9a99279aa6b168e76f5df16d5110f4"
   }
  }
 },
 "nbformat": 4,
 "nbformat_minor": 2
}
