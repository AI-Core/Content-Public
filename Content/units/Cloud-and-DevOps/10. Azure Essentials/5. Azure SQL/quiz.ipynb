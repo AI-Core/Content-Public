{
 "cells": [
  {
   "attachments": {},
   "cell_type": "markdown",
   "metadata": {},
   "source": [
    "# Azure SQL"
   ]
  },
  {
   "attachments": {},
   "cell_type": "markdown",
   "metadata": {},
   "source": [
    "## Which compute tier in Azure SQL Database is best for workloads with variable usage patterns?\n",
    "\n",
    "- Provisioned Compute Tier\n",
    "- Serverless Compute Tier ***\n",
    "- Both Provisioned Compute Tier and Serverless Compute Tier\n",
    "- None of the above"
   ]
  },
  {
   "attachments": {},
   "cell_type": "markdown",
   "metadata": {},
   "source": [
    "## Which of the following is a key feature of Azure SQL Database backup? Select all that apply.\n",
    "\n",
    "- Retention period ***\n",
    "- Backup redundancy ***\n",
    "- Automated restore ***\n"
   ]
  },
  {
   "attachments": {},
   "cell_type": "markdown",
   "metadata": {},
   "source": [
    "## What does automatic failover in Azure SQL Database mean?\n",
    "\n",
    "- The process of manually failing over to a secondary database\n",
    "- The process of automatically failing over to a secondary database in the event of an outage ***\n",
    "- The process of scaling up or down resources based on workload demand\n",
    "- None of the above"
   ]
  },
  {
   "attachments": {},
   "cell_type": "markdown",
   "metadata": {},
   "source": [
    "## Which compute tier in Azure SQL Database allows you to pre-allocate a fixed amount of resources?\n",
    "\n",
    "- Provisioned Compute Tier ***\n",
    "- Serverless Compute Tier\n",
    "- General Purpose Compute Tier\n",
    "- Hyperscale Compute Tier\n"
   ]
  },
  {
   "attachments": {},
   "cell_type": "markdown",
   "metadata": {},
   "source": [
    "## Which of the following is a key feature of Azure SQL Database Elastic Pool?\n",
    "\n",
    "- Allows you to manage and scale multiple databases together ***\n",
    "- Provides high compatibility with on-premises SQL Server\n",
    "- Offers high availability through automatic failover\n",
    "- None of the above"
   ]
  },
  {
   "attachments": {},
   "cell_type": "markdown",
   "metadata": {},
   "source": [
    "## Which of the following is a key feature of Azure SQL Database Managed Instance?\n",
    "\n",
    "- Automatic scaling of compute resources\n",
    "- Automatic backup and restore\n",
    "- High compatibility with on-premises SQL Server ***\n",
    "- All of the above\n"
   ]
  },
  {
   "attachments": {},
   "cell_type": "markdown",
   "metadata": {},
   "source": [
    "## True or False: Azure SQL Database is a fully managed relational database service that offers built-in intelligence.\n",
    "\n",
    "- True ***\n",
    "- False"
   ]
  },
  {
   "attachments": {},
   "cell_type": "markdown",
   "metadata": {},
   "source": [
    "## True or False: The Elastic Pool feature in Azure SQL Database enables you to run multiple databases with a predictable performance level.\n",
    "\n",
    "- True ***\n",
    "- False"
   ]
  },
  {
   "attachments": {},
   "cell_type": "markdown",
   "metadata": {},
   "source": [
    "## True or False: The Managed Instance feature in Azure SQL Database provides an isolated environment where you can use most of the features and capabilities of an on-premises SQL Server instance.\n",
    "\n",
    "- True ***\n",
    "- False"
   ]
  },
  {
   "attachments": {},
   "cell_type": "markdown",
   "metadata": {},
   "source": [
    "## True or False: Azure SQL Database supports automatic scaling of compute resources for the serverless compute tier.\n",
    "\n",
    "- True ***\n",
    "- False"
   ]
  }
 ],
 "metadata": {
  "language_info": {
   "name": "python"
  },
  "orig_nbformat": 4
 },
 "nbformat": 4,
 "nbformat_minor": 2
}
