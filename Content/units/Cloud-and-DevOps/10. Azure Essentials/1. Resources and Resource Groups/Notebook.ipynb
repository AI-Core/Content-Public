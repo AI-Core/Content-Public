{
 "cells": [
  {
   "attachments": {},
   "cell_type": "markdown",
   "metadata": {},
   "source": [
    "# Resources and Resource Groups\n",
    "\n",
    "> In Azure, a *resource* is a manageable item that can be created, updated, or deleted. Resources can include virtual machines, databases, storage accounts, and more. To organize and manage resources, you can group them into *resource groups*.\n",
    "\n",
    "Resource groups can be used to organize resources based on a project, department, or any other criteria. By grouping resources into resource groups, you can manage and monitor them collectively. Resource groups can also be used for access control and billing purposes. You can assign access permissions to a resource group, which will be inherited by all the resources within it. \n",
    "\n",
    "> All resources in a resource group must share the same lifecycle, and they can be deployed, updated, and deleted as a group."
   ]
  },
  {
   "attachments": {},
   "cell_type": "markdown",
   "metadata": {},
   "source": [
    "## Creating a resource group\n",
    "\n",
    "<p align=\"center\">\n",
    "    <img src=\"images/ResourceGroupPage.png\" height=\"400\" width=\"700\"/>\n",
    "</p>\n",
    "\n",
    "Access the **Resource Groups** tab,this will point you to the list of resource groups of your account. The list will be empty if you just created your free Azure account. \n",
    "\n",
    "<p align=\"center\">\n",
    "    <img src=\"images/ResourceGroupsList.png\" height=\"400\" width=\"650\"/>\n",
    "</p>\n",
    "\n",
    "To create a new resource group click **+ Create** button on the top left of the screen or simply click the **Create resource group** button.\n",
    "\n",
    "First whenever we create a new resource, we need to assign the resource to a subscription. You only have one subscription in your account, and this will be used to create any resources you might need. Then you will need to choose a name for your resource groups. We will also need define the *region* where this resource group will be created. In this case I am choosing **(Europe) UK South**.\n",
    "\n",
    "<p align=\"center\">\n",
    "    <img src=\"images/CreateResource.png\" height=\"400\" width=\"700\"/>\n",
    "</p>\n",
    "\n",
    "Click **Review and Create** to check that all the details you have attached to the resource groups and if everything looks fine click on **Create**. You should now see the resource group in the list.\n",
    "\n",
    "<p align=\"center\">\n",
    "    <img src=\"images/NewResourceGroupsList.png\" height=\"400\" width=\"650\"/>\n",
    "</p>\n",
    "\n",
    "You can also see that the resource was successfully created by checking the **Notifications** window in the Azure dashboard.\n",
    "\n",
    "<p align=\"center\">\n",
    "    <img src=\"images/Notification.png\" height=\"400\" width=\"650\"/>\n",
    "</p>\n"
   ]
  },
  {
   "attachments": {},
   "cell_type": "markdown",
   "metadata": {},
   "source": [
    "\n",
    "## The Resource Page\n",
    "\n",
    "Every resource in Azure has the same layout in their resource page. We will look at the information included in the resource page in more detail using the resource groups we created above.\n",
    "\n",
    "On the top left of the resource page, you will find the resource name (in this case `my-resource-group`) and the resource type (in this case Resource group).\n",
    "\n",
    "<p align=\"center\">\n",
    "    <img src=\"images/TheResourcepage.png\" height=\"450\" width=\"700\"/>\n",
    "</p>\n",
    "\n",
    "In the **Overview** page you can see essential information about the resource, such as:\n",
    "- the location where the resource was created under **Location**\n",
    "- the **Subscription ID** and the subscription name under **Subscription**\n",
    "\n",
    "On the resource page, you have various groups, such as:\n",
    "- **Monitoring**: View usage and performance metrics for the resource, configure alerts and diagnostics settings, and troubleshoot issues\n",
    "- **Configuration**: View and modify the properties and settings of the resource, such as its name, location, size, and access control\n",
    "- **Actions**: Perform actions on the resource, such as starting, stopping, restarting, or deleting the resource\n",
    "\n",
    "Different resources might have different groups in their respective menus. Each of the groups allows you to perform different actions on the resource."
   ]
  },
  {
   "attachments": {},
   "cell_type": "markdown",
   "metadata": {},
   "source": [
    "## Deleting a resource\n",
    "\n",
    "From the **Overview** page you can also delete a resource, by clicking the **Delete resource group** button.\n",
    "\n",
    "<p align=\"center\">\n",
    "    <img src=\"images/DeleteResource.png\" height=\"450\" width=\"700\"/>\n",
    "</p>\n",
    "\n",
    "To delete the resource you will first need to type the name of the resource and then press **Delete**.\n",
    "\n",
    "> Note that deleting a resource group will also delete all the associated resources, data and configurations, and it cannot be undone. Make sure to backup any important data before deleting a resource.\n",
    "\n",
    "Now in this case we just created the resource group and there are no resources associated with it, so we are safe to perform the delete."
   ]
  },
  {
   "attachments": {},
   "cell_type": "markdown",
   "metadata": {},
   "source": [
    "## Key takeaways\n",
    "\n",
    "- Azure resources are the building blocks of an Azure application and can be anything from a virtual machine to a database or a storage account\n",
    "- Resource groups are containers that hold related Azure resources and are used to organize resources, manage access control, and apply policies to a set of resources\n",
    "- All resources in a resource group must share the same lifecycle, and they can be deployed, updated, and deleted as a group\n",
    "- To create a resource group, you need to specify a name, subscription, and region\n",
    "- The resource page in Azure provides a detailed view of a specific resource, and from there, you can view and manage the properties and settings of the resource, monitor its usage and metrics, and perform actions such as starting, stopping, or deleting the resource"
   ]
  }
 ],
 "metadata": {
  "language_info": {
   "name": "python"
  }
 },
 "nbformat": 4,
 "nbformat_minor": 2
}
