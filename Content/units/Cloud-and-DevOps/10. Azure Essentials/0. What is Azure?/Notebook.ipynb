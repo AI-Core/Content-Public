{
 "cells": [
  {
   "attachments": {},
   "cell_type": "markdown",
   "metadata": {},
   "source": [
    "# What is Azure?"
   ]
  },
  {
   "attachments": {},
   "cell_type": "markdown",
   "metadata": {},
   "source": [
    "> Azure is a cloud computing platform created by Microsoft. It provides a wide range of cloud-based services, including virtual machines, databases, analytics, and more. Azure can be used to build, deploy, and manage applications and services using Microsoft's global network of data centers."
   ]
  },
  {
   "attachments": {},
   "cell_type": "markdown",
   "metadata": {},
   "source": [
    "## What does Azure offer?\n",
    "\n",
    "Azure offers a vast array of services that can be used by businesses and individuals. Here are some of the most popular Azure services:\n",
    "\n",
    "- **Virtual Machines:** Azure provides the ability to create and manage virtual machines, allowing businesses to run applications and workloads in the cloud\n",
    "- **Databases:** Azure offers a variety of database services, including SQL databases, NoSQL databases, and in-memory databases\n",
    "- **Analytics:** Azure provides a range of analytics services, including data warehousing, big data analytics, and real-time analytics\n",
    "- **Web and Mobile Apps:** Azure enables businesses to create and deploy web and mobile applications quickly and easily\n",
    "- **Internet of Things (IoT):** Azure offers IoT services, allowing businesses to connect, monitor, and manage IoT devices\n",
    "- **DevOps:** Azure supports DevOps practices, providing tools for continuous integration and continuous delivery\n",
    "- **Security:** Azure offers a range of security services, including identity and access management, threat detection, and encryption\n",
    "- **Artificial Intelligence (AI) and Machine Learning (ML):** Azure provides a range of AI and ML services, including cognitive services, bot services, and machine learning models"
   ]
  },
  {
   "attachments": {},
   "cell_type": "markdown",
   "metadata": {},
   "source": [
    "## Azure Accounts\n",
    "\n",
    "Azure offers several types of accounts, including free, pay-as-you-go, and enterprise agreements. Each type of account has its own pricing and features, so it's important to choose the one that best suits your needs.\n",
    "\n",
    "- **Free account**: The free account is ideal for individuals or small teams who want to explore Azure services. It provides access to a limited set of services for 12 months, including $200 credit to spend on any Azure service for the first 30 days, and a range of free services.\n",
    "\n",
    "- **Pay-as-you-go account**: The pay-as-you-go account is a flexible, pay-per-use account that allows you to scale up or down as needed. You pay only for what you use, without any upfront costs or long-term commitments.\n",
    "\n",
    "- **Enterprise agreement**: The enterprise agreement is designed for larger organizations that want to make a long-term commitment to Azure. It offers custom pricing, discounts, and the ability to manage multiple subscriptions under a single agreement."
   ]
  },
  {
   "attachments": {},
   "cell_type": "markdown",
   "metadata": {},
   "source": [
    "## How to create a Free Azure account\n",
    "\n",
    "Creating a free Azure account is a great way to get started with Azure. The process is easy and can be completed in just a few minutes. To create a free account follow the steps below:\n",
    "\n",
    "- Go to the Azure portal website: https://azure.microsoft.com/en-us/free/\n",
    "\n",
    "<p align=\"center\">\n",
    "    <img src=\"images/AzureFreeAccount.png\" height=\"350\" width=\"700\"/>\n",
    "</p>\n",
    "\n",
    "- Click on the **Start free** button\n",
    "- Sign in with your Microsoft account or create a new one if you don't have one\n",
    "- Fill in the required information, such as your name, country, and phone number\n",
    "- Provide your credit card information. This is required to verify your identity, but you won't be charged unless you upgrade to a paid account.\n",
    "- Verify your identity by entering the code you receive via SMS\n",
    "- Review and agree to the terms and conditions\n",
    "- Once you've completed the registration process, you'll be taken to the Azure portal dashboard\n",
    "\n",
    "<p align=\"center\">\n",
    "    <img src=\"images/AzureDashboard.png\" height=\"400\" width=\"750\"/>\n",
    "</p>"
   ]
  },
  {
   "attachments": {},
   "cell_type": "markdown",
   "metadata": {},
   "source": [
    "## Accounts and Subscriptions\n",
    "\n",
    "In Azure, an *account* and a *subscription* are two separate concepts that are often confused with each other. \n",
    "\n",
    ">An account is the top-level entity in Azure, while a subscription is a container that holds resources and services. \n",
    "\n",
    "- **Account**: An Azure account is the primary organizational unit in Azure. It is tied to a specific *Azure Active Directory tenant*, which provides identity and access management for users and resources. An account can have multiple users, each with their own access permissions and roles.\n",
    "- **Subscription**: An Azure subscription is a logical container that holds resources and services, such as virtual machines, databases, and storage accounts. Each subscription has its own billing account and can be tied to a specific resource group."
   ]
  },
  {
   "attachments": {},
   "cell_type": "markdown",
   "metadata": {},
   "source": [
    "## Key Takeaways\n",
    "\n",
    "- Azure is a powerful and flexible cloud computing platform that can be used to build, deploy, and manage applications and services in the cloud\n",
    "- Azure offers a wide range of services, including virtual machines, databases, storage, networking, analytics, and artificial intelligence, among others, which can be used to meet various business needs\n",
    "- There are different types of Azure accounts, including:\n",
    "  - Free accounts: These are free Azure accounts that provide access to a limited set of services and resources for learning and evaluation purposes\n",
    "  - Pay-as-you-go accounts: These are standard Azure accounts that are charged based on usage, with no upfront commitment or long-term contracts.\n",
    "  - Enterprise accounts: These are custom Azure accounts designed for large organizations that require advanced features and support\n",
    "- Subscriptions are containers that hold resources and services and are tied to an Azure account. You can use subscriptions to organize resources and services based on projects, departments, or any other criteria.\n"
   ]
  }
 ],
 "metadata": {
  "language_info": {
   "name": "python"
  }
 },
 "nbformat": 4,
 "nbformat_minor": 2
}
