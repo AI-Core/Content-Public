{
 "cells": [
  {
   "cell_type": "markdown",
   "metadata": {},
   "source": [
    "# Data Version Control"
   ]
  },
  {
   "cell_type": "markdown",
   "metadata": {},
   "source": [
    "## Introduction\n",
    ">[Data Version Control (DVC)](https://dvc.org) is a data-versioning tool that employs lightweight pointers to indicate the storage location of data (e.g. S3 buckets, Google Drive, GCS, etc). \n",
    "\n",
    "Additionally, it stores information about the experiments run using the data. Furthermore, it allows you to make or retrieve changes in or from a remote server. Finally, as an added advantage, the commands used are similar to those in Git."
   ]
  },
  {
   "cell_type": "markdown",
   "metadata": {},
   "source": [
    "## Installation"
   ]
  },
  {
   "cell_type": "markdown",
   "metadata": {},
   "source": [
    "DVC exhibits high platform independence (i.e. it works well with various OSs). Thus, there are many ways to install it on your computer. For Windows, Mac, and Linux users, one solution is to run the following:\n",
    "```\n",
    "conda install -c conda-forge mamba\n",
    "mamba install -c conda-forge dvc\n",
    "```"
   ]
  },
  {
   "cell_type": "markdown",
   "metadata": {},
   "source": [
    "Next, install the necessary package corresponding to your remote storage service of choice. For example, if you plan to use S3 storage, run the following:\n",
    "\n",
    "```\n",
    "mamba install -c conda-forge dvc-s3\n",
    "```\n",
    "If you intend to use Google Drive, run\n",
    "```\n",
    "mamba install -c conda-forge dvc-gdrive\n",
    "```"
   ]
  },
  {
   "cell_type": "markdown",
   "metadata": {},
   "source": [
    "## Initialising DVC"
   ]
  },
  {
   "cell_type": "markdown",
   "metadata": {},
   "source": [
    "DVC works in harmony with Git projects. As such, we will initialise DVC in a new Git repository. Create a repository in your local machine."
   ]
  },
  {
   "cell_type": "markdown",
   "metadata": {},
   "source": [
    "```\n",
    "mkdir test_dvc && cd test_dvc\n",
    "git init\n",
    "```\n",
    "Once inside, initialise dvc as follows:\n",
    "```\n",
    "dvc init\n",
    "```"
   ]
  },
  {
   "cell_type": "markdown",
   "metadata": {},
   "source": [
    "At this point, there should be many new files in your initially empty repo. \n",
    "<div style=\"text-align:center\"><img src=\"images/test_dvc.png\" width=175/></div>"
   ]
  },
  {
   "cell_type": "markdown",
   "metadata": {},
   "source": [
    "If you run `git status`, you will find that all the created files have already been staged. As the next step, commit them by running the following:\n",
    "```\n",
    "git commit -m \"DVC Init\"\n",
    "```"
   ]
  },
  {
   "cell_type": "markdown",
   "metadata": {},
   "source": [
    "## DVC for Data Versioning"
   ]
  },
  {
   "cell_type": "markdown",
   "metadata": {},
   "source": [
    "DVC aims to harness the power of Git and apply it to large datasets. Therefore, by cloning a repo, you can obtain an extensive dataset with the corresponding model that was trained using that dataset.\n",
    "\n",
    "### Downloading the example file\n",
    "In this section, we will learn how to store local data remotely using commands similar to those in Git. For this example, download `data.xml` (a dataset provided by the DVC team for users to conduct experiments).\n",
    "```\n",
    "dvc get https://github.com/iterative/dataset-registry get-started/data.xml -o data/data.xml\n",
    "```"
   ]
  },
  {
   "cell_type": "markdown",
   "metadata": {},
   "source": [
    "As can be observed, `get` is used with `dvc` to download data tracked by DVC or Git (think of it as `wget`). For more information on the commands, visit this [link](https://dvc.org/doc/start/data-and-model-versioning).\n",
    "\n"
   ]
  },
  {
   "cell_type": "markdown",
   "metadata": {},
   "source": [
    "### Staging the file\n",
    "Once downloaded, stage the file using the familiar git subcommand, `add`:\n",
    "```\n",
    "dvc add data/data.xml\n",
    "```"
   ]
  },
  {
   "cell_type": "markdown",
   "metadata": {},
   "source": [
    "Thereafter, you will observe that a `.gitignore` file and a `data.xml.dvc` file have been created. The `.gitignore` file prevents you from uploading the whole dataset to Git, while the `data.xml.dvc` file stores information about the data 'pointers' to enable access to the data once it has been pushed. Remember to add them to the stage state:\n",
    "\n",
    "```\n",
    "git add 'data\\data.xml.dvc' 'data\\.gitignore'\n",
    "git commit -m 'Add DVC tracker'\n",
    "```\n",
    "\n",
    "### Pushing the files\n",
    "Next, we push the files. For this example, we will use an Amazon S3 bucket, which is highly recommended because of its simplicity. \n",
    "\n",
    "Before that, however, run the following command to ensure that DVC knows your credentials when you attempt to push data:\n",
    "\n",
    "```\n",
    "mamba install -c conda-forge dvc-s3\n",
    "```\n",
    "\n",
    ">On a related note, it is imperative that you provide your credentials. If you have an S3 bucket, you have probably already set up your AWS configuration data. Otherwise, you can create an IAM user as well as a user with administration permissions. For more information, check out the Cloud Basics module in the Data-Engineering unit.\n",
    "\n",
    "Go to the bucket to which you intend to upload your data, and create a new folder. For the demonstration, we create a folder named AiCore_DVC."
   ]
  },
  {
   "cell_type": "markdown",
   "metadata": {},
   "source": [
    "<div style=\"text-align:center\"><img src=\"images/DVC_S3.png\" width=600/></div>"
   ]
  },
  {
   "cell_type": "markdown",
   "metadata": {},
   "source": [
    "Once created, copy the URL of the S3 folder so that you can add a remote bucket to DVC (similar to the case when adding a remote URL to git). The next time you push data, the data tracked by DVC will be uploaded to this folder."
   ]
  },
  {
   "cell_type": "markdown",
   "metadata": {},
   "source": [
    "<div style=\"text-align:center\"><img src=\"images/DVC_S3_2.png\" width=600/></div>"
   ]
  },
  {
   "cell_type": "markdown",
   "metadata": {},
   "source": [
    "To set the remote DVC storage, run the following command:\n",
    "```\n",
    "dvc remote add -d <url_name> s3://<bucket_name>/<folder_name>/\n",
    "```\n",
    "Here, <url_name> references the name you wish to save the URL as (similar to `origin` in GitHub). In this case, we simply call it storage. Therefore, we run\n",
    "```\n",
    "dvc remote add -d storage s3://dvc-aicore/AiCore_DVC/\n",
    "```\n",
    "\n",
    "_To overwrite an existing remote URL, add -f (for force) after the -d flag._"
   ]
  },
  {
   "cell_type": "markdown",
   "metadata": {},
   "source": [
    "Before proceeding, ensure that you commit the new changes. The configurations for the remote storage will be stored in the created `.dvc/config` file. Thus, run\n",
    "```\n",
    "git add .dvc/config \n",
    "git commit -m \"Configures remote data storage\"\n",
    "```\n",
    "Now, everything is set up. Simply push the data by running\n",
    "```\n",
    "dvc push\n",
    "```\n",
    "The data should now appear in your bucket."
   ]
  },
  {
   "cell_type": "markdown",
   "metadata": {},
   "source": [
    "### Pulling changes\n",
    "As expected, pulling changes is achieved by running\n",
    "```\n",
    "dvc pull\n",
    "```\n",
    "It would be pointless to run this command at the moment; however, be aware that you can retrieve the data easily after cloning the repo.\n",
    "\n",
    "### Making changes\n",
    "If changes are made to the file, you can also update the remote data. To demonstrate, we will apply a slight change. We double the dataset we had previously by simply copying and appending it, as follows:\n",
    "```\n",
    "cp data/data.xml /tmp/data.xml\n",
    "cat /tmp/data.xml >> data/data.xml\n",
    "```"
   ]
  },
  {
   "cell_type": "markdown",
   "metadata": {},
   "source": [
    "Next, as is the case in git, we stage the file using the `add` subcommand:\n",
    "```\n",
    "dvc add data/data.xml\n",
    "```\n",
    "Now, to be meticulous, we stage and commit the changes in git:"
   ]
  },
  {
   "cell_type": "markdown",
   "metadata": {},
   "source": [
    "```\n",
    "git add data/data.xml.dvc\n",
    "git commit data/data.xml.dvc -m \"Dataset updates\"\n",
    "```"
   ]
  },
  {
   "cell_type": "markdown",
   "metadata": {},
   "source": [
    "Next, we simply push the changes to the DVC remote storage:\n",
    "```\n",
    "dvc push\n",
    "```"
   ]
  },
  {
   "cell_type": "markdown",
   "metadata": {},
   "source": [
    "### Reverting changes\n",
    "To revert to a previous version or the data stored in a different branch, you can git checkout to the commit or branch with the corresponding version, and run dvc checkout thereafter.\n",
    "\n",
    "For example, to revert to the original version of your dataset (before that, confirm that your current data.xml file has 50,000 samples), run the following:\n",
    "```\n",
    "git checkout HEAD~1 data/data.xml.dvc\n",
    "dvc checkout\n",
    "```\n",
    "If all goes as expected, you should receive the following message: \n",
    "```\n",
    "$ dvc checkout\n",
    "M       data\\data.xml\n",
    "```\n",
    "\n",
    "> __Note:__ use `git checkout`, followed by `dvc checkout` to revert to a previous version of your data.\n",
    "\n",
    "At this point, you should have 25,000 samples, which is the original length of the dataset.\n",
    "\n",
    "## DVC for Model Tracking\n",
    "\n",
    "DVC does not only track data. Consider DVC as the Git for both data and models. Models can be trained and, subsequently, tracked using the above-mentioned commands. Thus, when you run a `pull` or a `checkout`, you will retrieve the data and the corresponding model.\n",
    "\n",
    "Here is a step-by-step breakdown of the process flow. First, we track files using Git. A repository is created, in which large files (e.g. data or model files) are added. Thereafter, the large files are added to the DVC tracker, at which point DVC will include a `.gitignore`. The `.gitignore` prevents the tracking of the original large file by Git, allowing Git to, instead, track the pointer to the original data, i.e. the `data.xml.dvc` file. \n",
    "\n",
    "The next step involves pushing the changes to a remote repository.\n",
    "\n",
    "### Example\n",
    "\n",
    "1. Create an __empty__ GitHub repository. \n",
    "2. Add remote to your dvc folder.\n",
    "3. Push the changes.\n",
    "4. Go to your repo, and observe what has been uploaded."
   ]
  },
  {
   "cell_type": "markdown",
   "metadata": {},
   "source": [
    "If you followed all instructions, you will find that no large file was uploaded."
   ]
  },
  {
   "cell_type": "markdown",
   "metadata": {},
   "source": [
    "## Retrieving Data"
   ]
  },
  {
   "cell_type": "markdown",
   "metadata": {},
   "source": [
    "Here, we learn how to retrieve files that have been tracked by DVC. To do this, run `dvc pull`, but note that you need to obtain the tracking file first. Thus, DVC provides different commands for downloading data to your local machine very easily.\n",
    "\n",
    "### Confirming tracked files\n",
    "First, it would be useful to know what files in your project are being tracked. If you followed all the steps above, you should have a GitHub repo with the file pointing towards the data stored in the S3 bucket."
   ]
  },
  {
   "cell_type": "markdown",
   "metadata": {},
   "source": [
    "<div style=\"text-align:center\"><img src=\"images/DVC_github.png\" width=600/></div>"
   ]
  },
  {
   "cell_type": "markdown",
   "metadata": {},
   "source": [
    "To check what files are tracked by DVC in our repo, we run\n",
    "```\n",
    "dvc list https://github.com/IvanYingX/dvc_test.git\n",
    "```\n",
    "Alternatively, to view all the contents of the subdirectories, we run:\n",
    "```\n",
    "dvc list -R https://github.com/IvanYingX/dvc_test.git\n",
    "```\n",
    "The obtained output is shown below. Your output should be similar to it (ensure that you are pointing to the right repo, and not ours)."
   ]
  },
  {
   "cell_type": "markdown",
   "metadata": {},
   "source": [
    "<div style=\"text-align:center\"><img src=\"images/DVC_List.png\" width=350/></div>"
   ]
  },
  {
   "cell_type": "markdown",
   "metadata": {},
   "source": [
    "Anyone can view the contents of the repo provided that they have the repo URL. Observe that `data.xml` is shown, even though it does not appear in the repository.\n",
    "\n",
    "### Downloading the data\n",
    "Now, to download `data.xml` to your local machine anew, simply run `dvc get`, which is the equivalent of `wget`, but for files tracked by DVC:\n",
    "```\n",
    "dvc get https://github.com/IvanYingX/dvc_test.git data.xml\n",
    "```\n",
    "_To experiment with this, go to a new directory (Desktop for example), and run the command above._\n",
    "\n",
    "In our case, we download the entire folder by running\n",
    "```\n",
    "cd ~/Desktop && dvc get https://github.com/IvanYingX/dvc_test.git data\n",
    "```\n",
    "or alternatively,\n",
    "```\n",
    "dvc get -o ~/Desktop https://github.com/IvanYingX/dvc_test.git data\n",
    "```\n",
    "This creates a new folder on the desktop called `data`. If you check the folder, you will find that there is no `data.xml.dvc` file. That is because `dvc get` does not create a tracking system, but simply downloads the tracked files."
   ]
  },
  {
   "cell_type": "markdown",
   "metadata": {},
   "source": [
    "> __Note:__ `dvc get` will download the data; however, it will not generate a DVC tracking file."
   ]
  },
  {
   "cell_type": "markdown",
   "metadata": {},
   "source": [
    "### Tracking the files\n",
    "If you intend to keep track of these files, you would have to run `dvc add`. DVC has a shortcut for files that have been downloaded using `dvc get`, which is `dvc import`."
   ]
  },
  {
   "cell_type": "markdown",
   "metadata": {},
   "source": [
    "## DVC Pipelines"
   ]
  },
  {
   "cell_type": "markdown",
   "metadata": {},
   "source": [
    "In addition to keeping track of and retrieving large files and models, DVC allows you to create pipelines to reproduce experiments. This way, we can train models without worrying about data pulling, training, pushing and tracking.\n",
    "\n",
    "To demonstrate, we will use an example provided by the DVC team. \n",
    "- Create a new folder, and run the following commands in your CLI:\n",
    "```\n",
    "wget https://code.dvc.org/get-started/code.zip\n",
    "unzip code.zip\n",
    "rm -f code.zip\n",
    "```\n",
    "If you do not have `wget` installed, go to the following page: [https://www.jcchouinard.com/wget/](https://www.jcchouinard.com/wget/).\n",
    "\n",
    "Your new folder should appear similar to that shown below:\n",
    "<div style=\"text-align:center\"><img src=\"images/DVC_Pipe.png\" width=300/></div>"
   ]
  },
  {
   "cell_type": "markdown",
   "metadata": {},
   "source": [
    "- Observe the contents of each file. You should find a `requirements.txt` file (consider running the subsequent commands in a virtual environment).\n",
    "- Initialise the source-folder repo using `git init`, and add/commit everything. Ignore the contents of each file, but be aware that the `featurization.py` will transform some raw data into features. We will also need the data we were using previously with the `data.xml` file. Thus, in the same directory, we run `dvc get`:\n",
    "```\n",
    "dvc get https://github.com/IvanYingX/dvc_test.git data\n",
    "```\n",
    "Next, initialise DVC in your repo, add the large files to be tracked, and make the corresponding commits:\n",
    "```\n",
    "dvc init\n",
    "dvc add data/data.xml\n",
    "dvc remote add -d storage s3://dvc-aicore/AiCore_DVC/\n",
    "git add 'data/data.xml.dvc' 'data/.gitignore' '.dvc/config'\n",
    "git commit -m 'Add DVC tracker and storage'\n",
    "dvc push\n",
    "```"
   ]
  },
  {
   "cell_type": "markdown",
   "metadata": {},
   "source": [
    "Here, we begin creating the pipeline. Remember that pipelines can be treated as workflows with many tasks in line (essentially a linear DAG). You can create a pipeline by creating a yaml file and naming it `dvc.yaml`. Therein, each step of the pipeline will be defined.\n",
    "\n",
    "Fortunately, DVC offers the command, `dvc run`, which facilitates the creation of these DAGs and storage in a .yaml file.\n",
    "\n",
    "Each step is called a stage, and each time `dvc run` is run, a new stage is created. To create the first stage, we run the following:\n",
    "```\n",
    "dvc run -n prepare \\\n",
    "        -p prepare.seed,prepare.split \\\n",
    "        -d src/prepare.py -d data/data.xml \\\n",
    "        -o data/prepared \\\n",
    "        python src/prepare.py data/data.xml\n",
    "```\n",
    "\n",
    "Click on each line to view the details.\n",
    "\n",
    "<details>\n",
    "  <summary> -n prepare </summary>\n",
    "  This will assign a name to the stage ('prepare' in this case).\n",
    "</details>\n",
    "<details>\n",
    "  <summary> -p prepare.seed,prepare.split </summary>\n",
    "  The p stands for parameters. It will search for a file named params (in this case, 'params.yaml') and use the prepare.seed and prepare.split parameters contained therein.\n",
    "</details>\n",
    "<details>\n",
    "  <summary> -d src/prepare.py -d data/data.xml </summary>\n",
    "  The d stands for dependencies. It informs the pipeline of the files that are necessary in this stage. If they are not in your repo, your DAG will request you to include them.\n",
    "</details>\n",
    "<details>\n",
    "  <summary> -o data/prepared </summary>\n",
    "  The output created after running the files. \n",
    "</details>\n",
    "<details>\n",
    "  <summary> python src/prepare.py data/data.xml </summary>\n",
    "  This is the actual command that will be run. \n",
    "</details>\n",
    "\n",
    "Once you run the code, you will find that there are two new files and that `data/.gitignore` has been updated. `data/.gitignore` is updated so that you do not track the data split into train and test. The other two files are representations of the DAG, which, in this case, only contains a single stage.\n",
    "\n",
    "<div style=\"text-align:center\"><img src=\"images/DVC_Stage.png\" width=400/></div>"
   ]
  },
  {
   "cell_type": "markdown",
   "metadata": {},
   "source": [
    "Once you have a pipeline, you can start creating experiments by running `dvc repro`. However, before that, we add a stage to the pipeline; otherwise, we would only have one step. To visualise the stages in your DAGs, run `dvc dag`, which will enable you view the pipeline in a clear format:\n",
    "\n",
    "<div style=\"text-align:center\"><img src=\"images/DVC_Dag.png\" width=200/></div>"
   ]
  },
  {
   "cell_type": "markdown",
   "metadata": {},
   "source": [
    "Now, we add a couple of steps to this DAG. The next step will create features using the prepared data. These features will be reflected in `data/features`, and the stage will depend on featurization.py and the prepared data."
   ]
  },
  {
   "cell_type": "markdown",
   "metadata": {},
   "source": [
    "```\n",
    "dvc run -n featurise \\\n",
    "        -p featurise.max_features,featurise.ngrams \\\n",
    "        -d src/featurisation.py -d data/prepared \\\n",
    "        -o data/features \\\n",
    "        python src/featurisation.py data/prepared data/features\n",
    "```"
   ]
  },
  {
   "cell_type": "markdown",
   "metadata": {},
   "source": [
    "Upon running this code, your `dvc.yaml` file will be updated:\n",
    "\n",
    "<div style=\"text-align:center\"><img src=\"images/DVC_Stage_2.png\" width=400/></div>\n",
    "\n",
    "Additionally, notice that there are new pickle files in `data/features`.\n",
    "\n",
    "The last step will correspond to the training step:\n",
    "```\n",
    "dvc run -n train \\\n",
    "        -p train.seed,train.n_est,train.min_split \\\n",
    "        -d src/train.py -d data/features \\\n",
    "        -o model.pkl \\\n",
    "        python src/train.py data/features model.pkl\n",
    "```\n",
    "\n",
    "After running all these commands, some files should be committed using git:\n",
    "```\n",
    "git add dvc.yaml dvc.lock .gitignore data/.gitignore\n",
    "```"
   ]
  },
  {
   "cell_type": "markdown",
   "metadata": {},
   "source": [
    "If you run `dvc dag`, the new DAG should appear similar to that shown below:\n",
    "\n",
    "<div style=\"text-align:center\"><img src=\"images/DVC_Dag_2.png\" width=200/></div>"
   ]
  },
  {
   "cell_type": "markdown",
   "metadata": {},
   "source": [
    "As you were creating the stages, all the steps were executed. To avoid running them, add `--no-exec` during the creation process.\n",
    "\n",
    "However, since the goal of this is to automate the steps, you do not have to specify dependencies between tasks the next time. You can run all the defined steps by simply executing `dvc repro` to reproduce complete or partial pipelines by executing their stages. If you run it now, DVC will detect no changes; hence, we will modify some parameters.\n",
    "\n",
    "In this pipeline, it is possible to modify the train/test split size, the data itself or the number of maximum features. We will change the train/test split size. In `params.yaml`, set a different value for split and execute `dvc repro`.\n",
    "\n",
    "You should see all the steps running sequentially because the first stage ('prepare') depends on the parameter. However, if you change 'n_est' in `params.yaml` and rerun `dvc repro`, the following occurs:\n",
    "\n",
    "<div style=\"text-align:center\"><img src=\"images/DVC_Repro.png\" width=400/></div>"
   ]
  },
  {
   "cell_type": "markdown",
   "metadata": {},
   "source": [
    "DVC detects that the dependencies of some steps have not changed. Hence, it skips them, thereby saving memory."
   ]
  },
  {
   "cell_type": "markdown",
   "metadata": {},
   "source": [
    "## Tracking Metrics"
   ]
  },
  {
   "cell_type": "markdown",
   "metadata": {},
   "source": [
    "Creating DAGs is a good approach for automating a series of steps that will run sequentially. In a later lesson, we will learn how to add steps that track the performance of each experiment."
   ]
  },
  {
   "cell_type": "markdown",
   "metadata": {},
   "source": [
    "## Conclusion\n",
    "At this point, you should have a good understanding of \n",
    "\n",
    "- DVC as a data-versioning tool.\n",
    "- how to install and initialise DVC.\n",
    "- how to use DVC for model tracking.\n",
    "- how to retrieve data.\n",
    "- DVC pipelines.\n",
    "- tracking metrics."
   ]
  }
 ],
 "metadata": {
  "interpreter": {
   "hash": "830bf6ca72ecabc9ac511f8e43d68716abe882ae2dc9def7d6aa87a87756e28c"
  },
  "kernelspec": {
   "display_name": "Python 3.9.5 64-bit ('AiCore': conda)",
   "name": "python3"
  },
  "language_info": {
   "codemirror_mode": {
    "name": "ipython",
    "version": 3
   },
   "file_extension": ".py",
   "mimetype": "text/x-python",
   "name": "python",
   "nbconvert_exporter": "python",
   "pygments_lexer": "ipython3",
   "version": "3.9.5"
  }
 },
 "nbformat": 4,
 "nbformat_minor": 2
}
