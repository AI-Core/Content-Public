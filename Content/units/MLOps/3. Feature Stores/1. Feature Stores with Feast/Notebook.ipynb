{
 "cells": [
  {
   "cell_type": "markdown",
   "metadata": {},
   "source": [
    "# Feast"
   ]
  },
  {
   "cell_type": "markdown",
   "metadata": {},
   "source": [
    "## Introduction\n",
    ">[Feast](https://docs.feast.dev/) (FEAture STore) is a feature store provider that serves online (for real-time prediction) or offline (for model training) features.\n",
    "\n",
    "It is an operational data system for managing and serving ML features to models in production. \n",
    "\n",
    "<p align=center><img src=images/Feast_Diagram.png width=600></p>\n",
    "\n",
    "As a feature store, Feast provides single-point access to features, thereby preventing data leakage due to inconsistencies in data. \n",
    "\n",
    "Additionally, the features can be accessed by any team. Thus, Feast reduces friction between teams by providing single-point access and a centralised hub for registering features. \n",
    "\n",
    "Furthermore, the features can be reused not only across teams, but also across projects. Therefore, once a project is finished, the features used in it can also be utilised in the next project without requiring re-engineering.\n",
    "\n",
    "Moreover, knowledge of the features that result in a specific model is important. With Feast, users can track features and their corresponding models.\n",
    "\n",
    "__However,__ as opposed to other feature-store providers, Feast does not offer a feature-engineering service and does not generate statistic reports.\n"
   ]
  },
  {
   "cell_type": "markdown",
   "metadata": {},
   "source": [
    "## Installation and Initialisation"
   ]
  },
  {
   "cell_type": "markdown",
   "metadata": {},
   "source": [
    "Before installing Feast, we highly recommend that you create a virtual environment. Once this is done, proceed with the installation by executing the following command:\n",
    "```\n",
    "pip install feast\n",
    "```\n",
    "Note that if you intend to use Feast with AWS services or GCP to create online features, you also need to install the AWS or GCP dependencies.\n",
    "```\n",
    "pip install 'feast[aws]'\n",
    "```\n",
    "```\n",
    "pip install 'feast[gcp]'\n",
    "```\n",
    "\n",
    "__In this lesson, we will explore local feature stores. However, for more information about online feature stores, follow the examples provided by the Feast team.__"
   ]
  },
  {
   "cell_type": "markdown",
   "metadata": {},
   "source": [
    "### Creating a feature repository\n",
    "Next, we create a feature repository. This repository will contain the configuration of the feature store as well as the features. \n",
    "\n",
    "Feast simplifies the creation process of a feature repository. Further, it generates files detailing the procedures for running Feast on your infrastructure and files containing the feature definitions."
   ]
  },
  {
   "cell_type": "markdown",
   "metadata": {},
   "source": [
    "Go to the directory where you intend to create the feature repository, and run\n",
    "```\n",
    "feast init\n",
    "```\n",
    "This will add some examples to your directory for carrying out experiments, as well as a file named `feature_store.yaml`. The folder will be named after a random animal and will contain a data folder.\n",
    "\n",
    "<p align=center><img src=images/Feast_Directory.png width=200></p>\n"
   ]
  },
  {
   "cell_type": "markdown",
   "metadata": {},
   "source": [
    "`just_grouper` is an example of a feature store that stores information about the features in AWS. In our case, `steady_platypus` is an example of a feature store that contains information in the local machine and that can be tracked using Git.\n",
    "\n",
    "Next, we change directories to `steady_platypus` and initialise a repository:\n",
    "```\n",
    "cd steady_platypus\n",
    "git init\n",
    "```"
   ]
  },
  {
   "cell_type": "markdown",
   "metadata": {},
   "source": [
    "## Feature Repository"
   ]
  },
  {
   "cell_type": "markdown",
   "metadata": {},
   "source": [
    "Feast users use Feast to manage two important sets of configuration:\n",
    "\n",
    "- Configuration for running Feast on your infrastructure (`feature_store.yaml`).\n",
    "- Feature definitions (all the remaining Python files).\n",
    "\n",
    "The above configuration can be written declaratively and stored as code in a central location. This central location is called a feature repository.\n",
    "\n",
    "### Structure\n",
    "The structure of a feature repository is as follows:\n",
    "\n",
    "- The root of the repository should contain a feature_store.yaml file and, optionally, a .feastignore file.\n",
    "- The repository should contain Python files that contain feature definitions. \n",
    "- The repository can contain other files as well, including documentation and, potentially, data files."
   ]
  },
  {
   "cell_type": "markdown",
   "metadata": {},
   "source": [
    "### Applying definitions \n",
    "In our example, we can apply the definitions included in `example.py` to Feast by running\n",
    "```\n",
    "feast apply\n",
    "```\n",
    "\n",
    "Explore `example.py` to see how a feature is defined. It uses different classes within the `feast` module to define the different types of features. The comments provided by the Feast team are very useful for understanding how to define a feature. \n",
    "\n",
    "`example.py` will open `data/driver_stats.parquet`. To view its content, use pandas to read the file or add an extension and open it with your favorite editor. This is what the file looks like:\n",
    "\n",
    "<p align=center><img src=images/Feast_parquet.png width=600></p>"
   ]
  },
  {
   "cell_type": "markdown",
   "metadata": {},
   "source": [
    "You might encounter the syntax error when running `feast apply`:\n",
    "```\n",
    "SyntaxError: (unicode error) 'unicodeescape' codec can't decode bytes in position 2-3: truncated \n",
    "\\UXXXXXXXX escape\n",
    "```\n",
    "As a solution, go to `example.py` and change the backslashes (`\\`) to forward slashes (`/`)."
   ]
  },
  {
   "cell_type": "markdown",
   "metadata": {},
   "source": [
    "Afterwards, run `feast apply`, and the following message should appear:\n",
    "```\n",
    "Registered entity driver_id\n",
    "Registered feature view driver_hourly_stats\n",
    "Deploying infrastructure for driver_hourly_stats\n",
    "```\n",
    "Additionally, you will notice that there are two more files in the `data` folder: `online_store.db` and `registry.db`. These files are used by Feast to store the features and their metadata. Track these files using Git:\n",
    "```\n",
    "git add .\n",
    "git commit -m \"Add feature store and feature definitions\"\n",
    "```\n",
    "\n",
    "It is possible to change the data inside by modifying `example.py` and, thereafter, running `feast apply`. For example, in `example.py`, you can change the feature definition by adding a feature to the list:\n",
    "```\n",
    "features=[\n",
    "        Feature(name=\"conv_rate\", dtype=ValueType.FLOAT),\n",
    "        Feature(name=\"acc_rate\", dtype=ValueType.FLOAT),\n",
    "        Feature(name=\"avg_daily_trips\", dtype=ValueType.INT64),\n",
    "        Feature(name=\"created\", dtype=ValueType.TIMESTAMP),\n",
    "    ],"
   ]
  },
  {
   "cell_type": "markdown",
   "metadata": {},
   "source": [
    "After running `feast apply`, you can verify the changes by running `git status`. You should see two files that have been modified:\n",
    "```\n",
    "        modified:   data/registry.db\n",
    "        modified:   example.py\n",
    "```"
   ]
  },
  {
   "cell_type": "markdown",
   "metadata": {},
   "source": [
    "## Build a Training Dataset"
   ]
  },
  {
   "cell_type": "markdown",
   "metadata": {},
   "source": [
    "Once the feature store has been deployed, a training dataset can be built. Users will need to provide a list of features and a list of entities. Thereafter, Feast will generate a training dataset that contains those features and entities."
   ]
  },
  {
   "cell_type": "markdown",
   "metadata": {},
   "source": [
    "First, you can define the feature references for the features that you wish to retrieve from the offline store. These features can come from multiple feature tables.\n",
    "\n",
    "```\n",
    "features=[\n",
    "        \"driver_hourly_stats:conv_rate\",\n",
    "        \"driver_hourly_stats:acc_rate\"\n",
    "    ]\n",
    "```\n",
    "\n",
    "Additionally, an entity dataframe is required, which is the target dataframe onto which you will join feature values. The entity dataframe must contain a timestamp column called event_timestamp and all entities (primary keys) necessary for joining the feature tables. All entities found in feature views that are being joined to the entity dataframe must appear as columns on the entity dataframe.\n",
    "\n",
    "It is possible to provide entity dataframes as either a Pandas dataframe or an SQL query. In this case, we will use Pandas."
   ]
  },
  {
   "cell_type": "code",
   "execution_count": null,
   "metadata": {},
   "outputs": [],
   "source": [
    "from feast import FeatureStore\n",
    "import pandas as pd\n",
    "from datetime import datetime\n",
    "\n",
    "entity_df = pd.DataFrame(\n",
    "    {\n",
    "        \"event_timestamp\": [pd.Timestamp(datetime.now(), tz=\"UTC\"), pd.Timestamp(datetime.now(), tz=\"UTC\")],\n",
    "        \"driver_id\": [1001, 1002]\n",
    "    }\n",
    ")\n",
    "\n",
    "fs = FeatureStore(repo_path=\"steady_platypus\")\n",
    "\n",
    "training_df = fs.get_historical_features(\n",
    "    features=[\n",
    "        \"driver_hourly_stats:conv_rate\",\n",
    "        \"driver_hourly_stats:acc_rate\"\n",
    "    ],\n",
    "    entity_df=entity_df\n",
    ").to_df()"
   ]
  },
  {
   "cell_type": "markdown",
   "metadata": {},
   "source": [
    "## Loading Data to an Online Store"
   ]
  },
  {
   "cell_type": "markdown",
   "metadata": {},
   "source": [
    "Feast allows users to load their feature data to an online store to serve the latest features to models for online prediction."
   ]
  },
  {
   "cell_type": "markdown",
   "metadata": {},
   "source": [
    "This is accomplished using the `feast materialize` command. The syntax is as follows:\n",
    "```\n",
    "feast materialize <initial_date> <final_date>\n",
    "```"
   ]
  },
  {
   "cell_type": "markdown",
   "metadata": {},
   "source": [
    "In our case, we will materialise data from the past week (i.e. 19th of August, with today (the day of writing) being the 26th). For this, run the following:"
   ]
  },
  {
   "cell_type": "markdown",
   "metadata": {},
   "source": [
    "```\n",
    "feast materialize 2021-08-19T00:00:00 2021-08-26T00:00:00\n",
    "```"
   ]
  },
  {
   "cell_type": "markdown",
   "metadata": {},
   "source": [
    "Now, online_store.db should contain some data, which can be utilised to make real-time predictions."
   ]
  },
  {
   "cell_type": "code",
   "execution_count": null,
   "metadata": {},
   "outputs": [],
   "source": [
    "from feast import FeatureStore\n",
    "\n",
    "fs = FeatureStore(repo_path=\"./steady_platypus\")\n",
    "\n",
    "training_df = fs.get_online_features(\n",
    "    features=[\n",
    "        \"driver_hourly_stats:conv_rate\",\n",
    "        \"driver_hourly_stats:acc_rate\"\n",
    "    ],\n",
    "    entity_rows=[\n",
    "        {\"driver_id\": 1001},\n",
    "        {\"driver_id\": 1002}]\n",
    ").to_dict()\n",
    "\n",
    "print(training_df)"
   ]
  },
  {
   "cell_type": "markdown",
   "metadata": {},
   "source": [
    "As you can observe, we did not use the `get_historical_features` method here. Instead, we utilised `get_online_features` to provide information on the database to Feast. Furthermore, we utilised `entity_rows` as an argument instead of `entity`."
   ]
  },
  {
   "cell_type": "markdown",
   "metadata": {},
   "source": [
    "When you run the code above, the output should be similar to the following:\n",
    "```\n",
    "{'driver_id': [1001, 1002], 'conv_rate': [0.9721019268035889, 0.700430691242218], 'acc_rate': [0.1053711548447609, 0.15271347761154175]}\n",
    "```\n",
    "This is the dictionary corresponding to the last added data."
   ]
  },
  {
   "cell_type": "markdown",
   "metadata": {},
   "source": [
    "## Conclusion\n",
    "At this point, you should have a good understanding of\n",
    "- Feast, as a library for defining features and deploying them to a feature store.\n",
    "- how to use Feast to build a training dataset using historical features.\n",
    "- how to use Feast to load data into an online store for real-time predictions."
   ]
  }
 ],
 "metadata": {
  "language_info": {
   "name": "python"
  },
  "orig_nbformat": 4
 },
 "nbformat": 4,
 "nbformat_minor": 2
}
