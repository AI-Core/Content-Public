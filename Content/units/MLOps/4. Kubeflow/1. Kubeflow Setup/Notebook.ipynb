{
 "cells": [
  {
   "cell_type": "markdown",
   "metadata": {},
   "source": [
    "# Kubeflow Setup"
   ]
  },
  {
   "cell_type": "markdown",
   "metadata": {},
   "source": [
    "## Introduction\n",
    ">In this lesson, we learn how to install Kubeflow on various platforms. We will guide you through the process of creating a cluster on EKS, and how to install Kubeflow on it."
   ]
  },
  {
   "cell_type": "markdown",
   "metadata": {},
   "source": [
    "## Installation"
   ]
  },
  {
   "cell_type": "markdown",
   "metadata": {},
   "source": [
    "Kubeflow works on Kubernetes; therefore, applications can be developed locally and, thereafter, deployed to a Kubernetes cluster. \n",
    "\n",
    "For example, you can run everything on minikube and subsequently deploy the same application to EKS. However, not all computers have the capacity to run a large cluster locally; thus, you may need to directly deploy to EKS.\n",
    "\n",
    "Note that kubectl must be installed in order to use Kubernetes locally."
   ]
  },
  {
   "cell_type": "markdown",
   "metadata": {},
   "source": [
    "## Creating a Cluster on EKS\n",
    "\n",
    "> __Note:__ We will create an EKS cluster using EC2 instances belonging to the paid tiers. Therefore, we advise you to use the provided AWS credentials (to avoid paying) and follow the instructions for the Facebook Marketplace scenario provided [here](https://aicore-files.s3.amazonaws.com/MLOps/Facebook_Setup.md). Additionally, run the included commands **in the EC2 instance** not in your local machine."
   ]
  },
  {
   "cell_type": "markdown",
   "metadata": {},
   "source": [
    "### Elastic Kubernetes service\n",
    "__Elastic Kubernetes Service (EKS)__ is an AWS service that facilitates the orchestration of Docker containers on AWS.\n",
    "\n",
    "Since Kubeflow runs on Kubernetes, EKS is a great tool for running applications on AWS."
   ]
  },
  {
   "cell_type": "markdown",
   "metadata": {},
   "source": [
    "<p align=center><img src=images/EKS_1.png width=700></p>"
   ]
  },
  {
   "cell_type": "markdown",
   "metadata": {},
   "source": [
    "Although you can create a cluster using the AWS Management Console, we encourage you to use the CLI, since you will eventually need it to install Kubeflow on the created cluster.\n",
    "\n",
    "### Requirements \n",
    "Before creating the EKS cluster, you need to install the following tools for use in the CLI:\n",
    "- __eksctl__: facilitates the creation and management of Kubernetes clusters on EKS.\n",
    "- __kubectl__: for interacting with the API server of your cluster.\n",
    "- __AWS CLI__: for interacting with AWS services.\n",
    "\n",
    "Additionally, an IAM user with the following permissions is required:\n",
    "- EKS roles\n",
    "- CloudFormation (since the EKS cluster is created from a stack)\n",
    "- VPC-related resources\n",
    "\n",
    "If you alone will use this service, you can create an IAM role with all the permissions instead.\n",
    "\n",
    "To learn more about Kubernetes permissions, visit this [link](https://docs.aws.amazon.com/service-authorization/latest/reference/list_amazonelastickubernetesservice.html)."
   ]
  },
  {
   "cell_type": "markdown",
   "metadata": {},
   "source": [
    "### Installing _eksctl_"
   ]
  },
  {
   "cell_type": "markdown",
   "metadata": {},
   "source": [
    "<details>\n",
    "  <summary>For Ubuntu Users</summary>\n",
    "\n",
    "  1. Download and extract eksctl using the following commands:\n",
    "  ```\n",
    "      curl --silent --location \"https://github.com/weaveworks/eksctl/releases/latest/download/eksctl_$(uname -s)_amd64.tar.gz\" | tar xz -C /tmp\n",
    "\n",
    "      sudo mv /tmp/eksctl /usr/local/bin\n",
    "  ```\n",
    "\n",
    "  2. Verify that eksctl was installed correctly:\n",
    "  ```\n",
    "      eksctl version\n",
    "  ```\n",
    "</details>"
   ]
  },
  {
   "cell_type": "markdown",
   "metadata": {},
   "source": [
    "<details>\n",
    "  <summary>For Mac Users</summary>\n",
    "\n",
    "  1. Install Homebrew following the instructions [here](https://brew.sh/).\n",
    "  2. Install the Weaveworks Homebrew tap by running the following command:\n",
    "  ```\n",
    "    brew tap weaveworks/tap\n",
    "  ```\n",
    "  3. Install eksctl with the following command:\n",
    "  ```\n",
    "    brew install weaveworks/tap/eksctl\n",
    "  ```\n",
    "  4. Verify that eksctl was installed correctly:\n",
    "  ```\n",
    "    eksctl version\n",
    "  ```\n",
    "\n",
    "</details>"
   ]
  },
  {
   "cell_type": "markdown",
   "metadata": {},
   "source": [
    "<details>\n",
    "  <summary>For Windows Users</summary>\n",
    "\n",
    "  1. Install Chocolatey following the instructions [here](https://chocolatey.org/install).\n",
    "  2. Install the binaries with the following command:\n",
    "  ```\n",
    "    choco install -y eksctl\n",
    "  ```\n",
    "  3. Verify that eksctl was installed correctly:\n",
    "  ```\n",
    "    eksctl version\n",
    "  ```\n",
    "</details>"
   ]
  },
  {
   "cell_type": "markdown",
   "metadata": {},
   "source": [
    "Once completed, your output should be similar to that shown below."
   ]
  },
  {
   "cell_type": "markdown",
   "metadata": {},
   "source": [
    "<p align=center><img src=images/EKSCTL_1.png width=400></p>"
   ]
  },
  {
   "cell_type": "markdown",
   "metadata": {},
   "source": [
    "### Installing _kubectl_"
   ]
  },
  {
   "cell_type": "markdown",
   "metadata": {},
   "source": [
    "<details>\n",
    "  <summary>For Ubuntu Users</summary>\n",
    "\n",
    "  1. Download the kubectl binary from AWS. At the time of writing, we are working with version 1.21 because it is the stable version. However, things may be different now. Thus, we encourage you to explore the available versions [here](https://docs.aws.amazon.com/eks/latest/userguide/install-kubectl.html).\n",
    "  ```\n",
    "      curl -o kubectl https://s3.us-west-2.amazonaws.com/amazon-eks/1.21.2/2021-07-05/bin/linux/amd64/kubectl\n",
    "  ```\n",
    "\n",
    "  2. Change the permissions to the binary file:\n",
    "  ```\n",
    "      chmod +x ./kubectl\n",
    "  ```\n",
    "  3. Copy the binary to a folder in your PATH:\n",
    "  ```\n",
    "      mkdir -p $HOME/bin && cp ./kubectl $HOME/bin/kubectl && export PATH=$PATH:$HOME/bin\n",
    "  ```\n",
    "  4. Add the binary to the shell initialisation:\n",
    "  ```\n",
    "      echo 'export PATH=$PATH:$HOME/bin' >> ~/.bashrc\n",
    "  ```\n",
    "  5. Verify that kubectl was installed correctly:\n",
    "  ```\n",
    "      kubectl version --client\n",
    "  ```\n",
    "</details>"
   ]
  },
  {
   "cell_type": "markdown",
   "metadata": {},
   "source": [
    "<details>\n",
    "  <summary>For Mac Users</summary>\n",
    "\n",
    "  1. Download the kubectl binary from AWS. At the time of writing, we are working with version 1.21 because it is the stable version. However, things may be different now. Thus, we encourage you to explore the available versions [here](https://docs.aws.amazon.com/eks/latest/userguide/install-kubectl.html). \n",
    "  ```\n",
    "      curl -o kubectl https://s3.us-west-2.amazonaws.com/amazon-eks/1.21.2/2021-07-05/bin/darwin/amd64/kubectl\n",
    "  ```\n",
    "\n",
    "  2. Change the permissions to the binary file:\n",
    "  ```\n",
    "      chmod +x ./kubectl\n",
    "  ```\n",
    "  3. Copy the binary to a folder in your PATH:\n",
    "  ```\n",
    "      mkdir -p $HOME/bin && cp ./kubectl $HOME/bin/kubectl && export PATH=$HOME/bin:$PATH\n",
    "  ```\n",
    "  4. Add the binary to the shell initialisation:\n",
    "  ```\n",
    "      echo 'export PATH=$PATH:$HOME/bin' >> ~/.bash_profile\n",
    "  ```\n",
    "  5. Verify that kubectl was installed correctly:\n",
    "  ```\n",
    "      kubectl version --client\n",
    "  ```\n",
    "\n",
    "</details>"
   ]
  },
  {
   "cell_type": "markdown",
   "metadata": {},
   "source": [
    "<details>\n",
    "  <summary>For Windows Users</summary>\n",
    "\n",
    "  1. Download the kubectl binary from AWS. At the time of writing, we are working with version 1.21 because it is the stable version. However, things may be different now. Thus, we encourage you to explore the available versions [here](https://docs.aws.amazon.com/eks/latest/userguide/install-kubectl.html). \n",
    "  ```\n",
    "      curl -o kubectl.exe https://s3.us-west-2.amazonaws.com/amazon-eks/1.21.2/2021-07-05/bin/windows/amd64/kubectl.exe\n",
    "  ```\n",
    "  2. Copy the binary to a folder in your PATH:\n",
    "  \n",
    "  $\\qquad$ a. Create a new directory for your command-line binaries, such as `C:\\bin`.\n",
    "\n",
    "  $\\qquad$ b. Copy the binary to the new directory.\n",
    "\n",
    "  $\\qquad$ c. Edit your user or system PATH environment variable to add the new directory to your PATH.\n",
    "  \n",
    "  $\\qquad$ d. Restart the terminal.\n",
    "  \n",
    "  3. Verify that kubectl was installed correctly:\n",
    "  ```\n",
    "      kubectl version --client\n",
    "  ```\n",
    "\n",
    "</details>"
   ]
  },
  {
   "cell_type": "markdown",
   "metadata": {},
   "source": [
    "Once completed, your output should be similar to that shown below."
   ]
  },
  {
   "cell_type": "markdown",
   "metadata": {},
   "source": [
    "<p align=center><img src=images/KUBECTL_1.png width=500></p>"
   ]
  },
  {
   "cell_type": "markdown",
   "metadata": {},
   "source": [
    "### Installing _aws cli_"
   ]
  },
  {
   "cell_type": "markdown",
   "metadata": {},
   "source": [
    "If you have installed pip on your computer, you can install AWS CLI using the following command:\n",
    "\n",
    "```\n",
    "    pip install awscli\n",
    "```\n"
   ]
  },
  {
   "cell_type": "markdown",
   "metadata": {},
   "source": [
    "### Creating the IAM user"
   ]
  },
  {
   "cell_type": "markdown",
   "metadata": {},
   "source": [
    "An IAM user that will facilitate communication between the EKS cluster and the AWS services is required. If you know how to create the IAM user and authenticate with the AWS CLI, you can skip this section.\n",
    "\n",
    "First, in your AWS console, go to the IAM console and create a new user."
   ]
  },
  {
   "cell_type": "markdown",
   "metadata": {},
   "source": [
    "<p align=center>\n",
    "  <img src=images/IAM_1.png width=150>\n",
    "</p>"
   ]
  },
  {
   "cell_type": "markdown",
   "metadata": {},
   "source": [
    "Click on 'Add users'."
   ]
  },
  {
   "cell_type": "markdown",
   "metadata": {},
   "source": [
    "<p align=center>\n",
    "    <img src=images/IAM_2.png width=500>\n",
    "</p>"
   ]
  },
  {
   "cell_type": "markdown",
   "metadata": {},
   "source": [
    "Assign a name to your user, and select 'Access Key - Programmatic access' for 'Select AWS credential type'; thereafter, click 'Next'."
   ]
  },
  {
   "cell_type": "markdown",
   "metadata": {},
   "source": [
    "<p align=center>\n",
    "    <img src=images/IAM_3.png width=500>\n",
    "</p>"
   ]
  },
  {
   "cell_type": "markdown",
   "metadata": {},
   "source": [
    "Afterwards, click on 'Attach existing policies directly', and select 'AdministratorAccess'. Click 'Next' until the user is created."
   ]
  },
  {
   "cell_type": "markdown",
   "metadata": {},
   "source": [
    "<p align=center>\n",
    "    <img src=images/IAM_4.png width=500>\n",
    "</p>"
   ]
  },
  {
   "cell_type": "markdown",
   "metadata": {},
   "source": [
    "Download the `CSV` file with your Access key ID and Secret access key. If you close this window, you will no longer have access to the secret access key; hence, endeavour to download the file before closing the window."
   ]
  },
  {
   "cell_type": "markdown",
   "metadata": {},
   "source": [
    "#### Authenticating with the AWS CLI"
   ]
  },
  {
   "cell_type": "markdown",
   "metadata": {},
   "source": [
    "In your terminal, type `aws configure`. This will ask you for your Access key ID, Secret access key, and region. Note that the region you input now will be applied when creating the cluster; thus, make sure you remember it."
   ]
  },
  {
   "cell_type": "markdown",
   "metadata": {},
   "source": [
    "<p align=center>\n",
    "    <img src=images/IAM_5.png width=500>\n",
    "</p>"
   ]
  },
  {
   "cell_type": "markdown",
   "metadata": {},
   "source": [
    "### Creating the EKS cluster"
   ]
  },
  {
   "cell_type": "markdown",
   "metadata": {},
   "source": [
    "Now that everything is installed, you can create the cluster that will be used in this notebook.\n",
    "\n",
    "The syntax for creating a cluster is as follows:\n",
    "\n",
    "`eksctl create cluster [flags]`\n",
    "\n",
    "The main required flags are\n",
    "\n",
    "- `--name`: the name of the cluster.\n",
    "- `--region`: the region where the cluster will be created (use the same region you used to create the IAM user).\n",
    "- `--nodegroup-name`: the name of the node group.\n",
    "- `--node-type`: the type of node that will be created (we will use `t2.xlarge` for Kubeflow installation).\n",
    "- `--nodes`: the number of nodes that will be created (we will use 2 for Kubeflow installation).\n",
    "- `--timeout`: the maximum waiting time for any long-running operation to complete (40 minutes (`40m`) in our case).\n",
    "- `--version`: the Kubernetes version employed (we will use version `1.19` for the Kubeflow installation because it is stable).\n",
    "\n",
    "You can always view the available information on these flags by running `eksctl create cluster --help`.\n",
    "\n",
    "Here are the commands:"
   ]
  },
  {
   "cell_type": "markdown",
   "metadata": {},
   "source": [
    "```\n",
    "eksctl create cluster \\\n",
    "    --name kubeflow-cluster \\\n",
    "    --region us-east-2 \\\n",
    "    --nodegroup-name kubeflow-node-group \\\n",
    "    --node-type t2.xlarge \\\n",
    "    --nodes 2 \\\n",
    "    --timeout 40m \\\n",
    "    --version 1.19\n",
    "```"
   ]
  },
  {
   "cell_type": "markdown",
   "metadata": {},
   "source": [
    "The cluster-creation process takes some time (approximately 20 to 30 minutes). Therefore, as you wait, you can install other tools, such as kustomize (see the next section). During the creation process, your CLI output should appear similar to that shown below:"
   ]
  },
  {
   "cell_type": "markdown",
   "metadata": {},
   "source": [
    "<p align=center><img src=images/EKS_2.png width=600></p>"
   ]
  },
  {
   "cell_type": "markdown",
   "metadata": {},
   "source": [
    "__Note:__ When a cluster is created, eksctl will modify the kubeconfig file so that the next time you apply a manifest in your local machine, you will be applying the manifest to the cluster you are now creating. \n",
    "\n",
    "You can always change where to apply the manifest by changing the `--kubeconfig` flag or modifying the `~/.kube/config` file."
   ]
  },
  {
   "cell_type": "markdown",
   "metadata": {},
   "source": [
    "## Installing Kubeflow in the Cluster"
   ]
  },
  {
   "cell_type": "markdown",
   "metadata": {},
   "source": [
    "Before installing Kubeflow, you need to install `kustomize`, which is a command-line tool that allows you to modify the manifest files of Kubernetes. Depending on your local machine, you may need to install `yq` and `jq` to use `kustomize`, which are command-line tools for processing YAML and JSON files, respectively."
   ]
  },
  {
   "cell_type": "markdown",
   "metadata": {},
   "source": [
    "\n",
    "### Installing _yq_\n"
   ]
  },
  {
   "cell_type": "markdown",
   "metadata": {},
   "source": [
    "\n",
    "<details>\n",
    "  <summary>For Ubuntu Users</summary>\n",
    "\n",
    "  1. Download the latest executable file of yq from GitHub:\n",
    "  ```\n",
    "      sudo wget -qO /usr/local/bin/yq https://github.com/mikefarah/yq/releases/latest/download/yq_linux_amd64\n",
    "  ```\n",
    "\n",
    "  2. Change the permissions to the binary file:\n",
    "  ```\n",
    "      chmod a+x /usr/local/bin/yq\n",
    "  ```\n",
    "  3. Verify that yq was installed correctly:\n",
    "  ```\n",
    "      yq --version\n",
    "  ```\n",
    "</details>"
   ]
  },
  {
   "cell_type": "markdown",
   "metadata": {},
   "source": [
    "<details>\n",
    "  <summary>For Mac Users</summary>\n",
    "\n",
    "  1. You can install it using Homebrew:\n",
    "  ```\n",
    "      brew install yq\n",
    "  ```\n",
    "  2. Verify that yq was installed correctly:\n",
    "  ```\n",
    "      yq --version\n",
    "  ```\n",
    "</details>"
   ]
  },
  {
   "cell_type": "markdown",
   "metadata": {},
   "source": [
    "<details>\n",
    "  <summary>For Windows Users</summary>\n",
    "\n",
    "  1. You can install it using Chocolatey:\n",
    "  ```\n",
    "      choco install yq\n",
    "  ```\n",
    "  2. Verify that yq was installed correctly:\n",
    "  ```\n",
    "      yq --version\n",
    "  ```\n",
    "</details>"
   ]
  },
  {
   "cell_type": "markdown",
   "metadata": {},
   "source": [
    "### Installing _jq_"
   ]
  },
  {
   "cell_type": "markdown",
   "metadata": {},
   "source": [
    "\n",
    "<details>\n",
    "  <summary>For Ubuntu Users</summary>\n",
    "\n",
    "  1. Update the package lists, and install jq:\n",
    "  ```\n",
    "      sudo apt update\n",
    "      sudo apt install -y jq\n",
    "  ```\n",
    "  2. Verify that jq was installed correctly:\n",
    "  ```\n",
    "      jq --version\n",
    "  ```\n",
    "</details>"
   ]
  },
  {
   "cell_type": "markdown",
   "metadata": {},
   "source": [
    "<details>\n",
    "  <summary>For Mac Users</summary>\n",
    "\n",
    "  1. You can install it using Homebrew:\n",
    "  ```\n",
    "      brew install jq\n",
    "  ```\n",
    "  2. Verify that jq was installed correctly:\n",
    "  ```\n",
    "      jq --version\n",
    "  ```\n",
    "</details>"
   ]
  },
  {
   "cell_type": "markdown",
   "metadata": {},
   "source": [
    "<details>\n",
    "  <summary>For Windows Users</summary>\n",
    "\n",
    "  1. You can simply use Chocolatey to install it\n",
    "  ```\n",
    "      choco install jq\n",
    "  ```\n",
    "  2. Verify that jq is installed correctly:\n",
    "  ```\n",
    "      jq --version\n",
    "  ```\n",
    "</details>"
   ]
  },
  {
   "cell_type": "markdown",
   "metadata": {},
   "source": [
    "### Installing _kustomize_"
   ]
  },
  {
   "cell_type": "markdown",
   "metadata": {},
   "source": [
    "> __Note:__ The latest version of kustomize does not work with the latest versions of Kubeflow. Thus, you will need to use kustomize 3.2.0.\n",
    "\n",
    "<details>\n",
    "  <summary>For Ubuntu Users</summary>\n",
    "\n",
    "  1. Download the corresponding version and binary:\n",
    "  ```\n",
    "      wget -O kustomize https://github.com/kubernetes-sigs/kustomize/releases/download/v3.2.0/kustomize_3.2.0_linux_amd64\n",
    "  ```\n",
    "  2. Change the permissions:\n",
    "  ```\n",
    "      chmod +x kustomize\n",
    "  ```\n",
    "  3. Move the binary to PATH:\n",
    "  ```\n",
    "      sudo mv kustomize /usr/local/bin/\n",
    "  ```\n",
    "  4. Verify that kustomize was installed correctly:\n",
    "  ```\n",
    "      kustomize version\n",
    "  ```\n",
    "</details>"
   ]
  },
  {
   "cell_type": "markdown",
   "metadata": {},
   "source": [
    "<details>\n",
    "  <summary>For Mac Users</summary>\n",
    "\n",
    "  1. Download the corresponding version and binary:\n",
    "  ```\n",
    "      wget -O kustomize https://github.com/kubernetes-sigs/kustomize/releases/download/v3.2.0/kustomize_3.2.0_darwin_amd64\n",
    "  ```\n",
    "  2. Change the permissions:\n",
    "  ```\n",
    "      chmod +x kustomize\n",
    "  ```\n",
    "  3. Move the binary to PATH:\n",
    "  ```\n",
    "      sudo mv kustomize /usr/local/bin/\n",
    "  ```\n",
    "  4. Verify that kustomize was installed correctly:\n",
    "  ```\n",
    "      kustomize version\n",
    "  ```\n",
    "</details>"
   ]
  },
  {
   "cell_type": "markdown",
   "metadata": {},
   "source": [
    "<details>\n",
    "  <summary>For Windows Users</summary>\n",
    "\n",
    "  Windows users can use Chocolatey for the installation. However, unfortunately, Chocolatey only downloads the latest version of kustomize.\n",
    "\n",
    "  To install kustomize 3.2.0, follow this [StackOverflow thread](https://stackoverflow.com/questions/70838480/build-kustomize-3-2-0-on-windows).\n",
    "</details>"
   ]
  },
  {
   "cell_type": "markdown",
   "metadata": {},
   "source": [
    "### Installing Kubeflow"
   ]
  },
  {
   "cell_type": "markdown",
   "metadata": {},
   "source": [
    "As mentioned, Kubeflow works using Kubernetes manifests.\n",
    "\n",
    "At the time of writing, the latest version of the manifest is `v1.5`. However, this might be outdated at present. You can explore and download the latest version of these manifests from the [Kubeflow GitHub repository](https://github.com/kubeflow/manifests).\n",
    "```\n",
    "git clone https://github.com/kubeflow/manifests\n",
    "cd manifests\n",
    "git checkout v1.5-branch\n",
    "```"
   ]
  },
  {
   "cell_type": "markdown",
   "metadata": {},
   "source": [
    "Next, we utilise `kustomize` to build all the Kubeflow components and services:"
   ]
  },
  {
   "cell_type": "markdown",
   "metadata": {},
   "source": [
    "```\n",
    "while ! kustomize build example | kubectl apply -f -; do echo \"Retrying to apply resources\"; sleep 10; done\n",
    "```"
   ]
  },
  {
   "cell_type": "markdown",
   "metadata": {},
   "source": [
    "The `while` loop will keep attempting to apply the resources until it succeeds. This occurs in consideration of the high failure probability of Kubernetes and `kubectl` on the first attempt."
   ]
  },
  {
   "cell_type": "markdown",
   "metadata": {},
   "source": [
    "This process will also take approximately 20 to 30 minutes (ignore all the warnings and retries)."
   ]
  },
  {
   "cell_type": "markdown",
   "metadata": {},
   "source": [
    "<p align=center><img src=images/KUBECTL_2.png width=600></p>"
   ]
  },
  {
   "cell_type": "markdown",
   "metadata": {},
   "source": [
    "The process will run until everything is configured. As mentioned, this is because Kubernetes and `kubectl` may fail on the first attempt."
   ]
  },
  {
   "cell_type": "markdown",
   "metadata": {},
   "source": [
    "## Connecting to Kubeflow"
   ]
  },
  {
   "cell_type": "markdown",
   "metadata": {},
   "source": [
    "Once the long process is complete, you should be able to connect to Kubeflow. Run the following command to expose the Kubeflow dashboard:\n",
    "\n",
    "```\n",
    "kubectl port-forward svc/istio-ingressgateway -n istio-system 8080:80\n",
    "```"
   ]
  },
  {
   "cell_type": "markdown",
   "metadata": {},
   "source": [
    "The CLI will display the port for accessing the dashboard:"
   ]
  },
  {
   "cell_type": "markdown",
   "metadata": {},
   "source": [
    "<p align=center><img src=images/KUBECTL_3.png width=600></p>"
   ]
  },
  {
   "cell_type": "markdown",
   "metadata": {},
   "source": [
    "Accordingly, go to `http://localhost:8080` to access the dashboard."
   ]
  },
  {
   "cell_type": "markdown",
   "metadata": {},
   "source": [
    "Recall that when you installed Kubeflow, you used the default email and password given by the manifests you downloaded:\n",
    "- user: user@example.com\n",
    "- password: 12341234\n",
    "\n",
    "If you intend to deploy your application into production, consider changing the password to something more secure (see [here](https://github.com/kubeflow/manifests/tree/v1.5-branch#change-default-user-password) for detailed information)."
   ]
  },
  {
   "cell_type": "markdown",
   "metadata": {},
   "source": [
    "The window shown below confirms the successful installation of Kubeflow."
   ]
  },
  {
   "cell_type": "markdown",
   "metadata": {},
   "source": [
    "<p align=center><img src=images/Kubeflow.png width=600></p>"
   ]
  },
  {
   "cell_type": "markdown",
   "metadata": {},
   "source": [
    "However, note that a minor configuration is required to use notebooks in Kubeflow. This is because Kubeflow is currently running on HTTP, which is unnecessary if the notebooks can be run on HTTPS. Click [here](https://github.com/awslabs/kubeflow-manifests/issues/67#issuecomment-1059566247) for information on the required configuration.\n",
    "\n",
    "Here, we learn how to run notebooks on HTTP."
   ]
  },
  {
   "cell_type": "markdown",
   "metadata": {},
   "source": [
    "### Running notebooks on HTTP\n",
    "First, type `ctrl + c` to stop exposing the EKS.\n",
    "\n",
    "Next, change the `jupyter-web-app-deployment.yaml` file to expose the notebook on HTTP:"
   ]
  },
  {
   "cell_type": "markdown",
   "metadata": {},
   "source": [
    "```kubectl edit deployments -n kubeflow jupyter-web-app-deployment```"
   ]
  },
  {
   "cell_type": "markdown",
   "metadata": {},
   "source": [
    "This will open a VIM editor. __Please exercise caution here!__ A slight change will break the Kubeflow configuration. Locate the `spec.template.spec.containers.env` section. It should appear similar to that shown below."
   ]
  },
  {
   "cell_type": "markdown",
   "metadata": {},
   "source": [
    "<p align=center><img src=images/KUBECTL_4.png width=400></p>"
   ]
  },
  {
   "cell_type": "markdown",
   "metadata": {},
   "source": [
    "Therein, add the following lines (recall that you are on VIM; therefore, you need to type 'i' to insert new lines). Additionally, since you are modifying a YAML file, the TAB key will not always work; in such a case, hit the spacebar to add the whitespaces:\n",
    "\n",
    "```\n",
    "  - name: APP_SECURE_COOKIES\n",
    "    value: \"false\"\n",
    "```"
   ]
  },
  {
   "cell_type": "markdown",
   "metadata": {},
   "source": [
    "Your output should be similar to that shown below."
   ]
  },
  {
   "cell_type": "markdown",
   "metadata": {},
   "source": [
    "<p align=center><img src=images/KUBECTL_5.png width=400></p>"
   ]
  },
  {
   "cell_type": "markdown",
   "metadata": {},
   "source": [
    "Save and exit (press 'Esc', and type ':wq').\n",
    "\n",
    "Restart the deployment for the changes to take effect."
   ]
  },
  {
   "cell_type": "markdown",
   "metadata": {},
   "source": [
    "```kubectl -n kubeflow rollout restart deployment/jupyter-web-app-deployment```"
   ]
  },
  {
   "cell_type": "markdown",
   "metadata": {},
   "source": [
    "Subsequently, expose the Kubeflow dashboard once again:\n",
    "\n",
    "```\n",
    "kubectl port-forward svc/istio-ingressgateway -n istio-system 8080:80\n",
    "```\n",
    "\n",
    "Afterwards, go to `http://localhost:8080` to access the notebook."
   ]
  },
  {
   "cell_type": "markdown",
   "metadata": {},
   "source": [
    "Next, click on 'Notebooks' and then 'New Notebook' to create a new notebook.\n",
    "\n",
    "Assign a name to it, and scroll down to the bottom of the page; thereafter, click on 'Launch' to start the notebook. This is what you should see:"
   ]
  },
  {
   "cell_type": "markdown",
   "metadata": {},
   "source": [
    "<p align=center><img src=images/Kubeflow_2.png width=700></p>"
   ]
  },
  {
   "cell_type": "markdown",
   "metadata": {},
   "source": [
    "Attempt to connect to it, and if successful, your Kubeflow setup is complete."
   ]
  },
  {
   "cell_type": "markdown",
   "metadata": {},
   "source": [
    "## Conclusion\n",
    "At this point, you should have a good understanding of\n",
    "\n",
    "- how to set up Kubeflow.\n",
    "- how to create a cluster on EKS.\n",
    "- how to install Kubeflow in the cluster.\n",
    "- how to connect to Kubeflow."
   ]
  }
 ],
 "metadata": {
  "language_info": {
   "name": "python"
  },
  "orig_nbformat": 4
 },
 "nbformat": 4,
 "nbformat_minor": 2
}
