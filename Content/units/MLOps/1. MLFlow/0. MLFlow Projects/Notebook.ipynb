{
 "cells": [
  {
   "cell_type": "markdown",
   "metadata": {},
   "source": [
    "# MLFlow Installation \n",
    "\n",
    "## Introduction\n",
    ">`MLFlow` is written in Python; thus, it can be installed using `pip`/`conda` or any other package manager.\n",
    "\n",
    "If you have `pytorch` or any other integration installed, it will be picked up automatically by `mlflow`."
   ]
  },
  {
   "cell_type": "code",
   "execution_count": null,
   "metadata": {},
   "outputs": [],
   "source": [
    "!pip install mlflow"
   ]
  },
  {
   "cell_type": "markdown",
   "metadata": {},
   "source": [
    "## Projects\n",
    "\n",
    "> __MLFlow projects refer to the CONVENTION (or standard) for organising and describing code to enable others (people, automation pipelines) easily run it.__\n",
    "\n",
    "Conventionally, projects are `git` repositories that allow you to specify, in varying levels of detail, the required environment (either `conda` or `docker`; note that `system`-specified environments are discouraged) via the\n",
    "- directory structure.\n",
    "- `MLproject` file in git's root directory.\n",
    "\n",
    "*Note*\n",
    "- `MLproject` should be a `yaml` file, without an extension (i.e. save it as `MLroject`, not `MLroject.yaml`).\n",
    "\n",
    "### Directories\n",
    "\n",
    "> Structuring code via directories is sufficient for creating a basic `MLFlow` project; however, __specifying `MLproject` is a better option.__\n",
    "\n",
    "If there is no `MLproject.yaml` file, note the following:\n",
    "- __Name of the project__: name of the project's root directory (e.g. git's root).\n",
    "- __Conda environment__: apply it if `conda.yaml` is available in the root.\n",
    "- __Any `.py`/`.sh` file in the project can be an entry point__ (the topic of running projects will be discussed in more detail later).\n",
    "\n",
    "One can obtain the `conda.yaml` file via a simple command, provided the command is run from within the conda environment:\n",
    "\n",
    "```bash\n",
    "conda env export [--from-history] > conda.yaml\n",
    "```\n",
    "\n",
    "`--from-history` requests only packages that have been explicitly installed. This has two effects:\n",
    "- Portability across OSs (as OS-specific packages will be installed this way).\n",
    "- Partial reproducibility (possibly due to the different dependencies).\n",
    "\n",
    "__Generally, it is safe to use the `--from-history` flag to improve the portability of projects.__\n",
    "\n",
    "### Using MLProject.yaml\n",
    "\n",
    "> As a better alternative, the entry points, structure, parameters, etc. can be explicitly specified via the `MLproject` file.\n",
    "\n",
    "Consider the example `MLproject` below:\n",
    "\n",
    "\n",
    "```yml\n",
    "---\n",
    "name: My Project\n",
    "\n",
    "conda_env: my_env.yaml\n",
    "\n",
    "entry_points:\n",
    "  main:\n",
    "    parameters:\n",
    "      data_file: path\n",
    "      regularization: {type: float, default: 0.1}\n",
    "    command: \"python train.py -r {regularization} {data_file}\"\n",
    "  validate:\n",
    "    parameters:\n",
    "      data_file: path\n",
    "    command: \"python validate.py {data_file}\"\n",
    "```\n",
    "\n",
    "For more examples, check out the documentation [here](https://github.com/mlflow/mlflow/tree/master/examples)."
   ]
  },
  {
   "cell_type": "markdown",
   "metadata": {},
   "source": [
    "From the above code, it is clear that the user can do the following:\n",
    "\n",
    "1. __specify the environment explicitly:__\n",
    "    - `conda` (simply a file with dependencies).\n",
    "    - `docker`:\n",
    "        - specify the image available on the OS\n",
    "        - if the image is unavailable, attempt to pull it from `DockerHub`.\n",
    "        - if the registry containing the image is specified, it will attempt to pull it, unless it is already available on the system.\n",
    "\n",
    "\n",
    "For the `docker` environment, one can also specify the\n",
    "- volumes to be mounted while the project runs.\n",
    "- environment variables passed to the container.\n",
    "\n",
    "Here is an example of `docker_env`:\n",
    "\n",
    "```yml\n",
    "---\n",
    "name: My Project\n",
    "\n",
    "docker_env:\n",
    "  image:  mlflow-docker-example\n",
    "\n",
    "entry_points:\n",
    "  main:\n",
    "    parameters:\n",
    "      data_file: path\n",
    "      regularization: {type: float, default: 0.1}\n",
    "      p: float\n",
    "    command: \"python train.py -r {regularization} {data_file}\"\n",
    "  validate:\n",
    "    parameters:\n",
    "      data_file: path\n",
    "    command: \"python validate.py {data_file}\"\n",
    "```\n",
    "\n",
    "More examples are provided [here](https://www.mlflow.org/docs/latest/projects.html#mlproject-file)."
   ]
  },
  {
   "cell_type": "markdown",
   "metadata": {},
   "source": [
    "2. __Specify parameters and entrypoints__\n",
    "\n",
    "One can specify the\n",
    "- name of the parameter.\n",
    "- type of the parameter (the default is `str`; others are `float`, `path` and `uri`).\n",
    "- default value(s)."
   ]
  },
  {
   "cell_type": "markdown",
   "metadata": {},
   "source": [
    "These values are eventually passed to the `command` field and appropriately substituted.\n",
    "__For unspecified parameters, the values will be passed to the running command via the `--key value` syntax.__\n",
    "\n",
    "Two cells above all of the parameter specifications are shown."
   ]
  },
  {
   "cell_type": "markdown",
   "metadata": {},
   "source": [
    "### Running projects\n",
    "\n",
    "> `MLFLow` provides a terminal command, `mlflow`, which has a subcommand, `run`, that allows us to run the project.\n",
    "\n",
    "\n",
    "The syntax is quite simple:\n",
    "\n",
    "```bash\n",
    "mlflow run <directory>\n",
    "```\n",
    "\n",
    "However, there are a few workarounds for running it effortlessly:"
   ]
  },
  {
   "cell_type": "code",
   "execution_count": null,
   "metadata": {},
   "outputs": [],
   "source": [
    "!mlflow run --help"
   ]
  },
  {
   "cell_type": "markdown",
   "metadata": {},
   "source": [
    "For example, we could run the following in the CLI or cell:"
   ]
  },
  {
   "cell_type": "code",
   "execution_count": null,
   "metadata": {},
   "outputs": [],
   "source": [
    "!mlflow run https://github.com/mlflow/mlflow-example -P alpha=0.5\n"
   ]
  },
  {
   "cell_type": "markdown",
   "metadata": {},
   "source": [
    "## Conclusion\n",
    "At this point, you should have a good understanding of \n",
    "- how to install MLFlow.\n",
    "- MLFlow projects."
   ]
  }
 ],
 "metadata": {
  "kernelspec": {
   "display_name": "Python 3.9.0 64-bit",
   "language": "python",
   "name": "python3"
  },
  "language_info": {
   "name": "python",
   "version": "3.9.0"
  },
  "vscode": {
   "interpreter": {
    "hash": "aee8b7b246df8f9039afb4144a1f6fd8d2ca17a180786b69acc140d282b71a49"
   }
  }
 },
 "nbformat": 4,
 "nbformat_minor": 2
}
