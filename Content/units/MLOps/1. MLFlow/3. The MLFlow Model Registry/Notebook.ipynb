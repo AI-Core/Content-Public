{
 "cells": [
  {
   "cell_type": "markdown",
   "id": "5d8bcbfd",
   "metadata": {},
   "source": [
    "# MLFlow for Model Registry\n",
    "\n",
    "## Introduction\n",
    "> A __model registry__ is a central location for storing (register) models.\n",
    "\n",
    "MLFlow offers a popular model registry.\n",
    "\n",
    "> The MLFLow model registry manages the lifecycle of the `MLModel` (lineage (the experiment and run that produced it), version, staging and annotations).\n",
    "\n",
    "The MLFlow model registry can be set up as shown below.\n",
    "\n",
    "```\n",
    "\t\tmlflow server \\\n",
    "\t\t\t--backend-store-uri sqlite:///mlflow.db \\\n",
    "\t\t\t--default-artifact-root ./artifacts \\\n",
    "\t\t\t--host 127.0.0.1\n",
    "```\n",
    "\n",
    "> __Note:__ To connect to an MLFlow server, an environment model called `MLFLOW_TRACKING_URI` must be set. \n",
    "\n",
    "If the environment model is not set, it can cause the following error:\n",
    "```\n",
    "INVALID_PARAMETER_VALUE:  Model registry functionality is unavailable; got unsupported URI './mlruns' for model registry data storage. Supported URI schemes are: ['postgresql', 'mysql', 'sqlite', 'mssql']\n",
    "```\n",
    "\n",
    "To fix this, set the MLFLOW_TRACKING_URI, as follows:\n",
    "\n",
    "```\n",
    "export MLFLOW_TRACKING_URI=http://localhost:5000\n",
    "```\n",
    "\n",
    "Recall that this environment variable will only be set in the terminal in which it is run. If this terminal is terminated, the command must be run again when a new terminal is opened. To avoid this, add the above line to your `.bashrc` file, which runs each time you open a new terminal (or a corresponding file, depending on the terminal in use).\n",
    "\n",
    "> __Note:__ The Python API method, `mlflow.set_tracking_uri(...)`, will only work if the `MLFLOW_TRACKING_URI` environment variable has been set, in which case it will replace it.\n",
    "\n",
    "Check out the docs [here](https://www.mlflow.org/docs/latest/tracking.html#mlflow-tracking-servers).\n",
    "\n",
    "## Important Concepts:\n",
    "- __Registered model__: The `MLModel` that was explicitly registered with the metadata mentioned above.\n",
    "- __Model version__: The first registered model receives `1` as the version number, which increases by unity for each new model registration.\n",
    "- __Model stage__: This is similar to `git` or data warehouses:\n",
    "    - `staging`\n",
    "    - `production`\n",
    "    - `archived`\n",
    "- __Model annotations__: The model is documented in markdown (algorithm description, the dataset used, etc.).\n",
    "\n",
    "All of the above are required __after saving a model via `log_model`,__ and they can be achieved via an __API or a UI__.\n",
    "\n",
    "For this lesson, we will use an API. Check [here](https://www.mlflow.org/docs/latest/model-registry.html#ui-workflow) for information on how to carry out the tasks via the UI.\n",
    "\n",
    "There are three programmatic approaches for registering a model:\n",
    "- Via `log_model`'s `registered_model_name` argument (__when the user intends to register a model from each experiment__).\n",
    "- [`mlflow.register_model`](https://www.mlflow.org/docs/latest/python_api/mlflow.html#mlflow.register_model) (__explicit registration of the chosen model with the run `id` specified__).\n",
    "- [`mlflow.Client`'s `create_registered_model`](https://www.mlflow.org/docs/latest/python_api/mlflow.tracking.html#mlflow.tracking.MlflowClient.create_registered_model) (__similar to that above. However, the Client is connected to a specific run; hence, the explicit specification of the run `id` is not required__)."
   ]
  },
  {
   "cell_type": "code",
   "execution_count": 1,
   "id": "c53967af",
   "metadata": {},
   "outputs": [
    {
     "name": "stderr",
     "output_type": "stream",
     "text": [
      "Successfully registered model 'sk-learn-random-forest-reg-model'.\n",
      "2021/07/04 19:40:05 INFO mlflow.tracking._model_registry.client: Waiting up to 300 seconds for model version to finish creation.                     Model name: sk-learn-random-forest-reg-model, version 1\n",
      "Created version '1' of model 'sk-learn-random-forest-reg-model'.\n"
     ]
    }
   ],
   "source": [
    "# Version one\n",
    "\n",
    "from random import random, randint\n",
    "from sklearn.ensemble import RandomForestRegressor\n",
    "\n",
    "import mlflow\n",
    "import mlflow.sklearn\n",
    "\n",
    "with mlflow.start_run(run_name=\"YOUR_RUN_NAME\") as run:\n",
    "    params = {\"n_estimators\": 5, \"random_state\": 42}\n",
    "    sk_learn_rfr = RandomForestRegressor(**params)\n",
    "\n",
    "    # Log parameters and metrics using the MLflow APIs\n",
    "    mlflow.log_params(params)\n",
    "    mlflow.log_param(\"param_1\", randint(0, 100))\n",
    "    mlflow.log_metrics({\"metric_1\": random(), \"metric_2\": random() + 1})\n",
    "\n",
    "    # Log the sklearn model and register as version 1\n",
    "    mlflow.sklearn.log_model(\n",
    "        sk_model=sk_learn_rfr,\n",
    "        artifact_path=\"sklearn-model\",\n",
    "        registered_model_name=\"sk-learn-random-forest-reg-model\"\n",
    "    )"
   ]
  },
  {
   "cell_type": "code",
   "execution_count": null,
   "id": "925b4dc8",
   "metadata": {},
   "outputs": [],
   "source": [
    "# Version two\n",
    "\n",
    "result = mlflow.register_model(\n",
    "    \"runs:/d16076a3ec534311817565e6527539c0/sklearn-model\",\n",
    "    \"sk-learn-random-forest-reg\"\n",
    ")"
   ]
  },
  {
   "cell_type": "code",
   "execution_count": null,
   "id": "622e9a24",
   "metadata": {},
   "outputs": [],
   "source": [
    "# Version three\n",
    "\n",
    "from mlflow.tracking import MlflowClient\n",
    "\n",
    "client = MlflowClient()\n",
    "client.create_registered_model(\"sk-learn-random-forest-reg-model\")"
   ]
  },
  {
   "cell_type": "markdown",
   "id": "96d93360",
   "metadata": {},
   "source": [
    "## Experiments vs Models\n",
    "\n",
    "> Run experiments to evaluate many models; thereafter, log only the best ones to the model registry.\n",
    "\n",
    "We encourage you to carry out many experiments to aid your development; however, avoid cluttering the central model store."
   ]
  },
  {
   "cell_type": "markdown",
   "id": "e24828fe",
   "metadata": {},
   "source": [
    "## Retrieving the Model\n",
    "\n",
    "As shown previously, `mlflow.<framework>.load_model` can be utilised for loading by\n",
    "- specifying the model version.\n",
    "- specifying the stage."
   ]
  },
  {
   "cell_type": "code",
   "execution_count": null,
   "id": "1840525d",
   "metadata": {},
   "outputs": [],
   "source": [
    "# loading by version\n",
    "\n",
    "import mlflow.pyfunc\n",
    "\n",
    "model_name = \"sk-learn-random-forest-reg-model\"\n",
    "model_version = 1\n",
    "\n",
    "model = mlflow.pyfunc.load_model(\n",
    "    model_uri=f\"models:/{model_name}/{model_version}\"\n",
    ")\n",
    "\n",
    "model.predict(data)\n"
   ]
  },
  {
   "cell_type": "code",
   "execution_count": null,
   "id": "b6d317bb",
   "metadata": {},
   "outputs": [],
   "source": [
    "# loading by stage\n",
    "\n",
    "import mlflow.pyfunc\n",
    "\n",
    "model_name = \"sk-learn-random-forest-reg-model\"\n",
    "stage = 'Staging'\n",
    "\n",
    "model = mlflow.pyfunc.load_model(\n",
    "    model_uri=f\"models:/{model_name}/{stage}\"\n",
    ")\n",
    "\n",
    "model.predict(data)\n",
    "\n"
   ]
  },
  {
   "cell_type": "markdown",
   "id": "4db3d60d",
   "metadata": {},
   "source": [
    "## Things to Note\n",
    "\n",
    "We can also\n",
    "- update a model.\n",
    "- change its description.\n",
    "- transition from one stage to another (allowed values are: `Staging`, `Production`, `Archived` or `None` (as the Python variable)).\n",
    "- Search for[registered models](https://www.mlflow.org/docs/latest/model-registry.html#listing-and-searching-mlflow-models). \n",
    "- Delete [registered models](https://www.mlflow.org/docs/latest/model-registry.html#deleting-mlflow-models), although `Archiving` is preferable to keep track of experiments)."
   ]
  },
  {
   "cell_type": "markdown",
   "id": "56dbc0d2",
   "metadata": {},
   "source": [
    "## Example\n",
    "\n",
    "Here, using what we have learnt thus far, we will create __an `MLFLow` project__ (refer to [this official tutorial](https://mlflow.org/docs/latest/tutorials-and-examples/tutorial.html) for help on getting started).\n",
    "- Create a new, private GitHub repository, and assign a name to it (e.g `example experiment`).\n",
    "- Choose an example dataset from [`scikit-learn`](https://scikit-learn.org/stable/).\n",
    "- Create a simple command-line parser with [`argparse`](https://docs.python.org/3/library/argparse.html), and a few experiment parameters.\n",
    "- Run experiments to determine the best algorithm in `sklearn` for your task (choose up to `5`).\n",
    "- Commit everything, and attempt to replicate the results directly from GitHub.\n",
    "- Save the model in MLFlow's `model` format.\n",
    "- Deploy the model locally.\n",
    "\n",
    "Below is a small snippet using `argparse`. Save it locally in a file called `foo.py`, and run `python<3> foo.py --help`. Refer to the documentation for more information. "
   ]
  },
  {
   "cell_type": "code",
   "execution_count": null,
   "id": "e340c6fc",
   "metadata": {},
   "outputs": [],
   "source": [
    "import argparse\n",
    "\n",
    "parser = argparse.ArgumentParser(description='Process some integers.')\n",
    "parser.add_argument('integers', metavar='N', type=int, nargs='+',\n",
    "                    help='an integer for the accumulator')\n",
    "parser.add_argument('--sum', dest='accumulate', action='store_const',\n",
    "                    const=sum, default=max,\n",
    "                    help='sum the integers (default: find the max)')\n",
    "\n",
    "args = parser.parse_args()"
   ]
  },
  {
   "cell_type": "markdown",
   "metadata": {},
   "source": [
    "In summary, MLFlow can be used to register models on the MLFlow server. This will facilitate effortless model-sharing across a company."
   ]
  },
  {
   "cell_type": "markdown",
   "id": "0b86edde",
   "metadata": {},
   "source": [
    "## Conclusion\n",
    "At this point, you should have a good understanding of \n",
    "- MLFlow model registry and its important associated concepts.\n",
    "- the difference between experiments and models.\n",
    "- how to retrieve a model."
   ]
  }
 ],
 "metadata": {
  "kernelspec": {
   "display_name": "Python 3.9.0 64-bit",
   "language": "python",
   "name": "python3"
  },
  "language_info": {
   "codemirror_mode": {
    "name": "ipython",
    "version": 3
   },
   "file_extension": ".py",
   "mimetype": "text/x-python",
   "name": "python",
   "nbconvert_exporter": "python",
   "pygments_lexer": "ipython3",
   "version": "3.9.0"
  },
  "vscode": {
   "interpreter": {
    "hash": "aee8b7b246df8f9039afb4144a1f6fd8d2ca17a180786b69acc140d282b71a49"
   }
  }
 },
 "nbformat": 4,
 "nbformat_minor": 5
}
