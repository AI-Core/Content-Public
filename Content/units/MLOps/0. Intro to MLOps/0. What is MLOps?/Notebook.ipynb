{
 "cells": [
  {
   "cell_type": "markdown",
   "metadata": {},
   "source": [
    "# MLFlow\n",
    "\n",
    "## Introduction\n",
    "> __MLflow is an open-source platform for managing the end-to-end ML lifecycle.__\n",
    "\n",
    "Its offerings for managing ML experiments and deployment include the following:\n",
    "\n",
    "- ML-code packaging for reproducibility/sharing (dependencies, models, etc.).\n",
    "- Experiment tracking (compare results between runs).\n",
    "- Model deployment to various inference platforms.\n",
    "- A central store for MLFlow models (model versioning, stage transitions and annotations).\n",
    "\n",
    "> __MLFlow integrates with popular frameworks, such as `sklearn`, `pytorch` and `spark`.__\n",
    "\n",
    "> __It also provides APIs not only for `python`, but also for `R` and `java`__, as well as REST APIs/CLIs for other languages.\n",
    "\n",
    "Here, we will focus on Python and shell usage."
   ]
  },
  {
   "cell_type": "markdown",
   "metadata": {},
   "source": [
    "\n",
    "## Development Operations (Reminder)\n",
    "\n",
    "Development Operations (DevOps) is concerned with streamlining the building, testing and deployment of high-quality applications.\n",
    "\n",
    "### Key DevOps practices\n",
    "- Continuous integration.\n",
    "- Single source of truth for code and artifacts.\n",
    "- Continuous testing.\n",
    "- Definining infrastructure as code.\n",
    "- Observability and monitoring.\n",
    "- Bug reporting.\n",
    "- Security ops (DevSecOps).\n",
    "\n",
    "### Benefits of DevOps\n",
    "- Promotes automation (e.g. CI-CD).\n",
    "- Promotes the definition of repetitive processes (e.g code review).\n",
    "- Standardises development (e.g. code style guide)."
   ]
  },
  {
   "cell_type": "markdown",
   "metadata": {},
   "source": [
    "## DevOps vs MLOps\n",
    "\n",
    "> ML systems are fundamentally different from most other software systems because the solution often changes.\n",
    "\n",
    "Resultantly, ML projects are fraught with many unique challenges that are often absent in traditional software projects:\n",
    "\n",
    "- The programmer must keep track of what data produced what models.\n",
    "- The model outputs in production must be monitored.\n",
    "- Data drift must be monitored\n",
    "- Training is a necessity.\n",
    "- Retraining is required.\n",
    "- Experiments must be shared across teams.\n",
    "- Features must be shared across teams.\n",
    "\n",
    "These different parts of the AI stack can be streamlined through processes, documentation and tooling, which are the core functions of MLOps.\n",
    "\n",
    "MLOps is still in its infancy; thus, its definition is expected to evolve. Every tool used in the ML stack _could_, in theory, be considered an MLOps tool in that they streamline ML-system development. Currently, MLOps tools facilitate easy and rapid iteration through the ML model lifecycle, particularly after the model is put into production.\n",
    "\n",
    "Consider the below examples.\n",
    "- __Feature store__: a single location to store features that might be used across teams. It can, however, be costly to compute (for example, the average purchase size this year). \n",
    "- __Model registry__: similar to MLFlow's, it allows the movement of models into and out of production with a simple dropdown menu. \n",
    "- __Data versioning__: tools, such as DVC, help you to repeat experiments and track what worked best for different datasets as they constantly evolve.\n",
    "\n",
    "### Benefits of MLOps\n",
    "\n",
    "1. Relatively rapid project delivery:\n",
    "    - rapid handovers between teams.\n",
    "    - rapid onboarding of new team members.\n",
    "    - rapid issue resolution.\n",
    "    - project development starts quickly.\n",
    "<br><br>\n",
    "2. Standardisation: This promotes\n",
    "    - repeatability (everyone has a common language and uses the same ground-truth sources for data, features, models, etc.).\n",
    "    - explainability (it is easy to explain the pipeline if everyone is familiar with the same one).\n",
    "    - auditability (it is easy to identify weak points in a well-known pipeline).\n",
    "    - compliance (it is easy to check for anything if you know where to look).\n",
    "    - technical-debt reduction (the build-up of technical debt can be significantly reduced).\n",
    "<br><br>\n",
    "3. Breaking down silos between teams\n",
    "    - When MLOps processes are implemented, data scientists can focus on data science.\n",
    "    - In some companies, data scientists take up the role of data engineers and cloud engineers, simply because of the lack of MlOps processes. \n",
    "    - In other companies, data scientists 'throw the model over the wall' to the ML engineers, who deploy them by simply sending a Jupyter notebook. Jupyter notebooks cannot be put into production. Further, some ML engineers have complained about having to 'start from scratch', even when the data scientist has developed a proof of concept, which is highly inefficient. These inefficiencies can be eliminated by defining processes and specifications for these teams to interact."
   ]
  },
  {
   "cell_type": "markdown",
   "metadata": {},
   "source": [
    " In the subsequent lessons, we will explore the above in depth.\n"
   ]
  },
  {
   "cell_type": "markdown",
   "metadata": {},
   "source": [
    "## Conclusion\n",
    "At this point, you should have a good understanding of \n",
    "- MLFlow and its benefits\n",
    "- the differences between DevOps and MLOps."
   ]
  }
 ],
 "metadata": {
  "language_info": {
   "name": "python"
  }
 },
 "nbformat": 4,
 "nbformat_minor": 2
}
