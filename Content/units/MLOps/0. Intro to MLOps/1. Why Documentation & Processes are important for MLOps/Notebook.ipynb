{
 "cells": [
  {
   "cell_type": "markdown",
   "metadata": {},
   "source": [
    "# Documentation and Processes\n",
    "\n",
    "## Introduction\n",
    ">Although MLOps is focused on streamlining ML engineering processes, it is not all about new technology tools. Companies can achieve significant improvements by simply defining efficient working processes and flows.\n",
    "\n",
    "## Documentation\n",
    "\n",
    "> Documentation is any form of written material that describes the steps required to achieve a task or the working mechanism of a system.\n",
    "\n",
    "### Benefits\n",
    "- Reduces the time required for senior individuals to onboard juniors.\n",
    "- Reduces misinterpretation of tasks and roles.\n",
    "- Reduces dependency on knowledge siloed in individuals or individual teams.\n",
    "- Everyone shares a common language.\n",
    "\n",
    "Documentation is not only for code. These advantages are also applicable outside of programming.\n",
    "\n",
    "### Creating documentation\n",
    "\n",
    "There are many good platforms for creating documentation, including\n",
    "- GitHub pages\n",
    "- Notion\n",
    "- Confluence\n",
    "- Google Docs\n",
    "\n",
    "You can use whichever you prefer.\n",
    "\n",
    "### Things to document\n",
    "\n",
    "- Code workflow from development to production.\n",
    "- Bug-management workflow, including reporting and resolution.\n",
    "- Standard-operating procedures.\n",
    "- Organisational hierarchy.\n",
    "- How to access data.\n",
    "- Protocols for system failure.\n",
    "\n",
    "Every part of a business that relies on the knowledge of how something is done should be documented while applying the DRY (Don't repeat yourself) concept.\n",
    "\n",
    "Definitely, there are parts of or activities in a business that are 'self-documented', i.e. easy to comprehend without requiring complex or additional explanations. Some programming languages are self-documented, e.g. TypeScript. As a very simple example, writing the time of process meetings in your documentation would be unnecessary if it already appears in the calendar; however, you may include the purpose of the meeting to provide information on the regular agenda.\n",
    "    "
   ]
  },
  {
   "cell_type": "markdown",
   "metadata": {},
   "source": [
    "## Processes\n",
    "\n",
    "> Processes are the standard operating procedures known to every member of an organisation.\n",
    "\n",
    "*Example of standard processes*\n",
    "- Code review occurs mandatorily when a pull request is made to merge a separate branch into the main branch, and a senior engineer must sign off on it.\n",
    "- An operations-review meeting must be held __weekly__ to ensure the team is focusing on the right goals.\n",
    "- Objectives and key results (OKRs) must be scored weekly, on Fridays at 17:00.\n",
    "\n",
    "### Benefits\n",
    "- Provides structure.\n",
    "- Improves scalability and efficiency.\n",
    "- Processes are flexible; thus, they can be optimised over time, much like code.\n",
    "\n",
    "### Standardising and streamlining processes\n",
    "\n",
    "Firstly, it is important to note that process flows must be consistent (applied always) throughout an organisation.\n",
    "\n",
    "#### Benefits of standardisation\n",
    "- It is easy to grow accustomed to regular processes.\n",
    "- The delivery efficiency and performance of teams will improve over time.\n",
    "- The process can always be optimised.\n",
    "\n",
    "### Practical steps\n",
    "The following steps will aid you in identifying opportunities to streamline processes.\n",
    "- Draw a flowchart of your role. \n",
    "- Indicate each task with a box, and insert nodes between the boxes to indicate order. \n",
    "- Identify the unnecessary tasks.\n",
    "- Identify the tasks that can be automated. \n",
    "\n",
    "By doing this, you can quickly help your team focus on the important tasks while providing clear explanations for your suggested changes."
   ]
  },
  {
   "cell_type": "markdown",
   "metadata": {},
   "source": [
    "## Conclusion\n",
    "At this point, you should have a good understanding of \n",
    "- documentation and processes, as well as their benefits.\n",
    "- how to create documentation. \n",
    "- what to document. \n",
    "- how to standardise and streamline processes."
   ]
  }
 ],
 "metadata": {
  "language_info": {
   "name": "python"
  }
 },
 "nbformat": 4,
 "nbformat_minor": 2
}
