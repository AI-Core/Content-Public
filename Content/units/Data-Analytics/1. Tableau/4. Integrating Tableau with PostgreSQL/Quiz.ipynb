{
 "cells": [
  {
   "attachments": {},
   "cell_type": "markdown",
   "metadata": {},
   "source": [
    "# Integrating Tableau with PostgreSQL"
   ]
  },
  {
   "attachments": {},
   "cell_type": "markdown",
   "metadata": {},
   "source": [
    "## What is the purpose of the Postgres connector for Tableau, and what are some of its key features?\n",
    "\n",
    "- The Postgres connector for Tableau is used to connect Tableau to a PostgreSQL database, allowing users to easily access and analyze data stored in the database.\n",
    "- The Postgres connector for Tableau is a tool for migrating data from Tableau to a PostgreSQL database, allowing users to store and manage their Tableau data in a relational database\n",
    "- The Postgres connector for Tableau is a plugin that enables Tableau to natively connect to a PostgreSQL database, without the need for additional drivers or software ***\n",
    "- The Postgres connector for Tableau is a library of pre-built connectors for connecting Tableau to various PostgreSQL-based systems, such as Amazon Redshift, Heroku, and Greenplum"
   ]
  },
  {
   "attachments": {},
   "cell_type": "markdown",
   "metadata": {},
   "source": [
    "## Which of the following types of databases can you connect to using the Postgres connector in Tableau?\n",
    "\n",
    "- Only local PostgreSQL databases\n",
    "- Only MySQL databases\n",
    "-  Only Microsoft SQL Server databases\n",
    "- Local and cloud-based PostgreSQL databases ***"
   ]
  }
 ],
 "metadata": {
  "language_info": {
   "name": "python"
  },
  "orig_nbformat": 4
 },
 "nbformat": 4,
 "nbformat_minor": 2
}
