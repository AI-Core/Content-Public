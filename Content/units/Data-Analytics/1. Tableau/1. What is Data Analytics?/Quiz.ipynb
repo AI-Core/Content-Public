{
 "cells": [
  {
   "attachments": {},
   "cell_type": "markdown",
   "metadata": {},
   "source": [
    "# What is Data Analytics?"
   ]
  },
  {
   "attachments": {},
   "cell_type": "markdown",
   "metadata": {},
   "source": [
    "## What are the four main types of data analytics?\n",
    "\n",
    "- Predictive, Prescriptive, Diagnostic and Structured\n",
    "- Structured, Semi-Structured, Unstructured and Predictive\n",
    "- Descriptive, Diagnostic, Prescriptive and Predictive ***\n",
    "- Qualitative, Quantitative, Categorical and Structured"
   ]
  },
  {
   "attachments": {},
   "cell_type": "markdown",
   "metadata": {},
   "source": [
    "## Which of the following statements best describes descriptive analytics?\n",
    "\n",
    "- A type of data analysis that focuses on understanding the relationships between variables\n",
    "- A type of data analysis that uses statistical techniques to make predictions about future outcomes\n",
    "- A type of data analysis that summarizes and describes the main characteristics of a dataset ***\n",
    "- A type of data analysis that uses machine learning algorithms to identify patterns in data"
   ]
  },
  {
   "attachments": {},
   "cell_type": "markdown",
   "metadata": {},
   "source": [
    "## What is the main objective of diagnostic analytics?\n",
    "\n",
    "- To predict future outcomes based on historical data\n",
    "- To summarize and describe the main characteristics of a dataset\n",
    "- To identify the root cause of a problem or issue ***\n",
    "- To optimize business processes using machine learning algorithms"
   ]
  },
  {
   "attachments": {},
   "cell_type": "markdown",
   "metadata": {},
   "source": [
    "## What is the main goal of predictive analytics?\n",
    "\n",
    "- To summarize and describe the main characteristics of a dataset\n",
    "- To identify the root cause of a problem or issue\n",
    "- To make informed predictions about future outcomes ***\n",
    "- To optimize business processes using machine learning algorithms"
   ]
  },
  {
   "attachments": {},
   "cell_type": "markdown",
   "metadata": {},
   "source": [
    "## What is the main objective of prescriptive analytics?\n",
    "\n",
    "- To summarize and describe the main characteristics of a dataset\n",
    "- To identify the root cause of a problem or issue\n",
    "- To make informed predictions about future outcomes\n",
    "- To provide recommendations on the best course of action to achieve a desired outcome ***"
   ]
  }
 ],
 "metadata": {
  "language_info": {
   "name": "python"
  },
  "orig_nbformat": 4
 },
 "nbformat": 4,
 "nbformat_minor": 2
}
