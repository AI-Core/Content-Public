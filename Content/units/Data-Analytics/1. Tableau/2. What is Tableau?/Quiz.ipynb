{
 "cells": [
  {
   "attachments": {},
   "cell_type": "markdown",
   "metadata": {},
   "source": [
    "# What is Tableau?"
   ]
  },
  {
   "attachments": {},
   "cell_type": "markdown",
   "metadata": {},
   "source": [
    "## What is Tableau?\n",
    "\n",
    "- A programming language used for data analysis\n",
    "- A cloud-based storage platform for big data\n",
    "- A business intelligence and data visualization tool ***\n",
    "- A machine learning algorithm for predictive analytics"
   ]
  },
  {
   "attachments": {},
   "cell_type": "markdown",
   "metadata": {},
   "source": [
    "## What is Tableau Prep Builder?\n",
    "\n",
    "- A data cleaning and preparation tool ***\n",
    "- A data visualization tool\n",
    "- A cloud-based storage platform for big data\n",
    "- A machine learning algorithm for predictive analytics"
   ]
  },
  {
   "attachments": {},
   "cell_type": "markdown",
   "metadata": {},
   "source": [
    "## What is Tableau Server?\n",
    "\n",
    "- A cloud-based storage platform for big data\n",
    "- A business intelligence and data visualization tool\n",
    "- A data cleaning and preparation tool\n",
    "- A web-based platform for sharing and collaborating on Tableau content ***"
   ]
  },
  {
   "attachments": {},
   "cell_type": "markdown",
   "metadata": {},
   "source": [
    "## Which of the following Tableau products allows users to create and edit interactive dashboards and visualizations on their local computer?\n",
    "\n",
    "- Tableau Server\n",
    "- Tableau Online\n",
    "- Tableau Desktop ***\n",
    "- Tableau Public\n",
    "- Tableau Mobile"
   ]
  },
  {
   "attachments": {},
   "cell_type": "markdown",
   "metadata": {},
   "source": [
    "## Which Tableau product allows you to create and publish interactive dashboards and visualizations on the web, without requiring any software installation?\n",
    "\n",
    "- Tableau Desktop\n",
    "- Tableau Server\n",
    "- Tableau Online ***\n",
    "- Tableau Mobile\n",
    "- Tableau Public"
   ]
  },
  {
   "attachments": {},
   "cell_type": "markdown",
   "metadata": {},
   "source": [
    "## Which of the following is a key difference between Tableau Desktop, Server, Online, Mobile, and Public?\n",
    "\n",
    "- The type of data sources they can connect to\n",
    "- The type of devices they can be used on\n",
    "- The level of access to features and functionality ***\n",
    "- The type of security and privacy controls available"
   ]
  },
  {
   "attachments": {},
   "cell_type": "markdown",
   "metadata": {},
   "source": [
    "## Which of the following is a key feature of Tableau?\n",
    "\n",
    "- Data cleaning and preparation tools\n",
    "- Interactive dashboards and visualizations ***\n",
    "- Cloud-based storage for big data\n",
    "- Machine learning algorithms for predictive analytics"
   ]
  }
 ],
 "metadata": {
  "language_info": {
   "name": "python"
  },
  "orig_nbformat": 4
 },
 "nbformat": 4,
 "nbformat_minor": 2
}
