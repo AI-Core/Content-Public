{
 "cells": [
  {
   "attachments": {},
   "cell_type": "markdown",
   "metadata": {},
   "source": [
    "# Create Tableau Dashboards"
   ]
  },
  {
   "attachments": {},
   "cell_type": "markdown",
   "metadata": {},
   "source": [
    "## Which of the following statements is true about data source connections in Tableau?\n",
    "\n",
    "- Tableau can only connect to cloud-based data sources\n",
    "- Tableau can only connect to one data source at a time\n",
    "- Tableau can connect to a variety of data sources, including spreadsheets, databases, and cloud services ***\n",
    "- Tableau can only connect to data sources that are located on the same computer as the Tableau software"
   ]
  },
  {
   "attachments": {},
   "cell_type": "markdown",
   "metadata": {},
   "source": [
    "## Which of the following statements about views, worksheets, dashboards, and stories in Tableau is NOT true?\n",
    "\n",
    "- A view in Tableau is a visualization of a single worksheet ***\n",
    "- A worksheet in Tableau contains a single chart or graph\n",
    "- A dashboard in Tableau can contain multiple worksheets and visualizations\n",
    "- A story in Tableau is a collection of dashboards that work together to tell a narrative\n",
    "\n"
   ]
  },
  {
   "attachments": {},
   "cell_type": "markdown",
   "metadata": {},
   "source": [
    "## Which of the following statements is true about views, worksheets, dashboards, and stories in Tableau?\n",
    "\n",
    "- Views, worksheets, dashboards, and stories are all the same thing\n",
    "- Views are the building blocks of worksheets, which can be combined into dashboards, and stories are a type of worksheet ***\n",
    "- Worksheets are the building blocks of views, which can be combined into dashboards, and stories are a type of dashboard\n",
    "- Dashboards are the building blocks of views, which can be combined into worksheets, and stories are a type of view"
   ]
  },
  {
   "attachments": {},
   "cell_type": "markdown",
   "metadata": {},
   "source": [
    "## What is the Data and Analytics pane in Tableau used for?\n",
    "\n",
    "- To view and manage data sources\n",
    "- To create and manage calculations, parameters, and sets ***\n",
    "- To apply filters and sorting to data\n",
    "- To create and edit visualizations and dashboards"
   ]
  },
  {
   "attachments": {},
   "cell_type": "markdown",
   "metadata": {},
   "source": [
    "## Which of the following is NOT a type of field in the Data pane in Tableau?\n",
    "\n",
    "- Dimension\n",
    "- Measure\n",
    "- Attribute ***\n",
    "- Calculated"
   ]
  },
  {
   "attachments": {},
   "cell_type": "markdown",
   "metadata": {},
   "source": [
    "## What is the purpose of using pages, filters, and marks in Tableau?\n",
    "\n",
    "- To control the data that is displayed in a view ***\n",
    "- To create interactive visualizations with drill-down capabilities\n",
    "- To add color and other visual elements to a chart\n",
    "- To format the view for printing or exporting"
   ]
  },
  {
   "attachments": {},
   "cell_type": "markdown",
   "metadata": {},
   "source": [
    "## What are the three primary shelves in the Tableau workspace that are used to create views?\n",
    "\n",
    "- Pages, Filters, and Marks ***\n",
    "- Columns, Rows, and Marks\n",
    "- Data, Dimensions, and Measures\n",
    "- Analytics, Colors, and Labels"
   ]
  },
  {
   "attachments": {},
   "cell_type": "markdown",
   "metadata": {},
   "source": [
    "## What are Pages, Filters, and Marks in Tableau, and how do they interact with each other?\n",
    "\n",
    "- Pages are used to create multi-page reports, filters are used to limit the data displayed, and marks are used to define the individual data points in a view\n",
    "- Pages are used to create animations, filters are used to define hierarchies, and marks are used to create custom calculations\n",
    "- Pages are used to define hierarchies, filters are used to limit the data displayed, and marks are used to define the color and shape of data points\n",
    "- Pages are used to filter data based on time, filters are used to limit the data displayed, and marks are used to define the color, size, shape, and label of data points ***"
   ]
  },
  {
   "attachments": {},
   "cell_type": "markdown",
   "metadata": {},
   "source": [
    "## What are some of the different types of charts available in Tableau, and how are they typically used to represent data?\n",
    "\n",
    "- Bar charts, line charts, and scatterplots, which are used to show relationships between variables and patterns in the data\n",
    "- Pie charts, donut charts, and stacked bar charts, which are used to show parts of a whole or proportions of different categories\n",
    "- Gantt charts, bullet charts, and heatmaps, which are used to show progress, performance, and patterns over time or across different dimensions\n",
    "- All of the above ***"
   ]
  }
 ],
 "metadata": {
  "language_info": {
   "name": "python"
  },
  "orig_nbformat": 4
 },
 "nbformat": 4,
 "nbformat_minor": 2
}
