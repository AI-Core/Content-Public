{
 "cells": [
  {
   "attachments": {},
   "cell_type": "markdown",
   "metadata": {},
   "source": [
    "# Data Visualisation"
   ]
  },
  {
   "attachments": {},
   "cell_type": "markdown",
   "metadata": {},
   "source": [
    "## Which of the following best describes the purpose of Exploratory Data Analysis (EDA)?\n",
    "\n",
    "- To predict the future trends in data\n",
    "- To confirm a hypothesis or preconceived notion about the data\n",
    "- To uncover underlying patterns, relationships, and anomalies in the data ***\n",
    "- To visualize data in a presentable format for reports"
   ]
  },
  {
   "attachments": {},
   "cell_type": "markdown",
   "metadata": {},
   "source": [
    "## What is a choropleth map?\n",
    "\n",
    "- A map that shows the density of population in a region\n",
    "- A map that shows the distribution of temperature across different locations\n",
    "- A map that shows the topographical features of a region\n",
    "- A map that shows the distribution of a variable across geographic areas ***"
   ]
  },
  {
   "attachments": {},
   "cell_type": "markdown",
   "metadata": {},
   "source": [
    "## What is the best way to visualize categorical data?\n",
    "\n",
    "- Scatter plot\n",
    "- Histogram\n",
    "- Bar chart ***\n",
    "- Box plot"
   ]
  },
  {
   "attachments": {},
   "cell_type": "markdown",
   "metadata": {},
   "source": [
    "## What type of data is best suited for a histogram?\n",
    "\n",
    "- Categorical data\n",
    "- Continuous data ***\n",
    "- Discrete data\n",
    "- Ordinal data"
   ]
  },
  {
   "attachments": {},
   "cell_type": "markdown",
   "metadata": {},
   "source": [
    "## What type of data is best suited for a scatterplot?\n",
    "\n",
    "- Categorical data\n",
    "- Continuous data ***\n",
    "- Discrete data\n",
    "- Nominal data"
   ]
  },
  {
   "attachments": {},
   "cell_type": "markdown",
   "metadata": {},
   "source": [
    "## What are Sankey diagrams used for?\n",
    "\n",
    "- Displaying the relationships between variables in a dataset\n",
    "- Showing the flow of energy or resources between different stages of a system ***\n",
    "- Visualizing the distribution of a variable across a geographic area\n",
    "- Comparing the frequencies or counts of different categories"
   ]
  }
 ],
 "metadata": {
  "language_info": {
   "name": "python"
  },
  "orig_nbformat": 4
 },
 "nbformat": 4,
 "nbformat_minor": 2
}
