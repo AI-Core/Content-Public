{
 "cells": [
  {
   "attachments": {},
   "cell_type": "markdown",
   "metadata": {},
   "source": [
    "# Null Values and Imputation"
   ]
  },
  {
   "attachments": {},
   "cell_type": "markdown",
   "metadata": {},
   "source": [
    "## Which of the following is NOT a viable strategy for handling null values?\n",
    "\n",
    "- Do nothing\n",
    "- Drop the missing data points\n",
    "- Impute the missing data points\n",
    "- Drop the entire variable\n",
    "- None of the above - they are all valid! ***"
   ]
  },
  {
   "attachments": {},
   "cell_type": "markdown",
   "metadata": {},
   "source": [
    "## Which of the following is NOT likely to be an example of a null value?\n",
    "\n",
    "- A value of `NaN` in a numeric column\n",
    "- An empty string in a column of text data\n",
    "- The word `NULL`, formatted as a string, in a column of text data.\n",
    "- A `0` in a column of continuous numeric data ***\n"
   ]
  },
  {
   "attachments": {},
   "cell_type": "markdown",
   "metadata": {},
   "source": [
    "## In which of the following scenarios would dropping the entire column be the best solution to handling null values? \n",
    "\n",
    "- Around 70% of the values in the column are `NaN` ***\n",
    "- Approximately 5% of the values in the column are `NaN`\n",
    "- The variable is highly correlated with the target variable you are trying to model\n",
    "- The column is quite highly correlated with several other of the independent variables in the dataset.\n"
   ]
  },
  {
   "attachments": {},
   "cell_type": "markdown",
   "metadata": {},
   "source": [
    "## Which of the following is NOT a common method of handling missing data in a dataset?\n",
    "\n",
    "- Drop rows with missing values\n",
    "- Impute missing values with the mean\n",
    "- Transform missing values to a new category (for categorical variables)\n",
    "- Replace missing values with the mode of the column\n",
    "- Replace all missing values with zero ***"
   ]
  },
  {
   "attachments": {},
   "cell_type": "markdown",
   "metadata": {},
   "source": [
    "## In the context of handling missing data, what does MICE stand for?\n",
    "\n",
    "- Multiple Imputation by Chained Equations ***\n",
    "- Missing Information by Chained Equations\n",
    "- Missing Imputation by Causal Estimation\n",
    "- None of the above"
   ]
  },
  {
   "attachments": {},
   "cell_type": "markdown",
   "metadata": {},
   "source": [
    "## What is the term for the type of missing data where the probability of missingness depends on other observed variables, but not on the variable itself?\n",
    "\n",
    "- Missing completely at random (MCAR)\n",
    "- Missing at random (MAR) ***\n",
    "- Not missing at random (NMAR)\n",
    "- None of the above"
   ]
  },
  {
   "attachments": {},
   "cell_type": "markdown",
   "metadata": {},
   "source": [
    "## Which type of missing data does not bias the inferences made?\n",
    "\n",
    "- Missing at Random (MAR)\n",
    "- Not Missing at Random (NMAR)\n",
    "- Missing Completely at Random (MCAR) ***\n",
    "- Both Missing at Random (MAR) and Not Missing at Random (NMAR)\n",
    "- None of the above"
   ]
  },
  {
   "attachments": {},
   "cell_type": "markdown",
   "metadata": {},
   "source": [
    "## If a large proportion of values for a variable are missing, which of the following might be the most sensible course of action?\n",
    "\n",
    "- Impute the missing values with mean\n",
    "- Remove the rows with missing values\n",
    "- Drop the variable entirely ***\n",
    "- Apply complex statistical techniques\n"
   ]
  },
  {
   "attachments": {},
   "cell_type": "markdown",
   "metadata": {},
   "source": [
    "## For which type of missing data are complex statistical techniques needed to impute missing values?\n",
    "\n",
    "- Missing Completely at Random (MCAR)\n",
    "- Missing at Random (MAR)\n",
    "- Not Missing at Random (NMAR) ***\n",
    "- None of the above"
   ]
  },
  {
   "attachments": {},
   "cell_type": "markdown",
   "metadata": {},
   "source": [
    "## What kind of imputation method is useful if there's a logical default value for missing data?\n",
    "\n",
    "- Mean/Median/Mode Imputation\n",
    "- Constant Value Imputation ***\n",
    "- Regression Imputation\n",
    "- K-Nearest Neighbors (KNN) Imputation\n",
    "- Multiple Imputation by Chained Equations (MICE)"
   ]
  },
  {
   "attachments": {},
   "cell_type": "markdown",
   "metadata": {},
   "source": [
    "## Which imputation method is more complex and computationally expensive but can produce better results?\n",
    "\n",
    "- Mean/Median/Mode Imputation\n",
    "- Constant Value Imputation\n",
    "- Regression Imputation\n",
    "- K-Nearest Neighbors (KNN) Imputation\n",
    "- Multiple Imputation by Chained Equations (MICE) ***"
   ]
  }
 ],
 "metadata": {
  "language_info": {
   "name": "python"
  },
  "orig_nbformat": 4
 },
 "nbformat": 4,
 "nbformat_minor": 2
}
