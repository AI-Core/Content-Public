{
 "cells": [
  {
   "attachments": {},
   "cell_type": "markdown",
   "metadata": {},
   "source": [
    "# Common Visualisation Types\n",
    "\n",
    "\n",
    "\n"
   ]
  },
  {
   "attachments": {},
   "cell_type": "markdown",
   "metadata": {},
   "source": [
    "## Which of the following is a disadvantage of using Plotly for data visualization?\n",
    "- Inability to create 3D plots\n",
    "- Limited community support and resources\n",
    "- Less compatible with other popular Python libraries compared to other plotting packages ***\n",
    "- Lack of attractive default styles and color palettes"
   ]
  },
  {
   "attachments": {},
   "cell_type": "markdown",
   "metadata": {},
   "source": [
    "## Which Python library excels in creating interactive plots?\n",
    "- Matplotlib\n",
    "- Seaborn\n",
    "- Plotly ***\n",
    "- Pandas\n"
   ]
  },
  {
   "attachments": {},
   "cell_type": "markdown",
   "metadata": {},
   "source": [
    "## What is one of the primary advantages of using Seaborn for data visualization?\n",
    "- High degree of customization\n",
    "- Ability to create interactive plots\n",
    "- Seamless web integration\n",
    "- Simplified syntax and attractive default styles and color palettes ***"
   ]
  },
  {
   "attachments": {},
   "cell_type": "markdown",
   "metadata": {},
   "source": [
    "## What is a key disadvantage of using Matplotlib for data visualization?\n",
    "- Advanced or aesthetically pleasing plots can be complex to generate, and may require many lines of code ***\n",
    "- Incompatibility with other Python libraries\n",
    "- Limited community support and resources\n",
    "- Inability to create statistical graphics"
   ]
  },
  {
   "attachments": {},
   "cell_type": "markdown",
   "metadata": {},
   "source": [
    "## What is the main purpose of using univariate plots in exploratory data analysis?\n",
    "- They allow for the comparison of multiple distributions simultaneously\n",
    "- They can handle large data sets well\n",
    "- They provide insights into the characteristics of a single variable, including its central tendencies, dispersion, and shape ***\n",
    "- They are not affected by extreme values in the data"
   ]
  },
  {
   "attachments": {},
   "cell_type": "markdown",
   "metadata": {},
   "source": [
    "## Which of the following statements is true about a box-and-whiskers plot?\n",
    "- It shows the shape of the distribution of data\n",
    "- It cannot display the summary statistics of a distribution\n",
    "- It is always suitable for displaying the distribution of categorical data\n",
    "- It provides a visual display of the full range of the data, including median, quartiles, and potential outliers ***"
   ]
  },
  {
   "attachments": {},
   "cell_type": "markdown",
   "metadata": {},
   "source": [
    "## What kind of data visualization would be most suitable for showing the probability density function of a variable?\n",
    "- Q-Q Plot\n",
    "- Box-and-whiskers plot\n",
    "- Kernel Density Estimate (KDE) plot ***\n",
    "- Bar chart"
   ]
  },
  {
   "attachments": {},
   "cell_type": "markdown",
   "metadata": {},
   "source": [
    "## What could be a potential disadvantage of using a box-and-whiskers plot?\n",
    "- They do not show the shape of the distribution ***\n",
    "- They cannot be used for both continuous and discrete data\n",
    "- They can look very different depending on the number of bins used\n",
    "- None of the above\n"
   ]
  },
  {
   "attachments": {},
   "cell_type": "markdown",
   "metadata": {},
   "source": [
    "## Which of the following statements best describes a violin plot?\n",
    "\n",
    "- A violin plot is a type of plot that only represents the quartiles of data and potential outliers.\n",
    "- A violin plot is a simplified version of a boxplot, ideal for smaller sample sizes.\n",
    "- A violin plot is a plot that combines aspects of a boxplot and a kernel density plot, often used to display distributions across different categories. ***\n",
    "- A violin plot is a plot that is best used for categorical data, as it doesn't accurately display the full distribution of numerical data."
   ]
  },
  {
   "attachments": {},
   "cell_type": "markdown",
   "metadata": {},
   "source": [
    "## Scatter plots are typically used to display the relationship between which types of variables?\n",
    "\n",
    "- Two categorical variables\n",
    "- Two continuous numerical variables ***\n",
    "- A categorical and a numerical variable\n",
    "- A single variable and a theoretical distribution\n"
   ]
  },
  {
   "attachments": {},
   "cell_type": "markdown",
   "metadata": {},
   "source": [
    "## One of the effective uses of scatter plots in EDA is identifying which of the following?\n",
    "\n",
    "- Outliers ***\n",
    "- The mode of a dataset\n",
    "- The range of a dataset\n",
    "- The count of values in a dataset"
   ]
  },
  {
   "attachments": {},
   "cell_type": "markdown",
   "metadata": {},
   "source": [
    "## True or False: Bivariate plots only allow analysts to discern linear relationships between variables.\n",
    "\n",
    "- True\n",
    "- False ***"
   ]
  },
  {
   "attachments": {},
   "cell_type": "markdown",
   "metadata": {},
   "source": [
    "## Which of the following is NOT an advantage of a correlation matrix?\n",
    "\n",
    "- It provides a quick overview of correlations between variables.\n",
    "- It is useful for identifying highly correlated variables for feature selection.\n",
    "- It helps to detect collinearity issues which could affect certain modeling techniques.\n",
    "- It is effective for capturing non-linear relationships between variables. ***"
   ]
  },
  {
   "attachments": {},
   "cell_type": "markdown",
   "metadata": {},
   "source": [
    "## True or False: Correlation matrices are suitable for analyzing relationships between nominal categorical variables.\n",
    "\n",
    "- True\n",
    "- False ***"
   ]
  },
  {
   "cell_type": "markdown",
   "metadata": {},
   "source": []
  }
 ],
 "metadata": {
  "language_info": {
   "name": "python"
  },
  "orig_nbformat": 4
 },
 "nbformat": 4,
 "nbformat_minor": 2
}
