{
 "cells": [
  {
   "attachments": {},
   "cell_type": "markdown",
   "metadata": {},
   "source": [
    "# Skewed Data"
   ]
  },
  {
   "attachments": {},
   "cell_type": "markdown",
   "metadata": {},
   "source": [
    "## In a positively skewed distribution, which is true?\n",
    "\n",
    "- The right tail is shorter than the left\n",
    "- The mean and the median are less than the mode\n",
    "- The left tail is longer than the right\n",
    "- The mean and the median are greater than the mode ***\n",
    "- The distribution is symmetric\n"
   ]
  },
  {
   "attachments": {},
   "cell_type": "markdown",
   "metadata": {},
   "source": [
    "## In a negatively skewed distribution, which is true?\n",
    "\n",
    "- The left tail is shorter than the right\n",
    "- The mean and the median are greater than the mode\n",
    "- The right tail is longer than the left\n",
    "- The mean and the median are less than the mode ***\n",
    "- The distribution is symmetric"
   ]
  },
  {
   "attachments": {},
   "cell_type": "markdown",
   "metadata": {},
   "source": [
    "## Many statistical techniques assume that the data is:\n",
    "\n",
    "- Positively skewed\n",
    "- Negatively skewed\n",
    "- Normally distributed (i.e. not skewed) ***\n",
    "- Skewed, but it does not matter whether it is positively or negatively skewed\n",
    "- Not distributed"
   ]
  },
  {
   "attachments": {},
   "cell_type": "markdown",
   "metadata": {},
   "source": [
    "## If the skewness of a distribution is close to zero, this suggests that the data is:\n",
    "\n",
    "- Positively skewed\n",
    "- Negatively skewed\n",
    "- Approximately symmetric ***\n",
    "- Highly skewed\n",
    "- Impossible to determine without further information"
   ]
  },
  {
   "attachments": {},
   "cell_type": "markdown",
   "metadata": {},
   "source": [
    "## If many statistical techniques assume normal distribution of data, and the data is skewed, one might consider...\n",
    "\n",
    "- Ignoring the skewness and proceed with the analysis\n",
    "- Transforming the data or considering non-parametric methods ***\n",
    "- Increasing the sample size to eliminate skewness\n",
    "- Changing the statistical techniques to ones that require skewness\n",
    "- None of the above"
   ]
  },
  {
   "attachments": {},
   "cell_type": "markdown",
   "metadata": {},
   "source": [
    "## What does a Q-Q plot (Quantile-Quantile plot) help to assess?\n",
    "\n",
    "- If a dataset follows a particular theoretical distribution ***\n",
    "- The skewness of a dataset\n",
    "- The kurtosis of a dataset\n",
    "- The correlation between two datasets\n",
    "- None of the above"
   ]
  },
  {
   "attachments": {},
   "cell_type": "markdown",
   "metadata": {},
   "source": [
    "## What are plotted on the x and y axes of a Q-Q plot?\n",
    "\n",
    "- Theoretical quantiles on one axis and actual data quantiles on the other axis ***\n",
    "- Mean on x-axis and standard deviation on y-axis\n",
    "- Theoretical quantiles on both axes\n",
    "- Skew on one axis and Kurtosis on the other\n",
    "- None of the above"
   ]
  },
  {
   "attachments": {},
   "cell_type": "markdown",
   "metadata": {},
   "source": [
    "## In a Q-Q plot, if the points roughly lie along a straight diagonal line, it suggests that:\n",
    "\n",
    "- The dataset is normally distributed but skewed\n",
    "- The chosen distribution is not appropriate for the data\n",
    "- The chosen distribution is appropriate for the data ***\n",
    "- There is a high degree of correlation between the two datasets\n",
    "- None of the above"
   ]
  },
  {
   "attachments": {},
   "cell_type": "markdown",
   "metadata": {},
   "source": [
    "## Due to the Central Limit Theorem (CLT), for large samples sizes:\n",
    "\n",
    "- Parametric tests that assume normality can still provide valid results even with skewed data ***\n",
    "- Only non-parametric tests should be used\n",
    "- Data transformations are always necessary\n",
    "- The distribution of sample means will always be skewed\n",
    "- None of the above"
   ]
  },
  {
   "attachments": {},
   "cell_type": "markdown",
   "metadata": {},
   "source": [
    "## During an EDA project, how might you handle data when the sample size is small and the data is significantly skewed?\n",
    "\n",
    "- Increase the sample size\n",
    "- Use data transformations to make the data more symmetric or use non-parametric techniques ***\n",
    "- Ignore the skewness and proceed with analysis\n",
    "- None of the above\n"
   ]
  },
  {
   "attachments": {},
   "cell_type": "markdown",
   "metadata": {},
   "source": [
    "## What is the Log Transform commonly used for?\n",
    "\n",
    "- Correcting left-skewed data\n",
    "- Correcting right-skewed data ***\n",
    "- Ignoring the effect of outliers\n",
    "- None of the above"
   ]
  },
  {
   "attachments": {},
   "cell_type": "markdown",
   "metadata": {},
   "source": [
    "## Which statement is correct regarding the Box-Cox Transformation?\n",
    "\n",
    "- The log transform is a special case of the Box-Cox transform where λ = 1\n",
    "- The log transform is a special case of the Box-Cox transform where λ = 0 ***\n",
    "- The Box-Cox transformation cannot stabilize variance\n",
    "- None of the above"
   ]
  },
  {
   "attachments": {},
   "cell_type": "markdown",
   "metadata": {},
   "source": [
    "## What kind of data can the Box-Cox Transform be applied to?\n",
    "\n",
    "- Only negative data\n",
    "- Only zero values\n",
    "- Only positive data ***\n",
    "- All of the above"
   ]
  },
  {
   "attachments": {},
   "cell_type": "markdown",
   "metadata": {},
   "source": [
    "## Why might one choose the Box-Cox transformation over the Yeo-Johnson transformation, despite the latter's ability to handle negative values?\n",
    "\n",
    "- Because the Box-Cox transformation is more suitable for count-type data\n",
    "- Because the Box-Cox transformation is simpler and more straightforward, which can make results more intuitive and easier to interpret ***\n",
    "- Because the Yeo-Johnson transformation requires a smaller λ parameter\n",
    "- Because the Box-Cox transformation doesn't require data to be positive"
   ]
  },
  {
   "attachments": {},
   "cell_type": "markdown",
   "metadata": {},
   "source": [
    "## In which case would the Yeo-Johnson transformation be more suitable than the Box-Cox transformation?\n",
    "\n",
    "- When the data contains both positive and negative values ***\n",
    "- When the data is positively skewed\n",
    "- When the data is count-type data\n",
    "- When the data contains only positive values"
   ]
  }
 ],
 "metadata": {
  "language_info": {
   "name": "python"
  },
  "orig_nbformat": 4
 },
 "nbformat": 4,
 "nbformat_minor": 2
}
