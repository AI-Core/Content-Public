{
 "cells": [
  {
   "attachments": {},
   "cell_type": "markdown",
   "metadata": {},
   "source": [
    "## Which of the following is NOT a characteristic of tidy data?\n",
    "\n",
    "- Each variable forms a column\n",
    "- Each observation forms a row\n",
    "- Each type of observational unit forms a table\n",
    "- Each value is a unique identifier ***"
   ]
  },
  {
   "cell_type": "markdown",
   "metadata": {},
   "source": []
  }
 ],
 "metadata": {
  "language_info": {
   "name": "python"
  },
  "orig_nbformat": 4
 },
 "nbformat": 4,
 "nbformat_minor": 2
}
