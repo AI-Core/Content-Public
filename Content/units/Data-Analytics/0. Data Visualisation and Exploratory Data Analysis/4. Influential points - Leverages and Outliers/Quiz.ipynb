{
 "cells": [
  {
   "attachments": {},
   "cell_type": "markdown",
   "metadata": {},
   "source": [
    "# Influential points- Leverages and Outliers"
   ]
  },
  {
   "attachments": {},
   "cell_type": "markdown",
   "metadata": {},
   "source": [
    "## Which of the following statements is true about leverages and outliers in regression analysis?\n",
    "\n",
    "- Outliers and leverages have the same effect on the regression model\n",
    "- Outliers and leverages have different effects on the regression model ***\n",
    "- Outliers are always leverages, but leverages are not always outliers\n",
    "- Leverages are always outliers, but outliers are not always leverages"
   ]
  },
  {
   "attachments": {},
   "cell_type": "markdown",
   "metadata": {},
   "source": [
    "## Which of the following statements best describes what is meant by leverages in regression analysis?\n",
    "\n",
    "- Leverages refer to extreme values in the dependent variable that have a large influence on the regression model\n",
    "- Leverages refer to extreme values in the independent variable that have a large influence on the regression model ***\n",
    "- Leverages refer to the degree to which the values of the independent variable are spread out or concentrated in a particular region of the data\n",
    "- Leverages refer to the degree to which the values of the dependent variable are spread out or concentrated in a particular region of the data"
   ]
  },
  {
   "attachments": {},
   "cell_type": "markdown",
   "metadata": {},
   "source": [
    "## Which of the following types of plots are typically used to identify influential observations in a regression analysis?\n",
    "\n",
    "- QQ-plots and residual plots\n",
    "- Box plots and scatter plots ***\n",
    "- Residual plots and histograms\n",
    "- Histograms and density plots"
   ]
  },
  {
   "attachments": {},
   "cell_type": "markdown",
   "metadata": {},
   "source": [
    "## Which of the following statements best describes what happens to the R-squared value when outliers are removed from a regression model?\n",
    "\n",
    "- R-squared will always decrease when outliers are removed from a regression model\n",
    "- R-squared will always increase when outliers are removed from a regression model\n",
    "- R-squared may increase or decrease when outliers are removed from a regression model, depending on the specific data and regression model ***\n",
    "- R-squared is not affected by the presence or absence of outliers in a regression model"
   ]
  }
 ],
 "metadata": {
  "language_info": {
   "name": "python"
  },
  "orig_nbformat": 4
 },
 "nbformat": 4,
 "nbformat_minor": 2
}
