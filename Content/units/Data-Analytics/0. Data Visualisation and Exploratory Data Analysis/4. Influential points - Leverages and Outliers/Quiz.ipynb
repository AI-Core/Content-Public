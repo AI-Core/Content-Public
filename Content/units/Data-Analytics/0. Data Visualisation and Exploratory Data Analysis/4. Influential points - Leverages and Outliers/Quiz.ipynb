{
 "cells": [
  {
   "attachments": {},
   "cell_type": "markdown",
   "metadata": {},
   "source": [
    "# Influential points- Leverages and Outliers"
   ]
  },
  {
   "attachments": {},
   "cell_type": "markdown",
   "metadata": {},
   "source": [
    "## True or False: Outliers in the y-dimension (dependent variable) are generally more severe than outliers in the x-dimension (independent variable) in terms of their impact on statistical models.\n",
    "\n",
    "- True\n",
    "- False ***"
   ]
  },
  {
   "attachments": {},
   "cell_type": "markdown",
   "metadata": {},
   "source": [
    "## What is the primary characteristic of a leverage point?\n",
    "\n",
    "- It has a small effect on the regression line\n",
    "- It is close to the mean of the predictor variables\n",
    "- It has an outsized influence on the statistical model due to its position in the independent variable distribution ***\n",
    "- It is always an outlier in both the x and y dimensions simultaneously"
   ]
  },
  {
   "attachments": {},
   "cell_type": "markdown",
   "metadata": {},
   "source": [
    "## Why do leverage points have a strong influence on statistical models?\n",
    "\n",
    "- They have a small distance from other data points\n",
    "- They do not affect the slope and intercept of the regression line\n",
    "- Their extreme position in the predictor variables can pull or influence the regression line significantly ***\n",
    "- They always have a high residual value"
   ]
  },
  {
   "attachments": {},
   "cell_type": "markdown",
   "metadata": {},
   "source": [
    "## True or False: Leverage points can affect the regression line even if their response value (Y-value) is in line with the trend.\n",
    "\n",
    "- True ***\n",
    "- False"
   ]
  },
  {
   "cell_type": "markdown",
   "metadata": {},
   "source": [
    "## What is a characteristic of outliers in a box plot?\n",
    "\n",
    "- They are always within the whiskers\n",
    "- They are never displayed individually\n",
    "- They lie outside the whiskers and can be easily identified ***\n",
    "- They are part of the main cluster of data"
   ]
  },
  {
   "cell_type": "markdown",
   "metadata": {},
   "source": [
    "## True or False: The Z-Score is a statistical measurement that describes a data point's position relative to the median of a group of values.\n",
    "\n",
    "- True\n",
    "- False ***"
   ]
  },
  {
   "cell_type": "markdown",
   "metadata": {},
   "source": [
    "## What does the Interquartile Range (IQR) consider as outliers?\n",
    "\n",
    "- Values below the first quartile minus 1.5 times the IQR ***\n",
    "- Values above the first quartile plus 1.5 times the IQR\n",
    "- Values outside the range of the mean\n",
    "- Values within the third quartile"
   ]
  },
  {
   "cell_type": "markdown",
   "metadata": {},
   "source": [
    "##  True or False: Isolation Forest is a proximity-based method that relies on specifying the number of clusters beforehand.\n",
    "\n",
    "- True\n",
    "- False ***"
   ]
  },
  {
   "cell_type": "markdown",
   "metadata": {},
   "source": [
    "## What does MAD measure?\n",
    "\n",
    "- The mean of absolute deviations\n",
    "- The median of squared deviations\n",
    "- The median of absolute deviations ***\n",
    "- The standard deviation"
   ]
  },
  {
   "cell_type": "markdown",
   "metadata": {},
   "source": [
    "## True or False: Robust regression techniques, like RANSAC, are designed to fit models to data while being sensitive to outliers.\n",
    "\n",
    "- True\n",
    "- False ***"
   ]
  },
  {
   "cell_type": "markdown",
   "metadata": {},
   "source": [
    "## True or False: Categorical outliers are easily detectable through algorithmic methods.\n",
    "\n",
    "- True \n",
    "- False ***"
   ]
  },
  {
   "cell_type": "markdown",
   "metadata": {},
   "source": [
    "## What is one of the simplest ways to detect outliers in categorical data?\n",
    "\n",
    "- Regression Analysis ***\n",
    "- Frequency Analysis\n",
    "- Z-Score Calculation\n",
    "- Interquartile Range (IQR)"
   ]
  },
  {
   "cell_type": "markdown",
   "metadata": {},
   "source": [
    "## What role does domain knowledge play in identifying categorical outliers?\n",
    "\n",
    "- It has no impact on outlier detection\n",
    "- It helps in understanding the context and identifying potential outliers ***\n",
    "- It replaces statistical methods for outlier detection\n",
    "- It is only useful for numerical data"
   ]
  },
  {
   "cell_type": "markdown",
   "metadata": {},
   "source": [
    "## True or False: Resampling is a technique that can be applied to detect categorical outliers in a dataset.\n",
    "\n",
    "- True ***\n",
    "- False"
   ]
  }
 ],
 "metadata": {
  "language_info": {
   "name": "python"
  },
  "orig_nbformat": 4
 },
 "nbformat": 4,
 "nbformat_minor": 2
}
