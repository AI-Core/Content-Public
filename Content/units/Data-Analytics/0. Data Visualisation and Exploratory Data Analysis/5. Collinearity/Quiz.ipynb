{
 "cells": [
  {
   "attachments": {},
   "cell_type": "markdown",
   "metadata": {},
   "source": [
    "# Multicollinearity"
   ]
  },
  {
   "attachments": {},
   "cell_type": "markdown",
   "metadata": {},
   "source": [
    "## What is collinearity in statistical analysis?\n",
    "\n",
    "- The presence of multiple dependent variables in a regression model\n",
    "- The existence of correlation among independent variables in a regression model ***\n",
    "- The use of multiple regression models to analyze a single dataset\n",
    "- The presence of outliers in a regression model"
   ]
  },
  {
   "attachments": {},
   "cell_type": "markdown",
   "metadata": {},
   "source": [
    "## What is perfect collinearity in regression analysis?\n",
    "\n",
    "- The existence of correlation among independent variables in a regression model\n",
    "- The presence of outliers in a regression model\n",
    "- A situation where one independent variable is a perfect linear combination of one or more other independent variables ***\n",
    "- The use of multiple regression models to analyze a single dataset"
   ]
  },
  {
   "attachments": {},
   "cell_type": "markdown",
   "metadata": {},
   "source": [
    "## What is the purpose of using a heatmap in a regression analysis?\n",
    "\n",
    "- To identify outliers in the data\n",
    "- To visualize the distribution of the dependent variable\n",
    "- To visualize the correlation between independent variables ***\n",
    "- To visualize the relationship between the dependent variable and one or more independent variables"
   ]
  },
  {
   "attachments": {},
   "cell_type": "markdown",
   "metadata": {},
   "source": [
    "## What is the impact of highly correlated data on a linear regression model?\n",
    "\n",
    "- It increases the accuracy of the model\n",
    "- It causes the model to overestimate the relationship between independent and dependent variables ***\n",
    "- It causes the model to underestimate the relationship between independent and dependent variables\n",
    "- It has no effect on the model"
   ]
  },
  {
   "attachments": {},
   "cell_type": "markdown",
   "metadata": {},
   "source": [
    "## What is the difference between the correlation coefficient and R-squared in regression analysis?\n",
    "\n",
    "- The correlation coefficient measures the strength and direction of the linear relationship between two variables, while R-squared measures the proportion of the variance in the dependent variable that is explained by the independent variable(s) ***\n",
    "- The correlation coefficient measures the proportion of the variance in the dependent variable that is explained by the independent variable(s), while R-squared measures the strength and direction of the linear relationship between two variables\n",
    "- The correlation coefficient is a standardized measure, while R-squared is a raw measure\n",
    "- There is no difference between the two, they are interchangeable"
   ]
  }
 ],
 "metadata": {
  "language_info": {
   "name": "python"
  },
  "orig_nbformat": 4
 },
 "nbformat": 4,
 "nbformat_minor": 2
}
