{
 "cells": [
  {
   "cell_type": "markdown",
   "metadata": {},
   "source": [
    "# Enhancing Reports"
   ]
  },
  {
   "cell_type": "markdown",
   "metadata": {},
   "source": [
    "## Which approach should be used to allow a slicer to affect visuals on multiple pages at once?\n",
    "\n",
    "- Selecting multiple pages for the **Slicer** on the **Sync Slicers** pane ***\n",
    "- Setting the **Slicer Interactions** appropriately\n",
    "- Adding the **Slicer** as a report-level filter\n",
    "- Right-clicking the **Slicer** and choosing the **Apply Slicer Across All Pages** option"
   ]
  },
  {
   "cell_type": "markdown",
   "metadata": {},
   "source": [
    "## Which of the following is **not** a slicer format style?\n",
    "\n",
    "- Dropdown\n",
    "- List\n",
    "- Between\n",
    "- Ribbon ***\n",
    "- Tile\n"
   ]
  },
  {
   "cell_type": "markdown",
   "metadata": {},
   "source": [
    "## Which of the following is **not** a valid interaction type for a visual?\n",
    "\n",
    "- Cross-filter\n",
    "- Cross-format ***\n",
    "- Cross-highlight\n",
    "- No interaction"
   ]
  },
  {
   "cell_type": "markdown",
   "metadata": {},
   "source": [
    "## Which of the following interactions can be applied to a target visual with a **Slicer** selected as the source? Select all that apply\n",
    "\n",
    "- Cross-filter ***\n",
    "- Cross-format\n",
    "- Cross-highlight\n",
    "- No interaction ***"
   ]
  },
  {
   "cell_type": "markdown",
   "metadata": {},
   "source": [
    "## Which of the following best describes the cross-highlighting interaction in Power BI?\n",
    "\n",
    "- A method to change the color scheme of one visual based on the values selected in another visual\n",
    "- The process where selecting a value in one visual filters data in another visual\n",
    "- The process where selecting a value in one visual changes the appearance of another visual without filtering the data ***\n",
    "- The process of permanently applying one visual's colour scheme to that of another visual"
   ]
  },
  {
   "cell_type": "markdown",
   "metadata": {},
   "source": [
    "## The Power BI feature whereby right-clicking a data point in a visual allows users to navigate to a new page with related insights is known as... ?\n",
    "\n",
    "- Drill-down\n",
    "- Drill-through ***\n",
    "- Cross-highlight\n",
    "- Page-Detail\n",
    "- Tooltips"
   ]
  },
  {
   "cell_type": "markdown",
   "metadata": {},
   "source": [
    "## The Power BI feature, whereby hovering over a data point on a visual reveals additional data related to that data point, is known as...?\n",
    "\n",
    "- Tooltips ***\n",
    "- Mouseover\n",
    "- Cross-highlight\n",
    "- Hover detail"
   ]
  },
  {
   "cell_type": "markdown",
   "metadata": {},
   "source": [
    "## The name of the Power BI feature that allows you to save the state of a page, and return to it with a single mouse click is ... ?\n",
    "\n",
    "- Bookmarks ***\n",
    "- Save States\n",
    "- Freeze Filters\n",
    "- Recall"
   ]
  }
 ],
 "metadata": {
  "language_info": {
   "name": "python"
  },
  "orig_nbformat": 4
 },
 "nbformat": 4,
 "nbformat_minor": 2
}
