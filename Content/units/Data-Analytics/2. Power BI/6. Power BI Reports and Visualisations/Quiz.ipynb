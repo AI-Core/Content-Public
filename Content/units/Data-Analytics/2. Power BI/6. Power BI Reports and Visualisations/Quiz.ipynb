{
 "cells": [
  {
   "attachments": {},
   "cell_type": "markdown",
   "metadata": {},
   "source": [
    "# Power BI Reports and Visualisations\n"
   ]
  },
  {
   "attachments": {},
   "cell_type": "markdown",
   "metadata": {},
   "source": [
    "## In Power BI, what is the main difference between a report and a dashboard?\n",
    "\n",
    "- Reports are editable, while dashboards cannot be modified\n",
    "- Reports are static, while dashboards are interactive\n",
    "- Dashboards combine insights from multiple reports into a single view, while reports provide a more detailed analysis of single dataset ***\n",
    "- Dashboards are used for data modeling, while reports are used for data visualization"
   ]
  },
  {
   "attachments": {},
   "cell_type": "markdown",
   "metadata": {},
   "source": [
    "## What is a key feature of a dashboard that is not present in a report in Power BI?\n",
    "\n",
    "- Ability to create visualizations\n",
    "- Ability to display data from multiple reports ***\n",
    "- Ability to drill through the data to see underlying details\n",
    "- Ability to apply filters to the data"
   ]
  },
  {
   "attachments": {},
   "cell_type": "markdown",
   "metadata": {},
   "source": [
    "## What is the main difference between slicers and filters in Power BI?\n",
    "\n",
    "- Slicers can be applied to all data in a report, while filters only apply to individual visualizations\n",
    "- Slicers allow users to select a subset of data to display, while filters exclude specific data from visualizations\n",
    "- Slicers are a visual way for end-users to filter data on the report canvas, while filters are typically used during report design ***\n",
    "- Slicers cannot be used with date fields, while filters can"
   ]
  },
  {
   "attachments": {},
   "cell_type": "markdown",
   "metadata": {},
   "source": [
    "## Which statement best describes the function of a filter in Power BI?\n",
    "\n",
    "- A filter slices the data into different parts to be displayed separately\n",
    "- A filter allows users to select which data should be displayed on each page of a report\n",
    "- A filter changes the layout of a report based on user selection\n",
    "- A filter restricts the data that is displayed in a report by excluding specific criteria ***"
   ]
  },
  {
   "attachments": {},
   "cell_type": "markdown",
   "metadata": {},
   "source": [
    "## True or False: you can create dashboards in Power BI Service\n",
    "\n",
    "- True\n",
    "- False ***"
   ]
  },
  {
   "attachments": {},
   "cell_type": "markdown",
   "metadata": {},
   "source": [
    "## True or False: you cannot create reports in Power BI Service\n",
    "\n",
    "- True\n",
    "- False ***"
   ]
  },
  {
   "attachments": {},
   "cell_type": "markdown",
   "metadata": {},
   "source": [
    "## What are Smart Narratives in Power BI?\n",
    "\n",
    "- They are automated suggestions for data modeling\n",
    "- They are AI-generated textual summaries of data in a report ***\n",
    "- They use machine learning to allow users to ask questions about the dataset in  natural language\n",
    "- They are tools for creating interactive charts and graphs\n"
   ]
  }
 ],
 "metadata": {
  "language_info": {
   "name": "python"
  },
  "orig_nbformat": 4
 },
 "nbformat": 4,
 "nbformat_minor": 2
}
