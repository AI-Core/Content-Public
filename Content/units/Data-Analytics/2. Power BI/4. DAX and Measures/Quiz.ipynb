{
 "cells": [
  {
   "cell_type": "markdown",
   "metadata": {},
   "source": [
    "# DAX and measures"
   ]
  },
  {
   "cell_type": "markdown",
   "metadata": {},
   "source": [
    "## True or False: DAX expressions always begin with an `=` sign?\n",
    "\n",
    "- True ***\n",
    "- False"
   ]
  },
  {
   "cell_type": "markdown",
   "metadata": {},
   "source": [
    "## What does the `&` symbol mean in DAX?\n",
    "\n",
    "- A shorthand for the `AND` logical operator\n",
    "- An operator to add any two values together\n",
    "- An operator to concatenate two strings ***\n",
    "- It is the escape character, for example when using a `\"` symbol in the middle of a string"
   ]
  },
  {
   "cell_type": "markdown",
   "metadata": {},
   "source": [
    "## I have a column called `Order ID` in a table called `Orders`. What would be the correct syntax to create a measure called `Total Orders`?\n",
    "\n",
    "- `= COUNT([Order ID])`\n",
    "- `= COUNT(Orders[Order ID])` ***\n",
    "- `= SUM(Orders[Order ID])`\n",
    "- `= SUM([Order ID])`"
   ]
  },
  {
   "cell_type": "markdown",
   "metadata": {},
   "source": [
    "## I have a `Sales` table with two columns `Sale price` and `Discount percentage`. I want to create a new column called `Discounted price` by multiplying `Sale price` by (1-`Discount percentage`) in each row. Which function should I use?\n",
    "\n",
    "- `SUM`\n",
    "- `SUMX` ***\n"
   ]
  },
  {
   "cell_type": "markdown",
   "metadata": {},
   "source": [
    "## If I have a column called `Country` in a table called `Customers`, and I want to create a measure of how many customers are in the UK, which of the following will work? Select all that apply.\n",
    "\n",
    "\n",
    "- `Total UK Customers = COUNTX(Customers, IF(Customers[Country] = \"UK\", 1, BLANK()))` ***\n",
    "- `Total UK Customers = SUMX(Customers, IF(Customers[Country] = \"UK\", 1, 0))` ***\n",
    "- `Total UK Customers = COUNTX(Customers, IF(Customers[Country] = \"UK\", 1, 0))`\n",
    "- `Total UK Customers = SUM(Customers, IF(Customers[Country] = \"UK\", 1, 0))`\n"
   ]
  },
  {
   "cell_type": "markdown",
   "metadata": {},
   "source": [
    "## I have a column called `store type`containing the distinct values `0` , `1` and `2`, and I wanted to create a calculated column called `store category` according to the rules below, which DAX function should I use?\n",
    "\n",
    "```\n",
    "if `store type` = `0`, then `store category` = `local`\n",
    "if `store type` = `1`, then `store category` = `superstore`\n",
    "if `store type` = `2`, then `store category` = `web`\n",
    "```\n",
    "\n",
    "- `IF`\n",
    "- `SWITCH` ***\n",
    "- `MAP`\n",
    "- `LOOKUP`\n"
   ]
  },
  {
   "cell_type": "markdown",
   "metadata": {},
   "source": [
    "## What is the \"filter context\" in Power BI?\n",
    "\n",
    "- The set of filters that are applied to a visualisation, restricting which data is displayed\n",
    "- The background settings of a report that determine its appearance and theme\n",
    "- A specific DAX function used to filter tables based on given criteria.\n",
    "- The context in which DAX formulas are evaluated, considering any filters that might be applied at the row, column, or table level. ***\n",
    "\n"
   ]
  },
  {
   "cell_type": "markdown",
   "metadata": {},
   "source": [
    "## True or False: A DAX measure doesn't always evaluate to the same value. Instead its value will change depending on filter context\n",
    "\n",
    "- True ***\n",
    "- False"
   ]
  },
  {
   "cell_type": "markdown",
   "metadata": {},
   "source": [
    "## Which of these statements is true about aggregation functions and their `X` (extended) varianets? Select all that apply.\n",
    "\n",
    "- Whereas a standard aggregation like `SUM` is applied to the entire column at the same time, the `X` variant is evaluated row-by-row ***\n",
    "- Both the standard aggregation `COUNT` and its extended form `COUNTX` will be equally performant for the same operation \n",
    "- There is no difference in flexibility between the two types of function\n",
    "- Anything you can do with `SUM`, you can also do with `SUMX` ***"
   ]
  },
  {
   "cell_type": "markdown",
   "metadata": {},
   "source": [
    "## Fill in the blank: the `CALCULATE` function is one of the most important DAX functions because it [...]\n",
    "\n",
    "- Removes all filters\n",
    "- Overrides the current filter context ***\n",
    "- Obeys the current filter context\n",
    "- Applies all filters\n"
   ]
  },
  {
   "cell_type": "markdown",
   "metadata": {},
   "source": [
    "## To reference one table in a DAX expression about another connected table, we would use the `___` fucntion\n",
    "\n",
    "- `RELATED` ***\n",
    "- `USERELATIONSHIP`\n",
    "- `ALTERNATETABLE`\n",
    "- `USETABLE`\n",
    "- `CONNECTEDTABLE`"
   ]
  }
 ],
 "metadata": {
  "language_info": {
   "name": "python"
  },
  "orig_nbformat": 4
 },
 "nbformat": 4,
 "nbformat_minor": 2
}
