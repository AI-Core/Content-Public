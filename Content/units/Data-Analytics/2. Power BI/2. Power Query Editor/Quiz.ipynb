{
 "cells": [
  {
   "attachments": {},
   "cell_type": "markdown",
   "metadata": {},
   "source": [
    "# Power Query Editor"
   ]
  },
  {
   "attachments": {},
   "cell_type": "markdown",
   "metadata": {},
   "source": [
    "## What is the primary function of the Power Query Editor in Power BI?\n",
    "\n",
    "- To alter the underlying data source\n",
    "- To enable data import, transformation, and loading into Power BI for further analysis ***\n",
    "- To create SQL queries on a connected relational database\n",
    "- To provide a real-time preview of the selected query data"
   ]
  },
  {
   "attachments": {},
   "cell_type": "markdown",
   "metadata": {},
   "source": [
    "## What language is used in Power Query for data manipulation and transformation across various sources?\n",
    "\n",
    "- SQL\n",
    "- Python\n",
    "- M ***\n",
    "- R\n"
   ]
  },
  {
   "attachments": {},
   "cell_type": "markdown",
   "metadata": {},
   "source": [
    "## What happens when transformations are made in Power Query in Power BI?\n",
    "\n",
    "- The underlying data source is permanently changed\n",
    "- The transformations are run each time the data are loaded or refreshed ***\n",
    "- The transformation is run only on the current query, and will need to be re-entered if the data is loaded again\n",
    "- All previous transformations are made permanent"
   ]
  },
  {
   "attachments": {},
   "cell_type": "markdown",
   "metadata": {},
   "source": [
    "## True or False: the Query Settings pane provides a list of all current queries\n",
    "\n",
    "- True\n",
    "- False ***"
   ]
  },
  {
   "attachments": {},
   "cell_type": "markdown",
   "metadata": {},
   "source": [
    "## What is included in the Query Settings pane in Power Query Editor?\n",
    "\n",
    "- A real-time preview of the selected query data and its transformations\n",
    "- Access to various functions for data extraction, transformation, and manipulation\n",
    "- The \"Applied Steps\" section that lists all applied data transformations ***\n",
    "- The ability to create code snippets in M"
   ]
  },
  {
   "attachments": {},
   "cell_type": "markdown",
   "metadata": {},
   "source": [
    "## Where can you edit the M code for each query in Power Query?\n",
    "\n",
    "- In the Queries pane\n",
    "- In the Ribbon\n",
    "- In the Query Settings pane\n",
    "- In the Advanced Editor ***"
   ]
  }
 ],
 "metadata": {
  "language_info": {
   "name": "python"
  },
  "orig_nbformat": 4
 },
 "nbformat": 4,
 "nbformat_minor": 2
}
