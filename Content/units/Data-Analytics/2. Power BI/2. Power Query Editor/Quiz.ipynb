{
 "cells": [
  {
   "attachments": {},
   "cell_type": "markdown",
   "metadata": {},
   "source": [
    "# Power Query Editor"
   ]
  },
  {
   "attachments": {},
   "cell_type": "markdown",
   "metadata": {},
   "source": [
    "## What is the primary function of the Power Query Editor in Power BI?\n",
    "\n",
    "- To alter the underlying data source\n",
    "- To enable data import, transformation, and loading into Power BI for further analysis ***\n",
    "- To create SQL queries on a connected relational database\n",
    "- To provide a real-time preview of the selected query data"
   ]
  },
  {
   "attachments": {},
   "cell_type": "markdown",
   "metadata": {},
   "source": [
    "## What language is used in Power Query for data manipulation and transformation across various sources?\n",
    "\n",
    "- SQL\n",
    "- Python\n",
    "- M ***\n",
    "- R\n"
   ]
  },
  {
   "attachments": {},
   "cell_type": "markdown",
   "metadata": {},
   "source": [
    "## What happens when transformations are made in Power Query in Power BI?\n",
    "\n",
    "- The underlying data source is permanently changed\n",
    "- The transformations are run each time the data are loaded or refreshed ***\n",
    "- The transformation is run only on the current query, and will need to be re-entered if the data is loaded again\n",
    "- All previous transformations are made permanent"
   ]
  },
  {
   "attachments": {},
   "cell_type": "markdown",
   "metadata": {},
   "source": [
    "## True or False: The Query Settings pane provides a list of all current queries\n",
    "\n",
    "- True\n",
    "- False ***"
   ]
  },
  {
   "attachments": {},
   "cell_type": "markdown",
   "metadata": {},
   "source": [
    "## What is included in the Query Settings pane in Power Query Editor?\n",
    "\n",
    "- A real-time preview of the selected query data and its transformations\n",
    "- Access to various functions for data extraction, transformation, and manipulation\n",
    "- The \"Applied Steps\" section that lists all applied data transformations ***\n",
    "- The ability to create code snippets in M"
   ]
  },
  {
   "cell_type": "markdown",
   "metadata": {},
   "source": [
    "## Which tool will allow you to see the number of distinct values in a column? Select all that apply.\n",
    "\n",
    "- Column Profile ***\n",
    "- Column Quality\n",
    "- Column Distribution ***\n"
   ]
  },
  {
   "cell_type": "markdown",
   "metadata": {},
   "source": [
    "## Which tool will allow you to see a histogram of value counts within a column? Select all that apply.\n",
    "\n",
    "- Column Profile ***\n",
    "- Column Quality\n",
    "- Column Distribution ***"
   ]
  },
  {
   "cell_type": "markdown",
   "metadata": {},
   "source": [
    "## Which tool will allow you to see the percentage of null values in a column?\n",
    "\n",
    "- Column Profile \n",
    "- Column Quality ***\n",
    "- Column Distribution "
   ]
  },
  {
   "cell_type": "markdown",
   "metadata": {},
   "source": [
    "## For a column containing the values `[1, 1, 2, 3, 4, 4, 5]`, what would be termed the **unique** values in Power BI?\n",
    "\n",
    "\n",
    "\n",
    "- `[1, 2, 3, 4, 5]`\n",
    "- `[2, 3]`\n",
    "- `[2, 3, 5]` ***\n",
    "- None of the values are **unique**"
   ]
  },
  {
   "cell_type": "markdown",
   "metadata": {},
   "source": [
    "## In the Power Query Editor, how can you change the data type of a column?\n",
    "\n",
    "- By using the \"Change Type\" option in the Transform tab\n",
    "- By selecting the data type icon next to the column name ***\n",
    "- By using the \"Modify Type\" option in the Home tab\n",
    "- By right-clicking and choosing \"Data Type Options\""
   ]
  },
  {
   "cell_type": "markdown",
   "metadata": {},
   "source": [
    "## Which of the following is NOT a tab in the Ribbon of the Power Query Editor?\n",
    "- Home\n",
    "- Transform\n",
    "- Manage Queries\n",
    "- Column Analysis ***"
   ]
  },
  {
   "cell_type": "markdown",
   "metadata": {},
   "source": [
    "## If I wanted to refer to a column called `Category` in a table called `Products`, how would I refer to it, in either `M` or `DAX`?\n",
    "\n",
    "- `Products-Category`\n",
    "- `[Products]{Category}`\n",
    "- `Products[Category]` ***\n",
    "- `{Proudcts}[Category]`"
   ]
  },
  {
   "cell_type": "markdown",
   "metadata": {},
   "source": [
    "## True or False: In **Power Query Editor**, you can filter a column by specific values by clicking the `v` arrow to the right of the column\n",
    "\n",
    "- True ***\n",
    "- False"
   ]
  }
 ],
 "metadata": {
  "language_info": {
   "name": "python"
  },
  "orig_nbformat": 4
 },
 "nbformat": 4,
 "nbformat_minor": 2
}
