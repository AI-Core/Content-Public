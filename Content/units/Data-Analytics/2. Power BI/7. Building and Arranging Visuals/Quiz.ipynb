{
 "cells": [
  {
   "cell_type": "markdown",
   "metadata": {},
   "source": [
    "# Building and Arranging Visuals"
   ]
  },
  {
   "cell_type": "markdown",
   "metadata": {},
   "source": [
    "## In a Table Visual, what does Conditional Formatting allow you to do?\n",
    "- Applies a different colour to each column\n",
    "- Applies alternating background colours to the rows, to make the table easier to read\n",
    "- Apply color scales, data bars, or font colors based on data values***\n",
    "- Transform the table into a pie chart"
   ]
  },
  {
   "cell_type": "markdown",
   "metadata": {},
   "source": [
    "\n",
    "## Which of the following is **not** a way to access the **Format** pane?\n",
    "- From the ribbon by selecting **View** > **Format**\n",
    "- By double-clicking on the visual\n",
    "- By right-clicking on the visual and choosing \"Properties\" ***\n",
    "- By using the **On-Object Formatting** tool"
   ]
  },
  {
   "cell_type": "markdown",
   "metadata": {},
   "source": [
    "## What is the primary purpose of a Card Visual in Power BI?\n",
    "- To display a list of items\n",
    "- To show a geographical distribution of data\n",
    "- To display single values prominently ***\n",
    "- To visualize data trends over time"
   ]
  },
  {
   "cell_type": "markdown",
   "metadata": {},
   "source": [
    "## Which of the following visuals is best suited for displaying single values within a given range, similar to a speedometer?\n",
    "- Line Chart\n",
    "- KPI Visual\n",
    "- Gauge Visual***\n",
    "- Table Visual"
   ]
  },
  {
   "cell_type": "markdown",
   "metadata": {},
   "source": [
    "## Which of the following is NOT a type of categorical chart in Power BI?\n",
    "- Donut Chart\n",
    "- Pie Chart\n",
    "- Gauge Chart***\n",
    "- Bar Chart"
   ]
  },
  {
   "cell_type": "markdown",
   "metadata": {},
   "source": [
    "## Which of the following best describes the cross-highlighting interaction in Power BI?\n",
    "\n",
    "- A method to change the color scheme of one visual based on the values selected in another visual\n",
    "- The process where selecting a value in one visual filters data in another visual\n",
    "- The process where selecting a value in one visual changes the appearance of another visual without filtering the data ***\n",
    "- The process of permanently applying one visual's colour scheme to that of another visual"
   ]
  }
 ],
 "metadata": {
  "language_info": {
   "name": "python"
  },
  "orig_nbformat": 4
 },
 "nbformat": 4,
 "nbformat_minor": 2
}
