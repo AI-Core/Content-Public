{
 "cells": [
  {
   "attachments": {},
   "cell_type": "markdown",
   "metadata": {},
   "source": [
    "# Importing Data in Power BI\n"
   ]
  },
  {
   "attachments": {},
   "cell_type": "markdown",
   "metadata": {},
   "source": [
    "## What is a significant difference between Import Mode and DirectQuery Mode in Power BI's connectivity?\n",
    "\n",
    "- Import Mode is suited for larger datasets and real-time updates, while DirectQuery Mode is best for smaller datasets\n",
    "- Import Mode and DirectQuery Mode serve the same purpose with no major differences\n",
    "- Import Mode is best for quick data exploration and smaller datasets, while DirectQuery Mode suits larger datasets and situations where real-time updates are crucial ***\n",
    "- Import Mode is less performant, while DirectQuery Mode has memory restrictions"
   ]
  },
  {
   "attachments": {},
   "cell_type": "markdown",
   "metadata": {},
   "source": [
    "## What is the process for updating data imported from local or URL-hosted flat files in Power BI?\n",
    "\n",
    "- Automatic updates once changes are made to the data\n",
    "- Updates occur only when the data is re-imported\n",
    "- Manual refreshing using the Refresh button on the Home tab ***\n",
    "- There is no process for updating data once imported"
   ]
  },
  {
   "attachments": {},
   "cell_type": "markdown",
   "metadata": {},
   "source": [
    "## Which Power BI connectivity mode is best suited for larger datasets and situations where real-time updates are crucial?\n",
    "\n",
    "- Import Mode\n",
    "- DirectQuery Mode ***\n",
    "- SQL Database Mode\n",
    "- Cloud Services Mode"
   ]
  },
  {
   "attachments": {},
   "cell_type": "markdown",
   "metadata": {},
   "source": [
    "## True or False: It is just as easy to connect Power BI to SQL databases hosted on RDS as it is to connect to Azure-hosted ones?\n",
    "\n",
    "- True\n",
    "- False ***"
   ]
  },
  {
   "cell_type": "markdown",
   "metadata": {},
   "source": [
    "## What are the two options available after selecting the data to import into Power BI?\n",
    "- Choose either **Import Data** or **Modify Data**\n",
    "- Choose either **Connect Data** or **Download Data**\n",
    "- Choose either **Merge Data** or **Append Data**\n",
    "- Choose either **Load** or **Transform Data** ***"
   ]
  }
 ],
 "metadata": {
  "language_info": {
   "name": "python"
  },
  "orig_nbformat": 4
 },
 "nbformat": 4,
 "nbformat_minor": 2
}
