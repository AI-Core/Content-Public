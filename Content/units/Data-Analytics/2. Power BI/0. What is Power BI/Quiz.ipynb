{
 "cells": [
  {
   "attachments": {},
   "cell_type": "markdown",
   "metadata": {},
   "source": [
    "# What is Power BI"
   ]
  },
  {
   "attachments": {},
   "cell_type": "markdown",
   "metadata": {},
   "source": [
    "## Which company designed the data visualization tool, Power BI?\n",
    "\n",
    "- Google\n",
    "- Apple\n",
    "- Oracle\n",
    "- Microsoft ***\n"
   ]
  },
  {
   "attachments": {},
   "cell_type": "markdown",
   "metadata": {},
   "source": [
    "## What is the primary role of Power BI Desktop in the Power BI ecosystem?\n",
    "\n",
    "- To provide a cloud-based platform for sharing and collaboration\n",
    "- To serve as a mobile application for accessing data on the go\n",
    "- To serve as the primary development environment for creating analytics reports and dashboards ***\n",
    "- To enable developers to integrate Power BI reports into custom applications"
   ]
  },
  {
   "attachments": {},
   "cell_type": "markdown",
   "metadata": {},
   "source": [
    "## What does Power BI Embedded enable developers to do?\n",
    "\n",
    "- To create interactive reports and dashboards\n",
    "- To share and collaborate on reports\n",
    "- To integrate Power BI reports and dashboards into custom applications, websites, or portals ***\n",
    "- To provide a cloud-based platform for data storage and management"
   ]
  },
  {
   "attachments": {},
   "cell_type": "markdown",
   "metadata": {},
   "source": [
    "## True or False: a paid license is required to create and save reports in Power BI Desktop\n",
    "\n",
    "- True \n",
    "- False ***"
   ]
  },
  {
   "attachments": {},
   "cell_type": "markdown",
   "metadata": {},
   "source": [
    "## Which of the following is a disadvantage of Power BI?\n",
    "\n",
    "- It is more expensive than it's main competitor, Tableau\n",
    "- While it is possible to create attractive visuals and reports, interactivity is limited\n",
    "- It can sometimes struggle with performance when handling large amounts of data ***\n",
    "- It is difficult to connect to relational databases"
   ]
  }
 ],
 "metadata": {
  "language_info": {
   "name": "python"
  },
  "orig_nbformat": 4
 },
 "nbformat": 4,
 "nbformat_minor": 2
}
