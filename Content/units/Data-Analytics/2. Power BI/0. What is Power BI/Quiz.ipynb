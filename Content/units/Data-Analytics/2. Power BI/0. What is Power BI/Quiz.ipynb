{
 "cells": [
  {
   "attachments": {},
   "cell_type": "markdown",
   "metadata": {},
   "source": [
    "# What is Power BI"
   ]
  },
  {
   "attachments": {},
   "cell_type": "markdown",
   "metadata": {},
   "source": [
    "## Which company designed the data visualization tool, Power BI?\n",
    "\n",
    "- Google\n",
    "- Apple\n",
    "- Oracle\n",
    "- Microsoft ***\n"
   ]
  },
  {
   "attachments": {},
   "cell_type": "markdown",
   "metadata": {},
   "source": [
    "## What is the primary role of Power BI Desktop in the Power BI ecosystem?\n",
    "\n",
    "- To provide a cloud-based platform for sharing and collaboration\n",
    "- To serve as a mobile application for accessing data on the go\n",
    "- To serve as the primary development environment for creating analytics reports and dashboards ***\n",
    "- To enable developers to integrate Power BI reports into custom applications"
   ]
  },
  {
   "attachments": {},
   "cell_type": "markdown",
   "metadata": {},
   "source": [
    "## True or False: a Paid License is required to create and save reports in Power BI Desktop\n",
    "\n",
    "- True \n",
    "- False ***"
   ]
  },
  {
   "attachments": {},
   "cell_type": "markdown",
   "metadata": {},
   "source": [
    "## Which of the following is a disadvantage of Power BI?\n",
    "\n",
    "- It is more expensive than it's main competitor, Tableau\n",
    "- While it is possible to create attractive visuals and reports, interactivity is limited\n",
    "- It can sometimes struggle with performance when handling large amounts of data ***\n",
    "- It is difficult to connect to relational databases"
   ]
  },
  {
   "cell_type": "markdown",
   "metadata": {},
   "source": [
    "## What is the primary development environment for creating analytics reports and dashboards in the Power BI Ecosystem?\n",
    "\n",
    "- Power BI Service\n",
    "- Power BI Desktop ***\n",
    "- Power BI Mobile\n",
    "- Power BI Report Server\n",
    "- Power BI Embedded"
   ]
  },
  {
   "cell_type": "markdown",
   "metadata": {},
   "source": [
    "## What is the purpose of the Power BI Service in the Power BI Ecosystem?\n",
    "\n",
    "- It is the primary environment for creating analytics reports and dashboards\n",
    "- It is a mobile application for accessing reports and dashboards\n",
    "- It is a cloud-based platform that enables users to share, collaborate on, and publish reports created in Power BI Desktop ***\n",
    "- It is a server solution for organizations that prefer not to rely on the cloud for sharing and collaboration\n",
    "- It is a service that enables developers to integrate Power BI reports and dashboards into custom applications, websites, or portals"
   ]
  },
  {
   "cell_type": "markdown",
   "metadata": {},
   "source": [
    "## Which component of the Power BI Ecosystem is designed to provide a seamless and responsive experience for exploring data on mobile devices?\n",
    "\n",
    "- Power BI Service\n",
    "- Power BI Desktop\n",
    "- Power BI Mobile ***\n",
    "- Power BI Report Server\n",
    "- Power BI Embedded"
   ]
  },
  {
   "cell_type": "markdown",
   "metadata": {},
   "source": [
    "## What is the function of Power BI Report Server in the Power BI Ecosystem?\n",
    "\n",
    "- It is the primary development environment for creating analytics reports and dashboards\n",
    "- It is a cloud-based platform for sharing and publishing reports\n",
    "- It is a mobile application for accessing reports and dashboards\n",
    "- It is an on-premises server solution that allows users to manage, store, and securely distribute reports within the organization while maintaining control over their data ***\n",
    "- It is a service that enables developers to integrate Power BI reports and dashboards into custom applications, websites, or portals"
   ]
  },
  {
   "cell_type": "markdown",
   "metadata": {},
   "source": [
    "\n",
    "## What does Power BI Embedded enable developers to do?\n",
    "\n",
    "- It enables developers to create analytics reports and dashboards\n",
    "- It enables developers to share and publish reports created in Power BI Desktop\n",
    "- It enables developers to access and interact with reports and dashboards from mobile devices\n",
    "- It enables developers to manage, store, and securely distribute reports within the organization\n",
    "- It enables developers to integrate Power BI reports and dashboards into custom applications, websites, or portals ***"
   ]
  },
  {
   "cell_type": "markdown",
   "metadata": {},
   "source": [
    "\n",
    "## What is the focus of the Data Modelling and Transformation stage in a Power BI project?\n",
    "\n",
    "- Connecting to various local and online data sources\n",
    "- Creating reports and visualisations\n",
    "- Publishing or embedding reports\n",
    "- Creating relationships between data tables, transforming data, and filtering data according to criteria ***"
   ]
  },
  {
   "cell_type": "markdown",
   "metadata": {},
   "source": [
    "## What is the first stage in a typical data analytics project in Power BI?\n",
    "\n",
    "- Data Modelling and Transformation\n",
    "- Data Visualisation\n",
    "- Sharing Reports\n",
    "- Data Ingestion ***"
   ]
  },
  {
   "cell_type": "markdown",
   "metadata": {},
   "source": [
    "## In the context of a typical Power BI project workflow, where does the use of Power BI Embedded primarily fit in?\n",
    "\n",
    "- In the Data Ingestion stage\n",
    "- In the Data Modelling and Transformation stage\n",
    "- In the Data Visualisation stage\n",
    "- In the Sharing Reports stage ***"
   ]
  },
  {
   "cell_type": "markdown",
   "metadata": {},
   "source": [
    "## What is a significant advantage of Power BI's user interface?\n",
    "\n",
    "- It enables users to program their own custom interface\n",
    "- It enables entry-level users to create professional-looking visualisations and reports with minimal training ***\n",
    "- It includes a built-in virtual assistant that can create reports on verbal command\n",
    "- It provides a fully voice-activated user interface"
   ]
  },
  {
   "cell_type": "markdown",
   "metadata": {},
   "source": [
    "## Which of the following describes Power BI's data connectivity feature?\n",
    "\n",
    "- Power BI provides connectivity only to Microsoft’s own data services, such as Azure\n",
    "- Power BI's data connectivity is limited to local, on-premise data sources\n",
    "- Power BI can connect seamlessly to a wide range of data sources, including SQL databases, remote and cloud-based data services, and web-based services like Google Analytics ***\n",
    "- Power BI includes AI-driven automatic data extraction from any text source"
   ]
  },
  {
   "cell_type": "markdown",
   "metadata": {},
   "source": [
    "## What approach does Power BI take to improve and evolve its features?\n",
    "\n",
    "- Power BI uses AI to predict the future requirements of the users and preemptively releases updates\n",
    "- It releases frequent updates and has a system for users to submit and rank suggestions for improvements. ***\n",
    "- Power BI includes an in-built reward system for users to suggest improvements and compete in global contests\n",
    "- Power BI conducts annual worldwide conferences to gather feedback and suggestions"
   ]
  },
  {
   "cell_type": "markdown",
   "metadata": {},
   "source": [
    "## Which of the following is a disadvantage of Power BI due to its integration with the Microsoft ecosystem?\n",
    "- Power BI is only compatible with Microsoft-based data sources like Azure and Excel\n",
    "- Power BI cannot be installed on Windows-based systems without a virtual machine\n",
    "- Power BI cannot be installed on Mac or Linux systems without a virtual machine ***\n",
    "- Power BI can be run natively on Mac or Linux systems, but there is no user support\n",
    "- Power BI supports non-Microsoft products more sophisticatedly than Microsoft products"
   ]
  }
 ],
 "metadata": {
  "language_info": {
   "name": "python"
  },
  "orig_nbformat": 4
 },
 "nbformat": 4,
 "nbformat_minor": 2
}
