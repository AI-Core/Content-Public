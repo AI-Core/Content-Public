{
 "cells": [
  {
   "cell_type": "markdown",
   "metadata": {},
   "source": [
    "# Time Intelligence in Power BI"
   ]
  },
  {
   "cell_type": "markdown",
   "metadata": {},
   "source": [
    "## True or False: The `EDATE` function in Power BI specifically shifts dates by months.\n",
    "\n",
    "- True ***\n",
    "- False"
   ]
  },
  {
   "cell_type": "markdown",
   "metadata": {},
   "source": [
    "## Which DAX function can be used to create a date table with a specific start and end date?\n",
    "\n",
    "- `DATEADD`\n",
    "- `DATETABLE`\n",
    "- `CALENDAR` ***\n",
    "- `EDATE`"
   ]
  },
  {
   "cell_type": "markdown",
   "metadata": {},
   "source": [
    "## Why is it important to have a continuous date table in Power BI?\n",
    "\n",
    "- To ensure that time intelligence functions do not return incorrect results ***\n",
    "- To reduce the size of the dataset\n",
    "- To make the X-axis ticks of time based charts look evenly spaced\n",
    "- To account for leap years"
   ]
  },
  {
   "cell_type": "markdown",
   "metadata": {},
   "source": [
    "## Which of the following is **NOT** a DAX function?\n",
    "\n",
    "- `STARTOFYEAR`\n",
    "- `STARTOFMONTH`\n",
    "- `STARTOFQUARTER`\n",
    "- `STARTOFWEEK` ***"
   ]
  }
 ],
 "metadata": {
  "language_info": {
   "name": "python"
  },
  "orig_nbformat": 4
 },
 "nbformat": 4,
 "nbformat_minor": 2
}
