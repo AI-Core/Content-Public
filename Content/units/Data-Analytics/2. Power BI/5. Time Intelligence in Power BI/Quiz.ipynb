{
 "cells": [
  {
   "cell_type": "markdown",
   "metadata": {},
   "source": [
    "## Time Intelligence in Power BI"
   ]
  },
  {
   "cell_type": "markdown",
   "metadata": {},
   "source": [
    "## `True` or `False`: The `EDATE` function in Power BI specifically shifts dates by months.\n",
    "\n",
    "- True ***\n",
    "- False"
   ]
  },
  {
   "cell_type": "markdown",
   "metadata": {},
   "source": [
    "## Which DAX function can be used to create a date table with a specific start and end date?\n",
    "\n",
    "- `DATEADD`\n",
    "- `DATETABLE`\n",
    "- `CALENDAR` ***\n",
    "- `EDATE`"
   ]
  },
  {
   "cell_type": "markdown",
   "metadata": {},
   "source": [
    "## Why is it important to have a continuous date table in Power BI?\n",
    "\n",
    "- To ensure that time intelligence functions do not return incorrect results ***\n",
    "- To reduce the size of the dataset\n",
    "- To make the X-axis ticks of time based charts look evenly spaced\n",
    "- To account for leap years"
   ]
  },
  {
   "cell_type": "markdown",
   "metadata": {},
   "source": [
    "## How can you mark a table as a date table in Power BI?\n",
    "\n",
    "- By right-clicking on the table and selecting \"Mark as Date Table\"\n",
    "- By going to the \"Data\" view, selecting the date table, and choosing \"Mark as Date Table\" from the \"Table Tools\" tab ***\n",
    "- By dragging the date column to the \"Dates table\" well on any visual\n",
    "- By setting the table's data type to \"Date\""
   ]
  },
  {
   "cell_type": "markdown",
   "metadata": {},
   "source": [
    "## Which of the following is **NOT** a DAX function?\n",
    "\n",
    "- `STARTOFYEAR`\n",
    "- `STARTOFMONTH`\n",
    "- `STARTOFQUARTER`\n",
    "- `STARTOFWEEK` ***"
   ]
  }
 ],
 "metadata": {
  "language_info": {
   "name": "python"
  },
  "orig_nbformat": 4
 },
 "nbformat": 4,
 "nbformat_minor": 2
}
