{
 "cells": [
  {
   "attachments": {},
   "cell_type": "markdown",
   "metadata": {},
   "source": [
    "# Data Modelling in Power BI\n",
    "\n",
    ">Data modelling is the process of analysing and defining all the different data your business collects and produces, as well as the relationships between those bits of data. Data modelling is a crucial step in database design, as it allows for efficient data management, easier data retrieval, and helps in maintaining data integrity and security. It also helps in integrating and consolidating data across different systems, contributing to improved data quality and consistency. \n",
    "\n",
    "Data modelling falls into three general categories:\n",
    "\n",
    "- Conceptual:  providing a high-level view of data objects, relationships, and rules without going into detailed attributes\n",
    "\n",
    "- Logical: a detailed description of the relationships between the data without any regard to the specifics of how they will be implemented in databases. They include detailed attributes (fields) and how the various entities are related.\n",
    "\n",
    "- Physical:  describe how the data will be stored in the computer, representing data, data relationships, as well as indexes, constraints, triggers, and other database-specific features. This would include the specific design of any database tables, foreign key relationships, database schemas etc.\n",
    "\n",
    "Power BI is primarily useful for creating and managing logical and physical data models. You can design a logical data model by defining tables, fields, and relationships within your datasets. This involves organizing data in a way that makes sense for the questions you need to answer or the analysis you want to perform.  Power BI also allows you to implement certain physical modelling aspects such as calculated columns, measures, hierarchies, and defining how data will be refreshed and stored in memory. While it's not a full-blown physical data modeling tool in the traditional sense (like you'd use to design a SQL Server), it still provides many features for optimizing how your data is stored and accessed for reporting and analysis purposes.\n"
   ]
  },
  {
   "attachments": {},
   "cell_type": "markdown",
   "metadata": {},
   "source": [
    "## Motivation\n",
    "\n",
    "By learning how to perform data modelling tasks in Power BI, you will be able to:\n",
    "\n",
    "- Effectively organize complex data, making it easier to work with and write deeper queries\n",
    "- Design custom measures using DAX (Data Analysis Expressions) language, that can generate powerful insights\n",
    "- Ensure data integrity by creating and managing relationships between various tables\n",
    "\n"
   ]
  },
  {
   "attachments": {},
   "cell_type": "markdown",
   "metadata": {},
   "source": [
    "## The Model View\n",
    "\n",
    "> The Model view in Power BI Desktop is a visual interface that allows you to manage and observe relationships between tables and fields in your data model. A relationship is where two or more tables are linked together because they contain related data. This enables users to run queries for related data across multiple tables.\n",
    "\n",
    "\n",
    "A data model inside Power BI comprises the following elements:\n",
    "\n",
    "### Tables\n",
    "\n",
    "> Your data model is typically composed of multiple tables, arranged into some form of schema. These tables appear as rectangular objects in the Model View. Each table lists its individual fields.\n",
    "\n",
    "<img src=\"images/table.png\"  width=\"400\" > <br>\n",
    "<br>\n",
    "\n",
    "### Fields \n",
    "\n",
    "\n",
    "\n",
    "> Fields are individual data points or categories within a table. For example, a table about customers might include fields like \"Name\", \"Email Address\", and \"Purchase History.\"\n",
    "\n",
    "<img src=\"images/field.png\"  width=\"400\" > <br>\n",
    "<br>\n",
    "\n",
    "### Relationships\n",
    "\n",
    "> Relationships are links between tables that allow you to combine and compare data from different sources. For instance, you might link a \"Sales\" table to a \"Products\" table using a common \"Product ID\" field. In the Model View, these relationships are shown as lines connecting the relevant tables.\n",
    "\n",
    "<img src=\"images/relationship.png\"  width=\"400\" height=\"200\" > <br>\n",
    "<br>\n",
    "\n",
    "### Calculated Columns and Measures\n",
    "\n",
    "Within the Model View, you can add calculated columns and measures to your tables. These are calculations or computations that are performed on the data in the table, such as sums, averages, or more complex formulas. Calculated columns and measures become fields in their respective tables.\n",
    "\n",
    "### Formatting\n",
    "Model View allows you to format your model, including renaming fields or tables, hiding fields, changing data types, etc.\n",
    "\n"
   ]
  },
  {
   "attachments": {},
   "cell_type": "markdown",
   "metadata": {},
   "source": [
    "## Data Analysis Expressions (DAX)\n",
    "\n",
    "> *DAX* is a formula language in Power BI that enables users to perform data manipulation and calculations. It is used for a variety of data modelling functions as well as for building interactive visualisations. \n",
    "\n",
    "Some of the functions that can be performed with DAX expressions include:\n",
    "\n",
    "- Creating calculated columns and measures to derive new data and metrics from existing tables\n",
    "- Creating relationships between tables\n",
    "- Creating calculated tables\n",
    "- Applying filtering and aggregations\n",
    "- Building interactive visualisations\n",
    "\n",
    "As with the M language and the Power Query Editor, actions taken in the Model View GUI are creating DAX expressions in the background."
   ]
  },
  {
   "attachments": {},
   "cell_type": "markdown",
   "metadata": {},
   "source": [
    "## Load Your Project\n",
    "\n",
    "In the lesson on the Power Query Editor, we created a Power BI project called `Power_BI_demo_session.pbix`. We will use this project to demonstrate some of the features of `Model View`. Open this project inside Power BI Desktop to follow along with the next sections of the lesson. If you have not done this yet and wish to follow along, please complete that lesson before continuing."
   ]
  },
  {
   "attachments": {},
   "cell_type": "markdown",
   "metadata": {},
   "source": [
    "## Hiding and Formatting Fields in `Model View`\n",
    "\n",
    "### Hiding Fields\n",
    "\n",
    ">Hiding fields in the Power BI Desktop model view can streamline and de-clutter your reports by removing irrelevant or redundant data, thus enhancing the user's focus on the most essential information.\n",
    "\n",
    "To hide a column, navigate to the model view and find the table containing the column you wish to hide. Right-click on the column's header and select \"Hide in report view\". The column will still be visible in the model view and can be used in calculations, but will not be visible in the report view, making your reports cleaner and less confusing.\n",
    "\n",
    "As an example, let's hide the `Region` field in `dim_customer`:\n",
    "\n",
    "- Go to `Model View` and right-click the `Region` field\n",
    "- Select `Hide in Report View` from the menu\n",
    "\n",
    "### Formatting Fields\n",
    "\n",
    "> Field formatting involves altering the appearance and data types of fields, such as setting a numeric field to display as currency or a date field to a specific date format, to improve data readability and interpretation. We have already encountered formatting in Power BI Desktop during the lesson on Power Query Editor, but it can also be accomplished in `Model View`.\n",
    "\n",
    "To format a column in model view, again locate the column in its table. Left-click on the column's header and you will see its properties in a dialog box to the left, in which you can change the data type and format. For instance, for a numeric column, you could set the format to be currency, percentage, or whole number, among others. \n",
    "\n",
    "These steps can help you customize the model view to best suit your needs, facilitating better understanding and usability of your data.\n",
    "\n",
    "As an example, let's make sure the `date` fields in our `Sales` fact table and `dim_datetime` are both of the `date` datatype.\n",
    "\n",
    "- In `Model View` , highlight thew `date` field in the Sales table\n",
    "- Left click on it\n",
    "- Change the data type in the `Data Type` dropdown on the right of the screen\n",
    "- Click `Yes` in the resulting dialog box\n",
    "- Repeat the same process for the `date` field in `dim_datetime`\n",
    "\n",
    "\n",
    "It will also be helpful for a later section of this lesson if you convert the `month_number` field in `dim_datetime` to `Whole Number`."
   ]
  },
  {
   "attachments": {},
   "cell_type": "markdown",
   "metadata": {},
   "source": [
    "## Managing Relationships in `Model View`\n",
    "\n",
    "<img src=\"images/model_view.png\"  width=\"700\" > <br>\n",
    "<br>\n",
    "\n",
    "\n",
    "In the Power Query lesson, we created the dimension tables needed for a star-based schema based on a sales spreadsheet from an imaginary company. Now we can use the `Model View` to create the schema itself.\n",
    "\n",
    "### Why we Need Relationships\n",
    "\n",
    "Before we do start editing relationships in our data model, it will be helpful to do a quick demonstration of why relationships between tables matter. Note that this will use the `Report View` tab, which we will cover in more detail in a future lesson. Don't worry about the details too much for now, just follow along with the instructions.\n",
    "\n",
    "- Go to the `Report View` tab in the left-hand pane of the Power BI workspace\n",
    "- Select `Clustered Column Chart` from the `Visualizations` pane on the right\n",
    "- Drag the `Day of Week` field from `dim_datetime` into the `X-axis` field in the `Visualisations` pane\n",
    "- Drag the `CustomerID` field from the `Sales` table into the `Y-axis` field\n",
    "\n",
    "You will now see a column chart of Day of Week vs the number of sales. However every value will be the same. This is because there is no link between the `Date` field of the `Sales` table and the `Date` field of the `dim_datetimes` table.\n",
    "\n",
    "<img src=\"images/graph_notworking.png\"  width=\"400\" > <br>\n",
    "\n",
    "### Creating a Relationship\n",
    "\n",
    "Now navigate to the `Model View` pane.\n",
    "\n",
    "<img src=\"images/find_model_view.png\"  width=\"300\" > <br>\n",
    "\n",
    "Inside we can see the schema of our dataset. The first thing to notice is that Power BI has already understood the relationships between the dim tables we created from our initial `Sales` table, and has established the relationships for us. They are visible as lines linking the two tables.\n",
    "\n",
    "<img src=\"images/prelink_datamodel.png\"  width=\"700\" > <br>\n",
    "\n",
    "We need to create a new relationship between the `Date` field of the `Sales` table, and that of the `dim_datetime` table.\n",
    "\n",
    "- In the model view, click on the `Date` field in the `Sales` table , and drag it over the `Date` field in `dim_datetime`\n",
    "- A new relationship will be created. Click on the line in the schema diagram to bring up the properties in the right-hand pane\n",
    "- Make sure that the direction is from `Sales` to `dim_datetime`, the relationship type is `Many to one`, and the cross-filter direction is `Single`\n",
    "\n",
    "Now, when we return to the `Report View`, we should see our graph is now displaying the correct information.\n",
    "\n",
    "\n"
   ]
  },
  {
   "attachments": {},
   "cell_type": "markdown",
   "metadata": {},
   "source": [
    "## Managing Relationships in the `Manage Relationships` Tab\n",
    "\n",
    "As an alternative to the graphical UI provided by the `Model View` tab, it is also possible to view the relationships in your data model as a list. To access this alternative view, navigate to the `Home` tab of the Ribbon and click on `Manage Relationships`. This will open a Manage Relationships dialog box that represents your relationships in a list form rather than a graphical illustration. \n",
    "\n",
    "In this dialog box, the Autodetect function is available to identify relationships in newly inputted or revised data. Choose Edit for personal alterations to your relationships. Advanced settings are located in the Edit segment, allowing you to define the Cardinality and Cross-filter direction of your data relationships.\n",
    "\n",
    "<img src=\"images/manage_relationships_tab.png\"  width=\"700\" > <br>"
   ]
  },
  {
   "attachments": {},
   "cell_type": "markdown",
   "metadata": {},
   "source": [
    "## Creating Calculated Columns in `Model View`\n",
    "\n",
    "> Calculated columns in Power BI Desktop are columns that you add to existing tables in your data model, where the column values are computed using a Data Analysis Expressions (DAX) formula that applies to each row in the column. We covered the topic of creating calculated columns in the previous lesson on the `Power Query Editor`. You can also use the `Model View` to create calculated columns. \n",
    "\n",
    "To create a calculated column in the model view of Power BI Desktop, start by navigating to the model view. Here, select the table to which you want to add a calculated column. Right-click on the column headers and then select `New column` from the context menu that appears. This action will open a formula bar at the top. Now, you can write your DAX expression, which will be used to calculate the values in the new column. When you finish writing your expression, press Enter. Power BI Desktop will evaluate the expression for each row in the table, generating a value for the calculated column."
   ]
  },
  {
   "attachments": {},
   "cell_type": "markdown",
   "metadata": {},
   "source": [
    "## Sorting Visualization Data\n",
    "\n",
    ">The `Sort by Column` feature in the model can be view to sort visualization data by another field, such as sorting `month_name` (January, February, etc.) by `month_number` (1, 2, etc.), to ensure that the data are presented in a logical and chronological order, rather than being sorted alphabetically.\n",
    "\n",
    "For example, in the graph of orders by month pictured below, the months are ordered alphabetically rather than logically. You can create this figure for yourself by replacing `month` for `day of week` in the y-axis field of the figure you created earlier. \n",
    "\n",
    "<img src=\"images/o_by_month_unsorted.png\" width=\"300\"> <br> <br>\n",
    "We can fix this issue by sorting by the `month_number` column. To achieve this in `Model View`, left click on the `month` column to highlight it, and in the `Properties` pane, open the `Advanced` subpanel. Then just select the `month_number` column in the `Sort by column` dropdown.\n",
    "\n",
    "Returning to `Report View`, we can see the figure has been corrected. If the months are still in the wrong order for you, then make sure you have converted `month number` to the `whole number` datatype!\n",
    "\n",
    "<img src=\"images/o_by_month_sorted.png\" width=\"300\" > <br> <br>\n",
    "\n"
   ]
  },
  {
   "attachments": {},
   "cell_type": "markdown",
   "metadata": {},
   "source": [
    "## Creating Calculated Tables\n",
    "\n",
    "> *Calculated tables* are tables created by defining and executing a DAX formula. Unlike regular tables that are loaded with data from a source, calculated tables are computed and generated within the data model itself. In most cases, you can import data into your model from an external data source. There are a number of uses for calculated tables however: they can used for intermediate calculations, or to cross join two tables, or they can store pre-aggregated data, improving performance in certain scenarios by reducing calculation complexity in visuals.\n",
    "\n",
    "To create a calculated table in `Model View`:\n",
    "\n",
    "- Go to the `Modeling` tab on the ribbon\n",
    "- Click on the `New Table` button. This will open a formula bar at the top\n",
    "- In the formula bar, write your DAX formula that defines the calculated table\n",
    "- Once you have written your DAX formula, press Enter\n",
    "\n",
    "Let's say we wanted to calculate the year-to-date revenue for each order in our fact table. A first step might be to create a calculated table which adds the `Unit Price` and `Unit Cost` fields from `dim_products` to the existing `Sales` fact table. We don't want to store our data like this in the database, as it would create redundancy and violate our star schema. So we can just create the table as part of our model, as follows.\n",
    "\n",
    "- In the `Model` or `Data` view, select the `New Table` option from the `Table Tools` panel in the ribbon\n",
    "- Enter the following DAX formula into the formula bar"
   ]
  },
  {
   "cell_type": "raw",
   "metadata": {},
   "source": [
    "revenue_table = \n",
    "ADDCOLUMNS(\n",
    "    'Sales', \n",
    "    \"Product Price\", RELATED(dim_product[Unit Price]),\n",
    "    \"Product Cost\", RELATED(dim_product[Unit Cost])\n",
    ")"
   ]
  },
  {
   "attachments": {},
   "cell_type": "markdown",
   "metadata": {},
   "source": [
    "- Press enter or click the tick icon to commit the formula\n",
    "\n"
   ]
  },
  {
   "attachments": {},
   "cell_type": "markdown",
   "metadata": {},
   "source": [
    "## Creating Measures\n",
    "\n",
    ">In Power BI, *measure*s are calculations used in data analysis that are created using Data Analysis Expressions (DAX). They are defined calculations on your data that are performed at the time of your query. Measures are calculated as you interact with your reports and aren't stored in your database.\n",
    "\n",
    "You can create measures in both the Model view and the `Report View` in Power BI Desktop. To create a measure in the `Model View`, you can right-click on the table where you want the measure to reside and select `New Measure`. Then, you can enter your DAX formula in the formula bar. \n",
    "\n",
    "In the `Report View`, you can select `New Measure` from the `Home` tab in the ribbon, and enter your DAX formula in the formula bar. Note that once created, all measures are available across all views: `Report`, `Data`, and `Model`.\n",
    "\n",
    "### Add a `revenue` column\n",
    "We can now create a measure of year-to-date revenue, based on the calculated table we created previously.\n",
    "\n",
    "- To achieve this, let's first add a column for `revenue`\n",
    "- With the `revenue_table` highlighted in `Model View`, click `New Column` in the `Table Tools` tab of the ribbon\n",
    "- add the following formula:\n"
   ]
  },
  {
   "cell_type": "raw",
   "metadata": {},
   "source": [
    "revenue_table[revenue] = revenue_table[Quantity] * revenue_table[ProductPrice]"
   ]
  },
  {
   "attachments": {},
   "cell_type": "markdown",
   "metadata": {},
   "source": [
    "### Create the Measure\n",
    "\n",
    "- Click `New Measure` in the `Table Tools` tab of the ribbon\n",
    "- Enter the following DAX expression:\n"
   ]
  },
  {
   "cell_type": "raw",
   "metadata": {},
   "source": [
    "YTD Revenue = TOTALYTD(SUM(revenue_table[revenue]), revenue_table[Date])"
   ]
  },
  {
   "attachments": {},
   "cell_type": "markdown",
   "metadata": {},
   "source": [
    "## Key Takeaways\n",
    "- Data modelling is the process of creating relationships between the different data your business collects, so that is organised in the correct way for your analysis\n",
    "- Model View is used to manage table and field relationships for efficient querying of related data across multiple tables\n",
    "- Relationships are links between tables that allow you to combine and compare data from different sources\n",
    "- DAX (Data Analysis Expressions) is a formula language in Power BI used for data manipulation, calculations, and analysis\n",
    "- Calculated tables are computed and generated within the data model itself, via a DAX formula\n",
    "- Measures are calculations used in data analysis that are created using a DAX expression"
   ]
  }
 ],
 "metadata": {
  "kernelspec": {
   "display_name": "multinational",
   "language": "python",
   "name": "python3"
  },
  "language_info": {
   "codemirror_mode": {
    "name": "ipython",
    "version": 3
   },
   "file_extension": ".py",
   "mimetype": "text/x-python",
   "name": "python",
   "nbconvert_exporter": "python",
   "pygments_lexer": "ipython3",
   "version": "3.11.2"
  }
 },
 "nbformat": 4,
 "nbformat_minor": 2
}
