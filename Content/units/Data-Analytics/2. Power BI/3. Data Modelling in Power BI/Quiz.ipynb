{
 "cells": [
  {
   "attachments": {},
   "cell_type": "markdown",
   "metadata": {},
   "source": [
    "# Data Modelling in Power BI"
   ]
  },
  {
   "attachments": {},
   "cell_type": "markdown",
   "metadata": {},
   "source": [
    "## What are Measures in Power BI?\n",
    "\n",
    "- Calculations used in data analysis that are created using a DAX expression ***\n",
    "- Links between tables that allow you to combine data from different sources\n",
    "- Computed tables generated within the data model itself\n",
    "- Another word for Columns"
   ]
  },
  {
   "attachments": {},
   "cell_type": "markdown",
   "metadata": {},
   "source": [
    "## What does DAX stand for?\n",
    "- Data Aggregation Expression\n",
    "- Data Analysis Expressions ***\n",
    "- Data Analytics Extension\n",
    "- Data Architecture Explorer"
   ]
  },
  {
   "attachments": {},
   "cell_type": "markdown",
   "metadata": {},
   "source": [
    "## In Power BI, where can DAX be primarily utilized?\n",
    "\n",
    "- Building complex queries for data extraction\n",
    "- Creating calculated columns and measures ***\n",
    "- Establishing connections to data sources\n",
    "- Designing report layouts"
   ]
  },
  {
   "attachments": {},
   "cell_type": "markdown",
   "metadata": {},
   "source": [
    "## In Power BI, which view is primarily used for managing table and field relationships?\n",
    "\n",
    "- Data View\n",
    "- Model View ***\n",
    "- Report View\n",
    "- Power Query View\n"
   ]
  },
  {
   "attachments": {},
   "cell_type": "markdown",
   "metadata": {},
   "source": [
    "## In the context of Power BI, which statement best describes the role of relationships?\n",
    "\n",
    "- Relationships are tools for data visualization in Power BI.\n",
    "- Relationships are used to create calculated tables in Power BI.\n",
    "- Relationships link tables together, allowing efficient querying of related data across multiple tables. ***\n",
    "- Relationships are DAX expressions used for data manipulation and analysis in Power BI."
   ]
  },
  {
   "attachments": {},
   "cell_type": "markdown",
   "metadata": {},
   "source": [
    "## True or False: Edits made in the Model View GUI create DAX expressions in the background\n",
    "- True ***\n",
    "- False"
   ]
  },
  {
   "attachments": {},
   "cell_type": "markdown",
   "metadata": {},
   "source": [
    "## What is a Calculated table in Power BI?\n",
    "\n",
    "- A table which shows the relationships between different tables\n",
    "- A table that is computed and generated within the data model itself, via a DAX formula ***\n",
    "- A table which is directly imported from a data source without transformations\n",
    "- A table that automatically updates in real-time to reflect changes in the data source"
   ]
  },
  {
   "attachments": {},
   "cell_type": "markdown",
   "metadata": {},
   "source": [
    "## What is the main tool used to create a Calculated table in Power BI?\n",
    "\n",
    "- Power Query Editor\n",
    "- The M language\n",
    "- Data Analysis Expressions (DAX) ***\n",
    "- The Report View\n",
    "- The Data Connectivity tool"
   ]
  },
  {
   "cell_type": "markdown",
   "metadata": {},
   "source": [
    "## When creating a hierarchy in Power BI, which of the following statements is true?\n",
    "\n",
    "- Hierarchies can only be created within the Power Query Editor\n",
    "- Each hierarchy can contain data from multiple tables without relationships\n",
    "- Hierarchies allow users to navigate from general to detailed data in a structured manner ***\n",
    "- A hierarchy must always start with a date or time column"
   ]
  },
  {
   "cell_type": "markdown",
   "metadata": {},
   "source": [
    "## What is the primary purpose of using hierarchies within visuals?\n",
    "\n",
    "- To merge data from different sources\n",
    "- To navigate and drill through data levels from the most general to the most detailed view ***\n",
    "- To enable the data to be filtered by more than one value at once\n",
    "- To automatically create relationships between tables"
   ]
  },
  {
   "cell_type": "markdown",
   "metadata": {},
   "source": [
    "## In Power BI, what best describes measures?\n",
    "- User-defined static values that are stored in tables for reference\n",
    "- Calculations performed on data using DAX, where the output is a new column\n",
    "- Calculations performed on data using DAX, where the output is a single value that changes with filter context ***\n",
    "- Calculations performed on data using DAX, where the output is a single value that does not change with filter context\n"
   ]
  }
 ],
 "metadata": {
  "language_info": {
   "name": "python"
  },
  "orig_nbformat": 4
 },
 "nbformat": 4,
 "nbformat_minor": 2
}
