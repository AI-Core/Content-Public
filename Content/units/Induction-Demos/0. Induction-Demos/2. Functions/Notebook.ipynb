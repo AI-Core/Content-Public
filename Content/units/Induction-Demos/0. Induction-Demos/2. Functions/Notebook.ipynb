{
 "cells": [
  {
   "attachments": {},
   "cell_type": "markdown",
   "metadata": {},
   "source": [
    "# Functions and Function Calls\n",
    "\n",
    "### Learning Objectives:\n",
    "- To understand what a function is.\n",
    "- To understand the difference between a function and a function call.\n",
    "- To understand how to call a function in Python.\n",
    "- To understand how to define a function in python.\n",
    "- Function parameters.\n",
    "- The difference between parameters and arguments.\n",
    "- The `return` statement.\n",
    "- The concept of variable scope."
   ]
  },
  {
   "attachments": {},
   "cell_type": "markdown",
   "metadata": {},
   "source": [
    "## What are Functions?\n",
    "\n",
    "\n",
    "A function is a self-contained block of code that performs a specific task or operation. Functions are used to organise code and make it re-usable, efficient, and easy to read and understand. Functions can be called or invoked from other parts of the program, and they can be reused multiple times with different inputs or arguments.\n",
    "\n",
    "\n",
    "\n"
   ]
  },
  {
   "attachments": {},
   "cell_type": "markdown",
   "metadata": {},
   "source": [
    "### Function Definitions\n",
    "\n",
    "\n",
    "So far we have learned that the main idea behind functions is to write some code once, and then re-use it many times elsewhere in our code. The function call handles the re-use part, and its counterpart is the function defnition, which is the block of code which tells us what the function does, and how it behaves.\n",
    "\n",
    "Let's look at an example. Run the code block below:"
   ]
  },
  {
   "cell_type": "code",
   "execution_count": 3,
   "metadata": {},
   "outputs": [],
   "source": [
    "def call_me_a_taxi():\n",
    "    print(\"you're a taxi\")\n",
    "    \n"
   ]
  },
  {
   "attachments": {},
   "cell_type": "markdown",
   "metadata": {},
   "source": [
    "The `def` statement is how we start a function definition in Python. It contains the following elements:\n",
    "- The `def` keyword, letting Python know we are about to define a function.\n",
    "- The name of the function. This should always be in `camel_case`, and as ever, name it clearly. Long and clear is better than short and confusing, every single time!\n",
    "- A pair of parentheses `()`, which can contain the names of the functions parameters, or be empty.\n",
    "- A colon `:`\n",
    "- An optional `return` statement at the end of the definition, which returns some of the variables from the function as `outputs`.\n",
    "\n",
    "The function code is whatever is inside the indented block immediately below the def statement. \n",
    "\n",
    "NOTE: you will notice that when we ran the code, the function itself didn't run. This is because the `def` statement only defines how the function works. To run the code inside, we will need to call it.\n"
   ]
  },
  {
   "attachments": {},
   "cell_type": "markdown",
   "metadata": {},
   "source": [
    "### Mini-practical: write your first python function\n",
    "\n",
    "In the code block below, define a function called `hello_world`. It should print the string `Hello World!` when called."
   ]
  },
  {
   "cell_type": "code",
   "execution_count": null,
   "metadata": {},
   "outputs": [],
   "source": [
    "# TODO - write a function called `hello_world`\n"
   ]
  },
  {
   "attachments": {},
   "cell_type": "markdown",
   "metadata": {},
   "source": [
    "Now that we have written a function, we can call it elsewhere in our code by writing the name of the function, followed by parentheses. This is what is known as calling a function. In the code block below, call your `hello_world` function. It should print the string `Hello World!` when you run the code block:"
   ]
  },
  {
   "cell_type": "code",
   "execution_count": null,
   "metadata": {},
   "outputs": [],
   "source": [
    "# TODO - Call your function!\n"
   ]
  },
  {
   "attachments": {},
   "cell_type": "markdown",
   "metadata": {},
   "source": [
    "### Function Calls\n",
    "\n",
    "\n",
    "A function call refers to the action of invoking or executing a function. When a function is called, the program control is transferred to the function, and the code inside the function is executed. A function call typically consists of the function name, followed by a set of parentheses that may contain arguments.\n",
    "\n",
    "The fundamental idea here is that a function is defined once, and then can be re-used many times in your code. \n",
    "\n",
    "Some functions are pre-defined by Python, or by the various libraries and packages you can import. In the example below, we use the built-in `len` function to find the length of a string:"
   ]
  },
  {
   "cell_type": "code",
   "execution_count": null,
   "metadata": {},
   "outputs": [],
   "source": [
    "my_string = \"this is a sentence\"\n",
    "len(my_string)\n"
   ]
  },
  {
   "attachments": {},
   "cell_type": "markdown",
   "metadata": {},
   "source": [
    "## Function Parameters\n",
    "\n",
    "So far, we have only created a very simple function with no inputs or outputs. Functions like this will behave exactly the same every time they are called. However we can make them much more general in use by adding parameters to the definition.\n",
    "\n",
    "A parameter is a kind of temporary variable that is used inside a function to represent some value you might want to pass to the function. For example, look at the function below, which is a simple function to calculate the sum of two inputs:"
   ]
  },
  {
   "cell_type": "code",
   "execution_count": null,
   "metadata": {},
   "outputs": [],
   "source": [
    "def add_two_variables(a,b):\n",
    "    return a + b\n",
    "\n",
    "add_two_variables(2,3)\n"
   ]
  },
  {
   "attachments": {},
   "cell_type": "markdown",
   "metadata": {},
   "source": [
    "Obviously this is not a particularly useful function, but it does illustrate the role of parameters very clearly. Because we want to be able to add any pair of numbers together, we need to use two temporary variables to specify the form of operation we want to perform, rather than having to pick any specific numbers to use.\n",
    "\n",
    "Another use of parameters is as flags or options, which specify some choice about the behaviour of the function. For exmaple, we can modify our function to desribe what it's doing if we pass it a flag that tells it to do so:"
   ]
  },
  {
   "cell_type": "code",
   "execution_count": null,
   "metadata": {},
   "outputs": [],
   "source": [
    "def add_two_variables(a: int , b: int, annoyingly_verbose=True):\n",
    "    if annoyingly_verbose == True:\n",
    "        print(\"I am now adding your two numbers together, and will return their sum to you as an output, so that you can assign them to a variable.\")\n",
    "    return a + b\n",
    "\n",
    "\n",
    "add_two_variables(a=2, b=3)\n"
   ]
  },
  {
   "attachments": {},
   "cell_type": "markdown",
   "metadata": {},
   "source": [
    "Often the default behaviour of a funciton is not quite what we're after. In this case, the function is annoyingly verbose. Call it again in the code block below, setting the `annoyingly_verbose` parameter to `False`:"
   ]
  },
  {
   "cell_type": "code",
   "execution_count": null,
   "metadata": {},
   "outputs": [],
   "source": [
    "# TODO - Call the function again, setting the `annoyingly_verbose` parameter to `False\n"
   ]
  },
  {
   "attachments": {},
   "cell_type": "markdown",
   "metadata": {},
   "source": [
    "## Arguments vs. Parameters\n",
    "\n",
    "You will hear these terms getting mixed up quite a lot, even by quite experienced coders.  But it's actually very easy to understand, so you don't have to be one of those people that doesn't know the difference!\n",
    "\n",
    "In simple terms, a parameter is a placeholder or a variable that is used in a function definition, while an argument is a value that is passed to a function when it is called. Parameters are used to define the type, name, and number of inputs that a function requires, while arguments are used to supply the actual values for those inputs when the function is called.\n",
    "\n",
    "In the case of our call to the `add_two_variables` function above, `a`, `b`, and `needlessly_verbose` are the parameters of the function, whereas `2`, `3` and `True` are the arguments we provide when calling it. Arguments map to parameters. You can either specify the arguments in the order in which the parameters are listed, which will map them automatically, or you can specify them explicitly by assigning them directly with the `=` operator.\n",
    "\n",
    "## Quick Quiz:\n",
    "\n",
    "Look at the function definiton and call below, and answer the questions about the parameters and arguments:"
   ]
  },
  {
   "cell_type": "code",
   "execution_count": null,
   "metadata": {},
   "outputs": [],
   "source": [
    "def length_of_two_strings(string_1, string_2, ignore_whitespace = False):\n",
    "    if ignore_whitespace == True:\n",
    "        string_1 = string_1.replace(\" \", \"\")\n",
    "        string_2 = string_2.replace(\" \", \"\")\n",
    "    return len(string_1) + len(string_2)\n",
    "\n",
    "my_string = \"this is a sentence\"\n",
    "my_other_string = \"this is not a penguin\"\n",
    "\n",
    "length_of_two_strings(my_string, my_other_string, ignore_whitespace=True)\n"
   ]
  },
  {
   "attachments": {},
   "cell_type": "markdown",
   "metadata": {},
   "source": [
    "1. `string_1` is a ...\n",
    "2. `my_other_string` is a ...\n",
    "3. `True` is a ...\n",
    "4. `False` is a ..."
   ]
  },
  {
   "cell_type": "code",
   "execution_count": null,
   "metadata": {},
   "outputs": [],
   "source": [
    "#@title Click `Show code` in the code cell. { display-mode: \"form\" }\n",
    "question_1 = \"argument\" #@param [\"argument\", \"parameter \", \"variable\"]\n",
    "print('You selected', question_1)\n",
    "\n",
    "question_2 = \"function\" #@param [\"parameter\", \"argument\", \"function\"]\n",
    "print('You selected', question_2)\n",
    "\n",
    "question_3 = \"parameter\" #@param [\"parameter\", \"argument\"]\n",
    "print('You selected', question_3)\n",
    "\n",
    "question_4 = \"default_variable\" #@param [\"default_argument\", \"default_parameter\", \"default_variable\"]\n",
    "print('You selected', question_4)\n"
   ]
  },
  {
   "attachments": {},
   "cell_type": "markdown",
   "metadata": {},
   "source": [
    "## The Return statement and variable scope\n",
    "\n",
    "Functions are like isolated islands of code, and in general, what happens inside a function stays inside a function. The code outside the function can't \"see\" the inner workings. It's like a black box - stuff goes in, mysterious things happen, and then something may or may not come out the other end.\n",
    "\n",
    "Let's return to our `add_two_numbers` function. We called it on our input arguments of `2` and `3`, and we got the output of `5`. That is fine if we just want to know the answer. But what if we wanted to do someting with the answer afterwards? The `return` statement of a function lists the variables of the function that will be returned in the function's output. To use those variables outside the function, we can return them as one or more output variables. \n"
   ]
  },
  {
   "cell_type": "code",
   "execution_count": null,
   "metadata": {},
   "outputs": [],
   "source": [
    "def add_two_variables(a,b):\n",
    "    return a + b\n",
    "\n",
    "add_two_variables(2,3)\n",
    "\n",
    "my_sum = add_two_variables(2,3)\n",
    "\n",
    "my_sum * 2\n"
   ]
  },
  {
   "attachments": {},
   "cell_type": "markdown",
   "metadata": {},
   "source": [
    "It is important to note that the code inside the function is isolated from the rest of the script. Variables defined inside the fucntion are only visible when the program control is inside the function. You cannot use them outside. This concept is known as the function's scope. You don't need to worry about this too much right now, as we will cover it in much more detail later, but for now, just remember that if we want to use something we have generated inside a function, we need to `return` it as an output, and assign it to a variable outside of the function.\n",
    "\n"
   ]
  },
  {
   "cell_type": "code",
   "execution_count": null,
   "metadata": {},
   "outputs": [],
   "source": [
    "def add_two_variables(a,b):\n",
    "    return a + b\n",
    "\n",
    "add_two_variables(2,3)\n",
    "\n",
    "print(a)\n"
   ]
  },
  {
   "attachments": {},
   "cell_type": "markdown",
   "metadata": {},
   "source": [
    "One more thing to note about variable scope. While the world outside the function (AKA the `global namespace`) can't see variables inside a function, the world inside of the function (AKA the function's `local namespace`) __can__ see what's outside of it:\n"
   ]
  },
  {
   "cell_type": "code",
   "execution_count": null,
   "metadata": {},
   "outputs": [],
   "source": [
    "a= 10\n",
    "b = 2\n",
    "def add_two_variables():\n",
    "    return a + b\n",
    "\n",
    "add_two_variables()\n",
    "\n"
   ]
  },
  {
   "attachments": {},
   "cell_type": "markdown",
   "metadata": {},
   "source": [
    "But if we define a variable inside the function that has the same name as a variable outside, the function will always look in its `local namespace` first, before looking outside:"
   ]
  },
  {
   "cell_type": "code",
   "execution_count": null,
   "metadata": {},
   "outputs": [],
   "source": [
    "a= 10\n",
    "b = 2\n",
    "def add_two_variables():\n",
    "    b=20\n",
    "    return a + b\n",
    "\n",
    "add_two_variables()\n"
   ]
  },
  {
   "attachments": {},
   "cell_type": "markdown",
   "metadata": {},
   "source": [
    "### Namespace quiz:\n",
    "\n",
    "Take a look at the nested functions below. What will the the output when we run this function?"
   ]
  },
  {
   "cell_type": "code",
   "execution_count": null,
   "metadata": {},
   "outputs": [],
   "source": [
    "def another_addition(a,b):\n",
    "    a=20\n",
    "    return a + b\n",
    "\n",
    "def addition(a,b):\n",
    "    a=1\n",
    "    b=15\n",
    "    c = another_addition(a,b)\n",
    "    return c\n",
    "\n",
    "a = 2\n",
    "b = 3\n",
    "\n",
    "addition(a,b)\n"
   ]
  },
  {
   "cell_type": "code",
   "execution_count": null,
   "metadata": {},
   "outputs": [],
   "source": [
    "#@title Click `Show code` in the code cell. { display-mode: \"form\" }\n",
    "question_1 = \"5\" #@param [\"5\", \"35 \", \"16\",\"23\"]\n",
    "print('You selected', question_1)\n"
   ]
  },
  {
   "attachments": {},
   "cell_type": "markdown",
   "metadata": {},
   "source": [
    "# Practicals"
   ]
  },
  {
   "attachments": {},
   "cell_type": "markdown",
   "metadata": {},
   "source": [
    "## 1. Range Checker function\n",
    "\n",
    "Write a function called check_range that checks whether a number is in a given range (inclusive of both low *__and__* high). <br>\n",
    "If it is, return \"`x` is between `y` and `z`.\" <br>\n",
    "If it isn't, return \"`x` is NOT between `y` and `z`.\" <br>\n",
    "Where:\n",
    "- `x` is the number\n",
    "- `y` is the lower bound\n",
    "- `z` is the upper bound"
   ]
  },
  {
   "cell_type": "code",
   "execution_count": 11,
   "metadata": {},
   "outputs": [],
   "source": [
    "# TODO - Define the range-checker function\n"
   ]
  },
  {
   "cell_type": "code",
   "execution_count": null,
   "metadata": {},
   "outputs": [],
   "source": [
    "check_range(10,20,100)\n"
   ]
  },
  {
   "cell_type": "code",
   "execution_count": null,
   "metadata": {},
   "outputs": [],
   "source": [
    "check_range(10,1,20)\n"
   ]
  },
  {
   "attachments": {},
   "cell_type": "markdown",
   "metadata": {},
   "source": [
    "Write a function called `bool_range` which does the same thing but returns only a boolean:"
   ]
  },
  {
   "cell_type": "code",
   "execution_count": null,
   "metadata": {},
   "outputs": [],
   "source": [
    "# TODO - Define the Boolean range-checker function\n"
   ]
  },
  {
   "attachments": {},
   "cell_type": "markdown",
   "metadata": {},
   "source": [
    "## 2. Unique Elements in a List\n",
    "\n",
    "Write a function called unique_list that takes in list and returns a list with only the unique elements of the input."
   ]
  },
  {
   "cell_type": "code",
   "execution_count": null,
   "metadata": {},
   "outputs": [],
   "source": [
    "# TODO - Define the unique list function\n"
   ]
  },
  {
   "cell_type": "code",
   "execution_count": null,
   "metadata": {},
   "outputs": [],
   "source": [
    "my_list = [1,3,5,6,4,3,2,3,3,4,3,4,5,6,6,4,3,2,12,3,5,63,4,5,3,3,2]\n",
    "\n",
    "unique_list(my_list)\n"
   ]
  },
  {
   "attachments": {},
   "cell_type": "markdown",
   "metadata": {},
   "source": [
    "Now find another way to write the same function:"
   ]
  },
  {
   "cell_type": "code",
   "execution_count": null,
   "metadata": {},
   "outputs": [],
   "source": [
    "# TODO - Define the unique list function\n"
   ]
  },
  {
   "cell_type": "code",
   "execution_count": null,
   "metadata": {},
   "outputs": [],
   "source": [
    "my_list = [1,3,5,6,4,3,2,3,3,4,3,4,5,6,6,4,3,2,12,3,5,63,4,5,3,3,2]\n",
    "\n",
    "unique_list(my_list)\n"
   ]
  }
 ],
 "metadata": {
  "kernelspec": {
   "display_name": "Multinational",
   "language": "python",
   "name": "python3"
  },
  "language_info": {
   "codemirror_mode": {
    "name": "ipython",
    "version": 3
   },
   "file_extension": ".py",
   "mimetype": "text/x-python",
   "name": "python",
   "nbconvert_exporter": "python",
   "pygments_lexer": "ipython3",
   "version": "3.11.0"
  }
 },
 "nbformat": 4,
 "nbformat_minor": 2
}
