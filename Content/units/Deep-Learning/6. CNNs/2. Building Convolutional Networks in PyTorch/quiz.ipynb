{
 "cells": [
  {
   "attachments": {},
   "cell_type": "markdown",
   "metadata": {},
   "source": [
    "# Building Convolutional Neural Networks in Pytorch"
   ]
  },
  {
   "attachments": {},
   "cell_type": "markdown",
   "metadata": {},
   "source": [
    "## Which of the following is the most commonly used activation function in CNNs?\n",
    "\n",
    "- Linear function\n",
    "- Sigmoid function\n",
    "- Rectified Linear Unit (ReLU) ***\n",
    "- Hyperbolic tangent function"
   ]
  },
  {
   "attachments": {},
   "cell_type": "markdown",
   "metadata": {},
   "source": [
    "## Which of the following is NOT a valid input parameter for the PyTorch `Conv2d` class?\n",
    "\n",
    "- Input channels\n",
    "- Output channels\n",
    "- Kernel size\n",
    "- Stride\n",
    "- Output layer size ***"
   ]
  },
  {
   "attachments": {},
   "cell_type": "markdown",
   "metadata": {},
   "source": [
    "## After passing inputs through one or more convolutional layers, what transformation is required before forwarding the output to conventional feed-forward layer?\n",
    "\n",
    "- Activation\n",
    "- Pooling\n",
    "- Flatten ***\n",
    "- Rectification\n",
    "- Expansion\n"
   ]
  },
  {
   "attachments": {},
   "cell_type": "markdown",
   "metadata": {},
   "source": [
    "## True or False: Convolutional Neural Networks can only process vector data as inputs.\n",
    "\n",
    "- True \n",
    "- False ***"
   ]
  },
  {
   "attachments": {},
   "cell_type": "markdown",
   "metadata": {},
   "source": [
    "## When building a multi-layer CNN in PyTorch, the number of input channels in each hidden layer must match:\n",
    "\n",
    "- The number of colour channels in the original image\n",
    "- The number of filter kernels in the previous layer ***\n",
    "- The spatial dimensions of the input image\n",
    "- There are no constraints on the number of input channels "
   ]
  }
 ],
 "metadata": {
  "language_info": {
   "name": "python"
  },
  "orig_nbformat": 4
 },
 "nbformat": 4,
 "nbformat_minor": 2
}
