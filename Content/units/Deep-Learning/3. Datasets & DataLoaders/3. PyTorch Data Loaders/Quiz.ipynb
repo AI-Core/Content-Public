{
 "cells": [
  {
   "attachments": {},
   "cell_type": "markdown",
   "metadata": {},
   "source": [
    "# PyTorch Data Loaders"
   ]
  },
  {
   "attachments": {},
   "cell_type": "markdown",
   "metadata": {},
   "source": [
    "## What is mini-batch gradient descent?\n",
    "\n",
    "- An optimization algorithm that computes the gradient of the cost function using a single example at a time\n",
    "- An optimization algorithm that computes the gradient of the cost function using the entire dataset at once\n",
    "- An optimization algorithm that computes the gradient of the cost function using a small randomly selected subset of the dataset at each iteration ***\n",
    "- An optimization algorithm that computes the gradient of the cost function using a small fixed subset of the dataset at each iteration"
   ]
  },
  {
   "attachments": {},
   "cell_type": "markdown",
   "metadata": {},
   "source": [
    "## What is the purpose of a data loader in PyTorch?\n",
    "\n",
    "- To load the entire dataset into memory\n",
    "- To convert the dataset into a PyTorch tensor\n",
    "- To preprocess the dataset before training\n",
    "- To efficiently load the dataset in batches during training ***"
   ]
  },
  {
   "attachments": {},
   "cell_type": "markdown",
   "metadata": {},
   "source": [
    "## Given the following PyTorch code to create a data loader:\n",
    "\n",
    "``` python\n",
    "import torch\n",
    "from torch.utils.data import DataLoader, TensorDataset\n",
    "\n",
    "x = torch.randn(100, 3)\n",
    "y = torch.randn(100, 1)\n",
    "dataset = TensorDataset(x, y)\n",
    "dataloader = DataLoader(dataset, batch_size=10, shuffle=True)\n",
    "```\n",
    "\n",
    "What is the batch size of the data loader and what does the `shuffle` argument do?\n",
    "\n",
    "- Batch size is 100 and shuffle randomly selects a subset of the data for training\n",
    "- Batch size is 3 and shuffle shuffles the features within each sample\n",
    "- Batch size is 10 and shuffle shuffles the order of the samples in each batch ***\n",
    "- Batch size is 10 and shuffle randomly shuffles the entire dataset before creating batches\n"
   ]
  },
  {
   "attachments": {},
   "cell_type": "markdown",
   "metadata": {},
   "source": [
    "## What is a batch in PyTorch data loaders?\n",
    "\n",
    "- A single sample of data from the dataset\n",
    "- A subset of the dataset consisting of a fixed number of samples ***\n",
    "- The entire dataset loaded into memory\n",
    "- A function that preprocesses the dataset before training"
   ]
  }
 ],
 "metadata": {
  "language_info": {
   "name": "python"
  },
  "orig_nbformat": 4
 },
 "nbformat": 4,
 "nbformat_minor": 2
}
