{
 "cells": [
  {
   "attachments": {},
   "cell_type": "markdown",
   "metadata": {},
   "source": [
    "# Pytorch Datasets"
   ]
  },
  {
   "attachments": {},
   "cell_type": "markdown",
   "metadata": {},
   "source": [
    "## Where can we find PyTorch's data functionality?\n",
    "\n",
    "- `pytorch.data`\n",
    "- `pytorch.utils.data`\n",
    "- `torch.utils.data` ***\n",
    "- `torch.data`\n"
   ]
  },
  {
   "attachments": {},
   "cell_type": "markdown",
   "metadata": {},
   "source": [
    "## When creating a custom PyTorch dataset, what methods are compulsory to define?\n",
    "\n",
    "- `__len__` and `__getitem__` ***\n",
    "- `__getitem___`\n",
    "- `__len__`, `__init__` and `__getitem___`\n",
    "- `__init__` and `__getitem__`\n",
    "- `__init__` and `__len__`"
   ]
  },
  {
   "attachments": {},
   "cell_type": "markdown",
   "metadata": {},
   "source": [
    "## True or False: The `DataLoader` class in PyTorch automatically handles the collation of samples in a batch.\n",
    "\n",
    "- True ***\n",
    "- False"
   ]
  },
  {
   "attachments": {},
   "cell_type": "markdown",
   "metadata": {},
   "source": [
    "## True or False: PyTorch Datasets support both indexing and slicing.\n",
    "\n",
    "- True\n",
    "- False ***\n"
   ]
  },
  {
   "attachments": {},
   "cell_type": "markdown",
   "metadata": {},
   "source": [
    "## To get an item at index `x` from a PyTorch dataset **instance**, the correct syntax is:\n",
    "\n",
    "- `dataset.__getitem__(x)`\n",
    "- `dataset[x]` ***\n",
    "- `dataset.items[x]`\n",
    "- `dataset[x]` OR  `dataset.items[x]`\n",
    "- `dataset[x].item`\n"
   ]
  },
  {
   "attachments": {},
   "cell_type": "markdown",
   "metadata": {},
   "source": [
    "## Which PyTorch library contains a large number of image datasets?\n",
    "\n",
    "- `torchvision.datasets` ***\n",
    "- `torch.data.datasets`\n",
    "- `torchvision.data`\n",
    "- `torch.datasets.imagedatasets`"
   ]
  },
  {
   "attachments": {},
   "cell_type": "markdown",
   "metadata": {},
   "source": [
    "## What does the `__getitem__` method in a Pytorch dataset do? Select all that apply.\n",
    "\n",
    "- Tells python how to treat the dataset as an iterable ***\n",
    "- Describes how to return the features and label of the datum at a specific index ***\n",
    "- Retrieves a random item from the dataset\n",
    "- Retrieves a random batch from the dataset, of a size specified by the `batch_size` parameter"
   ]
  },
  {
   "attachments": {},
   "cell_type": "markdown",
   "metadata": {},
   "source": [
    "## What is the MNIST dataset?\n",
    "\n",
    "- A dataset of images of handwriting samples ***\n",
    "- A dataset of images of household items\n",
    "- A dataset of 1000 different common objects, including people, animals, and vehicles\n",
    "- A large corpus of text data"
   ]
  }
 ],
 "metadata": {
  "language_info": {
   "name": "python"
  },
  "orig_nbformat": 4
 },
 "nbformat": 4,
 "nbformat_minor": 2
}
