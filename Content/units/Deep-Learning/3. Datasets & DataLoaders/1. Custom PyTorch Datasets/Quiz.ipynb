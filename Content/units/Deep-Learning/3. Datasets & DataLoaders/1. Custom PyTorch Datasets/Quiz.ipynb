{
 "cells": [
  {
   "attachments": {},
   "cell_type": "markdown",
   "metadata": {},
   "source": [
    "# Custom PyTorch Datasets"
   ]
  },
  {
   "attachments": {},
   "cell_type": "markdown",
   "metadata": {},
   "source": [
    "## What is the recommended method for creating a custom PyTorch dataset class?\n",
    "\n",
    "-  Subclassing the `torch.utils.data.Dataset` class ***\n",
    "-  Creating a Python list of the data\n",
    "-  Defining a custom `DataLoader` class\n",
    "-  Implementing a custom loss function"
   ]
  },
  {
   "attachments": {},
   "cell_type": "markdown",
   "metadata": {},
   "source": [
    "## What is the purpose of the `__init__()` method in a custom PyTorch dataset class?\n",
    "\n",
    "- To return a single sample of data from the dataset\n",
    "- To preprocess the data\n",
    "- To initialize the parameters of the optimizer\n",
    "- To set up the metadata for the dataset ***"
   ]
  },
  {
   "attachments": {},
   "cell_type": "markdown",
   "metadata": {},
   "source": [
    "## Which of the following code snippets shows the correct implementation of the `__init__()` method for a custom PyTorch `Dataset` class?\n",
    "\n",
    "- This code ***\n",
    "``` python\n",
    "class MyDataset(torch.utils.data.Dataset):\n",
    "    def __init__(self, data):\n",
    "        self.data = data\n",
    "```\n",
    "\n",
    "- This code \n",
    "``` python\n",
    "class MyDataset(torch.utils.data.Dataset):\n",
    "    def __init__(self, data):\n",
    "        super().__init__()\n",
    "        self.data = data\n",
    "```\n",
    "\n",
    "- This code\n",
    "``` python\n",
    "class MyDataset():\n",
    "    def __init__(self, data):\n",
    "        super().__init__()\n",
    "        self.data = data\n",
    "```\n",
    "\n",
    "- This code\n",
    "``` python\n",
    "class MyDataset():\n",
    "    def __init__(self, data):\n",
    "        self.data = data\n",
    "```"
   ]
  },
  {
   "attachments": {},
   "cell_type": "markdown",
   "metadata": {},
   "source": [
    "## What is the purpose of the `__getitem__()` method in a custom PyTorch `Dataset` class?\n",
    "\n",
    "- To define the structure of the neural network\n",
    "- To preprocess the data\n",
    "- To return a single sample of data from the dataset ***\n",
    "- To set up the metadata for the dataset"
   ]
  },
  {
   "attachments": {},
   "cell_type": "markdown",
   "metadata": {},
   "source": [
    "## Which of the following code snippets correctly defines the `__getitem__()` method in a custom PyTorch `Dataset` class to return a single sample of data as a tuple of features and labels from a CSV file?\n",
    "\n",
    "- This code ***\n",
    "``` python\n",
    "class CustomDataset(torch.utils.data.Dataset):\n",
    "    def __init__(self, csv_file):\n",
    "        super().__init__()\n",
    "        self.data = pd.read_csv(csv_file)\n",
    "\n",
    "    def __getitem__(self, index):\n",
    "        row = self.data.iloc[index]\n",
    "        features = row[:-1]\n",
    "        label = row[-1]\n",
    "        return (features, label)\n",
    "```\n",
    "        \n",
    "- This code\n",
    "``` python\n",
    "class CustomDataset(torch.utils.data.Dataset):\n",
    "    def __init__(self, csv_file):\n",
    "        self.data = pd.read_csv(csv_file)\n",
    "\n",
    "    def __getitem__(self, index):\n",
    "        row = self.data.iloc[index]\n",
    "        return {'features': row[:-1], 'label': row[-1]}\n",
    "```\n",
    "        \n",
    "- This code\n",
    "``` python\n",
    "class CustomDataset(torch.utils.data.Dataset):\n",
    "    def __init__(self, csv_file):\n",
    "        self.data = pd.read_csv(csv_file)\n",
    "\n",
    "    def __getitem__(self, index):\n",
    "        row = self.data.iloc[index]\n",
    "        return {'feature1': row[0], 'feature2': row[1], 'feature3': row[2], 'feature4': row[3], 'label': row[4]}\n",
    "```\n"
   ]
  },
  {
   "attachments": {},
   "cell_type": "markdown",
   "metadata": {},
   "source": [
    "## What is the purpose of the `__len__()` method in a custom PyTorch `Dataset` class?\n",
    "\n",
    "- To return a single sample of data from the dataset\n",
    "- To preprocess the data\n",
    "- To return the number of samples in the dataset ***\n",
    "- To set up the metadata for the dataset"
   ]
  }
 ],
 "metadata": {
  "language_info": {
   "name": "python"
  },
  "orig_nbformat": 4
 },
 "nbformat": 4,
 "nbformat_minor": 2
}
