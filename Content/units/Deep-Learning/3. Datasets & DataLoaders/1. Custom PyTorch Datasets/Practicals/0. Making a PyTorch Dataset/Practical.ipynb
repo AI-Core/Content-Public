{
 "cells": [
  {
   "attachments": {},
   "cell_type": "markdown",
   "metadata": {},
   "source": [
    "# Making a PyTorch Dataset"
   ]
  },
  {
   "attachments": {},
   "cell_type": "markdown",
   "metadata": {},
   "source": [
    "#### 1. Import `torch` and `pandas`.\n"
   ]
  },
  {
   "cell_type": "code",
   "execution_count": 28,
   "metadata": {},
   "outputs": [],
   "source": [
    "# Run this cell to import the relevant dependencies\n",
    "import torch\n",
    "from numpy import genfromtxt\n",
    "import numpy as np"
   ]
  },
  {
   "attachments": {},
   "cell_type": "markdown",
   "metadata": {},
   "source": [
    "#### 2. Define a class called `BostonHousingDataset` that inherits from `torch.utils.data.Dataset`.\n",
    "\n",
    "#### 3. Inside the class constructor, read in the dataset csv file using `numpy.genfromtxt`.\n",
    "You will need to add an argument to set the delimiter to comma, and a second argument to set the skip_header parameter. View the docs to determine how to do this.\n",
    "\n",
    "#### 4. Assign two attributes, `self.X` and `self.Y`, and assign them to your features and labels.\n",
    "The labels are in the final column of the data, all the other columns are features. Convert the data to torch tensor format as you assign them, and set the datatype to float32. You can look at the docs for `torch.tensor()` for help.\n",
    "\n",
    "#### 5. Now define the second crucial method of the dataset class: `__getitem__`.\n",
    "This needs to take in an index of your dataset and return the features and label corresponding to that index.\n",
    "\n",
    "#### 6. Finally, define the `__len__` method, which defines how your dataset responds to the len() method in python.\n",
    "It should print the number of rows in your dataset when called.\n",
    "\n",
    "\n"
   ]
  },
  {
   "cell_type": "code",
   "execution_count": null,
   "metadata": {},
   "outputs": [],
   "source": [
    "class BostonHousingDataset(torch.utils.data.Dataset):\n",
    "    \n",
    "    def __init__(self):\n",
    "        #TODO - Read in 'BostonHousing.csv' using the `genfromtxt` method\n",
    "        #TODO - Select features and assign to `self.X`, converting to torch tensor of dtype float32\n",
    "        #TODO - Select labels and assign to `self.y`, converting to torch tensor of dtype float32\n",
    "        pass\n",
    "    \n",
    "    def __len__(self):\n",
    "        #TODO - define the __len__ method.\n",
    "        pass\n",
    "\n",
    "    def __getitem__(self,idx):\n",
    "        #TODO - Define the __getitem__ method so that it returns the features and labels associated with a given index\n",
    "        pass\n",
    "\n",
    "#TODO - Create an instance of the `BostonHousingDataset` class\n",
    "#TODO - Confirm correct feature and label slicing, and data type, by printing their shape.\n",
    "#TODO - Confirm that len method works\n",
    "#TODO - Confirm that __getitem__ method works, and that the features have a batch dimension.\n"
   ]
  },
  {
   "attachments": {},
   "cell_type": "markdown",
   "metadata": {},
   "source": [
    "\n",
    "#### 7. Finally, let's load our data into a dataloader as if we were going to perform minibatch optimisation. \n",
    "\n",
    "Create an instance of your BostonHousingDatset class, and pass it as an argument to an instance of the `DataLoader` class (found in `torch.utils.data`). Specify a batch size of 4 and set shuffle to `True`, and call the instance `train_loader`."
   ]
  },
  {
   "cell_type": "code",
   "execution_count": null,
   "metadata": {},
   "outputs": [],
   "source": [
    "# TODO - Create an instance of the `Dataloader` class, passing arguments to dataset, batch size and shuffle parameters.\n"
   ]
  },
  {
   "attachments": {},
   "cell_type": "markdown",
   "metadata": {},
   "source": [
    "#### 8. We can now test our dataloader by running the command `next(iter(train_loader)`\n",
    "\n",
    "Print the result."
   ]
  },
  {
   "cell_type": "code",
   "execution_count": null,
   "metadata": {},
   "outputs": [],
   "source": [
    "# TODO - Get an example output from the dataloader.\n",
    "# TODO - Confirm that features have dimensionality = batch_size x 1 x n_features\n",
    "# TODO - Confirm labels have dimensionality =  batch_size"
   ]
  }
 ],
 "metadata": {
  "kernelspec": {
   "display_name": "huggingface1",
   "language": "python",
   "name": "python3"
  },
  "language_info": {
   "codemirror_mode": {
    "name": "ipython",
    "version": 3
   },
   "file_extension": ".py",
   "mimetype": "text/x-python",
   "name": "python",
   "nbconvert_exporter": "python",
   "pygments_lexer": "ipython3",
   "version": "3.10.8"
  },
  "orig_nbformat": 4,
  "vscode": {
   "interpreter": {
    "hash": "e36d4b688d7e3685ae8ad6703c0e99019531dd9f05b6e8f8c82292a1f759bcdc"
   }
  }
 },
 "nbformat": 4,
 "nbformat_minor": 2
}
