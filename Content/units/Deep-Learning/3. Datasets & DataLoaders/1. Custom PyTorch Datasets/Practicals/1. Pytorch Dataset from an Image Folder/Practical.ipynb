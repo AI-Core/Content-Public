{
 "cells": [
  {
   "attachments": {},
   "cell_type": "markdown",
   "metadata": {},
   "source": [
    "# Create a Custom Pytorch Image Dataset\n",
    "\n",
    "In this practical, we will be creating a custom image dataset for a classification problem, using a folder of images downloaded from Google Images. Inside the `Images` directory there are four subfolders, each corresponding to a type of animal. These will form the classes of our classifier, with the examples being the images contained in the subfolders."
   ]
  },
  {
   "cell_type": "code",
   "execution_count": null,
   "metadata": {},
   "outputs": [],
   "source": [
    "# Run this code to import the necessary libraries.\n",
    "import os\n",
    "from PIL import Image\n",
    "from torch.utils.data import Dataset, DataLoader\n",
    "from torchvision import transforms"
   ]
  },
  {
   "attachments": {},
   "cell_type": "markdown",
   "metadata": {},
   "source": [
    "Write a function to get the list of class names. The class names are the same as the subfolders of the `Images/` directory. The function should return a list of class names as strings."
   ]
  },
  {
   "cell_type": "code",
   "execution_count": null,
   "metadata": {},
   "outputs": [],
   "source": [
    "def get_class_names():\n",
    "    #TODO - Write a function to get a list of class names from the subfolder names inside `Images/`\n",
    "    pass\n",
    "\n",
    "animals_list=get_class_names()"
   ]
  },
  {
   "attachments": {},
   "cell_type": "markdown",
   "metadata": {},
   "source": [
    "Next we will create a class called \"Animal\" which will collect all the images from a given class."
   ]
  },
  {
   "cell_type": "code",
   "execution_count": 5,
   "metadata": {},
   "outputs": [],
   "source": [
    "class Animal:\n",
    "    def __init__(self, animal_name: str):\n",
    "\n",
    "        #TODO - get a list of all the filepaths of the images inside the subfolder and assign to the attribute `self.images`. They should be of the format eg. `images/frog/img_10.png`\n",
    "        self.images=None\n",
    "        self.name = animal_name\n",
    "\n",
    "    def show(self):\n",
    "        #TODO - when called, this method should display a random example from the list of images.\n",
    "        pass\n",
    "\n",
    "\n",
    "frog=Animal('frog')\n",
    "frog.show()"
   ]
  },
  {
   "attachments": {},
   "cell_type": "markdown",
   "metadata": {},
   "source": [
    "Now we need to create an encoder and decoder dictionary. These should map the class names to the integer class labels we will be using. Use dictionary comprehension to create these variables."
   ]
  },
  {
   "cell_type": "code",
   "execution_count": null,
   "metadata": {},
   "outputs": [],
   "source": [
    "encoder = None # TODO Create your encoder. The keys should be the class name, and the values the label eg. {'frog': 0}\n",
    "decoder = None # TODO Import your decoder code. It should be the inverse of the encoder."
   ]
  },
  {
   "attachments": {},
   "cell_type": "markdown",
   "metadata": {},
   "source": [
    "Next, we need to create an image transform. This can be achieved using the `transforms` module from the  `Torchvision` library. We will need to add transforms to resize the image and convert it to a `pytorch` tensor. You can read the docs for the `transforms` module to find the syntax for this."
   ]
  },
  {
   "cell_type": "code",
   "execution_count": null,
   "metadata": {},
   "outputs": [],
   "source": [
    "data_transform = transforms.Compose([\n",
    "    # TODO - add a transform to resize the image to 256 x 256 pixels.\n",
    "    # TODO - add a transform to convert the image to a pytorch tensor.\n",
    "    transforms.Normalize([0.485, 0.456, 0.406], [0.229, 0.224, 0.225])\n",
    "])"
   ]
  },
  {
   "attachments": {},
   "cell_type": "markdown",
   "metadata": {},
   "source": [
    "Now we can put it all together into a dataset class that inherits from `torch.utils.Dataset`. \n",
    "1. Inside the class constructor: \n",
    "- Create an attribute called `self.animals` and assign it by calling the pre-defined `get_classes` method.\n",
    "- Add the code from the encoder and decoder you defined above, assigning them to attributes called `self.encoder` and `self.decoder`.\n",
    "- Complete the code inside the `for` loop, extending the attribute `self.images` by adding the image filepaths from each class.\n",
    "\n",
    "2. Now define the second crucial method of the dataset class: `__getitem__`. This needs to take in an index of your dataset and return the features and label corresponding to that index. Your code should:\n",
    "- Find the image filepath corresponding to the example index.\n",
    "- Split the filepath on the `/` delimiters to get the class label.\n",
    "- Use the encoder dictionary to get the image label.\n",
    "- Read in the image file associated with the filepath as a PIL image.\n",
    "- Apply the image transform.\n",
    "- Return the image and label\n",
    "\n",
    "3. Define the `__len__` method. "
   ]
  },
  {
   "cell_type": "code",
   "execution_count": null,
   "metadata": {},
   "outputs": [],
   "source": [
    "class AnimalsDataset(Dataset):\n",
    "    \"\"\"Example images of different types of animal\"\"\"\n",
    "\n",
    "    def __init__(self,transform):\n",
    "        self.animals = None # TODO use the `get_classes` method to populate this attribute.\n",
    "        self.encoder = None # TODO Import your encoder code.\n",
    "        self.decoder = None # TODO Import your decoder code.\n",
    "        self.all_imgs = []\n",
    "        for animal in self.animals:\n",
    "            #TODO - iterate through all the classes in self.animals, and add the images in that class to the list of all images.\n",
    "            pass\n",
    "        pass\n",
    "    \n",
    "    def get_classes(self):\n",
    "        animal_map = {}\n",
    "        animal_filepaths = os.listdir(\"images\")\n",
    "        # print(cities)\n",
    "        for animal_name in animal_filepaths:\n",
    "            animal_map[animal_name] = Animal(animal_name)\n",
    "        return animal_map\n",
    "\n",
    "    def __len__(self):\n",
    "        #TODO - Write code to return the number of images in the dataset\n",
    "        pass\n",
    "\n",
    "    def __getitem__(self,idx):\n",
    "        #TODO - Write code to return a single image as a torch tensor, and a label as an integer value.\n",
    "        return img, label\n",
    "        "
   ]
  },
  {
   "attachments": {},
   "cell_type": "markdown",
   "metadata": {},
   "source": [
    "Finally we can test that our dataset works by returning an example sample of the dataset, and printing the length of the dataset."
   ]
  },
  {
   "cell_type": "code",
   "execution_count": null,
   "metadata": {},
   "outputs": [],
   "source": [
    "# TODO - Create an instance of AnimalsDataset\n",
    "# TODO - Generate an example sample of features and label, and print the shape of each.\n",
    "# TODO - Print the length of the dataset."
   ]
  }
 ],
 "metadata": {
  "kernelspec": {
   "display_name": "huggingface1",
   "language": "python",
   "name": "python3"
  },
  "language_info": {
   "codemirror_mode": {
    "name": "ipython",
    "version": 3
   },
   "file_extension": ".py",
   "mimetype": "text/x-python",
   "name": "python",
   "nbconvert_exporter": "python",
   "pygments_lexer": "ipython3",
   "version": "3.10.8"
  },
  "orig_nbformat": 4,
  "vscode": {
   "interpreter": {
    "hash": "e36d4b688d7e3685ae8ad6703c0e99019531dd9f05b6e8f8c82292a1f759bcdc"
   }
  }
 },
 "nbformat": 4,
 "nbformat_minor": 2
}
