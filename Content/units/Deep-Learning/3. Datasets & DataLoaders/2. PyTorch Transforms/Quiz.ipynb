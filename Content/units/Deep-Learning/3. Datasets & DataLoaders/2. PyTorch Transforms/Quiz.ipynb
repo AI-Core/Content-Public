{
 "cells": [
  {
   "attachments": {},
   "cell_type": "markdown",
   "metadata": {},
   "source": [
    "# PyTorch Transforms"
   ]
  },
  {
   "attachments": {},
   "cell_type": "markdown",
   "metadata": {},
   "source": [
    "## What is a PyTorch transform?\n",
    "\n",
    "- A way to convert PyTorch tensors into Numpy arrays\n",
    "- A function that applies data augmentation to images or other input data ***\n",
    "- A tool for converting PyTorch models into TensorFlow models\n",
    "- A way to combine multiple PyTorch models into a single ensemble model"
   ]
  },
  {
   "attachments": {},
   "cell_type": "markdown",
   "metadata": {},
   "source": [
    "## What is the standard way to apply a PyTorch transform to a dataset?\n",
    "\n",
    "- Use the `apply_transform()` method on the dataset object\n",
    "- Define a transform function and pass it as an argument to the dataset object\n",
    "- Use the `torchvision.transforms` module to create and apply the transform ***\n",
    "- Apply the transform directly to the dataset object using the `__call__()` method"
   ]
  },
  {
   "attachments": {},
   "cell_type": "markdown",
   "metadata": {},
   "source": [
    "## What is the main purpose of the `transforms.PILToTensor()` transform in PyTorch?\n",
    "\n",
    "- To convert a PIL image to a PyTorch tensor ***\n",
    "- To normalize a tensor of pixel values\n",
    "- To convert a tensor of pixel values to a PIL image\n",
    "- To perform data augmentation on an image dataset\n",
    "\n"
   ]
  }
 ],
 "metadata": {
  "language_info": {
   "name": "python"
  },
  "orig_nbformat": 4
 },
 "nbformat": 4,
 "nbformat_minor": 2
}
