{
 "cells": [
  {
   "attachments": {},
   "cell_type": "markdown",
   "metadata": {},
   "source": [
    "# Tensorboard"
   ]
  },
  {
   "attachments": {},
   "cell_type": "markdown",
   "metadata": {},
   "source": [
    "## What is Tensorboard used for? Select the most appropriate answer.\n",
    "\n",
    "- To plot the input data given to the model\n",
    "- To plot the output data given by the model\n",
    "- To monitor machine learning experiments ***\n",
    "- To visualize the model's architecture\n"
   ]
  },
  {
   "attachments": {},
   "cell_type": "markdown",
   "metadata": {},
   "source": [
    "## In PyTorch, how would you log the training loss once per epoch in Tensorboard?\n",
    "\n",
    "- Using a snippet like this\n",
    "``` python\n",
    "from torch.utils.tensorboard import SummaryWriter\n",
    "writer = SummaryWriter()\n",
    "writer.add_scalar()\n",
    "```\n",
    "- Using a snippet like this\n",
    "``` python\n",
    "from torch.utils.tensorboard import SummaryWriter\n",
    "writer = SummaryWriter()\n",
    "writer.add_scalar('Loss/train', loss)\n",
    "```\n",
    "- Using a snippet like this ***\n",
    "``` python\n",
    "from torch.utils.tensorboard import SummaryWriter\n",
    "writer = SummaryWriter()\n",
    "writer.add_scalar('Loss/train', loss, epoch)\n",
    "```\n",
    "- You can't log the metrics to Tensorboard in PyTorch, because it's a Tensorflow feature\n",
    "\n"
   ]
  },
  {
   "attachments": {},
   "cell_type": "markdown",
   "metadata": {},
   "source": [
    "## True or False: You can use Tensorboard only during the training phase.\n",
    "\n",
    "- True\n",
    "- False ***"
   ]
  },
  {
   "attachments": {},
   "cell_type": "markdown",
   "metadata": {},
   "source": [
    "## What does the __\"Smoothing\"__ parameter do in Tensorboard when you increase it?\n",
    "\n",
    "- It plots the rolling average of the metrics you are logging ***\n",
    "- It tries to give you a better understanding of the model's performance\n",
    "- It gives you alternative metrics to the ones you are logging\n",
    "- It gives you alternative hyperparameters that make your model smoother\n"
   ]
  }
 ],
 "metadata": {
  "language_info": {
   "name": "python"
  },
  "orig_nbformat": 4
 },
 "nbformat": 4,
 "nbformat_minor": 2
}
