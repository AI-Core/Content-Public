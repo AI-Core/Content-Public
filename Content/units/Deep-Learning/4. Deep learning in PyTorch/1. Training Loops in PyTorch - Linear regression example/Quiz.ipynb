{
 "cells": [
  {
   "attachments": {},
   "cell_type": "markdown",
   "metadata": {},
   "source": [
    "# Training Loops in PyTorch - Linear regression example"
   ]
  },
  {
   "attachments": {},
   "cell_type": "markdown",
   "metadata": {},
   "source": [
    "## What does the number of epochs represent?\n",
    "\n",
    "- The number of times the neural network is trained\n",
    "- The number of weights that are updated in the neural network\n",
    "- The number of times each batch is processed by the neural network\n",
    "- The number of times the entire dataset is processed by the neural network ***"
   ]
  },
  {
   "attachments": {},
   "cell_type": "markdown",
   "metadata": {},
   "source": [
    "## True or False: You get a prediction per epoch.\n",
    "\n",
    "- True\n",
    "- False ***"
   ]
  },
  {
   "attachments": {},
   "cell_type": "markdown",
   "metadata": {},
   "source": [
    "## What is the difference between a batch and an epoch?\n",
    "\n",
    "- A batch is a subset of the training data, and an epoch is the number of batches\n",
    "- A batch is a subset of the training data, and an epoch is the number of times the neural network is trained\n",
    "- A batch is the number of times the neural network is trained, and an epoch is the number of batches\n",
    "- A batch is a subset of the training data, and an epoch is a single pass of the entire dataset ***"
   ]
  },
  {
   "attachments": {},
   "cell_type": "markdown",
   "metadata": {},
   "source": [
    "## If you have a dataset with 100 samples, your dataloader has a batch size of 20, and you have 10 epochs, how many rounds of training will you have?\n",
    "\n",
    "- 5\n",
    "- 10\n",
    "- 50 ***\n",
    "- 100\n",
    "- 500\n",
    "- 1000"
   ]
  },
  {
   "attachments": {},
   "cell_type": "markdown",
   "metadata": {},
   "source": [
    "## What does the `backward()` method do?\n",
    "\n",
    "- It calculates the gradients of the loss function with respect to the inputs of the neural network\n",
    "- It calculates the gradients of the loss function with respect to the weights of the neural network ***\n",
    "- It rolls back the neural network to the previous state so it can compare the new loss with the previous loss\n",
    "- It rolls back the neural network to the previous state so it can compare the new weights with the previous weights"
   ]
  },
  {
   "attachments": {},
   "cell_type": "markdown",
   "metadata": {},
   "source": [
    "## What happens if you don't add the `.step()` method to your training loop?\n",
    "\n",
    "- The model will not be trained and the loss will not be calculated\n",
    "- The model will not be trained and the weights will not be updated ***\n",
    "- The model will be trained but the loss will not be calculated\n",
    "- The model will be trained but the weights will not be updated\n",
    "- Nothing, the step method is not necessary"
   ]
  }
 ],
 "metadata": {
  "language_info": {
   "name": "python"
  },
  "orig_nbformat": 4
 },
 "nbformat": 4,
 "nbformat_minor": 2
}
