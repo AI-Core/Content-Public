{
 "cells": [
  {
   "attachments": {},
   "cell_type": "markdown",
   "metadata": {},
   "source": [
    "# Optimisation in PyTorch - Linear regression example"
   ]
  },
  {
   "attachments": {},
   "cell_type": "markdown",
   "metadata": {},
   "source": [
    "## What is the role of the optimiser in a training loop in PyTorch?\n",
    "\n",
    "- It is used to calculate the gradients of the loss function with respect to the model parameters\n",
    "- It is used to update the model parameters based on the gradients calculated by the loss function ***\n",
    "- It is used to make the predictions with the model\n",
    "- It is used to calculate the loss of the model\n"
   ]
  },
  {
   "attachments": {},
   "cell_type": "markdown",
   "metadata": {},
   "source": [
    "## In PyTorch, how do you access the available optimisers?\n",
    "\n",
    "- `torch.optim` ***\n",
    "- `torch.optimiser`\n",
    "- `torch.optimise`\n",
    "- `torch.optimizers`\n",
    "- `torch.optimization`"
   ]
  },
  {
   "attachments": {},
   "cell_type": "markdown",
   "metadata": {},
   "source": [
    "## What is wrong with the following code?\n",
    "\n",
    "```python\n",
    "import torch\n",
    "\n",
    "model = torch.nn.Linear(1, 1)\n",
    "def train(model, x, y):\n",
    "    optimiser = torch.optim.SGD(lr=0.01)\n",
    "    for i in range(100):\n",
    "        y_pred = model(x)\n",
    "        loss = torch.nn.functional.mse_loss(y_pred, y)\n",
    "        loss.backward()\n",
    "        optimiser.step()\n",
    "        optimiser.zero_grad()\n",
    "\n",
    "x = torch.tensor([[1.0], [2.0], [3.0]])\n",
    "y = torch.tensor([[2.0], [4.0], [6.0]])\n",
    "train(model, x, y)\n",
    "\n",
    "```\n",
    "\n",
    "- The function is not returning anything\n",
    "- The optimiser is not initialised correctly ***\n",
    "- The loss function is not initialised correctly\n",
    "- The model is too small and simple\n",
    "- `x` and `y` are too big for the model"
   ]
  },
  {
   "attachments": {},
   "cell_type": "markdown",
   "metadata": {},
   "source": [
    "## In PyTorch, we can set the gradient of the model parameters to zero by using the `zero_grad()` method of the optimiser. Why do we need to do this?\n",
    "\n",
    "- Because otherwise we would be accumulating the gradients from previous iterations ***\n",
    "- Because otherwise the backward pass will throw an error\n",
    "- Because otherwise the optimiser will not be able to calculate the gradients\n",
    "- Because otherwise the forward pass will throw an error\n"
   ]
  }
 ],
 "metadata": {
  "kernelspec": {
   "display_name": "content-projects",
   "language": "python",
   "name": "python3"
  },
  "language_info": {
   "codemirror_mode": {
    "name": "ipython",
    "version": 3
   },
   "file_extension": ".py",
   "mimetype": "text/x-python",
   "name": "python",
   "nbconvert_exporter": "python",
   "pygments_lexer": "ipython3",
   "version": "3.10.8"
  },
  "orig_nbformat": 4
 },
 "nbformat": 4,
 "nbformat_minor": 2
}
