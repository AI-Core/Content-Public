{
 "cells": [
  {
   "attachments": {},
   "cell_type": "markdown",
   "metadata": {},
   "source": [
    "# Logistic regression in PyTorch"
   ]
  },
  {
   "attachments": {},
   "cell_type": "markdown",
   "metadata": {},
   "source": [
    "## What is wrong with the following code that creates a binary classifier?\n",
    "\n",
    "```python\n",
    "class BinaryClassifier(nn.Module):\n",
    "    def __init__(self, input_size, num_classes):\n",
    "        super(BinaryClassifier, self).__init__()\n",
    "        self.linear = nn.Linear(input_size, num_classes)\n",
    "        \n",
    "    def forward(self, x):\n",
    "        out = self.linear(x)\n",
    "        return out\n",
    "```\n",
    "\n",
    "- The neural network is too shallow\n",
    "- The neural network is too wide\n",
    "- The `forward` method should have a sigmoid activation function ***\n",
    "- The `forward` method shouldn't return anything\n",
    "- There is no `backward` method\n"
   ]
  },
  {
   "attachments": {},
   "cell_type": "markdown",
   "metadata": {},
   "source": [
    "## Given the following training loop, what do you have to change in order to make it work with a binary classifier?\n",
    "\n",
    "```python\n",
    "def train_model(model, train_loader, num_epochs):\n",
    "    for epoch in range(num_epochs):\n",
    "        for i, (images, labels) in enumerate(train_loader):\n",
    "            images = Variable(images.view(-1, 28*28))\n",
    "            labels = Variable(labels)\n",
    "            optimiser.zero_grad()\n",
    "            outputs = model(images)\n",
    "            loss = F.mse_loss(outputs, labels)\n",
    "            loss.backward()\n",
    "            optimiser.step()\n",
    "```\n",
    "\n",
    "- We need to define the optimiser\n",
    "- We need to give a value to the number of epochs\n",
    "- We don't know how many batches there are in the dataset\n",
    "- We need to change the loss function to `F.binary_cross_entropy` ***\n"
   ]
  },
  {
   "attachments": {},
   "cell_type": "markdown",
   "metadata": {},
   "source": [
    "## Why do we need to use a sigmoid activation function in the `forward` method of a binary classifier?\n",
    "\n",
    "- To make sure that the output is a probability between 0 and 1 ***\n",
    "- To make sure that the output is a discrete value between -1 and 1\n",
    "- To make sure that the output is a continuous value between -1 and 1\n",
    "- To make sure that we can have more than two classes"
   ]
  }
 ],
 "metadata": {
  "language_info": {
   "name": "python"
  },
  "orig_nbformat": 4
 },
 "nbformat": 4,
 "nbformat_minor": 2
}
