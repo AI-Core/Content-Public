{
 "cells": [
  {
   "attachments": {},
   "cell_type": "markdown",
   "metadata": {},
   "source": [
    "# Building ML models in PyTorch"
   ]
  },
  {
   "attachments": {},
   "cell_type": "markdown",
   "metadata": {},
   "source": [
    "## What is the PyTorch class used to define a linear regression model?\n",
    "\n",
    "- `torch.Tensor`\n",
    "- `torch.nn.Linear` ***\n",
    "- `torch.nn.Model`\n",
    "- `torch.nn.Module`"
   ]
  },
  {
   "attachments": {},
   "cell_type": "markdown",
   "metadata": {},
   "source": [
    "## Suppose you want to create a linear regression model in PyTorch using the `torch.nn.Linear` class. You have an input feature of size 10 and want to predict a continuous output variable. Which code snippet shows how to define the model?\n",
    "\n",
    "- This code ***\n",
    "``` python\n",
    "import torch\n",
    "\n",
    "class RegressionModel(torch.nn.Module):\n",
    "    def __init__(self):\n",
    "        super(RegressionModel, self).__init__()\n",
    "        self.fc = torch.nn.Linear(10, 1)\n",
    "\n",
    "    def forward(self, x):\n",
    "        x = self.fc(x)\n",
    "        return x\n",
    "```\n",
    "\n",
    "- This code\n",
    "``` python\n",
    "import torch\n",
    "\n",
    "class RegressionModel(torch.nn.Module):\n",
    "    def __init__(self):\n",
    "        super(RegressionModel, self).__init__()\n",
    "        self.fc = torch.nn.Linear(1, 10)\n",
    "\n",
    "    def forward(self, x):\n",
    "        x = self.fc(x)\n",
    "        return x\n",
    "```\n",
    "\n",
    "- This code\n",
    "``` python \n",
    "import torch\n",
    "\n",
    "class RegressionModel(torch.nn.Module):\n",
    "    def __init__(self):\n",
    "        super(RegressionModel, self).__init__()\n",
    "        self.fc = torch.nn.Linear(1, 10)\n",
    "\n",
    "    def forward(self, x):\n",
    "        return x\n",
    "```\n",
    "\n",
    "- This code\n",
    "``` python\n",
    "import torch\n",
    "\n",
    "class RegressionModel(torch.nn.Module):\n",
    "    def __init__(self):\n",
    "        super(RegressionModel, self).__init__()\n",
    "        self.fc = torch.nn.Linear(10, 1)\n",
    "\n",
    "    def forward(self, x):\n",
    "        return x\n",
    "```"
   ]
  },
  {
   "attachments": {},
   "cell_type": "markdown",
   "metadata": {},
   "source": [
    "## What is the purpose of `torch.nn.Module` in PyTorch?\n",
    "\n",
    "- It is a class that represents a single linear layer in a neural network\n",
    "- It is a class that represents a neural network model ***\n",
    "- It is a function that applies a non-linear activation to the output of a linear layer\n",
    "- It is a function that computes the loss between the predicted and target values"
   ]
  },
  {
   "attachments": {},
   "cell_type": "markdown",
   "metadata": {},
   "source": [
    "## What is the difference between the `forward()` method and the `__call__()` method in PyTorch models?\n",
    "\n",
    "- There is no difference between the two methods; they can be used interchangeably\n",
    "- The `forward()` method defines the forward computation of the model, while the `__call__()` method is used to initialize the model\n",
    "- The `forward()` method defines the forward computation of the model, while the `__call__()` method allows the model to be called like a function ***\n",
    "- The `forward()` method is used to initialize the model, while the `__call__()` method defines the forward computation of the model"
   ]
  }
 ],
 "metadata": {
  "language_info": {
   "name": "python"
  },
  "orig_nbformat": 4
 },
 "nbformat": 4,
 "nbformat_minor": 2
}
