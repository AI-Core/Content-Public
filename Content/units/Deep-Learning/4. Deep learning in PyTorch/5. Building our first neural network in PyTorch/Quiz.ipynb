{
 "cells": [
  {
   "attachments": {},
   "cell_type": "markdown",
   "metadata": {},
   "source": [
    "# Building our first neural network in PyTorch"
   ]
  },
  {
   "attachments": {},
   "cell_type": "markdown",
   "metadata": {},
   "source": [
    "## What does the `torch.nn.Sequential` class do?\n",
    "\n",
    "- It allows us to create a sequence of data points given a set of input data points\n",
    "- It allows us to create a sequence of dataloaders given a set of input dataloaders\n",
    "- It allows us to create a neural network by stacking layers on top of each other in a parallel manner\n",
    "- It allows us to create a neural network by stacking layers on top of each other in a sequential manner ***"
   ]
  },
  {
   "attachments": {},
   "cell_type": "markdown",
   "metadata": {},
   "source": [
    "## What is wrong with the following neural network?\n",
    "\n",
    "```python\n",
    "\n",
    "import torch.nn as nn\n",
    "\n",
    "class NN(nn.Module):\n",
    "    def __init__(self, input_size, hidden_size, num_classes):\n",
    "        super(NN, self).__init__()\n",
    "        self.layers = nn.Sequential(\n",
    "            nn.Linear(input_size, hidden_size),\n",
    "            nn.Linear(hidden_size, num_classes)\n",
    "        )\n",
    "        \n",
    "    def forward(self, x):\n",
    "        return self.layers(x)\n",
    "```\n",
    "\n",
    "- The network has two layers, but the second layer is not connected to the first layer\n",
    "- The class doesn't contain a `backward` method\n",
    "- The network will return a simple linear regression model ***\n",
    "- The network will return a simple logistic regression model\n"
   ]
  },
  {
   "attachments": {},
   "cell_type": "markdown",
   "metadata": {},
   "source": [
    "## What would you add to the network to make it learn non-linear relationships?\n",
    "\n",
    "```python\n",
    "\n",
    "import torch.nn as nn\n",
    "\n",
    "class NN(nn.Module):\n",
    "    def __init__(self, input_size, hidden_size, num_classes):\n",
    "        super(NN, self).__init__()\n",
    "        self.layers = nn.Sequential(\n",
    "            nn.Linear(input_size, hidden_size),\n",
    "            nn.Linear(hidden_size, num_classes)\n",
    "        )\n",
    "        \n",
    "    def forward(self, x):\n",
    "        return self.layers(x)\n",
    "```\n",
    "\n",
    "- More linear layers\n",
    "- Increase the number of the `hidden_size` parameter\n",
    "- Add a non-linear activation function such as `nn.ReLU` or `nn.Sigmoid` ***\n",
    "- Add a criterion such as `nn.MSELoss` or `nn.CrossEntropyLoss`"
   ]
  }
 ],
 "metadata": {
  "language_info": {
   "name": "python"
  },
  "orig_nbformat": 4
 },
 "nbformat": 4,
 "nbformat_minor": 2
}
