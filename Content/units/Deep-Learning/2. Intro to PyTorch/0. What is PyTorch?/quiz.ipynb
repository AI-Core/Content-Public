{
 "cells": [
  {
   "attachments": {},
   "cell_type": "markdown",
   "metadata": {},
   "source": [
    "# What is PyTorch?\n"
   ]
  },
  {
   "attachments": {},
   "cell_type": "markdown",
   "metadata": {},
   "source": [
    "## What is PyTorch?\n",
    "\n",
    "- A library for creating and training deep learning models ***\n",
    "- A library for manipulating images\n",
    "- A library for organising databases\n",
    " "
   ]
  },
  {
   "attachments": {},
   "cell_type": "markdown",
   "metadata": {},
   "source": [
    "## Which of the following is NOT true about PyTorch?\n",
    "\n",
    "- It is built around a datatype called a torch tensor\n",
    "- The central feature of the library is automatic differentiation\n",
    "- It is possible to create your own custom deep learning models with PyTorch\n",
    "- PyTorch is only used for computer vision problems ***"
   ]
  },
  {
   "attachments": {},
   "cell_type": "markdown",
   "metadata": {},
   "source": [
    "## Which of the following is the correct way to import PyTorch into a Python script?\n",
    "\n",
    "- `from torchvision import pytorch`\n",
    "- `import torch` ***\n",
    "- `import pytorch`\n",
    "- `from pytorch import torch`"
   ]
  }
 ],
 "metadata": {
  "language_info": {
   "name": "python"
  },
  "orig_nbformat": 4
 },
 "nbformat": 4,
 "nbformat_minor": 2
}
