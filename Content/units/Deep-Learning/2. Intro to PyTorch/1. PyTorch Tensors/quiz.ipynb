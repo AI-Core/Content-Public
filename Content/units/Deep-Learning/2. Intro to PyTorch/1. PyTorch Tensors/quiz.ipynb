{
 "cells": [
  {
   "attachments": {},
   "cell_type": "markdown",
   "metadata": {},
   "source": [
    "# PyTorch Tensors "
   ]
  },
  {
   "attachments": {},
   "cell_type": "markdown",
   "metadata": {},
   "source": [
    "## What is a tensor?\n",
    "\n",
    "- A general term for an n-dimensional array ***\n",
    "- A 4D array\n",
    "- The output of a differentiation function\n",
    "- An array of complex numbers"
   ]
  },
  {
   "attachments": {},
   "cell_type": "markdown",
   "metadata": {},
   "source": [
    "## What is the default datatype of the elements in a torch tensor?\n",
    "\n",
    "- `Float32` ***\n",
    "- `Float64`\n",
    "- `Int`\n",
    "- `Long`\n",
    "- `Double`\n"
   ]
  },
  {
   "attachments": {},
   "cell_type": "markdown",
   "metadata": {},
   "source": [
    "## The main difference between a torch tensor and a Numpy array is:\n",
    "\n",
    "- Numpy arrays can only have up to three dimensions\n",
    "- Torch tensors can only store integer values\n",
    "- Torch tensors can store information about the mathematical functions used to create them ***"
   ]
  },
  {
   "attachments": {},
   "cell_type": "markdown",
   "metadata": {},
   "source": [
    "## Which of the following torch tensor methods gives the dimensions of the tensor?\n",
    "\n",
    "- `Tensor.size`\n",
    "- `Tensor.shape` ***\n",
    "- `Tensor.grad`\n",
    "- `Tensor.backward`"
   ]
  },
  {
   "attachments": {},
   "cell_type": "markdown",
   "metadata": {},
   "source": [
    "## True or False: I can add an integer to a torch tensor, but in doing so, it stops being a torch tensor and becomes a Numpy array instead.\n",
    "\n",
    "- True\n",
    "- False ***"
   ]
  }
 ],
 "metadata": {
  "language_info": {
   "name": "python"
  },
  "orig_nbformat": 4
 },
 "nbformat": 4,
 "nbformat_minor": 2
}
