{
 "cells": [
  {
   "attachments": {},
   "cell_type": "markdown",
   "metadata": {},
   "source": [
    "# Autograd"
   ]
  },
  {
   "attachments": {},
   "cell_type": "markdown",
   "metadata": {},
   "source": [
    "## What is the primary purpose of PyTorch's autograd functionality?\n",
    "\n",
    "- To reduce the memory cost of loading data into machine learning models\n",
    "- To automatically compute the gradients of tensors with respect to their inputs ***\n",
    "- To automatically perform matrix multiplication\n",
    "- To automatically perform integration "
   ]
  },
  {
   "attachments": {},
   "cell_type": "markdown",
   "metadata": {},
   "source": [
    "## Which attribute should be set to `True` for a tensor in order to track the operations performed on it for gradient computation?\n",
    "\n",
    "- `requires_grad` ***\n",
    "- `grad_fn`\n",
    "- `track_grad`\n",
    "- `calculate_grad`"
   ]
  },
  {
   "attachments": {},
   "cell_type": "markdown",
   "metadata": {},
   "source": [
    "## True or False: Once a tensor's requires_grad attribute is set to `True`, it cannot be changed back to `False`.\n",
    "\n",
    "- True\n",
    "- False ***"
   ]
  },
  {
   "attachments": {},
   "cell_type": "markdown",
   "metadata": {},
   "source": [
    "## True or False: The default setting for the `requires_grad` attribute in a PyTorch tensor is `True`\n",
    "\n",
    "- True \n",
    "- False ***"
   ]
  },
  {
   "attachments": {},
   "cell_type": "markdown",
   "metadata": {},
   "source": [
    "## In PyTorch, which method is used to calculate the gradients of a tensor with respect to its inputs?\n",
    "\n",
    "- `backward()` ***\n",
    "- `forward()`\n",
    "- `grad()`\n",
    "- `autograd()`"
   ]
  },
  {
   "attachments": {},
   "cell_type": "markdown",
   "metadata": {},
   "source": [
    "## Which attribute of a tensor in PyTorch stores the computed gradients?\n",
    "\n",
    "- `.grad` ***\n",
    "- `.grad_fn`\n",
    "- `.requires_grad`\n",
    "- `.gradient`\n"
   ]
  },
  {
   "attachments": {},
   "cell_type": "markdown",
   "metadata": {},
   "source": [
    "## Which of the following functions is used to stop tracking gradients for a tensor in PyTorch?\n",
    "\n",
    "- `torch.no_grad()` ***\n",
    "- `torch.stop_grad()`\n",
    "- `torch.disable_grad()`\n",
    "- `torch.ignore_grad()`"
   ]
  },
  {
   "attachments": {},
   "cell_type": "markdown",
   "metadata": {},
   "source": [
    "## What is the purpose of setting `requires_grad` to `False`?\n",
    "\n",
    "- To save memory ***\n",
    "- To zero the gradients in that tensor and start again\n",
    "- To lock the gradients in their current state\n",
    "- It is only possible to have one tensor with `requires_grad` = `True` at a time"
   ]
  }
 ],
 "metadata": {
  "language_info": {
   "name": "python"
  },
  "orig_nbformat": 4
 },
 "nbformat": 4,
 "nbformat_minor": 2
}
