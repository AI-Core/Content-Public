{
 "cells": [
  {
   "attachments": {},
   "cell_type": "markdown",
   "metadata": {},
   "source": [
    "# Transfer Learning in Pytorch"
   ]
  },
  {
   "attachments": {},
   "cell_type": "markdown",
   "metadata": {},
   "source": [
    "## The ResNet model was trained on which dataset?\n",
    "\n",
    "- `MNIST`\n",
    "- `ImageNet` ***\n",
    "- `CIFAR-10`\n",
    "- `MS-COCO`\n"
   ]
  },
  {
   "attachments": {},
   "cell_type": "markdown",
   "metadata": {},
   "source": [
    "## True or False: When performing transfer learning, it is not necessary to load the pre-trained weights of the source model.\n",
    "\n",
    "- True\n",
    "- False ***"
   ]
  },
  {
   "attachments": {},
   "cell_type": "markdown",
   "metadata": {},
   "source": [
    "## Which pre-trained model architecture is commonly used for image classification tasks in PyTorch?\n",
    "\n",
    "- LSTM\n",
    "- ResNet ***\n",
    "- BERT\n",
    "- Transformer"
   ]
  },
  {
   "attachments": {},
   "cell_type": "markdown",
   "metadata": {},
   "source": [
    "## In transfer learning, which of the following is a typical approach to fine-tune a pre-trained model?\n",
    "\n",
    "- Train the entire model with a smaller learning rate\n",
    "- Freeze all layers and train only the final classification layer ***\n",
    "- Train only the first few layers of the model\n",
    "- Use a larger learning rate for the entire model"
   ]
  },
  {
   "attachments": {},
   "cell_type": "markdown",
   "metadata": {},
   "source": [
    "## When using a CNN like ResNet in an image classification task, how should the model architecture be altered to fit the task?\n",
    "\n",
    "- Change the shape of the fully connected layer to match the number of  classes in the task ***\n",
    "- No changes required\n",
    "- Change the shape of the input layer to match the shape of the input image\n",
    "- Change the output layer to a single regression head\n"
   ]
  },
  {
   "attachments": {},
   "cell_type": "markdown",
   "metadata": {},
   "source": [
    "## How would you access the architecture of a ResNet model?\n",
    "\n",
    "- `print(resnet50.modules)` ***\n",
    "- `print(dir(resnet50))`\n",
    "- `resnet50.get_layers()`\n",
    "- `resnet50.shape`\n"
   ]
  },
  {
   "attachments": {},
   "cell_type": "markdown",
   "metadata": {},
   "source": [
    "## Which is the method to add an empty dimension to a Pytorch tensor?\n",
    "\n",
    "- `unsqueeze()` ***\n",
    "- `flatten()`\n",
    "- `squeeze()`\n",
    "- `dimplus()`"
   ]
  },
  {
   "cell_type": "markdown",
   "metadata": {},
   "source": [
    "## What is transfer learning in the context of machine learning?\n",
    "\n",
    "- A technique that allows reusing a model on a different but related problem ***\n",
    "- The process of transferring knowledge from one model to another \n",
    "- The ability of an algorithm to recognize and apply knowledge and skills learned in previous tasks to new tasks\n",
    "- A type of unsupervised learning where the model learns from the data without any explicit labels\n"
   ]
  },
  {
   "cell_type": "markdown",
   "metadata": {},
   "source": [
    "## When modifying a pre-trained model for a new task, what layer is often altered?\n",
    "\n",
    "- The first layer of the model\n",
    "- Any hidden layer in the model\n",
    "- The final layer of the model ***\n",
    "- The layer with the least number of neurons"
   ]
  },
  {
   "cell_type": "markdown",
   "metadata": {},
   "source": [
    "## In the context of transfer learning, what is fine-tuning?\n",
    "\n",
    "- Adjusting the architecture of the pre-trained model to fit the new problem\n",
    "- Training a new model from scratch\n",
    "- Adjusting the learning rate during training\n",
    "- Further training the pre-trained model on the new task ***"
   ]
  }
 ],
 "metadata": {
  "language_info": {
   "name": "python"
  },
  "orig_nbformat": 4
 },
 "nbformat": 4,
 "nbformat_minor": 2
}
