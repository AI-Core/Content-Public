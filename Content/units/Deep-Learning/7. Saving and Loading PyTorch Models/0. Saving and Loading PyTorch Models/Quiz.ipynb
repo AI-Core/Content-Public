{
 "cells": [
  {
   "attachments": {},
   "cell_type": "markdown",
   "metadata": {},
   "source": [
    "# Saving and Loading PyTorch Models"
   ]
  },
  {
   "attachments": {},
   "cell_type": "markdown",
   "metadata": {},
   "source": [
    "## What is the `state_dict` attribute of a PyTorch model?\n",
    "\n",
    "- A dictionary that contains the information about the model's performance\n",
    "- A dictionary that maps the names of the model's parameters to their values ***\n",
    "- A dictionary that maps the names of the model's parameters to their gradients\n",
    "- A dictionary that contains the loss function used by the model\n",
    "- A dictionary that contains the value of the loss function at every iteration"
   ]
  },
  {
   "attachments": {},
   "cell_type": "markdown",
   "metadata": {},
   "source": [
    "## What is the default file extension for PyTorch models?\n",
    "\n",
    "- `.pt` ***\n",
    "- `.pth`\n",
    "- `.ptch`\n",
    "- `.torch`\n",
    "- `.pytorch`\n"
   ]
  },
  {
   "attachments": {},
   "cell_type": "markdown",
   "metadata": {},
   "source": [
    "## What is the method used to save a PyTorch model?\n",
    "\n",
    "- `torch.save()` ***\n",
    "- `torch.drop()`\n",
    "- `torch.write()`\n",
    "- `torch.save_model()`\n",
    "- `torch.drop_model()`"
   ]
  },
  {
   "attachments": {},
   "cell_type": "markdown",
   "metadata": {},
   "source": [
    "## How do you load a PyTorch model that was saved as the state dictionary?\n",
    "\n",
    "- `torch.load()` will create a new model with the same architecture as the saved model and load the state dictionary into it\n",
    "- You need to create a new model with the same architecture as the saved model and load the state dictionary into it ***\n",
    "- You need to create a new model with the same architecture as the saved model and load the model into it\n",
    "- `torch.load()` will create a new model with the same architecture as the saved model and load the model into it"
   ]
  }
 ],
 "metadata": {
  "language_info": {
   "name": "python"
  },
  "orig_nbformat": 4
 },
 "nbformat": 4,
 "nbformat_minor": 2
}
