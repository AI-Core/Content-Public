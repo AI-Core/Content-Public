{
 "cells": [
  {
   "attachments": {},
   "cell_type": "markdown",
   "metadata": {},
   "source": [
    "# Why you need activation functions"
   ]
  },
  {
   "attachments": {},
   "cell_type": "markdown",
   "metadata": {},
   "source": [
    "## What happens if you don't use activation functions in your neural network?\n",
    "\n",
    "- That your neural network will be just a linear regression model ***\n",
    "- That your neural network won't be able to backpropagate\n",
    "- That you won't be able to train your neural network\n",
    "- That you won't be able to make predictions with your neural network"
   ]
  },
  {
   "attachments": {},
   "cell_type": "markdown",
   "metadata": {},
   "source": [
    "## What is the purpose of activation functions?\n",
    "\n",
    "- To allow the neural network to be trained\n",
    "- To allow the neural network to backpropagate\n",
    "- To make the neural network being able to learn linear functions\n",
    "- To make the neural network being able to learn non-linear functions ***"
   ]
  }
 ],
 "metadata": {
  "language_info": {
   "name": "python"
  },
  "orig_nbformat": 4
 },
 "nbformat": 4,
 "nbformat_minor": 2
}
