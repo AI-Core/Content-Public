{
 "cells": [
  {
   "attachments": {},
   "cell_type": "markdown",
   "metadata": {},
   "source": [
    "# Neural Network Notation"
   ]
  },
  {
   "attachments": {},
   "cell_type": "markdown",
   "metadata": {},
   "source": [
    "## In the given neural network, what is the width of blue layer?\n",
    "\n",
    "image: ![](quiz_images/nn.jpg)\n",
    "\n",
    "- 2\n",
    "- 3\n",
    "- 4 ***\n",
    "- 5"
   ]
  },
  {
   "attachments": {},
   "cell_type": "markdown",
   "metadata": {},
   "source": [
    "## In the given neural network, what is the name of the blue and green layers?\n",
    "\n",
    "image: ![](quiz_images/nn.jpg)\n",
    "\n",
    "- Input and output layers\n",
    "- Connected layers\n",
    "- Hidden layers ***\n",
    "- Output layers\n",
    "- Activation layers"
   ]
  },
  {
   "attachments": {},
   "cell_type": "markdown",
   "metadata": {},
   "source": [
    "## In the given neural network, how many features are there in the input layer?\n",
    "\n",
    "image: ![](quiz_images/nn.jpg)\n",
    "\n",
    "- 2\n",
    "- 3 ***\n",
    "- 4\n",
    "- 5"
   ]
  },
  {
   "attachments": {},
   "cell_type": "markdown",
   "metadata": {},
   "source": [
    "## What is known as the forward pass?\n",
    "\n",
    "- The process of propagating the error signal backwards through the network\n",
    "- The process of updating the weights of the network\n",
    "- The process of computing the output of a neural network by propagating the input signal through each layer of the network ***\n",
    "- The process of computing the output of a neural network by propagating the input signal through each layer of the network and then propagating the error signal backwards through the network\n"
   ]
  },
  {
   "attachments": {},
   "cell_type": "markdown",
   "metadata": {},
   "source": [
    "## What is a fully connected network?\n",
    "\n",
    "- A network where every neuron is connected to each other neuron in the network\n",
    "- A network where only the neurons in the input layer are connected to the neurons in the output layer\n",
    "- A network where each neuron in one layer is connected to every neuron in the next layer ***\n",
    "- A network where only the important neurons are connected to each other"
   ]
  },
  {
   "attachments": {},
   "cell_type": "markdown",
   "metadata": {},
   "source": [
    "## Given the following neural network, what is the dimension of the output of the blue layer?\n",
    "\n",
    "image: ![](quiz_images/nn.jpg)\n",
    "\n",
    "- 1x1\n",
    "- 3x1\n",
    "- 1x3\n",
    "- 4x1\n",
    "- 1x4\n",
    "- 4x4 ***\n"
   ]
  }
 ],
 "metadata": {
  "language_info": {
   "name": "python"
  },
  "orig_nbformat": 4
 },
 "nbformat": 4,
 "nbformat_minor": 2
}
