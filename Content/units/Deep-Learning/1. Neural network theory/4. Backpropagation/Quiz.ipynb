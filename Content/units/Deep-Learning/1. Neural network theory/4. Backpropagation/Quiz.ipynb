{
 "cells": [
  {
   "attachments": {},
   "cell_type": "markdown",
   "metadata": {},
   "source": [
    "# Backpropagation"
   ]
  },
  {
   "attachments": {},
   "cell_type": "markdown",
   "metadata": {},
   "source": [
    "## Which of the following is true about backpropagation? Select all that apply.\n",
    "\n",
    "- Backpropagation is a method to train neural networks using gradient descent on the error or loss function ***\n",
    "- Backpropagation has its name because it propagates the error backwards through the network ***\n",
    "- Backpropagation is the step we use to make a prediction once the network has been trained\n",
    "- Backpropagation is used to update the weights of the network ***"
   ]
  },
  {
   "attachments": {},
   "cell_type": "markdown",
   "metadata": {},
   "source": [
    "## When we use backpropagation, what are we deriving?\n",
    "\n",
    "- The weights of the network\n",
    "- The bias of the network\n",
    "- The activation function of the network\n",
    "- The loss function of the network ***"
   ]
  },
  {
   "attachments": {},
   "cell_type": "markdown",
   "metadata": {},
   "source": [
    "## When we use backpropagation, what do you derive the loss function with respect to? Select all that apply.\n",
    "\n",
    "- The weights of the network ***\n",
    "- The bias of the network ***\n",
    "- The input to the network\n",
    "- The outputs of the layers of the network ***\n",
    "\n"
   ]
  }
 ],
 "metadata": {
  "language_info": {
   "name": "python"
  },
  "orig_nbformat": 4
 },
 "nbformat": 4,
 "nbformat_minor": 2
}
