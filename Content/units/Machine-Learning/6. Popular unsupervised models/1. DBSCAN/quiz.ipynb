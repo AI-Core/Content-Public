{
 "cells": [
  {
   "attachments": {},
   "cell_type": "markdown",
   "metadata": {},
   "source": [
    "# DBSCAN"
   ]
  },
  {
   "attachments": {},
   "cell_type": "markdown",
   "metadata": {},
   "source": [
    "## Which statement defines a core point of the DBSCAN algorithm?\n",
    "\n",
    "- A core point is a point which has epsilon or more points within a radius of *d* from it ***\n",
    "- A core point is a point with is within a distance *d* from another point\n",
    "- A core point is a point not within a distance *d* from another point\n",
    "- None of the above"
   ]
  },
  {
   "attachments": {},
   "cell_type": "markdown",
   "metadata": {},
   "source": [
    "## Which statement defines a Noise point of the DBSCAN algorithm?\n",
    "\n",
    "- A Noise point is a point which has epsilon or more points within a raidus *d* from it\n",
    "- A Noise point is a point within distance *d* from another point\n",
    "- A Noise point is a point which is not within a distance *d* from another point ***\n",
    "- None of the above"
   ]
  },
  {
   "attachments": {},
   "cell_type": "markdown",
   "metadata": {},
   "source": [
    "## What are some of the limitations of the DBSCAN algorithm? Select all that apply.\n",
    "\n",
    "- We need to compute the distance between each point and each other point ***\n",
    "- The dataset may not contain samples that, in reality, are part of a cluster ***\n",
    "- It can't be used to cluster arbitrarily shaped regions of data\n",
    "- It only works on clustering two classes of data\n",
    "- It needs to be performed supervised \n"
   ]
  }
 ],
 "metadata": {
  "kernelspec": {
   "display_name": "base",
   "language": "python",
   "name": "python3"
  },
  "language_info": {
   "name": "python",
   "version": "3.10.9"
  },
  "orig_nbformat": 4,
  "vscode": {
   "interpreter": {
    "hash": "a2592652612463181e69ac003232387e3e9a99279aa6b168e76f5df16d5110f4"
   }
  }
 },
 "nbformat": 4,
 "nbformat_minor": 2
}
