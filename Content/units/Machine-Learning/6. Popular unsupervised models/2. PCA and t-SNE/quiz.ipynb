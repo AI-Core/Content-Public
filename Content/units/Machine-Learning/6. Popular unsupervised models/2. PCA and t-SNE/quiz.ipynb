{
 "cells": [
  {
   "attachments": {},
   "cell_type": "markdown",
   "metadata": {},
   "source": [
    "# PCA and t-SNE\n"
   ]
  },
  {
   "attachments": {},
   "cell_type": "markdown",
   "metadata": {},
   "source": [
    "## What are the benefits of dimensionality reduction select all that apply? Select all that apply.\n",
    "\n",
    "- It allows you to visualise high-dimensionality datasets ***\n",
    "- It allows you to reduce the amount of features in the data, reducing the required number of model parameters ***\n",
    "- It always guarantees more accurate results \n",
    "- It works on all data sets"
   ]
  },
  {
   "attachments": {},
   "cell_type": "markdown",
   "metadata": {},
   "source": [
    "## What is the key characteristic of an eigenvector?\n",
    "\n",
    "- A eigenvector does not change direction when a transformation is applied to it ***\n",
    "- A eigenvector is only effected by 90 degree rotation\n",
    "- Eigenvectors can't be scaled in any direction\n",
    "- Eigenvectors always lie along the dimension with the most variance\n"
   ]
  },
  {
   "attachments": {},
   "cell_type": "markdown",
   "metadata": {},
   "source": [
    "## What are some of the steps when implementing PCA ? Select all that apply.\n",
    "\n",
    "- Standardise the data ***\n",
    "- Calculate the covariance matrix ***\n",
    "- Calculate the eigenvectors and eigenvalues ***\n",
    "- Remove all outliers from the data\n",
    "- Calculate the triangular matrix"
   ]
  },
  {
   "attachments": {},
   "cell_type": "markdown",
   "metadata": {},
   "source": [
    "## What is the method behind Principal Component Analysis (PCA)?\n",
    "\n",
    "- To project the data set into a lower dimensionality space with the most important principal components ***\n",
    "- To eliminate all variance in the data set so it can fix into a lower dimensionality space\n",
    "- To find out the eigenvectors of the data set and remove them to lower the dimensionality\n",
    "- To increase the dimensionality of the space to increase variance and give better results"
   ]
  },
  {
   "attachments": {},
   "cell_type": "markdown",
   "metadata": {},
   "source": [
    "## What are the two steps for implementing the t-SNE algorithm? Select all that apply.\n",
    "\n",
    "- Create a probability distribution for each of the points in the data set, such that similar points have a higher probability ***\n",
    "- Place the original data on a lower dimension plane. Construct probabilities for the lower dimension plane then try to minimise the divergence of the two probabilities ***\n",
    "- Place the original data on a lower dimension plane. Construct probabilities for the lower dimension plane then try to minimise the divergence of the two probabilities\n",
    "- Place the original data on a lower dimension plane. Construct probabilities for the lower dimension plane then try to maximise the divergence of the two probabilities"
   ]
  }
 ],
 "metadata": {
  "kernelspec": {
   "display_name": "base",
   "language": "python",
   "name": "python3"
  },
  "language_info": {
   "name": "python",
   "version": "3.10.9"
  },
  "orig_nbformat": 4,
  "vscode": {
   "interpreter": {
    "hash": "a2592652612463181e69ac003232387e3e9a99279aa6b168e76f5df16d5110f4"
   }
  }
 },
 "nbformat": 4,
 "nbformat_minor": 2
}
