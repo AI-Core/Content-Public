{
 "cells": [
  {
   "attachments": {},
   "cell_type": "markdown",
   "metadata": {},
   "source": [
    "# K-means clustering"
   ]
  },
  {
   "attachments": {},
   "cell_type": "markdown",
   "metadata": {},
   "source": [
    "## What are some of the steps in building the K-means clustering algorithm? Select all that apply.\n",
    "\n",
    "- Initialise K centroids randomly in feature space representing a central point of a class ***\n",
    "- Until they converge assign each data point to the class represented by the nearest data point ***\n",
    "- Place each centroid in feature space equidistant from each other\n",
    "- Assign each data point to the centroid which is closest to it's left \n",
    "- Remove one centroid after each clustering has taken place"
   ]
  },
  {
   "attachments": {},
   "cell_type": "markdown",
   "metadata": {},
   "source": [
    "## What are some of the limitations of the K-means clustering algorithm? Select all that apply.\n",
    "\n",
    "- Some centroids might not get updated as they are not close to any data points ***\n",
    "- The results aren't always consistent since the centroids are placed randomly ***\n",
    "- As the number of dimensions of each examples features increase the distance between each data point may end up constant ***\n",
    "- It can only be used on datasets with 100k plus samples \n",
    "- The algorithm will only work on highly dimensional data"
   ]
  },
  {
   "attachments": {},
   "cell_type": "markdown",
   "metadata": {},
   "source": [
    "## What are some of the uses of the K-means clustering algorithm? Select all that apply.\n",
    "\n",
    "- Supervised classification ***\n",
    "- Unsupervised clustering ***\n",
    "- Supervised clustering\n",
    "- Unsupervised regression\n",
    "- Linear regression"
   ]
  }
 ],
 "metadata": {
  "language_info": {
   "name": "python"
  },
  "orig_nbformat": 4
 },
 "nbformat": 4,
 "nbformat_minor": 2
}
