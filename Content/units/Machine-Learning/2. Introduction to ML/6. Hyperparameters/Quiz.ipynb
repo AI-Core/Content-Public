{
 "cells": [
  {
   "attachments": {},
   "cell_type": "markdown",
   "metadata": {},
   "source": [
    "# Hyperparameters"
   ]
  },
  {
   "attachments": {},
   "cell_type": "markdown",
   "metadata": {},
   "source": [
    "## What is the difference between a hyperparameter and a parameter?\n",
    "\n",
    "- A hyperparameter is a parameter that the model learns as it trains, whereas a parameter is a value that is set before training the model\n",
    "- A hyperparameter needs to be set before training the model, whereas a parameter is a value that is learned as the model trains ***\n",
    "- The number of hyperparameters depends on the number of features in the dataset, whereas the number of parameters does not depend on the number of features in the dataset\n",
    "- Both hyperparameters and parameters are values that are learned as the model trains\n",
    "- Both hyperparameters and parameters are the same regardless of the model\n"
   ]
  },
  {
   "attachments": {},
   "cell_type": "markdown",
   "metadata": {},
   "source": [
    "## Which of the following is not a hyperparameter? Select all that apply.\n",
    "\n",
    "- Learning rate\n",
    "- Weight ***\n",
    "- Bias ***\n",
    "- Batch size\n",
    "- The capacity of the model"
   ]
  },
  {
   "attachments": {},
   "cell_type": "markdown",
   "metadata": {},
   "source": [
    "## When should you evaluate the performance of your model on the test set?\n",
    "\n",
    "- After training the model\n",
    "- After training the model and tuning the hyperparameters\n",
    "- After training the model, tuning the hyperparameters, and evaluating the performance on the validation set ***\n",
    "- After training the model, tuning the hyperparameters, and evaluating the performance on the training set"
   ]
  },
  {
   "attachments": {},
   "cell_type": "markdown",
   "metadata": {},
   "source": [
    "## How do you find the best hyperparameters for your model?\n",
    "\n",
    "- By trying different values for the hyperparameters and evaluating the performance of the model on the validation set\n",
    "- By trying different values for the hyperparameters and evaluating the performance of the model on the test set\n",
    "- By trying different values for the hyperparameters and evaluating the performance of the model on the training set\n",
    "- By trying different values for the hyperparameters and evaluating the performance of the model on the training set and the validation set\n",
    "- By trying different values for the hyperparameters and evaluating the performance of the model on the training set and the test set ***"
   ]
  },
  {
   "attachments": {},
   "cell_type": "markdown",
   "metadata": {},
   "source": [
    "## When should you use random search instead of grid search?\n",
    "\n",
    "- When you don't have a lot of data\n",
    "- When you need a quick way to find the best hyperparameters\n",
    "- When you have a clear idea of what values to try for the hyperparameters\n",
    "- When you don't have a clear idea of what values to try for the hyperparameters ***"
   ]
  },
  {
   "attachments": {},
   "cell_type": "markdown",
   "metadata": {},
   "source": [
    "## When using random search or grid search with `sklearn`, what two arguments do you need to specify?\n",
    "\n",
    "- The model (estimator) and the number of iterations to run\n",
    "- The model (estimator) and the number of folds to use\n",
    "- The number of folds to use and the number of iterations to run\n",
    "- The model (estimator) and the hyperparameters to try ***\n",
    "- The number of folds to use and the hyperparameters to try"
   ]
  },
  {
   "attachments": {},
   "cell_type": "markdown",
   "metadata": {},
   "source": [
    "## What does the `cv` parameter in sklearn's `GridSearchCV` and `RandomizedSearchCV` functions do?\n",
    "\n",
    "- It specifies the number of folds to use for cross-validation ***\n",
    "- It specifies the number of iterations to run\n",
    "- It specifies the number of hyperparameters to try\n",
    "- It specifies the number of models to train"
   ]
  },
  {
   "attachments": {},
   "cell_type": "markdown",
   "metadata": {},
   "source": [
    "## Using the following code, how many models will be trained when using `GridSearchCV` with `cv=3`? Assume that `X_train` and `y_train` are the training data that already exists.\n",
    "\n",
    "```python\n",
    "from sklearn.model_selection import GridSearchCV\n",
    "from sklearn.ensemble import RandomForestClassifier\n",
    "param_grid = {\n",
    "    'n_estimators': [10, 20, 30],\n",
    "    'max_depth': [5, 10, 15]\n",
    "}\n",
    "\n",
    "grid_search = GridSearchCV(RandomForestClassifier(), param_grid, cv=3)\n",
    "grid_search.fit(X_train, y_train)\n",
    "```\n",
    "\n",
    "- 1\n",
    "- 3\n",
    "- 9\n",
    "- 27 ***\n",
    "- 81\n",
    "- 128"
   ]
  }
 ],
 "metadata": {
  "kernelspec": {
   "display_name": "Python 3",
   "language": "python",
   "name": "python3"
  },
  "language_info": {
   "name": "python",
   "version": "3.10.9"
  },
  "orig_nbformat": 4,
  "vscode": {
   "interpreter": {
    "hash": "09a03f703d9594344a2b9942d46f9fa7ca1a719272e47a84f9d4a0d86a51c104"
   }
  }
 },
 "nbformat": 4,
 "nbformat_minor": 2
}
