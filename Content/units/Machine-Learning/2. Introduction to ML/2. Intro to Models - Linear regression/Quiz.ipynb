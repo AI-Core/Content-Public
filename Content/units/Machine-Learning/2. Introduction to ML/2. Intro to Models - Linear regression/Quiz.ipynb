{
 "cells": [
  {
   "attachments": {},
   "cell_type": "markdown",
   "metadata": {},
   "source": [
    "# Intro to Models - Linear regression"
   ]
  },
  {
   "attachments": {},
   "cell_type": "markdown",
   "metadata": {},
   "source": [
    "## What is the difference between regression and classification?\n",
    "\n",
    "- Regression predicts a continuous value, while classification predicts a discrete value ***\n",
    "- Regression predicts a discrete value, while classification predicts a continuous value\n",
    "- Both regression and classification predict a continuous value, but regression uses a different loss function\n",
    "- Both regression and classification predict a discrete value, but regression uses a different loss function\n"
   ]
  },
  {
   "attachments": {},
   "cell_type": "markdown",
   "metadata": {},
   "source": [
    "## In the following equation, what does `W` represent?\n",
    "\n",
    "```\n",
    "y = Wx + b\n",
    "```\n",
    "\n",
    "- The weight or the steepness of the line ***\n",
    "- The bias or the y-intercept of the line (where the line crosses the y-axis)\n",
    "- The x-intercept of the line (where the line crosses the x-axis)\n",
    "- The value of the feature `x` at the point `y`"
   ]
  },
  {
   "attachments": {},
   "cell_type": "markdown",
   "metadata": {},
   "source": [
    "## In the following equation, what does `b` represent?\n",
    "\n",
    "```\n",
    "y = Wx + b\n",
    "```\n",
    "\n",
    "- The weight or the steepness of the line\n",
    "- The bias or the y-intercept of the line (where the line crosses the y-axis) ***\n",
    "- The x-intercept of the line (where the line crosses the x-axis)\n",
    "- The value of the feature `x` at the point `y`"
   ]
  },
  {
   "attachments": {},
   "cell_type": "markdown",
   "metadata": {},
   "source": [
    "## When optimizing a linear regression model, what parameters are we trying to find? Select all that apply.\n",
    "\n",
    "- The weight or the steepness ***\n",
    "- The bias or the y-intercept ***\n",
    "- The values of the features\n",
    "- The values of the labels"
   ]
  },
  {
   "attachments": {},
   "cell_type": "markdown",
   "metadata": {},
   "source": [
    "## Which of the following is an example of a regression problem? Select all that apply.\n",
    "\n",
    "- Trying to predict the price of a house given its square footage ***\n",
    "- Trying to predict whether an email is spam or not\n",
    "- Trying to create clusters or groups of similar customers based on their purchase history\n",
    "- Trying to predict the number of sales of a product given the price ***"
   ]
  },
  {
   "attachments": {},
   "cell_type": "markdown",
   "metadata": {},
   "source": [
    "## Given a dataset with 200 samples and 10 features, what are the dimensions of the weight vector `W`, the bias `b`, and the predicted values `y` (assuming we are predicting a single value for each sample)?\n",
    "\n",
    "- `W` is a 10 dimensional vector, `b` is a scalar, and `y` is a 10 dimensional vector\n",
    "- `W` is a 200 dimensional vector, `b` is a scalar, and `y` is a 200 dimensional vector\n",
    "- `W` is a 10 dimensional vector, `b` is a scalar, and `y` is a 200 dimensional vector ***\n",
    "- `W` is a 200 dimensional vector, `b` is a scalar, and `y` is a 10 dimensional vector\n"
   ]
  },
  {
   "attachments": {},
   "cell_type": "markdown",
   "metadata": {},
   "source": [
    "## Given the following image, what happens if we increase the value of feature 1 by 1 unit, and all other features remain the same?\n",
    "\n",
    "image: ![](quiz_images/multidimension.png)\n",
    "\n",
    "- The predicted value `y` increases by w_1 units ***\n",
    "- The predicted value `y` decreases by w_1 units\n",
    "- The predicted value `y` increases by w_2 units\n",
    "- The predicted value `y` decreases by w_2 units\n",
    "- We cannot tell from this image"
   ]
  },
  {
   "attachments": {},
   "cell_type": "markdown",
   "metadata": {},
   "source": [
    "## In a regression problem, what is the error of a single sample?\n",
    "\n",
    "- The difference between the predicted value and the actual value ***\n",
    "- The difference between the predicted value and the average value of all the samples\n",
    "- The difference between the predicted value and the median value of all the samples\n",
    "- The difference between the predicted value and the maximum value of all the samples"
   ]
  },
  {
   "attachments": {},
   "cell_type": "markdown",
   "metadata": {},
   "source": [
    "## When dealing with regression problems, one of the most common loss functions is the mean squared error (MSE). What is the MSE formula?\n",
    "\n",
    "- `MSE = sum(y_hat - y)^2 * n`\n",
    "- `MSE = 1/n * sum(y_hat - y)`\n",
    "- `MSE = 1/n * sum(y_hat - y)^2` ***\n",
    "- `MSE = 1/n * sum(y_hat - y)^2 * 2`"
   ]
  },
  {
   "attachments": {},
   "cell_type": "markdown",
   "metadata": {},
   "source": [
    "## When using the mean squared error (MSE) loss function, why do we square the error?\n",
    "\n",
    "- To ensure that the error is as small as possible\n",
    "- To ensure that the error is as large as possible\n",
    "- To make sure the error is always positive ***\n",
    "- To make sure the error is always negative"
   ]
  },
  {
   "attachments": {},
   "cell_type": "markdown",
   "metadata": {},
   "source": [
    "## What is the difference between monovariate and multivariate linear regression?\n",
    "\n",
    "- In monovariate linear regression, we have a single feature, while in multivariate linear regression, we have multiple features\n",
    "- In monovariate linear regression, we have multiple features, while in multivariate linear regression, we have a single feature\n",
    "- In monovariate linear regression, we have a single label per sample, while in multivariate linear regression, we have multiple labels per sample ***\n",
    "- In monovariate linear regression, we have multiple labels per sample, while in multivariate linear regression, we have a single label per sample"
   ]
  }
 ],
 "metadata": {
  "kernelspec": {
   "display_name": "Python 3",
   "language": "python",
   "name": "python3"
  },
  "language_info": {
   "name": "python",
   "version": "3.10.9"
  },
  "orig_nbformat": 4,
  "vscode": {
   "interpreter": {
    "hash": "09a03f703d9594344a2b9942d46f9fa7ca1a719272e47a84f9d4a0d86a51c104"
   }
  }
 },
 "nbformat": 4,
 "nbformat_minor": 2
}
