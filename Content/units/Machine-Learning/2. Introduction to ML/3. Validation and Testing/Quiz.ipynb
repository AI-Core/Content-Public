{
 "cells": [
  {
   "attachments": {},
   "cell_type": "markdown",
   "metadata": {},
   "source": [
    "# Validation and Testing"
   ]
  },
  {
   "attachments": {},
   "cell_type": "markdown",
   "metadata": {},
   "source": [
    "## Why do we need to split the data into training and testing sets?\n",
    "\n",
    "- It is not needed at all, we can just use all the data for training and testing\n",
    "- So that the model can be tested on data it has not seen before. This is called generalization. ***\n",
    "- So that we can use the testing set to tune the hyperparameters of the model\n",
    "- So that we have a set of data that can be discarded because it could be contaminated"
   ]
  },
  {
   "attachments": {},
   "cell_type": "markdown",
   "metadata": {},
   "source": [
    "## What is happening in the next lines of code?\n",
    "\n",
    "```python\n",
    "from sklearn.model_selection import train_test_split\n",
    "from sklearn.datasets import load_breast_cancer\n",
    "\n",
    "cancer_data = load_breast_cancer()\n",
    "X_train, X_test, y_train, y_test = train_test_split(cancer_data.data, cancer_data.target, test_size=0.2)\n",
    "```\n",
    "\n",
    "- We are loading the breast cancer dataset and splitting it into training and testing sets, using only 20% of the whole dataset\n",
    "- We are loading the breast cancer dataset and splitting it into training and testing sets, using only 80% of the whole dataset\n",
    "- We are loading the breast cancer dataset and splitting it into training and testing sets, with 80% of the data for training and 20% for testing\n",
    "- We are loading the breast cancer dataset and splitting it into training and testing sets, with 20% of the data for training and 80% for testing ***\n"
   ]
  },
  {
   "attachments": {},
   "cell_type": "markdown",
   "metadata": {},
   "source": [
    "## We can split the test set into a validation set and a test set. What is the purpose of the validation set?\n",
    "\n",
    "- The validation set helps us to give an additional set for the training set\n",
    "- The validation set helps us to give a model that is not biased towards the training set\n",
    "- The validation set helps us to give a model that is not biased towards the test set ***\n",
    "- The validation set won't make any difference when comparing models, it is just a set of data that we can discard in case the test set is contaminated\n"
   ]
  },
  {
   "attachments": {},
   "cell_type": "markdown",
   "metadata": {},
   "source": [
    "## What is cross-validation?\n",
    "\n",
    "- A method to split the data into training and testing sets\n",
    "- A method to split the data into training, validation and testing sets ***\n",
    "- A method to split the data into training and validation sets\n",
    "- A method to split the data into training and testing sets, but with a different set of data each time"
   ]
  },
  {
   "attachments": {},
   "cell_type": "markdown",
   "metadata": {},
   "source": [
    "## Assuming we have a dataset with 300 samples, what will be the length of the training set, validation set and test set if we use the following code?\n",
    "\n",
    "```python\n",
    "from sklearn.model_selection import train_test_split\n",
    "\n",
    "X_train, X_test, y_train, y_test = train_test_split(X, y, test_size=0.2)\n",
    "X_test, X_val, y_test, y_val = train_test_split(X_test, y_test, test_size=0.5)\n",
    "```\n",
    "\n",
    "- `210, 30, 60`\n",
    "- `210, 45, 45`\n",
    "- `240, 30, 30` ***\n",
    "- `240, 45, 15`"
   ]
  },
  {
   "attachments": {},
   "cell_type": "markdown",
   "metadata": {},
   "source": [
    "## In summary, what is the purpose of the training, validation and test sets?\n",
    "\n",
    "- The training set to select the best model, the validation set to evaluate the final model on unseen data and the test set to optimize the model\n",
    "- The training set to evaluate the final model on unseen data, the validation set to select the best model and the test set to optimize the model\n",
    "- The training set to optimize the model, the validation set to evaluate the final model on unseen data and the test set to select the best model\n",
    "- The training set to optimize the model, the validation set to select the best model and the test set to evaluate the final model on unseen data ***\n"
   ]
  },
  {
   "attachments": {},
   "cell_type": "markdown",
   "metadata": {},
   "source": [
    "## Which of the following strategies is the best way to make your process repeatable?\n",
    "\n",
    "- Using the same dataset for training and testing\n",
    "- Using the same random seed for each step that involves randomness ***\n",
    "- Using the same model with the same hyperparameters \n",
    "- Using as many different models as possible"
   ]
  },
  {
   "attachments": {},
   "cell_type": "markdown",
   "metadata": {},
   "source": [
    "## What is considered as data leakage?\n",
    "\n",
    "- Having too many features that make the training process slow\n",
    "- Having information from the test set in the training set ***\n",
    "- Having too many samples that makes the amount of data too big\n",
    "- Having the data split into sets with different sizes\n"
   ]
  },
  {
   "attachments": {},
   "cell_type": "markdown",
   "metadata": {},
   "source": [
    "## Which of the following can cause data leakage?\n",
    "\n",
    "- Using a random seed when splitting the data into training and testing sets\n",
    "- Not using a random seed when splitting the data into training and testing sets\n",
    "- Computing the mean of the whole dataset and then splitting the data into training and testing sets ***\n",
    "- Computing the mean of the training set and the test set independently after splitting the data\n"
   ]
  }
 ],
 "metadata": {
  "kernelspec": {
   "display_name": "Python 3",
   "language": "python",
   "name": "python3"
  },
  "language_info": {
   "name": "python",
   "version": "3.10.9"
  },
  "orig_nbformat": 4,
  "vscode": {
   "interpreter": {
    "hash": "09a03f703d9594344a2b9942d46f9fa7ca1a719272e47a84f9d4a0d86a51c104"
   }
  }
 },
 "nbformat": 4,
 "nbformat_minor": 2
}
