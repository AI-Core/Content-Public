{
 "cells": [
  {
   "attachments": {},
   "cell_type": "markdown",
   "metadata": {},
   "source": [
    "# What is Machine Learning?"
   ]
  },
  {
   "attachments": {},
   "cell_type": "markdown",
   "metadata": {},
   "source": [
    "## What is a machine learning algorithm?\n",
    "\n",
    "- Algorithms that need to run on a specific Operating System to improve its performance\n",
    "- Algorithms that can find relationships between any variable without any input or output\n",
    "- Algorithms to which you show examples of inputs and outputs to find a relationship ***\n",
    "- Algorithms solely used to make queries to a database in a specific machine, hence the name"
   ]
  },
  {
   "attachments": {},
   "cell_type": "markdown",
   "metadata": {},
   "source": [
    "## Which of the following elements typically build a Machine Learning algorithm? Select all that apply.\n",
    "\n",
    "- Being programmed in Python\n",
    "- An optimizer ***\n",
    "- A criterion ***\n",
    "- A model ***\n",
    "- Data ***"
   ]
  }
 ],
 "metadata": {
  "kernelspec": {
   "display_name": "content-projects",
   "language": "python",
   "name": "python3"
  },
  "language_info": {
   "name": "python",
   "version": "3.10.9"
  },
  "orig_nbformat": 4,
  "vscode": {
   "interpreter": {
    "hash": "09a03f703d9594344a2b9942d46f9fa7ca1a719272e47a84f9d4a0d86a51c104"
   }
  }
 },
 "nbformat": 4,
 "nbformat_minor": 2
}
