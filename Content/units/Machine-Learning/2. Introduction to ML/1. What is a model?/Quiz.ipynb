{
 "cells": [
  {
   "attachments": {},
   "cell_type": "markdown",
   "metadata": {},
   "source": [
    "# What is a model?"
   ]
  },
  {
   "attachments": {},
   "cell_type": "markdown",
   "metadata": {},
   "source": [
    "## In machine learning, what is a model?\n",
    "\n",
    "- A model is a mathematical function that describes the relationship between the input and output variables ***\n",
    "- A model is a mathematical function that describes the perfect behavior of the system\n",
    "- A model is a mathematical function that can only be used for supervised learning to predict the output variable\n",
    "- A model is a mathematical function that can only be used for unsupervised learning to predict the output variable"
   ]
  },
  {
   "attachments": {},
   "cell_type": "markdown",
   "metadata": {},
   "source": [
    "## What is the difference between a model and an algorithm?\n",
    "\n",
    "- An algorithm is a set of instructions that can be used to solve a problem, while a model is a mathematical equation that describes the relationship between the input and output variables ***\n",
    "- An algorithm is a mathematical equation that describes the relationship between the input and output variables, while a model is a set of instructions that can be used to solve a problem\n",
    "- An algorithm is a mathematical equation that describes the perfect behavior of the system, while a model is a set of instructions that can be used to solve a problem"
   ]
  },
  {
   "attachments": {},
   "cell_type": "markdown",
   "metadata": {},
   "source": [
    "## Which of the following equations are models? Select all that apply.\n",
    "\n",
    "- `y = 2x + 1` ***\n",
    "- `y = 1 / 1 + e^(-x)` ***\n",
    "- `y = sqrt(x)` ***\n"
   ]
  },
  {
   "attachments": {},
   "cell_type": "markdown",
   "metadata": {},
   "source": [
    "## What goals can you achieve with a machine learning model? Select all that apply.\n",
    "\n",
    "- Predict the price of a house ***\n",
    "- Classify an image as a cat or a dog ***\n",
    "- Find the effect of a drug on a patient ***\n",
    "- Generate new images of cats and dogs ***"
   ]
  }
 ],
 "metadata": {
  "kernelspec": {
   "display_name": "Python 3",
   "language": "python",
   "name": "python3"
  },
  "language_info": {
   "name": "python",
   "version": "3.10.9"
  },
  "orig_nbformat": 4,
  "vscode": {
   "interpreter": {
    "hash": "09a03f703d9594344a2b9942d46f9fa7ca1a719272e47a84f9d4a0d86a51c104"
   }
  }
 },
 "nbformat": 4,
 "nbformat_minor": 2
}
