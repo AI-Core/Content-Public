{
 "cells": [
  {
   "attachments": {},
   "cell_type": "markdown",
   "metadata": {},
   "source": [
    "# Grid Search and K-fold Cross Validation"
   ]
  },
  {
   "attachments": {},
   "cell_type": "markdown",
   "metadata": {},
   "source": [
    "## What is the main purpose of Grid Search?\n",
    "\n",
    "- To train a model on different datasets\n",
    "- To find the best hyperparameters for a model ***\n",
    "- To find the best split for a dataset\n",
    "- To find the best validation set for a model"
   ]
  },
  {
   "attachments": {},
   "cell_type": "markdown",
   "metadata": {},
   "source": [
    "## What is the main purpose of K-fold Cross Validation?\n",
    "\n",
    "- To train a model on different datasets\n",
    "- To find the best hyperparameters for a model\n",
    "- To use a different validation set for each fold ***\n",
    "- To find the best split for a dataset"
   ]
  },
  {
   "attachments": {},
   "cell_type": "markdown",
   "metadata": {},
   "source": [
    "## Which of the following statements is true about K-fold Cross Validation? Select all that apply.\n",
    "\n",
    "- It is a method to find the best hyperparameters for a model\n",
    "- It is a method that trains a model on different datasets ***\n",
    "- It is a method that uses a different validation set for each fold ***\n",
    "- It is a method that reduces the overall time it takes to train a model\n"
   ]
  },
  {
   "attachments": {},
   "cell_type": "markdown",
   "metadata": {},
   "source": [
    "## Which of the following is an alternative to Grid Search?\n",
    "\n",
    "- Random Search ***\n",
    "- Stratified K-fold\n",
    "- Time Series cross validation\n",
    "- Leave One Out cross validation"
   ]
  },
  {
   "attachments": {},
   "cell_type": "markdown",
   "metadata": {},
   "source": [
    "## What are the usual steps when finding the best hyperparameters for a model?\n",
    "\n",
    "- Split the data into training and test sets, then use Grid Search with K-fold Cross Validation to find the best hyperparameters using the training set, and finally use the test set to evaluate the final model. There is no need to retrain the model using the best hyperparameters and the training set to get the final model\n",
    "- Split the data into training and test sets, then use Grid Search with K-fold Cross Validation to find the best hyperparameters using the training set, retrain the model using the best hyperparameters and the training set to get the final model, and finally use the training set to evaluate the final model\n",
    "- Split the data into training and test sets, then use Grid Search with K-fold Cross Validation to find the best hyperparameters using the training set. There is no need to use the test set to evaluate the final model or to retrain the model using the best hyperparameters and the training set to get the final model\n",
    "- Split the data into training and test sets, then use Grid Search with K-fold Cross Validation to find the best hyperparameters using the training set, retrain the model using the best hyperparameters and the training set to get the final model, and finally use the test set to evaluate the final model ***\n"
   ]
  }
 ],
 "metadata": {
  "language_info": {
   "name": "python"
  },
  "orig_nbformat": 4
 },
 "nbformat": 4,
 "nbformat_minor": 2
}
