{
 "cells": [
  {
   "attachments": {},
   "cell_type": "markdown",
   "metadata": {},
   "source": [
    "# Bias and Variance"
   ]
  },
  {
   "attachments": {},
   "cell_type": "markdown",
   "metadata": {},
   "source": [
    "## What type of typical generalization errors can you think of? Select all that apply.\n",
    "\n",
    "- Underfitting ***\n",
    "- Overfitting ***\n",
    "- Loss function\n",
    "- Gradient descent"
   ]
  },
  {
   "attachments": {},
   "cell_type": "markdown",
   "metadata": {},
   "source": [
    "## How do you define a biased model?\n",
    "\n",
    "- A model that is too complex to generalize\n",
    "- A model that has been oversimplified ***\n",
    "- A model that is so accurate that it can't generalize\n",
    "- A model that can't generate predictions"
   ]
  },
  {
   "attachments": {},
   "cell_type": "markdown",
   "metadata": {},
   "source": [
    "## What is the main consequence of a model with high bias?\n",
    "\n",
    "- It is only accurate on the training set\n",
    "- It is only accurate on the test set\n",
    "- It is accurate on both the training and test sets\n",
    "- It is not accurate on either the training or test sets ***"
   ]
  },
  {
   "attachments": {},
   "cell_type": "markdown",
   "metadata": {},
   "source": [
    "## How do you call it when a model performs poorly on both the training and test sets?\n",
    "\n",
    "- Underfitting ***\n",
    "- Underwhelming\n",
    "- Underperforming\n",
    "- Undertraining"
   ]
  },
  {
   "attachments": {},
   "cell_type": "markdown",
   "metadata": {},
   "source": [
    "## What is the main consequence of a model with high variance?\n",
    "\n",
    "- It is only accurate on the training set ***\n",
    "- It is only accurate on the test set\n",
    "- It is accurate on both the training and test sets\n",
    "- It is not accurate on either the training or test sets"
   ]
  },
  {
   "attachments": {},
   "cell_type": "markdown",
   "metadata": {},
   "source": [
    "## How do call it when a model performs well on the training set but poorly on the test set?\n",
    "\n",
    "- Overfitting ***\n",
    "- Overwhelming\n",
    "- Overperforming\n",
    "- Overtraining"
   ]
  },
  {
   "attachments": {},
   "cell_type": "markdown",
   "metadata": {},
   "source": [
    "## What does this picture represent?\n",
    "\n",
    "image: ![](quiz_images/quiz_1.png)\n",
    "\n",
    "- A model that underfits the data ***\n",
    "- A model that overfits the data\n",
    "- A model that has an appropriate fit to the data\n"
   ]
  },
  {
   "attachments": {},
   "cell_type": "markdown",
   "metadata": {},
   "source": [
    "## What does this picture represent?\n",
    "\n",
    "image: ![](quiz_images/quiz_2.png)\n",
    "\n",
    "- A model that underfits the data\n",
    "- A model that overfits the data ***\n",
    "- A model that has an appropriate fit to the data"
   ]
  },
  {
   "attachments": {},
   "cell_type": "markdown",
   "metadata": {},
   "source": [
    "## How can we solve the problem of underfitting? Select all that apply.\n",
    "\n",
    "- Increase the number of samples\n",
    "- Decrease the capacity of the model ***\n",
    "- Increase the capacity of the model\n",
    "- Decrease the number of samples\n",
    "- Reduce regularization ***\n",
    "- Increase regularization"
   ]
  },
  {
   "attachments": {},
   "cell_type": "markdown",
   "metadata": {},
   "source": [
    "## How can we solve the problem of overfitting? Select all that apply.\n",
    "\n",
    "- Increase the number of samples ***\n",
    "- Decrease the capacity of the model\n",
    "- Increase the capacity of the model ***\n",
    "- Decrease the number of samples\n",
    "- Reduce regularization\n",
    "- Increase regularization ***"
   ]
  },
  {
   "attachments": {},
   "cell_type": "markdown",
   "metadata": {},
   "source": [
    "## Mathematically speaking, what is the bias of a model?\n",
    "\n",
    "- The expected difference between the predicted values of the model parameters and the true values of the model parameters ***\n",
    "- The expected difference between the predicted values of the data and the true values of the data\n",
    "- The expected difference between the predicted values of the model parameters and the average of the predicted values of the model parameters\n",
    "- The expected difference between the predicted values of the data and the average of the predicted values of the data"
   ]
  },
  {
   "attachments": {},
   "cell_type": "markdown",
   "metadata": {},
   "source": [
    "## Mathematically speaking, what is the variance of a model?\n",
    "\n",
    "- The expected difference between the predicted values of the model parameters and the true values of the model parameters\n",
    "- The expected difference between the predicted values of the data and the true values of the data\n",
    "- The expected difference between the predicted values of the model parameters and the average of the predicted values of the model parameters ***\n",
    "- The expected difference between the predicted values of the data and the average of the predicted values of the data"
   ]
  }
 ],
 "metadata": {
  "kernelspec": {
   "display_name": "Python 3",
   "language": "python",
   "name": "python3"
  },
  "language_info": {
   "name": "python",
   "version": "3.10.9"
  },
  "orig_nbformat": 4,
  "vscode": {
   "interpreter": {
    "hash": "09a03f703d9594344a2b9942d46f9fa7ca1a719272e47a84f9d4a0d86a51c104"
   }
  }
 },
 "nbformat": 4,
 "nbformat_minor": 2
}
