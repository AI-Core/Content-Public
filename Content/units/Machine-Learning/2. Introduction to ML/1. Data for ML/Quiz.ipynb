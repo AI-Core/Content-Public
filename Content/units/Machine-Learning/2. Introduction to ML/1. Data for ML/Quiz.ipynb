{
 "cells": [
  {
   "attachments": {},
   "cell_type": "markdown",
   "metadata": {},
   "source": [
    "# Data for ML"
   ]
  },
  {
   "attachments": {},
   "cell_type": "markdown",
   "metadata": {},
   "source": [
    "## In Machine Learning, what is a feature?\n",
    "\n",
    "- A feature is a parameter that the machine learning model can learn\n",
    "- A feature is a variable used as input to the machine learning model ***\n",
    "- A feature is the variable or the variables that the model is trying to predict\n",
    "- A feature is a parameter that we need to set before training the model"
   ]
  },
  {
   "attachments": {},
   "cell_type": "markdown",
   "metadata": {},
   "source": [
    "## In Machine Learning, what is a label (or target)?\n",
    "\n",
    "- A label is a parameter that the machine learning model can learn\n",
    "- A label is a variable or the variables that are used as input to the machine learning model\n",
    "- A label is the variable or the variables that the model is trying to predict ***\n",
    "- A label is a parameter that we need to set before training the model"
   ]
  },
  {
   "attachments": {},
   "cell_type": "markdown",
   "metadata": {},
   "source": [
    "## If you have a dataset with 150 examples, how many predictions will you make?\n",
    "\n",
    "- 150 predictions ***\n",
    "- 1 prediction\n",
    "- 0 predictions\n",
    "- 300 predictions\n",
    "- We don't have enough information to answer this question\n"
   ]
  },
  {
   "attachments": {},
   "cell_type": "markdown",
   "metadata": {},
   "source": [
    "## If you have a dataset with 20 features, how many predictions will you make?\n",
    "\n",
    "- 20 predictions\n",
    "- 1 prediction\n",
    "- 0 predictions\n",
    "- 40 predictions\n",
    "- We don't have enough information to answer this question ***"
   ]
  },
  {
   "attachments": {},
   "cell_type": "markdown",
   "metadata": {},
   "source": [
    "## If the design matrix has dimensions `200 x 20`, what is the dimension of the label vector?\n",
    "\n",
    "- `200 x 20`\n",
    "- `20 x 200`\n",
    "- `20 x 1` ***\n",
    "- `200 x 1`\n",
    "- We don't have enough information to answer this question"
   ]
  },
  {
   "attachments": {},
   "cell_type": "markdown",
   "metadata": {},
   "source": [
    "## What kind of machine learning problem needs both features and labels?\n",
    "\n",
    "- Supervised learning ***\n",
    "- Unsupervised learning\n",
    "- Reinforcement learning\n",
    "- None of the above"
   ]
  },
  {
   "attachments": {},
   "cell_type": "markdown",
   "metadata": {},
   "source": [
    "## What kind of machine learning problem needs only features?\n",
    "\n",
    "- Supervised learning\n",
    "- Unsupervised learning ***\n",
    "- Reinforcement learning\n",
    "- None of the above\n"
   ]
  },
  {
   "attachments": {},
   "cell_type": "markdown",
   "metadata": {},
   "source": [
    "## What type of data can features be? Select all that apply.\n",
    "\n",
    "- Numerical data ***\n",
    "- Categorical data ***\n",
    "- Text data ***\n",
    "- Images ***"
   ]
  },
  {
   "attachments": {},
   "cell_type": "markdown",
   "metadata": {},
   "source": [
    "## What is the batch dimension?\n",
    "\n",
    "- The number of samples in a batch ***\n",
    "- The number of features in a batch\n",
    "- The number of optimizers used to train a model\n",
    "- How well the model is performing\n"
   ]
  },
  {
   "attachments": {},
   "cell_type": "markdown",
   "metadata": {},
   "source": [
    "## What is true about sklearn? Select all that apply.\n",
    "\n",
    "- sklearn is a python package for machine learning ***\n",
    "- sklearn is a python package for data mining\n",
    "- sklearn can work with both numerical and categorical data ***\n",
    "- sklearn provides toy datasets for testing your models ***"
   ]
  }
 ],
 "metadata": {
  "kernelspec": {
   "display_name": "content-projects",
   "language": "python",
   "name": "python3"
  },
  "language_info": {
   "name": "python",
   "version": "3.10.9"
  },
  "orig_nbformat": 4,
  "vscode": {
   "interpreter": {
    "hash": "09a03f703d9594344a2b9942d46f9fa7ca1a719272e47a84f9d4a0d86a51c104"
   }
  }
 },
 "nbformat": 4,
 "nbformat_minor": 2
}
