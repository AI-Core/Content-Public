{
 "cells": [
  {
   "attachments": {},
   "cell_type": "markdown",
   "metadata": {},
   "source": [
    "# Support Vector Machines"
   ]
  },
  {
   "attachments": {},
   "cell_type": "markdown",
   "metadata": {},
   "source": [
    "## Which of the following statements about Support Vector Machines are true? Select all that apply.\n",
    "\n",
    "- Support Vector Machines are a type of supervised learning algorithm ***\n",
    "- Support Vector Machines can only be used for classification problems\n",
    "- Support Vector Machines can only be used for regression problems\n",
    "- Support Vector Machines are a type of ensemble method\n",
    "- Support Vector Machines are a type of unsupervised learning algorithm\n",
    "- Support Vector Machines can be used for both classification and regression problems ***"
   ]
  },
  {
   "attachments": {},
   "cell_type": "markdown",
   "metadata": {},
   "source": [
    "## How does a Support Vector Machine work?\n",
    "\n",
    "- It finds the best hyperplane that separates the data into classes ***\n",
    "- It removes outliers if they are too far away from the hyperplane\n",
    "- It trains multiple models and averages the results\n",
    "- It computes the sigmoid function of the data and uses the result as the prediction"
   ]
  },
  {
   "attachments": {},
   "cell_type": "markdown",
   "metadata": {},
   "source": [
    "## When using a Support Vector Machine, why would you use a soft margin instead of a hard margin?\n",
    "\n",
    "- Because a soft margin is more computationally efficient\n",
    "- Because a soft margin will make the model more accurate\n",
    "- Because a soft margin will reduce the chance of overfitting ***\n",
    "- You should never use a soft margin over a hard margin"
   ]
  },
  {
   "attachments": {},
   "cell_type": "markdown",
   "metadata": {},
   "source": [
    "## When using a Support Vector Machine, is it important to scale your data? Select all that apply.\n",
    "\n",
    "- Yes, because the model depends on the distance between the data points ***\n",
    "- Yes, because otherwise the model optimization will take longer ***\n",
    "- No, because the model will automatically scale the data\n",
    "- No, because the model will automatically scale the data if you use a kernel"
   ]
  },
  {
   "attachments": {},
   "cell_type": "markdown",
   "metadata": {},
   "source": [
    "## What is a Support Vector Machine kernel?\n",
    "\n",
    "- A measure of the degree of misclassification in a soft-margin SVM\n",
    "- A technique for optimizing the hyperparameters of the SVM model\n",
    "- A function that transforms the data into a higher dimension that makes it easier to separate by a hyperplane ***\n",
    "- A method for regularizing the SVM model to prevent overfitting"
   ]
  },
  {
   "attachments": {},
   "cell_type": "markdown",
   "metadata": {},
   "source": [
    "## Which of the following is a disadvantage of using Support Vector Machines (SVMs)?\n",
    "\n",
    "- SVMs are sensitive to the initial choice of hyperparameters\n",
    "- SVMs are not well-suited for multi-class classification problems\n",
    "- SVMs require a large amount of memory to store the support vectors ***\n",
    "- SVMs are not suitable for handling imbalanced datasets\n",
    "- SVMs require a large amount of training data to achieve high accuracy"
   ]
  },
  {
   "attachments": {},
   "cell_type": "markdown",
   "metadata": {},
   "source": [
    "## Which of the following is an advantage of using Support Vector Machines (SVMs) over other machine learning algorithms?\n",
    "\n",
    "- SVMs can handle non-linearly separable data\n",
    "- SVMs require less data preprocessing than other algorithms\n",
    "- SVMs are more resistant to overfitting than other algorithms\n",
    "- SVMs can handle missing data in the input features\n",
    "- SVMs have faster training time than other algorithms"
   ]
  },
  {
   "attachments": {},
   "cell_type": "markdown",
   "metadata": {},
   "source": [
    "## Which of the following are kernel functions that can be used with Support Vector Machines (SVMs)? Select all that apply.\n",
    "\n",
    "- Linear kernel ***\n",
    "- Polynomial kernel ***\n",
    "- Gaussian kernel (RBF kernel) ***\n",
    "- Sigmoid kernel ***\n"
   ]
  }
 ],
 "metadata": {
  "language_info": {
   "name": "python"
  },
  "orig_nbformat": 4
 },
 "nbformat": 4,
 "nbformat_minor": 2
}
