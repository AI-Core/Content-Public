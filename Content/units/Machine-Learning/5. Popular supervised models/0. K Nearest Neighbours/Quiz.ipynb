{
 "cells": [
  {
   "attachments": {},
   "cell_type": "markdown",
   "metadata": {},
   "source": [
    "# KNN"
   ]
  },
  {
   "attachments": {},
   "cell_type": "markdown",
   "metadata": {},
   "source": [
    "## What is the principle behind _KNN_ (K Nearest Neighbours)?\n",
    "\n",
    "- _KNN_ works by finding the K nearest neighbours of a data point and then assigning the class of the majority of the neighbours to the data point ***\n",
    "- _KNN_ works by gathering all the data points in the dataset, finding the majority class and then assigning the majority class to the new data point\n",
    "- _KNN_ works by finding the K nearest neighbours of a data point and then creating as many neighbours as the number of classes in the dataset so that the data point compensates for the missing classes\n",
    "- _KNN_ works by gathering all the data points in the dataset, finding the majority class and then creating as many neighbours as the number of classes in the dataset so that the data point compensates for the missing classes"
   ]
  },
  {
   "attachments": {},
   "cell_type": "markdown",
   "metadata": {},
   "source": [
    "## In the following image, what class would the red start belong to if _KNN_ was used with `k=3`? And what if `k=6`?\n",
    "\n",
    "image: ![](quiz_images/knn.png)\n",
    "\n",
    "- In both cases, the red star would belong to the blue class\n",
    "- In both cases, the red star would belong to the green class\n",
    "- With `k=3`, the red star would belong to the blue class. With `k=6`, the red star would belong to the green class\n",
    "- With `k=3`, the red star would belong to the green class. With `k=6`, the red star would belong to the blue class ***\n",
    "- We can't determine the class of the red star with `k=3` and `k=6` from the image"
   ]
  },
  {
   "attachments": {},
   "cell_type": "markdown",
   "metadata": {},
   "source": [
    "## In terms of bias and variance, what is true about _KNN_? Select all that apply.\n",
    "\n",
    "- Increasing the number of neighbors will increase the bias ***\n",
    "- Increasing the number of neighbors will decrease the bias\n",
    "- Increasing the number of neighbors will increase the variance\n",
    "- Increasing the number of neighbors will decrease the variance ***\n",
    "- Increasing the number of neighbors will not change the bias or variance"
   ]
  },
  {
   "attachments": {},
   "cell_type": "markdown",
   "metadata": {},
   "source": [
    "## In `sklearn`, what module is used to create a _KNN_ model?\n",
    "\n",
    "- `sklearn.knn`\n",
    "- `sklearn.tree`\n",
    "- `sklearn.ensembles`\n",
    "- `sklearn.neighbors` ***\n",
    "- `sklearn.linear_model`"
   ]
  },
  {
   "attachments": {},
   "cell_type": "markdown",
   "metadata": {},
   "source": [
    "## In `sklearn`, what is the default value of `n_neighbors`?\n",
    "\n",
    "- `1`\n",
    "- `2`\n",
    "- `3`\n",
    "- `4`\n",
    "- `5` ***"
   ]
  }
 ],
 "metadata": {
  "language_info": {
   "name": "python"
  },
  "orig_nbformat": 4
 },
 "nbformat": 4,
 "nbformat_minor": 2
}
