{
 "cells": [
  {
   "attachments": {},
   "cell_type": "markdown",
   "metadata": {},
   "source": [
    "# Regression Trees"
   ]
  },
  {
   "attachments": {},
   "cell_type": "markdown",
   "metadata": {},
   "source": [
    "## In regression trees, we can use the same metrics as in classification trees. Which of the following metrics is not used in regression trees? Select all that apply.\n",
    "\n",
    "- Gini Impurity\n",
    "- Mean squared error ***\n",
    "- Information gain\n",
    "- Mean absolute error ***\n",
    "- Entropy\n"
   ]
  },
  {
   "attachments": {},
   "cell_type": "markdown",
   "metadata": {},
   "source": [
    "## When making decisions in a regression tree, what's different from classification trees?\n",
    "\n",
    "- We can use the same metrics as in classification trees\n",
    "- For regression trees, we need to split the samples into groups based on the feature values\n",
    "- For regression trees, we need to split the samples into groups based on the metrics given by the features ***\n",
    "- We can use the same splitting criteria as in classification trees\n"
   ]
  }
 ],
 "metadata": {
  "language_info": {
   "name": "python"
  },
  "orig_nbformat": 4
 },
 "nbformat": 4,
 "nbformat_minor": 2
}
