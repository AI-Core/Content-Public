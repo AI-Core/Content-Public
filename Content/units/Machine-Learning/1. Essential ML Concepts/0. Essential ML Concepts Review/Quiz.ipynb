{
 "cells": [
  {
   "attachments": {},
   "cell_type": "markdown",
   "metadata": {},
   "source": [
    "# Essential ML Concepts Review"
   ]
  },
  {
   "attachments": {},
   "cell_type": "markdown",
   "metadata": {},
   "source": [
    "## What is the role of the optimiser in a machine learning algorithm?\n",
    "\n",
    "- To decide whether the gradient needs to be calculated using subtraction or addition\n",
    "- To calculate the learning rate for the model\n",
    "- To update the weights of the model to minimize the loss function ***\n",
    "- To calculate the loss function"
   ]
  },
  {
   "attachments": {},
   "cell_type": "markdown",
   "metadata": {},
   "source": [
    "## What should you do if your model performs great on the training set but poorly on the test set? Select all that apply.\n",
    "\n",
    "- Add regularisation to the model ***\n",
    "- Decrease the complexity of the model ***\n",
    "- Increase the complexity of the model\n",
    "- Decrease the learning rate of the model\n",
    "- Increase the learning rate of the model\n",
    "- Add more samples to the dataset ***"
   ]
  },
  {
   "attachments": {},
   "cell_type": "markdown",
   "metadata": {},
   "source": [
    "## How would you define the fact that the model is learning from the noise in the dataset?\n",
    "\n",
    "- Underfitting\n",
    "- Overfitting ***\n",
    "- Regularisation\n",
    "- Learning rate\n",
    "- Gradient descent"
   ]
  }
 ],
 "metadata": {
  "language_info": {
   "name": "python"
  },
  "orig_nbformat": 4
 },
 "nbformat": 4,
 "nbformat_minor": 2
}
