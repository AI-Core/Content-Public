{
 "cells": [
  {
   "attachments": {},
   "cell_type": "markdown",
   "metadata": {},
   "source": [
    "# Evaluation metrics for classification"
   ]
  },
  {
   "attachments": {},
   "cell_type": "markdown",
   "metadata": {},
   "source": [
    "## Which of the following statements are true about accuracy? Select all that apply.\n",
    "\n",
    "- Accuracy is used to evaluate the performance of a regression model\n",
    "- Accuracy is used to evaluate the performance of a classification model ***\n",
    "- Accuracy shows the proportion of true positives over the total number of true labels\n",
    "- Accuracy shows the proportion of true positives over the total number of predictions\n",
    "- Accuracy shoes the proportion of correct predictions over the total number of predictions ***\n",
    "- Accuracy is a good metric to use when the classes are imbalanced\n",
    "- Accuracy is a good metric to use when the classes are balanced ***\n",
    "\n"
   ]
  },
  {
   "attachments": {},
   "cell_type": "markdown",
   "metadata": {},
   "source": [
    "## What does the following confusion matrix represent?\n",
    "\n",
    "image: ![](quiz_images/confusion_matrix.png)\n",
    "\n",
    "- The model predicted 10 true negatives, 12 true positives, 1 false positive, and 2 false negatives\n",
    "- The model predicted 10 true negatives, 12 true positives, 1 false positive, and 2 false positives\n",
    "- The model predicted 10 true positives, 12 true negatives, 1 false positive, and 2 false negatives ***\n",
    "- The model predicted 10 true positives, 12 true negatives, 1 false positive, and 2 false positives\n",
    "\n"
   ]
  },
  {
   "attachments": {},
   "cell_type": "markdown",
   "metadata": {},
   "source": [
    "## Given the following confusion matrix, what is the accuracy of the model?\n",
    "\n",
    "image: ![](quiz_images/confusion_matrix.png)\n",
    "\n",
    "- 0.84\n",
    "- 0.86\n",
    "- 0.88 ***\n",
    "- 0.92\n",
    "- 0.94\n"
   ]
  },
  {
   "attachments": {},
   "cell_type": "markdown",
   "metadata": {},
   "source": [
    "## What is the precision of a model?\n",
    "\n",
    "- The proportion of true positives over the total number of predictions\n",
    "- The proportion of true positives over the total number of false positives\n",
    "- The proportion of true positives over the total number of false negatives\n",
    "- The proportion of true positives over the total number of predicted positives ***\n",
    "- The proportion of true positives over the total number of predicted negatives\n",
    "- The proportion of true positives over the total number of actual positives\n",
    "- The proportion of true positives over the total number of actual negatives\n",
    "\n"
   ]
  },
  {
   "attachments": {},
   "cell_type": "markdown",
   "metadata": {},
   "source": [
    "## What is the recall of a model?\n",
    "\n",
    "- The proportion of true positives over the total number of predictions\n",
    "- The proportion of true positives over the total number of false positives\n",
    "- The proportion of true positives over the total number of false negatives\n",
    "- The proportion of true positives over the total number of predicted positives\n",
    "- The proportion of true positives over the total number of predicted negatives\n",
    "- The proportion of true positives over the total number of actual positives ***\n",
    "- The proportion of true positives over the total number of actual negatives"
   ]
  },
  {
   "attachments": {},
   "cell_type": "markdown",
   "metadata": {},
   "source": [
    "## When should you prioritise precision over recall?\n",
    "\n",
    "- When you want to minimise false positives ***\n",
    "- When you want to minimise false negatives\n",
    "- When you want to minimise false positives and false negatives"
   ]
  },
  {
   "attachments": {},
   "cell_type": "markdown",
   "metadata": {},
   "source": [
    "## Let's say you have a model that predicts whether a mail is spam or not. What metric would you use to evaluate the model? (Assume that spam is the positive class and non-spam is the negative class.)\n",
    "\n",
    "- Accuracy, because you want to minimise the number of false positives and false negatives\n",
    "- Precision, because you want to minimise the number of false positives (spam mails that are not marked as spam) ***\n",
    "- Recall, because you want to minimise the number of false negatives (non-spam mails that are marked as spam)\n"
   ]
  },
  {
   "attachments": {},
   "cell_type": "markdown",
   "metadata": {},
   "source": [
    "## Let's say you have a model that predicts fraud transactions. What metric would you use to evaluate the model? (Assume that fraud is the positive class and non-fraud is the negative class.)\n",
    "\n",
    "- Accuracy, because you want to minimise the number of false positives and false negatives\n",
    "- Precision, because you want to minimise the number of false positives (fraud transactions that are not marked as fraud)\n",
    "- Recall, because you want to minimise the number of false negatives (non-fraud transactions that are marked as fraud) ***"
   ]
  },
  {
   "attachments": {},
   "cell_type": "markdown",
   "metadata": {},
   "source": [
    "## Given the following confusion matrix, what is the precision of the model?\n",
    "\n",
    "image: ![](quiz_images/confusion_matrix.png)\n",
    "\n",
    "- 10/11 ***\n",
    "- 10/12\n",
    "- 10/22\n",
    "- 11/12\n"
   ]
  },
  {
   "attachments": {},
   "cell_type": "markdown",
   "metadata": {},
   "source": [
    "## Given the following confusion matrix, what is the recall of the model?\n",
    "\n",
    "image: ![](quiz_images/confusion_matrix.png)\n",
    "\n",
    "- 10/11\n",
    "- 10/12 ***\n",
    "- 10/22\n",
    "- 11/12"
   ]
  },
  {
   "attachments": {},
   "cell_type": "markdown",
   "metadata": {},
   "source": [
    "## What is the F1 score of a model?\n",
    "\n",
    "- The geometric mean of precision and recall\n",
    "- The geometric mean of accuracy and recall\n",
    "- The geometric mean of accuracy and precision\n",
    "- The harmonic mean of precision and recall ***\n",
    "- The harmonic mean of accuracy and recall\n",
    "- The harmonic mean of accuracy and precision"
   ]
  },
  {
   "attachments": {},
   "cell_type": "markdown",
   "metadata": {},
   "source": [
    "## Where is the optimal point on the precision-recall curve located for a binary classification problem (ROC curve)?\n",
    "\n",
    "- The point in the top right corner (1, 1)\n",
    "- The point in the bottom right corner (1, 0)\n",
    "- The point in the top left corner (0, 1) ***\n",
    "- The point in the bottom left corner (0, 0)\n",
    "- The point in the middle (0.5, 0.5)\n"
   ]
  },
  {
   "attachments": {},
   "cell_type": "markdown",
   "metadata": {},
   "source": [
    "## What does the AUC score represent?\n",
    "\n",
    "- The precision-recall curve, whose value ranges from 0 to 1\n",
    "- The precision-recall curve, whose value ranges from 0 to 100\n",
    "- The area under the ROC curve, whose value ranges from 0 to 1 ***\n",
    "- The area under the ROC curve, whose value ranges from 0 to 100\n",
    "- The area under the classification curve, whose value ranges from 0 to 1\n",
    "- The area under the classification curve, whose value ranges from 0 to 100\n"
   ]
  }
 ],
 "metadata": {
  "kernelspec": {
   "display_name": "Python 3",
   "language": "python",
   "name": "python3"
  },
  "language_info": {
   "codemirror_mode": {
    "name": "ipython",
    "version": 3
   },
   "file_extension": ".py",
   "mimetype": "text/x-python",
   "name": "python",
   "nbconvert_exporter": "python",
   "pygments_lexer": "ipython3",
   "version": "3.10.8"
  },
  "orig_nbformat": 4,
  "vscode": {
   "interpreter": {
    "hash": "09a03f703d9594344a2b9942d46f9fa7ca1a719272e47a84f9d4a0d86a51c104"
   }
  }
 },
 "nbformat": 4,
 "nbformat_minor": 2
}
