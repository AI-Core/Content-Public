{
 "cells": [
  {
   "attachments": {},
   "cell_type": "markdown",
   "metadata": {},
   "source": [
    "# Evaluation metrics for regression"
   ]
  },
  {
   "attachments": {},
   "cell_type": "markdown",
   "metadata": {},
   "source": [
    "## Which of the following is not a regression metric?\n",
    "\n",
    "- Precision ***\n",
    "- Mean Absolute Error\n",
    "- Mean Squared Error\n",
    "- Coefficient of Determination (R^2)\n",
    "- Root Mean Squared Error"
   ]
  },
  {
   "attachments": {},
   "cell_type": "markdown",
   "metadata": {},
   "source": [
    "## When would you use the Mean Squared Error (MSE) metric over the Mean Absolute Error (MAE) metric?\n",
    "\n",
    "- When you want to penalize both large and small errors equally\n",
    "- When you want to penalize large errors more than small errors ***\n",
    "- When you want to penalize small errors more than large errors\n",
    "- There is no difference when deciding between MSE and MAE\n"
   ]
  },
  {
   "attachments": {},
   "cell_type": "markdown",
   "metadata": {},
   "source": [
    "## What does the coefficient of determination (R^2) measure?\n",
    "\n",
    "- The proportion of the variance in the dependent variable that is predictable from the independent variable and the proportion of the variance in the independent variable that is predictable from the dependent variable\n",
    "- The proportion of the variance in the independent variable that is predictable from the dependent variable and the proportion of the variance in the dependent variable that is predictable from the independent variable\n",
    "- The proportion of the variance in the dependent variable that is predictable from the independent variable ***\n",
    "- The proportion of the variance in the independent variable that is predictable from the dependent variable\n"
   ]
  },
  {
   "attachments": {},
   "cell_type": "markdown",
   "metadata": {},
   "source": [
    "## You have a regression model with a RMSE of 0.5. Does this mean that your model is good?\n",
    "\n",
    "- Yes, 0.5 is a great RMSE\n",
    "- No, 0.5 is a terrible RMSE\n",
    "- It depends on the scale of the data ***\n",
    "- The RMSE is not a good metric for evaluating regression models"
   ]
  }
 ],
 "metadata": {
  "language_info": {
   "name": "python"
  },
  "orig_nbformat": 4
 },
 "nbformat": 4,
 "nbformat_minor": 2
}
