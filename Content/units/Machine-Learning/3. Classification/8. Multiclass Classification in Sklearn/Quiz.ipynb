{
 "cells": [
  {
   "attachments": {},
   "cell_type": "markdown",
   "metadata": {},
   "source": [
    "# Multiclass Classification in Sklearn"
   ]
  },
  {
   "attachments": {},
   "cell_type": "markdown",
   "metadata": {},
   "source": [
    "## Which of the following statements describe the difference between softmax and argmax? Select all that apply\n",
    "\n",
    "- `softmax `returns a distribution of probabilities, while `argmax` returns the class with the highest probability ***\n",
    "- `softmax` returns the class with the highest probability, while `argmax` returns a distribution of probabilities\n",
    "- The `softmax` function can be differentiated, while the `argmax` function cannot be differentiated ***\n",
    "- The `softmax` function changes abruptly, while the `argmax` function changes smoothly\n",
    "- The `softmax` function is a special case of the `argmax` function"
   ]
  },
  {
   "attachments": {},
   "cell_type": "markdown",
   "metadata": {},
   "source": [
    "## What is the purpose of stable `softmax` in machine learning?\n",
    "\n",
    "- To improve model performance in regression problems\n",
    "- To ensure that the output of a linear classifier is always positive\n",
    "- To speed up the computation of the `softmax` function\n",
    "- To prevent overflow or underflow errors when computing the `softmax` function ***\n",
    "- To reduce the size of the parameter space in deep learning models\n"
   ]
  },
  {
   "attachments": {},
   "cell_type": "markdown",
   "metadata": {},
   "source": [
    "## When applying one hot encoding, why is it important to drop one of the columns?\n",
    "\n",
    "- To save memory and improve model efficiency\n",
    "- To improve the interpretability of the resulting features\n",
    "- To prevent overfitting and improve model generalization\n",
    "- To avoid multicollinearity and linear dependencies between features ***\n",
    "- To reduce the dimensionality of the data and make it easier to visualize"
   ]
  },
  {
   "attachments": {},
   "cell_type": "markdown",
   "metadata": {},
   "source": [
    "## What does One-vs-Rest mean?\n",
    "\n",
    "- A binary classification approach where one class is treated as the positive class and the rest are treated as the negative class ***\n",
    "- A multi-class classification approach where each class is compared to every other class\n",
    "- A regularization technique to reduce model complexity by penalizing large coefficients\n",
    "- An optimization algorithm used to train linear regression models\n",
    "- A feature selection technique used to identify the most important variables in a dataset"
   ]
  },
  {
   "attachments": {},
   "cell_type": "markdown",
   "metadata": {},
   "source": [
    "## In the following code, what does `multi_class='multinomial'` do?\n",
    "\n",
    "```python\n",
    "from sklearn.linear_model import LogisticRegression\n",
    "clf = LogisticRegression(multi_class='multinomial', solver='lbfgs')\n",
    "```\n",
    "\n",
    "- It specifies the type of loss function to use when training the model\n",
    "- It specifies the type of regularization to use when training the model\n",
    "- It specifies the type of optimization algorithm to use when training the model\n",
    "- It specifies the type of feature selection to use when training the model\n",
    "- It specifies the type of multi-class classification to use when training the model ***\n"
   ]
  }
 ],
 "metadata": {
  "language_info": {
   "name": "python"
  },
  "orig_nbformat": 4
 },
 "nbformat": 4,
 "nbformat_minor": 2
}
