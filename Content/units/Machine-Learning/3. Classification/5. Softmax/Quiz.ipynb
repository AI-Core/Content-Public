{
 "cells": [
  {
   "attachments": {},
   "cell_type": "markdown",
   "metadata": {},
   "source": [
    "# Softmax"
   ]
  },
  {
   "attachments": {},
   "cell_type": "markdown",
   "metadata": {},
   "source": [
    "## What does the `softmax` function do?\n",
    "\n",
    "- It takes a set of values and normalises them so that they sum to 1 ***\n",
    "- It takes a set of values and normalises them so that they have mean 0 and standard deviation 1\n",
    "- It takes a set of values and normalises them so that they have mean 1 and standard deviation 0\n",
    "- It takes a set of values and applies a sigmoid function to them so that they are between 0 and 1"
   ]
  },
  {
   "attachments": {},
   "cell_type": "markdown",
   "metadata": {},
   "source": [
    "## What is the formula for the `softmax` function?\n",
    "\n",
    "- `e^x`\n",
    "- `e^x / sum(x)`\n",
    "- `e^x / sum(x^2)`\n",
    "- `e^x / sum(e^x)` ***\n",
    "- `e^x / log(sum(x))`\n"
   ]
  },
  {
   "attachments": {},
   "cell_type": "markdown",
   "metadata": {},
   "source": [
    "## What value do the numbers in the output of the `softmax` function represent?\n",
    "\n",
    "- The probability that the input belongs to a particular class\n",
    "- The probability that the input belongs to a particular class, normalized so that they sum to 1 ***\n",
    "- The probability that the input belongs to a particular class, normalized so that they have mean 0 and standard deviation 1\n",
    "- The probability that the input belongs to a particular class, normalized so that they have mean 1 and standard deviation 0\n"
   ]
  }
 ],
 "metadata": {
  "kernelspec": {
   "display_name": "Python 3",
   "language": "python",
   "name": "python3"
  },
  "language_info": {
   "name": "python",
   "version": "3.10.9"
  },
  "orig_nbformat": 4,
  "vscode": {
   "interpreter": {
    "hash": "09a03f703d9594344a2b9942d46f9fa7ca1a719272e47a84f9d4a0d86a51c104"
   }
  }
 },
 "nbformat": 4,
 "nbformat_minor": 2
}
