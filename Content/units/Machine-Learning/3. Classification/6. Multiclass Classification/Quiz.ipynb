{
 "cells": [
  {
   "attachments": {},
   "cell_type": "markdown",
   "metadata": {},
   "source": [
    "# Multiclass Classification"
   ]
  },
  {
   "attachments": {},
   "cell_type": "markdown",
   "metadata": {},
   "source": [
    "## What is a multiclass classification problem?\n",
    "\n",
    "- A classification problem where the prediction has a continuous value\n",
    "- A classification problem where the prediction has two or more classes\n",
    "- A classification problem where the prediction has more than two classes ***\n",
    "- A classification problem where the prediction of a single sample contains more than one class"
   ]
  },
  {
   "attachments": {},
   "cell_type": "markdown",
   "metadata": {},
   "source": [
    "## Why can't we apply the sigmoid function in a multiclass classification problem?\n",
    "\n",
    "- Because the sigmoid function can only be applied to a single value\n",
    "- Because the sigmoid function will return an unnormailzed probability\n",
    "- Because each prediction would be independent of the others so all the predictions would add up to more than 1 ***\n",
    "- You can and you should use the sigmoid function in a multiclass classification problem\n"
   ]
  },
  {
   "attachments": {},
   "cell_type": "markdown",
   "metadata": {},
   "source": [
    "## What is the function you should use in a multiclass classification problem?\n",
    "\n",
    "- The sigmoid function\n",
    "- The mean squared error function\n",
    "- The `softmax` function ***\n",
    "- The absolute error function"
   ]
  },
  {
   "attachments": {},
   "cell_type": "markdown",
   "metadata": {},
   "source": [
    "## All the operations in the next equation are differentiable. What benefit does this have?\n",
    "\n",
    "```\n",
    "y = softmax(Wx + b)\n",
    "```\n",
    "\n",
    "- It allows us to break down the problem into smaller problems\n",
    "- It allows us to use gradient descent to find the optimal weights and biases ***\n",
    "- It allows us to use the sigmoid function on the output of the equation, finding the probability of each class\n",
    "- There is no clear benefit to differentiability"
   ]
  }
 ],
 "metadata": {
  "language_info": {
   "name": "python"
  },
  "orig_nbformat": 4
 },
 "nbformat": 4,
 "nbformat_minor": 2
}
