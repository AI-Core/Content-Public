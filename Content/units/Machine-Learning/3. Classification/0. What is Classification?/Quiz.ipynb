{
 "cells": [
  {
   "attachments": {},
   "cell_type": "markdown",
   "metadata": {},
   "source": [
    "# What is Classification?"
   ]
  },
  {
   "attachments": {},
   "cell_type": "markdown",
   "metadata": {},
   "source": [
    "## What is the difference between classification and regression?\n",
    "\n",
    "- Classification is an unsupervised learning algorithm, while regression is a supervised learning algorithm\n",
    "- Classification is a supervised learning algorithm, while regression is an unsupervised learning algorithm\n",
    "- Classification predicts discrete values, while regression predicts continuous values ***\n",
    "- Classification predicts continuous values, while regression predicts discrete values"
   ]
  },
  {
   "attachments": {},
   "cell_type": "markdown",
   "metadata": {},
   "source": [
    "## Which of the following is a classification problem? Select all that apply.\n",
    "\n",
    "- Predicting the price of a house given the size of the house\n",
    "- Predicting whether a tumor is malignant or benign given the size of the tumor ***\n",
    "- Predicting the number of people who will buy a product given the price of the product\n",
    "- Predicting whether a user will churn given the number of times they log in to the service ***\n",
    "- Predicting whether a picture contains a cat or a dog ***"
   ]
  },
  {
   "attachments": {},
   "cell_type": "markdown",
   "metadata": {},
   "source": [
    "## What is binary classification?\n",
    "\n",
    "- A classification problem with more than two classes\n",
    "- A classification problem with two classes ***\n",
    "- A classification problem with more than two features\n",
    "- A classification problem with two features"
   ]
  },
  {
   "attachments": {},
   "cell_type": "markdown",
   "metadata": {},
   "source": [
    "## What does the sigmoid function do?\n",
    "\n",
    "- It converts a number to a probability for a binary classification problem ***\n",
    "- It converts a probability to a number for a binary classification problem\n",
    "- It converts a function to a probability for a binary classification problem\n",
    "- It converts a probability to a function for a binary classification problem"
   ]
  },
  {
   "attachments": {},
   "cell_type": "markdown",
   "metadata": {},
   "source": [
    "## What are logits?\n",
    "\n",
    "- Normalized probabilities that are in the range of 0 to 1\n",
    "- Unnormalized probabilities that are in the range of 0 to 1\n",
    "- Normalized probabilities that are in the range of 0 to 1,000\n",
    "- Unnormalized probabilities that are in the range of 0 to 1,000\n",
    "- Unnormalized probabilities that are in the range of -infinity to infinity ***\n"
   ]
  },
  {
   "attachments": {},
   "cell_type": "markdown",
   "metadata": {},
   "source": [
    "## What is the loss function to apply when using binary classification?\n",
    "\n",
    "- Mean squared error\n",
    "- Mean absolute error\n",
    "- Mean squared logarithmic error\n",
    "- Binary cross-entropy ***\n",
    "- Categorical cross-entropy\n"
   ]
  },
  {
   "attachments": {},
   "cell_type": "markdown",
   "metadata": {},
   "source": [
    "## How does binary cross entropy work as a loss function in binary classification tasks?\n",
    "\n",
    "- It measures the average absolute difference between predicted probabilities and actual binary labels\n",
    "- It computes the logarithm of the ratio between predicted probabilities and actual binary labels ***\n",
    "- It calculates the product of predicted probabilities and actual binary labels\n",
    "- It penalizes incorrect predictions more heavily based on the magnitude of the error\n",
    "- It encourages the model to assign higher probabilities to the correct class"
   ]
  },
  {
   "attachments": {},
   "cell_type": "markdown",
   "metadata": {},
   "source": [
    "## What is the usual basic model for classification?\n",
    "\n",
    "- Linear regression\n",
    "- Logistic regression ***\n",
    "- Decision tree\n",
    "- Random forest\n",
    "- Support vector machine"
   ]
  },
  {
   "attachments": {},
   "cell_type": "markdown",
   "metadata": {},
   "source": [
    "## In `scikit-learn`, what is the class used to perform logistic regression?\n",
    "\n",
    "- `sklearn.linear_model.LinearRegression`\n",
    "- `sklearn.linear_model.LogisticRegression` ***\n",
    "- `sklearn.logistic_model.LogisticRegression`\n",
    "- `sklearn.logistic_model.LinearRegression`"
   ]
  },
  {
   "attachments": {},
   "cell_type": "markdown",
   "metadata": {},
   "source": [
    "## What is the difference between `predict` and `predict_proba` in `scikit-learn`?\n",
    "\n",
    "- The `predict` method returns the distribution of probabilities for each class, while the `predict_proba` method returns the predicted class\n",
    "- The `predict` method returns the predicted class, while the `predict_proba` method returns the distribution of probabilities for each class ***\n",
    "- The `predict` method returns the predicted class, while the `predict_proba` returns the logarithm of probability estimates\n",
    "- There is no difference between the `predict` and `predict_proba` methods\n",
    "\n"
   ]
  }
 ],
 "metadata": {
  "kernelspec": {
   "display_name": "Python 3",
   "language": "python",
   "name": "python3"
  },
  "language_info": {
   "name": "python",
   "version": "3.10.9"
  },
  "orig_nbformat": 4,
  "vscode": {
   "interpreter": {
    "hash": "09a03f703d9594344a2b9942d46f9fa7ca1a719272e47a84f9d4a0d86a51c104"
   }
  }
 },
 "nbformat": 4,
 "nbformat_minor": 2
}
