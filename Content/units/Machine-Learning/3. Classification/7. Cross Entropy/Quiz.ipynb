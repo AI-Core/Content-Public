{
 "cells": [
  {
   "attachments": {},
   "cell_type": "markdown",
   "metadata": {},
   "source": [
    "# Cross Entropy"
   ]
  },
  {
   "attachments": {},
   "cell_type": "markdown",
   "metadata": {},
   "source": [
    "## What is Cross Entropy?\n",
    "\n",
    "- A method to reduce overfitting in machine learning\n",
    "- A method to reduce underfitting in machine learning\n",
    "- A type of regularization method in machine learning\n",
    "- A loss function commonly used in machine learning for regression tasks\n",
    "- A loss function commonly used in machine learning for classification tasks ***\n"
   ]
  },
  {
   "attachments": {},
   "cell_type": "markdown",
   "metadata": {},
   "source": [
    "## True or False: Cross Entropy can only be used for multiclass classification problems.\n",
    "\n",
    "- True, it can only be used for multiclass classification problems\n",
    "- False, it can also be used for binary classification problems ***"
   ]
  },
  {
   "attachments": {},
   "cell_type": "markdown",
   "metadata": {},
   "source": [
    "## Given the following code, what value of `target` would result in the lowest cross entropy loss?\n",
    "\n",
    "```python\n",
    "import numpy as np\n",
    "\n",
    "def cross_entropy_loss(pred, target):\n",
    "    return -np.log(pred[target])\n",
    "\n",
    "target = 0\n",
    "pred = np.array([0.1, 0.2, 0.5, 0.1, 0.1])\n",
    "loss = cross_entropy_loss(pred, target)\n",
    "print(loss)\n",
    "```\n",
    "\n",
    "- `0`\n",
    "- `1`\n",
    "- `2` ***\n",
    "- `3`\n",
    "- `4`\n",
    "\n",
    "\n",
    "\n"
   ]
  }
 ],
 "metadata": {
  "kernelspec": {
   "display_name": "Python 3",
   "language": "python",
   "name": "python3"
  },
  "language_info": {
   "name": "python",
   "version": "3.10.9"
  },
  "orig_nbformat": 4,
  "vscode": {
   "interpreter": {
    "hash": "09a03f703d9594344a2b9942d46f9fa7ca1a719272e47a84f9d4a0d86a51c104"
   }
  }
 },
 "nbformat": 4,
 "nbformat_minor": 2
}
