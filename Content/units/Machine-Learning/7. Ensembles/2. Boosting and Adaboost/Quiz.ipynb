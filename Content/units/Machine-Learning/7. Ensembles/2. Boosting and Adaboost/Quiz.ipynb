{
 "cells": [
  {
   "attachments": {},
   "cell_type": "markdown",
   "metadata": {},
   "source": [
    "# Boosting and AdaBoost"
   ]
  },
  {
   "attachments": {},
   "cell_type": "markdown",
   "metadata": {},
   "source": [
    "## What is the difference between boosting and bagging?\n",
    "\n",
    "- There is no difference. They are the same thing.\n",
    "- Bagging is a special case of boosting where the weak learners are decision trees\n",
    "- In bagging, the weak learners are trained in parallel, while in boosting they are trained sequentially ***\n",
    "- In bagging, the weak learners are trained on the same dataset, while in boosting they are trained on different datasets\n"
   ]
  },
  {
   "attachments": {},
   "cell_type": "markdown",
   "metadata": {},
   "source": [
    "## What is the main idea behind boosting?\n",
    "\n",
    "- To combine all the predictions of the weak learners by adding them up\n",
    "- To combine all the predictions of the weak learners by taking the average\n",
    "- To use the errors of the weak learners to help the next weak learner in the sequence ***\n",
    "- To use the errors of the weak learners to help the ensemble model discard the data points that are hard to predict"
   ]
  },
  {
   "attachments": {},
   "cell_type": "markdown",
   "metadata": {},
   "source": [
    "## Which of the following models are boosting models? Select all that apply.\n",
    "\n",
    "- AdaBoost ***\n",
    "- Random Forest\n",
    "- Bagging\n",
    "- Neural Network\n",
    "- XGBoost ***"
   ]
  },
  {
   "attachments": {},
   "cell_type": "markdown",
   "metadata": {},
   "source": [
    "## Which of the following statements is true about AdaBoost? Select all that apply.\n",
    "\n",
    "- Adaboost is a boosting method ***\n",
    "- Adaboost is a bagging method\n",
    "- Adaboost can be considered both a boosting and a bagging method\n",
    "- Adaboost has an hyperparameter that controls the weight of the base algorithms ***\n",
    "- Adaboost has an hyperparameter that controls the maximum error available for each base algorithm\n",
    "- AdaBoost is best used to boost the performance of decision trees on binary classification problems ***"
   ]
  },
  {
   "attachments": {},
   "cell_type": "markdown",
   "metadata": {},
   "source": [
    "## Which of the following code snippets will return an error?\n",
    "\n",
    "- This code snippet will return an error\n",
    "```python\n",
    "from sklearn.ensemble import AdaBoostClassifier\n",
    "from sklearn.tree import DecisionTreeClassifier\n",
    "ada = AdaBoostClassifier(estimator=DecisionTreeClassifier(max_depth=1), n_estimators=10)\n",
    "```\n",
    "\n",
    "- This code snippet will return an error\n",
    "```python\n",
    "from sklearn.ensemble import AdaBoostClassifier\n",
    "from sklearn.ensemble import RandomForestClassifier\n",
    "ada = AdaBoostClassifier(estimator=RandomForestClassifier(max_depth=1), n_estimators=10)\n",
    "```\n",
    "\n",
    "- This code snippet will return an error\n",
    "```python\n",
    "from sklearn.ensemble import AdaBoostClassifier\n",
    "from sklearn.tree import DecisionTreeClassifier\n",
    "ada = AdaBoostClassifier(estimator=AdaBoostClassifier(estimator=DecisionTreeClassifier(max_depth=1), n_estimators=10), n_estimators=10)\n",
    "```\n",
    "\n",
    "- None of the above code snippets will return an error ***\n",
    "\n"
   ]
  }
 ],
 "metadata": {
  "kernelspec": {
   "display_name": "content-projects",
   "language": "python",
   "name": "python3"
  },
  "language_info": {
   "codemirror_mode": {
    "name": "ipython",
    "version": 3
   },
   "file_extension": ".py",
   "mimetype": "text/x-python",
   "name": "python",
   "nbconvert_exporter": "python",
   "pygments_lexer": "ipython3",
   "version": "3.10.8"
  },
  "orig_nbformat": 4
 },
 "nbformat": 4,
 "nbformat_minor": 2
}
