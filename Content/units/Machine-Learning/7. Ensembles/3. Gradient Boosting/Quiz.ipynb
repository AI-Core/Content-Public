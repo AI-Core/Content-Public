{
 "cells": [
  {
   "attachments": {},
   "cell_type": "markdown",
   "metadata": {},
   "source": [
    "# Gradient Boosting"
   ]
  },
  {
   "attachments": {},
   "cell_type": "markdown",
   "metadata": {},
   "source": [
    "## Which of the following statements is true about gradient boosting? Select all that apply.\n",
    "\n",
    "- Gradient boosting looks at the difference between its current approximation and the known target values ***\n",
    "- In regression, Gradient Boosting methods only works with Mean Squared Error\n",
    "- In regression, Gradient Boosting methods only works with Mean Absolute Error\n",
    "- We can use gradient decent method for minimizing the loss function ***\n",
    "- Gradient Boosting can be used for both regression and classification problems ***\n",
    "- In each stage, a new algorithm compensates the shortcomings of existing models ***\n",
    "\n"
   ]
  },
  {
   "attachments": {},
   "cell_type": "markdown",
   "metadata": {},
   "source": [
    "## Which of the following statements is true about AdaBoost and Gradient Boosting? Select all that apply.\n",
    "\n",
    "- Gradient Boosting are more robust against outliers than AdaBoost ***\n",
    "- They both can be used for classification and regression problems ***\n",
    "- Gradient Boosting, as opposed to AdaBoost, can be used for clustering problems\n",
    "- In terms of base algorithms, Gradient Boosting is more flexible than AdaBoost ***\n",
    "- Both AdaBoost and Gradient Boosting are built from weak learners ***"
   ]
  },
  {
   "attachments": {},
   "cell_type": "markdown",
   "metadata": {},
   "source": [
    "## Which of the following are parameters of the GradientBoostingClassifier in `sklearn`? Select all that apply.\n",
    "\n",
    "- `learning_rate` ***\n",
    "- `n_estimators` ***\n",
    "- `max_depth` ***\n",
    "- `subsample` ***\n",
    "- `test_fraction`\n",
    "- `impurity`\n",
    "- `loss` ***"
   ]
  }
 ],
 "metadata": {
  "language_info": {
   "name": "python"
  },
  "orig_nbformat": 4
 },
 "nbformat": 4,
 "nbformat_minor": 2
}
