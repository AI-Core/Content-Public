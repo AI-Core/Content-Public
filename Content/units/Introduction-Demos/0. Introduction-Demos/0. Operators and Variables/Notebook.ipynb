{
 "cells": [
  {
   "attachments": {},
   "cell_type": "markdown",
   "metadata": {},
   "source": [
    "# Operators and Variables"
   ]
  },
  {
   "attachments": {},
   "cell_type": "markdown",
   "metadata": {},
   "source": [
    "## Key Outcomes\n",
    "\n",
    "- Understand variable assignment and naming conventions\n",
    "- Learn about different types of variable in Python\n",
    "- Understand how to use simple arithmetic operators in Python\n"
   ]
  },
  {
   "attachments": {},
   "cell_type": "markdown",
   "metadata": {},
   "source": [
    "## Variables\n",
    "\n",
    "\n",
    "In Python, a variable is a named container for some value or set of information we want to store and use in our code. In particular it is useful to be able to use an object multiple times without having to describe it explicitly each time, or to perform the same operation on different objects.\n",
    "\n",
    "In programming, it is conventional to use an object repeatedly in a project. Rather than defining the object repeatedly in code, we can assign it to a variable and use it instead. This concept is called __Don't Repeat Yourself (DRY)__ coding. You will encounter many instances of this throughout this course.\n",
    "\n",
    "\n",
    "\n",
    "\n"
   ]
  },
  {
   "attachments": {},
   "cell_type": "markdown",
   "metadata": {},
   "source": [
    "### Variable assignment\n",
    "\n",
    "Variables in Python are assigned using the equals (`=`) sign. The variable name is declared to the left of the `=` operator, while the value we assign to it is declared to the right. \n",
    "\n",
    "For example:"
   ]
  },
  {
   "cell_type": "code",
   "execution_count": null,
   "metadata": {},
   "outputs": [],
   "source": [
    "x = 12\n",
    "\n",
    "print(x)\n"
   ]
  },
  {
   "attachments": {},
   "cell_type": "markdown",
   "metadata": {},
   "source": [
    "In Python, unlike some programming languages, we do not need to declare a variable before we use it, rather we can just start using a variable by assigning it a value. We can also change the value that the variable represents at any time, or even change the type of information it contains by reassigning it whenever we like. "
   ]
  },
  {
   "cell_type": "code",
   "execution_count": null,
   "metadata": {},
   "outputs": [],
   "source": [
    "x = 12  # here x is an integer.\n",
    "x = True # now it's a boolean.\n",
    "x = 'fish' # and now it's a string.\n",
    "\n",
    "print(x)\n"
   ]
  },
  {
   "attachments": {},
   "cell_type": "markdown",
   "metadata": {},
   "source": [
    "We can refer to our variable by writing its name on its own. This is known as calling the variable:"
   ]
  },
  {
   "cell_type": "code",
   "execution_count": null,
   "metadata": {},
   "outputs": [],
   "source": [
    "x\n"
   ]
  },
  {
   "attachments": {},
   "cell_type": "markdown",
   "metadata": {},
   "source": [
    "What we can't do is assign variables the other way round. The code block below will generate an error when you run it. "
   ]
  },
  {
   "cell_type": "code",
   "execution_count": null,
   "metadata": {},
   "outputs": [],
   "source": [
    "x + 2 = y\n"
   ]
  },
  {
   "attachments": {},
   "cell_type": "markdown",
   "metadata": {},
   "source": [
    "### Variable Naming Conventions\n",
    "\n",
    "There are important rules to remember when naming your variables:\n",
    "\n",
    "1. Use __snake_case__: all lowercase and no spaces; underscores (\\_) are acceptable\n",
    "2. Names cannot start with a number or contain these symbols: \n",
    "__\\: \\' \\\" \\, \\< \\> \\/ \\? \\| \\\\ \\( \\) \\! @ \\# \\$ \\% \\^ \\& \\* \\~ \\- \\+__\n",
    "3. Avoid using `l` (lowercase l), `O` (uppercase o), or `I` (uppercase i) as single-character names\n",
    "4. Do __NOT__ use Python keywords (see below for a list of these keywords) or names of variable types like `list`\n",
    "\n",
    "__If you accidentally reassign a Python keyword, use Kernel --> Restart to reset everything.__ \n",
    "\n",
    "\n",
    "In general, we use __snake_case__ for variable names, to distinguish them from other parts of Python's code. Although there is nothing in the Python language to prevent you from using another convention, we use conventions like this to ensure that other programmers can read our code easily. \n",
    "\n",
    "It is also always better to make your variable name clear and human readable. Never sacrifice readability for brevity. So something like `my_long_descriptive_variable_name` is much better than `i`,  `l_dist_var_n` or `var23`!\n",
    "\n",
    "\n",
    "For further details, see the **PEP8 style guidelines** [here](https://www.python.org/dev/peps/pep-0008/).\n",
    "\n",
    "You can see a list of the Python keywords by running the code block below:\n"
   ]
  },
  {
   "cell_type": "code",
   "execution_count": null,
   "metadata": {},
   "outputs": [],
   "source": [
    "# List of keywords\n",
    "import keyword\n",
    "\n",
    "for i in keyword.kwlist:\n",
    "    print(i)\n"
   ]
  },
  {
   "attachments": {},
   "cell_type": "markdown",
   "metadata": {},
   "source": [
    "### Quick Quiz - Variable Names:\n",
    "\n",
    "Which of the following variable assignments are good, which are bad, and which are not allowed? \n",
    "\n",
    "1. ` String = 'this is a string'`\n",
    "2.  `x = 14`\n",
    "3. ` my_integer = 14`\n",
    "4. ` 2x = 28`\n",
    "5. ` MyString = 'this is a string'`\n",
    "6. ` !!! = 'Wow!'`"
   ]
  },
  {
   "cell_type": "code",
   "execution_count": null,
   "metadata": {},
   "outputs": [],
   "source": [
    "#@title Click `Show code` in the code cell. { display-mode: \"form\" }\n",
    "question_1 = \"good\" #@param [\"good\", \"bad \", \"not allowed\"]\n",
    "print('You selected', question_1)\n",
    "\n",
    "question_2 = \"good\" #@param [\"good\", \"bad \", \"not allowed\"]\n",
    "print('You selected', question_2)\n",
    "\n",
    "question_3 = \"good\" #@param [\"good\", \"bad \", \"not allowed\"]\n",
    "print('You selected', question_3)\n",
    "\n",
    "question_4 = \"good\" #@param [\"good\", \"bad \", \"not allowed\"]\n",
    "print('You selected', question_4)\n",
    "\n",
    "question_5 = \"good\" #@param [\"good\", \"bad \", \"not allowed\"]\n",
    "print('You selected', question_5)\n"
   ]
  },
  {
   "attachments": {},
   "cell_type": "markdown",
   "metadata": {},
   "source": [
    "### The `print()` Function\n",
    "\n",
    "In the previous section we learned how to call a variable. Here, we learn how to display it.\n",
    "The `print()` function displays the output rather than only returning it. In a Google Colab or Jupyter Notebook, this often makes no practical difference; however, when working in other IDEs, you may not see the output unless you print it.\n",
    "\n",
    "This becomes evident when attempting to see two outputs from a cell. A notebook only shows the latest call.\n",
    "`print()` statements can be used to display multiple outputs.\n"
   ]
  },
  {
   "cell_type": "code",
   "execution_count": null,
   "metadata": {},
   "outputs": [],
   "source": [
    "my_integer = 10\n",
    "my_integer\n",
    "print(my_integer)\n",
    "print('also print this other statement')\n"
   ]
  },
  {
   "attachments": {},
   "cell_type": "markdown",
   "metadata": {},
   "source": [
    "## Variable Naming Practical"
   ]
  },
  {
   "cell_type": "markdown",
   "metadata": {},
   "source": [
    "#### 1: Define a variable called `my_variable` and assign it the value 23"
   ]
  },
  {
   "cell_type": "code",
   "execution_count": null,
   "metadata": {},
   "outputs": [],
   "source": [
    "# TODO: Create a variable named my_variable and set it equal to 23\n"
   ]
  },
  {
   "cell_type": "markdown",
   "metadata": {},
   "source": [
    "#### 2. Print the value of `my_variable`"
   ]
  },
  {
   "cell_type": "code",
   "execution_count": null,
   "metadata": {},
   "outputs": [],
   "source": [
    "# TODO: Print the value of my_variable using the print function\n"
   ]
  },
  {
   "cell_type": "markdown",
   "metadata": {},
   "source": [
    "#### 3. Write a new line of code that reassigns `my_variable` to have the value 98"
   ]
  },
  {
   "cell_type": "code",
   "execution_count": null,
   "metadata": {},
   "outputs": [],
   "source": [
    "# TODO: Create a variable named my_variable and set it equal to 98\n"
   ]
  },
  {
   "cell_type": "markdown",
   "metadata": {},
   "source": [
    "#### 4. Print the value of `my_variable` again \n",
    "\n",
    "_Notice that the value of `my_variable` has changed._"
   ]
  },
  {
   "cell_type": "code",
   "execution_count": null,
   "metadata": {},
   "outputs": [],
   "source": [
    "# TODO: Print the value of my_variable using the print function\n"
   ]
  },
  {
   "attachments": {},
   "cell_type": "markdown",
   "metadata": {},
   "source": [
    "## Variable Types\n",
    "\n",
    "There are a lot of variable types in Python. Here are a few examples, though you will learn about many others as you go through this course! You don't need to worry too much about all the details of how each variable type behaves, as we will be covering them all in much more detail later."
   ]
  },
  {
   "attachments": {},
   "cell_type": "markdown",
   "metadata": {},
   "source": [
    "### Strings\n",
    "\n",
    "Strings are sequences of alphanumeric characters. They are generally used to represent text, but they can store numbers and special characters as well. They are defined by putting single quotes `' '` or double quotes `\" \"` around the value:"
   ]
  },
  {
   "cell_type": "code",
   "execution_count": null,
   "metadata": {},
   "outputs": [],
   "source": [
    "my_string = \"Hello World\"\n",
    "my_other_string = '2023'\n"
   ]
  },
  {
   "attachments": {},
   "cell_type": "markdown",
   "metadata": {},
   "source": [
    "### Integers \n",
    "\n",
    "Integers, as you might expect, are whole numbers with no decimal places."
   ]
  },
  {
   "cell_type": "code",
   "execution_count": null,
   "metadata": {},
   "outputs": [],
   "source": [
    "my_integer = 10\n"
   ]
  },
  {
   "attachments": {},
   "cell_type": "markdown",
   "metadata": {},
   "source": [
    "## Floats\n",
    "\n",
    "Floats, or floating-point numbers, are numnbers containing a decimal point. "
   ]
  },
  {
   "cell_type": "code",
   "execution_count": null,
   "metadata": {},
   "outputs": [],
   "source": [
    "example_float = 3.14\n"
   ]
  },
  {
   "attachments": {},
   "cell_type": "markdown",
   "metadata": {},
   "source": [
    "## Booleans\n",
    "\n",
    "A binary logical variable, which can take the values `True` or `False` . Note the capitalisation of the first letter - that is mandatory."
   ]
  },
  {
   "cell_type": "code",
   "execution_count": null,
   "metadata": {},
   "outputs": [],
   "source": [
    "my_boolean = True\n"
   ]
  },
  {
   "attachments": {},
   "cell_type": "markdown",
   "metadata": {},
   "source": [
    "You can find the type of any variable by using Python's built-in `type()` function:"
   ]
  },
  {
   "cell_type": "code",
   "execution_count": null,
   "metadata": {},
   "outputs": [],
   "source": [
    "a = True\n",
    "type(a)\n"
   ]
  },
  {
   "attachments": {},
   "cell_type": "markdown",
   "metadata": {},
   "source": [
    "## Practical -  Different Variable Types"
   ]
  },
  {
   "cell_type": "markdown",
   "metadata": {},
   "source": [
    "#### 1. Define the the following variables `num = 23`, `text_num = “57”` and `decimal_num = 98.3`"
   ]
  },
  {
   "cell_type": "code",
   "execution_count": null,
   "metadata": {},
   "outputs": [],
   "source": []
  },
  {
   "cell_type": "markdown",
   "metadata": {},
   "source": [
    "#### 2. Print the types of each variable (hint: use the `type()` function)"
   ]
  },
  {
   "cell_type": "code",
   "execution_count": null,
   "metadata": {},
   "outputs": [],
   "source": []
  },
  {
   "cell_type": "markdown",
   "metadata": {},
   "source": [
    "#### 3. What happens when you add `num` and `decimal_num`? What about `num` and `text_num`?"
   ]
  },
  {
   "cell_type": "code",
   "execution_count": null,
   "metadata": {},
   "outputs": [],
   "source": []
  },
  {
   "cell_type": "markdown",
   "metadata": {},
   "source": [
    "#### 4 . You can change the type of the string `text_num` to an integer by using the `int()` function. Try it out!"
   ]
  },
  {
   "cell_type": "code",
   "execution_count": null,
   "metadata": {},
   "outputs": [],
   "source": []
  },
  {
   "cell_type": "markdown",
   "metadata": {},
   "source": [
    "#### 5. What happens when you change `text_num` to an integer and add it to `num`?"
   ]
  },
  {
   "cell_type": "code",
   "execution_count": null,
   "metadata": {},
   "outputs": [],
   "source": []
  },
  {
   "attachments": {},
   "cell_type": "markdown",
   "metadata": {},
   "source": [
    "# Operators\n"
   ]
  },
  {
   "attachments": {},
   "cell_type": "markdown",
   "metadata": {},
   "source": [
    "In Python, an operator is a symbol that represents a specific operation to be performed on one or more other objects. Operators are used to perform various mathematical, logical and bitwise operations. In this introduction we will consider only one category of them, the **arithmetic operators**. These correspond to symbols that will be familiar from mathematics, and when applied to numeric variables in Python they act in a familiar way:"
   ]
  },
  {
   "cell_type": "code",
   "execution_count": null,
   "metadata": {},
   "outputs": [],
   "source": [
    "# addition\n",
    "\n",
    "a = 10\n",
    "b = 20\n",
    "\n",
    "a + b\n"
   ]
  },
  {
   "cell_type": "code",
   "execution_count": null,
   "metadata": {},
   "outputs": [],
   "source": [
    "# relational\n",
    "\n",
    "a = 10\n",
    "b = 5\n",
    "\n",
    "b > a\n"
   ]
  },
  {
   "cell_type": "code",
   "execution_count": null,
   "metadata": {},
   "outputs": [],
   "source": [
    "# Multiplication\n",
    "\n",
    "a = 10\n",
    "b = 5\n",
    "\n",
    "a * b\n"
   ]
  },
  {
   "attachments": {},
   "cell_type": "markdown",
   "metadata": {},
   "source": [
    "In Python, you can also apply some arithmetic operators to strings:"
   ]
  },
  {
   "cell_type": "code",
   "execution_count": null,
   "metadata": {},
   "outputs": [],
   "source": [
    "# Addition\n",
    "string_1 ='Fish'\n",
    "string_2 = ' and Chips'\n",
    "\n",
    "print(string_1 - string_2)\n"
   ]
  },
  {
   "cell_type": "code",
   "execution_count": null,
   "metadata": {},
   "outputs": [],
   "source": [
    "# Relational: greater than\n",
    "\n",
    "string_2 > string_1\n"
   ]
  },
  {
   "cell_type": "code",
   "execution_count": null,
   "metadata": {},
   "outputs": [],
   "source": [
    "# But not multiplication!\n",
    "\n",
    "'fish' * 'chips'\n"
   ]
  },
  {
   "attachments": {},
   "cell_type": "markdown",
   "metadata": {},
   "source": [
    "Quick practical. Try out some of these operations on the variable types we have discussed, using the code block below, and then answer the questions:\n",
    "\n",
    "1. What value does `True + False` evaluate to?\n",
    "2. What value does `True * False` evaluate to?\n",
    "3. How about `\"fish\" * 3 ` ?\n",
    "4. What is the type of the value that `'True' + 'False'` evaluates to? Hint: you can assign it to a variable and call the type function on it.\n",
    "5. Same question for `1 / True` "
   ]
  },
  {
   "cell_type": "code",
   "execution_count": null,
   "metadata": {},
   "outputs": [],
   "source": [
    "# test out the code in here!\n"
   ]
  },
  {
   "cell_type": "code",
   "execution_count": null,
   "metadata": {},
   "outputs": [],
   "source": [
    "#@title Click `Show code` in the code cell. { display-mode: \"form\" }\n",
    "question_1 = \"True\" #@param [\"True\", \"False \", \"1\", \"0\"]\n",
    "print('You selected', question_1)\n",
    "\n",
    "question_2 = \"1\" #@param [\"True\", \"False \", \"1\", \"0\"]\n",
    "print('You selected', question_2)\n",
    "\n",
    "question_3 = \"fish\" #@param [\"'fish3'\", \"fishfishfish \", \"not allowed\", \"fish\"]\n",
    "print('You selected', question_3)\n",
    "\n",
    "question_4 = \"int\" #@param [\"str\", \"bool \", \"int\"]\n",
    "print('You selected', question_4)\n",
    "\n",
    "question_5 = \"int\" #@param [\"int\", \" bool \", \"float\"]\n",
    "print('You selected', question_5)\n"
   ]
  },
  {
   "attachments": {},
   "cell_type": "markdown",
   "metadata": {},
   "source": [
    "In this notebook, you have learned some basics about how to define and call variables in Python, and some of the operations you can perform on them using mathematical operators. \n",
    "\n",
    "You can find more information about the variable types we have covered today by looking at their dedicated lessons in the __Python Basics__ pathway.\n",
    "\n",
    "There also many more useful variable types that you will need to know about. Have a look at some of our additional content on these in the following lessons in the  __Python Basics__ pathway:\n",
    "\n",
    "- Lists\n",
    "- Dictionaries\n",
    "- Tuples\n",
    "- Sets\n"
   ]
  }
 ],
 "metadata": {
  "kernelspec": {
   "display_name": "Multinational",
   "language": "python",
   "name": "python3"
  },
  "language_info": {
   "codemirror_mode": {
    "name": "ipython",
    "version": 3
   },
   "file_extension": ".py",
   "mimetype": "text/x-python",
   "name": "python",
   "nbconvert_exporter": "python",
   "pygments_lexer": "ipython3",
   "version": "3.11.0"
  }
 },
 "nbformat": 4,
 "nbformat_minor": 2
}
