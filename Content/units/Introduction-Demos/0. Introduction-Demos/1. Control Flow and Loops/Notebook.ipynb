{
 "cells": [
  {
   "attachments": {},
   "cell_type": "markdown",
   "metadata": {},
   "source": [
    "# Control Flow and Loops"
   ]
  },
  {
   "attachments": {},
   "cell_type": "markdown",
   "metadata": {},
   "source": [
    "## Key Outcomes\n",
    "\n",
    "- To understand what is meant by control flow\n",
    "- To learn about conditional statements\n",
    "- To learn about `while` and `for` loops\n",
    "- To learn how to iterate through an iterable variable inside a loop"
   ]
  },
  {
   "attachments": {},
   "cell_type": "markdown",
   "metadata": {},
   "source": [
    "## Control Flow"
   ]
  },
  {
   "attachments": {},
   "cell_type": "markdown",
   "metadata": {},
   "source": [
    "### Introduction"
   ]
  },
  {
   "attachments": {},
   "cell_type": "markdown",
   "metadata": {},
   "source": [
    ">Control flow refers to the order of execution of instructions in a computer program.\n",
    "\n",
    "A program is a series of instructions called statements. The order in which these statements are executed can vary. Control flow determines how the program proceeds based on certain conditions and loops until a particular condition is met.\n",
    "\n",
    "Control flow facilitates decision making (conditional statements), branching and looping in code. Each of these motifs changes the order in which statements in a program are executed, and can allow for complex behaviour inside programs."
   ]
  },
  {
   "cell_type": "markdown",
   "metadata": {},
   "source": [
    "## Conditional Statements"
   ]
  },
  {
   "cell_type": "markdown",
   "metadata": {},
   "source": [
    "Conditional statements are a form of control flow. They comprise a set of instructions in code that are executed if a certain condition is met."
   ]
  },
  {
   "attachments": {},
   "cell_type": "markdown",
   "metadata": {},
   "source": [
    "### `If` statements\n",
    "\n",
    "<p align=center><img src=images/if.svg width=400></p>\n",
    "\n",
    "- An `if` statement is a piece of code that causes another piece of code to be executed based on the fulfillment of a condition\n",
    "- If statements employ boolean operators to determine if a condition is `True` and whether or not to execute the dependent piece of code subsequently\n",
    "- The basic syntax for an if statement in pseudo-code is as follows:"
   ]
  },
  {
   "cell_type": "code",
   "execution_count": null,
   "metadata": {},
   "outputs": [],
   "source": [
    "# if some_condition:\n",
    "#     do_something\n"
   ]
  },
  {
   "attachments": {},
   "cell_type": "markdown",
   "metadata": {},
   "source": [
    "- Note the indentation. Python determines precedence based on indentation/whitespace rather than brackets, as in other languages.\n",
    "- The standard practice for indentation, as recommended by the PEP8 guidelines, is to use four spaces; however, you can also use a tab\n",
    "- Spaces and tabs should not be mixed for indentation\n",
    "- Jupyter Notebook, similar to many other IDEs, automatically creates an indentation after a colon"
   ]
  },
  {
   "attachments": {},
   "cell_type": "markdown",
   "metadata": {},
   "source": [
    "### `Elif` and `else` statements\n",
    "\n",
    "<p align=center><img src=images/if_else.svg width=400></p>\n",
    "\n",
    "- `Elif` ('else if') statements add a block of code to be executed if the first condition is not fulfilled, i.e. if the first `if` statement does not run\n",
    "- `Else` statements add a block of code to be executed if none of the previous conditions are fulfilled, i.e. if the `if` and `elif` statements do not run\n",
    "- The syntax is as follows (take note of the whitespace alignment):"
   ]
  },
  {
   "cell_type": "code",
   "execution_count": null,
   "metadata": {},
   "outputs": [],
   "source": [
    "# if some_condition:\n",
    "#     do_something\n",
    "# elif some_other_condition:\n",
    "#     do_something_else\n",
    "# else:\n",
    "#     do_this\n"
   ]
  },
  {
   "cell_type": "markdown",
   "metadata": {},
   "source": [
    "### Examples"
   ]
  },
  {
   "cell_type": "code",
   "execution_count": null,
   "metadata": {},
   "outputs": [],
   "source": [
    "a = int(input('Enter a number for A'))\n",
    "b = int(input('Enter a number for B'))\n",
    "\n",
    "print(f'A is equal to {a}')\n",
    "print(f'B  is equal to {b}')\n",
    "if a > b:\n",
    "    print(\"A is larger than B\")\n",
    "elif a < b:\n",
    "    print (\"A is smaller than B\")\n",
    "else:\n",
    "    print (\"A is equal to B\")\n"
   ]
  },
  {
   "cell_type": "markdown",
   "metadata": {},
   "source": [
    "The `if-else` statements can also be run in one line:"
   ]
  },
  {
   "cell_type": "code",
   "execution_count": null,
   "metadata": {},
   "outputs": [],
   "source": [
    "if a > b: print(\"a is greater than b\") \n"
   ]
  },
  {
   "cell_type": "code",
   "execution_count": null,
   "metadata": {},
   "outputs": [],
   "source": [
    "print(\"A\") if a > b else print(\"B\") \n"
   ]
  },
  {
   "cell_type": "markdown",
   "metadata": {},
   "source": [
    "Any condition type can be applied in an `if` statement, provided that it returns a single boolean."
   ]
  },
  {
   "cell_type": "code",
   "execution_count": null,
   "metadata": {},
   "outputs": [],
   "source": [
    "a = int(input('Enter a number for A'))\n",
    "b = int(input('Enter a number for B'))\n",
    "c = int(input('Enter a number for C'))\n",
    "\n",
    "if a > b and b > c:\n",
    "  print(\"Both conditions are True\")\n"
   ]
  },
  {
   "attachments": {},
   "cell_type": "markdown",
   "metadata": {},
   "source": [
    "# Practical - BMI Checker"
   ]
  },
  {
   "attachments": {},
   "cell_type": "markdown",
   "metadata": {},
   "source": [
    "Given 2 variables, `height` and `weight`, calculate the BMI (`weight` / `height` ^2).\n",
    "\n",
    "#### 1. Using the parameter BMI, write a series of if statements that print the following outcomes:\n",
    "\n",
    "- Below 18.5 --> `Your BMI is x. You're in the underweight range.`\n",
    "- Between 18.5 and 24.9 --> `Your BMI is x. You're in the healthy weight range.`\n",
    "- Between 25 and 29.9 --> `Your BMI is x. You're in the overweight range.`\n",
    "- 30 and over --> `Your BMI is x. You're in the obese range.`"
   ]
  },
  {
   "cell_type": "code",
   "execution_count": null,
   "metadata": {},
   "outputs": [],
   "source": [
    "weight = float(input(\"Enter your weight in kg: \"))\n",
    "height = float(input(\"Enter your height in m: \"))\n",
    "\n",
    "# TODO - Write the logic for the BMI checker\n"
   ]
  },
  {
   "attachments": {},
   "cell_type": "markdown",
   "metadata": {},
   "source": [
    "#### 2. Test your code with the following cases by substituting them in for weight and height values in your code above:\n",
    "\n",
    "- Height: 1.83m, Weight: 85kg\n",
    "- Height: 1.55m, Weight: 61kg\n",
    "- Height: 2.09m, Weight: 135kg"
   ]
  },
  {
   "attachments": {},
   "cell_type": "markdown",
   "metadata": {},
   "source": [
    "# Practical -  Flight Safety Checker"
   ]
  },
  {
   "cell_type": "markdown",
   "metadata": {},
   "source": [
    "Given 2 variables, `altitude` (ft) and `airspeed` (knots)\n",
    "\n",
    "#### 1. Write a program that categorises entries into 'safe flying' and 'unsafe flying' based on the following criteria:\n",
    "   - An `altitude` below 100ft or above 50000ft is considered unsafe flying\n",
    "   - An `airspeed` below 60 knots or above 500 knots is considered unsafe flying\n",
    "   - If `altitude` and `airspeed` are outside these ranges, the flight is considered as safe\n",
    "   \n",
    "*CLUE: You will have to figure out the syntax for using `and`/`or` keywords in `if` statements*"
   ]
  },
  {
   "cell_type": "code",
   "execution_count": null,
   "metadata": {},
   "outputs": [],
   "source": [
    "altitude = int(input(\"Enter the altitude in feet: \"))\n",
    "airspeed = int(input(\"Enter the airspeed in knots: \"))\n",
    "\n",
    "# TODO - Write the logic for the altitude and airspeed checker\n"
   ]
  },
  {
   "cell_type": "markdown",
   "metadata": {},
   "source": [
    "#### 2. Try to write this as cleanly as possible and test your code with the following by substituting in again:\n",
    "\n",
    "- Altitude: 25000ft, Airspeed: 300 knots\n",
    "- Altitude: 50001ft, Airspeed: 250 knots\n",
    "- Altitude: 90ft, Airspeed: 125 knots"
   ]
  },
  {
   "attachments": {},
   "cell_type": "markdown",
   "metadata": {},
   "source": [
    "## Loops\n",
    "\n",
    "## Key Outcomes\n",
    "- Understand the concept of iterations (definite and indefinite)\n",
    "- Learn how to use while loops\n",
    "- Learn how to use a basic for loop\n",
    "- Learn how to use a for loop with the `range()` function\n",
    "- Learn how to use `range(len(iterable))` to iterate over an index"
   ]
  },
  {
   "attachments": {},
   "cell_type": "markdown",
   "metadata": {},
   "source": [
    "## Iteration\n",
    "\n",
    "- A data structure is considered iterable when it is capable of returning its elements one at a time, e.g. lists, tuples, strings and dictionaries (d.keys() returns a list)\n",
    "- An iteration refers to the performance of the same operation repeatedly (often over each element of an iterable), e.g. multiplying each element in a list by 2 or retrieving index 0 of each item in a list of strings"
   ]
  },
  {
   "attachments": {},
   "cell_type": "markdown",
   "metadata": {},
   "source": [
    "## `While` Loops\n",
    "\n",
    "<p align=center><img src=images/while-loop.jpg width=500></p>\n",
    "\n",
    "- The `while` loop performs the same operation(s) __while__ some boolean conditions are fulfilled\n",
    "- This is called indefinite iteration, where the number of iterations is unknown\n",
    "- While loops will not be explored in great detail here, as they are not highly useful in data science"
   ]
  },
  {
   "cell_type": "markdown",
   "metadata": {},
   "source": [
    "### Basic syntax"
   ]
  },
  {
   "cell_type": "code",
   "execution_count": null,
   "metadata": {},
   "outputs": [],
   "source": [
    "# while some_condition:\n",
    "#     do_something\n",
    "# else:\n",
    "#     do_something_else\n"
   ]
  },
  {
   "attachments": {},
   "cell_type": "markdown",
   "metadata": {},
   "source": [
    "The syntax comprises the following parts:\n",
    "- The `while` keyword: This is the key to the statement; it indicates a `while` loop and refers to some_condition\n",
    "- The condition: The `while` keyword determines whether the condition is `True` and executes the dependent block of code if it is\n",
    "- do_something: This is the block of code to be executed if the condition is `True`\n",
    "- else statement: This is the block of code to be executed if the condition is `False`\n",
    "<br><br>\n",
    "\n",
    "\n",
    "> __While__ the condition is `True`, the dependent block of code will be executed, and the program will __loop__ to the while statement, revalidate the condition, and execute again if `True`.\n",
    "- This continues __indefinitely__ until the condition is false, hence the indefinite iteration\n",
    "- A common mistake is to create an __infinite loop__, where the condition remains `False`, and the code continues to execute, thereby expending the memory resources until the computer crashes\n",
    "- Therefore, it is highly recommended to include a way of adjusting the condition inside the loop, either in the do_something statement or using the break keyword (see below)"
   ]
  },
  {
   "cell_type": "markdown",
   "metadata": {},
   "source": [
    "### Example"
   ]
  },
  {
   "cell_type": "code",
   "execution_count": null,
   "metadata": {},
   "outputs": [],
   "source": [
    "x = 0\n",
    "\n",
    "while x < 5:\n",
    "    print(f\"The current value of x is {x}\")\n",
    "    x += 1\n",
    "else:\n",
    "    print(\"x not less than 5\")\n"
   ]
  },
  {
   "cell_type": "code",
   "execution_count": null,
   "metadata": {},
   "outputs": [],
   "source": [
    "x = 0\n",
    "\n",
    "while x < 5:\n",
    "    print(f\"The current value of x is {x}\")\n",
    "    x += 1\n",
    "else:\n",
    "    print(\"x not less than 5\")\n"
   ]
  },
  {
   "attachments": {},
   "cell_type": "markdown",
   "metadata": {},
   "source": [
    "### The `break` keyword"
   ]
  },
  {
   "attachments": {},
   "cell_type": "markdown",
   "metadata": {},
   "source": [
    "- The `break` keyword is used to exit a loop. Conventionally, it is used with an `if` statement to exit the loop if a condition is fulfilled.\n",
    "- If the `break` keyword is applied, the code will not loop. It will halt its execution there and move on to the next statement.\n",
    "- This can be observed in the below code where 2 is not printed. The `print` statement is indented, along with the latter part of the loop."
   ]
  },
  {
   "cell_type": "code",
   "execution_count": null,
   "metadata": {},
   "outputs": [],
   "source": [
    "x = 0\n",
    "while x < 5:\n",
    "    if x == 2:\n",
    "        break\n",
    "    print(x)\n",
    "    x += 1\n"
   ]
  },
  {
   "attachments": {},
   "cell_type": "markdown",
   "metadata": {},
   "source": [
    "## `For` Loops"
   ]
  },
  {
   "attachments": {},
   "cell_type": "markdown",
   "metadata": {},
   "source": [
    "- `For` loops perform an operation on each element in an iterable (each character in a string or each item in a list) until no element is left in the iterable\n",
    "- This form of iteration is called definite iteration, where the number of iterations is known\n",
    "- Further, this is an example of Don't Repeat Yourself (DRY) coding, since a single `for`` loop performs numerous operations in one pass\n",
    "\n",
    "As opposed to the `while` loop, the `for` loop is limited by the number of items in the iterable. <br><br>\n",
    "\n",
    "<p align=center><img src=images/for_while.jpeg></p>"
   ]
  },
  {
   "cell_type": "markdown",
   "metadata": {},
   "source": [
    "### Basic syntax"
   ]
  },
  {
   "cell_type": "code",
   "execution_count": null,
   "metadata": {},
   "outputs": [],
   "source": [
    "# for i in iterable:\n",
    "#     do_something\n",
    "#     do_something_to_i\n"
   ]
  },
  {
   "attachments": {},
   "cell_type": "markdown",
   "metadata": {},
   "source": [
    "The syntax can be broken down, as follows:\n",
    "- `i` is the counter variable; it can be anything provided that it is consistent. For readability, the best practice is to use naming words, such as `city in cities`, `item in items`, etc, where `cities` or `items` is the __name__ of the __iterable__.\n",
    "\n",
    "- `i` refers to each element in the iterable in a given iteration; thus, we can employ `i` in the do_something block\n",
    "\n",
    "- `in` is the keyword, `in`, referencing the following iterable\n",
    "\n",
    "- `iterable` is the data structure over which the operation is performed, e.g. the list name\n",
    "\n",
    "- __colon__ indicates control flow and signals an indentation, completing the set phrase\n",
    "\n",
    "- __do_something__ is the code block to be executed on each element; `i` is often used in this code block, although other alphabets are permissible"
   ]
  },
  {
   "attachments": {},
   "cell_type": "markdown",
   "metadata": {},
   "source": [
    "For example:"
   ]
  },
  {
   "cell_type": "code",
   "execution_count": null,
   "metadata": {},
   "outputs": [],
   "source": [
    "items = [\"hat\", \"boots\", \"jacket\", \"gloves\"]\n",
    "\n",
    "for item in items:\n",
    "    print(f'Hello, I have a: {item}')\n"
   ]
  },
  {
   "attachments": {},
   "cell_type": "markdown",
   "metadata": {},
   "source": [
    "### The `range()` function"
   ]
  },
  {
   "cell_type": "code",
   "execution_count": null,
   "metadata": {},
   "outputs": [],
   "source": [
    "# for i in range(start,stop,step):\n",
    "#     do_something\n",
    "#     do_something_to_i\n"
   ]
  },
  {
   "cell_type": "code",
   "execution_count": null,
   "metadata": {},
   "outputs": [],
   "source": [
    "list((range(5)))\n"
   ]
  },
  {
   "cell_type": "code",
   "execution_count": null,
   "metadata": {},
   "outputs": [],
   "source": [
    "range(0, 10)\n"
   ]
  },
  {
   "cell_type": "code",
   "execution_count": null,
   "metadata": {},
   "outputs": [],
   "source": [
    "print(list(range(5)))\n",
    "print(list(range(5, 20)))\n",
    "print(list(range(5, 20, 2)))\n"
   ]
  },
  {
   "attachments": {},
   "cell_type": "markdown",
   "metadata": {},
   "source": [
    "- Here, an operation using the `range()` function is performed, which applies to all the numbers in the given range\n",
    "\n",
    "- `range()` is a generator that returns an iterable range object (not a list)\n",
    "\n",
    "- The `list(range())` function is employed to generate a list\n",
    "\n",
    "- The `range()` function accepts three arguments: **start**, **stop** and **step**\n",
    "\n",
    "- If __one argument__ is specified, e.g. `range(3)`, the range defaults to `start = 0` and `step = 1` and considers the argument as the ending number+1. Therefore, `range(3)` contains 0, 1 and 2\n",
    "\n",
    "- If __two arguments__ are specified, e.g. `range(5,20)`, the first is the start number, and the second is stop number+1\n",
    "\n",
    "- If __three arguments__ are specified, the third is considered the step(increment), e.g. `range(5,10,2)` contains 5,7 and 9."
   ]
  },
  {
   "attachments": {},
   "cell_type": "markdown",
   "metadata": {},
   "source": [
    "For example:"
   ]
  },
  {
   "cell_type": "code",
   "execution_count": null,
   "metadata": {},
   "outputs": [],
   "source": [
    "ls = [1, 5, 6, 7, 8, 9]\n",
    "ls[2]\n"
   ]
  },
  {
   "cell_type": "code",
   "execution_count": null,
   "metadata": {},
   "outputs": [],
   "source": [
    "for i in range(len(ls)):\n",
    "    print(i)\n"
   ]
  },
  {
   "cell_type": "code",
   "execution_count": null,
   "metadata": {},
   "outputs": [],
   "source": [
    "range(len(ls))\n"
   ]
  },
  {
   "cell_type": "code",
   "execution_count": null,
   "metadata": {},
   "outputs": [],
   "source": [
    "print(list(range(3)))\n"
   ]
  },
  {
   "cell_type": "code",
   "execution_count": null,
   "metadata": {},
   "outputs": [],
   "source": [
    "print(list(range(5,20)))\n"
   ]
  },
  {
   "cell_type": "code",
   "execution_count": null,
   "metadata": {},
   "outputs": [],
   "source": [
    "print(list(range(5,10,2)))\n"
   ]
  },
  {
   "attachments": {},
   "cell_type": "markdown",
   "metadata": {},
   "source": [
    "#### The `range(len(iterable))` function"
   ]
  },
  {
   "cell_type": "code",
   "execution_count": null,
   "metadata": {},
   "outputs": [],
   "source": [
    "# for i in range(len(iterable)):\n",
    "#     do_something_to_iterable[i]\n"
   ]
  },
  {
   "attachments": {},
   "cell_type": "markdown",
   "metadata": {},
   "source": [
    "- Here, `i` is each number in the indices of a list, and the list in the code block can be indexed to modify each element\n",
    "- This is generally employed to modify lists; however, it has other uses"
   ]
  },
  {
   "attachments": {},
   "cell_type": "markdown",
   "metadata": {},
   "source": [
    "For example:"
   ]
  },
  {
   "cell_type": "code",
   "execution_count": null,
   "metadata": {},
   "outputs": [],
   "source": [
    "items = [\"hat\", \"boots\", \"jacket\", \"gloves\"]\n",
    "\n",
    "counter = 0\n",
    "for i in range(len(items)):\n",
    "    items[i] = items[i].upper()\n",
    "\n",
    "print(items)\n"
   ]
  },
  {
   "attachments": {},
   "cell_type": "markdown",
   "metadata": {},
   "source": [
    "## Practical - Counting Numbers"
   ]
  },
  {
   "cell_type": "markdown",
   "metadata": {},
   "source": [
    "Write a program that prints the numbers from 1 to 50.\n",
    "\n",
    "#### 1. Using a `while` loop to do so"
   ]
  },
  {
   "cell_type": "code",
   "execution_count": null,
   "metadata": {},
   "outputs": [],
   "source": [
    "# TODO - Write a while loop that prints out the numbers 1 to 50\n"
   ]
  },
  {
   "cell_type": "markdown",
   "metadata": {},
   "source": [
    "#### 2. Using a `for` loop to do so"
   ]
  },
  {
   "cell_type": "code",
   "execution_count": null,
   "metadata": {},
   "outputs": [],
   "source": [
    "# TODO - Write a for loop that prints out the numbers 1 to 50\n"
   ]
  },
  {
   "attachments": {},
   "cell_type": "markdown",
   "metadata": {},
   "source": [
    "## Counting even Numbers"
   ]
  },
  {
   "attachments": {},
   "cell_type": "markdown",
   "metadata": {},
   "source": [
    "Write a program that prints the numbers from 1 to 50 only if the number is even."
   ]
  },
  {
   "cell_type": "markdown",
   "metadata": {},
   "source": [
    "#### 1. Use a `while` loop to do so"
   ]
  },
  {
   "cell_type": "code",
   "execution_count": null,
   "metadata": {},
   "outputs": [],
   "source": [
    "# TODO - Write a while loop that prints out the even numbers from 1 to 50\n"
   ]
  },
  {
   "cell_type": "markdown",
   "metadata": {},
   "source": [
    "#### 2. Use a `for` loop to do so"
   ]
  },
  {
   "cell_type": "code",
   "execution_count": null,
   "metadata": {},
   "outputs": [],
   "source": [
    "for i in range(1, 51):\n",
    "    if i % 2 == 0:\n",
    "        print(i)\n"
   ]
  },
  {
   "attachments": {},
   "cell_type": "markdown",
   "metadata": {},
   "source": [
    "## Counting even and Odd Numbers"
   ]
  },
  {
   "attachments": {},
   "cell_type": "markdown",
   "metadata": {},
   "source": [
    "#### 1. Write a `for` loop to count the sum of all even numbers between 1 and 100\n",
    "\n",
    "You can start by defining a variable called cumulative_sum and set it to 0. "
   ]
  },
  {
   "cell_type": "code",
   "execution_count": null,
   "metadata": {},
   "outputs": [],
   "source": [
    "# TODO - Write a while loop that prints out the cumnulative sum of the even numbers from 1 to 50\n"
   ]
  },
  {
   "cell_type": "markdown",
   "metadata": {},
   "source": [
    "#### 2. Write another `for` loop to count the sum of all odd numbers between 1 and 100"
   ]
  },
  {
   "cell_type": "code",
   "execution_count": null,
   "metadata": {},
   "outputs": [],
   "source": [
    "# TODO - Write a while loop that prints out the cumnulative sum of the odd numbers from 1 to 50\n"
   ]
  }
 ],
 "metadata": {
  "kernelspec": {
   "display_name": "huggingface1",
   "language": "python",
   "name": "python3"
  },
  "language_info": {
   "codemirror_mode": {
    "name": "ipython",
    "version": 3
   },
   "file_extension": ".py",
   "mimetype": "text/x-python",
   "name": "python",
   "nbconvert_exporter": "python",
   "pygments_lexer": "ipython3",
   "version": "3.10.8"
  }
 },
 "nbformat": 4,
 "nbformat_minor": 2
}
