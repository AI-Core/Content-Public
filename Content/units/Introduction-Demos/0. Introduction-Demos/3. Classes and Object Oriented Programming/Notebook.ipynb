{
 "cells": [
  {
   "attachments": {},
   "cell_type": "markdown",
   "metadata": {},
   "source": [
    "# Classes and Object Oriented Programming"
   ]
  },
  {
   "attachments": {},
   "cell_type": "markdown",
   "metadata": {},
   "source": [
    "## Key Outcomes:\n",
    "\n",
    "- To understand what is meant by objects and object-oriented programming (OOP)\n",
    "- To understand distinction between classes and instances\n",
    "- To learn about classes in Python, as well as attributes and methods\n",
    "- To learn how to define a class in Python\n",
    "- To learn how to create an instance of a class in Python\n",
    "- To Understand the use of `self` and how to avoid over-using it\n",
    "- To Understand the execution order of methods inside a class\n",
    "- To learn how to document your code using Docstrings\n"
   ]
  },
  {
   "attachments": {},
   "cell_type": "markdown",
   "metadata": {},
   "source": [
    "## What is Object Oriented Programming?\n",
    "\n",
    "Object-oriented programming (OOP) is a programming paradigm where everything revolves around objects. Sounds simple enough, but what is an object?\n",
    "\n",
    "In the wider world, an object is a thing. A cup is an object, but so is an email. For our purposes in programming, an object is just any thing that can be said to have properties, such as colour, size, or shape, or can do particular things because it is that object. Your computer is an object. It has properties like amount of RAM, and also can do things that other objects can't, like run python!\n",
    "\n",
    "This is all very vague though. How does it apply to Python programming? \n",
    "\n",
    "### Objects in Python\n",
    "\n",
    "Many of the things you have encountered in Python already are objects. Variable types are objects, for example. A given string can have a length, which is a property of that string, AKA an __attribute__ in OOP language. It also has __methods__, like `.index()`, which is a thing that strings can do. \n",
    "\n",
    "### Classes and Instances\n",
    "\n",
    "You might have noticed that the definition of object that we have so far is mixing up two concepts - there's the general class of object, like __cat__ , and then there's the specific cat that has wandered in through your kitchen door and is currently urinating on your rug. In OOP former is a __class__, and the latter is an __instance__ of that class.\n",
    "\n",
    "We can see the same thing in Python, with variable types and specific instances of them:"
   ]
  },
  {
   "cell_type": "code",
   "execution_count": 6,
   "metadata": {},
   "outputs": [
    {
     "data": {
      "text/plain": [
       "1"
      ]
     },
     "execution_count": 6,
     "metadata": {},
     "output_type": "execute_result"
    }
   ],
   "source": [
    "str # this is a variable type, which is a class..capitalize\n",
    "my_string=str('hello') # here, we are creating an instance of that class, which is the particular string that is called 'my_string' and has the value 'hello'.\n",
    "my_string.index('e')\n"
   ]
  },
  {
   "attachments": {},
   "cell_type": "markdown",
   "metadata": {},
   "source": [
    "Variable types are a kind of special, built-in class. But we can make our own classes, and that's the essence of OOP - designing code around objects of particular classes, so we can re-use their general properties in specific instances."
   ]
  },
  {
   "attachments": {},
   "cell_type": "markdown",
   "metadata": {},
   "source": [
    "## Defining Classes\n",
    "\n",
    "Let's look at an example now. Let's say we want to make a code representation of a car. We want to model several properties that cars have (their attributes), and also some of the things they can do (their methods).\n",
    "\n",
    "The attributes can include things like the make, model, year, color, and mileage of the car, while the methods can include actions that a car can perform such as accelerating, braking, and turning.\n",
    "\n",
    "### Basic Class Syntax.\n",
    "\n",
    "Below is the basic syntax of a Python class:"
   ]
  },
  {
   "cell_type": "code",
   "execution_count": null,
   "metadata": {},
   "outputs": [],
   "source": [
    "class ExampleClass: # this is the class definition statement, that lets Python know we're about to define a class.\n",
    "    \n",
    "    def __init__(self): \n",
    "        ''' This is a special method, known as a 'magic method' or 'dunder method' (double underscore method).\n",
    "        This one is __init__ - the class constructor. or initializer. It tells Python how to create an instance of this class.\n",
    "        It is called when we create an instance of the class. We use the keyword 'self' here to refer to the instance of the class that we are creating'''\n",
    "\n",
    "        self.example_attribute = 'example attribute value'  # this is an attribute of the class. It is a variable that is attached to the class.\n",
    "        pass\n",
    "        \n",
    "        \n",
    "    def example_method(self):\n",
    "        ''' This is an example method. It is a function that is attached to the class.'''\n",
    "        pass\n",
    "        \n"
   ]
  },
  {
   "attachments": {},
   "cell_type": "markdown",
   "metadata": {},
   "source": [
    "Ok, so there's quite a lot to take in there. Let's break it down as we define our example class `Car`. \n",
    "\n",
    "### Class definition\n",
    "\n",
    "This one is easy - it's like the `def` statement for functions, but for classes. Everything inside the indented block thsat follows it will be part of the class definiton. Note that classes are named in __PascalCase__, unlike functions and variables, which are named in __snake_case__.\n",
    "\n",
    "### `init` method\n",
    "\n",
    "This is one of a family of special methods in Python known as **magic** or **dunder** (double underscore) methods. They have specific roles and tell Python how your class behaves when you call specific functions on it, and other related things. You can find a list of them [here](https://holycoders.com/python-dunder-special-methods/), but bare in mind that any list of them is unlikely to be exhaustive!\n",
    "\n",
    "The one we care about here is the `__init__` method, or class constructor. It is called when we create an instance of the class, so a specific car in our case. It will set the attributes of the class that we consider necessary for the class to function.\n",
    "\n",
    "### `self` parameter\n",
    "\n",
    "This one causes a lot of confusion, but it's easy enough if you think of it as meaning \"this instance of the class\" - so this specific car. We always need to add `self` to a method of our class, so that it can \"see\" the specific instance of the class we are referring to. Although we add it as a parameter, we do __not__ pass it when calling the method. It is passed implicitly."
   ]
  },
  {
   "cell_type": "code",
   "execution_count": 22,
   "metadata": {},
   "outputs": [],
   "source": [
    "class Car:\n",
    "\n",
    "    def __init__(self, make, year, mileage, colour): \n",
    "       \n",
    "        self.mileage = mileage # We can pass parameters to the class constructor, and assign them to attributes of the class.\n",
    "        self.make = make\n",
    "        self.year = year\n",
    "        self.colour = colour\n",
    "        self.speed = 0 # We can also assign default values to attributes of the class.\n",
    "\n",
    "    def accelerate(self, speed_increase):\n",
    "        \n",
    "        self.speed += speed_increase\n",
    "    \n",
    "    def brake(self, speed_decrease):\n",
    "        \n",
    "        self.speed -= speed_decrease\n",
    "    \n",
    "    def drive(self):\n",
    "        \n",
    "        print('The car is driving at ' + str(self.speed) + 'mph\\n' + 'vrrrooom!')\n",
    "    \n"
   ]
  },
  {
   "attachments": {},
   "cell_type": "markdown",
   "metadata": {},
   "source": [
    "## Creating Instances of the Class\n",
    "\n",
    "Now we have our class, we can create instances of it by calling the class, and passing whatever parameters are required by the class constructor.\n",
    "\n",
    "We call a class by using its name, followed by parentheses. We can then assign the instance to a variable. Instance names should be in __snake_case__ so as to distinguish them from classes."
   ]
  },
  {
   "cell_type": "code",
   "execution_count": 23,
   "metadata": {},
   "outputs": [],
   "source": [
    "tims_ancient_honda = Car(make = 'Honda', year = 1999, mileage = 100000,  colour = 'red') \n",
    "harrys_fancy_car = Car('Ferrari', 2023, 0, 'blue')\n"
   ]
  },
  {
   "attachments": {},
   "cell_type": "markdown",
   "metadata": {},
   "source": [
    "We can then access any attributes and methods we have defined for our class by calling the instance of the class:"
   ]
  },
  {
   "cell_type": "code",
   "execution_count": null,
   "metadata": {},
   "outputs": [],
   "source": [
    "print(tims_ancient_honda.colour)\n",
    "tims_ancient_honda.accelerate(50)\n",
    "tims_ancient_honda.drive()\n"
   ]
  },
  {
   "attachments": {},
   "cell_type": "markdown",
   "metadata": {},
   "source": [
    "## Don't Get Carried Away with 'self' !\n",
    "\n",
    "Once you start getting the hang of using `self` in classes, it can be tempting to make everything into an attribute of the class! \n",
    "\n",
    ">Try not to fall for this. In particular, your methods do not need to always assign variables to attributes, and should NEVER return `self.something` !"
   ]
  },
  {
   "cell_type": "code",
   "execution_count": null,
   "metadata": {},
   "outputs": [],
   "source": [
    "class DontDoThis:\n",
    "\n",
    "    def __init__(self):\n",
    "        self.attribute = 'value'\n",
    "\n",
    "    def add_two_to_an_input(self, external_parameter):\n",
    "        self.external_parameter = external_parameter    # This is unnecessary - if you're just using the method to perform an operation \n",
    "                                                        # on a variable from outside the class, you don't need to make it a parameter!\n",
    "        \n",
    "        return self.external_parameter+2 # This is just daft! If you want it as an attribute, you don't need to return it!\n",
    "        \n"
   ]
  },
  {
   "attachments": {},
   "cell_type": "markdown",
   "metadata": {},
   "source": [
    "## Practicals"
   ]
  },
  {
   "attachments": {},
   "cell_type": "markdown",
   "metadata": {},
   "source": [
    "## Create a cylinder class"
   ]
  },
  {
   "attachments": {},
   "cell_type": "markdown",
   "metadata": {},
   "source": [
    "### 1. Define a `Cylinder` class.\n",
    "\n",
    "The constructor (`__init__`) should take two arguments:\n",
    "- `height`\n",
    "- `radius`, which has a default value of 1\n",
    "\n",
    "Create two attributes:\n",
    "- `height`\n",
    "- `radius`\n",
    "\n",
    "whose values are set to the arguments passed to the constructor."
   ]
  },
  {
   "cell_type": "code",
   "execution_count": null,
   "metadata": {},
   "outputs": [],
   "source": [
    "# TODO - Create a Cylnider class, with attributes for radius and height.\n",
    "        \n"
   ]
  },
  {
   "attachments": {},
   "cell_type": "markdown",
   "metadata": {},
   "source": [
    "#### 2. Then, create a variable called `my_cylinder` that is an instance of the `Cylinder` class with a height of `10` and a radius of `5`.\n",
    "\n",
    "You can check the attributes of `my_cylinder` by running:\n",
    "\n",
    "```python\n",
    "print(my_cylinder.height)\n",
    "print(my_cylinder.radius)\n",
    "```"
   ]
  },
  {
   "cell_type": "code",
   "execution_count": null,
   "metadata": {},
   "outputs": [],
   "source": [
    "# TODO - Create an instance of the Cylinder class, with a radius of 5 and a height of 10.\n",
    "print(my_cylinder.radius)\n",
    "print(my_cylinder.height)\n"
   ]
  },
  {
   "attachments": {},
   "cell_type": "markdown",
   "metadata": {},
   "source": [
    "\n",
    "#### 3. Add two more attributes to the `Cylinder` class:\n",
    "- `surface_area`, initialised as `None`\n",
    "- `volume`, initialised as `None`"
   ]
  },
  {
   "cell_type": "code",
   "execution_count": null,
   "metadata": {},
   "outputs": [],
   "source": [
    "\n",
    "class Cylinder:\n",
    "\n",
    "    def __init__(self, radius, height):\n",
    "        self.radius = radius\n",
    "        self.height = height\n",
    "        # TODO - Create a volume attribute, which is initialised as None.\n",
    "        # TODO - Create a surface_area attribute, which is initialised as None.\n"
   ]
  },
  {
   "attachments": {},
   "cell_type": "markdown",
   "metadata": {},
   "source": [
    "#### 4. Add two methods to the `Cylinder` class:\n",
    "\n",
    "- `get_surface_area`: This method updates the attribute `surface_area`, and it returns the value rounded to two decimal places.\n",
    "- `get_volume`: This method updates the attribute `volume`, and it returns the value rounded to two decimal places.\n",
    "\n",
    "Use Google to find the formulae for surface area and volume of a cylinder. Use the formulae to create method definitions for these.\n",
    "\n",
    "#### 5. Change the way `surface_area` and `volume` are initialised. \n",
    "\n",
    "In the `__init__` method, instead of initiliasing `surface_area` and `volume` to `None`, initialise them to the value returned by `get_surface_area` and `get_volume` respectively.\n",
    "\n",
    "#### 6. Create and instance of your class\n",
    "\n",
    "Create an instance of the `Cylinder` class, and  print its volume and surface area."
   ]
  },
  {
   "cell_type": "code",
   "execution_count": null,
   "metadata": {},
   "outputs": [],
   "source": [
    "class Cylinder: \n",
    "\n",
    "    def __init__(self, radius, height):\n",
    "        self.radius = radius\n",
    "        self.height = height\n",
    "        # TODO - Create a volume attribute, which is initialised by calling the get_volume method.\n",
    "        # TODO - Create a surface_area attribute, which is initialised by calling the get_surface_area method.\n",
    "\n",
    "       \n",
    "        \n",
    "\n",
    "    def get_volume(self):\n",
    "        # TODO - Calculate the volume of the cylinder, and assign it to the volume attribute.\n",
    "        \n",
    "        pass\n",
    "\n",
    "    def get_surface_area(self):\n",
    "        # TODO - Calculate the surface area of the cylinder, and assign it to the surface_area attribute.\n",
    "        \n",
    "        pass\n",
    "\n",
    "# TODO - Create an instance of the Cylinder class, with a radius of 5 and a height of 10. Print the volume and surface area of the cylinder.\n"
   ]
  },
  {
   "attachments": {},
   "cell_type": "markdown",
   "metadata": {},
   "source": [
    "## Execution Order of Methods\n",
    "\n",
    "When working with OOP, it becomes even more necessary than before to understand the control flow of your program, and the order in which your methods will execute. When thinking about this remember the following main rules:\n",
    "\n",
    "- When you create an instance of a class, the class constructor will run at the point of creation\n",
    "- Any methods called inside the class constructor will run in the order in which they are called\n",
    "\n",
    "\n"
   ]
  },
  {
   "cell_type": "code",
   "execution_count": null,
   "metadata": {},
   "outputs": [],
   "source": [
    "class ByzantineArchitecture:\n",
    "\n",
    "    def __init__(self):\n",
    "        self.attribute = 'value'\n",
    "        self.attribute_2 = self.method_2()\n",
    "        self.attribute_3 = self.method_1()\n",
    "\n",
    "    def method_1(self):\n",
    "        \n",
    "        return 1\n",
    "\n",
    "    def method_2(self):\n",
    "        value_to_return = 2 + self.method_3()\n",
    "        return value_to_return\n",
    "\n",
    "    def method_3(self):\n",
    "        return 3\n",
    "    \n",
    "    def method_4(self):\n",
    "        self.attribute_4 = self.method_1()\n",
    "\n",
    "    \n"
   ]
  },
  {
   "attachments": {},
   "cell_type": "markdown",
   "metadata": {},
   "source": [
    "## Execution Order Quiz\n",
    "\n",
    "When an instance of the class `ByzantineArchitecture` is called, in which order are the methods called, ignoring the class constructor itself ?\n",
    "\n",
    "1. Which method is called first?\n",
    "2. Which method is called second?\n",
    "3. Which method is called third?\n",
    "4. Which method is called fourth?"
   ]
  },
  {
   "cell_type": "code",
   "execution_count": null,
   "metadata": {},
   "outputs": [],
   "source": [
    "#@title Click `Show code` in the code cell. { display-mode: \"form\" }\n",
    "question_1 = \"Method 1\" #@param [\"Method 1\", \"Method 2\", \"Method 3\", \"Method 4\"]\n",
    "print('You selected', question_1)\n",
    "\n",
    "question_2 =  \"Method 1\" #@param [\"Method 1\", \"Method 2\", \"Method 3\", \"Method 4\"]\n",
    "print('You selected', question_2)\n",
    "\n",
    "question_3 = \"Method 1\" #@param [\"Method 1\", \"Method 2\", \"Method 4\", \"Only two methods are called\"]\n",
    "print('You selected', question_3)\n",
    "\n",
    "question_4 = \"Method 1\" #@param [\"Method 1\", \"Method 4\", \"Method 3\", \"Only three methods are called\"]\n",
    "print('You selected', question_4)\n",
    "\n"
   ]
  },
  {
   "attachments": {},
   "cell_type": "markdown",
   "metadata": {},
   "source": [
    "## Practical - Create a Book Class for a Library\n",
    "\n",
    "- Create a class called `Book`, and inside the class constructor pass parameters for `author`, `title` and `pages` to attributes of the same name\n",
    "\n",
    "- Create a method called `display` that __returns__ an f-string in the format \"`title` by `author`, `pages` pages\"\n",
    "\n",
    "- Create a lend method, which takes a `customer` object as a parameter, and sets the book's lent attribute to `True`, and the `on_loan_to` attribute to the customer's name. Update the `customer` object's `books_on_loan` parameter.\n",
    "\n",
    "- There's some bad Python going on in the pre-defined `Customer` class! What is it? Select your answer from the drop-down menu\n"
   ]
  },
  {
   "cell_type": "code",
   "execution_count": null,
   "metadata": {},
   "outputs": [],
   "source": [
    "\n",
    "class Book:\n",
    "# TODO - Create the class constructor, with attributes for title, author and pages.\n",
    "\n",
    "    #!\n",
    "    def display(self):\n",
    "        return (f\"{self.title} by {self.author}, {self.pages} pages\")\n",
    "    # TODO - Create a display method, which returns an f-string containing the book's title, author and number of pages.\n",
    "    \n",
    "    #!\n",
    "    def lend(self,customer):\n",
    "        self.lent = True\n",
    "        self.on_loan_to = customer.name\n",
    "        customer.books_on_loan.append(self.title)\n",
    "\n",
    "    # TODO - Create a lend method, which takes a Customer object as a parameter, and sets the book's lent attribute to True, and the on_loan_to attribute to the customer's name.\n",
    "\n",
    "class Customer:\n",
    "\n",
    "    def __init__(self, name):\n",
    "        self.name = name\n",
    "        self.books_on_loan = []\n",
    "\n",
    "    def get_books_on_loan(self):\n",
    "        return self.books_on_loan\n",
    "    \n",
    "    def borrow_book(self, book):\n",
    "        book.lend(self)\n",
    "    \n",
    "\n",
    "my_book = Book('Fear and Loathing in Las Vegas', 'Hunter S. Thompson', 200)\n",
    "customer_tim = Customer('Tim')\n",
    "my_book.lend(customer_tim)\n",
    "customer_tim.get_books_on_loan()\n"
   ]
  },
  {
   "attachments": {},
   "cell_type": "markdown",
   "metadata": {},
   "source": [
    "What is wrong with our `Customer` class?"
   ]
  },
  {
   "cell_type": "code",
   "execution_count": null,
   "metadata": {},
   "outputs": [],
   "source": [
    "#@title Click `Show code` in the code cell. { display-mode: \"form\" }\n",
    "question_1 = \"It needs another method\" #@param [\"the 'borrow book' method is redundant', \"the 'get_books_on_loan' method is redundant\", \"It needs another method\" ]\n",
    "print('You selected', question_1)\n"
   ]
  },
  {
   "attachments": {},
   "cell_type": "markdown",
   "metadata": {},
   "source": [
    "# Docstrings\n",
    "\n",
    "Python docstrings are a way of documenting Python code. They represent another way to add comments, but they are more concrete and targeted to functions, methods, classes, modules or packages.\n",
    "\n",
    "Docstrings can be checked using the `__doc__` attribute or using the `help()` built-in function. They are specified by using either three single quotes `'''` or three double-quotes `\"\"\"`.\n",
    "\n",
    "## Docstring Classification\n",
    "\n",
    "Docstrings can be classified into two groups: one-line docstrings, or multiline docstrings (which are more descriptive).\n",
    "\n"
   ]
  },
  {
   "cell_type": "code",
   "execution_count": null,
   "metadata": {},
   "outputs": [],
   "source": [
    "def example_function():\n",
    "    ''' This is an example one-line docstring.'''\n",
    "    \n",
    "    print('this function is pretty useless')\n"
   ]
  },
  {
   "attachments": {},
   "cell_type": "markdown",
   "metadata": {},
   "source": [
    "### Multiline Docstrings\n",
    "\n",
    "The structure of a multiline docstring is as follows:\n",
    "- A one-line summary\n",
    "- An empty line\n",
    "- An elaborate description"
   ]
  },
  {
   "cell_type": "code",
   "execution_count": null,
   "metadata": {},
   "outputs": [],
   "source": [
    "def say_hi(name):\n",
    "    \"\"\"\n",
    "    This function says hi to the user\n",
    "\n",
    "    The purpose of this function is to demonstrate how to document\n",
    "    a function following the convention established in PEP257.\n",
    "    It actually does not do much, and I am writing this to fill\n",
    "    the docstring... Lorem ipsum dolor sit amet.\n",
    "    \"\"\"\n",
    "    print(\"Hello {}\".format(name))\n",
    "\n",
    "help(say_hi)\n"
   ]
  },
  {
   "attachments": {},
   "cell_type": "markdown",
   "metadata": {},
   "source": [
    "### Docstring Conventions"
   ]
  },
  {
   "attachments": {},
   "cell_type": "markdown",
   "metadata": {},
   "source": [
    "There are multiple conventions for docstring formatting, with two of the most well-known being [Numpy](https://numpydoc.readthedocs.io/en/latest/format.html#docstring-standard) and [Google](https://google.github.io/styleguide/pyguide.html#38-comments-and-docstrings) format. You can read more about the differences between the two in the links, but the main substantive difference is that Google uses indentation to separate sections, whereas NumPy uses underlines."
   ]
  },
  {
   "attachments": {},
   "cell_type": "markdown",
   "metadata": {},
   "source": [
    "### Docstring for Classes"
   ]
  },
  {
   "attachments": {},
   "cell_type": "markdown",
   "metadata": {},
   "source": [
    "Thus far, we have only explored docstrings for functions. However, as mentioned, we can also utilise docstrings for classes.\n",
    "\n",
    "For classes, they follow the same principle as those for functions, with a few exceptions: \n",
    "- The docstring should be the first thing in the class definition\n",
    "- Each method should have a docstring, provided that the method is not private\n",
    "- There is no clear consensus on whether the `__init__` method should have a docstring. However, many frameworks refer to the class docstring when defining the `__init__` method docstring\n",
    "\n",
    "You can see an example in the code block below:"
   ]
  },
  {
   "cell_type": "code",
   "execution_count": 13,
   "metadata": {},
   "outputs": [],
   "source": [
    "class Date:\n",
    "    '''\n",
    "    This class is used to represent a date.\n",
    "\n",
    "    Attributes:\n",
    "        year (int): the year of the date.\n",
    "        month (int): the month of the date.\n",
    "        day (int): the day of the date.\n",
    "    '''\n",
    "    def __init__(self, year: int, month: int, day: int):\n",
    "        '''\n",
    "        See help(Date) for accurate signature\n",
    "        '''\n",
    "        self.year = year\n",
    "        self.month = month\n",
    "        self.day = day\n",
    "\n",
    "    def __str__(self):\n",
    "        '''\n",
    "        This function is used to return the string representation of the date.\n",
    "\n",
    "        Returns:\n",
    "            str: the string representation of the date.\n",
    "        '''\n",
    "        return \"{0}-{1}-{2}\".format(self.year, self.month, self.day)\n",
    "\n",
    "    def __repr__(self):\n",
    "        '''\n",
    "        This function is used to return the string representation of the date.\n",
    "\n",
    "        Returns:\n",
    "            str: the string representation of the date.\n",
    "        '''\n",
    "        return \"{0}-{1}-{2}\".format(self.year, self.month, self.day)\n",
    "\n",
    "    def __eq__(self, other):\n",
    "        '''\n",
    "        This function is used to compare the date with other dates.\n",
    "\n",
    "        Args:\n",
    "            other (Date): the other date to be compared with.\n",
    "\n",
    "        Returns:\n",
    "            bool: true if the date is equal to the other date; false otherwise.\n",
    "        '''\n",
    "        return self.year == other.year and self.month == other.month and \\\n",
    "            self.day == other.day\n",
    "\n",
    "    def __lt__(self, other):\n",
    "        '''\n",
    "        This function is used to compare the date with other dates.\n",
    "\n",
    "        Args:\n",
    "            other (Date): the other date to be compared with.\n",
    "\n",
    "        Returns:\n",
    "            bool: true if the date is less than the other date; False otherwise.\n",
    "        '''\n",
    "        if self.year < other.year:\n",
    "            return True\n",
    "        elif self.year == other.year:\n",
    "            if self.month < other.month:\n",
    "                return True\n",
    "            elif self.month == other.month:\n",
    "                if self.day < other.day:\n",
    "                    return True\n",
    "        return False\n",
    "        \n",
    "    \n",
    "    @staticmethod\n",
    "    def is_date_valid(year, month, day):\n",
    "        '''\n",
    "        This function is used to check if the date is valid.\n",
    "\n",
    "        Args:\n",
    "            year (int): the year of the date.\n",
    "            month (int): the month of the date.\n",
    "            day (int): the day of the date.\n",
    "\n",
    "        Returns:\n",
    "            bool: true if the date is valid; False otherwise.\n",
    "        '''\n",
    "        return year >= 0 and month >= 1 and month <= 12 and \\\n",
    "            day >= 1 and day <= 31\n",
    "\n",
    "    @classmethod\n",
    "    def from_string(cls, date_as_string):\n",
    "        '''\n",
    "        This function is used to create a date from a string.\n",
    "\n",
    "        Args:\n",
    "            date_as_string (str): the string representation of the date.\n",
    "\n",
    "        Returns:\n",
    "            Date: the date created from the string.\n",
    "        '''\n",
    "        year, month, day = map(int, date_as_string.split('-'))\n",
    "        return cls(year, month, day)\n"
   ]
  },
  {
   "attachments": {},
   "cell_type": "markdown",
   "metadata": {},
   "source": [
    "### Practical - Add Docstrings to the `Car` Class"
   ]
  },
  {
   "attachments": {},
   "cell_type": "markdown",
   "metadata": {},
   "source": [
    "In the codeblock below, add docstrings to the `Car` class we created earlier, and to each of its methods. Use Google format. It is up to you whether you include a docstring for the class constructor."
   ]
  },
  {
   "cell_type": "code",
   "execution_count": null,
   "metadata": {},
   "outputs": [],
   "source": [
    "class Car:\n",
    "\n",
    "    def __init__(self, make, year, mileage, colour): \n",
    "       \n",
    "        self.mileage = mileage \n",
    "        self.make = make\n",
    "        self.year = year\n",
    "        self.colour = colour\n",
    "        self.speed = 0\n",
    "\n",
    "    def accelerate(self, speed_increase):\n",
    "        \n",
    "        self.speed += speed_increase\n",
    "    \n",
    "    def brake(self, speed_decrease):\n",
    "        \n",
    "        self.speed -= speed_decrease\n",
    "    \n",
    "    def drive(self):\n",
    "        \n",
    "        print('The car is driving at ' + str(self.speed) + 'mph\\n' + 'vrrrooom!') \n"
   ]
  }
 ],
 "metadata": {
  "kernelspec": {
   "display_name": "Multinational",
   "language": "python",
   "name": "python3"
  },
  "language_info": {
   "codemirror_mode": {
    "name": "ipython",
    "version": 3
   },
   "file_extension": ".py",
   "mimetype": "text/x-python",
   "name": "python",
   "nbconvert_exporter": "python",
   "pygments_lexer": "ipython3",
   "version": "3.11.0"
  }
 },
 "nbformat": 4,
 "nbformat_minor": 2
}
