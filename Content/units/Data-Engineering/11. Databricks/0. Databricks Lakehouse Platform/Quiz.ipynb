{
 "cells": [
  {
   "attachments": {},
   "cell_type": "markdown",
   "metadata": {},
   "source": [
    "# Databricks Lakehouse Platform"
   ]
  },
  {
   "attachments": {},
   "cell_type": "markdown",
   "metadata": {},
   "source": [
    "## What is Databricks?\n",
    "\n",
    "- A data warehouse solution\n",
    "- A big data processing and analytics platform ***\n",
    "- A programming language for data analysis\n",
    "- A data visualization tool"
   ]
  },
  {
   "attachments": {},
   "cell_type": "markdown",
   "metadata": {},
   "source": [
    "## What is the role of the `%run` magic command in Databricks Notebooks?\n",
    "\n",
    "- Execute SQL queries\n",
    "- Execute code from a different notebook ***\n",
    "- Create new notebooks\n",
    "- Run data workflows"
   ]
  },
  {
   "attachments": {},
   "cell_type": "markdown",
   "metadata": {},
   "source": [
    "## What is a Databricks account?\n",
    "\n",
    "- A user account that allows access to the Databricks platform ***\n",
    "- A data storage service provided by Databricks\n",
    "- A data visualization tool for Databricks users\n",
    "- A type of Databricks workspace used for collaborative data analysis"
   ]
  },
  {
   "attachments": {},
   "cell_type": "markdown",
   "metadata": {},
   "source": [
    "## What is a Databricks workspace?\n",
    "\n",
    "- An environment for developing and running Apache Spark applications ***\n",
    "- A data storage service provided by Databricks\n",
    "- A data visualization tool for Databricks users\n",
    "- A user account that allows access to the Databricks platform\n"
   ]
  },
  {
   "attachments": {},
   "cell_type": "markdown",
   "metadata": {},
   "source": [
    "## What is a Databricks notebook?\n",
    "\n",
    "- An interactive document that combines code, text, and visualizations ***\n",
    "- A data storage service provided by Databricks\n",
    "- A Databricks cluster node\n",
    "- A type of Databricks cluster used for distributed data processing\n",
    "\n"
   ]
  },
  {
   "attachments": {},
   "cell_type": "markdown",
   "metadata": {},
   "source": [
    "## What is the difference between an All-purpose cluster and a Job cluster in Databricks?\n",
    "\n",
    "- All-purpose clusters are used for interactive workloads, while Job clusters are used for batch processing\n",
    "- All-purpose clusters have a fixed set of nodes, while Job clusters are dynamically provisioned\n",
    "- All-purpose clusters are optimized for CPU-intensive workloads, while Job clusters are optimized for memory-intensive workloads\n",
    "- All-purpose clusters support concurrent users and multiple workloads, while Job clusters are designed for single-use jobs ***\n"
   ]
  },
  {
   "attachments": {},
   "cell_type": "markdown",
   "metadata": {},
   "source": [
    "## What is the purpose of the `%fs head` command in Databricks Notebooks?\n",
    "\n",
    "- List files and directories\n",
    "- View the contents of a file without reading the entire file ***\n",
    "- Create a new notebook\n",
    "- Switch programming languages"
   ]
  },
  {
   "attachments": {},
   "cell_type": "markdown",
   "metadata": {},
   "source": [
    "## What is the difference between the Databricks control plane and data plane?\n",
    "\n",
    "- The control plane is responsible for managing user access to Databricks resources, while the data plane is responsible for storing and processing data\n",
    "- The control plane is responsible for scaling and managing Databricks clusters, while the data plane is responsible for running user workloads\n",
    "- The control plane is responsible for managing Databricks infrastructure and resources, while the data plane is responsible for data processing and storage ***\n",
    "- The control plane is responsible for providing a user interface for interacting with Databricks resources, while the data plane is responsible for running automated tasks"
   ]
  },
  {
   "cell_type": "markdown",
   "metadata": {},
   "source": [
    "## True or False: Databricks Repos utilize Git for version control, allowing users to manage changes, create branches, and collaborate efficiently.\n",
    "\n",
    "- True ***\n",
    "- False"
   ]
  },
  {
   "cell_type": "markdown",
   "metadata": {},
   "source": [
    "## True or False: The `%run` magic command in Databricks Notebooks can only execute code from a notebook within the same workspace.\n",
    "\n",
    "- True ***\n",
    "- False "
   ]
  },
  {
   "cell_type": "markdown",
   "metadata": {},
   "source": [
    "## True or False: Databricks Repos support direct merging of branches within the Databricks UI.\n",
    "\n",
    "- True\n",
    "- False ***"
   ]
  }
 ],
 "metadata": {
  "language_info": {
   "name": "python"
  },
  "orig_nbformat": 4
 },
 "nbformat": 4,
 "nbformat_minor": 2
}
