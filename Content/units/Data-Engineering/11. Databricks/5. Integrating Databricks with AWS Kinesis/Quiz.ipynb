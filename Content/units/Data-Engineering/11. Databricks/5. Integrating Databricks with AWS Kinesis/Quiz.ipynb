{
 "cells": [
  {
   "attachments": {},
   "cell_type": "markdown",
   "metadata": {},
   "source": [
    "# Integrating Databricks with AWS Kinesis"
   ]
  },
  {
   "attachments": {},
   "cell_type": "markdown",
   "metadata": {},
   "source": [
    "## Which of the following code snippets shows the correct way to read streaming data from Amazon Kinesis in PySpark?\n",
    "\n",
    "- This code\n",
    "\n",
    "``` python\n",
    "from pyspark.streaming.kinesis import KinesisUtils\n",
    "kinesisStream = KinesisUtils.createStream(ssc, \"myApp\", \"myStream\", \"us-east-1\", \"latest\")\n",
    "```\n",
    "\n",
    "- This code\n",
    "``` python\n",
    "from pyspark.streaming import StreamingContext\n",
    "from pyspark.streaming.kinesis import KinesisUtils\n",
    "ssc = StreamingContext(sparkContext, batchDuration)\n",
    "kinesisStream = KinesisUtils.createStream(ssc, \"myApp\", \"myStream\", \"us-east-1\", \"latest\")\n",
    "```\n",
    "\n",
    "- This code ***\n",
    "```python\n",
    "kinesisDF = spark \\\n",
    "    .readStream \\\n",
    "    .format(\"kinesis\") \\\n",
    "    .option(\"streamName\", \"myStream\") \\\n",
    "    .option(\"region\", \"us-east-1\") \\`\n",
    "    .option(\"startingPosition\", \"latest\") \\\n",
    "    .load() \n",
    "```\n"
   ]
  },
  {
   "attachments": {},
   "cell_type": "markdown",
   "metadata": {},
   "source": [
    "## What is the default schema of a Spark dataframe that reads data from a Kinesis stream?\n",
    "\n",
    "- A single column named `value` of type `string`\n",
    "- Two columns named `partitionKey` and `data` of types `string` and `binary`, respectively\n",
    "- Three columns named `clusterName`, `sequenceNumber`, and `data` of types `string`, `string`, and `binary`, respectively\n",
    "- The schema is dynamically inferred based on the content of the data records but will always contain a `data` column ***"
   ]
  }
 ],
 "metadata": {
  "language_info": {
   "name": "python"
  },
  "orig_nbformat": 4
 },
 "nbformat": 4,
 "nbformat_minor": 2
}
