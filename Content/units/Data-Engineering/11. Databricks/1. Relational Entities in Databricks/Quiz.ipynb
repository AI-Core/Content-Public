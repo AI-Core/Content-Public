{
 "cells": [
  {
   "cell_type": "markdown",
   "metadata": {},
   "source": [
    "# Relational Entities in Databricks"
   ]
  },
  {
   "cell_type": "markdown",
   "metadata": {},
   "source": [
    "## In Databricks, what is the correct order of hierarchy for catalogs, schemas, tables, and views?\n",
    "\n",
    "- Catalog > Schema > View > Table \n",
    "- Catalog > Schema > Table > View ***\n",
    "- Schema > Catalog > Table > View \n",
    "- Schema > Catalog > View > Table "
   ]
  },
  {
   "cell_type": "markdown",
   "metadata": {},
   "source": [
    "## What is the purpose of the Metastore in Databricks?\n",
    "\n",
    "- Storing data files\n",
    "- Managing data queries\n",
    "- Central repository for storing metadata ***\n",
    "- Organizing database directories"
   ]
  },
  {
   "cell_type": "markdown",
   "metadata": {},
   "source": [
    "## Which statement is true about External Tables in Databricks?\n",
    "\n",
    "- They store both data and metadata\n",
    "- They always reference data stored in the default directory structure\n",
    "- They can reference data stored externally, outside the default directory structure ***\n",
    "- They are created using the `CREATE SCHEMA` statement"
   ]
  },
  {
   "cell_type": "markdown",
   "metadata": {},
   "source": [
    "## What is the primary purpose of a Database (Schema) in Databricks?\n",
    "\n",
    "- Storing data files\n",
    "- Providing a logical container for tables and views ***\n",
    "- Managing data queries\n",
    "- Creating virtual representations of data"
   ]
  },
  {
   "cell_type": "markdown",
   "metadata": {},
   "source": [
    "## Which command is used to create a stored view in Databricks?\n",
    "\n",
    "- `CREATE OR REPLACE TEMPORARY VIEW`\n",
    "- `CREATE OR REPLACE GLOBAL TEMPORARY VIEW`\n",
    "- `CREATE VIEW` ***\n",
    "- `CREATE STORED VIEW`"
   ]
  },
  {
   "cell_type": "markdown",
   "metadata": {},
   "source": [
    "## What is a key difference between Managed Tables and External Tables in Databricks?\n",
    "\n",
    "- Managed tables reference data stored externally\n",
    "- External tables store data and metadata in the default Hive Metastore location\n",
    "- External tables store data in the default directory structure\n",
    "- Managed tables store both data and metadata in the default Hive Metastore location ***"
   ]
  },
  {
   "cell_type": "markdown",
   "metadata": {},
   "source": [
    "## True or False: Views in Databricks physically store the data they represent.\n",
    "\n",
    "- True\n",
    "- False ***"
   ]
  },
  {
   "cell_type": "markdown",
   "metadata": {},
   "source": [
    "## True or False: Databases in Databricks are created using either the `CREATE DATABASE` or `CREATE SCHEMA` statement interchangeably.\n",
    "\n",
    "- True ***\n",
    "- False"
   ]
  },
  {
   "cell_type": "markdown",
   "metadata": {},
   "source": [
    "## True or False: The `DROP DATABASE` command in Databricks deletes only the database metadata and not the associated tables.\n",
    "\n",
    "- True\n",
    "- False ***"
   ]
  },
  {
   "cell_type": "markdown",
   "metadata": {},
   "source": [
    "## Which command is used to set a specific database as the current context in Databricks?\n",
    "\n",
    "- `SET DATABASE`\n",
    "- `USE DATABASE` ***\n",
    "- `CURRENT DATABASE`\n",
    "- `SELECT DATABASE`"
   ]
  },
  {
   "cell_type": "markdown",
   "metadata": {},
   "source": [
    "## What happens when you drop a managed table in Databricks?\n",
    "\n",
    "- Only the table metadata is deleted\n",
    "- The table metadata and the associated data files are deleted ***\n",
    "- The table is moved to an archive location\n",
    "- The table is marked as read-only"
   ]
  }
 ],
 "metadata": {
  "language_info": {
   "name": "python"
  }
 },
 "nbformat": 4,
 "nbformat_minor": 2
}
