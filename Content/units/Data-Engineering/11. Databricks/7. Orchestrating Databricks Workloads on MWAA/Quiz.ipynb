{
 "cells": [
  {
   "attachments": {},
   "cell_type": "markdown",
   "metadata": {},
   "source": [
    "# Orchestrating Databricks Workloads on MWAA"
   ]
  },
  {
   "attachments": {},
   "cell_type": "markdown",
   "metadata": {},
   "source": [
    "## What is the recommended way to orchestrate Databricks workloads on an Amazon Web Services Managed Workflows for Apache Airflow (MWAA) environment?\n",
    "\n",
    "- Use the Databricks CLI to run the Databricks notebooks\n",
    "- Use the Databricks REST API to run the Databricks notebooks\n",
    "- Use the MWAA DAGs to trigger the Databricks notebooks ***\n",
    "- Use the MWAA CLI to run the Databricks notebooks"
   ]
  },
  {
   "attachments": {},
   "cell_type": "markdown",
   "metadata": {},
   "source": [
    "## What is the process for creating an API token in Databricks?\n",
    "\n",
    "- Click on the user profile icon in the Databricks workspace, select **User Settings**, navigate to the **Access Tokens** tab, and click **Generate New Token** ***\n",
    "- Click on the **Clusters** tab in the Databricks workspace, select the cluster on which the token will be used, navigate to the **Security** tab, and click **Generate New Token**\n",
    "- Use the Databricks CLI to generate a new API token\n",
    "- Open a support ticket with Databricks to request a new API token\n",
    "\n"
   ]
  }
 ],
 "metadata": {
  "language_info": {
   "name": "python"
  },
  "orig_nbformat": 4
 },
 "nbformat": 4,
 "nbformat_minor": 2
}
