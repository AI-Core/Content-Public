{
 "cells": [
  {
   "cell_type": "markdown",
   "metadata": {},
   "source": [
    "# Databricks Delta Lake"
   ]
  },
  {
   "cell_type": "markdown",
   "metadata": {},
   "source": [
    "## What is a Delta Table in Databricks?\n",
    "\n",
    "- A data storage format for structured data that supports ACID transactions and time-travel queries ***\n",
    "- A type of Databricks cluster used for running Apache Spark streaming applications\n",
    "- A visualization tool for exploring and analyzing data stored in Databricks\n",
    "- A type of Databricks notebook that supports advanced data science and machine learning workflows"
   ]
  },
  {
   "cell_type": "markdown",
   "metadata": {},
   "source": [
    "## What is the purpose of the transaction log in Delta Lake? Select all that apply.\n",
    "\n",
    "- Storing raw data\n",
    "- Recording changes made to the data lake ***\n",
    "- Enforcing data schemas\n",
    "- Managing data versions ***"
   ]
  },
  {
   "cell_type": "markdown",
   "metadata": {},
   "source": [
    "## Which of the following is not one of the ACID properties?\n",
    "\n",
    "- Atomicity\n",
    "- Consistency\n",
    "- Integrity ***\n",
    "- Durability"
   ]
  },
  {
   "cell_type": "markdown",
   "metadata": {},
   "source": [
    "## Which file format does Delta Lake use for storing data?\n",
    "\n",
    "- `CSV`\n",
    "- `Parquet` ***\n",
    "- `JSON`\n",
    "- `Avro`"
   ]
  },
  {
   "cell_type": "markdown",
   "metadata": {},
   "source": [
    "## What does the `AS OF` clause in Delta Lake allow you to do?\n",
    "\n",
    "- Create a new Delta Lake table\n",
    "- Query data at different timestamps or versions ***\n",
    "- Delete records from a Delta Lake table\n",
    "- Modify the schema of a Delta Lake table"
   ]
  },
  {
   "cell_type": "markdown",
   "metadata": {},
   "source": [
    "## True or False: The `DESCRIBE HISTORY` command in Delta Lake provides details about the operations and changes made to a table.\n",
    "\n",
    "- True ***\n",
    "- False"
   ]
  },
  {
   "cell_type": "markdown",
   "metadata": {},
   "source": [
    "## True or False: The `_delta_log` directory in Delta Lake contains files that store the actual data of the table.\n",
    "\n",
    "- True\n",
    "- False ***"
   ]
  }
 ],
 "metadata": {
  "language_info": {
   "name": "python"
  }
 },
 "nbformat": 4,
 "nbformat_minor": 2
}
