{
 "cells": [
  {
   "attachments": {},
   "cell_type": "markdown",
   "metadata": {},
   "source": [
    "# Integrating Kafka & Spark"
   ]
  },
  {
   "attachments": {},
   "cell_type": "markdown",
   "metadata": {},
   "source": [
    "## What is the correct syntax to read data from Kafka using PySpark's Kafka integration?\n",
    "\n",
    "- A) `kafkaStream = KafkaUtils.createStream(ssc, \"localhost:2181\", \"groupName\", {\"topicName\": 1})`\n",
    "\n",
    "- B) `kafkaStream = KafkaUtils.createDirectStream(ssc, \"localhost:2181\", {\"topicName\": 1})`\n",
    "\n",
    "- C) `kafkaStream = spark.readStream \\`\n",
    "    `.format(\"kafka\") \\`\n",
    "    `.option(\"kafka.bootstrap.servers\", \"localhost:9092\") \\`\n",
    "    `.option(\"subscribe\", \"topicName\") \\`\n",
    "    `.load()` ***\n",
    "\n",
    "- D) `kafkaStream = spark.read \\`\n",
    "    `.format(\"kafka\") \\`\n",
    "    `.option(\"kafka.bootstrap.servers\", \"localhost:2181\") \\`\n",
    "    `.option(\"subscribe\", \"topicName\") \\`\n",
    "    `.load()`\n",
    "\n"
   ]
  }
 ],
 "metadata": {
  "language_info": {
   "name": "python"
  },
  "orig_nbformat": 4
 },
 "nbformat": 4,
 "nbformat_minor": 2
}
