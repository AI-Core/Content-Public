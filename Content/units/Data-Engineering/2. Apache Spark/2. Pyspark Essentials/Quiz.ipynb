{
 "cells": [
  {
   "attachments": {},
   "cell_type": "markdown",
   "metadata": {},
   "source": [
    "# PySpark Essentials"
   ]
  },
  {
   "attachments": {},
   "cell_type": "markdown",
   "metadata": {},
   "source": [
    "## What is the correct syntax to read a CSV file in PySpark?\n",
    "\n",
    "- `df = spark.read.excel(\"path/to/file.csv\")`\n",
    "- `df = spark.read.csv(\"path/to/file.csv\")` ***\n",
    "- `df = sqlContext.read.csv(\"path/to/file.csv\")`\n",
    "- `df = spark.read.text(\"path/to/file.csv\")`\n"
   ]
  },
  {
   "attachments": {},
   "cell_type": "markdown",
   "metadata": {},
   "source": [
    "## What is the correct syntax to display the contents of a PySpark dataframe in the console?\n",
    "\n",
    "- `df.print()`\n",
    "- `df.show()` ***\n",
    "- `df.display()`\n",
    "- `df.printSchema()`"
   ]
  },
  {
   "attachments": {},
   "cell_type": "markdown",
   "metadata": {},
   "source": [
    "## What is the correct syntax to aggregate by column in PySpark?\n",
    "\n",
    "- `df.agg(sum(\"column_name\"))`\n",
    "- `df.groupby(\"column_name\").sum()`\n",
    "- `df.groupby(\"column_name\").agg(sum(\"column_name\"))`\n",
    "- `df.groupBy(\"column_name\").agg({\"column_name\": \"sum\"})` ***"
   ]
  },
  {
   "attachments": {},
   "cell_type": "markdown",
   "metadata": {},
   "source": [
    "## What is the correct syntax to group a PySpark dataframe by a specific column?\n",
    "\n",
    "- `df.groupBy(\"column_name\")` ***\n",
    "- `df.group(\"column_name\")`\n",
    "- `df.aggregateBy(\"column_name\")`\n",
    "- `df.groupby(\"column_name\")`\n"
   ]
  },
  {
   "attachments": {},
   "cell_type": "markdown",
   "metadata": {},
   "source": [
    "## What is the correct syntax to count the number of entries in a PySpark dataframe column?\n",
    "\n",
    "- `df.sum(column_name)`\n",
    "- `df.count(column_name)` ***\n",
    "- `df.select(count(\"column_name\")).show()`\n",
    "- `df.column_name().count()`\n"
   ]
  }
 ],
 "metadata": {
  "kernelspec": {
   "display_name": "base",
   "language": "python",
   "name": "python3"
  },
  "language_info": {
   "name": "python",
   "version": "3.10.9"
  },
  "orig_nbformat": 4,
  "vscode": {
   "interpreter": {
    "hash": "a2592652612463181e69ac003232387e3e9a99279aa6b168e76f5df16d5110f4"
   }
  }
 },
 "nbformat": 4,
 "nbformat_minor": 2
}
