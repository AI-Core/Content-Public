{
 "cells": [
  {
   "attachments": {},
   "cell_type": "markdown",
   "metadata": {},
   "source": [
    "# Data Pipelines"
   ]
  },
  {
   "attachments": {},
   "cell_type": "markdown",
   "metadata": {},
   "source": [
    "## Which of the following statements about the components of an enterprise data pipeline are true? Select all that apply.\n",
    "\n",
    "- We always require a data source to produce the data ***\n",
    "- There are usually 8 system components types in total\n",
    "- Data transformation and data cleaning are important parts of the pipeline ***\n",
    "- Data storage (also called landing zones) can be removed to increase the efficiency of the pipeline \n",
    "- Due to current technology limitations, it's not yet possible to perform basic data processing tasks while the data is in motion"
   ]
  },
  {
   "attachments": {},
   "cell_type": "markdown",
   "metadata": {},
   "source": [
    "## Which of the following are true about implementing data pipelines? Select all that apply.\n",
    "\n",
    "- Batch data ingestion is the most modern form currently used\n",
    "- Streaming and micro-batch are similar but not identical ***\n",
    "- The classification of the data ingestion approaches is based only on the volume of data being handled\n",
    "- It's possible to have a tool that can handle both batch and streaming data ***\n",
    "- Data wrangling involves helping data scientists to create more features for their model"
   ]
  },
  {
   "attachments": {},
   "cell_type": "markdown",
   "metadata": {},
   "source": [
    "## Which of the following statements regarding the industry best practices for designing and deploying data pipelines are true? \n",
    "\n",
    "- It's recommended to keep the data stored in one large file rather than in smaller separate files to avoid storage complexity\n",
    "- To enhance network bandwidth, it's suggested to keep all tools on one main cluster\n",
    "- Using data pipeline automation tools like Apache Airflow helps improve the efficiency of the pipeline ***\n",
    "- Network bandwidth is not a major concern for data engineers since it'll be handled by the DevOps team\n",
    "- Leveraging parallelism results in increasing the job times\n",
    "- It's recommended to process large volumes of data while it's in-place, rather than while it's in-motion"
   ]
  },
  {
   "attachments": {},
   "cell_type": "markdown",
   "metadata": {},
   "source": [
    "## Whats true about data pipelines? Select all that apply.\n",
    "\n",
    "- It is a core responsibility of a data engineer to construct them ***\n",
    "- It is a set of tools and processes that involve moving raw data from point A to point B ***\n",
    "- They do not include performing transformation on the data \n",
    "- They are strictly only used to gather data from one data source\n",
    "- They can't connect a data lake to a business intelligence platform to perform data analysis\n",
    "- They are usually manually triggered"
   ]
  },
  {
   "attachments": {},
   "cell_type": "markdown",
   "metadata": {},
   "source": [
    "## What are some of the benefits of automating a data pipeline? Select all that apply.\n",
    "\n",
    "- Helps to ensure consistency since the same code is used to ingest, transform and store the data ***\n",
    "- Enhances productivity as data engineers can perform other tasks due to automation ***\n",
    "- Totally eliminates the chance that a data pipeline can fail at any point\n",
    "- Though it stops the reuse of code it allows the pipeline to run without manual intervention\n",
    "- Once automation is in place the data pipeline will never have to be maintained"
   ]
  },
  {
   "attachments": {},
   "cell_type": "markdown",
   "metadata": {},
   "source": [
    "## What are some of the challenges when creating data pipelines? Select all that apply.\n",
    "\n",
    "- It can be a complex process due to the increased speed and size of data generation ***\n",
    "- Data security is a key concern which moving data from one point to another ***\n",
    "- Unreliability is a major concern as data can be corrupted, lost or networks can be overloaded ***\n",
    "- Modern data tools evolve at a slow pace so we need to wait a long time for technology advancements\n",
    "- The data moves at a slow pace and often doesn't change. Increasing the velocity of the data needs to be manually performed\n",
    "- There is a limited amount of cloud storage so a decision has to be made on which data to store in the cloud and which to store on site"
   ]
  }
 ],
 "metadata": {
  "kernelspec": {
   "display_name": "base",
   "language": "python",
   "name": "python3"
  },
  "language_info": {
   "name": "python",
   "version": "3.10.9"
  },
  "orig_nbformat": 4,
  "vscode": {
   "interpreter": {
    "hash": "a2592652612463181e69ac003232387e3e9a99279aa6b168e76f5df16d5110f4"
   }
  }
 },
 "nbformat": 4,
 "nbformat_minor": 2
}
