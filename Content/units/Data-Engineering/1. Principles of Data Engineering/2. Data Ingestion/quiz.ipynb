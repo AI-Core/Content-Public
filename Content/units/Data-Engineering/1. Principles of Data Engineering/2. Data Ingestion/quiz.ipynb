{
 "cells": [
  {
   "attachments": {},
   "cell_type": "markdown",
   "metadata": {},
   "source": [
    "# Data Ingestion"
   ]
  },
  {
   "attachments": {},
   "cell_type": "markdown",
   "metadata": {},
   "source": [
    "## What is true about data ingestion?\n",
    "\n",
    "- Data ingestion is the process of moving data into a software system ***\n",
    "- Data ingestion is a process that makes data available only to the data analytics team\n",
    "- It isn't a step in creating a data pipeline\n",
    "- It is not often performed when creating a data pipeline"
   ]
  },
  {
   "attachments": {},
   "cell_type": "markdown",
   "metadata": {},
   "source": [
    "## What is true about batch ingestion? Select all that apply.\n",
    "\n",
    "- Batch ingestion is when data is grouped together in bulk over a period of time and then ingested ***\n",
    "- Batch ingestion is when data is processed in real-time\n",
    "- Database migration is an example of ingesting data in batch ***\n",
    "- Ingesting all payroll data for the day from all stores is an example of is an example of batch ingestion ***\n",
    "- Ingesting date every few millisecond from a internet of things device is an example of batch ingestion"
   ]
  },
  {
   "attachments": {},
   "cell_type": "markdown",
   "metadata": {},
   "source": [
    "## What is true about streaming ingestion? Select all that apply.\n",
    "\n",
    "- Streaming is when data is ingested as soon as possible when it is created ***\n",
    "- Typically used when a business needs to consume data as quick as possible ***\n",
    "- Getting all business payment data for the day is an example of streaming\n",
    "- With most internet of things devices data won't be streamed since they process day slowly\n",
    "- Streaming data comes in at a slow rate and is often scheduled to be ingested at a particular time of day"
   ]
  },
  {
   "attachments": {},
   "cell_type": "markdown",
   "metadata": {},
   "source": [
    "## What is true about the comparisons between batch and streaming data? Select all that apply.\n",
    "\n",
    "- The more frequently you perform batch ingestions the closer you are to streaming data ***\n",
    "- Batch ingestion is usually performed in milliseconds \n",
    "- The volume of batch data is usually huge ***\n",
    "- The velocity of streaming data is slower than batch data\n",
    "- Kafka is a good tool to stream data"
   ]
  }
 ],
 "metadata": {
  "kernelspec": {
   "display_name": "base",
   "language": "python",
   "name": "python3"
  },
  "language_info": {
   "name": "python",
   "version": "3.10.9"
  },
  "orig_nbformat": 4,
  "vscode": {
   "interpreter": {
    "hash": "a2592652612463181e69ac003232387e3e9a99279aa6b168e76f5df16d5110f4"
   }
  }
 },
 "nbformat": 4,
 "nbformat_minor": 2
}
