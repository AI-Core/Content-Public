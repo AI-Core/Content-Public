{
 "cells": [
  {
   "attachments": {},
   "cell_type": "markdown",
   "metadata": {},
   "source": [
    "# Data Transformation - ETL & ELT"
   ]
  },
  {
   "attachments": {},
   "cell_type": "markdown",
   "metadata": {},
   "source": [
    "## Which of the following statements regarding the extract, load and transform (ELT) process are true? Select all that apply.\n",
    "\n",
    "- ELT can leverage tools like a big data lake to store all the raw data ***\n",
    "- In ELT, we can integrate and clean both structured and unstructured data ***\n",
    "- Given the current technology limitations, it's not possible to implement ELT activities in the cloud\n",
    "- Hadoop HDFS is an example of an ELT component that can be used to capture and store raw data ***\n",
    "- ELT approaches and tools have been commonly used for over two decades\n",
    "- A data warehouse tool such as Amazon Redshift can be used for both ETL and ELT operations ***"
   ]
  },
  {
   "attachments": {},
   "cell_type": "markdown",
   "metadata": {},
   "source": [
    "## Which of the following statements regarding the extract, transform and load (ETL) process are true? Select all that apply.\n",
    "\n",
    "- ETL is a relatively new process that has only been introduced after 2010\n",
    "- ETL is mainly used when we have large volumes of unstructured data\n",
    "- A relational database system is an example of a tool data engineers can use for ETL tasks ***\n",
    "- In ETL, data transformations occur before the files are moved into a data warehouse *** \n",
    "- Integrating the datasets from the CRM, ERP and Billing systems and cleaning the data can be considered steps in an ETL solution ***"
   ]
  },
  {
   "attachments": {},
   "cell_type": "markdown",
   "metadata": {},
   "source": [
    "## Which of the following statements regarding the types of data transformation commonly used are true? Select all that apply.\n",
    "\n",
    "- Connecting a data pipeline to Hadoop HDFS is a type of data transformation\n",
    "- Removing records with `NULL` values from a dataset is a type of data transformation ***\n",
    "- Adding a new column that calculates the Total Daily Sales to a dataset is an example of data transformation ***\n",
    "- Removing duplicate records from a file is an example of data transformation ***\n",
    "- Dropping/deleting an entire database table is an example of data transformation"
   ]
  },
  {
   "attachments": {},
   "cell_type": "markdown",
   "metadata": {},
   "source": [
    "## Which of the following statements regarding data transformation are true? Select all that apply.\n",
    "\n",
    "- Raw data often has issues such as duplicate records and inaccurate or missing information ***\n",
    "- Data transformation is generally one step of a three step process which also involves extracting and loading data *** \n",
    "- Data transformation can be defined as moving the data from point A to point B \n",
    "- It's not possible to implement data transformation through manually created scripts\n",
    "- Cloud-based data transformation is becoming a major trend in the data engineering space ***\n",
    "- There are ready made, out-of-the-box tools that can be used to implement data transformation ***"
   ]
  },
  {
   "attachments": {},
   "cell_type": "markdown",
   "metadata": {},
   "source": [
    "## Which of following are types of data transformation? Select all that apply.\n",
    "\n",
    "- Bucketing/Binning: Used to change a continuous numeric series into fixed categorical ranges ***\n",
    "- Data filtering: Includes techniques to refine datasets with the goal to remove irrelevant data ***\n",
    "- Data validation: Process of creating automated rules to that activate when the system encounters pre-determined data issues. ***\n",
    "- Data aggregation: Data aggregation is a process that searches, gathers and summarises data ***\n",
    "- Data valuation: Providing a fixed cost value for each piece of data\n",
    "- Data Destruction: Destroying data after it has ingested"
   ]
  },
  {
   "attachments": {},
   "cell_type": "markdown",
   "metadata": {},
   "source": [
    "## What are some of the challenges of data transformation? Select all that apply.\n",
    "\n",
    "- Costly: Can require a team of experts and substantial infrastructure requirements ***\n",
    "- Slow processing: The process of extracting and transforming data can be a burden on a system, it is often done in batches which means compute time can be lengthy ***\n",
    "- Changing business requirements: The format or requirements of the data might change requiring previous work to be redone ***\n",
    "- Everyone is doing it: Almost every company can easily implement data pipelines so it's not a competitive advantage any more\n",
    "- Lack of data: There is a lack of data in the world meaning that data engineering is very niche\n",
    "- Non cloud based: Data transformations can't yet be done on the cloud so requires very expensive hardware"
   ]
  },
  {
   "attachments": {},
   "cell_type": "markdown",
   "metadata": {},
   "source": [
    "## What is true about ETL/ELT? Select all that apply.\n",
    "\n",
    "- ETL means, Extract, Transform and Load ***\n",
    "- ELT means, Extract, Load and Transform ***\n",
    "- ETL results in more messy data being stored than ELT\n",
    "- With ELT you are more likely to lose valuable data\n"
   ]
  }
 ],
 "metadata": {
  "kernelspec": {
   "display_name": "base",
   "language": "python",
   "name": "python3"
  },
  "language_info": {
   "name": "python",
   "version": "3.10.9"
  },
  "orig_nbformat": 4,
  "vscode": {
   "interpreter": {
    "hash": "a2592652612463181e69ac003232387e3e9a99279aa6b168e76f5df16d5110f4"
   }
  }
 },
 "nbformat": 4,
 "nbformat_minor": 2
}
