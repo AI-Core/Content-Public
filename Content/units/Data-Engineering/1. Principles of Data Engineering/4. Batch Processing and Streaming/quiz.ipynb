{
 "cells": [
  {
   "attachments": {},
   "cell_type": "markdown",
   "metadata": {},
   "source": [
    "# Batch Processing and Streaming"
   ]
  },
  {
   "attachments": {},
   "cell_type": "markdown",
   "metadata": {},
   "source": [
    "## Which of the following statements regarding the comparison between batch and streaming data are true? Select all that apply.\n",
    "\n",
    "- The approach that requires the most disk storage space is Streaming\n",
    "- In Batch, it's acceptable to have a data processing job that requires 2 days to run ***\n",
    "- Streaming data requires millisecond(s) or second(s) performance ***\n",
    "- If a company wants to analyze the sales for an entire month, it should use a streaming data processing approach\n",
    "- The CEO of a company wants to see the inventory of all products with a few minutes delay at most.  He should use a streaming system ***\n",
    "- Both streaming and real-time data tools can process extremely large volumes of data without any major issues"
   ]
  },
  {
   "attachments": {},
   "cell_type": "markdown",
   "metadata": {},
   "source": [
    "## Which of the following statements regarding Streaming/Real-time data processing are true? Select all that apply.\n",
    "\n",
    "- Streaming data processing is the oldest form of data processing and has been used for a long time \n",
    "- All real-time processing is streaming, but not all streaming is real-time ***\n",
    "- Flume and Kafka are examples of tools that can be used to ingest streaming data *** \n",
    "- Spark Streaming and Storm are data processing frameworks that can be used to handle streaming data ***\n",
    "- Streaming data pipelines can connect to various data consumers such as Hadoop HDFS and database systems ***"
   ]
  },
  {
   "attachments": {},
   "cell_type": "markdown",
   "metadata": {},
   "source": [
    "## Which of the following statements regarding the batch processing tools are true? Select all that apply.\n",
    "\n",
    "- Hadoop HDFS is a popular tool for big data storage ***\n",
    "- Apache Storm is widely used a batch data processing framework in global companies\n",
    "- Hive is a big data warehouse that can query data using a SQL-like language ***\n",
    "- Spark only supports streaming data processing, but not batch"
   ]
  },
  {
   "attachments": {},
   "cell_type": "markdown",
   "metadata": {},
   "source": [
    "## Which of the following statements regarding batch data ingestion and processing are true? Select all that apply.\n",
    "\n",
    "- Batch data ingestion is used when the data volume that needs to be ingested is small and the required data velocity is very fast\n",
    "- Batch data processing involves handling new and older, historical data ***\n",
    "- The more modern form of data ingestion global companies leverage is batch\n",
    "- Extracting a large volume of data from a database and sending it to a Hadoop HDFS data lake is an example of batch data ingestion ***\n",
    "- Kafka can be used as a batch data ingestion tool ***\n",
    "- Spark Streaming is an example of a batch data processing framework"
   ]
  },
  {
   "attachments": {},
   "cell_type": "markdown",
   "metadata": {},
   "source": [
    "## Which of the following are examples of streaming data? Select all that apply.\n",
    "\n",
    "- Analysing stock trading data every few milliseconds ***\n",
    "- Multiplayer gaming data ***\n",
    "- Google maps location data ***\n",
    "- Processing payroll data at the end of the month\n",
    "- Monthly credit card payment data\n",
    "- Migrate of a database to a data warehouse\n"
   ]
  },
  {
   "attachments": {},
   "cell_type": "markdown",
   "metadata": {},
   "source": [
    "## Which of the following can be used for processing batch data? Select all that apply.\n",
    "\n",
    "- Apache Spark *** \n",
    "- Hadoop and HDFS ***\n",
    "- Apache Storm \n",
    "- Apache Hive ***\n",
    "- Apache Flink ***"
   ]
  }
 ],
 "metadata": {
  "kernelspec": {
   "display_name": "base",
   "language": "python",
   "name": "python3"
  },
  "language_info": {
   "name": "python",
   "version": "3.10.9"
  },
  "orig_nbformat": 4,
  "vscode": {
   "interpreter": {
    "hash": "a2592652612463181e69ac003232387e3e9a99279aa6b168e76f5df16d5110f4"
   }
  }
 },
 "nbformat": 4,
 "nbformat_minor": 2
}
