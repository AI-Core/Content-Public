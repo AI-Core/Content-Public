{
 "cells": [
  {
   "attachments": {},
   "cell_type": "markdown",
   "metadata": {},
   "source": [
    "# Enterprise Data Warehouses\n"
   ]
  },
  {
   "attachments": {},
   "cell_type": "markdown",
   "metadata": {},
   "source": [
    "## What is true about data modelling? Select all that apply.\n",
    "\n",
    "- Star and Snowflake are two popular types of schemas ***\n",
    "- ERD and EDW are two popular types of schemas ***\n",
    "- Data can be arranged into an OLAP prism making for easier analytics\n",
    "- Database normalisation helps to create multiple copies of the same data for backups\n",
    "- OLTP is usually used when processing slow moving data"
   ]
  },
  {
   "attachments": {},
   "cell_type": "markdown",
   "metadata": {},
   "source": [
    "## What is true about enterprise data warehouses (EDWs)? Select all that apply.\n",
    "\n",
    "- Enterprise data warehouses are great for storing huge amounts of data but not useful when the business wants to perform analytics\n",
    "- They have only existed for a couple of years\n",
    "- Data warehouses are used to perform queries and analysis and often contain large amounts of historical data ***\n",
    "- Data warehouses except unstructured data \n",
    "- A common user of data warehouses might be data scientists and data analysts ***\n",
    "- Usually used for streamed non historical data\n",
    "\n"
   ]
  },
  {
   "attachments": {},
   "cell_type": "markdown",
   "metadata": {},
   "source": [
    "## Which of the following is true about Online Analytical Processing (OLAP)? Select all that apply.\n",
    "\n",
    "- Usually data is stored in two dimensions (rows and columns)\n",
    "- Data is rearranged into a cube structure to perform analytics ***\n",
    "- The Slice and Dice operation creates a sub-cube from an OLAP cube ***\n",
    "- Pivoting the cube can't result in new data being found\n",
    "- Data is rearranged into a triangular structure to perform analytics"
   ]
  },
  {
   "attachments": {},
   "cell_type": "markdown",
   "metadata": {},
   "source": [
    "## What are some common uses of Online Transaction Processing (OLTP)? Select all that apply.\n",
    "\n",
    "- Processing data from an ATM ***\n",
    "- Credit card payment processing ***\n",
    "- Online flight booking ***\n",
    "- End of month payroll management\n",
    "- End of year football team statistic calculation\n",
    "- Historical stock data analysis"
   ]
  },
  {
   "attachments": {},
   "cell_type": "markdown",
   "metadata": {},
   "source": [
    "## What are some characteristics of Enterprise Data Warehouses? Select all that apply.\n",
    "\n",
    "- A data warehouse is oriented around different functions of the business, such as sales, inventory and marketing ***\n",
    "- They are useful to integrate data from multiple and varied sources ***\n",
    "- They employ version control on the data and are usually read-only ***\n",
    "- Data usually comes from one source and making them useful for data analysis\n",
    "- The data is often changed in a data warehouse by anyone in the business\n",
    "- Usually don't contain historical data of the business\n"
   ]
  },
  {
   "attachments": {},
   "cell_type": "markdown",
   "metadata": {},
   "source": [
    "## What are some of the most popular Enterprise Data Warehouses? Select all that apply.\n",
    "\n",
    "- Amazon Redshift ***\n",
    "- Snowflake ***\n",
    "- Google BigQuery ***\n",
    "- AWS S3\n",
    "- PostgreSQL database\n",
    "- MySQL database"
   ]
  }
 ],
 "metadata": {
  "kernelspec": {
   "display_name": "base",
   "language": "python",
   "name": "python3"
  },
  "language_info": {
   "name": "python",
   "version": "3.10.9"
  },
  "orig_nbformat": 4,
  "vscode": {
   "interpreter": {
    "hash": "a2592652612463181e69ac003232387e3e9a99279aa6b168e76f5df16d5110f4"
   }
  }
 },
 "nbformat": 4,
 "nbformat_minor": 2
}
