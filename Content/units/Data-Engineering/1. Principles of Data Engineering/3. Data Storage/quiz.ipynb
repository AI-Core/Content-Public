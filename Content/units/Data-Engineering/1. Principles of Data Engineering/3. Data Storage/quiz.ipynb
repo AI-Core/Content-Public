{
 "cells": [
  {
   "attachments": {},
   "cell_type": "markdown",
   "metadata": {},
   "source": [
    "# Data Storage"
   ]
  },
  {
   "attachments": {},
   "cell_type": "markdown",
   "metadata": {},
   "source": [
    "## Which of the following statements regarding structured and unstructured data types are false? Select all that apply.\n",
    "\n",
    "- JSON files are an example of a graph object\n",
    "- A CSV file with 20 columns and 2 million rows can be stored in a data warehouse ***\n",
    "- We can query unstructured data such as video files using SQL\n",
    "- An OLAP cube can be used to explore image files\n",
    "- Hadoop HDFS can store CSV, JSON, video and image data ***"
   ]
  },
  {
   "attachments": {},
   "cell_type": "markdown",
   "metadata": {},
   "source": [
    "## Which of the following statements regarding cloud-based data storage are true? Select all that apply.\n",
    "\n",
    "- Cloud computing and storage is a quickly rising trend in industry ***\n",
    "- Organisations have to select either the public or private cloud model. It's not possible to integrate both\n",
    "- Amazon AWS is an example of a cloud computing provider that companies can use ***\n",
    "- With cloud technologies, it's possible to setup both ETL and ELT types of storage ***\n",
    "- Cloud storage provides several benefits to companies, but ease of scaling up or down is not one of those benefits due to the network limitations\n",
    "- Generally speaking, data security in cloud-based storage is weak"
   ]
  },
  {
   "attachments": {},
   "cell_type": "markdown",
   "metadata": {},
   "source": [
    "## Which of the following statements regarding the main concepts of data storage are true? Select all that apply.\n",
    "\n",
    "- The general trend nowadays for data storage is to move towards specialised, on-premise based hardware\n",
    "- There is an increasing quantity and variety of data being produced, with non-human data growing rapidly ***\n",
    "- It's sometimes possible to store both structured and unstructured data types using the same tool. One example is HDFS ***\n",
    "- Direct access storage is a growing trend in global companies due to its ease of use\n",
    "- A data warehouse is mainly used to store unstructured data"
   ]
  },
  {
   "attachments": {},
   "cell_type": "markdown",
   "metadata": {},
   "source": [
    "## What are examples of unstructured data? Select all that apply.\n",
    "\n",
    "- Text files and documents ***\n",
    "- Images ***\n",
    "- Video files ***\n",
    "- Social media data ***\n",
    "- Company data stored in an Excel spreadsheet\n",
    "- Student records stored in a database"
   ]
  },
  {
   "attachments": {},
   "cell_type": "markdown",
   "metadata": {},
   "source": [
    "# What is true about the modern approaches to Data storage? Select all that apply.\n",
    "\n",
    "- Unstructured data was mainly stored in the past \n",
    "- Data warehouses are commonly being deployed on the cloud these days ***\n",
    "- Date warehouses usually store data long term and help to enable analysis of data ***\n",
    "- The majority of incoming data today is structured data \n",
    "- NoSQL means Not SQL and they're great for storing unstructured data\n",
    "- Cloud storage is becoming popular due to its easy to deploy on demand services without requiring active management by a user ***"
   ]
  },
  {
   "attachments": {},
   "cell_type": "markdown",
   "metadata": {},
   "source": [
    "## What are the benefits of cloud storage? Select all that apply.\n",
    "\n",
    "- The cost of ownership, its easy to add or remove capacity on demand and there's no hardware to purchase ***\n",
    "- Additional data storage can be deployed incredibly quickly  ***\n",
    "- While the cloud services aren't as performant they are easy to deploy\n",
    "- Uptime is harder to manage with cloud services\n",
    "- Cloud services offer a board set of technologies and controls to strengthen security ***"
   ]
  }
 ],
 "metadata": {
  "kernelspec": {
   "display_name": "base",
   "language": "python",
   "name": "python3"
  },
  "language_info": {
   "name": "python",
   "version": "3.10.9"
  },
  "orig_nbformat": 4,
  "vscode": {
   "interpreter": {
    "hash": "a2592652612463181e69ac003232387e3e9a99279aa6b168e76f5df16d5110f4"
   }
  }
 },
 "nbformat": 4,
 "nbformat_minor": 2
}
