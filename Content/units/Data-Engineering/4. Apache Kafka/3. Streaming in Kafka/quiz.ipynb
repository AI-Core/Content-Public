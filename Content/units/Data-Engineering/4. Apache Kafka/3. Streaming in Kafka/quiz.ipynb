{
 "cells": [
  {
   "attachments": {},
   "cell_type": "markdown",
   "metadata": {},
   "source": [
    "# Streaming in Kafka"
   ]
  },
  {
   "attachments": {},
   "cell_type": "markdown",
   "metadata": {},
   "source": [
    "## What's true about Kafka streams? Select all that apply.\n",
    "\n",
    "- Is a client library for building applications and microservices where the input and output is stored on Kafka clusters ***\n",
    "- The data processing happens within your application not on a Kafka broker ***\n",
    "- The data processing happens within your Kafka broker not within the application \n",
    "- Kafka streams can't help you leverage parallelism \n",
    "- Kafka streams don't provide the same level of fault tolerance as Kafka"
   ]
  },
  {
   "attachments": {},
   "cell_type": "markdown",
   "metadata": {},
   "source": [
    "## What are some the highlights of Kafka Streams? Select all that apply.\n",
    "\n",
    "- Simple and lightweight client library which is easy to embed in any Java application ***\n",
    "- Has no other dependencies other than Kafka itself ***\n",
    "- Supports exactly-once processing even in the event of failure ***\n",
    "- Doesn't support aggregations or window functions\n",
    "- Can't achieve millisecond latency with Kafka streams"
   ]
  },
  {
   "attachments": {},
   "cell_type": "markdown",
   "metadata": {},
   "source": [
    "## What is true about Kafka Stream Topology? Select all that apply.\n",
    "\n",
    "- A Stream represents a continuously unbound dataset ***\n",
    "- There are two special processors in the topology **source processor** and **sink processor** ***\n",
    "- Graph processor is another special processor in the topology \n",
    "- Parallel processing is not achievable with stream processing \n"
   ]
  }
 ],
 "metadata": {
  "kernelspec": {
   "display_name": "base",
   "language": "python",
   "name": "python3"
  },
  "language_info": {
   "name": "python",
   "version": "3.10.9"
  },
  "orig_nbformat": 4,
  "vscode": {
   "interpreter": {
    "hash": "a2592652612463181e69ac003232387e3e9a99279aa6b168e76f5df16d5110f4"
   }
  }
 },
 "nbformat": 4,
 "nbformat_minor": 2
}
