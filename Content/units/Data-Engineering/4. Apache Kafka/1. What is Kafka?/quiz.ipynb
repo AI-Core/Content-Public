{
 "cells": [
  {
   "attachments": {},
   "cell_type": "markdown",
   "metadata": {},
   "source": [
    "# What is Kafka?"
   ]
  },
  {
   "attachments": {},
   "cell_type": "markdown",
   "metadata": {},
   "source": [
    "## Select the main roles that Zookeeper plays in a Kafka system. Select all that apply.\n",
    "\n",
    "- Storing data \n",
    "- Election of the Controller node ***\n",
    "- Managing the Access Control List ***\n",
    "- Producing data for the cluster\n",
    "- Topic configuration ***\n",
    "- Membership of the cluster"
   ]
  },
  {
   "attachments": {},
   "cell_type": "markdown",
   "metadata": {},
   "source": [
    "## Which of the following statements are true regarding Kafka use cases?\n",
    "\n",
    "- Kafka can't be used in the financial sector as it's not a regulated technology\n",
    "- Kafka is not well designed for batch data processing in the airlines industry\n",
    "- Kafka has successfully been used as part of arRecommendation engine technology ***\n",
    "- The limitations of Kafka prevent it from being used in stock trading"
   ]
  },
  {
   "attachments": {},
   "cell_type": "markdown",
   "metadata": {},
   "source": [
    "## Which of the following statements are false about the Kafka topology?\n",
    "\n",
    "- We can only have one producer per Kafka cluster\n",
    "- For every Producer in the system, we can only have one consumer \n",
    "- Zookeeper is a direct component of Kafka and not a 3rd party tool\n",
    "- A topic is used to store data records in Kafka ***"
   ]
  },
  {
   "attachments": {},
   "cell_type": "markdown",
   "metadata": {},
   "source": [
    "## Which of the following statements are true about Kafka?\n",
    "\n",
    "- Kafka uses a Client-Server type architecture ***\n",
    "- Zookeeper is not required in any Kafka system\n",
    "- Kafka is often suitable for smaller companies who have less data, but can present problems to companies with Big Data\n",
    "- Kafka is not well designed for real-time streaming data\n",
    "- Kafka is a closed-source and expensive technology"
   ]
  },
  {
   "attachments": {},
   "cell_type": "markdown",
   "metadata": {},
   "source": [
    "## Which of the following are Apache Kafka components? Select all that apply.\n",
    "\n",
    "- Brokers ***\n",
    "- Consumers ***\n",
    "- Hadoop HDFS\n",
    "- Topics ***\n",
    "- Spark\n",
    "- AWS"
   ]
  },
  {
   "attachments": {},
   "cell_type": "markdown",
   "metadata": {},
   "source": [
    "## Which of the following statements are true about Kafka? Select all that apply.\n",
    "\n",
    "- Kafka stores records in the order in which they were generated ***\n",
    "- Kafka is primarily used to build batch processing pipelines\n",
    "- Multiple streams of records for difference uses can be published and subscribed to ***\n",
    "- While Kafka is a powerful framework it can only be deployed on virtual machines\n",
    "- Kafka lacks fault tolerance which is one of the weaknesses of using it\n",
    "- Kafka is still in its infancy and not used by big companies currently"
   ]
  },
  {
   "attachments": {},
   "cell_type": "markdown",
   "metadata": {},
   "source": [
    "## What is true about Kafka's components? Select all that apply.\n",
    "\n",
    "- Brokers can be considered to be Kafka servers ***\n",
    "- Consumers create data for a topic \n",
    "- Each broker only contains one topic\n",
    "- Each topic only contains two partitions\n",
    "- There is usually only one Broker in a Kafka cluster\n",
    "- Kafka is highly scalable and fault-tolerant since if a broker fails another will take over the work ***\n"
   ]
  }
 ],
 "metadata": {
  "kernelspec": {
   "display_name": "base",
   "language": "python",
   "name": "python3"
  },
  "language_info": {
   "name": "python",
   "version": "3.10.9"
  },
  "orig_nbformat": 4,
  "vscode": {
   "interpreter": {
    "hash": "a2592652612463181e69ac003232387e3e9a99279aa6b168e76f5df16d5110f4"
   }
  }
 },
 "nbformat": 4,
 "nbformat_minor": 2
}
