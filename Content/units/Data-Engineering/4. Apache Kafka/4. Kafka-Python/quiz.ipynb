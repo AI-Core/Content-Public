{
 "cells": [
  {
   "attachments": {},
   "cell_type": "markdown",
   "metadata": {},
   "source": [
    "# Kafka-Python"
   ]
  },
  {
   "attachments": {},
   "cell_type": "markdown",
   "metadata": {},
   "source": [
    "## What are some of main Kafka-Python API classes? Select all that apply.\n",
    "\n",
    "- `KafkaConsumer` ***\n",
    "- `KafkaProducer` ***\n",
    "- `ClusterMetadata` ***\n",
    "- `KafkaProvider`\n",
    "- `KafkaDeveloper`\n",
    "- `ConsumerPartitioner`"
   ]
  },
  {
   "attachments": {},
   "cell_type": "markdown",
   "metadata": {},
   "source": [
    "## What are some of the methods of the `KafkaConsumer` and `KafkaProducer` classes? Select all that apply.\n",
    "\n",
    "- `assign()`: Assign consumers to partitions ***\n",
    "- `subscribe()`: Subscribe to a list of Kafka topics ***\n",
    "- `send()`: Publish a message to the topic ***\n",
    "- `remove()`: Remove a message from the topic\n",
    "- `create_topics()`: Create new Kafka topics\n",
    "- `deploy_topics()`: Deploy topics to the cluster"
   ]
  },
  {
   "attachments": {},
   "cell_type": "markdown",
   "metadata": {},
   "source": [
    "## What are some of the methods of the `KafkaClient` and `KafkaAdminClient` classes? Select all that apply.\n",
    "\n",
    "- `create_topics()`: Using a list from new topics in the cluster ***\n",
    "- `list_consumer_groups()`: List all consumer groups known to the cluster ***\n",
    "- `bootstrap_connected()`: Returns true if the bootstrap server is connected ***\n",
    "- `check_version()`: Try to check the version of the Kafka broker ***\n",
    "- `create_meta_class()`: Build a Kafka meta classes for a topic\n",
    "- `keeper_shutdown()`: Shutdown Zookeeper\n"
   ]
  },
  {
   "attachments": {},
   "cell_type": "markdown",
   "metadata": {},
   "source": [
    "## What does the following lines of code perform? \n",
    "\n",
    "```python\n",
    "from kafka import KafkaClient\n",
    "from kafka.cluster import ClusterMetadata\n",
    "\n",
    "meta_cluster_conn = ClusterMetadata(\n",
    "    bootstrap_servers=\"localhost:9092\", \n",
    ")\n",
    "print(meta_cluster_conn.brokers())\n",
    "\n",
    "client_conn = KafkaClient(\n",
    "    bootstrap_servers=\"localhost:9092\",\n",
    "    client_id=\"Broker test\"\n",
    ")\n",
    "\n",
    "print(client_conn.bootstrap_connected())\n",
    "print(client_conn.check_version())\n",
    "\n",
    "```\n",
    "\n",
    "- Connects to a cluster to check what brokers are available then prints out whether the broker is connected and its version ***\n",
    "- Connects to a broker to check its version then prints out the list of topics in the broker\n",
    "- Adds more partitions to a topic in the Kafka broker\n",
    "- Gets metadata about the cluster then adds a new broker to the cluster\n",
    "- Shutdowns the broker and flushes all the topic data from it "
   ]
  },
  {
   "attachments": {},
   "cell_type": "markdown",
   "metadata": {},
   "source": [
    "## What are some helpful parameters which can be used when creating a new instance of the `NewTopic` class? Select all that apply.\n",
    "\n",
    "- `name`: Specify a name for the new topic ***\n",
    "- `num_partitions`: Specify an integer value for the number of partitions to create the topic with ***\n",
    "- `replication_factor`: Provide `NewTopic` with an integer value which specifies how many times to replicate the topic in the cluster ***\n",
    "- `designated_cluster`: IP address of the cluster to create the topic in\n",
    "- `broker_number`: Number of the broker to create the topic in\n",
    "- `modified_date`: Date string which tells the cluster when the topic was modified\n"
   ]
  },
  {
   "attachments": {},
   "cell_type": "markdown",
   "metadata": {},
   "source": [
    "## What is true about the `KafkaConsumer` class? Select all that apply.\n",
    "\n",
    "- The `bootstrap_servers` parameter can be used to tell which Kafka broker to connect to, to get information about the cluster ***\n",
    "- The `client_id` parameter can be used to identify a particular consumer ***\n",
    "- `value_deserializer` is used to deserialize the Kafka messages from raw bytes format into another format ***\n",
    "- `send`: specify the topic to send the data to\n",
    "- `bucket`: bucket to store the data in after being received by the topic "
   ]
  }
 ],
 "metadata": {
  "kernelspec": {
   "display_name": "base",
   "language": "python",
   "name": "python3"
  },
  "language_info": {
   "name": "python",
   "version": "3.10.9"
  },
  "orig_nbformat": 4,
  "vscode": {
   "interpreter": {
    "hash": "a2592652612463181e69ac003232387e3e9a99279aa6b168e76f5df16d5110f4"
   }
  }
 },
 "nbformat": 4,
 "nbformat_minor": 2
}
