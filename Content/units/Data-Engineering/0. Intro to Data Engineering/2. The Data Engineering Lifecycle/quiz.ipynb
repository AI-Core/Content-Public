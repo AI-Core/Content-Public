{
 "cells": [
  {
   "attachments": {},
   "cell_type": "markdown",
   "metadata": {},
   "source": [
    "# The Data Engineering Lifecycle"
   ]
  },
  {
   "attachments": {},
   "cell_type": "markdown",
   "metadata": {},
   "source": [
    "## What is the **main** goal of a Data Engineer?\n",
    "\n",
    "- To transform raw data into meaningful information ***\n",
    "- To make sure all databases are running smoothly\n",
    "- To setup cloud databases\n",
    "- To ensure data in spreadsheets is entered correctly\n",
    "- To source more data for a company"
   ]
  },
  {
   "attachments": {},
   "cell_type": "markdown",
   "metadata": {},
   "source": [
    "## What are some of the steps in the Data Engineering Lifecycle? Select all that apply.\n",
    "\n",
    "- Data ingestion, ETL/ELT, solution deployment and system monitoring and performance tuning ***\n",
    "- Requirements gathering and planning and data store setup and solutions deployment ***\n",
    "- Data visualisation, predictive modelling and data exploration\n",
    "- Feature engineering, deploying models and exploratory data analysis (EDA)\n",
    "- Model testing, model training, hypothesising and modelling"
   ]
  },
  {
   "attachments": {},
   "cell_type": "markdown",
   "metadata": {},
   "source": [
    "## What are some of the concerns of the requirements gathering and planning phase of the data engineering lifecycle? Select all that apply.\n",
    "\n",
    "- Presenting a solution that is expected to meet the business requirements ***\n",
    "- Identifying the system to be used for development, a feasibility assessment and creation of a project plan ***\n",
    "- Gathering of all data required by the project \n",
    "- Creating the data store to store all the project data\n",
    "- Performing transformations on the gathered data"
   ]
  },
  {
   "attachments": {},
   "cell_type": "markdown",
   "metadata": {},
   "source": [
    "## What are some of the concerns of the deploying data stores stage of the data engineering lifecycle? Select all that apply.\n",
    "\n",
    "- Capturing and storing all raw incoming data to be used on the project *** \n",
    "- Building the data storage infrastructure and deploying it ***\n",
    "- Making sure all the ELT pipeline are in place \n",
    "- Transforming the data to the expected requirements\n",
    "- Finishing the data pipeline to completion\n"
   ]
  },
  {
   "attachments": {},
   "cell_type": "markdown",
   "metadata": {},
   "source": [
    "## What are some of the concerns of the solution architecture stage of the data engineering lifecycle? Select all that apply.\n",
    " \n",
    "- Creating the high-level design of all the components needed and how each component will operate ***\n",
    "- Transforming the details captured in the gathering and planning stage and turning them into detailed specifications ***\n",
    "- Deploying the data storage solution for the project\n",
    "- Monitoring the system and doing performance testing\n",
    "- Building ETL/ELT to convert the raw data into another form\n"
   ]
  },
  {
   "attachments": {},
   "cell_type": "markdown",
   "metadata": {},
   "source": [
    "## Whats are some of the concerns of the data ingestion stage of the data engineering lifecycle? Select all that apply.\n",
    "\n",
    "- Transporting the raw data from various sources to the centralised storage repository ***\n",
    "- Identifying whether data is real-time or batch data and the size of the data ***\n",
    "- Performing many transformations on the data before it hits the centralised data store\n",
    "- Supporting users of the system and maintaining the system\n",
    "- Making sure the data is deployed to the cloud environment"
   ]
  },
  {
   "attachments": {},
   "cell_type": "markdown",
   "metadata": {},
   "source": [
    "## What does **ETL** stand for?\n",
    "\n",
    "- Extract Transform Load ***\n",
    "- Extract Tune Loop \n",
    "- Enterprise Transform Load\n",
    "- Extract Transform Loop\n",
    "- Extract Transform Land"
   ]
  },
  {
   "attachments": {},
   "cell_type": "markdown",
   "metadata": {},
   "source": [
    "## What does **ELT** stand for?\n",
    "\n",
    "- Extract Load Transform ***\n",
    "- Enter Load Transform\n",
    "- Exit Load Transform\n",
    "- Enterprise Load Transform\n",
    "- Extract Loop Transform"
   ]
  },
  {
   "attachments": {},
   "cell_type": "markdown",
   "metadata": {},
   "source": [
    "## What are the some of the concerns of the ETL/ELT stage of the data engineering lifecycle? Select all that apply.\n",
    "\n",
    "- Transforming the data from a raw format into a form that is more appropriate for use by stakeholders ***\n",
    "- Performing data quality checks, testing, enriching data and performing data cleaning tasks ***\n",
    "- Supporting the users of the data and the system\n",
    "- Making sure that the centralised data store is deployed to the cloud environment\n",
    "- Fully deploying the system to that the data is available to stakeholders"
   ]
  },
  {
   "attachments": {},
   "cell_type": "markdown",
   "metadata": {},
   "source": [
    "## What are some of the concerns of the solution deployment stage of the data engineering lifecycle? Select all that apply.\n",
    "\n",
    "- Deploying the system which has been thoroughly tested so that stakeholders can use it ***\n",
    "- Implementing CI/CD processes to automate a large part of the deployment process ***\n",
    "- Moving all the raw data to the centralised data store\n",
    "- Performing transformations on the data to get it in the correct for for use by stakeholders\n",
    "- Ingesting the data from the centralised data store"
   ]
  },
  {
   "attachments": {},
   "cell_type": "markdown",
   "metadata": {},
   "source": [
    "## What are some of the concerns of the system monitoring and performance tuning stage of the data engineering lifecycle? Select all that apply.\n",
    "\n",
    "- Catching bugs with the system and applying hot-fixes to ensure its smooth operation ***\n",
    "- Supporting system users, performing system maintenance and making adjustments to the system ***\n",
    "- Deploying the system to the end users\n",
    "- Tuning the system before the ELT/ETL transformations have been performed on the data\n",
    "- Usually handing over the system monitoring and performance to another team which hasn't work on the system previously "
   ]
  }
 ],
 "metadata": {
  "kernelspec": {
   "display_name": "base",
   "language": "python",
   "name": "python3"
  },
  "language_info": {
   "name": "python",
   "version": "3.10.9"
  },
  "orig_nbformat": 4,
  "vscode": {
   "interpreter": {
    "hash": "a2592652612463181e69ac003232387e3e9a99279aa6b168e76f5df16d5110f4"
   }
  }
 },
 "nbformat": 4,
 "nbformat_minor": 2
}
