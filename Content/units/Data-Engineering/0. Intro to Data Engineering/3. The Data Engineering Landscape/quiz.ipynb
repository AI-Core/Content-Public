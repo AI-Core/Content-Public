{
 "cells": [
  {
   "attachments": {},
   "cell_type": "markdown",
   "metadata": {},
   "source": [
    "# The Data Engineering Landscape"
   ]
  },
  {
   "attachments": {},
   "cell_type": "markdown",
   "metadata": {},
   "source": [
    "## What is HDFS?\n",
    "\n",
    "- Hadoop Distributed File System ***\n",
    "- Hardware Development File System\n",
    "- Healthy Deployment File System\n",
    "- Harvard Deployment File System"
   ]
  },
  {
   "attachments": {},
   "cell_type": "markdown",
   "metadata": {},
   "source": [
    "## What is the use of Hadoop Distributed File System?\n",
    "\n",
    "- The Hadoop Distributed File System is a system designed to store large datasets ***\n",
    "- The Hadoop Distributed File System is designed to distribute files to stakeholders\n",
    "- The Hadoop Distributed File System is designed to distribute files to data analytics dashboards\n",
    "- The Hadoop Distributed File System is designed to install new programs from files on multiple machines\n"
   ]
  },
  {
   "attachments": {},
   "cell_type": "markdown",
   "metadata": {},
   "source": [
    "## What is true about the use of Apache Airflow? Select all that apply.\n",
    "\n",
    "- To automate, schedule and run complex data pipelines and tasks ***\n",
    "- A free and open source tool with a user interface that make sure data pipelines get executed in the right order ***\n",
    "- A free and open source tool which performs and stores data transform code\n",
    "- A free and open source tool which enables the use of cloud databases\n",
    "- To migrate data between databases, and monitor the performs of company databases"
   ]
  },
  {
   "attachments": {},
   "cell_type": "markdown",
   "metadata": {},
   "source": [
    "## What is true about Snowflake (not the database schema)?\n",
    "\n",
    "- It is a recently introduced big data warehouse built on top of could infrastructure ***\n",
    "- A data performance and management tool \n",
    "- A tool to distribute files across a large number of servers\n",
    "- It is a recently introduced big data warehouse which can be built on local system\n",
    "- It has seen a steady decline in popularity"
   ]
  },
  {
   "attachments": {},
   "cell_type": "markdown",
   "metadata": {},
   "source": [
    "## What is true about Apache Spark? Select all that apply.\n",
    "\n",
    "- Apache Spark is a powerful, unified data processing engine which can process real-time and batching processing efficiently ***\n",
    "- Spark performs data processing on hard disk\n",
    "- It is generally slower than the Hadoop MapReduce engine\n",
    "- It's only specifically used to process data in real-time\n",
    "- It performs its data processing in-memory ***"
   ]
  },
  {
   "attachments": {},
   "cell_type": "markdown",
   "metadata": {},
   "source": [
    "## What is true about Apache Hive? Select all that apply.\n",
    "\n",
    "- Apache Hive is a data warehouse software project built on top of Apache Hadoop for providing data query and analysis ***\n",
    "- Hive is a recently introduced cloud based big data warehouse store\n",
    "- Hive gives an SQL like interface to query big data stores on multiple systems ***\n",
    "- Hive is used to query data by interfacing with Python\n",
    "- Hive was not build onto of Hadoop"
   ]
  },
  {
   "attachments": {},
   "cell_type": "markdown",
   "metadata": {},
   "source": [
    "## What is true about Apache Flink? \n",
    "\n",
    "- Apache Fink is another popular open-source, distributed data processing framework that can process large data streams at-scale in real-time ***\n",
    "- Apache Fink is another popular open-source, distributed data processing framework that can process large data streams at-scale in batch\n",
    "- Apache Flink performs data computations on disk just like Apache Spark\n",
    "- Apache Flink performs data computations in-memory just like Apache Spark ***"
   ]
  },
  {
   "attachments": {},
   "cell_type": "markdown",
   "metadata": {},
   "source": [
    "## What is true about Apache Storm? Select all that apply.\n",
    "\n",
    "- Apache Storm is a real-time data processing engine ***\n",
    "- Apache Storm is a batch data processing engine \n",
    "- It can be used with several programming languages ***\n",
    "- It can only be used with the Java programming language\n",
    "- It is not open source"
   ]
  },
  {
   "attachments": {},
   "cell_type": "markdown",
   "metadata": {},
   "source": [
    "## What is true about Kafka? Select all that apply.\n",
    "\n",
    "- Kafka is a free, open-source platform designed to handle big data streaming ***\n",
    "- You can publish and subscribe to multiple data streams ***\n",
    "- Store records in the same order they were created ***\n",
    "- Made for processing data in batch\n",
    "- Can only create one data stream and processes data in real-time"
   ]
  },
  {
   "attachments": {},
   "cell_type": "markdown",
   "metadata": {},
   "source": [
    "## What is true about Kubernetes? Select all that apply.\n",
    "\n",
    "- Kubernetes is a automated, portable and open-source system for container-orchestration ***\n",
    "- Hard to deploy containers to multiple system with\n",
    "- Was developed at Microsoft\n",
    "- It leverages Docker containers to scale and run software in parallel ***\n",
    "- Uses GitHub to automate and deploy tasks"
   ]
  },
  {
   "attachments": {},
   "cell_type": "markdown",
   "metadata": {},
   "source": [
    "## What is true about cloud storage? Select all that apply.\n",
    "\n",
    "- Under the hood, cloud-based systems store their data on a very large number of powerful server machines located in a data center ***\n",
    "- Cloud based storage systems store data on premises and are managed directly but company data engineers\n",
    "- Cloud based storage is quickly becoming a trend in the data engineering industry ***\n",
    "- Cloud based storage is declining in use in the data engineering industry\n",
    "- Cloud based storage has a limit cap so only a certain amount of data can be stored there. All other data is stored on premises.\n",
    "- You are unlikely to use cloud based storage solutions as a data engineer, they are more commonly used by data scientists"
   ]
  }
 ],
 "metadata": {
  "kernelspec": {
   "display_name": "base",
   "language": "python",
   "name": "python3"
  },
  "language_info": {
   "name": "python",
   "version": "3.10.9"
  },
  "orig_nbformat": 4,
  "vscode": {
   "interpreter": {
    "hash": "a2592652612463181e69ac003232387e3e9a99279aa6b168e76f5df16d5110f4"
   }
  }
 },
 "nbformat": 4,
 "nbformat_minor": 2
}
