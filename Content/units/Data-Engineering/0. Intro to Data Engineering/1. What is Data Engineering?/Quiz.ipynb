{
 "cells": [
  {
   "attachments": {},
   "cell_type": "markdown",
   "metadata": {},
   "source": [
    "What does the term Big Data mean?\n",
    "\n",
    "1. Big Data refers to data that is so large, fast and complex that it’s difficult or impossible to process using traditional tools \n",
    "2. Big Data means that data can't fit on one database\n",
    "3. Big Data is data which only consists of data which can hold large values: strings, big integers etc.\n",
    "4. Big Data is \n",
    "5."
   ]
  },
  {
   "attachments": {},
   "cell_type": "markdown",
   "metadata": {},
   "source": [
    "What are the five defining properties of Big Data?\n",
    "\n",
    "1. Volume, Variety, Velocity, Veracity and Value\n",
    "2. Volume, Variety, Velocity, Verbosity and Value\n",
    "3. Volume, Variety, Visibility, Veracity and Value\n",
    "4. Volume, Validity, Velocity, Verbosity and Value\n"
   ]
  },
  {
   "attachments": {},
   "cell_type": "markdown",
   "metadata": {},
   "source": [
    "What is a Data Warehouse?\n",
    "\n",
    "1. A data warehouse also known as a data centre is where all the computers storing data for a company are housed\n",
    "2. A data warehouse, is a system used for reporting and data analysis and is considered a core component of the traditional business intelligence architecture\n",
    "3. A data warehouse is were all old hard drives are stored when no longer needed\n",
    "4. A data warehouse is one or more databases connected together\n",
    "5. A data warehouse is a database stored on the cloud\n"
   ]
  },
  {
   "attachments": {},
   "cell_type": "markdown",
   "metadata": {},
   "source": [
    "What is a Data Lake?\n",
    "\n",
    "1. A data lake is a centralised repository that allows you to store all your structured and unstructured data in one location. \n",
    "2. A data lake is a database architecture developed by the LakeHouse group\n",
    "3. A data lake is a large database which only store structured data\n",
    "4. A data lake is \n",
    "5."
   ]
  },
  {
   "cell_type": "markdown",
   "metadata": {},
   "source": []
  },
  {
   "cell_type": "markdown",
   "metadata": {},
   "source": []
  },
  {
   "cell_type": "markdown",
   "metadata": {},
   "source": []
  },
  {
   "cell_type": "markdown",
   "metadata": {},
   "source": []
  },
  {
   "cell_type": "markdown",
   "metadata": {},
   "source": []
  },
  {
   "cell_type": "markdown",
   "metadata": {},
   "source": []
  },
  {
   "cell_type": "markdown",
   "metadata": {},
   "source": []
  },
  {
   "cell_type": "markdown",
   "metadata": {},
   "source": []
  },
  {
   "cell_type": "markdown",
   "metadata": {},
   "source": []
  }
 ],
 "metadata": {
  "kernelspec": {
   "display_name": "base",
   "language": "python",
   "name": "python3"
  },
  "language_info": {
   "name": "python",
   "version": "3.10.9"
  },
  "orig_nbformat": 4,
  "vscode": {
   "interpreter": {
    "hash": "a2592652612463181e69ac003232387e3e9a99279aa6b168e76f5df16d5110f4"
   }
  }
 },
 "nbformat": 4,
 "nbformat_minor": 2
}
