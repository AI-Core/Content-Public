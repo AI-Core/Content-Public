{
 "cells": [
  {
   "cell_type": "markdown",
   "metadata": {},
   "source": [
    "# (Big) Data Engineering - Fundamentals\n",
    "\n",
    "\n",
    "## What is Big Data?\n",
    "We might have heard the term Big Data before, but what does it really mean? Below is a high-level definition:\n",
    "\n",
    "> Big data refers to data that is so large, fast and complex that it’s difficult or impossible to process using traditional tools like a data warehouse.\n",
    "\n",
    "Traditional methods of data storage included storing data locally on a computer, on a server, mainframe system or in a database. Over time, due to the rapid evolution in data production, these traditional approaches are no longer able to cope with the new reality.\n",
    "\n",
    "Accordingly, a new group of tools and technologies were introduced starting mid to late 2000's.  The logic behind these new tools was to switch the mentality from storing and analyzing small quantities of high-value data in structured format using expensive systems such as a data warehouse (DWH) to being able to capture and store __all__ raw data (both structured and unstructured) in a central repository, and then running various operations and transformations on this comprehensive dataset using tools that were open-source and inexpensive.\n",
    "\n",
    "Hence, these new big data tools were developed to address the below challenges called the \"V's\" of big data:\n",
    "\n",
    "\n",
    "<p align=\"center\">\n",
    "  <img src=\"images/5v.png\" width=600>\n",
    "  <figcaption align=\"center\"><cite>V's of Big Data</cite></figcaption>\n",
    "</p>"
   ]
  },
  {
   "cell_type": "markdown",
   "metadata": {},
   "source": [
    "\n",
    "- __Volume__: \n",
    "    -   The quantity of data is growing, and so is the number of data production sources (such as from Internet of Things devices and machines)\n",
    "<p>\n",
    "\n",
    "- __Variety__: \n",
    "    -   The format of produced data is also evolving.  Now we have:\n",
    "        - Structured: Table-like data organized into rows and columns.  This used to be the standard format for data storage for decades.\n",
    "        - Unstructured: More modern data types including text documents, emails, videos, images, and audio.\n",
    "<p>\n",
    "\n",
    "- __Velocity__: \n",
    "    -   The speed at which the data is arriving (batch initially and real-time more recently)\n",
    "<p>\n",
    "\n",
    "- __Veracity__: \n",
    "    -   The quality of the data (inconsistencies, uncertainties, empty data records etc.)\n",
    "<p>\n",
    "\n",
    "- __Value__: \n",
    "    -   How valuable is the captured data? How to increase its business value?\n",
    "\n",
    "The first true Big data technology was the introduction of Apache Hadoop in 2006. This was a revolutionary step, as it finally enabled the capture, storage and analysis of structured and unstructured data in one centralised location called the data lake.  Hadoop also provided the capabilities to manipulation, transform and explore the data using tools such as:\n",
    "    - Java MapReduce\n",
    "    - HiveQL (which is a SQL-like language)\n",
    "    - Pig Latin (which is a scripting language similar to Bash)"
   ]
  },
  {
   "cell_type": "markdown",
   "metadata": {},
   "source": [
    "## Data Ecosystem and Concepts\n",
    "\n",
    "- The modern data infrastructure consists of various concepts, tools and components to be able to handle the various types of data being generated.\n",
    "- These tools and components are arranged in groupings, with each layer performing a specific activity on the data before passing it on to the next layer\n",
    "- The main layers in the data ecosystem include: \n",
    "    -   Data Storage\n",
    "    -   Data Acquisition\n",
    "    -   Data Processing\n",
    "    -   Data Access\n",
    "    -   Data Management\n",
    "    -   Data Visualisation\n",
    "\n",
    "    Here is an example diagram showing how these layers and their corresponding tools fit in the big picture:\n",
    "\n",
    "    <p align=\"center\">\n",
    "  <img src=\"images/data-architecture.png\" width=600>\n",
    "  <figcaption align=\"center\"><cite>Data Ecosystem Layers</cite></figcaption>\n",
    "</p>\n"
   ]
  },
  {
   "cell_type": "markdown",
   "metadata": {},
   "source": [
    "\n",
    "We'll now briefly explain the role of each layer in the modern data ecosystem depicted above. The data process starts from the bottom and moves up sequentially through each layer:\n",
    "\n",
    "### 1. Data Storage \n",
    "\n",
    "> Data storage, especially within the context of big data, is a compute-and-storage architecture that can be used to collect and manage huge-scale datasets and perform real-time data analysis.\n",
    "\n",
    "In this layer, data that is generated from sources is captured and persisted.  There are several alternatives available for this approach, each one tailored for specific types of data and its related use cases.  The most common types of enterprise data storage components include:\n",
    "\n",
    "#### Data Lakes\n",
    "\n",
    "A data lake is a centralised repository that allows you to store all your structured and unstructured data in one location.  This type of storage approach enables easy scaling to cope with the increasing quantity of data. \n",
    "\n",
    "#### Data Warehouses\n",
    "\n",
    "A data warehouse (DWH), also known as an enterprise data warehouse (EDW), is a system used for reporting and data analysis and is considered a core component of the traditional business intelligence architecture. DWHs are central repositories of integrated and structured data from one or more disparate sources. They store current and historical data in one single place that are used for creating analytical reports.  These types of systems are expensive to maintain and usually store high-value data.\n",
    "\n",
    "#### Cloud Storage\n",
    "\n",
    "Cloud storage is a cloud computing model that stores data on the Internet through a distributed computing provider who manages and operates data storage as a service. It’s delivered on demand with just-in-time capacity and costs, and eliminates buying and managing data storage infrastructure. This gives users the agility, global scale and durability, with “anytime, anywhere” data access.\n"
   ]
  },
  {
   "cell_type": "markdown",
   "metadata": {},
   "source": [
    "### 2. Data Acquisition\n",
    "\n",
    "> Data acquisition is the process of collecting the data from various sources and moving it from point of origin to the target destination.\n",
    "\n",
    "Depending on the type of data being produced, and the frequency of its production, we can classify this layer into two main types:\n",
    "\n",
    "#### Batch Data:\n",
    "\n",
    "This is the acquisition of a vast amount of data at-rest, in its entirety and at the same time.  This approach is usually implemented at regular intervals (such as once per day or once a week) on a full dataset, which includes the historical data plus any new incremental data. An example of batch data is moving a dataset of the entire list of customers for a certain company.\n",
    "       \n",
    "#### Real-time Data:\n",
    "\n",
    "This is the acquisition of continuous data while it's in-motion in very short, near instantaneous intervals as the data arrives from its source. An example of real-time data is mobile application data that is constantly turned on, such as GPS locations."
   ]
  },
  {
   "cell_type": "markdown",
   "metadata": {},
   "source": [
    "### 3. Data Processing\n",
    "\n",
    "> Data processing is, generally, the automated manipulation of raw data and transforming it to produce meaningful information. This is the layer that handles the ETL/ELT operations on the data.\n",
    "\n",
    "Data processing is handled by specialized tools, with the vast majority of these tools being open-source and oftentimes free to download and use.  \n",
    "\n",
    "The most popular industry-ready frameworks are Hadoop (including Yarn), Spark, Flink and Storm. The choice on which framework to use, and even which component within that tool to deploy (as they all come with various modules) is determined by an enterprise system Architect. There are several criteria that support in determining the tool of choice. Some of these criteria include:\n",
    "-   Is the incoming data batch or streaming?\n",
    "-   What is the type of data being captured and stored (structured, unstructured?)\n",
    "-   Where will the data be stored?\n",
    "-   What transformations are required on the data?\n",
    "-   What is the quality of the data?\n",
    "-   What are we expected to do with the data after cleaning and transforming?\n",
    "\n",
    "Once the data passes through the required processing steps, it's ready to be accessed via the required stakeholders as it's now in a cleaned and integrated state."
   ]
  },
  {
   "cell_type": "markdown",
   "metadata": {},
   "source": [
    "### 4. Data Access\n",
    "\n",
    "> Data access refers to the capability to interact with the data once it's been through the data processing steps.  \n",
    "\n",
    "In the data access layer, the aim is to expose the cleaned, integrated and prepared data to the downstream systems and various stakeholders. This can be done via several tools, depending on our objective.  For instance, if we are querying the data for analytics purposes, then we'll use tools such as HiveQL, Spark SQL or Python.  If the goal is to create predictive models, we can use a tool like R, Pandas, and Numpy to create and run these algorithms."
   ]
  },
  {
   "cell_type": "markdown",
   "metadata": {},
   "source": [
    "### 5. Data Management\n",
    "\n",
    "> Data management is the process of managing and synchronizing the data based on requirements.\n",
    "\n",
    "In the data management layer, the objective is to determine what to do next with the data after access is provided.  For instance, it may be required that certain jobs need to run hourly or daily.  In this case, we'll use tools like Oozie or Airflow to create and schedule such jobs and to provide the required parameters.\n",
    "\n",
    "If the requirement is to move or copy the data into another system, we can use Kafka to transport the data to the target system.  If the requirement is to store the data into an enterprise data warehouse (EDW), we can use a tool like Sqoop to place the data there directly.\n",
    "\n",
    "Finally, if the need is to create various dashboards and graphs, we can feed the data to the next (and final) layer, which is the data visualisation layer."
   ]
  },
  {
   "cell_type": "markdown",
   "metadata": {},
   "source": [
    "### 6. Data Visualisation\n",
    "\n",
    "> Data visualisation is the process of displaying data in charts, graphs, maps, and other visual forms. It is used to help people easily understand and interpret their data at a glance, and to clearly show trends and patterns that arise from this data.\n",
    "\n",
    "After the raw data has been through the previous 5 steps, it's now ready to be presented to business leaders and executives.  It's quite common for non-technical professionals to refer to dashboards and graphs to analyze how the business is performing, track metrics and key performance indicators (KPI's) and to monitor the day-to-day operations of the company.  Actually, in reality most data related projects are initiated to at least partially support dashboards and visualisation tools for the top-level business leaders.\n",
    "\n",
    "In this layer, a tool like Tableau can be leveraged to represent the information we have in an easy to understand graphical format.  Some common types of charts include:\n",
    "-   Pie charts\n",
    "-   Bar charts\n",
    "-   Time series charts\n",
    "-   Graphs"
   ]
  },
  {
   "cell_type": "markdown",
   "metadata": {},
   "source": [
    "## What is Data Fabric and why is it important\n",
    "\n",
    "> A data fabric is a novel _data management architecture_ that serves as an integrated layer (fabric) of data and connecting processes. It can optimise access to distributed data and intelligently curate and orchestrate it for self-service delivery to data consumers.\n",
    "\n",
    "Data fabric is a very modern approach to managing the data within large organizations. With a data fabric, you can elevate the value of enterprise data by providing users access to the right data just in time, regardless of where it is stored. A data fabric architecture is agnostic to data environments, data processes, data use and geography, while integrating core data management capabilities. It automates data discovery, data governance and consumption, delivering business-ready data for analytics and AI.\n",
    "\n",
    "Top performing enterprises are data driven. However, several challenges block them from fully exploiting all data:\n",
    "- Lack of data access. \n",
    "- Numerous data sources and data types. \n",
    "- Data integration complexities. \n",
    "\n",
    "\n",
    "Research shows that up to 74% of data is not analyzed in most organizations and up to 82% of enterprises are inhibited by data silos.  \n",
    "\n",
    "With a data fabric, business users and data scientists can access trusted data faster for their applications, analytics, AI and machine learning models, and business process automation, helping to improve decision-making and drive digital transformation. Technical teams can use a data fabric to radically simplify data management and governance in complex hybrid and multi-cloud data landscapes while significantly reducing costs and risk.\n",
    "\n",
    "Data fabric enables a permanent and scalable mechanism for business to consolidate all its data under the umbrella of one unified platform. It leverages storage and processing power from multiple heterogeneous nodes to enable enterprise-wide access to all data assets of an enterprise. According to Forrester, a big data fabric assists enterprises to “…quickly ingest, transform, curate, and prepare streaming and batch data to support a real-time trusted view of the customer and the business.” *\n",
    "\n",
    "Furthermore, big data fabric enables companies to:\n",
    "\n",
    "-   Effectively consolidate data assets with on-premises and Cloud data sources, for a complete view of enterprise-wide information.\n",
    "-   Gain access to the latest data in real-time.\n",
    "-   Easily onboard new big data systems and retire legacy systems, while keeping business systems running continuously without disruption.\n",
    "-   From a problem-solving perspective, data fabric overcomes the challenges of insufficient data availability, unreliability of data storage and security, siloed data, poor scalability, and reliance on underperforming legacy systems."
   ]
  },
  {
   "cell_type": "markdown",
   "metadata": {},
   "source": [
    "Below is what a typical data fabric ecosystem would look like in a global company:\n",
    "\n",
    "   <p align=\"center\">\n",
    "  <img src=\"images/data-fabric.png\" width=600>\n",
    "  <figcaption align=\"center\"><cite>Big Data Fabric Ecosystem</cite></figcaption>\n",
    "</p>\n"
   ]
  },
  {
   "cell_type": "markdown",
   "metadata": {},
   "source": [
    "## Key Takeaways\n",
    "\n",
    "- Big data can be defined using the 5 V's: volume, velocity, variety, veracity and value\n",
    "- Big data is different from traditional data, as it comes in both structured and unstructured formats and the data arrives in various velocities in accelerating quantities\n",
    "- Traditional relational database and data warehouse models were well suited for structured data with low volumes, however such systems are expensive to maintain, and can't handle unstructured data. This is why they are currently being augmented with more modern big data tools.\n",
    "- The modern data ecosystem is composed of 6 layers, namely: storage, acquisition, processing, modelling, management and administration. Data must flow sequentially from the first layer (data storage) till the last layer (visualisation) and each layer performs a specific function on the data.\n",
    "- Each of the 6 layers of the modern data ecosystem has specific tools that have become the industry standard\n",
    "- In the data storage layer, cloud data storage is quickly becoming the dominant trend in industry"
   ]
  }
 ],
 "metadata": {
  "kernelspec": {
   "display_name": "Python 3.9.0 64-bit",
   "language": "python",
   "name": "python3"
  },
  "language_info": {
   "name": "python",
   "version": "3.9.0"
  },
  "orig_nbformat": 4,
  "vscode": {
   "interpreter": {
    "hash": "aee8b7b246df8f9039afb4144a1f6fd8d2ca17a180786b69acc140d282b71a49"
   }
  }
 },
 "nbformat": 4,
 "nbformat_minor": 2
}
