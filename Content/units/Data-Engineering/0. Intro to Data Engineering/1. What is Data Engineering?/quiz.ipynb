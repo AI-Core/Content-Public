{
 "cells": [
  {
   "attachments": {},
   "cell_type": "markdown",
   "metadata": {},
   "source": [
    "# What is Data Engineering?"
   ]
  },
  {
   "attachments": {},
   "cell_type": "markdown",
   "metadata": {},
   "source": [
    "## What is does the term Big Data mean?\n",
    "\n",
    "- Big Data is data which consisting of data types which can be large in length: strings, big integers etc.\n",
    "- Big Data refers to data that is so large, fast and complex that it’s difficult or impossible to process using traditional tools ***\n",
    "- Big Data is data which can only be stored in the cloud\n",
    "- Big Data is specifically data which needs to be stored on multiple "
   ]
  },
  {
   "attachments": {},
   "cell_type": "markdown",
   "metadata": {},
   "source": [
    "## What are the five Vs of Big Data?\n",
    "\n",
    "- Velocity, volume, variability, verbosity and veracity\n",
    "- Velocity, volume, value, variety and veracity ***\n",
    "- Velocity, volume, value, verbosity and veracity\n",
    "- Velocity, volume, value, variety and versatility\n",
    "- Visibility, volume, value, variety  and versatility"
   ]
  },
  {
   "attachments": {},
   "cell_type": "markdown",
   "metadata": {},
   "source": [
    "## What is meant by the term Data Warehouse?\n",
    "\n",
    "- A data warehouse is where all the servers that store a company's data are housed\n",
    "- A data warehouse is a warehouse that keeps all redundant hard disks previously used by a company\n",
    "- A data warehouse is a system used for reporting and data analysis. It is considered a core component of the traditional business intelligence architecture. ***\n",
    "- A data warehouse is a database that exists in the cloud\n",
    "- A data warehouse is a database specifically used for operations data"
   ]
  },
  {
   "attachments": {},
   "cell_type": "markdown",
   "metadata": {},
   "source": [
    "## What does the term Data Lake mean?\n",
    "\n",
    "- A data lake is a special type of database developed by the LakeHouse group\n",
    "- A data lake is a connection of databases all linked together storing all your structured and unstructured data \n",
    "- A data lake is a centralised repository that allows you to store all your structured and unstructured data ***\n",
    "- A data lake is centralised repository for storing structured data only\n",
    "- A data lake is a decentralised repository that allows you to store all your structured and unstructured data "
   ]
  },
  {
   "attachments": {},
   "cell_type": "markdown",
   "metadata": {},
   "source": [
    "## Which of the following is true about batch and real-time data? Select all that apply.\n",
    "\n",
    "- Both are continuously collected and processed \n",
    "- Real-time data is processed continuously and batch data is processed at regular intervals ***\n",
    "- The size of batch data is usually larger than real-time data ***\n",
    "- Real-time data can contain full datasets while batch data can only contain small amounts of data\n",
    "- An example of real-time data is processing all customer details for the day all at once"
   ]
  },
  {
   "attachments": {},
   "cell_type": "markdown",
   "metadata": {},
   "source": [
    "## What is true about Data Management? Select all that apply.\n",
    "\n",
    "- Data management is the process of managing and synchronizing the data based on requirements ***\n",
    "- In the data management layer you might schedule data processing jobs ***\n",
    "- In the data management layer you wouldn't decide on where to store data\n",
    "- In the data management layer you wouldn't decide on how to transport your data to another system\n",
    "- Data management is the step after data visualisation"
   ]
  },
  {
   "attachments": {},
   "cell_type": "markdown",
   "metadata": {},
   "source": [
    "## What is true about Data Access? Select all that apply.\n",
    "\n",
    "- In the data access layer you decide how to make the data available to those that might consume the data ***\n",
    "- In the data access layer the data hasn't been processed yet\n",
    "- The data access layer is where you prepare data to be accessible downstream in the system ***\n",
    "- The data access layer comes before the data processing layer\n",
    "- Data access is usually performed using tools like Spark and Flink\n",
    "- You will normally use one tool and one tool only in the data access layer"
   ]
  },
  {
   "attachments": {},
   "cell_type": "markdown",
   "metadata": {},
   "source": [
    "## Whats true about data visualisation? Select all that apply.\n",
    "\n",
    "- Data visualisation is the process of visualising the data to help stakeholders more easily interpret it ***\n",
    "- Data visualisation is the process of visualising data in a data warehouse\n",
    "- Data visualisation can involve making dashboards ***\n",
    "- Data visualisation data is most important to show data engineers how much data is in the system\n",
    "- Data visualisation is normally only performed by data engineers"
   ]
  }
 ],
 "metadata": {
  "kernelspec": {
   "display_name": "Python 3",
   "language": "python",
   "name": "python3"
  },
  "language_info": {
   "name": "python",
   "version": "3.10.6"
  },
  "orig_nbformat": 4,
  "vscode": {
   "interpreter": {
    "hash": "916dbcbb3f70747c44a77c7bcd40155683ae19c65e1c03b4aa3499c5328201f1"
   }
  }
 },
 "nbformat": 4,
 "nbformat_minor": 2
}
