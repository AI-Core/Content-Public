{
 "cells": [
  {
   "cell_type": "markdown",
   "metadata": {},
   "source": [
    "# NoSQL - Document-oriented\n",
    "\n",
    "> A document-oriented data store maintains information within documents like CML, YAML or JSON rather than storing data as rows and columns. To organize these documents in one unit, there is a specific key assigned to each document. They are currently one of the most popular types of NoSQL used by global companies.\n",
    "\n",
    "A _document_ is a record in a document data store. A document typically stores all the information about _one object_ and any of its related metadata. Documents store data in key-value pairs. The values can be a variety of types and structures, including strings, numbers, dates, arrays, or objects. Documents can be stored in formats like JSON, BSON, and XML. We can consider this type of NoSQL as a more complex version of the key-value data store.\n",
    "\n",
    "To help visualise what this looks like, below is a JSON document that stores information about a user named _Tom_:\n",
    "\n",
    "<p align=\"center\">\n",
    "  <img src=\"images/document.png\" width=600>\n",
    "  <figcaption align=\"center\"><cite>JSON Document</cite></figcaption>\n",
    "</p>\n",
    "\n",
    "\n",
    "Even though document stores do not have a unified schema, they are usually organized in a way to enable easy access and analysis of the data. This means they can be considered to be semi-structured data. Seeing that each complete object is commonly stored in a single document, there is generally no need for defining relationships between documents. \n",
    "\n",
    "These documents are in no way similar to tables of a relational database; they do not have a set number of fields, strict rules on data types, etc. Missing data is simply omitted rather than there being an empty field or NULL values. Data can be added, edited, removed and queried relatively easily.\n",
    "\n",
    "The _keys_ assigned to each document are unique identifiers required to access data within the data store, usually a path, string or a uniform resource identifier. IDs tend to be automatically incrementing indices (the 3rd row will have an id = 3) rather than UUIDs to speed up data retrieval. \n",
    "\n",
    "The content of documents within a document store is usually specified in _metadata_ files corresponding to each document. They allow document data stores \"understand\" the structure of the corresponding document information -- whether a field contains addresses, phone numbers, or social security numbers and so on. \n",
    "\n",
    "## Querying in Document Data Stores vs SQL\n",
    "For improved efficiency and user experience, many document stores have query languages, which allow querying documents based on the metadata or the actual document content. \n",
    "\n",
    "To help us better understand how querying works in a document-oriented data store, let's look at an example of how to retrieve data from a SQL database and the equivalent script from MongoDB, one of the most popular document data stores.\n",
    "\n",
    "Let's assume we have a table called `inventory`.  To select all records from `inventory`, we would use the following SQL statement:"
   ]
  },
  {
   "cell_type": "code",
   "execution_count": null,
   "metadata": {},
   "outputs": [],
   "source": [
    "SELECT * FROM inventory "
   ]
  },
  {
   "cell_type": "markdown",
   "metadata": {},
   "source": [
    "In MongoDB (one of the most popular Document stores), the corresponding code to select all _documents_ in a collection would be:"
   ]
  },
  {
   "cell_type": "code",
   "execution_count": null,
   "metadata": {},
   "outputs": [],
   "source": [
    "db.inventory.find( {} )"
   ]
  },
  {
   "cell_type": "markdown",
   "metadata": {},
   "source": [
    "Now, let's assume we want to add a filter to to our query to select only the data which has `name = AiCore`. \n",
    "\n",
    "In SQL, we would use the following code:"
   ]
  },
  {
   "cell_type": "code",
   "execution_count": null,
   "metadata": {},
   "outputs": [],
   "source": [
    "SELECT * FROM inventory\n",
    "WHERE name = 'AiCore'"
   ]
  },
  {
   "cell_type": "markdown",
   "metadata": {},
   "source": [
    "The corresponding code in MongoDB would be:"
   ]
  },
  {
   "cell_type": "code",
   "execution_count": null,
   "metadata": {},
   "outputs": [],
   "source": [
    "db.inventory.find( { name: \"AiCore\" } )"
   ]
  },
  {
   "cell_type": "markdown",
   "metadata": {},
   "source": [
    "## Strengths of Document-Oriented Data Stores\n",
    "\n",
    "- __Flexibility__: \n",
    "    - Documents of one data store do not require a specific schema or have to be of the same type\n",
    "    - A flexible schema means that the data model can evolve as the requirements change\n",
    "<p></p>\n",
    "\n",
    "- __Easy to update__:\n",
    "    -  With document stores, you can add new pieces of information easily to specific documents only \n",
    "    -  In contrast, in a relational database, new pieces of information might affect other tables as well\n",
    "<p></p>\n",
    "\n",
    "- __Improved read and write speed compared to relational databases__:\n",
    "    -   In NoSQL document stores you can find everything you need within one document. With everything kept in a single location, it is much faster to reach and retrieve the data.\n",
    "        - One reason for that is the schemaless architecture. As there is no schema, adding or updating data doesn't require any upfront validations (as is the case in a SQL database). This provides a larger count of write operations per second.\n",
    "        - Another reason is that due to data normalization in SQL databases, many joins might be required to retrieve data. Joins are resource-intensive operations. In document data stores, no joins are required as the related data is generally stored as it is in one big document.\n",
    "    - This, of course, is a trade-off.\n",
    "<p></p>\n",
    "\n",
    "- __Rich API's and query languages__:\n",
    "    -   Due to the popularity of document-oriented data stores, there is a wide variety of industry-grade API's and querying tools available to use. Other NoSQL stores do not have such tools.\n",
    "\n",
    "## Limitations of Document-Oriented Data Stores\n",
    "- __Document size limit__:\n",
    "    -   The popular document data stores usually have a limit on the size of each document it can store. For example, MongoDB has a limit of 16mb as the maximum size per document. If the size exceeds this limit, we'll need to create an additional document which can be a hassle.\n",
    "<p></p>\n",
    "\n",
    "- __Difficulty joining documents__:\n",
    "    -   Implementing joins in document data stores can be very difficult or even impossible (depending on how the data is structured)\n",
    "<p></p>\n",
    "\n",
    "- __High disk storage usage__:\n",
    "    -   Due to data replication for backups, there is an increase in data redundancy which requires more disk storage and is obviously more costly\n",
    "\n",
    "## Top Use Cases\n",
    "\n",
    "- __Content management systems (CMS)__:\n",
    "\n",
    "Due to their flexible schema, document data stores are ideal for storing and analysing any type of data including images and videos in real-time. This makes them a perfect choice for storing and querying media-content (like images, text, etc.) efficiently, like you might find in an online store such as eBay or Amazon.\n",
    "<p></p>\n",
    "\n",
    "- __Mobile apps__:\n",
    "\n",
    "Due to their ability to support real-time big data, and the ease of scaling out vertically and horizontally, document data stores are an ideal choice for companies that need to collect mobile application data from millions of users. One such company is the Weather Channel, which uses a MongoDB data store to handle millions of requests per minute while also simultaneously processing user data and weather update information obtained from thousands of data sources globally.\n",
    "\n",
    "## Popular Document Data Stores\n",
    "\n",
    "- [MongoDB](https://www.mongodb.com/)\n",
    "- [CouchDB](https://couchdb.apache.org/)"
   ]
  },
  {
   "cell_type": "markdown",
   "metadata": {},
   "source": [
    "## Key Takeaways\n",
    "\n",
    "- Document-oriented data stores are currently one of the most popular types of NoSQL used in industry\n",
    "- A document-oriented data store maintains information within documents like CML, YAML or JSON rather than storing data as rows and columns\n",
    "- A document typically stores all the information about _one object_ and any of its related metadata\n",
    "- Document-oriented data stores are flexible, easy to update, fast and have a wide variety of APIs available to connect with other tools\n",
    "- On the other hand, they have some limitations especially regarding the document size limit and the lack of document JOINing capability (which SQL easily provides)\n",
    "- MongoDB and CouchDB are currently 2 of the most widely used Document-oriented data stores in industry\n"
   ]
  }
 ],
 "metadata": {
  "language_info": {
   "name": "python"
  }
 },
 "nbformat": 4,
 "nbformat_minor": 2
}
