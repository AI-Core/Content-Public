{
 "cells": [
  {
   "cell_type": "markdown",
   "metadata": {},
   "source": [
    "# NoSQL - Columnar-Oriented\n",
    "\n",
    "> Column-based (sometimes called wide-column-based) are another type of NoSQL data store. In column-oriented stores, data is stored in _cells_ grouped in columns of data rather than as rows of data, like we are used to in relational databases.\n",
    "\n",
    "Using a columnar data store provides certain benefits over traditional relational databases.  One of the main benefits is the faster read-query performance because the column design keeps the data physically closer together, which reduces the seek time especially when only certain columns are required.  Another benefit is that columnar data stores are more efficient at compressing data (since it's closer together) and can have better compression ratios over relational databases.  \n",
    "\n",
    "\n",
    "Relational databases have a set schema, and they function as tables of rows and columns. Wide-column data stores have a similar, but different schema. They also have rows and columns. However, they are not fixed within a table, but rather have a _dynamic_ schema. Each column is stored separately. If there are similar (related) columns, they are joined into _column families_ and then the column families are stored separately from other column families. \n",
    "\n",
    "To help visualise this, take a look at the below diagram (note how the data is stored):\n",
    "\n",
    "<p align=\"center\">\n",
    "  <img src=\"images/columnar.png\" width=600>\n",
    "  <figcaption align=\"center\"><cite>Comparing Columnar to Relational Databases</cite></figcaption>\n",
    "</p>\n",
    "\n",
    "The _rowkey_ is the first column in each column family, and it serves as an identifier of a row. Furthermore, each column after that has a column key (name). It identifies columns within rows and thus enables the querying of the columns. Column families can contain a virtually unlimited number of columns that can be created at runtime or while defining the schema. Read and write is done using columns rather than rows. Column families are groups of similar data that is usually accessed together. As an example, we often access customer names and profile information at the same time, but not the information on their orders. \n",
    "\n",
    "Here is an example of what a rowkey looks like:\n",
    "\n",
    "<p align=\"center\">\n",
    "  <img src=\"images/columnar-row-key.png\" width=600>\n",
    "  <figcaption align=\"center\"><cite>RowKey Example</cite></figcaption>\n",
    "</p>\n",
    "\n",
    "Now, let's look at a real example with some data. Below are 3 records containing `User Profile` information:\n",
    "- We can see that we have 3 rowkeys (Bob, Britney and Tori)\n",
    "- For each _rowkey_, we have a number of columns. Each column consists of a name (key) and some values. \n",
    "- Note that for the first rowkey (Bob), we have 3 columns (emailAddress, gender and age)\n",
    "- For the second rowkey (Britney), we only have 2 columns (emailAddress and gender)\n",
    "- For the third rowkey (Tori), we have 3 columns, but _2 are different_ from all the other rowkeys (country and hairColor)\n",
    "\n",
    "This column flexibility is an example of the schema-less architecture mentioned earlier. In a relational database, such a scenario could not happen as the data must matcha pre-defined schema or it otherwise will not be loaded into the table.\n",
    "\n",
    "<p align=\"center\">\n",
    "  <img src=\"images/columnar-user-profile.png\" width=600>\n",
    "  <figcaption align=\"center\"><cite>Rowkeys and Columns of User Profile</cite></figcaption>\n",
    "</p>\n",
    "\n",
    "<p></p>\n",
    "\n",
    "Columns are logically grouped into _column families_. As mentioned earlier, this architecture optimizes the data store for fast retrieval of columns of data, rather than rows of data. Columnar data stores use the concept of _keyspace_, which is similar to a schema in relational models. This keyspace contains all the column families, which then contain rows, which then contain columns. See the below diagram to help visualise this:\n",
    "\n",
    "<p align=\"center\">\n",
    "  <img src=\"images/columnar-keyspace.png\" width=600>\n",
    "  <figcaption align=\"center\"><cite>Keyspace</cite></figcaption>\n",
    "\n",
    "</p>\n",
    "\n",
    "\n",
    "Columnar data stores are most often utilised when there is a need for a large data model. Because they can store this large data model they are often used as data warehouses. They can also be appropriate when there is a need for running complex queries that for example, filter based on values. This would not be possible with a key-value data store.\n",
    "\n",
    "## Querying a Column-Oriented Data Store vs SQL\n",
    "\n",
    "For improved efficiency and user experience, many column-oriented data stores have query languages, which allow querying data stored in the table using the _column family_.\n",
    "\n",
    "Let's look at an example to better understand this point. Assume we have a SQL table called `employee` which stores staff data. In SQL, to select all records that belong to a particular employee who has an id = 10, we would use the following command:\n"
   ]
  },
  {
   "cell_type": "code",
   "execution_count": null,
   "metadata": {},
   "outputs": [],
   "source": [
    "SELECT * FROM employee\n",
    "WHERE id = 10"
   ]
  },
  {
   "cell_type": "markdown",
   "metadata": {},
   "source": [
    "The equivalent query in HBase (assuming that the _rowkey_ is the employee id) would become:"
   ]
  },
  {
   "cell_type": "code",
   "execution_count": null,
   "metadata": {},
   "outputs": [],
   "source": [
    "get 'employee', '10'"
   ]
  },
  {
   "cell_type": "markdown",
   "metadata": {},
   "source": [
    "## Strengths of Column-Oriented Data Stores\n",
    "\n",
    "- __Efficient in online analytical processing (OLAP) scenarios__:\n",
    "  - Due to nature of its design, columnar data stores are very fast in OLAP systems\n",
    "  - This is because OLAP operates on data aggregations, which fits nicely with a column-based design\n",
    "<p></p>\n",
    "\n",
    "- __Able to store complex data models__:\n",
    "  - Able to act as a data warehouse\n",
    "  - Enables complex queries to be run faster. This is because instead of looking row by row, we can skip over non-required fields and focus only on the relevant columns.\n",
    "<p></p>\n",
    "\n",
    "- __Compression__:\n",
    "  - Not only are they infinitely scalable, but they are also good at compressing data and thus saving storage\n",
    "  - Column data is of a uniform type, which provides an opportunity for storage-size optimizations. For instance, missing values and duplicates can be represented by a 2-bit marker which helps to save space.\n",
    "  - Self-indexing features use less disk space than indexing in relational databases, which helps to save disk storage space\n",
    "  - Popular compression techniques include Dictionary encoding and Run-length encoding. When used on columnar data stores, they provide much better compression results when compared to row-based relational databases.\n",
    " \n",
    "\n",
    "## Limitations of Column-Oriented Data Stores\n",
    "\n",
    "- __Poor Online transactional processing (OLTP) performance__:\n",
    "  - Columnar NoSQL are not very efficient with online transactional processing as much as they are for online analytical processing (OLAP). OLTP are best served with row-based structures such as the traditional relational database.\n",
    "  - This means they are not quick at updating (writing) data but rather are designed to quickly analyse them\n",
    "<p></p>\n",
    "\n",
    "- __Incremental data loading__:\n",
    "  - While incremental data loads are not impossible, columnar data stores do not perform them in the most efficient way\n",
    "  - The columns first need to be scanned to identify the right rows and scanned further to locate the modified data which requires overwriting\n",
    "<p></p>\n",
    "\n",
    "- __Row-specific queries__:\n",
    "  -  Frequent queries that involve data existing in an entire row might cause performance issues by slowing down a column-oriented data store\n",
    "  \n",
    "## Top Use Cases\n",
    "\n",
    "- __Telecom call detail records__:\n",
    "  - Telecom companies need to store billions of logs of recorded customer phone calls. One telecom operator had a requirement to store this continuously growing dataset (20 Terabytes are added monthly) and query this data in real-time. As a mature technology that is extremely cheap but still provides the ability to query data, Hbase was selected as the tool of choice.\n",
    "<p></p>\n",
    "\n",
    "- __IoT data monitoring__:\n",
    "  - Blackberry had a requirement to set up a cutting edge IoT platform that was reliable, secure and scalable. This platform was to be used to store and analyse real-time machine data. Apache Cassandra (a columnar store) was selected as the tool of choice.\n",
    "\n",
    "## Popular Columnar Data Stores\n",
    "\n",
    "- [HBase](https://hbase.apache.org/)\n",
    "- [Cassandra](https://cassandra.apache.org/_/index.html)\n"
   ]
  },
  {
   "cell_type": "markdown",
   "metadata": {},
   "source": [
    "## Key Takeaways\n",
    "\n",
    "- Columnar data stores are another popular type of NoSQL tools that are widely used in industry\n",
    "- Data is stored in cells, which are grouped in terms of columns rather than as rows of data (which is the approach traditional relational databases use)\n",
    "- The _row key_ is always the first column in each column group (also called a column family). This key is used to uniquely identify rows.\n",
    "- Columnar data stores are efficient for reading big data, storing large and complex data, have good compression systems to save disk space, and can be used as a companies' primary data repository\n",
    "- On the other hand, they are not very efficient for updating data quickly, in cases where extensive incremental data loads are required, and if there are row-specific queries (which are better handled by relational databases)\n",
    "- Two of the most popular Columnar data stores are: HBase and Cassandra"
   ]
  }
 ],
 "metadata": {
  "language_info": {
   "name": "python"
  },
  "orig_nbformat": 4
 },
 "nbformat": 4,
 "nbformat_minor": 2
}
