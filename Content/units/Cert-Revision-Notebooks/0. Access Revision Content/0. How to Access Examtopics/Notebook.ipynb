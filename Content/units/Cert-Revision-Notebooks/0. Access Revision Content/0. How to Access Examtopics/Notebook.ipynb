{
 "cells": [
  {
   "cell_type": "markdown",
   "metadata": {},
   "source": [
    "# How to Access Examtopics"
   ]
  },
  {
   "cell_type": "markdown",
   "metadata": {},
   "source": [
    "\n",
    "You should have received an email with a link to access the Examtopics credentials. If you have not received a link, please raise a support ticket. \n",
    "\n",
    "Once you receive your email, click the link, and it will take you to an access window where you need to enter your email address:\n",
    "\n",
    "<br><p align=center><img src=images/verify.gif width=900></p><br>\n",
    "\n"
   ]
  },
  {
   "cell_type": "markdown",
   "metadata": {},
   "source": [
    "This will generate a verification email to be sent to the address you entered.\n",
    "\n",
    "Go to the email, and find the one-time code:\n",
    "\n",
    "<br><p align=center><img src=images/one-time-code.png width=900></p><br>\n",
    "\n",
    "Then paste it into the verification box on the access window:\n",
    "\n",
    "<br><p align=center><img src=images/paste-code.png width=900></p><br>"
   ]
  },
  {
   "cell_type": "markdown",
   "metadata": {},
   "source": [
    "Once the code has been accepted, the username and password for accessing the site will be revealed:\n",
    "\n",
    "<br><p align=center><img src=images/creds.png width=900></p><br>\n",
    "\n",
    "**Store the login details somewhere safe, such as a password manager**"
   ]
  }
 ],
 "metadata": {
  "language_info": {
   "name": "python"
  }
 },
 "nbformat": 4,
 "nbformat_minor": 2
}
