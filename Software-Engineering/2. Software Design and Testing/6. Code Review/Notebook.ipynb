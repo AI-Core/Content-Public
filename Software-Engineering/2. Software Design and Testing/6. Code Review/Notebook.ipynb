{
 "cells": [
  {
   "cell_type": "markdown",
   "metadata": {},
   "source": [
    "# Code Review"
   ]
  },
  {
   "cell_type": "markdown",
   "metadata": {},
   "source": [
    "You learnt how to structure your code, separate concerns in different functions, methods and classes, and in different files. You also know how to check that your code is working as expected, and you created packages that you are able to publich now.\n",
    "\n",
    "That is a lot of things!\n",
    "\n",
    "With so many steps, it would be natural that your code might present errors that are not explicitly found by your tests, for example:\n",
    "\n",
    "1. Is your code performing at its best?\n",
    "2. Is your code complying with the PEP8 rules?\n",
    "3. Is your code flexible enough? Does it accept new functionalities without changing small abstracted functions?\n",
    "\n",
    "These elements are easy to check as you write your code, but as your program starts growing, you might miss some of them. That is where code review comes into play.\n",
    "\n",
    "> ## Code review is the process of checking that your code passes non-functional testing"
   ]
  },
  {
   "cell_type": "markdown",
   "metadata": {},
   "source": [
    "When reviewing the code, we want other people to understand it easily, as well as not implementing really complex algorithms that don't fit that situation or that can be changed for much simpler ones. \n",
    "\n",
    "So, try to get a feedback like the one on the left door:\n",
    "\n",
    "<p align=\"center\">\n",
    "  <img width=\"460\" alt=\"Doors\" src=\"images/code_wtf.png\">\n",
    "</p>\n"
   ]
  },
  {
   "cell_type": "markdown",
   "metadata": {},
   "source": [
    "# Styling Review"
   ]
  },
  {
   "cell_type": "markdown",
   "metadata": {},
   "source": [
    "When your work can affect other people's code, it is important to follow some conventions, to they can easily read your code without making them wasting time trying to understand what is going on. \n",
    "\n",
    "By now, you already know the PEP8 style guide, which establishes a set of rules that your code should comply with. However there are many things to remember! You should be able to write a decent code without any IDE, but still, some trailing whitespaces, blank lines, small typos... are inevitable.\n",
    "\n",
    "If you are coding using an IDE, you can install `autopep8`, which applies most of the rules in the PEP8 guide automatically. \n",
    "\n",
    "### Try it out\n",
    "\n",
    "The code below runs with no issues, but it looks awful! Try pressing `Shift` + `Alt` + `F`, to see some magic going on!"
   ]
  },
  {
   "cell_type": "code",
   "execution_count": 3,
   "metadata": {},
   "outputs": [],
   "source": [
    "x = 4\n",
    "y = x\n",
    "\n",
    "\n",
    "def func(n=6):\n",
    "\n",
    "    print(n)\n",
    "\n",
    "    return n\n"
   ]
  },
  {
   "cell_type": "markdown",
   "metadata": {},
   "source": [
    "However, `autopep8` doesn't detect some issues, such as not used libraries, which would consume space in memory"
   ]
  },
  {
   "cell_type": "code",
   "execution_count": null,
   "metadata": {},
   "outputs": [],
   "source": [
    "import pandas as pd\n",
    "import numpy as np\n",
    "\n",
    "x = 4\n",
    "y = x\n",
    "\n",
    "\n",
    "def func(n = 6):\n",
    "\n",
    "    print(n)\n",
    "    return n"
   ]
  },
  {
   "cell_type": "markdown",
   "metadata": {},
   "source": [
    "Thus, some of these issues have to be manually solved. But detecting it doesn't have to be always done manually, and you can rely on linters.\n",
    "\n",
    "> ## Linters are automated checkers of code for programmatic and stylistic errors.\n",
    "\n",
    "So, if your linter finds something suspicious, it will flag it as an error or as a warning.\n",
    "\n",
    "By default, VSCode has different linters you can use. You can check and select on by simply looking at the `Command Palette` (`Ctrl`+`Shift`+`P` on Windows, or `Cmd`+`Shift`+`P` on Mac) and typing 'Select Linter'\n",
    "\n",
    "A favourite one by the community is `flake8`, which in many cases is not installed by default\n",
    "\n",
    "You can install linters in your IDE from the `Extensions` tab <img src=\"images/Extensions.png\" alt=\"Extension\" width=\"40\"/>. If you can't find it you can search for it on the `Command Palette` and type `linter`, and select `Select Linter`."
   ]
  },
  {
   "cell_type": "markdown",
   "metadata": {},
   "source": [
    "Once installed, select it from the `Command Palette` and open the following file:\n",
    "\n"
   ]
  },
  {
   "cell_type": "code",
   "execution_count": null,
   "metadata": {},
   "outputs": [],
   "source": [
    "!wget https://aicore-files.s3.amazonaws.com/Foundations/Software_Engineering/celebrities_bad.py"
   ]
  },
  {
   "cell_type": "markdown",
   "metadata": {},
   "source": [
    "`celebrities_bad.py` is an example in which you can take a look at flake8 is flagging the styling and importing errors."
   ]
  },
  {
   "cell_type": "markdown",
   "metadata": {},
   "source": [
    "# Performance Review"
   ]
  },
  {
   "cell_type": "markdown",
   "metadata": {},
   "source": [
    "You should be able to spot performance errors that cause big time complexities and space complexities by now. Remember the techniques we covered during Module 1 (`Algorithms and Data Structures`). Some tips are:\n",
    "\n",
    "1. Does your code have too many nested loops? Is it using Recursion? Would your code benefit from Stacks, Queues, or Deques to improve the memory allocation? Don't forget to find bottlenecks using the modules `timeit` or `cProfile`\n",
    "\n",
    "2. Usually, some algorithms such as, searching and sorting, are implemented pretty nicely in Python, but maybe you don't need to use them at all if you are using the right data structure. \n",
    "\n",
    "3. Remember that data structures with unique values, such as sets and dictionaries have a better time complexity when you have to find an element in it\n",
    "\n",
    "4. When possible, use comprehension lists, they save time and space\n",
    "\n",
    "5. If you have a really extensive list, consider using generators instead\n",
    "\n",
    "6. Python offers many libraries that can save time and space in your code. Remember to look at the functools, itertools, and collections libraries!"
   ]
  },
  {
   "cell_type": "markdown",
   "metadata": {},
   "source": [
    "# Robustness Review"
   ]
  },
  {
   "cell_type": "markdown",
   "metadata": {},
   "source": [
    "Your code should be flexible enough so that if you make any change to the inputs of your functions, the code still works. For example, take a look at this code:"
   ]
  },
  {
   "cell_type": "code",
   "execution_count": 1,
   "metadata": {},
   "outputs": [
    {
     "name": "stdout",
     "output_type": "stream",
     "text": [
      "This\n",
      "is\n",
      "just\n",
      "an\n",
      "example\n"
     ]
    }
   ],
   "source": [
    "def separate_string(x: str):\n",
    "    my_ls = x.split('-')\n",
    "    for item in my_ls:\n",
    "        print(item)\n",
    "\n",
    "x = 'This-is-just-an-example'\n",
    "separate_string(x)"
   ]
  },
  {
   "cell_type": "markdown",
   "metadata": {},
   "source": [
    "That worked fine, but what if we pass the following string:"
   ]
  },
  {
   "cell_type": "code",
   "execution_count": 7,
   "metadata": {},
   "outputs": [
    {
     "name": "stdout",
     "output_type": "stream",
     "text": [
      "This\n",
      "is another \n",
      " example\n"
     ]
    }
   ],
   "source": [
    "x = 'This-is another - example'\n",
    "separate_string(x)"
   ]
  },
  {
   "cell_type": "markdown",
   "metadata": {},
   "source": [
    "The function is not working as expected, and even worse, take a look at the following snippet:"
   ]
  },
  {
   "cell_type": "code",
   "execution_count": 8,
   "metadata": {},
   "outputs": [
    {
     "ename": "AttributeError",
     "evalue": "'list' object has no attribute 'split'",
     "output_type": "error",
     "traceback": [
      "\u001b[0;31m---------------------------------------------------------------------------\u001b[0m",
      "\u001b[0;31mAttributeError\u001b[0m                            Traceback (most recent call last)",
      "\u001b[0;32m<ipython-input-8-d009d0427afb>\u001b[0m in \u001b[0;36m<module>\u001b[0;34m\u001b[0m\n\u001b[1;32m      1\u001b[0m \u001b[0mx\u001b[0m \u001b[0;34m=\u001b[0m \u001b[0;34m[\u001b[0m\u001b[0;34m'This is an-example'\u001b[0m\u001b[0;34m,\u001b[0m \u001b[0;34m'Second example- to be printed'\u001b[0m\u001b[0;34m]\u001b[0m\u001b[0;34m\u001b[0m\u001b[0;34m\u001b[0m\u001b[0m\n\u001b[0;32m----> 2\u001b[0;31m \u001b[0mseparate_string\u001b[0m\u001b[0;34m(\u001b[0m\u001b[0mx\u001b[0m\u001b[0;34m)\u001b[0m\u001b[0;34m\u001b[0m\u001b[0;34m\u001b[0m\u001b[0m\n\u001b[0m",
      "\u001b[0;32m<ipython-input-6-ec05f006499c>\u001b[0m in \u001b[0;36mseparate_string\u001b[0;34m(x)\u001b[0m\n\u001b[1;32m      1\u001b[0m \u001b[0;32mdef\u001b[0m \u001b[0mseparate_string\u001b[0m\u001b[0;34m(\u001b[0m\u001b[0mx\u001b[0m\u001b[0;34m:\u001b[0m \u001b[0mstr\u001b[0m\u001b[0;34m)\u001b[0m\u001b[0;34m:\u001b[0m\u001b[0;34m\u001b[0m\u001b[0;34m\u001b[0m\u001b[0m\n\u001b[0;32m----> 2\u001b[0;31m     \u001b[0mmy_ls\u001b[0m \u001b[0;34m=\u001b[0m \u001b[0mx\u001b[0m\u001b[0;34m.\u001b[0m\u001b[0msplit\u001b[0m\u001b[0;34m(\u001b[0m\u001b[0;34m'-'\u001b[0m\u001b[0;34m)\u001b[0m\u001b[0;34m\u001b[0m\u001b[0;34m\u001b[0m\u001b[0m\n\u001b[0m\u001b[1;32m      3\u001b[0m     \u001b[0;32mfor\u001b[0m \u001b[0mitem\u001b[0m \u001b[0;32min\u001b[0m \u001b[0mmy_ls\u001b[0m\u001b[0;34m:\u001b[0m\u001b[0;34m\u001b[0m\u001b[0;34m\u001b[0m\u001b[0m\n\u001b[1;32m      4\u001b[0m         \u001b[0mprint\u001b[0m\u001b[0;34m(\u001b[0m\u001b[0mitem\u001b[0m\u001b[0;34m)\u001b[0m\u001b[0;34m\u001b[0m\u001b[0;34m\u001b[0m\u001b[0m\n\u001b[1;32m      5\u001b[0m \u001b[0;34m\u001b[0m\u001b[0m\n",
      "\u001b[0;31mAttributeError\u001b[0m: 'list' object has no attribute 'split'"
     ]
    }
   ],
   "source": [
    "x = ['This is an-example', 'Second example- to be printed']\n",
    "separate_string(x)"
   ]
  },
  {
   "cell_type": "markdown",
   "metadata": {},
   "source": [
    "To improve its robustness, we can add statements that specify we are expecting a string with ('-')"
   ]
  },
  {
   "cell_type": "code",
   "execution_count": 27,
   "metadata": {},
   "outputs": [
    {
     "name": "stdout",
     "output_type": "stream",
     "text": [
      "This\n",
      "is\n",
      "just\n",
      "an\n",
      "example\n",
      "This\n",
      "is\n",
      "another\n",
      "example\n"
     ]
    }
   ],
   "source": [
    "import functools\n",
    "\n",
    "def separate_string_cleaned(x: str):\n",
    "    assert isinstance(x, str)\n",
    "    my_ls = map(lambda y: y.strip(), x.split('-'))\n",
    "\n",
    "    for item in my_ls:\n",
    "        if len(item.split()) > 1:\n",
    "            print('\\n'.join(item.split()))\n",
    "        else:\n",
    "            print(item)\n",
    "\n",
    "        \n",
    "\n",
    "x = 'This-is-just-an-example'\n",
    "separate_string_cleaned(x)\n",
    "x = 'This-is another - example'\n",
    "separate_string_cleaned(x)\n"
   ]
  },
  {
   "cell_type": "markdown",
   "metadata": {},
   "source": [
    "This will now work only with strings, and if the example has whitespaces, they will also be detected. Of course, you can add more undesired strings to be caught."
   ]
  },
  {
   "cell_type": "markdown",
   "metadata": {},
   "source": [
    "One way to create many different tests and change our code according to the failed tests we encounter is using the `hypothesis` module we saw in Notebook 5 (`Testing`), where the module will give many strategies to your function, and test each scenario to find possible breaches."
   ]
  },
  {
   "cell_type": "markdown",
   "metadata": {},
   "source": [
    "# Documentation Review"
   ]
  },
  {
   "cell_type": "markdown",
   "metadata": {},
   "source": [
    "While this is not critical for the performance or functionality of your code, reviewing the docstrings and comments of your code from time to time is a good practice. Some tips on this:\n",
    "\n",
    "1. Is your code doing the same as what you initially designed to do?\n",
    "2. Do the variables of your functions still accept the same type of data?\n",
    "3. Docstrings can save hours of trying to debug a code, make sure to keep it updated!\n",
    "4. A nice README file is always a blessing. If you find a repo with a good README file, you won't have to spend time figuring out what each function does"
   ]
  },
  {
   "cell_type": "markdown",
   "metadata": {},
   "source": [
    "# Online Code Reviewers"
   ]
  },
  {
   "cell_type": "markdown",
   "metadata": {},
   "source": [
    "A incredibly powerful tool are Automatic Code Review tools. You can simply upload your repository from GitHub, and it will provide an exhaustive report on how to improve your code in terms of performance, styling, coverage...\n",
    "\n",
    "Some great available tools are:\n",
    "- [Deep Source](https://deepsource.io)\n",
    "- [Codacy](https://www.codacy.com)\n",
    "- [SonarQube](https://www.sonarqube.org)\n",
    "- [Coverity](https://scan.coverity.com)"
   ]
  },
  {
   "cell_type": "markdown",
   "metadata": {},
   "source": [
    "Let's see how Deep Source works for example. First just sign up with GitHub (or any other remote repository for that matter):\n",
    "\n",
    "![](images/DeepSource.png)\n",
    "\n"
   ]
  },
  {
   "cell_type": "markdown",
   "metadata": {},
   "source": [
    "Then, choose the repository you want to analyze, and once chosen , it will start the analysis. You're done!\n",
    "\n",
    "You can see different metrics, such as Performance issues, style issues, documentation...\n",
    "\n",
    "![](images/Issues.png)"
   ]
  },
  {
   "cell_type": "markdown",
   "metadata": {},
   "source": [
    "And you can check, inside each issue, what the problem seems to be\n",
    "\n",
    "![](images/performance_issue.png)"
   ]
  },
  {
   "cell_type": "markdown",
   "metadata": {},
   "source": [
    "Of course, this is a great tool, but you shouldn't rely entirely on it. Remember that these tools are great for reviewing your code, but they won't create code for you. You will have to slowly develop that sense of writing good code!"
   ]
  },
  {
   "cell_type": "markdown",
   "metadata": {},
   "source": [
    "# Summary\n",
    "\n",
    "- Code Reviewing is a powerful step to take, not only before deploying your model, but should also be taken constantly\n",
    "- Styling is one of most important tasks in Code Reviewing, it will help you and other developers to understand what is going on more easily\n",
    "- You should make sure that your code is working at its best by checking its performance, for both time and space complexities\n",
    "- Even though you can count on unit or integration testing, you have to make sure your code is robust and flexible enough by implementing loose coupling\n",
    "- Well documented programs make a huge difference for other people, including recruiters!"
   ]
  },
  {
   "cell_type": "markdown",
   "metadata": {},
   "source": []
  }
 ],
 "metadata": {
  "interpreter": {
   "hash": "569d6b7e9215e11aba41c6454007e5c1b78bad7df09dab765d8cf00362c40f03"
  },
  "kernelspec": {
   "display_name": "Python 3.9.1 64-bit ('base': conda)",
   "name": "python3"
  },
  "language_info": {
   "codemirror_mode": {
    "name": "ipython",
    "version": 3
   },
   "file_extension": ".py",
   "mimetype": "text/x-python",
   "name": "python",
   "nbconvert_exporter": "python",
   "pygments_lexer": "ipython3",
   "version": "3.9.5"
  },
  "orig_nbformat": 4
 },
 "nbformat": 4,
 "nbformat_minor": 2
}
