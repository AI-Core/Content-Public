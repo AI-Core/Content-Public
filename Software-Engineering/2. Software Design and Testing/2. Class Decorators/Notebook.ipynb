{
 "cells": [
  {
   "cell_type": "markdown",
   "metadata": {},
   "source": [
    "# Class Decorators"
   ]
  },
  {
   "cell_type": "markdown",
   "metadata": {},
   "source": [
    "A very useful tool to keep your code tidy and readable are decorators. A decorator is a function that is used to add functionality to a function, method, or even a class. \n",
    "\n",
    "In this notebook we will see the most common and useful decorators and how to use them. You might remember some of them from previous notebooks, so we will not go into too much detail for some of them."
   ]
  },
  {
   "cell_type": "markdown",
   "metadata": {},
   "source": [
    "# Class methods"
   ]
  },
  {
   "cell_type": "markdown",
   "metadata": {},
   "source": [
    "Class methods are a way to create a method that can be called on a class, rather than on an instance.\n",
    "By now, you already know pandas and how to read a dictionary."
   ]
  },
  {
   "cell_type": "code",
   "execution_count": 1,
   "metadata": {},
   "outputs": [
    {
     "name": "stdout",
     "output_type": "stream",
     "text": [
      "     Name Last Name  Age\n",
      "0    Rick   Sanchez   70\n",
      "1   Morty     Smith   14\n",
      "2  Summer     Smith   17\n"
     ]
    }
   ],
   "source": [
    "import pandas as pd\n",
    "my_dict = {'Name': ['Rick', 'Morty', 'Summer'], 'Last Name': ['Sanchez', 'Smith', 'Smith'], 'Age': [70, 14, 17]}\n",
    "df = pd.DataFrame.from_dict(my_dict)\n",
    "print(df)"
   ]
  },
  {
   "cell_type": "markdown",
   "metadata": {},
   "source": [
    "`DataFrame` is a class and not an instance, however, we could call a method from it. That is because `from_dict` is a class method. Class methods are very useful to create an instance if you know the user might have different data types when creating the instance. They are also very helpful to create an instance whose initial values you already know.\n",
    "\n",
    "> ## Class Methods are methods that are called from a class rathen than from an instance."
   ]
  },
  {
   "cell_type": "markdown",
   "metadata": {},
   "source": [
    "To implement a class method we use the __decorator__ @classmethod."
   ]
  },
  {
   "cell_type": "code",
   "execution_count": 3,
   "metadata": {},
   "outputs": [],
   "source": [
    "from datetime import datetime\n",
    "\n",
    "class Date(object):\n",
    "\n",
    "    def __init__(self, day=0, month=0, year=0):\n",
    "        self.day = day\n",
    "        self.month = month\n",
    "        self.year = year\n",
    "    \n",
    "    def display(self):\n",
    "        return \"{}/{}/{}\".format(self.day, self.month, self.year)\n",
    "\n",
    "    @classmethod\n",
    "    def now(cls):\n",
    "        t = datetime.now()\n",
    "        day = t.day\n",
    "        month = t.month\n",
    "        year = t.year\n",
    "        return cls(day, month, year)\n",
    "        \n",
    "    @classmethod\n",
    "    def from_string(cls, date_as_string):\n",
    "        day, month, year = map(int, date_as_string.split('-'))\n",
    "        date1 = Date(day, month, year)\n",
    "        return date1"
   ]
  },
  {
   "cell_type": "code",
   "execution_count": 18,
   "metadata": {},
   "outputs": [
    {
     "name": "stdout",
     "output_type": "stream",
     "text": [
      "30\n"
     ]
    }
   ],
   "source": [
    "date = Date.now()\n",
    "date.display()\n",
    "print(date.day)"
   ]
  },
  {
   "cell_type": "code",
   "execution_count": 20,
   "metadata": {},
   "outputs": [
    {
     "data": {
      "text/plain": [
       "'17-08-2021/0/0'"
      ]
     },
     "execution_count": 20,
     "metadata": {},
     "output_type": "execute_result"
    }
   ],
   "source": [
    "date_2 = Date('17-08-2021')\n",
    "date_2.display()"
   ]
  },
  {
   "cell_type": "code",
   "execution_count": null,
   "metadata": {},
   "outputs": [],
   "source": []
  },
  {
   "cell_type": "code",
   "execution_count": 21,
   "metadata": {},
   "outputs": [
    {
     "name": "stdout",
     "output_type": "stream",
     "text": [
      "Help on class classmethod in module builtins:\n",
      "\n",
      "class classmethod(object)\n",
      " |  classmethod(function) -> method\n",
      " |  \n",
      " |  Convert a function to be a class method.\n",
      " |  \n",
      " |  A class method receives the class as implicit first argument,\n",
      " |  just like an instance method receives the instance.\n",
      " |  To declare a class method, use this idiom:\n",
      " |  \n",
      " |    class C:\n",
      " |        @classmethod\n",
      " |        def f(cls, arg1, arg2, ...):\n",
      " |            ...\n",
      " |  \n",
      " |  It can be called either on the class (e.g. C.f()) or on an instance\n",
      " |  (e.g. C().f()).  The instance is ignored except for its class.\n",
      " |  If a class method is called for a derived class, the derived class\n",
      " |  object is passed as the implied first argument.\n",
      " |  \n",
      " |  Class methods are different than C++ or Java static methods.\n",
      " |  If you want those, see the staticmethod builtin.\n",
      " |  \n",
      " |  Methods defined here:\n",
      " |  \n",
      " |  __get__(self, instance, owner, /)\n",
      " |      Return an attribute of instance, which is of type owner.\n",
      " |  \n",
      " |  __init__(self, /, *args, **kwargs)\n",
      " |      Initialize self.  See help(type(self)) for accurate signature.\n",
      " |  \n",
      " |  ----------------------------------------------------------------------\n",
      " |  Static methods defined here:\n",
      " |  \n",
      " |  __new__(*args, **kwargs) from builtins.type\n",
      " |      Create and return a new object.  See help(type) for accurate signature.\n",
      " |  \n",
      " |  ----------------------------------------------------------------------\n",
      " |  Data descriptors defined here:\n",
      " |  \n",
      " |  __dict__\n",
      " |  \n",
      " |  __func__\n",
      " |  \n",
      " |  __isabstractmethod__\n",
      "\n"
     ]
    }
   ],
   "source": [
    "help(__builtins__.classmethod)"
   ]
  },
  {
   "cell_type": "markdown",
   "metadata": {},
   "source": [
    "Notice that, for the class methods, the first argument is the class itself, as opposed to regular methods, whose first argument is the instance.\n",
    "\n",
    "The `now` class method is an example of a class method where we know beforehand the arguments that we are expecting.\n",
    "\n",
    "The `from_string` class method is an example of a class method where we know the user might provide a different data type for the arguments.\n",
    "\n",
    "In both cases, the call for class method skips the `__init__` method, which is usually ran first."
   ]
  },
  {
   "cell_type": "code",
   "execution_count": 22,
   "metadata": {},
   "outputs": [],
   "source": [
    "class Dummy:\n",
    "    def __init__(self):\n",
    "        print('I am running the constructor')\n",
    "    \n",
    "    @classmethod\n",
    "    def dummy_class_method(cls):\n",
    "        print('I am running the class method')"
   ]
  },
  {
   "cell_type": "code",
   "execution_count": 23,
   "metadata": {},
   "outputs": [
    {
     "name": "stdout",
     "output_type": "stream",
     "text": [
      "I am running the class method\n"
     ]
    }
   ],
   "source": [
    "Dummy.dummy_class_method()"
   ]
  },
  {
   "cell_type": "markdown",
   "metadata": {},
   "source": [
    "Thus, the constructor is actually ran inside the class method because we programmed it to do so.\n",
    "\n",
    "Thanks to its functionality, class methods can help to improve the flexibility of the code. Just make sure you document the method properly!"
   ]
  },
  {
   "cell_type": "markdown",
   "metadata": {},
   "source": [
    "# Static Methods"
   ]
  },
  {
   "cell_type": "markdown",
   "metadata": {},
   "source": [
    "Static methods are methods that are not bound to an instance or a class. When you call a static method, you do not pass an instance or a class, and they act as a regular function.\n",
    "\n",
    "> ## Static methods are methods that are not bound to an instance or a class. However, to call them you call it from an instance or a class."
   ]
  },
  {
   "cell_type": "code",
   "execution_count": 29,
   "metadata": {},
   "outputs": [],
   "source": [
    "from datetime import datetime\n",
    "\n",
    "class Date(object):\n",
    "\n",
    "    def __init__(self, day=0, month=0, year=0):\n",
    "        self.day = day\n",
    "        self.month = month\n",
    "        self.year = year\n",
    "        print('I am in the constructor')\n",
    "    \n",
    "    def display(self):\n",
    "        return \"{}/{}/{}\".format(self.day, self.month, self.year)\n",
    "\n",
    "    @classmethod\n",
    "    def now(cls):\n",
    "        t = datetime.now()\n",
    "        day = t.day\n",
    "        month = t.month\n",
    "        year = t.year\n",
    "        return cls(day, month, year)\n",
    "        \n",
    "    @classmethod\n",
    "    def from_string(cls, date_as_string):\n",
    "        day, month, year = map(int, date_as_string.split('-'))\n",
    "        date1 = cls(day, month, year)\n",
    "        return date1\n",
    "\n",
    "    @staticmethod\n",
    "    def is_date_valid(date_as_string):\n",
    "        day, month, year = map(int, date_as_string.split('-'))\n",
    "        return day <= 31 and month <= 12 and year <= 3999\n",
    "    \n",
    "    @staticmethod\n",
    "    def is_date_future(date_as_string):\n",
    "        day, month, year = map(int, date_as_string.split('-'))\n",
    "        current_date = datetime.now()\n",
    "        current_year = current_date.year\n",
    "        current_day = current_date.day\n",
    "        current_month = current_date.month\n",
    "        if (current_year < year):\n",
    "            return False\n",
    "        elif (current_year == year):\n",
    "            if (current_day < day):\n",
    "                return False\n",
    "            elif (current_day == day):\n",
    "                if (current_month < month):\n",
    "                    return False\n",
    "        return True"
   ]
  },
  {
   "cell_type": "code",
   "execution_count": 24,
   "metadata": {},
   "outputs": [
    {
     "ename": "AttributeError",
     "evalue": "type object 'Date' has no attribute 'is_date_future'",
     "output_type": "error",
     "traceback": [
      "\u001b[1;31m---------------------------------------------------------------------------\u001b[0m",
      "\u001b[1;31mAttributeError\u001b[0m                            Traceback (most recent call last)",
      "\u001b[1;32mC:\\Users\\BLAIR_~1\\AppData\\Local\\Temp/ipykernel_16988/3621491298.py\u001b[0m in \u001b[0;36m<module>\u001b[1;34m\u001b[0m\n\u001b[1;32m----> 1\u001b[1;33m \u001b[0mprint\u001b[0m\u001b[1;33m(\u001b[0m\u001b[0mDate\u001b[0m\u001b[1;33m.\u001b[0m\u001b[0mis_date_future\u001b[0m\u001b[1;33m(\u001b[0m\u001b[1;34m'29-08-2021'\u001b[0m\u001b[1;33m)\u001b[0m\u001b[1;33m)\u001b[0m\u001b[1;33m\u001b[0m\u001b[1;33m\u001b[0m\u001b[0m\n\u001b[0m\u001b[0;32m      2\u001b[0m \u001b[1;31m# now = Date.now()\u001b[0m\u001b[1;33m\u001b[0m\u001b[1;33m\u001b[0m\u001b[1;33m\u001b[0m\u001b[0m\n\u001b[0;32m      3\u001b[0m \u001b[1;31m# print(now.is_date_future('29-07-2021'))\u001b[0m\u001b[1;33m\u001b[0m\u001b[1;33m\u001b[0m\u001b[1;33m\u001b[0m\u001b[0m\n",
      "\u001b[1;31mAttributeError\u001b[0m: type object 'Date' has no attribute 'is_date_future'"
     ]
    }
   ],
   "source": [
    "print(Date.is_date_future('29-08-2021'))\n",
    "# now = Date.now()\n",
    "# print(now.is_date_future('29-07-2021'))"
   ]
  },
  {
   "cell_type": "markdown",
   "metadata": {},
   "source": [
    "Observe that the static method does not depend on the instance or the class (we are not using self, or cls). However, we need to call for it from the class or from an instance."
   ]
  },
  {
   "cell_type": "markdown",
   "metadata": {},
   "source": [
    "So, what is the point of using static methods? It is some type of encapsulation,  whenever you need to access a method related to dates, you know that you can find it in the Date class. \n",
    "\n",
    "> <font size=+1>Static methods and Class methods help keep your code clean and user-friendly.</font>"
   ]
  },
  {
   "cell_type": "markdown",
   "metadata": {},
   "source": [
    "# Property Decorators"
   ]
  },
  {
   "cell_type": "markdown",
   "metadata": {},
   "source": [
    "Properties decorators are a way to add getters and setters for the attributes of a class. This is also a great tool for implementing private variables, which in turn is a methodology for implementing encapsulation.\n",
    "\n",
    "> ## Properties Decorators allow us to keep our variables private and add getters and setters for them."
   ]
  },
  {
   "cell_type": "markdown",
   "metadata": {},
   "source": [
    "To implement a property decorator, we first define the attribute in the constructor, and then we use the property decorator to define the getter and setter methods."
   ]
  },
  {
   "cell_type": "code",
   "execution_count": 88,
   "metadata": {},
   "outputs": [],
   "source": [
    "from datetime import datetime\n",
    "\n",
    "class Date(object):\n",
    "\n",
    "    def __init__(self, day=0, month=0, year=0):\n",
    "        self.day = day\n",
    "        self.month = month\n",
    "        self.year = year\n",
    "\n",
    "    @property\n",
    "    def day(self):\n",
    "        print('Getting day value')\n",
    "        return self.__day\n",
    "    \n",
    "    @property\n",
    "    def month(self):\n",
    "        print('Getting month value')\n",
    "        return self.__month\n",
    "    \n",
    "    @property\n",
    "    def year(self):\n",
    "        print('Getting year value')\n",
    "        return self.__year\n",
    "\n",
    "    def display(self):\n",
    "        return \"{}/{}/{}\".format(self.day, self.month, self.year)\n",
    "\n"
   ]
  },
  {
   "cell_type": "markdown",
   "metadata": {},
   "source": [
    "Observe that we need to define a setter in order to give values to our attributes. This prevents the user from setting the value of an attribute that is not defined."
   ]
  },
  {
   "cell_type": "code",
   "execution_count": 89,
   "metadata": {},
   "outputs": [
    {
     "ename": "AttributeError",
     "evalue": "can't set attribute",
     "output_type": "error",
     "traceback": [
      "\u001b[1;31m---------------------------------------------------------------------------\u001b[0m",
      "\u001b[1;31mAttributeError\u001b[0m                            Traceback (most recent call last)",
      "\u001b[1;32mC:\\Users\\BLAIR_~1\\AppData\\Local\\Temp/ipykernel_16988/2436143884.py\u001b[0m in \u001b[0;36m<module>\u001b[1;34m\u001b[0m\n\u001b[1;32m----> 1\u001b[1;33m \u001b[0mday\u001b[0m \u001b[1;33m=\u001b[0m \u001b[0mDate\u001b[0m\u001b[1;33m(\u001b[0m\u001b[1;36m19\u001b[0m\u001b[1;33m,\u001b[0m \u001b[1;36m3\u001b[0m\u001b[1;33m,\u001b[0m \u001b[1;36m2018\u001b[0m\u001b[1;33m)\u001b[0m\u001b[1;33m\u001b[0m\u001b[1;33m\u001b[0m\u001b[0m\n\u001b[0m",
      "\u001b[1;32mC:\\Users\\BLAIR_~1\\AppData\\Local\\Temp/ipykernel_16988/2224693631.py\u001b[0m in \u001b[0;36m__init__\u001b[1;34m(self, day, month, year)\u001b[0m\n\u001b[0;32m      4\u001b[0m \u001b[1;33m\u001b[0m\u001b[0m\n\u001b[0;32m      5\u001b[0m     \u001b[1;32mdef\u001b[0m \u001b[0m__init__\u001b[0m\u001b[1;33m(\u001b[0m\u001b[0mself\u001b[0m\u001b[1;33m,\u001b[0m \u001b[0mday\u001b[0m\u001b[1;33m=\u001b[0m\u001b[1;36m0\u001b[0m\u001b[1;33m,\u001b[0m \u001b[0mmonth\u001b[0m\u001b[1;33m=\u001b[0m\u001b[1;36m0\u001b[0m\u001b[1;33m,\u001b[0m \u001b[0myear\u001b[0m\u001b[1;33m=\u001b[0m\u001b[1;36m0\u001b[0m\u001b[1;33m)\u001b[0m\u001b[1;33m:\u001b[0m\u001b[1;33m\u001b[0m\u001b[1;33m\u001b[0m\u001b[0m\n\u001b[1;32m----> 6\u001b[1;33m         \u001b[0mself\u001b[0m\u001b[1;33m.\u001b[0m\u001b[0mday\u001b[0m \u001b[1;33m=\u001b[0m \u001b[0mday\u001b[0m\u001b[1;33m\u001b[0m\u001b[1;33m\u001b[0m\u001b[0m\n\u001b[0m\u001b[0;32m      7\u001b[0m         \u001b[0mself\u001b[0m\u001b[1;33m.\u001b[0m\u001b[0mmonth\u001b[0m \u001b[1;33m=\u001b[0m \u001b[0mmonth\u001b[0m\u001b[1;33m\u001b[0m\u001b[1;33m\u001b[0m\u001b[0m\n\u001b[0;32m      8\u001b[0m         \u001b[0mself\u001b[0m\u001b[1;33m.\u001b[0m\u001b[0myear\u001b[0m \u001b[1;33m=\u001b[0m \u001b[0myear\u001b[0m\u001b[1;33m\u001b[0m\u001b[1;33m\u001b[0m\u001b[0m\n",
      "\u001b[1;31mAttributeError\u001b[0m: can't set attribute"
     ]
    }
   ],
   "source": [
    "day = Date(19, 3, 2018)"
   ]
  },
  {
   "cell_type": "code",
   "execution_count": 86,
   "metadata": {},
   "outputs": [],
   "source": [
    "from datetime import datetime\n",
    "\n",
    "class Date(object):\n",
    "\n",
    "    def __init__(self, day=0, month=0, year=0):\n",
    "        self.__day = day\n",
    "        self.month = month\n",
    "        self.year = year\n",
    "\n",
    "    @property\n",
    "    def day(self):\n",
    "        print('Getting day value')\n",
    "        return self.__day\n",
    "    \n",
    "    @day.setter\n",
    "    def day(self, day):\n",
    "        print('Setting day value')\n",
    "        if day < 0:\n",
    "            raise ValueError('Day cannot be negative')\n",
    "        self.__day = day\n",
    "    \n",
    "    @property\n",
    "    def month(self):\n",
    "        print('Getting month value')\n",
    "        return self.__month\n",
    "\n",
    "    @month.setter\n",
    "    def month(self, month):\n",
    "        print('Setting month value')\n",
    "        if month < 0:\n",
    "            raise ValueError('Month cannot be negative')\n",
    "        self.__month = month\n",
    "    \n",
    "    @month.deleter\n",
    "    def month(self):\n",
    "        print('Deleting month value')\n",
    "        del self.__month\n",
    "    \n",
    "    @property\n",
    "    def year(self):\n",
    "        print('Getting year value')\n",
    "        return self.__year\n",
    "    \n",
    "    @year.setter\n",
    "    def year(self, year):\n",
    "        print('Setting year value')\n",
    "        if year < 0:\n",
    "            raise ValueError('Year cannot be negative')\n",
    "        self.__year = year\n",
    "\n",
    "\n",
    "    def display(self):\n",
    "        return \"{}/{}/{}\".format(self.day, self.month, self.year)"
   ]
  },
  {
   "cell_type": "code",
   "execution_count": 85,
   "metadata": {},
   "outputs": [
    {
     "name": "stdout",
     "output_type": "stream",
     "text": [
      "Setting month value\n",
      "Setting year value\n",
      "Getting year value\n",
      "Getting day value\n"
     ]
    },
    {
     "data": {
      "text/plain": [
       "19"
      ]
     },
     "execution_count": 85,
     "metadata": {},
     "output_type": "execute_result"
    }
   ],
   "source": [
    "day = Date(19, 3, 2018)\n",
    "day.year"
   ]
  },
  {
   "cell_type": "markdown",
   "metadata": {},
   "source": [
    "Observe that we also included the deletter method. If not included, the attribute can't be deleted."
   ]
  },
  {
   "cell_type": "code",
   "execution_count": 38,
   "metadata": {},
   "outputs": [
    {
     "name": "stdout",
     "output_type": "stream",
     "text": [
      "Deleting month value\n"
     ]
    }
   ],
   "source": [
    "del day.month"
   ]
  },
  {
   "cell_type": "markdown",
   "metadata": {},
   "source": [
    "# Dataclass"
   ]
  },
  {
   "cell_type": "markdown",
   "metadata": {},
   "source": [
    "Finally, let's introduce a last decorator: dataclass.\n",
    "\n",
    "This decorator is a bit different from the others. It doesn't add a functionality to the class, but rather an easier way to create a class. It adds several dunder methods (magic methods) to the class. By default, it will add `__init__`, `__repr__`, and `__eq__` methods.\n",
    "\n",
    "> ## Dataclass makes the creation of classes easier by adding a few dunder methods\n",
    "\n",
    "In this case, the decorator needs to be imported from the dataclass library, and it is used as a decorator on the class."
   ]
  },
  {
   "cell_type": "code",
   "execution_count": 72,
   "metadata": {},
   "outputs": [],
   "source": [
    "from dataclasses import dataclass\n",
    "\n",
    "@dataclass(order=True)\n",
    "class Date:\n",
    "    day: int # First positional argument\n",
    "    month: int\n",
    "    year: int\n"
   ]
  },
  {
   "cell_type": "code",
   "execution_count": 73,
   "metadata": {},
   "outputs": [
    {
     "data": {
      "text/plain": [
       "False"
      ]
     },
     "execution_count": 73,
     "metadata": {},
     "output_type": "execute_result"
    }
   ],
   "source": [
    "class Date:\n",
    "    def __init__(self, day, month):\n",
    "        self.day = day\n",
    "        self.month = month\n",
    "    def __eq__(self, other):\n",
    "        return False\n",
    "    def __lt__(self, other):\n",
    "        return self.month < other.month\n",
    "\n",
    "date = Date(9, 4)\n",
    "date_2 = Date(2, 1)\n",
    "\n",
    "date == date_2\n",
    "date < date_2"
   ]
  },
  {
   "cell_type": "code",
   "execution_count": 74,
   "metadata": {},
   "outputs": [
    {
     "name": "stdout",
     "output_type": "stream",
     "text": [
      "<__main__.Date object at 0x000001F36737C7C0>\n"
     ]
    }
   ],
   "source": [
    "date = Date(1, 2)\n",
    "print(date)\n",
    "# date_2 = Date(1, 2, 2019)\n",
    "# date_2 == date"
   ]
  },
  {
   "cell_type": "markdown",
   "metadata": {},
   "source": [
    "With just a simple decorator, we created a class that contained three dunder methods, but we can use the dataclass decorator to add more functionalities. For now, this is more than enough to keep our code clean and readable. If you want more info about the dataclass decorator, you can read the official documentation in this [Link](https://docs.python.org/3/library/dataclasses.html#module-dataclasses)"
   ]
  },
  {
   "cell_type": "markdown",
   "metadata": {},
   "source": [
    "# Summary"
   ]
  },
  {
   "cell_type": "markdown",
   "metadata": {},
   "source": [
    "- Class methods are methods that are bound to a class instead of an instance.\n",
    "- Statics are methods that belong to a class, but are not bound to an instance or class.\n",
    "- Property decorators are used to add getters and setters to the attributes of a class.\n",
    "- All these decorators keep your code clean for you, other developers and the user\n",
    "- Dataclass decorators are used to define classes in a convenient way."
   ]
  }
 ],
 "metadata": {
  "interpreter": {
   "hash": "66a4c1a82e4b740877da9482796a67c3d19e50649dddfb2985c1182127ae3fd0"
  },
  "kernelspec": {
   "display_name": "Python 3.8.11 64-bit ('base': conda)",
   "name": "python3"
  },
  "language_info": {
   "codemirror_mode": {
    "name": "ipython",
    "version": 3
   },
   "file_extension": ".py",
   "mimetype": "text/x-python",
   "name": "python",
   "nbconvert_exporter": "python",
   "pygments_lexer": "ipython3",
   "version": "3.8.11"
  },
  "orig_nbformat": 4
 },
 "nbformat": 4,
 "nbformat_minor": 2
}
