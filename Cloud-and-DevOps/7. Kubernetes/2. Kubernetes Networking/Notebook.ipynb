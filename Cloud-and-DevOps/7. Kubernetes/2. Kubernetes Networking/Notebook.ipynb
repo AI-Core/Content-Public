{
 "cells": [
  {
   "cell_type": "markdown",
   "metadata": {},
   "source": [
    "# Kubernetes Networking"
   ]
  },
  {
   "cell_type": "markdown",
   "metadata": {},
   "source": [
    "In the last notebook, you saw how to manage your pods using Workloads to, for example, control the lifecycle of your pods. However, they were isolated from each other, and anything they were processing were solely based on the arguments we passed to them. \n",
    "\n",
    "In order to communicate them, not only amongst themselves, but also from outside the cluster, Kubernetes has Networking resources to expose the pods. \n",
    "\n",
    "<p align=center><img src=images/K8_networking.webp width=600></p>"
   ]
  },
  {
   "cell_type": "markdown",
   "metadata": {},
   "source": [
    "One thing we didn't mention in the last notebook is that each pod has an IP address. Let's check it out\n",
    "\n",
    "## Try it out\n",
    "\n",
    "1. If you haven't, start minikube\n",
    "1. In this [link](https://aicore-files.s3.amazonaws.com/Cloud-DevOps/simple_deployment.yaml), you will find a file named `simple_deployment.yaml`. \n",
    "2. Run the right kubectl command to run the deployment\n",
    "3. Observe the description of the pods using `kubectl get <name of the resource> <name of the pod>`\n",
    "4. Observe a longer description of the pods using `kubectl get <name of the resource> <name of the pod> -o wide` which stands for output\n"
   ]
  },
  {
   "cell_type": "code",
   "execution_count": 6,
   "metadata": {},
   "outputs": [
    {
     "name": "stdout",
     "output_type": "stream",
     "text": [
      "deployment.apps/hello created\n"
     ]
    }
   ],
   "source": [
    "!kubectl"
   ]
  },
  {
   "cell_type": "code",
   "execution_count": 18,
   "metadata": {},
   "outputs": [
    {
     "name": "stdout",
     "output_type": "stream",
     "text": [
      "NAME                     READY   STATUS    RESTARTS   AGE\n",
      "hello-868bcb8b84-575pt   1/1     Running   0          2m39s\n",
      "hello-868bcb8b84-dp9gr   1/1     Running   0          2m38s\n",
      "hello-868bcb8b84-vrgqj   1/1     Running   0          2m38s\n"
     ]
    }
   ],
   "source": [
    "!kubectl"
   ]
  },
  {
   "cell_type": "code",
   "execution_count": 19,
   "metadata": {},
   "outputs": [
    {
     "name": "stdout",
     "output_type": "stream",
     "text": [
      "NAME                     READY   STATUS    RESTARTS   AGE     IP            NODE       NOMINATED NODE   READINESS GATES\n",
      "hello-868bcb8b84-575pt   1/1     Running   0          2m47s   172.17.0.10   minikube   <none>           <none>\n",
      "hello-868bcb8b84-dp9gr   1/1     Running   0          2m46s   172.17.0.8    minikube   <none>           <none>\n",
      "hello-868bcb8b84-vrgqj   1/1     Running   0          2m46s   172.17.0.9    minikube   <none>           <none>\n"
     ]
    }
   ],
   "source": [
    "!kubectl"
   ]
  },
  {
   "cell_type": "markdown",
   "metadata": {},
   "source": [
    "Observe that each pod has an IP address that is only visible if you print out the wide output. \n",
    "\n",
    "However, pod IP addresses in Kubernetes are not durable. Whenever an application is scaled up or down, or encounters an error and needs to reboot, their IP address will disappear and need to be reassigned. This change in IP address occurs without warning. In response to this, Kubernetes utilizes Services."
   ]
  },
  {
   "cell_type": "markdown",
   "metadata": {},
   "source": [
    "# Services\n",
    "\n",
    "One of the Networking resources from Kubernetes is 'Services', which in essence, exposes applications to the outside world or eithin the cluster. While Workloads managed the lifecyle of pods, Services manage the lifecycle of the pod's IP addresses. \n",
    "\n",
    "Services serve as an abstraction layer on top of the Pods, assigning a single virtual IP address to a specified group of Pods. Once these Pods are associated with that virtual IP address, any traffic which is addressed to that virtual IP will be routed to the corresponding set of Pods. The set of Pods that are linked to a Service can be changed at any time, but the IP address of the Service will remain static.\n",
    "\n",
    "<p align=center><img src=images/K8_Services.webp></p>"
   ]
  },
  {
   "cell_type": "markdown",
   "metadata": {},
   "source": [
    "So, how does it translate to our problem? Basically, the IP address changes when the pod dies and restarts, so it would be virtually impossible to point always to a dynamic IP address. Services will not point to the IP address, but to the pod, and from it, it will infer the IP address corresponding to that pod.\n",
    "\n",
    "Take a look at what happens when we delete a pod from the deployment resource:"
   ]
  },
  {
   "cell_type": "markdown",
   "metadata": {},
   "source": [
    "## Try it out\n",
    "\n",
    "1. Observe the IP addresses from the last deployment you created\n",
    "2. Delete any of the pods in the deployment\n",
    "3. Observe again the IP addresses"
   ]
  },
  {
   "cell_type": "code",
   "execution_count": 20,
   "metadata": {},
   "outputs": [
    {
     "name": "stdout",
     "output_type": "stream",
     "text": [
      "NAME                     READY   STATUS    RESTARTS   AGE   IP            NODE       NOMINATED NODE   READINESS GATES\n",
      "hello-868bcb8b84-575pt   1/1     Running   0          86m   172.17.0.10   minikube   <none>           <none>\n",
      "hello-868bcb8b84-dp9gr   1/1     Running   0          86m   172.17.0.8    minikube   <none>           <none>\n",
      "hello-868bcb8b84-vrgqj   1/1     Running   0          86m   172.17.0.9    minikube   <none>           <none>\n"
     ]
    }
   ],
   "source": [
    "!kubectl"
   ]
  },
  {
   "cell_type": "code",
   "execution_count": 21,
   "metadata": {},
   "outputs": [
    {
     "name": "stdout",
     "output_type": "stream",
     "text": [
      "pod \"hello-868bcb8b84-575pt\" deleted\n"
     ]
    }
   ],
   "source": [
    "!kubectl"
   ]
  },
  {
   "cell_type": "code",
   "execution_count": 22,
   "metadata": {},
   "outputs": [
    {
     "name": "stdout",
     "output_type": "stream",
     "text": [
      "NAME                     READY   STATUS    RESTARTS   AGE   IP           NODE       NOMINATED NODE   READINESS GATES\n",
      "hello-868bcb8b84-dp9gr   1/1     Running   0          86m   172.17.0.8   minikube   <none>           <none>\n",
      "hello-868bcb8b84-dz5bj   1/1     Running   0          19s   172.17.0.4   minikube   <none>           <none>\n",
      "hello-868bcb8b84-vrgqj   1/1     Running   0          86m   172.17.0.9   minikube   <none>           <none>\n"
     ]
    }
   ],
   "source": [
    "!kubectl"
   ]
  },
  {
   "cell_type": "markdown",
   "metadata": {},
   "source": [
    "Observe that one of the pods have changed its name AND the IP address, so if we tried to point to the previous IP address, it would point nowhere. \n",
    "\n",
    "Services will help us pointing to the pods in the deployment rather than to each individual IP address"
   ]
  },
  {
   "cell_type": "markdown",
   "metadata": {},
   "source": [
    "There are mainly three services in Kubernetes:\n",
    "\n",
    "- `ClusterIP`: This is the default Service. It is a fixed IP inside the cluster and it works as a small Load Balancer amongst the resources in the cluster.\n",
    "- `NodePort`: It is very similar to the `ClusterIP`, but in this case, it creates a port in each node (hence the name) that will receive the traffic and it redirect that traffic to the corresponding pods\n",
    "- `LoadBalancer`: Exposes the `Service` externally using a cloud provider's load balancer. It gets the resources from the cloud cluster and it redirects the network to our pods\n",
    "\n",
    "Take a look at this [link](https://kubernetes.io/docs/concepts/services-networking/service/#publishing-services-service-types) to know more about them. In this notebook, we will show you a practical demo on how they work."
   ]
  },
  {
   "cell_type": "markdown",
   "metadata": {},
   "source": [
    "## ClusterIP"
   ]
  },
  {
   "cell_type": "markdown",
   "metadata": {},
   "source": [
    "We are going to use the `Deployment` we ran before as an example. We will use a `ClusterIP` that will connect to the IP addresses of the pods inside the `Deployment`. Here is an example on how to use a `Service` that connects to the `Deployment`"
   ]
  },
  {
   "cell_type": "markdown",
   "metadata": {},
   "source": [
    "```\n",
    "apiVersion: v1\n",
    "kind: Service\n",
    "metadata:\n",
    "  name: hello\n",
    "spec:\n",
    "  ports:\n",
    "  - port: 8080\n",
    "    targetPort: 8080\n",
    "  selector:\n",
    "    role: hello\n",
    "```"
   ]
  },
  {
   "cell_type": "markdown",
   "metadata": {},
   "source": [
    "Observe the `spec`s for this Service:\n",
    "\n",
    "- `ports` specify how to forward requests to pods matching `selector`. In this case:\n",
    "    - Forward requests to pod's port `8080`\n",
    "    - Make `Service` itself available under port `8080`\n",
    "- `selector` points to the resource that we want to get access to.\n",
    "\n",
    "For the sake of the example, we are going to run a single pod that will run an ubuntu container inside the cluster. That way, we can connect to that cluster, and from the cluster, we will connect to the service:\n",
    "\n",
    "```\n",
    "apiVersion: v1\n",
    "kind: Pod\n",
    "metadata:\n",
    "  name: ubuntu\n",
    "spec:\n",
    "  containers:\n",
    "  - name: ubuntu\n",
    "    image: ubuntu\n",
    "    args:\n",
    "    - sleep\n",
    "    - infinity\n",
    "```\n",
    "\n",
    "The example, very broadly, looks like this:\n",
    "\n",
    "<p align=center><img src=images/ClusterIP.png width=600></p>"
   ]
  },
  {
   "cell_type": "markdown",
   "metadata": {},
   "source": [
    "## Try it out\n",
    "\n",
    "1. Create a Service and a pod resources using the configuration mentioned above. _Tip: you can use the same file to create both separating both resources with three dashes (`---`)_\n",
    "2.  _You should still have the `Deployment` from the before, otherwise, run it now_\n",
    "3. Run a command to check all pods and services: `kubectl get <your code here>`\n",
    "4. Run a command to describe the IP addressed pointed by the `Service`: `kubectl <CMD> <resource> <name_of_the_resource>`\n",
    "5. Run a command to observe all the IP addresses of all pods\n",
    "6. Compare those addresses with the endpoints pointed by the `Service`\n",
    "7. Delete one of the pods corresponding to the `Deployment` resource\n",
    "8. Compare the new addresses with the new endpoints pointed by the `Service`. Is service still pointing to the correct IP addresses?"
   ]
  },
  {
   "cell_type": "code",
   "execution_count": 5,
   "metadata": {},
   "outputs": [
    {
     "name": "stdout",
     "output_type": "stream",
     "text": [
      "service/hello created\n",
      "pod/ubuntu created\n"
     ]
    }
   ],
   "source": [
    "#Run both resources.\n",
    "!kubectl"
   ]
  },
  {
   "cell_type": "code",
   "execution_count": 8,
   "metadata": {},
   "outputs": [
    {
     "name": "stdout",
     "output_type": "stream",
     "text": [
      "NAME                         READY   STATUS    RESTARTS   AGE\n",
      "pod/hello-868bcb8b84-dnq4w   1/1     Running   0          3m51s\n",
      "pod/hello-868bcb8b84-j9p5g   1/1     Running   0          3m51s\n",
      "pod/hello-868bcb8b84-rd6qj   1/1     Running   0          3m51s\n",
      "pod/ubuntu                   1/1     Running   0          3m43s\n",
      "\n",
      "NAME                 TYPE        CLUSTER-IP     EXTERNAL-IP   PORT(S)    AGE\n",
      "service/hello        ClusterIP   10.103.95.80   <none>        8080/TCP   3m44s\n",
      "service/kubernetes   ClusterIP   10.96.0.1      <none>        443/TCP    6h57m\n",
      "\n",
      "NAME                    READY   UP-TO-DATE   AVAILABLE   AGE\n",
      "deployment.apps/hello   3/3     3            3           3m51s\n",
      "\n",
      "NAME                               DESIRED   CURRENT   READY   AGE\n",
      "replicaset.apps/hello-868bcb8b84   3         3         3       3m51s\n"
     ]
    }
   ],
   "source": [
    "# Run a command to check all pods and services\n",
    "!kubectl"
   ]
  },
  {
   "cell_type": "markdown",
   "metadata": {},
   "source": [
    "Observe that the service hello has been created and it has a single cluster IP. However, it doesn't specify which IP addressess it is pointing to"
   ]
  },
  {
   "cell_type": "code",
   "execution_count": 9,
   "metadata": {},
   "outputs": [
    {
     "name": "stdout",
     "output_type": "stream",
     "text": [
      "Name:              hello\n",
      "Namespace:         default\n",
      "Labels:            <none>\n",
      "Annotations:       <none>\n",
      "Selector:          role=hello\n",
      "Type:              ClusterIP\n",
      "IP Family Policy:  SingleStack\n",
      "IP Families:       IPv4\n",
      "IP:                10.103.95.80\n",
      "IPs:               10.103.95.80\n",
      "Port:              <unset>  8080/TCP\n",
      "TargetPort:        8080/TCP\n",
      "Endpoints:         172.17.0.5:8080,172.17.0.6:8080,172.17.0.7:8080\n",
      "Session Affinity:  None\n",
      "Events:            <none>\n"
     ]
    }
   ],
   "source": [
    "#Run a command to describe the IP addressed pointed by the service:\n",
    "!kubectl"
   ]
  },
  {
   "cell_type": "code",
   "execution_count": 12,
   "metadata": {},
   "outputs": [
    {
     "name": "stdout",
     "output_type": "stream",
     "text": [
      "NAME                     READY   STATUS    RESTARTS   AGE   IP           NODE       NOMINATED NODE   READINESS GATES\n",
      "hello-868bcb8b84-dnq4w   1/1     Running   0          10m   172.17.0.7   minikube   <none>           <none>\n",
      "hello-868bcb8b84-j9p5g   1/1     Running   0          10m   172.17.0.5   minikube   <none>           <none>\n",
      "hello-868bcb8b84-rd6qj   1/1     Running   0          10m   172.17.0.6   minikube   <none>           <none>\n",
      "ubuntu                   1/1     Running   0          10m   172.17.0.8   minikube   <none>           <none>\n"
     ]
    }
   ],
   "source": [
    "# Run a command to observe all the IP addresses of all pods\n",
    "!kubectl"
   ]
  },
  {
   "cell_type": "markdown",
   "metadata": {},
   "source": [
    "Compare the IP addresses with the endpoints pointed by `Service`."
   ]
  },
  {
   "cell_type": "code",
   "execution_count": 13,
   "metadata": {},
   "outputs": [
    {
     "name": "stdout",
     "output_type": "stream",
     "text": [
      "pod \"hello-868bcb8b84-dnq4w\" deleted\n"
     ]
    }
   ],
   "source": [
    "# Delete one of the pods corresponding to the `Deployment` resource\n",
    "!kubectl"
   ]
  },
  {
   "cell_type": "code",
   "execution_count": 14,
   "metadata": {},
   "outputs": [
    {
     "name": "stdout",
     "output_type": "stream",
     "text": [
      "NAME                     READY   STATUS    RESTARTS   AGE   IP           NODE       NOMINATED NODE   READINESS GATES\n",
      "hello-868bcb8b84-j9p5g   1/1     Running   0          15m   172.17.0.5   minikube   <none>           <none>\n",
      "hello-868bcb8b84-rd6qj   1/1     Running   0          15m   172.17.0.6   minikube   <none>           <none>\n",
      "hello-868bcb8b84-z7fsc   1/1     Running   0          62s   172.17.0.9   minikube   <none>           <none>\n",
      "ubuntu                   1/1     Running   0          15m   172.17.0.8   minikube   <none>           <none>\n",
      "Name:              hello\n",
      "Namespace:         default\n",
      "Labels:            <none>\n",
      "Annotations:       <none>\n",
      "Selector:          role=hello\n",
      "Type:              ClusterIP\n",
      "IP Family Policy:  SingleStack\n",
      "IP Families:       IPv4\n",
      "IP:                10.103.95.80\n",
      "IPs:               10.103.95.80\n",
      "Port:              <unset>  8080/TCP\n",
      "TargetPort:        8080/TCP\n",
      "Endpoints:         172.17.0.5:8080,172.17.0.6:8080,172.17.0.9:8080\n",
      "Session Affinity:  None\n",
      "Events:            <none>\n"
     ]
    }
   ],
   "source": [
    "# Compare the new addresses with the new endpoints pointed by the `Service`\n",
    "!kubectl \n",
    "!kubectl "
   ]
  },
  {
   "cell_type": "markdown",
   "metadata": {},
   "source": [
    "As you can see, the IP addresses have changed, but service is pointing to the new created IP address.\n",
    "\n",
    "Thus, as mentioned, `Service` is going to create the necessary routes to get the correct IP addresses, even when the pod has been restarted.\n",
    "\n",
    "Let's see an example that runs on the cluster (which will help us understand the difference between ClusterIP, NodePort, and LoadBalancer). We created a pod called `ubuntu`. If we run a command from the `ubuntu` container, we can go to any of the IP addresses, but the contact point will be `Service`. Let's see how it works"
   ]
  },
  {
   "cell_type": "markdown",
   "metadata": {},
   "source": [
    "## Try it out\n",
    "\n",
    "1. Execute bash inside the `ubuntu` pod: `kubectl exec -it ubuntu -- bash` _Run this in the terminal, since the notebook doesn't allow interacting with the CLI_\n",
    "2. Update and upgrade `ubuntu`: `apt upadte && apt upgrade`\n",
    "3. Install curl `apt install curl'\n",
    "4. curl the IP address corresponding to service. In the example above, it would be `http://10.103.95.80:8080` or `http://hello:8080`\n",
    "5. Repeat step 4 several times, and observe the `Hostname`. "
   ]
  },
  {
   "cell_type": "markdown",
   "metadata": {},
   "source": [
    "The output should look something like this:\n",
    "<p align=center><img src=images/curl.png width=300></p>"
   ]
  },
  {
   "cell_type": "markdown",
   "metadata": {},
   "source": [
    "Observe that the same IP returns different hostnames. This is because `Service` acts as a load balancer within the cluster and it looks for the first pod that is available.\n",
    "\n",
    "Let's take a look at NodePort and how it differs from ClusterIP. Before that, make sure to delete the resources that we deployed so far:"
   ]
  },
  {
   "cell_type": "code",
   "execution_count": 16,
   "metadata": {},
   "outputs": [
    {
     "name": "stdout",
     "output_type": "stream",
     "text": [
      "deployment.apps \"hello\" deleted\n",
      "service \"hello\" deleted\n",
      "pod \"ubuntu\" deleted\n"
     ]
    }
   ],
   "source": [
    "!kubectl \n",
    "!kubectl "
   ]
  },
  {
   "cell_type": "markdown",
   "metadata": {},
   "source": [
    "## NodePort"
   ]
  },
  {
   "cell_type": "markdown",
   "metadata": {},
   "source": [
    "NodePort will create a port for each node, and that port is exposed to the outer world, so we can connect to the application using our browser!\n",
    "\n",
    "When you create a service, if you don't specify the type, it will by default be a ClusterIP service. Creating a NodePort is almost identical, except that we need to specify the type of Service, and we _might_ specify the `nodePort` number:"
   ]
  },
  {
   "cell_type": "markdown",
   "metadata": {},
   "source": [
    "```\n",
    "apiVersion: v1\n",
    "kind: Service\n",
    "metadata:\n",
    "  name: hello\n",
    "spec:\n",
    "  type: NodePort\n",
    "  ports:\n",
    "  - port: 8080\n",
    "    targetPort: 8080\n",
    "    nodePort: 30000\n",
    "  selector:\n",
    "    role: hello\n",
    "```"
   ]
  },
  {
   "cell_type": "markdown",
   "metadata": {},
   "source": [
    "## Try it out\n",
    "\n",
    "1. Create a .yaml file with the three resources: `ubuntu` pod, `hello` Deployment, and `hello` NodePort\n",
    "2. Run the file using the right kubectl command\n",
    "3. Show all the resources you created\n",
    "4. Get information about the node you have"
   ]
  },
  {
   "cell_type": "code",
   "execution_count": 63,
   "metadata": {},
   "outputs": [
    {
     "name": "stdout",
     "output_type": "stream",
     "text": [
      "deployment.apps/hello created\n",
      "service/hello created\n",
      "pod/ubuntu created\n"
     ]
    }
   ],
   "source": [
    "!kubectl "
   ]
  },
  {
   "cell_type": "code",
   "execution_count": 64,
   "metadata": {},
   "outputs": [
    {
     "name": "stdout",
     "output_type": "stream",
     "text": [
      "NAME                         READY   STATUS    RESTARTS   AGE\n",
      "pod/hello-868bcb8b84-4jzjf   1/1     Running   0          49s\n",
      "pod/hello-868bcb8b84-lpvcr   1/1     Running   0          49s\n",
      "pod/hello-868bcb8b84-shmqz   1/1     Running   0          49s\n",
      "pod/ubuntu                   1/1     Running   0          49s\n",
      "\n",
      "NAME                 TYPE        CLUSTER-IP      EXTERNAL-IP   PORT(S)          AGE\n",
      "service/hello        NodePort    10.96.225.205   <none>        8080:30000/TCP   49s\n",
      "service/kubernetes   ClusterIP   10.96.0.1       <none>        443/TCP          10h\n",
      "\n",
      "NAME                    READY   UP-TO-DATE   AVAILABLE   AGE\n",
      "deployment.apps/hello   3/3     3            3           49s\n",
      "\n",
      "NAME                               DESIRED   CURRENT   READY   AGE\n",
      "replicaset.apps/hello-868bcb8b84   3         3         3       49s\n"
     ]
    }
   ],
   "source": [
    "# Show all the services you created\n",
    "!kubectl"
   ]
  },
  {
   "cell_type": "code",
   "execution_count": 31,
   "metadata": {},
   "outputs": [
    {
     "name": "stdout",
     "output_type": "stream",
     "text": [
      "NAME                         READY   STATUS    RESTARTS   AGE\n",
      "pod/hello-868bcb8b84-jfjx5   1/1     Running   0          23m\n",
      "pod/hello-868bcb8b84-mtxt7   1/1     Running   0          23m\n",
      "pod/hello-868bcb8b84-svqw9   1/1     Running   0          23m\n",
      "pod/ubuntu                   1/1     Running   0          23m\n",
      "\n",
      "NAME                 TYPE        CLUSTER-IP      EXTERNAL-IP   PORT(S)          AGE\n",
      "service/hello        NodePort    10.98.208.104   <none>        8080:30000/TCP   23m\n",
      "service/kubernetes   ClusterIP   10.96.0.1       <none>        443/TCP          9h\n",
      "\n",
      "NAME                    READY   UP-TO-DATE   AVAILABLE   AGE\n",
      "deployment.apps/hello   3/3     3            3           23m\n",
      "\n",
      "NAME                               DESIRED   CURRENT   READY   AGE\n",
      "replicaset.apps/hello-868bcb8b84   3         3         3       23m\n"
     ]
    }
   ],
   "source": [
    "# Get information about the node you have\n",
    "!kubectl"
   ]
  },
  {
   "cell_type": "markdown",
   "metadata": {},
   "source": [
    "You can see that there is no external IP address. This is due to minikube being a testing enviroment and not a deployment environment. In a production environment, the computer in which we deploy our application would show an external IP for us to connect to it, which would be given by Kubernetes' NodePort. \n",
    "\n",
    "However, there is a workaound for getting that IP address in minikube:"
   ]
  },
  {
   "cell_type": "code",
   "execution_count": 38,
   "metadata": {},
   "outputs": [
    {
     "name": "stdout",
     "output_type": "stream",
     "text": [
      "|-----------|-------|-------------|---------------------------|\n",
      "| NAMESPACE | NAME  | TARGET PORT |            URL            |\n",
      "|-----------|-------|-------------|---------------------------|\n",
      "| default   | hello |        8080 | http://192.168.49.2:30000 |\n",
      "|-----------|-------|-------------|---------------------------|\n",
      "🏃  Starting tunnel for service hello.\n",
      "|-----------|-------|-------------|------------------------|\n",
      "| NAMESPACE | NAME  | TARGET PORT |          URL           |\n",
      "|-----------|-------|-------------|------------------------|\n",
      "| default   | hello |             | http://127.0.0.1:53984 |\n",
      "|-----------|-------|-------------|------------------------|\n",
      "🎉  Opening service default/hello in default browser...\n",
      "❗  Because you are using a Docker driver on darwin, the terminal needs to be open to run it.\n",
      "^C\n",
      "✋  Stopping tunnel for service hello.\n",
      "\n",
      "❌  Exiting due to SVC_TUNNEL_STOP: stopping ssh tunnel: os: process already finished\n",
      "\n",
      "\u001b[31m╭──────────────────────────────────────────────────────────────────────────────────────────────────────────────────────────╮\u001b[0m\n",
      "\u001b[31m│\u001b[0m                                                                                                                          \u001b[31m│\u001b[0m\n",
      "\u001b[31m│\u001b[0m    😿  If the above advice does not help, please let us know:                                                            \u001b[31m│\u001b[0m\n",
      "\u001b[31m│\u001b[0m    👉  https://github.com/kubernetes/minikube/issues/new/choose                                                          \u001b[31m│\u001b[0m\n",
      "\u001b[31m│\u001b[0m                                                                                                                          \u001b[31m│\u001b[0m\n",
      "\u001b[31m│\u001b[0m    Please run `minikube logs --file=logs.txt` and attach logs.txt to the GitHub issue.                                   \u001b[31m│\u001b[0m\n",
      "\u001b[31m│\u001b[0m    Please also attach the following file to the GitHub issue:                                                            \u001b[31m│\u001b[0m\n",
      "\u001b[31m│\u001b[0m    - /var/folders/4f/xpp0jkl15tsfprwr_fyddmnc0000gn/T/minikube_service_5f1db658b2aa62ff84ecbe64ef9c0ee82fbfdeff_0.log    \u001b[31m│\u001b[0m\n",
      "\u001b[31m│\u001b[0m                                                                                                                          \u001b[31m│\u001b[0m\n",
      "\u001b[31m╰──────────────────────────────────────────────────────────────────────────────────────────────────────────────────────────╯\u001b[0m\n",
      "\n"
     ]
    }
   ],
   "source": [
    "!minikube service hello"
   ]
  },
  {
   "cell_type": "markdown",
   "metadata": {},
   "source": [
    "While this is running, minikube will expose the mentioned URL for you to connect to the service. This is in essence what the production environment would do: export an external IP address to which you will add a port, and it will connect you to the pods in the cluster.\n",
    "\n",
    "Before moving on to the next `Service`, delete all the resources you have created"
   ]
  },
  {
   "cell_type": "code",
   "execution_count": 62,
   "metadata": {},
   "outputs": [
    {
     "name": "stdout",
     "output_type": "stream",
     "text": [
      "deployment.apps \"hello\" deleted\n",
      "service \"hello\" deleted\n",
      "pod \"ubuntu\" deleted\n"
     ]
    }
   ],
   "source": [
    "!kubectl delete -f node_port.yaml"
   ]
  },
  {
   "cell_type": "markdown",
   "metadata": {},
   "source": [
    "### LoadBalancer\n",
    "\n",
    "`LoadBalancer` is a way to (more or less) uniformly distribute requests across `Node`s. These are often provided by cloud providers (one can also specify a different one via [`.spec.loadBalancerClass`](https://kubernetes.io/docs/concepts/services-networking/service/#load-balancer-class).\n",
    "\n",
    "It might look similar to NodePorts, however, LoadBalancers will be helpful for saving you from thinking about the node you want to connect to. LoadBalancers will create a __general__ IP Address that will connect to __any__ of the available nodes. On the other hand, NodePort will create a different IP address for each node, and then you will have to connect to an individual node.\n",
    "\n",
    "Additionally, LoadBalancers will set the exposed port for you. You can create it using `LoadBalancer` in `spec.type`"
   ]
  },
  {
   "cell_type": "markdown",
   "metadata": {},
   "source": [
    "```\n",
    "apiVersion: v1\n",
    "kind: Service\n",
    "metadata:\n",
    "  name: hello\n",
    "spec:\n",
    "  type: LoadBalancer\n",
    "  ports:\n",
    "  - port: 8080\n",
    "    targetPort: 8080\n",
    "  selector:\n",
    "    role: hello"
   ]
  },
  {
   "cell_type": "code",
   "execution_count": 40,
   "metadata": {},
   "outputs": [
    {
     "name": "stdout",
     "output_type": "stream",
     "text": [
      "deployment.apps/hello created\n",
      "service/hello created\n",
      "pod/ubuntu created\n"
     ]
    }
   ],
   "source": [
    "!kubectl apply -f node_port.yaml"
   ]
  },
  {
   "cell_type": "code",
   "execution_count": 58,
   "metadata": {},
   "outputs": [
    {
     "name": "stdout",
     "output_type": "stream",
     "text": [
      "NAME         TYPE           CLUSTER-IP      EXTERNAL-IP   PORT(S)          AGE\n",
      "hello        LoadBalancer   10.99.190.249   <pending>     8080:31265/TCP   19m\n",
      "kubernetes   ClusterIP      10.96.0.1       <none>        443/TCP          10h\n"
     ]
    }
   ],
   "source": [
    "!kubectl get svc"
   ]
  },
  {
   "cell_type": "markdown",
   "metadata": {},
   "source": [
    "For cloud environments, one can specify `loadBalancer` via `metadata.annotations` (we will talk about them in more detail later) within your `Service` configuration.\n",
    "\n",
    "A larger list can be found [here](https://kubernetes.io/docs/concepts/services-networking/service/#internal-load-balancer):"
   ]
  },
  {
   "cell_type": "markdown",
   "metadata": {},
   "source": [
    "# Ingress\n",
    "\n",
    "> `Kubernetes` object that manages external access to the services in a cluster\n",
    "\n",
    "![](./images/ingress-one-service.png)\n",
    "\n",
    "A few features:\n",
    "- exposes `HTTP`/`HTTPS` from outside cluster to `Service`s within cluster\n",
    "- may provide `load balancing`\n",
    "- may provide `SSL Termination` (decryption of data sent to cluster via `SSL`)\n",
    "\n",
    "One has to install `ingress controller` of some sorts, available options are described [here](https://kubernetes.io/docs/concepts/services-networking/ingress-controllers/).\n",
    "\n",
    "If you want to install it in `minikube` run the following command:"
   ]
  },
  {
   "cell_type": "code",
   "execution_count": 56,
   "metadata": {},
   "outputs": [
    {
     "name": "stdout",
     "output_type": "stream",
     "text": [
      "💡  After the addon is enabled, please run \"minikube tunnel\" and your ingress resources would be available at \"127.0.0.1\"\n",
      "    ▪ Using image k8s.gcr.io/ingress-nginx/kube-webhook-certgen:v1.0\n",
      "    ▪ Using image k8s.gcr.io/ingress-nginx/kube-webhook-certgen:v1.0\n",
      "    ▪ Using image k8s.gcr.io/ingress-nginx/controller:v1.0.0-beta.3\n",
      "🔎  Verifying ingress addon...\n",
      "🌟  The 'ingress' addon is enabled\n"
     ]
    }
   ],
   "source": [
    "!minikube addons enable ingress"
   ]
  },
  {
   "cell_type": "markdown",
   "metadata": {},
   "source": [
    "To check that the ingress controller is working fine, you can run:"
   ]
  },
  {
   "cell_type": "code",
   "execution_count": 57,
   "metadata": {},
   "outputs": [
    {
     "name": "stdout",
     "output_type": "stream",
     "text": [
      "NAME                                        READY   STATUS      RESTARTS   AGE\n",
      "ingress-nginx-admission-create--1-z7l8g     0/1     Completed   0          86s\n",
      "ingress-nginx-admission-patch--1-hwz4q      0/1     Completed   1          86s\n",
      "ingress-nginx-controller-69bdbc4d57-p5w9g   1/1     Running     0          86s\n"
     ]
    }
   ],
   "source": [
    "!kubectl get pods -n ingress-nginx"
   ]
  },
  {
   "cell_type": "markdown",
   "metadata": {},
   "source": [
    "Ingress will create an nginx controller as well as a load balancer or a NodePort, depending on the platform you use. Observe the following output"
   ]
  },
  {
   "cell_type": "code",
   "execution_count": 69,
   "metadata": {},
   "outputs": [
    {
     "name": "stdout",
     "output_type": "stream",
     "text": [
      "NAME                                 TYPE        CLUSTER-IP       EXTERNAL-IP   PORT(S)                      AGE\n",
      "ingress-nginx-controller             NodePort    10.106.163.35    <none>        80:31320/TCP,443:31400/TCP   17m\n",
      "ingress-nginx-controller-admission   ClusterIP   10.104.117.146   <none>        443/TCP                      18m\n"
     ]
    }
   ],
   "source": [
    "!kubectl -n ingress-nginx get svc"
   ]
  },
  {
   "cell_type": "markdown",
   "metadata": {},
   "source": [
    "\n",
    "## Defining resource\n",
    "\n",
    "As per usual, `.yaml` config:"
   ]
  },
  {
   "cell_type": "code",
   "execution_count": null,
   "metadata": {},
   "outputs": [],
   "source": [
    "---\n",
    "apiVersion: networking.k8s.io/v1\n",
    "kind: Ingress\n",
    "metadata:\n",
    "  name: minimal-ingress\n",
    "  annotations:\n",
    "    nginx.ingress.kubernetes.io/rewrite-target: /\n",
    "spec:\n",
    "  rules:\n",
    "  - http:\n",
    "      paths:\n",
    "      - path: /testpath\n",
    "        pathType: Prefix\n",
    "        backend:\n",
    "          service:\n",
    "            name: test\n",
    "            port:\n",
    "              number: 80"
   ]
  },
  {
   "cell_type": "markdown",
   "metadata": {},
   "source": [
    "You will see more on Ingress in the practicals!"
   ]
  }
 ],
 "metadata": {
  "interpreter": {
   "hash": "569d6b7e9215e11aba41c6454007e5c1b78bad7df09dab765d8cf00362c40f03"
  },
  "kernelspec": {
   "display_name": "Python 3.9.1 64-bit ('base': conda)",
   "name": "python3"
  },
  "language_info": {
   "codemirror_mode": {
    "name": "ipython",
    "version": 3
   },
   "file_extension": ".py",
   "mimetype": "text/x-python",
   "name": "python",
   "nbconvert_exporter": "python",
   "pygments_lexer": "ipython3",
   "version": "3.9.1"
  }
 },
 "nbformat": 4,
 "nbformat_minor": 5
}
