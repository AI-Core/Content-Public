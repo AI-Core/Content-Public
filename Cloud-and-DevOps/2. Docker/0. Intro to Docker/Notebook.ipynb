{
 "cells": [
  {
   "cell_type": "markdown",
   "metadata": {},
   "source": [
    "# Intro to Docker\n",
    "\n",
    "<p align=center><a href=https://www.docker.com><img src=images/Docker_Logo.png width=400></a></p>"
   ]
  },
  {
   "cell_type": "markdown",
   "metadata": {},
   "source": [
    "## Introduction"
   ]
  },
  {
   "cell_type": "markdown",
   "metadata": {},
   "source": [
    "\n",
    "You have probably encountered an issue where the main problem is the compatibiity between the application you are running and your Operating System, or the installed packages. Wouldn't it be nice if all applications have a common ground that can be executed in any operating sytem? \n",
    "\n",
    "The solution is [Docker](https://www.docker.com), a tool that <i>container</i>ises your application so that it can ran in any environment. Containerising is the process of using containers that hold your application and all your dependencies in a single environment.\n",
    "\n",
    "This idea was an extension of LXC (Linux Containers) and their usage, and __revolutionized the way we deploy software__.\n",
    "\n",
    "__What can I use Docker for?__\n",
    "- Standardized development environment across many workstations\n",
    "- Consistent deployment of applications\n",
    "- Full reproducibility (e.g. for research)"
   ]
  },
  {
   "cell_type": "markdown",
   "metadata": {},
   "source": [
    "### Intro to Containers and Images\n",
    "\n",
    "But wait... What is a container? You can think of a container as a Virtual Machine (VM), however, whilst a VM virtualises the hardware (how much RAM, memory you have), a container only virtualises the Operating System (OS). However, Docker doesn't just make a copy of the OS you want to work with, it will provide the necessary tools that will make the specific OS run. \n",
    "\n",
    "So, let's say for example that your application runs in the latest ubuntu version. Docker will NOT install the latest version each time you need to run your application, it will simply get the tools necessary to run that version without installing a whole OS. \n",
    "\n",
    "But, you might be wondering that even the tools might need a time to be installed right? That's correct, but the good thing about Docker is that it install them only once (unless you unistall it), and next time you want to run the same application, Docker will know where these tools have been installed. To do so, Docker relies on a powerful tool named Docker images, which are the templates to run containers. \n",
    "\n",
    "You can think of Docker images as Python classes, and containers as the Python instances. The image is the blueprint that indicates all the steps needed to run the container in which your application is held. The first time you `build` the image, those tools you need to run your application will be downloaded and installed, and Docker will know how to access those tools when you run you application again. \n",
    "\n",
    "One nifty trick Docker does to be more efficient is that those tools can be shared between images, so if you create another image where those tools are used again, Docker won't download or install them, because it knows how to find them.\n",
    "\n",
    "> <font size=+1>Docker allows us to package our code, apps etc. with all the necessary dependencies in a self-contained environment called a `Docker image`. We can then create instances of these images, which we call `Docker containers` </font>"
   ]
  },
  {
   "cell_type": "markdown",
   "metadata": {},
   "source": [
    "### Why are containers so important?"
   ]
  },
  {
   "cell_type": "markdown",
   "metadata": {},
   "source": [
    "Now that you know what a container is, we can have a summary of why they are so important (and powerful)\n",
    "\n",
    "Let's see how containers changed the deployment landscape:\n",
    "\n",
    "<p align=center><img src=images/container_evolution.svg width=800></p>\n",
    "\n",
    "When deploying a regular application, the application is quite lightweight because we just deploy the code for running the applcation, but we don't (usually) have in mind the operating system that application. If we wanted, say for example, deploy the whole virtual machine, we would need to install and launch the whole operating system everytime we want to run the application. Containers takes the best of both worlds and combines the lightweightness of deploying an application the traditional way with the fact that we can take into account that it can run in multiple applications.\n",
    "\n",
    "__Benefits__:\n",
    "- Containers are more lightweight than VMs\n",
    "- They are __immutable__, meaning that their content won't change once we create the image\n",
    "- You can easily create or destroy a container whenever you need it.\n",
    "- All your application's necessities can be packed within the container\n",
    "- Containers are reproducible since they run the same everywhere, regardless of the host OS.\n",
    "- __Micro-services__ - app can be broken into multiple separate containers communicating with each other:\n",
    "    - We only change image we need\n",
    "    - No need to deploy everything a-new\n",
    "    - Easily switchable components "
   ]
  },
  {
   "cell_type": "markdown",
   "metadata": {},
   "source": [
    "## Setting up Docker\n"
   ]
  },
  {
   "cell_type": "markdown",
   "metadata": {},
   "source": [
    "Important! Before starting the rest of the notebook, it is recommended to use VSCode in your local machine, since the files you will run need the Docker engine to containerise your applications locally.\n",
    "\n",
    "When creating a Docker image, your computer will need to create containers that, even though they are not VMs, they still need to allocate a memory slot (it's more complicated than `memory slots`, but for simplicity reasons, let's leave it like this) that will run certain tools that your OS might not support. \n",
    "\n",
    "In order to grant access to those memory slots, your computer needs to start an engine that creates the containers within your computer. Each OS has different ways to do so, for example, for Windows and iOS, you need to install Docker Desktop that will take care of creating the corresponding engine that will create the containers. On the other hand, Linux distributions are much more flexible, and you can run Docker just by installing the engine to create the containers.\n",
    "\n",
    "Here we are going to see how to install Docker for each OS. \n",
    "\n",
    "<details>\n",
    "    <summary> <font size=+2> For Linux Users </font> </summary>\n",
    "\n",
    "To use Docker on Linux, you need to install Docker engine, which is the core technology of Docker. To insall it, go to the following webpage and follow the [instructions](https://docs.docker.com/engine/install/centos/). There, you will find how to install Docker based on your distribution.\n",
    "\n",
    "If you are using Ubuntu, you can simply go to this [website](https://docs.docker.com/engine/install/ubuntu/). Make sure you follow the instructions that installs Docker engine `Using the repository`\n",
    "\n",
    "<p align=center> <img src=images/Docker_Engine.png width=400> </p>\n",
    "\n",
    "</details>\n",
    "\n",
    "<details>\n",
    "    <summary> <font size=+2>  For Mac Users and any Windows Users that doesn't have Home Edition </font> </summary>\n",
    "\n",
    "In order to use Docker on Mac, you need to install Docker Desktop. For both Mac and Windows, you can download it from this [website](https://docs.docker.com/desktop/)\n",
    "\n",
    "<p align=center> <img src=images/Docker_install.png width=400> </p>\n",
    "\n",
    "After that, select the operating system you are using. Remember that if you are using Windows Home Edition, you need to refer to the next section (in this notebook) to complete the installation.\n",
    "\n",
    "</details>\n",
    "\n",
    "<details>\n",
    "    <summary> <font size=+2>  For Windows Home Edition Users </font> </summary>\n",
    "\n",
    "Unfortunatelly, Windows Home edition is the worst for installing anything that requires accessing your kernel. Luckily, there is (complicated) workaround this. You need to install the Hyper-V-Enabler, which grants permission to Docker for accessing your kernel. To download it, click this [link](https://aicore-files.s3.amazonaws.com/Foundations/DevOps/Hyper-V-Enabler.bat)\n",
    "\n",
    "Then, in the Windows searchbar, look for 'Turn Windows Features On or Off', and enable the following:\n",
    "- Hyper-V Management Tools\n",
    "- Hyper-V Platform\n",
    "- Windows Hypervisor Platform\n",
    "- Windows Subsystem for Linux\n",
    "\n",
    "<p align=center> <img src=images/Docker_Home_Edition.png width=400> </p>\n",
    "\n",
    "You also might need to install the latest version of WSL. So you can install it using the following [file](https://aicore-files.s3.amazonaws.com/Foundations/DevOps/wsl_update_x64.msi)\n",
    "\n",
    "After that, follow the instructions included in the `For Mac Users and any Windows Users that doesn't have Home Edition`\n",
    "</details>\n",
    "\n",
    "For all versions, once you installed it, make sure the installation went fine by running `docker --version` in your CLI"
   ]
  },
  {
   "cell_type": "markdown",
   "metadata": {},
   "source": [
    "### Docker Hub"
   ]
  },
  {
   "cell_type": "markdown",
   "metadata": {},
   "source": [
    "So, we have been talkin about containers and how they set up a common ground for all applications. Many other users have the images to create those containers available for the rest of the world, so everytime you need to run an application, you don't have to do it from scratch. \n",
    "\n",
    "> <font size=+1> Docker Hub is a repository that stores Docker images from users all across the world </font>\n",
    "\n",
    "You can think of Docker Hub as the GitHub for repositories, or the Pypi for Python packages. \n",
    "\n",
    "We will get more in depth with Docker Hub, but for now, let's create an account that we will eventually need to upload our images.\n",
    "\n",
    "First, go to the [Docker Hub website](https://hub.docker.com) and create an account\n",
    "\n",
    "<p align=center> <img src=images/Docker_Hub.png width=600> </p>\n",
    "\n",
    "We will go back to DockerHub later in this notebook, and you will need to sign in through your terminal, so make sure you remember the password you used!\n",
    "\n",
    "For now, one thing to bear in mind: you are going to use base images to create your own Docker images, and those base images are stored in Docker Hub."
   ]
  },
  {
   "cell_type": "markdown",
   "metadata": {},
   "source": [
    "## Docker Images and Dockerfile\n"
   ]
  },
  {
   "cell_type": "markdown",
   "metadata": {},
   "source": [
    "> <font size=+1>Docker image are the instructions needed to create an instance of the Docker container</font>\n",
    "\n",
    "Thus, Docker images are essentially a set of steps that the Docker engine will take to create the environment we need to run our application. Those steps are declared in a file named `Dockerfile`, which is a special type of file that Docker will look for whenever you want to build an image. \n",
    "\n",
    "`Dockerfile` doesn't contain any extension, the name of the file is literally `Dockerfile`, but you might use it as the extension. For example, if the Dockerfile specifies the steps to create an image for an API image, you can call it `api.Dockerfile`\n",
    "\n",
    "In VSCode, when you create a Dockerfile, it will automatically recognize it as a Dockerfile, and you will notice thanks to the characteristic whale icon.\n",
    "\n",
    "<p align=center> <img src=images/Docker_icon.png width=200> </p>"
   ]
  },
  {
   "cell_type": "markdown",
   "metadata": {},
   "source": [
    "Once you create the Dockerfile, you can start containerising your application, but of course, you need to specify the commands you want Docker to run. \n",
    "\n",
    "Thus, let's take a look at what you can do inside a Dockerfile by looking at an example. \n",
    "\n",
    "Dockerfiles will contain instructions, such as `FROM`, `RUN`, `CMD`, `COPY`... The capitalised words starting each line in the Dockerfile are called __instructions__ and are basically commands, followed by arguments (like in terminal), which the docker build command knows how to execute. Docker build runs each of these instructions in turn to create the docker image."
   ]
  },
  {
   "cell_type": "markdown",
   "metadata": {},
   "source": [
    "### Your first Docker image"
   ]
  },
  {
   "cell_type": "markdown",
   "metadata": {},
   "source": [
    "In this example you will create a Docker image that runs the celebrity_births scraper you can find in the `Software Design and Testing` module. In case you haven't completed that part yet (or you forgot where you put the file), you can download the files [here](https://aicore-files.s3.amazonaws.com/Foundations/DevOps/celebrity_example.zip)\n",
    "\n",
    "After you download the file, `cd` to that folder and create the Dockerfile. Call the file `Dockerfile` and let's dive into it."
   ]
  },
  {
   "cell_type": "markdown",
   "metadata": {},
   "source": [
    "Inside the Dockerfile start writing this:"
   ]
  },
  {
   "cell_type": "markdown",
   "metadata": {},
   "source": [
    "```Dockerfile\n",
    "FROM python:3.8-slim-buster\n",
    "```"
   ]
  },
  {
   "cell_type": "markdown",
   "metadata": {},
   "source": [
    "Usually, Docker images are built from a pre-built image Docker can find on Docker Hub. The pre-built image usually contains some dependencies. For example, a common one is to use an image with Python installed. You can download and run the pre-built image using the `FROM` clause as we see above. \n",
    "\n",
    "So, with the first command we added, we will start creating our image with the necessary Python dependencies."
   ]
  },
  {
   "cell_type": "markdown",
   "metadata": {},
   "source": [
    "The next thing we need is to install or copy what we want inside the docker container. Remember that the directory you add is relative to the position Dockerfile is.\n",
    "\n",
    "In your Dockerfile add the following line"
   ]
  },
  {
   "cell_type": "markdown",
   "metadata": {},
   "source": [
    "```\n",
    "COPY . . \n",
    "```"
   ]
  },
  {
   "cell_type": "markdown",
   "metadata": {},
   "source": [
    "This will copy everything in the Dockerfile directory (`requirements.txt` and the `scraper` folder) inside the container.\n",
    "\n",
    "It's very important to understand this step. When you build the image, you are going to copy your files inside the container, and it will be like they will be in another computer. Think about the container as a separate computer where you will copy the files. So at this point, it will be like having another mini computer with Python installed and your scraper in it"
   ]
  },
  {
   "cell_type": "markdown",
   "metadata": {},
   "source": [
    "One more thing you need before running the scraper is installing your python packages, like beautifulsoup and requests. Luckily, we also copied the requirements file into the image, so we can run it directly."
   ]
  },
  {
   "cell_type": "markdown",
   "metadata": {},
   "source": [
    "```\n",
    "RUN pip install -r requirements.txt\n",
    "```"
   ]
  },
  {
   "cell_type": "markdown",
   "metadata": {},
   "source": [
    "We are almost there! The only thing left to do is running the python script. We can't use the `RUN` clause here, because `RUN` is executed when the image is built. We need a command that is executed when we run the image, and that clause is `CMD`"
   ]
  },
  {
   "cell_type": "markdown",
   "metadata": {},
   "source": [
    "```\n",
    "CMD [\"python\", \"scraper/celebrity_scraper.py\"]\n",
    "```"
   ]
  },
  {
   "cell_type": "markdown",
   "metadata": {},
   "source": [
    "This clause has many ways to be declared, in this case, we are using square brackets, and the first item is the executable (`python`) and the rest of items are the parameters (files)"
   ]
  },
  {
   "cell_type": "markdown",
   "metadata": {},
   "source": [
    "Now we are ready to build the image! In your command line interface, if you are not in the `celebrity_example` directory, move into it. Then, we need to use the `build` command from Docker. It has the following syntax:"
   ]
  },
  {
   "cell_type": "markdown",
   "metadata": {},
   "source": [
    "`docker build [OPTIONS] [Dockerfile path]` "
   ]
  },
  {
   "cell_type": "markdown",
   "metadata": {},
   "source": [
    "You can check the options [here](https://docs.docker.com/engine/reference/commandline/build/). One of the common options you may want to use is the -t flag, to give a `tag` to our image. That way, the image will have a name. \n",
    "\n",
    "Since we are in the same directory as the Dockerfile, the Dockerfile path is simply a dot (`.`)\n",
    "\n",
    "Run the following command in your command line"
   ]
  },
  {
   "cell_type": "code",
   "execution_count": null,
   "metadata": {
    "ExecuteTime": {
     "end_time": "2021-04-05T01:44:41.240499Z",
     "start_time": "2021-04-05T01:44:40.269Z"
    }
   },
   "outputs": [],
   "source": [
    "docker build -t celebrities:latest ."
   ]
  },
  {
   "cell_type": "markdown",
   "metadata": {},
   "source": [
    "The `latest` after the name of our image is the tag (or the version if you prefer)"
   ]
  },
  {
   "cell_type": "markdown",
   "metadata": {},
   "source": [
    "We have just created our first image! Let's check if the image has been properly created by running the following cell"
   ]
  },
  {
   "cell_type": "code",
   "execution_count": null,
   "metadata": {
    "ExecuteTime": {
     "end_time": "2021-04-05T01:45:15.494461Z",
     "start_time": "2021-04-05T01:45:15.341555Z"
    }
   },
   "outputs": [],
   "source": [
    "docker images # show our current images on this machine"
   ]
  },
  {
   "cell_type": "markdown",
   "metadata": {},
   "source": [
    "<p align=center> <img src=images/Docker_images.png width=600> </p>"
   ]
  },
  {
   "cell_type": "markdown",
   "metadata": {},
   "source": [
    "Ok, so we have just built an image, let's run it. We can run an image using the following syntax:"
   ]
  },
  {
   "cell_type": "markdown",
   "metadata": {},
   "source": [
    "`docker run [OPTIONS] IMAGE[:TAG|@DIGEST] [COMMAND] [ARG...]`"
   ]
  },
  {
   "cell_type": "markdown",
   "metadata": {},
   "source": [
    "Let's try running our celebrities image running the following command:"
   ]
  },
  {
   "cell_type": "markdown",
   "metadata": {},
   "source": [
    "`docker run celebrities`"
   ]
  },
  {
   "cell_type": "markdown",
   "metadata": {},
   "source": [
    "This will throw an error, because the script expects an input, but right now, the image is running in a non-interactive mode. To change that, we need to add the options -i and -t. `-i` will keep the STDIN open, and `-t` will make the process interactive\n",
    "\n",
    "<p align=center> <img src=images/Docker_run_error.png width=600> </p>"
   ]
  },
  {
   "cell_type": "markdown",
   "metadata": {},
   "source": [
    "`docker run -it celebrities`"
   ]
  },
  {
   "cell_type": "markdown",
   "metadata": {},
   "source": [
    "<p align=center> <img src=images/Docker_run.png width=600> </p>\n",
    "\n",
    "Success! you can use this image everywhere now, regardless of the OS and dependencies installed in it. But how do you distribute it? Using Docker Hub!\n",
    "\n",
    "You have already created an account on Docker Hub, so now you can go to your command line and run:\n",
    "\n",
    "```\n",
    "docker login\n",
    "```\n",
    "\n",
    "Then enter your credentials"
   ]
  },
  {
   "cell_type": "markdown",
   "metadata": {},
   "source": [
    "The images you push to docker hub needs to have a specific name: \n",
    "```\n",
    "<username>/<image_name>:<tag>\n",
    "```\n",
    "So, let's create a copy of the existing image with a new name. We can use the docker tag command to do so. The syntax is as follow:"
   ]
  },
  {
   "cell_type": "markdown",
   "metadata": {},
   "source": [
    "```\n",
    "docker tag <Image_Id> <New name>\n",
    "```"
   ]
  },
  {
   "cell_type": "markdown",
   "metadata": {},
   "source": [
    "Image_id can be seen when you run `docker image` (See picture above), let's run the following command. In my case, my username is ivanyingx, so change that with your username, and the Image_id is 82a51cbd4876:"
   ]
  },
  {
   "cell_type": "markdown",
   "metadata": {},
   "source": [
    "```\n",
    "docker tag 82a51cbd4876 ivanyingx/celebrities:v1\n",
    "```\n",
    "\n",
    "Then, you can check that the image has been properly created by running docker images again"
   ]
  },
  {
   "cell_type": "markdown",
   "metadata": {},
   "source": [
    "<p align=center> <img src=images/Docker_tag.png width=600> </p>"
   ]
  },
  {
   "cell_type": "markdown",
   "metadata": {},
   "source": [
    "By the way, you can also check this information in the Docker Desktop if you are on Mac or Windows:"
   ]
  },
  {
   "cell_type": "markdown",
   "metadata": {},
   "source": [
    "<p align=center> <img src=images/Docker_Desktop.png width=600> </p>\n"
   ]
  },
  {
   "cell_type": "markdown",
   "metadata": {},
   "source": [
    "Finally, it's time to push the image to Docker Hub. Pushing an image is very similar to pushing a repository to github, simply use docker push!"
   ]
  },
  {
   "cell_type": "markdown",
   "metadata": {},
   "source": [
    "`docker push ivanyingx/celebrities:v1`"
   ]
  },
  {
   "cell_type": "markdown",
   "metadata": {},
   "source": [
    "You can check that your image has been uploaded by going to your docker hub account:\n",
    "\n",
    "<p align=center> <img src=images/Docker_Hub_example.png width=600> </p>\n"
   ]
  },
  {
   "cell_type": "markdown",
   "metadata": {},
   "source": [
    "If any user wants to run your container, they can do it directly running it on their local machines. For example, in this case, you can run _my_ image by running:"
   ]
  },
  {
   "cell_type": "markdown",
   "metadata": {},
   "source": [
    "`docker pull ivanyingx/celebrities` This will download the image\n",
    "\n",
    "and then \n",
    "\n",
    "`docker run ivanyingx/celebrities` This will run the image"
   ]
  },
  {
   "cell_type": "markdown",
   "metadata": {},
   "source": [
    "You can also run directly `docker run ivanyingx/celebrities`, which will perform both operations.\n",
    "\n",
    "Congratulations! You have created and pushed your first Docker image! The rest of your Docker path will consist on practicing (a lot!). The rest of the notebook dives deeper in the concepts we have seen so far, adding some commands you might find useful in the Dockerfile"
   ]
  },
  {
   "cell_type": "markdown",
   "metadata": {},
   "source": [
    "## Summary\n",
    "\n",
    "What we've learned:\n",
    "- What Docker is and how it can help us distribute our application across multiple operating systems. \n",
    "- Now know what Docker Hub is and how i can be useful to get prebuilt images containers. \n",
    "- What a Docker image is and how to build it using a Docker file.\n",
    "- Learned what a Docker container is and how to run a container from the command line."
   ]
  }
 ],
 "metadata": {
  "kernelspec": {
   "display_name": "Bash [conda env:.conda-AiCore] *",
   "language": "bash",
   "name": "conda-env-.conda-AiCore-bash"
  },
  "language_info": {
   "codemirror_mode": "shell",
   "file_extension": ".sh",
   "mimetype": "text/x-sh",
   "name": "bash"
  }
 },
 "nbformat": 4,
 "nbformat_minor": 2
}
