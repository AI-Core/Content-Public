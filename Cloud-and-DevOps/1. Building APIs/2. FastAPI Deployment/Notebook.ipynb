{
 "cells": [
  {
   "cell_type": "markdown",
   "metadata": {},
   "source": [
    "# Deploying your FastAPI"
   ]
  },
  {
   "cell_type": "markdown",
   "metadata": {},
   "source": [
    "You have an API that is able to send back some JSON responses. Usually, an API is intended for other people to be used. Thus, the API you create should be deployed to a web server so other users can make requests to it. \n",
    "\n",
    "In this notebook we are going to show you two alternatives for deploying your FastAPI app: [EC2 instance](#ec2-instance) and [Deta](#deta)"
   ]
  },
  {
   "cell_type": "markdown",
   "metadata": {},
   "source": [
    "# EC2 Instance"
   ]
  },
  {
   "cell_type": "markdown",
   "metadata": {},
   "source": [
    "When running an application using uvicorn, you can check how it looks going to the localhost and port you specified, which by default are `127.0.0.1` and `8000` respectively. You can do something similar but allowing the rest of the world accessing your application if they connect to your EC2 instance and ir redirects the user to the API.\n",
    "\n",
    "To deploy your API to an EC2 instance, follow these steps:\n",
    "1. Create a GitHub repo, and upload your project\n",
    "2. Create an Ubuntu 20.04 EC2 instance. Make sure you enable the HTTP, and SSH ports in the Inbound rules of the Security Group. Additionally, add a custom TCP (Transmission Control Protocol) connection that accepts port 8000 (or the one you want to use when lauching your app through uvicorn). You might be wondering why we need to establish the TCP rule if we are going to use ; essentially TCP is used to establish the connection by opening the port that you are going to use to launch your app. For example, in this case, we will use port 8000 to launch the FastAPI app.\n"
   ]
  },
  {
   "cell_type": "markdown",
   "metadata": {},
   "source": [
    "\n",
    "<p align=center><img src=images/connections.png width=400></p>\n",
    "\n",
    "\n",
    "3. SSH to your instance and update\n",
    "\n",
    "```    \n",
    "        sudo apt update\n",
    "        sudo apt upgrade -y\n",
    "```    \n",
    "\n",
    "4. Install python dependencies: \n",
    "\n",
    "```        \n",
    "        sudo apt-get install -y -q python3-pip python3-dev python3-venv\n",
    "```\n",
    "\n",
    "5. Create the work directory and create a venv:\n",
    "\n",
    "```\n",
    "        sudo mkdir /var/myapp\n",
    "        cd /var/myapp\n",
    "        sudo python3 -m venv venv\n",
    "        . venv/bin/activate\n",
    "```\n",
    "\n",
    "6. Clone your repo into `src` and move inside:\n",
    "\n",
    "```    \n",
    "        sudo git clone <your repo URL> src\n",
    "        cd src\n",
    "```    \n",
    "\n",
    "7. Install your packages:\n",
    "\n",
    "```\n",
    "        sudo pip install -r requirements.txt\n",
    "```\n",
    "\n",
    "8. Run your `main.py`. Make sure that, if you run it directly using python, main.py calls for uvicorn inside with the right port numbers. If you run it from uvicorn, you have to specify the ports in the command line. Thus, the last part of `main.py` can look like this:"
   ]
  },
  {
   "cell_type": "code",
   "execution_count": null,
   "metadata": {},
   "outputs": [],
   "source": [
    "if __name__ == '__main__':\n",
    "    configure_routing()\n",
    "    uvicorn.run(app, port=8000, host='0.0.0.0')\n",
    "else:\n",
    "    configure_routing()"
   ]
  },
  {
   "cell_type": "markdown",
   "metadata": {},
   "source": [
    "So you can call it either by running:\n",
    "\n",
    "`sudo python3 main.py`\n",
    "\n",
    "Or\n",
    "\n",
    "`uvicorn --host 0.0.0.0 --port 8000 main:app`"
   ]
  },
  {
   "cell_type": "markdown",
   "metadata": {},
   "source": [
    "You can check if it worked by going to the public IP of your EC2 instance, and add :8000. In this example, the public IP is `54.236.20.149`, so to check if it worked, I connected to http://54.236.20.149:8000/docs, and this is the result:\n",
    "\n",
    "<p align=center><img src=images/EC2_Fastapi.png width=600></p>"
   ]
  },
  {
   "cell_type": "markdown",
   "metadata": {},
   "source": [
    "And you can start making requests to it"
   ]
  },
  {
   "cell_type": "code",
   "execution_count": 3,
   "metadata": {},
   "outputs": [
    {
     "data": {
      "text/plain": [
       "{'first name': 'Steve',\n",
       " 'last_name': 'Carrel',\n",
       " 'Date of Birth': '1962-08-16',\n",
       " 'City': 'Concord, Massachusetts, U.S.'}"
      ]
     },
     "execution_count": 3,
     "metadata": {},
     "output_type": "execute_result"
    }
   ],
   "source": [
    "import requests\n",
    "\n",
    "requests.get('http://54.236.20.149:8000/api/dob/Steve?last_name=Carrel&city=true').json()"
   ]
  },
  {
   "cell_type": "markdown",
   "metadata": {},
   "source": [
    "## Making your API scalable\n",
    "\n",
    "One of the advantages of running your API on a virtual machine is that you can run your API using nginx and Gunicorn. In short, they are going to allow multiple users connect to your API at the same time\n",
    "\n",
    "<p align=center><img src=images/Gunicorn.png width=400></p>\n",
    "\n",
    "While nginx will handle the https calls, Gunicorn will fan out the calls to several Uvicorn servers. This structure is actually common in other web frameworks such as Flask and Django.\n",
    "\n",
    "To get all these features implemented for your application, you can create a new EC2 instance without the custom connection and you can add a HTTPS connection rule in case you will add an SSL to the application\n",
    "\n",
    "<p align=center><img src=images/connections_2.png width=400></p>\n",
    "\n",
    "Then follow the same steps until step 6, and follow the steps below.\n",
    "\n",
    "Alternatively, you can change the inbound rules of the existing EC2"
   ]
  },
  {
   "cell_type": "markdown",
   "metadata": {},
   "source": [
    "\n",
    "7. Install your packages, nginx, and gunicorn\n",
    "```\n",
    "        sudo pip install -r requirements.txt\n",
    "        sudo pip install gunicorn\n",
    "        sudo apt-get install nginx\n",
    "```\n",
    "8. Right now, if we access the HTTP address corresponding to the EC2 instance, we will see the next webpage:<p align=center><img src=images/nginx.png width=600></p> which means that your EC2 is already hosting a nginx server. But you need to tell nginx what to listen to. Thus, you need to change the nginx configuration:\n",
    "```    \n",
    "        sudo vim /etc/nginx/sites-available/myapp\n",
    "```"
   ]
  },
  {
   "cell_type": "markdown",
   "metadata": {},
   "source": [
    "\n",
    "- Use the following settings:\n",
    "```\n",
    "            server{\n",
    "                server_name <Public IPv4 address of your EC2>;\n",
    "                location / {\n",
    "                    include proxy_params;\n",
    "                    proxy_pass http://127.0.0.1:8000;\n",
    "                }\n",
    "            }\n",
    "```\n",
    "The proxy_pass parameter uses the default Uvicorn settings, but if you are using other settings, make sure you change them in the settings above.\n"
   ]
  },
  {
   "cell_type": "markdown",
   "metadata": {},
   "source": [
    "\n",
    "9. Create a soft link between the settings and the sites enabled by nginx: \n",
    "\n",
    "    - `sudo ln -s /etc/nginx/sites-available/myapp /etc/nginx/sites-enabled/`\n",
    "10. Restart your nginx server: `sudo systemctl restart nginx.service` and you are ready to use gunicorn!\n",
    "11. Before that, let's check everything works fine. Run `sudo python3 main.py`. If you go to the HTTP address of your console, and add `/docs` (for example `http://54.205.133.239/docs`), you should see something like this:\n",
    "<p align=center><img src=images/nginx2.png width=1000></p>"
   ]
  },
  {
   "cell_type": "markdown",
   "metadata": {},
   "source": [
    "\n",
    "12. This is great, but you are not still using running it using Gunicorn. You can run multiple uvicorn servers using the following command:\n",
    "    - `gunicorn -w 4 -k uvicorn.workers.UvicornWorker main:app`\n",
    "\n",
    "You will see that 4 workers have started:\n",
    "<p align=center><img src=images/gunicorn_ec2.png width=400></p>\n",
    "\n",
    "\n"
   ]
  },
  {
   "cell_type": "markdown",
   "metadata": {},
   "source": [
    "And the HTTP still works with no issue, in fact, it will accept more requests in parallel!"
   ]
  },
  {
   "cell_type": "markdown",
   "metadata": {},
   "source": [
    "13. The final step is to leave gunicorn and nginx running on the background using a daemon. First deactivate your venv, and create a new .service file:\n",
    "    - `deactivate`\n",
    "    - `sudo vim /etc/systemd/system/myapp.service`\n",
    "\n",
    "In the file, include:\n",
    "```\n",
    "[Unit]\n",
    "Description=Gunicorn instance to serve MyApp\n",
    "After=network.target\n",
    "\n",
    "[Service]\n",
    "User=ubuntu\n",
    "Group=www-data\n",
    "WorkingDirectory=/var/myapp/src\n",
    "Environment=\"PATH=/var/myapp/venv/bin\"\n",
    "ExecStart=gunicorn -w 4 -k uvicorn.workers.UvicornWorker main:app\n",
    "\n",
    "[Install]\n",
    "WantedBy=multi-user.target\n",
    "```\n"
   ]
  },
  {
   "cell_type": "markdown",
   "metadata": {},
   "source": [
    "14. Finally, start this service file on the background: `sudo systemctl start myapp.service`\n",
    "\n",
    "Now, everytime you go to that HTTP address, you will have access to the API!\n",
    "\n",
    "If you want to add some security to it, you can look up how to add SSL to your website. But for now, feel proud that your API is up and running!\n",
    "\n",
    "If you want a quicker solution, you can try to deploy your application using Deta."
   ]
  },
  {
   "cell_type": "markdown",
   "metadata": {},
   "source": [
    "# Deta"
   ]
  },
  {
   "cell_type": "markdown",
   "metadata": {},
   "source": [
    "[Deta](https://docs.deta.sh/docs/home/) allows you to upload your applications to a cloud server. It is the recommended platform by the FastAPI documentation. Even though it is not very scalable:\n",
    "\n",
    "- An execution times out after 10s. \n",
    "- 128 MB of RAM for each execution. \n",
    "- Read-only file system. Only /tmp can be written to. It has a 512 MB storage limit.\n",
    "- Invocations have an execution processes/threads limit of 1024.\n",
    "- HTTP Payload size limit is 5.5 MB.\n",
    "\n",
    "It is a great way to test your applications\n",
    "\n",
    "<p align=center><img src=images/Deta.png width=600></p>"
   ]
  },
  {
   "cell_type": "markdown",
   "metadata": {},
   "source": [
    "Deploying your app to Deta takes just a few steps:\n",
    "1. Sign Up in Deta\n",
    "2. Installing the CLI: `curl -fsSL https://get.deta.dev/cli.sh | sh` or `iwr https://get.deta.dev/cli.ps1 -useb | iex` if you are on Windows (inside Powershell)\n",
    "3. Login from your terminal using `deta login`\n",
    "4. Your project should have (at least) the following structure:\n",
    "```\n",
    "root/\n",
    "│\n",
    "├── requirements.txt\n",
    "└── main.py\n",
    "```\n",
    "and the name of the variable that stores your FastAPI object is named `app`:"
   ]
  },
  {
   "cell_type": "code",
   "execution_count": null,
   "metadata": {},
   "outputs": [],
   "source": [
    "# main.py\n",
    "import fastapi\n",
    "import uvicorn\n",
    "\n",
    "from api import dob_api\n",
    "from views import home\n",
    "\n",
    "app = fastapi.FastAPI()\n",
    "\n",
    "\n",
    "def configure_routing():\n",
    "    app.include_router(home.router)\n",
    "    app.include_router(dob_api.router)\n",
    "\n",
    "\n",
    "if __name__ == '__main__':\n",
    "    configure_routing()\n",
    "    uvicorn.run(app, port=8000, host='127.0.0.1')\n",
    "else:\n",
    "    configure_routing()"
   ]
  },
  {
   "cell_type": "markdown",
   "metadata": {},
   "source": [
    "The requirements.txt will contain the packages you used in the API. In this case:"
   ]
  },
  {
   "cell_type": "markdown",
   "metadata": {},
   "source": [
    "```\n",
    "fastapi\n",
    "uvicorn\n",
    "httpx\n",
    "aiofiles\n",
    "requests\n",
    "uvloop\n",
    "httptools\n",
    "BeautifulSoup4\n",
    "```"
   ]
  },
  {
   "cell_type": "markdown",
   "metadata": {},
   "source": [
    "Take a moment now to create a folder with the necessary files to make your API run, you can use the same one we created in the last lesson. Make sure that the file containing the FastAPI is called `main.py`. We provided a folder named `example` with the right structure.\n",
    "\n",
    "5. `cd` to your project folder and type `deta new`. You will see something like this:\n",
    "<p align=center><img src=images/Deta_new.png width=200></p>"
   ]
  },
  {
   "cell_type": "markdown",
   "metadata": {},
   "source": [
    "In your case, the endpoint will be different. That is the HTTPS where your API will be deployed. If for some reason, your `http_auth` is enable, you won't be able to publish the API with the rest of the world. Then, you can disable it by running: \n",
    "\n",
    "`deta auth disable`"
   ]
  },
  {
   "cell_type": "markdown",
   "metadata": {},
   "source": [
    "If you find any issue when opening that URL, you can see the error running `deta visor open` and your browser will show you the errors you have"
   ]
  },
  {
   "cell_type": "markdown",
   "metadata": {},
   "source": [
    "You can take a look at the parameters you can use by going to: [https://x8aqtu.deta.dev/docs](https://x8aqtu.deta.dev/docs):\n",
    "<p align=center><img src=images/Deta_docs.png width=400></p>"
   ]
  },
  {
   "cell_type": "markdown",
   "metadata": {},
   "source": [
    "Or simply, create a request:"
   ]
  },
  {
   "cell_type": "code",
   "execution_count": 1,
   "metadata": {},
   "outputs": [
    {
     "data": {
      "text/plain": [
       "{'first name': 'Steve',\n",
       " 'last_name': 'Carrel',\n",
       " 'Date of Birth': '1962-08-16',\n",
       " 'City': 'Concord, Massachusetts, U.S.'}"
      ]
     },
     "execution_count": 1,
     "metadata": {},
     "output_type": "execute_result"
    }
   ],
   "source": [
    "import requests\n",
    "requests.get('https://x8aqtu.deta.dev/api/dob/Steve?last_name=Carrel&city=true').json()"
   ]
  },
  {
   "cell_type": "markdown",
   "metadata": {},
   "source": [
    "You saw that you can simply upload your API in a few steps very easily. \n",
    "\n",
    "However, this is not as scalable as having your API deployed in an EC2 instance."
   ]
  }
 ],
 "metadata": {
  "interpreter": {
   "hash": "68005dcbcdc29b4614156d1d6e1ead8b1c573354a9443b8e7d12638b4de24e7d"
  },
  "kernelspec": {
   "display_name": "Python 3.9.6 64-bit ('fastapi': conda)",
   "name": "python3"
  },
  "language_info": {
   "codemirror_mode": {
    "name": "ipython",
    "version": 3
   },
   "file_extension": ".py",
   "mimetype": "text/x-python",
   "name": "python",
   "nbconvert_exporter": "python",
   "pygments_lexer": "ipython3",
   "version": "3.9.6"
  },
  "orig_nbformat": 4
 },
 "nbformat": 4,
 "nbformat_minor": 2
}
