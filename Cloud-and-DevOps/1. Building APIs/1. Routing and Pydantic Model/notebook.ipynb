{
 "cells": [
  {
   "cell_type": "markdown",
   "metadata": {},
   "source": [
    "# Routing with FastAPI"
   ]
  },
  {
   "cell_type": "markdown",
   "metadata": {},
   "source": [
    "When you work in a project, your code will be partitioned into smaller scripts, so your program is more organized. In FastAPI we can do the same using Routers. As an example, let's say that you are adding two GET responses to your API, one for a regular DOB request, and another for giving an icon to the tab we will work in:"
   ]
  },
  {
   "cell_type": "code",
   "execution_count": null,
   "metadata": {},
   "outputs": [],
   "source": [
    "%%python\n",
    "import fastapi\n",
    "import uvicorn\n",
    "\n",
    "api = fastapi.FastAPI()\n",
    "\n",
    "@api.get('/')\n",
    "def index():\n",
    "    return 'Welcome to the celebrity DOB API!'\n",
    "\n",
    "@api.get('/api/dob')\n",
    "def dob():\n",
    "    return 'Some random DOB'\n",
    "    \n",
    "if __name__ == '__main__':\n",
    "    uvicorn.run(api, port=8008, host='127.0.0.1')"
   ]
  },
  {
   "cell_type": "markdown",
   "metadata": {},
   "source": [
    "You can go to `http://127.0.0.1:8008/api/dob` and see the output:\n",
    "<p align=center><img src=images/Routing_1.png width=300></p>"
   ]
  },
  {
   "cell_type": "markdown",
   "metadata": {},
   "source": [
    "One way to separate these functions would be having one script for the home page, and another one for additional pages (`/api/dob`)\n",
    "\n",
    "```\n",
    "root/\n",
    "│\n",
    "├── home.py\n",
    "├── api\n",
    "│   └── dob_api.py\n",
    "└── main.py\n",
    "```"
   ]
  },
  {
   "cell_type": "code",
   "execution_count": null,
   "metadata": {},
   "outputs": [],
   "source": [
    "# views/home.py\n",
    "\n",
    "import fastapi\n",
    "\n",
    "router = fastapi.APIRouter()\n",
    "\n",
    "\n",
    "@router.get('/')\n",
    "def index():\n",
    "    return 'Welcome to the celebrity DOB API!'\n"
   ]
  },
  {
   "cell_type": "code",
   "execution_count": null,
   "metadata": {},
   "outputs": [],
   "source": [
    "# api/dob_api.py\n",
    "\n",
    "import fastapi\n",
    "\n",
    "router = fastapi.APIRouter()\n",
    "\n",
    "@router.get('/api/dob')\n",
    "def dob():\n",
    "    return 'Some random DOB'"
   ]
  },
  {
   "cell_type": "code",
   "execution_count": null,
   "metadata": {},
   "outputs": [],
   "source": [
    "# main.py\n",
    "import fastapi\n",
    "import uvicorn\n",
    "import home\n",
    "\n",
    "from api import dob_api\n",
    "\n",
    "api = fastapi.FastAPI()\n",
    "\n",
    "\n",
    "def configure_routing():\n",
    "    api.include_router(home.router)\n",
    "    api.include_router(dob_api.router)\n",
    "\n",
    "\n",
    "if __name__ == '__main__':\n",
    "    configure_routing()\n",
    "    uvicorn.run(api, port=8000, host='127.0.0.1')\n"
   ]
  },
  {
   "cell_type": "markdown",
   "metadata": {},
   "source": [
    "Observe that in `home.py` and `api/dob_api.py`, we included `router = fastapi.APIRouter()`, so all files have a common node to look for all requests.\n"
   ]
  },
  {
   "cell_type": "markdown",
   "metadata": {},
   "source": [
    "## Try it out\n",
    "\n",
    "1. Create a directory named views\n",
    "2. Add a file named home.py in said directory\n",
    "3. Add the code above\n",
    "4. Create a directory named api\n",
    "5. Add a file named dob_api.py in said directory\n",
    "6. Add the code above to dob_api.py\n",
    "7. Create a file named main.py ann add the code above\n",
    "8. Run the code and check everything works\n",
    "9. Tweak dob_api, so `/api/dob` can accept two query parameters: first name and last name"
   ]
  },
  {
   "cell_type": "markdown",
   "metadata": {},
   "source": [
    "# Add Pydantic model"
   ]
  },
  {
   "cell_type": "markdown",
   "metadata": {},
   "source": [
    "Your API will accept request parameters, and Pydantic will be responsible for casting those parameters to the correct format. In this example, we can accept the first name and the last name. \n",
    "\n",
    "Pydantic allows you to create a class where each attribute will be casted to the specified data type"
   ]
  },
  {
   "cell_type": "markdown",
   "metadata": {},
   "source": [
    "It is recommended that you refresh your knowledge of Python type hinting and Pydantic before continuing with this section.\n",
    "\n",
    "FastAPI will use this type hinting to perform the transformation of the query parameters into the specified data type we put as a hint."
   ]
  },
  {
   "cell_type": "code",
   "execution_count": null,
   "metadata": {},
   "outputs": [],
   "source": [
    "from pydantic import BaseModel\n",
    "from typing import Optional\n",
    "\n",
    "class Celebrity(BaseModel):\n",
    "    '''\n",
    "    This class gives some information about a celebrity. It is intended to be \n",
    "    used with the FastAPI example\n",
    "\n",
    "    Attributes\n",
    "    ----------\n",
    "    first_name: str\n",
    "        The first name of the celebrity\n",
    "    last_name: str\n",
    "        The last name of the celebrity\n",
    "    city: bool\n",
    "        If True, the API will also returns the city where the celebrity was born\n",
    "    '''\n",
    "    first_name: str\n",
    "    last_name: str\n",
    "    city: bool = False\n",
    "\n",
    "uma_thurman = Celebrity(first_name='Uma', last_name='Thurman')    "
   ]
  },
  {
   "cell_type": "markdown",
   "metadata": {},
   "source": [
    "Let's create another directory to store our models:\n",
    "\n",
    "```\n",
    "root/\n",
    "│\n",
    "├── home.py\n",
    "├── api\n",
    "│   └── dob_api.py\n",
    "├── models\n",
    "│   └── celebrities.py\n",
    "└── main.py\n",
    "```\n",
    "\n",
    "Then, we can use this Pydantic model in our FastAPI like shown below:"
   ]
  },
  {
   "cell_type": "code",
   "execution_count": null,
   "metadata": {},
   "outputs": [],
   "source": [
    "# models/celebrities.py\n",
    "\n",
    "from pydantic import BaseModel\n",
    "from typing import Optional\n",
    "\n",
    "class Celebrity(BaseModel):\n",
    "    '''\n",
    "    This class gives some information about a celebrity. It is intended to be \n",
    "    used with the FastAPI example\n",
    "\n",
    "    Attributes\n",
    "    ----------\n",
    "    first_name: str\n",
    "        The first name of the celebrity\n",
    "    last_name: str\n",
    "        The last name of the celebrity\n",
    "    city: bool\n",
    "        If True, the API will also returns the city where the celebrity was born\n",
    "    '''\n",
    "    first_name: str\n",
    "    last_name: str\n",
    "    city: bool = False"
   ]
  },
  {
   "cell_type": "code",
   "execution_count": null,
   "metadata": {},
   "outputs": [],
   "source": [
    "# api/dob_api.py\n",
    "\n",
    "import fastapi\n",
    "from fastapi import Depends\n",
    "\n",
    "from models.celebrities import Celebrity\n",
    "\n",
    "router = fastapi.APIRouter()\n",
    "\n",
    "\n",
    "@router.get('/api/dob/{first_name}')\n",
    "def dob(celebrity: Celebrity = Depends()):\n",
    "    full_name = f'{celebrity.first_name} {celebrity.last_name}'\n",
    "    if celebrity.city:\n",
    "        report = f'{full_name} was born a random day in a random city'\n",
    "    else:\n",
    "        report = f'{full_name} was born a random day'\n",
    "    return report\n",
    "\n"
   ]
  },
  {
   "cell_type": "markdown",
   "metadata": {},
   "source": [
    "One change that you can see is the `Depends` class in the celebrity when used as an argument in `dob`. This will tell the dob function that the variables inside it depend on an external class, so it will know that the attributes of the class are going to be query parameters.\n",
    "\n",
    "With this, the following URL [http://127.0.0.1:8008/api/dob/Uma?last_name=Thurman](http://127.0.0.1:8008/api/dob/Uma?last_name=Thurman) will return this output:\n",
    "\n",
    "<p align=center><img src=images/Routing_2.png width=400></p>"
   ]
  },
  {
   "cell_type": "markdown",
   "metadata": {},
   "source": [
    "Right now, the DOB API is not doing what it's expected to do. Let's create the real function that will scrape the data about the celebrity so that we can return the date through our API. The function that will contain this service will be in the `services` directory:\n",
    "\n",
    "```\n",
    "root/\n",
    "│\n",
    "├── home.py\n",
    "├── api\n",
    "│   └── dob_api.py\n",
    "├── models\n",
    "│   └── celebrities.py\n",
    "├── services\n",
    "│   └── dob_service.py\n",
    "└── main.py\n",
    "```"
   ]
  },
  {
   "cell_type": "code",
   "execution_count": null,
   "metadata": {},
   "outputs": [],
   "source": [
    "# services/dob_service.py\n",
    "import requests\n",
    "from bs4 import BeautifulSoup\n",
    "import json\n",
    "import re\n",
    "\n",
    "def get_dob(first_name: str, last_name: str, city: bool=False):\n",
    "    infobox_data = get_infobox(first_name, last_name)\n",
    "    if not infobox_data:\n",
    "        return None\n",
    "    birthday = infobox_data.find('span', {'class': 'bday'})\n",
    "\n",
    "    report = {'first name': first_name,\n",
    "              'last_name': last_name,\n",
    "              'Date of Birth': birthday.text}\n",
    "    if city:\n",
    "        birthplace = infobox_data.find('div', {'class': 'birthplace'})\n",
    "        report['City'] = birthplace.text\n",
    "\n",
    "    return report\n",
    "\n",
    "def get_infobox(first_name: str, last_name: str):\n",
    "    r = requests.get(f'https://en.wikipedia.org/wiki/{first_name}_{last_name}')\n",
    "    soup = BeautifulSoup(r.text, 'html.parser')\n",
    "    if soup.find_all('b', text=re.compile('Wikipedia does not have an article with this exact name')):\n",
    "        return None\n",
    "    celeb_infobox = soup.find('table', {'class': 'infobox biography vcard'})\n",
    "    return celeb_infobox.find('td', {'class': 'infobox-data'})"
   ]
  },
  {
   "cell_type": "code",
   "execution_count": null,
   "metadata": {},
   "outputs": [],
   "source": [
    "# api/dob_api.py\n",
    "\n",
    "import fastapi\n",
    "from fastapi import Depends\n",
    "import json\n",
    "from models.celebrities import Celebrity\n",
    "# from services.dob_service import get_dob\n",
    "from services.dob_service_async import get_dob\n",
    "router = fastapi.APIRouter()\n",
    "\n",
    "@router.get('/api/dob/{first_name}')\n",
    "def dob(celebrity: Celebrity = Depends()):\n",
    "    report = get_dob(celebrity.first_name, celebrity.last_name, celebrity.city)\n",
    "    return fastapi.Response(content=json.dumps(report),\n",
    "                            media_type='application/json')"
   ]
  },
  {
   "cell_type": "markdown",
   "metadata": {},
   "source": [
    "If you go to the following URL [http://127.0.0.1:8008/api/dob/Uma?last_name=Thurman&city=True](http://127.0.0.1:8008/api/dob/Uma?last_name=Thurman&city=True), you will get a real API response!\n",
    "<p align=center><img src=images/Routing_3.png width=500></p>"
   ]
  },
  {
   "cell_type": "markdown",
   "metadata": {},
   "source": [
    "Also, you can use the requests library to get the json object that has been uploaded to check that everything worked properly:"
   ]
  },
  {
   "cell_type": "code",
   "execution_count": null,
   "metadata": {},
   "outputs": [],
   "source": [
    "requests.get('http://127.0.0.1:8008/api/dob/Uma?last_name=Thurman&city=True').json()"
   ]
  },
  {
   "cell_type": "markdown",
   "metadata": {},
   "source": [
    "# Summary\n",
    "\n",
    "- You learned how to route API requests to a single node called in main and how to use Pydantic Model in FastAPI \n",
    "    "
   ]
  }
 ],
 "metadata": {
  "language_info": {
   "name": "python"
  },
  "orig_nbformat": 4
 },
 "nbformat": 4,
 "nbformat_minor": 2
}
