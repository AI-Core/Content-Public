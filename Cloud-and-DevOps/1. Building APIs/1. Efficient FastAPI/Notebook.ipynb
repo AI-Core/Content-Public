{
 "cells": [
  {
   "cell_type": "markdown",
   "source": [
    "# Efficient FastAPI"
   ],
   "metadata": {}
  },
  {
   "cell_type": "markdown",
   "source": [
    "FastAPI embraces many of the latest Python language features and external libraries, so writing APIs is easier and it's less error prone. Some of those features include:\n",
    "1. Type hints\n",
    "2. async / await\n",
    "3. ASGI servers\n",
    "4. Pydantic classes"
   ],
   "metadata": {}
  },
  {
   "cell_type": "markdown",
   "source": [
    "It is recommended that you refresh your knowledge of Python type hinting and Pydantic before continuing with this lesson.\n",
    "\n",
    "FastAPI will use this type hinting to perform the transformation of the query parameters into the specified data type we put as a hint."
   ],
   "metadata": {}
  },
  {
   "cell_type": "markdown",
   "source": [
    "# async / await: Asynchronous IO "
   ],
   "metadata": {}
  },
  {
   "cell_type": "markdown",
   "source": [
    "Async IO is a concurrent programming design that allows us to run multiple tasks in an overlapping manner. Do not confuse it with multithreading since async IO is a single-threaded, single-process design. In this case, the term asynchronous refers to the ability to pause while waiting for a trigger while other tasks run in the meantime.\r\n",
    "\r\n",
    "To see this is in action, take a look at the following `synchronous` example"
   ],
   "metadata": {}
  },
  {
   "cell_type": "code",
   "execution_count": 10,
   "source": [
    "import time\n",
    "\n",
    "def count(x):\n",
    "    print(x + 1)\n",
    "    time.sleep(1)\n",
    "\n",
    "def main():\n",
    "    for i in range(3):\n",
    "        count(i)\n",
    "\n",
    "s = time.perf_counter()\n",
    "main()\n",
    "elapsed = time.perf_counter() - s\n",
    "print(f\"Executed in {elapsed:0.2f} seconds.\")"
   ],
   "outputs": [],
   "metadata": {}
  },
  {
   "cell_type": "markdown",
   "source": [
    "The code above simply prints from 1 to 3 with a one-second pause between numbers. Now, observe the following `asynchronous` example:"
   ],
   "metadata": {}
  },
  {
   "cell_type": "code",
   "execution_count": 17,
   "source": [
    "%%python\n",
    "import asyncio\n",
    "import time\n",
    "\n",
    "async def count(x):\n",
    "    print(x)\n",
    "    await asyncio.sleep(1)\n",
    "\n",
    "async def main():\n",
    "    await asyncio.gather(count(1), count(2), count(3))\n",
    "\n",
    "\n",
    "s = time.perf_counter()\n",
    "asyncio.run(main())\n",
    "elapsed = time.perf_counter() - s\n",
    "print(f\"Executed in {elapsed:0.2f} seconds.\")"
   ],
   "outputs": [
    {
     "output_type": "stream",
     "name": "stdout",
     "text": [
      "1\n",
      "2\n",
      "3\n",
      "Executed in 1.00 seconds.\n"
     ]
    }
   ],
   "metadata": {}
  },
  {
   "cell_type": "markdown",
   "source": [
    "Observe the difference between times. In the asynchronous example, there is no pause between 1, 2, and 3. The async count function is asynchronous, which means it has the ability to pause right before the `await` statement inside it. The second thing to observe is that the asynchronous method is much faster because you don't have any dead time until you finish all the concurrent calls.\r\n",
    "\r\n",
    "On the other hand, asyncio.gather creates three concurrent tasks (count(1), count(2), count(3)). They are not going to run simultaneously, but they have the ability to overlap each other.\r\n",
    "\r\n",
    "Roughly, we can see the above example as:\r\n",
    "```\r\n",
    "        import asyncio\r\n",
    "        import time\r\n",
    "\r\n",
    "        async def count(x):\r\n",
    "            print(x)\r\n",
    "(3, 5, 7)   await asyncio.sleep(1)\r\n",
    "\r\n",
    "        async def main():\r\n",
    "(2, 4, 6)   await asyncio.gather(count(1), count(2), count(3))\r\n",
    "\r\n",
    "\r\n",
    "        s = time.perf_counter()\r\n",
    "(1)     asyncio.run(main())                                     \r\n",
    "        elapsed = time.perf_counter() - s\r\n",
    "        print(f\"Executed in {elapsed:0.2f} seconds.\")\r\n",
    "```\r\n",
    "\r\n",
    "1. Run `main()`\r\n",
    "2. Run `count(1)`\r\n",
    "3. Print 1, and reach `await asyncio.sleep(1)`. It will tell async: 'Hey, I'll be here waiting, why don't you tell the next concurrent job to start?'\r\n",
    "4. Run `count(2)`\r\n",
    "5. Print 2, and reach `await asyncio.sleep(1)`. It will tell async: 'Hey, I'll be here waiting, why don't you tell the next concurrent job to start?'\r\n",
    "6. Run `count(3)`\r\n",
    "7. Print 3, and reach `await asyncio.sleep(1)`. It will see that there are no more concurrent jobs, so it will continue\r\n",
    "\r\n"
   ],
   "metadata": {}
  },
  {
   "cell_type": "markdown",
   "source": [
    "The same way you are waiting with the `await asyncio.sleep(1)` line, you also have to wait when you scrape data from a website. Most of the time you wait is used for waiting to a single response, and then move to extract the next sample. You can leverage the potential of async and await using the `httpx` library. You can go to the `examples` folder to see two examples: one asynchronous solution and its synchronous counterpart. You can test them to see their differences. "
   ],
   "metadata": {}
  },
  {
   "cell_type": "markdown",
   "source": [
    "> ## Asynchronous IO allows a much more efficient solution for processes by running concurrent subprocesses"
   ],
   "metadata": {}
  },
  {
   "cell_type": "markdown",
   "source": [
    "# ASGI servers"
   ],
   "metadata": {}
  },
  {
   "cell_type": "markdown",
   "source": [
    "Traditional web frameworks run in a sequential manner, you send the request, the server processes your request, and the response is sent back to you. If we establish a set of rules to the communication between the user and the server, we will (in a nutshell) obtain a __WSGI__ (Web Server Gateway Interface).\n",
    "\n",
    "Currently, [Gunicorn](https://gunicorn.org/) is the most common used HTTP WSGI for Python, and it works very well with different Python framworks such as Flask or Django, when they want to deploy the app to production.\n",
    "\n",
    "However, we know that we can also work in an asynchronous manner, send multiple requests at the same time, and then process each of them. If our server works in an asynchronous manner, it becomes an __ASGI__ (Asynchronous Server Gateway Interface). They will leverage the use of `async` and `await` we saw above.\n",
    "\n",
    "Currently, [Uvicorn](https://www.uvicorn.org/) is one of the main server that supports ASGI. You can take a look at the different frameworks that can work in an ASGI server [here](https://github.com/florimondmanca/awesome-asgi)\n",
    "\n",
    "<p align=center><img src=images/ASGI.png width=500></p>\n",
    "\n"
   ],
   "metadata": {}
  },
  {
   "cell_type": "markdown",
   "source": [
    "# Creating your Second API"
   ],
   "metadata": {}
  },
  {
   "cell_type": "markdown",
   "source": [
    "For this second API, we are going to accept the name of a celebrity, and we will return the DOB of this celebrity. Let's start setting up the code. Same as in the last notebook, we will create a very simple API and build on top of it. Once again, we will use the magic cell here, but it is not recommended. Make sure to activate the virtual environment where you installed fastapi and uvicorn!\r\n"
   ],
   "metadata": {}
  },
  {
   "cell_type": "code",
   "execution_count": 4,
   "source": [
    "%%python\n",
    "import fastapi\n",
    "import uvicorn\n",
    "api = fastapi.FastAPI() \n",
    "\n",
    "@api.get('/')\n",
    "def index():\n",
    "    return 'Welcome to the celebrity DOB API!'\n",
    "\n",
    "if __name__ == '__main__':\n",
    "    uvicorn.run(api, port=8000, host='127.0.0.1')"
   ],
   "outputs": [],
   "metadata": {}
  },
  {
   "cell_type": "markdown",
   "source": [
    "# Routing with FastAPI"
   ],
   "metadata": {}
  },
  {
   "cell_type": "markdown",
   "source": [
    "When you work in a project, your code will be partitioned into smaller scripts, so your program is more organized. In FastAPI we can do the same using Routers. As an example, let's say that you are adding two GET responses to your API, one for a regular DOB request, and another for giving an icon to the tab we will work in:"
   ],
   "metadata": {}
  },
  {
   "cell_type": "code",
   "execution_count": null,
   "source": [
    "%%python\r\n",
    "import fastapi\r\n",
    "import uvicorn\r\n",
    "\r\n",
    "api = fastapi.FastAPI()\r\n",
    "\r\n",
    "@api.get('/')\r\n",
    "def index():\r\n",
    "    return 'Welcome to the celebrity DOB API!'\r\n",
    "\r\n",
    "@api.get('/api/dob')\r\n",
    "def dob():\r\n",
    "    return 'Some random DOB'\r\n",
    "    \r\n",
    "if __name__ == '__main__':\r\n",
    "    uvicorn.run(api, port=8008, host='127.0.0.1')"
   ],
   "outputs": [],
   "metadata": {}
  },
  {
   "cell_type": "markdown",
   "source": [
    "You can go to `http://127.0.0.1:8008/api/dob` and see the output:\r\n",
    "<p align=center><img src=images/Routing_1.png width=300></p>"
   ],
   "metadata": {}
  },
  {
   "cell_type": "markdown",
   "source": [
    "One way to separate these functions would be having one script for the home page, and another one for additional pages (`/api/dob`)\r\n",
    "\r\n",
    "```\r\n",
    "root/\r\n",
    "│\r\n",
    "├── home.py\r\n",
    "├── api\r\n",
    "│   └── dob_api.py\r\n",
    "└── main.py\r\n",
    "```"
   ],
   "metadata": {}
  },
  {
   "cell_type": "code",
   "execution_count": null,
   "source": [
    "# views/home.py\r\n",
    "\r\n",
    "import fastapi\r\n",
    "\r\n",
    "router = fastapi.APIRouter()\r\n",
    "\r\n",
    "\r\n",
    "@router.get('/')\r\n",
    "def index():\r\n",
    "    return 'Welcome to the celebrity DOB API!'\r\n"
   ],
   "outputs": [],
   "metadata": {}
  },
  {
   "cell_type": "code",
   "execution_count": null,
   "source": [
    "# api/dob_api.py\n",
    "\n",
    "import fastapi\n",
    "\n",
    "router = fastapi.APIRouter()\n",
    "\n",
    "@router.get('/api/dob')\n",
    "def dob():\n",
    "    return 'Some random DOB'"
   ],
   "outputs": [],
   "metadata": {}
  },
  {
   "cell_type": "code",
   "execution_count": null,
   "source": [
    "# main.py\r\n",
    "import fastapi\r\n",
    "import uvicorn\r\n",
    "import home\r\n",
    "\r\n",
    "from api import dob_api\r\n",
    "\r\n",
    "api = fastapi.FastAPI()\r\n",
    "\r\n",
    "\r\n",
    "def configure_routing():\r\n",
    "    api.include_router(home.router)\r\n",
    "    api.include_router(dob_api.router)\r\n",
    "\r\n",
    "\r\n",
    "if __name__ == '__main__':\r\n",
    "    configure_routing()\r\n",
    "    uvicorn.run(api, port=8000, host='127.0.0.1')\r\n"
   ],
   "outputs": [],
   "metadata": {}
  },
  {
   "cell_type": "markdown",
   "source": [
    "Observe that in `home.py` and `api/dob_api.py`, we included `router = fastapi.APIRouter()`, so all files have a common node to look for all requests."
   ],
   "metadata": {}
  },
  {
   "cell_type": "markdown",
   "source": [
    "## Try it out\r\n",
    "\r\n",
    "1. Create a directory named views\r\n",
    "2. Add a file named home.py in said directory\r\n",
    "3. Add the code above\r\n",
    "4. Create a directory named api\r\n",
    "5. Add a file named dob_api.py in said directory\r\n",
    "6. Add the code above to dob_api.py\r\n",
    "7. Create a file named main.py ann add the code above\r\n",
    "8. Run the code and check everything works\r\n",
    "9. Tweak dob_api, so `/api/dob` can accept two query parameters: first name and last name"
   ],
   "metadata": {}
  },
  {
   "cell_type": "markdown",
   "source": [
    "# Add Pydantic model"
   ],
   "metadata": {}
  },
  {
   "cell_type": "markdown",
   "source": [
    "Your API will accept request parameters, and Pydantic will be responsible for casting those parameters to the correct format. In this example, we can accept the first name and the last name. \r\n",
    "\r\n",
    "Pydantic allows you to create a class where each attribute will be casted to the specified data type"
   ],
   "metadata": {}
  },
  {
   "cell_type": "code",
   "execution_count": 4,
   "source": [
    "from pydantic import BaseModel\n",
    "from typing import Optional\n",
    "\n",
    "class Celebrity(BaseModel):\n",
    "    '''\n",
    "    This class gives some information about a celebrity. It is intended to be \n",
    "    used with the FastAPI example\n",
    "\n",
    "    Attributes\n",
    "    ----------\n",
    "    first_name: str\n",
    "        The first name of the celebrity\n",
    "    last_name: str\n",
    "        The last name of the celebrity\n",
    "    city: bool\n",
    "        If True, the API will also returns the city where the celebrity was born\n",
    "    '''\n",
    "    first_name: str\n",
    "    last_name: str\n",
    "    city: bool = False\n",
    "\n",
    "uma_thurman = Celebrity(first_name='Uma', last_name='Thurman')    "
   ],
   "outputs": [],
   "metadata": {}
  },
  {
   "cell_type": "markdown",
   "source": [
    "Let's create another directory to store our models:\r\n",
    "\r\n",
    "```\r\n",
    "root/\r\n",
    "│\r\n",
    "├── home.py\r\n",
    "├── api\r\n",
    "│   └── dob_api.py\r\n",
    "├── models\r\n",
    "│   └── celebrities.py\r\n",
    "└── main.py\r\n",
    "```\r\n",
    "\r\n",
    "Then, we can use this Pydantic model in our FastAPI like shown below:"
   ],
   "metadata": {}
  },
  {
   "cell_type": "code",
   "execution_count": null,
   "source": [
    "# models/celebrities.py\r\n",
    "\r\n",
    "from pydantic import BaseModel\r\n",
    "from typing import Optional\r\n",
    "\r\n",
    "class Celebrity(BaseModel):\r\n",
    "    '''\r\n",
    "    This class gives some information about a celebrity. It is intended to be \r\n",
    "    used with the FastAPI example\r\n",
    "\r\n",
    "    Attributes\r\n",
    "    ----------\r\n",
    "    first_name: str\r\n",
    "        The first name of the celebrity\r\n",
    "    last_name: str\r\n",
    "        The last name of the celebrity\r\n",
    "    city: bool\r\n",
    "        If True, the API will also returns the city where the celebrity was born\r\n",
    "    '''\r\n",
    "    first_name: str\r\n",
    "    last_name: str\r\n",
    "    city: bool = False"
   ],
   "outputs": [],
   "metadata": {}
  },
  {
   "cell_type": "code",
   "execution_count": null,
   "source": [
    "# api/dob_api.py\r\n",
    "\r\n",
    "import fastapi\r\n",
    "from fastapi import Depends\r\n",
    "\r\n",
    "from models.celebrities import Celebrity\r\n",
    "\r\n",
    "router = fastapi.APIRouter()\r\n",
    "\r\n",
    "\r\n",
    "@router.get('/api/dob/{first_name}')\r\n",
    "def dob(celebrity: Celebrity = Depends()):\r\n",
    "    full_name = f'{celebrity.first_name} {celebrity.last_name}'\r\n",
    "    if celebrity.city:\r\n",
    "        report = f'{full_name} was born a random day in a random city'\r\n",
    "    else:\r\n",
    "        report = f'{full_name} was born a random day'\r\n",
    "    return report\r\n",
    "\r\n"
   ],
   "outputs": [],
   "metadata": {}
  },
  {
   "cell_type": "markdown",
   "source": [
    "One change that you can see is the `Depends` class in the celebrity when used as an argument in `dob`. This will tell the dob function that the variables inside it depend on an external class, so it will know that the attributes of the class are going to be query parameters.\r\n",
    "\r\n",
    "With this, the following URL [http://127.0.0.1:8008/api/dob/Uma?last_name=Thurman](http://127.0.0.1:8008/api/dob/Uma?last_name=Thurman) will return this output:\r\n",
    "\r\n",
    "<p align=center><img src=images/Routing_2.png width=400></p>"
   ],
   "metadata": {}
  },
  {
   "cell_type": "markdown",
   "source": [
    "Right now, the DOB API is not doing what it's expected to do. Let's create the real function that will scrape the data about the celebrity so that we can return the date through our API. The function that will contain this service will be in the `services` directory:\r\n",
    "\r\n",
    "```\r\n",
    "root/\r\n",
    "│\r\n",
    "├── home.py\r\n",
    "├── api\r\n",
    "│   └── dob_api.py\r\n",
    "├── models\r\n",
    "│   └── celebrities.py\r\n",
    "├── services\r\n",
    "│   └── dob_service.py\r\n",
    "└── main.py\r\n",
    "```"
   ],
   "metadata": {}
  },
  {
   "cell_type": "code",
   "execution_count": 19,
   "source": [
    "# services/dob_service.py\r\n",
    "import requests\r\n",
    "from bs4 import BeautifulSoup\r\n",
    "import json\r\n",
    "import re\r\n",
    "\r\n",
    "def get_dob(first_name: str, last_name: str, city: bool=False):\r\n",
    "    infobox_data = get_infobox(first_name, last_name)\r\n",
    "    if not infobox_data:\r\n",
    "        return None\r\n",
    "    birthday = infobox_data.find('span', {'class': 'bday'})\r\n",
    "\r\n",
    "    report = {'first name': first_name,\r\n",
    "              'last_name': last_name,\r\n",
    "              'Date of Birth': birthday.text}\r\n",
    "    if city:\r\n",
    "        birthplace = infobox_data.find('div', {'class': 'birthplace'})\r\n",
    "        report['City'] = birthplace.text\r\n",
    "\r\n",
    "    return report\r\n",
    "\r\n",
    "def get_infobox(first_name: str, last_name: str):\r\n",
    "    r = requests.get(f'https://en.wikipedia.org/wiki/{first_name}_{last_name}')\r\n",
    "    soup = BeautifulSoup(r.text, 'html.parser')\r\n",
    "    if soup.find_all('b', text=re.compile('Wikipedia does not have an article with this exact name')):\r\n",
    "        return None\r\n",
    "    celeb_infobox = soup.find('table', {'class': 'infobox biography vcard'})\r\n",
    "    return celeb_infobox.find('td', {'class': 'infobox-data'})"
   ],
   "outputs": [],
   "metadata": {}
  },
  {
   "cell_type": "code",
   "execution_count": 28,
   "source": [
    "# api/dob_api.py\n",
    "\n",
    "import fastapi\n",
    "from fastapi import Depends\n",
    "import json\n",
    "from models.celebrities import Celebrity\n",
    "# from services.dob_service import get_dob\n",
    "from services.dob_service_async import get_dob\n",
    "router = fastapi.APIRouter()\n",
    "\n",
    "@router.get('/api/dob/{first_name}')\n",
    "def dob(celebrity: Celebrity = Depends()):\n",
    "    report = get_dob(celebrity.first_name, celebrity.last_name, celebrity.city)\n",
    "    return fastapi.Response(content=json.dumps(report),\n",
    "                            media_type='application/json')"
   ],
   "outputs": [],
   "metadata": {}
  },
  {
   "cell_type": "markdown",
   "source": [
    "If you go to the following URL [http://127.0.0.1:8008/api/dob/Uma?last_name=Thurman&city=True](http://127.0.0.1:8008/api/dob/Uma?last_name=Thurman&city=True), you will get a real API response!\r\n",
    "<p align=center><img src=images/Routing_3.png width=500></p>"
   ],
   "metadata": {}
  },
  {
   "cell_type": "markdown",
   "source": [
    "Also, you can use the requests library to get the json object that has been uploaded to check that everything worked properly:"
   ],
   "metadata": {}
  },
  {
   "cell_type": "code",
   "execution_count": 30,
   "source": [
    "requests.get('http://127.0.0.1:8008/api/dob/Uma?last_name=Thurman&city=True').json()"
   ],
   "outputs": [
    {
     "output_type": "execute_result",
     "data": {
      "text/plain": [
       "{'First name': 'Uma',\n",
       " 'Last_name': 'Thurman',\n",
       " 'Date of Birth': '1970-04-29',\n",
       " 'City': 'Boston, Massachusetts, U.S.'}"
      ]
     },
     "metadata": {},
     "execution_count": 30
    }
   ],
   "metadata": {}
  },
  {
   "cell_type": "markdown",
   "source": [
    "# Implementing async and await in your API"
   ],
   "metadata": {}
  },
  {
   "cell_type": "markdown",
   "source": [
    "As we saw above, FastAPI leverages the use of modern Python tools, especially the asynchronous functions. In order to implement it, we need to simply change the `dob_service.py` file to incorporate these tools. Observe the changes we implemented in the code below, considering that requests doesn't work asynchronously."
   ],
   "metadata": {}
  },
  {
   "cell_type": "code",
   "execution_count": null,
   "source": [
    "# services/dob_service.py\r\n",
    "\r\n",
    "from bs4 import BeautifulSoup\r\n",
    "import json\r\n",
    "import re\r\n",
    "import httpx\r\n",
    "async def get_dob(first_name: str, last_name: str, city: bool=False):\r\n",
    "    infobox_data = await get_infobox_async(first_name, last_name)\r\n",
    "    if not infobox_data:\r\n",
    "        return None\r\n",
    "    birthday = infobox_data.find('span', {'class': 'bday'})\r\n",
    "\r\n",
    "    report = {'first name': first_name,\r\n",
    "              'last_name': last_name,\r\n",
    "              'Date of Birth': birthday.text}\r\n",
    "    if city:\r\n",
    "        birthplace = infobox_data.find('div', {'class': 'birthplace'})\r\n",
    "        report['City'] = birthplace.text\r\n",
    "\r\n",
    "    return report\r\n",
    "\r\n",
    "async def get_infobox_async(first_name: str, last_name: str):\r\n",
    "    async with httpx.AsyncClient() as client:\r\n",
    "        r = await client.get(f'https://en.wikipedia.org/wiki/{first_name}_{last_name}')\r\n",
    "        html = r.text\r\n",
    "    soup = BeautifulSoup(html, 'html.parser')\r\n",
    "    if soup.find_all('b', text=re.compile('Wikipedia does not have an article with this exact name')):\r\n",
    "        return None\r\n",
    "    celeb_infobox = soup.find('table', {'class': 'infobox biography vcard'})\r\n",
    "    return celeb_infobox.find('td', {'class': 'infobox-data'})"
   ],
   "outputs": [],
   "metadata": {}
  },
  {
   "cell_type": "code",
   "execution_count": null,
   "source": [
    "# api/dob_api.py\r\n",
    "\r\n",
    "import fastapi\r\n",
    "from fastapi import Depends\r\n",
    "import json\r\n",
    "from models.celebrities import Celebrity\r\n",
    "from services.dob_service import get_dob\r\n",
    "\r\n",
    "\r\n",
    "router = fastapi.APIRouter()\r\n",
    "\r\n",
    "@router.get('/api/dob/{first_name}')\r\n",
    "async def dob(celebrity: Celebrity = Depends()):\r\n",
    "    report = await get_dob(celebrity.first_name, celebrity.last_name, celebrity.city)\r\n",
    "    return fastapi.Response(content=json.dumps(report),\r\n",
    "                                media_type='application/json')"
   ],
   "outputs": [],
   "metadata": {}
  },
  {
   "cell_type": "markdown",
   "source": [
    "Notice that, whenever we call an asynchronous function, we need to `await` for it. Similarly, if we need to await because we are calling for an asynchronous function, we need to include it in an `async` function.\r\n",
    "\r\n",
    "The output you see now will be the same as the one obtained previously, however, when you deploy this API, it can provide many more responses much faster. "
   ],
   "metadata": {}
  },
  {
   "cell_type": "markdown",
   "source": [
    "# Summary\r\n",
    "\r\n",
    "- You learned how to leverage modern tools of Python in FastAPI\r\n",
    "    - Pydantic\r\n",
    "    - Async and Await\r\n",
    "- You learned the difference between an ASGI and a WSGI server\r\n",
    "- You learned how to route API requests to a single node called in main"
   ],
   "metadata": {}
  }
 ],
 "metadata": {
  "interpreter": {
   "hash": "68005dcbcdc29b4614156d1d6e1ead8b1c573354a9443b8e7d12638b4de24e7d"
  },
  "kernelspec": {
   "name": "python3",
   "display_name": "Python 3.9.6 64-bit ('fastapi': conda)"
  },
  "language_info": {
   "codemirror_mode": {
    "name": "ipython",
    "version": 3
   },
   "file_extension": ".py",
   "mimetype": "text/x-python",
   "name": "python",
   "nbconvert_exporter": "python",
   "pygments_lexer": "ipython3",
   "version": "3.9.6"
  },
  "orig_nbformat": 4
 },
 "nbformat": 4,
 "nbformat_minor": 2
}