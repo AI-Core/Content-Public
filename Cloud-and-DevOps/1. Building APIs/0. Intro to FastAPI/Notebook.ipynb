{
 "cells": [
  {
   "cell_type": "markdown",
   "source": [
    "# FastAPI"
   ],
   "metadata": {}
  },
  {
   "cell_type": "markdown",
   "source": [
    "> ## FastAPI is a library for quick creating efficient and fast web APIs using Python\r\n",
    "\r\n",
    "Some advantages about using FastAPI with respect to other web frameworks include:\r\n",
    "\r\n",
    "1. __It is intentionally easy to use__: The code structure and its encapsulation make it very intuitive to find the methods you are looking for in no time\r\n",
    "2. __Fast to code__: FastAPI does lots of the hard work for you, simply add the type of request to be expected, and the corresponding response.\r\n",
    "3. __It uses both OpenAPI and JSON__: This way, not only will your browser be able to display the data nicely, but also, the user will be able to retrieve the data efficiently.\r\n",
    "4. __Queries are much easier to format__: Remember that lesson about type hinting? This is where it comes in extremely handy. By default your queries will have `str` format, but if you give a specific type hint in your functions, the input will be casted to that type\r\n",
    "5. __It processes requests asynchronously__: You can send multiple requests to a FastAPI server while it is computing the operation from a previous request, so you don't have to wait for the previous request to finish to be able to accept new requests\r\n",
    "6. __It integrates Dataclass__ decorators, which make it even easier to get your application up and running\r\n",
    "7. __It integrates pytest__ so your API can be easily tested before being deployed.\r\n",
    "\r\n",
    "FastAPI is relatively new (compared to Flask or Django for example), and adoption is growing faster. You might also want to check other libraries such as Tornado or Hug to create applications. However, due to its power and simplicity, we are going to focus on FastAPI."
   ],
   "metadata": {}
  },
  {
   "cell_type": "markdown",
   "source": [
    "In this lesson we will start by creating a really small API, with minimal functionality."
   ],
   "metadata": {}
  },
  {
   "cell_type": "markdown",
   "source": [
    "## Installation"
   ],
   "metadata": {}
  },
  {
   "cell_type": "markdown",
   "source": [
    "We need 2 libraries:\n",
    "- `fastapi` allows us to define the API. Check out the docs [here](https://fastapi.tiangolo.com)\n",
    "- `uvicorn` allows fastapi to handle requests in parallel. Check out the docs [here](https://www.uvicorn.org)"
   ],
   "metadata": {}
  },
  {
   "cell_type": "code",
   "execution_count": null,
   "source": [
    "pip install fastapi\n",
    "pip install uvicorn"
   ],
   "outputs": [],
   "metadata": {}
  },
  {
   "cell_type": "markdown",
   "source": [
    "# Your first API"
   ],
   "metadata": {}
  },
  {
   "cell_type": "markdown",
   "source": [
    "Creating an API using FastAPI is incredibly easy, simply use a decorator on a function that will be ran in your application, and that's it:"
   ],
   "metadata": {}
  },
  {
   "cell_type": "code",
   "execution_count": 1,
   "source": [
    "import fastapi\n",
    "import uvicorn"
   ],
   "outputs": [],
   "metadata": {}
  },
  {
   "cell_type": "markdown",
   "source": [
    "As a reminder, the structure of the address of an API is as follow:\n",
    "```\n",
    "REQUEST = <ROOT_URL>/<Path>?<Query Parameters>\n",
    "```"
   ],
   "metadata": {}
  },
  {
   "cell_type": "markdown",
   "source": [
    "Inside the `Query Parameters`, the parameters are separated by ampersand symbols (`&`). You have one example below:\n",
    "\n",
    "<div style=\"text-align:center\"><img src=\"images/API_Structure.png\" width=600/></div>\n"
   ],
   "metadata": {}
  },
  {
   "cell_type": "markdown",
   "source": [
    "Now, let's create an instance of a FastAPI.\n",
    "\n",
    "This instance has methods which can be used to decorate functions with functionality like defining them as the function run on a `GET` request to a particular route."
   ],
   "metadata": {}
  },
  {
   "cell_type": "markdown",
   "source": [
    "> If you run the api within the notebook `uvicorn`, it will run it indefintely and you won't be able to run the proceeding cells. You should run the following code in a `.py` file."
   ],
   "metadata": {}
  },
  {
   "cell_type": "code",
   "execution_count": 1,
   "source": [
    "%%python3\n",
    "import fastapi\n",
    "import uvicorn\n",
    "api = fastapi.FastAPI() \n",
    " \n",
    "# The endpoint will be our localhost (127.0.0.1)\n",
    "# and the port that will be listening will be 8000\n",
    "# The path is '/test/calculate', but you can the path you want\n",
    "# Just make sure you use the same in your browser to chck the results\n",
    "\n",
    "@api.get('/test/calculate')\n",
    "def calculate():\n",
    "    return 2 + 2\n",
    "\n",
    "uvicorn.run(api, port=8000, host='127.0.0.1') # use uvicorn to run the api so that it processes requests asynchronously"
   ],
   "outputs": [
    {
     "output_type": "stream",
     "name": "stdout",
     "text": [
      "Process is interrupted.\n"
     ]
    }
   ],
   "metadata": {}
  },
  {
   "cell_type": "markdown",
   "source": [
    "After running the script, you can check what the API is retrieving when we visit that path (`/test/calculate`). Do this by opening [127.0.0.1:8000/test/calculate](127.0.0.1:8000/test/calculate) on your browser. You should see something like this (depending on the browser):\r\n",
    "\r\n",
    "<div style=\"text-align:center\"><img src=\"images/FastAPI_1.png\" width=600/></div>\r\n",
    "\r\n"
   ],
   "metadata": {}
  },
  {
   "cell_type": "markdown",
   "source": [
    "Right now, this is quite useless... Our API will simply return a simple number, and that's it... Let's spice things up adding some query parameters. You can add them simply adding arguments to the decorated function.\n",
    "\n",
    "Query string params are passed into a request following a `?` after the path as key value pairs on either side of an `=` separated by `&`. E.g. `my/path?firstparam=1&secondparam=3`\n",
    "\n",
    "FastAPI expects the querystring names to match the function argument names."
   ],
   "metadata": {}
  },
  {
   "cell_type": "code",
   "execution_count": null,
   "source": [
    "%%python3\n",
    "import fastapi\n",
    "import uvicorn\n",
    "api = fastapi.FastAPI() \n",
    "\n",
    "@api.get('/test/calculate')\n",
    "def calculate(x, y):\n",
    "    return x + y\n",
    "\n",
    "uvicorn.run(api, port=8000, host='127.0.0.1')"
   ],
   "outputs": [],
   "metadata": {}
  },
  {
   "cell_type": "markdown",
   "source": [
    "If you visit [127.0.0.1:8000/test/calculate](127.0.0.1:8000/test/calculate) again, now your API will return a response complaining about not having enough arguments:\n",
    "\n",
    "<div style=\"text-align:center\"><img src=\"images/FastAPI_2.png\" width=600/></div>"
   ],
   "metadata": {}
  },
  {
   "cell_type": "markdown",
   "source": [
    "As mentioned, `x` and `y` are parameters and we need to pass them as if we were running a function. We can set them as default values and/or pass them to the URL in the form of a query:\r\n",
    "\r\n",
    "<div style=\"text-align:center\"><img src=\"images/FastAPI_3.png\" width=400/></div>"
   ],
   "metadata": {}
  },
  {
   "cell_type": "markdown",
   "source": [
    "Looks good!... But wait, 1 + 5 is not 15! By default the parameters of the query are read as strings. \n",
    "\n",
    "> You can use type hinting to change the default type of your parameters"
   ],
   "metadata": {}
  },
  {
   "cell_type": "code",
   "execution_count": null,
   "source": [
    "import fastapi\n",
    "import uvicorn\n",
    "api = fastapi.FastAPI() \n",
    " \n",
    "@api.get('/test/calculate')\n",
    "def calculate(x: int, y: int): # integer type hints define the default type of the arguments, which will cast them into this type\n",
    "    return x + y\n",
    "\n",
    "uvicorn.run(api, port=8000, host='127.0.0.1')"
   ],
   "outputs": [],
   "metadata": {}
  },
  {
   "cell_type": "markdown",
   "source": [
    "Great, that one thing is solved. Now let's add responses characteristic of an API. Let's say that instead of adding them, we are going to divide `x` by `y` "
   ],
   "metadata": {}
  },
  {
   "cell_type": "code",
   "execution_count": null,
   "source": [
    "import fastapi\n",
    "import uvicorn\n",
    "api = fastapi.FastAPI() \n",
    " \n",
    "@api.get('/test/calculate')\n",
    "def calculate(x: int, y: int):\n",
    "    return x / y\n",
    "\n",
    "uvicorn.run(api, port=8000, host='127.0.0.1')"
   ],
   "outputs": [],
   "metadata": {}
  },
  {
   "cell_type": "markdown",
   "source": [
    "it will work fine, but try to use `y=0`... You will see Error: 500 `Internal Server Error`\r\n",
    "\r\n",
    "<div style=\"text-align:center\"><img src=\"images/FastAPI_4.png\" width=400/></div>"
   ],
   "metadata": {}
  },
  {
   "cell_type": "markdown",
   "source": [
    "Well, yes, the error comes from the code, but it doesn't tell the user much about the issue. We need to let them know what happened. Thus, we could send a 400 Error: `Bad Request`, meaning that the given parameters are not valid, and additionally, we could add a message. All of this will be encapsulated in the Response class from the fastapi library"
   ],
   "metadata": {}
  },
  {
   "cell_type": "code",
   "execution_count": null,
   "source": [
    "import fastapi\n",
    "import uvicorn\n",
    "api = fastapi.FastAPI() \n",
    " \n",
    "@api.get('/test/calculate')\n",
    "def calculate(x: int, y: int):\n",
    "    if y == 0:\n",
    "        return fastapi.Response(content='y cannot be zero', status_code=400)\n",
    "    return x / y\n",
    "\n",
    "uvicorn.run(api, port=8000, host='127.0.0.1')"
   ],
   "outputs": [],
   "metadata": {}
  },
  {
   "cell_type": "markdown",
   "source": [
    "One more thing you can add to Response is the data type to be returned. In many cases, APIs will return a JSON file, so we can specify the error to return the response in a JSON format."
   ],
   "metadata": {}
  },
  {
   "cell_type": "code",
   "execution_count": null,
   "source": [
    "import fastapi\n",
    "import uvicorn\n",
    "import json\n",
    "api = fastapi.FastAPI() \n",
    " \n",
    "@api.get('/test/calculate')\n",
    "def calculate(x: int, y: int):\n",
    "    if y == 0:\n",
    "        return fastapi.Response(content=json.dumps({\"error\" : \"y cannot be zero\"}),\n",
    "                                media_type='application/json',\n",
    "                                status_code=400)\n",
    "    return x / y\n",
    "\n",
    "uvicorn.run(api, port=8000, host='127.0.0.1')"
   ],
   "outputs": [],
   "metadata": {}
  },
  {
   "cell_type": "markdown",
   "source": [
    "Now, your response will contain a header indicating that it is in JSON format.\n",
    "\n",
    "<div style=\"text-align:center\"><img src=\"images/FastAPI_5.png\" width=400/></div>\n",
    "\n",
    "Now we've seen how to define a simple API in FastAPI and return appropriate error codes. Simple, right?"
   ],
   "metadata": {}
  },
  {
   "cell_type": "markdown",
   "source": [
    "## Post requests\n",
    "\n",
    "It's also simple to create `POST` method integrations with FastAPI using the `.post()` decorator.\n"
   ],
   "metadata": {}
  },
  {
   "cell_type": "code",
   "execution_count": null,
   "source": [
    "import fastapi\n",
    "import uvicorn\n",
    "import json\n",
    "api = fastapi.FastAPI() \n",
    " \n",
    "@api.post('/send/data')\n",
    "def process_data(x: int, y: int):\n",
    "    \n",
    "    if y == 0:\n",
    "        return fastapi.Response(content=json.dumps({\"error\" : \"y cannot be zero\"}),\n",
    "                                media_type='application/json',\n",
    "                                status_code=400)\n",
    "    return x / y\n",
    "\n",
    "uvicorn.run(api, port=8000, host='127.0.0.1')"
   ],
   "outputs": [],
   "metadata": {}
  },
  {
   "cell_type": "markdown",
   "source": [
    "\n",
    "\n",
    "Functionally, your post requests may not require anything to be returned, but as shown in the table [here](https://developer.mozilla.org/en-US/docs/Web/HTTP/Methods/POST) you should always return a `body` key in the response. If your request inserts some data into a database entry, this `body` key typically returns the resulting database entry."
   ],
   "metadata": {}
  },
  {
   "cell_type": "markdown",
   "source": [
    "## Docs\n",
    "\n",
    "> FastAPI generates documentation automatically!\n",
    "\n",
    "Run your API, then go to the `/docs` resources and you will see the API documentation. See the details in the FastAPI docs [here](https://fastapi.tiangolo.com/tutorial/body/#automatic-docs)"
   ],
   "metadata": {}
  },
  {
   "cell_type": "markdown",
   "source": [
    "## CORS\n",
    "\n",
    "Commonly, requests are made to an API from a website. That website, having a different URL, is known to be at a different \"origin\". By default, cross origin requests may not be allowed. This situation is known as Cross Origin Resource Sharing, or CORS. Read about how to implement CORS in the FastAPI docs [here](https://fastapi.tiangolo.com/tutorial/cors/)."
   ],
   "metadata": {}
  }
 ],
 "metadata": {
  "interpreter": {
   "hash": "06c1e258a470a687113bfba03f207c092b27379067ada2d83b8b31269ab641fe"
  },
  "kernelspec": {
   "name": "python3",
   "display_name": "Python 3.8.2 64-bit ('main': conda)"
  },
  "language_info": {
   "name": "python",
   "version": "3.8.2",
   "mimetype": "text/x-python",
   "codemirror_mode": {
    "name": "ipython",
    "version": 3
   },
   "pygments_lexer": "ipython3",
   "nbconvert_exporter": "python",
   "file_extension": ".py"
  },
  "orig_nbformat": 4
 },
 "nbformat": 4,
 "nbformat_minor": 2
}