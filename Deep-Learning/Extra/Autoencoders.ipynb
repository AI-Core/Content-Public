{
 "cells": [
  {
   "cell_type": "markdown",
   "metadata": {},
   "source": [
    "# Autoencoder"
   ]
  },
  {
   "cell_type": "markdown",
   "metadata": {},
   "source": [
    "## Learning Objectives\n",
    "- Architecture of Simple Autoencoder\n",
    "- Applications\n",
    "- Low-level Implementation in PyTorch (MNIST Digits dataset from torchvision for reconstruction)\n",
    "- Visualize the Latent Space\n",
    "- Different Types of Autoencoders: Convolutional, Variational, Deep, Denoising (Short overview - maybe more detailed description and implementation in following submodules)\n"
   ]
  },
  {
   "cell_type": "markdown",
   "metadata": {},
   "source": [
    "## Prerequisites\n",
    "- Neural Networks (FFN) -maybe also convolutional networks\n",
    "- Feature Extraction\n",
    "- Dimensionality Reduction\n",
    "- Data Compression"
   ]
  },
  {
   "cell_type": "markdown",
   "metadata": {},
   "source": [
    "## Intro\n",
    "An autoencoder is a type of neural network that learns a representation of the input. Both __output__ $r$ and __input__ $x$ therefore have the same dimensions. However, the output representation $r$ is not a straightforward copy of the input $x$. The autoencoder learns to represent the input by reducing its dimensions to a smaller size, also called __code__ $h$. This code contains the most important features that are needed to represent the input correctly. Hence an autoencoder is an __unsupervised__ feature learner, which learns the code $h$ using __mapping functions__ $f(x)$ and $g(h)$, also called the **encoder** and **decoder** respectively."
   ]
  },
  {
   "cell_type": "markdown",
   "metadata": {},
   "source": [
    "## Architecture\n",
    "<img src=\"images/simple_AE.png\" title=\"Simple Autoencoder Architecture\" style=\"width: 500px;\"/> <br>\n",
    "The base architecture of an autoencoder consists of three main parts: The encoder, code, and decoder.\n",
    "\n",
    "- __Encoder__: A feedforward neural network. The input dimension depends on the data, but the important part here is that its output is smaller. This forces the autoencoder to learn the most important features from the input. It can be described as the mapping function $f(x)$ as it maps the input $x$ to the code $h$.\n",
    "- __Code__: The reduced representation of the input, called code h where $h = f(x)$.\n",
    "- __Decoder__: A feedforward neural network like the encoder. The only differences is that the input dimension is that of the code and the output dimension is that of the original input data because it decodes the code to the input again. It can be described as the mapping function $g(h)$ as it maps the code to a copy or representation of the input, s.t. $r = g(h)$.\n",
    "\n",
    "The most simple version of an autoencoder is an undercomplete autoencoder. It has the objective to learn the most important features, which should be represented by the code. It does this by simply copying the input to the output.\n",
    "\n"
   ]
  },
  {
   "cell_type": "markdown",
   "metadata": {},
   "source": [
    "## Applications\n",
    "Autoencoders are useful for applications where the output is similar to the input such as machine translation, or computer vision tasks. Corrupted images can be denoised with autoencoders. After training, the decoder part can be used for image generation by sampling a code_h_. <br>\n",
    "As autoencoders learn important features within the code _h_, the code can be extracted s.t. the autoencoders is a means for feature extraction by dimensionality reduction."
   ]
  },
  {
   "cell_type": "markdown",
   "metadata": {},
   "source": [
    "## Implementation\n",
    "We will now implement and train an __undercomplete autoencoder__ on the MNIST digits dataset.\n",
    "The objective of an undercomplete autoencoder is to merely copy the input as the output. This will give us the opportunity to examine the features in the code that the autoencoder deems important."
   ]
  },
  {
   "cell_type": "code",
   "execution_count": 2,
   "metadata": {},
   "outputs": [],
   "source": [
    "#load the necessary libraries\n",
    "import torch\n",
    "import torchvision\n",
    "from torch import nn\n",
    "from torch.utils.data import DataLoader\n",
    "from torchvision import transforms\n",
    "from torchvision.datasets import MNIST\n",
    "import numpy as np\n",
    "import matplotlib.pyplot as plt\n",
    "import sys\n",
    "sys.path.append('..')\n",
    "from utils import get_dataloaders"
   ]
  },
  {
   "cell_type": "code",
   "execution_count": 3,
   "metadata": {},
   "outputs": [],
   "source": [
    "#set up the autoencoder class\n",
    "class Autoencoder(nn.Module):\n",
    "    def __init__(self, input_size, code_size, output_size):\n",
    "        super().__init__()\n",
    "        #the encoder should have as input size the size of each data sample and as output size the size of the code.\n",
    "        #FFN using ReLu as activation function.\n",
    "        self.encoder = nn.Sequential(\n",
    "            nn.Linear(in_features=input_size, out_features=code_size),\n",
    "            nn.ReLU(True))\n",
    "        #the decoder hould have as input size the size of the code and as output size the size of the each data sample.\n",
    "        #Another FFN using ReLu as activation function. We want separate neural networks for encoder and decoder.\n",
    "        self.decoder = nn.Sequential(\n",
    "            nn.Linear(in_features=code_size, out_features=output_size),\n",
    "            nn.ReLU(True))\n",
    "        \n",
    "    def forward(self, x):\n",
    "        #The input x is fed into the encoder. The code h is then fed into the decoder.\n",
    "        h = self.encoder(x)\n",
    "        r = self.decoder(h)\n",
    "        return r"
   ]
  },
  {
   "cell_type": "code",
   "execution_count": 4,
   "metadata": {},
   "outputs": [],
   "source": [
    "#intialise the autoencoder model\n",
    "model = Autoencoder(784, 128, 784) #make sure that output size = input size\n",
    "criterion = nn.MSELoss()\n",
    "optimizer = torch.optim.Adam(model.parameters(), lr=1e-3)"
   ]
  },
  {
   "cell_type": "code",
   "execution_count": 5,
   "metadata": {},
   "outputs": [],
   "source": [
    "batch_size = 128\n",
    "epochs = 10\n",
    "\n",
    "#Load the MNIST dataset\n",
    "train_loader, val_loader, test_loader = get_dataloaders(batch_size=batch_size)"
   ]
  },
  {
   "cell_type": "code",
   "execution_count": 6,
   "metadata": {},
   "outputs": [
    {
     "name": "stdout",
     "output_type": "stream",
     "text": [
      "Epoch : 1/10, loss = 0.0237\n",
      "Epoch : 2/10, loss = 0.0120\n",
      "Epoch : 3/10, loss = 0.0107\n",
      "Epoch : 4/10, loss = 0.0102\n",
      "Epoch : 5/10, loss = 0.0099\n",
      "Epoch : 6/10, loss = 0.0098\n",
      "Epoch : 7/10, loss = 0.0096\n",
      "Epoch : 8/10, loss = 0.0096\n",
      "Epoch : 9/10, loss = 0.0095\n",
      "Epoch : 10/10, loss = 0.0095\n"
     ]
    }
   ],
   "source": [
    "#train the model batchwise\n",
    "for epoch in range(epochs):\n",
    "    loss = 0\n",
    "    for batch, _ in train_loader:\n",
    "        input = batch.view(-1, 784) #reshape\n",
    "        \n",
    "        optimizer.zero_grad()      \n",
    "        outputs = model(input)\n",
    "        train_loss = criterion(outputs, input) #target is the original input\n",
    "        train_loss.backward()\n",
    "        optimizer.step()\n",
    "        loss += train_loss.item()\n",
    "    \n",
    "    loss = loss / len(train_loader)\n",
    "    print(\"Epoch : {}/{}, loss = {:.4f}\".format(epoch + 1, epochs, loss))"
   ]
  },
  {
   "cell_type": "markdown",
   "metadata": {},
   "source": [
    "### Reconstruct Test Images\n",
    "Now that we trained our autoencoder, let's see how the output compares to the input on some test samples. The upper row shows the original input images and the lower row shows the reconstructed images of the decoder based on the code."
   ]
  },
  {
   "cell_type": "code",
   "execution_count": 38,
   "metadata": {},
   "outputs": [
    {
     "data": {
      "image/png": "[encoded data removed]",
      "text/plain": [
       "<Figure size 2016x2016 with 20 Axes>"
      ]
     },
     "metadata": {
      "needs_background": "light"
     },
     "output_type": "display_data"
    }
   ],
   "source": [
    "#Plot reconstructed pictures of some test examples\n",
    "model.eval()\n",
    "for batch, _ in test_loader:\n",
    "    input = batch.view(-1, 784) #reshape    \n",
    "    test_outputs = model(input) #feed the batches through the autoencoder\n",
    "\n",
    "def plot_input(x,y):\n",
    "    axarr[x,y].imshow(batch[i][0].detach().numpy())\n",
    "    axarr[x,y].axis('off')\n",
    "\n",
    "def plot_output(x,y):\n",
    "    axarr[x,y].imshow(torch.reshape(test_outputs[i][:], shape=[-1,28,28]).detach().numpy()[0])\n",
    "    axarr[x,y].axis('off')   \n",
    "\n",
    "f, axarr = plt.subplots(2,10, figsize=(28,28))\n",
    "for i in range(10):\n",
    "    plot_input(0,i)\n",
    "    plot_output(1,i)\n",
    "    \n",
    "f.tight_layout()\n",
    "plt.subplots_adjust(bottom=0.3, top=0.5, hspace=0)\n",
    "plt.show(f)"
   ]
  },
  {
   "cell_type": "markdown",
   "metadata": {},
   "source": [
    "## Latent Space\n",
    "### Exercise: Code Size\n",
    "Now let's look at the effect of the code size.\n",
    "Play around with higher and lower dimensions of the code size and report how it affects the visualised output. You should create a new instance of the model for this.\n",
    "You can also add more layers to the encoder and decoder to iteratively decrease and increase the dimensions."
   ]
  },
  {
   "cell_type": "code",
   "execution_count": 3,
   "metadata": {},
   "outputs": [],
   "source": [
    "#YOUR CODE HERE"
   ]
  },
  {
   "cell_type": "markdown",
   "metadata": {},
   "source": [
    "### Latent Space Visualisation\n",
    "We will now plot the decoder output to a random code $h$ to see the features that are deemed important by the autoencoder."
   ]
  },
  {
   "cell_type": "code",
   "execution_count": 74,
   "metadata": {},
   "outputs": [
    {
     "data": {
      "text/plain": [
       "<matplotlib.image.AxesImage at 0x130e7d7d0>"
      ]
     },
     "execution_count": 74,
     "metadata": {},
     "output_type": "execute_result"
    },
    {
     "data": {
      "image/png": "[encoded data removed]",
      "text/plain": [
       "<Figure size 432x288 with 1 Axes>"
      ]
     },
     "metadata": {
      "needs_background": "light"
     },
     "output_type": "display_data"
    }
   ],
   "source": [
    "sample_code = torch.rand(128) #Create a random tensor within the space of code h\n",
    "sample_output = model.decoder(sample_code) #Only feed it through the decoder\n",
    "plt.imshow(torch.reshape(sample_output, shape=[-1,28,28]).detach().numpy()[0])"
   ]
  },
  {
   "cell_type": "markdown",
   "metadata": {},
   "source": []
  },
  {
   "cell_type": "markdown",
   "metadata": {},
   "source": [
    "## Different Types of Autoencoders\n",
    "\n",
    "### Convolutional AEs\n",
    "For computer vision tasks, convolutional autoencoders are particularly suitable. In this setting, the the linear layers in the encoder are replaced by convolutional layers. The code $h$ is produced by flattening the pooled output of the convolutional layers. The decoder works in a reverse way by using tranpose (de-)convolutional layers that upsample the convolutional windows.\n",
    "\n",
    "<img src=\"images/conv_autoencoder.png\" title=\"Convolutional Autoencoder Architecture\" style=\"width: 500px;\"/>\n",
    "(https://www.researchgate.net/profile/Xifeng_Guo/publication/320658590_Deep_Clustering_with_Convolutional_Autoencoders/links/5a2ba172aca2728e05dea395/Deep-Clustering-with-Convolutional-Autoencoders.pdf)\n",
    "\n",
    "### Denoising AEs\n",
    "A denoising autoencoders follows the same architecture as a simple autoencoder built of feed-forward neural networks. The only difference lies in the input, which is corrupted by manually adding noise. Here, the autoencoder learns to remove noise from the input and therefore learns a robust presentation of it rather than just a copy as can be the case in an undercomplete autoencoder.\n",
    "\n",
    "<img src=\"images/denoising_autoencoder.png\" title=\"Denoising Autoencoder Architecture\" style=\"width: 500px;\"/>\n",
    "(https://www.pyimagesearch.com/2020/02/24/denoising-autoencoders-with-keras-tensorflow-and-deep-learning/)\n",
    "\n",
    "### Variational AEs\n",
    "When visualising a random code from the latent space, the decoded image did not actually resemble a digit. Variational autoencoders overcome this problem by changing the encoder output. Instead of a specific tensor within the latent space, now the encoder outputs a probability distribution over the latent space. This is a great alternaitive for generative model purposes. They also use a different loss function as the objective has changed here.<br>\n",
    "If now you want to know how to build a more complex version of an autoencoder, you can follow this [tutorial](https://www.tensorflow.org/tutorials/generative/cvae) to build a convolutional variational autoencoder!"
   ]
  },
  {
   "cell_type": "markdown",
   "metadata": {},
   "source": [
    "## Summary\n",
    "Autoencoders that are trained on the right data with the right autoencoder architecture are often used to generate data. After training, we use the latent space as well as the decoder. But also the encoder can be valuable on its own, for example for dimensionality reduction and feature extraction. This is particularly useful in feature spaces of very high dimensions as, unlike traditional techniques such as PCA, autoencoders can learn non-linear relations."
   ]
  }
 ],
 "metadata": {
  "kernelspec": {
   "display_name": "Python 3",
   "language": "python",
   "name": "python3"
  },
  "language_info": {
   "codemirror_mode": {
    "name": "ipython",
    "version": 3
   },
   "file_extension": ".py",
   "mimetype": "text/x-python",
   "name": "python",
   "nbconvert_exporter": "python",
   "pygments_lexer": "ipython3",
   "version": "3.8.6"
  }
 },
 "nbformat": 4,
 "nbformat_minor": 2
}
