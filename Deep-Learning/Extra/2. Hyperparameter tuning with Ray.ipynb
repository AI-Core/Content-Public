{
 "cells": [
  {
   "cell_type": "markdown",
   "metadata": {},
   "source": [
    "# Hyperparameter tuning with Ray\n",
    "\n",
    "Ray is a platform for distributed computing. It also has a module called tune which is the industry standard tool for tuning deep learning models by adjusting hyperparameters and architecturs."
   ]
  },
  {
   "cell_type": "code",
   "execution_count": null,
   "metadata": {},
   "outputs": [],
   "source": [
    "from torch import nn\n",
    "import sys\n",
    "sys.path.append('..')\n",
    "from utils import get_dataloaders\n",
    "\n",
    "train_loader, val_loader, test_loader = get_dataloaders()\n",
    "\n",
    "class NN(nn.Module):\n",
    "    def __init__(self, l1=120, l2=84):\n",
    "        super().__init__()\n",
    "        self.layers = torch.nn.Sequential([\n",
    "            nn.Conv2d(1, 6, 5)\n",
    "            nn.Conv2d(6, 16, 5)\n",
    "            nn.Flatten()\n",
    "            nn.Linear(16 * 5 * 5, l1)\n",
    "            nn.Linear(l1, l2)\n",
    "            nn.Linear(l2, 10)\n",
    "        ])\n",
    "       \n",
    "\n",
    "    def forward(self, x):\n",
    "        x = self.layers(x)\n",
    "        return x\n",
    "\n",
    "config = {\n",
    "    'l1': 32,\n",
    "    'l2': 16\n",
    "}\n",
    "\n",
    "nn = NN(**config)\n",
    "\n",
    "config = {\n",
    "    \"l1\": tune.sample_from(lambda _: 2 ** np.random.randint(2, 9)),\n",
    "    \"l2\": tune.sample_from(lambda _: 2 ** np.random.randint(2, 9)),\n",
    "    \"lr\": tune.loguniform(1e-4, 1e-1),\n",
    "    \"batch_size\": tune.choice([2, 4, 8, 16])\n",
    "}\n",
    "\n",
    "scheduler = ASHAScheduler(\n",
    "    metric=\"loss\",\n",
    "    mode=\"min\",\n",
    "    max_t=max_num_epochs,\n",
    "    grace_period=1,\n",
    "    reduction_factor=2\n",
    ")\n",
    "\n",
    "reporter = CLIReporter(\n",
    "    # parameter_columns=[\"l1\", \"l2\", \"lr\", \"batch_size\"],\n",
    "    metric_columns=[\"loss\", \"accuracy\", \"training_iteration\"]\n",
    ")\n",
    "\n",
    "result = tune.run(\n",
    "    partial(train_cifar, data_dir=data_dir),\n",
    "    resources_per_trial={\"cpu\": 2, \"gpu\": gpus_per_trial},\n",
    "    config=config,\n",
    "    num_samples=num_samples,\n",
    "    scheduler=scheduler,\n",
    "    progress_reporter=reporter\n",
    ")"
   ]
  }
 ],
 "metadata": {
  "kernelspec": {
   "display_name": "Python 3",
   "language": "python",
   "name": "python3"
  },
  "language_info": {
   "codemirror_mode": {
    "name": "ipython",
    "version": 3
   },
   "file_extension": ".py",
   "mimetype": "text/x-python",
   "name": "python",
   "nbconvert_exporter": "python",
   "pygments_lexer": "ipython3",
   "version": "3.8.6"
  }
 },
 "nbformat": 4,
 "nbformat_minor": 2
}
