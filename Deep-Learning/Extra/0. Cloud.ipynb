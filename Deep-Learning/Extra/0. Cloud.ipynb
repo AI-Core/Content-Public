{
 "metadata": {
  "language_info": {
   "codemirror_mode": {
    "name": "ipython",
    "version": 3
   },
   "file_extension": ".py",
   "mimetype": "text/x-python",
   "name": "python",
   "nbconvert_exporter": "python",
   "pygments_lexer": "ipython3",
   "version": 3
  },
  "orig_nbformat": 2
 },
 "nbformat": 4,
 "nbformat_minor": 2,
 "cells": [
  {
   "source": [
    "# AWS EC2\n",
    "\n"
   ],
   "cell_type": "markdown",
   "metadata": {}
  },
  {
   "source": [
    "## Spinning up your server\n",
    "\n",
    "### Which AMI do I use (software)?\n",
    "\n",
    "When you first go to launch an instance, you'll be asked to choose an AMI. AMI stands for Application Machine Image. It means what software will run on your server.\n",
    "\n",
    "Most of the software we'll need is included on the deep learning AMIs.\n",
    "To find it, just search \"deep learning\" in the searchbar.\n",
    "I find the Ubuntu Linux deep learning AMI easiest to work with.\n",
    "\n",
    "### Which instance type do I use (hardware)?\n",
    "\n",
    "The different instance types have different specs. \n",
    "We'll want one with a GPU to accelerate our workloads. \n",
    "Most don't have a GPU.\n",
    "\n",
    "Check out the spec of each instance [here](https://aws.amazon.com/ec2/instance-types/).\n",
    "\n",
    "Amongst others, the p3 instances have GPUs.\n",
    "\n",
    "As a benchmark, I'm working from a MacBook Pro which has 8GB RAM and a quad core CPU (4 vCPUs).\n",
    "I don't have a GPU.\n",
    "\n",
    "Of course, AWS will charge you more to use better hardware.\n",
    "Check out the pricing of each instance type [here](https://aws.amazon.com/ec2/pricing/on-demand/)."
   ],
   "cell_type": "markdown",
   "metadata": {}
  },
  {
   "source": [
    "## Logging into your remote server\n",
    "\n",
    "### Getting the credentials\n",
    "\n",
    "When you create an instance, AWS will prompt you to download a ```.pem``` file. This file contains the private and public keys which are the security credentials that allow you to log into the server. \n",
    "\n",
    "#### What are those keys?\n",
    "\n",
    "The keys are both SHA-256 hashes.\n",
    "The private key should not be shared.\n",
    "The public key\n",
    "\n",
    "### What's SSH?\n",
    "\n",
    "SSH stands for Secure SHell. SSH is a computer protocol that uses encryption to establish a secure connection between two computers.\n",
    "These two computers can then exchange information.\n",
    "The receiving computer is known as a client, and the sending computer is known as a server.\n",
    "Obviously, in most cases, your computer is acting as a server and a client at the same time.\n",
    "In practice, when people say server they're referring to the remote machine, not their local one.\n",
    "\n",
    "### Logging in from terminal\n",
    "\n",
    "SSH into your instance from the terminal\n",
    "\n",
    "Open up a new terminal and run ```man ssh``` to see the manual for the ```ssh``` command.\n",
    "\n",
    "### Renaming the ssh target for easier ssh\n",
    "\n",
    "When you first ssh into a server your terminal will ask you if want remember this target.\n",
    "If you say yes, the target details will be added to a file called ~/.ssh/config (on Mac or Linux).\n",
    "If you look in this file, you'll see the name of the host on the first line and the other details indented below.\n",
    "If you change the name of the host on that first line to something custom, say \"my_host\", then save and exit the file, you'll be able to ssh in by simply running ```ssh my_host```.\n",
    "\n",
    "### Logging in from VSCode 🤯\n",
    "\n",
    "Install the VSCode extension called \"Remote - SSH\"\n",
    "\n",
    "### Installing the libraries we need.\n",
    "\n",
    "You can get a machine instance with PyTorch and other deep learning libraries pre-installed from [here](https://aws.amazon.com/marketplace/pp/Amazon-Web-Services-AWS-Deep-Learning-AMI-Ubuntu-1/B07Y43P7X5)\n",
    "\n",
    "You may need to run ```sudo apt update``` before trying to ```pip install``` anything\n",
    "\n",
    "If you are using a very small instance (like a t2.micro), then you might be able to lock yourself out of your instance by installing a large library like torch. I think this is because the t2.micro only has 1 cpu core, and hence everything must happen sequentially. \n",
    "If this happens you'll either lose your connection, or stay logged in and see an ever increasing download eta (e.g. eta ```3 days```).\n",
    "\n",
    "Another issue i have encountered is that torch gets installed in the wrong place. I found it in '/home/ubuntu/.local/lib/python3.8/site-packages/'. Just add this to your python path by running."
   ],
   "cell_type": "markdown",
   "metadata": {}
  },
  {
   "cell_type": "code",
   "execution_count": null,
   "metadata": {},
   "outputs": [],
   "source": [
    "import sys\n",
    "sys.path.append('/home/ubuntu/.local/lib/python3.8/site-packages/')"
   ]
  },
  {
   "source": [
    "## Now how do i get the code that I want to run on my server?\n",
    "\n",
    "### Option 1: Install Git and clone the repo\n",
    "\n",
    "### Option 2: Use ```scp```\n",
    "\n",
    "```scp``` is a command line tool for copying files between computers. It stands for Secure CoPy.\n",
    "\n",
    "Check out some examples [here](https://haydenjames.io/linux-securely-copy-files-using-scp/)."
   ],
   "cell_type": "markdown",
   "metadata": {}
  },
  {
   "source": [
    "# Remember to terminate your EC2 instance - you pay per unit time!"
   ],
   "cell_type": "markdown",
   "metadata": {}
  },
  {
   "source": [
    "Now you know everything you need to to start training models in the cloud, with unlimited compute."
   ],
   "cell_type": "markdown",
   "metadata": {}
  },
  {
   "cell_type": "code",
   "execution_count": null,
   "metadata": {},
   "outputs": [],
   "source": []
  }
 ]
}