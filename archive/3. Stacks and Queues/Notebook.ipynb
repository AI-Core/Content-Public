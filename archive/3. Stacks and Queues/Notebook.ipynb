{
 "cells": [
  {
   "cell_type": "markdown",
   "metadata": {},
   "source": [
    "# Stacks and Queues"
   ]
  },
  {
   "cell_type": "markdown",
   "metadata": {},
   "source": [
    "Stacks and Queues are a very common data structure in computer science. They use the same principle as linked lists; the main advantage of __Stacks__ is that they can be accessed in a LIFO (last in, first out) fashion. On the other hand __Queus__ are accessed in a FIFO (first in, first out) fashion.\n",
    "\n",
    "![](images/Stacks_Queues.png)"
   ]
  },
  {
   "cell_type": "markdown",
   "metadata": {},
   "source": [
    "In Python we can implement Stacks and Queus using regular lists. Hoewever, as we saw in the previous notebook, using lists is not the most efficient way to implement these data structures. As mentioned, lists are efficient to access and modify, but they are not efficient for adding and removing elements."
   ]
  },
  {
   "cell_type": "markdown",
   "metadata": {},
   "source": [
    "## Stacks\n",
    "\n",
    "As mentioned, stacks work in a LIFO (Last In First Out) manner.\n",
    "\n",
    "![](images/stacks.gif)\n",
    "\n",
    "In many programming languages, stacks have the following methods:\n",
    "\n",
    "1. pop(): Remove the top item from the stack.\n",
    "2. push(): Add an item to the top of the stack.\n",
    "3. peek(): Return the top item from the stack.\n",
    "4. isEmpty(): Return true if the stack is empty.\n",
    "\n",
    "Unlike lists, stacks doesn't offer random access to the ith item, but the time of operations for adding or removing items is the same.\n",
    "\n",
    "Therefore, even though lists offer more flexibility, stacks are more efficient.\n",
    "\n",
    "Let's see how to implement a stack in Python. We will use a similar methodology as the one used for implementing Linked Lists."
   ]
  },
  {
   "cell_type": "code",
   "execution_count": 1,
   "metadata": {},
   "outputs": [],
   "source": [
    "class Node:\n",
    "    def __init__(self, data):\n",
    "        self.data = data\n",
    "        self.next = None\n",
    "\n",
    "    def __repr__(self):\n",
    "        return str(self.data)\n",
    "\n",
    "class MyStack:\n",
    "    def __init__(self, nodes: list = None):\n",
    "        self.head = None\n",
    "        if nodes is not None:\n",
    "            # pop(0) is the first element and assigns it to head\n",
    "            node = Node(data=nodes.pop(0)) \n",
    "            self.head = node\n",
    "            # Iterate over the rest of the list\n",
    "            for elem in nodes:\n",
    "                node.next = Node(data=elem)\n",
    "                node = node.next\n",
    "    \n",
    "    def __repr__(self):\n",
    "        node = self.head\n",
    "        nodes = []\n",
    "        # Iterate over the list until we reach a None element\n",
    "        while node is not None:\n",
    "            # Cast it into a string so it can be represented\n",
    "            nodes.append(str(node.data))\n",
    "            node = node.next\n",
    "        return \" \".join(nodes) + \" <-- Last item\"\n",
    "\n",
    "    def __iter__(self):\n",
    "        # iter makes this class iterable\n",
    "        node = self.head\n",
    "        while node is not None:\n",
    "            yield node\n",
    "            node = node.next\n",
    "        "
   ]
  },
  {
   "cell_type": "markdown",
   "metadata": {},
   "source": [
    "Let's check that our MyStack class is working as expected."
   ]
  },
  {
   "cell_type": "code",
   "execution_count": 2,
   "metadata": {},
   "outputs": [
    {
     "data": {
      "text/plain": [
       " <-- Last item"
      ]
     },
     "execution_count": 2,
     "metadata": {},
     "output_type": "execute_result"
    }
   ],
   "source": [
    "my_stack = MyStack()\n",
    "my_stack"
   ]
  },
  {
   "cell_type": "code",
   "execution_count": 3,
   "metadata": {},
   "outputs": [
    {
     "name": "stdout",
     "output_type": "stream",
     "text": [
      "None\n"
     ]
    }
   ],
   "source": [
    "print(my_stack.head)"
   ]
  },
  {
   "cell_type": "markdown",
   "metadata": {},
   "source": [
    "looks fine! Let's implement the push operation."
   ]
  },
  {
   "cell_type": "code",
   "execution_count": 4,
   "metadata": {},
   "outputs": [],
   "source": [
    "class MyStack:\n",
    "    def __init__(self, nodes: list = None):\n",
    "        self.head = None\n",
    "        if nodes is not None:\n",
    "            node = Node(data=nodes.pop(0)) \n",
    "            self.head = node\n",
    "            for elem in nodes:\n",
    "                node.next = Node(data=elem)\n",
    "                node = node.next\n",
    "    \n",
    "    def __repr__(self):\n",
    "        node = self.head\n",
    "        nodes = []\n",
    "        while node is not None:\n",
    "            nodes.append(str(node.data))\n",
    "            node = node.next\n",
    "        return \" \".join(nodes) + \" <-- Last item\"\n",
    "    \n",
    "    def __iter__(self):\n",
    "        node = self.head\n",
    "        while node is not None:\n",
    "            yield node\n",
    "            node = node.next\n",
    "        \n",
    "    def push(self, node: int):\n",
    "        # If the stack is empty, add the node as the head\n",
    "        if self.head is None:\n",
    "            self.head = Node(data=node)\n",
    "            return\n",
    "        # Otherwise, add the node as the next of the current head\n",
    "        # So first we need to find the end of the list\n",
    "        for current_node in self:\n",
    "            pass\n",
    "        current_node.next = Node(data=node)\n"
   ]
  },
  {
   "cell_type": "markdown",
   "metadata": {},
   "source": [
    "Let's check that the push operation is really working."
   ]
  },
  {
   "cell_type": "code",
   "execution_count": 5,
   "metadata": {},
   "outputs": [
    {
     "name": "stdout",
     "output_type": "stream",
     "text": [
      "1 2 3 4 5 <-- Last item\n",
      "1 2 3 4 5 6 <-- Last item\n",
      "1 2 3 4 5 6 7 <-- Last item\n"
     ]
    }
   ],
   "source": [
    "my_stack = MyStack([1, 2, 3, 4, 5])\n",
    "print(my_stack)\n",
    "my_stack.push(6)\n",
    "print(my_stack)\n",
    "my_stack.push(7)\n",
    "print(my_stack)"
   ]
  },
  {
   "cell_type": "markdown",
   "metadata": {},
   "source": [
    "Great, let's add the pop operation to our stack. Spoiler alert: it's a little more complicated than it looks."
   ]
  },
  {
   "cell_type": "code",
   "execution_count": 6,
   "metadata": {},
   "outputs": [],
   "source": [
    "class MyStack:\n",
    "    def __init__(self, nodes: list = None):\n",
    "        self.head = None\n",
    "        if nodes is not None:\n",
    "            node = Node(data=nodes.pop(0)) \n",
    "            self.head = node\n",
    "            for elem in nodes:\n",
    "                node.next = Node(data=elem)\n",
    "                node = node.next\n",
    "    \n",
    "    def __repr__(self):\n",
    "        node = self.head\n",
    "        nodes = []\n",
    "        while node is not None:\n",
    "            nodes.append(str(node.data))\n",
    "            node = node.next\n",
    "        return \" \".join(nodes) + \" <-- Last item\"\n",
    "    \n",
    "    def __iter__(self):\n",
    "        node = self.head\n",
    "        while node is not None:\n",
    "            yield node\n",
    "            node = node.next\n",
    "        \n",
    "    def push(self, node: int):\n",
    "        # If the stack is empty, add the node as the head\n",
    "        if self.head is None:\n",
    "            self.head = node\n",
    "            return\n",
    "        # Otherwise, add the node as the next of the current head\n",
    "        # So first we need to find the end of the list\n",
    "        for current_node in self:\n",
    "            pass\n",
    "        current_node.next = Node(data=node)\n",
    "\n",
    "    def pop(self):\n",
    "        if self.head is None:\n",
    "            raise Exception(\"Stack is empty\")\n",
    "        # If the stack has only one node, return the head and\n",
    "        # the list will be empty\n",
    "        if self.head.next == None:\n",
    "            first = self.head\n",
    "            self.head = None\n",
    "            return first\n",
    "        # We need to find the penultimate node, so if the\n",
    "        # next of the next node is None, we have found it\n",
    "        second_last = self.head\n",
    "        while (second_last.next.next):\n",
    "            second_last = second_last.next\n",
    "        last = second_last.next\n",
    "        second_last.next = None\n",
    "        return last\n"
   ]
  },
  {
   "cell_type": "code",
   "execution_count": 7,
   "metadata": {},
   "outputs": [
    {
     "name": "stdout",
     "output_type": "stream",
     "text": [
      "1 2 3 4 5 <-- Last item\n",
      "1 2 3 4 5 6 <-- Last item\n",
      "1 2 3 4 5 <-- Last item\n",
      "6\n",
      "1 2 3 4 <-- Last item\n",
      "5\n"
     ]
    }
   ],
   "source": [
    "my_stack = MyStack([1, 2, 3, 4, 5])\n",
    "print(my_stack)\n",
    "my_stack.push(6)\n",
    "print(my_stack)\n",
    "popped = my_stack.pop()\n",
    "print(my_stack)\n",
    "print(popped)\n",
    "popped = my_stack.pop()\n",
    "print(my_stack)\n",
    "print(popped)\n",
    "\n"
   ]
  },
  {
   "cell_type": "code",
   "execution_count": 20,
   "metadata": {},
   "outputs": [],
   "source": [
    "my_ls = [1, 2, 3, 4, 5]\n",
    "my_ls.append(6)\n",
    "popped_ls = my_ls.pop()"
   ]
  },
  {
   "cell_type": "code",
   "execution_count": 21,
   "metadata": {},
   "outputs": [
    {
     "name": "stdout",
     "output_type": "stream",
     "text": [
      "[1, 2, 3, 4, 5]\n",
      "6\n"
     ]
    }
   ],
   "source": [
    "print(my_ls)\n",
    "print(popped_ls)"
   ]
  },
  {
   "cell_type": "markdown",
   "metadata": {},
   "source": [
    "The easiest operation on a stack are peek and isEmpty. Let's do it!"
   ]
  },
  {
   "cell_type": "code",
   "execution_count": 11,
   "metadata": {},
   "outputs": [],
   "source": [
    "class MyStack:\n",
    "    def __init__(self, nodes: list = None):\n",
    "        self.head = None\n",
    "        if nodes is not None:\n",
    "            node = Node(data=nodes.pop(0)) \n",
    "            self.head = node\n",
    "            for elem in nodes:\n",
    "                node.next = Node(data=elem)\n",
    "                node = node.next\n",
    "    \n",
    "    def __repr__(self):\n",
    "        node = self.head\n",
    "        nodes = []\n",
    "        while node is not None:\n",
    "            nodes.append(str(node.data))\n",
    "            node = node.next\n",
    "        return \" \".join(nodes) + \" <-- Last item\"\n",
    "    \n",
    "    def __iter__(self):\n",
    "        node = self.head\n",
    "        while node is not None:\n",
    "            yield node\n",
    "            node = node.next\n",
    "        \n",
    "    def push(self, node: int):\n",
    "        # If the stack is empty, add the node as the head\n",
    "        if self.head is None:\n",
    "            self.head = node\n",
    "            return\n",
    "        # Otherwise, add the node as the next of the current head\n",
    "        # So first we need to find the end of the list\n",
    "        for current_node in self:\n",
    "            pass\n",
    "        current_node.next = Node(data=node)\n",
    "\n",
    "    def pop(self):\n",
    "        if self.head is None:\n",
    "            raise Exception(\"List is empty\")\n",
    "        # If the stack has only one node, return the head and\n",
    "        # the list will be empty\n",
    "        if self.head.next == None:\n",
    "            first = self.head\n",
    "            self.head = None\n",
    "            return first\n",
    "        # We need to find the penultimate node, so if the\n",
    "        # next of the next node is None, we have found it\n",
    "        second_last = self.head\n",
    "        while(second_last.next.next):\n",
    "            second_last = second_last.next\n",
    "        last = second_last.next\n",
    "        second_last.next = None\n",
    "        return last\n",
    "\n",
    "    def peek(self):\n",
    "        if self.is_empty():\n",
    "            return None\n",
    "        for current_node in self:\n",
    "            pass\n",
    "        return current_node\n",
    "\n",
    "    def is_empty(self):\n",
    "        return self.head is None"
   ]
  },
  {
   "cell_type": "code",
   "execution_count": 22,
   "metadata": {},
   "outputs": [
    {
     "name": "stdout",
     "output_type": "stream",
     "text": [
      "1 2 3 4 5 <-- Last item\n",
      "False\n",
      "1 2 3 4 5 6 <-- Last item\n",
      "6\n",
      "1 2 3 4 5 <-- Last item\n",
      "5\n",
      "1 2 3 4 5 <-- Last item\n",
      "5\n",
      "4\n",
      "3\n",
      "2\n",
      "1\n",
      " <-- Last item\n",
      "True\n"
     ]
    }
   ],
   "source": [
    "my_stack = MyStack([1, 2, 3, 4, 5])\n",
    "print(my_stack)\n",
    "print(my_stack.is_empty())\n",
    "my_stack.push(6)\n",
    "print(my_stack)\n",
    "print(my_stack.pop())\n",
    "print(my_stack)\n",
    "print(my_stack.peek())\n",
    "print(my_stack)\n",
    "print(my_stack.pop())\n",
    "print(my_stack.pop())\n",
    "print(my_stack.pop())\n",
    "print(my_stack.pop())\n",
    "print(my_stack.pop())\n",
    "print(my_stack)\n",
    "print(my_stack.is_empty())"
   ]
  },
  {
   "cell_type": "markdown",
   "metadata": {},
   "source": [
    "## Queues\n",
    "\n",
    "Queues work in a FIFO (first in, first out) manner.\n",
    "\n",
    "![](images/queues.gif)\n",
    "\n"
   ]
  },
  {
   "cell_type": "markdown",
   "metadata": {},
   "source": [
    "Similar to stacks, queues can be implemented using lists, but they have even a lower efficiency than stacks implemented with lists (Can anybody tell me why?)\n",
    "\n",
    "It also has some operations common to many programming languages:\n",
    "\n",
    "1. add(item): Add and item at the beginning of the queue (right hand side of the queue)\n",
    "2. remove(): Remove the last item from the queue (left hand side of the queue)\n",
    "3. peek(): Return the top item of the queue without removing it\n",
    "4. isEmpty(): Return True if the queue is empty, False otherwise\n",
    "\n",
    "## Challenge: Implementing a Queue"
   ]
  },
  {
   "cell_type": "code",
   "execution_count": 40,
   "metadata": {},
   "outputs": [],
   "source": [
    "class Node:\n",
    "    def __init__(self, data):\n",
    "        self.data = data\n",
    "        self.next = None\n",
    "    \n",
    "    def __repr__(self):\n",
    "        return str(self.data)\n",
    "\n",
    "class MyQueue:\n",
    "    def __init__(self, nodes: list = None):\n",
    "        self.front = None\n",
    "        self.rear = None # In a queue, you can have rear or front instead of head. Or both as shown in the gif above\n",
    "        if nodes is not None:\n",
    "            # pop(0) is the first element and assigns it to head\n",
    "            self.front = Node(data=nodes.pop(0))\n",
    "            node = self.front \n",
    "            # Iterate over the rest of the list\n",
    "            for elem in nodes:\n",
    "                node.next = Node(data=elem)\n",
    "                node = node.next\n",
    "  \n",
    "    def __repr__(self):\n",
    "        node = self.front\n",
    "        nodes = []\n",
    "        # Iterate over the list until we reach a None element\n",
    "        while node is not None:\n",
    "            # Cast it into a string so it can be represented\n",
    "            nodes.append(str(node.data))\n",
    "            node = node.next\n",
    "        return  \" Head/Front --> \" + \" \".join(nodes) + \" <-- Rear/Tail\"\n",
    "\n",
    "    def __iter__(self):\n",
    "        # iter makes this class iterable\n",
    "        node = self.front\n",
    "        while node is not None:\n",
    "            yield node\n",
    "            node = node.next\n",
    "\n",
    "    def add(self, node: int):\n",
    "        if self.front is None:\n",
    "            self.front = Node(node)\n",
    "            return\n",
    "\n",
    "        node_to_add = Node(data=node)\n",
    "        # Otherwise, add the node as the next of the current head\n",
    "        # So first we need to find the end of the list\n",
    "        last = self.front\n",
    "        while(last.next):\n",
    "            last = last.next\n",
    "        last.next = node_to_add\n",
    "        node_to_add.next = None\n",
    "\n",
    "    def remove(self):\n",
    "        if self.is_empty():\n",
    "            raise Exception(\"List is empty\")\n",
    "\n",
    "        # If the stack has only one node, return the head and\n",
    "        # the list will be empty\n",
    "        item_to_remove = self.front\n",
    "        self.front = item_to_remove.next\n",
    "        \n",
    "        return item_to_remove\n",
    "        # We need to find the penultimate node, so if the\n",
    "        # next of the next node is None, we have found it\n",
    "\n",
    "    def peek(self):\n",
    "        if self.is_empty():\n",
    "            return None\n",
    "        return self.front\n",
    "\n",
    "    def is_empty(self):\n",
    "        return self.front is None"
   ]
  },
  {
   "cell_type": "code",
   "execution_count": 44,
   "metadata": {},
   "outputs": [
    {
     "name": "stdout",
     "output_type": "stream",
     "text": [
      " Head/Front --> 1 2 3 4 5 <-- Rear/Tail\n",
      " Head/Front --> 1 2 3 4 5 0 <-- Rear/Tail\n",
      " Head/Front --> 2 3 4 5 0 <-- Rear/Tail\n",
      " Head/Front --> 2 3 4 5 0 -1 <-- Rear/Tail\n",
      " Head/Front --> 2 3 4 5 0 -1 10 <-- Rear/Tail\n",
      " Head/Front --> 3 4 5 0 -1 10 <-- Rear/Tail\n"
     ]
    }
   ],
   "source": [
    "my_queue = MyQueue([1, 2, 3, 4, 5])\n",
    "print(my_queue)\n",
    "my_queue.add(0)\n",
    "print(my_queue)\n",
    "my_queue.remove()\n",
    "print(my_queue)\n",
    "my_queue.add(-1)\n",
    "print(my_queue)\n",
    "my_queue.add(10)\n",
    "print(my_queue)\n",
    "my_queue.remove()\n",
    "print(my_queue)"
   ]
  },
  {
   "cell_type": "code",
   "execution_count": 15,
   "metadata": {},
   "outputs": [
    {
     "name": "stdout",
     "output_type": "stream",
     "text": [
      "[-1, 1, 2, 3]\n"
     ]
    }
   ],
   "source": [
    "my_ls = [1, 2, 3]\n",
    "my_ls.insert(0, -1)\n",
    "print(my_ls)"
   ]
  },
  {
   "cell_type": "code",
   "execution_count": 16,
   "metadata": {},
   "outputs": [
    {
     "ename": "TypeError",
     "evalue": "'MyQueue' object is not subscriptable",
     "output_type": "error",
     "traceback": [
      "\u001b[1;31m---------------------------------------------------------------------------\u001b[0m",
      "\u001b[1;31mTypeError\u001b[0m                                 Traceback (most recent call last)",
      "\u001b[1;32mC:\\Users\\BLAIR_~1\\AppData\\Local\\Temp/ipykernel_240/762739837.py\u001b[0m in \u001b[0;36m<module>\u001b[1;34m\u001b[0m\n\u001b[1;32m----> 1\u001b[1;33m \u001b[0mmy_queue\u001b[0m\u001b[1;33m[\u001b[0m\u001b[1;36m2\u001b[0m\u001b[1;33m]\u001b[0m\u001b[1;33m\u001b[0m\u001b[1;33m\u001b[0m\u001b[0m\n\u001b[0m",
      "\u001b[1;31mTypeError\u001b[0m: 'MyQueue' object is not subscriptable"
     ]
    }
   ],
   "source": [
    "my_queue[2]"
   ]
  },
  {
   "cell_type": "markdown",
   "metadata": {},
   "source": [
    "## Deques (Double-ended Queues)"
   ]
  },
  {
   "cell_type": "markdown",
   "metadata": {},
   "source": [
    "You might remember deques from the previous lesson. They are a simple data structure that allow you to add and remove elements from both ends. So, it is actually something very similar to a combination of stacks and queues. However, this is only true considering the methods. You can access random elements in a deque\n",
    "\n",
    "![](images/deque.jpg)"
   ]
  },
  {
   "cell_type": "code",
   "execution_count": 35,
   "metadata": {},
   "outputs": [
    {
     "data": {
      "text/plain": [
       "4"
      ]
     },
     "execution_count": 35,
     "metadata": {},
     "output_type": "execute_result"
    }
   ],
   "source": [
    "from collections import deque\n",
    "my_deque = deque([1, 2, 3, 4, 5])\n",
    "my_deque[3]"
   ]
  },
  {
   "cell_type": "code",
   "execution_count": 36,
   "metadata": {},
   "outputs": [
    {
     "name": "stdout",
     "output_type": "stream",
     "text": [
      "deque([1, 2, 3, 4, 5, [1, 2, 3]])\n",
      "deque([1, 2, 3, 4, 5, [1, 2, 3], 1, 2, 3])\n"
     ]
    }
   ],
   "source": [
    "my_deque.append([1, 2, 3])\n",
    "print(my_deque)\n",
    "my_deque.extend([1, 2, 3])\n",
    "print(my_deque)"
   ]
  },
  {
   "cell_type": "markdown",
   "metadata": {},
   "source": [
    "On the other hand, we might also use Doubly Linked Lists, whose elements are not randomly accessed, but they would have the same functionalities as the combination of both Stacks and Queues."
   ]
  },
  {
   "cell_type": "markdown",
   "metadata": {},
   "source": [
    "Why are we doing this then?\n",
    "\n",
    "1. Underlying data structure\n",
    "2. How to implement in case of being asked during an interview\n",
    "3. Getting the grasp of the concept and learning algorithmic thinking"
   ]
  },
  {
   "cell_type": "markdown",
   "metadata": {},
   "source": [
    "# Challenges (In class)\n",
    "\n",
    "## 1. Text Editor:\n",
    "In this challenge you are going to use stacks to implement a text editor. You are going to perform the following tasks:\n",
    "\n",
    "1 - Append(s): append a string s to the end of the file\n",
    "\n",
    "2 - delete(n): delete the last n characters from the string\n",
    "\n",
    "3 - print(n): print the last nth character from the string\n",
    "\n",
    "4 - undo(): undo the last operation corresponding to append or delete\n",
    "\n",
    "For example, the initial string is:\n",
    "`S = 'Hello World'`\n",
    "and operations are:\n",
    "operations = ['1 My name is Ivan', '3 10', '2 0', '4', '1 Ying', '3 15', '4']\n",
    "\n",
    "| operation         | String | What happens? |\n",
    "|--                 |--|--|\n",
    "| 1 My name is Ivan | Hello World | Append ' My name is Ivan' |\n",
    "| 3 10              | Hello World My name is Ivan | Prints out the tenth character |\n",
    "| 2 0               | Hello World My name is Ivan | Deletes the first character |\n",
    "| 4                 | ello World My name is Ivan| Undo the last delete operation |\n",
    "| 1 Ying | Hello World My name is Ivan| Append ' Ying' |\n",
    "| 3 15 | Hello World My name is Ivan Ying | Prints out the fifteenth character  |\n",
    "| 4 | Hello World My name is Ivan Ying | Undo the last append operation  |\n",
    "| | Hello World My name is Ivan| |\n",
    "\n"
   ]
  },
  {
   "cell_type": "markdown",
   "metadata": {},
   "source": [
    "## 2. Animal Shelter\n",
    "\n",
    "An animal shelter, which holds only dogs and cats, operates on a strictly FIFO basis. People must adopt either the oldest (based on arrival time) of all animals at the shelter, or they can select whether they would prefer a dog or a cat (and will receive the oldest animal of that type). Create the data structures to maintain this system and implement operations such as enqueue(add in queues), dequeueAny (remove in queues), dequeueDog, and dequeueCat. You may use the built-in LinkedList data structure.\n",
    "\n",
    "_Try to make it with and without using Queues_"
   ]
  },
  {
   "cell_type": "markdown",
   "metadata": {},
   "source": [
    "# Assessments\n",
    "\n",
    "1. How stacks are related to multithreaded programs?\n",
    "2. Look information about the LifoQueue class.\n"
   ]
  },
  {
   "cell_type": "markdown",
   "metadata": {},
   "source": []
  }
 ],
 "metadata": {
  "interpreter": {
   "hash": "14fed20d815d8426698b9e4db4c2894958f6485d6746a1ea976e58ce3ec76c9f"
  },
  "kernelspec": {
   "display_name": "Python 3.9.6 64-bit ('AiCoreTeach': conda)",
   "name": "python3"
  },
  "language_info": {
   "codemirror_mode": {
    "name": "ipython",
    "version": 3
   },
   "file_extension": ".py",
   "mimetype": "text/x-python",
   "name": "python",
   "nbconvert_exporter": "python",
   "pygments_lexer": "ipython3",
   "version": "3.9.6"
  },
  "orig_nbformat": 4
 },
 "nbformat": 4,
 "nbformat_minor": 2
}
