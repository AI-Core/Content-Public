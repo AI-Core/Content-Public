{
 "cells": [
  {
   "cell_type": "markdown",
   "metadata": {},
   "source": [
    "# Dynamic Programming"
   ]
  },
  {
   "cell_type": "markdown",
   "metadata": {},
   "source": [
    "## Introduction\n",
    ">Although no strict definition of recursion has been provided thus far, you should be familiar with the concept. In this notebook, we will provide a brief description of recursion and subsequently explain the concepts of dynamic programming, particularly memoization and tabulation."
   ]
  },
  {
   "cell_type": "markdown",
   "metadata": {},
   "source": [
    "## Recursion"
   ]
  },
  {
   "cell_type": "markdown",
   "metadata": {},
   "source": [
    "\n",
    "Recursion is a very important concept in computer science. It is the process of calling a function within the same function. Here are the steps for approaching a recursion problem:\n",
    "\n",
    "1. Use a simple base case to prevent an infinite loop. This simple base case should consist of a terminating scenario.\n",
    "2. Use a set of rules that moves the problem towards the simple base case. These rules are named recurrence relations.\n",
    "\n",
    "### The Fibonacci sequence\n",
    "\n",
    "The Fibonacci sequence consists of a series of numbers, where each number is the sum of the two preceding numbers. The first two numbers are 0 and 1. The next number is the sum of the previous two and so forth. Thus, the third, fourth, fifth, sixth and ...nth numbers are 1, 2, 3, 5 and ... a + b (where a and b are the preceding numbers), respectively:\n",
    "\n",
    "0, 1, 1, 2, 3, 5, 8, 13, 21, 34, 55, 89, 144, ...\n"
   ]
  },
  {
   "cell_type": "code",
   "execution_count": null,
   "metadata": {},
   "outputs": [],
   "source": [
    "def fibonacci(n):\n",
    "    # Simple base case. In this case, if n is 0, it returns 0, and if it is 1, it returns 1.\n",
    "    # Recall that when you call for fibonacci(2), you call for fibonacci(1) and fibonacci (0).\n",
    "    if n == 0:\n",
    "        return 0\n",
    "    elif n == 1:\n",
    "        return 1\n",
    "    # Recurrence relation\n",
    "    else:\n",
    "        return fibonacci(n-1) + fibonacci(n-2)"
   ]
  },
  {
   "cell_type": "markdown",
   "metadata": {},
   "source": [
    "All the steps taken are illustrated in the figure:\n",
    "\n",
    "<p align=center><img src=images/fibo.jpg></p>"
   ]
  },
  {
   "cell_type": "markdown",
   "metadata": {},
   "source": [
    "Observe that f(4) appears two times, f(3) appears three times, f(2) appears five times, and f(1) appears eight times. Each time a function is called, it must be calculated, which decreases the implementation speed of the algorithm. In fact, this recursion has a numerical complexity of O(2^n). \n",
    "\n",
    "To improve your understanding, consider the explanation:\n",
    "- The root node has two children.\n",
    "- The left child has two children.\n",
    "- The right child has two children.\n",
    "- The left child of the left child has two children.\n",
    "- The right child of the left child has two children.\n",
    "- The left child of the right child has two children.\n",
    "- The right child of the right child has two children.\n",
    "- The flow continues.\n"
   ]
  },
  {
   "cell_type": "markdown",
   "metadata": {},
   "source": [
    "## Memoization"
   ]
  },
  {
   "cell_type": "markdown",
   "metadata": {},
   "source": [
    "The procedure for calculating a recursive function is highly inefficient. There are two choices:\n",
    "1. Flatten the recursion to an iteration.\n",
    "2. Store the result of the recursive function in a list or a dictionary; this operation is called __memoization__."
   ]
  },
  {
   "cell_type": "code",
   "execution_count": null,
   "metadata": {},
   "outputs": [],
   "source": [
    "def fibonacci_memo(n, memo=None):\n",
    "    # If the value is already calculated, return it\n",
    "    if memo is None:\n",
    "        memo = {}\n",
    "    # If the value is not calculated, calculate it and store it\n",
    "    if n in memo:\n",
    "        return memo[n]\n",
    "    if n == 0:\n",
    "        return 0\n",
    "    elif n == 1:\n",
    "        return 1\n",
    "    else:\n",
    "        result = fibonacci_memo(n-1, memo) + fibonacci_memo(n-2, memo)\n",
    "    memo[n] = result\n",
    "    return result"
   ]
  },
  {
   "cell_type": "markdown",
   "metadata": {},
   "source": [
    "Let us compare the times for different implementations of the same algorithm."
   ]
  },
  {
   "cell_type": "code",
   "execution_count": null,
   "metadata": {},
   "outputs": [],
   "source": [
    "import time\n",
    "start_time = time.time()\n",
    "print(fibonacci(35))\n",
    "print(f\"Recursive Fibonacci\\t --- {(time.time() - start_time):.08f} seconds ---\")\n",
    "start_time = time.time()\n",
    "print(fibonacci_memo(35))\n",
    "print(f\"Memoized Fibonacci\\t --- {(time.time() - start_time):.08f} seconds ---\")"
   ]
  },
  {
   "cell_type": "markdown",
   "metadata": {},
   "source": [
    "### Analysis\n",
    "\n",
    "Observe the differences in the time complexity between the recursion and memoization approaches.\n",
    "\n",
    "Memoization is also referred to as __Top-Down Dynamic Programming.__ Dynamic programming involves the optimisation of the problem complexity, and it is generally applied to problems with a large Big O time complexity. In terms of time complexity, attempt to determine the difference between recursion and memoization. The results are great in terms of time complexity; however, for every call to the function, we must store the result of the function, which is inefficient.\n",
    "\n",
    "Consider what happens when a considerably large Fibonacci number is called:"
   ]
  },
  {
   "cell_type": "code",
   "execution_count": null,
   "metadata": {},
   "outputs": [],
   "source": [
    "print(fibonacci_memo(100000))"
   ]
  },
  {
   "cell_type": "markdown",
   "metadata": {},
   "source": [
    "For every call, we add one element to the cache. The recursion can no longer be memoized; thus, we may need an alternative."
   ]
  },
  {
   "cell_type": "markdown",
   "metadata": {},
   "source": [
    "## Tabulation"
   ]
  },
  {
   "cell_type": "markdown",
   "metadata": {},
   "source": [
    "We have learnt that memoization is a type of Dynamic Programming. Additionally, we employed a Top-Down approach, implying that we started from the top of the tree and worked our way down. However, as an alternative, slightly more-efficient approach, we could go from bottom to top. With the knowledge that fibonacci(0) = 0 and fibonacci(1) = 1, we can start the model from the bottom and work our way up:"
   ]
  },
  {
   "cell_type": "code",
   "execution_count": null,
   "metadata": {},
   "outputs": [],
   "source": [
    "def fib_memo_linear(n: int) -> int:\n",
    "    if n == 0 or n == 1:\n",
    "        return n\n",
    "    else:\n",
    "        # Let us create a cache to store the results of the function\n",
    "        memo = [None] * (n + 1)\n",
    "        memo[0] = 0\n",
    "        memo[1] = 1\n",
    "    for i in range(2, n + 1):\n",
    "        memo[i] = memo[i - 1] + memo[i - 2]\n",
    "    return memo\n",
    "    \n",
    "super_fib = fib_memo_linear(10000)\n",
    "print(super_fib[-1])\n",
    "    "
   ]
  },
  {
   "cell_type": "markdown",
   "metadata": {},
   "source": [
    "This type of solution (`fib_memo_linear`) is called __Tabulation__, where we fill a table with the results of all the subproblems. Notice that this solution does not rely on recursion, and it uses memoization because it stores the results of previous calls. Therefore, it is slightly more efficient than the previous solution. Observe the type of data used in both solutions to store the results of previous computations:\n",
    "\n",
    "1. For memoization, dictionaries were employed. \n",
    "2. For tabulation, lists were employed."
   ]
  },
  {
   "cell_type": "markdown",
   "metadata": {},
   "source": [
    "### Memoization vs tabulation\n",
    "\n",
    "> You may have noticed that memoization is less straightforward than tabulation. This is because you need to picture the whole tree of possibilities. \n",
    "\n",
    "However, note that memoization has computational advantages, particularly if you do not need to compute all the values to reach the answer.\n",
    "\n",
    "> Conversely, it is relatively easy to implement tabulation. However, since you start from the bottom, you need to compute unnecessary values. \n",
    "\n",
    "Nevertheless, if you need to compute all values, tabulation is the better option."
   ]
  },
  {
   "cell_type": "markdown",
   "metadata": {},
   "source": [
    "Although both solutions (tabulation and memoization) are efficient in terms of time complexity, we had to store 100,000 values in the memory. This is not ideal."
   ]
  },
  {
   "cell_type": "code",
   "execution_count": null,
   "metadata": {},
   "outputs": [],
   "source": [
    "from sys import getsizeof\n",
    "print(f'Integer: {getsizeof(0)} bytes')\n",
    "print(f'Character: {getsizeof(\"c\")} bytes')\n",
    "print(f'Three-Character String: {getsizeof(\"Joe\")} bytes')\n",
    "print(f'Super_fib: {getsizeof(super_fib)} bytes')"
   ]
  },
  {
   "cell_type": "markdown",
   "metadata": {},
   "source": [
    "One thing to note about the fibo_memo_linear function is that we do not need the whole list whenever we retrieve the value of the nth number. We can simply store the last two values in the list and discard the rest."
   ]
  },
  {
   "cell_type": "code",
   "execution_count": null,
   "metadata": {},
   "outputs": [],
   "source": [
    "def fib_linear(n: int) -> int:\n",
    "    \"\"\"\n",
    "    Return the nth number in the Fibonacci sequence.\n",
    "    \"\"\"\n",
    "    if n == 0:\n",
    "        return 0\n",
    "    fib_n_minus_2 = 0\n",
    "    fib_n_minus_1 = 1\n",
    "    for _ in range(2, n):\n",
    "        # a, b = b, a + b This would be even more efficient!\n",
    "        fib_n = fib_n_minus_1 + fib_n_minus_2\n",
    "        fib_n_minus_2 = fib_n_minus_1\n",
    "        fib_n_minus_1 = fib_n\n",
    "    return fib_n_minus_1 + fib_n_minus_2\n",
    "    \n",
    "super_fib_linear = fib_linear(10000)"
   ]
  },
  {
   "cell_type": "code",
   "execution_count": null,
   "metadata": {},
   "outputs": [],
   "source": [
    "from sys import getsizeof\n",
    "print(f'Integer: {getsizeof(0)} bytes')\n",
    "print(f'Character: {getsizeof(\"c\")} bytes')\n",
    "print(f'Three-Character String: {getsizeof(\"Joe\")} bytes')\n",
    "print(f'Super_fib: {getsizeof(super_fib)} bytes')\n",
    "print(f'Super_fib_Linear: {getsizeof(super_fib_linear)} bytes')"
   ]
  },
  {
   "cell_type": "markdown",
   "metadata": {},
   "source": [
    "## Implementing a Dynamic Programming Algorithm"
   ]
  },
  {
   "cell_type": "markdown",
   "metadata": {},
   "source": [
    "In many cases, a graphical representation is required to solve a problem. The Fibonacci problem is a good example. However, let us explore a more practical example (N.B. This is a typical interview question):\n",
    "\n",
    "> A child (let us name him Dexter) is running up a staircase with n steps to get to his lab. He can hop across either 1 step, 2 steps, or 3 steps at a time. Implement a method to count the number of possible ways that Dexter can run up the stairs.\n",
    "\n",
    "If Dexter has to climb up four steps, there will be seven ways to climb up the stairs:\n",
    "\n",
    "1 step + 1 step + 1 step + 1 step\n",
    "\n",
    "1 step + 1 step + 2 steps\n",
    "\n",
    "1 step + 2 steps + 1 step\n",
    "\n",
    "2 steps + 1 step + 1 step \n",
    "\n",
    "2 steps + 2 steps\n",
    "\n",
    "3 steps + 1 step\n",
    "\n",
    "1 step + 3 steps\n",
    "\n",
    "Alternatively, if Dexter has to climb up three steps, there will be four ways to climb up the stairs:\n",
    "\n",
    "1 step + 1 step + 1 step\n",
    "\n",
    "1 step + 2 steps\n",
    "\n",
    "2 steps + 1 step\n",
    "\n",
    "3 steps\n",
    "\n",
    "For 5 steps, there are 13 ways.\n",
    "For 6 steps, there are 24 ways.\n",
    "For 7 steps, there are 44 ways."
   ]
  },
  {
   "cell_type": "markdown",
   "metadata": {},
   "source": [
    "This example can be solved by thinking mathematically. First, think about recursion and, thereafter, about flattening the recursion tree.\n",
    "\n",
    "### Using recursion\n",
    "\n",
    "If Dexter is standing on the i-th step, he can move to i+1, i+2, i+3-th steps. A recursive function can be formed, where at the current index, `i`, the function is recursively called for i+1, i+2 and i+3-th steps. \n",
    "\n",
    "Put in another way, to reach step i, Dexter has to jump either from the i-1, i-2 or i-3-th step, where i is the starting step. This appears like a Fibonacci sequence now.\n",
    "\n",
    "#### Algorithm \n",
    "\n",
    "1. Create a recursive function, `count_ways(n)`, which takes only one parameter (`n`).\n",
    "2. Check the base cases. If the value of `n` is less than 0, then return 0, and if the value of n is equal to zero, then return 1 as it is the starting step.\n",
    "3. Call the function recursively with values `n-1`, `n-2` and `n-3`, and sum the values that are returned, i.e. `sum = count_ways(n-1) + count_ways(n-2) + count_ways(n-3)`.\n",
    "4. Return the value of `sum`.\n"
   ]
  },
  {
   "cell_type": "code",
   "execution_count": null,
   "metadata": {},
   "outputs": [],
   "source": [
    "def count_ways(n: int) -> int:\n",
    "    # If the number of steps \n",
    "    if (n == 1 or n == 0) :\n",
    "        return 1\n",
    "    elif (n == 2) :\n",
    "        return 2\n",
    "    else :\n",
    "        return count_ways(n - 3) + count_ways(n - 2) + count_ways(n - 1)\n",
    " \n",
    " \n",
    "# Driver code\n",
    "n = 30\n",
    "print(count_ways(n))"
   ]
  },
  {
   "cell_type": "code",
   "execution_count": null,
   "metadata": {},
   "outputs": [],
   "source": [
    "def count_ways_memo(n: int, memo: dict=None) -> int:\n",
    "    if memo is None:\n",
    "        memo = {}\n",
    "    if n in memo:\n",
    "        return memo[n]\n",
    "    if (n == 1 or n == 0) :\n",
    "        return 1\n",
    "    elif (n == 2) :\n",
    "        return 2\n",
    "    else :\n",
    "        result = count_ways_memo(n - 3, memo) + count_ways_memo(n - 2, memo) + count_ways_memo(n - 1, memo)\n",
    "    memo[n] = result\n",
    "    return result\n",
    "        \n",
    "\n",
    "n = 30\n",
    "print(count_ways_memo(n))"
   ]
  },
  {
   "cell_type": "markdown",
   "metadata": {},
   "source": [
    "### Using tabulation\n",
    "The same can be done for tabulation, starting from the bottom."
   ]
  },
  {
   "cell_type": "code",
   "execution_count": null,
   "metadata": {},
   "outputs": [],
   "source": [
    "def count_ways_tabu(n: int) -> int:\n",
    "    res = [0] * (n + 2)\n",
    "    res[0] = 1\n",
    "    res[1] = 1\n",
    "    res[2] = 2\n",
    "     \n",
    "    for i in range(3, n + 1) :\n",
    "        res[i] = res[i - 1] + res[i - 2] + res[i - 3]\n",
    "    \n",
    "    return res[n]\n",
    "\n",
    "n = 30\n",
    "print(count_ways_tabu(n))"
   ]
  },
  {
   "cell_type": "markdown",
   "metadata": {},
   "source": [
    "Finally, we optimise the algorithm by ensuring that only the last three values are retrieved, without storing the whole list."
   ]
  },
  {
   "cell_type": "code",
   "execution_count": null,
   "metadata": {},
   "outputs": [],
   "source": [
    "def count_ways_linear(n) :\n",
    "    a = 1\n",
    "    b = 1\n",
    "    c = 2\n",
    "     \n",
    "    for i in range(3, n) :\n",
    "        d = a + b + c\n",
    "        a = b\n",
    "        b = c\n",
    "        c = d\n",
    "    return a + b + c\n",
    " \n",
    "n = 30\n",
    "print(count_ways_linear(n))"
   ]
  },
  {
   "cell_type": "markdown",
   "metadata": {},
   "source": [
    "We encourage you to experiment with this method to improve your understanding."
   ]
  },
  {
   "cell_type": "markdown",
   "metadata": {},
   "source": [
    "## Caching Using Decorators\n",
    "\n",
    "Python offers a decorator that caches the results of already computed functions: `lru_cache` (Least Recently Used)."
   ]
  },
  {
   "cell_type": "code",
   "execution_count": null,
   "metadata": {},
   "outputs": [],
   "source": [
    "from functools import lru_cache\n",
    "\n",
    "@lru_cache(maxsize=100)\n",
    "def fibo_recur(n):\n",
    "    if n <= 1:\n",
    "        return n\n",
    "    else:\n",
    "        return fibo_recur(n-1) + fibo_recur(n-2)\n",
    "fibo_recur(100)"
   ]
  },
  {
   "cell_type": "markdown",
   "metadata": {},
   "source": [
    "Observe that we do not have to create a new variable to store the cached variable. This task is handled by the decorator. However, we can still encounter the same problem of stack overflow."
   ]
  },
  {
   "cell_type": "code",
   "execution_count": null,
   "metadata": {},
   "outputs": [],
   "source": [
    "from functools import lru_cache\n",
    "\n",
    "@lru_cache(maxsize=10000)\n",
    "def fibo_recur(n):\n",
    "    if n <= 1:\n",
    "        return n\n",
    "    else:\n",
    "        return fibo_recur(n-1) + fibo_recur(n-2)\n",
    "fibo_recur(10000)"
   ]
  },
  {
   "cell_type": "markdown",
   "metadata": {},
   "source": [
    "Therefore, please exercise caution when deciding the number of elements to add to the cache. Click [here](https://docs.python.org/3/library/functools.html) to check out `functools`, which is a great library."
   ]
  },
  {
   "cell_type": "markdown",
   "metadata": {},
   "source": [
    "## Conclusion\n",
    "At this point, you should have a good understanding of\n",
    "\n",
    "- dynamic programming.\n",
    "- memoization and tabulation and their differences.\n",
    "- how to solve some problems using bottom-up dynamic programming, without storing all the results."
   ]
  }
 ],
 "metadata": {
  "kernelspec": {
   "display_name": "Python 3.9.0 64-bit",
   "language": "python",
   "name": "python3"
  },
  "language_info": {
   "codemirror_mode": {
    "name": "ipython",
    "version": 3
   },
   "file_extension": ".py",
   "mimetype": "text/x-python",
   "name": "python",
   "nbconvert_exporter": "python",
   "pygments_lexer": "ipython3",
   "version": "3.9.0"
  },
  "orig_nbformat": 4,
  "vscode": {
   "interpreter": {
    "hash": "aee8b7b246df8f9039afb4144a1f6fd8d2ca17a180786b69acc140d282b71a49"
   }
  }
 },
 "nbformat": 4,
 "nbformat_minor": 2
}
