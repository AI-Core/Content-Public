{
 "metadata": {
  "language_info": {
   "codemirror_mode": {
    "name": "ipython",
    "version": 3
   },
   "file_extension": ".py",
   "mimetype": "text/x-python",
   "name": "python",
   "nbconvert_exporter": "python",
   "pygments_lexer": "ipython3",
   "version": 3
  },
  "orig_nbformat": 4
 },
 "nbformat": 4,
 "nbformat_minor": 2,
 "cells": [
  {
   "source": [
    "# Flask\n",
    "\n",
    "> Flask is a python library that can be used to build applications like APIs or websites.\n",
    "\n",
    "A Flask app will be run on a computer (a remote server or your local machine) and listen for requests.\n",
    "\n",
    "In a Flask application, we define \"routes\" which are functions that will run when a request is made to a certain path.\n",
    "\n",
    "Flask is used in the same way, regardless of whether you want to use Flask to build an API that users will interact with programmatically, or you want to use it to build a web application like Twitter (or any other product that you log in to and use through a browser).\n",
    "\n",
    "A few notes:\n",
    "- there are other more common ways to build web apps than using Flask. For example React\n",
    "- Flask APIs are very commonly used to serve machine learning models through an API in production\n",
    "\n",
    "Let's look at an example."
   ],
   "cell_type": "markdown",
   "metadata": {}
  },
  {
   "cell_type": "code",
   "execution_count": null,
   "metadata": {},
   "outputs": [],
   "source": [
    "from flask import Flask\n",
    "import json\n",
    "\n",
    "APP_NAME = 'my_api'\n",
    "APP_HOST = '0.0.0.0'\n",
    "APP_PORT = 5000\n",
    "\n",
    "app = Flask(APP_NAME)\n",
    "\n",
    "@app.route('/') # defines the function which is the response is returned from at / route \n",
    "def home():\n",
    "    return 'hello world'\n",
    "\n",
    "@app.route('/home') # defines the function which is the response is returned from at /home route \n",
    "def home():\n",
    "    return '<html><h1>yo</h1><p>hi</p></html>'\n",
    "\n",
    "@app.route('/with_status_code') # requests to localhost:5000/with_status_code call this function\n",
    "def root():\n",
    "    return json.dumps({\n",
    "        'statusCode': 200,\n",
    "        'body': 'yo'\n",
    "    })\n",
    "\n",
    "if __name__ == '__main__':\n",
    "    app.run(host=APP_HOST, port=APP_PORT)"
   ]
  },
  {
   "source": [
    "By default, routes will only accept GET requests. We can define other methods to accept as follows:"
   ],
   "cell_type": "markdown",
   "metadata": {}
  },
  {
   "cell_type": "code",
   "execution_count": null,
   "metadata": {},
   "outputs": [],
   "source": [
    "\n",
    "@app.route('/post_path', methods=['POST'])\n",
    "def post_handler():\n",
    "    return 'Just got posted to'\n"
   ]
  },
  {
   "source": [
    "POST requests are usually used when we want to send some data to the API endpoint.\n",
    "\n",
    "The following example shows a post request being made to the above route, along with some data."
   ],
   "cell_type": "markdown",
   "metadata": {}
  },
  {
   "cell_type": "code",
   "execution_count": null,
   "metadata": {},
   "outputs": [],
   "source": [
    "\n",
    "r = requests.post('http://127.0.0.1:5000/post_path', data=json.dumps({'input': 3}))\n",
    "print(r.content)\n"
   ]
  },
  {
   "source": [
    "We can access the POSTed data using Flask's [`request` module](https://flask.palletsprojects.com/en/2.0.x/api/#flask.request)"
   ],
   "cell_type": "markdown",
   "metadata": {}
  },
  {
   "cell_type": "code",
   "execution_count": null,
   "metadata": {},
   "outputs": [],
   "source": [
    "from flask import Flask, request\n",
    "\n",
    "@app.route('/post_path', methods=['POST'])\n",
    "def post_handler():\n",
    "    input_value = request.get_json()['input']\n",
    "    return f'Just got posted some data with value: {input_value}'"
   ]
  },
  {
   "source": [
    "## Headers\n",
    "\n",
    "Extra information about requests can be sent as \"Headers\".\n",
    "\n",
    "There are several different types of headers ([see here](https://developer.mozilla.org/en-US/docs/Web/HTTP/Headers)). We are mainly going to look at \"request headers\".\n",
    "\n",
    "> A request header is an HTTP header that can be used in an HTTP request to provide information about the request context, so that the server can tailor the response. For example, the Accept-* headers indicate the allowed and preferred formats of the response. Other headers can be used to supply authentication credentials (e.g.  Authorization), to control caching, or to get information about the user agent or referrer, etc. ([see more](https://developer.mozilla.org/en-US/docs/Glossary/Request_header))\n",
    "\n",
    "### Authorization\n",
    "Authentication is often done by sending some access token to the server as a header. This is usually sent as the body of a header called \"Authorization\" (although the user may define it as some other header name).\n",
    "\n",
    "### The \"Content-Type\" header\n",
    "\n",
    "> At server side, an incoming request may have an entity attached to it. To determine it’s type, server uses the HTTP request header Content-Type. Some common examples of content types are “text/plain”, “application/xml”, “text/html”, “application/json”, “image/gif”, and “image/jpeg”. ([See more](https://restfulapi.net/content-negotiation/))\n",
    "\n",
    "\n"
   ],
   "cell_type": "markdown",
   "metadata": {}
  },
  {
   "source": [
    "## Rate limiting\n",
    "\n",
    "https://flask-limiter.readthedocs.io/en/stable/"
   ],
   "cell_type": "markdown",
   "metadata": {}
  }
 ]
}