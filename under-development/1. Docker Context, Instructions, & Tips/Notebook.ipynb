{
 "cells": [
  {
   "cell_type": "markdown",
   "metadata": {},
   "source": [
    "# Docker Context, Instructions, & Tips\n",
    "\n",
    "<p align=center><a href=https://www.docker.com><img src=images/Docker_Logo.png width=400></a></p>"
   ]
  },
  {
   "cell_type": "markdown",
   "metadata": {},
   "source": [
    "## Context and .dockerignore\n"
   ]
  },
  {
   "cell_type": "markdown",
   "metadata": {},
   "source": [
    "The build context is a set of files located at a specified PATH or URL. These files are sent to the Docker daemon during the creation step for use in the filesystem of the image. By default, the docker context is the location from which `docker build` is executed.\n",
    "\n",
    "> When an image is built in a given directory, __everything is added recursively to the context__ so that they can be copied into the image.\n",
    "\n",
    "Since `Dockerfile` may be surrounded by many files, it may take a significant amount of time to copy them all into the `Docker` system.\n",
    "\n",
    "As a solution, the `.dockerignore` file can be specified, which is similar to `.gitignore`.\n",
    "Each line in this file represents the path to a file or folder which should be ignored by Docker, and not sent to the Docker daemon during creation.\n",
    "\n",
    "An example `.gitignore` might look like this:"
   ]
  },
  {
   "cell_type": "code",
   "execution_count": null,
   "metadata": {
    "ExecuteTime": {
     "end_time": "2021-04-05T01:44:41.245418Z",
     "start_time": "2021-04-05T01:44:40.274Z"
    }
   },
   "outputs": [],
   "source": [
    "__main__.py\n",
    "requirements.txt"
   ]
  },
  {
   "cell_type": "markdown",
   "metadata": {},
   "source": [
    "## Dockerfile Instructions\n"
   ]
  },
  {
   "cell_type": "markdown",
   "metadata": {},
   "source": [
    "Docker instructions are the capitalised words found at the start of every line in a Dockerfile.\n",
    "\n",
    "Each instruction creates a new _layer_.\n",
    "- Images can be built from any layer upwards.\n",
    "- Layers are cached and reused by consecutive builds.\n",
    "- Layers can be reused between different images.\n",
    "\n",
    "### [FROM](https://docs.docker.com/engine/reference/builder/#from)"
   ]
  },
  {
   "cell_type": "markdown",
   "metadata": {},
   "source": [
    "> `FROM [--platform=<platform>] <image>[:<tag>] [AS <name>]`\n",
    "\n",
    "- The `FROM` command starts the __build stage__ of an image.\n",
    "- It specifies the base image (e.g. `Ubuntu`, `node` or `conda`), which defines what can be done in the image.\n",
    "- `AS` defines the image name, which is useful for _[multi-stage builds](https://docs.docker.com/develop/develop-images/multistage-build/)_.\n",
    "- It can be combined with `ARG`, which allows us to pass a value from a command line, as follows:"
   ]
  },
  {
   "cell_type": "code",
   "execution_count": null,
   "metadata": {
    "ExecuteTime": {
     "end_time": "2021-04-05T01:44:41.250268Z",
     "start_time": "2021-04-05T01:44:40.280Z"
    }
   },
   "outputs": [],
   "source": [
    "# Version is out of the build stage\n",
    "ARG VERSION=latest\n",
    "# Here, the build stage starts\n",
    "FROM busybox:$VERSION\n",
    "\n",
    "# Gets version into the build stage\n",
    "ARG VERSION\n",
    "RUN echo $VERSION > image_version"
   ]
  },
  {
   "cell_type": "markdown",
   "metadata": {},
   "source": [
    "### [RUN](https://docs.docker.com/engine/reference/builder/#run)"
   ]
  },
  {
   "cell_type": "markdown",
   "metadata": {},
   "source": [
    "\n",
    "> The `RUN` command runs the command specified __during the build stage__ (e.g. installing some packages).\n",
    "\n",
    "That means that the run command runs the command not when the container is run, but when the image is being built.\n",
    "\n",
    "*__`RUN` can be used in several forms__*\n",
    "\n",
    "> `RUN <command>` (execute via `shell`)\n",
    "\n",
    "__or__\n",
    "\n",
    "> `RUN [\"executable\", \"param1\", \"param2\"]` (`exec` form)\n",
    "\n",
    "- `shell` is employed for running `shell` (usually `bash`) commands, such as `apt-get install`.\n",
    "- `exec` is employed if the base image has no shell __or__ or to avoid string munging.\n"
   ]
  },
  {
   "cell_type": "markdown",
   "metadata": {},
   "source": [
    "### [ENTRYPOINT](https://docs.docker.com/engine/reference/builder/#entrypoint)\n"
   ]
  },
  {
   "cell_type": "markdown",
   "metadata": {},
   "source": [
    "> __This command defines the entrypoint (i.e. the command to be run) when a container is created from an image.__\n",
    "\n",
    "The command specified in an `ENTRYPOINT` instruction does not get run when the Dockerfile is used to create the image. It runs when a container is created from the image.\n",
    "\n",
    "*__`ENTRYPOINT` can be used in several forms__*\n",
    "\n",
    "> `ENTRYPOINT [\"executable\", \"param1\", \"param2\"]` (preferred `exec` form)\n",
    "\n",
    "- __It is not run through the shell__ and therefore, it is not dependent on it.\n",
    "- __It allows the use of the optional `CMD`__.\n",
    "\n",
    "__or__\n",
    "\n",
    "> `ENTRYPOINT command param1 param2` (`shell` form)\n",
    "\n",
    "- Either `ENTRYPOINT` or `CMD` is required.\n"
   ]
  },
  {
   "cell_type": "code",
   "execution_count": null,
   "metadata": {
    "ExecuteTime": {
     "end_time": "2021-04-05T01:44:41.254678Z",
     "start_time": "2021-04-05T01:44:40.285Z"
    }
   },
   "outputs": [],
   "source": [
    "FROM ubuntu\n",
    "# When a container is run from the image, the top -b will be run.\n",
    "ENTRYPOINT [\"top\", \"-b\"]"
   ]
  },
  {
   "cell_type": "markdown",
   "metadata": {},
   "source": [
    "### [CMD](https://docs.docker.com/engine/reference/builder/#cmd)\n"
   ]
  },
  {
   "cell_type": "markdown",
   "metadata": {},
   "source": [
    "> __This command specifies the default arguments in ENTRYPOINT, if any, which can be overridden by the user during `docker run`.__\n",
    "\n",
    "*__Forms__*\n",
    "\n",
    "> `CMD [\"executable\",\"param1\",\"param2\"]` (specify `executable` as `entrypoint`; the whole command can be overridden)\n",
    "\n",
    "__or__\n",
    "\n",
    "> `CMD [\"param1\",\"param2\"]` (as default parameters in ENTRYPOINT; only these can be overridden)\n",
    "\n",
    "__or__ \n",
    "\n",
    "> `CMD command param1 param2` (shell form; this form is __discouraged__ because it cannot be overridden by users)"
   ]
  },
  {
   "cell_type": "code",
   "execution_count": null,
   "metadata": {
    "ExecuteTime": {
     "end_time": "2021-04-05T01:44:41.256857Z",
     "start_time": "2021-04-05T01:44:40.288Z"
    }
   },
   "outputs": [],
   "source": [
    "FROM ubuntu\n",
    "ENTRYPOINT [\"top\", \"-b\"]\n",
    "CMD [\"-c\"]"
   ]
  },
  {
   "cell_type": "markdown",
   "metadata": {},
   "source": [
    "Now, if we `run` the container from the above image, command '`top -b -c`' will run.\n",
    "\n",
    "Things to note:\n",
    "- `top -b` __will always run.__\n",
    "- `-c` can be replaced with another flag/command via `docker run`."
   ]
  },
  {
   "cell_type": "markdown",
   "metadata": {},
   "source": [
    "To improve clarity, we examine the interaction between `CMD` and `ENTRYPOINT` (see the figure below).\n",
    "\n",
    "Note that `/bin/sh -c` is simply a command that executes the proceeding code in the terminal.\n",
    "\n",
    "![](images/docker_entrypoint_cmd_interaction.png)"
   ]
  },
  {
   "cell_type": "markdown",
   "metadata": {},
   "source": [
    "### [COPY](https://docs.docker.com/engine/reference/builder/#copy)\n"
   ]
  },
  {
   "cell_type": "markdown",
   "metadata": {},
   "source": [
    "> __This command allows users to specify the file(s) or directories that would be copied into the image from the host system.__\n",
    "\n",
    "> `COPY <src> <destination>`\n",
    "\n",
    "Often, '`COPY . .`' is used, which copies file(s) from the context location to the current working directory inside the container. \n",
    "\n",
    "Essentially, there are two file structures between which we are moving files. The file system referred to by the first argument to `COPY` is the build context (i.e. where `docker build` is run from). The file system referred to by the second argument to `COPY` is the file system within the docker container.\n",
    "\n",
    "## Other Commands\n",
    "\n",
    "Other notable commands include\n",
    "- `LABEL <key>=<value>`, which allows the addition of metadata to images (such as author, maintainer, contact information, etc.).\n",
    "- `WORKDIR dir`, which changes the working directory.\n",
    "- `ENV <key>=<value>` - environment variable readable throughout the concrete build stage\n",
    "- `EXPOSE <port>` indicates which port the container listens on. Note that it does not actually expose the port, but instead acts like a form of documentation for the user. They should read it, and then expose the port themselves using the `-p` flag on the `docker run` command. For example, `EXPOSE 80` indicates that port `80` should be exposed to the outside of the container so that it can be used for communication."
   ]
  },
  {
   "cell_type": "markdown",
   "metadata": {},
   "source": [
    "## Command Tips\n"
   ]
  },
  {
   "cell_type": "markdown",
   "metadata": {},
   "source": [
    "\n",
    "### Using the cache\n",
    "\n",
    "> __Some commands invalidate the cache.__ When this occurs, every step following it must be re-run when the image is created.\n",
    "\n",
    "Consider the example Dockerfile below (similar to the first one):"
   ]
  },
  {
   "cell_type": "code",
   "execution_count": null,
   "metadata": {
    "ExecuteTime": {
     "end_time": "2021-04-05T01:44:41.258880Z",
     "start_time": "2021-04-05T01:44:40.293Z"
    }
   },
   "outputs": [],
   "source": [
    "FROM ubuntu:18.04\n",
    "\n",
    "RUN apt-get update\n",
    "COPY . .\n",
    "\n",
    "RUN apt-get install -y --no-install-recommends python3\n",
    "RUN rm -rf /var/lib/apt/lists/*"
   ]
  },
  {
   "cell_type": "markdown",
   "metadata": {},
   "source": [
    "Now, regardless of any occurrence, `python3` will be installed during each `docker build`.\n",
    "\n",
    "> This occurs because Docker has no mechanism for ascertaining if the `context` for the `COPY` command has changed.\n",
    "\n",
    "Instead, we can use what we learnt at the beginning __since Python installation is not dependent on the context__.\n",
    "\n",
    "> __If possible, `COPY` statements should be inserted after setting up the OS dependencies.__"
   ]
  },
  {
   "cell_type": "markdown",
   "metadata": {},
   "source": [
    "### Chaining commands\n",
    "\n",
    "> Whenever possible, __multiple commands should be chained using `&&`__ so they can all be part of a single `RUN` directive.\n",
    "\n",
    "Docker works similarly to `git` in that __it only stashes changes (additions) to the system__.\n",
    "\n",
    "This is often undesirable because\n",
    "- temporary files are excluded, which increases the image's size (`rm -rf /var/lib/apt/lists/*` shown at the beginning of the lesson).\n",
    "- containers __are less of a black box__, indicating that attackers can analyse the Docker system easily and find its faults.\n",
    "\n",
    "__The main command to consider is `RUN` since most commands (e.g. `LABEL`) do not create an additional layer.__"
   ]
  },
  {
   "cell_type": "markdown",
   "metadata": {},
   "source": [
    "## Image Size"
   ]
  },
  {
   "cell_type": "markdown",
   "metadata": {},
   "source": [
    "When working with containers, small, self-contained images are preferred to large images.\n",
    "\n",
    "Consider a case where `10` containers are to be run from a single `1GB` published image. At least `10GB` of bandwidth would be required, which is quite large compared to the case with a `10MB` image.\n",
    "\n",
    "### Benefits of a small image\n",
    "- Low latency for users (setup takes considerably less time).\n",
    "- Easy to recreate a fleet of containers.\n",
    "- Easy to replace a failed container.\n",
    "\n",
    "Docker provides a feature that enables us to achieve small-sized images, namely multi-stage builds.\n"
   ]
  },
  {
   "cell_type": "markdown",
   "metadata": {},
   "source": [
    "## Multi-stage Builds\n"
   ]
  },
  {
   "cell_type": "markdown",
   "metadata": {},
   "source": [
    "Multi-stage builds enable the use of multiple images to create an application (usually the final product).\n",
    "Generally, the first image builds the application (i.e. creating an artifact), while the second copies it and configures it for running in a container.\n",
    "\n",
    "> __Multi-stage builds should be employed wherever possible.__\n",
    "\n",
    "To understand this better, we consider an example `Dockerfile`."
   ]
  },
  {
   "cell_type": "code",
   "execution_count": null,
   "metadata": {
    "ExecuteTime": {
     "end_time": "2021-04-05T01:44:41.261529Z",
     "start_time": "2021-04-05T01:44:40.295Z"
    }
   },
   "outputs": [],
   "source": [
    "# FIRST (BUILDER) STAGE\n",
    "FROM golang:1.7.3 AS builder\n",
    "\n",
    "# Obtain golang code\n",
    "WORKDIR /go/src/github.com/alexellis/href-counter/\n",
    "RUN go get -d -v golang.org/x/net/html  \n",
    "COPY app.go .\n",
    "# Compile as a single executable file called app.\n",
    "RUN CGO_ENABLED=0 GOOS=linux go build -a -installsuffix cgo -o app .\n",
    "\n",
    "# SECOND STAGE\n",
    "# Alpine is a very slim file system (few MB) that is highly suitable for lightweight deployment.\n",
    "FROM alpine:latest  \n",
    "\n",
    "# Setup only the bare necessities.\n",
    "RUN apk --no-cache add ca-certificates\n",
    "WORKDIR /root/\n",
    "# Copy the self-contained app into the smaller image.\n",
    "COPY --from=builder /go/src/github.com/alexellis/href-counter/app .\n",
    "# Setup the application as the container's ENTRYPOINT.\n",
    "ENTRYPOINT [\"./app\"]  "
   ]
  },
  {
   "cell_type": "markdown",
   "metadata": {},
   "source": [
    "### Pros\n",
    "\n",
    "- A multi-stage build drastically reduces the image size.\n",
    "- It simplifies maintenance.\n",
    "\n",
    "### Cons\n",
    "\n",
    "- It is __mainly suitable for compilable languages__, such as Go and C++.\n",
    "- It supports __static linking__ (i.e. everything is contained in a single executable).\n",
    "- It does not typically work nicely with deep learning projects as they commonly require many dependencies.\n",
    "    - These cons can be addressed by changing the language from Python to something like C++ using `torchscript` or PyTorch's `C++` frontend. However, be warned that this approach comes with many hurdles and is difficult to carry out.\n"
   ]
  },
  {
   "cell_type": "markdown",
   "metadata": {},
   "source": [
    "### Image sourcing\n",
    "> __As an online registry, Dockerhub contains many official and third-party images ready to be run as containers or for use as a base__\n",
    "\n",
    "![](images/dockerhub_main_page.png)\n",
    "\n",
    "To download these images automatically, simply run `docker run`:"
   ]
  },
  {
   "cell_type": "code",
   "execution_count": null,
   "metadata": {
    "ExecuteTime": {
     "end_time": "2021-04-05T12:53:25.533396Z",
     "start_time": "2021-04-05T12:53:24.367993Z"
    }
   },
   "outputs": [],
   "source": [
    "docker run busybox:latest ls -la"
   ]
  },
  {
   "cell_type": "markdown",
   "metadata": {},
   "source": [
    "### Tips\n",
    "\n",
    "- Use official images whenever possible.\n",
    "- Use the smallest image fitting for the job (e.g. `alpine` instead of `ubuntu` whenever possible).\n",
    "- __Explore unofficial images__ or roll out yours."
   ]
  },
  {
   "cell_type": "markdown",
   "metadata": {},
   "source": [
    "## Docker Commands\n"
   ]
  },
  {
   "cell_type": "markdown",
   "metadata": {},
   "source": [
    "Of course, there's lots more to learn about Docker's CLI.\n",
    "\n",
    "### Important high-level commands\n",
    "- [`docker image SUBCOMMAND`](https://docs.docker.com/engine/reference/commandline/image/): manages `Docker` images (e.g. building or inspecting).\n",
    "- [`docker container SUBCOMMAND`](https://docs.docker.com/engine/reference/commandline/container/): manages `Docker` containers (creating from an image, stopping, restarting, killing, inspecting, etc.).\n",
    "- [`docker volume SUBCOMMAND`](https://docs.docker.com/engine/reference/commandline/volume/): manages volumes (persistent data storage, which might be shared and attached to Docker containers).\n",
    "- [`docker network SUBCOMMAND`](https://docs.docker.com/engine/reference/commandline/network/): manage `Docker` networks (e.g. creating, inspecting, and listing. This is not covered here; Kubernetes will be employed for network-related tasks.)\n",
    "\n",
    "### Less-important high-level commands\n",
    "- [`docker config SUBCOMMAND`](https://docs.docker.com/engine/reference/commandline/config/): configures Docker.\n",
    "- [`docker stack`](https://docs.docker.com/engine/reference/commandline/stack/): manages multiple containers as a whole (not covered here; Kubernetes is used instead.)\n",
    "- [`docker secret`](https://docs.docker.com/engine/reference/commandline/secret/): manages secrets (such as passwords and other sensitive data inside containers/images).\n",
    "- [`docker system`](https://docs.docker.com/engine/reference/commandline/system/): manages Docker itself (the amount of space expended, image/container cleaning, etc.).\n",
    "\n",
    "Note that these `SUBCOMMAND`s are also available inside `docker` (e.g. `docker image build` is equivalent to `docker build`); thus, they may be a source of confusion.\n",
    "\n",
    "> __Explore the documentation for `docker build` instead of `docker image build` as it has more information; note, however, that the latter is considerably more readable.__"
   ]
  },
  {
   "cell_type": "markdown",
   "metadata": {},
   "source": [
    "\n",
    "### Docker image build\n"
   ]
  },
  {
   "cell_type": "markdown",
   "metadata": {},
   "source": [
    "> `docker image build [OPTIONS] PATH | URL | -`\n",
    "\n",
    "As shown previously, this command can be employed to `build` an `IMAGE` from `Dockerfile` __and__ `context`.\n",
    "\n",
    "Apart from building from local, it is possible to build from\n",
    "- `github`: `docker build github.com/creack/docker-firefox`.\n",
    "- `tar.gaz`: `docker build -f ctx/Dockerfile http://server/ctx.tar.gz` (here, the context is on a different server).\n",
    "- `stdin` (no context in this case): `docker build - < Dockerfile`.\n",
    "\n",
    "#### Options\n",
    "\n",
    "- `-t` adds a tag to the image (__it should always be used__): `docker build -t whenry/fedora-jboss:latest -t whenry/fedora-jboss:v2.1 .` (multiple tags supported).\n",
    "- `-f` specifies different files: `docker build -f dockerfiles/Dockerfile.debug -t myapp_debug .` (useful for separate image production, testing, and debugging).\n",
    "- `--build-arg` passes arguments to the build stage (`ARG` above): `docker build --build-arg HTTP_PROXY=http://10.20.30.2:1234 .`\n",
    "\n"
   ]
  },
  {
   "cell_type": "markdown",
   "metadata": {},
   "source": [
    "\n",
    "### Docker container run\n"
   ]
  },
  {
   "cell_type": "markdown",
   "metadata": {},
   "source": [
    "\n",
    "This is considered the most important command, and it has many options.\n",
    "\n",
    "> __REMINDER:__ Docker runs processes in isolated containers. A container is a process that runs on a host. \n",
    "\n",
    "> `docker container run [OPTIONS] IMAGE[:TAG] [COMMAND] [ARG...]`\n",
    "\n",
    "Using `OPTIONS`, developers can override the defaults set by the image creator, including, but not limited to,\n",
    "- detached or foreground running.\n",
    "- network settings.\n",
    "- runtime constraints.\n",
    "- command run.\n",
    "\n",
    "> `COMMAND` specifies the command to be passed to the image entrypoint.\n",
    "\n",
    "> `ARG` are the arguments passed to the command.\n",
    "\n",
    "#### Running a container interactively\n",
    "\n",
    "> `docker container run` can attach streams (`STDIN`, `STDOUT`, `STDERR`) of the container and attach a terminal to facilitate interaction with the container.\n",
    "\n",
    "- `-a NAME_OF_STREAM`\n",
    "- `-t` allocates a pseudo TTY (terminal).\n",
    "- `-i` keeps STDIN open even when not attached to the CLI.\n",
    "\n",
    "`/bin/bash` specifies the entrypoint of the TTY we have attached."
   ]
  },
  {
   "cell_type": "markdown",
   "metadata": {},
   "source": [
    "### Options\n",
    "\n",
    "- `--name NAME` specifies the name of the container (__this should always be done__).\n",
    "- `--rm` removes the container after exit (__usually do this__); otherwise, it will prevail in the OS not doing anything.\n",
    "- `-d` runs in a detached mode (default runs in the foreground, equivalent to `-d=false`).\n",
    "- `-m` sets the memory limit (`docker run -it -m 300M ubuntu:14.04 /bin/bash`); there are also flags for other resources.\n",
    "- `-e NAME=VALUE` passes the environment variable to the container (`export today=Wednesday; docker run -e \"deep=purple\" -e today --rm alpine env` would enable the use of `$today` inside the container).\n",
    "- `--entrypoint` overrides the default image entrypoint (`docker run -it --entrypoint /bin/bash example/redis`); __it can be reset via `--entrypoint=\"\"`.__\n",
    "\n",
    "> For more information, check out [`docker run` reference](https://docs.docker.com/engine/reference/run/).\n",
    "\n",
    "### Exit codes\n",
    "\n",
    "> If `docker run` fails, inspect the return code to determine the location of the bug.\n",
    "\n",
    "- `125`: error within the daemon (e.g. wrong flag passed; `docker run --foo busybox`).\n",
    "- `126`: contained comment cannot be __invoked__ (`docker run busybox /etc` - a directory, not a command).\n",
    "- `127`: contained comment cannot be found (`docker run busybox foo` - no command `foo`).\n",
    "\n",
    "> Otherwise, the return code of the contained comment will be returned (usually `0` if executed correctly)."
   ]
  },
  {
   "cell_type": "markdown",
   "metadata": {},
   "source": [
    "## Docker Volumes\n",
    "\n",
    "__Docker may create artifacts__ (such as metrics from training or data after preprocessing).\n",
    "\n",
    "There are __two approaches for retrieving these artifacts from containers__:\n",
    "- using the `docker container cp` command\n",
    "- using volumes\n",
    "\n",
    "> __Volumes are persistent storage spaces shared between the host machine and Docker container(s).__\n",
    "\n",
    "### Pros\n",
    "- Data sharing between containers and hosts (e.g. the data-preprocessing container creates the datasets, while the neural-network container trains the model on it).\n",
    "- It is possible to copy to/from the containers and perform a live update of their data contents.\n",
    "- It is possible to set the volume to be readable only for increased security.\n",
    "\n",
    "### Docker volume create\n",
    "\n",
    "> This command creates a volume that __includes the contents of the directory in which it was created.__"
   ]
  },
  {
   "cell_type": "code",
   "execution_count": null,
   "metadata": {},
   "outputs": [],
   "source": [
    "docker volume create docker_lesson"
   ]
  },
  {
   "cell_type": "markdown",
   "metadata": {},
   "source": [
    "Now, we can __mount__ the volume to the `/lesson` directory inside the container and list its contents:"
   ]
  },
  {
   "cell_type": "code",
   "execution_count": null,
   "metadata": {},
   "outputs": [],
   "source": [
    "docker container run --rm -v docker_lesson:/lesson busybox ls /lesson"
   ]
  },
  {
   "cell_type": "markdown",
   "metadata": {},
   "source": [
    "### Mounting\n",
    "\n",
    "Now, we explore a few approaches to `mount` the volume using `--mount`:"
   ]
  },
  {
   "cell_type": "code",
   "execution_count": null,
   "metadata": {},
   "outputs": [],
   "source": [
    "docker run \\\n",
    "  --name devtest \\\n",
    "  --mount source=myvol2,target=/app \\\n",
    "  nginx:latest"
   ]
  },
  {
   "cell_type": "markdown",
   "metadata": {},
   "source": [
    "## Cheat Sheet \n",
    "\n",
    "Here are some common Docker commands and their explanations."
   ]
  },
  {
   "cell_type": "code",
   "execution_count": null,
   "metadata": {},
   "outputs": [],
   "source": [
    "# Images\n",
    "alias di=\"docker image\" # General for docker images\n",
    "\n",
    "alias dib=\"docker image build\" # Build docker image\n",
    "alias dil=\"docker image ls\" # List docker images (check --help)\n",
    "alias dip=\"docker image push\" # Push NAME image\n",
    "alias dirm=\"docker image rm\" # Remove NAME image\n",
    "alias dirmall=\"docker image prune -a\" # Remove all images not used by the containers\n",
    "\n",
    "# Containers\n",
    "alias dc=\"docker container\" # General for docker containers\n",
    "\n",
    "alias dcr=\"docker container run\" # Run container from an IMAGE image\n",
    "alias dccp=\"docker container cp\" # Copy data from src to dst inside container\n",
    "alias dce=\"docker container exec\" # Execute COMMAND inside container\n",
    "alias dci=\"docker container inspect\" # Inspect container\n",
    "alias dck=\"docker container kill\"  # Kill container\n",
    "alias dcl=\"docker container ls\" # List all available containers\n",
    "alias dcs=\"docker container stop\" # Stop running container\n",
    "\n",
    "alias dcrma='docker ps -a -q | xargs sudo docker rm' # Remove all non-running containers\n",
    "\n",
    "# Volumes\n",
    "alias dv=\"docker volume\" # General volume command\n",
    "\n",
    "alias dvc=\"docker volume create\" # Create NAMED volume\n",
    "alias dvl=\"docker volume ls\" # List all available volumes\n",
    "alias dvrm=\"docker volume rm\" # Remove volumes\n",
    "\n",
    "# List files inside the created volume\n",
    "dvi(){\n",
    "  docker run --rm -i -v=\"$1\":/tmp/myvolume busybox find /tmp/myvolume\n",
    "}\n",
    "\n",
    "# System\n",
    "alias dsi=\"docker system info\" # Display system-wide information\n",
    "alias dsdf=\"docker system df\" # How much images and containers take in terms of space\n",
    "alias dsp=\"docker system prune\" # Remove every unused image/container"
   ]
  },
  {
   "cell_type": "markdown",
   "metadata": {},
   "source": [
    "## Conclusion\n",
    "\n",
    "At this point, you should have a good understanding of\n",
    "- how to ignore unwanted files in our Docker build.\n",
    "- the role of each of the Docker commands in building an image.\n",
    "- how to create multi-stage Docker builds. \n",
    "- how to create persistent volumes to retrieve data from a container to our local machine."
   ]
  }
 ],
 "metadata": {
  "kernelspec": {
   "display_name": "Python 3.9.0 64-bit",
   "language": "python",
   "name": "python3"
  },
  "language_info": {
   "codemirror_mode": {
    "name": "ipython",
    "version": 3
   },
   "file_extension": ".py",
   "mimetype": "text/x-python",
   "name": "python",
   "nbconvert_exporter": "python",
   "pygments_lexer": "ipython3",
   "version": "3.9.0"
  },
  "orig_nbformat": 4,
  "vscode": {
   "interpreter": {
    "hash": "aee8b7b246df8f9039afb4144a1f6fd8d2ca17a180786b69acc140d282b71a49"
   }
  }
 },
 "nbformat": 4,
 "nbformat_minor": 2
}
