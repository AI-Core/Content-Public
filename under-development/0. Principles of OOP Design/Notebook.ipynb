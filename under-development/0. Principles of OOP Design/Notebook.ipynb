{
 "cells": [
  {
   "cell_type": "markdown",
   "metadata": {},
   "source": [
    "# Principles of OOP Design"
   ]
  },
  {
   "cell_type": "markdown",
   "metadata": {},
   "source": [
    "The basis for effective software design is in its name: __Intentional Design__. While designing your code, you will find that you need to reuse the same algorithms over and over again, so it is important to organize your code to:\n",
    "\n",
    "1. Save time for you and your teammates when you have to revisit the code\n",
    "2. Reuse the same algorithm but with different parameters\n",
    "3. Avoid common pitfalls caused by extensive code\n",
    "4. Increase the flexibility of your code by keeping placeholders for your functions or methods"
   ]
  },
  {
   "cell_type": "markdown",
   "metadata": {},
   "source": [
    "In this notebook you will learn the hierarchical structure of a project, which is the foundation of clean code. We will see how to use Python's features for organizing our code, and what level of granularity we should consider when separating it.\n",
    "\n",
    "_What we are going to see is what we saw during the essentials, but a professional level. So brace yourselves!_"
   ]
  },
  {
   "cell_type": "markdown",
   "metadata": {},
   "source": [
    "Before moving on, run the following code to download a couple of scripts that will be necessary for the lesson"
   ]
  },
  {
   "cell_type": "code",
   "execution_count": null,
   "metadata": {},
   "outputs": [],
   "source": [
    "!wget \"https://aicore-files.s3.amazonaws.com/Foundations/Software_Engineering/bar.py\" \"https://aicore-files.s3.amazonaws.com/Foundations/Software_Engineering/foo.py\" "
   ]
  },
  {
   "cell_type": "markdown",
   "metadata": {},
   "source": [
    "\n",
    "# Concerns, Scope and Namespaces\n",
    "\n",
    "Before we start talking about classes, we need to define three concepts:\n",
    "\n",
    "__1. Concerns__\n",
    "\n",
    "__2. Scope__\n",
    "\n",
    "__3. Namespace__"
   ]
  },
  {
   "cell_type": "markdown",
   "metadata": {},
   "source": [
    "> ## Concerns\n",
    "> \n",
    "> <font size=+1> In programming, a __concern__ is a unique behaviour presented by your code. </font>\n",
    "\n",
    "> <br> \n",
    "\n",
    "\n",
    "For example, if you are extracting cat images from a website, a concern can be:\n",
    "- Connecting to the webpage\n",
    "- Downloading the image\n",
    "- Checking whether the used URL is legit."
   ]
  },
  {
   "cell_type": "markdown",
   "metadata": {},
   "source": [
    "> ## Scope\n",
    ">\n",
    "> <font size=+1> The scope of an object defines the area of a program in which you can unambiguously access that name </font>\n",
    "\n",
    "><br>"
   ]
  },
  {
   "cell_type": "markdown",
   "metadata": {},
   "source": [
    "You might be already be familiar with this concept, as well as two general scopes, global and local:\n",
    "\n",
    "1. __Global Scope__: The names are available in all your __code__, even inside functions\n",
    "2. __Local Scope__: The names are only available within this scope. For example, variables within a function are not accesible out of the function"
   ]
  },
  {
   "cell_type": "code",
   "execution_count": null,
   "metadata": {},
   "outputs": [],
   "source": [
    "outside_variable = 'I am global!'\n",
    "\n",
    "def awesome_function():\n",
    "    print('The outside variable says: ' + outside_variable)\n",
    "    awesomeness = 9001\n",
    "\n",
    "# When running the function, it will run everything inside\n",
    "# Notice that awesome_function doesn't return anything (Void function)\n",
    "# so it will only print out anything if there is a print statement INSIDE the function\n",
    "awesome_function()\n",
    "\n",
    "print(awesomeness)"
   ]
  },
  {
   "cell_type": "markdown",
   "metadata": {},
   "source": [
    "However one concept for scopes in Software Engineering is LEGB (Local, Enclosing, Global, and Built-in) scopes:\n",
    "\n",
    "- Local scope: This Python scope contains the names that you define inside the function\n",
    "- Enclosing scope: This Python scope only exists for nested functions. If the local scope is an inner or nested function, then the enclosing scope is the scope of the outer or enclosing function\n",
    "- Global scope: This Python scope contains all of the names that you define at the top level of a program or a module\n",
    "- Built-in Scope: This Python scope is created whenever you run a script or open an interactive session. \n",
    "\n",
    "The LEGB rule determines the order in which Python looks for variables. \n"
   ]
  },
  {
   "cell_type": "code",
   "execution_count": null,
   "metadata": {},
   "outputs": [],
   "source": [
    "outside_variable = 'I am global!'\n",
    "\n",
    "def awesome_function():\n",
    "    print('I am in awesome function, the global variable says: ' + outside_variable)\n",
    "    enclosing_variable = 'I am an enclosed variable!'\n",
    "    def incredible_function():\n",
    "        print('I am in incredible function, the global variable says: ' + outside_variable)\n",
    "        print('I am in incredible function, the enclosed variable says: ' + enclosing_variable)\n",
    "        local_variable = 'I am incredible, but since I am local I can\\'t be used outside here :('\n",
    "        return local_variable\n",
    "    incredible_function()\n",
    "    print('I am in awesome function, the global variable says: ' + local_variable)\n",
    "\n",
    "awesome_function()"
   ]
  },
  {
   "cell_type": "markdown",
   "metadata": {},
   "source": [
    "During these examples we have been using `print` in all scopes. That is because `print` is in the Built-in scope, so it can be accessed anywhere. "
   ]
  },
  {
   "cell_type": "markdown",
   "metadata": {},
   "source": [
    "> ## Namespace\n",
    ">\n",
    "> <font size=+1> A namespace is a collection of currently defined symbolic names along with information about the object that each name references </font>\n",
    "\n",
    "> <br>\n",
    "\n",
    "In other words, namespaces are sets of names contained in the scope. They are a honking great idea! (look for [The Zen of Python](https://www.python.org/dev/peps/pep-0020/#id2))\n",
    "\n",
    "The concepts of _Namespaces_ and _Scopes_ are similar, but they are not the same. Python scopes are implemented as dictionaries that map names to objects, and that dictionary is the namespace.\n",
    "\n",
    "Namespaces are useful for:\n",
    "\n",
    "1. Minimizing collisions between identical names in different scripts\n",
    "2. Making educated guesses about where code might live\n",
    "3. Making educated guesses about where new code should be introduced."
   ]
  },
  {
   "cell_type": "markdown",
   "metadata": {},
   "source": [
    "When you open a Python interpreter, the `built-in` scope is populated with the objects built in Python, for example `print()` or `__name__`. The `__name__` attrribute indicates the name of the file we are running, thus, when importing a module, the value `__name__` of that module will be its name. Let's import `foo.py` and see its `__name__`"
   ]
  },
  {
   "cell_type": "code",
   "execution_count": null,
   "metadata": {},
   "outputs": [],
   "source": [
    "import foo\n",
    "import bar\n",
    "foo.__dict__"
   ]
  },
  {
   "cell_type": "code",
   "execution_count": null,
   "metadata": {},
   "outputs": [],
   "source": [
    "import foo\n",
    "foo.__name__"
   ]
  },
  {
   "cell_type": "markdown",
   "metadata": {},
   "source": [
    "Looks obvious right? However, what do you think the value of `__name__` will be in this notebook? `Principles of OOP`?"
   ]
  },
  {
   "cell_type": "code",
   "execution_count": null,
   "metadata": {},
   "outputs": [],
   "source": [
    "print(__name__)"
   ]
  },
  {
   "cell_type": "markdown",
   "metadata": {},
   "source": [
    "The name of the file that opened the interpreter will be `__main__` (Now, the `if __name__ == '__main__'` statement makes sense!)\n"
   ]
  },
  {
   "cell_type": "markdown",
   "metadata": {},
   "source": [
    "## Namespaces and imports"
   ]
  },
  {
   "cell_type": "markdown",
   "metadata": {},
   "source": [
    "\n",
    "When you import a module, Python creates an additional namespace for that module by creating a new dictionary. In this directory we have another module named `foo.py`, so when we import it into our main script, the variables in `foo.py` are present in the `__main__` script, but it will have a 'first name' corresponding to the name of the module"
   ]
  },
  {
   "cell_type": "code",
   "execution_count": null,
   "metadata": {},
   "outputs": [],
   "source": [
    "import foo\n",
    "x = 'I am \"x\" in this notebook'\n",
    "print('Printing x: ' + x)\n",
    "print('Printing foo.x: ' + foo.x)"
   ]
  },
  {
   "cell_type": "markdown",
   "metadata": {},
   "source": [
    "Observe that `foo` is in the global scope, we can call for it within a function:"
   ]
  },
  {
   "cell_type": "code",
   "execution_count": null,
   "metadata": {},
   "outputs": [],
   "source": [
    "def print_foo():\n",
    "    print('I am in the outer function, and foo.x says: ' + foo.x)\n",
    "    def nested_foo():\n",
    "        print('I am in the inner function, and foo.x says: ' + foo.x)\n",
    "    nested_foo()\n",
    "\n",
    "print_foo()\n"
   ]
  },
  {
   "cell_type": "markdown",
   "metadata": {},
   "source": [
    "The following image shows the levels of scope, and how the namespace can be accessed from each level:\n",
    "<p align=center><img src=images/namespaces.png width=600></p>\n"
   ]
  },
  {
   "cell_type": "markdown",
   "metadata": {},
   "source": [
    "Something important in Python is that, if the namespace already contains a module, the import statement will not work again. So for example if we import `foo`, then we make changes to `foo`, importing `foo` again won't reflect those changes, because Python will already have a `foo` module in its namespace"
   ]
  },
  {
   "cell_type": "code",
   "execution_count": null,
   "metadata": {},
   "outputs": [],
   "source": [
    "import foo\n",
    "print(foo.x)"
   ]
  },
  {
   "cell_type": "markdown",
   "metadata": {},
   "source": [
    "We can see that `foo.x` is the same as in `foo.py`. Now, we change the value in the main namespace"
   ]
  },
  {
   "cell_type": "code",
   "execution_count": null,
   "metadata": {},
   "outputs": [],
   "source": [
    "foo.x = 'I changed...'\n",
    "print(foo.x)"
   ]
  },
  {
   "cell_type": "markdown",
   "metadata": {},
   "source": [
    "If we try to re-import `foo`, Python will check in its namespace, and it will see that there it already imported a module named `foo`, so it won't do anything."
   ]
  },
  {
   "cell_type": "code",
   "execution_count": null,
   "metadata": {},
   "outputs": [],
   "source": [
    "import foo\n",
    "print(foo.x)"
   ]
  },
  {
   "cell_type": "markdown",
   "metadata": {},
   "source": [
    "One final note about namespaces and scopes. Python has many libraries, and some methods will have unavoidably the same name. For example, the `time` method appears in the `time` module and in the `datetime` module"
   ]
  },
  {
   "cell_type": "code",
   "execution_count": null,
   "metadata": {},
   "outputs": [],
   "source": [
    "from time import time\n",
    "from datetime import time\n",
    "\n",
    "print(time())"
   ]
  },
  {
   "cell_type": "markdown",
   "metadata": {},
   "source": [
    "Which one are we using? In this case, take into account that we are not importing the module, but only the methods. Python will overwrite previous names in the namespace, so it only takes the last import statement. If we want to store both methods, we have to alternatives:\n",
    "\n",
    "1. Simply importing the module, and add the name of the modules to the namespace\n",
    "2. Give an alias to the methods"
   ]
  },
  {
   "cell_type": "code",
   "execution_count": null,
   "metadata": {},
   "outputs": [],
   "source": [
    "import datetime\n",
    "import time\n",
    "\n",
    "print(datetime.time())\n",
    "print(time.time())"
   ]
  },
  {
   "cell_type": "code",
   "execution_count": null,
   "metadata": {},
   "outputs": [],
   "source": [
    "from datetime import time as dttime\n",
    "from time import time as ttime\n",
    "\n",
    "print(dttime())\n",
    "print(ttime())"
   ]
  },
  {
   "cell_type": "markdown",
   "metadata": {},
   "source": [
    "### Quick Question!"
   ]
  },
  {
   "cell_type": "markdown",
   "metadata": {},
   "source": [
    "What's the output of the following code? Try to guess it before running it!"
   ]
  },
  {
   "cell_type": "code",
   "execution_count": null,
   "metadata": {},
   "outputs": [],
   "source": [
    "import foo\n",
    "\n",
    "x = 50\n",
    "def foo(x):\n",
    "    print(x)\n",
    "    x = 100\n",
    "    print(x)\n",
    "    return x\n",
    "\n",
    "print(foo(x))\n",
    "print(foo.x)"
   ]
  },
  {
   "cell_type": "markdown",
   "metadata": {},
   "source": [
    "Now, restart the kernel, and try to guess the output of the following code"
   ]
  },
  {
   "cell_type": "code",
   "execution_count": null,
   "metadata": {},
   "outputs": [],
   "source": [
    "import foo\n",
    "import bar\n",
    "\n",
    "print(foo.x)\n",
    "print(bar.x)\n",
    "print(foo(x))"
   ]
  },
  {
   "cell_type": "markdown",
   "metadata": {},
   "source": [
    "# Separation Rules in Python"
   ]
  },
  {
   "cell_type": "markdown",
   "metadata": {},
   "source": [
    "> ## Do one thing and do it well"
   ]
  },
  {
   "cell_type": "markdown",
   "metadata": {},
   "source": [
    "This is the Unix philosophy for separting concerns. Each part of your code should be CONCERNed with one behaviour, and each CONCERN should be covered by only one piece of code.\n",
    "\n",
    "We are going to review two tools that we already know to apply this principle: Functions and Classes.\n"
   ]
  },
  {
   "cell_type": "markdown",
   "metadata": {},
   "source": [
    "\n",
    "## Functions for separating concerns\n"
   ]
  },
  {
   "cell_type": "markdown",
   "metadata": {},
   "source": [
    "\n",
    "1. __Don't create two pieces of code that do something similar__. For example, the concern of one part is used for extracting images of cats, and the concern of other piece is used for extracting images of dogs. Instead, create a function that accepts an argument. \n",
    "\n",
    "Don't do this: (This code should work unless they changed the XPath, but the idea is to download dog images)\n"
   ]
  },
  {
   "cell_type": "code",
   "execution_count": null,
   "metadata": {},
   "outputs": [],
   "source": [
    "from selenium import webdriver\n",
    "import urllib.request\n",
    "import time\n",
    "\n",
    "driver = webdriver.Chrome()\n",
    "# Get links for dogs\n",
    "URL = 'https://unsplash.com/s/photos/dog'\n",
    "driver.get(URL)\n",
    "dog_list = driver.find_elements_by_xpath('//figure[@itemprop=\"image\"]')\n",
    "links = []\n",
    "for dog in dog_list:\n",
    "    links.append(dog.find_element_by_xpath('.//a').get_attribute('href'))\n",
    "# go to the link containing the image\n",
    "for i, link in enumerate(links):\n",
    "    driver.get(link)\n",
    "    time.sleep(0.5)\n",
    "    src = driver.find_element_by_xpath('//img[@class=\"oCCRx\"]').get_attribute('src')\n",
    "    urllib.request.urlretrieve(src, f\"dog_{i}.jpg\")\n",
    "    \n",
    "# Get links for cats\n",
    "URL = 'https://unsplash.com/s/photos/cat'\n",
    "driver.get(URL)\n",
    "cat_list = driver.find_elements_by_xpath('//figure[@itemprop=\"image\"]')\n",
    "links = []\n",
    "for cat in cat_list:\n",
    "    links.append(cat.find_element_by_xpath('.//a').get_attribute('href'))\n",
    "# go to the link containing the image\n",
    "for i, link in enumerate(links):\n",
    "    driver.get(link)\n",
    "    time.sleep(0.5)\n",
    "    src = driver.find_element_by_xpath('//img[@class=\"oCCRx\"]').get_attribute('src')\n",
    "    urllib.request.urlretrieve(src, f\"cat_{i}.jpg\")"
   ]
  },
  {
   "cell_type": "markdown",
   "metadata": {},
   "source": [
    "Instead, do this:"
   ]
  },
  {
   "cell_type": "code",
   "execution_count": null,
   "metadata": {},
   "outputs": [],
   "source": [
    "from selenium import webdriver\n",
    "\n",
    "def get_animal_pictures(driver: webdriver, animal: str, root: str) -> None:\n",
    "    URL = root + animal\n",
    "    driver.get(URL)\n",
    "    animal_list = driver.find_elements_by_xpath('//figure[@itemprop=\"image\"]')\n",
    "    links = []\n",
    "    for item in animal_list:\n",
    "        links.append(item.find_element_by_xpath('.//a').get_attribute('href'))\n",
    "    # go to the link containing the image\n",
    "    for i, link in enumerate(links):\n",
    "        driver.get(link)\n",
    "        time.sleep(0.5)\n",
    "        src = driver.find_element_by_xpath('//img[@class=\"oCCRx\"]').get_attribute('src')\n",
    "        urllib.request.urlretrieve(src, f\"{animal}_{i}.jpg\") # <- We are also using the variable animal here!\n",
    "\n",
    "driver = webdriver.Chrome()\n",
    "root = 'https://unsplash.com/s/photos/'\n",
    "animal = 'cat'\n",
    "get_animal_pictures(driver, animal, root)"
   ]
  },
  {
   "cell_type": "markdown",
   "metadata": {},
   "source": [
    "\n",
    "2. __Don't have the same piece of code with two concerns__. For example, a piece of code go to the webpage to extract the links AND iterate through the links AND download the images. Instead create a function for each concern.\n",
    "\n",
    "Thus, instead of the code above, do this:"
   ]
  },
  {
   "cell_type": "code",
   "execution_count": null,
   "metadata": {},
   "outputs": [],
   "source": [
    "from selenium import webdriver\n",
    "\n",
    "def extract_links(driver: webdriver, animal: str, root: str) -> list:\n",
    "    URL = root + animal\n",
    "    driver.get(URL)\n",
    "    animal_list = driver.find_elements_by_xpath('//figure[@itemprop=\"image\"]')\n",
    "    links = []\n",
    "    for item in animal_list:\n",
    "        links.append(item.find_element_by_xpath('.//a').get_attribute('href'))\n",
    "    return links\n",
    "\n",
    "def get_image_source(driver: webdriver, link: str) -> str:\n",
    "    driver.get(link)\n",
    "    time.sleep(0.5)\n",
    "    src = driver.find_element_by_xpath('//img[@class=\"oCCRx\"]').get_attribute('src')\n",
    "    return src\n",
    "\n",
    "def download_images(src: str, animal: str, i: int) -> None:\n",
    "    urllib.request.urlretrieve(src, f\"{animal}_{i}.jpg\")\n",
    "\n",
    "\n",
    "animal = 'cat'\n",
    "root = 'https://unsplash.com/s/photos/'\n",
    "driver = webdriver.Chrome()\n",
    "links = extract_links(driver, animal, root)\n",
    "for i, link in enumerate(links):\n",
    "    src = get_image_source(driver, link)\n",
    "    download_images(src, animal, i)"
   ]
  },
  {
   "cell_type": "markdown",
   "metadata": {},
   "source": [
    "This looks like an overkill, but it's not (trust me, I would do it much more granulated). Separating each concern into functions looks like you are writing more code, but this way of separating everything will pay off. When you are adding features, debugging, or testing your code, you will see which part is causing the issue, because you are __detaching__ events.\n",
    "\n",
    ">  ## The higher the granularity, the easier the debugging"
   ]
  },
  {
   "cell_type": "markdown",
   "metadata": {},
   "source": [
    "For example, doing it this way allows you to easily change the animal (flexibility), you will be able to separate scopes and namespaces (robustness), and (something extremely important) increase readability. \n",
    "\n",
    "Now it looks like everything is too much because it is cramped into a single cell, but usually in your main code you will have the following:"
   ]
  },
  {
   "cell_type": "code",
   "execution_count": null,
   "metadata": {},
   "outputs": [],
   "source": [
    "animal = 'cat'\n",
    "root = 'https://unsplash.com/s/photos/'\n",
    "driver = webdriver.Chrome()\n",
    "links = extract_links(driver, animal, root)\n",
    "for i, link in enumerate(links):\n",
    "    src = get_image_source(driver, link)\n",
    "    download_images(src, animal, i)"
   ]
  },
  {
   "cell_type": "markdown",
   "metadata": {},
   "source": [
    "Before we move on, one word on function names:\n",
    "\n",
    "1. __Be concise__. Name your function with a descriptive name. get_info(), do_this() are not very informative. But don't go to the other end of the spectrum! get_information_about_the_weather_by_scraping_multiple_pages() is just too much!\n",
    "2. __Functions are actions__: Don't name your function with a name or subject, functions are actions, and as such, they should contain a verb: image_scraper(), rock_paper_scissor(), music_player()... these functions gives information, but they are not very specific. Is the image_scraper getting something? Maybe it just look for the links... \n",
    "3. __Use the name convention__: You can use any sort of writing, but try to stick to the convention. If someone sees GetImage(), they will assume it is a class. Function should have snake_case style."
   ]
  },
  {
   "cell_type": "markdown",
   "metadata": {},
   "source": [
    "## Classes for connecting concerns"
   ]
  },
  {
   "cell_type": "markdown",
   "metadata": {},
   "source": [
    "As you keep adding code to your project, more and more concerns will be added. Over time, you will see that functions will work in tandem frequently. If you pass the result of one function to another very frequently, or several functions require the same input, then, everything points that you need to define a class. \n",
    "\n",
    "We can simply put the functions into a class (but it won't be very efficient)"
   ]
  },
  {
   "cell_type": "code",
   "execution_count": null,
   "metadata": {},
   "outputs": [],
   "source": [
    "from selenium import webdriver\n",
    "\n",
    "# Let's define our class\n",
    "class AnimalScraper:\n",
    "    def extract_links(driver: webdriver, animal: str, root: str) -> list:\n",
    "        URL = root + animal\n",
    "        driver.get(URL)\n",
    "        animal_list = driver.find_elements_by_xpath('//figure[@itemprop=\"image\"]')\n",
    "        links = []\n",
    "        for item in animal_list:\n",
    "            links.append(item.find_element_by_xpath('.//a').get_attribute('href'))\n",
    "        return links\n",
    "\n",
    "    def get_image_source(driver: webdriver, link: str) -> str:\n",
    "        driver.get(link)\n",
    "        time.sleep(0.5)\n",
    "        src = driver.find_element_by_xpath('//img[@class=\"_2UpQX\"]').get_attribute('src')\n",
    "        return src\n",
    "\n",
    "    def download_images(src: str, animal: str, i: int) -> None:\n",
    "        urllib.request.urlretrieve(src, f\"{animal}_{i}.jpg\")"
   ]
  },
  {
   "cell_type": "code",
   "execution_count": null,
   "metadata": {},
   "outputs": [],
   "source": [
    "scraper = AnimalScraper()\n",
    "root = 'https://unsplash.com/s/photos/'\n",
    "driver = webdriver.Chrome()\n",
    "animal = 'cat'\n",
    "links = scraper.extract_links(driver=driver, animal=animal, root='https://unsplash.com/s/photos/')\n",
    "for i, link in enumerate(links):\n",
    "    src = scraper.get_image_source(driver=driver, link=link)\n",
    "    scraper.download_images(src=src, animal=animal, i=i)"
   ]
  },
  {
   "cell_type": "markdown",
   "metadata": {},
   "source": [
    "This seems quite useless... That's because we are not making the most out of classes. In the cell above, look at the variables for each method, they are repeated and/or depend on other method to be run. Instances created from classes can store values in its attributes. When we construct the class, we use the `__init__` method, and we give values to `self`"
   ]
  },
  {
   "cell_type": "code",
   "execution_count": null,
   "metadata": {},
   "outputs": [],
   "source": [
    "from selenium import webdriver\n",
    "import time\n",
    "# Let's define our class\n",
    "class AnimalScraper:\n",
    "    def __init__(self, animal, homepage):\n",
    "        self.animal = animal\n",
    "        self.homepage = homepage\n",
    "        self.driver = webdriver.Chrome()\n",
    "        #self.links = [] # Initialize links, so if the user calls for get_image_source, it doesn't throw an error\n",
    "    \n",
    "    def extract_links(self) -> None:\n",
    "        self.driver.get(self.homepage + self.animal)\n",
    "        animal_list = self.driver.find_elements_by_xpath('//figure[@itemprop=\"image\"]')\n",
    "        self.links = []\n",
    "        for item in animal_list:\n",
    "            self.links.append(item.find_element_by_xpath('.//a').get_attribute('href'))\n",
    "        return self.links\n",
    "\n",
    "    def get_image_source(self, link: str) -> None:\n",
    "        self.driver.get(link)\n",
    "        time.sleep(0.5)\n",
    "        self.src = self.driver.find_element_by_xpath('//img[@class=\"oCCRx\"]').get_attribute('src')\n",
    "\n",
    "    def download_images(self, i) -> None:\n",
    "        urllib.request.urlretrieve(self.src, f\"./animals/{self.animal}_{i}.jpg\")\n",
    "    \n",
    "    def get_animal_images(self):\n",
    "        all_links = self.extract_links()\n",
    "        for i, link in enumerate(all_links):\n",
    "            self.get_image_source(link)\n",
    "            self.download_images(i)\n",
    "        self.links = []"
   ]
  },
  {
   "cell_type": "markdown",
   "metadata": {},
   "source": [
    "Now, the your main code will look like this:"
   ]
  },
  {
   "cell_type": "code",
   "execution_count": null,
   "metadata": {},
   "outputs": [],
   "source": [
    "cat_scraper = AnimalScraper('cat', 'https://unsplash.com/s/photos/')\n",
    "cat_scraper.get_animal_images()"
   ]
  },
  {
   "cell_type": "markdown",
   "metadata": {},
   "source": [
    "Much more cleaner, and as an added bonus, the user can't easily access some variables we don't want him to see (for example, extract_links doesn't return anything)"
   ]
  },
  {
   "cell_type": "markdown",
   "metadata": {},
   "source": [
    "> ## Defining classes and refactoring your code is an art, and as such, it requires time and consistency to master"
   ]
  },
  {
   "cell_type": "markdown",
   "metadata": {},
   "source": [
    "# Summary"
   ]
  },
  {
   "cell_type": "markdown",
   "metadata": {},
   "source": [
    "- Separating concerns is crucial for understable code. Before separating your code and refactoring it, look at the big picture, and observe what is the main concern of your code. Then go deeper and separate everything into smaller concerns.\n",
    "- Functions contain individual concerns that can separate your code into chunks that make your code more understandable. Another benefit of using functions are their reusability\n",
    "- Classes bundle concerns that share inputs and outputs. They can store attributes that will be characteristic of a single instance, and changing the behaviour of the class by passing different arguments. Use them wisely!"
   ]
  },
  {
   "cell_type": "markdown",
   "metadata": {},
   "source": [
    "# Practical"
   ]
  },
  {
   "cell_type": "markdown",
   "metadata": {},
   "source": [
    "\n",
    "## Q1. Your task is to create a single class with ALL the functionalities of the following code"
   ]
  },
  {
   "cell_type": "code",
   "execution_count": null,
   "metadata": {},
   "outputs": [],
   "source": [
    "import random\n",
    "\n",
    "# Print the options:\n",
    "options = ['rock', 'paper', 'scissors']\n",
    "print('(1) Rock\\n(2) Paper\\n(3) Scissors')\n",
    "# Let the user choose\n",
    "human_choice = options[int(input('Enter the number of your choice: ')) - 1]\n",
    "# Print the user's choice\n",
    "print(f'You chose {human_choice}')\n",
    "# Make the computer choose one option amongst the options list\n",
    "computer_choice = random.choice(options)\n",
    "# print the computer's choice\n",
    "print(f'The computer chose {computer_choice}')\n",
    "# Print the results\n",
    "if human_choice == 'rock':\n",
    "    if computer_choice == 'paper':\n",
    "        print('Sorry, paper beat rock')\n",
    "    elif computer_choice == 'scissors':\n",
    "        print('Yes, rock beat scissors!')\n",
    "    else:\n",
    "        print('Draw!')\n",
    "elif human_choice == 'paper':\n",
    "    if computer_choice == 'scissors':\n",
    "        print('Sorry, scissors beat paper')\n",
    "    elif computer_choice == 'rock':\n",
    "        print('Yes, paper beat rock!')\n",
    "    else:\n",
    "        print('Draw!')\n",
    "elif human_choice == 'scissors':\n",
    "    if computer_choice == 'rock':\n",
    "        print('Sorry, rock beat scissors')\n",
    "    elif computer_choice == 'paper':\n",
    "        print('Yes, scissors beat paper!')\n",
    "    else:\n",
    "        print('Draw!')"
   ]
  },
  {
   "cell_type": "markdown",
   "metadata": {},
   "source": [
    "### Q1.a  First, create the following functions:\n",
    "1. get_computer_choice(). Randomly pick an option\n",
    "2. get_human_choice(). Ask the user for an input\n",
    "3. print_options(). For this one, try to make it more flexible, so options can take more values eventually\n",
    "4. print_choices(human_choice, computer_choice). Print two lines, where each one corresponds to the choice of each player\n",
    "5. print_result(human_choice, computer_choice). Use the print_win_lose function to print who won according to the rules of the game"
   ]
  },
  {
   "cell_type": "code",
   "execution_count": null,
   "metadata": {},
   "outputs": [],
   "source": [
    "def print_win_lose(human_choice, computer_choice, human_beats, human_loses_to):\n",
    "    if computer_choice == human_loses_to:\n",
    "        print(f'Sorry, {computer_choice} beats {human_choice}')\n",
    "    elif computer_choice == human_beats:\n",
    "        print(f'Yes, {human_choice} beats {computer_choice}!')"
   ]
  },
  {
   "cell_type": "code",
   "execution_count": null,
   "metadata": {},
   "outputs": [],
   "source": [
    "### Create the functions here"
   ]
  },
  {
   "cell_type": "markdown",
   "metadata": {},
   "source": [
    "Once you create the functions, run the following code"
   ]
  },
  {
   "cell_type": "code",
   "execution_count": null,
   "metadata": {},
   "outputs": [],
   "source": [
    "import random\n",
    "\n",
    "OPTIONS = ['rock', 'paper', 'scissors']\n",
    "\n",
    "print_options()\n",
    "human_choice = get_human_choice()\n",
    "computer_choice = get_computer_choice()\n",
    "print_choices(human_choice, computer_choice)\n",
    "print_result(human_choice, computer_choice)"
   ]
  },
  {
   "cell_type": "markdown",
   "metadata": {},
   "source": [
    "### Q1.b Move the function into a class as methods"
   ]
  },
  {
   "cell_type": "code",
   "execution_count": null,
   "metadata": {},
   "outputs": [],
   "source": [
    "import random\n",
    "\n",
    "class JanKenPon:\n",
    "    options = ['rock', 'paper', 'scissors']\n",
    "    def __init__(self):\n",
    "        self.computer_choice = None\n",
    "        self.human_choice = None\n",
    "    \n",
    "    def get_computer_choice(self):\n",
    "        self.computer_choice = random.choice(self.options)\n",
    "    \n",
    "    def get_human_choice(self):\n",
    "        ### Your code here###\n",
    "        pass\n",
    "\n",
    "    def print_options(self):\n",
    "        ### Your code here###\n",
    "        pass\n",
    "\n",
    "    def print_choices(self): \n",
    "        ### Your code here###\n",
    "        pass\n",
    "\n",
    "    def print_win_lose(self, human_beats, human_loses_to):\n",
    "        ### Your code here###\n",
    "        pass\n",
    "\n",
    "    def print_result(self):\n",
    "        ### Your code here###\n",
    "        pass\n",
    "\n",
    "    def simulate(self):\n",
    "        self.print_options()\n",
    "        self.get_human_choice()\n",
    "        self.get_computer_choice()\n",
    "        self.print_choices()\n",
    "        self.print_result()\n",
    "\n",
    "game = JanKenPon()\n",
    "game.simulate()\n"
   ]
  },
  {
   "cell_type": "markdown",
   "metadata": {},
   "source": [
    "## Q2 Bonus\n",
    "\n",
    "Can you implement a class that takes more than 3 options? For example `[rock, paper, scissors, lizard, spock]`"
   ]
  },
  {
   "cell_type": "markdown",
   "metadata": {},
   "source": [
    "# Assessments"
   ]
  },
  {
   "cell_type": "markdown",
   "metadata": {},
   "source": [
    "### 1. Look information about the module builtins. Do you see something familiar in its methods and attributes?\n"
   ]
  },
  {
   "cell_type": "markdown",
   "metadata": {},
   "source": [
    "### 2. There are two keywords for defining the scope of a variable within a function: `global` and `nonlocal`. Look for information about them, what is their difference?"
   ]
  },
  {
   "cell_type": "markdown",
   "metadata": {},
   "source": [
    "### 3. Decorators have an inner function, which is usually named wrapper. When you pass a function to the decorator function, the nested wrapper will get access to that function. How do you send arguments so that the wrapper can also accept external arguments?"
   ]
  },
  {
   "cell_type": "code",
   "execution_count": null,
   "metadata": {},
   "outputs": [],
   "source": [
    "def my_decorator(func):\n",
    "    def wrapper(): # <- What do you write inside?\n",
    "        func() # <- so that this function can run with external arguments?\n",
    "    return wrapper"
   ]
  },
  {
   "cell_type": "markdown",
   "metadata": {},
   "source": [
    "### 3.1 Can my_decorator access to the arguments you pass to wrapper?"
   ]
  }
 ],
 "metadata": {
  "interpreter": {
   "hash": "14fed20d815d8426698b9e4db4c2894958f6485d6746a1ea976e58ce3ec76c9f"
  },
  "kernelspec": {
   "display_name": "Python 3.9.6 64-bit ('AiCoreTeach': conda)",
   "name": "python3"
  },
  "language_info": {
   "codemirror_mode": {
    "name": "ipython",
    "version": 3
   },
   "file_extension": ".py",
   "mimetype": "text/x-python",
   "name": "python",
   "nbconvert_exporter": "python",
   "pygments_lexer": "ipython3",
   "version": "3.9.6"
  },
  "orig_nbformat": 4
 },
 "nbformat": 4,
 "nbformat_minor": 2
}
