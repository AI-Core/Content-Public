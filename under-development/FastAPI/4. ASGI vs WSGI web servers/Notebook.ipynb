{
 "cells": [
  {
   "cell_type": "markdown",
   "metadata": {},
   "source": [
    "# Efficient FastAPI"
   ]
  },
  {
   "cell_type": "markdown",
   "metadata": {},
   "source": [
    "## Introduction\n",
    "FastAPI embraces many of the latest Python features and external libraries. Thus, writing APIs is relatively easy and less error-prone. These features include\n",
    "1. Type hints\n",
    "2. Async/await\n",
    "3. ASGI servers\n",
    "4. Pydantic classes"
   ]
  },
  {
   "cell_type": "markdown",
   "metadata": {},
   "source": [
    "We recommended that you refresh your knowledge of Python type hinting and Pydantic classes before proceeding with this lesson.\n",
    "\n",
    "FastAPI employs type hinting to transform query parameters into the specified data type provided as a hint."
   ]
  },
  {
   "cell_type": "markdown",
   "metadata": {},
   "source": [
    "## Async/Await: Asynchronous IO "
   ]
  },
  {
   "cell_type": "markdown",
   "metadata": {},
   "source": [
    "Async IO is a concurrent programming design that allows us to run multiple tasks that overlap. It should not be confused with multi-threading, since async IO is a single-threaded, single-process programming design. In this case, the term, asynchronous, refers to the ability to pause the execution of a task, awaiting a trigger, while other tasks run.\n",
    "\n",
    "To understand better, see the following `synchronous` example:"
   ]
  },
  {
   "cell_type": "code",
   "execution_count": 10,
   "metadata": {},
   "outputs": [],
   "source": [
    "import time\n",
    "\n",
    "def count(x):\n",
    "    print(x + 1)\n",
    "    time.sleep(1)\n",
    "\n",
    "def main():\n",
    "    for i in range(3):\n",
    "        count(i)\n",
    "\n",
    "s = time.perf_counter()\n",
    "main()\n",
    "elapsed = time.perf_counter() - s\n",
    "print(f\"Executed in {elapsed:0.2f} seconds.\")"
   ]
  },
  {
   "cell_type": "markdown",
   "metadata": {},
   "source": [
    "The code above simply prints from 1 to 3, with a 1-s pause between numbers. Now, observe the following `asynchronous` example:"
   ]
  },
  {
   "cell_type": "code",
   "execution_count": 17,
   "metadata": {},
   "outputs": [
    {
     "name": "stdout",
     "output_type": "stream",
     "text": [
      "1\n",
      "2\n",
      "3\n",
      "Executed in 1.00 seconds.\n"
     ]
    }
   ],
   "source": [
    "%%python\n",
    "import asyncio\n",
    "import time\n",
    "\n",
    "async def count(x):\n",
    "    print(x)\n",
    "    await asyncio.sleep(1)\n",
    "\n",
    "async def main():\n",
    "    await asyncio.gather(count(1), count(2), count(3))\n",
    "\n",
    "\n",
    "s = time.perf_counter()\n",
    "asyncio.run(main())\n",
    "elapsed = time.perf_counter() - s\n",
    "print(f\"Executed in {elapsed:0.2f} seconds.\")"
   ]
  },
  {
   "cell_type": "markdown",
   "metadata": {},
   "source": [
    "Observe the difference between the times. In the asynchronous example, there is no pause between 1, 2 and 3. The async count function is asynchronous, indicating that it can pause execution right before the `await` statement. Moreover, note that the asynchronous method is considerably faster than its synchronous counterpart. This is because there is no `dead time` in between all the concurrent calls.\n",
    "\n",
    "Conversely, asyncio.gather creates three concurrent tasks (count(1), count(2) and count(3)). Although these tasks do not run simultaneously, they can overlap.\n",
    "\n",
    "Below, we present a rough demonstration of the above example:\n",
    "```\n",
    "        import asyncio\n",
    "        import time\n",
    "\n",
    "        async def count(x):\n",
    "            print(x)\n",
    "(3, 5, 7)   await asyncio.sleep(1)\n",
    "\n",
    "        async def main():\n",
    "(2, 4, 6)   await asyncio.gather(count(1), count(2), count(3))\n",
    "\n",
    "\n",
    "        s = time.perf_counter()\n",
    "(1)     asyncio.run(main())                                     \n",
    "        elapsed = time.perf_counter() - s\n",
    "        print(f\"Executed in {elapsed:0.2f} seconds.\")\n",
    "```\n",
    "\n",
    "1. Run `main()`\n",
    "2. Run `count(1)`\n",
    "3. Print 1, and reach `await asyncio.sleep(1)`. Tells async to execute the next concurrent task, while this one pauses.\n",
    "4. Run `count(2)`\n",
    "5. Print 2, and reach `await asyncio.sleep(1)`. Tells async to execute the next concurrent task, while this one pauses.\n",
    "6. Run `count(3)`\n",
    "7. Print 3, and reach `await asyncio.sleep(1)`. Since there are no more concurrent jobs, the execution continues.\n",
    "\n"
   ]
  },
  {
   "cell_type": "markdown",
   "metadata": {},
   "source": [
    "Similarly, most times, we wait when we scrape data from a website. This waiting period is, most times, for a single response, after which the next sample is extracted. You can exploit async and await using the `httpx` library. Visit the `examples` folder, where there are two examples: one asynchronous solution and its synchronous counterpart. You can experiment on them to determine their differences. "
   ]
  },
  {
   "cell_type": "markdown",
   "metadata": {},
   "source": [
    "> Asynchronous IO provides a considerably efficient solution for running processes by running concurrent subprocesses."
   ]
  },
  {
   "cell_type": "markdown",
   "metadata": {},
   "source": [
    "### ASGI Servers"
   ]
  },
  {
   "cell_type": "markdown",
   "metadata": {},
   "source": [
    "Traditional web frameworks run sequentially. A request is sent, the server processes the request, and the response is returned. If we establish a set of rules for the communication between the user and the server, we will, summarily, obtain a __Web Server Gateway Interface__ (WSGI).\n",
    "\n",
    "Currently, [Gunicorn](https://gunicorn.org/) is the most used HTTP WSGI for Python, and it works very well with different Python frameworks, including Flask and Django, when deploying apps for production.\n",
    "\n",
    "However, it is possible to work asynchronously, send multiple requests simultaneously, and subsequently process each of them. A server that works asynchronously is referred to as an __Asynchronous Server Gateway Interface__ (ASGI), which leverages `async` and `await`.\n",
    "\n",
    "Currently, [Uvicorn](https://www.uvicorn.org/) is one of the main servers that support ASGI. To explore the different frameworks that can work in an ASGI server, check out the information [here](https://github.com/florimondmanca/awesome-asgi).\n",
    "\n",
    "<p align=center><img src=images/ASGI.png width=500></p>\n",
    "\n"
   ]
  },
  {
   "cell_type": "markdown",
   "metadata": {},
   "source": [
    "## Routing with FastAPI"
   ]
  },
  {
   "cell_type": "markdown",
   "metadata": {},
   "source": [
    "Conventionally, when working on a project, the code is partitioned into smaller scripts to ensure organisation. In FastAPI, this can be achieved using Routers. As an example, consider a case where you add two GET responses to your API: one for a regular DOB request and another for supplying an icon to the tab on which you are working:"
   ]
  },
  {
   "cell_type": "code",
   "execution_count": null,
   "metadata": {},
   "outputs": [],
   "source": [
    "%%python\n",
    "import fastapi\n",
    "import uvicorn\n",
    "\n",
    "api = fastapi.FastAPI()\n",
    "\n",
    "@api.get('/')\n",
    "def index():\n",
    "    return 'Welcome to the celebrity DOB API!'\n",
    "\n",
    "@api.get('/api/dob')\n",
    "def dob():\n",
    "    return 'Some random DOB'\n",
    "    \n",
    "if __name__ == '__main__':\n",
    "    uvicorn.run(api, port=8008, host='127.0.0.1')"
   ]
  },
  {
   "cell_type": "markdown",
   "metadata": {},
   "source": [
    "To view the output, visit `http://127.0.0.1:8008/api/dob`.\n",
    "<p align=center><img src=images/Routing_1.png width=300></p>"
   ]
  },
  {
   "cell_type": "markdown",
   "metadata": {},
   "source": [
    "One approach for separating these functions would be having one script for the home page and another for additional pages (`/api/dob`):\n",
    "\n",
    "```\n",
    "root/\n",
    "│\n",
    "├── home.py\n",
    "├── api\n",
    "│   └── dob_api.py\n",
    "└── main.py\n",
    "```"
   ]
  },
  {
   "cell_type": "code",
   "execution_count": null,
   "metadata": {},
   "outputs": [],
   "source": [
    "# views/home.py\n",
    "\n",
    "import fastapi\n",
    "\n",
    "router = fastapi.APIRouter()\n",
    "\n",
    "\n",
    "@router.get('/')\n",
    "def index():\n",
    "    return 'Welcome to the celebrity DOB API!'\n"
   ]
  },
  {
   "cell_type": "code",
   "execution_count": null,
   "metadata": {},
   "outputs": [],
   "source": [
    "# api/dob_api.py\n",
    "\n",
    "import fastapi\n",
    "\n",
    "router = fastapi.APIRouter()\n",
    "\n",
    "@router.get('/api/dob')\n",
    "def dob():\n",
    "    return 'Some random DOB'"
   ]
  },
  {
   "cell_type": "code",
   "execution_count": null,
   "metadata": {},
   "outputs": [],
   "source": [
    "# main.py\n",
    "import fastapi\n",
    "import uvicorn\n",
    "import home\n",
    "\n",
    "from api import dob_api\n",
    "\n",
    "api = fastapi.FastAPI()\n",
    "\n",
    "\n",
    "def configure_routing():\n",
    "    api.include_router(home.router)\n",
    "    api.include_router(dob_api.router)\n",
    "\n",
    "\n",
    "if __name__ == '__main__':\n",
    "    configure_routing()\n",
    "    uvicorn.run(api, port=8000, host='127.0.0.1')\n"
   ]
  },
  {
   "cell_type": "markdown",
   "metadata": {},
   "source": [
    "Observe that in `home.py` and `api/dob_api.py`, we included `router = fastapi.APIRouter()`. As a result, all the files have a common node to search for all requests."
   ]
  },
  {
   "cell_type": "markdown",
   "metadata": {},
   "source": [
    "## Exercise\n",
    "\n",
    "1. Create a directory named views.\n",
    "2. Add a file named home.py in said directory.\n",
    "3. Add the code above.\n",
    "4. Create a directory named api.\n",
    "5. Add a file named dob_api.py in said directory.\n",
    "6. Add the code above to dob_api.py.\n",
    "7. Create a file named main.py, and add the code above.\n",
    "8. Run the code, and ensure that everything works.\n",
    "9. Tweak dob_api so that `/api/dob` can accept two query parameters: first name and last name."
   ]
  },
  {
   "cell_type": "markdown",
   "metadata": {},
   "source": [
    "## Introducing the Pydantic Model"
   ]
  },
  {
   "cell_type": "markdown",
   "metadata": {},
   "source": [
    "APIs accept request parameters, and the Pydantic model is responsible for casting these parameters to the correct type. In the above exercise, your built API should accept the first name and last name as parameters. \n",
    "\n",
    "Pydantic allows you to create a class where each attribute can be cast to a specified data type."
   ]
  },
  {
   "cell_type": "code",
   "execution_count": 4,
   "metadata": {},
   "outputs": [],
   "source": [
    "from pydantic import BaseModel\n",
    "from typing import Optional\n",
    "\n",
    "class Celebrity(BaseModel):\n",
    "    '''\n",
    "    This class gives some information about a celebrity. It is intended to be \n",
    "    used with the FastAPI example.\n",
    "\n",
    "    Attributes\n",
    "    ----------\n",
    "    first_name: str\n",
    "        The first name of the celebrity\n",
    "    last_name: str\n",
    "        The last name of the celebrity\n",
    "    city: bool\n",
    "        If True, the API will also return the city where the celebrity was born.\n",
    "    '''\n",
    "    first_name: str\n",
    "    last_name: str\n",
    "    city: bool = False\n",
    "\n",
    "uma_thurman = Celebrity(first_name='Uma', last_name='Thurman')    "
   ]
  },
  {
   "cell_type": "markdown",
   "metadata": {},
   "source": [
    "Now, we create another directory to store our models:\n",
    "\n",
    "```\n",
    "root/\n",
    "│\n",
    "├── home.py\n",
    "├── api\n",
    "│   └── dob_api.py\n",
    "├── models\n",
    "│   └── celebrities.py\n",
    "└── main.py\n",
    "```\n",
    "\n",
    "Thereafter, this Pydantic model can be employed in our FastAPI, as shown below:"
   ]
  },
  {
   "cell_type": "code",
   "execution_count": null,
   "metadata": {},
   "outputs": [],
   "source": [
    "# models/celebrities.py\n",
    "\n",
    "from pydantic import BaseModel\n",
    "from typing import Optional\n",
    "\n",
    "class Celebrity(BaseModel):\n",
    "    '''\n",
    "    This class gives some information about a celebrity. It is intended to be \n",
    "    used with the FastAPI example.\n",
    "\n",
    "    Attributes\n",
    "    ----------\n",
    "    first_name: str\n",
    "        The first name of the celebrity\n",
    "    last_name: str\n",
    "        The last name of the celebrity\n",
    "    city: bool\n",
    "        If True, the API will also return the city where the celebrity was born.\n",
    "    '''\n",
    "    first_name: str\n",
    "    last_name: str\n",
    "    city: bool = False"
   ]
  },
  {
   "cell_type": "code",
   "execution_count": null,
   "metadata": {},
   "outputs": [],
   "source": [
    "# api/dob_api.py\n",
    "\n",
    "import fastapi\n",
    "from fastapi import Depends\n",
    "\n",
    "from models.celebrities import Celebrity\n",
    "\n",
    "router = fastapi.APIRouter()\n",
    "\n",
    "\n",
    "@router.get('/api/dob/{first_name}')\n",
    "def dob(celebrity: Celebrity = Depends()):\n",
    "    full_name = f'{celebrity.first_name} {celebrity.last_name}'\n",
    "    if celebrity.city:\n",
    "        report = f'{full_name} was born a random day in a random city'\n",
    "    else:\n",
    "        report = f'{full_name} was born a random day'\n",
    "    return report\n",
    "\n"
   ]
  },
  {
   "cell_type": "markdown",
   "metadata": {},
   "source": [
    "Observe the `Depends` class in `celebrity`, used as an argument in `dob`. This tells the dob function that the variables it contains depend on an external class; therefore, it becomes aware that the attributes of the class are to be used as the query parameters.\n",
    "\n",
    "With this, the following URL [http://127.0.0.1:8008/api/dob/Uma?last_name=Thurman](http://127.0.0.1:8008/api/dob/Uma?last_name=Thurman) will return the following:\n",
    "\n",
    "<p align=center><img src=images/Routing_2.png width=400></p>"
   ]
  },
  {
   "cell_type": "markdown",
   "metadata": {},
   "source": [
    "Currently, the DOB API is not meeting expectations. Thus, we create the real function that will scrape the data on the celebrity and return the date through our API. The function containing this service will be in the `services` directory:\n",
    "\n",
    "```\n",
    "root/\n",
    "│\n",
    "├── home.py\n",
    "├── api\n",
    "│   └── dob_api.py\n",
    "├── models\n",
    "│   └── celebrities.py\n",
    "├── services\n",
    "│   └── dob_service.py\n",
    "└── main.py\n",
    "```"
   ]
  },
  {
   "cell_type": "code",
   "execution_count": 19,
   "metadata": {},
   "outputs": [],
   "source": [
    "# services/dob_service.py\n",
    "import requests\n",
    "from bs4 import BeautifulSoup\n",
    "import json\n",
    "import re\n",
    "\n",
    "def get_dob(first_name: str, last_name: str, city: bool=False):\n",
    "    infobox_data = get_infobox(first_name, last_name)\n",
    "    if not infobox_data:\n",
    "        return None\n",
    "    birthday = infobox_data.find('span', {'class': 'bday'})\n",
    "\n",
    "    report = {'first name': first_name,\n",
    "              'last_name': last_name,\n",
    "              'Date of Birth': birthday.text}\n",
    "    if city:\n",
    "        birthplace = infobox_data.find('div', {'class': 'birthplace'})\n",
    "        report['City'] = birthplace.text\n",
    "\n",
    "    return report\n",
    "\n",
    "def get_infobox(first_name: str, last_name: str):\n",
    "    r = requests.get(f'https://en.wikipedia.org/wiki/{first_name}_{last_name}')\n",
    "    soup = BeautifulSoup(r.text, 'html.parser')\n",
    "    if soup.find_all('b', text=re.compile('Wikipedia does not have an article with this exact name')):\n",
    "        return None\n",
    "    celeb_infobox = soup.find('table', {'class': 'infobox biography vcard'})\n",
    "    return celeb_infobox.find('td', {'class': 'infobox-data'})"
   ]
  },
  {
   "cell_type": "code",
   "execution_count": 28,
   "metadata": {},
   "outputs": [],
   "source": [
    "# api/dob_api.py\n",
    "\n",
    "import fastapi\n",
    "from fastapi import Depends\n",
    "import json\n",
    "from models.celebrities import Celebrity\n",
    "# from services.dob_service import get_dob\n",
    "from services.dob_service_async import get_dob\n",
    "router = fastapi.APIRouter()\n",
    "\n",
    "@router.get('/api/dob/{first_name}')\n",
    "def dob(celebrity: Celebrity = Depends()):\n",
    "    report = get_dob(celebrity.first_name, celebrity.last_name, celebrity.city)\n",
    "    return fastapi.Response(content=json.dumps(report),\n",
    "                            media_type='application/json')"
   ]
  },
  {
   "cell_type": "markdown",
   "metadata": {},
   "source": [
    "If you visit the following URL [http://127.0.0.1:8008/api/dob/Uma?last_name=Thurman&city=True](http://127.0.0.1:8008/api/dob/Uma?last_name=Thurman&city=True), you will obtain a real API response.\n",
    "<p align=center><img src=images/Routing_3.png width=500></p>"
   ]
  },
  {
   "cell_type": "markdown",
   "metadata": {},
   "source": [
    "Further, the requests library can be employed to retrieve the uploaded JSON object and guarantee that everything works properly."
   ]
  },
  {
   "cell_type": "code",
   "execution_count": 30,
   "metadata": {},
   "outputs": [
    {
     "data": {
      "text/plain": [
       "{'First name': 'Uma',\n",
       " 'Last_name': 'Thurman',\n",
       " 'Date of Birth': '1970-04-29',\n",
       " 'City': 'Boston, Massachusetts, U.S.'}"
      ]
     },
     "execution_count": 30,
     "metadata": {},
     "output_type": "execute_result"
    }
   ],
   "source": [
    "requests.get('http://127.0.0.1:8008/api/dob/Uma?last_name=Thurman&city=True').json()"
   ]
  },
  {
   "cell_type": "markdown",
   "metadata": {},
   "source": [
    "## Async/Await Implementation"
   ]
  },
  {
   "cell_type": "markdown",
   "metadata": {},
   "source": [
    "As shown above, FastAPI leverages modern Python tools, particularly asynchronous functions. To implement these tools, we simply need to change the `dob_service.py` file. Observe the implemented changes in the code below, considering that requests do not work asynchronously."
   ]
  },
  {
   "cell_type": "code",
   "execution_count": null,
   "metadata": {},
   "outputs": [],
   "source": [
    "# services/dob_service.py\n",
    "\n",
    "from bs4 import BeautifulSoup\n",
    "import json\n",
    "import re\n",
    "import httpx\n",
    "async def get_dob(first_name: str, last_name: str, city: bool=False):\n",
    "    infobox_data = await get_infobox_async(first_name, last_name)\n",
    "    if not infobox_data:\n",
    "        return None\n",
    "    birthday = infobox_data.find('span', {'class': 'bday'})\n",
    "\n",
    "    report = {'first name': first_name,\n",
    "              'last_name': last_name,\n",
    "              'Date of Birth': birthday.text}\n",
    "    if city:\n",
    "        birthplace = infobox_data.find('div', {'class': 'birthplace'})\n",
    "        report['City'] = birthplace.text\n",
    "\n",
    "    return report\n",
    "\n",
    "async def get_infobox_async(first_name: str, last_name: str):\n",
    "    async with httpx.AsyncClient() as client:\n",
    "        r = await client.get(f'https://en.wikipedia.org/wiki/{first_name}_{last_name}')\n",
    "        html = r.text\n",
    "    soup = BeautifulSoup(html, 'html.parser')\n",
    "    if soup.find_all('b', text=re.compile('Wikipedia does not have an article with this exact name')):\n",
    "        return None\n",
    "    celeb_infobox = soup.find('table', {'class': 'infobox biography vcard'})\n",
    "    return celeb_infobox.find('td', {'class': 'infobox-data'})"
   ]
  },
  {
   "cell_type": "code",
   "execution_count": null,
   "metadata": {},
   "outputs": [],
   "source": [
    "# api/dob_api.py\n",
    "\n",
    "import fastapi\n",
    "from fastapi import Depends\n",
    "import json\n",
    "from models.celebrities import Celebrity\n",
    "from services.dob_service import get_dob\n",
    "\n",
    "\n",
    "router = fastapi.APIRouter()\n",
    "\n",
    "@router.get('/api/dob/{first_name}')\n",
    "async def dob(celebrity: Celebrity = Depends()):\n",
    "    report = await get_dob(celebrity.first_name, celebrity.last_name, celebrity.city)\n",
    "    return fastapi.Response(content=json.dumps(report),\n",
    "                                media_type='application/json')"
   ]
  },
  {
   "cell_type": "markdown",
   "metadata": {},
   "source": [
    "As observed above, whenever an asynchronous function is called, we need to `await` it. Similarly, if we must use `await` because we are calling an asynchronous function, we must include it in an `async` function.\n",
    "\n",
    "The output will be the same as that obtained previously; however, when this API is deployed, it will provide many more responses at a considerably high speed."
   ]
  },
  {
   "cell_type": "markdown",
   "metadata": {},
   "source": [
    "## Conclusion\n",
    "At this point, you should have a good understanding of\n",
    "- how to leverage modern Python tools in FastAPI:\n",
    "    - pydantic\n",
    "    - async and await\n",
    "- the difference between ASGI and WSGI servers.\n",
    "- how to route API requests to a single node called in main."
   ]
  }
 ],
 "metadata": {
  "interpreter": {
   "hash": "68005dcbcdc29b4614156d1d6e1ead8b1c573354a9443b8e7d12638b4de24e7d"
  },
  "kernelspec": {
   "display_name": "Python 3.9.6 64-bit ('fastapi': conda)",
   "name": "python3"
  },
  "language_info": {
   "codemirror_mode": {
    "name": "ipython",
    "version": 3
   },
   "file_extension": ".py",
   "mimetype": "text/x-python",
   "name": "python",
   "nbconvert_exporter": "python",
   "pygments_lexer": "ipython3",
   "version": "3.9.6"
  },
  "orig_nbformat": 4
 },
 "nbformat": 4,
 "nbformat_minor": 2
}
