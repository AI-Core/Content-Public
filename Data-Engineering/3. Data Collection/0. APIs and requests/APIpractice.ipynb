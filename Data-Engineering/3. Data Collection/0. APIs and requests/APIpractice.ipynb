{
 "cells": [
  {
   "cell_type": "code",
   "execution_count": 2,
   "source": [
    "import requests as r\r\n",
    "\r\n",
    "joke_get_random = r.get(\"https://api.chucknorris.io/jokes/random\")\r\n",
    "categories = r.get(\"https://api.chucknorris.io/jokes/categories\")\r\n",
    "money_joke = r.get(\"https://api.chucknorris.io/jokes/random?category=money\")\r\n",
    "print(joke_get_random.text)\r\n",
    "print(categories.content)\r\n",
    "print(money_joke.text)"
   ],
   "outputs": [
    {
     "output_type": "stream",
     "name": "stdout",
     "text": [
      "{\"categories\":[],\"created_at\":\"2020-01-05 13:42:28.664997\",\"icon_url\":\"https://assets.chucknorris.host/img/avatar/chuck-norris.png\",\"id\":\"3qiDYGSeRdKpxZYznleT4w\",\"updated_at\":\"2020-01-05 13:42:28.664997\",\"url\":\"https://api.chucknorris.io/jokes/3qiDYGSeRdKpxZYznleT4w\",\"value\":\"Chuck Norris staged the moon landing in his back garden\"}\n",
      "b'[\"animal\",\"career\",\"celebrity\",\"dev\",\"explicit\",\"fashion\",\"food\",\"history\",\"money\",\"movie\",\"music\",\"political\",\"religion\",\"science\",\"sport\",\"travel\"]'\n",
      "{\"categories\":[\"money\"],\"created_at\":\"2020-01-05 13:42:21.179347\",\"icon_url\":\"https://assets.chucknorris.host/img/avatar/chuck-norris.png\",\"id\":\"V94Atg5NT7-ZcAPmWWI86w\",\"updated_at\":\"2020-05-22 06:02:41.792421\",\"url\":\"https://api.chucknorris.io/jokes/V94Atg5NT7-ZcAPmWWI86w\",\"value\":\"Jimmy Hoffa owed Chuck Norris money.\"}\n"
     ]
    }
   ],
   "metadata": {}
  },
  {
   "cell_type": "code",
   "execution_count": 3,
   "source": [
    "Jack_Black = r.get(\"https://itunes.apple.com/search?term=Nacho+Libre&media=movie&limit=1&entity=movie&attribute=movieTerm\")\r\n",
    "abba_song = r.get(\"https://itunes.apple.com/search?term=Super+Trooper+Abba&media=music&limit=1\")\r\n",
    "adboe_fresco = r.get(\"https://itunes.apple.com/search?term=Abode+Fresco&media=software&limit=1\")\r\n",
    "game_of_thrones = r.get(\"https://itunes.apple.com/search?term=Abode+Fresco&media=software&limit=1\")\r\n",
    "print(Jack_Black.text)\r\n",
    "print(abba_song.text)\r\n",
    "print(game_of_thrones.text)"
   ],
   "outputs": [
    {
     "output_type": "stream",
     "name": "stdout",
     "text": [
      "\n",
      "\n",
      "\n",
      "{\n",
      " \"resultCount\":1,\n",
      " \"results\": [\n",
      "{\"wrapperType\":\"track\", \"kind\":\"feature-movie\", \"collectionId\":1508640553, \"trackId\":292788263, \"artistName\":\"Jared Hess\", \"collectionName\":\"Jack Black 3 Movie Collection\", \"trackName\":\"Nacho Libre\", \"collectionCensoredName\":\"Jack Black 3 Movie Collection\", \"trackCensoredName\":\"Nacho Libre\", \"collectionArtistId\":1008915738, \"collectionArtistViewUrl\":\"https://itunes.apple.com/us/artist/paramount-home-entertainment-inc/1008915738?uo=4\", \"collectionViewUrl\":\"https://itunes.apple.com/us/movie/nacho-libre/id292788263?uo=4\", \"trackViewUrl\":\"https://itunes.apple.com/us/movie/nacho-libre/id292788263?uo=4\", \n",
      "\"previewUrl\":\"https://video-ssl.itunes.apple.com/itunes-assets/Video118/v4/eb/35/f7/eb35f748-2adc-2f84-5148-932e296ec946/mzvf_6420633272267848332.640x480.h264lc.U.p.m4v\", \"artworkUrl30\":\"https://is5-ssl.mzstatic.com/image/thumb/Video2/v4/90/b8/09/90b80917-b1f3-39f4-843d-a8cb676c02cb/source/30x30bb.jpg\", \"artworkUrl60\":\"https://is5-ssl.mzstatic.com/image/thumb/Video2/v4/90/b8/09/90b80917-b1f3-39f4-843d-a8cb676c02cb/source/60x60bb.jpg\", \"artworkUrl100\":\"https://is5-ssl.mzstatic.com/image/thumb/Video2/v4/90/b8/09/90b80917-b1f3-39f4-843d-a8cb676c02cb/source/100x100bb.jpg\", \"collectionPrice\":12.99, \"trackPrice\":12.99, \"trackRentalPrice\":3.99, \"collectionHdPrice\":14.99, \"trackHdPrice\":14.99, \"trackHdRentalPrice\":3.99, \"releaseDate\":\"2006-06-16T07:00:00Z\", \"collectionExplicitness\":\"notExplicit\", \"trackExplicitness\":\"notExplicit\", \"discCount\":1, \"discNumber\":1, \"trackCount\":3, \"trackNumber\":1, \"trackTimeMillis\":5525952, \"country\":\"USA\", \"currency\":\"USD\", \"primaryGenreName\":\"Comedy\", \"contentAdvisoryRating\":\"PG\", \n",
      "\"longDescription\":\"Jack Black is at his comic best as Ignacio, a disrespected cook at a Mexican monastery that can barely afford to feed the orphans who live there. Inspired by a local wrestling hero, he decides to moonlight as the not-so-famous Luchador \\\"Nacho Libre\\\" to earn money for the monastery -- not to mention the admiration of beautiful nun Sister Encarnacion.\"}]\n",
      "}\n",
      "\n",
      "\n",
      "\n",
      "\n",
      "\n",
      "\n",
      "{\n",
      " \"resultCount\":1,\n",
      " \"results\": [\n",
      "{\"wrapperType\":\"track\", \"kind\":\"song\", \"artistId\":313256329, \"collectionId\":308770933, \"trackId\":308770962, \"artistName\":\"The Super Troopers\", \"collectionName\":\"The ABBA Tribute\", \"trackName\":\"Super Trooper\", \"collectionCensoredName\":\"The ABBA Tribute\", \"trackCensoredName\":\"Super Trooper\", \"artistViewUrl\":\"https://music.apple.com/us/artist/the-super-troopers/313256329?uo=4\", \"collectionViewUrl\":\"https://music.apple.com/us/album/super-trooper/308770933?i=308770962&uo=4\", \"trackViewUrl\":\"https://music.apple.com/us/album/super-trooper/308770933?i=308770962&uo=4\", \n",
      "\"previewUrl\":\"https://audio-ssl.itunes.apple.com/itunes-assets/AudioPreview115/v4/07/2d/39/072d3952-4a94-3cec-a163-05dbd9e2f3e1/mzaf_18038547881529093188.plus.aac.p.m4a\", \"artworkUrl30\":\"https://is4-ssl.mzstatic.com/image/thumb/Music/v4/63/97/79/639779f2-7975-e9cf-e1e3-95b290e400dd/source/30x30bb.jpg\", \"artworkUrl60\":\"https://is4-ssl.mzstatic.com/image/thumb/Music/v4/63/97/79/639779f2-7975-e9cf-e1e3-95b290e400dd/source/60x60bb.jpg\", \"artworkUrl100\":\"https://is4-ssl.mzstatic.com/image/thumb/Music/v4/63/97/79/639779f2-7975-e9cf-e1e3-95b290e400dd/source/100x100bb.jpg\", \"collectionPrice\":7.99, \"trackPrice\":0.99, \"releaseDate\":\"1999-01-01T12:00:00Z\", \"collectionExplicitness\":\"notExplicit\", \"trackExplicitness\":\"notExplicit\", \"discCount\":1, \"discNumber\":1, \"trackCount\":15, \"trackNumber\":11, \"trackTimeMillis\":260968, \"country\":\"USA\", \"currency\":\"USD\", \"primaryGenreName\":\"Tribute\", \"isStreamable\":true}]\n",
      "}\n",
      "\n",
      "\n",
      "\n",
      "\n",
      "\n",
      "\n",
      "{\n",
      " \"resultCount\":1,\n",
      " \"results\": [\n",
      "{\n",
      "\"screenshotUrls\":[\n",
      "\"https://is2-ssl.mzstatic.com/image/thumb/PurpleSource125/v4/a3/26/25/a326259b-69bf-93b5-506a-8fa0a9a96520/902f53c9-754d-4288-8f36-cb752d4e4123_01_Adobe_Fresco_iOS_Pixel_iPhone6Plus_1242x2208_EN.jpg/392x696bb.jpg\", \n",
      "\"https://is4-ssl.mzstatic.com/image/thumb/PurpleSource115/v4/11/4f/61/114f61b4-59ac-16b0-0498-e395f416aeb1/9bfbcd0d-42fa-44f5-9fd4-a55bc47c6db7_02_Adobe_Fresco_iOS_Sketch_iPhone6Plus_1242x2208_EN.jpg/392x696bb.jpg\", \n",
      "\"https://is3-ssl.mzstatic.com/image/thumb/PurpleSource115/v4/e6/99/dd/e699dd97-1b3f-3d75-18f9-d453badd09d7/dccb70c1-7b06-443b-b481-b3ca33b44986_03_Adobe_Fresco_iOS_Brushes_iPhone6Plus_1242x2208_EN.jpg/392x696bb.jpg\", \n",
      "\"https://is4-ssl.mzstatic.com/image/thumb/PurpleSource115/v4/ae/32/7b/ae327bf5-2e52-c240-d682-dfa82d3a4c80/2142e2c9-9081-4b69-80b5-334eb68f0b0d_04_Adobe_Fresco_iOS_ProTools_iPhone6Plus_1242x2208_EN.jpg/392x696bb.jpg\", \n",
      "\"https://is2-ssl.mzstatic.com/image/thumb/PurpleSource125/v4/34/d4/e6/34d4e61f-dfc2-ba33-ed4f-85a3b0da123b/c9d6f885-1c85-4deb-a3c0-fa9ccfe2d6dc_05_Adobe_Fresco_iOS_Shortcut_iPhone6Plus_1242x2208_EN.jpg/392x696bb.jpg\", \n",
      "\"https://is5-ssl.mzstatic.com/image/thumb/PurpleSource125/v4/ea/1a/06/ea1a06b3-a5ac-24e8-897e-8aaf711d32d3/0e861cb4-a3c5-4e68-a114-f3480a9e74c0_06_Adobe_Fresco_iOS_TimeLapse_iPhone6Plus_1242x2208_EN.jpg/392x696bb.jpg\", \n",
      "\"https://is2-ssl.mzstatic.com/image/thumb/PurpleSource125/v4/f9/1c/0e/f91c0e6f-1af5-ae94-7131-fc88c26cf709/7f32e36f-092f-4a45-a747-0cd35c543724_07_Adobe_Fresco_iOS_Sync_iPhone6Plus_1242x2208_EN.jpg/392x696bb.jpg\", \n",
      "\"https://is1-ssl.mzstatic.com/image/thumb/PurpleSource125/v4/2c/75/dd/2c75dd07-167e-b3f1-48da-fe33518ed65f/e0055663-f3a6-49ed-ae9b-edeff2ac6350_08_Adobe_Fresco_iOS_Libraries_iPhone6Plus_1242x2208_EN.jpg/392x696bb.jpg\", \n",
      "\"https://is1-ssl.mzstatic.com/image/thumb/PurpleSource125/v4/0b/5d/ac/0b5dacf8-959d-e8d7-cb97-8a209a9cfea2/01a1be77-9bff-4c03-a139-e3e5628058d8_10_Adobe_Fresco_iOS_Sketch_iPhone6Plus_1242x2208_EN.jpg/392x696bb.jpg\", \n",
      "\"https://is2-ssl.mzstatic.com/image/thumb/PurpleSource125/v4/e6/44/d8/e644d89a-d518-6e5e-8d61-6f5b86a6714c/81a7cfbd-c814-41c3-b47a-669f332e45ea_9_Adobe_Fresco_iOS_Pixel_iPhone6Plus_1242x2208_US.jpg/392x696bb.jpg\"], \n",
      "\"ipadScreenshotUrls\":[\n",
      "\"https://is3-ssl.mzstatic.com/image/thumb/PurpleSource125/v4/ac/23/eb/ac23eb4f-9ee0-2ed9-8976-7fa129f7f235/c58fdddb-b1f4-4f18-8f0f-cf433c1a2f08_01_AdobeFresco_iOS_iPadPro_Oil_2048x2732_EN.jpg/552x414bb.jpg\", \n",
      "\"https://is1-ssl.mzstatic.com/image/thumb/PurpleSource115/v4/22/2c/c8/222cc8f4-9003-f6ab-2bea-f78d38df42b3/163618f3-d42b-403f-90fa-e245561e3322_02_AdobeFresco_iOS_iPadPro_Brushes_2048x2732_EN.jpg/552x414bb.jpg\", \n",
      "\"https://is4-ssl.mzstatic.com/image/thumb/PurpleSource115/v4/fe/32/ab/fe32abcd-742c-d03d-b680-ea1289d95323/5de27c7a-5ac0-4e26-872b-2e547faf913f_03_AdobeFresco_iOS_iPadPro_Vector_2048x2732_EN.jpg/552x414bb.jpg\", \n",
      "\"https://is4-ssl.mzstatic.com/image/thumb/PurpleSource125/v4/48/c8/b5/48c8b5e6-3568-b55d-7986-3080f732ba76/b78dc403-e1cc-496c-9717-c4e157e330ff_04_AdobeFresco_iOS_iPadPro_Selections_2048x2732_EN.jpg/552x414bb.jpg\", \n",
      "\"https://is3-ssl.mzstatic.com/image/thumb/PurpleSource115/v4/dd/17/b4/dd17b451-ebad-e8c3-b246-0abdbb3fdc93/cfd3451b-b79b-41d4-bace-e966adf9013f_05_AdobeFresco_iOS_iPadPro_ClippingMask_2048x2732_EN.jpg/552x414bb.jpg\", \n",
      "\"https://is4-ssl.mzstatic.com/image/thumb/PurpleSource125/v4/a6/9b/97/a69b9760-8a6a-e9d3-8128-9499e88c18b5/997ab416-f3b3-4289-af9b-d411d4619d8f_06_AdobeFresco_iOS_iPadPro_LiveStream_2048x2732_EN.jpg/552x414bb.jpg\", \n",
      "\"https://is5-ssl.mzstatic.com/image/thumb/PurpleSource115/v4/c6/e6/da/c6e6da51-f1ae-a89f-3db9-900d011480c8/e1dfd480-70ec-4d3b-ba58-a8ece0116cc0_07_AdobeFresco_iOS_iPadPro_Timelapse_2048x2732_EN.jpg/552x414bb.jpg\", \n",
      "\"https://is2-ssl.mzstatic.com/image/thumb/PurpleSource125/v4/27/4e/1f/274e1f20-7136-8145-a195-31c5082c9aff/13abcc39-8b6f-4a3a-8d0b-2ef9a3f83d95_08_AdobeFresco_iOS_iPadPro_Sync_2048x2732_EN.jpg/552x414bb.jpg\", \n",
      "\"https://is5-ssl.mzstatic.com/image/thumb/PurpleSource125/v4/dc/2b/94/dc2b94b3-b2f9-cc3c-ad00-90263bb8ec19/10827d59-27d4-4b6c-9a86-c06563c52330_09_AdobeFresco_iOS_iPadPro_Sketch_2048x2732_EN.jpg/552x414bb.jpg\", \n",
      "\"https://is5-ssl.mzstatic.com/image/thumb/PurpleSource115/v4/e0/33/54/e0335404-4252-28be-fc4d-2f5560e98f39/0e7d9d56-46c7-4a76-a67b-69899acf09bc_10_AdobeFresco_iOS_iPadPro_Brushes_2048x2732_US.jpg/552x414bb.jpg\"], \"appletvScreenshotUrls\":[], \"artworkUrl60\":\"https://is3-ssl.mzstatic.com/image/thumb/Purple115/v4/ce/07/1c/ce071c93-47a6-f40a-cc88-1606d28e1fbe/source/60x60bb.jpg\", \"artworkUrl512\":\"https://is3-ssl.mzstatic.com/image/thumb/Purple115/v4/ce/07/1c/ce071c93-47a6-f40a-cc88-1606d28e1fbe/source/512x512bb.jpg\", \"artworkUrl100\":\"https://is3-ssl.mzstatic.com/image/thumb/Purple115/v4/ce/07/1c/ce071c93-47a6-f40a-cc88-1606d28e1fbe/source/100x100bb.jpg\", \"artistViewUrl\":\"https://apps.apple.com/us/developer/adobe-inc/id331646274?uo=4\", \n",
      "\"supportedDevices\":[\"iPhone6s-iPhone6s\", \"iPhone6sPlus-iPhone6sPlus\", \"iPadPro-iPadPro\", \"iPadProCellular-iPadProCellular\", \"iPadPro97-iPadPro97\", \"iPadPro97Cellular-iPadPro97Cellular\", \"iPhoneSE-iPhoneSE\", \"iPhone7-iPhone7\", \"iPhone7Plus-iPhone7Plus\", \"iPad611-iPad611\", \"iPad612-iPad612\", \"iPad71-iPad71\", \"iPad72-iPad72\", \"iPad73-iPad73\", \"iPad74-iPad74\", \"iPhone8-iPhone8\", \"iPhone8Plus-iPhone8Plus\", \"iPhoneX-iPhoneX\", \"iPad75-iPad75\", \"iPad76-iPad76\", \"iPhoneXS-iPhoneXS\", \"iPhoneXSMax-iPhoneXSMax\", \"iPhoneXR-iPhoneXR\", \"iPad812-iPad812\", \"iPad834-iPad834\", \"iPad856-iPad856\", \"iPad878-iPad878\", \"iPadMini5-iPadMini5\", \"iPadMini5Cellular-iPadMini5Cellular\", \"iPadAir3-iPadAir3\", \"iPadAir3Cellular-iPadAir3Cellular\", \"iPodTouchSeventhGen-iPodTouchSeventhGen\", \"iPhone11-iPhone11\", \"iPhone11Pro-iPhone11Pro\", \"iPadSeventhGen-iPadSeventhGen\", \"iPadSeventhGenCellular-iPadSeventhGenCellular\", \"iPhone11ProMax-iPhone11ProMax\", \"iPhoneSESecondGen-iPhoneSESecondGen\", \"iPadProSecondGen-iPadProSecondGen\", \"iPadProSecondGenCellular-iPadProSecondGenCellular\", \"iPadProFourthGen-iPadProFourthGen\", \"iPadProFourthGenCellular-iPadProFourthGenCellular\", \"iPhone12Mini-iPhone12Mini\", \"iPhone12-iPhone12\", \"iPhone12Pro-iPhone12Pro\", \"iPhone12ProMax-iPhone12ProMax\", \"iPadAir4-iPadAir4\", \"iPadAir4Cellular-iPadAir4Cellular\", \"iPadEighthGen-iPadEighthGen\", \"iPadEighthGenCellular-iPadEighthGenCellular\", \"iPadProThirdGen-iPadProThirdGen\", \"iPadProThirdGenCellular-iPadProThirdGenCellular\", \"iPadProFifthGen-iPadProFifthGen\", \"iPadProFifthGenCellular-iPadProFifthGenCellular\"], \"advisories\":[], \"isGameCenterEnabled\":false, \"features\":[\"iosUniversal\"], \"kind\":\"software\", \"minimumOsVersion\":\"13.0\", \"trackCensoredName\":\"Adobe Fresco: Draw & Paint\", \"languageCodesISO2A\":[\"CS\", \"DA\", \"NL\", \"EN\", \"FI\", \"FR\", \"DE\", \"IT\", \"JA\", \"KO\", \"NB\", \"PL\", \"PT\", \"RU\", \"ZH\", \"ES\", \"SV\", \"ZH\", \"TR\"], \"fileSizeBytes\":\"965286912\", \"sellerUrl\":\"https://www.adobe.com/products/fresco.html\", \"formattedPrice\":\"Free\", \"contentAdvisoryRating\":\"4+\", \"averageUserRatingForCurrentVersion\":4.70047999999999976949993651942349970340728759765625, \"userRatingCountForCurrentVersion\":16937, \"averageUserRating\":4.70047999999999976949993651942349970340728759765625, \"trackViewUrl\":\"https://apps.apple.com/us/app/adobe-fresco-draw-paint/id1458660369?uo=4\", \"trackContentRating\":\"4+\", \"trackId\":1458660369, \"trackName\":\"Adobe Fresco: Draw & Paint\", \"genreIds\":[\"6027\", \"6008\"], \"releaseDate\":\"2019-09-24T07:00:00Z\", \"sellerName\":\"Adobe Inc.\", \"primaryGenreName\":\"Graphics & Design\", \"isVppDeviceBasedLicensingEnabled\":true, \"currentVersionReleaseDate\":\"2021-09-13T18:03:34Z\", \n",
      "\"releaseNotes\":\"COLOR ADJUSTMENT LAYERS: Make a color change without making a permanent color commitment. Adjustment Layers allow you to apply non-destructive tonal and color edits to your Fresco art. To get started experimenting with Hue/Saturation, Brightness/Contrast, and Color Balance, tap the Appearances icon (those interlocking circles) in the taskbar.\\n\\nGRAPH GRIDS: Whether perfectly uniform or deliberately asymmetrical, all feels right when the elements of your art align with your vision. Tap on the graph icon in the taskbar to reveal the new Precision panel and get started using Fresco's grids to position the facets of your art.\\n\\nALIGNMENT GUIDES: Transform. Snap. It's that easy, in Transform mode, to snap a layer to the center of the canvas. Control this setting, and Rotation Snapping, in Fresco's Precision panel. \\n\\nEXPANDED MASK SUPPORT: We've added masking support for Vector, Type, and Image layers. So go ahead. Experiment. Layer masking makes changes easily reversible on every layer in Fresco.\\n\\nIMPROVED TOOL PERSISTENCE: Have a personalized arrangement for your tool options? Beginning with this version, Fresco will remember this customization of your work surface every time you open the app. Even better, Fresco will also remember which tool you were using when you last closed a document. \\n\\nIf you're enjoying Fresco, please leave a review. It really helps other people discover the app!\", \"primaryGenreId\":6027, \"currency\":\"USD\", \n",
      "\"description\":\"Adobe Fresco is a free drawing and painting app built especially for iPad with Apple Pencil and iPhone, and designed for artists who draw professionally or paint for passion. Want to take your artwork to the next level? Upgrade to the premium version through the App Store and you'll also get Photoshop on iPad, plus all the premium features of Adobe Fresco, including thousands of exclusive brushes that get updated seasonally.\\n\\nAdobe Fresco combines the power of your favorite Photoshop brushes with the precision of vector brushes and the revolutionary technology of Live Brushes, for unlimited expression. Paint with watercolors and oils that blossom, blend, smear, and smudge just like the real thing. Work with infinitely scalable vector brushes to create crisp lines, ready to print at any size. With the premium version, you can also easily import all your Photoshop brushes, or choose from over a thousand natural brushes created by celebrated master Kyle T. Webster.\\n\\nAdobe Fresco reimagines essential tools for illustrators, including modernized selection and masking, and a flexible UI so you can draw faster and without distractions. Premium features add Photoshop integration with automatic cloud syncing. Brushes and projects follow you across devices, so you can work wherever inspiration strikes.\\n\\nFREE FEATURES\\n• 50+ Photoshop brushes, vector brushes, and exclusive new Live Brushes\\n• Access to your custom brushes from Adobe Capture and other libraries\\n• Powerful tools for creation, including selections, masking, layers, and layer groups\\n• Automatic migration of Adobe Photoshop Sketch and Adobe Illustrator Draw projects\\n• Time-lapse video that you can export to replay your creation\\n• Easy export of your files as PNG or JPEG\\n• Step-by-step learning content\\n\\nPREMIUM ONLY FEATURES\\n• Access to Photoshop on iPad\\n• An expanded library of 1,000+ brushes\\n• Roundtripping with Photoshop on desktop (requires Creative Cloud plan with Photoshop)\\n• 100GB of cloud storage\\n• New quarterly brushes by Illustration evangelist Kyle T. Webster\\n• Ability to import brushes (ABR files)\\n\\nDo Not Sell My Information: https://www.adobe.com/privacy/ca-rights-linkfree.html\", \"artistId\":331646274, \"artistName\":\"Adobe Inc.\", \"genres\":[\"Graphics & Design\", \"Photo & Video\"], \"price\":0.00, \"bundleId\":\"com.adobe.fresco.ios\", \"version\":\"2.7.7\", \"wrapperType\":\"software\", \"userRatingCount\":16937}]\n",
      "}\n",
      "\n",
      "\n",
      "\n"
     ]
    }
   ],
   "metadata": {}
  },
  {
   "cell_type": "code",
   "execution_count": 2,
   "source": [
    "import requests as r\r\n",
    "badges = r.get(\"https://api.stackexchange.com/2.3/badges?page=1&pagesize=3&fromdate=1631404800&todate=1631404800&order=desc&sort=name&site=stackoverflow\")\r\n",
    "print(badges.text)"
   ],
   "outputs": [
    {
     "output_type": "stream",
     "name": "stdout",
     "text": [
      "{\"items\":[{\"badge_type\":\"tag_based\",\"award_count\":1,\"rank\":\"silver\",\"badge_id\":4600,\"link\":\"https://stackoverflow.com/badges/4600/zxing\",\"name\":\"zxing\"},{\"badge_type\":\"tag_based\",\"award_count\":3,\"rank\":\"bronze\",\"badge_id\":1710,\"link\":\"https://stackoverflow.com/badges/1710/zxing\",\"name\":\"zxing\"},{\"badge_type\":\"tag_based\",\"award_count\":3,\"rank\":\"bronze\",\"badge_id\":5743,\"link\":\"https://stackoverflow.com/badges/5743/zurb-foundation\",\"name\":\"zurb-foundation\"}],\"has_more\":true,\"quota_max\":300,\"quota_remaining\":295}\n"
     ]
    }
   ],
   "metadata": {}
  },
  {
   "cell_type": "code",
   "execution_count": 5,
   "source": [
    "topvotes = r.get(\"https://api.stackexchange.com/2.3/posts?page=1&pagesize=10&fromdate=1631404800&todate=1631491200&order=desc&sort=votes&site=stackoverflow\")\r\n",
    "#print(topvotes.text)\r\n",
    "\r\n",
    "new_dict = []\r\n",
    "new_dict.append(topvotes[\"account_id\"])\r\n",
    "print(new_dict)"
   ],
   "outputs": [
    {
     "output_type": "error",
     "ename": "TypeError",
     "evalue": "'Response' object is not subscriptable",
     "traceback": [
      "\u001b[1;31m---------------------------------------------------------------------------\u001b[0m",
      "\u001b[1;31mTypeError\u001b[0m                                 Traceback (most recent call last)",
      "\u001b[1;32mC:\\Users\\BLAIR_~1\\AppData\\Local\\Temp/ipykernel_35532/1289091647.py\u001b[0m in \u001b[0;36m<module>\u001b[1;34m\u001b[0m\n\u001b[0;32m      3\u001b[0m \u001b[1;33m\u001b[0m\u001b[0m\n\u001b[0;32m      4\u001b[0m \u001b[0mnew_dict\u001b[0m \u001b[1;33m=\u001b[0m \u001b[1;33m[\u001b[0m\u001b[1;33m]\u001b[0m\u001b[1;33m\u001b[0m\u001b[1;33m\u001b[0m\u001b[0m\n\u001b[1;32m----> 5\u001b[1;33m \u001b[0mnew_dict\u001b[0m\u001b[1;33m.\u001b[0m\u001b[0mappend\u001b[0m\u001b[1;33m(\u001b[0m\u001b[0mtopvotes\u001b[0m\u001b[1;33m[\u001b[0m\u001b[1;34m\"account_id\"\u001b[0m\u001b[1;33m]\u001b[0m\u001b[1;33m)\u001b[0m\u001b[1;33m\u001b[0m\u001b[1;33m\u001b[0m\u001b[0m\n\u001b[0m\u001b[0;32m      6\u001b[0m \u001b[0mprint\u001b[0m\u001b[1;33m(\u001b[0m\u001b[0mnew_dict\u001b[0m\u001b[1;33m)\u001b[0m\u001b[1;33m\u001b[0m\u001b[1;33m\u001b[0m\u001b[0m\n",
      "\u001b[1;31mTypeError\u001b[0m: 'Response' object is not subscriptable"
     ]
    }
   ],
   "metadata": {}
  },
  {
   "cell_type": "code",
   "execution_count": 1,
   "source": [
    "#Pagnition = r.get(\"https://api.stackexchange.com//2.3/posts?page=1&pagesize=5&fromdate=1630454400&todate=1630540800&order=asc&sort=creation&site=stackoverflow\")\r\n",
    "\r\n",
    "def pagnition_pages():\r\n",
    "    for i in range(5):\r\n",
    "        Pagnition = r.get(\"https://api.stackexchange.com/2.3/posts?page={i}&pagesize=5&fromdate=1630454400&todate=1630540800&order=asc&sort=creation&site=stackoverflow\")\r\n",
    "        yield Pagnition\r\n",
    "\r\n",
    "next(pagnition_pages())"
   ],
   "outputs": [
    {
     "output_type": "error",
     "ename": "NameError",
     "evalue": "name 'r' is not defined",
     "traceback": [
      "\u001b[1;31m---------------------------------------------------------------------------\u001b[0m",
      "\u001b[1;31mNameError\u001b[0m                                 Traceback (most recent call last)",
      "\u001b[1;32mC:\\Users\\BLAIR_~1\\AppData\\Local\\Temp/ipykernel_13588/1692034265.py\u001b[0m in \u001b[0;36m<module>\u001b[1;34m\u001b[0m\n\u001b[0;32m      6\u001b[0m         \u001b[1;32myield\u001b[0m \u001b[0mPagnition\u001b[0m\u001b[1;33m\u001b[0m\u001b[1;33m\u001b[0m\u001b[0m\n\u001b[0;32m      7\u001b[0m \u001b[1;33m\u001b[0m\u001b[0m\n\u001b[1;32m----> 8\u001b[1;33m \u001b[0mnext\u001b[0m\u001b[1;33m(\u001b[0m\u001b[0mpagnition_pages\u001b[0m\u001b[1;33m(\u001b[0m\u001b[1;33m)\u001b[0m\u001b[1;33m)\u001b[0m\u001b[1;33m\u001b[0m\u001b[1;33m\u001b[0m\u001b[0m\n\u001b[0m",
      "\u001b[1;32mC:\\Users\\BLAIR_~1\\AppData\\Local\\Temp/ipykernel_13588/1692034265.py\u001b[0m in \u001b[0;36mpagnition_pages\u001b[1;34m()\u001b[0m\n\u001b[0;32m      3\u001b[0m \u001b[1;32mdef\u001b[0m \u001b[0mpagnition_pages\u001b[0m\u001b[1;33m(\u001b[0m\u001b[1;33m)\u001b[0m\u001b[1;33m:\u001b[0m\u001b[1;33m\u001b[0m\u001b[1;33m\u001b[0m\u001b[0m\n\u001b[0;32m      4\u001b[0m     \u001b[1;32mfor\u001b[0m \u001b[0mi\u001b[0m \u001b[1;32min\u001b[0m \u001b[0mrange\u001b[0m\u001b[1;33m(\u001b[0m\u001b[1;36m5\u001b[0m\u001b[1;33m)\u001b[0m\u001b[1;33m:\u001b[0m\u001b[1;33m\u001b[0m\u001b[1;33m\u001b[0m\u001b[0m\n\u001b[1;32m----> 5\u001b[1;33m         \u001b[0mPagnition\u001b[0m \u001b[1;33m=\u001b[0m \u001b[0mr\u001b[0m\u001b[1;33m.\u001b[0m\u001b[0mget\u001b[0m\u001b[1;33m(\u001b[0m\u001b[1;34m\"https://api.stackexchange.com/2.3/posts?page={i}&pagesize=5&fromdate=1630454400&todate=1630540800&order=asc&sort=creation&site=stackoverflow\"\u001b[0m\u001b[1;33m)\u001b[0m\u001b[1;33m\u001b[0m\u001b[1;33m\u001b[0m\u001b[0m\n\u001b[0m\u001b[0;32m      6\u001b[0m         \u001b[1;32myield\u001b[0m \u001b[0mPagnition\u001b[0m\u001b[1;33m\u001b[0m\u001b[1;33m\u001b[0m\u001b[0m\n\u001b[0;32m      7\u001b[0m \u001b[1;33m\u001b[0m\u001b[0m\n",
      "\u001b[1;31mNameError\u001b[0m: name 'r' is not defined"
     ]
    }
   ],
   "metadata": {}
  },
  {
   "cell_type": "code",
   "execution_count": 14,
   "source": [
    "most_questions = r.get(\"https://api.stackexchange.com//2.3/questions?page=1&fromdate=1631491200&todate=1631491200&order=desc&sort=hot&site=stackoverflow\")\r\n",
    "print(most_questions.text)\r\n"
   ],
   "outputs": [
    {
     "output_type": "stream",
     "name": "stdout",
     "text": [
      "{\"items\":[],\"has_more\":false,\"quota_max\":300,\"quota_remaining\":159}\n"
     ]
    }
   ],
   "metadata": {}
  },
  {
   "cell_type": "code",
   "execution_count": null,
   "source": [
    "most_comments = r.get(\"\")"
   ],
   "outputs": [],
   "metadata": {}
  }
 ],
 "metadata": {
  "orig_nbformat": 4,
  "language_info": {
   "name": "python",
   "version": "3.9.0",
   "mimetype": "text/x-python",
   "codemirror_mode": {
    "name": "ipython",
    "version": 3
   },
   "pygments_lexer": "ipython3",
   "nbconvert_exporter": "python",
   "file_extension": ".py"
  },
  "kernelspec": {
   "name": "python3",
   "display_name": "Python 3.9.0 64-bit ('AiCore': conda)"
  },
  "interpreter": {
   "hash": "485a1dab40f4ab8fba927ff731b26bb02b38a833ca6d84298e2f32eecc50945c"
  }
 },
 "nbformat": 4,
 "nbformat_minor": 2
}