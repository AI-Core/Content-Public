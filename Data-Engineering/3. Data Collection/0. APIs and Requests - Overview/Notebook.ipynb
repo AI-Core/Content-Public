{
 "cells": [
  {
   "cell_type": "markdown",
   "metadata": {},
   "source": [
    "# APIs and Requests - Overview\n",
    "\n",
    "> APIs are computer programs that know what to do and how to respond to requests sent to them over the Internet\n",
    "\n",
    "You will see lots of far more complicated definitions online, but it's really as simple as that. We'll talk about what API stands for later.\n",
    "\n",
    "Before we get into it, here's a taster. Below, we make a request to the Pokemon API to get information about Pikachu:"
   ]
  },
  {
   "cell_type": "code",
   "execution_count": 1,
   "metadata": {},
   "outputs": [],
   "source": [
    "import requests\n",
    "\n",
    "response = requests.get('https://pokeapi.co/api/v2/pokemon/pikachu')"
   ]
  },
  {
   "cell_type": "markdown",
   "metadata": {},
   "source": [
    "We'll come back to this later."
   ]
  },
  {
   "cell_type": "markdown",
   "metadata": {},
   "source": [
    "## Communication Protocols\n",
    "\n",
    "> A protocol is a predefined set of rules for communicating. The protocol tells computers how to format the message when sending it and how to interpret the raw data when receiving it.\n",
    "\n",
    "Here are some common computer protocols which you might have heard of:\n",
    "\n",
    "- __HTTP__ (HyperText Transfer Protocol) is one of the most common protocols\n",
    "- __HTTPS__ is a secure implementation of HTTP. It encrypts messages using a protocol called TLS (Transport Layer Security). When you see a padlock next to the URL in your browser, you're receiving data from that website via HTTPS. When your browser gives you a scary warning, you're probably connecting over HTTP. The security provided by TLS was formerly implemented by another protocol called SSL (Secure Sockets Layer).\n",
    "- __SSH__ (Secure SHell) is a protocol that allows secure communication over an insecure network (where other devices may see your messages), like the internet. It does this by encrypting messages using a public and private key, where both are required to decrypt the message.\n",
    "- __IP__ (Internet Protocol) is a protocol which ensures that packets (basically chunks) of a message get sent to the correct computer\n",
    "- __DNS__ (Domain Name Server) is a protocol that maps human-readable urls like `https://www.theaicore.com` to their IP address, such as `192.0.2.1`\n",
    "\n",
    "## Requests\n",
    "\n",
    "A __request__ is a message sent from one computer to another. Typically, a __response__ is returned to the opposite direction. A request must be sent using a protocol, which tells both computers the rules for how to send and interpret messages.\n",
    "\n",
    "In this notebook, we will be making HTTP requests to existing APIs."
   ]
  },
  {
   "cell_type": "markdown",
   "metadata": {},
   "source": [
    "## Client vs server\n",
    "\n",
    "You will commonly hear about the _client_, which is the computer initiating the request (asking for the Pokemon), and the _server_, which is the computer handling the request (returning the Pokemon info).\n",
    "\n",
    "In reality, there is no difference between the two computers. The server and the client just represent two different software programs. They could be running on the exact same hardware. In fact, they could be running on the exact same computer! This is commonly the case when developing an API or web application locally."
   ]
  },
  {
   "cell_type": "markdown",
   "metadata": {},
   "source": [
    "## Making HTTP requests\n",
    "\n",
    "We can make requests to an API from the terminal using the `curl` (Client URL) command.\n"
   ]
  },
  {
   "cell_type": "code",
   "execution_count": null,
   "metadata": {},
   "outputs": [],
   "source": [
    "!curl https://pokeapi.co/api/v2/pokemon/pikachu"
   ]
  },
  {
   "cell_type": "markdown",
   "metadata": {},
   "source": [
    "\n",
    "We can use the Python library `requests` to send messages to an API.\n"
   ]
  },
  {
   "cell_type": "code",
   "execution_count": 2,
   "metadata": {},
   "outputs": [],
   "source": [
    "import requests\n",
    "\n",
    "response = requests.get('https://pokeapi.co/api/v2/pokemon/pikachu')"
   ]
  },
  {
   "cell_type": "markdown",
   "metadata": {},
   "source": [
    "The response variable has the information of the received object. However, the variable itself doesn't reflect the information, but the status of the request. We will get to that shortly. For now, remember that you can read the content of a request using the `.json()` method, or the `.text()` attribute."
   ]
  },
  {
   "cell_type": "code",
   "execution_count": null,
   "metadata": {},
   "outputs": [],
   "source": [
    "response.json()"
   ]
  },
  {
   "cell_type": "code",
   "execution_count": null,
   "metadata": {},
   "outputs": [],
   "source": [
    "response.text"
   ]
  },
  {
   "cell_type": "markdown",
   "metadata": {},
   "source": [
    "_Note: Observe that the content is very similar in both cases, but the data type is what changes._\n",
    "\n",
    "Usually you will get a JSON object as a response. These JSON objects are usually huge, so make sure you know how to navigate through the JSON object. For example, how can you get all the keys of this JSON object?"
   ]
  },
  {
   "cell_type": "markdown",
   "metadata": {},
   "source": [
    "## We can do more than just `GET` information\n",
    "\n",
    "> API stands for: \"Application Programmable Interface\", so, as the name suggests, it should not only allow us to get information, but also to modify it\n",
    "\n",
    "## Resources and methods\n",
    "\n",
    "In the example above, we used the `requests.get` function to make a \"__`GET` request__\" request to the `/api/v2/pokemon/pikachu` \"__resource__\" of the API.\n",
    "\n",
    "APIs can be programmed to respond to other types of requests too, which should roughly be used as follows:\n",
    "\n",
    "- `GET` - get some data\n",
    "- `POST` - insert some new data\n",
    "- `PUT` - update some data\n",
    "- `DELETE` - delete some data\n",
    "\n",
    "These are some examples of the most common HTTP __methods__. Read about them in detail [here](https://developer.mozilla.org/en-US/docs/Web/HTTP/Methods).\n",
    "\n",
    "Read further and compare GET and POST methods [here](https://www.w3schools.com/tags/ref_httpmethods.asp). One particular thing of interest is that GET request responses can be cached, whereas POST responses cannot.\n",
    "\n",
    "Below we show how to make different types of requests to the API using Python."
   ]
  },
  {
   "cell_type": "code",
   "execution_count": null,
   "metadata": {},
   "outputs": [],
   "source": [
    "requests.get('https://pokeapi.co/api/v2/pokemon/pikachu')\n",
    "requests.post('https://pokeapi.co/api/v2/pokemon/pikachu')\n",
    "requests.put('https://pokeapi.co/api/v2/pokemon/pikachu')\n",
    "requests.delete('https://pokeapi.co/api/v2/pokemon/pikachu')\n",
    "requests.patch('https://pokeapi.co/api/v2/pokemon/pikachu')"
   ]
  },
  {
   "cell_type": "markdown",
   "metadata": {},
   "source": [
    "Check this [webpage](https://rapidapi.com/blog/put-vs-patch/) to check the difference betwwen PUT and PATCH"
   ]
  },
  {
   "cell_type": "markdown",
   "metadata": {},
   "source": [
    "\n",
    "To get information about a different Pokemon, we could make a `GET` request to a different resource, such as `/api/v2/pokemon/squirtle`. We need a different resource because an API can only implement 1 method of each type on any given resource.\n",
    "\n",
    "We commonly use talk about these HTTP methods by saying something like \"Make a `DELETE` request to the `/profiles` resource\".\n"
   ]
  },
  {
   "cell_type": "markdown",
   "metadata": {},
   "source": [
    "## What is a browser?\n",
    "\n",
    "> A browser is a program that displays information in a way that is easy for a human to understand.\n",
    "\n",
    "It doesn't just show you the raw binary data. When you search for a webpage, it will render the HTML. When you open an image in a new tab, it will display the image. When you search for an API endpoint with a `GET` method implemented that returns JSON, it will print the response JSON.\n",
    "\n",
    "> Did you know that, when you search something in your browser, it makes a `GET` request to that URL?\n",
    "\n",
    "<p align=center><img src=images/browserGET.png></p>\n",
    "<figcaption align=\"center\"><cite>Browser GET JSON response</cite></figcaption>"
   ]
  },
  {
   "cell_type": "markdown",
   "metadata": {},
   "source": [
    "# Key Takeaways\n",
    "\n",
    "- An _API_ is a computer program used to submit and receive requests via the Internet\n",
    "- A _protocol_ is a predefined set of rules for communicating electronically\n",
    "- A _request_ is a message sent from one computer to another computer using a protocol\n",
    "- The most popular protocols used in industry include: HTTP, HTTPS, SSH, IP and DNS\n",
    "- HTTP requests can be made to an API using the `curl` command \n",
    "- The response to a request is data usually stored in a JSON object\n",
    "- The most common types of requests include: `GET`, `POST`, `PUT` and `DELETE`\n"
   ]
  }
 ],
 "metadata": {
  "interpreter": {
   "hash": "19d1d53a962d236aa061289c2ac16dc8e6d9648c89fe79f459ae9a3493bc67b4"
  },
  "kernelspec": {
   "display_name": "Python 3.9.7 ('base')",
   "language": "python",
   "name": "python3"
  },
  "language_info": {
   "codemirror_mode": {
    "name": "ipython",
    "version": 3
   },
   "file_extension": ".py",
   "mimetype": "text/x-python",
   "name": "python",
   "nbconvert_exporter": "python",
   "pygments_lexer": "ipython3",
   "version": "3.9.7"
  },
  "orig_nbformat": 4
 },
 "nbformat": 4,
 "nbformat_minor": 2
}
