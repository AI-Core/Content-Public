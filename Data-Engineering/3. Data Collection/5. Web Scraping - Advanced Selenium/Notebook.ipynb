{
 "cells": [
  {
   "cell_type": "markdown",
   "metadata": {},
   "source": [
    "# Web Scraping - Advanced Selenium\n",
    "\n",
    "## Navigating using Selenium"
   ]
  },
  {
   "cell_type": "markdown",
   "metadata": {},
   "source": [
    "Selenium allows us to do many other things, such as scroll, click, and send keystrokes. For example, you can run the following cells one by one and observe the results.\n",
    "\n",
    "Let's see how to scroll down a page using Selenium:"
   ]
  },
  {
   "cell_type": "code",
   "execution_count": 7,
   "metadata": {},
   "outputs": [],
   "source": [
    "from selenium import webdriver\n",
    "from selenium.webdriver.common.keys import Keys\n",
    "from selenium.webdriver.common.by import By\n",
    "driver = webdriver.Chrome()\n",
    "\n",
    "driver.get(\"http://www.python.org\")"
   ]
  },
  {
   "cell_type": "markdown",
   "metadata": {},
   "source": [
    "You are in the official Python Webpage, let's scroll down to the bottom of the page:"
   ]
  },
  {
   "cell_type": "code",
   "execution_count": null,
   "metadata": {},
   "outputs": [],
   "source": [
    "driver.execute_script(\"window.scrollTo(0, document.body.scrollHeight);\")"
   ]
  },
  {
   "cell_type": "markdown",
   "metadata": {},
   "source": [
    "The next cell will look for the search bar and click it."
   ]
  },
  {
   "cell_type": "code",
   "execution_count": null,
   "metadata": {},
   "outputs": [],
   "source": [
    "search_bar = driver.find_element(by=By.XPATH, value='//*[@id=\"id-search-field\"]')\n",
    "search_bar.click()"
   ]
  },
  {
   "cell_type": "markdown",
   "metadata": {},
   "source": [
    "Now that you clicked it, you can send a keystroke to the search bar:"
   ]
  },
  {
   "cell_type": "code",
   "execution_count": null,
   "metadata": {},
   "outputs": [],
   "source": [
    "search_bar.send_keys(\"method\")"
   ]
  },
  {
   "cell_type": "markdown",
   "metadata": {},
   "source": [
    "And once you enter the text, you can 'Press Enter':"
   ]
  },
  {
   "cell_type": "code",
   "execution_count": null,
   "metadata": {},
   "outputs": [],
   "source": [
    "search_bar.send_keys(Keys.RETURN)"
   ]
  },
  {
   "cell_type": "markdown",
   "metadata": {},
   "source": [
    "Whenever you need to perform an action in Selenium, just think, what steps are you doing as a human being? If you can explain it with words, Selenium probably can do it, just look at the documentation, or Google it."
   ]
  },
  {
   "cell_type": "markdown",
   "metadata": {},
   "source": [
    "## Selenium Wait for an Element Feature"
   ]
  },
  {
   "cell_type": "markdown",
   "metadata": {},
   "source": [
    "On many ocassions, you will need for an element to appear to scrape it. As mentioned above, many websites are dynamic, meaning that its whole content is not available right after connecting to it. If that is the case, Selenium will try to find elements before the whole page is loaded, and therefore the scraper might fail if the element is not ready.\n",
    "\n",
    "To solve this problem, you can tell selenium to _wait_ until the element you want to scrape appears. For example, in the Zoopla challenge, the frame containing the \"Accept Cookies\" button will not appear immediately, that is why we added a `time.sleep(3)` after telling the driver to get to that website:\n",
    "```\n",
    "    driver = webdriver.Chrome() \n",
    "    URL = \"https://www.zoopla.co.uk/new-homes/property/london/?q=London&results_sort=newest_listings&search_source=new-homes&page_size=25&pn=1&view_type=list\"\n",
    "    driver.get(URL)\n",
    "    time.sleep(3) \n",
    "    try:\n",
    "        driver.switch_to_frame('gdpr-consent-notice') # This is the id of the frame\n",
    "        accept_cookies_button = driver.find_element_by_xpath('//*[@id=\"save\"]')\n",
    "        accept_cookies_button.click()\n",
    "    ...\n",
    "```\n",
    "\n",
    "However, depending on the server and the user connection that number of seconds might vary. So, instead of using an arbitrary number like `3`, we might want to tell Selenium: \"Wait until this frame shows up\""
   ]
  },
  {
   "cell_type": "markdown",
   "metadata": {},
   "source": [
    "Selenium has many capabilities, and luckily, one of them allows us to implement this functionality. Let's take a look at how to do so:\n",
    "\n",
    "First, let's import the libraries we need:"
   ]
  },
  {
   "cell_type": "code",
   "execution_count": 10,
   "metadata": {},
   "outputs": [],
   "source": [
    "from selenium import webdriver\n",
    "from selenium.webdriver.support.ui import WebDriverWait\n",
    "from selenium.webdriver.support import expected_conditions as EC\n",
    "from selenium.webdriver.common.by import By\n",
    "from selenium.common.exceptions import TimeoutException\n",
    "import time"
   ]
  },
  {
   "cell_type": "markdown",
   "metadata": {},
   "source": [
    "Now, let's implement it on the code we had:"
   ]
  },
  {
   "cell_type": "code",
   "execution_count": 13,
   "metadata": {},
   "outputs": [],
   "source": [
    "def load_and_accept_cookies() -> webdriver.Chrome:\n",
    "    '''\n",
    "    Open Zoopla and accept the cookies\n",
    "    \n",
    "    Returns\n",
    "    -------\n",
    "    driver: webdriver.Chrome\n",
    "        This driver is already in the Zoopla webpage\n",
    "    '''\n",
    "    driver = webdriver.Chrome() \n",
    "    URL = \"https://www.zoopla.co.uk/new-homes/property/london/?q=London&results_sort=newest_listings&search_source=new-homes&page_size=25&pn=1&view_type=list\"\n",
    "    driver.get(URL)\n",
    "    delay = 10\n",
    "    try:\n",
    "        WebDriverWait(driver, delay).until(EC.presence_of_element_located((By.XPATH, '//*[@id=\"gdpr-consent-notice\"]')))\n",
    "        print(\"Frame Ready!\")\n",
    "        driver.switch_to.frame('gdpr-consent-notice')\n",
    "        accept_cookies_button = WebDriverWait(driver, delay).until(EC.presence_of_element_located((By.XPATH, '//*[@id=\"save\"]')))\n",
    "        print(\"Accept Cookies Button Ready!\")\n",
    "        accept_cookies_button.click()\n",
    "        time.sleep(1)\n",
    "    except TimeoutException:\n",
    "        print(\"Loading took too much time!\")\n",
    "\n",
    "    return driver "
   ]
  },
  {
   "cell_type": "markdown",
   "metadata": {},
   "source": [
    "So, what's happening here?\n",
    "\n",
    "1. As always, we define the driver and tell it to visit the URL\n",
    "```\n",
    "driver = webdriver.Chrome() \n",
    "URL = \"https://www.zoopla.co.uk/new-homes/property/london/?q=London&results_sort=newest_listings&search_source=new-homes&page_size=25&pn=1&view_type=list\"\n",
    "driver.get(URL)\n",
    "```\n",
    "2. We set a variable named delay, which is the maximum time we allow Selenium to wait.\n",
    "```\n",
    "delay = 10\n",
    "```\n",
    "3. Then, we use the WebDriverWait class to tell the driver to way a maximum of 10 seconds. Within those 10 seconds, if the element corresponding to the XPath whose value is `'//*[@id=\"gdpr-consent-notice\"]'` (which corresponds to the frame) appears, then, stop waiting, and keep running the code.\n",
    "```\n",
    "WebDriverWait(driver, delay).until(EC.presence_of_element_located((By.XPATH, '//*[@id=\"gdpr-consent-notice\"]')))\n",
    "```\n",
    "4. If the element appears before 10 seconds, we just go with the regular code to click the button. This code in turn has another WebDriverWait just in case the button appears after switching to frame\n",
    "```\n",
    "print(\"Frame Ready!\")\n",
    "driver.switch_to.frame('gdpr-consent-notice')\n",
    "accept_cookies_button = WebDriverWait(driver, delay).until(EC.presence_of_element_located((By.XPATH, '//*[@id=\"save\"]')))\n",
    "print(\"Accept Cookies Button Ready!\")\n",
    "accept_cookies_button.click()\n",
    "time.sleep(1)\n",
    "```\n",
    "5. However, if the element doesn't show up in less than 10 seconds, Selenium throws a `TimeoutException` error, and the `except` clause is triggered\n",
    "```\n",
    "except TimeoutException:\n",
    "    print(\"Loading took too much time!\")\n",
    "```"
   ]
  },
  {
   "cell_type": "markdown",
   "metadata": {},
   "source": [
    "Let's see how it works:"
   ]
  },
  {
   "cell_type": "code",
   "execution_count": 12,
   "metadata": {},
   "outputs": [
    {
     "name": "stdout",
     "output_type": "stream",
     "text": [
      "Frame Ready!\n"
     ]
    }
   ],
   "source": [
    "driver = load_and_accept_cookies()"
   ]
  },
  {
   "cell_type": "markdown",
   "metadata": {},
   "source": [
    "Thanks to this, we don't have to worry about setting an arbitrary number of seconds to wait."
   ]
  },
  {
   "cell_type": "markdown",
   "metadata": {},
   "source": [
    "## Key Takeaways\n",
    "\n",
    "- Selenium also has more advanced features such as scrolling through a webpage, waiting for certain conditions to occur, and sending keystrokes to the website\n",
    "- To scroll through a website, we can use the `window.scrollTo()` command \n",
    "- The `.send_keys()` command is used to send specific keystrokes (such as the Enter key) to the website \n",
    "- Selenium can also be instructed to wait until certain elements appear on a website. This can be achieved using the `WebDriverWait` command.\n"
   ]
  }
 ],
 "metadata": {
  "interpreter": {
   "hash": "569d6b7e9215e11aba41c6454007e5c1b78bad7df09dab765d8cf00362c40f03"
  },
  "kernelspec": {
   "display_name": "Python 3.9.1 64-bit ('base': conda)",
   "name": "python3"
  },
  "language_info": {
   "codemirror_mode": {
    "name": "ipython",
    "version": 3
   },
   "file_extension": ".py",
   "mimetype": "text/x-python",
   "name": "python",
   "nbconvert_exporter": "python",
   "pygments_lexer": "ipython3",
   "version": "3.9.1"
  }
 },
 "nbformat": 4,
 "nbformat_minor": 4
}
