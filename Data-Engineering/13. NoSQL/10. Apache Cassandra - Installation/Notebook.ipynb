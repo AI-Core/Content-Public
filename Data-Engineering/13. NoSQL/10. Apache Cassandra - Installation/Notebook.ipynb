{
 "cells": [
  {
   "cell_type": "markdown",
   "metadata": {},
   "source": [
    "# Apache Cassandra - Installation\n",
    "\n",
    "## Steps to Download and Install Cassandra\n",
    "\n",
    "In order to run Cassandra on your local machine, there are a number of steps to follow which include:\n",
    "- Updating your current software packages\n",
    "- Ensuring the required Java version and Python packages are installed\n",
    "- Configuring the `JAVA_HOME` in the `.bashrc` file\n",
    "- Updating the repository tools and keys to include Cassandra\n",
    "- Downloading and install the recommended Cassandra version\n",
    "- Configuring Cassandra (Optional)\n",
    "- Running the Cassandra shell\n",
    "\n",
    "Let's begin:"
   ]
  },
  {
   "cell_type": "markdown",
   "metadata": {},
   "source": [
    "#### 1. Update Available Software\n",
    "\n",
    "This is required to ensure all packages are up-to-date. To do this, run the below commands from the terminal:\n"
   ]
  },
  {
   "cell_type": "code",
   "execution_count": null,
   "metadata": {},
   "outputs": [],
   "source": [
    "# Update all available software\n",
    "sudo apt update\n",
    "sudo apt upgrade"
   ]
  },
  {
   "cell_type": "markdown",
   "metadata": {},
   "source": [
    "Wait until all steps are finished before moving to the next step."
   ]
  },
  {
   "cell_type": "markdown",
   "metadata": {},
   "source": [
    "#### 2. Check Java Version \n",
    "\n",
    "We need to ensure that you have `Java 8` installed on your machine. Cassandra requires this specific version of Java to work correctly.\n",
    "\n",
    "Run the below command to check the current Java version installed (if any):"
   ]
  },
  {
   "cell_type": "code",
   "execution_count": null,
   "metadata": {},
   "outputs": [],
   "source": [
    "# Check Java version\n",
    "java -version"
   ]
  },
  {
   "cell_type": "markdown",
   "metadata": {},
   "source": [
    "If Java 8 is installed, you should see output similar to:\n",
    "<p align=\"center\">\n",
    "  <img src=\"./images/java-8.png\" width=800>\n",
    "  <figcaption align=\"center\"><cite>Java Version</cite></figcaption>\n",
    "</p>"
   ]
  },
  {
   "cell_type": "markdown",
   "metadata": {},
   "source": [
    "If `Java 8` is not installed, or if another version of Java is installed, you'll need to install `Java 8` by running the below command:"
   ]
  },
  {
   "cell_type": "code",
   "execution_count": null,
   "metadata": {},
   "outputs": [],
   "source": [
    "# Install Java 8\n",
    "sudo apt install openjdk-8-jdk -y"
   ]
  },
  {
   "cell_type": "markdown",
   "metadata": {},
   "source": [
    "Now you may have several Java versions installed. To select `Java 8`, run the below command and enter the number corresponding to `Java 8`:"
   ]
  },
  {
   "cell_type": "code",
   "execution_count": null,
   "metadata": {},
   "outputs": [],
   "source": [
    "# Show all installed Java versions\n",
    "sudo update-alternatives --config java"
   ]
  },
  {
   "cell_type": "markdown",
   "metadata": {},
   "source": [
    "#### 3. Set `JAVA_HOME`\n",
    "\n",
    "Make sure `JAVA_HOME` and `PATH` are set up correctly in the `~/.bashrc` file. To do this, run the following command to open the file:"
   ]
  },
  {
   "cell_type": "code",
   "execution_count": null,
   "metadata": {},
   "outputs": [],
   "source": [
    "# Open the .bashrc file\n",
    "sudo nano ~/.bashrc"
   ]
  },
  {
   "cell_type": "markdown",
   "metadata": {},
   "source": [
    "Add the following to the end of the file (if they don't already exist), then save and exit:"
   ]
  },
  {
   "cell_type": "code",
   "execution_count": null,
   "metadata": {},
   "outputs": [],
   "source": [
    "export JAVA_HOME=/usr/lib/jvm/java-8-openjdk-amd64\n",
    "export PATH=$PATH:$JAVA_HOME/bin\n"
   ]
  },
  {
   "cell_type": "markdown",
   "metadata": {},
   "source": [
    "If changes were done to the `~/.bashrc` file, let's apply the changes by running the below command:"
   ]
  },
  {
   "cell_type": "code",
   "execution_count": null,
   "metadata": {},
   "outputs": [],
   "source": [
    "# Apply changes made to the .bashrc file\n",
    "source ~/.bashrc"
   ]
  },
  {
   "cell_type": "markdown",
   "metadata": {},
   "source": [
    "#### 4. Install Python\n",
    "\n",
    "Next, we need to ensure that you have `Python3` installed on your system. Python is required to run the Cassandra (CQL) shell.\n",
    "\n",
    "To do this, run the below command:"
   ]
  },
  {
   "cell_type": "code",
   "execution_count": null,
   "metadata": {},
   "outputs": [],
   "source": [
    "# Check Python version\n",
    "python3 --version"
   ]
  },
  {
   "cell_type": "markdown",
   "metadata": {},
   "source": [
    "If Python is installed, you should see output similar to:\n",
    "\n",
    "<p align=\"center\">\n",
    "  <img src=\"./images/cassandra-python3.png\" width=600>\n",
    "  <figcaption align=\"center\"><cite>Python Version</cite></figcaption>\n",
    "</p>"
   ]
  },
  {
   "cell_type": "markdown",
   "metadata": {},
   "source": [
    "If Python is not installed, install it by following the below command:"
   ]
  },
  {
   "cell_type": "code",
   "execution_count": null,
   "metadata": {},
   "outputs": [],
   "source": [
    "# Install Python\n",
    "sudo apt-get install python3"
   ]
  },
  {
   "cell_type": "markdown",
   "metadata": {},
   "source": [
    "#### 5. Add Cassandra v3.1.1 (which we'll be using) to Source List\n",
    "\n",
    "This is required before installing the tool. To do this, run the below command from the terminal:"
   ]
  },
  {
   "cell_type": "code",
   "execution_count": null,
   "metadata": {},
   "outputs": [],
   "source": [
    "# Add Cassandra to the Linux source list\n",
    "echo \"deb https://downloads.apache.org/cassandra/debian 311x main\" | sudo tee -a /etc/apt/sources.list.d/cassandra.sources.list"
   ]
  },
  {
   "cell_type": "markdown",
   "metadata": {},
   "source": [
    "#### 6. Add the Cassandra Repository Keys"
   ]
  },
  {
   "cell_type": "code",
   "execution_count": null,
   "metadata": {},
   "outputs": [],
   "source": [
    "# Add the Cassandra repository keys\n",
    "curl https://downloads.apache.org/cassandra/KEYS | sudo apt-key add -"
   ]
  },
  {
   "cell_type": "markdown",
   "metadata": {},
   "source": [
    "#### 7.  Update Linux Repositories (again)\n",
    "\n",
    "This is required in order to refresh all tools and software we just downloaded (Java, Python and Cassandra).\n",
    "\n",
    "Run the below command:"
   ]
  },
  {
   "cell_type": "code",
   "execution_count": null,
   "metadata": {},
   "outputs": [],
   "source": [
    "# Update the Linux repository and software\n",
    "sudo apt update && sudo apt upgrade"
   ]
  },
  {
   "cell_type": "markdown",
   "metadata": {},
   "source": [
    "#### 8. Install Cassandra\n",
    "\n",
    "Now that we have all the preperation steps complete, it's time to install Cassandra itself.\n",
    "\n",
    "To do this, run the below command:"
   ]
  },
  {
   "cell_type": "code",
   "execution_count": null,
   "metadata": {},
   "outputs": [],
   "source": [
    "# Install Cassandra\n",
    "sudo apt install cassandra"
   ]
  },
  {
   "cell_type": "markdown",
   "metadata": {},
   "source": [
    "#### 9. Check Installation was Successful\n",
    "\n",
    "After the installation completes, we should check to ensure that everything is working properly. One tool we can use to check this is the `nodetool`. \n",
    "\n",
    "Let's check the status of the Cassandra installation by running the below command:"
   ]
  },
  {
   "cell_type": "code",
   "execution_count": null,
   "metadata": {},
   "outputs": [],
   "source": [
    "nodetool status "
   ]
  },
  {
   "cell_type": "markdown",
   "metadata": {},
   "source": [
    "If everything works smoothly, you should see the below output:\n",
    "\n",
    "<p align=\"center\">\n",
    "  <img src=\"./images/cassandra-nodetool-status2.png\" width=900>\n",
    "  <figcaption align=\"center\"><cite>Nodetool</cite></figcaption>\n",
    "</p>\n",
    "\n",
    "Another way to check the Cassandra service is by running the below command:"
   ]
  },
  {
   "cell_type": "code",
   "execution_count": null,
   "metadata": {},
   "outputs": [],
   "source": [
    "sudo service cassandra status"
   ]
  },
  {
   "cell_type": "markdown",
   "metadata": {},
   "source": [
    "You should see the below output, notice it is saying the service is currently inactive:\n",
    "<p align=\"center\">\n",
    "  <img src=\"./images/cassandra-service.png\" width=800>\n",
    "  <figcaption align=\"center\"><cite>Cassandra Status</cite></figcaption>\n",
    "</p>\n"
   ]
  },
  {
   "cell_type": "markdown",
   "metadata": {},
   "source": [
    "#### 10. Run the Cassandra Shell \n",
    "\n",
    "The Cassandra shell is how we interact with the tool, query data etc.\n",
    "\n",
    "Let's go ahead and start the shell by running the below command:"
   ]
  },
  {
   "cell_type": "code",
   "execution_count": null,
   "metadata": {},
   "outputs": [],
   "source": [
    "# Should we put something in before this to start cassandra with sudo systemctl start cassandra\n",
    "# Start the Cassandra shell\n",
    "sudo cqlsh"
   ]
  },
  {
   "cell_type": "markdown",
   "metadata": {},
   "source": [
    "If all goes well, you should see the output below:\n",
    "\n",
    "<p align=\"center\">\n",
    "  <img src=\"./images/cassandra-cqlsh.png\" width=800>\n",
    "  <figcaption align=\"center\"><cite>Cassandra Shell</cite></figcaption>\n",
    "</p>\n",
    "\n",
    "\n",
    "\n",
    "Cassandra is now ready to be used."
   ]
  },
  {
   "cell_type": "markdown",
   "metadata": {},
   "source": [
    "#### 11. Configure Cassandra (Optional)\n",
    "\n",
    "Depending on our requirements, we may need to configure some parameters. The main parameters can be configured from the `cassandra.yaml` file. \n",
    "\n",
    "_Note: No changes to the configuration are required to run Cassandra in a stand-alone, one-node cluster. This is merely for informational purposes._\n",
    "\n",
    "`cassandra.yaml` can be located within the `/etc/cassandra/` directory.  Let's go ahead and open the file:"
   ]
  },
  {
   "cell_type": "code",
   "execution_count": null,
   "metadata": {},
   "outputs": [],
   "source": [
    "sudo nano /etc/cassandra/cassandra.yaml"
   ]
  },
  {
   "cell_type": "markdown",
   "metadata": {},
   "source": [
    "_Note: Some settings you may want to change if you are running a real production environment include:_\n",
    "- _cluster_name_:\n",
    "    - This is the name assigned to the Cassandra cluster\n",
    "- _seed_provider_:\n",
    "    - In a real cluster, you have to add the IP of every computer node under `seeds`"
   ]
  },
  {
   "cell_type": "markdown",
   "metadata": {},
   "source": [
    "## Key Takeaways\n",
    "\n",
    "- In order to run Cassandra, you need to have compatible Java and Python versions installed\n",
    "- To interact with Cassandra, we can use the Cassandra Shell\n",
    "- Depending on our requirements, we may need to configure some parameters within the `cassandra.yaml` file in order to ensure it works smoothly"
   ]
  }
 ],
 "metadata": {
  "language_info": {
   "name": "python"
  },
  "orig_nbformat": 4
 },
 "nbformat": 4,
 "nbformat_minor": 2
}
