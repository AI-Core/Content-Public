{
 "cells": [
  {
   "cell_type": "markdown",
   "id": "c4d9f0e6",
   "metadata": {},
   "source": [
    "# Numpy\n"
   ]
  },
  {
   "cell_type": "markdown",
   "id": "64a6737d",
   "metadata": {},
   "source": [
    "> <font size=+1>Numpy is a scientific standard for handling multidimensional data in Python</font>\n",
    "\n",
    "__This is one of the most if not the most important library for Python__, because:\n",
    "- It is a core of many scientific stacks:\n",
    "    - Underlying library for __Pandas__ (we will learn about it later)\n",
    "    - API parity (or similarity) with __PyTorch__ or __Tensorflow__, two of the main Deep Learning libraries for Python\n",
    "    - Many third party libraries implement ideas we will see here, such as dimensionality\n",
    "    \n",
    "Its popularity could be attributed to a few key traits:\n",
    "- Ease of use\n",
    "- Efficienty: Numpy is built on top of C (Python acts as a front-end)\n",
    "- Intuitive syntax\n",
    "- It \"just works\" as you'd expect (and would like it to)\n"
   ]
  },
  {
   "cell_type": "markdown",
   "id": "bf6107d2",
   "metadata": {},
   "source": [
    "\n",
    "## Installation\n"
   ]
  },
  {
   "cell_type": "markdown",
   "id": "e3b5de31",
   "metadata": {},
   "source": [
    "We can install numpy really easily via `pip` or `conda` (available in the main `conda` channel) via:\n",
    "\n",
    "```bash\n",
    "pip install numpy\n",
    "```\n",
    "\n",
    "```\n",
    "conda install numpy\n",
    "```"
   ]
  },
  {
   "cell_type": "code",
   "execution_count": 2,
   "id": "bd7da0f0",
   "metadata": {},
   "outputs": [
    {
     "name": "stdout",
     "output_type": "stream",
     "text": [
      "Requirement already satisfied: numpy in /Library/Frameworks/Python.framework/Versions/3.9/lib/python3.9/site-packages (1.22.2)\n",
      "\u001b[33mWARNING: You are using pip version 21.2.1; however, version 22.0.3 is available.\n",
      "You should consider upgrading via the '/Library/Frameworks/Python.framework/Versions/3.9/bin/python3.9 -m pip install --upgrade pip' command.\u001b[0m\n"
     ]
    }
   ],
   "source": [
    "!pip install numpy"
   ]
  },
  {
   "cell_type": "markdown",
   "id": "beba850e",
   "metadata": {},
   "source": [
    "Once installed, the canonical way to import it in Python is giving it the alias `np`, so it will look like:"
   ]
  },
  {
   "cell_type": "markdown",
   "id": "f9bd1e7b",
   "metadata": {},
   "source": [
    "`import numpy as np`"
   ]
  },
  {
   "cell_type": "markdown",
   "id": "01d2c7d1",
   "metadata": {},
   "source": [
    "Let's take a look at the some of the most common elements you will find in Numpy"
   ]
  },
  {
   "cell_type": "markdown",
   "id": "b42a8d60",
   "metadata": {},
   "source": [
    "## np.ndarray\n"
   ]
  },
  {
   "cell_type": "markdown",
   "id": "6a0aadc8",
   "metadata": {},
   "source": [
    "> <font size=+1>`np.ndarray` is highly-efficient data abstraction written in C with Python's bindings for easier usage</font>\n",
    "\n",
    "Important traits about `np.ndarray`:\n",
    "- Can have arbitrary number of dimensions\n",
    "- Single `dtype`__ (type of data), usually numeric, for example:\n",
    "    - `float32` (a.k.a. `float`)\n",
    "    - `float64` (a.k.a. `double`); __default__\n",
    "    - `int32` (a.k.a. `int`)\n",
    "- __Has to be \"rectangle-like\"__:\n",
    "    - We cannot have `3` lists of different sizes in a single `np.ndarray`"
   ]
  },
  {
   "cell_type": "markdown",
   "id": "244ddb3e",
   "metadata": {},
   "source": [
    "You can generate ndarrays using this method. However, it might not be very intuitive at the beginning, since we need to pass the dimension of the matrix we want to generate, and `ndarray` will populate it with random numbers"
   ]
  },
  {
   "cell_type": "code",
   "execution_count": 1,
   "id": "967b4109",
   "metadata": {},
   "outputs": [
    {
     "name": "stdout",
     "output_type": "stream",
     "text": [
      "[[-1.49166815e-154 -2.68678217e+154]\n",
      " [ 9.88131292e-324  2.78134232e-309]]\n"
     ]
    }
   ],
   "source": [
    "import numpy as np\n",
    "\n",
    "nd_array1 = np.ndarray((2, 2))\n",
    "print(nd_array1)"
   ]
  },
  {
   "cell_type": "markdown",
   "id": "c8f16a79",
   "metadata": {},
   "source": [
    "To create `ndarrays` out of an object we already have, for example, a list, we can use the `array` method"
   ]
  },
  {
   "cell_type": "markdown",
   "id": "9687cd71",
   "metadata": {},
   "source": [
    "\n",
    "### np.array vs np.ndarray\n"
   ]
  },
  {
   "cell_type": "markdown",
   "id": "0f09c148",
   "metadata": {},
   "source": [
    "> __`np.array` IS A FACTORY METHOD which creates `np.ndarray` (numpy N-dimensional array) objects__\n",
    "\n",
    "What is a factory method?\n",
    "\n",
    "> Factory methods are methods which, dependent on the input we pass to it __returns different object types__\n",
    "\n",
    "Let's see:\n",
    "- How to create `np.ndarray` object from Python's objects (`list` and `tuple`)\n",
    "- How the type is inferred based on content\n",
    "- Uniform presentation of arrays on Python level (`type(array)`)\n",
    "\n",
    "> __You should always use `np.array` in order to create an array because it infers `dtype` correctly!__"
   ]
  },
  {
   "cell_type": "code",
   "execution_count": 2,
   "id": "45f1635e",
   "metadata": {},
   "outputs": [
    {
     "name": "stdout",
     "output_type": "stream",
     "text": [
      "[1 2 3 4]\n",
      "[[1. 2. 3. 4.]\n",
      " [5. 6. 7. 8.]]\n"
     ]
    },
    {
     "data": {
      "text/plain": [
       "(dtype('int64'), numpy.ndarray, dtype('float64'), numpy.ndarray)"
      ]
     },
     "execution_count": 2,
     "metadata": {},
     "output_type": "execute_result"
    }
   ],
   "source": [
    "import numpy as np  # always use this alias!\n",
    "\n",
    "# Defining arrays\n",
    "arr1d_int = np.array([1, 2, 3, 4])\n",
    "arr2d_float = np.array(((1, 2, 3, 4), (5, 6, 7, 8.0)))  # Notice 8.0\n",
    "\n",
    "print(arr1d_int)\n",
    "print(arr2d_float)\n",
    "arr1d_int.dtype, type(arr1d_int), arr2d_float.dtype, type(arr2d_float)"
   ]
  },
  {
   "cell_type": "markdown",
   "id": "b99f9a9d",
   "metadata": {},
   "source": [
    "Notice that, just by adding a float to the array, the whole array now contains solely floats."
   ]
  },
  {
   "cell_type": "markdown",
   "id": "cc265e4e",
   "metadata": {},
   "source": [
    "### Changing data type\n"
   ]
  },
  {
   "cell_type": "markdown",
   "id": "c87cb62e",
   "metadata": {},
   "source": [
    "Sometimes we would like to use different data type than the one inferred.\n",
    "\n",
    "There are two basic approaches to obtain that:\n",
    "- Specifying during creation\n",
    "- __Casting__ via `.astype` (__new array is created, THIS IS NOT DONE IN-PLACE__ as new array has to be\n",
    "\n",
    "Let's see casting first:"
   ]
  },
  {
   "cell_type": "code",
   "execution_count": 3,
   "id": "c556c4f0",
   "metadata": {},
   "outputs": [
    {
     "name": "stdout",
     "output_type": "stream",
     "text": [
      "int64\n"
     ]
    },
    {
     "data": {
      "text/plain": [
       "dtype('int8')"
      ]
     },
     "execution_count": 3,
     "metadata": {},
     "output_type": "execute_result"
    }
   ],
   "source": [
    "# Failed attempt, new array returned \n",
    "arr1d_int.astype(\"int8\")\n",
    "print(arr1d_int.dtype)\n",
    "\n",
    "# Correct way, new object is assigned to itself\n",
    "arr1d_int = arr1d_int.astype(\"int8\")\n",
    "\n",
    "arr1d_int.dtype"
   ]
  },
  {
   "cell_type": "code",
   "execution_count": 4,
   "id": "b1c74fd4",
   "metadata": {},
   "outputs": [],
   "source": [
    "# We can also specify it as `np.TYPE` object\n",
    "new_arr = np.array([1, 2, 3], dtype=np.int8) # or \"int8\" string"
   ]
  },
  {
   "cell_type": "markdown",
   "id": "04ec0349",
   "metadata": {},
   "source": [
    "## Data layout\n",
    "\n",
    "> __`np.ndarray` is kept in memory as `1D` array of contiguous values__\n",
    "\n",
    "If so, how can we have, for example, `3D` array? Numpy has everything stored in a \"single line\", but it has an attribute called _stride_ that helps to know how the data is distributed.\n",
    "\n",
    "### strides\n",
    "\n",
    "> __Strides define HOW MANY BYTES one need to traverse in order to get next element for each dimension__\n",
    "\n",
    "<p align=center><img src=images/numpy_memory_layout.png width=600></p>\n",
    "\n",
    "<p align=center><img src=images/numpy_strides.svg width=600></p>\n",
    "\n",
    "Let's see what these are for our two arrays:"
   ]
  },
  {
   "cell_type": "code",
   "execution_count": 5,
   "id": "78309c95",
   "metadata": {},
   "outputs": [
    {
     "name": "stdout",
     "output_type": "stream",
     "text": [
      "Int1D itemsize: 1\n",
      "Int1D strides: (1,)\n",
      "Float2D itemsize: 8\n",
      "Float2D strides: (32, 8)\n",
      "    \n"
     ]
    }
   ],
   "source": [
    "print(\n",
    "    f\"\"\"Int1D itemsize: {arr1d_int.itemsize}\n",
    "Int1D strides: {arr1d_int.strides}\n",
    "Float2D itemsize: {arr2d_float.itemsize}\n",
    "Float2D strides: {arr2d_float.strides}\n",
    "    \"\"\"\n",
    ")"
   ]
  },
  {
   "cell_type": "markdown",
   "id": "3031ef49",
   "metadata": {},
   "source": [
    "- `itemsize` - specifies how many bytes are used for the data type\n",
    "- `stride` - specifies how many bytes we have to jump in order to move to the next element"
   ]
  },
  {
   "cell_type": "code",
   "execution_count": 6,
   "id": "7df355d2",
   "metadata": {},
   "outputs": [
    {
     "name": "stdout",
     "output_type": "stream",
     "text": [
      "[[0 1 2]\n",
      " [3 4 5]\n",
      " [6 7 8]]\n",
      "The data type of each element is: int64\n",
      "The length of each element in bytes is: 8\n",
      "The strides of the data types is: (24, 8)\n"
     ]
    }
   ],
   "source": [
    "# Explain values below based on the code and output\n",
    "\n",
    "arr = np.arange(9).reshape(3, 3)\n",
    "\n",
    "print(arr)\n",
    "print(f'The data type of each element is: {arr.dtype}')\n",
    "print(f'The length of each element in bytes is: {arr.itemsize}')\n",
    "print(f'The strides of the data types is: {arr.strides}')"
   ]
  },
  {
   "cell_type": "markdown",
   "id": "194c2075",
   "metadata": {},
   "source": [
    "Makes sense right? The second element in the tuple is the amount of bytes we need to \"move to the right\" and the first element is the number of bytes we need to \"move to the next row\""
   ]
  },
  {
   "cell_type": "markdown",
   "id": "d6b72372",
   "metadata": {},
   "source": [
    "We can also transposed our array, let's see how this changes our strides\n",
    "\n",
    "<p align=center><img src=images/numpy_strides_transposed.svg width=600></p>\n",
    "\n",
    "__Take note that__:\n",
    "- Our internal data was \"moved\" around\n",
    "- __Why would we need it, wouldn't change in strides suffice?__"
   ]
  },
  {
   "cell_type": "code",
   "execution_count": 7,
   "id": "967ce622",
   "metadata": {},
   "outputs": [
    {
     "name": "stdout",
     "output_type": "stream",
     "text": [
      "[[0 3 6]\n",
      " [1 4 7]\n",
      " [2 5 8]]\n"
     ]
    },
    {
     "data": {
      "text/plain": [
       "(8, 24)"
      ]
     },
     "execution_count": 7,
     "metadata": {},
     "output_type": "execute_result"
    }
   ],
   "source": [
    "transposed = arr.T\n",
    "\n",
    "print(transposed)\n",
    "transposed.strides"
   ]
  },
  {
   "cell_type": "markdown",
   "id": "58136058",
   "metadata": {},
   "source": [
    "## shape\n"
   ]
  },
  {
   "cell_type": "markdown",
   "id": "aa64fef0",
   "metadata": {},
   "source": [
    "> `<our_array>.shape` returns dimensionality of `<our_array>`\n",
    "\n",
    "It is one of the most often used attributes in `numpy` and scientific computing so keep that in mind!\n"
   ]
  },
  {
   "cell_type": "markdown",
   "id": "93226b1d",
   "metadata": {},
   "source": [
    "## Creating `np.ndarray`s\n"
   ]
  },
  {
   "cell_type": "markdown",
   "id": "caa429dd",
   "metadata": {},
   "source": [
    "Numpy allows us to easily create data in multiple ways, namely:\n",
    "- __From standard Python structures (`list`s or `tuple`s)__ (possibly nested)\n",
    "- __Direct creation of `np.ndarray`__ via:\n",
    "    - random operations (elements are taken from some distribution)\n",
    "    - using single value (zeros, ones, `eye` with some value)\n",
    "    \n",
    "Let's see a few creational operations (__all of them are listed [here](https://numpy.org/doc/stable/reference/routines.array-creation.html)__). Usually, the arguments we pass to them is the dimensions we want to give to the matrix"
   ]
  },
  {
   "cell_type": "code",
   "execution_count": 21,
   "id": "f77e2038",
   "metadata": {},
   "outputs": [
    {
     "name": "stdout",
     "output_type": "stream",
     "text": [
      "[[1. 1.]\n",
      " [1. 1.]\n",
      " [1. 1.]]\n",
      "Shape of \"one\" is: (3, 2)\n",
      "[[0. 0.]\n",
      " [0. 0.]\n",
      " [0. 0.]]\n",
      "Shape of \"zeros\" is: (3, 2)\n",
      "[[1. 0. 0.]\n",
      " [0. 1. 0.]\n",
      " [0. 0. 1.]]\n",
      "Shape of \"identity\" is: (3, 3)\n"
     ]
    }
   ],
   "source": [
    "ones = np.ones((3, 2)) # 2D matrix filled with ones\n",
    "zeros = np.zeros_like(ones) # 2D zero matrix filled with zeros of the same shape as ones and zeros\n",
    "identity = np.eye(3)\n",
    "\n",
    "print(ones)\n",
    "print(f'Shape of \"one\" is: {ones.shape}')\n",
    "print(zeros)\n",
    "print(f'Shape of \"zeros\" is: {zeros.shape}')\n",
    "print(identity)\n",
    "print(f'Shape of \"identity\" is: {identity.shape}')\n"
   ]
  },
  {
   "cell_type": "markdown",
   "id": "1c607da0",
   "metadata": {},
   "source": [
    "## Creating random np.array\n"
   ]
  },
  {
   "cell_type": "markdown",
   "id": "4c3b4387",
   "metadata": {},
   "source": [
    "> `numpy` provides means to create random arrays (for example defined by some distribution)\n",
    "\n",
    "[Here](https://numpy.org/doc/stable/reference/random/index.html) you can see a full list of possibilities,\n",
    "__all of them are located in `random` module__.\n",
    "\n",
    "Example usage:"
   ]
  },
  {
   "cell_type": "code",
   "execution_count": 54,
   "id": "5985d890",
   "metadata": {},
   "outputs": [
    {
     "data": {
      "text/plain": [
       "array([-0.24254289,  0.7083943 , -0.33446633,  0.42426222, -1.99369232,\n",
       "        0.80625689, -0.54320899,  2.36829641, -0.20734505, -0.59212398])"
      ]
     },
     "execution_count": 54,
     "metadata": {},
     "output_type": "execute_result"
    }
   ],
   "source": [
    "vals = np.random.standard_normal(10)\n",
    "\n",
    "vals"
   ]
  },
  {
   "cell_type": "code",
   "execution_count": 58,
   "id": "5b630898",
   "metadata": {},
   "outputs": [
    {
     "data": {
      "text/plain": [
       "array([[-0.74751218,  0.09683241,  0.48627724, -0.60063956],\n",
       "       [ 1.47518089,  2.11843449, -1.02584517,  0.19524806],\n",
       "       [ 1.11244104, -0.59861959,  0.61149984,  0.67560329]])"
      ]
     },
     "execution_count": 58,
     "metadata": {},
     "output_type": "execute_result"
    }
   ],
   "source": [
    "# Random NORMAL distribution (mean: 0 and stddev: 1)\n",
    "vals = np.random.randn(3, 4)\n",
    "\n",
    "vals"
   ]
  },
  {
   "cell_type": "code",
   "execution_count": 59,
   "id": "490b9690",
   "metadata": {},
   "outputs": [
    {
     "data": {
      "text/plain": [
       "array([[0.98468015, 0.37304705, 0.53834982, 0.33175601],\n",
       "       [0.3772029 , 0.5516284 , 0.16610994, 0.2366541 ],\n",
       "       [0.50624113, 0.64051987, 0.27737038, 0.32808795]])"
      ]
     },
     "execution_count": 59,
     "metadata": {},
     "output_type": "execute_result"
    }
   ],
   "source": [
    "# Random UNIFORM distribution (0, 1 range)\n",
    "vals = np.random.rand(3, 4)\n",
    "\n",
    "vals"
   ]
  },
  {
   "cell_type": "markdown",
   "id": "cc476e78",
   "metadata": {},
   "source": [
    "## Operations on arrays\n"
   ]
  },
  {
   "cell_type": "markdown",
   "id": "76ee8db5",
   "metadata": {},
   "source": [
    "> __`numpy` provides a lot of mathematical functions via easy to use notation__\n",
    "\n",
    "Most of the operations are done \"element-wise\" (each element with respective elements of the other array):\n",
    "- addition: `+`\n",
    "- subtraction: `-`\n",
    "- multiplication: `*`\n",
    "- bitwise operations (when array is boolean)\n",
    "\n",
    "and many others (__see [here](https://scipy-lectures.org/intro/numpy/operations.html) for more examples__)"
   ]
  },
  {
   "cell_type": "code",
   "execution_count": 26,
   "id": "ce1b71c2",
   "metadata": {},
   "outputs": [
    {
     "name": "stdout",
     "output_type": "stream",
     "text": [
      "[[5 5 5]\n",
      " [5 5 5]\n",
      " [5 5 5]]\n",
      "    +    \n",
      "[[1 0 0]\n",
      " [0 1 0]\n",
      " [0 0 1]]\n",
      "    =    \n",
      "[[6 5 5]\n",
      " [5 6 5]\n",
      " [5 5 6]]\n"
     ]
    }
   ],
   "source": [
    "arr1 = np.full((3, 3), fill_value = 5)\n",
    "identity_1 = np.eye(arr1.shape[0], dtype='int64') \n",
    "print(arr1)\n",
    "print('    +    ')\n",
    "print(identity_1)\n",
    "print('    =    ')\n",
    "print(arr1 + identity_1)"
   ]
  },
  {
   "cell_type": "markdown",
   "id": "463afc11",
   "metadata": {},
   "source": [
    "## Mathematical functions\n"
   ]
  },
  {
   "cell_type": "markdown",
   "id": "cc806634",
   "metadata": {},
   "source": [
    "> `numpy` provides a lot of math functions (e.g. trigonometric)\n",
    "\n",
    "Traits:\n",
    "- Works on any array (usually element-wise) with some edge-case exceptions\n",
    "- Optimized C implementations\n",
    "- Provided in the `np` namespace\n",
    "\n",
    "> All of the available operations are listed [here](https://numpy.org/doc/stable/reference/routines.math.html)\n",
    "\n",
    "Let's see an example below:"
   ]
  },
  {
   "cell_type": "code",
   "execution_count": 51,
   "id": "6a0be839",
   "metadata": {
    "scrolled": true
   },
   "outputs": [
    {
     "data": {
      "text/plain": [
       "array([[ 0.41352406, 11.65427351, 11.65427351],\n",
       "       [11.65427351,  0.41352406, 11.65427351],\n",
       "       [11.65427351, 11.65427351,  0.41352406]])"
      ]
     },
     "execution_count": 51,
     "metadata": {},
     "output_type": "execute_result"
    }
   ],
   "source": [
    "# np.e and np.pi are predefined constant \n",
    "\n",
    "(np.cos(arr1) - np.sin(arr1) ** 3) / (np.eye(arr1.shape[0]) * np.e + 0.1)"
   ]
  },
  {
   "cell_type": "markdown",
   "id": "b5d939a8",
   "metadata": {},
   "source": [
    "## Linear algebra operations\n",
    "\n",
    "> `numpy` provides linear algebra functionalities __located within `np.linalg` submodule__\n",
    "\n",
    "See [here](https://numpy.org/doc/stable/reference/routines.linalg.html) for available functionalities.\n",
    "\n",
    "Some of them are provided as overloaded operations, namely __matrix multiplication__:"
   ]
  },
  {
   "cell_type": "code",
   "execution_count": 14,
   "id": "08df9155",
   "metadata": {},
   "outputs": [
    {
     "ename": "ValueError",
     "evalue": "matmul: Input operand 1 has a mismatch in its core dimension 0, with gufunc signature (n?,k),(k,m?)->(n?,m?) (size 6 is different from 5)",
     "output_type": "error",
     "traceback": [
      "\u001b[0;31m---------------------------------------------------------------------------\u001b[0m",
      "\u001b[0;31mValueError\u001b[0m                                Traceback (most recent call last)",
      "\u001b[0;32m/var/folders/3z/29w5rr9d0k3_p863hm40sdnc0000gn/T/ipykernel_8046/1998573976.py\u001b[0m in \u001b[0;36m<module>\u001b[0;34m\u001b[0m\n\u001b[1;32m      3\u001b[0m \u001b[0mX\u001b[0m\u001b[0;34m,\u001b[0m \u001b[0my\u001b[0m \u001b[0;34m=\u001b[0m \u001b[0mnp\u001b[0m\u001b[0;34m.\u001b[0m\u001b[0mrandom\u001b[0m\u001b[0;34m.\u001b[0m\u001b[0mrandn\u001b[0m\u001b[0;34m(\u001b[0m\u001b[0;36m10\u001b[0m\u001b[0;34m,\u001b[0m \u001b[0;36m5\u001b[0m\u001b[0;34m)\u001b[0m\u001b[0;34m,\u001b[0m \u001b[0mnp\u001b[0m\u001b[0;34m.\u001b[0m\u001b[0mrandom\u001b[0m\u001b[0;34m.\u001b[0m\u001b[0mrandn\u001b[0m\u001b[0;34m(\u001b[0m\u001b[0;36m6\u001b[0m\u001b[0;34m,\u001b[0m \u001b[0;36m3\u001b[0m\u001b[0;34m)\u001b[0m\u001b[0;34m\u001b[0m\u001b[0;34m\u001b[0m\u001b[0m\n\u001b[1;32m      4\u001b[0m \u001b[0;34m\u001b[0m\u001b[0m\n\u001b[0;32m----> 5\u001b[0;31m \u001b[0;34m(\u001b[0m\u001b[0mX\u001b[0m \u001b[0;34m@\u001b[0m \u001b[0my\u001b[0m\u001b[0;34m)\u001b[0m\u001b[0;34m.\u001b[0m\u001b[0mshape\u001b[0m\u001b[0;34m\u001b[0m\u001b[0;34m\u001b[0m\u001b[0m\n\u001b[0m",
      "\u001b[0;31mValueError\u001b[0m: matmul: Input operand 1 has a mismatch in its core dimension 0, with gufunc signature (n?,k),(k,m?)->(n?,m?) (size 6 is different from 5)"
     ]
    }
   ],
   "source": [
    "# Inner dimensions must match!\n",
    "\n",
    "X, y = np.random.randn(10, 5), np.random.randn(6, 3)\n",
    "\n",
    "(X @ y).shape"
   ]
  },
  {
   "cell_type": "code",
   "execution_count": 11,
   "id": "86dd83ae",
   "metadata": {},
   "outputs": [
    {
     "ename": "TypeError",
     "evalue": "Cannot interpret '3' as a data type",
     "output_type": "error",
     "traceback": [
      "\u001b[0;31m---------------------------------------------------------------------------\u001b[0m",
      "\u001b[0;31mTypeError\u001b[0m                                 Traceback (most recent call last)",
      "\u001b[0;32m/var/folders/3z/29w5rr9d0k3_p863hm40sdnc0000gn/T/ipykernel_8046/395221405.py\u001b[0m in \u001b[0;36m<module>\u001b[0;34m\u001b[0m\n\u001b[0;32m----> 1\u001b[0;31m \u001b[0mx\u001b[0m \u001b[0;34m=\u001b[0m \u001b[0mnp\u001b[0m\u001b[0;34m.\u001b[0m\u001b[0mndarray\u001b[0m\u001b[0;34m(\u001b[0m\u001b[0;36m2\u001b[0m\u001b[0;34m,\u001b[0m \u001b[0;36m3\u001b[0m\u001b[0;34m)\u001b[0m\u001b[0;34m\u001b[0m\u001b[0;34m\u001b[0m\u001b[0m\n\u001b[0m",
      "\u001b[0;31mTypeError\u001b[0m: Cannot interpret '3' as a data type"
     ]
    }
   ],
   "source": [
    "x = np.ndarray((2, 3)"
   ]
  },
  {
   "cell_type": "code",
   "execution_count": 29,
   "id": "4952abee",
   "metadata": {},
   "outputs": [
    {
     "data": {
      "text/plain": [
       "1.7650168848086591"
      ]
     },
     "execution_count": 29,
     "metadata": {},
     "output_type": "execute_result"
    }
   ],
   "source": [
    "A = np.random.randn(10)\n",
    "B = np.random.randn(10)\n",
    "\n",
    "np.inner(A, B)"
   ]
  },
  {
   "cell_type": "code",
   "execution_count": 77,
   "id": "69c29ab0",
   "metadata": {},
   "outputs": [
    {
     "data": {
      "text/plain": [
       "(array([ 0.00653762+2.73914504j,  0.00653762-2.73914504j,\n",
       "        -1.45754244+1.25433401j, -1.45754244-1.25433401j,\n",
       "        -0.53901557+1.05835501j, -0.53901557-1.05835501j,\n",
       "         2.6212444 +0.85592199j,  2.6212444 -0.85592199j,\n",
       "         0.65357259+0.j        ,  1.35407656+0.j        ]),\n",
       " array([[ 5.63840421e-01+0.j        ,  5.63840421e-01-0.j        ,\n",
       "          4.43458617e-01+0.j        ,  4.43458617e-01-0.j        ,\n",
       "         -1.42880129e-01+0.18902739j, -1.42880129e-01-0.18902739j,\n",
       "         -4.06683218e-02+0.03470009j, -4.06683218e-02-0.03470009j,\n",
       "          1.03792994e-01+0.j        ,  1.04679952e-01+0.j        ],\n",
       "        [ 3.65214582e-02-0.25958872j,  3.65214582e-02+0.25958872j,\n",
       "          2.46625247e-01+0.06615217j,  2.46625247e-01-0.06615217j,\n",
       "          3.58238532e-01+0.27337585j,  3.58238532e-01-0.27337585j,\n",
       "          2.41131070e-01+0.10407014j,  2.41131070e-01-0.10407014j,\n",
       "         -2.50490697e-01+0.j        ,  4.24520201e-01+0.j        ],\n",
       "        [-1.37788927e-02+0.12618169j, -1.37788927e-02-0.12618169j,\n",
       "          2.72646850e-01+0.09944278j,  2.72646850e-01-0.09944278j,\n",
       "          1.19194639e-01-0.13274152j,  1.19194639e-01+0.13274152j,\n",
       "         -2.67499734e-01+0.03260451j, -2.67499734e-01-0.03260451j,\n",
       "         -2.44220565e-01+0.j        ,  2.61506308e-01+0.j        ],\n",
       "        [-4.15260502e-01-0.03314599j, -4.15260502e-01+0.03314599j,\n",
       "          3.91302644e-01-0.07247709j,  3.91302644e-01+0.07247709j,\n",
       "          5.36790656e-01+0.j        ,  5.36790656e-01-0.j        ,\n",
       "          5.98709584e-01+0.j        ,  5.98709584e-01-0.j        ,\n",
       "          4.12805085e-01+0.j        , -3.90289410e-01+0.j        ],\n",
       "        [ 1.80142868e-01+0.28109403j,  1.80142868e-01-0.28109403j,\n",
       "         -1.52904431e-01+0.20174399j, -1.52904431e-01-0.20174399j,\n",
       "         -2.64594325e-01+0.10131197j, -2.64594325e-01-0.10131197j,\n",
       "          1.23999892e-01+0.08958625j,  1.23999892e-01-0.08958625j,\n",
       "          3.66145874e-03+0.j        ,  2.08726122e-01+0.j        ],\n",
       "        [-1.09261000e-01-0.0378687j , -1.09261000e-01+0.0378687j ,\n",
       "         -3.23312713e-04+0.38656768j, -3.23312713e-04-0.38656768j,\n",
       "          2.21614388e-01-0.05634539j,  2.21614388e-01+0.05634539j,\n",
       "          4.37275268e-01-0.07953993j,  4.37275268e-01+0.07953993j,\n",
       "          1.79594559e-01+0.j        , -2.20346127e-01+0.j        ],\n",
       "        [ 1.23256027e-01+0.01529376j,  1.23256027e-01-0.01529376j,\n",
       "         -2.79349748e-01+0.01128344j, -2.79349748e-01-0.01128344j,\n",
       "          2.79809047e-02-0.09994979j,  2.79809047e-02+0.09994979j,\n",
       "          1.41810517e-01+0.09845562j,  1.41810517e-01-0.09845562j,\n",
       "          2.09960600e-01+0.j        , -2.64872285e-01+0.j        ],\n",
       "        [-3.05234152e-01-0.32215856j, -3.05234152e-01+0.32215856j,\n",
       "         -8.64051882e-02-0.1949205j , -8.64051882e-02+0.1949205j ,\n",
       "          1.57255441e-01-0.23448996j,  1.57255441e-01+0.23448996j,\n",
       "          3.72144499e-01+0.07890822j,  3.72144499e-01-0.07890822j,\n",
       "         -1.82694619e-03+0.j        , -1.59731354e-01+0.j        ],\n",
       "        [-2.45835687e-01-0.15528891j, -2.45835687e-01+0.15528891j,\n",
       "         -1.28570026e-01+0.22620641j, -1.28570026e-01-0.22620641j,\n",
       "         -8.89492286e-02+0.28533566j, -8.89492286e-02-0.28533566j,\n",
       "          2.60582980e-01-0.08970351j,  2.60582980e-01+0.08970351j,\n",
       "          7.38258287e-01+0.j        , -6.04695392e-01+0.j        ],\n",
       "        [-1.43656773e-02+0.04169844j, -1.43656773e-02-0.04169844j,\n",
       "          1.67817000e-01-0.25009559j,  1.67817000e-01+0.25009559j,\n",
       "          3.27748271e-01+0.03187126j,  3.27748271e-01-0.03187126j,\n",
       "         -1.12793407e-01-0.11385349j, -1.12793407e-01+0.11385349j,\n",
       "          2.73952553e-01+0.j        ,  1.86189081e-01+0.j        ]]))"
      ]
     },
     "execution_count": 77,
     "metadata": {},
     "output_type": "execute_result"
    }
   ],
   "source": [
    "# Eigen values\n",
    "\n",
    "np.linalg.eig(np.random.randn(10, 10))"
   ]
  },
  {
   "cell_type": "markdown",
   "id": "815072bb",
   "metadata": {},
   "source": [
    "## Accessing elements\n"
   ]
  },
  {
   "cell_type": "markdown",
   "id": "985d7452",
   "metadata": {},
   "source": [
    "> `numpy` allows us to access data in multiple ways\n",
    "\n",
    "Before we move on to accessing data (and advanced way to do that) you should keep the following in mind (__all the time!__):\n",
    "- __ALWAYS USE `numpy` OPERATIONS__\n",
    "- __NO FOR LOOPS KNOWN FROM PYTHON__ (every operation you do should be done purely in `numpy`)\n",
    "- You will learn more and more ways to avoid loops as we go through the course materials\n",
    "\n",
    "## Standard index-based item\n",
    "\n",
    "First, let's create a `2D` array we will use:"
   ]
  },
  {
   "cell_type": "code",
   "execution_count": 15,
   "id": "26f582fa",
   "metadata": {},
   "outputs": [
    {
     "data": {
      "text/plain": [
       "array([[ 0,  1,  2,  3],\n",
       "       [ 4,  5,  6,  7],\n",
       "       [ 8,  9, 10, 11],\n",
       "       [12, 13, 14, 15],\n",
       "       [16, 17, 18, 19]])"
      ]
     },
     "execution_count": 15,
     "metadata": {},
     "output_type": "execute_result"
    }
   ],
   "source": [
    "matrix = np.arange(20).reshape(5, 4)\n",
    "\n",
    "matrix"
   ]
  },
  {
   "cell_type": "code",
   "execution_count": 16,
   "id": "1e683ee8",
   "metadata": {},
   "outputs": [
    {
     "data": {
      "text/plain": [
       "(0, 4, 0, 8)"
      ]
     },
     "execution_count": 16,
     "metadata": {},
     "output_type": "execute_result"
    }
   ],
   "source": [
    "# Obtaining single element\n",
    "\n",
    "matrix[0, 0], matrix[1, 0], matrix[0, 1], matrix[2][0]"
   ]
  },
  {
   "cell_type": "code",
   "execution_count": 85,
   "id": "e7aa178a",
   "metadata": {},
   "outputs": [
    {
     "data": {
      "text/plain": [
       "array([0, 1, 2, 3])"
      ]
     },
     "execution_count": 85,
     "metadata": {},
     "output_type": "execute_result"
    }
   ],
   "source": [
    "# first row\n",
    "\n",
    "matrix[0]"
   ]
  },
  {
   "cell_type": "code",
   "execution_count": 86,
   "id": "0739e876",
   "metadata": {},
   "outputs": [
    {
     "data": {
      "text/plain": [
       "array([ 0,  4,  8, 12, 16])"
      ]
     },
     "execution_count": 86,
     "metadata": {},
     "output_type": "execute_result"
    }
   ],
   "source": [
    "# : means all elements\n",
    "# 0 means 0th column\n",
    "\n",
    "matrix[:, 0]"
   ]
  },
  {
   "cell_type": "code",
   "execution_count": 91,
   "id": "a67aa896",
   "metadata": {},
   "outputs": [
    {
     "data": {
      "text/plain": [
       "array([[ 8,  9, 10, 11],\n",
       "       [12, 13, 14, 15],\n",
       "       [16, 17, 18, 19]])"
      ]
     },
     "execution_count": 91,
     "metadata": {},
     "output_type": "execute_result"
    }
   ],
   "source": [
    "# Rows from second upwards\n",
    "matrix[2:]"
   ]
  },
  {
   "cell_type": "code",
   "execution_count": 92,
   "id": "5866b0e3",
   "metadata": {},
   "outputs": [
    {
     "data": {
      "text/plain": [
       "array([[ 2,  3],\n",
       "       [ 6,  7],\n",
       "       [10, 11],\n",
       "       [14, 15],\n",
       "       [18, 19]])"
      ]
     },
     "execution_count": 92,
     "metadata": {},
     "output_type": "execute_result"
    }
   ],
   "source": [
    "# Columns from second upwards\n",
    "matrix[:, 2:]"
   ]
  },
  {
   "cell_type": "code",
   "execution_count": 95,
   "id": "f5660fb7",
   "metadata": {},
   "outputs": [
    {
     "data": {
      "text/plain": [
       "array([0, 4, 8])"
      ]
     },
     "execution_count": 95,
     "metadata": {},
     "output_type": "execute_result"
    }
   ],
   "source": [
    "# Rows from zeroth to third, column 0\n",
    "matrix[:3, 0]"
   ]
  },
  {
   "cell_type": "code",
   "execution_count": 102,
   "id": "eeac113c",
   "metadata": {},
   "outputs": [
    {
     "data": {
      "text/plain": [
       "array([[ 3,  2,  1,  0],\n",
       "       [ 7,  6,  5,  4],\n",
       "       [11, 10,  9,  8],\n",
       "       [15, 14, 13, 12],\n",
       "       [19, 18, 17, 16]])"
      ]
     },
     "execution_count": 102,
     "metadata": {},
     "output_type": "execute_result"
    }
   ],
   "source": [
    "# Inverse of columns\n",
    "\n",
    "matrix[:, ::-1]"
   ]
  },
  {
   "cell_type": "code",
   "execution_count": 103,
   "id": "9fc9d72c",
   "metadata": {},
   "outputs": [
    {
     "data": {
      "text/plain": [
       "array([[19, 18, 17, 16],\n",
       "       [15, 14, 13, 12],\n",
       "       [11, 10,  9,  8],\n",
       "       [ 7,  6,  5,  4],\n",
       "       [ 3,  2,  1,  0]])"
      ]
     },
     "execution_count": 103,
     "metadata": {},
     "output_type": "execute_result"
    }
   ],
   "source": [
    "matrix[::-1, ::-1]"
   ]
  },
  {
   "cell_type": "code",
   "execution_count": 104,
   "id": "1182c39b",
   "metadata": {},
   "outputs": [
    {
     "data": {
      "text/plain": [
       "array([[19, 17],\n",
       "       [ 7,  5]])"
      ]
     },
     "execution_count": 104,
     "metadata": {},
     "output_type": "execute_result"
    }
   ],
   "source": [
    "matrix[::-3, ::-2]"
   ]
  },
  {
   "cell_type": "code",
   "execution_count": 87,
   "id": "06fb8a8a",
   "metadata": {},
   "outputs": [
    {
     "data": {
      "text/plain": [
       "(2, 2, 5)"
      ]
     },
     "execution_count": 87,
     "metadata": {},
     "output_type": "execute_result"
    }
   ],
   "source": [
    "# change to 3D tensor\n",
    "temp = matrix.reshape(2, 2, -1)\n",
    "temp.shape"
   ]
  },
  {
   "cell_type": "code",
   "execution_count": 89,
   "id": "f2b2f5f6",
   "metadata": {},
   "outputs": [
    {
     "data": {
      "text/plain": [
       "array([[ 4,  9],\n",
       "       [14, 19]])"
      ]
     },
     "execution_count": 89,
     "metadata": {},
     "output_type": "execute_result"
    }
   ],
   "source": [
    "# Same as temp[:, :, -1] e.g. last element from last dimension\n",
    "# Rest left in-tact\n",
    "# 2, 2 as we have created five 2,2 matrices\n",
    "\n",
    "temp[..., -1]"
   ]
  },
  {
   "cell_type": "markdown",
   "id": "bf385799",
   "metadata": {},
   "source": [
    "## Fancy indexing\n",
    "\n",
    "One of `numpy`'s killer features:\n",
    "\n",
    "> __Fancy indexing allows us to choose elements FROM ANY DIMENSION based on indices we provide__\n",
    "\n",
    "![](./images/numpy_fancy_indexing.png)\n",
    "\n",
    "Once again, we will use our `2D` matrix:"
   ]
  },
  {
   "cell_type": "code",
   "execution_count": 90,
   "id": "80991a99",
   "metadata": {},
   "outputs": [
    {
     "data": {
      "text/plain": [
       "array([[ 0,  1,  2,  3],\n",
       "       [ 4,  5,  6,  7],\n",
       "       [ 8,  9, 10, 11],\n",
       "       [12, 13, 14, 15],\n",
       "       [16, 17, 18, 19]])"
      ]
     },
     "execution_count": 90,
     "metadata": {},
     "output_type": "execute_result"
    }
   ],
   "source": [
    "matrix"
   ]
  },
  {
   "cell_type": "code",
   "execution_count": 97,
   "id": "4806a09b",
   "metadata": {},
   "outputs": [
    {
     "data": {
      "text/plain": [
       "array([[ 0,  2],\n",
       "       [ 4,  6],\n",
       "       [ 8, 10],\n",
       "       [12, 14],\n",
       "       [16, 18]])"
      ]
     },
     "execution_count": 97,
     "metadata": {},
     "output_type": "execute_result"
    }
   ],
   "source": [
    "# Column 0 and 2\n",
    "matrix[:, [0, 2]]"
   ]
  },
  {
   "cell_type": "code",
   "execution_count": 98,
   "id": "5518085a",
   "metadata": {},
   "outputs": [
    {
     "data": {
      "text/plain": [
       "array([[16, 17, 18, 19],\n",
       "       [16, 17, 18, 19]])"
      ]
     },
     "execution_count": 98,
     "metadata": {},
     "output_type": "execute_result"
    }
   ],
   "source": [
    "# Take last row twice\n",
    "\n",
    "matrix[[-1, -1]]"
   ]
  },
  {
   "cell_type": "code",
   "execution_count": 99,
   "id": "db77ac7a",
   "metadata": {},
   "outputs": [
    {
     "name": "stdout",
     "output_type": "stream",
     "text": [
      "[0 1 2 3 4]\n",
      "[1 4 3 0 2]\n"
     ]
    },
    {
     "data": {
      "text/plain": [
       "array([[ 4,  5,  6,  7],\n",
       "       [16, 17, 18, 19],\n",
       "       [12, 13, 14, 15],\n",
       "       [ 0,  1,  2,  3],\n",
       "       [ 8,  9, 10, 11]])"
      ]
     },
     "execution_count": 99,
     "metadata": {},
     "output_type": "execute_result"
    }
   ],
   "source": [
    "# Shuffle rows using indices\n",
    "\n",
    "indices = np.arange(matrix.shape[0])\n",
    "print(indices)\n",
    "permuted = np.random.permutation(indices)\n",
    "print(permuted)\n",
    "\n",
    "matrix[permuted]"
   ]
  },
  {
   "cell_type": "code",
   "execution_count": 100,
   "id": "705a1567",
   "metadata": {},
   "outputs": [
    {
     "data": {
      "text/plain": [
       "array([[ 0,  1,  2,  3],\n",
       "       [ 4,  5,  6,  7],\n",
       "       [12, 13, 14, 15]])"
      ]
     },
     "execution_count": 100,
     "metadata": {},
     "output_type": "execute_result"
    }
   ],
   "source": [
    "# Obtain rows based on boolean values\n",
    "\n",
    "matrix[[True, True, False, True, False]]"
   ]
  },
  {
   "cell_type": "code",
   "execution_count": 101,
   "id": "6c6e5bac",
   "metadata": {},
   "outputs": [
    {
     "name": "stdout",
     "output_type": "stream",
     "text": [
      "[[False False False False]\n",
      " [False False  True  True]\n",
      " [ True  True  True  True]\n",
      " [ True  True  True  True]\n",
      " [ True  True  True  True]]\n"
     ]
    },
    {
     "data": {
      "text/plain": [
       "array([ 6,  7,  8,  9, 10, 11, 12, 13, 14, 15, 16, 17, 18, 19])"
      ]
     },
     "execution_count": 101,
     "metadata": {},
     "output_type": "execute_result"
    }
   ],
   "source": [
    "# Obtaining only elements which fulfill condition\n",
    "# In this case elements larger than 5\n",
    "\n",
    "print(matrix > 5)\n",
    "\n",
    "# Array has to be flat as it lost it's N x N structure\n",
    "matrix[matrix > 5]"
   ]
  },
  {
   "cell_type": "markdown",
   "id": "6ef92330",
   "metadata": {},
   "source": [
    "## Reshape and view\n",
    "\n",
    "> __`.reshape(x, y, z)` will change the way we access our array__\n",
    "\n",
    "It is important to note that:\n",
    "- reshape __USUALLY DOES NOT COPY UNDERLYING DATA__ (it is merely changing `strides` and the way we access it)\n",
    "- __COPY OF `np.ndarray`s IS USUALLY NOT DONE__ (unless necessary)\n",
    "- It almost never creates any problem for us (as long as we're working with `numpy` reasonably)\n",
    "\n",
    "First option (without copy) is called __`view`__, while the other one is called __`copy`__.\n",
    "\n",
    "![](./images/numpy_copy_view.png)\n",
    "\n",
    "What does \"working reasonably\" mean?\n",
    "- __After reshaping DON'T CHANGE ELEMENTS IN EITHER OF THE VIEWS__\n",
    "- Use them in \"functional\" manner returning new objects (e.g. addition after reshape)\n",
    "- See examples below"
   ]
  },
  {
   "cell_type": "code",
   "execution_count": 35,
   "id": "210e6b5d",
   "metadata": {},
   "outputs": [
    {
     "name": "stdout",
     "output_type": "stream",
     "text": [
      "(18,) (8,)\n",
      "(3, 2, 3) (48, 24, 8)\n",
      "Sharing underlying memory: True\n"
     ]
    }
   ],
   "source": [
    "# elements 0-18 reshaped into \n",
    "\n",
    "arr = np.arange(18)\n",
    "\n",
    "print(arr.shape, arr.strides)\n",
    "\n",
    "reshaped = arr.reshape(3, 2, -1)\n",
    "\n",
    "print(reshaped.shape, reshaped.strides)\n",
    "\n",
    "print(f\"Sharing underlying memory: {np.may_share_memory(arr, reshaped)}\")"
   ]
  },
  {
   "cell_type": "code",
   "execution_count": 36,
   "id": "654e772b",
   "metadata": {},
   "outputs": [
    {
     "name": "stdout",
     "output_type": "stream",
     "text": [
      "[    0     1     2     3     4     5     6 99999     8     9    10    11\n",
      "    12    13    14    15    16    17]\n",
      "[[[    0     1     2]\n",
      "  [    3     4     5]]\n",
      "\n",
      " [[    6 99999     8]\n",
      "  [    9    10    11]]\n",
      "\n",
      " [[   12    13    14]\n",
      "  [   15    16    17]]]\n"
     ]
    }
   ],
   "source": [
    "# Will change both arrays\n",
    "arr[7] = 99999.\n",
    "\n",
    "print(arr)\n",
    "print(reshaped)"
   ]
  },
  {
   "cell_type": "code",
   "execution_count": 62,
   "id": "713cd360",
   "metadata": {
    "scrolled": true
   },
   "outputs": [
    {
     "data": {
      "text/plain": [
       "array([[ 0.06607302, -0.03757907, -0.22012916, ..., -0.33735095,\n",
       "         0.12948773, -0.32322123],\n",
       "       [ 0.40553952, -0.10047234, -0.07102722, ..., -0.2595114 ,\n",
       "         0.29522957,  0.04071672],\n",
       "       [-0.11908935, -0.5060945 , -0.01849313, ...,  0.45426441,\n",
       "         0.13575486,  0.35651088],\n",
       "       ...,\n",
       "       [-0.19608282,  0.14517763,  1.42295067, ...,  0.06966209,\n",
       "         1.05039197,  0.7748389 ],\n",
       "       [ 0.96215246, -0.0456957 ,  0.47949846, ...,  0.33081944,\n",
       "        -0.20928297,  0.37043871],\n",
       "       [ 0.84462781, -0.59371553,  0.01023492, ...,  1.03324647,\n",
       "        -0.1447829 ,  0.06648208]])"
      ]
     },
     "execution_count": 62,
     "metadata": {},
     "output_type": "execute_result"
    }
   ],
   "source": [
    "# Correct usage, will not change underlying memory\n",
    "# View will be used to multiply values within X1\n",
    "\n",
    "X1 = np.random.randn(128, 10)\n",
    "\n",
    "X2 = np.random.rand(1280)\n",
    "\n",
    "X1 * X2.reshape(X1.shape)"
   ]
  },
  {
   "cell_type": "markdown",
   "id": "a6421e44",
   "metadata": {},
   "source": [
    "## -1 in reshape\n",
    "\n",
    "> `-1` is used in order to __infer__ missing dimensionality\n",
    "\n",
    "It is pretty useful when:\n",
    "- __we don't know some dimension beforehand__\n",
    "- __we write function that has to work independently of some dimension__\n",
    "\n",
    "Let's see a dummy example:"
   ]
  },
  {
   "cell_type": "code",
   "execution_count": 10,
   "id": "fab3bda1",
   "metadata": {},
   "outputs": [
    {
     "data": {
      "text/plain": [
       "(24, 10)"
      ]
     },
     "execution_count": 10,
     "metadata": {},
     "output_type": "execute_result"
    }
   ],
   "source": [
    "np.random.randn(5, 6, 8).reshape(-1, 10).shape"
   ]
  },
  {
   "cell_type": "code",
   "execution_count": 8,
   "id": "323e68e9",
   "metadata": {},
   "outputs": [
    {
     "name": "stdout",
     "output_type": "stream",
     "text": [
      "(24, 10)\n"
     ]
    },
    {
     "data": {
      "text/plain": [
       "(12, 10)"
      ]
     },
     "execution_count": 8,
     "metadata": {},
     "output_type": "execute_result"
    }
   ],
   "source": [
    "def make_second_dimension_10(array):\n",
    "    assert array.size % 10 == 0, \"Number of array elements has to be dividable by 10\"\n",
    "    return array.reshape(-1, 10)\n",
    "\n",
    "\n",
    "print(make_second_dimension_10(np.random.randn(5, 6, 8)).shape)\n",
    "make_second_dimension_10(np.random.randn(120)).shape"
   ]
  },
  {
   "cell_type": "markdown",
   "id": "69920bb8",
   "metadata": {},
   "source": [
    "# Broadcasting\n",
    "\n",
    "After `fancy indexing`, `reshape` third killer feature of `numpy` is introduced:\n",
    "\n",
    "> __Broadcasting means automatic expansion of smaller array to a larger one__\n",
    "\n",
    "![](./images/numpy_broadcasting.png)\n",
    "\n",
    "Looking at the picture above:\n",
    "- __Arrays have to be expandable__, e.g.:\n",
    "    - `(3, 10)` and `(3,)`, second one will be expanded to `(3, 1)`\n",
    "    - `(3, 10)` and `(10,)` __WILL NOT WORK__ as the first dimension does not match\n",
    "    - We have to reshape above to `(1, 10)`, so the `(1,)` dimension will be expanded to `(3,)`\n",
    "- __Dimensions have to match__ (exampele above)\n",
    "\n",
    "Let's see a few examples:"
   ]
  },
  {
   "cell_type": "code",
   "execution_count": 6,
   "id": "7c0731f0",
   "metadata": {},
   "outputs": [
    {
     "data": {
      "text/plain": [
       "(3, 2)"
      ]
     },
     "execution_count": 6,
     "metadata": {},
     "output_type": "execute_result"
    }
   ],
   "source": [
    "import numpy as np\n",
    "(np.array([[1], [2], [3]]) * np.array([[1, 2]])).shape"
   ]
  },
  {
   "cell_type": "code",
   "execution_count": 106,
   "id": "0857f92f",
   "metadata": {},
   "outputs": [
    {
     "data": {
      "text/plain": [
       "(10, 5, 3)"
      ]
     },
     "execution_count": 106,
     "metadata": {},
     "output_type": "execute_result"
    }
   ],
   "source": [
    "# Broadcasting for both arrays\n",
    "\n",
    "arr1 = np.random.randn(10, 3)\n",
    "arr2 = np.random.randn(10, 5)\n",
    "\n",
    "result = arr1.reshape(-1, 1, 3) * arr2.reshape(10, -1, 1)\n",
    "result.shape"
   ]
  },
  {
   "cell_type": "code",
   "execution_count": 110,
   "id": "5abedc31",
   "metadata": {},
   "outputs": [
    {
     "data": {
      "text/plain": [
       "array([-2.317568  , -1.51070574, -1.46470051])"
      ]
     },
     "execution_count": 110,
     "metadata": {},
     "output_type": "execute_result"
    }
   ],
   "source": [
    "# Will not work\n",
    "a = np.random.randn(1, 10)\n",
    "b = np.random.randn(3)\n",
    "\n",
    "a + b"
   ]
  },
  {
   "cell_type": "code",
   "execution_count": 25,
   "id": "91cffc99",
   "metadata": {},
   "outputs": [
    {
     "data": {
      "text/plain": [
       "array([[ 0,  0,  0],\n",
       "       [ 8, 10, 12],\n",
       "       [ 0,  0,  0]])"
      ]
     },
     "execution_count": 25,
     "metadata": {},
     "output_type": "execute_result"
    }
   ],
   "source": [
    "x = np.array([[1, 2, 3], [4, 5, 6], [7, 8, 9]])\n",
    "y = np.array([0, 2, 0]).reshape(3, 1)\n",
    "\n",
    "x * y"
   ]
  },
  {
   "cell_type": "code",
   "execution_count": 111,
   "id": "8649aa96",
   "metadata": {},
   "outputs": [
    {
     "data": {
      "text/plain": [
       "array([[-0.31557747, -3.0836088 , -2.65585039],\n",
       "       [ 1.21277083, -2.12886569,  0.18391569],\n",
       "       [-1.09073187, -0.96382431, -2.76317141]])"
      ]
     },
     "execution_count": 111,
     "metadata": {},
     "output_type": "execute_result"
    }
   ],
   "source": [
    "a = np.random.randn(3, 3)\n",
    "b = np.random.randn(3)\n",
    "\n",
    "a - b"
   ]
  },
  {
   "cell_type": "markdown",
   "id": "72614677",
   "metadata": {},
   "source": [
    "# Working with shapes\n",
    "\n",
    "`numpy` is a framework which allows us to work with `N` dimensional arrays.\n",
    "\n",
    "Due to that, we should try to __think in terms of shapes__, not in terms of specific elements.\n",
    "\n",
    "Throughout the course you will often see (also today) that we will define many tasks in terms of __dimensions__ and __what each dimension represents__.\n",
    "\n",
    "\n",
    "An example could be data of shape `(users, movies)` which specifies:\n",
    "- ratings given for a movie\n",
    "- for every user\n",
    "- for every movie\n",
    "\n",
    "Visually (assume `?` are equal to zero):\n",
    "\n",
    "![](./images/numpy_example_matrix.png)\n",
    "\n",
    "Let's create such data and see operations one can do on it:"
   ]
  },
  {
   "cell_type": "code",
   "execution_count": 4,
   "id": "b6d068f4",
   "metadata": {},
   "outputs": [
    {
     "data": {
      "text/plain": [
       "array([[ 8,  0,  9,  7, 10,  6,  0,  7,  1,  3],\n",
       "       [ 4,  8,  0,  2,  3, 10,  6,  8,  4,  5],\n",
       "       [ 4,  5,  0,  6, 10,  3,  6,  6,  5,  4],\n",
       "       [ 6,  2,  4,  9, 10,  4,  5,  2,  6,  7],\n",
       "       [ 1,  2,  8,  0, 10,  2,  4,  8,  1, 10],\n",
       "       [ 9, 10,  7,  8,  5,  4,  6,  4,  8,  9],\n",
       "       [10,  3,  6,  7,  6,  9,  9,  4,  1,  1],\n",
       "       [ 5,  3,  0,  9,  5,  2,  2, 10,  8,  0],\n",
       "       [ 9,  8,  5,  2,  2,  7,  3,  6,  3,  4],\n",
       "       [ 2, 10,  6,  3,  8,  1,  7,  1, 10,  4],\n",
       "       [ 9,  3,  0,  8,  1,  4,  5, 10,  0,  4],\n",
       "       [ 1,  4,  1,  1,  7,  5,  6,  5,  4,  9],\n",
       "       [ 3,  9,  6,  6,  6,  4,  5,  6,  6, 10],\n",
       "       [ 3,  3,  1,  8,  8,  6,  5,  3,  3,  8],\n",
       "       [10,  7,  5,  9,  8,  6,  4,  8,  5,  1],\n",
       "       [ 6,  4, 10,  0,  8,  4,  1,  4,  0,  8],\n",
       "       [ 5, 10, 10,  4,  3, 10,  2,  3, 10,  1],\n",
       "       [ 2,  4, 10,  6, 10,  3, 10,  0,  7,  5],\n",
       "       [ 9,  8,  1,  9,  3,  9,  9,  5,  9,  9],\n",
       "       [ 3,  9,  1,  2,  4,  9,  2,  7,  9,  1],\n",
       "       [10,  8,  7,  2,  2,  1,  6,  2,  7,  3],\n",
       "       [ 0,  1,  6,  8,  9,  0,  1,  2,  1,  6],\n",
       "       [ 6,  5,  6,  8,  7,  7,  7, 10,  0,  5],\n",
       "       [ 4,  1,  4,  8,  1,  1,  3,  4, 10,  4]])"
      ]
     },
     "execution_count": 4,
     "metadata": {},
     "output_type": "execute_result"
    }
   ],
   "source": [
    "import numpy as np\n",
    "\n",
    "users = 24\n",
    "movies = 10\n",
    "\n",
    "data = np.random.randint(0, 11, size=(users, movies)) # 11 as it's one more than maximum 10 score\n",
    "\n",
    "data"
   ]
  },
  {
   "cell_type": "markdown",
   "id": "99c54e3b",
   "metadata": {},
   "source": [
    "__Please notice__:\n",
    "- If we just look at the numbers they do not convey too much information\n",
    "- If, instead, we think about what the dimensions represent, we can more easily reason about various operations.\n",
    "\n",
    "> __Most of `numpy` math (and not only math) operations allow us to specify `axis` argument__\n",
    "\n",
    "> __`axis` allows us to carry operation across specific dimension__\n",
    "\n",
    "__TIPS:__\n",
    "\n",
    "- __WRITE DATA SHAPES AS YOU APPLY SPATIAL TRANSFORMATIONS IN CODE COMMENT__\n",
    "- __DIMENSION ACROSS WHICH WE CARRY THE OPERATION IS OFTEN REMOVED__\n",
    "\n",
    "\n",
    "\n",
    "Let's see how one could __find average rating for each user__:"
   ]
  },
  {
   "cell_type": "code",
   "execution_count": 5,
   "id": "ddf2884e",
   "metadata": {},
   "outputs": [
    {
     "data": {
      "text/plain": [
       "array([5.1, 5. , 4.9, 5.5, 4.6, 7. , 5.6, 4.4, 4.9, 5.2, 4.4, 4.3, 6.1,\n",
       "       4.8, 6.3, 4.5, 5.8, 5.7, 7.1, 4.7, 4.8, 3.4, 6.1, 4. ])"
      ]
     },
     "execution_count": 5,
     "metadata": {},
     "output_type": "execute_result"
    }
   ],
   "source": [
    "# data: (users, movies)\n",
    "\n",
    "# total_ratings: (users,)\n",
    "total_ratings = data.sum(axis=1) # sum all of the columns\n",
    "\n",
    "# mean_ratings: (users,)\n",
    "mean_ratings = total_ratings / data.shape[1] # divide by total number of available movies\n",
    "\n",
    "mean_ratings"
   ]
  },
  {
   "cell_type": "markdown",
   "id": "367d8a59",
   "metadata": {},
   "source": [
    "Average rating for a movie (__almost the same as previously, just changing dimensions!__):"
   ]
  },
  {
   "cell_type": "code",
   "execution_count": 6,
   "id": "55673b98",
   "metadata": {},
   "outputs": [
    {
     "data": {
      "text/plain": [
       "array([5.375     , 5.29166667, 4.70833333, 5.5       , 6.08333333,\n",
       "       4.875     , 4.75      , 5.20833333, 4.91666667, 5.04166667])"
      ]
     },
     "execution_count": 6,
     "metadata": {},
     "output_type": "execute_result"
    }
   ],
   "source": [
    "# data: (users, movies)\n",
    "\n",
    "# total_ratings: (movies,)\n",
    "total_ratings = data.sum(axis=0) # sum all of the rows\n",
    "\n",
    "# mean_ratings: (movies,)\n",
    "mean_ratings = total_ratings / data.shape[0] # divide by total number of users which gave the movie rating\n",
    "\n",
    "mean_ratings"
   ]
  },
  {
   "cell_type": "markdown",
   "id": "4f0dbb60",
   "metadata": {},
   "source": [
    "Highest rating gave for any movie by specific user:"
   ]
  },
  {
   "cell_type": "code",
   "execution_count": 7,
   "id": "9437bdb1",
   "metadata": {},
   "outputs": [
    {
     "data": {
      "text/plain": [
       "array([10, 10, 10, 10, 10, 10, 10, 10,  9, 10, 10,  9, 10,  8, 10, 10, 10,\n",
       "       10,  9,  9, 10,  9, 10, 10])"
      ]
     },
     "execution_count": 7,
     "metadata": {},
     "output_type": "execute_result"
    }
   ],
   "source": [
    "data.max(axis=1)"
   ]
  },
  {
   "cell_type": "markdown",
   "id": "d6665e6d",
   "metadata": {},
   "source": [
    "Which movie (__movie index__) got the lowest score for each user:"
   ]
  },
  {
   "cell_type": "code",
   "execution_count": 9,
   "id": "7c3c7182",
   "metadata": {
    "scrolled": true
   },
   "outputs": [
    {
     "data": {
      "text/plain": [
       "array([1, 2, 2, 1, 3, 5, 8, 2, 3, 5, 2, 0, 0, 2, 9, 3, 9, 7, 2, 2, 5, 0,\n",
       "       8, 1])"
      ]
     },
     "execution_count": 9,
     "metadata": {},
     "output_type": "execute_result"
    }
   ],
   "source": [
    "data.argmin(axis=1)"
   ]
  },
  {
   "cell_type": "markdown",
   "id": "3f11df30",
   "metadata": {},
   "source": [
    "And which one was scored the lowest amongst all users:"
   ]
  },
  {
   "cell_type": "code",
   "execution_count": 15,
   "id": "2c4cdaf8",
   "metadata": {},
   "outputs": [
    {
     "data": {
      "text/plain": [
       "2"
      ]
     },
     "execution_count": 15,
     "metadata": {},
     "output_type": "execute_result"
    }
   ],
   "source": [
    "# Movie which got the lowest score per-user\n",
    "\n",
    "lowest = data.argmin(axis=1) # (users, )\n",
    "\n",
    "# Calculate how often each lowest value occured\n",
    "# minlength specifies number of entries (10 in our case as there are 10 movies)\n",
    "\n",
    "counts = np.bincount(lowest, minlength=data.shape[1]) # (movies,)\n",
    "\n",
    "# Get movies which got lowest rated most frequently:\n",
    "\n",
    "np.argmax(counts) # (1, )"
   ]
  },
  {
   "cell_type": "markdown",
   "id": "1f39bbc6",
   "metadata": {},
   "source": [
    "# Summary\n",
    "\n",
    "Where have learned in this notebook:\n",
    "\n",
    "- How to create NumPy arrays and perform mathematical operations on them. \n",
    "- Used many different ways to slice the arrays to get the data we need.\n",
    "- Found out ways to reshape arrays to get the dimensions we want.\n",
    "- Created new arrays through the use of broadcasting to create bigger arrays.\n",
    "- Applied transformations across an arrays axis to analyse data."
   ]
  }
 ],
 "metadata": {
  "interpreter": {
   "hash": "ad8bebc098a042dc0df4e42fc2ecc8fff0bd7b8741641ce29007c29766dadbe0"
  },
  "kernelspec": {
   "display_name": "Python 3.9.1 64-bit ('base': conda)",
   "name": "python3"
  },
  "language_info": {
   "codemirror_mode": {
    "name": "ipython",
    "version": 3
   },
   "file_extension": ".py",
   "mimetype": "text/x-python",
   "name": "python",
   "nbconvert_exporter": "python",
   "pygments_lexer": "ipython3",
   "version": "3.9.5"
  }
 },
 "nbformat": 4,
 "nbformat_minor": 5
}
