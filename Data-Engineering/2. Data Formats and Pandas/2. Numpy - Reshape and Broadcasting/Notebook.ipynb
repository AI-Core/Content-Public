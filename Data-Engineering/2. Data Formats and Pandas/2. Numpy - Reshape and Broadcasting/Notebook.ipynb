{
 "cells": [
  {
   "cell_type": "markdown",
   "id": "6ef92330",
   "metadata": {},
   "source": [
    "## Reshape and view\n",
    "\n",
    "> __`.reshape(x, y, z)` will change the way we access our array__\n",
    "\n",
    "It is important to note that:\n",
    "- reshape __USUALLY DOES NOT COPY UNDERLYING DATA__ (it is merely changing `strides` and the way we access it)\n",
    "- __COPY OF `np.ndarray`s IS USUALLY NOT DONE__ (unless necessary)\n",
    "- It almost never creates any problem for us (as long as we're working with `numpy` reasonably)\n",
    "\n",
    "First option (without copy) is called __`view`__, while the other one is called __`copy`__.\n",
    "\n",
    "![](./images/numpy_copy_view.png)\n",
    "\n",
    "What does \"working reasonably\" mean?\n",
    "- __After reshaping DON'T CHANGE ELEMENTS IN EITHER OF THE VIEWS__\n",
    "- Use them in \"functional\" manner returning new objects (e.g. addition after reshape)\n",
    "- See examples below"
   ]
  },
  {
   "cell_type": "code",
   "execution_count": 35,
   "id": "210e6b5d",
   "metadata": {},
   "outputs": [
    {
     "name": "stdout",
     "output_type": "stream",
     "text": [
      "(18,) (8,)\n",
      "(3, 2, 3) (48, 24, 8)\n",
      "Sharing underlying memory: True\n"
     ]
    }
   ],
   "source": [
    "# elements 0-18 reshaped into \n",
    "\n",
    "arr = np.arange(18)\n",
    "\n",
    "print(arr.shape, arr.strides)\n",
    "\n",
    "reshaped = arr.reshape(3, 2, -1)\n",
    "\n",
    "print(reshaped.shape, reshaped.strides)\n",
    "\n",
    "print(f\"Sharing underlying memory: {np.may_share_memory(arr, reshaped)}\")"
   ]
  },
  {
   "cell_type": "code",
   "execution_count": 36,
   "id": "654e772b",
   "metadata": {},
   "outputs": [
    {
     "name": "stdout",
     "output_type": "stream",
     "text": [
      "[    0     1     2     3     4     5     6 99999     8     9    10    11\n",
      "    12    13    14    15    16    17]\n",
      "[[[    0     1     2]\n",
      "  [    3     4     5]]\n",
      "\n",
      " [[    6 99999     8]\n",
      "  [    9    10    11]]\n",
      "\n",
      " [[   12    13    14]\n",
      "  [   15    16    17]]]\n"
     ]
    }
   ],
   "source": [
    "# Will change both arrays\n",
    "arr[7] = 99999.\n",
    "\n",
    "print(arr)\n",
    "print(reshaped)"
   ]
  },
  {
   "cell_type": "code",
   "execution_count": 62,
   "id": "713cd360",
   "metadata": {
    "scrolled": true
   },
   "outputs": [
    {
     "data": {
      "text/plain": [
       "array([[ 0.06607302, -0.03757907, -0.22012916, ..., -0.33735095,\n",
       "         0.12948773, -0.32322123],\n",
       "       [ 0.40553952, -0.10047234, -0.07102722, ..., -0.2595114 ,\n",
       "         0.29522957,  0.04071672],\n",
       "       [-0.11908935, -0.5060945 , -0.01849313, ...,  0.45426441,\n",
       "         0.13575486,  0.35651088],\n",
       "       ...,\n",
       "       [-0.19608282,  0.14517763,  1.42295067, ...,  0.06966209,\n",
       "         1.05039197,  0.7748389 ],\n",
       "       [ 0.96215246, -0.0456957 ,  0.47949846, ...,  0.33081944,\n",
       "        -0.20928297,  0.37043871],\n",
       "       [ 0.84462781, -0.59371553,  0.01023492, ...,  1.03324647,\n",
       "        -0.1447829 ,  0.06648208]])"
      ]
     },
     "execution_count": 62,
     "metadata": {},
     "output_type": "execute_result"
    }
   ],
   "source": [
    "# Correct usage, will not change underlying memory\n",
    "# View will be used to multiply values within X1\n",
    "\n",
    "X1 = np.random.randn(128, 10)\n",
    "\n",
    "X2 = np.random.rand(1280)\n",
    "\n",
    "X1 * X2.reshape(X1.shape)"
   ]
  },
  {
   "cell_type": "markdown",
   "id": "a6421e44",
   "metadata": {},
   "source": [
    "## -1 in reshape\n",
    "\n",
    "> `-1` is used in order to __infer__ missing dimensionality\n",
    "\n",
    "It is pretty useful when:\n",
    "- __we don't know some dimension beforehand__\n",
    "- __we write function that has to work independently of some dimension__\n",
    "\n",
    "Let's see a dummy example:"
   ]
  },
  {
   "cell_type": "code",
   "execution_count": 10,
   "id": "fab3bda1",
   "metadata": {},
   "outputs": [
    {
     "data": {
      "text/plain": [
       "(24, 10)"
      ]
     },
     "execution_count": 10,
     "metadata": {},
     "output_type": "execute_result"
    }
   ],
   "source": [
    "np.random.randn(5, 6, 8).reshape(-1, 10).shape"
   ]
  },
  {
   "cell_type": "code",
   "execution_count": 8,
   "id": "323e68e9",
   "metadata": {},
   "outputs": [
    {
     "name": "stdout",
     "output_type": "stream",
     "text": [
      "(24, 10)\n"
     ]
    },
    {
     "data": {
      "text/plain": [
       "(12, 10)"
      ]
     },
     "execution_count": 8,
     "metadata": {},
     "output_type": "execute_result"
    }
   ],
   "source": [
    "def make_second_dimension_10(array):\n",
    "    assert array.size % 10 == 0, \"Number of array elements has to be dividable by 10\"\n",
    "    return array.reshape(-1, 10)\n",
    "\n",
    "\n",
    "print(make_second_dimension_10(np.random.randn(5, 6, 8)).shape)\n",
    "make_second_dimension_10(np.random.randn(120)).shape"
   ]
  },
  {
   "cell_type": "markdown",
   "id": "69920bb8",
   "metadata": {},
   "source": [
    "# Broadcasting\n",
    "\n",
    "After explaining `fancy indexing` and `reshape`, let's take a look at a third, powerful feature of `numpy`:\n",
    "\n",
    "> __Broadcasting means automatic expansion of smaller array to a larger one__\n",
    "\n",
    "![](./images/numpy_broadcasting.png)\n",
    "\n",
    "Looking at the picture above:\n",
    "- __Arrays have to be expandable__, e.g.:\n",
    "    - `(3, 10)` and `(3,)`, second one will be expanded to `(3, 1)`\n",
    "    - `(3, 10)` and `(10,)` __WILL NOT WORK__ as the first dimension does not match\n",
    "    - We have to reshape above to `(1, 10)`, so the `(1,)` dimension will be expanded to `(3,)`\n",
    "- __Dimensions have to match__ (exampele above)\n",
    "\n",
    "Let's see a few examples:"
   ]
  },
  {
   "cell_type": "code",
   "execution_count": 6,
   "id": "7c0731f0",
   "metadata": {},
   "outputs": [
    {
     "data": {
      "text/plain": [
       "(3, 2)"
      ]
     },
     "execution_count": 6,
     "metadata": {},
     "output_type": "execute_result"
    }
   ],
   "source": [
    "import numpy as np\n",
    "(np.array([[1], [2], [3]]) * np.array([[1, 2]])).shape"
   ]
  },
  {
   "cell_type": "code",
   "execution_count": 106,
   "id": "0857f92f",
   "metadata": {},
   "outputs": [
    {
     "data": {
      "text/plain": [
       "(10, 5, 3)"
      ]
     },
     "execution_count": 106,
     "metadata": {},
     "output_type": "execute_result"
    }
   ],
   "source": [
    "# Broadcasting for both arrays\n",
    "\n",
    "arr1 = np.random.randn(10, 3)\n",
    "arr2 = np.random.randn(10, 5)\n",
    "\n",
    "result = arr1.reshape(-1, 1, 3) * arr2.reshape(10, -1, 1)\n",
    "result.shape"
   ]
  },
  {
   "cell_type": "code",
   "execution_count": 110,
   "id": "5abedc31",
   "metadata": {},
   "outputs": [
    {
     "data": {
      "text/plain": [
       "array([-2.317568  , -1.51070574, -1.46470051])"
      ]
     },
     "execution_count": 110,
     "metadata": {},
     "output_type": "execute_result"
    }
   ],
   "source": [
    "# Will not work\n",
    "a = np.random.randn(1, 10)\n",
    "b = np.random.randn(3)\n",
    "\n",
    "a + b"
   ]
  },
  {
   "cell_type": "code",
   "execution_count": 25,
   "id": "91cffc99",
   "metadata": {},
   "outputs": [
    {
     "data": {
      "text/plain": [
       "array([[ 0,  0,  0],\n",
       "       [ 8, 10, 12],\n",
       "       [ 0,  0,  0]])"
      ]
     },
     "execution_count": 25,
     "metadata": {},
     "output_type": "execute_result"
    }
   ],
   "source": [
    "x = np.array([[1, 2, 3], [4, 5, 6], [7, 8, 9]])\n",
    "y = np.array([0, 2, 0]).reshape(3, 1)\n",
    "\n",
    "x * y"
   ]
  },
  {
   "cell_type": "code",
   "execution_count": 111,
   "id": "8649aa96",
   "metadata": {},
   "outputs": [
    {
     "data": {
      "text/plain": [
       "array([[-0.31557747, -3.0836088 , -2.65585039],\n",
       "       [ 1.21277083, -2.12886569,  0.18391569],\n",
       "       [-1.09073187, -0.96382431, -2.76317141]])"
      ]
     },
     "execution_count": 111,
     "metadata": {},
     "output_type": "execute_result"
    }
   ],
   "source": [
    "a = np.random.randn(3, 3)\n",
    "b = np.random.randn(3)\n",
    "\n",
    "a - b"
   ]
  },
  {
   "cell_type": "markdown",
   "id": "72614677",
   "metadata": {},
   "source": [
    "# Working with shapes\n",
    "\n",
    "`numpy` is a framework which allows us to work with `N` dimensional arrays.\n",
    "\n",
    "Due to that, we should try to __think in terms of shapes__, not in terms of specific elements.\n",
    "\n",
    "Throughout the course you will often see (also today) that we will define many tasks in terms of __dimensions__ and __what each dimension represents__.\n",
    "\n",
    "\n",
    "An example could be data of shape `(users, movies)` which specifies:\n",
    "- Ratings given for a movie\n",
    "- For every user\n",
    "- For every movie\n",
    "\n",
    "Visually (assume `?` are equal to zero):\n",
    "\n",
    "![](./images/numpy_example_matrix.png)\n",
    "\n",
    "Let's create such data and see operations one can do on it:"
   ]
  },
  {
   "cell_type": "code",
   "execution_count": 4,
   "id": "b6d068f4",
   "metadata": {},
   "outputs": [
    {
     "data": {
      "text/plain": [
       "array([[ 8,  0,  9,  7, 10,  6,  0,  7,  1,  3],\n",
       "       [ 4,  8,  0,  2,  3, 10,  6,  8,  4,  5],\n",
       "       [ 4,  5,  0,  6, 10,  3,  6,  6,  5,  4],\n",
       "       [ 6,  2,  4,  9, 10,  4,  5,  2,  6,  7],\n",
       "       [ 1,  2,  8,  0, 10,  2,  4,  8,  1, 10],\n",
       "       [ 9, 10,  7,  8,  5,  4,  6,  4,  8,  9],\n",
       "       [10,  3,  6,  7,  6,  9,  9,  4,  1,  1],\n",
       "       [ 5,  3,  0,  9,  5,  2,  2, 10,  8,  0],\n",
       "       [ 9,  8,  5,  2,  2,  7,  3,  6,  3,  4],\n",
       "       [ 2, 10,  6,  3,  8,  1,  7,  1, 10,  4],\n",
       "       [ 9,  3,  0,  8,  1,  4,  5, 10,  0,  4],\n",
       "       [ 1,  4,  1,  1,  7,  5,  6,  5,  4,  9],\n",
       "       [ 3,  9,  6,  6,  6,  4,  5,  6,  6, 10],\n",
       "       [ 3,  3,  1,  8,  8,  6,  5,  3,  3,  8],\n",
       "       [10,  7,  5,  9,  8,  6,  4,  8,  5,  1],\n",
       "       [ 6,  4, 10,  0,  8,  4,  1,  4,  0,  8],\n",
       "       [ 5, 10, 10,  4,  3, 10,  2,  3, 10,  1],\n",
       "       [ 2,  4, 10,  6, 10,  3, 10,  0,  7,  5],\n",
       "       [ 9,  8,  1,  9,  3,  9,  9,  5,  9,  9],\n",
       "       [ 3,  9,  1,  2,  4,  9,  2,  7,  9,  1],\n",
       "       [10,  8,  7,  2,  2,  1,  6,  2,  7,  3],\n",
       "       [ 0,  1,  6,  8,  9,  0,  1,  2,  1,  6],\n",
       "       [ 6,  5,  6,  8,  7,  7,  7, 10,  0,  5],\n",
       "       [ 4,  1,  4,  8,  1,  1,  3,  4, 10,  4]])"
      ]
     },
     "execution_count": 4,
     "metadata": {},
     "output_type": "execute_result"
    }
   ],
   "source": [
    "import numpy as np\n",
    "\n",
    "users = 24\n",
    "movies = 10\n",
    "\n",
    "data = np.random.randint(0, 11, size=(users, movies)) # 11 as it's one more than maximum 10 score\n",
    "\n",
    "data"
   ]
  },
  {
   "cell_type": "markdown",
   "id": "99c54e3b",
   "metadata": {},
   "source": [
    "__Please notice__:\n",
    "- If we just look at the numbers alone, they do not convey too much information\n",
    "- If, instead, we think about what the dimensions represent, we can more easily reason about various operations\n",
    "\n",
    "> __Most of `numpy` math (and not only math) operations allow us to specify `axis` argument__\n",
    "\n",
    "> __`axis` allows us to carry operation across specific dimension__\n",
    "\n",
    "__TIPS:__\n",
    "\n",
    "- __WRITE DATA SHAPES AS YOU APPLY SPATIAL TRANSFORMATIONS IN CODE COMMENT__\n",
    "- __DIMENSION ACROSS WHICH WE CARRY THE OPERATION IS OFTEN REMOVED__\n",
    "\n",
    "\n",
    "\n",
    "Let's see how one could __find average rating for each user__:"
   ]
  },
  {
   "cell_type": "code",
   "execution_count": 5,
   "id": "ddf2884e",
   "metadata": {},
   "outputs": [
    {
     "data": {
      "text/plain": [
       "array([5.1, 5. , 4.9, 5.5, 4.6, 7. , 5.6, 4.4, 4.9, 5.2, 4.4, 4.3, 6.1,\n",
       "       4.8, 6.3, 4.5, 5.8, 5.7, 7.1, 4.7, 4.8, 3.4, 6.1, 4. ])"
      ]
     },
     "execution_count": 5,
     "metadata": {},
     "output_type": "execute_result"
    }
   ],
   "source": [
    "# data: (users, movies)\n",
    "\n",
    "# total_ratings: (users,)\n",
    "total_ratings = data.sum(axis=1) # sum all of the columns\n",
    "\n",
    "# mean_ratings: (users,)\n",
    "mean_ratings = total_ratings / data.shape[1] # divide by total number of available movies\n",
    "\n",
    "mean_ratings"
   ]
  },
  {
   "cell_type": "markdown",
   "id": "367d8a59",
   "metadata": {},
   "source": [
    "Average rating for a movie (__almost the same as previously, just changing dimensions!__):"
   ]
  },
  {
   "cell_type": "code",
   "execution_count": 6,
   "id": "55673b98",
   "metadata": {},
   "outputs": [
    {
     "data": {
      "text/plain": [
       "array([5.375     , 5.29166667, 4.70833333, 5.5       , 6.08333333,\n",
       "       4.875     , 4.75      , 5.20833333, 4.91666667, 5.04166667])"
      ]
     },
     "execution_count": 6,
     "metadata": {},
     "output_type": "execute_result"
    }
   ],
   "source": [
    "# data: (users, movies)\n",
    "\n",
    "# total_ratings: (movies,)\n",
    "total_ratings = data.sum(axis=0) # sum all of the rows\n",
    "\n",
    "# mean_ratings: (movies,)\n",
    "mean_ratings = total_ratings / data.shape[0] # divide by total number of users which gave the movie rating\n",
    "\n",
    "mean_ratings"
   ]
  },
  {
   "cell_type": "markdown",
   "id": "4f0dbb60",
   "metadata": {},
   "source": [
    "Highest rating gave for any movie by specific user:"
   ]
  },
  {
   "cell_type": "code",
   "execution_count": 7,
   "id": "9437bdb1",
   "metadata": {},
   "outputs": [
    {
     "data": {
      "text/plain": [
       "array([10, 10, 10, 10, 10, 10, 10, 10,  9, 10, 10,  9, 10,  8, 10, 10, 10,\n",
       "       10,  9,  9, 10,  9, 10, 10])"
      ]
     },
     "execution_count": 7,
     "metadata": {},
     "output_type": "execute_result"
    }
   ],
   "source": [
    "data.max(axis=1)"
   ]
  },
  {
   "cell_type": "markdown",
   "id": "d6665e6d",
   "metadata": {},
   "source": [
    "Which movie (__movie index__) got the lowest score for each user:"
   ]
  },
  {
   "cell_type": "code",
   "execution_count": 9,
   "id": "7c3c7182",
   "metadata": {
    "scrolled": true
   },
   "outputs": [
    {
     "data": {
      "text/plain": [
       "array([1, 2, 2, 1, 3, 5, 8, 2, 3, 5, 2, 0, 0, 2, 9, 3, 9, 7, 2, 2, 5, 0,\n",
       "       8, 1])"
      ]
     },
     "execution_count": 9,
     "metadata": {},
     "output_type": "execute_result"
    }
   ],
   "source": [
    "data.argmin(axis=1)"
   ]
  },
  {
   "cell_type": "markdown",
   "id": "3f11df30",
   "metadata": {},
   "source": [
    "And which one was scored the lowest amongst all users:"
   ]
  },
  {
   "cell_type": "code",
   "execution_count": 15,
   "id": "2c4cdaf8",
   "metadata": {},
   "outputs": [
    {
     "data": {
      "text/plain": [
       "2"
      ]
     },
     "execution_count": 15,
     "metadata": {},
     "output_type": "execute_result"
    }
   ],
   "source": [
    "# Movie which got the lowest score per-user\n",
    "\n",
    "lowest = data.argmin(axis=1) # (users, )\n",
    "\n",
    "# Calculate how often each lowest value occured\n",
    "# minlength specifies number of entries (10 in our case as there are 10 movies)\n",
    "\n",
    "counts = np.bincount(lowest, minlength=data.shape[1]) # (movies,)\n",
    "\n",
    "# Get movies which got lowest rated most frequently:\n",
    "\n",
    "np.argmax(counts) # (1, )"
   ]
  },
  {
   "cell_type": "markdown",
   "id": "1f39bbc6",
   "metadata": {},
   "source": [
    "# Key Takeaways\n",
    "\n",
    "- The `reshape` feature changes the way we access arrays, and does not copy underlying data. It simply changes `strides` and the way we access it\n",
    "- The `view` option can be used to reshape data, and it does not copy the data itself\n",
    "- The `copy` option can be used when we want to physically copy the data\n",
    "- Adding `-1` to the reshape command helps to infer any missing dimensionality. It's especially useful when we don't know some dimension beforehand\n",
    "- Broadcasting is a Numpy feature which automatically expands smaller arrays into larger ones\n",
    "- It's suggested to think of data stores in arrays as shapes, rather than specific elements\n"
   ]
  }
 ],
 "metadata": {
  "interpreter": {
   "hash": "ad8bebc098a042dc0df4e42fc2ecc8fff0bd7b8741641ce29007c29766dadbe0"
  },
  "kernelspec": {
   "display_name": "Python 3.9.1 64-bit ('base': conda)",
   "name": "python3"
  },
  "language_info": {
   "codemirror_mode": {
    "name": "ipython",
    "version": 3
   },
   "file_extension": ".py",
   "mimetype": "text/x-python",
   "name": "python",
   "nbconvert_exporter": "python",
   "pygments_lexer": "ipython3",
   "version": "3.9.5"
  }
 },
 "nbformat": 4,
 "nbformat_minor": 5
}
