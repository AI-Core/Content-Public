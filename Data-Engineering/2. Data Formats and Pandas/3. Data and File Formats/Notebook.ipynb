{
 "cells": [
  {
   "cell_type": "markdown",
   "metadata": {},
   "source": [
    "# Data and File Formats"
   ]
  },
  {
   "cell_type": "markdown",
   "metadata": {},
   "source": [
    "When working in projects involved in AI, most likely you will need to deal with different data and file formats including:\n",
    "- CSV\n",
    "- JSON\n",
    "- YAML\n",
    "- Images\n",
    "- Videos\n",
    "- Audio\n",
    "\n",
    "In this notebook, we will briefly introduce each one of them, as well as give some comments on how and when to use them."
   ]
  },
  {
   "cell_type": "markdown",
   "metadata": {},
   "source": [
    "We are going to work with some files with the data formats we mentioned, so before start reading the notebook, make sure to run the following cell to download the necessary files"
   ]
  },
  {
   "cell_type": "code",
   "execution_count": 1,
   "metadata": {},
   "outputs": [
    {
     "name": "stdout",
     "output_type": "stream",
     "text": [
      "--2022-02-15 16:55:06--  https://aicore-files.s3.amazonaws.com/Foundations/Data_Formats/Salaries.csv\n",
      "Resolving aicore-files.s3.amazonaws.com (aicore-files.s3.amazonaws.com)... 52.217.134.81\n",
      "Connecting to aicore-files.s3.amazonaws.com (aicore-files.s3.amazonaws.com)|52.217.134.81|:443... connected.\n",
      "HTTP request sent, awaiting response... 200 OK\n",
      "Length: 75224 (73K) [text/csv]\n",
      "Saving to: ‘Salaries.csv’\n",
      "\n",
      "Salaries.csv        100%[===================>]  73.46K   362KB/s    in 0.2s    \n",
      "\n",
      "2022-02-15 16:55:07 (362 KB/s) - ‘Salaries.csv’ saved [75224/75224]\n",
      "\n",
      "--2022-02-15 16:55:07--  https://aicore-files.s3.amazonaws.com/Foundations/Data_Formats/employees.xml\n",
      "Reusing existing connection to aicore-files.s3.amazonaws.com:443.\n",
      "HTTP request sent, awaiting response... 200 OK\n",
      "Length: 603 [text/xml]\n",
      "Saving to: ‘employees.xml’\n",
      "\n",
      "employees.xml       100%[===================>]     603  --.-KB/s    in 0s      \n",
      "\n",
      "2022-02-15 16:55:07 (11.7 MB/s) - ‘employees.xml’ saved [603/603]\n",
      "\n",
      "--2022-02-15 16:55:07--  https://aicore-files.s3.amazonaws.com/Foundations/Data_Formats/JSON_sample.json\n",
      "Reusing existing connection to aicore-files.s3.amazonaws.com:443.\n",
      "HTTP request sent, awaiting response... 200 OK\n",
      "Length: 794 [application/json]\n",
      "Saving to: ‘JSON_sample.json’\n",
      "\n",
      "JSON_sample.json    100%[===================>]     794  --.-KB/s    in 0s      \n",
      "\n",
      "2022-02-15 16:55:08 (75.7 MB/s) - ‘JSON_sample.json’ saved [794/794]\n",
      "\n",
      "--2022-02-15 16:55:08--  https://aicore-files.s3.amazonaws.com/Foundations/Data_Formats/yaml_example.yaml\n",
      "Reusing existing connection to aicore-files.s3.amazonaws.com:443.\n",
      "HTTP request sent, awaiting response... 200 OK\n",
      "Length: 224 [application/x-yaml]\n",
      "Saving to: ‘yaml_example.yaml’\n",
      "\n",
      "yaml_example.yaml   100%[===================>]     224  --.-KB/s    in 0s      \n",
      "\n",
      "2022-02-15 16:55:08 (16.4 MB/s) - ‘yaml_example.yaml’ saved [224/224]\n",
      "\n",
      "FINISHED --2022-02-15 16:55:08--\n",
      "Total wall clock time: 1.2s\n",
      "Downloaded: 4 files, 75K in 0.2s (369 KB/s)\n"
     ]
    }
   ],
   "source": [
    "!wget \"https://aicore-files.s3.amazonaws.com/Foundations/Data_Formats/Salaries.csv\" \"https://aicore-files.s3.amazonaws.com/Foundations/Data_Formats/employees.xml\" \"https://aicore-files.s3.amazonaws.com/Foundations/Data_Formats/JSON_sample.json\" \"https://aicore-files.s3.amazonaws.com/Foundations/Data_Formats/yaml_example.yaml\""
   ]
  },
  {
   "cell_type": "markdown",
   "metadata": {},
   "source": [
    "## CSV"
   ]
  },
  {
   "cell_type": "markdown",
   "metadata": {},
   "source": [
    "> <font size=+1> CSV __(comma-separated values)__ files contain rows of data, with each value in a row separated by a comma\n",
    "\n",
    "- They are a very common way to store data </font>\n",
    "- All of the data for a single record is on one line: each new line is a new record\n",
    "- The comma in this case is called the __'delimiter'__ as it shows the difference (or limit) between one value and the next.\n",
    "- Other common delimiters are semi-colons and tabs (also called __tsv/tab-separated values__).\n",
    "- We must be careful to check what exactly the delimiter is, as a common error is reading in a file with the wrong delimiter, and so getting a weird representation in your data.\n",
    "- CSVs can also be read by Excel.\n",
    "<p style=\"font-size:10.5px\">\n",
    "Usually if you are using data from mainland European countries (France/Spain etc) they will use semi-colons, hence some people prefer <i>character</i>-separated values for CSV.\n",
    "</p>"
   ]
  },
  {
   "cell_type": "markdown",
   "metadata": {},
   "source": [
    "### Open CSV files"
   ]
  },
  {
   "cell_type": "markdown",
   "metadata": {},
   "source": [
    "Python counts with a library called `csv` that has the needed functionalities to read and write CSV files.\n",
    "\n",
    "We open an existing file (Salaries.csv) using a context manager, and the mode in the context manager is set to read (`r`). Then, use the reader class from csv, which will take the values in the csv and store them into a variable that becomes an iterable."
   ]
  },
  {
   "cell_type": "code",
   "execution_count": null,
   "metadata": {},
   "outputs": [],
   "source": [
    "import csv\n",
    "with open('Salaries.csv', mode='r', newline='') as csvfile:\n",
    "    reader = csv.reader(csvfile, delimiter=',')\n",
    "    for n, row in enumerate(reader):\n",
    "        print(','.join(row))\n",
    "        if n == 5: # Read only the first five entries\n",
    "            break\n"
   ]
  },
  {
   "cell_type": "markdown",
   "metadata": {},
   "source": [
    "### Create CSV files"
   ]
  },
  {
   "cell_type": "markdown",
   "metadata": {},
   "source": [
    "The same library can be used to generate csv files. The only thing you need to change is the mode argument in the context manager is write (`w`). If you want to append things to the csv, you can use the mode append (`a`)\n"
   ]
  },
  {
   "cell_type": "markdown",
   "metadata": {},
   "source": [
    "As opposed to reading a CSV file, if we write a CSV, we need to use the `writer` class, which will point to the file we want to create. Notice that the file we want to generate doesn't necessarily have to exist (if it exists, it will overwrite its content)\n",
    "\n",
    "The `writer` object has some methods to create a new file. The most common one is `writerows`, which accepts iterables as arguments, and parse them into a comma separated row\n",
    "\n",
    "So, if we define a list:"
   ]
  },
  {
   "cell_type": "code",
   "execution_count": null,
   "metadata": {},
   "outputs": [],
   "source": [
    "my_list = [['Sparky', 7, 'Brown', 'Corgi'], ['Fido', 4, 'White', 'Husky']]"
   ]
  },
  {
   "cell_type": "markdown",
   "metadata": {},
   "source": [
    "We can create a new csv file where each row contains the characteristic of each dog"
   ]
  },
  {
   "cell_type": "code",
   "execution_count": null,
   "metadata": {},
   "outputs": [],
   "source": [
    "import csv\n",
    "with open('Dogs.csv', 'w', newline='') as f:\n",
    "    writer = csv.writer(f)\n",
    "    writer.writerow(['Name', 'Age', 'Colour', 'Breed'])\n",
    "    writer.writerows(my_list)"
   ]
  },
  {
   "cell_type": "markdown",
   "metadata": {},
   "source": [
    "Notice the difference between `writerow` and `writerows`. Try running the following cell and see if you see any difference between both files"
   ]
  },
  {
   "cell_type": "code",
   "execution_count": null,
   "metadata": {},
   "outputs": [],
   "source": [
    "with open('Dogs_2.csv', 'w', newline='') as f:\n",
    "    writer = csv.writer(f)\n",
    "    writer.writerow(['Name', 'Age', 'Colour', 'Breed'])\n",
    "    writer.writerow(my_list)"
   ]
  },
  {
   "cell_type": "markdown",
   "metadata": {},
   "source": [
    "## JSON\n"
   ]
  },
  {
   "cell_type": "markdown",
   "metadata": {},
   "source": [
    "> <font size=+1> JSON (JavaScript Object Notation) is a file format that stores data in a way that is easily readable by both humans and machines.</font>\n",
    "\n",
    "- It is as useful way for a browser and a server to exchange data, so it is used extensively in Web-based applications of coding.\n",
    "- In fact, Jupyter Notebook .ipynb files are actually stored in JSON format.\n"
   ]
  },
  {
   "cell_type": "markdown",
   "metadata": {},
   "source": [
    "JSON format is very similar to Python dictionaries, they contain a key and it has a corresponding value to that key"
   ]
  },
  {
   "cell_type": "markdown",
   "metadata": {},
   "source": [
    "### Read JSON files"
   ]
  },
  {
   "cell_type": "markdown",
   "metadata": {},
   "source": [
    "Python offers a library called `json` that can read, write, or append elements from or to a JSON file"
   ]
  },
  {
   "cell_type": "markdown",
   "metadata": {},
   "source": [
    "The syntax is very similar to the one for CSV files. We use a context manager, set the mode we want to use, and then use a method. In this case, for reading a file, we use the `load` method"
   ]
  },
  {
   "cell_type": "code",
   "execution_count": null,
   "metadata": {},
   "outputs": [],
   "source": [
    "import json\n",
    "with open('JSON_sample.json', mode='r') as f:\n",
    "    json_dict = json.load(f)\n",
    "\n",
    "print(json_dict)"
   ]
  },
  {
   "cell_type": "markdown",
   "metadata": {},
   "source": [
    "Observe that, whatever we read, is a dictionary"
   ]
  },
  {
   "cell_type": "code",
   "execution_count": null,
   "metadata": {},
   "outputs": [],
   "source": [
    "type(json_dict)"
   ]
  },
  {
   "cell_type": "markdown",
   "metadata": {},
   "source": [
    "### Create JSON files"
   ]
  },
  {
   "cell_type": "markdown",
   "metadata": {},
   "source": [
    "We can create json files from dictionaries. Observe that the mode of the context manager is `w`. The method in this case is `dump`. The `dump` method accepts the data we want to use, and then the file we want to dump the data into."
   ]
  },
  {
   "cell_type": "code",
   "execution_count": null,
   "metadata": {},
   "outputs": [],
   "source": [
    "test_dict = {'a': 1, 'b': 2, 'c': 3, 'd': 4}\n",
    "with open('JSON_test.json', mode='w') as f:\n",
    "    json.dump(test_dict, f)"
   ]
  },
  {
   "cell_type": "markdown",
   "metadata": {},
   "source": [
    "Observe in your directory that now you have a `json` file called `JSON_test.json`"
   ]
  },
  {
   "cell_type": "markdown",
   "metadata": {},
   "source": [
    "We can also have a string containing a json and parse it"
   ]
  },
  {
   "cell_type": "code",
   "execution_count": null,
   "metadata": {},
   "outputs": [],
   "source": [
    "x =  '{\"name\": \"John\", \"age\": 30, \"city\": \"New York\"}'"
   ]
  },
  {
   "cell_type": "code",
   "execution_count": null,
   "metadata": {},
   "outputs": [],
   "source": [
    "y = json.loads(x)\n",
    "print(y)\n",
    "print(type(y))"
   ]
  },
  {
   "cell_type": "markdown",
   "metadata": {},
   "source": [
    "Be careful with the double quotes! If your keys have single quotes, the json parser will not work!"
   ]
  },
  {
   "cell_type": "code",
   "execution_count": null,
   "metadata": {},
   "outputs": [],
   "source": [
    "x =  \"{'name': 'John', 'age': 30, 'city': 'New York'}\"\n",
    "y = json.loads(x)"
   ]
  },
  {
   "cell_type": "markdown",
   "metadata": {},
   "source": [
    "We do the opposite (from dictionary to JSON string) using the `dumps` method"
   ]
  },
  {
   "cell_type": "code",
   "execution_count": null,
   "metadata": {},
   "outputs": [],
   "source": [
    "test_dict = {'a': 3, 'b': 4}\n",
    "new_json = json.dumps(test_dict)\n",
    "print(new_json)"
   ]
  },
  {
   "cell_type": "markdown",
   "metadata": {},
   "source": [
    "# YAML"
   ]
  },
  {
   "cell_type": "markdown",
   "metadata": {},
   "source": [
    "YAML is a data serialisation language, which means that it is a common language across different applications. In fact, you already saw a serialisation language in this lesson: JSON.\n",
    "\n",
    "> <font size=+1> YAML (YAML Ain't Markup Language) is a data serialisation language </font>"
   ]
  },
  {
   "cell_type": "markdown",
   "metadata": {},
   "source": [
    "The main advantage of YAML is that is highly human-readable. You can see a comparison between JSON and YAML containing the same information.\n",
    "### YAML:\n",
    "```\n",
    "simple-property: a simple value\n",
    "\n",
    "object-property:\n",
    "    first-property: first value\n",
    "    second-property: second value\n",
    "\n",
    "array-property:\n",
    "    - item-1-property-1: one\n",
    "      item-1-property-2: 2\n",
    "    - item-2-property-1: three\n",
    "      item-2-property-2: 4\n",
    "```\n",
    "\n",
    "### JSON\n",
    "```\n",
    "{\n",
    "  \"simple-property\": \"a simple value\",\n",
    "\n",
    "  \"object-property\": {\n",
    "      \"first-property\": \"first value\",\n",
    "      \"second-property\": \"second value\",\n",
    "  },\n",
    "\n",
    "  \"array-property\": [\n",
    "      { \"item-1-property-1\": \"one\",\n",
    "        \"item-1-property-2\": 2 },\n",
    "      { \"item-2-property-1\": \"three\",\n",
    "        \"item-2-property-2\": 4}\n",
    "  ]\n",
    "}\n",
    "```\n"
   ]
  },
  {
   "cell_type": "markdown",
   "metadata": {},
   "source": [
    "Observe that the base of YAML files lies in the indentation and the linespaces.\n",
    "\n",
    "The most basic syntax in a YAML file is the __key:value__ pair\n",
    "```\n",
    "key: value\n",
    "```\n",
    "For example:\n",
    "```\n",
    "# This is a comment\n",
    "name: Ivan\n",
    "surname: 'Ying'\n",
    "role: \"Instructor\"\n",
    "IQ: 0\n",
    "```\n",
    "Notice that strings can be either into double quotes, single quotes or nothing, and they will work the same.\n",
    "\n",
    "Another useful way of using YAML files is leveraging __objects__ simply by indenting the key:value pairs:\n",
    "```\n",
    "# This is a comment\n",
    "Person:\n",
    "    name: Ivan\n",
    "    surname: 'Ying'\n",
    "    role: \"Instructor\"\n",
    "    IQ: 0\n",
    "```\n",
    "Same as with Python, indentation should be at the right level, and it would be a good idea to have a linter for checking it. "
   ]
  },
  {
   "cell_type": "markdown",
   "metadata": {},
   "source": [
    "You can look for `docs-yaml` in your Extensions tab on VSCode to install a linter to tell you whether your YAML file is well indented or not. Or you can also visit [this link](https://codebeautify.org/yaml-validator)"
   ]
  },
  {
   "cell_type": "markdown",
   "metadata": {},
   "source": [
    "One more thing you can use in YAML files are lists. List can contain single values, or it can also contain key:value pair values\n",
    "```\n",
    "Person:\n",
    "    - name: Ivan\n",
    "      surname: 'Ying'\n",
    "      role: \"Instructor\"\n",
    "      IQ: 0\n",
    "    - name: Not Ivan\n",
    "      surname: 'Gniy'\n",
    "      role: \"Doppelganger\"\n",
    "      IQ: 150\n",
    "Animals:\n",
    "    - Cat\n",
    "    - Dog\n",
    "    - Shoebill\n",
    "    - Kakapo\n",
    "```\n",
    "The last list can also be written as:\n",
    "```\n",
    "Animals: [Cat, Dog, Shoebill, Kakapo]\n",
    "```"
   ]
  },
  {
   "cell_type": "markdown",
   "metadata": {},
   "source": [
    "### Read YAML files"
   ]
  },
  {
   "cell_type": "markdown",
   "metadata": {},
   "source": [
    "Python doesn't have a library for reading YAML files. But not to worry, you can install a library that allows you to do so. The library is named `PyYAML`."
   ]
  },
  {
   "cell_type": "code",
   "execution_count": null,
   "metadata": {},
   "outputs": [],
   "source": [
    "!pip install PyYAML"
   ]
  },
  {
   "cell_type": "markdown",
   "metadata": {},
   "source": [
    "Be careful, some libraries don't have the same name as they are published with. In this case, if you want to use the PyYAML library, you simply need to import `yaml`\n",
    "\n",
    "Like CSVs and JSONs, we might want to use a context manager with the read mode"
   ]
  },
  {
   "cell_type": "code",
   "execution_count": null,
   "metadata": {},
   "outputs": [],
   "source": [
    "import yaml\n",
    "with open('yaml_example.yaml', 'r') as stream:\n",
    "    data_loaded = yaml.safe_load(stream)\n",
    "\n",
    "print(type(data_loaded))"
   ]
  },
  {
   "cell_type": "markdown",
   "metadata": {},
   "source": [
    "Observe that, same as with JSON files, we obtain a dictionary. Let's print it out:"
   ]
  },
  {
   "cell_type": "code",
   "execution_count": null,
   "metadata": {},
   "outputs": [],
   "source": [
    "print(data_loaded)\n",
    "print(data_loaded.keys())"
   ]
  },
  {
   "cell_type": "markdown",
   "metadata": {},
   "source": [
    "Notice that we have two main keys, 'Person', and 'Animal'. The value corresponding to 'Person' is a list with dictionaries, and the value corresponding to 'Animal' is just a regular list\n",
    "\n",
    "So we can get the values of it by indexing the correct key and/or index"
   ]
  },
  {
   "cell_type": "code",
   "execution_count": null,
   "metadata": {},
   "outputs": [],
   "source": [
    "print(f\"The first element of Person is: {data_loaded['Person'][0]}\")\n",
    "print(f\"The name of the first element of Person is: {data_loaded['Person'][0]['name']}\")\n",
    "print(f\"The second element of Person is: {data_loaded['Person'][1]}\")\n",
    "print(f\"The name of the second element of Person is: {data_loaded['Person'][1]['name']}\")\n",
    "print(f'The value corresponding to Animals is: {data_loaded[\"Animals\"]}')\n"
   ]
  },
  {
   "cell_type": "markdown",
   "metadata": {},
   "source": [
    "### Create YAML files"
   ]
  },
  {
   "cell_type": "markdown",
   "metadata": {},
   "source": [
    "You can also create YAML using the same library. The variable you need to use to create a YAML file is a dictionary. So, let's define a simple dictionary out of a JSON file we have, and then create a YAML from there"
   ]
  },
  {
   "cell_type": "code",
   "execution_count": null,
   "metadata": {},
   "outputs": [],
   "source": [
    "import json\n",
    "\n",
    "with open('JSON_sample.json', mode='r') as f:\n",
    "    my_dict = json.load(f)\n",
    "\n",
    "print(my_dict)"
   ]
  },
  {
   "cell_type": "markdown",
   "metadata": {},
   "source": [
    "Now, we can use the `dump` method to save the dictionary as a yaml file. The `dump` method accepts the data we want to use, and then the file in which we want to dump our data"
   ]
  },
  {
   "cell_type": "code",
   "execution_count": null,
   "metadata": {},
   "outputs": [],
   "source": [
    "with open('YAML_from_JSON.yaml', 'w') as f:\n",
    "        yaml.dump(my_dict, f)"
   ]
  },
  {
   "cell_type": "markdown",
   "metadata": {},
   "source": [
    "# Key Takeaways\n",
    "\n",
    "- Some popular types of file formats used in industry include: CSV, JSON, YAML, images, videos and audio\n",
    "- Python provides different ways to read and write data for each of the above-mentioned file types\n",
    "- CSV (comma separated value) files are those which contain rows and columns of data, with each line separated by a comma from the next\n",
    "- JSON (JavaScript object notation) files are those which store data in a key-value pair that is easily read by humans. It's widely used in web applications.\n",
    "- YAML (Ain't Markup Language) is a data serisalisation language which is easily readable by humans. It also stores data in key-value pairs (similar to JSON)."
   ]
  }
 ],
 "metadata": {
  "interpreter": {
   "hash": "aee8b7b246df8f9039afb4144a1f6fd8d2ca17a180786b69acc140d282b71a49"
  },
  "kernelspec": {
   "display_name": "Python 3.9.6 64-bit",
   "name": "python3"
  },
  "language_info": {
   "codemirror_mode": {
    "name": "ipython",
    "version": 3
   },
   "file_extension": ".py",
   "mimetype": "text/x-python",
   "name": "python",
   "nbconvert_exporter": "python",
   "pygments_lexer": "ipython3",
   "version": "3.9.5"
  }
 },
 "nbformat": 4,
 "nbformat_minor": 4
}
