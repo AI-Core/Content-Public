{
 "cells": [
  {
   "cell_type": "markdown",
   "id": "cc476e78",
   "metadata": {},
   "source": [
    "## Array Operations"
   ]
  },
  {
   "cell_type": "markdown",
   "id": "76ee8db5",
   "metadata": {},
   "source": [
    "> __`numpy` provides a lot of mathematical functions via easy to use notation__\n",
    "\n",
    "Most of the operations are done \"element-wise\" (each element with respective elements of the other array):\n",
    "- addition: `+`\n",
    "- subtraction: `-`\n",
    "- multiplication: `*`\n",
    "- bitwise operations (when array is boolean)\n",
    "\n",
    "and many others (__see [here](https://scipy-lectures.org/intro/numpy/operations.html) for more examples__)"
   ]
  },
  {
   "cell_type": "code",
   "execution_count": 26,
   "id": "ce1b71c2",
   "metadata": {},
   "outputs": [
    {
     "name": "stdout",
     "output_type": "stream",
     "text": [
      "[[5 5 5]\n",
      " [5 5 5]\n",
      " [5 5 5]]\n",
      "    +    \n",
      "[[1 0 0]\n",
      " [0 1 0]\n",
      " [0 0 1]]\n",
      "    =    \n",
      "[[6 5 5]\n",
      " [5 6 5]\n",
      " [5 5 6]]\n"
     ]
    }
   ],
   "source": [
    "arr1 = np.full((3, 3), fill_value = 5)\n",
    "identity_1 = np.eye(arr1.shape[0], dtype='int64') \n",
    "print(arr1)\n",
    "print('    +    ')\n",
    "print(identity_1)\n",
    "print('    =    ')\n",
    "print(arr1 + identity_1)"
   ]
  },
  {
   "cell_type": "markdown",
   "id": "463afc11",
   "metadata": {},
   "source": [
    "## Mathematical functions\n"
   ]
  },
  {
   "cell_type": "markdown",
   "id": "cc806634",
   "metadata": {},
   "source": [
    "> `numpy` provides a lot of math functions (e.g. trigonometric)\n",
    "\n",
    "Traits:\n",
    "- Works on any array (usually element-wise) with some edge-case exceptions\n",
    "- Optimized C implementations\n",
    "- Provided in the `np` namespace\n",
    "\n",
    "> All available operations are listed [here](https://numpy.org/doc/stable/reference/routines.math.html)\n",
    "\n",
    "Let's see an example below:"
   ]
  },
  {
   "cell_type": "code",
   "execution_count": 51,
   "id": "6a0be839",
   "metadata": {
    "scrolled": true
   },
   "outputs": [
    {
     "data": {
      "text/plain": [
       "array([[ 0.41352406, 11.65427351, 11.65427351],\n",
       "       [11.65427351,  0.41352406, 11.65427351],\n",
       "       [11.65427351, 11.65427351,  0.41352406]])"
      ]
     },
     "execution_count": 51,
     "metadata": {},
     "output_type": "execute_result"
    }
   ],
   "source": [
    "# np.e and np.pi are predefined constant \n",
    "\n",
    "(np.cos(arr1) - np.sin(arr1) ** 3) / (np.eye(arr1.shape[0]) * np.e + 0.1)"
   ]
  },
  {
   "cell_type": "markdown",
   "id": "b5d939a8",
   "metadata": {},
   "source": [
    "## Linear algebra operations\n",
    "\n",
    "> `numpy` provides linear algebra functionalities __located within `np.linalg` submodule__\n",
    "\n",
    "See [here](https://numpy.org/doc/stable/reference/routines.linalg.html) for available functionalities.\n",
    "\n",
    "Some of them are provided as overloaded operations, namely __matrix multiplication__:"
   ]
  },
  {
   "cell_type": "code",
   "execution_count": 14,
   "id": "08df9155",
   "metadata": {},
   "outputs": [
    {
     "ename": "ValueError",
     "evalue": "matmul: Input operand 1 has a mismatch in its core dimension 0, with gufunc signature (n?,k),(k,m?)->(n?,m?) (size 6 is different from 5)",
     "output_type": "error",
     "traceback": [
      "\u001b[0;31m---------------------------------------------------------------------------\u001b[0m",
      "\u001b[0;31mValueError\u001b[0m                                Traceback (most recent call last)",
      "\u001b[0;32m/var/folders/3z/29w5rr9d0k3_p863hm40sdnc0000gn/T/ipykernel_8046/1998573976.py\u001b[0m in \u001b[0;36m<module>\u001b[0;34m\u001b[0m\n\u001b[1;32m      3\u001b[0m \u001b[0mX\u001b[0m\u001b[0;34m,\u001b[0m \u001b[0my\u001b[0m \u001b[0;34m=\u001b[0m \u001b[0mnp\u001b[0m\u001b[0;34m.\u001b[0m\u001b[0mrandom\u001b[0m\u001b[0;34m.\u001b[0m\u001b[0mrandn\u001b[0m\u001b[0;34m(\u001b[0m\u001b[0;36m10\u001b[0m\u001b[0;34m,\u001b[0m \u001b[0;36m5\u001b[0m\u001b[0;34m)\u001b[0m\u001b[0;34m,\u001b[0m \u001b[0mnp\u001b[0m\u001b[0;34m.\u001b[0m\u001b[0mrandom\u001b[0m\u001b[0;34m.\u001b[0m\u001b[0mrandn\u001b[0m\u001b[0;34m(\u001b[0m\u001b[0;36m6\u001b[0m\u001b[0;34m,\u001b[0m \u001b[0;36m3\u001b[0m\u001b[0;34m)\u001b[0m\u001b[0;34m\u001b[0m\u001b[0;34m\u001b[0m\u001b[0m\n\u001b[1;32m      4\u001b[0m \u001b[0;34m\u001b[0m\u001b[0m\n\u001b[0;32m----> 5\u001b[0;31m \u001b[0;34m(\u001b[0m\u001b[0mX\u001b[0m \u001b[0;34m@\u001b[0m \u001b[0my\u001b[0m\u001b[0;34m)\u001b[0m\u001b[0;34m.\u001b[0m\u001b[0mshape\u001b[0m\u001b[0;34m\u001b[0m\u001b[0;34m\u001b[0m\u001b[0m\n\u001b[0m",
      "\u001b[0;31mValueError\u001b[0m: matmul: Input operand 1 has a mismatch in its core dimension 0, with gufunc signature (n?,k),(k,m?)->(n?,m?) (size 6 is different from 5)"
     ]
    }
   ],
   "source": [
    "# Inner dimensions must match!\n",
    "\n",
    "X, y = np.random.randn(10, 5), np.random.randn(6, 3)\n",
    "\n",
    "(X @ y).shape"
   ]
  },
  {
   "cell_type": "code",
   "execution_count": 11,
   "id": "86dd83ae",
   "metadata": {},
   "outputs": [
    {
     "ename": "TypeError",
     "evalue": "Cannot interpret '3' as a data type",
     "output_type": "error",
     "traceback": [
      "\u001b[0;31m---------------------------------------------------------------------------\u001b[0m",
      "\u001b[0;31mTypeError\u001b[0m                                 Traceback (most recent call last)",
      "\u001b[0;32m/var/folders/3z/29w5rr9d0k3_p863hm40sdnc0000gn/T/ipykernel_8046/395221405.py\u001b[0m in \u001b[0;36m<module>\u001b[0;34m\u001b[0m\n\u001b[0;32m----> 1\u001b[0;31m \u001b[0mx\u001b[0m \u001b[0;34m=\u001b[0m \u001b[0mnp\u001b[0m\u001b[0;34m.\u001b[0m\u001b[0mndarray\u001b[0m\u001b[0;34m(\u001b[0m\u001b[0;36m2\u001b[0m\u001b[0;34m,\u001b[0m \u001b[0;36m3\u001b[0m\u001b[0;34m)\u001b[0m\u001b[0;34m\u001b[0m\u001b[0;34m\u001b[0m\u001b[0m\n\u001b[0m",
      "\u001b[0;31mTypeError\u001b[0m: Cannot interpret '3' as a data type"
     ]
    }
   ],
   "source": [
    "x = np.ndarray((2, 3)"
   ]
  },
  {
   "cell_type": "code",
   "execution_count": 29,
   "id": "4952abee",
   "metadata": {},
   "outputs": [
    {
     "data": {
      "text/plain": [
       "1.7650168848086591"
      ]
     },
     "execution_count": 29,
     "metadata": {},
     "output_type": "execute_result"
    }
   ],
   "source": [
    "A = np.random.randn(10)\n",
    "B = np.random.randn(10)\n",
    "\n",
    "np.inner(A, B)"
   ]
  },
  {
   "cell_type": "code",
   "execution_count": 77,
   "id": "69c29ab0",
   "metadata": {},
   "outputs": [
    {
     "data": {
      "text/plain": [
       "(array([ 0.00653762+2.73914504j,  0.00653762-2.73914504j,\n",
       "        -1.45754244+1.25433401j, -1.45754244-1.25433401j,\n",
       "        -0.53901557+1.05835501j, -0.53901557-1.05835501j,\n",
       "         2.6212444 +0.85592199j,  2.6212444 -0.85592199j,\n",
       "         0.65357259+0.j        ,  1.35407656+0.j        ]),\n",
       " array([[ 5.63840421e-01+0.j        ,  5.63840421e-01-0.j        ,\n",
       "          4.43458617e-01+0.j        ,  4.43458617e-01-0.j        ,\n",
       "         -1.42880129e-01+0.18902739j, -1.42880129e-01-0.18902739j,\n",
       "         -4.06683218e-02+0.03470009j, -4.06683218e-02-0.03470009j,\n",
       "          1.03792994e-01+0.j        ,  1.04679952e-01+0.j        ],\n",
       "        [ 3.65214582e-02-0.25958872j,  3.65214582e-02+0.25958872j,\n",
       "          2.46625247e-01+0.06615217j,  2.46625247e-01-0.06615217j,\n",
       "          3.58238532e-01+0.27337585j,  3.58238532e-01-0.27337585j,\n",
       "          2.41131070e-01+0.10407014j,  2.41131070e-01-0.10407014j,\n",
       "         -2.50490697e-01+0.j        ,  4.24520201e-01+0.j        ],\n",
       "        [-1.37788927e-02+0.12618169j, -1.37788927e-02-0.12618169j,\n",
       "          2.72646850e-01+0.09944278j,  2.72646850e-01-0.09944278j,\n",
       "          1.19194639e-01-0.13274152j,  1.19194639e-01+0.13274152j,\n",
       "         -2.67499734e-01+0.03260451j, -2.67499734e-01-0.03260451j,\n",
       "         -2.44220565e-01+0.j        ,  2.61506308e-01+0.j        ],\n",
       "        [-4.15260502e-01-0.03314599j, -4.15260502e-01+0.03314599j,\n",
       "          3.91302644e-01-0.07247709j,  3.91302644e-01+0.07247709j,\n",
       "          5.36790656e-01+0.j        ,  5.36790656e-01-0.j        ,\n",
       "          5.98709584e-01+0.j        ,  5.98709584e-01-0.j        ,\n",
       "          4.12805085e-01+0.j        , -3.90289410e-01+0.j        ],\n",
       "        [ 1.80142868e-01+0.28109403j,  1.80142868e-01-0.28109403j,\n",
       "         -1.52904431e-01+0.20174399j, -1.52904431e-01-0.20174399j,\n",
       "         -2.64594325e-01+0.10131197j, -2.64594325e-01-0.10131197j,\n",
       "          1.23999892e-01+0.08958625j,  1.23999892e-01-0.08958625j,\n",
       "          3.66145874e-03+0.j        ,  2.08726122e-01+0.j        ],\n",
       "        [-1.09261000e-01-0.0378687j , -1.09261000e-01+0.0378687j ,\n",
       "         -3.23312713e-04+0.38656768j, -3.23312713e-04-0.38656768j,\n",
       "          2.21614388e-01-0.05634539j,  2.21614388e-01+0.05634539j,\n",
       "          4.37275268e-01-0.07953993j,  4.37275268e-01+0.07953993j,\n",
       "          1.79594559e-01+0.j        , -2.20346127e-01+0.j        ],\n",
       "        [ 1.23256027e-01+0.01529376j,  1.23256027e-01-0.01529376j,\n",
       "         -2.79349748e-01+0.01128344j, -2.79349748e-01-0.01128344j,\n",
       "          2.79809047e-02-0.09994979j,  2.79809047e-02+0.09994979j,\n",
       "          1.41810517e-01+0.09845562j,  1.41810517e-01-0.09845562j,\n",
       "          2.09960600e-01+0.j        , -2.64872285e-01+0.j        ],\n",
       "        [-3.05234152e-01-0.32215856j, -3.05234152e-01+0.32215856j,\n",
       "         -8.64051882e-02-0.1949205j , -8.64051882e-02+0.1949205j ,\n",
       "          1.57255441e-01-0.23448996j,  1.57255441e-01+0.23448996j,\n",
       "          3.72144499e-01+0.07890822j,  3.72144499e-01-0.07890822j,\n",
       "         -1.82694619e-03+0.j        , -1.59731354e-01+0.j        ],\n",
       "        [-2.45835687e-01-0.15528891j, -2.45835687e-01+0.15528891j,\n",
       "         -1.28570026e-01+0.22620641j, -1.28570026e-01-0.22620641j,\n",
       "         -8.89492286e-02+0.28533566j, -8.89492286e-02-0.28533566j,\n",
       "          2.60582980e-01-0.08970351j,  2.60582980e-01+0.08970351j,\n",
       "          7.38258287e-01+0.j        , -6.04695392e-01+0.j        ],\n",
       "        [-1.43656773e-02+0.04169844j, -1.43656773e-02-0.04169844j,\n",
       "          1.67817000e-01-0.25009559j,  1.67817000e-01+0.25009559j,\n",
       "          3.27748271e-01+0.03187126j,  3.27748271e-01-0.03187126j,\n",
       "         -1.12793407e-01-0.11385349j, -1.12793407e-01+0.11385349j,\n",
       "          2.73952553e-01+0.j        ,  1.86189081e-01+0.j        ]]))"
      ]
     },
     "execution_count": 77,
     "metadata": {},
     "output_type": "execute_result"
    }
   ],
   "source": [
    "# Eigen values\n",
    "\n",
    "np.linalg.eig(np.random.randn(10, 10))"
   ]
  },
  {
   "cell_type": "markdown",
   "id": "815072bb",
   "metadata": {},
   "source": [
    "## Accessing elements\n"
   ]
  },
  {
   "cell_type": "markdown",
   "id": "985d7452",
   "metadata": {},
   "source": [
    "> `numpy` allows us to access data in multiple ways\n",
    "\n",
    "Before we move on to accessing data (and advanced way to do that) you should keep the following in mind (__all the time!__):\n",
    "- __ALWAYS USE `numpy` OPERATIONS__\n",
    "- __NO FOR LOOPS KNOWN FROM PYTHON__ (every operation you do should be done purely in `numpy`)\n",
    "- You will learn more and more ways to avoid loops as we go through the course materials\n",
    "\n",
    "## Standard index-based item\n",
    "\n",
    "First, let's create a `2D` array we will use:"
   ]
  },
  {
   "cell_type": "code",
   "execution_count": 15,
   "id": "26f582fa",
   "metadata": {},
   "outputs": [
    {
     "data": {
      "text/plain": [
       "array([[ 0,  1,  2,  3],\n",
       "       [ 4,  5,  6,  7],\n",
       "       [ 8,  9, 10, 11],\n",
       "       [12, 13, 14, 15],\n",
       "       [16, 17, 18, 19]])"
      ]
     },
     "execution_count": 15,
     "metadata": {},
     "output_type": "execute_result"
    }
   ],
   "source": [
    "matrix = np.arange(20).reshape(5, 4)\n",
    "\n",
    "matrix"
   ]
  },
  {
   "cell_type": "code",
   "execution_count": 16,
   "id": "1e683ee8",
   "metadata": {},
   "outputs": [
    {
     "data": {
      "text/plain": [
       "(0, 4, 0, 8)"
      ]
     },
     "execution_count": 16,
     "metadata": {},
     "output_type": "execute_result"
    }
   ],
   "source": [
    "# Obtaining single element\n",
    "\n",
    "matrix[0, 0], matrix[1, 0], matrix[0, 1], matrix[2][0]"
   ]
  },
  {
   "cell_type": "code",
   "execution_count": 85,
   "id": "e7aa178a",
   "metadata": {},
   "outputs": [
    {
     "data": {
      "text/plain": [
       "array([0, 1, 2, 3])"
      ]
     },
     "execution_count": 85,
     "metadata": {},
     "output_type": "execute_result"
    }
   ],
   "source": [
    "# first row\n",
    "\n",
    "matrix[0]"
   ]
  },
  {
   "cell_type": "code",
   "execution_count": 86,
   "id": "0739e876",
   "metadata": {},
   "outputs": [
    {
     "data": {
      "text/plain": [
       "array([ 0,  4,  8, 12, 16])"
      ]
     },
     "execution_count": 86,
     "metadata": {},
     "output_type": "execute_result"
    }
   ],
   "source": [
    "# : means all elements\n",
    "# 0 means 0th column\n",
    "\n",
    "matrix[:, 0]"
   ]
  },
  {
   "cell_type": "code",
   "execution_count": 91,
   "id": "a67aa896",
   "metadata": {},
   "outputs": [
    {
     "data": {
      "text/plain": [
       "array([[ 8,  9, 10, 11],\n",
       "       [12, 13, 14, 15],\n",
       "       [16, 17, 18, 19]])"
      ]
     },
     "execution_count": 91,
     "metadata": {},
     "output_type": "execute_result"
    }
   ],
   "source": [
    "# Rows from second upwards\n",
    "matrix[2:]"
   ]
  },
  {
   "cell_type": "code",
   "execution_count": 92,
   "id": "5866b0e3",
   "metadata": {},
   "outputs": [
    {
     "data": {
      "text/plain": [
       "array([[ 2,  3],\n",
       "       [ 6,  7],\n",
       "       [10, 11],\n",
       "       [14, 15],\n",
       "       [18, 19]])"
      ]
     },
     "execution_count": 92,
     "metadata": {},
     "output_type": "execute_result"
    }
   ],
   "source": [
    "# Columns from second upwards\n",
    "matrix[:, 2:]"
   ]
  },
  {
   "cell_type": "code",
   "execution_count": 95,
   "id": "f5660fb7",
   "metadata": {},
   "outputs": [
    {
     "data": {
      "text/plain": [
       "array([0, 4, 8])"
      ]
     },
     "execution_count": 95,
     "metadata": {},
     "output_type": "execute_result"
    }
   ],
   "source": [
    "# Rows from zeroth to third, column 0\n",
    "matrix[:3, 0]"
   ]
  },
  {
   "cell_type": "code",
   "execution_count": 102,
   "id": "eeac113c",
   "metadata": {},
   "outputs": [
    {
     "data": {
      "text/plain": [
       "array([[ 3,  2,  1,  0],\n",
       "       [ 7,  6,  5,  4],\n",
       "       [11, 10,  9,  8],\n",
       "       [15, 14, 13, 12],\n",
       "       [19, 18, 17, 16]])"
      ]
     },
     "execution_count": 102,
     "metadata": {},
     "output_type": "execute_result"
    }
   ],
   "source": [
    "# Inverse of columns\n",
    "\n",
    "matrix[:, ::-1]"
   ]
  },
  {
   "cell_type": "code",
   "execution_count": 103,
   "id": "9fc9d72c",
   "metadata": {},
   "outputs": [
    {
     "data": {
      "text/plain": [
       "array([[19, 18, 17, 16],\n",
       "       [15, 14, 13, 12],\n",
       "       [11, 10,  9,  8],\n",
       "       [ 7,  6,  5,  4],\n",
       "       [ 3,  2,  1,  0]])"
      ]
     },
     "execution_count": 103,
     "metadata": {},
     "output_type": "execute_result"
    }
   ],
   "source": [
    "matrix[::-1, ::-1]"
   ]
  },
  {
   "cell_type": "code",
   "execution_count": 104,
   "id": "1182c39b",
   "metadata": {},
   "outputs": [
    {
     "data": {
      "text/plain": [
       "array([[19, 17],\n",
       "       [ 7,  5]])"
      ]
     },
     "execution_count": 104,
     "metadata": {},
     "output_type": "execute_result"
    }
   ],
   "source": [
    "matrix[::-3, ::-2]"
   ]
  },
  {
   "cell_type": "code",
   "execution_count": 87,
   "id": "06fb8a8a",
   "metadata": {},
   "outputs": [
    {
     "data": {
      "text/plain": [
       "(2, 2, 5)"
      ]
     },
     "execution_count": 87,
     "metadata": {},
     "output_type": "execute_result"
    }
   ],
   "source": [
    "# change to 3D tensor\n",
    "temp = matrix.reshape(2, 2, -1)\n",
    "temp.shape"
   ]
  },
  {
   "cell_type": "code",
   "execution_count": 89,
   "id": "f2b2f5f6",
   "metadata": {},
   "outputs": [
    {
     "data": {
      "text/plain": [
       "array([[ 4,  9],\n",
       "       [14, 19]])"
      ]
     },
     "execution_count": 89,
     "metadata": {},
     "output_type": "execute_result"
    }
   ],
   "source": [
    "# Same as temp[:, :, -1] e.g. last element from last dimension\n",
    "# Rest left in-tact\n",
    "# 2, 2 as we have created five 2,2 matrices\n",
    "\n",
    "temp[..., -1]"
   ]
  },
  {
   "cell_type": "markdown",
   "id": "bf385799",
   "metadata": {},
   "source": [
    "## Fancy indexing\n",
    "\n",
    "One of `numpy`'s killer features:\n",
    "\n",
    "> __Fancy indexing allows us to choose elements FROM ANY DIMENSION based on indices we provide__\n",
    "\n",
    "![](./images/numpy_fancy_indexing.png)\n",
    "\n",
    "Once again, we will use our `2D` matrix:"
   ]
  },
  {
   "cell_type": "code",
   "execution_count": 90,
   "id": "80991a99",
   "metadata": {},
   "outputs": [
    {
     "data": {
      "text/plain": [
       "array([[ 0,  1,  2,  3],\n",
       "       [ 4,  5,  6,  7],\n",
       "       [ 8,  9, 10, 11],\n",
       "       [12, 13, 14, 15],\n",
       "       [16, 17, 18, 19]])"
      ]
     },
     "execution_count": 90,
     "metadata": {},
     "output_type": "execute_result"
    }
   ],
   "source": [
    "matrix"
   ]
  },
  {
   "cell_type": "code",
   "execution_count": 97,
   "id": "4806a09b",
   "metadata": {},
   "outputs": [
    {
     "data": {
      "text/plain": [
       "array([[ 0,  2],\n",
       "       [ 4,  6],\n",
       "       [ 8, 10],\n",
       "       [12, 14],\n",
       "       [16, 18]])"
      ]
     },
     "execution_count": 97,
     "metadata": {},
     "output_type": "execute_result"
    }
   ],
   "source": [
    "# Column 0 and 2\n",
    "matrix[:, [0, 2]]"
   ]
  },
  {
   "cell_type": "code",
   "execution_count": 98,
   "id": "5518085a",
   "metadata": {},
   "outputs": [
    {
     "data": {
      "text/plain": [
       "array([[16, 17, 18, 19],\n",
       "       [16, 17, 18, 19]])"
      ]
     },
     "execution_count": 98,
     "metadata": {},
     "output_type": "execute_result"
    }
   ],
   "source": [
    "# Take last row twice\n",
    "\n",
    "matrix[[-1, -1]]"
   ]
  },
  {
   "cell_type": "code",
   "execution_count": 99,
   "id": "db77ac7a",
   "metadata": {},
   "outputs": [
    {
     "name": "stdout",
     "output_type": "stream",
     "text": [
      "[0 1 2 3 4]\n",
      "[1 4 3 0 2]\n"
     ]
    },
    {
     "data": {
      "text/plain": [
       "array([[ 4,  5,  6,  7],\n",
       "       [16, 17, 18, 19],\n",
       "       [12, 13, 14, 15],\n",
       "       [ 0,  1,  2,  3],\n",
       "       [ 8,  9, 10, 11]])"
      ]
     },
     "execution_count": 99,
     "metadata": {},
     "output_type": "execute_result"
    }
   ],
   "source": [
    "# Shuffle rows using indices\n",
    "\n",
    "indices = np.arange(matrix.shape[0])\n",
    "print(indices)\n",
    "permuted = np.random.permutation(indices)\n",
    "print(permuted)\n",
    "\n",
    "matrix[permuted]"
   ]
  },
  {
   "cell_type": "code",
   "execution_count": 100,
   "id": "705a1567",
   "metadata": {},
   "outputs": [
    {
     "data": {
      "text/plain": [
       "array([[ 0,  1,  2,  3],\n",
       "       [ 4,  5,  6,  7],\n",
       "       [12, 13, 14, 15]])"
      ]
     },
     "execution_count": 100,
     "metadata": {},
     "output_type": "execute_result"
    }
   ],
   "source": [
    "# Obtain rows based on boolean values\n",
    "\n",
    "matrix[[True, True, False, True, False]]"
   ]
  },
  {
   "cell_type": "code",
   "execution_count": 101,
   "id": "6c6e5bac",
   "metadata": {},
   "outputs": [
    {
     "name": "stdout",
     "output_type": "stream",
     "text": [
      "[[False False False False]\n",
      " [False False  True  True]\n",
      " [ True  True  True  True]\n",
      " [ True  True  True  True]\n",
      " [ True  True  True  True]]\n"
     ]
    },
    {
     "data": {
      "text/plain": [
       "array([ 6,  7,  8,  9, 10, 11, 12, 13, 14, 15, 16, 17, 18, 19])"
      ]
     },
     "execution_count": 101,
     "metadata": {},
     "output_type": "execute_result"
    }
   ],
   "source": [
    "# Obtaining only elements which fulfill condition\n",
    "# In this case elements larger than 5\n",
    "\n",
    "print(matrix > 5)\n",
    "\n",
    "# Array has to be flat as it lost it's N x N structure\n",
    "matrix[matrix > 5]"
   ]
  },
  {
   "cell_type": "markdown",
   "id": "1f39bbc6",
   "metadata": {},
   "source": [
    "# Key Takeaways\n",
    "\n",
    "- Numpy provides several mathematical functions that can be applied element-wise on array items. The main functions include:\n",
    "\t- Addition\n",
    "\t- Subtration\n",
    "\t- Multiplication\n",
    "\t- Division\n",
    "\t- Bitwise operations\n",
    "- Numpy also provides trigonometric and linear algebra functions\n",
    "- To access data elements in Numpy, it's strongly suggested to avoid using Python loops and to use Numpy operations instead"
   ]
  }
 ],
 "metadata": {
  "interpreter": {
   "hash": "ad8bebc098a042dc0df4e42fc2ecc8fff0bd7b8741641ce29007c29766dadbe0"
  },
  "kernelspec": {
   "display_name": "Python 3.9.1 64-bit ('base': conda)",
   "name": "python3"
  },
  "language_info": {
   "codemirror_mode": {
    "name": "ipython",
    "version": 3
   },
   "file_extension": ".py",
   "mimetype": "text/x-python",
   "name": "python",
   "nbconvert_exporter": "python",
   "pygments_lexer": "ipython3",
   "version": "3.9.5"
  }
 },
 "nbformat": 4,
 "nbformat_minor": 5
}
