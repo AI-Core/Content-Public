{
 "cells": [
  {
   "cell_type": "markdown",
   "metadata": {},
   "source": [
    "# Presto Installation\n",
    "\n",
    "In order to use Presto, there are a few components that we need to download and install. This notebook will show you how to do that.\n",
    "\n",
    "## Steps to Install Presto on a local machine\n",
    "\n",
    "From a high-level, below are the required steps to get Presto up and running on your local machine:\n",
    "\n",
    "#### 1. Setup the Presto Server\n",
    "- Download and install the Presto server tarball\n",
    "- Create the required directories\n",
    "- Create and configure 3 property files:\n",
    "    - `nodes.properties`\n",
    "    - `jvm.config`\n",
    "    - `config.properties`\n",
    "\n",
    "#### 2. Setup the Presto Client\n",
    "- Download and install the Presto client\n",
    "- Prepare the file for use\n",
    "- Modify the tool's access\n",
    "- Install Python (if it's not already configured)\n",
    "- Start the Presto server and client"
   ]
  },
  {
   "cell_type": "markdown",
   "metadata": {},
   "source": [
    "#### 1. Download the Presto Server tarball\n",
    "\n",
    "Next, we need to download the Presto server file by running the below command:"
   ]
  },
  {
   "cell_type": "code",
   "execution_count": null,
   "metadata": {},
   "outputs": [],
   "source": [
    "sudo wget https://repo1.maven.org/maven2/com/facebook/presto/presto-server/0.272/presto-server-0.272.tar.gz"
   ]
  },
  {
   "cell_type": "markdown",
   "metadata": {},
   "source": [
    "#### 2. Unpack the tarball to extract the files\n",
    "\n",
    "After the file is downloaded, we need to unpack it. To do this, run the below command:"
   ]
  },
  {
   "cell_type": "code",
   "execution_count": null,
   "metadata": {},
   "outputs": [],
   "source": [
    "sudo tar -xzvf presto-server-0.272.tar.gz -C /usr/local/\n",
    "\n",
    "cd /usr/local\n",
    "\n",
    "# Rename the directory to presto\n",
    "sudo mv presto-server-0.272 presto"
   ]
  },
  {
   "cell_type": "markdown",
   "metadata": {},
   "source": [
    "#### 3. Delete the tarball\n",
    "\n",
    "After all files are unpacked successfully, we'll delete the tarball to save disk space. Change directory to the folder the tar was stored in and run the below command:"
   ]
  },
  {
   "cell_type": "code",
   "execution_count": null,
   "metadata": {},
   "outputs": [],
   "source": [
    "rm -r presto-server-0.272.tar.gz"
   ]
  },
  {
   "cell_type": "markdown",
   "metadata": {},
   "source": [
    "#### 4. Create a Presto `data` directory\n",
    "\n",
    "Presto requires a `prestodata` directory to store log files. As a best practice, it's recommended to create this directory _outside_ of the installation folder in order to maintain this information even if Presto is deleted or upgraded etc. \n",
    "\n",
    "Let's go ahead and create this directory as follows:"
   ]
  },
  {
   "cell_type": "code",
   "execution_count": null,
   "metadata": {},
   "outputs": [],
   "source": [
    "sudo mkdir /usr/local/prestodata"
   ]
  },
  {
   "cell_type": "markdown",
   "metadata": {},
   "source": [
    "#### 5. Create an `etc` directory\n",
    "\n",
    "This will be used to store all the required configuration files. We'll need to create the following configuration files:\n",
    "- `node.properties`\n",
    "    - Stores the environmental configurations that are specific to each node\n",
    "- `jvm.config`\n",
    "    - Sets the command line options for the Java virtual machine (JVM)\n",
    "- `config.properties`\n",
    "    - Sets the configurations for the Presto server itself\n",
    "\n",
    "We can create it inside the main Presto installation folder as follows:"
   ]
  },
  {
   "cell_type": "code",
   "execution_count": null,
   "metadata": {},
   "outputs": [],
   "source": [
    "sudo mkdir /usr/local/presto/etc"
   ]
  },
  {
   "cell_type": "markdown",
   "metadata": {},
   "source": [
    "#### 6. Create the `node.properties` file\n",
    "\n",
    "This file contains the configurations that are specific to each node. A _node_ is a single installed instance of Presto on a machine.\n",
    "\n",
    "Let's go ahead and create this file:"
   ]
  },
  {
   "cell_type": "code",
   "execution_count": null,
   "metadata": {},
   "outputs": [],
   "source": [
    "sudo nano /usr/local/presto/etc/node.properties"
   ]
  },
  {
   "cell_type": "markdown",
   "metadata": {},
   "source": [
    "Once the file is created, add the following then save the file:"
   ]
  },
  {
   "cell_type": "code",
   "execution_count": null,
   "metadata": {},
   "outputs": [],
   "source": [
    "node.environment=production\n",
    "## can say to generate a unique Id here and replace this one\n",
    "node.id=ffffffff-ffff-ffff-ffff-ffffffffffff # random uuid\n",
    "node.data-dir=/usr/local/prestodata"
   ]
  },
  {
   "cell_type": "markdown",
   "metadata": {},
   "source": [
    "Below is a brief description of what each of these properties does:\n",
    "\n",
    "`node.environment` \n",
    "- The name of the environment\n",
    "- All Presto nodes in a cluster must have the _same_ environment name\n",
    "\n",
    "`node.id` \n",
    "- The unique identifier for this Presto node\n",
    "- This ID must be unique for every node\n",
    "\n",
    "`node.data-dir` \n",
    "- The location the Presto data directory\n",
    "- Presto will store logs and other data here"
   ]
  },
  {
   "cell_type": "markdown",
   "metadata": {},
   "source": [
    "#### 7. Create the `jvm.config` file\n",
    "\n",
    "Our next task is to create the Java virtual machine (JVM) configuration file. This file contains a list of command line options used to specify the parameters for the JVM.\n",
    "\n",
    "Let's create the file by running the below command:"
   ]
  },
  {
   "cell_type": "code",
   "execution_count": null,
   "metadata": {},
   "outputs": [],
   "source": [
    "sudo nano /usr/local/presto/etc/jvm.config"
   ]
  },
  {
   "cell_type": "markdown",
   "metadata": {},
   "source": [
    "Once the file is created, add the following settings and save the file:"
   ]
  },
  {
   "cell_type": "code",
   "execution_count": null,
   "metadata": {},
   "outputs": [],
   "source": [
    "-server\n",
    "-Xmx16G \n",
    "-XX:+UseG1GC  \n",
    "-XX:G1HeapRegionSize=32M \n",
    "-XX:+UseGCOverheadLimit\n",
    "-XX:+ExplicitGCInvokesConcurrent\n",
    "-XX:+HeapDumpOnOutOfMemoryError \n",
    "-XX:+ExitOnOutOfMemoryError "
   ]
  },
  {
   "cell_type": "markdown",
   "metadata": {},
   "source": [
    "#### 8. Create the `config.properties` file\n",
    "\n",
    "This file contains the configuration information for the Presto server. \n",
    "\n",
    "_Note: Every Presto server can function as both a coordinator and a worker. In large enterprise clusters, it's recommended to use one machine as the coordinator and another machine as the worker as this enhances the performance of the overall system. Howerver, for testing and training purposes, both roles can be configured on the same node._\n",
    "\n",
    "Let's go ahead and create the file by running the below command:"
   ]
  },
  {
   "cell_type": "code",
   "execution_count": null,
   "metadata": {},
   "outputs": [],
   "source": [
    "sudo nano /usr/local/presto/etc/config.properties"
   ]
  },
  {
   "cell_type": "markdown",
   "metadata": {},
   "source": [
    "Once the file is created, add the below settings then save the file:"
   ]
  },
  {
   "cell_type": "code",
   "execution_count": null,
   "metadata": {},
   "outputs": [],
   "source": [
    "coordinator=true\n",
    "node-scheduler.include-coordinator=true\n",
    "http-server.http.port=8080\n",
    "query.max-memory=5GB\n",
    "query.max-memory-per-node=1GB\n",
    "query.max-total-memory-per-node=2GB\n",
    "discovery-server.enabled=true\n",
    "discovery.uri=http://localhost:8080"
   ]
  },
  {
   "cell_type": "markdown",
   "metadata": {},
   "source": [
    "Below is a brief explanation of each of these properties:\n",
    "\n",
    "`coordinator`\n",
    "- Sets the current Presto instance to operate as a coordinator (accept queries from clients and manage query execution)\n",
    "\n",
    "`node-scheduler.include-coordinator`\n",
    "- Whether or not to enable scheduling work on this coordinator\n",
    "- For larger clusters, processing work on the coordinator can impact query performance\n",
    "\n",
    "`http-server.http.port`\n",
    "- Specifies the port to use for the HTTP server\n",
    "- Presto uses HTTP for all communication, internal and external.\n",
    "\n",
    "`query.max-memory`\n",
    "- The maximum total amount of distributed memory that a query can use\n",
    "\n",
    "`query.max-memory-per-node`\n",
    "- The maximum amount of user memory a query can use on any one machine\n",
    "\n",
    "`query.max-total-memory-per-node`\n",
    "- The maximum amount of user and system memory that a query may use on any one machine\n",
    "- _System memory_ is the memory used during execution by readers, writers, and network buffers, etc.\n",
    "\n",
    "`discovery-server.enabled`\n",
    "- Presto uses the Discovery service to find all available nodes in a cluster\n",
    "- Every Presto instance will register itself with the Discovery service on startup\n",
    "\n",
    "`discovery.uri`\n",
    "- The URI to the Discovery server\n",
    "- This should be the URI of the Presto coordinator"
   ]
  },
  {
   "cell_type": "markdown",
   "metadata": {},
   "source": [
    "This completes the required configurations for the Preso server. Next, we'll setup the Presto client."
   ]
  },
  {
   "cell_type": "markdown",
   "metadata": {},
   "source": [
    "## Setup the Presto Client\n",
    "\n",
    "#### 1. Download and Install the Presto Client\n",
    "\n",
    "Now that the server is up and running, the next group of steps will focus on downloading and installing the Presto client. We'll be using the client as the interface to connect to the server.\n",
    "\n",
    "First, run the following command to download the Presto client file:"
   ]
  },
  {
   "cell_type": "code",
   "execution_count": null,
   "metadata": {},
   "outputs": [],
   "source": [
    "sudo wget https://repo1.maven.org/maven2/com/facebook/presto/presto-cli/0.270/presto-cli-0.270-executable.jar"
   ]
  },
  {
   "cell_type": "markdown",
   "metadata": {},
   "source": [
    "#### 2. Move the `.jar` file to the Presto Server `bin` folder and rename it to `presto`. This will allow you to execute the file as a program to interact with the Presto CLI.\n",
    "\n",
    "Run the below command:"
   ]
  },
  {
   "cell_type": "code",
   "execution_count": null,
   "metadata": {},
   "outputs": [],
   "source": [
    "sudo mv presto-cli-0.270-executable.jar /usr/local/presto/bin/presto"
   ]
  },
  {
   "cell_type": "markdown",
   "metadata": {},
   "source": [
    "#### 3. Grant execution access to the CLI   \n",
    "\n",
    "To be able to run the Presto CLI, we need to change the access right to make it executable. Run the below command:"
   ]
  },
  {
   "cell_type": "code",
   "execution_count": null,
   "metadata": {},
   "outputs": [],
   "source": [
    "sudo chmod +x presto"
   ]
  },
  {
   "cell_type": "markdown",
   "metadata": {},
   "source": [
    "#### 4. Run the Presto Server\n",
    "\n",
    "Go one level up in the folder hierarchy and launch the Presto server. \n",
    "\n",
    "To do this, run the below commands:"
   ]
  },
  {
   "cell_type": "code",
   "execution_count": null,
   "metadata": {},
   "outputs": [],
   "source": [
    "# Go one level up in the folder hierarchy\n",
    "cd ..\n",
    "\n",
    "# Launch the Presto Server\n",
    "## We should add in here first to run the server with /bin/launcher run cause it should the log to the server starting up and will show any errors with the server which can then be fixed.\n",
    "# Doesn't show this if you just start it as a service. \n",
    "bin/launcher run\n",
    "\n",
    "## If the server returns no errors then you can start it as a process with\n",
    "/bin/launcher stop\n",
    "/bin/launcher start"
   ]
  },
  {
   "cell_type": "markdown",
   "metadata": {},
   "source": [
    "If everything runs successfully, you should see something similar to this output:\n",
    "\n",
    "<p align=\"center\">\n",
    "  <img src=\"images/launcher-success.png\" width=600>\n",
    "</p>"
   ]
  },
  {
   "cell_type": "markdown",
   "metadata": {},
   "source": [
    "_Note: One common error you may encounter is `/usr/bin/env: ‘python’: No such file or directory`_\n",
    "\n",
    "<p align=\"center\">\n",
    "  <img src=\"images/launcher-error.png\" width=600>\n",
    "</p>\n",
    "\n",
    "To resolve this error, check that:\n",
    "- Python is correctly installed \n",
    "- The Python folder path is correct\n",
    "\n",
    "To do this, run the below commands:"
   ]
  },
  {
   "cell_type": "code",
   "execution_count": null,
   "metadata": {},
   "outputs": [],
   "source": [
    "# Install Python3\n",
    "sudo apt-get install python3"
   ]
  },
  {
   "cell_type": "markdown",
   "metadata": {},
   "source": [
    "If Python is already installed, it will give you a message similar to this one:\n",
    "<p align=\"center\">\n",
    "  <img src=\"images/python-installed.png\" width=600>\n",
    "</p>"
   ]
  },
  {
   "cell_type": "markdown",
   "metadata": {},
   "source": [
    "Next, rename the Python folder by running the below command:"
   ]
  },
  {
   "cell_type": "code",
   "execution_count": null,
   "metadata": {},
   "outputs": [],
   "source": [
    "# Rename the Python3 folder to Python\n",
    "sudo ln -s /usr/bin/python3 /usr/bin/python"
   ]
  },
  {
   "cell_type": "markdown",
   "metadata": {},
   "source": [
    "#### 5. Check the Presto UI\n",
    "\n",
    "To double check that the Presto server is running correctly, we can connect to the URL and port which we configured earlier. This will open the cluster overview page.\n",
    "\n",
    "To do this, open a web browser (such as Firefox) and enter the below:"
   ]
  },
  {
   "cell_type": "code",
   "execution_count": null,
   "metadata": {},
   "outputs": [],
   "source": [
    "127.0.0.1:8080"
   ]
  },
  {
   "cell_type": "markdown",
   "metadata": {},
   "source": [
    "Assuming all is well, you should see the following:\n",
    "<p align=\"center\">\n",
    "  <img src=\"images/presto-gui.png\" width=600>\n",
    "</p>"
   ]
  },
  {
   "cell_type": "markdown",
   "metadata": {},
   "source": [
    "#### 6. Run the Client\n",
    "\n",
    "Next, we'll run the client and connect it to the server by running the below command:"
   ]
  },
  {
   "cell_type": "code",
   "execution_count": null,
   "metadata": {},
   "outputs": [],
   "source": [
    "bin/presto --server 127.0.0.1:8080"
   ]
  },
  {
   "cell_type": "markdown",
   "metadata": {},
   "source": [
    "Assuming all goes well, you should now see the Presto client shell as below:\n",
    "\n",
    "<p align=\"center\">\n",
    "  <img src=\"images/presto-client.png\" width=600>\n",
    "</p>"
   ]
  },
  {
   "cell_type": "markdown",
   "metadata": {},
   "source": [
    "That completes the Presto environment setup. The Presto client and server are now connected and ready to go!\n",
    "\n",
    "The next step will be integrating Presto with whichever tool that has the required data stored. This integration will be covered in a seperate notebook."
   ]
  }
 ],
 "metadata": {
  "language_info": {
   "name": "python"
  },
  "orig_nbformat": 4
 },
 "nbformat": 4,
 "nbformat_minor": 2
}
