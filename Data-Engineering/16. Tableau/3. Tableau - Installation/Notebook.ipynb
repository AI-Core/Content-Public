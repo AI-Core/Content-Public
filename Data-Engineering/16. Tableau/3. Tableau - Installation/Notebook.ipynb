{
 "cells": [
  {
   "cell_type": "markdown",
   "metadata": {},
   "source": [
    "# Tableau Desktop - Installation \n",
    "\n",
    "> Tableau Desktop is the stand-alone version of the flagship data visualisation product. It is designed to be installed on a single machine.\n",
    "\n",
    "Although it's a paid software, there is a 14-day free trial period which allows users to explore the tool. \n",
    "\n",
    "Tableau Desktop is available for both Windows and Mac. At the time of this writing, there is no Desktop version for Linux operating systems (although Tableau Server supports Linux).\n"
   ]
  },
  {
   "cell_type": "markdown",
   "metadata": {},
   "source": [
    "## Download and install Tableau Desktop\n",
    "\n",
    "### 1. Download Tableau Desktop\n",
    "\n",
    "The first step is to open the [Tableau Desktop official website](https://www.tableau.com/products/desktop) and to download the latest version compatible with your operating system.\n",
    "\n",
    "Click on the \"Try It For Free\" button as you can see in the below screenshot:\n",
    "\n",
    "<p align=\"center\">\n",
    "<img src= \"images/tableau-download.png\" width=600>\n",
    "<figcaption align=\"center\"><cite>Tableau Desktop Download</cite></figcaption>\n",
    "</p>\n",
    "\n",
    "\n",
    "Save the installation file in your local folder of choice. The file should have a name similar to `TableauDesktop-64bit-2022-1-0.exe`\n"
   ]
  },
  {
   "cell_type": "markdown",
   "metadata": {},
   "source": [
    "\n",
    "### 2. Install Tableau Desktop\n",
    "\n",
    "Once the installation file has been downloaded, open the folder containing the file and double-click on it to begin the installer.\n",
    "\n",
    "Select the location where you want to install Tableau Desktop, and complete all required steps to configure it."
   ]
  },
  {
   "cell_type": "markdown",
   "metadata": {},
   "source": [
    "\n",
    "### 3. Run Tableau Desktop\n",
    "\n",
    "> Tableau Desktop is a paid software that provides a 14-day trial period for free. Please only start the trial once you are ready to do the actual required work to avoid paying.\n",
    "\n",
    "After the installation completes successfully, run the application itself and ensure everything is working properly.\n",
    "\n",
    "You might be prompted to enter your email address to confirm the 14-day trial. Go ahead and do that.\n",
    "\n",
    "As soon as Tableau opens, you should see the main `Data Source` homepage which looks like this:\n",
    "\n",
    "<p align=\"center\">\n",
    "<img src= \"images/tableau-home.png\" width=600>\n",
    "<figcaption align=\"center\"><cite>Data Sources Homepage</cite></figcaption>\n",
    "</p>\n",
    "\n",
    "On the left, you'll notice a blue vertical menu which contains the following sections under the \"Connect\" heading:\n",
    "\n",
    "#### Search for Data\n",
    "\n",
    "This section allows users to connect either to Tableau Online or Tableau Server\n",
    "\n",
    "#### To a File\n",
    "\n",
    "This section provides various types of file formats to connect to. There are many types of supported file types including:\n",
    "\n",
    "- Character Delimited Files (CSV)\n",
    "- JSON\n",
    "- PDF\n",
    "- Text\n",
    "- Excel\n",
    "- Spatial \n",
    "- Statistical\n",
    "- Tab delimited\n",
    "- Microsoft Access database\n",
    "\n",
    "#### To a Server\n",
    "\n",
    "This section provides the connectors that allow Tableau to integrate with various data sources including:\n",
    "- Web data\n",
    "- JDBC databases\n",
    "- ODBC databases \n",
    "- NoSQL data stores\n",
    "\n",
    "For a full list of supported data sources, click on the `More` button as you can see in the below screenshot:\n",
    "\n",
    "<p align=\"center\">\n",
    "<img src= \"images/tableau-data-sources.png\" width=600>\n",
    "<figcaption align=\"center\"><cite>Tableau Supported Connectors</cite></figcaption>\n",
    "</p>"
   ]
  }
 ],
 "metadata": {
  "language_info": {
   "name": "python"
  },
  "orig_nbformat": 4
 },
 "nbformat": 4,
 "nbformat_minor": 2
}
