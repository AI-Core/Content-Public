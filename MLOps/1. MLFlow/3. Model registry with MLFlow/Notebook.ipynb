{
 "cells": [
  {
   "cell_type": "markdown",
   "source": [
    "# MLFlow for Model Registry\n",
    "\n",
    "> A __model registry__ is a central place to store (register) models\n",
    "\n",
    "MLFlow provides a popular model registry\n",
    "\n",
    "> The MLFLow model registry  manages the lifecycle of `MLModel` (lineage (which experiment and run produced it), version, staging, annotations)\n",
    "\n",
    "The MLFlow model registry can be set up as shown below.\n",
    "\n",
    "```\n",
    "\t\tmlflow server \\\n",
    "\t\t\t--backend-store-uri sqlite:///mlflow.db \\\n",
    "\t\t\t--default-artifact-root ./artifacts \\\n",
    "\t\t\t--host 127.0.0.1\n",
    "```\n",
    "\n",
    "> COMMON ISSUE: To connect to a mlflow server, you need to have an environment model called `MLFLOW_TRACKING_URI` set. \n",
    "\n",
    "One error which this can cause is the following:\n",
    "```\n",
    "INVALID_PARAMETER_VALUE:  Model registry functionality is unavailable; got unsupported URI './mlruns' for model registry data storage. Supported URI schemes are: ['postgresql', 'mysql', 'sqlite', 'mssql']\n",
    "```\n",
    "\n",
    "To fix this, let your MLFLOW_TRACKING_URI as shown below\n",
    "\n",
    "```\n",
    "export MLFLOW_TRACKING_URI=http://localhost:5000\n",
    "```\n",
    "\n",
    "Please remember, that this environment variable will only be set in the teminal you run it in. If you quit this terminal, you'll need to run that command again when you open up a new terminal. To avoid this, add that line to your `.bashrc` file, which runs every time you open a new terminal (or corresponding file depending on which terminal you use).\n",
    "\n",
    "> COMMON MISTAKE: The Python API method `mlflow.set_tracking_uri(...)` will only work if your `MLFLOW_TRACKING_URI` environment variable is already set, in which case it will replace it.\n",
    "\n",
    "Check out the docs [here](https://www.mlflow.org/docs/latest/tracking.html#mlflow-tracking-servers)\n",
    "\n",
    "A few new concepts are introduced:\n",
    "- __Registered model__ - `MLModel` which was explicitly registered (with metadata mentioned above)\n",
    "- __Model version__ - First registered model gets a `1` which is incremented after each new model registration\n",
    "- __Model stage__ - similar to `git` or data warehouses:\n",
    "    - `staging`\n",
    "    - `production`\n",
    "    - `archived`\n",
    "- __Model annotations__ - markdown documenting the model (algorithm description, dataset used etc.)\n",
    "\n",
    "All of the above has to be done __after saving model via `log_model`__ and can be done via __API or UI__.\n",
    "\n",
    "We will use API, to check how to do it via UI look [here](https://www.mlflow.org/docs/latest/model-registry.html#ui-workflow).\n",
    "\n",
    "There are three programmatic ways to register the model:\n",
    "- Via `log_model`'s `registered_model_name` argument; __when we want to register model from each experiment__\n",
    "- [`mlflow.register_model`](https://www.mlflow.org/docs/latest/python_api/mlflow.html#mlflow.register_model); __explicit registration of chosen model with run `id` specified__\n",
    "- [`mlflow.Client`'s `create_registered_model`](https://www.mlflow.org/docs/latest/python_api/mlflow.tracking.html#mlflow.tracking.MlflowClient.create_registered_model); __like above, but Client is connected to specific run hence no need for explicit run `id` specification__"
   ],
   "metadata": {}
  },
  {
   "cell_type": "code",
   "execution_count": 1,
   "source": [
    "# Version one\n",
    "\n",
    "from random import random, randint\n",
    "from sklearn.ensemble import RandomForestRegressor\n",
    "\n",
    "import mlflow\n",
    "import mlflow.sklearn\n",
    "\n",
    "with mlflow.start_run(run_name=\"YOUR_RUN_NAME\") as run:\n",
    "    params = {\"n_estimators\": 5, \"random_state\": 42}\n",
    "    sk_learn_rfr = RandomForestRegressor(**params)\n",
    "\n",
    "    # Log parameters and metrics using the MLflow APIs\n",
    "    mlflow.log_params(params)\n",
    "    mlflow.log_param(\"param_1\", randint(0, 100))\n",
    "    mlflow.log_metrics({\"metric_1\": random(), \"metric_2\": random() + 1})\n",
    "\n",
    "    # Log the sklearn model and register as version 1\n",
    "    mlflow.sklearn.log_model(\n",
    "        sk_model=sk_learn_rfr,\n",
    "        artifact_path=\"sklearn-model\",\n",
    "        registered_model_name=\"sk-learn-random-forest-reg-model\"\n",
    "    )"
   ],
   "outputs": [
    {
     "output_type": "stream",
     "name": "stderr",
     "text": [
      "Successfully registered model 'sk-learn-random-forest-reg-model'.\n",
      "2021/07/04 19:40:05 INFO mlflow.tracking._model_registry.client: Waiting up to 300 seconds for model version to finish creation.                     Model name: sk-learn-random-forest-reg-model, version 1\n",
      "Created version '1' of model 'sk-learn-random-forest-reg-model'.\n"
     ]
    }
   ],
   "metadata": {}
  },
  {
   "cell_type": "code",
   "execution_count": null,
   "source": [
    "# Version two\n",
    "\n",
    "result = mlflow.register_model(\n",
    "    \"runs:/d16076a3ec534311817565e6527539c0/sklearn-model\",\n",
    "    \"sk-learn-random-forest-reg\"\n",
    ")"
   ],
   "outputs": [],
   "metadata": {}
  },
  {
   "cell_type": "code",
   "execution_count": null,
   "source": [
    "# Version three\n",
    "\n",
    "from mlflow.tracking import MlflowClient\n",
    "\n",
    "client = MlflowClient()\n",
    "client.create_registered_model(\"sk-learn-random-forest-reg-model\")"
   ],
   "outputs": [],
   "metadata": {}
  },
  {
   "cell_type": "markdown",
   "source": [
    "## Experiments vs Models\n",
    "\n",
    "> Run experiments to evaluate many models, and then log only the best ones to the model registry\n",
    "\n",
    "It's fine to try out lots of experiments when you are developing, but you don't want to clutter up the central model store."
   ],
   "metadata": {}
  },
  {
   "cell_type": "markdown",
   "source": [
    "## Retrieving the model\n",
    "\n",
    "Like previously we can use `mlflow.<framework>.load_model` for loading by:\n",
    "- specifying the model version\n",
    "- specifying the stage"
   ],
   "metadata": {}
  },
  {
   "cell_type": "code",
   "execution_count": null,
   "source": [
    "# loading by version\n",
    "\n",
    "import mlflow.pyfunc\n",
    "\n",
    "model_name = \"sk-learn-random-forest-reg-model\"\n",
    "model_version = 1\n",
    "\n",
    "model = mlflow.pyfunc.load_model(\n",
    "    model_uri=f\"models:/{model_name}/{model_version}\"\n",
    ")\n",
    "\n",
    "model.predict(data)\n"
   ],
   "outputs": [],
   "metadata": {}
  },
  {
   "cell_type": "code",
   "execution_count": null,
   "source": [
    "# loading by stage\n",
    "\n",
    "import mlflow.pyfunc\n",
    "\n",
    "model_name = \"sk-learn-random-forest-reg-model\"\n",
    "stage = 'Staging'\n",
    "\n",
    "model = mlflow.pyfunc.load_model(\n",
    "    model_uri=f\"models:/{model_name}/{stage}\"\n",
    ")\n",
    "\n",
    "model.predict(data)\n",
    "\n"
   ],
   "outputs": [],
   "metadata": {}
  },
  {
   "cell_type": "markdown",
   "source": [
    "### Other things\n",
    "\n",
    "We can also:\n",
    "- update model\n",
    "- change it's description\n",
    "- transition from one stage to another (allowed values are: `Staging`, `Production`, `Archived` or `None` (as Python variable)\n",
    "- [searching registered models](https://www.mlflow.org/docs/latest/model-registry.html#listing-and-searching-mlflow-models) \n",
    "- [deleting registered models](https://www.mlflow.org/docs/latest/model-registry.html#deleting-mlflow-models) (although it's better to use `Archived` to keep track of experiments)"
   ],
   "metadata": {}
  },
  {
   "cell_type": "markdown",
   "source": [
    "## Exercise\n",
    "\n",
    "Now that we know a little bit about `MLFlow` we will __create `MLFLow` project__ (you can look at [this official tutorial](https://mlflow.org/docs/latest/tutorials-and-examples/tutorial.html) to help you get started):\n",
    "- Create new private GitHub repository (e.g `example experiment`)\n",
    "- Choose an example dataset from [`scikit-learn`](https://scikit-learn.org/stable/)\n",
    "- Create simple command line parser with [`argparse`](https://docs.python.org/3/library/argparse.html) and a few experiment parameters\n",
    "- Run experiments to find best algorithm in `sklearn` for your task (choose up to `5`)\n",
    "- Commit everything and try to replicate results directly from GitHub\n",
    "- Save the model in MLFlow's `model` format\n",
    "- Deploy the model locally\n",
    "\n",
    "Below is a small snippet using `argparse`, refer to documentation for more info (also save it locally in a file called `foo.py` and run `python<3> foo.py --help`)"
   ],
   "metadata": {}
  },
  {
   "cell_type": "code",
   "execution_count": null,
   "source": [
    "import argparse\n",
    "\n",
    "parser = argparse.ArgumentParser(description='Process some integers.')\n",
    "parser.add_argument('integers', metavar='N', type=int, nargs='+',\n",
    "                    help='an integer for the accumulator')\n",
    "parser.add_argument('--sum', dest='accumulate', action='store_const',\n",
    "                    const=sum, default=max,\n",
    "                    help='sum the integers (default: find the max)')\n",
    "\n",
    "args = parser.parse_args()"
   ],
   "outputs": [],
   "metadata": {}
  },
  {
   "cell_type": "markdown",
   "source": [
    "To summarise this notebook: MLFlow can be used to register models on the mlflow server. This means that models can be shared across the company easily."
   ],
   "metadata": {}
  }
 ],
 "metadata": {
  "kernelspec": {
   "name": "python3",
   "display_name": "Python 3.8.2 64-bit ('main': conda)"
  },
  "language_info": {
   "codemirror_mode": {
    "name": "ipython",
    "version": 3
   },
   "file_extension": ".py",
   "mimetype": "text/x-python",
   "name": "python",
   "nbconvert_exporter": "python",
   "pygments_lexer": "ipython3",
   "version": "3.8.2"
  },
  "interpreter": {
   "hash": "06c1e258a470a687113bfba03f207c092b27379067ada2d83b8b31269ab641fe"
  }
 },
 "nbformat": 4,
 "nbformat_minor": 5
}