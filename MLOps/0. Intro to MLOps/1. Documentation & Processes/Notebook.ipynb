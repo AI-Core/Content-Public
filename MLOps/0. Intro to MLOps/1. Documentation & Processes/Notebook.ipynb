{
 "cells": [
  {
   "cell_type": "markdown",
   "source": [
    "# Documentation & Processes\n",
    "\n",
    "MLOps is all about streamlining ML engineering processes. It is not all about new technical tools. Companies can achieve big wins by simply defining better ways of working.\n",
    "\n",
    "## Documentation\n",
    "\n",
    "> Documentation is any form of written material which describes how something is done or how it works.\n",
    "\n",
    "Documentation can help:\n",
    "- Reduce the time required from senior individuals to onboard juniors\n",
    "- Reduce misinterpretation of what should be happening\n",
    "- Reduce dependency on knowledge siloed in individuals or individual teams\n",
    "- Everyone to share a common language\n",
    "\n",
    "Documentation is not just for code! These benefits apply outside of programming as much as they do within it.\n",
    "\n",
    "### How should I make documentation?\n",
    "\n",
    "There are many good places to create documentation. \n",
    "- GitHub Pages\n",
    "- Notion\n",
    "- Confluence\n",
    "- Google Docs\n",
    "\n",
    "The choice is up to you and depends on your constraints and what you prefer.\n",
    "\n",
    "### What should I document?\n",
    "\n",
    "- How code gets from development to production\n",
    "- How bugs get reported and resolved\n",
    "- Which processes must be followed, how they happen and when they happen\n",
    "- Who do I report to?\n",
    "- How do I get access to some data?\n",
    "- How do I get some system up and running if it goes down?\n",
    "\n",
    "You should document every part of your business that depends on knowledge of how something is done, but keep it DRY...\n",
    "\n",
    "> DRY - Don't Repeat Yourself!\n",
    "\n",
    "If it's obvious how something works just by looking at it, then it probably doesn't need to be documented because it is \"self-documented\". Some programming alnguages are self documented, like TypeScript, but so are many less technical things; for example, you don't need to write the time of any process meetings in your documentation if it already appears in everyone's calendar, but you might still need to include the purpose of the meeting so people know what the regular agenda is.\n",
    "    "
   ],
   "metadata": {}
  },
  {
   "cell_type": "markdown",
   "source": [
    "\n",
    "## Processes\n",
    "\n",
    "> Processes are defined ways of working that everyone is aware of\n",
    "\n",
    "Example processes\n",
    "- Code review always happens when a pull request is made into the main branch, and always has a senior engineer sign off on it\n",
    "- Every week, we have an operations review meeting to check if we're focused on the right goals\n",
    "- Every week, on Friday at 1700, we score our OKRs\n",
    "\n",
    "Processes can help:\n",
    "- Provide structure to everyone's work\n",
    "- Make any \n",
    "- as over time they can be scrutinised, anaylsed and improved, much like code\n",
    "\n",
    "### Standardising and streamlining processes\n",
    "\n",
    "Firstly, processes need to be followed consistently. If you it sometimes, and not other times, then it's not a process! You don't want to have people saying \"Oh, I didn't realise we were still doing that\".\n",
    "\n",
    "Standardisation is useful because\n",
    "- regular processes are easier to get use to\n",
    "- your team can learn how to do it more effectively over time.\n",
    "- you can analyse the process and make it more effective\n",
    "\n",
    "### Identifying opportunities to streamline work\n",
    "\n",
    "A good exercise is to draw out a flowchart of your role, with boxes for each task and nodes between them to indicate order. Then ask yourself what here is already unnecessary. Then ask yourself which parts could be automated. By doing this, you can quickly help your team to focus on what's important and clearly explain it."
   ],
   "metadata": {}
  },
  {
   "cell_type": "markdown",
   "source": [],
   "metadata": {}
  }
 ],
 "metadata": {
  "orig_nbformat": 4,
  "language_info": {
   "name": "python"
  }
 },
 "nbformat": 4,
 "nbformat_minor": 2
}