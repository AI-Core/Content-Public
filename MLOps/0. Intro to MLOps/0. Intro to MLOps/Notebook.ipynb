{
 "cells": [
  {
   "cell_type": "markdown",
   "source": [
    "# Intro to MLOps\n",
    "\n",
    "> MLOps is the name for bringing DevOps practices to ML teams."
   ],
   "metadata": {}
  },
  {
   "cell_type": "markdown",
   "source": [
    "\n",
    "## Reminder: DevOps\n",
    "\n",
    "Devlopment Operations, or DevOps, practices concern streamlining how teams can build, test and deploy high quality applications.\n",
    "\n",
    "### Key DevOps practices\n",
    "- Continuous integration\n",
    "- Single source of truth for code and artifacts\n",
    "- Continuous testing\n",
    "- Definining infrastructure as code\n",
    "- Observability and monitoring\n",
    "- Bug reporting\n",
    "- Security ops (DevSecOps)\n",
    "\n",
    "### Benefits of DevOps\n",
    "- increasing automation (e.g. CI-CD)\n",
    "- defining repeatable processes (e.g code review)\n",
    "- standardise things (e.g. code style guide)"
   ],
   "metadata": {}
  },
  {
   "cell_type": "markdown",
   "source": [
    "\n",
    "## So how is DevOps different to MLOps?\n",
    "\n",
    "> Machine learning systems are fundamentally different to most software systems because the solution can change. The best recommendation system today is not the best recommendation system 1 year from now.\n",
    "\n",
    "Because of this, machine learning projects bring a number of unique challenges which are not often present in traditional software projects.\n",
    "- the need to keep track of what data produced what models\n",
    "- monitoring model outputs in production\n",
    "- monitoring data drift\n",
    "- training\n",
    "- retraining\n",
    "- sharing experiments across teams\n",
    "- sharing features across teams\n",
    "\n",
    "These are just different parts of the AI stack.\n",
    "Each of these new parts of the problem can be streamlined through processes, documentation or tooling. Doing this, is MLOps.\n",
    "\n",
    "MLOps is still in it's infancy, and we expect the definition to evolve. Every tool used in the ML stack _could_ in theory be considered an MLOps tool, in the sense that they streamline ML system development by (hopefully) making it easier. Currently, MLOps tools refer to those which make it easier for you to more quickly iterate through the ML model lifecycle, particularly after the model is put into production.\n",
    "\n",
    "For example,\n",
    "- __Feature stores__ are a single place to store features that might be used across teams, but could be costly to compute, like the average purchase size this year \n",
    "- __Model registrys__, like MLFlow's, allow you to move models into and out of production with a simple dropdown menu \n",
    "- __Data versioning__ tools like DVC help you to repeat experiments and track what worked best for different data as it constantly evolves\n",
    "\n",
    "### Benefits of MLOps\n",
    "\n",
    "1. Faster project delivery\n",
    "    - Quicker handovers between teams\n",
    "    - Quicker onboarding for new team members\n",
    "    - Quicker issue resolution\n",
    "    - Quicker to start project development\n",
    "\n",
    "2. Standardisation helps with\n",
    "    - Repeatability - Everyone has a common language, and uses the same ground truth sources for things like data, features, models etc.\n",
    "    - Explainability - it's easier to explain the pipeline if everyone is getting used to the same one.\n",
    "    - Auditability - it's easier to identify weak points in a well known pipeline.\n",
    "    - Compliance - it's easier to check for anything that if you know where to find it.\n",
    "    - Reducing build up of technical debt.\n",
    "\n",
    "3. Break down silos between teams\n",
    "    - When you implement MLOps processes, data scientists can focus on the data science\n",
    "    - In some companies, data scientists end up having to do the role of data engineer and cloud engineer as well, simply because they don't \n",
    "    - In other companies, data scientists \"throw the model over the wall\" to the ML engineers who deploy them by just sending them a jupyter notebook. You can't put jupyter notebooks into production, and some ML engineers have described their job as \"starting from scratch\" once the data scientist has developed a proof of concept. What a waste of time! By defining a process and a specification for these teams to interact, the whole "
   ],
   "metadata": {}
  },
  {
   "cell_type": "markdown",
   "source": [
    " In the following unit, we will dive into all of the things we've mentioned above.\n"
   ],
   "metadata": {}
  }
 ],
 "metadata": {
  "orig_nbformat": 4,
  "language_info": {
   "name": "python"
  }
 },
 "nbformat": 4,
 "nbformat_minor": 2
}