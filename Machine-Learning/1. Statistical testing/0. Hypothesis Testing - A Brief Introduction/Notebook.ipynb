{
 "cells": [
  {
   "cell_type": "markdown",
   "metadata": {},
   "source": [
    "# Hypothesis Testing\n"
   ]
  },
  {
   "cell_type": "markdown",
   "metadata": {},
   "source": [
    "\n",
    "As data scientists, we often find the need to make decisions based on the data we have collected. After obtaining our statistics, we can have a decent _feeling_ or _opinion_ on whether our data is valid and shows significant results. But how can we make more objective decisions based on our results?\n",
    "\n",
    "Thus arises the need for __statistical hypothesis testing__, also known as __confirmatory data analysis__. It provides us with a framework for using statistical and probabilistic methods on our data to be able to determine the significance of our results. \n",
    "\n",
    "We assume that you are already familiar with basic statistics terms, such as mean, standard deviation, or mean square error. Otherwise, refer to the Data Wrangling module in the Data Engineering content.\n",
    "\n",
    "We will finish this notebook with one of the most popular applications of hypothesis testing: __A/B Testing__"
   ]
  },
  {
   "cell_type": "markdown",
   "metadata": {},
   "source": [
    "## Null & Alternative Hypotheses\n"
   ]
  },
  {
   "cell_type": "markdown",
   "metadata": {},
   "source": [
    "\n",
    "In hypothesis testing, we have to construct two opposing hypotheses. The first one is known as the __null hypothesis__ ($\\mathbf{H_{0}}$) and is the hypothesis you are trying to __reject__. The second one is known as the __alternative hypothesis__ ($\\mathbf{H_{A}}$), and is the hypothesis you are trying to __support__. Within this framework, we assume the null hypothesis is true, and use statistical methods to determine whether our evidence is conclusive __enough__ to reject the null hypothesis, and support the alternative hypothesis.\n",
    "\n",
    "This is a similar framework to the approach used in court cases. During a trial, the outlook is that a person is 'innocent until proven guilty'. This means that, in this case:\n",
    "- $\\mathbf{H_{0}}$: The person is innocent\n",
    "- $\\mathbf{H_{A}}$: The person is guilty\n",
    "\n",
    "And the prosecuting lawyers will use various pieces of evidence to reject $\\mathbf{H_{0}}$. \n",
    "\n",
    "In general, we can think of the null hypothesis as being 'your evidence _does not_ suggest what you think' and the alternative as being 'your evidence _does_ suggest what you think'. You assume your evidence _does not_ contribute anything new until you have statistical measures that suggest your evidence _does_ contribute to something new.\n",
    "\n",
    "As we will see later on, we will have different levels of statistical significance for our data. We can set thresholds to determine at which point of significance we reject our null hypothesis, but this threhsold depends on the context of the problem and is up for data scientists and statisticians to determine. How do we go about determining these thresholds? We will see that shortly, first, let's talk about some very important concepts regarding hypothesis testing. "
   ]
  },
  {
   "cell_type": "markdown",
   "metadata": {},
   "source": [
    "### __Normal Distribution__"
   ]
  },
  {
   "cell_type": "markdown",
   "metadata": {},
   "source": [
    "A probability distribution is a function that maps values to probabilities. For example, we can see how likely it is that a person has a certain height.\n",
    "\n",
    "The __normal distribution__, often called Gaussian distribution, is an important continuous probability distribution that describes the probability of a random variable. \n",
    "\n",
    "The normal distribution is a bell-shaped curve that is centered around the mean ($\\mu$). Naming the standard deviation $\\sigma$, we know that the range between $\\mu - \\sigma$ and $\\mu + \\sigma$ takes up to 68.26% of the area under the curve. The range between $\\mu - 2\\sigma$ and $\\mu + 2\\sigma$ takes up to 95.44% of the area under the curve.\n",
    "\n",
    "<p align=center><img src=images/normal.png width=600></p>\n",
    "\n",
    "Thanks to these properties, we can get the probability of a random variable to happen given that the variable follows a normal distribution.\n",
    "\n",
    "We can normalize the samples we have to follow a normal distribution with a mean of 0 and a standard deviation of 1. This is called __standardization__. Standardization is very useful to calculate the aforementioned probabilities. We can standardize our data by subtracting the mean and dividing by the standard deviation.\n"
   ]
  },
  {
   "cell_type": "markdown",
   "metadata": {},
   "source": [
    "\n",
    "$$\n",
    "Z = \\frac{X - \\mu}{\\sigma}\n",
    "$$\n",
    "\n",
    "Let's say we have a sample of heights of people in a group. We can calculate the probability of a person having a certain height by standardizing the sample, and then using what we call Z value you obtained with the value above. There are many resources online that can help you relate Z values to probabilities.\n",
    "\n",
    "One example that you can find is the following one, where the table is giving you the probability of a person being under a certain height. Let's say that the mean of the sample is 170 cm and the standard deviation is 2.4 cm. You can calculate the probability of finding someone under 175 cm by standardizing the sample:\n",
    "\n",
    "$$\n",
    "Z = \\frac{175 - 170}{2.4} = 2.08\n",
    "$$\n",
    "\n",
    "Now, we take a look at the table:\n",
    "\n",
    "<p align=center><img src=images/z-table.png width=600></p>\n",
    "\n",
    "On the left hand side, we have to find the Z value up to the first decimal place, the number on the first row show the second decimal place. So, on the left hand side, we need to find 2.0, and in the first row, we have to find 0.08. That gives us 0.9812. Thus, we have a probability of 98.12% of finding someone under 175 cm.\n",
    "\n",
    "We can use the same metric to find the probability of finding someone over 175 cm, because the normal curve is symmetric.\n",
    "\n",
    "$$\n",
    "P = 1 - 0.9812 = 0.0188\n",
    "$$\n",
    "\n",
    "So, we have a 1.88% chance of finding someone over 175 cm.\n",
    "\n",
    "Notice that the values in the Z table are positive. There are other tables that also shows negative values:\n",
    "\n",
    "<p align=center><img src=images/z-negative.png width=600></p>\n",
    "\n",
    "Can you think of a way to calculate the probability of someone being between 150 and 175 cm?"
   ]
  },
  {
   "cell_type": "markdown",
   "metadata": {},
   "source": [
    "### t-Distribution"
   ]
  },
  {
   "cell_type": "markdown",
   "metadata": {},
   "source": [
    "A very similar distribution is the __t-distribution__. It also follows a bell-shaped curve, but the tails are wider and the peak is lower. This is because the t-distribution doesn't take into account the whole population, so it has a sample with its own mean and standard deviation, which in turn leads to a higher variance. \n",
    "\n",
    "If we increase the number of samples, the t-distribution moves towards the normal distribution.\n",
    "\n",
    "<p align=center><img src=images/t-distribution.png width=600></p>\n",
    "\n",
    "We are not going to cover how to calculate the t-value, and there are tables that can help you find the t-value, or even Python libraries that can help you find the t-value. \n",
    "\n",
    "We will mention, however, that you can use the t-value to find the statistical significance of the difference between the population mean and a hypothesized value (1-sample t) or between two distributions (2-sample t)."
   ]
  },
  {
   "cell_type": "markdown",
   "metadata": {},
   "source": [
    "### __Significance level (α)__\n",
    "\n",
    "The significance level, also denoted as alpha or α, is the probability of rejecting the null hypothesis given that the null hypothesis is true. Generally, we use the significance value of 0.05\n",
    "\n",
    "For example, if the significance level is 0.05, there is a 5% chance of rejecting the null hypothesis. Let's combine this with the normal distribution we saw above to set an example. \n",
    "\n",
    "For example, if the mean of the sample is 170 cm and the standard deviation is 2.4 cm, and we want to check if the mean height of another sample is different from the hypothesized mean. The second sample has a mean of 175 cm.\n",
    "\n",
    "<p align=center><img src=images/significance.png></p>\n",
    "\n",
    "The picture above shows a significance level of 0.05. The red areas adds up to a 5% under the curve, so we have a 5% chance of falling under that area. If we fall under it, we reject the null hypothesis.\n",
    "\n",
    "The Z value of a height of 175cm is 2.08, so that means that we can reject the null hypothesis with a 5% significance level.\n",
    "\n",
    "However, we can set a significance level of 0.01:\n",
    "\n",
    "<p align=center><img src=images/significance_2.png></p>\n"
   ]
  },
  {
   "cell_type": "markdown",
   "metadata": {},
   "source": [
    "And now, 175 cm is not significantly different from 170 cm. So be vary careful when using this significance level!"
   ]
  },
  {
   "cell_type": "markdown",
   "metadata": {},
   "source": [
    "\n",
    "### __p-Value__\n"
   ]
  },
  {
   "cell_type": "markdown",
   "metadata": {},
   "source": [
    "\n",
    "It is the probability of obtaining the test results considering the null hypothesis is true. In other words, it is the probability that the difference between the two values is just because of random chance. The smaller the p-value, the stronger the chances to reject the null hypothesis. If the p-value is lower than the significance level, we can reject the null hypothesis.\n",
    "\n",
    "In the example above, we can calculate the p-value as the shaded areas above 175 cm and its symetric counterpart.\n"
   ]
  },
  {
   "cell_type": "markdown",
   "metadata": {},
   "source": [
    "<p align=center><img src=images/p_value.png></p>"
   ]
  },
  {
   "cell_type": "markdown",
   "metadata": {},
   "source": [
    "There is a probability of 0.0188 at each side of the curve, so the total probability is 0.0376. This probability represents the likelihood of obtaining a sample mean that is at least as extreme as our sample mean in both tails of the distribution if the population mean is 260. That’s our p value!"
   ]
  },
  {
   "cell_type": "markdown",
   "metadata": {},
   "source": [
    "# Type I & Type II Errors\n"
   ]
  },
  {
   "cell_type": "markdown",
   "metadata": {},
   "source": [
    "\n",
    "Statistical hypothesis testing is meant to help data scientists and statisticians to reach a more objective conclusion based on how statistically significant our results are. But the issue arises when we have to determine a given threshold for significance. For instance, when do we reject our null hypothesis? at 70% certainty? 95% certainty? 99.9% certainty? To choose an appropriate _threshold_ of certainty, we have to understand to context of our experiment.\n",
    "\n",
    "Let us go back to the analogy of a court case. Since in a court case, you can never have 100% certainty, there is always a probability of wrongully arresting an innocent person or letting a guilty person walk free. Consider the possibilities in the table below.\n"
   ]
  },
  {
   "cell_type": "markdown",
   "metadata": {},
   "source": [
    "\n",
    "\n",
    "<center>\n",
    "\n",
    "|                     | Court Case Outcomes |                     |\n",
    "|---------------------|---------------------|---------------------|\n",
    "|                     | Truly Innocent      | Truly Guilty        |\n",
    "| Determined Innocent | Correct             | Failed imprisonment |\n",
    "| Determined Guilty   | Wrongful arrest     | Correct             |\n",
    "\n",
    "</center>\n"
   ]
  },
  {
   "cell_type": "markdown",
   "metadata": {},
   "source": [
    "\n",
    "There are two distinct types of mistakes that can happen in the decision process. When we arrest an innocent person, we have committed a __Type I error__, where we __wrongfully reject the null hypothesis (false positive)__. When we fail to arrest a guilty person, we have commited a __Type II error__, where we __wrongfully accept the null hypothesis (false negative)__. In general, when we aim to minimize the likelihood one type of error, the likelihood of the other error increases. In this case, if we are highly strict and demand a very high degree of certainty, we will minimize the number of wrongful arrests (Type I), but it also becomes more likely to not arrest someone who is guilty (Type II). On the other hand, if judges demand a lesser degree of certainty, we will arrest more guilty people, but are also more likely to wrongfully arrest an innocent person.\n",
    "\n",
    "In our modern judicial system, we believe that the accused is innocent until proven guilty, and that wrongful imprisionment is worse than letting a guilty person walk free."
   ]
  },
  {
   "cell_type": "markdown",
   "metadata": {},
   "source": [
    "<center>\n",
    "<p><img src='images/free.png' width=150><img src='images/balance.png' width=250><img src='images/arrested.png' width=250></p>\n",
    "</center>"
   ]
  },
  {
   "cell_type": "markdown",
   "metadata": {},
   "source": [
    "Therefore, we require a high degree of certainty to arrest someone, and put our efforts into minimizing the number of wrongful arrests. This principle applies to other contexts of hypothesis testing: given the context we use our best judgement to determine what type of errors we want to minimize, and set our parameters and hypotheses accordingly."
   ]
  },
  {
   "cell_type": "markdown",
   "metadata": {},
   "source": [
    "# A/B Testing"
   ]
  },
  {
   "cell_type": "markdown",
   "metadata": {},
   "source": [
    "A/B testing is a basic control experiment. It is a way to compare the two versions of a variable to find out which performs better in a controlled environment.\n",
    "\n",
    "For instance, you have made certain changes to your website recently. Unfortunately, you have no way of knowing with full accuracy how the next 100,000 people who visit your website will behave. That is the information we cannot know today, and if we were to wait until those 100,000 people visited our site, it would be too late to optimize their experience.\n",
    "\n",
    "You can divide the products into two parts – A and B. Here A will remain unchanged while you make significant changes in B’s packaging. Now, on the basis of the response from customer groups who used A and B respectively, you try to decide which is performing better.\n",
    "\n",
    "<p align=center><img src=images/ab_test.png width=500></p>\n"
   ]
  },
  {
   "cell_type": "markdown",
   "metadata": {},
   "source": [
    "The objective here is to check which option brings higher traffic on the website i.e the conversion rate. We will use A/B testing and collect data to analyze which option performs better."
   ]
  },
  {
   "cell_type": "markdown",
   "metadata": {},
   "source": [
    "## Formulate an hypothesis\n",
    "\n",
    "$\\mathbf{H_{0}}$: From an A/B test perspective, the null hypothesis states that there is no difference between the control and variant groups. Here our $\\mathbf{H_{0}}$ is \"there is no difference in the conversion rate in customers receiving option A and B\".\n",
    "\n",
    "$\\mathbf{H_{a}}$: The alternative hypothesis is what you might hope that your A/B test will prove to be true. In our example, the $\\mathbf{H_{a}}$ is \"the conversion rate of option B is higher than those who receive option A\".\n",
    "\n",
    "We have to collect enough evidence through our tests to reject the null hypothesis."
   ]
  },
  {
   "cell_type": "markdown",
   "metadata": {},
   "source": [
    "## Create Control Group and Test Group\n",
    "\n",
    "The next step is to decide the group of customers that will participate in the test. Here we have two groups – The Control group, and the Test (variant) group.\n",
    "\n",
    "The Control Group is the one that will receive newsletter A and the Test Group is the one that will receive newsletter B."
   ]
  },
  {
   "cell_type": "markdown",
   "metadata": {},
   "source": [
    "## Statistical significance\n",
    "\n",
    "How can we conclude from here that the Test group is working better than the control group?\n",
    "\n",
    "For rejecting our null hypothesis we have to prove the Statistical significance of our test.\n",
    "\n",
    "There are two types of errors that may occur in our hypothesis testing:\n",
    "\n",
    "1. __Type I error__: We reject the null hypothesis when it is true. That is we accept the variant B when it is not performing better than A\n",
    "2. __Type II error__: We failed to reject the null hypothesis when it is false. It means we conclude variant B is not good when it performs better than A\n",
    "\n",
    "That means the difference between your control version and the test version is not due to some error or random chance. To prove the statistical significance of our experiment we can use a two-sample T-test.\n",
    "\n",
    "The two–sample t–test is one of the most commonly used hypothesis tests. It is applied to compare the average difference between the two groups.\n"
   ]
  },
  {
   "cell_type": "code",
   "execution_count": null,
   "metadata": {},
   "outputs": [],
   "source": [
    "!pip install seaborn"
   ]
  },
  {
   "cell_type": "code",
   "execution_count": 1,
   "metadata": {},
   "outputs": [],
   "source": [
    "import pandas as pd\n",
    "import numpy as np\n",
    "import seaborn as sns\n",
    "import scipy.stats as ss\n",
    "import matplotlib.pylab as plt\n",
    "data= pd.read_csv(\"https://aicore-files.s3.amazonaws.com/Data-Science/ab_data.csv\")"
   ]
  },
  {
   "cell_type": "code",
   "execution_count": 2,
   "metadata": {},
   "outputs": [
    {
     "data": {
      "text/html": [
       "<div>\n",
       "<style scoped>\n",
       "    .dataframe tbody tr th:only-of-type {\n",
       "        vertical-align: middle;\n",
       "    }\n",
       "\n",
       "    .dataframe tbody tr th {\n",
       "        vertical-align: top;\n",
       "    }\n",
       "\n",
       "    .dataframe thead th {\n",
       "        text-align: right;\n",
       "    }\n",
       "</style>\n",
       "<table border=\"1\" class=\"dataframe\">\n",
       "  <thead>\n",
       "    <tr style=\"text-align: right;\">\n",
       "      <th></th>\n",
       "      <th>Day</th>\n",
       "      <th>Conversion_A</th>\n",
       "      <th>Conversion_B</th>\n",
       "    </tr>\n",
       "  </thead>\n",
       "  <tbody>\n",
       "    <tr>\n",
       "      <th>0</th>\n",
       "      <td>1</td>\n",
       "      <td>0.15</td>\n",
       "      <td>0.19</td>\n",
       "    </tr>\n",
       "    <tr>\n",
       "      <th>1</th>\n",
       "      <td>2</td>\n",
       "      <td>0.12</td>\n",
       "      <td>0.20</td>\n",
       "    </tr>\n",
       "    <tr>\n",
       "      <th>2</th>\n",
       "      <td>3</td>\n",
       "      <td>0.18</td>\n",
       "      <td>0.18</td>\n",
       "    </tr>\n",
       "    <tr>\n",
       "      <th>3</th>\n",
       "      <td>4</td>\n",
       "      <td>0.19</td>\n",
       "      <td>0.22</td>\n",
       "    </tr>\n",
       "    <tr>\n",
       "      <th>4</th>\n",
       "      <td>5</td>\n",
       "      <td>0.17</td>\n",
       "      <td>0.19</td>\n",
       "    </tr>\n",
       "    <tr>\n",
       "      <th>5</th>\n",
       "      <td>6</td>\n",
       "      <td>0.13</td>\n",
       "      <td>0.17</td>\n",
       "    </tr>\n",
       "    <tr>\n",
       "      <th>6</th>\n",
       "      <td>7</td>\n",
       "      <td>0.14</td>\n",
       "      <td>0.18</td>\n",
       "    </tr>\n",
       "    <tr>\n",
       "      <th>7</th>\n",
       "      <td>8</td>\n",
       "      <td>0.23</td>\n",
       "      <td>0.20</td>\n",
       "    </tr>\n",
       "    <tr>\n",
       "      <th>8</th>\n",
       "      <td>9</td>\n",
       "      <td>0.11</td>\n",
       "      <td>0.17</td>\n",
       "    </tr>\n",
       "    <tr>\n",
       "      <th>9</th>\n",
       "      <td>10</td>\n",
       "      <td>0.15</td>\n",
       "      <td>0.22</td>\n",
       "    </tr>\n",
       "    <tr>\n",
       "      <th>10</th>\n",
       "      <td>11</td>\n",
       "      <td>0.18</td>\n",
       "      <td>0.17</td>\n",
       "    </tr>\n",
       "    <tr>\n",
       "      <th>11</th>\n",
       "      <td>12</td>\n",
       "      <td>0.19</td>\n",
       "      <td>0.25</td>\n",
       "    </tr>\n",
       "    <tr>\n",
       "      <th>12</th>\n",
       "      <td>13</td>\n",
       "      <td>0.16</td>\n",
       "      <td>0.15</td>\n",
       "    </tr>\n",
       "    <tr>\n",
       "      <th>13</th>\n",
       "      <td>14</td>\n",
       "      <td>0.12</td>\n",
       "      <td>0.27</td>\n",
       "    </tr>\n",
       "    <tr>\n",
       "      <th>14</th>\n",
       "      <td>15</td>\n",
       "      <td>0.18</td>\n",
       "      <td>0.19</td>\n",
       "    </tr>\n",
       "    <tr>\n",
       "      <th>15</th>\n",
       "      <td>16</td>\n",
       "      <td>0.21</td>\n",
       "      <td>0.20</td>\n",
       "    </tr>\n",
       "    <tr>\n",
       "      <th>16</th>\n",
       "      <td>17</td>\n",
       "      <td>0.10</td>\n",
       "      <td>0.17</td>\n",
       "    </tr>\n",
       "    <tr>\n",
       "      <th>17</th>\n",
       "      <td>18</td>\n",
       "      <td>0.18</td>\n",
       "      <td>0.22</td>\n",
       "    </tr>\n",
       "    <tr>\n",
       "      <th>18</th>\n",
       "      <td>19</td>\n",
       "      <td>0.15</td>\n",
       "      <td>0.18</td>\n",
       "    </tr>\n",
       "    <tr>\n",
       "      <th>19</th>\n",
       "      <td>20</td>\n",
       "      <td>0.12</td>\n",
       "      <td>0.19</td>\n",
       "    </tr>\n",
       "    <tr>\n",
       "      <th>20</th>\n",
       "      <td>21</td>\n",
       "      <td>0.12</td>\n",
       "      <td>0.18</td>\n",
       "    </tr>\n",
       "    <tr>\n",
       "      <th>21</th>\n",
       "      <td>22</td>\n",
       "      <td>0.18</td>\n",
       "      <td>0.19</td>\n",
       "    </tr>\n",
       "    <tr>\n",
       "      <th>22</th>\n",
       "      <td>23</td>\n",
       "      <td>0.21</td>\n",
       "      <td>0.23</td>\n",
       "    </tr>\n",
       "    <tr>\n",
       "      <th>23</th>\n",
       "      <td>24</td>\n",
       "      <td>0.11</td>\n",
       "      <td>0.15</td>\n",
       "    </tr>\n",
       "    <tr>\n",
       "      <th>24</th>\n",
       "      <td>25</td>\n",
       "      <td>0.14</td>\n",
       "      <td>0.19</td>\n",
       "    </tr>\n",
       "    <tr>\n",
       "      <th>25</th>\n",
       "      <td>26</td>\n",
       "      <td>0.15</td>\n",
       "      <td>0.17</td>\n",
       "    </tr>\n",
       "    <tr>\n",
       "      <th>26</th>\n",
       "      <td>27</td>\n",
       "      <td>0.19</td>\n",
       "      <td>0.18</td>\n",
       "    </tr>\n",
       "    <tr>\n",
       "      <th>27</th>\n",
       "      <td>28</td>\n",
       "      <td>0.21</td>\n",
       "      <td>0.23</td>\n",
       "    </tr>\n",
       "    <tr>\n",
       "      <th>28</th>\n",
       "      <td>29</td>\n",
       "      <td>0.17</td>\n",
       "      <td>0.18</td>\n",
       "    </tr>\n",
       "    <tr>\n",
       "      <th>29</th>\n",
       "      <td>30</td>\n",
       "      <td>0.22</td>\n",
       "      <td>0.19</td>\n",
       "    </tr>\n",
       "  </tbody>\n",
       "</table>\n",
       "</div>"
      ],
      "text/plain": [
       "    Day   Conversion_A  Conversion_B\n",
       "0      1          0.15          0.19\n",
       "1      2          0.12          0.20\n",
       "2      3          0.18          0.18\n",
       "3      4          0.19          0.22\n",
       "4      5          0.17          0.19\n",
       "5      6          0.13          0.17\n",
       "6      7          0.14          0.18\n",
       "7      8          0.23          0.20\n",
       "8      9          0.11          0.17\n",
       "9     10          0.15          0.22\n",
       "10    11          0.18          0.17\n",
       "11    12          0.19          0.25\n",
       "12    13          0.16          0.15\n",
       "13    14          0.12          0.27\n",
       "14    15          0.18          0.19\n",
       "15    16          0.21          0.20\n",
       "16    17          0.10          0.17\n",
       "17    18          0.18          0.22\n",
       "18    19          0.15          0.18\n",
       "19    20          0.12          0.19\n",
       "20    21          0.12          0.18\n",
       "21    22          0.18          0.19\n",
       "22    23          0.21          0.23\n",
       "23    24          0.11          0.15\n",
       "24    25          0.14          0.19\n",
       "25    26          0.15          0.17\n",
       "26    27          0.19          0.18\n",
       "27    28          0.21          0.23\n",
       "28    29          0.17          0.18\n",
       "29    30          0.22          0.19"
      ]
     },
     "execution_count": 2,
     "metadata": {},
     "output_type": "execute_result"
    }
   ],
   "source": [
    "data"
   ]
  },
  {
   "cell_type": "markdown",
   "metadata": {},
   "source": [
    "The data is representing percentage of users that clicked on an ad when they were presented with layout A, and people who clicked on the ad when they wew presented with layout B"
   ]
  },
  {
   "cell_type": "markdown",
   "metadata": {},
   "source": [
    "Let’s plot the distribution of target and control group:"
   ]
  },
  {
   "cell_type": "code",
   "execution_count": 3,
   "metadata": {},
   "outputs": [
    {
     "name": "stderr",
     "output_type": "stream",
     "text": [
      "/home/ivanyingx/miniconda3/lib/python3.9/site-packages/seaborn/distributions.py:2619: FutureWarning: `distplot` is a deprecated function and will be removed in a future version. Please adapt your code to use either `displot` (a figure-level function with similar flexibility) or `histplot` (an axes-level function for histograms).\n",
      "  warnings.warn(msg, FutureWarning)\n",
      "/home/ivanyingx/miniconda3/lib/python3.9/site-packages/seaborn/distributions.py:2619: FutureWarning: `distplot` is a deprecated function and will be removed in a future version. Please adapt your code to use either `displot` (a figure-level function with similar flexibility) or `histplot` (an axes-level function for histograms).\n",
      "  warnings.warn(msg, FutureWarning)\n"
     ]
    },
    {
     "data": {
      "image/png": "[encoded data removed]",
      "text/plain": [
       "<Figure size 432x288 with 1 Axes>"
      ]
     },
     "metadata": {
      "needs_background": "light"
     },
     "output_type": "display_data"
    }
   ],
   "source": [
    "plt.figure(\"Test Plots\")\n",
    "sns.distplot(data.Conversion_A, label='A')\n",
    "sns.distplot(data.Conversion_B, label='B')\n",
    "plt.legend()\n",
    "plt.show()\n"
   ]
  },
  {
   "cell_type": "markdown",
   "metadata": {},
   "source": [
    "We can use scipy to calculate the t-value. Remember that the t-value tells us whether the difference between the two groups is statistically significant."
   ]
  },
  {
   "cell_type": "code",
   "execution_count": 7,
   "metadata": {},
   "outputs": [
    {
     "name": "stdout",
     "output_type": "stream",
     "text": [
      "Help on function ttest_ind in module scipy.stats.stats:\n",
      "\n",
      "ttest_ind(a, b, axis=0, equal_var=True, nan_policy='propagate', permutations=None, random_state=None, alternative='two-sided', trim=0)\n",
      "    Calculate the T-test for the means of *two independent* samples of scores.\n",
      "    \n",
      "    This is a two-sided test for the null hypothesis that 2 independent samples\n",
      "    have identical average (expected) values. This test assumes that the\n",
      "    populations have identical variances by default.\n",
      "    \n",
      "    Parameters\n",
      "    ----------\n",
      "    a, b : array_like\n",
      "        The arrays must have the same shape, except in the dimension\n",
      "        corresponding to `axis` (the first, by default).\n",
      "    axis : int or None, optional\n",
      "        Axis along which to compute test. If None, compute over the whole\n",
      "        arrays, `a`, and `b`.\n",
      "    equal_var : bool, optional\n",
      "        If True (default), perform a standard independent 2 sample test\n",
      "        that assumes equal population variances [1]_.\n",
      "        If False, perform Welch's t-test, which does not assume equal\n",
      "        population variance [2]_.\n",
      "    \n",
      "        .. versionadded:: 0.11.0\n",
      "    \n",
      "    nan_policy : {'propagate', 'raise', 'omit'}, optional\n",
      "        Defines how to handle when input contains nan.\n",
      "        The following options are available (default is 'propagate'):\n",
      "    \n",
      "          * 'propagate': returns nan\n",
      "          * 'raise': throws an error\n",
      "          * 'omit': performs the calculations ignoring nan values\n",
      "    \n",
      "        The 'omit' option is not currently available for permutation tests or\n",
      "        one-sided asympyotic tests.\n",
      "    \n",
      "    permutations : non-negative int, np.inf, or None (default), optional\n",
      "        If 0 or None (default), use the t-distribution to calculate p-values.\n",
      "        Otherwise, `permutations` is  the number of random permutations that\n",
      "        will be used to estimate p-values using a permutation test. If\n",
      "        `permutations` equals or exceeds the number of distinct partitions of\n",
      "        the pooled data, an exact test is performed instead (i.e. each\n",
      "        distinct partition is used exactly once). See Notes for details.\n",
      "    \n",
      "        .. versionadded:: 1.7.0\n",
      "    \n",
      "    random_state : {None, int, `numpy.random.Generator`,\n",
      "            `numpy.random.RandomState`}, optional\n",
      "    \n",
      "        If `seed` is None (or `np.random`), the `numpy.random.RandomState`\n",
      "        singleton is used.\n",
      "        If `seed` is an int, a new ``RandomState`` instance is used,\n",
      "        seeded with `seed`.\n",
      "        If `seed` is already a ``Generator`` or ``RandomState`` instance then\n",
      "        that instance is used.\n",
      "    \n",
      "        Pseudorandom number generator state used to generate permutations\n",
      "        (used only when `permutations` is not None).\n",
      "    \n",
      "        .. versionadded:: 1.7.0\n",
      "    \n",
      "    alternative : {'two-sided', 'less', 'greater'}, optional\n",
      "        Defines the alternative hypothesis.\n",
      "        The following options are available (default is 'two-sided'):\n",
      "    \n",
      "          * 'two-sided'\n",
      "          * 'less': one-sided\n",
      "          * 'greater': one-sided\n",
      "    \n",
      "        .. versionadded:: 1.6.0\n",
      "    \n",
      "    trim : float, optional\n",
      "        If nonzero, performs a trimmed (Yuen's) t-test.\n",
      "        Defines the fraction of elements to be trimmed from each end of the\n",
      "        input samples. If 0 (default), no elements will be trimmed from either\n",
      "        side. The number of trimmed elements from each tail is the floor of the\n",
      "        trim times the number of elements. Valid range is [0, .5).\n",
      "    \n",
      "        .. versionadded:: 1.7\n",
      "    \n",
      "    Returns\n",
      "    -------\n",
      "    statistic : float or array\n",
      "        The calculated t-statistic.\n",
      "    pvalue : float or array\n",
      "        The two-tailed p-value.\n",
      "    \n",
      "    Notes\n",
      "    -----\n",
      "    Suppose we observe two independent samples, e.g. flower petal lengths, and\n",
      "    we are considering whether the two samples were drawn from the same\n",
      "    population (e.g. the same species of flower or two species with similar\n",
      "    petal characteristics) or two different populations.\n",
      "    \n",
      "    The t-test quantifies the difference between the arithmetic means\n",
      "    of the two samples. The p-value quantifies the probability of observing\n",
      "    as or more extreme values assuming the null hypothesis, that the\n",
      "    samples are drawn from populations with the same population means, is true.\n",
      "    A p-value larger than a chosen threshold (e.g. 5% or 1%) indicates that\n",
      "    our observation is not so unlikely to have occurred by chance. Therefore,\n",
      "    we do not reject the null hypothesis of equal population means.\n",
      "    If the p-value is smaller than our threshold, then we have evidence\n",
      "    against the null hypothesis of equal population means.\n",
      "    \n",
      "    By default, the p-value is determined by comparing the t-statistic of the\n",
      "    observed data against a theoretical t-distribution.\n",
      "    When ``1 < permutations < binom(n, k)``, where\n",
      "    \n",
      "    * ``k`` is the number of observations in `a`,\n",
      "    * ``n`` is the total number of observations in `a` and `b`, and\n",
      "    * ``binom(n, k)`` is the binomial coefficient (``n`` choose ``k``),\n",
      "    \n",
      "    the data are pooled (concatenated), randomly assigned to either group `a`\n",
      "    or `b`, and the t-statistic is calculated. This process is performed\n",
      "    repeatedly (`permutation` times), generating a distribution of the\n",
      "    t-statistic under the null hypothesis, and the t-statistic of the observed\n",
      "    data is compared to this distribution to determine the p-value. When\n",
      "    ``permutations >= binom(n, k)``, an exact test is performed: the data are\n",
      "    partitioned between the groups in each distinct way exactly once.\n",
      "    \n",
      "    The permutation test can be computationally expensive and not necessarily\n",
      "    more accurate than the analytical test, but it does not make strong\n",
      "    assumptions about the shape of the underlying distribution.\n",
      "    \n",
      "    Use of trimming is commonly referred to as the trimmed t-test. At times\n",
      "    called Yuen's t-test, this is an extension of Welch's t-test, with the\n",
      "    difference being the use of winsorized means in calculation of the variance\n",
      "    and the trimmed sample size in calculation of the statistic. Trimming is\n",
      "    reccomended if the underlying distribution is long-tailed or contaminated\n",
      "    with outliers [4]_.\n",
      "    \n",
      "    References\n",
      "    ----------\n",
      "    .. [1] https://en.wikipedia.org/wiki/T-test#Independent_two-sample_t-test\n",
      "    \n",
      "    .. [2] https://en.wikipedia.org/wiki/Welch%27s_t-test\n",
      "    \n",
      "    .. [3] http://en.wikipedia.org/wiki/Resampling_%28statistics%29\n",
      "    \n",
      "    .. [4] Yuen, Karen K. \"The Two-Sample Trimmed t for Unequal Population\n",
      "           Variances.\" Biometrika, vol. 61, no. 1, 1974, pp. 165-170. JSTOR,\n",
      "           www.jstor.org/stable/2334299. Accessed 30 Mar. 2021.\n",
      "    \n",
      "    .. [5] Yuen, Karen K., and W. J. Dixon. \"The Approximate Behaviour and\n",
      "           Performance of the Two-Sample Trimmed t.\" Biometrika, vol. 60,\n",
      "           no. 2, 1973, pp. 369-374. JSTOR, www.jstor.org/stable/2334550.\n",
      "           Accessed 30 Mar. 2021.\n",
      "    \n",
      "    Examples\n",
      "    --------\n",
      "    >>> from scipy import stats\n",
      "    >>> rng = np.random.default_rng()\n",
      "    \n",
      "    Test with sample with identical means:\n",
      "    \n",
      "    >>> rvs1 = stats.norm.rvs(loc=5, scale=10, size=500, random_state=rng)\n",
      "    >>> rvs2 = stats.norm.rvs(loc=5, scale=10, size=500, random_state=rng)\n",
      "    >>> stats.ttest_ind(rvs1, rvs2)\n",
      "    Ttest_indResult(statistic=-0.4390847099199348, pvalue=0.6606952038870015)\n",
      "    >>> stats.ttest_ind(rvs1, rvs2, equal_var=False)\n",
      "    Ttest_indResult(statistic=-0.4390847099199348, pvalue=0.6606952553131064)\n",
      "    \n",
      "    `ttest_ind` underestimates p for unequal variances:\n",
      "    \n",
      "    >>> rvs3 = stats.norm.rvs(loc=5, scale=20, size=500, random_state=rng)\n",
      "    >>> stats.ttest_ind(rvs1, rvs3)\n",
      "    Ttest_indResult(statistic=-1.6370984482905417, pvalue=0.1019251574705033)\n",
      "    >>> stats.ttest_ind(rvs1, rvs3, equal_var=False)\n",
      "    Ttest_indResult(statistic=-1.637098448290542, pvalue=0.10202110497954867)\n",
      "    \n",
      "    When ``n1 != n2``, the equal variance t-statistic is no longer equal to the\n",
      "    unequal variance t-statistic:\n",
      "    \n",
      "    >>> rvs4 = stats.norm.rvs(loc=5, scale=20, size=100, random_state=rng)\n",
      "    >>> stats.ttest_ind(rvs1, rvs4)\n",
      "    Ttest_indResult(statistic=-1.9481646859513422, pvalue=0.05186270935842703)\n",
      "    >>> stats.ttest_ind(rvs1, rvs4, equal_var=False)\n",
      "    Ttest_indResult(statistic=-1.3146566100751664, pvalue=0.1913495266513811)\n",
      "    \n",
      "    T-test with different means, variance, and n:\n",
      "    \n",
      "    >>> rvs5 = stats.norm.rvs(loc=8, scale=20, size=100, random_state=rng)\n",
      "    >>> stats.ttest_ind(rvs1, rvs5)\n",
      "    Ttest_indResult(statistic=-2.8415950600298774, pvalue=0.0046418707568707885)\n",
      "    >>> stats.ttest_ind(rvs1, rvs5, equal_var=False)\n",
      "    Ttest_indResult(statistic=-1.8686598649188084, pvalue=0.06434714193919686)\n",
      "    \n",
      "    When performing a permutation test, more permutations typically yields\n",
      "    more accurate results. Use a ``np.random.Generator`` to ensure\n",
      "    reproducibility:\n",
      "    \n",
      "    >>> stats.ttest_ind(rvs1, rvs5, permutations=10000,\n",
      "    ...                 random_state=rng)\n",
      "    Ttest_indResult(statistic=-2.8415950600298774, pvalue=0.0052)\n",
      "    \n",
      "    Take these two samples, one of which has an extreme tail.\n",
      "    \n",
      "    >>> a = (56, 128.6, 12, 123.8, 64.34, 78, 763.3)\n",
      "    >>> b = (1.1, 2.9, 4.2)\n",
      "    \n",
      "    Use the `trim` keyword to perform a trimmed (Yuen) t-test. For example,\n",
      "    using 20% trimming, ``trim=.2``, the test will reduce the impact of one\n",
      "    (``np.floor(trim*len(a))``) element from each tail of sample `a`. It will\n",
      "    have no effect on sample `b` because ``np.floor(trim*len(b))`` is 0.\n",
      "    \n",
      "    >>> stats.ttest_ind(a, b, trim=.2)\n",
      "    Ttest_indResult(statistic=3.4463884028073513,\n",
      "                    pvalue=0.01369338726499547)\n",
      "\n"
     ]
    }
   ],
   "source": [
    "help(ss.ttest_ind)"
   ]
  },
  {
   "cell_type": "code",
   "execution_count": 6,
   "metadata": {},
   "outputs": [
    {
     "name": "stdout",
     "output_type": "stream",
     "text": [
      "The t-test value is 3.78736793091929, and the p-value is 0.000363796012828762\n"
     ]
    }
   ],
   "source": [
    "t_stat, p_val= ss.ttest_ind(data.Conversion_B, data.Conversion_A)\n",
    "print(f'The t-test value is {t_stat}, and the p-value is {p_val}')"
   ]
  },
  {
   "cell_type": "markdown",
   "metadata": {},
   "source": [
    "Here, our p-value is less than the significance level i.e 0.05. Hence, we can reject the null hypothesis. This means that in our A/B testing, option B is performing better than option A. So our recommendation would be to replace our current option with B to bring more traffic on our website."
   ]
  },
  {
   "cell_type": "markdown",
   "metadata": {},
   "source": [
    "There are many tools available for conducting A/B testing but being a data scientist you must understand the factors working behind it. Also, you must be aware of the statistics in order to validate the test and prove its significance."
   ]
  }
 ],
 "metadata": {
  "interpreter": {
   "hash": "ad8bebc098a042dc0df4e42fc2ecc8fff0bd7b8741641ce29007c29766dadbe0"
  },
  "kernelspec": {
   "display_name": "Python 3.9.1 64-bit ('base': conda)",
   "name": "python3"
  },
  "language_info": {
   "codemirror_mode": {
    "name": "ipython",
    "version": 3
   },
   "file_extension": ".py",
   "mimetype": "text/x-python",
   "name": "python",
   "nbconvert_exporter": "python",
   "pygments_lexer": "ipython3",
   "version": "3.9.5"
  }
 },
 "nbformat": 4,
 "nbformat_minor": 4
}
