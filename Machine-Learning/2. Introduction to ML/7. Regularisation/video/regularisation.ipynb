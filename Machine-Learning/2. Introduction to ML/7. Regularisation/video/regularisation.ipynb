{
 "cells": [
  {
   "cell_type": "code",
   "execution_count": null,
   "metadata": {},
   "outputs": [],
   "source": [
    "from sklearn.linear_model import Ridge, Lasso\n",
    "from sklearn.datasets import load_boston\n",
    "\n",
    "X, y = load_boston(return_X_y=True)\n",
    "\n",
    "# L1 regularisation\n",
    "lasso_regression_model = Lasso(alpha=0.1)\n",
    "lasso_regression_model.fit(X, y)\n",
    "\n",
    "# L2 regularisation\n",
    "ridge_regression_model = Ridge(alpha=0.1)\n",
    "ridge_regression_model.fit(X, y)"
   ]
  },
  {
   "cell_type": "code",
   "execution_count": 51,
   "metadata": {},
   "outputs": [],
   "source": [
    "from sklearn.datasets import fetch_california_housing\n",
    "from sklearn.metrics import mean_squared_error\n",
    "from sklearn.model_selection import train_test_split\n",
    "from sklearn.preprocessing import StandardScaler\n",
    "import numpy as np\n",
    "import matplotlib.pyplot as plt\n",
    "\n",
    "def create_fake_data():\n",
    "    m = 100\n",
    "    X = 6 * np.random.rand(m, 1) - 3\n",
    "    y = 2 + X + 0.5 * X**2 + np.random.randn(m, 1)\n",
    "    X_train, X_val, y_train, y_val = train_test_split(X[:50], y[:50].ravel(), test_size=0.3, random_state=20)\n",
    "    ss = StandardScaler()\n",
    "    X_train = ss.fit_transform(X_train)\n",
    "    X_val = ss.transform(X_val)\n",
    "    return X_train, y_train, X_val, y_val\n",
    "\n",
    "\n",
    "def get_loss_curves(model):\n",
    "    X_train, y_train, X_val, y_val = create_fake_data()\n",
    "\n",
    "    train_errors = []\n",
    "    val_errors = []\n",
    "    n_epochs = 50\n",
    "    \n",
    "    for epoch in range(n_epochs):\n",
    "        \n",
    "        model.fit(X_train, y_train)\n",
    "        \n",
    "        y_train_predict = model.predict(X_train)\n",
    "        train_errors.append(mean_squared_error(y_train, y_train_predict))\n",
    "\n",
    "        y_val_predict = model.predict(X_val)\n",
    "        val_errors.append(mean_squared_error(y_val, y_val_predict))\n",
    "    best_epoch = np.argmin(val_errors)\n",
    "    best_val_rmse = np.sqrt(val_errors[best_epoch])\n",
    "\n",
    "    plt.plot([0, n_epochs], [best_val_rmse, best_val_rmse], \"k:\", linewidth=2)\n",
    "    plt.plot(np.sqrt(val_errors), \"b-\", linewidth=3, label=\"Validation set\")\n",
    "    plt.plot(np.sqrt(train_errors), \"r--\", linewidth=2, label=\"Training set\")\n",
    "    plt.legend(loc=\"upper right\", fontsize=14)\n",
    "    plt.ylim(1.3, 2.5)\n",
    "    plt.xlabel(\"Epoch\", fontsize=14)\n",
    "    plt.ylabel(\"RMSE\", fontsize=14)\n",
    "    plt.show()"
   ]
  },
  {
   "cell_type": "code",
   "execution_count": 57,
   "metadata": {},
   "outputs": [
    {
     "data": {
      "image/png": "[encoded data removed]",
      "text/plain": [
       "<Figure size 432x288 with 1 Axes>"
      ]
     },
     "metadata": {
      "needs_background": "light"
     },
     "output_type": "display_data"
    }
   ],
   "source": [
    "from sklearn.linear_model import SGDRegressor\n",
    "\n",
    "sgd_regressor = SGDRegressor(\n",
    "    max_iter=1, # only take one optimisation step\n",
    "    tol=-np.infty, # only stop when the change in loss is less than negative infinity (i.e. never)\n",
    "    warm_start=True, # start off from the previous param values\n",
    ")\n",
    "\n",
    "get_loss_curves(sgd_regressor)\n"
   ]
  }
 ],
 "metadata": {
  "interpreter": {
   "hash": "ce99af5845ff7f417c6fe57e3883abe41597db90e3f493c4f9da5159bbc46102"
  },
  "kernelspec": {
   "display_name": "Python 3.9.5 64-bit ('base': conda)",
   "language": "python",
   "name": "python3"
  },
  "language_info": {
   "codemirror_mode": {
    "name": "ipython",
    "version": 3
   },
   "file_extension": ".py",
   "mimetype": "text/x-python",
   "name": "python",
   "nbconvert_exporter": "python",
   "pygments_lexer": "ipython3",
   "version": "3.9.5"
  },
  "orig_nbformat": 4
 },
 "nbformat": 4,
 "nbformat_minor": 2
}
