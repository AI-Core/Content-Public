{
 "cells": [
  {
   "cell_type": "markdown",
   "metadata": {},
   "source": [
    "# Evaluation Metrics\n",
    "\n",
    "### Learning Objectives:\n",
    "- [Evaluation metrics: why do we need them?](#Evaluation-metrics:-why-do-we-need-them?)\n",
    "- [Classification Metrics](#Classification-Metrics)\n",
    "- [Regression Metrics](#Regression-Metrics)\n",
    "- [Extra: ROC & AUC](#Extra:-ROC-&-AUC)"
   ]
  },
  {
   "cell_type": "markdown",
   "metadata": {},
   "source": [
    "## What are they?\n",
    "\n",
    "> __Evaluation metrics__, as the name suggests, are metrics used to measure the performance of a model or algorithm. \n",
    "\n",
    "There are tons of evaluation metrics out there. Certain metrics can only be used for certain types of models and different metrics can be used to evaluate different aspects of performance. \n",
    "\n",
    "Therefore, the optimal metric will vary depending on:\n",
    "- your model\n",
    "- your data\n",
    "- your end goal\n",
    "\n",
    "## Why do we need them?\n",
    "\n",
    "Why do we need these metrics in the first place? Well, building models works on a constructive feedback principle. \n",
    "\n",
    "We build a model, get feedback from metrics, make improvements and carry on until we have reached our desired performance. \n",
    "\n",
    "By evaluating our model over multiple (appropriate) metrics, we can:\n",
    "- ensure that it is robust\n",
    "- tune it in multiple ways"
   ]
  },
  {
   "cell_type": "markdown",
   "metadata": {},
   "source": [
    "## Isn't loss enough?\n",
    "\n",
    "> loss is rarely taken as main metric in machine learning tasks\n",
    "\n",
    "Loss allows us to learn things we are really after and often works as a proxy for our real goal.\n",
    "\n",
    "> always check the loss, but do not rely only on it\n",
    "\n",
    "Human assesment of performance is still needed, sometimes loss can be abruplty large and yet the model works great for our task (GANs would be an example)\n",
    "\n",
    "On other occasions loss is minimal but the model is not doing what we wanted (reinforcement learning and wrong reward function)"
   ]
  },
  {
   "cell_type": "markdown",
   "metadata": {},
   "source": [
    "# Classification Metrics\n",
    "\n",
    "## Accuracy\n",
    "\n",
    "In any classification problem, we aim to predict the category of a given observation based on the general properties of a training data set. \n",
    "\n",
    "In this context, the simplest way to measure performance, whether with binary or multiclass classification, is to measure the number of correct predictions out of all the whole dataset.\n",
    "\n",
    "> Accuracy - percentage of how many predictions were accurate out of all predictions\n",
    "\n",
    "\n",
    "## Example\n",
    "\n",
    "Create `accuracy` function which takes the `reduction` function (set it with default value `= np.mean`) and apply it on `vector` which is `labels` equal to `targets`:"
   ]
  },
  {
   "cell_type": "code",
   "execution_count": 2,
   "metadata": {},
   "outputs": [
    {
     "data": {
      "text/plain": [
       "0.1"
      ]
     },
     "execution_count": 2,
     "metadata": {},
     "output_type": "execute_result"
    }
   ],
   "source": [
    "import numpy as np\n",
    "\n",
    "\n",
    "def accuracy(labels, targets, reduction=np.mean):\n",
    "    return reduction(labels == targets)\n",
    "\n",
    "\n",
    "targets = np.random.randint(0, 10, size=100)\n",
    "labels = np.random.randint(0, 10, size=100)\n",
    "\n",
    "accuracy(labels, targets)"
   ]
  },
  {
   "cell_type": "markdown",
   "metadata": {},
   "source": [
    "### Traits of accuracy\n",
    "\n",
    "- can be calculated the same way for any classification task\n",
    "- the higher the better\n",
    "\n",
    "## Problems with accuracy\n",
    "\n",
    "Accuracy, although helpful, is useless in some cases.\n",
    "\n",
    "Let's imagine our dataset has `10` positive labels and `90` negative. If we always predict negative labels, we get `90%` accuracy.\n",
    "\n",
    "Let's go over that in our code:"
   ]
  },
  {
   "cell_type": "code",
   "execution_count": 4,
   "metadata": {},
   "outputs": [
    {
     "data": {
      "text/plain": [
       "0.9"
      ]
     },
     "execution_count": 4,
     "metadata": {},
     "output_type": "execute_result"
    }
   ],
   "source": [
    "targets = np.concatenate((np.zeros(90), np.ones(10)))\n",
    "predictions = np.zeros(100)\n",
    "\n",
    "accuracy(predictions, targets)"
   ]
  },
  {
   "cell_type": "markdown",
   "metadata": {},
   "source": [
    "This shows us we need to monitor other metrics as well."
   ]
  },
  {
   "cell_type": "markdown",
   "metadata": {},
   "source": [
    "## Confusion matrix\n",
    "\n",
    "If we consider out of the two categories one to be 'Positive' and the other to be 'Negative', we can derive evaluation metrics that measure more specific aspects of performance by categorizing the prediction outcome under the following four categories:\n",
    "\n",
    "- __True positive:__ Where the model predicts the label to be 'Positive' and the true label is 'Positive'\n",
    "- __True negative:__ Where the model predicts the label to be 'Negative' and the true label is 'Negative'\n",
    "- __False positive:__ Where the model predicts the label to be 'Positive' and the true label is 'Negative'\n",
    "- __False negative:__ Where the model predicts the label to be 'Negative' and the true label is 'Positive'\n",
    "\n",
    "These outcomes can be displayed in tabular form, in what is known as a __confusion matrix,__ as shown below:\n",
    "\n",
    "<p align=center><img src=images/confusion-matrix.png width=600></p>\n",
    "\n",
    "[Source](https://glassboxmedicine.com/2019/02/17/measuring-performance-the-confusion-matrix/)\n",
    "\n",
    "> The values that go in each cell can either be the absolute frequency of that class (e.g. actual number of false positives), or the normalized value (false positives in `[0, 1]` range)\n",
    "\n",
    "Usually, we go with the first case, though the second one might be useful to compare proportions of each cell.\n",
    "\n",
    "From this grouping of the possible outcomes of a binary prediction, we can come up with useful metrics which we are about to go over. Let's start with `true positive` calculation:"
   ]
  },
  {
   "cell_type": "markdown",
   "metadata": {},
   "source": [
    "## True positive\n",
    "\n",
    "> True positive for binary case is when model predicts `true` and the label is `true`\n",
    "\n",
    "## Example\n",
    "\n",
    "Code `true_positive` function taking `predictions` and `targets` arguments \n",
    "\n",
    "- Use `astype(bool)` on `labels` and `targets`\n",
    "- Negate any of `labels` / `targets` if needed\n",
    "- Return `np.sum` with `boolean` and (`&` for numpy)"
   ]
  },
  {
   "cell_type": "code",
   "execution_count": 3,
   "metadata": {},
   "outputs": [
    {
     "data": {
      "text/plain": [
       "0"
      ]
     },
     "execution_count": 3,
     "metadata": {},
     "output_type": "execute_result"
    }
   ],
   "source": [
    "# We assume they are binary\n",
    "def true_positive(labels, targets):\n",
    "    return np.sum(labels.astype(bool) & targets.astype(bool))\n",
    "\n",
    "true_positive(predictions, targets)"
   ]
  },
  {
   "cell_type": "markdown",
   "metadata": {},
   "source": [
    "## True negative\n",
    "\n",
    "> True negative for binary case is when model predicts `false` and the label is `false`\n",
    "\n",
    "## Example\n",
    "\n",
    "Code `true_negative` function taking `predictions` and `targets` arguments \n",
    "\n",
    "- Use `astype(bool)` on `labels` and `targets`\n",
    "- Negate any of `labels` / `targets` if needed\n",
    "- Return `np.sum` with `boolean` and (`&` for numpy)"
   ]
  },
  {
   "cell_type": "code",
   "execution_count": 4,
   "metadata": {},
   "outputs": [
    {
     "data": {
      "text/plain": [
       "90"
      ]
     },
     "execution_count": 4,
     "metadata": {},
     "output_type": "execute_result"
    }
   ],
   "source": [
    "# We assume they are binary\n",
    "def true_negative(labels, targets):\n",
    "    return np.sum(~labels.astype(bool) & ~targets.astype(bool))\n",
    "\n",
    "true_negative(predictions, targets)"
   ]
  },
  {
   "cell_type": "markdown",
   "metadata": {},
   "source": [
    "## False positive\n",
    "\n",
    "> False positive for binary case is when model predicts `true` and the label is `false`\n",
    "\n",
    "## Example\n",
    "\n",
    "Code `false_positive` function taking `predictions` and `targets` arguments \n",
    "\n",
    "- Use `astype(bool)` on `labels` and `targets`\n",
    "- Negate any of `labels` / `targets` if needed\n",
    "- Return `np.sum` with `boolean` and (`&` for numpy)"
   ]
  },
  {
   "cell_type": "code",
   "execution_count": 13,
   "metadata": {},
   "outputs": [
    {
     "data": {
      "text/plain": [
       "10"
      ]
     },
     "execution_count": 13,
     "metadata": {},
     "output_type": "execute_result"
    }
   ],
   "source": [
    "# We assume they are binary\n",
    "def false_positive(labels, targets):\n",
    "    return np.sum(~labels.astype(bool) & targets.astype(bool))\n",
    "\n",
    "false_positive(predictions, targets)"
   ]
  },
  {
   "cell_type": "markdown",
   "metadata": {},
   "source": [
    "## False negative\n",
    "\n",
    "> False positive for binary case is when model predicts `false` and the label is `true`\n",
    "\n",
    "## Example\n",
    "\n",
    "Code `false_negative` function taking `predictions` and `targets` arguments \n",
    "\n",
    "\n",
    "- Use `astype(bool)` on `labels` and `targets`\n",
    "- Negate any of `labels` / `targets` if needed\n",
    "- Return `np.sum` with `boolean` and (`&` for numpy)"
   ]
  },
  {
   "cell_type": "code",
   "execution_count": 14,
   "metadata": {},
   "outputs": [
    {
     "data": {
      "text/plain": [
       "0"
      ]
     },
     "execution_count": 14,
     "metadata": {},
     "output_type": "execute_result"
    }
   ],
   "source": [
    "# We assume they are binary\n",
    "def false_negative(labels, targets):\n",
    "    return np.sum(labels.astype(bool) & ~targets.astype(bool))\n",
    "\n",
    "false_negative(predictions, targets)"
   ]
  },
  {
   "cell_type": "markdown",
   "metadata": {},
   "source": [
    "## Visualizing confusion matrix\n",
    "\n",
    "Given the above, we can use `sklearn` `plot_confusion_matrix` to easily see how confusion matrix looks for `breast_cancer` dataset.\n",
    "\n",
    "Split dataset into `train` & `test` only, fit on train, evaluate prediction on test and plot."
   ]
  },
  {
   "cell_type": "code",
   "execution_count": 15,
   "metadata": {},
   "outputs": [],
   "source": [
    "import matplotlib.pyplot as plt\n",
    "import numpy as np\n",
    "from sklearn import datasets, model_selection\n",
    "from sklearn.metrics import plot_confusion_matrix\n",
    "\n",
    "# Loading in breast cancer data\n",
    "X, Y = datasets.load_breast_cancer(return_X_y=True)\n",
    "X_train, X_test, Y_train, Y_test = model_selection.train_test_split(\n",
    "    X, Y, test_size=0.30, random_state=0\n",
    ")"
   ]
  },
  {
   "cell_type": "code",
   "execution_count": 16,
   "metadata": {},
   "outputs": [
    {
     "name": "stdout",
     "output_type": "stream",
     "text": [
      "True Confusion Matrix:\n",
      "Normalized Confusion Matrix:\n"
     ]
    },
    {
     "data": {
      "text/plain": [
       "<sklearn.metrics._plot.confusion_matrix.ConfusionMatrixDisplay at 0x7ff6a8d011f0>"
      ]
     },
     "execution_count": 16,
     "metadata": {},
     "output_type": "execute_result"
    },
    {
     "data": {
      "image/png": "[encoded data removed]",
      "text/plain": [
       "<Figure size 432x288 with 2 Axes>"
      ]
     },
     "metadata": {
      "needs_background": "light"
     },
     "output_type": "display_data"
    },
    {
     "data": {
      "image/png": "[encoded data removed]",
      "text/plain": [
       "<Figure size 432x288 with 2 Axes>"
      ]
     },
     "metadata": {
      "needs_background": "light"
     },
     "output_type": "display_data"
    }
   ],
   "source": [
    "from sklearn.linear_model import LogisticRegression, LinearRegression\n",
    "\n",
    "# Fitting logistic regression model to the data\n",
    "myLogisticModel = LogisticRegression(random_state=0, max_iter=10000).fit(X_train, Y_train)\n",
    "y_hat = myLogisticModel.predict(X_test)\n",
    "\n",
    "# Displaying Confusion matrix\n",
    "print(\"True Confusion Matrix:\")\n",
    "plot_confusion_matrix(myLogisticModel, X_test, Y_test, display_labels=[\"benign\", \"malignant\"])\n",
    "print(\"Normalized Confusion Matrix:\")\n",
    "plot_confusion_matrix(myLogisticModel, X_test, Y_test, normalize='pred', display_labels=[\"benign\", \"malignant\"])"
   ]
  },
  {
   "cell_type": "markdown",
   "metadata": {},
   "source": [
    "## Accuracy again\n",
    "\n",
    "One can define accuracy using confusion matrix as well\n",
    "\n",
    "$$ \n",
    "\\text{Acc} = \\frac{\\text{TP} + \\text{TN}}{\\text{TP} + \\text{TN} + \\text{FP} + \\text{FN}}\n",
    "$$\n",
    "\n",
    "Let's use `sklearn` to calculate accuracy metric and compare with our implementation"
   ]
  },
  {
   "cell_type": "code",
   "execution_count": 17,
   "metadata": {},
   "outputs": [
    {
     "name": "stdout",
     "output_type": "stream",
     "text": [
      "Accuracy (our): 0.9590643274853801\n",
      "Accuracy (scikit-learn) 0.9590643274853801\n"
     ]
    }
   ],
   "source": [
    "from sklearn.metrics import accuracy_score\n",
    "\n",
    "print(\"Accuracy (our):\", accuracy(Y_test, y_hat))\n",
    "print(\"Accuracy (scikit-learn)\", accuracy_score(Y_test, y_hat))"
   ]
  },
  {
   "cell_type": "markdown",
   "metadata": {},
   "source": [
    "According to our first evaluation metric, our model seems to have a good performance."
   ]
  },
  {
   "cell_type": "markdown",
   "metadata": {},
   "source": [
    "## Precision\n"
   ]
  },
  {
   "cell_type": "markdown",
   "metadata": {},
   "source": [
    "\n",
    "__Precision__ is another commonly used evaluation metric.\n",
    "\n",
    "> Precision is a ratio of correctly predicted positives to the total number of predicted positives\n",
    "\n",
    "$$ \\text{Precision} = \\frac{\\text{TP}}{\\text{TP + FP}}$$\n",
    "\n",
    "> Perfect recall is when we have no false positives. So it is a useful metric to consider when false positives are costly.\n",
    "\n",
    "Precision is the answer to the question: \n",
    "\n",
    "> When our model predicts TRUE, how often is it correct?\n",
    "\n",
    "Or in context:\n",
    "\n",
    "> out of all the times we predicted the brain cancer to be malignant, how many times was it actually malignant? \n",
    "\n",
    "It is an important measure to have to ensure we evaluate the performance of our model appropriately. \n",
    "\n",
    "For instance, if we are building a system to predict if we should decrease the credit limit on a particular account, we want to be very sure about our prediction or it may result in customer dissatisfaction. In this context, precision is a very relevant measure of performance\n"
   ]
  },
  {
   "cell_type": "markdown",
   "metadata": {},
   "source": [
    "\n",
    "### Thought experiment\n"
   ]
  },
  {
   "cell_type": "markdown",
   "metadata": {},
   "source": [
    "\n",
    "Consider our current dataset, and assume that `560` of the patients have a benign tumour and 9 patients have a malignant tumour. \n",
    "\n",
    "If we create a model that always predicts the tumour to be benign (negative), we get:\n",
    "- accuracy of $\\frac{560}{569} = 98.4\\%$, which suggests that our model performed well. We know that the model designed is poor, which once again reflects the fact that accuracy is a poor metric under a non-symmetric distribution for our data. What would the precision in this case be? Since we have no true positives nor false positives, our precision is undefined (equation divided by zero), which highlights the poor performance of the model. \n",
    "\n",
    "__Just as with accuracy, we want precision to be as close to 1 as possible.__\n",
    "\n",
    "Below, we compute the precision of our model using `numpy` and the in-built function in scikit-learn. \n"
   ]
  },
  {
   "cell_type": "markdown",
   "metadata": {},
   "source": [
    "## Example"
   ]
  },
  {
   "cell_type": "markdown",
   "metadata": {},
   "source": [
    "\n",
    "Code `precision` function taking `(labels, predictions)` arguments (remember to cache `true_positive` value in order not to calculate them twice)"
   ]
  },
  {
   "cell_type": "code",
   "execution_count": 18,
   "metadata": {},
   "outputs": [
    {
     "name": "stdout",
     "output_type": "stream",
     "text": [
      "Precision (Python): 0.9902912621359223\n",
      "Precision (scikit-learn) 0.9902912621359223\n"
     ]
    }
   ],
   "source": [
    "from sklearn.metrics import precision_score\n",
    "# Computing precision\n",
    "def precision(labels, predictions):\n",
    "    tp = true_positive(labels, predictions)\n",
    "    return tp / (tp + false_positive(labels, predictions))\n",
    "\n",
    "print(\"Precision (Python):\", precision(Y_test, y_hat))\n",
    "print(\"Precision (scikit-learn)\", precision_score(Y_test, y_hat))"
   ]
  },
  {
   "cell_type": "markdown",
   "metadata": {},
   "source": [
    "# Recall\n",
    "\n",
    "Another useful evaluation metric for classification models is the __recall__, also known as __sensitivity__: \n",
    "\n",
    "> Recall is the ratio of the correctly predicted positives to the total number of positives in the dataset. It is given by the following equation:\n",
    "\n",
    "$$\\text{Recall} = \\frac{\\text{TP}}{\\text{TP + FN}}$$\n",
    "\n",
    "> Perfect recall is when we have no false negatives, so it is a useful metric to consider when false negatives are costly.\n",
    "\n",
    "Recall is the answer to the question:\n",
    "\n",
    "> What proportion of the true labelled examples does the model correctly predict?\n",
    "\n",
    "Or in context:\n",
    "\n",
    "> Of all the people who had a malignant brain tumor, how many did the model correctly identify?\n",
    "\n",
    "While precision measures how well our model deals with false positives, recall measures how well it deals with false negatives! \n",
    "\n",
    "> Together, accuracy, recall and precision are robust metrics for performance evaluation. \n",
    "\n",
    "It is a useful measure to consider when false negatives are more costly than false positives. For instance, it is probably better that a tumour is classified as malignant even though it is not, as it will lead to further examination, than if a malignant tumour were to be classified as benign, leading to a sick person not receiving treatment.\n",
    "\n",
    "## Thought experiment\n",
    "\n",
    "Consider the same extreme example from earlier with 560 benign tumours and 9 malignant tumours. \n",
    "\n",
    "What if now, we create a model that always predicts the tumour to be malignant (positive)?\n",
    "- accuracy is now given by $\\frac{9}{569} = 2\\%$\n",
    "- precision is given by $\\frac{9}{569} = 2\\%$\n",
    "- recall now is given by $\\frac{9}{9} =100\\%$. \n",
    "\n",
    "In the previous though-experiment, going with only accuracy would have led us to misjudge the performance of the model, just as now using only recall would have the same effect.\n",
    "\n",
    "## Example\n",
    "\n",
    "Code `recall` function taking `(labels, predictions)` arguments (remember to cache `true_positive` value in order not to calculate them twice)"
   ]
  },
  {
   "cell_type": "code",
   "execution_count": 19,
   "metadata": {},
   "outputs": [
    {
     "name": "stdout",
     "output_type": "stream",
     "text": [
      "Recall (Python): 0.9444444444444444\n",
      "Recall (scikit-learn) 0.9444444444444444\n"
     ]
    }
   ],
   "source": [
    "from sklearn.metrics import recall_score\n",
    "\n",
    "def recall(labels, predictions):\n",
    "    tp = true_positive(labels, predictions)\n",
    "    return tp / (tp + false_negative(labels, predictions))\n",
    "\n",
    "print(\"Recall (Python):\", recall(Y_test, y_hat))\n",
    "print(\"Recall (scikit-learn)\", recall_score(Y_test, y_hat))"
   ]
  },
  {
   "cell_type": "markdown",
   "metadata": {},
   "source": [
    "Which, once again, reflects that our model exhibits a strong performance. Using recall and precision in parallel is already a strong way of evaluation our model on its own. \n",
    "\n",
    "> However, as they are two separate measures, we cannot use them directly to compare the performance of one model with another\n",
    "\n",
    "so instead we must come up with a metric that accounts for both the recall __AND__ precision of our model simultaneously. To do that, we'll introduce a new metric called the F1 score.\n",
    "\n",
    "## But firstly, a recap\n",
    "\n",
    "<p align=center><img src=images/precision-recall-side-by-side.png width=600></p>\n",
    "\n",
    "<p align=center><img src=images/precision_recall.png width=500></p>\n",
    "\n",
    "[Source](https://upload.wikimedia.org/wikipedia/commons/2/26/Precisionrecall.svg)"
   ]
  },
  {
   "cell_type": "markdown",
   "metadata": {},
   "source": [
    "## F1 Score\n",
    "\n",
    "The $\\mathbf{F_{1}}$ __score__, also known as the __F-score__ or __F-measure,__ is a metric that takes what is known as the harmonic mean of our precision and recall. \n",
    "\n",
    "Therefore by maximising the F1-score, we are accounting for both precision AND recall simultaneously. It is given as follows:\n",
    "\n",
    "$$\n",
    "F_{1} = 2\\cdot \\frac{\\text{precision} \\cdot \\text{recall}}{\\text{precision + recall}} = \n",
    "\\frac{\\text{TP}}{\\text{TP} + \\frac{1}{2}(\\text{FP} + \\text{FN})}\n",
    "$$\n",
    "\n",
    "Given this measure, we have a robust measure of the performance of our model, which we can use to determine what aspects of our model are lacking, and which models outperforms the others. An extension of the $F_{1}$ score is known as the $F_{\\beta}$ score, which for a given value for $\\beta$ is given as follows:\n",
    "\n",
    "$$\n",
    "F_{\\beta} = (1+\\beta^{2})\\frac{\\text{precision} \\cdot \\text{recall}}{(\\beta^{2}\\cdot\\text{precision) + recall}}\n",
    "$$\n",
    "\n",
    "While we will not implement this version of the metric in this class, it can be useful as it enables you to give different weightings to the two metrics depending on the chosen parameter value for $\\beta$. \n",
    "\n",
    "Depending on the context under which the model will be applied, you will need to optimise for different metrics. For example, when aiming to diagnose whether someone's breast cancer is:\n",
    "- malignant (positive)\n",
    "- benign (negative)\n",
    "\n",
    "it is much better to misdiagnose it as malignant (`False Positive`), which would result in further testing, than to misdiagnose it as benign (`False Negative`), and not treat someone with a deadly condition. In this context, you would choose to minimise the number of false negatives, hence give a higher weighting to your recall than your precision.\n",
    "\n",
    "Below we implement the $F_{1}$ score with Python as well as with the in-built scikit-learn function.\n",
    "\n",
    "## Example\n",
    "\n",
    "Code `f1` function taking `(labels, predictions)` arguments (remember to cache `precision` and `recall`)"
   ]
  },
  {
   "cell_type": "code",
   "execution_count": 21,
   "metadata": {},
   "outputs": [
    {
     "name": "stdout",
     "output_type": "stream",
     "text": [
      "F1 score (Python): 0.966824644549763\n",
      "F1 score (scikit-learn) 0.966824644549763\n"
     ]
    }
   ],
   "source": [
    "from sklearn.metrics import f1_score\n",
    "\n",
    "# Computing F1 score\n",
    "def f1(labels, predictions):\n",
    "    p = precision(labels, predictions)\n",
    "    r = recall(labels, predictions)\n",
    "    return 2 * (p*r) / (p+r)\n",
    "\n",
    "print(\"F1 score (Python):\", f1(Y_test, y_hat))\n",
    "print(\"F1 score (scikit-learn)\", f1_score(Y_test, y_hat))"
   ]
  },
  {
   "cell_type": "markdown",
   "metadata": {},
   "source": [
    "As shown by the four metrics we have used, our model exhibits a relatively high performance across all the different metrics, which reflects the robustness of the model.\n",
    "\n",
    "But now some of you may be thinking: \"How does any of this apply to the case of multiclass classification?\". Well, you are in luck, as the same framework as we have seen above can also be applied to non-binary cases. We will demonstrate this using the iris dataset from scikit-learn, which we upload below and fit to a multiclass logistic regression model."
   ]
  },
  {
   "cell_type": "code",
   "execution_count": 22,
   "metadata": {},
   "outputs": [],
   "source": [
    "from sklearn.datasets import load_iris\n",
    "\n",
    "# Loading iris dataset\n",
    "iris = load_iris()\n",
    "X = iris.data\n",
    "Y = iris.target\n",
    "class_names = iris.target_names\n",
    "\n",
    "X_train, X_test, Y_train, Y_test = model_selection.train_test_split(\n",
    "    X, Y, test_size=0.30, random_state=0\n",
    ")"
   ]
  },
  {
   "cell_type": "code",
   "execution_count": 24,
   "metadata": {},
   "outputs": [],
   "source": [
    "# Fitting a logistic regression model to the iris dataset\n",
    "model = LogisticRegression(random_state=0, max_iter=10000).fit(X_train, Y_train)\n",
    "y_hat = model.predict(X_test)"
   ]
  },
  {
   "cell_type": "markdown",
   "metadata": {},
   "source": [
    "The first thing we need to do is to be able to expand upon our confusion matrix so that it accounts for multiple classes rather than two. \n",
    "\n",
    "> We do this by treating each individual class as a simple case of binary classification\n",
    "\n",
    "Thanks to the in-built tools in scikit-learn, we are able to plot the confusion matrix of our iris dataset and corresponding model."
   ]
  },
  {
   "cell_type": "code",
   "execution_count": 25,
   "metadata": {},
   "outputs": [
    {
     "name": "stdout",
     "output_type": "stream",
     "text": [
      "Confusion matrix\n",
      "[[16  0  0]\n",
      " [ 0 17  1]\n",
      " [ 0  0 11]]\n"
     ]
    },
    {
     "data": {
      "image/png": "[encoded data removed]",
      "text/plain": [
       "<Figure size 432x288 with 2 Axes>"
      ]
     },
     "metadata": {
      "needs_background": "light"
     },
     "output_type": "display_data"
    }
   ],
   "source": [
    "# Visualization of confusion matrix of iris dataset\n",
    "import matplotlib.pyplot as plt\n",
    "from sklearn.metrics import plot_confusion_matrix\n",
    "\n",
    "class_names = iris.target_names\n",
    "\n",
    "title = \"Confusion matrix\"\n",
    "disp = plot_confusion_matrix(\n",
    "    model, X_test, Y_test, display_labels=class_names, cmap=plt.cm.Blues\n",
    ")\n",
    "disp.ax_.set_title(title)\n",
    "print(title)\n",
    "print(disp.confusion_matrix)\n",
    "\n",
    "plt.show()"
   ]
  },
  {
   "cell_type": "markdown",
   "metadata": {},
   "source": [
    "Now with the confusion matrix as a visual-aid, we can __'binarize'__ the problem and treat each class as a binary classification problem. For instance, we can compute the precision when classifying an observation as 'versicolor' or not as $\\frac{17}{17} = 100\\%$, to be $\\frac{16}{16} = 100\\%$ for 'setosa' and to be $\\frac{11}{11 + 1} = 91.7\\%$ for 'virgina'. \n",
    "\n",
    "Using these three metrics we can compute the average of the individual precisions to obtain the precision of the multiclassification model! We can generalize this concept and apply to the other metrics encountered. This is the simplest form of computing the multiclass precision and is known as __macro averaging,__ where all metrics have the same weight. For other forms of metric averaging, look [here](https://scikit-learn.org/stable/modules/model_evaluation.html). If we consider a multiclassification model with $N$ possible classes:\n",
    "\n",
    "$$\\text{Accuracy} = \\frac{\\text{correct predictions}}{\\text{all predictions}}$$\n",
    "\n",
    "$$\\text{Precision} = \\frac{1}{N}\\sum_{i=i}^{N}(\\text{Binary Precision})_{i} $$\n",
    "\n",
    "$$\\text{Recall} = \\frac{1}{N}\\sum_{i=i}^{N}(\\text{Binary Recall})_{i} $$\n",
    "\n",
    "The $F_{1}$ score metric can still be computed in terms of the recall and precision. Below we compute the four metrics encountered for our 'irisLogisticModel'. So that this does not become a 'black-box' concept for you, we have computed by hand the precision of our model based on the values on our confusion matrix.\n",
    "\n",
    "$$\\text{Precision} = \\frac{1}{N}\\sum_{i=i}^{N}(\\text{Binary Precision})_{i} = \\frac{1 + 1 + 0.917}{3} = 0.972 $$\n",
    "\n",
    "> In `sklearn` multiclass and binary metrics work as a single function/class"
   ]
  },
  {
   "cell_type": "code",
   "execution_count": 27,
   "metadata": {},
   "outputs": [
    {
     "name": "stdout",
     "output_type": "stream",
     "text": [
      "Accuracy: 0.9777777777777777\n",
      "Precision: 0.9722222222222222\n",
      "Recall: 0.9814814814814815\n",
      "F1 score: 0.975983436853002\n"
     ]
    }
   ],
   "source": [
    "print(\"Accuracy:\", accuracy_score(Y_test, y_hat))\n",
    "print(\"Precision:\", precision_score(Y_test, y_hat, average=\"macro\"))\n",
    "print(\"Recall:\", recall_score(Y_test, y_hat, average=\"macro\"))\n",
    "print(\"F1 score:\", f1_score(Y_test, y_hat, average=\"macro\"))"
   ]
  },
  {
   "cell_type": "markdown",
   "metadata": {},
   "source": [
    "# Regression Metrics\n",
    "\n",
    "Now that you are familiar with classification metrics, we can go over regression problems, which deal with numerical quantities rather than categorical ones.\n",
    "\n",
    "This simple fact means that __the same evaluation metrics used in classification cannot be used for regression models__. In classification metrics, we base all metrics on binary concepts such as 'correct' and 'incorrect', then binarize multiclass problems so that the same framework applies. But this does not work with regression models. \n",
    "\n",
    "## Example\n",
    "\n",
    "For instance, under a classification frame of mind, if we predict an output of 3.29742 and the true label is 3.29741, this would be classified as incorrect. What is even worse is that other predictions that are much further away would have the same categorisation. \n",
    "\n",
    "Therefore, with regression metrics, __we do not focus on whether something is correct or incorrect, but rather focus on how similar to the true label our prediction is.__"
   ]
  },
  {
   "cell_type": "code",
   "execution_count": 47,
   "metadata": {},
   "outputs": [
    {
     "name": "stdout",
     "output_type": "stream",
     "text": [
      "(354, 13) (354,) (152, 13) (152,)\n"
     ]
    }
   ],
   "source": [
    "# Loading boston dataset\n",
    "X, Y = datasets.load_boston(return_X_y=True)\n",
    "X_train, X_test, Y_train, Y_test = model_selection.train_test_split(\n",
    "    X, Y, test_size=0.3, random_state=0\n",
    ")\n",
    "print(X_train.shape, Y_train.shape, X_test.shape, Y_test.shape)"
   ]
  },
  {
   "cell_type": "code",
   "execution_count": 48,
   "metadata": {},
   "outputs": [],
   "source": [
    "# Fitting linear regression model\n",
    "myLinearModel = LinearRegression().fit(X_train, Y_train)\n",
    "y_hat = myLinearModel.predict(X_test)"
   ]
  },
  {
   "cell_type": "markdown",
   "metadata": {},
   "source": [
    "## Mean Squared Error (MSE), Root Mean Squared Error (RMSE) & Mean Absolute Error (MAE)\n",
    "\n",
    "As seen previously, one metric that can be used to measure the performance of a regression model is the __mean square error (MSE)__.\n",
    "\n",
    "We are interested in how much the prediction deviates from the label, not whether it's larger or smaller than the label, thus by squaring the errors we ensure that all terms have the same sign and the sum of any two terms can only increase our metric value. \n",
    "\n",
    "However, because it is measured in terms of the square of the original unit, a more commonly used evaluation metric is the __root mean square error (RMSE)__, which is the square root of the MSE. This is now measured in the same units as originally and thus becomes easier to interpret. They are given as follows for $N$ examples:\n",
    "\n",
    "$$MSE = \\frac{1}{N}\\sum_{i=1}^{N}(y_{i} - \\hat{y}_{i})^{2}$$\n",
    "$$RMSE = \\sqrt{MSE} = \\sqrt{\\frac{1}{N}\\sum_{i=1}^{N}(y_{i} - \\hat{y}_{i})^{2}}$$\n",
    "\n",
    "## Example\n",
    "\n",
    "Code `MSE` and `RMSE` functions taking `(predicted, targets)` arguments.\n",
    "\n",
    "__Remember to use `MSE` when computing `RMSE`!__"
   ]
  },
  {
   "cell_type": "code",
   "execution_count": 32,
   "metadata": {},
   "outputs": [
    {
     "name": "stdout",
     "output_type": "stream",
     "text": [
      "MSE (Python): 0.022222222222222223\n",
      "MSE (scikit-learn): 0.022222222222222223\n",
      "\n",
      "RMSE (Python): 0.14907119849998599\n",
      "RMSE (scikit-learn): 0.14907119849998599\n"
     ]
    }
   ],
   "source": [
    "from sklearn.metrics import mean_squared_error\n",
    "\n",
    "\n",
    "# Computing MSE and RMSE\n",
    "def MSE(targets, predicted):\n",
    "    return np.mean(np.square(targets - predicted))\n",
    "\n",
    "\n",
    "def RMSE(targets, predicted):\n",
    "    return np.sqrt(MSE(targets, predicted))\n",
    "\n",
    "\n",
    "print(\"MSE (Python):\", MSE(Y_test, y_hat))\n",
    "print(\"MSE (scikit-learn):\", mean_squared_error(Y_test, y_hat))\n",
    "print()\n",
    "print(\"RMSE (Python):\", RMSE(Y_test, y_hat))\n",
    "print(\"RMSE (scikit-learn):\", mean_squared_error(Y_test, y_hat, squared=False))"
   ]
  },
  {
   "cell_type": "markdown",
   "metadata": {},
   "source": [
    "Another deviation from the MSE and RMSE is known as the __mean absolute error (MAE)__, and is, simply put, the mean of the absolute value of the differences between every prediction and label.\n",
    "\n",
    "It is the most intuitive metric out of the three because all it means is \n",
    "\n",
    "> on average, what is the size of our deviation from the true values\n",
    "\n",
    "Below, we show how it is computed with both Python and scikit-learn.\n",
    "\n",
    "## Example\n",
    "\n",
    "Code `MAE` function"
   ]
  },
  {
   "cell_type": "code",
   "execution_count": 33,
   "metadata": {},
   "outputs": [
    {
     "name": "stdout",
     "output_type": "stream",
     "text": [
      "MAE (Python): 0.022222222222222223\n",
      "MAE (scikit-learn): 0.022222222222222223\n"
     ]
    }
   ],
   "source": [
    "from sklearn.metrics import mean_absolute_error\n",
    "\n",
    "\n",
    "# Computing MAE for our Linear Model\n",
    "def MAE(targets, predicted):\n",
    "    return np.mean(np.abs(targets - predicted))\n",
    "\n",
    "\n",
    "print(\"MAE (Python):\", MAE(Y_test, y_hat))\n",
    "print(\"MAE (scikit-learn):\", mean_absolute_error(Y_test, y_hat))"
   ]
  },
  {
   "cell_type": "markdown",
   "metadata": {},
   "source": [
    "## MAE vs MSE\n",
    "\n",
    "So which is better: RMSE or MAE? The answer is that it depends on the context. \n",
    "\n",
    "- Since we square the errors when computing the RMSE, we are automatically giving a higher weight to larger errors\n",
    "- MAE only takes their absolute value (so the difference is the same no matter the magnitude)\n",
    "\n",
    "Consider the dummy example where we are handed a list of 10 errors below, where 2 of them are far larger than the rest."
   ]
  },
  {
   "cell_type": "code",
   "execution_count": 34,
   "metadata": {},
   "outputs": [
    {
     "name": "stdout",
     "output_type": "stream",
     "text": [
      "MAE:  38.24\n",
      "RMSE:  86.32495583549407\n"
     ]
    }
   ],
   "source": [
    "# Dummy example\n",
    "errors = np.array([1.0, -2.5, -1.2, 253.4, 5.3, -6.9, -3.2, -100.9, 4.7, 3.3])\n",
    "print(\"MAE: \", np.mean(np.abs(errors)))\n",
    "print(\"RMSE: \", np.sqrt(np.mean(np.square(errors))))"
   ]
  },
  {
   "cell_type": "markdown",
   "metadata": {},
   "source": [
    "From this dummy example, we can see that larger errors will make the RMSE much larger than MAE. \n",
    "\n",
    "In fact, the larger our errors, the larger the RMSE will be in relation to the MAE.\n",
    "\n",
    "> While the MAE is much more intuitive than the RMSE, the RMSE is quite useful for punishing the model for larger errors. \n",
    "\n",
    "Nowadays, since these calculations are not done by hand, there is often no reason why we cannot use both evaluation metrics in parallel."
   ]
  },
  {
   "cell_type": "markdown",
   "metadata": {},
   "source": [
    "## R-squared (Coefficient of Determination)\n",
    "\n",
    "The __R-squared ($\\mathbf{R^{2}}$)__ is the the proportion of variance in the output that we are able to predict from the input with our model. \n",
    "\n",
    "This evaluation metric is important as it tackles a different aspect of performance from its MSE, RMSE and MAE counterparts. \n",
    "\n",
    "> We are interested in how much of the variance in the labels is explained by our model as the variation in our data is representative of the information it contains!\n",
    "\n",
    "If our model cannot account for the variance in our data, it is not painting the whole picture!\n",
    "\n",
    "So how can we calculate the $R^{2}$ of our model? The $R^{2}$ is a percentage of the variance from the data that is explained by our model. \n",
    "1. compute the variance of the model, which is equal to how much much our data deviates from the simplest possible model: the sample mean\n",
    "2. compute the mean squared error, which tells us how much the data deviates from our model. We then use the following relationship:\n",
    "\n",
    "$$\n",
    "R^{2} = 1 - \\frac{MSE}{Var(y)} = 1 - \\frac{\\sum_{i=1}^{N}(y - \\hat{y})^{2}}{\\sum_{i=1}^{N}(y - \\bar{y})^{2}}\n",
    "$$\n",
    "\n",
    "Now we have a measure that will give us 0 if the model explains as much about the variability of the model as the sample mean, and 1 if it explains 100% of the variability in our data. Below we compute the $R^{2}$ using Python as well as with the in-built scikit-learn functions for our linear model.\n",
    "\n",
    "## Example\n",
    "\n",
    "Code `R2` function. \n",
    "\n",
    "__Remember to use `MSE` we came up with previously!__"
   ]
  },
  {
   "cell_type": "code",
   "execution_count": 35,
   "metadata": {},
   "outputs": [
    {
     "name": "stdout",
     "output_type": "stream",
     "text": [
      "R2 (Python): 0.9621848739495799\n",
      "R2 (scikit-learn): 0.9621848739495799\n"
     ]
    }
   ],
   "source": [
    "from sklearn.metrics import r2_score\n",
    "\n",
    "\n",
    "# Computing R2\n",
    "def R2(targets, predicted):\n",
    "    return 1 - (MSE(targets, predicted)/np.var(targets))\n",
    "\n",
    "print(\"R2 (Python):\", R2(Y_test, y_hat))\n",
    "print(\"R2 (scikit-learn):\", r2_score(Y_test, y_hat))"
   ]
  },
  {
   "cell_type": "markdown",
   "metadata": {},
   "source": [
    "Now, besides the $R^{2}$, the other three metrics are no longer explained in terms of a percentage. \n",
    "\n",
    "How can we interpret our values for MSE, RMSE and MAE? This will depend on the model and the data you are dealing with. If you deviate by 0.7 on a dataset that varies from 0-1000, this is not a large deviation. However, if your data varies from 0-1, 0.7 is a significant deviation from the truth. Therefore, these metrics are useful for comparing different models on the same data. \n",
    "\n",
    "> If we would like to compare the performance of two different regression models who's data are on different scales, it may be useful to normalize our evaluation metrics by the range of values in our data."
   ]
  },
  {
   "cell_type": "markdown",
   "metadata": {},
   "source": [
    "# Extra: ROC & AUC"
   ]
  },
  {
   "cell_type": "markdown",
   "metadata": {},
   "source": [
    "We can now discuss one of the most powerful evaluation metrics used for classification: the __Receiver Operator Characteristic (ROC) curve__ and the __Area Under the Curve (AUC).__\n",
    "\n",
    "By 'fitting' a logistic regression model to our binary classification data, we have already found the optimal __threshold__ for the model. \n",
    "\n",
    "> In the case of our example, the threshold is the probability where greater than this probability, we consider the tumour to be malignant, and below it, where the tumour is classified as benign.\n",
    "\n",
    "However, 'optimal' threhsold may not necessarily give us the optimal model for the problem we are tackling, which is why we need evaluation metrics in the first place. \n",
    "\n",
    "Here comes the ROC curve, originaly developed for operators of military radar receivers hence the name, which gives us a visual representation of the performance of our model while operating at different thresholds.\n",
    "\n",
    "The ROC curve uses __recall__, referred to in this context as __sensitivity__ or __true positive rate__, as well as another quantity, known as __specificity,__ which is the ratio of how many observations were correctly predicted negative to how many observations were actually negative:\n",
    "\n",
    "$$ \n",
    "\\text{Specificity} = \\frac{\\text{TN}}{\\text{TN} + \\text{FP}}\n",
    "$$\n",
    "\n",
    "Given this quantity, we can define what is known as the __false positive rate__, which tells you the proportion of observations that were predicted to be malignant when they were actually benign:\n",
    "\n",
    "$$ \n",
    "\\text{FPR} = 1-\\text{Specificity} = \\frac{\\text{FP}}{\\text{TN} + \\text{FP}}\n",
    "$$\n",
    "\n",
    "Using these quantities, we can now plot our own ROC curve for our binary classification model, which is the true positive rate versus the false positive rate for all our threshold values tested!"
   ]
  },
  {
   "cell_type": "code",
   "execution_count": 41,
   "metadata": {},
   "outputs": [
    {
     "data": {
      "image/png": "[encoded data removed]",
      "text/plain": [
       "<Figure size 432x288 with 1 Axes>"
      ]
     },
     "metadata": {
      "needs_background": "light"
     },
     "output_type": "display_data"
    }
   ],
   "source": [
    "import matplotlib.pyplot as plt  # doctest: +SKIP\n",
    "from sklearn import datasets, metrics, model_selection, svm\n",
    "\n",
    "X, y = datasets.make_classification(random_state=0)\n",
    "X_train, X_test, y_train, y_test = model_selection.train_test_split(\n",
    "    X, y, random_state=0\n",
    ")\n",
    "\n",
    "clf = svm.SVC(random_state=0)\n",
    "clf.fit(X_train, y_train)\n",
    "\n",
    "metrics.plot_roc_curve(clf, X_test, y_test)\n",
    "plt.show()"
   ]
  },
  {
   "cell_type": "markdown",
   "metadata": {},
   "source": [
    "Values for FPR and TPR are taken at different thresholds and computed as points.\n",
    "\n",
    "We can also see __Area Under the Curve (AUC)__:\n",
    "\n",
    "> AUC is a measure of area under the rectangle\n",
    "\n",
    "Intuitively,\n",
    "\n",
    "> the larger area under the rectangle, the better\n",
    "\n",
    "This value allows us to easily compare models with maximum value being `1.0`"
   ]
  },
  {
   "cell_type": "markdown",
   "metadata": {},
   "source": [
    "# Assessments\n",
    "\n",
    "- How does `true positive` and other from confusion matrix look for multiclass instead of binary?\n",
    "- Check out [other possible options](https://en.wikipedia.org/wiki/Precision_and_recall) mixing confusion matrix. Implement some of them\n",
    "- Why ROC Curve always goes up towards the right side edge?\n",
    "- In our notebook we do multiple passes for precision, recall etc. Can you do that with single pass with `numpy` only?"
   ]
  }
 ],
 "metadata": {
  "interpreter": {
   "hash": "f9ca20eb9903ec819ce8e3057ea2baedc00ab0db33ca8a9c7ce80c5c8a90afde"
  },
  "kernelspec": {
   "display_name": "Python 3.6.13 64-bit ('AiCore': conda)",
   "name": "python3"
  },
  "language_info": {
   "codemirror_mode": {
    "name": "ipython",
    "version": 3
   },
   "file_extension": ".py",
   "mimetype": "text/x-python",
   "name": "python",
   "nbconvert_exporter": "python",
   "pygments_lexer": "ipython3",
   "version": "3.6.13"
  }
 },
 "nbformat": 4,
 "nbformat_minor": 4
}
