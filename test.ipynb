{
 "cells": [
  {
   "cell_type": "code",
   "execution_count": 1,
   "metadata": {},
   "outputs": [
    {
     "name": "stdout",
     "output_type": "stream",
     "text": [
      "Getting paths for MLOps\n",
      "There is no quiz in 5. Monitoring and Observability - 0. Intro to Monitoring and Observability\n",
      "There is no challenge in 5. Monitoring and Observability - 0. Intro to Monitoring and Observability\n",
      "There is no quiz in 6. MLOps Case Studies - 0. How Pinterest Powers Image Similarity\n",
      "There is no challenge in 6. MLOps Case Studies - 0. How Pinterest Powers Image Similarity\n",
      "There is no Notebook in 6. MLOps Case Studies - 0. How Pinterest Powers Image Similarity\n",
      "There is no quiz in 4. Kubeflow - 0. Intro to Kubeflow\n",
      "There is no Study Guide in 4. Kubeflow - 0. Intro to Kubeflow\n",
      "There is no quiz in 4. Kubeflow - 1. Kubeflow Pipelines\n",
      "There is no Study Guide in 4. Kubeflow - 1. Kubeflow Pipelines\n",
      "There is no challenge in 3. Feature Stores - 0. Intro to Feature Stores\n",
      "There is no challenge in 2. Data Versioning - 0. Intro to Data Versioning\n"
     ]
    }
   ],
   "source": [
    "from deploy_action.deploy_utils import PathHelper\n",
    "from deploy_action.deploy_utils import RequestHelper\n",
    "import glob\n",
    "import os\n",
    "import sys\n",
    "\n",
    "\n",
    "def read_input() -> str:\n",
    "    '''\n",
    "    Reads the argument passed through the command line\n",
    "\n",
    "    Returns:\n",
    "    --------\n",
    "    units: str\n",
    "        The name of the unit folder passed through the command line\n",
    "        If no argument is passed, the default value is \"*\" corresponding to all units\n",
    "    '''\n",
    "    if len(sys.argv) == 1:\n",
    "        print(\"Deploying the content for all the units\")\n",
    "        units = '*'\n",
    "    elif len(sys.argv) == 2:\n",
    "        print(f'Deploying content for the {sys.argv[1]} unit')\n",
    "        units = sys.argv[1]\n",
    "    else:\n",
    "        print(\"Invalid number of arguments\")\n",
    "        exit(1)\n",
    "    return units\n",
    "\n",
    "\n",
    "def get_unit_folder() -> dict:\n",
    "    '''\n",
    "    Returns a dictionary for all the units specified in the command line\n",
    "\n",
    "    Returns:\n",
    "    --------\n",
    "    pathways: dict\n",
    "        A dictionary with the name of the unit as the key and another dictionary as the value\n",
    "        The nested dictionary has the following keys:\n",
    "        - \"Modules\": a list of all the modules in the unit\n",
    "        - \"Lessons\": a list of all the lessons in the unit\n",
    "        - \"Quizzes\": a list of all the quizzes in the unit\n",
    "        - \"Challenges\": a list of all the challenges in the unit\n",
    "        - \"Study Guides\": a list of all the study guides in the unit\n",
    "    '''\n",
    "    units = glob.glob('MLOps')\n",
    "    if len(units) == 0:\n",
    "        print(\"No units found, did you specify the correct unit?\")\n",
    "        exit(1)\n",
    "    units = [u for u in units if u not in path_ignore_list]\n",
    "    pathways = {unit: {} for unit in units}\n",
    "    return pathways\n",
    "\n",
    "\n",
    "path_ignore_list = [\n",
    "    \"deploy_action\",\n",
    "]\n",
    "API_ROOT = \"https://0fdrdkgufa.execute-api.eu-west-1.amazonaws.com/prod/\"\n",
    "\n",
    "if __name__ == \"__main__\":\n",
    "    requester = RequestHelper(API_ROOT)\n",
    "    pathways = get_unit_folder()\n",
    "    # Fill the dictionary with all the directories, so if a directory is missing, the workflow will stop and exit\n",
    "    for unit in pathways:\n",
    "        print(f'Getting paths for {unit}')\n",
    "        path_helper = PathHelper(unit)\n",
    "        module_paths = path_helper.get_module_paths()\n",
    "        pathways[unit] = {m_path: {}\n",
    "                                for m_path in module_paths}\n",
    "        for module_path in pathways[unit]:\n",
    "            lesson_paths = path_helper.get_lesson_paths_in_module(module_path)\n",
    "            pathways[unit][module_path] = {l_path: {\n",
    "                                'Quiz': '',\n",
    "                                'Challenge': '',\n",
    "                                'Study Guide': '',\n",
    "                                'Notebook': ''} for l_path in lesson_paths\n",
    "            }\n",
    "\n",
    "            for lesson_path in pathways[unit][module_path]:\n",
    "                pathways[unit][module_path][lesson_path]['Quiz'] = path_helper.get_quiz_path_in_lesson(lesson_path)\n",
    "                pathways[unit][module_path][lesson_path]['Challenge'] = path_helper.get_challenge_path_in_lesson(lesson_path)\n",
    "                pathways[unit][module_path][lesson_path]['Study Guide'] = path_helper.get_study_guide_path_in_lesson(lesson_path)\n",
    "                pathways[unit][module_path][lesson_path]['Notebook'] = path_helper.get_notebook_path_in_lesson(lesson_path)\n",
    "            \n"
   ]
  },
  {
   "cell_type": "code",
   "execution_count": 22,
   "metadata": {},
   "outputs": [
    {
     "name": "stdout",
     "output_type": "stream",
     "text": [
      "405b0733-ef38-4685-ac1e-7eef4218cfca\n"
     ]
    }
   ],
   "source": [
    "import uuid\n",
    "print(uuid.uuid4())"
   ]
  },
  {
   "cell_type": "code",
   "execution_count": 19,
   "metadata": {},
   "outputs": [],
   "source": [
    "import yaml\n",
    "import urllib\n",
    "content_repo = 'AI-Core/Content-Public'\n",
    "\n",
    "\n",
    "def get_elements_in_lesson(lesson_path):\n",
    "    quiz = lesson_path['Quiz']\n",
    "    challenge = lesson_path['Challenge']\n",
    "    study_guide = lesson_path['Study Guide']\n",
    "    notebook = lesson_path['Notebook']\n",
    "    return quiz, challenge, study_guide, notebook\n",
    "\n",
    "\n",
    "for unit in pathways:\n",
    "    unit_meta = path_helper.get_meta(unit, 'unit')\n",
    "    # requester.create_or_update_unit(unit_meta)\n",
    "    for module_path in pathways[unit]:\n",
    "        module_meta = path_helper.get_meta(module_path, 'module')\n",
    "        if 'prerequisites' in module_meta:\n",
    "            prerequisite_module_ids = module_meta.pop('prerequisites') # pop off\n",
    "            prerequisite_module_ids = [p['id'] for p in prerequisite_module_ids]\n",
    "            # CREATE ROW IN PREREQUISITES TABLE\n",
    "            requester.set_prerequisites(module_meta['id'], prerequisite_module_ids)\n",
    "        module_meta[\"name\"] = module_path.split(\"/\")[-1]\n",
    "        module_meta[\"unit_id\"] = unit_meta[\"id\"]\n",
    "        print(module_meta)\n",
    "        requester.create_or_update_module(module_meta)\n",
    "        for lesson_idx, lesson_path in enumerate(pathways[unit][module_path]):\n",
    "            quiz, challenge, study_guide, notebook = get_elements_in_lesson(pathways[unit][module_path][lesson_path])\n",
    "\n",
    "            lesson_meta = path_helper.get_meta(lesson_path, \"lesson\")\n",
    "            lesson_name = lesson_path.split(\"/\")[-1]\n",
    "\n",
    "            try:\n",
    "                lesson_name = lesson_name.split(\". \")[1]\n",
    "            except:\n",
    "                print(\n",
    "                    f\"WARNING: {lesson_name} was expected to be numbered and contain '. ', but didn't\"\n",
    "                )\n",
    "            lesson_meta[\"name\"] = lesson_name\n",
    "            lesson_meta[\"idx\"] = lesson_idx\n",
    "            lesson_meta[\"module_id\"] = module_meta[\"id\"]\n",
    "            \n",
    "            # If there is a quiz, add it to the lesson\n",
    "            if quiz != 'None':\n",
    "                with open(quiz) as f:\n",
    "                    quiz = yaml.safe_load(f)\n",
    "                quiz[\"lesson_id\"] = lesson_meta[\"id\"]\n",
    "\n",
    "            if notebook != 'None':\n",
    "                colab_link = f\"https://colab.research.google.com/github/{content_repo}/blob/main/{notebook}\"\n",
    "                colab_link = urllib.parse.quote(colab_link, safe=\"%/:\")\n",
    "                lesson_meta[\"notebook_url\"] = colab_link\n",
    "\n",
    "            if study_guide != 'None':\n",
    "                with open(study_guide, \"r\") as f:\n",
    "                    lesson_meta[\"study_guide\"] = f.read()\n",
    "\n",
    "            if challenge != 'None':\n",
    "                with open(challenge, \"r\") as f:\n",
    "                    challenges = yaml.safe_load(f)\n",
    "                for challenge_idx, challenge in enumerate(challenges):\n",
    "                    challenge[\"lesson_id\"] = lesson_meta[\"id\"]\n",
    "                    challenge[\"idx_in_lesson\"] = challenge_idx\n",
    "                    try:\n",
    "                        requester.create_or_update_challenge(challenge)\n",
    "                    except AssertionError:\n",
    "                        print(f'Creating challenge \"{challenge[\"name\"]}\" failed')"
   ]
  },
  {
   "cell_type": "code",
   "execution_count": 21,
   "metadata": {},
   "outputs": [
    {
     "data": {
      "text/plain": [
       "{'id': '2313f414-2185-4a1b-a3dc-27a7556dae09',\n",
       " 'name': 'Data versioning cats and dogs',\n",
       " 'description': 'Work through the cats and dogs example provided by DVC [here](https://dvc.org/doc/use-cases/versioning-data-and-model-files/tutorial)\\n',\n",
       " 'lesson_id': '842f1a3f-4a29-49ed-bddb-f5ccf6494396',\n",
       " 'idx_in_lesson': 1}"
      ]
     },
     "execution_count": 21,
     "metadata": {},
     "output_type": "execute_result"
    }
   ],
   "source": [
    "challenge"
   ]
  },
  {
   "cell_type": "code",
   "execution_count": null,
   "metadata": {},
   "outputs": [],
   "source": []
  }
 ],
 "metadata": {
  "interpreter": {
   "hash": "ce99af5845ff7f417c6fe57e3883abe41597db90e3f493c4f9da5159bbc46102"
  },
  "kernelspec": {
   "display_name": "Python 3.9.5 ('base')",
   "language": "python",
   "name": "python3"
  },
  "language_info": {
   "codemirror_mode": {
    "name": "ipython",
    "version": 3
   },
   "file_extension": ".py",
   "mimetype": "text/x-python",
   "name": "python",
   "nbconvert_exporter": "python",
   "pygments_lexer": "ipython3",
   "version": "3.9.5"
  },
  "orig_nbformat": 4
 },
 "nbformat": 4,
 "nbformat_minor": 2
}
